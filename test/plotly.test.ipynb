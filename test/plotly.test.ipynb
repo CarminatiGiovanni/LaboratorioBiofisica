{
 "cells": [
  {
   "cell_type": "code",
   "execution_count": 8,
   "metadata": {},
   "outputs": [
    {
     "data": {
      "application/vnd.plotly.v1+json": {
       "config": {
        "plotlyServerURL": "https://plot.ly"
       },
       "data": [
        {
         "line": {
          "color": "red",
          "width": 2
         },
         "name": "error bar",
         "type": "scatter",
         "x": {
          "bdata": "AAAAAAAA8L8Fav1KgVrvvwrU+pUCte6/ED744IMP7r8VqPUrBWrtvxoS83aGxOy/H3zwwQcf7L8k5u0MiXnrvylQ61cK1Oq/Lrrooosu6r80JObtDInpvzmO4ziO4+i/Pvjggw8+6L9DYt7OkJjnv0jM2xkS8+a/TjbZZJNN5r9SoNavFKjlv1gK1PqVAuW/XXTRRRdd5L9i3s6QmLfjv2dIzNsZEuO/bLLJJpts4r9yHMdxHMfhv3aGxLydIeG/fPDBBx984L8CtX6lQK3fvwyJeTtDYt6/Fl100UUX3b8gMW9nSMzbvywFav1Kgdq/Ntlkk0022b9ArV8pUOvXv0qBWr9SoNa/VFVVVVVV1b9eKVDrVwrUv2j9SoFav9K/dNFFF1100b9+pUCtXynQvxDzdobEvM2/JJtssskmy784Q2LezpDIv0zrVwrU+sW/ZJNNNtlkw794O0Ni3s7AvxjHcRzHcby/QBdddNFFt79oZ0jM2xmyvyBvZ0jM26m/AB988MEHn79Av1Kg1q+Ev4C/UqDWr4Q/QB988MEHnz9Ab2dIzNupP3BnSMzbGbI/UBdddNFFtz8gx3Ecx3G8P4A7Q2LezsA/aJNNNtlkwz9Q61cK1PrFP0BDYt7OkMg/KJtssskmyz8Y83aGxLzNP4ClQK1fKdA/eNFFF1100T9s/UqBWr/SP2ApUOtXCtQ/WFVVVVVV1T9MgVq/UqDWP0StXylQ69c/ONlkk0022T8wBWr9SoHaPyQxb2dIzNs/GF100UUX3T8QiXk7Q2LePwS1fqVArd8/fvDBBx984D94hsS8nSHhP3Icx3Ecx+E/brLJJpts4j9oSMzbGRLjP2TezpCYt+M/XnTRRRdd5D9aCtT6lQLlP1Sg1q8UqOU/TjbZZJNN5j9KzNsZEvPmP0Ri3s6QmOc/QPjggw8+6D86juM4juPoPzYk5u0Miek/MLrooosu6j8qUOtXCtTqPybm7QyJees/IHzwwQcf7D8cEvN2hsTsPxao9SsFau0/ED744IMP7j8M1PqVArXuPwZq/UqBWu8/AAAAAAAA8D8=",
          "dtype": "f8"
         },
         "y": {
          "bdata": "0c01rq94hjwtOWMwZxmVP3/PnVsDgKU/WpjIAqFqsD+Uvup0uEO2P/+tknChSLw/Bqqa3Uc7wT81JqWUSWXEP6BzJ7nMoMc/mbLJEDjsyj/N9jVR40XOPzXIkRkM1tA/HWvFyImO0j/URBZKg0vUP6T8RvILDNY/aeRAdjLP1z/FX6aOAZTZP/EdN5+AWds/3nmGYbQe3T8KP4GSn+LeP2G0HtEhUuA/RxrGslAx4T8DimLkXA7iPxZXn0HH6OI/hht1ZRHA4z92d8IDvpPkP8HLaUJRY+U/kxCuEVEu5j+jW4mDRfTmPwJXuCG5tOc/Z882Qjlv6D+Un+pZViPpPyCVO02k0Ok/n3dYvrp26j/iHetYNRXrP1Rz/xq0q+s/M3jjmts57D/0oMhJVb/sP+iA8bLPO+0/I2E5t/6u7T8zQ8bEmxjuP33WuApmeO4/5RKxqCLO7j/VegHanBnvP1l1bhymWu8/aL1aUhaR7z9tiUXgy7zvP6XLgsWr3e8/2rwZsKHz7z8TxbkLoP7vPxPFuQug/u8/2rwZsKHz7z+ly4LFq93vP22JReDLvO8/Z71aUhaR7z9ZdW4cplrvP9R6AdqcGe8/5BKxqCLO7j971rgKZnjuPzJDxsSbGO4/ImE5t/6u7T/mgPGyzzvtP/KgyElVv+w/Mnjjmts57D9Sc/8atKvrP+Id61g1Fes/nXdYvrp26j8elTtNpNDpP5Gf6llWI+k/Zc82Qjlv6D8AV7ghubTnP6FbiYNF9OY/khCuEVEu5j+/y2lCUWPlP3V3wgO+k+Q/hBt1ZRHA4z8UV59Bx+jiPwOKYuRcDuI/RBrGslAx4T9ftB7RIVLgPwU/gZKf4t4/2nmGYbQe3T/qHTefgFnbP75fpo4BlNk/aeRAdjLP1z+d/EbyCwzWP9FEFkqDS9Q/GmvFyImO0j8yyJEZDNbQP8H2NVHjRc4/k7LJEDjsyj+gcye5zKDHPykmpZRJZcQ//6ma3Uc7wT/nrZJwoUi8P4i+6nS4Q7Y/WpjIAqFqsD9pz51bA4ClPwM5YzBnGZU/0c01rq94hjw=",
          "dtype": "f8"
         }
        },
        {
         "error_x": {
          "array": [
           0.1,
           0.2,
           0.1,
           0.3,
           0.1
          ],
          "color": "blue",
          "thickness": 1.5,
          "type": "data",
          "width": 3
         },
         "error_y": {
          "color": "green",
          "thickness": 1.5,
          "type": "constant",
          "value": 0.1,
          "width": 3
         },
         "marker": {
          "color": "green",
          "size": 8
         },
         "mode": "markers",
         "name": "measured",
         "type": "scatter",
         "x": [
          -0.89,
          -0.24,
          0,
          0.41,
          0.89
         ],
         "y": [
          0.36,
          0.75,
          1.03,
          0.65,
          0.28
         ]
        }
       ],
       "layout": {
        "template": {
         "data": {
          "bar": [
           {
            "error_x": {
             "color": "#2a3f5f"
            },
            "error_y": {
             "color": "#2a3f5f"
            },
            "marker": {
             "line": {
              "color": "#E5ECF6",
              "width": 0.5
             },
             "pattern": {
              "fillmode": "overlay",
              "size": 10,
              "solidity": 0.2
             }
            },
            "type": "bar"
           }
          ],
          "barpolar": [
           {
            "marker": {
             "line": {
              "color": "#E5ECF6",
              "width": 0.5
             },
             "pattern": {
              "fillmode": "overlay",
              "size": 10,
              "solidity": 0.2
             }
            },
            "type": "barpolar"
           }
          ],
          "carpet": [
           {
            "aaxis": {
             "endlinecolor": "#2a3f5f",
             "gridcolor": "white",
             "linecolor": "white",
             "minorgridcolor": "white",
             "startlinecolor": "#2a3f5f"
            },
            "baxis": {
             "endlinecolor": "#2a3f5f",
             "gridcolor": "white",
             "linecolor": "white",
             "minorgridcolor": "white",
             "startlinecolor": "#2a3f5f"
            },
            "type": "carpet"
           }
          ],
          "choropleth": [
           {
            "colorbar": {
             "outlinewidth": 0,
             "ticks": ""
            },
            "type": "choropleth"
           }
          ],
          "contour": [
           {
            "colorbar": {
             "outlinewidth": 0,
             "ticks": ""
            },
            "colorscale": [
             [
              0,
              "#0d0887"
             ],
             [
              0.1111111111111111,
              "#46039f"
             ],
             [
              0.2222222222222222,
              "#7201a8"
             ],
             [
              0.3333333333333333,
              "#9c179e"
             ],
             [
              0.4444444444444444,
              "#bd3786"
             ],
             [
              0.5555555555555556,
              "#d8576b"
             ],
             [
              0.6666666666666666,
              "#ed7953"
             ],
             [
              0.7777777777777778,
              "#fb9f3a"
             ],
             [
              0.8888888888888888,
              "#fdca26"
             ],
             [
              1,
              "#f0f921"
             ]
            ],
            "type": "contour"
           }
          ],
          "contourcarpet": [
           {
            "colorbar": {
             "outlinewidth": 0,
             "ticks": ""
            },
            "type": "contourcarpet"
           }
          ],
          "heatmap": [
           {
            "colorbar": {
             "outlinewidth": 0,
             "ticks": ""
            },
            "colorscale": [
             [
              0,
              "#0d0887"
             ],
             [
              0.1111111111111111,
              "#46039f"
             ],
             [
              0.2222222222222222,
              "#7201a8"
             ],
             [
              0.3333333333333333,
              "#9c179e"
             ],
             [
              0.4444444444444444,
              "#bd3786"
             ],
             [
              0.5555555555555556,
              "#d8576b"
             ],
             [
              0.6666666666666666,
              "#ed7953"
             ],
             [
              0.7777777777777778,
              "#fb9f3a"
             ],
             [
              0.8888888888888888,
              "#fdca26"
             ],
             [
              1,
              "#f0f921"
             ]
            ],
            "type": "heatmap"
           }
          ],
          "histogram": [
           {
            "marker": {
             "pattern": {
              "fillmode": "overlay",
              "size": 10,
              "solidity": 0.2
             }
            },
            "type": "histogram"
           }
          ],
          "histogram2d": [
           {
            "colorbar": {
             "outlinewidth": 0,
             "ticks": ""
            },
            "colorscale": [
             [
              0,
              "#0d0887"
             ],
             [
              0.1111111111111111,
              "#46039f"
             ],
             [
              0.2222222222222222,
              "#7201a8"
             ],
             [
              0.3333333333333333,
              "#9c179e"
             ],
             [
              0.4444444444444444,
              "#bd3786"
             ],
             [
              0.5555555555555556,
              "#d8576b"
             ],
             [
              0.6666666666666666,
              "#ed7953"
             ],
             [
              0.7777777777777778,
              "#fb9f3a"
             ],
             [
              0.8888888888888888,
              "#fdca26"
             ],
             [
              1,
              "#f0f921"
             ]
            ],
            "type": "histogram2d"
           }
          ],
          "histogram2dcontour": [
           {
            "colorbar": {
             "outlinewidth": 0,
             "ticks": ""
            },
            "colorscale": [
             [
              0,
              "#0d0887"
             ],
             [
              0.1111111111111111,
              "#46039f"
             ],
             [
              0.2222222222222222,
              "#7201a8"
             ],
             [
              0.3333333333333333,
              "#9c179e"
             ],
             [
              0.4444444444444444,
              "#bd3786"
             ],
             [
              0.5555555555555556,
              "#d8576b"
             ],
             [
              0.6666666666666666,
              "#ed7953"
             ],
             [
              0.7777777777777778,
              "#fb9f3a"
             ],
             [
              0.8888888888888888,
              "#fdca26"
             ],
             [
              1,
              "#f0f921"
             ]
            ],
            "type": "histogram2dcontour"
           }
          ],
          "mesh3d": [
           {
            "colorbar": {
             "outlinewidth": 0,
             "ticks": ""
            },
            "type": "mesh3d"
           }
          ],
          "parcoords": [
           {
            "line": {
             "colorbar": {
              "outlinewidth": 0,
              "ticks": ""
             }
            },
            "type": "parcoords"
           }
          ],
          "pie": [
           {
            "automargin": true,
            "type": "pie"
           }
          ],
          "scatter": [
           {
            "fillpattern": {
             "fillmode": "overlay",
             "size": 10,
             "solidity": 0.2
            },
            "type": "scatter"
           }
          ],
          "scatter3d": [
           {
            "line": {
             "colorbar": {
              "outlinewidth": 0,
              "ticks": ""
             }
            },
            "marker": {
             "colorbar": {
              "outlinewidth": 0,
              "ticks": ""
             }
            },
            "type": "scatter3d"
           }
          ],
          "scattercarpet": [
           {
            "marker": {
             "colorbar": {
              "outlinewidth": 0,
              "ticks": ""
             }
            },
            "type": "scattercarpet"
           }
          ],
          "scattergeo": [
           {
            "marker": {
             "colorbar": {
              "outlinewidth": 0,
              "ticks": ""
             }
            },
            "type": "scattergeo"
           }
          ],
          "scattergl": [
           {
            "marker": {
             "colorbar": {
              "outlinewidth": 0,
              "ticks": ""
             }
            },
            "type": "scattergl"
           }
          ],
          "scattermap": [
           {
            "marker": {
             "colorbar": {
              "outlinewidth": 0,
              "ticks": ""
             }
            },
            "type": "scattermap"
           }
          ],
          "scattermapbox": [
           {
            "marker": {
             "colorbar": {
              "outlinewidth": 0,
              "ticks": ""
             }
            },
            "type": "scattermapbox"
           }
          ],
          "scatterpolar": [
           {
            "marker": {
             "colorbar": {
              "outlinewidth": 0,
              "ticks": ""
             }
            },
            "type": "scatterpolar"
           }
          ],
          "scatterpolargl": [
           {
            "marker": {
             "colorbar": {
              "outlinewidth": 0,
              "ticks": ""
             }
            },
            "type": "scatterpolargl"
           }
          ],
          "scatterternary": [
           {
            "marker": {
             "colorbar": {
              "outlinewidth": 0,
              "ticks": ""
             }
            },
            "type": "scatterternary"
           }
          ],
          "surface": [
           {
            "colorbar": {
             "outlinewidth": 0,
             "ticks": ""
            },
            "colorscale": [
             [
              0,
              "#0d0887"
             ],
             [
              0.1111111111111111,
              "#46039f"
             ],
             [
              0.2222222222222222,
              "#7201a8"
             ],
             [
              0.3333333333333333,
              "#9c179e"
             ],
             [
              0.4444444444444444,
              "#bd3786"
             ],
             [
              0.5555555555555556,
              "#d8576b"
             ],
             [
              0.6666666666666666,
              "#ed7953"
             ],
             [
              0.7777777777777778,
              "#fb9f3a"
             ],
             [
              0.8888888888888888,
              "#fdca26"
             ],
             [
              1,
              "#f0f921"
             ]
            ],
            "type": "surface"
           }
          ],
          "table": [
           {
            "cells": {
             "fill": {
              "color": "#EBF0F8"
             },
             "line": {
              "color": "white"
             }
            },
            "header": {
             "fill": {
              "color": "#C8D4E3"
             },
             "line": {
              "color": "white"
             }
            },
            "type": "table"
           }
          ]
         },
         "layout": {
          "annotationdefaults": {
           "arrowcolor": "#2a3f5f",
           "arrowhead": 0,
           "arrowwidth": 1
          },
          "autotypenumbers": "strict",
          "coloraxis": {
           "colorbar": {
            "outlinewidth": 0,
            "ticks": ""
           }
          },
          "colorscale": {
           "diverging": [
            [
             0,
             "#8e0152"
            ],
            [
             0.1,
             "#c51b7d"
            ],
            [
             0.2,
             "#de77ae"
            ],
            [
             0.3,
             "#f1b6da"
            ],
            [
             0.4,
             "#fde0ef"
            ],
            [
             0.5,
             "#f7f7f7"
            ],
            [
             0.6,
             "#e6f5d0"
            ],
            [
             0.7,
             "#b8e186"
            ],
            [
             0.8,
             "#7fbc41"
            ],
            [
             0.9,
             "#4d9221"
            ],
            [
             1,
             "#276419"
            ]
           ],
           "sequential": [
            [
             0,
             "#0d0887"
            ],
            [
             0.1111111111111111,
             "#46039f"
            ],
            [
             0.2222222222222222,
             "#7201a8"
            ],
            [
             0.3333333333333333,
             "#9c179e"
            ],
            [
             0.4444444444444444,
             "#bd3786"
            ],
            [
             0.5555555555555556,
             "#d8576b"
            ],
            [
             0.6666666666666666,
             "#ed7953"
            ],
            [
             0.7777777777777778,
             "#fb9f3a"
            ],
            [
             0.8888888888888888,
             "#fdca26"
            ],
            [
             1,
             "#f0f921"
            ]
           ],
           "sequentialminus": [
            [
             0,
             "#0d0887"
            ],
            [
             0.1111111111111111,
             "#46039f"
            ],
            [
             0.2222222222222222,
             "#7201a8"
            ],
            [
             0.3333333333333333,
             "#9c179e"
            ],
            [
             0.4444444444444444,
             "#bd3786"
            ],
            [
             0.5555555555555556,
             "#d8576b"
            ],
            [
             0.6666666666666666,
             "#ed7953"
            ],
            [
             0.7777777777777778,
             "#fb9f3a"
            ],
            [
             0.8888888888888888,
             "#fdca26"
            ],
            [
             1,
             "#f0f921"
            ]
           ]
          },
          "colorway": [
           "#636efa",
           "#EF553B",
           "#00cc96",
           "#ab63fa",
           "#FFA15A",
           "#19d3f3",
           "#FF6692",
           "#B6E880",
           "#FF97FF",
           "#FECB52"
          ],
          "font": {
           "color": "#2a3f5f"
          },
          "geo": {
           "bgcolor": "white",
           "lakecolor": "white",
           "landcolor": "#E5ECF6",
           "showlakes": true,
           "showland": true,
           "subunitcolor": "white"
          },
          "hoverlabel": {
           "align": "left"
          },
          "hovermode": "closest",
          "mapbox": {
           "style": "light"
          },
          "paper_bgcolor": "white",
          "plot_bgcolor": "#E5ECF6",
          "polar": {
           "angularaxis": {
            "gridcolor": "white",
            "linecolor": "white",
            "ticks": ""
           },
           "bgcolor": "#E5ECF6",
           "radialaxis": {
            "gridcolor": "white",
            "linecolor": "white",
            "ticks": ""
           }
          },
          "scene": {
           "xaxis": {
            "backgroundcolor": "#E5ECF6",
            "gridcolor": "white",
            "gridwidth": 2,
            "linecolor": "white",
            "showbackground": true,
            "ticks": "",
            "zerolinecolor": "white"
           },
           "yaxis": {
            "backgroundcolor": "#E5ECF6",
            "gridcolor": "white",
            "gridwidth": 2,
            "linecolor": "white",
            "showbackground": true,
            "ticks": "",
            "zerolinecolor": "white"
           },
           "zaxis": {
            "backgroundcolor": "#E5ECF6",
            "gridcolor": "white",
            "gridwidth": 2,
            "linecolor": "white",
            "showbackground": true,
            "ticks": "",
            "zerolinecolor": "white"
           }
          },
          "shapedefaults": {
           "line": {
            "color": "#2a3f5f"
           }
          },
          "ternary": {
           "aaxis": {
            "gridcolor": "white",
            "linecolor": "white",
            "ticks": ""
           },
           "baxis": {
            "gridcolor": "white",
            "linecolor": "white",
            "ticks": ""
           },
           "bgcolor": "#E5ECF6",
           "caxis": {
            "gridcolor": "white",
            "linecolor": "white",
            "ticks": ""
           }
          },
          "title": {
           "x": 0.05
          },
          "xaxis": {
           "automargin": true,
           "gridcolor": "white",
           "linecolor": "white",
           "ticks": "",
           "title": {
            "standoff": 15
           },
           "zerolinecolor": "white",
           "zerolinewidth": 2
          },
          "yaxis": {
           "automargin": true,
           "gridcolor": "white",
           "linecolor": "white",
           "ticks": "",
           "title": {
            "standoff": 15
           },
           "zerolinecolor": "white",
           "zerolinewidth": 2
          }
         }
        }
       }
      }
     },
     "metadata": {},
     "output_type": "display_data"
    }
   ],
   "source": [
    "import plotly.express as px \n",
    "import plotly.graph_objects as go \n",
    "import numpy as np \n",
    "\n",
    "X = np.linspace(-1, 1, 100) \n",
    "Y = np.sinc(X) \n",
    "\n",
    "x = [-0.89, -0.24, -0.0, 0.41, 0.89, ] \n",
    "y = [0.36, 0.75, 1.03, 0.65, 0.28, ] \n",
    "xe = [0.1, 0.2, 0.1, 0.3, 0.1, ]\n",
    "\n",
    "fig = go.Figure() \n",
    "fig.add_trace(go.Scatter( \n",
    "\tx=X, y=Y, \n",
    "\tname='error bar',\n",
    "    line = dict(color='red', width=2)\n",
    ")) \n",
    "\n",
    "fig.add_trace(go.Scatter( \n",
    "\tx=x, y=y, \n",
    "\tmode='markers', \n",
    "\tname='measured', \n",
    "\terror_y=dict( \n",
    "\t\ttype='constant', \n",
    "\t\tvalue=0.1, \n",
    "\t\tcolor='green', \n",
    "\t\tthickness=1.5, \n",
    "\t\twidth=3, \n",
    "\t), \n",
    "\terror_x=dict( \n",
    "\t\ttype='data', \n",
    "\t\tarray=xe, \n",
    "\t\tcolor='blue', \n",
    "\t\tthickness=1.5, \n",
    "\t\twidth=3, \n",
    "\t), \n",
    "\tmarker=dict(color='green', size=8) \n",
    ")) \n",
    "\n",
    "fig.show() \n"
   ]
  }
 ],
 "metadata": {
  "kernelspec": {
   "display_name": "Python 3",
   "language": "python",
   "name": "python3"
  },
  "language_info": {
   "codemirror_mode": {
    "name": "ipython",
    "version": 3
   },
   "file_extension": ".py",
   "mimetype": "text/x-python",
   "name": "python",
   "nbconvert_exporter": "python",
   "pygments_lexer": "ipython3",
   "version": "3.13.0"
  }
 },
 "nbformat": 4,
 "nbformat_minor": 2
}
