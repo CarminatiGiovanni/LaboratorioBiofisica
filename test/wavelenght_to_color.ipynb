{
 "cells": [
  {
   "cell_type": "code",
   "execution_count": 1,
   "metadata": {},
   "outputs": [
    {
     "data": {
      "image/png": "[encoded data removed]",
      "text/plain": [
       "<Figure size 200x200 with 1 Axes>"
      ]
     },
     "metadata": {},
     "output_type": "display_data"
    }
   ],
   "source": [
    "from wavelen2rgb import wavelen2rgb\n",
    "import matplotlib.pyplot as plt\n",
    "\n",
    "color = wavelen2rgb(633)\n",
    "color = [c / 255 for c in color] + [1.0]\n",
    "fig, ax = plt.subplots(figsize=(2, 2))\n",
    "ax.add_patch(plt.Rectangle((0, 0), 1, 1, color=color))\n",
    "ax.set_xlim(0, 1)\n",
    "ax.set_ylim(0, 1)\n",
    "ax.axis('off')\n",
    "plt.show()"
   ]
  }
 ],
 "metadata": {
  "kernelspec": {
   "display_name": "Python 3",
   "language": "python",
   "name": "python3"
  },
  "language_info": {
   "codemirror_mode": {
    "name": "ipython",
    "version": 3
   },
   "file_extension": ".py",
   "mimetype": "text/x-python",
   "name": "python",
   "nbconvert_exporter": "python",
   "pygments_lexer": "ipython3",
   "version": "3.13.0"
  }
 },
 "nbformat": 4,
 "nbformat_minor": 2
}
