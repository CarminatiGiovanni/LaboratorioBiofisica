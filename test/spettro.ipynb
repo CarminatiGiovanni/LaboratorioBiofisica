{
 "cells": [
  {
   "cell_type": "code",
   "execution_count": 6,
   "metadata": {},
   "outputs": [
    {
     "ename": "ModuleNotFoundError",
     "evalue": "No module named 'colormodels'",
     "output_type": "error",
     "traceback": [
      "\u001b[1;31m---------------------------------------------------------------------------\u001b[0m",
      "\u001b[1;31mModuleNotFoundError\u001b[0m                       Traceback (most recent call last)",
      "Cell \u001b[1;32mIn[6], line 2\u001b[0m\n\u001b[0;32m      1\u001b[0m \u001b[38;5;28;01mimport\u001b[39;00m \u001b[38;5;21;01mcolorpy\u001b[39;00m\n\u001b[1;32m----> 2\u001b[0m \u001b[38;5;28;01mimport\u001b[39;00m \u001b[38;5;21;01mcolorpy\u001b[39;00m\u001b[38;5;21;01m.\u001b[39;00m\u001b[38;5;21;01mciexyz\u001b[39;00m \u001b[38;5;28;01mas\u001b[39;00m \u001b[38;5;21;01mciexyz\u001b[39;00m\n",
      "File \u001b[1;32m~\\AppData\\Roaming\\Python\\Python313\\site-packages\\colorpy\\ciexyz.py:121\u001b[0m\n\u001b[0;32m      1\u001b[0m \u001b[38;5;124;03m'''\u001b[39;00m\n\u001b[0;32m      2\u001b[0m \u001b[38;5;124;03mciexyz.py - Spectral response curves for 1931 CIE XYZ 2 degree field of view matching functions.\u001b[39;00m\n\u001b[0;32m      3\u001b[0m \n\u001b[1;32m   (...)\u001b[0m\n\u001b[0;32m    117\u001b[0m \u001b[38;5;124;03malong with ColorPy.  If not, see <http://www.gnu.org/licenses/>.\u001b[39;00m\n\u001b[0;32m    118\u001b[0m \u001b[38;5;124;03m'''\u001b[39;00m\n\u001b[0;32m    119\u001b[0m \u001b[38;5;28;01mimport\u001b[39;00m \u001b[38;5;21;01mmath\u001b[39;00m\u001b[38;5;241m,\u001b[39m \u001b[38;5;21;01mnumpy\u001b[39;00m\n\u001b[1;32m--> 121\u001b[0m \u001b[38;5;28;01mimport\u001b[39;00m \u001b[38;5;21;01mcolormodels\u001b[39;00m\n\u001b[0;32m    123\u001b[0m \u001b[38;5;66;03m# Assumed physical brightness of the monitor [W/m^2]\u001b[39;00m\n\u001b[0;32m    124\u001b[0m \u001b[38;5;66;03m#   80 cd/m^2 * 20.3 mW/cd (assuming light at 556 nm)\u001b[39;00m\n\u001b[0;32m    125\u001b[0m DEFAULT_DISPLAY_INTENSITY \u001b[38;5;241m=\u001b[39m \u001b[38;5;241m1.624\u001b[39m\n",
      "\u001b[1;31mModuleNotFoundError\u001b[0m: No module named 'colormodels'"
     ]
    }
   ],
   "source": [
    "import colorpy\n",
    "import colorpy.ciexyz as ciexyz"
   ]
  },
  {
   "cell_type": "code",
   "execution_count": 1,
   "metadata": {},
   "outputs": [],
   "source": [
    "def blackbody_spectrum (T_K):\n",
    "    '''Get the spectrum of a blackbody, as a numpy array.'''\n",
    "    spectrum = ciexyz.empty_spectrum()\n",
    "    (num_rows, num_cols) = spectrum.shape\n",
    "    for i in xrange (0, num_rows):\n",
    "        specific_intensity = blackbody_specific_intensity (spectrum [i][0], T_K)\n",
    "        # scale by size of wavelength interval\n",
    "        spectrum [i][1] = specific_intensity * ciexyz.delta_wl_nm * 1.0e-9\n",
    "    return spectrum"
   ]
  }
 ],
 "metadata": {
  "kernelspec": {
   "display_name": "Python 3",
   "language": "python",
   "name": "python3"
  },
  "language_info": {
   "codemirror_mode": {
    "name": "ipython",
    "version": 3
   },
   "file_extension": ".py",
   "mimetype": "text/x-python",
   "name": "python",
   "nbconvert_exporter": "python",
   "pygments_lexer": "ipython3",
   "version": "3.13.0"
  }
 },
 "nbformat": 4,
 "nbformat_minor": 2
}
