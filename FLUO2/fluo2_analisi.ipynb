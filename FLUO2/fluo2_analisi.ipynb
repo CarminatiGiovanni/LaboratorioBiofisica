{
 "cells": [
  {
   "cell_type": "code",
   "execution_count": 42,
   "metadata": {},
   "outputs": [],
   "source": [
    "from matplotlib import pyplot as plt\n",
    "import numpy as np\n",
    "import pandas as pd\n",
    "import plotly.express as px\n",
    "import os\n",
    "import sys\n",
    "import plotly.graph_objects as go \n",
    "dir_path = os.path.abspath('')\n",
    "sys.path.append(dir_path + '/../')\n",
    "from labbiofisica import Interpolazione, final_val\n",
    "from plotly.colors import sequential\n",
    "from scipy.optimize import curve_fit\n",
    "from scipy.stats import chi2"
   ]
  },
  {
   "cell_type": "code",
   "execution_count": 43,
   "metadata": {},
   "outputs": [],
   "source": [
    "def read(filename):\n",
    "    df = pd.read_csv(filename, skiprows = 2, nrows = 151, sep = ',', header = None)\n",
    "    df.dropna(axis = 1, inplace = True)  # Drop columns with NaN values\n",
    "    df.reset_index(drop = True, inplace = True)  # Reset index\n",
    "    df.columns = ['w0', 'I0', 'w1', 'I1', 'w2', 'I2', 'w3', 'I3', 'w4', 'I4', 'w5', 'I5']\n",
    "    return df"
   ]
  },
  {
   "cell_type": "code",
   "execution_count": 44,
   "metadata": {},
   "outputs": [],
   "source": [
    "# concentrazioni\n",
    "\n",
    "concentrazioni = np.array([0, 1.569, 3.085, 4.602, 6.189, 7.733]) # M"
   ]
  },
  {
   "cell_type": "code",
   "execution_count": 45,
   "metadata": {},
   "outputs": [],
   "source": [
    "def plottiamo(data):\n",
    "    fig = go.Figure()\n",
    "    colors = sequential.Sunsetdark_r[:6]\n",
    "\n",
    "    for i in range(6):\n",
    "        fig.add_trace(go.Scatter(\n",
    "            x = data[f'w{i}'], \n",
    "            y = data[f'I{i}'], \n",
    "            mode = 'lines', \n",
    "            name = f'{np.round(concentrazioni[i],2)}M',\n",
    "            line = dict(color = colors[i])\n",
    "        ))\n",
    "\n",
    "    fig.update_layout( \n",
    "        xaxis_title = \"λ [nm]\",\n",
    "        yaxis_title = \"Intensità di fluorescenza\",\n",
    "        template = \"plotly_white\",\n",
    "        height = 500,\n",
    "        width = 800,\n",
    "        legend=dict(\n",
    "            x=1,\n",
    "            y=1,\n",
    "            xanchor='right',\n",
    "            yanchor='top'\n",
    "        )\n",
    "    )\n",
    "    return fig"
   ]
  },
  {
   "cell_type": "code",
   "execution_count": 46,
   "metadata": {},
   "outputs": [
    {
     "data": {
      "application/vnd.plotly.v1+json": {
       "config": {
        "plotlyServerURL": "https://plot.ly"
       },
       "data": [
        {
         "line": {
          "color": "rgb(124, 29, 111)"
         },
         "mode": "lines",
         "name": "0.0M",
         "type": "scatter",
         "x": {
          "bdata": "AAAAAADAckBNgAZA4c5yQLWOBeB64HJAAg8MIFzvckBqHQvA9QBzQAAAAAAAEHNATYAGQOEec0C1jgXgejBzQAIPDCBcP3NAah0LwPVQc0AAAAAAAGBzQE2ABkDhbnNAtY4F4HqAc0ACDwwgXI9zQGodC8D1oHNAAAAAAACwc0BNgAZA4b5zQLWOBeB60HNAAg8MIFzfc0BqHQvA9fBzQAAAAAAAAHRAs3/5vx4RdEAAAAAAACB0QLN/+b8eMXRAAAAAAABAdECzf/m/HlF0QAAAAAAAYHRAs3/5vx5xdEAAAAAAAIB0QLN/+b8ekXRAAAAAAACgdEBNgAZA4a50QLWOBeB6wHRAAg8MIFzPdEBqHQvA9eB0QAAAAAAA8HRATYAGQOH+dEC1jgXgehB1QAIPDCBcH3VAah0LwPUwdUAAAAAAAEB1QLN/+b8eUXVAAAAAAABgdUCzf/m/HnF1QAAAAAAAgHVAs3/5vx6RdUAAAAAAAKB1QLN/+b8esXVAAAAAAADAdUCzf/m/HtF1QAAAAAAA4HVAs3/5vx7xdUAAAAAAAAB2QLN/+b8eEXZAAAAAAAAgdkCzf/m/HjF2QAAAAAAAQHZAs3/5vx5RdkAAAAAAAGB2QLN/+b8ecXZAAAAAAACAdkCzf/m/HpF2QAAAAAAAoHZAs3/5vx6xdkAAAAAAAMB2QLN/+b8e0XZAAAAAAADgdkCzf/m/HvF2QAAAAAAAAHdAs3/5vx4Rd0AAAAAAACB3QLN/+b8eMXdAAAAAAABAd0Czf/m/HlF3QAAAAAAAYHdAs3/5vx5xd0AAAAAAAIB3QLN/+b8ekXdAAAAAAACgd0Czf/m/HrF3QAAAAAAAwHdAs3/5vx7Rd0AAAAAAAOB3QLN/+b8e8XdAAAAAAAAAeECzf/m/HhF4QAAAAAAAIHhAs3/5vx4xeEAAAAAAAEB4QLN/+b8eUXhAAAAAAABgeECzf/m/HnF4QAAAAAAAgHhAs3/5vx6ReEAAAAAAAKB4QLN/+b8esXhAAAAAAADAeECzf/m/HtF4QAAAAAAA4HhAs3/5vx7xeEAAAAAAAAB5QLN/+b8eEXlAAAAAAAAgeUCzf/m/HjF5QAAAAAAAQHlAs3/5vx5ReUAAAAAAAGB5QLN/+b8ecXlAAAAAAACAeUCzf/m/HpF5QAAAAAAAoHlAs3/5vx6xeUAAAAAAAMB5QLN/+b8e0XlAAAAAAADgeUCzf/m/HvF5QAAAAAAAAHpAs3/5vx4RekAAAAAAACB6QLN/+b8eMXpAAAAAAABAekBqHQvA9VB6QAIPDCBcX3pAtY4F4HpwekBNgAZA4X56QAAAAAAAkHpAah0LwPWgekACDwwgXK96QLWOBeB6wHpATYAGQOHOekAAAAAAAOB6QLN/+b8e8XpAAAAAAAAAe0Czf/m/HhF7QAAAAAAAIHtAs3/5vx4xe0AAAAAAAEB7QLN/+b8eUXtAAAAAAABge0Czf/m/HnF7QAAAAAAAgHtAah0LwPWQe0ACDwwgXJ97QLWOBeB6sHtATYAGQOG+e0AAAAAAANB7QGodC8D14HtAAg8MIFzve0C1jgXgegB8QE2ABkDhDnxAAAAAAAAgfEA=",
          "dtype": "f8"
         },
         "y": {
          "bdata": "v2zx3/JrWkCWTARgMnBUQIrdBAADrVNA/9j7v3DsV0Aaf+w/fCJdQLLa/L/qwGBA2VXtP5eHY0AenQSANAFnQK4m9J9aX2lAjdXm/xX5a0AsmQjAZCNuQFy39189snBASTYNQJnNcUA93wUAfepyQDiGAOCYYHRA8gP8v6+vdUBCzvv/+Nd2QApI+x8gpnhAZ2kCoCXaeUBJNg1AWZR7QCOM+n/wjHxAZ2kCoOXGfUD0qPi/ox5/QHNW+r9JIoBA2r/8Xz+YgEACpfz/MyiBQPdcAeBzXYFA6wX6n8eIgUAJo/4fbNiBQHVlBuDl2oFA8F7/vzvngUAxiP6/wPqBQBefAmB824FA91wB4APEgUAo5f+fNAyCQM7SBEA7CIJA/bUGAGjTgUDdcwWAz8WBQPID/L8vkoFAMi37v3SkgUDrBfqfV0GBQCWbBqAcPIFAMYj+vwAkgUBxsf2/RbyAQG8MAcAReYBANuED4JQ/gEDfGAKAUy+AQMh5/x8nNn9A9rcE4P/VfkA+GvPfKIx+QC/jAcDMt31AXLf3X11KfUA5K/3frFR8QEaCBCAJ+HtAaA7/n5kMe0DKHvwfW5x6QApI+x9g03lA2BoAYMtleUDfGAKAA+14QCWbBqAMz3dAxS8GIF/+dkDhvf5/10p2QLWOBeC64XVAS3H6HyWWdEDMLQhAd+5zQISc9//xdnNAS3H6H+VkckDC5QwgF3hxQIr1/B9WNXFAoqMLoC5qcECWTARgcp9vQIG8DSCymW5A9HwXAPQ7bUCPuBFgImtsQN1zBYAP0GpAbwwBwHF3aUAeBxSgnKhoQKk3/p8euWdA6fbtfxuoZkA2d/S/XLVlQDwL579sw2RAFL8YgDzpY0B1+/a/Lc1iQHzNFyD2n2FAJ6oSwCj/YEBct/dfXWFgQE/24P/Ytl9AVeXW/xRCXkC29dN/1ilcQKI5/H/mEVtAplTTP9LTWUARRv0/GJlYQHMX/l+3vFdAIIH93+pcVkCkhwQARZVVQO83+3+se1RAO5H9f15wU0AWeP4frWhSQAA//F+iMlFAPLgBwC39UEDAFf1fvaxQQGHRACCfQ05AbyT53wQBTUBKdQmge+xKQO7R+t+6A0tANJP7Xyb+SUAKCf+/vZNHQGgO/5/5ZUZASzL+v2LhRUCwNQDAVnhEQHz5+N8lFkRA0oL+3+T1QkBBEQfgUQVCQKl2+v9AMEFAMTEKQKvsQECmqvm/3SNAQMNLDcBIlj1AlmDt/05fPEDgwQ0Abs48QCSI6/+5CztAp+n1H4DUOEDSV+sfn4c4QL9s8d9y4TZA88Dw3/aqNkDVuA5AMFs1QHce7H9GPzRARuwTQDEzM0AtE/L/slwzQDhb7R8TGTJAS3H6HwUJMUASxPX/3NExQEM0/J+qZjBA6CUQwBdmLUCoT/a/8SMuQMZq8/+qeyxA/LkVgE7uKkBFBdpfbrQpQE0pEsCLZChAAvsigB80J0DdCfZf5wwoQGNKHGCD3SRArVLVXwqQJUCz1u0/dLslQBlXGgDDbSRAbvsCoKjCIkDzafxfAfgiQIsFAsBYqCFA8MoA4HDoH0ASbQGA5wsiQMwB/P+qViBAVx0E4ElkIEA=",
          "dtype": "f8"
         }
        },
        {
         "line": {
          "color": "rgb(185, 37, 122)"
         },
         "mode": "lines",
         "name": "1.57M",
         "type": "scatter",
         "x": {
          "bdata": "AAAAAADAckBNgAZA4c5yQLWOBeB64HJAAg8MIFzvckBqHQvA9QBzQAAAAAAAEHNATYAGQOEec0C1jgXgejBzQAIPDCBcP3NAah0LwPVQc0AAAAAAAGBzQE2ABkDhbnNAtY4F4HqAc0ACDwwgXI9zQGodC8D1oHNAAAAAAACwc0BNgAZA4b5zQLWOBeB60HNAAg8MIFzfc0BqHQvA9fBzQAAAAAAAAHRAs3/5vx4RdEAAAAAAACB0QLN/+b8eMXRAAAAAAABAdECzf/m/HlF0QAAAAAAAYHRAs3/5vx5xdEAAAAAAAIB0QLN/+b8ekXRAAAAAAACgdEBNgAZA4a50QLWOBeB6wHRAAg8MIFzPdEBqHQvA9eB0QAAAAAAA8HRATYAGQOH+dEC1jgXgehB1QAIPDCBcH3VAah0LwPUwdUAAAAAAAEB1QLN/+b8eUXVAAAAAAABgdUCzf/m/HnF1QAAAAAAAgHVAs3/5vx6RdUAAAAAAAKB1QLN/+b8esXVAAAAAAADAdUCzf/m/HtF1QAAAAAAA4HVAs3/5vx7xdUAAAAAAAAB2QLN/+b8eEXZAAAAAAAAgdkCzf/m/HjF2QAAAAAAAQHZAs3/5vx5RdkAAAAAAAGB2QLN/+b8ecXZAAAAAAACAdkCzf/m/HpF2QAAAAAAAoHZAs3/5vx6xdkAAAAAAAMB2QLN/+b8e0XZAAAAAAADgdkCzf/m/HvF2QAAAAAAAAHdAs3/5vx4Rd0AAAAAAACB3QLN/+b8eMXdAAAAAAABAd0Czf/m/HlF3QAAAAAAAYHdAs3/5vx5xd0AAAAAAAIB3QLN/+b8ekXdAAAAAAACgd0Czf/m/HrF3QAAAAAAAwHdAs3/5vx7Rd0AAAAAAAOB3QLN/+b8e8XdAAAAAAAAAeECzf/m/HhF4QAAAAAAAIHhAs3/5vx4xeEAAAAAAAEB4QLN/+b8eUXhAAAAAAABgeECzf/m/HnF4QAAAAAAAgHhAs3/5vx6ReEAAAAAAAKB4QLN/+b8esXhAAAAAAADAeECzf/m/HtF4QAAAAAAA4HhAs3/5vx7xeEAAAAAAAAB5QLN/+b8eEXlAAAAAAAAgeUCzf/m/HjF5QAAAAAAAQHlAs3/5vx5ReUAAAAAAAGB5QLN/+b8ecXlAAAAAAACAeUCzf/m/HpF5QAAAAAAAoHlAs3/5vx6xeUAAAAAAAMB5QLN/+b8e0XlAAAAAAADgeUCzf/m/HvF5QAAAAAAAAHpAs3/5vx4RekAAAAAAACB6QLN/+b8eMXpAAAAAAABAekBqHQvA9VB6QAIPDCBcX3pAtY4F4HpwekBNgAZA4X56QAAAAAAAkHpAah0LwPWgekACDwwgXK96QLWOBeB6wHpATYAGQOHOekAAAAAAAOB6QLN/+b8e8XpAAAAAAAAAe0Czf/m/HhF7QAAAAAAAIHtAs3/5vx4xe0AAAAAAAEB7QLN/+b8eUXtAAAAAAABge0Czf/m/HnF7QAAAAAAAgHtAah0LwPWQe0ACDwwgXJ97QLWOBeB6sHtATYAGQOG+e0AAAAAAANB7QGodC8D14HtAAg8MIFzve0C1jgXgegB8QE2ABkDhDnxAAAAAAAAgfEA=",
          "dtype": "f8"
         },
         "y": {
          "bdata": "T48SYH1iYEBKndvfNH5aQKH7zR+uElpAjNgngOKIXEA+GvPfKLxhQOxA538DEmRAxz4SQHuHZ0BlWvZ/6V5rQFLZC2Cl1G1AdqDzv0GVcEA24QPgxO5xQPQSCOBrr3NAJZsGoOyXdEBuZwTA3RV2QPID/L9vgHdAq0YKwJoleUAMVwdAfBF6QNXQBmDjAHxAF58CYJyffUDKiAtAowR/QNtk+V+DQ4BAkfP+P44ngUBVIwVgfbSBQOJi+3+bGYJAY7X5f5WSgkA4hgDgaFGDQB6dBIAkk4NADvwDQGDjg0CY8QBglv6DQDbhA+AkFIRAgVL+/7kbhEBexgOASTaEQJ1KBoBK9INAGET/X3BIhEBNgAZA0QaEQNZ1A2B3MIRAxS8GIF8EhEAH/gEgWCuEQF7GA4CJ4YNAJZsGoHzig0Bqs/ufLbaDQFlt/l8FPYNAvjEEAHctg0Cr3Pqf0qaCQCOM+n/wgIJA1nUDYBcxgkAtPgXAKP6BQNtk+V+Dj4FA0Rz+P2NwgUDtFAbA0/WAQEaCBCBptIBARycBIL1GgEBoDv+f2TCAQJulCYBWKX9A7ar2n4uufkAmQAOgQHd9QD+EAgDRMn1AlkwEYBJ7fEDrbwnA/2B7QP21BgBYsnpA9U31v1fNeUCsgfefhvR4QJoADYDiI3hA7RQGwHOLd0AYRP9fUJJ2QKCU/38ys3VAGlMLgAwBdUBE3QcgNVh0QBPr+T/sq3NATYAGQAHUckD5aw0A8NdxQHpU/N+RA3FATiUDQJWzcEA8pBgg0elvQCP2CaCYlm5Au1EaIEd0bUD38vG/iytsQN7dFKB3pWpADO33H3ThaUDLWen/ZsloQOn27X/bpWdAfTTmv5FdZkDGavP/6o1lQMgP8P8+k2RAXwHxX8USY0B4RfC/FdFiQMOKCSCr2WFAXwHxX0VIYUAzARoABQdgQHSUKCCSvV5AzJcXYB+rXUD0qPi/I0JcQFfIAWDhRFtAj7gRYKIhWkDzafxfAd9YQJOAAyDPiVdAEcgEgNNkVkCWiwDA1C9VQIQe/z8t4lRAj43+nxzdU0Bu5fx/YttSQKvc+p/yBFJAJkADoMAjUUDlLvy/7iZQQLf0BYBsik5AC2//X69YTUDco/W/9XJMQG8k+d+ELktAcXIBYCMOSkBcIQeABYpIQApI+x9gjEdAKsn4/4rCRUA0VP//A81EQCxu9f+e6URAE6z93wkOREBnqP7/B+BCQLJY9X8v/0BAOtQIYPe4QED9cvsfv5BAQMJ37n94gT9AtU8JgNgGPUBaEvtfCfE7QKSb7Z/hcDpAz0zuf5m8OkDhkuu/MfA4QOO0EoCgnjdAAg8MIHyyNkCmLAEAGXE1QJhv+R/LZjRAtjcRYAWyM0CnFAngRVQ0QALQD8BZGDJAG+Xs3+04MkC+mxMgrzUxQKQJDEBAQTBAtDzu3+URMEBNlO/f3Y4uQM2TCOCo8yxA68b9PzUrLUDZLRsAHhMsQBYNIQCbWCpADicXADaWKkDWdQNgl9gpQPTTC4Dp0ydAC90dAA5nJUDkG+EffAEnQMkOIgDVeyVAaND7vx39I0AQdu1/PqUkQCfUAYDLYSJAfbMCgLkJI0A=",
          "dtype": "f8"
         }
        },
        {
         "line": {
          "color": "rgb(220, 57, 119)"
         },
         "mode": "lines",
         "name": "3.08M",
         "type": "scatter",
         "x": {
          "bdata": "AAAAAADAckBNgAZA4c5yQLWOBeB64HJAAg8MIFzvckBqHQvA9QBzQAAAAAAAEHNATYAGQOEec0C1jgXgejBzQAIPDCBcP3NAah0LwPVQc0AAAAAAAGBzQE2ABkDhbnNAtY4F4HqAc0ACDwwgXI9zQGodC8D1oHNAAAAAAACwc0BNgAZA4b5zQLWOBeB60HNAAg8MIFzfc0BqHQvA9fBzQAAAAAAAAHRAs3/5vx4RdEAAAAAAACB0QLN/+b8eMXRAAAAAAABAdECzf/m/HlF0QAAAAAAAYHRAs3/5vx5xdEAAAAAAAIB0QLN/+b8ekXRAAAAAAACgdEBNgAZA4a50QLWOBeB6wHRAAg8MIFzPdEBqHQvA9eB0QAAAAAAA8HRATYAGQOH+dEC1jgXgehB1QAIPDCBcH3VAah0LwPUwdUAAAAAAAEB1QLN/+b8eUXVAAAAAAABgdUCzf/m/HnF1QAAAAAAAgHVAs3/5vx6RdUAAAAAAAKB1QLN/+b8esXVAAAAAAADAdUCzf/m/HtF1QAAAAAAA4HVAs3/5vx7xdUAAAAAAAAB2QLN/+b8eEXZAAAAAAAAgdkCzf/m/HjF2QAAAAAAAQHZAs3/5vx5RdkAAAAAAAGB2QLN/+b8ecXZAAAAAAACAdkCzf/m/HpF2QAAAAAAAoHZAs3/5vx6xdkAAAAAAAMB2QLN/+b8e0XZAAAAAAADgdkCzf/m/HvF2QAAAAAAAAHdAs3/5vx4Rd0AAAAAAACB3QLN/+b8eMXdAAAAAAABAd0Czf/m/HlF3QAAAAAAAYHdAs3/5vx5xd0AAAAAAAIB3QLN/+b8ekXdAAAAAAACgd0Czf/m/HrF3QAAAAAAAwHdAs3/5vx7Rd0AAAAAAAOB3QLN/+b8e8XdAAAAAAAAAeECzf/m/HhF4QAAAAAAAIHhAs3/5vx4xeEAAAAAAAEB4QLN/+b8eUXhAAAAAAABgeECzf/m/HnF4QAAAAAAAgHhAs3/5vx6ReEAAAAAAAKB4QLN/+b8esXhAAAAAAADAeECzf/m/HtF4QAAAAAAA4HhAs3/5vx7xeEAAAAAAAAB5QLN/+b8eEXlAAAAAAAAgeUCzf/m/HjF5QAAAAAAAQHlAs3/5vx5ReUAAAAAAAGB5QLN/+b8ecXlAAAAAAACAeUCzf/m/HpF5QAAAAAAAoHlAs3/5vx6xeUAAAAAAAMB5QLN/+b8e0XlAAAAAAADgeUCzf/m/HvF5QAAAAAAAAHpAs3/5vx4RekAAAAAAACB6QLN/+b8eMXpAAAAAAABAekBqHQvA9VB6QAIPDCBcX3pAtY4F4HpwekBNgAZA4X56QAAAAAAAkHpAah0LwPWgekACDwwgXK96QLWOBeB6wHpATYAGQOHOekAAAAAAAOB6QLN/+b8e8XpAAAAAAAAAe0Czf/m/HhF7QAAAAAAAIHtAs3/5vx4xe0AAAAAAAEB7QLN/+b8eUXtAAAAAAABge0Czf/m/HnF7QAAAAAAAgHtAah0LwPWQe0ACDwwgXJ97QLWOBeB6sHtATYAGQOG+e0AAAAAAANB7QGodC8D14HtAAg8MIFzve0C1jgXgegB8QE2ABkDhDnxAAAAAAAAgfEA=",
          "dtype": "f8"
         },
         "y": {
          "bdata": "dJHnn4ULYkA0VP//A5tYQNVO/x9I21VA2yX9/3AsV0DGavP/qmdcQAbDFECM4V9AEAsQYOwPYkDTwfo/R5ZkQCh78H9sDmdAlKcHYB6taUDWdQNgF+prQN7dFKC3Y25A7ar2nwuacEBvDAHAUZlxQCyZCMDkXHNAyh78HzvKdEDGavP/CmJ2QGJ6DKBJDnhA7k/zn5+MeUDyA/y/LzN7QKRICKCCDnxAcbH9v4UifkAAAAAAICJ/QD+EAgDRqIBA3XMFgL9BgUAV+gVgKAWCQJmW/V9acoJAvjEEAHdEg0A4hgDg+FeDQE4lA0DVAYRA22T5X9MYhEBuZwTATbaEQMUvBiCP7IRAbwwBwFE9hUCzf/m/Pq2FQKk3/p/O+YVAmPEAYOZYhkAa6ftfVECGQO0UBsAj84ZAS3H6H5X1hkAo5f+flBaHQGEQ/X/hIIdA2BoAYLsch0DH1AIgQzWHQLczAuB+ZodAx9QCIFMzh0BlxAWgQTiHQOi7AKC/RIdA6WD9nzNPh0D7pvrfqxCHQBhE/18Q04ZA+QH+3+exhkDO0gRAu4iGQGEQ/X8RcIZAarP7n40phkAenQSAxP2FQOlg/Z8zyoVA91wB4ENThUCSmPs/cj6FQH+tAQCGqoRAKor8n1gghEDDIPr/4hWEQG8MAcDR5oNAwNYAAAtTg0DvuQLAl+WCQI2pBUD2cIJA5hYEoBsAgkDO0gRAG2OBQAmj/h/cKYFAwNYAALvBgEDouwCgzzGAQNYL9D9Pw39A91wB4DMzf0AqivyfaOt9QBz4B4CAYn1AUMr/PwkMfEC8IvjfqlF7QBX6BWBoUHpADFcHQNymeUDFLwYgf8B4QLvnCgA/IXhAI/YJoFhNd0CIUAAgYrh2QMwtCECXb3VA3Qn2X2f3dECkSAigYlt0QGMfCaD9j3NAFfoFYAi1ckAsmQjApB1yQFoS+1/pvnFAOSv93yzxcEBqHQvAlU9wQJ6F81+WkG9AnoXzX9Z0bkDKiAtA4xZuQGl4DsAhV2xAn+8CgD6la0C+MQQAxxVqQGJ6DKDppWlA+jzrv/MjaEDRhg1gG5dnQFW59T+lemZALdT1n1DxZUAyLfu/dDBlQKj8EMCyVWRAOIYA4NgsY0AEtAggkEpiQJks7j9ytGFAXCEHgEVZYEA8DihAOalfQJez0v9NNV9ACt7r/3cxXkAh5/1/HD1dQIua+R+qpltAtL0nILe6WkBeBQDgO9hYQClLAECGnFhA+6b63xuTV0AAAAAAAHZWQB7cAOAWRFVANuED4ERPVECfLv/fYD5UQFHxA4D4PVNALyL+H6+cUkDOEQGgraNRQGUDAgA0A1FACzADAI1YUECFhP/fnjpPQPja+Z/4p05AwFT5v58sTEAhJvrfvj1LQEc/+T8wAUtACzADAA0rS0B/7P1f2HtIQCzYBCCH+0dAzGwEoFk/R0C9CgDA95JFQPHc939AU0RAKKYDQDJOREBEHASA1/lCQDV7A0DTqEJA55T8X+CVQUA9oAmg2ttAQM6P+V8ytUBAqjPvH6iXP0ALb/9fr7s9QNpoCODJuzpALT4FwHhQOkCYWxCAbtI6QFz287+/FzlAbEQPAEX7N0A=",
          "dtype": "f8"
         }
        },
        {
         "line": {
          "color": "rgb(227, 79, 111)"
         },
         "mode": "lines",
         "name": "4.6M",
         "type": "scatter",
         "x": {
          "bdata": "AAAAAADAckBNgAZA4c5yQLWOBeB64HJAAg8MIFzvckBqHQvA9QBzQAAAAAAAEHNATYAGQOEec0C1jgXgejBzQAIPDCBcP3NAah0LwPVQc0AAAAAAAGBzQE2ABkDhbnNAtY4F4HqAc0ACDwwgXI9zQGodC8D1oHNAAAAAAACwc0BNgAZA4b5zQLWOBeB60HNAAg8MIFzfc0BqHQvA9fBzQAAAAAAAAHRAs3/5vx4RdEAAAAAAACB0QLN/+b8eMXRAAAAAAABAdECzf/m/HlF0QAAAAAAAYHRAs3/5vx5xdEAAAAAAAIB0QLN/+b8ekXRAAAAAAACgdEBNgAZA4a50QLWOBeB6wHRAAg8MIFzPdEBqHQvA9eB0QAAAAAAA8HRATYAGQOH+dEC1jgXgehB1QAIPDCBcH3VAah0LwPUwdUAAAAAAAEB1QLN/+b8eUXVAAAAAAABgdUCzf/m/HnF1QAAAAAAAgHVAs3/5vx6RdUAAAAAAAKB1QLN/+b8esXVAAAAAAADAdUCzf/m/HtF1QAAAAAAA4HVAs3/5vx7xdUAAAAAAAAB2QLN/+b8eEXZAAAAAAAAgdkCzf/m/HjF2QAAAAAAAQHZAs3/5vx5RdkAAAAAAAGB2QLN/+b8ecXZAAAAAAACAdkCzf/m/HpF2QAAAAAAAoHZAs3/5vx6xdkAAAAAAAMB2QLN/+b8e0XZAAAAAAADgdkCzf/m/HvF2QAAAAAAAAHdAs3/5vx4Rd0AAAAAAACB3QLN/+b8eMXdAAAAAAABAd0Czf/m/HlF3QAAAAAAAYHdAs3/5vx5xd0AAAAAAAIB3QLN/+b8ekXdAAAAAAACgd0Czf/m/HrF3QAAAAAAAwHdAs3/5vx7Rd0AAAAAAAOB3QLN/+b8e8XdAAAAAAAAAeECzf/m/HhF4QAAAAAAAIHhAs3/5vx4xeEAAAAAAAEB4QLN/+b8eUXhAAAAAAABgeECzf/m/HnF4QAAAAAAAgHhAs3/5vx6ReEAAAAAAAKB4QLN/+b8esXhAAAAAAADAeECzf/m/HtF4QAAAAAAA4HhAs3/5vx7xeEAAAAAAAAB5QLN/+b8eEXlAAAAAAAAgeUCzf/m/HjF5QAAAAAAAQHlAs3/5vx5ReUAAAAAAAGB5QLN/+b8ecXlAAAAAAACAeUCzf/m/HpF5QAAAAAAAoHlAs3/5vx6xeUAAAAAAAMB5QLN/+b8e0XlAAAAAAADgeUCzf/m/HvF5QAAAAAAAAHpAs3/5vx4RekAAAAAAACB6QLN/+b8eMXpAAAAAAABAekBqHQvA9VB6QAIPDCBcX3pAtY4F4HpwekBNgAZA4X56QAAAAAAAkHpAah0LwPWgekACDwwgXK96QLWOBeB6wHpATYAGQOHOekAAAAAAAOB6QLN/+b8e8XpAAAAAAAAAe0Czf/m/HhF7QAAAAAAAIHtAs3/5vx4xe0AAAAAAAEB7QLN/+b8eUXtAAAAAAABge0Czf/m/HnF7QAAAAAAAgHtAah0LwPWQe0ACDwwgXJ97QLWOBeB6sHtATYAGQOG+e0AAAAAAANB7QGodC8D14HtAAg8MIFzve0C1jgXgegB8QE2ABkDhDnxAAAAAAAAgfEA=",
          "dtype": "f8"
         },
         "y": {
          "bdata": "mFsQgG4dYEAKSPsfYHRTQDMVA6BhKURAPR4CYJ/tQUB1JgqAM7VBQEsy/r9iZURAVSMFYM2qRkAs2AQgB01JQB4b/T85WU1AyDoDwIRuUEAWeP4fbVlSQB8DBSCm2lRA8Z37Hx7hV0DmgBPAg2ZaQJPWKaCaJV5A4b3+f3dzYEBqSex/pSRiQGik739RPWRAA+Dp33/HZUAhUQ2gBM1nQCNgGcAAQWpAZS4VwDlRbEDPdwFAHy9vQN1zBYAvwnBAS9sJQG0zckDWdQNgN2FzQMLlDCD3cHRA91wB4JM5dkDYGgBgaxZ3QMZq8/8KV3hAyh78H5tjeUCTAgtgKiB6QBefAmD85HpAneD2X6Lse0BTFPk/8d18QKWD9X9Ow31Ax9QCIDP4fkDuT/OfX7F/QMfUAiBTRIBAL+MBwNz0gEACpfz/o1mBQEaCBCB5jYFAtzMC4O7ugUDbZPlfI06CQHiv/9/dkIJA/loDANzGgkAo5f+fFCmDQELO+//4OoNAQCn//2SBg0DvuQLAV/KDQGXEBaDRKIRAfQgFALIGhEA5K/3fPCeEQEcnASAtLoRAz3cBQM8ehEBaEvtfeUuEQJZMBGCyY4RABVkFIFQbhEBuZwTArU6EQN8YAoDzDoRAtzMC4J7wg0CR8/4/PpaDQHiv/989e4NAelT834E2g0DWdQNgRziDQBX6BWCIu4JAkpj7P1JxgkACpfz/8zqCQEtx+h+F6oFANuED4GSYgUCIUAAgEjWBQGBrAICN3oBAkpj7P0K3gEA24QPgZCWAQN8YAoCjm39AFZD2P6DsfkAdM/VfDGR+QDTS979IZn1Aw4oJIOvvfEAfQgGASLB7QE678x/Ng3tApN74f1pkekAH/gEgOK15QHVlBuA1sHhAx9QCINNZeEDiYvt/q453QN1zBYBvI3dAp5IBoEpKdkAJo/4fjIh1QIQGByD6CnVAH0IBgAhBdEDwXv+/O3VzQINhCiBm/HJACaP+H4yTckCdSgaAqqxxQIpfDEC+MnFA9U31vxcxcEDsQOd/A59vQJsPGaB+mm5ASTYNQJmcbUCgKvBf6jVtQJNsGoDy2mtAg/f6/53takCIUAAgwrBpQLLa/L8q72hAEdztH7DOZ0Bjtfl/lWFnQAxXB0BcE2ZAUtkLYGW/ZUD4xhAAnKpkQGMfCaB902NAqPwQwPK7Y0BFruXfeN5iQPD0759TJWJAmZb9XxonYUBXyAFg4SpgQOSd6F83fV9A48wKoHOuXkBxGw3greRcQLmsHSBzPFxAcd3ef/UxWkCnKPJ/IixaQCJN/h8Or1hAg98C4MrRV0AbT/z/VV9XQI4n/v8qZlZAncj+P29BVUA1+fv/VzZUQE49+1+oSlRA8yoAAJ8BU0AhqAEg+stRQGfn+l+qbFFAAWYAoHEdUUCm7QSgdjxQQCGoASD6bE9ALjr2P4KUTUAGmAGAxjNLQBuSB+DuKEtAiXcEYFFDSkCTv/9/sRZJQKOf/B9YhUhAucAGwE9DRkCrRgrAmhNGQLf0BYBsjEVAa5sDgLpvREAnf///4opDQMn399/rVUJA3xgCgGNbQkBLMv6/4lxBQPvl9j/+RkBAJDH3f8RoQEA=",
          "dtype": "f8"
         }
        },
        {
         "line": {
          "color": "rgb(240, 116, 110)"
         },
         "mode": "lines",
         "name": "6.19M",
         "type": "scatter",
         "x": {
          "bdata": "AAAAAADAckBNgAZA4c5yQLWOBeB64HJAAg8MIFzvckBqHQvA9QBzQAAAAAAAEHNATYAGQOEec0C1jgXgejBzQAIPDCBcP3NAah0LwPVQc0AAAAAAAGBzQE2ABkDhbnNAtY4F4HqAc0ACDwwgXI9zQGodC8D1oHNAAAAAAACwc0BNgAZA4b5zQLWOBeB60HNAAg8MIFzfc0BqHQvA9fBzQAAAAAAAAHRAs3/5vx4RdEAAAAAAACB0QLN/+b8eMXRAAAAAAABAdECzf/m/HlF0QAAAAAAAYHRAs3/5vx5xdEAAAAAAAIB0QLN/+b8ekXRAAAAAAACgdEBNgAZA4a50QLWOBeB6wHRAAg8MIFzPdEBqHQvA9eB0QAAAAAAA8HRATYAGQOH+dEC1jgXgehB1QAIPDCBcH3VAah0LwPUwdUAAAAAAAEB1QLN/+b8eUXVAAAAAAABgdUCzf/m/HnF1QAAAAAAAgHVAs3/5vx6RdUAAAAAAAKB1QLN/+b8esXVAAAAAAADAdUCzf/m/HtF1QAAAAAAA4HVAs3/5vx7xdUAAAAAAAAB2QLN/+b8eEXZAAAAAAAAgdkCzf/m/HjF2QAAAAAAAQHZAs3/5vx5RdkAAAAAAAGB2QLN/+b8ecXZAAAAAAACAdkCzf/m/HpF2QAAAAAAAoHZAs3/5vx6xdkAAAAAAAMB2QLN/+b8e0XZAAAAAAADgdkCzf/m/HvF2QAAAAAAAAHdAs3/5vx4Rd0AAAAAAACB3QLN/+b8eMXdAAAAAAABAd0Czf/m/HlF3QAAAAAAAYHdAs3/5vx5xd0AAAAAAAIB3QLN/+b8ekXdAAAAAAACgd0Czf/m/HrF3QAAAAAAAwHdAs3/5vx7Rd0AAAAAAAOB3QLN/+b8e8XdAAAAAAAAAeECzf/m/HhF4QAAAAAAAIHhAs3/5vx4xeEAAAAAAAEB4QLN/+b8eUXhAAAAAAABgeECzf/m/HnF4QAAAAAAAgHhAs3/5vx6ReEAAAAAAAKB4QLN/+b8esXhAAAAAAADAeECzf/m/HtF4QAAAAAAA4HhAs3/5vx7xeEAAAAAAAAB5QLN/+b8eEXlAAAAAAAAgeUCzf/m/HjF5QAAAAAAAQHlAs3/5vx5ReUAAAAAAAGB5QLN/+b8ecXlAAAAAAACAeUCzf/m/HpF5QAAAAAAAoHlAs3/5vx6xeUAAAAAAAMB5QLN/+b8e0XlAAAAAAADgeUCzf/m/HvF5QAAAAAAAAHpAs3/5vx4RekAAAAAAACB6QLN/+b8eMXpAAAAAAABAekBqHQvA9VB6QAIPDCBcX3pAtY4F4HpwekBNgAZA4X56QAAAAAAAkHpAah0LwPWgekACDwwgXK96QLWOBeB6wHpATYAGQOHOekAAAAAAAOB6QLN/+b8e8XpAAAAAAAAAe0Czf/m/HhF7QAAAAAAAIHtAs3/5vx4xe0AAAAAAAEB7QLN/+b8eUXtAAAAAAABge0Czf/m/HnF7QAAAAAAAgHtAah0LwPWQe0ACDwwgXJ97QLWOBeB6sHtATYAGQOG+e0AAAAAAANB7QGodC8D14HtAAg8MIFzve0C1jgXgegB8QE2ABkDhDnxAAAAAAAAgfEA=",
          "dtype": "f8"
         },
         "y": {
          "bdata": "jG4YYHo/Y0Cp+AFAvEdVQC2V+T9uhEVAR371n9KDQECqHwaAyzpAQKwD/98Bu0FAdeP+nxqaQ0BHP/k/sGNFQK2o+9+VMklAfwT2f6sETUBOJQNAFRZQQKfR/f/sjlJAjif+/2qFVEBr2v/fnDZXQDqSy39IUlpApBwn4LLdXEAuqBTg4MRfQJbi9D9Kt2FABVkFIKQLY0CjdOlfksplQH0IBQAibWdAW3wKgLHsaUDbZPlf0/trQJSnB2Ae0G5A0ysKYI/jcEAOkvQfqPBxQCP2CaCY+nJAcRsN4M3HdEDrBfqfF9F1QNYL9D9P9XZA+WsNAPD2d0DMw/gfLy14QEwW9x+5W3lA22T5X/NoekCNP/YfPmR7QK4m9J+6/ntAUm/8P536fEAcjvhfeNx9QD4a899ocH5A/loDAMzbf0Cm7QSg5j+AQMh5/x/nsoBAGET/X8DogEDwXv+/a1eBQGEQ/X+xe4FAEKEAQCTPgUDTwfo/9yGCQCOM+n+AZIJAkfP+P66qgkA/hAIAEc6CQFUjBWA9G4NAQs77/zg+g0AAAAAAYGWDQN8YAoATX4NApu0EoAadg0DiYvt/S22DQMUvBiAfrYNARoIEIBnOg0CbO/pf3leDQBPr+T/sVYNAudj+32Iwg0BGggQguQeDQMfUAiBz/YJA22T5X5N5gkBuZwTAvZ+CQPID/L8/AYJADvwDQFDYgUAtPgXAGLSBQDIt+7+UQYFAP4QCAEH9gEAV+gVgiLeAQIr1/B+mZ4BAwXv9/x4bgEAqivyf6Jd/QNZ1A2A3M39A5hYEoJuTfkDH1AIg86Z9QFwhB4BFvHxATYAGQCFKfEDFxfb/1lR7QGb/8n+9wnpAx9QCIDOzeUB4r//fnfp4QDs6CQAJKnhARHP4/+wBeEATVQlglAN3QC3U9Z9QL3ZAE1UJYNS3dUC+x/TfvhB1QLUk9r/yOXRATBb3H3nBc0Dtqvafi/hyQCP2CaAYgHJAqTf+n378cUB1+/a/jXdxQCOM+n/QkXBAUMr/PwklcEC9XeW/NkVvQLDL8J/uyG1AB/4BIDhrbUAK3uv/d7hrQFW59T9lJ2tA1gv0P29DakCjdOlfEtJpQN7dFKD3jGhAZ9MRwI04Z0D4xhAAXPFmQEnM/R/xjmVA367yX3ueZUCrRgrAWkFkQHMqGQAqSmRAnUoGgOqMYkBb5hmgWUliQOzZGOCnU2FAm9HqP4bcYECRXQ5gthNgQAVZBSCk/V5Av5jSnyKRXUDuUjQgjF9cQJez0v9NrlpAwRQvYBNPWkC6E+y/zkZZQG5nBMBdTFhAiI/8f6S0VkAQoQBAxLlWQDy4AcDtyFVAEOD8n+a+VEBeBQDgu/NTQKk3/p/e2lJAYvgEYC6JUkC84/t/qAxSQHWkAkD4E1FAxxP/f3X7UEDHkfc/esNPQKI5/H/mdk5AYCwEIIuDS0B7ewAgYUpLQCHn/X8clUpAzZMI4CiTSUB14/6fmhRJQCDA+T9N70ZAbAEEICzORkDxhQMAS+dFQJQ9+D/2tURAwmMF4Js2REDqhwHgkjVCQM84BeC8CUNAVH4IYLkDQkAn/fe/p3NBQKMhBGATFUFAwwwRYCbXP0A=",
          "dtype": "f8"
         }
        },
        {
         "line": {
          "color": "rgb(250, 164, 118)"
         },
         "mode": "lines",
         "name": "7.73M",
         "type": "scatter",
         "x": {
          "bdata": "AAAAAADAckBNgAZA4c5yQLWOBeB64HJAAg8MIFzvckBqHQvA9QBzQAAAAAAAEHNATYAGQOEec0C1jgXgejBzQAIPDCBcP3NAah0LwPVQc0AAAAAAAGBzQE2ABkDhbnNAtY4F4HqAc0ACDwwgXI9zQGodC8D1oHNAAAAAAACwc0BNgAZA4b5zQLWOBeB60HNAAg8MIFzfc0BqHQvA9fBzQAAAAAAAAHRAs3/5vx4RdEAAAAAAACB0QLN/+b8eMXRAAAAAAABAdECzf/m/HlF0QAAAAAAAYHRAs3/5vx5xdEAAAAAAAIB0QLN/+b8ekXRAAAAAAACgdEBNgAZA4a50QLWOBeB6wHRAAg8MIFzPdEBqHQvA9eB0QAAAAAAA8HRATYAGQOH+dEC1jgXgehB1QAIPDCBcH3VAah0LwPUwdUAAAAAAAEB1QLN/+b8eUXVAAAAAAABgdUCzf/m/HnF1QAAAAAAAgHVAs3/5vx6RdUAAAAAAAKB1QLN/+b8esXVAAAAAAADAdUCzf/m/HtF1QAAAAAAA4HVAs3/5vx7xdUAAAAAAAAB2QLN/+b8eEXZAAAAAAAAgdkCzf/m/HjF2QAAAAAAAQHZAs3/5vx5RdkAAAAAAAGB2QLN/+b8ecXZAAAAAAACAdkCzf/m/HpF2QAAAAAAAoHZAs3/5vx6xdkAAAAAAAMB2QLN/+b8e0XZAAAAAAADgdkCzf/m/HvF2QAAAAAAAAHdAs3/5vx4Rd0AAAAAAACB3QLN/+b8eMXdAAAAAAABAd0Czf/m/HlF3QAAAAAAAYHdAs3/5vx5xd0AAAAAAAIB3QLN/+b8ekXdAAAAAAACgd0Czf/m/HrF3QAAAAAAAwHdAs3/5vx7Rd0AAAAAAAOB3QLN/+b8e8XdAAAAAAAAAeECzf/m/HhF4QAAAAAAAIHhAs3/5vx4xeEAAAAAAAEB4QLN/+b8eUXhAAAAAAABgeECzf/m/HnF4QAAAAAAAgHhAs3/5vx6ReEAAAAAAAKB4QLN/+b8esXhAAAAAAADAeECzf/m/HtF4QAAAAAAA4HhAs3/5vx7xeEAAAAAAAAB5QLN/+b8eEXlAAAAAAAAgeUCzf/m/HjF5QAAAAAAAQHlAs3/5vx5ReUAAAAAAAGB5QLN/+b8ecXlAAAAAAACAeUCzf/m/HpF5QAAAAAAAoHlAs3/5vx6xeUAAAAAAAMB5QLN/+b8e0XlAAAAAAADgeUCzf/m/HvF5QAAAAAAAAHpAs3/5vx4RekAAAAAAACB6QLN/+b8eMXpAAAAAAABAekBqHQvA9VB6QAIPDCBcX3pAtY4F4HpwekBNgAZA4X56QAAAAAAAkHpAah0LwPWgekACDwwgXK96QLWOBeB6wHpATYAGQOHOekAAAAAAAOB6QLN/+b8e8XpAAAAAAAAAe0Czf/m/HhF7QAAAAAAAIHtAs3/5vx4xe0AAAAAAAEB7QLN/+b8eUXtAAAAAAABge0Czf/m/HnF7QAAAAAAAgHtAah0LwPWQe0ACDwwgXJ97QLWOBeB6sHtATYAGQOG+e0AAAAAAANB7QGodC8D14HtAAg8MIFzve0C1jgXgegB8QE2ABkDhDnxAAAAAAAAgfEA=",
          "dtype": "f8"
         },
         "y": {
          "bdata": "YRD9f8FYZUATgeofxCJZQII6BuB2iEdAMu7+X5IfQkA7UgEgvI5BQDPWBkC/AUNAICoJYLW1REDu0frfOt9HQJ5G9/8zvEpAzWj1H+PcT0BuZwTA3e1QQNmAAACd3VJAswEBADrrVUA3X/yfiWdYQE/5IYBl2VtAwNYAAFsDX0Aoe/B/7NRgQOM2GsDbfWJAV8gBYOGpZEDC5QwgF7JmQDAe7584rmhAjG4YYHoLa0BBkw4gTW5tQK4m9J86SXBAg/f6/z1ZcUCK9fwfdvRyQELO+/8YVHRAUxT5PzGadUA24QPg5HZ2QIP3+v9903dAYGsAgE34eEBCzvv/mId5QBpTC4CMuXpAlD34P/aFe0DjzAqg04B8QIsECUBy+31AaA7/n5k+fkAH/gEg+Np/QIFS/v8pVoBAEKEAQDTjgEB1ZQbgxUiBQCjl/59UrIFAZcQFoOEzgkBnaQKgVY+CQHNW+r9Z2IJAgVL+/xkUg0AxiP6/oKCDQCqK/J/I0INACkj7H9DHg0AxiP6/YDmEQC0+BcAodYRA22T5X7N9hECSmPs/gqOEQFUjBWC95YRA6WD9nxPihEBCzvv/CPOEQBChAEDE2IRA2r/8X9/vhEB1ZQbgdauEQDbhA+Ck6oRAUMr/PxmQhEAv4wHArHuEQBPr+T8cLIRAq9z6nzIXhECzf/m//taDQKvc+p/Cl4NA08H6P2dug0DmFgSgW+CCQM93AUD/fIJAGun7X+RNgkCGqwMgjuOBQGBrAID94IFARycBIF0ngUAa6ftf1PCAQCHn/X8Mz4BAi5r5H3ongED0qPi/o/J/QA78A0Dwon5AhkH0/+VZfkCd4PZfQsJ9QFlt/l/VyXxArib0n/orfEBTFPk/UQV7QIsECUBSEnpADFcHQBxgeUB9CAUAwut4QAAAAAAADHhAaA7/n9mFd0AqivyfyJV2QM7SBEBLHHZAYRD9f8GKdUAMVwdAPGJ0QPBe/787C3RA9Kj4v+M8c0CsgfefJuRyQK3rBsBOD3JARoIEIImLcUBct/dfveFwQOas9H+zKHBAY7X5fxUOb0A9dfbfFJZuQJs7+l+u5G1AS0UZYNWQbEBGggQgCUZrQAxXB0Dcm2pAxFvn366JaUBQNA9g0dxoQDnB7b/EQ2dARRj1/+C9ZkAYRP9fEDBmQKCU/3/SEWVAXwHxX0X6Y0BQyv8/6SRkQHhF8L8VFmNArpADwIINYkAVkPY/gGNhQMUvBiD/62BAplcUwF7EX0AAAAAAAEBfQMZtNIA3ml1A+MPPfw8iXEAIz9/fe2BbQGpJ7H+lIVpAlXsmoC6GWUAkdAJgHWxYQO/4/h8KmVdASU4FYCyQVkAYBQMArm5WQOztAYAE9VRAsPYDYLS7U0BVO/1/IF5TQAKl/P9TiVJA9FEEQO7hUUBmQv5f1u5QQLRnAaArglBAAX74v8TXTkAqyfj/isxOQHhwA4Db8ExADyMIgL/ZSkATrP3fiXdLQFeJBQA/UElAYOn4P/J8SEBbfAqAcdhGQPib/T/WSEZA8Z37Hx54RUAaKPi/ButEQEXZ+J8+/kNA8dz3f8BXQ0BL2wlA7UpCQFV6+d/CG0JAW7sG4BNBQUA=",
          "dtype": "f8"
         }
        }
       ],
       "layout": {
        "height": 500,
        "legend": {
         "x": 1,
         "xanchor": "right",
         "y": 1,
         "yanchor": "top"
        },
        "template": {
         "data": {
          "bar": [
           {
            "error_x": {
             "color": "#2a3f5f"
            },
            "error_y": {
             "color": "#2a3f5f"
            },
            "marker": {
             "line": {
              "color": "white",
              "width": 0.5
             },
             "pattern": {
              "fillmode": "overlay",
              "size": 10,
              "solidity": 0.2
             }
            },
            "type": "bar"
           }
          ],
          "barpolar": [
           {
            "marker": {
             "line": {
              "color": "white",
              "width": 0.5
             },
             "pattern": {
              "fillmode": "overlay",
              "size": 10,
              "solidity": 0.2
             }
            },
            "type": "barpolar"
           }
          ],
          "carpet": [
           {
            "aaxis": {
             "endlinecolor": "#2a3f5f",
             "gridcolor": "#C8D4E3",
             "linecolor": "#C8D4E3",
             "minorgridcolor": "#C8D4E3",
             "startlinecolor": "#2a3f5f"
            },
            "baxis": {
             "endlinecolor": "#2a3f5f",
             "gridcolor": "#C8D4E3",
             "linecolor": "#C8D4E3",
             "minorgridcolor": "#C8D4E3",
             "startlinecolor": "#2a3f5f"
            },
            "type": "carpet"
           }
          ],
          "choropleth": [
           {
            "colorbar": {
             "outlinewidth": 0,
             "ticks": ""
            },
            "type": "choropleth"
           }
          ],
          "contour": [
           {
            "colorbar": {
             "outlinewidth": 0,
             "ticks": ""
            },
            "colorscale": [
             [
              0,
              "#0d0887"
             ],
             [
              0.1111111111111111,
              "#46039f"
             ],
             [
              0.2222222222222222,
              "#7201a8"
             ],
             [
              0.3333333333333333,
              "#9c179e"
             ],
             [
              0.4444444444444444,
              "#bd3786"
             ],
             [
              0.5555555555555556,
              "#d8576b"
             ],
             [
              0.6666666666666666,
              "#ed7953"
             ],
             [
              0.7777777777777778,
              "#fb9f3a"
             ],
             [
              0.8888888888888888,
              "#fdca26"
             ],
             [
              1,
              "#f0f921"
             ]
            ],
            "type": "contour"
           }
          ],
          "contourcarpet": [
           {
            "colorbar": {
             "outlinewidth": 0,
             "ticks": ""
            },
            "type": "contourcarpet"
           }
          ],
          "heatmap": [
           {
            "colorbar": {
             "outlinewidth": 0,
             "ticks": ""
            },
            "colorscale": [
             [
              0,
              "#0d0887"
             ],
             [
              0.1111111111111111,
              "#46039f"
             ],
             [
              0.2222222222222222,
              "#7201a8"
             ],
             [
              0.3333333333333333,
              "#9c179e"
             ],
             [
              0.4444444444444444,
              "#bd3786"
             ],
             [
              0.5555555555555556,
              "#d8576b"
             ],
             [
              0.6666666666666666,
              "#ed7953"
             ],
             [
              0.7777777777777778,
              "#fb9f3a"
             ],
             [
              0.8888888888888888,
              "#fdca26"
             ],
             [
              1,
              "#f0f921"
             ]
            ],
            "type": "heatmap"
           }
          ],
          "histogram": [
           {
            "marker": {
             "pattern": {
              "fillmode": "overlay",
              "size": 10,
              "solidity": 0.2
             }
            },
            "type": "histogram"
           }
          ],
          "histogram2d": [
           {
            "colorbar": {
             "outlinewidth": 0,
             "ticks": ""
            },
            "colorscale": [
             [
              0,
              "#0d0887"
             ],
             [
              0.1111111111111111,
              "#46039f"
             ],
             [
              0.2222222222222222,
              "#7201a8"
             ],
             [
              0.3333333333333333,
              "#9c179e"
             ],
             [
              0.4444444444444444,
              "#bd3786"
             ],
             [
              0.5555555555555556,
              "#d8576b"
             ],
             [
              0.6666666666666666,
              "#ed7953"
             ],
             [
              0.7777777777777778,
              "#fb9f3a"
             ],
             [
              0.8888888888888888,
              "#fdca26"
             ],
             [
              1,
              "#f0f921"
             ]
            ],
            "type": "histogram2d"
           }
          ],
          "histogram2dcontour": [
           {
            "colorbar": {
             "outlinewidth": 0,
             "ticks": ""
            },
            "colorscale": [
             [
              0,
              "#0d0887"
             ],
             [
              0.1111111111111111,
              "#46039f"
             ],
             [
              0.2222222222222222,
              "#7201a8"
             ],
             [
              0.3333333333333333,
              "#9c179e"
             ],
             [
              0.4444444444444444,
              "#bd3786"
             ],
             [
              0.5555555555555556,
              "#d8576b"
             ],
             [
              0.6666666666666666,
              "#ed7953"
             ],
             [
              0.7777777777777778,
              "#fb9f3a"
             ],
             [
              0.8888888888888888,
              "#fdca26"
             ],
             [
              1,
              "#f0f921"
             ]
            ],
            "type": "histogram2dcontour"
           }
          ],
          "mesh3d": [
           {
            "colorbar": {
             "outlinewidth": 0,
             "ticks": ""
            },
            "type": "mesh3d"
           }
          ],
          "parcoords": [
           {
            "line": {
             "colorbar": {
              "outlinewidth": 0,
              "ticks": ""
             }
            },
            "type": "parcoords"
           }
          ],
          "pie": [
           {
            "automargin": true,
            "type": "pie"
           }
          ],
          "scatter": [
           {
            "fillpattern": {
             "fillmode": "overlay",
             "size": 10,
             "solidity": 0.2
            },
            "type": "scatter"
           }
          ],
          "scatter3d": [
           {
            "line": {
             "colorbar": {
              "outlinewidth": 0,
              "ticks": ""
             }
            },
            "marker": {
             "colorbar": {
              "outlinewidth": 0,
              "ticks": ""
             }
            },
            "type": "scatter3d"
           }
          ],
          "scattercarpet": [
           {
            "marker": {
             "colorbar": {
              "outlinewidth": 0,
              "ticks": ""
             }
            },
            "type": "scattercarpet"
           }
          ],
          "scattergeo": [
           {
            "marker": {
             "colorbar": {
              "outlinewidth": 0,
              "ticks": ""
             }
            },
            "type": "scattergeo"
           }
          ],
          "scattergl": [
           {
            "marker": {
             "colorbar": {
              "outlinewidth": 0,
              "ticks": ""
             }
            },
            "type": "scattergl"
           }
          ],
          "scattermap": [
           {
            "marker": {
             "colorbar": {
              "outlinewidth": 0,
              "ticks": ""
             }
            },
            "type": "scattermap"
           }
          ],
          "scattermapbox": [
           {
            "marker": {
             "colorbar": {
              "outlinewidth": 0,
              "ticks": ""
             }
            },
            "type": "scattermapbox"
           }
          ],
          "scatterpolar": [
           {
            "marker": {
             "colorbar": {
              "outlinewidth": 0,
              "ticks": ""
             }
            },
            "type": "scatterpolar"
           }
          ],
          "scatterpolargl": [
           {
            "marker": {
             "colorbar": {
              "outlinewidth": 0,
              "ticks": ""
             }
            },
            "type": "scatterpolargl"
           }
          ],
          "scatterternary": [
           {
            "marker": {
             "colorbar": {
              "outlinewidth": 0,
              "ticks": ""
             }
            },
            "type": "scatterternary"
           }
          ],
          "surface": [
           {
            "colorbar": {
             "outlinewidth": 0,
             "ticks": ""
            },
            "colorscale": [
             [
              0,
              "#0d0887"
             ],
             [
              0.1111111111111111,
              "#46039f"
             ],
             [
              0.2222222222222222,
              "#7201a8"
             ],
             [
              0.3333333333333333,
              "#9c179e"
             ],
             [
              0.4444444444444444,
              "#bd3786"
             ],
             [
              0.5555555555555556,
              "#d8576b"
             ],
             [
              0.6666666666666666,
              "#ed7953"
             ],
             [
              0.7777777777777778,
              "#fb9f3a"
             ],
             [
              0.8888888888888888,
              "#fdca26"
             ],
             [
              1,
              "#f0f921"
             ]
            ],
            "type": "surface"
           }
          ],
          "table": [
           {
            "cells": {
             "fill": {
              "color": "#EBF0F8"
             },
             "line": {
              "color": "white"
             }
            },
            "header": {
             "fill": {
              "color": "#C8D4E3"
             },
             "line": {
              "color": "white"
             }
            },
            "type": "table"
           }
          ]
         },
         "layout": {
          "annotationdefaults": {
           "arrowcolor": "#2a3f5f",
           "arrowhead": 0,
           "arrowwidth": 1
          },
          "autotypenumbers": "strict",
          "coloraxis": {
           "colorbar": {
            "outlinewidth": 0,
            "ticks": ""
           }
          },
          "colorscale": {
           "diverging": [
            [
             0,
             "#8e0152"
            ],
            [
             0.1,
             "#c51b7d"
            ],
            [
             0.2,
             "#de77ae"
            ],
            [
             0.3,
             "#f1b6da"
            ],
            [
             0.4,
             "#fde0ef"
            ],
            [
             0.5,
             "#f7f7f7"
            ],
            [
             0.6,
             "#e6f5d0"
            ],
            [
             0.7,
             "#b8e186"
            ],
            [
             0.8,
             "#7fbc41"
            ],
            [
             0.9,
             "#4d9221"
            ],
            [
             1,
             "#276419"
            ]
           ],
           "sequential": [
            [
             0,
             "#0d0887"
            ],
            [
             0.1111111111111111,
             "#46039f"
            ],
            [
             0.2222222222222222,
             "#7201a8"
            ],
            [
             0.3333333333333333,
             "#9c179e"
            ],
            [
             0.4444444444444444,
             "#bd3786"
            ],
            [
             0.5555555555555556,
             "#d8576b"
            ],
            [
             0.6666666666666666,
             "#ed7953"
            ],
            [
             0.7777777777777778,
             "#fb9f3a"
            ],
            [
             0.8888888888888888,
             "#fdca26"
            ],
            [
             1,
             "#f0f921"
            ]
           ],
           "sequentialminus": [
            [
             0,
             "#0d0887"
            ],
            [
             0.1111111111111111,
             "#46039f"
            ],
            [
             0.2222222222222222,
             "#7201a8"
            ],
            [
             0.3333333333333333,
             "#9c179e"
            ],
            [
             0.4444444444444444,
             "#bd3786"
            ],
            [
             0.5555555555555556,
             "#d8576b"
            ],
            [
             0.6666666666666666,
             "#ed7953"
            ],
            [
             0.7777777777777778,
             "#fb9f3a"
            ],
            [
             0.8888888888888888,
             "#fdca26"
            ],
            [
             1,
             "#f0f921"
            ]
           ]
          },
          "colorway": [
           "#636efa",
           "#EF553B",
           "#00cc96",
           "#ab63fa",
           "#FFA15A",
           "#19d3f3",
           "#FF6692",
           "#B6E880",
           "#FF97FF",
           "#FECB52"
          ],
          "font": {
           "color": "#2a3f5f"
          },
          "geo": {
           "bgcolor": "white",
           "lakecolor": "white",
           "landcolor": "white",
           "showlakes": true,
           "showland": true,
           "subunitcolor": "#C8D4E3"
          },
          "hoverlabel": {
           "align": "left"
          },
          "hovermode": "closest",
          "mapbox": {
           "style": "light"
          },
          "paper_bgcolor": "white",
          "plot_bgcolor": "white",
          "polar": {
           "angularaxis": {
            "gridcolor": "#EBF0F8",
            "linecolor": "#EBF0F8",
            "ticks": ""
           },
           "bgcolor": "white",
           "radialaxis": {
            "gridcolor": "#EBF0F8",
            "linecolor": "#EBF0F8",
            "ticks": ""
           }
          },
          "scene": {
           "xaxis": {
            "backgroundcolor": "white",
            "gridcolor": "#DFE8F3",
            "gridwidth": 2,
            "linecolor": "#EBF0F8",
            "showbackground": true,
            "ticks": "",
            "zerolinecolor": "#EBF0F8"
           },
           "yaxis": {
            "backgroundcolor": "white",
            "gridcolor": "#DFE8F3",
            "gridwidth": 2,
            "linecolor": "#EBF0F8",
            "showbackground": true,
            "ticks": "",
            "zerolinecolor": "#EBF0F8"
           },
           "zaxis": {
            "backgroundcolor": "white",
            "gridcolor": "#DFE8F3",
            "gridwidth": 2,
            "linecolor": "#EBF0F8",
            "showbackground": true,
            "ticks": "",
            "zerolinecolor": "#EBF0F8"
           }
          },
          "shapedefaults": {
           "line": {
            "color": "#2a3f5f"
           }
          },
          "ternary": {
           "aaxis": {
            "gridcolor": "#DFE8F3",
            "linecolor": "#A2B1C6",
            "ticks": ""
           },
           "baxis": {
            "gridcolor": "#DFE8F3",
            "linecolor": "#A2B1C6",
            "ticks": ""
           },
           "bgcolor": "white",
           "caxis": {
            "gridcolor": "#DFE8F3",
            "linecolor": "#A2B1C6",
            "ticks": ""
           }
          },
          "title": {
           "x": 0.05
          },
          "xaxis": {
           "automargin": true,
           "gridcolor": "#EBF0F8",
           "linecolor": "#EBF0F8",
           "ticks": "",
           "title": {
            "standoff": 15
           },
           "zerolinecolor": "#EBF0F8",
           "zerolinewidth": 2
          },
          "yaxis": {
           "automargin": true,
           "gridcolor": "#EBF0F8",
           "linecolor": "#EBF0F8",
           "ticks": "",
           "title": {
            "standoff": 15
           },
           "zerolinecolor": "#EBF0F8",
           "zerolinewidth": 2
          }
         }
        },
        "width": 800,
        "xaxis": {
         "title": {
          "text": "λ [nm]"
         }
        },
        "yaxis": {
         "title": {
          "text": "Intensità di fluorescenza"
         }
        }
       }
      }
     },
     "metadata": {},
     "output_type": "display_data"
    }
   ],
   "source": [
    "file = 'data/GuHCl5.csv'\n",
    "data = read(file)\n",
    "fig = plottiamo(data)\n",
    "\n",
    "fig.write_html('./html/fluorescenza.html')\n",
    "fig.write_image('./images/fluorescenza.png')\n",
    "fig.show()"
   ]
  },
  {
   "cell_type": "markdown",
   "metadata": {},
   "source": [
    "# sovrapposizione spettri"
   ]
  },
  {
   "cell_type": "code",
   "execution_count": 47,
   "metadata": {},
   "outputs": [
    {
     "data": {
      "application/vnd.plotly.v1+json": {
       "config": {
        "plotlyServerURL": "https://plot.ly"
       },
       "data": [
        {
         "line": {
          "color": "rgb(124, 29, 111)"
         },
         "mode": "lines",
         "name": "0.0M",
         "type": "scatter",
         "x": {
          "bdata": "UOtYAK4HQcDo6CQApJBAwKh1LADXA0DAgObw/5kZP8AAAAAAAAA+wKDWsQBcDz3A0NFJAEghPMBQ61gArgc7wIDm8P+ZGTrAAAAAAAAAOcCg1rEAXA84wNDRSQBIITfAUOtYAK4HNsCA5vD/mRk1wAAAAAAAADTAoNaxAFwPM8DQ0UkASCEywFDrWACuBzHAgObw/5kZMMAAAAAAAAAuwECtYwG4HizA4LYzAuD6KcBArWMBuB4owOC2MwLg+iXAQK1jAbgeJMDgtjMC4PohwECtYwG4HiDAwG1nBMD1G8CAWscCcD0YwMBtZwTA9RPAgFrHAnA9EMCAjk4CQAoJwIBaxwJwPQDAAGgO/5+Z8b8AAAAAAAAAAAAsxel/FO4/AONi+3/r/T+ApTj9j8IHQADMeAAwMw9AAAAAAAAAFECApTj9j8IXQECSmPs/ChxAgKU4/Y/CH0AgScz9HwUiQMBSnP5H4SNAIEnM/R8FJkDAUpz+R+EnQCBJzP0fBSpAwFKc/kfhK0AgScz9HwUuQMBSnP5H4S9AkCTm/o8CMUBgKU7/o/AxQJAk5v6PAjNAYClO/6PwM0CQJOb+jwI1QGApTv+j8DVAkCTm/o8CN0BgKU7/o/A3QJAk5v6PAjlAYClO/6PwOUCQJOb+jwI7QGApTv+j8DtAkCTm/o8CPUBgKU7/o/A9QJAk5v6PAj9AYClO/6PwP0BIEnP/R4FAQLAUp/9R+EBASBJz/0eBQUCwFKf/UfhBQEgSc/9HgUJAsBSn/1H4QkBIEnP/R4FDQLAUp/9R+ENASBJz/0eBRECwFKf/UfhEQEgSc/9HgUVAsBSn/1H4RUBIEnP/R4FGQLAUp/9R+EZASBJz/0eBR0CwFKf/UfhHQEgSc/9HgUhAsBSn/1H4SEBIEnP/R4FJQLAUp/9R+ElASBJz/0eBSkCwFKf/UfhKQEgSc/9HgUtAsBSn/1H4S0BIEnP/R4FMQLAUp/9R+ExASBJz/0eBTUCwFKf/UfhNQEgSc/9HgU5AsBSn/1H4TkBIEnP/R4FPQLAUp/9R+E9AJIm5/6NAUEBYitP/KHxQQCSJuf+jwFBAWIrT/yj8UEAkibn/o0BRQFiK0/8ofFFAJIm5/6PAUUBYitP/KPxRQCSJuf+jQFJAWIrT/yh8UkAkibn/o8BSQFiK0/8o/FJAJIm5/6NAU0BYitP/KHxTQCSJuf+jwFNAWIrT/yj8U0Akibn/o0BUQFiK0/8ofFRAJIm5/6PAVEBYitP/KPxUQCSJuf+jQFVAWIrT/yh8VUAAAAAAAMBVQGDGA4CZ+VVALMXpfxQ+VkCMi+3/rXdWQFiK0/8ovFZAAAAAAAAAV0BgxgOAmTlXQCzF6X8UfldAjIvt/623V0BYitP/KPxXQCSJuf+jQFhAWIrT/yh8WEAkibn/o8BYQFiK0/8o/FhAJIm5/6NAWUBYitP/KHxZQCSJuf+jwFlAWIrT/yj8WUAkibn/o0BaQFiK0/8ofFpAAAAAAADAWkBgxgOAmflaQCzF6X8UPltAjIvt/613W0BYitP/KLxbQAAAAAAAAFxAYMYDgJk5XEAsxel/FH5cQIyL7f+tt1xAWIrT/yj8XEA=",
          "dtype": "f8"
         },
         "y": {
          "bdata": "4jed84Nsxz96cLoZjh7CPz/O7P2DccE/BDECupA1xT/jFqoYQNTJP5drvDKZtM0/hKpkJ1dQ0T8WrRkHBWXUPxp4EzJlftY/r8FS/ZfM2D/9tXiLArjaP2wVGBGTmt0/LFNqKf6Q3z9xg4YKEMXgP+usTbO5EOI/rlGLtMs54z8YJNwld0DkPyGfs8Qu2uU/TIDPmUHr5j9U5RI3SXPoPzX4Df+rT+k/GoHACQJm6j8Svrfzv5brP4FL8iNWm+w/jCbs+3xs7T9kDv+uu2vuP6gzKBsmyu4/FsMfrvgW7z9txuElL6TvP9V+pNaSqO8/nLreAXK+7z//Iy0YDuHvP3dY5K+dqe8/tenPIACA7z8AAAAAAADwP8aWjxz0+O8/9EdKSkqb7z8eHa0UL4PvP6gRSXumJ+8/D/TFLgtI7z+OR9mRTpjuP3bZCmoIj+4/xVuQLUlk7j8IYisBXaztP5mfEOo0Ne0/km/mskbP7D9DhR8+dLLsPy3yZ1+Yq+s/yeUI9FlW6z9EsuCs4xTrP3Q7WaufWOo/Ot2U5pr36T9cPvCYyh3pP9WJD5+py+g/maOwfPD65z/qwFwvbpfnP9inU8hA5eY/Sdgw4RqE5j/aXWYnBxnmP/vuvUiCG+U/uRcO9IFi5D96cLzgWMPjPzl30EkpZuM/bS39njJA4j+tgqoWi6vhP4Gz+WGVQeE/H08+dqBO4D8ttt8wYfneP6IKJgEFg94/Ivvues8a3T+uAB5M8QjcP6nIt8LjINs/Ja7JHtTq2T+GxVrDszHZP3Hv/cRExdc/i29MmsCT1j8T8UMNY9zVP8CMsD4RCNU/5D0G7AcW1D95UUTZ0z7TP1prQxFXaNI/5uiDO+im0T//2dcaFKvQP+BPJggTQM8/UT3UefUizj+eqyMxLQvNP3hsuDqwHcw/Lq3VbTfTyj8E+LF10PfIP/nZb2mj/8c/xBlc9aXlxj+ZxC9hoc7FPxXh9IZBC8U/IcjdO1/Twz/l1a1AYCLDP3vKGt66KMI/k9NB5MA7wT/qyR6i+lHAP5jWuXk6fr4/lTnyhXIfvj/VroeR0pC9P4xfYtaU1Lo/fvU4xZS2uT8fF55Zd963P4949l8T87c/zeDJnywLtz9VDl8M7ua0P91IZeZm27M/x5ZuKdtlsz+0tcz7xSWyP4BTSx+5zrE/L2r9oCzPsD84hEyAyvOvP+6sCAECeq4/xdltmCwCrj8Yohl3Ip6sPyJfmibpOqo/Ju4j3zcnqT+myy1Lu4mpPzie8Tsq+qc/s5ddx0sDpj+G7rTFI7+lP9+i1sjdSKQ/HajPUJAYpD+2C2yA4u6iP25bDy0v86E/zl2tjoQFoT+IFVG3UCqhP4wjOLVoC6A/+y61ZXE0nj/cmTHsjZifP2hR5rSTFJ0/WO8h5i8Qmj/4qPqLf7iaPw0cIihcQJk/sFD/QBXglz8lsinU0cmWP/0eJDELoJU/DxTcFSmSlD+VU+5uWFKVP4GdzfB3f5I/tzytgb0dkz+MAKNoOkSTPyxlGnRlHJI/MUxOisChkD8EgtbNC9GQP24+/ivxTo8/SZmSo6dJjD8QN0tAd/+PP+JDo9Q1+Iw/Q8D3V1wQjT8=",
          "dtype": "f8"
         }
        },
        {
         "line": {
          "color": "rgb(185, 37, 122)"
         },
         "mode": "lines",
         "name": "1.57M",
         "type": "scatter",
         "x": {
          "bdata": "EHhgAOF6QMCodSwA1wNAwNAEaAAU7j7AAAAAAAAAPsCAGQ8AZuY8wCDwwADC9TvAUOtYAK4HO8DQBGgAFO45wAAAAAAAADnAgBkPAGbmN8Ag8MAAwvU2wFDrWACuBzbA0ARoABTuNMAAAAAAAAA0wIAZDwBm5jLAIPDAAML1McBQ61gArgcxwKAJ0AAo3C/AAAAAAAAALsAAMx4AzMwrwEDggQGE6ynA4OlRAqzHJ8BA4IEBhOslwODpUQKsxyPAQOCBAYTrIcDA06MEWI8fwIDAAwMI1xvAwNOjBFiPF8CAwAMDCNcTwICnRwmwHg/AAIEHBhCuB8CAWscCcD0AwACaAA2Awu2/AAAAAAAAAAAAaA7/n5nxPwB/+PnvUQBAgKU4/Y/CB0DA7F/+r0cQQAAAAAAAABRAAJrD/2dmGECAP/z89ygcQCAWrv1TOCBAwB9+/nsUIkAgFq79UzgkQMAffv57FCZAIBau/VM4KEDAH37+exQqQCAWrv1TOCxAwB9+/nsULkAQC9f+KRwwQOAPP/89CjFAEAvX/ikcMkDgDz//PQozQBAL1/4pHDRA4A8//z0KNUAQC9f+KRw2QOAPP/89CjdAEAvX/ikcOEDgDz//PQo5QBAL1/4pHDpA4A8//z0KO0AQC9f+KRw8QOAPP/89Cj1AEAvX/ikcPkDgDz//PQo/QIiFa/8UDkBA8Ief/x6FQECIhWv/FA5BQPCHn/8ehUFAiIVr/xQOQkDwh5//HoVCQIiFa/8UDkNA8Ief/x6FQ0CIhWv/FA5EQPCHn/8ehURAiIVr/xQORUDwh5//HoVFQIiFa/8UDkZA8Ief/x6FRkCIhWv/FA5HQPCHn/8ehUdAiIVr/xQOSEDwh5//HoVIQIiFa/8UDklA8Ief/x6FSUCIhWv/FA5KQPCHn/8ehUpAiIVr/xQOS0Dwh5//HoVLQIiFa/8UDkxA8Ief/x6FTECIhWv/FA5NQPCHn/8ehU1AiIVr/xQOTkDwh5//HoVOQIiFa/8UDk9A8Ief/x6FT0DEwrV/CgdQQPjDz3+PQlBAxMK1fwqHUED4w89/j8JQQMTCtX8KB1FA+MPPf49CUUDEwrV/CodRQPjDz3+PwlFAxMK1fwoHUkD4w89/j0JSQMTCtX8Kh1JA+MPPf4/CUkDEwrV/CgdTQPjDz3+PQlNAxMK1fwqHU0D4w89/j8JTQMTCtX8KB1RA+MPPf49CVEDEwrV/CodUQPjDz3+PwlRAxMK1fwoHVUD4w89/j0JVQMTCtX8Kh1VA+MPPf4/CVUCgOfx/ZgZWQAAAAAAAQFZAzP7l/3qEVkAsxel/FL5WQPjDz3+PAldAoDn8f2ZGV0AAAAAAAIBXQMz+5f96xFdALMXpfxT+V0D4w89/j0JYQMTCtX8Kh1hA+MPPf4/CWEDEwrV/CgdZQPjDz3+PQllAxMK1fwqHWUD4w89/j8JZQMTCtX8KB1pA+MPPf49CWkDEwrV/CodaQPjDz3+PwlpAoDn8f2YGW0AAAAAAAEBbQMz+5f96hFtALMXpfxS+W0D4w89/jwJcQKA5/H9mRlxAAAAAAACAXEDM/uX/esRcQCzF6X8U/lxA+MPPf49CXUA=",
          "dtype": "f8"
         },
         "y": {
          "bdata": "z6xVjY7ZyT9nVP03EubEP7BxMQlAkcQ/P5h3W2GCxj8f0S+z6frLP/5md2Yiqs8/FbZ6GY+P0j9ahaTnU5fVPyE/lysWiNc/LjeLp6Yp2j8hus0awkrcP7YsT2KWDt8/lv/rf7M+4D8a/abw/WvhP2xBdG0AiuI/abQ9SzzW4z8imhjATpDkP5yUSNEZF+Y/OF5JGUBe5z8fQ/kf43foP5DoV4+vqOk/L1LnqXYQ6z/G8artz+7rP0deF+pXjuw/DOEgnzRN7T+RNmhkRHruP+enCPr44e4/LRfyGY5g7z+lymdofIvvP9WY0tN+re8/RLJ5THW57z/yHIe5XOPvPwUHJNg9e+8/AAAAAAAA8D8etS9heJjvP4qNTckt2u8/OWA7jpyU7z9kgSEOGdLvPwu1vGinXe8/3Px4+yZf7z/v6pJfPxnvP6cF1LIZWu4/Il1uyo5B7j9TLJbFIm3tPxTxSj9eMe0/f3qpuGSz7D9h5Rn2CWPsP7ZHR595tOs/q/BTe16D6z/qh6oGAsLqP3qMzDvNWuo/alAIVMat6T/UWlXOPYvpP2wsq3fWlOg/Y6rlZvkz6D9URxgCaj7nP2VQ1NZtCOc/uA0l7Ht35j/kT61X+ZjlP043yPQyD+U/cCq8141a5D+uYMk3ha/jP9BTUKLvCuM/ZSxd9LCS4j/ZcqNGKc7hPxs6VHMoHuE/3WISpaCR4D/x1uJYcAzgP9u+EGARCd8/EadvMGu03T+oH0LFvCbcP1e0Fn+w19o/52uA9n5Z2j8SlaY6rCzZP+2XQAcVIdg/i6KsThE81z/+Hgg9wDjWP2cnaqUKBdU/+v1WFWtq1D+5bj66gI3TP6P2kU+Fp9I/8DnJ342k0T8xoI8pwADRP6NmB8QCO9A/joqxhnEXzj+WWrffz6/NP88sGeF3Kcw/KgxK6xNEyz+BgK0JP0nJP33OR6zTP8g/Rk/5zlRnxz9jI5XikkrGP6UNL/vKgsU/E5Us6QudxD+y3RJOi57DPzB0IyZlkcI/4MU8V0eqwT/IBEb7h7bAPwZ3FkBGecA/RbKoGKxWvz9d4H3RD8C9P5gZ88S/bbw/D8KvmHYKuz9HD+9GmHu5P3fCB+h6F7g/ehmuJE0mtz8Ndn/MFXG2PzI7OkUncbU/6B9J0KqNtD9w4mFqgVuzP0tKk2prk7I/+EDaZ0MqsT+dmRrplGiwP/UrrJQlf7A/LJFj6tyjrz8T95N3ZMetP3XBzL/F0Ko/oM+OM/1hqj+rCggHiSKqPy9MgEJc2qg/TAr+RL7lpj8iExq1mAqmP66GckqP26Q/t8+yDUoXpT86Clt+GqyjP2/KcCvRoaI/wXyg9YnnoT+ujyUbBOqgPxu4f9/xF6A/MJdRVLASnz8jcvDJVQmgP1/Q+0tcjJw//1A9VcK/nD8otzruwCabPwuWIuMdpZk/j+ytrGhamT+uLLoc/BqYP7baXcmb1pY//oqZYG0Clz/MxPcIeyWWP+P2bfNoyJQ/nfxRvAH5lD/EMoBnbWOUP47cCbrZy5I/2DAhABjikD+1K/5x2yWSP/SXPdZ78pA/IjDpNiqJjz+4RcVXNUmQPxVBamo7AI0/Wjvw0SsJjj8=",
          "dtype": "f8"
         }
        },
        {
         "line": {
          "color": "rgb(220, 57, 119)"
         },
         "mode": "lines",
         "name": "3.08M",
         "type": "scatter",
         "x": {
          "bdata": "AAAAAAAARsCY/cv/9YhFwFiK0/8o/ETA8Ief/x6FRMCwFKf/UfhDwAAAAAAAgEPAmP3L//UIQ8BYitP/KHxCwPCHn/8eBULAsBSn/1F4QcAAAAAAAABBwJj9y//1iEDAsBSn/1H4P8DgDz//PQo/wGApTv+j8D3AAAAAAAAAPcAw+5f/6xE8wLAUp/9R+DrA4A8//z0KOsBgKU7/o/A4wAAAAAAAADjA0ARoABTuNsAAAAAAAAA2wNAEaAAU7jTAAAAAAAAANMDQBGgAFO4ywAAAAAAAADLA0ARoABTuMMAAAAAAAAAwwKAJ0AAo3C3AAAAAAAAALMBg9i//1yMqwGApTv+j8CfAwB9+/nsUJsDAUpz+R+EjwAAAAAAAACLAYPYv/9cjIMDAUpz+R+EbwIA//Pz3KBjAgKU4/Y/CE8AAAAAAAAAQwIAmQAOgcAfAAAAAAAAAAMAAmgANgMLtvwAAAAAAAAAAALN/+b8e8T8AAAAAAAAAQIDZv/xfjwhAAAAAAAAAEEDA7F/+r0cUQAAAAAAAABhAwOxf/q9HHEAAAAAAAAAgQGD2L//XIyJAAAAAAAAAJEBg9i//1yMmQAAAAAAAAChAYPYv/9cjKkAAAAAAAAAsQGD2L//XIy5AAAAAAAAAMEAw+5f/6xExQAAAAAAAADJAMPuX/+sRM0AAAAAAAAA0QDD7l//rETVAAAAAAAAANkAw+5f/6xE3QAAAAAAAADhAMPuX/+sROUAAAAAAAAA6QDD7l//rETtAAAAAAAAAPEAw+5f/6xE9QAAAAAAAAD5AMPuX/+sRP0AAAAAAAABAQJj9y//1iEBAAAAAAAAAQUCY/cv/9YhBQAAAAAAAAEJAmP3L//WIQkAAAAAAAABDQJj9y//1iENAAAAAAAAARECY/cv/9YhEQAAAAAAAAEVAmP3L//WIRUAAAAAAAABGQJj9y//1iEZAAAAAAAAAR0CY/cv/9YhHQAAAAAAAAEhAmP3L//WISEAAAAAAAABJQJj9y//1iElAAAAAAAAASkCY/cv/9YhKQAAAAAAAAEtAmP3L//WIS0AAAAAAAABMQJj9y//1iExAAAAAAAAATUCY/cv/9YhNQAAAAAAAAE5AmP3L//WITkAAAAAAAABPQJj9y//1iE9AAAAAAAAAUEDM/uX/ekRQQAAAAAAAgFBAzP7l/3rEUEAAAAAAAABRQMz+5f96RFFAAAAAAACAUUDM/uX/esRRQAAAAAAAAFJAzP7l/3pEUkAAAAAAAIBSQMz+5f96xFJAAAAAAAAAU0CodSwA10NTQAg8MIBwfVNA1DoWgOvBU0A0ARoAhftTQAAAAAAAQFRAqHUsANeDVEAIPDCAcL1UQNQ6FoDrAVVANAEaAIU7VUAAAAAAAIBVQMz+5f96xFVAAAAAAAAAVkDM/uX/ekRWQAAAAAAAgFZAzP7l/3rEVkAAAAAAAABXQMz+5f96RFdAAAAAAACAV0DM/uX/esRXQAAAAAAAAFhAqHUsANdDWEAIPDCAcH1YQNQ6FoDrwVhANAEaAIX7WEAAAAAAAEBZQKh1LADXg1lACDwwgHC9WUDUOhaA6wFaQDQBGgCFO1pAAAAAAACAWkA=",
          "dtype": "f8"
         },
         "y": {
          "bdata": "AmDstTGtyD/lt3xT89LAP9qpWpOL470/Kn2DZJywvz/QfdVVAGzDPyfVs9t0zMU/EsilijazyD9PHcFqGifMP4QCltePh88/ahnXTV6O0T/+t3pnIxbTP1xfG0Jhx9Q/FbIzZu+z1j+QEl2qBRHYP4y8GreMeto/uKZx/SVu3D+D/WjF1JveP/O280y6cuA/XOZFXCZ44T/iqOHCE5niPwdUoCwKL+M/fmlNj82a5D8/wpg2kknlPzUVlW0iyOY/JX8NuESZ5z+1xG+2faToP/4TcMvQOek/O2sDtyRZ6j/WOivW0XPqPyUIF7MaXOs/yg39+It76z/Rxbnc5VLsPxArgpMXnew/PJTHHYgL7T8SmZ8Ul6TtP+vUl+ZJDe4/mqrB91OP7j/gLERlum3uP39KPTNAYu8/zk1iZpdl7z/fRzlat5LvP1uMGUfNoO8/bTuF0iCb7z+49K1grLzvPwAAAAAAAPA/Vb8OGQa67z+76OyQxMDvP2suXdTZ0e8/u9YcQiXg7z/7WNqqoorvP9w1ASZjNu8/woTpIAsJ7z9f4C7UvNDuPx74R8cCr+4/XvP82JRO7j8BV95ftBLuPyZTDi8wzO0/HsNS5oop7T/d88ujEg3tP7XnTdPJQuw/VMBMwNSF6z/W+aMZh3frP+cRpsEpN+s/Z0seORRt6j8au17pZ9fpP2FbSMvpN+k/dW2o4JWd6D+6q7rS4sbnP/OmQPKZeOc/k/8QVzTq5j+6M6kKZSXmP/erbfPHt+U/eyZYez9V5T/qsuJyHnXkP1EiK02CF+Q/iUGuGlkt4z/3Bmol663iPwrDd2kE/uE/bCT52RaK4T+apJ/9k+zgP7twbMuwf+A/qkk8spvd3z8N6uPI5hHfP4bT3iZHUN0/LnKyGOyr3D8UX7YjkdbbP4WSS85swNo/41cVAwCV2T/Xum+2+cXYPy4y2PdtRNg/FlWL0RUr1z9A/FdLHE7WP8naqosZldU/wTpS9hXT1D8YsN8C2ZLUP7D4EtqxYNM/mNxjZhDn0j/zjVfB7dXRPwzQ6/RwidE/qilCdoqB0D/g3JTsPCHQP0B3C6B5vc4/2wXi9KwBzj9zpLHw8PnMP62aNTvKzss/MgpDpNg4yj84SkoaZwPJPwdoAkQeNsg/dHfpWVtbxj8roNbe8aXFPwWUlmyvVsU/s6nUwQWlxD8FeNJy8f3DP6mMQwcJ6MI/q+bNfbRGwj+PP5L3zvzAP5rJqmz708A/QakmG4EewD/ZVZlTH7e+P8zB+SnKFL0/DoJpf//Fuz+pNflt5q67P87rND9DULo/OYycC7RzuT+Y/XMaMB+4P8FX/f+8Q7c/AAwnDF9atj8ILjDsUVq1P5h67moM9rQ/S/lfSaFDsz8i3LcFTKCyP+/EJBvkdrI/U212roOTsj/3BWRCo72wPy7knJfmZbA/EE788XfKrz+lR0npp4CtP4xsjNVxy6s/SRu58ofEqz99ZvivGPOpPw8SrWdOhKk/gNSuYlAMqD+dDxeq7Q2nP0Kc9osQ2aY/LZww9u6ZpT/6MCvofFSkP57M8VlwR6I/y7G+mw/+oT8+xt3K61aiP3BdG6c8KKE/puMfYblloD8=",
          "dtype": "f8"
         }
        },
        {
         "line": {
          "color": "rgb(227, 79, 111)"
         },
         "mode": "lines",
         "name": "4.6M",
         "type": "scatter",
         "x": {
          "bdata": "AAAAAAAATMCY/cv/9YhLwFiK0/8o/ErA8Ief/x6FSsCwFKf/UfhJwAAAAAAAgEnAmP3L//UIScBYitP/KHxIwPCHn/8eBUjAsBSn/1F4R8AAAAAAAABHwJj9y//1iEbAWIrT/yj8RcDwh5//HoVFwLAUp/9R+ETAAAAAAACARMCY/cv/9QhEwFiK0/8ofEPA8Ief/x4FQ8CwFKf/UXhCwAAAAAAAAELAaAI0AAp3QcAAAAAAAABBwGgCNAAKd0DAAAAAAAAAQMDQBGgAFO4+wAAAAAAAAD7A0ARoABTuPMAAAAAAAAA8wNAEaAAU7jrAAAAAAAAAOsAw+5f/6xE5wLAUp/9R+DfA4A8//z0KN8BgKU7/o/A1wAAAAAAAADXAMPuX/+sRNMCwFKf/UfgywOAPP/89CjLAYClO/6PwMMAAAAAAAAAwwKAJ0AAo3C3AAAAAAAAALMCgCdAAKNwpwAAAAAAAACjAoAnQACjcJcAAAAAAAAAkwKAJ0AAo3CHAAAAAAAAAIMBAE6ABULgbwAAAAAAAABjAQBOgAVC4E8AAAAAAAAAQwIAmQAOgcAfAAAAAAAAAAMAAmgANgMLtvwAAAAAAAAAAALN/+b8e8T8AAAAAAAAAQIDZv/xfjwhAAAAAAAAAEEDA7F/+r0cUQAAAAAAAABhAwOxf/q9HHEAAAAAAAAAgQGD2L//XIyJAAAAAAAAAJEBg9i//1yMmQAAAAAAAAChAYPYv/9cjKkAAAAAAAAAsQGD2L//XIy5AAAAAAAAAMEAw+5f/6xExQAAAAAAAADJAMPuX/+sRM0AAAAAAAAA0QDD7l//rETVAAAAAAAAANkAw+5f/6xE3QAAAAAAAADhAMPuX/+sROUAAAAAAAAA6QDD7l//rETtAAAAAAAAAPEAw+5f/6xE9QAAAAAAAAD5AMPuX/+sRP0AAAAAAAABAQJj9y//1iEBAAAAAAAAAQUCY/cv/9YhBQAAAAAAAAEJAmP3L//WIQkAAAAAAAABDQJj9y//1iENAAAAAAAAARECY/cv/9YhEQAAAAAAAAEVAmP3L//WIRUAAAAAAAABGQJj9y//1iEZAAAAAAAAAR0CY/cv/9YhHQAAAAAAAAEhAmP3L//WISEAAAAAAAABJQJj9y//1iElAAAAAAAAASkCY/cv/9YhKQAAAAAAAAEtAmP3L//WIS0AAAAAAAABMQJj9y//1iExAAAAAAAAATUCY/cv/9YhNQAAAAAAAAE5AmP3L//WITkAAAAAAAABPQJj9y//1iE9AAAAAAAAAUECodSwA10NQQAg8MIBwfVBA1DoWgOvBUEA0ARoAhftQQAAAAAAAQFFAqHUsANeDUUAIPDCAcL1RQNQ6FoDrAVJANAEaAIU7UkAAAAAAAIBSQMz+5f96xFJAAAAAAAAAU0DM/uX/ekRTQAAAAAAAgFNAzP7l/3rEU0AAAAAAAABUQMz+5f96RFRAAAAAAACAVEDM/uX/esRUQAAAAAAAAFVAqHUsANdDVUAIPDCAcH1VQNQ6FoDrwVVANAEaAIX7VUAAAAAAAEBWQKh1LADXg1ZACDwwgHC9VkDUOhaA6wFXQDQBGgCFO1dAAAAAAACAV0A=",
          "dtype": "f8"
         },
         "y": {
          "bdata": "KUAX4Z1KyT80UJxOZoi+P7oXpTl6pK8/UWvv7CIjrD+9QBAilsqrP3waD0tTAbA/7BijEJPJsT/XTV4Yp9qzP9QIoLTGB7c/LEAFtODJuT9yZPLuU8y8P3GBOBhYXcA/sxWkzRW9wj8W0rKAirfEPzG7t1QoqMc/kMF+yqTRyT+WOCVAfnnMP2XWC3PEw88/p9H0mjQX0T+ApfUGUK3SP2TdZNYamtQ//fRulpw41j+yroTNg3jYP8JLfCQwTdo/6u+EnrCQ3D8tnueYVGreP4L5WX9pCuA/H5rfkLlw4T908jgZBh7iP2K3Up2fGeM/t8Czxl7s4z84lfwvVoDkP04vuhXJGuU/P0N0+Kzp5T9uOPDxCKfmPyvgUooFW+c/njryimpN6D+FmjTMud7oP4nF5jOoh+k/Ltyt4Lic6j+paXk/4zrrPx5aY1c8jOs/cMX7eDEl7D+q1f+knLrsP/9PuplWI+0/xbcSmBN47T91HeCROhLuP3XAUjFPLu4/VvjNDdWc7j/U76IDGU7vPyTl1DmYo+8/pA4oMApu7z+wsrP+HKHvPzNiZ7YArO8/DXWAu+KT7z/klkbn+9nvPwAAAAAAAPA/rmdbKmyO7z+zrs5uA9/vPzQE+TL/eu8/MXVgFmVL7z/4zu+Ljb3uP5+zcv0sk+4/CLd0IE0n7j+VhC/eFCruP6MBoc5MZu0/ucGVZNTx7D+BTH6JgJzsP8jL02VEHuw/kPdMGmCd6z/duDtZfgHrP2oLF2q1eeo/8wLYBgo86j+swGH8HFfpPxLLpoSrzeg/gl/+g1VE6D+uKqmqKNnnP0fXoWoGEuc/V9vSICS15j/p5GUlUbrlPzZX+j5pl+U/jYsqW9i15D8gkrDSIibkP3/ucFGYX+M/wgfzbs4b4z+XqawDY3ziP9FfKOI8KOI/UYCtL9d94T+g0m9BzuXgP1TjPqZEg+A/iEey/JjJ3z8YB9L+vonePz+dWogazN0/j+/ooIsn3T8g1C3oML3bPy6wrSjX/do/PzT5Qnlp2T/O9Q6EUdDYP5PxFUriA9g/7l4IjqU81z+Mtl+4EezWP6JZdtvL29U/zzCCBY8h1T9fdnvH6SjUP9uP/oz/kNM/G0Kcfp+u0j83CPDGAVnSPyLYHim8UtE/lHVJtNgQ0T+/a9yCpTfQP3hU52GtHc8/+kGikLr4zj+CHDCpIp3NP6N+hIePesw/q0iObJLryj9B3phDuV/JPxpwZgXMtcg/0tNabIsTyD8h6fpKUqzGPwbx7/ROKMY/QIMor0yOxD9i/MOquonEP0TJszywXsM/Cj2mJg+xwj8q9LorPlfCP1195D23k8E/69cWhwCuwD/nxwI30ri/P1Ll9+Oz2L8/45JgrUzUvT8eMKzyVO67P3MsJgK/WLs/BzV/l2ncuj8aJYS0UXu5P572mb4Nqbg/sjpMZkw2tz9Wlcz7nFi1P117POUaULU/lN/B4eubtD9SHXfvA7CzPy5jdP/0PbM/Lq5q/Vx4sT8y6aU07VKxP/bP+/3Y6LA/FdQQCXEJsD+q7O7KuquuP7FY28DTxqw/qXV8YWjPrD+Z7mMP+z+rP1cJd1PYi6k/jq5aGNrAqT8=",
          "dtype": "f8"
         }
        },
        {
         "line": {
          "color": "rgb(240, 116, 110)"
         },
         "mode": "lines",
         "name": "6.19M",
         "type": "scatter",
         "x": {
          "bdata": "mP3L//WITMAw+5f/6xFMwPCHn/8ehUvAiIVr/xQOS8BIEnP/R4FKwJj9y//1CErAMPuX/+uRScDwh5//HgVJwIiFa/8UjkjASBJz/0cBSMCY/cv/9YhHwDD7l//rEUfA8Ief/x6FRsCIhWv/FA5GwEgSc/9HgUXAmP3L//UIRcAw+5f/65FEwPCHn/8eBUTAiIVr/xSOQ8BIEnP/RwFDwJj9y//1iELAAAAAAAAAQsCY/cv/9YhBwAAAAAAAAEHAmP3L//WIQMAAAAAAAABAwDD7l//rET/AAAAAAAAAPsAw+5f/6xE9wAAAAAAAADzAMPuX/+sRO8Bg9i//1yM6wOAPP/89CjnAEAvX/ikcOMCQJOb+jwI3wDD7l//rETbAYPYv/9cjNcDgDz//PQo0wBAL1/4pHDPAkCTm/o8CMsAw+5f/6xExwAAAAAAAADDAYPYv/9cjLsAAAAAAAAAswGD2L//XIyrAAAAAAAAAKMBg9i//1yMmwAAAAAAAACTAYPYv/9cjIsAAAAAAAAAgwMDsX/6vRxzAAAAAAAAAGMDA7F/+r0cUwAAAAAAAABDAgNm//F+PCMAAAAAAAAAAwACzf/m/HvG/AAAAAAAAAAAAmgANgMLtPwAAAAAAAABAgCZAA6BwB0AAAAAAAAAQQEAToAFQuBNAAAAAAAAAGEBAE6ABULgbQAAAAAAAACBAoAnQACjcIUAAAAAAAAAkQKAJ0AAo3CVAAAAAAAAAKECgCdAAKNwpQAAAAAAAACxAoAnQACjcLUAAAAAAAAAwQNAEaAAU7jBAAAAAAAAAMkDQBGgAFO4yQAAAAAAAADRA0ARoABTuNEAAAAAAAAA2QNAEaAAU7jZAAAAAAAAAOEDQBGgAFO44QAAAAAAAADpA0ARoABTuOkAAAAAAAAA8QNAEaAAU7jxAAAAAAAAAPkDQBGgAFO4+QAAAAAAAAEBAaAI0AAp3QEAAAAAAAABBQGgCNAAKd0FAAAAAAAAAQkBoAjQACndCQAAAAAAAAENAaAI0AAp3Q0AAAAAAAABEQGgCNAAKd0RAAAAAAAAARUBoAjQACndFQAAAAAAAAEZAaAI0AAp3RkAAAAAAAABHQGgCNAAKd0dAAAAAAAAASEBoAjQACndIQAAAAAAAAElAaAI0AAp3SUAAAAAAAABKQGgCNAAKd0pAAAAAAAAAS0BoAjQACndLQAAAAAAAAExAaAI0AAp3TEAAAAAAAABNQGgCNAAKd01AAAAAAAAATkBoAjQACndOQAAAAAAAAE9AaAI0AAp3T0C47YwAuP5PQDw9SoD1OFBACDwwgHB9UEBoAjQACrdQQDQBGgCF+1BA3HZGAFw/UUA8PUqA9XhRQAg8MIBwvVFAaAI0AAr3UUA0ARoAhTtSQAAAAAAAgFJANAEaAIW7UkAAAAAAAABTQDQBGgCFO1NAAAAAAACAU0A0ARoAhbtTQAAAAAAAAFRANAEaAIU7VEAAAAAAAIBUQDQBGgCFu1RA3HZGAFz/VEA8PUqA9ThVQAg8MIBwfVVAaAI0AAq3VUA0ARoAhftVQNx2RgBcP1ZAPD1KgPV4VkAIPDCAcL1WQGgCNAAK91ZANAEaAIU7V0A=",
          "dtype": "f8"
         },
         "y": {
          "bdata": "IcsA1o8Zzz9ljJtPFTHBPzFmPg4eYrE/JJKWahivqj9trTTPGTmqP3XAgyPkpaw/72Sslv2rrz/+8990qkexPysD6nlCW7Q/EUiOuG1xtz/c6H+byP25P/LGf0ZM/L0/tSjiaxmUwD9cwta+4cDCPx030+SuQ8U/OybT3fFRxz9R3tIbV6rJP3lVbo3in8w/a8xBdc7Fzj8hhB5XyJrRP8JJt1ft7NI/CrSVhJzx1D/HJeDEd5vWP5tK+PCa5Ng/RFNKYMhJ2z8YFhA5k/zcP2yofiREqt4/few+I7vJ4D+EClDiDKDhPz0aJQMgjOI/+nm5hEFc4z+IbGuQFIjjP35Z9GV+fOQ/eCm+4v5V5T+eTiIFAiHmP/CmpDjQneY/zTw1DU5p5z9ZkC6dxB/oPyp+iNFIl+g/a8lzAdu86T9d8zHLWUHqP5UElzcq++o/RPpntCtS6z/gSN0P/ATsP6gFAH6XP+w/CvYUT2zG7D8NQXsCP0ztP+iON3LAt+0/xtVMkSQp7j+XxyI5UWLuP/mUAYsC3+4/U6cEk4gX7z+Oe/k2y1bvPwUpStKdTO8/FXcHK7aw7z8J/7Akl2PvP5RuY9u3yu8/AAAAAAAA8D8BMIeQ+EDvP0JdXbjTPe8/8EPFZC0B7z8Lr+rceb/uP1CYN3Lgru4/ktUgNM3Z7T/6JHyqdxfuP4inW1BiF+0/oMu5FT7V7D/929StuZrsP57+c2qy4es/BTu/KExz6z8Xx0tIpQLrPwyS3tWSgeo/NlGdhOwF6j+CnHipAobpP0tF9+SpNOk/mrxWXriz6D9rd1O7h/TnP5WODJbwNuc/ga/+Trra5j8v/uV4kBTmP5znuMaInuU/hJg77SnD5D9gK0lCCy7kPyYmJlGJheM/65ZHESJl4z939eNGp5fiPzspSpwr7OE/KcRkKaSL4T+kaR2RqAThP63ybxghV+A/slkZ55nr3z9x293f86beP1nig0pW5N0/n2Y0v7MP3T+13Qo05zjcPzSUvNKzxdo/3SSisPEV2j/kTnMSNEPZP/TRoNT7D9g/GsokiEbE1z98q89LDWXWP/80gt7Z79U/kCOy9q831T8Bln7BGtzUP0v8YAl21dM/4ed0KHPC0j/podYM74jSP+otgvGbatE/HOUc3il30T+KSRvTHF3QPxuPTsg6ZNA//iYt+Qz5zT/whfmV4YvNP3w0Ba/m/ss/D/MpNmo+yz8iav0M9PnJP8vaqbNhCck/5ZnIKOjixz980uHHB+zGP1vuLWIGjsU/fKqUhxdBxT8CRv+8mGvEPzDBy4RFocM/WiOg3OFXwj8Q1yiXBVzCPzpaVYd0mcE/L8h2yonCwD8WU7+pZx7APxcG3AkBd74/2ovOHQTzvT+1OGOC0Sm9P3ux+yIAmLs/PgsUuWVwuz90t3FiNam5P5i3uzOHnLg/noaLg0s6tj8DLkgWHQy2P6LSUwCsebU/AEACi0eptD+DGJHXCUO0Pw/GlYBFh7I/BSqk0oFssj+IIKNV/LGxP498hhJRu7A/JIDldm5UsD8Znz517WutPws2Vi+7wq4/f4uoF2IbrT8o+t6vmjKsP1XrZJjJmas/mB1Y8Bm5qT8=",
          "dtype": "f8"
         }
        },
        {
         "line": {
          "color": "rgb(250, 164, 118)"
         },
         "mode": "lines",
         "name": "7.73M",
         "type": "scatter",
         "x": {
          "bdata": "mP3L//WIS8Aw+5f/6xFLwPCHn/8ehUrAiIVr/xQOSsBIEnP/R4FJwJj9y//1CEnAMPuX/+uRSMDwh5//HgVIwIiFa/8UjkfASBJz/0cBR8CY/cv/9YhGwDD7l//rEUbA8Ief/x6FRcCIhWv/FA5FwEgSc/9HgUTAmP3L//UIRMAw+5f/65FDwPCHn/8eBUPAiIVr/xSOQsBIEnP/RwFCwJj9y//1iEHAAAAAAAAAQcCY/cv/9YhAwAAAAAAAAEDAMPuX/+sRP8AAAAAAAAA+wDD7l//rET3AAAAAAAAAPMAw+5f/6xE7wAAAAAAAADrAMPuX/+sROcBg9i//1yM4wOAPP/89CjfAEAvX/ikcNsCQJOb+jwI1wDD7l//rETTAYPYv/9cjM8DgDz//PQoywBAL1/4pHDHAkCTm/o8CMMBg9i//1yMuwAAAAAAAACzAYPYv/9cjKsAAAAAAAAAowGD2L//XIybAAAAAAAAAJMBg9i//1yMiwAAAAAAAACDAwOxf/q9HHMAAAAAAAAAYwMDsX/6vRxTAAAAAAAAAEMCA2b/8X48IwAAAAAAAAADAALN/+b8e8b8AAAAAAAAAAACaAA2Awu0/AAAAAAAAAECAJkADoHAHQAAAAAAAABBAQBOgAVC4E0AAAAAAAAAYQEAToAFQuBtAAAAAAAAAIECgCdAAKNwhQAAAAAAAACRAoAnQACjcJUAAAAAAAAAoQKAJ0AAo3ClAAAAAAAAALECgCdAAKNwtQAAAAAAAADBA0ARoABTuMEAAAAAAAAAyQNAEaAAU7jJAAAAAAAAANEDQBGgAFO40QAAAAAAAADZA0ARoABTuNkAAAAAAAAA4QNAEaAAU7jhAAAAAAAAAOkDQBGgAFO46QAAAAAAAADxA0ARoABTuPEAAAAAAAAA+QNAEaAAU7j5AAAAAAAAAQEBoAjQACndAQAAAAAAAAEFAaAI0AAp3QUAAAAAAAABCQGgCNAAKd0JAAAAAAAAAQ0BoAjQACndDQAAAAAAAAERAaAI0AAp3REAAAAAAAABFQGgCNAAKd0VAAAAAAAAARkBoAjQACndGQAAAAAAAAEdAaAI0AAp3R0AAAAAAAABIQGgCNAAKd0hAAAAAAAAASUBoAjQACndJQAAAAAAAAEpAaAI0AAp3SkAAAAAAAABLQGgCNAAKd0tAAAAAAAAATEBoAjQACndMQAAAAAAAAE1AaAI0AAp3TUAAAAAAAABOQGgCNAAKd05AAAAAAAAAT0BoAjQACndPQAAAAAAAAFBANAEaAIU7UEDcdkYAXH9QQDw9SoD1uFBACDwwgHD9UEBoAjQACjdRQDQBGgCFe1FA3HZGAFy/UUA8PUqA9fhRQAg8MIBwPVJAaAI0AAp3UkA0ARoAhbtSQAAAAAAAAFNANAEaAIU7U0AAAAAAAIBTQDQBGgCFu1NAAAAAAAAAVEA0ARoAhTtUQAAAAAAAgFRANAEaAIW7VEAAAAAAAABVQDQBGgCFO1VA3HZGAFx/VUA8PUqA9bhVQAg8MIBw/VVAaAI0AAo3VkA0ARoAhXtWQNx2RgBcv1ZAPD1KgPX4VkAIPDCAcD1XQGgCNAAKd1dANAEaAIW7V0A=",
          "dtype": "f8"
         },
         "y": {
          "bdata": "6YcQWLBN0D/EvhjphzLDP/LzzxAq+bE/NxprIequqz+8159ardGqP0RuklNlCK0/u1DZ7VKirz8as9NnbjuyP7v9c648a7Q/EPr6ictVuD/q8uKN89u5P8w+wqEz0bw/SO1bK469wD+rxzMniaPCP8WS8HANRcU/aO7t66evxz/rNaQg2rXJP4/O/c7vPsw/KdLqrUGQzz+1WYfXb1XRPwWz7SWF2dI/ca83ccin1D9zZh8TTHrWPwhC3Bp44Ng/lzCcq/d/2j9dYnghGvTcP4UZylo5Dd8/mDK9b6p/4D/am6LVOSjhP9F8Q3F3MuI/sE/0gRkS4z+7bypoin/jPyGPQrc1aeQ/GLS1YlQF5T+HdYQ+7cTlP6iefKAY5uY/4lw+e2IZ5z/sRB+KVFToP3BqRzU69Og/bY7mQqrL6T9kn3GRz2bqPy5lFWji/uo/SN0x8+/N6z8R0DKfoVnsP/74aLcpyew/7Qeaom4k7T99lK3SFfvtP0t5mpGkRO4/YUw0rvA27j+ACUTraOTuPwMxBa25P+8/0NQCu8VM7z/oNpQlhobvP2zNavyw6+8/Vjk7lBjm7z8AAAAAAADwP1LEaP3f1+8/ZwmlTSv77z9QAu2Mq5LvP4DN9cAu8+8/yzRuCOBo7z+SgtaIrUnvP1pYv8kk0O4/d/V7KTOw7j9XSFF5IU7uPxci5jiK7e0/3c4SFF6u7T8cyAvjZNXsPz+h5/6ePew/E8Q6Jav16z+lIa1XPVPrP2vMJlpST+s/3vLUTMcz6j9xsz5ZeuDpP04UKcfgrOk/7S20zOms6D9PHr2OaGboP/wg/I0EZuc/Td1A1Dsu5z8Cvbh4a7rmP/GeQHqv/OU/xgRM5x+E5T+fsgHrE6PkP7hWKYh96eM/tFsi4mFh4z8ZS0O8hAjjP7+TGc2fXeI/mvGb7Sr34T+5mQ9a0T/hPzsSHsgH4+A/HloBTeBz4D/XyB+80SLfP3LvKaTsnd4/Y8RxVrxi3T/2DiIVMNvcPz2ovTgSlts/THRMVsrM2j9YDmCkbcnZP7T7SnrIrtg/HhQ3jdm31z+o9iXHMlzXP7ymW5u11NY/X6AZ4ybR1T8SXqWTgdTUP7tN7wyJUtQ/oiziJiKB0z877+qwG/3SP2gaxriyxNE/Ei7Fu3Be0T9mVuMyIfLQPwTjFHiDF9A/FQRDsQOEzj8gST+eJcXOP2VQMzh2J80/a58dk1OTyz/oe9g/o4/KPyxINHUY2ck/oM6n+hFDyD9aYYMW+d3HP9KdrmbWm8Y/HYepp4x8xT/X+7m2tOjEPw2rhuYx9cM/uNILpXV+wz9AnMQSCKfCP+BNXdXSBcI/rV+6a4g7wT+5W1TF8yHBPzzT+pmDAcA/sVxf1XEkvj8BUl5lgZW9P9zs8Oh0ULw/KomjGMJQuz+Rf71Tb925P/SH1F9yN7k/El2B2F2Otz/hnmMHy4W3P/I24GZ9GrY/sAx9R82BtD/Nl8FYUPq0P/urCR5EVbM/UbNB9uKzsj8i57eXunKxPzm9zcgMBbE/4SriLaRlsD+01sJBxPOvP06i/YgViq4/6GPghsSLrT+gcWKWI/GrP+wvjQ8Yqas/ss4MaA5bqj8=",
          "dtype": "f8"
         }
        }
       ],
       "layout": {
        "height": 500,
        "legend": {
         "x": 1,
         "xanchor": "right",
         "y": 1,
         "yanchor": "top"
        },
        "template": {
         "data": {
          "bar": [
           {
            "error_x": {
             "color": "#2a3f5f"
            },
            "error_y": {
             "color": "#2a3f5f"
            },
            "marker": {
             "line": {
              "color": "white",
              "width": 0.5
             },
             "pattern": {
              "fillmode": "overlay",
              "size": 10,
              "solidity": 0.2
             }
            },
            "type": "bar"
           }
          ],
          "barpolar": [
           {
            "marker": {
             "line": {
              "color": "white",
              "width": 0.5
             },
             "pattern": {
              "fillmode": "overlay",
              "size": 10,
              "solidity": 0.2
             }
            },
            "type": "barpolar"
           }
          ],
          "carpet": [
           {
            "aaxis": {
             "endlinecolor": "#2a3f5f",
             "gridcolor": "#C8D4E3",
             "linecolor": "#C8D4E3",
             "minorgridcolor": "#C8D4E3",
             "startlinecolor": "#2a3f5f"
            },
            "baxis": {
             "endlinecolor": "#2a3f5f",
             "gridcolor": "#C8D4E3",
             "linecolor": "#C8D4E3",
             "minorgridcolor": "#C8D4E3",
             "startlinecolor": "#2a3f5f"
            },
            "type": "carpet"
           }
          ],
          "choropleth": [
           {
            "colorbar": {
             "outlinewidth": 0,
             "ticks": ""
            },
            "type": "choropleth"
           }
          ],
          "contour": [
           {
            "colorbar": {
             "outlinewidth": 0,
             "ticks": ""
            },
            "colorscale": [
             [
              0,
              "#0d0887"
             ],
             [
              0.1111111111111111,
              "#46039f"
             ],
             [
              0.2222222222222222,
              "#7201a8"
             ],
             [
              0.3333333333333333,
              "#9c179e"
             ],
             [
              0.4444444444444444,
              "#bd3786"
             ],
             [
              0.5555555555555556,
              "#d8576b"
             ],
             [
              0.6666666666666666,
              "#ed7953"
             ],
             [
              0.7777777777777778,
              "#fb9f3a"
             ],
             [
              0.8888888888888888,
              "#fdca26"
             ],
             [
              1,
              "#f0f921"
             ]
            ],
            "type": "contour"
           }
          ],
          "contourcarpet": [
           {
            "colorbar": {
             "outlinewidth": 0,
             "ticks": ""
            },
            "type": "contourcarpet"
           }
          ],
          "heatmap": [
           {
            "colorbar": {
             "outlinewidth": 0,
             "ticks": ""
            },
            "colorscale": [
             [
              0,
              "#0d0887"
             ],
             [
              0.1111111111111111,
              "#46039f"
             ],
             [
              0.2222222222222222,
              "#7201a8"
             ],
             [
              0.3333333333333333,
              "#9c179e"
             ],
             [
              0.4444444444444444,
              "#bd3786"
             ],
             [
              0.5555555555555556,
              "#d8576b"
             ],
             [
              0.6666666666666666,
              "#ed7953"
             ],
             [
              0.7777777777777778,
              "#fb9f3a"
             ],
             [
              0.8888888888888888,
              "#fdca26"
             ],
             [
              1,
              "#f0f921"
             ]
            ],
            "type": "heatmap"
           }
          ],
          "histogram": [
           {
            "marker": {
             "pattern": {
              "fillmode": "overlay",
              "size": 10,
              "solidity": 0.2
             }
            },
            "type": "histogram"
           }
          ],
          "histogram2d": [
           {
            "colorbar": {
             "outlinewidth": 0,
             "ticks": ""
            },
            "colorscale": [
             [
              0,
              "#0d0887"
             ],
             [
              0.1111111111111111,
              "#46039f"
             ],
             [
              0.2222222222222222,
              "#7201a8"
             ],
             [
              0.3333333333333333,
              "#9c179e"
             ],
             [
              0.4444444444444444,
              "#bd3786"
             ],
             [
              0.5555555555555556,
              "#d8576b"
             ],
             [
              0.6666666666666666,
              "#ed7953"
             ],
             [
              0.7777777777777778,
              "#fb9f3a"
             ],
             [
              0.8888888888888888,
              "#fdca26"
             ],
             [
              1,
              "#f0f921"
             ]
            ],
            "type": "histogram2d"
           }
          ],
          "histogram2dcontour": [
           {
            "colorbar": {
             "outlinewidth": 0,
             "ticks": ""
            },
            "colorscale": [
             [
              0,
              "#0d0887"
             ],
             [
              0.1111111111111111,
              "#46039f"
             ],
             [
              0.2222222222222222,
              "#7201a8"
             ],
             [
              0.3333333333333333,
              "#9c179e"
             ],
             [
              0.4444444444444444,
              "#bd3786"
             ],
             [
              0.5555555555555556,
              "#d8576b"
             ],
             [
              0.6666666666666666,
              "#ed7953"
             ],
             [
              0.7777777777777778,
              "#fb9f3a"
             ],
             [
              0.8888888888888888,
              "#fdca26"
             ],
             [
              1,
              "#f0f921"
             ]
            ],
            "type": "histogram2dcontour"
           }
          ],
          "mesh3d": [
           {
            "colorbar": {
             "outlinewidth": 0,
             "ticks": ""
            },
            "type": "mesh3d"
           }
          ],
          "parcoords": [
           {
            "line": {
             "colorbar": {
              "outlinewidth": 0,
              "ticks": ""
             }
            },
            "type": "parcoords"
           }
          ],
          "pie": [
           {
            "automargin": true,
            "type": "pie"
           }
          ],
          "scatter": [
           {
            "fillpattern": {
             "fillmode": "overlay",
             "size": 10,
             "solidity": 0.2
            },
            "type": "scatter"
           }
          ],
          "scatter3d": [
           {
            "line": {
             "colorbar": {
              "outlinewidth": 0,
              "ticks": ""
             }
            },
            "marker": {
             "colorbar": {
              "outlinewidth": 0,
              "ticks": ""
             }
            },
            "type": "scatter3d"
           }
          ],
          "scattercarpet": [
           {
            "marker": {
             "colorbar": {
              "outlinewidth": 0,
              "ticks": ""
             }
            },
            "type": "scattercarpet"
           }
          ],
          "scattergeo": [
           {
            "marker": {
             "colorbar": {
              "outlinewidth": 0,
              "ticks": ""
             }
            },
            "type": "scattergeo"
           }
          ],
          "scattergl": [
           {
            "marker": {
             "colorbar": {
              "outlinewidth": 0,
              "ticks": ""
             }
            },
            "type": "scattergl"
           }
          ],
          "scattermap": [
           {
            "marker": {
             "colorbar": {
              "outlinewidth": 0,
              "ticks": ""
             }
            },
            "type": "scattermap"
           }
          ],
          "scattermapbox": [
           {
            "marker": {
             "colorbar": {
              "outlinewidth": 0,
              "ticks": ""
             }
            },
            "type": "scattermapbox"
           }
          ],
          "scatterpolar": [
           {
            "marker": {
             "colorbar": {
              "outlinewidth": 0,
              "ticks": ""
             }
            },
            "type": "scatterpolar"
           }
          ],
          "scatterpolargl": [
           {
            "marker": {
             "colorbar": {
              "outlinewidth": 0,
              "ticks": ""
             }
            },
            "type": "scatterpolargl"
           }
          ],
          "scatterternary": [
           {
            "marker": {
             "colorbar": {
              "outlinewidth": 0,
              "ticks": ""
             }
            },
            "type": "scatterternary"
           }
          ],
          "surface": [
           {
            "colorbar": {
             "outlinewidth": 0,
             "ticks": ""
            },
            "colorscale": [
             [
              0,
              "#0d0887"
             ],
             [
              0.1111111111111111,
              "#46039f"
             ],
             [
              0.2222222222222222,
              "#7201a8"
             ],
             [
              0.3333333333333333,
              "#9c179e"
             ],
             [
              0.4444444444444444,
              "#bd3786"
             ],
             [
              0.5555555555555556,
              "#d8576b"
             ],
             [
              0.6666666666666666,
              "#ed7953"
             ],
             [
              0.7777777777777778,
              "#fb9f3a"
             ],
             [
              0.8888888888888888,
              "#fdca26"
             ],
             [
              1,
              "#f0f921"
             ]
            ],
            "type": "surface"
           }
          ],
          "table": [
           {
            "cells": {
             "fill": {
              "color": "#EBF0F8"
             },
             "line": {
              "color": "white"
             }
            },
            "header": {
             "fill": {
              "color": "#C8D4E3"
             },
             "line": {
              "color": "white"
             }
            },
            "type": "table"
           }
          ]
         },
         "layout": {
          "annotationdefaults": {
           "arrowcolor": "#2a3f5f",
           "arrowhead": 0,
           "arrowwidth": 1
          },
          "autotypenumbers": "strict",
          "coloraxis": {
           "colorbar": {
            "outlinewidth": 0,
            "ticks": ""
           }
          },
          "colorscale": {
           "diverging": [
            [
             0,
             "#8e0152"
            ],
            [
             0.1,
             "#c51b7d"
            ],
            [
             0.2,
             "#de77ae"
            ],
            [
             0.3,
             "#f1b6da"
            ],
            [
             0.4,
             "#fde0ef"
            ],
            [
             0.5,
             "#f7f7f7"
            ],
            [
             0.6,
             "#e6f5d0"
            ],
            [
             0.7,
             "#b8e186"
            ],
            [
             0.8,
             "#7fbc41"
            ],
            [
             0.9,
             "#4d9221"
            ],
            [
             1,
             "#276419"
            ]
           ],
           "sequential": [
            [
             0,
             "#0d0887"
            ],
            [
             0.1111111111111111,
             "#46039f"
            ],
            [
             0.2222222222222222,
             "#7201a8"
            ],
            [
             0.3333333333333333,
             "#9c179e"
            ],
            [
             0.4444444444444444,
             "#bd3786"
            ],
            [
             0.5555555555555556,
             "#d8576b"
            ],
            [
             0.6666666666666666,
             "#ed7953"
            ],
            [
             0.7777777777777778,
             "#fb9f3a"
            ],
            [
             0.8888888888888888,
             "#fdca26"
            ],
            [
             1,
             "#f0f921"
            ]
           ],
           "sequentialminus": [
            [
             0,
             "#0d0887"
            ],
            [
             0.1111111111111111,
             "#46039f"
            ],
            [
             0.2222222222222222,
             "#7201a8"
            ],
            [
             0.3333333333333333,
             "#9c179e"
            ],
            [
             0.4444444444444444,
             "#bd3786"
            ],
            [
             0.5555555555555556,
             "#d8576b"
            ],
            [
             0.6666666666666666,
             "#ed7953"
            ],
            [
             0.7777777777777778,
             "#fb9f3a"
            ],
            [
             0.8888888888888888,
             "#fdca26"
            ],
            [
             1,
             "#f0f921"
            ]
           ]
          },
          "colorway": [
           "#636efa",
           "#EF553B",
           "#00cc96",
           "#ab63fa",
           "#FFA15A",
           "#19d3f3",
           "#FF6692",
           "#B6E880",
           "#FF97FF",
           "#FECB52"
          ],
          "font": {
           "color": "#2a3f5f"
          },
          "geo": {
           "bgcolor": "white",
           "lakecolor": "white",
           "landcolor": "white",
           "showlakes": true,
           "showland": true,
           "subunitcolor": "#C8D4E3"
          },
          "hoverlabel": {
           "align": "left"
          },
          "hovermode": "closest",
          "mapbox": {
           "style": "light"
          },
          "paper_bgcolor": "white",
          "plot_bgcolor": "white",
          "polar": {
           "angularaxis": {
            "gridcolor": "#EBF0F8",
            "linecolor": "#EBF0F8",
            "ticks": ""
           },
           "bgcolor": "white",
           "radialaxis": {
            "gridcolor": "#EBF0F8",
            "linecolor": "#EBF0F8",
            "ticks": ""
           }
          },
          "scene": {
           "xaxis": {
            "backgroundcolor": "white",
            "gridcolor": "#DFE8F3",
            "gridwidth": 2,
            "linecolor": "#EBF0F8",
            "showbackground": true,
            "ticks": "",
            "zerolinecolor": "#EBF0F8"
           },
           "yaxis": {
            "backgroundcolor": "white",
            "gridcolor": "#DFE8F3",
            "gridwidth": 2,
            "linecolor": "#EBF0F8",
            "showbackground": true,
            "ticks": "",
            "zerolinecolor": "#EBF0F8"
           },
           "zaxis": {
            "backgroundcolor": "white",
            "gridcolor": "#DFE8F3",
            "gridwidth": 2,
            "linecolor": "#EBF0F8",
            "showbackground": true,
            "ticks": "",
            "zerolinecolor": "#EBF0F8"
           }
          },
          "shapedefaults": {
           "line": {
            "color": "#2a3f5f"
           }
          },
          "ternary": {
           "aaxis": {
            "gridcolor": "#DFE8F3",
            "linecolor": "#A2B1C6",
            "ticks": ""
           },
           "baxis": {
            "gridcolor": "#DFE8F3",
            "linecolor": "#A2B1C6",
            "ticks": ""
           },
           "bgcolor": "white",
           "caxis": {
            "gridcolor": "#DFE8F3",
            "linecolor": "#A2B1C6",
            "ticks": ""
           }
          },
          "title": {
           "x": 0.05
          },
          "xaxis": {
           "automargin": true,
           "gridcolor": "#EBF0F8",
           "linecolor": "#EBF0F8",
           "ticks": "",
           "title": {
            "standoff": 15
           },
           "zerolinecolor": "#EBF0F8",
           "zerolinewidth": 2
          },
          "yaxis": {
           "automargin": true,
           "gridcolor": "#EBF0F8",
           "linecolor": "#EBF0F8",
           "ticks": "",
           "title": {
            "standoff": 15
           },
           "zerolinecolor": "#EBF0F8",
           "zerolinewidth": 2
          }
         }
        },
        "width": 800,
        "xaxis": {
         "title": {
          "text": "λ [nm]"
         }
        },
        "yaxis": {
         "title": {
          "text": "Intensità di fluorescenza normalizzata"
         }
        }
       }
      }
     },
     "metadata": {},
     "output_type": "display_data"
    }
   ],
   "source": [
    "fig = go.Figure()\n",
    "colors = sequential.Sunsetdark_r[:6]\n",
    "\n",
    "for i in range(6):\n",
    "    fig.add_trace(go.Scatter(\n",
    "        x = data[f'w{i}'] - data[f'w{i}'][data[f'I{i}'].idxmax()],  # shift per centrare\n",
    "        y = data[f'I{i}']/np.max(data[f'I{i}']),  # normalizzazione \n",
    "        mode = 'lines', \n",
    "        name = f'{np.round(concentrazioni[i],2)}M',\n",
    "        line = dict(color = colors[i])\n",
    "    ))\n",
    "\n",
    "\n",
    "fig.update_layout( \n",
    "    xaxis_title = \"λ [nm]\",\n",
    "    yaxis_title = \"Intensità di fluorescenza normalizzata\",\n",
    "    template = \"plotly_white\",\n",
    "    height = 500,\n",
    "    width = 800,\n",
    "    legend=dict(\n",
    "        x=1,\n",
    "        y=1,\n",
    "        xanchor='right',\n",
    "        yanchor='top'\n",
    "    )\n",
    ")\n",
    "\n",
    "fig.write_html('./html/fluorescenza_normalizzata.html')\n",
    "fig.write_image('./images/fluorescenza_normalizzata.png')\n",
    "fig.show()"
   ]
  },
  {
   "cell_type": "markdown",
   "metadata": {},
   "source": [
    "# fit"
   ]
  },
  {
   "cell_type": "code",
   "execution_count": 48,
   "metadata": {},
   "outputs": [],
   "source": [
    "def parabola(x, a, x0, yV):\n",
    "    return -a * (x - x0)**2 + yV"
   ]
  },
  {
   "cell_type": "code",
   "execution_count": 49,
   "metadata": {},
   "outputs": [
    {
     "name": "stdout",
     "output_type": "stream",
     "text": [
      "{'0 M': array([4.20802185e-01, 3.33274780e+02, 5.75792305e+02]), '1 M': array([5.47102862e-01, 3.33446735e+02, 6.49519720e+02]), '2 M': array([4.41440044e-01, 3.44718788e+02, 7.46069908e+02]), '3 M': array([4.76240040e-01, 3.54877823e+02, 6.49345047e+02]), '4 M': array([4.96232169e-01, 3.55621363e+02, 6.25731630e+02]), '5 M': array([4.91838832e-01, 3.55713550e+02, 6.68858279e+02])}\n"
     ]
    }
   ],
   "source": [
    "# FIT\n",
    "\n",
    "fit_results, fit_errors = {}, {}\n",
    "VERTEX = []\n",
    "errorVertex = []\n",
    "SIGMA_LAMBDA = 1.5  # nm DICHIARATI DAL COSTRUTTORE\n",
    "POINTS_AROUND_MAX = 10  # Numero di punti attorno al massimo per il fit\n",
    "\n",
    "for i in range(6):\n",
    "    w_col, I_col = f'w{i}', f'I{i}'\n",
    "    max_idx = data[I_col].idxmax()\n",
    "    l_idx = max_idx - POINTS_AROUND_MAX\n",
    "    r_idx = max_idx + POINTS_AROUND_MAX\n",
    "\n",
    "    # subset per il fit parabolico\n",
    "    w_subset, I_subset = data[w_col].iloc[l_idx:r_idx + 1], data[I_col].iloc[l_idx:r_idx + 1]  # subset creato con gli indici nel range\n",
    "\n",
    "    # Iterazione 0\n",
    "    popt, pcov = curve_fit(parabola, w_subset, I_subset, p0=[1, w_subset.mean(), I_subset.max()])\n",
    "    a, λcenter, IMAX = popt\n",
    "    error_a, error_λcenter, error_IMAX = np.sqrt(np.diag(pcov))\n",
    "\n",
    "    # Iterazione 1\n",
    "    sy = np.full_like(w_subset, SIGMA_LAMBDA)*a  # Errore su x (sigma lambda)\n",
    "    popt, pcov = curve_fit(parabola, w_subset, I_subset, p0=[a, λcenter, IMAX], sigma=sy)\n",
    "    a, λcenter, IMAX = popt\n",
    "    error_a, error_λcenter, error_IMAX = np.sqrt(np.diag(pcov))\n",
    "\n",
    "    # Salvataggio dei risultati del fit\n",
    "    fit_results[f'{i} M'] = popt\n",
    "    fit_errors[f'{i} M'] = np.sqrt(np.diag(pcov))\n",
    "\n",
    "    # Calcolo del vertice\n",
    "    VERTEX.append([λcenter, IMAX])\n",
    "    errorVertex.append([error_λcenter,error_IMAX])\n",
    "\n",
    "\n",
    "\n",
    "# fit_results = pd.DataFrame(fit_results)\n",
    "print(fit_results)\n"
   ]
  },
  {
   "cell_type": "code",
   "execution_count": 50,
   "metadata": {},
   "outputs": [
    {
     "data": {
      "text/html": [
       "<div>\n",
       "<style scoped>\n",
       "    .dataframe tbody tr th:only-of-type {\n",
       "        vertical-align: middle;\n",
       "    }\n",
       "\n",
       "    .dataframe tbody tr th {\n",
       "        vertical-align: top;\n",
       "    }\n",
       "\n",
       "    .dataframe thead th {\n",
       "        text-align: right;\n",
       "    }\n",
       "</style>\n",
       "<table border=\"1\" class=\"dataframe\">\n",
       "  <thead>\n",
       "    <tr style=\"text-align: right;\">\n",
       "      <th></th>\n",
       "      <th>0 M</th>\n",
       "      <th>1 M</th>\n",
       "      <th>2 M</th>\n",
       "      <th>3 M</th>\n",
       "      <th>4 M</th>\n",
       "      <th>5 M</th>\n",
       "    </tr>\n",
       "  </thead>\n",
       "  <tbody>\n",
       "    <tr>\n",
       "      <th>a</th>\n",
       "      <td>0.420802</td>\n",
       "      <td>0.547103</td>\n",
       "      <td>0.441440</td>\n",
       "      <td>0.476240</td>\n",
       "      <td>0.496232</td>\n",
       "      <td>0.491839</td>\n",
       "    </tr>\n",
       "    <tr>\n",
       "      <th>λcenter</th>\n",
       "      <td>333.274780</td>\n",
       "      <td>333.446735</td>\n",
       "      <td>344.718788</td>\n",
       "      <td>354.877823</td>\n",
       "      <td>355.621363</td>\n",
       "      <td>355.713550</td>\n",
       "    </tr>\n",
       "    <tr>\n",
       "      <th>IMAX</th>\n",
       "      <td>575.792305</td>\n",
       "      <td>649.519720</td>\n",
       "      <td>746.069908</td>\n",
       "      <td>649.345047</td>\n",
       "      <td>625.731630</td>\n",
       "      <td>668.858279</td>\n",
       "    </tr>\n",
       "  </tbody>\n",
       "</table>\n",
       "</div>"
      ],
      "text/plain": [
       "                0 M         1 M         2 M         3 M         4 M  \\\n",
       "a          0.420802    0.547103    0.441440    0.476240    0.496232   \n",
       "λcenter  333.274780  333.446735  344.718788  354.877823  355.621363   \n",
       "IMAX     575.792305  649.519720  746.069908  649.345047  625.731630   \n",
       "\n",
       "                5 M  \n",
       "a          0.491839  \n",
       "λcenter  355.713550  \n",
       "IMAX     668.858279  "
      ]
     },
     "metadata": {},
     "output_type": "display_data"
    }
   ],
   "source": [
    "dataframe_fit = pd.DataFrame(fit_results, index=['a', 'λcenter', 'IMAX'])\n",
    "display(dataframe_fit)"
   ]
  },
  {
   "cell_type": "code",
   "execution_count": 51,
   "metadata": {},
   "outputs": [
    {
     "data": {
      "application/vnd.plotly.v1+json": {
       "config": {
        "plotlyServerURL": "https://plot.ly"
       },
       "data": [
        {
         "line": {
          "color": "rgb(124, 29, 111)",
          "dash": "dot"
         },
         "mode": "lines",
         "name": "0.0 M",
         "type": "scatter",
         "x": {
          "bdata": "AAAAAADAckBNgAZA4c5yQLWOBeB64HJAAg8MIFzvckBqHQvA9QBzQAAAAAAAEHNATYAGQOEec0C1jgXgejBzQAIPDCBcP3NAah0LwPVQc0AAAAAAAGBzQE2ABkDhbnNAtY4F4HqAc0ACDwwgXI9zQGodC8D1oHNAAAAAAACwc0BNgAZA4b5zQLWOBeB60HNAAg8MIFzfc0BqHQvA9fBzQAAAAAAAAHRAs3/5vx4RdEAAAAAAACB0QLN/+b8eMXRAAAAAAABAdECzf/m/HlF0QAAAAAAAYHRAs3/5vx5xdEAAAAAAAIB0QLN/+b8ekXRAAAAAAACgdEBNgAZA4a50QLWOBeB6wHRAAg8MIFzPdEBqHQvA9eB0QAAAAAAA8HRATYAGQOH+dEC1jgXgehB1QAIPDCBcH3VAah0LwPUwdUAAAAAAAEB1QLN/+b8eUXVAAAAAAABgdUCzf/m/HnF1QAAAAAAAgHVAs3/5vx6RdUAAAAAAAKB1QLN/+b8esXVAAAAAAADAdUCzf/m/HtF1QAAAAAAA4HVAs3/5vx7xdUAAAAAAAAB2QLN/+b8eEXZAAAAAAAAgdkCzf/m/HjF2QAAAAAAAQHZAs3/5vx5RdkAAAAAAAGB2QLN/+b8ecXZAAAAAAACAdkCzf/m/HpF2QAAAAAAAoHZAs3/5vx6xdkAAAAAAAMB2QLN/+b8e0XZAAAAAAADgdkCzf/m/HvF2QAAAAAAAAHdAs3/5vx4Rd0AAAAAAACB3QLN/+b8eMXdAAAAAAABAd0Czf/m/HlF3QAAAAAAAYHdAs3/5vx5xd0AAAAAAAIB3QLN/+b8ekXdAAAAAAACgd0Czf/m/HrF3QAAAAAAAwHdAs3/5vx7Rd0AAAAAAAOB3QLN/+b8e8XdAAAAAAAAAeECzf/m/HhF4QAAAAAAAIHhAs3/5vx4xeEAAAAAAAEB4QLN/+b8eUXhAAAAAAABgeECzf/m/HnF4QAAAAAAAgHhAs3/5vx6ReEAAAAAAAKB4QLN/+b8esXhAAAAAAADAeECzf/m/HtF4QAAAAAAA4HhAs3/5vx7xeEAAAAAAAAB5QLN/+b8eEXlAAAAAAAAgeUCzf/m/HjF5QAAAAAAAQHlAs3/5vx5ReUAAAAAAAGB5QLN/+b8ecXlAAAAAAACAeUCzf/m/HpF5QAAAAAAAoHlAs3/5vx6xeUAAAAAAAMB5QLN/+b8e0XlAAAAAAADgeUCzf/m/HvF5QAAAAAAAAHpAs3/5vx4RekAAAAAAACB6QLN/+b8eMXpAAAAAAABAekBqHQvA9VB6QAIPDCBcX3pAtY4F4HpwekBNgAZA4X56QAAAAAAAkHpAah0LwPWgekACDwwgXK96QLWOBeB6wHpATYAGQOHOekAAAAAAAOB6QLN/+b8e8XpAAAAAAAAAe0Czf/m/HhF7QAAAAAAAIHtAs3/5vx4xe0AAAAAAAEB7QLN/+b8eUXtAAAAAAABge0Czf/m/HnF7QAAAAAAAgHtAah0LwPWQe0ACDwwgXJ97QLWOBeB6sHtATYAGQOG+e0AAAAAAANB7QGodC8D14HtAAg8MIFzve0C1jgXgegB8QE2ABkDhDnxAAAAAAAAgfEA=",
          "dtype": "f8"
         },
         "y": {
          "bdata": "v2zx3/JrWkCWTARgMnBUQIrdBAADrVNA/9j7v3DsV0Aaf+w/fCJdQLLa/L/qwGBA2VXtP5eHY0AenQSANAFnQK4m9J9aX2lAjdXm/xX5a0AsmQjAZCNuQFy39189snBASTYNQJnNcUA93wUAfepyQDiGAOCYYHRA8gP8v6+vdUBCzvv/+Nd2QApI+x8gpnhAZ2kCoCXaeUBJNg1AWZR7QCOM+n/wjHxAZ2kCoOXGfUD0qPi/ox5/QHNW+r9JIoBA2r/8Xz+YgEACpfz/MyiBQPdcAeBzXYFA6wX6n8eIgUAJo/4fbNiBQHVlBuDl2oFA8F7/vzvngUAxiP6/wPqBQBefAmB824FA91wB4APEgUAo5f+fNAyCQM7SBEA7CIJA/bUGAGjTgUDdcwWAz8WBQPID/L8vkoFAMi37v3SkgUDrBfqfV0GBQCWbBqAcPIFAMYj+vwAkgUBxsf2/RbyAQG8MAcAReYBANuED4JQ/gEDfGAKAUy+AQMh5/x8nNn9A9rcE4P/VfkA+GvPfKIx+QC/jAcDMt31AXLf3X11KfUA5K/3frFR8QEaCBCAJ+HtAaA7/n5kMe0DKHvwfW5x6QApI+x9g03lA2BoAYMtleUDfGAKAA+14QCWbBqAMz3dAxS8GIF/+dkDhvf5/10p2QLWOBeC64XVAS3H6HyWWdEDMLQhAd+5zQISc9//xdnNAS3H6H+VkckDC5QwgF3hxQIr1/B9WNXFAoqMLoC5qcECWTARgcp9vQIG8DSCymW5A9HwXAPQ7bUCPuBFgImtsQN1zBYAP0GpAbwwBwHF3aUAeBxSgnKhoQKk3/p8euWdA6fbtfxuoZkA2d/S/XLVlQDwL579sw2RAFL8YgDzpY0B1+/a/Lc1iQHzNFyD2n2FAJ6oSwCj/YEBct/dfXWFgQE/24P/Ytl9AVeXW/xRCXkC29dN/1ilcQKI5/H/mEVtAplTTP9LTWUARRv0/GJlYQHMX/l+3vFdAIIH93+pcVkCkhwQARZVVQO83+3+se1RAO5H9f15wU0AWeP4frWhSQAA//F+iMlFAPLgBwC39UEDAFf1fvaxQQGHRACCfQ05AbyT53wQBTUBKdQmge+xKQO7R+t+6A0tANJP7Xyb+SUAKCf+/vZNHQGgO/5/5ZUZASzL+v2LhRUCwNQDAVnhEQHz5+N8lFkRA0oL+3+T1QkBBEQfgUQVCQKl2+v9AMEFAMTEKQKvsQECmqvm/3SNAQMNLDcBIlj1AlmDt/05fPEDgwQ0Abs48QCSI6/+5CztAp+n1H4DUOEDSV+sfn4c4QL9s8d9y4TZA88Dw3/aqNkDVuA5AMFs1QHce7H9GPzRARuwTQDEzM0AtE/L/slwzQDhb7R8TGTJAS3H6HwUJMUASxPX/3NExQEM0/J+qZjBA6CUQwBdmLUCoT/a/8SMuQMZq8/+qeyxA/LkVgE7uKkBFBdpfbrQpQE0pEsCLZChAAvsigB80J0DdCfZf5wwoQGNKHGCD3SRArVLVXwqQJUCz1u0/dLslQBlXGgDDbSRAbvsCoKjCIkDzafxfAfgiQIsFAsBYqCFA8MoA4HDoH0ASbQGA5wsiQMwB/P+qViBAVx0E4ElkIEA=",
          "dtype": "f8"
         }
        },
        {
         "line": {
          "color": "rgb(124, 29, 111)"
         },
         "mode": "lines",
         "name": "Parabola Fit (Series 0)",
         "showlegend": false,
         "type": "scatter",
         "x": {
          "bdata": "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",
          "dtype": "f8"
         },
         "y": {
          "bdata": "RFvPBcHcgEDdWve3AN6AQICPRbk/34BALPm5CX7ggEDkl1Spu+GAQKJrFZj44oBAaXT81TTkgEA4sgljcOWAQBElPT+r5oBA88yWauXngEDeqRblHumAQNK7vK5X6oBA0gKJx4/rgEDYfnsvx+yAQOcvlOb97YBA/hXT7DPvgEAfMThCafCAQEmBw+ad8YBAfAZ12tHygEC4wEwdBfSAQACwSq839YBATtRukGn2gEClLbnAmveAQAW8KUDL+IBAbn/ADvv5gEDgd30sKvuAQFulYJlY/IBA3wdqVYb9gEBwn5lgs/6AQAZs77rf/4BApW1rZAsBgUBNpA1dNgKBQP4P1qRgA4FAuLDEO4oEgUB7htkhswWBQEeRFFfbBoFAH9F12wIIgUD9Rf2uKQmBQOXvqtFPCoFA1c5+Q3ULgUDO4ngEmgyBQNArmRS+DYFA26nfc+EOgUDvXEwiBBCBQBBF3x8mEYFANmKYbEcSgUBltHcIaBOBQJ07ffOHFIFA3/eoLacVgUAp6fq2xRaBQHwPc4/jF4FA2GoRtwAZgUBB+9UtHRqBQK/AwPM4G4FAJ7vRCFQcgUCn6ghtbh2BQDBPZiCIHoFAwujpIqEfgUBet5N0uSCBQAK7YxXRIYFAs/NZBegigUBpYXZE/iOBQCkEudITJYFA8dshsCgmgUDC6LDcPCeBQJ0qZlhQKIFAgKFBI2MpgUBtTUM9dSqBQGUua6aGK4FAZES5XpcsgUBrjy1mpy2BQHwPyLy2LoFAlcSIYsUvgUC4rm9X0zCBQOPNfJvgMYFAGCKwLu0ygUBYqwkR+TOBQJ9piUIENYFA71wvww42gUBHhfuSGDeBQKni7bEhOIFAE3UGICo5gUCHPEXdMTqBQAQ5quk4O4FAjGo1RT88gUAb0ebvRD2BQLNsvulJPoFAUz28Mk4/gUD9QuDKUUCBQLB9KrJUQYFAa+2a6FZCgUAwkjFuWEOBQAFs7kJZRIFA2HrRZllFgUC3vtrZWEaBQKA3CpxXR4FAkuVfrVVIgUCNyNsNU0mBQJDgfb1PSoFAnS1GvEtLgUC2rzQKR0yBQNVmSadBTYFA/VKEkztOgUAudOXONE+BQGfKbFktUIFAqlUaMyVRgUD2Fe5bHFKBQEsL6NMSU4FArDUImwhUgUATlU6x/VSBQIMpuxbyVYFA/PJNy+VWgUB+8QbP2FeBQAkl5iHLWIFAnY3rw7xZgUA6Kxe1rVqBQOP9aPWdW4FAkgXhhI1cgUBKQn9jfF2BQAu0Q5FqXoFA1VouDlhfgUCoNj/aRGCBQIRHdvUwYYFAaY3TXxxigUBaCFcZB2OBQFG4ACLxY4FAUZ3QedpkgUBat8Ygw2WBQGwG4xarZoFAh4olXJJngUCsQ47weGiBQNkxHdReaYFAElXSBkRqgUBRra2IKGuBQJk6r1kMbIFA6vzWee9sgUBF9CTp0W2BQKggmaezboFAFIIztZRvgUCJGPQRdXCBQArk2r1UcYFAkuTnuDNygUAiGhsDEnOBQLuEdJzvc4FAXiT0hMx0gUAJ+Zm8qHWBQL0CZkOEdoFAe0FYGV93gUBEtXA+OXiBQBNer7ISeYFA6zsUdut5gUDNTp+Iw3qBQLeWUOqae4FAqxMom3F8gUCnxSWbR32BQK2sSeocfoFAvsiTiPF+gUDVGQR2xX+BQPafmrKYgIFAH1tXPmuBgUBSSzoZPYKBQI1wQ0MOg4FA0spyvN6DgUAfWsiEroSBQHgeRJx9hYFA2BfmAkyGgUBARq64GYeBQLKpnL3mh4FALUKxEbOIgUCwD+y0fomBQD0STadJioFA0knU6BOLgUB0toF53YuBQBtYVVmmjIFAzC5PiG6NgUCGOm8GNo6BQEh7tdP8joFAFPEh8MKPgUDpm7RbiJCBQMZ7bRZNkYFAsJBMIBGSgUCf2lF51JKBQJhZfSGXk4FAmg3PGFmUgUCl9kZfGpWBQLgU5fTalYFA1Wep2ZqWgUD775MNWpeBQCytpJAYmIFAZJ/bYtaYgUClxjiEk5mBQO8ivPRPmoFAQrRltAubgUCeejXDxpuBQAJ2KyGBnIFAcKZHzjqdgUDqC4rK852BQGqm8hWsnoFA8nWBsGOfgUCEejaaGqCBQB+0EdPQoIFAwyITW4ahgUBwxjoyO6KBQCafiFjvooFA6Kz8zaKjgUCw75aSVaSBQIFnV6YHpYFAWxQ+CbmlgUA+9kq7aaaBQCoNfrwZp4FAH1nXDMmngUAd2lasd6iBQCaQ/JolqYFANnvI2NKpgUBQm7plf6qBQHLw0kErq4FAnXoRbdargUDROXbngKyBQA4uAbEqrYFAVFeyydOtgUCmtYkxfK6BQP5Ih+gjr4FAXxGr7sqvgUDJDvVDcbCBQD1BZegWsYFAuaj727uxgUA+RbgeYLKBQM0Wm7ADs4FAZh2kkaazgUAGWdPBSLSBQK/JKEHqtIFAYm+kD4u1gUAdSkYtK7aBQOJZDprKtoFAr578VWm3gUCFGBFhB7iBQGfHS7ukuIFAT6usZEG5gUBAxDNd3bmBQDsS4aR4uoFAPpW0OxO7gUBLTa4hrbuBQGA6zlZGvIFAf1wU2968gUCos4Cudr2BQNk/E9ENvoFAEgHMQqS+gUBV96oDOr+BQKAisBPPv4FA9YLbcmPAgUBSGC0h98CBQLnipB6KwYFAKuJCaxzCgUCjFgcHrsKBQCSA8fE+w4FArx4CLM/DgUBD8ji1XsSBQN/6lY3txIFAhTgZtXvFgUA0q8IrCcaBQO1SkvGVxoFAri+IBiLHgUB3QaRqrceBQEqI5h04yIFAJgRPIMLIgUAKtd1xS8mBQPiakhLUyYFA77VtAlzKgUDwBW9B48qBQPmKls9py4FAC0XkrO/LgUAmNFjZdMyBQEpY8lT5zIFAdrGyH33NgUCsP5k5AM6BQOsCpqKCzoFANfvYWgTPgUCFKDJihc+BQN+KsbgF0IFAQiJXXoXQgUCu7iJTBNGBQCPwFJeC0YFAoSYtKgDSgUAokmsMfdKBQLky0D350oFAUghbvnTTgUD0EgyO79OBQJ9S46xp1IFAU8fgGuPUgUAQcQTYW9WBQNZPTuTT1YFApWO+P0vWgUB/rFTqwdaBQGAqEeQ314FASt3zLK3XgUA9xfzEIdiBQDniK6yV2IFAPjSB4gjZgUBMu/xne9mBQGR3njzt2YFAhWhmYF7agUCujlTTztqBQODpaJU+24FAHHqjpq3bgUBgPwQHHNyBQK05i7aJ3IFAA2k4tfbcgUBizQsDY92BQMxmBaDO3YFAPTUljDnegUC3OGvHo96BQDtx11EN34FAx95pK3bfgUBcgSJU3t+BQPtYAcxF4IFAomUGk6zggUBTpzGpEuGBQA0egw544YFAz8n6wtzhgUCaqpjGQOKBQG/AXBmk4oFATAtHuwbjgUAzi1esaOOBQCJAjuzJ44FAHCrreyrkgUAdSW5aiuSBQCidF4jp5IFAOybnBEjlgUBX5NzQpeWBQH3X+OsC5oFAq/86Vl/mgUDjXKMPu+aBQCXvMRgW54FAbrbmb3DngUDBssEWyueBQBzkwgwj6IFAgUrqUXvogUDu5Tfm0uiBQGW2q8kp6YFA5LtF/H/pgUBu9gV+1emBQABm7E4q6oFAmgr5bn7qgUA+5Cve0eqBQOvyhJwk64FAoDYEqnbrgUBfr6kGyOuBQCdddbIY7IFA+D9nrWjsgUDSV3/3t+yBQLWkvZAG7YFAoSYieVTtgUCV3aywoe2BQJPJXTfu7YFAmuo0DTrugUCqQDIyhe6BQMPLVabP7oFA5YufaRnvgUAQgQ98Yu+BQESrpd2q74FAgQpijvLvgUDGnkSOOfCBQBVoTd1/8IFAbWZ8e8XwgUDPmdFoCvGBQDkCTaVO8YFArJ/uMJLxgUAocrYL1fGBQK15pDUX8oFAO7a4rljygUDRJ/N2mfKBQHHOU47Z8oFAG6ra9BjzgUDNuoeqV/OBQIgAW6+V84FATHtUA9PzgUAZK3SmD/SBQO8PuphL9IFAzikm2ob0gUC2eLhqwfSBQKj8cEr79IFAorVPeTT1gUClo1T3bPWBQLHGf8Sk9YFAxx7R4Nv1gUDlq0hMEvaBQAxu5gZI9oFAPGWqEH32gUB2kZRpsfaBQLjypBHl9oFAA4nbCBj3gUBXVDhPSveBQLVUu+R794FAG4pkyaz3gUCK9DP93PeBQAKUKYAM+IFAhGhFUjv4gUAOcodzafiBQKKw7+OW+IFAPiR+o8P4gUDjzDKy7/iBQJKqDRAb+YFASb0OvUX5gUAJBTa5b/mBQNOBgwSZ+YFApjP3nsH5gUCBGpGI6fmBQGU2UcEQ+oFAU4c3STf6gUBJDUQgXfqBQEnIdkaC+oFAUbjPu6b6gUBj3U6AyvqBQH039JPt+oFAoca/9g/7gUDNirGoMfuBQAOEyalS+4FAQbIH+nL7gUCJFWyZkvuBQNmt9oex+4FAM3unxc/7gUCWfX5S7fuBQAG1ey4K/IFAdiGfWSb8gUDzwujTQfyBQHqZWJ1c/IFACqXutXb8gUCi5aodkPyBQERbjdSo/IFA7wWW2sD8gUCj5cQv2PyBQF/6GdTu/IFAJUSVxwT9gUD0wjYKGv2BQMt2/psu/YFArF/sfEL9gUCWfQCtVf2BQInQOixo/YFAhFib+nn9gUCJFSIYi/2BQJcHz4Sb/YFAri6iQKv9gUDOiptLuv2BQPYbu6XI/YFAKOIAT9b9gUBj3WxH4/2BQKcN/47v/YFA9HK3Jfv9gUBKDZYLBv6BQKncmkAQ/oFAEOHFxBn+gUCBGheYIv6BQPuIjroq/oFAfiwsLDL+gUAKBfDsOP6BQJ8S2vw+/oFAPVXqW0T+gUDkzCAKSf6BQJR5fQdN/oFATVsAVFD+gUAPcqnvUv6BQNq9eNpU/oFArj5uFFb+gUCL9ImdVv6BQHHfy3VW/oFAYP8znVX+gUBYVMITVP6BQFredtlR/oFAZJ1R7k7+gUB3kVJSS/6BQJO6eQVH/oFAuBjHB0L+gUDmqzpZPP6BQB101Pk1/oFAXXGU6S7+gUCno3ooJ/6BQPkKh7Ye/oFAVKe5kxX+gUC4eBLAC/6BQCV/kTsB/oFAnLo2Bvb9gUAbKwIg6v2BQKPQ84jd/YFANKsLQdD9gUDOuklIwv2BQHL/rZ6z/YFAHnk4RKT9gUDTJ+k4lP2BQJILwHyD/YFAWSS9D3L9gUApcuDxX/2BQAP1KSNN/YFA5ayZozn9gUDQmS9zJf2BQMW765EQ/YFAwhLO//r8gUDJnta85PyBQNhfBcnN/IFA8FVaJLb8gUASgdXOnfyBQDzhdsiE/IFAcHY+EWv8gUCsQCypUPyBQPI/QJA1/IFAQHR6xhn8gUCY3dpL/fuBQPh7YSDg+4FAYk8ORML7gUDUV+G2o/uBQFCV2niE+4FA1Af6iWT7gUBirz/qQ/uBQPiLq5ki+4FAmJ09mAD7gUBB5PXl3fqBQPJf1IK6+oFArBDZbpb6gUBw9gOqcfqBQD0RVTRM+oFAEmHMDSb6gUDx5Wk2//mBQNmfLa7X+YFAyo4Xda/5gUDDsieLhvmBQMYLXvBc+YFA0Zm6pDL5gUDmXD2oB/mBQARV5vrb+IFAK4K1nK/4gUBb5KqNgviBQJN7xs1U+IFA1UcIXSb4gUAfSXA79/eBQHN//mjH94FA0Oqy5Zb3gUA2i42xZfeBQKVgjswz94FAHWu1NgH3gUCeqgLwzfaBQCgfdviZ9oFAusgPUGX2gUBWp8/2L/aBQPu6tez59YFAqQPCMcP1gUBggfTFi/WBQCA0TalT9YFA6RvM2xr1gUC7OHFd4fSBQJWKPC6n9IFAeREuTmz0gUBmzUW9MPSBQFy+g3v084FAW+TniLfzgUBkP3LlefOBQHXPIpE784FAj5T5i/zygUCxjvbVvPKBQN29GW988oFAEiJjVzvygUBRu9KO+fGBQJiJaBW38YFA6Iwk63PxgUBBxQYQMPGBQKMyD4Tr8IFADtU9R6bwgUCCrJJZYPCBQP+4DbsZ8IFAhfqua9LvgUAVcXZriu+BQK0cZLpB74FATv13WPjugUD5ErJFru6BQKtdEoJj7oFAZ92YDRjugUAtkkXoy+2BQPt7GBJ/7YFA0poRizHtgUCz7jBT4+yBQJx3dmqU7IFAjjXi0ETsgUCJKHSG9OuBQI1QLIuj64FAm60K31HrgUCxPw+C/+qBQNEGOnSs6oFA+QKLtVjqgUArNAJGBOqBQGWanyWv6YFAqDVjVFnpgUD0BU3SAumBQEoLXZ+r6IFAqEWTu1PogUAQte8m++eBQIBZcuGh54FA+jIb60fngUB8QepD7eaBQAeF3+uR5oFAm/364jXmgUA5qzwp2eWBQOCNpL575YFAj6Uyox3lgUBI8ubWvuSBQAp0wVlf5IFA1CrCK//jgUCnFulMnuOBQIM3Nr0844FAaY2pfNrigUBYGEOLd+KBQFDYAukT4oFAUM3ola/hgUBa9/SRSuGBQG1WJ93k4IFAh+p/d37ggUCss/5gF+CBQNqxo5mv34FAEeVuIUffgUBRTWD43d6BQJnqdx503oFA67y1kwnegUBGxBlYnt2BQKkApGsy3YFAFnJUzsXcgUCMGCuAWNyBQAr0J4Hq24FAkgRL0XvbgUAjSpRwDNuBQL3EA1+c2oFAYHSZnCvagUALWVUputmBQMByNwVI2YFAfsE/MNXYgUBFRW6qYdiBQBX+wnPt14FA7us9jHjXgUDQDt/zAteBQLtmpqqM1oFArfOTsBXWgUCqtacFntWBQLGs4akl1YFAwNhBnazUgUDYOcjfMtSBQPnPdHG404FAI5tHUj3TgUBWm0CCwdKBQJHQXwFF0oFA1jqlz8fRgUAk2hDtSdGBQHuuolnL0IFA3LdaFUzQgUBF9jggzM+BQLdpPXpLz4FAMhJoI8rOgUC177gbSM6BQEICMGPFzYFA2EnN+UHNgUB4xpDfvcyBQCB4ehQ5zIFA0V6KmLPLgUCMesBrLcuBQE/LHI6myoFAGlGf/x7KgUDvC0jAlsmBQM37FtANyYFAtSAML4TIgUCleifd+ceBQJ4Jadpux4FAoc3QJuPGgUCsxl7CVsaBQL/0Eq3JxYFA3Fft5jvFgUAD8O1vrcSBQDK9FEgexIFAa79hb47DgUCs9tTl/cKBQPdibqtswoFASgQuwNrBgUCl2hMkSMGBQAvmH9e0wIFAeSZS2SDAgUDxm6oqjL+BQHFGKcv2voFA+yXOumC+gUCNOpn5yb2BQCmEiocyvYFAzAKiZJq8gUB5tt+QAbyBQDCfQwxou4FA8LzN1s26gUC4D37wMrqBQIqXVFmXuYFAZVRREfu4gUBIRnQYXriBQDNtvW7At4FAKcksFCK3gUAoWsIIg7aBQC8gfkzjtYFAQBtg30K1gUBaS2jBobSBQH2wlvL/s4FAqErrcl2zgUDbGWZCurKBQBkeB2EWsoFAYFfOznGxgUCwxbuLzLCBQAlpz5cmsIFAakEJ83+vgUDVTmmd2K6BQEmR75YwroFAxAic34etgUBKtW533qyBQNmWZ140rIFAca2GlImrgUAS+csZ3qqBQLx5N+4xqoFAby/JEYWpgUArGoGE16iBQO45X0YpqIFAvI5jV3qngUCTGI63yqaBQHPX3mYapoFAXMtVZWmlgUBO9PKyt6SBQElStk8FpIFATeWfO1KjgUBYra92nqKBQG6q5QDqoYFAjdxB2jShgUC1Q8QCf6CBQObfbHrIn4FAILE7QRGfgUBjtzBXWZ6BQLDyS7ygnYFAA2ONcOecgUBhCPVzLZyBQMjigsZym4FAOPI2aLeagUCxNhFZ+5mBQDSwEZk+mYFAv144KIGYgUBTQoUGw5eBQO5a+DMEl4FAlKiRsESWgUBEK1F8hJWBQPziNpfDlIFAvc9CAQKUgUCI8XS6P5OBQFtIzcJ8koFAN9RLGrmRgUAalfDA9JCBQAmLu7YvkIFAALas+2mPgUAAFsSPo46BQAqrAXPcjYFAHHVlpRSNgUA4dO8mTIyBQFyon/eCi4FAhxF2F7mKgUC+r3KG7omBQP2ClUQjiYFARoveUVeIgUCXyE2uioeBQPI641m9hoFAVeKeVO+FgUDCvoCeIIWBQDXQiDdRhIFAsxa3H4GDgUA7kgtXsIKBQMtCht3egYFAZSgnswyBgUAIQ+7XOYCBQLOS20tmf4FAaBfvDpJ+gUAj0SghvX2BQOq/iILnfIFAueMOMxF8gUCSPLsyOnuBQHTKjYFieoFAXo2GH4p5gUBShaUMsXiBQE+y6kjXd4FAUhRW1Px2gUBgq+euIXaBQHh3n9hFdYFAmXh9UWl0gUDDroEZjHOBQPYZrDCucoFAMbr8ls9xgUB2j3NM8HCBQMGZEFEQcIFAGNnTpC9vgUB4Tb1HTm6BQOH2zDlsbYFAU9UCe4lsgUDO6F4LpmuBQFIx4erBaoFA3q6JGd1pgUByYViX92iBQBBJTWQRaIFAuGVogCpngUBpt6nrQmaBQCM+EaZaZYFA5vmer3FkgUCy6lIIiGOBQIQQLbCdYoFAY2stp7JhgUBK+1PtxmCBQDrAoILaX4FAM7oTZ+1egUA16aya/12BQEBNbB0RXYFAVOZR7yFcgUBxtF0QMluBQJS3j4BBWoFAw+/nP1BZgUD7XGZOXliBQD3/CqxrV4FAh9bVWHhWgUDa4sZUhFWBQDYk3p+PVIFAmJobOppTgUAGRn8jpFKBQH4mCVytUYFA/ju547VQgUCHho+6vU+BQBkGjODEToFAtbquVctNgUBZpPcZ0UyBQAbDZi3WS4FAuRb8j9pKgUB5n7dB3kmBQEFdmULhSIFAElChkuNHgUDtd88x5UaBQNDUIyDmRYFAvGaeXeZEgUCvLT/q5UOBQK0pBsbkQoFAtFrz8OJBgUDFwAZr4ECBQN5bQDTdP4FAASygTNk+gUAsMSa01D2BQGFr0mrPPIFAntqkcMk7gUDhfp3FwjqBQDFYvGm7OYFAiWYBXbM4gUDrqWyfqjeBQFUi/jChNoFAyc+1EZc1gUBGspNBjDSBQMjJl8CAM4FAVhbCjnQygUDulxKsZzGBQI9OiRhaMIFAODom1EsvgUDrWunePC6BQKaw0jgtLYFAazvi4RwsgUA5+xfaCyuBQAzwcyH6KYFA7Bn2t+cogUDUeJ6d1CeBQMYMbdLAJoFAwdVhVqwlgUDF03wplySBQNEGvkuBI4FA5G4lvWoigUACDLN9UyGBQCreZo07IIFAW+VA7CIfgUCVIUGaCR6BQNiSZ5fvHIFAIzm049QbgUB4FCd/uRqBQNYkwGmdGYFAOWp/o4AYgUCp5GQsYxeBQCKUcARFFoFApHiiKyYVgUAvkvqhBhSBQMPgeGfmEoFAYGQdfMURgUACHejfoxCBQLEK2ZKBD4FAaS3wlF4OgUAqhS3mOg2BQPQRkYYWDIFAx9MadvEKgUCjysq0ywmBQIj2oEKlCIFAdledH34HgUBq7b9LVgaBQGq4CMctBYFAc7h3kQQEgUCF7Qyr2gKBQKBXyBOwAYFAxPapy4QAgUDxyrHSWP+AQCTU3ygs/oBAYxI0zv78gECrha7C0PuAQPwtTwai+oBAVgsWmXL5gEC5HQN7QviAQCZlFqwR94BAm+FPLOD1gEAZk6/7rfSAQJx5NRp784BALZXhh0fygEDG5bNEE/GAQGhrrFDe74BAEybLq6jugEDIFRBWcu2AQIU6e0877IBASJQMmAPrgEAXI8Qvy+mAQO/moRaS6IBA0d+lTFjngEC7DdDRHeaAQK5wIKbi5IBAqwiXyabjgECw1TM8auKAQL7X9v0s4YBA0g7gDu/fgEDyeu9usN6AQBwcJR5x3YBATvKAHDHcgECK/QJq8NqAQM49qwav2YBAHLN58mzYgEBuXW4tKteAQM48ibfm1YBANlHKkKLUgEComjG5XdOAQCIZvzAY0oBApsxy99HQgEAytUwNi8+AQMjSTHJDzoBAZyVzJvvMgEAKrb8pssuAQLtpMnxoyoBAdFvLHR7JgEA3gooO08eAQAPeb06HxoBA12573TrFgEC1NK277cOAQJgvBemfwoBAh1+DZVHBgECAxCcxAsCAQIJe8kuyvoBAjC3jtWG9gECgMfpuELyAQL1qN3e+uoBA49iazmu5gEASfCR1GLiAQEVU1GrEtoBAhmGqr2+1gEDQo6ZDGrSAQCMbySbEsoBAfscRWW2xgEDjqIDaFbCAQFG/Fau9roBAxArRymStgEBEi7I5C6yAQM1AuvewqoBAXivoBFapgED5Sjxh+qeAQJ2ftgyepoBASilXB0GlgEAA6B1R46OAQL/bCuqEooBAgwQe0iWhgEBUYlcJxp+AQC71to9lnoBAEb08ZQSdgED9ueiJopuAQPLruv0/moBA8FKzwNyYgEDz7tHSeJeAQAPAFjQUloBAHMaB5K6UgEA+ARPkSJOAQGlxyjLikYBAnRao0HqQgEDa8Ku9Eo+AQCAA1vmpjYBAcEQmhUCMgEDDvZxf1oqAQCRsOYlriYBAj0/8AQCIgEACaOXJk4aAQH619OAmhYBAAzgqR7mDgECS74X8SoKAQCTcBwHcgIBAxP2vVGx/gEBuVH73+32AQCDgcumKfIBA26CNKhl7gEA=",
          "dtype": "f8"
         }
        },
        {
         "marker": {
          "color": "rgb(124, 29, 111)",
          "size": 8,
          "symbol": "circle"
         },
         "mode": "markers",
         "name": "Vertex (Series 0)",
         "showlegend": false,
         "type": "scatter",
         "x": [
          333.27478031152907
         ],
         "y": [
          575.7923054495121
         ]
        },
        {
         "line": {
          "color": "rgb(124, 29, 111)",
          "dash": "dash"
         },
         "mode": "lines",
         "showlegend": false,
         "type": "scatter",
         "x": [
          333.27478031152907,
          333.27478031152907
         ],
         "y": [
          0,
          575.7923054495121
         ]
        },
        {
         "line": {
          "color": "rgb(185, 37, 122)",
          "dash": "dot"
         },
         "mode": "lines",
         "name": "1.57 M",
         "type": "scatter",
         "x": {
          "bdata": "AAAAAADAckBNgAZA4c5yQLWOBeB64HJAAg8MIFzvckBqHQvA9QBzQAAAAAAAEHNATYAGQOEec0C1jgXgejBzQAIPDCBcP3NAah0LwPVQc0AAAAAAAGBzQE2ABkDhbnNAtY4F4HqAc0ACDwwgXI9zQGodC8D1oHNAAAAAAACwc0BNgAZA4b5zQLWOBeB60HNAAg8MIFzfc0BqHQvA9fBzQAAAAAAAAHRAs3/5vx4RdEAAAAAAACB0QLN/+b8eMXRAAAAAAABAdECzf/m/HlF0QAAAAAAAYHRAs3/5vx5xdEAAAAAAAIB0QLN/+b8ekXRAAAAAAACgdEBNgAZA4a50QLWOBeB6wHRAAg8MIFzPdEBqHQvA9eB0QAAAAAAA8HRATYAGQOH+dEC1jgXgehB1QAIPDCBcH3VAah0LwPUwdUAAAAAAAEB1QLN/+b8eUXVAAAAAAABgdUCzf/m/HnF1QAAAAAAAgHVAs3/5vx6RdUAAAAAAAKB1QLN/+b8esXVAAAAAAADAdUCzf/m/HtF1QAAAAAAA4HVAs3/5vx7xdUAAAAAAAAB2QLN/+b8eEXZAAAAAAAAgdkCzf/m/HjF2QAAAAAAAQHZAs3/5vx5RdkAAAAAAAGB2QLN/+b8ecXZAAAAAAACAdkCzf/m/HpF2QAAAAAAAoHZAs3/5vx6xdkAAAAAAAMB2QLN/+b8e0XZAAAAAAADgdkCzf/m/HvF2QAAAAAAAAHdAs3/5vx4Rd0AAAAAAACB3QLN/+b8eMXdAAAAAAABAd0Czf/m/HlF3QAAAAAAAYHdAs3/5vx5xd0AAAAAAAIB3QLN/+b8ekXdAAAAAAACgd0Czf/m/HrF3QAAAAAAAwHdAs3/5vx7Rd0AAAAAAAOB3QLN/+b8e8XdAAAAAAAAAeECzf/m/HhF4QAAAAAAAIHhAs3/5vx4xeEAAAAAAAEB4QLN/+b8eUXhAAAAAAABgeECzf/m/HnF4QAAAAAAAgHhAs3/5vx6ReEAAAAAAAKB4QLN/+b8esXhAAAAAAADAeECzf/m/HtF4QAAAAAAA4HhAs3/5vx7xeEAAAAAAAAB5QLN/+b8eEXlAAAAAAAAgeUCzf/m/HjF5QAAAAAAAQHlAs3/5vx5ReUAAAAAAAGB5QLN/+b8ecXlAAAAAAACAeUCzf/m/HpF5QAAAAAAAoHlAs3/5vx6xeUAAAAAAAMB5QLN/+b8e0XlAAAAAAADgeUCzf/m/HvF5QAAAAAAAAHpAs3/5vx4RekAAAAAAACB6QLN/+b8eMXpAAAAAAABAekBqHQvA9VB6QAIPDCBcX3pAtY4F4HpwekBNgAZA4X56QAAAAAAAkHpAah0LwPWgekACDwwgXK96QLWOBeB6wHpATYAGQOHOekAAAAAAAOB6QLN/+b8e8XpAAAAAAAAAe0Czf/m/HhF7QAAAAAAAIHtAs3/5vx4xe0AAAAAAAEB7QLN/+b8eUXtAAAAAAABge0Czf/m/HnF7QAAAAAAAgHtAah0LwPWQe0ACDwwgXJ97QLWOBeB6sHtATYAGQOG+e0AAAAAAANB7QGodC8D14HtAAg8MIFzve0C1jgXgegB8QE2ABkDhDnxAAAAAAAAgfEA=",
          "dtype": "f8"
         },
         "y": {
          "bdata": "T48SYH1iYEBKndvfNH5aQKH7zR+uElpAjNgngOKIXEA+GvPfKLxhQOxA538DEmRAxz4SQHuHZ0BlWvZ/6V5rQFLZC2Cl1G1AdqDzv0GVcEA24QPgxO5xQPQSCOBrr3NAJZsGoOyXdEBuZwTA3RV2QPID/L9vgHdAq0YKwJoleUAMVwdAfBF6QNXQBmDjAHxAF58CYJyffUDKiAtAowR/QNtk+V+DQ4BAkfP+P44ngUBVIwVgfbSBQOJi+3+bGYJAY7X5f5WSgkA4hgDgaFGDQB6dBIAkk4NADvwDQGDjg0CY8QBglv6DQDbhA+AkFIRAgVL+/7kbhEBexgOASTaEQJ1KBoBK9INAGET/X3BIhEBNgAZA0QaEQNZ1A2B3MIRAxS8GIF8EhEAH/gEgWCuEQF7GA4CJ4YNAJZsGoHzig0Bqs/ufLbaDQFlt/l8FPYNAvjEEAHctg0Cr3Pqf0qaCQCOM+n/wgIJA1nUDYBcxgkAtPgXAKP6BQNtk+V+Dj4FA0Rz+P2NwgUDtFAbA0/WAQEaCBCBptIBARycBIL1GgEBoDv+f2TCAQJulCYBWKX9A7ar2n4uufkAmQAOgQHd9QD+EAgDRMn1AlkwEYBJ7fEDrbwnA/2B7QP21BgBYsnpA9U31v1fNeUCsgfefhvR4QJoADYDiI3hA7RQGwHOLd0AYRP9fUJJ2QKCU/38ys3VAGlMLgAwBdUBE3QcgNVh0QBPr+T/sq3NATYAGQAHUckD5aw0A8NdxQHpU/N+RA3FATiUDQJWzcEA8pBgg0elvQCP2CaCYlm5Au1EaIEd0bUD38vG/iytsQN7dFKB3pWpADO33H3ThaUDLWen/ZsloQOn27X/bpWdAfTTmv5FdZkDGavP/6o1lQMgP8P8+k2RAXwHxX8USY0B4RfC/FdFiQMOKCSCr2WFAXwHxX0VIYUAzARoABQdgQHSUKCCSvV5AzJcXYB+rXUD0qPi/I0JcQFfIAWDhRFtAj7gRYKIhWkDzafxfAd9YQJOAAyDPiVdAEcgEgNNkVkCWiwDA1C9VQIQe/z8t4lRAj43+nxzdU0Bu5fx/YttSQKvc+p/yBFJAJkADoMAjUUDlLvy/7iZQQLf0BYBsik5AC2//X69YTUDco/W/9XJMQG8k+d+ELktAcXIBYCMOSkBcIQeABYpIQApI+x9gjEdAKsn4/4rCRUA0VP//A81EQCxu9f+e6URAE6z93wkOREBnqP7/B+BCQLJY9X8v/0BAOtQIYPe4QED9cvsfv5BAQMJ37n94gT9AtU8JgNgGPUBaEvtfCfE7QKSb7Z/hcDpAz0zuf5m8OkDhkuu/MfA4QOO0EoCgnjdAAg8MIHyyNkCmLAEAGXE1QJhv+R/LZjRAtjcRYAWyM0CnFAngRVQ0QALQD8BZGDJAG+Xs3+04MkC+mxMgrzUxQKQJDEBAQTBAtDzu3+URMEBNlO/f3Y4uQM2TCOCo8yxA68b9PzUrLUDZLRsAHhMsQBYNIQCbWCpADicXADaWKkDWdQNgl9gpQPTTC4Dp0ydAC90dAA5nJUDkG+EffAEnQMkOIgDVeyVAaND7vx39I0AQdu1/PqUkQCfUAYDLYSJAfbMCgLkJI0A=",
          "dtype": "f8"
         }
        },
        {
         "line": {
          "color": "rgb(185, 37, 122)"
         },
         "mode": "lines",
         "name": "Parabola Fit (Series 1)",
         "showlegend": false,
         "type": "scatter",
         "x": {
          "bdata": "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",
          "dtype": "f8"
         },
         "y": {
          "bdata": "YQ/deuB0gkB/L0eRsXaCQC7swsGBeIJAbkVQDFF6gkBFO+9wH3yCQKjNn+/sfYJAm/xhiLl/gkAfyDU7hYGCQDQwGwhQg4JA2jQS7xmFgkAS1hrw4oaCQNoTNQuriIJAOO5gQHKKgkAjZZ6POIyCQJ547fj9jYJAqihOfMKPgkBHdcAZhpGCQHVeRNFIk4JANOTZogqVgkCEBoGOy5aCQGrFOZSLmIJA3CAEtEqagkDfGODtCJyCQHOtzUHGnYJAmN7Mr4KfgkBOrN03PqGCQJQWANr4ooJAbB00lrKkgkDawHlsa6aCQNQA0VwjqIJAX905Z9qpgkB7VrSLkKuCQCdsQMpFrYJAZR7eIvqugkA0bY2VrbCCQJNYTiJgsoJAieAgyRG0gkALBQWKwrWCQB3G+mRyt4JAwSMCWiG5gkD2HRtpz7qCQLu0RZJ8vIJAEuiB1Si+gkD5t88y1L+CQHckL6p+wYJAgC2gOyjDgkAb0yLn0MSCQEYVt6x4xoJAAvRcjB/IgkBQbxSGxcmCQC6H3Zlqy4JAnTu4xw7NgkCjjKQPss6CQDR6onFU0IJAVgSy7fXRgkAKK9ODltOCQE7uBTQ21YJAI05K/tTWgkCJSqDictiCQIDjB+EP2oJADhmB+avbgkAn6wssR92CQNFZqHjh3oJADGVW33rggkDYDBZgE+KCQDVR5/qq44JAIzLKr0HlgkCir75+1+aCQLfJxGds6IJAWIDcagDqgkCK0wWIk+uCQE3DQL8l7YJAoU+NELfugkCFeOt7R/CCQPs9WwHX8YJAAqDcoGXzgkCfnm9a8/SCQMg5FC6A9oJAgXHKGwz4gkDMRZIjl/mCQKi2a0Uh+4JAFcRWgar8gkASblPXMv6CQKG0YUe6/4JAxZeB0UABg0B2F7N1xgKDQLgz9jNLBINAiuxKDM8Fg0DuQbH+UQeDQOIzKQvUCINAaMKyMVUKg0B+7U1y1QuDQCq1+sxUDYNAYxm5QdMOg0AsGonQUBCDQIe3annNEYNAcvFdPEkTg0Dvx2IZxBSDQPw6eRA+FoNAmkqhIbcXg0DO9tpMLxmDQI8/JpKmGoNA4CSD8Rwcg0DCpvFqkh2DQDXFcf4GH4NAOoADrHogg0DP16Zz7SGDQPXLW1VfI4NAsVwiUdAkg0D5ifpmQCaDQNJT5JavJ4NAPLrf4B0pg0A3vexEiyqDQMNcC8P3K4NA4Jg7W2Mtg0COcX0Nzi6DQNLm0Nk3MINAovg1wKAxg0ADp6zACDODQPTxNNtvNINAd9nOD9Y1g0CLXXpeOzeDQDB+N8efOINAZjsGSgM6g0AxlebmZTuDQImL2J3HPINAch7cbig+g0DsTfFZiD+DQPYZGF/nQINAkoJQfkVCg0C/h5q3okODQHwp9gr/RINAz2djeFpGg0CvQuL/tEeDQCC6cqEOSYNAIc4UXWdKg0C0fsgyv0uDQNjLjSIWTYNAjLVkLGxOg0DSO01QwU+DQKxeR44VUYNAFB5T5mhSg0AMenBYu1ODQJZyn+QMVYNAsAfgil1Wg0BcOTJLrVeDQJgHliX8WINAZXILGkpag0DIeZIol1uDQLcdK1HjXINAN17Vky5eg0BJO5HweF+DQOu0XmfCYINAHss9+Apig0DifS6jUmODQDjNMGiZZINAIrlER99lg0CZQWpAJGeDQKFmoVNoaINAOijqgKtpg0BkhkTI7WqDQB+BsCkvbINAaxgupW9tg0BITL06r26DQLocXurtb4NAuYkQtCtxg0BJk9SXaHKDQGo5qpWkc4NAHHyRrd90g0BfW4rfGXaDQDPXlCtTd4NAmO+wkYt4g0CSpN4Rw3mDQBj2Haz5eoNAMORuYC98g0DZbtEuZH2DQBOWRReYfoNA3lnLGct/g0A5umI2/YCDQCa3C20ugoNAqFDGvV6Dg0C2hpIojoSDQFZZcK28hYNAhshfTOqGg0BI1GAFF4iDQJt8c9hCiYNAfsGXxW2Kg0Dzos3Ml4uDQPwgFe7AjINAkjtuKemNg0C68th+EI+DQHJGVe42kINAvDbjd1yRg0CWw4IbgZKDQALtM9mkk4NA/rL2sMeUg0CPFcui6ZWDQK0Usa4Kl4NAXbCo1CqYg0Cd6LEUSpmDQG69zG5omoNA0S754oWbg0DEPDdxopyDQEjnhhm+nYNAYS7o29ieg0AHElu48p+DQD6S364LoYNABq91vyOig0BfaB3qOqODQEq+1i5RpINAxbChjWalg0DRP34Ge6aDQHFrbJmOp4NAnzNsRqGog0BemH0Ns6mDQK6ZoO7DqoNAjzfV6dOrg0ABchv/4qyDQARJcy7xrYNAmLzcd/6ug0DAzFfbCrCDQHZ55FgWsYNAvcKC8CCyg0CVqDKiKrODQP0q9G0ztINA90nHUzu1g0CCBaxTQraDQJ5dom1It4NATlKqoU24g0CL48PvUbmDQFoR71dVuoNAutsr2le7g0CqQnp2WbyDQCxG2ixavYNAPuZL/Vm+g0DiIs/nWL+DQBr8Y+xWwINA33EKC1TBg0A2hMJDUMKDQB0zjJZLw4NAln5nA0bEg0CfZlSKP8WDQDrrUis4xoNAZQxj5i/Hg0AkyoS7JsiDQHIkuKocyYNAUBv9sxHKg0DArlPXBcuDQMDeuxT5y4NAUas1bOvMg0BzFMHd3M2DQCcaXmnNzoNAbrwMD73Pg0BD+8zOq9CDQKnWnqiZ0YNAoE6CnIbSg0ApY3eqctODQEIUftJd1INA7GGWFEjVg0AnTMBwMdaDQPbS++YZ14NAU/ZIdwHYg0BBtqch6NiDQMASGObN2YNA0AuaxLLag0BxoS29ltuDQKPT0s953INAZqKJ/Fvdg0C8DVJDPd6DQKEVLKQd34NAF7oXH/3fg0Ae+xS02+CDQLbYI2O54YNA31JELJbig0CYaXYPcuODQOMcugxN5INAwmwPJCflg0AuWXZVAOaDQCzi7qDY5oNAuwd5BrDng0DayRSGhuiDQIsowh9c6YNAzSOB0zDqg0Cfu1GhBOuDQAXwM4nX64NA+sAni6nsg0CALi2neu2DQJY4RN1K7oNAPt9sLRrvg0B2IqeX6O+DQEAC8xu28INAmn5QuoLxg0CIl79yTvKDQARNQEUZ84NAEp/SMePzg0CwjXY4rPSDQN8YLFl09YNAoEDzkzv2g0DxBMzoAfeDQNNltlfH94NASWOy4Iv4g0BN/b+DT/mDQOIz30AS+oNACQcQGNT6g0DAdlIJlfuDQAiDphRV/INA4SsMOhT9g0BLcYN50v2DQElTDNOP/oNA1dGmRkz/g0Dy7FLUBwCEQKCkEHzCAIRA3/jfPXwBhECv6cAZNQKEQBB3sw/tAoRAAqG3H6QDhECHZ81JWgSEQJvK9I0PBYRAQMot7MMFhEB2ZnhkdwaEQDyf1PYpB4RAlHRCo9sHhEB95sFpjAiEQPf0Uko8CYRABKD1ROsJhECf56lZmQqEQMzLb4hGC4RAikxH0fILhEDZaTA0ngyEQLgjK7FIDYRAKXo3SPINhEArbVX5mg6EQL/8hMRCD4RA4yjGqekPhECX8RipjxCEQN1WfcI0EYRAs1jz9dgRhEAb93pDfBKEQBMyFKseE4RAnQm/LMAThEC5fXvIYBSEQGWOSX4AFYRAoTspTp8VhEBuhRo4PRaEQM1rHTzaFoRAvO4xWnYXhEA9DliSERiEQE7Kj+SrGIRA8iLZUEUZhEAlGDTX3RmEQOmpoHd1GoRAP9geMgwbhEAlo64GohuEQJwKUPU2HIRApA4D/sochEA9r8cgXh2EQGnsnV3wHYRAJMaFtIEehEBwPH8lEh+EQE5PirChH4RAvP6mVTAghEC7StUUviCEQEszFe5KIYRAbLhm4dYhhEAf2snuYSKEQGKYPhbsIoRANvPEV3UjhECb6lyz/SOEQJF+BimFJIRAGK/BuAslhEAwfI5ikSWEQNjlbCYWJoRAFOxcBJomhEDfjl78HCeEQDrOcQ6fJ4RAJ6qWOiAohEClIs2AoCiEQLM3FeEfKYRAU+luW54phECEN9rvGyqEQEciV56YKoRAmqnlZhQrhEB9zYVJjyuEQPKNN0YJLIRA9+r6XIIshECO5M+N+iyEQLV6tthxLYRAbq2uPegthEC5fLi8XS6EQJPo01XSLoRA//AACUYvhED7lT/WuC+EQIjXj70qMIRAp7XxvpswhEBWMGXaCzGEQJZH6g97MYRAafuAX+kxhEDLSynJVjKEQL8440zDMoRAQ8Ku6i4zhEBY6IuimTOEQP6qenQDNIRANQp7YGw0hED+BY1m1DSEQFiesIY7NYRAQtPlwKE1hEC9pCwVBzaEQMkShYNrNoRAZh3vC882hECUxGquMTeEQFMI+GqTN4RAo+iWQfQ3hECGZUcyVDiEQPh+CT2zOIRA+jTdYRE5hECOh8KgbjmEQLN2ufnKOYRAaQLCbCY6hECwKtz5gDqEQIjvB6HaOoRA8lBFYjM7hEDsTpQ9izuEQHbp9DLiO4RAkiBnQjg8hEA/9OprjTyEQH1kgK/hPIRAS3EnDTU9hECrGuCEhz2EQJ1gqhbZPYRAHkOGwik+hEAxwnOIeT6EQNTdcmjIPoRACZaDYhY/hEDP6qV2Yz+EQCXc2aSvP4RADWof7fo/hECGlHZPRUCEQJBb38uOQIRAKr9ZYtdAhEBVv+USH0GEQBJcg91lQYRAX5UywqtBhEA+a/PA8EGEQK3dxdk0QoRAruypDHhChEA/mJ9ZukKEQGLgpsD7QoRAFcW/QTxDhEBZRurce0OEQC5kJpK6Q4RAlR50YfhDhECMddNKNUSEQBVpRE5xRIRALvnGa6xEhEDYJVuj5kSEQBPvAPUfRYRA31S4YFhFhEA8V4Hmj0WEQCr2W4bGRYRAqTFIQPxFhEC6CUYUMUaEQFt+VQJlRoRAjY92CphGhEBQPaksykaEQKSH7Wj7RoRAiW5DvytHhED/8aovW0eEQAUSJLqJR4RAns6uXrdHhEDHJ0sd5EeEQIAd+fUPSIRAy6+46DpIhECn3on1ZEiEQBSqbByOSIRAERJhXbZIhECgFme43UiEQMC3fi0ESYRAcfWnvClJhECzz+JlTkmEQIVGLylySYRA6VmNBpVJhEDdCf39tkmEQGNWfg/YSYRAej8RO/hJhEAhxbWAF0qEQFrna+A1SoRAI6YzWlNKhEB+AQ3ub0qEQGn595uLSoRA5o30Y6ZKhEDzvgJGwEqEQJGMIkLZSoRAwfZTWPFKhECB/ZaICEuEQNOg69IeS4RAteBRNzRLhEAovcm1SEuEQC02U05cS4RAwkvuAG9LhEDo/ZrNgEuEQJ9MWbSRS4RA6DcptaFLhEDBvwrQsEuEQCvk/QS/S4RAJqUCVMxLhECyAhm92EuEQM/8QEDkS4RAfZN63e5LhEC8xsWU+EuEQIyWImYBTIRA7QKRUQlMhEDfCxFXEEyEQGKxonYWTIRAdvNFsBtMhEAb0voDIEyEQFFNwXEjTIRAGGWZ+SVMhEBwGYObJ0yEQFlqflcoTIRA0leLLShMhEDd4akdJ0yEQHkI2iclTIRApssbTCJMhEBjK2+KHkyEQLIn1OIZTIRAksBKVRRMhEAC9tLhDUyEQATIbIgGTIRAlzYYSf5LhEC6QdUj9UuEQG/poxjrS4RAtC2EJ+BLhECLDnZQ1EuEQPKLeZPHS4RA66WO8LlLhEB0XLVnq0uEQI+v7fibS4RAOp83pItLhEB3K5NpekuEQERUAEloS4RAohl/QlVLhECSew9WQUuEQBJ6sYMsS4RAIxVlyxZLhEDFTCotAEuEQPkgAanoSoRAvZHpPtBKhEASn+PutkqEQPhI77icSoRAb48MnYFKhEB3cjubZUqEQBHye7NISoRAOw7O5SpKhED2xjEyDEqEQEIcp5jsSYRAHw4uGcxJhECNnMazqkmEQIzHcGiISYRAHI8sN2VJhEA98/kfQUmEQO/z2CIcSYRAMpHJP/ZIhEAGy8t2z0iEQGuh38enSIRAYBQFM39IhEDnIzy4VUiEQP/PhFcrSIRApxjfEABIhEDh/Urk00eEQKx/yNGmR4RACJ5X2XhHhED1WPj6SUeEQHKwqjYaR4RAgKRujOlGhEAgNUT8t0aEQFFiK4aFRoRAEiwkKlJGhEBlki7oHUaEQEmVSsDoRYRAvTR4srJFhEDCcLe+e0WEQFlJCOVDRYRAgL5qJQtFhEA50N5/0USEQIJ+ZPSWRIRAXcn7gltEhEDIsKQrH0SEQMU0X+7hQ4RAUVUry6NDhEBwEgnCZEOEQB9s+NIkQ4RAX2L5/eNChEAx9QtDokKEQJMkMKJfQoRAhvBlGxxChEAKWa2u10GEQB9eBlySQYRAxf9wI0xBhED8Pe0EBUGEQMQYewC9QIRAHpAaFnRAhEAIpMtFKkCEQINUjo/fP4RAj6Fi85M/hEAri0hxRz+EQFkRQAn6PoRAGDRJu6s+hEBo82OHXD6EQElPkG0MPoRAu0fObbs9hEC+3B2IaT2EQFIOf7wWPYRAdtzxCsM8hEAsR3ZzbjyEQHNODPYYPIRAS/KzksI7hECzMm1JazuEQK0POBoTO4RAOIkUBbo6hEBUnwIKYDqEQP9RAikFOoRAPaETYqk5hEAMjTa1TDmEQGwVayLvOIRAXDqxqZA4hEDe+whLMTiEQPFZcgbRN4RAlFTt2283hEDI63nLDTeEQI0fGNWqNoRA5O/H+EY2hEDLXIk24jWEQERmXI58NYRATQxBABY1hEDoTjeMrjSEQBMuPzJGNIRAzqlY8twzhEAcwoPMcjOEQPp2wMAHM4RAacgOz5syhEBqtm73LjKEQPtA4DnBMYRAHWhjllIxhEDRK/gM4zCEQBSMnp1yMIRA6YhWSAEwhEBPIiANjy+EQEZY++sbL4RAziro5KcuhEDomeb3Mi6EQJKl9iS9LYRAzU0YbEYthECXkkvNziyEQPVzkEhWLIRA4/Hm3dwrhEBiDE+NYiuEQHLDyFbnKoRAExdUOmsqhEBFB/E37imEQAiUn09wKYRAWr1fgfEohEA/gzHNcSiEQLXlFDPxJ4RAvOQJs28nhEBUgBBN7SaEQHy4KAFqJoRANo1Sz+UlhECB/o23YCWEQFsM27naJIRAyLY51lMkhEDG/akMzCOEQFThK11DI4RAdGG/x7kihEAlfmRMLyKEQGY3G+ujIYRAOY3joxchhECbf712iiCEQI8OqWP8H4RAFTqmam0fhEAsArWL3R6EQNNm1cZMHoRADGgHHLsdhEDVBUuLKB2EQDBAoBSVHIRAGRcHuAAchECWin91axuEQKOaCU3VGoRAQUelPj4ahEBxkFJKphmEQDF2EXANGYRAg/jhr3MYhEBlF8QJ2ReEQNbSt309F4RA2iq9C6EWhEBwH9SzAxaEQJaw/HVlFYRATd42UsYUhECVqIJIJhSEQG8P4FiFE4RA2RJPg+MShEDSss/HQBKEQF7vYSadEYRAe8gFn/gQhEApPrsxUxCEQGhQgt6sD4RAOP9apQUPhECZSkWGXQ6EQIsyQYG0DYRADLdOlgoNhEAg2G3FXwyEQMWVng60C4RA++/gcQcLhEDC5jTvWQqEQBp6moarCYRAAqoROPwIhEB8dpoDTAiEQIXfNOmaB4RAIeXg6OgGhEBNh54CNgaEQAvGbTaCBYRAWqFOhM0EhEA6GUHsFwSEQKotRW5hA4RArN5aCqoChEA8LILA8QGEQGAWu5A4AYRAFJ0Fe34AhEBawGF/w/+DQDGAz50H/4NAmNxO1kr+g0CR1d8ojf2DQBprgpXO/INAMp02HA/8g0Dea/y8TvuDQBrX03eN+oNA6N68TMv5g0BGg7c7CPmDQDXEw0RE+INAtqHhZ3/3g0DHGxGlufaDQGcyUvzy9YNAmuWkbSv1g0BeNQn5YvSDQLQhf56Z84NAmqoGXs/yg0AR0J83BPKDQBmSSis48YNAs/AGOWvwg0Da69Rgne+DQJWDtKLO7oNA4bel/v7tg0C+iKh0Lu2DQC32vARd7INALADjrorrg0C8phpzt+qDQN3pY1Hj6YNAjMm+SQ7pg0DPRStcOOiDQKNeqYhh54NACBQ5z4nmg0D+ZdovseWDQIVUjarX5INAnN9RP/3jg0BFByjuIeODQHzLD7dF4oNARywJmmjhg0CjKRSXiuCDQJDDMK6r34NADvpe38veg0AczZ4q692DQLw88I8J3YNA7UhTDyfcg0Cs8ceoQ9uDQP42Tlxf2oNA4hjmKXrZg0BWl48RlNiDQFyyShOt14NA82kXL8XWg0AavvVk3NWDQNOu5bTy1INAGTznHgjUg0D0ZfqiHNODQF8sH0Ew0oNAXI9V+ULRg0Dpjp3LVNCDQAcr97dlz4NAt2NivnXOg0D3ON/ehM2DQMaqbRmTzINAKLkNbqDLg0AbZL/crMqDQJ+rgmW4yYNAtY9XCMPIg0BbED7FzMeDQJItNpzVxoNAWuc/jd3Fg0CwPVuY5MSDQJswiL3qw4NAFsDG/O/Cg0Ai7BZW9MGDQL+0eMn3wINA7RnsVvq/g0CsG3H++76DQPy5B8D8vYNA2vSvm/y8g0BMzGmR+7uDQE9ANaH5uoNA41ASy/a5g0AI/gAP87iDQL5HAW3ut4NABS4T5ei2g0DZsDZ34rWDQELQayPbtINAPIyy6dKzg0DH5ArKybKDQOPZdMS/sYNAj2vw2LSwg0DNmX0Hqa+DQJxkHFCcroNA/MvMso6tg0Dpz44vgKyDQGtwYsZwq4NAfa1Hd2Cqg0Ahhz5CT6mDQFX9Ric9qINAGxBhJiqng0Byv4w/FqaDQFYLynIBpYNAzvMYwOujg0DYeHkn1aKDQHKa66i9oYNAnlhvRKWgg0BaswT6i5+DQKiqq8lxnoNAhj5ks1adg0D1bi63OpyDQPI7CtUdm4NAhKX3DACag0Cmq/Ze4ZiDQFlOB8vBl4NAnY0pUaGWg0BzaV3xf5WDQNnhoqtdlINAzfb5fzqTg0BVqGJuFpKDQG723HbxkINAGOFomcuPg0BTaAbWpI6DQB+MtSx9jYNAfEx2nVSMg0BrqUgoK4uDQOqiLM0AioNA9jgijNWIg0CXayllqYeDQMk6Qlh8hoNAjKZsZU6Fg0DgrqiMH4SDQMVT9s3vgoNAO5VVKb+Bg0A+c8aejYCDQNbtSC5bf4NA/wTd1yd+g0C4uIKb83yDQAMJOnm+e4NA3/UCcYh6g0BMf92CUXmDQEqlya4ZeINA2GfH9OB2g0D0xtZUp3WDQKXC985sdINA51oqYzFzg0C5j24R9XGDQB1hxNm3cINAEc8rvHlvg0CX2aS4Om6DQKqAL8/6bINAUcTL/7lrg0CKpHlKeGqDQFMhOa81aYNArjoKLvJng0CZ8OzGrWaDQBZD4XloZYNAIzLnRiJkg0DCvf4t22KDQO3lJy+TYYNArapiSkpgg0D/C69/AF+DQOEJDc+1XYNAVKR8OGpcg0BZ2/27HVuDQO6ukFnQWYNAEB81EYJYg0DHK+viMleDQA/Vss7iVYNA6RqM1JFUg0BT/Xb0P1ODQE58cy7tUYNA2peBgplQg0D3T6HwRE+DQKWk0njvTYNA4JUVG5lMg0CwI2rXQUuDQBFO0K3pSYNAAxVInpBIg0CGeNGoNkeDQJp4bM3bRYNAPxUZDIBEg0BxTtdkI0ODQDgkp9fFQYNAj5aIZGdAg0B4pXsLCD+DQPJQgMynPYNA/ZiWp0Y8g0CZfb6c5DqDQMX+96uBOYNAgxxD1R04g0DO1p8YuTaDQK0tDnZTNYNAHiGO7ewzg0AgsR9/hTKDQLLdwiodMYNA1qZ38LMvg0CLDD7QSS6DQMwOFsreLINAoq3/3XIrg0AK6foLBiqDQALBB1SYKINAjDUmtikng0CmRlYyuiWDQFL0l8hJJINAjj7reNgig0BcJVBDZiGDQLaoxifzH4NApchOJn8eg0Alheg+Ch2DQDfek3GUG4NA2dNQvh0ag0AMZh8lphiDQNGU/6UtF4NAIWDxQLQVg0AHyPT1ORSDQH/MCcW+EoNAh20wrkIRg0Agq2ixxQ+DQEqFss5HDoNABfwNBskMg0BSD3tXSQuDQC+/+cLICYNAmAuKSEcIg0CX9CvoxAaDQCd636FBBYNASJykdb0Dg0D6WntjOAKDQD22Y2uyAINAEa5djSv/gkBxQmnJo/2CQGdzhh8b/IJA7kC1j5H6gkAGq/UZB/mCQK+xR75794JA6VSrfO/1gkCzlCBVYvSCQA9xp0fU8oJA/Ok/VEXxgkB1/+l6te+CQISxpbsk7oJAIwBzFpPsgkBU61GLAOuCQBZzQhpt6YJAaJdEw9jngkBMWFiGQ+aCQLy1fWOt5IJAwa+0WhbjgkBYRv1rfuGCQH95V5fl34JAOEnD3EvegkCBtUA8sdyCQFy+z7UV24JAx2NwSXnZgkDEpSL329eCQEyE5r491oJAa/+7oJ7UgkAaF6Oc/tKCQFrLm7Jd0YJALBym4rvPgkCOCcIsGc6CQIGT75B1zIJAALouD9HKgkAWfX+nK8mCQLzc4VmFx4JA89hVJt7FgkC7cdsMNsSCQBWncg2NwoJA/3gbKOPAgkB659VcOL+CQIbyoauMvYJAHpp/FOC7gkBM3m6XMrqCQAu/bzSEuIJAWzyC69S2gkA=",
          "dtype": "f8"
         }
        },
        {
         "marker": {
          "color": "rgb(185, 37, 122)",
          "size": 8,
          "symbol": "circle"
         },
         "mode": "markers",
         "name": "Vertex (Series 1)",
         "showlegend": false,
         "type": "scatter",
         "x": [
          333.4467351537085
         ],
         "y": [
          649.5197202437809
         ]
        },
        {
         "line": {
          "color": "rgb(185, 37, 122)",
          "dash": "dash"
         },
         "mode": "lines",
         "showlegend": false,
         "type": "scatter",
         "x": [
          333.4467351537085,
          333.4467351537085
         ],
         "y": [
          0,
          649.5197202437809
         ]
        },
        {
         "line": {
          "color": "rgb(220, 57, 119)",
          "dash": "dot"
         },
         "mode": "lines",
         "name": "3.08 M",
         "type": "scatter",
         "x": {
          "bdata": "AAAAAADAckBNgAZA4c5yQLWOBeB64HJAAg8MIFzvckBqHQvA9QBzQAAAAAAAEHNATYAGQOEec0C1jgXgejBzQAIPDCBcP3NAah0LwPVQc0AAAAAAAGBzQE2ABkDhbnNAtY4F4HqAc0ACDwwgXI9zQGodC8D1oHNAAAAAAACwc0BNgAZA4b5zQLWOBeB60HNAAg8MIFzfc0BqHQvA9fBzQAAAAAAAAHRAs3/5vx4RdEAAAAAAACB0QLN/+b8eMXRAAAAAAABAdECzf/m/HlF0QAAAAAAAYHRAs3/5vx5xdEAAAAAAAIB0QLN/+b8ekXRAAAAAAACgdEBNgAZA4a50QLWOBeB6wHRAAg8MIFzPdEBqHQvA9eB0QAAAAAAA8HRATYAGQOH+dEC1jgXgehB1QAIPDCBcH3VAah0LwPUwdUAAAAAAAEB1QLN/+b8eUXVAAAAAAABgdUCzf/m/HnF1QAAAAAAAgHVAs3/5vx6RdUAAAAAAAKB1QLN/+b8esXVAAAAAAADAdUCzf/m/HtF1QAAAAAAA4HVAs3/5vx7xdUAAAAAAAAB2QLN/+b8eEXZAAAAAAAAgdkCzf/m/HjF2QAAAAAAAQHZAs3/5vx5RdkAAAAAAAGB2QLN/+b8ecXZAAAAAAACAdkCzf/m/HpF2QAAAAAAAoHZAs3/5vx6xdkAAAAAAAMB2QLN/+b8e0XZAAAAAAADgdkCzf/m/HvF2QAAAAAAAAHdAs3/5vx4Rd0AAAAAAACB3QLN/+b8eMXdAAAAAAABAd0Czf/m/HlF3QAAAAAAAYHdAs3/5vx5xd0AAAAAAAIB3QLN/+b8ekXdAAAAAAACgd0Czf/m/HrF3QAAAAAAAwHdAs3/5vx7Rd0AAAAAAAOB3QLN/+b8e8XdAAAAAAAAAeECzf/m/HhF4QAAAAAAAIHhAs3/5vx4xeEAAAAAAAEB4QLN/+b8eUXhAAAAAAABgeECzf/m/HnF4QAAAAAAAgHhAs3/5vx6ReEAAAAAAAKB4QLN/+b8esXhAAAAAAADAeECzf/m/HtF4QAAAAAAA4HhAs3/5vx7xeEAAAAAAAAB5QLN/+b8eEXlAAAAAAAAgeUCzf/m/HjF5QAAAAAAAQHlAs3/5vx5ReUAAAAAAAGB5QLN/+b8ecXlAAAAAAACAeUCzf/m/HpF5QAAAAAAAoHlAs3/5vx6xeUAAAAAAAMB5QLN/+b8e0XlAAAAAAADgeUCzf/m/HvF5QAAAAAAAAHpAs3/5vx4RekAAAAAAACB6QLN/+b8eMXpAAAAAAABAekBqHQvA9VB6QAIPDCBcX3pAtY4F4HpwekBNgAZA4X56QAAAAAAAkHpAah0LwPWgekACDwwgXK96QLWOBeB6wHpATYAGQOHOekAAAAAAAOB6QLN/+b8e8XpAAAAAAAAAe0Czf/m/HhF7QAAAAAAAIHtAs3/5vx4xe0AAAAAAAEB7QLN/+b8eUXtAAAAAAABge0Czf/m/HnF7QAAAAAAAgHtAah0LwPWQe0ACDwwgXJ97QLWOBeB6sHtATYAGQOG+e0AAAAAAANB7QGodC8D14HtAAg8MIFzve0C1jgXgegB8QE2ABkDhDnxAAAAAAAAgfEA=",
          "dtype": "f8"
         },
         "y": {
          "bdata": "dJHnn4ULYkA0VP//A5tYQNVO/x9I21VA2yX9/3AsV0DGavP/qmdcQAbDFECM4V9AEAsQYOwPYkDTwfo/R5ZkQCh78H9sDmdAlKcHYB6taUDWdQNgF+prQN7dFKC3Y25A7ar2nwuacEBvDAHAUZlxQCyZCMDkXHNAyh78HzvKdEDGavP/CmJ2QGJ6DKBJDnhA7k/zn5+MeUDyA/y/LzN7QKRICKCCDnxAcbH9v4UifkAAAAAAICJ/QD+EAgDRqIBA3XMFgL9BgUAV+gVgKAWCQJmW/V9acoJAvjEEAHdEg0A4hgDg+FeDQE4lA0DVAYRA22T5X9MYhEBuZwTATbaEQMUvBiCP7IRAbwwBwFE9hUCzf/m/Pq2FQKk3/p/O+YVAmPEAYOZYhkAa6ftfVECGQO0UBsAj84ZAS3H6H5X1hkAo5f+flBaHQGEQ/X/hIIdA2BoAYLsch0DH1AIgQzWHQLczAuB+ZodAx9QCIFMzh0BlxAWgQTiHQOi7AKC/RIdA6WD9nzNPh0D7pvrfqxCHQBhE/18Q04ZA+QH+3+exhkDO0gRAu4iGQGEQ/X8RcIZAarP7n40phkAenQSAxP2FQOlg/Z8zyoVA91wB4ENThUCSmPs/cj6FQH+tAQCGqoRAKor8n1gghEDDIPr/4hWEQG8MAcDR5oNAwNYAAAtTg0DvuQLAl+WCQI2pBUD2cIJA5hYEoBsAgkDO0gRAG2OBQAmj/h/cKYFAwNYAALvBgEDouwCgzzGAQNYL9D9Pw39A91wB4DMzf0AqivyfaOt9QBz4B4CAYn1AUMr/PwkMfEC8IvjfqlF7QBX6BWBoUHpADFcHQNymeUDFLwYgf8B4QLvnCgA/IXhAI/YJoFhNd0CIUAAgYrh2QMwtCECXb3VA3Qn2X2f3dECkSAigYlt0QGMfCaD9j3NAFfoFYAi1ckAsmQjApB1yQFoS+1/pvnFAOSv93yzxcEBqHQvAlU9wQJ6F81+WkG9AnoXzX9Z0bkDKiAtA4xZuQGl4DsAhV2xAn+8CgD6la0C+MQQAxxVqQGJ6DKDppWlA+jzrv/MjaEDRhg1gG5dnQFW59T+lemZALdT1n1DxZUAyLfu/dDBlQKj8EMCyVWRAOIYA4NgsY0AEtAggkEpiQJks7j9ytGFAXCEHgEVZYEA8DihAOalfQJez0v9NNV9ACt7r/3cxXkAh5/1/HD1dQIua+R+qpltAtL0nILe6WkBeBQDgO9hYQClLAECGnFhA+6b63xuTV0AAAAAAAHZWQB7cAOAWRFVANuED4ERPVECfLv/fYD5UQFHxA4D4PVNALyL+H6+cUkDOEQGgraNRQGUDAgA0A1FACzADAI1YUECFhP/fnjpPQPja+Z/4p05AwFT5v58sTEAhJvrfvj1LQEc/+T8wAUtACzADAA0rS0B/7P1f2HtIQCzYBCCH+0dAzGwEoFk/R0C9CgDA95JFQPHc939AU0RAKKYDQDJOREBEHASA1/lCQDV7A0DTqEJA55T8X+CVQUA9oAmg2ttAQM6P+V8ytUBAqjPvH6iXP0ALb/9fr7s9QNpoCODJuzpALT4FwHhQOkCYWxCAbtI6QFz287+/FzlAbEQPAEX7N0A=",
          "dtype": "f8"
         }
        },
        {
         "line": {
          "color": "rgb(220, 57, 119)"
         },
         "mode": "lines",
         "name": "Parabola Fit (Series 2)",
         "showlegend": false,
         "type": "scatter",
         "x": {
          "bdata": "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",
          "dtype": "f8"
         },
         "y": {
          "bdata": "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",
          "dtype": "f8"
         }
        },
        {
         "marker": {
          "color": "rgb(220, 57, 119)",
          "size": 8,
          "symbol": "circle"
         },
         "mode": "markers",
         "name": "Vertex (Series 2)",
         "showlegend": false,
         "type": "scatter",
         "x": [
          344.71878840101493
         ],
         "y": [
          746.0699080331476
         ]
        },
        {
         "line": {
          "color": "rgb(220, 57, 119)",
          "dash": "dash"
         },
         "mode": "lines",
         "showlegend": false,
         "type": "scatter",
         "x": [
          344.71878840101493,
          344.71878840101493
         ],
         "y": [
          0,
          746.0699080331476
         ]
        },
        {
         "line": {
          "color": "rgb(227, 79, 111)",
          "dash": "dot"
         },
         "mode": "lines",
         "name": "4.6 M",
         "type": "scatter",
         "x": {
          "bdata": "AAAAAADAckBNgAZA4c5yQLWOBeB64HJAAg8MIFzvckBqHQvA9QBzQAAAAAAAEHNATYAGQOEec0C1jgXgejBzQAIPDCBcP3NAah0LwPVQc0AAAAAAAGBzQE2ABkDhbnNAtY4F4HqAc0ACDwwgXI9zQGodC8D1oHNAAAAAAACwc0BNgAZA4b5zQLWOBeB60HNAAg8MIFzfc0BqHQvA9fBzQAAAAAAAAHRAs3/5vx4RdEAAAAAAACB0QLN/+b8eMXRAAAAAAABAdECzf/m/HlF0QAAAAAAAYHRAs3/5vx5xdEAAAAAAAIB0QLN/+b8ekXRAAAAAAACgdEBNgAZA4a50QLWOBeB6wHRAAg8MIFzPdEBqHQvA9eB0QAAAAAAA8HRATYAGQOH+dEC1jgXgehB1QAIPDCBcH3VAah0LwPUwdUAAAAAAAEB1QLN/+b8eUXVAAAAAAABgdUCzf/m/HnF1QAAAAAAAgHVAs3/5vx6RdUAAAAAAAKB1QLN/+b8esXVAAAAAAADAdUCzf/m/HtF1QAAAAAAA4HVAs3/5vx7xdUAAAAAAAAB2QLN/+b8eEXZAAAAAAAAgdkCzf/m/HjF2QAAAAAAAQHZAs3/5vx5RdkAAAAAAAGB2QLN/+b8ecXZAAAAAAACAdkCzf/m/HpF2QAAAAAAAoHZAs3/5vx6xdkAAAAAAAMB2QLN/+b8e0XZAAAAAAADgdkCzf/m/HvF2QAAAAAAAAHdAs3/5vx4Rd0AAAAAAACB3QLN/+b8eMXdAAAAAAABAd0Czf/m/HlF3QAAAAAAAYHdAs3/5vx5xd0AAAAAAAIB3QLN/+b8ekXdAAAAAAACgd0Czf/m/HrF3QAAAAAAAwHdAs3/5vx7Rd0AAAAAAAOB3QLN/+b8e8XdAAAAAAAAAeECzf/m/HhF4QAAAAAAAIHhAs3/5vx4xeEAAAAAAAEB4QLN/+b8eUXhAAAAAAABgeECzf/m/HnF4QAAAAAAAgHhAs3/5vx6ReEAAAAAAAKB4QLN/+b8esXhAAAAAAADAeECzf/m/HtF4QAAAAAAA4HhAs3/5vx7xeEAAAAAAAAB5QLN/+b8eEXlAAAAAAAAgeUCzf/m/HjF5QAAAAAAAQHlAs3/5vx5ReUAAAAAAAGB5QLN/+b8ecXlAAAAAAACAeUCzf/m/HpF5QAAAAAAAoHlAs3/5vx6xeUAAAAAAAMB5QLN/+b8e0XlAAAAAAADgeUCzf/m/HvF5QAAAAAAAAHpAs3/5vx4RekAAAAAAACB6QLN/+b8eMXpAAAAAAABAekBqHQvA9VB6QAIPDCBcX3pAtY4F4HpwekBNgAZA4X56QAAAAAAAkHpAah0LwPWgekACDwwgXK96QLWOBeB6wHpATYAGQOHOekAAAAAAAOB6QLN/+b8e8XpAAAAAAAAAe0Czf/m/HhF7QAAAAAAAIHtAs3/5vx4xe0AAAAAAAEB7QLN/+b8eUXtAAAAAAABge0Czf/m/HnF7QAAAAAAAgHtAah0LwPWQe0ACDwwgXJ97QLWOBeB6sHtATYAGQOG+e0AAAAAAANB7QGodC8D14HtAAg8MIFzve0C1jgXgegB8QE2ABkDhDnxAAAAAAAAgfEA=",
          "dtype": "f8"
         },
         "y": {
          "bdata": "mFsQgG4dYEAKSPsfYHRTQDMVA6BhKURAPR4CYJ/tQUB1JgqAM7VBQEsy/r9iZURAVSMFYM2qRkAs2AQgB01JQB4b/T85WU1AyDoDwIRuUEAWeP4fbVlSQB8DBSCm2lRA8Z37Hx7hV0DmgBPAg2ZaQJPWKaCaJV5A4b3+f3dzYEBqSex/pSRiQGik739RPWRAA+Dp33/HZUAhUQ2gBM1nQCNgGcAAQWpAZS4VwDlRbEDPdwFAHy9vQN1zBYAvwnBAS9sJQG0zckDWdQNgN2FzQMLlDCD3cHRA91wB4JM5dkDYGgBgaxZ3QMZq8/8KV3hAyh78H5tjeUCTAgtgKiB6QBefAmD85HpAneD2X6Lse0BTFPk/8d18QKWD9X9Ow31Ax9QCIDP4fkDuT/OfX7F/QMfUAiBTRIBAL+MBwNz0gEACpfz/o1mBQEaCBCB5jYFAtzMC4O7ugUDbZPlfI06CQHiv/9/dkIJA/loDANzGgkAo5f+fFCmDQELO+//4OoNAQCn//2SBg0DvuQLAV/KDQGXEBaDRKIRAfQgFALIGhEA5K/3fPCeEQEcnASAtLoRAz3cBQM8ehEBaEvtfeUuEQJZMBGCyY4RABVkFIFQbhEBuZwTArU6EQN8YAoDzDoRAtzMC4J7wg0CR8/4/PpaDQHiv/989e4NAelT834E2g0DWdQNgRziDQBX6BWCIu4JAkpj7P1JxgkACpfz/8zqCQEtx+h+F6oFANuED4GSYgUCIUAAgEjWBQGBrAICN3oBAkpj7P0K3gEA24QPgZCWAQN8YAoCjm39AFZD2P6DsfkAdM/VfDGR+QDTS979IZn1Aw4oJIOvvfEAfQgGASLB7QE678x/Ng3tApN74f1pkekAH/gEgOK15QHVlBuA1sHhAx9QCINNZeEDiYvt/q453QN1zBYBvI3dAp5IBoEpKdkAJo/4fjIh1QIQGByD6CnVAH0IBgAhBdEDwXv+/O3VzQINhCiBm/HJACaP+H4yTckCdSgaAqqxxQIpfDEC+MnFA9U31vxcxcEDsQOd/A59vQJsPGaB+mm5ASTYNQJmcbUCgKvBf6jVtQJNsGoDy2mtAg/f6/53takCIUAAgwrBpQLLa/L8q72hAEdztH7DOZ0Bjtfl/lWFnQAxXB0BcE2ZAUtkLYGW/ZUD4xhAAnKpkQGMfCaB902NAqPwQwPK7Y0BFruXfeN5iQPD0759TJWJAmZb9XxonYUBXyAFg4SpgQOSd6F83fV9A48wKoHOuXkBxGw3greRcQLmsHSBzPFxAcd3ef/UxWkCnKPJ/IixaQCJN/h8Or1hAg98C4MrRV0AbT/z/VV9XQI4n/v8qZlZAncj+P29BVUA1+fv/VzZUQE49+1+oSlRA8yoAAJ8BU0AhqAEg+stRQGfn+l+qbFFAAWYAoHEdUUCm7QSgdjxQQCGoASD6bE9ALjr2P4KUTUAGmAGAxjNLQBuSB+DuKEtAiXcEYFFDSkCTv/9/sRZJQKOf/B9YhUhAucAGwE9DRkCrRgrAmhNGQLf0BYBsjEVAa5sDgLpvREAnf///4opDQMn399/rVUJA3xgCgGNbQkBLMv6/4lxBQPvl9j/+RkBAJDH3f8RoQEA=",
          "dtype": "f8"
         }
        },
        {
         "line": {
          "color": "rgb(227, 79, 111)"
         },
         "mode": "lines",
         "name": "Parabola Fit (Series 3)",
         "showlegend": false,
         "type": "scatter",
         "x": {
          "bdata": "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",
          "dtype": "f8"
         },
         "y": {
          "bdata": "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",
          "dtype": "f8"
         }
        },
        {
         "marker": {
          "color": "rgb(227, 79, 111)",
          "size": 8,
          "symbol": "circle"
         },
         "mode": "markers",
         "name": "Vertex (Series 3)",
         "showlegend": false,
         "type": "scatter",
         "x": [
          354.8778232667291
         ],
         "y": [
          649.3450465288554
         ]
        },
        {
         "line": {
          "color": "rgb(227, 79, 111)",
          "dash": "dash"
         },
         "mode": "lines",
         "showlegend": false,
         "type": "scatter",
         "x": [
          354.8778232667291,
          354.8778232667291
         ],
         "y": [
          0,
          649.3450465288554
         ]
        },
        {
         "line": {
          "color": "rgb(240, 116, 110)",
          "dash": "dot"
         },
         "mode": "lines",
         "name": "6.19 M",
         "type": "scatter",
         "x": {
          "bdata": "AAAAAADAckBNgAZA4c5yQLWOBeB64HJAAg8MIFzvckBqHQvA9QBzQAAAAAAAEHNATYAGQOEec0C1jgXgejBzQAIPDCBcP3NAah0LwPVQc0AAAAAAAGBzQE2ABkDhbnNAtY4F4HqAc0ACDwwgXI9zQGodC8D1oHNAAAAAAACwc0BNgAZA4b5zQLWOBeB60HNAAg8MIFzfc0BqHQvA9fBzQAAAAAAAAHRAs3/5vx4RdEAAAAAAACB0QLN/+b8eMXRAAAAAAABAdECzf/m/HlF0QAAAAAAAYHRAs3/5vx5xdEAAAAAAAIB0QLN/+b8ekXRAAAAAAACgdEBNgAZA4a50QLWOBeB6wHRAAg8MIFzPdEBqHQvA9eB0QAAAAAAA8HRATYAGQOH+dEC1jgXgehB1QAIPDCBcH3VAah0LwPUwdUAAAAAAAEB1QLN/+b8eUXVAAAAAAABgdUCzf/m/HnF1QAAAAAAAgHVAs3/5vx6RdUAAAAAAAKB1QLN/+b8esXVAAAAAAADAdUCzf/m/HtF1QAAAAAAA4HVAs3/5vx7xdUAAAAAAAAB2QLN/+b8eEXZAAAAAAAAgdkCzf/m/HjF2QAAAAAAAQHZAs3/5vx5RdkAAAAAAAGB2QLN/+b8ecXZAAAAAAACAdkCzf/m/HpF2QAAAAAAAoHZAs3/5vx6xdkAAAAAAAMB2QLN/+b8e0XZAAAAAAADgdkCzf/m/HvF2QAAAAAAAAHdAs3/5vx4Rd0AAAAAAACB3QLN/+b8eMXdAAAAAAABAd0Czf/m/HlF3QAAAAAAAYHdAs3/5vx5xd0AAAAAAAIB3QLN/+b8ekXdAAAAAAACgd0Czf/m/HrF3QAAAAAAAwHdAs3/5vx7Rd0AAAAAAAOB3QLN/+b8e8XdAAAAAAAAAeECzf/m/HhF4QAAAAAAAIHhAs3/5vx4xeEAAAAAAAEB4QLN/+b8eUXhAAAAAAABgeECzf/m/HnF4QAAAAAAAgHhAs3/5vx6ReEAAAAAAAKB4QLN/+b8esXhAAAAAAADAeECzf/m/HtF4QAAAAAAA4HhAs3/5vx7xeEAAAAAAAAB5QLN/+b8eEXlAAAAAAAAgeUCzf/m/HjF5QAAAAAAAQHlAs3/5vx5ReUAAAAAAAGB5QLN/+b8ecXlAAAAAAACAeUCzf/m/HpF5QAAAAAAAoHlAs3/5vx6xeUAAAAAAAMB5QLN/+b8e0XlAAAAAAADgeUCzf/m/HvF5QAAAAAAAAHpAs3/5vx4RekAAAAAAACB6QLN/+b8eMXpAAAAAAABAekBqHQvA9VB6QAIPDCBcX3pAtY4F4HpwekBNgAZA4X56QAAAAAAAkHpAah0LwPWgekACDwwgXK96QLWOBeB6wHpATYAGQOHOekAAAAAAAOB6QLN/+b8e8XpAAAAAAAAAe0Czf/m/HhF7QAAAAAAAIHtAs3/5vx4xe0AAAAAAAEB7QLN/+b8eUXtAAAAAAABge0Czf/m/HnF7QAAAAAAAgHtAah0LwPWQe0ACDwwgXJ97QLWOBeB6sHtATYAGQOG+e0AAAAAAANB7QGodC8D14HtAAg8MIFzve0C1jgXgegB8QE2ABkDhDnxAAAAAAAAgfEA=",
          "dtype": "f8"
         },
         "y": {
          "bdata": "jG4YYHo/Y0Cp+AFAvEdVQC2V+T9uhEVAR371n9KDQECqHwaAyzpAQKwD/98Bu0FAdeP+nxqaQ0BHP/k/sGNFQK2o+9+VMklAfwT2f6sETUBOJQNAFRZQQKfR/f/sjlJAjif+/2qFVEBr2v/fnDZXQDqSy39IUlpApBwn4LLdXEAuqBTg4MRfQJbi9D9Kt2FABVkFIKQLY0CjdOlfksplQH0IBQAibWdAW3wKgLHsaUDbZPlf0/trQJSnB2Ae0G5A0ysKYI/jcEAOkvQfqPBxQCP2CaCY+nJAcRsN4M3HdEDrBfqfF9F1QNYL9D9P9XZA+WsNAPD2d0DMw/gfLy14QEwW9x+5W3lA22T5X/NoekCNP/YfPmR7QK4m9J+6/ntAUm/8P536fEAcjvhfeNx9QD4a899ocH5A/loDAMzbf0Cm7QSg5j+AQMh5/x/nsoBAGET/X8DogEDwXv+/a1eBQGEQ/X+xe4FAEKEAQCTPgUDTwfo/9yGCQCOM+n+AZIJAkfP+P66qgkA/hAIAEc6CQFUjBWA9G4NAQs77/zg+g0AAAAAAYGWDQN8YAoATX4NApu0EoAadg0DiYvt/S22DQMUvBiAfrYNARoIEIBnOg0CbO/pf3leDQBPr+T/sVYNAudj+32Iwg0BGggQguQeDQMfUAiBz/YJA22T5X5N5gkBuZwTAvZ+CQPID/L8/AYJADvwDQFDYgUAtPgXAGLSBQDIt+7+UQYFAP4QCAEH9gEAV+gVgiLeAQIr1/B+mZ4BAwXv9/x4bgEAqivyf6Jd/QNZ1A2A3M39A5hYEoJuTfkDH1AIg86Z9QFwhB4BFvHxATYAGQCFKfEDFxfb/1lR7QGb/8n+9wnpAx9QCIDOzeUB4r//fnfp4QDs6CQAJKnhARHP4/+wBeEATVQlglAN3QC3U9Z9QL3ZAE1UJYNS3dUC+x/TfvhB1QLUk9r/yOXRATBb3H3nBc0Dtqvafi/hyQCP2CaAYgHJAqTf+n378cUB1+/a/jXdxQCOM+n/QkXBAUMr/PwklcEC9XeW/NkVvQLDL8J/uyG1AB/4BIDhrbUAK3uv/d7hrQFW59T9lJ2tA1gv0P29DakCjdOlfEtJpQN7dFKD3jGhAZ9MRwI04Z0D4xhAAXPFmQEnM/R/xjmVA367yX3ueZUCrRgrAWkFkQHMqGQAqSmRAnUoGgOqMYkBb5hmgWUliQOzZGOCnU2FAm9HqP4bcYECRXQ5gthNgQAVZBSCk/V5Av5jSnyKRXUDuUjQgjF9cQJez0v9NrlpAwRQvYBNPWkC6E+y/zkZZQG5nBMBdTFhAiI/8f6S0VkAQoQBAxLlWQDy4AcDtyFVAEOD8n+a+VEBeBQDgu/NTQKk3/p/e2lJAYvgEYC6JUkC84/t/qAxSQHWkAkD4E1FAxxP/f3X7UEDHkfc/esNPQKI5/H/mdk5AYCwEIIuDS0B7ewAgYUpLQCHn/X8clUpAzZMI4CiTSUB14/6fmhRJQCDA+T9N70ZAbAEEICzORkDxhQMAS+dFQJQ9+D/2tURAwmMF4Js2REDqhwHgkjVCQM84BeC8CUNAVH4IYLkDQkAn/fe/p3NBQKMhBGATFUFAwwwRYCbXP0A=",
          "dtype": "f8"
         }
        },
        {
         "line": {
          "color": "rgb(240, 116, 110)"
         },
         "mode": "lines",
         "name": "Parabola Fit (Series 4)",
         "showlegend": false,
         "type": "scatter",
         "x": {
          "bdata": "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",
          "dtype": "f8"
         },
         "y": {
          "bdata": "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",
          "dtype": "f8"
         }
        },
        {
         "marker": {
          "color": "rgb(240, 116, 110)",
          "size": 8,
          "symbol": "circle"
         },
         "mode": "markers",
         "name": "Vertex (Series 4)",
         "showlegend": false,
         "type": "scatter",
         "x": [
          355.62136317741454
         ],
         "y": [
          625.7316301943634
         ]
        },
        {
         "line": {
          "color": "rgb(240, 116, 110)",
          "dash": "dash"
         },
         "mode": "lines",
         "showlegend": false,
         "type": "scatter",
         "x": [
          355.62136317741454,
          355.62136317741454
         ],
         "y": [
          0,
          625.7316301943634
         ]
        },
        {
         "line": {
          "color": "rgb(250, 164, 118)",
          "dash": "dot"
         },
         "mode": "lines",
         "name": "7.73 M",
         "type": "scatter",
         "x": {
          "bdata": "AAAAAADAckBNgAZA4c5yQLWOBeB64HJAAg8MIFzvckBqHQvA9QBzQAAAAAAAEHNATYAGQOEec0C1jgXgejBzQAIPDCBcP3NAah0LwPVQc0AAAAAAAGBzQE2ABkDhbnNAtY4F4HqAc0ACDwwgXI9zQGodC8D1oHNAAAAAAACwc0BNgAZA4b5zQLWOBeB60HNAAg8MIFzfc0BqHQvA9fBzQAAAAAAAAHRAs3/5vx4RdEAAAAAAACB0QLN/+b8eMXRAAAAAAABAdECzf/m/HlF0QAAAAAAAYHRAs3/5vx5xdEAAAAAAAIB0QLN/+b8ekXRAAAAAAACgdEBNgAZA4a50QLWOBeB6wHRAAg8MIFzPdEBqHQvA9eB0QAAAAAAA8HRATYAGQOH+dEC1jgXgehB1QAIPDCBcH3VAah0LwPUwdUAAAAAAAEB1QLN/+b8eUXVAAAAAAABgdUCzf/m/HnF1QAAAAAAAgHVAs3/5vx6RdUAAAAAAAKB1QLN/+b8esXVAAAAAAADAdUCzf/m/HtF1QAAAAAAA4HVAs3/5vx7xdUAAAAAAAAB2QLN/+b8eEXZAAAAAAAAgdkCzf/m/HjF2QAAAAAAAQHZAs3/5vx5RdkAAAAAAAGB2QLN/+b8ecXZAAAAAAACAdkCzf/m/HpF2QAAAAAAAoHZAs3/5vx6xdkAAAAAAAMB2QLN/+b8e0XZAAAAAAADgdkCzf/m/HvF2QAAAAAAAAHdAs3/5vx4Rd0AAAAAAACB3QLN/+b8eMXdAAAAAAABAd0Czf/m/HlF3QAAAAAAAYHdAs3/5vx5xd0AAAAAAAIB3QLN/+b8ekXdAAAAAAACgd0Czf/m/HrF3QAAAAAAAwHdAs3/5vx7Rd0AAAAAAAOB3QLN/+b8e8XdAAAAAAAAAeECzf/m/HhF4QAAAAAAAIHhAs3/5vx4xeEAAAAAAAEB4QLN/+b8eUXhAAAAAAABgeECzf/m/HnF4QAAAAAAAgHhAs3/5vx6ReEAAAAAAAKB4QLN/+b8esXhAAAAAAADAeECzf/m/HtF4QAAAAAAA4HhAs3/5vx7xeEAAAAAAAAB5QLN/+b8eEXlAAAAAAAAgeUCzf/m/HjF5QAAAAAAAQHlAs3/5vx5ReUAAAAAAAGB5QLN/+b8ecXlAAAAAAACAeUCzf/m/HpF5QAAAAAAAoHlAs3/5vx6xeUAAAAAAAMB5QLN/+b8e0XlAAAAAAADgeUCzf/m/HvF5QAAAAAAAAHpAs3/5vx4RekAAAAAAACB6QLN/+b8eMXpAAAAAAABAekBqHQvA9VB6QAIPDCBcX3pAtY4F4HpwekBNgAZA4X56QAAAAAAAkHpAah0LwPWgekACDwwgXK96QLWOBeB6wHpATYAGQOHOekAAAAAAAOB6QLN/+b8e8XpAAAAAAAAAe0Czf/m/HhF7QAAAAAAAIHtAs3/5vx4xe0AAAAAAAEB7QLN/+b8eUXtAAAAAAABge0Czf/m/HnF7QAAAAAAAgHtAah0LwPWQe0ACDwwgXJ97QLWOBeB6sHtATYAGQOG+e0AAAAAAANB7QGodC8D14HtAAg8MIFzve0C1jgXgegB8QE2ABkDhDnxAAAAAAAAgfEA=",
          "dtype": "f8"
         },
         "y": {
          "bdata": "YRD9f8FYZUATgeofxCJZQII6BuB2iEdAMu7+X5IfQkA7UgEgvI5BQDPWBkC/AUNAICoJYLW1REDu0frfOt9HQJ5G9/8zvEpAzWj1H+PcT0BuZwTA3e1QQNmAAACd3VJAswEBADrrVUA3X/yfiWdYQE/5IYBl2VtAwNYAAFsDX0Aoe/B/7NRgQOM2GsDbfWJAV8gBYOGpZEDC5QwgF7JmQDAe7584rmhAjG4YYHoLa0BBkw4gTW5tQK4m9J86SXBAg/f6/z1ZcUCK9fwfdvRyQELO+/8YVHRAUxT5PzGadUA24QPg5HZ2QIP3+v9903dAYGsAgE34eEBCzvv/mId5QBpTC4CMuXpAlD34P/aFe0DjzAqg04B8QIsECUBy+31AaA7/n5k+fkAH/gEg+Np/QIFS/v8pVoBAEKEAQDTjgEB1ZQbgxUiBQCjl/59UrIFAZcQFoOEzgkBnaQKgVY+CQHNW+r9Z2IJAgVL+/xkUg0AxiP6/oKCDQCqK/J/I0INACkj7H9DHg0AxiP6/YDmEQC0+BcAodYRA22T5X7N9hECSmPs/gqOEQFUjBWC95YRA6WD9nxPihEBCzvv/CPOEQBChAEDE2IRA2r/8X9/vhEB1ZQbgdauEQDbhA+Ck6oRAUMr/PxmQhEAv4wHArHuEQBPr+T8cLIRAq9z6nzIXhECzf/m//taDQKvc+p/Cl4NA08H6P2dug0DmFgSgW+CCQM93AUD/fIJAGun7X+RNgkCGqwMgjuOBQGBrAID94IFARycBIF0ngUAa6ftf1PCAQCHn/X8Mz4BAi5r5H3ongED0qPi/o/J/QA78A0Dwon5AhkH0/+VZfkCd4PZfQsJ9QFlt/l/VyXxArib0n/orfEBTFPk/UQV7QIsECUBSEnpADFcHQBxgeUB9CAUAwut4QAAAAAAADHhAaA7/n9mFd0AqivyfyJV2QM7SBEBLHHZAYRD9f8GKdUAMVwdAPGJ0QPBe/787C3RA9Kj4v+M8c0CsgfefJuRyQK3rBsBOD3JARoIEIImLcUBct/dfveFwQOas9H+zKHBAY7X5fxUOb0A9dfbfFJZuQJs7+l+u5G1AS0UZYNWQbEBGggQgCUZrQAxXB0Dcm2pAxFvn366JaUBQNA9g0dxoQDnB7b/EQ2dARRj1/+C9ZkAYRP9fEDBmQKCU/3/SEWVAXwHxX0X6Y0BQyv8/6SRkQHhF8L8VFmNArpADwIINYkAVkPY/gGNhQMUvBiD/62BAplcUwF7EX0AAAAAAAEBfQMZtNIA3ml1A+MPPfw8iXEAIz9/fe2BbQGpJ7H+lIVpAlXsmoC6GWUAkdAJgHWxYQO/4/h8KmVdASU4FYCyQVkAYBQMArm5WQOztAYAE9VRAsPYDYLS7U0BVO/1/IF5TQAKl/P9TiVJA9FEEQO7hUUBmQv5f1u5QQLRnAaArglBAAX74v8TXTkAqyfj/isxOQHhwA4Db8ExADyMIgL/ZSkATrP3fiXdLQFeJBQA/UElAYOn4P/J8SEBbfAqAcdhGQPib/T/WSEZA8Z37Hx54RUAaKPi/ButEQEXZ+J8+/kNA8dz3f8BXQ0BL2wlA7UpCQFV6+d/CG0JAW7sG4BNBQUA=",
          "dtype": "f8"
         }
        },
        {
         "line": {
          "color": "rgb(250, 164, 118)"
         },
         "mode": "lines",
         "name": "Parabola Fit (Series 5)",
         "showlegend": false,
         "type": "scatter",
         "x": {
          "bdata": "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",
          "dtype": "f8"
         },
         "y": {
          "bdata": "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",
          "dtype": "f8"
         }
        },
        {
         "marker": {
          "color": "rgb(250, 164, 118)",
          "size": 8,
          "symbol": "circle"
         },
         "mode": "markers",
         "name": "Vertex (Series 5)",
         "showlegend": false,
         "type": "scatter",
         "x": [
          355.71354961075787
         ],
         "y": [
          668.8582786321076
         ]
        },
        {
         "line": {
          "color": "rgb(250, 164, 118)",
          "dash": "dash"
         },
         "mode": "lines",
         "showlegend": false,
         "type": "scatter",
         "x": [
          355.71354961075787,
          355.71354961075787
         ],
         "y": [
          0,
          668.8582786321076
         ]
        }
       ],
       "layout": {
        "height": 500,
        "legend": {
         "x": 1,
         "xanchor": "right",
         "y": 1,
         "yanchor": "top"
        },
        "template": {
         "data": {
          "bar": [
           {
            "error_x": {
             "color": "#2a3f5f"
            },
            "error_y": {
             "color": "#2a3f5f"
            },
            "marker": {
             "line": {
              "color": "white",
              "width": 0.5
             },
             "pattern": {
              "fillmode": "overlay",
              "size": 10,
              "solidity": 0.2
             }
            },
            "type": "bar"
           }
          ],
          "barpolar": [
           {
            "marker": {
             "line": {
              "color": "white",
              "width": 0.5
             },
             "pattern": {
              "fillmode": "overlay",
              "size": 10,
              "solidity": 0.2
             }
            },
            "type": "barpolar"
           }
          ],
          "carpet": [
           {
            "aaxis": {
             "endlinecolor": "#2a3f5f",
             "gridcolor": "#C8D4E3",
             "linecolor": "#C8D4E3",
             "minorgridcolor": "#C8D4E3",
             "startlinecolor": "#2a3f5f"
            },
            "baxis": {
             "endlinecolor": "#2a3f5f",
             "gridcolor": "#C8D4E3",
             "linecolor": "#C8D4E3",
             "minorgridcolor": "#C8D4E3",
             "startlinecolor": "#2a3f5f"
            },
            "type": "carpet"
           }
          ],
          "choropleth": [
           {
            "colorbar": {
             "outlinewidth": 0,
             "ticks": ""
            },
            "type": "choropleth"
           }
          ],
          "contour": [
           {
            "colorbar": {
             "outlinewidth": 0,
             "ticks": ""
            },
            "colorscale": [
             [
              0,
              "#0d0887"
             ],
             [
              0.1111111111111111,
              "#46039f"
             ],
             [
              0.2222222222222222,
              "#7201a8"
             ],
             [
              0.3333333333333333,
              "#9c179e"
             ],
             [
              0.4444444444444444,
              "#bd3786"
             ],
             [
              0.5555555555555556,
              "#d8576b"
             ],
             [
              0.6666666666666666,
              "#ed7953"
             ],
             [
              0.7777777777777778,
              "#fb9f3a"
             ],
             [
              0.8888888888888888,
              "#fdca26"
             ],
             [
              1,
              "#f0f921"
             ]
            ],
            "type": "contour"
           }
          ],
          "contourcarpet": [
           {
            "colorbar": {
             "outlinewidth": 0,
             "ticks": ""
            },
            "type": "contourcarpet"
           }
          ],
          "heatmap": [
           {
            "colorbar": {
             "outlinewidth": 0,
             "ticks": ""
            },
            "colorscale": [
             [
              0,
              "#0d0887"
             ],
             [
              0.1111111111111111,
              "#46039f"
             ],
             [
              0.2222222222222222,
              "#7201a8"
             ],
             [
              0.3333333333333333,
              "#9c179e"
             ],
             [
              0.4444444444444444,
              "#bd3786"
             ],
             [
              0.5555555555555556,
              "#d8576b"
             ],
             [
              0.6666666666666666,
              "#ed7953"
             ],
             [
              0.7777777777777778,
              "#fb9f3a"
             ],
             [
              0.8888888888888888,
              "#fdca26"
             ],
             [
              1,
              "#f0f921"
             ]
            ],
            "type": "heatmap"
           }
          ],
          "histogram": [
           {
            "marker": {
             "pattern": {
              "fillmode": "overlay",
              "size": 10,
              "solidity": 0.2
             }
            },
            "type": "histogram"
           }
          ],
          "histogram2d": [
           {
            "colorbar": {
             "outlinewidth": 0,
             "ticks": ""
            },
            "colorscale": [
             [
              0,
              "#0d0887"
             ],
             [
              0.1111111111111111,
              "#46039f"
             ],
             [
              0.2222222222222222,
              "#7201a8"
             ],
             [
              0.3333333333333333,
              "#9c179e"
             ],
             [
              0.4444444444444444,
              "#bd3786"
             ],
             [
              0.5555555555555556,
              "#d8576b"
             ],
             [
              0.6666666666666666,
              "#ed7953"
             ],
             [
              0.7777777777777778,
              "#fb9f3a"
             ],
             [
              0.8888888888888888,
              "#fdca26"
             ],
             [
              1,
              "#f0f921"
             ]
            ],
            "type": "histogram2d"
           }
          ],
          "histogram2dcontour": [
           {
            "colorbar": {
             "outlinewidth": 0,
             "ticks": ""
            },
            "colorscale": [
             [
              0,
              "#0d0887"
             ],
             [
              0.1111111111111111,
              "#46039f"
             ],
             [
              0.2222222222222222,
              "#7201a8"
             ],
             [
              0.3333333333333333,
              "#9c179e"
             ],
             [
              0.4444444444444444,
              "#bd3786"
             ],
             [
              0.5555555555555556,
              "#d8576b"
             ],
             [
              0.6666666666666666,
              "#ed7953"
             ],
             [
              0.7777777777777778,
              "#fb9f3a"
             ],
             [
              0.8888888888888888,
              "#fdca26"
             ],
             [
              1,
              "#f0f921"
             ]
            ],
            "type": "histogram2dcontour"
           }
          ],
          "mesh3d": [
           {
            "colorbar": {
             "outlinewidth": 0,
             "ticks": ""
            },
            "type": "mesh3d"
           }
          ],
          "parcoords": [
           {
            "line": {
             "colorbar": {
              "outlinewidth": 0,
              "ticks": ""
             }
            },
            "type": "parcoords"
           }
          ],
          "pie": [
           {
            "automargin": true,
            "type": "pie"
           }
          ],
          "scatter": [
           {
            "fillpattern": {
             "fillmode": "overlay",
             "size": 10,
             "solidity": 0.2
            },
            "type": "scatter"
           }
          ],
          "scatter3d": [
           {
            "line": {
             "colorbar": {
              "outlinewidth": 0,
              "ticks": ""
             }
            },
            "marker": {
             "colorbar": {
              "outlinewidth": 0,
              "ticks": ""
             }
            },
            "type": "scatter3d"
           }
          ],
          "scattercarpet": [
           {
            "marker": {
             "colorbar": {
              "outlinewidth": 0,
              "ticks": ""
             }
            },
            "type": "scattercarpet"
           }
          ],
          "scattergeo": [
           {
            "marker": {
             "colorbar": {
              "outlinewidth": 0,
              "ticks": ""
             }
            },
            "type": "scattergeo"
           }
          ],
          "scattergl": [
           {
            "marker": {
             "colorbar": {
              "outlinewidth": 0,
              "ticks": ""
             }
            },
            "type": "scattergl"
           }
          ],
          "scattermap": [
           {
            "marker": {
             "colorbar": {
              "outlinewidth": 0,
              "ticks": ""
             }
            },
            "type": "scattermap"
           }
          ],
          "scattermapbox": [
           {
            "marker": {
             "colorbar": {
              "outlinewidth": 0,
              "ticks": ""
             }
            },
            "type": "scattermapbox"
           }
          ],
          "scatterpolar": [
           {
            "marker": {
             "colorbar": {
              "outlinewidth": 0,
              "ticks": ""
             }
            },
            "type": "scatterpolar"
           }
          ],
          "scatterpolargl": [
           {
            "marker": {
             "colorbar": {
              "outlinewidth": 0,
              "ticks": ""
             }
            },
            "type": "scatterpolargl"
           }
          ],
          "scatterternary": [
           {
            "marker": {
             "colorbar": {
              "outlinewidth": 0,
              "ticks": ""
             }
            },
            "type": "scatterternary"
           }
          ],
          "surface": [
           {
            "colorbar": {
             "outlinewidth": 0,
             "ticks": ""
            },
            "colorscale": [
             [
              0,
              "#0d0887"
             ],
             [
              0.1111111111111111,
              "#46039f"
             ],
             [
              0.2222222222222222,
              "#7201a8"
             ],
             [
              0.3333333333333333,
              "#9c179e"
             ],
             [
              0.4444444444444444,
              "#bd3786"
             ],
             [
              0.5555555555555556,
              "#d8576b"
             ],
             [
              0.6666666666666666,
              "#ed7953"
             ],
             [
              0.7777777777777778,
              "#fb9f3a"
             ],
             [
              0.8888888888888888,
              "#fdca26"
             ],
             [
              1,
              "#f0f921"
             ]
            ],
            "type": "surface"
           }
          ],
          "table": [
           {
            "cells": {
             "fill": {
              "color": "#EBF0F8"
             },
             "line": {
              "color": "white"
             }
            },
            "header": {
             "fill": {
              "color": "#C8D4E3"
             },
             "line": {
              "color": "white"
             }
            },
            "type": "table"
           }
          ]
         },
         "layout": {
          "annotationdefaults": {
           "arrowcolor": "#2a3f5f",
           "arrowhead": 0,
           "arrowwidth": 1
          },
          "autotypenumbers": "strict",
          "coloraxis": {
           "colorbar": {
            "outlinewidth": 0,
            "ticks": ""
           }
          },
          "colorscale": {
           "diverging": [
            [
             0,
             "#8e0152"
            ],
            [
             0.1,
             "#c51b7d"
            ],
            [
             0.2,
             "#de77ae"
            ],
            [
             0.3,
             "#f1b6da"
            ],
            [
             0.4,
             "#fde0ef"
            ],
            [
             0.5,
             "#f7f7f7"
            ],
            [
             0.6,
             "#e6f5d0"
            ],
            [
             0.7,
             "#b8e186"
            ],
            [
             0.8,
             "#7fbc41"
            ],
            [
             0.9,
             "#4d9221"
            ],
            [
             1,
             "#276419"
            ]
           ],
           "sequential": [
            [
             0,
             "#0d0887"
            ],
            [
             0.1111111111111111,
             "#46039f"
            ],
            [
             0.2222222222222222,
             "#7201a8"
            ],
            [
             0.3333333333333333,
             "#9c179e"
            ],
            [
             0.4444444444444444,
             "#bd3786"
            ],
            [
             0.5555555555555556,
             "#d8576b"
            ],
            [
             0.6666666666666666,
             "#ed7953"
            ],
            [
             0.7777777777777778,
             "#fb9f3a"
            ],
            [
             0.8888888888888888,
             "#fdca26"
            ],
            [
             1,
             "#f0f921"
            ]
           ],
           "sequentialminus": [
            [
             0,
             "#0d0887"
            ],
            [
             0.1111111111111111,
             "#46039f"
            ],
            [
             0.2222222222222222,
             "#7201a8"
            ],
            [
             0.3333333333333333,
             "#9c179e"
            ],
            [
             0.4444444444444444,
             "#bd3786"
            ],
            [
             0.5555555555555556,
             "#d8576b"
            ],
            [
             0.6666666666666666,
             "#ed7953"
            ],
            [
             0.7777777777777778,
             "#fb9f3a"
            ],
            [
             0.8888888888888888,
             "#fdca26"
            ],
            [
             1,
             "#f0f921"
            ]
           ]
          },
          "colorway": [
           "#636efa",
           "#EF553B",
           "#00cc96",
           "#ab63fa",
           "#FFA15A",
           "#19d3f3",
           "#FF6692",
           "#B6E880",
           "#FF97FF",
           "#FECB52"
          ],
          "font": {
           "color": "#2a3f5f"
          },
          "geo": {
           "bgcolor": "white",
           "lakecolor": "white",
           "landcolor": "white",
           "showlakes": true,
           "showland": true,
           "subunitcolor": "#C8D4E3"
          },
          "hoverlabel": {
           "align": "left"
          },
          "hovermode": "closest",
          "mapbox": {
           "style": "light"
          },
          "paper_bgcolor": "white",
          "plot_bgcolor": "white",
          "polar": {
           "angularaxis": {
            "gridcolor": "#EBF0F8",
            "linecolor": "#EBF0F8",
            "ticks": ""
           },
           "bgcolor": "white",
           "radialaxis": {
            "gridcolor": "#EBF0F8",
            "linecolor": "#EBF0F8",
            "ticks": ""
           }
          },
          "scene": {
           "xaxis": {
            "backgroundcolor": "white",
            "gridcolor": "#DFE8F3",
            "gridwidth": 2,
            "linecolor": "#EBF0F8",
            "showbackground": true,
            "ticks": "",
            "zerolinecolor": "#EBF0F8"
           },
           "yaxis": {
            "backgroundcolor": "white",
            "gridcolor": "#DFE8F3",
            "gridwidth": 2,
            "linecolor": "#EBF0F8",
            "showbackground": true,
            "ticks": "",
            "zerolinecolor": "#EBF0F8"
           },
           "zaxis": {
            "backgroundcolor": "white",
            "gridcolor": "#DFE8F3",
            "gridwidth": 2,
            "linecolor": "#EBF0F8",
            "showbackground": true,
            "ticks": "",
            "zerolinecolor": "#EBF0F8"
           }
          },
          "shapedefaults": {
           "line": {
            "color": "#2a3f5f"
           }
          },
          "ternary": {
           "aaxis": {
            "gridcolor": "#DFE8F3",
            "linecolor": "#A2B1C6",
            "ticks": ""
           },
           "baxis": {
            "gridcolor": "#DFE8F3",
            "linecolor": "#A2B1C6",
            "ticks": ""
           },
           "bgcolor": "white",
           "caxis": {
            "gridcolor": "#DFE8F3",
            "linecolor": "#A2B1C6",
            "ticks": ""
           }
          },
          "title": {
           "x": 0.05
          },
          "xaxis": {
           "automargin": true,
           "gridcolor": "#EBF0F8",
           "linecolor": "#EBF0F8",
           "ticks": "",
           "title": {
            "standoff": 15
           },
           "zerolinecolor": "#EBF0F8",
           "zerolinewidth": 2
          },
          "yaxis": {
           "automargin": true,
           "gridcolor": "#EBF0F8",
           "linecolor": "#EBF0F8",
           "ticks": "",
           "title": {
            "standoff": 15
           },
           "zerolinecolor": "#EBF0F8",
           "zerolinewidth": 2
          }
         }
        },
        "width": 800,
        "xaxis": {
         "title": {
          "text": "λ [nm]"
         }
        },
        "yaxis": {
         "title": {
          "text": "Intensità di fluorescenza"
         }
        }
       }
      }
     },
     "metadata": {},
     "output_type": "display_data"
    }
   ],
   "source": [
    "\n",
    "fig = go.Figure()\n",
    "\n",
    "colors = sequential.Sunsetdark_r[:6]  # Colori per le serie\n",
    "\n",
    "for i in range(6):\n",
    "    w_col, I_col = f'w{i}', f'I{i}'\n",
    "\n",
    "    fig.add_trace(go.Scatter( # plot full dashed spectrum\n",
    "        x=data[w_col], y=data[I_col], mode='lines', name=f'{np.round(concentrazioni[i],2)} M',\n",
    "        line=dict(color=colors[i], dash='dot')\n",
    "    ))\n",
    "\n",
    "    # plot parabola\n",
    "    max_idx = data[I_col].idxmax()\n",
    "    l_idx = max_idx - POINTS_AROUND_MAX\n",
    "    r_idx = max_idx + POINTS_AROUND_MAX\n",
    "\n",
    "    # subset per il fit parabolico\n",
    "    w_subset, I_subset = data[w_col].iloc[l_idx:r_idx + 1], data[I_col].iloc[l_idx:r_idx + 1]  # subset creato con gli indici nel range\n",
    "    x_parabola = np.linspace(w_subset.min(), w_subset.max(), 1000)\n",
    "    y_parabola = parabola(x_parabola, *fit_results[f'{i} M'])\n",
    "\n",
    "    # Aggiunta della parabola\n",
    "    fig.add_trace(go.Scatter(\n",
    "        x=x_parabola, y=y_parabola, mode='lines', name=f'Parabola Fit (Series {i})',\n",
    "        line=dict(color=colors[i]), showlegend=False\n",
    "    ))\n",
    "\n",
    "    # Vertice con barre d'errore\n",
    "    xV,yV = VERTEX[i]\n",
    "    fig.add_trace(go.Scatter(\n",
    "        x=[xV], y=[yV], mode='markers', name=f'Vertex (Series {i})',\n",
    "        marker=dict(color=colors[i], size=8, symbol='circle'),\n",
    "        showlegend=False\n",
    "    ))\n",
    "\n",
    "    # Linea verticale dal vertice all'asse x (y=0)\n",
    "    fig.add_trace(go.Scatter(\n",
    "        x=[xV, xV],\n",
    "        y=[0, yV],\n",
    "        mode='lines',\n",
    "        line=dict(color=colors[i], dash='dash'),\n",
    "        showlegend=False\n",
    "    ))\n",
    "\n",
    "# Configurazione del layout\n",
    "fig.update_layout(\n",
    "    xaxis_title=\"λ [nm]\", \n",
    "    yaxis_title=\"Intensità di fluorescenza\",\n",
    "    template=\"plotly_white\",\n",
    "    height=500,\n",
    "    width=800,\n",
    "    legend=dict(\n",
    "            x=1,\n",
    "            y=1,\n",
    "            xanchor='right',\n",
    "            yanchor='top'\n",
    "        )\n",
    ")\n",
    "fig.write_html('./html/fluorescenza_fit_parabola.html')\n",
    "fig.write_image('./images/fluorescenza_fit_parabola.png')\n",
    "fig.show()\n",
    "\n",
    "# Stampa dei risultati del fit\n",
    "for key, values in fit_results.items():\n",
    "    errors = fit_errors[key]\n",
    "    formatted_values = f\"xV = {values[1]:.2f} ± {errors[1]:.2f}, yV = {values[2]:.2f} ± {errors[2]:.2f}\"\n",
    "    # print(f\"{key}: {formatted_values}\")\n"
   ]
  },
  {
   "cell_type": "code",
   "execution_count": 52,
   "metadata": {},
   "outputs": [
    {
     "name": "stdout",
     "output_type": "stream",
     "text": [
      "[[np.float64(333.27478031152907), np.float64(575.7923054495121)], [np.float64(333.4467351537085), np.float64(649.5197202437809)], [np.float64(344.71878840101493), np.float64(746.0699080331476)], [np.float64(354.8778232667291), np.float64(649.3450465288554)], [np.float64(355.62136317741454), np.float64(625.7316301943634)], [np.float64(355.71354961075787), np.float64(668.8582786321076)]]\n"
     ]
    }
   ],
   "source": [
    "print(VERTEX)"
   ]
  },
  {
   "cell_type": "code",
   "execution_count": 53,
   "metadata": {},
   "outputs": [],
   "source": [
    "# Cden = concentrazione del denaturante -> valore x\n",
    "# Cmp = concentrazione del campione -> parametro\n",
    "# m = pendenza della curva -> parametro\n",
    "# yN = intensità del campione non denaturato -> valore noto\n",
    "# yD = intensità del campione denaturato -> valore noto\n",
    "\n",
    "\n",
    "# udm [m] = J/ mol2 L\n",
    "\n",
    "def sigmoide(Cden, Cmid, m, yN, yD): # SCUSA SARAAAAAA, SONO IO A NON SAPER LEGGERE, ORA è OK MA LO ERA ANCHE PRIMA\n",
    "    R = 8.314 # J / mol K\n",
    "    T = 298.15  # K\n",
    "    #yN = VERTEX[0][0] # nm\n",
    "    # yD = VERTEX[5][0] # nm\n",
    "    expon = m * (Cmid - Cden) / (R * T)\n",
    "    return (yN + yD * np.exp(-expon)) / (1 + np.exp(-expon))"
   ]
  },
  {
   "cell_type": "code",
   "execution_count": 54,
   "metadata": {},
   "outputs": [
    {
     "name": "stdout",
     "output_type": "stream",
     "text": [
      "Cmid:  3.06 ± 0.02 M\n",
      "m:  5840.16 ± 653.47 J L / mol2\n",
      "ΔG:  17868.19 ± 2003.27 J/mol\n"
     ]
    }
   ],
   "source": [
    "# Estrai gli errori su xV dai dati esistenti\n",
    "errors_xV = [fit_errors[f'{i} M'][1] for i in range(6)]  # Errori su xV per ogni serie\n",
    "# Definizione di assex e assey dai dati dei vertici\n",
    "assex = concentrazioni # np.array([i for i in range(6)]) # Indici delle serie (0 M, 1 M, ..., 5 M)\n",
    "assey = np.array([VERTEX[i][0] for i in range(6)])  # Valori di xV per ogni serie\n",
    "\n",
    "# Fit dei dati usando la funzione sigmoide e considerando gli errori\n",
    "popt1, pcov1 = curve_fit(sigmoide, assex, assey, sigma=errors_xV, p0=[2.12, 5840.16 ,VERTEX[0][0],VERTEX[5][0]], maxfev=5000)\n",
    "\n",
    "Cmid, m, yN,yD = popt1\n",
    "err_Cmid, err_m, err_yN, err_yD = np.sqrt(np.diag(pcov1))\n",
    "\n",
    "\n",
    "print('Cmid: ', final_val(Cmid,err_Cmid,udm='M'))\n",
    "print('m: ', final_val(m,err_m,udm='J L / mol2'))\n",
    "\n",
    "ΔG = Cmid * m\n",
    "err_DELTA_G = np.sqrt((err_Cmid * m)**2 + (Cmid * err_m)**2)\n",
    "print('ΔG: ', final_val(ΔG, err_DELTA_G, udm='J/mol'))"
   ]
  },
  {
   "cell_type": "code",
   "execution_count": 55,
   "metadata": {},
   "outputs": [
    {
     "data": {
      "application/vnd.plotly.v1+json": {
       "config": {
        "plotlyServerURL": "https://plot.ly"
       },
       "data": [
        {
         "line": {
          "color": "rgb(124, 29, 111)"
         },
         "mode": "lines",
         "name": "Fit Sigmoide",
         "showlegend": false,
         "type": "scatter",
         "x": {
          "bdata": "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",
          "dtype": "f8"
         },
         "y": {
          "bdata": "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",
          "dtype": "f8"
         }
        },
        {
         "error_y": {
          "array": [
           0.18208467605936976,
           0.20703720485801108,
           0.15904448975868302,
           0.15458251664219505,
           0.17052392701456123,
           0.12618631864335192
          ],
          "type": "data",
          "visible": true
         },
         "marker": {
          "color": "rgb(220, 57, 119)",
          "size": 5
         },
         "mode": "markers",
         "name": "Dati Originali",
         "showlegend": false,
         "type": "scatter",
         "x": {
          "bdata": "AAAAAAAAAAC0yHa+nxr5P65H4XoUrghAnMQgsHJoEkCoxks3icEYQDvfT42X7h5A",
          "dtype": "f8"
         },
         "y": {
          "bdata": "ojkKgGXUdEBtssLTJdd0QKcxRCiAi3VAT+RokAsudkDy3oMa8Tl2QHUk/7JqO3ZA",
          "dtype": "f8"
         }
        }
       ],
       "layout": {
        "height": 500,
        "template": {
         "data": {
          "bar": [
           {
            "error_x": {
             "color": "#2a3f5f"
            },
            "error_y": {
             "color": "#2a3f5f"
            },
            "marker": {
             "line": {
              "color": "white",
              "width": 0.5
             },
             "pattern": {
              "fillmode": "overlay",
              "size": 10,
              "solidity": 0.2
             }
            },
            "type": "bar"
           }
          ],
          "barpolar": [
           {
            "marker": {
             "line": {
              "color": "white",
              "width": 0.5
             },
             "pattern": {
              "fillmode": "overlay",
              "size": 10,
              "solidity": 0.2
             }
            },
            "type": "barpolar"
           }
          ],
          "carpet": [
           {
            "aaxis": {
             "endlinecolor": "#2a3f5f",
             "gridcolor": "#C8D4E3",
             "linecolor": "#C8D4E3",
             "minorgridcolor": "#C8D4E3",
             "startlinecolor": "#2a3f5f"
            },
            "baxis": {
             "endlinecolor": "#2a3f5f",
             "gridcolor": "#C8D4E3",
             "linecolor": "#C8D4E3",
             "minorgridcolor": "#C8D4E3",
             "startlinecolor": "#2a3f5f"
            },
            "type": "carpet"
           }
          ],
          "choropleth": [
           {
            "colorbar": {
             "outlinewidth": 0,
             "ticks": ""
            },
            "type": "choropleth"
           }
          ],
          "contour": [
           {
            "colorbar": {
             "outlinewidth": 0,
             "ticks": ""
            },
            "colorscale": [
             [
              0,
              "#0d0887"
             ],
             [
              0.1111111111111111,
              "#46039f"
             ],
             [
              0.2222222222222222,
              "#7201a8"
             ],
             [
              0.3333333333333333,
              "#9c179e"
             ],
             [
              0.4444444444444444,
              "#bd3786"
             ],
             [
              0.5555555555555556,
              "#d8576b"
             ],
             [
              0.6666666666666666,
              "#ed7953"
             ],
             [
              0.7777777777777778,
              "#fb9f3a"
             ],
             [
              0.8888888888888888,
              "#fdca26"
             ],
             [
              1,
              "#f0f921"
             ]
            ],
            "type": "contour"
           }
          ],
          "contourcarpet": [
           {
            "colorbar": {
             "outlinewidth": 0,
             "ticks": ""
            },
            "type": "contourcarpet"
           }
          ],
          "heatmap": [
           {
            "colorbar": {
             "outlinewidth": 0,
             "ticks": ""
            },
            "colorscale": [
             [
              0,
              "#0d0887"
             ],
             [
              0.1111111111111111,
              "#46039f"
             ],
             [
              0.2222222222222222,
              "#7201a8"
             ],
             [
              0.3333333333333333,
              "#9c179e"
             ],
             [
              0.4444444444444444,
              "#bd3786"
             ],
             [
              0.5555555555555556,
              "#d8576b"
             ],
             [
              0.6666666666666666,
              "#ed7953"
             ],
             [
              0.7777777777777778,
              "#fb9f3a"
             ],
             [
              0.8888888888888888,
              "#fdca26"
             ],
             [
              1,
              "#f0f921"
             ]
            ],
            "type": "heatmap"
           }
          ],
          "histogram": [
           {
            "marker": {
             "pattern": {
              "fillmode": "overlay",
              "size": 10,
              "solidity": 0.2
             }
            },
            "type": "histogram"
           }
          ],
          "histogram2d": [
           {
            "colorbar": {
             "outlinewidth": 0,
             "ticks": ""
            },
            "colorscale": [
             [
              0,
              "#0d0887"
             ],
             [
              0.1111111111111111,
              "#46039f"
             ],
             [
              0.2222222222222222,
              "#7201a8"
             ],
             [
              0.3333333333333333,
              "#9c179e"
             ],
             [
              0.4444444444444444,
              "#bd3786"
             ],
             [
              0.5555555555555556,
              "#d8576b"
             ],
             [
              0.6666666666666666,
              "#ed7953"
             ],
             [
              0.7777777777777778,
              "#fb9f3a"
             ],
             [
              0.8888888888888888,
              "#fdca26"
             ],
             [
              1,
              "#f0f921"
             ]
            ],
            "type": "histogram2d"
           }
          ],
          "histogram2dcontour": [
           {
            "colorbar": {
             "outlinewidth": 0,
             "ticks": ""
            },
            "colorscale": [
             [
              0,
              "#0d0887"
             ],
             [
              0.1111111111111111,
              "#46039f"
             ],
             [
              0.2222222222222222,
              "#7201a8"
             ],
             [
              0.3333333333333333,
              "#9c179e"
             ],
             [
              0.4444444444444444,
              "#bd3786"
             ],
             [
              0.5555555555555556,
              "#d8576b"
             ],
             [
              0.6666666666666666,
              "#ed7953"
             ],
             [
              0.7777777777777778,
              "#fb9f3a"
             ],
             [
              0.8888888888888888,
              "#fdca26"
             ],
             [
              1,
              "#f0f921"
             ]
            ],
            "type": "histogram2dcontour"
           }
          ],
          "mesh3d": [
           {
            "colorbar": {
             "outlinewidth": 0,
             "ticks": ""
            },
            "type": "mesh3d"
           }
          ],
          "parcoords": [
           {
            "line": {
             "colorbar": {
              "outlinewidth": 0,
              "ticks": ""
             }
            },
            "type": "parcoords"
           }
          ],
          "pie": [
           {
            "automargin": true,
            "type": "pie"
           }
          ],
          "scatter": [
           {
            "fillpattern": {
             "fillmode": "overlay",
             "size": 10,
             "solidity": 0.2
            },
            "type": "scatter"
           }
          ],
          "scatter3d": [
           {
            "line": {
             "colorbar": {
              "outlinewidth": 0,
              "ticks": ""
             }
            },
            "marker": {
             "colorbar": {
              "outlinewidth": 0,
              "ticks": ""
             }
            },
            "type": "scatter3d"
           }
          ],
          "scattercarpet": [
           {
            "marker": {
             "colorbar": {
              "outlinewidth": 0,
              "ticks": ""
             }
            },
            "type": "scattercarpet"
           }
          ],
          "scattergeo": [
           {
            "marker": {
             "colorbar": {
              "outlinewidth": 0,
              "ticks": ""
             }
            },
            "type": "scattergeo"
           }
          ],
          "scattergl": [
           {
            "marker": {
             "colorbar": {
              "outlinewidth": 0,
              "ticks": ""
             }
            },
            "type": "scattergl"
           }
          ],
          "scattermap": [
           {
            "marker": {
             "colorbar": {
              "outlinewidth": 0,
              "ticks": ""
             }
            },
            "type": "scattermap"
           }
          ],
          "scattermapbox": [
           {
            "marker": {
             "colorbar": {
              "outlinewidth": 0,
              "ticks": ""
             }
            },
            "type": "scattermapbox"
           }
          ],
          "scatterpolar": [
           {
            "marker": {
             "colorbar": {
              "outlinewidth": 0,
              "ticks": ""
             }
            },
            "type": "scatterpolar"
           }
          ],
          "scatterpolargl": [
           {
            "marker": {
             "colorbar": {
              "outlinewidth": 0,
              "ticks": ""
             }
            },
            "type": "scatterpolargl"
           }
          ],
          "scatterternary": [
           {
            "marker": {
             "colorbar": {
              "outlinewidth": 0,
              "ticks": ""
             }
            },
            "type": "scatterternary"
           }
          ],
          "surface": [
           {
            "colorbar": {
             "outlinewidth": 0,
             "ticks": ""
            },
            "colorscale": [
             [
              0,
              "#0d0887"
             ],
             [
              0.1111111111111111,
              "#46039f"
             ],
             [
              0.2222222222222222,
              "#7201a8"
             ],
             [
              0.3333333333333333,
              "#9c179e"
             ],
             [
              0.4444444444444444,
              "#bd3786"
             ],
             [
              0.5555555555555556,
              "#d8576b"
             ],
             [
              0.6666666666666666,
              "#ed7953"
             ],
             [
              0.7777777777777778,
              "#fb9f3a"
             ],
             [
              0.8888888888888888,
              "#fdca26"
             ],
             [
              1,
              "#f0f921"
             ]
            ],
            "type": "surface"
           }
          ],
          "table": [
           {
            "cells": {
             "fill": {
              "color": "#EBF0F8"
             },
             "line": {
              "color": "white"
             }
            },
            "header": {
             "fill": {
              "color": "#C8D4E3"
             },
             "line": {
              "color": "white"
             }
            },
            "type": "table"
           }
          ]
         },
         "layout": {
          "annotationdefaults": {
           "arrowcolor": "#2a3f5f",
           "arrowhead": 0,
           "arrowwidth": 1
          },
          "autotypenumbers": "strict",
          "coloraxis": {
           "colorbar": {
            "outlinewidth": 0,
            "ticks": ""
           }
          },
          "colorscale": {
           "diverging": [
            [
             0,
             "#8e0152"
            ],
            [
             0.1,
             "#c51b7d"
            ],
            [
             0.2,
             "#de77ae"
            ],
            [
             0.3,
             "#f1b6da"
            ],
            [
             0.4,
             "#fde0ef"
            ],
            [
             0.5,
             "#f7f7f7"
            ],
            [
             0.6,
             "#e6f5d0"
            ],
            [
             0.7,
             "#b8e186"
            ],
            [
             0.8,
             "#7fbc41"
            ],
            [
             0.9,
             "#4d9221"
            ],
            [
             1,
             "#276419"
            ]
           ],
           "sequential": [
            [
             0,
             "#0d0887"
            ],
            [
             0.1111111111111111,
             "#46039f"
            ],
            [
             0.2222222222222222,
             "#7201a8"
            ],
            [
             0.3333333333333333,
             "#9c179e"
            ],
            [
             0.4444444444444444,
             "#bd3786"
            ],
            [
             0.5555555555555556,
             "#d8576b"
            ],
            [
             0.6666666666666666,
             "#ed7953"
            ],
            [
             0.7777777777777778,
             "#fb9f3a"
            ],
            [
             0.8888888888888888,
             "#fdca26"
            ],
            [
             1,
             "#f0f921"
            ]
           ],
           "sequentialminus": [
            [
             0,
             "#0d0887"
            ],
            [
             0.1111111111111111,
             "#46039f"
            ],
            [
             0.2222222222222222,
             "#7201a8"
            ],
            [
             0.3333333333333333,
             "#9c179e"
            ],
            [
             0.4444444444444444,
             "#bd3786"
            ],
            [
             0.5555555555555556,
             "#d8576b"
            ],
            [
             0.6666666666666666,
             "#ed7953"
            ],
            [
             0.7777777777777778,
             "#fb9f3a"
            ],
            [
             0.8888888888888888,
             "#fdca26"
            ],
            [
             1,
             "#f0f921"
            ]
           ]
          },
          "colorway": [
           "#636efa",
           "#EF553B",
           "#00cc96",
           "#ab63fa",
           "#FFA15A",
           "#19d3f3",
           "#FF6692",
           "#B6E880",
           "#FF97FF",
           "#FECB52"
          ],
          "font": {
           "color": "#2a3f5f"
          },
          "geo": {
           "bgcolor": "white",
           "lakecolor": "white",
           "landcolor": "white",
           "showlakes": true,
           "showland": true,
           "subunitcolor": "#C8D4E3"
          },
          "hoverlabel": {
           "align": "left"
          },
          "hovermode": "closest",
          "mapbox": {
           "style": "light"
          },
          "paper_bgcolor": "white",
          "plot_bgcolor": "white",
          "polar": {
           "angularaxis": {
            "gridcolor": "#EBF0F8",
            "linecolor": "#EBF0F8",
            "ticks": ""
           },
           "bgcolor": "white",
           "radialaxis": {
            "gridcolor": "#EBF0F8",
            "linecolor": "#EBF0F8",
            "ticks": ""
           }
          },
          "scene": {
           "xaxis": {
            "backgroundcolor": "white",
            "gridcolor": "#DFE8F3",
            "gridwidth": 2,
            "linecolor": "#EBF0F8",
            "showbackground": true,
            "ticks": "",
            "zerolinecolor": "#EBF0F8"
           },
           "yaxis": {
            "backgroundcolor": "white",
            "gridcolor": "#DFE8F3",
            "gridwidth": 2,
            "linecolor": "#EBF0F8",
            "showbackground": true,
            "ticks": "",
            "zerolinecolor": "#EBF0F8"
           },
           "zaxis": {
            "backgroundcolor": "white",
            "gridcolor": "#DFE8F3",
            "gridwidth": 2,
            "linecolor": "#EBF0F8",
            "showbackground": true,
            "ticks": "",
            "zerolinecolor": "#EBF0F8"
           }
          },
          "shapedefaults": {
           "line": {
            "color": "#2a3f5f"
           }
          },
          "ternary": {
           "aaxis": {
            "gridcolor": "#DFE8F3",
            "linecolor": "#A2B1C6",
            "ticks": ""
           },
           "baxis": {
            "gridcolor": "#DFE8F3",
            "linecolor": "#A2B1C6",
            "ticks": ""
           },
           "bgcolor": "white",
           "caxis": {
            "gridcolor": "#DFE8F3",
            "linecolor": "#A2B1C6",
            "ticks": ""
           }
          },
          "title": {
           "x": 0.05
          },
          "xaxis": {
           "automargin": true,
           "gridcolor": "#EBF0F8",
           "linecolor": "#EBF0F8",
           "ticks": "",
           "title": {
            "standoff": 15
           },
           "zerolinecolor": "#EBF0F8",
           "zerolinewidth": 2
          },
          "yaxis": {
           "automargin": true,
           "gridcolor": "#EBF0F8",
           "linecolor": "#EBF0F8",
           "ticks": "",
           "title": {
            "standoff": 15
           },
           "zerolinecolor": "#EBF0F8",
           "zerolinewidth": 2
          }
         }
        },
        "width": 800,
        "xaxis": {
         "title": {
          "text": "C(GuHCl) [M]"
         }
        },
        "yaxis": {
         "title": {
          "text": "λ [nm]"
         }
        }
       }
      }
     },
     "metadata": {},
     "output_type": "display_data"
    }
   ],
   "source": [
    "fig = go.Figure()\n",
    "\n",
    "# Fit sigmoide\n",
    "Cden_fit = np.linspace(min(assex), max(assex), 1000)  # Genera valori per l'asse x\n",
    "sigmoide_fit = sigmoide(Cden_fit, *popt1)  # Calcola i valori della sigmoide\n",
    "\n",
    "# Sigmoide grafico\n",
    "fig.add_trace(go.Scatter(\n",
    "    x=Cden_fit,\n",
    "    y=sigmoide_fit,\n",
    "    mode='lines',\n",
    "    name='Fit Sigmoide',\n",
    "    line=dict(color=colors[0]),\n",
    "    showlegend=False\n",
    "))\n",
    "\n",
    "# Dati originali con barre d'errore\n",
    "fig.add_trace(go.Scatter(\n",
    "    x=assex,\n",
    "    y=assey,\n",
    "    mode='markers',\n",
    "    name='Dati Originali',\n",
    "    marker=dict(color=colors[2], size=5),\n",
    "    error_y=dict(\n",
    "        type='data',\n",
    "        array=errors_xV,\n",
    "        visible=True\n",
    "    ),\n",
    "    showlegend=False\n",
    "))\n",
    "\n",
    "fig.update_layout(\n",
    "    xaxis_title=\"C(GuHCl) [M]\",\n",
    "    yaxis_title=\"λ [nm]\",\n",
    "    template=\"plotly_white\",\n",
    "    height=500,\n",
    "    width=800    \n",
    ")\n",
    "\n",
    "fig.write_html('./html/fluorescenza_fit_sigmoide.html')\n",
    "fig.write_image('./images/fluorescenza_fit_sigmoide.png')\n",
    "fig.show()"
   ]
  },
  {
   "cell_type": "code",
   "execution_count": 56,
   "metadata": {
    "vscode": {
     "languageId": "ruby"
    }
   },
   "outputs": [
    {
     "name": "stdout",
     "output_type": "stream",
     "text": [
      "Chi quadro ridotto: 2.28\n",
      "P-value: 0.1021\n"
     ]
    }
   ],
   "source": [
    "\n",
    "y_fit = sigmoide(np.array(assex), *popt1)\n",
    "errors_y = errors_xV  # Errori associati ai dati osservati\n",
    "\n",
    "ChiQ = np.sum(((np.array(assey) - y_fit) / np.array(errors_y))**2)\n",
    "dof = len(assey) - len(popt1)\n",
    "rChiQ = ChiQ / dof\n",
    "p_value = 1 - chi2.cdf(ChiQ, dof)\n",
    "\n",
    "print(f\"Chi quadro ridotto: {rChiQ:.2f}\")\n",
    "print(f\"P-value: {p_value:.4f}\")"
   ]
  }
 ],
 "metadata": {
  "kernelspec": {
   "display_name": "Python 3",
   "language": "python",
   "name": "python3"
  },
  "language_info": {
   "codemirror_mode": {
    "name": "ipython",
    "version": 3
   },
   "file_extension": ".py",
   "mimetype": "text/x-python",
   "name": "python",
   "nbconvert_exporter": "python",
   "pygments_lexer": "ipython3",
   "version": "3.13.0"
  }
 },
 "nbformat": 4,
 "nbformat_minor": 2
}
