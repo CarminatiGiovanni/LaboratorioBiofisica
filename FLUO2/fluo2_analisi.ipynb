{
 "cells": [
  {
   "cell_type": "code",
   "execution_count": 1,
   "metadata": {},
   "outputs": [],
   "source": [
    "from matplotlib import pyplot as plt\n",
    "import numpy as np\n",
    "import pandas as pd\n",
    "import plotly.express as px\n",
    "import os\n",
    "import sys\n",
    "import plotly.graph_objects as go \n",
    "dir_path = os.path.abspath('')\n",
    "sys.path.append(dir_path + '/../')\n",
    "from labbiofisica import Interpolazione, final_val\n",
    "from plotly.colors import sequential\n",
    "from scipy.optimize import curve_fit\n",
    "from scipy.stats import chi2"
   ]
  },
  {
   "cell_type": "code",
   "execution_count": 2,
   "metadata": {},
   "outputs": [],
   "source": [
    "def read(filename):\n",
    "    df = pd.read_csv(filename, skiprows = 2, nrows = 151, sep = ',', header = None)\n",
    "    df.dropna(axis = 1, inplace = True)  # Drop columns with NaN values\n",
    "    df.reset_index(drop = True, inplace = True)  # Reset index\n",
    "    df.columns = ['w0', 'I0', 'w1', 'I1', 'w2', 'I2', 'w3', 'I3', 'w4', 'I4', 'w5', 'I5']\n",
    "    return df"
   ]
  },
  {
   "cell_type": "code",
   "execution_count": 3,
   "metadata": {},
   "outputs": [],
   "source": [
    "def plottiamo(data):\n",
    "    fig = go.Figure()\n",
    "    colors = sequential.Sunsetdark_r[:6]\n",
    "\n",
    "    for i in range(6):\n",
    "        fig.add_trace(go.Scatter(\n",
    "            x = data[f'w{i}'], \n",
    "            y = data[f'I{i}'], \n",
    "            mode = 'lines', \n",
    "            name = f'{i}M',\n",
    "            line = dict(color = colors[i])\n",
    "        ))\n",
    "\n",
    "    fig.update_layout(\n",
    "        xaxis_title = \"Wavelength (nm)\",\n",
    "        yaxis_title = \"Intensity\",\n",
    "        template = \"plotly_white\",\n",
    "        height = 500,\n",
    "        width = 800,\n",
    "        legend=dict(\n",
    "            x=1,\n",
    "            y=1,\n",
    "            xanchor='right',\n",
    "            yanchor='top'\n",
    "        )\n",
    "    )\n",
    "\n",
    "    fig.show()"
   ]
  },
  {
   "cell_type": "code",
   "execution_count": 4,
   "metadata": {},
   "outputs": [
    {
     "data": {
      "application/vnd.plotly.v1+json": {
       "config": {
        "plotlyServerURL": "https://plot.ly"
       },
       "data": [
        {
         "line": {
          "color": "rgb(124, 29, 111)"
         },
         "mode": "lines",
         "name": "0M",
         "type": "scatter",
         "x": {
          "bdata": "AAAAAADAckBNgAZA4c5yQLWOBeB64HJAAg8MIFzvckBqHQvA9QBzQAAAAAAAEHNATYAGQOEec0C1jgXgejBzQAIPDCBcP3NAah0LwPVQc0AAAAAAAGBzQE2ABkDhbnNAtY4F4HqAc0ACDwwgXI9zQGodC8D1oHNAAAAAAACwc0BNgAZA4b5zQLWOBeB60HNAAg8MIFzfc0BqHQvA9fBzQAAAAAAAAHRAs3/5vx4RdEAAAAAAACB0QLN/+b8eMXRAAAAAAABAdECzf/m/HlF0QAAAAAAAYHRAs3/5vx5xdEAAAAAAAIB0QLN/+b8ekXRAAAAAAACgdEBNgAZA4a50QLWOBeB6wHRAAg8MIFzPdEBqHQvA9eB0QAAAAAAA8HRATYAGQOH+dEC1jgXgehB1QAIPDCBcH3VAah0LwPUwdUAAAAAAAEB1QLN/+b8eUXVAAAAAAABgdUCzf/m/HnF1QAAAAAAAgHVAs3/5vx6RdUAAAAAAAKB1QLN/+b8esXVAAAAAAADAdUCzf/m/HtF1QAAAAAAA4HVAs3/5vx7xdUAAAAAAAAB2QLN/+b8eEXZAAAAAAAAgdkCzf/m/HjF2QAAAAAAAQHZAs3/5vx5RdkAAAAAAAGB2QLN/+b8ecXZAAAAAAACAdkCzf/m/HpF2QAAAAAAAoHZAs3/5vx6xdkAAAAAAAMB2QLN/+b8e0XZAAAAAAADgdkCzf/m/HvF2QAAAAAAAAHdAs3/5vx4Rd0AAAAAAACB3QLN/+b8eMXdAAAAAAABAd0Czf/m/HlF3QAAAAAAAYHdAs3/5vx5xd0AAAAAAAIB3QLN/+b8ekXdAAAAAAACgd0Czf/m/HrF3QAAAAAAAwHdAs3/5vx7Rd0AAAAAAAOB3QLN/+b8e8XdAAAAAAAAAeECzf/m/HhF4QAAAAAAAIHhAs3/5vx4xeEAAAAAAAEB4QLN/+b8eUXhAAAAAAABgeECzf/m/HnF4QAAAAAAAgHhAs3/5vx6ReEAAAAAAAKB4QLN/+b8esXhAAAAAAADAeECzf/m/HtF4QAAAAAAA4HhAs3/5vx7xeEAAAAAAAAB5QLN/+b8eEXlAAAAAAAAgeUCzf/m/HjF5QAAAAAAAQHlAs3/5vx5ReUAAAAAAAGB5QLN/+b8ecXlAAAAAAACAeUCzf/m/HpF5QAAAAAAAoHlAs3/5vx6xeUAAAAAAAMB5QLN/+b8e0XlAAAAAAADgeUCzf/m/HvF5QAAAAAAAAHpAs3/5vx4RekAAAAAAACB6QLN/+b8eMXpAAAAAAABAekBqHQvA9VB6QAIPDCBcX3pAtY4F4HpwekBNgAZA4X56QAAAAAAAkHpAah0LwPWgekACDwwgXK96QLWOBeB6wHpATYAGQOHOekAAAAAAAOB6QLN/+b8e8XpAAAAAAAAAe0Czf/m/HhF7QAAAAAAAIHtAs3/5vx4xe0AAAAAAAEB7QLN/+b8eUXtAAAAAAABge0Czf/m/HnF7QAAAAAAAgHtAah0LwPWQe0ACDwwgXJ97QLWOBeB6sHtATYAGQOG+e0AAAAAAANB7QGodC8D14HtAAg8MIFzve0C1jgXgegB8QE2ABkDhDnxAAAAAAAAgfEA=",
          "dtype": "f8"
         },
         "y": {
          "bdata": "v2zx3/JrWkCWTARgMnBUQIrdBAADrVNA/9j7v3DsV0Aaf+w/fCJdQLLa/L/qwGBA2VXtP5eHY0AenQSANAFnQK4m9J9aX2lAjdXm/xX5a0AsmQjAZCNuQFy39189snBASTYNQJnNcUA93wUAfepyQDiGAOCYYHRA8gP8v6+vdUBCzvv/+Nd2QApI+x8gpnhAZ2kCoCXaeUBJNg1AWZR7QCOM+n/wjHxAZ2kCoOXGfUD0qPi/ox5/QHNW+r9JIoBA2r/8Xz+YgEACpfz/MyiBQPdcAeBzXYFA6wX6n8eIgUAJo/4fbNiBQHVlBuDl2oFA8F7/vzvngUAxiP6/wPqBQBefAmB824FA91wB4APEgUAo5f+fNAyCQM7SBEA7CIJA/bUGAGjTgUDdcwWAz8WBQPID/L8vkoFAMi37v3SkgUDrBfqfV0GBQCWbBqAcPIFAMYj+vwAkgUBxsf2/RbyAQG8MAcAReYBANuED4JQ/gEDfGAKAUy+AQMh5/x8nNn9A9rcE4P/VfkA+GvPfKIx+QC/jAcDMt31AXLf3X11KfUA5K/3frFR8QEaCBCAJ+HtAaA7/n5kMe0DKHvwfW5x6QApI+x9g03lA2BoAYMtleUDfGAKAA+14QCWbBqAMz3dAxS8GIF/+dkDhvf5/10p2QLWOBeC64XVAS3H6HyWWdEDMLQhAd+5zQISc9//xdnNAS3H6H+VkckDC5QwgF3hxQIr1/B9WNXFAoqMLoC5qcECWTARgcp9vQIG8DSCymW5A9HwXAPQ7bUCPuBFgImtsQN1zBYAP0GpAbwwBwHF3aUAeBxSgnKhoQKk3/p8euWdA6fbtfxuoZkA2d/S/XLVlQDwL579sw2RAFL8YgDzpY0B1+/a/Lc1iQHzNFyD2n2FAJ6oSwCj/YEBct/dfXWFgQE/24P/Ytl9AVeXW/xRCXkC29dN/1ilcQKI5/H/mEVtAplTTP9LTWUARRv0/GJlYQHMX/l+3vFdAIIH93+pcVkCkhwQARZVVQO83+3+se1RAO5H9f15wU0AWeP4frWhSQAA//F+iMlFAPLgBwC39UEDAFf1fvaxQQGHRACCfQ05AbyT53wQBTUBKdQmge+xKQO7R+t+6A0tANJP7Xyb+SUAKCf+/vZNHQGgO/5/5ZUZASzL+v2LhRUCwNQDAVnhEQHz5+N8lFkRA0oL+3+T1QkBBEQfgUQVCQKl2+v9AMEFAMTEKQKvsQECmqvm/3SNAQMNLDcBIlj1AlmDt/05fPEDgwQ0Abs48QCSI6/+5CztAp+n1H4DUOEDSV+sfn4c4QL9s8d9y4TZA88Dw3/aqNkDVuA5AMFs1QHce7H9GPzRARuwTQDEzM0AtE/L/slwzQDhb7R8TGTJAS3H6HwUJMUASxPX/3NExQEM0/J+qZjBA6CUQwBdmLUCoT/a/8SMuQMZq8/+qeyxA/LkVgE7uKkBFBdpfbrQpQE0pEsCLZChAAvsigB80J0DdCfZf5wwoQGNKHGCD3SRArVLVXwqQJUCz1u0/dLslQBlXGgDDbSRAbvsCoKjCIkDzafxfAfgiQIsFAsBYqCFA8MoA4HDoH0ASbQGA5wsiQMwB/P+qViBAVx0E4ElkIEA=",
          "dtype": "f8"
         }
        },
        {
         "line": {
          "color": "rgb(185, 37, 122)"
         },
         "mode": "lines",
         "name": "1M",
         "type": "scatter",
         "x": {
          "bdata": "AAAAAADAckBNgAZA4c5yQLWOBeB64HJAAg8MIFzvckBqHQvA9QBzQAAAAAAAEHNATYAGQOEec0C1jgXgejBzQAIPDCBcP3NAah0LwPVQc0AAAAAAAGBzQE2ABkDhbnNAtY4F4HqAc0ACDwwgXI9zQGodC8D1oHNAAAAAAACwc0BNgAZA4b5zQLWOBeB60HNAAg8MIFzfc0BqHQvA9fBzQAAAAAAAAHRAs3/5vx4RdEAAAAAAACB0QLN/+b8eMXRAAAAAAABAdECzf/m/HlF0QAAAAAAAYHRAs3/5vx5xdEAAAAAAAIB0QLN/+b8ekXRAAAAAAACgdEBNgAZA4a50QLWOBeB6wHRAAg8MIFzPdEBqHQvA9eB0QAAAAAAA8HRATYAGQOH+dEC1jgXgehB1QAIPDCBcH3VAah0LwPUwdUAAAAAAAEB1QLN/+b8eUXVAAAAAAABgdUCzf/m/HnF1QAAAAAAAgHVAs3/5vx6RdUAAAAAAAKB1QLN/+b8esXVAAAAAAADAdUCzf/m/HtF1QAAAAAAA4HVAs3/5vx7xdUAAAAAAAAB2QLN/+b8eEXZAAAAAAAAgdkCzf/m/HjF2QAAAAAAAQHZAs3/5vx5RdkAAAAAAAGB2QLN/+b8ecXZAAAAAAACAdkCzf/m/HpF2QAAAAAAAoHZAs3/5vx6xdkAAAAAAAMB2QLN/+b8e0XZAAAAAAADgdkCzf/m/HvF2QAAAAAAAAHdAs3/5vx4Rd0AAAAAAACB3QLN/+b8eMXdAAAAAAABAd0Czf/m/HlF3QAAAAAAAYHdAs3/5vx5xd0AAAAAAAIB3QLN/+b8ekXdAAAAAAACgd0Czf/m/HrF3QAAAAAAAwHdAs3/5vx7Rd0AAAAAAAOB3QLN/+b8e8XdAAAAAAAAAeECzf/m/HhF4QAAAAAAAIHhAs3/5vx4xeEAAAAAAAEB4QLN/+b8eUXhAAAAAAABgeECzf/m/HnF4QAAAAAAAgHhAs3/5vx6ReEAAAAAAAKB4QLN/+b8esXhAAAAAAADAeECzf/m/HtF4QAAAAAAA4HhAs3/5vx7xeEAAAAAAAAB5QLN/+b8eEXlAAAAAAAAgeUCzf/m/HjF5QAAAAAAAQHlAs3/5vx5ReUAAAAAAAGB5QLN/+b8ecXlAAAAAAACAeUCzf/m/HpF5QAAAAAAAoHlAs3/5vx6xeUAAAAAAAMB5QLN/+b8e0XlAAAAAAADgeUCzf/m/HvF5QAAAAAAAAHpAs3/5vx4RekAAAAAAACB6QLN/+b8eMXpAAAAAAABAekBqHQvA9VB6QAIPDCBcX3pAtY4F4HpwekBNgAZA4X56QAAAAAAAkHpAah0LwPWgekACDwwgXK96QLWOBeB6wHpATYAGQOHOekAAAAAAAOB6QLN/+b8e8XpAAAAAAAAAe0Czf/m/HhF7QAAAAAAAIHtAs3/5vx4xe0AAAAAAAEB7QLN/+b8eUXtAAAAAAABge0Czf/m/HnF7QAAAAAAAgHtAah0LwPWQe0ACDwwgXJ97QLWOBeB6sHtATYAGQOG+e0AAAAAAANB7QGodC8D14HtAAg8MIFzve0C1jgXgegB8QE2ABkDhDnxAAAAAAAAgfEA=",
          "dtype": "f8"
         },
         "y": {
          "bdata": "T48SYH1iYEBKndvfNH5aQKH7zR+uElpAjNgngOKIXEA+GvPfKLxhQOxA538DEmRAxz4SQHuHZ0BlWvZ/6V5rQFLZC2Cl1G1AdqDzv0GVcEA24QPgxO5xQPQSCOBrr3NAJZsGoOyXdEBuZwTA3RV2QPID/L9vgHdAq0YKwJoleUAMVwdAfBF6QNXQBmDjAHxAF58CYJyffUDKiAtAowR/QNtk+V+DQ4BAkfP+P44ngUBVIwVgfbSBQOJi+3+bGYJAY7X5f5WSgkA4hgDgaFGDQB6dBIAkk4NADvwDQGDjg0CY8QBglv6DQDbhA+AkFIRAgVL+/7kbhEBexgOASTaEQJ1KBoBK9INAGET/X3BIhEBNgAZA0QaEQNZ1A2B3MIRAxS8GIF8EhEAH/gEgWCuEQF7GA4CJ4YNAJZsGoHzig0Bqs/ufLbaDQFlt/l8FPYNAvjEEAHctg0Cr3Pqf0qaCQCOM+n/wgIJA1nUDYBcxgkAtPgXAKP6BQNtk+V+Dj4FA0Rz+P2NwgUDtFAbA0/WAQEaCBCBptIBARycBIL1GgEBoDv+f2TCAQJulCYBWKX9A7ar2n4uufkAmQAOgQHd9QD+EAgDRMn1AlkwEYBJ7fEDrbwnA/2B7QP21BgBYsnpA9U31v1fNeUCsgfefhvR4QJoADYDiI3hA7RQGwHOLd0AYRP9fUJJ2QKCU/38ys3VAGlMLgAwBdUBE3QcgNVh0QBPr+T/sq3NATYAGQAHUckD5aw0A8NdxQHpU/N+RA3FATiUDQJWzcEA8pBgg0elvQCP2CaCYlm5Au1EaIEd0bUD38vG/iytsQN7dFKB3pWpADO33H3ThaUDLWen/ZsloQOn27X/bpWdAfTTmv5FdZkDGavP/6o1lQMgP8P8+k2RAXwHxX8USY0B4RfC/FdFiQMOKCSCr2WFAXwHxX0VIYUAzARoABQdgQHSUKCCSvV5AzJcXYB+rXUD0qPi/I0JcQFfIAWDhRFtAj7gRYKIhWkDzafxfAd9YQJOAAyDPiVdAEcgEgNNkVkCWiwDA1C9VQIQe/z8t4lRAj43+nxzdU0Bu5fx/YttSQKvc+p/yBFJAJkADoMAjUUDlLvy/7iZQQLf0BYBsik5AC2//X69YTUDco/W/9XJMQG8k+d+ELktAcXIBYCMOSkBcIQeABYpIQApI+x9gjEdAKsn4/4rCRUA0VP//A81EQCxu9f+e6URAE6z93wkOREBnqP7/B+BCQLJY9X8v/0BAOtQIYPe4QED9cvsfv5BAQMJ37n94gT9AtU8JgNgGPUBaEvtfCfE7QKSb7Z/hcDpAz0zuf5m8OkDhkuu/MfA4QOO0EoCgnjdAAg8MIHyyNkCmLAEAGXE1QJhv+R/LZjRAtjcRYAWyM0CnFAngRVQ0QALQD8BZGDJAG+Xs3+04MkC+mxMgrzUxQKQJDEBAQTBAtDzu3+URMEBNlO/f3Y4uQM2TCOCo8yxA68b9PzUrLUDZLRsAHhMsQBYNIQCbWCpADicXADaWKkDWdQNgl9gpQPTTC4Dp0ydAC90dAA5nJUDkG+EffAEnQMkOIgDVeyVAaND7vx39I0AQdu1/PqUkQCfUAYDLYSJAfbMCgLkJI0A=",
          "dtype": "f8"
         }
        },
        {
         "line": {
          "color": "rgb(220, 57, 119)"
         },
         "mode": "lines",
         "name": "2M",
         "type": "scatter",
         "x": {
          "bdata": "AAAAAADAckBNgAZA4c5yQLWOBeB64HJAAg8MIFzvckBqHQvA9QBzQAAAAAAAEHNATYAGQOEec0C1jgXgejBzQAIPDCBcP3NAah0LwPVQc0AAAAAAAGBzQE2ABkDhbnNAtY4F4HqAc0ACDwwgXI9zQGodC8D1oHNAAAAAAACwc0BNgAZA4b5zQLWOBeB60HNAAg8MIFzfc0BqHQvA9fBzQAAAAAAAAHRAs3/5vx4RdEAAAAAAACB0QLN/+b8eMXRAAAAAAABAdECzf/m/HlF0QAAAAAAAYHRAs3/5vx5xdEAAAAAAAIB0QLN/+b8ekXRAAAAAAACgdEBNgAZA4a50QLWOBeB6wHRAAg8MIFzPdEBqHQvA9eB0QAAAAAAA8HRATYAGQOH+dEC1jgXgehB1QAIPDCBcH3VAah0LwPUwdUAAAAAAAEB1QLN/+b8eUXVAAAAAAABgdUCzf/m/HnF1QAAAAAAAgHVAs3/5vx6RdUAAAAAAAKB1QLN/+b8esXVAAAAAAADAdUCzf/m/HtF1QAAAAAAA4HVAs3/5vx7xdUAAAAAAAAB2QLN/+b8eEXZAAAAAAAAgdkCzf/m/HjF2QAAAAAAAQHZAs3/5vx5RdkAAAAAAAGB2QLN/+b8ecXZAAAAAAACAdkCzf/m/HpF2QAAAAAAAoHZAs3/5vx6xdkAAAAAAAMB2QLN/+b8e0XZAAAAAAADgdkCzf/m/HvF2QAAAAAAAAHdAs3/5vx4Rd0AAAAAAACB3QLN/+b8eMXdAAAAAAABAd0Czf/m/HlF3QAAAAAAAYHdAs3/5vx5xd0AAAAAAAIB3QLN/+b8ekXdAAAAAAACgd0Czf/m/HrF3QAAAAAAAwHdAs3/5vx7Rd0AAAAAAAOB3QLN/+b8e8XdAAAAAAAAAeECzf/m/HhF4QAAAAAAAIHhAs3/5vx4xeEAAAAAAAEB4QLN/+b8eUXhAAAAAAABgeECzf/m/HnF4QAAAAAAAgHhAs3/5vx6ReEAAAAAAAKB4QLN/+b8esXhAAAAAAADAeECzf/m/HtF4QAAAAAAA4HhAs3/5vx7xeEAAAAAAAAB5QLN/+b8eEXlAAAAAAAAgeUCzf/m/HjF5QAAAAAAAQHlAs3/5vx5ReUAAAAAAAGB5QLN/+b8ecXlAAAAAAACAeUCzf/m/HpF5QAAAAAAAoHlAs3/5vx6xeUAAAAAAAMB5QLN/+b8e0XlAAAAAAADgeUCzf/m/HvF5QAAAAAAAAHpAs3/5vx4RekAAAAAAACB6QLN/+b8eMXpAAAAAAABAekBqHQvA9VB6QAIPDCBcX3pAtY4F4HpwekBNgAZA4X56QAAAAAAAkHpAah0LwPWgekACDwwgXK96QLWOBeB6wHpATYAGQOHOekAAAAAAAOB6QLN/+b8e8XpAAAAAAAAAe0Czf/m/HhF7QAAAAAAAIHtAs3/5vx4xe0AAAAAAAEB7QLN/+b8eUXtAAAAAAABge0Czf/m/HnF7QAAAAAAAgHtAah0LwPWQe0ACDwwgXJ97QLWOBeB6sHtATYAGQOG+e0AAAAAAANB7QGodC8D14HtAAg8MIFzve0C1jgXgegB8QE2ABkDhDnxAAAAAAAAgfEA=",
          "dtype": "f8"
         },
         "y": {
          "bdata": "dJHnn4ULYkA0VP//A5tYQNVO/x9I21VA2yX9/3AsV0DGavP/qmdcQAbDFECM4V9AEAsQYOwPYkDTwfo/R5ZkQCh78H9sDmdAlKcHYB6taUDWdQNgF+prQN7dFKC3Y25A7ar2nwuacEBvDAHAUZlxQCyZCMDkXHNAyh78HzvKdEDGavP/CmJ2QGJ6DKBJDnhA7k/zn5+MeUDyA/y/LzN7QKRICKCCDnxAcbH9v4UifkAAAAAAICJ/QD+EAgDRqIBA3XMFgL9BgUAV+gVgKAWCQJmW/V9acoJAvjEEAHdEg0A4hgDg+FeDQE4lA0DVAYRA22T5X9MYhEBuZwTATbaEQMUvBiCP7IRAbwwBwFE9hUCzf/m/Pq2FQKk3/p/O+YVAmPEAYOZYhkAa6ftfVECGQO0UBsAj84ZAS3H6H5X1hkAo5f+flBaHQGEQ/X/hIIdA2BoAYLsch0DH1AIgQzWHQLczAuB+ZodAx9QCIFMzh0BlxAWgQTiHQOi7AKC/RIdA6WD9nzNPh0D7pvrfqxCHQBhE/18Q04ZA+QH+3+exhkDO0gRAu4iGQGEQ/X8RcIZAarP7n40phkAenQSAxP2FQOlg/Z8zyoVA91wB4ENThUCSmPs/cj6FQH+tAQCGqoRAKor8n1gghEDDIPr/4hWEQG8MAcDR5oNAwNYAAAtTg0DvuQLAl+WCQI2pBUD2cIJA5hYEoBsAgkDO0gRAG2OBQAmj/h/cKYFAwNYAALvBgEDouwCgzzGAQNYL9D9Pw39A91wB4DMzf0AqivyfaOt9QBz4B4CAYn1AUMr/PwkMfEC8IvjfqlF7QBX6BWBoUHpADFcHQNymeUDFLwYgf8B4QLvnCgA/IXhAI/YJoFhNd0CIUAAgYrh2QMwtCECXb3VA3Qn2X2f3dECkSAigYlt0QGMfCaD9j3NAFfoFYAi1ckAsmQjApB1yQFoS+1/pvnFAOSv93yzxcEBqHQvAlU9wQJ6F81+WkG9AnoXzX9Z0bkDKiAtA4xZuQGl4DsAhV2xAn+8CgD6la0C+MQQAxxVqQGJ6DKDppWlA+jzrv/MjaEDRhg1gG5dnQFW59T+lemZALdT1n1DxZUAyLfu/dDBlQKj8EMCyVWRAOIYA4NgsY0AEtAggkEpiQJks7j9ytGFAXCEHgEVZYEA8DihAOalfQJez0v9NNV9ACt7r/3cxXkAh5/1/HD1dQIua+R+qpltAtL0nILe6WkBeBQDgO9hYQClLAECGnFhA+6b63xuTV0AAAAAAAHZWQB7cAOAWRFVANuED4ERPVECfLv/fYD5UQFHxA4D4PVNALyL+H6+cUkDOEQGgraNRQGUDAgA0A1FACzADAI1YUECFhP/fnjpPQPja+Z/4p05AwFT5v58sTEAhJvrfvj1LQEc/+T8wAUtACzADAA0rS0B/7P1f2HtIQCzYBCCH+0dAzGwEoFk/R0C9CgDA95JFQPHc939AU0RAKKYDQDJOREBEHASA1/lCQDV7A0DTqEJA55T8X+CVQUA9oAmg2ttAQM6P+V8ytUBAqjPvH6iXP0ALb/9fr7s9QNpoCODJuzpALT4FwHhQOkCYWxCAbtI6QFz287+/FzlAbEQPAEX7N0A=",
          "dtype": "f8"
         }
        },
        {
         "line": {
          "color": "rgb(227, 79, 111)"
         },
         "mode": "lines",
         "name": "3M",
         "type": "scatter",
         "x": {
          "bdata": "AAAAAADAckBNgAZA4c5yQLWOBeB64HJAAg8MIFzvckBqHQvA9QBzQAAAAAAAEHNATYAGQOEec0C1jgXgejBzQAIPDCBcP3NAah0LwPVQc0AAAAAAAGBzQE2ABkDhbnNAtY4F4HqAc0ACDwwgXI9zQGodC8D1oHNAAAAAAACwc0BNgAZA4b5zQLWOBeB60HNAAg8MIFzfc0BqHQvA9fBzQAAAAAAAAHRAs3/5vx4RdEAAAAAAACB0QLN/+b8eMXRAAAAAAABAdECzf/m/HlF0QAAAAAAAYHRAs3/5vx5xdEAAAAAAAIB0QLN/+b8ekXRAAAAAAACgdEBNgAZA4a50QLWOBeB6wHRAAg8MIFzPdEBqHQvA9eB0QAAAAAAA8HRATYAGQOH+dEC1jgXgehB1QAIPDCBcH3VAah0LwPUwdUAAAAAAAEB1QLN/+b8eUXVAAAAAAABgdUCzf/m/HnF1QAAAAAAAgHVAs3/5vx6RdUAAAAAAAKB1QLN/+b8esXVAAAAAAADAdUCzf/m/HtF1QAAAAAAA4HVAs3/5vx7xdUAAAAAAAAB2QLN/+b8eEXZAAAAAAAAgdkCzf/m/HjF2QAAAAAAAQHZAs3/5vx5RdkAAAAAAAGB2QLN/+b8ecXZAAAAAAACAdkCzf/m/HpF2QAAAAAAAoHZAs3/5vx6xdkAAAAAAAMB2QLN/+b8e0XZAAAAAAADgdkCzf/m/HvF2QAAAAAAAAHdAs3/5vx4Rd0AAAAAAACB3QLN/+b8eMXdAAAAAAABAd0Czf/m/HlF3QAAAAAAAYHdAs3/5vx5xd0AAAAAAAIB3QLN/+b8ekXdAAAAAAACgd0Czf/m/HrF3QAAAAAAAwHdAs3/5vx7Rd0AAAAAAAOB3QLN/+b8e8XdAAAAAAAAAeECzf/m/HhF4QAAAAAAAIHhAs3/5vx4xeEAAAAAAAEB4QLN/+b8eUXhAAAAAAABgeECzf/m/HnF4QAAAAAAAgHhAs3/5vx6ReEAAAAAAAKB4QLN/+b8esXhAAAAAAADAeECzf/m/HtF4QAAAAAAA4HhAs3/5vx7xeEAAAAAAAAB5QLN/+b8eEXlAAAAAAAAgeUCzf/m/HjF5QAAAAAAAQHlAs3/5vx5ReUAAAAAAAGB5QLN/+b8ecXlAAAAAAACAeUCzf/m/HpF5QAAAAAAAoHlAs3/5vx6xeUAAAAAAAMB5QLN/+b8e0XlAAAAAAADgeUCzf/m/HvF5QAAAAAAAAHpAs3/5vx4RekAAAAAAACB6QLN/+b8eMXpAAAAAAABAekBqHQvA9VB6QAIPDCBcX3pAtY4F4HpwekBNgAZA4X56QAAAAAAAkHpAah0LwPWgekACDwwgXK96QLWOBeB6wHpATYAGQOHOekAAAAAAAOB6QLN/+b8e8XpAAAAAAAAAe0Czf/m/HhF7QAAAAAAAIHtAs3/5vx4xe0AAAAAAAEB7QLN/+b8eUXtAAAAAAABge0Czf/m/HnF7QAAAAAAAgHtAah0LwPWQe0ACDwwgXJ97QLWOBeB6sHtATYAGQOG+e0AAAAAAANB7QGodC8D14HtAAg8MIFzve0C1jgXgegB8QE2ABkDhDnxAAAAAAAAgfEA=",
          "dtype": "f8"
         },
         "y": {
          "bdata": "mFsQgG4dYEAKSPsfYHRTQDMVA6BhKURAPR4CYJ/tQUB1JgqAM7VBQEsy/r9iZURAVSMFYM2qRkAs2AQgB01JQB4b/T85WU1AyDoDwIRuUEAWeP4fbVlSQB8DBSCm2lRA8Z37Hx7hV0DmgBPAg2ZaQJPWKaCaJV5A4b3+f3dzYEBqSex/pSRiQGik739RPWRAA+Dp33/HZUAhUQ2gBM1nQCNgGcAAQWpAZS4VwDlRbEDPdwFAHy9vQN1zBYAvwnBAS9sJQG0zckDWdQNgN2FzQMLlDCD3cHRA91wB4JM5dkDYGgBgaxZ3QMZq8/8KV3hAyh78H5tjeUCTAgtgKiB6QBefAmD85HpAneD2X6Lse0BTFPk/8d18QKWD9X9Ow31Ax9QCIDP4fkDuT/OfX7F/QMfUAiBTRIBAL+MBwNz0gEACpfz/o1mBQEaCBCB5jYFAtzMC4O7ugUDbZPlfI06CQHiv/9/dkIJA/loDANzGgkAo5f+fFCmDQELO+//4OoNAQCn//2SBg0DvuQLAV/KDQGXEBaDRKIRAfQgFALIGhEA5K/3fPCeEQEcnASAtLoRAz3cBQM8ehEBaEvtfeUuEQJZMBGCyY4RABVkFIFQbhEBuZwTArU6EQN8YAoDzDoRAtzMC4J7wg0CR8/4/PpaDQHiv/989e4NAelT834E2g0DWdQNgRziDQBX6BWCIu4JAkpj7P1JxgkACpfz/8zqCQEtx+h+F6oFANuED4GSYgUCIUAAgEjWBQGBrAICN3oBAkpj7P0K3gEA24QPgZCWAQN8YAoCjm39AFZD2P6DsfkAdM/VfDGR+QDTS979IZn1Aw4oJIOvvfEAfQgGASLB7QE678x/Ng3tApN74f1pkekAH/gEgOK15QHVlBuA1sHhAx9QCINNZeEDiYvt/q453QN1zBYBvI3dAp5IBoEpKdkAJo/4fjIh1QIQGByD6CnVAH0IBgAhBdEDwXv+/O3VzQINhCiBm/HJACaP+H4yTckCdSgaAqqxxQIpfDEC+MnFA9U31vxcxcEDsQOd/A59vQJsPGaB+mm5ASTYNQJmcbUCgKvBf6jVtQJNsGoDy2mtAg/f6/53takCIUAAgwrBpQLLa/L8q72hAEdztH7DOZ0Bjtfl/lWFnQAxXB0BcE2ZAUtkLYGW/ZUD4xhAAnKpkQGMfCaB902NAqPwQwPK7Y0BFruXfeN5iQPD0759TJWJAmZb9XxonYUBXyAFg4SpgQOSd6F83fV9A48wKoHOuXkBxGw3greRcQLmsHSBzPFxAcd3ef/UxWkCnKPJ/IixaQCJN/h8Or1hAg98C4MrRV0AbT/z/VV9XQI4n/v8qZlZAncj+P29BVUA1+fv/VzZUQE49+1+oSlRA8yoAAJ8BU0AhqAEg+stRQGfn+l+qbFFAAWYAoHEdUUCm7QSgdjxQQCGoASD6bE9ALjr2P4KUTUAGmAGAxjNLQBuSB+DuKEtAiXcEYFFDSkCTv/9/sRZJQKOf/B9YhUhAucAGwE9DRkCrRgrAmhNGQLf0BYBsjEVAa5sDgLpvREAnf///4opDQMn399/rVUJA3xgCgGNbQkBLMv6/4lxBQPvl9j/+RkBAJDH3f8RoQEA=",
          "dtype": "f8"
         }
        },
        {
         "line": {
          "color": "rgb(240, 116, 110)"
         },
         "mode": "lines",
         "name": "4M",
         "type": "scatter",
         "x": {
          "bdata": "AAAAAADAckBNgAZA4c5yQLWOBeB64HJAAg8MIFzvckBqHQvA9QBzQAAAAAAAEHNATYAGQOEec0C1jgXgejBzQAIPDCBcP3NAah0LwPVQc0AAAAAAAGBzQE2ABkDhbnNAtY4F4HqAc0ACDwwgXI9zQGodC8D1oHNAAAAAAACwc0BNgAZA4b5zQLWOBeB60HNAAg8MIFzfc0BqHQvA9fBzQAAAAAAAAHRAs3/5vx4RdEAAAAAAACB0QLN/+b8eMXRAAAAAAABAdECzf/m/HlF0QAAAAAAAYHRAs3/5vx5xdEAAAAAAAIB0QLN/+b8ekXRAAAAAAACgdEBNgAZA4a50QLWOBeB6wHRAAg8MIFzPdEBqHQvA9eB0QAAAAAAA8HRATYAGQOH+dEC1jgXgehB1QAIPDCBcH3VAah0LwPUwdUAAAAAAAEB1QLN/+b8eUXVAAAAAAABgdUCzf/m/HnF1QAAAAAAAgHVAs3/5vx6RdUAAAAAAAKB1QLN/+b8esXVAAAAAAADAdUCzf/m/HtF1QAAAAAAA4HVAs3/5vx7xdUAAAAAAAAB2QLN/+b8eEXZAAAAAAAAgdkCzf/m/HjF2QAAAAAAAQHZAs3/5vx5RdkAAAAAAAGB2QLN/+b8ecXZAAAAAAACAdkCzf/m/HpF2QAAAAAAAoHZAs3/5vx6xdkAAAAAAAMB2QLN/+b8e0XZAAAAAAADgdkCzf/m/HvF2QAAAAAAAAHdAs3/5vx4Rd0AAAAAAACB3QLN/+b8eMXdAAAAAAABAd0Czf/m/HlF3QAAAAAAAYHdAs3/5vx5xd0AAAAAAAIB3QLN/+b8ekXdAAAAAAACgd0Czf/m/HrF3QAAAAAAAwHdAs3/5vx7Rd0AAAAAAAOB3QLN/+b8e8XdAAAAAAAAAeECzf/m/HhF4QAAAAAAAIHhAs3/5vx4xeEAAAAAAAEB4QLN/+b8eUXhAAAAAAABgeECzf/m/HnF4QAAAAAAAgHhAs3/5vx6ReEAAAAAAAKB4QLN/+b8esXhAAAAAAADAeECzf/m/HtF4QAAAAAAA4HhAs3/5vx7xeEAAAAAAAAB5QLN/+b8eEXlAAAAAAAAgeUCzf/m/HjF5QAAAAAAAQHlAs3/5vx5ReUAAAAAAAGB5QLN/+b8ecXlAAAAAAACAeUCzf/m/HpF5QAAAAAAAoHlAs3/5vx6xeUAAAAAAAMB5QLN/+b8e0XlAAAAAAADgeUCzf/m/HvF5QAAAAAAAAHpAs3/5vx4RekAAAAAAACB6QLN/+b8eMXpAAAAAAABAekBqHQvA9VB6QAIPDCBcX3pAtY4F4HpwekBNgAZA4X56QAAAAAAAkHpAah0LwPWgekACDwwgXK96QLWOBeB6wHpATYAGQOHOekAAAAAAAOB6QLN/+b8e8XpAAAAAAAAAe0Czf/m/HhF7QAAAAAAAIHtAs3/5vx4xe0AAAAAAAEB7QLN/+b8eUXtAAAAAAABge0Czf/m/HnF7QAAAAAAAgHtAah0LwPWQe0ACDwwgXJ97QLWOBeB6sHtATYAGQOG+e0AAAAAAANB7QGodC8D14HtAAg8MIFzve0C1jgXgegB8QE2ABkDhDnxAAAAAAAAgfEA=",
          "dtype": "f8"
         },
         "y": {
          "bdata": "jG4YYHo/Y0Cp+AFAvEdVQC2V+T9uhEVAR371n9KDQECqHwaAyzpAQKwD/98Bu0FAdeP+nxqaQ0BHP/k/sGNFQK2o+9+VMklAfwT2f6sETUBOJQNAFRZQQKfR/f/sjlJAjif+/2qFVEBr2v/fnDZXQDqSy39IUlpApBwn4LLdXEAuqBTg4MRfQJbi9D9Kt2FABVkFIKQLY0CjdOlfksplQH0IBQAibWdAW3wKgLHsaUDbZPlf0/trQJSnB2Ae0G5A0ysKYI/jcEAOkvQfqPBxQCP2CaCY+nJAcRsN4M3HdEDrBfqfF9F1QNYL9D9P9XZA+WsNAPD2d0DMw/gfLy14QEwW9x+5W3lA22T5X/NoekCNP/YfPmR7QK4m9J+6/ntAUm/8P536fEAcjvhfeNx9QD4a899ocH5A/loDAMzbf0Cm7QSg5j+AQMh5/x/nsoBAGET/X8DogEDwXv+/a1eBQGEQ/X+xe4FAEKEAQCTPgUDTwfo/9yGCQCOM+n+AZIJAkfP+P66qgkA/hAIAEc6CQFUjBWA9G4NAQs77/zg+g0AAAAAAYGWDQN8YAoATX4NApu0EoAadg0DiYvt/S22DQMUvBiAfrYNARoIEIBnOg0CbO/pf3leDQBPr+T/sVYNAudj+32Iwg0BGggQguQeDQMfUAiBz/YJA22T5X5N5gkBuZwTAvZ+CQPID/L8/AYJADvwDQFDYgUAtPgXAGLSBQDIt+7+UQYFAP4QCAEH9gEAV+gVgiLeAQIr1/B+mZ4BAwXv9/x4bgEAqivyf6Jd/QNZ1A2A3M39A5hYEoJuTfkDH1AIg86Z9QFwhB4BFvHxATYAGQCFKfEDFxfb/1lR7QGb/8n+9wnpAx9QCIDOzeUB4r//fnfp4QDs6CQAJKnhARHP4/+wBeEATVQlglAN3QC3U9Z9QL3ZAE1UJYNS3dUC+x/TfvhB1QLUk9r/yOXRATBb3H3nBc0Dtqvafi/hyQCP2CaAYgHJAqTf+n378cUB1+/a/jXdxQCOM+n/QkXBAUMr/PwklcEC9XeW/NkVvQLDL8J/uyG1AB/4BIDhrbUAK3uv/d7hrQFW59T9lJ2tA1gv0P29DakCjdOlfEtJpQN7dFKD3jGhAZ9MRwI04Z0D4xhAAXPFmQEnM/R/xjmVA367yX3ueZUCrRgrAWkFkQHMqGQAqSmRAnUoGgOqMYkBb5hmgWUliQOzZGOCnU2FAm9HqP4bcYECRXQ5gthNgQAVZBSCk/V5Av5jSnyKRXUDuUjQgjF9cQJez0v9NrlpAwRQvYBNPWkC6E+y/zkZZQG5nBMBdTFhAiI/8f6S0VkAQoQBAxLlWQDy4AcDtyFVAEOD8n+a+VEBeBQDgu/NTQKk3/p/e2lJAYvgEYC6JUkC84/t/qAxSQHWkAkD4E1FAxxP/f3X7UEDHkfc/esNPQKI5/H/mdk5AYCwEIIuDS0B7ewAgYUpLQCHn/X8clUpAzZMI4CiTSUB14/6fmhRJQCDA+T9N70ZAbAEEICzORkDxhQMAS+dFQJQ9+D/2tURAwmMF4Js2REDqhwHgkjVCQM84BeC8CUNAVH4IYLkDQkAn/fe/p3NBQKMhBGATFUFAwwwRYCbXP0A=",
          "dtype": "f8"
         }
        },
        {
         "line": {
          "color": "rgb(250, 164, 118)"
         },
         "mode": "lines",
         "name": "5M",
         "type": "scatter",
         "x": {
          "bdata": "AAAAAADAckBNgAZA4c5yQLWOBeB64HJAAg8MIFzvckBqHQvA9QBzQAAAAAAAEHNATYAGQOEec0C1jgXgejBzQAIPDCBcP3NAah0LwPVQc0AAAAAAAGBzQE2ABkDhbnNAtY4F4HqAc0ACDwwgXI9zQGodC8D1oHNAAAAAAACwc0BNgAZA4b5zQLWOBeB60HNAAg8MIFzfc0BqHQvA9fBzQAAAAAAAAHRAs3/5vx4RdEAAAAAAACB0QLN/+b8eMXRAAAAAAABAdECzf/m/HlF0QAAAAAAAYHRAs3/5vx5xdEAAAAAAAIB0QLN/+b8ekXRAAAAAAACgdEBNgAZA4a50QLWOBeB6wHRAAg8MIFzPdEBqHQvA9eB0QAAAAAAA8HRATYAGQOH+dEC1jgXgehB1QAIPDCBcH3VAah0LwPUwdUAAAAAAAEB1QLN/+b8eUXVAAAAAAABgdUCzf/m/HnF1QAAAAAAAgHVAs3/5vx6RdUAAAAAAAKB1QLN/+b8esXVAAAAAAADAdUCzf/m/HtF1QAAAAAAA4HVAs3/5vx7xdUAAAAAAAAB2QLN/+b8eEXZAAAAAAAAgdkCzf/m/HjF2QAAAAAAAQHZAs3/5vx5RdkAAAAAAAGB2QLN/+b8ecXZAAAAAAACAdkCzf/m/HpF2QAAAAAAAoHZAs3/5vx6xdkAAAAAAAMB2QLN/+b8e0XZAAAAAAADgdkCzf/m/HvF2QAAAAAAAAHdAs3/5vx4Rd0AAAAAAACB3QLN/+b8eMXdAAAAAAABAd0Czf/m/HlF3QAAAAAAAYHdAs3/5vx5xd0AAAAAAAIB3QLN/+b8ekXdAAAAAAACgd0Czf/m/HrF3QAAAAAAAwHdAs3/5vx7Rd0AAAAAAAOB3QLN/+b8e8XdAAAAAAAAAeECzf/m/HhF4QAAAAAAAIHhAs3/5vx4xeEAAAAAAAEB4QLN/+b8eUXhAAAAAAABgeECzf/m/HnF4QAAAAAAAgHhAs3/5vx6ReEAAAAAAAKB4QLN/+b8esXhAAAAAAADAeECzf/m/HtF4QAAAAAAA4HhAs3/5vx7xeEAAAAAAAAB5QLN/+b8eEXlAAAAAAAAgeUCzf/m/HjF5QAAAAAAAQHlAs3/5vx5ReUAAAAAAAGB5QLN/+b8ecXlAAAAAAACAeUCzf/m/HpF5QAAAAAAAoHlAs3/5vx6xeUAAAAAAAMB5QLN/+b8e0XlAAAAAAADgeUCzf/m/HvF5QAAAAAAAAHpAs3/5vx4RekAAAAAAACB6QLN/+b8eMXpAAAAAAABAekBqHQvA9VB6QAIPDCBcX3pAtY4F4HpwekBNgAZA4X56QAAAAAAAkHpAah0LwPWgekACDwwgXK96QLWOBeB6wHpATYAGQOHOekAAAAAAAOB6QLN/+b8e8XpAAAAAAAAAe0Czf/m/HhF7QAAAAAAAIHtAs3/5vx4xe0AAAAAAAEB7QLN/+b8eUXtAAAAAAABge0Czf/m/HnF7QAAAAAAAgHtAah0LwPWQe0ACDwwgXJ97QLWOBeB6sHtATYAGQOG+e0AAAAAAANB7QGodC8D14HtAAg8MIFzve0C1jgXgegB8QE2ABkDhDnxAAAAAAAAgfEA=",
          "dtype": "f8"
         },
         "y": {
          "bdata": "YRD9f8FYZUATgeofxCJZQII6BuB2iEdAMu7+X5IfQkA7UgEgvI5BQDPWBkC/AUNAICoJYLW1REDu0frfOt9HQJ5G9/8zvEpAzWj1H+PcT0BuZwTA3e1QQNmAAACd3VJAswEBADrrVUA3X/yfiWdYQE/5IYBl2VtAwNYAAFsDX0Aoe/B/7NRgQOM2GsDbfWJAV8gBYOGpZEDC5QwgF7JmQDAe7584rmhAjG4YYHoLa0BBkw4gTW5tQK4m9J86SXBAg/f6/z1ZcUCK9fwfdvRyQELO+/8YVHRAUxT5PzGadUA24QPg5HZ2QIP3+v9903dAYGsAgE34eEBCzvv/mId5QBpTC4CMuXpAlD34P/aFe0DjzAqg04B8QIsECUBy+31AaA7/n5k+fkAH/gEg+Np/QIFS/v8pVoBAEKEAQDTjgEB1ZQbgxUiBQCjl/59UrIFAZcQFoOEzgkBnaQKgVY+CQHNW+r9Z2IJAgVL+/xkUg0AxiP6/oKCDQCqK/J/I0INACkj7H9DHg0AxiP6/YDmEQC0+BcAodYRA22T5X7N9hECSmPs/gqOEQFUjBWC95YRA6WD9nxPihEBCzvv/CPOEQBChAEDE2IRA2r/8X9/vhEB1ZQbgdauEQDbhA+Ck6oRAUMr/PxmQhEAv4wHArHuEQBPr+T8cLIRAq9z6nzIXhECzf/m//taDQKvc+p/Cl4NA08H6P2dug0DmFgSgW+CCQM93AUD/fIJAGun7X+RNgkCGqwMgjuOBQGBrAID94IFARycBIF0ngUAa6ftf1PCAQCHn/X8Mz4BAi5r5H3ongED0qPi/o/J/QA78A0Dwon5AhkH0/+VZfkCd4PZfQsJ9QFlt/l/VyXxArib0n/orfEBTFPk/UQV7QIsECUBSEnpADFcHQBxgeUB9CAUAwut4QAAAAAAADHhAaA7/n9mFd0AqivyfyJV2QM7SBEBLHHZAYRD9f8GKdUAMVwdAPGJ0QPBe/787C3RA9Kj4v+M8c0CsgfefJuRyQK3rBsBOD3JARoIEIImLcUBct/dfveFwQOas9H+zKHBAY7X5fxUOb0A9dfbfFJZuQJs7+l+u5G1AS0UZYNWQbEBGggQgCUZrQAxXB0Dcm2pAxFvn366JaUBQNA9g0dxoQDnB7b/EQ2dARRj1/+C9ZkAYRP9fEDBmQKCU/3/SEWVAXwHxX0X6Y0BQyv8/6SRkQHhF8L8VFmNArpADwIINYkAVkPY/gGNhQMUvBiD/62BAplcUwF7EX0AAAAAAAEBfQMZtNIA3ml1A+MPPfw8iXEAIz9/fe2BbQGpJ7H+lIVpAlXsmoC6GWUAkdAJgHWxYQO/4/h8KmVdASU4FYCyQVkAYBQMArm5WQOztAYAE9VRAsPYDYLS7U0BVO/1/IF5TQAKl/P9TiVJA9FEEQO7hUUBmQv5f1u5QQLRnAaArglBAAX74v8TXTkAqyfj/isxOQHhwA4Db8ExADyMIgL/ZSkATrP3fiXdLQFeJBQA/UElAYOn4P/J8SEBbfAqAcdhGQPib/T/WSEZA8Z37Hx54RUAaKPi/ButEQEXZ+J8+/kNA8dz3f8BXQ0BL2wlA7UpCQFV6+d/CG0JAW7sG4BNBQUA=",
          "dtype": "f8"
         }
        }
       ],
       "layout": {
        "height": 500,
        "legend": {
         "x": 1,
         "xanchor": "right",
         "y": 1,
         "yanchor": "top"
        },
        "template": {
         "data": {
          "bar": [
           {
            "error_x": {
             "color": "#2a3f5f"
            },
            "error_y": {
             "color": "#2a3f5f"
            },
            "marker": {
             "line": {
              "color": "white",
              "width": 0.5
             },
             "pattern": {
              "fillmode": "overlay",
              "size": 10,
              "solidity": 0.2
             }
            },
            "type": "bar"
           }
          ],
          "barpolar": [
           {
            "marker": {
             "line": {
              "color": "white",
              "width": 0.5
             },
             "pattern": {
              "fillmode": "overlay",
              "size": 10,
              "solidity": 0.2
             }
            },
            "type": "barpolar"
           }
          ],
          "carpet": [
           {
            "aaxis": {
             "endlinecolor": "#2a3f5f",
             "gridcolor": "#C8D4E3",
             "linecolor": "#C8D4E3",
             "minorgridcolor": "#C8D4E3",
             "startlinecolor": "#2a3f5f"
            },
            "baxis": {
             "endlinecolor": "#2a3f5f",
             "gridcolor": "#C8D4E3",
             "linecolor": "#C8D4E3",
             "minorgridcolor": "#C8D4E3",
             "startlinecolor": "#2a3f5f"
            },
            "type": "carpet"
           }
          ],
          "choropleth": [
           {
            "colorbar": {
             "outlinewidth": 0,
             "ticks": ""
            },
            "type": "choropleth"
           }
          ],
          "contour": [
           {
            "colorbar": {
             "outlinewidth": 0,
             "ticks": ""
            },
            "colorscale": [
             [
              0,
              "#0d0887"
             ],
             [
              0.1111111111111111,
              "#46039f"
             ],
             [
              0.2222222222222222,
              "#7201a8"
             ],
             [
              0.3333333333333333,
              "#9c179e"
             ],
             [
              0.4444444444444444,
              "#bd3786"
             ],
             [
              0.5555555555555556,
              "#d8576b"
             ],
             [
              0.6666666666666666,
              "#ed7953"
             ],
             [
              0.7777777777777778,
              "#fb9f3a"
             ],
             [
              0.8888888888888888,
              "#fdca26"
             ],
             [
              1,
              "#f0f921"
             ]
            ],
            "type": "contour"
           }
          ],
          "contourcarpet": [
           {
            "colorbar": {
             "outlinewidth": 0,
             "ticks": ""
            },
            "type": "contourcarpet"
           }
          ],
          "heatmap": [
           {
            "colorbar": {
             "outlinewidth": 0,
             "ticks": ""
            },
            "colorscale": [
             [
              0,
              "#0d0887"
             ],
             [
              0.1111111111111111,
              "#46039f"
             ],
             [
              0.2222222222222222,
              "#7201a8"
             ],
             [
              0.3333333333333333,
              "#9c179e"
             ],
             [
              0.4444444444444444,
              "#bd3786"
             ],
             [
              0.5555555555555556,
              "#d8576b"
             ],
             [
              0.6666666666666666,
              "#ed7953"
             ],
             [
              0.7777777777777778,
              "#fb9f3a"
             ],
             [
              0.8888888888888888,
              "#fdca26"
             ],
             [
              1,
              "#f0f921"
             ]
            ],
            "type": "heatmap"
           }
          ],
          "histogram": [
           {
            "marker": {
             "pattern": {
              "fillmode": "overlay",
              "size": 10,
              "solidity": 0.2
             }
            },
            "type": "histogram"
           }
          ],
          "histogram2d": [
           {
            "colorbar": {
             "outlinewidth": 0,
             "ticks": ""
            },
            "colorscale": [
             [
              0,
              "#0d0887"
             ],
             [
              0.1111111111111111,
              "#46039f"
             ],
             [
              0.2222222222222222,
              "#7201a8"
             ],
             [
              0.3333333333333333,
              "#9c179e"
             ],
             [
              0.4444444444444444,
              "#bd3786"
             ],
             [
              0.5555555555555556,
              "#d8576b"
             ],
             [
              0.6666666666666666,
              "#ed7953"
             ],
             [
              0.7777777777777778,
              "#fb9f3a"
             ],
             [
              0.8888888888888888,
              "#fdca26"
             ],
             [
              1,
              "#f0f921"
             ]
            ],
            "type": "histogram2d"
           }
          ],
          "histogram2dcontour": [
           {
            "colorbar": {
             "outlinewidth": 0,
             "ticks": ""
            },
            "colorscale": [
             [
              0,
              "#0d0887"
             ],
             [
              0.1111111111111111,
              "#46039f"
             ],
             [
              0.2222222222222222,
              "#7201a8"
             ],
             [
              0.3333333333333333,
              "#9c179e"
             ],
             [
              0.4444444444444444,
              "#bd3786"
             ],
             [
              0.5555555555555556,
              "#d8576b"
             ],
             [
              0.6666666666666666,
              "#ed7953"
             ],
             [
              0.7777777777777778,
              "#fb9f3a"
             ],
             [
              0.8888888888888888,
              "#fdca26"
             ],
             [
              1,
              "#f0f921"
             ]
            ],
            "type": "histogram2dcontour"
           }
          ],
          "mesh3d": [
           {
            "colorbar": {
             "outlinewidth": 0,
             "ticks": ""
            },
            "type": "mesh3d"
           }
          ],
          "parcoords": [
           {
            "line": {
             "colorbar": {
              "outlinewidth": 0,
              "ticks": ""
             }
            },
            "type": "parcoords"
           }
          ],
          "pie": [
           {
            "automargin": true,
            "type": "pie"
           }
          ],
          "scatter": [
           {
            "fillpattern": {
             "fillmode": "overlay",
             "size": 10,
             "solidity": 0.2
            },
            "type": "scatter"
           }
          ],
          "scatter3d": [
           {
            "line": {
             "colorbar": {
              "outlinewidth": 0,
              "ticks": ""
             }
            },
            "marker": {
             "colorbar": {
              "outlinewidth": 0,
              "ticks": ""
             }
            },
            "type": "scatter3d"
           }
          ],
          "scattercarpet": [
           {
            "marker": {
             "colorbar": {
              "outlinewidth": 0,
              "ticks": ""
             }
            },
            "type": "scattercarpet"
           }
          ],
          "scattergeo": [
           {
            "marker": {
             "colorbar": {
              "outlinewidth": 0,
              "ticks": ""
             }
            },
            "type": "scattergeo"
           }
          ],
          "scattergl": [
           {
            "marker": {
             "colorbar": {
              "outlinewidth": 0,
              "ticks": ""
             }
            },
            "type": "scattergl"
           }
          ],
          "scattermap": [
           {
            "marker": {
             "colorbar": {
              "outlinewidth": 0,
              "ticks": ""
             }
            },
            "type": "scattermap"
           }
          ],
          "scattermapbox": [
           {
            "marker": {
             "colorbar": {
              "outlinewidth": 0,
              "ticks": ""
             }
            },
            "type": "scattermapbox"
           }
          ],
          "scatterpolar": [
           {
            "marker": {
             "colorbar": {
              "outlinewidth": 0,
              "ticks": ""
             }
            },
            "type": "scatterpolar"
           }
          ],
          "scatterpolargl": [
           {
            "marker": {
             "colorbar": {
              "outlinewidth": 0,
              "ticks": ""
             }
            },
            "type": "scatterpolargl"
           }
          ],
          "scatterternary": [
           {
            "marker": {
             "colorbar": {
              "outlinewidth": 0,
              "ticks": ""
             }
            },
            "type": "scatterternary"
           }
          ],
          "surface": [
           {
            "colorbar": {
             "outlinewidth": 0,
             "ticks": ""
            },
            "colorscale": [
             [
              0,
              "#0d0887"
             ],
             [
              0.1111111111111111,
              "#46039f"
             ],
             [
              0.2222222222222222,
              "#7201a8"
             ],
             [
              0.3333333333333333,
              "#9c179e"
             ],
             [
              0.4444444444444444,
              "#bd3786"
             ],
             [
              0.5555555555555556,
              "#d8576b"
             ],
             [
              0.6666666666666666,
              "#ed7953"
             ],
             [
              0.7777777777777778,
              "#fb9f3a"
             ],
             [
              0.8888888888888888,
              "#fdca26"
             ],
             [
              1,
              "#f0f921"
             ]
            ],
            "type": "surface"
           }
          ],
          "table": [
           {
            "cells": {
             "fill": {
              "color": "#EBF0F8"
             },
             "line": {
              "color": "white"
             }
            },
            "header": {
             "fill": {
              "color": "#C8D4E3"
             },
             "line": {
              "color": "white"
             }
            },
            "type": "table"
           }
          ]
         },
         "layout": {
          "annotationdefaults": {
           "arrowcolor": "#2a3f5f",
           "arrowhead": 0,
           "arrowwidth": 1
          },
          "autotypenumbers": "strict",
          "coloraxis": {
           "colorbar": {
            "outlinewidth": 0,
            "ticks": ""
           }
          },
          "colorscale": {
           "diverging": [
            [
             0,
             "#8e0152"
            ],
            [
             0.1,
             "#c51b7d"
            ],
            [
             0.2,
             "#de77ae"
            ],
            [
             0.3,
             "#f1b6da"
            ],
            [
             0.4,
             "#fde0ef"
            ],
            [
             0.5,
             "#f7f7f7"
            ],
            [
             0.6,
             "#e6f5d0"
            ],
            [
             0.7,
             "#b8e186"
            ],
            [
             0.8,
             "#7fbc41"
            ],
            [
             0.9,
             "#4d9221"
            ],
            [
             1,
             "#276419"
            ]
           ],
           "sequential": [
            [
             0,
             "#0d0887"
            ],
            [
             0.1111111111111111,
             "#46039f"
            ],
            [
             0.2222222222222222,
             "#7201a8"
            ],
            [
             0.3333333333333333,
             "#9c179e"
            ],
            [
             0.4444444444444444,
             "#bd3786"
            ],
            [
             0.5555555555555556,
             "#d8576b"
            ],
            [
             0.6666666666666666,
             "#ed7953"
            ],
            [
             0.7777777777777778,
             "#fb9f3a"
            ],
            [
             0.8888888888888888,
             "#fdca26"
            ],
            [
             1,
             "#f0f921"
            ]
           ],
           "sequentialminus": [
            [
             0,
             "#0d0887"
            ],
            [
             0.1111111111111111,
             "#46039f"
            ],
            [
             0.2222222222222222,
             "#7201a8"
            ],
            [
             0.3333333333333333,
             "#9c179e"
            ],
            [
             0.4444444444444444,
             "#bd3786"
            ],
            [
             0.5555555555555556,
             "#d8576b"
            ],
            [
             0.6666666666666666,
             "#ed7953"
            ],
            [
             0.7777777777777778,
             "#fb9f3a"
            ],
            [
             0.8888888888888888,
             "#fdca26"
            ],
            [
             1,
             "#f0f921"
            ]
           ]
          },
          "colorway": [
           "#636efa",
           "#EF553B",
           "#00cc96",
           "#ab63fa",
           "#FFA15A",
           "#19d3f3",
           "#FF6692",
           "#B6E880",
           "#FF97FF",
           "#FECB52"
          ],
          "font": {
           "color": "#2a3f5f"
          },
          "geo": {
           "bgcolor": "white",
           "lakecolor": "white",
           "landcolor": "white",
           "showlakes": true,
           "showland": true,
           "subunitcolor": "#C8D4E3"
          },
          "hoverlabel": {
           "align": "left"
          },
          "hovermode": "closest",
          "mapbox": {
           "style": "light"
          },
          "paper_bgcolor": "white",
          "plot_bgcolor": "white",
          "polar": {
           "angularaxis": {
            "gridcolor": "#EBF0F8",
            "linecolor": "#EBF0F8",
            "ticks": ""
           },
           "bgcolor": "white",
           "radialaxis": {
            "gridcolor": "#EBF0F8",
            "linecolor": "#EBF0F8",
            "ticks": ""
           }
          },
          "scene": {
           "xaxis": {
            "backgroundcolor": "white",
            "gridcolor": "#DFE8F3",
            "gridwidth": 2,
            "linecolor": "#EBF0F8",
            "showbackground": true,
            "ticks": "",
            "zerolinecolor": "#EBF0F8"
           },
           "yaxis": {
            "backgroundcolor": "white",
            "gridcolor": "#DFE8F3",
            "gridwidth": 2,
            "linecolor": "#EBF0F8",
            "showbackground": true,
            "ticks": "",
            "zerolinecolor": "#EBF0F8"
           },
           "zaxis": {
            "backgroundcolor": "white",
            "gridcolor": "#DFE8F3",
            "gridwidth": 2,
            "linecolor": "#EBF0F8",
            "showbackground": true,
            "ticks": "",
            "zerolinecolor": "#EBF0F8"
           }
          },
          "shapedefaults": {
           "line": {
            "color": "#2a3f5f"
           }
          },
          "ternary": {
           "aaxis": {
            "gridcolor": "#DFE8F3",
            "linecolor": "#A2B1C6",
            "ticks": ""
           },
           "baxis": {
            "gridcolor": "#DFE8F3",
            "linecolor": "#A2B1C6",
            "ticks": ""
           },
           "bgcolor": "white",
           "caxis": {
            "gridcolor": "#DFE8F3",
            "linecolor": "#A2B1C6",
            "ticks": ""
           }
          },
          "title": {
           "x": 0.05
          },
          "xaxis": {
           "automargin": true,
           "gridcolor": "#EBF0F8",
           "linecolor": "#EBF0F8",
           "ticks": "",
           "title": {
            "standoff": 15
           },
           "zerolinecolor": "#EBF0F8",
           "zerolinewidth": 2
          },
          "yaxis": {
           "automargin": true,
           "gridcolor": "#EBF0F8",
           "linecolor": "#EBF0F8",
           "ticks": "",
           "title": {
            "standoff": 15
           },
           "zerolinecolor": "#EBF0F8",
           "zerolinewidth": 2
          }
         }
        },
        "width": 800,
        "xaxis": {
         "title": {
          "text": "Wavelength (nm)"
         }
        },
        "yaxis": {
         "title": {
          "text": "Intensity"
         }
        }
       }
      }
     },
     "metadata": {},
     "output_type": "display_data"
    }
   ],
   "source": [
    "file = 'fluo2/GuHCl5.csv'\n",
    "data = read(file)\n",
    "plottiamo(data)"
   ]
  },
  {
   "cell_type": "code",
   "execution_count": 5,
   "metadata": {},
   "outputs": [],
   "source": [
    "def parabola(x, a, x0, yV):\n",
    "    return -a * (x - x0)**2 + yV"
   ]
  },
  {
   "cell_type": "code",
   "execution_count": 6,
   "metadata": {},
   "outputs": [
    {
     "name": "stdout",
     "output_type": "stream",
     "text": [
      "{'0 M': array([4.20802185e-01, 3.33274780e+02, 5.75792305e+02]), '1 M': array([5.47102862e-01, 3.33446735e+02, 6.49519720e+02]), '2 M': array([4.41440044e-01, 3.44718788e+02, 7.46069908e+02]), '3 M': array([4.76240040e-01, 3.54877823e+02, 6.49345047e+02]), '4 M': array([4.96232169e-01, 3.55621363e+02, 6.25731630e+02]), '5 M': array([4.91838832e-01, 3.55713550e+02, 6.68858279e+02])}\n"
     ]
    }
   ],
   "source": [
    "# FIT\n",
    "\n",
    "fit_results, fit_errors = {}, {}\n",
    "VERTEX = []\n",
    "errorVertex = []\n",
    "SIGMA_LAMBDA = 1.5  # nm DICHIARATI DAL COSTRUTTORE\n",
    "POINTS_AROUND_MAX = 10  # Numero di punti attorno al massimo per il fit\n",
    "\n",
    "for i in range(6):\n",
    "    w_col, I_col = f'w{i}', f'I{i}'\n",
    "    max_idx = data[I_col].idxmax()\n",
    "    l_idx = max_idx - POINTS_AROUND_MAX\n",
    "    r_idx = max_idx + POINTS_AROUND_MAX\n",
    "\n",
    "    # subset per il fit parabolico\n",
    "    w_subset, I_subset = data[w_col].iloc[l_idx:r_idx + 1], data[I_col].iloc[l_idx:r_idx + 1]  # subset creato con gli indici nel range\n",
    "\n",
    "    # Iterazione 0\n",
    "    popt, pcov = curve_fit(parabola, w_subset, I_subset, p0=[1, w_subset.mean(), I_subset.max()])\n",
    "    a, λcenter, IMAX = popt\n",
    "    error_a, error_λcenter, error_IMAX = np.sqrt(np.diag(pcov))\n",
    "\n",
    "    # Iterazione 1\n",
    "    sy = np.full_like(w_subset, SIGMA_LAMBDA)*a  # Errore su x (sigma lambda)\n",
    "    popt, pcov = curve_fit(parabola, w_subset, I_subset, p0=[a, λcenter, IMAX], sigma=sy)\n",
    "    a, λcenter, IMAX = popt\n",
    "    error_a, error_λcenter, error_IMAX = np.sqrt(np.diag(pcov))\n",
    "\n",
    "    # Salvataggio dei risultati del fit\n",
    "    fit_results[f'{i} M'] = popt\n",
    "    fit_errors[f'{i} M'] = np.sqrt(np.diag(pcov))\n",
    "\n",
    "    # Calcolo del vertice\n",
    "    VERTEX.append([λcenter, IMAX])\n",
    "    errorVertex.append([error_λcenter,error_IMAX])\n",
    "\n",
    "\n",
    "\n",
    "# fit_results = pd.DataFrame(fit_results)\n",
    "print(fit_results)\n"
   ]
  },
  {
   "cell_type": "code",
   "execution_count": 7,
   "metadata": {},
   "outputs": [
    {
     "data": {
      "application/vnd.plotly.v1+json": {
       "config": {
        "plotlyServerURL": "https://plot.ly"
       },
       "data": [
        {
         "line": {
          "color": "rgb(124, 29, 111)",
          "dash": "dot"
         },
         "mode": "lines",
         "name": "0 M",
         "type": "scatter",
         "x": {
          "bdata": "AAAAAADAckBNgAZA4c5yQLWOBeB64HJAAg8MIFzvckBqHQvA9QBzQAAAAAAAEHNATYAGQOEec0C1jgXgejBzQAIPDCBcP3NAah0LwPVQc0AAAAAAAGBzQE2ABkDhbnNAtY4F4HqAc0ACDwwgXI9zQGodC8D1oHNAAAAAAACwc0BNgAZA4b5zQLWOBeB60HNAAg8MIFzfc0BqHQvA9fBzQAAAAAAAAHRAs3/5vx4RdEAAAAAAACB0QLN/+b8eMXRAAAAAAABAdECzf/m/HlF0QAAAAAAAYHRAs3/5vx5xdEAAAAAAAIB0QLN/+b8ekXRAAAAAAACgdEBNgAZA4a50QLWOBeB6wHRAAg8MIFzPdEBqHQvA9eB0QAAAAAAA8HRATYAGQOH+dEC1jgXgehB1QAIPDCBcH3VAah0LwPUwdUAAAAAAAEB1QLN/+b8eUXVAAAAAAABgdUCzf/m/HnF1QAAAAAAAgHVAs3/5vx6RdUAAAAAAAKB1QLN/+b8esXVAAAAAAADAdUCzf/m/HtF1QAAAAAAA4HVAs3/5vx7xdUAAAAAAAAB2QLN/+b8eEXZAAAAAAAAgdkCzf/m/HjF2QAAAAAAAQHZAs3/5vx5RdkAAAAAAAGB2QLN/+b8ecXZAAAAAAACAdkCzf/m/HpF2QAAAAAAAoHZAs3/5vx6xdkAAAAAAAMB2QLN/+b8e0XZAAAAAAADgdkCzf/m/HvF2QAAAAAAAAHdAs3/5vx4Rd0AAAAAAACB3QLN/+b8eMXdAAAAAAABAd0Czf/m/HlF3QAAAAAAAYHdAs3/5vx5xd0AAAAAAAIB3QLN/+b8ekXdAAAAAAACgd0Czf/m/HrF3QAAAAAAAwHdAs3/5vx7Rd0AAAAAAAOB3QLN/+b8e8XdAAAAAAAAAeECzf/m/HhF4QAAAAAAAIHhAs3/5vx4xeEAAAAAAAEB4QLN/+b8eUXhAAAAAAABgeECzf/m/HnF4QAAAAAAAgHhAs3/5vx6ReEAAAAAAAKB4QLN/+b8esXhAAAAAAADAeECzf/m/HtF4QAAAAAAA4HhAs3/5vx7xeEAAAAAAAAB5QLN/+b8eEXlAAAAAAAAgeUCzf/m/HjF5QAAAAAAAQHlAs3/5vx5ReUAAAAAAAGB5QLN/+b8ecXlAAAAAAACAeUCzf/m/HpF5QAAAAAAAoHlAs3/5vx6xeUAAAAAAAMB5QLN/+b8e0XlAAAAAAADgeUCzf/m/HvF5QAAAAAAAAHpAs3/5vx4RekAAAAAAACB6QLN/+b8eMXpAAAAAAABAekBqHQvA9VB6QAIPDCBcX3pAtY4F4HpwekBNgAZA4X56QAAAAAAAkHpAah0LwPWgekACDwwgXK96QLWOBeB6wHpATYAGQOHOekAAAAAAAOB6QLN/+b8e8XpAAAAAAAAAe0Czf/m/HhF7QAAAAAAAIHtAs3/5vx4xe0AAAAAAAEB7QLN/+b8eUXtAAAAAAABge0Czf/m/HnF7QAAAAAAAgHtAah0LwPWQe0ACDwwgXJ97QLWOBeB6sHtATYAGQOG+e0AAAAAAANB7QGodC8D14HtAAg8MIFzve0C1jgXgegB8QE2ABkDhDnxAAAAAAAAgfEA=",
          "dtype": "f8"
         },
         "y": {
          "bdata": "v2zx3/JrWkCWTARgMnBUQIrdBAADrVNA/9j7v3DsV0Aaf+w/fCJdQLLa/L/qwGBA2VXtP5eHY0AenQSANAFnQK4m9J9aX2lAjdXm/xX5a0AsmQjAZCNuQFy39189snBASTYNQJnNcUA93wUAfepyQDiGAOCYYHRA8gP8v6+vdUBCzvv/+Nd2QApI+x8gpnhAZ2kCoCXaeUBJNg1AWZR7QCOM+n/wjHxAZ2kCoOXGfUD0qPi/ox5/QHNW+r9JIoBA2r/8Xz+YgEACpfz/MyiBQPdcAeBzXYFA6wX6n8eIgUAJo/4fbNiBQHVlBuDl2oFA8F7/vzvngUAxiP6/wPqBQBefAmB824FA91wB4APEgUAo5f+fNAyCQM7SBEA7CIJA/bUGAGjTgUDdcwWAz8WBQPID/L8vkoFAMi37v3SkgUDrBfqfV0GBQCWbBqAcPIFAMYj+vwAkgUBxsf2/RbyAQG8MAcAReYBANuED4JQ/gEDfGAKAUy+AQMh5/x8nNn9A9rcE4P/VfkA+GvPfKIx+QC/jAcDMt31AXLf3X11KfUA5K/3frFR8QEaCBCAJ+HtAaA7/n5kMe0DKHvwfW5x6QApI+x9g03lA2BoAYMtleUDfGAKAA+14QCWbBqAMz3dAxS8GIF/+dkDhvf5/10p2QLWOBeC64XVAS3H6HyWWdEDMLQhAd+5zQISc9//xdnNAS3H6H+VkckDC5QwgF3hxQIr1/B9WNXFAoqMLoC5qcECWTARgcp9vQIG8DSCymW5A9HwXAPQ7bUCPuBFgImtsQN1zBYAP0GpAbwwBwHF3aUAeBxSgnKhoQKk3/p8euWdA6fbtfxuoZkA2d/S/XLVlQDwL579sw2RAFL8YgDzpY0B1+/a/Lc1iQHzNFyD2n2FAJ6oSwCj/YEBct/dfXWFgQE/24P/Ytl9AVeXW/xRCXkC29dN/1ilcQKI5/H/mEVtAplTTP9LTWUARRv0/GJlYQHMX/l+3vFdAIIH93+pcVkCkhwQARZVVQO83+3+se1RAO5H9f15wU0AWeP4frWhSQAA//F+iMlFAPLgBwC39UEDAFf1fvaxQQGHRACCfQ05AbyT53wQBTUBKdQmge+xKQO7R+t+6A0tANJP7Xyb+SUAKCf+/vZNHQGgO/5/5ZUZASzL+v2LhRUCwNQDAVnhEQHz5+N8lFkRA0oL+3+T1QkBBEQfgUQVCQKl2+v9AMEFAMTEKQKvsQECmqvm/3SNAQMNLDcBIlj1AlmDt/05fPEDgwQ0Abs48QCSI6/+5CztAp+n1H4DUOEDSV+sfn4c4QL9s8d9y4TZA88Dw3/aqNkDVuA5AMFs1QHce7H9GPzRARuwTQDEzM0AtE/L/slwzQDhb7R8TGTJAS3H6HwUJMUASxPX/3NExQEM0/J+qZjBA6CUQwBdmLUCoT/a/8SMuQMZq8/+qeyxA/LkVgE7uKkBFBdpfbrQpQE0pEsCLZChAAvsigB80J0DdCfZf5wwoQGNKHGCD3SRArVLVXwqQJUCz1u0/dLslQBlXGgDDbSRAbvsCoKjCIkDzafxfAfgiQIsFAsBYqCFA8MoA4HDoH0ASbQGA5wsiQMwB/P+qViBAVx0E4ElkIEA=",
          "dtype": "f8"
         }
        },
        {
         "line": {
          "color": "rgb(124, 29, 111)"
         },
         "mode": "lines",
         "name": "Parabola Fit (Series 0)",
         "showlegend": false,
         "type": "scatter",
         "x": {
          "bdata": "AAAAAABAdEDuDIl5O0N0QNwZEvN2RnRAyiabbLJJdEC4MyTm7Ux0QKVArV8pUHRAk0022WRTdECBWr9SoFZ0QG9nSMzbWXRAXXTRRRdddEBLgVq/UmB0QDmO4ziOY3RAJ5tssslmdEAVqPUrBWp0QAO1fqVAbXRA8MEHH3xwdEDezpCYt3N0QMzbGRLzdnRAuuiiiy56dECo9SsFan10QJYCtX6lgHRAhA8++OCDdEByHMdxHId0QGApUOtXinRATjbZZJONdEA7Q2LezpB0QClQ61cKlHRAF1100UWXdEAFav1KgZp0QPN2hsS8nXRA4YMPPvigdEDPkJi3M6R0QL2dITFvp3RAq6qqqqqqdECZtzMk5q10QIbEvJ0hsXRAdNFFF120dEBi3s6QmLd0QFDrVwrUunRAPvjggw++dEAsBWr9SsF0QBoS83aGxHRACB988MHHdED2KwVq/cp0QOQ4juM4znRA0UUXXXTRdEC/UqDWr9R0QK1fKVDr13RAm2yyySbbdECJeTtDYt50QHeGxLyd4XRAZZNNNtnkdEBToNavFOh0QEGtXylQ63RAL7rooovudEAcx3Ecx/F0QArU+pUC9XRA+OCDDz74dEDm7QyJeft0QNT6lQK1/nRAwgcffPABdUCwFKj1KwV1QJ4hMW9nCHVAjC666KILdUB6O0Ni3g51QGdIzNsZEnVAVVVVVVUVdUBDYt7OkBh1QDFvZ0jMG3VAH3zwwQcfdUANiXk7QyJ1QPuVArV+JXVA6aKLLroodUDXrxSo9St1QMW8nSExL3VAsskmm2wydUCg1q8UqDV1QI7jOI7jOHVAfPDBBx88dUBq/UqBWj91QFgK1PqVQnVARhdddNFFdUA0JObtDEl1QCIxb2dITHVAED744INPdUD9SoFav1J1QOtXCtT6VXVA2WSTTTZZdUDHcRzHcVx1QLV+pUCtX3VAo4suuuhidUCRmLczJGZ1QH+lQK1faXVAbbLJJptsdUBav1Kg1m91QEjM2xkSc3VANtlkk012dUAk5u0MiXl1QBLzdobEfHVAAAAAAACAdUA=",
          "dtype": "f8"
         },
         "y": {
          "bdata": "RFvPBcHcgEBtq9FbO+mAQJKMvllv9YBAsv6V/1wBgUDNAVhNBA2BQN+VBENlGIFA8Lqb4H8jgUD9cB0mVC6BQAS4iRPiOIFABpDgqClDgUAD+SHmKk2BQPzyTcvlVoFA731kWFpggUDemWWNiGmBQMdGUWpwcoFAqYQn7xF7gUCJU+gbbYOBQGSzk/CBi4FAOaQpbVCTgUAKJqqR2JqBQNY4FV4aooFAndxq0hWpgUBfEavuyq+BQBzX1bI5toFA1C3rHmK8gUCGFesyRMKBQDSO1e7fx4FA3peqUjXNgUCCMmpeRNKBQCJeFBIN14FAvBqpbY/bgUBSaChxy9+BQOJGkhzB44FAbrbmb3DngUD1tiVr2eqBQHZITw787YFA82pjWdjwgUBrHmJMbvOBQN5iS+e99YFATDgfKsf3gUC1nt0UivmBQBmWhqcG+4FAeR4a4jz8gUDTN5jELP2BQCjiAE/W/YFAeR1UgTn+gUDE6ZFbVv6BQAtHut0s/oFATTXNB739gUCJtMrZBv2BQMHEslMK/IFA9GWFdcf6gUAimEI/PvmBQEtb6rBu94FAb698ylj1gUCPlPmL/PKBQKkKYfVZ8IFAvhGzBnHtgUDPqe+/QeqBQNrSFiHM5oFA4IwoKhDjgUDi1yTbDd+BQN6zCzTF2oFA1iDdNDbWgUDJHpndYNGBQLitPy5FzIFAoc3QJuPGgUCFfkzHOsGBQGTAsg9Mu4FAPpMDABe1gUAT9z6Ym66BQOPrZNjZp4FArnF1wNGggUB0iHBQg5mBQDUwVojukYFA9GgmaBOKgUCsMuHv8YGBQF6Nhh+KeYFADHkW99twgUC09ZB252eBQFgD9p2sXoFA96FFbStVgUCR0X/kY0uBQCaSpANWQYFAteOzygE3gUBExq05ZyyBQMo5klCGIYFASz5hD18WgUDH0xp28QqBQD76voQ9/4BAsbFNO0PzgEAe+saZAueAQIbTKqB72oBA6j15Tq7NgEBMObKkmsCAQKbF1aJAs4BA++LjSKClgEBLkdyWuZeAQJXQv4yMiYBA26CNKhl7gEA=",
          "dtype": "f8"
         }
        },
        {
         "marker": {
          "color": "rgb(124, 29, 111)",
          "size": 8,
          "symbol": "circle"
         },
         "mode": "markers",
         "name": "Vertex (Series 0)",
         "showlegend": false,
         "type": "scatter",
         "x": [
          333.27478031152907
         ],
         "y": [
          575.7923054495121
         ]
        },
        {
         "line": {
          "color": "rgb(185, 37, 122)",
          "dash": "dot"
         },
         "mode": "lines",
         "name": "1 M",
         "type": "scatter",
         "x": {
          "bdata": "AAAAAADAckBNgAZA4c5yQLWOBeB64HJAAg8MIFzvckBqHQvA9QBzQAAAAAAAEHNATYAGQOEec0C1jgXgejBzQAIPDCBcP3NAah0LwPVQc0AAAAAAAGBzQE2ABkDhbnNAtY4F4HqAc0ACDwwgXI9zQGodC8D1oHNAAAAAAACwc0BNgAZA4b5zQLWOBeB60HNAAg8MIFzfc0BqHQvA9fBzQAAAAAAAAHRAs3/5vx4RdEAAAAAAACB0QLN/+b8eMXRAAAAAAABAdECzf/m/HlF0QAAAAAAAYHRAs3/5vx5xdEAAAAAAAIB0QLN/+b8ekXRAAAAAAACgdEBNgAZA4a50QLWOBeB6wHRAAg8MIFzPdEBqHQvA9eB0QAAAAAAA8HRATYAGQOH+dEC1jgXgehB1QAIPDCBcH3VAah0LwPUwdUAAAAAAAEB1QLN/+b8eUXVAAAAAAABgdUCzf/m/HnF1QAAAAAAAgHVAs3/5vx6RdUAAAAAAAKB1QLN/+b8esXVAAAAAAADAdUCzf/m/HtF1QAAAAAAA4HVAs3/5vx7xdUAAAAAAAAB2QLN/+b8eEXZAAAAAAAAgdkCzf/m/HjF2QAAAAAAAQHZAs3/5vx5RdkAAAAAAAGB2QLN/+b8ecXZAAAAAAACAdkCzf/m/HpF2QAAAAAAAoHZAs3/5vx6xdkAAAAAAAMB2QLN/+b8e0XZAAAAAAADgdkCzf/m/HvF2QAAAAAAAAHdAs3/5vx4Rd0AAAAAAACB3QLN/+b8eMXdAAAAAAABAd0Czf/m/HlF3QAAAAAAAYHdAs3/5vx5xd0AAAAAAAIB3QLN/+b8ekXdAAAAAAACgd0Czf/m/HrF3QAAAAAAAwHdAs3/5vx7Rd0AAAAAAAOB3QLN/+b8e8XdAAAAAAAAAeECzf/m/HhF4QAAAAAAAIHhAs3/5vx4xeEAAAAAAAEB4QLN/+b8eUXhAAAAAAABgeECzf/m/HnF4QAAAAAAAgHhAs3/5vx6ReEAAAAAAAKB4QLN/+b8esXhAAAAAAADAeECzf/m/HtF4QAAAAAAA4HhAs3/5vx7xeEAAAAAAAAB5QLN/+b8eEXlAAAAAAAAgeUCzf/m/HjF5QAAAAAAAQHlAs3/5vx5ReUAAAAAAAGB5QLN/+b8ecXlAAAAAAACAeUCzf/m/HpF5QAAAAAAAoHlAs3/5vx6xeUAAAAAAAMB5QLN/+b8e0XlAAAAAAADgeUCzf/m/HvF5QAAAAAAAAHpAs3/5vx4RekAAAAAAACB6QLN/+b8eMXpAAAAAAABAekBqHQvA9VB6QAIPDCBcX3pAtY4F4HpwekBNgAZA4X56QAAAAAAAkHpAah0LwPWgekACDwwgXK96QLWOBeB6wHpATYAGQOHOekAAAAAAAOB6QLN/+b8e8XpAAAAAAAAAe0Czf/m/HhF7QAAAAAAAIHtAs3/5vx4xe0AAAAAAAEB7QLN/+b8eUXtAAAAAAABge0Czf/m/HnF7QAAAAAAAgHtAah0LwPWQe0ACDwwgXJ97QLWOBeB6sHtATYAGQOG+e0AAAAAAANB7QGodC8D14HtAAg8MIFzve0C1jgXgegB8QE2ABkDhDnxAAAAAAAAgfEA=",
          "dtype": "f8"
         },
         "y": {
          "bdata": "T48SYH1iYEBKndvfNH5aQKH7zR+uElpAjNgngOKIXEA+GvPfKLxhQOxA538DEmRAxz4SQHuHZ0BlWvZ/6V5rQFLZC2Cl1G1AdqDzv0GVcEA24QPgxO5xQPQSCOBrr3NAJZsGoOyXdEBuZwTA3RV2QPID/L9vgHdAq0YKwJoleUAMVwdAfBF6QNXQBmDjAHxAF58CYJyffUDKiAtAowR/QNtk+V+DQ4BAkfP+P44ngUBVIwVgfbSBQOJi+3+bGYJAY7X5f5WSgkA4hgDgaFGDQB6dBIAkk4NADvwDQGDjg0CY8QBglv6DQDbhA+AkFIRAgVL+/7kbhEBexgOASTaEQJ1KBoBK9INAGET/X3BIhEBNgAZA0QaEQNZ1A2B3MIRAxS8GIF8EhEAH/gEgWCuEQF7GA4CJ4YNAJZsGoHzig0Bqs/ufLbaDQFlt/l8FPYNAvjEEAHctg0Cr3Pqf0qaCQCOM+n/wgIJA1nUDYBcxgkAtPgXAKP6BQNtk+V+Dj4FA0Rz+P2NwgUDtFAbA0/WAQEaCBCBptIBARycBIL1GgEBoDv+f2TCAQJulCYBWKX9A7ar2n4uufkAmQAOgQHd9QD+EAgDRMn1AlkwEYBJ7fEDrbwnA/2B7QP21BgBYsnpA9U31v1fNeUCsgfefhvR4QJoADYDiI3hA7RQGwHOLd0AYRP9fUJJ2QKCU/38ys3VAGlMLgAwBdUBE3QcgNVh0QBPr+T/sq3NATYAGQAHUckD5aw0A8NdxQHpU/N+RA3FATiUDQJWzcEA8pBgg0elvQCP2CaCYlm5Au1EaIEd0bUD38vG/iytsQN7dFKB3pWpADO33H3ThaUDLWen/ZsloQOn27X/bpWdAfTTmv5FdZkDGavP/6o1lQMgP8P8+k2RAXwHxX8USY0B4RfC/FdFiQMOKCSCr2WFAXwHxX0VIYUAzARoABQdgQHSUKCCSvV5AzJcXYB+rXUD0qPi/I0JcQFfIAWDhRFtAj7gRYKIhWkDzafxfAd9YQJOAAyDPiVdAEcgEgNNkVkCWiwDA1C9VQIQe/z8t4lRAj43+nxzdU0Bu5fx/YttSQKvc+p/yBFJAJkADoMAjUUDlLvy/7iZQQLf0BYBsik5AC2//X69YTUDco/W/9XJMQG8k+d+ELktAcXIBYCMOSkBcIQeABYpIQApI+x9gjEdAKsn4/4rCRUA0VP//A81EQCxu9f+e6URAE6z93wkOREBnqP7/B+BCQLJY9X8v/0BAOtQIYPe4QED9cvsfv5BAQMJ37n94gT9AtU8JgNgGPUBaEvtfCfE7QKSb7Z/hcDpAz0zuf5m8OkDhkuu/MfA4QOO0EoCgnjdAAg8MIHyyNkCmLAEAGXE1QJhv+R/LZjRAtjcRYAWyM0CnFAngRVQ0QALQD8BZGDJAG+Xs3+04MkC+mxMgrzUxQKQJDEBAQTBAtDzu3+URMEBNlO/f3Y4uQM2TCOCo8yxA68b9PzUrLUDZLRsAHhMsQBYNIQCbWCpADicXADaWKkDWdQNgl9gpQPTTC4Dp0ydAC90dAA5nJUDkG+EffAEnQMkOIgDVeyVAaND7vx39I0AQdu1/PqUkQCfUAYDLYSJAfbMCgLkJI0A=",
          "dtype": "f8"
         }
        },
        {
         "line": {
          "color": "rgb(185, 37, 122)"
         },
         "mode": "lines",
         "name": "Parabola Fit (Series 1)",
         "showlegend": false,
         "type": "scatter",
         "x": {
          "bdata": "s3/5vx4xdEChjII5WjR0QI+ZC7OVN3RAfaaULNE6dEBrsx2mDD50QFjAph9IQXRARs0vmYNEdEA02rgSv0d0QCLnQYz6SnRAEPTKBTZOdED+AFR/cVF0QOwN3fisVHRA2hpmcuhXdEDIJ+/rI1t0QLY0eGVfXnRAo0EB35phdECRTopY1mR0QH9bE9IRaHRAbWicS01rdEBbdSXFiG50QEmCrj7EcXRAN483uP90dEAlnMAxO3h0QBOpSat2e3RAAbbSJLJ+dEDuwlue7YF0QNzP5BcphXRAytxtkWSIdEC46fYKoIt0QKb2f4TbjnRAlAMJ/haSdECCEJJ3UpV0QHAdG/GNmHRAXiqkasmbdEBMNy3kBJ90QDlEtl1AonRAJ1E/13uldEAVXshQt6h0QANrUcryq3RA8XfaQy6vdEDfhGO9abJ0QM2R7DaltXRAu551sOC4dECpq/4pHLx0QJe4h6NXv3RAhMUQHZPCdEBy0pmWzsV0QGDfIhAKyXRATuyriUXMdEA8+TQDgc90QCoGvny80nRAGBNH9vfVdEAGINBvM9l0QPQsWelu3HRA4jniYqrfdEDPRmvc5eJ0QL1T9FUh5nRAq2B9z1zpdECZbQZJmOx0QId6j8LT73RAdYcYPA/zdEBjlKG1SvZ0QFGhKi+G+XRAP66zqMH8dEAtuzwi/f90QBrIxZs4A3VACNVOFXQGdUD24deOrwl1QOTuYAjrDHVA0vvpgSYQdUDACHP7YRN1QK4V/HSdFnVAnCKF7tgZdUCKLw5oFB11QHg8l+FPIHVAZUkgW4sjdUBTVqnUxiZ1QEFjMk4CKnVAL3C7xz0tdUAdfURBeTB1QAuKzbq0M3VA+ZZWNPA2dUDno9+tKzp1QNWwaCdnPXVAwr3xoKJAdUCwynoa3kN1QJ7XA5QZR3VAjOSMDVVKdUB68RWHkE11QGj+ngDMUHVAVgsoegdUdUBEGLHzQld1QDIlOm1+WnVAIDLD5rlddUAOP0xg9WB1QPtL1dkwZHVA6VheU2xndUDXZefMp2p1QMVycEbjbXVAs3/5vx5xdUA=",
          "dtype": "f8"
         },
         "y": {
          "bdata": "YQ/deuB0gkCnAW9wDIeCQAQf7fDcmIJAeGdX/FGqgkAC262Sa7uCQJ558LMpzIJAVkMfYIzcgkAjODqXk+yCQAhYQVk//IJAA6M0po8Lg0AUGRR+hBqDQDy63+AdKYNAeoaXzls3g0DPfTtHPkWDQDugy0rFUoNAue1H2fBfg0BRZrDywGyDQAAKBZc1eYNAxthFxk6Fg0Ci0nKADJGDQJT3i8VunINAnUeRlXWng0C9woLwILKDQPNoYNZwvINAPzoqR2XGg0CfNuBC/s+DQBlegsk72YNAqbAQ2x3ig0BQLot3pOqDQA3X8Z7P8oNA4apEUZ/6g0DLqYOOEwKEQMzTrlYsCYRA4yjGqekPhEAQqcmHSxaEQFNUufBRHIRAriqV5PwhhEAfLF1jTCeEQKdYEW1ALIRARbCxAdkwhED6Mj4hFjWEQMXgtsv3OIRAp7kbAX48hECfvWzBqD+EQK7sqQx4QoRA00bT4utEhEAPzOhDBEeEQGF86i/BSIRAylfYpiJKhEBJXrKoKEuEQN+PeDXTS4RAjOwqTSJMhEBPdMnvFUyEQCgnVB2uS4RAGAXL1epKhEAfDi4ZzEmEQDxCfedRSIRAcKG4QHxGhEC6K+AkS0SEQBrh85O+QYRAkcHzjdY+hEAfzd8SkzuEQMMDuCL0N4RAfmV8vfkzhEBP8izjoy+EQDiqyZPyKoRANo1Sz+UlhEBLm8eVfSCEQHbUKOe5GoRAuDh2w5oUhEAQyK8qIA6EQH+C1RxKB4RABGjnmRgAhECgeOWhi/iDQFK0zzSj8INAHRumUl/og0D9rGj7v9+DQPNpFy/F1oNA/1Gy7W7Ng0AiZTk3vcODQFujrAuwuYNAqwwMa0evg0ARoVdVg6SDQI5gj8pjmYNAJUuzyuiNg0DPYMNVEoKDQJChv2vgdYNAZw2oDFNpg0BUpHw4alyDQFhmPe8lT4NAc1PqMIZBg0Cka4P9ijODQOuuCFU0JYNASR16N4IWg0C+ttekdAeDQE57IZ0L+IJA72pXIEfogkCnhXkuJ9iCQHbLh8erx4JAWzyC69S2gkA=",
          "dtype": "f8"
         }
        },
        {
         "marker": {
          "color": "rgb(185, 37, 122)",
          "size": 8,
          "symbol": "circle"
         },
         "mode": "markers",
         "name": "Vertex (Series 1)",
         "showlegend": false,
         "type": "scatter",
         "x": [
          333.4467351537085
         ],
         "y": [
          649.5197202437809
         ]
        },
        {
         "line": {
          "color": "rgb(220, 57, 119)",
          "dash": "dot"
         },
         "mode": "lines",
         "name": "2 M",
         "type": "scatter",
         "x": {
          "bdata": "AAAAAADAckBNgAZA4c5yQLWOBeB64HJAAg8MIFzvckBqHQvA9QBzQAAAAAAAEHNATYAGQOEec0C1jgXgejBzQAIPDCBcP3NAah0LwPVQc0AAAAAAAGBzQE2ABkDhbnNAtY4F4HqAc0ACDwwgXI9zQGodC8D1oHNAAAAAAACwc0BNgAZA4b5zQLWOBeB60HNAAg8MIFzfc0BqHQvA9fBzQAAAAAAAAHRAs3/5vx4RdEAAAAAAACB0QLN/+b8eMXRAAAAAAABAdECzf/m/HlF0QAAAAAAAYHRAs3/5vx5xdEAAAAAAAIB0QLN/+b8ekXRAAAAAAACgdEBNgAZA4a50QLWOBeB6wHRAAg8MIFzPdEBqHQvA9eB0QAAAAAAA8HRATYAGQOH+dEC1jgXgehB1QAIPDCBcH3VAah0LwPUwdUAAAAAAAEB1QLN/+b8eUXVAAAAAAABgdUCzf/m/HnF1QAAAAAAAgHVAs3/5vx6RdUAAAAAAAKB1QLN/+b8esXVAAAAAAADAdUCzf/m/HtF1QAAAAAAA4HVAs3/5vx7xdUAAAAAAAAB2QLN/+b8eEXZAAAAAAAAgdkCzf/m/HjF2QAAAAAAAQHZAs3/5vx5RdkAAAAAAAGB2QLN/+b8ecXZAAAAAAACAdkCzf/m/HpF2QAAAAAAAoHZAs3/5vx6xdkAAAAAAAMB2QLN/+b8e0XZAAAAAAADgdkCzf/m/HvF2QAAAAAAAAHdAs3/5vx4Rd0AAAAAAACB3QLN/+b8eMXdAAAAAAABAd0Czf/m/HlF3QAAAAAAAYHdAs3/5vx5xd0AAAAAAAIB3QLN/+b8ekXdAAAAAAACgd0Czf/m/HrF3QAAAAAAAwHdAs3/5vx7Rd0AAAAAAAOB3QLN/+b8e8XdAAAAAAAAAeECzf/m/HhF4QAAAAAAAIHhAs3/5vx4xeEAAAAAAAEB4QLN/+b8eUXhAAAAAAABgeECzf/m/HnF4QAAAAAAAgHhAs3/5vx6ReEAAAAAAAKB4QLN/+b8esXhAAAAAAADAeECzf/m/HtF4QAAAAAAA4HhAs3/5vx7xeEAAAAAAAAB5QLN/+b8eEXlAAAAAAAAgeUCzf/m/HjF5QAAAAAAAQHlAs3/5vx5ReUAAAAAAAGB5QLN/+b8ecXlAAAAAAACAeUCzf/m/HpF5QAAAAAAAoHlAs3/5vx6xeUAAAAAAAMB5QLN/+b8e0XlAAAAAAADgeUCzf/m/HvF5QAAAAAAAAHpAs3/5vx4RekAAAAAAACB6QLN/+b8eMXpAAAAAAABAekBqHQvA9VB6QAIPDCBcX3pAtY4F4HpwekBNgAZA4X56QAAAAAAAkHpAah0LwPWgekACDwwgXK96QLWOBeB6wHpATYAGQOHOekAAAAAAAOB6QLN/+b8e8XpAAAAAAAAAe0Czf/m/HhF7QAAAAAAAIHtAs3/5vx4xe0AAAAAAAEB7QLN/+b8eUXtAAAAAAABge0Czf/m/HnF7QAAAAAAAgHtAah0LwPWQe0ACDwwgXJ97QLWOBeB6sHtATYAGQOG+e0AAAAAAANB7QGodC8D14HtAAg8MIFzve0C1jgXgegB8QE2ABkDhDnxAAAAAAAAgfEA=",
          "dtype": "f8"
         },
         "y": {
          "bdata": "dJHnn4ULYkA0VP//A5tYQNVO/x9I21VA2yX9/3AsV0DGavP/qmdcQAbDFECM4V9AEAsQYOwPYkDTwfo/R5ZkQCh78H9sDmdAlKcHYB6taUDWdQNgF+prQN7dFKC3Y25A7ar2nwuacEBvDAHAUZlxQCyZCMDkXHNAyh78HzvKdEDGavP/CmJ2QGJ6DKBJDnhA7k/zn5+MeUDyA/y/LzN7QKRICKCCDnxAcbH9v4UifkAAAAAAICJ/QD+EAgDRqIBA3XMFgL9BgUAV+gVgKAWCQJmW/V9acoJAvjEEAHdEg0A4hgDg+FeDQE4lA0DVAYRA22T5X9MYhEBuZwTATbaEQMUvBiCP7IRAbwwBwFE9hUCzf/m/Pq2FQKk3/p/O+YVAmPEAYOZYhkAa6ftfVECGQO0UBsAj84ZAS3H6H5X1hkAo5f+flBaHQGEQ/X/hIIdA2BoAYLsch0DH1AIgQzWHQLczAuB+ZodAx9QCIFMzh0BlxAWgQTiHQOi7AKC/RIdA6WD9nzNPh0D7pvrfqxCHQBhE/18Q04ZA+QH+3+exhkDO0gRAu4iGQGEQ/X8RcIZAarP7n40phkAenQSAxP2FQOlg/Z8zyoVA91wB4ENThUCSmPs/cj6FQH+tAQCGqoRAKor8n1gghEDDIPr/4hWEQG8MAcDR5oNAwNYAAAtTg0DvuQLAl+WCQI2pBUD2cIJA5hYEoBsAgkDO0gRAG2OBQAmj/h/cKYFAwNYAALvBgEDouwCgzzGAQNYL9D9Pw39A91wB4DMzf0AqivyfaOt9QBz4B4CAYn1AUMr/PwkMfEC8IvjfqlF7QBX6BWBoUHpADFcHQNymeUDFLwYgf8B4QLvnCgA/IXhAI/YJoFhNd0CIUAAgYrh2QMwtCECXb3VA3Qn2X2f3dECkSAigYlt0QGMfCaD9j3NAFfoFYAi1ckAsmQjApB1yQFoS+1/pvnFAOSv93yzxcEBqHQvAlU9wQJ6F81+WkG9AnoXzX9Z0bkDKiAtA4xZuQGl4DsAhV2xAn+8CgD6la0C+MQQAxxVqQGJ6DKDppWlA+jzrv/MjaEDRhg1gG5dnQFW59T+lemZALdT1n1DxZUAyLfu/dDBlQKj8EMCyVWRAOIYA4NgsY0AEtAggkEpiQJks7j9ytGFAXCEHgEVZYEA8DihAOalfQJez0v9NNV9ACt7r/3cxXkAh5/1/HD1dQIua+R+qpltAtL0nILe6WkBeBQDgO9hYQClLAECGnFhA+6b63xuTV0AAAAAAAHZWQB7cAOAWRFVANuED4ERPVECfLv/fYD5UQFHxA4D4PVNALyL+H6+cUkDOEQGgraNRQGUDAgA0A1FACzADAI1YUECFhP/fnjpPQPja+Z/4p05AwFT5v58sTEAhJvrfvj1LQEc/+T8wAUtACzADAA0rS0B/7P1f2HtIQCzYBCCH+0dAzGwEoFk/R0C9CgDA95JFQPHc939AU0RAKKYDQDJOREBEHASA1/lCQDV7A0DTqEJA55T8X+CVQUA9oAmg2ttAQM6P+V8ytUBAqjPvH6iXP0ALb/9fr7s9QNpoCODJuzpALT4FwHhQOkCYWxCAbtI6QFz287+/FzlAbEQPAEX7N0A=",
          "dtype": "f8"
         }
        },
        {
         "line": {
          "color": "rgb(220, 57, 119)"
         },
         "mode": "lines",
         "name": "Parabola Fit (Series 2)",
         "showlegend": false,
         "type": "scatter",
         "x": {
          "bdata": "ah0LwPXgdECNhBq+LuR0QLDrKbxn53RA01I5uqDqdED3uUi42e10QBohWLYS8XRAPYhntEv0dEBg73ayhPd0QINWhrC9+nRApr2Vrvb9dEDJJKWsLwF1QOyLtKpoBHVAEPPDqKEHdUAzWtOm2gp1QFbB4qQTDnVAeSjyokwRdUCcjwGhhRR1QL/2EJ++F3VA4l0gnfcadUAFxS+bMB51QCksP5lpIXVATJNOl6IkdUBv+l2V2yd1QJJhbZMUK3VAtch8kU0udUDYL4yPhjF1QPuWm42/NHVAH/6qi/g3dUBCZbqJMTt1QGXMyYdqPnVAiDPZhaNBdUCrmuiD3ER1QM4B+IEVSHVA8WgHgE5LdUAU0BZ+h051QDg3JnzAUXVAW541evlUdUB+BUV4Mlh1QKFsVHZrW3VAxNNjdKRedUDnOnNy3WF1QAqignAWZXVALgmSbk9odUBRcKFsiGt1QHTXsGrBbnVAlz7AaPpxdUC6pc9mM3V1QN0M32RseHVAAHTuYqV7dUAj2/1g3n51QEdCDV8XgnVAaqkcXVCFdUCNECxbiYh1QLB3O1nCi3VA095KV/uOdUD2RVpVNJJ1QBmtaVNtlXVAPBR5UaaYdUBge4hP35t1QIPil00Yn3VApkmnS1GidUDJsLZJiqV1QOwXxkfDqHVAD3/VRfyrdUAy5uRDNa91QFZN9EFusnVAebQDQKe1dUCcGxM+4Lh1QL+CIjwZvHVA4ukxOlK/dUAFUUE4i8J1QCi4UDbExXVASx9gNP3IdUBvhm8yNsx1QJLtfjBvz3VAtVSOLqjSdUDYu50s4dV1QPsirSoa2XVAHoq8KFPcdUBB8csmjN91QGRY2yTF4nVAiL/qIv7ldUCrJvogN+l1QM6NCR9w7HVA8fQYHanvdUAUXCgb4vJ1QDfDNxkb9nVAWipHF1T5dUB+kVYVjfx1QKH4ZRPG/3VAxF91Ef8CdkDnxoQPOAZ2QAoulA1xCXZALZWjC6oMdkBQ/LIJ4w92QHRjwgccE3ZAl8rRBVUWdkC6MeEDjhl2QN2Y8AHHHHZAAAAAAAAgdkA=",
          "dtype": "f8"
         },
         "y": {
          "bdata": "8DO3B1i/hUAg0WIfXc6FQOqn9NwY3YVATbhsQIvrhUBNAstJtPmFQOGFD/mTB4ZADkM6TioVhkDUOUtJdyKGQDRqQup6L4ZALNQfMTU8hkC9d+MdpkiGQOdUjbDNVIZArWsd6atghkAJvJPHQGyGQP1F8EuMd4ZAiwkzdo6ChkCyBlxGR42GQHE9a7y2l4ZAya1g2NyhhkC7VzyauauGQEg7/gFNtYZAa1imD5e+hkAnrzTDl8eGQHw/qRxP0IZAagkEHL3YhkDxDEXB4eCGQBFKbAy96IZAzMB5/U7whkAdcW2Ul/eGQAhbR9GW/oZAi34HtEwFh0Cn2608uQuHQF1yOmvcEYdAq0KtP7YXh0CSTAa6Rh2HQBSQRdqNIodALQ1roIsnh0Dfw3YMQCyHQCm0aB6rMIdADd5A1sw0h0CKQf8zpTiHQJ/eozc0PIdAT7Uu4Xk/h0CWxZ8wdkKHQHcP9yUpRYdA8JI0wZJHh0ACUFgCs0mHQK1GYumJS4dA8XZSdhdNh0DO4CipW06HQESE5YFWT4dAU2GIAAhQh0D7dxElcFCHQDvIgO+OUIdAFVLWX2RQh0CIFRJ28E+HQJMSNDIzT4dAN0k8lCxOh0B0uSqc3EyHQEpj/0lDS4dAuUa6nWBJh0DBY1uXNEeHQGK64ja/RIdAnEpQfABCh0BvFKRn+D6HQNoX3vimO4dA3lT+Lww4h0B8ywQNKDSHQLJ78Y/6L4dAgmXEuIMrh0DqiH2HwyaHQOvlHPy5IYdAhXyiFmcch0C3TA7XyhaHQINWYD3lEIdA6JmYSbYKh0DmFrf7PQSHQHzNu1N8/YZArL2mUXH2hkB153f1HO+GQNZKLz9/54ZAzufMLpjfhkBivlDEZ9eGQI7Ouv/tzoZAUxgL4SrGhkCxm0FoHr2GQKhYXpXIs4ZAOE9haCmqhkBef0rhQKCGQCDpGQAPloZAe4zPxJOLhkBuaWsvz4CGQPt/7T/BdYZAIdBV9mlqhkDfWaRSyV6GQDMd2VTfUoZAIxr0/KtGhkCsUPVKLzqGQM7A3D5pLYZAiWqq2FkghkA=",
          "dtype": "f8"
         }
        },
        {
         "marker": {
          "color": "rgb(220, 57, 119)",
          "size": 8,
          "symbol": "circle"
         },
         "mode": "markers",
         "name": "Vertex (Series 2)",
         "showlegend": false,
         "type": "scatter",
         "x": [
          344.71878840101493
         ],
         "y": [
          746.0699080331476
         ]
        },
        {
         "line": {
          "color": "rgb(227, 79, 111)",
          "dash": "dot"
         },
         "mode": "lines",
         "name": "3 M",
         "type": "scatter",
         "x": {
          "bdata": "AAAAAADAckBNgAZA4c5yQLWOBeB64HJAAg8MIFzvckBqHQvA9QBzQAAAAAAAEHNATYAGQOEec0C1jgXgejBzQAIPDCBcP3NAah0LwPVQc0AAAAAAAGBzQE2ABkDhbnNAtY4F4HqAc0ACDwwgXI9zQGodC8D1oHNAAAAAAACwc0BNgAZA4b5zQLWOBeB60HNAAg8MIFzfc0BqHQvA9fBzQAAAAAAAAHRAs3/5vx4RdEAAAAAAACB0QLN/+b8eMXRAAAAAAABAdECzf/m/HlF0QAAAAAAAYHRAs3/5vx5xdEAAAAAAAIB0QLN/+b8ekXRAAAAAAACgdEBNgAZA4a50QLWOBeB6wHRAAg8MIFzPdEBqHQvA9eB0QAAAAAAA8HRATYAGQOH+dEC1jgXgehB1QAIPDCBcH3VAah0LwPUwdUAAAAAAAEB1QLN/+b8eUXVAAAAAAABgdUCzf/m/HnF1QAAAAAAAgHVAs3/5vx6RdUAAAAAAAKB1QLN/+b8esXVAAAAAAADAdUCzf/m/HtF1QAAAAAAA4HVAs3/5vx7xdUAAAAAAAAB2QLN/+b8eEXZAAAAAAAAgdkCzf/m/HjF2QAAAAAAAQHZAs3/5vx5RdkAAAAAAAGB2QLN/+b8ecXZAAAAAAACAdkCzf/m/HpF2QAAAAAAAoHZAs3/5vx6xdkAAAAAAAMB2QLN/+b8e0XZAAAAAAADgdkCzf/m/HvF2QAAAAAAAAHdAs3/5vx4Rd0AAAAAAACB3QLN/+b8eMXdAAAAAAABAd0Czf/m/HlF3QAAAAAAAYHdAs3/5vx5xd0AAAAAAAIB3QLN/+b8ekXdAAAAAAACgd0Czf/m/HrF3QAAAAAAAwHdAs3/5vx7Rd0AAAAAAAOB3QLN/+b8e8XdAAAAAAAAAeECzf/m/HhF4QAAAAAAAIHhAs3/5vx4xeEAAAAAAAEB4QLN/+b8eUXhAAAAAAABgeECzf/m/HnF4QAAAAAAAgHhAs3/5vx6ReEAAAAAAAKB4QLN/+b8esXhAAAAAAADAeECzf/m/HtF4QAAAAAAA4HhAs3/5vx7xeEAAAAAAAAB5QLN/+b8eEXlAAAAAAAAgeUCzf/m/HjF5QAAAAAAAQHlAs3/5vx5ReUAAAAAAAGB5QLN/+b8ecXlAAAAAAACAeUCzf/m/HpF5QAAAAAAAoHlAs3/5vx6xeUAAAAAAAMB5QLN/+b8e0XlAAAAAAADgeUCzf/m/HvF5QAAAAAAAAHpAs3/5vx4RekAAAAAAACB6QLN/+b8eMXpAAAAAAABAekBqHQvA9VB6QAIPDCBcX3pAtY4F4HpwekBNgAZA4X56QAAAAAAAkHpAah0LwPWgekACDwwgXK96QLWOBeB6wHpATYAGQOHOekAAAAAAAOB6QLN/+b8e8XpAAAAAAAAAe0Czf/m/HhF7QAAAAAAAIHtAs3/5vx4xe0AAAAAAAEB7QLN/+b8eUXtAAAAAAABge0Czf/m/HnF7QAAAAAAAgHtAah0LwPWQe0ACDwwgXJ97QLWOBeB6sHtATYAGQOG+e0AAAAAAANB7QGodC8D14HtAAg8MIFzve0C1jgXgegB8QE2ABkDhDnxAAAAAAAAgfEA=",
          "dtype": "f8"
         },
         "y": {
          "bdata": "mFsQgG4dYEAKSPsfYHRTQDMVA6BhKURAPR4CYJ/tQUB1JgqAM7VBQEsy/r9iZURAVSMFYM2qRkAs2AQgB01JQB4b/T85WU1AyDoDwIRuUEAWeP4fbVlSQB8DBSCm2lRA8Z37Hx7hV0DmgBPAg2ZaQJPWKaCaJV5A4b3+f3dzYEBqSex/pSRiQGik739RPWRAA+Dp33/HZUAhUQ2gBM1nQCNgGcAAQWpAZS4VwDlRbEDPdwFAHy9vQN1zBYAvwnBAS9sJQG0zckDWdQNgN2FzQMLlDCD3cHRA91wB4JM5dkDYGgBgaxZ3QMZq8/8KV3hAyh78H5tjeUCTAgtgKiB6QBefAmD85HpAneD2X6Lse0BTFPk/8d18QKWD9X9Ow31Ax9QCIDP4fkDuT/OfX7F/QMfUAiBTRIBAL+MBwNz0gEACpfz/o1mBQEaCBCB5jYFAtzMC4O7ugUDbZPlfI06CQHiv/9/dkIJA/loDANzGgkAo5f+fFCmDQELO+//4OoNAQCn//2SBg0DvuQLAV/KDQGXEBaDRKIRAfQgFALIGhEA5K/3fPCeEQEcnASAtLoRAz3cBQM8ehEBaEvtfeUuEQJZMBGCyY4RABVkFIFQbhEBuZwTArU6EQN8YAoDzDoRAtzMC4J7wg0CR8/4/PpaDQHiv/989e4NAelT834E2g0DWdQNgRziDQBX6BWCIu4JAkpj7P1JxgkACpfz/8zqCQEtx+h+F6oFANuED4GSYgUCIUAAgEjWBQGBrAICN3oBAkpj7P0K3gEA24QPgZCWAQN8YAoCjm39AFZD2P6DsfkAdM/VfDGR+QDTS979IZn1Aw4oJIOvvfEAfQgGASLB7QE678x/Ng3tApN74f1pkekAH/gEgOK15QHVlBuA1sHhAx9QCINNZeEDiYvt/q453QN1zBYBvI3dAp5IBoEpKdkAJo/4fjIh1QIQGByD6CnVAH0IBgAhBdEDwXv+/O3VzQINhCiBm/HJACaP+H4yTckCdSgaAqqxxQIpfDEC+MnFA9U31vxcxcEDsQOd/A59vQJsPGaB+mm5ASTYNQJmcbUCgKvBf6jVtQJNsGoDy2mtAg/f6/53takCIUAAgwrBpQLLa/L8q72hAEdztH7DOZ0Bjtfl/lWFnQAxXB0BcE2ZAUtkLYGW/ZUD4xhAAnKpkQGMfCaB902NAqPwQwPK7Y0BFruXfeN5iQPD0759TJWJAmZb9XxonYUBXyAFg4SpgQOSd6F83fV9A48wKoHOuXkBxGw3greRcQLmsHSBzPFxAcd3ef/UxWkCnKPJ/IixaQCJN/h8Or1hAg98C4MrRV0AbT/z/VV9XQI4n/v8qZlZAncj+P29BVUA1+fv/VzZUQE49+1+oSlRA8yoAAJ8BU0AhqAEg+stRQGfn+l+qbFFAAWYAoHEdUUCm7QSgdjxQQCGoASD6bE9ALjr2P4KUTUAGmAGAxjNLQBuSB+DuKEtAiXcEYFFDSkCTv/9/sRZJQKOf/B9YhUhAucAGwE9DRkCrRgrAmhNGQLf0BYBsjEVAa5sDgLpvREAnf///4opDQMn399/rVUJA3xgCgGNbQkBLMv6/4lxBQPvl9j/+RkBAJDH3f8RoQEA=",
          "dtype": "f8"
         }
        },
        {
         "line": {
          "color": "rgb(227, 79, 111)"
         },
         "mode": "lines",
         "name": "Parabola Fit (Series 3)",
         "showlegend": false,
         "type": "scatter",
         "x": {
          "bdata": "AAAAAACgdUDuDIl5O6N1QNwZEvN2pnVAyiabbLKpdUC4MyTm7ax1QKVArV8psHVAk0022WSzdUCBWr9SoLZ1QG9nSMzbuXVAXXTRRRe9dUBLgVq/UsB1QDmO4ziOw3VAJ5tsssnGdUAVqPUrBcp1QAO1fqVAzXVA8MEHH3zQdUDezpCYt9N1QMzbGRLz1nVAuuiiiy7adUCo9SsFat11QJYCtX6l4HVAhA8++ODjdUByHMdxHOd1QGApUOtX6nVATjbZZJPtdUA7Q2LezvB1QClQ61cK9HVAF1100UX3dUAFav1Kgfp1QPN2hsS8/XVA4YMPPvgAdkDPkJi3MwR2QL2dITFvB3ZAq6qqqqoKdkCZtzMk5g12QIbEvJ0hEXZAdNFFF10UdkBi3s6QmBd2QFDrVwrUGnZAPvjggw8edkAsBWr9SiF2QBoS83aGJHZACB988MEndkD2KwVq/Sp2QOQ4juM4LnZA0UUXXXQxdkC/UqDWrzR2QK1fKVDrN3ZAm2yyySY7dkCJeTtDYj52QHeGxLydQXZAZZNNNtlEdkBToNavFEh2QEGtXylQS3ZAL7roootOdkAcx3Ecx1F2QArU+pUCVXZA+OCDDz5YdkDm7QyJeVt2QNT6lQK1XnZAwgcffPBhdkCwFKj1K2V2QJ4hMW9naHZAjC666KJrdkB6O0Ni3m52QGdIzNsZcnZAVVVVVVV1dkBDYt7OkHh2QDFvZ0jMe3ZAH3zwwQd/dkANiXk7Q4J2QPuVArV+hXZA6aKLLrqIdkDXrxSo9Yt2QMW8nSExj3ZAsskmm2ySdkCg1q8UqJV2QI7jOI7jmHZAfPDBBx+cdkBq/UqBWp92QFgK1PqVonZARhdddNGldkA0JObtDKl2QCIxb2dIrHZAED744IOvdkD9SoFav7J2QOtXCtT6tXZA2WSTTTa5dkDHcRzHcbx2QLV+pUCtv3ZAo4suuujCdkCRmLczJMZ2QH+lQK1fyXZAbbLJJpvMdkBav1Kg1s92QEjM2xkS03ZANtlkk03WdkAk5u0Midl2QBLzdobE3HZAAAAAAADgdkA=",
          "dtype": "f8"
         },
         "y": {
          "bdata": "tkl7iXoeg0C76xZG/SuDQBOBK2YwOYNAvwm56RNGg0C+hb/Qp1KDQAz1PhvsXoNAslc3yeBqg0CrrajahXaDQPj2kk/bgYNAmDP2J+GMg0CLY9Jjl5eDQNGGJwP+oYNAa531BRWsg0BZpzxs3LWDQJmk/DVUv4NAKpU1Y3zIg0ASeefzVNGDQE1QEujd2YNA2xq2Pxfig0C82NL6AOqDQPGJaBmb8YNAeS53m+X4g0BVxv6A4P+DQIRR/8mLBoRABtB4ducMhEDaQWuG8xKEQAOn1vmvGIRAf/+60BwehEBPSxgLOiOEQHKK7qgHKIRA6Lw9qoUshECy4gUPtDCEQM/7RteSNIRAQAgBAyI4hEAECDSSYTuEQBr734RRPoRAheEE2/FAhEBDu6KUQkOEQFSIubFDRYRAuUhJMvVGhEBx/FEWV0iEQHyj011pSYRA2z3OCCxKhECNy0EXn0qEQJNMLonCSoRA68CTXpZKhECYKHKXGkqEQJeDyTNPSYRA6tGZMzRIhECRE+OWyUaEQIpIpV0PRYRA13DghwVDhEB4jJQVrECEQGubwQYDPoRAs51nWwo7hEBOk4YTwjeEQDx8Hi8qNIRAfVgvrkIwhEASKLmQCyyEQPrqu9aEJ4RANaE3gK4ihEDESiyNiB2EQKbnmf0SGIRA23eA0U0ShEBk+98IOQyEQEJyuKPUBYRAcdwJoiD/g0D0OdQDHfiDQMqKF8nJ8INA9M7T8Sbpg0BxBgl+NOGDQEExt23y2INAZE/ewGDQg0DbYH53f8eDQKZll5FOvoNAxl0pD860g0A4STTw/aqDQPwnuDTeoINAFPq03G6Wg0B/vyror4uDQD14GVehgINATySBKUN1g0C1w2FflWmDQG1Wu/iXXYNAedyN9UpRg0DcVdlVrkSDQI/CnRnCN4NAlSLbQIYqg0DudZHL+hyDQJu8wLkfD4NAm/ZoC/UAg0DvI4rAevKCQJZEJNmw44JAkFg3VZfUgkDiX8M0LsWCQINayHd1tYJAeEhGHm2lgkC/KT0oFZWCQFr+rJVthIJAScaVZnZzgkA=",
          "dtype": "f8"
         }
        },
        {
         "marker": {
          "color": "rgb(227, 79, 111)",
          "size": 8,
          "symbol": "circle"
         },
         "mode": "markers",
         "name": "Vertex (Series 3)",
         "showlegend": false,
         "type": "scatter",
         "x": [
          354.8778232667291
         ],
         "y": [
          649.3450465288554
         ]
        },
        {
         "line": {
          "color": "rgb(240, 116, 110)",
          "dash": "dot"
         },
         "mode": "lines",
         "name": "4 M",
         "type": "scatter",
         "x": {
          "bdata": "AAAAAADAckBNgAZA4c5yQLWOBeB64HJAAg8MIFzvckBqHQvA9QBzQAAAAAAAEHNATYAGQOEec0C1jgXgejBzQAIPDCBcP3NAah0LwPVQc0AAAAAAAGBzQE2ABkDhbnNAtY4F4HqAc0ACDwwgXI9zQGodC8D1oHNAAAAAAACwc0BNgAZA4b5zQLWOBeB60HNAAg8MIFzfc0BqHQvA9fBzQAAAAAAAAHRAs3/5vx4RdEAAAAAAACB0QLN/+b8eMXRAAAAAAABAdECzf/m/HlF0QAAAAAAAYHRAs3/5vx5xdEAAAAAAAIB0QLN/+b8ekXRAAAAAAACgdEBNgAZA4a50QLWOBeB6wHRAAg8MIFzPdEBqHQvA9eB0QAAAAAAA8HRATYAGQOH+dEC1jgXgehB1QAIPDCBcH3VAah0LwPUwdUAAAAAAAEB1QLN/+b8eUXVAAAAAAABgdUCzf/m/HnF1QAAAAAAAgHVAs3/5vx6RdUAAAAAAAKB1QLN/+b8esXVAAAAAAADAdUCzf/m/HtF1QAAAAAAA4HVAs3/5vx7xdUAAAAAAAAB2QLN/+b8eEXZAAAAAAAAgdkCzf/m/HjF2QAAAAAAAQHZAs3/5vx5RdkAAAAAAAGB2QLN/+b8ecXZAAAAAAACAdkCzf/m/HpF2QAAAAAAAoHZAs3/5vx6xdkAAAAAAAMB2QLN/+b8e0XZAAAAAAADgdkCzf/m/HvF2QAAAAAAAAHdAs3/5vx4Rd0AAAAAAACB3QLN/+b8eMXdAAAAAAABAd0Czf/m/HlF3QAAAAAAAYHdAs3/5vx5xd0AAAAAAAIB3QLN/+b8ekXdAAAAAAACgd0Czf/m/HrF3QAAAAAAAwHdAs3/5vx7Rd0AAAAAAAOB3QLN/+b8e8XdAAAAAAAAAeECzf/m/HhF4QAAAAAAAIHhAs3/5vx4xeEAAAAAAAEB4QLN/+b8eUXhAAAAAAABgeECzf/m/HnF4QAAAAAAAgHhAs3/5vx6ReEAAAAAAAKB4QLN/+b8esXhAAAAAAADAeECzf/m/HtF4QAAAAAAA4HhAs3/5vx7xeEAAAAAAAAB5QLN/+b8eEXlAAAAAAAAgeUCzf/m/HjF5QAAAAAAAQHlAs3/5vx5ReUAAAAAAAGB5QLN/+b8ecXlAAAAAAACAeUCzf/m/HpF5QAAAAAAAoHlAs3/5vx6xeUAAAAAAAMB5QLN/+b8e0XlAAAAAAADgeUCzf/m/HvF5QAAAAAAAAHpAs3/5vx4RekAAAAAAACB6QLN/+b8eMXpAAAAAAABAekBqHQvA9VB6QAIPDCBcX3pAtY4F4HpwekBNgAZA4X56QAAAAAAAkHpAah0LwPWgekACDwwgXK96QLWOBeB6wHpATYAGQOHOekAAAAAAAOB6QLN/+b8e8XpAAAAAAAAAe0Czf/m/HhF7QAAAAAAAIHtAs3/5vx4xe0AAAAAAAEB7QLN/+b8eUXtAAAAAAABge0Czf/m/HnF7QAAAAAAAgHtAah0LwPWQe0ACDwwgXJ97QLWOBeB6sHtATYAGQOG+e0AAAAAAANB7QGodC8D14HtAAg8MIFzve0C1jgXgegB8QE2ABkDhDnxAAAAAAAAgfEA=",
          "dtype": "f8"
         },
         "y": {
          "bdata": "jG4YYHo/Y0Cp+AFAvEdVQC2V+T9uhEVAR371n9KDQECqHwaAyzpAQKwD/98Bu0FAdeP+nxqaQ0BHP/k/sGNFQK2o+9+VMklAfwT2f6sETUBOJQNAFRZQQKfR/f/sjlJAjif+/2qFVEBr2v/fnDZXQDqSy39IUlpApBwn4LLdXEAuqBTg4MRfQJbi9D9Kt2FABVkFIKQLY0CjdOlfksplQH0IBQAibWdAW3wKgLHsaUDbZPlf0/trQJSnB2Ae0G5A0ysKYI/jcEAOkvQfqPBxQCP2CaCY+nJAcRsN4M3HdEDrBfqfF9F1QNYL9D9P9XZA+WsNAPD2d0DMw/gfLy14QEwW9x+5W3lA22T5X/NoekCNP/YfPmR7QK4m9J+6/ntAUm/8P536fEAcjvhfeNx9QD4a899ocH5A/loDAMzbf0Cm7QSg5j+AQMh5/x/nsoBAGET/X8DogEDwXv+/a1eBQGEQ/X+xe4FAEKEAQCTPgUDTwfo/9yGCQCOM+n+AZIJAkfP+P66qgkA/hAIAEc6CQFUjBWA9G4NAQs77/zg+g0AAAAAAYGWDQN8YAoATX4NApu0EoAadg0DiYvt/S22DQMUvBiAfrYNARoIEIBnOg0CbO/pf3leDQBPr+T/sVYNAudj+32Iwg0BGggQguQeDQMfUAiBz/YJA22T5X5N5gkBuZwTAvZ+CQPID/L8/AYJADvwDQFDYgUAtPgXAGLSBQDIt+7+UQYFAP4QCAEH9gEAV+gVgiLeAQIr1/B+mZ4BAwXv9/x4bgEAqivyf6Jd/QNZ1A2A3M39A5hYEoJuTfkDH1AIg86Z9QFwhB4BFvHxATYAGQCFKfEDFxfb/1lR7QGb/8n+9wnpAx9QCIDOzeUB4r//fnfp4QDs6CQAJKnhARHP4/+wBeEATVQlglAN3QC3U9Z9QL3ZAE1UJYNS3dUC+x/TfvhB1QLUk9r/yOXRATBb3H3nBc0Dtqvafi/hyQCP2CaAYgHJAqTf+n378cUB1+/a/jXdxQCOM+n/QkXBAUMr/PwklcEC9XeW/NkVvQLDL8J/uyG1AB/4BIDhrbUAK3uv/d7hrQFW59T9lJ2tA1gv0P29DakCjdOlfEtJpQN7dFKD3jGhAZ9MRwI04Z0D4xhAAXPFmQEnM/R/xjmVA367yX3ueZUCrRgrAWkFkQHMqGQAqSmRAnUoGgOqMYkBb5hmgWUliQOzZGOCnU2FAm9HqP4bcYECRXQ5gthNgQAVZBSCk/V5Av5jSnyKRXUDuUjQgjF9cQJez0v9NrlpAwRQvYBNPWkC6E+y/zkZZQG5nBMBdTFhAiI/8f6S0VkAQoQBAxLlWQDy4AcDtyFVAEOD8n+a+VEBeBQDgu/NTQKk3/p/e2lJAYvgEYC6JUkC84/t/qAxSQHWkAkD4E1FAxxP/f3X7UEDHkfc/esNPQKI5/H/mdk5AYCwEIIuDS0B7ewAgYUpLQCHn/X8clUpAzZMI4CiTSUB14/6fmhRJQCDA+T9N70ZAbAEEICzORkDxhQMAS+dFQJQ9+D/2tURAwmMF4Js2REDqhwHgkjVCQM84BeC8CUNAVH4IYLkDQkAn/fe/p3NBQKMhBGATFUFAwwwRYCbXP0A=",
          "dtype": "f8"
         }
        },
        {
         "line": {
          "color": "rgb(240, 116, 110)"
         },
         "mode": "lines",
         "name": "Parabola Fit (Series 4)",
         "showlegend": false,
         "type": "scatter",
         "x": {
          "bdata": "s3/5vx6xdUChjII5WrR1QI+ZC7OVt3VAfaaULNG6dUBrsx2mDL51QFjAph9IwXVARs0vmYPEdUA02rgSv8d1QCLnQYz6ynVAEPTKBTbOdUD+AFR/cdF1QOwN3fis1HVA2hpmcujXdUDIJ+/rI9t1QLY0eGVf3nVAo0EB35rhdUCRTopY1uR1QH9bE9IR6HVAbWicS03rdUBbdSXFiO51QEmCrj7E8XVAN483uP/0dUAlnMAxO/h1QBOpSat2+3VAAbbSJLL+dUDuwlue7QF2QNzP5BcpBXZAytxtkWQIdkC46fYKoAt2QKb2f4TbDnZAlAMJ/hYSdkCCEJJ3UhV2QHAdG/GNGHZAXiqkaskbdkBMNy3kBB92QDlEtl1AInZAJ1E/13sldkAVXshQtyh2QANrUcryK3ZA8XfaQy4vdkDfhGO9aTJ2QM2R7DalNXZAu551sOA4dkCpq/4pHDx2QJe4h6NXP3ZAhMUQHZNCdkBy0pmWzkV2QGDfIhAKSXZATuyriUVMdkA8+TQDgU92QCoGvny8UnZAGBNH9vdVdkAGINBvM1l2QPQsWeluXHZA4jniYqpfdkDPRmvc5WJ2QL1T9FUhZnZAq2B9z1xpdkCZbQZJmGx2QId6j8LTb3ZAdYcYPA9zdkBjlKG1SnZ2QFGhKi+GeXZAP66zqMF8dkAtuzwi/X92QBrIxZs4g3ZACNVOFXSGdkD24deOr4l2QOTuYAjrjHZA0vvpgSaQdkDACHP7YZN2QK4V/HSdlnZAnCKF7tiZdkCKLw5oFJ12QHg8l+FPoHZAZUkgW4ujdkBTVqnUxqZ2QEFjMk4CqnZAL3C7xz2tdkAdfURBebB2QAuKzbq0s3ZA+ZZWNPC2dkDno9+tK7p2QNWwaCdnvXZAwr3xoKLAdkCwynoa3sN2QJ7XA5QZx3ZAjOSMDVXKdkB68RWHkM12QGj+ngDM0HZAVgsoegfUdkBEGLHzQtd2QDIlOm1+2nZAIDLD5rnddkAOP0xg9eB2QPtL1dkw5HZA6VheU2zndkDXZefMp+p2QMVycEbj7XZAs3/5vx7xdkA=",
          "dtype": "f8"
         },
         "y": {
          "bdata": "Y+xS841rgkD3NvfTG3mCQBAPhsBWhoJArnT/uD6TgkDSZ2O905+CQHjosc0VrIJAp/bq6QS4gkBckg4SocOCQJa7HEbqzoJAVnIVhuDZgkCctvjRg+SCQGeIxinU7oJAuOd+jdH4gkCO1CH9ewKDQOpOr3jTC4NAyVYnANgUg0Aw7ImTiR2DQB0P1zLoJYNAj78O3vMtg0CH/TCVrDWDQAXJPVgSPYNACCI1JyVEg0CRCBcC5UqDQJ984+hRUYNAM36a22tXg0BLDTzaMl2DQOopyOSmYoNAD9Q++8dng0C5C6AdlmyDQOnQ60sRcYNAnyMihjl1g0DaA0PMDnmDQJpxTh6RfINA4WxEfMB/g0Ct9STmnIKDQP0L8FsmhYNA1K+l3VyHg0Ax4UVrQImDQBOg0ATRioNAe+xFqg6Mg0BpxqVb+YyDQNwt8BiRjYNA1SIl4tWNg0BTpUS3x42DQFe1TphmjYNA4FJDhbKMg0DvfSJ+q4uDQIQ27IJRioNAnnygk6SIg0A+UD+wpIaDQGSxyNhRhINAD6A8DayBg0A/HJtNs36DQPYl5Jlne4NAMb0X8sh3g0D04TVW13ODQDuUPsaSb4NACNQxQvtqg0BaoQ/KEGaDQDL8113TYINAj+SK/UJbg0ByWiipX1WDQNtdsGApT4NAye4iJKBIg0A9DYDzw0GDQDi5x86UOoNAt/L5tRIzg0C8uRapPSuDQEYOHqgVI4NAVvAPs5oag0DrX+zJzBGDQAZds+yrCINAp+dkGzj/gkDN/wBWcfWCQHilh5xX64JArdj47urggkBkmVRNK9aCQKHnmrcYy4JAY8PLLbO/gkCqLOev+rOCQHgj7T3vp4JAy6fd15CbgkCjubh9346CQAFZfi/bgYJA6YUu7YN0gkBSQMm22WaCQEGITozcWIJAtl2+bYxKgkCwwBhb6TuCQDCxXVTzLIJANS+NWaodgkDAOqdqDg6CQNDTq4cf/oFAZvqasN3tgUCCrnTlSN2BQCjwOCZhzIFAT7/ncia7gUD8G4HLmKmBQC4GBTC4l4FA5n1zoISFgUA=",
          "dtype": "f8"
         }
        },
        {
         "marker": {
          "color": "rgb(240, 116, 110)",
          "size": 8,
          "symbol": "circle"
         },
         "mode": "markers",
         "name": "Vertex (Series 4)",
         "showlegend": false,
         "type": "scatter",
         "x": [
          355.62136317741454
         ],
         "y": [
          625.7316301943634
         ]
        },
        {
         "line": {
          "color": "rgb(250, 164, 118)",
          "dash": "dot"
         },
         "mode": "lines",
         "name": "5 M",
         "type": "scatter",
         "x": {
          "bdata": "AAAAAADAckBNgAZA4c5yQLWOBeB64HJAAg8MIFzvckBqHQvA9QBzQAAAAAAAEHNATYAGQOEec0C1jgXgejBzQAIPDCBcP3NAah0LwPVQc0AAAAAAAGBzQE2ABkDhbnNAtY4F4HqAc0ACDwwgXI9zQGodC8D1oHNAAAAAAACwc0BNgAZA4b5zQLWOBeB60HNAAg8MIFzfc0BqHQvA9fBzQAAAAAAAAHRAs3/5vx4RdEAAAAAAACB0QLN/+b8eMXRAAAAAAABAdECzf/m/HlF0QAAAAAAAYHRAs3/5vx5xdEAAAAAAAIB0QLN/+b8ekXRAAAAAAACgdEBNgAZA4a50QLWOBeB6wHRAAg8MIFzPdEBqHQvA9eB0QAAAAAAA8HRATYAGQOH+dEC1jgXgehB1QAIPDCBcH3VAah0LwPUwdUAAAAAAAEB1QLN/+b8eUXVAAAAAAABgdUCzf/m/HnF1QAAAAAAAgHVAs3/5vx6RdUAAAAAAAKB1QLN/+b8esXVAAAAAAADAdUCzf/m/HtF1QAAAAAAA4HVAs3/5vx7xdUAAAAAAAAB2QLN/+b8eEXZAAAAAAAAgdkCzf/m/HjF2QAAAAAAAQHZAs3/5vx5RdkAAAAAAAGB2QLN/+b8ecXZAAAAAAACAdkCzf/m/HpF2QAAAAAAAoHZAs3/5vx6xdkAAAAAAAMB2QLN/+b8e0XZAAAAAAADgdkCzf/m/HvF2QAAAAAAAAHdAs3/5vx4Rd0AAAAAAACB3QLN/+b8eMXdAAAAAAABAd0Czf/m/HlF3QAAAAAAAYHdAs3/5vx5xd0AAAAAAAIB3QLN/+b8ekXdAAAAAAACgd0Czf/m/HrF3QAAAAAAAwHdAs3/5vx7Rd0AAAAAAAOB3QLN/+b8e8XdAAAAAAAAAeECzf/m/HhF4QAAAAAAAIHhAs3/5vx4xeEAAAAAAAEB4QLN/+b8eUXhAAAAAAABgeECzf/m/HnF4QAAAAAAAgHhAs3/5vx6ReEAAAAAAAKB4QLN/+b8esXhAAAAAAADAeECzf/m/HtF4QAAAAAAA4HhAs3/5vx7xeEAAAAAAAAB5QLN/+b8eEXlAAAAAAAAgeUCzf/m/HjF5QAAAAAAAQHlAs3/5vx5ReUAAAAAAAGB5QLN/+b8ecXlAAAAAAACAeUCzf/m/HpF5QAAAAAAAoHlAs3/5vx6xeUAAAAAAAMB5QLN/+b8e0XlAAAAAAADgeUCzf/m/HvF5QAAAAAAAAHpAs3/5vx4RekAAAAAAACB6QLN/+b8eMXpAAAAAAABAekBqHQvA9VB6QAIPDCBcX3pAtY4F4HpwekBNgAZA4X56QAAAAAAAkHpAah0LwPWgekACDwwgXK96QLWOBeB6wHpATYAGQOHOekAAAAAAAOB6QLN/+b8e8XpAAAAAAAAAe0Czf/m/HhF7QAAAAAAAIHtAs3/5vx4xe0AAAAAAAEB7QLN/+b8eUXtAAAAAAABge0Czf/m/HnF7QAAAAAAAgHtAah0LwPWQe0ACDwwgXJ97QLWOBeB6sHtATYAGQOG+e0AAAAAAANB7QGodC8D14HtAAg8MIFzve0C1jgXgegB8QE2ABkDhDnxAAAAAAAAgfEA=",
          "dtype": "f8"
         },
         "y": {
          "bdata": "YRD9f8FYZUATgeofxCJZQII6BuB2iEdAMu7+X5IfQkA7UgEgvI5BQDPWBkC/AUNAICoJYLW1REDu0frfOt9HQJ5G9/8zvEpAzWj1H+PcT0BuZwTA3e1QQNmAAACd3VJAswEBADrrVUA3X/yfiWdYQE/5IYBl2VtAwNYAAFsDX0Aoe/B/7NRgQOM2GsDbfWJAV8gBYOGpZEDC5QwgF7JmQDAe7584rmhAjG4YYHoLa0BBkw4gTW5tQK4m9J86SXBAg/f6/z1ZcUCK9fwfdvRyQELO+/8YVHRAUxT5PzGadUA24QPg5HZ2QIP3+v9903dAYGsAgE34eEBCzvv/mId5QBpTC4CMuXpAlD34P/aFe0DjzAqg04B8QIsECUBy+31AaA7/n5k+fkAH/gEg+Np/QIFS/v8pVoBAEKEAQDTjgEB1ZQbgxUiBQCjl/59UrIFAZcQFoOEzgkBnaQKgVY+CQHNW+r9Z2IJAgVL+/xkUg0AxiP6/oKCDQCqK/J/I0INACkj7H9DHg0AxiP6/YDmEQC0+BcAodYRA22T5X7N9hECSmPs/gqOEQFUjBWC95YRA6WD9nxPihEBCzvv/CPOEQBChAEDE2IRA2r/8X9/vhEB1ZQbgdauEQDbhA+Ck6oRAUMr/PxmQhEAv4wHArHuEQBPr+T8cLIRAq9z6nzIXhECzf/m//taDQKvc+p/Cl4NA08H6P2dug0DmFgSgW+CCQM93AUD/fIJAGun7X+RNgkCGqwMgjuOBQGBrAID94IFARycBIF0ngUAa6ftf1PCAQCHn/X8Mz4BAi5r5H3ongED0qPi/o/J/QA78A0Dwon5AhkH0/+VZfkCd4PZfQsJ9QFlt/l/VyXxArib0n/orfEBTFPk/UQV7QIsECUBSEnpADFcHQBxgeUB9CAUAwut4QAAAAAAADHhAaA7/n9mFd0AqivyfyJV2QM7SBEBLHHZAYRD9f8GKdUAMVwdAPGJ0QPBe/787C3RA9Kj4v+M8c0CsgfefJuRyQK3rBsBOD3JARoIEIImLcUBct/dfveFwQOas9H+zKHBAY7X5fxUOb0A9dfbfFJZuQJs7+l+u5G1AS0UZYNWQbEBGggQgCUZrQAxXB0Dcm2pAxFvn366JaUBQNA9g0dxoQDnB7b/EQ2dARRj1/+C9ZkAYRP9fEDBmQKCU/3/SEWVAXwHxX0X6Y0BQyv8/6SRkQHhF8L8VFmNArpADwIINYkAVkPY/gGNhQMUvBiD/62BAplcUwF7EX0AAAAAAAEBfQMZtNIA3ml1A+MPPfw8iXEAIz9/fe2BbQGpJ7H+lIVpAlXsmoC6GWUAkdAJgHWxYQO/4/h8KmVdASU4FYCyQVkAYBQMArm5WQOztAYAE9VRAsPYDYLS7U0BVO/1/IF5TQAKl/P9TiVJA9FEEQO7hUUBmQv5f1u5QQLRnAaArglBAAX74v8TXTkAqyfj/isxOQHhwA4Db8ExADyMIgL/ZSkATrP3fiXdLQFeJBQA/UElAYOn4P/J8SEBbfAqAcdhGQPib/T/WSEZA8Z37Hx54RUAaKPi/ButEQEXZ+J8+/kNA8dz3f8BXQ0BL2wlA7UpCQFV6+d/CG0JAW7sG4BNBQUA=",
          "dtype": "f8"
         }
        },
        {
         "line": {
          "color": "rgb(250, 164, 118)"
         },
         "mode": "lines",
         "name": "Parabola Fit (Series 5)",
         "showlegend": false,
         "type": "scatter",
         "x": {
          "bdata": "s3/5vx6RdUChjII5WpR1QI+ZC7OVl3VAfaaULNGadUBrsx2mDJ51QFjAph9IoXVARs0vmYOkdUA02rgSv6d1QCLnQYz6qnVAEPTKBTaudUD+AFR/cbF1QOwN3fistHVA2hpmcui3dUDIJ+/rI7t1QLY0eGVfvnVAo0EB35rBdUCRTopY1sR1QH9bE9IRyHVAbWicS03LdUBbdSXFiM51QEmCrj7E0XVAN483uP/UdUAlnMAxO9h1QBOpSat223VAAbbSJLLedUDuwlue7eF1QNzP5Bcp5XVAytxtkWTodUC46fYKoOt1QKb2f4Tb7nVAlAMJ/hbydUCCEJJ3UvV1QHAdG/GN+HVAXiqkasn7dUBMNy3kBP91QDlEtl1AAnZAJ1E/13sFdkAVXshQtwh2QANrUcryC3ZA8XfaQy4PdkDfhGO9aRJ2QM2R7DalFXZAu551sOAYdkCpq/4pHBx2QJe4h6NXH3ZAhMUQHZMidkBy0pmWziV2QGDfIhAKKXZATuyriUUsdkA8+TQDgS92QCoGvny8MnZAGBNH9vc1dkAGINBvMzl2QPQsWeluPHZA4jniYqo/dkDPRmvc5UJ2QL1T9FUhRnZAq2B9z1xJdkCZbQZJmEx2QId6j8LTT3ZAdYcYPA9TdkBjlKG1SlZ2QFGhKi+GWXZAP66zqMFcdkAtuzwi/V92QBrIxZs4Y3ZACNVOFXRmdkD24deOr2l2QOTuYAjrbHZA0vvpgSZwdkDACHP7YXN2QK4V/HSddnZAnCKF7th5dkCKLw5oFH12QHg8l+FPgHZAZUkgW4uDdkBTVqnUxoZ2QEFjMk4CinZAL3C7xz2NdkAdfURBeZB2QAuKzbq0k3ZA+ZZWNPCWdkDno9+tK5p2QNWwaCdnnXZAwr3xoKKgdkCwynoa3qN2QJ7XA5QZp3ZAjOSMDVWqdkB68RWHkK12QGj+ngDMsHZAVgsoege0dkBEGLHzQrd2QDIlOm1+unZAIDLD5rm9dkAOP0xg9cB2QPtL1dkwxHZA6VheU2zHdkDXZefMp8p2QMVycEbjzXZAs3/5vx7RdkA=",
          "dtype": "f8"
         },
         "y": {
          "bdata": "RlkUYB8pg0Dhc/0E4jmDQFEB1HFSSoNAlgGYpnBag0CwdEmjPGqDQJpa6Ge2eYNAXrN09N2Ig0D2fu5Is5eDQGS9VWU2poNAp26qSWe0g0C+kuz1RcKDQKspHGrSz4NAbTM5pgzdg0ADsEOq9OmDQG6fO3aK9oNAqwEhCs4ChEDA1vNlvw6EQKsetIleGoRAatlhdaslhED+Bv0opjCEQGenhaROO4RAprr756RFhEC5QF/zqE+EQKE5sMZaWYRAXqXuYbpihEDtgxrFx2uEQFTVM/CCdIRAkJk64+t8hECg0C6eAoWEQIZ6ECHHjIRAQZffazmUhEDQJpx+WZuEQDUpRlknooRAb57d+6KohEB9hmJmzK6EQF/h1JijtIRAF680kyi6hECl74FVW7+EQAejvN87xIRAPsnkMcrIhEBKYvpLBs2EQCxu/S3w0IRA4uzt14fUhEBt3stJzdeEQM1Cl4PA2oRAARpQhWHdhEALZPZOsN+EQOogiuCs4YRAnlALOlfjhEAn83lbr+SEQIUI1kS15YRAt5Af9mjmhEC/i1ZvyuaEQJz5erDZ5oRATdqMuZbmhEDULYyKAeaEQC/0eCMa5YRAYC1ThODjhEBl2RqtVOKEQED4z5124IRA74lyVkbehEBzjgLXw9uEQMwFgB/v2IRA++/qL8jVhED+TEMIT9KEQNcciaiDzoRAhF+8EGbKhEAGFd1A9sWEQF096zg0wYRAidjm+B+8hECK5s+AubaEQGBnptAAsYRACltq6PWqhECKwRvImKSEQN+aum/pnYRACudG3+eWhEAJpsAWlI+EQN3XJxbuh4RAhXx83fV/hEADlL5sq3eEQFUe7sMOb4RAfBsL4x9mhEB5ixXK3lyEQEpuDXlLU4RA88Py72VJhEBujMUuLj+EQL7HhTWkNIRA5HUzBMgphEDels6amR6EQK0qV/kYE4RAUTHNH0YHhEDJqjAOIfuDQBeXgcSp7oNAOva/QuDhg0AyyOuIxNSDQAINBZdWx4NApMQLbZa5g0Ab7/8KhKuDQGaM4XAfnYNAh5ywnmiOg0A=",
          "dtype": "f8"
         }
        },
        {
         "marker": {
          "color": "rgb(250, 164, 118)",
          "size": 8,
          "symbol": "circle"
         },
         "mode": "markers",
         "name": "Vertex (Series 5)",
         "showlegend": false,
         "type": "scatter",
         "x": [
          355.71354961075787
         ],
         "y": [
          668.8582786321076
         ]
        }
       ],
       "layout": {
        "height": 500,
        "legend": {
         "x": 1,
         "xanchor": "right",
         "y": 1,
         "yanchor": "top"
        },
        "template": {
         "data": {
          "bar": [
           {
            "error_x": {
             "color": "#2a3f5f"
            },
            "error_y": {
             "color": "#2a3f5f"
            },
            "marker": {
             "line": {
              "color": "white",
              "width": 0.5
             },
             "pattern": {
              "fillmode": "overlay",
              "size": 10,
              "solidity": 0.2
             }
            },
            "type": "bar"
           }
          ],
          "barpolar": [
           {
            "marker": {
             "line": {
              "color": "white",
              "width": 0.5
             },
             "pattern": {
              "fillmode": "overlay",
              "size": 10,
              "solidity": 0.2
             }
            },
            "type": "barpolar"
           }
          ],
          "carpet": [
           {
            "aaxis": {
             "endlinecolor": "#2a3f5f",
             "gridcolor": "#C8D4E3",
             "linecolor": "#C8D4E3",
             "minorgridcolor": "#C8D4E3",
             "startlinecolor": "#2a3f5f"
            },
            "baxis": {
             "endlinecolor": "#2a3f5f",
             "gridcolor": "#C8D4E3",
             "linecolor": "#C8D4E3",
             "minorgridcolor": "#C8D4E3",
             "startlinecolor": "#2a3f5f"
            },
            "type": "carpet"
           }
          ],
          "choropleth": [
           {
            "colorbar": {
             "outlinewidth": 0,
             "ticks": ""
            },
            "type": "choropleth"
           }
          ],
          "contour": [
           {
            "colorbar": {
             "outlinewidth": 0,
             "ticks": ""
            },
            "colorscale": [
             [
              0,
              "#0d0887"
             ],
             [
              0.1111111111111111,
              "#46039f"
             ],
             [
              0.2222222222222222,
              "#7201a8"
             ],
             [
              0.3333333333333333,
              "#9c179e"
             ],
             [
              0.4444444444444444,
              "#bd3786"
             ],
             [
              0.5555555555555556,
              "#d8576b"
             ],
             [
              0.6666666666666666,
              "#ed7953"
             ],
             [
              0.7777777777777778,
              "#fb9f3a"
             ],
             [
              0.8888888888888888,
              "#fdca26"
             ],
             [
              1,
              "#f0f921"
             ]
            ],
            "type": "contour"
           }
          ],
          "contourcarpet": [
           {
            "colorbar": {
             "outlinewidth": 0,
             "ticks": ""
            },
            "type": "contourcarpet"
           }
          ],
          "heatmap": [
           {
            "colorbar": {
             "outlinewidth": 0,
             "ticks": ""
            },
            "colorscale": [
             [
              0,
              "#0d0887"
             ],
             [
              0.1111111111111111,
              "#46039f"
             ],
             [
              0.2222222222222222,
              "#7201a8"
             ],
             [
              0.3333333333333333,
              "#9c179e"
             ],
             [
              0.4444444444444444,
              "#bd3786"
             ],
             [
              0.5555555555555556,
              "#d8576b"
             ],
             [
              0.6666666666666666,
              "#ed7953"
             ],
             [
              0.7777777777777778,
              "#fb9f3a"
             ],
             [
              0.8888888888888888,
              "#fdca26"
             ],
             [
              1,
              "#f0f921"
             ]
            ],
            "type": "heatmap"
           }
          ],
          "histogram": [
           {
            "marker": {
             "pattern": {
              "fillmode": "overlay",
              "size": 10,
              "solidity": 0.2
             }
            },
            "type": "histogram"
           }
          ],
          "histogram2d": [
           {
            "colorbar": {
             "outlinewidth": 0,
             "ticks": ""
            },
            "colorscale": [
             [
              0,
              "#0d0887"
             ],
             [
              0.1111111111111111,
              "#46039f"
             ],
             [
              0.2222222222222222,
              "#7201a8"
             ],
             [
              0.3333333333333333,
              "#9c179e"
             ],
             [
              0.4444444444444444,
              "#bd3786"
             ],
             [
              0.5555555555555556,
              "#d8576b"
             ],
             [
              0.6666666666666666,
              "#ed7953"
             ],
             [
              0.7777777777777778,
              "#fb9f3a"
             ],
             [
              0.8888888888888888,
              "#fdca26"
             ],
             [
              1,
              "#f0f921"
             ]
            ],
            "type": "histogram2d"
           }
          ],
          "histogram2dcontour": [
           {
            "colorbar": {
             "outlinewidth": 0,
             "ticks": ""
            },
            "colorscale": [
             [
              0,
              "#0d0887"
             ],
             [
              0.1111111111111111,
              "#46039f"
             ],
             [
              0.2222222222222222,
              "#7201a8"
             ],
             [
              0.3333333333333333,
              "#9c179e"
             ],
             [
              0.4444444444444444,
              "#bd3786"
             ],
             [
              0.5555555555555556,
              "#d8576b"
             ],
             [
              0.6666666666666666,
              "#ed7953"
             ],
             [
              0.7777777777777778,
              "#fb9f3a"
             ],
             [
              0.8888888888888888,
              "#fdca26"
             ],
             [
              1,
              "#f0f921"
             ]
            ],
            "type": "histogram2dcontour"
           }
          ],
          "mesh3d": [
           {
            "colorbar": {
             "outlinewidth": 0,
             "ticks": ""
            },
            "type": "mesh3d"
           }
          ],
          "parcoords": [
           {
            "line": {
             "colorbar": {
              "outlinewidth": 0,
              "ticks": ""
             }
            },
            "type": "parcoords"
           }
          ],
          "pie": [
           {
            "automargin": true,
            "type": "pie"
           }
          ],
          "scatter": [
           {
            "fillpattern": {
             "fillmode": "overlay",
             "size": 10,
             "solidity": 0.2
            },
            "type": "scatter"
           }
          ],
          "scatter3d": [
           {
            "line": {
             "colorbar": {
              "outlinewidth": 0,
              "ticks": ""
             }
            },
            "marker": {
             "colorbar": {
              "outlinewidth": 0,
              "ticks": ""
             }
            },
            "type": "scatter3d"
           }
          ],
          "scattercarpet": [
           {
            "marker": {
             "colorbar": {
              "outlinewidth": 0,
              "ticks": ""
             }
            },
            "type": "scattercarpet"
           }
          ],
          "scattergeo": [
           {
            "marker": {
             "colorbar": {
              "outlinewidth": 0,
              "ticks": ""
             }
            },
            "type": "scattergeo"
           }
          ],
          "scattergl": [
           {
            "marker": {
             "colorbar": {
              "outlinewidth": 0,
              "ticks": ""
             }
            },
            "type": "scattergl"
           }
          ],
          "scattermap": [
           {
            "marker": {
             "colorbar": {
              "outlinewidth": 0,
              "ticks": ""
             }
            },
            "type": "scattermap"
           }
          ],
          "scattermapbox": [
           {
            "marker": {
             "colorbar": {
              "outlinewidth": 0,
              "ticks": ""
             }
            },
            "type": "scattermapbox"
           }
          ],
          "scatterpolar": [
           {
            "marker": {
             "colorbar": {
              "outlinewidth": 0,
              "ticks": ""
             }
            },
            "type": "scatterpolar"
           }
          ],
          "scatterpolargl": [
           {
            "marker": {
             "colorbar": {
              "outlinewidth": 0,
              "ticks": ""
             }
            },
            "type": "scatterpolargl"
           }
          ],
          "scatterternary": [
           {
            "marker": {
             "colorbar": {
              "outlinewidth": 0,
              "ticks": ""
             }
            },
            "type": "scatterternary"
           }
          ],
          "surface": [
           {
            "colorbar": {
             "outlinewidth": 0,
             "ticks": ""
            },
            "colorscale": [
             [
              0,
              "#0d0887"
             ],
             [
              0.1111111111111111,
              "#46039f"
             ],
             [
              0.2222222222222222,
              "#7201a8"
             ],
             [
              0.3333333333333333,
              "#9c179e"
             ],
             [
              0.4444444444444444,
              "#bd3786"
             ],
             [
              0.5555555555555556,
              "#d8576b"
             ],
             [
              0.6666666666666666,
              "#ed7953"
             ],
             [
              0.7777777777777778,
              "#fb9f3a"
             ],
             [
              0.8888888888888888,
              "#fdca26"
             ],
             [
              1,
              "#f0f921"
             ]
            ],
            "type": "surface"
           }
          ],
          "table": [
           {
            "cells": {
             "fill": {
              "color": "#EBF0F8"
             },
             "line": {
              "color": "white"
             }
            },
            "header": {
             "fill": {
              "color": "#C8D4E3"
             },
             "line": {
              "color": "white"
             }
            },
            "type": "table"
           }
          ]
         },
         "layout": {
          "annotationdefaults": {
           "arrowcolor": "#2a3f5f",
           "arrowhead": 0,
           "arrowwidth": 1
          },
          "autotypenumbers": "strict",
          "coloraxis": {
           "colorbar": {
            "outlinewidth": 0,
            "ticks": ""
           }
          },
          "colorscale": {
           "diverging": [
            [
             0,
             "#8e0152"
            ],
            [
             0.1,
             "#c51b7d"
            ],
            [
             0.2,
             "#de77ae"
            ],
            [
             0.3,
             "#f1b6da"
            ],
            [
             0.4,
             "#fde0ef"
            ],
            [
             0.5,
             "#f7f7f7"
            ],
            [
             0.6,
             "#e6f5d0"
            ],
            [
             0.7,
             "#b8e186"
            ],
            [
             0.8,
             "#7fbc41"
            ],
            [
             0.9,
             "#4d9221"
            ],
            [
             1,
             "#276419"
            ]
           ],
           "sequential": [
            [
             0,
             "#0d0887"
            ],
            [
             0.1111111111111111,
             "#46039f"
            ],
            [
             0.2222222222222222,
             "#7201a8"
            ],
            [
             0.3333333333333333,
             "#9c179e"
            ],
            [
             0.4444444444444444,
             "#bd3786"
            ],
            [
             0.5555555555555556,
             "#d8576b"
            ],
            [
             0.6666666666666666,
             "#ed7953"
            ],
            [
             0.7777777777777778,
             "#fb9f3a"
            ],
            [
             0.8888888888888888,
             "#fdca26"
            ],
            [
             1,
             "#f0f921"
            ]
           ],
           "sequentialminus": [
            [
             0,
             "#0d0887"
            ],
            [
             0.1111111111111111,
             "#46039f"
            ],
            [
             0.2222222222222222,
             "#7201a8"
            ],
            [
             0.3333333333333333,
             "#9c179e"
            ],
            [
             0.4444444444444444,
             "#bd3786"
            ],
            [
             0.5555555555555556,
             "#d8576b"
            ],
            [
             0.6666666666666666,
             "#ed7953"
            ],
            [
             0.7777777777777778,
             "#fb9f3a"
            ],
            [
             0.8888888888888888,
             "#fdca26"
            ],
            [
             1,
             "#f0f921"
            ]
           ]
          },
          "colorway": [
           "#636efa",
           "#EF553B",
           "#00cc96",
           "#ab63fa",
           "#FFA15A",
           "#19d3f3",
           "#FF6692",
           "#B6E880",
           "#FF97FF",
           "#FECB52"
          ],
          "font": {
           "color": "#2a3f5f"
          },
          "geo": {
           "bgcolor": "white",
           "lakecolor": "white",
           "landcolor": "white",
           "showlakes": true,
           "showland": true,
           "subunitcolor": "#C8D4E3"
          },
          "hoverlabel": {
           "align": "left"
          },
          "hovermode": "closest",
          "mapbox": {
           "style": "light"
          },
          "paper_bgcolor": "white",
          "plot_bgcolor": "white",
          "polar": {
           "angularaxis": {
            "gridcolor": "#EBF0F8",
            "linecolor": "#EBF0F8",
            "ticks": ""
           },
           "bgcolor": "white",
           "radialaxis": {
            "gridcolor": "#EBF0F8",
            "linecolor": "#EBF0F8",
            "ticks": ""
           }
          },
          "scene": {
           "xaxis": {
            "backgroundcolor": "white",
            "gridcolor": "#DFE8F3",
            "gridwidth": 2,
            "linecolor": "#EBF0F8",
            "showbackground": true,
            "ticks": "",
            "zerolinecolor": "#EBF0F8"
           },
           "yaxis": {
            "backgroundcolor": "white",
            "gridcolor": "#DFE8F3",
            "gridwidth": 2,
            "linecolor": "#EBF0F8",
            "showbackground": true,
            "ticks": "",
            "zerolinecolor": "#EBF0F8"
           },
           "zaxis": {
            "backgroundcolor": "white",
            "gridcolor": "#DFE8F3",
            "gridwidth": 2,
            "linecolor": "#EBF0F8",
            "showbackground": true,
            "ticks": "",
            "zerolinecolor": "#EBF0F8"
           }
          },
          "shapedefaults": {
           "line": {
            "color": "#2a3f5f"
           }
          },
          "ternary": {
           "aaxis": {
            "gridcolor": "#DFE8F3",
            "linecolor": "#A2B1C6",
            "ticks": ""
           },
           "baxis": {
            "gridcolor": "#DFE8F3",
            "linecolor": "#A2B1C6",
            "ticks": ""
           },
           "bgcolor": "white",
           "caxis": {
            "gridcolor": "#DFE8F3",
            "linecolor": "#A2B1C6",
            "ticks": ""
           }
          },
          "title": {
           "x": 0.05
          },
          "xaxis": {
           "automargin": true,
           "gridcolor": "#EBF0F8",
           "linecolor": "#EBF0F8",
           "ticks": "",
           "title": {
            "standoff": 15
           },
           "zerolinecolor": "#EBF0F8",
           "zerolinewidth": 2
          },
          "yaxis": {
           "automargin": true,
           "gridcolor": "#EBF0F8",
           "linecolor": "#EBF0F8",
           "ticks": "",
           "title": {
            "standoff": 15
           },
           "zerolinecolor": "#EBF0F8",
           "zerolinewidth": 2
          }
         }
        },
        "width": 800,
        "xaxis": {
         "title": {
          "text": "Wavelength (nm)"
         }
        },
        "yaxis": {
         "title": {
          "text": "Intensity"
         }
        }
       }
      }
     },
     "metadata": {},
     "output_type": "display_data"
    }
   ],
   "source": [
    "\n",
    "fig = go.Figure()\n",
    "\n",
    "colors = sequential.Sunsetdark_r[:6]  # Colori per le serie\n",
    "\n",
    "for i in range(6):\n",
    "    w_col, I_col = f'w{i}', f'I{i}'\n",
    "\n",
    "    fig.add_trace(go.Scatter( # plot full dashed spectrum\n",
    "        x=data[w_col], y=data[I_col], mode='lines', name=f'{i} M',\n",
    "        line=dict(color=colors[i], dash='dot')\n",
    "    ))\n",
    "\n",
    "    # plot parabola\n",
    "    max_idx = data[I_col].idxmax()\n",
    "    l_idx = max_idx - POINTS_AROUND_MAX\n",
    "    r_idx = max_idx + POINTS_AROUND_MAX\n",
    "\n",
    "    # subset per il fit parabolico\n",
    "    w_subset, I_subset = data[w_col].iloc[l_idx:r_idx + 1], data[I_col].iloc[l_idx:r_idx + 1]  # subset creato con gli indici nel range\n",
    "    x_parabola = np.linspace(w_subset.min(), w_subset.max(), 100)\n",
    "    y_parabola = parabola(x_parabola, *fit_results[f'{i} M'])\n",
    "\n",
    "    # Aggiunta della parabola\n",
    "    fig.add_trace(go.Scatter(\n",
    "        x=x_parabola, y=y_parabola, mode='lines', name=f'Parabola Fit (Series {i})',\n",
    "        line=dict(color=colors[i]), showlegend=False\n",
    "    ))\n",
    "\n",
    "    # Vertice con barre d'errore\n",
    "    xV,yV = VERTEX[i]\n",
    "    fig.add_trace(go.Scatter(\n",
    "        x=[xV], y=[yV], mode='markers', name=f'Vertex (Series {i})',\n",
    "        marker=dict(color=colors[i], size=8, symbol='circle'),\n",
    "        showlegend=False\n",
    "    ))\n",
    "\n",
    "# Configurazione del layout\n",
    "fig.update_layout(\n",
    "    xaxis_title=\"Wavelength (nm)\",\n",
    "    yaxis_title=\"Intensity\",\n",
    "    template=\"plotly_white\",\n",
    "    height=500,\n",
    "    width=800,\n",
    "    legend=dict(\n",
    "            x=1,\n",
    "            y=1,\n",
    "            xanchor='right',\n",
    "            yanchor='top'\n",
    "        )\n",
    ")\n",
    "\n",
    "fig.show()\n",
    "\n",
    "# Stampa dei risultati del fit\n",
    "for key, values in fit_results.items():\n",
    "    errors = fit_errors[key]\n",
    "    formatted_values = f\"xV = {values[1]:.2f} ± {errors[1]:.2f}, yV = {values[2]:.2f} ± {errors[2]:.2f}\"\n",
    "    # print(f\"{key}: {formatted_values}\")\n"
   ]
  },
  {
   "cell_type": "code",
   "execution_count": 8,
   "metadata": {},
   "outputs": [
    {
     "name": "stdout",
     "output_type": "stream",
     "text": [
      "[[np.float64(333.27478031152907), np.float64(575.7923054495121)], [np.float64(333.4467351537085), np.float64(649.5197202437809)], [np.float64(344.71878840101493), np.float64(746.0699080331476)], [np.float64(354.8778232667291), np.float64(649.3450465288554)], [np.float64(355.62136317741454), np.float64(625.7316301943634)], [np.float64(355.71354961075787), np.float64(668.8582786321076)]]\n"
     ]
    }
   ],
   "source": [
    "print(VERTEX)"
   ]
  },
  {
   "cell_type": "code",
   "execution_count": 9,
   "metadata": {},
   "outputs": [],
   "source": [
    "# Cden = concentrazione del denaturante -> valore x\n",
    "# Cmp = concentrazione del campione -> parametro\n",
    "# m = pendenza della curva -> parametro\n",
    "# yN = intensità del campione non denaturato -> valore noto\n",
    "# yD = intensità del campione denaturato -> valore noto\n",
    "\n",
    "\n",
    "# udm [m] = J/ mol2 L\n",
    "\n",
    "def sigmoide(Cden, Cmid, m): # SCUSA SARAAAAAA, SONO IO A NON SAPER LEGGERE, ORA è OK MA LO ERA ANCHE PRIMA\n",
    "    R = 8.314 # J / mol K\n",
    "    T = 298.15  # K\n",
    "    yN = VERTEX[0][0] # nm\n",
    "    yD = VERTEX[5][0] # nm\n",
    "    expon = m * (Cmid - Cden) / (R * T)\n",
    "    return (yN + yD * np.exp(-expon)) / (1 + np.exp(-expon))"
   ]
  },
  {
   "cell_type": "code",
   "execution_count": 10,
   "metadata": {},
   "outputs": [
    {
     "name": "stdout",
     "output_type": "stream",
     "text": [
      "Cmid:  1.99 ± 0.01 M\n",
      "m:  8929.8 ± 736.97 J L / mol2\n",
      "ΔG:  17784.78 ± 1470.95 J/mol\n"
     ]
    }
   ],
   "source": [
    "# Estrai gli errori su xV dai dati esistenti\n",
    "errors_xV = [fit_errors[f'{i} M'][1] for i in range(6)]  # Errori su xV per ogni serie\n",
    "# Definizione di assex e assey dai dati dei vertici\n",
    "assex = np.array([i for i in range(6)]) # Indici delle serie (0 M, 1 M, ..., 5 M)\n",
    "assey = np.array([VERTEX[i][0] for i in range(6)])  # Valori di xV per ogni serie\n",
    "\n",
    "# Fit dei dati usando la funzione sigmoide e considerando gli errori\n",
    "popt1, pcov1 = curve_fit(sigmoide, assex, assey, sigma=errors_xV, p0=[2.12, -34.27], maxfev=5000)\n",
    "\n",
    "Cmid, m = popt1\n",
    "err_Cmid, err_m = np.sqrt(np.diag(pcov1))\n",
    "\n",
    "\n",
    "print('Cmid: ', final_val(Cmid,err_Cmid,udm='M'))\n",
    "print('m: ', final_val(m,err_m,udm='J L / mol2'))\n",
    "\n",
    "ΔG = Cmid * m\n",
    "err_DELTA_G = np.sqrt((err_Cmid * m)**2 + (Cmid * err_m)**2)\n",
    "print('ΔG: ', final_val(ΔG, err_DELTA_G, udm='J/mol'))"
   ]
  },
  {
   "cell_type": "code",
   "execution_count": 11,
   "metadata": {},
   "outputs": [
    {
     "data": {
      "application/vnd.plotly.v1+json": {
       "config": {
        "plotlyServerURL": "https://plot.ly"
       },
       "data": [
        {
         "line": {
          "color": "rgb(124, 29, 111)"
         },
         "mode": "lines",
         "name": "Fit Sigmoide",
         "showlegend": false,
         "type": "scatter",
         "x": {
          "bdata": "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",
          "dtype": "f8"
         },
         "y": {
          "bdata": "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",
          "dtype": "f8"
         }
        },
        {
         "error_y": {
          "array": [
           0.18208467605936976,
           0.20703720485801108,
           0.15904448975868302,
           0.15458251664219505,
           0.17052392701456123,
           0.12618631864335192
          ],
          "type": "data",
          "visible": true
         },
         "marker": {
          "color": "rgb(220, 57, 119)",
          "size": 5
         },
         "mode": "markers",
         "name": "Dati Originali",
         "showlegend": false,
         "type": "scatter",
         "x": {
          "bdata": "AAECAwQF",
          "dtype": "i1"
         },
         "y": {
          "bdata": "ojkKgGXUdEBtssLTJdd0QKcxRCiAi3VAT+RokAsudkDy3oMa8Tl2QHUk/7JqO3ZA",
          "dtype": "f8"
         }
        }
       ],
       "layout": {
        "height": 500,
        "template": {
         "data": {
          "bar": [
           {
            "error_x": {
             "color": "#2a3f5f"
            },
            "error_y": {
             "color": "#2a3f5f"
            },
            "marker": {
             "line": {
              "color": "white",
              "width": 0.5
             },
             "pattern": {
              "fillmode": "overlay",
              "size": 10,
              "solidity": 0.2
             }
            },
            "type": "bar"
           }
          ],
          "barpolar": [
           {
            "marker": {
             "line": {
              "color": "white",
              "width": 0.5
             },
             "pattern": {
              "fillmode": "overlay",
              "size": 10,
              "solidity": 0.2
             }
            },
            "type": "barpolar"
           }
          ],
          "carpet": [
           {
            "aaxis": {
             "endlinecolor": "#2a3f5f",
             "gridcolor": "#C8D4E3",
             "linecolor": "#C8D4E3",
             "minorgridcolor": "#C8D4E3",
             "startlinecolor": "#2a3f5f"
            },
            "baxis": {
             "endlinecolor": "#2a3f5f",
             "gridcolor": "#C8D4E3",
             "linecolor": "#C8D4E3",
             "minorgridcolor": "#C8D4E3",
             "startlinecolor": "#2a3f5f"
            },
            "type": "carpet"
           }
          ],
          "choropleth": [
           {
            "colorbar": {
             "outlinewidth": 0,
             "ticks": ""
            },
            "type": "choropleth"
           }
          ],
          "contour": [
           {
            "colorbar": {
             "outlinewidth": 0,
             "ticks": ""
            },
            "colorscale": [
             [
              0,
              "#0d0887"
             ],
             [
              0.1111111111111111,
              "#46039f"
             ],
             [
              0.2222222222222222,
              "#7201a8"
             ],
             [
              0.3333333333333333,
              "#9c179e"
             ],
             [
              0.4444444444444444,
              "#bd3786"
             ],
             [
              0.5555555555555556,
              "#d8576b"
             ],
             [
              0.6666666666666666,
              "#ed7953"
             ],
             [
              0.7777777777777778,
              "#fb9f3a"
             ],
             [
              0.8888888888888888,
              "#fdca26"
             ],
             [
              1,
              "#f0f921"
             ]
            ],
            "type": "contour"
           }
          ],
          "contourcarpet": [
           {
            "colorbar": {
             "outlinewidth": 0,
             "ticks": ""
            },
            "type": "contourcarpet"
           }
          ],
          "heatmap": [
           {
            "colorbar": {
             "outlinewidth": 0,
             "ticks": ""
            },
            "colorscale": [
             [
              0,
              "#0d0887"
             ],
             [
              0.1111111111111111,
              "#46039f"
             ],
             [
              0.2222222222222222,
              "#7201a8"
             ],
             [
              0.3333333333333333,
              "#9c179e"
             ],
             [
              0.4444444444444444,
              "#bd3786"
             ],
             [
              0.5555555555555556,
              "#d8576b"
             ],
             [
              0.6666666666666666,
              "#ed7953"
             ],
             [
              0.7777777777777778,
              "#fb9f3a"
             ],
             [
              0.8888888888888888,
              "#fdca26"
             ],
             [
              1,
              "#f0f921"
             ]
            ],
            "type": "heatmap"
           }
          ],
          "histogram": [
           {
            "marker": {
             "pattern": {
              "fillmode": "overlay",
              "size": 10,
              "solidity": 0.2
             }
            },
            "type": "histogram"
           }
          ],
          "histogram2d": [
           {
            "colorbar": {
             "outlinewidth": 0,
             "ticks": ""
            },
            "colorscale": [
             [
              0,
              "#0d0887"
             ],
             [
              0.1111111111111111,
              "#46039f"
             ],
             [
              0.2222222222222222,
              "#7201a8"
             ],
             [
              0.3333333333333333,
              "#9c179e"
             ],
             [
              0.4444444444444444,
              "#bd3786"
             ],
             [
              0.5555555555555556,
              "#d8576b"
             ],
             [
              0.6666666666666666,
              "#ed7953"
             ],
             [
              0.7777777777777778,
              "#fb9f3a"
             ],
             [
              0.8888888888888888,
              "#fdca26"
             ],
             [
              1,
              "#f0f921"
             ]
            ],
            "type": "histogram2d"
           }
          ],
          "histogram2dcontour": [
           {
            "colorbar": {
             "outlinewidth": 0,
             "ticks": ""
            },
            "colorscale": [
             [
              0,
              "#0d0887"
             ],
             [
              0.1111111111111111,
              "#46039f"
             ],
             [
              0.2222222222222222,
              "#7201a8"
             ],
             [
              0.3333333333333333,
              "#9c179e"
             ],
             [
              0.4444444444444444,
              "#bd3786"
             ],
             [
              0.5555555555555556,
              "#d8576b"
             ],
             [
              0.6666666666666666,
              "#ed7953"
             ],
             [
              0.7777777777777778,
              "#fb9f3a"
             ],
             [
              0.8888888888888888,
              "#fdca26"
             ],
             [
              1,
              "#f0f921"
             ]
            ],
            "type": "histogram2dcontour"
           }
          ],
          "mesh3d": [
           {
            "colorbar": {
             "outlinewidth": 0,
             "ticks": ""
            },
            "type": "mesh3d"
           }
          ],
          "parcoords": [
           {
            "line": {
             "colorbar": {
              "outlinewidth": 0,
              "ticks": ""
             }
            },
            "type": "parcoords"
           }
          ],
          "pie": [
           {
            "automargin": true,
            "type": "pie"
           }
          ],
          "scatter": [
           {
            "fillpattern": {
             "fillmode": "overlay",
             "size": 10,
             "solidity": 0.2
            },
            "type": "scatter"
           }
          ],
          "scatter3d": [
           {
            "line": {
             "colorbar": {
              "outlinewidth": 0,
              "ticks": ""
             }
            },
            "marker": {
             "colorbar": {
              "outlinewidth": 0,
              "ticks": ""
             }
            },
            "type": "scatter3d"
           }
          ],
          "scattercarpet": [
           {
            "marker": {
             "colorbar": {
              "outlinewidth": 0,
              "ticks": ""
             }
            },
            "type": "scattercarpet"
           }
          ],
          "scattergeo": [
           {
            "marker": {
             "colorbar": {
              "outlinewidth": 0,
              "ticks": ""
             }
            },
            "type": "scattergeo"
           }
          ],
          "scattergl": [
           {
            "marker": {
             "colorbar": {
              "outlinewidth": 0,
              "ticks": ""
             }
            },
            "type": "scattergl"
           }
          ],
          "scattermap": [
           {
            "marker": {
             "colorbar": {
              "outlinewidth": 0,
              "ticks": ""
             }
            },
            "type": "scattermap"
           }
          ],
          "scattermapbox": [
           {
            "marker": {
             "colorbar": {
              "outlinewidth": 0,
              "ticks": ""
             }
            },
            "type": "scattermapbox"
           }
          ],
          "scatterpolar": [
           {
            "marker": {
             "colorbar": {
              "outlinewidth": 0,
              "ticks": ""
             }
            },
            "type": "scatterpolar"
           }
          ],
          "scatterpolargl": [
           {
            "marker": {
             "colorbar": {
              "outlinewidth": 0,
              "ticks": ""
             }
            },
            "type": "scatterpolargl"
           }
          ],
          "scatterternary": [
           {
            "marker": {
             "colorbar": {
              "outlinewidth": 0,
              "ticks": ""
             }
            },
            "type": "scatterternary"
           }
          ],
          "surface": [
           {
            "colorbar": {
             "outlinewidth": 0,
             "ticks": ""
            },
            "colorscale": [
             [
              0,
              "#0d0887"
             ],
             [
              0.1111111111111111,
              "#46039f"
             ],
             [
              0.2222222222222222,
              "#7201a8"
             ],
             [
              0.3333333333333333,
              "#9c179e"
             ],
             [
              0.4444444444444444,
              "#bd3786"
             ],
             [
              0.5555555555555556,
              "#d8576b"
             ],
             [
              0.6666666666666666,
              "#ed7953"
             ],
             [
              0.7777777777777778,
              "#fb9f3a"
             ],
             [
              0.8888888888888888,
              "#fdca26"
             ],
             [
              1,
              "#f0f921"
             ]
            ],
            "type": "surface"
           }
          ],
          "table": [
           {
            "cells": {
             "fill": {
              "color": "#EBF0F8"
             },
             "line": {
              "color": "white"
             }
            },
            "header": {
             "fill": {
              "color": "#C8D4E3"
             },
             "line": {
              "color": "white"
             }
            },
            "type": "table"
           }
          ]
         },
         "layout": {
          "annotationdefaults": {
           "arrowcolor": "#2a3f5f",
           "arrowhead": 0,
           "arrowwidth": 1
          },
          "autotypenumbers": "strict",
          "coloraxis": {
           "colorbar": {
            "outlinewidth": 0,
            "ticks": ""
           }
          },
          "colorscale": {
           "diverging": [
            [
             0,
             "#8e0152"
            ],
            [
             0.1,
             "#c51b7d"
            ],
            [
             0.2,
             "#de77ae"
            ],
            [
             0.3,
             "#f1b6da"
            ],
            [
             0.4,
             "#fde0ef"
            ],
            [
             0.5,
             "#f7f7f7"
            ],
            [
             0.6,
             "#e6f5d0"
            ],
            [
             0.7,
             "#b8e186"
            ],
            [
             0.8,
             "#7fbc41"
            ],
            [
             0.9,
             "#4d9221"
            ],
            [
             1,
             "#276419"
            ]
           ],
           "sequential": [
            [
             0,
             "#0d0887"
            ],
            [
             0.1111111111111111,
             "#46039f"
            ],
            [
             0.2222222222222222,
             "#7201a8"
            ],
            [
             0.3333333333333333,
             "#9c179e"
            ],
            [
             0.4444444444444444,
             "#bd3786"
            ],
            [
             0.5555555555555556,
             "#d8576b"
            ],
            [
             0.6666666666666666,
             "#ed7953"
            ],
            [
             0.7777777777777778,
             "#fb9f3a"
            ],
            [
             0.8888888888888888,
             "#fdca26"
            ],
            [
             1,
             "#f0f921"
            ]
           ],
           "sequentialminus": [
            [
             0,
             "#0d0887"
            ],
            [
             0.1111111111111111,
             "#46039f"
            ],
            [
             0.2222222222222222,
             "#7201a8"
            ],
            [
             0.3333333333333333,
             "#9c179e"
            ],
            [
             0.4444444444444444,
             "#bd3786"
            ],
            [
             0.5555555555555556,
             "#d8576b"
            ],
            [
             0.6666666666666666,
             "#ed7953"
            ],
            [
             0.7777777777777778,
             "#fb9f3a"
            ],
            [
             0.8888888888888888,
             "#fdca26"
            ],
            [
             1,
             "#f0f921"
            ]
           ]
          },
          "colorway": [
           "#636efa",
           "#EF553B",
           "#00cc96",
           "#ab63fa",
           "#FFA15A",
           "#19d3f3",
           "#FF6692",
           "#B6E880",
           "#FF97FF",
           "#FECB52"
          ],
          "font": {
           "color": "#2a3f5f"
          },
          "geo": {
           "bgcolor": "white",
           "lakecolor": "white",
           "landcolor": "white",
           "showlakes": true,
           "showland": true,
           "subunitcolor": "#C8D4E3"
          },
          "hoverlabel": {
           "align": "left"
          },
          "hovermode": "closest",
          "mapbox": {
           "style": "light"
          },
          "paper_bgcolor": "white",
          "plot_bgcolor": "white",
          "polar": {
           "angularaxis": {
            "gridcolor": "#EBF0F8",
            "linecolor": "#EBF0F8",
            "ticks": ""
           },
           "bgcolor": "white",
           "radialaxis": {
            "gridcolor": "#EBF0F8",
            "linecolor": "#EBF0F8",
            "ticks": ""
           }
          },
          "scene": {
           "xaxis": {
            "backgroundcolor": "white",
            "gridcolor": "#DFE8F3",
            "gridwidth": 2,
            "linecolor": "#EBF0F8",
            "showbackground": true,
            "ticks": "",
            "zerolinecolor": "#EBF0F8"
           },
           "yaxis": {
            "backgroundcolor": "white",
            "gridcolor": "#DFE8F3",
            "gridwidth": 2,
            "linecolor": "#EBF0F8",
            "showbackground": true,
            "ticks": "",
            "zerolinecolor": "#EBF0F8"
           },
           "zaxis": {
            "backgroundcolor": "white",
            "gridcolor": "#DFE8F3",
            "gridwidth": 2,
            "linecolor": "#EBF0F8",
            "showbackground": true,
            "ticks": "",
            "zerolinecolor": "#EBF0F8"
           }
          },
          "shapedefaults": {
           "line": {
            "color": "#2a3f5f"
           }
          },
          "ternary": {
           "aaxis": {
            "gridcolor": "#DFE8F3",
            "linecolor": "#A2B1C6",
            "ticks": ""
           },
           "baxis": {
            "gridcolor": "#DFE8F3",
            "linecolor": "#A2B1C6",
            "ticks": ""
           },
           "bgcolor": "white",
           "caxis": {
            "gridcolor": "#DFE8F3",
            "linecolor": "#A2B1C6",
            "ticks": ""
           }
          },
          "title": {
           "x": 0.05
          },
          "xaxis": {
           "automargin": true,
           "gridcolor": "#EBF0F8",
           "linecolor": "#EBF0F8",
           "ticks": "",
           "title": {
            "standoff": 15
           },
           "zerolinecolor": "#EBF0F8",
           "zerolinewidth": 2
          },
          "yaxis": {
           "automargin": true,
           "gridcolor": "#EBF0F8",
           "linecolor": "#EBF0F8",
           "ticks": "",
           "title": {
            "standoff": 15
           },
           "zerolinecolor": "#EBF0F8",
           "zerolinewidth": 2
          }
         }
        },
        "width": 800,
        "xaxis": {
         "title": {
          "text": "C denaturante (M)"
         }
        },
        "yaxis": {
         "title": {
          "text": "wavelength (nm)"
         }
        }
       }
      }
     },
     "metadata": {},
     "output_type": "display_data"
    }
   ],
   "source": [
    "fig = go.Figure()\n",
    "\n",
    "# Fit sigmoide\n",
    "Cden_fit = np.linspace(min(assex), max(assex), 1000)  # Genera valori per l'asse x\n",
    "sigmoide_fit = sigmoide(Cden_fit, *popt1)  # Calcola i valori della sigmoide\n",
    "\n",
    "# Sigmoide grafico\n",
    "fig.add_trace(go.Scatter(\n",
    "    x=Cden_fit,\n",
    "    y=sigmoide_fit,\n",
    "    mode='lines',\n",
    "    name='Fit Sigmoide',\n",
    "    line=dict(color=colors[0]),\n",
    "    showlegend=False\n",
    "))\n",
    "\n",
    "# Dati originali con barre d'errore\n",
    "fig.add_trace(go.Scatter(\n",
    "    x=assex,\n",
    "    y=assey,\n",
    "    mode='markers',\n",
    "    name='Dati Originali',\n",
    "    marker=dict(color=colors[2], size=5),\n",
    "    error_y=dict(\n",
    "        type='data',\n",
    "        array=errors_xV,\n",
    "        visible=True\n",
    "    ),\n",
    "    showlegend=False\n",
    "))\n",
    "\n",
    "fig.update_layout(\n",
    "    xaxis_title=\"C denaturante (M)\",\n",
    "    yaxis_title=\"wavelength (nm)\",\n",
    "    template=\"plotly_white\",\n",
    "    height=500,\n",
    "    width=800    \n",
    ")\n",
    "\n",
    "fig.show()"
   ]
  },
  {
   "cell_type": "code",
   "execution_count": 12,
   "metadata": {
    "vscode": {
     "languageId": "ruby"
    }
   },
   "outputs": [
    {
     "name": "stdout",
     "output_type": "stream",
     "text": [
      "Chi quadro ridotto: 1.91\n",
      "P-value: 0.1054\n"
     ]
    }
   ],
   "source": [
    "\n",
    "y_fit = sigmoide(np.array(assex), *popt1)\n",
    "errors_y = errors_xV  # Errori associati ai dati osservati\n",
    "\n",
    "ChiQ = np.sum(((np.array(assey) - y_fit) / np.array(errors_y))**2)\n",
    "dof = len(assey) - len(popt1)\n",
    "rChiQ = ChiQ / dof\n",
    "p_value = 1 - chi2.cdf(ChiQ, dof)\n",
    "\n",
    "print(f\"Chi quadro ridotto: {rChiQ:.2f}\")\n",
    "print(f\"P-value: {p_value:.4f}\")"
   ]
  }
 ],
 "metadata": {
  "kernelspec": {
   "display_name": "Python 3",
   "language": "python",
   "name": "python3"
  },
  "language_info": {
   "codemirror_mode": {
    "name": "ipython",
    "version": 3
   },
   "file_extension": ".py",
   "mimetype": "text/x-python",
   "name": "python",
   "nbconvert_exporter": "python",
   "pygments_lexer": "ipython3",
   "version": "3.13.0"
  }
 },
 "nbformat": 4,
 "nbformat_minor": 2
}
