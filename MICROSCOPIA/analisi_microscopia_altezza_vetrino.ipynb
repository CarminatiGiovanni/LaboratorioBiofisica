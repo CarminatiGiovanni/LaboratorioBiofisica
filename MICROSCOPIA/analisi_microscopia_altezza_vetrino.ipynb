{
 "cells": [
  {
   "cell_type": "code",
   "execution_count": 27,
   "metadata": {},
   "outputs": [],
   "source": [
    "from matplotlib import pyplot as plt\n",
    "import numpy as np\n",
    "import pandas as pd\n",
    "import plotly.express as px\n",
    "import os\n",
    "import sys\n",
    "import plotly.graph_objects as go \n",
    "dir_path = os.path.abspath('')\n",
    "sys.path.append(dir_path + '/../')\n",
    "from labbiofisica import Interpolazione, final_val\n",
    "\n",
    "from scipy.optimize import curve_fit\n",
    "from scipy.stats import norm\n",
    "import scipy.stats as stats"
   ]
  },
  {
   "cell_type": "markdown",
   "metadata": {},
   "source": [
    "# ALTEZZA VETRINO"
   ]
  },
  {
   "cell_type": "code",
   "execution_count": 28,
   "metadata": {},
   "outputs": [],
   "source": [
    "filename = '/data/reni_Z_cervello.csv'\n",
    "\n",
    "data = pd.read_csv(dir_path + filename)\n",
    "# data.head()"
   ]
  },
  {
   "cell_type": "code",
   "execution_count": 29,
   "metadata": {},
   "outputs": [],
   "source": [
    "def gaussian(x, amp, mu, sigma, fondo):   # funzione gaussiana\n",
    "    return amp * norm.pdf(x,loc = mu,scale = sigma) + fondo"
   ]
  },
  {
   "cell_type": "code",
   "execution_count": 30,
   "metadata": {},
   "outputs": [
    {
     "name": "stdout",
     "output_type": "stream",
     "text": [
      "Parametri del fit: [1.19209211e+04 1.02259283e+01 4.10229949e+00 1.10743005e+02]\n"
     ]
    }
   ],
   "source": [
    "def fittiamo(data):\n",
    "    # Estrai i valori di x e y dai dati\n",
    "    x = data['[micron]'].values\n",
    "    y = data['Mean'].values\n",
    "\n",
    "    # Stima iniziale dei parametri: amp, mu, sigma, fondo\n",
    "    initial_guess = [max(y), x[np.argmax(y)], 1, min(y)]\n",
    "\n",
    "    # Esegui il fit con curve_fit\n",
    "    params, covariance = curve_fit(gaussian, x, y, p0=initial_guess)\n",
    "\n",
    "    # Restituisci i parametri del fit e la matrice di covarianza\n",
    "    return params, covariance\n",
    "\n",
    "# Esempio di utilizzo della funzione\n",
    "popt, pcov = fittiamo(data)\n",
    "print(\"Parametri del fit:\", params)"
   ]
  },
  {
   "cell_type": "code",
   "execution_count": 36,
   "metadata": {},
   "outputs": [],
   "source": [
    "def r_assiale_teorica():\n",
    "    lungh_onda = 632.8\n",
    "    n = 1.47\n",
    "    theta = 72\n",
    "    return 1.4 * lungh_onda / (n * np.sin(theta) ** 2)"
   ]
  },
  {
   "cell_type": "code",
   "execution_count": 37,
   "metadata": {},
   "outputs": [
    {
     "data": {
      "application/vnd.plotly.v1+json": {
       "config": {
        "plotlyServerURL": "https://plot.ly"
       },
       "data": [
        {
         "line": {
          "color": "plum",
          "width": 2
         },
         "mode": "lines",
         "name": "Fit Gaussiano",
         "type": "scatter",
         "x": [
          0,
          0.5035,
          1.0071,
          1.5106,
          2.0142,
          2.5177,
          3.0212,
          3.5248,
          4.0283,
          4.5319,
          5.0354,
          5.5389,
          6.0425,
          6.546,
          7.0496,
          7.5531,
          8.0566,
          8.5602,
          9.0637,
          9.5673,
          10.0708,
          10.5744,
          11.0779,
          11.5814,
          12.085,
          12.5885,
          13.0921,
          13.5956,
          14.0991,
          14.6027,
          15.1062,
          15.6098,
          16.1133
         ],
         "y": [
          162.61144746842325,
          180.6472520022232,
          203.55100980932843,
          232.10981841994254,
          267.0913840332159,
          309.1340451331946,
          358.71832229347706,
          416.0732858578234,
          481.0572648252599,
          553.1718337815018,
          631.4077058933641,
          714.3170852303049,
          799.9847168056547,
          886.0222488370307,
          969.7776663896751,
          1048.3297322831743,
          1118.7648474247112,
          1178.298505420572,
          1224.4299097774033,
          1255.188706664782,
          1269.2055620164938,
          1265.8591133443335,
          1245.3007576704458,
          1208.447150346038,
          1156.9001660795554,
          1092.8748368901527,
          1018.9670063038006,
          938.0753205184726,
          853.120384982292,
          766.9123047468429,
          682.0569280944842,
          600.7220920406816,
          524.6955943931579
         ]
        },
        {
         "marker": {
          "color": "purple",
          "size": 8
         },
         "mode": "markers",
         "name": "Dati originali",
         "type": "scatter",
         "x": [
          0,
          0.5035,
          1.0071,
          1.5106,
          2.0142,
          2.5177,
          3.0212,
          3.5248,
          4.0283,
          4.5319,
          5.0354,
          5.5389,
          6.0425,
          6.546,
          7.0496,
          7.5531,
          8.0566,
          8.5602,
          9.0637,
          9.5673,
          10.0708,
          10.5744,
          11.0779,
          11.5814,
          12.085,
          12.5885,
          13.0921,
          13.5956,
          14.0991,
          14.6027,
          15.1062,
          15.6098,
          16.1133
         ],
         "y": [
          178.004,
          185.809,
          205.298,
          239.698,
          265.129,
          305.582,
          342.76,
          404.591,
          447.156,
          561.12,
          627.627,
          695.12,
          823.422,
          933.707,
          973.547,
          1070.911,
          1095.778,
          1188.342,
          1238.027,
          1227.849,
          1219.289,
          1259.884,
          1229.404,
          1225.556,
          1190.022,
          1117.289,
          1028.267,
          925.436,
          845.978,
          751.582,
          691.72,
          592.436,
          527.484
         ]
        }
       ],
       "layout": {
        "font": {
         "size": 18
        },
        "plot_bgcolor": "white",
        "template": {
         "data": {
          "bar": [
           {
            "error_x": {
             "color": "#2a3f5f"
            },
            "error_y": {
             "color": "#2a3f5f"
            },
            "marker": {
             "line": {
              "color": "#E5ECF6",
              "width": 0.5
             },
             "pattern": {
              "fillmode": "overlay",
              "size": 10,
              "solidity": 0.2
             }
            },
            "type": "bar"
           }
          ],
          "barpolar": [
           {
            "marker": {
             "line": {
              "color": "#E5ECF6",
              "width": 0.5
             },
             "pattern": {
              "fillmode": "overlay",
              "size": 10,
              "solidity": 0.2
             }
            },
            "type": "barpolar"
           }
          ],
          "carpet": [
           {
            "aaxis": {
             "endlinecolor": "#2a3f5f",
             "gridcolor": "white",
             "linecolor": "white",
             "minorgridcolor": "white",
             "startlinecolor": "#2a3f5f"
            },
            "baxis": {
             "endlinecolor": "#2a3f5f",
             "gridcolor": "white",
             "linecolor": "white",
             "minorgridcolor": "white",
             "startlinecolor": "#2a3f5f"
            },
            "type": "carpet"
           }
          ],
          "choropleth": [
           {
            "colorbar": {
             "outlinewidth": 0,
             "ticks": ""
            },
            "type": "choropleth"
           }
          ],
          "contour": [
           {
            "colorbar": {
             "outlinewidth": 0,
             "ticks": ""
            },
            "colorscale": [
             [
              0,
              "#0d0887"
             ],
             [
              0.1111111111111111,
              "#46039f"
             ],
             [
              0.2222222222222222,
              "#7201a8"
             ],
             [
              0.3333333333333333,
              "#9c179e"
             ],
             [
              0.4444444444444444,
              "#bd3786"
             ],
             [
              0.5555555555555556,
              "#d8576b"
             ],
             [
              0.6666666666666666,
              "#ed7953"
             ],
             [
              0.7777777777777778,
              "#fb9f3a"
             ],
             [
              0.8888888888888888,
              "#fdca26"
             ],
             [
              1,
              "#f0f921"
             ]
            ],
            "type": "contour"
           }
          ],
          "contourcarpet": [
           {
            "colorbar": {
             "outlinewidth": 0,
             "ticks": ""
            },
            "type": "contourcarpet"
           }
          ],
          "heatmap": [
           {
            "colorbar": {
             "outlinewidth": 0,
             "ticks": ""
            },
            "colorscale": [
             [
              0,
              "#0d0887"
             ],
             [
              0.1111111111111111,
              "#46039f"
             ],
             [
              0.2222222222222222,
              "#7201a8"
             ],
             [
              0.3333333333333333,
              "#9c179e"
             ],
             [
              0.4444444444444444,
              "#bd3786"
             ],
             [
              0.5555555555555556,
              "#d8576b"
             ],
             [
              0.6666666666666666,
              "#ed7953"
             ],
             [
              0.7777777777777778,
              "#fb9f3a"
             ],
             [
              0.8888888888888888,
              "#fdca26"
             ],
             [
              1,
              "#f0f921"
             ]
            ],
            "type": "heatmap"
           }
          ],
          "heatmapgl": [
           {
            "colorbar": {
             "outlinewidth": 0,
             "ticks": ""
            },
            "colorscale": [
             [
              0,
              "#0d0887"
             ],
             [
              0.1111111111111111,
              "#46039f"
             ],
             [
              0.2222222222222222,
              "#7201a8"
             ],
             [
              0.3333333333333333,
              "#9c179e"
             ],
             [
              0.4444444444444444,
              "#bd3786"
             ],
             [
              0.5555555555555556,
              "#d8576b"
             ],
             [
              0.6666666666666666,
              "#ed7953"
             ],
             [
              0.7777777777777778,
              "#fb9f3a"
             ],
             [
              0.8888888888888888,
              "#fdca26"
             ],
             [
              1,
              "#f0f921"
             ]
            ],
            "type": "heatmapgl"
           }
          ],
          "histogram": [
           {
            "marker": {
             "pattern": {
              "fillmode": "overlay",
              "size": 10,
              "solidity": 0.2
             }
            },
            "type": "histogram"
           }
          ],
          "histogram2d": [
           {
            "colorbar": {
             "outlinewidth": 0,
             "ticks": ""
            },
            "colorscale": [
             [
              0,
              "#0d0887"
             ],
             [
              0.1111111111111111,
              "#46039f"
             ],
             [
              0.2222222222222222,
              "#7201a8"
             ],
             [
              0.3333333333333333,
              "#9c179e"
             ],
             [
              0.4444444444444444,
              "#bd3786"
             ],
             [
              0.5555555555555556,
              "#d8576b"
             ],
             [
              0.6666666666666666,
              "#ed7953"
             ],
             [
              0.7777777777777778,
              "#fb9f3a"
             ],
             [
              0.8888888888888888,
              "#fdca26"
             ],
             [
              1,
              "#f0f921"
             ]
            ],
            "type": "histogram2d"
           }
          ],
          "histogram2dcontour": [
           {
            "colorbar": {
             "outlinewidth": 0,
             "ticks": ""
            },
            "colorscale": [
             [
              0,
              "#0d0887"
             ],
             [
              0.1111111111111111,
              "#46039f"
             ],
             [
              0.2222222222222222,
              "#7201a8"
             ],
             [
              0.3333333333333333,
              "#9c179e"
             ],
             [
              0.4444444444444444,
              "#bd3786"
             ],
             [
              0.5555555555555556,
              "#d8576b"
             ],
             [
              0.6666666666666666,
              "#ed7953"
             ],
             [
              0.7777777777777778,
              "#fb9f3a"
             ],
             [
              0.8888888888888888,
              "#fdca26"
             ],
             [
              1,
              "#f0f921"
             ]
            ],
            "type": "histogram2dcontour"
           }
          ],
          "mesh3d": [
           {
            "colorbar": {
             "outlinewidth": 0,
             "ticks": ""
            },
            "type": "mesh3d"
           }
          ],
          "parcoords": [
           {
            "line": {
             "colorbar": {
              "outlinewidth": 0,
              "ticks": ""
             }
            },
            "type": "parcoords"
           }
          ],
          "pie": [
           {
            "automargin": true,
            "type": "pie"
           }
          ],
          "scatter": [
           {
            "fillpattern": {
             "fillmode": "overlay",
             "size": 10,
             "solidity": 0.2
            },
            "type": "scatter"
           }
          ],
          "scatter3d": [
           {
            "line": {
             "colorbar": {
              "outlinewidth": 0,
              "ticks": ""
             }
            },
            "marker": {
             "colorbar": {
              "outlinewidth": 0,
              "ticks": ""
             }
            },
            "type": "scatter3d"
           }
          ],
          "scattercarpet": [
           {
            "marker": {
             "colorbar": {
              "outlinewidth": 0,
              "ticks": ""
             }
            },
            "type": "scattercarpet"
           }
          ],
          "scattergeo": [
           {
            "marker": {
             "colorbar": {
              "outlinewidth": 0,
              "ticks": ""
             }
            },
            "type": "scattergeo"
           }
          ],
          "scattergl": [
           {
            "marker": {
             "colorbar": {
              "outlinewidth": 0,
              "ticks": ""
             }
            },
            "type": "scattergl"
           }
          ],
          "scattermapbox": [
           {
            "marker": {
             "colorbar": {
              "outlinewidth": 0,
              "ticks": ""
             }
            },
            "type": "scattermapbox"
           }
          ],
          "scatterpolar": [
           {
            "marker": {
             "colorbar": {
              "outlinewidth": 0,
              "ticks": ""
             }
            },
            "type": "scatterpolar"
           }
          ],
          "scatterpolargl": [
           {
            "marker": {
             "colorbar": {
              "outlinewidth": 0,
              "ticks": ""
             }
            },
            "type": "scatterpolargl"
           }
          ],
          "scatterternary": [
           {
            "marker": {
             "colorbar": {
              "outlinewidth": 0,
              "ticks": ""
             }
            },
            "type": "scatterternary"
           }
          ],
          "surface": [
           {
            "colorbar": {
             "outlinewidth": 0,
             "ticks": ""
            },
            "colorscale": [
             [
              0,
              "#0d0887"
             ],
             [
              0.1111111111111111,
              "#46039f"
             ],
             [
              0.2222222222222222,
              "#7201a8"
             ],
             [
              0.3333333333333333,
              "#9c179e"
             ],
             [
              0.4444444444444444,
              "#bd3786"
             ],
             [
              0.5555555555555556,
              "#d8576b"
             ],
             [
              0.6666666666666666,
              "#ed7953"
             ],
             [
              0.7777777777777778,
              "#fb9f3a"
             ],
             [
              0.8888888888888888,
              "#fdca26"
             ],
             [
              1,
              "#f0f921"
             ]
            ],
            "type": "surface"
           }
          ],
          "table": [
           {
            "cells": {
             "fill": {
              "color": "#EBF0F8"
             },
             "line": {
              "color": "white"
             }
            },
            "header": {
             "fill": {
              "color": "#C8D4E3"
             },
             "line": {
              "color": "white"
             }
            },
            "type": "table"
           }
          ]
         },
         "layout": {
          "annotationdefaults": {
           "arrowcolor": "#2a3f5f",
           "arrowhead": 0,
           "arrowwidth": 1
          },
          "autotypenumbers": "strict",
          "coloraxis": {
           "colorbar": {
            "outlinewidth": 0,
            "ticks": ""
           }
          },
          "colorscale": {
           "diverging": [
            [
             0,
             "#8e0152"
            ],
            [
             0.1,
             "#c51b7d"
            ],
            [
             0.2,
             "#de77ae"
            ],
            [
             0.3,
             "#f1b6da"
            ],
            [
             0.4,
             "#fde0ef"
            ],
            [
             0.5,
             "#f7f7f7"
            ],
            [
             0.6,
             "#e6f5d0"
            ],
            [
             0.7,
             "#b8e186"
            ],
            [
             0.8,
             "#7fbc41"
            ],
            [
             0.9,
             "#4d9221"
            ],
            [
             1,
             "#276419"
            ]
           ],
           "sequential": [
            [
             0,
             "#0d0887"
            ],
            [
             0.1111111111111111,
             "#46039f"
            ],
            [
             0.2222222222222222,
             "#7201a8"
            ],
            [
             0.3333333333333333,
             "#9c179e"
            ],
            [
             0.4444444444444444,
             "#bd3786"
            ],
            [
             0.5555555555555556,
             "#d8576b"
            ],
            [
             0.6666666666666666,
             "#ed7953"
            ],
            [
             0.7777777777777778,
             "#fb9f3a"
            ],
            [
             0.8888888888888888,
             "#fdca26"
            ],
            [
             1,
             "#f0f921"
            ]
           ],
           "sequentialminus": [
            [
             0,
             "#0d0887"
            ],
            [
             0.1111111111111111,
             "#46039f"
            ],
            [
             0.2222222222222222,
             "#7201a8"
            ],
            [
             0.3333333333333333,
             "#9c179e"
            ],
            [
             0.4444444444444444,
             "#bd3786"
            ],
            [
             0.5555555555555556,
             "#d8576b"
            ],
            [
             0.6666666666666666,
             "#ed7953"
            ],
            [
             0.7777777777777778,
             "#fb9f3a"
            ],
            [
             0.8888888888888888,
             "#fdca26"
            ],
            [
             1,
             "#f0f921"
            ]
           ]
          },
          "colorway": [
           "#636efa",
           "#EF553B",
           "#00cc96",
           "#ab63fa",
           "#FFA15A",
           "#19d3f3",
           "#FF6692",
           "#B6E880",
           "#FF97FF",
           "#FECB52"
          ],
          "font": {
           "color": "#2a3f5f"
          },
          "geo": {
           "bgcolor": "white",
           "lakecolor": "white",
           "landcolor": "#E5ECF6",
           "showlakes": true,
           "showland": true,
           "subunitcolor": "white"
          },
          "hoverlabel": {
           "align": "left"
          },
          "hovermode": "closest",
          "mapbox": {
           "style": "light"
          },
          "paper_bgcolor": "white",
          "plot_bgcolor": "#E5ECF6",
          "polar": {
           "angularaxis": {
            "gridcolor": "white",
            "linecolor": "white",
            "ticks": ""
           },
           "bgcolor": "#E5ECF6",
           "radialaxis": {
            "gridcolor": "white",
            "linecolor": "white",
            "ticks": ""
           }
          },
          "scene": {
           "xaxis": {
            "backgroundcolor": "#E5ECF6",
            "gridcolor": "white",
            "gridwidth": 2,
            "linecolor": "white",
            "showbackground": true,
            "ticks": "",
            "zerolinecolor": "white"
           },
           "yaxis": {
            "backgroundcolor": "#E5ECF6",
            "gridcolor": "white",
            "gridwidth": 2,
            "linecolor": "white",
            "showbackground": true,
            "ticks": "",
            "zerolinecolor": "white"
           },
           "zaxis": {
            "backgroundcolor": "#E5ECF6",
            "gridcolor": "white",
            "gridwidth": 2,
            "linecolor": "white",
            "showbackground": true,
            "ticks": "",
            "zerolinecolor": "white"
           }
          },
          "shapedefaults": {
           "line": {
            "color": "#2a3f5f"
           }
          },
          "ternary": {
           "aaxis": {
            "gridcolor": "white",
            "linecolor": "white",
            "ticks": ""
           },
           "baxis": {
            "gridcolor": "white",
            "linecolor": "white",
            "ticks": ""
           },
           "bgcolor": "#E5ECF6",
           "caxis": {
            "gridcolor": "white",
            "linecolor": "white",
            "ticks": ""
           }
          },
          "title": {
           "x": 0.05
          },
          "xaxis": {
           "automargin": true,
           "gridcolor": "white",
           "linecolor": "white",
           "ticks": "",
           "title": {
            "standoff": 15
           },
           "zerolinecolor": "white",
           "zerolinewidth": 2
          },
          "yaxis": {
           "automargin": true,
           "gridcolor": "white",
           "linecolor": "white",
           "ticks": "",
           "title": {
            "standoff": 15
           },
           "zerolinecolor": "white",
           "zerolinewidth": 2
          }
         }
        },
        "xaxis": {
         "gridcolor": "lightgrey",
         "linecolor": "black",
         "showline": true,
         "title": {
          "text": "z (μm)"
         }
        },
        "yaxis": {
         "gridcolor": "lightgrey",
         "linecolor": "black",
         "showline": true,
         "title": {
          "text": "Gray Value"
         }
        }
       }
      }
     },
     "metadata": {},
     "output_type": "display_data"
    }
   ],
   "source": [
    "# Define x and y for the Gaussian fit\n",
    "x = data[\"[micron]\"].values\n",
    "y = gaussian(x, *popt)  # Use the Gaussian function with the fitted parameters\n",
    "\n",
    "fig = go.Figure()\n",
    "\n",
    "\n",
    "# Aggiungi la curva gaussiana come linea\n",
    "fig.add_trace(go.Scatter(\n",
    "    x=x,\n",
    "    y=y,\n",
    "    mode='lines',\n",
    "    name='Fit Gaussiano',\n",
    "    line=dict(color='plum', width=2)\n",
    "))\n",
    "\n",
    "# Aggiungi i dati originali come scatter plot\n",
    "fig.add_trace(go.Scatter(\n",
    "    x=data[\"[micron]\"],\n",
    "    y=data[\"Mean\"],\n",
    "    mode='markers',\n",
    "    name='Dati originali',\n",
    "    marker=dict(color='purple', size=8)\n",
    "))\n",
    "\n",
    "\n",
    "# Configura il layout del grafico\n",
    "fig.update_layout(\n",
    "    xaxis_title=\"z (μm)\",\n",
    "    yaxis_title=\"Gray Value\",\n",
    "    plot_bgcolor=\"white\",\n",
    "    font=dict(size=18),\n",
    "    xaxis=dict(showline=True, linecolor=\"black\", gridcolor=\"lightgrey\"),\n",
    "    yaxis=dict(showline=True, linecolor=\"black\", gridcolor=\"lightgrey\")\n",
    ")\n",
    "\n",
    "\n",
    "fig.show()\n"
   ]
  },
  {
   "cell_type": "code",
   "execution_count": 38,
   "metadata": {},
   "outputs": [
    {
     "name": "stdout",
     "output_type": "stream",
     "text": [
      "amp = 11920.92 +- 328.44\n",
      "mu = 10.23 +- 0.03\n",
      "sigma = 4.10 +- 0.07\n",
      "fondo = 110.74 +- 16.23\n",
      "Chi2 = 15.88\n",
      "p-value = 0.98\n"
     ]
    }
   ],
   "source": [
    "# Calculate chi-squared value\n",
    "residuals = data[\"Mean\"].values - gaussian(data[\"[micron]\"].values, *popt)\n",
    "chi2 = np.sum((residuals ** 2) / data[\"Mean\"].values)\n",
    "\n",
    "# Calculate degrees of freedom\n",
    "dof = len(data[\"Mean\"]) - len(popt)\n",
    "\n",
    "# Calculate p-value\n",
    "p_value = 1 - stats.chi2.cdf(chi2, dof)\n",
    "\n",
    "print(f\"amp = {popt[0]:.2f} +- {np.sqrt(pcov[0,0]):.2f}\")\n",
    "print(f\"mu = {popt[1]:.2f} +- {np.sqrt(pcov[1,1]):.2f}\")\n",
    "print(f\"sigma = {popt[2]:.2f} +- {np.sqrt(pcov[2,2]):.2f}\")\n",
    "print(f\"fondo = {popt[3]:.2f} +- {np.sqrt(pcov[3,3]):.2f}\")\n",
    "print(f\"Chi2 = {chi2:.2f}\")\n",
    "print(f\"p-value = {p_value:.2f}\")"
   ]
  },
  {
   "cell_type": "code",
   "execution_count": 39,
   "metadata": {},
   "outputs": [
    {
     "name": "stdout",
     "output_type": "stream",
     "text": [
      "risoluzione assiale: FWHM = 9.66\n"
     ]
    }
   ],
   "source": [
    "from math import sqrt, log\n",
    "\n",
    "# Extract sigma from the fitted parameters\n",
    "sigma = popt[2]\n",
    "\n",
    "# Calculate FWHM\n",
    "fwhm = 2 * sqrt(2 * log(2)) * sigma\n",
    "\n",
    "print(f\"risoluzione assiale: FWHM = {fwhm:.2f}\")"
   ]
  },
  {
   "cell_type": "code",
   "execution_count": 40,
   "metadata": {},
   "outputs": [
    {
     "name": "stdout",
     "output_type": "stream",
     "text": [
      "9354.357948463932\n"
     ]
    }
   ],
   "source": [
    "print(r_assiale_teorica())"
   ]
  },
  {
   "cell_type": "code",
   "execution_count": null,
   "metadata": {},
   "outputs": [],
   "source": []
  }
 ],
 "metadata": {
  "kernelspec": {
   "display_name": "Python 3",
   "language": "python",
   "name": "python3"
  },
  "language_info": {
   "codemirror_mode": {
    "name": "ipython",
    "version": 3
   },
   "file_extension": ".py",
   "mimetype": "text/x-python",
   "name": "python",
   "nbconvert_exporter": "python",
   "pygments_lexer": "ipython3",
   "version": "3.12.3"
  }
 },
 "nbformat": 4,
 "nbformat_minor": 2
}
