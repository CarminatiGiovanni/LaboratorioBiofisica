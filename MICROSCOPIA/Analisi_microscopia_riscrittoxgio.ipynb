{
 "cells": [
  {
   "cell_type": "code",
   "execution_count": 69,
   "id": "c865de3b",
   "metadata": {},
   "outputs": [],
   "source": [
    "from matplotlib import pyplot as plt\n",
    "import numpy as np\n",
    "import pandas as pd\n",
    "import plotly.express as px\n",
    "import os\n",
    "import sys\n",
    "import plotly.graph_objects as go \n",
    "dir_path = os.path.abspath('')\n",
    "sys.path.append(dir_path + '/../')\n",
    "from labbiofisica import Interpolazione, final_val\n",
    "\n",
    "from scipy.optimize import curve_fit\n",
    "from scipy.stats import norm\n",
    "import scipy.stats as stats\n"
   ]
  },
  {
   "cell_type": "code",
   "execution_count": 70,
   "id": "a61975e1",
   "metadata": {},
   "outputs": [],
   "source": [
    "def gaussian(x, amp, mu, sigma, fondo):   # funzione gaussiana\n",
    "    return amp * norm.pdf(x,loc = mu,scale = sigma) + fondo"
   ]
  },
  {
   "cell_type": "code",
   "execution_count": 71,
   "id": "525fc84b",
   "metadata": {},
   "outputs": [],
   "source": [
    "def read(file, s, m):    # funzione di lettura\n",
    "    return np.loadtxt(file, unpack = True, skiprows = s, max_rows = m)"
   ]
  },
  {
   "cell_type": "code",
   "execution_count": 72,
   "id": "6fec4aab",
   "metadata": {},
   "outputs": [],
   "source": [
    "def fittiamo(x_data, y_data, p0 = [1, 1, 1, 1]):    # funzione fit e ottimizzazione\n",
    "    popt, pcov = curve_fit(gaussian, x_data, y_data, p0)\n",
    "    # amp_fit, mu_fit, sigma_fit, offset_fit = popt      giusto per capire cosa spara fuori popt\n",
    "    return popt, pcov    "
   ]
  },
  {
   "cell_type": "code",
   "execution_count": 73,
   "id": "304942a4",
   "metadata": {},
   "outputs": [],
   "source": [
    "def plottiamo_plt(data):    # plot con pyplot\n",
    "    x, y = data\n",
    "    popt, pcov = fittiamo(*data)\n",
    "    plt.plot(*data, label = \"Dati con rumore\", color = 'plum')\n",
    "    plt.plot(x, gaussian(x, *popt), label = \"Fit Gaussiano\", linestyle = '--', color = 'purple')\n",
    "    plt.legend()\n",
    "    plt.xlabel(\"x\")\n",
    "    plt.ylabel(\"y\")\n",
    "    plt.title(f\"amp = {popt[0]:.2f},  mu = {popt[1]:.2f},  sigma = {popt[2]:.2f},  fondo = {popt[3]:.2f}\")\n",
    "    plt.show()"
   ]
  },
  {
   "cell_type": "code",
   "execution_count": 74,
   "id": "bfe2764a",
   "metadata": {},
   "outputs": [],
   "source": [
    "def plottiamo_plotly(data):\n",
    "    \n",
    "    fig = go.Figure()\n",
    "    X, Y = data\n",
    "    popt, pcov = fittiamo(*data)\n",
    "    \n",
    "    fig.add_trace(go.Scatter(x = X, y = Y, mode = 'lines', line_color = 'plum', \n",
    "                             showlegend=False,hoverinfo='skip'))\n",
    "\n",
    "    fig.add_trace(go.Scatter(x = X, y = gaussian(X, *popt), mode='lines',showlegend=False,\n",
    "        marker = dict(color = 'purple')))\n",
    "\n",
    "    fig.update_layout(\n",
    "            yaxis_title = \"Gray Value\",\n",
    "            xaxis_title = \"Distance (μm)\",\n",
    "            # title='g<sup>2</sup>(τ) vs t',\n",
    "            #xaxis = dict(range = [np.log10(0.0001), np.log10(0.010)]),\n",
    "            #width = 800,\n",
    "            #height = 600,\n",
    "            plot_bgcolor = 'white',\n",
    "            font = dict(\n",
    "                #family=\"Courier New, monospace\",\n",
    "                size = 18,\n",
    "                color = \"Black\"\n",
    "            ),\n",
    "                # yaxis=dict(range=[0, 0.06])\n",
    "        )\n",
    "\n",
    "    fig.update_xaxes(\n",
    "        mirror = True,\n",
    "        ticks = 'outside',\n",
    "        showline = True,\n",
    "        linecolor = 'black',\n",
    "        gridcolor = 'lightgrey'\n",
    "    )\n",
    "    fig.update_yaxes(\n",
    "        mirror = True,\n",
    "        ticks = 'outside',\n",
    "        showline = True,\n",
    "        linecolor = 'black',\n",
    "        gridcolor = 'lightgrey'\n",
    "    )\n",
    "    fig.show()\n",
    "    return popt, pcov"
   ]
  },
  {
   "cell_type": "code",
   "execution_count": 75,
   "id": "71bd3143",
   "metadata": {},
   "outputs": [],
   "source": [
    "def risoluz_olio():\n",
    "    n_olio = 1.47\n",
    "    NA = n_olio * np.sin(np.pi / 6)\n",
    "    l_verde = 550\n",
    "    risoluzione_attesa = ((1.22 * l_verde) / (2 * NA)) * 0.6\n",
    "    print(risoluzione_attesa)"
   ]
  },
  {
   "cell_type": "code",
   "execution_count": 76,
   "id": "be2e4fe0",
   "metadata": {},
   "outputs": [],
   "source": [
    "def FWHM(popt):\n",
    "    print(f\"FWHM = {2 * np.sqrt(2 * np.log(2)) * popt[2] * 1000:.2f}\")"
   ]
  },
  {
   "cell_type": "markdown",
   "id": "5304b2ff",
   "metadata": {},
   "source": [
    "# caso 1"
   ]
  },
  {
   "cell_type": "code",
   "execution_count": 79,
   "id": "6ad701eb",
   "metadata": {},
   "outputs": [
    {
     "data": {
      "application/vnd.plotly.v1+json": {
       "config": {
        "plotlyServerURL": "https://plot.ly"
       },
       "data": [
        {
         "hoverinfo": "skip",
         "line": {
          "color": "plum"
         },
         "mode": "lines",
         "showlegend": false,
         "type": "scatter",
         "x": [
          0.37418,
          0.42764,
          0.48109,
          0.53455,
          0.588,
          0.64146,
          0.69491,
          0.74837,
          0.80182,
          0.85528,
          0.90873,
          0.96219,
          1.01564,
          1.0691,
          1.12255,
          1.17601,
          1.22946,
          1.28292,
          1.33637,
          1.38983,
          1.44328,
          1.49674,
          1.55019,
          1.60365,
          1.6571,
          1.71056,
          1.76401,
          1.81747,
          1.87092,
          1.92438,
          1.97783,
          2.03129,
          2.08474,
          2.1382,
          2.19165,
          2.24511,
          2.29856,
          2.35202,
          2.40547,
          2.45892,
          2.51238,
          2.56583,
          2.61929,
          2.67274,
          2.7262,
          2.77965,
          2.83311,
          2.88656,
          2.94002,
          2.99347,
          3.04693,
          3.10038,
          3.15384,
          3.20729,
          3.26075,
          3.3142,
          3.36766,
          3.42111,
          3.47457,
          3.52802,
          3.58148,
          3.63493,
          3.68839,
          3.74184
         ],
         "y": [
          168.495,
          183.354,
          208.245,
          234.447,
          215.561,
          248.818,
          194.829,
          133.229,
          114.004,
          236.526,
          144.251,
          163.825,
          189.098,
          136.009,
          143.506,
          220.175,
          235.624,
          270.57,
          134.609,
          268.43,
          281.846,
          380.544,
          363.069,
          454.731,
          648.624,
          720.214,
          846.768,
          766.008,
          724.261,
          759.546,
          971.344,
          715.623,
          568.997,
          746.828,
          653.281,
          356.208,
          513.671,
          443.412,
          235.728,
          242.684,
          327.469,
          177,
          181.751,
          245.088,
          257.768,
          257.671,
          244.597,
          259.322,
          245.785,
          243.08,
          256.09,
          266.598,
          209.293,
          167.995,
          93.202,
          114.942,
          114.175,
          128.692,
          116.242,
          205.226,
          252.351,
          171.755,
          219.587,
          235.068
         ]
        },
        {
         "marker": {
          "color": "purple"
         },
         "mode": "lines",
         "showlegend": false,
         "type": "scatter",
         "x": [
          0.37418,
          0.42764,
          0.48109,
          0.53455,
          0.588,
          0.64146,
          0.69491,
          0.74837,
          0.80182,
          0.85528,
          0.90873,
          0.96219,
          1.01564,
          1.0691,
          1.12255,
          1.17601,
          1.22946,
          1.28292,
          1.33637,
          1.38983,
          1.44328,
          1.49674,
          1.55019,
          1.60365,
          1.6571,
          1.71056,
          1.76401,
          1.81747,
          1.87092,
          1.92438,
          1.97783,
          2.03129,
          2.08474,
          2.1382,
          2.19165,
          2.24511,
          2.29856,
          2.35202,
          2.40547,
          2.45892,
          2.51238,
          2.56583,
          2.61929,
          2.67274,
          2.7262,
          2.77965,
          2.83311,
          2.88656,
          2.94002,
          2.99347,
          3.04693,
          3.10038,
          3.15384,
          3.20729,
          3.26075,
          3.3142,
          3.36766,
          3.42111,
          3.47457,
          3.52802,
          3.58148,
          3.63493,
          3.68839,
          3.74184
         ],
         "y": [
          192.02573248762735,
          192.02578449619094,
          192.0259410969513,
          192.02639338238697,
          192.02764517643212,
          192.03096761230594,
          192.03941609038245,
          192.06001206826954,
          192.1081016776743,
          192.21570998241603,
          192.4462412973731,
          192.91931983825043,
          193.84826409565937,
          195.59442444491646,
          198.7327818868216,
          204.12741286396437,
          212.98403151361592,
          226.87165559419455,
          247.6354871137679,
          277.2236628083942,
          317.3158675941351,
          368.9050928004575,
          431.71791387346207,
          503.8402927952171,
          581.3952872890152,
          658.77835175888,
          729.1085508647539,
          785.2901285044748,
          821.0851646187889,
          832.3219834437896,
          817.6495156380001,
          778.8185438890671,
          720.3565865666956,
          648.6508134834587,
          570.8779626176203,
          493.7469755261978,
          422.70303683851694,
          361.31255534583374,
          311.2901848235951,
          272.6832733621892,
          244.38436019890997,
          224.65527886213772,
          211.54378255272744,
          203.23424126474234,
          198.20383270082004,
          195.29502791664555,
          193.68624149950082,
          192.83543284945944,
          192.40468280991877,
          192.19599833796536,
          192.09915049567294,
          192.05611837481928,
          192.0377938344015,
          192.03031991514257,
          192.02739741283062,
          192.02630253106554,
          192.02590917108412,
          192.02577373925573,
          192.02572901359488,
          192.02571485628437,
          192.02571055709126,
          192.02570930554913,
          192.02570895596693,
          192.02570886234932
         ]
        }
       ],
       "layout": {
        "font": {
         "color": "Black",
         "size": 18
        },
        "plot_bgcolor": "white",
        "template": {
         "data": {
          "bar": [
           {
            "error_x": {
             "color": "#2a3f5f"
            },
            "error_y": {
             "color": "#2a3f5f"
            },
            "marker": {
             "line": {
              "color": "#E5ECF6",
              "width": 0.5
             },
             "pattern": {
              "fillmode": "overlay",
              "size": 10,
              "solidity": 0.2
             }
            },
            "type": "bar"
           }
          ],
          "barpolar": [
           {
            "marker": {
             "line": {
              "color": "#E5ECF6",
              "width": 0.5
             },
             "pattern": {
              "fillmode": "overlay",
              "size": 10,
              "solidity": 0.2
             }
            },
            "type": "barpolar"
           }
          ],
          "carpet": [
           {
            "aaxis": {
             "endlinecolor": "#2a3f5f",
             "gridcolor": "white",
             "linecolor": "white",
             "minorgridcolor": "white",
             "startlinecolor": "#2a3f5f"
            },
            "baxis": {
             "endlinecolor": "#2a3f5f",
             "gridcolor": "white",
             "linecolor": "white",
             "minorgridcolor": "white",
             "startlinecolor": "#2a3f5f"
            },
            "type": "carpet"
           }
          ],
          "choropleth": [
           {
            "colorbar": {
             "outlinewidth": 0,
             "ticks": ""
            },
            "type": "choropleth"
           }
          ],
          "contour": [
           {
            "colorbar": {
             "outlinewidth": 0,
             "ticks": ""
            },
            "colorscale": [
             [
              0,
              "#0d0887"
             ],
             [
              0.1111111111111111,
              "#46039f"
             ],
             [
              0.2222222222222222,
              "#7201a8"
             ],
             [
              0.3333333333333333,
              "#9c179e"
             ],
             [
              0.4444444444444444,
              "#bd3786"
             ],
             [
              0.5555555555555556,
              "#d8576b"
             ],
             [
              0.6666666666666666,
              "#ed7953"
             ],
             [
              0.7777777777777778,
              "#fb9f3a"
             ],
             [
              0.8888888888888888,
              "#fdca26"
             ],
             [
              1,
              "#f0f921"
             ]
            ],
            "type": "contour"
           }
          ],
          "contourcarpet": [
           {
            "colorbar": {
             "outlinewidth": 0,
             "ticks": ""
            },
            "type": "contourcarpet"
           }
          ],
          "heatmap": [
           {
            "colorbar": {
             "outlinewidth": 0,
             "ticks": ""
            },
            "colorscale": [
             [
              0,
              "#0d0887"
             ],
             [
              0.1111111111111111,
              "#46039f"
             ],
             [
              0.2222222222222222,
              "#7201a8"
             ],
             [
              0.3333333333333333,
              "#9c179e"
             ],
             [
              0.4444444444444444,
              "#bd3786"
             ],
             [
              0.5555555555555556,
              "#d8576b"
             ],
             [
              0.6666666666666666,
              "#ed7953"
             ],
             [
              0.7777777777777778,
              "#fb9f3a"
             ],
             [
              0.8888888888888888,
              "#fdca26"
             ],
             [
              1,
              "#f0f921"
             ]
            ],
            "type": "heatmap"
           }
          ],
          "heatmapgl": [
           {
            "colorbar": {
             "outlinewidth": 0,
             "ticks": ""
            },
            "colorscale": [
             [
              0,
              "#0d0887"
             ],
             [
              0.1111111111111111,
              "#46039f"
             ],
             [
              0.2222222222222222,
              "#7201a8"
             ],
             [
              0.3333333333333333,
              "#9c179e"
             ],
             [
              0.4444444444444444,
              "#bd3786"
             ],
             [
              0.5555555555555556,
              "#d8576b"
             ],
             [
              0.6666666666666666,
              "#ed7953"
             ],
             [
              0.7777777777777778,
              "#fb9f3a"
             ],
             [
              0.8888888888888888,
              "#fdca26"
             ],
             [
              1,
              "#f0f921"
             ]
            ],
            "type": "heatmapgl"
           }
          ],
          "histogram": [
           {
            "marker": {
             "pattern": {
              "fillmode": "overlay",
              "size": 10,
              "solidity": 0.2
             }
            },
            "type": "histogram"
           }
          ],
          "histogram2d": [
           {
            "colorbar": {
             "outlinewidth": 0,
             "ticks": ""
            },
            "colorscale": [
             [
              0,
              "#0d0887"
             ],
             [
              0.1111111111111111,
              "#46039f"
             ],
             [
              0.2222222222222222,
              "#7201a8"
             ],
             [
              0.3333333333333333,
              "#9c179e"
             ],
             [
              0.4444444444444444,
              "#bd3786"
             ],
             [
              0.5555555555555556,
              "#d8576b"
             ],
             [
              0.6666666666666666,
              "#ed7953"
             ],
             [
              0.7777777777777778,
              "#fb9f3a"
             ],
             [
              0.8888888888888888,
              "#fdca26"
             ],
             [
              1,
              "#f0f921"
             ]
            ],
            "type": "histogram2d"
           }
          ],
          "histogram2dcontour": [
           {
            "colorbar": {
             "outlinewidth": 0,
             "ticks": ""
            },
            "colorscale": [
             [
              0,
              "#0d0887"
             ],
             [
              0.1111111111111111,
              "#46039f"
             ],
             [
              0.2222222222222222,
              "#7201a8"
             ],
             [
              0.3333333333333333,
              "#9c179e"
             ],
             [
              0.4444444444444444,
              "#bd3786"
             ],
             [
              0.5555555555555556,
              "#d8576b"
             ],
             [
              0.6666666666666666,
              "#ed7953"
             ],
             [
              0.7777777777777778,
              "#fb9f3a"
             ],
             [
              0.8888888888888888,
              "#fdca26"
             ],
             [
              1,
              "#f0f921"
             ]
            ],
            "type": "histogram2dcontour"
           }
          ],
          "mesh3d": [
           {
            "colorbar": {
             "outlinewidth": 0,
             "ticks": ""
            },
            "type": "mesh3d"
           }
          ],
          "parcoords": [
           {
            "line": {
             "colorbar": {
              "outlinewidth": 0,
              "ticks": ""
             }
            },
            "type": "parcoords"
           }
          ],
          "pie": [
           {
            "automargin": true,
            "type": "pie"
           }
          ],
          "scatter": [
           {
            "fillpattern": {
             "fillmode": "overlay",
             "size": 10,
             "solidity": 0.2
            },
            "type": "scatter"
           }
          ],
          "scatter3d": [
           {
            "line": {
             "colorbar": {
              "outlinewidth": 0,
              "ticks": ""
             }
            },
            "marker": {
             "colorbar": {
              "outlinewidth": 0,
              "ticks": ""
             }
            },
            "type": "scatter3d"
           }
          ],
          "scattercarpet": [
           {
            "marker": {
             "colorbar": {
              "outlinewidth": 0,
              "ticks": ""
             }
            },
            "type": "scattercarpet"
           }
          ],
          "scattergeo": [
           {
            "marker": {
             "colorbar": {
              "outlinewidth": 0,
              "ticks": ""
             }
            },
            "type": "scattergeo"
           }
          ],
          "scattergl": [
           {
            "marker": {
             "colorbar": {
              "outlinewidth": 0,
              "ticks": ""
             }
            },
            "type": "scattergl"
           }
          ],
          "scattermapbox": [
           {
            "marker": {
             "colorbar": {
              "outlinewidth": 0,
              "ticks": ""
             }
            },
            "type": "scattermapbox"
           }
          ],
          "scatterpolar": [
           {
            "marker": {
             "colorbar": {
              "outlinewidth": 0,
              "ticks": ""
             }
            },
            "type": "scatterpolar"
           }
          ],
          "scatterpolargl": [
           {
            "marker": {
             "colorbar": {
              "outlinewidth": 0,
              "ticks": ""
             }
            },
            "type": "scatterpolargl"
           }
          ],
          "scatterternary": [
           {
            "marker": {
             "colorbar": {
              "outlinewidth": 0,
              "ticks": ""
             }
            },
            "type": "scatterternary"
           }
          ],
          "surface": [
           {
            "colorbar": {
             "outlinewidth": 0,
             "ticks": ""
            },
            "colorscale": [
             [
              0,
              "#0d0887"
             ],
             [
              0.1111111111111111,
              "#46039f"
             ],
             [
              0.2222222222222222,
              "#7201a8"
             ],
             [
              0.3333333333333333,
              "#9c179e"
             ],
             [
              0.4444444444444444,
              "#bd3786"
             ],
             [
              0.5555555555555556,
              "#d8576b"
             ],
             [
              0.6666666666666666,
              "#ed7953"
             ],
             [
              0.7777777777777778,
              "#fb9f3a"
             ],
             [
              0.8888888888888888,
              "#fdca26"
             ],
             [
              1,
              "#f0f921"
             ]
            ],
            "type": "surface"
           }
          ],
          "table": [
           {
            "cells": {
             "fill": {
              "color": "#EBF0F8"
             },
             "line": {
              "color": "white"
             }
            },
            "header": {
             "fill": {
              "color": "#C8D4E3"
             },
             "line": {
              "color": "white"
             }
            },
            "type": "table"
           }
          ]
         },
         "layout": {
          "annotationdefaults": {
           "arrowcolor": "#2a3f5f",
           "arrowhead": 0,
           "arrowwidth": 1
          },
          "autotypenumbers": "strict",
          "coloraxis": {
           "colorbar": {
            "outlinewidth": 0,
            "ticks": ""
           }
          },
          "colorscale": {
           "diverging": [
            [
             0,
             "#8e0152"
            ],
            [
             0.1,
             "#c51b7d"
            ],
            [
             0.2,
             "#de77ae"
            ],
            [
             0.3,
             "#f1b6da"
            ],
            [
             0.4,
             "#fde0ef"
            ],
            [
             0.5,
             "#f7f7f7"
            ],
            [
             0.6,
             "#e6f5d0"
            ],
            [
             0.7,
             "#b8e186"
            ],
            [
             0.8,
             "#7fbc41"
            ],
            [
             0.9,
             "#4d9221"
            ],
            [
             1,
             "#276419"
            ]
           ],
           "sequential": [
            [
             0,
             "#0d0887"
            ],
            [
             0.1111111111111111,
             "#46039f"
            ],
            [
             0.2222222222222222,
             "#7201a8"
            ],
            [
             0.3333333333333333,
             "#9c179e"
            ],
            [
             0.4444444444444444,
             "#bd3786"
            ],
            [
             0.5555555555555556,
             "#d8576b"
            ],
            [
             0.6666666666666666,
             "#ed7953"
            ],
            [
             0.7777777777777778,
             "#fb9f3a"
            ],
            [
             0.8888888888888888,
             "#fdca26"
            ],
            [
             1,
             "#f0f921"
            ]
           ],
           "sequentialminus": [
            [
             0,
             "#0d0887"
            ],
            [
             0.1111111111111111,
             "#46039f"
            ],
            [
             0.2222222222222222,
             "#7201a8"
            ],
            [
             0.3333333333333333,
             "#9c179e"
            ],
            [
             0.4444444444444444,
             "#bd3786"
            ],
            [
             0.5555555555555556,
             "#d8576b"
            ],
            [
             0.6666666666666666,
             "#ed7953"
            ],
            [
             0.7777777777777778,
             "#fb9f3a"
            ],
            [
             0.8888888888888888,
             "#fdca26"
            ],
            [
             1,
             "#f0f921"
            ]
           ]
          },
          "colorway": [
           "#636efa",
           "#EF553B",
           "#00cc96",
           "#ab63fa",
           "#FFA15A",
           "#19d3f3",
           "#FF6692",
           "#B6E880",
           "#FF97FF",
           "#FECB52"
          ],
          "font": {
           "color": "#2a3f5f"
          },
          "geo": {
           "bgcolor": "white",
           "lakecolor": "white",
           "landcolor": "#E5ECF6",
           "showlakes": true,
           "showland": true,
           "subunitcolor": "white"
          },
          "hoverlabel": {
           "align": "left"
          },
          "hovermode": "closest",
          "mapbox": {
           "style": "light"
          },
          "paper_bgcolor": "white",
          "plot_bgcolor": "#E5ECF6",
          "polar": {
           "angularaxis": {
            "gridcolor": "white",
            "linecolor": "white",
            "ticks": ""
           },
           "bgcolor": "#E5ECF6",
           "radialaxis": {
            "gridcolor": "white",
            "linecolor": "white",
            "ticks": ""
           }
          },
          "scene": {
           "xaxis": {
            "backgroundcolor": "#E5ECF6",
            "gridcolor": "white",
            "gridwidth": 2,
            "linecolor": "white",
            "showbackground": true,
            "ticks": "",
            "zerolinecolor": "white"
           },
           "yaxis": {
            "backgroundcolor": "#E5ECF6",
            "gridcolor": "white",
            "gridwidth": 2,
            "linecolor": "white",
            "showbackground": true,
            "ticks": "",
            "zerolinecolor": "white"
           },
           "zaxis": {
            "backgroundcolor": "#E5ECF6",
            "gridcolor": "white",
            "gridwidth": 2,
            "linecolor": "white",
            "showbackground": true,
            "ticks": "",
            "zerolinecolor": "white"
           }
          },
          "shapedefaults": {
           "line": {
            "color": "#2a3f5f"
           }
          },
          "ternary": {
           "aaxis": {
            "gridcolor": "white",
            "linecolor": "white",
            "ticks": ""
           },
           "baxis": {
            "gridcolor": "white",
            "linecolor": "white",
            "ticks": ""
           },
           "bgcolor": "#E5ECF6",
           "caxis": {
            "gridcolor": "white",
            "linecolor": "white",
            "ticks": ""
           }
          },
          "title": {
           "x": 0.05
          },
          "xaxis": {
           "automargin": true,
           "gridcolor": "white",
           "linecolor": "white",
           "ticks": "",
           "title": {
            "standoff": 15
           },
           "zerolinecolor": "white",
           "zerolinewidth": 2
          },
          "yaxis": {
           "automargin": true,
           "gridcolor": "white",
           "linecolor": "white",
           "ticks": "",
           "title": {
            "standoff": 15
           },
           "zerolinecolor": "white",
           "zerolinewidth": 2
          }
         }
        },
        "xaxis": {
         "gridcolor": "lightgrey",
         "linecolor": "black",
         "mirror": true,
         "showline": true,
         "ticks": "outside",
         "title": {
          "text": "Distance (μm)"
         }
        },
        "yaxis": {
         "gridcolor": "lightgrey",
         "linecolor": "black",
         "mirror": true,
         "showline": true,
         "ticks": "outside",
         "title": {
          "text": "Gray Value"
         }
        }
       }
      },
      "text/html": [
       "<div>                            <div id=\"4c6a0219-b940-44d0-a33b-87fce722516a\" class=\"plotly-graph-div\" style=\"height:525px; width:100%;\"></div>            <script type=\"text/javascript\">                require([\"plotly\"], function(Plotly) {                    window.PLOTLYENV=window.PLOTLYENV || {};                                    if (document.getElementById(\"4c6a0219-b940-44d0-a33b-87fce722516a\")) {                    Plotly.newPlot(                        \"4c6a0219-b940-44d0-a33b-87fce722516a\",                        [{\"hoverinfo\":\"skip\",\"line\":{\"color\":\"plum\"},\"mode\":\"lines\",\"showlegend\":false,\"x\":[0.37418,0.42764,0.48109,0.53455,0.588,0.64146,0.69491,0.74837,0.80182,0.85528,0.90873,0.96219,1.01564,1.0691,1.12255,1.17601,1.22946,1.28292,1.33637,1.38983,1.44328,1.49674,1.55019,1.60365,1.6571,1.71056,1.76401,1.81747,1.87092,1.92438,1.97783,2.03129,2.08474,2.1382,2.19165,2.24511,2.29856,2.35202,2.40547,2.45892,2.51238,2.56583,2.61929,2.67274,2.7262,2.77965,2.83311,2.88656,2.94002,2.99347,3.04693,3.10038,3.15384,3.20729,3.26075,3.3142,3.36766,3.42111,3.47457,3.52802,3.58148,3.63493,3.68839,3.74184],\"y\":[168.495,183.354,208.245,234.447,215.561,248.818,194.829,133.229,114.004,236.526,144.251,163.825,189.098,136.009,143.506,220.175,235.624,270.57,134.609,268.43,281.846,380.544,363.069,454.731,648.624,720.214,846.768,766.008,724.261,759.546,971.344,715.623,568.997,746.828,653.281,356.208,513.671,443.412,235.728,242.684,327.469,177.0,181.751,245.088,257.768,257.671,244.597,259.322,245.785,243.08,256.09,266.598,209.293,167.995,93.202,114.942,114.175,128.692,116.242,205.226,252.351,171.755,219.587,235.068],\"type\":\"scatter\"},{\"marker\":{\"color\":\"purple\"},\"mode\":\"lines\",\"showlegend\":false,\"x\":[0.37418,0.42764,0.48109,0.53455,0.588,0.64146,0.69491,0.74837,0.80182,0.85528,0.90873,0.96219,1.01564,1.0691,1.12255,1.17601,1.22946,1.28292,1.33637,1.38983,1.44328,1.49674,1.55019,1.60365,1.6571,1.71056,1.76401,1.81747,1.87092,1.92438,1.97783,2.03129,2.08474,2.1382,2.19165,2.24511,2.29856,2.35202,2.40547,2.45892,2.51238,2.56583,2.61929,2.67274,2.7262,2.77965,2.83311,2.88656,2.94002,2.99347,3.04693,3.10038,3.15384,3.20729,3.26075,3.3142,3.36766,3.42111,3.47457,3.52802,3.58148,3.63493,3.68839,3.74184],\"y\":[192.02573248762735,192.02578449619094,192.0259410969513,192.02639338238697,192.02764517643212,192.03096761230594,192.03941609038245,192.06001206826954,192.1081016776743,192.21570998241603,192.4462412973731,192.91931983825043,193.84826409565937,195.59442444491646,198.7327818868216,204.12741286396437,212.98403151361592,226.87165559419455,247.6354871137679,277.2236628083942,317.3158675941351,368.9050928004575,431.71791387346207,503.8402927952171,581.3952872890152,658.77835175888,729.1085508647539,785.2901285044748,821.0851646187889,832.3219834437896,817.6495156380001,778.8185438890671,720.3565865666956,648.6508134834587,570.8779626176203,493.7469755261978,422.70303683851694,361.31255534583374,311.2901848235951,272.6832733621892,244.38436019890997,224.65527886213772,211.54378255272744,203.23424126474234,198.20383270082004,195.29502791664555,193.68624149950082,192.83543284945944,192.40468280991877,192.19599833796536,192.09915049567294,192.05611837481928,192.0377938344015,192.03031991514257,192.02739741283062,192.02630253106554,192.02590917108412,192.02577373925573,192.02572901359488,192.02571485628437,192.02571055709126,192.02570930554913,192.02570895596693,192.02570886234932],\"type\":\"scatter\"}],                        {\"template\":{\"data\":{\"histogram2dcontour\":[{\"type\":\"histogram2dcontour\",\"colorbar\":{\"outlinewidth\":0,\"ticks\":\"\"},\"colorscale\":[[0.0,\"#0d0887\"],[0.1111111111111111,\"#46039f\"],[0.2222222222222222,\"#7201a8\"],[0.3333333333333333,\"#9c179e\"],[0.4444444444444444,\"#bd3786\"],[0.5555555555555556,\"#d8576b\"],[0.6666666666666666,\"#ed7953\"],[0.7777777777777778,\"#fb9f3a\"],[0.8888888888888888,\"#fdca26\"],[1.0,\"#f0f921\"]]}],\"choropleth\":[{\"type\":\"choropleth\",\"colorbar\":{\"outlinewidth\":0,\"ticks\":\"\"}}],\"histogram2d\":[{\"type\":\"histogram2d\",\"colorbar\":{\"outlinewidth\":0,\"ticks\":\"\"},\"colorscale\":[[0.0,\"#0d0887\"],[0.1111111111111111,\"#46039f\"],[0.2222222222222222,\"#7201a8\"],[0.3333333333333333,\"#9c179e\"],[0.4444444444444444,\"#bd3786\"],[0.5555555555555556,\"#d8576b\"],[0.6666666666666666,\"#ed7953\"],[0.7777777777777778,\"#fb9f3a\"],[0.8888888888888888,\"#fdca26\"],[1.0,\"#f0f921\"]]}],\"heatmap\":[{\"type\":\"heatmap\",\"colorbar\":{\"outlinewidth\":0,\"ticks\":\"\"},\"colorscale\":[[0.0,\"#0d0887\"],[0.1111111111111111,\"#46039f\"],[0.2222222222222222,\"#7201a8\"],[0.3333333333333333,\"#9c179e\"],[0.4444444444444444,\"#bd3786\"],[0.5555555555555556,\"#d8576b\"],[0.6666666666666666,\"#ed7953\"],[0.7777777777777778,\"#fb9f3a\"],[0.8888888888888888,\"#fdca26\"],[1.0,\"#f0f921\"]]}],\"heatmapgl\":[{\"type\":\"heatmapgl\",\"colorbar\":{\"outlinewidth\":0,\"ticks\":\"\"},\"colorscale\":[[0.0,\"#0d0887\"],[0.1111111111111111,\"#46039f\"],[0.2222222222222222,\"#7201a8\"],[0.3333333333333333,\"#9c179e\"],[0.4444444444444444,\"#bd3786\"],[0.5555555555555556,\"#d8576b\"],[0.6666666666666666,\"#ed7953\"],[0.7777777777777778,\"#fb9f3a\"],[0.8888888888888888,\"#fdca26\"],[1.0,\"#f0f921\"]]}],\"contourcarpet\":[{\"type\":\"contourcarpet\",\"colorbar\":{\"outlinewidth\":0,\"ticks\":\"\"}}],\"contour\":[{\"type\":\"contour\",\"colorbar\":{\"outlinewidth\":0,\"ticks\":\"\"},\"colorscale\":[[0.0,\"#0d0887\"],[0.1111111111111111,\"#46039f\"],[0.2222222222222222,\"#7201a8\"],[0.3333333333333333,\"#9c179e\"],[0.4444444444444444,\"#bd3786\"],[0.5555555555555556,\"#d8576b\"],[0.6666666666666666,\"#ed7953\"],[0.7777777777777778,\"#fb9f3a\"],[0.8888888888888888,\"#fdca26\"],[1.0,\"#f0f921\"]]}],\"surface\":[{\"type\":\"surface\",\"colorbar\":{\"outlinewidth\":0,\"ticks\":\"\"},\"colorscale\":[[0.0,\"#0d0887\"],[0.1111111111111111,\"#46039f\"],[0.2222222222222222,\"#7201a8\"],[0.3333333333333333,\"#9c179e\"],[0.4444444444444444,\"#bd3786\"],[0.5555555555555556,\"#d8576b\"],[0.6666666666666666,\"#ed7953\"],[0.7777777777777778,\"#fb9f3a\"],[0.8888888888888888,\"#fdca26\"],[1.0,\"#f0f921\"]]}],\"mesh3d\":[{\"type\":\"mesh3d\",\"colorbar\":{\"outlinewidth\":0,\"ticks\":\"\"}}],\"scatter\":[{\"fillpattern\":{\"fillmode\":\"overlay\",\"size\":10,\"solidity\":0.2},\"type\":\"scatter\"}],\"parcoords\":[{\"type\":\"parcoords\",\"line\":{\"colorbar\":{\"outlinewidth\":0,\"ticks\":\"\"}}}],\"scatterpolargl\":[{\"type\":\"scatterpolargl\",\"marker\":{\"colorbar\":{\"outlinewidth\":0,\"ticks\":\"\"}}}],\"bar\":[{\"error_x\":{\"color\":\"#2a3f5f\"},\"error_y\":{\"color\":\"#2a3f5f\"},\"marker\":{\"line\":{\"color\":\"#E5ECF6\",\"width\":0.5},\"pattern\":{\"fillmode\":\"overlay\",\"size\":10,\"solidity\":0.2}},\"type\":\"bar\"}],\"scattergeo\":[{\"type\":\"scattergeo\",\"marker\":{\"colorbar\":{\"outlinewidth\":0,\"ticks\":\"\"}}}],\"scatterpolar\":[{\"type\":\"scatterpolar\",\"marker\":{\"colorbar\":{\"outlinewidth\":0,\"ticks\":\"\"}}}],\"histogram\":[{\"marker\":{\"pattern\":{\"fillmode\":\"overlay\",\"size\":10,\"solidity\":0.2}},\"type\":\"histogram\"}],\"scattergl\":[{\"type\":\"scattergl\",\"marker\":{\"colorbar\":{\"outlinewidth\":0,\"ticks\":\"\"}}}],\"scatter3d\":[{\"type\":\"scatter3d\",\"line\":{\"colorbar\":{\"outlinewidth\":0,\"ticks\":\"\"}},\"marker\":{\"colorbar\":{\"outlinewidth\":0,\"ticks\":\"\"}}}],\"scattermapbox\":[{\"type\":\"scattermapbox\",\"marker\":{\"colorbar\":{\"outlinewidth\":0,\"ticks\":\"\"}}}],\"scatterternary\":[{\"type\":\"scatterternary\",\"marker\":{\"colorbar\":{\"outlinewidth\":0,\"ticks\":\"\"}}}],\"scattercarpet\":[{\"type\":\"scattercarpet\",\"marker\":{\"colorbar\":{\"outlinewidth\":0,\"ticks\":\"\"}}}],\"carpet\":[{\"aaxis\":{\"endlinecolor\":\"#2a3f5f\",\"gridcolor\":\"white\",\"linecolor\":\"white\",\"minorgridcolor\":\"white\",\"startlinecolor\":\"#2a3f5f\"},\"baxis\":{\"endlinecolor\":\"#2a3f5f\",\"gridcolor\":\"white\",\"linecolor\":\"white\",\"minorgridcolor\":\"white\",\"startlinecolor\":\"#2a3f5f\"},\"type\":\"carpet\"}],\"table\":[{\"cells\":{\"fill\":{\"color\":\"#EBF0F8\"},\"line\":{\"color\":\"white\"}},\"header\":{\"fill\":{\"color\":\"#C8D4E3\"},\"line\":{\"color\":\"white\"}},\"type\":\"table\"}],\"barpolar\":[{\"marker\":{\"line\":{\"color\":\"#E5ECF6\",\"width\":0.5},\"pattern\":{\"fillmode\":\"overlay\",\"size\":10,\"solidity\":0.2}},\"type\":\"barpolar\"}],\"pie\":[{\"automargin\":true,\"type\":\"pie\"}]},\"layout\":{\"autotypenumbers\":\"strict\",\"colorway\":[\"#636efa\",\"#EF553B\",\"#00cc96\",\"#ab63fa\",\"#FFA15A\",\"#19d3f3\",\"#FF6692\",\"#B6E880\",\"#FF97FF\",\"#FECB52\"],\"font\":{\"color\":\"#2a3f5f\"},\"hovermode\":\"closest\",\"hoverlabel\":{\"align\":\"left\"},\"paper_bgcolor\":\"white\",\"plot_bgcolor\":\"#E5ECF6\",\"polar\":{\"bgcolor\":\"#E5ECF6\",\"angularaxis\":{\"gridcolor\":\"white\",\"linecolor\":\"white\",\"ticks\":\"\"},\"radialaxis\":{\"gridcolor\":\"white\",\"linecolor\":\"white\",\"ticks\":\"\"}},\"ternary\":{\"bgcolor\":\"#E5ECF6\",\"aaxis\":{\"gridcolor\":\"white\",\"linecolor\":\"white\",\"ticks\":\"\"},\"baxis\":{\"gridcolor\":\"white\",\"linecolor\":\"white\",\"ticks\":\"\"},\"caxis\":{\"gridcolor\":\"white\",\"linecolor\":\"white\",\"ticks\":\"\"}},\"coloraxis\":{\"colorbar\":{\"outlinewidth\":0,\"ticks\":\"\"}},\"colorscale\":{\"sequential\":[[0.0,\"#0d0887\"],[0.1111111111111111,\"#46039f\"],[0.2222222222222222,\"#7201a8\"],[0.3333333333333333,\"#9c179e\"],[0.4444444444444444,\"#bd3786\"],[0.5555555555555556,\"#d8576b\"],[0.6666666666666666,\"#ed7953\"],[0.7777777777777778,\"#fb9f3a\"],[0.8888888888888888,\"#fdca26\"],[1.0,\"#f0f921\"]],\"sequentialminus\":[[0.0,\"#0d0887\"],[0.1111111111111111,\"#46039f\"],[0.2222222222222222,\"#7201a8\"],[0.3333333333333333,\"#9c179e\"],[0.4444444444444444,\"#bd3786\"],[0.5555555555555556,\"#d8576b\"],[0.6666666666666666,\"#ed7953\"],[0.7777777777777778,\"#fb9f3a\"],[0.8888888888888888,\"#fdca26\"],[1.0,\"#f0f921\"]],\"diverging\":[[0,\"#8e0152\"],[0.1,\"#c51b7d\"],[0.2,\"#de77ae\"],[0.3,\"#f1b6da\"],[0.4,\"#fde0ef\"],[0.5,\"#f7f7f7\"],[0.6,\"#e6f5d0\"],[0.7,\"#b8e186\"],[0.8,\"#7fbc41\"],[0.9,\"#4d9221\"],[1,\"#276419\"]]},\"xaxis\":{\"gridcolor\":\"white\",\"linecolor\":\"white\",\"ticks\":\"\",\"title\":{\"standoff\":15},\"zerolinecolor\":\"white\",\"automargin\":true,\"zerolinewidth\":2},\"yaxis\":{\"gridcolor\":\"white\",\"linecolor\":\"white\",\"ticks\":\"\",\"title\":{\"standoff\":15},\"zerolinecolor\":\"white\",\"automargin\":true,\"zerolinewidth\":2},\"scene\":{\"xaxis\":{\"backgroundcolor\":\"#E5ECF6\",\"gridcolor\":\"white\",\"linecolor\":\"white\",\"showbackground\":true,\"ticks\":\"\",\"zerolinecolor\":\"white\",\"gridwidth\":2},\"yaxis\":{\"backgroundcolor\":\"#E5ECF6\",\"gridcolor\":\"white\",\"linecolor\":\"white\",\"showbackground\":true,\"ticks\":\"\",\"zerolinecolor\":\"white\",\"gridwidth\":2},\"zaxis\":{\"backgroundcolor\":\"#E5ECF6\",\"gridcolor\":\"white\",\"linecolor\":\"white\",\"showbackground\":true,\"ticks\":\"\",\"zerolinecolor\":\"white\",\"gridwidth\":2}},\"shapedefaults\":{\"line\":{\"color\":\"#2a3f5f\"}},\"annotationdefaults\":{\"arrowcolor\":\"#2a3f5f\",\"arrowhead\":0,\"arrowwidth\":1},\"geo\":{\"bgcolor\":\"white\",\"landcolor\":\"#E5ECF6\",\"subunitcolor\":\"white\",\"showland\":true,\"showlakes\":true,\"lakecolor\":\"white\"},\"title\":{\"x\":0.05},\"mapbox\":{\"style\":\"light\"}}},\"font\":{\"size\":18,\"color\":\"Black\"},\"yaxis\":{\"title\":{\"text\":\"Gray Value\"},\"mirror\":true,\"ticks\":\"outside\",\"showline\":true,\"linecolor\":\"black\",\"gridcolor\":\"lightgrey\"},\"xaxis\":{\"title\":{\"text\":\"Distance (\\u03bcm)\"},\"mirror\":true,\"ticks\":\"outside\",\"showline\":true,\"linecolor\":\"black\",\"gridcolor\":\"lightgrey\"},\"plot_bgcolor\":\"white\"},                        {\"responsive\": true}                    ).then(function(){\n",
       "                            \n",
       "var gd = document.getElementById('4c6a0219-b940-44d0-a33b-87fce722516a');\n",
       "var x = new MutationObserver(function (mutations, observer) {{\n",
       "        var display = window.getComputedStyle(gd).display;\n",
       "        if (!display || display === 'none') {{\n",
       "            console.log([gd, 'removed!']);\n",
       "            Plotly.purge(gd);\n",
       "            observer.disconnect();\n",
       "        }}\n",
       "}});\n",
       "\n",
       "// Listen for the removal of the full notebook cells\n",
       "var notebookContainer = gd.closest('#notebook-container');\n",
       "if (notebookContainer) {{\n",
       "    x.observe(notebookContainer, {childList: true});\n",
       "}}\n",
       "\n",
       "// Listen for the clearing of the current output cell\n",
       "var outputEl = gd.closest('.output');\n",
       "if (outputEl) {{\n",
       "    x.observe(outputEl, {childList: true});\n",
       "}}\n",
       "\n",
       "                        })                };                });            </script>        </div>"
      ]
     },
     "metadata": {},
     "output_type": "display_data"
    },
    {
     "name": "stdout",
     "output_type": "stream",
     "text": [
      "FWHM = 622.52\n"
     ]
    }
   ],
   "source": [
    "skiprows1 = 8\n",
    "maxrows1 = 64\n",
    "\n",
    "data1 = np.array(read(f'dati1_2.txt', skiprows1, maxrows1))\n",
    "popt1, pcov1 = plottiamo_plotly(data1)  # scegliere plotly o pyplot\n",
    "FWHM(popt1)"
   ]
  },
  {
   "cell_type": "markdown",
   "id": "6b7309db",
   "metadata": {},
   "source": [
    "# caso 2"
   ]
  },
  {
   "cell_type": "code",
   "execution_count": 82,
   "id": "7e2461ba",
   "metadata": {},
   "outputs": [
    {
     "data": {
      "application/vnd.plotly.v1+json": {
       "config": {
        "plotlyServerURL": "https://plot.ly"
       },
       "data": [
        {
         "hoverinfo": "skip",
         "line": {
          "color": "plum"
         },
         "mode": "lines",
         "showlegend": false,
         "type": "scatter",
         "x": [
          0.20826,
          0.21251,
          0.21676,
          0.22101,
          0.22526,
          0.22951,
          0.23376,
          0.23801,
          0.24226,
          0.24651,
          0.25076,
          0.25501,
          0.25926,
          0.26351,
          0.26776,
          0.27201,
          0.27626,
          0.28051,
          0.28476,
          0.28901,
          0.29326,
          0.29752,
          0.30177,
          0.30602,
          0.31027,
          0.31452,
          0.31877,
          0.32302,
          0.32727,
          0.33152,
          0.33577,
          0.34002,
          0.34427,
          0.34852,
          0.35277,
          0.35702,
          0.36127,
          0.36552,
          0.36977,
          0.37402,
          0.37827,
          0.38252,
          0.38677,
          0.39102,
          0.39527,
          0.39952,
          0.40377,
          0.40802,
          0.41227,
          0.41652,
          0.42077,
          0.42502,
          0.42927,
          0.43352,
          0.43777,
          0.44202,
          0.44627,
          0.45052,
          0.45477,
          0.45902,
          0.46327,
          0.46752,
          0.47177,
          0.47602,
          0.48027,
          0.48452,
          0.48877,
          0.49303,
          0.49728,
          0.50153,
          0.50578,
          0.51003,
          0.51428,
          0.51853,
          0.52278,
          0.52703,
          0.53128,
          0.53553,
          0.53978,
          0.54403,
          0.54828,
          0.55253,
          0.55678,
          0.56103,
          0.56528,
          0.56953,
          0.57378,
          0.57803,
          0.58228,
          0.58653,
          0.59078,
          0.59503,
          0.59928,
          0.60353,
          0.60778,
          0.61203,
          0.61628,
          0.62053,
          0.62478,
          0.62903,
          0.63328,
          0.63753,
          0.64178,
          0.64603,
          0.65028,
          0.65453,
          0.65878,
          0.66303,
          0.66728,
          0.67153,
          0.67578,
          0.68003,
          0.68428,
          0.68854,
          0.69279,
          0.69704,
          0.70129,
          0.70554,
          0.70979,
          0.71404,
          0.71829,
          0.72254,
          0.72679,
          0.73104,
          0.73529,
          0.73954,
          0.74379,
          0.74804,
          0.75229,
          0.75654,
          0.76079,
          0.76504,
          0.76929,
          0.77354,
          0.77779,
          0.78204,
          0.78629,
          0.79054,
          0.79479,
          0.79904,
          0.80329,
          0.80754,
          0.81179,
          0.81604,
          0.82029,
          0.82454,
          0.82879,
          0.83304,
          0.83729,
          0.84154,
          0.84579,
          0.85004,
          0.85429,
          0.85854,
          0.86279,
          0.86704,
          0.87129,
          0.87554,
          0.8798,
          0.88405,
          0.8883,
          0.89255,
          0.8968,
          0.90105,
          0.9053,
          0.90955,
          0.9138,
          0.91805,
          0.9223,
          0.92655,
          0.9308,
          0.93505,
          0.9393,
          0.94355,
          0.9478,
          0.95205,
          0.9563,
          0.96055,
          0.9648,
          0.96905,
          0.9733,
          0.97755,
          0.9818,
          0.98605,
          0.9903,
          0.99455,
          0.9988,
          1.00305,
          1.0073,
          1.01155,
          1.0158,
          1.02005,
          1.0243,
          1.02855,
          1.0328,
          1.03705,
          1.0413,
          1.04555,
          1.0498,
          1.05405
         ],
         "y": [
          15.212,
          0,
          22.006,
          7.145,
          7.456,
          3.023,
          104.854,
          120.139,
          107,
          42.8,
          46.393,
          46.82,
          738,
          80.086,
          88.979,
          36.309,
          28.499,
          17.13,
          0,
          51.726,
          48.81,
          55.345,
          52.393,
          0,
          23.085,
          53.065,
          45.803,
          97.164,
          244.678,
          134.149,
          31.573,
          53.691,
          54.928,
          61.93,
          61.248,
          88.989,
          119.797,
          129.164,
          132.32,
          54.21,
          49.553,
          52.673,
          3.023,
          36.953,
          62.994,
          47.701,
          55.218,
          77.198,
          117.164,
          89.182,
          36.888,
          170.392,
          235.266,
          172.923,
          75.13,
          37.798,
          198.162,
          308.193,
          315.593,
          253.967,
          201.335,
          187.414,
          109.122,
          143.367,
          132.029,
          162.932,
          356.704,
          435.08,
          183.427,
          366.268,
          525.266,
          497.427,
          429.711,
          552.439,
          178.388,
          487.776,
          556.834,
          656.838,
          443.587,
          795.986,
          747.263,
          352.309,
          554.218,
          562.119,
          761.718,
          594.74,
          821.402,
          704.668,
          837.951,
          732.534,
          645.365,
          788.364,
          916.363,
          1164.258,
          821.925,
          891.89,
          426,
          440.787,
          897.981,
          730.291,
          636.226,
          951.05,
          943.343,
          1058.375,
          1224.46,
          1015.55,
          693.206,
          501.43,
          752.171,
          693.713,
          536.397,
          1001,
          505.915,
          796.021,
          569.636,
          959.558,
          901.668,
          895.038,
          772.206,
          495.571,
          468.215,
          466.42,
          645.272,
          477.38,
          599.732,
          477.4,
          572.369,
          308.091,
          518.272,
          405.662,
          492.869,
          414.241,
          488.666,
          214.383,
          261.966,
          258.961,
          264.589,
          388.574,
          236.934,
          363.392,
          334.69,
          290.332,
          315.988,
          274.743,
          95.981,
          115.577,
          95.741,
          214.692,
          150.055,
          131.984,
          138.387,
          98.603,
          194.256,
          168.395,
          196.52,
          253.344,
          150.862,
          45.441,
          7.603,
          42.6,
          59.393,
          114.094,
          175.717,
          125.601,
          18.549,
          58.19,
          97.458,
          128.782,
          129.488,
          203.633,
          220.754,
          115.823,
          255.274,
          256.602,
          79.279,
          72.39,
          55.345,
          41.324,
          39.055,
          15.135,
          45.441,
          62.724,
          23.311,
          68.24,
          96.088,
          115.022,
          52.673,
          3.023,
          39.11,
          68.628,
          0,
          0,
          15.212,
          30.993,
          16.972,
          2.015,
          3.435,
          25.09,
          67.59,
          76.173
         ]
        },
        {
         "marker": {
          "color": "purple"
         },
         "mode": "lines",
         "showlegend": false,
         "type": "scatter",
         "x": [
          0.20826,
          0.21251,
          0.21676,
          0.22101,
          0.22526,
          0.22951,
          0.23376,
          0.23801,
          0.24226,
          0.24651,
          0.25076,
          0.25501,
          0.25926,
          0.26351,
          0.26776,
          0.27201,
          0.27626,
          0.28051,
          0.28476,
          0.28901,
          0.29326,
          0.29752,
          0.30177,
          0.30602,
          0.31027,
          0.31452,
          0.31877,
          0.32302,
          0.32727,
          0.33152,
          0.33577,
          0.34002,
          0.34427,
          0.34852,
          0.35277,
          0.35702,
          0.36127,
          0.36552,
          0.36977,
          0.37402,
          0.37827,
          0.38252,
          0.38677,
          0.39102,
          0.39527,
          0.39952,
          0.40377,
          0.40802,
          0.41227,
          0.41652,
          0.42077,
          0.42502,
          0.42927,
          0.43352,
          0.43777,
          0.44202,
          0.44627,
          0.45052,
          0.45477,
          0.45902,
          0.46327,
          0.46752,
          0.47177,
          0.47602,
          0.48027,
          0.48452,
          0.48877,
          0.49303,
          0.49728,
          0.50153,
          0.50578,
          0.51003,
          0.51428,
          0.51853,
          0.52278,
          0.52703,
          0.53128,
          0.53553,
          0.53978,
          0.54403,
          0.54828,
          0.55253,
          0.55678,
          0.56103,
          0.56528,
          0.56953,
          0.57378,
          0.57803,
          0.58228,
          0.58653,
          0.59078,
          0.59503,
          0.59928,
          0.60353,
          0.60778,
          0.61203,
          0.61628,
          0.62053,
          0.62478,
          0.62903,
          0.63328,
          0.63753,
          0.64178,
          0.64603,
          0.65028,
          0.65453,
          0.65878,
          0.66303,
          0.66728,
          0.67153,
          0.67578,
          0.68003,
          0.68428,
          0.68854,
          0.69279,
          0.69704,
          0.70129,
          0.70554,
          0.70979,
          0.71404,
          0.71829,
          0.72254,
          0.72679,
          0.73104,
          0.73529,
          0.73954,
          0.74379,
          0.74804,
          0.75229,
          0.75654,
          0.76079,
          0.76504,
          0.76929,
          0.77354,
          0.77779,
          0.78204,
          0.78629,
          0.79054,
          0.79479,
          0.79904,
          0.80329,
          0.80754,
          0.81179,
          0.81604,
          0.82029,
          0.82454,
          0.82879,
          0.83304,
          0.83729,
          0.84154,
          0.84579,
          0.85004,
          0.85429,
          0.85854,
          0.86279,
          0.86704,
          0.87129,
          0.87554,
          0.8798,
          0.88405,
          0.8883,
          0.89255,
          0.8968,
          0.90105,
          0.9053,
          0.90955,
          0.9138,
          0.91805,
          0.9223,
          0.92655,
          0.9308,
          0.93505,
          0.9393,
          0.94355,
          0.9478,
          0.95205,
          0.9563,
          0.96055,
          0.9648,
          0.96905,
          0.9733,
          0.97755,
          0.9818,
          0.98605,
          0.9903,
          0.99455,
          0.9988,
          1.00305,
          1.0073,
          1.01155,
          1.0158,
          1.02005,
          1.0243,
          1.02855,
          1.0328,
          1.03705,
          1.0413,
          1.04555,
          1.0498,
          1.05405
         ],
         "y": [
          66.45697663560328,
          66.46667571347969,
          66.47829718089929,
          66.49219412412263,
          66.50877870477642,
          66.52853091421014,
          66.5520084166184,
          66.57985757980529,
          66.61282579517169,
          66.65177519006002,
          66.69769783573261,
          66.75173255270708,
          66.81518341162224,
          66.88954002193883,
          66.97649969225701,
          67.07799153451478,
          67.19620256947015,
          67.33360587232765,
          67.4929907748174,
          67.6774951131697,
          67.89063947998334,
          68.13698336080773,
          68.4197758512242,
          68.74444945691718,
          69.11643606726338,
          69.54174745908874,
          70.02701831181008,
          70.57954963793603,
          71.2073521600596,
          71.91918909313546,
          72.72461771615669,
          73.63402904134443,
          74.65868481283638,
          75.81075099198449,
          77.10332681430874,
          78.55046843562786,
          80.16720612378649,
          81.96955389974127,
          83.97451048968455,
          86.2000504205873,
          88.6651040772759,
          91.3895255421665,
          94.39404706125086,
          97.70021902393523,
          101.3303344117765,
          105.3073367637108,
          109.65471082438543,
          114.39635518868235,
          119.55643643002247,
          125.15922440261984,
          131.2289086380248,
          137.78939601294138,
          144.86409014668268,
          152.4756532902892,
          160.64575179213801,
          169.3947865629798,
          178.74161031218955,
          188.70323368142851,
          199.29452275603765,
          210.52789078197588,
          222.41298725013974,
          234.9563878232734,
          248.1612888660188,
          262.0272105884492,
          276.5497130202905,
          291.720129189762,
          307.52531998082,
          323.98680612530086,
          341.0045436175153,
          358.58870238573047,
          376.70638135916283,
          395.31946188293784,
          414.38458376304163,
          433.8531712665218,
          453.6715117647565,
          473.7808891441755,
          494.117773479477,
          514.6140677765169,
          535.1974118545064,
          555.7915426602672,
          576.3167095027268,
          596.6901418762912,
          616.8265667209234,
          636.6387711589233,
          656.0382059683085,
          674.9356243149804,
          693.2417495851884,
          710.8679655500146,
          727.7270215678865,
          743.7337451013515,
          758.8057535009762,
          772.8641568009925,
          785.8342431848954,
          797.6461388191946,
          808.235433922178,
          817.543767231627,
          825.5193614583574,
          832.1175028560455,
          837.3009586945766,
          841.0403271843131,
          843.3143152503205,
          844.1099404849751,
          843.422654599096,
          841.2563867291744,
          837.6235060237642,
          832.5447040074797,
          826.048798287878,
          818.1724602105961,
          808.9598700637459,
          798.4623043670551,
          786.7376606390466,
          773.8499258028315,
          759.86859505577,
          744.8316123989003,
          728.8883401515744,
          712.0868076346088,
          694.5120133645414,
          676.2510844338582,
          657.3925637784581,
          638.0257041994454,
          618.239776889497,
          598.1234017914952,
          577.7639065977908,
          557.2467205942261,
          536.6548088769027,
          516.0681517355717,
          495.56327321990216,
          475.2128220985528,
          455.085207600594,
          435.2442915087305,
          415.749137367735,
          396.65381679224083,
          378.0072721173825,
          359.85323394405543,
          342.23019149685945,
          325.1714131444571,
          308.7050139350132,
          292.85406657772387,
          277.63675195775204,
          263.0665450071358,
          249.15243156782591,
          235.89915177302774,
          223.30746543619685,
          211.37443496900067,
          200.09372144501714,
          189.4558895787239,
          179.44871759277197,
          170.0575081934411,
          161.2653971571723,
          153.05365634264484,
          145.40198827563194,
          138.28880980060646,
          131.69152264693395,
          125.58676911208175,
          119.95067141371521,
          114.759053601605,
          109.98764524433284,
          105.6122664109568,
          101.59999448082564,
          97.94610132849567,
          94.61775443430946,
          91.59261157235049,
          88.8490671505809,
          86.36632889809337,
          84.12447895054129,
          82.10452037299909,
          80.28841022867164,
          78.65908034747672,
          77.20044697245272,
          75.89741046625677,
          74.73584624690315,
          73.70258809358047,
          72.78540492213668,
          71.97297207783845,
          71.25483813244101,
          70.62138810546871,
          70.06380395780523,
          69.57402313096314,
          69.14469582931508,
          68.76914166651815,
          68.44130622255506,
          68.1557179852813,
          67.90744608095464,
          67.69205913261189,
          67.50558552386708,
          67.34447528910555,
          67.20556379937507,
          67.08603736664556,
          66.9834008475296,
          66.89544729095114,
          66.82022964245894,
          66.75603449069096,
          66.7013578186379,
          66.65488270352934,
          66.61545889404742,
          66.58208418182225,
          66.55388747543353,
          66.53011347909151,
          66.51010887446198,
          66.49330990241121
         ]
        }
       ],
       "layout": {
        "font": {
         "color": "Black",
         "size": 18
        },
        "plot_bgcolor": "white",
        "template": {
         "data": {
          "bar": [
           {
            "error_x": {
             "color": "#2a3f5f"
            },
            "error_y": {
             "color": "#2a3f5f"
            },
            "marker": {
             "line": {
              "color": "#E5ECF6",
              "width": 0.5
             },
             "pattern": {
              "fillmode": "overlay",
              "size": 10,
              "solidity": 0.2
             }
            },
            "type": "bar"
           }
          ],
          "barpolar": [
           {
            "marker": {
             "line": {
              "color": "#E5ECF6",
              "width": 0.5
             },
             "pattern": {
              "fillmode": "overlay",
              "size": 10,
              "solidity": 0.2
             }
            },
            "type": "barpolar"
           }
          ],
          "carpet": [
           {
            "aaxis": {
             "endlinecolor": "#2a3f5f",
             "gridcolor": "white",
             "linecolor": "white",
             "minorgridcolor": "white",
             "startlinecolor": "#2a3f5f"
            },
            "baxis": {
             "endlinecolor": "#2a3f5f",
             "gridcolor": "white",
             "linecolor": "white",
             "minorgridcolor": "white",
             "startlinecolor": "#2a3f5f"
            },
            "type": "carpet"
           }
          ],
          "choropleth": [
           {
            "colorbar": {
             "outlinewidth": 0,
             "ticks": ""
            },
            "type": "choropleth"
           }
          ],
          "contour": [
           {
            "colorbar": {
             "outlinewidth": 0,
             "ticks": ""
            },
            "colorscale": [
             [
              0,
              "#0d0887"
             ],
             [
              0.1111111111111111,
              "#46039f"
             ],
             [
              0.2222222222222222,
              "#7201a8"
             ],
             [
              0.3333333333333333,
              "#9c179e"
             ],
             [
              0.4444444444444444,
              "#bd3786"
             ],
             [
              0.5555555555555556,
              "#d8576b"
             ],
             [
              0.6666666666666666,
              "#ed7953"
             ],
             [
              0.7777777777777778,
              "#fb9f3a"
             ],
             [
              0.8888888888888888,
              "#fdca26"
             ],
             [
              1,
              "#f0f921"
             ]
            ],
            "type": "contour"
           }
          ],
          "contourcarpet": [
           {
            "colorbar": {
             "outlinewidth": 0,
             "ticks": ""
            },
            "type": "contourcarpet"
           }
          ],
          "heatmap": [
           {
            "colorbar": {
             "outlinewidth": 0,
             "ticks": ""
            },
            "colorscale": [
             [
              0,
              "#0d0887"
             ],
             [
              0.1111111111111111,
              "#46039f"
             ],
             [
              0.2222222222222222,
              "#7201a8"
             ],
             [
              0.3333333333333333,
              "#9c179e"
             ],
             [
              0.4444444444444444,
              "#bd3786"
             ],
             [
              0.5555555555555556,
              "#d8576b"
             ],
             [
              0.6666666666666666,
              "#ed7953"
             ],
             [
              0.7777777777777778,
              "#fb9f3a"
             ],
             [
              0.8888888888888888,
              "#fdca26"
             ],
             [
              1,
              "#f0f921"
             ]
            ],
            "type": "heatmap"
           }
          ],
          "heatmapgl": [
           {
            "colorbar": {
             "outlinewidth": 0,
             "ticks": ""
            },
            "colorscale": [
             [
              0,
              "#0d0887"
             ],
             [
              0.1111111111111111,
              "#46039f"
             ],
             [
              0.2222222222222222,
              "#7201a8"
             ],
             [
              0.3333333333333333,
              "#9c179e"
             ],
             [
              0.4444444444444444,
              "#bd3786"
             ],
             [
              0.5555555555555556,
              "#d8576b"
             ],
             [
              0.6666666666666666,
              "#ed7953"
             ],
             [
              0.7777777777777778,
              "#fb9f3a"
             ],
             [
              0.8888888888888888,
              "#fdca26"
             ],
             [
              1,
              "#f0f921"
             ]
            ],
            "type": "heatmapgl"
           }
          ],
          "histogram": [
           {
            "marker": {
             "pattern": {
              "fillmode": "overlay",
              "size": 10,
              "solidity": 0.2
             }
            },
            "type": "histogram"
           }
          ],
          "histogram2d": [
           {
            "colorbar": {
             "outlinewidth": 0,
             "ticks": ""
            },
            "colorscale": [
             [
              0,
              "#0d0887"
             ],
             [
              0.1111111111111111,
              "#46039f"
             ],
             [
              0.2222222222222222,
              "#7201a8"
             ],
             [
              0.3333333333333333,
              "#9c179e"
             ],
             [
              0.4444444444444444,
              "#bd3786"
             ],
             [
              0.5555555555555556,
              "#d8576b"
             ],
             [
              0.6666666666666666,
              "#ed7953"
             ],
             [
              0.7777777777777778,
              "#fb9f3a"
             ],
             [
              0.8888888888888888,
              "#fdca26"
             ],
             [
              1,
              "#f0f921"
             ]
            ],
            "type": "histogram2d"
           }
          ],
          "histogram2dcontour": [
           {
            "colorbar": {
             "outlinewidth": 0,
             "ticks": ""
            },
            "colorscale": [
             [
              0,
              "#0d0887"
             ],
             [
              0.1111111111111111,
              "#46039f"
             ],
             [
              0.2222222222222222,
              "#7201a8"
             ],
             [
              0.3333333333333333,
              "#9c179e"
             ],
             [
              0.4444444444444444,
              "#bd3786"
             ],
             [
              0.5555555555555556,
              "#d8576b"
             ],
             [
              0.6666666666666666,
              "#ed7953"
             ],
             [
              0.7777777777777778,
              "#fb9f3a"
             ],
             [
              0.8888888888888888,
              "#fdca26"
             ],
             [
              1,
              "#f0f921"
             ]
            ],
            "type": "histogram2dcontour"
           }
          ],
          "mesh3d": [
           {
            "colorbar": {
             "outlinewidth": 0,
             "ticks": ""
            },
            "type": "mesh3d"
           }
          ],
          "parcoords": [
           {
            "line": {
             "colorbar": {
              "outlinewidth": 0,
              "ticks": ""
             }
            },
            "type": "parcoords"
           }
          ],
          "pie": [
           {
            "automargin": true,
            "type": "pie"
           }
          ],
          "scatter": [
           {
            "fillpattern": {
             "fillmode": "overlay",
             "size": 10,
             "solidity": 0.2
            },
            "type": "scatter"
           }
          ],
          "scatter3d": [
           {
            "line": {
             "colorbar": {
              "outlinewidth": 0,
              "ticks": ""
             }
            },
            "marker": {
             "colorbar": {
              "outlinewidth": 0,
              "ticks": ""
             }
            },
            "type": "scatter3d"
           }
          ],
          "scattercarpet": [
           {
            "marker": {
             "colorbar": {
              "outlinewidth": 0,
              "ticks": ""
             }
            },
            "type": "scattercarpet"
           }
          ],
          "scattergeo": [
           {
            "marker": {
             "colorbar": {
              "outlinewidth": 0,
              "ticks": ""
             }
            },
            "type": "scattergeo"
           }
          ],
          "scattergl": [
           {
            "marker": {
             "colorbar": {
              "outlinewidth": 0,
              "ticks": ""
             }
            },
            "type": "scattergl"
           }
          ],
          "scattermapbox": [
           {
            "marker": {
             "colorbar": {
              "outlinewidth": 0,
              "ticks": ""
             }
            },
            "type": "scattermapbox"
           }
          ],
          "scatterpolar": [
           {
            "marker": {
             "colorbar": {
              "outlinewidth": 0,
              "ticks": ""
             }
            },
            "type": "scatterpolar"
           }
          ],
          "scatterpolargl": [
           {
            "marker": {
             "colorbar": {
              "outlinewidth": 0,
              "ticks": ""
             }
            },
            "type": "scatterpolargl"
           }
          ],
          "scatterternary": [
           {
            "marker": {
             "colorbar": {
              "outlinewidth": 0,
              "ticks": ""
             }
            },
            "type": "scatterternary"
           }
          ],
          "surface": [
           {
            "colorbar": {
             "outlinewidth": 0,
             "ticks": ""
            },
            "colorscale": [
             [
              0,
              "#0d0887"
             ],
             [
              0.1111111111111111,
              "#46039f"
             ],
             [
              0.2222222222222222,
              "#7201a8"
             ],
             [
              0.3333333333333333,
              "#9c179e"
             ],
             [
              0.4444444444444444,
              "#bd3786"
             ],
             [
              0.5555555555555556,
              "#d8576b"
             ],
             [
              0.6666666666666666,
              "#ed7953"
             ],
             [
              0.7777777777777778,
              "#fb9f3a"
             ],
             [
              0.8888888888888888,
              "#fdca26"
             ],
             [
              1,
              "#f0f921"
             ]
            ],
            "type": "surface"
           }
          ],
          "table": [
           {
            "cells": {
             "fill": {
              "color": "#EBF0F8"
             },
             "line": {
              "color": "white"
             }
            },
            "header": {
             "fill": {
              "color": "#C8D4E3"
             },
             "line": {
              "color": "white"
             }
            },
            "type": "table"
           }
          ]
         },
         "layout": {
          "annotationdefaults": {
           "arrowcolor": "#2a3f5f",
           "arrowhead": 0,
           "arrowwidth": 1
          },
          "autotypenumbers": "strict",
          "coloraxis": {
           "colorbar": {
            "outlinewidth": 0,
            "ticks": ""
           }
          },
          "colorscale": {
           "diverging": [
            [
             0,
             "#8e0152"
            ],
            [
             0.1,
             "#c51b7d"
            ],
            [
             0.2,
             "#de77ae"
            ],
            [
             0.3,
             "#f1b6da"
            ],
            [
             0.4,
             "#fde0ef"
            ],
            [
             0.5,
             "#f7f7f7"
            ],
            [
             0.6,
             "#e6f5d0"
            ],
            [
             0.7,
             "#b8e186"
            ],
            [
             0.8,
             "#7fbc41"
            ],
            [
             0.9,
             "#4d9221"
            ],
            [
             1,
             "#276419"
            ]
           ],
           "sequential": [
            [
             0,
             "#0d0887"
            ],
            [
             0.1111111111111111,
             "#46039f"
            ],
            [
             0.2222222222222222,
             "#7201a8"
            ],
            [
             0.3333333333333333,
             "#9c179e"
            ],
            [
             0.4444444444444444,
             "#bd3786"
            ],
            [
             0.5555555555555556,
             "#d8576b"
            ],
            [
             0.6666666666666666,
             "#ed7953"
            ],
            [
             0.7777777777777778,
             "#fb9f3a"
            ],
            [
             0.8888888888888888,
             "#fdca26"
            ],
            [
             1,
             "#f0f921"
            ]
           ],
           "sequentialminus": [
            [
             0,
             "#0d0887"
            ],
            [
             0.1111111111111111,
             "#46039f"
            ],
            [
             0.2222222222222222,
             "#7201a8"
            ],
            [
             0.3333333333333333,
             "#9c179e"
            ],
            [
             0.4444444444444444,
             "#bd3786"
            ],
            [
             0.5555555555555556,
             "#d8576b"
            ],
            [
             0.6666666666666666,
             "#ed7953"
            ],
            [
             0.7777777777777778,
             "#fb9f3a"
            ],
            [
             0.8888888888888888,
             "#fdca26"
            ],
            [
             1,
             "#f0f921"
            ]
           ]
          },
          "colorway": [
           "#636efa",
           "#EF553B",
           "#00cc96",
           "#ab63fa",
           "#FFA15A",
           "#19d3f3",
           "#FF6692",
           "#B6E880",
           "#FF97FF",
           "#FECB52"
          ],
          "font": {
           "color": "#2a3f5f"
          },
          "geo": {
           "bgcolor": "white",
           "lakecolor": "white",
           "landcolor": "#E5ECF6",
           "showlakes": true,
           "showland": true,
           "subunitcolor": "white"
          },
          "hoverlabel": {
           "align": "left"
          },
          "hovermode": "closest",
          "mapbox": {
           "style": "light"
          },
          "paper_bgcolor": "white",
          "plot_bgcolor": "#E5ECF6",
          "polar": {
           "angularaxis": {
            "gridcolor": "white",
            "linecolor": "white",
            "ticks": ""
           },
           "bgcolor": "#E5ECF6",
           "radialaxis": {
            "gridcolor": "white",
            "linecolor": "white",
            "ticks": ""
           }
          },
          "scene": {
           "xaxis": {
            "backgroundcolor": "#E5ECF6",
            "gridcolor": "white",
            "gridwidth": 2,
            "linecolor": "white",
            "showbackground": true,
            "ticks": "",
            "zerolinecolor": "white"
           },
           "yaxis": {
            "backgroundcolor": "#E5ECF6",
            "gridcolor": "white",
            "gridwidth": 2,
            "linecolor": "white",
            "showbackground": true,
            "ticks": "",
            "zerolinecolor": "white"
           },
           "zaxis": {
            "backgroundcolor": "#E5ECF6",
            "gridcolor": "white",
            "gridwidth": 2,
            "linecolor": "white",
            "showbackground": true,
            "ticks": "",
            "zerolinecolor": "white"
           }
          },
          "shapedefaults": {
           "line": {
            "color": "#2a3f5f"
           }
          },
          "ternary": {
           "aaxis": {
            "gridcolor": "white",
            "linecolor": "white",
            "ticks": ""
           },
           "baxis": {
            "gridcolor": "white",
            "linecolor": "white",
            "ticks": ""
           },
           "bgcolor": "#E5ECF6",
           "caxis": {
            "gridcolor": "white",
            "linecolor": "white",
            "ticks": ""
           }
          },
          "title": {
           "x": 0.05
          },
          "xaxis": {
           "automargin": true,
           "gridcolor": "white",
           "linecolor": "white",
           "ticks": "",
           "title": {
            "standoff": 15
           },
           "zerolinecolor": "white",
           "zerolinewidth": 2
          },
          "yaxis": {
           "automargin": true,
           "gridcolor": "white",
           "linecolor": "white",
           "ticks": "",
           "title": {
            "standoff": 15
           },
           "zerolinecolor": "white",
           "zerolinewidth": 2
          }
         }
        },
        "xaxis": {
         "gridcolor": "lightgrey",
         "linecolor": "black",
         "mirror": true,
         "showline": true,
         "ticks": "outside",
         "title": {
          "text": "Distance (μm)"
         }
        },
        "yaxis": {
         "gridcolor": "lightgrey",
         "linecolor": "black",
         "mirror": true,
         "showline": true,
         "ticks": "outside",
         "title": {
          "text": "Gray Value"
         }
        }
       }
      },
      "text/html": [
       "<div>                            <div id=\"178ec960-0eb7-48ba-b959-65af3fc720e6\" class=\"plotly-graph-div\" style=\"height:525px; width:100%;\"></div>            <script type=\"text/javascript\">                require([\"plotly\"], function(Plotly) {                    window.PLOTLYENV=window.PLOTLYENV || {};                                    if (document.getElementById(\"178ec960-0eb7-48ba-b959-65af3fc720e6\")) {                    Plotly.newPlot(                        \"178ec960-0eb7-48ba-b959-65af3fc720e6\",                        [{\"hoverinfo\":\"skip\",\"line\":{\"color\":\"plum\"},\"mode\":\"lines\",\"showlegend\":false,\"x\":[0.20826,0.21251,0.21676,0.22101,0.22526,0.22951,0.23376,0.23801,0.24226,0.24651,0.25076,0.25501,0.25926,0.26351,0.26776,0.27201,0.27626,0.28051,0.28476,0.28901,0.29326,0.29752,0.30177,0.30602,0.31027,0.31452,0.31877,0.32302,0.32727,0.33152,0.33577,0.34002,0.34427,0.34852,0.35277,0.35702,0.36127,0.36552,0.36977,0.37402,0.37827,0.38252,0.38677,0.39102,0.39527,0.39952,0.40377,0.40802,0.41227,0.41652,0.42077,0.42502,0.42927,0.43352,0.43777,0.44202,0.44627,0.45052,0.45477,0.45902,0.46327,0.46752,0.47177,0.47602,0.48027,0.48452,0.48877,0.49303,0.49728,0.50153,0.50578,0.51003,0.51428,0.51853,0.52278,0.52703,0.53128,0.53553,0.53978,0.54403,0.54828,0.55253,0.55678,0.56103,0.56528,0.56953,0.57378,0.57803,0.58228,0.58653,0.59078,0.59503,0.59928,0.60353,0.60778,0.61203,0.61628,0.62053,0.62478,0.62903,0.63328,0.63753,0.64178,0.64603,0.65028,0.65453,0.65878,0.66303,0.66728,0.67153,0.67578,0.68003,0.68428,0.68854,0.69279,0.69704,0.70129,0.70554,0.70979,0.71404,0.71829,0.72254,0.72679,0.73104,0.73529,0.73954,0.74379,0.74804,0.75229,0.75654,0.76079,0.76504,0.76929,0.77354,0.77779,0.78204,0.78629,0.79054,0.79479,0.79904,0.80329,0.80754,0.81179,0.81604,0.82029,0.82454,0.82879,0.83304,0.83729,0.84154,0.84579,0.85004,0.85429,0.85854,0.86279,0.86704,0.87129,0.87554,0.8798,0.88405,0.8883,0.89255,0.8968,0.90105,0.9053,0.90955,0.9138,0.91805,0.9223,0.92655,0.9308,0.93505,0.9393,0.94355,0.9478,0.95205,0.9563,0.96055,0.9648,0.96905,0.9733,0.97755,0.9818,0.98605,0.9903,0.99455,0.9988,1.00305,1.0073,1.01155,1.0158,1.02005,1.0243,1.02855,1.0328,1.03705,1.0413,1.04555,1.0498,1.05405],\"y\":[15.212,0.0,22.006,7.145,7.456,3.023,104.854,120.139,107.0,42.8,46.393,46.82,738.0,80.086,88.979,36.309,28.499,17.13,0.0,51.726,48.81,55.345,52.393,0.0,23.085,53.065,45.803,97.164,244.678,134.149,31.573,53.691,54.928,61.93,61.248,88.989,119.797,129.164,132.32,54.21,49.553,52.673,3.023,36.953,62.994,47.701,55.218,77.198,117.164,89.182,36.888,170.392,235.266,172.923,75.13,37.798,198.162,308.193,315.593,253.967,201.335,187.414,109.122,143.367,132.029,162.932,356.704,435.08,183.427,366.268,525.266,497.427,429.711,552.439,178.388,487.776,556.834,656.838,443.587,795.986,747.263,352.309,554.218,562.119,761.718,594.74,821.402,704.668,837.951,732.534,645.365,788.364,916.363,1164.258,821.925,891.89,426.0,440.787,897.981,730.291,636.226,951.05,943.343,1058.375,1224.46,1015.55,693.206,501.43,752.171,693.713,536.397,1001.0,505.915,796.021,569.636,959.558,901.668,895.038,772.206,495.571,468.215,466.42,645.272,477.38,599.732,477.4,572.369,308.091,518.272,405.662,492.869,414.241,488.666,214.383,261.966,258.961,264.589,388.574,236.934,363.392,334.69,290.332,315.988,274.743,95.981,115.577,95.741,214.692,150.055,131.984,138.387,98.603,194.256,168.395,196.52,253.344,150.862,45.441,7.603,42.6,59.393,114.094,175.717,125.601,18.549,58.19,97.458,128.782,129.488,203.633,220.754,115.823,255.274,256.602,79.279,72.39,55.345,41.324,39.055,15.135,45.441,62.724,23.311,68.24,96.088,115.022,52.673,3.023,39.11,68.628,0.0,0.0,15.212,30.993,16.972,2.015,3.435,25.09,67.59,76.173],\"type\":\"scatter\"},{\"marker\":{\"color\":\"purple\"},\"mode\":\"lines\",\"showlegend\":false,\"x\":[0.20826,0.21251,0.21676,0.22101,0.22526,0.22951,0.23376,0.23801,0.24226,0.24651,0.25076,0.25501,0.25926,0.26351,0.26776,0.27201,0.27626,0.28051,0.28476,0.28901,0.29326,0.29752,0.30177,0.30602,0.31027,0.31452,0.31877,0.32302,0.32727,0.33152,0.33577,0.34002,0.34427,0.34852,0.35277,0.35702,0.36127,0.36552,0.36977,0.37402,0.37827,0.38252,0.38677,0.39102,0.39527,0.39952,0.40377,0.40802,0.41227,0.41652,0.42077,0.42502,0.42927,0.43352,0.43777,0.44202,0.44627,0.45052,0.45477,0.45902,0.46327,0.46752,0.47177,0.47602,0.48027,0.48452,0.48877,0.49303,0.49728,0.50153,0.50578,0.51003,0.51428,0.51853,0.52278,0.52703,0.53128,0.53553,0.53978,0.54403,0.54828,0.55253,0.55678,0.56103,0.56528,0.56953,0.57378,0.57803,0.58228,0.58653,0.59078,0.59503,0.59928,0.60353,0.60778,0.61203,0.61628,0.62053,0.62478,0.62903,0.63328,0.63753,0.64178,0.64603,0.65028,0.65453,0.65878,0.66303,0.66728,0.67153,0.67578,0.68003,0.68428,0.68854,0.69279,0.69704,0.70129,0.70554,0.70979,0.71404,0.71829,0.72254,0.72679,0.73104,0.73529,0.73954,0.74379,0.74804,0.75229,0.75654,0.76079,0.76504,0.76929,0.77354,0.77779,0.78204,0.78629,0.79054,0.79479,0.79904,0.80329,0.80754,0.81179,0.81604,0.82029,0.82454,0.82879,0.83304,0.83729,0.84154,0.84579,0.85004,0.85429,0.85854,0.86279,0.86704,0.87129,0.87554,0.8798,0.88405,0.8883,0.89255,0.8968,0.90105,0.9053,0.90955,0.9138,0.91805,0.9223,0.92655,0.9308,0.93505,0.9393,0.94355,0.9478,0.95205,0.9563,0.96055,0.9648,0.96905,0.9733,0.97755,0.9818,0.98605,0.9903,0.99455,0.9988,1.00305,1.0073,1.01155,1.0158,1.02005,1.0243,1.02855,1.0328,1.03705,1.0413,1.04555,1.0498,1.05405],\"y\":[66.45697663560328,66.46667571347969,66.47829718089929,66.49219412412263,66.50877870477642,66.52853091421014,66.5520084166184,66.57985757980529,66.61282579517169,66.65177519006002,66.69769783573261,66.75173255270708,66.81518341162224,66.88954002193883,66.97649969225701,67.07799153451478,67.19620256947015,67.33360587232765,67.4929907748174,67.6774951131697,67.89063947998334,68.13698336080773,68.4197758512242,68.74444945691718,69.11643606726338,69.54174745908874,70.02701831181008,70.57954963793603,71.2073521600596,71.91918909313546,72.72461771615669,73.63402904134443,74.65868481283638,75.81075099198449,77.10332681430874,78.55046843562786,80.16720612378649,81.96955389974127,83.97451048968455,86.2000504205873,88.6651040772759,91.3895255421665,94.39404706125086,97.70021902393523,101.3303344117765,105.3073367637108,109.65471082438543,114.39635518868235,119.55643643002247,125.15922440261984,131.2289086380248,137.78939601294138,144.86409014668268,152.4756532902892,160.64575179213801,169.3947865629798,178.74161031218955,188.70323368142851,199.29452275603765,210.52789078197588,222.41298725013974,234.9563878232734,248.1612888660188,262.0272105884492,276.5497130202905,291.720129189762,307.52531998082,323.98680612530086,341.0045436175153,358.58870238573047,376.70638135916283,395.31946188293784,414.38458376304163,433.8531712665218,453.6715117647565,473.7808891441755,494.117773479477,514.6140677765169,535.1974118545064,555.7915426602672,576.3167095027268,596.6901418762912,616.8265667209234,636.6387711589233,656.0382059683085,674.9356243149804,693.2417495851884,710.8679655500146,727.7270215678865,743.7337451013515,758.8057535009762,772.8641568009925,785.8342431848954,797.6461388191946,808.235433922178,817.543767231627,825.5193614583574,832.1175028560455,837.3009586945766,841.0403271843131,843.3143152503205,844.1099404849751,843.422654599096,841.2563867291744,837.6235060237642,832.5447040074797,826.048798287878,818.1724602105961,808.9598700637459,798.4623043670551,786.7376606390466,773.8499258028315,759.86859505577,744.8316123989003,728.8883401515744,712.0868076346088,694.5120133645414,676.2510844338582,657.3925637784581,638.0257041994454,618.239776889497,598.1234017914952,577.7639065977908,557.2467205942261,536.6548088769027,516.0681517355717,495.56327321990216,475.2128220985528,455.085207600594,435.2442915087305,415.749137367735,396.65381679224083,378.0072721173825,359.85323394405543,342.23019149685945,325.1714131444571,308.7050139350132,292.85406657772387,277.63675195775204,263.0665450071358,249.15243156782591,235.89915177302774,223.30746543619685,211.37443496900067,200.09372144501714,189.4558895787239,179.44871759277197,170.0575081934411,161.2653971571723,153.05365634264484,145.40198827563194,138.28880980060646,131.69152264693395,125.58676911208175,119.95067141371521,114.759053601605,109.98764524433284,105.6122664109568,101.59999448082564,97.94610132849567,94.61775443430946,91.59261157235049,88.8490671505809,86.36632889809337,84.12447895054129,82.10452037299909,80.28841022867164,78.65908034747672,77.20044697245272,75.89741046625677,74.73584624690315,73.70258809358047,72.78540492213668,71.97297207783845,71.25483813244101,70.62138810546871,70.06380395780523,69.57402313096314,69.14469582931508,68.76914166651815,68.44130622255506,68.1557179852813,67.90744608095464,67.69205913261189,67.50558552386708,67.34447528910555,67.20556379937507,67.08603736664556,66.9834008475296,66.89544729095114,66.82022964245894,66.75603449069096,66.7013578186379,66.65488270352934,66.61545889404742,66.58208418182225,66.55388747543353,66.53011347909151,66.51010887446198,66.49330990241121],\"type\":\"scatter\"}],                        {\"template\":{\"data\":{\"histogram2dcontour\":[{\"type\":\"histogram2dcontour\",\"colorbar\":{\"outlinewidth\":0,\"ticks\":\"\"},\"colorscale\":[[0.0,\"#0d0887\"],[0.1111111111111111,\"#46039f\"],[0.2222222222222222,\"#7201a8\"],[0.3333333333333333,\"#9c179e\"],[0.4444444444444444,\"#bd3786\"],[0.5555555555555556,\"#d8576b\"],[0.6666666666666666,\"#ed7953\"],[0.7777777777777778,\"#fb9f3a\"],[0.8888888888888888,\"#fdca26\"],[1.0,\"#f0f921\"]]}],\"choropleth\":[{\"type\":\"choropleth\",\"colorbar\":{\"outlinewidth\":0,\"ticks\":\"\"}}],\"histogram2d\":[{\"type\":\"histogram2d\",\"colorbar\":{\"outlinewidth\":0,\"ticks\":\"\"},\"colorscale\":[[0.0,\"#0d0887\"],[0.1111111111111111,\"#46039f\"],[0.2222222222222222,\"#7201a8\"],[0.3333333333333333,\"#9c179e\"],[0.4444444444444444,\"#bd3786\"],[0.5555555555555556,\"#d8576b\"],[0.6666666666666666,\"#ed7953\"],[0.7777777777777778,\"#fb9f3a\"],[0.8888888888888888,\"#fdca26\"],[1.0,\"#f0f921\"]]}],\"heatmap\":[{\"type\":\"heatmap\",\"colorbar\":{\"outlinewidth\":0,\"ticks\":\"\"},\"colorscale\":[[0.0,\"#0d0887\"],[0.1111111111111111,\"#46039f\"],[0.2222222222222222,\"#7201a8\"],[0.3333333333333333,\"#9c179e\"],[0.4444444444444444,\"#bd3786\"],[0.5555555555555556,\"#d8576b\"],[0.6666666666666666,\"#ed7953\"],[0.7777777777777778,\"#fb9f3a\"],[0.8888888888888888,\"#fdca26\"],[1.0,\"#f0f921\"]]}],\"heatmapgl\":[{\"type\":\"heatmapgl\",\"colorbar\":{\"outlinewidth\":0,\"ticks\":\"\"},\"colorscale\":[[0.0,\"#0d0887\"],[0.1111111111111111,\"#46039f\"],[0.2222222222222222,\"#7201a8\"],[0.3333333333333333,\"#9c179e\"],[0.4444444444444444,\"#bd3786\"],[0.5555555555555556,\"#d8576b\"],[0.6666666666666666,\"#ed7953\"],[0.7777777777777778,\"#fb9f3a\"],[0.8888888888888888,\"#fdca26\"],[1.0,\"#f0f921\"]]}],\"contourcarpet\":[{\"type\":\"contourcarpet\",\"colorbar\":{\"outlinewidth\":0,\"ticks\":\"\"}}],\"contour\":[{\"type\":\"contour\",\"colorbar\":{\"outlinewidth\":0,\"ticks\":\"\"},\"colorscale\":[[0.0,\"#0d0887\"],[0.1111111111111111,\"#46039f\"],[0.2222222222222222,\"#7201a8\"],[0.3333333333333333,\"#9c179e\"],[0.4444444444444444,\"#bd3786\"],[0.5555555555555556,\"#d8576b\"],[0.6666666666666666,\"#ed7953\"],[0.7777777777777778,\"#fb9f3a\"],[0.8888888888888888,\"#fdca26\"],[1.0,\"#f0f921\"]]}],\"surface\":[{\"type\":\"surface\",\"colorbar\":{\"outlinewidth\":0,\"ticks\":\"\"},\"colorscale\":[[0.0,\"#0d0887\"],[0.1111111111111111,\"#46039f\"],[0.2222222222222222,\"#7201a8\"],[0.3333333333333333,\"#9c179e\"],[0.4444444444444444,\"#bd3786\"],[0.5555555555555556,\"#d8576b\"],[0.6666666666666666,\"#ed7953\"],[0.7777777777777778,\"#fb9f3a\"],[0.8888888888888888,\"#fdca26\"],[1.0,\"#f0f921\"]]}],\"mesh3d\":[{\"type\":\"mesh3d\",\"colorbar\":{\"outlinewidth\":0,\"ticks\":\"\"}}],\"scatter\":[{\"fillpattern\":{\"fillmode\":\"overlay\",\"size\":10,\"solidity\":0.2},\"type\":\"scatter\"}],\"parcoords\":[{\"type\":\"parcoords\",\"line\":{\"colorbar\":{\"outlinewidth\":0,\"ticks\":\"\"}}}],\"scatterpolargl\":[{\"type\":\"scatterpolargl\",\"marker\":{\"colorbar\":{\"outlinewidth\":0,\"ticks\":\"\"}}}],\"bar\":[{\"error_x\":{\"color\":\"#2a3f5f\"},\"error_y\":{\"color\":\"#2a3f5f\"},\"marker\":{\"line\":{\"color\":\"#E5ECF6\",\"width\":0.5},\"pattern\":{\"fillmode\":\"overlay\",\"size\":10,\"solidity\":0.2}},\"type\":\"bar\"}],\"scattergeo\":[{\"type\":\"scattergeo\",\"marker\":{\"colorbar\":{\"outlinewidth\":0,\"ticks\":\"\"}}}],\"scatterpolar\":[{\"type\":\"scatterpolar\",\"marker\":{\"colorbar\":{\"outlinewidth\":0,\"ticks\":\"\"}}}],\"histogram\":[{\"marker\":{\"pattern\":{\"fillmode\":\"overlay\",\"size\":10,\"solidity\":0.2}},\"type\":\"histogram\"}],\"scattergl\":[{\"type\":\"scattergl\",\"marker\":{\"colorbar\":{\"outlinewidth\":0,\"ticks\":\"\"}}}],\"scatter3d\":[{\"type\":\"scatter3d\",\"line\":{\"colorbar\":{\"outlinewidth\":0,\"ticks\":\"\"}},\"marker\":{\"colorbar\":{\"outlinewidth\":0,\"ticks\":\"\"}}}],\"scattermapbox\":[{\"type\":\"scattermapbox\",\"marker\":{\"colorbar\":{\"outlinewidth\":0,\"ticks\":\"\"}}}],\"scatterternary\":[{\"type\":\"scatterternary\",\"marker\":{\"colorbar\":{\"outlinewidth\":0,\"ticks\":\"\"}}}],\"scattercarpet\":[{\"type\":\"scattercarpet\",\"marker\":{\"colorbar\":{\"outlinewidth\":0,\"ticks\":\"\"}}}],\"carpet\":[{\"aaxis\":{\"endlinecolor\":\"#2a3f5f\",\"gridcolor\":\"white\",\"linecolor\":\"white\",\"minorgridcolor\":\"white\",\"startlinecolor\":\"#2a3f5f\"},\"baxis\":{\"endlinecolor\":\"#2a3f5f\",\"gridcolor\":\"white\",\"linecolor\":\"white\",\"minorgridcolor\":\"white\",\"startlinecolor\":\"#2a3f5f\"},\"type\":\"carpet\"}],\"table\":[{\"cells\":{\"fill\":{\"color\":\"#EBF0F8\"},\"line\":{\"color\":\"white\"}},\"header\":{\"fill\":{\"color\":\"#C8D4E3\"},\"line\":{\"color\":\"white\"}},\"type\":\"table\"}],\"barpolar\":[{\"marker\":{\"line\":{\"color\":\"#E5ECF6\",\"width\":0.5},\"pattern\":{\"fillmode\":\"overlay\",\"size\":10,\"solidity\":0.2}},\"type\":\"barpolar\"}],\"pie\":[{\"automargin\":true,\"type\":\"pie\"}]},\"layout\":{\"autotypenumbers\":\"strict\",\"colorway\":[\"#636efa\",\"#EF553B\",\"#00cc96\",\"#ab63fa\",\"#FFA15A\",\"#19d3f3\",\"#FF6692\",\"#B6E880\",\"#FF97FF\",\"#FECB52\"],\"font\":{\"color\":\"#2a3f5f\"},\"hovermode\":\"closest\",\"hoverlabel\":{\"align\":\"left\"},\"paper_bgcolor\":\"white\",\"plot_bgcolor\":\"#E5ECF6\",\"polar\":{\"bgcolor\":\"#E5ECF6\",\"angularaxis\":{\"gridcolor\":\"white\",\"linecolor\":\"white\",\"ticks\":\"\"},\"radialaxis\":{\"gridcolor\":\"white\",\"linecolor\":\"white\",\"ticks\":\"\"}},\"ternary\":{\"bgcolor\":\"#E5ECF6\",\"aaxis\":{\"gridcolor\":\"white\",\"linecolor\":\"white\",\"ticks\":\"\"},\"baxis\":{\"gridcolor\":\"white\",\"linecolor\":\"white\",\"ticks\":\"\"},\"caxis\":{\"gridcolor\":\"white\",\"linecolor\":\"white\",\"ticks\":\"\"}},\"coloraxis\":{\"colorbar\":{\"outlinewidth\":0,\"ticks\":\"\"}},\"colorscale\":{\"sequential\":[[0.0,\"#0d0887\"],[0.1111111111111111,\"#46039f\"],[0.2222222222222222,\"#7201a8\"],[0.3333333333333333,\"#9c179e\"],[0.4444444444444444,\"#bd3786\"],[0.5555555555555556,\"#d8576b\"],[0.6666666666666666,\"#ed7953\"],[0.7777777777777778,\"#fb9f3a\"],[0.8888888888888888,\"#fdca26\"],[1.0,\"#f0f921\"]],\"sequentialminus\":[[0.0,\"#0d0887\"],[0.1111111111111111,\"#46039f\"],[0.2222222222222222,\"#7201a8\"],[0.3333333333333333,\"#9c179e\"],[0.4444444444444444,\"#bd3786\"],[0.5555555555555556,\"#d8576b\"],[0.6666666666666666,\"#ed7953\"],[0.7777777777777778,\"#fb9f3a\"],[0.8888888888888888,\"#fdca26\"],[1.0,\"#f0f921\"]],\"diverging\":[[0,\"#8e0152\"],[0.1,\"#c51b7d\"],[0.2,\"#de77ae\"],[0.3,\"#f1b6da\"],[0.4,\"#fde0ef\"],[0.5,\"#f7f7f7\"],[0.6,\"#e6f5d0\"],[0.7,\"#b8e186\"],[0.8,\"#7fbc41\"],[0.9,\"#4d9221\"],[1,\"#276419\"]]},\"xaxis\":{\"gridcolor\":\"white\",\"linecolor\":\"white\",\"ticks\":\"\",\"title\":{\"standoff\":15},\"zerolinecolor\":\"white\",\"automargin\":true,\"zerolinewidth\":2},\"yaxis\":{\"gridcolor\":\"white\",\"linecolor\":\"white\",\"ticks\":\"\",\"title\":{\"standoff\":15},\"zerolinecolor\":\"white\",\"automargin\":true,\"zerolinewidth\":2},\"scene\":{\"xaxis\":{\"backgroundcolor\":\"#E5ECF6\",\"gridcolor\":\"white\",\"linecolor\":\"white\",\"showbackground\":true,\"ticks\":\"\",\"zerolinecolor\":\"white\",\"gridwidth\":2},\"yaxis\":{\"backgroundcolor\":\"#E5ECF6\",\"gridcolor\":\"white\",\"linecolor\":\"white\",\"showbackground\":true,\"ticks\":\"\",\"zerolinecolor\":\"white\",\"gridwidth\":2},\"zaxis\":{\"backgroundcolor\":\"#E5ECF6\",\"gridcolor\":\"white\",\"linecolor\":\"white\",\"showbackground\":true,\"ticks\":\"\",\"zerolinecolor\":\"white\",\"gridwidth\":2}},\"shapedefaults\":{\"line\":{\"color\":\"#2a3f5f\"}},\"annotationdefaults\":{\"arrowcolor\":\"#2a3f5f\",\"arrowhead\":0,\"arrowwidth\":1},\"geo\":{\"bgcolor\":\"white\",\"landcolor\":\"#E5ECF6\",\"subunitcolor\":\"white\",\"showland\":true,\"showlakes\":true,\"lakecolor\":\"white\"},\"title\":{\"x\":0.05},\"mapbox\":{\"style\":\"light\"}}},\"font\":{\"size\":18,\"color\":\"Black\"},\"yaxis\":{\"title\":{\"text\":\"Gray Value\"},\"mirror\":true,\"ticks\":\"outside\",\"showline\":true,\"linecolor\":\"black\",\"gridcolor\":\"lightgrey\"},\"xaxis\":{\"title\":{\"text\":\"Distance (\\u03bcm)\"},\"mirror\":true,\"ticks\":\"outside\",\"showline\":true,\"linecolor\":\"black\",\"gridcolor\":\"lightgrey\"},\"plot_bgcolor\":\"white\"},                        {\"responsive\": true}                    ).then(function(){\n",
       "                            \n",
       "var gd = document.getElementById('178ec960-0eb7-48ba-b959-65af3fc720e6');\n",
       "var x = new MutationObserver(function (mutations, observer) {{\n",
       "        var display = window.getComputedStyle(gd).display;\n",
       "        if (!display || display === 'none') {{\n",
       "            console.log([gd, 'removed!']);\n",
       "            Plotly.purge(gd);\n",
       "            observer.disconnect();\n",
       "        }}\n",
       "}});\n",
       "\n",
       "// Listen for the removal of the full notebook cells\n",
       "var notebookContainer = gd.closest('#notebook-container');\n",
       "if (notebookContainer) {{\n",
       "    x.observe(notebookContainer, {childList: true});\n",
       "}}\n",
       "\n",
       "// Listen for the clearing of the current output cell\n",
       "var outputEl = gd.closest('.output');\n",
       "if (outputEl) {{\n",
       "    x.observe(outputEl, {childList: true});\n",
       "}}\n",
       "\n",
       "                        })                };                });            </script>        </div>"
      ]
     },
     "metadata": {},
     "output_type": "display_data"
    },
    {
     "name": "stdout",
     "output_type": "stream",
     "text": [
      "FWHM = 229.13\n"
     ]
    }
   ],
   "source": [
    "skiprows2 = 50\n",
    "maxrows2 = 200\n",
    "\n",
    "data2 = np.array(read(f'dati_verde_olio.txt', skiprows2, maxrows2))\n",
    "popt2, pcov2 = plottiamo_plotly(data2)  # scegliere plotly o pyplot\n",
    "FWHM(popt2)"
   ]
  },
  {
   "cell_type": "markdown",
   "id": "9541180b",
   "metadata": {},
   "source": [
    "# caso 3"
   ]
  },
  {
   "cell_type": "code",
   "execution_count": 88,
   "id": "b37e5f68",
   "metadata": {},
   "outputs": [
    {
     "data": {
      "application/vnd.plotly.v1+json": {
       "config": {
        "plotlyServerURL": "https://plot.ly"
       },
       "data": [
        {
         "hoverinfo": "skip",
         "line": {
          "color": "plum"
         },
         "mode": "lines",
         "showlegend": false,
         "type": "scatter",
         "x": [
          0.43417,
          0.43782,
          0.44147,
          0.44511,
          0.44876,
          0.45241,
          0.45606,
          0.45971,
          0.46336,
          0.467,
          0.47065,
          0.4743,
          0.47795,
          0.4816,
          0.48525,
          0.4889,
          0.49254,
          0.49619,
          0.49984,
          0.50349,
          0.50714,
          0.51079,
          0.51443,
          0.51808,
          0.52173,
          0.52538,
          0.52903,
          0.53268,
          0.53633,
          0.53997,
          0.54362,
          0.54727,
          0.55092,
          0.55457,
          0.55822,
          0.56186,
          0.56551,
          0.56916,
          0.57281,
          0.57646,
          0.58011,
          0.58376,
          0.5874,
          0.59105,
          0.5947,
          0.59835,
          0.602,
          0.60565,
          0.60929,
          0.61294,
          0.61659,
          0.62024,
          0.62389,
          0.62754,
          0.63119,
          0.63483,
          0.63848,
          0.64213,
          0.64578,
          0.64943,
          0.65308,
          0.65672,
          0.66037,
          0.66402,
          0.66767,
          0.67132,
          0.67497,
          0.67862,
          0.68226,
          0.68591,
          0.68956,
          0.69321,
          0.69686,
          0.70051,
          0.70415,
          0.7078,
          0.71145,
          0.7151,
          0.71875,
          0.7224,
          0.72605,
          0.72969,
          0.73334,
          0.73699,
          0.74064,
          0.74429,
          0.74794,
          0.75159,
          0.75523,
          0.75888,
          0.76253,
          0.76618,
          0.76983,
          0.77348,
          0.77712,
          0.78077,
          0.78442,
          0.78807,
          0.79172,
          0.79537,
          0.79902,
          0.80266,
          0.80631,
          0.80996,
          0.81361,
          0.81726,
          0.82091,
          0.82455,
          0.8282,
          0.83185,
          0.8355,
          0.83915,
          0.8428,
          0.84645,
          0.85009,
          0.85374,
          0.85739,
          0.86104,
          0.86469,
          0.86834,
          0.87198,
          0.87563,
          0.87928,
          0.88293,
          0.88658,
          0.89023,
          0.89388,
          0.89752,
          0.90117,
          0.90482,
          0.90847,
          0.91212,
          0.91577,
          0.91941,
          0.92306,
          0.92671,
          0.93036,
          0.93401,
          0.93766,
          0.94131,
          0.94495,
          0.9486,
          0.95225,
          0.9559,
          0.95955,
          0.9632,
          0.96684,
          0.97049,
          0.97414,
          0.97779,
          0.98144,
          0.98509,
          0.98874,
          0.99238,
          0.99603,
          0.99968,
          1.00333,
          1.00698,
          1.01063,
          1.01428,
          1.01792,
          1.02157,
          1.02522,
          1.02887,
          1.03252,
          1.03617,
          1.03981,
          1.04346,
          1.04711,
          1.05076,
          1.05441,
          1.05806,
          1.06171,
          1.06535,
          1.069,
          1.07265,
          1.0763,
          1.07995,
          1.0836,
          1.08724,
          1.09089,
          1.09454,
          1.09819,
          1.10184,
          1.10549,
          1.10914,
          1.11278,
          1.11643,
          1.12008,
          1.12373,
          1.12738,
          1.13103,
          1.13467,
          1.13832,
          1.14197,
          1.14562,
          1.14927,
          1.15292,
          1.15657,
          1.16021,
          1.16386,
          1.16751,
          1.17116,
          1.17481,
          1.17846,
          1.1821,
          1.18575,
          1.1894,
          1.19305,
          1.1967,
          1.20035,
          1.204,
          1.20764,
          1.21129,
          1.21494,
          1.21859,
          1.22224,
          1.22589,
          1.22953,
          1.23318,
          1.23683,
          1.24048,
          1.24413,
          1.24778,
          1.25143,
          1.25507,
          1.25872,
          1.26237,
          1.26602,
          1.26967,
          1.27332,
          1.27696,
          1.28061,
          1.28426,
          1.28791,
          1.29156,
          1.29521,
          1.29886,
          1.3025,
          1.30615,
          1.3098,
          1.31345,
          1.3171,
          1.32075,
          1.3244,
          1.32804,
          1.33169,
          1.33534,
          1.33899,
          1.34264,
          1.34629,
          1.34993,
          1.35358,
          1.35723,
          1.36088,
          1.36453,
          1.36818,
          1.37183,
          1.37547,
          1.37912,
          1.38277,
          1.38642,
          1.39007,
          1.39372,
          1.39736,
          1.40101,
          1.40466,
          1.40831,
          1.41196,
          1.41561,
          1.41926,
          1.4229,
          1.42655,
          1.4302,
          1.43385,
          1.4375,
          1.44115,
          1.44479,
          1.44844,
          1.45209,
          1.45574,
          1.45939,
          1.46304,
          1.46669,
          1.47033,
          1.47398,
          1.47763,
          1.48128,
          1.48493,
          1.48858,
          1.49222,
          1.49587,
          1.49952,
          1.50317,
          1.50682,
          1.51047,
          1.51412,
          1.51776,
          1.52141,
          1.52506
         ],
         "y": [
          102.604,
          0,
          106.5,
          270.146,
          159.75,
          0,
          24.677,
          192.22,
          3.896,
          0,
          138.97,
          93.512,
          90.915,
          213,
          106.5,
          207.805,
          11.689,
          0,
          40.262,
          0,
          0,
          0,
          0,
          0,
          87.018,
          67.537,
          116.89,
          0,
          29.872,
          181.829,
          0,
          0,
          0,
          0,
          162.348,
          72.732,
          84.421,
          0,
          0,
          171.439,
          176.634,
          98.707,
          63.64,
          0,
          0,
          0,
          0,
          0,
          170.14,
          311.707,
          284.433,
          384.439,
          112.994,
          197.415,
          106.5,
          0,
          162.348,
          213,
          79.226,
          25.976,
          213,
          31.171,
          106.5,
          88.317,
          58.445,
          67.537,
          319.5,
          202.61,
          124.683,
          46.756,
          0,
          0,
          80.524,
          161.049,
          35.067,
          207.805,
          106.5,
          62.341,
          243.085,
          306.512,
          444.53,
          36.366,
          213,
          213,
          377.03,
          717.927,
          266.5,
          348.073,
          188.323,
          41.561,
          209.104,
          0,
          204.061,
          213,
          61.043,
          124.683,
          426,
          415.61,
          153.311,
          374.049,
          213,
          213,
          175.335,
          259.756,
          310.409,
          213,
          339.073,
          135.073,
          378.171,
          426,
          499.012,
          910,
          423.896,
          104.024,
          1192.598,
          1102.756,
          1010.152,
          1268.927,
          661.579,
          441.659,
          733.482,
          1024.439,
          709.799,
          738.707,
          1067.5,
          894.293,
          760.354,
          1066,
          1037.86,
          1108.293,
          1045.421,
          951.707,
          1064.866,
          1284.805,
          1127.482,
          931.073,
          875.079,
          1134.195,
          1223.89,
          1076.61,
          800.805,
          613.902,
          534.305,
          1186.341,
          976.384,
          1066,
          1183.39,
          1493,
          1230.372,
          702.439,
          1633.64,
          827.244,
          539.671,
          1513.805,
          1478.524,
          1284.951,
          1174.579,
          254.634,
          925.732,
          889.659,
          1036.415,
          546.049,
          941.274,
          712.732,
          856.896,
          832.219,
          902.469,
          1066,
          586.25,
          640,
          615.207,
          426,
          623.896,
          1029.634,
          820.378,
          519.951,
          685.171,
          640,
          802.268,
          842.585,
          556.433,
          962.098,
          931.049,
          535.61,
          319.677,
          280.976,
          825.683,
          426,
          251.963,
          145.463,
          357.39,
          124.683,
          89.756,
          546.341,
          111.701,
          587.927,
          399.226,
          249.756,
          157.152,
          140.268,
          190.921,
          244.244,
          406.988,
          384.439,
          462.701,
          311.707,
          106.5,
          213,
          333.854,
          640,
          426.067,
          114.293,
          276.64,
          311.707,
          284.433,
          83.122,
          219.494,
          197.415,
          297.421,
          353.268,
          207.805,
          296.122,
          185.726,
          187.024,
          3.896,
          0,
          0,
          249.366,
          388.61,
          213,
          106.5,
          10.39,
          514.817,
          353.488,
          281.835,
          207.805,
          227.287,
          374.049,
          118.189,
          415.61,
          229.884,
          426,
          274.043,
          332.488,
          138.97,
          249.366,
          311.707,
          20.78,
          106.5,
          0,
          0,
          155.854,
          368.97,
          790.561,
          122.104,
          176.634,
          130.03,
          0,
          106.5,
          150.659,
          196.116,
          0,
          94.811,
          374.049,
          492.549,
          213,
          250.665,
          566.488,
          496.591,
          202.61,
          300.427,
          145.463,
          261.055,
          691.366,
          473.256,
          546.341,
          5.201,
          187.024,
          106.5,
          129.878,
          324.957,
          285.732,
          426.104,
          593.171,
          26.006,
          0,
          320.799,
          311.707,
          213,
          114.293,
          227.287,
          426,
          319.5,
          213,
          213,
          114.293,
          141.567,
          342.878,
          106.5,
          15.585
         ]
        },
        {
         "marker": {
          "color": "purple"
         },
         "mode": "lines",
         "showlegend": false,
         "type": "scatter",
         "x": [
          0.43417,
          0.43782,
          0.44147,
          0.44511,
          0.44876,
          0.45241,
          0.45606,
          0.45971,
          0.46336,
          0.467,
          0.47065,
          0.4743,
          0.47795,
          0.4816,
          0.48525,
          0.4889,
          0.49254,
          0.49619,
          0.49984,
          0.50349,
          0.50714,
          0.51079,
          0.51443,
          0.51808,
          0.52173,
          0.52538,
          0.52903,
          0.53268,
          0.53633,
          0.53997,
          0.54362,
          0.54727,
          0.55092,
          0.55457,
          0.55822,
          0.56186,
          0.56551,
          0.56916,
          0.57281,
          0.57646,
          0.58011,
          0.58376,
          0.5874,
          0.59105,
          0.5947,
          0.59835,
          0.602,
          0.60565,
          0.60929,
          0.61294,
          0.61659,
          0.62024,
          0.62389,
          0.62754,
          0.63119,
          0.63483,
          0.63848,
          0.64213,
          0.64578,
          0.64943,
          0.65308,
          0.65672,
          0.66037,
          0.66402,
          0.66767,
          0.67132,
          0.67497,
          0.67862,
          0.68226,
          0.68591,
          0.68956,
          0.69321,
          0.69686,
          0.70051,
          0.70415,
          0.7078,
          0.71145,
          0.7151,
          0.71875,
          0.7224,
          0.72605,
          0.72969,
          0.73334,
          0.73699,
          0.74064,
          0.74429,
          0.74794,
          0.75159,
          0.75523,
          0.75888,
          0.76253,
          0.76618,
          0.76983,
          0.77348,
          0.77712,
          0.78077,
          0.78442,
          0.78807,
          0.79172,
          0.79537,
          0.79902,
          0.80266,
          0.80631,
          0.80996,
          0.81361,
          0.81726,
          0.82091,
          0.82455,
          0.8282,
          0.83185,
          0.8355,
          0.83915,
          0.8428,
          0.84645,
          0.85009,
          0.85374,
          0.85739,
          0.86104,
          0.86469,
          0.86834,
          0.87198,
          0.87563,
          0.87928,
          0.88293,
          0.88658,
          0.89023,
          0.89388,
          0.89752,
          0.90117,
          0.90482,
          0.90847,
          0.91212,
          0.91577,
          0.91941,
          0.92306,
          0.92671,
          0.93036,
          0.93401,
          0.93766,
          0.94131,
          0.94495,
          0.9486,
          0.95225,
          0.9559,
          0.95955,
          0.9632,
          0.96684,
          0.97049,
          0.97414,
          0.97779,
          0.98144,
          0.98509,
          0.98874,
          0.99238,
          0.99603,
          0.99968,
          1.00333,
          1.00698,
          1.01063,
          1.01428,
          1.01792,
          1.02157,
          1.02522,
          1.02887,
          1.03252,
          1.03617,
          1.03981,
          1.04346,
          1.04711,
          1.05076,
          1.05441,
          1.05806,
          1.06171,
          1.06535,
          1.069,
          1.07265,
          1.0763,
          1.07995,
          1.0836,
          1.08724,
          1.09089,
          1.09454,
          1.09819,
          1.10184,
          1.10549,
          1.10914,
          1.11278,
          1.11643,
          1.12008,
          1.12373,
          1.12738,
          1.13103,
          1.13467,
          1.13832,
          1.14197,
          1.14562,
          1.14927,
          1.15292,
          1.15657,
          1.16021,
          1.16386,
          1.16751,
          1.17116,
          1.17481,
          1.17846,
          1.1821,
          1.18575,
          1.1894,
          1.19305,
          1.1967,
          1.20035,
          1.204,
          1.20764,
          1.21129,
          1.21494,
          1.21859,
          1.22224,
          1.22589,
          1.22953,
          1.23318,
          1.23683,
          1.24048,
          1.24413,
          1.24778,
          1.25143,
          1.25507,
          1.25872,
          1.26237,
          1.26602,
          1.26967,
          1.27332,
          1.27696,
          1.28061,
          1.28426,
          1.28791,
          1.29156,
          1.29521,
          1.29886,
          1.3025,
          1.30615,
          1.3098,
          1.31345,
          1.3171,
          1.32075,
          1.3244,
          1.32804,
          1.33169,
          1.33534,
          1.33899,
          1.34264,
          1.34629,
          1.34993,
          1.35358,
          1.35723,
          1.36088,
          1.36453,
          1.36818,
          1.37183,
          1.37547,
          1.37912,
          1.38277,
          1.38642,
          1.39007,
          1.39372,
          1.39736,
          1.40101,
          1.40466,
          1.40831,
          1.41196,
          1.41561,
          1.41926,
          1.4229,
          1.42655,
          1.4302,
          1.43385,
          1.4375,
          1.44115,
          1.44479,
          1.44844,
          1.45209,
          1.45574,
          1.45939,
          1.46304,
          1.46669,
          1.47033,
          1.47398,
          1.47763,
          1.48128,
          1.48493,
          1.48858,
          1.49222,
          1.49587,
          1.49952,
          1.50317,
          1.50682,
          1.51047,
          1.51412,
          1.51776,
          1.52141,
          1.52506
         ],
         "y": [
          166.32815896128074,
          166.3282058018734,
          166.3282631842344,
          166.32833316306,
          166.32841884592165,
          166.32852334001086,
          166.32865058348747,
          166.32880529586222,
          166.3289931237094,
          166.32922012638156,
          166.32949557362298,
          166.329828470222,
          166.3302301910354,
          166.33071423297625,
          166.33129658417238,
          166.33199615210302,
          166.33283274667292,
          166.33383720821266,
          166.33503838387225,
          166.3364726214131,
          166.33818254451202,
          166.3402180513762,
          166.34263024421278,
          166.34550024097425,
          166.3489011734612,
          166.3529251299921,
          166.35767899372817,
          166.36328660443831,
          166.36989119882236,
          166.37763512473086,
          166.3867510753,
          166.39743867972666,
          166.40994972987076,
          166.42457290091548,
          166.44163856365637,
          166.46146541742849,
          166.48459171325254,
          166.5114567330947,
          166.54261688032676,
          166.57870318389348,
          166.6204299908943,
          166.66860447158285,
          166.72397388350785,
          166.7878647615132,
          166.86128663039685,
          166.9455304474894,
          167.04204122729953,
          167.1524333126944,
          167.2781381169307,
          167.42184457871411,
          167.58545380968687,
          167.7714310998019,
          167.98250358707256,
          168.22168195821743,
          168.49228312979406,
          168.7970649236608,
          169.1416933059822,
          169.52976001154278,
          169.96604932007472,
          170.45577664711197,
          171.00461490940359,
          171.61694332485246,
          172.30277726708638,
          173.0677279348331,
          173.9195569881631,
          174.86661040598446,
          175.9178407571893,
          177.08282758684848,
          178.36808495574098,
          179.7915339354762,
          181.36137379644939,
          183.08984089054422,
          184.98985645813514,
          187.0750259482926,
          189.35308791195467,
          191.8514741283742,
          194.57980225062266,
          197.55429131518773,
          200.79175043456027,
          204.30953807834794,
          208.12551290516564,
          212.24620463723426,
          216.71288704435528,
          221.53365445930626,
          226.72769145518603,
          232.31429762300894,
          238.3127809501593,
          244.7423411946819,
          251.60246334667158,
          258.94939281530117,
          266.7829878344881,
          275.1206583289553,
          283.9789823732415,
          293.3735368259578,
          303.2907101210792,
          313.7980065271698,
          324.8804451946975,
          336.5477996061245,
          348.8079242301992,
          361.66656604040327,
          375.12717818697774,
          389.1513845633922,
          403.81457327062503,
          419.0745533601149,
          434.92385690385055,
          451.3518902440933,
          468.3448016021705,
          485.83657842863704,
          503.902683123819,
          522.4715644935822,
          541.5153785790224,
          561.0026440472818,
          580.8982357234056,
          601.1634049555976,
          621.69900425227,
          642.5721544651769,
          663.6776646965351,
          684.9630787723922,
          706.3728546959887,
          727.8485625190544,
          749.2703117555382,
          770.6924581525257,
          791.9905209666526,
          813.0970824929943,
          833.9432506293838,
          854.4590165305424,
          874.5736323006247,
          894.1629011057125,
          913.2635913413924,
          931.7506646334891,
          949.5544916111114,
          966.6067885358189,
          982.8410502970648,
          998.1521821016595,
          1012.562781727398,
          1025.9709155841088,
          1038.321388625059,
          1049.5628214529854,
          1059.6480060563597,
          1068.5342358683674,
          1076.164370476192,
          1082.5475693611877,
          1087.6336198909794,
          1091.4004857034827,
          1093.831793431256,
          1094.9169512598835,
          1094.6537995547442,
          1093.0420411459565,
          1090.0875753704463,
          1085.8032633861071,
          1080.2077065077399,
          1073.3251116702527,
          1065.1851169817044,
          1055.8498649163555,
          1045.3077921147192,
          1033.6273891564879,
          1020.857533877718,
          1007.0511394444909,
          992.2647895132384,
          976.5583525510515,
          960.0410715963708,
          942.6872567405096,
          924.6083909095512,
          905.8733349400293,
          886.5521261257379,
          866.7155469041613,
          846.490805382291,
          825.8376198456799,
          804.8814818806386,
          783.6920081101182,
          762.3375562145659,
          740.8848757752985,
          719.398782430897,
          698.0005483389934,
          676.6325404568893,
          655.4109405500618,
          634.390107395536,
          613.6212448601464,
          593.1522460951007,
          573.0821957513538,
          553.3416556996723,
          534.0235922733445,
          515.1617085293392,
          496.78606308896036,
          478.92308671126546,
          461.59562368079906,
          444.86817557084856,
          428.6646880028358,
          413.04444815835245,
          398.0168124199769,
          383.5880670964871,
          369.76157990055697,
          356.5733693842057,
          343.9490085046159,
          331.9211832158201,
          320.4833011695847,
          309.6267359720394,
          299.34101602931764,
          289.61401316648477,
          280.45655387122144,
          271.80347387364213,
          263.6646828375788,
          256.02325805173894,
          248.86150916805704,
          242.1611372260747,
          235.91994249095694,
          230.08460345112562,
          224.6536074343478,
          219.6076364028273,
          214.927423548657,
          210.59385599471585,
          206.58806747820188,
          202.90124278348318,
          199.4950309690843,
          196.3623062319757,
          193.4859192679558,
          190.84928701254051,
          188.43643018481936,
          186.237771340758,
          184.2265728058042,
          182.39513368011814,
          180.73011531016337,
          179.21886412060255,
          177.84941036106005,
          176.61046227734602,
          175.49430761116432,
          174.48486658495372,
          173.57603270153083,
          172.75909282322775,
          172.0259319067002,
          171.36901010439726,
          170.78285997167973,
          170.2578117798177,
          169.7896029415446,
          169.37274235263843,
          169.0021860984336,
          168.6733111569073,
          168.38188941361258,
          168.1247259166081,
          167.89690109051617,
          167.69597121095023,
          167.51903897215126,
          167.3634820224414,
          167.22693166114527,
          167.10725258170757,
          167.0027918053605,
          166.9112540797475,
          166.83139970881587,
          166.7618456009916,
          166.70135704471994,
          166.64883389040745,
          166.60341376553075,
          166.56398046734137,
          166.5298981942682,
          166.50048622281824,
          166.47514365886738,
          166.4533410494275,
          166.43461274040138,
          166.41859063529859,
          166.40482921642857,
          166.39306249662104,
          166.38301674951794,
          166.37445338804062,
          166.36716482218986,
          166.3609863729296,
          166.35572809543157,
          166.35127303440797,
          166.3475042465818,
          166.34432086946654,
          166.34163606078005,
          166.33937517864348,
          166.33747894630713,
          166.33588220016586,
          166.33454368608457,
          166.33342334281429,
          166.33248703038353,
          166.33170570417784,
          166.3310563215515,
          166.33051444200743,
          166.3300643054556,
          166.3296909441856,
          166.3293817309488,
          166.32912603074698,
          166.32891490140457,
          166.32874126881777,
          166.32859790123294,
          166.32848005766292,
          166.32838333980703,
          166.32830407989422,
          166.3282392243682,
          166.3281863661633,
          166.32814311303872,
          166.32810787969672,
          166.32807922222855,
          166.32805594829983,
          166.3280370749169,
          166.32802179298568,
          166.32800946799773,
          166.32799948784543,
          166.32799144306335
         ]
        }
       ],
       "layout": {
        "font": {
         "color": "Black",
         "size": 18
        },
        "plot_bgcolor": "white",
        "template": {
         "data": {
          "bar": [
           {
            "error_x": {
             "color": "#2a3f5f"
            },
            "error_y": {
             "color": "#2a3f5f"
            },
            "marker": {
             "line": {
              "color": "#E5ECF6",
              "width": 0.5
             },
             "pattern": {
              "fillmode": "overlay",
              "size": 10,
              "solidity": 0.2
             }
            },
            "type": "bar"
           }
          ],
          "barpolar": [
           {
            "marker": {
             "line": {
              "color": "#E5ECF6",
              "width": 0.5
             },
             "pattern": {
              "fillmode": "overlay",
              "size": 10,
              "solidity": 0.2
             }
            },
            "type": "barpolar"
           }
          ],
          "carpet": [
           {
            "aaxis": {
             "endlinecolor": "#2a3f5f",
             "gridcolor": "white",
             "linecolor": "white",
             "minorgridcolor": "white",
             "startlinecolor": "#2a3f5f"
            },
            "baxis": {
             "endlinecolor": "#2a3f5f",
             "gridcolor": "white",
             "linecolor": "white",
             "minorgridcolor": "white",
             "startlinecolor": "#2a3f5f"
            },
            "type": "carpet"
           }
          ],
          "choropleth": [
           {
            "colorbar": {
             "outlinewidth": 0,
             "ticks": ""
            },
            "type": "choropleth"
           }
          ],
          "contour": [
           {
            "colorbar": {
             "outlinewidth": 0,
             "ticks": ""
            },
            "colorscale": [
             [
              0,
              "#0d0887"
             ],
             [
              0.1111111111111111,
              "#46039f"
             ],
             [
              0.2222222222222222,
              "#7201a8"
             ],
             [
              0.3333333333333333,
              "#9c179e"
             ],
             [
              0.4444444444444444,
              "#bd3786"
             ],
             [
              0.5555555555555556,
              "#d8576b"
             ],
             [
              0.6666666666666666,
              "#ed7953"
             ],
             [
              0.7777777777777778,
              "#fb9f3a"
             ],
             [
              0.8888888888888888,
              "#fdca26"
             ],
             [
              1,
              "#f0f921"
             ]
            ],
            "type": "contour"
           }
          ],
          "contourcarpet": [
           {
            "colorbar": {
             "outlinewidth": 0,
             "ticks": ""
            },
            "type": "contourcarpet"
           }
          ],
          "heatmap": [
           {
            "colorbar": {
             "outlinewidth": 0,
             "ticks": ""
            },
            "colorscale": [
             [
              0,
              "#0d0887"
             ],
             [
              0.1111111111111111,
              "#46039f"
             ],
             [
              0.2222222222222222,
              "#7201a8"
             ],
             [
              0.3333333333333333,
              "#9c179e"
             ],
             [
              0.4444444444444444,
              "#bd3786"
             ],
             [
              0.5555555555555556,
              "#d8576b"
             ],
             [
              0.6666666666666666,
              "#ed7953"
             ],
             [
              0.7777777777777778,
              "#fb9f3a"
             ],
             [
              0.8888888888888888,
              "#fdca26"
             ],
             [
              1,
              "#f0f921"
             ]
            ],
            "type": "heatmap"
           }
          ],
          "heatmapgl": [
           {
            "colorbar": {
             "outlinewidth": 0,
             "ticks": ""
            },
            "colorscale": [
             [
              0,
              "#0d0887"
             ],
             [
              0.1111111111111111,
              "#46039f"
             ],
             [
              0.2222222222222222,
              "#7201a8"
             ],
             [
              0.3333333333333333,
              "#9c179e"
             ],
             [
              0.4444444444444444,
              "#bd3786"
             ],
             [
              0.5555555555555556,
              "#d8576b"
             ],
             [
              0.6666666666666666,
              "#ed7953"
             ],
             [
              0.7777777777777778,
              "#fb9f3a"
             ],
             [
              0.8888888888888888,
              "#fdca26"
             ],
             [
              1,
              "#f0f921"
             ]
            ],
            "type": "heatmapgl"
           }
          ],
          "histogram": [
           {
            "marker": {
             "pattern": {
              "fillmode": "overlay",
              "size": 10,
              "solidity": 0.2
             }
            },
            "type": "histogram"
           }
          ],
          "histogram2d": [
           {
            "colorbar": {
             "outlinewidth": 0,
             "ticks": ""
            },
            "colorscale": [
             [
              0,
              "#0d0887"
             ],
             [
              0.1111111111111111,
              "#46039f"
             ],
             [
              0.2222222222222222,
              "#7201a8"
             ],
             [
              0.3333333333333333,
              "#9c179e"
             ],
             [
              0.4444444444444444,
              "#bd3786"
             ],
             [
              0.5555555555555556,
              "#d8576b"
             ],
             [
              0.6666666666666666,
              "#ed7953"
             ],
             [
              0.7777777777777778,
              "#fb9f3a"
             ],
             [
              0.8888888888888888,
              "#fdca26"
             ],
             [
              1,
              "#f0f921"
             ]
            ],
            "type": "histogram2d"
           }
          ],
          "histogram2dcontour": [
           {
            "colorbar": {
             "outlinewidth": 0,
             "ticks": ""
            },
            "colorscale": [
             [
              0,
              "#0d0887"
             ],
             [
              0.1111111111111111,
              "#46039f"
             ],
             [
              0.2222222222222222,
              "#7201a8"
             ],
             [
              0.3333333333333333,
              "#9c179e"
             ],
             [
              0.4444444444444444,
              "#bd3786"
             ],
             [
              0.5555555555555556,
              "#d8576b"
             ],
             [
              0.6666666666666666,
              "#ed7953"
             ],
             [
              0.7777777777777778,
              "#fb9f3a"
             ],
             [
              0.8888888888888888,
              "#fdca26"
             ],
             [
              1,
              "#f0f921"
             ]
            ],
            "type": "histogram2dcontour"
           }
          ],
          "mesh3d": [
           {
            "colorbar": {
             "outlinewidth": 0,
             "ticks": ""
            },
            "type": "mesh3d"
           }
          ],
          "parcoords": [
           {
            "line": {
             "colorbar": {
              "outlinewidth": 0,
              "ticks": ""
             }
            },
            "type": "parcoords"
           }
          ],
          "pie": [
           {
            "automargin": true,
            "type": "pie"
           }
          ],
          "scatter": [
           {
            "fillpattern": {
             "fillmode": "overlay",
             "size": 10,
             "solidity": 0.2
            },
            "type": "scatter"
           }
          ],
          "scatter3d": [
           {
            "line": {
             "colorbar": {
              "outlinewidth": 0,
              "ticks": ""
             }
            },
            "marker": {
             "colorbar": {
              "outlinewidth": 0,
              "ticks": ""
             }
            },
            "type": "scatter3d"
           }
          ],
          "scattercarpet": [
           {
            "marker": {
             "colorbar": {
              "outlinewidth": 0,
              "ticks": ""
             }
            },
            "type": "scattercarpet"
           }
          ],
          "scattergeo": [
           {
            "marker": {
             "colorbar": {
              "outlinewidth": 0,
              "ticks": ""
             }
            },
            "type": "scattergeo"
           }
          ],
          "scattergl": [
           {
            "marker": {
             "colorbar": {
              "outlinewidth": 0,
              "ticks": ""
             }
            },
            "type": "scattergl"
           }
          ],
          "scattermapbox": [
           {
            "marker": {
             "colorbar": {
              "outlinewidth": 0,
              "ticks": ""
             }
            },
            "type": "scattermapbox"
           }
          ],
          "scatterpolar": [
           {
            "marker": {
             "colorbar": {
              "outlinewidth": 0,
              "ticks": ""
             }
            },
            "type": "scatterpolar"
           }
          ],
          "scatterpolargl": [
           {
            "marker": {
             "colorbar": {
              "outlinewidth": 0,
              "ticks": ""
             }
            },
            "type": "scatterpolargl"
           }
          ],
          "scatterternary": [
           {
            "marker": {
             "colorbar": {
              "outlinewidth": 0,
              "ticks": ""
             }
            },
            "type": "scatterternary"
           }
          ],
          "surface": [
           {
            "colorbar": {
             "outlinewidth": 0,
             "ticks": ""
            },
            "colorscale": [
             [
              0,
              "#0d0887"
             ],
             [
              0.1111111111111111,
              "#46039f"
             ],
             [
              0.2222222222222222,
              "#7201a8"
             ],
             [
              0.3333333333333333,
              "#9c179e"
             ],
             [
              0.4444444444444444,
              "#bd3786"
             ],
             [
              0.5555555555555556,
              "#d8576b"
             ],
             [
              0.6666666666666666,
              "#ed7953"
             ],
             [
              0.7777777777777778,
              "#fb9f3a"
             ],
             [
              0.8888888888888888,
              "#fdca26"
             ],
             [
              1,
              "#f0f921"
             ]
            ],
            "type": "surface"
           }
          ],
          "table": [
           {
            "cells": {
             "fill": {
              "color": "#EBF0F8"
             },
             "line": {
              "color": "white"
             }
            },
            "header": {
             "fill": {
              "color": "#C8D4E3"
             },
             "line": {
              "color": "white"
             }
            },
            "type": "table"
           }
          ]
         },
         "layout": {
          "annotationdefaults": {
           "arrowcolor": "#2a3f5f",
           "arrowhead": 0,
           "arrowwidth": 1
          },
          "autotypenumbers": "strict",
          "coloraxis": {
           "colorbar": {
            "outlinewidth": 0,
            "ticks": ""
           }
          },
          "colorscale": {
           "diverging": [
            [
             0,
             "#8e0152"
            ],
            [
             0.1,
             "#c51b7d"
            ],
            [
             0.2,
             "#de77ae"
            ],
            [
             0.3,
             "#f1b6da"
            ],
            [
             0.4,
             "#fde0ef"
            ],
            [
             0.5,
             "#f7f7f7"
            ],
            [
             0.6,
             "#e6f5d0"
            ],
            [
             0.7,
             "#b8e186"
            ],
            [
             0.8,
             "#7fbc41"
            ],
            [
             0.9,
             "#4d9221"
            ],
            [
             1,
             "#276419"
            ]
           ],
           "sequential": [
            [
             0,
             "#0d0887"
            ],
            [
             0.1111111111111111,
             "#46039f"
            ],
            [
             0.2222222222222222,
             "#7201a8"
            ],
            [
             0.3333333333333333,
             "#9c179e"
            ],
            [
             0.4444444444444444,
             "#bd3786"
            ],
            [
             0.5555555555555556,
             "#d8576b"
            ],
            [
             0.6666666666666666,
             "#ed7953"
            ],
            [
             0.7777777777777778,
             "#fb9f3a"
            ],
            [
             0.8888888888888888,
             "#fdca26"
            ],
            [
             1,
             "#f0f921"
            ]
           ],
           "sequentialminus": [
            [
             0,
             "#0d0887"
            ],
            [
             0.1111111111111111,
             "#46039f"
            ],
            [
             0.2222222222222222,
             "#7201a8"
            ],
            [
             0.3333333333333333,
             "#9c179e"
            ],
            [
             0.4444444444444444,
             "#bd3786"
            ],
            [
             0.5555555555555556,
             "#d8576b"
            ],
            [
             0.6666666666666666,
             "#ed7953"
            ],
            [
             0.7777777777777778,
             "#fb9f3a"
            ],
            [
             0.8888888888888888,
             "#fdca26"
            ],
            [
             1,
             "#f0f921"
            ]
           ]
          },
          "colorway": [
           "#636efa",
           "#EF553B",
           "#00cc96",
           "#ab63fa",
           "#FFA15A",
           "#19d3f3",
           "#FF6692",
           "#B6E880",
           "#FF97FF",
           "#FECB52"
          ],
          "font": {
           "color": "#2a3f5f"
          },
          "geo": {
           "bgcolor": "white",
           "lakecolor": "white",
           "landcolor": "#E5ECF6",
           "showlakes": true,
           "showland": true,
           "subunitcolor": "white"
          },
          "hoverlabel": {
           "align": "left"
          },
          "hovermode": "closest",
          "mapbox": {
           "style": "light"
          },
          "paper_bgcolor": "white",
          "plot_bgcolor": "#E5ECF6",
          "polar": {
           "angularaxis": {
            "gridcolor": "white",
            "linecolor": "white",
            "ticks": ""
           },
           "bgcolor": "#E5ECF6",
           "radialaxis": {
            "gridcolor": "white",
            "linecolor": "white",
            "ticks": ""
           }
          },
          "scene": {
           "xaxis": {
            "backgroundcolor": "#E5ECF6",
            "gridcolor": "white",
            "gridwidth": 2,
            "linecolor": "white",
            "showbackground": true,
            "ticks": "",
            "zerolinecolor": "white"
           },
           "yaxis": {
            "backgroundcolor": "#E5ECF6",
            "gridcolor": "white",
            "gridwidth": 2,
            "linecolor": "white",
            "showbackground": true,
            "ticks": "",
            "zerolinecolor": "white"
           },
           "zaxis": {
            "backgroundcolor": "#E5ECF6",
            "gridcolor": "white",
            "gridwidth": 2,
            "linecolor": "white",
            "showbackground": true,
            "ticks": "",
            "zerolinecolor": "white"
           }
          },
          "shapedefaults": {
           "line": {
            "color": "#2a3f5f"
           }
          },
          "ternary": {
           "aaxis": {
            "gridcolor": "white",
            "linecolor": "white",
            "ticks": ""
           },
           "baxis": {
            "gridcolor": "white",
            "linecolor": "white",
            "ticks": ""
           },
           "bgcolor": "#E5ECF6",
           "caxis": {
            "gridcolor": "white",
            "linecolor": "white",
            "ticks": ""
           }
          },
          "title": {
           "x": 0.05
          },
          "xaxis": {
           "automargin": true,
           "gridcolor": "white",
           "linecolor": "white",
           "ticks": "",
           "title": {
            "standoff": 15
           },
           "zerolinecolor": "white",
           "zerolinewidth": 2
          },
          "yaxis": {
           "automargin": true,
           "gridcolor": "white",
           "linecolor": "white",
           "ticks": "",
           "title": {
            "standoff": 15
           },
           "zerolinecolor": "white",
           "zerolinewidth": 2
          }
         }
        },
        "xaxis": {
         "gridcolor": "lightgrey",
         "linecolor": "black",
         "mirror": true,
         "showline": true,
         "ticks": "outside",
         "title": {
          "text": "Distance (μm)"
         }
        },
        "yaxis": {
         "gridcolor": "lightgrey",
         "linecolor": "black",
         "mirror": true,
         "showline": true,
         "ticks": "outside",
         "title": {
          "text": "Gray Value"
         }
        }
       }
      },
      "text/html": [
       "<div>                            <div id=\"1573dad0-a563-4f22-aa4f-114be573083e\" class=\"plotly-graph-div\" style=\"height:525px; width:100%;\"></div>            <script type=\"text/javascript\">                require([\"plotly\"], function(Plotly) {                    window.PLOTLYENV=window.PLOTLYENV || {};                                    if (document.getElementById(\"1573dad0-a563-4f22-aa4f-114be573083e\")) {                    Plotly.newPlot(                        \"1573dad0-a563-4f22-aa4f-114be573083e\",                        [{\"hoverinfo\":\"skip\",\"line\":{\"color\":\"plum\"},\"mode\":\"lines\",\"showlegend\":false,\"x\":[0.43417,0.43782,0.44147,0.44511,0.44876,0.45241,0.45606,0.45971,0.46336,0.467,0.47065,0.4743,0.47795,0.4816,0.48525,0.4889,0.49254,0.49619,0.49984,0.50349,0.50714,0.51079,0.51443,0.51808,0.52173,0.52538,0.52903,0.53268,0.53633,0.53997,0.54362,0.54727,0.55092,0.55457,0.55822,0.56186,0.56551,0.56916,0.57281,0.57646,0.58011,0.58376,0.5874,0.59105,0.5947,0.59835,0.602,0.60565,0.60929,0.61294,0.61659,0.62024,0.62389,0.62754,0.63119,0.63483,0.63848,0.64213,0.64578,0.64943,0.65308,0.65672,0.66037,0.66402,0.66767,0.67132,0.67497,0.67862,0.68226,0.68591,0.68956,0.69321,0.69686,0.70051,0.70415,0.7078,0.71145,0.7151,0.71875,0.7224,0.72605,0.72969,0.73334,0.73699,0.74064,0.74429,0.74794,0.75159,0.75523,0.75888,0.76253,0.76618,0.76983,0.77348,0.77712,0.78077,0.78442,0.78807,0.79172,0.79537,0.79902,0.80266,0.80631,0.80996,0.81361,0.81726,0.82091,0.82455,0.8282,0.83185,0.8355,0.83915,0.8428,0.84645,0.85009,0.85374,0.85739,0.86104,0.86469,0.86834,0.87198,0.87563,0.87928,0.88293,0.88658,0.89023,0.89388,0.89752,0.90117,0.90482,0.90847,0.91212,0.91577,0.91941,0.92306,0.92671,0.93036,0.93401,0.93766,0.94131,0.94495,0.9486,0.95225,0.9559,0.95955,0.9632,0.96684,0.97049,0.97414,0.97779,0.98144,0.98509,0.98874,0.99238,0.99603,0.99968,1.00333,1.00698,1.01063,1.01428,1.01792,1.02157,1.02522,1.02887,1.03252,1.03617,1.03981,1.04346,1.04711,1.05076,1.05441,1.05806,1.06171,1.06535,1.069,1.07265,1.0763,1.07995,1.0836,1.08724,1.09089,1.09454,1.09819,1.10184,1.10549,1.10914,1.11278,1.11643,1.12008,1.12373,1.12738,1.13103,1.13467,1.13832,1.14197,1.14562,1.14927,1.15292,1.15657,1.16021,1.16386,1.16751,1.17116,1.17481,1.17846,1.1821,1.18575,1.1894,1.19305,1.1967,1.20035,1.204,1.20764,1.21129,1.21494,1.21859,1.22224,1.22589,1.22953,1.23318,1.23683,1.24048,1.24413,1.24778,1.25143,1.25507,1.25872,1.26237,1.26602,1.26967,1.27332,1.27696,1.28061,1.28426,1.28791,1.29156,1.29521,1.29886,1.3025,1.30615,1.3098,1.31345,1.3171,1.32075,1.3244,1.32804,1.33169,1.33534,1.33899,1.34264,1.34629,1.34993,1.35358,1.35723,1.36088,1.36453,1.36818,1.37183,1.37547,1.37912,1.38277,1.38642,1.39007,1.39372,1.39736,1.40101,1.40466,1.40831,1.41196,1.41561,1.41926,1.4229,1.42655,1.4302,1.43385,1.4375,1.44115,1.44479,1.44844,1.45209,1.45574,1.45939,1.46304,1.46669,1.47033,1.47398,1.47763,1.48128,1.48493,1.48858,1.49222,1.49587,1.49952,1.50317,1.50682,1.51047,1.51412,1.51776,1.52141,1.52506],\"y\":[102.604,0.0,106.5,270.146,159.75,0.0,24.677,192.22,3.896,0.0,138.97,93.512,90.915,213.0,106.5,207.805,11.689,0.0,40.262,0.0,0.0,0.0,0.0,0.0,87.018,67.537,116.89,0.0,29.872,181.829,0.0,0.0,0.0,0.0,162.348,72.732,84.421,0.0,0.0,171.439,176.634,98.707,63.64,0.0,0.0,0.0,0.0,0.0,170.14,311.707,284.433,384.439,112.994,197.415,106.5,0.0,162.348,213.0,79.226,25.976,213.0,31.171,106.5,88.317,58.445,67.537,319.5,202.61,124.683,46.756,0.0,0.0,80.524,161.049,35.067,207.805,106.5,62.341,243.085,306.512,444.53,36.366,213.0,213.0,377.03,717.927,266.5,348.073,188.323,41.561,209.104,0.0,204.061,213.0,61.043,124.683,426.0,415.61,153.311,374.049,213.0,213.0,175.335,259.756,310.409,213.0,339.073,135.073,378.171,426.0,499.012,910.0,423.896,104.024,1192.598,1102.756,1010.152,1268.927,661.579,441.659,733.482,1024.439,709.799,738.707,1067.5,894.293,760.354,1066.0,1037.86,1108.293,1045.421,951.707,1064.866,1284.805,1127.482,931.073,875.079,1134.195,1223.89,1076.61,800.805,613.902,534.305,1186.341,976.384,1066.0,1183.39,1493.0,1230.372,702.439,1633.64,827.244,539.671,1513.805,1478.524,1284.951,1174.579,254.634,925.732,889.659,1036.415,546.049,941.274,712.732,856.896,832.219,902.469,1066.0,586.25,640.0,615.207,426.0,623.896,1029.634,820.378,519.951,685.171,640.0,802.268,842.585,556.433,962.098,931.049,535.61,319.677,280.976,825.683,426.0,251.963,145.463,357.39,124.683,89.756,546.341,111.701,587.927,399.226,249.756,157.152,140.268,190.921,244.244,406.988,384.439,462.701,311.707,106.5,213.0,333.854,640.0,426.067,114.293,276.64,311.707,284.433,83.122,219.494,197.415,297.421,353.268,207.805,296.122,185.726,187.024,3.896,0.0,0.0,249.366,388.61,213.0,106.5,10.39,514.817,353.488,281.835,207.805,227.287,374.049,118.189,415.61,229.884,426.0,274.043,332.488,138.97,249.366,311.707,20.78,106.5,0.0,0.0,155.854,368.97,790.561,122.104,176.634,130.03,0.0,106.5,150.659,196.116,0.0,94.811,374.049,492.549,213.0,250.665,566.488,496.591,202.61,300.427,145.463,261.055,691.366,473.256,546.341,5.201,187.024,106.5,129.878,324.957,285.732,426.104,593.171,26.006,0.0,320.799,311.707,213.0,114.293,227.287,426.0,319.5,213.0,213.0,114.293,141.567,342.878,106.5,15.585],\"type\":\"scatter\"},{\"marker\":{\"color\":\"purple\"},\"mode\":\"lines\",\"showlegend\":false,\"x\":[0.43417,0.43782,0.44147,0.44511,0.44876,0.45241,0.45606,0.45971,0.46336,0.467,0.47065,0.4743,0.47795,0.4816,0.48525,0.4889,0.49254,0.49619,0.49984,0.50349,0.50714,0.51079,0.51443,0.51808,0.52173,0.52538,0.52903,0.53268,0.53633,0.53997,0.54362,0.54727,0.55092,0.55457,0.55822,0.56186,0.56551,0.56916,0.57281,0.57646,0.58011,0.58376,0.5874,0.59105,0.5947,0.59835,0.602,0.60565,0.60929,0.61294,0.61659,0.62024,0.62389,0.62754,0.63119,0.63483,0.63848,0.64213,0.64578,0.64943,0.65308,0.65672,0.66037,0.66402,0.66767,0.67132,0.67497,0.67862,0.68226,0.68591,0.68956,0.69321,0.69686,0.70051,0.70415,0.7078,0.71145,0.7151,0.71875,0.7224,0.72605,0.72969,0.73334,0.73699,0.74064,0.74429,0.74794,0.75159,0.75523,0.75888,0.76253,0.76618,0.76983,0.77348,0.77712,0.78077,0.78442,0.78807,0.79172,0.79537,0.79902,0.80266,0.80631,0.80996,0.81361,0.81726,0.82091,0.82455,0.8282,0.83185,0.8355,0.83915,0.8428,0.84645,0.85009,0.85374,0.85739,0.86104,0.86469,0.86834,0.87198,0.87563,0.87928,0.88293,0.88658,0.89023,0.89388,0.89752,0.90117,0.90482,0.90847,0.91212,0.91577,0.91941,0.92306,0.92671,0.93036,0.93401,0.93766,0.94131,0.94495,0.9486,0.95225,0.9559,0.95955,0.9632,0.96684,0.97049,0.97414,0.97779,0.98144,0.98509,0.98874,0.99238,0.99603,0.99968,1.00333,1.00698,1.01063,1.01428,1.01792,1.02157,1.02522,1.02887,1.03252,1.03617,1.03981,1.04346,1.04711,1.05076,1.05441,1.05806,1.06171,1.06535,1.069,1.07265,1.0763,1.07995,1.0836,1.08724,1.09089,1.09454,1.09819,1.10184,1.10549,1.10914,1.11278,1.11643,1.12008,1.12373,1.12738,1.13103,1.13467,1.13832,1.14197,1.14562,1.14927,1.15292,1.15657,1.16021,1.16386,1.16751,1.17116,1.17481,1.17846,1.1821,1.18575,1.1894,1.19305,1.1967,1.20035,1.204,1.20764,1.21129,1.21494,1.21859,1.22224,1.22589,1.22953,1.23318,1.23683,1.24048,1.24413,1.24778,1.25143,1.25507,1.25872,1.26237,1.26602,1.26967,1.27332,1.27696,1.28061,1.28426,1.28791,1.29156,1.29521,1.29886,1.3025,1.30615,1.3098,1.31345,1.3171,1.32075,1.3244,1.32804,1.33169,1.33534,1.33899,1.34264,1.34629,1.34993,1.35358,1.35723,1.36088,1.36453,1.36818,1.37183,1.37547,1.37912,1.38277,1.38642,1.39007,1.39372,1.39736,1.40101,1.40466,1.40831,1.41196,1.41561,1.41926,1.4229,1.42655,1.4302,1.43385,1.4375,1.44115,1.44479,1.44844,1.45209,1.45574,1.45939,1.46304,1.46669,1.47033,1.47398,1.47763,1.48128,1.48493,1.48858,1.49222,1.49587,1.49952,1.50317,1.50682,1.51047,1.51412,1.51776,1.52141,1.52506],\"y\":[166.32815896128074,166.3282058018734,166.3282631842344,166.32833316306,166.32841884592165,166.32852334001086,166.32865058348747,166.32880529586222,166.3289931237094,166.32922012638156,166.32949557362298,166.329828470222,166.3302301910354,166.33071423297625,166.33129658417238,166.33199615210302,166.33283274667292,166.33383720821266,166.33503838387225,166.3364726214131,166.33818254451202,166.3402180513762,166.34263024421278,166.34550024097425,166.3489011734612,166.3529251299921,166.35767899372817,166.36328660443831,166.36989119882236,166.37763512473086,166.3867510753,166.39743867972666,166.40994972987076,166.42457290091548,166.44163856365637,166.46146541742849,166.48459171325254,166.5114567330947,166.54261688032676,166.57870318389348,166.6204299908943,166.66860447158285,166.72397388350785,166.7878647615132,166.86128663039685,166.9455304474894,167.04204122729953,167.1524333126944,167.2781381169307,167.42184457871411,167.58545380968687,167.7714310998019,167.98250358707256,168.22168195821743,168.49228312979406,168.7970649236608,169.1416933059822,169.52976001154278,169.96604932007472,170.45577664711197,171.00461490940359,171.61694332485246,172.30277726708638,173.0677279348331,173.9195569881631,174.86661040598446,175.9178407571893,177.08282758684848,178.36808495574098,179.7915339354762,181.36137379644939,183.08984089054422,184.98985645813514,187.0750259482926,189.35308791195467,191.8514741283742,194.57980225062266,197.55429131518773,200.79175043456027,204.30953807834794,208.12551290516564,212.24620463723426,216.71288704435528,221.53365445930626,226.72769145518603,232.31429762300894,238.3127809501593,244.7423411946819,251.60246334667158,258.94939281530117,266.7829878344881,275.1206583289553,283.9789823732415,293.3735368259578,303.2907101210792,313.7980065271698,324.8804451946975,336.5477996061245,348.8079242301992,361.66656604040327,375.12717818697774,389.1513845633922,403.81457327062503,419.0745533601149,434.92385690385055,451.3518902440933,468.3448016021705,485.83657842863704,503.902683123819,522.4715644935822,541.5153785790224,561.0026440472818,580.8982357234056,601.1634049555976,621.69900425227,642.5721544651769,663.6776646965351,684.9630787723922,706.3728546959887,727.8485625190544,749.2703117555382,770.6924581525257,791.9905209666526,813.0970824929943,833.9432506293838,854.4590165305424,874.5736323006247,894.1629011057125,913.2635913413924,931.7506646334891,949.5544916111114,966.6067885358189,982.8410502970648,998.1521821016595,1012.562781727398,1025.9709155841088,1038.321388625059,1049.5628214529854,1059.6480060563597,1068.5342358683674,1076.164370476192,1082.5475693611877,1087.6336198909794,1091.4004857034827,1093.831793431256,1094.9169512598835,1094.6537995547442,1093.0420411459565,1090.0875753704463,1085.8032633861071,1080.2077065077399,1073.3251116702527,1065.1851169817044,1055.8498649163555,1045.3077921147192,1033.6273891564879,1020.857533877718,1007.0511394444909,992.2647895132384,976.5583525510515,960.0410715963708,942.6872567405096,924.6083909095512,905.8733349400293,886.5521261257379,866.7155469041613,846.490805382291,825.8376198456799,804.8814818806386,783.6920081101182,762.3375562145659,740.8848757752985,719.398782430897,698.0005483389934,676.6325404568893,655.4109405500618,634.390107395536,613.6212448601464,593.1522460951007,573.0821957513538,553.3416556996723,534.0235922733445,515.1617085293392,496.78606308896036,478.92308671126546,461.59562368079906,444.86817557084856,428.6646880028358,413.04444815835245,398.0168124199769,383.5880670964871,369.76157990055697,356.5733693842057,343.9490085046159,331.9211832158201,320.4833011695847,309.6267359720394,299.34101602931764,289.61401316648477,280.45655387122144,271.80347387364213,263.6646828375788,256.02325805173894,248.86150916805704,242.1611372260747,235.91994249095694,230.08460345112562,224.6536074343478,219.6076364028273,214.927423548657,210.59385599471585,206.58806747820188,202.90124278348318,199.4950309690843,196.3623062319757,193.4859192679558,190.84928701254051,188.43643018481936,186.237771340758,184.2265728058042,182.39513368011814,180.73011531016337,179.21886412060255,177.84941036106005,176.61046227734602,175.49430761116432,174.48486658495372,173.57603270153083,172.75909282322775,172.0259319067002,171.36901010439726,170.78285997167973,170.2578117798177,169.7896029415446,169.37274235263843,169.0021860984336,168.6733111569073,168.38188941361258,168.1247259166081,167.89690109051617,167.69597121095023,167.51903897215126,167.3634820224414,167.22693166114527,167.10725258170757,167.0027918053605,166.9112540797475,166.83139970881587,166.7618456009916,166.70135704471994,166.64883389040745,166.60341376553075,166.56398046734137,166.5298981942682,166.50048622281824,166.47514365886738,166.4533410494275,166.43461274040138,166.41859063529859,166.40482921642857,166.39306249662104,166.38301674951794,166.37445338804062,166.36716482218986,166.3609863729296,166.35572809543157,166.35127303440797,166.3475042465818,166.34432086946654,166.34163606078005,166.33937517864348,166.33747894630713,166.33588220016586,166.33454368608457,166.33342334281429,166.33248703038353,166.33170570417784,166.3310563215515,166.33051444200743,166.3300643054556,166.3296909441856,166.3293817309488,166.32912603074698,166.32891490140457,166.32874126881777,166.32859790123294,166.32848005766292,166.32838333980703,166.32830407989422,166.3282392243682,166.3281863661633,166.32814311303872,166.32810787969672,166.32807922222855,166.32805594829983,166.3280370749169,166.32802179298568,166.32800946799773,166.32799948784543,166.32799144306335],\"type\":\"scatter\"}],                        {\"template\":{\"data\":{\"histogram2dcontour\":[{\"type\":\"histogram2dcontour\",\"colorbar\":{\"outlinewidth\":0,\"ticks\":\"\"},\"colorscale\":[[0.0,\"#0d0887\"],[0.1111111111111111,\"#46039f\"],[0.2222222222222222,\"#7201a8\"],[0.3333333333333333,\"#9c179e\"],[0.4444444444444444,\"#bd3786\"],[0.5555555555555556,\"#d8576b\"],[0.6666666666666666,\"#ed7953\"],[0.7777777777777778,\"#fb9f3a\"],[0.8888888888888888,\"#fdca26\"],[1.0,\"#f0f921\"]]}],\"choropleth\":[{\"type\":\"choropleth\",\"colorbar\":{\"outlinewidth\":0,\"ticks\":\"\"}}],\"histogram2d\":[{\"type\":\"histogram2d\",\"colorbar\":{\"outlinewidth\":0,\"ticks\":\"\"},\"colorscale\":[[0.0,\"#0d0887\"],[0.1111111111111111,\"#46039f\"],[0.2222222222222222,\"#7201a8\"],[0.3333333333333333,\"#9c179e\"],[0.4444444444444444,\"#bd3786\"],[0.5555555555555556,\"#d8576b\"],[0.6666666666666666,\"#ed7953\"],[0.7777777777777778,\"#fb9f3a\"],[0.8888888888888888,\"#fdca26\"],[1.0,\"#f0f921\"]]}],\"heatmap\":[{\"type\":\"heatmap\",\"colorbar\":{\"outlinewidth\":0,\"ticks\":\"\"},\"colorscale\":[[0.0,\"#0d0887\"],[0.1111111111111111,\"#46039f\"],[0.2222222222222222,\"#7201a8\"],[0.3333333333333333,\"#9c179e\"],[0.4444444444444444,\"#bd3786\"],[0.5555555555555556,\"#d8576b\"],[0.6666666666666666,\"#ed7953\"],[0.7777777777777778,\"#fb9f3a\"],[0.8888888888888888,\"#fdca26\"],[1.0,\"#f0f921\"]]}],\"heatmapgl\":[{\"type\":\"heatmapgl\",\"colorbar\":{\"outlinewidth\":0,\"ticks\":\"\"},\"colorscale\":[[0.0,\"#0d0887\"],[0.1111111111111111,\"#46039f\"],[0.2222222222222222,\"#7201a8\"],[0.3333333333333333,\"#9c179e\"],[0.4444444444444444,\"#bd3786\"],[0.5555555555555556,\"#d8576b\"],[0.6666666666666666,\"#ed7953\"],[0.7777777777777778,\"#fb9f3a\"],[0.8888888888888888,\"#fdca26\"],[1.0,\"#f0f921\"]]}],\"contourcarpet\":[{\"type\":\"contourcarpet\",\"colorbar\":{\"outlinewidth\":0,\"ticks\":\"\"}}],\"contour\":[{\"type\":\"contour\",\"colorbar\":{\"outlinewidth\":0,\"ticks\":\"\"},\"colorscale\":[[0.0,\"#0d0887\"],[0.1111111111111111,\"#46039f\"],[0.2222222222222222,\"#7201a8\"],[0.3333333333333333,\"#9c179e\"],[0.4444444444444444,\"#bd3786\"],[0.5555555555555556,\"#d8576b\"],[0.6666666666666666,\"#ed7953\"],[0.7777777777777778,\"#fb9f3a\"],[0.8888888888888888,\"#fdca26\"],[1.0,\"#f0f921\"]]}],\"surface\":[{\"type\":\"surface\",\"colorbar\":{\"outlinewidth\":0,\"ticks\":\"\"},\"colorscale\":[[0.0,\"#0d0887\"],[0.1111111111111111,\"#46039f\"],[0.2222222222222222,\"#7201a8\"],[0.3333333333333333,\"#9c179e\"],[0.4444444444444444,\"#bd3786\"],[0.5555555555555556,\"#d8576b\"],[0.6666666666666666,\"#ed7953\"],[0.7777777777777778,\"#fb9f3a\"],[0.8888888888888888,\"#fdca26\"],[1.0,\"#f0f921\"]]}],\"mesh3d\":[{\"type\":\"mesh3d\",\"colorbar\":{\"outlinewidth\":0,\"ticks\":\"\"}}],\"scatter\":[{\"fillpattern\":{\"fillmode\":\"overlay\",\"size\":10,\"solidity\":0.2},\"type\":\"scatter\"}],\"parcoords\":[{\"type\":\"parcoords\",\"line\":{\"colorbar\":{\"outlinewidth\":0,\"ticks\":\"\"}}}],\"scatterpolargl\":[{\"type\":\"scatterpolargl\",\"marker\":{\"colorbar\":{\"outlinewidth\":0,\"ticks\":\"\"}}}],\"bar\":[{\"error_x\":{\"color\":\"#2a3f5f\"},\"error_y\":{\"color\":\"#2a3f5f\"},\"marker\":{\"line\":{\"color\":\"#E5ECF6\",\"width\":0.5},\"pattern\":{\"fillmode\":\"overlay\",\"size\":10,\"solidity\":0.2}},\"type\":\"bar\"}],\"scattergeo\":[{\"type\":\"scattergeo\",\"marker\":{\"colorbar\":{\"outlinewidth\":0,\"ticks\":\"\"}}}],\"scatterpolar\":[{\"type\":\"scatterpolar\",\"marker\":{\"colorbar\":{\"outlinewidth\":0,\"ticks\":\"\"}}}],\"histogram\":[{\"marker\":{\"pattern\":{\"fillmode\":\"overlay\",\"size\":10,\"solidity\":0.2}},\"type\":\"histogram\"}],\"scattergl\":[{\"type\":\"scattergl\",\"marker\":{\"colorbar\":{\"outlinewidth\":0,\"ticks\":\"\"}}}],\"scatter3d\":[{\"type\":\"scatter3d\",\"line\":{\"colorbar\":{\"outlinewidth\":0,\"ticks\":\"\"}},\"marker\":{\"colorbar\":{\"outlinewidth\":0,\"ticks\":\"\"}}}],\"scattermapbox\":[{\"type\":\"scattermapbox\",\"marker\":{\"colorbar\":{\"outlinewidth\":0,\"ticks\":\"\"}}}],\"scatterternary\":[{\"type\":\"scatterternary\",\"marker\":{\"colorbar\":{\"outlinewidth\":0,\"ticks\":\"\"}}}],\"scattercarpet\":[{\"type\":\"scattercarpet\",\"marker\":{\"colorbar\":{\"outlinewidth\":0,\"ticks\":\"\"}}}],\"carpet\":[{\"aaxis\":{\"endlinecolor\":\"#2a3f5f\",\"gridcolor\":\"white\",\"linecolor\":\"white\",\"minorgridcolor\":\"white\",\"startlinecolor\":\"#2a3f5f\"},\"baxis\":{\"endlinecolor\":\"#2a3f5f\",\"gridcolor\":\"white\",\"linecolor\":\"white\",\"minorgridcolor\":\"white\",\"startlinecolor\":\"#2a3f5f\"},\"type\":\"carpet\"}],\"table\":[{\"cells\":{\"fill\":{\"color\":\"#EBF0F8\"},\"line\":{\"color\":\"white\"}},\"header\":{\"fill\":{\"color\":\"#C8D4E3\"},\"line\":{\"color\":\"white\"}},\"type\":\"table\"}],\"barpolar\":[{\"marker\":{\"line\":{\"color\":\"#E5ECF6\",\"width\":0.5},\"pattern\":{\"fillmode\":\"overlay\",\"size\":10,\"solidity\":0.2}},\"type\":\"barpolar\"}],\"pie\":[{\"automargin\":true,\"type\":\"pie\"}]},\"layout\":{\"autotypenumbers\":\"strict\",\"colorway\":[\"#636efa\",\"#EF553B\",\"#00cc96\",\"#ab63fa\",\"#FFA15A\",\"#19d3f3\",\"#FF6692\",\"#B6E880\",\"#FF97FF\",\"#FECB52\"],\"font\":{\"color\":\"#2a3f5f\"},\"hovermode\":\"closest\",\"hoverlabel\":{\"align\":\"left\"},\"paper_bgcolor\":\"white\",\"plot_bgcolor\":\"#E5ECF6\",\"polar\":{\"bgcolor\":\"#E5ECF6\",\"angularaxis\":{\"gridcolor\":\"white\",\"linecolor\":\"white\",\"ticks\":\"\"},\"radialaxis\":{\"gridcolor\":\"white\",\"linecolor\":\"white\",\"ticks\":\"\"}},\"ternary\":{\"bgcolor\":\"#E5ECF6\",\"aaxis\":{\"gridcolor\":\"white\",\"linecolor\":\"white\",\"ticks\":\"\"},\"baxis\":{\"gridcolor\":\"white\",\"linecolor\":\"white\",\"ticks\":\"\"},\"caxis\":{\"gridcolor\":\"white\",\"linecolor\":\"white\",\"ticks\":\"\"}},\"coloraxis\":{\"colorbar\":{\"outlinewidth\":0,\"ticks\":\"\"}},\"colorscale\":{\"sequential\":[[0.0,\"#0d0887\"],[0.1111111111111111,\"#46039f\"],[0.2222222222222222,\"#7201a8\"],[0.3333333333333333,\"#9c179e\"],[0.4444444444444444,\"#bd3786\"],[0.5555555555555556,\"#d8576b\"],[0.6666666666666666,\"#ed7953\"],[0.7777777777777778,\"#fb9f3a\"],[0.8888888888888888,\"#fdca26\"],[1.0,\"#f0f921\"]],\"sequentialminus\":[[0.0,\"#0d0887\"],[0.1111111111111111,\"#46039f\"],[0.2222222222222222,\"#7201a8\"],[0.3333333333333333,\"#9c179e\"],[0.4444444444444444,\"#bd3786\"],[0.5555555555555556,\"#d8576b\"],[0.6666666666666666,\"#ed7953\"],[0.7777777777777778,\"#fb9f3a\"],[0.8888888888888888,\"#fdca26\"],[1.0,\"#f0f921\"]],\"diverging\":[[0,\"#8e0152\"],[0.1,\"#c51b7d\"],[0.2,\"#de77ae\"],[0.3,\"#f1b6da\"],[0.4,\"#fde0ef\"],[0.5,\"#f7f7f7\"],[0.6,\"#e6f5d0\"],[0.7,\"#b8e186\"],[0.8,\"#7fbc41\"],[0.9,\"#4d9221\"],[1,\"#276419\"]]},\"xaxis\":{\"gridcolor\":\"white\",\"linecolor\":\"white\",\"ticks\":\"\",\"title\":{\"standoff\":15},\"zerolinecolor\":\"white\",\"automargin\":true,\"zerolinewidth\":2},\"yaxis\":{\"gridcolor\":\"white\",\"linecolor\":\"white\",\"ticks\":\"\",\"title\":{\"standoff\":15},\"zerolinecolor\":\"white\",\"automargin\":true,\"zerolinewidth\":2},\"scene\":{\"xaxis\":{\"backgroundcolor\":\"#E5ECF6\",\"gridcolor\":\"white\",\"linecolor\":\"white\",\"showbackground\":true,\"ticks\":\"\",\"zerolinecolor\":\"white\",\"gridwidth\":2},\"yaxis\":{\"backgroundcolor\":\"#E5ECF6\",\"gridcolor\":\"white\",\"linecolor\":\"white\",\"showbackground\":true,\"ticks\":\"\",\"zerolinecolor\":\"white\",\"gridwidth\":2},\"zaxis\":{\"backgroundcolor\":\"#E5ECF6\",\"gridcolor\":\"white\",\"linecolor\":\"white\",\"showbackground\":true,\"ticks\":\"\",\"zerolinecolor\":\"white\",\"gridwidth\":2}},\"shapedefaults\":{\"line\":{\"color\":\"#2a3f5f\"}},\"annotationdefaults\":{\"arrowcolor\":\"#2a3f5f\",\"arrowhead\":0,\"arrowwidth\":1},\"geo\":{\"bgcolor\":\"white\",\"landcolor\":\"#E5ECF6\",\"subunitcolor\":\"white\",\"showland\":true,\"showlakes\":true,\"lakecolor\":\"white\"},\"title\":{\"x\":0.05},\"mapbox\":{\"style\":\"light\"}}},\"font\":{\"size\":18,\"color\":\"Black\"},\"yaxis\":{\"title\":{\"text\":\"Gray Value\"},\"mirror\":true,\"ticks\":\"outside\",\"showline\":true,\"linecolor\":\"black\",\"gridcolor\":\"lightgrey\"},\"xaxis\":{\"title\":{\"text\":\"Distance (\\u03bcm)\"},\"mirror\":true,\"ticks\":\"outside\",\"showline\":true,\"linecolor\":\"black\",\"gridcolor\":\"lightgrey\"},\"plot_bgcolor\":\"white\"},                        {\"responsive\": true}                    ).then(function(){\n",
       "                            \n",
       "var gd = document.getElementById('1573dad0-a563-4f22-aa4f-114be573083e');\n",
       "var x = new MutationObserver(function (mutations, observer) {{\n",
       "        var display = window.getComputedStyle(gd).display;\n",
       "        if (!display || display === 'none') {{\n",
       "            console.log([gd, 'removed!']);\n",
       "            Plotly.purge(gd);\n",
       "            observer.disconnect();\n",
       "        }}\n",
       "}});\n",
       "\n",
       "// Listen for the removal of the full notebook cells\n",
       "var notebookContainer = gd.closest('#notebook-container');\n",
       "if (notebookContainer) {{\n",
       "    x.observe(notebookContainer, {childList: true});\n",
       "}}\n",
       "\n",
       "// Listen for the clearing of the current output cell\n",
       "var outputEl = gd.closest('.output');\n",
       "if (outputEl) {{\n",
       "    x.observe(outputEl, {childList: true});\n",
       "}}\n",
       "\n",
       "                        })                };                });            </script>        </div>"
      ]
     },
     "metadata": {},
     "output_type": "display_data"
    },
    {
     "name": "stdout",
     "output_type": "stream",
     "text": [
      "FWHM = 225.29\n"
     ]
    }
   ],
   "source": [
    "skiprows3 = 120\n",
    "maxrows3 = 300\n",
    "\n",
    "data3 = np.array(read(f'dati_verde_olio2.txt', skiprows3, maxrows3))\n",
    "popt3, pcov3 = plottiamo_plotly(data3)  # scegliere plotly o pyplot\n",
    "FWHM(popt3)"
   ]
  },
  {
   "cell_type": "markdown",
   "id": "ff087028",
   "metadata": {},
   "source": [
    "# caso 4"
   ]
  },
  {
   "cell_type": "code",
   "execution_count": 100,
   "id": "7af7136a",
   "metadata": {},
   "outputs": [
    {
     "data": {
      "application/vnd.plotly.v1+json": {
       "config": {
        "plotlyServerURL": "https://plot.ly"
       },
       "data": [
        {
         "hoverinfo": "skip",
         "line": {
          "color": "plum"
         },
         "mode": "lines",
         "showlegend": false,
         "type": "scatter",
         "x": [
          0.54362,
          0.54727,
          0.55092,
          0.55457,
          0.55822,
          0.56186,
          0.56551,
          0.56916,
          0.57281,
          0.57646,
          0.58011,
          0.58376,
          0.5874,
          0.59105,
          0.5947,
          0.59835,
          0.602,
          0.60565,
          0.60929,
          0.61294,
          0.61659,
          0.62024,
          0.62389,
          0.62754,
          0.63119,
          0.63483,
          0.63848,
          0.64213,
          0.64578,
          0.64943,
          0.65308,
          0.65672,
          0.66037,
          0.66402,
          0.66767,
          0.67132,
          0.67497,
          0.67862,
          0.68226,
          0.68591,
          0.68956,
          0.69321,
          0.69686,
          0.70051,
          0.70415,
          0.7078,
          0.71145,
          0.7151,
          0.71875,
          0.7224,
          0.72605,
          0.72969,
          0.73334,
          0.73699,
          0.74064,
          0.74429,
          0.74794,
          0.75159,
          0.75523,
          0.75888,
          0.76253,
          0.76618,
          0.76983,
          0.77348,
          0.77712,
          0.78077,
          0.78442,
          0.78807,
          0.79172,
          0.79537,
          0.79902,
          0.80266,
          0.80631,
          0.80996,
          0.81361,
          0.81726,
          0.82091,
          0.82455,
          0.8282,
          0.83185,
          0.8355,
          0.83915,
          0.8428,
          0.84645,
          0.85009,
          0.85374,
          0.85739,
          0.86104,
          0.86469,
          0.86834,
          0.87198,
          0.87563,
          0.87928,
          0.88293,
          0.88658,
          0.89023,
          0.89388,
          0.89752,
          0.90117,
          0.90482,
          0.90847,
          0.91212,
          0.91577,
          0.91941,
          0.92306,
          0.92671,
          0.93036,
          0.93401,
          0.93766,
          0.94131,
          0.94495,
          0.9486,
          0.95225,
          0.9559,
          0.95955,
          0.9632,
          0.96684,
          0.97049,
          0.97414,
          0.97779,
          0.98144,
          0.98509,
          0.98874,
          0.99238,
          0.99603,
          0.99968,
          1.00333,
          1.00698,
          1.01063,
          1.01428,
          1.01792,
          1.02157,
          1.02522,
          1.02887,
          1.03252,
          1.03617,
          1.03981,
          1.04346,
          1.04711,
          1.05076,
          1.05441,
          1.05806,
          1.06171,
          1.06535,
          1.069,
          1.07265,
          1.0763,
          1.07995,
          1.0836,
          1.08724,
          1.09089,
          1.09454,
          1.09819,
          1.10184,
          1.10549,
          1.10914,
          1.11278,
          1.11643,
          1.12008,
          1.12373,
          1.12738,
          1.13103,
          1.13467,
          1.13832,
          1.14197,
          1.14562,
          1.14927,
          1.15292,
          1.15657,
          1.16021,
          1.16386,
          1.16751,
          1.17116,
          1.17481,
          1.17846,
          1.1821,
          1.18575,
          1.1894,
          1.19305,
          1.1967,
          1.20035,
          1.204,
          1.20764,
          1.21129,
          1.21494,
          1.21859,
          1.22224,
          1.22589,
          1.22953,
          1.23318,
          1.23683,
          1.24048,
          1.24413,
          1.24778,
          1.25143,
          1.25507,
          1.25872,
          1.26237,
          1.26602,
          1.26967,
          1.27332,
          1.27696,
          1.28061,
          1.28426,
          1.28791,
          1.29156,
          1.29521,
          1.29886,
          1.3025,
          1.30615,
          1.3098,
          1.31345,
          1.3171,
          1.32075,
          1.3244,
          1.32804,
          1.33169,
          1.33534,
          1.33899,
          1.34264,
          1.34629,
          1.34993,
          1.35358,
          1.35723,
          1.36088,
          1.36453,
          1.36818,
          1.37183,
          1.37547,
          1.37912,
          1.38277,
          1.38642,
          1.39007,
          1.39372,
          1.39736,
          1.40101,
          1.40466,
          1.40831,
          1.41196,
          1.41561,
          1.41926,
          1.4229,
          1.42655,
          1.4302,
          1.43385,
          1.4375,
          1.44115,
          1.44479,
          1.44844,
          1.45209
         ],
         "y": [
          0,
          0,
          0,
          0,
          162.348,
          72.732,
          84.421,
          0,
          0,
          171.439,
          176.634,
          98.707,
          63.64,
          0,
          0,
          0,
          0,
          0,
          170.14,
          311.707,
          284.433,
          384.439,
          112.994,
          197.415,
          106.5,
          0,
          162.348,
          213,
          79.226,
          25.976,
          213,
          31.171,
          106.5,
          88.317,
          58.445,
          67.537,
          319.5,
          202.61,
          124.683,
          46.756,
          0,
          0,
          80.524,
          161.049,
          35.067,
          207.805,
          106.5,
          62.341,
          243.085,
          306.512,
          444.53,
          36.366,
          213,
          213,
          377.03,
          717.927,
          266.5,
          348.073,
          188.323,
          41.561,
          209.104,
          0,
          204.061,
          213,
          61.043,
          124.683,
          426,
          415.61,
          153.311,
          374.049,
          213,
          213,
          175.335,
          259.756,
          310.409,
          213,
          339.073,
          135.073,
          378.171,
          426,
          499.012,
          910,
          423.896,
          104.024,
          1192.598,
          1102.756,
          1010.152,
          1268.927,
          661.579,
          441.659,
          733.482,
          1024.439,
          709.799,
          738.707,
          1067.5,
          894.293,
          760.354,
          1066,
          1037.86,
          1108.293,
          1045.421,
          951.707,
          1064.866,
          1284.805,
          1127.482,
          931.073,
          875.079,
          1134.195,
          1223.89,
          1076.61,
          800.805,
          613.902,
          534.305,
          1186.341,
          976.384,
          1066,
          1183.39,
          1493,
          1230.372,
          702.439,
          1633.64,
          827.244,
          539.671,
          1513.805,
          1478.524,
          1284.951,
          1174.579,
          254.634,
          925.732,
          889.659,
          1036.415,
          546.049,
          941.274,
          712.732,
          856.896,
          832.219,
          902.469,
          1066,
          586.25,
          640,
          615.207,
          426,
          623.896,
          1029.634,
          820.378,
          519.951,
          685.171,
          640,
          802.268,
          842.585,
          556.433,
          962.098,
          931.049,
          535.61,
          319.677,
          280.976,
          825.683,
          426,
          251.963,
          145.463,
          357.39,
          124.683,
          89.756,
          546.341,
          111.701,
          587.927,
          399.226,
          249.756,
          157.152,
          140.268,
          190.921,
          244.244,
          406.988,
          384.439,
          462.701,
          311.707,
          106.5,
          213,
          333.854,
          640,
          426.067,
          114.293,
          276.64,
          311.707,
          284.433,
          83.122,
          219.494,
          197.415,
          297.421,
          353.268,
          207.805,
          296.122,
          185.726,
          187.024,
          3.896,
          0,
          0,
          249.366,
          388.61,
          213,
          106.5,
          10.39,
          514.817,
          353.488,
          281.835,
          207.805,
          227.287,
          374.049,
          118.189,
          415.61,
          229.884,
          426,
          274.043,
          332.488,
          138.97,
          249.366,
          311.707,
          20.78,
          106.5,
          0,
          0,
          155.854,
          368.97,
          790.561,
          122.104,
          176.634,
          130.03,
          0,
          106.5,
          150.659,
          196.116,
          0,
          94.811,
          374.049,
          492.549,
          213,
          250.665,
          566.488,
          496.591,
          202.61,
          300.427,
          145.463,
          261.055,
          691.366,
          473.256,
          546.341,
          5.201,
          187.024,
          106.5,
          129.878
         ]
        },
        {
         "marker": {
          "color": "purple"
         },
         "mode": "lines",
         "showlegend": false,
         "type": "scatter",
         "x": [
          0.54362,
          0.54727,
          0.55092,
          0.55457,
          0.55822,
          0.56186,
          0.56551,
          0.56916,
          0.57281,
          0.57646,
          0.58011,
          0.58376,
          0.5874,
          0.59105,
          0.5947,
          0.59835,
          0.602,
          0.60565,
          0.60929,
          0.61294,
          0.61659,
          0.62024,
          0.62389,
          0.62754,
          0.63119,
          0.63483,
          0.63848,
          0.64213,
          0.64578,
          0.64943,
          0.65308,
          0.65672,
          0.66037,
          0.66402,
          0.66767,
          0.67132,
          0.67497,
          0.67862,
          0.68226,
          0.68591,
          0.68956,
          0.69321,
          0.69686,
          0.70051,
          0.70415,
          0.7078,
          0.71145,
          0.7151,
          0.71875,
          0.7224,
          0.72605,
          0.72969,
          0.73334,
          0.73699,
          0.74064,
          0.74429,
          0.74794,
          0.75159,
          0.75523,
          0.75888,
          0.76253,
          0.76618,
          0.76983,
          0.77348,
          0.77712,
          0.78077,
          0.78442,
          0.78807,
          0.79172,
          0.79537,
          0.79902,
          0.80266,
          0.80631,
          0.80996,
          0.81361,
          0.81726,
          0.82091,
          0.82455,
          0.8282,
          0.83185,
          0.8355,
          0.83915,
          0.8428,
          0.84645,
          0.85009,
          0.85374,
          0.85739,
          0.86104,
          0.86469,
          0.86834,
          0.87198,
          0.87563,
          0.87928,
          0.88293,
          0.88658,
          0.89023,
          0.89388,
          0.89752,
          0.90117,
          0.90482,
          0.90847,
          0.91212,
          0.91577,
          0.91941,
          0.92306,
          0.92671,
          0.93036,
          0.93401,
          0.93766,
          0.94131,
          0.94495,
          0.9486,
          0.95225,
          0.9559,
          0.95955,
          0.9632,
          0.96684,
          0.97049,
          0.97414,
          0.97779,
          0.98144,
          0.98509,
          0.98874,
          0.99238,
          0.99603,
          0.99968,
          1.00333,
          1.00698,
          1.01063,
          1.01428,
          1.01792,
          1.02157,
          1.02522,
          1.02887,
          1.03252,
          1.03617,
          1.03981,
          1.04346,
          1.04711,
          1.05076,
          1.05441,
          1.05806,
          1.06171,
          1.06535,
          1.069,
          1.07265,
          1.0763,
          1.07995,
          1.0836,
          1.08724,
          1.09089,
          1.09454,
          1.09819,
          1.10184,
          1.10549,
          1.10914,
          1.11278,
          1.11643,
          1.12008,
          1.12373,
          1.12738,
          1.13103,
          1.13467,
          1.13832,
          1.14197,
          1.14562,
          1.14927,
          1.15292,
          1.15657,
          1.16021,
          1.16386,
          1.16751,
          1.17116,
          1.17481,
          1.17846,
          1.1821,
          1.18575,
          1.1894,
          1.19305,
          1.1967,
          1.20035,
          1.204,
          1.20764,
          1.21129,
          1.21494,
          1.21859,
          1.22224,
          1.22589,
          1.22953,
          1.23318,
          1.23683,
          1.24048,
          1.24413,
          1.24778,
          1.25143,
          1.25507,
          1.25872,
          1.26237,
          1.26602,
          1.26967,
          1.27332,
          1.27696,
          1.28061,
          1.28426,
          1.28791,
          1.29156,
          1.29521,
          1.29886,
          1.3025,
          1.30615,
          1.3098,
          1.31345,
          1.3171,
          1.32075,
          1.3244,
          1.32804,
          1.33169,
          1.33534,
          1.33899,
          1.34264,
          1.34629,
          1.34993,
          1.35358,
          1.35723,
          1.36088,
          1.36453,
          1.36818,
          1.37183,
          1.37547,
          1.37912,
          1.38277,
          1.38642,
          1.39007,
          1.39372,
          1.39736,
          1.40101,
          1.40466,
          1.40831,
          1.41196,
          1.41561,
          1.41926,
          1.4229,
          1.42655,
          1.4302,
          1.43385,
          1.4375,
          1.44115,
          1.44479,
          1.44844,
          1.45209
         ],
         "y": [
          178.06061100122687,
          178.0685692162444,
          178.07793771031032,
          178.0889489578332,
          178.10187052792384,
          178.11696499949073,
          178.13466693559369,
          178.15534137456268,
          178.17944909569462,
          178.20751553771586,
          178.24013874328173,
          178.27799810169088,
          178.3217347891453,
          178.37245874890706,
          178.43104276519855,
          178.49859649979786,
          178.57636844747748,
          178.66576054225456,
          178.7680432711047,
          178.88553153439088,
          179.01992392323896,
          179.17340458528284,
          179.34840152255651,
          179.54760824337953,
          179.77400656697304,
          180.0301418738242,
          180.3210439440247,
          180.6500457018335,
          181.0215301596719,
          181.44029753149564,
          181.91159322561992,
          182.43960027175302,
          183.0334258443214,
          183.69845166127055,
          184.4419856782876,
          185.27192118219753,
          186.19676284696993,
          187.2256512874197,
          188.3650900036012,
          189.63179276153633,
          191.03396195877167,
          192.58347978420423,
          194.29294841944335,
          196.17569547536507,
          198.23983366313655,
          200.511443380936,
          203.0005973821936,
          205.72346586068142,
          208.69688265444861,
          211.9383108555068,
          215.4657997207177,
          219.28699995755267,
          223.44191806437198,
          227.93993578467052,
          232.8008241403013,
          238.04457818387453,
          243.69131275914907,
          249.76114726093905,
          256.25561242953665,
          263.2300866694392,
          270.6866782849444,
          278.6441581712428,
          287.1205668420241,
          296.133038628431,
          305.67064571978614,
          315.8005250446013,
          326.5105300421958,
          337.8122772196453,
          349.71550450460813,
          362.2278675617408,
          375.3547370168459,
          389.06049879159787,
          403.42066842663326,
          418.3957853473284,
          433.98014997759475,
          450.1648501793825,
          466.93760841040375,
          484.2343595616045,
          502.13079074204245,
          520.5570535060464,
          539.4862512678887,
          558.8876476771535,
          578.7266444913787,
          598.9647880590564,
          619.5029346665348,
          640.4080178764776,
          661.5744185913356,
          682.9489542137525,
          704.4750902010377,
          726.0931395167019,
          747.6812058765007,
          769.2927943486895,
          790.8009909335129,
          812.1361421576756,
          833.2269108256955,
          854.0006539797686,
          874.3838236985299,
          894.2485185377876,
          913.6299748646499,
          932.3992723166521,
          950.483596596924,
          967.8114615937582,
          984.313176359208,
          999.8798275266624,
          1014.532374402786,
          1028.1652347570985,
          1040.7204367176932,
          1052.1440091627303,
          1062.3863678274552,
          1071.4026736067954,
          1079.1336870231376,
          1085.5875541797209,
          1090.712485057384,
          1094.485511509648,
          1096.8896688138145,
          1097.9141227380094,
          1097.5571279127716,
          1095.8183347439501,
          1092.7046684558672,
          1088.230146087206,
          1082.4148551051956,
          1075.284803184562,
          1066.8717244538843,
          1057.2409713641891,
          1046.3819661661496,
          1034.3668139497481,
          1021.2474137607695,
          1007.0798551002215,
          991.9240189422405,
          975.8431568831992,
          958.9509740282655,
          941.2231601347264,
          922.7756538181308,
          903.6806862351142,
          884.0115755667741,
          863.8422637933663,
          843.3038016246263,
          822.3570067566942,
          801.1308848399206,
          779.6974523584812,
          758.1272215893514,
          736.4888354860993,
          714.8487291835773,
          693.3297964967029,
          671.8747864761524,
          650.6010146876594,
          629.5633053763637,
          608.8130407415973,
          588.3980119292146,
          568.4166397812369,
          548.7993438143869,
          529.6380195596469,
          510.9652674538577,
          492.8098340125822,
          475.1966480994207,
          458.14688316477884,
          441.7223565174744,
          425.84673971415657,
          410.57647734894664,
          395.91880050013776,
          381.8778123448586,
          368.45466131207866,
          355.68197364513014,
          343.4853806553684,
          331.8942376544312,
          320.89978693490275,
          310.49129384562366,
          300.65625021617217,
          291.3805759590848,
          282.67201169504375,
          274.4661132172713,
          266.76991761554575,
          259.564985319624,
          252.83223389484357,
          246.5521002726453,
          240.72014054779177,
          235.28427952912645,
          230.24099066361825,
          225.57020735171722,
          221.2520380526753,
          217.26686486009416,
          213.59543123571248,
          210.22778373208763,
          207.12714709442787,
          204.28541654604356,
          201.685449529523,
          199.31075157422526,
          197.14550640654804,
          195.17974574549808,
          193.3883002710458,
          191.76315152507763,
          190.29134735255397,
          188.9606588192157,
          187.75957235698843,
          186.67727767255712,
          185.70617974315067,
          184.831509365395,
          184.04726996047475,
          183.34527613915182,
          182.71794058903023,
          182.15824739886563,
          181.6610122479255,
          181.21755952714383,
          180.82386568910607,
          180.47491903238765,
          180.16613851993583,
          179.89334604422783,
          179.6527393228048,
          179.44140971341193,
          179.255074081306,
          179.09152103744992,
          178.94819712754182,
          178.82280306243433,
          178.71327267462928,
          178.61775306521136,
          178.53479831293336,
          178.4624746354777,
          178.39970543394597,
          178.34531575005067,
          178.29826233838074,
          178.25762070484947,
          178.22266222947175,
          178.19247454985015,
          178.1665248336645,
          178.14425361766945,
          178.12516983859874,
          178.10884328045856,
          178.09489773952302,
          178.08303490333867,
          178.0729041199016,
          178.0642917869072,
          178.05698188547748,
          178.05078725037387,
          178.0455460109436,
          178.04112955864096,
          178.0373934590797,
          178.0342472759727,
          178.0316020321197,
          178.0293814640436,
          178.02752032161078,
          178.02596287653174,
          178.02466487031336,
          178.02357881914185,
          178.02267425196175,
          178.02192202179603,
          178.02129745274166,
          178.02077969048943,
          178.02035220735357,
          178.01999786731423,
          178.01970549585246
         ]
        }
       ],
       "layout": {
        "font": {
         "color": "Black",
         "size": 18
        },
        "plot_bgcolor": "white",
        "template": {
         "data": {
          "bar": [
           {
            "error_x": {
             "color": "#2a3f5f"
            },
            "error_y": {
             "color": "#2a3f5f"
            },
            "marker": {
             "line": {
              "color": "#E5ECF6",
              "width": 0.5
             },
             "pattern": {
              "fillmode": "overlay",
              "size": 10,
              "solidity": 0.2
             }
            },
            "type": "bar"
           }
          ],
          "barpolar": [
           {
            "marker": {
             "line": {
              "color": "#E5ECF6",
              "width": 0.5
             },
             "pattern": {
              "fillmode": "overlay",
              "size": 10,
              "solidity": 0.2
             }
            },
            "type": "barpolar"
           }
          ],
          "carpet": [
           {
            "aaxis": {
             "endlinecolor": "#2a3f5f",
             "gridcolor": "white",
             "linecolor": "white",
             "minorgridcolor": "white",
             "startlinecolor": "#2a3f5f"
            },
            "baxis": {
             "endlinecolor": "#2a3f5f",
             "gridcolor": "white",
             "linecolor": "white",
             "minorgridcolor": "white",
             "startlinecolor": "#2a3f5f"
            },
            "type": "carpet"
           }
          ],
          "choropleth": [
           {
            "colorbar": {
             "outlinewidth": 0,
             "ticks": ""
            },
            "type": "choropleth"
           }
          ],
          "contour": [
           {
            "colorbar": {
             "outlinewidth": 0,
             "ticks": ""
            },
            "colorscale": [
             [
              0,
              "#0d0887"
             ],
             [
              0.1111111111111111,
              "#46039f"
             ],
             [
              0.2222222222222222,
              "#7201a8"
             ],
             [
              0.3333333333333333,
              "#9c179e"
             ],
             [
              0.4444444444444444,
              "#bd3786"
             ],
             [
              0.5555555555555556,
              "#d8576b"
             ],
             [
              0.6666666666666666,
              "#ed7953"
             ],
             [
              0.7777777777777778,
              "#fb9f3a"
             ],
             [
              0.8888888888888888,
              "#fdca26"
             ],
             [
              1,
              "#f0f921"
             ]
            ],
            "type": "contour"
           }
          ],
          "contourcarpet": [
           {
            "colorbar": {
             "outlinewidth": 0,
             "ticks": ""
            },
            "type": "contourcarpet"
           }
          ],
          "heatmap": [
           {
            "colorbar": {
             "outlinewidth": 0,
             "ticks": ""
            },
            "colorscale": [
             [
              0,
              "#0d0887"
             ],
             [
              0.1111111111111111,
              "#46039f"
             ],
             [
              0.2222222222222222,
              "#7201a8"
             ],
             [
              0.3333333333333333,
              "#9c179e"
             ],
             [
              0.4444444444444444,
              "#bd3786"
             ],
             [
              0.5555555555555556,
              "#d8576b"
             ],
             [
              0.6666666666666666,
              "#ed7953"
             ],
             [
              0.7777777777777778,
              "#fb9f3a"
             ],
             [
              0.8888888888888888,
              "#fdca26"
             ],
             [
              1,
              "#f0f921"
             ]
            ],
            "type": "heatmap"
           }
          ],
          "heatmapgl": [
           {
            "colorbar": {
             "outlinewidth": 0,
             "ticks": ""
            },
            "colorscale": [
             [
              0,
              "#0d0887"
             ],
             [
              0.1111111111111111,
              "#46039f"
             ],
             [
              0.2222222222222222,
              "#7201a8"
             ],
             [
              0.3333333333333333,
              "#9c179e"
             ],
             [
              0.4444444444444444,
              "#bd3786"
             ],
             [
              0.5555555555555556,
              "#d8576b"
             ],
             [
              0.6666666666666666,
              "#ed7953"
             ],
             [
              0.7777777777777778,
              "#fb9f3a"
             ],
             [
              0.8888888888888888,
              "#fdca26"
             ],
             [
              1,
              "#f0f921"
             ]
            ],
            "type": "heatmapgl"
           }
          ],
          "histogram": [
           {
            "marker": {
             "pattern": {
              "fillmode": "overlay",
              "size": 10,
              "solidity": 0.2
             }
            },
            "type": "histogram"
           }
          ],
          "histogram2d": [
           {
            "colorbar": {
             "outlinewidth": 0,
             "ticks": ""
            },
            "colorscale": [
             [
              0,
              "#0d0887"
             ],
             [
              0.1111111111111111,
              "#46039f"
             ],
             [
              0.2222222222222222,
              "#7201a8"
             ],
             [
              0.3333333333333333,
              "#9c179e"
             ],
             [
              0.4444444444444444,
              "#bd3786"
             ],
             [
              0.5555555555555556,
              "#d8576b"
             ],
             [
              0.6666666666666666,
              "#ed7953"
             ],
             [
              0.7777777777777778,
              "#fb9f3a"
             ],
             [
              0.8888888888888888,
              "#fdca26"
             ],
             [
              1,
              "#f0f921"
             ]
            ],
            "type": "histogram2d"
           }
          ],
          "histogram2dcontour": [
           {
            "colorbar": {
             "outlinewidth": 0,
             "ticks": ""
            },
            "colorscale": [
             [
              0,
              "#0d0887"
             ],
             [
              0.1111111111111111,
              "#46039f"
             ],
             [
              0.2222222222222222,
              "#7201a8"
             ],
             [
              0.3333333333333333,
              "#9c179e"
             ],
             [
              0.4444444444444444,
              "#bd3786"
             ],
             [
              0.5555555555555556,
              "#d8576b"
             ],
             [
              0.6666666666666666,
              "#ed7953"
             ],
             [
              0.7777777777777778,
              "#fb9f3a"
             ],
             [
              0.8888888888888888,
              "#fdca26"
             ],
             [
              1,
              "#f0f921"
             ]
            ],
            "type": "histogram2dcontour"
           }
          ],
          "mesh3d": [
           {
            "colorbar": {
             "outlinewidth": 0,
             "ticks": ""
            },
            "type": "mesh3d"
           }
          ],
          "parcoords": [
           {
            "line": {
             "colorbar": {
              "outlinewidth": 0,
              "ticks": ""
             }
            },
            "type": "parcoords"
           }
          ],
          "pie": [
           {
            "automargin": true,
            "type": "pie"
           }
          ],
          "scatter": [
           {
            "fillpattern": {
             "fillmode": "overlay",
             "size": 10,
             "solidity": 0.2
            },
            "type": "scatter"
           }
          ],
          "scatter3d": [
           {
            "line": {
             "colorbar": {
              "outlinewidth": 0,
              "ticks": ""
             }
            },
            "marker": {
             "colorbar": {
              "outlinewidth": 0,
              "ticks": ""
             }
            },
            "type": "scatter3d"
           }
          ],
          "scattercarpet": [
           {
            "marker": {
             "colorbar": {
              "outlinewidth": 0,
              "ticks": ""
             }
            },
            "type": "scattercarpet"
           }
          ],
          "scattergeo": [
           {
            "marker": {
             "colorbar": {
              "outlinewidth": 0,
              "ticks": ""
             }
            },
            "type": "scattergeo"
           }
          ],
          "scattergl": [
           {
            "marker": {
             "colorbar": {
              "outlinewidth": 0,
              "ticks": ""
             }
            },
            "type": "scattergl"
           }
          ],
          "scattermapbox": [
           {
            "marker": {
             "colorbar": {
              "outlinewidth": 0,
              "ticks": ""
             }
            },
            "type": "scattermapbox"
           }
          ],
          "scatterpolar": [
           {
            "marker": {
             "colorbar": {
              "outlinewidth": 0,
              "ticks": ""
             }
            },
            "type": "scatterpolar"
           }
          ],
          "scatterpolargl": [
           {
            "marker": {
             "colorbar": {
              "outlinewidth": 0,
              "ticks": ""
             }
            },
            "type": "scatterpolargl"
           }
          ],
          "scatterternary": [
           {
            "marker": {
             "colorbar": {
              "outlinewidth": 0,
              "ticks": ""
             }
            },
            "type": "scatterternary"
           }
          ],
          "surface": [
           {
            "colorbar": {
             "outlinewidth": 0,
             "ticks": ""
            },
            "colorscale": [
             [
              0,
              "#0d0887"
             ],
             [
              0.1111111111111111,
              "#46039f"
             ],
             [
              0.2222222222222222,
              "#7201a8"
             ],
             [
              0.3333333333333333,
              "#9c179e"
             ],
             [
              0.4444444444444444,
              "#bd3786"
             ],
             [
              0.5555555555555556,
              "#d8576b"
             ],
             [
              0.6666666666666666,
              "#ed7953"
             ],
             [
              0.7777777777777778,
              "#fb9f3a"
             ],
             [
              0.8888888888888888,
              "#fdca26"
             ],
             [
              1,
              "#f0f921"
             ]
            ],
            "type": "surface"
           }
          ],
          "table": [
           {
            "cells": {
             "fill": {
              "color": "#EBF0F8"
             },
             "line": {
              "color": "white"
             }
            },
            "header": {
             "fill": {
              "color": "#C8D4E3"
             },
             "line": {
              "color": "white"
             }
            },
            "type": "table"
           }
          ]
         },
         "layout": {
          "annotationdefaults": {
           "arrowcolor": "#2a3f5f",
           "arrowhead": 0,
           "arrowwidth": 1
          },
          "autotypenumbers": "strict",
          "coloraxis": {
           "colorbar": {
            "outlinewidth": 0,
            "ticks": ""
           }
          },
          "colorscale": {
           "diverging": [
            [
             0,
             "#8e0152"
            ],
            [
             0.1,
             "#c51b7d"
            ],
            [
             0.2,
             "#de77ae"
            ],
            [
             0.3,
             "#f1b6da"
            ],
            [
             0.4,
             "#fde0ef"
            ],
            [
             0.5,
             "#f7f7f7"
            ],
            [
             0.6,
             "#e6f5d0"
            ],
            [
             0.7,
             "#b8e186"
            ],
            [
             0.8,
             "#7fbc41"
            ],
            [
             0.9,
             "#4d9221"
            ],
            [
             1,
             "#276419"
            ]
           ],
           "sequential": [
            [
             0,
             "#0d0887"
            ],
            [
             0.1111111111111111,
             "#46039f"
            ],
            [
             0.2222222222222222,
             "#7201a8"
            ],
            [
             0.3333333333333333,
             "#9c179e"
            ],
            [
             0.4444444444444444,
             "#bd3786"
            ],
            [
             0.5555555555555556,
             "#d8576b"
            ],
            [
             0.6666666666666666,
             "#ed7953"
            ],
            [
             0.7777777777777778,
             "#fb9f3a"
            ],
            [
             0.8888888888888888,
             "#fdca26"
            ],
            [
             1,
             "#f0f921"
            ]
           ],
           "sequentialminus": [
            [
             0,
             "#0d0887"
            ],
            [
             0.1111111111111111,
             "#46039f"
            ],
            [
             0.2222222222222222,
             "#7201a8"
            ],
            [
             0.3333333333333333,
             "#9c179e"
            ],
            [
             0.4444444444444444,
             "#bd3786"
            ],
            [
             0.5555555555555556,
             "#d8576b"
            ],
            [
             0.6666666666666666,
             "#ed7953"
            ],
            [
             0.7777777777777778,
             "#fb9f3a"
            ],
            [
             0.8888888888888888,
             "#fdca26"
            ],
            [
             1,
             "#f0f921"
            ]
           ]
          },
          "colorway": [
           "#636efa",
           "#EF553B",
           "#00cc96",
           "#ab63fa",
           "#FFA15A",
           "#19d3f3",
           "#FF6692",
           "#B6E880",
           "#FF97FF",
           "#FECB52"
          ],
          "font": {
           "color": "#2a3f5f"
          },
          "geo": {
           "bgcolor": "white",
           "lakecolor": "white",
           "landcolor": "#E5ECF6",
           "showlakes": true,
           "showland": true,
           "subunitcolor": "white"
          },
          "hoverlabel": {
           "align": "left"
          },
          "hovermode": "closest",
          "mapbox": {
           "style": "light"
          },
          "paper_bgcolor": "white",
          "plot_bgcolor": "#E5ECF6",
          "polar": {
           "angularaxis": {
            "gridcolor": "white",
            "linecolor": "white",
            "ticks": ""
           },
           "bgcolor": "#E5ECF6",
           "radialaxis": {
            "gridcolor": "white",
            "linecolor": "white",
            "ticks": ""
           }
          },
          "scene": {
           "xaxis": {
            "backgroundcolor": "#E5ECF6",
            "gridcolor": "white",
            "gridwidth": 2,
            "linecolor": "white",
            "showbackground": true,
            "ticks": "",
            "zerolinecolor": "white"
           },
           "yaxis": {
            "backgroundcolor": "#E5ECF6",
            "gridcolor": "white",
            "gridwidth": 2,
            "linecolor": "white",
            "showbackground": true,
            "ticks": "",
            "zerolinecolor": "white"
           },
           "zaxis": {
            "backgroundcolor": "#E5ECF6",
            "gridcolor": "white",
            "gridwidth": 2,
            "linecolor": "white",
            "showbackground": true,
            "ticks": "",
            "zerolinecolor": "white"
           }
          },
          "shapedefaults": {
           "line": {
            "color": "#2a3f5f"
           }
          },
          "ternary": {
           "aaxis": {
            "gridcolor": "white",
            "linecolor": "white",
            "ticks": ""
           },
           "baxis": {
            "gridcolor": "white",
            "linecolor": "white",
            "ticks": ""
           },
           "bgcolor": "#E5ECF6",
           "caxis": {
            "gridcolor": "white",
            "linecolor": "white",
            "ticks": ""
           }
          },
          "title": {
           "x": 0.05
          },
          "xaxis": {
           "automargin": true,
           "gridcolor": "white",
           "linecolor": "white",
           "ticks": "",
           "title": {
            "standoff": 15
           },
           "zerolinecolor": "white",
           "zerolinewidth": 2
          },
          "yaxis": {
           "automargin": true,
           "gridcolor": "white",
           "linecolor": "white",
           "ticks": "",
           "title": {
            "standoff": 15
           },
           "zerolinecolor": "white",
           "zerolinewidth": 2
          }
         }
        },
        "xaxis": {
         "gridcolor": "lightgrey",
         "linecolor": "black",
         "mirror": true,
         "showline": true,
         "ticks": "outside",
         "title": {
          "text": "Distance (μm)"
         }
        },
        "yaxis": {
         "gridcolor": "lightgrey",
         "linecolor": "black",
         "mirror": true,
         "showline": true,
         "ticks": "outside",
         "title": {
          "text": "Gray Value"
         }
        }
       }
      },
      "text/html": [
       "<div>                            <div id=\"63ca172d-78ba-41a5-8522-ee9e63cd781b\" class=\"plotly-graph-div\" style=\"height:525px; width:100%;\"></div>            <script type=\"text/javascript\">                require([\"plotly\"], function(Plotly) {                    window.PLOTLYENV=window.PLOTLYENV || {};                                    if (document.getElementById(\"63ca172d-78ba-41a5-8522-ee9e63cd781b\")) {                    Plotly.newPlot(                        \"63ca172d-78ba-41a5-8522-ee9e63cd781b\",                        [{\"hoverinfo\":\"skip\",\"line\":{\"color\":\"plum\"},\"mode\":\"lines\",\"showlegend\":false,\"x\":[0.54362,0.54727,0.55092,0.55457,0.55822,0.56186,0.56551,0.56916,0.57281,0.57646,0.58011,0.58376,0.5874,0.59105,0.5947,0.59835,0.602,0.60565,0.60929,0.61294,0.61659,0.62024,0.62389,0.62754,0.63119,0.63483,0.63848,0.64213,0.64578,0.64943,0.65308,0.65672,0.66037,0.66402,0.66767,0.67132,0.67497,0.67862,0.68226,0.68591,0.68956,0.69321,0.69686,0.70051,0.70415,0.7078,0.71145,0.7151,0.71875,0.7224,0.72605,0.72969,0.73334,0.73699,0.74064,0.74429,0.74794,0.75159,0.75523,0.75888,0.76253,0.76618,0.76983,0.77348,0.77712,0.78077,0.78442,0.78807,0.79172,0.79537,0.79902,0.80266,0.80631,0.80996,0.81361,0.81726,0.82091,0.82455,0.8282,0.83185,0.8355,0.83915,0.8428,0.84645,0.85009,0.85374,0.85739,0.86104,0.86469,0.86834,0.87198,0.87563,0.87928,0.88293,0.88658,0.89023,0.89388,0.89752,0.90117,0.90482,0.90847,0.91212,0.91577,0.91941,0.92306,0.92671,0.93036,0.93401,0.93766,0.94131,0.94495,0.9486,0.95225,0.9559,0.95955,0.9632,0.96684,0.97049,0.97414,0.97779,0.98144,0.98509,0.98874,0.99238,0.99603,0.99968,1.00333,1.00698,1.01063,1.01428,1.01792,1.02157,1.02522,1.02887,1.03252,1.03617,1.03981,1.04346,1.04711,1.05076,1.05441,1.05806,1.06171,1.06535,1.069,1.07265,1.0763,1.07995,1.0836,1.08724,1.09089,1.09454,1.09819,1.10184,1.10549,1.10914,1.11278,1.11643,1.12008,1.12373,1.12738,1.13103,1.13467,1.13832,1.14197,1.14562,1.14927,1.15292,1.15657,1.16021,1.16386,1.16751,1.17116,1.17481,1.17846,1.1821,1.18575,1.1894,1.19305,1.1967,1.20035,1.204,1.20764,1.21129,1.21494,1.21859,1.22224,1.22589,1.22953,1.23318,1.23683,1.24048,1.24413,1.24778,1.25143,1.25507,1.25872,1.26237,1.26602,1.26967,1.27332,1.27696,1.28061,1.28426,1.28791,1.29156,1.29521,1.29886,1.3025,1.30615,1.3098,1.31345,1.3171,1.32075,1.3244,1.32804,1.33169,1.33534,1.33899,1.34264,1.34629,1.34993,1.35358,1.35723,1.36088,1.36453,1.36818,1.37183,1.37547,1.37912,1.38277,1.38642,1.39007,1.39372,1.39736,1.40101,1.40466,1.40831,1.41196,1.41561,1.41926,1.4229,1.42655,1.4302,1.43385,1.4375,1.44115,1.44479,1.44844,1.45209],\"y\":[0.0,0.0,0.0,0.0,162.348,72.732,84.421,0.0,0.0,171.439,176.634,98.707,63.64,0.0,0.0,0.0,0.0,0.0,170.14,311.707,284.433,384.439,112.994,197.415,106.5,0.0,162.348,213.0,79.226,25.976,213.0,31.171,106.5,88.317,58.445,67.537,319.5,202.61,124.683,46.756,0.0,0.0,80.524,161.049,35.067,207.805,106.5,62.341,243.085,306.512,444.53,36.366,213.0,213.0,377.03,717.927,266.5,348.073,188.323,41.561,209.104,0.0,204.061,213.0,61.043,124.683,426.0,415.61,153.311,374.049,213.0,213.0,175.335,259.756,310.409,213.0,339.073,135.073,378.171,426.0,499.012,910.0,423.896,104.024,1192.598,1102.756,1010.152,1268.927,661.579,441.659,733.482,1024.439,709.799,738.707,1067.5,894.293,760.354,1066.0,1037.86,1108.293,1045.421,951.707,1064.866,1284.805,1127.482,931.073,875.079,1134.195,1223.89,1076.61,800.805,613.902,534.305,1186.341,976.384,1066.0,1183.39,1493.0,1230.372,702.439,1633.64,827.244,539.671,1513.805,1478.524,1284.951,1174.579,254.634,925.732,889.659,1036.415,546.049,941.274,712.732,856.896,832.219,902.469,1066.0,586.25,640.0,615.207,426.0,623.896,1029.634,820.378,519.951,685.171,640.0,802.268,842.585,556.433,962.098,931.049,535.61,319.677,280.976,825.683,426.0,251.963,145.463,357.39,124.683,89.756,546.341,111.701,587.927,399.226,249.756,157.152,140.268,190.921,244.244,406.988,384.439,462.701,311.707,106.5,213.0,333.854,640.0,426.067,114.293,276.64,311.707,284.433,83.122,219.494,197.415,297.421,353.268,207.805,296.122,185.726,187.024,3.896,0.0,0.0,249.366,388.61,213.0,106.5,10.39,514.817,353.488,281.835,207.805,227.287,374.049,118.189,415.61,229.884,426.0,274.043,332.488,138.97,249.366,311.707,20.78,106.5,0.0,0.0,155.854,368.97,790.561,122.104,176.634,130.03,0.0,106.5,150.659,196.116,0.0,94.811,374.049,492.549,213.0,250.665,566.488,496.591,202.61,300.427,145.463,261.055,691.366,473.256,546.341,5.201,187.024,106.5,129.878],\"type\":\"scatter\"},{\"marker\":{\"color\":\"purple\"},\"mode\":\"lines\",\"showlegend\":false,\"x\":[0.54362,0.54727,0.55092,0.55457,0.55822,0.56186,0.56551,0.56916,0.57281,0.57646,0.58011,0.58376,0.5874,0.59105,0.5947,0.59835,0.602,0.60565,0.60929,0.61294,0.61659,0.62024,0.62389,0.62754,0.63119,0.63483,0.63848,0.64213,0.64578,0.64943,0.65308,0.65672,0.66037,0.66402,0.66767,0.67132,0.67497,0.67862,0.68226,0.68591,0.68956,0.69321,0.69686,0.70051,0.70415,0.7078,0.71145,0.7151,0.71875,0.7224,0.72605,0.72969,0.73334,0.73699,0.74064,0.74429,0.74794,0.75159,0.75523,0.75888,0.76253,0.76618,0.76983,0.77348,0.77712,0.78077,0.78442,0.78807,0.79172,0.79537,0.79902,0.80266,0.80631,0.80996,0.81361,0.81726,0.82091,0.82455,0.8282,0.83185,0.8355,0.83915,0.8428,0.84645,0.85009,0.85374,0.85739,0.86104,0.86469,0.86834,0.87198,0.87563,0.87928,0.88293,0.88658,0.89023,0.89388,0.89752,0.90117,0.90482,0.90847,0.91212,0.91577,0.91941,0.92306,0.92671,0.93036,0.93401,0.93766,0.94131,0.94495,0.9486,0.95225,0.9559,0.95955,0.9632,0.96684,0.97049,0.97414,0.97779,0.98144,0.98509,0.98874,0.99238,0.99603,0.99968,1.00333,1.00698,1.01063,1.01428,1.01792,1.02157,1.02522,1.02887,1.03252,1.03617,1.03981,1.04346,1.04711,1.05076,1.05441,1.05806,1.06171,1.06535,1.069,1.07265,1.0763,1.07995,1.0836,1.08724,1.09089,1.09454,1.09819,1.10184,1.10549,1.10914,1.11278,1.11643,1.12008,1.12373,1.12738,1.13103,1.13467,1.13832,1.14197,1.14562,1.14927,1.15292,1.15657,1.16021,1.16386,1.16751,1.17116,1.17481,1.17846,1.1821,1.18575,1.1894,1.19305,1.1967,1.20035,1.204,1.20764,1.21129,1.21494,1.21859,1.22224,1.22589,1.22953,1.23318,1.23683,1.24048,1.24413,1.24778,1.25143,1.25507,1.25872,1.26237,1.26602,1.26967,1.27332,1.27696,1.28061,1.28426,1.28791,1.29156,1.29521,1.29886,1.3025,1.30615,1.3098,1.31345,1.3171,1.32075,1.3244,1.32804,1.33169,1.33534,1.33899,1.34264,1.34629,1.34993,1.35358,1.35723,1.36088,1.36453,1.36818,1.37183,1.37547,1.37912,1.38277,1.38642,1.39007,1.39372,1.39736,1.40101,1.40466,1.40831,1.41196,1.41561,1.41926,1.4229,1.42655,1.4302,1.43385,1.4375,1.44115,1.44479,1.44844,1.45209],\"y\":[178.06061100122687,178.0685692162444,178.07793771031032,178.0889489578332,178.10187052792384,178.11696499949073,178.13466693559369,178.15534137456268,178.17944909569462,178.20751553771586,178.24013874328173,178.27799810169088,178.3217347891453,178.37245874890706,178.43104276519855,178.49859649979786,178.57636844747748,178.66576054225456,178.7680432711047,178.88553153439088,179.01992392323896,179.17340458528284,179.34840152255651,179.54760824337953,179.77400656697304,180.0301418738242,180.3210439440247,180.6500457018335,181.0215301596719,181.44029753149564,181.91159322561992,182.43960027175302,183.0334258443214,183.69845166127055,184.4419856782876,185.27192118219753,186.19676284696993,187.2256512874197,188.3650900036012,189.63179276153633,191.03396195877167,192.58347978420423,194.29294841944335,196.17569547536507,198.23983366313655,200.511443380936,203.0005973821936,205.72346586068142,208.69688265444861,211.9383108555068,215.4657997207177,219.28699995755267,223.44191806437198,227.93993578467052,232.8008241403013,238.04457818387453,243.69131275914907,249.76114726093905,256.25561242953665,263.2300866694392,270.6866782849444,278.6441581712428,287.1205668420241,296.133038628431,305.67064571978614,315.8005250446013,326.5105300421958,337.8122772196453,349.71550450460813,362.2278675617408,375.3547370168459,389.06049879159787,403.42066842663326,418.3957853473284,433.98014997759475,450.1648501793825,466.93760841040375,484.2343595616045,502.13079074204245,520.5570535060464,539.4862512678887,558.8876476771535,578.7266444913787,598.9647880590564,619.5029346665348,640.4080178764776,661.5744185913356,682.9489542137525,704.4750902010377,726.0931395167019,747.6812058765007,769.2927943486895,790.8009909335129,812.1361421576756,833.2269108256955,854.0006539797686,874.3838236985299,894.2485185377876,913.6299748646499,932.3992723166521,950.483596596924,967.8114615937582,984.313176359208,999.8798275266624,1014.532374402786,1028.1652347570985,1040.7204367176932,1052.1440091627303,1062.3863678274552,1071.4026736067954,1079.1336870231376,1085.5875541797209,1090.712485057384,1094.485511509648,1096.8896688138145,1097.9141227380094,1097.5571279127716,1095.8183347439501,1092.7046684558672,1088.230146087206,1082.4148551051956,1075.284803184562,1066.8717244538843,1057.2409713641891,1046.3819661661496,1034.3668139497481,1021.2474137607695,1007.0798551002215,991.9240189422405,975.8431568831992,958.9509740282655,941.2231601347264,922.7756538181308,903.6806862351142,884.0115755667741,863.8422637933663,843.3038016246263,822.3570067566942,801.1308848399206,779.6974523584812,758.1272215893514,736.4888354860993,714.8487291835773,693.3297964967029,671.8747864761524,650.6010146876594,629.5633053763637,608.8130407415973,588.3980119292146,568.4166397812369,548.7993438143869,529.6380195596469,510.9652674538577,492.8098340125822,475.1966480994207,458.14688316477884,441.7223565174744,425.84673971415657,410.57647734894664,395.91880050013776,381.8778123448586,368.45466131207866,355.68197364513014,343.4853806553684,331.8942376544312,320.89978693490275,310.49129384562366,300.65625021617217,291.3805759590848,282.67201169504375,274.4661132172713,266.76991761554575,259.564985319624,252.83223389484357,246.5521002726453,240.72014054779177,235.28427952912645,230.24099066361825,225.57020735171722,221.2520380526753,217.26686486009416,213.59543123571248,210.22778373208763,207.12714709442787,204.28541654604356,201.685449529523,199.31075157422526,197.14550640654804,195.17974574549808,193.3883002710458,191.76315152507763,190.29134735255397,188.9606588192157,187.75957235698843,186.67727767255712,185.70617974315067,184.831509365395,184.04726996047475,183.34527613915182,182.71794058903023,182.15824739886563,181.6610122479255,181.21755952714383,180.82386568910607,180.47491903238765,180.16613851993583,179.89334604422783,179.6527393228048,179.44140971341193,179.255074081306,179.09152103744992,178.94819712754182,178.82280306243433,178.71327267462928,178.61775306521136,178.53479831293336,178.4624746354777,178.39970543394597,178.34531575005067,178.29826233838074,178.25762070484947,178.22266222947175,178.19247454985015,178.1665248336645,178.14425361766945,178.12516983859874,178.10884328045856,178.09489773952302,178.08303490333867,178.0729041199016,178.0642917869072,178.05698188547748,178.05078725037387,178.0455460109436,178.04112955864096,178.0373934590797,178.0342472759727,178.0316020321197,178.0293814640436,178.02752032161078,178.02596287653174,178.02466487031336,178.02357881914185,178.02267425196175,178.02192202179603,178.02129745274166,178.02077969048943,178.02035220735357,178.01999786731423,178.01970549585246],\"type\":\"scatter\"}],                        {\"template\":{\"data\":{\"histogram2dcontour\":[{\"type\":\"histogram2dcontour\",\"colorbar\":{\"outlinewidth\":0,\"ticks\":\"\"},\"colorscale\":[[0.0,\"#0d0887\"],[0.1111111111111111,\"#46039f\"],[0.2222222222222222,\"#7201a8\"],[0.3333333333333333,\"#9c179e\"],[0.4444444444444444,\"#bd3786\"],[0.5555555555555556,\"#d8576b\"],[0.6666666666666666,\"#ed7953\"],[0.7777777777777778,\"#fb9f3a\"],[0.8888888888888888,\"#fdca26\"],[1.0,\"#f0f921\"]]}],\"choropleth\":[{\"type\":\"choropleth\",\"colorbar\":{\"outlinewidth\":0,\"ticks\":\"\"}}],\"histogram2d\":[{\"type\":\"histogram2d\",\"colorbar\":{\"outlinewidth\":0,\"ticks\":\"\"},\"colorscale\":[[0.0,\"#0d0887\"],[0.1111111111111111,\"#46039f\"],[0.2222222222222222,\"#7201a8\"],[0.3333333333333333,\"#9c179e\"],[0.4444444444444444,\"#bd3786\"],[0.5555555555555556,\"#d8576b\"],[0.6666666666666666,\"#ed7953\"],[0.7777777777777778,\"#fb9f3a\"],[0.8888888888888888,\"#fdca26\"],[1.0,\"#f0f921\"]]}],\"heatmap\":[{\"type\":\"heatmap\",\"colorbar\":{\"outlinewidth\":0,\"ticks\":\"\"},\"colorscale\":[[0.0,\"#0d0887\"],[0.1111111111111111,\"#46039f\"],[0.2222222222222222,\"#7201a8\"],[0.3333333333333333,\"#9c179e\"],[0.4444444444444444,\"#bd3786\"],[0.5555555555555556,\"#d8576b\"],[0.6666666666666666,\"#ed7953\"],[0.7777777777777778,\"#fb9f3a\"],[0.8888888888888888,\"#fdca26\"],[1.0,\"#f0f921\"]]}],\"heatmapgl\":[{\"type\":\"heatmapgl\",\"colorbar\":{\"outlinewidth\":0,\"ticks\":\"\"},\"colorscale\":[[0.0,\"#0d0887\"],[0.1111111111111111,\"#46039f\"],[0.2222222222222222,\"#7201a8\"],[0.3333333333333333,\"#9c179e\"],[0.4444444444444444,\"#bd3786\"],[0.5555555555555556,\"#d8576b\"],[0.6666666666666666,\"#ed7953\"],[0.7777777777777778,\"#fb9f3a\"],[0.8888888888888888,\"#fdca26\"],[1.0,\"#f0f921\"]]}],\"contourcarpet\":[{\"type\":\"contourcarpet\",\"colorbar\":{\"outlinewidth\":0,\"ticks\":\"\"}}],\"contour\":[{\"type\":\"contour\",\"colorbar\":{\"outlinewidth\":0,\"ticks\":\"\"},\"colorscale\":[[0.0,\"#0d0887\"],[0.1111111111111111,\"#46039f\"],[0.2222222222222222,\"#7201a8\"],[0.3333333333333333,\"#9c179e\"],[0.4444444444444444,\"#bd3786\"],[0.5555555555555556,\"#d8576b\"],[0.6666666666666666,\"#ed7953\"],[0.7777777777777778,\"#fb9f3a\"],[0.8888888888888888,\"#fdca26\"],[1.0,\"#f0f921\"]]}],\"surface\":[{\"type\":\"surface\",\"colorbar\":{\"outlinewidth\":0,\"ticks\":\"\"},\"colorscale\":[[0.0,\"#0d0887\"],[0.1111111111111111,\"#46039f\"],[0.2222222222222222,\"#7201a8\"],[0.3333333333333333,\"#9c179e\"],[0.4444444444444444,\"#bd3786\"],[0.5555555555555556,\"#d8576b\"],[0.6666666666666666,\"#ed7953\"],[0.7777777777777778,\"#fb9f3a\"],[0.8888888888888888,\"#fdca26\"],[1.0,\"#f0f921\"]]}],\"mesh3d\":[{\"type\":\"mesh3d\",\"colorbar\":{\"outlinewidth\":0,\"ticks\":\"\"}}],\"scatter\":[{\"fillpattern\":{\"fillmode\":\"overlay\",\"size\":10,\"solidity\":0.2},\"type\":\"scatter\"}],\"parcoords\":[{\"type\":\"parcoords\",\"line\":{\"colorbar\":{\"outlinewidth\":0,\"ticks\":\"\"}}}],\"scatterpolargl\":[{\"type\":\"scatterpolargl\",\"marker\":{\"colorbar\":{\"outlinewidth\":0,\"ticks\":\"\"}}}],\"bar\":[{\"error_x\":{\"color\":\"#2a3f5f\"},\"error_y\":{\"color\":\"#2a3f5f\"},\"marker\":{\"line\":{\"color\":\"#E5ECF6\",\"width\":0.5},\"pattern\":{\"fillmode\":\"overlay\",\"size\":10,\"solidity\":0.2}},\"type\":\"bar\"}],\"scattergeo\":[{\"type\":\"scattergeo\",\"marker\":{\"colorbar\":{\"outlinewidth\":0,\"ticks\":\"\"}}}],\"scatterpolar\":[{\"type\":\"scatterpolar\",\"marker\":{\"colorbar\":{\"outlinewidth\":0,\"ticks\":\"\"}}}],\"histogram\":[{\"marker\":{\"pattern\":{\"fillmode\":\"overlay\",\"size\":10,\"solidity\":0.2}},\"type\":\"histogram\"}],\"scattergl\":[{\"type\":\"scattergl\",\"marker\":{\"colorbar\":{\"outlinewidth\":0,\"ticks\":\"\"}}}],\"scatter3d\":[{\"type\":\"scatter3d\",\"line\":{\"colorbar\":{\"outlinewidth\":0,\"ticks\":\"\"}},\"marker\":{\"colorbar\":{\"outlinewidth\":0,\"ticks\":\"\"}}}],\"scattermapbox\":[{\"type\":\"scattermapbox\",\"marker\":{\"colorbar\":{\"outlinewidth\":0,\"ticks\":\"\"}}}],\"scatterternary\":[{\"type\":\"scatterternary\",\"marker\":{\"colorbar\":{\"outlinewidth\":0,\"ticks\":\"\"}}}],\"scattercarpet\":[{\"type\":\"scattercarpet\",\"marker\":{\"colorbar\":{\"outlinewidth\":0,\"ticks\":\"\"}}}],\"carpet\":[{\"aaxis\":{\"endlinecolor\":\"#2a3f5f\",\"gridcolor\":\"white\",\"linecolor\":\"white\",\"minorgridcolor\":\"white\",\"startlinecolor\":\"#2a3f5f\"},\"baxis\":{\"endlinecolor\":\"#2a3f5f\",\"gridcolor\":\"white\",\"linecolor\":\"white\",\"minorgridcolor\":\"white\",\"startlinecolor\":\"#2a3f5f\"},\"type\":\"carpet\"}],\"table\":[{\"cells\":{\"fill\":{\"color\":\"#EBF0F8\"},\"line\":{\"color\":\"white\"}},\"header\":{\"fill\":{\"color\":\"#C8D4E3\"},\"line\":{\"color\":\"white\"}},\"type\":\"table\"}],\"barpolar\":[{\"marker\":{\"line\":{\"color\":\"#E5ECF6\",\"width\":0.5},\"pattern\":{\"fillmode\":\"overlay\",\"size\":10,\"solidity\":0.2}},\"type\":\"barpolar\"}],\"pie\":[{\"automargin\":true,\"type\":\"pie\"}]},\"layout\":{\"autotypenumbers\":\"strict\",\"colorway\":[\"#636efa\",\"#EF553B\",\"#00cc96\",\"#ab63fa\",\"#FFA15A\",\"#19d3f3\",\"#FF6692\",\"#B6E880\",\"#FF97FF\",\"#FECB52\"],\"font\":{\"color\":\"#2a3f5f\"},\"hovermode\":\"closest\",\"hoverlabel\":{\"align\":\"left\"},\"paper_bgcolor\":\"white\",\"plot_bgcolor\":\"#E5ECF6\",\"polar\":{\"bgcolor\":\"#E5ECF6\",\"angularaxis\":{\"gridcolor\":\"white\",\"linecolor\":\"white\",\"ticks\":\"\"},\"radialaxis\":{\"gridcolor\":\"white\",\"linecolor\":\"white\",\"ticks\":\"\"}},\"ternary\":{\"bgcolor\":\"#E5ECF6\",\"aaxis\":{\"gridcolor\":\"white\",\"linecolor\":\"white\",\"ticks\":\"\"},\"baxis\":{\"gridcolor\":\"white\",\"linecolor\":\"white\",\"ticks\":\"\"},\"caxis\":{\"gridcolor\":\"white\",\"linecolor\":\"white\",\"ticks\":\"\"}},\"coloraxis\":{\"colorbar\":{\"outlinewidth\":0,\"ticks\":\"\"}},\"colorscale\":{\"sequential\":[[0.0,\"#0d0887\"],[0.1111111111111111,\"#46039f\"],[0.2222222222222222,\"#7201a8\"],[0.3333333333333333,\"#9c179e\"],[0.4444444444444444,\"#bd3786\"],[0.5555555555555556,\"#d8576b\"],[0.6666666666666666,\"#ed7953\"],[0.7777777777777778,\"#fb9f3a\"],[0.8888888888888888,\"#fdca26\"],[1.0,\"#f0f921\"]],\"sequentialminus\":[[0.0,\"#0d0887\"],[0.1111111111111111,\"#46039f\"],[0.2222222222222222,\"#7201a8\"],[0.3333333333333333,\"#9c179e\"],[0.4444444444444444,\"#bd3786\"],[0.5555555555555556,\"#d8576b\"],[0.6666666666666666,\"#ed7953\"],[0.7777777777777778,\"#fb9f3a\"],[0.8888888888888888,\"#fdca26\"],[1.0,\"#f0f921\"]],\"diverging\":[[0,\"#8e0152\"],[0.1,\"#c51b7d\"],[0.2,\"#de77ae\"],[0.3,\"#f1b6da\"],[0.4,\"#fde0ef\"],[0.5,\"#f7f7f7\"],[0.6,\"#e6f5d0\"],[0.7,\"#b8e186\"],[0.8,\"#7fbc41\"],[0.9,\"#4d9221\"],[1,\"#276419\"]]},\"xaxis\":{\"gridcolor\":\"white\",\"linecolor\":\"white\",\"ticks\":\"\",\"title\":{\"standoff\":15},\"zerolinecolor\":\"white\",\"automargin\":true,\"zerolinewidth\":2},\"yaxis\":{\"gridcolor\":\"white\",\"linecolor\":\"white\",\"ticks\":\"\",\"title\":{\"standoff\":15},\"zerolinecolor\":\"white\",\"automargin\":true,\"zerolinewidth\":2},\"scene\":{\"xaxis\":{\"backgroundcolor\":\"#E5ECF6\",\"gridcolor\":\"white\",\"linecolor\":\"white\",\"showbackground\":true,\"ticks\":\"\",\"zerolinecolor\":\"white\",\"gridwidth\":2},\"yaxis\":{\"backgroundcolor\":\"#E5ECF6\",\"gridcolor\":\"white\",\"linecolor\":\"white\",\"showbackground\":true,\"ticks\":\"\",\"zerolinecolor\":\"white\",\"gridwidth\":2},\"zaxis\":{\"backgroundcolor\":\"#E5ECF6\",\"gridcolor\":\"white\",\"linecolor\":\"white\",\"showbackground\":true,\"ticks\":\"\",\"zerolinecolor\":\"white\",\"gridwidth\":2}},\"shapedefaults\":{\"line\":{\"color\":\"#2a3f5f\"}},\"annotationdefaults\":{\"arrowcolor\":\"#2a3f5f\",\"arrowhead\":0,\"arrowwidth\":1},\"geo\":{\"bgcolor\":\"white\",\"landcolor\":\"#E5ECF6\",\"subunitcolor\":\"white\",\"showland\":true,\"showlakes\":true,\"lakecolor\":\"white\"},\"title\":{\"x\":0.05},\"mapbox\":{\"style\":\"light\"}}},\"font\":{\"size\":18,\"color\":\"Black\"},\"yaxis\":{\"title\":{\"text\":\"Gray Value\"},\"mirror\":true,\"ticks\":\"outside\",\"showline\":true,\"linecolor\":\"black\",\"gridcolor\":\"lightgrey\"},\"xaxis\":{\"title\":{\"text\":\"Distance (\\u03bcm)\"},\"mirror\":true,\"ticks\":\"outside\",\"showline\":true,\"linecolor\":\"black\",\"gridcolor\":\"lightgrey\"},\"plot_bgcolor\":\"white\"},                        {\"responsive\": true}                    ).then(function(){\n",
       "                            \n",
       "var gd = document.getElementById('63ca172d-78ba-41a5-8522-ee9e63cd781b');\n",
       "var x = new MutationObserver(function (mutations, observer) {{\n",
       "        var display = window.getComputedStyle(gd).display;\n",
       "        if (!display || display === 'none') {{\n",
       "            console.log([gd, 'removed!']);\n",
       "            Plotly.purge(gd);\n",
       "            observer.disconnect();\n",
       "        }}\n",
       "}});\n",
       "\n",
       "// Listen for the removal of the full notebook cells\n",
       "var notebookContainer = gd.closest('#notebook-container');\n",
       "if (notebookContainer) {{\n",
       "    x.observe(notebookContainer, {childList: true});\n",
       "}}\n",
       "\n",
       "// Listen for the clearing of the current output cell\n",
       "var outputEl = gd.closest('.output');\n",
       "if (outputEl) {{\n",
       "    x.observe(outputEl, {childList: true});\n",
       "}}\n",
       "\n",
       "                        })                };                });            </script>        </div>"
      ]
     },
     "metadata": {},
     "output_type": "display_data"
    },
    {
     "name": "stdout",
     "output_type": "stream",
     "text": [
      "FWHM = 221.51\n"
     ]
    }
   ],
   "source": [
    "skiprows4 = 150\n",
    "maxrows4 = 250\n",
    "\n",
    "data4 = np.array(read(f'dati_verde_olio2.txt', skiprows4, maxrows4))\n",
    "popt4, pcov4 = plottiamo_plotly(data4)  # scegliere plotly o pyplot\n",
    "FWHM(popt4)"
   ]
  },
  {
   "cell_type": "markdown",
   "id": "f2e475bc",
   "metadata": {},
   "source": [
    "# caso 5"
   ]
  },
  {
   "cell_type": "code",
   "execution_count": 106,
   "id": "a15a26ca",
   "metadata": {
    "scrolled": true
   },
   "outputs": [
    {
     "data": {
      "application/vnd.plotly.v1+json": {
       "config": {
        "plotlyServerURL": "https://plot.ly"
       },
       "data": [
        {
         "hoverinfo": "skip",
         "line": {
          "color": "plum"
         },
         "mode": "lines",
         "showlegend": false,
         "type": "scatter",
         "x": [
          0.43417,
          0.43782,
          0.44147,
          0.44511,
          0.44876,
          0.45241,
          0.45606,
          0.45971,
          0.46336,
          0.467,
          0.47065,
          0.4743,
          0.47795,
          0.4816,
          0.48525,
          0.4889,
          0.49254,
          0.49619,
          0.49984,
          0.50349,
          0.50714,
          0.51079,
          0.51443,
          0.51808,
          0.52173,
          0.52538,
          0.52903,
          0.53268,
          0.53633,
          0.53997,
          0.54362,
          0.54727,
          0.55092,
          0.55457,
          0.55822,
          0.56186,
          0.56551,
          0.56916,
          0.57281,
          0.57646,
          0.58011,
          0.58376,
          0.5874,
          0.59105,
          0.5947,
          0.59835,
          0.602,
          0.60565,
          0.60929,
          0.61294,
          0.61659,
          0.62024,
          0.62389,
          0.62754,
          0.63119,
          0.63483,
          0.63848,
          0.64213,
          0.64578,
          0.64943,
          0.65308,
          0.65672,
          0.66037,
          0.66402,
          0.66767,
          0.67132,
          0.67497,
          0.67862,
          0.68226,
          0.68591,
          0.68956,
          0.69321,
          0.69686,
          0.70051,
          0.70415,
          0.7078,
          0.71145,
          0.7151,
          0.71875,
          0.7224,
          0.72605,
          0.72969,
          0.73334,
          0.73699,
          0.74064,
          0.74429,
          0.74794,
          0.75159,
          0.75523,
          0.75888,
          0.76253,
          0.76618,
          0.76983,
          0.77348,
          0.77712,
          0.78077,
          0.78442,
          0.78807,
          0.79172,
          0.79537,
          0.79902,
          0.80266,
          0.80631,
          0.80996,
          0.81361,
          0.81726,
          0.82091,
          0.82455,
          0.8282,
          0.83185,
          0.8355,
          0.83915,
          0.8428,
          0.84645,
          0.85009,
          0.85374,
          0.85739,
          0.86104,
          0.86469,
          0.86834,
          0.87198,
          0.87563,
          0.87928,
          0.88293,
          0.88658,
          0.89023,
          0.89388,
          0.89752,
          0.90117,
          0.90482,
          0.90847,
          0.91212,
          0.91577,
          0.91941,
          0.92306,
          0.92671,
          0.93036,
          0.93401,
          0.93766,
          0.94131,
          0.94495,
          0.9486,
          0.95225,
          0.9559,
          0.95955,
          0.9632,
          0.96684,
          0.97049,
          0.97414,
          0.97779,
          0.98144,
          0.98509,
          0.98874,
          0.99238,
          0.99603,
          0.99968,
          1.00333,
          1.00698,
          1.01063,
          1.01428,
          1.01792,
          1.02157,
          1.02522,
          1.02887,
          1.03252,
          1.03617,
          1.03981,
          1.04346,
          1.04711,
          1.05076,
          1.05441,
          1.05806,
          1.06171,
          1.06535,
          1.069,
          1.07265,
          1.0763,
          1.07995,
          1.0836,
          1.08724,
          1.09089,
          1.09454,
          1.09819,
          1.10184,
          1.10549,
          1.10914,
          1.11278,
          1.11643,
          1.12008,
          1.12373,
          1.12738,
          1.13103,
          1.13467,
          1.13832,
          1.14197,
          1.14562,
          1.14927,
          1.15292,
          1.15657,
          1.16021,
          1.16386,
          1.16751,
          1.17116,
          1.17481,
          1.17846,
          1.1821,
          1.18575,
          1.1894,
          1.19305,
          1.1967,
          1.20035,
          1.204,
          1.20764,
          1.21129,
          1.21494,
          1.21859,
          1.22224,
          1.22589,
          1.22953,
          1.23318,
          1.23683,
          1.24048,
          1.24413,
          1.24778,
          1.25143,
          1.25507,
          1.25872,
          1.26237,
          1.26602,
          1.26967,
          1.27332,
          1.27696,
          1.28061,
          1.28426,
          1.28791,
          1.29156,
          1.29521,
          1.29886,
          1.3025,
          1.30615,
          1.3098,
          1.31345,
          1.3171,
          1.32075,
          1.3244,
          1.32804,
          1.33169,
          1.33534,
          1.33899,
          1.34264,
          1.34629,
          1.34993,
          1.35358,
          1.35723,
          1.36088,
          1.36453,
          1.36818,
          1.37183,
          1.37547,
          1.37912,
          1.38277,
          1.38642,
          1.39007,
          1.39372,
          1.39736,
          1.40101,
          1.40466,
          1.40831,
          1.41196,
          1.41561
         ],
         "y": [
          0,
          151.835,
          254.478,
          286,
          166.496,
          61.335,
          75.324,
          248.492,
          164.098,
          17.524,
          0,
          12.319,
          1.922,
          0,
          210.984,
          215.903,
          275.624,
          173.475,
          79.705,
          286,
          285.193,
          176.473,
          418.267,
          272.128,
          328.33,
          769.492,
          562.579,
          240.037,
          260.482,
          45.502,
          116.637,
          0,
          279.193,
          127.128,
          203.682,
          192.23,
          165.145,
          59.286,
          0,
          248.492,
          420.161,
          128.6,
          180.124,
          168.787,
          31.398,
          51.574,
          244.841,
          157.796,
          57.513,
          179.992,
          115.023,
          186.283,
          96.345,
          189.096,
          488.921,
          481.678,
          291.592,
          56.262,
          196.918,
          306.054,
          369.146,
          357.227,
          74.378,
          491.691,
          143,
          293.254,
          65.639,
          187.541,
          326.114,
          128.819,
          348.282,
          408.328,
          635.629,
          579.633,
          530.887,
          102.166,
          513.203,
          762.668,
          682.976,
          406.45,
          76.346,
          413.033,
          547.123,
          376.397,
          259.447,
          286,
          362.155,
          683.718,
          717.209,
          421.627,
          371.041,
          569.761,
          573,
          202.182,
          367.74,
          415.655,
          488.305,
          322.315,
          1433,
          1433,
          887.06,
          211.475,
          188.901,
          146.113,
          871.121,
          1147.745,
          1397.57,
          609.675,
          1616.673,
          687.074,
          986.311,
          972.525,
          718.852,
          661.471,
          685.746,
          1301.954,
          1107.627,
          1436.254,
          1384.72,
          1206.223,
          1308.435,
          1474.851,
          1226.367,
          1355.436,
          1104.096,
          573,
          633.17,
          2191.057,
          1293.536,
          1223.505,
          1598.532,
          1551.427,
          1299.962,
          1712.205,
          1107.627,
          724.699,
          1158.168,
          2026.569,
          2278.868,
          2137.416,
          1718.571,
          1900.704,
          415.081,
          1469.765,
          1676.997,
          1084.615,
          1019.436,
          890.025,
          1760.642,
          1946.006,
          2031.607,
          2025.281,
          1313.896,
          1225.675,
          812.546,
          1058.584,
          1498.599,
          1263.858,
          1290.575,
          1571.909,
          505.187,
          1638.448,
          1688.951,
          946.01,
          786.958,
          1284.196,
          1285.406,
          1094.426,
          818.697,
          731.347,
          628.259,
          822.38,
          443.805,
          711.166,
          731.664,
          609.006,
          993.565,
          901.18,
          1970.754,
          1416.266,
          873.688,
          566.058,
          1084.355,
          1302.931,
          492.115,
          1364.619,
          859.5,
          804.26,
          474.868,
          455.686,
          889.234,
          876.335,
          524.717,
          760.04,
          273.722,
          400.052,
          133.796,
          258.945,
          274.509,
          472.283,
          391.808,
          452.511,
          53.922,
          398.945,
          279.027,
          510.217,
          102.427,
          305.98,
          96.615,
          70.328,
          304.605,
          674.066,
          209.43,
          716.02,
          374.488,
          202.182,
          208.061,
          129.203,
          190.264,
          423.937,
          110.18,
          243.803,
          274.01,
          116.291,
          273.257,
          184.138,
          308.175,
          447.818,
          211.944,
          176.473,
          269.59,
          147.727,
          488.975,
          319.29,
          172.203,
          239.113,
          133.918,
          300.626,
          128.505,
          394.206,
          30.49,
          433.398,
          325.447,
          126.919,
          700.405,
          224.665,
          134.891,
          0,
          403.877,
          84.408,
          0,
          0,
          136.083,
          127.82,
          167.596,
          23.443,
          278.544,
          206.064,
          345.004,
          564.067,
          537.094,
          173.475,
          0,
          22.29,
          269.59,
          168.787,
          447.089,
          445.143,
          171.208,
          332.802
         ]
        },
        {
         "marker": {
          "color": "purple"
         },
         "mode": "lines",
         "showlegend": false,
         "type": "scatter",
         "x": [
          0.43417,
          0.43782,
          0.44147,
          0.44511,
          0.44876,
          0.45241,
          0.45606,
          0.45971,
          0.46336,
          0.467,
          0.47065,
          0.4743,
          0.47795,
          0.4816,
          0.48525,
          0.4889,
          0.49254,
          0.49619,
          0.49984,
          0.50349,
          0.50714,
          0.51079,
          0.51443,
          0.51808,
          0.52173,
          0.52538,
          0.52903,
          0.53268,
          0.53633,
          0.53997,
          0.54362,
          0.54727,
          0.55092,
          0.55457,
          0.55822,
          0.56186,
          0.56551,
          0.56916,
          0.57281,
          0.57646,
          0.58011,
          0.58376,
          0.5874,
          0.59105,
          0.5947,
          0.59835,
          0.602,
          0.60565,
          0.60929,
          0.61294,
          0.61659,
          0.62024,
          0.62389,
          0.62754,
          0.63119,
          0.63483,
          0.63848,
          0.64213,
          0.64578,
          0.64943,
          0.65308,
          0.65672,
          0.66037,
          0.66402,
          0.66767,
          0.67132,
          0.67497,
          0.67862,
          0.68226,
          0.68591,
          0.68956,
          0.69321,
          0.69686,
          0.70051,
          0.70415,
          0.7078,
          0.71145,
          0.7151,
          0.71875,
          0.7224,
          0.72605,
          0.72969,
          0.73334,
          0.73699,
          0.74064,
          0.74429,
          0.74794,
          0.75159,
          0.75523,
          0.75888,
          0.76253,
          0.76618,
          0.76983,
          0.77348,
          0.77712,
          0.78077,
          0.78442,
          0.78807,
          0.79172,
          0.79537,
          0.79902,
          0.80266,
          0.80631,
          0.80996,
          0.81361,
          0.81726,
          0.82091,
          0.82455,
          0.8282,
          0.83185,
          0.8355,
          0.83915,
          0.8428,
          0.84645,
          0.85009,
          0.85374,
          0.85739,
          0.86104,
          0.86469,
          0.86834,
          0.87198,
          0.87563,
          0.87928,
          0.88293,
          0.88658,
          0.89023,
          0.89388,
          0.89752,
          0.90117,
          0.90482,
          0.90847,
          0.91212,
          0.91577,
          0.91941,
          0.92306,
          0.92671,
          0.93036,
          0.93401,
          0.93766,
          0.94131,
          0.94495,
          0.9486,
          0.95225,
          0.9559,
          0.95955,
          0.9632,
          0.96684,
          0.97049,
          0.97414,
          0.97779,
          0.98144,
          0.98509,
          0.98874,
          0.99238,
          0.99603,
          0.99968,
          1.00333,
          1.00698,
          1.01063,
          1.01428,
          1.01792,
          1.02157,
          1.02522,
          1.02887,
          1.03252,
          1.03617,
          1.03981,
          1.04346,
          1.04711,
          1.05076,
          1.05441,
          1.05806,
          1.06171,
          1.06535,
          1.069,
          1.07265,
          1.0763,
          1.07995,
          1.0836,
          1.08724,
          1.09089,
          1.09454,
          1.09819,
          1.10184,
          1.10549,
          1.10914,
          1.11278,
          1.11643,
          1.12008,
          1.12373,
          1.12738,
          1.13103,
          1.13467,
          1.13832,
          1.14197,
          1.14562,
          1.14927,
          1.15292,
          1.15657,
          1.16021,
          1.16386,
          1.16751,
          1.17116,
          1.17481,
          1.17846,
          1.1821,
          1.18575,
          1.1894,
          1.19305,
          1.1967,
          1.20035,
          1.204,
          1.20764,
          1.21129,
          1.21494,
          1.21859,
          1.22224,
          1.22589,
          1.22953,
          1.23318,
          1.23683,
          1.24048,
          1.24413,
          1.24778,
          1.25143,
          1.25507,
          1.25872,
          1.26237,
          1.26602,
          1.26967,
          1.27332,
          1.27696,
          1.28061,
          1.28426,
          1.28791,
          1.29156,
          1.29521,
          1.29886,
          1.3025,
          1.30615,
          1.3098,
          1.31345,
          1.3171,
          1.32075,
          1.3244,
          1.32804,
          1.33169,
          1.33534,
          1.33899,
          1.34264,
          1.34629,
          1.34993,
          1.35358,
          1.35723,
          1.36088,
          1.36453,
          1.36818,
          1.37183,
          1.37547,
          1.37912,
          1.38277,
          1.38642,
          1.39007,
          1.39372,
          1.39736,
          1.40101,
          1.40466,
          1.40831,
          1.41196,
          1.41561
         ],
         "y": [
          204.6951692666001,
          204.70224891644133,
          204.7103610993821,
          204.7196192943544,
          204.73023229114662,
          204.74235422226653,
          204.75618480413937,
          204.77194797609357,
          204.78989452505806,
          204.81024539064003,
          204.83342497025188,
          204.85973034711483,
          204.8895509353398,
          204.92332009083313,
          204.96151945307193,
          205.0046836371204,
          205.05326363690395,
          205.10818092220194,
          205.1700352034071,
          205.23962735313125,
          205.31784055505787,
          205.40564747325186,
          205.50383249750334,
          205.61410729418455,
          205.73750578834725,
          205.87543946463344,
          206.02945236079535,
          206.20123119174806,
          206.3926159801899,
          206.60499617641375,
          206.84171400253138,
          207.10458470583012,
          207.3961771297658,
          207.71927379176785,
          208.0768842698017,
          208.47112101255715,
          208.90764704755077,
          209.38920625211964,
          209.9198559700606,
          210.5039518497499,
          211.14616253209442,
          211.85148429513455,
          212.6230370292675,
          213.4707413478578,
          214.39863791672832,
          215.41317439953224,
          216.5211948234477,
          217.72995153891466,
          219.04335219833231,
          220.47669513769264,
          222.0350617703469,
          223.72743464422481,
          225.56324675958564,
          227.55238518115306,
          229.7051925806751,
          232.0258419388681,
          234.53830698281132,
          237.2481499954108,
          240.16750156509127,
          243.3089172105403,
          246.68536208005898,
          250.29990935118786,
          254.18611154900998,
          258.3484500317227,
          262.8013011190814,
          267.5593176491732,
          272.63738984040583,
          278.05060167489034,
          283.79789951594324,
          289.92614921171344,
          296.4354059768817,
          303.3410007202617,
          310.6581708976769,
          318.4019891801928,
          326.56424579762006,
          335.20426714820866,
          344.3143486657642,
          353.9081054043658,
          363.99856801534133,
          374.598087797149,
          385.71823884856246,
          397.33706095929654,
          409.5280898019847,
          422.2687741870561,
          435.56656212335633,
          449.4276083699945,
          463.85666963849894,
          478.8570007731473,
          494.38680315057036,
          510.5313550454539,
          527.2469293674484,
          544.5297856452377,
          562.3742031798287,
          580.7723988876029,
          599.6618230666064,
          619.1341666298033,
          639.1238867932968,
          659.6142760241918,
          680.5862658465117,
          702.0183949375881,
          723.8867881871904,
          746.1035762651882,
          768.7621797296619,
          791.770995816047,
          815.0965316045723,
          838.7029601491332,
          862.5521764344869,
          886.5377338147366,
          910.749083549417,
          935.0761322002365,
          959.4725081769137,
          983.8900519098131,
          1008.2789553624123,
          1032.5879146480663,
          1056.6982883686712,
          1080.6888872013656,
          1104.4385172647912,
          1127.8916608141462,
          1150.9922413156316,
          1173.6838400170896,
          1195.8497137671643,
          1217.5553559498671,
          1238.6831275265372,
          1259.177532047867,
          1278.9838973616781,
          1298.0486165976997,
          1316.3193883322292,
          1333.6989107365846,
          1350.2338040101865,
          1365.828161844041,
          1380.4372310018177,
          1394.0186992214583,
          1406.5328991605845,
          1417.9132804985663,
          1428.1886344039947,
          1437.2955325233709,
          1445.206676668146,
          1451.8982418245157,
          1457.3499956893388,
          1461.5454005879014,
          1464.465422538937,
          1466.117204063248,
          1466.4859405185798,
          1465.5705063820594,
          1463.3736955007298,
          1459.9022068852978,
          1455.1812995968014,
          1449.1993842463935,
          1441.985826553745,
          1433.5624021317863,
          1423.954430512323,
          1413.1906483561572,
          1401.303066276576,
          1388.3638149319945,
          1374.339777355106,
          1359.3058440645225,
          1343.3053922388697,
          1326.384150163746,
          1308.5899798898622,
          1289.9726522379763,
          1270.637742707338,
          1250.531783265948,
          1229.7609482912264,
          1208.3802903839594,
          1186.4455839419538,
          1164.0130855435043,
          1141.2025163567964,
          1117.944929045991,
          1094.3587111873294,
          1070.499727388377,
          1046.4231937412749,
          1022.1834735633687,
          997.8338829913301,
          973.493409350157,
          949.0788825465862,
          924.7062402174857,
          900.4228968724336,
          876.2744237193834,
          852.3044285259144,
          828.6191809554933,
          805.1278317783809,
          781.9329128579684,
          759.0692633236731,
          736.5693686562696,
          714.4633243281451,
          692.7788128094243,
          671.5986473779386,
          650.8292435307001,
          630.5498507167985,
          610.7785275875201,
          591.5309885974663,
          572.8206503463629,
          554.7076881506608,
          537.101558714173,
          520.0596739467738,
          503.5869009612337,
          487.6861633711517,
          472.35853117694603,
          457.603315091618,
          443.4562523795632,
          429.8357117976975,
          416.775973607507,
          404.270319528405,
          392.31078278339754,
          380.8882531296464,
          370.021722582127,
          359.6404263429097,
          349.76301724296036,
          340.37684290676543,
          331.46861241351206,
          323.0244898973894,
          315.0301847315657,
          307.4911670426638,
          300.35110331756516,
          293.61614267501443,
          287.2709994090673,
          281.30032335376603,
          275.6887646834742,
          270.43501032667086,
          265.495054547036,
          260.8687877121276,
          256.5414156127483,
          252.4983986267813,
          248.72548898325115,
          245.20876371580377,
          241.9433042609313,
          238.8980070867902,
          236.06937668950724,
          233.44503681753946,
          231.01304164059718,
          228.76188635842013,
          226.68599496332544,
          224.76338217727877,
          222.98983003753114,
          221.35564513772255,
          219.85158683888056,
          218.46886283843097,
          217.19912295965423,
          216.03750561245914,
          214.97015410487663,
          213.99332304732528,
          213.10033869910419,
          212.2849183429089,
          211.54115724971496,
          210.86351506652855,
          210.24841264094988,
          209.6876268373104,
          209.17839511117566,
          208.71649062982797,
          208.29797861998006,
          207.91920177029877,
          207.57765724207644,
          207.26832978497052,
          206.98929477330591,
          206.73786228810172,
          206.51155050332483,
          206.30807287837635,
          206.1253257935536,
          205.96180179485395,
          205.81483324807343,
          205.68326961359264,
          205.56562450411457,
          205.46053992875258,
          205.36677689254915,
          205.2834224916181,
          205.2089937505802,
          205.14279948236864,
          205.0839924017727,
          205.03180462085157,
          204.98554112354074
         ]
        }
       ],
       "layout": {
        "font": {
         "color": "Black",
         "size": 18
        },
        "plot_bgcolor": "white",
        "template": {
         "data": {
          "bar": [
           {
            "error_x": {
             "color": "#2a3f5f"
            },
            "error_y": {
             "color": "#2a3f5f"
            },
            "marker": {
             "line": {
              "color": "#E5ECF6",
              "width": 0.5
             },
             "pattern": {
              "fillmode": "overlay",
              "size": 10,
              "solidity": 0.2
             }
            },
            "type": "bar"
           }
          ],
          "barpolar": [
           {
            "marker": {
             "line": {
              "color": "#E5ECF6",
              "width": 0.5
             },
             "pattern": {
              "fillmode": "overlay",
              "size": 10,
              "solidity": 0.2
             }
            },
            "type": "barpolar"
           }
          ],
          "carpet": [
           {
            "aaxis": {
             "endlinecolor": "#2a3f5f",
             "gridcolor": "white",
             "linecolor": "white",
             "minorgridcolor": "white",
             "startlinecolor": "#2a3f5f"
            },
            "baxis": {
             "endlinecolor": "#2a3f5f",
             "gridcolor": "white",
             "linecolor": "white",
             "minorgridcolor": "white",
             "startlinecolor": "#2a3f5f"
            },
            "type": "carpet"
           }
          ],
          "choropleth": [
           {
            "colorbar": {
             "outlinewidth": 0,
             "ticks": ""
            },
            "type": "choropleth"
           }
          ],
          "contour": [
           {
            "colorbar": {
             "outlinewidth": 0,
             "ticks": ""
            },
            "colorscale": [
             [
              0,
              "#0d0887"
             ],
             [
              0.1111111111111111,
              "#46039f"
             ],
             [
              0.2222222222222222,
              "#7201a8"
             ],
             [
              0.3333333333333333,
              "#9c179e"
             ],
             [
              0.4444444444444444,
              "#bd3786"
             ],
             [
              0.5555555555555556,
              "#d8576b"
             ],
             [
              0.6666666666666666,
              "#ed7953"
             ],
             [
              0.7777777777777778,
              "#fb9f3a"
             ],
             [
              0.8888888888888888,
              "#fdca26"
             ],
             [
              1,
              "#f0f921"
             ]
            ],
            "type": "contour"
           }
          ],
          "contourcarpet": [
           {
            "colorbar": {
             "outlinewidth": 0,
             "ticks": ""
            },
            "type": "contourcarpet"
           }
          ],
          "heatmap": [
           {
            "colorbar": {
             "outlinewidth": 0,
             "ticks": ""
            },
            "colorscale": [
             [
              0,
              "#0d0887"
             ],
             [
              0.1111111111111111,
              "#46039f"
             ],
             [
              0.2222222222222222,
              "#7201a8"
             ],
             [
              0.3333333333333333,
              "#9c179e"
             ],
             [
              0.4444444444444444,
              "#bd3786"
             ],
             [
              0.5555555555555556,
              "#d8576b"
             ],
             [
              0.6666666666666666,
              "#ed7953"
             ],
             [
              0.7777777777777778,
              "#fb9f3a"
             ],
             [
              0.8888888888888888,
              "#fdca26"
             ],
             [
              1,
              "#f0f921"
             ]
            ],
            "type": "heatmap"
           }
          ],
          "heatmapgl": [
           {
            "colorbar": {
             "outlinewidth": 0,
             "ticks": ""
            },
            "colorscale": [
             [
              0,
              "#0d0887"
             ],
             [
              0.1111111111111111,
              "#46039f"
             ],
             [
              0.2222222222222222,
              "#7201a8"
             ],
             [
              0.3333333333333333,
              "#9c179e"
             ],
             [
              0.4444444444444444,
              "#bd3786"
             ],
             [
              0.5555555555555556,
              "#d8576b"
             ],
             [
              0.6666666666666666,
              "#ed7953"
             ],
             [
              0.7777777777777778,
              "#fb9f3a"
             ],
             [
              0.8888888888888888,
              "#fdca26"
             ],
             [
              1,
              "#f0f921"
             ]
            ],
            "type": "heatmapgl"
           }
          ],
          "histogram": [
           {
            "marker": {
             "pattern": {
              "fillmode": "overlay",
              "size": 10,
              "solidity": 0.2
             }
            },
            "type": "histogram"
           }
          ],
          "histogram2d": [
           {
            "colorbar": {
             "outlinewidth": 0,
             "ticks": ""
            },
            "colorscale": [
             [
              0,
              "#0d0887"
             ],
             [
              0.1111111111111111,
              "#46039f"
             ],
             [
              0.2222222222222222,
              "#7201a8"
             ],
             [
              0.3333333333333333,
              "#9c179e"
             ],
             [
              0.4444444444444444,
              "#bd3786"
             ],
             [
              0.5555555555555556,
              "#d8576b"
             ],
             [
              0.6666666666666666,
              "#ed7953"
             ],
             [
              0.7777777777777778,
              "#fb9f3a"
             ],
             [
              0.8888888888888888,
              "#fdca26"
             ],
             [
              1,
              "#f0f921"
             ]
            ],
            "type": "histogram2d"
           }
          ],
          "histogram2dcontour": [
           {
            "colorbar": {
             "outlinewidth": 0,
             "ticks": ""
            },
            "colorscale": [
             [
              0,
              "#0d0887"
             ],
             [
              0.1111111111111111,
              "#46039f"
             ],
             [
              0.2222222222222222,
              "#7201a8"
             ],
             [
              0.3333333333333333,
              "#9c179e"
             ],
             [
              0.4444444444444444,
              "#bd3786"
             ],
             [
              0.5555555555555556,
              "#d8576b"
             ],
             [
              0.6666666666666666,
              "#ed7953"
             ],
             [
              0.7777777777777778,
              "#fb9f3a"
             ],
             [
              0.8888888888888888,
              "#fdca26"
             ],
             [
              1,
              "#f0f921"
             ]
            ],
            "type": "histogram2dcontour"
           }
          ],
          "mesh3d": [
           {
            "colorbar": {
             "outlinewidth": 0,
             "ticks": ""
            },
            "type": "mesh3d"
           }
          ],
          "parcoords": [
           {
            "line": {
             "colorbar": {
              "outlinewidth": 0,
              "ticks": ""
             }
            },
            "type": "parcoords"
           }
          ],
          "pie": [
           {
            "automargin": true,
            "type": "pie"
           }
          ],
          "scatter": [
           {
            "fillpattern": {
             "fillmode": "overlay",
             "size": 10,
             "solidity": 0.2
            },
            "type": "scatter"
           }
          ],
          "scatter3d": [
           {
            "line": {
             "colorbar": {
              "outlinewidth": 0,
              "ticks": ""
             }
            },
            "marker": {
             "colorbar": {
              "outlinewidth": 0,
              "ticks": ""
             }
            },
            "type": "scatter3d"
           }
          ],
          "scattercarpet": [
           {
            "marker": {
             "colorbar": {
              "outlinewidth": 0,
              "ticks": ""
             }
            },
            "type": "scattercarpet"
           }
          ],
          "scattergeo": [
           {
            "marker": {
             "colorbar": {
              "outlinewidth": 0,
              "ticks": ""
             }
            },
            "type": "scattergeo"
           }
          ],
          "scattergl": [
           {
            "marker": {
             "colorbar": {
              "outlinewidth": 0,
              "ticks": ""
             }
            },
            "type": "scattergl"
           }
          ],
          "scattermapbox": [
           {
            "marker": {
             "colorbar": {
              "outlinewidth": 0,
              "ticks": ""
             }
            },
            "type": "scattermapbox"
           }
          ],
          "scatterpolar": [
           {
            "marker": {
             "colorbar": {
              "outlinewidth": 0,
              "ticks": ""
             }
            },
            "type": "scatterpolar"
           }
          ],
          "scatterpolargl": [
           {
            "marker": {
             "colorbar": {
              "outlinewidth": 0,
              "ticks": ""
             }
            },
            "type": "scatterpolargl"
           }
          ],
          "scatterternary": [
           {
            "marker": {
             "colorbar": {
              "outlinewidth": 0,
              "ticks": ""
             }
            },
            "type": "scatterternary"
           }
          ],
          "surface": [
           {
            "colorbar": {
             "outlinewidth": 0,
             "ticks": ""
            },
            "colorscale": [
             [
              0,
              "#0d0887"
             ],
             [
              0.1111111111111111,
              "#46039f"
             ],
             [
              0.2222222222222222,
              "#7201a8"
             ],
             [
              0.3333333333333333,
              "#9c179e"
             ],
             [
              0.4444444444444444,
              "#bd3786"
             ],
             [
              0.5555555555555556,
              "#d8576b"
             ],
             [
              0.6666666666666666,
              "#ed7953"
             ],
             [
              0.7777777777777778,
              "#fb9f3a"
             ],
             [
              0.8888888888888888,
              "#fdca26"
             ],
             [
              1,
              "#f0f921"
             ]
            ],
            "type": "surface"
           }
          ],
          "table": [
           {
            "cells": {
             "fill": {
              "color": "#EBF0F8"
             },
             "line": {
              "color": "white"
             }
            },
            "header": {
             "fill": {
              "color": "#C8D4E3"
             },
             "line": {
              "color": "white"
             }
            },
            "type": "table"
           }
          ]
         },
         "layout": {
          "annotationdefaults": {
           "arrowcolor": "#2a3f5f",
           "arrowhead": 0,
           "arrowwidth": 1
          },
          "autotypenumbers": "strict",
          "coloraxis": {
           "colorbar": {
            "outlinewidth": 0,
            "ticks": ""
           }
          },
          "colorscale": {
           "diverging": [
            [
             0,
             "#8e0152"
            ],
            [
             0.1,
             "#c51b7d"
            ],
            [
             0.2,
             "#de77ae"
            ],
            [
             0.3,
             "#f1b6da"
            ],
            [
             0.4,
             "#fde0ef"
            ],
            [
             0.5,
             "#f7f7f7"
            ],
            [
             0.6,
             "#e6f5d0"
            ],
            [
             0.7,
             "#b8e186"
            ],
            [
             0.8,
             "#7fbc41"
            ],
            [
             0.9,
             "#4d9221"
            ],
            [
             1,
             "#276419"
            ]
           ],
           "sequential": [
            [
             0,
             "#0d0887"
            ],
            [
             0.1111111111111111,
             "#46039f"
            ],
            [
             0.2222222222222222,
             "#7201a8"
            ],
            [
             0.3333333333333333,
             "#9c179e"
            ],
            [
             0.4444444444444444,
             "#bd3786"
            ],
            [
             0.5555555555555556,
             "#d8576b"
            ],
            [
             0.6666666666666666,
             "#ed7953"
            ],
            [
             0.7777777777777778,
             "#fb9f3a"
            ],
            [
             0.8888888888888888,
             "#fdca26"
            ],
            [
             1,
             "#f0f921"
            ]
           ],
           "sequentialminus": [
            [
             0,
             "#0d0887"
            ],
            [
             0.1111111111111111,
             "#46039f"
            ],
            [
             0.2222222222222222,
             "#7201a8"
            ],
            [
             0.3333333333333333,
             "#9c179e"
            ],
            [
             0.4444444444444444,
             "#bd3786"
            ],
            [
             0.5555555555555556,
             "#d8576b"
            ],
            [
             0.6666666666666666,
             "#ed7953"
            ],
            [
             0.7777777777777778,
             "#fb9f3a"
            ],
            [
             0.8888888888888888,
             "#fdca26"
            ],
            [
             1,
             "#f0f921"
            ]
           ]
          },
          "colorway": [
           "#636efa",
           "#EF553B",
           "#00cc96",
           "#ab63fa",
           "#FFA15A",
           "#19d3f3",
           "#FF6692",
           "#B6E880",
           "#FF97FF",
           "#FECB52"
          ],
          "font": {
           "color": "#2a3f5f"
          },
          "geo": {
           "bgcolor": "white",
           "lakecolor": "white",
           "landcolor": "#E5ECF6",
           "showlakes": true,
           "showland": true,
           "subunitcolor": "white"
          },
          "hoverlabel": {
           "align": "left"
          },
          "hovermode": "closest",
          "mapbox": {
           "style": "light"
          },
          "paper_bgcolor": "white",
          "plot_bgcolor": "#E5ECF6",
          "polar": {
           "angularaxis": {
            "gridcolor": "white",
            "linecolor": "white",
            "ticks": ""
           },
           "bgcolor": "#E5ECF6",
           "radialaxis": {
            "gridcolor": "white",
            "linecolor": "white",
            "ticks": ""
           }
          },
          "scene": {
           "xaxis": {
            "backgroundcolor": "#E5ECF6",
            "gridcolor": "white",
            "gridwidth": 2,
            "linecolor": "white",
            "showbackground": true,
            "ticks": "",
            "zerolinecolor": "white"
           },
           "yaxis": {
            "backgroundcolor": "#E5ECF6",
            "gridcolor": "white",
            "gridwidth": 2,
            "linecolor": "white",
            "showbackground": true,
            "ticks": "",
            "zerolinecolor": "white"
           },
           "zaxis": {
            "backgroundcolor": "#E5ECF6",
            "gridcolor": "white",
            "gridwidth": 2,
            "linecolor": "white",
            "showbackground": true,
            "ticks": "",
            "zerolinecolor": "white"
           }
          },
          "shapedefaults": {
           "line": {
            "color": "#2a3f5f"
           }
          },
          "ternary": {
           "aaxis": {
            "gridcolor": "white",
            "linecolor": "white",
            "ticks": ""
           },
           "baxis": {
            "gridcolor": "white",
            "linecolor": "white",
            "ticks": ""
           },
           "bgcolor": "#E5ECF6",
           "caxis": {
            "gridcolor": "white",
            "linecolor": "white",
            "ticks": ""
           }
          },
          "title": {
           "x": 0.05
          },
          "xaxis": {
           "automargin": true,
           "gridcolor": "white",
           "linecolor": "white",
           "ticks": "",
           "title": {
            "standoff": 15
           },
           "zerolinecolor": "white",
           "zerolinewidth": 2
          },
          "yaxis": {
           "automargin": true,
           "gridcolor": "white",
           "linecolor": "white",
           "ticks": "",
           "title": {
            "standoff": 15
           },
           "zerolinecolor": "white",
           "zerolinewidth": 2
          }
         }
        },
        "xaxis": {
         "gridcolor": "lightgrey",
         "linecolor": "black",
         "mirror": true,
         "showline": true,
         "ticks": "outside",
         "title": {
          "text": "Distance (μm)"
         }
        },
        "yaxis": {
         "gridcolor": "lightgrey",
         "linecolor": "black",
         "mirror": true,
         "showline": true,
         "ticks": "outside",
         "title": {
          "text": "Gray Value"
         }
        }
       }
      },
      "text/html": [
       "<div>                            <div id=\"01a66a52-8042-4e00-bd27-2a9ac157127d\" class=\"plotly-graph-div\" style=\"height:525px; width:100%;\"></div>            <script type=\"text/javascript\">                require([\"plotly\"], function(Plotly) {                    window.PLOTLYENV=window.PLOTLYENV || {};                                    if (document.getElementById(\"01a66a52-8042-4e00-bd27-2a9ac157127d\")) {                    Plotly.newPlot(                        \"01a66a52-8042-4e00-bd27-2a9ac157127d\",                        [{\"hoverinfo\":\"skip\",\"line\":{\"color\":\"plum\"},\"mode\":\"lines\",\"showlegend\":false,\"x\":[0.43417,0.43782,0.44147,0.44511,0.44876,0.45241,0.45606,0.45971,0.46336,0.467,0.47065,0.4743,0.47795,0.4816,0.48525,0.4889,0.49254,0.49619,0.49984,0.50349,0.50714,0.51079,0.51443,0.51808,0.52173,0.52538,0.52903,0.53268,0.53633,0.53997,0.54362,0.54727,0.55092,0.55457,0.55822,0.56186,0.56551,0.56916,0.57281,0.57646,0.58011,0.58376,0.5874,0.59105,0.5947,0.59835,0.602,0.60565,0.60929,0.61294,0.61659,0.62024,0.62389,0.62754,0.63119,0.63483,0.63848,0.64213,0.64578,0.64943,0.65308,0.65672,0.66037,0.66402,0.66767,0.67132,0.67497,0.67862,0.68226,0.68591,0.68956,0.69321,0.69686,0.70051,0.70415,0.7078,0.71145,0.7151,0.71875,0.7224,0.72605,0.72969,0.73334,0.73699,0.74064,0.74429,0.74794,0.75159,0.75523,0.75888,0.76253,0.76618,0.76983,0.77348,0.77712,0.78077,0.78442,0.78807,0.79172,0.79537,0.79902,0.80266,0.80631,0.80996,0.81361,0.81726,0.82091,0.82455,0.8282,0.83185,0.8355,0.83915,0.8428,0.84645,0.85009,0.85374,0.85739,0.86104,0.86469,0.86834,0.87198,0.87563,0.87928,0.88293,0.88658,0.89023,0.89388,0.89752,0.90117,0.90482,0.90847,0.91212,0.91577,0.91941,0.92306,0.92671,0.93036,0.93401,0.93766,0.94131,0.94495,0.9486,0.95225,0.9559,0.95955,0.9632,0.96684,0.97049,0.97414,0.97779,0.98144,0.98509,0.98874,0.99238,0.99603,0.99968,1.00333,1.00698,1.01063,1.01428,1.01792,1.02157,1.02522,1.02887,1.03252,1.03617,1.03981,1.04346,1.04711,1.05076,1.05441,1.05806,1.06171,1.06535,1.069,1.07265,1.0763,1.07995,1.0836,1.08724,1.09089,1.09454,1.09819,1.10184,1.10549,1.10914,1.11278,1.11643,1.12008,1.12373,1.12738,1.13103,1.13467,1.13832,1.14197,1.14562,1.14927,1.15292,1.15657,1.16021,1.16386,1.16751,1.17116,1.17481,1.17846,1.1821,1.18575,1.1894,1.19305,1.1967,1.20035,1.204,1.20764,1.21129,1.21494,1.21859,1.22224,1.22589,1.22953,1.23318,1.23683,1.24048,1.24413,1.24778,1.25143,1.25507,1.25872,1.26237,1.26602,1.26967,1.27332,1.27696,1.28061,1.28426,1.28791,1.29156,1.29521,1.29886,1.3025,1.30615,1.3098,1.31345,1.3171,1.32075,1.3244,1.32804,1.33169,1.33534,1.33899,1.34264,1.34629,1.34993,1.35358,1.35723,1.36088,1.36453,1.36818,1.37183,1.37547,1.37912,1.38277,1.38642,1.39007,1.39372,1.39736,1.40101,1.40466,1.40831,1.41196,1.41561],\"y\":[0.0,151.835,254.478,286.0,166.496,61.335,75.324,248.492,164.098,17.524,0.0,12.319,1.922,0.0,210.984,215.903,275.624,173.475,79.705,286.0,285.193,176.473,418.267,272.128,328.33,769.492,562.579,240.037,260.482,45.502,116.637,0.0,279.193,127.128,203.682,192.23,165.145,59.286,0.0,248.492,420.161,128.6,180.124,168.787,31.398,51.574,244.841,157.796,57.513,179.992,115.023,186.283,96.345,189.096,488.921,481.678,291.592,56.262,196.918,306.054,369.146,357.227,74.378,491.691,143.0,293.254,65.639,187.541,326.114,128.819,348.282,408.328,635.629,579.633,530.887,102.166,513.203,762.668,682.976,406.45,76.346,413.033,547.123,376.397,259.447,286.0,362.155,683.718,717.209,421.627,371.041,569.761,573.0,202.182,367.74,415.655,488.305,322.315,1433.0,1433.0,887.06,211.475,188.901,146.113,871.121,1147.745,1397.57,609.675,1616.673,687.074,986.311,972.525,718.852,661.471,685.746,1301.954,1107.627,1436.254,1384.72,1206.223,1308.435,1474.851,1226.367,1355.436,1104.096,573.0,633.17,2191.057,1293.536,1223.505,1598.532,1551.427,1299.962,1712.205,1107.627,724.699,1158.168,2026.569,2278.868,2137.416,1718.571,1900.704,415.081,1469.765,1676.997,1084.615,1019.436,890.025,1760.642,1946.006,2031.607,2025.281,1313.896,1225.675,812.546,1058.584,1498.599,1263.858,1290.575,1571.909,505.187,1638.448,1688.951,946.01,786.958,1284.196,1285.406,1094.426,818.697,731.347,628.259,822.38,443.805,711.166,731.664,609.006,993.565,901.18,1970.754,1416.266,873.688,566.058,1084.355,1302.931,492.115,1364.619,859.5,804.26,474.868,455.686,889.234,876.335,524.717,760.04,273.722,400.052,133.796,258.945,274.509,472.283,391.808,452.511,53.922,398.945,279.027,510.217,102.427,305.98,96.615,70.328,304.605,674.066,209.43,716.02,374.488,202.182,208.061,129.203,190.264,423.937,110.18,243.803,274.01,116.291,273.257,184.138,308.175,447.818,211.944,176.473,269.59,147.727,488.975,319.29,172.203,239.113,133.918,300.626,128.505,394.206,30.49,433.398,325.447,126.919,700.405,224.665,134.891,0.0,403.877,84.408,0.0,0.0,136.083,127.82,167.596,23.443,278.544,206.064,345.004,564.067,537.094,173.475,0.0,22.29,269.59,168.787,447.089,445.143,171.208,332.802],\"type\":\"scatter\"},{\"marker\":{\"color\":\"purple\"},\"mode\":\"lines\",\"showlegend\":false,\"x\":[0.43417,0.43782,0.44147,0.44511,0.44876,0.45241,0.45606,0.45971,0.46336,0.467,0.47065,0.4743,0.47795,0.4816,0.48525,0.4889,0.49254,0.49619,0.49984,0.50349,0.50714,0.51079,0.51443,0.51808,0.52173,0.52538,0.52903,0.53268,0.53633,0.53997,0.54362,0.54727,0.55092,0.55457,0.55822,0.56186,0.56551,0.56916,0.57281,0.57646,0.58011,0.58376,0.5874,0.59105,0.5947,0.59835,0.602,0.60565,0.60929,0.61294,0.61659,0.62024,0.62389,0.62754,0.63119,0.63483,0.63848,0.64213,0.64578,0.64943,0.65308,0.65672,0.66037,0.66402,0.66767,0.67132,0.67497,0.67862,0.68226,0.68591,0.68956,0.69321,0.69686,0.70051,0.70415,0.7078,0.71145,0.7151,0.71875,0.7224,0.72605,0.72969,0.73334,0.73699,0.74064,0.74429,0.74794,0.75159,0.75523,0.75888,0.76253,0.76618,0.76983,0.77348,0.77712,0.78077,0.78442,0.78807,0.79172,0.79537,0.79902,0.80266,0.80631,0.80996,0.81361,0.81726,0.82091,0.82455,0.8282,0.83185,0.8355,0.83915,0.8428,0.84645,0.85009,0.85374,0.85739,0.86104,0.86469,0.86834,0.87198,0.87563,0.87928,0.88293,0.88658,0.89023,0.89388,0.89752,0.90117,0.90482,0.90847,0.91212,0.91577,0.91941,0.92306,0.92671,0.93036,0.93401,0.93766,0.94131,0.94495,0.9486,0.95225,0.9559,0.95955,0.9632,0.96684,0.97049,0.97414,0.97779,0.98144,0.98509,0.98874,0.99238,0.99603,0.99968,1.00333,1.00698,1.01063,1.01428,1.01792,1.02157,1.02522,1.02887,1.03252,1.03617,1.03981,1.04346,1.04711,1.05076,1.05441,1.05806,1.06171,1.06535,1.069,1.07265,1.0763,1.07995,1.0836,1.08724,1.09089,1.09454,1.09819,1.10184,1.10549,1.10914,1.11278,1.11643,1.12008,1.12373,1.12738,1.13103,1.13467,1.13832,1.14197,1.14562,1.14927,1.15292,1.15657,1.16021,1.16386,1.16751,1.17116,1.17481,1.17846,1.1821,1.18575,1.1894,1.19305,1.1967,1.20035,1.204,1.20764,1.21129,1.21494,1.21859,1.22224,1.22589,1.22953,1.23318,1.23683,1.24048,1.24413,1.24778,1.25143,1.25507,1.25872,1.26237,1.26602,1.26967,1.27332,1.27696,1.28061,1.28426,1.28791,1.29156,1.29521,1.29886,1.3025,1.30615,1.3098,1.31345,1.3171,1.32075,1.3244,1.32804,1.33169,1.33534,1.33899,1.34264,1.34629,1.34993,1.35358,1.35723,1.36088,1.36453,1.36818,1.37183,1.37547,1.37912,1.38277,1.38642,1.39007,1.39372,1.39736,1.40101,1.40466,1.40831,1.41196,1.41561],\"y\":[204.6951692666001,204.70224891644133,204.7103610993821,204.7196192943544,204.73023229114662,204.74235422226653,204.75618480413937,204.77194797609357,204.78989452505806,204.81024539064003,204.83342497025188,204.85973034711483,204.8895509353398,204.92332009083313,204.96151945307193,205.0046836371204,205.05326363690395,205.10818092220194,205.1700352034071,205.23962735313125,205.31784055505787,205.40564747325186,205.50383249750334,205.61410729418455,205.73750578834725,205.87543946463344,206.02945236079535,206.20123119174806,206.3926159801899,206.60499617641375,206.84171400253138,207.10458470583012,207.3961771297658,207.71927379176785,208.0768842698017,208.47112101255715,208.90764704755077,209.38920625211964,209.9198559700606,210.5039518497499,211.14616253209442,211.85148429513455,212.6230370292675,213.4707413478578,214.39863791672832,215.41317439953224,216.5211948234477,217.72995153891466,219.04335219833231,220.47669513769264,222.0350617703469,223.72743464422481,225.56324675958564,227.55238518115306,229.7051925806751,232.0258419388681,234.53830698281132,237.2481499954108,240.16750156509127,243.3089172105403,246.68536208005898,250.29990935118786,254.18611154900998,258.3484500317227,262.8013011190814,267.5593176491732,272.63738984040583,278.05060167489034,283.79789951594324,289.92614921171344,296.4354059768817,303.3410007202617,310.6581708976769,318.4019891801928,326.56424579762006,335.20426714820866,344.3143486657642,353.9081054043658,363.99856801534133,374.598087797149,385.71823884856246,397.33706095929654,409.5280898019847,422.2687741870561,435.56656212335633,449.4276083699945,463.85666963849894,478.8570007731473,494.38680315057036,510.5313550454539,527.2469293674484,544.5297856452377,562.3742031798287,580.7723988876029,599.6618230666064,619.1341666298033,639.1238867932968,659.6142760241918,680.5862658465117,702.0183949375881,723.8867881871904,746.1035762651882,768.7621797296619,791.770995816047,815.0965316045723,838.7029601491332,862.5521764344869,886.5377338147366,910.749083549417,935.0761322002365,959.4725081769137,983.8900519098131,1008.2789553624123,1032.5879146480663,1056.6982883686712,1080.6888872013656,1104.4385172647912,1127.8916608141462,1150.9922413156316,1173.6838400170896,1195.8497137671643,1217.5553559498671,1238.6831275265372,1259.177532047867,1278.9838973616781,1298.0486165976997,1316.3193883322292,1333.6989107365846,1350.2338040101865,1365.828161844041,1380.4372310018177,1394.0186992214583,1406.5328991605845,1417.9132804985663,1428.1886344039947,1437.2955325233709,1445.206676668146,1451.8982418245157,1457.3499956893388,1461.5454005879014,1464.465422538937,1466.117204063248,1466.4859405185798,1465.5705063820594,1463.3736955007298,1459.9022068852978,1455.1812995968014,1449.1993842463935,1441.985826553745,1433.5624021317863,1423.954430512323,1413.1906483561572,1401.303066276576,1388.3638149319945,1374.339777355106,1359.3058440645225,1343.3053922388697,1326.384150163746,1308.5899798898622,1289.9726522379763,1270.637742707338,1250.531783265948,1229.7609482912264,1208.3802903839594,1186.4455839419538,1164.0130855435043,1141.2025163567964,1117.944929045991,1094.3587111873294,1070.499727388377,1046.4231937412749,1022.1834735633687,997.8338829913301,973.493409350157,949.0788825465862,924.7062402174857,900.4228968724336,876.2744237193834,852.3044285259144,828.6191809554933,805.1278317783809,781.9329128579684,759.0692633236731,736.5693686562696,714.4633243281451,692.7788128094243,671.5986473779386,650.8292435307001,630.5498507167985,610.7785275875201,591.5309885974663,572.8206503463629,554.7076881506608,537.101558714173,520.0596739467738,503.5869009612337,487.6861633711517,472.35853117694603,457.603315091618,443.4562523795632,429.8357117976975,416.775973607507,404.270319528405,392.31078278339754,380.8882531296464,370.021722582127,359.6404263429097,349.76301724296036,340.37684290676543,331.46861241351206,323.0244898973894,315.0301847315657,307.4911670426638,300.35110331756516,293.61614267501443,287.2709994090673,281.30032335376603,275.6887646834742,270.43501032667086,265.495054547036,260.8687877121276,256.5414156127483,252.4983986267813,248.72548898325115,245.20876371580377,241.9433042609313,238.8980070867902,236.06937668950724,233.44503681753946,231.01304164059718,228.76188635842013,226.68599496332544,224.76338217727877,222.98983003753114,221.35564513772255,219.85158683888056,218.46886283843097,217.19912295965423,216.03750561245914,214.97015410487663,213.99332304732528,213.10033869910419,212.2849183429089,211.54115724971496,210.86351506652855,210.24841264094988,209.6876268373104,209.17839511117566,208.71649062982797,208.29797861998006,207.91920177029877,207.57765724207644,207.26832978497052,206.98929477330591,206.73786228810172,206.51155050332483,206.30807287837635,206.1253257935536,205.96180179485395,205.81483324807343,205.68326961359264,205.56562450411457,205.46053992875258,205.36677689254915,205.2834224916181,205.2089937505802,205.14279948236864,205.0839924017727,205.03180462085157,204.98554112354074],\"type\":\"scatter\"}],                        {\"template\":{\"data\":{\"histogram2dcontour\":[{\"type\":\"histogram2dcontour\",\"colorbar\":{\"outlinewidth\":0,\"ticks\":\"\"},\"colorscale\":[[0.0,\"#0d0887\"],[0.1111111111111111,\"#46039f\"],[0.2222222222222222,\"#7201a8\"],[0.3333333333333333,\"#9c179e\"],[0.4444444444444444,\"#bd3786\"],[0.5555555555555556,\"#d8576b\"],[0.6666666666666666,\"#ed7953\"],[0.7777777777777778,\"#fb9f3a\"],[0.8888888888888888,\"#fdca26\"],[1.0,\"#f0f921\"]]}],\"choropleth\":[{\"type\":\"choropleth\",\"colorbar\":{\"outlinewidth\":0,\"ticks\":\"\"}}],\"histogram2d\":[{\"type\":\"histogram2d\",\"colorbar\":{\"outlinewidth\":0,\"ticks\":\"\"},\"colorscale\":[[0.0,\"#0d0887\"],[0.1111111111111111,\"#46039f\"],[0.2222222222222222,\"#7201a8\"],[0.3333333333333333,\"#9c179e\"],[0.4444444444444444,\"#bd3786\"],[0.5555555555555556,\"#d8576b\"],[0.6666666666666666,\"#ed7953\"],[0.7777777777777778,\"#fb9f3a\"],[0.8888888888888888,\"#fdca26\"],[1.0,\"#f0f921\"]]}],\"heatmap\":[{\"type\":\"heatmap\",\"colorbar\":{\"outlinewidth\":0,\"ticks\":\"\"},\"colorscale\":[[0.0,\"#0d0887\"],[0.1111111111111111,\"#46039f\"],[0.2222222222222222,\"#7201a8\"],[0.3333333333333333,\"#9c179e\"],[0.4444444444444444,\"#bd3786\"],[0.5555555555555556,\"#d8576b\"],[0.6666666666666666,\"#ed7953\"],[0.7777777777777778,\"#fb9f3a\"],[0.8888888888888888,\"#fdca26\"],[1.0,\"#f0f921\"]]}],\"heatmapgl\":[{\"type\":\"heatmapgl\",\"colorbar\":{\"outlinewidth\":0,\"ticks\":\"\"},\"colorscale\":[[0.0,\"#0d0887\"],[0.1111111111111111,\"#46039f\"],[0.2222222222222222,\"#7201a8\"],[0.3333333333333333,\"#9c179e\"],[0.4444444444444444,\"#bd3786\"],[0.5555555555555556,\"#d8576b\"],[0.6666666666666666,\"#ed7953\"],[0.7777777777777778,\"#fb9f3a\"],[0.8888888888888888,\"#fdca26\"],[1.0,\"#f0f921\"]]}],\"contourcarpet\":[{\"type\":\"contourcarpet\",\"colorbar\":{\"outlinewidth\":0,\"ticks\":\"\"}}],\"contour\":[{\"type\":\"contour\",\"colorbar\":{\"outlinewidth\":0,\"ticks\":\"\"},\"colorscale\":[[0.0,\"#0d0887\"],[0.1111111111111111,\"#46039f\"],[0.2222222222222222,\"#7201a8\"],[0.3333333333333333,\"#9c179e\"],[0.4444444444444444,\"#bd3786\"],[0.5555555555555556,\"#d8576b\"],[0.6666666666666666,\"#ed7953\"],[0.7777777777777778,\"#fb9f3a\"],[0.8888888888888888,\"#fdca26\"],[1.0,\"#f0f921\"]]}],\"surface\":[{\"type\":\"surface\",\"colorbar\":{\"outlinewidth\":0,\"ticks\":\"\"},\"colorscale\":[[0.0,\"#0d0887\"],[0.1111111111111111,\"#46039f\"],[0.2222222222222222,\"#7201a8\"],[0.3333333333333333,\"#9c179e\"],[0.4444444444444444,\"#bd3786\"],[0.5555555555555556,\"#d8576b\"],[0.6666666666666666,\"#ed7953\"],[0.7777777777777778,\"#fb9f3a\"],[0.8888888888888888,\"#fdca26\"],[1.0,\"#f0f921\"]]}],\"mesh3d\":[{\"type\":\"mesh3d\",\"colorbar\":{\"outlinewidth\":0,\"ticks\":\"\"}}],\"scatter\":[{\"fillpattern\":{\"fillmode\":\"overlay\",\"size\":10,\"solidity\":0.2},\"type\":\"scatter\"}],\"parcoords\":[{\"type\":\"parcoords\",\"line\":{\"colorbar\":{\"outlinewidth\":0,\"ticks\":\"\"}}}],\"scatterpolargl\":[{\"type\":\"scatterpolargl\",\"marker\":{\"colorbar\":{\"outlinewidth\":0,\"ticks\":\"\"}}}],\"bar\":[{\"error_x\":{\"color\":\"#2a3f5f\"},\"error_y\":{\"color\":\"#2a3f5f\"},\"marker\":{\"line\":{\"color\":\"#E5ECF6\",\"width\":0.5},\"pattern\":{\"fillmode\":\"overlay\",\"size\":10,\"solidity\":0.2}},\"type\":\"bar\"}],\"scattergeo\":[{\"type\":\"scattergeo\",\"marker\":{\"colorbar\":{\"outlinewidth\":0,\"ticks\":\"\"}}}],\"scatterpolar\":[{\"type\":\"scatterpolar\",\"marker\":{\"colorbar\":{\"outlinewidth\":0,\"ticks\":\"\"}}}],\"histogram\":[{\"marker\":{\"pattern\":{\"fillmode\":\"overlay\",\"size\":10,\"solidity\":0.2}},\"type\":\"histogram\"}],\"scattergl\":[{\"type\":\"scattergl\",\"marker\":{\"colorbar\":{\"outlinewidth\":0,\"ticks\":\"\"}}}],\"scatter3d\":[{\"type\":\"scatter3d\",\"line\":{\"colorbar\":{\"outlinewidth\":0,\"ticks\":\"\"}},\"marker\":{\"colorbar\":{\"outlinewidth\":0,\"ticks\":\"\"}}}],\"scattermapbox\":[{\"type\":\"scattermapbox\",\"marker\":{\"colorbar\":{\"outlinewidth\":0,\"ticks\":\"\"}}}],\"scatterternary\":[{\"type\":\"scatterternary\",\"marker\":{\"colorbar\":{\"outlinewidth\":0,\"ticks\":\"\"}}}],\"scattercarpet\":[{\"type\":\"scattercarpet\",\"marker\":{\"colorbar\":{\"outlinewidth\":0,\"ticks\":\"\"}}}],\"carpet\":[{\"aaxis\":{\"endlinecolor\":\"#2a3f5f\",\"gridcolor\":\"white\",\"linecolor\":\"white\",\"minorgridcolor\":\"white\",\"startlinecolor\":\"#2a3f5f\"},\"baxis\":{\"endlinecolor\":\"#2a3f5f\",\"gridcolor\":\"white\",\"linecolor\":\"white\",\"minorgridcolor\":\"white\",\"startlinecolor\":\"#2a3f5f\"},\"type\":\"carpet\"}],\"table\":[{\"cells\":{\"fill\":{\"color\":\"#EBF0F8\"},\"line\":{\"color\":\"white\"}},\"header\":{\"fill\":{\"color\":\"#C8D4E3\"},\"line\":{\"color\":\"white\"}},\"type\":\"table\"}],\"barpolar\":[{\"marker\":{\"line\":{\"color\":\"#E5ECF6\",\"width\":0.5},\"pattern\":{\"fillmode\":\"overlay\",\"size\":10,\"solidity\":0.2}},\"type\":\"barpolar\"}],\"pie\":[{\"automargin\":true,\"type\":\"pie\"}]},\"layout\":{\"autotypenumbers\":\"strict\",\"colorway\":[\"#636efa\",\"#EF553B\",\"#00cc96\",\"#ab63fa\",\"#FFA15A\",\"#19d3f3\",\"#FF6692\",\"#B6E880\",\"#FF97FF\",\"#FECB52\"],\"font\":{\"color\":\"#2a3f5f\"},\"hovermode\":\"closest\",\"hoverlabel\":{\"align\":\"left\"},\"paper_bgcolor\":\"white\",\"plot_bgcolor\":\"#E5ECF6\",\"polar\":{\"bgcolor\":\"#E5ECF6\",\"angularaxis\":{\"gridcolor\":\"white\",\"linecolor\":\"white\",\"ticks\":\"\"},\"radialaxis\":{\"gridcolor\":\"white\",\"linecolor\":\"white\",\"ticks\":\"\"}},\"ternary\":{\"bgcolor\":\"#E5ECF6\",\"aaxis\":{\"gridcolor\":\"white\",\"linecolor\":\"white\",\"ticks\":\"\"},\"baxis\":{\"gridcolor\":\"white\",\"linecolor\":\"white\",\"ticks\":\"\"},\"caxis\":{\"gridcolor\":\"white\",\"linecolor\":\"white\",\"ticks\":\"\"}},\"coloraxis\":{\"colorbar\":{\"outlinewidth\":0,\"ticks\":\"\"}},\"colorscale\":{\"sequential\":[[0.0,\"#0d0887\"],[0.1111111111111111,\"#46039f\"],[0.2222222222222222,\"#7201a8\"],[0.3333333333333333,\"#9c179e\"],[0.4444444444444444,\"#bd3786\"],[0.5555555555555556,\"#d8576b\"],[0.6666666666666666,\"#ed7953\"],[0.7777777777777778,\"#fb9f3a\"],[0.8888888888888888,\"#fdca26\"],[1.0,\"#f0f921\"]],\"sequentialminus\":[[0.0,\"#0d0887\"],[0.1111111111111111,\"#46039f\"],[0.2222222222222222,\"#7201a8\"],[0.3333333333333333,\"#9c179e\"],[0.4444444444444444,\"#bd3786\"],[0.5555555555555556,\"#d8576b\"],[0.6666666666666666,\"#ed7953\"],[0.7777777777777778,\"#fb9f3a\"],[0.8888888888888888,\"#fdca26\"],[1.0,\"#f0f921\"]],\"diverging\":[[0,\"#8e0152\"],[0.1,\"#c51b7d\"],[0.2,\"#de77ae\"],[0.3,\"#f1b6da\"],[0.4,\"#fde0ef\"],[0.5,\"#f7f7f7\"],[0.6,\"#e6f5d0\"],[0.7,\"#b8e186\"],[0.8,\"#7fbc41\"],[0.9,\"#4d9221\"],[1,\"#276419\"]]},\"xaxis\":{\"gridcolor\":\"white\",\"linecolor\":\"white\",\"ticks\":\"\",\"title\":{\"standoff\":15},\"zerolinecolor\":\"white\",\"automargin\":true,\"zerolinewidth\":2},\"yaxis\":{\"gridcolor\":\"white\",\"linecolor\":\"white\",\"ticks\":\"\",\"title\":{\"standoff\":15},\"zerolinecolor\":\"white\",\"automargin\":true,\"zerolinewidth\":2},\"scene\":{\"xaxis\":{\"backgroundcolor\":\"#E5ECF6\",\"gridcolor\":\"white\",\"linecolor\":\"white\",\"showbackground\":true,\"ticks\":\"\",\"zerolinecolor\":\"white\",\"gridwidth\":2},\"yaxis\":{\"backgroundcolor\":\"#E5ECF6\",\"gridcolor\":\"white\",\"linecolor\":\"white\",\"showbackground\":true,\"ticks\":\"\",\"zerolinecolor\":\"white\",\"gridwidth\":2},\"zaxis\":{\"backgroundcolor\":\"#E5ECF6\",\"gridcolor\":\"white\",\"linecolor\":\"white\",\"showbackground\":true,\"ticks\":\"\",\"zerolinecolor\":\"white\",\"gridwidth\":2}},\"shapedefaults\":{\"line\":{\"color\":\"#2a3f5f\"}},\"annotationdefaults\":{\"arrowcolor\":\"#2a3f5f\",\"arrowhead\":0,\"arrowwidth\":1},\"geo\":{\"bgcolor\":\"white\",\"landcolor\":\"#E5ECF6\",\"subunitcolor\":\"white\",\"showland\":true,\"showlakes\":true,\"lakecolor\":\"white\"},\"title\":{\"x\":0.05},\"mapbox\":{\"style\":\"light\"}}},\"font\":{\"size\":18,\"color\":\"Black\"},\"yaxis\":{\"title\":{\"text\":\"Gray Value\"},\"mirror\":true,\"ticks\":\"outside\",\"showline\":true,\"linecolor\":\"black\",\"gridcolor\":\"lightgrey\"},\"xaxis\":{\"title\":{\"text\":\"Distance (\\u03bcm)\"},\"mirror\":true,\"ticks\":\"outside\",\"showline\":true,\"linecolor\":\"black\",\"gridcolor\":\"lightgrey\"},\"plot_bgcolor\":\"white\"},                        {\"responsive\": true}                    ).then(function(){\n",
       "                            \n",
       "var gd = document.getElementById('01a66a52-8042-4e00-bd27-2a9ac157127d');\n",
       "var x = new MutationObserver(function (mutations, observer) {{\n",
       "        var display = window.getComputedStyle(gd).display;\n",
       "        if (!display || display === 'none') {{\n",
       "            console.log([gd, 'removed!']);\n",
       "            Plotly.purge(gd);\n",
       "            observer.disconnect();\n",
       "        }}\n",
       "}});\n",
       "\n",
       "// Listen for the removal of the full notebook cells\n",
       "var notebookContainer = gd.closest('#notebook-container');\n",
       "if (notebookContainer) {{\n",
       "    x.observe(notebookContainer, {childList: true});\n",
       "}}\n",
       "\n",
       "// Listen for the clearing of the current output cell\n",
       "var outputEl = gd.closest('.output');\n",
       "if (outputEl) {{\n",
       "    x.observe(outputEl, {childList: true});\n",
       "}}\n",
       "\n",
       "                        })                };                });            </script>        </div>"
      ]
     },
     "metadata": {},
     "output_type": "display_data"
    },
    {
     "name": "stdout",
     "output_type": "stream",
     "text": [
      "FWHM = 269.39\n"
     ]
    }
   ],
   "source": [
    "skiprows5 = 120\n",
    "maxrows5 = 270\n",
    "\n",
    "data5 = np.array(read(f'dati_rosso_olio.txt', skiprows5, maxrows5))\n",
    "popt5, pcov5 = plottiamo_plotly(data5)  # scegliere plotly o pyplot\n",
    "FWHM(popt5)"
   ]
  },
  {
   "cell_type": "markdown",
   "id": "d86270e1",
   "metadata": {},
   "source": [
    "# caso doppio"
   ]
  },
  {
   "cell_type": "code",
   "execution_count": 145,
   "id": "c0ee638e",
   "metadata": {},
   "outputs": [],
   "source": [
    "# gaussiana 1\n",
    "skiprows6 = 10\n",
    "maxrows6 = 340\n",
    "data6 = np.array(read(f'zoom1_sas.txt', skiprows6, maxrows6))\n",
    "\n",
    "# gaussiana 2\n",
    "skiprows7 = 350\n",
    "maxrows7 = 600\n",
    "data7 = np.array(read(f'zoom1_sas.txt', skiprows7, maxrows7))\n",
    "\n",
    "# tot dati\n",
    "datatot = tuple(np.concatenate((a, b)) for a, b in zip(data6, data7))"
   ]
  },
  {
   "cell_type": "code",
   "execution_count": 148,
   "id": "7ba4e55a",
   "metadata": {},
   "outputs": [
    {
     "data": {
      "application/vnd.plotly.v1+json": {
       "config": {
        "plotlyServerURL": "https://plot.ly"
       },
       "data": [
        {
         "hoverinfo": "skip",
         "line": {
          "color": "plum"
         },
         "mode": "lines",
         "showlegend": false,
         "type": "scatter",
         "x": [
          0.03284,
          0.03648,
          0.04013,
          0.04378,
          0.04743,
          0.05108,
          0.05473,
          0.05838,
          0.06202,
          0.06567,
          0.06932,
          0.07297,
          0.07662,
          0.08027,
          0.08391,
          0.08756,
          0.09121,
          0.09486,
          0.09851,
          0.10216,
          0.10581,
          0.10945,
          0.1131,
          0.11675,
          0.1204,
          0.12405,
          0.1277,
          0.13134,
          0.13499,
          0.13864,
          0.14229,
          0.14594,
          0.14959,
          0.15324,
          0.15688,
          0.16053,
          0.16418,
          0.16783,
          0.17148,
          0.17513,
          0.17878,
          0.18242,
          0.18607,
          0.18972,
          0.19337,
          0.19702,
          0.20067,
          0.20431,
          0.20796,
          0.21161,
          0.21526,
          0.21891,
          0.22256,
          0.22621,
          0.22985,
          0.2335,
          0.23715,
          0.2408,
          0.24445,
          0.2481,
          0.25174,
          0.25539,
          0.25904,
          0.26269,
          0.26634,
          0.26999,
          0.27364,
          0.27728,
          0.28093,
          0.28458,
          0.28823,
          0.29188,
          0.29553,
          0.29917,
          0.30282,
          0.30647,
          0.31012,
          0.31377,
          0.31742,
          0.32107,
          0.32471,
          0.32836,
          0.33201,
          0.33566,
          0.33931,
          0.34296,
          0.3466,
          0.35025,
          0.3539,
          0.35755,
          0.3612,
          0.36485,
          0.3685,
          0.37214,
          0.37579,
          0.37944,
          0.38309,
          0.38674,
          0.39039,
          0.39403,
          0.39768,
          0.40133,
          0.40498,
          0.40863,
          0.41228,
          0.41593,
          0.41957,
          0.42322,
          0.42687,
          0.43052,
          0.43417,
          0.43782,
          0.44147,
          0.44511,
          0.44876,
          0.45241,
          0.45606,
          0.45971,
          0.46336,
          0.467,
          0.47065,
          0.4743,
          0.47795,
          0.4816,
          0.48525,
          0.4889,
          0.49254,
          0.49619,
          0.49984,
          0.50349,
          0.50714,
          0.51079,
          0.51443,
          0.51808,
          0.52173,
          0.52538,
          0.52903,
          0.53268,
          0.53633,
          0.53997,
          0.54362,
          0.54727,
          0.55092,
          0.55457,
          0.55822,
          0.56186,
          0.56551,
          0.56916,
          0.57281,
          0.57646,
          0.58011,
          0.58376,
          0.5874,
          0.59105,
          0.5947,
          0.59835,
          0.602,
          0.60565,
          0.60929,
          0.61294,
          0.61659,
          0.62024,
          0.62389,
          0.62754,
          0.63119,
          0.63483,
          0.63848,
          0.64213,
          0.64578,
          0.64943,
          0.65308,
          0.65672,
          0.66037,
          0.66402,
          0.66767,
          0.67132,
          0.67497,
          0.67862,
          0.68226,
          0.68591,
          0.68956,
          0.69321,
          0.69686,
          0.70051,
          0.70415,
          0.7078,
          0.71145,
          0.7151,
          0.71875,
          0.7224,
          0.72605,
          0.72969,
          0.73334,
          0.73699,
          0.74064,
          0.74429,
          0.74794,
          0.75159,
          0.75523,
          0.75888,
          0.76253,
          0.76618,
          0.76983,
          0.77348,
          0.77712,
          0.78077,
          0.78442,
          0.78807,
          0.79172,
          0.79537,
          0.79902,
          0.80266,
          0.80631,
          0.80996,
          0.81361,
          0.81726,
          0.82091,
          0.82455,
          0.8282,
          0.83185,
          0.8355,
          0.83915,
          0.8428,
          0.84645,
          0.85009,
          0.85374,
          0.85739,
          0.86104,
          0.86469,
          0.86834,
          0.87198,
          0.87563,
          0.87928,
          0.88293,
          0.88658,
          0.89023,
          0.89388,
          0.89752,
          0.90117,
          0.90482,
          0.90847,
          0.91212,
          0.91577,
          0.91941,
          0.92306,
          0.92671,
          0.93036,
          0.93401,
          0.93766,
          0.94131,
          0.94495,
          0.9486,
          0.95225,
          0.9559,
          0.95955,
          0.9632,
          0.96684,
          0.97049,
          0.97414,
          0.97779,
          0.98144,
          0.98509,
          0.98874,
          0.99238,
          0.99603,
          0.99968,
          1.00333,
          1.00698,
          1.01063,
          1.01428,
          1.01792,
          1.02157,
          1.02522,
          1.02887,
          1.03252,
          1.03617,
          1.03981,
          1.04346,
          1.04711,
          1.05076,
          1.05441,
          1.05806,
          1.06171,
          1.06535,
          1.069,
          1.07265,
          1.0763,
          1.07995,
          1.0836,
          1.08724,
          1.09089,
          1.09454,
          1.09819,
          1.10184,
          1.10549,
          1.10914,
          1.11278,
          1.11643,
          1.12008,
          1.12373,
          1.12738,
          1.13103,
          1.13467,
          1.13832,
          1.14197,
          1.14562,
          1.14927,
          1.15292,
          1.15657,
          1.16021,
          1.16386,
          1.16751,
          1.17116,
          1.17481,
          1.17846,
          1.1821,
          1.18575,
          1.1894,
          1.19305,
          1.1967,
          1.20035,
          1.204,
          1.20764,
          1.21129,
          1.21494,
          1.21859,
          1.22224,
          1.22589,
          1.22953,
          1.23318,
          1.23683,
          1.24048,
          1.24413,
          1.24778,
          1.25143,
          1.25507,
          1.25872,
          1.26237,
          1.26602,
          1.26967,
          1.27332,
          1.27696,
          1.28061,
          1.28426,
          1.28791,
          1.29156,
          1.29521,
          1.29886,
          1.3025,
          1.30615,
          1.3098,
          1.31345,
          1.3171,
          1.32075,
          1.3244,
          1.32804,
          1.33169,
          1.33534,
          1.33899,
          1.34264,
          1.34629,
          1.34993,
          1.35358,
          1.35723,
          1.36088,
          1.36453,
          1.36818,
          1.37183,
          1.37547,
          1.37912,
          1.38277,
          1.38642,
          1.39007,
          1.39372,
          1.39736,
          1.40101,
          1.40466,
          1.40831,
          1.41196,
          1.41561,
          1.41926,
          1.4229,
          1.42655,
          1.4302,
          1.43385,
          1.4375,
          1.44115,
          1.44479,
          1.44844,
          1.45209,
          1.45574,
          1.45939,
          1.46304,
          1.46669,
          1.47033,
          1.47398,
          1.47763,
          1.48128,
          1.48493,
          1.48858,
          1.49222,
          1.49587,
          1.49952,
          1.50317,
          1.50682,
          1.51047,
          1.51412,
          1.51776,
          1.52141,
          1.52506,
          1.52871,
          1.53236,
          1.53601,
          1.53965,
          1.5433,
          1.54695,
          1.5506,
          1.55425,
          1.5579,
          1.56155,
          1.56519,
          1.56884,
          1.57249,
          1.57614,
          1.57979,
          1.58344,
          1.58709,
          1.59073,
          1.59438,
          1.59803,
          1.60168,
          1.60533,
          1.60898,
          1.61262,
          1.61627,
          1.61992,
          1.62357,
          1.62722,
          1.63087,
          1.63452,
          1.63816,
          1.64181,
          1.64546,
          1.64911,
          1.65276,
          1.65641,
          1.66005,
          1.6637,
          1.66735,
          1.671,
          1.67465,
          1.6783,
          1.68195,
          1.68559,
          1.68924,
          1.69289,
          1.69654,
          1.70019,
          1.70384,
          1.70748,
          1.71113,
          1.71478,
          1.71843,
          1.72208,
          1.72573,
          1.72938,
          1.73302,
          1.73667,
          1.74032,
          1.74397,
          1.74762,
          1.75127,
          1.75491,
          1.75856,
          1.76221,
          1.76586,
          1.76951,
          1.77316,
          1.77681,
          1.78045,
          1.7841,
          1.78775,
          1.7914,
          1.79505,
          1.7987,
          1.80234,
          1.80599,
          1.80964,
          1.81329,
          1.81694,
          1.82059,
          1.82424,
          1.82788,
          1.83153,
          1.83518,
          1.83883,
          1.84248,
          1.84613,
          1.84977,
          1.85342,
          1.85707,
          1.86072,
          1.86437,
          1.86802,
          1.87167,
          1.87531,
          1.87896,
          1.88261,
          1.88626,
          1.88991,
          1.89356,
          1.89721,
          1.90085,
          1.9045,
          1.90815,
          1.9118,
          1.91545,
          1.9191,
          1.92274,
          1.92639,
          1.93004,
          1.93369,
          1.93734,
          1.94099,
          1.94464,
          1.94828,
          1.95193,
          1.95558,
          1.95923,
          1.96288,
          1.96653,
          1.97017,
          1.97382,
          1.97747,
          1.98112,
          1.98477,
          1.98842,
          1.99207,
          1.99571,
          1.99936,
          2.00301,
          2.00666,
          2.01031,
          2.01396,
          2.0176,
          2.02125,
          2.0249,
          2.02855,
          2.0322,
          2.03585,
          2.0395,
          2.04314,
          2.04679,
          2.05044,
          2.05409,
          2.05774,
          2.06139,
          2.06503,
          2.06868,
          2.07233,
          2.07598,
          2.07963,
          2.08328,
          2.08693,
          2.09057,
          2.09422,
          2.09787,
          2.10152,
          2.10517,
          2.10882,
          2.11246,
          2.11611,
          2.11976,
          2.12341,
          2.12706,
          2.13071,
          2.13436,
          2.138,
          2.14165,
          2.1453,
          2.14895,
          2.1526,
          2.15625,
          2.15989,
          2.16354,
          2.16719,
          2.17084,
          2.17449,
          2.17814,
          2.18179,
          2.18543,
          2.18908,
          2.19273,
          2.19638,
          2.20003,
          2.20368,
          2.20733,
          2.21097,
          2.21462,
          2.21827,
          2.22192,
          2.22557,
          2.22922,
          2.23286,
          2.23651,
          2.24016,
          2.24381,
          2.24746,
          2.25111,
          2.25476,
          2.2584,
          2.26205,
          2.2657,
          2.26935,
          2.273,
          2.27665,
          2.28029,
          2.28394,
          2.28759,
          2.29124,
          2.29489,
          2.29854,
          2.30219,
          2.30583,
          2.30948,
          2.31313,
          2.31678,
          2.32043,
          2.32408,
          2.32772,
          2.33137,
          2.33502,
          2.33867,
          2.34232,
          2.34597,
          2.34962,
          2.35326,
          2.35691,
          2.36056,
          2.36421,
          2.36786,
          2.37151,
          2.37515,
          2.3788,
          2.38245,
          2.3861,
          2.38975,
          2.3934,
          2.39705,
          2.40069,
          2.40434,
          2.40799,
          2.41164,
          2.41529,
          2.41894,
          2.42259,
          2.42623,
          2.42988,
          2.43353,
          2.43718,
          2.44083,
          2.44448,
          2.44812,
          2.45177,
          2.45542,
          2.45907
         ],
         "y": [
          122.873,
          178.001,
          435.579,
          401.068,
          378.222,
          217.204,
          188.27,
          215.561,
          34.076,
          702.121,
          79.935,
          0,
          0,
          40.434,
          27.656,
          114.368,
          86.564,
          125.918,
          127.343,
          286,
          286,
          286,
          175.674,
          15.276,
          0,
          56.16,
          107.836,
          64.989,
          79.004,
          179.668,
          286,
          157.675,
          268.369,
          225.857,
          151.591,
          92.504,
          106.227,
          52.914,
          93.547,
          68.699,
          137.484,
          495.931,
          425.102,
          14.427,
          251.205,
          204.528,
          149.748,
          108.287,
          0,
          0,
          0,
          67.455,
          30.217,
          220.653,
          190.95,
          30.552,
          0,
          0,
          0,
          0,
          24.856,
          202.093,
          377.602,
          181.741,
          0,
          211.462,
          0,
          0,
          187.789,
          195.611,
          118.445,
          57.357,
          154.072,
          0.383,
          89.606,
          0,
          0,
          43.7,
          57.82,
          0,
          0,
          0,
          6.739,
          0,
          0.267,
          168.811,
          234.158,
          45.828,
          0,
          38.19,
          274.967,
          498.736,
          211.454,
          101.235,
          48.742,
          103.371,
          48.024,
          96.967,
          117.755,
          0,
          77.748,
          457.392,
          51.992,
          0,
          0,
          0,
          171.695,
          275.816,
          39.039,
          70.535,
          203.521,
          139.313,
          152.25,
          331.423,
          239.352,
          146.907,
          271.545,
          65.735,
          64.499,
          224.896,
          57.709,
          0,
          142.18,
          6.094,
          18.542,
          232.997,
          82.32,
          0,
          100.485,
          158.109,
          274.252,
          138.332,
          27.979,
          182.463,
          251.243,
          224.047,
          96.226,
          61.776,
          37.898,
          0.4,
          44.423,
          88.284,
          482.535,
          261.509,
          18.333,
          248.084,
          200.083,
          205.553,
          553.162,
          76.681,
          49.223,
          280.457,
          370.312,
          468.211,
          143.072,
          506.745,
          307.589,
          135.149,
          426.254,
          324.391,
          247.877,
          188.404,
          28.006,
          396.083,
          295.022,
          112.467,
          36.649,
          405.314,
          342.351,
          67.251,
          221.769,
          846.423,
          567.039,
          466.344,
          574.615,
          749.288,
          428.093,
          391.501,
          129.687,
          770.179,
          978.499,
          1058.994,
          1280.267,
          1203.314,
          481.554,
          656.498,
          790.275,
          1267.881,
          825.847,
          800.564,
          554.119,
          333.691,
          727.701,
          754.888,
          288.707,
          298.903,
          492.095,
          420.558,
          371.803,
          585.107,
          279.327,
          230.688,
          190.101,
          176.576,
          253.087,
          295.355,
          452.561,
          1005.771,
          1039.411,
          1208.43,
          798.916,
          647.747,
          20.98,
          819.572,
          466.604,
          554.337,
          622.671,
          37.221,
          190.267,
          65.806,
          203.38,
          117.755,
          665.388,
          791.369,
          498.223,
          861.374,
          364.375,
          388.499,
          116.655,
          291.289,
          525.084,
          361.037,
          655.005,
          741.664,
          919.147,
          139.82,
          678.188,
          379.804,
          356.941,
          635.084,
          444.661,
          235.845,
          401.777,
          310.526,
          424.738,
          505.211,
          544.044,
          467.398,
          393.625,
          632.428,
          483.882,
          273.29,
          488.036,
          808.049,
          189.336,
          190.913,
          243.451,
          257.006,
          488.8,
          528.01,
          506.359,
          255.647,
          384.799,
          440.658,
          251.658,
          14.949,
          0,
          112.537,
          312.225,
          528.715,
          156.164,
          7.562,
          135.623,
          112.681,
          105.489,
          34.795,
          271.573,
          38.341,
          180.345,
          142.263,
          348.956,
          187.421,
          0,
          50.567,
          39.527,
          101.311,
          151.526,
          268.274,
          14.339,
          25.989,
          196.89,
          225.98,
          0,
          8.557,
          33.305,
          194.344,
          156.181,
          175.674,
          274.568,
          150.652,
          234.231,
          100.991,
          0,
          84.766,
          131.543,
          0,
          0,
          0,
          99.06,
          163.493,
          236.155,
          21.217,
          209.804,
          147.086,
          260.943,
          237.85,
          10.101,
          425.226,
          97.225,
          0,
          0,
          0,
          5.928,
          253.924,
          89.11,
          46.886,
          176.714,
          0,
          1.269e-19,
          132.792,
          86.468,
          189.152,
          320.168,
          197.913,
          5.928,
          210.57,
          55.329,
          135.143,
          332.113,
          129.921,
          40.982,
          19.743,
          25.057,
          68.608,
          68.558,
          123.356,
          2.659,
          71.862,
          34.561,
          136.577,
          76.078,
          14.287,
          363.427,
          169.828,
          62.849,
          180.23,
          270.638,
          208.595,
          8.172,
          116.768,
          7.751,
          242.72,
          79.213,
          207.492,
          240.625,
          150.292,
          178.531,
          366.507,
          61.877,
          808.299,
          344.376,
          127.875,
          122.208,
          268.674,
          62.521,
          317.925,
          240.498,
          77.921,
          170.624,
          249.229,
          685.696,
          210.755,
          397.429,
          193.95,
          273.485,
          293.589,
          288.995,
          732.159,
          351.603,
          142.576,
          188.733,
          593.297,
          42.403,
          232.534,
          286.338,
          373.763,
          966.954,
          627.426,
          643.574,
          665.156,
          548.882,
          153.529,
          256.473,
          733.869,
          189.907,
          553.836,
          573,
          750.483,
          400.837,
          420.866,
          324.023,
          488.433,
          558.601,
          571.614,
          452.853,
          1777.21,
          1745.255,
          753.786,
          498.895,
          963.347,
          823.487,
          573,
          573,
          1073.222,
          1063.404,
          184.527,
          133.989,
          987.754,
          928.981,
          753.355,
          653.945,
          838.061,
          352.728,
          1497.751,
          1169.768,
          939.653,
          1430.407,
          993.439,
          299.937,
          965.068,
          1000.415,
          899.205,
          396.283,
          913.205,
          319.512,
          945.666,
          889.499,
          1082.608,
          1221.25,
          945.365,
          605.651,
          1654.42,
          821.316,
          861.539,
          508.203,
          717.933,
          1247.993,
          1056.467,
          1233.598,
          926.49,
          1262.955,
          721.991,
          842.116,
          952.69,
          1299.233,
          1430.515,
          793.393,
          631.45,
          578.592,
          297.827,
          812.936,
          1127.849,
          1045.087,
          771.611,
          1238.561,
          1014.732,
          423.609,
          817.642,
          744.928,
          868.499,
          531.235,
          557.799,
          499.887,
          552.003,
          529.567,
          320.315,
          636.872,
          579.071,
          347.436,
          345.729,
          109.614,
          429.534,
          81.846,
          467.531,
          473.698,
          617.075,
          406.776,
          682.571,
          522.521,
          556.988,
          265.132,
          7.672,
          808.221,
          402.347,
          202.548,
          70.837,
          17.966,
          89.001,
          294.236,
          269.384,
          185.914,
          272.272,
          419.526,
          0,
          88.891,
          455.367,
          159.458,
          0.4,
          111.732,
          0,
          0,
          59.667,
          280.625,
          423.631,
          32.402,
          14.022,
          0.982,
          129.974,
          155.581,
          331.751,
          155.933,
          15.125,
          267.458,
          279.906,
          60.877,
          106.932,
          265.964,
          228.529,
          445.067,
          185.533,
          124.726,
          0,
          99.422,
          241.217,
          235.929,
          230.044,
          109.735,
          0,
          24.095,
          15.55,
          0,
          0,
          0,
          0,
          7.492,
          82.237,
          88.133,
          168.036,
          167.187,
          38.409,
          283.703,
          112.789,
          177.484,
          58.558,
          0,
          0,
          0,
          9.559,
          290.881,
          253.817,
          278.688,
          352.567,
          242.456,
          313.315,
          13.641,
          0,
          99.79,
          86.307,
          1.587,
          0,
          120.656,
          17.051,
          44.725,
          0,
          0,
          0,
          0,
          90.389,
          170.553,
          345.756,
          491.154,
          75.888,
          0,
          0,
          51.769,
          202.093,
          24.856,
          27.454,
          56.898,
          1.524,
          29.192,
          311.961,
          75.115,
          21.524,
          0,
          135.146,
          0,
          134.938,
          56.094,
          0,
          0,
          0,
          0,
          0,
          0,
          0,
          168.642,
          68.699,
          93.547,
          0,
          213.015,
          82.681,
          101.311,
          195.088,
          1.697,
          162.095,
          118.85,
          448.305,
          316.948,
          10.637,
          0,
          0,
          0,
          0,
          0,
          38.505,
          74.859,
          69.505,
          86.607,
          56.813,
          285.466,
          265.833,
          11.881,
          374.235,
          357.616,
          161.012,
          136.91,
          0,
          370.931,
          208.035,
          68.608,
          0,
          0,
          18.671,
          255.448,
          210.363,
          253.629,
          91.49,
          38.148,
          181.614,
          245.639,
          21.683,
          238.639,
          538.083,
          293.654,
          2.679e-08
         ]
        },
        {
         "marker": {
          "color": "purple"
         },
         "mode": "lines",
         "showlegend": false,
         "type": "scatter",
         "x": [
          0.03284,
          0.03648,
          0.04013,
          0.04378,
          0.04743,
          0.05108,
          0.05473,
          0.05838,
          0.06202,
          0.06567,
          0.06932,
          0.07297,
          0.07662,
          0.08027,
          0.08391,
          0.08756,
          0.09121,
          0.09486,
          0.09851,
          0.10216,
          0.10581,
          0.10945,
          0.1131,
          0.11675,
          0.1204,
          0.12405,
          0.1277,
          0.13134,
          0.13499,
          0.13864,
          0.14229,
          0.14594,
          0.14959,
          0.15324,
          0.15688,
          0.16053,
          0.16418,
          0.16783,
          0.17148,
          0.17513,
          0.17878,
          0.18242,
          0.18607,
          0.18972,
          0.19337,
          0.19702,
          0.20067,
          0.20431,
          0.20796,
          0.21161,
          0.21526,
          0.21891,
          0.22256,
          0.22621,
          0.22985,
          0.2335,
          0.23715,
          0.2408,
          0.24445,
          0.2481,
          0.25174,
          0.25539,
          0.25904,
          0.26269,
          0.26634,
          0.26999,
          0.27364,
          0.27728,
          0.28093,
          0.28458,
          0.28823,
          0.29188,
          0.29553,
          0.29917,
          0.30282,
          0.30647,
          0.31012,
          0.31377,
          0.31742,
          0.32107,
          0.32471,
          0.32836,
          0.33201,
          0.33566,
          0.33931,
          0.34296,
          0.3466,
          0.35025,
          0.3539,
          0.35755,
          0.3612,
          0.36485,
          0.3685,
          0.37214,
          0.37579,
          0.37944,
          0.38309,
          0.38674,
          0.39039,
          0.39403,
          0.39768,
          0.40133,
          0.40498,
          0.40863,
          0.41228,
          0.41593,
          0.41957,
          0.42322,
          0.42687,
          0.43052,
          0.43417,
          0.43782,
          0.44147,
          0.44511,
          0.44876,
          0.45241,
          0.45606,
          0.45971,
          0.46336,
          0.467,
          0.47065,
          0.4743,
          0.47795,
          0.4816,
          0.48525,
          0.4889,
          0.49254,
          0.49619,
          0.49984,
          0.50349,
          0.50714,
          0.51079,
          0.51443,
          0.51808,
          0.52173,
          0.52538,
          0.52903,
          0.53268,
          0.53633,
          0.53997,
          0.54362,
          0.54727,
          0.55092,
          0.55457,
          0.55822,
          0.56186,
          0.56551,
          0.56916,
          0.57281,
          0.57646,
          0.58011,
          0.58376,
          0.5874,
          0.59105,
          0.5947,
          0.59835,
          0.602,
          0.60565,
          0.60929,
          0.61294,
          0.61659,
          0.62024,
          0.62389,
          0.62754,
          0.63119,
          0.63483,
          0.63848,
          0.64213,
          0.64578,
          0.64943,
          0.65308,
          0.65672,
          0.66037,
          0.66402,
          0.66767,
          0.67132,
          0.67497,
          0.67862,
          0.68226,
          0.68591,
          0.68956,
          0.69321,
          0.69686,
          0.70051,
          0.70415,
          0.7078,
          0.71145,
          0.7151,
          0.71875,
          0.7224,
          0.72605,
          0.72969,
          0.73334,
          0.73699,
          0.74064,
          0.74429,
          0.74794,
          0.75159,
          0.75523,
          0.75888,
          0.76253,
          0.76618,
          0.76983,
          0.77348,
          0.77712,
          0.78077,
          0.78442,
          0.78807,
          0.79172,
          0.79537,
          0.79902,
          0.80266,
          0.80631,
          0.80996,
          0.81361,
          0.81726,
          0.82091,
          0.82455,
          0.8282,
          0.83185,
          0.8355,
          0.83915,
          0.8428,
          0.84645,
          0.85009,
          0.85374,
          0.85739,
          0.86104,
          0.86469,
          0.86834,
          0.87198,
          0.87563,
          0.87928,
          0.88293,
          0.88658,
          0.89023,
          0.89388,
          0.89752,
          0.90117,
          0.90482,
          0.90847,
          0.91212,
          0.91577,
          0.91941,
          0.92306,
          0.92671,
          0.93036,
          0.93401,
          0.93766,
          0.94131,
          0.94495,
          0.9486,
          0.95225,
          0.9559,
          0.95955,
          0.9632,
          0.96684,
          0.97049,
          0.97414,
          0.97779,
          0.98144,
          0.98509,
          0.98874,
          0.99238,
          0.99603,
          0.99968,
          1.00333,
          1.00698,
          1.01063,
          1.01428,
          1.01792,
          1.02157,
          1.02522,
          1.02887,
          1.03252,
          1.03617,
          1.03981,
          1.04346,
          1.04711,
          1.05076,
          1.05441,
          1.05806,
          1.06171,
          1.06535,
          1.069,
          1.07265,
          1.0763,
          1.07995,
          1.0836,
          1.08724,
          1.09089,
          1.09454,
          1.09819,
          1.10184,
          1.10549,
          1.10914,
          1.11278,
          1.11643,
          1.12008,
          1.12373,
          1.12738,
          1.13103,
          1.13467,
          1.13832,
          1.14197,
          1.14562,
          1.14927,
          1.15292,
          1.15657,
          1.16021,
          1.16386,
          1.16751,
          1.17116,
          1.17481,
          1.17846,
          1.1821,
          1.18575,
          1.1894,
          1.19305,
          1.1967,
          1.20035,
          1.204,
          1.20764,
          1.21129,
          1.21494,
          1.21859,
          1.22224,
          1.22589,
          1.22953,
          1.23318,
          1.23683,
          1.24048,
          1.24413,
          1.24778,
          1.25143,
          1.25507,
          1.25872,
          1.26237,
          1.26602,
          1.26967
         ],
         "y": [
          116.2937748242473,
          116.29378914961336,
          116.29380577507793,
          116.29382500605436,
          116.29384723375287,
          116.29387290536651,
          116.29390253165438,
          116.29393669548809,
          116.29397594584978,
          116.29402125370179,
          116.2940733802471,
          116.294133305413,
          116.29420214278151,
          116.2942811567486,
          116.29437151615129,
          116.29447533939874,
          116.29459423565184,
          116.29473028792981,
          116.29488585132961,
          116.2950635862894,
          116.29526649560485,
          116.29549728903304,
          116.2957610408429,
          116.29606145177823,
          116.2964033518212,
          116.29679216909925,
          116.29723399868054,
          116.29773421558679,
          116.29830321442303,
          116.29894828779949,
          116.29967903821358,
          116.30050620116167,
          116.30144176830231,
          116.3024991226732,
          116.30368971410185,
          116.30503666869208,
          116.3065554092954,
          116.3082665088167,
          116.31019282586887,
          116.31235973607612,
          116.31479538404409,
          116.31752302247496,
          116.32059208361018,
          116.32403368264438,
          116.32789001685362,
          116.33220767757615,
          116.33703806097218,
          116.34242218477804,
          116.34845185361088,
          116.35518168058296,
          116.36268706065351,
          116.3710507828797,
          116.38036367117057,
          116.39072527124277,
          116.40221133878542,
          116.41500394391728,
          116.42920346775881,
          116.44495218509294,
          116.46240529997907,
          116.48173195905787,
          116.50305475056498,
          116.52669067589339,
          116.55280170154947,
          116.5816241042365,
          116.61341414289843,
          116.64844947554106,
          116.68703064898145,
          116.72936075454183,
          116.77602262706401,
          116.82728424701341,
          116.88355401858044,
          116.94527179726217,
          117.0129108270466,
          117.08676754989288,
          117.16779259382366,
          117.256377740808,
          117.35315046476131,
          117.45878235160885,
          117.57399143228497,
          117.69954456772888,
          117.8358692882668,
          117.9845844186492,
          118.14625904281706,
          118.32187983918593,
          118.51249477373679,
          118.71921564002432,
          118.94258214783845,
          119.18506566338058,
          119.4473949318049,
          119.73096187333869,
          120.03723452342403,
          120.3677593066691,
          120.72416320945716,
          121.10706449601973,
          121.52035693395426,
          121.9649073464257,
          122.44268373124964,
          122.9557432811376,
          123.50623351141289,
          124.09471996494395,
          124.72676113535472,
          125.40321799246459,
          126.12660486780392,
          126.89952770331367,
          127.72468325481483,
          128.6048578811651,
          129.54027408110278,
          130.53902477530355,
          131.60166390364935,
          132.73131469239138,
          133.93117678397516,
          135.20452199298037,
          136.55468947213734,
          137.98104866283583,
          139.49488561126427,
          141.09589904121688,
          142.7876365323153,
          144.5736793513804,
          146.45763371840485,
          148.43753968742465,
          150.5278947576607,
          152.72702217406896,
          155.03852690761622,
          157.46598492176227,
          160.0129303425262,
          162.68284198057623,
          165.47129247738283,
          168.39692079779365,
          171.4554671735217,
          174.65004260550035,
          177.9836266355449,
          181.45905060215767,
          185.06886317152282,
          188.83537625414664,
          192.75115507886915,
          196.81826432266553,
          201.03853205930943,
          205.41353158577516,
          209.94456326302725,
          214.61957717314556,
          219.4649595390902,
          224.46845737404882,
          229.63010197379214,
          234.94956423027662,
          240.42613844294027,
          246.0430831919405,
          251.8297601429261,
          257.76902702627865,
          263.858526019002,
          270.0954538897761,
          276.4765513636411,
          282.998093767564,
          289.63746055125233,
          296.42646515905113,
          303.341890777596,
          310.37808786923733,
          317.5289171994947,
          324.7877500561775,
          332.12717569500546,
          339.5799391350061,
          347.11793638296945,
          354.7326224156032,
          362.4149928289173,
          370.15559595863715,
          377.94454708837804,
          385.750058586668,
          393.6043429778671,
          401.47492713209647,
          409.35037876594504,
          417.21893453710913,
          425.06852643807355,
          432.86544427308996,
          440.6399665266036,
          448.3578197293297,
          456.00601773447016,
          463.57142790183326,
          471.04080730572224,
          478.4008401780837,
          485.618527887483,
          492.7202135648763,
          499.672594613997,
          506.46245760153494,
          513.0767166294721,
          519.5024549304495,
          525.7101993794024,
          531.7216329301139,
          537.5072592251485,
          543.0552518989487,
          548.3541591054952,
          553.3929427981257,
          558.1610169608139,
          562.6363831649537,
          566.8340800522307,
          570.7324081800634,
          574.3229429609636,
          577.5978808862669,
          580.5500677764754,
          583.1730248167803,
          585.4551663244813,
          587.4039825911092,
          589.0084199932012,
          590.2649107499658,
          591.1706551421923,
          591.7236319068822,
          591.9225448113104,
          591.768041994804,
          591.259437010905,
          590.3978661348965,
          589.1852523519125,
          587.6242982053672,
          585.7184757609107,
          583.478629426299,
          580.8974097569587,
          577.9861961251038,
          574.7513808724908,
          571.2000348095647,
          567.3398814674606,
          563.1910705136934,
          558.7397280367351,
          554.006348316963,
          549.0009644305571,
          543.7341030287664,
          538.2167475077254,
          532.4602999218898,
          526.4932352623708,
          520.294860387409,
          513.8936813470617,
          507.30237470248045,
          500.53383305338303,
          493.6011233597216,
          486.53704682900843,
          479.3160505172718,
          471.97068186209816,
          464.5142924718641,
          456.96020455502133,
          449.3216722565934,
          441.6118440698342,
          433.8650768963236,
          426.051606510785,
          418.20526072775925,
          410.3384165567865,
          402.4631782792229,
          394.59134895676243,
          386.75589914359074,
          378.9248746947417,
          371.1305755260677,
          363.3833541498566,
          355.69314851759214,
          348.0694654593027,
          340.5213662129773,
          333.077780601624,
          325.7059268736275,
          318.4340333364772,
          311.26927701565785,
          304.21834793912154,
          297.287446815005,
          290.50075222808215,
          283.8261859221409,
          277.2873059204013,
          270.8883701645426,
          264.63316232243625,
          258.5249995853357,
          252.56674185467782,
          246.7764989262729,
          241.1244303037379,
          235.62820962514422,
          230.28898496668887,
          225.10751039782087,
          220.08416140915745,
          215.2189510227486,
          210.52422843090605,
          205.9735390361401,
          201.57902479311213,
          197.3394208695968,
          193.2531872237608,
          189.31852675571963,
          185.5435714049133,
          181.9053283495745,
          178.41191323133555,
          175.0606820308916,
          171.84882321036605,
          168.77337489835406,
          165.83124168660996,
          163.02674043896334,
          160.34115559436515,
          157.77896891277686,
          155.33670950836827,
          153.01084944390095,
          150.7978172885288,
          148.6996289583535,
          146.70114387670105,
          144.80464718072457,
          143.00651587038007,
          141.30314124549946,
          139.69093841456367,
          138.16635511480973,
          136.72971461794828,
          135.3696678572337,
          134.0868668818625,
          132.87796446063726,
          131.7396800511897,
          130.66880470948706,
          129.66487820054087,
          128.7193379326826,
          127.83205785265208,
          127.00015275359584,
          126.22082513979038,
          125.49136693599378,
          124.80916075218693,
          124.17336838495072,
          123.57806802835076,
          123.02272446730264,
          122.50508750026471,
          122.02299821034306,
          121.5743881272253,
          121.15837960453378,
          120.77079997525925,
          120.41102953242365,
          120.07734817056156,
          119.76811864609479,
          119.48178454175415,
          119.21686810801904,
          118.97261283927705,
          118.7463523171332,
          118.53752853536942,
          118.34495483691232,
          118.16751123952608,
          118.00414190690003,
          117.85424735549898,
          117.7160708825841,
          117.58916299448646,
          117.47269896288614,
          117.36590562844012,
          117.26805896448086,
          117.178481685902,
          117.09675551890241,
          117.0218419463425,
          116.95342469909568,
          116.89099054726454,
          116.83406191653422
         ]
        },
        {
         "marker": {
          "color": "purple"
         },
         "mode": "lines",
         "showlegend": false,
         "type": "scatter",
         "x": [
          1.27332,
          1.27696,
          1.28061,
          1.28426,
          1.28791,
          1.29156,
          1.29521,
          1.29886,
          1.3025,
          1.30615,
          1.3098,
          1.31345,
          1.3171,
          1.32075,
          1.3244,
          1.32804,
          1.33169,
          1.33534,
          1.33899,
          1.34264,
          1.34629,
          1.34993,
          1.35358,
          1.35723,
          1.36088,
          1.36453,
          1.36818,
          1.37183,
          1.37547,
          1.37912,
          1.38277,
          1.38642,
          1.39007,
          1.39372,
          1.39736,
          1.40101,
          1.40466,
          1.40831,
          1.41196,
          1.41561,
          1.41926,
          1.4229,
          1.42655,
          1.4302,
          1.43385,
          1.4375,
          1.44115,
          1.44479,
          1.44844,
          1.45209,
          1.45574,
          1.45939,
          1.46304,
          1.46669,
          1.47033,
          1.47398,
          1.47763,
          1.48128,
          1.48493,
          1.48858,
          1.49222,
          1.49587,
          1.49952,
          1.50317,
          1.50682,
          1.51047,
          1.51412,
          1.51776,
          1.52141,
          1.52506,
          1.52871,
          1.53236,
          1.53601,
          1.53965,
          1.5433,
          1.54695,
          1.5506,
          1.55425,
          1.5579,
          1.56155,
          1.56519,
          1.56884,
          1.57249,
          1.57614,
          1.57979,
          1.58344,
          1.58709,
          1.59073,
          1.59438,
          1.59803,
          1.60168,
          1.60533,
          1.60898,
          1.61262,
          1.61627,
          1.61992,
          1.62357,
          1.62722,
          1.63087,
          1.63452,
          1.63816,
          1.64181,
          1.64546,
          1.64911,
          1.65276,
          1.65641,
          1.66005,
          1.6637,
          1.66735,
          1.671,
          1.67465,
          1.6783,
          1.68195,
          1.68559,
          1.68924,
          1.69289,
          1.69654,
          1.70019,
          1.70384,
          1.70748,
          1.71113,
          1.71478,
          1.71843,
          1.72208,
          1.72573,
          1.72938,
          1.73302,
          1.73667,
          1.74032,
          1.74397,
          1.74762,
          1.75127,
          1.75491,
          1.75856,
          1.76221,
          1.76586,
          1.76951,
          1.77316,
          1.77681,
          1.78045,
          1.7841,
          1.78775,
          1.7914,
          1.79505,
          1.7987,
          1.80234,
          1.80599,
          1.80964,
          1.81329,
          1.81694,
          1.82059,
          1.82424,
          1.82788,
          1.83153,
          1.83518,
          1.83883,
          1.84248,
          1.84613,
          1.84977,
          1.85342,
          1.85707,
          1.86072,
          1.86437,
          1.86802,
          1.87167,
          1.87531,
          1.87896,
          1.88261,
          1.88626,
          1.88991,
          1.89356,
          1.89721,
          1.90085,
          1.9045,
          1.90815,
          1.9118,
          1.91545,
          1.9191,
          1.92274,
          1.92639,
          1.93004,
          1.93369,
          1.93734,
          1.94099,
          1.94464,
          1.94828,
          1.95193,
          1.95558,
          1.95923,
          1.96288,
          1.96653,
          1.97017,
          1.97382,
          1.97747,
          1.98112,
          1.98477,
          1.98842,
          1.99207,
          1.99571,
          1.99936,
          2.00301,
          2.00666,
          2.01031,
          2.01396,
          2.0176,
          2.02125,
          2.0249,
          2.02855,
          2.0322,
          2.03585,
          2.0395,
          2.04314,
          2.04679,
          2.05044,
          2.05409,
          2.05774,
          2.06139,
          2.06503,
          2.06868,
          2.07233,
          2.07598,
          2.07963,
          2.08328,
          2.08693,
          2.09057,
          2.09422,
          2.09787,
          2.10152,
          2.10517,
          2.10882,
          2.11246,
          2.11611,
          2.11976,
          2.12341,
          2.12706,
          2.13071,
          2.13436,
          2.138,
          2.14165,
          2.1453,
          2.14895,
          2.1526,
          2.15625,
          2.15989,
          2.16354,
          2.16719,
          2.17084,
          2.17449,
          2.17814,
          2.18179,
          2.18543,
          2.18908,
          2.19273,
          2.19638,
          2.20003,
          2.20368,
          2.20733,
          2.21097,
          2.21462,
          2.21827,
          2.22192,
          2.22557,
          2.22922,
          2.23286,
          2.23651,
          2.24016,
          2.24381,
          2.24746,
          2.25111,
          2.25476,
          2.2584,
          2.26205,
          2.2657,
          2.26935,
          2.273,
          2.27665,
          2.28029,
          2.28394,
          2.28759,
          2.29124,
          2.29489,
          2.29854,
          2.30219,
          2.30583,
          2.30948,
          2.31313,
          2.31678,
          2.32043,
          2.32408,
          2.32772,
          2.33137,
          2.33502,
          2.33867,
          2.34232,
          2.34597,
          2.34962,
          2.35326,
          2.35691,
          2.36056,
          2.36421,
          2.36786,
          2.37151,
          2.37515,
          2.3788,
          2.38245,
          2.3861,
          2.38975,
          2.3934,
          2.39705,
          2.40069,
          2.40434,
          2.40799,
          2.41164,
          2.41529,
          2.41894,
          2.42259,
          2.42623,
          2.42988,
          2.43353,
          2.43718,
          2.44083,
          2.44448,
          2.44812,
          2.45177,
          2.45542,
          2.45907
         ],
         "y": [
          114.46350840034897,
          115.3089642403935,
          116.22256917735828,
          117.20632573530256,
          118.26466495600947,
          119.40221204098738,
          120.62378745302904,
          121.93440729013537,
          123.33530025808203,
          124.83955623394338,
          126.44905462779204,
          128.16958050972002,
          130.00710330444085,
          131.9677714519402,
          134.05790589325022,
          136.27770172299154,
          138.64598166760106,
          141.1636229485341,
          143.83754548377743,
          146.67478954134583,
          149.68250103202948,
          152.85893872697056,
          156.22884579486842,
          159.79110163716507,
          163.5530968226692,
          167.52223082308527,
          171.70588790424566,
          176.1114114397895,
          180.73305936870395,
          185.60338748230356,
          190.71706771032885,
          196.08099291569354,
          201.70186421353424,
          207.58615666904137,
          213.72284992982966,
          220.15156444898815,
          226.86139403225525,
          233.8575454899588,
          241.14481263944305,
          248.72753669328756,
          256.6095662724713,
          264.7713774764186,
          273.2605528622739,
          282.05721744567234,
          291.1628504116932,
          300.57823950422403,
          310.3034428885241,
          320.30983974711285,
          330.6509040041009,
          341.2972234049306,
          352.2455840020082,
          363.491872651698,
          375.03104897823704,
          386.8571198813252,
          398.92957431820236,
          411.3068003569493,
          423.94703958103776,
          436.840295107574,
          449.97553628915847,
          463.34069330725026,
          476.88516142460617,
          490.66924653327715,
          504.6408538550171,
          518.7837892681339,
          533.0808564219055,
          547.513877828925,
          562.0637207256636,
          576.6700867108035,
          591.392333015462,
          606.1686624196651,
          620.9764779030301,
          635.792428212579,
          650.592462148744,
          665.3115288548869,
          680.0052901113812,
          694.6074615717805,
          709.0918225880372,
          723.4317868535707,
          737.600480379231,
          751.5708225272898,
          765.278285738542,
          778.7710076218757,
          791.9838198915128,
          804.8896744646205,
          817.4617552598469,
          829.673570011556,
          841.4990424505941,
          852.8819199475957,
          863.8598333580753,
          874.3766550501899,
          884.4088839465911,
          893.9338853922783,
          902.9299760590335,
          911.354133671234,
          919.2331502254916,
          926.5247671010517,
          933.2118894615191,
          939.2787477575242,
          944.710959670778,
          949.4955869130877,
          953.6107932206198,
          957.0693081147224,
          959.8505926875538,
          961.9479350315271,
          963.356264086375,
          964.07217006872,
          964.0948073714255,
          963.424245480669,
          962.0610958294153,
          960.0086590472149,
          957.271898144674,
          953.8574185170625,
          949.7734413805314,
          945.0436583874425,
          939.6534014378337,
          933.6276075960387,
          926.9805664579719,
          919.7279587244543,
          911.8867945833769,
          903.4991539530586,
          894.5383702814873,
          885.0472934504968,
          875.0475417055529,
          864.5616900767939,
          853.6131856437701,
          842.2262604213465,
          830.4587140109542,
          818.2713638512324,
          805.7220292669289,
          792.837178146517,
          779.643608213847,
          766.1683551765715,
          752.4765403124729,
          738.5201113524672,
          724.3635554827199,
          710.0339639608218,
          695.5582267920215,
          680.9629515063714,
          666.2743849734128,
          651.5588351261354,
          636.7606949364944,
          621.9450430948505,
          607.1359745601769,
          592.3568880501628,
          577.6304314600754,
          563.018473220979,
          548.4616820229364,
          534.0204289998048,
          519.713908348311,
          505.56036084671126,
          491.5770476809419,
          477.7802290422038,
          464.2221054767123,
          450.84236353630314,
          437.69171215502223,
          424.78228917649017,
          412.1251930593539,
          399.7304880236973,
          387.64004920985565,
          375.7954552452851,
          364.2373303354835,
          352.9717306850563,
          342.00375820197087,
          331.3375858152116,
          320.9764853520404,
          310.9499802657434,
          301.2045396844566,
          291.7688908958617,
          282.6430247326631,
          273.826199990758,
          265.3169815034138,
          257.11327907512145,
          249.23362251423322,
          241.6314441019295,
          234.32498967185643,
          227.30994898872405,
          220.581556608025,
          214.13463151754405,
          207.98015150598644,
          202.07841912587975,
          196.4405224786328,
          191.06000250004342,
          185.93017179113193,
          181.04414900086346,
          176.39489193560738,
          171.98703092249374,
          167.78909361070296,
          163.80616097133128,
          160.0308506100555,
          156.45576329550832,
          153.07350717164627,
          149.88523199311766,
          146.86612553075116,
          144.01795694625164,
          141.33357397109373,
          138.80592896551565,
          136.42809372408374,
          134.19327279478426,
          132.10038420786333,
          130.13144745195552,
          128.28606407245002,
          126.55807414043684,
          124.94149635297973,
          123.43053344739818,
          122.023310485877,
          120.7066902271325,
          119.47944911578966,
          118.33655827026823,
          117.27318444177872,
          116.28468969017585,
          115.36663032803881,
          114.51700242168278,
          113.72708573073832,
          112.99542901552594,
          112.31834207213242,
          111.69231484777147,
          111.11401325685594,
          110.58167884930056,
          110.08939735205344,
          109.63585609244562,
          109.21837671886625,
          108.83443193482901,
          108.48164001611104,
          108.15775925054277,
          107.86146145343719,
          107.58914444114116,
          107.33980234114937,
          107.11169711084258,
          106.90320282203196,
          106.71280022978078,
          106.53952585277868,
          106.38110875575839,
          106.23681620852442,
          106.1055033214863,
          105.98610648238665,
          105.87763870049972,
          105.77918511226889,
          105.6901314768257,
          105.60920676928001,
          105.53594390276953,
          105.46967480100841,
          105.40978359817538,
          105.35570317032266,
          105.30703873184389,
          105.26304456793873,
          105.22342126810973,
          105.18776526173774,
          105.15570688244344,
          105.12690787320284,
          105.10105903913077,
          105.07793814743046,
          105.0571611684266,
          105.03856039973839,
          105.0219221370769,
          105.00705203569021,
          104.99377353550403,
          104.98192639538593,
          104.97139263107793,
          104.96198305558765,
          104.95360920309085,
          104.94616340937907,
          104.93954844742245,
          104.93367660224754,
          104.92848224536206,
          104.92386580742387,
          104.91977838702064,
          104.91616242876076,
          104.91296626136898,
          104.91014354109711,
          104.90765274261304,
          104.9054623388805,
          104.90352712247768,
          104.90182378866263,
          104.90032581832536,
          104.89900956324342,
          104.89785395536076,
          104.89684284215663,
          104.89595402949514,
          104.89517566411757,
          104.89449459516557,
          104.89389916186431,
          104.89337903439656,
          104.89292507056392,
          104.89253019877839,
          104.89218512370024,
          104.89188470193069,
          104.89162337472327,
          104.89139624528413,
          104.89119900394125,
          104.89102829761237,
          104.89087986644313,
          104.89075129081493,
          104.89064000790073,
          104.89054377252403,
          104.89046061959137,
          104.8903888307272,
          104.89032706209088,
          104.8902736666677,
          104.89022768387078,
          104.89018811770796,
          104.89015410119406,
          104.89012488032589,
          104.8900998635456,
          104.8900783458468,
          104.89005990787477,
          104.89004412200984,
          104.89003061803479,
          104.89001907571784,
          104.89000921831297,
          104.89000082813351,
          104.88999365337739,
          104.88998754124069,
          104.8899823386744,
          104.88997791400391,
          104.88997415404505,
          104.88997096159439,
          104.8899682600735,
          104.88996596328627,
          104.88996401801462,
          104.889962371828,
          104.88996097989833,
          104.88995980393167,
          104.88995881374036,
          104.88995797607149,
          104.88995727012771,
          104.88995667568817
         ]
        }
       ],
       "layout": {
        "font": {
         "color": "Black",
         "size": 18
        },
        "plot_bgcolor": "white",
        "template": {
         "data": {
          "bar": [
           {
            "error_x": {
             "color": "#2a3f5f"
            },
            "error_y": {
             "color": "#2a3f5f"
            },
            "marker": {
             "line": {
              "color": "#E5ECF6",
              "width": 0.5
             },
             "pattern": {
              "fillmode": "overlay",
              "size": 10,
              "solidity": 0.2
             }
            },
            "type": "bar"
           }
          ],
          "barpolar": [
           {
            "marker": {
             "line": {
              "color": "#E5ECF6",
              "width": 0.5
             },
             "pattern": {
              "fillmode": "overlay",
              "size": 10,
              "solidity": 0.2
             }
            },
            "type": "barpolar"
           }
          ],
          "carpet": [
           {
            "aaxis": {
             "endlinecolor": "#2a3f5f",
             "gridcolor": "white",
             "linecolor": "white",
             "minorgridcolor": "white",
             "startlinecolor": "#2a3f5f"
            },
            "baxis": {
             "endlinecolor": "#2a3f5f",
             "gridcolor": "white",
             "linecolor": "white",
             "minorgridcolor": "white",
             "startlinecolor": "#2a3f5f"
            },
            "type": "carpet"
           }
          ],
          "choropleth": [
           {
            "colorbar": {
             "outlinewidth": 0,
             "ticks": ""
            },
            "type": "choropleth"
           }
          ],
          "contour": [
           {
            "colorbar": {
             "outlinewidth": 0,
             "ticks": ""
            },
            "colorscale": [
             [
              0,
              "#0d0887"
             ],
             [
              0.1111111111111111,
              "#46039f"
             ],
             [
              0.2222222222222222,
              "#7201a8"
             ],
             [
              0.3333333333333333,
              "#9c179e"
             ],
             [
              0.4444444444444444,
              "#bd3786"
             ],
             [
              0.5555555555555556,
              "#d8576b"
             ],
             [
              0.6666666666666666,
              "#ed7953"
             ],
             [
              0.7777777777777778,
              "#fb9f3a"
             ],
             [
              0.8888888888888888,
              "#fdca26"
             ],
             [
              1,
              "#f0f921"
             ]
            ],
            "type": "contour"
           }
          ],
          "contourcarpet": [
           {
            "colorbar": {
             "outlinewidth": 0,
             "ticks": ""
            },
            "type": "contourcarpet"
           }
          ],
          "heatmap": [
           {
            "colorbar": {
             "outlinewidth": 0,
             "ticks": ""
            },
            "colorscale": [
             [
              0,
              "#0d0887"
             ],
             [
              0.1111111111111111,
              "#46039f"
             ],
             [
              0.2222222222222222,
              "#7201a8"
             ],
             [
              0.3333333333333333,
              "#9c179e"
             ],
             [
              0.4444444444444444,
              "#bd3786"
             ],
             [
              0.5555555555555556,
              "#d8576b"
             ],
             [
              0.6666666666666666,
              "#ed7953"
             ],
             [
              0.7777777777777778,
              "#fb9f3a"
             ],
             [
              0.8888888888888888,
              "#fdca26"
             ],
             [
              1,
              "#f0f921"
             ]
            ],
            "type": "heatmap"
           }
          ],
          "heatmapgl": [
           {
            "colorbar": {
             "outlinewidth": 0,
             "ticks": ""
            },
            "colorscale": [
             [
              0,
              "#0d0887"
             ],
             [
              0.1111111111111111,
              "#46039f"
             ],
             [
              0.2222222222222222,
              "#7201a8"
             ],
             [
              0.3333333333333333,
              "#9c179e"
             ],
             [
              0.4444444444444444,
              "#bd3786"
             ],
             [
              0.5555555555555556,
              "#d8576b"
             ],
             [
              0.6666666666666666,
              "#ed7953"
             ],
             [
              0.7777777777777778,
              "#fb9f3a"
             ],
             [
              0.8888888888888888,
              "#fdca26"
             ],
             [
              1,
              "#f0f921"
             ]
            ],
            "type": "heatmapgl"
           }
          ],
          "histogram": [
           {
            "marker": {
             "pattern": {
              "fillmode": "overlay",
              "size": 10,
              "solidity": 0.2
             }
            },
            "type": "histogram"
           }
          ],
          "histogram2d": [
           {
            "colorbar": {
             "outlinewidth": 0,
             "ticks": ""
            },
            "colorscale": [
             [
              0,
              "#0d0887"
             ],
             [
              0.1111111111111111,
              "#46039f"
             ],
             [
              0.2222222222222222,
              "#7201a8"
             ],
             [
              0.3333333333333333,
              "#9c179e"
             ],
             [
              0.4444444444444444,
              "#bd3786"
             ],
             [
              0.5555555555555556,
              "#d8576b"
             ],
             [
              0.6666666666666666,
              "#ed7953"
             ],
             [
              0.7777777777777778,
              "#fb9f3a"
             ],
             [
              0.8888888888888888,
              "#fdca26"
             ],
             [
              1,
              "#f0f921"
             ]
            ],
            "type": "histogram2d"
           }
          ],
          "histogram2dcontour": [
           {
            "colorbar": {
             "outlinewidth": 0,
             "ticks": ""
            },
            "colorscale": [
             [
              0,
              "#0d0887"
             ],
             [
              0.1111111111111111,
              "#46039f"
             ],
             [
              0.2222222222222222,
              "#7201a8"
             ],
             [
              0.3333333333333333,
              "#9c179e"
             ],
             [
              0.4444444444444444,
              "#bd3786"
             ],
             [
              0.5555555555555556,
              "#d8576b"
             ],
             [
              0.6666666666666666,
              "#ed7953"
             ],
             [
              0.7777777777777778,
              "#fb9f3a"
             ],
             [
              0.8888888888888888,
              "#fdca26"
             ],
             [
              1,
              "#f0f921"
             ]
            ],
            "type": "histogram2dcontour"
           }
          ],
          "mesh3d": [
           {
            "colorbar": {
             "outlinewidth": 0,
             "ticks": ""
            },
            "type": "mesh3d"
           }
          ],
          "parcoords": [
           {
            "line": {
             "colorbar": {
              "outlinewidth": 0,
              "ticks": ""
             }
            },
            "type": "parcoords"
           }
          ],
          "pie": [
           {
            "automargin": true,
            "type": "pie"
           }
          ],
          "scatter": [
           {
            "fillpattern": {
             "fillmode": "overlay",
             "size": 10,
             "solidity": 0.2
            },
            "type": "scatter"
           }
          ],
          "scatter3d": [
           {
            "line": {
             "colorbar": {
              "outlinewidth": 0,
              "ticks": ""
             }
            },
            "marker": {
             "colorbar": {
              "outlinewidth": 0,
              "ticks": ""
             }
            },
            "type": "scatter3d"
           }
          ],
          "scattercarpet": [
           {
            "marker": {
             "colorbar": {
              "outlinewidth": 0,
              "ticks": ""
             }
            },
            "type": "scattercarpet"
           }
          ],
          "scattergeo": [
           {
            "marker": {
             "colorbar": {
              "outlinewidth": 0,
              "ticks": ""
             }
            },
            "type": "scattergeo"
           }
          ],
          "scattergl": [
           {
            "marker": {
             "colorbar": {
              "outlinewidth": 0,
              "ticks": ""
             }
            },
            "type": "scattergl"
           }
          ],
          "scattermapbox": [
           {
            "marker": {
             "colorbar": {
              "outlinewidth": 0,
              "ticks": ""
             }
            },
            "type": "scattermapbox"
           }
          ],
          "scatterpolar": [
           {
            "marker": {
             "colorbar": {
              "outlinewidth": 0,
              "ticks": ""
             }
            },
            "type": "scatterpolar"
           }
          ],
          "scatterpolargl": [
           {
            "marker": {
             "colorbar": {
              "outlinewidth": 0,
              "ticks": ""
             }
            },
            "type": "scatterpolargl"
           }
          ],
          "scatterternary": [
           {
            "marker": {
             "colorbar": {
              "outlinewidth": 0,
              "ticks": ""
             }
            },
            "type": "scatterternary"
           }
          ],
          "surface": [
           {
            "colorbar": {
             "outlinewidth": 0,
             "ticks": ""
            },
            "colorscale": [
             [
              0,
              "#0d0887"
             ],
             [
              0.1111111111111111,
              "#46039f"
             ],
             [
              0.2222222222222222,
              "#7201a8"
             ],
             [
              0.3333333333333333,
              "#9c179e"
             ],
             [
              0.4444444444444444,
              "#bd3786"
             ],
             [
              0.5555555555555556,
              "#d8576b"
             ],
             [
              0.6666666666666666,
              "#ed7953"
             ],
             [
              0.7777777777777778,
              "#fb9f3a"
             ],
             [
              0.8888888888888888,
              "#fdca26"
             ],
             [
              1,
              "#f0f921"
             ]
            ],
            "type": "surface"
           }
          ],
          "table": [
           {
            "cells": {
             "fill": {
              "color": "#EBF0F8"
             },
             "line": {
              "color": "white"
             }
            },
            "header": {
             "fill": {
              "color": "#C8D4E3"
             },
             "line": {
              "color": "white"
             }
            },
            "type": "table"
           }
          ]
         },
         "layout": {
          "annotationdefaults": {
           "arrowcolor": "#2a3f5f",
           "arrowhead": 0,
           "arrowwidth": 1
          },
          "autotypenumbers": "strict",
          "coloraxis": {
           "colorbar": {
            "outlinewidth": 0,
            "ticks": ""
           }
          },
          "colorscale": {
           "diverging": [
            [
             0,
             "#8e0152"
            ],
            [
             0.1,
             "#c51b7d"
            ],
            [
             0.2,
             "#de77ae"
            ],
            [
             0.3,
             "#f1b6da"
            ],
            [
             0.4,
             "#fde0ef"
            ],
            [
             0.5,
             "#f7f7f7"
            ],
            [
             0.6,
             "#e6f5d0"
            ],
            [
             0.7,
             "#b8e186"
            ],
            [
             0.8,
             "#7fbc41"
            ],
            [
             0.9,
             "#4d9221"
            ],
            [
             1,
             "#276419"
            ]
           ],
           "sequential": [
            [
             0,
             "#0d0887"
            ],
            [
             0.1111111111111111,
             "#46039f"
            ],
            [
             0.2222222222222222,
             "#7201a8"
            ],
            [
             0.3333333333333333,
             "#9c179e"
            ],
            [
             0.4444444444444444,
             "#bd3786"
            ],
            [
             0.5555555555555556,
             "#d8576b"
            ],
            [
             0.6666666666666666,
             "#ed7953"
            ],
            [
             0.7777777777777778,
             "#fb9f3a"
            ],
            [
             0.8888888888888888,
             "#fdca26"
            ],
            [
             1,
             "#f0f921"
            ]
           ],
           "sequentialminus": [
            [
             0,
             "#0d0887"
            ],
            [
             0.1111111111111111,
             "#46039f"
            ],
            [
             0.2222222222222222,
             "#7201a8"
            ],
            [
             0.3333333333333333,
             "#9c179e"
            ],
            [
             0.4444444444444444,
             "#bd3786"
            ],
            [
             0.5555555555555556,
             "#d8576b"
            ],
            [
             0.6666666666666666,
             "#ed7953"
            ],
            [
             0.7777777777777778,
             "#fb9f3a"
            ],
            [
             0.8888888888888888,
             "#fdca26"
            ],
            [
             1,
             "#f0f921"
            ]
           ]
          },
          "colorway": [
           "#636efa",
           "#EF553B",
           "#00cc96",
           "#ab63fa",
           "#FFA15A",
           "#19d3f3",
           "#FF6692",
           "#B6E880",
           "#FF97FF",
           "#FECB52"
          ],
          "font": {
           "color": "#2a3f5f"
          },
          "geo": {
           "bgcolor": "white",
           "lakecolor": "white",
           "landcolor": "#E5ECF6",
           "showlakes": true,
           "showland": true,
           "subunitcolor": "white"
          },
          "hoverlabel": {
           "align": "left"
          },
          "hovermode": "closest",
          "mapbox": {
           "style": "light"
          },
          "paper_bgcolor": "white",
          "plot_bgcolor": "#E5ECF6",
          "polar": {
           "angularaxis": {
            "gridcolor": "white",
            "linecolor": "white",
            "ticks": ""
           },
           "bgcolor": "#E5ECF6",
           "radialaxis": {
            "gridcolor": "white",
            "linecolor": "white",
            "ticks": ""
           }
          },
          "scene": {
           "xaxis": {
            "backgroundcolor": "#E5ECF6",
            "gridcolor": "white",
            "gridwidth": 2,
            "linecolor": "white",
            "showbackground": true,
            "ticks": "",
            "zerolinecolor": "white"
           },
           "yaxis": {
            "backgroundcolor": "#E5ECF6",
            "gridcolor": "white",
            "gridwidth": 2,
            "linecolor": "white",
            "showbackground": true,
            "ticks": "",
            "zerolinecolor": "white"
           },
           "zaxis": {
            "backgroundcolor": "#E5ECF6",
            "gridcolor": "white",
            "gridwidth": 2,
            "linecolor": "white",
            "showbackground": true,
            "ticks": "",
            "zerolinecolor": "white"
           }
          },
          "shapedefaults": {
           "line": {
            "color": "#2a3f5f"
           }
          },
          "ternary": {
           "aaxis": {
            "gridcolor": "white",
            "linecolor": "white",
            "ticks": ""
           },
           "baxis": {
            "gridcolor": "white",
            "linecolor": "white",
            "ticks": ""
           },
           "bgcolor": "#E5ECF6",
           "caxis": {
            "gridcolor": "white",
            "linecolor": "white",
            "ticks": ""
           }
          },
          "title": {
           "x": 0.05
          },
          "xaxis": {
           "automargin": true,
           "gridcolor": "white",
           "linecolor": "white",
           "ticks": "",
           "title": {
            "standoff": 15
           },
           "zerolinecolor": "white",
           "zerolinewidth": 2
          },
          "yaxis": {
           "automargin": true,
           "gridcolor": "white",
           "linecolor": "white",
           "ticks": "",
           "title": {
            "standoff": 15
           },
           "zerolinecolor": "white",
           "zerolinewidth": 2
          }
         }
        },
        "xaxis": {
         "gridcolor": "lightgrey",
         "linecolor": "black",
         "mirror": true,
         "showline": true,
         "ticks": "outside",
         "title": {
          "text": "Distance (μm)"
         }
        },
        "yaxis": {
         "gridcolor": "lightgrey",
         "linecolor": "black",
         "mirror": true,
         "showline": true,
         "ticks": "outside",
         "title": {
          "text": "Gray Value"
         }
        }
       }
      },
      "text/html": [
       "<div>                            <div id=\"3f53d819-e4ba-4a94-b88a-0fbdee29912d\" class=\"plotly-graph-div\" style=\"height:525px; width:100%;\"></div>            <script type=\"text/javascript\">                require([\"plotly\"], function(Plotly) {                    window.PLOTLYENV=window.PLOTLYENV || {};                                    if (document.getElementById(\"3f53d819-e4ba-4a94-b88a-0fbdee29912d\")) {                    Plotly.newPlot(                        \"3f53d819-e4ba-4a94-b88a-0fbdee29912d\",                        [{\"hoverinfo\":\"skip\",\"line\":{\"color\":\"plum\"},\"mode\":\"lines\",\"showlegend\":false,\"x\":[0.03284,0.03648,0.04013,0.04378,0.04743,0.05108,0.05473,0.05838,0.06202,0.06567,0.06932,0.07297,0.07662,0.08027,0.08391,0.08756,0.09121,0.09486,0.09851,0.10216,0.10581,0.10945,0.1131,0.11675,0.1204,0.12405,0.1277,0.13134,0.13499,0.13864,0.14229,0.14594,0.14959,0.15324,0.15688,0.16053,0.16418,0.16783,0.17148,0.17513,0.17878,0.18242,0.18607,0.18972,0.19337,0.19702,0.20067,0.20431,0.20796,0.21161,0.21526,0.21891,0.22256,0.22621,0.22985,0.2335,0.23715,0.2408,0.24445,0.2481,0.25174,0.25539,0.25904,0.26269,0.26634,0.26999,0.27364,0.27728,0.28093,0.28458,0.28823,0.29188,0.29553,0.29917,0.30282,0.30647,0.31012,0.31377,0.31742,0.32107,0.32471,0.32836,0.33201,0.33566,0.33931,0.34296,0.3466,0.35025,0.3539,0.35755,0.3612,0.36485,0.3685,0.37214,0.37579,0.37944,0.38309,0.38674,0.39039,0.39403,0.39768,0.40133,0.40498,0.40863,0.41228,0.41593,0.41957,0.42322,0.42687,0.43052,0.43417,0.43782,0.44147,0.44511,0.44876,0.45241,0.45606,0.45971,0.46336,0.467,0.47065,0.4743,0.47795,0.4816,0.48525,0.4889,0.49254,0.49619,0.49984,0.50349,0.50714,0.51079,0.51443,0.51808,0.52173,0.52538,0.52903,0.53268,0.53633,0.53997,0.54362,0.54727,0.55092,0.55457,0.55822,0.56186,0.56551,0.56916,0.57281,0.57646,0.58011,0.58376,0.5874,0.59105,0.5947,0.59835,0.602,0.60565,0.60929,0.61294,0.61659,0.62024,0.62389,0.62754,0.63119,0.63483,0.63848,0.64213,0.64578,0.64943,0.65308,0.65672,0.66037,0.66402,0.66767,0.67132,0.67497,0.67862,0.68226,0.68591,0.68956,0.69321,0.69686,0.70051,0.70415,0.7078,0.71145,0.7151,0.71875,0.7224,0.72605,0.72969,0.73334,0.73699,0.74064,0.74429,0.74794,0.75159,0.75523,0.75888,0.76253,0.76618,0.76983,0.77348,0.77712,0.78077,0.78442,0.78807,0.79172,0.79537,0.79902,0.80266,0.80631,0.80996,0.81361,0.81726,0.82091,0.82455,0.8282,0.83185,0.8355,0.83915,0.8428,0.84645,0.85009,0.85374,0.85739,0.86104,0.86469,0.86834,0.87198,0.87563,0.87928,0.88293,0.88658,0.89023,0.89388,0.89752,0.90117,0.90482,0.90847,0.91212,0.91577,0.91941,0.92306,0.92671,0.93036,0.93401,0.93766,0.94131,0.94495,0.9486,0.95225,0.9559,0.95955,0.9632,0.96684,0.97049,0.97414,0.97779,0.98144,0.98509,0.98874,0.99238,0.99603,0.99968,1.00333,1.00698,1.01063,1.01428,1.01792,1.02157,1.02522,1.02887,1.03252,1.03617,1.03981,1.04346,1.04711,1.05076,1.05441,1.05806,1.06171,1.06535,1.069,1.07265,1.0763,1.07995,1.0836,1.08724,1.09089,1.09454,1.09819,1.10184,1.10549,1.10914,1.11278,1.11643,1.12008,1.12373,1.12738,1.13103,1.13467,1.13832,1.14197,1.14562,1.14927,1.15292,1.15657,1.16021,1.16386,1.16751,1.17116,1.17481,1.17846,1.1821,1.18575,1.1894,1.19305,1.1967,1.20035,1.204,1.20764,1.21129,1.21494,1.21859,1.22224,1.22589,1.22953,1.23318,1.23683,1.24048,1.24413,1.24778,1.25143,1.25507,1.25872,1.26237,1.26602,1.26967,1.27332,1.27696,1.28061,1.28426,1.28791,1.29156,1.29521,1.29886,1.3025,1.30615,1.3098,1.31345,1.3171,1.32075,1.3244,1.32804,1.33169,1.33534,1.33899,1.34264,1.34629,1.34993,1.35358,1.35723,1.36088,1.36453,1.36818,1.37183,1.37547,1.37912,1.38277,1.38642,1.39007,1.39372,1.39736,1.40101,1.40466,1.40831,1.41196,1.41561,1.41926,1.4229,1.42655,1.4302,1.43385,1.4375,1.44115,1.44479,1.44844,1.45209,1.45574,1.45939,1.46304,1.46669,1.47033,1.47398,1.47763,1.48128,1.48493,1.48858,1.49222,1.49587,1.49952,1.50317,1.50682,1.51047,1.51412,1.51776,1.52141,1.52506,1.52871,1.53236,1.53601,1.53965,1.5433,1.54695,1.5506,1.55425,1.5579,1.56155,1.56519,1.56884,1.57249,1.57614,1.57979,1.58344,1.58709,1.59073,1.59438,1.59803,1.60168,1.60533,1.60898,1.61262,1.61627,1.61992,1.62357,1.62722,1.63087,1.63452,1.63816,1.64181,1.64546,1.64911,1.65276,1.65641,1.66005,1.6637,1.66735,1.671,1.67465,1.6783,1.68195,1.68559,1.68924,1.69289,1.69654,1.70019,1.70384,1.70748,1.71113,1.71478,1.71843,1.72208,1.72573,1.72938,1.73302,1.73667,1.74032,1.74397,1.74762,1.75127,1.75491,1.75856,1.76221,1.76586,1.76951,1.77316,1.77681,1.78045,1.7841,1.78775,1.7914,1.79505,1.7987,1.80234,1.80599,1.80964,1.81329,1.81694,1.82059,1.82424,1.82788,1.83153,1.83518,1.83883,1.84248,1.84613,1.84977,1.85342,1.85707,1.86072,1.86437,1.86802,1.87167,1.87531,1.87896,1.88261,1.88626,1.88991,1.89356,1.89721,1.90085,1.9045,1.90815,1.9118,1.91545,1.9191,1.92274,1.92639,1.93004,1.93369,1.93734,1.94099,1.94464,1.94828,1.95193,1.95558,1.95923,1.96288,1.96653,1.97017,1.97382,1.97747,1.98112,1.98477,1.98842,1.99207,1.99571,1.99936,2.00301,2.00666,2.01031,2.01396,2.0176,2.02125,2.0249,2.02855,2.0322,2.03585,2.0395,2.04314,2.04679,2.05044,2.05409,2.05774,2.06139,2.06503,2.06868,2.07233,2.07598,2.07963,2.08328,2.08693,2.09057,2.09422,2.09787,2.10152,2.10517,2.10882,2.11246,2.11611,2.11976,2.12341,2.12706,2.13071,2.13436,2.138,2.14165,2.1453,2.14895,2.1526,2.15625,2.15989,2.16354,2.16719,2.17084,2.17449,2.17814,2.18179,2.18543,2.18908,2.19273,2.19638,2.20003,2.20368,2.20733,2.21097,2.21462,2.21827,2.22192,2.22557,2.22922,2.23286,2.23651,2.24016,2.24381,2.24746,2.25111,2.25476,2.2584,2.26205,2.2657,2.26935,2.273,2.27665,2.28029,2.28394,2.28759,2.29124,2.29489,2.29854,2.30219,2.30583,2.30948,2.31313,2.31678,2.32043,2.32408,2.32772,2.33137,2.33502,2.33867,2.34232,2.34597,2.34962,2.35326,2.35691,2.36056,2.36421,2.36786,2.37151,2.37515,2.3788,2.38245,2.3861,2.38975,2.3934,2.39705,2.40069,2.40434,2.40799,2.41164,2.41529,2.41894,2.42259,2.42623,2.42988,2.43353,2.43718,2.44083,2.44448,2.44812,2.45177,2.45542,2.45907],\"y\":[122.873,178.001,435.579,401.068,378.222,217.204,188.27,215.561,34.076,702.121,79.935,0.0,0.0,40.434,27.656,114.368,86.564,125.918,127.343,286.0,286.0,286.0,175.674,15.276,0.0,56.16,107.836,64.989,79.004,179.668,286.0,157.675,268.369,225.857,151.591,92.504,106.227,52.914,93.547,68.699,137.484,495.931,425.102,14.427,251.205,204.528,149.748,108.287,0.0,0.0,0.0,67.455,30.217,220.653,190.95,30.552,0.0,0.0,0.0,0.0,24.856,202.093,377.602,181.741,0.0,211.462,0.0,0.0,187.789,195.611,118.445,57.357,154.072,0.383,89.606,0.0,0.0,43.7,57.82,0.0,0.0,0.0,6.739,0.0,0.267,168.811,234.158,45.828,0.0,38.19,274.967,498.736,211.454,101.235,48.742,103.371,48.024,96.967,117.755,0.0,77.748,457.392,51.992,0.0,0.0,0.0,171.695,275.816,39.039,70.535,203.521,139.313,152.25,331.423,239.352,146.907,271.545,65.735,64.499,224.896,57.709,0.0,142.18,6.094,18.542,232.997,82.32,0.0,100.485,158.109,274.252,138.332,27.979,182.463,251.243,224.047,96.226,61.776,37.898,0.4,44.423,88.284,482.535,261.509,18.333,248.084,200.083,205.553,553.162,76.681,49.223,280.457,370.312,468.211,143.072,506.745,307.589,135.149,426.254,324.391,247.877,188.404,28.006,396.083,295.022,112.467,36.649,405.314,342.351,67.251,221.769,846.423,567.039,466.344,574.615,749.288,428.093,391.501,129.687,770.179,978.499,1058.994,1280.267,1203.314,481.554,656.498,790.275,1267.881,825.847,800.564,554.119,333.691,727.701,754.888,288.707,298.903,492.095,420.558,371.803,585.107,279.327,230.688,190.101,176.576,253.087,295.355,452.561,1005.771,1039.411,1208.43,798.916,647.747,20.98,819.572,466.604,554.337,622.671,37.221,190.267,65.806,203.38,117.755,665.388,791.369,498.223,861.374,364.375,388.499,116.655,291.289,525.084,361.037,655.005,741.664,919.147,139.82,678.188,379.804,356.941,635.084,444.661,235.845,401.777,310.526,424.738,505.211,544.044,467.398,393.625,632.428,483.882,273.29,488.036,808.049,189.336,190.913,243.451,257.006,488.8,528.01,506.359,255.647,384.799,440.658,251.658,14.949,0.0,112.537,312.225,528.715,156.164,7.562,135.623,112.681,105.489,34.795,271.573,38.341,180.345,142.263,348.956,187.421,0.0,50.567,39.527,101.311,151.526,268.274,14.339,25.989,196.89,225.98,0.0,8.557,33.305,194.344,156.181,175.674,274.568,150.652,234.231,100.991,0.0,84.766,131.543,0.0,0.0,0.0,99.06,163.493,236.155,21.217,209.804,147.086,260.943,237.85,10.101,425.226,97.225,0.0,0.0,0.0,5.928,253.924,89.11,46.886,176.714,0.0,1.269e-19,132.792,86.468,189.152,320.168,197.913,5.928,210.57,55.329,135.143,332.113,129.921,40.982,19.743,25.057,68.608,68.558,123.356,2.659,71.862,34.561,136.577,76.078,14.287,363.427,169.828,62.849,180.23,270.638,208.595,8.172,116.768,7.751,242.72,79.213,207.492,240.625,150.292,178.531,366.507,61.877,808.299,344.376,127.875,122.208,268.674,62.521,317.925,240.498,77.921,170.624,249.229,685.696,210.755,397.429,193.95,273.485,293.589,288.995,732.159,351.603,142.576,188.733,593.297,42.403,232.534,286.338,373.763,966.954,627.426,643.574,665.156,548.882,153.529,256.473,733.869,189.907,553.836,573.0,750.483,400.837,420.866,324.023,488.433,558.601,571.614,452.853,1777.21,1745.255,753.786,498.895,963.347,823.487,573.0,573.0,1073.222,1063.404,184.527,133.989,987.754,928.981,753.355,653.945,838.061,352.728,1497.751,1169.768,939.653,1430.407,993.439,299.937,965.068,1000.415,899.205,396.283,913.205,319.512,945.666,889.499,1082.608,1221.25,945.365,605.651,1654.42,821.316,861.539,508.203,717.933,1247.993,1056.467,1233.598,926.49,1262.955,721.991,842.116,952.69,1299.233,1430.515,793.393,631.45,578.592,297.827,812.936,1127.849,1045.087,771.611,1238.561,1014.732,423.609,817.642,744.928,868.499,531.235,557.799,499.887,552.003,529.567,320.315,636.872,579.071,347.436,345.729,109.614,429.534,81.846,467.531,473.698,617.075,406.776,682.571,522.521,556.988,265.132,7.672,808.221,402.347,202.548,70.837,17.966,89.001,294.236,269.384,185.914,272.272,419.526,0.0,88.891,455.367,159.458,0.4,111.732,0.0,0.0,59.667,280.625,423.631,32.402,14.022,0.982,129.974,155.581,331.751,155.933,15.125,267.458,279.906,60.877,106.932,265.964,228.529,445.067,185.533,124.726,0.0,99.422,241.217,235.929,230.044,109.735,0.0,24.095,15.55,0.0,0.0,0.0,0.0,7.492,82.237,88.133,168.036,167.187,38.409,283.703,112.789,177.484,58.558,0.0,0.0,0.0,9.559,290.881,253.817,278.688,352.567,242.456,313.315,13.641,0.0,99.79,86.307,1.587,0.0,120.656,17.051,44.725,0.0,0.0,0.0,0.0,90.389,170.553,345.756,491.154,75.888,0.0,0.0,51.769,202.093,24.856,27.454,56.898,1.524,29.192,311.961,75.115,21.524,0.0,135.146,0.0,134.938,56.094,0.0,0.0,0.0,0.0,0.0,0.0,0.0,168.642,68.699,93.547,0.0,213.015,82.681,101.311,195.088,1.697,162.095,118.85,448.305,316.948,10.637,0.0,0.0,0.0,0.0,0.0,38.505,74.859,69.505,86.607,56.813,285.466,265.833,11.881,374.235,357.616,161.012,136.91,0.0,370.931,208.035,68.608,0.0,0.0,18.671,255.448,210.363,253.629,91.49,38.148,181.614,245.639,21.683,238.639,538.083,293.654,2.679e-08],\"type\":\"scatter\"},{\"marker\":{\"color\":\"purple\"},\"mode\":\"lines\",\"showlegend\":false,\"x\":[0.03284,0.03648,0.04013,0.04378,0.04743,0.05108,0.05473,0.05838,0.06202,0.06567,0.06932,0.07297,0.07662,0.08027,0.08391,0.08756,0.09121,0.09486,0.09851,0.10216,0.10581,0.10945,0.1131,0.11675,0.1204,0.12405,0.1277,0.13134,0.13499,0.13864,0.14229,0.14594,0.14959,0.15324,0.15688,0.16053,0.16418,0.16783,0.17148,0.17513,0.17878,0.18242,0.18607,0.18972,0.19337,0.19702,0.20067,0.20431,0.20796,0.21161,0.21526,0.21891,0.22256,0.22621,0.22985,0.2335,0.23715,0.2408,0.24445,0.2481,0.25174,0.25539,0.25904,0.26269,0.26634,0.26999,0.27364,0.27728,0.28093,0.28458,0.28823,0.29188,0.29553,0.29917,0.30282,0.30647,0.31012,0.31377,0.31742,0.32107,0.32471,0.32836,0.33201,0.33566,0.33931,0.34296,0.3466,0.35025,0.3539,0.35755,0.3612,0.36485,0.3685,0.37214,0.37579,0.37944,0.38309,0.38674,0.39039,0.39403,0.39768,0.40133,0.40498,0.40863,0.41228,0.41593,0.41957,0.42322,0.42687,0.43052,0.43417,0.43782,0.44147,0.44511,0.44876,0.45241,0.45606,0.45971,0.46336,0.467,0.47065,0.4743,0.47795,0.4816,0.48525,0.4889,0.49254,0.49619,0.49984,0.50349,0.50714,0.51079,0.51443,0.51808,0.52173,0.52538,0.52903,0.53268,0.53633,0.53997,0.54362,0.54727,0.55092,0.55457,0.55822,0.56186,0.56551,0.56916,0.57281,0.57646,0.58011,0.58376,0.5874,0.59105,0.5947,0.59835,0.602,0.60565,0.60929,0.61294,0.61659,0.62024,0.62389,0.62754,0.63119,0.63483,0.63848,0.64213,0.64578,0.64943,0.65308,0.65672,0.66037,0.66402,0.66767,0.67132,0.67497,0.67862,0.68226,0.68591,0.68956,0.69321,0.69686,0.70051,0.70415,0.7078,0.71145,0.7151,0.71875,0.7224,0.72605,0.72969,0.73334,0.73699,0.74064,0.74429,0.74794,0.75159,0.75523,0.75888,0.76253,0.76618,0.76983,0.77348,0.77712,0.78077,0.78442,0.78807,0.79172,0.79537,0.79902,0.80266,0.80631,0.80996,0.81361,0.81726,0.82091,0.82455,0.8282,0.83185,0.8355,0.83915,0.8428,0.84645,0.85009,0.85374,0.85739,0.86104,0.86469,0.86834,0.87198,0.87563,0.87928,0.88293,0.88658,0.89023,0.89388,0.89752,0.90117,0.90482,0.90847,0.91212,0.91577,0.91941,0.92306,0.92671,0.93036,0.93401,0.93766,0.94131,0.94495,0.9486,0.95225,0.9559,0.95955,0.9632,0.96684,0.97049,0.97414,0.97779,0.98144,0.98509,0.98874,0.99238,0.99603,0.99968,1.00333,1.00698,1.01063,1.01428,1.01792,1.02157,1.02522,1.02887,1.03252,1.03617,1.03981,1.04346,1.04711,1.05076,1.05441,1.05806,1.06171,1.06535,1.069,1.07265,1.0763,1.07995,1.0836,1.08724,1.09089,1.09454,1.09819,1.10184,1.10549,1.10914,1.11278,1.11643,1.12008,1.12373,1.12738,1.13103,1.13467,1.13832,1.14197,1.14562,1.14927,1.15292,1.15657,1.16021,1.16386,1.16751,1.17116,1.17481,1.17846,1.1821,1.18575,1.1894,1.19305,1.1967,1.20035,1.204,1.20764,1.21129,1.21494,1.21859,1.22224,1.22589,1.22953,1.23318,1.23683,1.24048,1.24413,1.24778,1.25143,1.25507,1.25872,1.26237,1.26602,1.26967],\"y\":[116.2937748242473,116.29378914961336,116.29380577507793,116.29382500605436,116.29384723375287,116.29387290536651,116.29390253165438,116.29393669548809,116.29397594584978,116.29402125370179,116.2940733802471,116.294133305413,116.29420214278151,116.2942811567486,116.29437151615129,116.29447533939874,116.29459423565184,116.29473028792981,116.29488585132961,116.2950635862894,116.29526649560485,116.29549728903304,116.2957610408429,116.29606145177823,116.2964033518212,116.29679216909925,116.29723399868054,116.29773421558679,116.29830321442303,116.29894828779949,116.29967903821358,116.30050620116167,116.30144176830231,116.3024991226732,116.30368971410185,116.30503666869208,116.3065554092954,116.3082665088167,116.31019282586887,116.31235973607612,116.31479538404409,116.31752302247496,116.32059208361018,116.32403368264438,116.32789001685362,116.33220767757615,116.33703806097218,116.34242218477804,116.34845185361088,116.35518168058296,116.36268706065351,116.3710507828797,116.38036367117057,116.39072527124277,116.40221133878542,116.41500394391728,116.42920346775881,116.44495218509294,116.46240529997907,116.48173195905787,116.50305475056498,116.52669067589339,116.55280170154947,116.5816241042365,116.61341414289843,116.64844947554106,116.68703064898145,116.72936075454183,116.77602262706401,116.82728424701341,116.88355401858044,116.94527179726217,117.0129108270466,117.08676754989288,117.16779259382366,117.256377740808,117.35315046476131,117.45878235160885,117.57399143228497,117.69954456772888,117.8358692882668,117.9845844186492,118.14625904281706,118.32187983918593,118.51249477373679,118.71921564002432,118.94258214783845,119.18506566338058,119.4473949318049,119.73096187333869,120.03723452342403,120.3677593066691,120.72416320945716,121.10706449601973,121.52035693395426,121.9649073464257,122.44268373124964,122.9557432811376,123.50623351141289,124.09471996494395,124.72676113535472,125.40321799246459,126.12660486780392,126.89952770331367,127.72468325481483,128.6048578811651,129.54027408110278,130.53902477530355,131.60166390364935,132.73131469239138,133.93117678397516,135.20452199298037,136.55468947213734,137.98104866283583,139.49488561126427,141.09589904121688,142.7876365323153,144.5736793513804,146.45763371840485,148.43753968742465,150.5278947576607,152.72702217406896,155.03852690761622,157.46598492176227,160.0129303425262,162.68284198057623,165.47129247738283,168.39692079779365,171.4554671735217,174.65004260550035,177.9836266355449,181.45905060215767,185.06886317152282,188.83537625414664,192.75115507886915,196.81826432266553,201.03853205930943,205.41353158577516,209.94456326302725,214.61957717314556,219.4649595390902,224.46845737404882,229.63010197379214,234.94956423027662,240.42613844294027,246.0430831919405,251.8297601429261,257.76902702627865,263.858526019002,270.0954538897761,276.4765513636411,282.998093767564,289.63746055125233,296.42646515905113,303.341890777596,310.37808786923733,317.5289171994947,324.7877500561775,332.12717569500546,339.5799391350061,347.11793638296945,354.7326224156032,362.4149928289173,370.15559595863715,377.94454708837804,385.750058586668,393.6043429778671,401.47492713209647,409.35037876594504,417.21893453710913,425.06852643807355,432.86544427308996,440.6399665266036,448.3578197293297,456.00601773447016,463.57142790183326,471.04080730572224,478.4008401780837,485.618527887483,492.7202135648763,499.672594613997,506.46245760153494,513.0767166294721,519.5024549304495,525.7101993794024,531.7216329301139,537.5072592251485,543.0552518989487,548.3541591054952,553.3929427981257,558.1610169608139,562.6363831649537,566.8340800522307,570.7324081800634,574.3229429609636,577.5978808862669,580.5500677764754,583.1730248167803,585.4551663244813,587.4039825911092,589.0084199932012,590.2649107499658,591.1706551421923,591.7236319068822,591.9225448113104,591.768041994804,591.259437010905,590.3978661348965,589.1852523519125,587.6242982053672,585.7184757609107,583.478629426299,580.8974097569587,577.9861961251038,574.7513808724908,571.2000348095647,567.3398814674606,563.1910705136934,558.7397280367351,554.006348316963,549.0009644305571,543.7341030287664,538.2167475077254,532.4602999218898,526.4932352623708,520.294860387409,513.8936813470617,507.30237470248045,500.53383305338303,493.6011233597216,486.53704682900843,479.3160505172718,471.97068186209816,464.5142924718641,456.96020455502133,449.3216722565934,441.6118440698342,433.8650768963236,426.051606510785,418.20526072775925,410.3384165567865,402.4631782792229,394.59134895676243,386.75589914359074,378.9248746947417,371.1305755260677,363.3833541498566,355.69314851759214,348.0694654593027,340.5213662129773,333.077780601624,325.7059268736275,318.4340333364772,311.26927701565785,304.21834793912154,297.287446815005,290.50075222808215,283.8261859221409,277.2873059204013,270.8883701645426,264.63316232243625,258.5249995853357,252.56674185467782,246.7764989262729,241.1244303037379,235.62820962514422,230.28898496668887,225.10751039782087,220.08416140915745,215.2189510227486,210.52422843090605,205.9735390361401,201.57902479311213,197.3394208695968,193.2531872237608,189.31852675571963,185.5435714049133,181.9053283495745,178.41191323133555,175.0606820308916,171.84882321036605,168.77337489835406,165.83124168660996,163.02674043896334,160.34115559436515,157.77896891277686,155.33670950836827,153.01084944390095,150.7978172885288,148.6996289583535,146.70114387670105,144.80464718072457,143.00651587038007,141.30314124549946,139.69093841456367,138.16635511480973,136.72971461794828,135.3696678572337,134.0868668818625,132.87796446063726,131.7396800511897,130.66880470948706,129.66487820054087,128.7193379326826,127.83205785265208,127.00015275359584,126.22082513979038,125.49136693599378,124.80916075218693,124.17336838495072,123.57806802835076,123.02272446730264,122.50508750026471,122.02299821034306,121.5743881272253,121.15837960453378,120.77079997525925,120.41102953242365,120.07734817056156,119.76811864609479,119.48178454175415,119.21686810801904,118.97261283927705,118.7463523171332,118.53752853536942,118.34495483691232,118.16751123952608,118.00414190690003,117.85424735549898,117.7160708825841,117.58916299448646,117.47269896288614,117.36590562844012,117.26805896448086,117.178481685902,117.09675551890241,117.0218419463425,116.95342469909568,116.89099054726454,116.83406191653422],\"type\":\"scatter\"},{\"marker\":{\"color\":\"purple\"},\"mode\":\"lines\",\"showlegend\":false,\"x\":[1.27332,1.27696,1.28061,1.28426,1.28791,1.29156,1.29521,1.29886,1.3025,1.30615,1.3098,1.31345,1.3171,1.32075,1.3244,1.32804,1.33169,1.33534,1.33899,1.34264,1.34629,1.34993,1.35358,1.35723,1.36088,1.36453,1.36818,1.37183,1.37547,1.37912,1.38277,1.38642,1.39007,1.39372,1.39736,1.40101,1.40466,1.40831,1.41196,1.41561,1.41926,1.4229,1.42655,1.4302,1.43385,1.4375,1.44115,1.44479,1.44844,1.45209,1.45574,1.45939,1.46304,1.46669,1.47033,1.47398,1.47763,1.48128,1.48493,1.48858,1.49222,1.49587,1.49952,1.50317,1.50682,1.51047,1.51412,1.51776,1.52141,1.52506,1.52871,1.53236,1.53601,1.53965,1.5433,1.54695,1.5506,1.55425,1.5579,1.56155,1.56519,1.56884,1.57249,1.57614,1.57979,1.58344,1.58709,1.59073,1.59438,1.59803,1.60168,1.60533,1.60898,1.61262,1.61627,1.61992,1.62357,1.62722,1.63087,1.63452,1.63816,1.64181,1.64546,1.64911,1.65276,1.65641,1.66005,1.6637,1.66735,1.671,1.67465,1.6783,1.68195,1.68559,1.68924,1.69289,1.69654,1.70019,1.70384,1.70748,1.71113,1.71478,1.71843,1.72208,1.72573,1.72938,1.73302,1.73667,1.74032,1.74397,1.74762,1.75127,1.75491,1.75856,1.76221,1.76586,1.76951,1.77316,1.77681,1.78045,1.7841,1.78775,1.7914,1.79505,1.7987,1.80234,1.80599,1.80964,1.81329,1.81694,1.82059,1.82424,1.82788,1.83153,1.83518,1.83883,1.84248,1.84613,1.84977,1.85342,1.85707,1.86072,1.86437,1.86802,1.87167,1.87531,1.87896,1.88261,1.88626,1.88991,1.89356,1.89721,1.90085,1.9045,1.90815,1.9118,1.91545,1.9191,1.92274,1.92639,1.93004,1.93369,1.93734,1.94099,1.94464,1.94828,1.95193,1.95558,1.95923,1.96288,1.96653,1.97017,1.97382,1.97747,1.98112,1.98477,1.98842,1.99207,1.99571,1.99936,2.00301,2.00666,2.01031,2.01396,2.0176,2.02125,2.0249,2.02855,2.0322,2.03585,2.0395,2.04314,2.04679,2.05044,2.05409,2.05774,2.06139,2.06503,2.06868,2.07233,2.07598,2.07963,2.08328,2.08693,2.09057,2.09422,2.09787,2.10152,2.10517,2.10882,2.11246,2.11611,2.11976,2.12341,2.12706,2.13071,2.13436,2.138,2.14165,2.1453,2.14895,2.1526,2.15625,2.15989,2.16354,2.16719,2.17084,2.17449,2.17814,2.18179,2.18543,2.18908,2.19273,2.19638,2.20003,2.20368,2.20733,2.21097,2.21462,2.21827,2.22192,2.22557,2.22922,2.23286,2.23651,2.24016,2.24381,2.24746,2.25111,2.25476,2.2584,2.26205,2.2657,2.26935,2.273,2.27665,2.28029,2.28394,2.28759,2.29124,2.29489,2.29854,2.30219,2.30583,2.30948,2.31313,2.31678,2.32043,2.32408,2.32772,2.33137,2.33502,2.33867,2.34232,2.34597,2.34962,2.35326,2.35691,2.36056,2.36421,2.36786,2.37151,2.37515,2.3788,2.38245,2.3861,2.38975,2.3934,2.39705,2.40069,2.40434,2.40799,2.41164,2.41529,2.41894,2.42259,2.42623,2.42988,2.43353,2.43718,2.44083,2.44448,2.44812,2.45177,2.45542,2.45907],\"y\":[114.46350840034897,115.3089642403935,116.22256917735828,117.20632573530256,118.26466495600947,119.40221204098738,120.62378745302904,121.93440729013537,123.33530025808203,124.83955623394338,126.44905462779204,128.16958050972002,130.00710330444085,131.9677714519402,134.05790589325022,136.27770172299154,138.64598166760106,141.1636229485341,143.83754548377743,146.67478954134583,149.68250103202948,152.85893872697056,156.22884579486842,159.79110163716507,163.5530968226692,167.52223082308527,171.70588790424566,176.1114114397895,180.73305936870395,185.60338748230356,190.71706771032885,196.08099291569354,201.70186421353424,207.58615666904137,213.72284992982966,220.15156444898815,226.86139403225525,233.8575454899588,241.14481263944305,248.72753669328756,256.6095662724713,264.7713774764186,273.2605528622739,282.05721744567234,291.1628504116932,300.57823950422403,310.3034428885241,320.30983974711285,330.6509040041009,341.2972234049306,352.2455840020082,363.491872651698,375.03104897823704,386.8571198813252,398.92957431820236,411.3068003569493,423.94703958103776,436.840295107574,449.97553628915847,463.34069330725026,476.88516142460617,490.66924653327715,504.6408538550171,518.7837892681339,533.0808564219055,547.513877828925,562.0637207256636,576.6700867108035,591.392333015462,606.1686624196651,620.9764779030301,635.792428212579,650.592462148744,665.3115288548869,680.0052901113812,694.6074615717805,709.0918225880372,723.4317868535707,737.600480379231,751.5708225272898,765.278285738542,778.7710076218757,791.9838198915128,804.8896744646205,817.4617552598469,829.673570011556,841.4990424505941,852.8819199475957,863.8598333580753,874.3766550501899,884.4088839465911,893.9338853922783,902.9299760590335,911.354133671234,919.2331502254916,926.5247671010517,933.2118894615191,939.2787477575242,944.710959670778,949.4955869130877,953.6107932206198,957.0693081147224,959.8505926875538,961.9479350315271,963.356264086375,964.07217006872,964.0948073714255,963.424245480669,962.0610958294153,960.0086590472149,957.271898144674,953.8574185170625,949.7734413805314,945.0436583874425,939.6534014378337,933.6276075960387,926.9805664579719,919.7279587244543,911.8867945833769,903.4991539530586,894.5383702814873,885.0472934504968,875.0475417055529,864.5616900767939,853.6131856437701,842.2262604213465,830.4587140109542,818.2713638512324,805.7220292669289,792.837178146517,779.643608213847,766.1683551765715,752.4765403124729,738.5201113524672,724.3635554827199,710.0339639608218,695.5582267920215,680.9629515063714,666.2743849734128,651.5588351261354,636.7606949364944,621.9450430948505,607.1359745601769,592.3568880501628,577.6304314600754,563.018473220979,548.4616820229364,534.0204289998048,519.713908348311,505.56036084671126,491.5770476809419,477.7802290422038,464.2221054767123,450.84236353630314,437.69171215502223,424.78228917649017,412.1251930593539,399.7304880236973,387.64004920985565,375.7954552452851,364.2373303354835,352.9717306850563,342.00375820197087,331.3375858152116,320.9764853520404,310.9499802657434,301.2045396844566,291.7688908958617,282.6430247326631,273.826199990758,265.3169815034138,257.11327907512145,249.23362251423322,241.6314441019295,234.32498967185643,227.30994898872405,220.581556608025,214.13463151754405,207.98015150598644,202.07841912587975,196.4405224786328,191.06000250004342,185.93017179113193,181.04414900086346,176.39489193560738,171.98703092249374,167.78909361070296,163.80616097133128,160.0308506100555,156.45576329550832,153.07350717164627,149.88523199311766,146.86612553075116,144.01795694625164,141.33357397109373,138.80592896551565,136.42809372408374,134.19327279478426,132.10038420786333,130.13144745195552,128.28606407245002,126.55807414043684,124.94149635297973,123.43053344739818,122.023310485877,120.7066902271325,119.47944911578966,118.33655827026823,117.27318444177872,116.28468969017585,115.36663032803881,114.51700242168278,113.72708573073832,112.99542901552594,112.31834207213242,111.69231484777147,111.11401325685594,110.58167884930056,110.08939735205344,109.63585609244562,109.21837671886625,108.83443193482901,108.48164001611104,108.15775925054277,107.86146145343719,107.58914444114116,107.33980234114937,107.11169711084258,106.90320282203196,106.71280022978078,106.53952585277868,106.38110875575839,106.23681620852442,106.1055033214863,105.98610648238665,105.87763870049972,105.77918511226889,105.6901314768257,105.60920676928001,105.53594390276953,105.46967480100841,105.40978359817538,105.35570317032266,105.30703873184389,105.26304456793873,105.22342126810973,105.18776526173774,105.15570688244344,105.12690787320284,105.10105903913077,105.07793814743046,105.0571611684266,105.03856039973839,105.0219221370769,105.00705203569021,104.99377353550403,104.98192639538593,104.97139263107793,104.96198305558765,104.95360920309085,104.94616340937907,104.93954844742245,104.93367660224754,104.92848224536206,104.92386580742387,104.91977838702064,104.91616242876076,104.91296626136898,104.91014354109711,104.90765274261304,104.9054623388805,104.90352712247768,104.90182378866263,104.90032581832536,104.89900956324342,104.89785395536076,104.89684284215663,104.89595402949514,104.89517566411757,104.89449459516557,104.89389916186431,104.89337903439656,104.89292507056392,104.89253019877839,104.89218512370024,104.89188470193069,104.89162337472327,104.89139624528413,104.89119900394125,104.89102829761237,104.89087986644313,104.89075129081493,104.89064000790073,104.89054377252403,104.89046061959137,104.8903888307272,104.89032706209088,104.8902736666677,104.89022768387078,104.89018811770796,104.89015410119406,104.89012488032589,104.8900998635456,104.8900783458468,104.89005990787477,104.89004412200984,104.89003061803479,104.89001907571784,104.89000921831297,104.89000082813351,104.88999365337739,104.88998754124069,104.8899823386744,104.88997791400391,104.88997415404505,104.88997096159439,104.8899682600735,104.88996596328627,104.88996401801462,104.889962371828,104.88996097989833,104.88995980393167,104.88995881374036,104.88995797607149,104.88995727012771,104.88995667568817],\"type\":\"scatter\"}],                        {\"template\":{\"data\":{\"histogram2dcontour\":[{\"type\":\"histogram2dcontour\",\"colorbar\":{\"outlinewidth\":0,\"ticks\":\"\"},\"colorscale\":[[0.0,\"#0d0887\"],[0.1111111111111111,\"#46039f\"],[0.2222222222222222,\"#7201a8\"],[0.3333333333333333,\"#9c179e\"],[0.4444444444444444,\"#bd3786\"],[0.5555555555555556,\"#d8576b\"],[0.6666666666666666,\"#ed7953\"],[0.7777777777777778,\"#fb9f3a\"],[0.8888888888888888,\"#fdca26\"],[1.0,\"#f0f921\"]]}],\"choropleth\":[{\"type\":\"choropleth\",\"colorbar\":{\"outlinewidth\":0,\"ticks\":\"\"}}],\"histogram2d\":[{\"type\":\"histogram2d\",\"colorbar\":{\"outlinewidth\":0,\"ticks\":\"\"},\"colorscale\":[[0.0,\"#0d0887\"],[0.1111111111111111,\"#46039f\"],[0.2222222222222222,\"#7201a8\"],[0.3333333333333333,\"#9c179e\"],[0.4444444444444444,\"#bd3786\"],[0.5555555555555556,\"#d8576b\"],[0.6666666666666666,\"#ed7953\"],[0.7777777777777778,\"#fb9f3a\"],[0.8888888888888888,\"#fdca26\"],[1.0,\"#f0f921\"]]}],\"heatmap\":[{\"type\":\"heatmap\",\"colorbar\":{\"outlinewidth\":0,\"ticks\":\"\"},\"colorscale\":[[0.0,\"#0d0887\"],[0.1111111111111111,\"#46039f\"],[0.2222222222222222,\"#7201a8\"],[0.3333333333333333,\"#9c179e\"],[0.4444444444444444,\"#bd3786\"],[0.5555555555555556,\"#d8576b\"],[0.6666666666666666,\"#ed7953\"],[0.7777777777777778,\"#fb9f3a\"],[0.8888888888888888,\"#fdca26\"],[1.0,\"#f0f921\"]]}],\"heatmapgl\":[{\"type\":\"heatmapgl\",\"colorbar\":{\"outlinewidth\":0,\"ticks\":\"\"},\"colorscale\":[[0.0,\"#0d0887\"],[0.1111111111111111,\"#46039f\"],[0.2222222222222222,\"#7201a8\"],[0.3333333333333333,\"#9c179e\"],[0.4444444444444444,\"#bd3786\"],[0.5555555555555556,\"#d8576b\"],[0.6666666666666666,\"#ed7953\"],[0.7777777777777778,\"#fb9f3a\"],[0.8888888888888888,\"#fdca26\"],[1.0,\"#f0f921\"]]}],\"contourcarpet\":[{\"type\":\"contourcarpet\",\"colorbar\":{\"outlinewidth\":0,\"ticks\":\"\"}}],\"contour\":[{\"type\":\"contour\",\"colorbar\":{\"outlinewidth\":0,\"ticks\":\"\"},\"colorscale\":[[0.0,\"#0d0887\"],[0.1111111111111111,\"#46039f\"],[0.2222222222222222,\"#7201a8\"],[0.3333333333333333,\"#9c179e\"],[0.4444444444444444,\"#bd3786\"],[0.5555555555555556,\"#d8576b\"],[0.6666666666666666,\"#ed7953\"],[0.7777777777777778,\"#fb9f3a\"],[0.8888888888888888,\"#fdca26\"],[1.0,\"#f0f921\"]]}],\"surface\":[{\"type\":\"surface\",\"colorbar\":{\"outlinewidth\":0,\"ticks\":\"\"},\"colorscale\":[[0.0,\"#0d0887\"],[0.1111111111111111,\"#46039f\"],[0.2222222222222222,\"#7201a8\"],[0.3333333333333333,\"#9c179e\"],[0.4444444444444444,\"#bd3786\"],[0.5555555555555556,\"#d8576b\"],[0.6666666666666666,\"#ed7953\"],[0.7777777777777778,\"#fb9f3a\"],[0.8888888888888888,\"#fdca26\"],[1.0,\"#f0f921\"]]}],\"mesh3d\":[{\"type\":\"mesh3d\",\"colorbar\":{\"outlinewidth\":0,\"ticks\":\"\"}}],\"scatter\":[{\"fillpattern\":{\"fillmode\":\"overlay\",\"size\":10,\"solidity\":0.2},\"type\":\"scatter\"}],\"parcoords\":[{\"type\":\"parcoords\",\"line\":{\"colorbar\":{\"outlinewidth\":0,\"ticks\":\"\"}}}],\"scatterpolargl\":[{\"type\":\"scatterpolargl\",\"marker\":{\"colorbar\":{\"outlinewidth\":0,\"ticks\":\"\"}}}],\"bar\":[{\"error_x\":{\"color\":\"#2a3f5f\"},\"error_y\":{\"color\":\"#2a3f5f\"},\"marker\":{\"line\":{\"color\":\"#E5ECF6\",\"width\":0.5},\"pattern\":{\"fillmode\":\"overlay\",\"size\":10,\"solidity\":0.2}},\"type\":\"bar\"}],\"scattergeo\":[{\"type\":\"scattergeo\",\"marker\":{\"colorbar\":{\"outlinewidth\":0,\"ticks\":\"\"}}}],\"scatterpolar\":[{\"type\":\"scatterpolar\",\"marker\":{\"colorbar\":{\"outlinewidth\":0,\"ticks\":\"\"}}}],\"histogram\":[{\"marker\":{\"pattern\":{\"fillmode\":\"overlay\",\"size\":10,\"solidity\":0.2}},\"type\":\"histogram\"}],\"scattergl\":[{\"type\":\"scattergl\",\"marker\":{\"colorbar\":{\"outlinewidth\":0,\"ticks\":\"\"}}}],\"scatter3d\":[{\"type\":\"scatter3d\",\"line\":{\"colorbar\":{\"outlinewidth\":0,\"ticks\":\"\"}},\"marker\":{\"colorbar\":{\"outlinewidth\":0,\"ticks\":\"\"}}}],\"scattermapbox\":[{\"type\":\"scattermapbox\",\"marker\":{\"colorbar\":{\"outlinewidth\":0,\"ticks\":\"\"}}}],\"scatterternary\":[{\"type\":\"scatterternary\",\"marker\":{\"colorbar\":{\"outlinewidth\":0,\"ticks\":\"\"}}}],\"scattercarpet\":[{\"type\":\"scattercarpet\",\"marker\":{\"colorbar\":{\"outlinewidth\":0,\"ticks\":\"\"}}}],\"carpet\":[{\"aaxis\":{\"endlinecolor\":\"#2a3f5f\",\"gridcolor\":\"white\",\"linecolor\":\"white\",\"minorgridcolor\":\"white\",\"startlinecolor\":\"#2a3f5f\"},\"baxis\":{\"endlinecolor\":\"#2a3f5f\",\"gridcolor\":\"white\",\"linecolor\":\"white\",\"minorgridcolor\":\"white\",\"startlinecolor\":\"#2a3f5f\"},\"type\":\"carpet\"}],\"table\":[{\"cells\":{\"fill\":{\"color\":\"#EBF0F8\"},\"line\":{\"color\":\"white\"}},\"header\":{\"fill\":{\"color\":\"#C8D4E3\"},\"line\":{\"color\":\"white\"}},\"type\":\"table\"}],\"barpolar\":[{\"marker\":{\"line\":{\"color\":\"#E5ECF6\",\"width\":0.5},\"pattern\":{\"fillmode\":\"overlay\",\"size\":10,\"solidity\":0.2}},\"type\":\"barpolar\"}],\"pie\":[{\"automargin\":true,\"type\":\"pie\"}]},\"layout\":{\"autotypenumbers\":\"strict\",\"colorway\":[\"#636efa\",\"#EF553B\",\"#00cc96\",\"#ab63fa\",\"#FFA15A\",\"#19d3f3\",\"#FF6692\",\"#B6E880\",\"#FF97FF\",\"#FECB52\"],\"font\":{\"color\":\"#2a3f5f\"},\"hovermode\":\"closest\",\"hoverlabel\":{\"align\":\"left\"},\"paper_bgcolor\":\"white\",\"plot_bgcolor\":\"#E5ECF6\",\"polar\":{\"bgcolor\":\"#E5ECF6\",\"angularaxis\":{\"gridcolor\":\"white\",\"linecolor\":\"white\",\"ticks\":\"\"},\"radialaxis\":{\"gridcolor\":\"white\",\"linecolor\":\"white\",\"ticks\":\"\"}},\"ternary\":{\"bgcolor\":\"#E5ECF6\",\"aaxis\":{\"gridcolor\":\"white\",\"linecolor\":\"white\",\"ticks\":\"\"},\"baxis\":{\"gridcolor\":\"white\",\"linecolor\":\"white\",\"ticks\":\"\"},\"caxis\":{\"gridcolor\":\"white\",\"linecolor\":\"white\",\"ticks\":\"\"}},\"coloraxis\":{\"colorbar\":{\"outlinewidth\":0,\"ticks\":\"\"}},\"colorscale\":{\"sequential\":[[0.0,\"#0d0887\"],[0.1111111111111111,\"#46039f\"],[0.2222222222222222,\"#7201a8\"],[0.3333333333333333,\"#9c179e\"],[0.4444444444444444,\"#bd3786\"],[0.5555555555555556,\"#d8576b\"],[0.6666666666666666,\"#ed7953\"],[0.7777777777777778,\"#fb9f3a\"],[0.8888888888888888,\"#fdca26\"],[1.0,\"#f0f921\"]],\"sequentialminus\":[[0.0,\"#0d0887\"],[0.1111111111111111,\"#46039f\"],[0.2222222222222222,\"#7201a8\"],[0.3333333333333333,\"#9c179e\"],[0.4444444444444444,\"#bd3786\"],[0.5555555555555556,\"#d8576b\"],[0.6666666666666666,\"#ed7953\"],[0.7777777777777778,\"#fb9f3a\"],[0.8888888888888888,\"#fdca26\"],[1.0,\"#f0f921\"]],\"diverging\":[[0,\"#8e0152\"],[0.1,\"#c51b7d\"],[0.2,\"#de77ae\"],[0.3,\"#f1b6da\"],[0.4,\"#fde0ef\"],[0.5,\"#f7f7f7\"],[0.6,\"#e6f5d0\"],[0.7,\"#b8e186\"],[0.8,\"#7fbc41\"],[0.9,\"#4d9221\"],[1,\"#276419\"]]},\"xaxis\":{\"gridcolor\":\"white\",\"linecolor\":\"white\",\"ticks\":\"\",\"title\":{\"standoff\":15},\"zerolinecolor\":\"white\",\"automargin\":true,\"zerolinewidth\":2},\"yaxis\":{\"gridcolor\":\"white\",\"linecolor\":\"white\",\"ticks\":\"\",\"title\":{\"standoff\":15},\"zerolinecolor\":\"white\",\"automargin\":true,\"zerolinewidth\":2},\"scene\":{\"xaxis\":{\"backgroundcolor\":\"#E5ECF6\",\"gridcolor\":\"white\",\"linecolor\":\"white\",\"showbackground\":true,\"ticks\":\"\",\"zerolinecolor\":\"white\",\"gridwidth\":2},\"yaxis\":{\"backgroundcolor\":\"#E5ECF6\",\"gridcolor\":\"white\",\"linecolor\":\"white\",\"showbackground\":true,\"ticks\":\"\",\"zerolinecolor\":\"white\",\"gridwidth\":2},\"zaxis\":{\"backgroundcolor\":\"#E5ECF6\",\"gridcolor\":\"white\",\"linecolor\":\"white\",\"showbackground\":true,\"ticks\":\"\",\"zerolinecolor\":\"white\",\"gridwidth\":2}},\"shapedefaults\":{\"line\":{\"color\":\"#2a3f5f\"}},\"annotationdefaults\":{\"arrowcolor\":\"#2a3f5f\",\"arrowhead\":0,\"arrowwidth\":1},\"geo\":{\"bgcolor\":\"white\",\"landcolor\":\"#E5ECF6\",\"subunitcolor\":\"white\",\"showland\":true,\"showlakes\":true,\"lakecolor\":\"white\"},\"title\":{\"x\":0.05},\"mapbox\":{\"style\":\"light\"}}},\"font\":{\"size\":18,\"color\":\"Black\"},\"yaxis\":{\"title\":{\"text\":\"Gray Value\"},\"mirror\":true,\"ticks\":\"outside\",\"showline\":true,\"linecolor\":\"black\",\"gridcolor\":\"lightgrey\"},\"xaxis\":{\"title\":{\"text\":\"Distance (\\u03bcm)\"},\"mirror\":true,\"ticks\":\"outside\",\"showline\":true,\"linecolor\":\"black\",\"gridcolor\":\"lightgrey\"},\"plot_bgcolor\":\"white\"},                        {\"responsive\": true}                    ).then(function(){\n",
       "                            \n",
       "var gd = document.getElementById('3f53d819-e4ba-4a94-b88a-0fbdee29912d');\n",
       "var x = new MutationObserver(function (mutations, observer) {{\n",
       "        var display = window.getComputedStyle(gd).display;\n",
       "        if (!display || display === 'none') {{\n",
       "            console.log([gd, 'removed!']);\n",
       "            Plotly.purge(gd);\n",
       "            observer.disconnect();\n",
       "        }}\n",
       "}});\n",
       "\n",
       "// Listen for the removal of the full notebook cells\n",
       "var notebookContainer = gd.closest('#notebook-container');\n",
       "if (notebookContainer) {{\n",
       "    x.observe(notebookContainer, {childList: true});\n",
       "}}\n",
       "\n",
       "// Listen for the clearing of the current output cell\n",
       "var outputEl = gd.closest('.output');\n",
       "if (outputEl) {{\n",
       "    x.observe(outputEl, {childList: true});\n",
       "}}\n",
       "\n",
       "                        })                };                });            </script>        </div>"
      ]
     },
     "metadata": {},
     "output_type": "display_data"
    },
    {
     "name": "stdout",
     "output_type": "stream",
     "text": [
      "FWHM = 314.82\n",
      "FWHM = 302.32\n"
     ]
    }
   ],
   "source": [
    "fig = go.Figure()\n",
    "X, Y = datatot\n",
    "\n",
    "# rappresentazione dati\n",
    "fig.add_trace(go.Scatter(x = X, y = Y, mode = 'lines', line_color = 'plum', \n",
    "                         showlegend=False,hoverinfo='skip'))\n",
    "\n",
    "# rappresentazione fit6\n",
    "popt6, pcov6 = fittiamo(*data6)\n",
    "fig.add_trace(go.Scatter(x = data6[0], y = gaussian(data6[0], *popt6), mode='lines',showlegend=False,\n",
    "    marker = dict(color = 'purple')))\n",
    "\n",
    "# rappresentazione fit7\n",
    "popt7, pcov7 = fittiamo(*data7)\n",
    "fig.add_trace(go.Scatter(x = data7[0], y = gaussian(data7[0], *popt7), mode='lines',showlegend=False,\n",
    "    marker = dict(color = 'purple')))\n",
    "\n",
    "fig.update_layout(\n",
    "        yaxis_title = \"Gray Value\",\n",
    "        xaxis_title = \"Distance (μm)\",\n",
    "        # title='g<sup>2</sup>(τ) vs t',\n",
    "        #xaxis = dict(range = [np.log10(0.0001), np.log10(0.010)]),\n",
    "        #width = 800,\n",
    "        #height = 600,\n",
    "        plot_bgcolor = 'white',\n",
    "        font = dict(\n",
    "            #family=\"Courier New, monospace\",\n",
    "            size = 18,\n",
    "            color = \"Black\"\n",
    "        ),\n",
    "            # yaxis=dict(range=[0, 0.06])\n",
    "    )\n",
    "\n",
    "fig.update_xaxes(\n",
    "    mirror = True,\n",
    "    ticks = 'outside',\n",
    "    showline = True,\n",
    "    linecolor = 'black',\n",
    "    gridcolor = 'lightgrey'\n",
    ")\n",
    "fig.update_yaxes(\n",
    "    mirror = True,\n",
    "    ticks = 'outside',\n",
    "    showline = True,\n",
    "    linecolor = 'black',\n",
    "    gridcolor = 'lightgrey'\n",
    ")\n",
    "fig.show()\n",
    "FWHM(popt6)\n",
    "FWHM(popt7)"
   ]
  }
 ],
 "metadata": {
  "kernelspec": {
   "display_name": "Python 3 (ipykernel)",
   "language": "python",
   "name": "python3"
  },
  "language_info": {
   "codemirror_mode": {
    "name": "ipython",
    "version": 3
   },
   "file_extension": ".py",
   "mimetype": "text/x-python",
   "name": "python",
   "nbconvert_exporter": "python",
   "pygments_lexer": "ipython3",
   "version": "3.12.3"
  }
 },
 "nbformat": 4,
 "nbformat_minor": 5
}
