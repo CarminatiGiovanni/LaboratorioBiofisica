{
 "cells": [
  {
   "cell_type": "code",
   "execution_count": 1,
   "metadata": {},
   "outputs": [],
   "source": [
    "import numpy as np\n",
    "import pandas as pd\n",
    "from matplotlib import pyplot as plt"
   ]
  },
  {
   "cell_type": "code",
   "execution_count": 2,
   "metadata": {},
   "outputs": [],
   "source": [
    "data = pd.read_csv('data/g_90.txt',sep='\\t ',header=None,engine='python')\n",
    "# data.head()"
   ]
  },
  {
   "cell_type": "code",
   "execution_count": 3,
   "metadata": {},
   "outputs": [
    {
     "data": {
      "text/html": [
       "<div>\n",
       "<style scoped>\n",
       "    .dataframe tbody tr th:only-of-type {\n",
       "        vertical-align: middle;\n",
       "    }\n",
       "\n",
       "    .dataframe tbody tr th {\n",
       "        vertical-align: top;\n",
       "    }\n",
       "\n",
       "    .dataframe thead th {\n",
       "        text-align: right;\n",
       "    }\n",
       "</style>\n",
       "<table border=\"1\" class=\"dataframe\">\n",
       "  <thead>\n",
       "    <tr style=\"text-align: right;\">\n",
       "      <th></th>\n",
       "      <th>0</th>\n",
       "      <th>1</th>\n",
       "      <th>2</th>\n",
       "      <th>3</th>\n",
       "      <th>4</th>\n",
       "    </tr>\n",
       "  </thead>\n",
       "  <tbody>\n",
       "    <tr>\n",
       "      <th>79</th>\n",
       "      <td>0.1024</td>\n",
       "      <td>0.038211</td>\n",
       "      <td>0.0</td>\n",
       "      <td>0.0</td>\n",
       "      <td>0.0</td>\n",
       "    </tr>\n",
       "    <tr>\n",
       "      <th>80</th>\n",
       "      <td>0.1152</td>\n",
       "      <td>0.037004</td>\n",
       "      <td>0.0</td>\n",
       "      <td>0.0</td>\n",
       "      <td>0.0</td>\n",
       "    </tr>\n",
       "    <tr>\n",
       "      <th>81</th>\n",
       "      <td>0.1280</td>\n",
       "      <td>0.034968</td>\n",
       "      <td>0.0</td>\n",
       "      <td>0.0</td>\n",
       "      <td>0.0</td>\n",
       "    </tr>\n",
       "    <tr>\n",
       "      <th>82</th>\n",
       "      <td>0.1408</td>\n",
       "      <td>0.034218</td>\n",
       "      <td>0.0</td>\n",
       "      <td>0.0</td>\n",
       "      <td>0.0</td>\n",
       "    </tr>\n",
       "    <tr>\n",
       "      <th>83</th>\n",
       "      <td>0.1536</td>\n",
       "      <td>0.032900</td>\n",
       "      <td>0.0</td>\n",
       "      <td>0.0</td>\n",
       "      <td>0.0</td>\n",
       "    </tr>\n",
       "  </tbody>\n",
       "</table>\n",
       "</div>"
      ],
      "text/plain": [
       "         0         1    2    3    4\n",
       "79  0.1024  0.038211  0.0  0.0  0.0\n",
       "80  0.1152  0.037004  0.0  0.0  0.0\n",
       "81  0.1280  0.034968  0.0  0.0  0.0\n",
       "82  0.1408  0.034218  0.0  0.0  0.0\n",
       "83  0.1536  0.032900  0.0  0.0  0.0"
      ]
     },
     "execution_count": 3,
     "metadata": {},
     "output_type": "execute_result"
    }
   ],
   "source": [
    "selected_data = data[(data[0] >= 0.1) & (data[0] <= 10)]\n",
    "selected_data.head()"
   ]
  },
  {
   "cell_type": "code",
   "execution_count": 4,
   "metadata": {},
   "outputs": [
    {
     "data": {
      "image/png": "[encoded data removed]",
      "text/plain": [
       "<Figure size 640x480 with 1 Axes>"
      ]
     },
     "metadata": {},
     "output_type": "display_data"
    }
   ],
   "source": [
    "x = selected_data[0]\n",
    "y = selected_data[1]\n",
    "\n",
    "y = np.array(y)\n",
    "x = np.array(x)\n",
    "x = x - min(x)\n",
    "\n",
    "\n",
    "plt.plot(x,y)\n",
    "plt.xscale('log')\n",
    "# plt.xlim(0.01,10)\n",
    "# plt.ylim(0,0.1)\n",
    "plt.show()"
   ]
  },
  {
   "cell_type": "code",
   "execution_count": 5,
   "metadata": {},
   "outputs": [
    {
     "data": {
      "application/vnd.plotly.v1+json": {
       "config": {
        "plotlyServerURL": "https://plot.ly"
       },
       "data": [
        {
         "error_y": {
          "color": "green",
          "thickness": 1.5,
          "type": "constant",
          "value": 0.001,
          "width": 3
         },
         "mode": "markers",
         "name": "data",
         "type": "scatter",
         "x": {
          "bdata": "AAAAAAAAAAAoQxzr4jaKPyxDHOviNpo/YjJVMCqpoz8qQxzr4jaqP/up8dJNYrA/YTJVMCqpsz/HuriNBvC2Py1DHOviNro//Knx0k1iwD9iMlUwKqnDP8i6uI0G8MY/LEMc6+I2yj+Sy39Iv33NP/yp8dJNYtA/L26jAbwF0j9iMlUwKqnTP8e6uI0G8NY/LUMc6+I22j+Ty39Iv33dP/up8dJNYuA/Lm6jAbwF4j9hMlUwKqnjP5T2Bl+YTOU/x7q4jQbw5j8sQxzr4jbqP5LLf0i/fe0//Knx0k1i8D8ubqMBvAXyP2EyVTAqqfM/lPYGX5hM9T/HuriNBvD2P/p+arx0k/g/XwfOGVHa+z/FjzF3LSH/PxaMSuoENAFASFD8GHPXAkB7FK5H4XoEQK7YX3ZPHgZA4ZwRpb3BB0AUYcPTK2UJQHnpJjEIrAxA33GKjuTyD0Ai/fZ14JwRQFTBqKROQBNAh4Va07zjFEC6SQwCK4cWQO0NvjCZKhhAINJvXwfOGUCFWtO84xQdQHZxGw3gLSBAqTXNO07RIUDb+X5qvHQjQA==",
          "dtype": "f8"
         },
         "y": {
          "bdata": "C0W6n1OQoz80eKkiJvKiP3Ak0GBT56E/IyHbQwyFoT8xow7hTtigP5QaNbrekaA/EORFyyZlnz8Lz0vFxryePwGeWbfmM50/fiiHBa12mz8uLMlLSLWZP8Ey27pA7pc/sPye/e1Xlj8rpWd6ibGUP6oKDcSymZM/t+BWi5mOkj/B6iNLQRKRPx8JRQQtbo0/hq+vdakRij8jLZW3I5yGPxGYPb/es4Q/fnRmksPtgT8DIR8Vez+AP9FjStpDsXs/hL2JITmZeD8kq413aNRzP1dgp9xtrG4/JvREIRM6aT+PUX1rUMljP/U/CujPyGE/zLhnZRQuWD9kNLjOOyVSP9nK9f1ulk8/DP/VIiMZQj/emEA/wwMpPxqtwQBkFiE/9LiQDFdVGL/c34rY6BsvP6+fHbos89i+JbTTec7CIL+j3A7xNSLtPgFA4bLiiRQ/OIIDQx4NHL98gdCv6gInP6x/r58AtSE/x8RLD8FzGr/MF5yGxmH5vnV0fZvVbQY/woCfHeKyCb/qwulPJNn4PhzuVBVigga/nMZWzfw1HL8kuWkkIxb6vg==",
          "dtype": "f8"
         }
        }
       ],
       "layout": {
        "template": {
         "data": {
          "bar": [
           {
            "error_x": {
             "color": "#2a3f5f"
            },
            "error_y": {
             "color": "#2a3f5f"
            },
            "marker": {
             "line": {
              "color": "#E5ECF6",
              "width": 0.5
             },
             "pattern": {
              "fillmode": "overlay",
              "size": 10,
              "solidity": 0.2
             }
            },
            "type": "bar"
           }
          ],
          "barpolar": [
           {
            "marker": {
             "line": {
              "color": "#E5ECF6",
              "width": 0.5
             },
             "pattern": {
              "fillmode": "overlay",
              "size": 10,
              "solidity": 0.2
             }
            },
            "type": "barpolar"
           }
          ],
          "carpet": [
           {
            "aaxis": {
             "endlinecolor": "#2a3f5f",
             "gridcolor": "white",
             "linecolor": "white",
             "minorgridcolor": "white",
             "startlinecolor": "#2a3f5f"
            },
            "baxis": {
             "endlinecolor": "#2a3f5f",
             "gridcolor": "white",
             "linecolor": "white",
             "minorgridcolor": "white",
             "startlinecolor": "#2a3f5f"
            },
            "type": "carpet"
           }
          ],
          "choropleth": [
           {
            "colorbar": {
             "outlinewidth": 0,
             "ticks": ""
            },
            "type": "choropleth"
           }
          ],
          "contour": [
           {
            "colorbar": {
             "outlinewidth": 0,
             "ticks": ""
            },
            "colorscale": [
             [
              0,
              "#0d0887"
             ],
             [
              0.1111111111111111,
              "#46039f"
             ],
             [
              0.2222222222222222,
              "#7201a8"
             ],
             [
              0.3333333333333333,
              "#9c179e"
             ],
             [
              0.4444444444444444,
              "#bd3786"
             ],
             [
              0.5555555555555556,
              "#d8576b"
             ],
             [
              0.6666666666666666,
              "#ed7953"
             ],
             [
              0.7777777777777778,
              "#fb9f3a"
             ],
             [
              0.8888888888888888,
              "#fdca26"
             ],
             [
              1,
              "#f0f921"
             ]
            ],
            "type": "contour"
           }
          ],
          "contourcarpet": [
           {
            "colorbar": {
             "outlinewidth": 0,
             "ticks": ""
            },
            "type": "contourcarpet"
           }
          ],
          "heatmap": [
           {
            "colorbar": {
             "outlinewidth": 0,
             "ticks": ""
            },
            "colorscale": [
             [
              0,
              "#0d0887"
             ],
             [
              0.1111111111111111,
              "#46039f"
             ],
             [
              0.2222222222222222,
              "#7201a8"
             ],
             [
              0.3333333333333333,
              "#9c179e"
             ],
             [
              0.4444444444444444,
              "#bd3786"
             ],
             [
              0.5555555555555556,
              "#d8576b"
             ],
             [
              0.6666666666666666,
              "#ed7953"
             ],
             [
              0.7777777777777778,
              "#fb9f3a"
             ],
             [
              0.8888888888888888,
              "#fdca26"
             ],
             [
              1,
              "#f0f921"
             ]
            ],
            "type": "heatmap"
           }
          ],
          "histogram": [
           {
            "marker": {
             "pattern": {
              "fillmode": "overlay",
              "size": 10,
              "solidity": 0.2
             }
            },
            "type": "histogram"
           }
          ],
          "histogram2d": [
           {
            "colorbar": {
             "outlinewidth": 0,
             "ticks": ""
            },
            "colorscale": [
             [
              0,
              "#0d0887"
             ],
             [
              0.1111111111111111,
              "#46039f"
             ],
             [
              0.2222222222222222,
              "#7201a8"
             ],
             [
              0.3333333333333333,
              "#9c179e"
             ],
             [
              0.4444444444444444,
              "#bd3786"
             ],
             [
              0.5555555555555556,
              "#d8576b"
             ],
             [
              0.6666666666666666,
              "#ed7953"
             ],
             [
              0.7777777777777778,
              "#fb9f3a"
             ],
             [
              0.8888888888888888,
              "#fdca26"
             ],
             [
              1,
              "#f0f921"
             ]
            ],
            "type": "histogram2d"
           }
          ],
          "histogram2dcontour": [
           {
            "colorbar": {
             "outlinewidth": 0,
             "ticks": ""
            },
            "colorscale": [
             [
              0,
              "#0d0887"
             ],
             [
              0.1111111111111111,
              "#46039f"
             ],
             [
              0.2222222222222222,
              "#7201a8"
             ],
             [
              0.3333333333333333,
              "#9c179e"
             ],
             [
              0.4444444444444444,
              "#bd3786"
             ],
             [
              0.5555555555555556,
              "#d8576b"
             ],
             [
              0.6666666666666666,
              "#ed7953"
             ],
             [
              0.7777777777777778,
              "#fb9f3a"
             ],
             [
              0.8888888888888888,
              "#fdca26"
             ],
             [
              1,
              "#f0f921"
             ]
            ],
            "type": "histogram2dcontour"
           }
          ],
          "mesh3d": [
           {
            "colorbar": {
             "outlinewidth": 0,
             "ticks": ""
            },
            "type": "mesh3d"
           }
          ],
          "parcoords": [
           {
            "line": {
             "colorbar": {
              "outlinewidth": 0,
              "ticks": ""
             }
            },
            "type": "parcoords"
           }
          ],
          "pie": [
           {
            "automargin": true,
            "type": "pie"
           }
          ],
          "scatter": [
           {
            "fillpattern": {
             "fillmode": "overlay",
             "size": 10,
             "solidity": 0.2
            },
            "type": "scatter"
           }
          ],
          "scatter3d": [
           {
            "line": {
             "colorbar": {
              "outlinewidth": 0,
              "ticks": ""
             }
            },
            "marker": {
             "colorbar": {
              "outlinewidth": 0,
              "ticks": ""
             }
            },
            "type": "scatter3d"
           }
          ],
          "scattercarpet": [
           {
            "marker": {
             "colorbar": {
              "outlinewidth": 0,
              "ticks": ""
             }
            },
            "type": "scattercarpet"
           }
          ],
          "scattergeo": [
           {
            "marker": {
             "colorbar": {
              "outlinewidth": 0,
              "ticks": ""
             }
            },
            "type": "scattergeo"
           }
          ],
          "scattergl": [
           {
            "marker": {
             "colorbar": {
              "outlinewidth": 0,
              "ticks": ""
             }
            },
            "type": "scattergl"
           }
          ],
          "scattermap": [
           {
            "marker": {
             "colorbar": {
              "outlinewidth": 0,
              "ticks": ""
             }
            },
            "type": "scattermap"
           }
          ],
          "scattermapbox": [
           {
            "marker": {
             "colorbar": {
              "outlinewidth": 0,
              "ticks": ""
             }
            },
            "type": "scattermapbox"
           }
          ],
          "scatterpolar": [
           {
            "marker": {
             "colorbar": {
              "outlinewidth": 0,
              "ticks": ""
             }
            },
            "type": "scatterpolar"
           }
          ],
          "scatterpolargl": [
           {
            "marker": {
             "colorbar": {
              "outlinewidth": 0,
              "ticks": ""
             }
            },
            "type": "scatterpolargl"
           }
          ],
          "scatterternary": [
           {
            "marker": {
             "colorbar": {
              "outlinewidth": 0,
              "ticks": ""
             }
            },
            "type": "scatterternary"
           }
          ],
          "surface": [
           {
            "colorbar": {
             "outlinewidth": 0,
             "ticks": ""
            },
            "colorscale": [
             [
              0,
              "#0d0887"
             ],
             [
              0.1111111111111111,
              "#46039f"
             ],
             [
              0.2222222222222222,
              "#7201a8"
             ],
             [
              0.3333333333333333,
              "#9c179e"
             ],
             [
              0.4444444444444444,
              "#bd3786"
             ],
             [
              0.5555555555555556,
              "#d8576b"
             ],
             [
              0.6666666666666666,
              "#ed7953"
             ],
             [
              0.7777777777777778,
              "#fb9f3a"
             ],
             [
              0.8888888888888888,
              "#fdca26"
             ],
             [
              1,
              "#f0f921"
             ]
            ],
            "type": "surface"
           }
          ],
          "table": [
           {
            "cells": {
             "fill": {
              "color": "#EBF0F8"
             },
             "line": {
              "color": "white"
             }
            },
            "header": {
             "fill": {
              "color": "#C8D4E3"
             },
             "line": {
              "color": "white"
             }
            },
            "type": "table"
           }
          ]
         },
         "layout": {
          "annotationdefaults": {
           "arrowcolor": "#2a3f5f",
           "arrowhead": 0,
           "arrowwidth": 1
          },
          "autotypenumbers": "strict",
          "coloraxis": {
           "colorbar": {
            "outlinewidth": 0,
            "ticks": ""
           }
          },
          "colorscale": {
           "diverging": [
            [
             0,
             "#8e0152"
            ],
            [
             0.1,
             "#c51b7d"
            ],
            [
             0.2,
             "#de77ae"
            ],
            [
             0.3,
             "#f1b6da"
            ],
            [
             0.4,
             "#fde0ef"
            ],
            [
             0.5,
             "#f7f7f7"
            ],
            [
             0.6,
             "#e6f5d0"
            ],
            [
             0.7,
             "#b8e186"
            ],
            [
             0.8,
             "#7fbc41"
            ],
            [
             0.9,
             "#4d9221"
            ],
            [
             1,
             "#276419"
            ]
           ],
           "sequential": [
            [
             0,
             "#0d0887"
            ],
            [
             0.1111111111111111,
             "#46039f"
            ],
            [
             0.2222222222222222,
             "#7201a8"
            ],
            [
             0.3333333333333333,
             "#9c179e"
            ],
            [
             0.4444444444444444,
             "#bd3786"
            ],
            [
             0.5555555555555556,
             "#d8576b"
            ],
            [
             0.6666666666666666,
             "#ed7953"
            ],
            [
             0.7777777777777778,
             "#fb9f3a"
            ],
            [
             0.8888888888888888,
             "#fdca26"
            ],
            [
             1,
             "#f0f921"
            ]
           ],
           "sequentialminus": [
            [
             0,
             "#0d0887"
            ],
            [
             0.1111111111111111,
             "#46039f"
            ],
            [
             0.2222222222222222,
             "#7201a8"
            ],
            [
             0.3333333333333333,
             "#9c179e"
            ],
            [
             0.4444444444444444,
             "#bd3786"
            ],
            [
             0.5555555555555556,
             "#d8576b"
            ],
            [
             0.6666666666666666,
             "#ed7953"
            ],
            [
             0.7777777777777778,
             "#fb9f3a"
            ],
            [
             0.8888888888888888,
             "#fdca26"
            ],
            [
             1,
             "#f0f921"
            ]
           ]
          },
          "colorway": [
           "#636efa",
           "#EF553B",
           "#00cc96",
           "#ab63fa",
           "#FFA15A",
           "#19d3f3",
           "#FF6692",
           "#B6E880",
           "#FF97FF",
           "#FECB52"
          ],
          "font": {
           "color": "#2a3f5f"
          },
          "geo": {
           "bgcolor": "white",
           "lakecolor": "white",
           "landcolor": "#E5ECF6",
           "showlakes": true,
           "showland": true,
           "subunitcolor": "white"
          },
          "hoverlabel": {
           "align": "left"
          },
          "hovermode": "closest",
          "mapbox": {
           "style": "light"
          },
          "paper_bgcolor": "white",
          "plot_bgcolor": "#E5ECF6",
          "polar": {
           "angularaxis": {
            "gridcolor": "white",
            "linecolor": "white",
            "ticks": ""
           },
           "bgcolor": "#E5ECF6",
           "radialaxis": {
            "gridcolor": "white",
            "linecolor": "white",
            "ticks": ""
           }
          },
          "scene": {
           "xaxis": {
            "backgroundcolor": "#E5ECF6",
            "gridcolor": "white",
            "gridwidth": 2,
            "linecolor": "white",
            "showbackground": true,
            "ticks": "",
            "zerolinecolor": "white"
           },
           "yaxis": {
            "backgroundcolor": "#E5ECF6",
            "gridcolor": "white",
            "gridwidth": 2,
            "linecolor": "white",
            "showbackground": true,
            "ticks": "",
            "zerolinecolor": "white"
           },
           "zaxis": {
            "backgroundcolor": "#E5ECF6",
            "gridcolor": "white",
            "gridwidth": 2,
            "linecolor": "white",
            "showbackground": true,
            "ticks": "",
            "zerolinecolor": "white"
           }
          },
          "shapedefaults": {
           "line": {
            "color": "#2a3f5f"
           }
          },
          "ternary": {
           "aaxis": {
            "gridcolor": "white",
            "linecolor": "white",
            "ticks": ""
           },
           "baxis": {
            "gridcolor": "white",
            "linecolor": "white",
            "ticks": ""
           },
           "bgcolor": "#E5ECF6",
           "caxis": {
            "gridcolor": "white",
            "linecolor": "white",
            "ticks": ""
           }
          },
          "title": {
           "x": 0.05
          },
          "xaxis": {
           "automargin": true,
           "gridcolor": "white",
           "linecolor": "white",
           "ticks": "",
           "title": {
            "standoff": 15
           },
           "zerolinecolor": "white",
           "zerolinewidth": 2
          },
          "yaxis": {
           "automargin": true,
           "gridcolor": "white",
           "linecolor": "white",
           "ticks": "",
           "title": {
            "standoff": 15
           },
           "zerolinecolor": "white",
           "zerolinewidth": 2
          }
         }
        },
        "xaxis": {
         "range": [
          0,
          10
         ],
         "title": {
          "text": "x-axis in logarithmic scale"
         }
        },
        "yaxis": {
         "range": [
          0,
          0.06
         ],
         "title": {
          "text": "y-axis"
         }
        }
       }
      }
     },
     "metadata": {},
     "output_type": "display_data"
    }
   ],
   "source": [
    "import plotly.express as px \n",
    "import plotly.graph_objects as go \n",
    "import numpy as np \n",
    "fig = go.Figure()\n",
    "\n",
    "# fig.add_trace(go.Scatter(x=x, y=y, mode='lines', name='data'))\n",
    "\n",
    "fig.update_layout(\n",
    "\t# xaxis_type=\"log\",\n",
    "\txaxis_title=\"x-axis in logarithmic scale\",\n",
    "\tyaxis_title=\"y-axis\",\n",
    "\txaxis=dict(range=[0, 10]),\n",
    "\tyaxis=dict(range=[0, 0.06])\n",
    ")\n",
    "\n",
    "fig.add_trace(go.Scatter(x=x, y=y, mode='markers', name='data',error_y=dict( \n",
    "\t\ttype='constant', \n",
    "\t\tvalue=0.001, \n",
    "\t\tcolor='green', \n",
    "\t\tthickness=1.5, \n",
    "\t\twidth=3, \n",
    "\t)))\n",
    "\n",
    "fig.show()\n"
   ]
  },
  {
   "cell_type": "code",
   "execution_count": 9,
   "metadata": {},
   "outputs": [
    {
     "name": "stdout",
     "output_type": "stream",
     "text": [
      "----------------- VALORI FIT: -----------------\n",
      "A: (3.764 ± 0.044)e-2 \n",
      "B: (1.082 ± 2.096)e-4 \n",
      "γ: 2.634 ± 0.076 \n",
      "\n",
      "dof: 50\n",
      "chi2: 3.33\n",
      "chi2 ridotto: 0.07\n",
      "pvalue: 1.0\n",
      "------------------------------------------------\n",
      "\n"
     ]
    }
   ],
   "source": [
    "from labbiofisica import Interpolazione\n",
    "\n",
    "def f (x, a, b, γ):\n",
    "    return a*np.exp(-γ*x)+b\n",
    "\n",
    "simgaY = np.float64(0.001)\n",
    "m = Interpolazione(x,y,simgaY,f,guess=[0.04,-0.001,2.7],names=['A','B','γ'])\n",
    "print(m)\n",
    "\n"
   ]
  },
  {
   "cell_type": "code",
   "execution_count": 13,
   "metadata": {},
   "outputs": [
    {
     "data": {
      "application/vnd.plotly.v1+json": {
       "config": {
        "plotlyServerURL": "https://plot.ly"
       },
       "data": [
        {
         "mode": "lines",
         "name": "model",
         "type": "scatter",
         "x": {
          "bdata": "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",
          "dtype": "f8"
         },
         "y": {
          "bdata": "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",
          "dtype": "f8"
         }
        },
        {
         "mode": "markers",
         "name": "data",
         "type": "scatter",
         "x": {
          "bdata": "AAAAAAAAAAAoQxzr4jaKPyxDHOviNpo/YjJVMCqpoz8qQxzr4jaqP/up8dJNYrA/YTJVMCqpsz/HuriNBvC2Py1DHOviNro//Knx0k1iwD9iMlUwKqnDP8i6uI0G8MY/LEMc6+I2yj+Sy39Iv33NP/yp8dJNYtA/L26jAbwF0j9iMlUwKqnTP8e6uI0G8NY/LUMc6+I22j+Ty39Iv33dP/up8dJNYuA/Lm6jAbwF4j9hMlUwKqnjP5T2Bl+YTOU/x7q4jQbw5j8sQxzr4jbqP5LLf0i/fe0//Knx0k1i8D8ubqMBvAXyP2EyVTAqqfM/lPYGX5hM9T/HuriNBvD2P/p+arx0k/g/XwfOGVHa+z/FjzF3LSH/PxaMSuoENAFASFD8GHPXAkB7FK5H4XoEQK7YX3ZPHgZA4ZwRpb3BB0AUYcPTK2UJQHnpJjEIrAxA33GKjuTyD0Ai/fZ14JwRQFTBqKROQBNAh4Va07zjFEC6SQwCK4cWQO0NvjCZKhhAINJvXwfOGUCFWtO84xQdQHZxGw3gLSBAqTXNO07RIUDb+X5qvHQjQA==",
          "dtype": "f8"
         },
         "y": {
          "bdata": "C0W6n1OQoz80eKkiJvKiP3Ak0GBT56E/IyHbQwyFoT8xow7hTtigP5QaNbrekaA/EORFyyZlnz8Lz0vFxryePwGeWbfmM50/fiiHBa12mz8uLMlLSLWZP8Ey27pA7pc/sPye/e1Xlj8rpWd6ibGUP6oKDcSymZM/t+BWi5mOkj/B6iNLQRKRPx8JRQQtbo0/hq+vdakRij8jLZW3I5yGPxGYPb/es4Q/fnRmksPtgT8DIR8Vez+AP9FjStpDsXs/hL2JITmZeD8kq413aNRzP1dgp9xtrG4/JvREIRM6aT+PUX1rUMljP/U/CujPyGE/zLhnZRQuWD9kNLjOOyVSP9nK9f1ulk8/DP/VIiMZQj/emEA/wwMpPxqtwQBkFiE/9LiQDFdVGL/c34rY6BsvP6+fHbos89i+JbTTec7CIL+j3A7xNSLtPgFA4bLiiRQ/OIIDQx4NHL98gdCv6gInP6x/r58AtSE/x8RLD8FzGr/MF5yGxmH5vnV0fZvVbQY/woCfHeKyCb/qwulPJNn4PhzuVBVigga/nMZWzfw1HL8kuWkkIxb6vg==",
          "dtype": "f8"
         }
        }
       ],
       "layout": {
        "template": {
         "data": {
          "bar": [
           {
            "error_x": {
             "color": "#2a3f5f"
            },
            "error_y": {
             "color": "#2a3f5f"
            },
            "marker": {
             "line": {
              "color": "#E5ECF6",
              "width": 0.5
             },
             "pattern": {
              "fillmode": "overlay",
              "size": 10,
              "solidity": 0.2
             }
            },
            "type": "bar"
           }
          ],
          "barpolar": [
           {
            "marker": {
             "line": {
              "color": "#E5ECF6",
              "width": 0.5
             },
             "pattern": {
              "fillmode": "overlay",
              "size": 10,
              "solidity": 0.2
             }
            },
            "type": "barpolar"
           }
          ],
          "carpet": [
           {
            "aaxis": {
             "endlinecolor": "#2a3f5f",
             "gridcolor": "white",
             "linecolor": "white",
             "minorgridcolor": "white",
             "startlinecolor": "#2a3f5f"
            },
            "baxis": {
             "endlinecolor": "#2a3f5f",
             "gridcolor": "white",
             "linecolor": "white",
             "minorgridcolor": "white",
             "startlinecolor": "#2a3f5f"
            },
            "type": "carpet"
           }
          ],
          "choropleth": [
           {
            "colorbar": {
             "outlinewidth": 0,
             "ticks": ""
            },
            "type": "choropleth"
           }
          ],
          "contour": [
           {
            "colorbar": {
             "outlinewidth": 0,
             "ticks": ""
            },
            "colorscale": [
             [
              0,
              "#0d0887"
             ],
             [
              0.1111111111111111,
              "#46039f"
             ],
             [
              0.2222222222222222,
              "#7201a8"
             ],
             [
              0.3333333333333333,
              "#9c179e"
             ],
             [
              0.4444444444444444,
              "#bd3786"
             ],
             [
              0.5555555555555556,
              "#d8576b"
             ],
             [
              0.6666666666666666,
              "#ed7953"
             ],
             [
              0.7777777777777778,
              "#fb9f3a"
             ],
             [
              0.8888888888888888,
              "#fdca26"
             ],
             [
              1,
              "#f0f921"
             ]
            ],
            "type": "contour"
           }
          ],
          "contourcarpet": [
           {
            "colorbar": {
             "outlinewidth": 0,
             "ticks": ""
            },
            "type": "contourcarpet"
           }
          ],
          "heatmap": [
           {
            "colorbar": {
             "outlinewidth": 0,
             "ticks": ""
            },
            "colorscale": [
             [
              0,
              "#0d0887"
             ],
             [
              0.1111111111111111,
              "#46039f"
             ],
             [
              0.2222222222222222,
              "#7201a8"
             ],
             [
              0.3333333333333333,
              "#9c179e"
             ],
             [
              0.4444444444444444,
              "#bd3786"
             ],
             [
              0.5555555555555556,
              "#d8576b"
             ],
             [
              0.6666666666666666,
              "#ed7953"
             ],
             [
              0.7777777777777778,
              "#fb9f3a"
             ],
             [
              0.8888888888888888,
              "#fdca26"
             ],
             [
              1,
              "#f0f921"
             ]
            ],
            "type": "heatmap"
           }
          ],
          "histogram": [
           {
            "marker": {
             "pattern": {
              "fillmode": "overlay",
              "size": 10,
              "solidity": 0.2
             }
            },
            "type": "histogram"
           }
          ],
          "histogram2d": [
           {
            "colorbar": {
             "outlinewidth": 0,
             "ticks": ""
            },
            "colorscale": [
             [
              0,
              "#0d0887"
             ],
             [
              0.1111111111111111,
              "#46039f"
             ],
             [
              0.2222222222222222,
              "#7201a8"
             ],
             [
              0.3333333333333333,
              "#9c179e"
             ],
             [
              0.4444444444444444,
              "#bd3786"
             ],
             [
              0.5555555555555556,
              "#d8576b"
             ],
             [
              0.6666666666666666,
              "#ed7953"
             ],
             [
              0.7777777777777778,
              "#fb9f3a"
             ],
             [
              0.8888888888888888,
              "#fdca26"
             ],
             [
              1,
              "#f0f921"
             ]
            ],
            "type": "histogram2d"
           }
          ],
          "histogram2dcontour": [
           {
            "colorbar": {
             "outlinewidth": 0,
             "ticks": ""
            },
            "colorscale": [
             [
              0,
              "#0d0887"
             ],
             [
              0.1111111111111111,
              "#46039f"
             ],
             [
              0.2222222222222222,
              "#7201a8"
             ],
             [
              0.3333333333333333,
              "#9c179e"
             ],
             [
              0.4444444444444444,
              "#bd3786"
             ],
             [
              0.5555555555555556,
              "#d8576b"
             ],
             [
              0.6666666666666666,
              "#ed7953"
             ],
             [
              0.7777777777777778,
              "#fb9f3a"
             ],
             [
              0.8888888888888888,
              "#fdca26"
             ],
             [
              1,
              "#f0f921"
             ]
            ],
            "type": "histogram2dcontour"
           }
          ],
          "mesh3d": [
           {
            "colorbar": {
             "outlinewidth": 0,
             "ticks": ""
            },
            "type": "mesh3d"
           }
          ],
          "parcoords": [
           {
            "line": {
             "colorbar": {
              "outlinewidth": 0,
              "ticks": ""
             }
            },
            "type": "parcoords"
           }
          ],
          "pie": [
           {
            "automargin": true,
            "type": "pie"
           }
          ],
          "scatter": [
           {
            "fillpattern": {
             "fillmode": "overlay",
             "size": 10,
             "solidity": 0.2
            },
            "type": "scatter"
           }
          ],
          "scatter3d": [
           {
            "line": {
             "colorbar": {
              "outlinewidth": 0,
              "ticks": ""
             }
            },
            "marker": {
             "colorbar": {
              "outlinewidth": 0,
              "ticks": ""
             }
            },
            "type": "scatter3d"
           }
          ],
          "scattercarpet": [
           {
            "marker": {
             "colorbar": {
              "outlinewidth": 0,
              "ticks": ""
             }
            },
            "type": "scattercarpet"
           }
          ],
          "scattergeo": [
           {
            "marker": {
             "colorbar": {
              "outlinewidth": 0,
              "ticks": ""
             }
            },
            "type": "scattergeo"
           }
          ],
          "scattergl": [
           {
            "marker": {
             "colorbar": {
              "outlinewidth": 0,
              "ticks": ""
             }
            },
            "type": "scattergl"
           }
          ],
          "scattermap": [
           {
            "marker": {
             "colorbar": {
              "outlinewidth": 0,
              "ticks": ""
             }
            },
            "type": "scattermap"
           }
          ],
          "scattermapbox": [
           {
            "marker": {
             "colorbar": {
              "outlinewidth": 0,
              "ticks": ""
             }
            },
            "type": "scattermapbox"
           }
          ],
          "scatterpolar": [
           {
            "marker": {
             "colorbar": {
              "outlinewidth": 0,
              "ticks": ""
             }
            },
            "type": "scatterpolar"
           }
          ],
          "scatterpolargl": [
           {
            "marker": {
             "colorbar": {
              "outlinewidth": 0,
              "ticks": ""
             }
            },
            "type": "scatterpolargl"
           }
          ],
          "scatterternary": [
           {
            "marker": {
             "colorbar": {
              "outlinewidth": 0,
              "ticks": ""
             }
            },
            "type": "scatterternary"
           }
          ],
          "surface": [
           {
            "colorbar": {
             "outlinewidth": 0,
             "ticks": ""
            },
            "colorscale": [
             [
              0,
              "#0d0887"
             ],
             [
              0.1111111111111111,
              "#46039f"
             ],
             [
              0.2222222222222222,
              "#7201a8"
             ],
             [
              0.3333333333333333,
              "#9c179e"
             ],
             [
              0.4444444444444444,
              "#bd3786"
             ],
             [
              0.5555555555555556,
              "#d8576b"
             ],
             [
              0.6666666666666666,
              "#ed7953"
             ],
             [
              0.7777777777777778,
              "#fb9f3a"
             ],
             [
              0.8888888888888888,
              "#fdca26"
             ],
             [
              1,
              "#f0f921"
             ]
            ],
            "type": "surface"
           }
          ],
          "table": [
           {
            "cells": {
             "fill": {
              "color": "#EBF0F8"
             },
             "line": {
              "color": "white"
             }
            },
            "header": {
             "fill": {
              "color": "#C8D4E3"
             },
             "line": {
              "color": "white"
             }
            },
            "type": "table"
           }
          ]
         },
         "layout": {
          "annotationdefaults": {
           "arrowcolor": "#2a3f5f",
           "arrowhead": 0,
           "arrowwidth": 1
          },
          "autotypenumbers": "strict",
          "coloraxis": {
           "colorbar": {
            "outlinewidth": 0,
            "ticks": ""
           }
          },
          "colorscale": {
           "diverging": [
            [
             0,
             "#8e0152"
            ],
            [
             0.1,
             "#c51b7d"
            ],
            [
             0.2,
             "#de77ae"
            ],
            [
             0.3,
             "#f1b6da"
            ],
            [
             0.4,
             "#fde0ef"
            ],
            [
             0.5,
             "#f7f7f7"
            ],
            [
             0.6,
             "#e6f5d0"
            ],
            [
             0.7,
             "#b8e186"
            ],
            [
             0.8,
             "#7fbc41"
            ],
            [
             0.9,
             "#4d9221"
            ],
            [
             1,
             "#276419"
            ]
           ],
           "sequential": [
            [
             0,
             "#0d0887"
            ],
            [
             0.1111111111111111,
             "#46039f"
            ],
            [
             0.2222222222222222,
             "#7201a8"
            ],
            [
             0.3333333333333333,
             "#9c179e"
            ],
            [
             0.4444444444444444,
             "#bd3786"
            ],
            [
             0.5555555555555556,
             "#d8576b"
            ],
            [
             0.6666666666666666,
             "#ed7953"
            ],
            [
             0.7777777777777778,
             "#fb9f3a"
            ],
            [
             0.8888888888888888,
             "#fdca26"
            ],
            [
             1,
             "#f0f921"
            ]
           ],
           "sequentialminus": [
            [
             0,
             "#0d0887"
            ],
            [
             0.1111111111111111,
             "#46039f"
            ],
            [
             0.2222222222222222,
             "#7201a8"
            ],
            [
             0.3333333333333333,
             "#9c179e"
            ],
            [
             0.4444444444444444,
             "#bd3786"
            ],
            [
             0.5555555555555556,
             "#d8576b"
            ],
            [
             0.6666666666666666,
             "#ed7953"
            ],
            [
             0.7777777777777778,
             "#fb9f3a"
            ],
            [
             0.8888888888888888,
             "#fdca26"
            ],
            [
             1,
             "#f0f921"
            ]
           ]
          },
          "colorway": [
           "#636efa",
           "#EF553B",
           "#00cc96",
           "#ab63fa",
           "#FFA15A",
           "#19d3f3",
           "#FF6692",
           "#B6E880",
           "#FF97FF",
           "#FECB52"
          ],
          "font": {
           "color": "#2a3f5f"
          },
          "geo": {
           "bgcolor": "white",
           "lakecolor": "white",
           "landcolor": "#E5ECF6",
           "showlakes": true,
           "showland": true,
           "subunitcolor": "white"
          },
          "hoverlabel": {
           "align": "left"
          },
          "hovermode": "closest",
          "mapbox": {
           "style": "light"
          },
          "paper_bgcolor": "white",
          "plot_bgcolor": "#E5ECF6",
          "polar": {
           "angularaxis": {
            "gridcolor": "white",
            "linecolor": "white",
            "ticks": ""
           },
           "bgcolor": "#E5ECF6",
           "radialaxis": {
            "gridcolor": "white",
            "linecolor": "white",
            "ticks": ""
           }
          },
          "scene": {
           "xaxis": {
            "backgroundcolor": "#E5ECF6",
            "gridcolor": "white",
            "gridwidth": 2,
            "linecolor": "white",
            "showbackground": true,
            "ticks": "",
            "zerolinecolor": "white"
           },
           "yaxis": {
            "backgroundcolor": "#E5ECF6",
            "gridcolor": "white",
            "gridwidth": 2,
            "linecolor": "white",
            "showbackground": true,
            "ticks": "",
            "zerolinecolor": "white"
           },
           "zaxis": {
            "backgroundcolor": "#E5ECF6",
            "gridcolor": "white",
            "gridwidth": 2,
            "linecolor": "white",
            "showbackground": true,
            "ticks": "",
            "zerolinecolor": "white"
           }
          },
          "shapedefaults": {
           "line": {
            "color": "#2a3f5f"
           }
          },
          "ternary": {
           "aaxis": {
            "gridcolor": "white",
            "linecolor": "white",
            "ticks": ""
           },
           "baxis": {
            "gridcolor": "white",
            "linecolor": "white",
            "ticks": ""
           },
           "bgcolor": "#E5ECF6",
           "caxis": {
            "gridcolor": "white",
            "linecolor": "white",
            "ticks": ""
           }
          },
          "title": {
           "x": 0.05
          },
          "xaxis": {
           "automargin": true,
           "gridcolor": "white",
           "linecolor": "white",
           "ticks": "",
           "title": {
            "standoff": 15
           },
           "zerolinecolor": "white",
           "zerolinewidth": 2
          },
          "yaxis": {
           "automargin": true,
           "gridcolor": "white",
           "linecolor": "white",
           "ticks": "",
           "title": {
            "standoff": 15
           },
           "zerolinecolor": "white",
           "zerolinewidth": 2
          }
         }
        },
        "xaxis": {
         "title": {
          "text": "x-axis in logarithmic scale"
         },
         "type": "log"
        },
        "yaxis": {
         "range": [
          0,
          0.06
         ],
         "title": {
          "text": "y-axis"
         }
        }
       }
      }
     },
     "metadata": {},
     "output_type": "display_data"
    }
   ],
   "source": [
    "\n",
    "X,Y = m.draw()\n",
    "\n",
    "# plt.plot(X,Y)\n",
    "# plt.xlim(0,1)\n",
    "# plt.show()\n",
    "\n",
    "fig = go.Figure()\n",
    "fig.add_trace(go.Scatter(x=X, y=Y, mode='lines', name='model'))\n",
    "\n",
    "fig.update_layout(\n",
    "\txaxis_type=\"log\",\n",
    "\txaxis_title=\"x-axis in logarithmic scale\",\n",
    "\tyaxis_title=\"y-axis\",\n",
    "\t# xaxis=dict(range=[np.log10(0), np.log10(10)]),\n",
    "\tyaxis=dict(range=[0, 0.06])\n",
    ")\n",
    "\n",
    "fig.add_trace(go.Scatter(x=x, y=y, mode='markers', name='data'))\n",
    "\n",
    "\n",
    "fig.show()"
   ]
  }
 ],
 "metadata": {
  "kernelspec": {
   "display_name": "Python 3",
   "language": "python",
   "name": "python3"
  },
  "language_info": {
   "codemirror_mode": {
    "name": "ipython",
    "version": 3
   },
   "file_extension": ".py",
   "mimetype": "text/x-python",
   "name": "python",
   "nbconvert_exporter": "python",
   "pygments_lexer": "ipython3",
   "version": "3.13.0"
  }
 },
 "nbformat": 4,
 "nbformat_minor": 2
}
