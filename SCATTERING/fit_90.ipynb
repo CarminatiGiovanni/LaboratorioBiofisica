{
 "cells": [
  {
   "cell_type": "code",
   "execution_count": 11,
   "metadata": {},
   "outputs": [],
   "source": [
    "import numpy as np\n",
    "import pandas as pd\n",
    "from matplotlib import pyplot as plt"
   ]
  },
  {
   "cell_type": "code",
   "execution_count": 12,
   "metadata": {},
   "outputs": [
    {
     "data": {
      "text/html": [
       "<div>\n",
       "<style scoped>\n",
       "    .dataframe tbody tr th:only-of-type {\n",
       "        vertical-align: middle;\n",
       "    }\n",
       "\n",
       "    .dataframe tbody tr th {\n",
       "        vertical-align: top;\n",
       "    }\n",
       "\n",
       "    .dataframe thead th {\n",
       "        text-align: right;\n",
       "    }\n",
       "</style>\n",
       "<table border=\"1\" class=\"dataframe\">\n",
       "  <thead>\n",
       "    <tr style=\"text-align: right;\">\n",
       "      <th></th>\n",
       "      <th>0</th>\n",
       "      <th>1</th>\n",
       "      <th>2</th>\n",
       "      <th>3</th>\n",
       "      <th>4</th>\n",
       "    </tr>\n",
       "  </thead>\n",
       "  <tbody>\n",
       "    <tr>\n",
       "      <th>0</th>\n",
       "      <td>0.000025</td>\n",
       "      <td>79.37900</td>\n",
       "      <td>0.0</td>\n",
       "      <td>0.0</td>\n",
       "      <td>0.0</td>\n",
       "    </tr>\n",
       "    <tr>\n",
       "      <th>1</th>\n",
       "      <td>0.000050</td>\n",
       "      <td>72.07280</td>\n",
       "      <td>0.0</td>\n",
       "      <td>0.0</td>\n",
       "      <td>0.0</td>\n",
       "    </tr>\n",
       "    <tr>\n",
       "      <th>2</th>\n",
       "      <td>0.000075</td>\n",
       "      <td>56.17480</td>\n",
       "      <td>0.0</td>\n",
       "      <td>0.0</td>\n",
       "      <td>0.0</td>\n",
       "    </tr>\n",
       "    <tr>\n",
       "      <th>3</th>\n",
       "      <td>0.000100</td>\n",
       "      <td>17.85480</td>\n",
       "      <td>0.0</td>\n",
       "      <td>0.0</td>\n",
       "      <td>0.0</td>\n",
       "    </tr>\n",
       "    <tr>\n",
       "      <th>4</th>\n",
       "      <td>0.000125</td>\n",
       "      <td>6.18009</td>\n",
       "      <td>0.0</td>\n",
       "      <td>0.0</td>\n",
       "      <td>0.0</td>\n",
       "    </tr>\n",
       "  </tbody>\n",
       "</table>\n",
       "</div>"
      ],
      "text/plain": [
       "          0         1    2    3    4\n",
       "0  0.000025  79.37900  0.0  0.0  0.0\n",
       "1  0.000050  72.07280  0.0  0.0  0.0\n",
       "2  0.000075  56.17480  0.0  0.0  0.0\n",
       "3  0.000100  17.85480  0.0  0.0  0.0\n",
       "4  0.000125   6.18009  0.0  0.0  0.0"
      ]
     },
     "execution_count": 12,
     "metadata": {},
     "output_type": "execute_result"
    }
   ],
   "source": [
    "data = pd.read_csv('data/g_90.txt',sep='\\t ',header=None,engine='python')\n",
    "data.head()"
   ]
  },
  {
   "cell_type": "code",
   "execution_count": 13,
   "metadata": {},
   "outputs": [
    {
     "data": {
      "image/png": "[encoded data removed]",
      "text/plain": [
       "<Figure size 640x480 with 1 Axes>"
      ]
     },
     "metadata": {},
     "output_type": "display_data"
    }
   ],
   "source": [
    "x = data[0]\n",
    "y = data[1]\n",
    "\n",
    "y = np.array(y)\n",
    "x = np.array(x)\n",
    "\n",
    "\n",
    "plt.plot(x,y)\n",
    "plt.xscale('log')\n",
    "plt.xlim(0.01,10)\n",
    "plt.ylim(0,0.1)\n",
    "plt.show()"
   ]
  },
  {
   "cell_type": "code",
   "execution_count": 19,
   "metadata": {},
   "outputs": [
    {
     "data": {
      "application/vnd.plotly.v1+json": {
       "config": {
        "plotlyServerURL": "https://plot.ly"
       },
       "data": [
        {
         "mode": "lines",
         "name": "data",
         "type": "scatter",
         "x": {
          "bdata": "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",
          "dtype": "f8"
         },
         "y": {
          "bdata": "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",
          "dtype": "f8"
         }
        }
       ],
       "layout": {
        "template": {
         "data": {
          "bar": [
           {
            "error_x": {
             "color": "#2a3f5f"
            },
            "error_y": {
             "color": "#2a3f5f"
            },
            "marker": {
             "line": {
              "color": "#E5ECF6",
              "width": 0.5
             },
             "pattern": {
              "fillmode": "overlay",
              "size": 10,
              "solidity": 0.2
             }
            },
            "type": "bar"
           }
          ],
          "barpolar": [
           {
            "marker": {
             "line": {
              "color": "#E5ECF6",
              "width": 0.5
             },
             "pattern": {
              "fillmode": "overlay",
              "size": 10,
              "solidity": 0.2
             }
            },
            "type": "barpolar"
           }
          ],
          "carpet": [
           {
            "aaxis": {
             "endlinecolor": "#2a3f5f",
             "gridcolor": "white",
             "linecolor": "white",
             "minorgridcolor": "white",
             "startlinecolor": "#2a3f5f"
            },
            "baxis": {
             "endlinecolor": "#2a3f5f",
             "gridcolor": "white",
             "linecolor": "white",
             "minorgridcolor": "white",
             "startlinecolor": "#2a3f5f"
            },
            "type": "carpet"
           }
          ],
          "choropleth": [
           {
            "colorbar": {
             "outlinewidth": 0,
             "ticks": ""
            },
            "type": "choropleth"
           }
          ],
          "contour": [
           {
            "colorbar": {
             "outlinewidth": 0,
             "ticks": ""
            },
            "colorscale": [
             [
              0,
              "#0d0887"
             ],
             [
              0.1111111111111111,
              "#46039f"
             ],
             [
              0.2222222222222222,
              "#7201a8"
             ],
             [
              0.3333333333333333,
              "#9c179e"
             ],
             [
              0.4444444444444444,
              "#bd3786"
             ],
             [
              0.5555555555555556,
              "#d8576b"
             ],
             [
              0.6666666666666666,
              "#ed7953"
             ],
             [
              0.7777777777777778,
              "#fb9f3a"
             ],
             [
              0.8888888888888888,
              "#fdca26"
             ],
             [
              1,
              "#f0f921"
             ]
            ],
            "type": "contour"
           }
          ],
          "contourcarpet": [
           {
            "colorbar": {
             "outlinewidth": 0,
             "ticks": ""
            },
            "type": "contourcarpet"
           }
          ],
          "heatmap": [
           {
            "colorbar": {
             "outlinewidth": 0,
             "ticks": ""
            },
            "colorscale": [
             [
              0,
              "#0d0887"
             ],
             [
              0.1111111111111111,
              "#46039f"
             ],
             [
              0.2222222222222222,
              "#7201a8"
             ],
             [
              0.3333333333333333,
              "#9c179e"
             ],
             [
              0.4444444444444444,
              "#bd3786"
             ],
             [
              0.5555555555555556,
              "#d8576b"
             ],
             [
              0.6666666666666666,
              "#ed7953"
             ],
             [
              0.7777777777777778,
              "#fb9f3a"
             ],
             [
              0.8888888888888888,
              "#fdca26"
             ],
             [
              1,
              "#f0f921"
             ]
            ],
            "type": "heatmap"
           }
          ],
          "histogram": [
           {
            "marker": {
             "pattern": {
              "fillmode": "overlay",
              "size": 10,
              "solidity": 0.2
             }
            },
            "type": "histogram"
           }
          ],
          "histogram2d": [
           {
            "colorbar": {
             "outlinewidth": 0,
             "ticks": ""
            },
            "colorscale": [
             [
              0,
              "#0d0887"
             ],
             [
              0.1111111111111111,
              "#46039f"
             ],
             [
              0.2222222222222222,
              "#7201a8"
             ],
             [
              0.3333333333333333,
              "#9c179e"
             ],
             [
              0.4444444444444444,
              "#bd3786"
             ],
             [
              0.5555555555555556,
              "#d8576b"
             ],
             [
              0.6666666666666666,
              "#ed7953"
             ],
             [
              0.7777777777777778,
              "#fb9f3a"
             ],
             [
              0.8888888888888888,
              "#fdca26"
             ],
             [
              1,
              "#f0f921"
             ]
            ],
            "type": "histogram2d"
           }
          ],
          "histogram2dcontour": [
           {
            "colorbar": {
             "outlinewidth": 0,
             "ticks": ""
            },
            "colorscale": [
             [
              0,
              "#0d0887"
             ],
             [
              0.1111111111111111,
              "#46039f"
             ],
             [
              0.2222222222222222,
              "#7201a8"
             ],
             [
              0.3333333333333333,
              "#9c179e"
             ],
             [
              0.4444444444444444,
              "#bd3786"
             ],
             [
              0.5555555555555556,
              "#d8576b"
             ],
             [
              0.6666666666666666,
              "#ed7953"
             ],
             [
              0.7777777777777778,
              "#fb9f3a"
             ],
             [
              0.8888888888888888,
              "#fdca26"
             ],
             [
              1,
              "#f0f921"
             ]
            ],
            "type": "histogram2dcontour"
           }
          ],
          "mesh3d": [
           {
            "colorbar": {
             "outlinewidth": 0,
             "ticks": ""
            },
            "type": "mesh3d"
           }
          ],
          "parcoords": [
           {
            "line": {
             "colorbar": {
              "outlinewidth": 0,
              "ticks": ""
             }
            },
            "type": "parcoords"
           }
          ],
          "pie": [
           {
            "automargin": true,
            "type": "pie"
           }
          ],
          "scatter": [
           {
            "fillpattern": {
             "fillmode": "overlay",
             "size": 10,
             "solidity": 0.2
            },
            "type": "scatter"
           }
          ],
          "scatter3d": [
           {
            "line": {
             "colorbar": {
              "outlinewidth": 0,
              "ticks": ""
             }
            },
            "marker": {
             "colorbar": {
              "outlinewidth": 0,
              "ticks": ""
             }
            },
            "type": "scatter3d"
           }
          ],
          "scattercarpet": [
           {
            "marker": {
             "colorbar": {
              "outlinewidth": 0,
              "ticks": ""
             }
            },
            "type": "scattercarpet"
           }
          ],
          "scattergeo": [
           {
            "marker": {
             "colorbar": {
              "outlinewidth": 0,
              "ticks": ""
             }
            },
            "type": "scattergeo"
           }
          ],
          "scattergl": [
           {
            "marker": {
             "colorbar": {
              "outlinewidth": 0,
              "ticks": ""
             }
            },
            "type": "scattergl"
           }
          ],
          "scattermap": [
           {
            "marker": {
             "colorbar": {
              "outlinewidth": 0,
              "ticks": ""
             }
            },
            "type": "scattermap"
           }
          ],
          "scattermapbox": [
           {
            "marker": {
             "colorbar": {
              "outlinewidth": 0,
              "ticks": ""
             }
            },
            "type": "scattermapbox"
           }
          ],
          "scatterpolar": [
           {
            "marker": {
             "colorbar": {
              "outlinewidth": 0,
              "ticks": ""
             }
            },
            "type": "scatterpolar"
           }
          ],
          "scatterpolargl": [
           {
            "marker": {
             "colorbar": {
              "outlinewidth": 0,
              "ticks": ""
             }
            },
            "type": "scatterpolargl"
           }
          ],
          "scatterternary": [
           {
            "marker": {
             "colorbar": {
              "outlinewidth": 0,
              "ticks": ""
             }
            },
            "type": "scatterternary"
           }
          ],
          "surface": [
           {
            "colorbar": {
             "outlinewidth": 0,
             "ticks": ""
            },
            "colorscale": [
             [
              0,
              "#0d0887"
             ],
             [
              0.1111111111111111,
              "#46039f"
             ],
             [
              0.2222222222222222,
              "#7201a8"
             ],
             [
              0.3333333333333333,
              "#9c179e"
             ],
             [
              0.4444444444444444,
              "#bd3786"
             ],
             [
              0.5555555555555556,
              "#d8576b"
             ],
             [
              0.6666666666666666,
              "#ed7953"
             ],
             [
              0.7777777777777778,
              "#fb9f3a"
             ],
             [
              0.8888888888888888,
              "#fdca26"
             ],
             [
              1,
              "#f0f921"
             ]
            ],
            "type": "surface"
           }
          ],
          "table": [
           {
            "cells": {
             "fill": {
              "color": "#EBF0F8"
             },
             "line": {
              "color": "white"
             }
            },
            "header": {
             "fill": {
              "color": "#C8D4E3"
             },
             "line": {
              "color": "white"
             }
            },
            "type": "table"
           }
          ]
         },
         "layout": {
          "annotationdefaults": {
           "arrowcolor": "#2a3f5f",
           "arrowhead": 0,
           "arrowwidth": 1
          },
          "autotypenumbers": "strict",
          "coloraxis": {
           "colorbar": {
            "outlinewidth": 0,
            "ticks": ""
           }
          },
          "colorscale": {
           "diverging": [
            [
             0,
             "#8e0152"
            ],
            [
             0.1,
             "#c51b7d"
            ],
            [
             0.2,
             "#de77ae"
            ],
            [
             0.3,
             "#f1b6da"
            ],
            [
             0.4,
             "#fde0ef"
            ],
            [
             0.5,
             "#f7f7f7"
            ],
            [
             0.6,
             "#e6f5d0"
            ],
            [
             0.7,
             "#b8e186"
            ],
            [
             0.8,
             "#7fbc41"
            ],
            [
             0.9,
             "#4d9221"
            ],
            [
             1,
             "#276419"
            ]
           ],
           "sequential": [
            [
             0,
             "#0d0887"
            ],
            [
             0.1111111111111111,
             "#46039f"
            ],
            [
             0.2222222222222222,
             "#7201a8"
            ],
            [
             0.3333333333333333,
             "#9c179e"
            ],
            [
             0.4444444444444444,
             "#bd3786"
            ],
            [
             0.5555555555555556,
             "#d8576b"
            ],
            [
             0.6666666666666666,
             "#ed7953"
            ],
            [
             0.7777777777777778,
             "#fb9f3a"
            ],
            [
             0.8888888888888888,
             "#fdca26"
            ],
            [
             1,
             "#f0f921"
            ]
           ],
           "sequentialminus": [
            [
             0,
             "#0d0887"
            ],
            [
             0.1111111111111111,
             "#46039f"
            ],
            [
             0.2222222222222222,
             "#7201a8"
            ],
            [
             0.3333333333333333,
             "#9c179e"
            ],
            [
             0.4444444444444444,
             "#bd3786"
            ],
            [
             0.5555555555555556,
             "#d8576b"
            ],
            [
             0.6666666666666666,
             "#ed7953"
            ],
            [
             0.7777777777777778,
             "#fb9f3a"
            ],
            [
             0.8888888888888888,
             "#fdca26"
            ],
            [
             1,
             "#f0f921"
            ]
           ]
          },
          "colorway": [
           "#636efa",
           "#EF553B",
           "#00cc96",
           "#ab63fa",
           "#FFA15A",
           "#19d3f3",
           "#FF6692",
           "#B6E880",
           "#FF97FF",
           "#FECB52"
          ],
          "font": {
           "color": "#2a3f5f"
          },
          "geo": {
           "bgcolor": "white",
           "lakecolor": "white",
           "landcolor": "#E5ECF6",
           "showlakes": true,
           "showland": true,
           "subunitcolor": "white"
          },
          "hoverlabel": {
           "align": "left"
          },
          "hovermode": "closest",
          "mapbox": {
           "style": "light"
          },
          "paper_bgcolor": "white",
          "plot_bgcolor": "#E5ECF6",
          "polar": {
           "angularaxis": {
            "gridcolor": "white",
            "linecolor": "white",
            "ticks": ""
           },
           "bgcolor": "#E5ECF6",
           "radialaxis": {
            "gridcolor": "white",
            "linecolor": "white",
            "ticks": ""
           }
          },
          "scene": {
           "xaxis": {
            "backgroundcolor": "#E5ECF6",
            "gridcolor": "white",
            "gridwidth": 2,
            "linecolor": "white",
            "showbackground": true,
            "ticks": "",
            "zerolinecolor": "white"
           },
           "yaxis": {
            "backgroundcolor": "#E5ECF6",
            "gridcolor": "white",
            "gridwidth": 2,
            "linecolor": "white",
            "showbackground": true,
            "ticks": "",
            "zerolinecolor": "white"
           },
           "zaxis": {
            "backgroundcolor": "#E5ECF6",
            "gridcolor": "white",
            "gridwidth": 2,
            "linecolor": "white",
            "showbackground": true,
            "ticks": "",
            "zerolinecolor": "white"
           }
          },
          "shapedefaults": {
           "line": {
            "color": "#2a3f5f"
           }
          },
          "ternary": {
           "aaxis": {
            "gridcolor": "white",
            "linecolor": "white",
            "ticks": ""
           },
           "baxis": {
            "gridcolor": "white",
            "linecolor": "white",
            "ticks": ""
           },
           "bgcolor": "#E5ECF6",
           "caxis": {
            "gridcolor": "white",
            "linecolor": "white",
            "ticks": ""
           }
          },
          "title": {
           "x": 0.05
          },
          "xaxis": {
           "automargin": true,
           "gridcolor": "white",
           "linecolor": "white",
           "ticks": "",
           "title": {
            "standoff": 15
           },
           "zerolinecolor": "white",
           "zerolinewidth": 2
          },
          "yaxis": {
           "automargin": true,
           "gridcolor": "white",
           "linecolor": "white",
           "ticks": "",
           "title": {
            "standoff": 15
           },
           "zerolinecolor": "white",
           "zerolinewidth": 2
          }
         }
        },
        "xaxis": {
         "range": [
          -1,
          1
         ],
         "title": {
          "text": "x-axis in logarithmic scale"
         },
         "type": "log"
        },
        "yaxis": {
         "range": [
          0,
          0.1
         ],
         "title": {
          "text": "y-axis"
         }
        }
       }
      }
     },
     "metadata": {},
     "output_type": "display_data"
    }
   ],
   "source": [
    "import plotly.express as px \n",
    "import plotly.graph_objects as go \n",
    "import numpy as np \n",
    "fig = go.Figure()\n",
    "\n",
    "fig.add_trace(go.Scatter(x=x, y=y, mode='lines', name='data'))\n",
    "\n",
    "fig.update_layout(\n",
    "\txaxis_type=\"log\",\n",
    "\txaxis_title=\"x-axis in logarithmic scale\",\n",
    "\tyaxis_title=\"y-axis\",\n",
    "\txaxis=dict(range=[np.log10(0.1), np.log10(10)]),\n",
    "    yaxis=dict(range=[0,0.1])\n",
    ")\n",
    "\n",
    "fig.show()\n"
   ]
  },
  {
   "cell_type": "code",
   "execution_count": null,
   "metadata": {},
   "outputs": [
    {
     "name": "stdout",
     "output_type": "stream",
     "text": [
      "<class 'numpy.ndarray'>\n"
     ]
    }
   ],
   "source": [
    "print(type(np.array(y)))"
   ]
  },
  {
   "cell_type": "code",
   "execution_count": null,
   "metadata": {},
   "outputs": [
    {
     "name": "stderr",
     "output_type": "stream",
     "text": [
      "C:\\Users\\jocar\\AppData\\Local\\Temp\\ipykernel_8092\\1136748511.py:4: RuntimeWarning: overflow encountered in exp\n",
      "  return a*np.exp(γ*x)+b\n",
      "C:\\Users\\jocar\\AppData\\Roaming\\Python\\Python313\\site-packages\\iminuit\\cost.py:172: RuntimeWarning: overflow encountered in multiply\n",
      "  return z * z\n"
     ]
    },
    {
     "name": "stdout",
     "output_type": "stream",
     "text": [
      "----------------- VALORI FIT: -----------------\n",
      "A: 1.0 ± nan \n",
      "B: 1.0 ± nan \n",
      "γ: (2.6 ± nan)e3 \n",
      "\n",
      "dof: 212\n",
      "chi2: inf\n",
      "chi2 ridotto: inf\n",
      "pvalue: 0.0\n",
      "------------------------------------------------\n",
      "\n"
     ]
    }
   ],
   "source": [
    "from labbiofisica import Interpolazione\n",
    "\n",
    "def f (x, a, b, γ):\n",
    "    return a*np.exp(γ*x)+b\n",
    "\n",
    "simgaY = np.float64(1)\n",
    "\n",
    "m = Interpolazione(x,y,simgaY,f,guess=[1.0,1.0,2600.0],names=['A','B','γ'])\n",
    "print(m)\n",
    "\n"
   ]
  }
 ],
 "metadata": {
  "kernelspec": {
   "display_name": "Python 3",
   "language": "python",
   "name": "python3"
  },
  "language_info": {
   "codemirror_mode": {
    "name": "ipython",
    "version": 3
   },
   "file_extension": ".py",
   "mimetype": "text/x-python",
   "name": "python",
   "nbconvert_exporter": "python",
   "pygments_lexer": "ipython3",
   "version": "3.13.0"
  }
 },
 "nbformat": 4,
 "nbformat_minor": 2
}
