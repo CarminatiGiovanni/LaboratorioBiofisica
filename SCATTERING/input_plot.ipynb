{
 "cells": [
  {
   "cell_type": "code",
   "execution_count": 6,
   "metadata": {},
   "outputs": [],
   "source": [
    "from matplotlib import pyplot as plt\n",
    "import numpy as np\n",
    "import pandas as pd\n",
    "import plotly.express as px\n",
    "import os\n",
    "import sys\n",
    "import plotly.graph_objects as go \n",
    "dir_path = os.path.abspath('')\n",
    "sys.path.append(dir_path + '/../')\n",
    "from labbiofisica import Interpolazione, final_val"
   ]
  },
  {
   "cell_type": "code",
   "execution_count": 7,
   "metadata": {},
   "outputs": [],
   "source": [
    "# filename = './data2/g_60_2.asc'\n",
    "# read2 = pd.read_csv(filename, skiprows=248, nrows=254, sep='\\t', encoding='ISO-8859-1',header=None)\n",
    "# t = read2[0].to_numpy()/1000\n",
    "# I = read2[1].to_numpy()"
   ]
  },
  {
   "cell_type": "code",
   "execution_count": 8,
   "metadata": {},
   "outputs": [],
   "source": [
    "# dati non filtrati\n",
    "\n",
    "# Carico i dati {θ: {t: [], g: [], sigmag: []}}\n",
    "\n",
    "data = {}\n",
    "\n",
    "TETA = [40,50,60,70,80,90,100,110,120,130] \n",
    "GAMMA = []\n",
    "sigmaGAMMA = []\n",
    "\n",
    "# t convertito in secondi, si considerano dati solo tra 0.1 e 10 ms a causa del rumore\n",
    "for θ in TETA:\n",
    "    filename = f'./data2/g_{θ}_2.asc'\n",
    "    \n",
    "    read = pd.read_csv(filename, skiprows=30, nrows=245 - 30, sep='\\t', encoding='ISO-8859-1')\n",
    "\n",
    "    # print(read.columns[2:12])\n",
    "\n",
    "    # read = read[(read['Lag [ms]'] >= 0.1) & (read['Lag [ms]'] <= 10)]\n",
    "    read['std'] = read.loc[:, read.columns[2:12]].std(axis=1) #  / np.sqrt(10 - 1)\n",
    "    \n",
    "    t = read['Lag [ms]'].to_numpy()/1000\n",
    "    g = read['Average'].to_numpy()\n",
    "    σg = read['std'].to_numpy()\n",
    "\n",
    "    # print(θ)\n",
    "    read2 = pd.read_csv(filename, skiprows=248, nrows=250, sep='\\t', encoding='ISO-8859-1',header=None)\n",
    "    t2 = read2[0].to_numpy() #/1000\n",
    "    # print(np.mean(np.diff(t2)))\n",
    "    I = read2[1].to_numpy()\n",
    "\n",
    "    # θ = 180 - θ\n",
    "    data[θ] = {'t':t,'g':g,'sigmag': σg,'t2':t2,'I':I} # converto in secondi\n",
    "\n",
    "# TETA = 180 - TETA # inverto angoli supplementari\n",
    "TETA = np.array(TETA)"
   ]
  },
  {
   "cell_type": "code",
   "execution_count": 9,
   "metadata": {},
   "outputs": [
    {
     "data": {
      "application/vnd.plotly.v1+json": {
       "config": {
        "plotlyServerURL": "https://plot.ly"
       },
       "data": [
        {
         "error_y": {
          "array": {
           "bdata": "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",
           "dtype": "f8"
          },
          "color": "#30123b",
          "thickness": 1.5,
          "type": "data",
          "width": 3
         },
         "marker": {
          "color": "#30123b"
         },
         "mode": "lines",
         "name": "θ=40°",
         "type": "scatter",
         "x": {
          "bdata": "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",
          "dtype": "f8"
         },
         "y": {
          "bdata": "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",
          "dtype": "f8"
         }
        },
        {
         "error_y": {
          "array": {
           "bdata": "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",
           "dtype": "f8"
          },
          "color": "#4145ab",
          "thickness": 1.5,
          "type": "data",
          "width": 3
         },
         "marker": {
          "color": "#4145ab"
         },
         "mode": "lines",
         "name": "θ=50°",
         "type": "scatter",
         "x": {
          "bdata": "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",
          "dtype": "f8"
         },
         "y": {
          "bdata": "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",
          "dtype": "f8"
         }
        },
        {
         "error_y": {
          "array": {
           "bdata": "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",
           "dtype": "f8"
          },
          "color": "#4675ed",
          "thickness": 1.5,
          "type": "data",
          "width": 3
         },
         "marker": {
          "color": "#4675ed"
         },
         "mode": "lines",
         "name": "θ=60°",
         "type": "scatter",
         "x": {
          "bdata": "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",
          "dtype": "f8"
         },
         "y": {
          "bdata": "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",
          "dtype": "f8"
         }
        },
        {
         "error_y": {
          "array": {
           "bdata": "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",
           "dtype": "f8"
          },
          "color": "#39a2fc",
          "thickness": 1.5,
          "type": "data",
          "width": 3
         },
         "marker": {
          "color": "#39a2fc"
         },
         "mode": "lines",
         "name": "θ=70°",
         "type": "scatter",
         "x": {
          "bdata": "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",
          "dtype": "f8"
         },
         "y": {
          "bdata": "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",
          "dtype": "f8"
         }
        },
        {
         "error_y": {
          "array": {
           "bdata": "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",
           "dtype": "f8"
          },
          "color": "#1bcfd4",
          "thickness": 1.5,
          "type": "data",
          "width": 3
         },
         "marker": {
          "color": "#1bcfd4"
         },
         "mode": "lines",
         "name": "θ=80°",
         "type": "scatter",
         "x": {
          "bdata": "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",
          "dtype": "f8"
         },
         "y": {
          "bdata": "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",
          "dtype": "f8"
         }
        },
        {
         "error_y": {
          "array": {
           "bdata": "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",
           "dtype": "f8"
          },
          "color": "#24eca6",
          "thickness": 1.5,
          "type": "data",
          "width": 3
         },
         "marker": {
          "color": "#24eca6"
         },
         "mode": "lines",
         "name": "θ=90°",
         "type": "scatter",
         "x": {
          "bdata": "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",
          "dtype": "f8"
         },
         "y": {
          "bdata": "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",
          "dtype": "f8"
         }
        },
        {
         "error_y": {
          "array": {
           "bdata": "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",
           "dtype": "f8"
          },
          "color": "#61fc6c",
          "thickness": 1.5,
          "type": "data",
          "width": 3
         },
         "marker": {
          "color": "#61fc6c"
         },
         "mode": "lines",
         "name": "θ=100°",
         "type": "scatter",
         "x": {
          "bdata": "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",
          "dtype": "f8"
         },
         "y": {
          "bdata": "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",
          "dtype": "f8"
         }
        },
        {
         "error_y": {
          "array": {
           "bdata": "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",
           "dtype": "f8"
          },
          "color": "#a4fc3b",
          "thickness": 1.5,
          "type": "data",
          "width": 3
         },
         "marker": {
          "color": "#a4fc3b"
         },
         "mode": "lines",
         "name": "θ=110°",
         "type": "scatter",
         "x": {
          "bdata": "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",
          "dtype": "f8"
         },
         "y": {
          "bdata": "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",
          "dtype": "f8"
         }
        },
        {
         "error_y": {
          "array": {
           "bdata": "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",
           "dtype": "f8"
          },
          "color": "#d1e834",
          "thickness": 1.5,
          "type": "data",
          "width": 3
         },
         "marker": {
          "color": "#d1e834"
         },
         "mode": "lines",
         "name": "θ=120°",
         "type": "scatter",
         "x": {
          "bdata": "Sa+8mvLXWj5Jr7ya8tdqPnaDDfT1IXQ+Sa+8mvLXej6N7bWg98aAPnaDDfT1IYQ+XxllR/R8hz5Jr7ya8teKPjFFFO7wMo4+je21oPfGkD6CuGHKdnSSPnaDDfT1IZQ+ak65HXXPlT5fGWVH9HyXPlTkEHFzKpk+Sa+8mvLXmj4xRRTu8DKePo3ttaD3xqA+grhhynZ0oj52gw309SGkPmpOuR11z6U+XxllR/R8pz5U5BBxcyqpPkmvvJry16o+MUUU7vAyrj6N7bWg98awPoK4Ycp2dLI+doMN9PUhtD5qTrkddc+1Pl8ZZUf0fLc+VOQQcXMquT5Jr7ya8te6PjFFFO7wMr4+je21oPfGwD6CuGHKdnTCPnaDDfT1IcQ+ak65HXXPxT5fGWVH9HzHPlTkEHFzKsk+Sa+8mvLXyj4xRRTu8DLOPo3ttaD3xtA+grhhynZ00j52gw309SHUPmpOuR11z9U+XxllR/R81z5U5BBxcyrZPkmvvJry19o+MUUU7vAy3j6N7bWg98bgPoK4Ycp2dOI+doMN9PUh5D5qTrkddc/lPl8ZZUf0fOc+VOQQcXMq6T5Jr7ya8tfqPjFFFO7wMu4+je21oPfG8D6CuGHKdnTyPnaDDfT1IfQ+ak65HXXP9T5fGWVH9Hz3PlTkEHFzKvk+Sa+8mvLX+j4xRRTu8DL+Po3ttaD3xgA/grhhynZ0Aj92gw309SEEP2pOuR11zwU/XxllR/R8Bz9U5BBxcyoJP0mvvJry1wo/MUUU7vAyDj+N7bWg98YQP4K4Ycp2dBI/doMN9PUhFD9qTrkddc8VP18ZZUf0fBc/VOQQcXMqGT9Jr7ya8tcaPzFFFO7wMh4/je21oPfGID+CuGHKdnQiP3aDDfT1ISQ/ak65HXXPJT9fGWVH9HwnP1TkEHFzKik/Sa+8mvLXKj8xRRTu8DIuP43ttaD3xjA/grhhynZ0Mj92gw309SE0P2pOuR11zzU/XxllR/R8Nz9U5BBxcyo5P0mvvJry1zo/MUUU7vAyPj+N7bWg98ZAP4K4Ycp2dEI/doMN9PUhRD9qTrkddc9FP18ZZUf0fEc/VOQQcXMqST9Jr7ya8tdKPzFFFO7wMk4/je21oPfGUD+CuGHKdnRSP3aDDfT1IVQ/ak65HXXPVT9fGWVH9HxXP1TkEHFzKlk/Sa+8mvLXWj8xRRTu8DJeP43ttaD3xmA/grhhynZ0Yj92gw309SFkP2pOuR11z2U/XxllR/R8Zz9U5BBxcyppP0mvvJry12o/MUUU7vAybj+N7bWg98ZwP4K4Ycp2dHI/doMN9PUhdD9qTrkddc91P18ZZUf0fHc/VOQQcXMqeT9Jr7ya8td6PzFFFO7wMn4/je21oPfGgD+CuGHKdnSCP3aDDfT1IYQ/ak65HXXPhT9fGWVH9HyHP1TkEHFzKok/Sa+8mvLXij8xRRTu8DKOP43ttaD3xpA/grhhynZ0kj92gw309SGUP2pOuR11z5U/XxllR/R8lz9U5BBxcyqZP0mvvJry15o/MUUU7vAynj+N7bWg98agP4K4Ycp2dKI/doMN9PUhpD9qTrkddc+lP18ZZUf0fKc/VOQQcXMqqT9Jr7ya8teqPzFFFO7wMq4/je21oPfGsD+CuGHKdnSyP3aDDfT1IbQ/ak65HXXPtT9fGWVH9Hy3P1TkEHFzKrk/+FW5UPnXuj+JmBJJ9DK+P43ttaD3xsA/1o7iHHV0wj8fMA+Z8iHEP8Oht3h4z8U/C0Pk9PV8xz9U5BBxcyrJP52FPe3w18o/iZgSSfQyzj+N7bWg98bQP9aO4hx1dNI/TBjNyvYh1D+UuflGdM/VPwtD5PT1fNc/VOQQcXMq2T+dhT3t8NfaP1uwVBfwMt4/je21oPfG4D/tgsE1d3TiP0wYzcr2IeQ/lLn5RnTP5T/1TgXc83znP1TkEHFzKuk/s3kcBvPX6j9bsFQX8DLuP7rVc9L7xvA/v5oDBHN08j81JO6x9CH0P6yt2F92z/U/IjfDDfh89z8m/FI/byr5P52FPe3w1/o/iZgSSfQy/j+Cc0aU9sYAQPj8MEJ4dAJANSTusfQhBECsrdhfds8FQOnUlc/yfAdAX16AfXQqCUCdhT3t8NcKQFA25QrvMg5AgnNGlPbGEEDbSxqjdXQSQFLVBFH3IRRArK3YX3bPFUAFhqxu9XwXQF9egH10KhlAuTZUjPPXGkBt5/up8TIeQBDM0eP3xiBAaaSl8nZ0IkAZc9cS8iEkQKyt2F92zyVAPujZrPp8J0BDrWnecSopQA==",
          "dtype": "f8"
         },
         "y": {
          "bdata": "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",
          "dtype": "f8"
         }
        },
        {
         "error_y": {
          "array": {
           "bdata": "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",
           "dtype": "f8"
          },
          "color": "#f3c63a",
          "thickness": 1.5,
          "type": "data",
          "width": 3
         },
         "marker": {
          "color": "#f3c63a"
         },
         "mode": "lines",
         "name": "θ=130°",
         "type": "scatter",
         "x": {
          "bdata": "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",
          "dtype": "f8"
         },
         "y": {
          "bdata": "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",
          "dtype": "f8"
         }
        }
       ],
       "layout": {
        "font": {
         "color": "Black",
         "size": 18
        },
        "height": 600,
        "legend": {
         "x": 1,
         "xanchor": "right",
         "y": 1,
         "yanchor": "top"
        },
        "plot_bgcolor": "white",
        "shapes": [
         {
          "fillcolor": "red",
          "layer": "below",
          "line": {
           "width": 0
          },
          "opacity": 0.3,
          "type": "rect",
          "x0": 0.0001,
          "x1": 0.01,
          "y0": -0.1,
          "y1": 125
         }
        ],
        "template": {
         "data": {
          "bar": [
           {
            "error_x": {
             "color": "#2a3f5f"
            },
            "error_y": {
             "color": "#2a3f5f"
            },
            "marker": {
             "line": {
              "color": "#E5ECF6",
              "width": 0.5
             },
             "pattern": {
              "fillmode": "overlay",
              "size": 10,
              "solidity": 0.2
             }
            },
            "type": "bar"
           }
          ],
          "barpolar": [
           {
            "marker": {
             "line": {
              "color": "#E5ECF6",
              "width": 0.5
             },
             "pattern": {
              "fillmode": "overlay",
              "size": 10,
              "solidity": 0.2
             }
            },
            "type": "barpolar"
           }
          ],
          "carpet": [
           {
            "aaxis": {
             "endlinecolor": "#2a3f5f",
             "gridcolor": "white",
             "linecolor": "white",
             "minorgridcolor": "white",
             "startlinecolor": "#2a3f5f"
            },
            "baxis": {
             "endlinecolor": "#2a3f5f",
             "gridcolor": "white",
             "linecolor": "white",
             "minorgridcolor": "white",
             "startlinecolor": "#2a3f5f"
            },
            "type": "carpet"
           }
          ],
          "choropleth": [
           {
            "colorbar": {
             "outlinewidth": 0,
             "ticks": ""
            },
            "type": "choropleth"
           }
          ],
          "contour": [
           {
            "colorbar": {
             "outlinewidth": 0,
             "ticks": ""
            },
            "colorscale": [
             [
              0,
              "#0d0887"
             ],
             [
              0.1111111111111111,
              "#46039f"
             ],
             [
              0.2222222222222222,
              "#7201a8"
             ],
             [
              0.3333333333333333,
              "#9c179e"
             ],
             [
              0.4444444444444444,
              "#bd3786"
             ],
             [
              0.5555555555555556,
              "#d8576b"
             ],
             [
              0.6666666666666666,
              "#ed7953"
             ],
             [
              0.7777777777777778,
              "#fb9f3a"
             ],
             [
              0.8888888888888888,
              "#fdca26"
             ],
             [
              1,
              "#f0f921"
             ]
            ],
            "type": "contour"
           }
          ],
          "contourcarpet": [
           {
            "colorbar": {
             "outlinewidth": 0,
             "ticks": ""
            },
            "type": "contourcarpet"
           }
          ],
          "heatmap": [
           {
            "colorbar": {
             "outlinewidth": 0,
             "ticks": ""
            },
            "colorscale": [
             [
              0,
              "#0d0887"
             ],
             [
              0.1111111111111111,
              "#46039f"
             ],
             [
              0.2222222222222222,
              "#7201a8"
             ],
             [
              0.3333333333333333,
              "#9c179e"
             ],
             [
              0.4444444444444444,
              "#bd3786"
             ],
             [
              0.5555555555555556,
              "#d8576b"
             ],
             [
              0.6666666666666666,
              "#ed7953"
             ],
             [
              0.7777777777777778,
              "#fb9f3a"
             ],
             [
              0.8888888888888888,
              "#fdca26"
             ],
             [
              1,
              "#f0f921"
             ]
            ],
            "type": "heatmap"
           }
          ],
          "histogram": [
           {
            "marker": {
             "pattern": {
              "fillmode": "overlay",
              "size": 10,
              "solidity": 0.2
             }
            },
            "type": "histogram"
           }
          ],
          "histogram2d": [
           {
            "colorbar": {
             "outlinewidth": 0,
             "ticks": ""
            },
            "colorscale": [
             [
              0,
              "#0d0887"
             ],
             [
              0.1111111111111111,
              "#46039f"
             ],
             [
              0.2222222222222222,
              "#7201a8"
             ],
             [
              0.3333333333333333,
              "#9c179e"
             ],
             [
              0.4444444444444444,
              "#bd3786"
             ],
             [
              0.5555555555555556,
              "#d8576b"
             ],
             [
              0.6666666666666666,
              "#ed7953"
             ],
             [
              0.7777777777777778,
              "#fb9f3a"
             ],
             [
              0.8888888888888888,
              "#fdca26"
             ],
             [
              1,
              "#f0f921"
             ]
            ],
            "type": "histogram2d"
           }
          ],
          "histogram2dcontour": [
           {
            "colorbar": {
             "outlinewidth": 0,
             "ticks": ""
            },
            "colorscale": [
             [
              0,
              "#0d0887"
             ],
             [
              0.1111111111111111,
              "#46039f"
             ],
             [
              0.2222222222222222,
              "#7201a8"
             ],
             [
              0.3333333333333333,
              "#9c179e"
             ],
             [
              0.4444444444444444,
              "#bd3786"
             ],
             [
              0.5555555555555556,
              "#d8576b"
             ],
             [
              0.6666666666666666,
              "#ed7953"
             ],
             [
              0.7777777777777778,
              "#fb9f3a"
             ],
             [
              0.8888888888888888,
              "#fdca26"
             ],
             [
              1,
              "#f0f921"
             ]
            ],
            "type": "histogram2dcontour"
           }
          ],
          "mesh3d": [
           {
            "colorbar": {
             "outlinewidth": 0,
             "ticks": ""
            },
            "type": "mesh3d"
           }
          ],
          "parcoords": [
           {
            "line": {
             "colorbar": {
              "outlinewidth": 0,
              "ticks": ""
             }
            },
            "type": "parcoords"
           }
          ],
          "pie": [
           {
            "automargin": true,
            "type": "pie"
           }
          ],
          "scatter": [
           {
            "fillpattern": {
             "fillmode": "overlay",
             "size": 10,
             "solidity": 0.2
            },
            "type": "scatter"
           }
          ],
          "scatter3d": [
           {
            "line": {
             "colorbar": {
              "outlinewidth": 0,
              "ticks": ""
             }
            },
            "marker": {
             "colorbar": {
              "outlinewidth": 0,
              "ticks": ""
             }
            },
            "type": "scatter3d"
           }
          ],
          "scattercarpet": [
           {
            "marker": {
             "colorbar": {
              "outlinewidth": 0,
              "ticks": ""
             }
            },
            "type": "scattercarpet"
           }
          ],
          "scattergeo": [
           {
            "marker": {
             "colorbar": {
              "outlinewidth": 0,
              "ticks": ""
             }
            },
            "type": "scattergeo"
           }
          ],
          "scattergl": [
           {
            "marker": {
             "colorbar": {
              "outlinewidth": 0,
              "ticks": ""
             }
            },
            "type": "scattergl"
           }
          ],
          "scattermap": [
           {
            "marker": {
             "colorbar": {
              "outlinewidth": 0,
              "ticks": ""
             }
            },
            "type": "scattermap"
           }
          ],
          "scattermapbox": [
           {
            "marker": {
             "colorbar": {
              "outlinewidth": 0,
              "ticks": ""
             }
            },
            "type": "scattermapbox"
           }
          ],
          "scatterpolar": [
           {
            "marker": {
             "colorbar": {
              "outlinewidth": 0,
              "ticks": ""
             }
            },
            "type": "scatterpolar"
           }
          ],
          "scatterpolargl": [
           {
            "marker": {
             "colorbar": {
              "outlinewidth": 0,
              "ticks": ""
             }
            },
            "type": "scatterpolargl"
           }
          ],
          "scatterternary": [
           {
            "marker": {
             "colorbar": {
              "outlinewidth": 0,
              "ticks": ""
             }
            },
            "type": "scatterternary"
           }
          ],
          "surface": [
           {
            "colorbar": {
             "outlinewidth": 0,
             "ticks": ""
            },
            "colorscale": [
             [
              0,
              "#0d0887"
             ],
             [
              0.1111111111111111,
              "#46039f"
             ],
             [
              0.2222222222222222,
              "#7201a8"
             ],
             [
              0.3333333333333333,
              "#9c179e"
             ],
             [
              0.4444444444444444,
              "#bd3786"
             ],
             [
              0.5555555555555556,
              "#d8576b"
             ],
             [
              0.6666666666666666,
              "#ed7953"
             ],
             [
              0.7777777777777778,
              "#fb9f3a"
             ],
             [
              0.8888888888888888,
              "#fdca26"
             ],
             [
              1,
              "#f0f921"
             ]
            ],
            "type": "surface"
           }
          ],
          "table": [
           {
            "cells": {
             "fill": {
              "color": "#EBF0F8"
             },
             "line": {
              "color": "white"
             }
            },
            "header": {
             "fill": {
              "color": "#C8D4E3"
             },
             "line": {
              "color": "white"
             }
            },
            "type": "table"
           }
          ]
         },
         "layout": {
          "annotationdefaults": {
           "arrowcolor": "#2a3f5f",
           "arrowhead": 0,
           "arrowwidth": 1
          },
          "autotypenumbers": "strict",
          "coloraxis": {
           "colorbar": {
            "outlinewidth": 0,
            "ticks": ""
           }
          },
          "colorscale": {
           "diverging": [
            [
             0,
             "#8e0152"
            ],
            [
             0.1,
             "#c51b7d"
            ],
            [
             0.2,
             "#de77ae"
            ],
            [
             0.3,
             "#f1b6da"
            ],
            [
             0.4,
             "#fde0ef"
            ],
            [
             0.5,
             "#f7f7f7"
            ],
            [
             0.6,
             "#e6f5d0"
            ],
            [
             0.7,
             "#b8e186"
            ],
            [
             0.8,
             "#7fbc41"
            ],
            [
             0.9,
             "#4d9221"
            ],
            [
             1,
             "#276419"
            ]
           ],
           "sequential": [
            [
             0,
             "#0d0887"
            ],
            [
             0.1111111111111111,
             "#46039f"
            ],
            [
             0.2222222222222222,
             "#7201a8"
            ],
            [
             0.3333333333333333,
             "#9c179e"
            ],
            [
             0.4444444444444444,
             "#bd3786"
            ],
            [
             0.5555555555555556,
             "#d8576b"
            ],
            [
             0.6666666666666666,
             "#ed7953"
            ],
            [
             0.7777777777777778,
             "#fb9f3a"
            ],
            [
             0.8888888888888888,
             "#fdca26"
            ],
            [
             1,
             "#f0f921"
            ]
           ],
           "sequentialminus": [
            [
             0,
             "#0d0887"
            ],
            [
             0.1111111111111111,
             "#46039f"
            ],
            [
             0.2222222222222222,
             "#7201a8"
            ],
            [
             0.3333333333333333,
             "#9c179e"
            ],
            [
             0.4444444444444444,
             "#bd3786"
            ],
            [
             0.5555555555555556,
             "#d8576b"
            ],
            [
             0.6666666666666666,
             "#ed7953"
            ],
            [
             0.7777777777777778,
             "#fb9f3a"
            ],
            [
             0.8888888888888888,
             "#fdca26"
            ],
            [
             1,
             "#f0f921"
            ]
           ]
          },
          "colorway": [
           "#636efa",
           "#EF553B",
           "#00cc96",
           "#ab63fa",
           "#FFA15A",
           "#19d3f3",
           "#FF6692",
           "#B6E880",
           "#FF97FF",
           "#FECB52"
          ],
          "font": {
           "color": "#2a3f5f"
          },
          "geo": {
           "bgcolor": "white",
           "lakecolor": "white",
           "landcolor": "#E5ECF6",
           "showlakes": true,
           "showland": true,
           "subunitcolor": "white"
          },
          "hoverlabel": {
           "align": "left"
          },
          "hovermode": "closest",
          "mapbox": {
           "style": "light"
          },
          "paper_bgcolor": "white",
          "plot_bgcolor": "#E5ECF6",
          "polar": {
           "angularaxis": {
            "gridcolor": "white",
            "linecolor": "white",
            "ticks": ""
           },
           "bgcolor": "#E5ECF6",
           "radialaxis": {
            "gridcolor": "white",
            "linecolor": "white",
            "ticks": ""
           }
          },
          "scene": {
           "xaxis": {
            "backgroundcolor": "#E5ECF6",
            "gridcolor": "white",
            "gridwidth": 2,
            "linecolor": "white",
            "showbackground": true,
            "ticks": "",
            "zerolinecolor": "white"
           },
           "yaxis": {
            "backgroundcolor": "#E5ECF6",
            "gridcolor": "white",
            "gridwidth": 2,
            "linecolor": "white",
            "showbackground": true,
            "ticks": "",
            "zerolinecolor": "white"
           },
           "zaxis": {
            "backgroundcolor": "#E5ECF6",
            "gridcolor": "white",
            "gridwidth": 2,
            "linecolor": "white",
            "showbackground": true,
            "ticks": "",
            "zerolinecolor": "white"
           }
          },
          "shapedefaults": {
           "line": {
            "color": "#2a3f5f"
           }
          },
          "ternary": {
           "aaxis": {
            "gridcolor": "white",
            "linecolor": "white",
            "ticks": ""
           },
           "baxis": {
            "gridcolor": "white",
            "linecolor": "white",
            "ticks": ""
           },
           "bgcolor": "#E5ECF6",
           "caxis": {
            "gridcolor": "white",
            "linecolor": "white",
            "ticks": ""
           }
          },
          "title": {
           "x": 0.05
          },
          "xaxis": {
           "automargin": true,
           "gridcolor": "white",
           "linecolor": "white",
           "ticks": "",
           "title": {
            "standoff": 15
           },
           "zerolinecolor": "white",
           "zerolinewidth": 2
          },
          "yaxis": {
           "automargin": true,
           "gridcolor": "white",
           "linecolor": "white",
           "ticks": "",
           "title": {
            "standoff": 15
           },
           "zerolinecolor": "white",
           "zerolinewidth": 2
          }
         }
        },
        "width": 800,
        "xaxis": {
         "gridcolor": "lightgrey",
         "linecolor": "black",
         "mirror": true,
         "showline": true,
         "ticks": "outside",
         "title": {
          "text": "t (s)"
         },
         "type": "log"
        },
        "yaxis": {
         "gridcolor": "lightgrey",
         "linecolor": "black",
         "mirror": true,
         "showline": true,
         "ticks": "outside",
         "title": {
          "text": "g<sup>2</sup>(τ)"
         }
        }
       }
      }
     },
     "metadata": {},
     "output_type": "display_data"
    }
   ],
   "source": [
    "# print(data)\n",
    "\n",
    "colors = px.colors.sequential.Turbo\n",
    "\n",
    "fig = go.Figure()\n",
    "for i,θ in enumerate(data.keys()):\n",
    "    x = data[θ]['t']\n",
    "    y = data[θ]['g']\n",
    "    #γ = data[θ]['gamma']\n",
    "    sigmay = data[θ]['sigmag']\n",
    "    # X,Y = data[θ]['fit'].draw()\n",
    "\n",
    "    # plt.plot(X,Y)\n",
    "    # plt.xlim(0,1)\n",
    "    # plt.show()\n",
    "\n",
    "    #fig.add_trace(go.Scatter(x=X, y=Y, mode='lines',line_color=colors[i], showlegend=False,hoverinfo='skip'))\n",
    "\n",
    "    fig.add_trace(go.Scatter(x=x,y=y, mode='lines', name=f'θ={θ}°',\n",
    "        marker=dict(color = colors[i]),\n",
    "        error_y=dict( \n",
    "            type='data', \n",
    "            array=sigmay, \n",
    "            color=colors[i],\n",
    "            thickness=1.5, \n",
    "            width=3, \n",
    "        )))\n",
    "\n",
    "fig.update_layout(\n",
    "        xaxis_type=\"log\",\n",
    "        yaxis_title=\"g<sup>2</sup>(τ)\",\n",
    "        xaxis_title=\"t (s)\",\n",
    "        # title='g<sup>2</sup>(τ) vs t',\n",
    "        # xaxis=dict(range=[np.log10(0.0001), np.log10(0.010)]),\n",
    "        width=800,\n",
    "        height=600,\n",
    "        # title={\n",
    "        #     'text': \"Correlation Function g<sup>2</sup>(τ)\",\n",
    "        #     'y':0.9,\n",
    "        #     'x':0.5,\n",
    "        #     'xanchor': 'center',\n",
    "        #     'yanchor': 'top',\n",
    "        #     'font':dict(size=30)\n",
    "        # },\n",
    "        plot_bgcolor='white',\n",
    "        font=dict(\n",
    "            #family=\"Courier New, monospace\",\n",
    "            size=18,\n",
    "            color=\"Black\"\n",
    "        ),\n",
    "        legend=dict(\n",
    "            x=1,\n",
    "            y=1,\n",
    "            xanchor='right',\n",
    "            yanchor='top'\n",
    "        )\n",
    "        # yaxis=dict(range=[0, 0.06])\n",
    "    )\n",
    "\n",
    "fig.update_xaxes(\n",
    "    mirror=True,\n",
    "    ticks='outside',\n",
    "    showline=True,\n",
    "    linecolor='black',\n",
    "    gridcolor='lightgrey'\n",
    ")\n",
    "fig.update_yaxes(\n",
    "    mirror=True,\n",
    "    ticks='outside',\n",
    "    showline=True,\n",
    "    linecolor='black',\n",
    "    gridcolor='lightgrey'\n",
    ")\n",
    "\n",
    "# Add red transparent background\n",
    "fig.add_shape(\n",
    "    type=\"rect\",\n",
    "    x0=0.0001, x1=0.01,\n",
    "    y0=-0.1, y1=125,\n",
    "    fillcolor=\"red\",\n",
    "    opacity=0.3,\n",
    "    layer=\"below\",\n",
    "    line_width=0,\n",
    ")\n",
    "\n",
    "fig.show()"
   ]
  },
  {
   "cell_type": "code",
   "execution_count": 10,
   "metadata": {},
   "outputs": [
    {
     "data": {
      "application/vnd.plotly.v1+json": {
       "config": {
        "plotlyServerURL": "https://plot.ly"
       },
       "data": [
        {
         "marker": {
          "color": "#30123b"
         },
         "mode": "lines",
         "name": "θ=40°",
         "type": "scatter",
         "x": {
          "bdata": "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",
          "dtype": "f8"
         },
         "y": {
          "bdata": "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",
          "dtype": "f8"
         }
        },
        {
         "marker": {
          "color": "#4145ab"
         },
         "mode": "lines",
         "name": "θ=50°",
         "type": "scatter",
         "x": {
          "bdata": "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",
          "dtype": "f8"
         },
         "y": {
          "bdata": "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",
          "dtype": "f8"
         }
        },
        {
         "marker": {
          "color": "#4675ed"
         },
         "mode": "lines",
         "name": "θ=60°",
         "type": "scatter",
         "x": {
          "bdata": "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",
          "dtype": "f8"
         },
         "y": {
          "bdata": "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",
          "dtype": "f8"
         }
        },
        {
         "marker": {
          "color": "#39a2fc"
         },
         "mode": "lines",
         "name": "θ=70°",
         "type": "scatter",
         "x": {
          "bdata": "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",
          "dtype": "f8"
         },
         "y": {
          "bdata": "lufB3VlsYUBFR3L5D9thQI6SV+cY7mBA0XmNXaIkYUDjiLX4FFRhQI16iEZ3y2BAxty1hHw7YEC3KLNBJvdhQEt2bATizGFAXTP5ZpvhYUDqCUs8oGBhQJbnwd1Zb2FAcAhVavYYYkBa9bnaiixhQPXb14FzLmFAXI/C9SisYUAq499nXCphQA1slWBxZ2FAr3d/vFelYUDKN9vcmCNiQO3YCMTrxGBA3GPpQxcYYUC+wRcmUyNiQIl7LH3oHmFAInGPpQ/kYUBivrwA+51hQLKACdy6BGFAGCZTBaMVYUCmCkYldQRhQG2oGOdvkWFA9GxWfa5RYkBA+5EiMrZgQEHUfQBSQWJA0LhwICQwYkAw2A3bFiFhQLwi+N9KkGBAEr2MYrkrYUCFsYUgB1dgQDHO34RCcWFA4/xNKEREYUCHxD2WPtdhQFq77UJzNGFA1/oioS0xYUCOO6WD9TBiQMO7XMR3vGBAlDDT9q8qYkCWIY51cWRhQICaWrbWh2BA4L4OnDOPYEA/qfbpeJ5gQIpZL4ZySWFALzTXaaTxYEBBfcucLhZhQNXKhF/q62BABrth26IYYUA8MevFUGJiQNuK/WX3/WFA0A8jhEfqYEA8vVKWIQFgQLGnHf6a7WFAzO7Jw0JrYUB7vfvjvbNgQI1F09nJ42FA04cuqG+XYUDByqFFtoJhQJn1Yign32FAu2HbosyYYUCMFTWYhp5hQM6I0t7g6mFAejarPle0YUCRLGACt21hQEUvo1huuGFAAMYzaOghYUATDyibckZhQHctIR/0VGJA9Ik8SboWYUB+b9Of/VhhQL9lTpfFVWJAkE5d+SxAYUAT1VsDW1FhQHxETIkkJGJAG9gqweK3YUCwPbMkQLBhQNHoDmJnBGBA7kJznUZzY0ACSG3i5H5hQBK9jGK5K2FAznADPj/IYUDcupunOkNiQD9SRIZV5GFAnpj1Yii+YUBHOC140RdhQNy6m6c6Q2JAIVnABG7BYUCHxD2WPtphQI0LB0Ky62FAeuQPBp6cYUCaQuc1duNgQC/APjp1/mBAdXYyOEqfYECkGYums8dhQK5kx0YglmJAOGdEaW+dYUACSG3i5H5hQNaQuMfS82BAUMJM2799YEAVV5V9V65hQP8+48KBH2JA+5Y5XRYwYUCb5h2n6BthQKp9Oh4zm2BAIEHxY8yeYUCAZaVJKaZhQNNqSNxjYWBAp1zhXS4cYUAgmKPH71tgQOz6BbthmmBAW9O84xRXYUD0iTxJuhZhQIi6D0BqJ2JAYDyDhv5AYUBzY3rCEpBhQGO5pdWQimBAxM4UOq88YkD5LM+Du/JgQHE9Ctej/WBAMnIW9rSjYUBcWg2Je1lgQHNjesISkGFAychZ2NPVYEDXNO84RSZhQHHJcad0EGFAdlQ1QdTMYEAFFytqMOZgQNc07zhFJmFA2zNLAtTSYEDZPXlYqIVgQCsTfqmfb2FAU3k7wmkzYkBF9dbAVsBhQGdhTzv8fGFARpT2Bl/lYEAhk4ychblhQNRDNLqD7GFApFNXPsu/YUDi5H6HospfQMdGIF7XeGBAxOv6BbsBYUC2uTE9YalgQC6QoPgxvGBADDz3Hi4iYUAWMIFbd8VgQAqd19glAGJA4QuTqYIKYkC8kXnkD95hQPj8MEJ4sGBAB5lk5CxDYUBtqBjnb45hQOz6BbthmmBAGeJYF7dqYUD8GHPXEo1hQIpZL4ZySWFAJjYf14aYYUAbEvdY+q9hQCaN0Tqqw2JAAd4CCYpEYUDiWBe30Q5hQOXQItv5u2FAl/+QfvuRYUBIUPwYczdhQHFyv0NRVmJADjLJyFlyYUAyychZ2F1gQGowDcNH5GBAejarPle0YUCF61G4HsBiQJMYBFYOCGJA29yYnrAYYkCM22gAb6ZhQBL3WPrQI2FAasGLvoIHYkCbOLnfoTNhQOwX7IZt0GFAoMN8eQHwYECbOLnfoTNhQIeiQJ/IBGJA+5Y5XRYwYUCkpfJ2hNdhQDvkZrgB52BAR1UTRN1KYkBS8uocA8NgQBvYKsHit2FAtrkxPWGpYEDizK/mAP9gQGRA9nr3+mFAUFPL1vqgYUDt2AjE68dgQEc4LXjRFGFA/reSHRuvYEA75Ga4AedgQGFsIchBhmFAwVYJFoePYUADeAskKMRhQN9PjZdusmFAbvqzHympYUCkGYums8dhQOhNRSqMC2FALA5nfjVcYEAG2Eenrk5iQDqSy39Iz2BArd12obklYUBW1GAahqphQCS05VyKOGFAfsaFAyGEYkA3N6YnLFhhQGx4eqUsTGFAVTAqqRN4YUDkTulg/V5hQPzG155ZdWFA4bTgRV/cYECwj05d+cphQGiR7Xw/wmFAqtTsgVbJYUBpb/CFyexhQNFXkGYsUmFAqB3+mqwTYEAP7s7abcdhQJSkaybfGmJAATCeQUNcYUDp8Xub/jphQHi0ccRaV2FABWnGoukAYUAMzXUaaUViQKG5TiMtPWFABrth26IYYUDCNAwfEb1hQHwsfeiCAWJAZvfkYaE/YUA+IqZEEp9hQFslWBzOcWFAf/YjRWRYYEDYZI16iGthQLA9syRAsGFA4GdcOBDVYUCTb7a5McJgQJpC5zV242BAZkmAmlpaYUD4wmSqYLhgQJbnwd1ZbGFA4UVfQZr/YUA=",
          "dtype": "f8"
         }
        },
        {
         "marker": {
          "color": "#1bcfd4"
         },
         "mode": "lines",
         "name": "θ=80°",
         "type": "scatter",
         "x": {
          "bdata": "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",
          "dtype": "f8"
         },
         "y": {
          "bdata": "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",
          "dtype": "f8"
         }
        },
        {
         "marker": {
          "color": "#24eca6"
         },
         "mode": "lines",
         "name": "θ=90°",
         "type": "scatter",
         "x": {
          "bdata": "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",
          "dtype": "f8"
         },
         "y": {
          "bdata": "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",
          "dtype": "f8"
         }
        },
        {
         "marker": {
          "color": "#61fc6c"
         },
         "mode": "lines",
         "name": "θ=100°",
         "type": "scatter",
         "x": {
          "bdata": "xxFr8SkAvj/HEWvxKQDOP447pYP1f9Y/AAAAAAAA3j85Yi0+BcDiP3LEWnwKgOY/x53Swfo/6j8AAAAAAADuPxyxFp8C4PA/OWItPgXA8j/kTulg/Z/0PwAAAAAAgPY/HLEWnwJg+D85Yi0+BUD6P+RO6WD9H/w/AAAAAAAA/j8csRafAuD/PxyxFp8C4ABAcqd0sP7PAUAAAAAAAMACQI5Yi08BsANAHLEWnwKgBEByp3Sw/o8FQAAAAAAAgAZAjliLTwFwB0AcsRafAmAIQHKndLD+TwlAAAAAAABACkCOWItPATALQByxFp8CIAxAcqd0sP4PDUAAAAAAAAAOQI5Yi08B8A5AHLEWnwLgD0C5UzpY/2cQQAAAAAAA4BBAR6zFpwBYEUCOWItPAdARQLlTOlj/RxJAAAAAAADAEkBHrMWnADgTQI5Yi08BsBNAuVM6WP8nFEAAAAAAAKAUQEesxacAGBVAjliLTwGQFUC5UzpY/wcWQAAAAAAAgBZAR6zFpwD4FkCOWItPAXAXQLlTOlj/5xdAAAAAAABgGEBHrMWnANgYQI5Yi08BUBlAuVM6WP/HGUAAAAAAAEAaQEesxacAuBpAjliLTwEwG0C5UzpY/6cbQAAAAAAAIBxAR6zFpwCYHECOWItPARAdQLlTOlj/hx1AAAAAAAAAHkBHrMWnAHgeQI5Yi08B8B5AuVM6WP9nH0AAAAAAAOAfQCTW4lMALCBAR6zFpwBoIEDcKR2s/6MgQAAAAAAA4CBAJNbiUwAcIUBHrMWnAFghQNwpHaz/kyFAAAAAAADQIUAk1uJTAAwiQEesxacASCJA3CkdrP+DIkAAAAAAAMAiQCTW4lMA/CJAR6zFpwA4I0DcKR2s/3MjQAAAAAAAsCNAJNbiUwDsI0BHrMWnACgkQNwpHaz/YyRAAAAAAACgJEAk1uJTANwkQEesxacAGCVA3CkdrP9TJUAAAAAAAJAlQCTW4lMAzCVAR6zFpwAIJkDcKR2s/0MmQAAAAAAAgCZAJNbiUwC8JkBHrMWnAPgmQNwpHaz/MydAAAAAAABwJ0Ak1uJTAKwnQEesxacA6CdA3CkdrP8jKEAAAAAAAGAoQCTW4lMAnChAR6zFpwDYKEDcKR2s/xMpQAAAAAAAUClAJNbiUwCMKUBHrMWnAMgpQNwpHaz/AypAAAAAAABAKkAk1uJTAHwqQEesxacAuCpA3CkdrP/zKkAAAAAAADArQCTW4lMAbCtAR6zFpwCoK0DcKR2s/+MrQAAAAAAAICxAJNbiUwBcLEBHrMWnAJgsQNwpHaz/0yxAAAAAAAAQLUAk1uJTAEwtQEesxacAiC1A3CkdrP/DLUAAAAAAAAAuQCTW4lMAPC5AR6zFpwB4LkDcKR2s/7MuQAAAAAAA8C5AJNbiUwAsL0BHrMWnAGgvQNwpHaz/oy9AAAAAAADgL0ASa/EpAA4wQCTW4lMALDBA7pQO1v9JMEAAAAAAAGgwQBJr8SkAhjBAJNbiUwCkMEDulA7W/8EwQAAAAAAA4DBAEmvxKQD+MEAk1uJTABwxQO6UDtb/OTFAAAAAAABYMUASa/EpAHYxQCTW4lMAlDFA7pQO1v+xMUAAAAAAANAxQBJr8SkA7jFAJNbiUwAMMkDulA7W/ykyQAAAAAAASDJAEmvxKQBmMkAk1uJTAIQyQO6UDtb/oTJAAAAAAADAMkASa/EpAN4yQCTW4lMA/DJA7pQO1v8ZM0AAAAAAADgzQBJr8SkAVjNAJNbiUwB0M0DulA7W/5EzQAAAAAAAsDNAEmvxKQDOM0Ak1uJTAOwzQO6UDtb/CTRAAAAAAAAoNEASa/EpAEY0QCTW4lMAZDRA7pQO1v+BNEAAAAAAAKA0QBJr8SkAvjRAJNbiUwDcNEDulA7W//k0QAAAAAAAGDVAEmvxKQA2NUAk1uJTAFQ1QO6UDtb/cTVAAAAAAACQNUASa/EpAK41QCTW4lMAzDVA7pQO1v/pNUAAAAAAAAg2QBJr8SkAJjZAJNbiUwBENkDulA7W/2E2QAAAAAAAgDZAEmvxKQCeNkAk1uJTALw2QO6UDtb/2TZAAAAAAAD4NkASa/EpABY3QCTW4lMANDdA7pQO1v9RN0AAAAAAAHA3QBJr8SkAjjdAJNbiUwCsN0DulA7W/8k3QAAAAAAA6DdAEmvxKQAGOEAk1uJTACQ4QO6UDtb/QThAAAAAAABgOEASa/EpAH44QCTW4lMAnDhA7pQO1v+5OEAAAAAAANg4QBJr8SkA9jhAJNbiUwAUOUDulA7W/zE5QAAAAAAAUDlAEmvxKQBuOUAk1uJTAIw5QO6UDtb/qTlAAAAAAADIOUASa/EpAOY5QCTW4lMABDpA7pQO1v8hOkAAAAAAAEA6QBJr8SkAXjpAJNbiUwB8OkDulA7W/5k6QAAAAAAAuDpAEmvxKQDWOkAk1uJTAPQ6QO6UDtb/ETtAAAAAAAAwO0ASa/EpAE47QCTW4lMAbDtA7pQO1v+JO0AAAAAAAKg7QBJr8SkAxjtAJNbiUwDkO0DulA7W/wE8QAAAAAAAIDxAEmvxKQA+PEAk1uJTAFw8QO6UDtb/eTxAAAAAAACYPEASa/EpALY8QCTW4lMA1DxA7pQO1v/xPEAAAAAAABA9QBJr8SkALj1AJNbiUwBMPUA=",
          "dtype": "f8"
         },
         "y": {
          "bdata": "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",
          "dtype": "f8"
         }
        },
        {
         "marker": {
          "color": "#a4fc3b"
         },
         "mode": "lines",
         "name": "θ=110°",
         "type": "scatter",
         "x": {
          "bdata": "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",
          "dtype": "f8"
         },
         "y": {
          "bdata": "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",
          "dtype": "f8"
         }
        },
        {
         "marker": {
          "color": "#d1e834"
         },
         "mode": "lines",
         "name": "θ=120°",
         "type": "scatter",
         "x": {
          "bdata": "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",
          "dtype": "f8"
         },
         "y": {
          "bdata": "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",
          "dtype": "f8"
         }
        },
        {
         "marker": {
          "color": "#f3c63a"
         },
         "mode": "lines",
         "name": "θ=130°",
         "type": "scatter",
         "x": {
          "bdata": "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",
          "dtype": "f8"
         },
         "y": {
          "bdata": "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",
          "dtype": "f8"
         }
        }
       ],
       "layout": {
        "font": {
         "color": "Black",
         "size": 18
        },
        "height": 600,
        "legend": {
         "x": 1,
         "xanchor": "left",
         "y": 1,
         "yanchor": "top"
        },
        "plot_bgcolor": "white",
        "template": {
         "data": {
          "bar": [
           {
            "error_x": {
             "color": "#2a3f5f"
            },
            "error_y": {
             "color": "#2a3f5f"
            },
            "marker": {
             "line": {
              "color": "#E5ECF6",
              "width": 0.5
             },
             "pattern": {
              "fillmode": "overlay",
              "size": 10,
              "solidity": 0.2
             }
            },
            "type": "bar"
           }
          ],
          "barpolar": [
           {
            "marker": {
             "line": {
              "color": "#E5ECF6",
              "width": 0.5
             },
             "pattern": {
              "fillmode": "overlay",
              "size": 10,
              "solidity": 0.2
             }
            },
            "type": "barpolar"
           }
          ],
          "carpet": [
           {
            "aaxis": {
             "endlinecolor": "#2a3f5f",
             "gridcolor": "white",
             "linecolor": "white",
             "minorgridcolor": "white",
             "startlinecolor": "#2a3f5f"
            },
            "baxis": {
             "endlinecolor": "#2a3f5f",
             "gridcolor": "white",
             "linecolor": "white",
             "minorgridcolor": "white",
             "startlinecolor": "#2a3f5f"
            },
            "type": "carpet"
           }
          ],
          "choropleth": [
           {
            "colorbar": {
             "outlinewidth": 0,
             "ticks": ""
            },
            "type": "choropleth"
           }
          ],
          "contour": [
           {
            "colorbar": {
             "outlinewidth": 0,
             "ticks": ""
            },
            "colorscale": [
             [
              0,
              "#0d0887"
             ],
             [
              0.1111111111111111,
              "#46039f"
             ],
             [
              0.2222222222222222,
              "#7201a8"
             ],
             [
              0.3333333333333333,
              "#9c179e"
             ],
             [
              0.4444444444444444,
              "#bd3786"
             ],
             [
              0.5555555555555556,
              "#d8576b"
             ],
             [
              0.6666666666666666,
              "#ed7953"
             ],
             [
              0.7777777777777778,
              "#fb9f3a"
             ],
             [
              0.8888888888888888,
              "#fdca26"
             ],
             [
              1,
              "#f0f921"
             ]
            ],
            "type": "contour"
           }
          ],
          "contourcarpet": [
           {
            "colorbar": {
             "outlinewidth": 0,
             "ticks": ""
            },
            "type": "contourcarpet"
           }
          ],
          "heatmap": [
           {
            "colorbar": {
             "outlinewidth": 0,
             "ticks": ""
            },
            "colorscale": [
             [
              0,
              "#0d0887"
             ],
             [
              0.1111111111111111,
              "#46039f"
             ],
             [
              0.2222222222222222,
              "#7201a8"
             ],
             [
              0.3333333333333333,
              "#9c179e"
             ],
             [
              0.4444444444444444,
              "#bd3786"
             ],
             [
              0.5555555555555556,
              "#d8576b"
             ],
             [
              0.6666666666666666,
              "#ed7953"
             ],
             [
              0.7777777777777778,
              "#fb9f3a"
             ],
             [
              0.8888888888888888,
              "#fdca26"
             ],
             [
              1,
              "#f0f921"
             ]
            ],
            "type": "heatmap"
           }
          ],
          "histogram": [
           {
            "marker": {
             "pattern": {
              "fillmode": "overlay",
              "size": 10,
              "solidity": 0.2
             }
            },
            "type": "histogram"
           }
          ],
          "histogram2d": [
           {
            "colorbar": {
             "outlinewidth": 0,
             "ticks": ""
            },
            "colorscale": [
             [
              0,
              "#0d0887"
             ],
             [
              0.1111111111111111,
              "#46039f"
             ],
             [
              0.2222222222222222,
              "#7201a8"
             ],
             [
              0.3333333333333333,
              "#9c179e"
             ],
             [
              0.4444444444444444,
              "#bd3786"
             ],
             [
              0.5555555555555556,
              "#d8576b"
             ],
             [
              0.6666666666666666,
              "#ed7953"
             ],
             [
              0.7777777777777778,
              "#fb9f3a"
             ],
             [
              0.8888888888888888,
              "#fdca26"
             ],
             [
              1,
              "#f0f921"
             ]
            ],
            "type": "histogram2d"
           }
          ],
          "histogram2dcontour": [
           {
            "colorbar": {
             "outlinewidth": 0,
             "ticks": ""
            },
            "colorscale": [
             [
              0,
              "#0d0887"
             ],
             [
              0.1111111111111111,
              "#46039f"
             ],
             [
              0.2222222222222222,
              "#7201a8"
             ],
             [
              0.3333333333333333,
              "#9c179e"
             ],
             [
              0.4444444444444444,
              "#bd3786"
             ],
             [
              0.5555555555555556,
              "#d8576b"
             ],
             [
              0.6666666666666666,
              "#ed7953"
             ],
             [
              0.7777777777777778,
              "#fb9f3a"
             ],
             [
              0.8888888888888888,
              "#fdca26"
             ],
             [
              1,
              "#f0f921"
             ]
            ],
            "type": "histogram2dcontour"
           }
          ],
          "mesh3d": [
           {
            "colorbar": {
             "outlinewidth": 0,
             "ticks": ""
            },
            "type": "mesh3d"
           }
          ],
          "parcoords": [
           {
            "line": {
             "colorbar": {
              "outlinewidth": 0,
              "ticks": ""
             }
            },
            "type": "parcoords"
           }
          ],
          "pie": [
           {
            "automargin": true,
            "type": "pie"
           }
          ],
          "scatter": [
           {
            "fillpattern": {
             "fillmode": "overlay",
             "size": 10,
             "solidity": 0.2
            },
            "type": "scatter"
           }
          ],
          "scatter3d": [
           {
            "line": {
             "colorbar": {
              "outlinewidth": 0,
              "ticks": ""
             }
            },
            "marker": {
             "colorbar": {
              "outlinewidth": 0,
              "ticks": ""
             }
            },
            "type": "scatter3d"
           }
          ],
          "scattercarpet": [
           {
            "marker": {
             "colorbar": {
              "outlinewidth": 0,
              "ticks": ""
             }
            },
            "type": "scattercarpet"
           }
          ],
          "scattergeo": [
           {
            "marker": {
             "colorbar": {
              "outlinewidth": 0,
              "ticks": ""
             }
            },
            "type": "scattergeo"
           }
          ],
          "scattergl": [
           {
            "marker": {
             "colorbar": {
              "outlinewidth": 0,
              "ticks": ""
             }
            },
            "type": "scattergl"
           }
          ],
          "scattermap": [
           {
            "marker": {
             "colorbar": {
              "outlinewidth": 0,
              "ticks": ""
             }
            },
            "type": "scattermap"
           }
          ],
          "scattermapbox": [
           {
            "marker": {
             "colorbar": {
              "outlinewidth": 0,
              "ticks": ""
             }
            },
            "type": "scattermapbox"
           }
          ],
          "scatterpolar": [
           {
            "marker": {
             "colorbar": {
              "outlinewidth": 0,
              "ticks": ""
             }
            },
            "type": "scatterpolar"
           }
          ],
          "scatterpolargl": [
           {
            "marker": {
             "colorbar": {
              "outlinewidth": 0,
              "ticks": ""
             }
            },
            "type": "scatterpolargl"
           }
          ],
          "scatterternary": [
           {
            "marker": {
             "colorbar": {
              "outlinewidth": 0,
              "ticks": ""
             }
            },
            "type": "scatterternary"
           }
          ],
          "surface": [
           {
            "colorbar": {
             "outlinewidth": 0,
             "ticks": ""
            },
            "colorscale": [
             [
              0,
              "#0d0887"
             ],
             [
              0.1111111111111111,
              "#46039f"
             ],
             [
              0.2222222222222222,
              "#7201a8"
             ],
             [
              0.3333333333333333,
              "#9c179e"
             ],
             [
              0.4444444444444444,
              "#bd3786"
             ],
             [
              0.5555555555555556,
              "#d8576b"
             ],
             [
              0.6666666666666666,
              "#ed7953"
             ],
             [
              0.7777777777777778,
              "#fb9f3a"
             ],
             [
              0.8888888888888888,
              "#fdca26"
             ],
             [
              1,
              "#f0f921"
             ]
            ],
            "type": "surface"
           }
          ],
          "table": [
           {
            "cells": {
             "fill": {
              "color": "#EBF0F8"
             },
             "line": {
              "color": "white"
             }
            },
            "header": {
             "fill": {
              "color": "#C8D4E3"
             },
             "line": {
              "color": "white"
             }
            },
            "type": "table"
           }
          ]
         },
         "layout": {
          "annotationdefaults": {
           "arrowcolor": "#2a3f5f",
           "arrowhead": 0,
           "arrowwidth": 1
          },
          "autotypenumbers": "strict",
          "coloraxis": {
           "colorbar": {
            "outlinewidth": 0,
            "ticks": ""
           }
          },
          "colorscale": {
           "diverging": [
            [
             0,
             "#8e0152"
            ],
            [
             0.1,
             "#c51b7d"
            ],
            [
             0.2,
             "#de77ae"
            ],
            [
             0.3,
             "#f1b6da"
            ],
            [
             0.4,
             "#fde0ef"
            ],
            [
             0.5,
             "#f7f7f7"
            ],
            [
             0.6,
             "#e6f5d0"
            ],
            [
             0.7,
             "#b8e186"
            ],
            [
             0.8,
             "#7fbc41"
            ],
            [
             0.9,
             "#4d9221"
            ],
            [
             1,
             "#276419"
            ]
           ],
           "sequential": [
            [
             0,
             "#0d0887"
            ],
            [
             0.1111111111111111,
             "#46039f"
            ],
            [
             0.2222222222222222,
             "#7201a8"
            ],
            [
             0.3333333333333333,
             "#9c179e"
            ],
            [
             0.4444444444444444,
             "#bd3786"
            ],
            [
             0.5555555555555556,
             "#d8576b"
            ],
            [
             0.6666666666666666,
             "#ed7953"
            ],
            [
             0.7777777777777778,
             "#fb9f3a"
            ],
            [
             0.8888888888888888,
             "#fdca26"
            ],
            [
             1,
             "#f0f921"
            ]
           ],
           "sequentialminus": [
            [
             0,
             "#0d0887"
            ],
            [
             0.1111111111111111,
             "#46039f"
            ],
            [
             0.2222222222222222,
             "#7201a8"
            ],
            [
             0.3333333333333333,
             "#9c179e"
            ],
            [
             0.4444444444444444,
             "#bd3786"
            ],
            [
             0.5555555555555556,
             "#d8576b"
            ],
            [
             0.6666666666666666,
             "#ed7953"
            ],
            [
             0.7777777777777778,
             "#fb9f3a"
            ],
            [
             0.8888888888888888,
             "#fdca26"
            ],
            [
             1,
             "#f0f921"
            ]
           ]
          },
          "colorway": [
           "#636efa",
           "#EF553B",
           "#00cc96",
           "#ab63fa",
           "#FFA15A",
           "#19d3f3",
           "#FF6692",
           "#B6E880",
           "#FF97FF",
           "#FECB52"
          ],
          "font": {
           "color": "#2a3f5f"
          },
          "geo": {
           "bgcolor": "white",
           "lakecolor": "white",
           "landcolor": "#E5ECF6",
           "showlakes": true,
           "showland": true,
           "subunitcolor": "white"
          },
          "hoverlabel": {
           "align": "left"
          },
          "hovermode": "closest",
          "mapbox": {
           "style": "light"
          },
          "paper_bgcolor": "white",
          "plot_bgcolor": "#E5ECF6",
          "polar": {
           "angularaxis": {
            "gridcolor": "white",
            "linecolor": "white",
            "ticks": ""
           },
           "bgcolor": "#E5ECF6",
           "radialaxis": {
            "gridcolor": "white",
            "linecolor": "white",
            "ticks": ""
           }
          },
          "scene": {
           "xaxis": {
            "backgroundcolor": "#E5ECF6",
            "gridcolor": "white",
            "gridwidth": 2,
            "linecolor": "white",
            "showbackground": true,
            "ticks": "",
            "zerolinecolor": "white"
           },
           "yaxis": {
            "backgroundcolor": "#E5ECF6",
            "gridcolor": "white",
            "gridwidth": 2,
            "linecolor": "white",
            "showbackground": true,
            "ticks": "",
            "zerolinecolor": "white"
           },
           "zaxis": {
            "backgroundcolor": "#E5ECF6",
            "gridcolor": "white",
            "gridwidth": 2,
            "linecolor": "white",
            "showbackground": true,
            "ticks": "",
            "zerolinecolor": "white"
           }
          },
          "shapedefaults": {
           "line": {
            "color": "#2a3f5f"
           }
          },
          "ternary": {
           "aaxis": {
            "gridcolor": "white",
            "linecolor": "white",
            "ticks": ""
           },
           "baxis": {
            "gridcolor": "white",
            "linecolor": "white",
            "ticks": ""
           },
           "bgcolor": "#E5ECF6",
           "caxis": {
            "gridcolor": "white",
            "linecolor": "white",
            "ticks": ""
           }
          },
          "title": {
           "x": 0.05
          },
          "xaxis": {
           "automargin": true,
           "gridcolor": "white",
           "linecolor": "white",
           "ticks": "",
           "title": {
            "standoff": 15
           },
           "zerolinecolor": "white",
           "zerolinewidth": 2
          },
          "yaxis": {
           "automargin": true,
           "gridcolor": "white",
           "linecolor": "white",
           "ticks": "",
           "title": {
            "standoff": 15
           },
           "zerolinecolor": "white",
           "zerolinewidth": 2
          }
         }
        },
        "width": 800,
        "xaxis": {
         "gridcolor": "lightgrey",
         "linecolor": "black",
         "mirror": true,
         "showline": true,
         "ticks": "outside",
         "title": {
          "text": "t (s)"
         }
        },
        "yaxis": {
         "gridcolor": "lightgrey",
         "linecolor": "black",
         "mirror": true,
         "showline": true,
         "ticks": "outside",
         "title": {
          "text": "I(t)"
         }
        }
       }
      }
     },
     "metadata": {},
     "output_type": "display_data"
    }
   ],
   "source": [
    "# print(data)\n",
    "\n",
    "colors = px.colors.sequential.Turbo\n",
    "\n",
    "fig = go.Figure()\n",
    "for i,θ in enumerate(data.keys()):\n",
    "    x = data[θ]['t2']\n",
    "    y = data[θ]['I']\n",
    "    #γ = data[θ]['gamma']\n",
    "    # sigmay = data[θ]['sigmag']\n",
    "    # X,Y = data[θ]['fit'].draw()\n",
    "\n",
    "    # plt.plot(X,Y)\n",
    "    # plt.xlim(0,1)\n",
    "    # plt.show()\n",
    "\n",
    "    #fig.add_trace(go.Scatter(x=X, y=Y, mode='lines',line_color=colors[i], showlegend=False,hoverinfo='skip'))\n",
    "\n",
    "    fig.add_trace(go.Scatter(x=x,y=y, mode='lines', name=f'θ={θ}°',\n",
    "        marker=dict(color = colors[i]),\n",
    "        ))\n",
    "\n",
    "fig.update_layout(\n",
    "        #xaxis_type=\"log\",\n",
    "        yaxis_title=\"I(t)\",\n",
    "        xaxis_title=\"t (s)\",\n",
    "        # title='g<sup>2</sup>(τ) vs t',\n",
    "        # xaxis=dict(range=[np.log10(0.0001), np.log10(0.010)]),\n",
    "        width=800,\n",
    "        height=600,\n",
    "        # title={\n",
    "        #     'text': \"Correlation Function g<sup>2</sup>(τ)\",\n",
    "        #     'y':0.9,\n",
    "        #     'x':0.5,\n",
    "        #     'xanchor': 'center',\n",
    "        #     'yanchor': 'top',\n",
    "        #     'font':dict(size=30)\n",
    "        # },\n",
    "        plot_bgcolor='white',\n",
    "        font=dict(\n",
    "            #family=\"Courier New, monospace\",\n",
    "            size=18,\n",
    "            color=\"Black\"\n",
    "        ),\n",
    "        legend=dict(\n",
    "            x=1,\n",
    "            y=1,\n",
    "            xanchor='left',\n",
    "            yanchor='top'\n",
    "        )\n",
    "        # yaxis=dict(range=[0, 0.06])\n",
    "    )\n",
    "\n",
    "fig.update_xaxes(\n",
    "    mirror=True,\n",
    "    ticks='outside',\n",
    "    showline=True,\n",
    "    linecolor='black',\n",
    "    gridcolor='lightgrey'\n",
    ")\n",
    "fig.update_yaxes(\n",
    "    mirror=True,\n",
    "    ticks='outside',\n",
    "    showline=True,\n",
    "    linecolor='black',\n",
    "    gridcolor='lightgrey'\n",
    ")\n",
    "\n",
    "# Add red transparent background\n",
    "\n",
    "fig.show()"
   ]
  }
 ],
 "metadata": {
  "kernelspec": {
   "display_name": "Python 3",
   "language": "python",
   "name": "python3"
  },
  "language_info": {
   "codemirror_mode": {
    "name": "ipython",
    "version": 3
   },
   "file_extension": ".py",
   "mimetype": "text/x-python",
   "name": "python",
   "nbconvert_exporter": "python",
   "pygments_lexer": "ipython3",
   "version": "3.13.0"
  }
 },
 "nbformat": 4,
 "nbformat_minor": 2
}
