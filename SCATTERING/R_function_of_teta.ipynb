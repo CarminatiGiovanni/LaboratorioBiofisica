{
 "cells": [
  {
   "cell_type": "markdown",
   "metadata": {},
   "source": [
    "# DETERMINE R function of $\\theta$\n",
    "\n",
    "NOTA: t in ms"
   ]
  },
  {
   "cell_type": "code",
   "execution_count": 1,
   "metadata": {},
   "outputs": [],
   "source": [
    "from labbiofisica import Interpolazione\n",
    "from matplotlib import pyplot as plt\n",
    "import numpy as np\n",
    "import pandas as pd\n",
    "import plotly\n",
    "import plotly.express as px\n",
    "import os\n",
    "import plotly.graph_objects as go "
   ]
  },
  {
   "cell_type": "code",
   "execution_count": 2,
   "metadata": {},
   "outputs": [],
   "source": [
    "# Carico i dati {θ: {x: [], y: []}}\n",
    "# NOTA: sigmay = 0.001 per tutti i dati\n",
    "data = {}\n",
    "\n",
    "TETA = np.array([50,60,70,80,90,100,110,120,130])\n",
    "GAMMA = []\n",
    "sigmaGAMMA = []\n",
    "\n",
    "# t convertito in secondi\n",
    "for θ in TETA:\n",
    "    filename = f'./data/g_{θ}.txt'\n",
    "    θ = 180 - θ\n",
    "    read = pd.read_csv(filename,sep='\\t ',header=None,engine='python')\n",
    "    read = read[(read[0] >= 0.1) & (read[0] <= 10)]\n",
    "    data[θ] = {'t':read[0].to_numpy()/1000,'g':read[1].to_numpy(),'sigmag': np.float64(0.001)}\n",
    "\n",
    "TETA = 180 - TETA"
   ]
  },
  {
   "cell_type": "code",
   "execution_count": 3,
   "metadata": {},
   "outputs": [],
   "source": [
    "# Constants\n",
    "n = 1.33\n",
    "η = 10**-9  # g/(nm*s)\n",
    "λ = 633  # nm\n",
    "T = 293  # K\n",
    "KB = 1.3806e-2  # g (nm)^2 / s K\n"
   ]
  },
  {
   "cell_type": "code",
   "execution_count": 4,
   "metadata": {},
   "outputs": [
    {
     "data": {
      "application/vnd.plotly.v1+json": {
       "config": {
        "plotlyServerURL": "https://plot.ly"
       },
       "data": [
        {
         "error_y": {
          "color": "black",
          "thickness": 1.5,
          "type": "constant",
          "value": 0.001,
          "width": 3
         },
         "mode": "markers",
         "name": "θ=130°",
         "type": "scatter",
         "x": {
          "bdata": "Sa+8mvLXGj8xRRTu8DIeP43ttaD3xiA/grhhynZ0Ij92gw309SEkP2pOuR11zyU/XxllR/R8Jz9U5BBxcyopP0mvvJry1yo/MUUU7vAyLj+N7bWg98YwP4K4Ycp2dDI/doMN9PUhND9qTrkddc81P18ZZUf0fDc/VOQQcXMqOT9Jr7ya8tc6PzFFFO7wMj4/je21oPfGQD+CuGHKdnRCP3aDDfT1IUQ/ak65HXXPRT9fGWVH9HxHP1TkEHFzKkk/Sa+8mvLXSj8xRRTu8DJOP43ttaD3xlA/grhhynZ0Uj92gw309SFUP2pOuR11z1U/XxllR/R8Vz9U5BBxcypZP0mvvJry11o/MUUU7vAyXj+N7bWg98ZgP4K4Ycp2dGI/doMN9PUhZD9qTrkddc9lP18ZZUf0fGc/VOQQcXMqaT9Jr7ya8tdqPzFFFO7wMm4/je21oPfGcD+CuGHKdnRyP3aDDfT1IXQ/ak65HXXPdT9fGWVH9Hx3P1TkEHFzKnk/Sa+8mvLXej8xRRTu8DJ+P43ttaD3xoA/grhhynZ0gj92gw309SGEPw==",
          "dtype": "f8"
         },
         "y": {
          "bdata": "fQyxVd1+nD9j78UX7fGaP/MUg9H2+Zk/EIXgAhq2lz+9vbVdsjuWPzeEz3sIT5U/A2Jt51ZjlD844blSKjyTP5qo70YwH5I/VnzoJ0EkkD9M8m0L4HeNP5apk32hkYk/TY2GQrqOhz+JdEcYaVaEPxqdHNNNQYI/8YAVVBLhgD/uZGgjdCN+P56rtUmojXg/LO6BTu9/cz8mXhIlKQJvP8s60s+KXmw/aWHDkQ+TYz+Q7aW+ZpheP9hOEEygTlo/2XfJKGQhWT+QW0AmIapTP0UE4d+nd08/r4Sak6r8QT/3MzvZbRpCPye9uwozsTw/f0HGNLdoHz9PEjYvk1AmP5oVuT8R5gq/llLAC5VeHz+ZT76mrAITP0XEwH9igB4/bpioqykzLz9ZJAebI/Mkv6rtY1u/xik/m81ANFWhEb8ku5AWgKkDP0Gz0kHquCI/7H37misaGT9P4R/unscuP7pf7qQYePu+zCz2OF363D7kEQfJNRclvyrrLDMblgU/7oZ7SBs38z7e3eR8LkPgPj1RrVRETPg+wnYBBY8VAj/Pg2giLcvnPg==",
          "dtype": "f8"
         }
        },
        {
         "error_y": {
          "color": "black",
          "thickness": 1.5,
          "type": "constant",
          "value": 0.001,
          "width": 3
         },
         "mode": "markers",
         "name": "θ=120°",
         "type": "scatter",
         "x": {
          "bdata": "Sa+8mvLXGj8xRRTu8DIeP43ttaD3xiA/grhhynZ0Ij92gw309SEkP2pOuR11zyU/XxllR/R8Jz9U5BBxcyopP0mvvJry1yo/MUUU7vAyLj+N7bWg98YwP4K4Ycp2dDI/doMN9PUhND9qTrkddc81P18ZZUf0fDc/VOQQcXMqOT9Jr7ya8tc6PzFFFO7wMj4/je21oPfGQD+CuGHKdnRCP3aDDfT1IUQ/ak65HXXPRT9fGWVH9HxHP1TkEHFzKkk/Sa+8mvLXSj8xRRTu8DJOP43ttaD3xlA/grhhynZ0Uj92gw309SFUP2pOuR11z1U/XxllR/R8Vz9U5BBxcypZP0mvvJry11o/MUUU7vAyXj+N7bWg98ZgP4K4Ycp2dGI/doMN9PUhZD9qTrkddc9lP18ZZUf0fGc/VOQQcXMqaT9Jr7ya8tdqPzFFFO7wMm4/je21oPfGcD+CuGHKdnRyP3aDDfT1IXQ/ak65HXXPdT9fGWVH9Hx3P1TkEHFzKnk/Sa+8mvLXej8xRRTu8DJ+P43ttaD3xoA/grhhynZ0gj92gw309SGEPw==",
          "dtype": "f8"
         },
         "y": {
          "bdata": "uKkmLQGdnj9BMKJIUi2dP70LSoc9o5s/EgR+Q5cmmz+ML9rjhXSYP1PF+UCXFZc/3PRnP1JElj+Fjmfh/JeVP88iJYeZx5M/vi5oxkcwkj9YiolyDkOQP4cJtIUxM40/m6ECcWjbij9muRG7W/6IP/pIpTOLq4U/KIBiZMkcgz+Wkd15oB2BPyUvnZzCxnw/GEmzYH9ldz9B+0eVF09zP36kDEVPBHA/MAPffgqRbT8wmRF79MhnPwyRVxCYwWc/qOLnO88KYj+aHW8Tal1VPx+p3EnmhkY/uE72qw0JUD+O7uMSjvNDPxEgutWwNTQ/DuMaER/nLD8tXuU2BSVBP8L/1zJ5ADQ/KCDVBwXyC79WjoQOni8UP/rheCKuuiM/F+tY+/QFKD9BEv4VTmMWP7yITsmUsxk/iHKBBn2bxT77K3rcPd0FvyRAWlddayU//lHews9DCr9JUcrPvXPuvuq78L2eMzK/Ui1Yob4p8L7y2RLey6kHv4ezRQv1WBi/6tzY3x7zHb8rW8PDtnApP+YCvGkY1fk+YJjSTluQHr+G6UgcHGYkvw==",
          "dtype": "f8"
         }
        },
        {
         "error_y": {
          "color": "black",
          "thickness": 1.5,
          "type": "constant",
          "value": 0.001,
          "width": 3
         },
         "mode": "markers",
         "name": "θ=110°",
         "type": "scatter",
         "x": {
          "bdata": "Sa+8mvLXGj8xRRTu8DIeP43ttaD3xiA/grhhynZ0Ij92gw309SEkP2pOuR11zyU/XxllR/R8Jz9U5BBxcyopP0mvvJry1yo/MUUU7vAyLj+N7bWg98YwP4K4Ycp2dDI/doMN9PUhND9qTrkddc81P18ZZUf0fDc/VOQQcXMqOT9Jr7ya8tc6PzFFFO7wMj4/je21oPfGQD+CuGHKdnRCP3aDDfT1IUQ/ak65HXXPRT9fGWVH9HxHP1TkEHFzKkk/Sa+8mvLXSj8xRRTu8DJOP43ttaD3xlA/grhhynZ0Uj92gw309SFUP2pOuR11z1U/XxllR/R8Vz9U5BBxcypZP0mvvJry11o/MUUU7vAyXj+N7bWg98ZgP4K4Ycp2dGI/doMN9PUhZD9qTrkddc9lP18ZZUf0fGc/VOQQcXMqaT9Jr7ya8tdqPzFFFO7wMm4/je21oPfGcD+CuGHKdnRyP3aDDfT1IXQ/ak65HXXPdT9fGWVH9Hx3P1TkEHFzKnk/Sa+8mvLXej8xRRTu8DJ+P43ttaD3xoA/grhhynZ0gj92gw309SGEPw==",
          "dtype": "f8"
         },
         "y": {
          "bdata": "hlW8kXnknz9wVLgvsUOeP5U3dj9dk5w/VgPeEzXimz+3KR4X1SKaP5Cq3Pqfspg/+w+fKpWmlz+GIc2z7Q+XP+kb4mlDD5Y/9kGWBRN/lD/fMTz2s1iSP1QImoUswZA/nAO65dmbjj+czgR5LGyMP8ysSsdBrok/x7q4jQbwhj+vaZTkbzGFP0Fe1Xo7mYI/NOHRpQOCfj/7XbeMxJl5P0vgnDKzpnQ/TfUi4v/xcj8f3FuZCeltPw44ATxYtWo/brENotawZj8gP8D/+/hgPwwdXLatmFc/bvKquoaaSj/r7s9/7k9CP1UdzexO0kc/UruwTPfuOj+bpk6OotE0P+kBDeUtHzU/xBDEb8YNKD9cC1oYh9I1P5zxGWvobwW/8Ox+V/yNI79wq7va09PsvuWWnRhuzSE/06dIyoXmJD9sfqPt/eUhP335E8eQyxc/df1IMic/JL8MyE/E0T4eP0R4+I7BWio/Aq+/umT7JD/zq1EBy+D8vpux6bpQ9h8/jW6cT/8LCz/fRkBJ5VQQP9+R7vT1xhE/WrPQsMqcDb/NAJcI210Fvw==",
          "dtype": "f8"
         }
        },
        {
         "error_y": {
          "color": "black",
          "thickness": 1.5,
          "type": "constant",
          "value": 0.001,
          "width": 3
         },
         "mode": "markers",
         "name": "θ=100°",
         "type": "scatter",
         "x": {
          "bdata": "Sa+8mvLXGj8xRRTu8DIeP43ttaD3xiA/grhhynZ0Ij92gw309SEkP2pOuR11zyU/XxllR/R8Jz9U5BBxcyopP0mvvJry1yo/MUUU7vAyLj+N7bWg98YwP4K4Ycp2dDI/doMN9PUhND9qTrkddc81P18ZZUf0fDc/VOQQcXMqOT9Jr7ya8tc6PzFFFO7wMj4/je21oPfGQD+CuGHKdnRCP3aDDfT1IUQ/ak65HXXPRT9fGWVH9HxHP1TkEHFzKkk/Sa+8mvLXSj8xRRTu8DJOP43ttaD3xlA/grhhynZ0Uj92gw309SFUP2pOuR11z1U/XxllR/R8Vz9U5BBxcypZP0mvvJry11o/MUUU7vAyXj+N7bWg98ZgP4K4Ycp2dGI/doMN9PUhZD9qTrkddc9lP18ZZUf0fGc/VOQQcXMqaT9Jr7ya8tdqPzFFFO7wMm4/je21oPfGcD+CuGHKdnRyP3aDDfT1IXQ/ak65HXXPdT9fGWVH9Hx3P1TkEHFzKnk/Sa+8mvLXej8xRRTu8DJ+P43ttaD3xoA/grhhynZ0gj92gw309SGEPw==",
          "dtype": "f8"
         },
         "y": {
          "bdata": "feXmwBfLoT9DnahbLPugP3/JfPYSGaA/4FPvXw/cnz+srdhfdk+eP2WgfIuYI50/fEYiNIKNmz+uHkE78eaaP+CXRAdu7pk/dydEZWjhlz/kV2JUCJqVPxxZnqy99JM/GdwgpLj0kT9EigESTaCQPyl1bn/TYI8/asmZ3N4kjD8YuJeP/12KP4hFsYEZ+IY/VC8JYX8jgz94K4UfIIiBP/NLDukBPX4/VfDjgStNeD+daR2wBoN2P+0t5Xyx93I/ei+ly+4LcD8wUyhFCulpPyVGhaBZyGI/CtsuuA8OYD9xM4HHXL5aPw0P7aUhkVM/rElDz15kTz+JyCpRaOxKPyRFZFjFGzk/pG86GJ1rKT8fqgq8fLMpP1qix7AJtxw/GqPXWcthAr9R0XzBs6wXP1xy2bqt0xW/5ClO5r3ADD98ofy0vDgiv1zmpJJiyRo/VVelQCSU/r4bhCVV1W8RPz4ZWfaI//m+TeZWS+yoEr/LvlYCXKIgP5VFozMXVSI/ep4m0LObMT8LCFgkpvClvjbE/k+aVg4/RFEN7BKE9D6CTHhrnDIHvw==",
          "dtype": "f8"
         }
        },
        {
         "error_y": {
          "color": "black",
          "thickness": 1.5,
          "type": "constant",
          "value": 0.001,
          "width": 3
         },
         "mode": "markers",
         "name": "θ=90°",
         "type": "scatter",
         "x": {
          "bdata": "Sa+8mvLXGj8xRRTu8DIeP43ttaD3xiA/grhhynZ0Ij92gw309SEkP2pOuR11zyU/XxllR/R8Jz9U5BBxcyopP0mvvJry1yo/MUUU7vAyLj+N7bWg98YwP4K4Ycp2dDI/doMN9PUhND9qTrkddc81P18ZZUf0fDc/VOQQcXMqOT9Jr7ya8tc6PzFFFO7wMj4/je21oPfGQD+CuGHKdnRCP3aDDfT1IUQ/ak65HXXPRT9fGWVH9HxHP1TkEHFzKkk/Sa+8mvLXSj8xRRTu8DJOP43ttaD3xlA/grhhynZ0Uj92gw309SFUP2pOuR11z1U/XxllR/R8Vz9U5BBxcypZP0mvvJry11o/MUUU7vAyXj+N7bWg98ZgP4K4Ycp2dGI/doMN9PUhZD9qTrkddc9lP18ZZUf0fGc/VOQQcXMqaT9Jr7ya8tdqPzFFFO7wMm4/je21oPfGcD+CuGHKdnRyP3aDDfT1IXQ/ak65HXXPdT9fGWVH9Hx3P1TkEHFzKnk/Sa+8mvLXej8xRRTu8DJ+P43ttaD3xoA/grhhynZ0gj92gw309SGEPw==",
          "dtype": "f8"
         },
         "y": {
          "bdata": "C0W6n1OQoz80eKkiJvKiP3Ak0GBT56E/IyHbQwyFoT8xow7hTtigP5QaNbrekaA/EORFyyZlnz8Lz0vFxryePwGeWbfmM50/fiiHBa12mz8uLMlLSLWZP8Ey27pA7pc/sPye/e1Xlj8rpWd6ibGUP6oKDcSymZM/t+BWi5mOkj/B6iNLQRKRPx8JRQQtbo0/hq+vdakRij8jLZW3I5yGPxGYPb/es4Q/fnRmksPtgT8DIR8Vez+AP9FjStpDsXs/hL2JITmZeD8kq413aNRzP1dgp9xtrG4/JvREIRM6aT+PUX1rUMljP/U/CujPyGE/zLhnZRQuWD9kNLjOOyVSP9nK9f1ulk8/DP/VIiMZQj/emEA/wwMpPxqtwQBkFiE/9LiQDFdVGL/c34rY6BsvP6+fHbos89i+JbTTec7CIL+j3A7xNSLtPgFA4bLiiRQ/OIIDQx4NHL98gdCv6gInP6x/r58AtSE/x8RLD8FzGr/MF5yGxmH5vnV0fZvVbQY/woCfHeKyCb/qwulPJNn4PhzuVBVigga/nMZWzfw1HL8kuWkkIxb6vg==",
          "dtype": "f8"
         }
        },
        {
         "error_y": {
          "color": "black",
          "thickness": 1.5,
          "type": "constant",
          "value": 0.001,
          "width": 3
         },
         "mode": "markers",
         "name": "θ=80°",
         "type": "scatter",
         "x": {
          "bdata": "Sa+8mvLXGj8xRRTu8DIeP43ttaD3xiA/grhhynZ0Ij92gw309SEkP2pOuR11zyU/XxllR/R8Jz9U5BBxcyopP0mvvJry1yo/MUUU7vAyLj+N7bWg98YwP4K4Ycp2dDI/doMN9PUhND9qTrkddc81P18ZZUf0fDc/VOQQcXMqOT9Jr7ya8tc6PzFFFO7wMj4/je21oPfGQD+CuGHKdnRCP3aDDfT1IUQ/ak65HXXPRT9fGWVH9HxHP1TkEHFzKkk/Sa+8mvLXSj8xRRTu8DJOP43ttaD3xlA/grhhynZ0Uj92gw309SFUP2pOuR11z1U/XxllR/R8Vz9U5BBxcypZP0mvvJry11o/MUUU7vAyXj+N7bWg98ZgP4K4Ycp2dGI/doMN9PUhZD9qTrkddc9lP18ZZUf0fGc/VOQQcXMqaT9Jr7ya8tdqPzFFFO7wMm4/je21oPfGcD+CuGHKdnRyP3aDDfT1IXQ/ak65HXXPdT9fGWVH9Hx3P1TkEHFzKnk/Sa+8mvLXej8xRRTu8DJ+P43ttaD3xoA/grhhynZ0gj92gw309SGEPw==",
          "dtype": "f8"
         },
         "y": {
          "bdata": "PGh23VuRpD95d2SsNv+jP63+Y3zzdqM/w+BQrt8Coz8W1jK+1HSiPz/A//v48KE//9GSIo1loT+umSH6WjyhP1Opfko6b6A/4d2AhYIInz+uW05TFWSdP90WG6mtx5s/UBK3r6gtmj+Z8Ev9vKmYP5MkvsklRJc/X439diM9lj+/pVKi2wGVP+rWxjPDoZI/sEBPXr+7kD8iLTr+sEqOP0awFkRJ7Yo/EERxIlVviD/dH5ScuMGFPz6mQRNZUoM/mABXDR2WgT+slmwjO8J7P8HvlS8elHY/5XslFEtfcj8+g36NwRZtP53O2/n6MWg/bfijyUHgYz+Mq+NbzI1hP45ZOEGCf10/BRkBFY4gVT+lstWjeK5SPxsMAwP580w/T6co1ipzQz8C5UyZ725CPxehErYjxTU/QAgzM1RBHD/8qaVECEspP+iagqtuBBE/ZVP/Ny6XKD96iaWQAeMUPxQrAbqxVRA/AK2Wx9ytA78FgRl8L/gjv0RU9/0hmgW/nlEh/J6oAr9R7pZaatoQvxwYioVr/yS/9a08bBUJJb80eiFcggUwvw==",
          "dtype": "f8"
         }
        },
        {
         "error_y": {
          "color": "black",
          "thickness": 1.5,
          "type": "constant",
          "value": 0.001,
          "width": 3
         },
         "mode": "markers",
         "name": "θ=70°",
         "type": "scatter",
         "x": {
          "bdata": "Sa+8mvLXGj8xRRTu8DIeP43ttaD3xiA/grhhynZ0Ij92gw309SEkP2pOuR11zyU/XxllR/R8Jz9U5BBxcyopP0mvvJry1yo/MUUU7vAyLj+N7bWg98YwP4K4Ycp2dDI/doMN9PUhND9qTrkddc81P18ZZUf0fDc/VOQQcXMqOT9Jr7ya8tc6PzFFFO7wMj4/je21oPfGQD+CuGHKdnRCP3aDDfT1IUQ/ak65HXXPRT9fGWVH9HxHP1TkEHFzKkk/Sa+8mvLXSj8xRRTu8DJOP43ttaD3xlA/grhhynZ0Uj92gw309SFUP2pOuR11z1U/XxllR/R8Vz9U5BBxcypZP0mvvJry11o/MUUU7vAyXj+N7bWg98ZgP4K4Ycp2dGI/doMN9PUhZD9qTrkddc9lP18ZZUf0fGc/VOQQcXMqaT9Jr7ya8tdqPzFFFO7wMm4/je21oPfGcD+CuGHKdnRyP3aDDfT1IXQ/ak65HXXPdT9fGWVH9Hx3P1TkEHFzKnk/Sa+8mvLXej8xRRTu8DJ+P43ttaD3xoA/grhhynZ0gj92gw309SGEPw==",
          "dtype": "f8"
         },
         "y": {
          "bdata": "nxOMlHcfpT8dOGdEaW+kP5IPMKmQ4aM/wbItXofFoz8WoBJ8eDujP8myu5sC9KI/Thq0oawpoj89pw8Tw8ShP8aYBSSrbKE/uq5OhMPBoD9I/fUKC+6fP0UTKGIRw54/maSNfo9VnT9baJ2n8FacP9ebvdggOJs/bfntkAfHmT+GFE2xtJ2YP9ciWAuipJY/MMhMWNHVlD8xhFJq5RSTP7lxi/m5oZE/wznZvGAmkD8uMHWhA9yNP3Qkl/+Qfos/9SG5RhUPiT98DcFxGTeFP0KfnxRzMYI/inr7UsOnfj8jyWJRxxl5P449WiBqcHU/plfzsfXrcj9DTmdAIERwPz93m5p4xWs/Hl/vvFzdZD/RG7R4LfhfPws0r1VIGlg/D0WiTHpKVD/vkc1V8xxRP6O+nEGSRUk/7Qoi9xm8RD9uuqLqEGVDP/MQ/ULeXkE/oi6ymjcZOD8FCuUSgckhPy467zz+fRC/BFPgtIax8b55Fa3upWjdPnBneBYxqiQ/AU+FOAm3Ij8DL8aGRuUKP8wJcgF8eCU/a6G0lESf/L7JtdZUbIUmvw==",
          "dtype": "f8"
         }
        },
        {
         "error_y": {
          "color": "black",
          "thickness": 1.5,
          "type": "constant",
          "value": 0.001,
          "width": 3
         },
         "mode": "markers",
         "name": "θ=60°",
         "type": "scatter",
         "x": {
          "bdata": "Sa+8mvLXGj8xRRTu8DIeP43ttaD3xiA/grhhynZ0Ij92gw309SEkP2pOuR11zyU/XxllR/R8Jz9U5BBxcyopP0mvvJry1yo/MUUU7vAyLj+N7bWg98YwP4K4Ycp2dDI/doMN9PUhND9qTrkddc81P18ZZUf0fDc/VOQQcXMqOT9Jr7ya8tc6PzFFFO7wMj4/je21oPfGQD+CuGHKdnRCP3aDDfT1IUQ/ak65HXXPRT9fGWVH9HxHP1TkEHFzKkk/Sa+8mvLXSj8xRRTu8DJOP43ttaD3xlA/grhhynZ0Uj92gw309SFUP2pOuR11z1U/XxllR/R8Vz9U5BBxcypZP0mvvJry11o/MUUU7vAyXj+N7bWg98ZgP4K4Ycp2dGI/doMN9PUhZD9qTrkddc9lP18ZZUf0fGc/VOQQcXMqaT9Jr7ya8tdqPzFFFO7wMm4/je21oPfGcD+CuGHKdnRyP3aDDfT1IXQ/ak65HXXPdT9fGWVH9Hx3P1TkEHFzKnk/Sa+8mvLXej8xRRTu8DJ+P43ttaD3xoA/grhhynZ0gj92gw309SGEPw==",
          "dtype": "f8"
         },
         "y": {
          "bdata": "aLki57PypT+pIibybnalP1FwDFx5JKU//R6rShHPpD90sKMW72ykP1Ny8zIvLKQ/oOnbOBigoz//J9qwAWyjP6EUCJZ+HaM/yh9n9Wlwoj8FACJYsOihPwzyaQTRSaE/AiGjTR/LoD8oSp3b3zSgPx0EHa1qSZ8/8N5RY0LMnT/0UUZcABqdP8aweQvamps/rl9VYkPcmT+OSwtNyL2XP7XHZqJjYpY/j9MhgVAolT+cUfNV8rGTP8FvQ4zXvJI/2VfD6jR3kT9AHH/9a9SOP3/XDBWIQ4s/FCUhkbbxhz9gNHVoohmFP/jtmHgP6YI/UnWX3faxgD9ISRe086p8P7Jy3OcA2nk/Psh4tVhhdT9Twjz5LoRwP/E1mStiXGo/9hKdRAi4ZT+LKaJwh5dhP4wIrSQFWFw/fvR2GTh/Vz/Am4d2wglUP1K3+oTI9kU/uJRq1ICXQj/UxvzPppI9P7WhIzh8cjc/h7+JlY+sNT8jXDh4dXotPwEQ2h/mmhs/+WK/jAGQJT+5TInAKjkUP2W+RDv16CA/asxsm5e/AT9YX06hW7UQPw==",
          "dtype": "f8"
         }
        },
        {
         "error_y": {
          "color": "black",
          "thickness": 1.5,
          "type": "constant",
          "value": 0.001,
          "width": 3
         },
         "mode": "markers",
         "name": "θ=50°",
         "type": "scatter",
         "x": {
          "bdata": "Sa+8mvLXGj8xRRTu8DIeP43ttaD3xiA/grhhynZ0Ij92gw309SEkP2pOuR11zyU/XxllR/R8Jz9U5BBxcyopP0mvvJry1yo/MUUU7vAyLj+N7bWg98YwP4K4Ycp2dDI/doMN9PUhND9qTrkddc81P18ZZUf0fDc/VOQQcXMqOT9Jr7ya8tc6PzFFFO7wMj4/je21oPfGQD+CuGHKdnRCP3aDDfT1IUQ/ak65HXXPRT9fGWVH9HxHP1TkEHFzKkk/Sa+8mvLXSj8xRRTu8DJOP43ttaD3xlA/grhhynZ0Uj92gw309SFUP2pOuR11z1U/XxllR/R8Vz9U5BBxcypZP0mvvJry11o/MUUU7vAyXj+N7bWg98ZgP4K4Ycp2dGI/doMN9PUhZD9qTrkddc9lP18ZZUf0fGc/VOQQcXMqaT9Jr7ya8tdqPzFFFO7wMm4/je21oPfGcD+CuGHKdnRyP3aDDfT1IXQ/ak65HXXPdT9fGWVH9Hx3P1TkEHFzKnk/Sa+8mvLXej8xRRTu8DJ+P43ttaD3xoA/grhhynZ0gj92gw309SGEPw==",
          "dtype": "f8"
         },
         "y": {
          "bdata": "sztJX61/qD8fTVAecSOoP4at2cpL/qc/qgoNxLKZpz/ns/KB03GnP8xHrYs2Iqc/drUmJyTjpj/K6DaX0X6mP5oLXB5rRqY/V7+IbNbPpT/yJr9FJ0ulP5qC60CMxqQ/dLdGX5xTpD+aR1kaUwukP4FaDB6mfaM/rOhqhq8Koz8mmvaDcLuiP6tKEc/I1qE/c0ekEkMXoT94p0x7lFugP6cWW1L/ap8/zl/X5UrznT8/MOzVbIqcP/PixFc7ips/4Qz+fjFbmj+oJQy5CEKYP3pfS356IpY/wrLj0GxolD8CNWvfktKSP3rejQWFQZE/twKvO4LAjz+i8Z/JWTONPzNmtzsQ/oo//UFu0KgKhz89MNupFJaDP2vKgHnpooA/qrJStZvofD+by2g/rf14P1aU2NbLxnU/QFS3Bvhmcj+h3d+oLkNwP8VOgHqWlGk/C3T1fDCdZD9/BkjyZFBgP9OdabqFS1o/tww4S8lyUj8JnZO7KKpJP8LgfubKpUM/8Z6RdSmPPT9OxEZMlZc4P2tRDoJojzI/IooYGRXWDD9qXa9Y35odPw==",
          "dtype": "f8"
         }
        }
       ],
       "layout": {
        "template": {
         "data": {
          "bar": [
           {
            "error_x": {
             "color": "#2a3f5f"
            },
            "error_y": {
             "color": "#2a3f5f"
            },
            "marker": {
             "line": {
              "color": "#E5ECF6",
              "width": 0.5
             },
             "pattern": {
              "fillmode": "overlay",
              "size": 10,
              "solidity": 0.2
             }
            },
            "type": "bar"
           }
          ],
          "barpolar": [
           {
            "marker": {
             "line": {
              "color": "#E5ECF6",
              "width": 0.5
             },
             "pattern": {
              "fillmode": "overlay",
              "size": 10,
              "solidity": 0.2
             }
            },
            "type": "barpolar"
           }
          ],
          "carpet": [
           {
            "aaxis": {
             "endlinecolor": "#2a3f5f",
             "gridcolor": "white",
             "linecolor": "white",
             "minorgridcolor": "white",
             "startlinecolor": "#2a3f5f"
            },
            "baxis": {
             "endlinecolor": "#2a3f5f",
             "gridcolor": "white",
             "linecolor": "white",
             "minorgridcolor": "white",
             "startlinecolor": "#2a3f5f"
            },
            "type": "carpet"
           }
          ],
          "choropleth": [
           {
            "colorbar": {
             "outlinewidth": 0,
             "ticks": ""
            },
            "type": "choropleth"
           }
          ],
          "contour": [
           {
            "colorbar": {
             "outlinewidth": 0,
             "ticks": ""
            },
            "colorscale": [
             [
              0,
              "#0d0887"
             ],
             [
              0.1111111111111111,
              "#46039f"
             ],
             [
              0.2222222222222222,
              "#7201a8"
             ],
             [
              0.3333333333333333,
              "#9c179e"
             ],
             [
              0.4444444444444444,
              "#bd3786"
             ],
             [
              0.5555555555555556,
              "#d8576b"
             ],
             [
              0.6666666666666666,
              "#ed7953"
             ],
             [
              0.7777777777777778,
              "#fb9f3a"
             ],
             [
              0.8888888888888888,
              "#fdca26"
             ],
             [
              1,
              "#f0f921"
             ]
            ],
            "type": "contour"
           }
          ],
          "contourcarpet": [
           {
            "colorbar": {
             "outlinewidth": 0,
             "ticks": ""
            },
            "type": "contourcarpet"
           }
          ],
          "heatmap": [
           {
            "colorbar": {
             "outlinewidth": 0,
             "ticks": ""
            },
            "colorscale": [
             [
              0,
              "#0d0887"
             ],
             [
              0.1111111111111111,
              "#46039f"
             ],
             [
              0.2222222222222222,
              "#7201a8"
             ],
             [
              0.3333333333333333,
              "#9c179e"
             ],
             [
              0.4444444444444444,
              "#bd3786"
             ],
             [
              0.5555555555555556,
              "#d8576b"
             ],
             [
              0.6666666666666666,
              "#ed7953"
             ],
             [
              0.7777777777777778,
              "#fb9f3a"
             ],
             [
              0.8888888888888888,
              "#fdca26"
             ],
             [
              1,
              "#f0f921"
             ]
            ],
            "type": "heatmap"
           }
          ],
          "histogram": [
           {
            "marker": {
             "pattern": {
              "fillmode": "overlay",
              "size": 10,
              "solidity": 0.2
             }
            },
            "type": "histogram"
           }
          ],
          "histogram2d": [
           {
            "colorbar": {
             "outlinewidth": 0,
             "ticks": ""
            },
            "colorscale": [
             [
              0,
              "#0d0887"
             ],
             [
              0.1111111111111111,
              "#46039f"
             ],
             [
              0.2222222222222222,
              "#7201a8"
             ],
             [
              0.3333333333333333,
              "#9c179e"
             ],
             [
              0.4444444444444444,
              "#bd3786"
             ],
             [
              0.5555555555555556,
              "#d8576b"
             ],
             [
              0.6666666666666666,
              "#ed7953"
             ],
             [
              0.7777777777777778,
              "#fb9f3a"
             ],
             [
              0.8888888888888888,
              "#fdca26"
             ],
             [
              1,
              "#f0f921"
             ]
            ],
            "type": "histogram2d"
           }
          ],
          "histogram2dcontour": [
           {
            "colorbar": {
             "outlinewidth": 0,
             "ticks": ""
            },
            "colorscale": [
             [
              0,
              "#0d0887"
             ],
             [
              0.1111111111111111,
              "#46039f"
             ],
             [
              0.2222222222222222,
              "#7201a8"
             ],
             [
              0.3333333333333333,
              "#9c179e"
             ],
             [
              0.4444444444444444,
              "#bd3786"
             ],
             [
              0.5555555555555556,
              "#d8576b"
             ],
             [
              0.6666666666666666,
              "#ed7953"
             ],
             [
              0.7777777777777778,
              "#fb9f3a"
             ],
             [
              0.8888888888888888,
              "#fdca26"
             ],
             [
              1,
              "#f0f921"
             ]
            ],
            "type": "histogram2dcontour"
           }
          ],
          "mesh3d": [
           {
            "colorbar": {
             "outlinewidth": 0,
             "ticks": ""
            },
            "type": "mesh3d"
           }
          ],
          "parcoords": [
           {
            "line": {
             "colorbar": {
              "outlinewidth": 0,
              "ticks": ""
             }
            },
            "type": "parcoords"
           }
          ],
          "pie": [
           {
            "automargin": true,
            "type": "pie"
           }
          ],
          "scatter": [
           {
            "fillpattern": {
             "fillmode": "overlay",
             "size": 10,
             "solidity": 0.2
            },
            "type": "scatter"
           }
          ],
          "scatter3d": [
           {
            "line": {
             "colorbar": {
              "outlinewidth": 0,
              "ticks": ""
             }
            },
            "marker": {
             "colorbar": {
              "outlinewidth": 0,
              "ticks": ""
             }
            },
            "type": "scatter3d"
           }
          ],
          "scattercarpet": [
           {
            "marker": {
             "colorbar": {
              "outlinewidth": 0,
              "ticks": ""
             }
            },
            "type": "scattercarpet"
           }
          ],
          "scattergeo": [
           {
            "marker": {
             "colorbar": {
              "outlinewidth": 0,
              "ticks": ""
             }
            },
            "type": "scattergeo"
           }
          ],
          "scattergl": [
           {
            "marker": {
             "colorbar": {
              "outlinewidth": 0,
              "ticks": ""
             }
            },
            "type": "scattergl"
           }
          ],
          "scattermap": [
           {
            "marker": {
             "colorbar": {
              "outlinewidth": 0,
              "ticks": ""
             }
            },
            "type": "scattermap"
           }
          ],
          "scattermapbox": [
           {
            "marker": {
             "colorbar": {
              "outlinewidth": 0,
              "ticks": ""
             }
            },
            "type": "scattermapbox"
           }
          ],
          "scatterpolar": [
           {
            "marker": {
             "colorbar": {
              "outlinewidth": 0,
              "ticks": ""
             }
            },
            "type": "scatterpolar"
           }
          ],
          "scatterpolargl": [
           {
            "marker": {
             "colorbar": {
              "outlinewidth": 0,
              "ticks": ""
             }
            },
            "type": "scatterpolargl"
           }
          ],
          "scatterternary": [
           {
            "marker": {
             "colorbar": {
              "outlinewidth": 0,
              "ticks": ""
             }
            },
            "type": "scatterternary"
           }
          ],
          "surface": [
           {
            "colorbar": {
             "outlinewidth": 0,
             "ticks": ""
            },
            "colorscale": [
             [
              0,
              "#0d0887"
             ],
             [
              0.1111111111111111,
              "#46039f"
             ],
             [
              0.2222222222222222,
              "#7201a8"
             ],
             [
              0.3333333333333333,
              "#9c179e"
             ],
             [
              0.4444444444444444,
              "#bd3786"
             ],
             [
              0.5555555555555556,
              "#d8576b"
             ],
             [
              0.6666666666666666,
              "#ed7953"
             ],
             [
              0.7777777777777778,
              "#fb9f3a"
             ],
             [
              0.8888888888888888,
              "#fdca26"
             ],
             [
              1,
              "#f0f921"
             ]
            ],
            "type": "surface"
           }
          ],
          "table": [
           {
            "cells": {
             "fill": {
              "color": "#EBF0F8"
             },
             "line": {
              "color": "white"
             }
            },
            "header": {
             "fill": {
              "color": "#C8D4E3"
             },
             "line": {
              "color": "white"
             }
            },
            "type": "table"
           }
          ]
         },
         "layout": {
          "annotationdefaults": {
           "arrowcolor": "#2a3f5f",
           "arrowhead": 0,
           "arrowwidth": 1
          },
          "autotypenumbers": "strict",
          "coloraxis": {
           "colorbar": {
            "outlinewidth": 0,
            "ticks": ""
           }
          },
          "colorscale": {
           "diverging": [
            [
             0,
             "#8e0152"
            ],
            [
             0.1,
             "#c51b7d"
            ],
            [
             0.2,
             "#de77ae"
            ],
            [
             0.3,
             "#f1b6da"
            ],
            [
             0.4,
             "#fde0ef"
            ],
            [
             0.5,
             "#f7f7f7"
            ],
            [
             0.6,
             "#e6f5d0"
            ],
            [
             0.7,
             "#b8e186"
            ],
            [
             0.8,
             "#7fbc41"
            ],
            [
             0.9,
             "#4d9221"
            ],
            [
             1,
             "#276419"
            ]
           ],
           "sequential": [
            [
             0,
             "#0d0887"
            ],
            [
             0.1111111111111111,
             "#46039f"
            ],
            [
             0.2222222222222222,
             "#7201a8"
            ],
            [
             0.3333333333333333,
             "#9c179e"
            ],
            [
             0.4444444444444444,
             "#bd3786"
            ],
            [
             0.5555555555555556,
             "#d8576b"
            ],
            [
             0.6666666666666666,
             "#ed7953"
            ],
            [
             0.7777777777777778,
             "#fb9f3a"
            ],
            [
             0.8888888888888888,
             "#fdca26"
            ],
            [
             1,
             "#f0f921"
            ]
           ],
           "sequentialminus": [
            [
             0,
             "#0d0887"
            ],
            [
             0.1111111111111111,
             "#46039f"
            ],
            [
             0.2222222222222222,
             "#7201a8"
            ],
            [
             0.3333333333333333,
             "#9c179e"
            ],
            [
             0.4444444444444444,
             "#bd3786"
            ],
            [
             0.5555555555555556,
             "#d8576b"
            ],
            [
             0.6666666666666666,
             "#ed7953"
            ],
            [
             0.7777777777777778,
             "#fb9f3a"
            ],
            [
             0.8888888888888888,
             "#fdca26"
            ],
            [
             1,
             "#f0f921"
            ]
           ]
          },
          "colorway": [
           "#636efa",
           "#EF553B",
           "#00cc96",
           "#ab63fa",
           "#FFA15A",
           "#19d3f3",
           "#FF6692",
           "#B6E880",
           "#FF97FF",
           "#FECB52"
          ],
          "font": {
           "color": "#2a3f5f"
          },
          "geo": {
           "bgcolor": "white",
           "lakecolor": "white",
           "landcolor": "#E5ECF6",
           "showlakes": true,
           "showland": true,
           "subunitcolor": "white"
          },
          "hoverlabel": {
           "align": "left"
          },
          "hovermode": "closest",
          "mapbox": {
           "style": "light"
          },
          "paper_bgcolor": "white",
          "plot_bgcolor": "#E5ECF6",
          "polar": {
           "angularaxis": {
            "gridcolor": "white",
            "linecolor": "white",
            "ticks": ""
           },
           "bgcolor": "#E5ECF6",
           "radialaxis": {
            "gridcolor": "white",
            "linecolor": "white",
            "ticks": ""
           }
          },
          "scene": {
           "xaxis": {
            "backgroundcolor": "#E5ECF6",
            "gridcolor": "white",
            "gridwidth": 2,
            "linecolor": "white",
            "showbackground": true,
            "ticks": "",
            "zerolinecolor": "white"
           },
           "yaxis": {
            "backgroundcolor": "#E5ECF6",
            "gridcolor": "white",
            "gridwidth": 2,
            "linecolor": "white",
            "showbackground": true,
            "ticks": "",
            "zerolinecolor": "white"
           },
           "zaxis": {
            "backgroundcolor": "#E5ECF6",
            "gridcolor": "white",
            "gridwidth": 2,
            "linecolor": "white",
            "showbackground": true,
            "ticks": "",
            "zerolinecolor": "white"
           }
          },
          "shapedefaults": {
           "line": {
            "color": "#2a3f5f"
           }
          },
          "ternary": {
           "aaxis": {
            "gridcolor": "white",
            "linecolor": "white",
            "ticks": ""
           },
           "baxis": {
            "gridcolor": "white",
            "linecolor": "white",
            "ticks": ""
           },
           "bgcolor": "#E5ECF6",
           "caxis": {
            "gridcolor": "white",
            "linecolor": "white",
            "ticks": ""
           }
          },
          "title": {
           "x": 0.05
          },
          "xaxis": {
           "automargin": true,
           "gridcolor": "white",
           "linecolor": "white",
           "ticks": "",
           "title": {
            "standoff": 15
           },
           "zerolinecolor": "white",
           "zerolinewidth": 2
          },
          "yaxis": {
           "automargin": true,
           "gridcolor": "white",
           "linecolor": "white",
           "ticks": "",
           "title": {
            "standoff": 15
           },
           "zerolinecolor": "white",
           "zerolinewidth": 2
          }
         }
        },
        "title": {
         "text": "g<sup>2</sup>(τ) vs t"
        },
        "xaxis": {
         "range": [
          -4,
          -2
         ],
         "title": {
          "text": "t (ms)"
         },
         "type": "log"
        },
        "yaxis": {
         "title": {
          "text": "g<sup>2</sup>(τ)"
         }
        }
       }
      }
     },
     "metadata": {},
     "output_type": "display_data"
    }
   ],
   "source": [
    "# plot row data\n",
    "\n",
    "fig = go.Figure()\n",
    "\n",
    "# fig.add_trace(go.Scatter(x=x, y=y, mode='lines', name='data'))\n",
    "\n",
    "fig.update_layout(\n",
    "\txaxis_type=\"log\",\n",
    "\tyaxis_title=\"g<sup>2</sup>(τ)\",\n",
    "\txaxis_title=\"t (ms)\",\n",
    "\ttitle='g<sup>2</sup>(τ) vs t',\n",
    "\txaxis=dict(range=[np.log10(0.0001), np.log10(0.01)]),\n",
    "\t# yaxis=dict(range=[0, 0.06])\n",
    ")\n",
    "\n",
    "for θ in data.keys():\n",
    "\tfig.add_trace(go.Scatter(x=data[θ]['t'], y=data[θ]['g'], mode='markers', name=f'θ={θ}°',error_y=dict( \n",
    "\t\t\ttype='constant', \n",
    "\t\t\tvalue=0.001, \n",
    "\t\t\tcolor='black',\n",
    "\t\t\tthickness=1.5, \n",
    "\t\t\twidth=3, \n",
    "\t\t)))\n",
    "\n",
    "fig.show()"
   ]
  },
  {
   "cell_type": "code",
   "execution_count": 5,
   "metadata": {},
   "outputs": [
    {
     "data": {
      "text/html": [
       "<div>\n",
       "<style scoped>\n",
       "    .dataframe tbody tr th:only-of-type {\n",
       "        vertical-align: middle;\n",
       "    }\n",
       "\n",
       "    .dataframe tbody tr th {\n",
       "        vertical-align: top;\n",
       "    }\n",
       "\n",
       "    .dataframe thead th {\n",
       "        text-align: right;\n",
       "    }\n",
       "</style>\n",
       "<table border=\"1\" class=\"dataframe\">\n",
       "  <thead>\n",
       "    <tr style=\"text-align: right;\">\n",
       "      <th></th>\n",
       "      <th>θ</th>\n",
       "      <th>γ</th>\n",
       "      <th>σγ</th>\n",
       "    </tr>\n",
       "  </thead>\n",
       "  <tbody>\n",
       "    <tr>\n",
       "      <th>0</th>\n",
       "      <td>130</td>\n",
       "      <td>4371.401608</td>\n",
       "      <td>181.272346</td>\n",
       "    </tr>\n",
       "    <tr>\n",
       "      <th>1</th>\n",
       "      <td>120</td>\n",
       "      <td>4041.892054</td>\n",
       "      <td>155.063523</td>\n",
       "    </tr>\n",
       "    <tr>\n",
       "      <th>2</th>\n",
       "      <td>110</td>\n",
       "      <td>3504.513596</td>\n",
       "      <td>127.011402</td>\n",
       "    </tr>\n",
       "    <tr>\n",
       "      <th>3</th>\n",
       "      <td>100</td>\n",
       "      <td>3160.465913</td>\n",
       "      <td>102.062704</td>\n",
       "    </tr>\n",
       "    <tr>\n",
       "      <th>4</th>\n",
       "      <td>90</td>\n",
       "      <td>2634.144280</td>\n",
       "      <td>76.330465</td>\n",
       "    </tr>\n",
       "    <tr>\n",
       "      <th>5</th>\n",
       "      <td>80</td>\n",
       "      <td>2190.704671</td>\n",
       "      <td>58.424413</td>\n",
       "    </tr>\n",
       "    <tr>\n",
       "      <th>6</th>\n",
       "      <td>70</td>\n",
       "      <td>1699.011400</td>\n",
       "      <td>44.416291</td>\n",
       "    </tr>\n",
       "    <tr>\n",
       "      <th>7</th>\n",
       "      <td>60</td>\n",
       "      <td>1286.554733</td>\n",
       "      <td>32.391719</td>\n",
       "    </tr>\n",
       "    <tr>\n",
       "      <th>8</th>\n",
       "      <td>50</td>\n",
       "      <td>861.021581</td>\n",
       "      <td>20.172900</td>\n",
       "    </tr>\n",
       "  </tbody>\n",
       "</table>\n",
       "</div>"
      ],
      "text/plain": [
       "     θ            γ          σγ\n",
       "0  130  4371.401608  181.272346\n",
       "1  120  4041.892054  155.063523\n",
       "2  110  3504.513596  127.011402\n",
       "3  100  3160.465913  102.062704\n",
       "4   90  2634.144280   76.330465\n",
       "5   80  2190.704671   58.424413\n",
       "6   70  1699.011400   44.416291\n",
       "7   60  1286.554733   32.391719\n",
       "8   50   861.021581   20.172900"
      ]
     },
     "metadata": {},
     "output_type": "display_data"
    }
   ],
   "source": [
    "# fit data\n",
    "\n",
    "\n",
    "f = lambda x, A, B, γ: A*np.exp(-γ*x) + B\n",
    "\n",
    "for key in data.keys():\n",
    "    x = data[key]['t']\n",
    "    y = data[key]['g']\n",
    "    sigmay = data[key]['sigmag']\n",
    "    m = Interpolazione(x, y, sigmay, f, [0.05, 0.001, 2.7],['A','B','γ'])\n",
    "    data[key]['fit'] = m\n",
    "    # print(m.values['γ'])\n",
    "    data[key]['gamma'] = m.values['γ']\n",
    "    GAMMA.append(m.values['γ'])\n",
    "    sigmaGAMMA.append(m.errors['γ'])\n",
    "\n",
    "GAMMA = np.array(GAMMA) \n",
    "sigmaGAMMA = np.array(sigmaGAMMA)\n",
    "\n",
    "# print gamma teta:\n",
    "gammateta = pd.DataFrame({'θ':TETA,'γ':GAMMA,'σγ':sigmaGAMMA})\n",
    "display(gammateta)"
   ]
  },
  {
   "cell_type": "markdown",
   "metadata": {},
   "source": [
    "# PLOT FIT"
   ]
  },
  {
   "cell_type": "code",
   "execution_count": 6,
   "metadata": {},
   "outputs": [
    {
     "data": {
      "application/vnd.plotly.v1+json": {
       "config": {
        "plotlyServerURL": "https://plot.ly"
       },
       "data": [
        {
         "line": {
          "color": "#1F77B4"
         },
         "mode": "lines",
         "showlegend": false,
         "type": "scatter",
         "x": {
          "bdata": "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",
          "dtype": "f8"
         },
         "y": {
          "bdata": "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",
          "dtype": "f8"
         }
        },
        {
         "error_y": {
          "color": "#1F77B4",
          "thickness": 1.5,
          "type": "constant",
          "value": 0.001,
          "width": 3
         },
         "marker": {
          "color": "#1F77B4"
         },
         "mode": "markers",
         "name": "θ=130°",
         "type": "scatter",
         "x": {
          "bdata": "Sa+8mvLXGj8xRRTu8DIeP43ttaD3xiA/grhhynZ0Ij92gw309SEkP2pOuR11zyU/XxllR/R8Jz9U5BBxcyopP0mvvJry1yo/MUUU7vAyLj+N7bWg98YwP4K4Ycp2dDI/doMN9PUhND9qTrkddc81P18ZZUf0fDc/VOQQcXMqOT9Jr7ya8tc6PzFFFO7wMj4/je21oPfGQD+CuGHKdnRCP3aDDfT1IUQ/ak65HXXPRT9fGWVH9HxHP1TkEHFzKkk/Sa+8mvLXSj8xRRTu8DJOP43ttaD3xlA/grhhynZ0Uj92gw309SFUP2pOuR11z1U/XxllR/R8Vz9U5BBxcypZP0mvvJry11o/MUUU7vAyXj+N7bWg98ZgP4K4Ycp2dGI/doMN9PUhZD9qTrkddc9lP18ZZUf0fGc/VOQQcXMqaT9Jr7ya8tdqPzFFFO7wMm4/je21oPfGcD+CuGHKdnRyP3aDDfT1IXQ/ak65HXXPdT9fGWVH9Hx3P1TkEHFzKnk/Sa+8mvLXej8xRRTu8DJ+P43ttaD3xoA/grhhynZ0gj92gw309SGEPw==",
          "dtype": "f8"
         },
         "y": {
          "bdata": "fQyxVd1+nD9j78UX7fGaP/MUg9H2+Zk/EIXgAhq2lz+9vbVdsjuWPzeEz3sIT5U/A2Jt51ZjlD844blSKjyTP5qo70YwH5I/VnzoJ0EkkD9M8m0L4HeNP5apk32hkYk/TY2GQrqOhz+JdEcYaVaEPxqdHNNNQYI/8YAVVBLhgD/uZGgjdCN+P56rtUmojXg/LO6BTu9/cz8mXhIlKQJvP8s60s+KXmw/aWHDkQ+TYz+Q7aW+ZpheP9hOEEygTlo/2XfJKGQhWT+QW0AmIapTP0UE4d+nd08/r4Sak6r8QT/3MzvZbRpCPye9uwozsTw/f0HGNLdoHz9PEjYvk1AmP5oVuT8R5gq/llLAC5VeHz+ZT76mrAITP0XEwH9igB4/bpioqykzLz9ZJAebI/Mkv6rtY1u/xik/m81ANFWhEb8ku5AWgKkDP0Gz0kHquCI/7H37misaGT9P4R/unscuP7pf7qQYePu+zCz2OF363D7kEQfJNRclvyrrLDMblgU/7oZ7SBs38z7e3eR8LkPgPj1RrVRETPg+wnYBBY8VAj/Pg2giLcvnPg==",
          "dtype": "f8"
         }
        },
        {
         "line": {
          "color": "#FF7F0E"
         },
         "mode": "lines",
         "showlegend": false,
         "type": "scatter",
         "x": {
          "bdata": "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",
          "dtype": "f8"
         },
         "y": {
          "bdata": "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",
          "dtype": "f8"
         }
        },
        {
         "error_y": {
          "color": "#FF7F0E",
          "thickness": 1.5,
          "type": "constant",
          "value": 0.001,
          "width": 3
         },
         "marker": {
          "color": "#FF7F0E"
         },
         "mode": "markers",
         "name": "θ=120°",
         "type": "scatter",
         "x": {
          "bdata": "Sa+8mvLXGj8xRRTu8DIeP43ttaD3xiA/grhhynZ0Ij92gw309SEkP2pOuR11zyU/XxllR/R8Jz9U5BBxcyopP0mvvJry1yo/MUUU7vAyLj+N7bWg98YwP4K4Ycp2dDI/doMN9PUhND9qTrkddc81P18ZZUf0fDc/VOQQcXMqOT9Jr7ya8tc6PzFFFO7wMj4/je21oPfGQD+CuGHKdnRCP3aDDfT1IUQ/ak65HXXPRT9fGWVH9HxHP1TkEHFzKkk/Sa+8mvLXSj8xRRTu8DJOP43ttaD3xlA/grhhynZ0Uj92gw309SFUP2pOuR11z1U/XxllR/R8Vz9U5BBxcypZP0mvvJry11o/MUUU7vAyXj+N7bWg98ZgP4K4Ycp2dGI/doMN9PUhZD9qTrkddc9lP18ZZUf0fGc/VOQQcXMqaT9Jr7ya8tdqPzFFFO7wMm4/je21oPfGcD+CuGHKdnRyP3aDDfT1IXQ/ak65HXXPdT9fGWVH9Hx3P1TkEHFzKnk/Sa+8mvLXej8xRRTu8DJ+P43ttaD3xoA/grhhynZ0gj92gw309SGEPw==",
          "dtype": "f8"
         },
         "y": {
          "bdata": "uKkmLQGdnj9BMKJIUi2dP70LSoc9o5s/EgR+Q5cmmz+ML9rjhXSYP1PF+UCXFZc/3PRnP1JElj+Fjmfh/JeVP88iJYeZx5M/vi5oxkcwkj9YiolyDkOQP4cJtIUxM40/m6ECcWjbij9muRG7W/6IP/pIpTOLq4U/KIBiZMkcgz+Wkd15oB2BPyUvnZzCxnw/GEmzYH9ldz9B+0eVF09zP36kDEVPBHA/MAPffgqRbT8wmRF79MhnPwyRVxCYwWc/qOLnO88KYj+aHW8Tal1VPx+p3EnmhkY/uE72qw0JUD+O7uMSjvNDPxEgutWwNTQ/DuMaER/nLD8tXuU2BSVBP8L/1zJ5ADQ/KCDVBwXyC79WjoQOni8UP/rheCKuuiM/F+tY+/QFKD9BEv4VTmMWP7yITsmUsxk/iHKBBn2bxT77K3rcPd0FvyRAWlddayU//lHews9DCr9JUcrPvXPuvuq78L2eMzK/Ui1Yob4p8L7y2RLey6kHv4ezRQv1WBi/6tzY3x7zHb8rW8PDtnApP+YCvGkY1fk+YJjSTluQHr+G6UgcHGYkvw==",
          "dtype": "f8"
         }
        },
        {
         "line": {
          "color": "#2CA02C"
         },
         "mode": "lines",
         "showlegend": false,
         "type": "scatter",
         "x": {
          "bdata": "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",
          "dtype": "f8"
         },
         "y": {
          "bdata": "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",
          "dtype": "f8"
         }
        },
        {
         "error_y": {
          "color": "#2CA02C",
          "thickness": 1.5,
          "type": "constant",
          "value": 0.001,
          "width": 3
         },
         "marker": {
          "color": "#2CA02C"
         },
         "mode": "markers",
         "name": "θ=110°",
         "type": "scatter",
         "x": {
          "bdata": "Sa+8mvLXGj8xRRTu8DIeP43ttaD3xiA/grhhynZ0Ij92gw309SEkP2pOuR11zyU/XxllR/R8Jz9U5BBxcyopP0mvvJry1yo/MUUU7vAyLj+N7bWg98YwP4K4Ycp2dDI/doMN9PUhND9qTrkddc81P18ZZUf0fDc/VOQQcXMqOT9Jr7ya8tc6PzFFFO7wMj4/je21oPfGQD+CuGHKdnRCP3aDDfT1IUQ/ak65HXXPRT9fGWVH9HxHP1TkEHFzKkk/Sa+8mvLXSj8xRRTu8DJOP43ttaD3xlA/grhhynZ0Uj92gw309SFUP2pOuR11z1U/XxllR/R8Vz9U5BBxcypZP0mvvJry11o/MUUU7vAyXj+N7bWg98ZgP4K4Ycp2dGI/doMN9PUhZD9qTrkddc9lP18ZZUf0fGc/VOQQcXMqaT9Jr7ya8tdqPzFFFO7wMm4/je21oPfGcD+CuGHKdnRyP3aDDfT1IXQ/ak65HXXPdT9fGWVH9Hx3P1TkEHFzKnk/Sa+8mvLXej8xRRTu8DJ+P43ttaD3xoA/grhhynZ0gj92gw309SGEPw==",
          "dtype": "f8"
         },
         "y": {
          "bdata": "hlW8kXnknz9wVLgvsUOeP5U3dj9dk5w/VgPeEzXimz+3KR4X1SKaP5Cq3Pqfspg/+w+fKpWmlz+GIc2z7Q+XP+kb4mlDD5Y/9kGWBRN/lD/fMTz2s1iSP1QImoUswZA/nAO65dmbjj+czgR5LGyMP8ysSsdBrok/x7q4jQbwhj+vaZTkbzGFP0Fe1Xo7mYI/NOHRpQOCfj/7XbeMxJl5P0vgnDKzpnQ/TfUi4v/xcj8f3FuZCeltPw44ATxYtWo/brENotawZj8gP8D/+/hgPwwdXLatmFc/bvKquoaaSj/r7s9/7k9CP1UdzexO0kc/UruwTPfuOj+bpk6OotE0P+kBDeUtHzU/xBDEb8YNKD9cC1oYh9I1P5zxGWvobwW/8Ox+V/yNI79wq7va09PsvuWWnRhuzSE/06dIyoXmJD9sfqPt/eUhP335E8eQyxc/df1IMic/JL8MyE/E0T4eP0R4+I7BWio/Aq+/umT7JD/zq1EBy+D8vpux6bpQ9h8/jW6cT/8LCz/fRkBJ5VQQP9+R7vT1xhE/WrPQsMqcDb/NAJcI210Fvw==",
          "dtype": "f8"
         }
        },
        {
         "line": {
          "color": "#D62728"
         },
         "mode": "lines",
         "showlegend": false,
         "type": "scatter",
         "x": {
          "bdata": "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",
          "dtype": "f8"
         },
         "y": {
          "bdata": "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",
          "dtype": "f8"
         }
        },
        {
         "error_y": {
          "color": "#D62728",
          "thickness": 1.5,
          "type": "constant",
          "value": 0.001,
          "width": 3
         },
         "marker": {
          "color": "#D62728"
         },
         "mode": "markers",
         "name": "θ=100°",
         "type": "scatter",
         "x": {
          "bdata": "Sa+8mvLXGj8xRRTu8DIeP43ttaD3xiA/grhhynZ0Ij92gw309SEkP2pOuR11zyU/XxllR/R8Jz9U5BBxcyopP0mvvJry1yo/MUUU7vAyLj+N7bWg98YwP4K4Ycp2dDI/doMN9PUhND9qTrkddc81P18ZZUf0fDc/VOQQcXMqOT9Jr7ya8tc6PzFFFO7wMj4/je21oPfGQD+CuGHKdnRCP3aDDfT1IUQ/ak65HXXPRT9fGWVH9HxHP1TkEHFzKkk/Sa+8mvLXSj8xRRTu8DJOP43ttaD3xlA/grhhynZ0Uj92gw309SFUP2pOuR11z1U/XxllR/R8Vz9U5BBxcypZP0mvvJry11o/MUUU7vAyXj+N7bWg98ZgP4K4Ycp2dGI/doMN9PUhZD9qTrkddc9lP18ZZUf0fGc/VOQQcXMqaT9Jr7ya8tdqPzFFFO7wMm4/je21oPfGcD+CuGHKdnRyP3aDDfT1IXQ/ak65HXXPdT9fGWVH9Hx3P1TkEHFzKnk/Sa+8mvLXej8xRRTu8DJ+P43ttaD3xoA/grhhynZ0gj92gw309SGEPw==",
          "dtype": "f8"
         },
         "y": {
          "bdata": "feXmwBfLoT9DnahbLPugP3/JfPYSGaA/4FPvXw/cnz+srdhfdk+eP2WgfIuYI50/fEYiNIKNmz+uHkE78eaaP+CXRAdu7pk/dydEZWjhlz/kV2JUCJqVPxxZnqy99JM/GdwgpLj0kT9EigESTaCQPyl1bn/TYI8/asmZ3N4kjD8YuJeP/12KP4hFsYEZ+IY/VC8JYX8jgz94K4UfIIiBP/NLDukBPX4/VfDjgStNeD+daR2wBoN2P+0t5Xyx93I/ei+ly+4LcD8wUyhFCulpPyVGhaBZyGI/CtsuuA8OYD9xM4HHXL5aPw0P7aUhkVM/rElDz15kTz+JyCpRaOxKPyRFZFjFGzk/pG86GJ1rKT8fqgq8fLMpP1qix7AJtxw/GqPXWcthAr9R0XzBs6wXP1xy2bqt0xW/5ClO5r3ADD98ofy0vDgiv1zmpJJiyRo/VVelQCSU/r4bhCVV1W8RPz4ZWfaI//m+TeZWS+yoEr/LvlYCXKIgP5VFozMXVSI/ep4m0LObMT8LCFgkpvClvjbE/k+aVg4/RFEN7BKE9D6CTHhrnDIHvw==",
          "dtype": "f8"
         }
        },
        {
         "line": {
          "color": "#9467BD"
         },
         "mode": "lines",
         "showlegend": false,
         "type": "scatter",
         "x": {
          "bdata": "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",
          "dtype": "f8"
         },
         "y": {
          "bdata": "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",
          "dtype": "f8"
         }
        },
        {
         "error_y": {
          "color": "#9467BD",
          "thickness": 1.5,
          "type": "constant",
          "value": 0.001,
          "width": 3
         },
         "marker": {
          "color": "#9467BD"
         },
         "mode": "markers",
         "name": "θ=90°",
         "type": "scatter",
         "x": {
          "bdata": "Sa+8mvLXGj8xRRTu8DIeP43ttaD3xiA/grhhynZ0Ij92gw309SEkP2pOuR11zyU/XxllR/R8Jz9U5BBxcyopP0mvvJry1yo/MUUU7vAyLj+N7bWg98YwP4K4Ycp2dDI/doMN9PUhND9qTrkddc81P18ZZUf0fDc/VOQQcXMqOT9Jr7ya8tc6PzFFFO7wMj4/je21oPfGQD+CuGHKdnRCP3aDDfT1IUQ/ak65HXXPRT9fGWVH9HxHP1TkEHFzKkk/Sa+8mvLXSj8xRRTu8DJOP43ttaD3xlA/grhhynZ0Uj92gw309SFUP2pOuR11z1U/XxllR/R8Vz9U5BBxcypZP0mvvJry11o/MUUU7vAyXj+N7bWg98ZgP4K4Ycp2dGI/doMN9PUhZD9qTrkddc9lP18ZZUf0fGc/VOQQcXMqaT9Jr7ya8tdqPzFFFO7wMm4/je21oPfGcD+CuGHKdnRyP3aDDfT1IXQ/ak65HXXPdT9fGWVH9Hx3P1TkEHFzKnk/Sa+8mvLXej8xRRTu8DJ+P43ttaD3xoA/grhhynZ0gj92gw309SGEPw==",
          "dtype": "f8"
         },
         "y": {
          "bdata": "C0W6n1OQoz80eKkiJvKiP3Ak0GBT56E/IyHbQwyFoT8xow7hTtigP5QaNbrekaA/EORFyyZlnz8Lz0vFxryePwGeWbfmM50/fiiHBa12mz8uLMlLSLWZP8Ey27pA7pc/sPye/e1Xlj8rpWd6ibGUP6oKDcSymZM/t+BWi5mOkj/B6iNLQRKRPx8JRQQtbo0/hq+vdakRij8jLZW3I5yGPxGYPb/es4Q/fnRmksPtgT8DIR8Vez+AP9FjStpDsXs/hL2JITmZeD8kq413aNRzP1dgp9xtrG4/JvREIRM6aT+PUX1rUMljP/U/CujPyGE/zLhnZRQuWD9kNLjOOyVSP9nK9f1ulk8/DP/VIiMZQj/emEA/wwMpPxqtwQBkFiE/9LiQDFdVGL/c34rY6BsvP6+fHbos89i+JbTTec7CIL+j3A7xNSLtPgFA4bLiiRQ/OIIDQx4NHL98gdCv6gInP6x/r58AtSE/x8RLD8FzGr/MF5yGxmH5vnV0fZvVbQY/woCfHeKyCb/qwulPJNn4PhzuVBVigga/nMZWzfw1HL8kuWkkIxb6vg==",
          "dtype": "f8"
         }
        },
        {
         "line": {
          "color": "#8C564B"
         },
         "mode": "lines",
         "showlegend": false,
         "type": "scatter",
         "x": {
          "bdata": "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",
          "dtype": "f8"
         },
         "y": {
          "bdata": "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",
          "dtype": "f8"
         }
        },
        {
         "error_y": {
          "color": "#8C564B",
          "thickness": 1.5,
          "type": "constant",
          "value": 0.001,
          "width": 3
         },
         "marker": {
          "color": "#8C564B"
         },
         "mode": "markers",
         "name": "θ=80°",
         "type": "scatter",
         "x": {
          "bdata": "Sa+8mvLXGj8xRRTu8DIeP43ttaD3xiA/grhhynZ0Ij92gw309SEkP2pOuR11zyU/XxllR/R8Jz9U5BBxcyopP0mvvJry1yo/MUUU7vAyLj+N7bWg98YwP4K4Ycp2dDI/doMN9PUhND9qTrkddc81P18ZZUf0fDc/VOQQcXMqOT9Jr7ya8tc6PzFFFO7wMj4/je21oPfGQD+CuGHKdnRCP3aDDfT1IUQ/ak65HXXPRT9fGWVH9HxHP1TkEHFzKkk/Sa+8mvLXSj8xRRTu8DJOP43ttaD3xlA/grhhynZ0Uj92gw309SFUP2pOuR11z1U/XxllR/R8Vz9U5BBxcypZP0mvvJry11o/MUUU7vAyXj+N7bWg98ZgP4K4Ycp2dGI/doMN9PUhZD9qTrkddc9lP18ZZUf0fGc/VOQQcXMqaT9Jr7ya8tdqPzFFFO7wMm4/je21oPfGcD+CuGHKdnRyP3aDDfT1IXQ/ak65HXXPdT9fGWVH9Hx3P1TkEHFzKnk/Sa+8mvLXej8xRRTu8DJ+P43ttaD3xoA/grhhynZ0gj92gw309SGEPw==",
          "dtype": "f8"
         },
         "y": {
          "bdata": "PGh23VuRpD95d2SsNv+jP63+Y3zzdqM/w+BQrt8Coz8W1jK+1HSiPz/A//v48KE//9GSIo1loT+umSH6WjyhP1Opfko6b6A/4d2AhYIInz+uW05TFWSdP90WG6mtx5s/UBK3r6gtmj+Z8Ev9vKmYP5MkvsklRJc/X439diM9lj+/pVKi2wGVP+rWxjPDoZI/sEBPXr+7kD8iLTr+sEqOP0awFkRJ7Yo/EERxIlVviD/dH5ScuMGFPz6mQRNZUoM/mABXDR2WgT+slmwjO8J7P8HvlS8elHY/5XslFEtfcj8+g36NwRZtP53O2/n6MWg/bfijyUHgYz+Mq+NbzI1hP45ZOEGCf10/BRkBFY4gVT+lstWjeK5SPxsMAwP580w/T6co1ipzQz8C5UyZ725CPxehErYjxTU/QAgzM1RBHD/8qaVECEspP+iagqtuBBE/ZVP/Ny6XKD96iaWQAeMUPxQrAbqxVRA/AK2Wx9ytA78FgRl8L/gjv0RU9/0hmgW/nlEh/J6oAr9R7pZaatoQvxwYioVr/yS/9a08bBUJJb80eiFcggUwvw==",
          "dtype": "f8"
         }
        },
        {
         "line": {
          "color": "#E377C2"
         },
         "mode": "lines",
         "showlegend": false,
         "type": "scatter",
         "x": {
          "bdata": "Sa+8mvLXGj8ndjiqb2UdPwQ9tLns8h8/8QGY5DRAIT9g5VVs84YiP8/IE/SxzSM/PqzRe3AUJT+sj48DL1smPxxzTYvtoSc/ilYLE6zoKD/6Ocmaai8qP2gdhyIpdis/1wBFque8LD9G5AIypgMuP7THwLlkSi8/klW/oJFIMD9JR57k8OswPwE5fShQjzE/uCpcbK8yMj9wHDuwDtYyPycOGvRteTM/3v/4N80cND+W8dd7LMA0P03jtr+LYzU/BdWVA+sGNj+8xnRHSqo2P3O4U4upTTc/K6oyzwjxNz/imxETaJQ4P5qN8FbHNzk/UX/PmibbOT8Jca7ehX46P8BijSLlITs/d1RsZkTFOz8vRkuqo2g8P+Y3Ku4CDD0/nikJMmKvPT9VG+h1wVI+Pw0Nx7kg9j4/xP6l/X+ZPz8+eMKgbx5APxrxsUIfcEA/9Wmh5M7BQD/R4pCGfhNBP61bgCguZUE/idRvyt22QT9kTV9sjQhCP0DGTg49WkI/HD8+sOyrQj/3ty1SnP1CP9MwHfRLT0M/r6kMlvugQz+KIvw3q/JDP2ab69laREQ/QhTbewqWRD8ejcoduudEP/kFur9pOUU/1X6pYRmLRT+x95gDydxFP4xwiKV4LkY/aOl3RyiARj9EYmfp19FGPyDbVouHI0c/+1NGLTd1Rz/XzDXP5sZHP7NFJXGWGEg/jr4UE0ZqSD9qNwS19btIP0aw81alDUk/Iinj+FRfST/9odKaBLFJP9kawjy0Ako/tZOx3mNUSj+QDKGAE6ZKP2yFkCLD90o/SP5/xHJJSz8kd29mIptLP//vXgjS7Es/22hOqoE+TD+34T1MMZBMP5NaLe7g4Uw/btMckJAzTT9KTAwyQIVNPybF+9Pv1k0/AT7rdZ8oTj/dttoXT3pOP7kvyrn+y04/lai5W64dTz9wIan9XW9PP0yamJ8NwU8/lAnEoF4JUD8CxrtxNjJQP3CCs0IOW1A/3j6rE+aDUD9M+6LkvaxQP7m3mrWV1VA/J3SShm3+UD+VMIpXRSdRPwPtgSgdUFE/cal5+fR4UT/fZXHKzKFRP00iaZukylE/u95gbHzzUT8pm1g9VBxSP5ZXUA4sRVI/BBRI3wNuUj9y0D+w25ZSP+CMN4Gzv1I/TkkvUovoUj+8BScjYxFTPyrCHvQ6OlM/l34WxRJjUz8FOw6W6otTP3P3BWfCtFM/4bP9N5rdUz9PcPUIcgZUP70s7dlJL1Q/K+nkqiFYVD+Ypdx7+YBUPwZi1EzRqVQ/dB7MHanSVD/i2sPugPtUP1CXu79YJFU/vlOzkDBNVT8sEKthCHZVP5nMojLgnlU/B4maA7jHVT91RZLUj/BVP+MBiqVnGVY/Ub6Bdj9CVj+/enlHF2tWPy03cRjvk1Y/mvNo6ca8Vj8IsGC6nuVWP3ZsWIt2Dlc/5ChQXE43Vz9S5UctJmBXP8ChP/79iFc/Ll43z9WxVz+bGi+grdpXPwnXJnGFA1g/d5MeQl0sWD/lTxYTNVVYP1MMDuQMflg/wcgFteSmWD8vhf2FvM9YP5xB9VaU+Fg/Cv7sJ2whWT94uuT4Q0pZP+Z23Mkbc1k/VDPUmvObWT/C78try8RZPzCswzyj7Vk/nWi7DXsWWj8LJbPeUj9aP3nhqq8qaFo/552igAKRWj9VWppR2rlaP8MWkiKy4lo/MdOJ84kLWz+fj4HEYTRbPwxMeZU5XVs/eghxZhGGWz/oxGg36a5bP1aBYAjB11s/xD1Y2ZgAXD8y+k+qcClcP6C2R3tIUlw/DXM/TCB7XD97Lzcd+KNcP+nrLu7PzFw/V6gmv6f1XD/FZB6Qfx5dPzMhFmFXR10/od0NMi9wXT8OmgUDB5ldP3xW/dPewV0/6hL1pLbqXT9Yz+x1jhNeP8aL5EZmPF4/NEjcFz5lXj+iBNToFY5ePw/By7nttl4/fX3DisXfXj/rObtbnQhfP1n2six1MV8/x7Kq/UxaXz81b6LOJINfP6Mrmp/8q18/EOiRcNTUXz9+pIlBrP1fP3awQAlCE2A/rY688a0nYD/kbDjaGTxgPxtLtMKFUGA/Uikwq/FkYD+IB6yTXXlgP7/lJ3zJjWA/9sOjZDWiYD8toh9NobZgP2SAmzUNy2A/m14XHnnfYD/SPJMG5fNgPwkbD+9QCGE/QPmK17wcYT931wbAKDFhP661gqiURWE/5JP+kABaYT8bcnp5bG5hP1JQ9mHYgmE/iS5ySkSXYT/ADO4ysKthP/fqaRscwGE/LsnlA4jUYT9lp2Hs8+hhP5yF3dRf/WE/02NZvcsRYj8KQtWlNyZiP0EgUY6jOmI/eP7Mdg9PYj+v3Ehfe2NiP+W6xEfnd2I/HJlAMFOMYj9Td7wYv6BiP4pVOAErtWI/wTO06ZbJYj/4ETDSAt5iPy/wq7pu8mI/Zs4no9oGYz+drKOLRhtjP9SKH3SyL2M/C2mbXB5EYz9CRxdFilhjP3klky32bGM/sAMPFmKBYz/m4Yr+zZVjPx3ABuc5qmM/VJ6Cz6W+Yz+LfP63EdNjP8JaeqB952M/+Tj2iOn7Yz8wF3JxVRBkP2f17VnBJGQ/ntNpQi05ZD/VseUqmU1kPwyQYRMFYmQ/Q27d+3B2ZD96TFnk3IpkP7Eq1cxIn2Q/5whRtbSzZD8e58ydIMhkP1XFSIaM3GQ/jKPEbvjwZD/DgUBXZAVlP/pfvD/QGWU/MT44KDwuZT9oHLQQqEJlP5/6L/kTV2U/1tir4X9rZT8NtyfK639lP0SVo7JXlGU/e3Mfm8OoZT+yUZuDL71lP+kvF2yb0WU/Hw6TVAfmZT9W7A49c/plP43KiiXfDmY/xKgGDksjZj/7hoL2tjdmPzJl/t4iTGY/aUN6x45gZj+gIfav+nRmP9f/cZhmiWY/Dt7tgNKdZj9FvGlpPrJmP3ya5VGqxmY/s3hhOhbbZj/qVt0igu9mPyA1WQvuA2c/VxPV81kYZz+O8VDcxSxnP8XPzMQxQWc//K1IrZ1VZz8zjMSVCWpnP2pqQH51fmc/oUi8ZuGSZz/YJjhPTadnPw8FtDe5u2c/RuMvICXQZz99wasIkeRnP7SfJ/H8+Gc/632j2WgNaD8hXB/C1CFoP1g6m6pANmg/jxgXk6xKaD/G9pJ7GF9oP/3UDmSEc2g/NLOKTPCHaD9rkQY1XJxoP6Jvgh3IsGg/2U3+BTTFaD8QLHrun9loP0cK9tYL7mg/fuhxv3cCaT+1xu2n4xZpP+ykaZBPK2k/IoPleLs/aT9ZYWFhJ1RpP5A/3UmTaGk/xx1ZMv98aT/++9Qaa5FpPzXaUAPXpWk/bLjM60K6aT+jlkjUrs5pP9p0xLwa42k/EVNApYb3aT9IMbyN8gtqP38POHZeIGo/tu2zXso0aj/tyy9HNklqPySqqy+iXWo/WognGA5yaj+RZqMAeoZqP8hEH+nlmmo//yKb0VGvaj82ARe6vcNqP23fkqIp2Go/pL0Oi5Xsaj/bm4pzAQFrPxJ6BlxtFWs/SViCRNkpaz+ANv4sRT5rP7cUehWxUms/7vL1/Rxnaz8l0XHmiHtrP1uv7c70j2s/ko1pt2Ckaz/Ja+WfzLhrPwBKYYg4zWs/NyjdcKThaz9uBllZEPZrP6Xk1EF8Cmw/3MJQKugebD8TocwSVDNsP0p/SPu/R2w/gV3E4ytcbD+4O0DMl3BsP+8ZvLQDhWw/Jvg3nW+ZbD9c1rOF261sP5O0L25Hwmw/ypKrVrPWbD8BcSc/H+tsPzhPoyeL/2w/by0fEPcTbT+mC5v4YihtP93pFuHOPG0/FMiSyTpRbT9Lpg6ypmVtP4KEipoSem0/uWIGg36ObT/wQIJr6qJtPycf/lNWt20/Xf15PMLLbT+U2/UkLuBtP8u5cQ2a9G0/Apjt9QUJbj85dmnecR1uP3BU5cbdMW4/pzJhr0lGbj/eEN2XtVpuPxXvWIAhb24/TM3UaI2Dbj+Dq1BR+ZduP7qJzDllrG4/8WdIItHAbj8oRsQKPdVuP14kQPOo6W4/lQK82xT+bj/M4DfEgBJvPwO/s6zsJm8/Op0vlVg7bz9xe6t9xE9vP6hZJ2YwZG8/3zejTpx4bz8WFh83CI1vP030mh90oW8/hNIWCOC1bz+7sJLwS8pvP/KODtm33m8/KW2KwSPzbz+wJQPVxwNwP8sUQcn9DXA/5wN/vTMYcD8C87yxaSJwPx7i+qWfLHA/OdE4mtU2cD9VwHaOC0FwP3CvtIJBS3A/jJ7ydndVcD+njTBrrV9wP8N8bl/jaXA/3musUxl0cD/5WupHT35wPxVKKDyFiHA/MDlmMLuScD9MKKQk8ZxwP2cX4hgnp3A/gwYgDV2xcD+e9V0Bk7twP7rkm/XIxXA/1dPZ6f7PcD/xwhfeNNpwPwyyVdJq5HA/J6GTxqDucD9DkNG61vhwP15/D68MA3E/em5No0INcT+VXYuXeBdxP7FMyYuuIXE/zDsHgOQrcT/oKkV0GjZxPwMag2hQQHE/HwnBXIZKcT86+P5QvFRxP1bnPEXyXnE/cdZ6OShpcT+MxbgtXnNxP6i09iGUfXE/w6M0FsqHcT/fknIKAJJxP/qBsP41nHE/FnHu8mumcT8xYCznobBxP01PatvXunE/aD6ozw3FcT+ELebDQ89xP58cJLh52XE/uwtirK/jcT/W+p+g5e1xP/Lp3ZQb+HE/DdkbiVECcj8oyFl9hwxyP0S3l3G9FnI/X6bVZfMgcj97lRNaKStyP5aEUU5fNXI/snOPQpU/cj/NYs02y0lyP+lRCysBVHI/BEFJHzdecj8gMIcTbWhyPzsfxQejcnI/Vw4D/Nh8cj9y/UDwDodyP47sfuREkXI/qdu82Hqbcj/EyvrMsKVyP+C5OMHmr3I/+6h2tRy6cj8XmLSpUsRyPzKH8p2IznI/TnYwkr7Ycj9pZW6G9OJyP4VUrHoq7XI/oEPqbmD3cj+8MihjlgFzP9chZlfMC3M/8xCkSwIWcz8OAOI/OCBzPynvHzRuKnM/Rd5dKKQ0cz9gzZsc2j5zP3y82RAQSXM/l6sXBUZTcz+zmlX5e11zP86Jk+2xZ3M/6njR4edxcz8FaA/WHXxzPyFXTcpThnM/PEaLvomQcz9YNcmyv5pzP3MkB6f1pHM/jxNFmyuvcz+qAoOPYblzP8XxwIOXw3M/4eD+d83Ncz/8zzxsA9hzPxi/emA54nM/M664VG/scz9PnfZIpfZzP2qMND3bAHQ/hntyMRELdD+harAlRxV0P71Z7hl9H3Q/2EgsDrMpdD/0N2oC6TN0Pw8nqPYePnQ/Khbm6lRIdD9GBSTfilJ0P2H0YdPAXHQ/feOfx/ZmdD+Y0t27LHF0P7TBG7Bie3Q/z7BZpJiFdD/rn5eYzo90PwaP1YwEmnQ/In4TgTqkdD89bVF1cK50P1lcj2mmuHQ/dEvNXdzCdD+QOgtSEs10P6spSUZI13Q/xhiHOn7hdD/iB8UutOt0P/32AiPq9XQ/GeZAFyAAdT801X4LVgp1P1DEvP+LFHU/a7P688EedT+Hojjo9yh1P6KRdtwtM3U/voC00GM9dT/Zb/LEmUd1P/VeMLnPUXU/EE5urQVcdT8sPayhO2Z1P0cs6pVxcHU/Yhsoiqd6dT9+CmZ+3YR1P5n5o3ITj3U/tejhZkmZdT/Q1x9bf6N1P+zGXU+1rXU/B7abQ+u3dT8jpdk3IcJ1Pz6UFyxXzHU/WoNVII3WdT91cpMUw+B1P5Fh0Qj56nU/rFAP/S71dT/HP03xZP91P+Mui+WaCXY//h3J2dATdj8aDQfOBh52PzX8RMI8KHY/UeuCtnIydj9s2sCqqDx2P4jJ/p7eRnY/o7g8kxRRdj+/p3qHSlt2P9qWuHuAZXY/9oX2b7Zvdj8RdTRk7Hl2Py1kclgihHY/SFOwTFiOdj9jQu5Ajph2P38xLDXEonY/miBqKfqsdj+2D6gdMLd2P9H+5RFmwXY/7e0jBpzLdj8I3WH60dV2PyTMn+4H4HY/P7vd4j3qdj9bqhvXc/R2P3aZWcup/nY/koiXv98Idz+td9WzFRN3P8hmE6hLHXc/5FVRnIEndz//RI+QtzF3Pxs0zYTtO3c/NiMLeSNGdz9SEkltWVB3P20Bh2GPWnc/ifDEVcVkdz+k3wJK+253P8DOQD4xeXc/271+MmeDdz/3rLwmnY13PxKc+hrTl3c/Los4Dwmidz9JenYDP6x3P2RptPd0tnc/gFjy66rAdz+bRzDg4Mp3P7c2btQW1Xc/0iWsyEzfdz/uFOq8gul3PwkEKLG483c/JfNlpe79dz9A4qOZJAh4P1zR4Y1aEng/d8AfgpAceD+Tr112xiZ4P66em2r8MHg/yo3ZXjI7eD/lfBdTaEV4PwBsVUeeT3g/HFuTO9RZeD83StEvCmR4P1M5DyRAbng/bihNGHZ4eD+KF4sMrIJ4P6UGyQDijHg/wfUG9ReXeD/c5ETpTaF4P/jTgt2Dq3g/E8PA0bm1eD8vsv7F7794P0qhPLolyng/ZZB6rlvUeD+Bf7iikd54P5xu9pbH6Hg/uF00i/3yeD/TTHJ/M/14P+87sHNpB3k/CivuZ58ReT8mGixc1Rt5P0EJalALJnk/XfinREEweT945+U4dzp5P5TWIy2tRHk/r8VhIeNOeT/LtJ8VGVl5P+aj3QlPY3k/AZMb/oRteT8dglnyund5Pzhxl+bwgXk/VGDV2iaMeT9vTxPPXJZ5P4s+UcOSoHk/pi2Pt8iqeT/CHM2r/rR5P90LC6A0v3k/+fpIlGrJeT8U6oaIoNN5PzDZxHzW3Xk/S8gCcQzoeT9nt0BlQvJ5P4Kmfll4/Hk/nZW8Ta4Gej+5hPpB5BB6P9RzODYaG3o/8GJ2KlAlej8LUrQehi96PydB8hK8OXo/QjAwB/JDej9eH277J056P3kOrO9dWHo/lf3p45Niej+w7CfYyWx6P8zbZcz/dno/58qjwDWBej8CuuG0a4t6Px6pH6mhlXo/OZhdndefej9Vh5uRDap6P3B22YVDtHo/jGUXenm+ej+nVFVur8h6P8NDk2Ll0no/3jLRVhvdej/6IQ9LUed6PxURTT+H8Xo/MQCLM737ej9M78gn8wV7P2jeBhwpEHs/g81EEF8aez+evIIElSR7P7qrwPjKLns/1Zr+7AA5ez/xiTzhNkN7Pwx5etVsTXs/KGi4yaJXez9DV/a92GF7P19GNLIObHs/ejVypkR2ez+WJLCaeoB7P7ET7o6wins/zQIsg+aUez/o8Wl3HJ97PwPhp2tSqXs/H9DlX4izez86vyNUvr17P1auYUj0x3s/cZ2fPCrSez+NjN0wYNx7P6h7GyWW5ns/xGpZGczwez/fWZcNAvt7P/tI1QE4BXw/FjgT9m0PfD8yJ1Hqoxl8P00Wj97ZI3w/aQXN0g8ufD+E9ArHRTh8P5/jSLt7Qnw/u9KGr7FMfD/WwcSj51Z8P/KwApgdYXw/DaBAjFNrfD8pj36AiXV8P0R+vHS/f3w/YG36aPWJfD97XDhdK5R8P5dLdlFhnnw/sjq0RZeofD/OKfI5zbJ8P+kYMC4DvXw/BQhuIjnHfD8g96sWb9F8Pzvm6Qql23w/V9Un/9rlfD9yxGXzEPB8P46zo+dG+nw/qaLh23wEfT/FkR/Qsg59P+CAXcToGH0//G+buB4jfT8XX9msVC19PzNOF6GKN30/Tj1VlcBBfT9qLJOJ9kt9P4Ub0X0sVn0/oAoPcmJgfT+8+UxmmGp9P9foilrOdH0/89fITgR/fT8OxwZDOol9Pyq2RDdwk30/RaWCK6adfT9hlMAf3Kd9P3yD/hMSsn0/mHI8CEi8fT+zYXr8fcZ9P89QuPCz0H0/6j/25OnafT8GLzTZH+V9PyEecs1V730/PA2wwYv5fT9Y/O21wQN+P3PrK6r3DX4/j9ppni0Yfj+qyaeSYyJ+P8a45YaZLH4/4acje882fj/9lmFvBUF+PxiGn2M7S34/NHXdV3FVfj9PZBtMp19+P2tTWUDdaX4/hkKXNBN0fj+hMdUoSX5+P70gEx1/iH4/2A9REbWSfj/0/o4F65x+Pw/uzPkgp34/K90K7laxfj9GzEjijLt+P2K7htbCxX4/farEyvjPfj+ZmQK/Ltp+P7SIQLNk5H4/0Hd+p5rufj/rZryb0Ph+PwdW+o8GA38/IkU4hDwNfz89NHZ4chd/P1kjtGyoIX8/dBLyYN4rfz+QATBVFDZ/P6vwbUlKQH8/x9+rPYBKfz/izukxtlR/P/69JybsXn8/Ga1lGiJpfz81nKMOWHN/P1CL4QKOfX8/bHof98OHfz+HaV3r+ZF/P6NYm98vnH8/vkfZ02Wmfz/ZNhfIm7B/P/UlVbzRun8/EBWTsAfFfz8sBNGkPc9/P0fzDplz2X8/Y+JMjanjfz9+0YqB3+1/P5rAyHUV+H8/21cDtSUBgD9pTyKvQAaAP/ZGQalbC4A/hD5go3YQgD8SNn+dkRWAP58tnpesGoA/LSW9kccfgD+7HNyL4iSAP0kU+4X9KYA/1gsagBgvgD9kAzl6MzSAP/L6V3ROOYA/gPJ2bmk+gD8O6pVohEOAP5vhtGKfSIA/KdnTXLpNgD+30PJW1VKAP0XIEVHwV4A/0r8wSwtdgD9gt09FJmKAP+6ubj9BZ4A/e6aNOVxsgD8Jnqwzd3GAP5eVyy2SdoA/JY3qJ617gD+yhAkiyICAP0B8KBzjhYA/znNHFv6KgD9ca2YQGZCAP+lihQo0lYA/d1qkBE+agD8FUsP+aZ+AP5NJ4viEpIA/IEEB85+pgD+uOCDtuq6APzwwP+fVs4A/ySde4fC4gD9XH33bC76AP+UWnNUmw4A/cw67z0HIgD8ABtrJXM2AP479+MN30oA/HPUXvpLXgD+q7Da4rdyAPzfkVbLI4YA/xdt0rOPmgD9T05Om/uuAP+HKsqAZ8YA/bsLRmjT2gD/8ufCUT/uAP4qxD49qAIE/F6kuiYUFgT+loE2DoAqBPzOYbH27D4E/wY+Ld9YUgT9Oh6px8RmBP9x+yWsMH4E/anboZSckgT/4bQdgQimBP4VlJlpdLoE/E11FVHgzgT+hVGROkziBPy5Mg0iuPYE/vEOiQslCgT9KO8E85EeBP9gy4Db/TIE/ZSr/MBpSgT/zIR4rNVeBP4EZPSVQXIE/DxFcH2thgT+cCHsZhmaBPyoAmhOha4E/uPe4DbxwgT9G79cH13WBP9Pm9gHyeoE/Yd4V/AyAgT/v1TT2J4WBP3zNU/BCioE/CsVy6l2PgT+YvJHkeJSBPya0sN6TmYE/s6vP2K6egT9Bo+7SyaOBP8+aDc3kqIE/XZIsx/+tgT/qiUvBGrOBP3iBars1uIE/BnmJtVC9gT+UcKiva8KBPyFox6mGx4E/r1/mo6HMgT89VwWevNGBP8pOJJjX1oE/WEZDkvLbgT/mPWKMDeGBP3Q1gYYo5oE/AS2ggEPrgT+PJL96XvCBPx0c3nR59YE/qxP9bpT6gT84Cxxpr/+BP8YCO2PKBII/VPpZXeUJgj/i8XhXAA+CP2/pl1EbFII//eC2SzYZgj+L2NVFUR6CPxjQ9D9sI4I/pscTOocogj80vzI0oi2CP8K2US69MoI/T65wKNg3gj/dpY8i8zyCP2udrhwOQoI/+ZTNFilHgj+GjOwQREyCPxSECwtfUYI/onsqBXpWgj8wc0n/lFuCP71qaPmvYII/S2KH88plgj/ZWabt5WqCP2ZRxecAcII/9Ejk4Rt1gj+CQAPcNnqCPxA4ItZRf4I/nS9B0GyEgj8rJ2DKh4mCP7kef8SijoI/Rxaevr2Tgj/UDb242JiCP2IF3LLznYI/8Pz6rA6jgj999BmnKaiCPwvsOKFErYI/meNXm1+ygj8n23aVereCP7TSlY+VvII/Qsq0ibDBgj/QwdODy8aCP1658n3my4I/67AReAHRgj95qDByHNaCPwegT2w324I/lZduZlLggj8ij41gbeWCP7CGrFqI6oI/Pn7LVKPvgj/LdepOvvSCP1ltCUnZ+YI/52QoQ/T+gj91XEc9DwSDPwJUZjcqCYM/kEuFMUUOgz8eQ6QrYBODP6w6wyV7GIM/OTLiH5Ydgz/HKQEasSKDP1UhIBTMJ4M/4xg/Ducsgz9wEF4IAjKDP/4HfQIdN4M/jP+b/Dc8gz8Z97r2UkGDP6fu2fBtRoM/Neb46ohLgz/D3Rflo1CDP1DVNt++VYM/3sxV2dlagz9sxHTT9F+DP/q7k80PZYM/h7Oyxypqgz8Vq9HBRW+DP6Oi8LtgdIM/MZoPtnt5gz++kS6wln6DP0yJTaqxg4M/2oBspMyIgz9neIue542DP/VvqpgCk4M/g2fJkh2Ygz8RX+iMOJ2DP55WB4dTooM/LE4mgW6ngz+6RUV7iayDP0g9ZHWksYM/1TSDb7+2gz9jLKJp2ruDP/EjwWP1wIM/fxvgXRDGgz8ME/9XK8uDP5oKHlJG0IM/KAI9TGHVgz+1+VtGfNqDP0PxekCX34M/0eiZOrLkgz9f4Lg0zemDP+zX1y7o7oM/es/2KAP0gz8IxxUjHvmDP5a+NB05/oM/I7ZTF1QDhD+xrXIRbwiEPz+lkQuKDYQ/zJywBaUShD9alM//vxeEP+iL7vnaHIQ/doMN9PUhhD8=",
          "dtype": "f8"
         },
         "y": {
          "bdata": "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",
          "dtype": "f8"
         }
        },
        {
         "error_y": {
          "color": "#E377C2",
          "thickness": 1.5,
          "type": "constant",
          "value": 0.001,
          "width": 3
         },
         "marker": {
          "color": "#E377C2"
         },
         "mode": "markers",
         "name": "θ=70°",
         "type": "scatter",
         "x": {
          "bdata": "Sa+8mvLXGj8xRRTu8DIeP43ttaD3xiA/grhhynZ0Ij92gw309SEkP2pOuR11zyU/XxllR/R8Jz9U5BBxcyopP0mvvJry1yo/MUUU7vAyLj+N7bWg98YwP4K4Ycp2dDI/doMN9PUhND9qTrkddc81P18ZZUf0fDc/VOQQcXMqOT9Jr7ya8tc6PzFFFO7wMj4/je21oPfGQD+CuGHKdnRCP3aDDfT1IUQ/ak65HXXPRT9fGWVH9HxHP1TkEHFzKkk/Sa+8mvLXSj8xRRTu8DJOP43ttaD3xlA/grhhynZ0Uj92gw309SFUP2pOuR11z1U/XxllR/R8Vz9U5BBxcypZP0mvvJry11o/MUUU7vAyXj+N7bWg98ZgP4K4Ycp2dGI/doMN9PUhZD9qTrkddc9lP18ZZUf0fGc/VOQQcXMqaT9Jr7ya8tdqPzFFFO7wMm4/je21oPfGcD+CuGHKdnRyP3aDDfT1IXQ/ak65HXXPdT9fGWVH9Hx3P1TkEHFzKnk/Sa+8mvLXej8xRRTu8DJ+P43ttaD3xoA/grhhynZ0gj92gw309SGEPw==",
          "dtype": "f8"
         },
         "y": {
          "bdata": "nxOMlHcfpT8dOGdEaW+kP5IPMKmQ4aM/wbItXofFoz8WoBJ8eDujP8myu5sC9KI/Thq0oawpoj89pw8Tw8ShP8aYBSSrbKE/uq5OhMPBoD9I/fUKC+6fP0UTKGIRw54/maSNfo9VnT9baJ2n8FacP9ebvdggOJs/bfntkAfHmT+GFE2xtJ2YP9ciWAuipJY/MMhMWNHVlD8xhFJq5RSTP7lxi/m5oZE/wznZvGAmkD8uMHWhA9yNP3Qkl/+Qfos/9SG5RhUPiT98DcFxGTeFP0KfnxRzMYI/inr7UsOnfj8jyWJRxxl5P449WiBqcHU/plfzsfXrcj9DTmdAIERwPz93m5p4xWs/Hl/vvFzdZD/RG7R4LfhfPws0r1VIGlg/D0WiTHpKVD/vkc1V8xxRP6O+nEGSRUk/7Qoi9xm8RD9uuqLqEGVDP/MQ/ULeXkE/oi6ymjcZOD8FCuUSgckhPy467zz+fRC/BFPgtIax8b55Fa3upWjdPnBneBYxqiQ/AU+FOAm3Ij8DL8aGRuUKP8wJcgF8eCU/a6G0lESf/L7JtdZUbIUmvw==",
          "dtype": "f8"
         }
        },
        {
         "line": {
          "color": "#7F7F7F"
         },
         "mode": "lines",
         "showlegend": false,
         "type": "scatter",
         "x": {
          "bdata": "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",
          "dtype": "f8"
         },
         "y": {
          "bdata": "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",
          "dtype": "f8"
         }
        },
        {
         "error_y": {
          "color": "#7F7F7F",
          "thickness": 1.5,
          "type": "constant",
          "value": 0.001,
          "width": 3
         },
         "marker": {
          "color": "#7F7F7F"
         },
         "mode": "markers",
         "name": "θ=60°",
         "type": "scatter",
         "x": {
          "bdata": "Sa+8mvLXGj8xRRTu8DIeP43ttaD3xiA/grhhynZ0Ij92gw309SEkP2pOuR11zyU/XxllR/R8Jz9U5BBxcyopP0mvvJry1yo/MUUU7vAyLj+N7bWg98YwP4K4Ycp2dDI/doMN9PUhND9qTrkddc81P18ZZUf0fDc/VOQQcXMqOT9Jr7ya8tc6PzFFFO7wMj4/je21oPfGQD+CuGHKdnRCP3aDDfT1IUQ/ak65HXXPRT9fGWVH9HxHP1TkEHFzKkk/Sa+8mvLXSj8xRRTu8DJOP43ttaD3xlA/grhhynZ0Uj92gw309SFUP2pOuR11z1U/XxllR/R8Vz9U5BBxcypZP0mvvJry11o/MUUU7vAyXj+N7bWg98ZgP4K4Ycp2dGI/doMN9PUhZD9qTrkddc9lP18ZZUf0fGc/VOQQcXMqaT9Jr7ya8tdqPzFFFO7wMm4/je21oPfGcD+CuGHKdnRyP3aDDfT1IXQ/ak65HXXPdT9fGWVH9Hx3P1TkEHFzKnk/Sa+8mvLXej8xRRTu8DJ+P43ttaD3xoA/grhhynZ0gj92gw309SGEPw==",
          "dtype": "f8"
         },
         "y": {
          "bdata": "aLki57PypT+pIibybnalP1FwDFx5JKU//R6rShHPpD90sKMW72ykP1Ny8zIvLKQ/oOnbOBigoz//J9qwAWyjP6EUCJZ+HaM/yh9n9Wlwoj8FACJYsOihPwzyaQTRSaE/AiGjTR/LoD8oSp3b3zSgPx0EHa1qSZ8/8N5RY0LMnT/0UUZcABqdP8aweQvamps/rl9VYkPcmT+OSwtNyL2XP7XHZqJjYpY/j9MhgVAolT+cUfNV8rGTP8FvQ4zXvJI/2VfD6jR3kT9AHH/9a9SOP3/XDBWIQ4s/FCUhkbbxhz9gNHVoohmFP/jtmHgP6YI/UnWX3faxgD9ISRe086p8P7Jy3OcA2nk/Psh4tVhhdT9Twjz5LoRwP/E1mStiXGo/9hKdRAi4ZT+LKaJwh5dhP4wIrSQFWFw/fvR2GTh/Vz/Am4d2wglUP1K3+oTI9kU/uJRq1ICXQj/UxvzPppI9P7WhIzh8cjc/h7+JlY+sNT8jXDh4dXotPwEQ2h/mmhs/+WK/jAGQJT+5TInAKjkUP2W+RDv16CA/asxsm5e/AT9YX06hW7UQPw==",
          "dtype": "f8"
         }
        },
        {
         "line": {
          "color": "#BCBD22"
         },
         "mode": "lines",
         "showlegend": false,
         "type": "scatter",
         "x": {
          "bdata": "Sa+8mvLXGj8ndjiqb2UdPwQ9tLns8h8/8QGY5DRAIT9g5VVs84YiP8/IE/SxzSM/PqzRe3AUJT+sj48DL1smPxxzTYvtoSc/ilYLE6zoKD/6Ocmaai8qP2gdhyIpdis/1wBFque8LD9G5AIypgMuP7THwLlkSi8/klW/oJFIMD9JR57k8OswPwE5fShQjzE/uCpcbK8yMj9wHDuwDtYyPycOGvRteTM/3v/4N80cND+W8dd7LMA0P03jtr+LYzU/BdWVA+sGNj+8xnRHSqo2P3O4U4upTTc/K6oyzwjxNz/imxETaJQ4P5qN8FbHNzk/UX/PmibbOT8Jca7ehX46P8BijSLlITs/d1RsZkTFOz8vRkuqo2g8P+Y3Ku4CDD0/nikJMmKvPT9VG+h1wVI+Pw0Nx7kg9j4/xP6l/X+ZPz8+eMKgbx5APxrxsUIfcEA/9Wmh5M7BQD/R4pCGfhNBP61bgCguZUE/idRvyt22QT9kTV9sjQhCP0DGTg49WkI/HD8+sOyrQj/3ty1SnP1CP9MwHfRLT0M/r6kMlvugQz+KIvw3q/JDP2ab69laREQ/QhTbewqWRD8ejcoduudEP/kFur9pOUU/1X6pYRmLRT+x95gDydxFP4xwiKV4LkY/aOl3RyiARj9EYmfp19FGPyDbVouHI0c/+1NGLTd1Rz/XzDXP5sZHP7NFJXGWGEg/jr4UE0ZqSD9qNwS19btIP0aw81alDUk/Iinj+FRfST/9odKaBLFJP9kawjy0Ako/tZOx3mNUSj+QDKGAE6ZKP2yFkCLD90o/SP5/xHJJSz8kd29mIptLP//vXgjS7Es/22hOqoE+TD+34T1MMZBMP5NaLe7g4Uw/btMckJAzTT9KTAwyQIVNPybF+9Pv1k0/AT7rdZ8oTj/dttoXT3pOP7kvyrn+y04/lai5W64dTz9wIan9XW9PP0yamJ8NwU8/lAnEoF4JUD8CxrtxNjJQP3CCs0IOW1A/3j6rE+aDUD9M+6LkvaxQP7m3mrWV1VA/J3SShm3+UD+VMIpXRSdRPwPtgSgdUFE/cal5+fR4UT/fZXHKzKFRP00iaZukylE/u95gbHzzUT8pm1g9VBxSP5ZXUA4sRVI/BBRI3wNuUj9y0D+w25ZSP+CMN4Gzv1I/TkkvUovoUj+8BScjYxFTPyrCHvQ6OlM/l34WxRJjUz8FOw6W6otTP3P3BWfCtFM/4bP9N5rdUz9PcPUIcgZUP70s7dlJL1Q/K+nkqiFYVD+Ypdx7+YBUPwZi1EzRqVQ/dB7MHanSVD/i2sPugPtUP1CXu79YJFU/vlOzkDBNVT8sEKthCHZVP5nMojLgnlU/B4maA7jHVT91RZLUj/BVP+MBiqVnGVY/Ub6Bdj9CVj+/enlHF2tWPy03cRjvk1Y/mvNo6ca8Vj8IsGC6nuVWP3ZsWIt2Dlc/5ChQXE43Vz9S5UctJmBXP8ChP/79iFc/Ll43z9WxVz+bGi+grdpXPwnXJnGFA1g/d5MeQl0sWD/lTxYTNVVYP1MMDuQMflg/wcgFteSmWD8vhf2FvM9YP5xB9VaU+Fg/Cv7sJ2whWT94uuT4Q0pZP+Z23Mkbc1k/VDPUmvObWT/C78try8RZPzCswzyj7Vk/nWi7DXsWWj8LJbPeUj9aP3nhqq8qaFo/552igAKRWj9VWppR2rlaP8MWkiKy4lo/MdOJ84kLWz+fj4HEYTRbPwxMeZU5XVs/eghxZhGGWz/oxGg36a5bP1aBYAjB11s/xD1Y2ZgAXD8y+k+qcClcP6C2R3tIUlw/DXM/TCB7XD97Lzcd+KNcP+nrLu7PzFw/V6gmv6f1XD/FZB6Qfx5dPzMhFmFXR10/od0NMi9wXT8OmgUDB5ldP3xW/dPewV0/6hL1pLbqXT9Yz+x1jhNeP8aL5EZmPF4/NEjcFz5lXj+iBNToFY5ePw/By7nttl4/fX3DisXfXj/rObtbnQhfP1n2six1MV8/x7Kq/UxaXz81b6LOJINfP6Mrmp/8q18/EOiRcNTUXz9+pIlBrP1fP3awQAlCE2A/rY688a0nYD/kbDjaGTxgPxtLtMKFUGA/Uikwq/FkYD+IB6yTXXlgP7/lJ3zJjWA/9sOjZDWiYD8toh9NobZgP2SAmzUNy2A/m14XHnnfYD/SPJMG5fNgPwkbD+9QCGE/QPmK17wcYT931wbAKDFhP661gqiURWE/5JP+kABaYT8bcnp5bG5hP1JQ9mHYgmE/iS5ySkSXYT/ADO4ysKthP/fqaRscwGE/LsnlA4jUYT9lp2Hs8+hhP5yF3dRf/WE/02NZvcsRYj8KQtWlNyZiP0EgUY6jOmI/eP7Mdg9PYj+v3Ehfe2NiP+W6xEfnd2I/HJlAMFOMYj9Td7wYv6BiP4pVOAErtWI/wTO06ZbJYj/4ETDSAt5iPy/wq7pu8mI/Zs4no9oGYz+drKOLRhtjP9SKH3SyL2M/C2mbXB5EYz9CRxdFilhjP3klky32bGM/sAMPFmKBYz/m4Yr+zZVjPx3ABuc5qmM/VJ6Cz6W+Yz+LfP63EdNjP8JaeqB952M/+Tj2iOn7Yz8wF3JxVRBkP2f17VnBJGQ/ntNpQi05ZD/VseUqmU1kPwyQYRMFYmQ/Q27d+3B2ZD96TFnk3IpkP7Eq1cxIn2Q/5whRtbSzZD8e58ydIMhkP1XFSIaM3GQ/jKPEbvjwZD/DgUBXZAVlP/pfvD/QGWU/MT44KDwuZT9oHLQQqEJlP5/6L/kTV2U/1tir4X9rZT8NtyfK639lP0SVo7JXlGU/e3Mfm8OoZT+yUZuDL71lP+kvF2yb0WU/Hw6TVAfmZT9W7A49c/plP43KiiXfDmY/xKgGDksjZj/7hoL2tjdmPzJl/t4iTGY/aUN6x45gZj+gIfav+nRmP9f/cZhmiWY/Dt7tgNKdZj9FvGlpPrJmP3ya5VGqxmY/s3hhOhbbZj/qVt0igu9mPyA1WQvuA2c/VxPV81kYZz+O8VDcxSxnP8XPzMQxQWc//K1IrZ1VZz8zjMSVCWpnP2pqQH51fmc/oUi8ZuGSZz/YJjhPTadnPw8FtDe5u2c/RuMvICXQZz99wasIkeRnP7SfJ/H8+Gc/632j2WgNaD8hXB/C1CFoP1g6m6pANmg/jxgXk6xKaD/G9pJ7GF9oP/3UDmSEc2g/NLOKTPCHaD9rkQY1XJxoP6Jvgh3IsGg/2U3+BTTFaD8QLHrun9loP0cK9tYL7mg/fuhxv3cCaT+1xu2n4xZpP+ykaZBPK2k/IoPleLs/aT9ZYWFhJ1RpP5A/3UmTaGk/xx1ZMv98aT/++9Qaa5FpPzXaUAPXpWk/bLjM60K6aT+jlkjUrs5pP9p0xLwa42k/EVNApYb3aT9IMbyN8gtqP38POHZeIGo/tu2zXso0aj/tyy9HNklqPySqqy+iXWo/WognGA5yaj+RZqMAeoZqP8hEH+nlmmo//yKb0VGvaj82ARe6vcNqP23fkqIp2Go/pL0Oi5Xsaj/bm4pzAQFrPxJ6BlxtFWs/SViCRNkpaz+ANv4sRT5rP7cUehWxUms/7vL1/Rxnaz8l0XHmiHtrP1uv7c70j2s/ko1pt2Ckaz/Ja+WfzLhrPwBKYYg4zWs/NyjdcKThaz9uBllZEPZrP6Xk1EF8Cmw/3MJQKugebD8TocwSVDNsP0p/SPu/R2w/gV3E4ytcbD+4O0DMl3BsP+8ZvLQDhWw/Jvg3nW+ZbD9c1rOF261sP5O0L25Hwmw/ypKrVrPWbD8BcSc/H+tsPzhPoyeL/2w/by0fEPcTbT+mC5v4YihtP93pFuHOPG0/FMiSyTpRbT9Lpg6ypmVtP4KEipoSem0/uWIGg36ObT/wQIJr6qJtPycf/lNWt20/Xf15PMLLbT+U2/UkLuBtP8u5cQ2a9G0/Apjt9QUJbj85dmnecR1uP3BU5cbdMW4/pzJhr0lGbj/eEN2XtVpuPxXvWIAhb24/TM3UaI2Dbj+Dq1BR+ZduP7qJzDllrG4/8WdIItHAbj8oRsQKPdVuP14kQPOo6W4/lQK82xT+bj/M4DfEgBJvPwO/s6zsJm8/Op0vlVg7bz9xe6t9xE9vP6hZJ2YwZG8/3zejTpx4bz8WFh83CI1vP030mh90oW8/hNIWCOC1bz+7sJLwS8pvP/KODtm33m8/KW2KwSPzbz+wJQPVxwNwP8sUQcn9DXA/5wN/vTMYcD8C87yxaSJwPx7i+qWfLHA/OdE4mtU2cD9VwHaOC0FwP3CvtIJBS3A/jJ7ydndVcD+njTBrrV9wP8N8bl/jaXA/3musUxl0cD/5WupHT35wPxVKKDyFiHA/MDlmMLuScD9MKKQk8ZxwP2cX4hgnp3A/gwYgDV2xcD+e9V0Bk7twP7rkm/XIxXA/1dPZ6f7PcD/xwhfeNNpwPwyyVdJq5HA/J6GTxqDucD9DkNG61vhwP15/D68MA3E/em5No0INcT+VXYuXeBdxP7FMyYuuIXE/zDsHgOQrcT/oKkV0GjZxPwMag2hQQHE/HwnBXIZKcT86+P5QvFRxP1bnPEXyXnE/cdZ6OShpcT+MxbgtXnNxP6i09iGUfXE/w6M0FsqHcT/fknIKAJJxP/qBsP41nHE/FnHu8mumcT8xYCznobBxP01PatvXunE/aD6ozw3FcT+ELebDQ89xP58cJLh52XE/uwtirK/jcT/W+p+g5e1xP/Lp3ZQb+HE/DdkbiVECcj8oyFl9hwxyP0S3l3G9FnI/X6bVZfMgcj97lRNaKStyP5aEUU5fNXI/snOPQpU/cj/NYs02y0lyP+lRCysBVHI/BEFJHzdecj8gMIcTbWhyPzsfxQejcnI/Vw4D/Nh8cj9y/UDwDodyP47sfuREkXI/qdu82Hqbcj/EyvrMsKVyP+C5OMHmr3I/+6h2tRy6cj8XmLSpUsRyPzKH8p2IznI/TnYwkr7Ycj9pZW6G9OJyP4VUrHoq7XI/oEPqbmD3cj+8MihjlgFzP9chZlfMC3M/8xCkSwIWcz8OAOI/OCBzPynvHzRuKnM/Rd5dKKQ0cz9gzZsc2j5zP3y82RAQSXM/l6sXBUZTcz+zmlX5e11zP86Jk+2xZ3M/6njR4edxcz8FaA/WHXxzPyFXTcpThnM/PEaLvomQcz9YNcmyv5pzP3MkB6f1pHM/jxNFmyuvcz+qAoOPYblzP8XxwIOXw3M/4eD+d83Ncz/8zzxsA9hzPxi/emA54nM/M664VG/scz9PnfZIpfZzP2qMND3bAHQ/hntyMRELdD+harAlRxV0P71Z7hl9H3Q/2EgsDrMpdD/0N2oC6TN0Pw8nqPYePnQ/Khbm6lRIdD9GBSTfilJ0P2H0YdPAXHQ/feOfx/ZmdD+Y0t27LHF0P7TBG7Bie3Q/z7BZpJiFdD/rn5eYzo90PwaP1YwEmnQ/In4TgTqkdD89bVF1cK50P1lcj2mmuHQ/dEvNXdzCdD+QOgtSEs10P6spSUZI13Q/xhiHOn7hdD/iB8UutOt0P/32AiPq9XQ/GeZAFyAAdT801X4LVgp1P1DEvP+LFHU/a7P688EedT+Hojjo9yh1P6KRdtwtM3U/voC00GM9dT/Zb/LEmUd1P/VeMLnPUXU/EE5urQVcdT8sPayhO2Z1P0cs6pVxcHU/Yhsoiqd6dT9+CmZ+3YR1P5n5o3ITj3U/tejhZkmZdT/Q1x9bf6N1P+zGXU+1rXU/B7abQ+u3dT8jpdk3IcJ1Pz6UFyxXzHU/WoNVII3WdT91cpMUw+B1P5Fh0Qj56nU/rFAP/S71dT/HP03xZP91P+Mui+WaCXY//h3J2dATdj8aDQfOBh52PzX8RMI8KHY/UeuCtnIydj9s2sCqqDx2P4jJ/p7eRnY/o7g8kxRRdj+/p3qHSlt2P9qWuHuAZXY/9oX2b7Zvdj8RdTRk7Hl2Py1kclgihHY/SFOwTFiOdj9jQu5Ajph2P38xLDXEonY/miBqKfqsdj+2D6gdMLd2P9H+5RFmwXY/7e0jBpzLdj8I3WH60dV2PyTMn+4H4HY/P7vd4j3qdj9bqhvXc/R2P3aZWcup/nY/koiXv98Idz+td9WzFRN3P8hmE6hLHXc/5FVRnIEndz//RI+QtzF3Pxs0zYTtO3c/NiMLeSNGdz9SEkltWVB3P20Bh2GPWnc/ifDEVcVkdz+k3wJK+253P8DOQD4xeXc/271+MmeDdz/3rLwmnY13PxKc+hrTl3c/Los4Dwmidz9JenYDP6x3P2RptPd0tnc/gFjy66rAdz+bRzDg4Mp3P7c2btQW1Xc/0iWsyEzfdz/uFOq8gul3PwkEKLG483c/JfNlpe79dz9A4qOZJAh4P1zR4Y1aEng/d8AfgpAceD+Tr112xiZ4P66em2r8MHg/yo3ZXjI7eD/lfBdTaEV4PwBsVUeeT3g/HFuTO9RZeD83StEvCmR4P1M5DyRAbng/bihNGHZ4eD+KF4sMrIJ4P6UGyQDijHg/wfUG9ReXeD/c5ETpTaF4P/jTgt2Dq3g/E8PA0bm1eD8vsv7F7794P0qhPLolyng/ZZB6rlvUeD+Bf7iikd54P5xu9pbH6Hg/uF00i/3yeD/TTHJ/M/14P+87sHNpB3k/CivuZ58ReT8mGixc1Rt5P0EJalALJnk/XfinREEweT945+U4dzp5P5TWIy2tRHk/r8VhIeNOeT/LtJ8VGVl5P+aj3QlPY3k/AZMb/oRteT8dglnyund5Pzhxl+bwgXk/VGDV2iaMeT9vTxPPXJZ5P4s+UcOSoHk/pi2Pt8iqeT/CHM2r/rR5P90LC6A0v3k/+fpIlGrJeT8U6oaIoNN5PzDZxHzW3Xk/S8gCcQzoeT9nt0BlQvJ5P4Kmfll4/Hk/nZW8Ta4Gej+5hPpB5BB6P9RzODYaG3o/8GJ2KlAlej8LUrQehi96PydB8hK8OXo/QjAwB/JDej9eH277J056P3kOrO9dWHo/lf3p45Niej+w7CfYyWx6P8zbZcz/dno/58qjwDWBej8CuuG0a4t6Px6pH6mhlXo/OZhdndefej9Vh5uRDap6P3B22YVDtHo/jGUXenm+ej+nVFVur8h6P8NDk2Ll0no/3jLRVhvdej/6IQ9LUed6PxURTT+H8Xo/MQCLM737ej9M78gn8wV7P2jeBhwpEHs/g81EEF8aez+evIIElSR7P7qrwPjKLns/1Zr+7AA5ez/xiTzhNkN7Pwx5etVsTXs/KGi4yaJXez9DV/a92GF7P19GNLIObHs/ejVypkR2ez+WJLCaeoB7P7ET7o6wins/zQIsg+aUez/o8Wl3HJ97PwPhp2tSqXs/H9DlX4izez86vyNUvr17P1auYUj0x3s/cZ2fPCrSez+NjN0wYNx7P6h7GyWW5ns/xGpZGczwez/fWZcNAvt7P/tI1QE4BXw/FjgT9m0PfD8yJ1Hqoxl8P00Wj97ZI3w/aQXN0g8ufD+E9ArHRTh8P5/jSLt7Qnw/u9KGr7FMfD/WwcSj51Z8P/KwApgdYXw/DaBAjFNrfD8pj36AiXV8P0R+vHS/f3w/YG36aPWJfD97XDhdK5R8P5dLdlFhnnw/sjq0RZeofD/OKfI5zbJ8P+kYMC4DvXw/BQhuIjnHfD8g96sWb9F8Pzvm6Qql23w/V9Un/9rlfD9yxGXzEPB8P46zo+dG+nw/qaLh23wEfT/FkR/Qsg59P+CAXcToGH0//G+buB4jfT8XX9msVC19PzNOF6GKN30/Tj1VlcBBfT9qLJOJ9kt9P4Ub0X0sVn0/oAoPcmJgfT+8+UxmmGp9P9foilrOdH0/89fITgR/fT8OxwZDOol9Pyq2RDdwk30/RaWCK6adfT9hlMAf3Kd9P3yD/hMSsn0/mHI8CEi8fT+zYXr8fcZ9P89QuPCz0H0/6j/25OnafT8GLzTZH+V9PyEecs1V730/PA2wwYv5fT9Y/O21wQN+P3PrK6r3DX4/j9ppni0Yfj+qyaeSYyJ+P8a45YaZLH4/4acje882fj/9lmFvBUF+PxiGn2M7S34/NHXdV3FVfj9PZBtMp19+P2tTWUDdaX4/hkKXNBN0fj+hMdUoSX5+P70gEx1/iH4/2A9REbWSfj/0/o4F65x+Pw/uzPkgp34/K90K7laxfj9GzEjijLt+P2K7htbCxX4/farEyvjPfj+ZmQK/Ltp+P7SIQLNk5H4/0Hd+p5rufj/rZryb0Ph+PwdW+o8GA38/IkU4hDwNfz89NHZ4chd/P1kjtGyoIX8/dBLyYN4rfz+QATBVFDZ/P6vwbUlKQH8/x9+rPYBKfz/izukxtlR/P/69JybsXn8/Ga1lGiJpfz81nKMOWHN/P1CL4QKOfX8/bHof98OHfz+HaV3r+ZF/P6NYm98vnH8/vkfZ02Wmfz/ZNhfIm7B/P/UlVbzRun8/EBWTsAfFfz8sBNGkPc9/P0fzDplz2X8/Y+JMjanjfz9+0YqB3+1/P5rAyHUV+H8/21cDtSUBgD9pTyKvQAaAP/ZGQalbC4A/hD5go3YQgD8SNn+dkRWAP58tnpesGoA/LSW9kccfgD+7HNyL4iSAP0kU+4X9KYA/1gsagBgvgD9kAzl6MzSAP/L6V3ROOYA/gPJ2bmk+gD8O6pVohEOAP5vhtGKfSIA/KdnTXLpNgD+30PJW1VKAP0XIEVHwV4A/0r8wSwtdgD9gt09FJmKAP+6ubj9BZ4A/e6aNOVxsgD8Jnqwzd3GAP5eVyy2SdoA/JY3qJ617gD+yhAkiyICAP0B8KBzjhYA/znNHFv6KgD9ca2YQGZCAP+lihQo0lYA/d1qkBE+agD8FUsP+aZ+AP5NJ4viEpIA/IEEB85+pgD+uOCDtuq6APzwwP+fVs4A/ySde4fC4gD9XH33bC76AP+UWnNUmw4A/cw67z0HIgD8ABtrJXM2AP479+MN30oA/HPUXvpLXgD+q7Da4rdyAPzfkVbLI4YA/xdt0rOPmgD9T05Om/uuAP+HKsqAZ8YA/bsLRmjT2gD/8ufCUT/uAP4qxD49qAIE/F6kuiYUFgT+loE2DoAqBPzOYbH27D4E/wY+Ld9YUgT9Oh6px8RmBP9x+yWsMH4E/anboZSckgT/4bQdgQimBP4VlJlpdLoE/E11FVHgzgT+hVGROkziBPy5Mg0iuPYE/vEOiQslCgT9KO8E85EeBP9gy4Db/TIE/ZSr/MBpSgT/zIR4rNVeBP4EZPSVQXIE/DxFcH2thgT+cCHsZhmaBPyoAmhOha4E/uPe4DbxwgT9G79cH13WBP9Pm9gHyeoE/Yd4V/AyAgT/v1TT2J4WBP3zNU/BCioE/CsVy6l2PgT+YvJHkeJSBPya0sN6TmYE/s6vP2K6egT9Bo+7SyaOBP8+aDc3kqIE/XZIsx/+tgT/qiUvBGrOBP3iBars1uIE/BnmJtVC9gT+UcKiva8KBPyFox6mGx4E/r1/mo6HMgT89VwWevNGBP8pOJJjX1oE/WEZDkvLbgT/mPWKMDeGBP3Q1gYYo5oE/AS2ggEPrgT+PJL96XvCBPx0c3nR59YE/qxP9bpT6gT84Cxxpr/+BP8YCO2PKBII/VPpZXeUJgj/i8XhXAA+CP2/pl1EbFII//eC2SzYZgj+L2NVFUR6CPxjQ9D9sI4I/pscTOocogj80vzI0oi2CP8K2US69MoI/T65wKNg3gj/dpY8i8zyCP2udrhwOQoI/+ZTNFilHgj+GjOwQREyCPxSECwtfUYI/onsqBXpWgj8wc0n/lFuCP71qaPmvYII/S2KH88plgj/ZWabt5WqCP2ZRxecAcII/9Ejk4Rt1gj+CQAPcNnqCPxA4ItZRf4I/nS9B0GyEgj8rJ2DKh4mCP7kef8SijoI/Rxaevr2Tgj/UDb242JiCP2IF3LLznYI/8Pz6rA6jgj999BmnKaiCPwvsOKFErYI/meNXm1+ygj8n23aVereCP7TSlY+VvII/Qsq0ibDBgj/QwdODy8aCP1658n3my4I/67AReAHRgj95qDByHNaCPwegT2w324I/lZduZlLggj8ij41gbeWCP7CGrFqI6oI/Pn7LVKPvgj/LdepOvvSCP1ltCUnZ+YI/52QoQ/T+gj91XEc9DwSDPwJUZjcqCYM/kEuFMUUOgz8eQ6QrYBODP6w6wyV7GIM/OTLiH5Ydgz/HKQEasSKDP1UhIBTMJ4M/4xg/Ducsgz9wEF4IAjKDP/4HfQIdN4M/jP+b/Dc8gz8Z97r2UkGDP6fu2fBtRoM/Neb46ohLgz/D3Rflo1CDP1DVNt++VYM/3sxV2dlagz9sxHTT9F+DP/q7k80PZYM/h7Oyxypqgz8Vq9HBRW+DP6Oi8LtgdIM/MZoPtnt5gz++kS6wln6DP0yJTaqxg4M/2oBspMyIgz9neIue542DP/VvqpgCk4M/g2fJkh2Ygz8RX+iMOJ2DP55WB4dTooM/LE4mgW6ngz+6RUV7iayDP0g9ZHWksYM/1TSDb7+2gz9jLKJp2ruDP/EjwWP1wIM/fxvgXRDGgz8ME/9XK8uDP5oKHlJG0IM/KAI9TGHVgz+1+VtGfNqDP0PxekCX34M/0eiZOrLkgz9f4Lg0zemDP+zX1y7o7oM/es/2KAP0gz8IxxUjHvmDP5a+NB05/oM/I7ZTF1QDhD+xrXIRbwiEPz+lkQuKDYQ/zJywBaUShD9alM//vxeEP+iL7vnaHIQ/doMN9PUhhD8=",
          "dtype": "f8"
         },
         "y": {
          "bdata": "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",
          "dtype": "f8"
         }
        },
        {
         "error_y": {
          "color": "#BCBD22",
          "thickness": 1.5,
          "type": "constant",
          "value": 0.001,
          "width": 3
         },
         "marker": {
          "color": "#BCBD22"
         },
         "mode": "markers",
         "name": "θ=50°",
         "type": "scatter",
         "x": {
          "bdata": "Sa+8mvLXGj8xRRTu8DIeP43ttaD3xiA/grhhynZ0Ij92gw309SEkP2pOuR11zyU/XxllR/R8Jz9U5BBxcyopP0mvvJry1yo/MUUU7vAyLj+N7bWg98YwP4K4Ycp2dDI/doMN9PUhND9qTrkddc81P18ZZUf0fDc/VOQQcXMqOT9Jr7ya8tc6PzFFFO7wMj4/je21oPfGQD+CuGHKdnRCP3aDDfT1IUQ/ak65HXXPRT9fGWVH9HxHP1TkEHFzKkk/Sa+8mvLXSj8xRRTu8DJOP43ttaD3xlA/grhhynZ0Uj92gw309SFUP2pOuR11z1U/XxllR/R8Vz9U5BBxcypZP0mvvJry11o/MUUU7vAyXj+N7bWg98ZgP4K4Ycp2dGI/doMN9PUhZD9qTrkddc9lP18ZZUf0fGc/VOQQcXMqaT9Jr7ya8tdqPzFFFO7wMm4/je21oPfGcD+CuGHKdnRyP3aDDfT1IXQ/ak65HXXPdT9fGWVH9Hx3P1TkEHFzKnk/Sa+8mvLXej8xRRTu8DJ+P43ttaD3xoA/grhhynZ0gj92gw309SGEPw==",
          "dtype": "f8"
         },
         "y": {
          "bdata": "sztJX61/qD8fTVAecSOoP4at2cpL/qc/qgoNxLKZpz/ns/KB03GnP8xHrYs2Iqc/drUmJyTjpj/K6DaX0X6mP5oLXB5rRqY/V7+IbNbPpT/yJr9FJ0ulP5qC60CMxqQ/dLdGX5xTpD+aR1kaUwukP4FaDB6mfaM/rOhqhq8Koz8mmvaDcLuiP6tKEc/I1qE/c0ekEkMXoT94p0x7lFugP6cWW1L/ap8/zl/X5UrznT8/MOzVbIqcP/PixFc7ips/4Qz+fjFbmj+oJQy5CEKYP3pfS356IpY/wrLj0GxolD8CNWvfktKSP3rejQWFQZE/twKvO4LAjz+i8Z/JWTONPzNmtzsQ/oo//UFu0KgKhz89MNupFJaDP2vKgHnpooA/qrJStZvofD+by2g/rf14P1aU2NbLxnU/QFS3Bvhmcj+h3d+oLkNwP8VOgHqWlGk/C3T1fDCdZD9/BkjyZFBgP9OdabqFS1o/tww4S8lyUj8JnZO7KKpJP8LgfubKpUM/8Z6RdSmPPT9OxEZMlZc4P2tRDoJojzI/IooYGRXWDD9qXa9Y35odPw==",
          "dtype": "f8"
         }
        }
       ],
       "layout": {
        "height": 600,
        "template": {
         "data": {
          "bar": [
           {
            "error_x": {
             "color": "#2a3f5f"
            },
            "error_y": {
             "color": "#2a3f5f"
            },
            "marker": {
             "line": {
              "color": "#E5ECF6",
              "width": 0.5
             },
             "pattern": {
              "fillmode": "overlay",
              "size": 10,
              "solidity": 0.2
             }
            },
            "type": "bar"
           }
          ],
          "barpolar": [
           {
            "marker": {
             "line": {
              "color": "#E5ECF6",
              "width": 0.5
             },
             "pattern": {
              "fillmode": "overlay",
              "size": 10,
              "solidity": 0.2
             }
            },
            "type": "barpolar"
           }
          ],
          "carpet": [
           {
            "aaxis": {
             "endlinecolor": "#2a3f5f",
             "gridcolor": "white",
             "linecolor": "white",
             "minorgridcolor": "white",
             "startlinecolor": "#2a3f5f"
            },
            "baxis": {
             "endlinecolor": "#2a3f5f",
             "gridcolor": "white",
             "linecolor": "white",
             "minorgridcolor": "white",
             "startlinecolor": "#2a3f5f"
            },
            "type": "carpet"
           }
          ],
          "choropleth": [
           {
            "colorbar": {
             "outlinewidth": 0,
             "ticks": ""
            },
            "type": "choropleth"
           }
          ],
          "contour": [
           {
            "colorbar": {
             "outlinewidth": 0,
             "ticks": ""
            },
            "colorscale": [
             [
              0,
              "#0d0887"
             ],
             [
              0.1111111111111111,
              "#46039f"
             ],
             [
              0.2222222222222222,
              "#7201a8"
             ],
             [
              0.3333333333333333,
              "#9c179e"
             ],
             [
              0.4444444444444444,
              "#bd3786"
             ],
             [
              0.5555555555555556,
              "#d8576b"
             ],
             [
              0.6666666666666666,
              "#ed7953"
             ],
             [
              0.7777777777777778,
              "#fb9f3a"
             ],
             [
              0.8888888888888888,
              "#fdca26"
             ],
             [
              1,
              "#f0f921"
             ]
            ],
            "type": "contour"
           }
          ],
          "contourcarpet": [
           {
            "colorbar": {
             "outlinewidth": 0,
             "ticks": ""
            },
            "type": "contourcarpet"
           }
          ],
          "heatmap": [
           {
            "colorbar": {
             "outlinewidth": 0,
             "ticks": ""
            },
            "colorscale": [
             [
              0,
              "#0d0887"
             ],
             [
              0.1111111111111111,
              "#46039f"
             ],
             [
              0.2222222222222222,
              "#7201a8"
             ],
             [
              0.3333333333333333,
              "#9c179e"
             ],
             [
              0.4444444444444444,
              "#bd3786"
             ],
             [
              0.5555555555555556,
              "#d8576b"
             ],
             [
              0.6666666666666666,
              "#ed7953"
             ],
             [
              0.7777777777777778,
              "#fb9f3a"
             ],
             [
              0.8888888888888888,
              "#fdca26"
             ],
             [
              1,
              "#f0f921"
             ]
            ],
            "type": "heatmap"
           }
          ],
          "histogram": [
           {
            "marker": {
             "pattern": {
              "fillmode": "overlay",
              "size": 10,
              "solidity": 0.2
             }
            },
            "type": "histogram"
           }
          ],
          "histogram2d": [
           {
            "colorbar": {
             "outlinewidth": 0,
             "ticks": ""
            },
            "colorscale": [
             [
              0,
              "#0d0887"
             ],
             [
              0.1111111111111111,
              "#46039f"
             ],
             [
              0.2222222222222222,
              "#7201a8"
             ],
             [
              0.3333333333333333,
              "#9c179e"
             ],
             [
              0.4444444444444444,
              "#bd3786"
             ],
             [
              0.5555555555555556,
              "#d8576b"
             ],
             [
              0.6666666666666666,
              "#ed7953"
             ],
             [
              0.7777777777777778,
              "#fb9f3a"
             ],
             [
              0.8888888888888888,
              "#fdca26"
             ],
             [
              1,
              "#f0f921"
             ]
            ],
            "type": "histogram2d"
           }
          ],
          "histogram2dcontour": [
           {
            "colorbar": {
             "outlinewidth": 0,
             "ticks": ""
            },
            "colorscale": [
             [
              0,
              "#0d0887"
             ],
             [
              0.1111111111111111,
              "#46039f"
             ],
             [
              0.2222222222222222,
              "#7201a8"
             ],
             [
              0.3333333333333333,
              "#9c179e"
             ],
             [
              0.4444444444444444,
              "#bd3786"
             ],
             [
              0.5555555555555556,
              "#d8576b"
             ],
             [
              0.6666666666666666,
              "#ed7953"
             ],
             [
              0.7777777777777778,
              "#fb9f3a"
             ],
             [
              0.8888888888888888,
              "#fdca26"
             ],
             [
              1,
              "#f0f921"
             ]
            ],
            "type": "histogram2dcontour"
           }
          ],
          "mesh3d": [
           {
            "colorbar": {
             "outlinewidth": 0,
             "ticks": ""
            },
            "type": "mesh3d"
           }
          ],
          "parcoords": [
           {
            "line": {
             "colorbar": {
              "outlinewidth": 0,
              "ticks": ""
             }
            },
            "type": "parcoords"
           }
          ],
          "pie": [
           {
            "automargin": true,
            "type": "pie"
           }
          ],
          "scatter": [
           {
            "fillpattern": {
             "fillmode": "overlay",
             "size": 10,
             "solidity": 0.2
            },
            "type": "scatter"
           }
          ],
          "scatter3d": [
           {
            "line": {
             "colorbar": {
              "outlinewidth": 0,
              "ticks": ""
             }
            },
            "marker": {
             "colorbar": {
              "outlinewidth": 0,
              "ticks": ""
             }
            },
            "type": "scatter3d"
           }
          ],
          "scattercarpet": [
           {
            "marker": {
             "colorbar": {
              "outlinewidth": 0,
              "ticks": ""
             }
            },
            "type": "scattercarpet"
           }
          ],
          "scattergeo": [
           {
            "marker": {
             "colorbar": {
              "outlinewidth": 0,
              "ticks": ""
             }
            },
            "type": "scattergeo"
           }
          ],
          "scattergl": [
           {
            "marker": {
             "colorbar": {
              "outlinewidth": 0,
              "ticks": ""
             }
            },
            "type": "scattergl"
           }
          ],
          "scattermap": [
           {
            "marker": {
             "colorbar": {
              "outlinewidth": 0,
              "ticks": ""
             }
            },
            "type": "scattermap"
           }
          ],
          "scattermapbox": [
           {
            "marker": {
             "colorbar": {
              "outlinewidth": 0,
              "ticks": ""
             }
            },
            "type": "scattermapbox"
           }
          ],
          "scatterpolar": [
           {
            "marker": {
             "colorbar": {
              "outlinewidth": 0,
              "ticks": ""
             }
            },
            "type": "scatterpolar"
           }
          ],
          "scatterpolargl": [
           {
            "marker": {
             "colorbar": {
              "outlinewidth": 0,
              "ticks": ""
             }
            },
            "type": "scatterpolargl"
           }
          ],
          "scatterternary": [
           {
            "marker": {
             "colorbar": {
              "outlinewidth": 0,
              "ticks": ""
             }
            },
            "type": "scatterternary"
           }
          ],
          "surface": [
           {
            "colorbar": {
             "outlinewidth": 0,
             "ticks": ""
            },
            "colorscale": [
             [
              0,
              "#0d0887"
             ],
             [
              0.1111111111111111,
              "#46039f"
             ],
             [
              0.2222222222222222,
              "#7201a8"
             ],
             [
              0.3333333333333333,
              "#9c179e"
             ],
             [
              0.4444444444444444,
              "#bd3786"
             ],
             [
              0.5555555555555556,
              "#d8576b"
             ],
             [
              0.6666666666666666,
              "#ed7953"
             ],
             [
              0.7777777777777778,
              "#fb9f3a"
             ],
             [
              0.8888888888888888,
              "#fdca26"
             ],
             [
              1,
              "#f0f921"
             ]
            ],
            "type": "surface"
           }
          ],
          "table": [
           {
            "cells": {
             "fill": {
              "color": "#EBF0F8"
             },
             "line": {
              "color": "white"
             }
            },
            "header": {
             "fill": {
              "color": "#C8D4E3"
             },
             "line": {
              "color": "white"
             }
            },
            "type": "table"
           }
          ]
         },
         "layout": {
          "annotationdefaults": {
           "arrowcolor": "#2a3f5f",
           "arrowhead": 0,
           "arrowwidth": 1
          },
          "autotypenumbers": "strict",
          "coloraxis": {
           "colorbar": {
            "outlinewidth": 0,
            "ticks": ""
           }
          },
          "colorscale": {
           "diverging": [
            [
             0,
             "#8e0152"
            ],
            [
             0.1,
             "#c51b7d"
            ],
            [
             0.2,
             "#de77ae"
            ],
            [
             0.3,
             "#f1b6da"
            ],
            [
             0.4,
             "#fde0ef"
            ],
            [
             0.5,
             "#f7f7f7"
            ],
            [
             0.6,
             "#e6f5d0"
            ],
            [
             0.7,
             "#b8e186"
            ],
            [
             0.8,
             "#7fbc41"
            ],
            [
             0.9,
             "#4d9221"
            ],
            [
             1,
             "#276419"
            ]
           ],
           "sequential": [
            [
             0,
             "#0d0887"
            ],
            [
             0.1111111111111111,
             "#46039f"
            ],
            [
             0.2222222222222222,
             "#7201a8"
            ],
            [
             0.3333333333333333,
             "#9c179e"
            ],
            [
             0.4444444444444444,
             "#bd3786"
            ],
            [
             0.5555555555555556,
             "#d8576b"
            ],
            [
             0.6666666666666666,
             "#ed7953"
            ],
            [
             0.7777777777777778,
             "#fb9f3a"
            ],
            [
             0.8888888888888888,
             "#fdca26"
            ],
            [
             1,
             "#f0f921"
            ]
           ],
           "sequentialminus": [
            [
             0,
             "#0d0887"
            ],
            [
             0.1111111111111111,
             "#46039f"
            ],
            [
             0.2222222222222222,
             "#7201a8"
            ],
            [
             0.3333333333333333,
             "#9c179e"
            ],
            [
             0.4444444444444444,
             "#bd3786"
            ],
            [
             0.5555555555555556,
             "#d8576b"
            ],
            [
             0.6666666666666666,
             "#ed7953"
            ],
            [
             0.7777777777777778,
             "#fb9f3a"
            ],
            [
             0.8888888888888888,
             "#fdca26"
            ],
            [
             1,
             "#f0f921"
            ]
           ]
          },
          "colorway": [
           "#636efa",
           "#EF553B",
           "#00cc96",
           "#ab63fa",
           "#FFA15A",
           "#19d3f3",
           "#FF6692",
           "#B6E880",
           "#FF97FF",
           "#FECB52"
          ],
          "font": {
           "color": "#2a3f5f"
          },
          "geo": {
           "bgcolor": "white",
           "lakecolor": "white",
           "landcolor": "#E5ECF6",
           "showlakes": true,
           "showland": true,
           "subunitcolor": "white"
          },
          "hoverlabel": {
           "align": "left"
          },
          "hovermode": "closest",
          "mapbox": {
           "style": "light"
          },
          "paper_bgcolor": "white",
          "plot_bgcolor": "#E5ECF6",
          "polar": {
           "angularaxis": {
            "gridcolor": "white",
            "linecolor": "white",
            "ticks": ""
           },
           "bgcolor": "#E5ECF6",
           "radialaxis": {
            "gridcolor": "white",
            "linecolor": "white",
            "ticks": ""
           }
          },
          "scene": {
           "xaxis": {
            "backgroundcolor": "#E5ECF6",
            "gridcolor": "white",
            "gridwidth": 2,
            "linecolor": "white",
            "showbackground": true,
            "ticks": "",
            "zerolinecolor": "white"
           },
           "yaxis": {
            "backgroundcolor": "#E5ECF6",
            "gridcolor": "white",
            "gridwidth": 2,
            "linecolor": "white",
            "showbackground": true,
            "ticks": "",
            "zerolinecolor": "white"
           },
           "zaxis": {
            "backgroundcolor": "#E5ECF6",
            "gridcolor": "white",
            "gridwidth": 2,
            "linecolor": "white",
            "showbackground": true,
            "ticks": "",
            "zerolinecolor": "white"
           }
          },
          "shapedefaults": {
           "line": {
            "color": "#2a3f5f"
           }
          },
          "ternary": {
           "aaxis": {
            "gridcolor": "white",
            "linecolor": "white",
            "ticks": ""
           },
           "baxis": {
            "gridcolor": "white",
            "linecolor": "white",
            "ticks": ""
           },
           "bgcolor": "#E5ECF6",
           "caxis": {
            "gridcolor": "white",
            "linecolor": "white",
            "ticks": ""
           }
          },
          "title": {
           "x": 0.05
          },
          "xaxis": {
           "automargin": true,
           "gridcolor": "white",
           "linecolor": "white",
           "ticks": "",
           "title": {
            "standoff": 15
           },
           "zerolinecolor": "white",
           "zerolinewidth": 2
          },
          "yaxis": {
           "automargin": true,
           "gridcolor": "white",
           "linecolor": "white",
           "ticks": "",
           "title": {
            "standoff": 15
           },
           "zerolinecolor": "white",
           "zerolinewidth": 2
          }
         }
        },
        "title": {
         "text": "g<sup>2</sup>(τ) vs t"
        },
        "width": 800,
        "xaxis": {
         "range": [
          -4,
          -2
         ],
         "title": {
          "text": "t (s)"
         },
         "type": "log"
        },
        "yaxis": {
         "title": {
          "text": "g<sup>2</sup>(τ)"
         }
        }
       }
      }
     },
     "metadata": {},
     "output_type": "display_data"
    }
   ],
   "source": [
    "colors = px.colors.qualitative.D3\n",
    "\n",
    "fig = go.Figure()\n",
    "for i,θ in enumerate(data.keys()):\n",
    "    x = data[θ]['t']\n",
    "    y = data[θ]['g']\n",
    "    γ = data[θ]['gamma']\n",
    "    sigmay = data[θ]['sigmag']\n",
    "    X,Y = data[θ]['fit'].draw()\n",
    "\n",
    "    # plt.plot(X,Y)\n",
    "    # plt.xlim(0,1)\n",
    "    # plt.show()\n",
    "\n",
    "    fig.add_trace(go.Scatter(x=X, y=Y, mode='lines',line_color=colors[i], showlegend=False))\n",
    "\n",
    "    fig.add_trace(go.Scatter(x=x,y=y, mode='markers', name=f'θ={θ}°',\n",
    "        marker=dict(color = colors[i]),\n",
    "        error_y=dict( \n",
    "\t\t\ttype='constant', \n",
    "\t\t\tvalue=0.001, \n",
    "\t\t\tcolor=colors[i],\n",
    "\t\t\tthickness=1.5, \n",
    "\t\t\twidth=3, \n",
    "\t\t)))\n",
    "\n",
    "fig.update_layout(\n",
    "        xaxis_type=\"log\",\n",
    "        yaxis_title=\"g<sup>2</sup>(τ)\",\n",
    "        xaxis_title=\"t (s)\",\n",
    "        title='g<sup>2</sup>(τ) vs t',\n",
    "        xaxis=dict(range=[np.log10(0.0001), np.log10(0.010)]),\n",
    "        width=800,\n",
    "        height=600,\n",
    "        # yaxis=dict(range=[0, 0.06])\n",
    "    )\n",
    "fig.show()"
   ]
  },
  {
   "cell_type": "markdown",
   "metadata": {},
   "source": [
    "$Q = \\frac{4\\pi n}{\\lambda}\\sin\\frac{\\theta}{2}$\n",
    "\n",
    "$\\gamma = 2DQ^2 \\Rightarrow D = \\frac{\\gamma\\lambda^2}{32\\pi^2n^2\\sin^2\\frac{\\theta}{2}}$\n",
    "\n",
    "$D = \\frac{K_B T}{6\\pi\\eta\\R}$\n",
    "\n",
    "$R = \\frac{16\\pi n^2 K_B T}{3\\eta\\lambda^2\\gamma}\\sin^2\\frac{\\theta}{2}$\n",
    "\n",
    "n = 1.33\n",
    "\n",
    "$\\eta$ = 0.01poise\n",
    "\n",
    "$\\lambda$ = 633nm\n",
    "\n",
    "$K_B$ = $$\n",
    "\n",
    "T = 293K"
   ]
  },
  {
   "cell_type": "code",
   "execution_count": 7,
   "metadata": {},
   "outputs": [
    {
     "name": "stdout",
     "output_type": "stream",
     "text": [
      "----------------- VALORI FIT: -----------------\n",
      "D: (3.705 ± 0.036)e6 \n",
      "\n",
      "dof: 8\n",
      "chi2: 14.09\n",
      "chi2 ridotto: 1.76\n",
      "pvalue: 0.08\n",
      "------------------------------------------------\n",
      "\n"
     ]
    },
    {
     "data": {
      "image/png": "[encoded data removed]",
      "text/plain": [
       "<Figure size 1000x600 with 1 Axes>"
      ]
     },
     "metadata": {},
     "output_type": "display_data"
    }
   ],
   "source": [
    "plt.figure(figsize=(10, 6))\n",
    "plt.errorbar(TETA, GAMMA,yerr=sigmaGAMMA, marker='.', linestyle='None', color='b')\n",
    "plt.xlabel('θ (degrees)')\n",
    "plt.ylabel('γ')\n",
    "plt.title('γ as a function of θ')\n",
    "plt.grid(True)\n",
    "\n",
    "\n",
    "# fit gamma teta\n",
    "\n",
    "def gamma_2DQ2(θ,D):\n",
    "    theta = np.deg2rad(θ)\n",
    "    return 2*D*16*(np.pi**2)*(n**2)*np.sin(theta/2)**2/(λ**2)\n",
    "\n",
    "gammatetafit = Interpolazione(TETA, GAMMA, sigmaGAMMA, gamma_2DQ2, [0.05],['D'])\n",
    "print(gammatetafit)\n",
    "\n",
    "plt.plot(gammatetafit.draw()[0],gammatetafit.draw()[1])\n",
    "\n",
    "plt.show()"
   ]
  },
  {
   "cell_type": "code",
   "execution_count": 8,
   "metadata": {},
   "outputs": [
    {
     "data": {
      "text/html": [
       "<div>\n",
       "<style scoped>\n",
       "    .dataframe tbody tr th:only-of-type {\n",
       "        vertical-align: middle;\n",
       "    }\n",
       "\n",
       "    .dataframe tbody tr th {\n",
       "        vertical-align: top;\n",
       "    }\n",
       "\n",
       "    .dataframe thead th {\n",
       "        text-align: right;\n",
       "    }\n",
       "</style>\n",
       "<table border=\"1\" class=\"dataframe\">\n",
       "  <thead>\n",
       "    <tr style=\"text-align: right;\">\n",
       "      <th></th>\n",
       "      <th>θ (deg)</th>\n",
       "      <th>R (nm)</th>\n",
       "    </tr>\n",
       "  </thead>\n",
       "  <tbody>\n",
       "    <tr>\n",
       "      <th>0</th>\n",
       "      <td>130</td>\n",
       "      <td>56.222567</td>\n",
       "    </tr>\n",
       "    <tr>\n",
       "      <th>1</th>\n",
       "      <td>120</td>\n",
       "      <td>55.520901</td>\n",
       "    </tr>\n",
       "    <tr>\n",
       "      <th>2</th>\n",
       "      <td>110</td>\n",
       "      <td>57.290319</td>\n",
       "    </tr>\n",
       "    <tr>\n",
       "      <th>3</th>\n",
       "      <td>100</td>\n",
       "      <td>55.556743</td>\n",
       "    </tr>\n",
       "    <tr>\n",
       "      <th>4</th>\n",
       "      <td>90</td>\n",
       "      <td>56.795038</td>\n",
       "    </tr>\n",
       "    <tr>\n",
       "      <th>5</th>\n",
       "      <td>80</td>\n",
       "      <td>56.432737</td>\n",
       "    </tr>\n",
       "    <tr>\n",
       "      <th>6</th>\n",
       "      <td>70</td>\n",
       "      <td>57.938369</td>\n",
       "    </tr>\n",
       "    <tr>\n",
       "      <th>7</th>\n",
       "      <td>60</td>\n",
       "      <td>58.142231</td>\n",
       "    </tr>\n",
       "    <tr>\n",
       "      <th>8</th>\n",
       "      <td>50</td>\n",
       "      <td>62.067240</td>\n",
       "    </tr>\n",
       "  </tbody>\n",
       "</table>\n",
       "</div>"
      ],
      "text/plain": [
       "   θ (deg)     R (nm)\n",
       "0      130  56.222567\n",
       "1      120  55.520901\n",
       "2      110  57.290319\n",
       "3      100  55.556743\n",
       "4       90  56.795038\n",
       "5       80  56.432737\n",
       "6       70  57.938369\n",
       "7       60  58.142231\n",
       "8       50  62.067240"
      ]
     },
     "metadata": {},
     "output_type": "display_data"
    }
   ],
   "source": [
    "# real_gamma = GAMMA*1000 # TODO: check this\n",
    "def calculate_R(gamma, theta):\n",
    "    theta_rad = np.radians(theta)\n",
    "    R = (16 * np.pi * n**2 * T * KB * np.sin(theta_rad / 2)**2) / (3 * η * λ**2 * gamma)\n",
    "    return R\n",
    "\n",
    "# Calculate R for each gamma and theta\n",
    "R_values = [calculate_R(gamma, theta) for gamma, theta in zip(GAMMA, TETA)]\n",
    "R_values_df = pd.DataFrame({'θ (deg)': TETA, 'R (nm)': R_values})\n",
    "display(R_values_df)"
   ]
  }
 ],
 "metadata": {
  "kernelspec": {
   "display_name": "Python 3",
   "language": "python",
   "name": "python3"
  },
  "language_info": {
   "codemirror_mode": {
    "name": "ipython",
    "version": 3
   },
   "file_extension": ".py",
   "mimetype": "text/x-python",
   "name": "python",
   "nbconvert_exporter": "python",
   "pygments_lexer": "ipython3",
   "version": "3.13.0"
  }
 },
 "nbformat": 4,
 "nbformat_minor": 2
}
