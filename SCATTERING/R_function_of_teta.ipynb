{
 "cells": [
  {
   "cell_type": "markdown",
   "metadata": {},
   "source": [
    "# DETERMINE R function of $\\theta$\n",
    "\n",
    "NOTA: t in ms"
   ]
  },
  {
   "cell_type": "code",
   "execution_count": 13,
   "metadata": {},
   "outputs": [],
   "source": [
    "from labbiofisica import Interpolazione\n",
    "from matplotlib import pyplot as plt\n",
    "import numpy as np\n",
    "import pandas as pd\n",
    "import plotly\n",
    "import plotly.express as px\n",
    "import os\n",
    "import plotly.graph_objects as go "
   ]
  },
  {
   "cell_type": "code",
   "execution_count": 2,
   "metadata": {},
   "outputs": [],
   "source": [
    "# Carico i dati {θ: {x: [], y: []}}\n",
    "# NOTA: sigmay = 0.001 per tutti i dati\n",
    "data = {}\n",
    "\n",
    "TETA = np.array([50,60,70,80,90,100,110,120,130])\n",
    "GAMMA = []\n",
    "\n",
    "for θ in TETA:\n",
    "    filename = f'./data/g_{θ}.txt'\n",
    "    read = pd.read_csv(filename,sep='\\t ',header=None,engine='python')\n",
    "    read = read[(read[0] >= 0.1) & (read[0] <= 10)]\n",
    "    data[θ] = {'x':read[0].to_numpy(),'y':read[1].to_numpy(),'sigmay': np.float64(0.001)}\n"
   ]
  },
  {
   "cell_type": "code",
   "execution_count": 3,
   "metadata": {},
   "outputs": [
    {
     "data": {
      "application/vnd.plotly.v1+json": {
       "config": {
        "plotlyServerURL": "https://plot.ly"
       },
       "data": [
        {
         "error_y": {
          "color": "black",
          "thickness": 1.5,
          "type": "constant",
          "value": 0.001,
          "width": 3
         },
         "mode": "markers",
         "name": "θ=50°",
         "type": "scatter",
         "x": {
          "bdata": "LUMc6+I2uj+Sy39Iv329P/yp8dJNYsA/L26jAbwFwj9hMlUwKqnDP5T2Bl+YTMU/x7q4jQbwxj/6fmq8dJPIPy1DHOviNso/kst/SL99zT/8qfHSTWLQPy9uowG8BdI/YTJVMCqp0z+U9gZfmEzVP8e6uI0G8NY/+n5qvHST2D8tQxzr4jbaP5LLf0i/fd0//Knx0k1i4D8vbqMBvAXiP2EyVTAqqeM/lPYGX5hM5T/HuriNBvDmP/p+arx0k+g/LUMc6+I26j+Sy39Iv33tP/yp8dJNYvA/L26jAbwF8j9hMlUwKqnzP5T2Bl+YTPU/x7q4jQbw9j/6fmq8dJP4Py1DHOviNvo/kst/SL99/T/8qfHSTWIAQC9uowG8BQJAYTJVMCqpA0CU9gZfmEwFQMe6uI0G8AZA+n5qvHSTCEAtQxzr4jYKQJLLf0i/fQ1A/Knx0k1iEEAvbqMBvAUSQGEyVTAqqRNAlPYGX5hMFUDHuriNBvAWQPp+arx0kxhALUMc6+I2GkCSy39Iv30dQPyp8dJNYiBAL26jAbwFIkBhMlUwKqkjQA==",
          "dtype": "f8"
         },
         "y": {
          "bdata": "fQyxVd1+nD9j78UX7fGaP/MUg9H2+Zk/EIXgAhq2lz+9vbVdsjuWPzeEz3sIT5U/A2Jt51ZjlD844blSKjyTP5qo70YwH5I/VnzoJ0EkkD9M8m0L4HeNP5apk32hkYk/TY2GQrqOhz+JdEcYaVaEPxqdHNNNQYI/8YAVVBLhgD/uZGgjdCN+P56rtUmojXg/LO6BTu9/cz8mXhIlKQJvP8s60s+KXmw/aWHDkQ+TYz+Q7aW+ZpheP9hOEEygTlo/2XfJKGQhWT+QW0AmIapTP0UE4d+nd08/r4Sak6r8QT/3MzvZbRpCPye9uwozsTw/f0HGNLdoHz9PEjYvk1AmP5oVuT8R5gq/llLAC5VeHz+ZT76mrAITP0XEwH9igB4/bpioqykzLz9ZJAebI/Mkv6rtY1u/xik/m81ANFWhEb8ku5AWgKkDP0Gz0kHquCI/7H37misaGT9P4R/unscuP7pf7qQYePu+zCz2OF363D7kEQfJNRclvyrrLDMblgU/7oZ7SBs38z7e3eR8LkPgPj1RrVRETPg+wnYBBY8VAj/Pg2giLcvnPg==",
          "dtype": "f8"
         }
        },
        {
         "error_y": {
          "color": "black",
          "thickness": 1.5,
          "type": "constant",
          "value": 0.001,
          "width": 3
         },
         "mode": "markers",
         "name": "θ=60°",
         "type": "scatter",
         "x": {
          "bdata": "LUMc6+I2uj+Sy39Iv329P/yp8dJNYsA/L26jAbwFwj9hMlUwKqnDP5T2Bl+YTMU/x7q4jQbwxj/6fmq8dJPIPy1DHOviNso/kst/SL99zT/8qfHSTWLQPy9uowG8BdI/YTJVMCqp0z+U9gZfmEzVP8e6uI0G8NY/+n5qvHST2D8tQxzr4jbaP5LLf0i/fd0//Knx0k1i4D8vbqMBvAXiP2EyVTAqqeM/lPYGX5hM5T/HuriNBvDmP/p+arx0k+g/LUMc6+I26j+Sy39Iv33tP/yp8dJNYvA/L26jAbwF8j9hMlUwKqnzP5T2Bl+YTPU/x7q4jQbw9j/6fmq8dJP4Py1DHOviNvo/kst/SL99/T/8qfHSTWIAQC9uowG8BQJAYTJVMCqpA0CU9gZfmEwFQMe6uI0G8AZA+n5qvHSTCEAtQxzr4jYKQJLLf0i/fQ1A/Knx0k1iEEAvbqMBvAUSQGEyVTAqqRNAlPYGX5hMFUDHuriNBvAWQPp+arx0kxhALUMc6+I2GkCSy39Iv30dQPyp8dJNYiBAL26jAbwFIkBhMlUwKqkjQA==",
          "dtype": "f8"
         },
         "y": {
          "bdata": "uKkmLQGdnj9BMKJIUi2dP70LSoc9o5s/EgR+Q5cmmz+ML9rjhXSYP1PF+UCXFZc/3PRnP1JElj+Fjmfh/JeVP88iJYeZx5M/vi5oxkcwkj9YiolyDkOQP4cJtIUxM40/m6ECcWjbij9muRG7W/6IP/pIpTOLq4U/KIBiZMkcgz+Wkd15oB2BPyUvnZzCxnw/GEmzYH9ldz9B+0eVF09zP36kDEVPBHA/MAPffgqRbT8wmRF79MhnPwyRVxCYwWc/qOLnO88KYj+aHW8Tal1VPx+p3EnmhkY/uE72qw0JUD+O7uMSjvNDPxEgutWwNTQ/DuMaER/nLD8tXuU2BSVBP8L/1zJ5ADQ/KCDVBwXyC79WjoQOni8UP/rheCKuuiM/F+tY+/QFKD9BEv4VTmMWP7yITsmUsxk/iHKBBn2bxT77K3rcPd0FvyRAWlddayU//lHews9DCr9JUcrPvXPuvuq78L2eMzK/Ui1Yob4p8L7y2RLey6kHv4ezRQv1WBi/6tzY3x7zHb8rW8PDtnApP+YCvGkY1fk+YJjSTluQHr+G6UgcHGYkvw==",
          "dtype": "f8"
         }
        },
        {
         "error_y": {
          "color": "black",
          "thickness": 1.5,
          "type": "constant",
          "value": 0.001,
          "width": 3
         },
         "mode": "markers",
         "name": "θ=70°",
         "type": "scatter",
         "x": {
          "bdata": "LUMc6+I2uj+Sy39Iv329P/yp8dJNYsA/L26jAbwFwj9hMlUwKqnDP5T2Bl+YTMU/x7q4jQbwxj/6fmq8dJPIPy1DHOviNso/kst/SL99zT/8qfHSTWLQPy9uowG8BdI/YTJVMCqp0z+U9gZfmEzVP8e6uI0G8NY/+n5qvHST2D8tQxzr4jbaP5LLf0i/fd0//Knx0k1i4D8vbqMBvAXiP2EyVTAqqeM/lPYGX5hM5T/HuriNBvDmP/p+arx0k+g/LUMc6+I26j+Sy39Iv33tP/yp8dJNYvA/L26jAbwF8j9hMlUwKqnzP5T2Bl+YTPU/x7q4jQbw9j/6fmq8dJP4Py1DHOviNvo/kst/SL99/T/8qfHSTWIAQC9uowG8BQJAYTJVMCqpA0CU9gZfmEwFQMe6uI0G8AZA+n5qvHSTCEAtQxzr4jYKQJLLf0i/fQ1A/Knx0k1iEEAvbqMBvAUSQGEyVTAqqRNAlPYGX5hMFUDHuriNBvAWQPp+arx0kxhALUMc6+I2GkCSy39Iv30dQPyp8dJNYiBAL26jAbwFIkBhMlUwKqkjQA==",
          "dtype": "f8"
         },
         "y": {
          "bdata": "hlW8kXnknz9wVLgvsUOeP5U3dj9dk5w/VgPeEzXimz+3KR4X1SKaP5Cq3Pqfspg/+w+fKpWmlz+GIc2z7Q+XP+kb4mlDD5Y/9kGWBRN/lD/fMTz2s1iSP1QImoUswZA/nAO65dmbjj+czgR5LGyMP8ysSsdBrok/x7q4jQbwhj+vaZTkbzGFP0Fe1Xo7mYI/NOHRpQOCfj/7XbeMxJl5P0vgnDKzpnQ/TfUi4v/xcj8f3FuZCeltPw44ATxYtWo/brENotawZj8gP8D/+/hgPwwdXLatmFc/bvKquoaaSj/r7s9/7k9CP1UdzexO0kc/UruwTPfuOj+bpk6OotE0P+kBDeUtHzU/xBDEb8YNKD9cC1oYh9I1P5zxGWvobwW/8Ox+V/yNI79wq7va09PsvuWWnRhuzSE/06dIyoXmJD9sfqPt/eUhP335E8eQyxc/df1IMic/JL8MyE/E0T4eP0R4+I7BWio/Aq+/umT7JD/zq1EBy+D8vpux6bpQ9h8/jW6cT/8LCz/fRkBJ5VQQP9+R7vT1xhE/WrPQsMqcDb/NAJcI210Fvw==",
          "dtype": "f8"
         }
        },
        {
         "error_y": {
          "color": "black",
          "thickness": 1.5,
          "type": "constant",
          "value": 0.001,
          "width": 3
         },
         "mode": "markers",
         "name": "θ=80°",
         "type": "scatter",
         "x": {
          "bdata": "LUMc6+I2uj+Sy39Iv329P/yp8dJNYsA/L26jAbwFwj9hMlUwKqnDP5T2Bl+YTMU/x7q4jQbwxj/6fmq8dJPIPy1DHOviNso/kst/SL99zT/8qfHSTWLQPy9uowG8BdI/YTJVMCqp0z+U9gZfmEzVP8e6uI0G8NY/+n5qvHST2D8tQxzr4jbaP5LLf0i/fd0//Knx0k1i4D8vbqMBvAXiP2EyVTAqqeM/lPYGX5hM5T/HuriNBvDmP/p+arx0k+g/LUMc6+I26j+Sy39Iv33tP/yp8dJNYvA/L26jAbwF8j9hMlUwKqnzP5T2Bl+YTPU/x7q4jQbw9j/6fmq8dJP4Py1DHOviNvo/kst/SL99/T/8qfHSTWIAQC9uowG8BQJAYTJVMCqpA0CU9gZfmEwFQMe6uI0G8AZA+n5qvHSTCEAtQxzr4jYKQJLLf0i/fQ1A/Knx0k1iEEAvbqMBvAUSQGEyVTAqqRNAlPYGX5hMFUDHuriNBvAWQPp+arx0kxhALUMc6+I2GkCSy39Iv30dQPyp8dJNYiBAL26jAbwFIkBhMlUwKqkjQA==",
          "dtype": "f8"
         },
         "y": {
          "bdata": "feXmwBfLoT9DnahbLPugP3/JfPYSGaA/4FPvXw/cnz+srdhfdk+eP2WgfIuYI50/fEYiNIKNmz+uHkE78eaaP+CXRAdu7pk/dydEZWjhlz/kV2JUCJqVPxxZnqy99JM/GdwgpLj0kT9EigESTaCQPyl1bn/TYI8/asmZ3N4kjD8YuJeP/12KP4hFsYEZ+IY/VC8JYX8jgz94K4UfIIiBP/NLDukBPX4/VfDjgStNeD+daR2wBoN2P+0t5Xyx93I/ei+ly+4LcD8wUyhFCulpPyVGhaBZyGI/CtsuuA8OYD9xM4HHXL5aPw0P7aUhkVM/rElDz15kTz+JyCpRaOxKPyRFZFjFGzk/pG86GJ1rKT8fqgq8fLMpP1qix7AJtxw/GqPXWcthAr9R0XzBs6wXP1xy2bqt0xW/5ClO5r3ADD98ofy0vDgiv1zmpJJiyRo/VVelQCSU/r4bhCVV1W8RPz4ZWfaI//m+TeZWS+yoEr/LvlYCXKIgP5VFozMXVSI/ep4m0LObMT8LCFgkpvClvjbE/k+aVg4/RFEN7BKE9D6CTHhrnDIHvw==",
          "dtype": "f8"
         }
        },
        {
         "error_y": {
          "color": "black",
          "thickness": 1.5,
          "type": "constant",
          "value": 0.001,
          "width": 3
         },
         "mode": "markers",
         "name": "θ=90°",
         "type": "scatter",
         "x": {
          "bdata": "LUMc6+I2uj+Sy39Iv329P/yp8dJNYsA/L26jAbwFwj9hMlUwKqnDP5T2Bl+YTMU/x7q4jQbwxj/6fmq8dJPIPy1DHOviNso/kst/SL99zT/8qfHSTWLQPy9uowG8BdI/YTJVMCqp0z+U9gZfmEzVP8e6uI0G8NY/+n5qvHST2D8tQxzr4jbaP5LLf0i/fd0//Knx0k1i4D8vbqMBvAXiP2EyVTAqqeM/lPYGX5hM5T/HuriNBvDmP/p+arx0k+g/LUMc6+I26j+Sy39Iv33tP/yp8dJNYvA/L26jAbwF8j9hMlUwKqnzP5T2Bl+YTPU/x7q4jQbw9j/6fmq8dJP4Py1DHOviNvo/kst/SL99/T/8qfHSTWIAQC9uowG8BQJAYTJVMCqpA0CU9gZfmEwFQMe6uI0G8AZA+n5qvHSTCEAtQxzr4jYKQJLLf0i/fQ1A/Knx0k1iEEAvbqMBvAUSQGEyVTAqqRNAlPYGX5hMFUDHuriNBvAWQPp+arx0kxhALUMc6+I2GkCSy39Iv30dQPyp8dJNYiBAL26jAbwFIkBhMlUwKqkjQA==",
          "dtype": "f8"
         },
         "y": {
          "bdata": "C0W6n1OQoz80eKkiJvKiP3Ak0GBT56E/IyHbQwyFoT8xow7hTtigP5QaNbrekaA/EORFyyZlnz8Lz0vFxryePwGeWbfmM50/fiiHBa12mz8uLMlLSLWZP8Ey27pA7pc/sPye/e1Xlj8rpWd6ibGUP6oKDcSymZM/t+BWi5mOkj/B6iNLQRKRPx8JRQQtbo0/hq+vdakRij8jLZW3I5yGPxGYPb/es4Q/fnRmksPtgT8DIR8Vez+AP9FjStpDsXs/hL2JITmZeD8kq413aNRzP1dgp9xtrG4/JvREIRM6aT+PUX1rUMljP/U/CujPyGE/zLhnZRQuWD9kNLjOOyVSP9nK9f1ulk8/DP/VIiMZQj/emEA/wwMpPxqtwQBkFiE/9LiQDFdVGL/c34rY6BsvP6+fHbos89i+JbTTec7CIL+j3A7xNSLtPgFA4bLiiRQ/OIIDQx4NHL98gdCv6gInP6x/r58AtSE/x8RLD8FzGr/MF5yGxmH5vnV0fZvVbQY/woCfHeKyCb/qwulPJNn4PhzuVBVigga/nMZWzfw1HL8kuWkkIxb6vg==",
          "dtype": "f8"
         }
        },
        {
         "error_y": {
          "color": "black",
          "thickness": 1.5,
          "type": "constant",
          "value": 0.001,
          "width": 3
         },
         "mode": "markers",
         "name": "θ=100°",
         "type": "scatter",
         "x": {
          "bdata": "LUMc6+I2uj+Sy39Iv329P/yp8dJNYsA/L26jAbwFwj9hMlUwKqnDP5T2Bl+YTMU/x7q4jQbwxj/6fmq8dJPIPy1DHOviNso/kst/SL99zT/8qfHSTWLQPy9uowG8BdI/YTJVMCqp0z+U9gZfmEzVP8e6uI0G8NY/+n5qvHST2D8tQxzr4jbaP5LLf0i/fd0//Knx0k1i4D8vbqMBvAXiP2EyVTAqqeM/lPYGX5hM5T/HuriNBvDmP/p+arx0k+g/LUMc6+I26j+Sy39Iv33tP/yp8dJNYvA/L26jAbwF8j9hMlUwKqnzP5T2Bl+YTPU/x7q4jQbw9j/6fmq8dJP4Py1DHOviNvo/kst/SL99/T/8qfHSTWIAQC9uowG8BQJAYTJVMCqpA0CU9gZfmEwFQMe6uI0G8AZA+n5qvHSTCEAtQxzr4jYKQJLLf0i/fQ1A/Knx0k1iEEAvbqMBvAUSQGEyVTAqqRNAlPYGX5hMFUDHuriNBvAWQPp+arx0kxhALUMc6+I2GkCSy39Iv30dQPyp8dJNYiBAL26jAbwFIkBhMlUwKqkjQA==",
          "dtype": "f8"
         },
         "y": {
          "bdata": "PGh23VuRpD95d2SsNv+jP63+Y3zzdqM/w+BQrt8Coz8W1jK+1HSiPz/A//v48KE//9GSIo1loT+umSH6WjyhP1Opfko6b6A/4d2AhYIInz+uW05TFWSdP90WG6mtx5s/UBK3r6gtmj+Z8Ev9vKmYP5MkvsklRJc/X439diM9lj+/pVKi2wGVP+rWxjPDoZI/sEBPXr+7kD8iLTr+sEqOP0awFkRJ7Yo/EERxIlVviD/dH5ScuMGFPz6mQRNZUoM/mABXDR2WgT+slmwjO8J7P8HvlS8elHY/5XslFEtfcj8+g36NwRZtP53O2/n6MWg/bfijyUHgYz+Mq+NbzI1hP45ZOEGCf10/BRkBFY4gVT+lstWjeK5SPxsMAwP580w/T6co1ipzQz8C5UyZ725CPxehErYjxTU/QAgzM1RBHD/8qaVECEspP+iagqtuBBE/ZVP/Ny6XKD96iaWQAeMUPxQrAbqxVRA/AK2Wx9ytA78FgRl8L/gjv0RU9/0hmgW/nlEh/J6oAr9R7pZaatoQvxwYioVr/yS/9a08bBUJJb80eiFcggUwvw==",
          "dtype": "f8"
         }
        },
        {
         "error_y": {
          "color": "black",
          "thickness": 1.5,
          "type": "constant",
          "value": 0.001,
          "width": 3
         },
         "mode": "markers",
         "name": "θ=110°",
         "type": "scatter",
         "x": {
          "bdata": "LUMc6+I2uj+Sy39Iv329P/yp8dJNYsA/L26jAbwFwj9hMlUwKqnDP5T2Bl+YTMU/x7q4jQbwxj/6fmq8dJPIPy1DHOviNso/kst/SL99zT/8qfHSTWLQPy9uowG8BdI/YTJVMCqp0z+U9gZfmEzVP8e6uI0G8NY/+n5qvHST2D8tQxzr4jbaP5LLf0i/fd0//Knx0k1i4D8vbqMBvAXiP2EyVTAqqeM/lPYGX5hM5T/HuriNBvDmP/p+arx0k+g/LUMc6+I26j+Sy39Iv33tP/yp8dJNYvA/L26jAbwF8j9hMlUwKqnzP5T2Bl+YTPU/x7q4jQbw9j/6fmq8dJP4Py1DHOviNvo/kst/SL99/T/8qfHSTWIAQC9uowG8BQJAYTJVMCqpA0CU9gZfmEwFQMe6uI0G8AZA+n5qvHSTCEAtQxzr4jYKQJLLf0i/fQ1A/Knx0k1iEEAvbqMBvAUSQGEyVTAqqRNAlPYGX5hMFUDHuriNBvAWQPp+arx0kxhALUMc6+I2GkCSy39Iv30dQPyp8dJNYiBAL26jAbwFIkBhMlUwKqkjQA==",
          "dtype": "f8"
         },
         "y": {
          "bdata": "nxOMlHcfpT8dOGdEaW+kP5IPMKmQ4aM/wbItXofFoz8WoBJ8eDujP8myu5sC9KI/Thq0oawpoj89pw8Tw8ShP8aYBSSrbKE/uq5OhMPBoD9I/fUKC+6fP0UTKGIRw54/maSNfo9VnT9baJ2n8FacP9ebvdggOJs/bfntkAfHmT+GFE2xtJ2YP9ciWAuipJY/MMhMWNHVlD8xhFJq5RSTP7lxi/m5oZE/wznZvGAmkD8uMHWhA9yNP3Qkl/+Qfos/9SG5RhUPiT98DcFxGTeFP0KfnxRzMYI/inr7UsOnfj8jyWJRxxl5P449WiBqcHU/plfzsfXrcj9DTmdAIERwPz93m5p4xWs/Hl/vvFzdZD/RG7R4LfhfPws0r1VIGlg/D0WiTHpKVD/vkc1V8xxRP6O+nEGSRUk/7Qoi9xm8RD9uuqLqEGVDP/MQ/ULeXkE/oi6ymjcZOD8FCuUSgckhPy467zz+fRC/BFPgtIax8b55Fa3upWjdPnBneBYxqiQ/AU+FOAm3Ij8DL8aGRuUKP8wJcgF8eCU/a6G0lESf/L7JtdZUbIUmvw==",
          "dtype": "f8"
         }
        },
        {
         "error_y": {
          "color": "black",
          "thickness": 1.5,
          "type": "constant",
          "value": 0.001,
          "width": 3
         },
         "mode": "markers",
         "name": "θ=120°",
         "type": "scatter",
         "x": {
          "bdata": "LUMc6+I2uj+Sy39Iv329P/yp8dJNYsA/L26jAbwFwj9hMlUwKqnDP5T2Bl+YTMU/x7q4jQbwxj/6fmq8dJPIPy1DHOviNso/kst/SL99zT/8qfHSTWLQPy9uowG8BdI/YTJVMCqp0z+U9gZfmEzVP8e6uI0G8NY/+n5qvHST2D8tQxzr4jbaP5LLf0i/fd0//Knx0k1i4D8vbqMBvAXiP2EyVTAqqeM/lPYGX5hM5T/HuriNBvDmP/p+arx0k+g/LUMc6+I26j+Sy39Iv33tP/yp8dJNYvA/L26jAbwF8j9hMlUwKqnzP5T2Bl+YTPU/x7q4jQbw9j/6fmq8dJP4Py1DHOviNvo/kst/SL99/T/8qfHSTWIAQC9uowG8BQJAYTJVMCqpA0CU9gZfmEwFQMe6uI0G8AZA+n5qvHSTCEAtQxzr4jYKQJLLf0i/fQ1A/Knx0k1iEEAvbqMBvAUSQGEyVTAqqRNAlPYGX5hMFUDHuriNBvAWQPp+arx0kxhALUMc6+I2GkCSy39Iv30dQPyp8dJNYiBAL26jAbwFIkBhMlUwKqkjQA==",
          "dtype": "f8"
         },
         "y": {
          "bdata": "aLki57PypT+pIibybnalP1FwDFx5JKU//R6rShHPpD90sKMW72ykP1Ny8zIvLKQ/oOnbOBigoz//J9qwAWyjP6EUCJZ+HaM/yh9n9Wlwoj8FACJYsOihPwzyaQTRSaE/AiGjTR/LoD8oSp3b3zSgPx0EHa1qSZ8/8N5RY0LMnT/0UUZcABqdP8aweQvamps/rl9VYkPcmT+OSwtNyL2XP7XHZqJjYpY/j9MhgVAolT+cUfNV8rGTP8FvQ4zXvJI/2VfD6jR3kT9AHH/9a9SOP3/XDBWIQ4s/FCUhkbbxhz9gNHVoohmFP/jtmHgP6YI/UnWX3faxgD9ISRe086p8P7Jy3OcA2nk/Psh4tVhhdT9Twjz5LoRwP/E1mStiXGo/9hKdRAi4ZT+LKaJwh5dhP4wIrSQFWFw/fvR2GTh/Vz/Am4d2wglUP1K3+oTI9kU/uJRq1ICXQj/UxvzPppI9P7WhIzh8cjc/h7+JlY+sNT8jXDh4dXotPwEQ2h/mmhs/+WK/jAGQJT+5TInAKjkUP2W+RDv16CA/asxsm5e/AT9YX06hW7UQPw==",
          "dtype": "f8"
         }
        },
        {
         "error_y": {
          "color": "black",
          "thickness": 1.5,
          "type": "constant",
          "value": 0.001,
          "width": 3
         },
         "mode": "markers",
         "name": "θ=130°",
         "type": "scatter",
         "x": {
          "bdata": "LUMc6+I2uj+Sy39Iv329P/yp8dJNYsA/L26jAbwFwj9hMlUwKqnDP5T2Bl+YTMU/x7q4jQbwxj/6fmq8dJPIPy1DHOviNso/kst/SL99zT/8qfHSTWLQPy9uowG8BdI/YTJVMCqp0z+U9gZfmEzVP8e6uI0G8NY/+n5qvHST2D8tQxzr4jbaP5LLf0i/fd0//Knx0k1i4D8vbqMBvAXiP2EyVTAqqeM/lPYGX5hM5T/HuriNBvDmP/p+arx0k+g/LUMc6+I26j+Sy39Iv33tP/yp8dJNYvA/L26jAbwF8j9hMlUwKqnzP5T2Bl+YTPU/x7q4jQbw9j/6fmq8dJP4Py1DHOviNvo/kst/SL99/T/8qfHSTWIAQC9uowG8BQJAYTJVMCqpA0CU9gZfmEwFQMe6uI0G8AZA+n5qvHSTCEAtQxzr4jYKQJLLf0i/fQ1A/Knx0k1iEEAvbqMBvAUSQGEyVTAqqRNAlPYGX5hMFUDHuriNBvAWQPp+arx0kxhALUMc6+I2GkCSy39Iv30dQPyp8dJNYiBAL26jAbwFIkBhMlUwKqkjQA==",
          "dtype": "f8"
         },
         "y": {
          "bdata": "sztJX61/qD8fTVAecSOoP4at2cpL/qc/qgoNxLKZpz/ns/KB03GnP8xHrYs2Iqc/drUmJyTjpj/K6DaX0X6mP5oLXB5rRqY/V7+IbNbPpT/yJr9FJ0ulP5qC60CMxqQ/dLdGX5xTpD+aR1kaUwukP4FaDB6mfaM/rOhqhq8Koz8mmvaDcLuiP6tKEc/I1qE/c0ekEkMXoT94p0x7lFugP6cWW1L/ap8/zl/X5UrznT8/MOzVbIqcP/PixFc7ips/4Qz+fjFbmj+oJQy5CEKYP3pfS356IpY/wrLj0GxolD8CNWvfktKSP3rejQWFQZE/twKvO4LAjz+i8Z/JWTONPzNmtzsQ/oo//UFu0KgKhz89MNupFJaDP2vKgHnpooA/qrJStZvofD+by2g/rf14P1aU2NbLxnU/QFS3Bvhmcj+h3d+oLkNwP8VOgHqWlGk/C3T1fDCdZD9/BkjyZFBgP9OdabqFS1o/tww4S8lyUj8JnZO7KKpJP8LgfubKpUM/8Z6RdSmPPT9OxEZMlZc4P2tRDoJojzI/IooYGRXWDD9qXa9Y35odPw==",
          "dtype": "f8"
         }
        }
       ],
       "layout": {
        "template": {
         "data": {
          "bar": [
           {
            "error_x": {
             "color": "#2a3f5f"
            },
            "error_y": {
             "color": "#2a3f5f"
            },
            "marker": {
             "line": {
              "color": "#E5ECF6",
              "width": 0.5
             },
             "pattern": {
              "fillmode": "overlay",
              "size": 10,
              "solidity": 0.2
             }
            },
            "type": "bar"
           }
          ],
          "barpolar": [
           {
            "marker": {
             "line": {
              "color": "#E5ECF6",
              "width": 0.5
             },
             "pattern": {
              "fillmode": "overlay",
              "size": 10,
              "solidity": 0.2
             }
            },
            "type": "barpolar"
           }
          ],
          "carpet": [
           {
            "aaxis": {
             "endlinecolor": "#2a3f5f",
             "gridcolor": "white",
             "linecolor": "white",
             "minorgridcolor": "white",
             "startlinecolor": "#2a3f5f"
            },
            "baxis": {
             "endlinecolor": "#2a3f5f",
             "gridcolor": "white",
             "linecolor": "white",
             "minorgridcolor": "white",
             "startlinecolor": "#2a3f5f"
            },
            "type": "carpet"
           }
          ],
          "choropleth": [
           {
            "colorbar": {
             "outlinewidth": 0,
             "ticks": ""
            },
            "type": "choropleth"
           }
          ],
          "contour": [
           {
            "colorbar": {
             "outlinewidth": 0,
             "ticks": ""
            },
            "colorscale": [
             [
              0,
              "#0d0887"
             ],
             [
              0.1111111111111111,
              "#46039f"
             ],
             [
              0.2222222222222222,
              "#7201a8"
             ],
             [
              0.3333333333333333,
              "#9c179e"
             ],
             [
              0.4444444444444444,
              "#bd3786"
             ],
             [
              0.5555555555555556,
              "#d8576b"
             ],
             [
              0.6666666666666666,
              "#ed7953"
             ],
             [
              0.7777777777777778,
              "#fb9f3a"
             ],
             [
              0.8888888888888888,
              "#fdca26"
             ],
             [
              1,
              "#f0f921"
             ]
            ],
            "type": "contour"
           }
          ],
          "contourcarpet": [
           {
            "colorbar": {
             "outlinewidth": 0,
             "ticks": ""
            },
            "type": "contourcarpet"
           }
          ],
          "heatmap": [
           {
            "colorbar": {
             "outlinewidth": 0,
             "ticks": ""
            },
            "colorscale": [
             [
              0,
              "#0d0887"
             ],
             [
              0.1111111111111111,
              "#46039f"
             ],
             [
              0.2222222222222222,
              "#7201a8"
             ],
             [
              0.3333333333333333,
              "#9c179e"
             ],
             [
              0.4444444444444444,
              "#bd3786"
             ],
             [
              0.5555555555555556,
              "#d8576b"
             ],
             [
              0.6666666666666666,
              "#ed7953"
             ],
             [
              0.7777777777777778,
              "#fb9f3a"
             ],
             [
              0.8888888888888888,
              "#fdca26"
             ],
             [
              1,
              "#f0f921"
             ]
            ],
            "type": "heatmap"
           }
          ],
          "histogram": [
           {
            "marker": {
             "pattern": {
              "fillmode": "overlay",
              "size": 10,
              "solidity": 0.2
             }
            },
            "type": "histogram"
           }
          ],
          "histogram2d": [
           {
            "colorbar": {
             "outlinewidth": 0,
             "ticks": ""
            },
            "colorscale": [
             [
              0,
              "#0d0887"
             ],
             [
              0.1111111111111111,
              "#46039f"
             ],
             [
              0.2222222222222222,
              "#7201a8"
             ],
             [
              0.3333333333333333,
              "#9c179e"
             ],
             [
              0.4444444444444444,
              "#bd3786"
             ],
             [
              0.5555555555555556,
              "#d8576b"
             ],
             [
              0.6666666666666666,
              "#ed7953"
             ],
             [
              0.7777777777777778,
              "#fb9f3a"
             ],
             [
              0.8888888888888888,
              "#fdca26"
             ],
             [
              1,
              "#f0f921"
             ]
            ],
            "type": "histogram2d"
           }
          ],
          "histogram2dcontour": [
           {
            "colorbar": {
             "outlinewidth": 0,
             "ticks": ""
            },
            "colorscale": [
             [
              0,
              "#0d0887"
             ],
             [
              0.1111111111111111,
              "#46039f"
             ],
             [
              0.2222222222222222,
              "#7201a8"
             ],
             [
              0.3333333333333333,
              "#9c179e"
             ],
             [
              0.4444444444444444,
              "#bd3786"
             ],
             [
              0.5555555555555556,
              "#d8576b"
             ],
             [
              0.6666666666666666,
              "#ed7953"
             ],
             [
              0.7777777777777778,
              "#fb9f3a"
             ],
             [
              0.8888888888888888,
              "#fdca26"
             ],
             [
              1,
              "#f0f921"
             ]
            ],
            "type": "histogram2dcontour"
           }
          ],
          "mesh3d": [
           {
            "colorbar": {
             "outlinewidth": 0,
             "ticks": ""
            },
            "type": "mesh3d"
           }
          ],
          "parcoords": [
           {
            "line": {
             "colorbar": {
              "outlinewidth": 0,
              "ticks": ""
             }
            },
            "type": "parcoords"
           }
          ],
          "pie": [
           {
            "automargin": true,
            "type": "pie"
           }
          ],
          "scatter": [
           {
            "fillpattern": {
             "fillmode": "overlay",
             "size": 10,
             "solidity": 0.2
            },
            "type": "scatter"
           }
          ],
          "scatter3d": [
           {
            "line": {
             "colorbar": {
              "outlinewidth": 0,
              "ticks": ""
             }
            },
            "marker": {
             "colorbar": {
              "outlinewidth": 0,
              "ticks": ""
             }
            },
            "type": "scatter3d"
           }
          ],
          "scattercarpet": [
           {
            "marker": {
             "colorbar": {
              "outlinewidth": 0,
              "ticks": ""
             }
            },
            "type": "scattercarpet"
           }
          ],
          "scattergeo": [
           {
            "marker": {
             "colorbar": {
              "outlinewidth": 0,
              "ticks": ""
             }
            },
            "type": "scattergeo"
           }
          ],
          "scattergl": [
           {
            "marker": {
             "colorbar": {
              "outlinewidth": 0,
              "ticks": ""
             }
            },
            "type": "scattergl"
           }
          ],
          "scattermap": [
           {
            "marker": {
             "colorbar": {
              "outlinewidth": 0,
              "ticks": ""
             }
            },
            "type": "scattermap"
           }
          ],
          "scattermapbox": [
           {
            "marker": {
             "colorbar": {
              "outlinewidth": 0,
              "ticks": ""
             }
            },
            "type": "scattermapbox"
           }
          ],
          "scatterpolar": [
           {
            "marker": {
             "colorbar": {
              "outlinewidth": 0,
              "ticks": ""
             }
            },
            "type": "scatterpolar"
           }
          ],
          "scatterpolargl": [
           {
            "marker": {
             "colorbar": {
              "outlinewidth": 0,
              "ticks": ""
             }
            },
            "type": "scatterpolargl"
           }
          ],
          "scatterternary": [
           {
            "marker": {
             "colorbar": {
              "outlinewidth": 0,
              "ticks": ""
             }
            },
            "type": "scatterternary"
           }
          ],
          "surface": [
           {
            "colorbar": {
             "outlinewidth": 0,
             "ticks": ""
            },
            "colorscale": [
             [
              0,
              "#0d0887"
             ],
             [
              0.1111111111111111,
              "#46039f"
             ],
             [
              0.2222222222222222,
              "#7201a8"
             ],
             [
              0.3333333333333333,
              "#9c179e"
             ],
             [
              0.4444444444444444,
              "#bd3786"
             ],
             [
              0.5555555555555556,
              "#d8576b"
             ],
             [
              0.6666666666666666,
              "#ed7953"
             ],
             [
              0.7777777777777778,
              "#fb9f3a"
             ],
             [
              0.8888888888888888,
              "#fdca26"
             ],
             [
              1,
              "#f0f921"
             ]
            ],
            "type": "surface"
           }
          ],
          "table": [
           {
            "cells": {
             "fill": {
              "color": "#EBF0F8"
             },
             "line": {
              "color": "white"
             }
            },
            "header": {
             "fill": {
              "color": "#C8D4E3"
             },
             "line": {
              "color": "white"
             }
            },
            "type": "table"
           }
          ]
         },
         "layout": {
          "annotationdefaults": {
           "arrowcolor": "#2a3f5f",
           "arrowhead": 0,
           "arrowwidth": 1
          },
          "autotypenumbers": "strict",
          "coloraxis": {
           "colorbar": {
            "outlinewidth": 0,
            "ticks": ""
           }
          },
          "colorscale": {
           "diverging": [
            [
             0,
             "#8e0152"
            ],
            [
             0.1,
             "#c51b7d"
            ],
            [
             0.2,
             "#de77ae"
            ],
            [
             0.3,
             "#f1b6da"
            ],
            [
             0.4,
             "#fde0ef"
            ],
            [
             0.5,
             "#f7f7f7"
            ],
            [
             0.6,
             "#e6f5d0"
            ],
            [
             0.7,
             "#b8e186"
            ],
            [
             0.8,
             "#7fbc41"
            ],
            [
             0.9,
             "#4d9221"
            ],
            [
             1,
             "#276419"
            ]
           ],
           "sequential": [
            [
             0,
             "#0d0887"
            ],
            [
             0.1111111111111111,
             "#46039f"
            ],
            [
             0.2222222222222222,
             "#7201a8"
            ],
            [
             0.3333333333333333,
             "#9c179e"
            ],
            [
             0.4444444444444444,
             "#bd3786"
            ],
            [
             0.5555555555555556,
             "#d8576b"
            ],
            [
             0.6666666666666666,
             "#ed7953"
            ],
            [
             0.7777777777777778,
             "#fb9f3a"
            ],
            [
             0.8888888888888888,
             "#fdca26"
            ],
            [
             1,
             "#f0f921"
            ]
           ],
           "sequentialminus": [
            [
             0,
             "#0d0887"
            ],
            [
             0.1111111111111111,
             "#46039f"
            ],
            [
             0.2222222222222222,
             "#7201a8"
            ],
            [
             0.3333333333333333,
             "#9c179e"
            ],
            [
             0.4444444444444444,
             "#bd3786"
            ],
            [
             0.5555555555555556,
             "#d8576b"
            ],
            [
             0.6666666666666666,
             "#ed7953"
            ],
            [
             0.7777777777777778,
             "#fb9f3a"
            ],
            [
             0.8888888888888888,
             "#fdca26"
            ],
            [
             1,
             "#f0f921"
            ]
           ]
          },
          "colorway": [
           "#636efa",
           "#EF553B",
           "#00cc96",
           "#ab63fa",
           "#FFA15A",
           "#19d3f3",
           "#FF6692",
           "#B6E880",
           "#FF97FF",
           "#FECB52"
          ],
          "font": {
           "color": "#2a3f5f"
          },
          "geo": {
           "bgcolor": "white",
           "lakecolor": "white",
           "landcolor": "#E5ECF6",
           "showlakes": true,
           "showland": true,
           "subunitcolor": "white"
          },
          "hoverlabel": {
           "align": "left"
          },
          "hovermode": "closest",
          "mapbox": {
           "style": "light"
          },
          "paper_bgcolor": "white",
          "plot_bgcolor": "#E5ECF6",
          "polar": {
           "angularaxis": {
            "gridcolor": "white",
            "linecolor": "white",
            "ticks": ""
           },
           "bgcolor": "#E5ECF6",
           "radialaxis": {
            "gridcolor": "white",
            "linecolor": "white",
            "ticks": ""
           }
          },
          "scene": {
           "xaxis": {
            "backgroundcolor": "#E5ECF6",
            "gridcolor": "white",
            "gridwidth": 2,
            "linecolor": "white",
            "showbackground": true,
            "ticks": "",
            "zerolinecolor": "white"
           },
           "yaxis": {
            "backgroundcolor": "#E5ECF6",
            "gridcolor": "white",
            "gridwidth": 2,
            "linecolor": "white",
            "showbackground": true,
            "ticks": "",
            "zerolinecolor": "white"
           },
           "zaxis": {
            "backgroundcolor": "#E5ECF6",
            "gridcolor": "white",
            "gridwidth": 2,
            "linecolor": "white",
            "showbackground": true,
            "ticks": "",
            "zerolinecolor": "white"
           }
          },
          "shapedefaults": {
           "line": {
            "color": "#2a3f5f"
           }
          },
          "ternary": {
           "aaxis": {
            "gridcolor": "white",
            "linecolor": "white",
            "ticks": ""
           },
           "baxis": {
            "gridcolor": "white",
            "linecolor": "white",
            "ticks": ""
           },
           "bgcolor": "#E5ECF6",
           "caxis": {
            "gridcolor": "white",
            "linecolor": "white",
            "ticks": ""
           }
          },
          "title": {
           "x": 0.05
          },
          "xaxis": {
           "automargin": true,
           "gridcolor": "white",
           "linecolor": "white",
           "ticks": "",
           "title": {
            "standoff": 15
           },
           "zerolinecolor": "white",
           "zerolinewidth": 2
          },
          "yaxis": {
           "automargin": true,
           "gridcolor": "white",
           "linecolor": "white",
           "ticks": "",
           "title": {
            "standoff": 15
           },
           "zerolinecolor": "white",
           "zerolinewidth": 2
          }
         }
        },
        "title": {
         "text": "g<sup>2</sup>(τ) vs t"
        },
        "xaxis": {
         "range": [
          -1,
          1
         ],
         "title": {
          "text": "t (ms)"
         },
         "type": "log"
        },
        "yaxis": {
         "title": {
          "text": "g<sup>2</sup>(τ)"
         }
        }
       }
      }
     },
     "metadata": {},
     "output_type": "display_data"
    }
   ],
   "source": [
    "# plot row data\n",
    "\n",
    "fig = go.Figure()\n",
    "\n",
    "# fig.add_trace(go.Scatter(x=x, y=y, mode='lines', name='data'))\n",
    "\n",
    "fig.update_layout(\n",
    "\txaxis_type=\"log\",\n",
    "\tyaxis_title=\"g<sup>2</sup>(τ)\",\n",
    "\txaxis_title=\"t (ms)\",\n",
    "\ttitle='g<sup>2</sup>(τ) vs t',\n",
    "\txaxis=dict(range=[np.log10(0.1), np.log10(10)]),\n",
    "\t# yaxis=dict(range=[0, 0.06])\n",
    ")\n",
    "\n",
    "for θ in data.keys():\n",
    "\tfig.add_trace(go.Scatter(x=data[θ]['x'], y=data[θ]['y'], mode='markers', name=f'θ={θ}°',error_y=dict( \n",
    "\t\t\ttype='constant', \n",
    "\t\t\tvalue=0.001, \n",
    "\t\t\tcolor='black',\n",
    "\t\t\tthickness=1.5, \n",
    "\t\t\twidth=3, \n",
    "\t\t)))\n",
    "\n",
    "fig.show()"
   ]
  },
  {
   "cell_type": "code",
   "execution_count": 4,
   "metadata": {},
   "outputs": [],
   "source": [
    "# fit data\n",
    "\n",
    "f = lambda x, A, B, γ: A*np.exp(-γ*x) + B\n",
    "\n",
    "for key in data.keys():\n",
    "    x = data[key]['x']\n",
    "    y = data[key]['y']\n",
    "    sigmay = data[key]['sigmay']\n",
    "    m = Interpolazione(x, y, sigmay, f, [0.05, 0.001, 2.7],['A','B','γ'])\n",
    "    data[key]['fit'] = m\n",
    "    # print(m.values['γ'])\n",
    "    data[key]['gamma'] = m.values['γ']\n",
    "    GAMMA.append(m.values['γ'])\n",
    "\n",
    "GAMMA = np.array(GAMMA) "
   ]
  },
  {
   "cell_type": "markdown",
   "metadata": {},
   "source": [
    "# PLOT FIT"
   ]
  },
  {
   "cell_type": "code",
   "execution_count": 21,
   "metadata": {},
   "outputs": [
    {
     "data": {
      "application/vnd.plotly.v1+json": {
       "config": {
        "plotlyServerURL": "https://plot.ly"
       },
       "data": [
        {
         "line": {
          "color": "#1F77B4"
         },
         "mode": "lines",
         "showlegend": false,
         "type": "scatter",
         "x": {
          "bdata": "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",
          "dtype": "f8"
         },
         "y": {
          "bdata": "FgXH329enD/umJ8/9jCbP2ipg+QMEJo/Wb/cxS37mD9bQAJx2PGXP+9Qos2R85Y/8XKm5OP/lT8nYnmpXRaVPwvLlMWSNpQ/RIc+Zhtgkz9VDl4MlJKSP0LCU16dzZE/8K28+9sQkT+0Lw5T+FuQP97K6/E8XY8/WgLWAvwQjj+D7b20k9KMP/Jl+E9woYs/WozERAR9ij8yOZ/px2SJPzoRUzw5WIg/FguopdtWhz/Eapa/N2CGPypi4h3bc4U/LKQGGViRhD/BSVWbRbiDPz9vN/A+6II/9+t0leMggj9fd24O12GBP2F2NbnAqoA/9RHbSpf2fz8xicnZTKZ+P52moBsGZH0/yeU3jS0vfD96E3fmMwd7Pzl13deP63k/HRjOyr3beD9HuYOkP9d3P7/1j4uc3XY/lZ3Kr2DudT+2J5cUHQl1P1NZZ11nLXQ/wD1jnNlacz9dih8jEpFyP51+TFWzz3E/yDlIfWMWcT8pYYCizGRwP6WOH8M4dW8/GSgLjAcvbj+BYohLbvZsPyv9zfvbyms/GAY9osWraj/jAecOpphpP6rvw579kGg/+X17AFKUZz+J+KX7LaJmPzqbajohumU/iQ9iFcDbZD9Z56RhowZkPxvp7kBoOmM/V/nA8692Yj/9WWytH7thP/ra8mlgB2E/YHGoxR5bYD/m9AatFWxfP71wEw6wL14/FaqR5XkAXT+P35OI5t1bP57T4Chvx1o/6pxplpK8WT9mqloD1bxYPxUtrMq/x1c/XkIXOeHcVj9jVVZYzPtVPxY/mLwYJFU/RLEOVGJVVD8hc4E4SY9TP8rl0IJx0VI/zyxTIIMbUj8PM/ipKW1RP1aXIT0UxlA/NlYcVvUlUD8akVVYBRlPP4aPHB7q8k0/uPUAjBDZTD8S9Bng9cpLP3gzecscyEo/QJYIOA3QST9uK9QQVOJIP9B7pgyD/kc/NmzeejAkRz8S+GYS91JGP1oFusJ1ikU/6oTYhk/KRD9W+yI6KxJEPwBt/m6zYUM/1n0yR5a4Qj+yYe5NhRZCP7D+YlM1e0E/oV7hSV7mQD/eQG0ku1dAP4uVaG0Tnj8/qPO1LBWYPj+WMyL7AZ09PxoxwF1lrDw/o0ZMtM/FOz90CGMF1ug6P1t64MwRFTo/ZblQzCBKOT/aCVzdpIc4P9gjGcZDzTc/F3sxD6caNz8OF8Tbe282P7he9MJyyzU/2AITqz8uNT8B70+mmZc0P9/g5NA6BzQ/IvOoMOB8Mz9AEf6VSfgyPxTqCX45eTI/XpAs9nT/MT9mjKeAw4oxP3CuaPruGjE/4nnsgcOvMD/qgSxfD0kwP2IaHdlFzS8/pZqTAaEQLz9O0W+z2FsuP1YFEBCZri0/sK+Ut5EILT9IzZajdWksP2b+awP70Cs/jd/nGds+Kz8quYoc0rIqP+5LDhSfLCo/JiNCvgOsKT8XcSlxxDApP5YPTf+nuig/Bs00nXdJKD9wt/vH/twnP/Ca8ywLdSc/t2VMkmwRJz9PnbTA9LEmP7KD6G13ViY/CvolKMr+JT+fmHtCxKolP0zZ6cE+WiU/mZNNSxQNJT9pZgsSIcMkPzgFdMdCfCQ/P7TZilg4JD9zkU/aQvcjP6iWC4TjuCM/6oxkmB19Iz9zcWVc1UMjP98R8DzwDCM/nedowlTYIj+ceuaE6qUiP9jP3iCadSI/I6NNLE1HIj9mY04s7hoiP4AeJYto8CE/KL2xjqjHIT+hIElPm6AhP17j764ueyE/+KryUFFXIT8wJdiR8jQhP2HzqH8CFCE/q++J0nH0ID9IXaXlMdYgPwq6X7A0uSA/OwrVv2ydID+kmZswzYIgP69MyahJaSA/h7s4UtZQID+2bgvVZzkgPxSxZlLzIiA//oVoX24NID/a2aQAnvEfP+Roz0cXyh8/Bm36PTakHz/d3XBQ6X8fP5zl96cfXR8/ycn+IMk7Hz+zLSJE1hsfP6Y1/z44/R4/hDZT3eDfHj85wWSCwsMeP1T7siLQqB4/1lboPf2OHj9l2g3ZPXYePy9J/HiGXh4/QJYIHcxHHj/gKuk5BDIeP5ah0bQkHR4/BbHC3iMJHj+zGQxw+PUdP16B/oOZ4x0/ZzzLlP7RHT9yG5B3H8EdP4hnjVj0sB0/zUqEt3WhHT+I9jtknJIdPxPpK3thhB0/1sdJYr52HT+NUfnFrGkdPzX9HJYmXR0/C+lFAyZRHT97ywF8pUUdP/qlRaqfOh0/3wb0cA8wHT9NtH3p7yUdP22mm2E8HB0/6UIhWfASHT/p1uV/BwodP5pXxLN9AR0/nXuw/k75HD+RSeCUd/EcP4tBCdPz6Rw/S1CwPMDiHD+1w4t62dscP46A9lg81Rw/TsFzxuXOHD+5rULS0sgcPxQiAasAwxw/CgRdnWy9HD/3idMSFLgcP8HffZD0shw/v5rqtQuuHD/4cwM8V6kcP8nF/vPUpBw/dk9cxoKgHD9ixuyxXpwcP6bB48pmmBw/m5HzOZmUHD+BmXI79JAcP8DFiR52jRw/qb1rRB2KHD94c5Qf6IYcP1a5EDPVgxw/1oXNEeOAHD/ile5dEH4cP4wdLMhbexw/eTw3D8R4HD+17ST/R3YcP80t33Dmcxw/6hScSZ5xHD9rpVp6bm8cPxkSZf9VbRw/r0HY31NrHD/BVzAtZ2kcP34N2gKPZxw/8abIhcplHD+IUxDkGGQcP9HKhFR5Yhw/JvhbFutgHD8IitRwbV8cP7A74LL/XRw/BbHRMqFcHD/lvg1OUVscPzn7v2gPWhw/2HGS7dpYHD+lXGhNs1ccP9G+G/+XVhw/cMQ9f4hVHD/SyNlPhFQcP2XnOviKUxw//PuzBJxSHD9/+GkGt1EcPyh3IJPbUBw/YXEIRQlQHD96BJG6P08cPzcuOpZ+Thw/SmxpfsVNHD+NKkAdFE0cP7zscyBqTBw/JCEoOcdLHD+tiskbK0scPyAx63+VShw/jsckIAZKHD8cefK5fEkcP2ANlg35SBw/7VX53XpIHD9h15HwAUgcP8OgRQ2ORxw/pURR/h5HHD/v5y6QtEYcP8FafpFORhw/UjDu0uxFHD8+yyUnj0UcP/RTsGI1RRw/oI/oW99EHD8njuXqjEQcPzomaOk9RBw//jbJMvJDHD/zpuijqUMcP04YHRtkQxw/IUskeCFDHD8oJhSc4UIcPztfTGmkQhw/v7xow2lCHD++6TOPMUIcP4DWmrL7QRw/zJ+gFMhBHD9B91KdlkEcP0sHvzVnQRw/rc3mxzlBHD+V57Y+DkEcP5HK/IXkQBw/ymVdirxAHD8/J0w5lkAcP8hgAoFxQBw/6gh3UE5AHD+h01aXLEAcP4Gf/EUMQBw/njNqTe0/HD/nSkGfzz8cP7PpvC2zPxw/b/qq65c/HD9rLmbMfT8cPwEg0MNkPxw/RrNLxkw/HD/CsrfINT8cP52lacAfPxw/39woowo/HD+BtSln9j4cPxANCQPjPhw/zebHbdA+HD9BP8eevj4cP10MxI2tPhw/PGjTMp0+HD/T5F6GjT4cP8sGIYF+Phw/6OUhHHA+HD9w8bNQYj4cPxLXcBhVPhw/0Yo2bUg+HD+mbiRJPD4cP3WYmKYwPhw/HjUtgCU+HD9sB7bQGj4cP7oBPpMQPhw/OPkEwwY+HD+wcX1b/T0cP9aASlj0PRw/Hcg9tes9HD8lhFVu4z0cP9ewun/bPRw/YEG/5dM9HD8ea9yczD0cP9ICsaHFPRw/P+v/8L49HD+DlK6HuD0cP3eLw2KyPRw/chhlf6w9HD++7Nfapj0cPyrefXKhPRw/IbDUQ5w9HD+66XRMlz0cPyy4EIqSPRw/Lt1y+o09HD+7qH2biT0cP8X9KWuFPRw/XWGGZ4E9HD/wE7aOfT0cPw408N55PRw/gep+VnY9HD8kn77zcj0cPz42HbVvPRw/9FUZmWw9HD+Ds0GeaT0cP+5nNMNmPRw/zUueBmQ9HD/5WTpnYT0cP70Y0eNePRw/XAk4e1w9HD+SHVEsWj0cP98yCvZXPRw/W5Nc11U9HD/We0zPUz0cPwen6NxRPRw/ot1J/089HD8Ti5I1Tj0cP61W7n5MPRw/MMGR2ko9HD9XxrlHST0cP2SCq8VHPRw/btuzU0Y9HD9DLifxRD0cP87+YJ1DPRw/x6vDV0I9HD+NJbgfQT0cPxiorfQ/PRw/zHcZ1j49HD8doXbDPT0cP+G6Rbw8PRw/NasMwDs9HD/XblbOOj0cP9zisuY5PRw/rJC2CDk9HD8mfPozOD0cP9jzG2g3PRw/OmO8pDY9HD/HJoHpNT0cP/RhEzY1PRw/5NYfijQ9HD/Jv1blMz0cP+Kpa0czPRw/AlIVsDI9HD+Wgg0fMj0cPxHzEJQxPRw/tCjfDjE9HD+mWDqPMD0cP0pL5xQwPRw/wUCtny89HD+c1lUvLz0cP5/urMMuPRw/kpaAXC49HD8X8aD5LT0cP3If4JotPRw/RiwSQC09HD8t9wzpLD0cPy4hqJUsPRw/A/q8RSw9HD8ibib5Kz0cP5D1wK8rPRw/YoNqaSs9HD/udQImKz0cP66HaeUqPRw/uMCBpyo9HD/baC5sKj0cP0n6UzMqPRw/1RTY/Ck9HD+1caHIKT0cP8fXl5YpPRw/VxCkZik9HD9Y3K84KT0cPxLqpQwpPRw/P8tx4ig9HD+N6/+5KD0cP5GHPZMoPRw/B6QYbig9HD+GBYBKKD0cP3koYygoPRw/eDmyByg9HD/0DV7oJz0cPygdWMonPRw/X3mSrSc9HD9+yf+RJz0cP89Ck3cnPRw/FKNAXic9HD/aKvxFJz0cP/+Xui4nPRw/fyBxGCc9HD9xbRUDJz0cPzmWne4mPRw/8RsA2yY9HD8C5TPIJj0cP+c4MLYmPRw/KbzspCY9HD92bGGUJj0cP/CchoQmPRw/mvJUdSY9HD/wYMVmJj0cP6Am0VgmPRw/a8pxSyY9HD8jGKE+Jj0cP8UdWTImPRw/wSiUJiY9HD9Mw0wbJj0cP9yxfRAmPRw/u/AhBiY9HD+wsTT8JT0cP8lZsfIlPRw/NH+T6SU9HD8159bgJT0cPy6Ed9glPRw/wXNx0CU9HD/+/MDIJT0cP6yOYsElPRw/or1SuiU9HD8vQ46zJT0cP5P7Ea0lPRw/keTapiU9HD8CHOagJT0cP4PeMJslPRw/LYa4lSU9HD9XiXqQJT0cP2t5dIslPRw/yAGkhiU9HD+m5gaCJT0cPxQEm30lPRw/9UxeeSU9HD8Pyk51JT0cPyCZanElPRw/AOyvbSU9HD/JBx1qJT0cPwpEsGYlPRw/AApoYyU9HD/g00JgJT0cPxosP10lPRw/saxbWiU9HD+R/pZXJT0cP/TY71QlPRw/yABlUiU9HD8cSPVPJT0cP5GNn00lPRw/3btiSyU9HD8/yT1JJT0cPwu3L0clPRw/NJE3RSU9HD/WbVRDJT0cP8xshUElPRw/SrfJPyU9HD94fyA+JT0cPxAAiTwlPRw/BXwCOyU9HD8sPow5JT0cP+aYJTglPRw/0eXNNiU9HD95hYQ1JT0cPxDfSDQlPRw/JmAaMyU9HD9kfPgxJT0cP02t4jAlPRw/AXLYLyU9HD/7TtkuJT0cP+DN5C0lPRw/P336LCU9HD9k8BksJT0cPyS/QislPRw/qIV0KiU9HD9E5K4pJT0cP0l/8SglPRw/2f47KCU9HD/ADo4nJT0cP0xe5yYlPRw/KqBHJiU9HD88iq4lJT0cP33VGyUlPRw/3z2PJCU9HD8ngggkJT0cP9NjhyMlPRw//qYLIyU9HD9AEpUiJT0cP5RuIyIlPRw/RIe2ISU9HD/IKU4hJT0cP7Yl6iAlPRw/qEyKICU9HD8mci4gJT0cP5Nr1h8lPRw/GRCCHyU9HD+VODEfJT0cP4a/4x4lPRw/+4CZHiU9HD+CWlIeJT0cPxkrDh4lPRw/HtPMHSU9HD9ANI4dJT0cP3MxUh0lPRw/364YHSU9HD/WkeEcJT0cP8fArBwlPRw/MCN6HCU9HD+WoUkcJT0cP3klGxwlPRw/SJnuGyU9HD9X6MMbJT0cP9r+mhslPRw/1MlzGyU9HD8VN04bJT0cPzA1KhslPRw/b7MHGyU9HD/QoeYaJT0cP/3wxholPRw/QZKoGiU9HD+Fd4saJT0cP0iTbxolPRw/m9hUGiU9HD8XOzsaJT0cP9muIholPRw/figLGiU9HD8dnfQZJT0cPz8C3xklPRw/3k3KGSU9HD9hdrYZJT0cP5FyoxklPRw/njmRGSU9HD8Tw38ZJT0cP9UGbxklPRw/If1eGSU9HD+Hnk8ZJT0cP+XjQBklPRw/ZcYyGSU9HD99PyUZJT0cP+NIGBklPRw/l9wLGSU9HD/T9P8YJT0cPxKM9BglPRw/CJ3pGCU9HD+lIt8YJT0cPwoY1RglPRw/j3jLGCU9HD++P8IYJT0cP09puRglPRw/KfGwGCU9HD9e06gYJT0cPykMoRglPRw/8JeZGCU9HD88c5IYJT0cP76aixglPRw/SAuFGCU9HD/PwX4YJT0cP2m7eBglPRw/SvVyGCU9HD/EbG0YJT0cP0YfaBglPRw/WgpjGCU9HD+mK14YJT0cP+WAWRglPRw/7wdVGCU9HD+wvlAYJT0cPyujTBglPRw/d7NIGCU9HD/D7UQYJT0cP01QQRglPRw/aNk9GCU9HD95hzoYJT0cP/VYNxglPRw/Y0w0GCU9HD9ZYDEYJT0cP3uTLhglPRw/fOQrGCU9HD8fUikYJT0cPzLbJhglPRw/kH4kGCU9HD8gOyIYJT0cP9YPIBglPRw/sPsdGCU9HD+3/RsYJT0cP/4UGhglPRw/pEAYGCU9HD/OfxYYJT0cP63RFBglPRw/eDUTGCU9HD9xqhEYJT0cP+EvEBglPRw/F8UOGCU9HD9raQ0YJT0cPz0cDBglPRw/8dwKGCU9HD/zqgkYJT0cP7aFCBglPRw/sWwHGCU9HD9iXwYYJT0cP01dBRglPRw/+WUEGCU9HD/zeAMYJT0cP86VAhglPRw/ILwBGCU9HD+F6wAYJT0cP5sjABglPRw/BmT/FyU9HD9trP4XJT0cP3r8/RclPRw/3VP9FyU9HD9GsvwXJT0cP2sX/BclPRw/BYP7FyU9HD/N9PoXJT0cP4Ns+hclPRw/5+n5FyU9HD+8bPkXJT0cP8n0+BclPRw/1YH4FyU9HD+sE/gXJT0cPxmq9xclPRw/7kT3FyU9HD/54/YXJT0cPw+H9hclPRw/BC72FyU9HD+v2PUXJT0cP+iG9RclPRw/ijj1FyU9HD9w7fQXJT0cP3el9BclPRw/fmD0FyU9HD9lHvQXJT0cPw3f8xclPRw/WaLzFyU9HD8saPMXJT0cP2ww8xclPRw///ryFyU9HD/Lx/IXJT0cP7qW8hclPRw/tWfyFyU9HD+lOvIXJT0cP3UP8hclPRw/E+bxFyU9HD9qvvEXJT0cP2iY8RclPRw//HPxFyU9HD8UUfEXJT0cP6Av8RclPRw/kg/xFyU9HD/Z8PAXJT0cP2nT8BclPRw/MrfwFyU9HD8onPAXJT0cPz+C8BclPRw/amnwFyU9HD+eUfAXJT0cP9A68BclPRw/9STwFyU9HD8EEPAXJT0cP/H77xclPRw/tejvFyU9HD9H1u8XJT0cP5zE7xclPRw/r7PvFyU9HD92o+8XJT0cP+mT7xclPRw/A4XvFyU9HD+8du8XJT0cPw1p7xclPRw/8FvvFyU9HD9fT+8XJT0cP1RD7xclPRw/yjfvFyU9HD+6LO8XJT0cPyEi7xclPRw/+RfvFyU9HD89Du8XJT0cP+kE7xclPRw/+PvuFyU9HD9n8+4XJT0cPzHr7hclPRw/U+PuFyU9HD/J2+4XJT0cP4/U7hclPRw/os3uFyU9HD//xu4XJT0cP6PA7hclPRw/i7ruFyU9HD+0tO4XJT0cPxuv7hclPRw/vqnuFyU9HD+apO4XJT0cP6yf7hclPRw/9JruFyU9HD9ulu4XJT0cPxiS7hclPRw/8I3uFyU9HD/1ie4XJT0cPySG7hclPRw/fILuFyU9HD/7fu4XJT0cP5977hclPRw/Z3juFyU9HD9Rde4XJT0cP11y7hclPRw/iG/uFyU9HD/RbO4XJT0cPzdq7hclPRw/uGfuFyU9HD9VZe4XJT0cPwtj7hclPRw/2WDuFyU9HD+/Xu4XJT0cP7tc7hclPRw/zFruFyU9HD/zWO4XJT0cPy1X7hclPRw/elXuFyU9HD/ZU+4XJT0cP0lS7hclPRw/ylDuFyU9HD9bT+4XJT0cP/tN7hclPRw/qkzuFyU9HD9nS+4XJT0cPzJK7hclPRw/CUnuFyU9HD/tR+4XJT0cP91G7hclPRw/10XuFyU9HD/dRO4XJT0cP+5D7hclPRw/CEPuFyU9HD8sQu4XJT0cP1lB7hclPRw/jkDuFyU9HD/NP+4XJT0cPxM/7hclPRw/YT7uFyU9HD+2Pe4XJT0cPxM97hclPRw/djzuFyU9HD/gO+4XJT0cP1A77hclPRw/xjruFyU9HD9COu4XJT0cP8Q57hclPRw/SjnuFyU9HD/WOO4XJT0cP2c47hclPRw//DfuFyU9HD+VN+4XJT0cPzM37hclPRw/1TbuFyU9HD97Nu4XJT0cPyU27hclPRw/0jXuFyU9HD+DNe4XJT0cPzc17hclPRw/7jTuFyU9HD+oNO4XJT0cP2Y07hclPRw/JTTuFyU9HD/oM+4XJT0cP60z7hclPRw/dTPuFyU9HD8/M+4XJT0cPwsz7hclPRw/2TLuFyU9HD+qMu4XJT0cP3wy7hclPRw/UTLuFyU9HD8nMu4XJT0cP/8x7hclPRw/2DHuFyU9HD+zMe4XJT0cP5Ax7hclPRw/bjHuFyU9HD9OMe4XJT0cPy8x7hclPRw/ETHuFyU9HD/0MO4XJT0cP9kw7hclPRw/vzDuFyU9HD+mMO4XJT0cP44w7hclPRw/djDuFyU9HD9gMO4XJT0cP0sw7hclPRw/NzDuFyU9HD8jMO4XJT0cPxEw7hclPRw//y/uFyU9HD/uL+4XJT0cP90v7hclPRw/zi/uFyU9HD+/L+4XJT0cP7Av7hclPRw/oi/uFyU9HD+VL+4XJT0cP4gv7hclPRw/fC/uFyU9HD9wL+4XJT0cP2Uv7hclPRw/Wy/uFyU9HD9QL+4XJT0cP0Yv7hclPRw/PS/uFyU9HD80L+4XJT0cPysv7hclPRw/Iy/uFyU9HD8bL+4XJT0cPxMv7hclPRw/DC/uFyU9HD8FL+4XJT0cP/4u7hclPRw/+C7uFyU9HD/yLu4XJT0cP+wu7hclPRw/5i7uFyU9HD/hLu4XJT0cP9wu7hclPRw/1y7uFyU9HD/SLu4XJT0cP80u7hclPRw/yS7uFyU9HD/FLu4XJT0cP8Eu7hclPRw/vS7uFyU9HD+5Lu4XJT0cP7Yu7hclPRw/si7uFyU9HD+vLu4XJT0cP6wu7hclPRw/qS7uFyU9HD+mLu4XJT0cP6Mu7hclPRw/oS7uFyU9HD+eLu4XJT0cP5wu7hclPRw/mS7uFyU9HD+XLu4XJT0cP5Uu7hclPRw/ky7uFyU9HD+RLu4XJT0cP48u7hclPRw/jS7uFyU9HD+MLu4XJT0cP4ou7hclPRw/iC7uFyU9HD+HLu4XJT0cP4Uu7hclPRw/hC7uFyU9HD+DLu4XJT0cP4Eu7hclPRw/gC7uFyU9HD9/Lu4XJT0cP34u7hclPRw/fS7uFyU9HD98Lu4XJT0cP3su7hclPRw/ei7uFyU9HD95Lu4XJT0cP3gu7hclPRw/dy7uFyU9HD92Lu4XJT0cP3Yu7hclPRw/dS7uFyU9HD90Lu4XJT0cP3Mu7hclPRw/cy7uFyU9HD9yLu4XJT0cP3Iu7hclPRw/cS7uFyU9HD9xLu4XJT0cP3Au7hclPRw/cC7uFyU9HD9vLu4XJT0cP28u7hclPRw/bi7uFyU9HD9uLu4XJT0cP20u7hclPRw/bS7uFyU9HD9tLu4XJT0cP2wu7hclPRw/bC7uFyU9HD9sLu4XJT0cP2su7hclPRw/ay7uFyU9HD9rLu4XJT0cP2ou7hclPRw/ai7uFyU9HD9qLu4XJT0cP2ou7hclPRw/aS7uFyU9HD9pLu4XJT0cP2ku7hclPRw/aS7uFyU9HD9pLu4XJT0cP2gu7hclPRw/aC7uFyU9HD9oLu4XJT0cP2gu7hclPRw/aC7uFyU9HD9nLu4XJT0cP2cu7hclPRw/Zy7uFyU9HD9nLu4XJT0cP2cu7hclPRw/Zy7uFyU9HD9nLu4XJT0cP2cu7hclPRw/Zi7uFyU9HD9mLu4XJT0cP2Yu7hclPRw/Zi7uFyU9HD9mLu4XJT0cP2Yu7hclPRw/Zi7uFyU9HD9mLu4XJT0cP2Yu7hclPRw/Zi7uFyU9HD9mLu4XJT0cP2Yu7hclPRw/ZS7uFyU9HD9lLu4XJT0cP2Uu7hclPRw/ZS7uFyU9HD9lLu4XJT0cP2Uu7hclPRw/ZS7uFyU9HD9lLu4XJT0cP2Uu7hclPRw/ZS7uFyU9HD9lLu4XJT0cP2Uu7hclPRw/ZS7uFyU9HD9lLu4XJT0cP2Uu7hclPRw/ZS7uFyU9HD9lLu4XJT0cP2Uu7hclPRw/ZS7uFyU9HD8=",
          "dtype": "f8"
         }
        },
        {
         "error_y": {
          "color": "#1F77B4",
          "thickness": 1.5,
          "type": "constant",
          "value": 0.001,
          "width": 3
         },
         "marker": {
          "color": "#1F77B4"
         },
         "mode": "markers",
         "name": "θ=50°",
         "type": "scatter",
         "x": {
          "bdata": "LUMc6+I2uj+Sy39Iv329P/yp8dJNYsA/L26jAbwFwj9hMlUwKqnDP5T2Bl+YTMU/x7q4jQbwxj/6fmq8dJPIPy1DHOviNso/kst/SL99zT/8qfHSTWLQPy9uowG8BdI/YTJVMCqp0z+U9gZfmEzVP8e6uI0G8NY/+n5qvHST2D8tQxzr4jbaP5LLf0i/fd0//Knx0k1i4D8vbqMBvAXiP2EyVTAqqeM/lPYGX5hM5T/HuriNBvDmP/p+arx0k+g/LUMc6+I26j+Sy39Iv33tP/yp8dJNYvA/L26jAbwF8j9hMlUwKqnzP5T2Bl+YTPU/x7q4jQbw9j/6fmq8dJP4Py1DHOviNvo/kst/SL99/T/8qfHSTWIAQC9uowG8BQJAYTJVMCqpA0CU9gZfmEwFQMe6uI0G8AZA+n5qvHSTCEAtQxzr4jYKQJLLf0i/fQ1A/Knx0k1iEEAvbqMBvAUSQGEyVTAqqRNAlPYGX5hMFUDHuriNBvAWQPp+arx0kxhALUMc6+I2GkCSy39Iv30dQPyp8dJNYiBAL26jAbwFIkBhMlUwKqkjQA==",
          "dtype": "f8"
         },
         "y": {
          "bdata": "fQyxVd1+nD9j78UX7fGaP/MUg9H2+Zk/EIXgAhq2lz+9vbVdsjuWPzeEz3sIT5U/A2Jt51ZjlD844blSKjyTP5qo70YwH5I/VnzoJ0EkkD9M8m0L4HeNP5apk32hkYk/TY2GQrqOhz+JdEcYaVaEPxqdHNNNQYI/8YAVVBLhgD/uZGgjdCN+P56rtUmojXg/LO6BTu9/cz8mXhIlKQJvP8s60s+KXmw/aWHDkQ+TYz+Q7aW+ZpheP9hOEEygTlo/2XfJKGQhWT+QW0AmIapTP0UE4d+nd08/r4Sak6r8QT/3MzvZbRpCPye9uwozsTw/f0HGNLdoHz9PEjYvk1AmP5oVuT8R5gq/llLAC5VeHz+ZT76mrAITP0XEwH9igB4/bpioqykzLz9ZJAebI/Mkv6rtY1u/xik/m81ANFWhEb8ku5AWgKkDP0Gz0kHquCI/7H37misaGT9P4R/unscuP7pf7qQYePu+zCz2OF363D7kEQfJNRclvyrrLDMblgU/7oZ7SBs38z7e3eR8LkPgPj1RrVRETPg+wnYBBY8VAj/Pg2giLcvnPg==",
          "dtype": "f8"
         }
        },
        {
         "line": {
          "color": "#FF7F0E"
         },
         "mode": "lines",
         "showlegend": false,
         "type": "scatter",
         "x": {
          "bdata": "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",
          "dtype": "f8"
         },
         "y": {
          "bdata": "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",
          "dtype": "f8"
         }
        },
        {
         "error_y": {
          "color": "#FF7F0E",
          "thickness": 1.5,
          "type": "constant",
          "value": 0.001,
          "width": 3
         },
         "marker": {
          "color": "#FF7F0E"
         },
         "mode": "markers",
         "name": "θ=60°",
         "type": "scatter",
         "x": {
          "bdata": "LUMc6+I2uj+Sy39Iv329P/yp8dJNYsA/L26jAbwFwj9hMlUwKqnDP5T2Bl+YTMU/x7q4jQbwxj/6fmq8dJPIPy1DHOviNso/kst/SL99zT/8qfHSTWLQPy9uowG8BdI/YTJVMCqp0z+U9gZfmEzVP8e6uI0G8NY/+n5qvHST2D8tQxzr4jbaP5LLf0i/fd0//Knx0k1i4D8vbqMBvAXiP2EyVTAqqeM/lPYGX5hM5T/HuriNBvDmP/p+arx0k+g/LUMc6+I26j+Sy39Iv33tP/yp8dJNYvA/L26jAbwF8j9hMlUwKqnzP5T2Bl+YTPU/x7q4jQbw9j/6fmq8dJP4Py1DHOviNvo/kst/SL99/T/8qfHSTWIAQC9uowG8BQJAYTJVMCqpA0CU9gZfmEwFQMe6uI0G8AZA+n5qvHSTCEAtQxzr4jYKQJLLf0i/fQ1A/Knx0k1iEEAvbqMBvAUSQGEyVTAqqRNAlPYGX5hMFUDHuriNBvAWQPp+arx0kxhALUMc6+I2GkCSy39Iv30dQPyp8dJNYiBAL26jAbwFIkBhMlUwKqkjQA==",
          "dtype": "f8"
         },
         "y": {
          "bdata": "uKkmLQGdnj9BMKJIUi2dP70LSoc9o5s/EgR+Q5cmmz+ML9rjhXSYP1PF+UCXFZc/3PRnP1JElj+Fjmfh/JeVP88iJYeZx5M/vi5oxkcwkj9YiolyDkOQP4cJtIUxM40/m6ECcWjbij9muRG7W/6IP/pIpTOLq4U/KIBiZMkcgz+Wkd15oB2BPyUvnZzCxnw/GEmzYH9ldz9B+0eVF09zP36kDEVPBHA/MAPffgqRbT8wmRF79MhnPwyRVxCYwWc/qOLnO88KYj+aHW8Tal1VPx+p3EnmhkY/uE72qw0JUD+O7uMSjvNDPxEgutWwNTQ/DuMaER/nLD8tXuU2BSVBP8L/1zJ5ADQ/KCDVBwXyC79WjoQOni8UP/rheCKuuiM/F+tY+/QFKD9BEv4VTmMWP7yITsmUsxk/iHKBBn2bxT77K3rcPd0FvyRAWlddayU//lHews9DCr9JUcrPvXPuvuq78L2eMzK/Ui1Yob4p8L7y2RLey6kHv4ezRQv1WBi/6tzY3x7zHb8rW8PDtnApP+YCvGkY1fk+YJjSTluQHr+G6UgcHGYkvw==",
          "dtype": "f8"
         }
        },
        {
         "line": {
          "color": "#2CA02C"
         },
         "mode": "lines",
         "showlegend": false,
         "type": "scatter",
         "x": {
          "bdata": "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",
          "dtype": "f8"
         },
         "y": {
          "bdata": "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",
          "dtype": "f8"
         }
        },
        {
         "error_y": {
          "color": "#2CA02C",
          "thickness": 1.5,
          "type": "constant",
          "value": 0.001,
          "width": 3
         },
         "marker": {
          "color": "#2CA02C"
         },
         "mode": "markers",
         "name": "θ=70°",
         "type": "scatter",
         "x": {
          "bdata": "LUMc6+I2uj+Sy39Iv329P/yp8dJNYsA/L26jAbwFwj9hMlUwKqnDP5T2Bl+YTMU/x7q4jQbwxj/6fmq8dJPIPy1DHOviNso/kst/SL99zT/8qfHSTWLQPy9uowG8BdI/YTJVMCqp0z+U9gZfmEzVP8e6uI0G8NY/+n5qvHST2D8tQxzr4jbaP5LLf0i/fd0//Knx0k1i4D8vbqMBvAXiP2EyVTAqqeM/lPYGX5hM5T/HuriNBvDmP/p+arx0k+g/LUMc6+I26j+Sy39Iv33tP/yp8dJNYvA/L26jAbwF8j9hMlUwKqnzP5T2Bl+YTPU/x7q4jQbw9j/6fmq8dJP4Py1DHOviNvo/kst/SL99/T/8qfHSTWIAQC9uowG8BQJAYTJVMCqpA0CU9gZfmEwFQMe6uI0G8AZA+n5qvHSTCEAtQxzr4jYKQJLLf0i/fQ1A/Knx0k1iEEAvbqMBvAUSQGEyVTAqqRNAlPYGX5hMFUDHuriNBvAWQPp+arx0kxhALUMc6+I2GkCSy39Iv30dQPyp8dJNYiBAL26jAbwFIkBhMlUwKqkjQA==",
          "dtype": "f8"
         },
         "y": {
          "bdata": "hlW8kXnknz9wVLgvsUOeP5U3dj9dk5w/VgPeEzXimz+3KR4X1SKaP5Cq3Pqfspg/+w+fKpWmlz+GIc2z7Q+XP+kb4mlDD5Y/9kGWBRN/lD/fMTz2s1iSP1QImoUswZA/nAO65dmbjj+czgR5LGyMP8ysSsdBrok/x7q4jQbwhj+vaZTkbzGFP0Fe1Xo7mYI/NOHRpQOCfj/7XbeMxJl5P0vgnDKzpnQ/TfUi4v/xcj8f3FuZCeltPw44ATxYtWo/brENotawZj8gP8D/+/hgPwwdXLatmFc/bvKquoaaSj/r7s9/7k9CP1UdzexO0kc/UruwTPfuOj+bpk6OotE0P+kBDeUtHzU/xBDEb8YNKD9cC1oYh9I1P5zxGWvobwW/8Ox+V/yNI79wq7va09PsvuWWnRhuzSE/06dIyoXmJD9sfqPt/eUhP335E8eQyxc/df1IMic/JL8MyE/E0T4eP0R4+I7BWio/Aq+/umT7JD/zq1EBy+D8vpux6bpQ9h8/jW6cT/8LCz/fRkBJ5VQQP9+R7vT1xhE/WrPQsMqcDb/NAJcI210Fvw==",
          "dtype": "f8"
         }
        },
        {
         "line": {
          "color": "#D62728"
         },
         "mode": "lines",
         "showlegend": false,
         "type": "scatter",
         "x": {
          "bdata": "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",
          "dtype": "f8"
         },
         "y": {
          "bdata": "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",
          "dtype": "f8"
         }
        },
        {
         "error_y": {
          "color": "#D62728",
          "thickness": 1.5,
          "type": "constant",
          "value": 0.001,
          "width": 3
         },
         "marker": {
          "color": "#D62728"
         },
         "mode": "markers",
         "name": "θ=80°",
         "type": "scatter",
         "x": {
          "bdata": "LUMc6+I2uj+Sy39Iv329P/yp8dJNYsA/L26jAbwFwj9hMlUwKqnDP5T2Bl+YTMU/x7q4jQbwxj/6fmq8dJPIPy1DHOviNso/kst/SL99zT/8qfHSTWLQPy9uowG8BdI/YTJVMCqp0z+U9gZfmEzVP8e6uI0G8NY/+n5qvHST2D8tQxzr4jbaP5LLf0i/fd0//Knx0k1i4D8vbqMBvAXiP2EyVTAqqeM/lPYGX5hM5T/HuriNBvDmP/p+arx0k+g/LUMc6+I26j+Sy39Iv33tP/yp8dJNYvA/L26jAbwF8j9hMlUwKqnzP5T2Bl+YTPU/x7q4jQbw9j/6fmq8dJP4Py1DHOviNvo/kst/SL99/T/8qfHSTWIAQC9uowG8BQJAYTJVMCqpA0CU9gZfmEwFQMe6uI0G8AZA+n5qvHSTCEAtQxzr4jYKQJLLf0i/fQ1A/Knx0k1iEEAvbqMBvAUSQGEyVTAqqRNAlPYGX5hMFUDHuriNBvAWQPp+arx0kxhALUMc6+I2GkCSy39Iv30dQPyp8dJNYiBAL26jAbwFIkBhMlUwKqkjQA==",
          "dtype": "f8"
         },
         "y": {
          "bdata": "feXmwBfLoT9DnahbLPugP3/JfPYSGaA/4FPvXw/cnz+srdhfdk+eP2WgfIuYI50/fEYiNIKNmz+uHkE78eaaP+CXRAdu7pk/dydEZWjhlz/kV2JUCJqVPxxZnqy99JM/GdwgpLj0kT9EigESTaCQPyl1bn/TYI8/asmZ3N4kjD8YuJeP/12KP4hFsYEZ+IY/VC8JYX8jgz94K4UfIIiBP/NLDukBPX4/VfDjgStNeD+daR2wBoN2P+0t5Xyx93I/ei+ly+4LcD8wUyhFCulpPyVGhaBZyGI/CtsuuA8OYD9xM4HHXL5aPw0P7aUhkVM/rElDz15kTz+JyCpRaOxKPyRFZFjFGzk/pG86GJ1rKT8fqgq8fLMpP1qix7AJtxw/GqPXWcthAr9R0XzBs6wXP1xy2bqt0xW/5ClO5r3ADD98ofy0vDgiv1zmpJJiyRo/VVelQCSU/r4bhCVV1W8RPz4ZWfaI//m+TeZWS+yoEr/LvlYCXKIgP5VFozMXVSI/ep4m0LObMT8LCFgkpvClvjbE/k+aVg4/RFEN7BKE9D6CTHhrnDIHvw==",
          "dtype": "f8"
         }
        },
        {
         "line": {
          "color": "#9467BD"
         },
         "mode": "lines",
         "showlegend": false,
         "type": "scatter",
         "x": {
          "bdata": "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",
          "dtype": "f8"
         },
         "y": {
          "bdata": "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",
          "dtype": "f8"
         }
        },
        {
         "error_y": {
          "color": "#9467BD",
          "thickness": 1.5,
          "type": "constant",
          "value": 0.001,
          "width": 3
         },
         "marker": {
          "color": "#9467BD"
         },
         "mode": "markers",
         "name": "θ=90°",
         "type": "scatter",
         "x": {
          "bdata": "LUMc6+I2uj+Sy39Iv329P/yp8dJNYsA/L26jAbwFwj9hMlUwKqnDP5T2Bl+YTMU/x7q4jQbwxj/6fmq8dJPIPy1DHOviNso/kst/SL99zT/8qfHSTWLQPy9uowG8BdI/YTJVMCqp0z+U9gZfmEzVP8e6uI0G8NY/+n5qvHST2D8tQxzr4jbaP5LLf0i/fd0//Knx0k1i4D8vbqMBvAXiP2EyVTAqqeM/lPYGX5hM5T/HuriNBvDmP/p+arx0k+g/LUMc6+I26j+Sy39Iv33tP/yp8dJNYvA/L26jAbwF8j9hMlUwKqnzP5T2Bl+YTPU/x7q4jQbw9j/6fmq8dJP4Py1DHOviNvo/kst/SL99/T/8qfHSTWIAQC9uowG8BQJAYTJVMCqpA0CU9gZfmEwFQMe6uI0G8AZA+n5qvHSTCEAtQxzr4jYKQJLLf0i/fQ1A/Knx0k1iEEAvbqMBvAUSQGEyVTAqqRNAlPYGX5hMFUDHuriNBvAWQPp+arx0kxhALUMc6+I2GkCSy39Iv30dQPyp8dJNYiBAL26jAbwFIkBhMlUwKqkjQA==",
          "dtype": "f8"
         },
         "y": {
          "bdata": "C0W6n1OQoz80eKkiJvKiP3Ak0GBT56E/IyHbQwyFoT8xow7hTtigP5QaNbrekaA/EORFyyZlnz8Lz0vFxryePwGeWbfmM50/fiiHBa12mz8uLMlLSLWZP8Ey27pA7pc/sPye/e1Xlj8rpWd6ibGUP6oKDcSymZM/t+BWi5mOkj/B6iNLQRKRPx8JRQQtbo0/hq+vdakRij8jLZW3I5yGPxGYPb/es4Q/fnRmksPtgT8DIR8Vez+AP9FjStpDsXs/hL2JITmZeD8kq413aNRzP1dgp9xtrG4/JvREIRM6aT+PUX1rUMljP/U/CujPyGE/zLhnZRQuWD9kNLjOOyVSP9nK9f1ulk8/DP/VIiMZQj/emEA/wwMpPxqtwQBkFiE/9LiQDFdVGL/c34rY6BsvP6+fHbos89i+JbTTec7CIL+j3A7xNSLtPgFA4bLiiRQ/OIIDQx4NHL98gdCv6gInP6x/r58AtSE/x8RLD8FzGr/MF5yGxmH5vnV0fZvVbQY/woCfHeKyCb/qwulPJNn4PhzuVBVigga/nMZWzfw1HL8kuWkkIxb6vg==",
          "dtype": "f8"
         }
        },
        {
         "line": {
          "color": "#8C564B"
         },
         "mode": "lines",
         "showlegend": false,
         "type": "scatter",
         "x": {
          "bdata": "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",
          "dtype": "f8"
         },
         "y": {
          "bdata": "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",
          "dtype": "f8"
         }
        },
        {
         "error_y": {
          "color": "#8C564B",
          "thickness": 1.5,
          "type": "constant",
          "value": 0.001,
          "width": 3
         },
         "marker": {
          "color": "#8C564B"
         },
         "mode": "markers",
         "name": "θ=100°",
         "type": "scatter",
         "x": {
          "bdata": "LUMc6+I2uj+Sy39Iv329P/yp8dJNYsA/L26jAbwFwj9hMlUwKqnDP5T2Bl+YTMU/x7q4jQbwxj/6fmq8dJPIPy1DHOviNso/kst/SL99zT/8qfHSTWLQPy9uowG8BdI/YTJVMCqp0z+U9gZfmEzVP8e6uI0G8NY/+n5qvHST2D8tQxzr4jbaP5LLf0i/fd0//Knx0k1i4D8vbqMBvAXiP2EyVTAqqeM/lPYGX5hM5T/HuriNBvDmP/p+arx0k+g/LUMc6+I26j+Sy39Iv33tP/yp8dJNYvA/L26jAbwF8j9hMlUwKqnzP5T2Bl+YTPU/x7q4jQbw9j/6fmq8dJP4Py1DHOviNvo/kst/SL99/T/8qfHSTWIAQC9uowG8BQJAYTJVMCqpA0CU9gZfmEwFQMe6uI0G8AZA+n5qvHSTCEAtQxzr4jYKQJLLf0i/fQ1A/Knx0k1iEEAvbqMBvAUSQGEyVTAqqRNAlPYGX5hMFUDHuriNBvAWQPp+arx0kxhALUMc6+I2GkCSy39Iv30dQPyp8dJNYiBAL26jAbwFIkBhMlUwKqkjQA==",
          "dtype": "f8"
         },
         "y": {
          "bdata": "PGh23VuRpD95d2SsNv+jP63+Y3zzdqM/w+BQrt8Coz8W1jK+1HSiPz/A//v48KE//9GSIo1loT+umSH6WjyhP1Opfko6b6A/4d2AhYIInz+uW05TFWSdP90WG6mtx5s/UBK3r6gtmj+Z8Ev9vKmYP5MkvsklRJc/X439diM9lj+/pVKi2wGVP+rWxjPDoZI/sEBPXr+7kD8iLTr+sEqOP0awFkRJ7Yo/EERxIlVviD/dH5ScuMGFPz6mQRNZUoM/mABXDR2WgT+slmwjO8J7P8HvlS8elHY/5XslFEtfcj8+g36NwRZtP53O2/n6MWg/bfijyUHgYz+Mq+NbzI1hP45ZOEGCf10/BRkBFY4gVT+lstWjeK5SPxsMAwP580w/T6co1ipzQz8C5UyZ725CPxehErYjxTU/QAgzM1RBHD/8qaVECEspP+iagqtuBBE/ZVP/Ny6XKD96iaWQAeMUPxQrAbqxVRA/AK2Wx9ytA78FgRl8L/gjv0RU9/0hmgW/nlEh/J6oAr9R7pZaatoQvxwYioVr/yS/9a08bBUJJb80eiFcggUwvw==",
          "dtype": "f8"
         }
        },
        {
         "line": {
          "color": "#E377C2"
         },
         "mode": "lines",
         "showlegend": false,
         "type": "scatter",
         "x": {
          "bdata": "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",
          "dtype": "f8"
         },
         "y": {
          "bdata": "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",
          "dtype": "f8"
         }
        },
        {
         "error_y": {
          "color": "#E377C2",
          "thickness": 1.5,
          "type": "constant",
          "value": 0.001,
          "width": 3
         },
         "marker": {
          "color": "#E377C2"
         },
         "mode": "markers",
         "name": "θ=110°",
         "type": "scatter",
         "x": {
          "bdata": "LUMc6+I2uj+Sy39Iv329P/yp8dJNYsA/L26jAbwFwj9hMlUwKqnDP5T2Bl+YTMU/x7q4jQbwxj/6fmq8dJPIPy1DHOviNso/kst/SL99zT/8qfHSTWLQPy9uowG8BdI/YTJVMCqp0z+U9gZfmEzVP8e6uI0G8NY/+n5qvHST2D8tQxzr4jbaP5LLf0i/fd0//Knx0k1i4D8vbqMBvAXiP2EyVTAqqeM/lPYGX5hM5T/HuriNBvDmP/p+arx0k+g/LUMc6+I26j+Sy39Iv33tP/yp8dJNYvA/L26jAbwF8j9hMlUwKqnzP5T2Bl+YTPU/x7q4jQbw9j/6fmq8dJP4Py1DHOviNvo/kst/SL99/T/8qfHSTWIAQC9uowG8BQJAYTJVMCqpA0CU9gZfmEwFQMe6uI0G8AZA+n5qvHSTCEAtQxzr4jYKQJLLf0i/fQ1A/Knx0k1iEEAvbqMBvAUSQGEyVTAqqRNAlPYGX5hMFUDHuriNBvAWQPp+arx0kxhALUMc6+I2GkCSy39Iv30dQPyp8dJNYiBAL26jAbwFIkBhMlUwKqkjQA==",
          "dtype": "f8"
         },
         "y": {
          "bdata": "nxOMlHcfpT8dOGdEaW+kP5IPMKmQ4aM/wbItXofFoz8WoBJ8eDujP8myu5sC9KI/Thq0oawpoj89pw8Tw8ShP8aYBSSrbKE/uq5OhMPBoD9I/fUKC+6fP0UTKGIRw54/maSNfo9VnT9baJ2n8FacP9ebvdggOJs/bfntkAfHmT+GFE2xtJ2YP9ciWAuipJY/MMhMWNHVlD8xhFJq5RSTP7lxi/m5oZE/wznZvGAmkD8uMHWhA9yNP3Qkl/+Qfos/9SG5RhUPiT98DcFxGTeFP0KfnxRzMYI/inr7UsOnfj8jyWJRxxl5P449WiBqcHU/plfzsfXrcj9DTmdAIERwPz93m5p4xWs/Hl/vvFzdZD/RG7R4LfhfPws0r1VIGlg/D0WiTHpKVD/vkc1V8xxRP6O+nEGSRUk/7Qoi9xm8RD9uuqLqEGVDP/MQ/ULeXkE/oi6ymjcZOD8FCuUSgckhPy467zz+fRC/BFPgtIax8b55Fa3upWjdPnBneBYxqiQ/AU+FOAm3Ij8DL8aGRuUKP8wJcgF8eCU/a6G0lESf/L7JtdZUbIUmvw==",
          "dtype": "f8"
         }
        },
        {
         "line": {
          "color": "#7F7F7F"
         },
         "mode": "lines",
         "showlegend": false,
         "type": "scatter",
         "x": {
          "bdata": "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",
          "dtype": "f8"
         },
         "y": {
          "bdata": "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",
          "dtype": "f8"
         }
        },
        {
         "error_y": {
          "color": "#7F7F7F",
          "thickness": 1.5,
          "type": "constant",
          "value": 0.001,
          "width": 3
         },
         "marker": {
          "color": "#7F7F7F"
         },
         "mode": "markers",
         "name": "θ=120°",
         "type": "scatter",
         "x": {
          "bdata": "LUMc6+I2uj+Sy39Iv329P/yp8dJNYsA/L26jAbwFwj9hMlUwKqnDP5T2Bl+YTMU/x7q4jQbwxj/6fmq8dJPIPy1DHOviNso/kst/SL99zT/8qfHSTWLQPy9uowG8BdI/YTJVMCqp0z+U9gZfmEzVP8e6uI0G8NY/+n5qvHST2D8tQxzr4jbaP5LLf0i/fd0//Knx0k1i4D8vbqMBvAXiP2EyVTAqqeM/lPYGX5hM5T/HuriNBvDmP/p+arx0k+g/LUMc6+I26j+Sy39Iv33tP/yp8dJNYvA/L26jAbwF8j9hMlUwKqnzP5T2Bl+YTPU/x7q4jQbw9j/6fmq8dJP4Py1DHOviNvo/kst/SL99/T/8qfHSTWIAQC9uowG8BQJAYTJVMCqpA0CU9gZfmEwFQMe6uI0G8AZA+n5qvHSTCEAtQxzr4jYKQJLLf0i/fQ1A/Knx0k1iEEAvbqMBvAUSQGEyVTAqqRNAlPYGX5hMFUDHuriNBvAWQPp+arx0kxhALUMc6+I2GkCSy39Iv30dQPyp8dJNYiBAL26jAbwFIkBhMlUwKqkjQA==",
          "dtype": "f8"
         },
         "y": {
          "bdata": "aLki57PypT+pIibybnalP1FwDFx5JKU//R6rShHPpD90sKMW72ykP1Ny8zIvLKQ/oOnbOBigoz//J9qwAWyjP6EUCJZ+HaM/yh9n9Wlwoj8FACJYsOihPwzyaQTRSaE/AiGjTR/LoD8oSp3b3zSgPx0EHa1qSZ8/8N5RY0LMnT/0UUZcABqdP8aweQvamps/rl9VYkPcmT+OSwtNyL2XP7XHZqJjYpY/j9MhgVAolT+cUfNV8rGTP8FvQ4zXvJI/2VfD6jR3kT9AHH/9a9SOP3/XDBWIQ4s/FCUhkbbxhz9gNHVoohmFP/jtmHgP6YI/UnWX3faxgD9ISRe086p8P7Jy3OcA2nk/Psh4tVhhdT9Twjz5LoRwP/E1mStiXGo/9hKdRAi4ZT+LKaJwh5dhP4wIrSQFWFw/fvR2GTh/Vz/Am4d2wglUP1K3+oTI9kU/uJRq1ICXQj/UxvzPppI9P7WhIzh8cjc/h7+JlY+sNT8jXDh4dXotPwEQ2h/mmhs/+WK/jAGQJT+5TInAKjkUP2W+RDv16CA/asxsm5e/AT9YX06hW7UQPw==",
          "dtype": "f8"
         }
        },
        {
         "line": {
          "color": "#BCBD22"
         },
         "mode": "lines",
         "showlegend": false,
         "type": "scatter",
         "x": {
          "bdata": "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",
          "dtype": "f8"
         },
         "y": {
          "bdata": "oVFHkm9SqD9My1p6GB+oP356qh8v7Kc/cVqll7K5pz+UyK/5oYenP9NUH1/8Vac/2Jo248Akpz8oJCGj7vOmPxBT772Ew6Y/SVaSVIKTpj9FJdiJ5mOmPw6FZ4KwNKY/rBW8ZN8Fpj/1ZyJZctelP8QbtIloqaU/cAZUIsF7pT+MYapQe06lP8ABIUSWIaU/yZXfLRH1pD907cdA68ikP5RIcrEjnaQ/2K0ptrlxpD93SeiGrEakP5/TU137G6Q/lP65dKXxoz9u7AwKqsejP3Cs31sInqM/1r9iqr90oz8dpmA3z0ujP6NwOkY2I6M/pF3kG/T6oj9oeuL+B9OiP7hMRTdxq6I/X4OmDi+Eoj/QrSXQQF2iP8v6ZMilNqI/8f2FRV0Qoj9KfCaXZuqhP5Q/XQ7BxKE/cPC2/WufoT8v9zK5ZnqhP2JjQJawVaE//Nm660gxoT8KiucRLw2hP+MncmJi6aA/2u5pOOLFoD9IqT7wraKgP/i+vefEf6A/3UkPfiZdoD/6MLMT0jqgP49JfgrHGKA/ovwuiwnunz+Y+elSFaufP4PRsjewaJ8/DCuiB9kmnz+Yil6TjuWeP7XcFq7PpJ4/Cwx9LZtknj8Ro8Dp7ySePxR5ib3M5Z0/rWryhTCnnT+NHYQiGmmdP2DPL3WIK50/3C9KYnrunD/PRYbQ7rGcPw1f8KjkdZw/PQvp1lo6nD9RISBIUP+bP7nPj+zDxJs/B7d3trSKmz8pD1iaIVGbP+bW7I4JGJs/vA0pjWvfmj/n9zGQRqeaP4hsWpWZb5o/1C0enGM4mj9ASx2mowGaP3uNF7dYy5k/QOzn1IGVmT/UDYAHHmCZPyDQ41gsK5k/Ztsk1av2mD9dPl6Km8KYP6wTsIj6jpg/yDA74sdbmD/83RyrAimYP5WXavmp9pc/L9gt5bzElz/z61+IOpOXP8/M5f4hYpc/fQeMZnIxlz9TqQLfKgGXP8s22YlK0ZY/pKp6itChlj+gfSkGvHKWP6O2+yMMRJY/YgPXDMAVlj9K2Wzr1ueVP7yeNuxPupU/e9xxPSqNlT89dxwPZWCVP1Lx8JL/M5U/P7Ri/PgHlT9aYpqAUNyUPzQwclYFsZQ/30VythaGlD/fJ83ag1uUP+EnXP9LMZQ/8tybYW4HlD9Uo6hA6t2TP84jO92+tJM/WuKkeeuLkz8+1MxZb2OTP2j9K8NJO5M/EBXK/HkTkz91MTpP/+uSP8h6lwTZxJI/KOWBaAaekj+H8RrIhneSP5l1AnJZUZI/lGpTtn0rkj/LwqDm8gWSPwhG8lW44JE/oHTBWM27kT8ucfZEMZeRP+Pw5HHjcpE/YzJJOONOkT8k+0TyLyuRPzibXPvIB5E/cvdzsK3kkD/xmctv3cGQP97I/ZhXn5A/a6P7jBt9kD8BRQquKFuQP4Xuv19+OZA/tzUBBxwYkD8ddfwTAu6PPxvFX6BZrI8/FTSqhD1rjz+DNuCUrCqPP6N2h6el6o4/1nmhlSerjj+IUaY6MWyOP1lXf3TBLY4/ovSBI9fvjT8GdWoqcbKNPzTkVm6OdY0/gfbB1i05jT99/H1NTv2MP1Dhr77uwYw/tTPKGA6HjD+lOYhMq0yMP5AO6UzFEow/8csqD1vZiz87vMWKa6CLPySYZ7n1Z4s/+c3ulvgviz8p02Uhc/iKP7h//lhkwYo/unMNQMuKij+ChgXbplSKP7k/czD2Hoo/Alr4SLjpiT9PT0cv7LSJP6fuHvCQgIk/bftFmqVMiT/31YY+KRmJP28tq+8a5og/4Lp3wnmziD+CBajNRIGIP+Uv6il7T4g/Os7a8RseiD9vxQBCJu2HPykzyTiZvIc/b16D9nOMhz8XsVydtVyHP765XFFdLYc/TzZhOGr+hj/7Jhp628+GP5/pBUCwoYY/d11ttedzhj8JD2AHgUaGP05ssGR7GYY/8wDw/dXshT+dumsFkMCFPzM1KK+olIU/DA/eMB9phT/+RPbB8j2FPyaWhpsiE4U/dO9N+K3ohD/f3rAUlL6EPx8Oti7UlIQ/AsUChm1rhD8vc9dbX0KEP0tBDPOoGYQ/dqkNkEnxgz8ZF9l4QMmDP9qN+fSMoYM/xleETS56gz+RuhXNI1ODP9uzzb9sLIM/abxMcwgGgz9lkrA29t+CP1IKkVo1uoI/8+b8MMWUgj/dt3YNpW+CP7m+8UTUSoI/PNvOLVImgj+WfdkfHgKCP4WfRHQ33oE/z8OnhZ26gT8j/PuvT5eBP2z1mFBNdIE/YAoyxpVRgT9RXNNwKC+BPz/y3rEEDYE/D94J7CnrgD/NZ1mDl8mAPw4/IN1MqIA/SLL7X0mHgD8b7NBzjGaAP442yoEVRoA/D0RU9OMlgD9dfhs39wWAPzq2Em6dzH8/TWyDxNONfz8LY0BQkE9/Px42a/LREX8//a6KjpfUfj9dpoUK4Jd+P2HwnU6qW34/y1NrRfUffj/Ui9bbv+R9P9RUFAEJqn0/QIOgps9vfT9xJTnAEjZ9P6av2UPR/Hw/WzK2KQrEfD/wmjZsvIt8P1L+8QfnU3w/6u2p+4gcfD9R1kVIoeV7P/xnzvAur3s/1wlp+jB5ez9pVVNspkN7P7qc3k+ODns/zHlrsOfZej+JZ2WbsaV6PyJkPiDrcXo/spxqUJM+ej88Ilw/qQt6P8CnfgIs2Xk/d0kzsRqneT8KXcxkdHV5P8RKiTg4RHk/rm+SSWUTeT9RCPW2+uJ4P2okn6H3sng/F6NbLFuDeD+hN857JFR4P/B2b7ZSJXg/Mu2IBOX2dz8MPDGQ2sh3PwpBSIUym3c/RkRzEextdz9BLxlkBkF3P8nLXq6AFHc/6gojI1rodj/eU/v2kbx2P8zaL2AnkXY/bv+3lhlmdj9tszbUZzt2P4Do9lMREXY/BAboUhXndT9mZpoPc711P9HbO8oplHU/YTyUxDhrdT/Y9QFCn0J1P2uododcGnU/+shz22/ydD9uSgeG2Mp0PzZOyNCVo3Q/3NvTBqd8dD+fn8l0C1Z0P/6vyGjCL3Q/L1psMssJdD9p9cgiJeRzP/q8aIzPvnM/E7FIw8mZcz9TftUcE3VzP8Nr6O+qUHM/pU/ElJAscz+DihJlwwhzP9cI4LtC5XI/HUua9Q3Ccj8adAxwJJ9yP51dXIqFfHI/VLMHpTBacj/qE+EhJThyP0E4DWRiFnI/viAA0Of0cT+kSHrLtNNxP2Lfhb3IsnE/5Qd0DiOScT+mHdonw3FxP7X/jnSoUXE/g2GoYNIxcT9LIXhZQBJxP2Gkic3x8nA/9jifLObTcD+Dfa/nHLVwP9zN4nCVlnA/kbWQO094cD/0Zz28SVpwP2U9l2iEPHA/EjZ0t/4ecD/+gc8guAFwP6UcjjtgyW8/1y8yUcyPbz8jhkN5s1ZvP9FwsawUHm8/q42d5u7lbj88FVckQa5uP+oyVmUKd24/6WY3q0lAbj9m8rb5/QluPwhNrFYm1G0/hqQFysGebT+1ZcNdz2ltPwHP8x1ONW0/sIyuGD0BbT8pXhBem81sP9DENgBommw/+rs7E6JnbD8OejGtSDVsP8A6HuZaA2w/QBL419fRaz9vyaCevqBrP7nC4VcOcGs/+OdnI8Y/az/doL8i5Q9rPwHSUHlq4Go/oeRaTFWxaj+b1vDCpIJqPyhT9QVYVGo/otMWQG4maj+uyMud5vhpP7rLTk3Ay2k/YNiafvqeaT8QjmdjlHJpP5p5JS+NRmk/vWb6FuQaaT+Hub1RmO9oP4LP9BepxGg/tGjPoxWaaD8eGCQx3W9oPxK8bP3+RWg/4P3CR3ocaD8g2dxQTvNnP2AqCVt6ymc/F0Usqv2hZz8VkbyD13lnP/wuvy4HUmc//KPE84sqZz/BjOUcZQNnP0ZXv/WR3GY/yANxyxG2Zj+c7Jfs449mP+mUTKkHamY/MX4fU3xEZj+sBBY9QR9mP0RCp7tV+mU/Svi4JLnVZT+8f5zParFlPxzACxVqjWU/tCwmT7ZpZT9syG3ZTkZlP88vxBAzI2U/m6lnU2IAZT9pPfAA3N1kP6jQTHqfu2Q/xEnAIayZZD9eud5aAXhkP5eJioqeVmQ/c7PxFoM1ZD8W+opnrhRkPwcsE+Uf9GM/PmqK+dbTYz8RdTEQ07NjP9b+hpUTlGM/VgRF95d0Yz/TKl6kX1VjP70j+wxqNmM/BhZ4orYXYz/SDGLXRPliP+hrdB8U22I/WGmW7yO9Yj+djNi9c59iPykzcgEDgmI/IRq/MtFkYj9x7TzL3UdiPw/ciEUoK2I/bzFdHbAOYj8X9I7PdPJhP0iJC9p11mE/tl3Wu7K6YT8+kwb1Kp9hP5SzxAbeg2E/2GdIc8toYT8WNda98k1hP5o9vWpTM2E/AQdV/+wYYT8iRfsBv/5gP6ipEfrI5GA/Trj7bwrLYD/MnxztgrFgP1sX1fsxmGA/zkCBJxd/YD8gj3b8MWZgP5GxAQiCTWA/NINk2AY1YD/Q/tP8vxxgP043dgWtBGA/mKjABpvZXz86JikRQqpfPxyYAFBOe18/hvfz6r5MXz8Eon4Lkx5fP9R85tzJ8F4/5iA4jGLDXj/uDkNIXJZeP47rlUG2aV4/lsN6qm89Xj88WPO2hxFeP1BztZz95V0/GkMnk9C6XT8wvlvT/49dP/gOD5iKZV0/rgajHXA7XT9AmBuirxFdP3ZaG2VI6Fw/rBHgpzm/XD8AQT+tgpZcP6DCorkiblw/rGcFExlGXD8On+8AZR5cP5wjdMwF91s/TLEswPrPWz9qwTYoQ6lbP8pNMFLegls/9po0jctcWz8mCdkpCjdbPwrsKXqZEVs/Wmmn0XjsWj8GXkKFp8daPypKWesko1o/dEO1W/B+Wj8m7oYvCVtaP358Y8FuN1o/rLRBbSAUWj/m/HaQHfFZPyJutIllzlk/tewDuferWT98R8V/04lZP+hcq0D4Z1k/UEa5X2VGWT8yiT9CGiVZP5ZO2U4WBFk/SqBp7VjjWD/+qxiH4cJYP2IMUYavolg/3Be9VsKCWD82NURlGWNYP8g1CCC0Q1g/hLVi9pEkWD91gOJYsgVYP9n9SLkU51c/wqCHirjIVz9CXr1AnapXP+YoNFHCjFc/kXFeMidvVz/YrdRby1FXP4TjUkauNFc/PDm2a88XVz+0jPpGLvtWP7YNOFTK3lY/Zd6gEKPCVj+luH76t6ZWP2SYMJEIi1Y/FmsoVZRvVj/ew+jHWlRWP+uUAmxbOVY/eu0SxZUeVj+8vMBXCQRWP46Zuqm16VU/9I60QZrPVT8s7WWntrVVP4Yfh2MKnFU/2IbP/5SCVT9+WPMGVmlVP/CBoQRNUFU/35CBhXk3VT/AnzEX2x5VP8hGREhxBlU/YJE+qDvuVD/a95XHOdZUP5hdrjdrvlQ/XBPYis+mVD8A3k1UZo9UP0YBMygveFQ/3U6RmylhVD+eOVdEVUpUP9nsVbmxM1Q/tWc/kj4dVD+XnKRn+wZUP6iU89Ln8FM/Lpd1bgPbUz/zVE3VTcVTP5EXdaPGr1M/mPS8dW2aUz+UBMnpQYVTP9mdD55DcFM/IpPXMXJbUz/8dTZFzUZTP8XcDnlUMlM/g6wObwceUz9OZq3J5QlTP114Kizv9VI/rJKLOiPiUj9C/5qZgc5SP+395e4Ju1I/hCO74LunUj+2vCgWl5RSPy40+zabgVI/Ony768duUj/ae63dHFxSPxR/zraZSVI/sqrTIT43Uj9KcyjKCSVSP4gX7Vv8ElI/zB31gxUBUj/k1MXvVO9RPxXYlE263VE/RJZGTEXMUT893Gyb9bpRPyZiRevKqVE/CVy47MSYUT9rDVdR44dRP+NfWssld1E/1HyhDYxmUT8AarDLFVZRPyyprrnCRVE/tNpljJI1UT/6YkD5hCVRP8kSSLaZFVE/jNIketAFUT9kUBv8KPZQPxaxC/Si5lA/r0NwGj7XUD8NOFwo+sdQPxBYetfWuFA/jMML4tOpUD/0ruYC8ZpQP7ckdfUtjFA/O8mzdYp9UD99oTBABm9QP17cCRKhYFA/cp7sqFpSUD900BPDMkRQPzzwRh8pNlA/ReTYfD0oUD+t0aabbxpQP7T0Fjy/DFA/cvcuPlj+Tz9KyToMbONPP3m5Rma5yE8/0kVR0T+uTz+s2F/T/pNPP9yWfPP1eU8/czK0uSRgTz8UwhOvikZPP+ycpl0nLU8/Mjt0UPoTTz9LG34TA/tOP0qrvTNB4k4/DjciP7TJTj+o2o7EW7FOPz552FM3mU4/Q7jDfUaBTj/k/gLUiGlOP/h5NOn9UU4/7iPgUKU6Tj8V0XWffiNOPwxAS2qJDE4/Ti6aR8X1TT/WcH7OMd9NP+AQ9JbOyE0/sGzVOZuyTT9SXNlQl5xNP09akXbChk0/bLBnRhxxTT8kqJ1cpFtNPzK/SVZaRk0/wN9V0T0xTT+SnH1sThxNP9pwTMeLB00/vgMcgvXyTD/JbxI+i95MP9aNIJ1Mykw/rkMAQjm2TD9U1jLQUKJMP9w//+uSjkw/zYhwOv96TD8QJVRhlWdMP2RUOAdVVEw/Q4Zq0z1BTD8vwfVtTy5MP4MNoX+JG0w/huPtsesITD/5nBavdfZLP9jpDCIn5Es/hkh4tv/RSz8xgbQY/79LP2Ak0PUkrks/7QyL+3CcSz/65FTY4opLPyyuSzt6eUs/Bk061DZoSz9eF5dTGFdLP+VlgmoeRks/wCjFykg1Sz8yf88mlyRLPz9StzEJFEs/RfI2n54DSz+ct6sjV/NKPxqmFHQy40o/ghMRRjDTSj/PUN9PUMNKP2lWW0iSs0o/K3P95vWjSj8p/tjjepRKP2ELm/cghUo/FiOJ2+d1Sj/r+39Jz2ZKP8o38vvWV0o/aCPnrf5ISj9+ePkaRjpKP7AiVv+sK0o/Cge7FzMdSj8jznUh2A5KP8+wYtqbAEo/YEfrAH7yST+CWwVUfuRJP4y8MZOc1kk/UhZ7ftjIST+CynTWMbtJP2nMOVyorUk/IH9r0TugST9HljD465JJP//4M5O4hUk/WKejZaF4ST8goi8zpmtJP/zUCMDGXkk/1gLg0AJSST+gtOQqWkVJP10qxJPMOEk/Yk6o0VksST/gqjarASBJP6Rhj+fDE0k/FiZMTqAHST9SOX+nlvtIP35osrum70g/Rw3mU9DjSD94EJA5E9hIP6vumjZvzEg/Jr9kFeTASD+8PL6gcbVIP77Q6aMXqkg/BqCa6tWeSD/0mfNArJNIP4iJhnOaiEg/YihTT6B9SD/MM8ahvXJIP7iDuDjyZ0g/pSNu4j1dSD+CbZVtoFJIP3YmRqkZSEg/hJ0AZak9SD8WzKxwTzNIP3V4mZwLKUg//1l7ud0eSD9CP2yYxRRIP/M16grDCkg/mrTW4tUASD8cxnXy/fZHPwY3bQw77Uc/kMTDA43jRz92TeCr89lHP24Eidhu0Ec/cKTiXf7GRz+ipm8Qor1HP/h5D8VZtEc/frz9UCWrRz9TdtGJBKJHP0BWfEX3mEc/8+9JWv2PRz/a+96eFodHP5yYOOpCfkc/Go6rE4J1Rz8dkuPy02xHP32O4l84ZEc/4ej/Mq9bRz8LzOdEOFNHP5xymm7TSkc/c3NriYBCRz9wDwFvPzpHP9CAU/kPMkc/7EusAvIpRz94kaVl5SFHPzliKf3pGUc/JxRxpP8RRz/7mAQ3JgpHPyTWuZBdAkc/M/6zjaX6Rj+U62IK/vJGP7x8guNm60Y/qvEZ9t/jRj/KSnsfadxGPyepQj0C1UY/AbBVLavNRj+k5+LNY8ZGP6AhYf0rv0Y/Qd6OmgO4Rj9as3GE6rBGP1K0VZrgqUY/d9vMu+WiRj+XdK7I+ZtGP9KIFqEclUY/r0tlJU6ORj9hiT42jodGP1YWibTcgEY/5D9ugTl6Rj86Pll+pHNGP3en9owdbUY/9eMzj6RmRj+3oz5nOWBGPwZVhPfbWUY/LJyxIoxTRj9izLHLSU1GP8ZhrtUUR0Y/hnwOJO1ARj8fXXaa0jpGP67hxhzFNEY/ZwQdj8QuRj8TW9HV0ChGP6uXd9XpIkY/+wnecg8dRj9eIg2TQRdGP3b1RhuAEUY//cAG8coLRj+VcQD6IQZGP6ApIByFAEY/GcmJPfT6RT9tdphEb/VFP1go3hf270U/uzAjnojqRT9oyGW+JuVFP/Kb2V/Q30U/ZlnnaYXaRT8APyzERdVFP9KqeVYR0EU/WqvUCOjKRT8CkXXDycVFP5SAx262wEU/lQZo8627RT+BqyY6sLZFP/qIBCy9sUU/1N8zstSsRT8Crxe29qdFP2pLQyEjo0U/j/h53VmeRT8ggq7UmplFP17WAvHllEU/WqHHHDuQRT8S6XtCmotFP1iqzEwDh0U/kHaUJnaCRT9LEtu68n1FP6UU1fR4eUU/dofjvwh1RT9PiJMHonBFP0jqnbdEbEU/jNjmu/BnRT+6eX0ApmNFP/6Tm3FkX0U//TGl+ytbRT94SCiL/FZFP7Rc3AzWUkU/pCuibbhORT/OUYOao0pFP+3zsYCXRkU/UGiIDZRCRT/u4IgumT5FPzQWXdGmOkU/hvLV47w2RT+BPutT2zJFP9xNuw8CL0U/Ca2KBTErRT+Fz8MjaCdFP9C+9linI0U/FsrYk+4fRT+JNkTDPRxFP1nwN9aUGEU/XzzXu/MURT9wamljWhFFP0uIWbzIDUU/ORU2tj4KRT9JtrBAvAZFPy3rnUtBA0U/v8P0xs3/RD8als6iYfxEP1q1Zs/8+EQ/+CgaPZ/1RD+7ZGfcSPJEP0kB7p357kQ/T3VucrHrRD8/z8lKcOhEP6VvARg25UQ/FMQ2ywLiRD+fAqtV1t5EP+/lvqiw20Q/4GnytZHYRD+ziORuedVEP9H4UsVn0kQ/GOsZq1zPRD+xyTMSWMxEP333uOxZyUQ/AZDfLGLGRD/aJ/vEcMNEP8aNfKeFwEQ/JozxxqC9RD8LqwQWwrpEP8fyfIfpt0Q/Aq89Dhe1RD9UMkadSrJEP1KasSeEr0Q/MpS2oMOsRD/cIaf7CKpEP35f8CtUp0Q/nkkaJaWkRD+qg8fa+6FEP/setUBYn0Q/XmK6SrqcRD8GksjsIZpEPwe46hqPl0Q/OG1FyQGVRD+XohbseZJEPxtrtXf3j0Q/+cWRYHqNRD9haTSbAotEP6uNPhyQiEQ/8bhp2CKGRD8ei4fEuoNEP2qKgdVXgUQ/RPBYAPp+RD+odiY6oXxEP+YlGnhNekQ/ziJ7r/53RD9JfafVtHVEP2H/E+Bvc0Q/pfxLxC9xRD8GIvF39G5EPwlGu/C9bEQ/bjl4JIxqRD8zmAsJX2hEP/2abpQ2ZkQ/6uivvBJkRD/AafN382FEP34YcrzYX0Q/UdZ5gMJdRD/pPW26sFtEPyx3w2CjWUQ/RwsIappXRD8fudrMlVVEPyBK73+VU0Q/YWcNeplRRD8wbxCyoU9EP+9K5x6uTUQ/TEWUt75LRD/X4Cxz00lEP+2u2UjsR0Q/+ybWLwlGRD8ZfnAfKkREP/1+CQ9PQkQ/PmIU9ndARD/yphbMpD5EP5zrp4jVPEQ/csdxIwo7RD/yoy+UQjlEP8iWrtJ+N0Q/CjzN1r41RD/CkHuYAjREP8fNug9KMkQ/6kKdNJUwRD9oMkb/4y5EP7us6Wc2LUQ/o2zMZowrRD+Ps0P05SlEP0QmtQhDKEQ/3KmWnKMmRD8EQW6oByVEP4np0SRvI0Q/NXpnCtohRD/sgORRSCBEPxAhDvS5HkQ/PPK46S4dRD8y38grpxtEPxwFMbMiGkQ/FZPzeKEYRD/rqSF2IxdEPzU826OoFUQ/nu5O+zAURD+E+Ll1vBJEP8wEaAxLEUQ//hKzuNwPRD+qWAN0cQ5EP/4izzcJDUQ/rbia/aMLRD8RPPi+QQpEP4iNh3XiCEQ/FC72GoYHRD9BIv+oLAZEPzjVahnWBEQ/I/wOZoIDRD/Bec6IMQJEPzpCmXvjAEQ/Mz9sOJj/Qz8aNFG5T/5DP66iXvgJ/UM/wq+378b7Qz84CIyZhvpDPzvGF/BI+UM/rlaj7Q34Qz/TXoOM1fZDPy6iGMef9UM/oOjPl2z0Qz+w5CH5O/NDPxwak+UN8kM/jsSzV+LwQz+Wvh9Kue9DP85ofreS7kM/P5GCmm7tQz/sWurtTOxDP50lf6wt60M/3nUV0RDqQz8k3YxW9uhDPznizzfe50M/xOnTb8jmQz8ZH5n5tOVDPytdKtCj5EM/thed7pTjQz+aRBFQiOJDP19Fse994UM/9tCxyHXgQz+g3VHWb99DPwSL2hNs3kM/ewyffGrdQz+Ck/wLa9xDP2I6Wr1t20M/++4ojHLaQz/MXeNzedlDPxfdDXCC2EM/PVg2fI3XQz9DO/STmtZDP4Be6LKp1UM/e/K81LrUQz/uayX1zdNDP/xv3g/j0kM/i8CtIPrRQz/JKGIjE9FDP9tp0xMu0EM/tyfi7UrPQz8l1netac5DP+ulhk6KzUM/G3IJzazMQz+SrQMl0ctDP5hQgVL3ykM/qcaWUR/KQz9m3GAeSclDP6qtBLV0yEM/ypOvEaLHQz/3E5cw0cZDP8PN+A0CxkM/1mkapjTFQz+5iEn1aMRDP9ax2/eew0M/jkIuqtbCQz97XaYIEMJDP9XZsA9LwUM/+TLCu4fAQz8=",
          "dtype": "f8"
         }
        },
        {
         "error_y": {
          "color": "#BCBD22",
          "thickness": 1.5,
          "type": "constant",
          "value": 0.001,
          "width": 3
         },
         "marker": {
          "color": "#BCBD22"
         },
         "mode": "markers",
         "name": "θ=130°",
         "type": "scatter",
         "x": {
          "bdata": "LUMc6+I2uj+Sy39Iv329P/yp8dJNYsA/L26jAbwFwj9hMlUwKqnDP5T2Bl+YTMU/x7q4jQbwxj/6fmq8dJPIPy1DHOviNso/kst/SL99zT/8qfHSTWLQPy9uowG8BdI/YTJVMCqp0z+U9gZfmEzVP8e6uI0G8NY/+n5qvHST2D8tQxzr4jbaP5LLf0i/fd0//Knx0k1i4D8vbqMBvAXiP2EyVTAqqeM/lPYGX5hM5T/HuriNBvDmP/p+arx0k+g/LUMc6+I26j+Sy39Iv33tP/yp8dJNYvA/L26jAbwF8j9hMlUwKqnzP5T2Bl+YTPU/x7q4jQbw9j/6fmq8dJP4Py1DHOviNvo/kst/SL99/T/8qfHSTWIAQC9uowG8BQJAYTJVMCqpA0CU9gZfmEwFQMe6uI0G8AZA+n5qvHSTCEAtQxzr4jYKQJLLf0i/fQ1A/Knx0k1iEEAvbqMBvAUSQGEyVTAqqRNAlPYGX5hMFUDHuriNBvAWQPp+arx0kxhALUMc6+I2GkCSy39Iv30dQPyp8dJNYiBAL26jAbwFIkBhMlUwKqkjQA==",
          "dtype": "f8"
         },
         "y": {
          "bdata": "sztJX61/qD8fTVAecSOoP4at2cpL/qc/qgoNxLKZpz/ns/KB03GnP8xHrYs2Iqc/drUmJyTjpj/K6DaX0X6mP5oLXB5rRqY/V7+IbNbPpT/yJr9FJ0ulP5qC60CMxqQ/dLdGX5xTpD+aR1kaUwukP4FaDB6mfaM/rOhqhq8Koz8mmvaDcLuiP6tKEc/I1qE/c0ekEkMXoT94p0x7lFugP6cWW1L/ap8/zl/X5UrznT8/MOzVbIqcP/PixFc7ips/4Qz+fjFbmj+oJQy5CEKYP3pfS356IpY/wrLj0GxolD8CNWvfktKSP3rejQWFQZE/twKvO4LAjz+i8Z/JWTONPzNmtzsQ/oo//UFu0KgKhz89MNupFJaDP2vKgHnpooA/qrJStZvofD+by2g/rf14P1aU2NbLxnU/QFS3Bvhmcj+h3d+oLkNwP8VOgHqWlGk/C3T1fDCdZD9/BkjyZFBgP9OdabqFS1o/tww4S8lyUj8JnZO7KKpJP8LgfubKpUM/8Z6RdSmPPT9OxEZMlZc4P2tRDoJojzI/IooYGRXWDD9qXa9Y35odPw==",
          "dtype": "f8"
         }
        }
       ],
       "layout": {
        "height": 600,
        "template": {
         "data": {
          "bar": [
           {
            "error_x": {
             "color": "#2a3f5f"
            },
            "error_y": {
             "color": "#2a3f5f"
            },
            "marker": {
             "line": {
              "color": "#E5ECF6",
              "width": 0.5
             },
             "pattern": {
              "fillmode": "overlay",
              "size": 10,
              "solidity": 0.2
             }
            },
            "type": "bar"
           }
          ],
          "barpolar": [
           {
            "marker": {
             "line": {
              "color": "#E5ECF6",
              "width": 0.5
             },
             "pattern": {
              "fillmode": "overlay",
              "size": 10,
              "solidity": 0.2
             }
            },
            "type": "barpolar"
           }
          ],
          "carpet": [
           {
            "aaxis": {
             "endlinecolor": "#2a3f5f",
             "gridcolor": "white",
             "linecolor": "white",
             "minorgridcolor": "white",
             "startlinecolor": "#2a3f5f"
            },
            "baxis": {
             "endlinecolor": "#2a3f5f",
             "gridcolor": "white",
             "linecolor": "white",
             "minorgridcolor": "white",
             "startlinecolor": "#2a3f5f"
            },
            "type": "carpet"
           }
          ],
          "choropleth": [
           {
            "colorbar": {
             "outlinewidth": 0,
             "ticks": ""
            },
            "type": "choropleth"
           }
          ],
          "contour": [
           {
            "colorbar": {
             "outlinewidth": 0,
             "ticks": ""
            },
            "colorscale": [
             [
              0,
              "#0d0887"
             ],
             [
              0.1111111111111111,
              "#46039f"
             ],
             [
              0.2222222222222222,
              "#7201a8"
             ],
             [
              0.3333333333333333,
              "#9c179e"
             ],
             [
              0.4444444444444444,
              "#bd3786"
             ],
             [
              0.5555555555555556,
              "#d8576b"
             ],
             [
              0.6666666666666666,
              "#ed7953"
             ],
             [
              0.7777777777777778,
              "#fb9f3a"
             ],
             [
              0.8888888888888888,
              "#fdca26"
             ],
             [
              1,
              "#f0f921"
             ]
            ],
            "type": "contour"
           }
          ],
          "contourcarpet": [
           {
            "colorbar": {
             "outlinewidth": 0,
             "ticks": ""
            },
            "type": "contourcarpet"
           }
          ],
          "heatmap": [
           {
            "colorbar": {
             "outlinewidth": 0,
             "ticks": ""
            },
            "colorscale": [
             [
              0,
              "#0d0887"
             ],
             [
              0.1111111111111111,
              "#46039f"
             ],
             [
              0.2222222222222222,
              "#7201a8"
             ],
             [
              0.3333333333333333,
              "#9c179e"
             ],
             [
              0.4444444444444444,
              "#bd3786"
             ],
             [
              0.5555555555555556,
              "#d8576b"
             ],
             [
              0.6666666666666666,
              "#ed7953"
             ],
             [
              0.7777777777777778,
              "#fb9f3a"
             ],
             [
              0.8888888888888888,
              "#fdca26"
             ],
             [
              1,
              "#f0f921"
             ]
            ],
            "type": "heatmap"
           }
          ],
          "histogram": [
           {
            "marker": {
             "pattern": {
              "fillmode": "overlay",
              "size": 10,
              "solidity": 0.2
             }
            },
            "type": "histogram"
           }
          ],
          "histogram2d": [
           {
            "colorbar": {
             "outlinewidth": 0,
             "ticks": ""
            },
            "colorscale": [
             [
              0,
              "#0d0887"
             ],
             [
              0.1111111111111111,
              "#46039f"
             ],
             [
              0.2222222222222222,
              "#7201a8"
             ],
             [
              0.3333333333333333,
              "#9c179e"
             ],
             [
              0.4444444444444444,
              "#bd3786"
             ],
             [
              0.5555555555555556,
              "#d8576b"
             ],
             [
              0.6666666666666666,
              "#ed7953"
             ],
             [
              0.7777777777777778,
              "#fb9f3a"
             ],
             [
              0.8888888888888888,
              "#fdca26"
             ],
             [
              1,
              "#f0f921"
             ]
            ],
            "type": "histogram2d"
           }
          ],
          "histogram2dcontour": [
           {
            "colorbar": {
             "outlinewidth": 0,
             "ticks": ""
            },
            "colorscale": [
             [
              0,
              "#0d0887"
             ],
             [
              0.1111111111111111,
              "#46039f"
             ],
             [
              0.2222222222222222,
              "#7201a8"
             ],
             [
              0.3333333333333333,
              "#9c179e"
             ],
             [
              0.4444444444444444,
              "#bd3786"
             ],
             [
              0.5555555555555556,
              "#d8576b"
             ],
             [
              0.6666666666666666,
              "#ed7953"
             ],
             [
              0.7777777777777778,
              "#fb9f3a"
             ],
             [
              0.8888888888888888,
              "#fdca26"
             ],
             [
              1,
              "#f0f921"
             ]
            ],
            "type": "histogram2dcontour"
           }
          ],
          "mesh3d": [
           {
            "colorbar": {
             "outlinewidth": 0,
             "ticks": ""
            },
            "type": "mesh3d"
           }
          ],
          "parcoords": [
           {
            "line": {
             "colorbar": {
              "outlinewidth": 0,
              "ticks": ""
             }
            },
            "type": "parcoords"
           }
          ],
          "pie": [
           {
            "automargin": true,
            "type": "pie"
           }
          ],
          "scatter": [
           {
            "fillpattern": {
             "fillmode": "overlay",
             "size": 10,
             "solidity": 0.2
            },
            "type": "scatter"
           }
          ],
          "scatter3d": [
           {
            "line": {
             "colorbar": {
              "outlinewidth": 0,
              "ticks": ""
             }
            },
            "marker": {
             "colorbar": {
              "outlinewidth": 0,
              "ticks": ""
             }
            },
            "type": "scatter3d"
           }
          ],
          "scattercarpet": [
           {
            "marker": {
             "colorbar": {
              "outlinewidth": 0,
              "ticks": ""
             }
            },
            "type": "scattercarpet"
           }
          ],
          "scattergeo": [
           {
            "marker": {
             "colorbar": {
              "outlinewidth": 0,
              "ticks": ""
             }
            },
            "type": "scattergeo"
           }
          ],
          "scattergl": [
           {
            "marker": {
             "colorbar": {
              "outlinewidth": 0,
              "ticks": ""
             }
            },
            "type": "scattergl"
           }
          ],
          "scattermap": [
           {
            "marker": {
             "colorbar": {
              "outlinewidth": 0,
              "ticks": ""
             }
            },
            "type": "scattermap"
           }
          ],
          "scattermapbox": [
           {
            "marker": {
             "colorbar": {
              "outlinewidth": 0,
              "ticks": ""
             }
            },
            "type": "scattermapbox"
           }
          ],
          "scatterpolar": [
           {
            "marker": {
             "colorbar": {
              "outlinewidth": 0,
              "ticks": ""
             }
            },
            "type": "scatterpolar"
           }
          ],
          "scatterpolargl": [
           {
            "marker": {
             "colorbar": {
              "outlinewidth": 0,
              "ticks": ""
             }
            },
            "type": "scatterpolargl"
           }
          ],
          "scatterternary": [
           {
            "marker": {
             "colorbar": {
              "outlinewidth": 0,
              "ticks": ""
             }
            },
            "type": "scatterternary"
           }
          ],
          "surface": [
           {
            "colorbar": {
             "outlinewidth": 0,
             "ticks": ""
            },
            "colorscale": [
             [
              0,
              "#0d0887"
             ],
             [
              0.1111111111111111,
              "#46039f"
             ],
             [
              0.2222222222222222,
              "#7201a8"
             ],
             [
              0.3333333333333333,
              "#9c179e"
             ],
             [
              0.4444444444444444,
              "#bd3786"
             ],
             [
              0.5555555555555556,
              "#d8576b"
             ],
             [
              0.6666666666666666,
              "#ed7953"
             ],
             [
              0.7777777777777778,
              "#fb9f3a"
             ],
             [
              0.8888888888888888,
              "#fdca26"
             ],
             [
              1,
              "#f0f921"
             ]
            ],
            "type": "surface"
           }
          ],
          "table": [
           {
            "cells": {
             "fill": {
              "color": "#EBF0F8"
             },
             "line": {
              "color": "white"
             }
            },
            "header": {
             "fill": {
              "color": "#C8D4E3"
             },
             "line": {
              "color": "white"
             }
            },
            "type": "table"
           }
          ]
         },
         "layout": {
          "annotationdefaults": {
           "arrowcolor": "#2a3f5f",
           "arrowhead": 0,
           "arrowwidth": 1
          },
          "autotypenumbers": "strict",
          "coloraxis": {
           "colorbar": {
            "outlinewidth": 0,
            "ticks": ""
           }
          },
          "colorscale": {
           "diverging": [
            [
             0,
             "#8e0152"
            ],
            [
             0.1,
             "#c51b7d"
            ],
            [
             0.2,
             "#de77ae"
            ],
            [
             0.3,
             "#f1b6da"
            ],
            [
             0.4,
             "#fde0ef"
            ],
            [
             0.5,
             "#f7f7f7"
            ],
            [
             0.6,
             "#e6f5d0"
            ],
            [
             0.7,
             "#b8e186"
            ],
            [
             0.8,
             "#7fbc41"
            ],
            [
             0.9,
             "#4d9221"
            ],
            [
             1,
             "#276419"
            ]
           ],
           "sequential": [
            [
             0,
             "#0d0887"
            ],
            [
             0.1111111111111111,
             "#46039f"
            ],
            [
             0.2222222222222222,
             "#7201a8"
            ],
            [
             0.3333333333333333,
             "#9c179e"
            ],
            [
             0.4444444444444444,
             "#bd3786"
            ],
            [
             0.5555555555555556,
             "#d8576b"
            ],
            [
             0.6666666666666666,
             "#ed7953"
            ],
            [
             0.7777777777777778,
             "#fb9f3a"
            ],
            [
             0.8888888888888888,
             "#fdca26"
            ],
            [
             1,
             "#f0f921"
            ]
           ],
           "sequentialminus": [
            [
             0,
             "#0d0887"
            ],
            [
             0.1111111111111111,
             "#46039f"
            ],
            [
             0.2222222222222222,
             "#7201a8"
            ],
            [
             0.3333333333333333,
             "#9c179e"
            ],
            [
             0.4444444444444444,
             "#bd3786"
            ],
            [
             0.5555555555555556,
             "#d8576b"
            ],
            [
             0.6666666666666666,
             "#ed7953"
            ],
            [
             0.7777777777777778,
             "#fb9f3a"
            ],
            [
             0.8888888888888888,
             "#fdca26"
            ],
            [
             1,
             "#f0f921"
            ]
           ]
          },
          "colorway": [
           "#636efa",
           "#EF553B",
           "#00cc96",
           "#ab63fa",
           "#FFA15A",
           "#19d3f3",
           "#FF6692",
           "#B6E880",
           "#FF97FF",
           "#FECB52"
          ],
          "font": {
           "color": "#2a3f5f"
          },
          "geo": {
           "bgcolor": "white",
           "lakecolor": "white",
           "landcolor": "#E5ECF6",
           "showlakes": true,
           "showland": true,
           "subunitcolor": "white"
          },
          "hoverlabel": {
           "align": "left"
          },
          "hovermode": "closest",
          "mapbox": {
           "style": "light"
          },
          "paper_bgcolor": "white",
          "plot_bgcolor": "#E5ECF6",
          "polar": {
           "angularaxis": {
            "gridcolor": "white",
            "linecolor": "white",
            "ticks": ""
           },
           "bgcolor": "#E5ECF6",
           "radialaxis": {
            "gridcolor": "white",
            "linecolor": "white",
            "ticks": ""
           }
          },
          "scene": {
           "xaxis": {
            "backgroundcolor": "#E5ECF6",
            "gridcolor": "white",
            "gridwidth": 2,
            "linecolor": "white",
            "showbackground": true,
            "ticks": "",
            "zerolinecolor": "white"
           },
           "yaxis": {
            "backgroundcolor": "#E5ECF6",
            "gridcolor": "white",
            "gridwidth": 2,
            "linecolor": "white",
            "showbackground": true,
            "ticks": "",
            "zerolinecolor": "white"
           },
           "zaxis": {
            "backgroundcolor": "#E5ECF6",
            "gridcolor": "white",
            "gridwidth": 2,
            "linecolor": "white",
            "showbackground": true,
            "ticks": "",
            "zerolinecolor": "white"
           }
          },
          "shapedefaults": {
           "line": {
            "color": "#2a3f5f"
           }
          },
          "ternary": {
           "aaxis": {
            "gridcolor": "white",
            "linecolor": "white",
            "ticks": ""
           },
           "baxis": {
            "gridcolor": "white",
            "linecolor": "white",
            "ticks": ""
           },
           "bgcolor": "#E5ECF6",
           "caxis": {
            "gridcolor": "white",
            "linecolor": "white",
            "ticks": ""
           }
          },
          "title": {
           "x": 0.05
          },
          "xaxis": {
           "automargin": true,
           "gridcolor": "white",
           "linecolor": "white",
           "ticks": "",
           "title": {
            "standoff": 15
           },
           "zerolinecolor": "white",
           "zerolinewidth": 2
          },
          "yaxis": {
           "automargin": true,
           "gridcolor": "white",
           "linecolor": "white",
           "ticks": "",
           "title": {
            "standoff": 15
           },
           "zerolinecolor": "white",
           "zerolinewidth": 2
          }
         }
        },
        "title": {
         "text": "g<sup>2</sup>(τ) vs t"
        },
        "width": 800,
        "xaxis": {
         "range": [
          -1,
          1
         ],
         "title": {
          "text": "t (ms)"
         },
         "type": "log"
        },
        "yaxis": {
         "title": {
          "text": "g<sup>2</sup>(τ)"
         }
        }
       }
      }
     },
     "metadata": {},
     "output_type": "display_data"
    }
   ],
   "source": [
    "colors = px.colors.qualitative.D3\n",
    "\n",
    "fig = go.Figure()\n",
    "for i,θ in enumerate(data.keys()):\n",
    "    x = data[θ]['x']\n",
    "    y = data[θ]['y']\n",
    "    γ = data[θ]['gamma']\n",
    "    sigmay = data[θ]['sigmay']\n",
    "    X,Y = data[θ]['fit'].draw()\n",
    "\n",
    "    # plt.plot(X,Y)\n",
    "    # plt.xlim(0,1)\n",
    "    # plt.show()\n",
    "\n",
    "    fig.add_trace(go.Scatter(x=X, y=Y, mode='lines',line_color=colors[i], showlegend=False))\n",
    "\n",
    "    fig.add_trace(go.Scatter(x=data[θ]['x'], y=data[θ]['y'], mode='markers', name=f'θ={θ}°',\n",
    "        marker=dict(color = colors[i]),\n",
    "        error_y=dict( \n",
    "\t\t\ttype='constant', \n",
    "\t\t\tvalue=0.001, \n",
    "\t\t\tcolor=colors[i],\n",
    "\t\t\tthickness=1.5, \n",
    "\t\t\twidth=3, \n",
    "\t\t)))\n",
    "\n",
    "fig.update_layout(\n",
    "        xaxis_type=\"log\",\n",
    "        yaxis_title=\"g<sup>2</sup>(τ)\",\n",
    "        xaxis_title=\"t (ms)\",\n",
    "        title='g<sup>2</sup>(τ) vs t',\n",
    "        xaxis=dict(range=[np.log10(0.1), np.log10(10)]),\n",
    "        width=800,\n",
    "        height=600,\n",
    "        # yaxis=dict(range=[0, 0.06])\n",
    "    )\n",
    "fig.show()"
   ]
  }
 ],
 "metadata": {
  "kernelspec": {
   "display_name": "Python 3",
   "language": "python",
   "name": "python3"
  },
  "language_info": {
   "codemirror_mode": {
    "name": "ipython",
    "version": 3
   },
   "file_extension": ".py",
   "mimetype": "text/x-python",
   "name": "python",
   "nbconvert_exporter": "python",
   "pygments_lexer": "ipython3",
   "version": "3.13.0"
  }
 },
 "nbformat": 4,
 "nbformat_minor": 2
}
