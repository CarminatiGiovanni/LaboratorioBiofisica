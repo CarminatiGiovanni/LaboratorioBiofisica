{
 "cells": [
  {
   "cell_type": "markdown",
   "metadata": {},
   "source": [
    "# IRIDE\n",
    "\n",
    "$\\theta$ = 90°\n",
    "\n",
    "iride aperta -> $\\nu \\simeq$ 230kHz\n",
    "\n",
    "iride media -> $\\nu \\simeq$ = 120kHz\n",
    "\n",
    "iride chiusa -> $\\nu \\simeq$ = 45kHz\n",
    "\n",
    "nota, i valori sono approssimativi $\\pm$ 20kHz \n",
    "\n",
    "$\\nu$ = frequenza fotoni rilevati"
   ]
  },
  {
   "cell_type": "code",
   "execution_count": 8,
   "metadata": {},
   "outputs": [],
   "source": [
    "from matplotlib import pyplot as plt\n",
    "import numpy as np\n",
    "import pandas as pd\n",
    "import plotly.express as px\n",
    "import os\n",
    "import sys\n",
    "import plotly.graph_objects as go \n",
    "dir_path = os.path.abspath('')\n",
    "sys.path.append(dir_path + '/../')\n",
    "from labbiofisica import Interpolazione, final_val"
   ]
  },
  {
   "cell_type": "code",
   "execution_count": 50,
   "metadata": {},
   "outputs": [],
   "source": [
    "# Constants\n",
    "n = 1.33 # index of refraction\n",
    "η = 10**-9  # g/(nm*s) viscosity of water\n",
    "λ = 633  # nm wavelength of the laser\n",
    "T = 293  # K temperature\n",
    "KB = 1.3806e-2  # g (nm)^2 / s^2 K boltzmann constant"
   ]
  },
  {
   "cell_type": "code",
   "execution_count": 40,
   "metadata": {},
   "outputs": [],
   "source": [
    "iride_chiusa = pd.read_csv(dir_path + '\\\\data\\\\g_90_45kHz.txt',sep='\\t ',header=None,engine='python')\n",
    "iride_chiusa = iride_chiusa[(iride_chiusa[0] >= 0.1) & (iride_chiusa[0] <= 10)]\n",
    "iride_aperta = pd.read_csv(dir_path + '\\\\data\\\\g_90_230kHz.txt',sep='\\t ',header=None,engine='python')\n",
    "iride_aperta = iride_aperta[(iride_aperta[0] >= 0.1) & (iride_aperta[0] <= 10)]\n",
    "iride_media = pd.read_csv(dir_path + '\\\\data\\\\g_90.txt',sep='\\t ',header=None,engine='python')\n",
    "iride_media = iride_media[(iride_media[0] >= 0.1) & (iride_media[0] <= 10)]\n",
    "\n",
    "θ = 90\n",
    "sigmay = np.float64(0.001)\n",
    "\n",
    "# iride_chiusa.head()"
   ]
  },
  {
   "cell_type": "code",
   "execution_count": 49,
   "metadata": {},
   "outputs": [
    {
     "name": "stdout",
     "output_type": "stream",
     "text": [
      "-----------------Chiusa------------------\n",
      "----------------- VALORI FIT: -----------------\n",
      "A: (1.026 ± 0.008)e-1 \n",
      "B: (1.476 ± 2.077)e-4 \n",
      "γ: (2.712 ± 0.038)e3 \n",
      "\n",
      "dof: 50\n",
      "chi2: 18.93\n",
      "chi2 ridotto: 0.38\n",
      "pvalue: 1.0\n",
      "------------------------------------------------\n",
      "\n",
      "-----------------Aperta------------------\n",
      "----------------- VALORI FIT: -----------------\n",
      "A: (2.806 ± 0.08)e-2 \n",
      "B: (1.035 ± 2.097)e-4 \n",
      "γ: (2.626 ± 0.133)e3 \n",
      "\n",
      "dof: 50\n",
      "chi2: 1.31\n",
      "chi2 ridotto: 0.03\n",
      "pvalue: 1.0\n",
      "------------------------------------------------\n",
      "\n",
      "-----------------Media------------------\n",
      "----------------- VALORI FIT: -----------------\n",
      "A: (4.93 ± 0.08)e-2 \n",
      "B: (1.077 ± 2.096)e-4 \n",
      "γ: (2.634 ± 0.076)e3 \n",
      "\n",
      "dof: 50\n",
      "chi2: 3.33\n",
      "chi2 ridotto: 0.07\n",
      "pvalue: 1.0\n",
      "------------------------------------------------\n",
      "\n"
     ]
    }
   ],
   "source": [
    "f = lambda t,A,B,γ: A*np.exp(-γ*t) + B\n",
    "iride_chiusa.head()\n",
    "fit_chiusa = Interpolazione(iride_chiusa[0].to_numpy()/1000, iride_chiusa[1].to_numpy(),sigmay,f,[0.01,0.0001,2000],names=['A','B','γ'])\n",
    "fit_aperta = Interpolazione(iride_aperta[0].to_numpy()/1000,iride_aperta[1].to_numpy(),sigmay,f,[0.01,0.0001,2000],names=['A','B','γ'])\n",
    "fit_media = Interpolazione(iride_media[0].to_numpy()/1000,iride_media[1].to_numpy(),sigmay,f,[0.01,0.0001,2000],names=['A','B','γ'])\n",
    "print('-----------------Chiusa------------------')\n",
    "print(fit_chiusa)\n",
    "print('-----------------Aperta------------------')\n",
    "print(fit_aperta)\n",
    "print('-----------------Media------------------')\n",
    "print(fit_media)\n",
    "\n",
    "gamma_aperta,sigma_gamma_aperta = fit_aperta.values['γ'],fit_aperta.errors['γ']\n",
    "gamma_chiusa,sigma_gamma_chiusa = fit_chiusa.values['γ'],fit_chiusa.errors['γ']\n",
    "gamma_media,sigma_gamma_media = fit_media.values['γ'],fit_media.errors['γ']"
   ]
  },
  {
   "cell_type": "code",
   "execution_count": 48,
   "metadata": {},
   "outputs": [
    {
     "data": {
      "application/vnd.plotly.v1+json": {
       "config": {
        "plotlyServerURL": "https://plot.ly"
       },
       "data": [
        {
         "error_y": {
          "color": "#46039f",
          "thickness": 1.5,
          "type": "constant",
          "value": 0.001,
          "width": 3
         },
         "marker": {
          "color": "#46039f"
         },
         "mode": "markers",
         "name": " 45Khz",
         "type": "scatter",
         "x": {
          "bdata": "Sa+8mvLXGj8xRRTu8DIeP43ttaD3xiA/grhhynZ0Ij92gw309SEkP2pOuR11zyU/XxllR/R8Jz9U5BBxcyopP0mvvJry1yo/MUUU7vAyLj+N7bWg98YwP4K4Ycp2dDI/doMN9PUhND9qTrkddc81P18ZZUf0fDc/VOQQcXMqOT9Jr7ya8tc6PzFFFO7wMj4/je21oPfGQD+CuGHKdnRCP3aDDfT1IUQ/ak65HXXPRT9fGWVH9HxHP1TkEHFzKkk/Sa+8mvLXSj8xRRTu8DJOP43ttaD3xlA/grhhynZ0Uj92gw309SFUP2pOuR11z1U/XxllR/R8Vz9U5BBxcypZP0mvvJry11o/MUUU7vAyXj+N7bWg98ZgP4K4Ycp2dGI/doMN9PUhZD9qTrkddc9lP18ZZUf0fGc/VOQQcXMqaT9Jr7ya8tdqPzFFFO7wMm4/je21oPfGcD+CuGHKdnRyP3aDDfT1IXQ/ak65HXXPdT9fGWVH9Hx3P1TkEHFzKnk/Sa+8mvLXej8xRRTu8DJ+P43ttaD3xoA/grhhynZ0gj92gw309SGEPw==",
          "dtype": "f8"
         },
         "y": {
          "bdata": "zP/1GzdGtD9tvIW/cPiyP4Z1492RsbI/4DjfPmE/sj/aCB+lbVexP77C3bR0YLA/n4Ky38ldsD+9ycqKPKSvP9b6x+e6la4/CCUnbnB9qz8vTbYmgt2pP179M96xM6g/um6lMiDWpj8ILqBhe3elP9Pi5xrBIaM/d/NUh9wMoz9sOxLUlXShPxJ8HYL0Xp4/AzRbw1Yamj+LyAtEqoOXPxPLdzqhIZU/4ZY06zE2kT9St7OvPEiPP5Pe3ASEe4o/EmfqGtJNhz/DePYqbOWBP/l48CykcHs/tabc8eSicz/xvVwXwIxwP4leBJUKjWQ/BVj9dLC8Yz/D11OCMH1gP1GHkTVVvV0/2uQRWBA1Vz/rv5SiEUNNPwZPotf/NhS/9bT7CfKpHz8ZQVu1CBg/P+j3ho11Gxs/2X+BRgcpKr+l/3KXhz8Yv8nfYupTMyA/cYcRbxJEEz+u/ytVX2IXP/biifVNZwU/fA+mR6SEOD8FY9q9MCdFP6jYTwFbHj6/7mP63lVB+77nIyF4GVEcv+XpIqbA2Sg/6GN7g+h2Gr+zc2BaUO8kvw==",
          "dtype": "f8"
         }
        },
        {
         "error_y": {
          "color": "#d8576b",
          "thickness": 1.5,
          "type": "constant",
          "value": 0.001,
          "width": 3
         },
         "marker": {
          "color": "#d8576b"
         },
         "mode": "markers",
         "name": "230kHz",
         "type": "scatter",
         "x": {
          "bdata": "Sa+8mvLXGj8xRRTu8DIeP43ttaD3xiA/grhhynZ0Ij92gw309SEkP2pOuR11zyU/XxllR/R8Jz9U5BBxcyopP0mvvJry1yo/MUUU7vAyLj+N7bWg98YwP4K4Ycp2dDI/doMN9PUhND9qTrkddc81P18ZZUf0fDc/VOQQcXMqOT9Jr7ya8tc6PzFFFO7wMj4/je21oPfGQD+CuGHKdnRCP3aDDfT1IUQ/ak65HXXPRT9fGWVH9HxHP1TkEHFzKkk/Sa+8mvLXSj8xRRTu8DJOP43ttaD3xlA/grhhynZ0Uj92gw309SFUP2pOuR11z1U/XxllR/R8Vz9U5BBxcypZP0mvvJry11o/MUUU7vAyXj+N7bWg98ZgP4K4Ycp2dGI/doMN9PUhZD9qTrkddc9lP18ZZUf0fGc/VOQQcXMqaT9Jr7ya8tdqPzFFFO7wMm4/je21oPfGcD+CuGHKdnRyP3aDDfT1IXQ/ak65HXXPdT9fGWVH9Hx3P1TkEHFzKnk/Sa+8mvLXej8xRRTu8DJ+P43ttaD3xoA/grhhynZ0gj92gw309SGEPw==",
          "dtype": "f8"
         },
         "y": {
          "bdata": "NGlTdY9slj99xPnl3aKVP+qWHeIftpQ/v7oqUIvBkz/dr6fCRCiTPxF5gUh18JI/lS3tLxbhkT/yejApPj6RP2aUeIpmr5A/yXGndLD+jz9rZFdaRuqNP6AVvfhHhIs/peX2gZoQiT8fN7LhnwiIP6p6nuSz4YU/WsHK/P4ohT9lQVnfXbqDPwvDNpg8VIE/b/s3kng3fj8iAYK9sqB6P65FbvpxA3c/BkQtcvSddD9CPLd13JVyPw3mCkoshHA/kQHJCU3xbD/ioDFRjEVmP98E+NEdgmI/sjIzll3uWz+z4G7ectRVP713L1KDxFE/tkA+xcqYTT+u4dhpWhhIPwgNYj9Cz0E/kD1cIZUqPT+ywQGu3dYzP5fhNWvNrzY/Jb3s+qwCKj+l1stUYH8UP/JxlidKISQ/w3nX6ZeyAj9bMIWHKJ8AP0W673Vq1xE/7SnlhhRWxL6SHbif3Mrsvo23MQ+73BA/jxw8ntXM+r6QhwpgaBrYPu2I9O+7aPa+Kbb+bYHKCb9zcpIwi0X+vpJoM1pIMRk/HbHbhTQT/b72yT7BZj0Dvw==",
          "dtype": "f8"
         }
        },
        {
         "error_y": {
          "color": "#9c179e",
          "thickness": 1.5,
          "type": "constant",
          "value": 0.001,
          "width": 3
         },
         "marker": {
          "color": "#9c179e"
         },
         "mode": "markers",
         "name": "130kHz",
         "type": "scatter",
         "x": {
          "bdata": "Sa+8mvLXGj8xRRTu8DIeP43ttaD3xiA/grhhynZ0Ij92gw309SEkP2pOuR11zyU/XxllR/R8Jz9U5BBxcyopP0mvvJry1yo/MUUU7vAyLj+N7bWg98YwP4K4Ycp2dDI/doMN9PUhND9qTrkddc81P18ZZUf0fDc/VOQQcXMqOT9Jr7ya8tc6PzFFFO7wMj4/je21oPfGQD+CuGHKdnRCP3aDDfT1IUQ/ak65HXXPRT9fGWVH9HxHP1TkEHFzKkk/Sa+8mvLXSj8xRRTu8DJOP43ttaD3xlA/grhhynZ0Uj92gw309SFUP2pOuR11z1U/XxllR/R8Vz9U5BBxcypZP0mvvJry11o/MUUU7vAyXj+N7bWg98ZgP4K4Ycp2dGI/doMN9PUhZD9qTrkddc9lP18ZZUf0fGc/VOQQcXMqaT9Jr7ya8tdqPzFFFO7wMm4/je21oPfGcD+CuGHKdnRyP3aDDfT1IXQ/ak65HXXPdT9fGWVH9Hx3P1TkEHFzKnk/Sa+8mvLXej8xRRTu8DJ+P43ttaD3xoA/grhhynZ0gj92gw309SGEPw==",
          "dtype": "f8"
         },
         "y": {
          "bdata": "C0W6n1OQoz80eKkiJvKiP3Ak0GBT56E/IyHbQwyFoT8xow7hTtigP5QaNbrekaA/EORFyyZlnz8Lz0vFxryePwGeWbfmM50/fiiHBa12mz8uLMlLSLWZP8Ey27pA7pc/sPye/e1Xlj8rpWd6ibGUP6oKDcSymZM/t+BWi5mOkj/B6iNLQRKRPx8JRQQtbo0/hq+vdakRij8jLZW3I5yGPxGYPb/es4Q/fnRmksPtgT8DIR8Vez+AP9FjStpDsXs/hL2JITmZeD8kq413aNRzP1dgp9xtrG4/JvREIRM6aT+PUX1rUMljP/U/CujPyGE/zLhnZRQuWD9kNLjOOyVSP9nK9f1ulk8/DP/VIiMZQj/emEA/wwMpPxqtwQBkFiE/9LiQDFdVGL/c34rY6BsvP6+fHbos89i+JbTTec7CIL+j3A7xNSLtPgFA4bLiiRQ/OIIDQx4NHL98gdCv6gInP6x/r58AtSE/x8RLD8FzGr/MF5yGxmH5vnV0fZvVbQY/woCfHeKyCb/qwulPJNn4PhzuVBVigga/nMZWzfw1HL8kuWkkIxb6vg==",
          "dtype": "f8"
         }
        },
        {
         "hoverinfo": "skip",
         "line": {
          "color": "#46039f"
         },
         "mode": "lines",
         "showlegend": false,
         "type": "scatter",
         "x": {
          "bdata": "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",
          "dtype": "f8"
         },
         "y": {
          "bdata": "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",
          "dtype": "f8"
         }
        },
        {
         "hoverinfo": "skip",
         "line": {
          "color": "#d8576b"
         },
         "mode": "lines",
         "showlegend": false,
         "type": "scatter",
         "x": {
          "bdata": "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",
          "dtype": "f8"
         },
         "y": {
          "bdata": "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",
          "dtype": "f8"
         }
        },
        {
         "hoverinfo": "skip",
         "line": {
          "color": "#9c179e"
         },
         "mode": "lines",
         "showlegend": false,
         "type": "scatter",
         "x": {
          "bdata": "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",
          "dtype": "f8"
         },
         "y": {
          "bdata": "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",
          "dtype": "f8"
         }
        }
       ],
       "layout": {
        "font": {
         "color": "Black",
         "size": 18
        },
        "height": 600,
        "plot_bgcolor": "white",
        "template": {
         "data": {
          "bar": [
           {
            "error_x": {
             "color": "#2a3f5f"
            },
            "error_y": {
             "color": "#2a3f5f"
            },
            "marker": {
             "line": {
              "color": "#E5ECF6",
              "width": 0.5
             },
             "pattern": {
              "fillmode": "overlay",
              "size": 10,
              "solidity": 0.2
             }
            },
            "type": "bar"
           }
          ],
          "barpolar": [
           {
            "marker": {
             "line": {
              "color": "#E5ECF6",
              "width": 0.5
             },
             "pattern": {
              "fillmode": "overlay",
              "size": 10,
              "solidity": 0.2
             }
            },
            "type": "barpolar"
           }
          ],
          "carpet": [
           {
            "aaxis": {
             "endlinecolor": "#2a3f5f",
             "gridcolor": "white",
             "linecolor": "white",
             "minorgridcolor": "white",
             "startlinecolor": "#2a3f5f"
            },
            "baxis": {
             "endlinecolor": "#2a3f5f",
             "gridcolor": "white",
             "linecolor": "white",
             "minorgridcolor": "white",
             "startlinecolor": "#2a3f5f"
            },
            "type": "carpet"
           }
          ],
          "choropleth": [
           {
            "colorbar": {
             "outlinewidth": 0,
             "ticks": ""
            },
            "type": "choropleth"
           }
          ],
          "contour": [
           {
            "colorbar": {
             "outlinewidth": 0,
             "ticks": ""
            },
            "colorscale": [
             [
              0,
              "#0d0887"
             ],
             [
              0.1111111111111111,
              "#46039f"
             ],
             [
              0.2222222222222222,
              "#7201a8"
             ],
             [
              0.3333333333333333,
              "#9c179e"
             ],
             [
              0.4444444444444444,
              "#bd3786"
             ],
             [
              0.5555555555555556,
              "#d8576b"
             ],
             [
              0.6666666666666666,
              "#ed7953"
             ],
             [
              0.7777777777777778,
              "#fb9f3a"
             ],
             [
              0.8888888888888888,
              "#fdca26"
             ],
             [
              1,
              "#f0f921"
             ]
            ],
            "type": "contour"
           }
          ],
          "contourcarpet": [
           {
            "colorbar": {
             "outlinewidth": 0,
             "ticks": ""
            },
            "type": "contourcarpet"
           }
          ],
          "heatmap": [
           {
            "colorbar": {
             "outlinewidth": 0,
             "ticks": ""
            },
            "colorscale": [
             [
              0,
              "#0d0887"
             ],
             [
              0.1111111111111111,
              "#46039f"
             ],
             [
              0.2222222222222222,
              "#7201a8"
             ],
             [
              0.3333333333333333,
              "#9c179e"
             ],
             [
              0.4444444444444444,
              "#bd3786"
             ],
             [
              0.5555555555555556,
              "#d8576b"
             ],
             [
              0.6666666666666666,
              "#ed7953"
             ],
             [
              0.7777777777777778,
              "#fb9f3a"
             ],
             [
              0.8888888888888888,
              "#fdca26"
             ],
             [
              1,
              "#f0f921"
             ]
            ],
            "type": "heatmap"
           }
          ],
          "histogram": [
           {
            "marker": {
             "pattern": {
              "fillmode": "overlay",
              "size": 10,
              "solidity": 0.2
             }
            },
            "type": "histogram"
           }
          ],
          "histogram2d": [
           {
            "colorbar": {
             "outlinewidth": 0,
             "ticks": ""
            },
            "colorscale": [
             [
              0,
              "#0d0887"
             ],
             [
              0.1111111111111111,
              "#46039f"
             ],
             [
              0.2222222222222222,
              "#7201a8"
             ],
             [
              0.3333333333333333,
              "#9c179e"
             ],
             [
              0.4444444444444444,
              "#bd3786"
             ],
             [
              0.5555555555555556,
              "#d8576b"
             ],
             [
              0.6666666666666666,
              "#ed7953"
             ],
             [
              0.7777777777777778,
              "#fb9f3a"
             ],
             [
              0.8888888888888888,
              "#fdca26"
             ],
             [
              1,
              "#f0f921"
             ]
            ],
            "type": "histogram2d"
           }
          ],
          "histogram2dcontour": [
           {
            "colorbar": {
             "outlinewidth": 0,
             "ticks": ""
            },
            "colorscale": [
             [
              0,
              "#0d0887"
             ],
             [
              0.1111111111111111,
              "#46039f"
             ],
             [
              0.2222222222222222,
              "#7201a8"
             ],
             [
              0.3333333333333333,
              "#9c179e"
             ],
             [
              0.4444444444444444,
              "#bd3786"
             ],
             [
              0.5555555555555556,
              "#d8576b"
             ],
             [
              0.6666666666666666,
              "#ed7953"
             ],
             [
              0.7777777777777778,
              "#fb9f3a"
             ],
             [
              0.8888888888888888,
              "#fdca26"
             ],
             [
              1,
              "#f0f921"
             ]
            ],
            "type": "histogram2dcontour"
           }
          ],
          "mesh3d": [
           {
            "colorbar": {
             "outlinewidth": 0,
             "ticks": ""
            },
            "type": "mesh3d"
           }
          ],
          "parcoords": [
           {
            "line": {
             "colorbar": {
              "outlinewidth": 0,
              "ticks": ""
             }
            },
            "type": "parcoords"
           }
          ],
          "pie": [
           {
            "automargin": true,
            "type": "pie"
           }
          ],
          "scatter": [
           {
            "fillpattern": {
             "fillmode": "overlay",
             "size": 10,
             "solidity": 0.2
            },
            "type": "scatter"
           }
          ],
          "scatter3d": [
           {
            "line": {
             "colorbar": {
              "outlinewidth": 0,
              "ticks": ""
             }
            },
            "marker": {
             "colorbar": {
              "outlinewidth": 0,
              "ticks": ""
             }
            },
            "type": "scatter3d"
           }
          ],
          "scattercarpet": [
           {
            "marker": {
             "colorbar": {
              "outlinewidth": 0,
              "ticks": ""
             }
            },
            "type": "scattercarpet"
           }
          ],
          "scattergeo": [
           {
            "marker": {
             "colorbar": {
              "outlinewidth": 0,
              "ticks": ""
             }
            },
            "type": "scattergeo"
           }
          ],
          "scattergl": [
           {
            "marker": {
             "colorbar": {
              "outlinewidth": 0,
              "ticks": ""
             }
            },
            "type": "scattergl"
           }
          ],
          "scattermap": [
           {
            "marker": {
             "colorbar": {
              "outlinewidth": 0,
              "ticks": ""
             }
            },
            "type": "scattermap"
           }
          ],
          "scattermapbox": [
           {
            "marker": {
             "colorbar": {
              "outlinewidth": 0,
              "ticks": ""
             }
            },
            "type": "scattermapbox"
           }
          ],
          "scatterpolar": [
           {
            "marker": {
             "colorbar": {
              "outlinewidth": 0,
              "ticks": ""
             }
            },
            "type": "scatterpolar"
           }
          ],
          "scatterpolargl": [
           {
            "marker": {
             "colorbar": {
              "outlinewidth": 0,
              "ticks": ""
             }
            },
            "type": "scatterpolargl"
           }
          ],
          "scatterternary": [
           {
            "marker": {
             "colorbar": {
              "outlinewidth": 0,
              "ticks": ""
             }
            },
            "type": "scatterternary"
           }
          ],
          "surface": [
           {
            "colorbar": {
             "outlinewidth": 0,
             "ticks": ""
            },
            "colorscale": [
             [
              0,
              "#0d0887"
             ],
             [
              0.1111111111111111,
              "#46039f"
             ],
             [
              0.2222222222222222,
              "#7201a8"
             ],
             [
              0.3333333333333333,
              "#9c179e"
             ],
             [
              0.4444444444444444,
              "#bd3786"
             ],
             [
              0.5555555555555556,
              "#d8576b"
             ],
             [
              0.6666666666666666,
              "#ed7953"
             ],
             [
              0.7777777777777778,
              "#fb9f3a"
             ],
             [
              0.8888888888888888,
              "#fdca26"
             ],
             [
              1,
              "#f0f921"
             ]
            ],
            "type": "surface"
           }
          ],
          "table": [
           {
            "cells": {
             "fill": {
              "color": "#EBF0F8"
             },
             "line": {
              "color": "white"
             }
            },
            "header": {
             "fill": {
              "color": "#C8D4E3"
             },
             "line": {
              "color": "white"
             }
            },
            "type": "table"
           }
          ]
         },
         "layout": {
          "annotationdefaults": {
           "arrowcolor": "#2a3f5f",
           "arrowhead": 0,
           "arrowwidth": 1
          },
          "autotypenumbers": "strict",
          "coloraxis": {
           "colorbar": {
            "outlinewidth": 0,
            "ticks": ""
           }
          },
          "colorscale": {
           "diverging": [
            [
             0,
             "#8e0152"
            ],
            [
             0.1,
             "#c51b7d"
            ],
            [
             0.2,
             "#de77ae"
            ],
            [
             0.3,
             "#f1b6da"
            ],
            [
             0.4,
             "#fde0ef"
            ],
            [
             0.5,
             "#f7f7f7"
            ],
            [
             0.6,
             "#e6f5d0"
            ],
            [
             0.7,
             "#b8e186"
            ],
            [
             0.8,
             "#7fbc41"
            ],
            [
             0.9,
             "#4d9221"
            ],
            [
             1,
             "#276419"
            ]
           ],
           "sequential": [
            [
             0,
             "#0d0887"
            ],
            [
             0.1111111111111111,
             "#46039f"
            ],
            [
             0.2222222222222222,
             "#7201a8"
            ],
            [
             0.3333333333333333,
             "#9c179e"
            ],
            [
             0.4444444444444444,
             "#bd3786"
            ],
            [
             0.5555555555555556,
             "#d8576b"
            ],
            [
             0.6666666666666666,
             "#ed7953"
            ],
            [
             0.7777777777777778,
             "#fb9f3a"
            ],
            [
             0.8888888888888888,
             "#fdca26"
            ],
            [
             1,
             "#f0f921"
            ]
           ],
           "sequentialminus": [
            [
             0,
             "#0d0887"
            ],
            [
             0.1111111111111111,
             "#46039f"
            ],
            [
             0.2222222222222222,
             "#7201a8"
            ],
            [
             0.3333333333333333,
             "#9c179e"
            ],
            [
             0.4444444444444444,
             "#bd3786"
            ],
            [
             0.5555555555555556,
             "#d8576b"
            ],
            [
             0.6666666666666666,
             "#ed7953"
            ],
            [
             0.7777777777777778,
             "#fb9f3a"
            ],
            [
             0.8888888888888888,
             "#fdca26"
            ],
            [
             1,
             "#f0f921"
            ]
           ]
          },
          "colorway": [
           "#636efa",
           "#EF553B",
           "#00cc96",
           "#ab63fa",
           "#FFA15A",
           "#19d3f3",
           "#FF6692",
           "#B6E880",
           "#FF97FF",
           "#FECB52"
          ],
          "font": {
           "color": "#2a3f5f"
          },
          "geo": {
           "bgcolor": "white",
           "lakecolor": "white",
           "landcolor": "#E5ECF6",
           "showlakes": true,
           "showland": true,
           "subunitcolor": "white"
          },
          "hoverlabel": {
           "align": "left"
          },
          "hovermode": "closest",
          "mapbox": {
           "style": "light"
          },
          "paper_bgcolor": "white",
          "plot_bgcolor": "#E5ECF6",
          "polar": {
           "angularaxis": {
            "gridcolor": "white",
            "linecolor": "white",
            "ticks": ""
           },
           "bgcolor": "#E5ECF6",
           "radialaxis": {
            "gridcolor": "white",
            "linecolor": "white",
            "ticks": ""
           }
          },
          "scene": {
           "xaxis": {
            "backgroundcolor": "#E5ECF6",
            "gridcolor": "white",
            "gridwidth": 2,
            "linecolor": "white",
            "showbackground": true,
            "ticks": "",
            "zerolinecolor": "white"
           },
           "yaxis": {
            "backgroundcolor": "#E5ECF6",
            "gridcolor": "white",
            "gridwidth": 2,
            "linecolor": "white",
            "showbackground": true,
            "ticks": "",
            "zerolinecolor": "white"
           },
           "zaxis": {
            "backgroundcolor": "#E5ECF6",
            "gridcolor": "white",
            "gridwidth": 2,
            "linecolor": "white",
            "showbackground": true,
            "ticks": "",
            "zerolinecolor": "white"
           }
          },
          "shapedefaults": {
           "line": {
            "color": "#2a3f5f"
           }
          },
          "ternary": {
           "aaxis": {
            "gridcolor": "white",
            "linecolor": "white",
            "ticks": ""
           },
           "baxis": {
            "gridcolor": "white",
            "linecolor": "white",
            "ticks": ""
           },
           "bgcolor": "#E5ECF6",
           "caxis": {
            "gridcolor": "white",
            "linecolor": "white",
            "ticks": ""
           }
          },
          "title": {
           "x": 0.05
          },
          "xaxis": {
           "automargin": true,
           "gridcolor": "white",
           "linecolor": "white",
           "ticks": "",
           "title": {
            "standoff": 15
           },
           "zerolinecolor": "white",
           "zerolinewidth": 2
          },
          "yaxis": {
           "automargin": true,
           "gridcolor": "white",
           "linecolor": "white",
           "ticks": "",
           "title": {
            "standoff": 15
           },
           "zerolinecolor": "white",
           "zerolinewidth": 2
          }
         }
        },
        "title": {
         "font": {
          "size": 30
         },
         "text": "Correlation Function g<sup>2</sup>(τ)",
         "x": 0.5,
         "xanchor": "center",
         "y": 0.9,
         "yanchor": "top"
        },
        "width": 800,
        "xaxis": {
         "gridcolor": "lightgrey",
         "linecolor": "black",
         "mirror": true,
         "range": [
          -4,
          -2
         ],
         "showline": true,
         "ticks": "outside",
         "title": {
          "text": "t (s)"
         },
         "type": "log"
        },
        "yaxis": {
         "gridcolor": "lightgrey",
         "linecolor": "black",
         "mirror": true,
         "range": [
          0,
          0.1
         ],
         "showline": true,
         "ticks": "outside",
         "title": {
          "text": "g<sup>2</sup>(τ)"
         }
        }
       }
      }
     },
     "metadata": {},
     "output_type": "display_data"
    }
   ],
   "source": [
    "x,y = iride_chiusa[0]/1000, iride_chiusa[1]\n",
    "\n",
    "color_chiusa = px.colors.sequential.Plasma[1]\n",
    "color_media = px.colors.sequential.Plasma[3]\n",
    "color_aperta = px.colors.sequential.Plasma[5]\n",
    "\n",
    "fig = go.Figure()\n",
    "fig.add_trace(go.Scatter(x=iride_chiusa[0]/1000,y=iride_chiusa[1], mode='markers', name=f' 45Khz',\n",
    "        marker=dict(color = color_chiusa),\n",
    "        error_y=dict( \n",
    "\t\t\ttype='constant', \n",
    "\t\t\tvalue=sigmay, \n",
    "\t\t\tcolor=color_chiusa,\n",
    "\t\t\tthickness=1.5, \n",
    "\t\t\twidth=3, \n",
    "\t\t)))\n",
    "\n",
    "fig.add_trace(go.Scatter(x=iride_aperta[0]/1000,y=iride_aperta[1], mode='markers', name=f'230kHz',\n",
    "        marker=dict(color = color_aperta),\n",
    "        error_y=dict( \n",
    "            type='constant', \n",
    "            value=sigmay, \n",
    "            color=color_aperta,\n",
    "            thickness=1.5, \n",
    "            width=3, \n",
    "        )))\n",
    "\n",
    "fig.add_trace(go.Scatter(x=iride_media[0]/1000,y=iride_media[1], mode='markers', name=f'130kHz',\n",
    "        marker=dict(color = color_media),\n",
    "        error_y=dict( \n",
    "            type='constant', \n",
    "            value=sigmay, \n",
    "            color=color_media,\n",
    "            thickness=1.5, \n",
    "            width=3, \n",
    "        )))\n",
    "\n",
    "X,Y = fit_chiusa.draw()\n",
    "fig.add_trace(go.Scatter(x=X,y=Y, mode='lines',line_color=color_chiusa, showlegend=False,hoverinfo='skip'))\n",
    "\n",
    "X,Y = fit_aperta.draw()\n",
    "fig.add_trace(go.Scatter(x=X,y=Y, mode='lines',line_color=color_aperta, showlegend=False,hoverinfo='skip'))\n",
    "\n",
    "X,Y = fit_media.draw()\n",
    "fig.add_trace(go.Scatter(x=X,y=Y, mode='lines',line_color=color_media, showlegend=False,hoverinfo='skip'))\n",
    "\n",
    "\n",
    "fig.update_layout(\n",
    "        xaxis_type=\"log\",\n",
    "        yaxis_title=\"g<sup>2</sup>(τ)\",\n",
    "        xaxis_title=\"t (s)\",\n",
    "        # title='g<sup>2</sup>(τ) vs t',\n",
    "        xaxis=dict(range=[np.log10(0.0001), np.log10(0.010)]),\n",
    "        width=800,\n",
    "        height=600,\n",
    "        title={\n",
    "            'text': \"Correlation Function g<sup>2</sup>(τ)\",\n",
    "            'y':0.9,\n",
    "            'x':0.5,\n",
    "            'xanchor': 'center',\n",
    "            'yanchor': 'top',\n",
    "            'font':dict(size=30)\n",
    "        },\n",
    "        plot_bgcolor='white',\n",
    "        font=dict(\n",
    "            #family=\"Courier New, monospace\",\n",
    "            size=18,\n",
    "            color=\"Black\"\n",
    "        ),\n",
    "            # yaxis=dict(range=[0, 0.06])\n",
    "    )\n",
    "\n",
    "fig.update_xaxes(\n",
    "    mirror=True,\n",
    "    ticks='outside',\n",
    "    showline=True,\n",
    "    linecolor='black',\n",
    "    gridcolor='lightgrey'\n",
    ")\n",
    "fig.update_yaxes(\n",
    "    range=[0, 0.1],\n",
    "    mirror=True,\n",
    "    ticks='outside',\n",
    "    showline=True,\n",
    "    linecolor='black',\n",
    "    gridcolor='lightgrey'\n",
    ")\n",
    "\n",
    "fig.show()"
   ]
  },
  {
   "cell_type": "code",
   "execution_count": 51,
   "metadata": {},
   "outputs": [
    {
     "name": "stdout",
     "output_type": "stream",
     "text": [
      "R_chiusa:  55.17 ± 0.77 nm\n",
      "R_aperta:  56.97 ± 2.9 nm\n",
      "R_media:  56.79 ± 1.65 nm\n"
     ]
    }
   ],
   "source": [
    "def calculate_R(gamma, theta):\n",
    "    theta_rad = np.radians(theta)\n",
    "    R = (16 * np.pi * n**2 * T * KB * np.sin(theta_rad / 2)**2) / (3 * η * λ**2 * gamma)\n",
    "    return R\n",
    "\n",
    "def calculate_sigma_R(gamma, sigma_gamma, theta):\n",
    "    theta_rad = np.radians(theta)\n",
    "    sigma_R = (16 * np.pi * n**2 * T * KB * np.sin(theta_rad / 2)**2) / (3 * η * λ**2 * gamma**2) * sigma_gamma\n",
    "    return sigma_R\n",
    "\n",
    "\n",
    "R_chiusa = calculate_R(gamma_chiusa, θ)\n",
    "sigma_R_chiusa = calculate_sigma_R(gamma_chiusa, sigma_gamma_chiusa, θ)\n",
    "\n",
    "R_aperta = calculate_R(gamma_aperta, θ)\n",
    "sigma_R_aperta = calculate_sigma_R(gamma_aperta, sigma_gamma_aperta, θ)\n",
    "\n",
    "R_media = calculate_R(gamma_media, θ)\n",
    "sigma_R_media = calculate_sigma_R(gamma_media, sigma_gamma_media, θ)\n",
    "\n",
    "print('R_chiusa: ',final_val(R_chiusa,sigma_R_chiusa,2,0,'nm'))\n",
    "print('R_aperta: ',final_val(R_aperta,sigma_R_aperta,2,0,'nm'))\n",
    "print('R_media: ',final_val(R_media,sigma_R_media,2,0,'nm'))"
   ]
  }
 ],
 "metadata": {
  "kernelspec": {
   "display_name": "Python 3",
   "language": "python",
   "name": "python3"
  },
  "language_info": {
   "codemirror_mode": {
    "name": "ipython",
    "version": 3
   },
   "file_extension": ".py",
   "mimetype": "text/x-python",
   "name": "python",
   "nbconvert_exporter": "python",
   "pygments_lexer": "ipython3",
   "version": "3.13.0"
  }
 },
 "nbformat": 4,
 "nbformat_minor": 2
}
