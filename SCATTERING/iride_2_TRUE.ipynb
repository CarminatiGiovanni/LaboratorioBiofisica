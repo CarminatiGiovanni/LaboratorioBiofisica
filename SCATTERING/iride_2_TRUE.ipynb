{
 "cells": [
  {
   "cell_type": "markdown",
   "id": "2e588ab5",
   "metadata": {},
   "source": [
    "# IRIDE\n",
    "\n",
    "$\\theta$ = 90°\n",
    "\n",
    "nota, i valori sono approssimativi $\\pm$ 20kHz \n",
    "\n",
    "$\\nu$ = frequenza fotoni rilevati"
   ]
  },
  {
   "cell_type": "code",
   "execution_count": 1,
   "id": "edd24ea4",
   "metadata": {},
   "outputs": [
    {
     "name": "stdout",
     "output_type": "stream",
     "text": [
      "c:\\Users\\jocar\\Desktop\\LaboratorioBiofisica\\SCATTERING\n"
     ]
    }
   ],
   "source": [
    "from matplotlib import pyplot as plt\n",
    "import numpy as np\n",
    "import pandas as pd\n",
    "import plotly.express as px\n",
    "import os\n",
    "import sys\n",
    "import plotly.graph_objects as go \n",
    "dir_path = os.path.abspath('')\n",
    "sys.path.append(dir_path + '\\\\..\\\\')\n",
    "print(dir_path)\n",
    "from labbiofisica import Interpolazione, final_val"
   ]
  },
  {
   "cell_type": "code",
   "execution_count": 2,
   "id": "bcf69687",
   "metadata": {},
   "outputs": [],
   "source": [
    "# Constants\n",
    "n = 1.33 # index of refraction\n",
    "η = 10**-9  # g/(nm*s) viscosity of water\n",
    "λ = 633  # nm wavelength of the laser\n",
    "T = 293  # K temperature\n",
    "KB = 1.3806e-2  # g (nm)^2 / s^2 K boltzmann constant\n",
    "\n",
    "sigmaT = 1"
   ]
  },
  {
   "cell_type": "code",
   "execution_count": 3,
   "id": "ba2aa210",
   "metadata": {},
   "outputs": [],
   "source": [
    "# Carico i dati {f: {t: [], g: [], sigmag: []}}\n",
    "θ = 90\n",
    "data = {}\n",
    "\n",
    "IRIDE = [25, 50,100, 200, 300]   # f = frequenze delle varie aperture\n",
    "GAMMA = []\n",
    "sigmaGAMMA = []\n",
    "\n",
    "# t convertito in secondi, si considerano dati solo tra 0.1 e 10 ms a causa del rumore\n",
    "for 𝜈 in IRIDE: \n",
    "    filename = f'./data2/g_iride_{𝜈}_2.asc'\n",
    "    \n",
    "    read = pd.read_csv(filename, skiprows=30, nrows=245 - 30, sep='\\t', encoding='ISO-8859-1')\n",
    "\n",
    "    # print(read.columns[2:12])\n",
    "\n",
    "    read = read[(read['Lag [ms]'] >= 0.1) & (read['Lag [ms]'] <= 10)]\n",
    "    read['std'] = read.loc[:, read.columns[2:12]].std(axis=1) # converto in secondi\n",
    "    \n",
    "    t = read['Lag [ms]'].to_numpy()/1000\n",
    "    g = read['Average'].to_numpy()\n",
    "    σg = read['std'].to_numpy() # /np.sqrt(9)\n",
    "    \n",
    "    data[𝜈] = {'t':t,'g':g,'sigmag': σg} # converto in secondi\n",
    "\n",
    "IRIDE = np.array(IRIDE)\n",
    "#print(data)"
   ]
  },
  {
   "cell_type": "code",
   "execution_count": 4,
   "id": "35e07368",
   "metadata": {},
   "outputs": [],
   "source": [
    "# fit data\n",
    "CHI_r = []\n",
    "DOF = []\n",
    "PVALUE = []\n",
    "\n",
    "f = lambda x, A, B, γ: A*np.exp(-γ*x) + B\n",
    "\n",
    "for key in data.keys():\n",
    "    x = data[key]['t']\n",
    "    y = data[key]['g']\n",
    "    sigmay = data[key]['sigmag']\n",
    "    m = Interpolazione(x, y, sigmay, f, [0.05, 0.001, 2.7],['A','B','γ'])\n",
    "    data[key]['fit'] = m\n",
    "    # print(m.values['γ'])\n",
    "    data[key]['gamma'] = m.values['γ']\n",
    "    GAMMA.append(m.values['γ'])\n",
    "    sigmaGAMMA.append(m.errors['γ'])\n",
    "    CHI_r.append(m.rchi2)\n",
    "    DOF = m.dof\n",
    "    PVALUE.append(m.pvalue)\n",
    "\n",
    "GAMMA = np.array(GAMMA) \n",
    "sigmaGAMMA = np.array(sigmaGAMMA)"
   ]
  },
  {
   "cell_type": "code",
   "execution_count": 5,
   "id": "36285f5b",
   "metadata": {},
   "outputs": [
    {
     "name": "stdout",
     "output_type": "stream",
     "text": [
      "---------------------------FIT RESULT----------------------------\n"
     ]
    },
    {
     "data": {
      "text/html": [
       "<div>\n",
       "<style scoped>\n",
       "    .dataframe tbody tr th:only-of-type {\n",
       "        vertical-align: middle;\n",
       "    }\n",
       "\n",
       "    .dataframe tbody tr th {\n",
       "        vertical-align: top;\n",
       "    }\n",
       "\n",
       "    .dataframe thead th {\n",
       "        text-align: right;\n",
       "    }\n",
       "</style>\n",
       "<table border=\"1\" class=\"dataframe\">\n",
       "  <thead>\n",
       "    <tr style=\"text-align: right;\">\n",
       "      <th></th>\n",
       "      <th>𝜈</th>\n",
       "      <th>γ</th>\n",
       "      <th>σγ</th>\n",
       "      <th>γ_out</th>\n",
       "      <th>pvalue</th>\n",
       "      <th>chir</th>\n",
       "      <th>dof</th>\n",
       "    </tr>\n",
       "  </thead>\n",
       "  <tbody>\n",
       "    <tr>\n",
       "      <th>0</th>\n",
       "      <td>25</td>\n",
       "      <td>2521.138258</td>\n",
       "      <td>49.910163</td>\n",
       "      <td>(2.52 ± 0.05)e3 Hz</td>\n",
       "      <td>1.0</td>\n",
       "      <td>0.12</td>\n",
       "      <td>50</td>\n",
       "    </tr>\n",
       "    <tr>\n",
       "      <th>1</th>\n",
       "      <td>50</td>\n",
       "      <td>2417.044958</td>\n",
       "      <td>36.168806</td>\n",
       "      <td>(2.42 ± 0.04)e3 Hz</td>\n",
       "      <td>1.0</td>\n",
       "      <td>0.30</td>\n",
       "      <td>50</td>\n",
       "    </tr>\n",
       "    <tr>\n",
       "      <th>2</th>\n",
       "      <td>100</td>\n",
       "      <td>2448.485713</td>\n",
       "      <td>37.552854</td>\n",
       "      <td>(2.45 ± 0.04)e3 Hz</td>\n",
       "      <td>1.0</td>\n",
       "      <td>0.09</td>\n",
       "      <td>50</td>\n",
       "    </tr>\n",
       "    <tr>\n",
       "      <th>3</th>\n",
       "      <td>200</td>\n",
       "      <td>2392.782710</td>\n",
       "      <td>31.567522</td>\n",
       "      <td>(2.39 ± 0.03)e3 Hz</td>\n",
       "      <td>1.0</td>\n",
       "      <td>0.17</td>\n",
       "      <td>50</td>\n",
       "    </tr>\n",
       "    <tr>\n",
       "      <th>4</th>\n",
       "      <td>300</td>\n",
       "      <td>2388.211335</td>\n",
       "      <td>29.247212</td>\n",
       "      <td>(2.39 ± 0.03)e3 Hz</td>\n",
       "      <td>1.0</td>\n",
       "      <td>0.30</td>\n",
       "      <td>50</td>\n",
       "    </tr>\n",
       "  </tbody>\n",
       "</table>\n",
       "</div>"
      ],
      "text/plain": [
       "     𝜈            γ         σγ               γ_out  pvalue  chir  dof\n",
       "0   25  2521.138258  49.910163  (2.52 ± 0.05)e3 Hz     1.0  0.12   50\n",
       "1   50  2417.044958  36.168806  (2.42 ± 0.04)e3 Hz     1.0  0.30   50\n",
       "2  100  2448.485713  37.552854  (2.45 ± 0.04)e3 Hz     1.0  0.09   50\n",
       "3  200  2392.782710  31.567522  (2.39 ± 0.03)e3 Hz     1.0  0.17   50\n",
       "4  300  2388.211335  29.247212  (2.39 ± 0.03)e3 Hz     1.0  0.30   50"
      ]
     },
     "metadata": {},
     "output_type": "display_data"
    }
   ],
   "source": [
    "# print FIT RESULT:\n",
    "GAMMAFVAL = [final_val(g,sg,2,3,'Hz') for g,sg in zip(GAMMA,sigmaGAMMA)]\n",
    "gammateta = pd.DataFrame({'𝜈':IRIDE,'γ':GAMMA,'σγ':sigmaGAMMA,'γ_out':GAMMAFVAL,'pvalue':PVALUE,'chir':CHI_r,'dof':DOF})\n",
    "\n",
    "print('---------------------------FIT RESULT----------------------------')\n",
    "display(gammateta)"
   ]
  },
  {
   "cell_type": "code",
   "execution_count": null,
   "id": "9aac5f72",
   "metadata": {},
   "outputs": [
    {
     "name": "stdout",
     "output_type": "stream",
     "text": [
      "Gamma mean: 2418.53 ± 15.72 Hz\n"
     ]
    },
    {
     "data": {
      "text/html": [
       "<div>\n",
       "<style scoped>\n",
       "    .dataframe tbody tr th:only-of-type {\n",
       "        vertical-align: middle;\n",
       "    }\n",
       "\n",
       "    .dataframe tbody tr th {\n",
       "        vertical-align: top;\n",
       "    }\n",
       "\n",
       "    .dataframe thead th {\n",
       "        text-align: right;\n",
       "    }\n",
       "</style>\n",
       "<table border=\"1\" class=\"dataframe\">\n",
       "  <thead>\n",
       "    <tr style=\"text-align: right;\">\n",
       "      <th></th>\n",
       "      <th>𝜈</th>\n",
       "      <th>γ</th>\n",
       "      <th>σγ</th>\n",
       "      <th>γ_out</th>\n",
       "      <th>pvalue</th>\n",
       "      <th>chir</th>\n",
       "      <th>dof</th>\n",
       "      <th>t</th>\n",
       "    </tr>\n",
       "  </thead>\n",
       "  <tbody>\n",
       "    <tr>\n",
       "      <th>0</th>\n",
       "      <td>25</td>\n",
       "      <td>2521.138258</td>\n",
       "      <td>49.910163</td>\n",
       "      <td>(2.52 ± 0.05)e3 Hz</td>\n",
       "      <td>1.0</td>\n",
       "      <td>0.12</td>\n",
       "      <td>50</td>\n",
       "      <td>5.953948</td>\n",
       "    </tr>\n",
       "    <tr>\n",
       "      <th>1</th>\n",
       "      <td>50</td>\n",
       "      <td>2417.044958</td>\n",
       "      <td>36.168806</td>\n",
       "      <td>(2.42 ± 0.04)e3 Hz</td>\n",
       "      <td>1.0</td>\n",
       "      <td>0.30</td>\n",
       "      <td>50</td>\n",
       "      <td>0.088483</td>\n",
       "    </tr>\n",
       "    <tr>\n",
       "      <th>2</th>\n",
       "      <td>100</td>\n",
       "      <td>2448.485713</td>\n",
       "      <td>37.552854</td>\n",
       "      <td>(2.45 ± 0.04)e3 Hz</td>\n",
       "      <td>1.0</td>\n",
       "      <td>0.09</td>\n",
       "      <td>50</td>\n",
       "      <td>1.775372</td>\n",
       "    </tr>\n",
       "    <tr>\n",
       "      <th>3</th>\n",
       "      <td>200</td>\n",
       "      <td>2392.782710</td>\n",
       "      <td>31.567522</td>\n",
       "      <td>(2.39 ± 0.03)e3 Hz</td>\n",
       "      <td>1.0</td>\n",
       "      <td>0.17</td>\n",
       "      <td>50</td>\n",
       "      <td>1.542711</td>\n",
       "    </tr>\n",
       "    <tr>\n",
       "      <th>4</th>\n",
       "      <td>300</td>\n",
       "      <td>2388.211335</td>\n",
       "      <td>29.247212</td>\n",
       "      <td>(2.39 ± 0.03)e3 Hz</td>\n",
       "      <td>1.0</td>\n",
       "      <td>0.30</td>\n",
       "      <td>50</td>\n",
       "      <td>1.824184</td>\n",
       "    </tr>\n",
       "  </tbody>\n",
       "</table>\n",
       "</div>"
      ],
      "text/plain": [
       "     𝜈            γ         σγ               γ_out  pvalue  chir  dof  \\\n",
       "0   25  2521.138258  49.910163  (2.52 ± 0.05)e3 Hz     1.0  0.12   50   \n",
       "1   50  2417.044958  36.168806  (2.42 ± 0.04)e3 Hz     1.0  0.30   50   \n",
       "2  100  2448.485713  37.552854  (2.45 ± 0.04)e3 Hz     1.0  0.09   50   \n",
       "3  200  2392.782710  31.567522  (2.39 ± 0.03)e3 Hz     1.0  0.17   50   \n",
       "4  300  2388.211335  29.247212  (2.39 ± 0.03)e3 Hz     1.0  0.30   50   \n",
       "\n",
       "          t  \n",
       "0  5.953948  \n",
       "1  0.088483  \n",
       "2  1.775372  \n",
       "3  1.542711  \n",
       "4  1.824184  "
      ]
     },
     "metadata": {},
     "output_type": "display_data"
    }
   ],
   "source": [
    "Gamma_mean = np.average(GAMMA, weights=sigmaGAMMA**-2)\n",
    "sigmaGamma_mean = np.sqrt(1/np.sum(1/sigmaGAMMA**2))\n",
    "\n",
    "print(f'Gamma mean: {final_val(Gamma_mean,sigmaGamma_mean,udm='Hz')}')\n",
    "\n",
    "ts = np.abs(GAMMA-Gamma_mean)/np.sqrt(sigmaGamma_mean**2 + sigmaGAMMA)\n",
    "prob = \n",
    "gammateta['t'] = ts\n",
    "display(gammateta)"
   ]
  },
  {
   "cell_type": "code",
   "execution_count": 6,
   "id": "bf4f1a71",
   "metadata": {},
   "outputs": [
    {
     "data": {
      "application/vnd.plotly.v1+json": {
       "config": {
        "plotlyServerURL": "https://plot.ly"
       },
       "data": [
        {
         "hoverinfo": "skip",
         "line": {
          "color": "#30123b"
         },
         "mode": "lines",
         "showlegend": false,
         "type": "scatter",
         "x": {
          "bdata": "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",
          "dtype": "f8"
         },
         "y": {
          "bdata": "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",
          "dtype": "f8"
         }
        },
        {
         "error_y": {
          "array": {
           "bdata": "eORKzJLndj/iRNCbJqt3Pzst7cQRDIA/xB2pl9C6dj/ZL9s29xZ/Py2y5kBUW38/F74wvFcVcT/mtc3rIzhzP8twozQWBHM/WB/hSQqWdz/4rPVbY4BxP8XAt0BjEnE/BPJRmgdNgT/aAEuwnoJnP4Xs8hUVBWw/hF3tXOsaaz/HILWp6iZlP/5qIpP1QG0/Te1jjnHQZj8NzKevx59tPwmg1wmBpGo/CinoWR+Raz88fm/F6MhsPw9dyXjJiWk/k6177ijpZj9tXzCx9eFgP7dMrARIs2o/z2Q/3Rr7YT/SUBl0fyplP/KQiV0REWI/A60bkI+jaj+dOPQyey1rPxOZiqxuOGg/MyFL37BIZT+ElT4eNCNiP5i9PU1AaGA/4BjVhZYLZT/zWIjIdQdlP3HXi3tmRmk//q+zWJbmZT+z6QJz66liP46cdGkatF4/A7gr+DLXXj+eZoVAlmxRP735a/jw71w/F7OZfcB9Wj+KRs2IYgJhPx9d5oChgl0/LgCDxhC2Wz+xvRrQ4YxeP05EM4TUp1U/BObq4I/ZUj9WYTGvPY9VPw==",
           "dtype": "f8"
          },
          "color": "#30123b",
          "thickness": 1.5,
          "type": "data",
          "width": 3
         },
         "marker": {
          "color": "#30123b"
         },
         "mode": "markers",
         "name": "𝜈 = 25 kHz",
         "type": "scatter",
         "x": {
          "bdata": "Sa+8mvLXGj8xRRTu8DIeP43ttaD3xiA/grhhynZ0Ij92gw309SEkP2pOuR11zyU/XxllR/R8Jz9U5BBxcyopP0mvvJry1yo/MUUU7vAyLj+N7bWg98YwP4K4Ycp2dDI/doMN9PUhND9qTrkddc81P18ZZUf0fDc/VOQQcXMqOT9Jr7ya8tc6PzFFFO7wMj4/je21oPfGQD+CuGHKdnRCP3aDDfT1IUQ/ak65HXXPRT9fGWVH9HxHP1TkEHFzKkk/Sa+8mvLXSj8xRRTu8DJOP43ttaD3xlA/grhhynZ0Uj92gw309SFUP2pOuR11z1U/XxllR/R8Vz9U5BBxcypZP0mvvJry11o/MUUU7vAyXj+N7bWg98ZgP4K4Ycp2dGI/doMN9PUhZD9qTrkddc9lP18ZZUf0fGc/VOQQcXMqaT9Jr7ya8tdqPzFFFO7wMm4/je21oPfGcD+CuGHKdnRyP3aDDfT1IXQ/ak65HXXPdT9fGWVH9Hx3P1TkEHFzKnk/Sa+8mvLXej8xRRTu8DJ+P43ttaD3xoA/grhhynZ0gj92gw309SGEPw==",
          "dtype": "f8"
         },
         "y": {
          "bdata": "jXxe8dQjxz/bGaa21EHGP3MOnglNEsU/OLpKd9fZxD+LwcO0b+7DP3R+iuPAq8M/CttPxvgwwz9DIJc48kDCP8o2cAfqlME/8nub/uxHwD9nRdREn4++P4HR5c3hWr0/TMRb598uuz+/NtGdFnK5P8S4dv3dlrc/iU0aWeg5tj8g+w+fKpW0P5uFh3oLNbI/a76l9+hosD8ox67+Ge+sP4yd8BKc+qg/gENNmUC2pT/7oYj7fiCjPxZgaSrVT6E/u+NequNCnz/WkX5W9OKXP+Uw83i1N5M/WIEQfwNJjj+eRyC5kKKJPx0YxDD1LYI/H09o5aB8gD/1ImY4ll6AP/8+BNFqs3c/jaX+MPjqaT/nxUeTpM5gP0IFLF7RUl4/vzr5ui0NUz/MXqiXrlT2vhoG/oCfIks/4YPlNHUq+r4c/6BWGvZAP/sco2VypBI/+vAVpdDuOj95KD/mWQJGP2d6hPiSVgS/QgyDGDkiJ786Me593/xMv4ggPhjHNBK/p6nfMa5LPD8lTPAE/bA+v1cFOvhhOyo/8vfZaAMnMD9lDvbkaRI/Pw==",
          "dtype": "f8"
         }
        },
        {
         "hoverinfo": "skip",
         "line": {
          "color": "#4675ed"
         },
         "mode": "lines",
         "showlegend": false,
         "type": "scatter",
         "x": {
          "bdata": "Sa+8mvLXGj8ndjiqb2UdPwQ9tLns8h8/8QGY5DRAIT9g5VVs84YiP8/IE/SxzSM/PqzRe3AUJT+sj48DL1smPxxzTYvtoSc/ilYLE6zoKD/6Ocmaai8qP2gdhyIpdis/1wBFque8LD9G5AIypgMuP7THwLlkSi8/klW/oJFIMD9JR57k8OswPwE5fShQjzE/uCpcbK8yMj9wHDuwDtYyPycOGvRteTM/3v/4N80cND+W8dd7LMA0P03jtr+LYzU/BdWVA+sGNj+8xnRHSqo2P3O4U4upTTc/K6oyzwjxNz/imxETaJQ4P5qN8FbHNzk/UX/PmibbOT8Jca7ehX46P8BijSLlITs/d1RsZkTFOz8vRkuqo2g8P+Y3Ku4CDD0/nikJMmKvPT9VG+h1wVI+Pw0Nx7kg9j4/xP6l/X+ZPz8+eMKgbx5APxrxsUIfcEA/9Wmh5M7BQD/R4pCGfhNBP61bgCguZUE/idRvyt22QT9kTV9sjQhCP0DGTg49WkI/HD8+sOyrQj/3ty1SnP1CP9MwHfRLT0M/r6kMlvugQz+KIvw3q/JDP2ab69laREQ/QhTbewqWRD8ejcoduudEP/kFur9pOUU/1X6pYRmLRT+x95gDydxFP4xwiKV4LkY/aOl3RyiARj9EYmfp19FGPyDbVouHI0c/+1NGLTd1Rz/XzDXP5sZHP7NFJXGWGEg/jr4UE0ZqSD9qNwS19btIP0aw81alDUk/Iinj+FRfST/9odKaBLFJP9kawjy0Ako/tZOx3mNUSj+QDKGAE6ZKP2yFkCLD90o/SP5/xHJJSz8kd29mIptLP//vXgjS7Es/22hOqoE+TD+34T1MMZBMP5NaLe7g4Uw/btMckJAzTT9KTAwyQIVNPybF+9Pv1k0/AT7rdZ8oTj/dttoXT3pOP7kvyrn+y04/lai5W64dTz9wIan9XW9PP0yamJ8NwU8/lAnEoF4JUD8CxrtxNjJQP3CCs0IOW1A/3j6rE+aDUD9M+6LkvaxQP7m3mrWV1VA/J3SShm3+UD+VMIpXRSdRPwPtgSgdUFE/cal5+fR4UT/fZXHKzKFRP00iaZukylE/u95gbHzzUT8pm1g9VBxSP5ZXUA4sRVI/BBRI3wNuUj9y0D+w25ZSP+CMN4Gzv1I/TkkvUovoUj+8BScjYxFTPyrCHvQ6OlM/l34WxRJjUz8FOw6W6otTP3P3BWfCtFM/4bP9N5rdUz9PcPUIcgZUP70s7dlJL1Q/K+nkqiFYVD+Ypdx7+YBUPwZi1EzRqVQ/dB7MHanSVD/i2sPugPtUP1CXu79YJFU/vlOzkDBNVT8sEKthCHZVP5nMojLgnlU/B4maA7jHVT91RZLUj/BVP+MBiqVnGVY/Ub6Bdj9CVj+/enlHF2tWPy03cRjvk1Y/mvNo6ca8Vj8IsGC6nuVWP3ZsWIt2Dlc/5ChQXE43Vz9S5UctJmBXP8ChP/79iFc/Ll43z9WxVz+bGi+grdpXPwnXJnGFA1g/d5MeQl0sWD/lTxYTNVVYP1MMDuQMflg/wcgFteSmWD8vhf2FvM9YP5xB9VaU+Fg/Cv7sJ2whWT94uuT4Q0pZP+Z23Mkbc1k/VDPUmvObWT/C78try8RZPzCswzyj7Vk/nWi7DXsWWj8LJbPeUj9aP3nhqq8qaFo/552igAKRWj9VWppR2rlaP8MWkiKy4lo/MdOJ84kLWz+fj4HEYTRbPwxMeZU5XVs/eghxZhGGWz/oxGg36a5bP1aBYAjB11s/xD1Y2ZgAXD8y+k+qcClcP6C2R3tIUlw/DXM/TCB7XD97Lzcd+KNcP+nrLu7PzFw/V6gmv6f1XD/FZB6Qfx5dPzMhFmFXR10/od0NMi9wXT8OmgUDB5ldP3xW/dPewV0/6hL1pLbqXT9Yz+x1jhNeP8aL5EZmPF4/NEjcFz5lXj+iBNToFY5ePw/By7nttl4/fX3DisXfXj/rObtbnQhfP1n2six1MV8/x7Kq/UxaXz81b6LOJINfP6Mrmp/8q18/EOiRcNTUXz9+pIlBrP1fP3awQAlCE2A/rY688a0nYD/kbDjaGTxgPxtLtMKFUGA/Uikwq/FkYD+IB6yTXXlgP7/lJ3zJjWA/9sOjZDWiYD8toh9NobZgP2SAmzUNy2A/m14XHnnfYD/SPJMG5fNgPwkbD+9QCGE/QPmK17wcYT931wbAKDFhP661gqiURWE/5JP+kABaYT8bcnp5bG5hP1JQ9mHYgmE/iS5ySkSXYT/ADO4ysKthP/fqaRscwGE/LsnlA4jUYT9lp2Hs8+hhP5yF3dRf/WE/02NZvcsRYj8KQtWlNyZiP0EgUY6jOmI/eP7Mdg9PYj+v3Ehfe2NiP+W6xEfnd2I/HJlAMFOMYj9Td7wYv6BiP4pVOAErtWI/wTO06ZbJYj/4ETDSAt5iPy/wq7pu8mI/Zs4no9oGYz+drKOLRhtjP9SKH3SyL2M/C2mbXB5EYz9CRxdFilhjP3klky32bGM/sAMPFmKBYz/m4Yr+zZVjPx3ABuc5qmM/VJ6Cz6W+Yz+LfP63EdNjP8JaeqB952M/+Tj2iOn7Yz8wF3JxVRBkP2f17VnBJGQ/ntNpQi05ZD/VseUqmU1kPwyQYRMFYmQ/Q27d+3B2ZD96TFnk3IpkP7Eq1cxIn2Q/5whRtbSzZD8e58ydIMhkP1XFSIaM3GQ/jKPEbvjwZD/DgUBXZAVlP/pfvD/QGWU/MT44KDwuZT9oHLQQqEJlP5/6L/kTV2U/1tir4X9rZT8NtyfK639lP0SVo7JXlGU/e3Mfm8OoZT+yUZuDL71lP+kvF2yb0WU/Hw6TVAfmZT9W7A49c/plP43KiiXfDmY/xKgGDksjZj/7hoL2tjdmPzJl/t4iTGY/aUN6x45gZj+gIfav+nRmP9f/cZhmiWY/Dt7tgNKdZj9FvGlpPrJmP3ya5VGqxmY/s3hhOhbbZj/qVt0igu9mPyA1WQvuA2c/VxPV81kYZz+O8VDcxSxnP8XPzMQxQWc//K1IrZ1VZz8zjMSVCWpnP2pqQH51fmc/oUi8ZuGSZz/YJjhPTadnPw8FtDe5u2c/RuMvICXQZz99wasIkeRnP7SfJ/H8+Gc/632j2WgNaD8hXB/C1CFoP1g6m6pANmg/jxgXk6xKaD/G9pJ7GF9oP/3UDmSEc2g/NLOKTPCHaD9rkQY1XJxoP6Jvgh3IsGg/2U3+BTTFaD8QLHrun9loP0cK9tYL7mg/fuhxv3cCaT+1xu2n4xZpP+ykaZBPK2k/IoPleLs/aT9ZYWFhJ1RpP5A/3UmTaGk/xx1ZMv98aT/++9Qaa5FpPzXaUAPXpWk/bLjM60K6aT+jlkjUrs5pP9p0xLwa42k/EVNApYb3aT9IMbyN8gtqP38POHZeIGo/tu2zXso0aj/tyy9HNklqPySqqy+iXWo/WognGA5yaj+RZqMAeoZqP8hEH+nlmmo//yKb0VGvaj82ARe6vcNqP23fkqIp2Go/pL0Oi5Xsaj/bm4pzAQFrPxJ6BlxtFWs/SViCRNkpaz+ANv4sRT5rP7cUehWxUms/7vL1/Rxnaz8l0XHmiHtrP1uv7c70j2s/ko1pt2Ckaz/Ja+WfzLhrPwBKYYg4zWs/NyjdcKThaz9uBllZEPZrP6Xk1EF8Cmw/3MJQKugebD8TocwSVDNsP0p/SPu/R2w/gV3E4ytcbD+4O0DMl3BsP+8ZvLQDhWw/Jvg3nW+ZbD9c1rOF261sP5O0L25Hwmw/ypKrVrPWbD8BcSc/H+tsPzhPoyeL/2w/by0fEPcTbT+mC5v4YihtP93pFuHOPG0/FMiSyTpRbT9Lpg6ypmVtP4KEipoSem0/uWIGg36ObT/wQIJr6qJtPycf/lNWt20/Xf15PMLLbT+U2/UkLuBtP8u5cQ2a9G0/Apjt9QUJbj85dmnecR1uP3BU5cbdMW4/pzJhr0lGbj/eEN2XtVpuPxXvWIAhb24/TM3UaI2Dbj+Dq1BR+ZduP7qJzDllrG4/8WdIItHAbj8oRsQKPdVuP14kQPOo6W4/lQK82xT+bj/M4DfEgBJvPwO/s6zsJm8/Op0vlVg7bz9xe6t9xE9vP6hZJ2YwZG8/3zejTpx4bz8WFh83CI1vP030mh90oW8/hNIWCOC1bz+7sJLwS8pvP/KODtm33m8/KW2KwSPzbz+wJQPVxwNwP8sUQcn9DXA/5wN/vTMYcD8C87yxaSJwPx7i+qWfLHA/OdE4mtU2cD9VwHaOC0FwP3CvtIJBS3A/jJ7ydndVcD+njTBrrV9wP8N8bl/jaXA/3musUxl0cD/5WupHT35wPxVKKDyFiHA/MDlmMLuScD9MKKQk8ZxwP2cX4hgnp3A/gwYgDV2xcD+e9V0Bk7twP7rkm/XIxXA/1dPZ6f7PcD/xwhfeNNpwPwyyVdJq5HA/J6GTxqDucD9DkNG61vhwP15/D68MA3E/em5No0INcT+VXYuXeBdxP7FMyYuuIXE/zDsHgOQrcT/oKkV0GjZxPwMag2hQQHE/HwnBXIZKcT86+P5QvFRxP1bnPEXyXnE/cdZ6OShpcT+MxbgtXnNxP6i09iGUfXE/w6M0FsqHcT/fknIKAJJxP/qBsP41nHE/FnHu8mumcT8xYCznobBxP01PatvXunE/aD6ozw3FcT+ELebDQ89xP58cJLh52XE/uwtirK/jcT/W+p+g5e1xP/Lp3ZQb+HE/DdkbiVECcj8oyFl9hwxyP0S3l3G9FnI/X6bVZfMgcj97lRNaKStyP5aEUU5fNXI/snOPQpU/cj/NYs02y0lyP+lRCysBVHI/BEFJHzdecj8gMIcTbWhyPzsfxQejcnI/Vw4D/Nh8cj9y/UDwDodyP47sfuREkXI/qdu82Hqbcj/EyvrMsKVyP+C5OMHmr3I/+6h2tRy6cj8XmLSpUsRyPzKH8p2IznI/TnYwkr7Ycj9pZW6G9OJyP4VUrHoq7XI/oEPqbmD3cj+8MihjlgFzP9chZlfMC3M/8xCkSwIWcz8OAOI/OCBzPynvHzRuKnM/Rd5dKKQ0cz9gzZsc2j5zP3y82RAQSXM/l6sXBUZTcz+zmlX5e11zP86Jk+2xZ3M/6njR4edxcz8FaA/WHXxzPyFXTcpThnM/PEaLvomQcz9YNcmyv5pzP3MkB6f1pHM/jxNFmyuvcz+qAoOPYblzP8XxwIOXw3M/4eD+d83Ncz/8zzxsA9hzPxi/emA54nM/M664VG/scz9PnfZIpfZzP2qMND3bAHQ/hntyMRELdD+harAlRxV0P71Z7hl9H3Q/2EgsDrMpdD/0N2oC6TN0Pw8nqPYePnQ/Khbm6lRIdD9GBSTfilJ0P2H0YdPAXHQ/feOfx/ZmdD+Y0t27LHF0P7TBG7Bie3Q/z7BZpJiFdD/rn5eYzo90PwaP1YwEmnQ/In4TgTqkdD89bVF1cK50P1lcj2mmuHQ/dEvNXdzCdD+QOgtSEs10P6spSUZI13Q/xhiHOn7hdD/iB8UutOt0P/32AiPq9XQ/GeZAFyAAdT801X4LVgp1P1DEvP+LFHU/a7P688EedT+Hojjo9yh1P6KRdtwtM3U/voC00GM9dT/Zb/LEmUd1P/VeMLnPUXU/EE5urQVcdT8sPayhO2Z1P0cs6pVxcHU/Yhsoiqd6dT9+CmZ+3YR1P5n5o3ITj3U/tejhZkmZdT/Q1x9bf6N1P+zGXU+1rXU/B7abQ+u3dT8jpdk3IcJ1Pz6UFyxXzHU/WoNVII3WdT91cpMUw+B1P5Fh0Qj56nU/rFAP/S71dT/HP03xZP91P+Mui+WaCXY//h3J2dATdj8aDQfOBh52PzX8RMI8KHY/UeuCtnIydj9s2sCqqDx2P4jJ/p7eRnY/o7g8kxRRdj+/p3qHSlt2P9qWuHuAZXY/9oX2b7Zvdj8RdTRk7Hl2Py1kclgihHY/SFOwTFiOdj9jQu5Ajph2P38xLDXEonY/miBqKfqsdj+2D6gdMLd2P9H+5RFmwXY/7e0jBpzLdj8I3WH60dV2PyTMn+4H4HY/P7vd4j3qdj9bqhvXc/R2P3aZWcup/nY/koiXv98Idz+td9WzFRN3P8hmE6hLHXc/5FVRnIEndz//RI+QtzF3Pxs0zYTtO3c/NiMLeSNGdz9SEkltWVB3P20Bh2GPWnc/ifDEVcVkdz+k3wJK+253P8DOQD4xeXc/271+MmeDdz/3rLwmnY13PxKc+hrTl3c/Los4Dwmidz9JenYDP6x3P2RptPd0tnc/gFjy66rAdz+bRzDg4Mp3P7c2btQW1Xc/0iWsyEzfdz/uFOq8gul3PwkEKLG483c/JfNlpe79dz9A4qOZJAh4P1zR4Y1aEng/d8AfgpAceD+Tr112xiZ4P66em2r8MHg/yo3ZXjI7eD/lfBdTaEV4PwBsVUeeT3g/HFuTO9RZeD83StEvCmR4P1M5DyRAbng/bihNGHZ4eD+KF4sMrIJ4P6UGyQDijHg/wfUG9ReXeD/c5ETpTaF4P/jTgt2Dq3g/E8PA0bm1eD8vsv7F7794P0qhPLolyng/ZZB6rlvUeD+Bf7iikd54P5xu9pbH6Hg/uF00i/3yeD/TTHJ/M/14P+87sHNpB3k/CivuZ58ReT8mGixc1Rt5P0EJalALJnk/XfinREEweT945+U4dzp5P5TWIy2tRHk/r8VhIeNOeT/LtJ8VGVl5P+aj3QlPY3k/AZMb/oRteT8dglnyund5Pzhxl+bwgXk/VGDV2iaMeT9vTxPPXJZ5P4s+UcOSoHk/pi2Pt8iqeT/CHM2r/rR5P90LC6A0v3k/+fpIlGrJeT8U6oaIoNN5PzDZxHzW3Xk/S8gCcQzoeT9nt0BlQvJ5P4Kmfll4/Hk/nZW8Ta4Gej+5hPpB5BB6P9RzODYaG3o/8GJ2KlAlej8LUrQehi96PydB8hK8OXo/QjAwB/JDej9eH277J056P3kOrO9dWHo/lf3p45Niej+w7CfYyWx6P8zbZcz/dno/58qjwDWBej8CuuG0a4t6Px6pH6mhlXo/OZhdndefej9Vh5uRDap6P3B22YVDtHo/jGUXenm+ej+nVFVur8h6P8NDk2Ll0no/3jLRVhvdej/6IQ9LUed6PxURTT+H8Xo/MQCLM737ej9M78gn8wV7P2jeBhwpEHs/g81EEF8aez+evIIElSR7P7qrwPjKLns/1Zr+7AA5ez/xiTzhNkN7Pwx5etVsTXs/KGi4yaJXez9DV/a92GF7P19GNLIObHs/ejVypkR2ez+WJLCaeoB7P7ET7o6wins/zQIsg+aUez/o8Wl3HJ97PwPhp2tSqXs/H9DlX4izez86vyNUvr17P1auYUj0x3s/cZ2fPCrSez+NjN0wYNx7P6h7GyWW5ns/xGpZGczwez/fWZcNAvt7P/tI1QE4BXw/FjgT9m0PfD8yJ1Hqoxl8P00Wj97ZI3w/aQXN0g8ufD+E9ArHRTh8P5/jSLt7Qnw/u9KGr7FMfD/WwcSj51Z8P/KwApgdYXw/DaBAjFNrfD8pj36AiXV8P0R+vHS/f3w/YG36aPWJfD97XDhdK5R8P5dLdlFhnnw/sjq0RZeofD/OKfI5zbJ8P+kYMC4DvXw/BQhuIjnHfD8g96sWb9F8Pzvm6Qql23w/V9Un/9rlfD9yxGXzEPB8P46zo+dG+nw/qaLh23wEfT/FkR/Qsg59P+CAXcToGH0//G+buB4jfT8XX9msVC19PzNOF6GKN30/Tj1VlcBBfT9qLJOJ9kt9P4Ub0X0sVn0/oAoPcmJgfT+8+UxmmGp9P9foilrOdH0/89fITgR/fT8OxwZDOol9Pyq2RDdwk30/RaWCK6adfT9hlMAf3Kd9P3yD/hMSsn0/mHI8CEi8fT+zYXr8fcZ9P89QuPCz0H0/6j/25OnafT8GLzTZH+V9PyEecs1V730/PA2wwYv5fT9Y/O21wQN+P3PrK6r3DX4/j9ppni0Yfj+qyaeSYyJ+P8a45YaZLH4/4acje882fj/9lmFvBUF+PxiGn2M7S34/NHXdV3FVfj9PZBtMp19+P2tTWUDdaX4/hkKXNBN0fj+hMdUoSX5+P70gEx1/iH4/2A9REbWSfj/0/o4F65x+Pw/uzPkgp34/K90K7laxfj9GzEjijLt+P2K7htbCxX4/farEyvjPfj+ZmQK/Ltp+P7SIQLNk5H4/0Hd+p5rufj/rZryb0Ph+PwdW+o8GA38/IkU4hDwNfz89NHZ4chd/P1kjtGyoIX8/dBLyYN4rfz+QATBVFDZ/P6vwbUlKQH8/x9+rPYBKfz/izukxtlR/P/69JybsXn8/Ga1lGiJpfz81nKMOWHN/P1CL4QKOfX8/bHof98OHfz+HaV3r+ZF/P6NYm98vnH8/vkfZ02Wmfz/ZNhfIm7B/P/UlVbzRun8/EBWTsAfFfz8sBNGkPc9/P0fzDplz2X8/Y+JMjanjfz9+0YqB3+1/P5rAyHUV+H8/21cDtSUBgD9pTyKvQAaAP/ZGQalbC4A/hD5go3YQgD8SNn+dkRWAP58tnpesGoA/LSW9kccfgD+7HNyL4iSAP0kU+4X9KYA/1gsagBgvgD9kAzl6MzSAP/L6V3ROOYA/gPJ2bmk+gD8O6pVohEOAP5vhtGKfSIA/KdnTXLpNgD+30PJW1VKAP0XIEVHwV4A/0r8wSwtdgD9gt09FJmKAP+6ubj9BZ4A/e6aNOVxsgD8Jnqwzd3GAP5eVyy2SdoA/JY3qJ617gD+yhAkiyICAP0B8KBzjhYA/znNHFv6KgD9ca2YQGZCAP+lihQo0lYA/d1qkBE+agD8FUsP+aZ+AP5NJ4viEpIA/IEEB85+pgD+uOCDtuq6APzwwP+fVs4A/ySde4fC4gD9XH33bC76AP+UWnNUmw4A/cw67z0HIgD8ABtrJXM2AP479+MN30oA/HPUXvpLXgD+q7Da4rdyAPzfkVbLI4YA/xdt0rOPmgD9T05Om/uuAP+HKsqAZ8YA/bsLRmjT2gD/8ufCUT/uAP4qxD49qAIE/F6kuiYUFgT+loE2DoAqBPzOYbH27D4E/wY+Ld9YUgT9Oh6px8RmBP9x+yWsMH4E/anboZSckgT/4bQdgQimBP4VlJlpdLoE/E11FVHgzgT+hVGROkziBPy5Mg0iuPYE/vEOiQslCgT9KO8E85EeBP9gy4Db/TIE/ZSr/MBpSgT/zIR4rNVeBP4EZPSVQXIE/DxFcH2thgT+cCHsZhmaBPyoAmhOha4E/uPe4DbxwgT9G79cH13WBP9Pm9gHyeoE/Yd4V/AyAgT/v1TT2J4WBP3zNU/BCioE/CsVy6l2PgT+YvJHkeJSBPya0sN6TmYE/s6vP2K6egT9Bo+7SyaOBP8+aDc3kqIE/XZIsx/+tgT/qiUvBGrOBP3iBars1uIE/BnmJtVC9gT+UcKiva8KBPyFox6mGx4E/r1/mo6HMgT89VwWevNGBP8pOJJjX1oE/WEZDkvLbgT/mPWKMDeGBP3Q1gYYo5oE/AS2ggEPrgT+PJL96XvCBPx0c3nR59YE/qxP9bpT6gT84Cxxpr/+BP8YCO2PKBII/VPpZXeUJgj/i8XhXAA+CP2/pl1EbFII//eC2SzYZgj+L2NVFUR6CPxjQ9D9sI4I/pscTOocogj80vzI0oi2CP8K2US69MoI/T65wKNg3gj/dpY8i8zyCP2udrhwOQoI/+ZTNFilHgj+GjOwQREyCPxSECwtfUYI/onsqBXpWgj8wc0n/lFuCP71qaPmvYII/S2KH88plgj/ZWabt5WqCP2ZRxecAcII/9Ejk4Rt1gj+CQAPcNnqCPxA4ItZRf4I/nS9B0GyEgj8rJ2DKh4mCP7kef8SijoI/Rxaevr2Tgj/UDb242JiCP2IF3LLznYI/8Pz6rA6jgj999BmnKaiCPwvsOKFErYI/meNXm1+ygj8n23aVereCP7TSlY+VvII/Qsq0ibDBgj/QwdODy8aCP1658n3my4I/67AReAHRgj95qDByHNaCPwegT2w324I/lZduZlLggj8ij41gbeWCP7CGrFqI6oI/Pn7LVKPvgj/LdepOvvSCP1ltCUnZ+YI/52QoQ/T+gj91XEc9DwSDPwJUZjcqCYM/kEuFMUUOgz8eQ6QrYBODP6w6wyV7GIM/OTLiH5Ydgz/HKQEasSKDP1UhIBTMJ4M/4xg/Ducsgz9wEF4IAjKDP/4HfQIdN4M/jP+b/Dc8gz8Z97r2UkGDP6fu2fBtRoM/Neb46ohLgz/D3Rflo1CDP1DVNt++VYM/3sxV2dlagz9sxHTT9F+DP/q7k80PZYM/h7Oyxypqgz8Vq9HBRW+DP6Oi8LtgdIM/MZoPtnt5gz++kS6wln6DP0yJTaqxg4M/2oBspMyIgz9neIue542DP/VvqpgCk4M/g2fJkh2Ygz8RX+iMOJ2DP55WB4dTooM/LE4mgW6ngz+6RUV7iayDP0g9ZHWksYM/1TSDb7+2gz9jLKJp2ruDP/EjwWP1wIM/fxvgXRDGgz8ME/9XK8uDP5oKHlJG0IM/KAI9TGHVgz+1+VtGfNqDP0PxekCX34M/0eiZOrLkgz9f4Lg0zemDP+zX1y7o7oM/es/2KAP0gz8IxxUjHvmDP5a+NB05/oM/I7ZTF1QDhD+xrXIRbwiEPz+lkQuKDYQ/zJywBaUShD9alM//vxeEP+iL7vnaHIQ/doMN9PUhhD8=",
          "dtype": "f8"
         },
         "y": {
          "bdata": "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",
          "dtype": "f8"
         }
        },
        {
         "error_y": {
          "array": {
           "bdata": "mz65zUS+YT8RqWVGjhVxPwmbps4AqG4/RZ2dy4TvaD9Nh3mY0QZnP0orXCSXtmg/kbjqzbkGdT87VZlvPTphP/6z858nBlU/Smd1Ot/vXT+VrgjQHFRhP9uNOWym3V8/pqk6Pw1oWz/wvpSnkNNjP2woA7nQu0w/jf0ngKvEYj/koBacPsxSP4kXbxxa4lk/atsWjTjOVD/RdbvfAaNUP/XEM5N4glQ/fSVio/tZXD+4iDh23v9XP5GRbplbPl4/hilYOqTdSz/mxD3ialRVP0iGamPrSlg/QTQ+WQ4+OT9oBH2q+m5UPz8n1qhXeVE/quHeCMK8Xj86stCTtq5WPz9HBvMH91M/ZbwfxBMnWT+O5dT6l+FSP5A7j1kctlg/c2sCSydFUj89rBBPrXxFP9hjlLO3d1E/x9Sl6KwpVj88WhN9/XdNP98Yvct95UM/HLfhhUqVUD/R2IsCzppGPwXw6XJxFkI/ld3LDeNvSj/YKmSnnolEP7nh7ELe80M/Ej7L8Pz3SD8uZHmQR4tNPzYK9gd7U0Q/Mom9tBx1Rz8WgMA3KmhHPw==",
           "dtype": "f8"
          },
          "color": "#4675ed",
          "thickness": 1.5,
          "type": "data",
          "width": 3
         },
         "marker": {
          "color": "#4675ed"
         },
         "mode": "markers",
         "name": "𝜈 = 50 kHz",
         "type": "scatter",
         "x": {
          "bdata": "Sa+8mvLXGj8xRRTu8DIeP43ttaD3xiA/grhhynZ0Ij92gw309SEkP2pOuR11zyU/XxllR/R8Jz9U5BBxcyopP0mvvJry1yo/MUUU7vAyLj+N7bWg98YwP4K4Ycp2dDI/doMN9PUhND9qTrkddc81P18ZZUf0fDc/VOQQcXMqOT9Jr7ya8tc6PzFFFO7wMj4/je21oPfGQD+CuGHKdnRCP3aDDfT1IUQ/ak65HXXPRT9fGWVH9HxHP1TkEHFzKkk/Sa+8mvLXSj8xRRTu8DJOP43ttaD3xlA/grhhynZ0Uj92gw309SFUP2pOuR11z1U/XxllR/R8Vz9U5BBxcypZP0mvvJry11o/MUUU7vAyXj+N7bWg98ZgP4K4Ycp2dGI/doMN9PUhZD9qTrkddc9lP18ZZUf0fGc/VOQQcXMqaT9Jr7ya8tdqPzFFFO7wMm4/je21oPfGcD+CuGHKdnRyP3aDDfT1IXQ/ak65HXXPdT9fGWVH9Hx3P1TkEHFzKnk/Sa+8mvLXej8xRRTu8DJ+P43ttaD3xoA/grhhynZ0gj92gw309SGEPw==",
          "dtype": "f8"
         },
         "y": {
          "bdata": "LEZda+9TuT+5yQPs/gy4P048sZgiCrc/YOHJE62Btj821UlsLYK1P8fOgB9697Q/lCr2PCQhtD9jM3Z4vlWzPzRBecSNALM/y6Da4ET0sT9LY2oBkMmwP3oXlA57Rq8/87heifZnrT/C9/4G7dWrP3LIYYs4+Kk/DopBu55DqD89EooIWtymP4GoRY6+k6Q/9SXAVUOHoT9MnCZ9a3GfPysLcItDR5w/c1zXeWUomD9uC+B3HbuVP0Wq3tBKEJQ/4DAs2negkT+rRDQVPUuLPxKRUOkWcIU/fUYawzl2gj++rexpJJV7P3TC+CfAyXk/gqU+uTulcj+fMgbvDp1sP8GYRva17Gg/F0suUmonYT/pcvf3IYhWPyQ8Rh4tc08/v/uZMFAIUz+6JEOYH9tJPy8UVWQZh08/skUw4PUxQD/q1RlCQlIzP5rN3nfeViK/NWWQg170H7+NpST4mnY1P60uEA1ePvE+15KLuqHsRz+VsPdhC+E7P3zATv5mmvu+4EQQwRpiCj9WuusHnVkgv573up1hkDI/K+xGeKtJKD90C/I2XEsUPw==",
          "dtype": "f8"
         }
        },
        {
         "hoverinfo": "skip",
         "line": {
          "color": "#1bcfd4"
         },
         "mode": "lines",
         "showlegend": false,
         "type": "scatter",
         "x": {
          "bdata": "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",
          "dtype": "f8"
         },
         "y": {
          "bdata": "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",
          "dtype": "f8"
         }
        },
        {
         "error_y": {
          "array": {
           "bdata": "iAZ17rpaYD8YGvlpuDJTP2Tcio67mVg/G7PewLDzYD+rR3Ym1n9YP0GlhCawKGE/bo3lgnVeUz/IGvQ+JpNSPw4mXaJoc1k/1JNjKjDdVT9ZaJ7hSvNUP4QAA4qF8VE/YwSGdHzDQj/CFU9smx5VPxQHcL+k3VA/8ip2hPKvTD805zgp6HlCP5etsgxt8EM/hyZtOrrAPT8+lNE9lrdGP/7XVGPCNk0/81W/62FOTT9uGvnrAaxQP7drlBagRU0/pmlrffzGSj+sRMkcoDBMP7/CKQCUDUQ/NtT9VXMrSD8C/QFysb1CP9ohi2YhYEY/C6LrEBaKUj8gcBnWJ7dQP5qgvZcaR0g/uSHJUX6oST/e8tLEmmhDP/b+cTXI+kc/U/uB/slYPj/JPr33mUtKP6ef5q+S/0g/eCTVzkX+Qj8Rc0lNypBAPxTm8L2hLkE/QYGDdWn7QD8uM0Zu62kzP39dIdCspDY/i9j5cZJfPz8YHPEeij49P0XiwluqLkI/ZxxZkO5VPT96Et+XCaM1P1dah8L16EE/GicCLBnkNz/tI5M8aNk5Pw==",
           "dtype": "f8"
          },
          "color": "#1bcfd4",
          "thickness": 1.5,
          "type": "data",
          "width": 3
         },
         "marker": {
          "color": "#1bcfd4"
         },
         "mode": "markers",
         "name": "𝜈 = 100 kHz",
         "type": "scatter",
         "x": {
          "bdata": "Sa+8mvLXGj8xRRTu8DIeP43ttaD3xiA/grhhynZ0Ij92gw309SEkP2pOuR11zyU/XxllR/R8Jz9U5BBxcyopP0mvvJry1yo/MUUU7vAyLj+N7bWg98YwP4K4Ycp2dDI/doMN9PUhND9qTrkddc81P18ZZUf0fDc/VOQQcXMqOT9Jr7ya8tc6PzFFFO7wMj4/je21oPfGQD+CuGHKdnRCP3aDDfT1IUQ/ak65HXXPRT9fGWVH9HxHP1TkEHFzKkk/Sa+8mvLXSj8xRRTu8DJOP43ttaD3xlA/grhhynZ0Uj92gw309SFUP2pOuR11z1U/XxllR/R8Vz9U5BBxcypZP0mvvJry11o/MUUU7vAyXj+N7bWg98ZgP4K4Ycp2dGI/doMN9PUhZD9qTrkddc9lP18ZZUf0fGc/VOQQcXMqaT9Jr7ya8tdqPzFFFO7wMm4/je21oPfGcD+CuGHKdnRyP3aDDfT1IXQ/ak65HXXPdT9fGWVH9Hx3P1TkEHFzKnk/Sa+8mvLXej8xRRTu8DJ+P43ttaD3xoA/grhhynZ0gj92gw309SGEPw==",
          "dtype": "f8"
         },
         "y": {
          "bdata": "0oJhCiDGrT8pjNJKxtasP8UEkDV+PKs/BQjVvJmHqj99LgkGxrCpP3Nz4IvlTKk/pllFJK9zqD+s4SL3dHWnP2krQCX48KY/pKQs6GJ4pT/DqjBsg8mjPzj688h6xaI/pI7pZASvoT+XNhyWBn6gPww9YvTcQp8/bijGQylrnT8zD6oeepybP0KS/gNRnJg/cQqGzsallT+S5jSw+siSP685rBUS1ZA/7YDrihnhjT+X3TjOEgmLPzXJ2YUwyIc/ZdNbTeg/hT8HyJ/BCfl+PwyVPRHdFnk/d/PYv4CYcz8a9t6MWJNwP18CnlFGnmw/QaKF2wz9ZD86atgxpkdgP5ANrPyVQl4/WvSQIa45Uz+3VT47SJ5HP0PIUzh9m0A/fnc/L1s5Kz9MbneDJpE2P4fLFsrGreM+enUUO6gxMj9L5QSlHFcpP9R6Ae5gYQS/6gsUvfv/Ij+uwYtWn78xP499tCs5ljM/XGBhUanDLj8NMurWQvsuP5RiuFwz8Bk/N1hCu2aZJT/KcBuRGNIrP/q5E38joDM/u1HaTf/B/z7kXvsqQq8kPw==",
          "dtype": "f8"
         }
        },
        {
         "hoverinfo": "skip",
         "line": {
          "color": "#61fc6c"
         },
         "mode": "lines",
         "showlegend": false,
         "type": "scatter",
         "x": {
          "bdata": "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",
          "dtype": "f8"
         },
         "y": {
          "bdata": "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",
          "dtype": "f8"
         }
        },
        {
         "error_y": {
          "array": {
           "bdata": "iqyX5h/qRz8rOaw9UqFQP+5PQASPrkM/aFM8blQSQz894bCZt29AP582Nr4hPEI/xYnYx7ttPz9cu34QlOJNP3Uqe60r8Ts/xiIbfuJQQT8mBlzgI5pAP042m/sd/UA/zRi9NrAFST+vQxlf9p1IP0wFXZnZb0Y/RLItIXljRj8RsD8rsek4P2bIJv+3gzw/a+kKKhEiMz8Z/WPBmjE7P+bWbvgeeTw/LGgn3SYhOT+J6S/4jPs0P+xFBluJT0I/f83qn/wBPj+gTawWSkBAP4ajkCqD0z4/uoKNU3/bOD/Ukxhiicc7P87vkSLU2Ds/whQIOX/nKj8h1oamnyYxP/qlp2/txjE/HE9wIpiqMT9AGjmNCIMxP+SMeVpSJTc/geNIsf2YMT8FY6+i1Nk1P8P+3yyuBDI/INzyjfHeMz+JVLDUuWQpP7MzKnFuZCU/OrZAGXECLj+VC+qweMEzP7ERPcDoAjU/+lLHuBuJNT9siO8UiWAxP9VX2MZU5zA/7YRogeF9MD9RBbiySUkmP1gNbKeDqy8/oKUjoc62LT+gvBy2xyklPw==",
           "dtype": "f8"
          },
          "color": "#61fc6c",
          "thickness": 1.5,
          "type": "data",
          "width": 3
         },
         "marker": {
          "color": "#61fc6c"
         },
         "mode": "markers",
         "name": "𝜈 = 200 kHz",
         "type": "scatter",
         "x": {
          "bdata": "Sa+8mvLXGj8xRRTu8DIeP43ttaD3xiA/grhhynZ0Ij92gw309SEkP2pOuR11zyU/XxllR/R8Jz9U5BBxcyopP0mvvJry1yo/MUUU7vAyLj+N7bWg98YwP4K4Ycp2dDI/doMN9PUhND9qTrkddc81P18ZZUf0fDc/VOQQcXMqOT9Jr7ya8tc6PzFFFO7wMj4/je21oPfGQD+CuGHKdnRCP3aDDfT1IUQ/ak65HXXPRT9fGWVH9HxHP1TkEHFzKkk/Sa+8mvLXSj8xRRTu8DJOP43ttaD3xlA/grhhynZ0Uj92gw309SFUP2pOuR11z1U/XxllR/R8Vz9U5BBxcypZP0mvvJry11o/MUUU7vAyXj+N7bWg98ZgP4K4Ycp2dGI/doMN9PUhZD9qTrkddc9lP18ZZUf0fGc/VOQQcXMqaT9Jr7ya8tdqPzFFFO7wMm4/je21oPfGcD+CuGHKdnRyP3aDDfT1IXQ/ak65HXXPdT9fGWVH9Hx3P1TkEHFzKnk/Sa+8mvLXej8xRRTu8DJ+P43ttaD3xoA/grhhynZ0gj92gw309SGEPw==",
          "dtype": "f8"
         },
         "y": {
          "bdata": "KD0d2abCoT+V8loJ3SWhP3KBcKpad6A/6YPAJVu4nz84EJIFTOCeP6JYE7DC0p0/I68YvzrYnD9bNRmfE4ycP4ocIm5OJZs/3VbE+lCzmT+fhyTEpt+XPwVcRqCwepY/DVjNzv0wlT+Xf+MhQhKUP57wbVVtkpI/x3PHrChvkT9z4DAs2neQPxtpBHaQMo0/Jp2Sve8pij+EygkkcguHP+tbQS7MnYQ/SufLJE0wgj+HAzr2YBCAP96Th4Va03w/3WxiNyLOeT9Kbl7mhYV0P9rw7NkQb28/Eb214erfaT9Y60Ct1HllP1vdPYITuGI/rfGhXei+Wj/6EK9G0V5YP5xBMtOsIlI/UkrGOQOGST8JPdq54kI7PwH9OkdPVzg/YP9hivPpIT+9uFddvFwqP9K45HY3aCI/9+OjOt4aGD98uHccJQAmP6aJAU6Lkw0/VNMHcbJECD9K1uo1eWYLv2HwlarAygK/O7gYXKOAJT+PldWBHrQPPxXOZrxKyh8/Z58TtxTUEz/ubvEyu9UgP09S9hysjf4+00dXZwDh/z5yMvqcfvrWvg==",
          "dtype": "f8"
         }
        },
        {
         "hoverinfo": "skip",
         "line": {
          "color": "#d1e834"
         },
         "mode": "lines",
         "showlegend": false,
         "type": "scatter",
         "x": {
          "bdata": "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",
          "dtype": "f8"
         },
         "y": {
          "bdata": "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",
          "dtype": "f8"
         }
        },
        {
         "error_y": {
          "array": {
           "bdata": "bsq5PVpMPz+bJo0yoiw+P8VXPs4M2Ds/5uYJQDZdQj+oqs+oPWQ9P/BB6gCRAzg/pdoDzS5+SD9y1OWmNDlEP3W68e+JjTU/nEFLvSRFPT8W8j+n9Bc6P0cTl1imh0A/+MYGMliDOj8VKv1yhDA9P7mIgSInVDU/mT2Q7tsXOz/jB5Aiu3E2P1Jo9WhxzjI/whMs1UALOj9HxnbtdgQpP0qkDwYZnzU/uP0wBaEKMT9WDi00rPIyP4Joh7MlODM/n95AghrJLj/DOyZxZykwPwIb2ed/XjQ/+JBE5Hy5OD9vFhHlq6gzP2PHcr+DWSc/nsFF6ZRQMD8rCU6VA7QyP5WiP80YCjI/OZ62d2n4Lj+RaIqVL78xPxUn9DtNPDA/EzfXLQIxLD/QnZ47koopP6Onv6i8PjA/K+/aeknhKD9u1TrCxM0sP90l4Po14Sg/Or9H5hGzJz8tjJxB3XEkP5vERMXZXDI/ZX2usRjzND+2Jw+tsKQyP/qSBh1o2yc/m2Txhk/VJj9bycz5QCksP2zE/shspyM/LG9qD1L9ID8O5UkaSwUhPw==",
           "dtype": "f8"
          },
          "color": "#d1e834",
          "thickness": 1.5,
          "type": "data",
          "width": 3
         },
         "marker": {
          "color": "#d1e834"
         },
         "mode": "markers",
         "name": "𝜈 = 300 kHz",
         "type": "scatter",
         "x": {
          "bdata": "Sa+8mvLXGj8xRRTu8DIeP43ttaD3xiA/grhhynZ0Ij92gw309SEkP2pOuR11zyU/XxllR/R8Jz9U5BBxcyopP0mvvJry1yo/MUUU7vAyLj+N7bWg98YwP4K4Ycp2dDI/doMN9PUhND9qTrkddc81P18ZZUf0fDc/VOQQcXMqOT9Jr7ya8tc6PzFFFO7wMj4/je21oPfGQD+CuGHKdnRCP3aDDfT1IUQ/ak65HXXPRT9fGWVH9HxHP1TkEHFzKkk/Sa+8mvLXSj8xRRTu8DJOP43ttaD3xlA/grhhynZ0Uj92gw309SFUP2pOuR11z1U/XxllR/R8Vz9U5BBxcypZP0mvvJry11o/MUUU7vAyXj+N7bWg98ZgP4K4Ycp2dGI/doMN9PUhZD9qTrkddc9lP18ZZUf0fGc/VOQQcXMqaT9Jr7ya8tdqPzFFFO7wMm4/je21oPfGcD+CuGHKdnRyP3aDDfT1IXQ/ak65HXXPdT9fGWVH9Hx3P1TkEHFzKnk/Sa+8mvLXej8xRRTu8DJ+P43ttaD3xoA/grhhynZ0gj92gw309SGEPw==",
          "dtype": "f8"
         },
         "y": {
          "bdata": "cV9ih4yimj9hG/FkNzOaP9hXaDHCJZk/170ViQlqmD8LwWDt3kCXP0StxJfk25Y/lmR4RyEklj9baQh9n2CVP4/Ey9O5opQ/ySR+INSgkz/NVZhjHp6SP+qaJPFNLpE/C5aPSesUkD/A7zp2q0KOP8pChTR0/Yw/hjNk4ZCyij+U1RmEXiSJPz1tQ3urZIY/CveIoIORgz8mp/q+TbmBPyNqP6WMsH8/r5/VNLWNez96tXH+BQZ5P+GcrnoCWXY/GFYaxhfMcz+Oy9m3aglvP3r5AFHuRmg/lqBUNSDGZD9PhvQlZZxgPzzAUfpbZVo/3w3U7+PkVT/29I2/H0RTP8viOM9c0FA/jVH/osmaSD9Lts6A+bJEP6F0dQl/bTo/A7ZxLj8cNj90NyxmtPAtP1EFnNhV3iQ/4NRwmhEoGj/jmdfelcckP0fTElBFDxM/rsXx+/N/Ej/Ht+SpKA0uP8YAyIqTWzA/6+VWjONVMD+fuPtXOPvqvqg5M+GikRK/Xq/KNIPABr99A/PWkGYSP7rLzGxaoPI+4S3sfpDL8T5H9HdeRov1Pg==",
          "dtype": "f8"
         }
        }
       ],
       "layout": {
        "font": {
         "color": "Black",
         "size": 18
        },
        "height": 600,
        "legend": {
         "bgcolor": "rgba(255, 255, 255, 0.5)",
         "bordercolor": "black",
         "borderwidth": 1,
         "traceorder": "normal",
         "x": 0.98,
         "xanchor": "right",
         "y": 0.98,
         "yanchor": "top"
        },
        "plot_bgcolor": "white",
        "template": {
         "data": {
          "bar": [
           {
            "error_x": {
             "color": "#2a3f5f"
            },
            "error_y": {
             "color": "#2a3f5f"
            },
            "marker": {
             "line": {
              "color": "#E5ECF6",
              "width": 0.5
             },
             "pattern": {
              "fillmode": "overlay",
              "size": 10,
              "solidity": 0.2
             }
            },
            "type": "bar"
           }
          ],
          "barpolar": [
           {
            "marker": {
             "line": {
              "color": "#E5ECF6",
              "width": 0.5
             },
             "pattern": {
              "fillmode": "overlay",
              "size": 10,
              "solidity": 0.2
             }
            },
            "type": "barpolar"
           }
          ],
          "carpet": [
           {
            "aaxis": {
             "endlinecolor": "#2a3f5f",
             "gridcolor": "white",
             "linecolor": "white",
             "minorgridcolor": "white",
             "startlinecolor": "#2a3f5f"
            },
            "baxis": {
             "endlinecolor": "#2a3f5f",
             "gridcolor": "white",
             "linecolor": "white",
             "minorgridcolor": "white",
             "startlinecolor": "#2a3f5f"
            },
            "type": "carpet"
           }
          ],
          "choropleth": [
           {
            "colorbar": {
             "outlinewidth": 0,
             "ticks": ""
            },
            "type": "choropleth"
           }
          ],
          "contour": [
           {
            "colorbar": {
             "outlinewidth": 0,
             "ticks": ""
            },
            "colorscale": [
             [
              0,
              "#0d0887"
             ],
             [
              0.1111111111111111,
              "#46039f"
             ],
             [
              0.2222222222222222,
              "#7201a8"
             ],
             [
              0.3333333333333333,
              "#9c179e"
             ],
             [
              0.4444444444444444,
              "#bd3786"
             ],
             [
              0.5555555555555556,
              "#d8576b"
             ],
             [
              0.6666666666666666,
              "#ed7953"
             ],
             [
              0.7777777777777778,
              "#fb9f3a"
             ],
             [
              0.8888888888888888,
              "#fdca26"
             ],
             [
              1,
              "#f0f921"
             ]
            ],
            "type": "contour"
           }
          ],
          "contourcarpet": [
           {
            "colorbar": {
             "outlinewidth": 0,
             "ticks": ""
            },
            "type": "contourcarpet"
           }
          ],
          "heatmap": [
           {
            "colorbar": {
             "outlinewidth": 0,
             "ticks": ""
            },
            "colorscale": [
             [
              0,
              "#0d0887"
             ],
             [
              0.1111111111111111,
              "#46039f"
             ],
             [
              0.2222222222222222,
              "#7201a8"
             ],
             [
              0.3333333333333333,
              "#9c179e"
             ],
             [
              0.4444444444444444,
              "#bd3786"
             ],
             [
              0.5555555555555556,
              "#d8576b"
             ],
             [
              0.6666666666666666,
              "#ed7953"
             ],
             [
              0.7777777777777778,
              "#fb9f3a"
             ],
             [
              0.8888888888888888,
              "#fdca26"
             ],
             [
              1,
              "#f0f921"
             ]
            ],
            "type": "heatmap"
           }
          ],
          "histogram": [
           {
            "marker": {
             "pattern": {
              "fillmode": "overlay",
              "size": 10,
              "solidity": 0.2
             }
            },
            "type": "histogram"
           }
          ],
          "histogram2d": [
           {
            "colorbar": {
             "outlinewidth": 0,
             "ticks": ""
            },
            "colorscale": [
             [
              0,
              "#0d0887"
             ],
             [
              0.1111111111111111,
              "#46039f"
             ],
             [
              0.2222222222222222,
              "#7201a8"
             ],
             [
              0.3333333333333333,
              "#9c179e"
             ],
             [
              0.4444444444444444,
              "#bd3786"
             ],
             [
              0.5555555555555556,
              "#d8576b"
             ],
             [
              0.6666666666666666,
              "#ed7953"
             ],
             [
              0.7777777777777778,
              "#fb9f3a"
             ],
             [
              0.8888888888888888,
              "#fdca26"
             ],
             [
              1,
              "#f0f921"
             ]
            ],
            "type": "histogram2d"
           }
          ],
          "histogram2dcontour": [
           {
            "colorbar": {
             "outlinewidth": 0,
             "ticks": ""
            },
            "colorscale": [
             [
              0,
              "#0d0887"
             ],
             [
              0.1111111111111111,
              "#46039f"
             ],
             [
              0.2222222222222222,
              "#7201a8"
             ],
             [
              0.3333333333333333,
              "#9c179e"
             ],
             [
              0.4444444444444444,
              "#bd3786"
             ],
             [
              0.5555555555555556,
              "#d8576b"
             ],
             [
              0.6666666666666666,
              "#ed7953"
             ],
             [
              0.7777777777777778,
              "#fb9f3a"
             ],
             [
              0.8888888888888888,
              "#fdca26"
             ],
             [
              1,
              "#f0f921"
             ]
            ],
            "type": "histogram2dcontour"
           }
          ],
          "mesh3d": [
           {
            "colorbar": {
             "outlinewidth": 0,
             "ticks": ""
            },
            "type": "mesh3d"
           }
          ],
          "parcoords": [
           {
            "line": {
             "colorbar": {
              "outlinewidth": 0,
              "ticks": ""
             }
            },
            "type": "parcoords"
           }
          ],
          "pie": [
           {
            "automargin": true,
            "type": "pie"
           }
          ],
          "scatter": [
           {
            "fillpattern": {
             "fillmode": "overlay",
             "size": 10,
             "solidity": 0.2
            },
            "type": "scatter"
           }
          ],
          "scatter3d": [
           {
            "line": {
             "colorbar": {
              "outlinewidth": 0,
              "ticks": ""
             }
            },
            "marker": {
             "colorbar": {
              "outlinewidth": 0,
              "ticks": ""
             }
            },
            "type": "scatter3d"
           }
          ],
          "scattercarpet": [
           {
            "marker": {
             "colorbar": {
              "outlinewidth": 0,
              "ticks": ""
             }
            },
            "type": "scattercarpet"
           }
          ],
          "scattergeo": [
           {
            "marker": {
             "colorbar": {
              "outlinewidth": 0,
              "ticks": ""
             }
            },
            "type": "scattergeo"
           }
          ],
          "scattergl": [
           {
            "marker": {
             "colorbar": {
              "outlinewidth": 0,
              "ticks": ""
             }
            },
            "type": "scattergl"
           }
          ],
          "scattermap": [
           {
            "marker": {
             "colorbar": {
              "outlinewidth": 0,
              "ticks": ""
             }
            },
            "type": "scattermap"
           }
          ],
          "scattermapbox": [
           {
            "marker": {
             "colorbar": {
              "outlinewidth": 0,
              "ticks": ""
             }
            },
            "type": "scattermapbox"
           }
          ],
          "scatterpolar": [
           {
            "marker": {
             "colorbar": {
              "outlinewidth": 0,
              "ticks": ""
             }
            },
            "type": "scatterpolar"
           }
          ],
          "scatterpolargl": [
           {
            "marker": {
             "colorbar": {
              "outlinewidth": 0,
              "ticks": ""
             }
            },
            "type": "scatterpolargl"
           }
          ],
          "scatterternary": [
           {
            "marker": {
             "colorbar": {
              "outlinewidth": 0,
              "ticks": ""
             }
            },
            "type": "scatterternary"
           }
          ],
          "surface": [
           {
            "colorbar": {
             "outlinewidth": 0,
             "ticks": ""
            },
            "colorscale": [
             [
              0,
              "#0d0887"
             ],
             [
              0.1111111111111111,
              "#46039f"
             ],
             [
              0.2222222222222222,
              "#7201a8"
             ],
             [
              0.3333333333333333,
              "#9c179e"
             ],
             [
              0.4444444444444444,
              "#bd3786"
             ],
             [
              0.5555555555555556,
              "#d8576b"
             ],
             [
              0.6666666666666666,
              "#ed7953"
             ],
             [
              0.7777777777777778,
              "#fb9f3a"
             ],
             [
              0.8888888888888888,
              "#fdca26"
             ],
             [
              1,
              "#f0f921"
             ]
            ],
            "type": "surface"
           }
          ],
          "table": [
           {
            "cells": {
             "fill": {
              "color": "#EBF0F8"
             },
             "line": {
              "color": "white"
             }
            },
            "header": {
             "fill": {
              "color": "#C8D4E3"
             },
             "line": {
              "color": "white"
             }
            },
            "type": "table"
           }
          ]
         },
         "layout": {
          "annotationdefaults": {
           "arrowcolor": "#2a3f5f",
           "arrowhead": 0,
           "arrowwidth": 1
          },
          "autotypenumbers": "strict",
          "coloraxis": {
           "colorbar": {
            "outlinewidth": 0,
            "ticks": ""
           }
          },
          "colorscale": {
           "diverging": [
            [
             0,
             "#8e0152"
            ],
            [
             0.1,
             "#c51b7d"
            ],
            [
             0.2,
             "#de77ae"
            ],
            [
             0.3,
             "#f1b6da"
            ],
            [
             0.4,
             "#fde0ef"
            ],
            [
             0.5,
             "#f7f7f7"
            ],
            [
             0.6,
             "#e6f5d0"
            ],
            [
             0.7,
             "#b8e186"
            ],
            [
             0.8,
             "#7fbc41"
            ],
            [
             0.9,
             "#4d9221"
            ],
            [
             1,
             "#276419"
            ]
           ],
           "sequential": [
            [
             0,
             "#0d0887"
            ],
            [
             0.1111111111111111,
             "#46039f"
            ],
            [
             0.2222222222222222,
             "#7201a8"
            ],
            [
             0.3333333333333333,
             "#9c179e"
            ],
            [
             0.4444444444444444,
             "#bd3786"
            ],
            [
             0.5555555555555556,
             "#d8576b"
            ],
            [
             0.6666666666666666,
             "#ed7953"
            ],
            [
             0.7777777777777778,
             "#fb9f3a"
            ],
            [
             0.8888888888888888,
             "#fdca26"
            ],
            [
             1,
             "#f0f921"
            ]
           ],
           "sequentialminus": [
            [
             0,
             "#0d0887"
            ],
            [
             0.1111111111111111,
             "#46039f"
            ],
            [
             0.2222222222222222,
             "#7201a8"
            ],
            [
             0.3333333333333333,
             "#9c179e"
            ],
            [
             0.4444444444444444,
             "#bd3786"
            ],
            [
             0.5555555555555556,
             "#d8576b"
            ],
            [
             0.6666666666666666,
             "#ed7953"
            ],
            [
             0.7777777777777778,
             "#fb9f3a"
            ],
            [
             0.8888888888888888,
             "#fdca26"
            ],
            [
             1,
             "#f0f921"
            ]
           ]
          },
          "colorway": [
           "#636efa",
           "#EF553B",
           "#00cc96",
           "#ab63fa",
           "#FFA15A",
           "#19d3f3",
           "#FF6692",
           "#B6E880",
           "#FF97FF",
           "#FECB52"
          ],
          "font": {
           "color": "#2a3f5f"
          },
          "geo": {
           "bgcolor": "white",
           "lakecolor": "white",
           "landcolor": "#E5ECF6",
           "showlakes": true,
           "showland": true,
           "subunitcolor": "white"
          },
          "hoverlabel": {
           "align": "left"
          },
          "hovermode": "closest",
          "mapbox": {
           "style": "light"
          },
          "paper_bgcolor": "white",
          "plot_bgcolor": "#E5ECF6",
          "polar": {
           "angularaxis": {
            "gridcolor": "white",
            "linecolor": "white",
            "ticks": ""
           },
           "bgcolor": "#E5ECF6",
           "radialaxis": {
            "gridcolor": "white",
            "linecolor": "white",
            "ticks": ""
           }
          },
          "scene": {
           "xaxis": {
            "backgroundcolor": "#E5ECF6",
            "gridcolor": "white",
            "gridwidth": 2,
            "linecolor": "white",
            "showbackground": true,
            "ticks": "",
            "zerolinecolor": "white"
           },
           "yaxis": {
            "backgroundcolor": "#E5ECF6",
            "gridcolor": "white",
            "gridwidth": 2,
            "linecolor": "white",
            "showbackground": true,
            "ticks": "",
            "zerolinecolor": "white"
           },
           "zaxis": {
            "backgroundcolor": "#E5ECF6",
            "gridcolor": "white",
            "gridwidth": 2,
            "linecolor": "white",
            "showbackground": true,
            "ticks": "",
            "zerolinecolor": "white"
           }
          },
          "shapedefaults": {
           "line": {
            "color": "#2a3f5f"
           }
          },
          "ternary": {
           "aaxis": {
            "gridcolor": "white",
            "linecolor": "white",
            "ticks": ""
           },
           "baxis": {
            "gridcolor": "white",
            "linecolor": "white",
            "ticks": ""
           },
           "bgcolor": "#E5ECF6",
           "caxis": {
            "gridcolor": "white",
            "linecolor": "white",
            "ticks": ""
           }
          },
          "title": {
           "x": 0.05
          },
          "xaxis": {
           "automargin": true,
           "gridcolor": "white",
           "linecolor": "white",
           "ticks": "",
           "title": {
            "standoff": 15
           },
           "zerolinecolor": "white",
           "zerolinewidth": 2
          },
          "yaxis": {
           "automargin": true,
           "gridcolor": "white",
           "linecolor": "white",
           "ticks": "",
           "title": {
            "standoff": 15
           },
           "zerolinecolor": "white",
           "zerolinewidth": 2
          }
         }
        },
        "width": 800,
        "xaxis": {
         "gridcolor": "lightgrey",
         "linecolor": "black",
         "mirror": true,
         "range": [
          -4,
          -2
         ],
         "showline": true,
         "ticks": "outside",
         "title": {
          "text": "t (s)"
         },
         "type": "log"
        },
        "yaxis": {
         "gridcolor": "lightgrey",
         "linecolor": "black",
         "mirror": true,
         "showline": true,
         "ticks": "outside",
         "title": {
          "text": "G<sup>2</sup>(τ)"
         }
        }
       }
      }
     },
     "metadata": {},
     "output_type": "display_data"
    }
   ],
   "source": [
    "colors = px.colors.sequential.Turbo\n",
    "\n",
    "fig = go.Figure()\n",
    "for i,𝜈 in enumerate(data.keys()):\n",
    "    x = data[𝜈]['t']\n",
    "    y = data[𝜈]['g']\n",
    "    γ = data[𝜈]['gamma']\n",
    "    sigmay = data[𝜈]['sigmag']\n",
    "    X,Y = data[𝜈]['fit'].draw()\n",
    "\n",
    "    # plt.plot(X,Y)\n",
    "    # plt.xlim(0,1)\n",
    "    # plt.show()\n",
    "\n",
    "    fig.add_trace(go.Scatter(x=X, y=Y, mode='lines',line_color=colors[2 * i], showlegend=False,hoverinfo='skip'))\n",
    "\n",
    "    fig.add_trace(go.Scatter(x=x,y=y, mode='markers', name=f'𝜈 = {𝜈} kHz',\n",
    "        marker=dict(color = colors[2 * i]),\n",
    "        error_y=dict( \n",
    "\t\t\ttype='data', \n",
    "\t\t\tarray = sigmay, \n",
    "\t\t\tcolor = colors[2 * i],\n",
    "\t\t\tthickness = 1.5, \n",
    "\t\t\twidth = 3, \n",
    "\t\t)))\n",
    "\n",
    "fig.update_layout(\n",
    "    xaxis_type = \"log\",\n",
    "    yaxis_title = \"G<sup>2</sup>(τ)\",\n",
    "    xaxis_title = \"t (s)\",\n",
    "    xaxis = dict(range = [np.log10(0.0001), np.log10(0.010)]),\n",
    "    width = 800,\n",
    "    height = 600,\n",
    "    plot_bgcolor = 'white',\n",
    "    font = dict(\n",
    "        size = 18,\n",
    "        color = \"Black\"\n",
    "    ),\n",
    "    legend=dict(\n",
    "        x=0.98,\n",
    "        y=0.98,\n",
    "        xanchor='right',\n",
    "        yanchor='top',\n",
    "        traceorder='normal',\n",
    "        bgcolor='rgba(255, 255, 255, 0.5)',\n",
    "        bordercolor='black',\n",
    "        borderwidth=1\n",
    "    )\n",
    "    )\n",
    "\n",
    "fig.update_xaxes(\n",
    "    mirror = True,\n",
    "    ticks = 'outside',\n",
    "    showline = True,\n",
    "    linecolor = 'black',\n",
    "    gridcolor = 'lightgrey'\n",
    ")\n",
    "fig.update_yaxes(\n",
    "    mirror = True,\n",
    "    ticks = 'outside',\n",
    "    showline = True,\n",
    "    linecolor = 'black',\n",
    "    gridcolor = 'lightgrey'\n",
    ")\n",
    "\n",
    "fig.show()"
   ]
  },
  {
   "cell_type": "code",
   "execution_count": 7,
   "id": "71324910",
   "metadata": {},
   "outputs": [
    {
     "data": {
      "text/html": [
       "<div>\n",
       "<style scoped>\n",
       "    .dataframe tbody tr th:only-of-type {\n",
       "        vertical-align: middle;\n",
       "    }\n",
       "\n",
       "    .dataframe tbody tr th {\n",
       "        vertical-align: top;\n",
       "    }\n",
       "\n",
       "    .dataframe thead th {\n",
       "        text-align: right;\n",
       "    }\n",
       "</style>\n",
       "<table border=\"1\" class=\"dataframe\">\n",
       "  <thead>\n",
       "    <tr style=\"text-align: right;\">\n",
       "      <th></th>\n",
       "      <th>𝜈</th>\n",
       "      <th>R</th>\n",
       "      <th>σR</th>\n",
       "      <th>fval</th>\n",
       "    </tr>\n",
       "  </thead>\n",
       "  <tbody>\n",
       "    <tr>\n",
       "      <th>0</th>\n",
       "      <td>25</td>\n",
       "      <td>59.340786</td>\n",
       "      <td>1.192081</td>\n",
       "      <td>59.34 ± 1.19 nm</td>\n",
       "    </tr>\n",
       "    <tr>\n",
       "      <th>1</th>\n",
       "      <td>50</td>\n",
       "      <td>61.896377</td>\n",
       "      <td>0.950006</td>\n",
       "      <td>61.9 ± 0.95 nm</td>\n",
       "    </tr>\n",
       "    <tr>\n",
       "      <th>2</th>\n",
       "      <td>100</td>\n",
       "      <td>61.101572</td>\n",
       "      <td>0.960048</td>\n",
       "      <td>61.1 ± 0.96 nm</td>\n",
       "    </tr>\n",
       "    <tr>\n",
       "      <th>3</th>\n",
       "      <td>200</td>\n",
       "      <td>62.523991</td>\n",
       "      <td>0.852022</td>\n",
       "      <td>62.52 ± 0.85 nm</td>\n",
       "    </tr>\n",
       "    <tr>\n",
       "      <th>4</th>\n",
       "      <td>300</td>\n",
       "      <td>62.643671</td>\n",
       "      <td>0.796400</td>\n",
       "      <td>62.64 ± 0.8 nm</td>\n",
       "    </tr>\n",
       "  </tbody>\n",
       "</table>\n",
       "</div>"
      ],
      "text/plain": [
       "     𝜈          R        σR             fval\n",
       "0   25  59.340786  1.192081  59.34 ± 1.19 nm\n",
       "1   50  61.896377  0.950006   61.9 ± 0.95 nm\n",
       "2  100  61.101572  0.960048   61.1 ± 0.96 nm\n",
       "3  200  62.523991  0.852022  62.52 ± 0.85 nm\n",
       "4  300  62.643671  0.796400   62.64 ± 0.8 nm"
      ]
     },
     "metadata": {},
     "output_type": "display_data"
    }
   ],
   "source": [
    "def calculate_R(gamma):\n",
    "    R = (16 * np.pi * n**2 * T * KB * np.sin(np.radians(θ) / 2)**2) / (3 * η * λ**2 * gamma)\n",
    "    return R\n",
    "\n",
    "def calculate_sigma_R(gamma, sigma_gamma,sigmaT, theta = 90):\n",
    "    theta_rad = np.radians(theta)\n",
    "    term1 = sigma_gamma /gamma\n",
    "    term2 = sigmaT/T\n",
    "    return (16 * np.pi * n**2 * T * KB * np.sin(theta_rad / 2)**2) / (3 * η * λ**2 * gamma) * np.sqrt(term1**2 + term2**2)\n",
    "\n",
    "R_values = calculate_R(GAMMA)\n",
    "sigma_R = calculate_sigma_R(GAMMA, sigmaGAMMA,sigmaT)\n",
    "\n",
    "R = pd.DataFrame({'𝜈':IRIDE,'R':R_values,'σR':sigma_R,'fval':[final_val(R,sR,2,0,'nm') for R,sR in zip(R_values,sigma_R)]})\n",
    "display(R)"
   ]
  },
  {
   "cell_type": "code",
   "execution_count": 8,
   "id": "0d8189b2",
   "metadata": {},
   "outputs": [
    {
     "name": "stdout",
     "output_type": "stream",
     "text": [
      "R = 61.8 ± 0.4 nm\n"
     ]
    },
    {
     "data": {
      "text/html": [
       "<div>\n",
       "<style scoped>\n",
       "    .dataframe tbody tr th:only-of-type {\n",
       "        vertical-align: middle;\n",
       "    }\n",
       "\n",
       "    .dataframe tbody tr th {\n",
       "        vertical-align: top;\n",
       "    }\n",
       "\n",
       "    .dataframe thead th {\n",
       "        text-align: right;\n",
       "    }\n",
       "</style>\n",
       "<table border=\"1\" class=\"dataframe\">\n",
       "  <thead>\n",
       "    <tr style=\"text-align: right;\">\n",
       "      <th></th>\n",
       "      <th>𝜈</th>\n",
       "      <th>t</th>\n",
       "      <th>perc</th>\n",
       "    </tr>\n",
       "  </thead>\n",
       "  <tbody>\n",
       "    <tr>\n",
       "      <th>0</th>\n",
       "      <td>25</td>\n",
       "      <td>1.942</td>\n",
       "      <td>97.0%</td>\n",
       "    </tr>\n",
       "    <tr>\n",
       "      <th>1</th>\n",
       "      <td>50</td>\n",
       "      <td>0.102</td>\n",
       "      <td>54.0%</td>\n",
       "    </tr>\n",
       "    <tr>\n",
       "      <th>2</th>\n",
       "      <td>100</td>\n",
       "      <td>0.659</td>\n",
       "      <td>75.0%</td>\n",
       "    </tr>\n",
       "    <tr>\n",
       "      <th>3</th>\n",
       "      <td>200</td>\n",
       "      <td>0.774</td>\n",
       "      <td>78.0%</td>\n",
       "    </tr>\n",
       "    <tr>\n",
       "      <th>4</th>\n",
       "      <td>300</td>\n",
       "      <td>0.951</td>\n",
       "      <td>83.0%</td>\n",
       "    </tr>\n",
       "  </tbody>\n",
       "</table>\n",
       "</div>"
      ],
      "text/plain": [
       "     𝜈      t   perc\n",
       "0   25  1.942  97.0%\n",
       "1   50  0.102  54.0%\n",
       "2  100  0.659  75.0%\n",
       "3  200  0.774  78.0%\n",
       "4  300  0.951  83.0%"
      ]
     },
     "metadata": {},
     "output_type": "display_data"
    }
   ],
   "source": [
    "mean_R = np.average(R_values,weights=1/sigma_R**2)\n",
    "sigma_mean_R = np.sqrt(1/np.sum(1/sigma_R**2))\n",
    "print(f'R = {final_val(mean_R,sigma_mean_R,1,0,\"nm\")}')\n",
    "\n",
    "# COMPATIBILITA'\n",
    "\n",
    "from scipy.stats import norm\n",
    "\n",
    "ts = []\n",
    "perc = []\n",
    "for R,σR in zip(R_values,sigma_R):\n",
    "    σ = np.sqrt(σR**2 + sigma_mean_R**2)\n",
    "    t = np.round(np.abs(R-mean_R)/σ,3)\n",
    "    ts.append(t)\n",
    "    perc.append(f\"{np.round(norm.cdf(t)*100)}%\")\n",
    "\n",
    "compatibilità = pd.DataFrame({'𝜈':IRIDE,'t':ts,'perc':perc})\n",
    "display(compatibilità)"
   ]
  }
 ],
 "metadata": {
  "kernelspec": {
   "display_name": "Python 3",
   "language": "python",
   "name": "python3"
  },
  "language_info": {
   "codemirror_mode": {
    "name": "ipython",
    "version": 3
   },
   "file_extension": ".py",
   "mimetype": "text/x-python",
   "name": "python",
   "nbconvert_exporter": "python",
   "pygments_lexer": "ipython3",
   "version": "3.13.0"
  }
 },
 "nbformat": 4,
 "nbformat_minor": 5
}
