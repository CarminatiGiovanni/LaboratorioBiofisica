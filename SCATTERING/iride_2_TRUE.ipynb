{
 "cells": [
  {
   "cell_type": "markdown",
   "id": "2e588ab5",
   "metadata": {},
   "source": [
    "# IRIDE\n",
    "\n",
    "$\\theta$ = 90°\n",
    "\n",
    "nota, i valori sono approssimativi $\\pm$ 20kHz \n",
    "\n",
    "$\\nu$ = frequenza fotoni rilevati"
   ]
  },
  {
   "cell_type": "code",
   "execution_count": 7,
   "id": "edd24ea4",
   "metadata": {},
   "outputs": [
    {
     "name": "stdout",
     "output_type": "stream",
     "text": [
      "c:\\Users\\jocar\\Desktop\\LaboratorioBiofisica\\SCATTERING\n"
     ]
    }
   ],
   "source": [
    "from matplotlib import pyplot as plt\n",
    "import numpy as np\n",
    "import pandas as pd\n",
    "import plotly.express as px\n",
    "import os\n",
    "import sys\n",
    "import plotly.graph_objects as go \n",
    "dir_path = os.path.abspath('')\n",
    "sys.path.append(dir_path)\n",
    "print(dir_path)\n",
    "from labbiofisica import Interpolazione, final_val"
   ]
  },
  {
   "cell_type": "code",
   "execution_count": 23,
   "id": "bcf69687",
   "metadata": {},
   "outputs": [],
   "source": [
    "# Constants\n",
    "n = 1.33 # index of refraction\n",
    "η = 10**-9  # g/(nm*s) viscosity of water\n",
    "λ = 633  # nm wavelength of the laser\n",
    "T = 293  # K temperature\n",
    "KB = 1.3806e-2  # g (nm)^2 / s^2 K boltzmann constant\n",
    "\n",
    "sigmaT = 1 \n",
    "sigmaη = 0.01*10**-9\n",
    "sigman = 0.01"
   ]
  },
  {
   "cell_type": "code",
   "execution_count": 18,
   "id": "ba2aa210",
   "metadata": {},
   "outputs": [],
   "source": [
    "# Carico i dati {f: {t: [], g: [], sigmag: []}}\n",
    "θ = 90\n",
    "data = {}\n",
    "\n",
    "IRIDE = [25, 50, 200, 300]   # f = frequenze delle varie aperture\n",
    "GAMMA = []\n",
    "sigmaGAMMA = []\n",
    "\n",
    "# t convertito in secondi, si considerano dati solo tra 0.1 e 10 ms a causa del rumore\n",
    "for 𝜈 in IRIDE: \n",
    "    filename = f'./data2/g_iride_{𝜈}_2.asc'\n",
    "    \n",
    "    read = pd.read_csv(filename, skiprows=30, nrows=245 - 30, sep='\\t', encoding='ISO-8859-1')\n",
    "\n",
    "    # print(read.columns[2:12])\n",
    "\n",
    "    read = read[(read['Lag [ms]'] >= 0.1) & (read['Lag [ms]'] <= 10)]\n",
    "    read['std'] = read.loc[:, read.columns[2:12]].std(axis=1) # converto in secondi\n",
    "    \n",
    "    t = read['Lag [ms]'].to_numpy()/1000\n",
    "    g = read['Average'].to_numpy()\n",
    "    σg = read['std'].to_numpy()/np.sqrt(9)\n",
    "    \n",
    "    data[𝜈] = {'t':t,'g':g,'sigmag': σg} # converto in secondi\n",
    "\n",
    "IRIDE = np.array(IRIDE)\n",
    "#print(data)"
   ]
  },
  {
   "cell_type": "code",
   "execution_count": 19,
   "id": "35e07368",
   "metadata": {},
   "outputs": [],
   "source": [
    "# fit data\n",
    "CHI_r = []\n",
    "DOF = []\n",
    "PVALUE = []\n",
    "\n",
    "f = lambda x, A, B, γ: A*np.exp(-γ*x) + B\n",
    "\n",
    "for key in data.keys():\n",
    "    x = data[key]['t']\n",
    "    y = data[key]['g']\n",
    "    sigmay = data[key]['sigmag']\n",
    "    m = Interpolazione(x, y, sigmay, f, [0.05, 0.001, 2.7],['A','B','γ'])\n",
    "    data[key]['fit'] = m\n",
    "    # print(m.values['γ'])\n",
    "    data[key]['gamma'] = m.values['γ']\n",
    "    GAMMA.append(m.values['γ'])\n",
    "    sigmaGAMMA.append(m.errors['γ'])\n",
    "    CHI_r.append(m.rchi2)\n",
    "    DOF = m.dof\n",
    "    PVALUE.append(m.pvalue)\n",
    "\n",
    "GAMMA = np.array(GAMMA) \n",
    "sigmaGAMMA = np.array(sigmaGAMMA)"
   ]
  },
  {
   "cell_type": "code",
   "execution_count": 20,
   "id": "36285f5b",
   "metadata": {},
   "outputs": [
    {
     "name": "stdout",
     "output_type": "stream",
     "text": [
      "---------------------------FIT RESULT----------------------------\n"
     ]
    },
    {
     "data": {
      "text/html": [
       "<div>\n",
       "<style scoped>\n",
       "    .dataframe tbody tr th:only-of-type {\n",
       "        vertical-align: middle;\n",
       "    }\n",
       "\n",
       "    .dataframe tbody tr th {\n",
       "        vertical-align: top;\n",
       "    }\n",
       "\n",
       "    .dataframe thead th {\n",
       "        text-align: right;\n",
       "    }\n",
       "</style>\n",
       "<table border=\"1\" class=\"dataframe\">\n",
       "  <thead>\n",
       "    <tr style=\"text-align: right;\">\n",
       "      <th></th>\n",
       "      <th>𝜈</th>\n",
       "      <th>γ</th>\n",
       "      <th>σγ</th>\n",
       "      <th>γ_out</th>\n",
       "      <th>pvalue</th>\n",
       "      <th>chir</th>\n",
       "      <th>dof</th>\n",
       "    </tr>\n",
       "  </thead>\n",
       "  <tbody>\n",
       "    <tr>\n",
       "      <th>0</th>\n",
       "      <td>25</td>\n",
       "      <td>2521.138258</td>\n",
       "      <td>16.636726</td>\n",
       "      <td>(2.52 ± 0.02)e3 Hz</td>\n",
       "      <td>0.31</td>\n",
       "      <td>1.09</td>\n",
       "      <td>50</td>\n",
       "    </tr>\n",
       "    <tr>\n",
       "      <th>1</th>\n",
       "      <td>50</td>\n",
       "      <td>2417.044958</td>\n",
       "      <td>12.056272</td>\n",
       "      <td>(2.42 ± 0.01)e3 Hz</td>\n",
       "      <td>0.00</td>\n",
       "      <td>2.69</td>\n",
       "      <td>50</td>\n",
       "    </tr>\n",
       "    <tr>\n",
       "      <th>2</th>\n",
       "      <td>200</td>\n",
       "      <td>2392.782710</td>\n",
       "      <td>10.522507</td>\n",
       "      <td>(2.39 ± 0.01)e3 Hz</td>\n",
       "      <td>0.01</td>\n",
       "      <td>1.56</td>\n",
       "      <td>50</td>\n",
       "    </tr>\n",
       "    <tr>\n",
       "      <th>3</th>\n",
       "      <td>300</td>\n",
       "      <td>2388.238952</td>\n",
       "      <td>9.749063</td>\n",
       "      <td>(2.39 ± 0.01)e3 Hz</td>\n",
       "      <td>0.00</td>\n",
       "      <td>2.68</td>\n",
       "      <td>50</td>\n",
       "    </tr>\n",
       "  </tbody>\n",
       "</table>\n",
       "</div>"
      ],
      "text/plain": [
       "     𝜈            γ         σγ               γ_out  pvalue  chir  dof\n",
       "0   25  2521.138258  16.636726  (2.52 ± 0.02)e3 Hz    0.31  1.09   50\n",
       "1   50  2417.044958  12.056272  (2.42 ± 0.01)e3 Hz    0.00  2.69   50\n",
       "2  200  2392.782710  10.522507  (2.39 ± 0.01)e3 Hz    0.01  1.56   50\n",
       "3  300  2388.238952   9.749063  (2.39 ± 0.01)e3 Hz    0.00  2.68   50"
      ]
     },
     "metadata": {},
     "output_type": "display_data"
    }
   ],
   "source": [
    "# print FIT RESULT:\n",
    "GAMMAFVAL = [final_val(g,sg,2,3,'Hz') for g,sg in zip(GAMMA,sigmaGAMMA)]\n",
    "gammateta = pd.DataFrame({'𝜈':IRIDE,'γ':GAMMA,'σγ':sigmaGAMMA,'γ_out':GAMMAFVAL,'pvalue':PVALUE,'chir':CHI_r,'dof':DOF})\n",
    "\n",
    "print('---------------------------FIT RESULT----------------------------')\n",
    "display(gammateta)"
   ]
  },
  {
   "cell_type": "code",
   "execution_count": 37,
   "id": "bf4f1a71",
   "metadata": {},
   "outputs": [
    {
     "data": {
      "application/vnd.plotly.v1+json": {
       "config": {
        "plotlyServerURL": "https://plot.ly"
       },
       "data": [
        {
         "hoverinfo": "skip",
         "line": {
          "color": "#30123b"
         },
         "mode": "lines",
         "showlegend": false,
         "type": "scatter",
         "x": {
          "bdata": "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",
          "dtype": "f8"
         },
         "y": {
          "bdata": "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",
          "dtype": "f8"
         }
        },
        {
         "error_y": {
          "array": {
           "bdata": "S9tjEBmKXj8tsRUl3o5fP6SRkQZtZWU/BX3hdGtOXj/mH5Ik+rlkPx7MmYCN52Q/yVKWpR/HVj/dRxLlL6BZPw9BL0bIWlk/IH+BYrhyXz/1O/LP2VVXPwcB9QAvw1Y/sEJteF8RZz94VrmV01hPPwPzoQ4OrlI/rZPzPfIRUj8JgfGM4zNMP1RHbLejgFM/EecvE0JrTj8JiBp12r9TP7FqOrEAw1E/sXBFkb9gUj8oVEoumzBTPwo+hlCGBlE/GZJPkzaMTj88f0DsnIJGPyUzyK3azFE/FDH/Jnn5Rz8YwSHwqThMP0PBDNLBFkg/rchntV/CUT++JfghUh5SP2K7sR2fJVA/RCxk1OtgTD8FclMo8C5IPyBSUrxV4EU/KyEcXXMPTD/vy7Vg8glMP6GPsqeZ2VA/U5XvIHMzTT9E4gNEj+JIPwkTo5sReEQ/VyUdUHePRD8o3rEAczs3PylRnaWgSkM/ZXdm/iqpQT+4CGe22K1GPxU+RKtrrEM/dFVXhGB5Qj/L0xHg611EP2iwmQXG3zw/W93jKxUiOT9zLJfp/L48Pw==",
           "dtype": "f8"
          },
          "color": "#30123b",
          "thickness": 1.5,
          "type": "data",
          "width": 3
         },
         "marker": {
          "color": "#30123b"
         },
         "mode": "markers",
         "name": "𝜈 = 25 kHz",
         "type": "scatter",
         "x": {
          "bdata": "Sa+8mvLXGj8xRRTu8DIeP43ttaD3xiA/grhhynZ0Ij92gw309SEkP2pOuR11zyU/XxllR/R8Jz9U5BBxcyopP0mvvJry1yo/MUUU7vAyLj+N7bWg98YwP4K4Ycp2dDI/doMN9PUhND9qTrkddc81P18ZZUf0fDc/VOQQcXMqOT9Jr7ya8tc6PzFFFO7wMj4/je21oPfGQD+CuGHKdnRCP3aDDfT1IUQ/ak65HXXPRT9fGWVH9HxHP1TkEHFzKkk/Sa+8mvLXSj8xRRTu8DJOP43ttaD3xlA/grhhynZ0Uj92gw309SFUP2pOuR11z1U/XxllR/R8Vz9U5BBxcypZP0mvvJry11o/MUUU7vAyXj+N7bWg98ZgP4K4Ycp2dGI/doMN9PUhZD9qTrkddc9lP18ZZUf0fGc/VOQQcXMqaT9Jr7ya8tdqPzFFFO7wMm4/je21oPfGcD+CuGHKdnRyP3aDDfT1IXQ/ak65HXXPdT9fGWVH9Hx3P1TkEHFzKnk/Sa+8mvLXej8xRRTu8DJ+P43ttaD3xoA/grhhynZ0gj92gw309SGEPw==",
          "dtype": "f8"
         },
         "y": {
          "bdata": "jXxe8dQjxz/bGaa21EHGP3MOnglNEsU/OLpKd9fZxD+LwcO0b+7DP3R+iuPAq8M/CttPxvgwwz9DIJc48kDCP8o2cAfqlME/8nub/uxHwD9nRdREn4++P4HR5c3hWr0/TMRb598uuz+/NtGdFnK5P8S4dv3dlrc/iU0aWeg5tj8g+w+fKpW0P5uFh3oLNbI/a76l9+hosD8ox67+Ge+sP4yd8BKc+qg/gENNmUC2pT/7oYj7fiCjPxZgaSrVT6E/u+NequNCnz/WkX5W9OKXP+Uw83i1N5M/WIEQfwNJjj+eRyC5kKKJPx0YxDD1LYI/H09o5aB8gD/1ImY4ll6AP/8+BNFqs3c/jaX+MPjqaT/nxUeTpM5gP0IFLF7RUl4/vzr5ui0NUz/MXqiXrlT2vhoG/oCfIks/4YPlNHUq+r4c/6BWGvZAP/sco2VypBI/+vAVpdDuOj95KD/mWQJGP2d6hPiSVgS/QgyDGDkiJ786Me593/xMv4ggPhjHNBK/p6nfMa5LPD8lTPAE/bA+v1cFOvhhOyo/8vfZaAMnMD9lDvbkaRI/Pw==",
          "dtype": "f8"
         }
        },
        {
         "hoverinfo": "skip",
         "line": {
          "color": "#4675ed"
         },
         "mode": "lines",
         "showlegend": false,
         "type": "scatter",
         "x": {
          "bdata": "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",
          "dtype": "f8"
         },
         "y": {
          "bdata": "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",
          "dtype": "f8"
         }
        },
        {
         "error_y": {
          "array": {
           "bdata": "JP72vFuoRz9s4dxdaMdWP1tnxIkAcFQ/Lr4T3a2fUD+8CaIgwrNOPzFyPRi6eVA/F/Y4vfcIXD/5xiHqUfhGP/3vRNU0CDw/3EROfD/1Qz/H6GAV0RpHPz0J0fJuPkU/xBsnKl5FQj9AqRuKa29KP0hwV3vgJzM/EVI1ADoGST+F1sh6UxA5P7EPSmiRQUE/43kevKC9Oz8XnaR/AoQ7P5wGRcSgWDs/U25BwqfmQj/1YEtI0/8/P2G2SWaSKUQ/rxuQ0cKTMj+IBv2CjnA8PzAER0LyMUA/1iLUkAnUID/gBfyNoz47P6mJHeF0TDc/cZaUsNZ9RD/4QhbFSD4+P/9eCES1njo/QygV2LfEQD9oh8ajyiw5P2DStDtoeUA/7zkDZDRcOD9RkGtpPKYsP3XaxURKSjc/X8aHi+aMPT99kbeoU6UzPykh/GRShyo/JfQsXWMcNj9sdrpYvSMuP7HqN5nsHSg/Yz7ds+yfMT8gOTDfKGIrP/cska59mio/YSkyS1OlMD/JQqa1L7IzP0i48l/5GSs/7bb88NBGLz9zVaufjTUvPw==",
           "dtype": "f8"
          },
          "color": "#4675ed",
          "thickness": 1.5,
          "type": "data",
          "width": 3
         },
         "marker": {
          "color": "#4675ed"
         },
         "mode": "markers",
         "name": "𝜈 = 50 kHz",
         "type": "scatter",
         "x": {
          "bdata": "Sa+8mvLXGj8xRRTu8DIeP43ttaD3xiA/grhhynZ0Ij92gw309SEkP2pOuR11zyU/XxllR/R8Jz9U5BBxcyopP0mvvJry1yo/MUUU7vAyLj+N7bWg98YwP4K4Ycp2dDI/doMN9PUhND9qTrkddc81P18ZZUf0fDc/VOQQcXMqOT9Jr7ya8tc6PzFFFO7wMj4/je21oPfGQD+CuGHKdnRCP3aDDfT1IUQ/ak65HXXPRT9fGWVH9HxHP1TkEHFzKkk/Sa+8mvLXSj8xRRTu8DJOP43ttaD3xlA/grhhynZ0Uj92gw309SFUP2pOuR11z1U/XxllR/R8Vz9U5BBxcypZP0mvvJry11o/MUUU7vAyXj+N7bWg98ZgP4K4Ycp2dGI/doMN9PUhZD9qTrkddc9lP18ZZUf0fGc/VOQQcXMqaT9Jr7ya8tdqPzFFFO7wMm4/je21oPfGcD+CuGHKdnRyP3aDDfT1IXQ/ak65HXXPdT9fGWVH9Hx3P1TkEHFzKnk/Sa+8mvLXej8xRRTu8DJ+P43ttaD3xoA/grhhynZ0gj92gw309SGEPw==",
          "dtype": "f8"
         },
         "y": {
          "bdata": "LEZda+9TuT+5yQPs/gy4P048sZgiCrc/YOHJE62Btj821UlsLYK1P8fOgB9697Q/lCr2PCQhtD9jM3Z4vlWzPzRBecSNALM/y6Da4ET0sT9LY2oBkMmwP3oXlA57Rq8/87heifZnrT/C9/4G7dWrP3LIYYs4+Kk/DopBu55DqD89EooIWtymP4GoRY6+k6Q/9SXAVUOHoT9MnCZ9a3GfPysLcItDR5w/c1zXeWUomD9uC+B3HbuVP0Wq3tBKEJQ/4DAs2negkT+rRDQVPUuLPxKRUOkWcIU/fUYawzl2gj++rexpJJV7P3TC+CfAyXk/gqU+uTulcj+fMgbvDp1sP8GYRva17Gg/F0suUmonYT/pcvf3IYhWPyQ8Rh4tc08/v/uZMFAIUz+6JEOYH9tJPy8UVWQZh08/skUw4PUxQD/q1RlCQlIzP5rN3nfeViK/NWWQg170H7+NpST4mnY1P60uEA1ePvE+15KLuqHsRz+VsPdhC+E7P3zATv5mmvu+4EQQwRpiCj9WuusHnVkgv573up1hkDI/K+xGeKtJKD90C/I2XEsUPw==",
          "dtype": "f8"
         }
        },
        {
         "hoverinfo": "skip",
         "line": {
          "color": "#1bcfd4"
         },
         "mode": "lines",
         "showlegend": false,
         "type": "scatter",
         "x": {
          "bdata": "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",
          "dtype": "f8"
         },
         "y": {
          "bdata": "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",
          "dtype": "f8"
         }
        },
        {
         "error_y": {
          "array": {
           "bdata": "DeZ0M9XiLz85TJCnbSw2Pz0VqwUUPio/NW9Q6MVtKT9RLEEiSuolPymenf0sUCg/gwY7hdLzJD890qm1YuwzP/nG/MjHoCI/CNnOUoMWJz/dsnqA2iImPxPzzqTSpiY/3mXTeXWuMD/K1xDqTmkwP7uxJnd36i0/W5jn1vbZLT9hdSpyy5sgP+/aGap6AiM/5OFjjcGCGT+7qELWESEiP0SP9Ppp+yI/yJpvk8TAID+3jOpKEfobP5CyXXkMaig/qjNHFVMBJD+AZ5BzDaslPwRtYBwCjSQ/J1de4lSSID/jt2VBBoUiP4lKYWyNkCI/LGMFJqrvET/Xcl4zKt4WP6Myij/nsxc/JRTrLSCOFz8AI0y8YFkXP4Vm981t3B4/AdoLl6d2Fz9c2enYcCIdPwSpKpE9Bhg/1XruZ5d+Gj+xjXU40e0QP5nv4pbohQw/fHmAu6ABFD/HZI2WS1caP+xsUQDhAxw/+MMJoc+2HD+QYD9xYSsXP3HKdV7GiRY/51uLrCz9FT/BsUruDLcNPztenW8CHRU/FRltazTPEz+A+9DytDcMPw==",
           "dtype": "f8"
          },
          "color": "#1bcfd4",
          "thickness": 1.5,
          "type": "data",
          "width": 3
         },
         "marker": {
          "color": "#1bcfd4"
         },
         "mode": "markers",
         "name": "𝜈 = 200 kHz",
         "type": "scatter",
         "x": {
          "bdata": "Sa+8mvLXGj8xRRTu8DIeP43ttaD3xiA/grhhynZ0Ij92gw309SEkP2pOuR11zyU/XxllR/R8Jz9U5BBxcyopP0mvvJry1yo/MUUU7vAyLj+N7bWg98YwP4K4Ycp2dDI/doMN9PUhND9qTrkddc81P18ZZUf0fDc/VOQQcXMqOT9Jr7ya8tc6PzFFFO7wMj4/je21oPfGQD+CuGHKdnRCP3aDDfT1IUQ/ak65HXXPRT9fGWVH9HxHP1TkEHFzKkk/Sa+8mvLXSj8xRRTu8DJOP43ttaD3xlA/grhhynZ0Uj92gw309SFUP2pOuR11z1U/XxllR/R8Vz9U5BBxcypZP0mvvJry11o/MUUU7vAyXj+N7bWg98ZgP4K4Ycp2dGI/doMN9PUhZD9qTrkddc9lP18ZZUf0fGc/VOQQcXMqaT9Jr7ya8tdqPzFFFO7wMm4/je21oPfGcD+CuGHKdnRyP3aDDfT1IXQ/ak65HXXPdT9fGWVH9Hx3P1TkEHFzKnk/Sa+8mvLXej8xRRTu8DJ+P43ttaD3xoA/grhhynZ0gj92gw309SGEPw==",
          "dtype": "f8"
         },
         "y": {
          "bdata": "KD0d2abCoT+V8loJ3SWhP3KBcKpad6A/6YPAJVu4nz84EJIFTOCeP6JYE7DC0p0/I68YvzrYnD9bNRmfE4ycP4ocIm5OJZs/3VbE+lCzmT+fhyTEpt+XPwVcRqCwepY/DVjNzv0wlT+Xf+MhQhKUP57wbVVtkpI/x3PHrChvkT9z4DAs2neQPxtpBHaQMo0/Jp2Sve8pij+EygkkcguHP+tbQS7MnYQ/SufLJE0wgj+HAzr2YBCAP96Th4Va03w/3WxiNyLOeT9Kbl7mhYV0P9rw7NkQb28/Eb214erfaT9Y60Ct1HllP1vdPYITuGI/rfGhXei+Wj/6EK9G0V5YP5xBMtOsIlI/UkrGOQOGST8JPdq54kI7PwH9OkdPVzg/YP9hivPpIT+9uFddvFwqP9K45HY3aCI/9+OjOt4aGD98uHccJQAmP6aJAU6Lkw0/VNMHcbJECD9K1uo1eWYLv2HwlarAygK/O7gYXKOAJT+PldWBHrQPPxXOZrxKyh8/Z58TtxTUEz/ubvEyu9UgP09S9hysjf4+00dXZwDh/z5yMvqcfvrWvg==",
          "dtype": "f8"
         }
        },
        {
         "hoverinfo": "skip",
         "line": {
          "color": "#61fc6c"
         },
         "mode": "lines",
         "showlegend": false,
         "type": "scatter",
         "x": {
          "bdata": "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",
          "dtype": "f8"
         },
         "y": {
          "bdata": "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",
          "dtype": "f8"
         }
        },
        {
         "error_y": {
          "array": {
           "bdata": "Sdx7fpHdJD9nxAh3wR0kPy7lfokIkCI/M4liVUh8KD9wHDUbKZgjP6DWRqtgAiA/GedXMx9UMD/txYfe8PYqP0ejl+q3vBw/E4GH022DIz8PTNXETWUhPwlvySAzCiY/UC+vduWsIT8OHP6hrXUjP6ELAi40cBw/ESlg9OcPIj8vtWqD+ewdP8M1R+FBExk/17dy49VcIT/aLk+epK0QP2Mwal0h1Bw/oKeWsda4Fj9zaJFFkEMZP1iLtEQyoBk/FT8rrBGGFD9Z+jLsiYwVP63OdoqqKBs/+7UtmKh7ID8/c8GGOjYaP4S0Q/8EIg8/KAJdjMbAFT/kthLHBPAYP3GD/2Z2DRg/e2kkpZulFD8XNmPHlKkXPxw08E+8pRU/tyQ6yVbLEj/gE78nDAcRP9k0qov7qBU/x/SR/DCWED9JjnyB2DMTP5NulfwjlhA/TVQKM22ZDz+RZXtXfEILP3lbBgfNexg/3FGTl8vuGz/zNBQ8ltsYP/jDCHw1zw8/zzCXXr9xDj/nMDNRK8YSPztb/guRNAo/kOmNFBinBj+9hmJ4ubEGPw==",
           "dtype": "f8"
          },
          "color": "#61fc6c",
          "thickness": 1.5,
          "type": "data",
          "width": 3
         },
         "marker": {
          "color": "#61fc6c"
         },
         "mode": "markers",
         "name": "𝜈 = 300 kHz",
         "type": "scatter",
         "x": {
          "bdata": "Sa+8mvLXGj8xRRTu8DIeP43ttaD3xiA/grhhynZ0Ij92gw309SEkP2pOuR11zyU/XxllR/R8Jz9U5BBxcyopP0mvvJry1yo/MUUU7vAyLj+N7bWg98YwP4K4Ycp2dDI/doMN9PUhND9qTrkddc81P18ZZUf0fDc/VOQQcXMqOT9Jr7ya8tc6PzFFFO7wMj4/je21oPfGQD+CuGHKdnRCP3aDDfT1IUQ/ak65HXXPRT9fGWVH9HxHP1TkEHFzKkk/Sa+8mvLXSj8xRRTu8DJOP43ttaD3xlA/grhhynZ0Uj92gw309SFUP2pOuR11z1U/XxllR/R8Vz9U5BBxcypZP0mvvJry11o/MUUU7vAyXj+N7bWg98ZgP4K4Ycp2dGI/doMN9PUhZD9qTrkddc9lP18ZZUf0fGc/VOQQcXMqaT9Jr7ya8tdqPzFFFO7wMm4/je21oPfGcD+CuGHKdnRyP3aDDfT1IXQ/ak65HXXPdT9fGWVH9Hx3P1TkEHFzKnk/Sa+8mvLXej8xRRTu8DJ+P43ttaD3xoA/grhhynZ0gj92gw309SGEPw==",
          "dtype": "f8"
         },
         "y": {
          "bdata": "cV9ih4yimj9hG/FkNzOaP9hXaDHCJZk/170ViQlqmD8LwWDt3kCXP0StxJfk25Y/lmR4RyEklj9baQh9n2CVP4/Ey9O5opQ/ySR+INSgkz/NVZhjHp6SP+qaJPFNLpE/C5aPSesUkD/A7zp2q0KOP8pChTR0/Yw/hjNk4ZCyij+U1RmEXiSJPz1tQ3urZIY/CveIoIORgz8mp/q+TbmBPyNqP6WMsH8/r5/VNLWNez96tXH+BQZ5P+GcrnoCWXY/GFYaxhfMcz+Oy9m3aglvP3r5AFHuRmg/lqBUNSDGZD9PhvQlZZxgPzzAUfpbZVo/3w3U7+PkVT/29I2/H0RTP8viOM9c0FA/jVH/osmaSD9Lts6A+bJEP6F0dQl/bTo/A7ZxLj8cNj90NyxmtPAtP1EFnNhV3iQ/4NRwmhEoGj/jmdfelcckP0fTElBFDxM/rsXx+/N/Ej/Ht+SpKA0uP8YAyIqTWzA/6+VWjONVMD+fuPtXOPvqvqg5M+GikRK/Xq/KNIPABr99A/PWkGYSP7rLzGxaoPI+4S3sfpDL8T5H9HdeRov1Pg==",
          "dtype": "f8"
         }
        }
       ],
       "layout": {
        "font": {
         "color": "Black",
         "size": 18
        },
        "height": 600,
        "legend": {
         "bgcolor": "rgba(255, 255, 255, 0.5)",
         "bordercolor": "black",
         "borderwidth": 1,
         "traceorder": "normal",
         "x": 0.98,
         "xanchor": "right",
         "y": 0.98,
         "yanchor": "top"
        },
        "plot_bgcolor": "white",
        "template": {
         "data": {
          "bar": [
           {
            "error_x": {
             "color": "#2a3f5f"
            },
            "error_y": {
             "color": "#2a3f5f"
            },
            "marker": {
             "line": {
              "color": "#E5ECF6",
              "width": 0.5
             },
             "pattern": {
              "fillmode": "overlay",
              "size": 10,
              "solidity": 0.2
             }
            },
            "type": "bar"
           }
          ],
          "barpolar": [
           {
            "marker": {
             "line": {
              "color": "#E5ECF6",
              "width": 0.5
             },
             "pattern": {
              "fillmode": "overlay",
              "size": 10,
              "solidity": 0.2
             }
            },
            "type": "barpolar"
           }
          ],
          "carpet": [
           {
            "aaxis": {
             "endlinecolor": "#2a3f5f",
             "gridcolor": "white",
             "linecolor": "white",
             "minorgridcolor": "white",
             "startlinecolor": "#2a3f5f"
            },
            "baxis": {
             "endlinecolor": "#2a3f5f",
             "gridcolor": "white",
             "linecolor": "white",
             "minorgridcolor": "white",
             "startlinecolor": "#2a3f5f"
            },
            "type": "carpet"
           }
          ],
          "choropleth": [
           {
            "colorbar": {
             "outlinewidth": 0,
             "ticks": ""
            },
            "type": "choropleth"
           }
          ],
          "contour": [
           {
            "colorbar": {
             "outlinewidth": 0,
             "ticks": ""
            },
            "colorscale": [
             [
              0,
              "#0d0887"
             ],
             [
              0.1111111111111111,
              "#46039f"
             ],
             [
              0.2222222222222222,
              "#7201a8"
             ],
             [
              0.3333333333333333,
              "#9c179e"
             ],
             [
              0.4444444444444444,
              "#bd3786"
             ],
             [
              0.5555555555555556,
              "#d8576b"
             ],
             [
              0.6666666666666666,
              "#ed7953"
             ],
             [
              0.7777777777777778,
              "#fb9f3a"
             ],
             [
              0.8888888888888888,
              "#fdca26"
             ],
             [
              1,
              "#f0f921"
             ]
            ],
            "type": "contour"
           }
          ],
          "contourcarpet": [
           {
            "colorbar": {
             "outlinewidth": 0,
             "ticks": ""
            },
            "type": "contourcarpet"
           }
          ],
          "heatmap": [
           {
            "colorbar": {
             "outlinewidth": 0,
             "ticks": ""
            },
            "colorscale": [
             [
              0,
              "#0d0887"
             ],
             [
              0.1111111111111111,
              "#46039f"
             ],
             [
              0.2222222222222222,
              "#7201a8"
             ],
             [
              0.3333333333333333,
              "#9c179e"
             ],
             [
              0.4444444444444444,
              "#bd3786"
             ],
             [
              0.5555555555555556,
              "#d8576b"
             ],
             [
              0.6666666666666666,
              "#ed7953"
             ],
             [
              0.7777777777777778,
              "#fb9f3a"
             ],
             [
              0.8888888888888888,
              "#fdca26"
             ],
             [
              1,
              "#f0f921"
             ]
            ],
            "type": "heatmap"
           }
          ],
          "histogram": [
           {
            "marker": {
             "pattern": {
              "fillmode": "overlay",
              "size": 10,
              "solidity": 0.2
             }
            },
            "type": "histogram"
           }
          ],
          "histogram2d": [
           {
            "colorbar": {
             "outlinewidth": 0,
             "ticks": ""
            },
            "colorscale": [
             [
              0,
              "#0d0887"
             ],
             [
              0.1111111111111111,
              "#46039f"
             ],
             [
              0.2222222222222222,
              "#7201a8"
             ],
             [
              0.3333333333333333,
              "#9c179e"
             ],
             [
              0.4444444444444444,
              "#bd3786"
             ],
             [
              0.5555555555555556,
              "#d8576b"
             ],
             [
              0.6666666666666666,
              "#ed7953"
             ],
             [
              0.7777777777777778,
              "#fb9f3a"
             ],
             [
              0.8888888888888888,
              "#fdca26"
             ],
             [
              1,
              "#f0f921"
             ]
            ],
            "type": "histogram2d"
           }
          ],
          "histogram2dcontour": [
           {
            "colorbar": {
             "outlinewidth": 0,
             "ticks": ""
            },
            "colorscale": [
             [
              0,
              "#0d0887"
             ],
             [
              0.1111111111111111,
              "#46039f"
             ],
             [
              0.2222222222222222,
              "#7201a8"
             ],
             [
              0.3333333333333333,
              "#9c179e"
             ],
             [
              0.4444444444444444,
              "#bd3786"
             ],
             [
              0.5555555555555556,
              "#d8576b"
             ],
             [
              0.6666666666666666,
              "#ed7953"
             ],
             [
              0.7777777777777778,
              "#fb9f3a"
             ],
             [
              0.8888888888888888,
              "#fdca26"
             ],
             [
              1,
              "#f0f921"
             ]
            ],
            "type": "histogram2dcontour"
           }
          ],
          "mesh3d": [
           {
            "colorbar": {
             "outlinewidth": 0,
             "ticks": ""
            },
            "type": "mesh3d"
           }
          ],
          "parcoords": [
           {
            "line": {
             "colorbar": {
              "outlinewidth": 0,
              "ticks": ""
             }
            },
            "type": "parcoords"
           }
          ],
          "pie": [
           {
            "automargin": true,
            "type": "pie"
           }
          ],
          "scatter": [
           {
            "fillpattern": {
             "fillmode": "overlay",
             "size": 10,
             "solidity": 0.2
            },
            "type": "scatter"
           }
          ],
          "scatter3d": [
           {
            "line": {
             "colorbar": {
              "outlinewidth": 0,
              "ticks": ""
             }
            },
            "marker": {
             "colorbar": {
              "outlinewidth": 0,
              "ticks": ""
             }
            },
            "type": "scatter3d"
           }
          ],
          "scattercarpet": [
           {
            "marker": {
             "colorbar": {
              "outlinewidth": 0,
              "ticks": ""
             }
            },
            "type": "scattercarpet"
           }
          ],
          "scattergeo": [
           {
            "marker": {
             "colorbar": {
              "outlinewidth": 0,
              "ticks": ""
             }
            },
            "type": "scattergeo"
           }
          ],
          "scattergl": [
           {
            "marker": {
             "colorbar": {
              "outlinewidth": 0,
              "ticks": ""
             }
            },
            "type": "scattergl"
           }
          ],
          "scattermap": [
           {
            "marker": {
             "colorbar": {
              "outlinewidth": 0,
              "ticks": ""
             }
            },
            "type": "scattermap"
           }
          ],
          "scattermapbox": [
           {
            "marker": {
             "colorbar": {
              "outlinewidth": 0,
              "ticks": ""
             }
            },
            "type": "scattermapbox"
           }
          ],
          "scatterpolar": [
           {
            "marker": {
             "colorbar": {
              "outlinewidth": 0,
              "ticks": ""
             }
            },
            "type": "scatterpolar"
           }
          ],
          "scatterpolargl": [
           {
            "marker": {
             "colorbar": {
              "outlinewidth": 0,
              "ticks": ""
             }
            },
            "type": "scatterpolargl"
           }
          ],
          "scatterternary": [
           {
            "marker": {
             "colorbar": {
              "outlinewidth": 0,
              "ticks": ""
             }
            },
            "type": "scatterternary"
           }
          ],
          "surface": [
           {
            "colorbar": {
             "outlinewidth": 0,
             "ticks": ""
            },
            "colorscale": [
             [
              0,
              "#0d0887"
             ],
             [
              0.1111111111111111,
              "#46039f"
             ],
             [
              0.2222222222222222,
              "#7201a8"
             ],
             [
              0.3333333333333333,
              "#9c179e"
             ],
             [
              0.4444444444444444,
              "#bd3786"
             ],
             [
              0.5555555555555556,
              "#d8576b"
             ],
             [
              0.6666666666666666,
              "#ed7953"
             ],
             [
              0.7777777777777778,
              "#fb9f3a"
             ],
             [
              0.8888888888888888,
              "#fdca26"
             ],
             [
              1,
              "#f0f921"
             ]
            ],
            "type": "surface"
           }
          ],
          "table": [
           {
            "cells": {
             "fill": {
              "color": "#EBF0F8"
             },
             "line": {
              "color": "white"
             }
            },
            "header": {
             "fill": {
              "color": "#C8D4E3"
             },
             "line": {
              "color": "white"
             }
            },
            "type": "table"
           }
          ]
         },
         "layout": {
          "annotationdefaults": {
           "arrowcolor": "#2a3f5f",
           "arrowhead": 0,
           "arrowwidth": 1
          },
          "autotypenumbers": "strict",
          "coloraxis": {
           "colorbar": {
            "outlinewidth": 0,
            "ticks": ""
           }
          },
          "colorscale": {
           "diverging": [
            [
             0,
             "#8e0152"
            ],
            [
             0.1,
             "#c51b7d"
            ],
            [
             0.2,
             "#de77ae"
            ],
            [
             0.3,
             "#f1b6da"
            ],
            [
             0.4,
             "#fde0ef"
            ],
            [
             0.5,
             "#f7f7f7"
            ],
            [
             0.6,
             "#e6f5d0"
            ],
            [
             0.7,
             "#b8e186"
            ],
            [
             0.8,
             "#7fbc41"
            ],
            [
             0.9,
             "#4d9221"
            ],
            [
             1,
             "#276419"
            ]
           ],
           "sequential": [
            [
             0,
             "#0d0887"
            ],
            [
             0.1111111111111111,
             "#46039f"
            ],
            [
             0.2222222222222222,
             "#7201a8"
            ],
            [
             0.3333333333333333,
             "#9c179e"
            ],
            [
             0.4444444444444444,
             "#bd3786"
            ],
            [
             0.5555555555555556,
             "#d8576b"
            ],
            [
             0.6666666666666666,
             "#ed7953"
            ],
            [
             0.7777777777777778,
             "#fb9f3a"
            ],
            [
             0.8888888888888888,
             "#fdca26"
            ],
            [
             1,
             "#f0f921"
            ]
           ],
           "sequentialminus": [
            [
             0,
             "#0d0887"
            ],
            [
             0.1111111111111111,
             "#46039f"
            ],
            [
             0.2222222222222222,
             "#7201a8"
            ],
            [
             0.3333333333333333,
             "#9c179e"
            ],
            [
             0.4444444444444444,
             "#bd3786"
            ],
            [
             0.5555555555555556,
             "#d8576b"
            ],
            [
             0.6666666666666666,
             "#ed7953"
            ],
            [
             0.7777777777777778,
             "#fb9f3a"
            ],
            [
             0.8888888888888888,
             "#fdca26"
            ],
            [
             1,
             "#f0f921"
            ]
           ]
          },
          "colorway": [
           "#636efa",
           "#EF553B",
           "#00cc96",
           "#ab63fa",
           "#FFA15A",
           "#19d3f3",
           "#FF6692",
           "#B6E880",
           "#FF97FF",
           "#FECB52"
          ],
          "font": {
           "color": "#2a3f5f"
          },
          "geo": {
           "bgcolor": "white",
           "lakecolor": "white",
           "landcolor": "#E5ECF6",
           "showlakes": true,
           "showland": true,
           "subunitcolor": "white"
          },
          "hoverlabel": {
           "align": "left"
          },
          "hovermode": "closest",
          "mapbox": {
           "style": "light"
          },
          "paper_bgcolor": "white",
          "plot_bgcolor": "#E5ECF6",
          "polar": {
           "angularaxis": {
            "gridcolor": "white",
            "linecolor": "white",
            "ticks": ""
           },
           "bgcolor": "#E5ECF6",
           "radialaxis": {
            "gridcolor": "white",
            "linecolor": "white",
            "ticks": ""
           }
          },
          "scene": {
           "xaxis": {
            "backgroundcolor": "#E5ECF6",
            "gridcolor": "white",
            "gridwidth": 2,
            "linecolor": "white",
            "showbackground": true,
            "ticks": "",
            "zerolinecolor": "white"
           },
           "yaxis": {
            "backgroundcolor": "#E5ECF6",
            "gridcolor": "white",
            "gridwidth": 2,
            "linecolor": "white",
            "showbackground": true,
            "ticks": "",
            "zerolinecolor": "white"
           },
           "zaxis": {
            "backgroundcolor": "#E5ECF6",
            "gridcolor": "white",
            "gridwidth": 2,
            "linecolor": "white",
            "showbackground": true,
            "ticks": "",
            "zerolinecolor": "white"
           }
          },
          "shapedefaults": {
           "line": {
            "color": "#2a3f5f"
           }
          },
          "ternary": {
           "aaxis": {
            "gridcolor": "white",
            "linecolor": "white",
            "ticks": ""
           },
           "baxis": {
            "gridcolor": "white",
            "linecolor": "white",
            "ticks": ""
           },
           "bgcolor": "#E5ECF6",
           "caxis": {
            "gridcolor": "white",
            "linecolor": "white",
            "ticks": ""
           }
          },
          "title": {
           "x": 0.05
          },
          "xaxis": {
           "automargin": true,
           "gridcolor": "white",
           "linecolor": "white",
           "ticks": "",
           "title": {
            "standoff": 15
           },
           "zerolinecolor": "white",
           "zerolinewidth": 2
          },
          "yaxis": {
           "automargin": true,
           "gridcolor": "white",
           "linecolor": "white",
           "ticks": "",
           "title": {
            "standoff": 15
           },
           "zerolinecolor": "white",
           "zerolinewidth": 2
          }
         }
        },
        "width": 800,
        "xaxis": {
         "gridcolor": "lightgrey",
         "linecolor": "black",
         "mirror": true,
         "range": [
          -4,
          -2
         ],
         "showline": true,
         "ticks": "outside",
         "title": {
          "text": "t (s)"
         },
         "type": "log"
        },
        "yaxis": {
         "gridcolor": "lightgrey",
         "linecolor": "black",
         "mirror": true,
         "showline": true,
         "ticks": "outside",
         "title": {
          "text": "G<sup>2</sup>(τ)"
         }
        }
       }
      }
     },
     "metadata": {},
     "output_type": "display_data"
    }
   ],
   "source": [
    "colors = px.colors.sequential.Turbo\n",
    "\n",
    "fig = go.Figure()\n",
    "for i,𝜈 in enumerate(data.keys()):\n",
    "    x = data[𝜈]['t']\n",
    "    y = data[𝜈]['g']\n",
    "    γ = data[𝜈]['gamma']\n",
    "    sigmay = data[𝜈]['sigmag']\n",
    "    X,Y = data[𝜈]['fit'].draw()\n",
    "\n",
    "    # plt.plot(X,Y)\n",
    "    # plt.xlim(0,1)\n",
    "    # plt.show()\n",
    "\n",
    "    fig.add_trace(go.Scatter(x=X, y=Y, mode='lines',line_color=colors[2 * i], showlegend=False,hoverinfo='skip'))\n",
    "\n",
    "    fig.add_trace(go.Scatter(x=x,y=y, mode='markers', name=f'𝜈 = {𝜈} kHz',\n",
    "        marker=dict(color = colors[2 * i]),\n",
    "        error_y=dict( \n",
    "\t\t\ttype='data', \n",
    "\t\t\tarray = sigmay, \n",
    "\t\t\tcolor = colors[2 * i],\n",
    "\t\t\tthickness = 1.5, \n",
    "\t\t\twidth = 3, \n",
    "\t\t)))\n",
    "\n",
    "fig.update_layout(\n",
    "    xaxis_type = \"log\",\n",
    "    yaxis_title = \"G<sup>2</sup>(τ)\",\n",
    "    xaxis_title = \"t (s)\",\n",
    "    xaxis = dict(range = [np.log10(0.0001), np.log10(0.010)]),\n",
    "    width = 800,\n",
    "    height = 600,\n",
    "    plot_bgcolor = 'white',\n",
    "    font = dict(\n",
    "        size = 18,\n",
    "        color = \"Black\"\n",
    "    ),\n",
    "    legend=dict(\n",
    "        x=0.98,\n",
    "        y=0.98,\n",
    "        xanchor='right',\n",
    "        yanchor='top',\n",
    "        traceorder='normal',\n",
    "        bgcolor='rgba(255, 255, 255, 0.5)',\n",
    "        bordercolor='black',\n",
    "        borderwidth=1\n",
    "    )\n",
    "    )\n",
    "\n",
    "fig.update_xaxes(\n",
    "    mirror = True,\n",
    "    ticks = 'outside',\n",
    "    showline = True,\n",
    "    linecolor = 'black',\n",
    "    gridcolor = 'lightgrey'\n",
    ")\n",
    "fig.update_yaxes(\n",
    "    mirror = True,\n",
    "    ticks = 'outside',\n",
    "    showline = True,\n",
    "    linecolor = 'black',\n",
    "    gridcolor = 'lightgrey'\n",
    ")\n",
    "\n",
    "fig.show()"
   ]
  },
  {
   "cell_type": "code",
   "execution_count": 28,
   "id": "71324910",
   "metadata": {},
   "outputs": [
    {
     "data": {
      "text/html": [
       "<div>\n",
       "<style scoped>\n",
       "    .dataframe tbody tr th:only-of-type {\n",
       "        vertical-align: middle;\n",
       "    }\n",
       "\n",
       "    .dataframe tbody tr th {\n",
       "        vertical-align: top;\n",
       "    }\n",
       "\n",
       "    .dataframe thead th {\n",
       "        text-align: right;\n",
       "    }\n",
       "</style>\n",
       "<table border=\"1\" class=\"dataframe\">\n",
       "  <thead>\n",
       "    <tr style=\"text-align: right;\">\n",
       "      <th></th>\n",
       "      <th>𝜈</th>\n",
       "      <th>R</th>\n",
       "      <th>σR</th>\n",
       "      <th>fval</th>\n",
       "    </tr>\n",
       "  </thead>\n",
       "  <tbody>\n",
       "    <tr>\n",
       "      <th>0</th>\n",
       "      <td>25</td>\n",
       "      <td>59.340786</td>\n",
       "      <td>1.158777</td>\n",
       "      <td>59.3 ± 1.2 nm</td>\n",
       "    </tr>\n",
       "    <tr>\n",
       "      <th>1</th>\n",
       "      <td>50</td>\n",
       "      <td>61.896377</td>\n",
       "      <td>1.178729</td>\n",
       "      <td>61.9 ± 1.2 nm</td>\n",
       "    </tr>\n",
       "    <tr>\n",
       "      <th>2</th>\n",
       "      <td>200</td>\n",
       "      <td>62.523991</td>\n",
       "      <td>1.181549</td>\n",
       "      <td>62.5 ± 1.2 nm</td>\n",
       "    </tr>\n",
       "    <tr>\n",
       "      <th>3</th>\n",
       "      <td>300</td>\n",
       "      <td>62.642947</td>\n",
       "      <td>1.179354</td>\n",
       "      <td>62.6 ± 1.2 nm</td>\n",
       "    </tr>\n",
       "  </tbody>\n",
       "</table>\n",
       "</div>"
      ],
      "text/plain": [
       "     𝜈          R        σR           fval\n",
       "0   25  59.340786  1.158777  59.3 ± 1.2 nm\n",
       "1   50  61.896377  1.178729  61.9 ± 1.2 nm\n",
       "2  200  62.523991  1.181549  62.5 ± 1.2 nm\n",
       "3  300  62.642947  1.179354  62.6 ± 1.2 nm"
      ]
     },
     "metadata": {},
     "output_type": "display_data"
    }
   ],
   "source": [
    "def calculate_R(gamma):\n",
    "    R = (16 * np.pi * n**2 * T * KB * np.sin(np.radians(θ) / 2)**2) / (3 * η * λ**2 * gamma)\n",
    "    return R\n",
    "\n",
    "def calculate_sigma_R(gamma, sigma_gamma,sigmaT,sigmaη,sigman, theta = 90):\n",
    "    theta_rad = np.radians(theta)\n",
    "    term1 = (16 * np.pi * n**2 * T * KB * np.sin(theta_rad / 2)**2) / (3 * η * λ**2 * gamma**2) * sigma_gamma\n",
    "    term2 = (16 * np.pi * n**2 * KB * np.sin(theta_rad / 2)**2) / (3 * η * λ**2 * gamma) * sigmaT\n",
    "    term3 = (16 * np.pi * n**2 * T * KB * np.sin(theta_rad / 2)**2) / (3 * η**2 * λ**2 * gamma) * sigmaη\n",
    "    term4 = (32 * np.pi * n * T * KB * np.sin(theta_rad / 2)**2) / (3 * η * λ**2 * gamma) * sigman\n",
    "    sigma_R = np.sqrt(term1**2 + term2**2 + term3**2 + term4**2)\n",
    "    return sigma_R\n",
    "\n",
    "R_values = calculate_R(GAMMA)\n",
    "sigma_R = calculate_sigma_R(GAMMA, sigmaGAMMA,sigmaT,sigmaη,sigman)\n",
    "\n",
    "R = pd.DataFrame({'𝜈':IRIDE,'R':R_values,'σR':sigma_R,'fval':np.array([final_val(R,sigmaR,1,0,'nm') for R,sigmaR in zip(R_values,sigma_R)])})\n",
    "display(R)"
   ]
  },
  {
   "cell_type": "code",
   "execution_count": 35,
   "id": "0d8189b2",
   "metadata": {},
   "outputs": [
    {
     "name": "stdout",
     "output_type": "stream",
     "text": [
      "R = 61.6 ± 0.6 nm\n"
     ]
    },
    {
     "data": {
      "text/html": [
       "<div>\n",
       "<style scoped>\n",
       "    .dataframe tbody tr th:only-of-type {\n",
       "        vertical-align: middle;\n",
       "    }\n",
       "\n",
       "    .dataframe tbody tr th {\n",
       "        vertical-align: top;\n",
       "    }\n",
       "\n",
       "    .dataframe thead th {\n",
       "        text-align: right;\n",
       "    }\n",
       "</style>\n",
       "<table border=\"1\" class=\"dataframe\">\n",
       "  <thead>\n",
       "    <tr style=\"text-align: right;\">\n",
       "      <th></th>\n",
       "      <th>𝜈</th>\n",
       "      <th>t</th>\n",
       "      <th>perc</th>\n",
       "    </tr>\n",
       "  </thead>\n",
       "  <tbody>\n",
       "    <tr>\n",
       "      <th>0</th>\n",
       "      <td>25</td>\n",
       "      <td>1.724</td>\n",
       "      <td>96.0%</td>\n",
       "    </tr>\n",
       "    <tr>\n",
       "      <th>1</th>\n",
       "      <td>50</td>\n",
       "      <td>0.240</td>\n",
       "      <td>59.0%</td>\n",
       "    </tr>\n",
       "    <tr>\n",
       "      <th>2</th>\n",
       "      <td>200</td>\n",
       "      <td>0.715</td>\n",
       "      <td>76.0%</td>\n",
       "    </tr>\n",
       "    <tr>\n",
       "      <th>3</th>\n",
       "      <td>300</td>\n",
       "      <td>0.807</td>\n",
       "      <td>79.0%</td>\n",
       "    </tr>\n",
       "  </tbody>\n",
       "</table>\n",
       "</div>"
      ],
      "text/plain": [
       "     𝜈      t   perc\n",
       "0   25  1.724  96.0%\n",
       "1   50  0.240  59.0%\n",
       "2  200  0.715  76.0%\n",
       "3  300  0.807  79.0%"
      ]
     },
     "metadata": {},
     "output_type": "display_data"
    }
   ],
   "source": [
    "mean_R = np.average(R_values,weights=1/sigma_R**2)\n",
    "sigma_mean_R = np.sqrt(1/np.sum(1/sigma_R**2))\n",
    "print(f'R = {final_val(mean_R,sigma_mean_R,1,0,\"nm\")}')\n",
    "\n",
    "# COMPATIBILITA'\n",
    "\n",
    "from scipy.stats import norm\n",
    "\n",
    "ts = []\n",
    "perc = []\n",
    "for R,σR in zip(R_values,sigma_R):\n",
    "    σ = np.sqrt(σR**2 + sigma_mean_R**2)\n",
    "    t = np.round(np.abs(R-mean_R)/σ,3)\n",
    "    ts.append(t)\n",
    "    perc.append(f\"{np.round(norm.cdf(t)*100)}%\")\n",
    "\n",
    "compatibilità = pd.DataFrame({'𝜈':IRIDE,'t':ts,'perc':perc})\n",
    "display(compatibilità)"
   ]
  }
 ],
 "metadata": {
  "kernelspec": {
   "display_name": "Python 3",
   "language": "python",
   "name": "python3"
  },
  "language_info": {
   "codemirror_mode": {
    "name": "ipython",
    "version": 3
   },
   "file_extension": ".py",
   "mimetype": "text/x-python",
   "name": "python",
   "nbconvert_exporter": "python",
   "pygments_lexer": "ipython3",
   "version": "3.13.0"
  }
 },
 "nbformat": 4,
 "nbformat_minor": 5
}
