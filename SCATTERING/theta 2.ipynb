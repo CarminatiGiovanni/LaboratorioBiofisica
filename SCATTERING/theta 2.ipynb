{
 "cells": [
  {
   "cell_type": "markdown",
   "metadata": {},
   "source": [
    "# DETERMINE R function of $\\theta$\n",
    "\n",
    "- I dati nel .txt sono separati dal carattere '\\t  ', disposti in 2 colonne relativi al tempo (in millisecondi) e alla funzione di correlazione\n",
    "\n",
    "- $\\sigma_{g^2}$ = 0.001 l'incertezza è fissata all'ultima ciffra significativa\n",
    "\n",
    "- i dati validi da tenere in considerazione sono quelli nell'intervallo 0.1ms-10ms\n",
    "\n",
    "- Gli angoli nel nome del file sono l'angolo supplementare di $\\theta$ (per l'errore di misurazione)"
   ]
  },
  {
   "cell_type": "code",
   "execution_count": 37,
   "metadata": {},
   "outputs": [],
   "source": [
    "from matplotlib import pyplot as plt\n",
    "import numpy as np\n",
    "import pandas as pd\n",
    "import plotly.express as px\n",
    "import os\n",
    "import sys\n",
    "import plotly.graph_objects as go \n",
    "dir_path = os.path.abspath('')\n",
    "sys.path.append(dir_path + '/../')\n",
    "from labbiofisica import Interpolazione, final_val"
   ]
  },
  {
   "cell_type": "markdown",
   "metadata": {},
   "source": [
    "nel caricamento dei dati nelle strutture numpy i millisecondi vengono convertiti in secondi"
   ]
  },
  {
   "cell_type": "code",
   "execution_count": 39,
   "metadata": {},
   "outputs": [
    {
     "name": "stdout",
     "output_type": "stream",
     "text": [
      "0      0.308877\n",
      "1      0.289891\n",
      "2      0.238157\n",
      "3      0.062603\n",
      "4      0.034260\n",
      "         ...   \n",
      "210    0.000028\n",
      "211    0.000038\n",
      "212    0.000035\n",
      "213    0.000035\n",
      "214    0.000036\n",
      "Length: 215, dtype: float64\n"
     ]
    }
   ],
   "source": [
    "filename = f'./data2/g_{θ}_2'\n",
    "read = pd.read_table(filename, skiprows=30, nrows=245 - 30)\n",
    "# read.head()\n",
    "\n",
    "# print(read[read.columns[4]])\n",
    "print(read.loc[:, read.columns[2:11]].std(axis=1))"
   ]
  },
  {
   "cell_type": "code",
   "execution_count": 55,
   "metadata": {},
   "outputs": [],
   "source": [
    "# Carico i dati {θ: {x: [], y: []}}\n",
    "\n",
    "data = {}\n",
    "\n",
    "TETA = [90]#np.array([50,60,70,80,90,100,110,120,130])\n",
    "GAMMA = []\n",
    "sigmaGAMMA = []\n",
    "\n",
    "# t convertito in secondi, si considerano dati solo tra 0.1 e 10 ms a causa del rumore\n",
    "for θ in TETA:\n",
    "    filename = f'./data2/g_{θ}_2'\n",
    "\n",
    "    read = pd.read_csv(filename,skiprows=30, nrows=245 - 30,sep='\\t')\n",
    "    read = read[(read['Lag [ms]'] >= 0.1) & (read['Lag [ms]'] <= 10)]\n",
    "    # print(read.head())\n",
    "    # read = read[(read[0] >= 0.1) & (read[0] <= 10)] # filtro i dati\n",
    "    read['std'] = read.loc[:, read.columns[2:11]].std(axis=1)/1000 # converto in secondi\n",
    "    #print(read['std'].to_numpy())\n",
    "\n",
    "    # θ = 180 - θ\n",
    "    data[θ] = {'t':read['Lag [ms]'].to_numpy()/1000,'g':read['Average'].to_numpy(),'sigmag': read['std'].to_numpy()} # converto in secondi\n",
    "\n",
    "# TETA = 180 - TETA # inverto angoli supplementari\n",
    "\n",
    "# print(data)"
   ]
  },
  {
   "cell_type": "code",
   "execution_count": 56,
   "metadata": {},
   "outputs": [],
   "source": [
    "# plt.errorbar(data[90]['t'],data[90]['g'],yerr=data[90]['sigmag'],fmt='',label='θ = 90°')\n",
    "# plt.xlabel('Lag [s]')\n",
    "# plt.xscale('log')\n",
    "# plt.xlim(0.0001,0.010)\n",
    "# plt.ylim(0,0.1)\n",
    "# plt.ylabel('g(τ)')\n",
    "# plt.legend()\n",
    "# plt.show()"
   ]
  },
  {
   "cell_type": "code",
   "execution_count": 57,
   "metadata": {},
   "outputs": [],
   "source": [
    "# Constants\n",
    "n = 1.33 # index of refraction\n",
    "η = 10**-9  # g/(nm*s) viscosity of water\n",
    "λ = 633  # nm wavelength of the laser\n",
    "T = 293  # K temperature\n",
    "KB = 1.3806e-2  # g (nm)^2 / s^2 K boltzmann constant"
   ]
  },
  {
   "cell_type": "markdown",
   "metadata": {},
   "source": [
    "interpolazione attraverso al funzione: $g^2(\\tau) = A e^{-\\gamma \\tau} + B$"
   ]
  },
  {
   "cell_type": "code",
   "execution_count": 58,
   "metadata": {},
   "outputs": [],
   "source": [
    "# fit data\n",
    "CHI_r = []\n",
    "DOF = []\n",
    "PVALUE = []\n",
    "\n",
    "f = lambda x, A, B, γ: A*np.exp(-γ*x) + B\n",
    "\n",
    "for key in data.keys():\n",
    "    x = data[key]['t']\n",
    "    y = data[key]['g']\n",
    "    sigmay = data[key]['sigmag']\n",
    "    m = Interpolazione(x, y, sigmay, f, [0.05, 0.001, 2.7],['A','B','γ'])\n",
    "    data[key]['fit'] = m\n",
    "    # print(m.values['γ'])\n",
    "    data[key]['gamma'] = m.values['γ']\n",
    "    GAMMA.append(m.values['γ'])\n",
    "    sigmaGAMMA.append(m.errors['γ'])\n",
    "    CHI_r.append(m.rchi2)\n",
    "    DOF = m.dof\n",
    "    PVALUE.append(m.pvalue)\n",
    "\n",
    "GAMMA = np.array(GAMMA) \n",
    "sigmaGAMMA = np.array(sigmaGAMMA)\n"
   ]
  },
  {
   "cell_type": "code",
   "execution_count": 59,
   "metadata": {},
   "outputs": [
    {
     "name": "stdout",
     "output_type": "stream",
     "text": [
      "---------------------------FIT RESULT----------------------------\n"
     ]
    },
    {
     "data": {
      "text/html": [
       "<div>\n",
       "<style scoped>\n",
       "    .dataframe tbody tr th:only-of-type {\n",
       "        vertical-align: middle;\n",
       "    }\n",
       "\n",
       "    .dataframe tbody tr th {\n",
       "        vertical-align: top;\n",
       "    }\n",
       "\n",
       "    .dataframe thead th {\n",
       "        text-align: right;\n",
       "    }\n",
       "</style>\n",
       "<table border=\"1\" class=\"dataframe\">\n",
       "  <thead>\n",
       "    <tr style=\"text-align: right;\">\n",
       "      <th></th>\n",
       "      <th>θ</th>\n",
       "      <th>γ</th>\n",
       "      <th>σγ</th>\n",
       "      <th>γ_out</th>\n",
       "      <th>pvalue</th>\n",
       "      <th>chir</th>\n",
       "      <th>dof</th>\n",
       "    </tr>\n",
       "  </thead>\n",
       "  <tbody>\n",
       "    <tr>\n",
       "      <th>0</th>\n",
       "      <td>90</td>\n",
       "      <td>2451.555384</td>\n",
       "      <td>0.03625</td>\n",
       "      <td>(2.45 ± 0.0)e3 Hz</td>\n",
       "      <td>0.0</td>\n",
       "      <td>92262.55</td>\n",
       "      <td>50</td>\n",
       "    </tr>\n",
       "  </tbody>\n",
       "</table>\n",
       "</div>"
      ],
      "text/plain": [
       "    θ            γ       σγ              γ_out  pvalue      chir  dof\n",
       "0  90  2451.555384  0.03625  (2.45 ± 0.0)e3 Hz     0.0  92262.55   50"
      ]
     },
     "metadata": {},
     "output_type": "display_data"
    }
   ],
   "source": [
    "# print FIT RESULT:\n",
    "GAMMAFVAL = [final_val(g,sg,2,3,'Hz') for g,sg in zip(GAMMA,sigmaGAMMA)]\n",
    "gammateta = pd.DataFrame({'θ':TETA,'γ':GAMMA,'σγ':sigmaGAMMA,'γ_out':GAMMAFVAL,'pvalue':PVALUE,'chir':CHI_r,'dof':DOF})\n",
    "\n",
    "print('---------------------------FIT RESULT----------------------------')\n",
    "display(gammateta)"
   ]
  },
  {
   "cell_type": "markdown",
   "metadata": {},
   "source": [
    "# PLOT FIT"
   ]
  },
  {
   "cell_type": "code",
   "execution_count": 61,
   "metadata": {},
   "outputs": [
    {
     "data": {
      "application/vnd.plotly.v1+json": {
       "config": {
        "plotlyServerURL": "https://plot.ly"
       },
       "data": [
        {
         "hoverinfo": "skip",
         "line": {
          "color": "#0d0887"
         },
         "mode": "lines",
         "showlegend": false,
         "type": "scatter",
         "x": {
          "bdata": "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",
          "dtype": "f8"
         },
         "y": {
          "bdata": "fbm7RfZMrT88/wv7p5ysP0m3E2eC8Ks/PRQAbGxIqz9sF6yDTaSqPxiTDLwNBKo/Rcixs5VnqT/HHV6Wzs6oPxhxsRmiOag/joToefqnpz9uEbB2whmnP10HC1DljqY/N4VLw04Hpj9gGh4I64KlPwfips2mAaU/pgywN2+DpD9cbunbMQikP4arOL/cj6M/C58ZU14aoz+FmA5zpaeiP4kSIGKhN6I/moNryEHKoT+o7sCwdl+hP/vZToYw96A/ilVcEmCRoD/yuxB69i2gPwi2kXjKmZ8/G2byXjzcnj+S+zn/JiOeP4dfY1hvbp0/yVF9DPu9nD/5lNFcsBGcPxVWIyZ2aZs/C0ME3TPFmj95xz+K0SSaP7bpW8c3iJk/nUUvu0/vmD+bpYsWA1qYP2i9/BA8yJc/4oyaZeU5lz9Y9O5P6q6WP2MG7og2J5Y/CaYARLailT+8AiEsViGVP1SGCGEDo5Q/mctudKsnlD+JNllnPK+TP+PJeqekOZM//tejDNPGkj/9LkHWtlaSPwlj6qg/6ZE/Otv+i11+kT/7R1HnABaRP/or4YAasJA/miKieptMkD/XIaGg6taPP1fgpqozGY8/TsVVZfZfjj+qi9bJF6uNP0XsiHR9+ow/tvUpoQ1OjD+ZpBEnr6WLP8Evh3VJAYs/Tn8rkMRgij/FSHkLCcSJP4BNWgkAK4k/tzvRNZOViD+TtbfDrAOIP8UEkGk3dYc/dgNqXh7qhj/7xtpWTWKGP5+aBoKw3YU/V9y8hjRchT8IT6WAxt2EPwZ5fv1TYoQ/Dqhs+srpgz/nNVnhGXSDP7WrYYYvAYM/DGRWJfuQgj9UTkhfbCOCP/Z3JThzuIE/KgJkFABQgT9cLbu2A+qAPwEl6j1vhoA/3ziMIjQlgD9JZfRpiIx/P3bxcDYj034/x2HjnR0efj93Lvs2XW19P9t/5zfIwHw/JveTckUYfD8RMPxQvHN7PypyldEU03o/0wvOgzc2ej8O1KGEDZ15P39TQ3uAB3k/qxfZlXp1eD8Lt06G5uZ3P5oOOX+vW3c/KkXNMMHTdj/YIurFB092Px5OM+FvzXU/VwI+muZOdT811s56WdN0PyUrKHy2WnQ/3+BoBOzkcz896/rj6HFzPw5qEVOcAXM/X+U17/WTcj/qUuS45ShyPzaLNRFcwHE/UNeXt0lacT/aQZXHn/ZwP6RYp7ZPlXA/Ow0YUks2cD/0yt55CbNvP15d29vc/W4/bs8jW/ZMbj+zMFgoPKBtP6Wb9g+V92w/teytduhSbD+MrcZVHrJrP8yuoTcfFWs/H81LNNR7aj/1YSbuJuZpP+Lio44BVGk/5jUYw07FaD+UQ5y5+TloP9NSBB7usWc/0rzoFhgtZz9pisBCZKtmP7eODbW/LGY/WJWZ8xexZT8aPcTzWjhlP40a4Rd3wmQ//r+lLFtPZD/xSqdm9t5jP2QZ5184cWM/P0tuFREGYz+wtvfkcJ1iPw34p4pIN2I/PkjTHonTYT8+xtATJHJhP7Ti2jMLE2E/LZ78njC2YD+gTAvJhltgP5KSrHcAA2A/+6PQgCFZXz8YfowNVrBePyCs7fSFC14/S9wOK5lqXT+iSkI1eM1cPzvJpCYMNFw/gnjFnD6eWz99smG8+QtbP1OvNC4ofVo/tGvaG7XxWT//XMUsjGlZP4aBRoOZ5Fg/MV6nucliWD/pfFXfCeRXP6QCH3ZHaFc/HfV/b3DvVj9YzP8pc3lWP6vsnm4+BlY/sKlTbsGVVT9ydJa/6ydVP7PY/FutvFQ/gPDinfZTVD8H9iI+uO1TP0if2lHjiVM/cu89SGkoUz9iLXfoO8lSP3Ovk09NbFI/Oi997o8RUj+yWf+H9rhRP4JR2S50YlE/3dvaQ/wNUT/T8Ax0grtQP+Rq5bb6alA/PJKFTFkcUD/KhAZ4JZ9PPwzUeKM3CU8/9kxpO9N2Tj8yfPnj4udNP956R8JRXE0/BvtieQvUTD8AtFQn/E5MPy7AN2IQzUs/OH9kNTVOSz+Ek6weWNJKP0iTpwtnWUo/UggQV1DjST9oXDDGAnBJP3xRX4Zt/0g/jqiLKoCRSD/OmtaoKiZIPxTMPFhdvUc/7F5N7ghXRz8W1e58HvNGP9hoMXCPkUY/Q44ujE0yRj9fTPXqStVFP04hg/p5ekU/DiXJes0hRT9tIb17OMtEP4xWdluudkQ/0KVVxCIkRD8C3jiridNDP+bluE3XhEM/FINyMAA4Qz+SfVkd+exCPxDhFSK3o0I/Nx9rji9cQj/c1qjyVxZCP1gGJR4m0kE/s2+/HZCPQT959206jE5BP7bH0fcQD0E/YwLVEhXRQD9ez1CAj5RAP66Tu2t3WUA/diDfNcQfQD/cUy3n2s4/P9StKNnVYD8/2nZcNGn1Pj94ImVMhYw+P9kFhtMaJj4/+7xt2BrCPT8LDAjEdmA9PwbrXFcgAT0/lWx8qQmkPD/6MXclJUk8P9ogY4hl8Ds/RBBs372ZOz9AJfCFIUU7P86XpyOE8jo/AJzXqtmhOj9OK5BWFlM6PwJt9KguBjo/KH2NaRe7OT+8U6ejxXE5P6GOt6QuKjk/+eLN+kfkOD9E+w1zB6A4P66JMhhjXTg/oFYZMVEcOD+qFVg/yNw3P2bL2f2+njc/DpGEXyxiNz+4gueNByc3P2en8OdH7TY/d6KqAOW0Nj9k/wGe1n02PzDqkbcUSDY/XSd4dZcTNj/QHzAvV+A1P+zVdGpMrjU/9pkp2m99NT9JVUlduk01P09E3P0kHzU/lPjz76jxND/gfK2QP8U0P3R2OWXimTQ/Gx/qGYtvND/P9EaBM0Y0P5L8JZPVHTQ/knbKa2v2Mz/84ghL788zPy83cJNbqjM/LyR4yaqFMz9+T7SS12EzP7lgDLXcPjM/oMb4FbUcMz8lF8S5W/syP67u0MLL2jI/TDPkcAC7Mj+UoXMg9ZsyP/qI+EmlfTI/k55GgQxgMj+KzeZ0JkMyPwbtde3uJjI/PEQHzWELMj9sxYoOe/AxP5rpNsU21jE/3hb2G5G8MT8pfNdUhqMxP1RNg8gSizE/XEuy5TJzMT+khKgw41sxPwE6s0IgRTE/ZdWpyeYuMT/K33GHMxkxPxzkhVEDBDE/pi1/EFPvMD+HUKK/H9swP5NrbmxmxzA/8xIvNiS0MD+q05BNVqEwPyRAOPT5jjA/nXZbfAx9MD9YEl5Ii2swPyF5b8pzWjA/xHYrhMNJMD+cGD0GeDkwP6K7A/COKTA/rj867wUaMD/8UqC/2gowP6ySS1UW+C8/8OQvDirbLz9Sx6Fx7L4vP4NR0WBZoy8/R6LQ1WyILz+0mv3iIm4vPwUlb7J3VC8/afFlhWc7Lz8JlMCz7iIvP8TvcqsJCy8/ytkA8LTzLj+P4vsZ7dwuPx0xhNauxi4/OF7M5vawLj87PaAfwpsuP/WA7mgNhy4/TStVvdVyLj/DtrApGF8uP2jprczRSy4/JkFe1v84Lj+66c6HnyYuPwItojKuFC4/ok6rOCkDLj91xIwLDvItP3S9WCxa4S0/OOkzKwvRLT9kcvqmHsEtP8Ue50ySsS0/Log82GOiLT9WYfARkZMtP3C6WNAXhS0/ZTnb9vV2LT/QOZ51KWktP2nJO0mwWy0/b3V2eohOLT9D3u8dsEEtP10G4VMlNS0/O1LUR+YoLT8HL2Ew8RwtPwlW6U5EES0/DqNX790FLT9ndOBnvPosPxKLwxje7yw/H2IPbEHlLD9U9GXV5NosP5bnwtHG0Cw/cxVD5+XGLD/IaO2kQL0sP0cIfaLVsyw/KcYsgKOqLD89zYPmqKEsP/aDI4bkmCw/GJ6WF1WQLD/lVSFb+YcsP8nFkhjQfyw/x1sXH9h3LD/zXwxFEHAsP4WH1Gd3aCw/Jo6tawxhLD9Uz4Y7zlksP8LZ2Mi7Uiw/4vZ9C9RLLD/BoIsBFkUsP67gLK+APiw/EJF9HhM4LD8wfWZfzDEsP6NZeoerKyw/PpDTsa8lLD+c2vL+1x8sP1CmnpQjGiw/BD7DnZEULD/hslNKIQ8sP7GBK8/RCSw/Ve/wZaIELD86GPhMkv8rP4uuJseg+is/DmPYG831Kz+g9MOWFvErP1zi4Id87Cs/pLxNQ/7nKz83ETchm+MrP8vuvn1S3ys/dPzkuCPbKz97IW82DtcrPyW60l0R0ys/LFYemizPKz+T/eNZX8srP7/4Iw+pxys/shg4LwnEKz9ffL8yf8ArPy7QipUKvSs/wgSJ1qq5Kz9AerR3X7YrP0OdAP4nsys/5fJH8QOwKz8nkTrc8qwrP0QBTUz0qSs/Vomn0QenKz/r2hX/LKQrPygk92ljoSs/IIEuqqqeKz8jyxNaApwrP8XDZBZqmSs/fJk2fuGWKz+qw+cyaJQrPxY0Etj9kSs/wdt9E6KPKz8hgRONVI0rP+blz+4Uiys/Tzq35OKIKz9S3MgcvoYrP7tg80amhCs/mOQIFZuCKz8lpbM6nIArP57cam2pfis/WuJnZMJ8Kz+IjJvY5norPxLSo4QWeSs/GqvBJFF3Kz+ZLs92lnUrP7HrNTrmcys/R33lL0ByKz9/VkoapHArP9fGRL0Rbys/cjQg3ohtKz9vi4pDCWwrP+bgi7WSais/eEh+/SRpKz8l2wXmv2crP03uCDtjZis/sHmoyQ5lKz9dqzhgwmMrP26oOc59Yis/h3lQ5EBhKz8bIkB0C2ArP1fh4lDdXis/5JsjTrZdKz9YbfdAllwrP49gV/98Wys/6U06YGpaKz+V3o47XlkrP/qzNWpYWCs/f7L7xVhXKz+3bpQpX1YrP0e8lHBrVSs/nl1td31UKz/K02UblVMrP55NlzqyUis/b7Xns9RRKz+33ARn/FArP9nEXzQpUCs/aAQo/VpPKz80SEejkU4rP4PvXAnNTSs/0MK5Eg1NKz9hxFujUUwrPy8a6p+aSys/cxCx7edKKz9SNJ5yOUorPwuGPBWPSSs/IMKwvOhIKz/twLVQRkgrPyXsmLmnRys/tck24AxHKz+Am/etdUYrP4kTzAziRSs/+xsq51FFKz+psgkoxUQrP4LX4bo7RCs/ko2li7VDKz8W7sCGMkMrP0JNFpmyQis/PHD7rzVCKz/80za5u0ErP5EE/aJEQSs/gQTuW9BAKz/LwxLTXkArP0Sm2vfvPys/2xgZuoM/Kz+BNQMKGj8rP0V1LdiyPis/Z3CJFU4+Kz/2q2Oz6z0rP7p0YaOLPSs/Dcd+1y09Kz9dQwxC0jwrPwQvrdV4PCs/NIFVhSE8Kz+l+0dEzDsrP8JOFAZ5Oys/EEmVvic7Kz+MEe9h2DorP71sjeSKOis/NAwiOz86Kz9G6KJa9TkrP7ujSDitOSs/MPmMyWY5Kz8CMikEIjkrP3qmFN7eOCs/CEeDTZ04Kz9ULuRIXTgrP/E74MYeOCs/gLdYvuE3Kz8M/GUmpjcrP28rVvZrNys/kOmrJTM3Kz9KHx2s+zYrP8/EkYHFNis/WbMinpA2Kz/3fRj6XDYrP1xR6o0qNis/bNo8Uvk1Kz99M+E/yTUrPwPY00+aNSs/nZ47e2w1Kz9IuWi7PzUrP5+70wkUNSs//aYcYOk0Kz9k/Am4vzQrP/nThwuXNCs/BvqmVG80Kz9TEZyNSDQrP7O6vrAiNCs/vMGIuP0zKz9nTpWf2TMrP6EboGC2Mys/jLKE9pMzKz90qj1ccjMrPz/t44xRMys/TwCugzEzKz+1Ue87EjMrP6CJF7HzMis/4d+x3tUyKz98dWTAuDIrPyey71GcMis/l6Utj4AyKz+SbBF0ZTIrP6WZpvxKMis/b6EQJTEyKz9lSorpFzIrP/0fZUb/MSs/MOkIOOcxKz8xIvO6zzErP1t5tsu4MSs/LU/6ZqIxKz9POXqJjDErP4iIBTB3MSs/mdF+V2IxKz/keNv8TTErP9BAIx06MSs/3tpvtSYxKz9fe+zCEzErP7Bv1UIBMSs/+bZ3Mu8wKz9gnTCP3TArP5NZbVbMMCs/rKyqhbswKz9ZhHQaqzArPzSfZRKbMCs/TzMna4swKz/VlnAifDArP7nqBjZtMCs/cce8o14wKz+e63FpUDArP6XsEoVCMCs/KemY9DQwKz9RPQm2JzArP+E4dccaMCs/C9f5Jg4wKz/1d7/SATArP+6b+cj1Lys/OKDmB+ovKz9wfc+N3i8rP4OHB1nTLys/Hy/sZ8gvKz+hxOS4vS8rP3c8YkqzLys/5/TeGqkvKz80fd4ony8rPx5e7XKVLys/reOg94svKz9K6Ja1gi8rPxChdat5Lys/V2vr13AvKz93m645aC8rP6hMfc9fLys/DzIdmFcvKz/haFuSTy8rP51LDL1HLys/U0YLF0AvKz/4qzqfOC8rP7GMg1QxLys/JY3VNSovKz/DviZCIy8rP+x4c3gcLys/GjO+1xUvKz/dXw9fDy8rP8BIdQ0JLys//+oD4gIvKz8h1dTb/C4rP1EFB/r2Lis/isi+O/EuKz+QmiWg6y4rP50GaibmLis/04i/zeAuKz9ncF6V2y4rP33Cg3zWLis/tR1xgtEuKz9lnmymzC4rP3zDwOfHLis/AFS8RcMuKz87RbK/vi4rP3Wh+VS6Lis/UW/tBLYuKz+6mezOsS4rP2LYWbKtLis/0JibrqkuKz/45xvDpS4rP1lcSO+hLis/owCSMp4uKz/ZPm2Mmi4rP/PLUfyWLis//pO6gZMuKz+vpiUckC4rP3AkFMuMLis/2ysKjokuKz+mx45khi4rPwHdK06DLis/WBpuSoAuKz+A5uRYfS4rP0pQInl6Lis/eP66qncuKz8UIEbtdC4rPyNdXUByLis/vMeco28uKz9rzaIWbS4rP/woEJlqLis/ktSHKmguKz8S/K7KZS4rP+fvLHljLis/DhirNWEuKz9359T/Xi4rP6rPV9dcLis/wDTju1ouKz+fYSitWC4rP3182qpWLis/q3uutFQuKz+gGlvKUi4rP0vPmOtQLis/o78hGE8uKz9zt7FPTS4rP2seBpJLLis/Yu7d3kkuKz/iqfk1SC4rP9xSG5dGLis/pGEGAkUuKz8WvH92Qy4rP/qsTfRBLis/mds3e0AuKz+AQwcLPy4rP38shqM9Lis/zyKARDwuKz9r78HtOi4rP5mQGZ85Lis/mjJWWDguKz+QKEgZNy4rP4blwOE1Lis/pPWSsTQuKz+R95GIMy4rP/aVkmYyLis/LYFqSzEuKz8WafA2MC4rPwz3+ygvLis/B8hlIS4uKz/ZZgcgLS4rP5VGuyQsLis/D71cLysuKz+L/cc/Ki4rP3sT2lUpLis/bd1wcSguKz8JCGuSJy4rPzoJqLgmLis/bBsI5CUuKz/rOGwUJS4rP1kXtkkkLis/RSPIgyMuKz/de4XCIi4rP7Du0QUiLis/mfORTSEuKz+0qKqZIC4rP3fOAeofLis/2sN9Ph8uKz+dggWXHi4rP52bgPMdLis/RjPXUx0uKz8b/vG3HC4rP0o9uh8cLis/XbsZixsuKz/8yPr5Gi4rP8c5SGwaLis/OGHt4RkuKz+kD9ZaGS4rP0mP7tYYLis/aqEjVhguKz+Ee2LYFy4rP5DEmF0XLis/UZK05RYuKz+9ZqRwFi4rP20tV/4VLis/Hjm8jhUuKz9DQcMhFS4rP6ZfXLcULis/FA54TxQuKz8bJAfqEy4rP9PU+oYTLis/taxEJhMuKz9/j9bHEi4rPye2omsSLis/1qybERIuKz/xULS5ES4rPzLP32MRLis/xqEREBEuKz95jj2+EC4rP/GkV24QLis/6jxUIBAuKz+I9CfUDy4rP6yux4kPLis/VJEoQQ8uKz8HBED6Di4rP0iuA7UOLis/FHZpcQ4uKz9qfmcvDi4rP9kl9O4NLis/GQUGsA0uKz+s7ZNyDS4rP4bolDYNLis/vzQA/AwuKz9LRs3CDC4rP73E84oMLis/D4prVAwuKz9toSwfDC4rPxJGL+sLLis/I+JruAsuKz+TDduGCy4rPxCNdVYLLis/9FA0JwsuKz8+dBD5Ci4rP487A8wKLis/LxQGoAouKz8ZkxJ1Ci4rPwp0IksKLis/l5gvIgouKz9KBzT6CS4rP77qKdMJLis/zJALrQkuKz+yadOHCS4rP0IHfGMJLis/HRwAQAkuKz/melodCS4rP4UVhvsILis/afx92gguKz/RXT26CC4rPxWFv5oILis/+Nn/ewguKz/93/ldCC4rP741qUAILis/S5QJJAguKz+FzhYICC4rP4nQzOwHLis/Ep8n0gcuKz/mViO4By4rP0gsvJ4HLis/Y2ruhQcuKz/JcrZtBy4rP+K8EFYHLis/b9X5PgcuKz8IXm4oBy4rP5wMaxIHLis/96rs/AYuKz9KFvDnBi4rP7c+ctMGLis/3iZwvwYuKz9s4+arBi4rP7Ca05gGLis/L4QzhgYuKz8+6AN0Bi4rP5kfQmIGLis/A5PrUAYuKz/nuv0/Bi4rP/Eedi8GLis/vlVSHwYuKz92BJAPBi4rP37eLAAGLis/GqUm8QUuKz8fJ3viBS4rP55AKNQFLis/ltorxgUuKz+j6oO4BS4rP7ZyLqsFLis/x4ApngUuKz+NLnORBS4rPzmhCYUFLis/LwnreAUuKz/DoRVtBS4rP/Wwh2EFLis/NIc/VgUuKz8dfztLBS4rPz39eUAFLis/12/5NQUuKz+nTrgrBS4rP6oatSEFLis/513uFwUuKz82q2IOBS4rPw2eEAUFLis/TNr2+wQuKz8HDBTzBC4rP1jnZuoELis/Lyju4QQuKz8ekqjZBC4rPzHwlNEELis/uxSyyQQuKz8u2f7BBC4rP/AderoELis/LcoiswQuKz+0y/erBC4rP8oW+KQELis/BqYingQuKz8nenaXBC4rP/WZ8pAELis/GBKWigQuKz/z9F+EBC4rP4haT34ELis/T2BjeAQuKz8YKZtyBC4rP+7c9WwELis/8ahyZwQuKz87vxBiBC4rP8FWz1wELis/OautVwQuKz/3/KpSBC4rP9eQxk0ELis/HLD/SAQuKz9cqFVEBC4rP2DLxz8ELis/EG9VOwQuKz9T7f02BC4rP/+jwDIELis/uvScLgQuKz/qRJIqBC4rP5f9nyYELis/WovFIgQuKz9IXgIfBC4rP9npVRsELis/1aS/FwQuKz9ECT8UBC4rP1OU0xAELis/SMZ8DQQuKz9sIjoKBC4rP/cuCwcELis/AnXvAwQuKz91gOYABC4rP/Tf7/0DLis/zyQL+wMuKz/z4jf4Ay4rP9uwdfUDLis/fSfE8gMuKz8+4iLwAy4rP+N+ke0DLis/g50P6wMuKz924JzoAy4rP0vsOOYDLis/uWfj4wMuKz+T+5vhAy4rP7lSYt8DLis/Dxo23QMuKz9rABfbAy4rP5K2BNkDLis/Je/+1gMuKz+YXgXVAy4rPyi7F9MDLis/z7w10QMuKz87HV/PAy4rP8CXk80DLis/VOnSywMuKz+A0BzKAy4rP1kNccgDLis/dmHPxgMuKz/ljzfFAy4rPyddqcMDLis/I48kwgMuKz8f7ajAAy4rP7Y/Nr8DLis/1FDMvQMuKz+r62q8Ay4rP6rcEbsDLis/evHAuQMuKz/y+He4Ay4rPxPDNrcDLis/ACH9tQMuKz/15Mq0Ay4rP0bin7MDLis/Ue17sgMuKz9+216xAy4rPzaDSLADLis/27s4rwMuKz/HXS+uAy4rP0JCLK0DLis/fkMvrAMuKz+RPDirAy4rP3IJR6oDLis/7oZbqQMuKz+qknWoAy4rPxgLlacDLis/ds+5pgMuKz/Iv+OlAy4rP9K8EqUDLis/FahGpAMuKz/LY3+jAy4rP+HSvKIDLis/9Nj+oQMuKz9MWkWhAy4rP9k7kKADLis/LWPfnwMuKz98tjKfAy4rP5Qcip4DLis/23zlnQMuKz9Nv0SdAy4rP3XMp5wDLis/bo0OnAMuKz/c63ibAy4rP+rR5poDLis/RypYmgMuKz8j4MyZAy4rPyvfRJkDLis/hxPAmAMuKz/XaT6YAy4rPzDPv5cDLis/GjFElwMuKz+LfcuWAy4rP+eiVZYDLis//I/ilQMuKz8ANHKVAy4rP45+BJUDLis/pV+ZlAMuKz+jxzCUAy4rP0WnypMDLis/pu9mkwMuKz85kgWTAy4rP8iAppIDLis/dq1JkgMuKz+3Cu+RAy4rP1KLlpEDLis/XSJAkQMuKz89w+uQAy4rP6JhmZADLis/iPFIkAMuKz8yZ/qPAy4rPyq3rY8DLis/QNZijwMuKz+IuRmPAy4rP1ZW0o4DLis/QaKMjgMuKz8ck0iOAy4rP/oeBo4DLis/KTzFjQMuKz8w4YWNAy4rP9IESI0DLis/CJ4LjQMuKz8CpNCMAy4rPyYOl4wDLis/DNRejAMuKz+A7SeMAy4rP39S8osDLis/OPu9iwMuKz8I4IqLAy4rP3n5WIsDLis/Q0AoiwMuKz9MrfiKAy4rP6I5yooDLis/ft6cigMuKz9BlXCKAy4rP3ZXRYoDLis/zh4bigMuKz8g5fGJAy4rP2ekyYkDLis/xVaiiQMuKz999nuJAy4rP/d9VokDLis/uecxiQMuKz9vLg6JAy4rP+FM64gDLis/+D3JiAMuKz8=",
          "dtype": "f8"
         }
        },
        {
         "error_y": {
          "array": {
           "bdata": "BNFiuBOYwT6K13QDaFSxPpFO+hBv+7k+9TJLn8fPwT4nWFbAos+3PmFbN3XbJMI+WX9M66POtD5+kIJ5MmOzPgo2BSePh7s+rvcP/wcmtz7FmLdwOWO2Pi1QTf19dLM+qyousDLLoz6K6347yuq2Ps3M4lmWB7I+5ppDPdvUrj6+j7hCRhqgPgvNyz6Y/6Q+5fwqzuIOoD7+juZ33/mnPpwMaTUkAK4++z6zqheepj4HmPNLTD6xPhvI+TpfZKs+cvZRZu7Xpz717UIXiEClPlAhS5zfS6U+6lmrpF3hqT7jfYzbs1CkPmh2U4UiBag+LVHEJoPlsT7nguCTqKuxPoNYKlNZYac+G3FxkwQcpD4hICGfov2jPnagPiqVuag+5ZczHo03oD73nwL8C4GsPtANkNCsnKg+/9erentyoz68ICHZWTShPri2CBBqtaE+Pg4eL4GvoT4OhVrpUGOTPjmiziz8t5Y+t0ah9/UIoT7htQmMy42fPm8FFMZ8saM+suIX+DCCnj63RV3Ag3mWPjgFe+X7f6E+rExClsgSmD5cIgswy8SaPg==",
           "dtype": "f8"
          },
          "color": "#0d0887",
          "thickness": 1.5,
          "type": "data",
          "width": 3
         },
         "marker": {
          "color": "#0d0887"
         },
         "mode": "markers",
         "name": "θ=90°",
         "type": "scatter",
         "x": {
          "bdata": "Sa+8mvLXGj8xRRTu8DIeP43ttaD3xiA/grhhynZ0Ij92gw309SEkP2pOuR11zyU/XxllR/R8Jz9U5BBxcyopP0mvvJry1yo/MUUU7vAyLj+N7bWg98YwP4K4Ycp2dDI/doMN9PUhND9qTrkddc81P18ZZUf0fDc/VOQQcXMqOT9Jr7ya8tc6PzFFFO7wMj4/je21oPfGQD+CuGHKdnRCP3aDDfT1IUQ/ak65HXXPRT9fGWVH9HxHP1TkEHFzKkk/Sa+8mvLXSj8xRRTu8DJOP43ttaD3xlA/grhhynZ0Uj92gw309SFUP2pOuR11z1U/XxllR/R8Vz9U5BBxcypZP0mvvJry11o/MUUU7vAyXj+N7bWg98ZgP4K4Ycp2dGI/doMN9PUhZD9qTrkddc9lP18ZZUf0fGc/VOQQcXMqaT9Jr7ya8tdqPzFFFO7wMm4/je21oPfGcD+CuGHKdnRyP3aDDfT1IXQ/ak65HXXPdT9fGWVH9Hx3P1TkEHFzKnk/Sa+8mvLXej8xRRTu8DJ+P43ttaD3xoA/grhhynZ0gj92gw309SGEPw==",
          "dtype": "f8"
         },
         "y": {
          "bdata": "0oJhCiDGrT8pjNJKxtasP8UEkDV+PKs/BQjVvJmHqj99LgkGxrCpP3Nz4IvlTKk/pllFJK9zqD+s4SL3dHWnP2krQCX48KY/pKQs6GJ4pT/DqjBsg8mjPzj688h6xaI/pI7pZASvoT+XNhyWBn6gPww9YvTcQp8/bijGQylrnT8zD6oeepybP0KS/gNRnJg/cQqGzsallT+S5jSw+siSP685rBUS1ZA/7YDrihnhjT+X3TjOEgmLPzXJ2YUwyIc/ZdNbTeg/hT8HyJ/BCfl+PwyVPRHdFnk/d/PYv4CYcz8a9t6MWJNwP18CnlFGnmw/QaKF2wz9ZD86atgxpkdgP5ANrPyVQl4/WvSQIa45Uz+3VT47SJ5HP0PIUzh9m0A/fnc/L1s5Kz9MbneDJpE2P4fLFsrGreM+enUUO6gxMj9L5QSlHFcpP9R6Ae5gYQS/6gsUvfv/Ij+uwYtWn78xP499tCs5ljM/XGBhUanDLj8NMurWQvsuP5RiuFwz8Bk/N1hCu2aZJT/KcBuRGNIrP/q5E38joDM/u1HaTf/B/z7kXvsqQq8kPw==",
          "dtype": "f8"
         }
        }
       ],
       "layout": {
        "font": {
         "color": "Black",
         "size": 18
        },
        "height": 600,
        "plot_bgcolor": "white",
        "template": {
         "data": {
          "bar": [
           {
            "error_x": {
             "color": "#2a3f5f"
            },
            "error_y": {
             "color": "#2a3f5f"
            },
            "marker": {
             "line": {
              "color": "#E5ECF6",
              "width": 0.5
             },
             "pattern": {
              "fillmode": "overlay",
              "size": 10,
              "solidity": 0.2
             }
            },
            "type": "bar"
           }
          ],
          "barpolar": [
           {
            "marker": {
             "line": {
              "color": "#E5ECF6",
              "width": 0.5
             },
             "pattern": {
              "fillmode": "overlay",
              "size": 10,
              "solidity": 0.2
             }
            },
            "type": "barpolar"
           }
          ],
          "carpet": [
           {
            "aaxis": {
             "endlinecolor": "#2a3f5f",
             "gridcolor": "white",
             "linecolor": "white",
             "minorgridcolor": "white",
             "startlinecolor": "#2a3f5f"
            },
            "baxis": {
             "endlinecolor": "#2a3f5f",
             "gridcolor": "white",
             "linecolor": "white",
             "minorgridcolor": "white",
             "startlinecolor": "#2a3f5f"
            },
            "type": "carpet"
           }
          ],
          "choropleth": [
           {
            "colorbar": {
             "outlinewidth": 0,
             "ticks": ""
            },
            "type": "choropleth"
           }
          ],
          "contour": [
           {
            "colorbar": {
             "outlinewidth": 0,
             "ticks": ""
            },
            "colorscale": [
             [
              0,
              "#0d0887"
             ],
             [
              0.1111111111111111,
              "#46039f"
             ],
             [
              0.2222222222222222,
              "#7201a8"
             ],
             [
              0.3333333333333333,
              "#9c179e"
             ],
             [
              0.4444444444444444,
              "#bd3786"
             ],
             [
              0.5555555555555556,
              "#d8576b"
             ],
             [
              0.6666666666666666,
              "#ed7953"
             ],
             [
              0.7777777777777778,
              "#fb9f3a"
             ],
             [
              0.8888888888888888,
              "#fdca26"
             ],
             [
              1,
              "#f0f921"
             ]
            ],
            "type": "contour"
           }
          ],
          "contourcarpet": [
           {
            "colorbar": {
             "outlinewidth": 0,
             "ticks": ""
            },
            "type": "contourcarpet"
           }
          ],
          "heatmap": [
           {
            "colorbar": {
             "outlinewidth": 0,
             "ticks": ""
            },
            "colorscale": [
             [
              0,
              "#0d0887"
             ],
             [
              0.1111111111111111,
              "#46039f"
             ],
             [
              0.2222222222222222,
              "#7201a8"
             ],
             [
              0.3333333333333333,
              "#9c179e"
             ],
             [
              0.4444444444444444,
              "#bd3786"
             ],
             [
              0.5555555555555556,
              "#d8576b"
             ],
             [
              0.6666666666666666,
              "#ed7953"
             ],
             [
              0.7777777777777778,
              "#fb9f3a"
             ],
             [
              0.8888888888888888,
              "#fdca26"
             ],
             [
              1,
              "#f0f921"
             ]
            ],
            "type": "heatmap"
           }
          ],
          "histogram": [
           {
            "marker": {
             "pattern": {
              "fillmode": "overlay",
              "size": 10,
              "solidity": 0.2
             }
            },
            "type": "histogram"
           }
          ],
          "histogram2d": [
           {
            "colorbar": {
             "outlinewidth": 0,
             "ticks": ""
            },
            "colorscale": [
             [
              0,
              "#0d0887"
             ],
             [
              0.1111111111111111,
              "#46039f"
             ],
             [
              0.2222222222222222,
              "#7201a8"
             ],
             [
              0.3333333333333333,
              "#9c179e"
             ],
             [
              0.4444444444444444,
              "#bd3786"
             ],
             [
              0.5555555555555556,
              "#d8576b"
             ],
             [
              0.6666666666666666,
              "#ed7953"
             ],
             [
              0.7777777777777778,
              "#fb9f3a"
             ],
             [
              0.8888888888888888,
              "#fdca26"
             ],
             [
              1,
              "#f0f921"
             ]
            ],
            "type": "histogram2d"
           }
          ],
          "histogram2dcontour": [
           {
            "colorbar": {
             "outlinewidth": 0,
             "ticks": ""
            },
            "colorscale": [
             [
              0,
              "#0d0887"
             ],
             [
              0.1111111111111111,
              "#46039f"
             ],
             [
              0.2222222222222222,
              "#7201a8"
             ],
             [
              0.3333333333333333,
              "#9c179e"
             ],
             [
              0.4444444444444444,
              "#bd3786"
             ],
             [
              0.5555555555555556,
              "#d8576b"
             ],
             [
              0.6666666666666666,
              "#ed7953"
             ],
             [
              0.7777777777777778,
              "#fb9f3a"
             ],
             [
              0.8888888888888888,
              "#fdca26"
             ],
             [
              1,
              "#f0f921"
             ]
            ],
            "type": "histogram2dcontour"
           }
          ],
          "mesh3d": [
           {
            "colorbar": {
             "outlinewidth": 0,
             "ticks": ""
            },
            "type": "mesh3d"
           }
          ],
          "parcoords": [
           {
            "line": {
             "colorbar": {
              "outlinewidth": 0,
              "ticks": ""
             }
            },
            "type": "parcoords"
           }
          ],
          "pie": [
           {
            "automargin": true,
            "type": "pie"
           }
          ],
          "scatter": [
           {
            "fillpattern": {
             "fillmode": "overlay",
             "size": 10,
             "solidity": 0.2
            },
            "type": "scatter"
           }
          ],
          "scatter3d": [
           {
            "line": {
             "colorbar": {
              "outlinewidth": 0,
              "ticks": ""
             }
            },
            "marker": {
             "colorbar": {
              "outlinewidth": 0,
              "ticks": ""
             }
            },
            "type": "scatter3d"
           }
          ],
          "scattercarpet": [
           {
            "marker": {
             "colorbar": {
              "outlinewidth": 0,
              "ticks": ""
             }
            },
            "type": "scattercarpet"
           }
          ],
          "scattergeo": [
           {
            "marker": {
             "colorbar": {
              "outlinewidth": 0,
              "ticks": ""
             }
            },
            "type": "scattergeo"
           }
          ],
          "scattergl": [
           {
            "marker": {
             "colorbar": {
              "outlinewidth": 0,
              "ticks": ""
             }
            },
            "type": "scattergl"
           }
          ],
          "scattermap": [
           {
            "marker": {
             "colorbar": {
              "outlinewidth": 0,
              "ticks": ""
             }
            },
            "type": "scattermap"
           }
          ],
          "scattermapbox": [
           {
            "marker": {
             "colorbar": {
              "outlinewidth": 0,
              "ticks": ""
             }
            },
            "type": "scattermapbox"
           }
          ],
          "scatterpolar": [
           {
            "marker": {
             "colorbar": {
              "outlinewidth": 0,
              "ticks": ""
             }
            },
            "type": "scatterpolar"
           }
          ],
          "scatterpolargl": [
           {
            "marker": {
             "colorbar": {
              "outlinewidth": 0,
              "ticks": ""
             }
            },
            "type": "scatterpolargl"
           }
          ],
          "scatterternary": [
           {
            "marker": {
             "colorbar": {
              "outlinewidth": 0,
              "ticks": ""
             }
            },
            "type": "scatterternary"
           }
          ],
          "surface": [
           {
            "colorbar": {
             "outlinewidth": 0,
             "ticks": ""
            },
            "colorscale": [
             [
              0,
              "#0d0887"
             ],
             [
              0.1111111111111111,
              "#46039f"
             ],
             [
              0.2222222222222222,
              "#7201a8"
             ],
             [
              0.3333333333333333,
              "#9c179e"
             ],
             [
              0.4444444444444444,
              "#bd3786"
             ],
             [
              0.5555555555555556,
              "#d8576b"
             ],
             [
              0.6666666666666666,
              "#ed7953"
             ],
             [
              0.7777777777777778,
              "#fb9f3a"
             ],
             [
              0.8888888888888888,
              "#fdca26"
             ],
             [
              1,
              "#f0f921"
             ]
            ],
            "type": "surface"
           }
          ],
          "table": [
           {
            "cells": {
             "fill": {
              "color": "#EBF0F8"
             },
             "line": {
              "color": "white"
             }
            },
            "header": {
             "fill": {
              "color": "#C8D4E3"
             },
             "line": {
              "color": "white"
             }
            },
            "type": "table"
           }
          ]
         },
         "layout": {
          "annotationdefaults": {
           "arrowcolor": "#2a3f5f",
           "arrowhead": 0,
           "arrowwidth": 1
          },
          "autotypenumbers": "strict",
          "coloraxis": {
           "colorbar": {
            "outlinewidth": 0,
            "ticks": ""
           }
          },
          "colorscale": {
           "diverging": [
            [
             0,
             "#8e0152"
            ],
            [
             0.1,
             "#c51b7d"
            ],
            [
             0.2,
             "#de77ae"
            ],
            [
             0.3,
             "#f1b6da"
            ],
            [
             0.4,
             "#fde0ef"
            ],
            [
             0.5,
             "#f7f7f7"
            ],
            [
             0.6,
             "#e6f5d0"
            ],
            [
             0.7,
             "#b8e186"
            ],
            [
             0.8,
             "#7fbc41"
            ],
            [
             0.9,
             "#4d9221"
            ],
            [
             1,
             "#276419"
            ]
           ],
           "sequential": [
            [
             0,
             "#0d0887"
            ],
            [
             0.1111111111111111,
             "#46039f"
            ],
            [
             0.2222222222222222,
             "#7201a8"
            ],
            [
             0.3333333333333333,
             "#9c179e"
            ],
            [
             0.4444444444444444,
             "#bd3786"
            ],
            [
             0.5555555555555556,
             "#d8576b"
            ],
            [
             0.6666666666666666,
             "#ed7953"
            ],
            [
             0.7777777777777778,
             "#fb9f3a"
            ],
            [
             0.8888888888888888,
             "#fdca26"
            ],
            [
             1,
             "#f0f921"
            ]
           ],
           "sequentialminus": [
            [
             0,
             "#0d0887"
            ],
            [
             0.1111111111111111,
             "#46039f"
            ],
            [
             0.2222222222222222,
             "#7201a8"
            ],
            [
             0.3333333333333333,
             "#9c179e"
            ],
            [
             0.4444444444444444,
             "#bd3786"
            ],
            [
             0.5555555555555556,
             "#d8576b"
            ],
            [
             0.6666666666666666,
             "#ed7953"
            ],
            [
             0.7777777777777778,
             "#fb9f3a"
            ],
            [
             0.8888888888888888,
             "#fdca26"
            ],
            [
             1,
             "#f0f921"
            ]
           ]
          },
          "colorway": [
           "#636efa",
           "#EF553B",
           "#00cc96",
           "#ab63fa",
           "#FFA15A",
           "#19d3f3",
           "#FF6692",
           "#B6E880",
           "#FF97FF",
           "#FECB52"
          ],
          "font": {
           "color": "#2a3f5f"
          },
          "geo": {
           "bgcolor": "white",
           "lakecolor": "white",
           "landcolor": "#E5ECF6",
           "showlakes": true,
           "showland": true,
           "subunitcolor": "white"
          },
          "hoverlabel": {
           "align": "left"
          },
          "hovermode": "closest",
          "mapbox": {
           "style": "light"
          },
          "paper_bgcolor": "white",
          "plot_bgcolor": "#E5ECF6",
          "polar": {
           "angularaxis": {
            "gridcolor": "white",
            "linecolor": "white",
            "ticks": ""
           },
           "bgcolor": "#E5ECF6",
           "radialaxis": {
            "gridcolor": "white",
            "linecolor": "white",
            "ticks": ""
           }
          },
          "scene": {
           "xaxis": {
            "backgroundcolor": "#E5ECF6",
            "gridcolor": "white",
            "gridwidth": 2,
            "linecolor": "white",
            "showbackground": true,
            "ticks": "",
            "zerolinecolor": "white"
           },
           "yaxis": {
            "backgroundcolor": "#E5ECF6",
            "gridcolor": "white",
            "gridwidth": 2,
            "linecolor": "white",
            "showbackground": true,
            "ticks": "",
            "zerolinecolor": "white"
           },
           "zaxis": {
            "backgroundcolor": "#E5ECF6",
            "gridcolor": "white",
            "gridwidth": 2,
            "linecolor": "white",
            "showbackground": true,
            "ticks": "",
            "zerolinecolor": "white"
           }
          },
          "shapedefaults": {
           "line": {
            "color": "#2a3f5f"
           }
          },
          "ternary": {
           "aaxis": {
            "gridcolor": "white",
            "linecolor": "white",
            "ticks": ""
           },
           "baxis": {
            "gridcolor": "white",
            "linecolor": "white",
            "ticks": ""
           },
           "bgcolor": "#E5ECF6",
           "caxis": {
            "gridcolor": "white",
            "linecolor": "white",
            "ticks": ""
           }
          },
          "title": {
           "x": 0.05
          },
          "xaxis": {
           "automargin": true,
           "gridcolor": "white",
           "linecolor": "white",
           "ticks": "",
           "title": {
            "standoff": 15
           },
           "zerolinecolor": "white",
           "zerolinewidth": 2
          },
          "yaxis": {
           "automargin": true,
           "gridcolor": "white",
           "linecolor": "white",
           "ticks": "",
           "title": {
            "standoff": 15
           },
           "zerolinecolor": "white",
           "zerolinewidth": 2
          }
         }
        },
        "title": {
         "font": {
          "size": 30
         },
         "text": "Correlation Function g<sup>2</sup>(τ)",
         "x": 0.5,
         "xanchor": "center",
         "y": 0.9,
         "yanchor": "top"
        },
        "width": 800,
        "xaxis": {
         "gridcolor": "lightgrey",
         "linecolor": "black",
         "mirror": true,
         "range": [
          -4,
          -2
         ],
         "showline": true,
         "ticks": "outside",
         "title": {
          "text": "t (s)"
         },
         "type": "log"
        },
        "yaxis": {
         "gridcolor": "lightgrey",
         "linecolor": "black",
         "mirror": true,
         "showline": true,
         "ticks": "outside",
         "title": {
          "text": "g<sup>2</sup>(τ)"
         }
        }
       }
      }
     },
     "metadata": {},
     "output_type": "display_data"
    }
   ],
   "source": [
    "colors = px.colors.sequential.Plasma\n",
    "\n",
    "fig = go.Figure()\n",
    "for i,θ in enumerate(data.keys()):\n",
    "    x = data[θ]['t']\n",
    "    y = data[θ]['g']\n",
    "    γ = data[θ]['gamma']\n",
    "    sigmay = data[θ]['sigmag']\n",
    "    X,Y = data[θ]['fit'].draw()\n",
    "\n",
    "    # plt.plot(X,Y)\n",
    "    # plt.xlim(0,1)\n",
    "    # plt.show()\n",
    "\n",
    "    fig.add_trace(go.Scatter(x=X, y=Y, mode='lines',line_color=colors[i], showlegend=False,hoverinfo='skip'))\n",
    "\n",
    "    fig.add_trace(go.Scatter(x=x,y=y, mode='markers', name=f'θ={θ}°',\n",
    "        marker=dict(color = colors[i]),\n",
    "        error_y=dict( \n",
    "\t\t\ttype='data', \n",
    "\t\t\tarray=sigmay, \n",
    "\t\t\tcolor=colors[i],\n",
    "\t\t\tthickness=1.5, \n",
    "\t\t\twidth=3, \n",
    "\t\t)))\n",
    "\n",
    "fig.update_layout(\n",
    "        xaxis_type=\"log\",\n",
    "        yaxis_title=\"g<sup>2</sup>(τ)\",\n",
    "        xaxis_title=\"t (s)\",\n",
    "        # title='g<sup>2</sup>(τ) vs t',\n",
    "        xaxis=dict(range=[np.log10(0.0001), np.log10(0.010)]),\n",
    "        width=800,\n",
    "        height=600,\n",
    "        title={\n",
    "            'text': \"Correlation Function g<sup>2</sup>(τ)\",\n",
    "            'y':0.9,\n",
    "            'x':0.5,\n",
    "            'xanchor': 'center',\n",
    "            'yanchor': 'top',\n",
    "            'font':dict(size=30)\n",
    "        },\n",
    "        plot_bgcolor='white',\n",
    "        font=dict(\n",
    "            #family=\"Courier New, monospace\",\n",
    "            size=18,\n",
    "            color=\"Black\"\n",
    "        ),\n",
    "            # yaxis=dict(range=[0, 0.06])\n",
    "    )\n",
    "\n",
    "fig.update_xaxes(\n",
    "    mirror=True,\n",
    "    ticks='outside',\n",
    "    showline=True,\n",
    "    linecolor='black',\n",
    "    gridcolor='lightgrey'\n",
    ")\n",
    "fig.update_yaxes(\n",
    "    mirror=True,\n",
    "    ticks='outside',\n",
    "    showline=True,\n",
    "    linecolor='black',\n",
    "    gridcolor='lightgrey'\n",
    ")\n",
    "\n",
    "fig.show()"
   ]
  },
  {
   "cell_type": "markdown",
   "metadata": {},
   "source": [
    "$Q = \\frac{4\\pi n}{\\lambda}\\sin\\frac{\\theta}{2}$\n",
    "\n",
    "$\\gamma = 2DQ^2 \\Rightarrow D = \\frac{\\gamma\\lambda^2}{32\\pi^2n^2\\sin^2\\frac{\\theta}{2}}$\n",
    "\n",
    "$D = \\frac{K_B T}{6\\pi\\eta\\R}$\n",
    "\n",
    "$R = \\frac{16\\pi n^2 K_B T}{3\\eta\\lambda^2\\gamma}\\sin^2\\frac{\\theta}{2}$\n",
    "\n",
    "n = 1.33\n",
    "\n",
    "$\\eta$ = 0.01poise\n",
    "\n",
    "$\\lambda$ = 633nm\n",
    "\n",
    "$K_B$ = 1.3806 $\\cdot 10^{-2} g(nm)^2s^{-2}K^{-1}$\n",
    "\n",
    "T = 293K"
   ]
  },
  {
   "cell_type": "code",
   "execution_count": 54,
   "metadata": {},
   "outputs": [
    {
     "name": "stdout",
     "output_type": "stream",
     "text": [
      "----------------- VALORI FIT: -----------------\n",
      "D: (3.705 ± 0.036)e6 \n",
      "\n",
      "dof: 8\n",
      "chi2: 14.09\n",
      "chi2 ridotto: 1.76\n",
      "pvalue: 0.08\n",
      "------------------------------------------------\n",
      "\n",
      "D = coefficiente diffusione =  (3.71 ± 0.04)e6 nm^2/s\n"
     ]
    }
   ],
   "source": [
    "# fit gamma teta\n",
    "\n",
    "def gamma_2DQ2(θ,D):\n",
    "    theta = np.deg2rad(θ)\n",
    "    return 2*D*16*(np.pi**2)*(n**2)*np.sin(theta/2)**2/(λ**2)\n",
    "\n",
    "gammatetafit = Interpolazione(TETA, GAMMA, sigmaGAMMA, gamma_2DQ2, [0.05],['D'])\n",
    "print(gammatetafit)\n",
    "\n",
    "D,σD = gammatetafit.values['D'],gammatetafit.errors['D']\n",
    "print('D = coefficiente diffusione = ',final_val(D,σD,2,exp=6,udm='nm^2/s'))"
   ]
  },
  {
   "cell_type": "code",
   "execution_count": 48,
   "metadata": {},
   "outputs": [
    {
     "data": {
      "application/vnd.plotly.v1+json": {
       "config": {
        "plotlyServerURL": "https://plot.ly"
       },
       "data": [
        {
         "hoverinfo": "skip",
         "line": {
          "color": "#ed7953"
         },
         "mode": "lines",
         "showlegend": false,
         "type": "scatter",
         "x": {
          "bdata": "AAAAAAAASUCkgGYQQApJQEgBzSCAFElA7IEzMcAeSUCQAppBAClJQDSDAFJAM0lA2ANnYoA9SUB8hM1ywEdJQCAFNIMAUklAxIWak0BcSUBoBgGkgGZJQAyHZ7TAcElAsAfOxAB7SUBUiDTVQIVJQPgIm+WAj0lAnIkB9sCZSUBACmgGAaRJQOSKzhZBrklAiAs1J4G4SUAsjJs3wcJJQNAMAkgBzUlAdI1oWEHXSUAYDs9ogeFJQLyONXnB60lAYA+ciQH2SUAEkAKaQQBKQKgQaaqBCkpATJHPusEUSkDwETbLAR9KQJSSnNtBKUpAOBMD7IEzSkDck2n8wT1KQIAU0AwCSEpAJJU2HUJSSkDIFZ0tglxKQGyWAz7CZkpAEBdqTgJxSkC0l9BeQntKQFgYN2+ChUpA/Jidf8KPSkCgGQSQAppKQESaaqBCpEpA6BrRsIKuSkCMmzfBwrhKQDAcntECw0pA1JwE4kLNSkB4HWvygtdKQBye0QLD4UpAwB44EwPsSkBkn54jQ/ZKQAggBTSDAEtArKBrRMMKS0BQIdJUAxVLQPShOGVDH0tAmCKfdYMpS0A8owWGwzNLQOAjbJYDPktAhKTSpkNIS0AoJTm3g1JLQMyln8fDXEtAcCYG2ANnS0AUp2zoQ3FLQLgn0/iDe0tAXKg5CcSFS0AAKaAZBJBLQKSpBipEmktASCptOoSkS0DsqtNKxK5LQJArOlsEuUtANKyga0TDS0DYLAd8hM1LQHytbYzE10tAIC7UnATiS0DErjqtROxLQGgvob2E9ktADLAHzsQATECwMG7eBAtMQFSx1O5EFUxA+DE7/4QfTECcsqEPxSlMQEAzCCAFNExA5LNuMEU+TECINNVAhUhMQCy1O1HFUkxA0DWiYQVdTEB0tghyRWdMQBg3b4KFcUxAvLfVksV7TEBgODyjBYZMQAS5orNFkExAqDkJxIWaTEBMum/UxaRMQPA61uQFr0xAlLs89UW5TEA4PKMFhsNMQNy8CRbGzUxAgD1wJgbYTEAkvtY2RuJMQMg+PUeG7ExAbL+jV8b2TEAQQApoBgFNQLTAcHhGC01AWEHXiIYVTUD8wT2Zxh9NQKBCpKkGKk1ARMMKukY0TUDoQ3HKhj5NQIzE19rGSE1AMEU+6wZTTUDUxaT7Rl1NQHhGCwyHZ01AHMdxHMdxTUDAR9gsB3xNQGTIPj1Hhk1ACEmlTYeQTUCsyQtex5pNQFBKcm4HpU1A9MrYfkevTUCYSz+Ph7lNQDzMpZ/Hw01A4EwMsAfOTUCEzXLAR9hNQChO2dCH4k1AzM4/4cfsTUBwT6bxB/dNQBTQDAJIAU5AuFBzEogLTkBc0dkiyBVOQABSQDMIIE5ApNKmQ0gqTkBIUw1UiDROQOzTc2TIPk5AkFTadAhJTkA01UCFSFNOQNhVp5WIXU5AfNYNpshnTkAgV3S2CHJOQMTX2sZIfE5AaFhB14iGTkAM2afnyJBOQLBZDvgIm05AVNp0CEmlTkD4WtsYia9OQJzbQSnJuU5AQFyoOQnETkDk3A5KSc5OQIhddVqJ2E5ALN7basniTkDQXkJ7Ce1OQHTfqItJ905AGGAPnIkBT0C84HWsyQtPQGBh3LwJFk9ABOJCzUkgT0CoYqndiSpPQEzjD+7JNE9A8GN2/gk/T0CU5NwOSklPQDhlQx+KU09A3OWpL8pdT0CAZhBACmhPQCXndlBKck9AyWfdYIp8T0Bt6ENxyoZPQBFpqoEKkU9AtekQkkqbT0BZaneiiqVPQP3q3bLKr09AoWtEwwq6T0BF7KrTSsRPQOlsEeSKzk9Aje139MrYT0Axbt4EC+NPQNXuRBVL7U9AeW+rJYv3T0AO+Aib5QBQQGA4PKMFBlBAsnhvqyULUEAEuaKzRRBQQFb51btlFVBAqDkJxIUaUED6eTzMpR9QQEy6b9TFJFBAnvqi3OUpUEDwOtbkBS9QQEJ7Ce0lNFBAlLs89UU5UEDm+2/9ZT5QQDg8owWGQ1BAinzWDaZIUEDcvAkWxk1QQC79PB7mUlBAgD1wJgZYUEDSfaMuJl1QQCS+1jZGYlBAdv4JP2ZnUEDIPj1HhmxQQBp/cE+mcVBAbL+jV8Z2UEC+/9Zf5ntQQBBACmgGgVBAYoA9cCaGUEC0wHB4RotQQAYBpIBmkFBAWEHXiIaVUECqgQqRpppQQPzBPZnGn1BATgJxoeakUECgQqSpBqpQQPKC17Emr1BARMMKuka0UECWAz7CZrlQQOhDccqGvlBAOoSk0qbDUECMxNfaxshQQN4EC+PmzVBAMEU+6wbTUECChXHzJthQQNTFpPtG3VBAJgbYA2fiUEB4RgsMh+dQQMqGPhSn7FBAHMdxHMfxUEBuB6Uk5/ZQQMBH2CwH/FBAEogLNScBUUBkyD49RwZRQLYIckVnC1FACEmlTYcQUUBaidhVpxVRQKzJC17HGlFA/gk/ZucfUUBQSnJuByVRQKKKpXYnKlFA9MrYfkcvUUBGCwyHZzRRQJhLP4+HOVFA6otyl6c+UUA8zKWfx0NRQI4M2afnSFFA4EwMsAdOUUAyjT+4J1NRQITNcsBHWFFA1g2myGddUUAoTtnQh2JRQHqODNmnZ1FAzM4/4cdsUUAeD3Pp53FRQHBPpvEHd1FAwo/Z+Sd8UUAU0AwCSIFRQGYQQApohlFAuFBzEoiLUUAKkaYaqJBRQFzR2SLIlVFArhENK+iaUUAAUkAzCKBRQFKSczsopVFApNKmQ0iqUUD2EtpLaK9RQEhTDVSItFFAmpNAXKi5UUDs03NkyL5RQD4Up2zow1FAkFTadAjJUUDilA19KM5RQDTVQIVI01FAhhV0jWjYUUDYVaeViN1RQCqW2p2o4lFAfNYNpsjnUUDOFkGu6OxRQCBXdLYI8lFAcpenvij3UUDE19rGSPxRQBYYDs9oAVJAaFhB14gGUkC6mHTfqAtSQAzZp+fIEFJAXhnb7+gVUkCwWQ74CBtSQAKaQQApIFJAVNp0CEklUkCmGqgQaSpSQPha2xiJL1JASpsOIak0UkCc20EpyTlSQO4bdTHpPlJAQFyoOQlEUkCSnNtBKUlSQOTcDkpJTlJANh1CUmlTUkCIXXVaiVhSQNqdqGKpXVJALN7basliUkB+Hg9z6WdSQNBeQnsJbVJAIp91gylyUkB036iLSXdSQMYf3JNpfFJAGGAPnImBUkBqoEKkqYZSQLzgdazJi1JADiGptOmQUkBgYdy8CZZSQLKhD8Upm1JABOJCzUmgUkBWInbVaaVSQKhiqd2JqlJA+qLc5amvUkBM4w/uybRSQJ4jQ/bpuVJA8GN2/gm/UkBCpKkGKsRSQJTk3A5KyVJA5iQQF2rOUkA4ZUMfitNSQIqldieq2FJA3OWpL8rdUkAuJt036uJSQIBmEEAK6FJA06ZDSCrtUkAl53ZQSvJSQHcnqlhq91JAyWfdYIr8UkAbqBBpqgFTQG3oQ3HKBlNAvyh3eeoLU0ARaaqBChFTQGOp3YkqFlNAtekQkkobU0AHKkSaaiBTQFlqd6KKJVNAq6qqqqoqU0D96t2yyi9TQE8rEbvqNFNAoWtEwwo6U0Dzq3fLKj9TQEXsqtNKRFNAlyze22pJU0DpbBHkik5TQDutROyqU1NAje139MpYU0DfLav86l1TQDFu3gQLY1NAg64RDStoU0DV7kQVS21TQCcveB1rclNAeW+rJYt3U0DLr94tq3xTQB3wETbLgVNAbzBFPuuGU0DBcHhGC4xTQBOxq04rkVNAZfHeVkuWU0C3MRJfa5tTQAlyRWeLoFNAW7J4b6ulU0Ct8qt3y6pTQP8y33/rr1NAUXMSiAu1U0Cjs0WQK7pTQPXzeJhLv1NARzSsoGvEU0CZdN+oi8lTQOu0ErGrzlNAPfVFucvTU0CPNXnB69hTQOF1rMkL3lNAM7bf0SvjU0CF9hLaS+hTQNc2RuJr7VNAKXd56ovyU0B7t6zyq/dTQM333/rL/FNAHzgTA+wBVEBxeEYLDAdUQMO4eRMsDFRAFfmsG0wRVEBnOeAjbBZUQLl5EyyMG1RAC7pGNKwgVEBd+nk8zCVUQK86rUTsKlRAAXvgTAwwVEBTuxNVLDVUQKX7Rl1MOlRA9zt6ZWw/VEBJfK1tjERUQJu84HWsSVRA7fwTfsxOVEA/PUeG7FNUQJF9eo4MWVRA472tlixeVEA1/uCeTGNUQIc+FKdsaFRA2X5Hr4xtVEArv3q3rHJUQH3/rb/Md1RAzz/hx+x8VEAhgBTQDIJUQHPAR9gsh1RAxQB74EyMVEAXQa7obJFUQGmB4fCMllRAu8EU+aybVEANAkgBzaBUQF9CewntpVRAsYKuEQ2rVEADw+EZLbBUQFUDFSJNtVRAp0NIKm26VED5g3syjb9UQEvErjqtxFRAnQTiQs3JVEDvRBVL7c5UQEGFSFMN1FRAk8V7Wy3ZVEDlBa9jTd5UQDdG4mtt41RAiYYVdI3oVEDbxkh8re1UQC0HfITN8lRAf0evjO33VEDRh+KUDf1UQCPIFZ0tAlVAdQhJpU0HVUDHSHytbQxVQBmJr7WNEVVAa8niva0WVUC9CRbGzRtVQA9KSc7tIFVAYYp81g0mVUCzyq/eLStVQAUL4+ZNMFVAV0sW7201VUCpi0n3jTpVQPvLfP+tP1VATQywB85EVUCfTOMP7klVQPGMFhgOT1VAQ81JIC5UVUCVDX0oTllVQOdNsDBuXlVAOY7jOI5jVUCLzhZBrmhVQN0OSknObVVAL099Ue5yVUCBj7BZDnhVQNPP42EufVVAJRAXak6CVUB3UEpybodVQMmQfXqOjFVAG9Gwgq6RVUBtEeSKzpZVQL9RF5Pum1VAEZJKmw6hVUBj0n2jLqZVQLUSsatOq1VAB1Pks26wVUBZkxe8jrVVQKvTSsSuulVA/RN+zM6/VUBPVLHU7sRVQKGU5NwOylVA89QX5S7PVUBFFUvtTtRVQJdVfvVu2VVA6ZWx/Y7eVUA71uQFr+NVQI0WGA7P6FVA31ZLFu/tVUAxl34eD/NVQIPXsSYv+FVA1RflLk/9VUAnWBg3bwJWQHmYSz+PB1ZAy9h+R68MVkAdGbJPzxFWQG9Z5VfvFlZAwZkYYA8cVkAT2ktoLyFWQGUaf3BPJlZAt1qyeG8rVkAJm+WAjzBWQFvbGImvNVZArRtMkc86VkD/W3+Z7z9WQFGcsqEPRVZAo9zlqS9KVkD1HBmyT09WQEddTLpvVFZAmZ1/wo9ZVkDr3bLKr15WQD0e5tLPY1ZAj14Z2+9oVkDhnkzjD25WQDPff+svc1ZAhR+z8094VkDXX+b7b31WQCmgGQSQglZAe+BMDLCHVkDNIIAU0IxWQB9hsxzwkVZAcaHmJBCXVkDD4RktMJxWQBUiTTVQoVZAZ2KAPXCmVkC5orNFkKtWQAvj5k2wsFZAXSMaVtC1VkCvY01e8LpWQAGkgGYQwFZAU+SzbjDFVkClJOd2UMpWQPdkGn9wz1ZASaVNh5DUVkCb5YCPsNlWQO0ltJfQ3lZAP2bnn/DjVkCRphqoEOlWQOPmTbAw7lZANSeBuFDzVkCHZ7TAcPhWQNmn58iQ/VZAK+ga0bACV0B9KE7Z0AdXQM9ogeHwDFdAIam06RASV0Bz6efxMBdXQMUpG/pQHFdAF2pOAnEhV0BpqoEKkSZXQLvqtBKxK1dADSvoGtEwV0Bfaxsj8TVXQLGrTisRO1dAA+yBMzFAV0BVLLU7UUVXQKds6ENxSldA+awbTJFPV0BL7U5UsVRXQJ0tglzRWVdA7221ZPFeV0BBruhsEWRXQJPuG3UxaVdA5S5PfVFuV0A3b4KFcXNXQImvtY2ReFdA2+/olbF9V0AtMBye0YJXQH9wT6bxh1dA0bCCrhGNV0Aj8bW2MZJXQHUx6b5Rl1dAx3Ecx3GcV0AZsk/PkaFXQGvygtexpldAvTK239GrV0APc+nn8bBXQGGzHPARtldAs/NP+DG7V0AFNIMAUsBXQFd0tghyxVdAqbTpEJLKV0D79BwZss9XQE01UCHS1FdAn3WDKfLZV0DxtbYxEt9XQEP26Tky5FdAlTYdQlLpV0DndlBKcu5XQDm3g1KS81dAi/e2WrL4V0DdN+pi0v1XQC94HWvyAlhAgbhQcxIIWEDT+IN7Mg1YQCU5t4NSElhAd3nqi3IXWEDJuR2UkhxYQBv6UJyyIVhAbTqEpNImWEC/eres8itYQBG76rQSMVhAY/sdvTI2WEC1O1HFUjtYQAd8hM1yQFhAWby31ZJFWECr/OrdskpYQP08HubST1hAT31R7vJUWEChvYT2ElpYQPP9t/4yX1hART7rBlNkWECXfh4Pc2lYQOm+UReTblhAO/+EH7NzWECNP7gn03hYQN9/6y/zfVhAMcAeOBODWECDAFJAM4hYQNVAhUhTjVhAJ4G4UHOSWEB5wetYk5dYQMsBH2GznFhAHUJSadOhWEBvgoVx86ZYQMHCuHkTrFhAEwPsgTOxWEBlQx+KU7ZYQLeDUpJzu1hACcSFmpPAWEBbBLmis8VYQK1E7KrTylhA/4Qfs/PPWEBRxVK7E9VYQKMFhsMz2lhA9UW5y1PfWEBHhuzTc+RYQJnGH9yT6VhA6wZT5LPuWEA9R4bs0/NYQI+HufTz+FhA4cfs/BP+WEAzCCAFNANZQIVIUw1UCFlA14iGFXQNWUApybkdlBJZQHsJ7SW0F1lAzUkgLtQcWUAfilM29CFZQHHKhj4UJ1lAwwq6RjQsWUAVS+1OVDFZQGeLIFd0NllAuctTX5Q7WUALDIdntEBZQF1Mum/URVlAr4ztd/RKWUABzSCAFFBZQFQNVIg0VVlApk2HkFRaWUD4jbqYdF9ZQErO7aCUZFlAnA4hqbRpWUDuTlSx1G5ZQECPh7n0c1lAks+6wRR5WUDkD+7JNH5ZQDZQIdJUg1lAiJBU2nSIWUDa0IfilI1ZQCwRu+q0kllAflHu8tSXWUDQkSH79JxZQCLSVAMVollAdBKICzWnWUDGUrsTVaxZQBiT7ht1sVlAatMhJJW2WUC8E1UstbtZQA5UiDTVwFlAYJS7PPXFWUCy1O5EFctZQAQVIk010FlAVlVVVVXVWUColYhdddpZQPrVu2WV31lATBbvbbXkWUCeViJ21elZQPCWVX717llAQteIhhX0WUCUF7yONflZQOZX75ZV/llAOJgin3UDWkCK2FWnlQhaQNwYia+1DVpALlm8t9USWkCAme+/9RdaQNLZIsgVHVpAJBpW0DUiWkB2WonYVSdaQMiavOB1LFpAGtvv6JUxWkBsGyPxtTZaQL5bVvnVO1pAEJyJAfZAWkBi3LwJFkZaQLQc8BE2S1pABl0jGlZQWkBYnVYidlVaQKrdiSqWWlpA/B29MrZfWkBOXvA61mRaQKCeI0P2aVpA8t5WSxZvWkBEH4pTNnRaQJZfvVtWeVpA6J/wY3Z+WkA64CNsloNaQIwgV3S2iFpA3mCKfNaNWkAwob2E9pJaQILh8IwWmFpA1CEklTadWkAmYledVqJaQHiiiqV2p1pAyuK9rZasWkAcI/G1trFaQG5jJL7WtlpAwKNXxva7WkAS5IrOFsFaQGQkvtY2xlpAtmTx3lbLWkAIpSTndtBaQFrlV++W1VpArCWL97baWkD+Zb7/1t9aQFCm8Qf35FpAouYkEBfqWkD0JlgYN+9aQEZniyBX9FpAmKe+KHf5WkDq5/Ewl/5aQDwoJTm3A1tAjmhYQdcIW0DgqItJ9w1bQDLpvlEXE1tAhCnyWTcYW0DWaSViVx1bQCiqWGp3IltAeuqLcpcnW0DMKr96tyxbQB5r8oLXMVtAcKsli/c2W0DC61iTFzxbQBQsjJs3QVtAZmy/o1dGW0C4rPKrd0tbQArtJbSXUFtAXC1ZvLdVW0CubYzE11pbQACuv8z3X1tAUu7y1BdlW0CkLibdN2pbQPZuWeVXb1tASK+M7Xd0W0Ca77/1l3lbQOwv8/23fltAPnAmBtiDW0CQsFkO+IhbQOLwjBYYjltANDHAHjiTW0CGcfMmWJhbQNixJi94nVtAKvJZN5iiW0B8Mo0/uKdbQM5ywEfYrFtAILPzT/ixW0By8yZYGLdbQMQzWmA4vFtAFnSNaFjBW0BotMBweMZbQLr083iYy1tADDUngbjQW0BedVqJ2NVbQLC1jZH42ltAAvbAmRjgW0BUNvShOOVbQKZ2J6pY6ltA+LZasnjvW0BK9426mPRbQJw3wcK4+VtA7nf0ytj+W0BAuCfT+ANcQJL4WtsYCVxA5DiO4zgOXEA2ecHrWBNcQIi59PN4GFxA2vkn/JgdXEAsOlsEuSJcQH56jgzZJ1xA0LrBFPksXEAi+/QcGTJcQHQ7KCU5N1xAxntbLVk8XEAYvI41eUFcQGr8wT2ZRlxAvDz1RblLXEAOfShO2VBcQGC9W1b5VVxAsv2OXhlbXEAEPsJmOWBcQFZ+9W5ZZVxAqL4od3lqXED6/lt/mW9cQEw/j4e5dFxAnn/Cj9l5XEDwv/WX+X5cQEIAKaAZhFxAlEBcqDmJXEDmgI+wWY5cQDjBwrh5k1xAigH2wJmYXEDcQSnJuZ1cQC6CXNHZolxAgMKP2fmnXEDSAsPhGa1cQCRD9uk5slxAdoMp8lm3XEDIw1z6ebxcQBoEkAKawVxAbETDCrrGXEC+hPYS2stcQBDFKRv60FxAYgVdIxrWXEC0RZArOttcQAaGwzNa4FxAWMb2O3rlXECqBipEmupcQPxGXUy671xAToeQVNr0XECgx8Nc+vlcQPIH92Qa/1xAREgqbToEXUCWiF11WgldQOjIkH16Dl1AOgnEhZoTXUCMSfeNuhhdQN6JKpbaHV1AMMpdnvoiXUCCCpGmGihdQNRKxK46LV1AJov3tloyXUB4yyq/ejddQMoLXseaPF1AHEyRz7pBXUBujMTX2kZdQMDM99/6S11AEg0r6BpRXUBkTV7wOlZdQLaNkfhaW11ACM7EAHtgXUBaDvgIm2VdQKxOKxG7al1A/o5eGdtvXUBQz5Eh+3RdQKIPxSkbel1A9E/4MTt/XUBGkCs6W4RdQJjQXkJ7iV1A6hCSSpuOXUA8UcVSu5NdQI6R+FrbmF1A4NErY/udXUAyEl9rG6NdQIRSknM7qF1A1pLFe1utXUAo0/iDe7JdQHoTLIybt11AzFNflLu8XUAelJKc28FdQHDUxaT7xl1AwhT5rBvMXUAUVSy1O9FdQGaVX71b1l1AuNWSxXvbXUAKFsbNm+BdQFxW+dW75V1ArpYs3tvqXUAA11/m++9dQFIXk+4b9V1ApFfG9jv6XUD2l/n+W/9dQEjYLAd8BF5AmhhgD5wJXkDsWJMXvA5eQD6Zxh/cE15AkNn5J/wYXkDiGS0wHB5eQDRaYDg8I15AhpqTQFwoXkDY2sZIfC1eQCob+lCcMl5AfFstWbw3XkDOm2Bh3DxeQCDck2n8QV5AchzHcRxHXkDEXPp5PExeQBadLYJcUV5AaN1ginxWXkC6HZSSnFteQAxex5q8YF5AXp76otxlXkCw3i2r/GpeQAIfYbMccF5AVF+Uuzx1XkCmn8fDXHpeQPjf+st8f15ASiAu1JyEXkCcYGHcvIleQO6glOTcjl5AQOHH7PyTXkCSIfv0HJleQORhLv08nl5ANqJhBV2jXkCI4pQNfaheQNoiyBWdrV5ALGP7Hb2yXkB+oy4m3bdeQNDjYS79vF5AIiSVNh3CXkB0ZMg+PcdeQMak+0ZdzF5AGOUuT33RXkBqJWJXndZeQLxllV+9215ADqbIZ93gXkBg5vtv/eVeQLImL3gd615ABGdigD3wXkBWp5WIXfVeQKjnyJB9+l5A+if8mJ3/XkBMaC+hvQRfQJ6oYqndCV9A8OiVsf0OX0BCKcm5HRRfQJRp/ME9GV9A5qkvyl0eX0A46mLSfSNfQIoqltqdKF9A3GrJ4r0tX0Auq/zq3TJfQIDrL/P9N19A0itj+x09X0AkbJYDPkJfQHasyQteR19AyOz8E35MX0AaLTAcnlFfQGxtYyS+Vl9Avq2WLN5bX0AQ7sk0/mBfQGIu/TweZl9AtG4wRT5rX0AGr2NNXnBfQFjvllV+dV9Aqi/KXZ56X0D8b/1lvn9fQE6wMG7ehF9AoPBjdv6JX0DyMJd+Ho9fQERxyoY+lF9AlrH9jl6ZX0Do8TCXfp5fQDoyZJ+eo19AjHKXp76oX0Dessqv3q1fQDDz/bf+sl9AgjMxwB64X0DUc2TIPr1fQCa0l9Bewl9AePTK2H7HX0DKNP7gnsxfQBx1Mem+0V9AbrVk8d7WX0DA9Zf5/ttfQBI2ywEf4V9AZHb+CT/mX0C2tjESX+tfQAj3ZBp/8F9AWjeYIp/1X0Csd8sqv/pfQP63/jLf/19AKPyYnX8CYEBRnLKhDwVgQHo8zKWfB2BAo9zlqS8KYEDMfP+tvwxgQPUcGbJPD2BAHr0ytt8RYEBHXUy6bxRgQHD9Zb7/FmBAmZ1/wo8ZYEDCPZnGHxxgQOvdssqvHmBAFH7Mzj8hYEA9HubSzyNgQGa+/9ZfJmBAj14Z2+8oYEC4/jLffytgQOGeTOMPLmBACj9m558wYEAz33/rLzNgQFx/me+/NWBAhR+z8084YECuv8z33zpgQNdf5vtvPWBAAAAAAABAYEA=",
          "dtype": "f8"
         },
         "y": {
          "bdata": "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",
          "dtype": "f8"
         }
        },
        {
         "error_y": {
          "array": {
           "bdata": "AY6dDreoZkAg8CdhCGJjQCoi69C6wF9AIISVVwOEWUD037dVJhVTQKcIgidTNk1AknG9Akk1RkDQp+fZIzJAQHmnwSZDLDRA",
           "dtype": "f8"
          },
          "color": "#46039f",
          "thickness": 1.5,
          "type": "data",
          "width": 3
         },
         "marker": {
          "color": "#0d0887"
         },
         "mode": "markers",
         "showlegend": false,
         "type": "scatter",
         "x": {
          "bdata": "ggB4AG4AZABaAFAARgA8ADIA",
          "dtype": "i2"
         },
         "y": {
          "bdata": "DyDEz2YTsUC6U1u7yJOvQFPCAPYGYatAhycqjO6wqECPNgjfSZSkQMsxpcpoHaFAhQyErAuMmkC5nvkLOBqUQKZtlTIs6IpA",
          "dtype": "f8"
         }
        }
       ],
       "layout": {
        "font": {
         "color": "Black",
         "size": 10
        },
        "height": 400,
        "plot_bgcolor": "white",
        "template": {
         "data": {
          "bar": [
           {
            "error_x": {
             "color": "#2a3f5f"
            },
            "error_y": {
             "color": "#2a3f5f"
            },
            "marker": {
             "line": {
              "color": "#E5ECF6",
              "width": 0.5
             },
             "pattern": {
              "fillmode": "overlay",
              "size": 10,
              "solidity": 0.2
             }
            },
            "type": "bar"
           }
          ],
          "barpolar": [
           {
            "marker": {
             "line": {
              "color": "#E5ECF6",
              "width": 0.5
             },
             "pattern": {
              "fillmode": "overlay",
              "size": 10,
              "solidity": 0.2
             }
            },
            "type": "barpolar"
           }
          ],
          "carpet": [
           {
            "aaxis": {
             "endlinecolor": "#2a3f5f",
             "gridcolor": "white",
             "linecolor": "white",
             "minorgridcolor": "white",
             "startlinecolor": "#2a3f5f"
            },
            "baxis": {
             "endlinecolor": "#2a3f5f",
             "gridcolor": "white",
             "linecolor": "white",
             "minorgridcolor": "white",
             "startlinecolor": "#2a3f5f"
            },
            "type": "carpet"
           }
          ],
          "choropleth": [
           {
            "colorbar": {
             "outlinewidth": 0,
             "ticks": ""
            },
            "type": "choropleth"
           }
          ],
          "contour": [
           {
            "colorbar": {
             "outlinewidth": 0,
             "ticks": ""
            },
            "colorscale": [
             [
              0,
              "#0d0887"
             ],
             [
              0.1111111111111111,
              "#46039f"
             ],
             [
              0.2222222222222222,
              "#7201a8"
             ],
             [
              0.3333333333333333,
              "#9c179e"
             ],
             [
              0.4444444444444444,
              "#bd3786"
             ],
             [
              0.5555555555555556,
              "#d8576b"
             ],
             [
              0.6666666666666666,
              "#ed7953"
             ],
             [
              0.7777777777777778,
              "#fb9f3a"
             ],
             [
              0.8888888888888888,
              "#fdca26"
             ],
             [
              1,
              "#f0f921"
             ]
            ],
            "type": "contour"
           }
          ],
          "contourcarpet": [
           {
            "colorbar": {
             "outlinewidth": 0,
             "ticks": ""
            },
            "type": "contourcarpet"
           }
          ],
          "heatmap": [
           {
            "colorbar": {
             "outlinewidth": 0,
             "ticks": ""
            },
            "colorscale": [
             [
              0,
              "#0d0887"
             ],
             [
              0.1111111111111111,
              "#46039f"
             ],
             [
              0.2222222222222222,
              "#7201a8"
             ],
             [
              0.3333333333333333,
              "#9c179e"
             ],
             [
              0.4444444444444444,
              "#bd3786"
             ],
             [
              0.5555555555555556,
              "#d8576b"
             ],
             [
              0.6666666666666666,
              "#ed7953"
             ],
             [
              0.7777777777777778,
              "#fb9f3a"
             ],
             [
              0.8888888888888888,
              "#fdca26"
             ],
             [
              1,
              "#f0f921"
             ]
            ],
            "type": "heatmap"
           }
          ],
          "histogram": [
           {
            "marker": {
             "pattern": {
              "fillmode": "overlay",
              "size": 10,
              "solidity": 0.2
             }
            },
            "type": "histogram"
           }
          ],
          "histogram2d": [
           {
            "colorbar": {
             "outlinewidth": 0,
             "ticks": ""
            },
            "colorscale": [
             [
              0,
              "#0d0887"
             ],
             [
              0.1111111111111111,
              "#46039f"
             ],
             [
              0.2222222222222222,
              "#7201a8"
             ],
             [
              0.3333333333333333,
              "#9c179e"
             ],
             [
              0.4444444444444444,
              "#bd3786"
             ],
             [
              0.5555555555555556,
              "#d8576b"
             ],
             [
              0.6666666666666666,
              "#ed7953"
             ],
             [
              0.7777777777777778,
              "#fb9f3a"
             ],
             [
              0.8888888888888888,
              "#fdca26"
             ],
             [
              1,
              "#f0f921"
             ]
            ],
            "type": "histogram2d"
           }
          ],
          "histogram2dcontour": [
           {
            "colorbar": {
             "outlinewidth": 0,
             "ticks": ""
            },
            "colorscale": [
             [
              0,
              "#0d0887"
             ],
             [
              0.1111111111111111,
              "#46039f"
             ],
             [
              0.2222222222222222,
              "#7201a8"
             ],
             [
              0.3333333333333333,
              "#9c179e"
             ],
             [
              0.4444444444444444,
              "#bd3786"
             ],
             [
              0.5555555555555556,
              "#d8576b"
             ],
             [
              0.6666666666666666,
              "#ed7953"
             ],
             [
              0.7777777777777778,
              "#fb9f3a"
             ],
             [
              0.8888888888888888,
              "#fdca26"
             ],
             [
              1,
              "#f0f921"
             ]
            ],
            "type": "histogram2dcontour"
           }
          ],
          "mesh3d": [
           {
            "colorbar": {
             "outlinewidth": 0,
             "ticks": ""
            },
            "type": "mesh3d"
           }
          ],
          "parcoords": [
           {
            "line": {
             "colorbar": {
              "outlinewidth": 0,
              "ticks": ""
             }
            },
            "type": "parcoords"
           }
          ],
          "pie": [
           {
            "automargin": true,
            "type": "pie"
           }
          ],
          "scatter": [
           {
            "fillpattern": {
             "fillmode": "overlay",
             "size": 10,
             "solidity": 0.2
            },
            "type": "scatter"
           }
          ],
          "scatter3d": [
           {
            "line": {
             "colorbar": {
              "outlinewidth": 0,
              "ticks": ""
             }
            },
            "marker": {
             "colorbar": {
              "outlinewidth": 0,
              "ticks": ""
             }
            },
            "type": "scatter3d"
           }
          ],
          "scattercarpet": [
           {
            "marker": {
             "colorbar": {
              "outlinewidth": 0,
              "ticks": ""
             }
            },
            "type": "scattercarpet"
           }
          ],
          "scattergeo": [
           {
            "marker": {
             "colorbar": {
              "outlinewidth": 0,
              "ticks": ""
             }
            },
            "type": "scattergeo"
           }
          ],
          "scattergl": [
           {
            "marker": {
             "colorbar": {
              "outlinewidth": 0,
              "ticks": ""
             }
            },
            "type": "scattergl"
           }
          ],
          "scattermap": [
           {
            "marker": {
             "colorbar": {
              "outlinewidth": 0,
              "ticks": ""
             }
            },
            "type": "scattermap"
           }
          ],
          "scattermapbox": [
           {
            "marker": {
             "colorbar": {
              "outlinewidth": 0,
              "ticks": ""
             }
            },
            "type": "scattermapbox"
           }
          ],
          "scatterpolar": [
           {
            "marker": {
             "colorbar": {
              "outlinewidth": 0,
              "ticks": ""
             }
            },
            "type": "scatterpolar"
           }
          ],
          "scatterpolargl": [
           {
            "marker": {
             "colorbar": {
              "outlinewidth": 0,
              "ticks": ""
             }
            },
            "type": "scatterpolargl"
           }
          ],
          "scatterternary": [
           {
            "marker": {
             "colorbar": {
              "outlinewidth": 0,
              "ticks": ""
             }
            },
            "type": "scatterternary"
           }
          ],
          "surface": [
           {
            "colorbar": {
             "outlinewidth": 0,
             "ticks": ""
            },
            "colorscale": [
             [
              0,
              "#0d0887"
             ],
             [
              0.1111111111111111,
              "#46039f"
             ],
             [
              0.2222222222222222,
              "#7201a8"
             ],
             [
              0.3333333333333333,
              "#9c179e"
             ],
             [
              0.4444444444444444,
              "#bd3786"
             ],
             [
              0.5555555555555556,
              "#d8576b"
             ],
             [
              0.6666666666666666,
              "#ed7953"
             ],
             [
              0.7777777777777778,
              "#fb9f3a"
             ],
             [
              0.8888888888888888,
              "#fdca26"
             ],
             [
              1,
              "#f0f921"
             ]
            ],
            "type": "surface"
           }
          ],
          "table": [
           {
            "cells": {
             "fill": {
              "color": "#EBF0F8"
             },
             "line": {
              "color": "white"
             }
            },
            "header": {
             "fill": {
              "color": "#C8D4E3"
             },
             "line": {
              "color": "white"
             }
            },
            "type": "table"
           }
          ]
         },
         "layout": {
          "annotationdefaults": {
           "arrowcolor": "#2a3f5f",
           "arrowhead": 0,
           "arrowwidth": 1
          },
          "autotypenumbers": "strict",
          "coloraxis": {
           "colorbar": {
            "outlinewidth": 0,
            "ticks": ""
           }
          },
          "colorscale": {
           "diverging": [
            [
             0,
             "#8e0152"
            ],
            [
             0.1,
             "#c51b7d"
            ],
            [
             0.2,
             "#de77ae"
            ],
            [
             0.3,
             "#f1b6da"
            ],
            [
             0.4,
             "#fde0ef"
            ],
            [
             0.5,
             "#f7f7f7"
            ],
            [
             0.6,
             "#e6f5d0"
            ],
            [
             0.7,
             "#b8e186"
            ],
            [
             0.8,
             "#7fbc41"
            ],
            [
             0.9,
             "#4d9221"
            ],
            [
             1,
             "#276419"
            ]
           ],
           "sequential": [
            [
             0,
             "#0d0887"
            ],
            [
             0.1111111111111111,
             "#46039f"
            ],
            [
             0.2222222222222222,
             "#7201a8"
            ],
            [
             0.3333333333333333,
             "#9c179e"
            ],
            [
             0.4444444444444444,
             "#bd3786"
            ],
            [
             0.5555555555555556,
             "#d8576b"
            ],
            [
             0.6666666666666666,
             "#ed7953"
            ],
            [
             0.7777777777777778,
             "#fb9f3a"
            ],
            [
             0.8888888888888888,
             "#fdca26"
            ],
            [
             1,
             "#f0f921"
            ]
           ],
           "sequentialminus": [
            [
             0,
             "#0d0887"
            ],
            [
             0.1111111111111111,
             "#46039f"
            ],
            [
             0.2222222222222222,
             "#7201a8"
            ],
            [
             0.3333333333333333,
             "#9c179e"
            ],
            [
             0.4444444444444444,
             "#bd3786"
            ],
            [
             0.5555555555555556,
             "#d8576b"
            ],
            [
             0.6666666666666666,
             "#ed7953"
            ],
            [
             0.7777777777777778,
             "#fb9f3a"
            ],
            [
             0.8888888888888888,
             "#fdca26"
            ],
            [
             1,
             "#f0f921"
            ]
           ]
          },
          "colorway": [
           "#636efa",
           "#EF553B",
           "#00cc96",
           "#ab63fa",
           "#FFA15A",
           "#19d3f3",
           "#FF6692",
           "#B6E880",
           "#FF97FF",
           "#FECB52"
          ],
          "font": {
           "color": "#2a3f5f"
          },
          "geo": {
           "bgcolor": "white",
           "lakecolor": "white",
           "landcolor": "#E5ECF6",
           "showlakes": true,
           "showland": true,
           "subunitcolor": "white"
          },
          "hoverlabel": {
           "align": "left"
          },
          "hovermode": "closest",
          "mapbox": {
           "style": "light"
          },
          "paper_bgcolor": "white",
          "plot_bgcolor": "#E5ECF6",
          "polar": {
           "angularaxis": {
            "gridcolor": "white",
            "linecolor": "white",
            "ticks": ""
           },
           "bgcolor": "#E5ECF6",
           "radialaxis": {
            "gridcolor": "white",
            "linecolor": "white",
            "ticks": ""
           }
          },
          "scene": {
           "xaxis": {
            "backgroundcolor": "#E5ECF6",
            "gridcolor": "white",
            "gridwidth": 2,
            "linecolor": "white",
            "showbackground": true,
            "ticks": "",
            "zerolinecolor": "white"
           },
           "yaxis": {
            "backgroundcolor": "#E5ECF6",
            "gridcolor": "white",
            "gridwidth": 2,
            "linecolor": "white",
            "showbackground": true,
            "ticks": "",
            "zerolinecolor": "white"
           },
           "zaxis": {
            "backgroundcolor": "#E5ECF6",
            "gridcolor": "white",
            "gridwidth": 2,
            "linecolor": "white",
            "showbackground": true,
            "ticks": "",
            "zerolinecolor": "white"
           }
          },
          "shapedefaults": {
           "line": {
            "color": "#2a3f5f"
           }
          },
          "ternary": {
           "aaxis": {
            "gridcolor": "white",
            "linecolor": "white",
            "ticks": ""
           },
           "baxis": {
            "gridcolor": "white",
            "linecolor": "white",
            "ticks": ""
           },
           "bgcolor": "#E5ECF6",
           "caxis": {
            "gridcolor": "white",
            "linecolor": "white",
            "ticks": ""
           }
          },
          "title": {
           "x": 0.05
          },
          "xaxis": {
           "automargin": true,
           "gridcolor": "white",
           "linecolor": "white",
           "ticks": "",
           "title": {
            "standoff": 15
           },
           "zerolinecolor": "white",
           "zerolinewidth": 2
          },
          "yaxis": {
           "automargin": true,
           "gridcolor": "white",
           "linecolor": "white",
           "ticks": "",
           "title": {
            "standoff": 15
           },
           "zerolinecolor": "white",
           "zerolinewidth": 2
          }
         }
        },
        "title": {
         "font": {
          "size": 15
         },
         "text": "γ = 2DQ<sup>2</sup>(θ)",
         "x": 0.5,
         "xanchor": "center",
         "y": 0.8,
         "yanchor": "top"
        },
        "width": 600,
        "xaxis": {
         "gridcolor": "lightgrey",
         "linecolor": "black",
         "mirror": true,
         "showline": true,
         "ticks": "outside",
         "title": {
          "text": "θ (°)"
         }
        },
        "yaxis": {
         "gridcolor": "lightgrey",
         "linecolor": "black",
         "mirror": true,
         "showline": true,
         "ticks": "outside",
         "title": {
          "text": "γ (Hz)"
         }
        }
       }
      }
     },
     "metadata": {},
     "output_type": "display_data"
    }
   ],
   "source": [
    "# plot fit gamma teta\n",
    "\n",
    "fig = go.Figure()\n",
    "\n",
    "X,Y = gammatetafit.draw()\n",
    "fig.add_trace(go.Scatter(x=X, y=Y, mode='lines',line_color=px.colors.sequential.Plasma[6], showlegend=False,hoverinfo='skip'))\n",
    "\n",
    "fig.add_trace(go.Scatter(x=TETA,y=GAMMA, mode='markers',showlegend=False,\n",
    "    marker=dict(color=px.colors.sequential.Plasma[0]),\n",
    "    error_y=dict( \n",
    "        type='data', \n",
    "        array=sigmaGAMMA, \n",
    "        color=px.colors.sequential.Plasma[1],\n",
    "        thickness=1.5, \n",
    "        width=3, \n",
    "    )))\n",
    "\n",
    "fig.update_layout(\n",
    "    # xaxis_type=\"log\",\n",
    "    yaxis_title=\"γ (Hz)\",\n",
    "    xaxis_title=\"θ (°)\",\n",
    "    # title='g<sup>2</sup>(τ) vs t',\n",
    "    # xaxis=dict(range=[np.log10(0.0001), np.log10(0.010)]),\n",
    "    width=600,\n",
    "    height=400,\n",
    "    title={\n",
    "        'text': \"γ = 2DQ<sup>2</sup>(θ)\",\n",
    "        'y':0.8,\n",
    "        'x':0.5,\n",
    "        'xanchor': 'center',\n",
    "        'yanchor': 'top',\n",
    "        'font':dict(size=15)\n",
    "    },\n",
    "    plot_bgcolor='white',\n",
    "    font=dict(\n",
    "        #family=\"Courier New, monospace\",\n",
    "        size=10,\n",
    "        color=\"Black\"\n",
    "    ),\n",
    "        # yaxis=dict(range=[0, 0.06])\n",
    ")\n",
    "\n",
    "fig.update_xaxes(\n",
    "    mirror=True,\n",
    "    ticks='outside',\n",
    "    showline=True,\n",
    "    linecolor='black',\n",
    "    gridcolor='lightgrey'\n",
    ")\n",
    "# fig.update_layout(font=dict(size=10))\n",
    "fig.update_yaxes(\n",
    "    mirror=True,\n",
    "    ticks='outside',\n",
    "    showline=True,\n",
    "    linecolor='black',\n",
    "    gridcolor='lightgrey'\n",
    ")\n",
    "\n",
    "fig.show()"
   ]
  },
  {
   "cell_type": "code",
   "execution_count": 49,
   "metadata": {},
   "outputs": [
    {
     "data": {
      "text/html": [
       "<div>\n",
       "<style scoped>\n",
       "    .dataframe tbody tr th:only-of-type {\n",
       "        vertical-align: middle;\n",
       "    }\n",
       "\n",
       "    .dataframe tbody tr th {\n",
       "        vertical-align: top;\n",
       "    }\n",
       "\n",
       "    .dataframe thead th {\n",
       "        text-align: right;\n",
       "    }\n",
       "</style>\n",
       "<table border=\"1\" class=\"dataframe\">\n",
       "  <thead>\n",
       "    <tr style=\"text-align: right;\">\n",
       "      <th></th>\n",
       "      <th>θ (deg)</th>\n",
       "      <th>R (nm)</th>\n",
       "      <th>σR (nm)</th>\n",
       "      <th>R_out (nm)</th>\n",
       "    </tr>\n",
       "  </thead>\n",
       "  <tbody>\n",
       "    <tr>\n",
       "      <th>0</th>\n",
       "      <td>130</td>\n",
       "      <td>56.222567</td>\n",
       "      <td>2.331425</td>\n",
       "      <td>56.2 ± 2.3 nm</td>\n",
       "    </tr>\n",
       "    <tr>\n",
       "      <th>1</th>\n",
       "      <td>120</td>\n",
       "      <td>55.520901</td>\n",
       "      <td>2.130009</td>\n",
       "      <td>55.5 ± 2.1 nm</td>\n",
       "    </tr>\n",
       "    <tr>\n",
       "      <th>2</th>\n",
       "      <td>110</td>\n",
       "      <td>57.290319</td>\n",
       "      <td>2.076329</td>\n",
       "      <td>57.3 ± 2.1 nm</td>\n",
       "    </tr>\n",
       "    <tr>\n",
       "      <th>3</th>\n",
       "      <td>100</td>\n",
       "      <td>55.556743</td>\n",
       "      <td>1.794125</td>\n",
       "      <td>55.6 ± 1.8 nm</td>\n",
       "    </tr>\n",
       "    <tr>\n",
       "      <th>4</th>\n",
       "      <td>90</td>\n",
       "      <td>56.795038</td>\n",
       "      <td>1.645768</td>\n",
       "      <td>56.8 ± 1.6 nm</td>\n",
       "    </tr>\n",
       "    <tr>\n",
       "      <th>5</th>\n",
       "      <td>80</td>\n",
       "      <td>56.432737</td>\n",
       "      <td>1.505018</td>\n",
       "      <td>56.4 ± 1.5 nm</td>\n",
       "    </tr>\n",
       "    <tr>\n",
       "      <th>6</th>\n",
       "      <td>70</td>\n",
       "      <td>57.938369</td>\n",
       "      <td>1.514650</td>\n",
       "      <td>57.9 ± 1.5 nm</td>\n",
       "    </tr>\n",
       "    <tr>\n",
       "      <th>7</th>\n",
       "      <td>60</td>\n",
       "      <td>58.142231</td>\n",
       "      <td>1.463853</td>\n",
       "      <td>58.1 ± 1.5 nm</td>\n",
       "    </tr>\n",
       "    <tr>\n",
       "      <th>8</th>\n",
       "      <td>50</td>\n",
       "      <td>62.067240</td>\n",
       "      <td>1.454175</td>\n",
       "      <td>62.1 ± 1.5 nm</td>\n",
       "    </tr>\n",
       "  </tbody>\n",
       "</table>\n",
       "</div>"
      ],
      "text/plain": [
       "   θ (deg)     R (nm)   σR (nm)     R_out (nm)\n",
       "0      130  56.222567  2.331425  56.2 ± 2.3 nm\n",
       "1      120  55.520901  2.130009  55.5 ± 2.1 nm\n",
       "2      110  57.290319  2.076329  57.3 ± 2.1 nm\n",
       "3      100  55.556743  1.794125  55.6 ± 1.8 nm\n",
       "4       90  56.795038  1.645768  56.8 ± 1.6 nm\n",
       "5       80  56.432737  1.505018  56.4 ± 1.5 nm\n",
       "6       70  57.938369  1.514650  57.9 ± 1.5 nm\n",
       "7       60  58.142231  1.463853  58.1 ± 1.5 nm\n",
       "8       50  62.067240  1.454175  62.1 ± 1.5 nm"
      ]
     },
     "metadata": {},
     "output_type": "display_data"
    }
   ],
   "source": [
    "def calculate_R(gamma, theta):\n",
    "    theta_rad = np.radians(theta)\n",
    "    R = (16 * np.pi * n**2 * T * KB * np.sin(theta_rad / 2)**2) / (3 * η * λ**2 * gamma)\n",
    "    return R\n",
    "\n",
    "def calculate_sigma_R(gamma, sigma_gamma, theta):\n",
    "    theta_rad = np.radians(theta)\n",
    "    sigma_R = (16 * np.pi * n**2 * T * KB * np.sin(theta_rad / 2)**2) / (3 * η * λ**2 * gamma**2) * sigma_gamma\n",
    "    return sigma_R\n",
    "\n",
    "# Calculate sigma_R for each gamma and theta\n",
    "sigma_R_values = np.array([calculate_sigma_R(gamma, sigma_gamma, theta) for gamma, sigma_gamma, theta in zip(GAMMA, sigmaGAMMA, TETA)])\n",
    "\n",
    "# Calculate R for each gamma and theta\n",
    "R_values = np.array([calculate_R(gamma, theta) for gamma, theta in zip(GAMMA, TETA)])\n",
    "R_out = np.array([final_val(r,sr,1,udm='nm') for r,sr in zip(R_values,sigma_R_values)])\n",
    "R_values_df = pd.DataFrame({'θ (deg)': TETA, 'R (nm)': R_values,'σR (nm)': sigma_R_values,'R_out (nm)':R_out})\n",
    "display(R_values_df)"
   ]
  },
  {
   "cell_type": "code",
   "execution_count": 50,
   "metadata": {},
   "outputs": [
    {
     "name": "stdout",
     "output_type": "stream",
     "text": [
      "R =  57.7 ± 0.6 nm\n"
     ]
    }
   ],
   "source": [
    "R = np.average(R_values,weights=1/sigma_R_values**2)\n",
    "\n",
    "σR = (1/np.sqrt(np.sum(1/sigma_R_values**2)))\n",
    "\n",
    "\n",
    "# from statsmodels.stats.weightstats import DescrStatsW\n",
    "# #calculate weighted standard deviation\n",
    "# σR = DescrStatsW(R_values, weights=1/sigma_R_values**2, ddof=1).std#\n",
    "# # σR = np.std(R_values,ddof=1,mean=R)\n",
    "\n",
    "print('R = ',final_val(R,σR,1,udm='nm'))"
   ]
  },
  {
   "cell_type": "markdown",
   "metadata": {},
   "source": [
    "# R CON COEFF DI DIFFUZIONE:"
   ]
  },
  {
   "cell_type": "code",
   "execution_count": 53,
   "metadata": {},
   "outputs": [
    {
     "name": "stdout",
     "output_type": "stream",
     "text": [
      "R =  57.9 ± 0.6 nm\n"
     ]
    }
   ],
   "source": [
    "R = KB*T/(6*np.pi*η*D)\n",
    "σR = R*(σD/D)\n",
    "\n",
    "print('R = ',final_val(R,σR,1,udm='nm'))"
   ]
  }
 ],
 "metadata": {
  "kernelspec": {
   "display_name": "Python 3",
   "language": "python",
   "name": "python3"
  },
  "language_info": {
   "codemirror_mode": {
    "name": "ipython",
    "version": 3
   },
   "file_extension": ".py",
   "mimetype": "text/x-python",
   "name": "python",
   "nbconvert_exporter": "python",
   "pygments_lexer": "ipython3",
   "version": "3.13.0"
  }
 },
 "nbformat": 4,
 "nbformat_minor": 2
}
