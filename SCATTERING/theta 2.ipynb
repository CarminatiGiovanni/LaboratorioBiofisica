{
 "cells": [
  {
   "cell_type": "markdown",
   "metadata": {},
   "source": [
    "# DETERMINE R function of $\\theta$\n",
    "\n",
    "- I dati nel .txt sono separati dal carattere '\\t  ', disposti in 2 colonne relativi al tempo (in millisecondi) e alla funzione di correlazione\n",
    "\n",
    "- $\\sigma_{g^2}$ = 0.001 l'incertezza è fissata all'ultima ciffra significativa\n",
    "\n",
    "- i dati validi da tenere in considerazione sono quelli nell'intervallo 0.1ms-10ms\n",
    "\n",
    "- Gli angoli nel nome del file sono l'angolo supplementare di $\\theta$ (per l'errore di misurazione)"
   ]
  },
  {
   "cell_type": "code",
   "execution_count": 1,
   "metadata": {},
   "outputs": [],
   "source": [
    "from matplotlib import pyplot as plt\n",
    "import numpy as np\n",
    "import pandas as pd\n",
    "import plotly.express as px\n",
    "import os\n",
    "import sys\n",
    "import plotly.graph_objects as go \n",
    "dir_path = os.path.abspath('')\n",
    "sys.path.append(dir_path + '/../')\n",
    "from labbiofisica import Interpolazione, final_val"
   ]
  },
  {
   "cell_type": "markdown",
   "metadata": {},
   "source": [
    "nel caricamento dei dati nelle strutture numpy i millisecondi vengono convertiti in secondi"
   ]
  },
  {
   "cell_type": "code",
   "execution_count": 2,
   "metadata": {},
   "outputs": [],
   "source": [
    "# filename = f'./data2/g_{θ}_2'\n",
    "# read = pd.read_table(filename, skiprows=30, nrows=245 - 30)\n",
    "# # read.head()\n",
    "\n",
    "# # print(read[read.columns[4]])\n",
    "# print(read.loc[:, read.columns[2:11]].std(axis=1))"
   ]
  },
  {
   "cell_type": "code",
   "execution_count": 3,
   "metadata": {},
   "outputs": [],
   "source": [
    "# Carico i dati {θ: {t: [], g: [], sigmag: []}}\n",
    "\n",
    "data = {}\n",
    "\n",
    "TETA = [40,50,60,70,80,90,100,110,120,130] \n",
    "GAMMA = []\n",
    "sigmaGAMMA = []\n",
    "\n",
    "# t convertito in secondi, si considerano dati solo tra 0.1 e 10 ms a causa del rumore\n",
    "for θ in TETA:\n",
    "    filename = f'./data2/g_{θ}_2.asc'\n",
    "    \n",
    "    read = pd.read_csv(filename, skiprows=30, nrows=245 - 30, sep='\\t', encoding='ISO-8859-1')\n",
    "\n",
    "    # print(read.columns[2:12])\n",
    "\n",
    "    read = read[(read['Lag [ms]'] >= 0.1) & (read['Lag [ms]'] <= 10)]\n",
    "    read['std'] = read.loc[:, read.columns[2:12]].std(axis=1) #  / np.sqrt(10 - 1)\n",
    "    \n",
    "    t = read['Lag [ms]'].to_numpy()/1000\n",
    "    g = read['Average'].to_numpy()\n",
    "    σg = read['std'].to_numpy()\n",
    "\n",
    "    # θ = 180 - θ\n",
    "    data[θ] = {'t':t,'g':g,'sigmag': σg} # converto in secondi\n",
    "\n",
    "# TETA = 180 - TETA # inverto angoli supplementari\n",
    "TETA = np.array(TETA)\n",
    "# print(data)"
   ]
  },
  {
   "cell_type": "code",
   "execution_count": 23,
   "metadata": {},
   "outputs": [],
   "source": [
    "# Constants\n",
    "n = 1.33 # index of refraction\n",
    "# sigman = 0.01 # uncertainty of the index of refraction\n",
    "η = 10**-9  # g/(nm*s) viscosity of water\n",
    "# sigmaη = 0.01 * 10**-9  # uncertainty of the viscosity of water\n",
    "λ = 632.8  # nm wavelength of the laser\n",
    "T = 293  # K temperature\n",
    "sigmaT = 1  # K uncertainty of the temperature\n",
    "KB = 1.3806e-2  # g (nm)^2 / s^2 K boltzmann constant"
   ]
  },
  {
   "cell_type": "markdown",
   "metadata": {},
   "source": [
    "# INTERPOLAZIONE\n",
    "\n",
    "attraverso al funzione: $g^2(\\tau) = A e^{-\\gamma \\tau} + B$"
   ]
  },
  {
   "cell_type": "code",
   "execution_count": 5,
   "metadata": {},
   "outputs": [],
   "source": [
    "# fit data\n",
    "CHI_r = []\n",
    "DOF = []\n",
    "PVALUE = []\n",
    "\n",
    "f = lambda x, A, B, γ: A*np.exp(-γ*x) + B\n",
    "\n",
    "for key in data.keys():\n",
    "    x = data[key]['t']\n",
    "    y = data[key]['g']\n",
    "    sigmay = data[key]['sigmag']\n",
    "    m = Interpolazione(x, y, sigmay, f, [0.05, 0.001, 2.7],['A','B','γ'])\n",
    "    data[key]['fit'] = m\n",
    "    # print(m.values['γ'])\n",
    "    data[key]['gamma'] = m.values['γ']\n",
    "    GAMMA.append(m.values['γ'])\n",
    "    sigmaGAMMA.append(m.errors['γ'])\n",
    "    CHI_r.append(m.rchi2)\n",
    "    DOF = m.dof\n",
    "    PVALUE.append(m.pvalue)\n",
    "\n",
    "GAMMA = np.array(GAMMA) \n",
    "sigmaGAMMA = np.array(sigmaGAMMA)\n"
   ]
  },
  {
   "cell_type": "code",
   "execution_count": 6,
   "metadata": {},
   "outputs": [
    {
     "data": {
      "text/html": [
       "<div>\n",
       "<style scoped>\n",
       "    .dataframe tbody tr th:only-of-type {\n",
       "        vertical-align: middle;\n",
       "    }\n",
       "\n",
       "    .dataframe tbody tr th {\n",
       "        vertical-align: top;\n",
       "    }\n",
       "\n",
       "    .dataframe thead th {\n",
       "        text-align: right;\n",
       "    }\n",
       "</style>\n",
       "<table border=\"1\" class=\"dataframe\">\n",
       "  <thead>\n",
       "    <tr style=\"text-align: right;\">\n",
       "      <th></th>\n",
       "      <th>40</th>\n",
       "      <th>50</th>\n",
       "      <th>60</th>\n",
       "      <th>70</th>\n",
       "      <th>80</th>\n",
       "      <th>90</th>\n",
       "      <th>100</th>\n",
       "      <th>110</th>\n",
       "      <th>120</th>\n",
       "      <th>130</th>\n",
       "    </tr>\n",
       "  </thead>\n",
       "  <tbody>\n",
       "    <tr>\n",
       "      <th>A</th>\n",
       "      <td>0.078358</td>\n",
       "      <td>0.073376</td>\n",
       "      <td>0.076864</td>\n",
       "      <td>0.072878</td>\n",
       "      <td>0.077385</td>\n",
       "      <td>0.073208</td>\n",
       "      <td>0.073449</td>\n",
       "      <td>0.073629</td>\n",
       "      <td>0.068494</td>\n",
       "      <td>0.068619</td>\n",
       "    </tr>\n",
       "    <tr>\n",
       "      <th>σA</th>\n",
       "      <td>0.000497</td>\n",
       "      <td>0.000316</td>\n",
       "      <td>0.000445</td>\n",
       "      <td>0.000501</td>\n",
       "      <td>0.000680</td>\n",
       "      <td>0.000909</td>\n",
       "      <td>0.000992</td>\n",
       "      <td>0.001067</td>\n",
       "      <td>0.001231</td>\n",
       "      <td>0.001323</td>\n",
       "    </tr>\n",
       "    <tr>\n",
       "      <th>B</th>\n",
       "      <td>0.001716</td>\n",
       "      <td>0.000603</td>\n",
       "      <td>0.000226</td>\n",
       "      <td>0.000233</td>\n",
       "      <td>0.000106</td>\n",
       "      <td>0.000204</td>\n",
       "      <td>0.000074</td>\n",
       "      <td>0.000020</td>\n",
       "      <td>0.000078</td>\n",
       "      <td>0.000102</td>\n",
       "    </tr>\n",
       "    <tr>\n",
       "      <th>σB</th>\n",
       "      <td>0.000307</td>\n",
       "      <td>0.000141</td>\n",
       "      <td>0.000133</td>\n",
       "      <td>0.000125</td>\n",
       "      <td>0.000103</td>\n",
       "      <td>0.000103</td>\n",
       "      <td>0.000085</td>\n",
       "      <td>0.000088</td>\n",
       "      <td>0.000088</td>\n",
       "      <td>0.000084</td>\n",
       "    </tr>\n",
       "  </tbody>\n",
       "</table>\n",
       "</div>"
      ],
      "text/plain": [
       "         40        50        60        70        80        90        100  \\\n",
       "A   0.078358  0.073376  0.076864  0.072878  0.077385  0.073208  0.073449   \n",
       "σA  0.000497  0.000316  0.000445  0.000501  0.000680  0.000909  0.000992   \n",
       "B   0.001716  0.000603  0.000226  0.000233  0.000106  0.000204  0.000074   \n",
       "σB  0.000307  0.000141  0.000133  0.000125  0.000103  0.000103  0.000085   \n",
       "\n",
       "         110       120       130  \n",
       "A   0.073629  0.068494  0.068619  \n",
       "σA  0.001067  0.001231  0.001323  \n",
       "B   0.000020  0.000078  0.000102  \n",
       "σB  0.000088  0.000088  0.000084  "
      ]
     },
     "metadata": {},
     "output_type": "display_data"
    }
   ],
   "source": [
    "# solo per stampare altri valori legati ai fit\n",
    "AsA = {}\n",
    "for θ in data.keys():\n",
    "    A = data[θ]['fit'].values['A']\n",
    "    sigmaA = data[θ]['fit'].errors['A']\n",
    "    B = data[θ]['fit'].values['B']\n",
    "    sigmaB = data[θ]['fit'].errors['B']\n",
    "    AsA[θ] = {'A':A,'σA':sigmaA,'B':B,'σB':sigmaB}\n",
    "\n",
    "Asa = pd.DataFrame(AsA)\n",
    "display(Asa)"
   ]
  },
  {
   "cell_type": "code",
   "execution_count": 7,
   "metadata": {},
   "outputs": [
    {
     "name": "stdout",
     "output_type": "stream",
     "text": [
      "---------------------------FIT RESULT----------------------------\n"
     ]
    },
    {
     "data": {
      "text/html": [
       "<div>\n",
       "<style scoped>\n",
       "    .dataframe tbody tr th:only-of-type {\n",
       "        vertical-align: middle;\n",
       "    }\n",
       "\n",
       "    .dataframe tbody tr th {\n",
       "        vertical-align: top;\n",
       "    }\n",
       "\n",
       "    .dataframe thead th {\n",
       "        text-align: right;\n",
       "    }\n",
       "</style>\n",
       "<table border=\"1\" class=\"dataframe\">\n",
       "  <thead>\n",
       "    <tr style=\"text-align: right;\">\n",
       "      <th></th>\n",
       "      <th>θ</th>\n",
       "      <th>γ</th>\n",
       "      <th>σγ</th>\n",
       "      <th>γ_out</th>\n",
       "      <th>pvalue</th>\n",
       "      <th>chir</th>\n",
       "      <th>dof</th>\n",
       "    </tr>\n",
       "  </thead>\n",
       "  <tbody>\n",
       "    <tr>\n",
       "      <th>0</th>\n",
       "      <td>40</td>\n",
       "      <td>527.056266</td>\n",
       "      <td>9.484879</td>\n",
       "      <td>(0.53 ± 0.01)e3 Hz</td>\n",
       "      <td>1.0</td>\n",
       "      <td>0.17</td>\n",
       "      <td>50</td>\n",
       "    </tr>\n",
       "    <tr>\n",
       "      <th>1</th>\n",
       "      <td>50</td>\n",
       "      <td>829.623716</td>\n",
       "      <td>7.026010</td>\n",
       "      <td>(0.83 ± 0.01)e3 Hz</td>\n",
       "      <td>1.0</td>\n",
       "      <td>0.34</td>\n",
       "      <td>50</td>\n",
       "    </tr>\n",
       "    <tr>\n",
       "      <th>2</th>\n",
       "      <td>60</td>\n",
       "      <td>1197.095239</td>\n",
       "      <td>11.120392</td>\n",
       "      <td>(1.2 ± 0.01)e3 Hz</td>\n",
       "      <td>1.0</td>\n",
       "      <td>0.17</td>\n",
       "      <td>50</td>\n",
       "    </tr>\n",
       "    <tr>\n",
       "      <th>3</th>\n",
       "      <td>70</td>\n",
       "      <td>1621.361270</td>\n",
       "      <td>18.255080</td>\n",
       "      <td>(1.62 ± 0.02)e3 Hz</td>\n",
       "      <td>1.0</td>\n",
       "      <td>0.17</td>\n",
       "      <td>50</td>\n",
       "    </tr>\n",
       "    <tr>\n",
       "      <th>4</th>\n",
       "      <td>80</td>\n",
       "      <td>2008.897986</td>\n",
       "      <td>25.656633</td>\n",
       "      <td>(2.01 ± 0.03)e3 Hz</td>\n",
       "      <td>1.0</td>\n",
       "      <td>0.16</td>\n",
       "      <td>50</td>\n",
       "    </tr>\n",
       "    <tr>\n",
       "      <th>5</th>\n",
       "      <td>90</td>\n",
       "      <td>2448.485713</td>\n",
       "      <td>37.552854</td>\n",
       "      <td>(2.45 ± 0.04)e3 Hz</td>\n",
       "      <td>1.0</td>\n",
       "      <td>0.09</td>\n",
       "      <td>50</td>\n",
       "    </tr>\n",
       "    <tr>\n",
       "      <th>6</th>\n",
       "      <td>100</td>\n",
       "      <td>2792.436701</td>\n",
       "      <td>46.492427</td>\n",
       "      <td>(2.79 ± 0.05)e3 Hz</td>\n",
       "      <td>1.0</td>\n",
       "      <td>0.16</td>\n",
       "      <td>50</td>\n",
       "    </tr>\n",
       "    <tr>\n",
       "      <th>7</th>\n",
       "      <td>110</td>\n",
       "      <td>3274.390615</td>\n",
       "      <td>57.720813</td>\n",
       "      <td>(3.27 ± 0.06)e3 Hz</td>\n",
       "      <td>1.0</td>\n",
       "      <td>0.16</td>\n",
       "      <td>50</td>\n",
       "    </tr>\n",
       "    <tr>\n",
       "      <th>8</th>\n",
       "      <td>120</td>\n",
       "      <td>3660.831500</td>\n",
       "      <td>66.826641</td>\n",
       "      <td>(3.66 ± 0.07)e3 Hz</td>\n",
       "      <td>1.0</td>\n",
       "      <td>0.17</td>\n",
       "      <td>50</td>\n",
       "    </tr>\n",
       "    <tr>\n",
       "      <th>9</th>\n",
       "      <td>130</td>\n",
       "      <td>4009.246478</td>\n",
       "      <td>84.094518</td>\n",
       "      <td>(4.01 ± 0.08)e3 Hz</td>\n",
       "      <td>1.0</td>\n",
       "      <td>0.13</td>\n",
       "      <td>50</td>\n",
       "    </tr>\n",
       "  </tbody>\n",
       "</table>\n",
       "</div>"
      ],
      "text/plain": [
       "     θ            γ         σγ               γ_out  pvalue  chir  dof\n",
       "0   40   527.056266   9.484879  (0.53 ± 0.01)e3 Hz     1.0  0.17   50\n",
       "1   50   829.623716   7.026010  (0.83 ± 0.01)e3 Hz     1.0  0.34   50\n",
       "2   60  1197.095239  11.120392   (1.2 ± 0.01)e3 Hz     1.0  0.17   50\n",
       "3   70  1621.361270  18.255080  (1.62 ± 0.02)e3 Hz     1.0  0.17   50\n",
       "4   80  2008.897986  25.656633  (2.01 ± 0.03)e3 Hz     1.0  0.16   50\n",
       "5   90  2448.485713  37.552854  (2.45 ± 0.04)e3 Hz     1.0  0.09   50\n",
       "6  100  2792.436701  46.492427  (2.79 ± 0.05)e3 Hz     1.0  0.16   50\n",
       "7  110  3274.390615  57.720813  (3.27 ± 0.06)e3 Hz     1.0  0.16   50\n",
       "8  120  3660.831500  66.826641  (3.66 ± 0.07)e3 Hz     1.0  0.17   50\n",
       "9  130  4009.246478  84.094518  (4.01 ± 0.08)e3 Hz     1.0  0.13   50"
      ]
     },
     "metadata": {},
     "output_type": "display_data"
    }
   ],
   "source": [
    "# print FIT RESULT:\n",
    "GAMMAFVAL = [final_val(g,sg,2,3,'Hz') for g,sg in zip(GAMMA,sigmaGAMMA)]\n",
    "gammateta = pd.DataFrame({'θ':TETA,'γ':GAMMA,'σγ':sigmaGAMMA,'γ_out':GAMMAFVAL,'pvalue':PVALUE,'chir':CHI_r,'dof':DOF})\n",
    "\n",
    "print('---------------------------FIT RESULT----------------------------')\n",
    "display(gammateta)\n",
    "\n",
    "# print(gammateta['γ'].to_numpy())\n",
    "# print(gammateta['σγ'].to_numpy())"
   ]
  },
  {
   "cell_type": "markdown",
   "metadata": {},
   "source": [
    "# PLOT FIT"
   ]
  },
  {
   "cell_type": "code",
   "execution_count": 8,
   "metadata": {},
   "outputs": [
    {
     "data": {
      "application/vnd.plotly.v1+json": {
       "config": {
        "plotlyServerURL": "https://plot.ly"
       },
       "data": [
        {
         "hoverinfo": "skip",
         "line": {
          "color": "#30123b"
         },
         "mode": "lines",
         "showlegend": false,
         "type": "scatter",
         "x": {
          "bdata": "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",
          "dtype": "f8"
         },
         "y": {
          "bdata": "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",
          "dtype": "f8"
         }
        },
        {
         "error_y": {
          "array": {
           "bdata": "2et9FeOtXT86IEQaK3dYP5zzOvYJ4lk//fAcFDLiXz/9cmFmeapbPxOPEUOzp1o/0ptm8PIdXT/E0aoPxk9cP52IK6Ff/1w/DzhyV/eHWj8i08TNmVdZP3yuV13Talg/DugcuOd0Wz+XOYWejLhZPzCRBzUut1o/rkKr0PWaXT/gPn9xSuBZPx1TEas581g/tG9eEZwNVj/KXorjzvlZPyMdYKruJlc/YzxAIW77Vj8T2tSFL09VP/yQsJPAUlc/oRHf8F6GVT9LlwCV4u5VP4Gl5JCaB1Q/WGNODW2gVT+OqYB2DzhUPz++CnA6Y1U/0hFsinAqVD89ne4QbTpUP4Ury65TIFU/LbGew50cVD9aMOHcU/5TP/gw2fhACFU/Uio3Ewt/Uz8wvyV4NX9TP5Dvvk4CylM/bfzXyDEtVj9ZUy9jFtdVPwpzeU6cCFQ/9nvj/dT+UD9KUjaRxjZRP+XNt+HNClI/HHsWQp/+UT/k5rKRpLVSPzyLRJtA5FE/sfH8a7j2Tz+Nj5R+CSpJPyrNkGC2pEQ/0QZEBFlzQj8FXOFN1UpAPw==",
           "dtype": "f8"
          },
          "color": "#30123b",
          "thickness": 1.5,
          "type": "data",
          "width": 3
         },
         "marker": {
          "color": "#30123b"
         },
         "mode": "markers",
         "name": "θ=40°",
         "type": "scatter",
         "x": {
          "bdata": "Sa+8mvLXGj8xRRTu8DIeP43ttaD3xiA/grhhynZ0Ij92gw309SEkP2pOuR11zyU/XxllR/R8Jz9U5BBxcyopP0mvvJry1yo/MUUU7vAyLj+N7bWg98YwP4K4Ycp2dDI/doMN9PUhND9qTrkddc81P18ZZUf0fDc/VOQQcXMqOT9Jr7ya8tc6PzFFFO7wMj4/je21oPfGQD+CuGHKdnRCP3aDDfT1IUQ/ak65HXXPRT9fGWVH9HxHP1TkEHFzKkk/Sa+8mvLXSj8xRRTu8DJOP43ttaD3xlA/grhhynZ0Uj92gw309SFUP2pOuR11z1U/XxllR/R8Vz9U5BBxcypZP0mvvJry11o/MUUU7vAyXj+N7bWg98ZgP4K4Ycp2dGI/doMN9PUhZD9qTrkddc9lP18ZZUf0fGc/VOQQcXMqaT9Jr7ya8tdqPzFFFO7wMm4/je21oPfGcD+CuGHKdnRyP3aDDfT1IXQ/ak65HXXPdT9fGWVH9Hx3P1TkEHFzKnk/Sa+8mvLXej8xRRTu8DJ+P43ttaD3xoA/grhhynZ0gj92gw309SGEPw==",
          "dtype": "f8"
         },
         "y": {
          "bdata": "IhG/B1Sksz8aHes98IyzPwNsUbAQZ7M/DEbb5+c8sz/NuF/0yxazP5ySYja3+LI/GYOYlTfRsj+5Mk19xb+yP202VmKelbI/GPhA4aJJsj9TBg5o6QqyP0ceiCzSxLE/GONoM/OJsT8gF4uVhzuxPxbcD3hgALE/YBhVK7jEsD8NM9nklZCwP5i5ZSw/FbA/6GYk52llrz+0AkNWt3quP+GsLeF1oq0/CRueXinLrD+KW2DqQgesPyV6GcVyS6s/h5nHq72Zqj8SzyOQXEipPwMnNnqQ+ac/DQnOz8O/pj8pS2NqAZClP5NRZRh3g6Q/zCMkd32Loz+ost5eiIuiP3Sby2g/raE/KnUk8rgDoD8y1u2invScP4hITbuYZpo/G11KAnkbmD+NhBFWvsKVP4cejDPh8pM/Da2ph8Mtkj8F03oJX6mQPw85x8p5EIw/eOxnsRTJhz94x1K5wwWEP7kj1sFFF4E/0MhSsVK9fD9ZQcLm0q54P1JzA09r5HQ/k//q7abGcT/bEMqYDt9qPyLbXKklJWY/TK8HctT6YD/4mQaHD9NbPw==",
          "dtype": "f8"
         }
        },
        {
         "hoverinfo": "skip",
         "line": {
          "color": "#4145ab"
         },
         "mode": "lines",
         "showlegend": false,
         "type": "scatter",
         "x": {
          "bdata": "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",
          "dtype": "f8"
         },
         "y": {
          "bdata": "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",
          "dtype": "f8"
         }
        },
        {
         "error_y": {
          "array": {
           "bdata": "RqdVrl1XUz/2YnJTtlJXP964cjEcKlE/yynICXcsWD/e0LawX59UPxLm+B49uk8/CCTtms/hUz8hSq+nvuxBPwQ2vqOankc/m8PipZiqSj9DK0+rXSpRP3TGtrXoS1g/wYtXjF1dTD8JuWhJ9r1RP+fA51F2B1Q/DPSuu79bUz/tHL0BzT1JP7SDAetv3Es/enEXsW7cSz/yJMrXAG9HPyIh3tDjT0M/sNgjd3v6RD93oxfOanQ9P2R1+qMF9UI/wl+yoClSRj8tSOuLZ/5KP8ASN7fyNz0//On3XjdGPj8w7G4ktHo4P9TkYApCMEA/7+VkOI/8QD9dYLfNo3Y6P8OsHKn1MDg/Rs0AjaC3Nj8Fn+85Qbw/P+FLJCcjyzE/biXjzXBhQD8nvMPqWn1EP+PqV0LAz0Y/vKq4z64fRz9GGlWzifNGP0P0k+m7gEM/wj47r85sRT9I9Ktv49c/P+8B/k1rdEA/csszbTLUQz/MROcDX2Q5P8ZkoLqEEEA//9cKYRAKOD/IMQFzPco5PxBrY1oB9jc/EEEVgPgJPD9BrbUUZ+I/Pw==",
           "dtype": "f8"
          },
          "color": "#4145ab",
          "thickness": 1.5,
          "type": "data",
          "width": 3
         },
         "marker": {
          "color": "#4145ab"
         },
         "mode": "markers",
         "name": "θ=50°",
         "type": "scatter",
         "x": {
          "bdata": "Sa+8mvLXGj8xRRTu8DIeP43ttaD3xiA/grhhynZ0Ij92gw309SEkP2pOuR11zyU/XxllR/R8Jz9U5BBxcyopP0mvvJry1yo/MUUU7vAyLj+N7bWg98YwP4K4Ycp2dDI/doMN9PUhND9qTrkddc81P18ZZUf0fDc/VOQQcXMqOT9Jr7ya8tc6PzFFFO7wMj4/je21oPfGQD+CuGHKdnRCP3aDDfT1IUQ/ak65HXXPRT9fGWVH9HxHP1TkEHFzKkk/Sa+8mvLXSj8xRRTu8DJOP43ttaD3xlA/grhhynZ0Uj92gw309SFUP2pOuR11z1U/XxllR/R8Vz9U5BBxcypZP0mvvJry11o/MUUU7vAyXj+N7bWg98ZgP4K4Ycp2dGI/doMN9PUhZD9qTrkddc9lP18ZZUf0fGc/VOQQcXMqaT9Jr7ya8tdqPzFFFO7wMm4/je21oPfGcD+CuGHKdnRyP3aDDfT1IXQ/ak65HXXPdT9fGWVH9Hx3P1TkEHFzKnk/Sa+8mvLXej8xRRTu8DJ+P43ttaD3xoA/grhhynZ0gj92gw309SGEPw==",
          "dtype": "f8"
         },
         "y": {
          "bdata": "Did6KvHKsT/jhRm/lZGxP2HGFKxxNrE//43iwbsBsT9bpaq/FNSwP2shEs8jkLA/S9TBsLJssD+KYeLqW0GwP8J5gg4EErA/khZ4OMt2rz+IJMSm38+uPxm06zlEN64/HPQAcbJorT/WfEvv0dGsP5Cbhk0JLaw/a/+5Hjteqz8JmXUQheCqP1iw6DEl7ak/Qw4AC0+eqD+Zx1AEJ5GnP1jOOdPfpqY/f4XMlUG1pT/h0Fs8vOekP7hEifH1EKQ/Mz6C0ZtAoz/DnQsjvaihP+jjNQqkH6A/BfXSuUfbnT8UlnhA2ZSbP7QMJx9xfpk/1+iLc4pElz9iO84jNaOVP5gCiHHt+pM/dT+nID8bkT+e+vZktESNPySOhp1zAYk/gCkDB7R0hT/SeH1BZsKCP9JRs6ygDoA/F1LyqAAxfD+YSy7vP2x4P6k3QLzwe3I/QXXejLu9az9buGqmlDplP+NtxuVPhmA/WwXWFkPeVz+HxWZPGzhUPxPEULlPr1A/heLdfc3zST8VeYVKy2RCP/BeXTH99Do/MLm+ANzbJj8FniUP3jMvPw==",
          "dtype": "f8"
         }
        },
        {
         "hoverinfo": "skip",
         "line": {
          "color": "#4675ed"
         },
         "mode": "lines",
         "showlegend": false,
         "type": "scatter",
         "x": {
          "bdata": "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",
          "dtype": "f8"
         },
         "y": {
          "bdata": "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",
          "dtype": "f8"
         }
        },
        {
         "error_y": {
          "array": {
           "bdata": "zybUY2w/Wj9OzkRNZUVYPxJXjyv+HlM/a3avdU6rTD8nvmSFQ4pXP3c6VXCl6lY/LtIcSLA5WD/HRhu/N+pQP1q00m7DD1c/CJnzhqW5WT8+goHwjkRVP1ab6usYcE4/lDFcI6olVT9WffuMyrxQP32pVJh5iUs/AnxNSiQoUz9MW3odPYBVPzJtUjKYA0w//IeSw+bgRT93mJxT85NOP82+z+9cLU0/FcvHmvoxSD8IvDdNOVFMP5h/7YG0bEY/0HCYm8xnQD+pCrRODsw7P3L3aIYOfEY/rGD3h95yPT/fsQXshrBBP7y9obQy9kE/+3PhuXxeOT9psrnSGUs5PwXj7GcJ/DE/H3NhMtbINz/7cV3WsnA5P4LGHKNbMz4/i0AVxw+0Qz8S8WY/8qVGP86N2CzPuUU/Mw9RDrIURj/INBBV1XBGP1TNonX2Qzo/0J8vKWjZQD8KJgVobmNBPyp4SgZz9UI/i0/yq1LyPz8FRIzpjjtBP6/8hgCGXUA/7XuRvr2nQT/8fiCcDipBPwsIWMazY0M/ysoVBv1BNj+n/omWSHc6Pw==",
           "dtype": "f8"
          },
          "color": "#4675ed",
          "thickness": 1.5,
          "type": "data",
          "width": 3
         },
         "marker": {
          "color": "#4675ed"
         },
         "mode": "markers",
         "name": "θ=60°",
         "type": "scatter",
         "x": {
          "bdata": "Sa+8mvLXGj8xRRTu8DIeP43ttaD3xiA/grhhynZ0Ij92gw309SEkP2pOuR11zyU/XxllR/R8Jz9U5BBxcyopP0mvvJry1yo/MUUU7vAyLj+N7bWg98YwP4K4Ycp2dDI/doMN9PUhND9qTrkddc81P18ZZUf0fDc/VOQQcXMqOT9Jr7ya8tc6PzFFFO7wMj4/je21oPfGQD+CuGHKdnRCP3aDDfT1IUQ/ak65HXXPRT9fGWVH9HxHP1TkEHFzKkk/Sa+8mvLXSj8xRRTu8DJOP43ttaD3xlA/grhhynZ0Uj92gw309SFUP2pOuR11z1U/XxllR/R8Vz9U5BBxcypZP0mvvJry11o/MUUU7vAyXj+N7bWg98ZgP4K4Ycp2dGI/doMN9PUhZD9qTrkddc9lP18ZZUf0fGc/VOQQcXMqaT9Jr7ya8tdqPzFFFO7wMm4/je21oPfGcD+CuGHKdnRyP3aDDfT1IXQ/ak65HXXPdT9fGWVH9Hx3P1TkEHFzKnk/Sa+8mvLXej8xRRTu8DJ+P43ttaD3xoA/grhhynZ0gj92gw309SGEPw==",
          "dtype": "f8"
         },
         "y": {
          "bdata": "9G3BUl3AsT8vR9ls9lGxP/NpX4q89rA/7pFynIDLsD/l1M4wtaWwP22gCskTUrA/ZOGQsuoYsD86H0NsVbevP9bzf1iAAK8/T9SIT/ADrj8hu8EG+vqsP2ASeHEsOaw/SWb1DrdDqz8RqP5BJEOqP8cqpWd6iak/dCkJ5G0AqT8QYVfuYB+oP2pwthTrr6Y/KLUX0XZMpT/TLHU1HhGkPyN6Y1KNqKI/ymsldJfEoT8hgIqZM5GgP0Qb28b6YZ8/cMEI0KVunT8m9a/2wUOaP6m2QCcpVZc/WSd4VEZtlD/WuO0xR0WSPy/hKxWvDZA/RwlVxa+zjD/pPHSLCuaJP7/arFUW4IY/Ply0+Ptigj/nLUddpZp9P2OwRX8mync/nQM2rTUQcj97D9k4SZBtP0rjgvlMcmc/WlLmzX4wYj+UW6Sao9hbP1a1KNzAV1M/4QaY00fbRj8iXxmGVd0/P5SjtMLqSzM/nryQWp2mIz+b0LRc5/MiPx7T2ViwZQ4/+MTScUmWIj9pivY0BCAePx51PLIueCU/b4gFfz4YKD/dUzfs/n4fPw==",
          "dtype": "f8"
         }
        },
        {
         "hoverinfo": "skip",
         "line": {
          "color": "#39a2fc"
         },
         "mode": "lines",
         "showlegend": false,
         "type": "scatter",
         "x": {
          "bdata": "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",
          "dtype": "f8"
         },
         "y": {
          "bdata": "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",
          "dtype": "f8"
         }
        },
        {
         "error_y": {
          "array": {
           "bdata": "E7EujuUiUD84KP/fF8pSPyZJwhmCfVc/rZ1fPgldVD/T/xavHwhSPyhdJ6D/MVY/yJRIYSbWUj/a3cXsYDJRP3YYP/apJ0k/ReUJqOAPTT+y4vyyPSpJP9npnzixGkY/rL4tTRJkTz+IQrjLRmNSP5gQlVtGC1E/z0fCAc/ISD9uZ8fZ/fJOPyMNu7Q8b04/OEZRJiC4QT9uk/PI1Iw1PwzILnAUrEM/0FwHEfHAUD9Uhd9zUp9GP1Bo7zireEY/lq7dM+8hTj+pezG4kwBOP0xSbfHj5UY/ehAM90lbQD+QLFVNxFg5PyWbWAQiG0A/MrdFwVm1RT+x6EezevVKP6d2inkoMkc/egv5csj5Qj8od/T5zUJFP/eDlzghJ0w/3ZQZmNCGSz9UBrCtdHtMPz/XqOlKw0w/aZulHhv/Sz/UhMoGB49JP+TTnzkuN0E/yz84R7kjQz+fPrx8r71BP52GdbsQOUA/qKLEn2JAQj9MtF5C7U9AP53zINxsvjs/SZJFNBTPND/6boHYnEE5P3j86hV13kE/oiIydQIkQj96UkEocq48Pw==",
           "dtype": "f8"
          },
          "color": "#39a2fc",
          "thickness": 1.5,
          "type": "data",
          "width": 3
         },
         "marker": {
          "color": "#39a2fc"
         },
         "mode": "markers",
         "name": "θ=70°",
         "type": "scatter",
         "x": {
          "bdata": "Sa+8mvLXGj8xRRTu8DIeP43ttaD3xiA/grhhynZ0Ij92gw309SEkP2pOuR11zyU/XxllR/R8Jz9U5BBxcyopP0mvvJry1yo/MUUU7vAyLj+N7bWg98YwP4K4Ycp2dDI/doMN9PUhND9qTrkddc81P18ZZUf0fDc/VOQQcXMqOT9Jr7ya8tc6PzFFFO7wMj4/je21oPfGQD+CuGHKdnRCP3aDDfT1IUQ/ak65HXXPRT9fGWVH9HxHP1TkEHFzKkk/Sa+8mvLXSj8xRRTu8DJOP43ttaD3xlA/grhhynZ0Uj92gw309SFUP2pOuR11z1U/XxllR/R8Vz9U5BBxcypZP0mvvJry11o/MUUU7vAyXj+N7bWg98ZgP4K4Ycp2dGI/doMN9PUhZD9qTrkddc9lP18ZZUf0fGc/VOQQcXMqaT9Jr7ya8tdqPzFFFO7wMm4/je21oPfGcD+CuGHKdnRyP3aDDfT1IXQ/ak65HXXPdT9fGWVH9Hx3P1TkEHFzKnk/Sa+8mvLXej8xRRTu8DJ+P43ttaD3xoA/grhhynZ0gj92gw309SGEPw==",
          "dtype": "f8"
         },
         "y": {
          "bdata": "FFrW/WMhsD+MDYIznUKvP5ZzzvS3qa4/rvWg+80frj8YWGw40VOtP2lgmtgyz6w/h3L9Fvjlqz/U9DS7SWerP6NrcGyH0Ko/V6nqLwW1qT8VcqWeBaGoP+ZjLfR3pac/ansFs1O9pj/qotdVN82lP3bj3ZGx2qQ/WlZQB2gRpD/RAINJljijP6eROxFpwKE/lO74QDxcoD9cjlcgelKePw6fdCLBVJs/fM/tytNemT9/BuXHqeeWP5o2LcJecpU/2zS214Lekz+vSKcJNgmRP39GjhlN04w/7Tn6qTtgiD9iLHh2nh2FP4DdRIiGIII/rat+fHSwfz8m8YfZqqh6P8qBBc06JXg/it8cx3K/cT81Heg+jFJqP1OTv/9/MWU/zExhjOXpXj8IXLKFe8BXP7gfEc/p5FI/3aDSlcN/Tj8ZVno4RIZMP52uLnQTH0k/tmebvWESNj+Er9RgRisRPzszTxvGvjM/enE4rNatMT/oGC2TI5UgP8DOtFnBoxA/0iUbDEdpBT8j3uS1nhoZPwGqDnJE4iE/SfODThq3AD9YSHN+p10FPw==",
          "dtype": "f8"
         }
        },
        {
         "hoverinfo": "skip",
         "line": {
          "color": "#1bcfd4"
         },
         "mode": "lines",
         "showlegend": false,
         "type": "scatter",
         "x": {
          "bdata": "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",
          "dtype": "f8"
         },
         "y": {
          "bdata": "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",
          "dtype": "f8"
         }
        },
        {
         "error_y": {
          "array": {
           "bdata": "LHP6TFJlXT/b50bTULtTP8pn2Ga2vlc/HnU3oFaVXD/NWGHXpQ1dP/4QhSLQzks/lzMVcPrwUj95COJzPsRVPwuFJwdAG08/gLO8WOG/Rz9IH9kfn9pbP4i/MK1VYk4/Yf/GSLRxTz/Gfh4+F81SP73NSvciMlI/jFv3cdorVz96lxx2g7RJP2wlAlqMBUo/E1I+ri1YRT+v2yoWBvhAP0lrLvY5XVA/kMABoRZUQj+rsop9K/lKPzGco0FS6Eg/yhdJvpjwSD8T+BTCLi9LPwlo+m2l/Eg/kJ+hgFK4QT8gts3pJqFMPzDbDTmtOEc/nH69fyn0ST/3vGTEd5xKP9wLTTxkDkQ/WJiL+A8AOz8dNqlbULw7P0QtMvCxOUU/a5at9HcNRD+6Jps5J2NDP5b/2Put/UI/fWZKo1cEQz/qC0L4des9P9vkVGyNxjs/aaPoa6gnOz/Bxi++LUs5P+8tQ197qEI/ocAN8re6Oj+4awuF8GA9P84WpYkh6j0/DuDpdgFWPz+i9T3QHYU/PzsdNQ87Ezc/SFsQpLzJNT/Le44NBU43Pw==",
           "dtype": "f8"
          },
          "color": "#1bcfd4",
          "thickness": 1.5,
          "type": "data",
          "width": 3
         },
         "marker": {
          "color": "#1bcfd4"
         },
         "mode": "markers",
         "name": "θ=80°",
         "type": "scatter",
         "x": {
          "bdata": "Sa+8mvLXGj8xRRTu8DIeP43ttaD3xiA/grhhynZ0Ij92gw309SEkP2pOuR11zyU/XxllR/R8Jz9U5BBxcyopP0mvvJry1yo/MUUU7vAyLj+N7bWg98YwP4K4Ycp2dDI/doMN9PUhND9qTrkddc81P18ZZUf0fDc/VOQQcXMqOT9Jr7ya8tc6PzFFFO7wMj4/je21oPfGQD+CuGHKdnRCP3aDDfT1IUQ/ak65HXXPRT9fGWVH9HxHP1TkEHFzKkk/Sa+8mvLXSj8xRRTu8DJOP43ttaD3xlA/grhhynZ0Uj92gw309SFUP2pOuR11z1U/XxllR/R8Vz9U5BBxcypZP0mvvJry11o/MUUU7vAyXj+N7bWg98ZgP4K4Ycp2dGI/doMN9PUhZD9qTrkddc9lP18ZZUf0fGc/VOQQcXMqaT9Jr7ya8tdqPzFFFO7wMm4/je21oPfGcD+CuGHKdnRyP3aDDfT1IXQ/ak65HXXPdT9fGWVH9Hx3P1TkEHFzKnk/Sa+8mvLXej8xRRTu8DJ+P43ttaD3xoA/grhhynZ0gj92gw309SGEPw==",
          "dtype": "f8"
         },
         "y": {
          "bdata": "GcqJdhVSsD9rnE1HADevP4aTNH9Ma68/VbFC23sCrj/JHqFmSBWtPyhSUEDJ06w/PhqYJrbMqz96E+i4vx+rP+NNI9LbRKo/zGZpAqDlqD+O0gA5vHunPwqyr4bVaaY/XZSPk3gvpT/PH4lNGlmkPzeji/JxEqM/0GYwod18oj9yuQveoXKhPxEIKplSTZ8/59FDI44rnD9cvdQZKaWZP30d3a3RF5c/OCT/3UyWlD9mC63zFN6SP3oREg5iDJE/9NZlnZbEjj+o8/KF2oCJP/aQ+C4IWYQ/6zDsUTTmgD/2nNOwCJN8P0yZBgtId3c/zWPmZcGCcz8rQ6iUz9lvPxejx1KYtWw/XeATZxxVYz9Cb9hT/vdYP6oJRzWRPlI/3f077M+PUD+9ewvhVEhCPzI61Hq1Xzs/zrz+H4W9KT/bbYQ2Gm8kP6TdaS1z0wK/AlBnHFrMLj8EMQOn1KssP9O8G797PSs/B9f1bqB+Lz9zvSEY/SQbv2+LA75Tpwm/OJbgJr3VBb90x9sm08jXvmp2nUDqDCK/D/pih+KiG7+V+Q81RvUKPw==",
          "dtype": "f8"
         }
        },
        {
         "hoverinfo": "skip",
         "line": {
          "color": "#24eca6"
         },
         "mode": "lines",
         "showlegend": false,
         "type": "scatter",
         "x": {
          "bdata": "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",
          "dtype": "f8"
         },
         "y": {
          "bdata": "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",
          "dtype": "f8"
         }
        },
        {
         "error_y": {
          "array": {
           "bdata": "iAZ17rpaYD8YGvlpuDJTP2Tcio67mVg/G7PewLDzYD+rR3Ym1n9YP0GlhCawKGE/bo3lgnVeUz/IGvQ+JpNSPw4mXaJoc1k/1JNjKjDdVT9ZaJ7hSvNUP4QAA4qF8VE/YwSGdHzDQj/CFU9smx5VPxQHcL+k3VA/8ip2hPKvTD805zgp6HlCP5etsgxt8EM/hyZtOrrAPT8+lNE9lrdGP/7XVGPCNk0/81W/62FOTT9uGvnrAaxQP7drlBagRU0/pmlrffzGSj+sRMkcoDBMP7/CKQCUDUQ/NtT9VXMrSD8C/QFysb1CP9ohi2YhYEY/C6LrEBaKUj8gcBnWJ7dQP5qgvZcaR0g/uSHJUX6oST/e8tLEmmhDP/b+cTXI+kc/U/uB/slYPj/JPr33mUtKP6ef5q+S/0g/eCTVzkX+Qj8Rc0lNypBAPxTm8L2hLkE/QYGDdWn7QD8uM0Zu62kzP39dIdCspDY/i9j5cZJfPz8YHPEeij49P0XiwluqLkI/ZxxZkO5VPT96Et+XCaM1P1dah8L16EE/GicCLBnkNz/tI5M8aNk5Pw==",
           "dtype": "f8"
          },
          "color": "#24eca6",
          "thickness": 1.5,
          "type": "data",
          "width": 3
         },
         "marker": {
          "color": "#24eca6"
         },
         "mode": "markers",
         "name": "θ=90°",
         "type": "scatter",
         "x": {
          "bdata": "Sa+8mvLXGj8xRRTu8DIeP43ttaD3xiA/grhhynZ0Ij92gw309SEkP2pOuR11zyU/XxllR/R8Jz9U5BBxcyopP0mvvJry1yo/MUUU7vAyLj+N7bWg98YwP4K4Ycp2dDI/doMN9PUhND9qTrkddc81P18ZZUf0fDc/VOQQcXMqOT9Jr7ya8tc6PzFFFO7wMj4/je21oPfGQD+CuGHKdnRCP3aDDfT1IUQ/ak65HXXPRT9fGWVH9HxHP1TkEHFzKkk/Sa+8mvLXSj8xRRTu8DJOP43ttaD3xlA/grhhynZ0Uj92gw309SFUP2pOuR11z1U/XxllR/R8Vz9U5BBxcypZP0mvvJry11o/MUUU7vAyXj+N7bWg98ZgP4K4Ycp2dGI/doMN9PUhZD9qTrkddc9lP18ZZUf0fGc/VOQQcXMqaT9Jr7ya8tdqPzFFFO7wMm4/je21oPfGcD+CuGHKdnRyP3aDDfT1IXQ/ak65HXXPdT9fGWVH9Hx3P1TkEHFzKnk/Sa+8mvLXej8xRRTu8DJ+P43ttaD3xoA/grhhynZ0gj92gw309SGEPw==",
          "dtype": "f8"
         },
         "y": {
          "bdata": "0oJhCiDGrT8pjNJKxtasP8UEkDV+PKs/BQjVvJmHqj99LgkGxrCpP3Nz4IvlTKk/pllFJK9zqD+s4SL3dHWnP2krQCX48KY/pKQs6GJ4pT/DqjBsg8mjPzj688h6xaI/pI7pZASvoT+XNhyWBn6gPww9YvTcQp8/bijGQylrnT8zD6oeepybP0KS/gNRnJg/cQqGzsallT+S5jSw+siSP685rBUS1ZA/7YDrihnhjT+X3TjOEgmLPzXJ2YUwyIc/ZdNbTeg/hT8HyJ/BCfl+PwyVPRHdFnk/d/PYv4CYcz8a9t6MWJNwP18CnlFGnmw/QaKF2wz9ZD86atgxpkdgP5ANrPyVQl4/WvSQIa45Uz+3VT47SJ5HP0PIUzh9m0A/fnc/L1s5Kz9MbneDJpE2P4fLFsrGreM+enUUO6gxMj9L5QSlHFcpP9R6Ae5gYQS/6gsUvfv/Ij+uwYtWn78xP499tCs5ljM/XGBhUanDLj8NMurWQvsuP5RiuFwz8Bk/N1hCu2aZJT/KcBuRGNIrP/q5E38joDM/u1HaTf/B/z7kXvsqQq8kPw==",
          "dtype": "f8"
         }
        },
        {
         "hoverinfo": "skip",
         "line": {
          "color": "#61fc6c"
         },
         "mode": "lines",
         "showlegend": false,
         "type": "scatter",
         "x": {
          "bdata": "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",
          "dtype": "f8"
         },
         "y": {
          "bdata": "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",
          "dtype": "f8"
         }
        },
        {
         "error_y": {
          "array": {
           "bdata": "lt3HC5McWj9cJ+fo7AhfP2r5IpCT1Fg/tTQS1h8lUz8n6IrmLl1hP+UdDwpFE1M/V3UiLr4HXT+gyJ08awNePxE5y8bvEls/Ic0UbYVPUT9mxbmZ0ydTP/Xd+dOEjUw/jYqko2BIRD8G9Ui0TjFSP7ijjnlMbVY/NGaDMPa2WD+imxS/Y2tQP1omh843l1M/dDdI13qsSz8b+IKzsQlKPw6f8rXsclI/rdfrsoQ+VD8gwelMi7tIPwIaLyEzXVI/nN5Z1uPtTD/R6Q0MBoJPP2UBOoDTRkA/UONsMHKYLz+2mGbehus4P95WOGYFF0E/ppFXJB5pPD+H6TXHtR1IPwzG0aOFEjo/D0AztRXXPz+qCDAU8I5DP9C5H3EtST8/CJUp4PwSQj+vHLi1xQ5APxgFXiDp30c/8vA82OrnOz98PxNFuzo5P6Xq9lcSPjw/BXuOduBDRj9JRBle0Fs5P+MEtDktPjM/BCT6w4UlNz8HdJt6KxEyP3q3bZUlyDk/rgtk3RXBMz9oWbOhJrIzP7Y8URA60DU/lFJGsY6DPD+unxSy+vlAPw==",
           "dtype": "f8"
          },
          "color": "#61fc6c",
          "thickness": 1.5,
          "type": "data",
          "width": 3
         },
         "marker": {
          "color": "#61fc6c"
         },
         "mode": "markers",
         "name": "θ=100°",
         "type": "scatter",
         "x": {
          "bdata": "Sa+8mvLXGj8xRRTu8DIeP43ttaD3xiA/grhhynZ0Ij92gw309SEkP2pOuR11zyU/XxllR/R8Jz9U5BBxcyopP0mvvJry1yo/MUUU7vAyLj+N7bWg98YwP4K4Ycp2dDI/doMN9PUhND9qTrkddc81P18ZZUf0fDc/VOQQcXMqOT9Jr7ya8tc6PzFFFO7wMj4/je21oPfGQD+CuGHKdnRCP3aDDfT1IUQ/ak65HXXPRT9fGWVH9HxHP1TkEHFzKkk/Sa+8mvLXSj8xRRTu8DJOP43ttaD3xlA/grhhynZ0Uj92gw309SFUP2pOuR11z1U/XxllR/R8Vz9U5BBxcypZP0mvvJry11o/MUUU7vAyXj+N7bWg98ZgP4K4Ycp2dGI/doMN9PUhZD9qTrkddc9lP18ZZUf0fGc/VOQQcXMqaT9Jr7ya8tdqPzFFFO7wMm4/je21oPfGcD+CuGHKdnRyP3aDDfT1IXQ/ak65HXXPdT9fGWVH9Hx3P1TkEHFzKnk/Sa+8mvLXej8xRRTu8DJ+P43ttaD3xoA/grhhynZ0gj92gw309SGEPw==",
          "dtype": "f8"
         },
         "y": {
          "bdata": "aJt2jIbnrD+wnqQKkLKrP58Y/nhUoao/ElN9QtGXqT9yBcpcz8aoP8EC8+vikac/7w+lB08ypz8B3Zcz2xWmP4C7R5EQQKU/5NXeTPFdoz/Nfc3NkluiP0RMLmsHyKA/uuRuxh/7nz9sBOJ1/YKdP66UCs/wC5w/Z7Ik5ZO6mT/eyafHtgyYP4qh5vVxfpQ/rrdymxX2kT+QO1v22iKPP4nETsKWaIo/SLqwf+iThj85aOnppyiEP6qYa03KD4I/TqIUY0/xfj+wO/6Hy1x2P/uf9GzzUnM/xUMQzkRkaj+6eGjt8LZmP3plByodi2E//yORhQGuWD9+sOfGTz5YP0kqU8xB0FE/pQdwQGxlST996mIXaB5AP5zNLAdPKDE/9o+42bVDF7/Mt8xWT8ciPyZ2rfgfBAi/JGx1whZ+Gj+1SHViWMMaP+wO6qEEnSM/0kKS8dlOLD/XFhWmLJkMPw+prcYO+QI/xeZQd39rIL+cghMJWgwkv2tQGOZKktK+E/D1Ooz+FT+8+RDLmwApP0e8VvEvShy/cxMp1Ol1Eb8v6dnA3kMgvw==",
          "dtype": "f8"
         }
        },
        {
         "hoverinfo": "skip",
         "line": {
          "color": "#a4fc3b"
         },
         "mode": "lines",
         "showlegend": false,
         "type": "scatter",
         "x": {
          "bdata": "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",
          "dtype": "f8"
         },
         "y": {
          "bdata": "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",
          "dtype": "f8"
         }
        },
        {
         "error_y": {
          "array": {
           "bdata": "bif0pEU/Xj/m4yQ8xvZTP+D0Jv5bZlc/JkjhMsNeTT/b9AThuW5VP/7Nt0DaCFY/Iz/523QMWz8hIoof63BXPzKN0rnaFE4/bVFkIhvuVj8RUr+YTLBNP5cSb936R1Q/FSrjH7r8Uj8rdB0eE09KP3nswgbxuVA/x3HM/PuMVD+4vP/qclxYP2/6P5JAf0g/bmEUkqUwVD+yIXbCqw9LP6fL3dBRv0o/L7kFyWJ/QT/RZq9Sp89FP2Oi8AkV41A/NbOkZ3VzRD8sSFlFln5GP0qhe9aJuEI/+kMUyEvAQD+XwsxiuK9KP5EAgdpIdT8/ctoePkOgUD/D6qYm2sBDP2vPrOH+ojo/aZeBv1GnOz/XBw6WKj1CPyXVul8pSzs/Oxua6jrmQD9r+uTxNPk0P8DqMbJ6jkM/toqQ8j+xRD8Q8Ev2bws8P47bmIsEMj4/HHCAnvjhOD9aBQTbpsg5P1lXl2CC0TQ/7/8ws1LZPT+FPMi859g7P9Gqri5GvT4/Uw1syceVNj8VCwT6O/o3P+UKclnAhTo/NUouIsNrOD8ga5gTN4M8Pw==",
           "dtype": "f8"
          },
          "color": "#a4fc3b",
          "thickness": 1.5,
          "type": "data",
          "width": 3
         },
         "marker": {
          "color": "#a4fc3b"
         },
         "mode": "markers",
         "name": "θ=110°",
         "type": "scatter",
         "x": {
          "bdata": "Sa+8mvLXGj8xRRTu8DIeP43ttaD3xiA/grhhynZ0Ij92gw309SEkP2pOuR11zyU/XxllR/R8Jz9U5BBxcyopP0mvvJry1yo/MUUU7vAyLj+N7bWg98YwP4K4Ycp2dDI/doMN9PUhND9qTrkddc81P18ZZUf0fDc/VOQQcXMqOT9Jr7ya8tc6PzFFFO7wMj4/je21oPfGQD+CuGHKdnRCP3aDDfT1IUQ/ak65HXXPRT9fGWVH9HxHP1TkEHFzKkk/Sa+8mvLXSj8xRRTu8DJOP43ttaD3xlA/grhhynZ0Uj92gw309SFUP2pOuR11z1U/XxllR/R8Vz9U5BBxcypZP0mvvJry11o/MUUU7vAyXj+N7bWg98ZgP4K4Ycp2dGI/doMN9PUhZD9qTrkddc9lP18ZZUf0fGc/VOQQcXMqaT9Jr7ya8tdqPzFFFO7wMm4/je21oPfGcD+CuGHKdnRyP3aDDfT1IXQ/ak65HXXPdT9fGWVH9Hx3P1TkEHFzKnk/Sa+8mvLXej8xRRTu8DJ+P43ttaD3xoA/grhhynZ0gj92gw309SGEPw==",
          "dtype": "f8"
         },
         "y": {
          "bdata": "dqc7Tzxnqz+qUml6PySqP1IFSNnHr6g/Cu6sgr0uqD8SzfIrjOOmP2lhBa7h2KU/DhnqC3ygpD//+AH+38ejP6nMg6qHHqM/B5W4jnHFoT/0Wyoluh2gP98IQf0dQJ0/UHLiBtc3mz8G8LuO3aqYP1yIH617dZc/Ew1S8BRylT+ip7f1ifKTP8xivazkvpA/Y66x8Jr8iz/xFM1eEVeJP60Fi/1E6YM/TJF0tEf7gT+P0EMr/3N7P5v1lGJo8Xk/gUsZm8pgdD8U1gCEk11uPw9o4Zlt+mU/2Dgw8/ztWz97LSraA0pWP0M2VoOsflc/D0FZIXqMUT8T0D8fN4xKPymmR12vDEE/jPfHoZxtMD+EJQWzldkYP42uVhYawjA/mmOS9N1rED/FxSvy5s4ev1mPdvkh8QU/tN157KvOIT8W3CheIOIBP9oMncI92xK/SuKQfIoEGD9oX/MNsAYUP12e4PhgbRq/huBijOIxEL+WM9kUz6Yhv0pDFjTwTSq/mqPTYgyGHL/XClsyFYIPv0OfJCkdLxM/BLQFsaBq/D6sfhbbhd7yvg==",
          "dtype": "f8"
         }
        },
        {
         "hoverinfo": "skip",
         "line": {
          "color": "#d1e834"
         },
         "mode": "lines",
         "showlegend": false,
         "type": "scatter",
         "x": {
          "bdata": "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",
          "dtype": "f8"
         },
         "y": {
          "bdata": "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",
          "dtype": "f8"
         }
        },
        {
         "error_y": {
          "array": {
           "bdata": "iyVe3+wWXT+x/dLNNepdP5qCK6BZQ2A/Rt2MbEcCSz8jSKPh09pVP6upEPhqqlQ/hJUl+4kMWz+PUV7HI3RVP+fnRNum31M/7mWEdcn1Uz9KQk4e+o9YPzaDGrzzP14/Z/P9wKfEUT8a0B70L9laP1koArLuOlY/HPK+JJF5OT/CaGm2sZ8/P3Oa3GQS5EU/+oqv6LMKTT8P2dTAt39QP9+00r8CM0Y/O7kLTbDeRj9hKyPPnl1JPwSICcyPsVI/2fLYmOuWOD8o70jnxm9MPy5hzH+RLkU/CgzQZ2bKRz9BA9jjxZA+PySDEFbZGUQ/WUrRZxVASD+2XAgPk8FJP0azEsomyEY/U0jwDnTVRz9VRKj+xNVDPwQs4+fYlEQ/gn+fgBTeRT/84X5Z7rM5P4JY1rzNk0E/olrHMVdYMD/TZU0k2bI4P6x1lhkiXTg/ha88vjmOOD83eEN8VjU8P2TngITQHkI/e4816yT6QT83QVfmMAM+Px0kcGHsyzk/KcEIXHHEPz8gSxZpYcQ6P1ORiOs7CTg/5+vIdP9RMj9dwK8zMuc8Pw==",
           "dtype": "f8"
          },
          "color": "#d1e834",
          "thickness": 1.5,
          "type": "data",
          "width": 3
         },
         "marker": {
          "color": "#d1e834"
         },
         "mode": "markers",
         "name": "θ=120°",
         "type": "scatter",
         "x": {
          "bdata": "Sa+8mvLXGj8xRRTu8DIeP43ttaD3xiA/grhhynZ0Ij92gw309SEkP2pOuR11zyU/XxllR/R8Jz9U5BBxcyopP0mvvJry1yo/MUUU7vAyLj+N7bWg98YwP4K4Ycp2dDI/doMN9PUhND9qTrkddc81P18ZZUf0fDc/VOQQcXMqOT9Jr7ya8tc6PzFFFO7wMj4/je21oPfGQD+CuGHKdnRCP3aDDfT1IUQ/ak65HXXPRT9fGWVH9HxHP1TkEHFzKkk/Sa+8mvLXSj8xRRTu8DJOP43ttaD3xlA/grhhynZ0Uj92gw309SFUP2pOuR11z1U/XxllR/R8Vz9U5BBxcypZP0mvvJry11o/MUUU7vAyXj+N7bWg98ZgP4K4Ycp2dGI/doMN9PUhZD9qTrkddc9lP18ZZUf0fGc/VOQQcXMqaT9Jr7ya8tdqPzFFFO7wMm4/je21oPfGcD+CuGHKdnRyP3aDDfT1IXQ/ak65HXXPdT9fGWVH9Hx3P1TkEHFzKnk/Sa+8mvLXej8xRRTu8DJ+P43ttaD3xoA/grhhynZ0gj92gw309SGEPw==",
          "dtype": "f8"
         },
         "y": {
          "bdata": "BKvq5XeaqD9fQZqxaDqnP8lHQaZr3KU/wPJ79rdfpT+3SDVHsTekPwBe+vJdpaI/K/pDM0+uoT8CfceVH12hP5tv6T06GqA/FOl+TkF+nj85OY3+4fibP8VdGET/X5g//cRcrW5Qlj8P23EeqRmVP5yoAHOIE5M/nFZlOs8zkT/FBJA1fjyPP2zVCcPb3ok/AE6UKYtnhT+0FeIuTr6BP21h7VoIk34/TuqRJ8WeeD+he5yK0N92P3MzeVYUp3E/McgCy7Z4bT/Pz/1qSLtlP38gcXYIb2E/0wH/Sp02WT9oFWg9nadRP2VhAayLZEo/3YPnEP5mTj/IqMinG7ZKP5ibJm5ARD0/v47QN29BAr86lsNjSf0oP6Ca14AkxiQ/LPkuXlmNOD+cSyAO2vctPzFt+BBmcBo/HID7pFRuFD8SMCwSIv8dvysbVYvh0dq+NPvCf0gsKr92Qgb3pawmv0gppiPgVvG+K69MaGj9Cr+R3UlnBywOv1Z576Hl/Ra/Q9Ewe2hG575ooTyqnCElP7iNzESNGRM/40Aectn+Az/k++zECIgpPw==",
          "dtype": "f8"
         }
        },
        {
         "hoverinfo": "skip",
         "line": {
          "color": "#f3c63a"
         },
         "mode": "lines",
         "showlegend": false,
         "type": "scatter",
         "x": {
          "bdata": "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",
          "dtype": "f8"
         },
         "y": {
          "bdata": "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",
          "dtype": "f8"
         }
        },
        {
         "error_y": {
          "array": {
           "bdata": "WZ80/ujeWT+MFtoHZjpaP2pAicJnzVQ/ZSFTLiWmUz+A/llw389WP3YiFoswOVY/YnKfENoqUT/NTLoOCDVHP+D7pbXoQ1A/8sbVaYXIVD9+DbL9ES1SP9hsxaxfxlI/RLV4So4LTT+VWGlAENtXPwGVfV3r0lA/CBVahN8iUD/ysh1v9ZxIP9qLDavGvlM/6J0jqMNCQj8G8q0usUhOP8ZNhaIWS0k/+1A6aX1HRD+17m2DIodGP78xcQA/dUQ/bWvphm5+Oz+AfhBqSkxGP33uL6EPQlA/W+732JmeTj8plCvP53BMP3ID5cWPLTg/4OZqdpK1QT8X0Gn2mpdDP2d5RSlPm0A/FI9gMwhdRz9eZ6H/10hEP6PEisxiZDU/HZPKdi0jSj8AfUr0dBZAP1MXFzE57Ug/tX6dTxDTQz/5hkDBIyY2PwJE2fGvBD0/BUlg0DPmPz9RvCJ/PYc1P4TsnrotnDM/Dlf45/QQOT9Rzb6OI98+P8EBfr9Pkjc/bFQSm96IOD+qHRDQANoxP5hD2nVcaTs/i6SQTe4cNj+Fy8U4IFNAPw==",
           "dtype": "f8"
          },
          "color": "#f3c63a",
          "thickness": 1.5,
          "type": "data",
          "width": 3
         },
         "marker": {
          "color": "#f3c63a"
         },
         "mode": "markers",
         "name": "θ=130°",
         "type": "scatter",
         "x": {
          "bdata": "Sa+8mvLXGj8xRRTu8DIeP43ttaD3xiA/grhhynZ0Ij92gw309SEkP2pOuR11zyU/XxllR/R8Jz9U5BBxcyopP0mvvJry1yo/MUUU7vAyLj+N7bWg98YwP4K4Ycp2dDI/doMN9PUhND9qTrkddc81P18ZZUf0fDc/VOQQcXMqOT9Jr7ya8tc6PzFFFO7wMj4/je21oPfGQD+CuGHKdnRCP3aDDfT1IUQ/ak65HXXPRT9fGWVH9HxHP1TkEHFzKkk/Sa+8mvLXSj8xRRTu8DJOP43ttaD3xlA/grhhynZ0Uj92gw309SFUP2pOuR11z1U/XxllR/R8Vz9U5BBxcypZP0mvvJry11o/MUUU7vAyXj+N7bWg98ZgP4K4Ycp2dGI/doMN9PUhZD9qTrkddc9lP18ZZUf0fGc/VOQQcXMqaT9Jr7ya8tdqPzFFFO7wMm4/je21oPfGcD+CuGHKdnRyP3aDDfT1IXQ/ak65HXXPdT9fGWVH9Hx3P1TkEHFzKnk/Sa+8mvLXej8xRRTu8DJ+P43ttaD3xoA/grhhynZ0gj92gw309SGEPw==",
          "dtype": "f8"
         },
         "y": {
          "bdata": "Zp4Bmq1hpz8w/Jbvz/ulP95rUhvmFaU/x8ZyAR4HpD+L9OwD2mejPx6RSgxd5KE/udeTCnQ3oT+ICKRp9XqgPyZRL/g0J58/llrvN9pxmz/kEdxI2SKZP+1NZ4I8FpY/qRPQRNjwlD9HfIIfMGqSP21thsA2h5A/hBLBk3HnjT928F2U6kyLP2jhV1EosIU/RzVwMGnGgT8Gt9aT0Mh9P3AeNcOZoXk/QLl1UOwVdD8PNV2RkC9uP3GbX4N0Z2w/dDH+ZCnlZz/bLwLX0xZgP9q5/pdKw1k/sW3uO8jjUD95Qbt4fNFHP8NJeTG9kj4/Jk53aYb+QD/DeLQOmp9DP8nKUJEaRTw/lO0gz14YQT9ZjuaB9aNEPzha6i3ZCSM/jlptthylFz/bl3ivdu4fP1bJYsMcAiw/DBDhbC6PKT8aj/p1LJkIP2FxXZUpfRi/6qWRLjCGFj/WYDMjMJQrP3kNQV9IeAO/+gSu/S2ZJL/s8UXyyjIKv61c3ID3IAA/4/trRPOq5b6r5tmvsusrP8BtjO43Eiy/k3NqNxal/z7nM1MrIjsFvw==",
          "dtype": "f8"
         }
        }
       ],
       "layout": {
        "font": {
         "color": "Black",
         "size": 18
        },
        "height": 600,
        "plot_bgcolor": "white",
        "template": {
         "data": {
          "bar": [
           {
            "error_x": {
             "color": "#2a3f5f"
            },
            "error_y": {
             "color": "#2a3f5f"
            },
            "marker": {
             "line": {
              "color": "#E5ECF6",
              "width": 0.5
             },
             "pattern": {
              "fillmode": "overlay",
              "size": 10,
              "solidity": 0.2
             }
            },
            "type": "bar"
           }
          ],
          "barpolar": [
           {
            "marker": {
             "line": {
              "color": "#E5ECF6",
              "width": 0.5
             },
             "pattern": {
              "fillmode": "overlay",
              "size": 10,
              "solidity": 0.2
             }
            },
            "type": "barpolar"
           }
          ],
          "carpet": [
           {
            "aaxis": {
             "endlinecolor": "#2a3f5f",
             "gridcolor": "white",
             "linecolor": "white",
             "minorgridcolor": "white",
             "startlinecolor": "#2a3f5f"
            },
            "baxis": {
             "endlinecolor": "#2a3f5f",
             "gridcolor": "white",
             "linecolor": "white",
             "minorgridcolor": "white",
             "startlinecolor": "#2a3f5f"
            },
            "type": "carpet"
           }
          ],
          "choropleth": [
           {
            "colorbar": {
             "outlinewidth": 0,
             "ticks": ""
            },
            "type": "choropleth"
           }
          ],
          "contour": [
           {
            "colorbar": {
             "outlinewidth": 0,
             "ticks": ""
            },
            "colorscale": [
             [
              0,
              "#0d0887"
             ],
             [
              0.1111111111111111,
              "#46039f"
             ],
             [
              0.2222222222222222,
              "#7201a8"
             ],
             [
              0.3333333333333333,
              "#9c179e"
             ],
             [
              0.4444444444444444,
              "#bd3786"
             ],
             [
              0.5555555555555556,
              "#d8576b"
             ],
             [
              0.6666666666666666,
              "#ed7953"
             ],
             [
              0.7777777777777778,
              "#fb9f3a"
             ],
             [
              0.8888888888888888,
              "#fdca26"
             ],
             [
              1,
              "#f0f921"
             ]
            ],
            "type": "contour"
           }
          ],
          "contourcarpet": [
           {
            "colorbar": {
             "outlinewidth": 0,
             "ticks": ""
            },
            "type": "contourcarpet"
           }
          ],
          "heatmap": [
           {
            "colorbar": {
             "outlinewidth": 0,
             "ticks": ""
            },
            "colorscale": [
             [
              0,
              "#0d0887"
             ],
             [
              0.1111111111111111,
              "#46039f"
             ],
             [
              0.2222222222222222,
              "#7201a8"
             ],
             [
              0.3333333333333333,
              "#9c179e"
             ],
             [
              0.4444444444444444,
              "#bd3786"
             ],
             [
              0.5555555555555556,
              "#d8576b"
             ],
             [
              0.6666666666666666,
              "#ed7953"
             ],
             [
              0.7777777777777778,
              "#fb9f3a"
             ],
             [
              0.8888888888888888,
              "#fdca26"
             ],
             [
              1,
              "#f0f921"
             ]
            ],
            "type": "heatmap"
           }
          ],
          "histogram": [
           {
            "marker": {
             "pattern": {
              "fillmode": "overlay",
              "size": 10,
              "solidity": 0.2
             }
            },
            "type": "histogram"
           }
          ],
          "histogram2d": [
           {
            "colorbar": {
             "outlinewidth": 0,
             "ticks": ""
            },
            "colorscale": [
             [
              0,
              "#0d0887"
             ],
             [
              0.1111111111111111,
              "#46039f"
             ],
             [
              0.2222222222222222,
              "#7201a8"
             ],
             [
              0.3333333333333333,
              "#9c179e"
             ],
             [
              0.4444444444444444,
              "#bd3786"
             ],
             [
              0.5555555555555556,
              "#d8576b"
             ],
             [
              0.6666666666666666,
              "#ed7953"
             ],
             [
              0.7777777777777778,
              "#fb9f3a"
             ],
             [
              0.8888888888888888,
              "#fdca26"
             ],
             [
              1,
              "#f0f921"
             ]
            ],
            "type": "histogram2d"
           }
          ],
          "histogram2dcontour": [
           {
            "colorbar": {
             "outlinewidth": 0,
             "ticks": ""
            },
            "colorscale": [
             [
              0,
              "#0d0887"
             ],
             [
              0.1111111111111111,
              "#46039f"
             ],
             [
              0.2222222222222222,
              "#7201a8"
             ],
             [
              0.3333333333333333,
              "#9c179e"
             ],
             [
              0.4444444444444444,
              "#bd3786"
             ],
             [
              0.5555555555555556,
              "#d8576b"
             ],
             [
              0.6666666666666666,
              "#ed7953"
             ],
             [
              0.7777777777777778,
              "#fb9f3a"
             ],
             [
              0.8888888888888888,
              "#fdca26"
             ],
             [
              1,
              "#f0f921"
             ]
            ],
            "type": "histogram2dcontour"
           }
          ],
          "mesh3d": [
           {
            "colorbar": {
             "outlinewidth": 0,
             "ticks": ""
            },
            "type": "mesh3d"
           }
          ],
          "parcoords": [
           {
            "line": {
             "colorbar": {
              "outlinewidth": 0,
              "ticks": ""
             }
            },
            "type": "parcoords"
           }
          ],
          "pie": [
           {
            "automargin": true,
            "type": "pie"
           }
          ],
          "scatter": [
           {
            "fillpattern": {
             "fillmode": "overlay",
             "size": 10,
             "solidity": 0.2
            },
            "type": "scatter"
           }
          ],
          "scatter3d": [
           {
            "line": {
             "colorbar": {
              "outlinewidth": 0,
              "ticks": ""
             }
            },
            "marker": {
             "colorbar": {
              "outlinewidth": 0,
              "ticks": ""
             }
            },
            "type": "scatter3d"
           }
          ],
          "scattercarpet": [
           {
            "marker": {
             "colorbar": {
              "outlinewidth": 0,
              "ticks": ""
             }
            },
            "type": "scattercarpet"
           }
          ],
          "scattergeo": [
           {
            "marker": {
             "colorbar": {
              "outlinewidth": 0,
              "ticks": ""
             }
            },
            "type": "scattergeo"
           }
          ],
          "scattergl": [
           {
            "marker": {
             "colorbar": {
              "outlinewidth": 0,
              "ticks": ""
             }
            },
            "type": "scattergl"
           }
          ],
          "scattermap": [
           {
            "marker": {
             "colorbar": {
              "outlinewidth": 0,
              "ticks": ""
             }
            },
            "type": "scattermap"
           }
          ],
          "scattermapbox": [
           {
            "marker": {
             "colorbar": {
              "outlinewidth": 0,
              "ticks": ""
             }
            },
            "type": "scattermapbox"
           }
          ],
          "scatterpolar": [
           {
            "marker": {
             "colorbar": {
              "outlinewidth": 0,
              "ticks": ""
             }
            },
            "type": "scatterpolar"
           }
          ],
          "scatterpolargl": [
           {
            "marker": {
             "colorbar": {
              "outlinewidth": 0,
              "ticks": ""
             }
            },
            "type": "scatterpolargl"
           }
          ],
          "scatterternary": [
           {
            "marker": {
             "colorbar": {
              "outlinewidth": 0,
              "ticks": ""
             }
            },
            "type": "scatterternary"
           }
          ],
          "surface": [
           {
            "colorbar": {
             "outlinewidth": 0,
             "ticks": ""
            },
            "colorscale": [
             [
              0,
              "#0d0887"
             ],
             [
              0.1111111111111111,
              "#46039f"
             ],
             [
              0.2222222222222222,
              "#7201a8"
             ],
             [
              0.3333333333333333,
              "#9c179e"
             ],
             [
              0.4444444444444444,
              "#bd3786"
             ],
             [
              0.5555555555555556,
              "#d8576b"
             ],
             [
              0.6666666666666666,
              "#ed7953"
             ],
             [
              0.7777777777777778,
              "#fb9f3a"
             ],
             [
              0.8888888888888888,
              "#fdca26"
             ],
             [
              1,
              "#f0f921"
             ]
            ],
            "type": "surface"
           }
          ],
          "table": [
           {
            "cells": {
             "fill": {
              "color": "#EBF0F8"
             },
             "line": {
              "color": "white"
             }
            },
            "header": {
             "fill": {
              "color": "#C8D4E3"
             },
             "line": {
              "color": "white"
             }
            },
            "type": "table"
           }
          ]
         },
         "layout": {
          "annotationdefaults": {
           "arrowcolor": "#2a3f5f",
           "arrowhead": 0,
           "arrowwidth": 1
          },
          "autotypenumbers": "strict",
          "coloraxis": {
           "colorbar": {
            "outlinewidth": 0,
            "ticks": ""
           }
          },
          "colorscale": {
           "diverging": [
            [
             0,
             "#8e0152"
            ],
            [
             0.1,
             "#c51b7d"
            ],
            [
             0.2,
             "#de77ae"
            ],
            [
             0.3,
             "#f1b6da"
            ],
            [
             0.4,
             "#fde0ef"
            ],
            [
             0.5,
             "#f7f7f7"
            ],
            [
             0.6,
             "#e6f5d0"
            ],
            [
             0.7,
             "#b8e186"
            ],
            [
             0.8,
             "#7fbc41"
            ],
            [
             0.9,
             "#4d9221"
            ],
            [
             1,
             "#276419"
            ]
           ],
           "sequential": [
            [
             0,
             "#0d0887"
            ],
            [
             0.1111111111111111,
             "#46039f"
            ],
            [
             0.2222222222222222,
             "#7201a8"
            ],
            [
             0.3333333333333333,
             "#9c179e"
            ],
            [
             0.4444444444444444,
             "#bd3786"
            ],
            [
             0.5555555555555556,
             "#d8576b"
            ],
            [
             0.6666666666666666,
             "#ed7953"
            ],
            [
             0.7777777777777778,
             "#fb9f3a"
            ],
            [
             0.8888888888888888,
             "#fdca26"
            ],
            [
             1,
             "#f0f921"
            ]
           ],
           "sequentialminus": [
            [
             0,
             "#0d0887"
            ],
            [
             0.1111111111111111,
             "#46039f"
            ],
            [
             0.2222222222222222,
             "#7201a8"
            ],
            [
             0.3333333333333333,
             "#9c179e"
            ],
            [
             0.4444444444444444,
             "#bd3786"
            ],
            [
             0.5555555555555556,
             "#d8576b"
            ],
            [
             0.6666666666666666,
             "#ed7953"
            ],
            [
             0.7777777777777778,
             "#fb9f3a"
            ],
            [
             0.8888888888888888,
             "#fdca26"
            ],
            [
             1,
             "#f0f921"
            ]
           ]
          },
          "colorway": [
           "#636efa",
           "#EF553B",
           "#00cc96",
           "#ab63fa",
           "#FFA15A",
           "#19d3f3",
           "#FF6692",
           "#B6E880",
           "#FF97FF",
           "#FECB52"
          ],
          "font": {
           "color": "#2a3f5f"
          },
          "geo": {
           "bgcolor": "white",
           "lakecolor": "white",
           "landcolor": "#E5ECF6",
           "showlakes": true,
           "showland": true,
           "subunitcolor": "white"
          },
          "hoverlabel": {
           "align": "left"
          },
          "hovermode": "closest",
          "mapbox": {
           "style": "light"
          },
          "paper_bgcolor": "white",
          "plot_bgcolor": "#E5ECF6",
          "polar": {
           "angularaxis": {
            "gridcolor": "white",
            "linecolor": "white",
            "ticks": ""
           },
           "bgcolor": "#E5ECF6",
           "radialaxis": {
            "gridcolor": "white",
            "linecolor": "white",
            "ticks": ""
           }
          },
          "scene": {
           "xaxis": {
            "backgroundcolor": "#E5ECF6",
            "gridcolor": "white",
            "gridwidth": 2,
            "linecolor": "white",
            "showbackground": true,
            "ticks": "",
            "zerolinecolor": "white"
           },
           "yaxis": {
            "backgroundcolor": "#E5ECF6",
            "gridcolor": "white",
            "gridwidth": 2,
            "linecolor": "white",
            "showbackground": true,
            "ticks": "",
            "zerolinecolor": "white"
           },
           "zaxis": {
            "backgroundcolor": "#E5ECF6",
            "gridcolor": "white",
            "gridwidth": 2,
            "linecolor": "white",
            "showbackground": true,
            "ticks": "",
            "zerolinecolor": "white"
           }
          },
          "shapedefaults": {
           "line": {
            "color": "#2a3f5f"
           }
          },
          "ternary": {
           "aaxis": {
            "gridcolor": "white",
            "linecolor": "white",
            "ticks": ""
           },
           "baxis": {
            "gridcolor": "white",
            "linecolor": "white",
            "ticks": ""
           },
           "bgcolor": "#E5ECF6",
           "caxis": {
            "gridcolor": "white",
            "linecolor": "white",
            "ticks": ""
           }
          },
          "title": {
           "x": 0.05
          },
          "xaxis": {
           "automargin": true,
           "gridcolor": "white",
           "linecolor": "white",
           "ticks": "",
           "title": {
            "standoff": 15
           },
           "zerolinecolor": "white",
           "zerolinewidth": 2
          },
          "yaxis": {
           "automargin": true,
           "gridcolor": "white",
           "linecolor": "white",
           "ticks": "",
           "title": {
            "standoff": 15
           },
           "zerolinecolor": "white",
           "zerolinewidth": 2
          }
         }
        },
        "width": 800,
        "xaxis": {
         "gridcolor": "lightgrey",
         "linecolor": "black",
         "mirror": true,
         "range": [
          -4,
          -2
         ],
         "showline": true,
         "ticks": "outside",
         "title": {
          "text": "t (s)"
         },
         "type": "log"
        },
        "yaxis": {
         "gridcolor": "lightgrey",
         "linecolor": "black",
         "mirror": true,
         "showline": true,
         "ticks": "outside",
         "title": {
          "text": "g<sup>2</sup>(τ)"
         }
        }
       }
      }
     },
     "metadata": {},
     "output_type": "display_data"
    }
   ],
   "source": [
    "colors = px.colors.sequential.Turbo\n",
    "\n",
    "fig = go.Figure()\n",
    "for i,θ in enumerate(data.keys()):\n",
    "    x = data[θ]['t']\n",
    "    y = data[θ]['g']\n",
    "    γ = data[θ]['gamma']\n",
    "    sigmay = data[θ]['sigmag']\n",
    "    X,Y = data[θ]['fit'].draw()\n",
    "\n",
    "    # plt.plot(X,Y)\n",
    "    # plt.xlim(0,1)\n",
    "    # plt.show()\n",
    "\n",
    "    fig.add_trace(go.Scatter(x=X, y=Y, mode='lines',line_color=colors[i], showlegend=False,hoverinfo='skip'))\n",
    "\n",
    "    fig.add_trace(go.Scatter(x=x,y=y, mode='markers', name=f'θ={θ}°',\n",
    "        marker=dict(color = colors[i]),\n",
    "        error_y=dict( \n",
    "\t\t\ttype='data', \n",
    "\t\t\tarray=sigmay, \n",
    "\t\t\tcolor=colors[i],\n",
    "\t\t\tthickness=1.5, \n",
    "\t\t\twidth=3, \n",
    "\t\t)))\n",
    "\n",
    "fig.update_layout(\n",
    "        xaxis_type=\"log\",\n",
    "        yaxis_title=\"g<sup>2</sup>(τ)\",\n",
    "        xaxis_title=\"t (s)\",\n",
    "        # title='g<sup>2</sup>(τ) vs t',\n",
    "        xaxis=dict(range=[np.log10(0.0001), np.log10(0.010)]),\n",
    "        width=800,\n",
    "        height=600,\n",
    "        # title={\n",
    "        #     'text': \"Correlation Function g<sup>2</sup>(τ)\",\n",
    "        #     'y':0.9,\n",
    "        #     'x':0.5,\n",
    "        #     'xanchor': 'center',\n",
    "        #     'yanchor': 'top',\n",
    "        #     'font':dict(size=30)\n",
    "        # },\n",
    "        plot_bgcolor='white',\n",
    "        font=dict(\n",
    "            #family=\"Courier New, monospace\",\n",
    "            size=18,\n",
    "            color=\"Black\"\n",
    "        ),\n",
    "            # yaxis=dict(range=[0, 0.06])\n",
    "    )\n",
    "\n",
    "fig.update_xaxes(\n",
    "    mirror=True,\n",
    "    ticks='outside',\n",
    "    showline=True,\n",
    "    linecolor='black',\n",
    "    gridcolor='lightgrey'\n",
    ")\n",
    "fig.update_yaxes(\n",
    "    mirror=True,\n",
    "    ticks='outside',\n",
    "    showline=True,\n",
    "    linecolor='black',\n",
    "    gridcolor='lightgrey'\n",
    ")\n",
    "\n",
    "fig.show()"
   ]
  },
  {
   "cell_type": "markdown",
   "metadata": {},
   "source": [
    "$Q = \\frac{4\\pi n}{\\lambda}\\sin\\frac{\\theta}{2}$\n",
    "\n",
    "$\\gamma = 2DQ^2 \\Rightarrow D = \\frac{\\gamma\\lambda^2}{32\\pi^2n^2\\sin^2\\frac{\\theta}{2}}$\n",
    "\n",
    "$D = \\frac{K_B T}{6\\pi\\eta\\R}$\n",
    "\n",
    "$R = \\frac{16\\pi n^2 K_B T}{3\\eta\\lambda^2\\gamma}\\sin^2\\frac{\\theta}{2}$\n",
    "\n",
    "n = 1.33\n",
    "\n",
    "$\\eta$ = 0.01poise\n",
    "\n",
    "$\\lambda$ = 633nm\n",
    "\n",
    "$K_B$ = 1.3806 $\\cdot 10^{-2} g(nm)^2s^{-2}K^{-1}$\n",
    "\n",
    "T = 293K"
   ]
  },
  {
   "cell_type": "code",
   "execution_count": 15,
   "metadata": {},
   "outputs": [
    {
     "name": "stdout",
     "output_type": "stream",
     "text": [
      "----------------- VALORI FIT: -----------------\n",
      "D: (3.426 ± 0.014)e6 \n",
      "\n",
      "dof: 9\n",
      "chi2: 38.26\n",
      "chi2 ridotto: 4.25\n",
      "pvalue: 0.0\n",
      "------------------------------------------------\n",
      "\n",
      "D = coefficiente diffusione =  (3.43 ± 0.01)e6 m^2/s\n"
     ]
    }
   ],
   "source": [
    "# fit gamma teta\n",
    "\n",
    "def gamma_2DQ2(θ,D):\n",
    "    theta = np.deg2rad(θ)\n",
    "    return 2*(n**2)*D*16*(np.pi**2)*np.sin(theta/2)**2/(λ**2)\n",
    "\n",
    "gammatetafit = Interpolazione(TETA, GAMMA, sigmaGAMMA, gamma_2DQ2, [3000000],['D'])\n",
    "print(gammatetafit)\n",
    "\n",
    "D,σD = gammatetafit.values['D'],gammatetafit.errors['D']\n",
    "\n",
    "#D = n2D/(n**2)\n",
    "#σD = D*np.sqrt((σn2D/n2D)**2 + (sigman/n)**2)\n",
    "\n",
    "# print('n2D = coefficiente diffusione * n^2 = ',final_val(n2D,σn2D,2,exp=6,udm='nm^2/s'))\n",
    "print('D = coefficiente diffusione = ',final_val(D,σD,2,exp=6,udm='m^2/s'))"
   ]
  },
  {
   "cell_type": "code",
   "execution_count": 22,
   "metadata": {},
   "outputs": [
    {
     "data": {
      "application/vnd.plotly.v1+json": {
       "config": {
        "plotlyServerURL": "https://plot.ly"
       },
       "data": [
        {
         "hoverinfo": "skip",
         "line": {
          "color": "#39a2fc"
         },
         "mode": "lines",
         "showlegend": false,
         "type": "scatter",
         "x": {
          "bdata": "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",
          "dtype": "f8"
         },
         "y": {
          "bdata": "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",
          "dtype": "f8"
         }
        },
        {
         "error_y": {
          "array": {
           "bdata": "r+IHHUL4IkD53ZB2ohocQKegy/ajPSZAyyvY6ExBMkBlddsXGag5QJSFDO3DxkJARgmu2gc/R0C7cdeZQ9xMQEwOyLDntFBAl82ekwwGVUA=",
           "dtype": "f8"
          },
          "color": "#4145ab",
          "thickness": 1.5,
          "type": "data",
          "width": 3
         },
         "marker": {
          "color": "#4145ab"
         },
         "mode": "markers",
         "showlegend": false,
         "type": "scatter",
         "x": {
          "bdata": "KAAyADwARgBQAFoAZABuAHgAggA=",
          "dtype": "i2"
         },
         "y": {
          "bdata": "rt9bO3N4gECWmJde/eyJQKeCOYZhtJJAvt2s8HFVmUD4LLaJl2OfQA78Y6/4IKNAQ6VGl9/QpUCqUK/+x5SpQLkRYbqpmaxAA1pXMn5Sr0A=",
          "dtype": "f8"
         }
        }
       ],
       "layout": {
        "font": {
         "color": "Black",
         "size": 10
        },
        "height": 400,
        "plot_bgcolor": "white",
        "template": {
         "data": {
          "bar": [
           {
            "error_x": {
             "color": "#2a3f5f"
            },
            "error_y": {
             "color": "#2a3f5f"
            },
            "marker": {
             "line": {
              "color": "#E5ECF6",
              "width": 0.5
             },
             "pattern": {
              "fillmode": "overlay",
              "size": 10,
              "solidity": 0.2
             }
            },
            "type": "bar"
           }
          ],
          "barpolar": [
           {
            "marker": {
             "line": {
              "color": "#E5ECF6",
              "width": 0.5
             },
             "pattern": {
              "fillmode": "overlay",
              "size": 10,
              "solidity": 0.2
             }
            },
            "type": "barpolar"
           }
          ],
          "carpet": [
           {
            "aaxis": {
             "endlinecolor": "#2a3f5f",
             "gridcolor": "white",
             "linecolor": "white",
             "minorgridcolor": "white",
             "startlinecolor": "#2a3f5f"
            },
            "baxis": {
             "endlinecolor": "#2a3f5f",
             "gridcolor": "white",
             "linecolor": "white",
             "minorgridcolor": "white",
             "startlinecolor": "#2a3f5f"
            },
            "type": "carpet"
           }
          ],
          "choropleth": [
           {
            "colorbar": {
             "outlinewidth": 0,
             "ticks": ""
            },
            "type": "choropleth"
           }
          ],
          "contour": [
           {
            "colorbar": {
             "outlinewidth": 0,
             "ticks": ""
            },
            "colorscale": [
             [
              0,
              "#0d0887"
             ],
             [
              0.1111111111111111,
              "#46039f"
             ],
             [
              0.2222222222222222,
              "#7201a8"
             ],
             [
              0.3333333333333333,
              "#9c179e"
             ],
             [
              0.4444444444444444,
              "#bd3786"
             ],
             [
              0.5555555555555556,
              "#d8576b"
             ],
             [
              0.6666666666666666,
              "#ed7953"
             ],
             [
              0.7777777777777778,
              "#fb9f3a"
             ],
             [
              0.8888888888888888,
              "#fdca26"
             ],
             [
              1,
              "#f0f921"
             ]
            ],
            "type": "contour"
           }
          ],
          "contourcarpet": [
           {
            "colorbar": {
             "outlinewidth": 0,
             "ticks": ""
            },
            "type": "contourcarpet"
           }
          ],
          "heatmap": [
           {
            "colorbar": {
             "outlinewidth": 0,
             "ticks": ""
            },
            "colorscale": [
             [
              0,
              "#0d0887"
             ],
             [
              0.1111111111111111,
              "#46039f"
             ],
             [
              0.2222222222222222,
              "#7201a8"
             ],
             [
              0.3333333333333333,
              "#9c179e"
             ],
             [
              0.4444444444444444,
              "#bd3786"
             ],
             [
              0.5555555555555556,
              "#d8576b"
             ],
             [
              0.6666666666666666,
              "#ed7953"
             ],
             [
              0.7777777777777778,
              "#fb9f3a"
             ],
             [
              0.8888888888888888,
              "#fdca26"
             ],
             [
              1,
              "#f0f921"
             ]
            ],
            "type": "heatmap"
           }
          ],
          "histogram": [
           {
            "marker": {
             "pattern": {
              "fillmode": "overlay",
              "size": 10,
              "solidity": 0.2
             }
            },
            "type": "histogram"
           }
          ],
          "histogram2d": [
           {
            "colorbar": {
             "outlinewidth": 0,
             "ticks": ""
            },
            "colorscale": [
             [
              0,
              "#0d0887"
             ],
             [
              0.1111111111111111,
              "#46039f"
             ],
             [
              0.2222222222222222,
              "#7201a8"
             ],
             [
              0.3333333333333333,
              "#9c179e"
             ],
             [
              0.4444444444444444,
              "#bd3786"
             ],
             [
              0.5555555555555556,
              "#d8576b"
             ],
             [
              0.6666666666666666,
              "#ed7953"
             ],
             [
              0.7777777777777778,
              "#fb9f3a"
             ],
             [
              0.8888888888888888,
              "#fdca26"
             ],
             [
              1,
              "#f0f921"
             ]
            ],
            "type": "histogram2d"
           }
          ],
          "histogram2dcontour": [
           {
            "colorbar": {
             "outlinewidth": 0,
             "ticks": ""
            },
            "colorscale": [
             [
              0,
              "#0d0887"
             ],
             [
              0.1111111111111111,
              "#46039f"
             ],
             [
              0.2222222222222222,
              "#7201a8"
             ],
             [
              0.3333333333333333,
              "#9c179e"
             ],
             [
              0.4444444444444444,
              "#bd3786"
             ],
             [
              0.5555555555555556,
              "#d8576b"
             ],
             [
              0.6666666666666666,
              "#ed7953"
             ],
             [
              0.7777777777777778,
              "#fb9f3a"
             ],
             [
              0.8888888888888888,
              "#fdca26"
             ],
             [
              1,
              "#f0f921"
             ]
            ],
            "type": "histogram2dcontour"
           }
          ],
          "mesh3d": [
           {
            "colorbar": {
             "outlinewidth": 0,
             "ticks": ""
            },
            "type": "mesh3d"
           }
          ],
          "parcoords": [
           {
            "line": {
             "colorbar": {
              "outlinewidth": 0,
              "ticks": ""
             }
            },
            "type": "parcoords"
           }
          ],
          "pie": [
           {
            "automargin": true,
            "type": "pie"
           }
          ],
          "scatter": [
           {
            "fillpattern": {
             "fillmode": "overlay",
             "size": 10,
             "solidity": 0.2
            },
            "type": "scatter"
           }
          ],
          "scatter3d": [
           {
            "line": {
             "colorbar": {
              "outlinewidth": 0,
              "ticks": ""
             }
            },
            "marker": {
             "colorbar": {
              "outlinewidth": 0,
              "ticks": ""
             }
            },
            "type": "scatter3d"
           }
          ],
          "scattercarpet": [
           {
            "marker": {
             "colorbar": {
              "outlinewidth": 0,
              "ticks": ""
             }
            },
            "type": "scattercarpet"
           }
          ],
          "scattergeo": [
           {
            "marker": {
             "colorbar": {
              "outlinewidth": 0,
              "ticks": ""
             }
            },
            "type": "scattergeo"
           }
          ],
          "scattergl": [
           {
            "marker": {
             "colorbar": {
              "outlinewidth": 0,
              "ticks": ""
             }
            },
            "type": "scattergl"
           }
          ],
          "scattermap": [
           {
            "marker": {
             "colorbar": {
              "outlinewidth": 0,
              "ticks": ""
             }
            },
            "type": "scattermap"
           }
          ],
          "scattermapbox": [
           {
            "marker": {
             "colorbar": {
              "outlinewidth": 0,
              "ticks": ""
             }
            },
            "type": "scattermapbox"
           }
          ],
          "scatterpolar": [
           {
            "marker": {
             "colorbar": {
              "outlinewidth": 0,
              "ticks": ""
             }
            },
            "type": "scatterpolar"
           }
          ],
          "scatterpolargl": [
           {
            "marker": {
             "colorbar": {
              "outlinewidth": 0,
              "ticks": ""
             }
            },
            "type": "scatterpolargl"
           }
          ],
          "scatterternary": [
           {
            "marker": {
             "colorbar": {
              "outlinewidth": 0,
              "ticks": ""
             }
            },
            "type": "scatterternary"
           }
          ],
          "surface": [
           {
            "colorbar": {
             "outlinewidth": 0,
             "ticks": ""
            },
            "colorscale": [
             [
              0,
              "#0d0887"
             ],
             [
              0.1111111111111111,
              "#46039f"
             ],
             [
              0.2222222222222222,
              "#7201a8"
             ],
             [
              0.3333333333333333,
              "#9c179e"
             ],
             [
              0.4444444444444444,
              "#bd3786"
             ],
             [
              0.5555555555555556,
              "#d8576b"
             ],
             [
              0.6666666666666666,
              "#ed7953"
             ],
             [
              0.7777777777777778,
              "#fb9f3a"
             ],
             [
              0.8888888888888888,
              "#fdca26"
             ],
             [
              1,
              "#f0f921"
             ]
            ],
            "type": "surface"
           }
          ],
          "table": [
           {
            "cells": {
             "fill": {
              "color": "#EBF0F8"
             },
             "line": {
              "color": "white"
             }
            },
            "header": {
             "fill": {
              "color": "#C8D4E3"
             },
             "line": {
              "color": "white"
             }
            },
            "type": "table"
           }
          ]
         },
         "layout": {
          "annotationdefaults": {
           "arrowcolor": "#2a3f5f",
           "arrowhead": 0,
           "arrowwidth": 1
          },
          "autotypenumbers": "strict",
          "coloraxis": {
           "colorbar": {
            "outlinewidth": 0,
            "ticks": ""
           }
          },
          "colorscale": {
           "diverging": [
            [
             0,
             "#8e0152"
            ],
            [
             0.1,
             "#c51b7d"
            ],
            [
             0.2,
             "#de77ae"
            ],
            [
             0.3,
             "#f1b6da"
            ],
            [
             0.4,
             "#fde0ef"
            ],
            [
             0.5,
             "#f7f7f7"
            ],
            [
             0.6,
             "#e6f5d0"
            ],
            [
             0.7,
             "#b8e186"
            ],
            [
             0.8,
             "#7fbc41"
            ],
            [
             0.9,
             "#4d9221"
            ],
            [
             1,
             "#276419"
            ]
           ],
           "sequential": [
            [
             0,
             "#0d0887"
            ],
            [
             0.1111111111111111,
             "#46039f"
            ],
            [
             0.2222222222222222,
             "#7201a8"
            ],
            [
             0.3333333333333333,
             "#9c179e"
            ],
            [
             0.4444444444444444,
             "#bd3786"
            ],
            [
             0.5555555555555556,
             "#d8576b"
            ],
            [
             0.6666666666666666,
             "#ed7953"
            ],
            [
             0.7777777777777778,
             "#fb9f3a"
            ],
            [
             0.8888888888888888,
             "#fdca26"
            ],
            [
             1,
             "#f0f921"
            ]
           ],
           "sequentialminus": [
            [
             0,
             "#0d0887"
            ],
            [
             0.1111111111111111,
             "#46039f"
            ],
            [
             0.2222222222222222,
             "#7201a8"
            ],
            [
             0.3333333333333333,
             "#9c179e"
            ],
            [
             0.4444444444444444,
             "#bd3786"
            ],
            [
             0.5555555555555556,
             "#d8576b"
            ],
            [
             0.6666666666666666,
             "#ed7953"
            ],
            [
             0.7777777777777778,
             "#fb9f3a"
            ],
            [
             0.8888888888888888,
             "#fdca26"
            ],
            [
             1,
             "#f0f921"
            ]
           ]
          },
          "colorway": [
           "#636efa",
           "#EF553B",
           "#00cc96",
           "#ab63fa",
           "#FFA15A",
           "#19d3f3",
           "#FF6692",
           "#B6E880",
           "#FF97FF",
           "#FECB52"
          ],
          "font": {
           "color": "#2a3f5f"
          },
          "geo": {
           "bgcolor": "white",
           "lakecolor": "white",
           "landcolor": "#E5ECF6",
           "showlakes": true,
           "showland": true,
           "subunitcolor": "white"
          },
          "hoverlabel": {
           "align": "left"
          },
          "hovermode": "closest",
          "mapbox": {
           "style": "light"
          },
          "paper_bgcolor": "white",
          "plot_bgcolor": "#E5ECF6",
          "polar": {
           "angularaxis": {
            "gridcolor": "white",
            "linecolor": "white",
            "ticks": ""
           },
           "bgcolor": "#E5ECF6",
           "radialaxis": {
            "gridcolor": "white",
            "linecolor": "white",
            "ticks": ""
           }
          },
          "scene": {
           "xaxis": {
            "backgroundcolor": "#E5ECF6",
            "gridcolor": "white",
            "gridwidth": 2,
            "linecolor": "white",
            "showbackground": true,
            "ticks": "",
            "zerolinecolor": "white"
           },
           "yaxis": {
            "backgroundcolor": "#E5ECF6",
            "gridcolor": "white",
            "gridwidth": 2,
            "linecolor": "white",
            "showbackground": true,
            "ticks": "",
            "zerolinecolor": "white"
           },
           "zaxis": {
            "backgroundcolor": "#E5ECF6",
            "gridcolor": "white",
            "gridwidth": 2,
            "linecolor": "white",
            "showbackground": true,
            "ticks": "",
            "zerolinecolor": "white"
           }
          },
          "shapedefaults": {
           "line": {
            "color": "#2a3f5f"
           }
          },
          "ternary": {
           "aaxis": {
            "gridcolor": "white",
            "linecolor": "white",
            "ticks": ""
           },
           "baxis": {
            "gridcolor": "white",
            "linecolor": "white",
            "ticks": ""
           },
           "bgcolor": "#E5ECF6",
           "caxis": {
            "gridcolor": "white",
            "linecolor": "white",
            "ticks": ""
           }
          },
          "title": {
           "x": 0.05
          },
          "xaxis": {
           "automargin": true,
           "gridcolor": "white",
           "linecolor": "white",
           "ticks": "",
           "title": {
            "standoff": 15
           },
           "zerolinecolor": "white",
           "zerolinewidth": 2
          },
          "yaxis": {
           "automargin": true,
           "gridcolor": "white",
           "linecolor": "white",
           "ticks": "",
           "title": {
            "standoff": 15
           },
           "zerolinecolor": "white",
           "zerolinewidth": 2
          }
         }
        },
        "width": 600,
        "xaxis": {
         "gridcolor": "lightgrey",
         "linecolor": "black",
         "mirror": true,
         "showline": true,
         "ticks": "outside",
         "title": {
          "text": "θ (°)"
         }
        },
        "yaxis": {
         "gridcolor": "lightgrey",
         "linecolor": "black",
         "mirror": true,
         "showline": true,
         "ticks": "outside",
         "title": {
          "text": "γ (Hz)"
         }
        }
       }
      }
     },
     "metadata": {},
     "output_type": "display_data"
    }
   ],
   "source": [
    "# plot fit gamma teta\n",
    "\n",
    "fig = go.Figure()\n",
    "\n",
    "X,Y = gammatetafit.draw()\n",
    "fig.add_trace(go.Scatter(x=X, y=Y, mode='lines',line_color=px.colors.sequential.Turbo[3], showlegend=False,hoverinfo='skip'))\n",
    "\n",
    "fig.add_trace(go.Scatter(x=TETA,y=GAMMA, mode='markers',showlegend=False,\n",
    "    marker=dict(color=px.colors.sequential.Turbo[1]),\n",
    "    error_y=dict( \n",
    "        type='data', \n",
    "        array=sigmaGAMMA, \n",
    "        color=px.colors.sequential.Turbo[1],\n",
    "        thickness=1.5, \n",
    "        width=3, \n",
    "    )))\n",
    "\n",
    "fig.update_layout(\n",
    "    # xaxis_type=\"log\",\n",
    "    yaxis_title=\"γ (Hz)\",\n",
    "    xaxis_title=\"θ (°)\",\n",
    "    # title='g<sup>2</sup>(τ) vs t',\n",
    "    # xaxis=dict(range=[np.log10(0.0001), np.log10(0.010)]),\n",
    "    width=600,\n",
    "    height=400,\n",
    "    # title={\n",
    "    #     'text': \"γ = 2DQ<sup>2</sup>(θ)\",\n",
    "    #     'y':0.8,\n",
    "    #     'x':0.5,\n",
    "    #     'xanchor': 'center',\n",
    "    #     'yanchor': 'top',\n",
    "    #     'font':dict(size=15)\n",
    "    # },\n",
    "    plot_bgcolor='white',\n",
    "    font=dict(\n",
    "        #family=\"Courier New, monospace\",\n",
    "        size=10,\n",
    "        color=\"Black\"\n",
    "    ),\n",
    "        # yaxis=dict(range=[0, 0.06])\n",
    ")\n",
    "\n",
    "fig.update_xaxes(\n",
    "    mirror=True,\n",
    "    ticks='outside',\n",
    "    showline=True,\n",
    "    linecolor='black',\n",
    "    gridcolor='lightgrey'\n",
    ")\n",
    "# fig.update_layout(font=dict(size=10))\n",
    "fig.update_yaxes(\n",
    "    mirror=True,\n",
    "    ticks='outside',\n",
    "    showline=True,\n",
    "    linecolor='black',\n",
    "    gridcolor='lightgrey'\n",
    ")\n",
    "\n",
    "fig.show()"
   ]
  },
  {
   "cell_type": "markdown",
   "metadata": {},
   "source": [
    "# R CON COEFF DI DIFFUSIONE:"
   ]
  },
  {
   "cell_type": "code",
   "execution_count": 24,
   "metadata": {},
   "outputs": [
    {
     "name": "stdout",
     "output_type": "stream",
     "text": [
      "R =  62.6 ± 0.3 nm\n"
     ]
    }
   ],
   "source": [
    "R = KB*T/(6*np.pi*η*D)\n",
    "σR = R*np.sqrt((sigmaT/T)**2 + (σD/D)**2)\n",
    "\n",
    "print('R = ',final_val(R,σR,1,udm='nm'))"
   ]
  },
  {
   "cell_type": "markdown",
   "metadata": {},
   "source": [
    "# TEST COMPATIBILITA'"
   ]
  },
  {
   "cell_type": "code",
   "execution_count": 25,
   "metadata": {},
   "outputs": [
    {
     "name": "stdout",
     "output_type": "stream",
     "text": [
      "Diametro misurato:  125.3 ± 0.7 nm\n",
      "Diametro costruttore:  120 ± 15 nm\n",
      "t = 0.353\n",
      "COmpatibilità: 63.8%\n"
     ]
    }
   ],
   "source": [
    "from scipy.stats import norm\n",
    "\n",
    "costruttoreD = 120\n",
    "sigmaDcostruttore = 15\n",
    "\n",
    "D = R*2\n",
    "σD = 2*σR\n",
    "\n",
    "σ = np.sqrt(σD**2 + sigmaDcostruttore**2)\n",
    "\n",
    "t = (D-costruttoreD)/σ\n",
    "\n",
    "\n",
    "print('Diametro misurato: ',final_val(D,σD,1,0,udm='nm'))\n",
    "print('Diametro costruttore: ',final_val(costruttoreD,sigmaDcostruttore,0,0,udm='nm'))\n",
    "print(f\"t = {np.round(t,3)}\")\n",
    "print(f\"COmpatibilità: {np.round(norm.cdf(t)*100,1)}%\")\n",
    "\n",
    "# NOTA: il t non deve essere maggiore di 2, la probabilità deve essere minore possibile"
   ]
  }
 ],
 "metadata": {
  "kernelspec": {
   "display_name": "Python 3",
   "language": "python",
   "name": "python3"
  },
  "language_info": {
   "codemirror_mode": {
    "name": "ipython",
    "version": 3
   },
   "file_extension": ".py",
   "mimetype": "text/x-python",
   "name": "python",
   "nbconvert_exporter": "python",
   "pygments_lexer": "ipython3",
   "version": "3.13.0"
  }
 },
 "nbformat": 4,
 "nbformat_minor": 2
}
