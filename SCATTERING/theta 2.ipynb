{
 "cells": [
  {
   "cell_type": "markdown",
   "metadata": {},
   "source": [
    "# DETERMINE R function of $\\theta$\n",
    "\n",
    "- I dati nel .txt sono separati dal carattere '\\t  ', disposti in 2 colonne relativi al tempo (in millisecondi) e alla funzione di correlazione\n",
    "\n",
    "- $\\sigma_{g^2}$ = 0.001 l'incertezza è fissata all'ultima ciffra significativa\n",
    "\n",
    "- i dati validi da tenere in considerazione sono quelli nell'intervallo 0.1ms-10ms\n",
    "\n",
    "- Gli angoli nel nome del file sono l'angolo supplementare di $\\theta$ (per l'errore di misurazione)"
   ]
  },
  {
   "cell_type": "code",
   "execution_count": 1,
   "metadata": {},
   "outputs": [],
   "source": [
    "from matplotlib import pyplot as plt\n",
    "import numpy as np\n",
    "import pandas as pd\n",
    "import plotly.express as px\n",
    "import os\n",
    "import sys\n",
    "import plotly.graph_objects as go \n",
    "dir_path = os.path.abspath('')\n",
    "sys.path.append(dir_path + '/../')\n",
    "from labbiofisica import Interpolazione, final_val"
   ]
  },
  {
   "cell_type": "markdown",
   "metadata": {},
   "source": [
    "nel caricamento dei dati nelle strutture numpy i millisecondi vengono convertiti in secondi"
   ]
  },
  {
   "cell_type": "code",
   "execution_count": 2,
   "metadata": {},
   "outputs": [],
   "source": [
    "# filename = f'./data2/g_{θ}_2'\n",
    "# read = pd.read_table(filename, skiprows=30, nrows=245 - 30)\n",
    "# # read.head()\n",
    "\n",
    "# # print(read[read.columns[4]])\n",
    "# print(read.loc[:, read.columns[2:11]].std(axis=1))"
   ]
  },
  {
   "cell_type": "code",
   "execution_count": 3,
   "metadata": {},
   "outputs": [],
   "source": [
    "# Carico i dati {θ: {t: [], g: [], sigmag: []}}\n",
    "\n",
    "data = {}\n",
    "\n",
    "TETA = [40,50,60,70,80,90,100,110,120,130] \n",
    "GAMMA = []\n",
    "sigmaGAMMA = []\n",
    "\n",
    "# t convertito in secondi, si considerano dati solo tra 0.1 e 10 ms a causa del rumore\n",
    "for θ in TETA:\n",
    "    filename = f'./data2/g_{θ}_2.asc'\n",
    "    \n",
    "    read = pd.read_csv(filename, skiprows=30, nrows=245 - 30, sep='\\t', encoding='ISO-8859-1')\n",
    "\n",
    "    # print(read.columns[2:12])\n",
    "\n",
    "    read = read[(read['Lag [ms]'] >= 0.1) & (read['Lag [ms]'] <= 10)]\n",
    "    read['std'] = read.loc[:, read.columns[2:12]].std(axis=1) / np.sqrt(10 - 1)\n",
    "    \n",
    "    t = read['Lag [ms]'].to_numpy()/1000\n",
    "    g = read['Average'].to_numpy()\n",
    "    σg = read['std'].to_numpy()\n",
    "\n",
    "    # θ = 180 - θ\n",
    "    data[θ] = {'t':t,'g':g,'sigmag': σg} # converto in secondi\n",
    "\n",
    "# TETA = 180 - TETA # inverto angoli supplementari\n",
    "TETA = np.array(TETA)\n",
    "# print(data)"
   ]
  },
  {
   "cell_type": "code",
   "execution_count": 4,
   "metadata": {},
   "outputs": [],
   "source": [
    "# plt.errorbar(data[90]['t'],data[90]['g'],yerr=data[90]['sigmag'],fmt='',label='θ = 90°')\n",
    "# plt.xlabel('Lag [s]')\n",
    "# plt.xscale('log')\n",
    "# plt.xlim(0.0001,0.010)\n",
    "# plt.ylim(0,0.1)\n",
    "# plt.ylabel('g(τ)')\n",
    "# plt.legend()\n",
    "# plt.show()"
   ]
  },
  {
   "cell_type": "code",
   "execution_count": 5,
   "metadata": {},
   "outputs": [],
   "source": [
    "# Constants\n",
    "n = 1.33 # index of refraction\n",
    "sigman = 0.01 # uncertainty of the index of refraction\n",
    "η = 10**-9  # g/(nm*s) viscosity of water\n",
    "sigmaη = 0.01 * 10**-9  # uncertainty of the viscosity of water\n",
    "λ = 632.8  # nm wavelength of the laser\n",
    "T = 293  # K temperature\n",
    "sigmaT = 1  # K uncertainty of the temperature\n",
    "KB = 1.3806e-2  # g (nm)^2 / s^2 K boltzmann constant"
   ]
  },
  {
   "cell_type": "markdown",
   "metadata": {},
   "source": [
    "# INTERPOLAZIONE\n",
    "\n",
    "attraverso al funzione: $g^2(\\tau) = A e^{-\\gamma \\tau} + B$"
   ]
  },
  {
   "cell_type": "code",
   "execution_count": 6,
   "metadata": {},
   "outputs": [],
   "source": [
    "# fit data\n",
    "CHI_r = []\n",
    "DOF = []\n",
    "PVALUE = []\n",
    "\n",
    "f = lambda x, A, B, γ: A*np.exp(-γ*x) + B\n",
    "\n",
    "for key in data.keys():\n",
    "    x = data[key]['t']\n",
    "    y = data[key]['g']\n",
    "    sigmay = data[key]['sigmag']\n",
    "    m = Interpolazione(x, y, sigmay, f, [0.05, 0.001, 2.7],['A','B','γ'])\n",
    "    data[key]['fit'] = m\n",
    "    # print(m.values['γ'])\n",
    "    data[key]['gamma'] = m.values['γ']\n",
    "    GAMMA.append(m.values['γ'])\n",
    "    sigmaGAMMA.append(m.errors['γ'])\n",
    "    CHI_r.append(m.rchi2)\n",
    "    DOF = m.dof\n",
    "    PVALUE.append(m.pvalue)\n",
    "\n",
    "GAMMA = np.array(GAMMA) \n",
    "sigmaGAMMA = np.array(sigmaGAMMA)\n"
   ]
  },
  {
   "cell_type": "code",
   "execution_count": 7,
   "metadata": {},
   "outputs": [
    {
     "data": {
      "text/html": [
       "<div>\n",
       "<style scoped>\n",
       "    .dataframe tbody tr th:only-of-type {\n",
       "        vertical-align: middle;\n",
       "    }\n",
       "\n",
       "    .dataframe tbody tr th {\n",
       "        vertical-align: top;\n",
       "    }\n",
       "\n",
       "    .dataframe thead th {\n",
       "        text-align: right;\n",
       "    }\n",
       "</style>\n",
       "<table border=\"1\" class=\"dataframe\">\n",
       "  <thead>\n",
       "    <tr style=\"text-align: right;\">\n",
       "      <th></th>\n",
       "      <th>40</th>\n",
       "      <th>50</th>\n",
       "      <th>60</th>\n",
       "      <th>70</th>\n",
       "      <th>80</th>\n",
       "      <th>90</th>\n",
       "      <th>100</th>\n",
       "      <th>110</th>\n",
       "      <th>120</th>\n",
       "      <th>130</th>\n",
       "    </tr>\n",
       "  </thead>\n",
       "  <tbody>\n",
       "    <tr>\n",
       "      <th>A</th>\n",
       "      <td>0.078358</td>\n",
       "      <td>0.073376</td>\n",
       "      <td>0.076864</td>\n",
       "      <td>0.072878</td>\n",
       "      <td>0.077385</td>\n",
       "      <td>0.073206</td>\n",
       "      <td>0.073449</td>\n",
       "      <td>0.073629</td>\n",
       "      <td>0.068494</td>\n",
       "      <td>0.068616</td>\n",
       "    </tr>\n",
       "    <tr>\n",
       "      <th>σA</th>\n",
       "      <td>0.000166</td>\n",
       "      <td>0.000105</td>\n",
       "      <td>0.000148</td>\n",
       "      <td>0.000167</td>\n",
       "      <td>0.000227</td>\n",
       "      <td>0.000303</td>\n",
       "      <td>0.000331</td>\n",
       "      <td>0.000356</td>\n",
       "      <td>0.000410</td>\n",
       "      <td>0.000441</td>\n",
       "    </tr>\n",
       "    <tr>\n",
       "      <th>B</th>\n",
       "      <td>0.001716</td>\n",
       "      <td>0.000603</td>\n",
       "      <td>0.000226</td>\n",
       "      <td>0.000233</td>\n",
       "      <td>0.000106</td>\n",
       "      <td>0.000204</td>\n",
       "      <td>0.000074</td>\n",
       "      <td>0.000020</td>\n",
       "      <td>0.000078</td>\n",
       "      <td>0.000101</td>\n",
       "    </tr>\n",
       "    <tr>\n",
       "      <th>σB</th>\n",
       "      <td>0.000102</td>\n",
       "      <td>0.000047</td>\n",
       "      <td>0.000044</td>\n",
       "      <td>0.000042</td>\n",
       "      <td>0.000034</td>\n",
       "      <td>0.000034</td>\n",
       "      <td>0.000028</td>\n",
       "      <td>0.000029</td>\n",
       "      <td>0.000029</td>\n",
       "      <td>0.000028</td>\n",
       "    </tr>\n",
       "  </tbody>\n",
       "</table>\n",
       "</div>"
      ],
      "text/plain": [
       "         40        50        60        70        80        90        100  \\\n",
       "A   0.078358  0.073376  0.076864  0.072878  0.077385  0.073206  0.073449   \n",
       "σA  0.000166  0.000105  0.000148  0.000167  0.000227  0.000303  0.000331   \n",
       "B   0.001716  0.000603  0.000226  0.000233  0.000106  0.000204  0.000074   \n",
       "σB  0.000102  0.000047  0.000044  0.000042  0.000034  0.000034  0.000028   \n",
       "\n",
       "         110       120       130  \n",
       "A   0.073629  0.068494  0.068616  \n",
       "σA  0.000356  0.000410  0.000441  \n",
       "B   0.000020  0.000078  0.000101  \n",
       "σB  0.000029  0.000029  0.000028  "
      ]
     },
     "metadata": {},
     "output_type": "display_data"
    }
   ],
   "source": [
    "AsA = {}\n",
    "for θ in data.keys():\n",
    "    A = data[θ]['fit'].values['A']\n",
    "    sigmaA = data[θ]['fit'].errors['A']\n",
    "    B = data[θ]['fit'].values['B']\n",
    "    sigmaB = data[θ]['fit'].errors['B']\n",
    "    AsA[θ] = {'A':A,'σA':sigmaA,'B':B,'σB':sigmaB}\n",
    "\n",
    "Asa = pd.DataFrame(AsA)\n",
    "display(Asa)"
   ]
  },
  {
   "cell_type": "code",
   "execution_count": 8,
   "metadata": {},
   "outputs": [
    {
     "name": "stdout",
     "output_type": "stream",
     "text": [
      "---------------------------FIT RESULT----------------------------\n"
     ]
    },
    {
     "data": {
      "text/html": [
       "<div>\n",
       "<style scoped>\n",
       "    .dataframe tbody tr th:only-of-type {\n",
       "        vertical-align: middle;\n",
       "    }\n",
       "\n",
       "    .dataframe tbody tr th {\n",
       "        vertical-align: top;\n",
       "    }\n",
       "\n",
       "    .dataframe thead th {\n",
       "        text-align: right;\n",
       "    }\n",
       "</style>\n",
       "<table border=\"1\" class=\"dataframe\">\n",
       "  <thead>\n",
       "    <tr style=\"text-align: right;\">\n",
       "      <th></th>\n",
       "      <th>θ</th>\n",
       "      <th>γ</th>\n",
       "      <th>σγ</th>\n",
       "      <th>γ_out</th>\n",
       "      <th>pvalue</th>\n",
       "      <th>chir</th>\n",
       "      <th>dof</th>\n",
       "    </tr>\n",
       "  </thead>\n",
       "  <tbody>\n",
       "    <tr>\n",
       "      <th>0</th>\n",
       "      <td>40</td>\n",
       "      <td>527.056265</td>\n",
       "      <td>3.161627</td>\n",
       "      <td>(0.53 ± 0.0)e3 Hz</td>\n",
       "      <td>0.01</td>\n",
       "      <td>1.54</td>\n",
       "      <td>50</td>\n",
       "    </tr>\n",
       "    <tr>\n",
       "      <th>1</th>\n",
       "      <td>50</td>\n",
       "      <td>829.623716</td>\n",
       "      <td>2.342004</td>\n",
       "      <td>(0.83 ± 0.0)e3 Hz</td>\n",
       "      <td>0.00</td>\n",
       "      <td>3.11</td>\n",
       "      <td>50</td>\n",
       "    </tr>\n",
       "    <tr>\n",
       "      <th>2</th>\n",
       "      <td>60</td>\n",
       "      <td>1197.095239</td>\n",
       "      <td>3.706795</td>\n",
       "      <td>(1.2 ± 0.0)e3 Hz</td>\n",
       "      <td>0.01</td>\n",
       "      <td>1.50</td>\n",
       "      <td>50</td>\n",
       "    </tr>\n",
       "    <tr>\n",
       "      <th>3</th>\n",
       "      <td>70</td>\n",
       "      <td>1621.361270</td>\n",
       "      <td>6.085032</td>\n",
       "      <td>(1.62 ± 0.01)e3 Hz</td>\n",
       "      <td>0.01</td>\n",
       "      <td>1.56</td>\n",
       "      <td>50</td>\n",
       "    </tr>\n",
       "    <tr>\n",
       "      <th>4</th>\n",
       "      <td>80</td>\n",
       "      <td>2008.897986</td>\n",
       "      <td>8.552204</td>\n",
       "      <td>(2.01 ± 0.01)e3 Hz</td>\n",
       "      <td>0.02</td>\n",
       "      <td>1.46</td>\n",
       "      <td>50</td>\n",
       "    </tr>\n",
       "    <tr>\n",
       "      <th>5</th>\n",
       "      <td>90</td>\n",
       "      <td>2448.430520</td>\n",
       "      <td>12.517416</td>\n",
       "      <td>(2.45 ± 0.01)e3 Hz</td>\n",
       "      <td>0.86</td>\n",
       "      <td>0.79</td>\n",
       "      <td>50</td>\n",
       "    </tr>\n",
       "    <tr>\n",
       "      <th>6</th>\n",
       "      <td>100</td>\n",
       "      <td>2792.436701</td>\n",
       "      <td>15.497471</td>\n",
       "      <td>(2.79 ± 0.02)e3 Hz</td>\n",
       "      <td>0.01</td>\n",
       "      <td>1.48</td>\n",
       "      <td>50</td>\n",
       "    </tr>\n",
       "    <tr>\n",
       "      <th>7</th>\n",
       "      <td>110</td>\n",
       "      <td>3274.390615</td>\n",
       "      <td>19.240284</td>\n",
       "      <td>(3.27 ± 0.02)e3 Hz</td>\n",
       "      <td>0.02</td>\n",
       "      <td>1.43</td>\n",
       "      <td>50</td>\n",
       "    </tr>\n",
       "    <tr>\n",
       "      <th>8</th>\n",
       "      <td>120</td>\n",
       "      <td>3660.831510</td>\n",
       "      <td>22.275566</td>\n",
       "      <td>(3.66 ± 0.02)e3 Hz</td>\n",
       "      <td>0.01</td>\n",
       "      <td>1.51</td>\n",
       "      <td>50</td>\n",
       "    </tr>\n",
       "    <tr>\n",
       "      <th>9</th>\n",
       "      <td>130</td>\n",
       "      <td>4009.109054</td>\n",
       "      <td>28.030692</td>\n",
       "      <td>(4.01 ± 0.03)e3 Hz</td>\n",
       "      <td>0.17</td>\n",
       "      <td>1.19</td>\n",
       "      <td>50</td>\n",
       "    </tr>\n",
       "  </tbody>\n",
       "</table>\n",
       "</div>"
      ],
      "text/plain": [
       "     θ            γ         σγ               γ_out  pvalue  chir  dof\n",
       "0   40   527.056265   3.161627   (0.53 ± 0.0)e3 Hz    0.01  1.54   50\n",
       "1   50   829.623716   2.342004   (0.83 ± 0.0)e3 Hz    0.00  3.11   50\n",
       "2   60  1197.095239   3.706795    (1.2 ± 0.0)e3 Hz    0.01  1.50   50\n",
       "3   70  1621.361270   6.085032  (1.62 ± 0.01)e3 Hz    0.01  1.56   50\n",
       "4   80  2008.897986   8.552204  (2.01 ± 0.01)e3 Hz    0.02  1.46   50\n",
       "5   90  2448.430520  12.517416  (2.45 ± 0.01)e3 Hz    0.86  0.79   50\n",
       "6  100  2792.436701  15.497471  (2.79 ± 0.02)e3 Hz    0.01  1.48   50\n",
       "7  110  3274.390615  19.240284  (3.27 ± 0.02)e3 Hz    0.02  1.43   50\n",
       "8  120  3660.831510  22.275566  (3.66 ± 0.02)e3 Hz    0.01  1.51   50\n",
       "9  130  4009.109054  28.030692  (4.01 ± 0.03)e3 Hz    0.17  1.19   50"
      ]
     },
     "metadata": {},
     "output_type": "display_data"
    }
   ],
   "source": [
    "# print FIT RESULT:\n",
    "GAMMAFVAL = [final_val(g,sg,2,3,'Hz') for g,sg in zip(GAMMA,sigmaGAMMA)]\n",
    "gammateta = pd.DataFrame({'θ':TETA,'γ':GAMMA,'σγ':sigmaGAMMA,'γ_out':GAMMAFVAL,'pvalue':PVALUE,'chir':CHI_r,'dof':DOF})\n",
    "\n",
    "print('---------------------------FIT RESULT----------------------------')\n",
    "display(gammateta)\n",
    "\n",
    "# print(gammateta['γ'].to_numpy())\n",
    "# print(gammateta['σγ'].to_numpy())"
   ]
  },
  {
   "cell_type": "markdown",
   "metadata": {},
   "source": [
    "# PLOT FIT"
   ]
  },
  {
   "cell_type": "code",
   "execution_count": 9,
   "metadata": {},
   "outputs": [
    {
     "data": {
      "application/vnd.plotly.v1+json": {
       "config": {
        "plotlyServerURL": "https://plot.ly"
       },
       "data": [
        {
         "hoverinfo": "skip",
         "line": {
          "color": "#30123b"
         },
         "mode": "lines",
         "showlegend": false,
         "type": "scatter",
         "x": {
          "bdata": "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",
          "dtype": "f8"
         },
         "y": {
          "bdata": "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",
          "dtype": "f8"
         }
        },
        {
         "error_y": {
          "array": {
           "bdata": "kfJTDkLJQz8nwIIRck9AP2iifPlbQUE/U0sTuHZBRT9T90BEpnFCP2JftiwixUE/4WdEoExpQz+DNsdf2d9CPxNbcmvqVEM/XyVMOvqvQT/BjNgzEeVAP6jJj5M3R0A/X0UT0O9NQj8P0VgUsyVBP8tgWiN0z0E/dCxy4KO8Qz9Af/+gMUBBP76MC3ImokA/mz/TwXpnPT+HlLGXNFFBPy981Y2T3j4/hFAA15KkPj/EInGylGk8P/tr68QAGT8/12wpQSmzPD8PH1Zxgz49PwEyhhbOtDo/dYRovObVPD9oN1bzafU6P6n9uOpNhDw/wxeQuEDjOj+n0ehrkfg6Pwc6ZD4aKzw/POwoWtLQOj94QCzRb6g6P0tBzEsBCzw/bTj0brn+OT+VqYf18f45PxXqU76tYjo/kVB1tpeRPT/MGT+EyB49Pw1E970ltjo/808v/RupNj+4bUhss/M2PzG9n9dnDjg/0E5zrSn+Nz+F3kPCMPI4P/sOBs8A2zc/y0tTnSVPNT8JtQ3/sMYwP40RwYBIhis/FwmwBcyZKD9cJddnHLklPw==",
           "dtype": "f8"
          },
          "color": "#30123b",
          "thickness": 1.5,
          "type": "data",
          "width": 3
         },
         "marker": {
          "color": "#30123b"
         },
         "mode": "markers",
         "name": "θ=40°",
         "type": "scatter",
         "x": {
          "bdata": "Sa+8mvLXGj8xRRTu8DIeP43ttaD3xiA/grhhynZ0Ij92gw309SEkP2pOuR11zyU/XxllR/R8Jz9U5BBxcyopP0mvvJry1yo/MUUU7vAyLj+N7bWg98YwP4K4Ycp2dDI/doMN9PUhND9qTrkddc81P18ZZUf0fDc/VOQQcXMqOT9Jr7ya8tc6PzFFFO7wMj4/je21oPfGQD+CuGHKdnRCP3aDDfT1IUQ/ak65HXXPRT9fGWVH9HxHP1TkEHFzKkk/Sa+8mvLXSj8xRRTu8DJOP43ttaD3xlA/grhhynZ0Uj92gw309SFUP2pOuR11z1U/XxllR/R8Vz9U5BBxcypZP0mvvJry11o/MUUU7vAyXj+N7bWg98ZgP4K4Ycp2dGI/doMN9PUhZD9qTrkddc9lP18ZZUf0fGc/VOQQcXMqaT9Jr7ya8tdqPzFFFO7wMm4/je21oPfGcD+CuGHKdnRyP3aDDfT1IXQ/ak65HXXPdT9fGWVH9Hx3P1TkEHFzKnk/Sa+8mvLXej8xRRTu8DJ+P43ttaD3xoA/grhhynZ0gj92gw309SGEPw==",
          "dtype": "f8"
         },
         "y": {
          "bdata": "IhG/B1Sksz8aHes98IyzPwNsUbAQZ7M/DEbb5+c8sz/NuF/0yxazP5ySYja3+LI/GYOYlTfRsj+5Mk19xb+yP202VmKelbI/GPhA4aJJsj9TBg5o6QqyP0ceiCzSxLE/GONoM/OJsT8gF4uVhzuxPxbcD3hgALE/YBhVK7jEsD8NM9nklZCwP5i5ZSw/FbA/6GYk52llrz+0AkNWt3quP+GsLeF1oq0/CRueXinLrD+KW2DqQgesPyV6GcVyS6s/h5nHq72Zqj8SzyOQXEipPwMnNnqQ+ac/DQnOz8O/pj8pS2NqAZClP5NRZRh3g6Q/zCMkd32Loz+ost5eiIuiP3Sby2g/raE/KnUk8rgDoD8y1u2invScP4hITbuYZpo/G11KAnkbmD+NhBFWvsKVP4cejDPh8pM/Da2ph8Mtkj8F03oJX6mQPw85x8p5EIw/eOxnsRTJhz94x1K5wwWEP7kj1sFFF4E/0MhSsVK9fD9ZQcLm0q54P1JzA09r5HQ/k//q7abGcT/bEMqYDt9qPyLbXKklJWY/TK8HctT6YD/4mQaHD9NbPw==",
          "dtype": "f8"
         }
        },
        {
         "hoverinfo": "skip",
         "line": {
          "color": "#4145ab"
         },
         "mode": "lines",
         "showlegend": false,
         "type": "scatter",
         "x": {
          "bdata": "Sa+8mvLXGj8ndjiqb2UdPwQ9tLns8h8/8QGY5DRAIT9g5VVs84YiP8/IE/SxzSM/PqzRe3AUJT+sj48DL1smPxxzTYvtoSc/ilYLE6zoKD/6Ocmaai8qP2gdhyIpdis/1wBFque8LD9G5AIypgMuP7THwLlkSi8/klW/oJFIMD9JR57k8OswPwE5fShQjzE/uCpcbK8yMj9wHDuwDtYyPycOGvRteTM/3v/4N80cND+W8dd7LMA0P03jtr+LYzU/BdWVA+sGNj+8xnRHSqo2P3O4U4upTTc/K6oyzwjxNz/imxETaJQ4P5qN8FbHNzk/UX/PmibbOT8Jca7ehX46P8BijSLlITs/d1RsZkTFOz8vRkuqo2g8P+Y3Ku4CDD0/nikJMmKvPT9VG+h1wVI+Pw0Nx7kg9j4/xP6l/X+ZPz8+eMKgbx5APxrxsUIfcEA/9Wmh5M7BQD/R4pCGfhNBP61bgCguZUE/idRvyt22QT9kTV9sjQhCP0DGTg49WkI/HD8+sOyrQj/3ty1SnP1CP9MwHfRLT0M/r6kMlvugQz+KIvw3q/JDP2ab69laREQ/QhTbewqWRD8ejcoduudEP/kFur9pOUU/1X6pYRmLRT+x95gDydxFP4xwiKV4LkY/aOl3RyiARj9EYmfp19FGPyDbVouHI0c/+1NGLTd1Rz/XzDXP5sZHP7NFJXGWGEg/jr4UE0ZqSD9qNwS19btIP0aw81alDUk/Iinj+FRfST/9odKaBLFJP9kawjy0Ako/tZOx3mNUSj+QDKGAE6ZKP2yFkCLD90o/SP5/xHJJSz8kd29mIptLP//vXgjS7Es/22hOqoE+TD+34T1MMZBMP5NaLe7g4Uw/btMckJAzTT9KTAwyQIVNPybF+9Pv1k0/AT7rdZ8oTj/dttoXT3pOP7kvyrn+y04/lai5W64dTz9wIan9XW9PP0yamJ8NwU8/lAnEoF4JUD8CxrtxNjJQP3CCs0IOW1A/3j6rE+aDUD9M+6LkvaxQP7m3mrWV1VA/J3SShm3+UD+VMIpXRSdRPwPtgSgdUFE/cal5+fR4UT/fZXHKzKFRP00iaZukylE/u95gbHzzUT8pm1g9VBxSP5ZXUA4sRVI/BBRI3wNuUj9y0D+w25ZSP+CMN4Gzv1I/TkkvUovoUj+8BScjYxFTPyrCHvQ6OlM/l34WxRJjUz8FOw6W6otTP3P3BWfCtFM/4bP9N5rdUz9PcPUIcgZUP70s7dlJL1Q/K+nkqiFYVD+Ypdx7+YBUPwZi1EzRqVQ/dB7MHanSVD/i2sPugPtUP1CXu79YJFU/vlOzkDBNVT8sEKthCHZVP5nMojLgnlU/B4maA7jHVT91RZLUj/BVP+MBiqVnGVY/Ub6Bdj9CVj+/enlHF2tWPy03cRjvk1Y/mvNo6ca8Vj8IsGC6nuVWP3ZsWIt2Dlc/5ChQXE43Vz9S5UctJmBXP8ChP/79iFc/Ll43z9WxVz+bGi+grdpXPwnXJnGFA1g/d5MeQl0sWD/lTxYTNVVYP1MMDuQMflg/wcgFteSmWD8vhf2FvM9YP5xB9VaU+Fg/Cv7sJ2whWT94uuT4Q0pZP+Z23Mkbc1k/VDPUmvObWT/C78try8RZPzCswzyj7Vk/nWi7DXsWWj8LJbPeUj9aP3nhqq8qaFo/552igAKRWj9VWppR2rlaP8MWkiKy4lo/MdOJ84kLWz+fj4HEYTRbPwxMeZU5XVs/eghxZhGGWz/oxGg36a5bP1aBYAjB11s/xD1Y2ZgAXD8y+k+qcClcP6C2R3tIUlw/DXM/TCB7XD97Lzcd+KNcP+nrLu7PzFw/V6gmv6f1XD/FZB6Qfx5dPzMhFmFXR10/od0NMi9wXT8OmgUDB5ldP3xW/dPewV0/6hL1pLbqXT9Yz+x1jhNeP8aL5EZmPF4/NEjcFz5lXj+iBNToFY5ePw/By7nttl4/fX3DisXfXj/rObtbnQhfP1n2six1MV8/x7Kq/UxaXz81b6LOJINfP6Mrmp/8q18/EOiRcNTUXz9+pIlBrP1fP3awQAlCE2A/rY688a0nYD/kbDjaGTxgPxtLtMKFUGA/Uikwq/FkYD+IB6yTXXlgP7/lJ3zJjWA/9sOjZDWiYD8toh9NobZgP2SAmzUNy2A/m14XHnnfYD/SPJMG5fNgPwkbD+9QCGE/QPmK17wcYT931wbAKDFhP661gqiURWE/5JP+kABaYT8bcnp5bG5hP1JQ9mHYgmE/iS5ySkSXYT/ADO4ysKthP/fqaRscwGE/LsnlA4jUYT9lp2Hs8+hhP5yF3dRf/WE/02NZvcsRYj8KQtWlNyZiP0EgUY6jOmI/eP7Mdg9PYj+v3Ehfe2NiP+W6xEfnd2I/HJlAMFOMYj9Td7wYv6BiP4pVOAErtWI/wTO06ZbJYj/4ETDSAt5iPy/wq7pu8mI/Zs4no9oGYz+drKOLRhtjP9SKH3SyL2M/C2mbXB5EYz9CRxdFilhjP3klky32bGM/sAMPFmKBYz/m4Yr+zZVjPx3ABuc5qmM/VJ6Cz6W+Yz+LfP63EdNjP8JaeqB952M/+Tj2iOn7Yz8wF3JxVRBkP2f17VnBJGQ/ntNpQi05ZD/VseUqmU1kPwyQYRMFYmQ/Q27d+3B2ZD96TFnk3IpkP7Eq1cxIn2Q/5whRtbSzZD8e58ydIMhkP1XFSIaM3GQ/jKPEbvjwZD/DgUBXZAVlP/pfvD/QGWU/MT44KDwuZT9oHLQQqEJlP5/6L/kTV2U/1tir4X9rZT8NtyfK639lP0SVo7JXlGU/e3Mfm8OoZT+yUZuDL71lP+kvF2yb0WU/Hw6TVAfmZT9W7A49c/plP43KiiXfDmY/xKgGDksjZj/7hoL2tjdmPzJl/t4iTGY/aUN6x45gZj+gIfav+nRmP9f/cZhmiWY/Dt7tgNKdZj9FvGlpPrJmP3ya5VGqxmY/s3hhOhbbZj/qVt0igu9mPyA1WQvuA2c/VxPV81kYZz+O8VDcxSxnP8XPzMQxQWc//K1IrZ1VZz8zjMSVCWpnP2pqQH51fmc/oUi8ZuGSZz/YJjhPTadnPw8FtDe5u2c/RuMvICXQZz99wasIkeRnP7SfJ/H8+Gc/632j2WgNaD8hXB/C1CFoP1g6m6pANmg/jxgXk6xKaD/G9pJ7GF9oP/3UDmSEc2g/NLOKTPCHaD9rkQY1XJxoP6Jvgh3IsGg/2U3+BTTFaD8QLHrun9loP0cK9tYL7mg/fuhxv3cCaT+1xu2n4xZpP+ykaZBPK2k/IoPleLs/aT9ZYWFhJ1RpP5A/3UmTaGk/xx1ZMv98aT/++9Qaa5FpPzXaUAPXpWk/bLjM60K6aT+jlkjUrs5pP9p0xLwa42k/EVNApYb3aT9IMbyN8gtqP38POHZeIGo/tu2zXso0aj/tyy9HNklqPySqqy+iXWo/WognGA5yaj+RZqMAeoZqP8hEH+nlmmo//yKb0VGvaj82ARe6vcNqP23fkqIp2Go/pL0Oi5Xsaj/bm4pzAQFrPxJ6BlxtFWs/SViCRNkpaz+ANv4sRT5rP7cUehWxUms/7vL1/Rxnaz8l0XHmiHtrP1uv7c70j2s/ko1pt2Ckaz/Ja+WfzLhrPwBKYYg4zWs/NyjdcKThaz9uBllZEPZrP6Xk1EF8Cmw/3MJQKugebD8TocwSVDNsP0p/SPu/R2w/gV3E4ytcbD+4O0DMl3BsP+8ZvLQDhWw/Jvg3nW+ZbD9c1rOF261sP5O0L25Hwmw/ypKrVrPWbD8BcSc/H+tsPzhPoyeL/2w/by0fEPcTbT+mC5v4YihtP93pFuHOPG0/FMiSyTpRbT9Lpg6ypmVtP4KEipoSem0/uWIGg36ObT/wQIJr6qJtPycf/lNWt20/Xf15PMLLbT+U2/UkLuBtP8u5cQ2a9G0/Apjt9QUJbj85dmnecR1uP3BU5cbdMW4/pzJhr0lGbj/eEN2XtVpuPxXvWIAhb24/TM3UaI2Dbj+Dq1BR+ZduP7qJzDllrG4/8WdIItHAbj8oRsQKPdVuP14kQPOo6W4/lQK82xT+bj/M4DfEgBJvPwO/s6zsJm8/Op0vlVg7bz9xe6t9xE9vP6hZJ2YwZG8/3zejTpx4bz8WFh83CI1vP030mh90oW8/hNIWCOC1bz+7sJLwS8pvP/KODtm33m8/KW2KwSPzbz+wJQPVxwNwP8sUQcn9DXA/5wN/vTMYcD8C87yxaSJwPx7i+qWfLHA/OdE4mtU2cD9VwHaOC0FwP3CvtIJBS3A/jJ7ydndVcD+njTBrrV9wP8N8bl/jaXA/3musUxl0cD/5WupHT35wPxVKKDyFiHA/MDlmMLuScD9MKKQk8ZxwP2cX4hgnp3A/gwYgDV2xcD+e9V0Bk7twP7rkm/XIxXA/1dPZ6f7PcD/xwhfeNNpwPwyyVdJq5HA/J6GTxqDucD9DkNG61vhwP15/D68MA3E/em5No0INcT+VXYuXeBdxP7FMyYuuIXE/zDsHgOQrcT/oKkV0GjZxPwMag2hQQHE/HwnBXIZKcT86+P5QvFRxP1bnPEXyXnE/cdZ6OShpcT+MxbgtXnNxP6i09iGUfXE/w6M0FsqHcT/fknIKAJJxP/qBsP41nHE/FnHu8mumcT8xYCznobBxP01PatvXunE/aD6ozw3FcT+ELebDQ89xP58cJLh52XE/uwtirK/jcT/W+p+g5e1xP/Lp3ZQb+HE/DdkbiVECcj8oyFl9hwxyP0S3l3G9FnI/X6bVZfMgcj97lRNaKStyP5aEUU5fNXI/snOPQpU/cj/NYs02y0lyP+lRCysBVHI/BEFJHzdecj8gMIcTbWhyPzsfxQejcnI/Vw4D/Nh8cj9y/UDwDodyP47sfuREkXI/qdu82Hqbcj/EyvrMsKVyP+C5OMHmr3I/+6h2tRy6cj8XmLSpUsRyPzKH8p2IznI/TnYwkr7Ycj9pZW6G9OJyP4VUrHoq7XI/oEPqbmD3cj+8MihjlgFzP9chZlfMC3M/8xCkSwIWcz8OAOI/OCBzPynvHzRuKnM/Rd5dKKQ0cz9gzZsc2j5zP3y82RAQSXM/l6sXBUZTcz+zmlX5e11zP86Jk+2xZ3M/6njR4edxcz8FaA/WHXxzPyFXTcpThnM/PEaLvomQcz9YNcmyv5pzP3MkB6f1pHM/jxNFmyuvcz+qAoOPYblzP8XxwIOXw3M/4eD+d83Ncz/8zzxsA9hzPxi/emA54nM/M664VG/scz9PnfZIpfZzP2qMND3bAHQ/hntyMRELdD+harAlRxV0P71Z7hl9H3Q/2EgsDrMpdD/0N2oC6TN0Pw8nqPYePnQ/Khbm6lRIdD9GBSTfilJ0P2H0YdPAXHQ/feOfx/ZmdD+Y0t27LHF0P7TBG7Bie3Q/z7BZpJiFdD/rn5eYzo90PwaP1YwEmnQ/In4TgTqkdD89bVF1cK50P1lcj2mmuHQ/dEvNXdzCdD+QOgtSEs10P6spSUZI13Q/xhiHOn7hdD/iB8UutOt0P/32AiPq9XQ/GeZAFyAAdT801X4LVgp1P1DEvP+LFHU/a7P688EedT+Hojjo9yh1P6KRdtwtM3U/voC00GM9dT/Zb/LEmUd1P/VeMLnPUXU/EE5urQVcdT8sPayhO2Z1P0cs6pVxcHU/Yhsoiqd6dT9+CmZ+3YR1P5n5o3ITj3U/tejhZkmZdT/Q1x9bf6N1P+zGXU+1rXU/B7abQ+u3dT8jpdk3IcJ1Pz6UFyxXzHU/WoNVII3WdT91cpMUw+B1P5Fh0Qj56nU/rFAP/S71dT/HP03xZP91P+Mui+WaCXY//h3J2dATdj8aDQfOBh52PzX8RMI8KHY/UeuCtnIydj9s2sCqqDx2P4jJ/p7eRnY/o7g8kxRRdj+/p3qHSlt2P9qWuHuAZXY/9oX2b7Zvdj8RdTRk7Hl2Py1kclgihHY/SFOwTFiOdj9jQu5Ajph2P38xLDXEonY/miBqKfqsdj+2D6gdMLd2P9H+5RFmwXY/7e0jBpzLdj8I3WH60dV2PyTMn+4H4HY/P7vd4j3qdj9bqhvXc/R2P3aZWcup/nY/koiXv98Idz+td9WzFRN3P8hmE6hLHXc/5FVRnIEndz//RI+QtzF3Pxs0zYTtO3c/NiMLeSNGdz9SEkltWVB3P20Bh2GPWnc/ifDEVcVkdz+k3wJK+253P8DOQD4xeXc/271+MmeDdz/3rLwmnY13PxKc+hrTl3c/Los4Dwmidz9JenYDP6x3P2RptPd0tnc/gFjy66rAdz+bRzDg4Mp3P7c2btQW1Xc/0iWsyEzfdz/uFOq8gul3PwkEKLG483c/JfNlpe79dz9A4qOZJAh4P1zR4Y1aEng/d8AfgpAceD+Tr112xiZ4P66em2r8MHg/yo3ZXjI7eD/lfBdTaEV4PwBsVUeeT3g/HFuTO9RZeD83StEvCmR4P1M5DyRAbng/bihNGHZ4eD+KF4sMrIJ4P6UGyQDijHg/wfUG9ReXeD/c5ETpTaF4P/jTgt2Dq3g/E8PA0bm1eD8vsv7F7794P0qhPLolyng/ZZB6rlvUeD+Bf7iikd54P5xu9pbH6Hg/uF00i/3yeD/TTHJ/M/14P+87sHNpB3k/CivuZ58ReT8mGixc1Rt5P0EJalALJnk/XfinREEweT945+U4dzp5P5TWIy2tRHk/r8VhIeNOeT/LtJ8VGVl5P+aj3QlPY3k/AZMb/oRteT8dglnyund5Pzhxl+bwgXk/VGDV2iaMeT9vTxPPXJZ5P4s+UcOSoHk/pi2Pt8iqeT/CHM2r/rR5P90LC6A0v3k/+fpIlGrJeT8U6oaIoNN5PzDZxHzW3Xk/S8gCcQzoeT9nt0BlQvJ5P4Kmfll4/Hk/nZW8Ta4Gej+5hPpB5BB6P9RzODYaG3o/8GJ2KlAlej8LUrQehi96PydB8hK8OXo/QjAwB/JDej9eH277J056P3kOrO9dWHo/lf3p45Niej+w7CfYyWx6P8zbZcz/dno/58qjwDWBej8CuuG0a4t6Px6pH6mhlXo/OZhdndefej9Vh5uRDap6P3B22YVDtHo/jGUXenm+ej+nVFVur8h6P8NDk2Ll0no/3jLRVhvdej/6IQ9LUed6PxURTT+H8Xo/MQCLM737ej9M78gn8wV7P2jeBhwpEHs/g81EEF8aez+evIIElSR7P7qrwPjKLns/1Zr+7AA5ez/xiTzhNkN7Pwx5etVsTXs/KGi4yaJXez9DV/a92GF7P19GNLIObHs/ejVypkR2ez+WJLCaeoB7P7ET7o6wins/zQIsg+aUez/o8Wl3HJ97PwPhp2tSqXs/H9DlX4izez86vyNUvr17P1auYUj0x3s/cZ2fPCrSez+NjN0wYNx7P6h7GyWW5ns/xGpZGczwez/fWZcNAvt7P/tI1QE4BXw/FjgT9m0PfD8yJ1Hqoxl8P00Wj97ZI3w/aQXN0g8ufD+E9ArHRTh8P5/jSLt7Qnw/u9KGr7FMfD/WwcSj51Z8P/KwApgdYXw/DaBAjFNrfD8pj36AiXV8P0R+vHS/f3w/YG36aPWJfD97XDhdK5R8P5dLdlFhnnw/sjq0RZeofD/OKfI5zbJ8P+kYMC4DvXw/BQhuIjnHfD8g96sWb9F8Pzvm6Qql23w/V9Un/9rlfD9yxGXzEPB8P46zo+dG+nw/qaLh23wEfT/FkR/Qsg59P+CAXcToGH0//G+buB4jfT8XX9msVC19PzNOF6GKN30/Tj1VlcBBfT9qLJOJ9kt9P4Ub0X0sVn0/oAoPcmJgfT+8+UxmmGp9P9foilrOdH0/89fITgR/fT8OxwZDOol9Pyq2RDdwk30/RaWCK6adfT9hlMAf3Kd9P3yD/hMSsn0/mHI8CEi8fT+zYXr8fcZ9P89QuPCz0H0/6j/25OnafT8GLzTZH+V9PyEecs1V730/PA2wwYv5fT9Y/O21wQN+P3PrK6r3DX4/j9ppni0Yfj+qyaeSYyJ+P8a45YaZLH4/4acje882fj/9lmFvBUF+PxiGn2M7S34/NHXdV3FVfj9PZBtMp19+P2tTWUDdaX4/hkKXNBN0fj+hMdUoSX5+P70gEx1/iH4/2A9REbWSfj/0/o4F65x+Pw/uzPkgp34/K90K7laxfj9GzEjijLt+P2K7htbCxX4/farEyvjPfj+ZmQK/Ltp+P7SIQLNk5H4/0Hd+p5rufj/rZryb0Ph+PwdW+o8GA38/IkU4hDwNfz89NHZ4chd/P1kjtGyoIX8/dBLyYN4rfz+QATBVFDZ/P6vwbUlKQH8/x9+rPYBKfz/izukxtlR/P/69JybsXn8/Ga1lGiJpfz81nKMOWHN/P1CL4QKOfX8/bHof98OHfz+HaV3r+ZF/P6NYm98vnH8/vkfZ02Wmfz/ZNhfIm7B/P/UlVbzRun8/EBWTsAfFfz8sBNGkPc9/P0fzDplz2X8/Y+JMjanjfz9+0YqB3+1/P5rAyHUV+H8/21cDtSUBgD9pTyKvQAaAP/ZGQalbC4A/hD5go3YQgD8SNn+dkRWAP58tnpesGoA/LSW9kccfgD+7HNyL4iSAP0kU+4X9KYA/1gsagBgvgD9kAzl6MzSAP/L6V3ROOYA/gPJ2bmk+gD8O6pVohEOAP5vhtGKfSIA/KdnTXLpNgD+30PJW1VKAP0XIEVHwV4A/0r8wSwtdgD9gt09FJmKAP+6ubj9BZ4A/e6aNOVxsgD8Jnqwzd3GAP5eVyy2SdoA/JY3qJ617gD+yhAkiyICAP0B8KBzjhYA/znNHFv6KgD9ca2YQGZCAP+lihQo0lYA/d1qkBE+agD8FUsP+aZ+AP5NJ4viEpIA/IEEB85+pgD+uOCDtuq6APzwwP+fVs4A/ySde4fC4gD9XH33bC76AP+UWnNUmw4A/cw67z0HIgD8ABtrJXM2AP479+MN30oA/HPUXvpLXgD+q7Da4rdyAPzfkVbLI4YA/xdt0rOPmgD9T05Om/uuAP+HKsqAZ8YA/bsLRmjT2gD/8ufCUT/uAP4qxD49qAIE/F6kuiYUFgT+loE2DoAqBPzOYbH27D4E/wY+Ld9YUgT9Oh6px8RmBP9x+yWsMH4E/anboZSckgT/4bQdgQimBP4VlJlpdLoE/E11FVHgzgT+hVGROkziBPy5Mg0iuPYE/vEOiQslCgT9KO8E85EeBP9gy4Db/TIE/ZSr/MBpSgT/zIR4rNVeBP4EZPSVQXIE/DxFcH2thgT+cCHsZhmaBPyoAmhOha4E/uPe4DbxwgT9G79cH13WBP9Pm9gHyeoE/Yd4V/AyAgT/v1TT2J4WBP3zNU/BCioE/CsVy6l2PgT+YvJHkeJSBPya0sN6TmYE/s6vP2K6egT9Bo+7SyaOBP8+aDc3kqIE/XZIsx/+tgT/qiUvBGrOBP3iBars1uIE/BnmJtVC9gT+UcKiva8KBPyFox6mGx4E/r1/mo6HMgT89VwWevNGBP8pOJJjX1oE/WEZDkvLbgT/mPWKMDeGBP3Q1gYYo5oE/AS2ggEPrgT+PJL96XvCBPx0c3nR59YE/qxP9bpT6gT84Cxxpr/+BP8YCO2PKBII/VPpZXeUJgj/i8XhXAA+CP2/pl1EbFII//eC2SzYZgj+L2NVFUR6CPxjQ9D9sI4I/pscTOocogj80vzI0oi2CP8K2US69MoI/T65wKNg3gj/dpY8i8zyCP2udrhwOQoI/+ZTNFilHgj+GjOwQREyCPxSECwtfUYI/onsqBXpWgj8wc0n/lFuCP71qaPmvYII/S2KH88plgj/ZWabt5WqCP2ZRxecAcII/9Ejk4Rt1gj+CQAPcNnqCPxA4ItZRf4I/nS9B0GyEgj8rJ2DKh4mCP7kef8SijoI/Rxaevr2Tgj/UDb242JiCP2IF3LLznYI/8Pz6rA6jgj999BmnKaiCPwvsOKFErYI/meNXm1+ygj8n23aVereCP7TSlY+VvII/Qsq0ibDBgj/QwdODy8aCP1658n3my4I/67AReAHRgj95qDByHNaCPwegT2w324I/lZduZlLggj8ij41gbeWCP7CGrFqI6oI/Pn7LVKPvgj/LdepOvvSCP1ltCUnZ+YI/52QoQ/T+gj91XEc9DwSDPwJUZjcqCYM/kEuFMUUOgz8eQ6QrYBODP6w6wyV7GIM/OTLiH5Ydgz/HKQEasSKDP1UhIBTMJ4M/4xg/Ducsgz9wEF4IAjKDP/4HfQIdN4M/jP+b/Dc8gz8Z97r2UkGDP6fu2fBtRoM/Neb46ohLgz/D3Rflo1CDP1DVNt++VYM/3sxV2dlagz9sxHTT9F+DP/q7k80PZYM/h7Oyxypqgz8Vq9HBRW+DP6Oi8LtgdIM/MZoPtnt5gz++kS6wln6DP0yJTaqxg4M/2oBspMyIgz9neIue542DP/VvqpgCk4M/g2fJkh2Ygz8RX+iMOJ2DP55WB4dTooM/LE4mgW6ngz+6RUV7iayDP0g9ZHWksYM/1TSDb7+2gz9jLKJp2ruDP/EjwWP1wIM/fxvgXRDGgz8ME/9XK8uDP5oKHlJG0IM/KAI9TGHVgz+1+VtGfNqDP0PxekCX34M/0eiZOrLkgz9f4Lg0zemDP+zX1y7o7oM/es/2KAP0gz8IxxUjHvmDP5a+NB05/oM/I7ZTF1QDhD+xrXIRbwiEPz+lkQuKDYQ/zJywBaUShD9alM//vxeEP+iL7vnaHIQ/doMN9PUhhD8=",
          "dtype": "f8"
         },
         "y": {
          "bdata": "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",
          "dtype": "f8"
         }
        },
        {
         "error_y": {
          "array": {
           "bdata": "s4nHPdLJOT9I2e0Z8xg/P9NL7kHQ4jY/3RswsaQdQD8owfNAKn87PwxE+2nTJjU/tdrmI2qCOj+BDT+KU+YnP1ud/YQjfi8/Ei2XbhDHMT+vORSPJ+M2P/guzyObMkA/K106COnoMj9hoYsM86c3P4lWisKdtDo/EPCTT6rPOT/zvSgB3tMwP81XVkf1kjI//KAPdvSSMj/t22LKqz4vP9jW0mvavyk/QHbanqT4Kz/6bLre8aIjP4Wc+C+yRik/rX+YK+LCLT/J2pyy7/4xP4AMes+heiM/qEallM8uJD8gSJ9tzVEgP8XbK2OtlSU/lDIxSxSmJj+Tlc8zbaQhP9cdE8ajICA/XbyrZitKHj+uFPV7KyglPyxlMDSEuRc/6DGEEkHXJT80UFqOzlErP4SOyq1Vai4/+zj2FOnULj8IIxzvDJouP69FxYz6ACo/WP5OlBORLD8w+MeflzolP5QCqBKP8CU/Qw9FPENwKj+I2EStlO0gP12GgKNbayU/qjoHlrUGID+FdqtMfjEhP8COhHis8h8/tYBjVVCxIj+Bc84NmkElPw==",
           "dtype": "f8"
          },
          "color": "#4145ab",
          "thickness": 1.5,
          "type": "data",
          "width": 3
         },
         "marker": {
          "color": "#4145ab"
         },
         "mode": "markers",
         "name": "θ=50°",
         "type": "scatter",
         "x": {
          "bdata": "Sa+8mvLXGj8xRRTu8DIeP43ttaD3xiA/grhhynZ0Ij92gw309SEkP2pOuR11zyU/XxllR/R8Jz9U5BBxcyopP0mvvJry1yo/MUUU7vAyLj+N7bWg98YwP4K4Ycp2dDI/doMN9PUhND9qTrkddc81P18ZZUf0fDc/VOQQcXMqOT9Jr7ya8tc6PzFFFO7wMj4/je21oPfGQD+CuGHKdnRCP3aDDfT1IUQ/ak65HXXPRT9fGWVH9HxHP1TkEHFzKkk/Sa+8mvLXSj8xRRTu8DJOP43ttaD3xlA/grhhynZ0Uj92gw309SFUP2pOuR11z1U/XxllR/R8Vz9U5BBxcypZP0mvvJry11o/MUUU7vAyXj+N7bWg98ZgP4K4Ycp2dGI/doMN9PUhZD9qTrkddc9lP18ZZUf0fGc/VOQQcXMqaT9Jr7ya8tdqPzFFFO7wMm4/je21oPfGcD+CuGHKdnRyP3aDDfT1IXQ/ak65HXXPdT9fGWVH9Hx3P1TkEHFzKnk/Sa+8mvLXej8xRRTu8DJ+P43ttaD3xoA/grhhynZ0gj92gw309SGEPw==",
          "dtype": "f8"
         },
         "y": {
          "bdata": "Did6KvHKsT/jhRm/lZGxP2HGFKxxNrE//43iwbsBsT9bpaq/FNSwP2shEs8jkLA/S9TBsLJssD+KYeLqW0GwP8J5gg4EErA/khZ4OMt2rz+IJMSm38+uPxm06zlEN64/HPQAcbJorT/WfEvv0dGsP5Cbhk0JLaw/a/+5Hjteqz8JmXUQheCqP1iw6DEl7ak/Qw4AC0+eqD+Zx1AEJ5GnP1jOOdPfpqY/f4XMlUG1pT/h0Fs8vOekP7hEifH1EKQ/Mz6C0ZtAoz/DnQsjvaihP+jjNQqkH6A/BfXSuUfbnT8UlnhA2ZSbP7QMJx9xfpk/1+iLc4pElz9iO84jNaOVP5gCiHHt+pM/dT+nID8bkT+e+vZktESNPySOhp1zAYk/gCkDB7R0hT/SeH1BZsKCP9JRs6ygDoA/F1LyqAAxfD+YSy7vP2x4P6k3QLzwe3I/QXXejLu9az9buGqmlDplP+NtxuVPhmA/WwXWFkPeVz+HxWZPGzhUPxPEULlPr1A/heLdfc3zST8VeYVKy2RCP/BeXTH99Do/MLm+ANzbJj8FniUP3jMvPw==",
          "dtype": "f8"
         }
        },
        {
         "hoverinfo": "skip",
         "line": {
          "color": "#4675ed"
         },
         "mode": "lines",
         "showlegend": false,
         "type": "scatter",
         "x": {
          "bdata": "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",
          "dtype": "f8"
         },
         "y": {
          "bdata": "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",
          "dtype": "f8"
         }
        },
        {
         "error_y": {
          "array": {
           "bdata": "isTil51/QT+JidiIQy5APxh0FDqofjk/R6Qf+d4cMz80qNuxBGM/P/RNHOsxjj4/H4xohXUmQD+0s3mpn402P81Fbj6vvz4/W7v3WW4mQT+oraxAaVs8P+S88Ue7SjQ/cJclLzgyPD/IUU8RDlE2P1PGjWWmWzI/WKW8DduKOT8Qz00n/Ko8P8xIjCEQrTI/ULUYWt4rLT/6ur03omI0PzN/ikqTczM/DjKFvFEhMD8FKCXe0OAyP3X/kQJG5i0/a5YgervfJT9xXM2JCYgiP5j0iwi++i0/c0D6r+mhIz9/QrI6CZYnP/v8LEbu8ic/p6Lre6jpID+bIdHhu9wgP1zZOzW3+hc/KUTX7XK2Hz+n9uiOzPUgP1eEaBc9IiQ/uQDHXmpFKj9tQYlUmDIuP2gSdua+9yw/RBRsaO1wLT+1mxUcx+stP+OIbE6kgiE/wH8/jDV3Jj9j3QbgPS8nP+NKYwhERyk/BzVMHTdMJT+xWhDiE/omP5T7swAI0iU/PKVsU1KKJz9QqYAlvuImPw9gdQhF2ik/uGNyXVGtHT/FqQYP26QhPw==",
           "dtype": "f8"
          },
          "color": "#4675ed",
          "thickness": 1.5,
          "type": "data",
          "width": 3
         },
         "marker": {
          "color": "#4675ed"
         },
         "mode": "markers",
         "name": "θ=60°",
         "type": "scatter",
         "x": {
          "bdata": "Sa+8mvLXGj8xRRTu8DIeP43ttaD3xiA/grhhynZ0Ij92gw309SEkP2pOuR11zyU/XxllR/R8Jz9U5BBxcyopP0mvvJry1yo/MUUU7vAyLj+N7bWg98YwP4K4Ycp2dDI/doMN9PUhND9qTrkddc81P18ZZUf0fDc/VOQQcXMqOT9Jr7ya8tc6PzFFFO7wMj4/je21oPfGQD+CuGHKdnRCP3aDDfT1IUQ/ak65HXXPRT9fGWVH9HxHP1TkEHFzKkk/Sa+8mvLXSj8xRRTu8DJOP43ttaD3xlA/grhhynZ0Uj92gw309SFUP2pOuR11z1U/XxllR/R8Vz9U5BBxcypZP0mvvJry11o/MUUU7vAyXj+N7bWg98ZgP4K4Ycp2dGI/doMN9PUhZD9qTrkddc9lP18ZZUf0fGc/VOQQcXMqaT9Jr7ya8tdqPzFFFO7wMm4/je21oPfGcD+CuGHKdnRyP3aDDfT1IXQ/ak65HXXPdT9fGWVH9Hx3P1TkEHFzKnk/Sa+8mvLXej8xRRTu8DJ+P43ttaD3xoA/grhhynZ0gj92gw309SGEPw==",
          "dtype": "f8"
         },
         "y": {
          "bdata": "9G3BUl3AsT8vR9ls9lGxP/NpX4q89rA/7pFynIDLsD/l1M4wtaWwP22gCskTUrA/ZOGQsuoYsD86H0NsVbevP9bzf1iAAK8/T9SIT/ADrj8hu8EG+vqsP2ASeHEsOaw/SWb1DrdDqz8RqP5BJEOqP8cqpWd6iak/dCkJ5G0AqT8QYVfuYB+oP2pwthTrr6Y/KLUX0XZMpT/TLHU1HhGkPyN6Y1KNqKI/ymsldJfEoT8hgIqZM5GgP0Qb28b6YZ8/cMEI0KVunT8m9a/2wUOaP6m2QCcpVZc/WSd4VEZtlD/WuO0xR0WSPy/hKxWvDZA/RwlVxa+zjD/pPHSLCuaJP7/arFUW4IY/Ply0+Ptigj/nLUddpZp9P2OwRX8mync/nQM2rTUQcj97D9k4SZBtP0rjgvlMcmc/WlLmzX4wYj+UW6Sao9hbP1a1KNzAV1M/4QaY00fbRj8iXxmGVd0/P5SjtMLqSzM/nryQWp2mIz+b0LRc5/MiPx7T2ViwZQ4/+MTScUmWIj9pivY0BCAePx51PLIueCU/b4gFfz4YKD/dUzfs/n4fPw==",
          "dtype": "f8"
         }
        },
        {
         "hoverinfo": "skip",
         "line": {
          "color": "#39a2fc"
         },
         "mode": "lines",
         "showlegend": false,
         "type": "scatter",
         "x": {
          "bdata": "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",
          "dtype": "f8"
         },
         "y": {
          "bdata": "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",
          "dtype": "f8"
         }
        },
        {
         "error_y": {
          "array": {
           "bdata": "xJaTvdyDNT/1iqkqdQ05PzMMA80CUj8/PNLU/bYmOz/E/3Pp1Ao4PzV8NID/lz0/tRu2gYgdOT940geR1u02P6Rlf/kbxTA/g0OxGutfMz8hl6jM08YwP3fif0vseC0/yCnJiGHtND8LrvVkXoQ4P8vAxiSzuTY/NYWBVt+FMD9Jmi+R/qE0P22zfHgoSjQ/9bLB3SqgJz+TxERhxrscP7sK6erFOio/ayZfwZZWNj8bBypFwykuP8A1P6E59i0/Dx/pd58WND/Gp8t6YgA0P7ttPJfahy4/TWtlSQ3PJT+1HY4z2OUgPzEkdrCCeSU/mEmyAc3xLD/LRYV3/PgxPzSeuEyL7S4/+Ln2QwtNKT+LSZuiElksP6UCZdDAxDI/PmNmZeBZMj/jrspz+PwyP9XkxZvcLDM/m2duFBKqMj/jrTGvBAoxP9tvKqI99CY/D1WgCfeEKT9/U1CmlKcnP3yznKRroSU/NS4G1dhVKD9l8CgD578lPxNNaz3zfiI/t20Hm8W+Gz/8SVaQaNYgP0v748dG0yc/g4PtRgMwKD+n4YDF9h4jPw==",
           "dtype": "f8"
          },
          "color": "#39a2fc",
          "thickness": 1.5,
          "type": "data",
          "width": 3
         },
         "marker": {
          "color": "#39a2fc"
         },
         "mode": "markers",
         "name": "θ=70°",
         "type": "scatter",
         "x": {
          "bdata": "Sa+8mvLXGj8xRRTu8DIeP43ttaD3xiA/grhhynZ0Ij92gw309SEkP2pOuR11zyU/XxllR/R8Jz9U5BBxcyopP0mvvJry1yo/MUUU7vAyLj+N7bWg98YwP4K4Ycp2dDI/doMN9PUhND9qTrkddc81P18ZZUf0fDc/VOQQcXMqOT9Jr7ya8tc6PzFFFO7wMj4/je21oPfGQD+CuGHKdnRCP3aDDfT1IUQ/ak65HXXPRT9fGWVH9HxHP1TkEHFzKkk/Sa+8mvLXSj8xRRTu8DJOP43ttaD3xlA/grhhynZ0Uj92gw309SFUP2pOuR11z1U/XxllR/R8Vz9U5BBxcypZP0mvvJry11o/MUUU7vAyXj+N7bWg98ZgP4K4Ycp2dGI/doMN9PUhZD9qTrkddc9lP18ZZUf0fGc/VOQQcXMqaT9Jr7ya8tdqPzFFFO7wMm4/je21oPfGcD+CuGHKdnRyP3aDDfT1IXQ/ak65HXXPdT9fGWVH9Hx3P1TkEHFzKnk/Sa+8mvLXej8xRRTu8DJ+P43ttaD3xoA/grhhynZ0gj92gw309SGEPw==",
          "dtype": "f8"
         },
         "y": {
          "bdata": "FFrW/WMhsD+MDYIznUKvP5ZzzvS3qa4/rvWg+80frj8YWGw40VOtP2lgmtgyz6w/h3L9Fvjlqz/U9DS7SWerP6NrcGyH0Ko/V6nqLwW1qT8VcqWeBaGoP+ZjLfR3pac/ansFs1O9pj/qotdVN82lP3bj3ZGx2qQ/WlZQB2gRpD/RAINJljijP6eROxFpwKE/lO74QDxcoD9cjlcgelKePw6fdCLBVJs/fM/tytNemT9/BuXHqeeWP5o2LcJecpU/2zS214Lekz+vSKcJNgmRP39GjhlN04w/7Tn6qTtgiD9iLHh2nh2FP4DdRIiGIII/rat+fHSwfz8m8YfZqqh6P8qBBc06JXg/it8cx3K/cT81Heg+jFJqP1OTv/9/MWU/zExhjOXpXj8IXLKFe8BXP7gfEc/p5FI/3aDSlcN/Tj8ZVno4RIZMP52uLnQTH0k/tmebvWESNj+Er9RgRisRPzszTxvGvjM/enE4rNatMT/oGC2TI5UgP8DOtFnBoxA/0iUbDEdpBT8j3uS1nhoZPwGqDnJE4iE/SfODThq3AD9YSHN+p10FPw==",
          "dtype": "f8"
         }
        },
        {
         "hoverinfo": "skip",
         "line": {
          "color": "#1bcfd4"
         },
         "mode": "lines",
         "showlegend": false,
         "type": "scatter",
         "x": {
          "bdata": "Sa+8mvLXGj8ndjiqb2UdPwQ9tLns8h8/8QGY5DRAIT9g5VVs84YiP8/IE/SxzSM/PqzRe3AUJT+sj48DL1smPxxzTYvtoSc/ilYLE6zoKD/6Ocmaai8qP2gdhyIpdis/1wBFque8LD9G5AIypgMuP7THwLlkSi8/klW/oJFIMD9JR57k8OswPwE5fShQjzE/uCpcbK8yMj9wHDuwDtYyPycOGvRteTM/3v/4N80cND+W8dd7LMA0P03jtr+LYzU/BdWVA+sGNj+8xnRHSqo2P3O4U4upTTc/K6oyzwjxNz/imxETaJQ4P5qN8FbHNzk/UX/PmibbOT8Jca7ehX46P8BijSLlITs/d1RsZkTFOz8vRkuqo2g8P+Y3Ku4CDD0/nikJMmKvPT9VG+h1wVI+Pw0Nx7kg9j4/xP6l/X+ZPz8+eMKgbx5APxrxsUIfcEA/9Wmh5M7BQD/R4pCGfhNBP61bgCguZUE/idRvyt22QT9kTV9sjQhCP0DGTg49WkI/HD8+sOyrQj/3ty1SnP1CP9MwHfRLT0M/r6kMlvugQz+KIvw3q/JDP2ab69laREQ/QhTbewqWRD8ejcoduudEP/kFur9pOUU/1X6pYRmLRT+x95gDydxFP4xwiKV4LkY/aOl3RyiARj9EYmfp19FGPyDbVouHI0c/+1NGLTd1Rz/XzDXP5sZHP7NFJXGWGEg/jr4UE0ZqSD9qNwS19btIP0aw81alDUk/Iinj+FRfST/9odKaBLFJP9kawjy0Ako/tZOx3mNUSj+QDKGAE6ZKP2yFkCLD90o/SP5/xHJJSz8kd29mIptLP//vXgjS7Es/22hOqoE+TD+34T1MMZBMP5NaLe7g4Uw/btMckJAzTT9KTAwyQIVNPybF+9Pv1k0/AT7rdZ8oTj/dttoXT3pOP7kvyrn+y04/lai5W64dTz9wIan9XW9PP0yamJ8NwU8/lAnEoF4JUD8CxrtxNjJQP3CCs0IOW1A/3j6rE+aDUD9M+6LkvaxQP7m3mrWV1VA/J3SShm3+UD+VMIpXRSdRPwPtgSgdUFE/cal5+fR4UT/fZXHKzKFRP00iaZukylE/u95gbHzzUT8pm1g9VBxSP5ZXUA4sRVI/BBRI3wNuUj9y0D+w25ZSP+CMN4Gzv1I/TkkvUovoUj+8BScjYxFTPyrCHvQ6OlM/l34WxRJjUz8FOw6W6otTP3P3BWfCtFM/4bP9N5rdUz9PcPUIcgZUP70s7dlJL1Q/K+nkqiFYVD+Ypdx7+YBUPwZi1EzRqVQ/dB7MHanSVD/i2sPugPtUP1CXu79YJFU/vlOzkDBNVT8sEKthCHZVP5nMojLgnlU/B4maA7jHVT91RZLUj/BVP+MBiqVnGVY/Ub6Bdj9CVj+/enlHF2tWPy03cRjvk1Y/mvNo6ca8Vj8IsGC6nuVWP3ZsWIt2Dlc/5ChQXE43Vz9S5UctJmBXP8ChP/79iFc/Ll43z9WxVz+bGi+grdpXPwnXJnGFA1g/d5MeQl0sWD/lTxYTNVVYP1MMDuQMflg/wcgFteSmWD8vhf2FvM9YP5xB9VaU+Fg/Cv7sJ2whWT94uuT4Q0pZP+Z23Mkbc1k/VDPUmvObWT/C78try8RZPzCswzyj7Vk/nWi7DXsWWj8LJbPeUj9aP3nhqq8qaFo/552igAKRWj9VWppR2rlaP8MWkiKy4lo/MdOJ84kLWz+fj4HEYTRbPwxMeZU5XVs/eghxZhGGWz/oxGg36a5bP1aBYAjB11s/xD1Y2ZgAXD8y+k+qcClcP6C2R3tIUlw/DXM/TCB7XD97Lzcd+KNcP+nrLu7PzFw/V6gmv6f1XD/FZB6Qfx5dPzMhFmFXR10/od0NMi9wXT8OmgUDB5ldP3xW/dPewV0/6hL1pLbqXT9Yz+x1jhNeP8aL5EZmPF4/NEjcFz5lXj+iBNToFY5ePw/By7nttl4/fX3DisXfXj/rObtbnQhfP1n2six1MV8/x7Kq/UxaXz81b6LOJINfP6Mrmp/8q18/EOiRcNTUXz9+pIlBrP1fP3awQAlCE2A/rY688a0nYD/kbDjaGTxgPxtLtMKFUGA/Uikwq/FkYD+IB6yTXXlgP7/lJ3zJjWA/9sOjZDWiYD8toh9NobZgP2SAmzUNy2A/m14XHnnfYD/SPJMG5fNgPwkbD+9QCGE/QPmK17wcYT931wbAKDFhP661gqiURWE/5JP+kABaYT8bcnp5bG5hP1JQ9mHYgmE/iS5ySkSXYT/ADO4ysKthP/fqaRscwGE/LsnlA4jUYT9lp2Hs8+hhP5yF3dRf/WE/02NZvcsRYj8KQtWlNyZiP0EgUY6jOmI/eP7Mdg9PYj+v3Ehfe2NiP+W6xEfnd2I/HJlAMFOMYj9Td7wYv6BiP4pVOAErtWI/wTO06ZbJYj/4ETDSAt5iPy/wq7pu8mI/Zs4no9oGYz+drKOLRhtjP9SKH3SyL2M/C2mbXB5EYz9CRxdFilhjP3klky32bGM/sAMPFmKBYz/m4Yr+zZVjPx3ABuc5qmM/VJ6Cz6W+Yz+LfP63EdNjP8JaeqB952M/+Tj2iOn7Yz8wF3JxVRBkP2f17VnBJGQ/ntNpQi05ZD/VseUqmU1kPwyQYRMFYmQ/Q27d+3B2ZD96TFnk3IpkP7Eq1cxIn2Q/5whRtbSzZD8e58ydIMhkP1XFSIaM3GQ/jKPEbvjwZD/DgUBXZAVlP/pfvD/QGWU/MT44KDwuZT9oHLQQqEJlP5/6L/kTV2U/1tir4X9rZT8NtyfK639lP0SVo7JXlGU/e3Mfm8OoZT+yUZuDL71lP+kvF2yb0WU/Hw6TVAfmZT9W7A49c/plP43KiiXfDmY/xKgGDksjZj/7hoL2tjdmPzJl/t4iTGY/aUN6x45gZj+gIfav+nRmP9f/cZhmiWY/Dt7tgNKdZj9FvGlpPrJmP3ya5VGqxmY/s3hhOhbbZj/qVt0igu9mPyA1WQvuA2c/VxPV81kYZz+O8VDcxSxnP8XPzMQxQWc//K1IrZ1VZz8zjMSVCWpnP2pqQH51fmc/oUi8ZuGSZz/YJjhPTadnPw8FtDe5u2c/RuMvICXQZz99wasIkeRnP7SfJ/H8+Gc/632j2WgNaD8hXB/C1CFoP1g6m6pANmg/jxgXk6xKaD/G9pJ7GF9oP/3UDmSEc2g/NLOKTPCHaD9rkQY1XJxoP6Jvgh3IsGg/2U3+BTTFaD8QLHrun9loP0cK9tYL7mg/fuhxv3cCaT+1xu2n4xZpP+ykaZBPK2k/IoPleLs/aT9ZYWFhJ1RpP5A/3UmTaGk/xx1ZMv98aT/++9Qaa5FpPzXaUAPXpWk/bLjM60K6aT+jlkjUrs5pP9p0xLwa42k/EVNApYb3aT9IMbyN8gtqP38POHZeIGo/tu2zXso0aj/tyy9HNklqPySqqy+iXWo/WognGA5yaj+RZqMAeoZqP8hEH+nlmmo//yKb0VGvaj82ARe6vcNqP23fkqIp2Go/pL0Oi5Xsaj/bm4pzAQFrPxJ6BlxtFWs/SViCRNkpaz+ANv4sRT5rP7cUehWxUms/7vL1/Rxnaz8l0XHmiHtrP1uv7c70j2s/ko1pt2Ckaz/Ja+WfzLhrPwBKYYg4zWs/NyjdcKThaz9uBllZEPZrP6Xk1EF8Cmw/3MJQKugebD8TocwSVDNsP0p/SPu/R2w/gV3E4ytcbD+4O0DMl3BsP+8ZvLQDhWw/Jvg3nW+ZbD9c1rOF261sP5O0L25Hwmw/ypKrVrPWbD8BcSc/H+tsPzhPoyeL/2w/by0fEPcTbT+mC5v4YihtP93pFuHOPG0/FMiSyTpRbT9Lpg6ypmVtP4KEipoSem0/uWIGg36ObT/wQIJr6qJtPycf/lNWt20/Xf15PMLLbT+U2/UkLuBtP8u5cQ2a9G0/Apjt9QUJbj85dmnecR1uP3BU5cbdMW4/pzJhr0lGbj/eEN2XtVpuPxXvWIAhb24/TM3UaI2Dbj+Dq1BR+ZduP7qJzDllrG4/8WdIItHAbj8oRsQKPdVuP14kQPOo6W4/lQK82xT+bj/M4DfEgBJvPwO/s6zsJm8/Op0vlVg7bz9xe6t9xE9vP6hZJ2YwZG8/3zejTpx4bz8WFh83CI1vP030mh90oW8/hNIWCOC1bz+7sJLwS8pvP/KODtm33m8/KW2KwSPzbz+wJQPVxwNwP8sUQcn9DXA/5wN/vTMYcD8C87yxaSJwPx7i+qWfLHA/OdE4mtU2cD9VwHaOC0FwP3CvtIJBS3A/jJ7ydndVcD+njTBrrV9wP8N8bl/jaXA/3musUxl0cD/5WupHT35wPxVKKDyFiHA/MDlmMLuScD9MKKQk8ZxwP2cX4hgnp3A/gwYgDV2xcD+e9V0Bk7twP7rkm/XIxXA/1dPZ6f7PcD/xwhfeNNpwPwyyVdJq5HA/J6GTxqDucD9DkNG61vhwP15/D68MA3E/em5No0INcT+VXYuXeBdxP7FMyYuuIXE/zDsHgOQrcT/oKkV0GjZxPwMag2hQQHE/HwnBXIZKcT86+P5QvFRxP1bnPEXyXnE/cdZ6OShpcT+MxbgtXnNxP6i09iGUfXE/w6M0FsqHcT/fknIKAJJxP/qBsP41nHE/FnHu8mumcT8xYCznobBxP01PatvXunE/aD6ozw3FcT+ELebDQ89xP58cJLh52XE/uwtirK/jcT/W+p+g5e1xP/Lp3ZQb+HE/DdkbiVECcj8oyFl9hwxyP0S3l3G9FnI/X6bVZfMgcj97lRNaKStyP5aEUU5fNXI/snOPQpU/cj/NYs02y0lyP+lRCysBVHI/BEFJHzdecj8gMIcTbWhyPzsfxQejcnI/Vw4D/Nh8cj9y/UDwDodyP47sfuREkXI/qdu82Hqbcj/EyvrMsKVyP+C5OMHmr3I/+6h2tRy6cj8XmLSpUsRyPzKH8p2IznI/TnYwkr7Ycj9pZW6G9OJyP4VUrHoq7XI/oEPqbmD3cj+8MihjlgFzP9chZlfMC3M/8xCkSwIWcz8OAOI/OCBzPynvHzRuKnM/Rd5dKKQ0cz9gzZsc2j5zP3y82RAQSXM/l6sXBUZTcz+zmlX5e11zP86Jk+2xZ3M/6njR4edxcz8FaA/WHXxzPyFXTcpThnM/PEaLvomQcz9YNcmyv5pzP3MkB6f1pHM/jxNFmyuvcz+qAoOPYblzP8XxwIOXw3M/4eD+d83Ncz/8zzxsA9hzPxi/emA54nM/M664VG/scz9PnfZIpfZzP2qMND3bAHQ/hntyMRELdD+harAlRxV0P71Z7hl9H3Q/2EgsDrMpdD/0N2oC6TN0Pw8nqPYePnQ/Khbm6lRIdD9GBSTfilJ0P2H0YdPAXHQ/feOfx/ZmdD+Y0t27LHF0P7TBG7Bie3Q/z7BZpJiFdD/rn5eYzo90PwaP1YwEmnQ/In4TgTqkdD89bVF1cK50P1lcj2mmuHQ/dEvNXdzCdD+QOgtSEs10P6spSUZI13Q/xhiHOn7hdD/iB8UutOt0P/32AiPq9XQ/GeZAFyAAdT801X4LVgp1P1DEvP+LFHU/a7P688EedT+Hojjo9yh1P6KRdtwtM3U/voC00GM9dT/Zb/LEmUd1P/VeMLnPUXU/EE5urQVcdT8sPayhO2Z1P0cs6pVxcHU/Yhsoiqd6dT9+CmZ+3YR1P5n5o3ITj3U/tejhZkmZdT/Q1x9bf6N1P+zGXU+1rXU/B7abQ+u3dT8jpdk3IcJ1Pz6UFyxXzHU/WoNVII3WdT91cpMUw+B1P5Fh0Qj56nU/rFAP/S71dT/HP03xZP91P+Mui+WaCXY//h3J2dATdj8aDQfOBh52PzX8RMI8KHY/UeuCtnIydj9s2sCqqDx2P4jJ/p7eRnY/o7g8kxRRdj+/p3qHSlt2P9qWuHuAZXY/9oX2b7Zvdj8RdTRk7Hl2Py1kclgihHY/SFOwTFiOdj9jQu5Ajph2P38xLDXEonY/miBqKfqsdj+2D6gdMLd2P9H+5RFmwXY/7e0jBpzLdj8I3WH60dV2PyTMn+4H4HY/P7vd4j3qdj9bqhvXc/R2P3aZWcup/nY/koiXv98Idz+td9WzFRN3P8hmE6hLHXc/5FVRnIEndz//RI+QtzF3Pxs0zYTtO3c/NiMLeSNGdz9SEkltWVB3P20Bh2GPWnc/ifDEVcVkdz+k3wJK+253P8DOQD4xeXc/271+MmeDdz/3rLwmnY13PxKc+hrTl3c/Los4Dwmidz9JenYDP6x3P2RptPd0tnc/gFjy66rAdz+bRzDg4Mp3P7c2btQW1Xc/0iWsyEzfdz/uFOq8gul3PwkEKLG483c/JfNlpe79dz9A4qOZJAh4P1zR4Y1aEng/d8AfgpAceD+Tr112xiZ4P66em2r8MHg/yo3ZXjI7eD/lfBdTaEV4PwBsVUeeT3g/HFuTO9RZeD83StEvCmR4P1M5DyRAbng/bihNGHZ4eD+KF4sMrIJ4P6UGyQDijHg/wfUG9ReXeD/c5ETpTaF4P/jTgt2Dq3g/E8PA0bm1eD8vsv7F7794P0qhPLolyng/ZZB6rlvUeD+Bf7iikd54P5xu9pbH6Hg/uF00i/3yeD/TTHJ/M/14P+87sHNpB3k/CivuZ58ReT8mGixc1Rt5P0EJalALJnk/XfinREEweT945+U4dzp5P5TWIy2tRHk/r8VhIeNOeT/LtJ8VGVl5P+aj3QlPY3k/AZMb/oRteT8dglnyund5Pzhxl+bwgXk/VGDV2iaMeT9vTxPPXJZ5P4s+UcOSoHk/pi2Pt8iqeT/CHM2r/rR5P90LC6A0v3k/+fpIlGrJeT8U6oaIoNN5PzDZxHzW3Xk/S8gCcQzoeT9nt0BlQvJ5P4Kmfll4/Hk/nZW8Ta4Gej+5hPpB5BB6P9RzODYaG3o/8GJ2KlAlej8LUrQehi96PydB8hK8OXo/QjAwB/JDej9eH277J056P3kOrO9dWHo/lf3p45Niej+w7CfYyWx6P8zbZcz/dno/58qjwDWBej8CuuG0a4t6Px6pH6mhlXo/OZhdndefej9Vh5uRDap6P3B22YVDtHo/jGUXenm+ej+nVFVur8h6P8NDk2Ll0no/3jLRVhvdej/6IQ9LUed6PxURTT+H8Xo/MQCLM737ej9M78gn8wV7P2jeBhwpEHs/g81EEF8aez+evIIElSR7P7qrwPjKLns/1Zr+7AA5ez/xiTzhNkN7Pwx5etVsTXs/KGi4yaJXez9DV/a92GF7P19GNLIObHs/ejVypkR2ez+WJLCaeoB7P7ET7o6wins/zQIsg+aUez/o8Wl3HJ97PwPhp2tSqXs/H9DlX4izez86vyNUvr17P1auYUj0x3s/cZ2fPCrSez+NjN0wYNx7P6h7GyWW5ns/xGpZGczwez/fWZcNAvt7P/tI1QE4BXw/FjgT9m0PfD8yJ1Hqoxl8P00Wj97ZI3w/aQXN0g8ufD+E9ArHRTh8P5/jSLt7Qnw/u9KGr7FMfD/WwcSj51Z8P/KwApgdYXw/DaBAjFNrfD8pj36AiXV8P0R+vHS/f3w/YG36aPWJfD97XDhdK5R8P5dLdlFhnnw/sjq0RZeofD/OKfI5zbJ8P+kYMC4DvXw/BQhuIjnHfD8g96sWb9F8Pzvm6Qql23w/V9Un/9rlfD9yxGXzEPB8P46zo+dG+nw/qaLh23wEfT/FkR/Qsg59P+CAXcToGH0//G+buB4jfT8XX9msVC19PzNOF6GKN30/Tj1VlcBBfT9qLJOJ9kt9P4Ub0X0sVn0/oAoPcmJgfT+8+UxmmGp9P9foilrOdH0/89fITgR/fT8OxwZDOol9Pyq2RDdwk30/RaWCK6adfT9hlMAf3Kd9P3yD/hMSsn0/mHI8CEi8fT+zYXr8fcZ9P89QuPCz0H0/6j/25OnafT8GLzTZH+V9PyEecs1V730/PA2wwYv5fT9Y/O21wQN+P3PrK6r3DX4/j9ppni0Yfj+qyaeSYyJ+P8a45YaZLH4/4acje882fj/9lmFvBUF+PxiGn2M7S34/NHXdV3FVfj9PZBtMp19+P2tTWUDdaX4/hkKXNBN0fj+hMdUoSX5+P70gEx1/iH4/2A9REbWSfj/0/o4F65x+Pw/uzPkgp34/K90K7laxfj9GzEjijLt+P2K7htbCxX4/farEyvjPfj+ZmQK/Ltp+P7SIQLNk5H4/0Hd+p5rufj/rZryb0Ph+PwdW+o8GA38/IkU4hDwNfz89NHZ4chd/P1kjtGyoIX8/dBLyYN4rfz+QATBVFDZ/P6vwbUlKQH8/x9+rPYBKfz/izukxtlR/P/69JybsXn8/Ga1lGiJpfz81nKMOWHN/P1CL4QKOfX8/bHof98OHfz+HaV3r+ZF/P6NYm98vnH8/vkfZ02Wmfz/ZNhfIm7B/P/UlVbzRun8/EBWTsAfFfz8sBNGkPc9/P0fzDplz2X8/Y+JMjanjfz9+0YqB3+1/P5rAyHUV+H8/21cDtSUBgD9pTyKvQAaAP/ZGQalbC4A/hD5go3YQgD8SNn+dkRWAP58tnpesGoA/LSW9kccfgD+7HNyL4iSAP0kU+4X9KYA/1gsagBgvgD9kAzl6MzSAP/L6V3ROOYA/gPJ2bmk+gD8O6pVohEOAP5vhtGKfSIA/KdnTXLpNgD+30PJW1VKAP0XIEVHwV4A/0r8wSwtdgD9gt09FJmKAP+6ubj9BZ4A/e6aNOVxsgD8Jnqwzd3GAP5eVyy2SdoA/JY3qJ617gD+yhAkiyICAP0B8KBzjhYA/znNHFv6KgD9ca2YQGZCAP+lihQo0lYA/d1qkBE+agD8FUsP+aZ+AP5NJ4viEpIA/IEEB85+pgD+uOCDtuq6APzwwP+fVs4A/ySde4fC4gD9XH33bC76AP+UWnNUmw4A/cw67z0HIgD8ABtrJXM2AP479+MN30oA/HPUXvpLXgD+q7Da4rdyAPzfkVbLI4YA/xdt0rOPmgD9T05Om/uuAP+HKsqAZ8YA/bsLRmjT2gD/8ufCUT/uAP4qxD49qAIE/F6kuiYUFgT+loE2DoAqBPzOYbH27D4E/wY+Ld9YUgT9Oh6px8RmBP9x+yWsMH4E/anboZSckgT/4bQdgQimBP4VlJlpdLoE/E11FVHgzgT+hVGROkziBPy5Mg0iuPYE/vEOiQslCgT9KO8E85EeBP9gy4Db/TIE/ZSr/MBpSgT/zIR4rNVeBP4EZPSVQXIE/DxFcH2thgT+cCHsZhmaBPyoAmhOha4E/uPe4DbxwgT9G79cH13WBP9Pm9gHyeoE/Yd4V/AyAgT/v1TT2J4WBP3zNU/BCioE/CsVy6l2PgT+YvJHkeJSBPya0sN6TmYE/s6vP2K6egT9Bo+7SyaOBP8+aDc3kqIE/XZIsx/+tgT/qiUvBGrOBP3iBars1uIE/BnmJtVC9gT+UcKiva8KBPyFox6mGx4E/r1/mo6HMgT89VwWevNGBP8pOJJjX1oE/WEZDkvLbgT/mPWKMDeGBP3Q1gYYo5oE/AS2ggEPrgT+PJL96XvCBPx0c3nR59YE/qxP9bpT6gT84Cxxpr/+BP8YCO2PKBII/VPpZXeUJgj/i8XhXAA+CP2/pl1EbFII//eC2SzYZgj+L2NVFUR6CPxjQ9D9sI4I/pscTOocogj80vzI0oi2CP8K2US69MoI/T65wKNg3gj/dpY8i8zyCP2udrhwOQoI/+ZTNFilHgj+GjOwQREyCPxSECwtfUYI/onsqBXpWgj8wc0n/lFuCP71qaPmvYII/S2KH88plgj/ZWabt5WqCP2ZRxecAcII/9Ejk4Rt1gj+CQAPcNnqCPxA4ItZRf4I/nS9B0GyEgj8rJ2DKh4mCP7kef8SijoI/Rxaevr2Tgj/UDb242JiCP2IF3LLznYI/8Pz6rA6jgj999BmnKaiCPwvsOKFErYI/meNXm1+ygj8n23aVereCP7TSlY+VvII/Qsq0ibDBgj/QwdODy8aCP1658n3my4I/67AReAHRgj95qDByHNaCPwegT2w324I/lZduZlLggj8ij41gbeWCP7CGrFqI6oI/Pn7LVKPvgj/LdepOvvSCP1ltCUnZ+YI/52QoQ/T+gj91XEc9DwSDPwJUZjcqCYM/kEuFMUUOgz8eQ6QrYBODP6w6wyV7GIM/OTLiH5Ydgz/HKQEasSKDP1UhIBTMJ4M/4xg/Ducsgz9wEF4IAjKDP/4HfQIdN4M/jP+b/Dc8gz8Z97r2UkGDP6fu2fBtRoM/Neb46ohLgz/D3Rflo1CDP1DVNt++VYM/3sxV2dlagz9sxHTT9F+DP/q7k80PZYM/h7Oyxypqgz8Vq9HBRW+DP6Oi8LtgdIM/MZoPtnt5gz++kS6wln6DP0yJTaqxg4M/2oBspMyIgz9neIue542DP/VvqpgCk4M/g2fJkh2Ygz8RX+iMOJ2DP55WB4dTooM/LE4mgW6ngz+6RUV7iayDP0g9ZHWksYM/1TSDb7+2gz9jLKJp2ruDP/EjwWP1wIM/fxvgXRDGgz8ME/9XK8uDP5oKHlJG0IM/KAI9TGHVgz+1+VtGfNqDP0PxekCX34M/0eiZOrLkgz9f4Lg0zemDP+zX1y7o7oM/es/2KAP0gz8IxxUjHvmDP5a+NB05/oM/I7ZTF1QDhD+xrXIRbwiEPz+lkQuKDYQ/zJywBaUShD9alM//vxeEP+iL7vnaHIQ/doMN9PUhhD8=",
          "dtype": "f8"
         },
         "y": {
          "bdata": "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",
          "dtype": "f8"
         }
        },
        {
         "error_y": {
          "array": {
           "bdata": "c/emiOGYQz8kNQlvFk86Pw01yzPzqD8/v/gkwDkOQz8zO5aPbl5DP6lgAxfgiTI/dO/G6k1BOT/3tYKaqAU9P7JYGlrVvDQ/q0Smy4GqLz+Fv5Bqv5FCPwXVdXOOQTQ/QaqEMHj2ND+zU9NSdBE5P1ESuUnZQjg/uySfQiPlPj9Rur1OAiMxP0huATwIWTE/b22oPZJ1LD8/eo4dCKAmP7c5k52i0TU/FVYCLB5wKD9yzLFTcvsxP3a9F4HhmjA/h7ow1GWgMD8NUGOBdB8yP7GaUUluqDA/a3/XAG6gJz/AzjPxGRYzP5V5Ekw89i4/vanT/3BNMT/6fZgtpb0xPyVlEfvavSo/kGWypQoAIj8TJMbnin0iPwXnQkDtTCw/OXPn8J+8Kj+jMySiidkpP3P/y089Uik/UTNjhB9bKT9HXYGlTvIjP5KYOEhehCI/8WzwR3AaIj8rL3UpydwgPz89BH+k4Cg/wdWz9s/RIT8lnQeu9ZUjP9+5GLFr8SM/CUDx+QDkJD/Bo341aQMlP0988b5OxB4/YCRrhfsMHT8PpWhnsRIfPw==",
           "dtype": "f8"
          },
          "color": "#1bcfd4",
          "thickness": 1.5,
          "type": "data",
          "width": 3
         },
         "marker": {
          "color": "#1bcfd4"
         },
         "mode": "markers",
         "name": "θ=80°",
         "type": "scatter",
         "x": {
          "bdata": "Sa+8mvLXGj8xRRTu8DIeP43ttaD3xiA/grhhynZ0Ij92gw309SEkP2pOuR11zyU/XxllR/R8Jz9U5BBxcyopP0mvvJry1yo/MUUU7vAyLj+N7bWg98YwP4K4Ycp2dDI/doMN9PUhND9qTrkddc81P18ZZUf0fDc/VOQQcXMqOT9Jr7ya8tc6PzFFFO7wMj4/je21oPfGQD+CuGHKdnRCP3aDDfT1IUQ/ak65HXXPRT9fGWVH9HxHP1TkEHFzKkk/Sa+8mvLXSj8xRRTu8DJOP43ttaD3xlA/grhhynZ0Uj92gw309SFUP2pOuR11z1U/XxllR/R8Vz9U5BBxcypZP0mvvJry11o/MUUU7vAyXj+N7bWg98ZgP4K4Ycp2dGI/doMN9PUhZD9qTrkddc9lP18ZZUf0fGc/VOQQcXMqaT9Jr7ya8tdqPzFFFO7wMm4/je21oPfGcD+CuGHKdnRyP3aDDfT1IXQ/ak65HXXPdT9fGWVH9Hx3P1TkEHFzKnk/Sa+8mvLXej8xRRTu8DJ+P43ttaD3xoA/grhhynZ0gj92gw309SGEPw==",
          "dtype": "f8"
         },
         "y": {
          "bdata": "GcqJdhVSsD9rnE1HADevP4aTNH9Ma68/VbFC23sCrj/JHqFmSBWtPyhSUEDJ06w/PhqYJrbMqz96E+i4vx+rP+NNI9LbRKo/zGZpAqDlqD+O0gA5vHunPwqyr4bVaaY/XZSPk3gvpT/PH4lNGlmkPzeji/JxEqM/0GYwod18oj9yuQveoXKhPxEIKplSTZ8/59FDI44rnD9cvdQZKaWZP30d3a3RF5c/OCT/3UyWlD9mC63zFN6SP3oREg5iDJE/9NZlnZbEjj+o8/KF2oCJP/aQ+C4IWYQ/6zDsUTTmgD/2nNOwCJN8P0yZBgtId3c/zWPmZcGCcz8rQ6iUz9lvPxejx1KYtWw/XeATZxxVYz9Cb9hT/vdYP6oJRzWRPlI/3f077M+PUD+9ewvhVEhCPzI61Hq1Xzs/zrz+H4W9KT/bbYQ2Gm8kP6TdaS1z0wK/AlBnHFrMLj8EMQOn1KssP9O8G797PSs/B9f1bqB+Lz9zvSEY/SQbv2+LA75Tpwm/OJbgJr3VBb90x9sm08jXvmp2nUDqDCK/D/pih+KiG7+V+Q81RvUKPw==",
          "dtype": "f8"
         }
        },
        {
         "hoverinfo": "skip",
         "line": {
          "color": "#24eca6"
         },
         "mode": "lines",
         "showlegend": false,
         "type": "scatter",
         "x": {
          "bdata": "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",
          "dtype": "f8"
         },
         "y": {
          "bdata": "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",
          "dtype": "f8"
         }
        },
        {
         "error_y": {
          "array": {
           "bdata": "YLNGk07ORT8geKHi9Zg5P0PosQl9ZkA/z+4oAUGaRj8dhfluOVVAP6wxBt7q4EY/6BEyWUfTOT9gzpr+MsQ4PwnE6Bab90A/xW8v4+omPT8hiyiCDu87PwVWWQ2y7Dc/hLCy8KUEKT8DHRQ7zyg8Pxu06qnbfDY/93H5AvcfMz9FNKHhiqIoP3TnmLvmlSo/WsRIfNHVIz/9GsKnHUouP6k64+zWeTM/TTkqnZaJMz+TeKE6rTo2PyWdDQ/AgzM/b0byqP3ZMT/ILYZoFcsyP6kDjVXFvCo/JDipjvccMD+tpgKY7PwoP83XDt6B1S0/D9jkax24OD+Alcxyikk2P2fA0w9nLzA/JsEw4f4aMT997sNbzuApP/NT7fEK+S8/jadWVDE7JD/bKX76u4cxP8W/mcphqjA/9YVxvgdTKT8XRLcRYxYmP3Dd66fX6CY/AVevnIykJj/o7rI9j+IZP1Qn12rmMB4/BztRoWHqJD8QaEu/Bn8jP7EtWXo4Pig/7xLmCp+OIz+jGNQfYtkcP8nNCa5H4Sc/eImtOszaHz+ewgzTmjshPw==",
           "dtype": "f8"
          },
          "color": "#24eca6",
          "thickness": 1.5,
          "type": "data",
          "width": 3
         },
         "marker": {
          "color": "#24eca6"
         },
         "mode": "markers",
         "name": "θ=90°",
         "type": "scatter",
         "x": {
          "bdata": "Sa+8mvLXGj8xRRTu8DIeP43ttaD3xiA/grhhynZ0Ij92gw309SEkP2pOuR11zyU/XxllR/R8Jz9U5BBxcyopP0mvvJry1yo/MUUU7vAyLj+N7bWg98YwP4K4Ycp2dDI/doMN9PUhND9qTrkddc81P18ZZUf0fDc/VOQQcXMqOT9Jr7ya8tc6PzFFFO7wMj4/je21oPfGQD+CuGHKdnRCP3aDDfT1IUQ/ak65HXXPRT9fGWVH9HxHP1TkEHFzKkk/Sa+8mvLXSj8xRRTu8DJOP43ttaD3xlA/grhhynZ0Uj92gw309SFUP2pOuR11z1U/XxllR/R8Vz9U5BBxcypZP0mvvJry11o/MUUU7vAyXj+N7bWg98ZgP4K4Ycp2dGI/doMN9PUhZD9qTrkddc9lP18ZZUf0fGc/VOQQcXMqaT9Jr7ya8tdqPzFFFO7wMm4/je21oPfGcD+CuGHKdnRyP3aDDfT1IXQ/ak65HXXPdT9fGWVH9Hx3P1TkEHFzKnk/Sa+8mvLXej8xRRTu8DJ+P43ttaD3xoA/grhhynZ0gj92gw309SGEPw==",
          "dtype": "f8"
         },
         "y": {
          "bdata": "0oJhCiDGrT8pjNJKxtasP8UEkDV+PKs/BQjVvJmHqj99LgkGxrCpP3Nz4IvlTKk/pllFJK9zqD+s4SL3dHWnP2krQCX48KY/pKQs6GJ4pT/DqjBsg8mjPzj688h6xaI/pI7pZASvoT+XNhyWBn6gPww9YvTcQp8/bijGQylrnT8zD6oeepybP0KS/gNRnJg/cQqGzsallT+S5jSw+siSP685rBUS1ZA/7YDrihnhjT+X3TjOEgmLPzXJ2YUwyIc/ZdNbTeg/hT8HyJ/BCfl+PwyVPRHdFnk/d/PYv4CYcz8a9t6MWJNwP18CnlFGnmw/QaKF2wz9ZD86atgxpkdgP5ANrPyVQl4/WvSQIa45Uz+3VT47SJ5HP0PIUzh9m0A/fnc/L1s5Kz9MbneDJpE2P4fLFsrGreM+enUUO6gxMj9L5QSlHFcpP9R6Ae5gYQS/6gsUvfv/Ij+uwYtWn78xP499tCs5ljM/XGBhUanDLj8NMurWQvsuP5RiuFwz8Bk/N1hCu2aZJT/KcBuRGNIrP/q5E38joDM/u1HaTf/B/z7kXvsqQq8kPw==",
          "dtype": "f8"
         }
        },
        {
         "hoverinfo": "skip",
         "line": {
          "color": "#61fc6c"
         },
         "mode": "lines",
         "showlegend": false,
         "type": "scatter",
         "x": {
          "bdata": "Sa+8mvLXGj8ndjiqb2UdPwQ9tLns8h8/8QGY5DRAIT9g5VVs84YiP8/IE/SxzSM/PqzRe3AUJT+sj48DL1smPxxzTYvtoSc/ilYLE6zoKD/6Ocmaai8qP2gdhyIpdis/1wBFque8LD9G5AIypgMuP7THwLlkSi8/klW/oJFIMD9JR57k8OswPwE5fShQjzE/uCpcbK8yMj9wHDuwDtYyPycOGvRteTM/3v/4N80cND+W8dd7LMA0P03jtr+LYzU/BdWVA+sGNj+8xnRHSqo2P3O4U4upTTc/K6oyzwjxNz/imxETaJQ4P5qN8FbHNzk/UX/PmibbOT8Jca7ehX46P8BijSLlITs/d1RsZkTFOz8vRkuqo2g8P+Y3Ku4CDD0/nikJMmKvPT9VG+h1wVI+Pw0Nx7kg9j4/xP6l/X+ZPz8+eMKgbx5APxrxsUIfcEA/9Wmh5M7BQD/R4pCGfhNBP61bgCguZUE/idRvyt22QT9kTV9sjQhCP0DGTg49WkI/HD8+sOyrQj/3ty1SnP1CP9MwHfRLT0M/r6kMlvugQz+KIvw3q/JDP2ab69laREQ/QhTbewqWRD8ejcoduudEP/kFur9pOUU/1X6pYRmLRT+x95gDydxFP4xwiKV4LkY/aOl3RyiARj9EYmfp19FGPyDbVouHI0c/+1NGLTd1Rz/XzDXP5sZHP7NFJXGWGEg/jr4UE0ZqSD9qNwS19btIP0aw81alDUk/Iinj+FRfST/9odKaBLFJP9kawjy0Ako/tZOx3mNUSj+QDKGAE6ZKP2yFkCLD90o/SP5/xHJJSz8kd29mIptLP//vXgjS7Es/22hOqoE+TD+34T1MMZBMP5NaLe7g4Uw/btMckJAzTT9KTAwyQIVNPybF+9Pv1k0/AT7rdZ8oTj/dttoXT3pOP7kvyrn+y04/lai5W64dTz9wIan9XW9PP0yamJ8NwU8/lAnEoF4JUD8CxrtxNjJQP3CCs0IOW1A/3j6rE+aDUD9M+6LkvaxQP7m3mrWV1VA/J3SShm3+UD+VMIpXRSdRPwPtgSgdUFE/cal5+fR4UT/fZXHKzKFRP00iaZukylE/u95gbHzzUT8pm1g9VBxSP5ZXUA4sRVI/BBRI3wNuUj9y0D+w25ZSP+CMN4Gzv1I/TkkvUovoUj+8BScjYxFTPyrCHvQ6OlM/l34WxRJjUz8FOw6W6otTP3P3BWfCtFM/4bP9N5rdUz9PcPUIcgZUP70s7dlJL1Q/K+nkqiFYVD+Ypdx7+YBUPwZi1EzRqVQ/dB7MHanSVD/i2sPugPtUP1CXu79YJFU/vlOzkDBNVT8sEKthCHZVP5nMojLgnlU/B4maA7jHVT91RZLUj/BVP+MBiqVnGVY/Ub6Bdj9CVj+/enlHF2tWPy03cRjvk1Y/mvNo6ca8Vj8IsGC6nuVWP3ZsWIt2Dlc/5ChQXE43Vz9S5UctJmBXP8ChP/79iFc/Ll43z9WxVz+bGi+grdpXPwnXJnGFA1g/d5MeQl0sWD/lTxYTNVVYP1MMDuQMflg/wcgFteSmWD8vhf2FvM9YP5xB9VaU+Fg/Cv7sJ2whWT94uuT4Q0pZP+Z23Mkbc1k/VDPUmvObWT/C78try8RZPzCswzyj7Vk/nWi7DXsWWj8LJbPeUj9aP3nhqq8qaFo/552igAKRWj9VWppR2rlaP8MWkiKy4lo/MdOJ84kLWz+fj4HEYTRbPwxMeZU5XVs/eghxZhGGWz/oxGg36a5bP1aBYAjB11s/xD1Y2ZgAXD8y+k+qcClcP6C2R3tIUlw/DXM/TCB7XD97Lzcd+KNcP+nrLu7PzFw/V6gmv6f1XD/FZB6Qfx5dPzMhFmFXR10/od0NMi9wXT8OmgUDB5ldP3xW/dPewV0/6hL1pLbqXT9Yz+x1jhNeP8aL5EZmPF4/NEjcFz5lXj+iBNToFY5ePw/By7nttl4/fX3DisXfXj/rObtbnQhfP1n2six1MV8/x7Kq/UxaXz81b6LOJINfP6Mrmp/8q18/EOiRcNTUXz9+pIlBrP1fP3awQAlCE2A/rY688a0nYD/kbDjaGTxgPxtLtMKFUGA/Uikwq/FkYD+IB6yTXXlgP7/lJ3zJjWA/9sOjZDWiYD8toh9NobZgP2SAmzUNy2A/m14XHnnfYD/SPJMG5fNgPwkbD+9QCGE/QPmK17wcYT931wbAKDFhP661gqiURWE/5JP+kABaYT8bcnp5bG5hP1JQ9mHYgmE/iS5ySkSXYT/ADO4ysKthP/fqaRscwGE/LsnlA4jUYT9lp2Hs8+hhP5yF3dRf/WE/02NZvcsRYj8KQtWlNyZiP0EgUY6jOmI/eP7Mdg9PYj+v3Ehfe2NiP+W6xEfnd2I/HJlAMFOMYj9Td7wYv6BiP4pVOAErtWI/wTO06ZbJYj/4ETDSAt5iPy/wq7pu8mI/Zs4no9oGYz+drKOLRhtjP9SKH3SyL2M/C2mbXB5EYz9CRxdFilhjP3klky32bGM/sAMPFmKBYz/m4Yr+zZVjPx3ABuc5qmM/VJ6Cz6W+Yz+LfP63EdNjP8JaeqB952M/+Tj2iOn7Yz8wF3JxVRBkP2f17VnBJGQ/ntNpQi05ZD/VseUqmU1kPwyQYRMFYmQ/Q27d+3B2ZD96TFnk3IpkP7Eq1cxIn2Q/5whRtbSzZD8e58ydIMhkP1XFSIaM3GQ/jKPEbvjwZD/DgUBXZAVlP/pfvD/QGWU/MT44KDwuZT9oHLQQqEJlP5/6L/kTV2U/1tir4X9rZT8NtyfK639lP0SVo7JXlGU/e3Mfm8OoZT+yUZuDL71lP+kvF2yb0WU/Hw6TVAfmZT9W7A49c/plP43KiiXfDmY/xKgGDksjZj/7hoL2tjdmPzJl/t4iTGY/aUN6x45gZj+gIfav+nRmP9f/cZhmiWY/Dt7tgNKdZj9FvGlpPrJmP3ya5VGqxmY/s3hhOhbbZj/qVt0igu9mPyA1WQvuA2c/VxPV81kYZz+O8VDcxSxnP8XPzMQxQWc//K1IrZ1VZz8zjMSVCWpnP2pqQH51fmc/oUi8ZuGSZz/YJjhPTadnPw8FtDe5u2c/RuMvICXQZz99wasIkeRnP7SfJ/H8+Gc/632j2WgNaD8hXB/C1CFoP1g6m6pANmg/jxgXk6xKaD/G9pJ7GF9oP/3UDmSEc2g/NLOKTPCHaD9rkQY1XJxoP6Jvgh3IsGg/2U3+BTTFaD8QLHrun9loP0cK9tYL7mg/fuhxv3cCaT+1xu2n4xZpP+ykaZBPK2k/IoPleLs/aT9ZYWFhJ1RpP5A/3UmTaGk/xx1ZMv98aT/++9Qaa5FpPzXaUAPXpWk/bLjM60K6aT+jlkjUrs5pP9p0xLwa42k/EVNApYb3aT9IMbyN8gtqP38POHZeIGo/tu2zXso0aj/tyy9HNklqPySqqy+iXWo/WognGA5yaj+RZqMAeoZqP8hEH+nlmmo//yKb0VGvaj82ARe6vcNqP23fkqIp2Go/pL0Oi5Xsaj/bm4pzAQFrPxJ6BlxtFWs/SViCRNkpaz+ANv4sRT5rP7cUehWxUms/7vL1/Rxnaz8l0XHmiHtrP1uv7c70j2s/ko1pt2Ckaz/Ja+WfzLhrPwBKYYg4zWs/NyjdcKThaz9uBllZEPZrP6Xk1EF8Cmw/3MJQKugebD8TocwSVDNsP0p/SPu/R2w/gV3E4ytcbD+4O0DMl3BsP+8ZvLQDhWw/Jvg3nW+ZbD9c1rOF261sP5O0L25Hwmw/ypKrVrPWbD8BcSc/H+tsPzhPoyeL/2w/by0fEPcTbT+mC5v4YihtP93pFuHOPG0/FMiSyTpRbT9Lpg6ypmVtP4KEipoSem0/uWIGg36ObT/wQIJr6qJtPycf/lNWt20/Xf15PMLLbT+U2/UkLuBtP8u5cQ2a9G0/Apjt9QUJbj85dmnecR1uP3BU5cbdMW4/pzJhr0lGbj/eEN2XtVpuPxXvWIAhb24/TM3UaI2Dbj+Dq1BR+ZduP7qJzDllrG4/8WdIItHAbj8oRsQKPdVuP14kQPOo6W4/lQK82xT+bj/M4DfEgBJvPwO/s6zsJm8/Op0vlVg7bz9xe6t9xE9vP6hZJ2YwZG8/3zejTpx4bz8WFh83CI1vP030mh90oW8/hNIWCOC1bz+7sJLwS8pvP/KODtm33m8/KW2KwSPzbz+wJQPVxwNwP8sUQcn9DXA/5wN/vTMYcD8C87yxaSJwPx7i+qWfLHA/OdE4mtU2cD9VwHaOC0FwP3CvtIJBS3A/jJ7ydndVcD+njTBrrV9wP8N8bl/jaXA/3musUxl0cD/5WupHT35wPxVKKDyFiHA/MDlmMLuScD9MKKQk8ZxwP2cX4hgnp3A/gwYgDV2xcD+e9V0Bk7twP7rkm/XIxXA/1dPZ6f7PcD/xwhfeNNpwPwyyVdJq5HA/J6GTxqDucD9DkNG61vhwP15/D68MA3E/em5No0INcT+VXYuXeBdxP7FMyYuuIXE/zDsHgOQrcT/oKkV0GjZxPwMag2hQQHE/HwnBXIZKcT86+P5QvFRxP1bnPEXyXnE/cdZ6OShpcT+MxbgtXnNxP6i09iGUfXE/w6M0FsqHcT/fknIKAJJxP/qBsP41nHE/FnHu8mumcT8xYCznobBxP01PatvXunE/aD6ozw3FcT+ELebDQ89xP58cJLh52XE/uwtirK/jcT/W+p+g5e1xP/Lp3ZQb+HE/DdkbiVECcj8oyFl9hwxyP0S3l3G9FnI/X6bVZfMgcj97lRNaKStyP5aEUU5fNXI/snOPQpU/cj/NYs02y0lyP+lRCysBVHI/BEFJHzdecj8gMIcTbWhyPzsfxQejcnI/Vw4D/Nh8cj9y/UDwDodyP47sfuREkXI/qdu82Hqbcj/EyvrMsKVyP+C5OMHmr3I/+6h2tRy6cj8XmLSpUsRyPzKH8p2IznI/TnYwkr7Ycj9pZW6G9OJyP4VUrHoq7XI/oEPqbmD3cj+8MihjlgFzP9chZlfMC3M/8xCkSwIWcz8OAOI/OCBzPynvHzRuKnM/Rd5dKKQ0cz9gzZsc2j5zP3y82RAQSXM/l6sXBUZTcz+zmlX5e11zP86Jk+2xZ3M/6njR4edxcz8FaA/WHXxzPyFXTcpThnM/PEaLvomQcz9YNcmyv5pzP3MkB6f1pHM/jxNFmyuvcz+qAoOPYblzP8XxwIOXw3M/4eD+d83Ncz/8zzxsA9hzPxi/emA54nM/M664VG/scz9PnfZIpfZzP2qMND3bAHQ/hntyMRELdD+harAlRxV0P71Z7hl9H3Q/2EgsDrMpdD/0N2oC6TN0Pw8nqPYePnQ/Khbm6lRIdD9GBSTfilJ0P2H0YdPAXHQ/feOfx/ZmdD+Y0t27LHF0P7TBG7Bie3Q/z7BZpJiFdD/rn5eYzo90PwaP1YwEmnQ/In4TgTqkdD89bVF1cK50P1lcj2mmuHQ/dEvNXdzCdD+QOgtSEs10P6spSUZI13Q/xhiHOn7hdD/iB8UutOt0P/32AiPq9XQ/GeZAFyAAdT801X4LVgp1P1DEvP+LFHU/a7P688EedT+Hojjo9yh1P6KRdtwtM3U/voC00GM9dT/Zb/LEmUd1P/VeMLnPUXU/EE5urQVcdT8sPayhO2Z1P0cs6pVxcHU/Yhsoiqd6dT9+CmZ+3YR1P5n5o3ITj3U/tejhZkmZdT/Q1x9bf6N1P+zGXU+1rXU/B7abQ+u3dT8jpdk3IcJ1Pz6UFyxXzHU/WoNVII3WdT91cpMUw+B1P5Fh0Qj56nU/rFAP/S71dT/HP03xZP91P+Mui+WaCXY//h3J2dATdj8aDQfOBh52PzX8RMI8KHY/UeuCtnIydj9s2sCqqDx2P4jJ/p7eRnY/o7g8kxRRdj+/p3qHSlt2P9qWuHuAZXY/9oX2b7Zvdj8RdTRk7Hl2Py1kclgihHY/SFOwTFiOdj9jQu5Ajph2P38xLDXEonY/miBqKfqsdj+2D6gdMLd2P9H+5RFmwXY/7e0jBpzLdj8I3WH60dV2PyTMn+4H4HY/P7vd4j3qdj9bqhvXc/R2P3aZWcup/nY/koiXv98Idz+td9WzFRN3P8hmE6hLHXc/5FVRnIEndz//RI+QtzF3Pxs0zYTtO3c/NiMLeSNGdz9SEkltWVB3P20Bh2GPWnc/ifDEVcVkdz+k3wJK+253P8DOQD4xeXc/271+MmeDdz/3rLwmnY13PxKc+hrTl3c/Los4Dwmidz9JenYDP6x3P2RptPd0tnc/gFjy66rAdz+bRzDg4Mp3P7c2btQW1Xc/0iWsyEzfdz/uFOq8gul3PwkEKLG483c/JfNlpe79dz9A4qOZJAh4P1zR4Y1aEng/d8AfgpAceD+Tr112xiZ4P66em2r8MHg/yo3ZXjI7eD/lfBdTaEV4PwBsVUeeT3g/HFuTO9RZeD83StEvCmR4P1M5DyRAbng/bihNGHZ4eD+KF4sMrIJ4P6UGyQDijHg/wfUG9ReXeD/c5ETpTaF4P/jTgt2Dq3g/E8PA0bm1eD8vsv7F7794P0qhPLolyng/ZZB6rlvUeD+Bf7iikd54P5xu9pbH6Hg/uF00i/3yeD/TTHJ/M/14P+87sHNpB3k/CivuZ58ReT8mGixc1Rt5P0EJalALJnk/XfinREEweT945+U4dzp5P5TWIy2tRHk/r8VhIeNOeT/LtJ8VGVl5P+aj3QlPY3k/AZMb/oRteT8dglnyund5Pzhxl+bwgXk/VGDV2iaMeT9vTxPPXJZ5P4s+UcOSoHk/pi2Pt8iqeT/CHM2r/rR5P90LC6A0v3k/+fpIlGrJeT8U6oaIoNN5PzDZxHzW3Xk/S8gCcQzoeT9nt0BlQvJ5P4Kmfll4/Hk/nZW8Ta4Gej+5hPpB5BB6P9RzODYaG3o/8GJ2KlAlej8LUrQehi96PydB8hK8OXo/QjAwB/JDej9eH277J056P3kOrO9dWHo/lf3p45Niej+w7CfYyWx6P8zbZcz/dno/58qjwDWBej8CuuG0a4t6Px6pH6mhlXo/OZhdndefej9Vh5uRDap6P3B22YVDtHo/jGUXenm+ej+nVFVur8h6P8NDk2Ll0no/3jLRVhvdej/6IQ9LUed6PxURTT+H8Xo/MQCLM737ej9M78gn8wV7P2jeBhwpEHs/g81EEF8aez+evIIElSR7P7qrwPjKLns/1Zr+7AA5ez/xiTzhNkN7Pwx5etVsTXs/KGi4yaJXez9DV/a92GF7P19GNLIObHs/ejVypkR2ez+WJLCaeoB7P7ET7o6wins/zQIsg+aUez/o8Wl3HJ97PwPhp2tSqXs/H9DlX4izez86vyNUvr17P1auYUj0x3s/cZ2fPCrSez+NjN0wYNx7P6h7GyWW5ns/xGpZGczwez/fWZcNAvt7P/tI1QE4BXw/FjgT9m0PfD8yJ1Hqoxl8P00Wj97ZI3w/aQXN0g8ufD+E9ArHRTh8P5/jSLt7Qnw/u9KGr7FMfD/WwcSj51Z8P/KwApgdYXw/DaBAjFNrfD8pj36AiXV8P0R+vHS/f3w/YG36aPWJfD97XDhdK5R8P5dLdlFhnnw/sjq0RZeofD/OKfI5zbJ8P+kYMC4DvXw/BQhuIjnHfD8g96sWb9F8Pzvm6Qql23w/V9Un/9rlfD9yxGXzEPB8P46zo+dG+nw/qaLh23wEfT/FkR/Qsg59P+CAXcToGH0//G+buB4jfT8XX9msVC19PzNOF6GKN30/Tj1VlcBBfT9qLJOJ9kt9P4Ub0X0sVn0/oAoPcmJgfT+8+UxmmGp9P9foilrOdH0/89fITgR/fT8OxwZDOol9Pyq2RDdwk30/RaWCK6adfT9hlMAf3Kd9P3yD/hMSsn0/mHI8CEi8fT+zYXr8fcZ9P89QuPCz0H0/6j/25OnafT8GLzTZH+V9PyEecs1V730/PA2wwYv5fT9Y/O21wQN+P3PrK6r3DX4/j9ppni0Yfj+qyaeSYyJ+P8a45YaZLH4/4acje882fj/9lmFvBUF+PxiGn2M7S34/NHXdV3FVfj9PZBtMp19+P2tTWUDdaX4/hkKXNBN0fj+hMdUoSX5+P70gEx1/iH4/2A9REbWSfj/0/o4F65x+Pw/uzPkgp34/K90K7laxfj9GzEjijLt+P2K7htbCxX4/farEyvjPfj+ZmQK/Ltp+P7SIQLNk5H4/0Hd+p5rufj/rZryb0Ph+PwdW+o8GA38/IkU4hDwNfz89NHZ4chd/P1kjtGyoIX8/dBLyYN4rfz+QATBVFDZ/P6vwbUlKQH8/x9+rPYBKfz/izukxtlR/P/69JybsXn8/Ga1lGiJpfz81nKMOWHN/P1CL4QKOfX8/bHof98OHfz+HaV3r+ZF/P6NYm98vnH8/vkfZ02Wmfz/ZNhfIm7B/P/UlVbzRun8/EBWTsAfFfz8sBNGkPc9/P0fzDplz2X8/Y+JMjanjfz9+0YqB3+1/P5rAyHUV+H8/21cDtSUBgD9pTyKvQAaAP/ZGQalbC4A/hD5go3YQgD8SNn+dkRWAP58tnpesGoA/LSW9kccfgD+7HNyL4iSAP0kU+4X9KYA/1gsagBgvgD9kAzl6MzSAP/L6V3ROOYA/gPJ2bmk+gD8O6pVohEOAP5vhtGKfSIA/KdnTXLpNgD+30PJW1VKAP0XIEVHwV4A/0r8wSwtdgD9gt09FJmKAP+6ubj9BZ4A/e6aNOVxsgD8Jnqwzd3GAP5eVyy2SdoA/JY3qJ617gD+yhAkiyICAP0B8KBzjhYA/znNHFv6KgD9ca2YQGZCAP+lihQo0lYA/d1qkBE+agD8FUsP+aZ+AP5NJ4viEpIA/IEEB85+pgD+uOCDtuq6APzwwP+fVs4A/ySde4fC4gD9XH33bC76AP+UWnNUmw4A/cw67z0HIgD8ABtrJXM2AP479+MN30oA/HPUXvpLXgD+q7Da4rdyAPzfkVbLI4YA/xdt0rOPmgD9T05Om/uuAP+HKsqAZ8YA/bsLRmjT2gD/8ufCUT/uAP4qxD49qAIE/F6kuiYUFgT+loE2DoAqBPzOYbH27D4E/wY+Ld9YUgT9Oh6px8RmBP9x+yWsMH4E/anboZSckgT/4bQdgQimBP4VlJlpdLoE/E11FVHgzgT+hVGROkziBPy5Mg0iuPYE/vEOiQslCgT9KO8E85EeBP9gy4Db/TIE/ZSr/MBpSgT/zIR4rNVeBP4EZPSVQXIE/DxFcH2thgT+cCHsZhmaBPyoAmhOha4E/uPe4DbxwgT9G79cH13WBP9Pm9gHyeoE/Yd4V/AyAgT/v1TT2J4WBP3zNU/BCioE/CsVy6l2PgT+YvJHkeJSBPya0sN6TmYE/s6vP2K6egT9Bo+7SyaOBP8+aDc3kqIE/XZIsx/+tgT/qiUvBGrOBP3iBars1uIE/BnmJtVC9gT+UcKiva8KBPyFox6mGx4E/r1/mo6HMgT89VwWevNGBP8pOJJjX1oE/WEZDkvLbgT/mPWKMDeGBP3Q1gYYo5oE/AS2ggEPrgT+PJL96XvCBPx0c3nR59YE/qxP9bpT6gT84Cxxpr/+BP8YCO2PKBII/VPpZXeUJgj/i8XhXAA+CP2/pl1EbFII//eC2SzYZgj+L2NVFUR6CPxjQ9D9sI4I/pscTOocogj80vzI0oi2CP8K2US69MoI/T65wKNg3gj/dpY8i8zyCP2udrhwOQoI/+ZTNFilHgj+GjOwQREyCPxSECwtfUYI/onsqBXpWgj8wc0n/lFuCP71qaPmvYII/S2KH88plgj/ZWabt5WqCP2ZRxecAcII/9Ejk4Rt1gj+CQAPcNnqCPxA4ItZRf4I/nS9B0GyEgj8rJ2DKh4mCP7kef8SijoI/Rxaevr2Tgj/UDb242JiCP2IF3LLznYI/8Pz6rA6jgj999BmnKaiCPwvsOKFErYI/meNXm1+ygj8n23aVereCP7TSlY+VvII/Qsq0ibDBgj/QwdODy8aCP1658n3my4I/67AReAHRgj95qDByHNaCPwegT2w324I/lZduZlLggj8ij41gbeWCP7CGrFqI6oI/Pn7LVKPvgj/LdepOvvSCP1ltCUnZ+YI/52QoQ/T+gj91XEc9DwSDPwJUZjcqCYM/kEuFMUUOgz8eQ6QrYBODP6w6wyV7GIM/OTLiH5Ydgz/HKQEasSKDP1UhIBTMJ4M/4xg/Ducsgz9wEF4IAjKDP/4HfQIdN4M/jP+b/Dc8gz8Z97r2UkGDP6fu2fBtRoM/Neb46ohLgz/D3Rflo1CDP1DVNt++VYM/3sxV2dlagz9sxHTT9F+DP/q7k80PZYM/h7Oyxypqgz8Vq9HBRW+DP6Oi8LtgdIM/MZoPtnt5gz++kS6wln6DP0yJTaqxg4M/2oBspMyIgz9neIue542DP/VvqpgCk4M/g2fJkh2Ygz8RX+iMOJ2DP55WB4dTooM/LE4mgW6ngz+6RUV7iayDP0g9ZHWksYM/1TSDb7+2gz9jLKJp2ruDP/EjwWP1wIM/fxvgXRDGgz8ME/9XK8uDP5oKHlJG0IM/KAI9TGHVgz+1+VtGfNqDP0PxekCX34M/0eiZOrLkgz9f4Lg0zemDP+zX1y7o7oM/es/2KAP0gz8IxxUjHvmDP5a+NB05/oM/I7ZTF1QDhD+xrXIRbwiEPz+lkQuKDYQ/zJywBaUShD9alM//vxeEP+iL7vnaHIQ/doMN9PUhhD8=",
          "dtype": "f8"
         },
         "y": {
          "bdata": "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",
          "dtype": "f8"
         }
        },
        {
         "error_y": {
          "array": {
           "bdata": "uZPaB2JoQT89GprwnbBEP0embLW3jUA/nJttHdWGOT804GMz6SZHP9wnFLgGbzk/Ok5syX5aQz/Ahb59RwJEP7bQ3NmfDEI/12bG5rEUNz+IXKJ3b4o5P07p+zcDCTM/Z2PbhCsLKz8InLZFvkE4P/WEE6IQ5z0/ze6sdfl5QD/YJMb+hOQ1P83dXhP1Hjo/TXqFj/xyMj+9+gHNy1sxP71+Q507mTg/kR/lQwb+Oj8V1puIB30wP1jNPixEfDg/aJTmjkJJMz/hm15dWQE1P9wB+KrEsyU/i5dIIEwQFT/PZUSUBJ0gP30eS4hcySY/xAvlwr7wIj+vm86EzhMwPwiENm2uYSE/X9XMeA46JT/jYJXF6hMqPzXRv6Bz2yQ/CxziKlEZKD+Ue/WcB2klP3Wx0tU21S8/oaAokJyaIj/91Awu0tEgP26cpDoM1CI/B6Ro89WvLT/bgrs+4OcgP4QG8Ew8qBk/sNqiWrLcHj8J8Hmj5BYYP/wkSQ4ZMCE/Pbra0cdWGj/gIe8s3kIaP/NQbMCiFR0/Y4zZIF8CIz+TfxuYo6ImPw==",
           "dtype": "f8"
          },
          "color": "#61fc6c",
          "thickness": 1.5,
          "type": "data",
          "width": 3
         },
         "marker": {
          "color": "#61fc6c"
         },
         "mode": "markers",
         "name": "θ=100°",
         "type": "scatter",
         "x": {
          "bdata": "Sa+8mvLXGj8xRRTu8DIeP43ttaD3xiA/grhhynZ0Ij92gw309SEkP2pOuR11zyU/XxllR/R8Jz9U5BBxcyopP0mvvJry1yo/MUUU7vAyLj+N7bWg98YwP4K4Ycp2dDI/doMN9PUhND9qTrkddc81P18ZZUf0fDc/VOQQcXMqOT9Jr7ya8tc6PzFFFO7wMj4/je21oPfGQD+CuGHKdnRCP3aDDfT1IUQ/ak65HXXPRT9fGWVH9HxHP1TkEHFzKkk/Sa+8mvLXSj8xRRTu8DJOP43ttaD3xlA/grhhynZ0Uj92gw309SFUP2pOuR11z1U/XxllR/R8Vz9U5BBxcypZP0mvvJry11o/MUUU7vAyXj+N7bWg98ZgP4K4Ycp2dGI/doMN9PUhZD9qTrkddc9lP18ZZUf0fGc/VOQQcXMqaT9Jr7ya8tdqPzFFFO7wMm4/je21oPfGcD+CuGHKdnRyP3aDDfT1IXQ/ak65HXXPdT9fGWVH9Hx3P1TkEHFzKnk/Sa+8mvLXej8xRRTu8DJ+P43ttaD3xoA/grhhynZ0gj92gw309SGEPw==",
          "dtype": "f8"
         },
         "y": {
          "bdata": "aJt2jIbnrD+wnqQKkLKrP58Y/nhUoao/ElN9QtGXqT9yBcpcz8aoP8EC8+vikac/7w+lB08ypz8B3Zcz2xWmP4C7R5EQQKU/5NXeTPFdoz/Nfc3NkluiP0RMLmsHyKA/uuRuxh/7nz9sBOJ1/YKdP66UCs/wC5w/Z7Ik5ZO6mT/eyafHtgyYP4qh5vVxfpQ/rrdymxX2kT+QO1v22iKPP4nETsKWaIo/SLqwf+iThj85aOnppyiEP6qYa03KD4I/TqIUY0/xfj+wO/6Hy1x2P/uf9GzzUnM/xUMQzkRkaj+6eGjt8LZmP3plByodi2E//yORhQGuWD9+sOfGTz5YP0kqU8xB0FE/pQdwQGxlST996mIXaB5AP5zNLAdPKDE/9o+42bVDF7/Mt8xWT8ciPyZ2rfgfBAi/JGx1whZ+Gj+1SHViWMMaP+wO6qEEnSM/0kKS8dlOLD/XFhWmLJkMPw+prcYO+QI/xeZQd39rIL+cghMJWgwkv2tQGOZKktK+E/D1Ooz+FT+8+RDLmwApP0e8VvEvShy/cxMp1Ol1Eb8v6dnA3kMgvw==",
          "dtype": "f8"
         }
        },
        {
         "hoverinfo": "skip",
         "line": {
          "color": "#a4fc3b"
         },
         "mode": "lines",
         "showlegend": false,
         "type": "scatter",
         "x": {
          "bdata": "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",
          "dtype": "f8"
         },
         "y": {
          "bdata": "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",
          "dtype": "f8"
         }
        },
        {
         "error_y": {
          "array": {
           "bdata": "SRr4bS4qRD8zhYalXZ46P9Wb3lIlMz8/b4XrIYKUMz8k8VuBopM8P6gS9QAjYT0/bX/7500IQj8s2GJ/OUE/PyFejCbnDTQ/58GF2M6SPj+2Niq73cozPx9u6dGjCjs/HDiEKvhQOT9yTb6+DIoxP0w7WV5BTTY/tJcQUaVmOz8l0//xoT1AP59R1bbVVDA/6IFwbYfrOj93FqSBcgoyP28y6TXh1DE/P0yytoNUJz9s3ukY3xQtP4TYQA0chDY/8e4wipxEKz87YMyxHf4tP2Ms+h0N9ig/TQUbYLpVJj+6gYjsesoxP2EAVjzb+CQ/7c3TUgQrNj8EOYkzeFYqP53fHUH/wSE/mw8B1YtvIj90CmgdjlEoP8M4J5UbMiI/+c4ijk6IJj85o4ZC8fYbPwA57UJOEyo/SA4W7v+WKz8LoDKkSrIiP1+SEF1YISQ/vUoAv6WWID/nWK08bzAhP3d0dCsDwhs/n6ogIjfmIz8D09p9mpAiPzbHyckufiQ/GWflYQodHj8cZAX4T/gfP5lcoTuAriE/I9webNdHID8V8rq3JAIjPw==",
           "dtype": "f8"
          },
          "color": "#a4fc3b",
          "thickness": 1.5,
          "type": "data",
          "width": 3
         },
         "marker": {
          "color": "#a4fc3b"
         },
         "mode": "markers",
         "name": "θ=110°",
         "type": "scatter",
         "x": {
          "bdata": "Sa+8mvLXGj8xRRTu8DIeP43ttaD3xiA/grhhynZ0Ij92gw309SEkP2pOuR11zyU/XxllR/R8Jz9U5BBxcyopP0mvvJry1yo/MUUU7vAyLj+N7bWg98YwP4K4Ycp2dDI/doMN9PUhND9qTrkddc81P18ZZUf0fDc/VOQQcXMqOT9Jr7ya8tc6PzFFFO7wMj4/je21oPfGQD+CuGHKdnRCP3aDDfT1IUQ/ak65HXXPRT9fGWVH9HxHP1TkEHFzKkk/Sa+8mvLXSj8xRRTu8DJOP43ttaD3xlA/grhhynZ0Uj92gw309SFUP2pOuR11z1U/XxllR/R8Vz9U5BBxcypZP0mvvJry11o/MUUU7vAyXj+N7bWg98ZgP4K4Ycp2dGI/doMN9PUhZD9qTrkddc9lP18ZZUf0fGc/VOQQcXMqaT9Jr7ya8tdqPzFFFO7wMm4/je21oPfGcD+CuGHKdnRyP3aDDfT1IXQ/ak65HXXPdT9fGWVH9Hx3P1TkEHFzKnk/Sa+8mvLXej8xRRTu8DJ+P43ttaD3xoA/grhhynZ0gj92gw309SGEPw==",
          "dtype": "f8"
         },
         "y": {
          "bdata": "dqc7Tzxnqz+qUml6PySqP1IFSNnHr6g/Cu6sgr0uqD8SzfIrjOOmP2lhBa7h2KU/DhnqC3ygpD//+AH+38ejP6nMg6qHHqM/B5W4jnHFoT/0Wyoluh2gP98IQf0dQJ0/UHLiBtc3mz8G8LuO3aqYP1yIH617dZc/Ew1S8BRylT+ip7f1ifKTP8xivazkvpA/Y66x8Jr8iz/xFM1eEVeJP60Fi/1E6YM/TJF0tEf7gT+P0EMr/3N7P5v1lGJo8Xk/gUsZm8pgdD8U1gCEk11uPw9o4Zlt+mU/2Dgw8/ztWz97LSraA0pWP0M2VoOsflc/D0FZIXqMUT8T0D8fN4xKPymmR12vDEE/jPfHoZxtMD+EJQWzldkYP42uVhYawjA/mmOS9N1rED/FxSvy5s4ev1mPdvkh8QU/tN157KvOIT8W3CheIOIBP9oMncI92xK/SuKQfIoEGD9oX/MNsAYUP12e4PhgbRq/huBijOIxEL+WM9kUz6Yhv0pDFjTwTSq/mqPTYgyGHL/XClsyFYIPv0OfJCkdLxM/BLQFsaBq/D6sfhbbhd7yvg==",
          "dtype": "f8"
         }
        },
        {
         "hoverinfo": "skip",
         "line": {
          "color": "#d1e834"
         },
         "mode": "lines",
         "showlegend": false,
         "type": "scatter",
         "x": {
          "bdata": "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",
          "dtype": "f8"
         },
         "y": {
          "bdata": "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",
          "dtype": "f8"
         }
        },
        {
         "error_y": {
          "array": {
           "bdata": "ssM+6p1kQz92/uEzefFDPyOu5Coir0U/hJMI84QBMj+EtdksxSM9P+SMa/XjjTs/A7nD/FsIQj+/bChf2po8P9/fWySJfzo/6IewnAydOj8xLDQU/F9APyQCZ32iKkQ/iUT9q9+wNz+8ihT4H+ZBP8w1WO3ooz0/E0x/GLb7ID/XRUYkIRUlP5l4e4YYMC0/UQd18HdcMz+/dsarn/81P9Sbw/9YmS0/T0y6ZkB+Lj9BcheKFOkwPwVgt7q/7Dg/5qGQEJ1kID8bSttEL/UyP5OBEFUXPiw/uLpqioi4Lz/WrDrtg2AkPzAEFsghzSo/O9zg77gqMD956FpftysxPwjvGLgzYC4/b2BAaUXHLz9xsDX+W3IqP1vlLjUhcSs/WP8pVhsoLT+ollTmniIhPwN2yPu8byc/Lc4J7R7LFT+N7ohtO3cgP8ijubsWPiA/Wcp9KdFeID/P+iyoOc4iP4U0AQYWKSg/T7+cOTH4Jz/PgI+ZIAIkP77CSpadMiE/G9YF6KAtJT9rh7nwQNghP40LW/InBiA/34+2m1RtGD/pKnUizEQjPw==",
           "dtype": "f8"
          },
          "color": "#d1e834",
          "thickness": 1.5,
          "type": "data",
          "width": 3
         },
         "marker": {
          "color": "#d1e834"
         },
         "mode": "markers",
         "name": "θ=120°",
         "type": "scatter",
         "x": {
          "bdata": "Sa+8mvLXGj8xRRTu8DIeP43ttaD3xiA/grhhynZ0Ij92gw309SEkP2pOuR11zyU/XxllR/R8Jz9U5BBxcyopP0mvvJry1yo/MUUU7vAyLj+N7bWg98YwP4K4Ycp2dDI/doMN9PUhND9qTrkddc81P18ZZUf0fDc/VOQQcXMqOT9Jr7ya8tc6PzFFFO7wMj4/je21oPfGQD+CuGHKdnRCP3aDDfT1IUQ/ak65HXXPRT9fGWVH9HxHP1TkEHFzKkk/Sa+8mvLXSj8xRRTu8DJOP43ttaD3xlA/grhhynZ0Uj92gw309SFUP2pOuR11z1U/XxllR/R8Vz9U5BBxcypZP0mvvJry11o/MUUU7vAyXj+N7bWg98ZgP4K4Ycp2dGI/doMN9PUhZD9qTrkddc9lP18ZZUf0fGc/VOQQcXMqaT9Jr7ya8tdqPzFFFO7wMm4/je21oPfGcD+CuGHKdnRyP3aDDfT1IXQ/ak65HXXPdT9fGWVH9Hx3P1TkEHFzKnk/Sa+8mvLXej8xRRTu8DJ+P43ttaD3xoA/grhhynZ0gj92gw309SGEPw==",
          "dtype": "f8"
         },
         "y": {
          "bdata": "BKvq5XeaqD9fQZqxaDqnP8lHQaZr3KU/wPJ79rdfpT+3SDVHsTekPwBe+vJdpaI/K/pDM0+uoT8CfceVH12hP5tv6T06GqA/FOl+TkF+nj85OY3+4fibP8VdGET/X5g//cRcrW5Qlj8P23EeqRmVP5yoAHOIE5M/nFZlOs8zkT/FBJA1fjyPP2zVCcPb3ok/AE6UKYtnhT+0FeIuTr6BP21h7VoIk34/TuqRJ8WeeD+he5yK0N92P3MzeVYUp3E/McgCy7Z4bT/Pz/1qSLtlP38gcXYIb2E/0wH/Sp02WT9oFWg9nadRP2VhAayLZEo/3YPnEP5mTj/IqMinG7ZKP5ibJm5ARD0/v47QN29BAr86lsNjSf0oP6Ca14AkxiQ/LPkuXlmNOD+cSyAO2vctPzFt+BBmcBo/HID7pFRuFD8SMCwSIv8dvysbVYvh0dq+NPvCf0gsKr92Qgb3pawmv0gppiPgVvG+K69MaGj9Cr+R3UlnBywOv1Z576Hl/Ra/Q9Ewe2hG575ooTyqnCElP7iNzESNGRM/40Aectn+Az/k++zECIgpPw==",
          "dtype": "f8"
         }
        },
        {
         "hoverinfo": "skip",
         "line": {
          "color": "#f3c63a"
         },
         "mode": "lines",
         "showlegend": false,
         "type": "scatter",
         "x": {
          "bdata": "Sa+8mvLXGj8ndjiqb2UdPwQ9tLns8h8/8QGY5DRAIT9g5VVs84YiP8/IE/SxzSM/PqzRe3AUJT+sj48DL1smPxxzTYvtoSc/ilYLE6zoKD/6Ocmaai8qP2gdhyIpdis/1wBFque8LD9G5AIypgMuP7THwLlkSi8/klW/oJFIMD9JR57k8OswPwE5fShQjzE/uCpcbK8yMj9wHDuwDtYyPycOGvRteTM/3v/4N80cND+W8dd7LMA0P03jtr+LYzU/BdWVA+sGNj+8xnRHSqo2P3O4U4upTTc/K6oyzwjxNz/imxETaJQ4P5qN8FbHNzk/UX/PmibbOT8Jca7ehX46P8BijSLlITs/d1RsZkTFOz8vRkuqo2g8P+Y3Ku4CDD0/nikJMmKvPT9VG+h1wVI+Pw0Nx7kg9j4/xP6l/X+ZPz8+eMKgbx5APxrxsUIfcEA/9Wmh5M7BQD/R4pCGfhNBP61bgCguZUE/idRvyt22QT9kTV9sjQhCP0DGTg49WkI/HD8+sOyrQj/3ty1SnP1CP9MwHfRLT0M/r6kMlvugQz+KIvw3q/JDP2ab69laREQ/QhTbewqWRD8ejcoduudEP/kFur9pOUU/1X6pYRmLRT+x95gDydxFP4xwiKV4LkY/aOl3RyiARj9EYmfp19FGPyDbVouHI0c/+1NGLTd1Rz/XzDXP5sZHP7NFJXGWGEg/jr4UE0ZqSD9qNwS19btIP0aw81alDUk/Iinj+FRfST/9odKaBLFJP9kawjy0Ako/tZOx3mNUSj+QDKGAE6ZKP2yFkCLD90o/SP5/xHJJSz8kd29mIptLP//vXgjS7Es/22hOqoE+TD+34T1MMZBMP5NaLe7g4Uw/btMckJAzTT9KTAwyQIVNPybF+9Pv1k0/AT7rdZ8oTj/dttoXT3pOP7kvyrn+y04/lai5W64dTz9wIan9XW9PP0yamJ8NwU8/lAnEoF4JUD8CxrtxNjJQP3CCs0IOW1A/3j6rE+aDUD9M+6LkvaxQP7m3mrWV1VA/J3SShm3+UD+VMIpXRSdRPwPtgSgdUFE/cal5+fR4UT/fZXHKzKFRP00iaZukylE/u95gbHzzUT8pm1g9VBxSP5ZXUA4sRVI/BBRI3wNuUj9y0D+w25ZSP+CMN4Gzv1I/TkkvUovoUj+8BScjYxFTPyrCHvQ6OlM/l34WxRJjUz8FOw6W6otTP3P3BWfCtFM/4bP9N5rdUz9PcPUIcgZUP70s7dlJL1Q/K+nkqiFYVD+Ypdx7+YBUPwZi1EzRqVQ/dB7MHanSVD/i2sPugPtUP1CXu79YJFU/vlOzkDBNVT8sEKthCHZVP5nMojLgnlU/B4maA7jHVT91RZLUj/BVP+MBiqVnGVY/Ub6Bdj9CVj+/enlHF2tWPy03cRjvk1Y/mvNo6ca8Vj8IsGC6nuVWP3ZsWIt2Dlc/5ChQXE43Vz9S5UctJmBXP8ChP/79iFc/Ll43z9WxVz+bGi+grdpXPwnXJnGFA1g/d5MeQl0sWD/lTxYTNVVYP1MMDuQMflg/wcgFteSmWD8vhf2FvM9YP5xB9VaU+Fg/Cv7sJ2whWT94uuT4Q0pZP+Z23Mkbc1k/VDPUmvObWT/C78try8RZPzCswzyj7Vk/nWi7DXsWWj8LJbPeUj9aP3nhqq8qaFo/552igAKRWj9VWppR2rlaP8MWkiKy4lo/MdOJ84kLWz+fj4HEYTRbPwxMeZU5XVs/eghxZhGGWz/oxGg36a5bP1aBYAjB11s/xD1Y2ZgAXD8y+k+qcClcP6C2R3tIUlw/DXM/TCB7XD97Lzcd+KNcP+nrLu7PzFw/V6gmv6f1XD/FZB6Qfx5dPzMhFmFXR10/od0NMi9wXT8OmgUDB5ldP3xW/dPewV0/6hL1pLbqXT9Yz+x1jhNeP8aL5EZmPF4/NEjcFz5lXj+iBNToFY5ePw/By7nttl4/fX3DisXfXj/rObtbnQhfP1n2six1MV8/x7Kq/UxaXz81b6LOJINfP6Mrmp/8q18/EOiRcNTUXz9+pIlBrP1fP3awQAlCE2A/rY688a0nYD/kbDjaGTxgPxtLtMKFUGA/Uikwq/FkYD+IB6yTXXlgP7/lJ3zJjWA/9sOjZDWiYD8toh9NobZgP2SAmzUNy2A/m14XHnnfYD/SPJMG5fNgPwkbD+9QCGE/QPmK17wcYT931wbAKDFhP661gqiURWE/5JP+kABaYT8bcnp5bG5hP1JQ9mHYgmE/iS5ySkSXYT/ADO4ysKthP/fqaRscwGE/LsnlA4jUYT9lp2Hs8+hhP5yF3dRf/WE/02NZvcsRYj8KQtWlNyZiP0EgUY6jOmI/eP7Mdg9PYj+v3Ehfe2NiP+W6xEfnd2I/HJlAMFOMYj9Td7wYv6BiP4pVOAErtWI/wTO06ZbJYj/4ETDSAt5iPy/wq7pu8mI/Zs4no9oGYz+drKOLRhtjP9SKH3SyL2M/C2mbXB5EYz9CRxdFilhjP3klky32bGM/sAMPFmKBYz/m4Yr+zZVjPx3ABuc5qmM/VJ6Cz6W+Yz+LfP63EdNjP8JaeqB952M/+Tj2iOn7Yz8wF3JxVRBkP2f17VnBJGQ/ntNpQi05ZD/VseUqmU1kPwyQYRMFYmQ/Q27d+3B2ZD96TFnk3IpkP7Eq1cxIn2Q/5whRtbSzZD8e58ydIMhkP1XFSIaM3GQ/jKPEbvjwZD/DgUBXZAVlP/pfvD/QGWU/MT44KDwuZT9oHLQQqEJlP5/6L/kTV2U/1tir4X9rZT8NtyfK639lP0SVo7JXlGU/e3Mfm8OoZT+yUZuDL71lP+kvF2yb0WU/Hw6TVAfmZT9W7A49c/plP43KiiXfDmY/xKgGDksjZj/7hoL2tjdmPzJl/t4iTGY/aUN6x45gZj+gIfav+nRmP9f/cZhmiWY/Dt7tgNKdZj9FvGlpPrJmP3ya5VGqxmY/s3hhOhbbZj/qVt0igu9mPyA1WQvuA2c/VxPV81kYZz+O8VDcxSxnP8XPzMQxQWc//K1IrZ1VZz8zjMSVCWpnP2pqQH51fmc/oUi8ZuGSZz/YJjhPTadnPw8FtDe5u2c/RuMvICXQZz99wasIkeRnP7SfJ/H8+Gc/632j2WgNaD8hXB/C1CFoP1g6m6pANmg/jxgXk6xKaD/G9pJ7GF9oP/3UDmSEc2g/NLOKTPCHaD9rkQY1XJxoP6Jvgh3IsGg/2U3+BTTFaD8QLHrun9loP0cK9tYL7mg/fuhxv3cCaT+1xu2n4xZpP+ykaZBPK2k/IoPleLs/aT9ZYWFhJ1RpP5A/3UmTaGk/xx1ZMv98aT/++9Qaa5FpPzXaUAPXpWk/bLjM60K6aT+jlkjUrs5pP9p0xLwa42k/EVNApYb3aT9IMbyN8gtqP38POHZeIGo/tu2zXso0aj/tyy9HNklqPySqqy+iXWo/WognGA5yaj+RZqMAeoZqP8hEH+nlmmo//yKb0VGvaj82ARe6vcNqP23fkqIp2Go/pL0Oi5Xsaj/bm4pzAQFrPxJ6BlxtFWs/SViCRNkpaz+ANv4sRT5rP7cUehWxUms/7vL1/Rxnaz8l0XHmiHtrP1uv7c70j2s/ko1pt2Ckaz/Ja+WfzLhrPwBKYYg4zWs/NyjdcKThaz9uBllZEPZrP6Xk1EF8Cmw/3MJQKugebD8TocwSVDNsP0p/SPu/R2w/gV3E4ytcbD+4O0DMl3BsP+8ZvLQDhWw/Jvg3nW+ZbD9c1rOF261sP5O0L25Hwmw/ypKrVrPWbD8BcSc/H+tsPzhPoyeL/2w/by0fEPcTbT+mC5v4YihtP93pFuHOPG0/FMiSyTpRbT9Lpg6ypmVtP4KEipoSem0/uWIGg36ObT/wQIJr6qJtPycf/lNWt20/Xf15PMLLbT+U2/UkLuBtP8u5cQ2a9G0/Apjt9QUJbj85dmnecR1uP3BU5cbdMW4/pzJhr0lGbj/eEN2XtVpuPxXvWIAhb24/TM3UaI2Dbj+Dq1BR+ZduP7qJzDllrG4/8WdIItHAbj8oRsQKPdVuP14kQPOo6W4/lQK82xT+bj/M4DfEgBJvPwO/s6zsJm8/Op0vlVg7bz9xe6t9xE9vP6hZJ2YwZG8/3zejTpx4bz8WFh83CI1vP030mh90oW8/hNIWCOC1bz+7sJLwS8pvP/KODtm33m8/KW2KwSPzbz+wJQPVxwNwP8sUQcn9DXA/5wN/vTMYcD8C87yxaSJwPx7i+qWfLHA/OdE4mtU2cD9VwHaOC0FwP3CvtIJBS3A/jJ7ydndVcD+njTBrrV9wP8N8bl/jaXA/3musUxl0cD/5WupHT35wPxVKKDyFiHA/MDlmMLuScD9MKKQk8ZxwP2cX4hgnp3A/gwYgDV2xcD+e9V0Bk7twP7rkm/XIxXA/1dPZ6f7PcD/xwhfeNNpwPwyyVdJq5HA/J6GTxqDucD9DkNG61vhwP15/D68MA3E/em5No0INcT+VXYuXeBdxP7FMyYuuIXE/zDsHgOQrcT/oKkV0GjZxPwMag2hQQHE/HwnBXIZKcT86+P5QvFRxP1bnPEXyXnE/cdZ6OShpcT+MxbgtXnNxP6i09iGUfXE/w6M0FsqHcT/fknIKAJJxP/qBsP41nHE/FnHu8mumcT8xYCznobBxP01PatvXunE/aD6ozw3FcT+ELebDQ89xP58cJLh52XE/uwtirK/jcT/W+p+g5e1xP/Lp3ZQb+HE/DdkbiVECcj8oyFl9hwxyP0S3l3G9FnI/X6bVZfMgcj97lRNaKStyP5aEUU5fNXI/snOPQpU/cj/NYs02y0lyP+lRCysBVHI/BEFJHzdecj8gMIcTbWhyPzsfxQejcnI/Vw4D/Nh8cj9y/UDwDodyP47sfuREkXI/qdu82Hqbcj/EyvrMsKVyP+C5OMHmr3I/+6h2tRy6cj8XmLSpUsRyPzKH8p2IznI/TnYwkr7Ycj9pZW6G9OJyP4VUrHoq7XI/oEPqbmD3cj+8MihjlgFzP9chZlfMC3M/8xCkSwIWcz8OAOI/OCBzPynvHzRuKnM/Rd5dKKQ0cz9gzZsc2j5zP3y82RAQSXM/l6sXBUZTcz+zmlX5e11zP86Jk+2xZ3M/6njR4edxcz8FaA/WHXxzPyFXTcpThnM/PEaLvomQcz9YNcmyv5pzP3MkB6f1pHM/jxNFmyuvcz+qAoOPYblzP8XxwIOXw3M/4eD+d83Ncz/8zzxsA9hzPxi/emA54nM/M664VG/scz9PnfZIpfZzP2qMND3bAHQ/hntyMRELdD+harAlRxV0P71Z7hl9H3Q/2EgsDrMpdD/0N2oC6TN0Pw8nqPYePnQ/Khbm6lRIdD9GBSTfilJ0P2H0YdPAXHQ/feOfx/ZmdD+Y0t27LHF0P7TBG7Bie3Q/z7BZpJiFdD/rn5eYzo90PwaP1YwEmnQ/In4TgTqkdD89bVF1cK50P1lcj2mmuHQ/dEvNXdzCdD+QOgtSEs10P6spSUZI13Q/xhiHOn7hdD/iB8UutOt0P/32AiPq9XQ/GeZAFyAAdT801X4LVgp1P1DEvP+LFHU/a7P688EedT+Hojjo9yh1P6KRdtwtM3U/voC00GM9dT/Zb/LEmUd1P/VeMLnPUXU/EE5urQVcdT8sPayhO2Z1P0cs6pVxcHU/Yhsoiqd6dT9+CmZ+3YR1P5n5o3ITj3U/tejhZkmZdT/Q1x9bf6N1P+zGXU+1rXU/B7abQ+u3dT8jpdk3IcJ1Pz6UFyxXzHU/WoNVII3WdT91cpMUw+B1P5Fh0Qj56nU/rFAP/S71dT/HP03xZP91P+Mui+WaCXY//h3J2dATdj8aDQfOBh52PzX8RMI8KHY/UeuCtnIydj9s2sCqqDx2P4jJ/p7eRnY/o7g8kxRRdj+/p3qHSlt2P9qWuHuAZXY/9oX2b7Zvdj8RdTRk7Hl2Py1kclgihHY/SFOwTFiOdj9jQu5Ajph2P38xLDXEonY/miBqKfqsdj+2D6gdMLd2P9H+5RFmwXY/7e0jBpzLdj8I3WH60dV2PyTMn+4H4HY/P7vd4j3qdj9bqhvXc/R2P3aZWcup/nY/koiXv98Idz+td9WzFRN3P8hmE6hLHXc/5FVRnIEndz//RI+QtzF3Pxs0zYTtO3c/NiMLeSNGdz9SEkltWVB3P20Bh2GPWnc/ifDEVcVkdz+k3wJK+253P8DOQD4xeXc/271+MmeDdz/3rLwmnY13PxKc+hrTl3c/Los4Dwmidz9JenYDP6x3P2RptPd0tnc/gFjy66rAdz+bRzDg4Mp3P7c2btQW1Xc/0iWsyEzfdz/uFOq8gul3PwkEKLG483c/JfNlpe79dz9A4qOZJAh4P1zR4Y1aEng/d8AfgpAceD+Tr112xiZ4P66em2r8MHg/yo3ZXjI7eD/lfBdTaEV4PwBsVUeeT3g/HFuTO9RZeD83StEvCmR4P1M5DyRAbng/bihNGHZ4eD+KF4sMrIJ4P6UGyQDijHg/wfUG9ReXeD/c5ETpTaF4P/jTgt2Dq3g/E8PA0bm1eD8vsv7F7794P0qhPLolyng/ZZB6rlvUeD+Bf7iikd54P5xu9pbH6Hg/uF00i/3yeD/TTHJ/M/14P+87sHNpB3k/CivuZ58ReT8mGixc1Rt5P0EJalALJnk/XfinREEweT945+U4dzp5P5TWIy2tRHk/r8VhIeNOeT/LtJ8VGVl5P+aj3QlPY3k/AZMb/oRteT8dglnyund5Pzhxl+bwgXk/VGDV2iaMeT9vTxPPXJZ5P4s+UcOSoHk/pi2Pt8iqeT/CHM2r/rR5P90LC6A0v3k/+fpIlGrJeT8U6oaIoNN5PzDZxHzW3Xk/S8gCcQzoeT9nt0BlQvJ5P4Kmfll4/Hk/nZW8Ta4Gej+5hPpB5BB6P9RzODYaG3o/8GJ2KlAlej8LUrQehi96PydB8hK8OXo/QjAwB/JDej9eH277J056P3kOrO9dWHo/lf3p45Niej+w7CfYyWx6P8zbZcz/dno/58qjwDWBej8CuuG0a4t6Px6pH6mhlXo/OZhdndefej9Vh5uRDap6P3B22YVDtHo/jGUXenm+ej+nVFVur8h6P8NDk2Ll0no/3jLRVhvdej/6IQ9LUed6PxURTT+H8Xo/MQCLM737ej9M78gn8wV7P2jeBhwpEHs/g81EEF8aez+evIIElSR7P7qrwPjKLns/1Zr+7AA5ez/xiTzhNkN7Pwx5etVsTXs/KGi4yaJXez9DV/a92GF7P19GNLIObHs/ejVypkR2ez+WJLCaeoB7P7ET7o6wins/zQIsg+aUez/o8Wl3HJ97PwPhp2tSqXs/H9DlX4izez86vyNUvr17P1auYUj0x3s/cZ2fPCrSez+NjN0wYNx7P6h7GyWW5ns/xGpZGczwez/fWZcNAvt7P/tI1QE4BXw/FjgT9m0PfD8yJ1Hqoxl8P00Wj97ZI3w/aQXN0g8ufD+E9ArHRTh8P5/jSLt7Qnw/u9KGr7FMfD/WwcSj51Z8P/KwApgdYXw/DaBAjFNrfD8pj36AiXV8P0R+vHS/f3w/YG36aPWJfD97XDhdK5R8P5dLdlFhnnw/sjq0RZeofD/OKfI5zbJ8P+kYMC4DvXw/BQhuIjnHfD8g96sWb9F8Pzvm6Qql23w/V9Un/9rlfD9yxGXzEPB8P46zo+dG+nw/qaLh23wEfT/FkR/Qsg59P+CAXcToGH0//G+buB4jfT8XX9msVC19PzNOF6GKN30/Tj1VlcBBfT9qLJOJ9kt9P4Ub0X0sVn0/oAoPcmJgfT+8+UxmmGp9P9foilrOdH0/89fITgR/fT8OxwZDOol9Pyq2RDdwk30/RaWCK6adfT9hlMAf3Kd9P3yD/hMSsn0/mHI8CEi8fT+zYXr8fcZ9P89QuPCz0H0/6j/25OnafT8GLzTZH+V9PyEecs1V730/PA2wwYv5fT9Y/O21wQN+P3PrK6r3DX4/j9ppni0Yfj+qyaeSYyJ+P8a45YaZLH4/4acje882fj/9lmFvBUF+PxiGn2M7S34/NHXdV3FVfj9PZBtMp19+P2tTWUDdaX4/hkKXNBN0fj+hMdUoSX5+P70gEx1/iH4/2A9REbWSfj/0/o4F65x+Pw/uzPkgp34/K90K7laxfj9GzEjijLt+P2K7htbCxX4/farEyvjPfj+ZmQK/Ltp+P7SIQLNk5H4/0Hd+p5rufj/rZryb0Ph+PwdW+o8GA38/IkU4hDwNfz89NHZ4chd/P1kjtGyoIX8/dBLyYN4rfz+QATBVFDZ/P6vwbUlKQH8/x9+rPYBKfz/izukxtlR/P/69JybsXn8/Ga1lGiJpfz81nKMOWHN/P1CL4QKOfX8/bHof98OHfz+HaV3r+ZF/P6NYm98vnH8/vkfZ02Wmfz/ZNhfIm7B/P/UlVbzRun8/EBWTsAfFfz8sBNGkPc9/P0fzDplz2X8/Y+JMjanjfz9+0YqB3+1/P5rAyHUV+H8/21cDtSUBgD9pTyKvQAaAP/ZGQalbC4A/hD5go3YQgD8SNn+dkRWAP58tnpesGoA/LSW9kccfgD+7HNyL4iSAP0kU+4X9KYA/1gsagBgvgD9kAzl6MzSAP/L6V3ROOYA/gPJ2bmk+gD8O6pVohEOAP5vhtGKfSIA/KdnTXLpNgD+30PJW1VKAP0XIEVHwV4A/0r8wSwtdgD9gt09FJmKAP+6ubj9BZ4A/e6aNOVxsgD8Jnqwzd3GAP5eVyy2SdoA/JY3qJ617gD+yhAkiyICAP0B8KBzjhYA/znNHFv6KgD9ca2YQGZCAP+lihQo0lYA/d1qkBE+agD8FUsP+aZ+AP5NJ4viEpIA/IEEB85+pgD+uOCDtuq6APzwwP+fVs4A/ySde4fC4gD9XH33bC76AP+UWnNUmw4A/cw67z0HIgD8ABtrJXM2AP479+MN30oA/HPUXvpLXgD+q7Da4rdyAPzfkVbLI4YA/xdt0rOPmgD9T05Om/uuAP+HKsqAZ8YA/bsLRmjT2gD/8ufCUT/uAP4qxD49qAIE/F6kuiYUFgT+loE2DoAqBPzOYbH27D4E/wY+Ld9YUgT9Oh6px8RmBP9x+yWsMH4E/anboZSckgT/4bQdgQimBP4VlJlpdLoE/E11FVHgzgT+hVGROkziBPy5Mg0iuPYE/vEOiQslCgT9KO8E85EeBP9gy4Db/TIE/ZSr/MBpSgT/zIR4rNVeBP4EZPSVQXIE/DxFcH2thgT+cCHsZhmaBPyoAmhOha4E/uPe4DbxwgT9G79cH13WBP9Pm9gHyeoE/Yd4V/AyAgT/v1TT2J4WBP3zNU/BCioE/CsVy6l2PgT+YvJHkeJSBPya0sN6TmYE/s6vP2K6egT9Bo+7SyaOBP8+aDc3kqIE/XZIsx/+tgT/qiUvBGrOBP3iBars1uIE/BnmJtVC9gT+UcKiva8KBPyFox6mGx4E/r1/mo6HMgT89VwWevNGBP8pOJJjX1oE/WEZDkvLbgT/mPWKMDeGBP3Q1gYYo5oE/AS2ggEPrgT+PJL96XvCBPx0c3nR59YE/qxP9bpT6gT84Cxxpr/+BP8YCO2PKBII/VPpZXeUJgj/i8XhXAA+CP2/pl1EbFII//eC2SzYZgj+L2NVFUR6CPxjQ9D9sI4I/pscTOocogj80vzI0oi2CP8K2US69MoI/T65wKNg3gj/dpY8i8zyCP2udrhwOQoI/+ZTNFilHgj+GjOwQREyCPxSECwtfUYI/onsqBXpWgj8wc0n/lFuCP71qaPmvYII/S2KH88plgj/ZWabt5WqCP2ZRxecAcII/9Ejk4Rt1gj+CQAPcNnqCPxA4ItZRf4I/nS9B0GyEgj8rJ2DKh4mCP7kef8SijoI/Rxaevr2Tgj/UDb242JiCP2IF3LLznYI/8Pz6rA6jgj999BmnKaiCPwvsOKFErYI/meNXm1+ygj8n23aVereCP7TSlY+VvII/Qsq0ibDBgj/QwdODy8aCP1658n3my4I/67AReAHRgj95qDByHNaCPwegT2w324I/lZduZlLggj8ij41gbeWCP7CGrFqI6oI/Pn7LVKPvgj/LdepOvvSCP1ltCUnZ+YI/52QoQ/T+gj91XEc9DwSDPwJUZjcqCYM/kEuFMUUOgz8eQ6QrYBODP6w6wyV7GIM/OTLiH5Ydgz/HKQEasSKDP1UhIBTMJ4M/4xg/Ducsgz9wEF4IAjKDP/4HfQIdN4M/jP+b/Dc8gz8Z97r2UkGDP6fu2fBtRoM/Neb46ohLgz/D3Rflo1CDP1DVNt++VYM/3sxV2dlagz9sxHTT9F+DP/q7k80PZYM/h7Oyxypqgz8Vq9HBRW+DP6Oi8LtgdIM/MZoPtnt5gz++kS6wln6DP0yJTaqxg4M/2oBspMyIgz9neIue542DP/VvqpgCk4M/g2fJkh2Ygz8RX+iMOJ2DP55WB4dTooM/LE4mgW6ngz+6RUV7iayDP0g9ZHWksYM/1TSDb7+2gz9jLKJp2ruDP/EjwWP1wIM/fxvgXRDGgz8ME/9XK8uDP5oKHlJG0IM/KAI9TGHVgz+1+VtGfNqDP0PxekCX34M/0eiZOrLkgz9f4Lg0zemDP+zX1y7o7oM/es/2KAP0gz8IxxUjHvmDP5a+NB05/oM/I7ZTF1QDhD+xrXIRbwiEPz+lkQuKDYQ/zJywBaUShD9alM//vxeEP+iL7vnaHIQ/doMN9PUhhD8=",
          "dtype": "f8"
         },
         "y": {
          "bdata": "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",
          "dtype": "f8"
         }
        },
        {
         "error_y": {
          "array": {
           "bdata": "kb/N/kU/QT8IDzwFRHxBP40At1iKvDs/hyzEPdwyOj8A/ndAf2o+P/MtyA6WoT0/LUN/a83jNj8REaMTYPEuPyulMvLgrzU/7bPHNwe2Oz9TZ+38Fzw4P8s7B5F/CDk/gyP7hgldMz9xy+FVwM4/PwEcUiePbjY/Cxx4sNSDNT/3IWmfo2gwP3i6vI6zUzo/NX0v4ARZKD9ZoR4fdjA0P9kzrsG53DA/T8FNjPwJKz/x6OdZgwkuP6mXQav+Ris/nkdGr0lUIj+rqMDiDbstP6foPyxqrTU/55765btpND/GYnLf7/UyP6FXQ9lfHiA/K4mOSMOcJz90FY1IeR8qP9+hXIxpJCY/GxTWmbUmLz/TiSyqygsrPy8GuRDZhRw/E2Lc+chsMT8A/A2bRnMlP40PuiAmnjA/nFMnasBuKj9MCVasL4gdP1ct5kt1WCM/WdvqiiJEJT8X+9j+UbQcP1s7KU6SJRo/X4+lmvi1ID823ilfwpQkP6xX/am/bR8/SDgMEj9bID+NJ8BqVs0XP7vX5qM9RiI/D4ZrZ+h7HT9cD132KsQlPw==",
           "dtype": "f8"
          },
          "color": "#f3c63a",
          "thickness": 1.5,
          "type": "data",
          "width": 3
         },
         "marker": {
          "color": "#f3c63a"
         },
         "mode": "markers",
         "name": "θ=130°",
         "type": "scatter",
         "x": {
          "bdata": "Sa+8mvLXGj8xRRTu8DIeP43ttaD3xiA/grhhynZ0Ij92gw309SEkP2pOuR11zyU/XxllR/R8Jz9U5BBxcyopP0mvvJry1yo/MUUU7vAyLj+N7bWg98YwP4K4Ycp2dDI/doMN9PUhND9qTrkddc81P18ZZUf0fDc/VOQQcXMqOT9Jr7ya8tc6PzFFFO7wMj4/je21oPfGQD+CuGHKdnRCP3aDDfT1IUQ/ak65HXXPRT9fGWVH9HxHP1TkEHFzKkk/Sa+8mvLXSj8xRRTu8DJOP43ttaD3xlA/grhhynZ0Uj92gw309SFUP2pOuR11z1U/XxllR/R8Vz9U5BBxcypZP0mvvJry11o/MUUU7vAyXj+N7bWg98ZgP4K4Ycp2dGI/doMN9PUhZD9qTrkddc9lP18ZZUf0fGc/VOQQcXMqaT9Jr7ya8tdqPzFFFO7wMm4/je21oPfGcD+CuGHKdnRyP3aDDfT1IXQ/ak65HXXPdT9fGWVH9Hx3P1TkEHFzKnk/Sa+8mvLXej8xRRTu8DJ+P43ttaD3xoA/grhhynZ0gj92gw309SGEPw==",
          "dtype": "f8"
         },
         "y": {
          "bdata": "Zp4Bmq1hpz8w/Jbvz/ulP95rUhvmFaU/x8ZyAR4HpD+L9OwD2mejPx6RSgxd5KE/udeTCnQ3oT+ICKRp9XqgPyZRL/g0J58/llrvN9pxmz/kEdxI2SKZP+1NZ4I8FpY/qRPQRNjwlD9HfIIfMGqSP21thsA2h5A/hBLBk3HnjT928F2U6kyLP2jhV1EosIU/RzVwMGnGgT8Gt9aT0Mh9P3AeNcOZoXk/QLl1UOwVdD8PNV2RkC9uP3GbX4N0Z2w/dDH+ZCnlZz/bLwLX0xZgP9q5/pdKw1k/sW3uO8jjUD95Qbt4fNFHP8NJeTG9kj4/Jk53aYb+QD/DeLQOmp9DP8nKUJEaRTw/lO0gz14YQT9ZjuaB9aNEPzha6i3ZCSM/jlptthylFz/bl3ivdu4fP1bJYsMcAiw/DBDhbC6PKT8aj/p1LJkIP2FxXZUpfRi/6qWRLjCGFj/WYDMjMJQrP3kNQV9IeAO/+gSu/S2ZJL/s8UXyyjIKv61c3ID3IAA/4/trRPOq5b6r5tmvsusrP8BtjO43Eiy/k3NqNxal/z7nM1MrIjsFvw==",
          "dtype": "f8"
         }
        }
       ],
       "layout": {
        "font": {
         "color": "Black",
         "size": 18
        },
        "height": 600,
        "plot_bgcolor": "white",
        "template": {
         "data": {
          "bar": [
           {
            "error_x": {
             "color": "#2a3f5f"
            },
            "error_y": {
             "color": "#2a3f5f"
            },
            "marker": {
             "line": {
              "color": "#E5ECF6",
              "width": 0.5
             },
             "pattern": {
              "fillmode": "overlay",
              "size": 10,
              "solidity": 0.2
             }
            },
            "type": "bar"
           }
          ],
          "barpolar": [
           {
            "marker": {
             "line": {
              "color": "#E5ECF6",
              "width": 0.5
             },
             "pattern": {
              "fillmode": "overlay",
              "size": 10,
              "solidity": 0.2
             }
            },
            "type": "barpolar"
           }
          ],
          "carpet": [
           {
            "aaxis": {
             "endlinecolor": "#2a3f5f",
             "gridcolor": "white",
             "linecolor": "white",
             "minorgridcolor": "white",
             "startlinecolor": "#2a3f5f"
            },
            "baxis": {
             "endlinecolor": "#2a3f5f",
             "gridcolor": "white",
             "linecolor": "white",
             "minorgridcolor": "white",
             "startlinecolor": "#2a3f5f"
            },
            "type": "carpet"
           }
          ],
          "choropleth": [
           {
            "colorbar": {
             "outlinewidth": 0,
             "ticks": ""
            },
            "type": "choropleth"
           }
          ],
          "contour": [
           {
            "colorbar": {
             "outlinewidth": 0,
             "ticks": ""
            },
            "colorscale": [
             [
              0,
              "#0d0887"
             ],
             [
              0.1111111111111111,
              "#46039f"
             ],
             [
              0.2222222222222222,
              "#7201a8"
             ],
             [
              0.3333333333333333,
              "#9c179e"
             ],
             [
              0.4444444444444444,
              "#bd3786"
             ],
             [
              0.5555555555555556,
              "#d8576b"
             ],
             [
              0.6666666666666666,
              "#ed7953"
             ],
             [
              0.7777777777777778,
              "#fb9f3a"
             ],
             [
              0.8888888888888888,
              "#fdca26"
             ],
             [
              1,
              "#f0f921"
             ]
            ],
            "type": "contour"
           }
          ],
          "contourcarpet": [
           {
            "colorbar": {
             "outlinewidth": 0,
             "ticks": ""
            },
            "type": "contourcarpet"
           }
          ],
          "heatmap": [
           {
            "colorbar": {
             "outlinewidth": 0,
             "ticks": ""
            },
            "colorscale": [
             [
              0,
              "#0d0887"
             ],
             [
              0.1111111111111111,
              "#46039f"
             ],
             [
              0.2222222222222222,
              "#7201a8"
             ],
             [
              0.3333333333333333,
              "#9c179e"
             ],
             [
              0.4444444444444444,
              "#bd3786"
             ],
             [
              0.5555555555555556,
              "#d8576b"
             ],
             [
              0.6666666666666666,
              "#ed7953"
             ],
             [
              0.7777777777777778,
              "#fb9f3a"
             ],
             [
              0.8888888888888888,
              "#fdca26"
             ],
             [
              1,
              "#f0f921"
             ]
            ],
            "type": "heatmap"
           }
          ],
          "histogram": [
           {
            "marker": {
             "pattern": {
              "fillmode": "overlay",
              "size": 10,
              "solidity": 0.2
             }
            },
            "type": "histogram"
           }
          ],
          "histogram2d": [
           {
            "colorbar": {
             "outlinewidth": 0,
             "ticks": ""
            },
            "colorscale": [
             [
              0,
              "#0d0887"
             ],
             [
              0.1111111111111111,
              "#46039f"
             ],
             [
              0.2222222222222222,
              "#7201a8"
             ],
             [
              0.3333333333333333,
              "#9c179e"
             ],
             [
              0.4444444444444444,
              "#bd3786"
             ],
             [
              0.5555555555555556,
              "#d8576b"
             ],
             [
              0.6666666666666666,
              "#ed7953"
             ],
             [
              0.7777777777777778,
              "#fb9f3a"
             ],
             [
              0.8888888888888888,
              "#fdca26"
             ],
             [
              1,
              "#f0f921"
             ]
            ],
            "type": "histogram2d"
           }
          ],
          "histogram2dcontour": [
           {
            "colorbar": {
             "outlinewidth": 0,
             "ticks": ""
            },
            "colorscale": [
             [
              0,
              "#0d0887"
             ],
             [
              0.1111111111111111,
              "#46039f"
             ],
             [
              0.2222222222222222,
              "#7201a8"
             ],
             [
              0.3333333333333333,
              "#9c179e"
             ],
             [
              0.4444444444444444,
              "#bd3786"
             ],
             [
              0.5555555555555556,
              "#d8576b"
             ],
             [
              0.6666666666666666,
              "#ed7953"
             ],
             [
              0.7777777777777778,
              "#fb9f3a"
             ],
             [
              0.8888888888888888,
              "#fdca26"
             ],
             [
              1,
              "#f0f921"
             ]
            ],
            "type": "histogram2dcontour"
           }
          ],
          "mesh3d": [
           {
            "colorbar": {
             "outlinewidth": 0,
             "ticks": ""
            },
            "type": "mesh3d"
           }
          ],
          "parcoords": [
           {
            "line": {
             "colorbar": {
              "outlinewidth": 0,
              "ticks": ""
             }
            },
            "type": "parcoords"
           }
          ],
          "pie": [
           {
            "automargin": true,
            "type": "pie"
           }
          ],
          "scatter": [
           {
            "fillpattern": {
             "fillmode": "overlay",
             "size": 10,
             "solidity": 0.2
            },
            "type": "scatter"
           }
          ],
          "scatter3d": [
           {
            "line": {
             "colorbar": {
              "outlinewidth": 0,
              "ticks": ""
             }
            },
            "marker": {
             "colorbar": {
              "outlinewidth": 0,
              "ticks": ""
             }
            },
            "type": "scatter3d"
           }
          ],
          "scattercarpet": [
           {
            "marker": {
             "colorbar": {
              "outlinewidth": 0,
              "ticks": ""
             }
            },
            "type": "scattercarpet"
           }
          ],
          "scattergeo": [
           {
            "marker": {
             "colorbar": {
              "outlinewidth": 0,
              "ticks": ""
             }
            },
            "type": "scattergeo"
           }
          ],
          "scattergl": [
           {
            "marker": {
             "colorbar": {
              "outlinewidth": 0,
              "ticks": ""
             }
            },
            "type": "scattergl"
           }
          ],
          "scattermap": [
           {
            "marker": {
             "colorbar": {
              "outlinewidth": 0,
              "ticks": ""
             }
            },
            "type": "scattermap"
           }
          ],
          "scattermapbox": [
           {
            "marker": {
             "colorbar": {
              "outlinewidth": 0,
              "ticks": ""
             }
            },
            "type": "scattermapbox"
           }
          ],
          "scatterpolar": [
           {
            "marker": {
             "colorbar": {
              "outlinewidth": 0,
              "ticks": ""
             }
            },
            "type": "scatterpolar"
           }
          ],
          "scatterpolargl": [
           {
            "marker": {
             "colorbar": {
              "outlinewidth": 0,
              "ticks": ""
             }
            },
            "type": "scatterpolargl"
           }
          ],
          "scatterternary": [
           {
            "marker": {
             "colorbar": {
              "outlinewidth": 0,
              "ticks": ""
             }
            },
            "type": "scatterternary"
           }
          ],
          "surface": [
           {
            "colorbar": {
             "outlinewidth": 0,
             "ticks": ""
            },
            "colorscale": [
             [
              0,
              "#0d0887"
             ],
             [
              0.1111111111111111,
              "#46039f"
             ],
             [
              0.2222222222222222,
              "#7201a8"
             ],
             [
              0.3333333333333333,
              "#9c179e"
             ],
             [
              0.4444444444444444,
              "#bd3786"
             ],
             [
              0.5555555555555556,
              "#d8576b"
             ],
             [
              0.6666666666666666,
              "#ed7953"
             ],
             [
              0.7777777777777778,
              "#fb9f3a"
             ],
             [
              0.8888888888888888,
              "#fdca26"
             ],
             [
              1,
              "#f0f921"
             ]
            ],
            "type": "surface"
           }
          ],
          "table": [
           {
            "cells": {
             "fill": {
              "color": "#EBF0F8"
             },
             "line": {
              "color": "white"
             }
            },
            "header": {
             "fill": {
              "color": "#C8D4E3"
             },
             "line": {
              "color": "white"
             }
            },
            "type": "table"
           }
          ]
         },
         "layout": {
          "annotationdefaults": {
           "arrowcolor": "#2a3f5f",
           "arrowhead": 0,
           "arrowwidth": 1
          },
          "autotypenumbers": "strict",
          "coloraxis": {
           "colorbar": {
            "outlinewidth": 0,
            "ticks": ""
           }
          },
          "colorscale": {
           "diverging": [
            [
             0,
             "#8e0152"
            ],
            [
             0.1,
             "#c51b7d"
            ],
            [
             0.2,
             "#de77ae"
            ],
            [
             0.3,
             "#f1b6da"
            ],
            [
             0.4,
             "#fde0ef"
            ],
            [
             0.5,
             "#f7f7f7"
            ],
            [
             0.6,
             "#e6f5d0"
            ],
            [
             0.7,
             "#b8e186"
            ],
            [
             0.8,
             "#7fbc41"
            ],
            [
             0.9,
             "#4d9221"
            ],
            [
             1,
             "#276419"
            ]
           ],
           "sequential": [
            [
             0,
             "#0d0887"
            ],
            [
             0.1111111111111111,
             "#46039f"
            ],
            [
             0.2222222222222222,
             "#7201a8"
            ],
            [
             0.3333333333333333,
             "#9c179e"
            ],
            [
             0.4444444444444444,
             "#bd3786"
            ],
            [
             0.5555555555555556,
             "#d8576b"
            ],
            [
             0.6666666666666666,
             "#ed7953"
            ],
            [
             0.7777777777777778,
             "#fb9f3a"
            ],
            [
             0.8888888888888888,
             "#fdca26"
            ],
            [
             1,
             "#f0f921"
            ]
           ],
           "sequentialminus": [
            [
             0,
             "#0d0887"
            ],
            [
             0.1111111111111111,
             "#46039f"
            ],
            [
             0.2222222222222222,
             "#7201a8"
            ],
            [
             0.3333333333333333,
             "#9c179e"
            ],
            [
             0.4444444444444444,
             "#bd3786"
            ],
            [
             0.5555555555555556,
             "#d8576b"
            ],
            [
             0.6666666666666666,
             "#ed7953"
            ],
            [
             0.7777777777777778,
             "#fb9f3a"
            ],
            [
             0.8888888888888888,
             "#fdca26"
            ],
            [
             1,
             "#f0f921"
            ]
           ]
          },
          "colorway": [
           "#636efa",
           "#EF553B",
           "#00cc96",
           "#ab63fa",
           "#FFA15A",
           "#19d3f3",
           "#FF6692",
           "#B6E880",
           "#FF97FF",
           "#FECB52"
          ],
          "font": {
           "color": "#2a3f5f"
          },
          "geo": {
           "bgcolor": "white",
           "lakecolor": "white",
           "landcolor": "#E5ECF6",
           "showlakes": true,
           "showland": true,
           "subunitcolor": "white"
          },
          "hoverlabel": {
           "align": "left"
          },
          "hovermode": "closest",
          "mapbox": {
           "style": "light"
          },
          "paper_bgcolor": "white",
          "plot_bgcolor": "#E5ECF6",
          "polar": {
           "angularaxis": {
            "gridcolor": "white",
            "linecolor": "white",
            "ticks": ""
           },
           "bgcolor": "#E5ECF6",
           "radialaxis": {
            "gridcolor": "white",
            "linecolor": "white",
            "ticks": ""
           }
          },
          "scene": {
           "xaxis": {
            "backgroundcolor": "#E5ECF6",
            "gridcolor": "white",
            "gridwidth": 2,
            "linecolor": "white",
            "showbackground": true,
            "ticks": "",
            "zerolinecolor": "white"
           },
           "yaxis": {
            "backgroundcolor": "#E5ECF6",
            "gridcolor": "white",
            "gridwidth": 2,
            "linecolor": "white",
            "showbackground": true,
            "ticks": "",
            "zerolinecolor": "white"
           },
           "zaxis": {
            "backgroundcolor": "#E5ECF6",
            "gridcolor": "white",
            "gridwidth": 2,
            "linecolor": "white",
            "showbackground": true,
            "ticks": "",
            "zerolinecolor": "white"
           }
          },
          "shapedefaults": {
           "line": {
            "color": "#2a3f5f"
           }
          },
          "ternary": {
           "aaxis": {
            "gridcolor": "white",
            "linecolor": "white",
            "ticks": ""
           },
           "baxis": {
            "gridcolor": "white",
            "linecolor": "white",
            "ticks": ""
           },
           "bgcolor": "#E5ECF6",
           "caxis": {
            "gridcolor": "white",
            "linecolor": "white",
            "ticks": ""
           }
          },
          "title": {
           "x": 0.05
          },
          "xaxis": {
           "automargin": true,
           "gridcolor": "white",
           "linecolor": "white",
           "ticks": "",
           "title": {
            "standoff": 15
           },
           "zerolinecolor": "white",
           "zerolinewidth": 2
          },
          "yaxis": {
           "automargin": true,
           "gridcolor": "white",
           "linecolor": "white",
           "ticks": "",
           "title": {
            "standoff": 15
           },
           "zerolinecolor": "white",
           "zerolinewidth": 2
          }
         }
        },
        "width": 800,
        "xaxis": {
         "gridcolor": "lightgrey",
         "linecolor": "black",
         "mirror": true,
         "range": [
          -4,
          -2
         ],
         "showline": true,
         "ticks": "outside",
         "title": {
          "text": "t (s)"
         },
         "type": "log"
        },
        "yaxis": {
         "gridcolor": "lightgrey",
         "linecolor": "black",
         "mirror": true,
         "showline": true,
         "ticks": "outside",
         "title": {
          "text": "g<sup>2</sup>(τ)"
         }
        }
       }
      }
     },
     "metadata": {},
     "output_type": "display_data"
    }
   ],
   "source": [
    "colors = px.colors.sequential.Turbo\n",
    "\n",
    "fig = go.Figure()\n",
    "for i,θ in enumerate(data.keys()):\n",
    "    x = data[θ]['t']\n",
    "    y = data[θ]['g']\n",
    "    γ = data[θ]['gamma']\n",
    "    sigmay = data[θ]['sigmag']\n",
    "    X,Y = data[θ]['fit'].draw()\n",
    "\n",
    "    # plt.plot(X,Y)\n",
    "    # plt.xlim(0,1)\n",
    "    # plt.show()\n",
    "\n",
    "    fig.add_trace(go.Scatter(x=X, y=Y, mode='lines',line_color=colors[i], showlegend=False,hoverinfo='skip'))\n",
    "\n",
    "    fig.add_trace(go.Scatter(x=x,y=y, mode='markers', name=f'θ={θ}°',\n",
    "        marker=dict(color = colors[i]),\n",
    "        error_y=dict( \n",
    "\t\t\ttype='data', \n",
    "\t\t\tarray=sigmay, \n",
    "\t\t\tcolor=colors[i],\n",
    "\t\t\tthickness=1.5, \n",
    "\t\t\twidth=3, \n",
    "\t\t)))\n",
    "\n",
    "fig.update_layout(\n",
    "        xaxis_type=\"log\",\n",
    "        yaxis_title=\"g<sup>2</sup>(τ)\",\n",
    "        xaxis_title=\"t (s)\",\n",
    "        # title='g<sup>2</sup>(τ) vs t',\n",
    "        xaxis=dict(range=[np.log10(0.0001), np.log10(0.010)]),\n",
    "        width=800,\n",
    "        height=600,\n",
    "        # title={\n",
    "        #     'text': \"Correlation Function g<sup>2</sup>(τ)\",\n",
    "        #     'y':0.9,\n",
    "        #     'x':0.5,\n",
    "        #     'xanchor': 'center',\n",
    "        #     'yanchor': 'top',\n",
    "        #     'font':dict(size=30)\n",
    "        # },\n",
    "        plot_bgcolor='white',\n",
    "        font=dict(\n",
    "            #family=\"Courier New, monospace\",\n",
    "            size=18,\n",
    "            color=\"Black\"\n",
    "        ),\n",
    "            # yaxis=dict(range=[0, 0.06])\n",
    "    )\n",
    "\n",
    "fig.update_xaxes(\n",
    "    mirror=True,\n",
    "    ticks='outside',\n",
    "    showline=True,\n",
    "    linecolor='black',\n",
    "    gridcolor='lightgrey'\n",
    ")\n",
    "fig.update_yaxes(\n",
    "    mirror=True,\n",
    "    ticks='outside',\n",
    "    showline=True,\n",
    "    linecolor='black',\n",
    "    gridcolor='lightgrey'\n",
    ")\n",
    "\n",
    "fig.show()"
   ]
  },
  {
   "cell_type": "code",
   "execution_count": 10,
   "metadata": {},
   "outputs": [],
   "source": [
    "# scarto = []\n",
    "# for θ in data.keys():\n",
    "#     y = data[θ]['g']\n",
    "#     y_teo = f(data[θ]['t'],*data[θ]['fit'].values.values())\n",
    "#     scarto.append((y - y_teo)**2)\n",
    "\n",
    "# scarto = np.array(scarto)\n",
    "\n",
    "# fig, axs = plt.subplots(2, 5, figsize=(20, 10))\n",
    "# colors = plt.cm.viridis(np.linspace(0, 1, len(data.keys())))\n",
    "\n",
    "# for ax, (θ, color) in zip(axs.flatten(), zip(data.keys(), colors)):\n",
    "#     ax.hist(scarto[TETA.tolist().index(θ)], bins=30, color=color, edgecolor='black')\n",
    "#     ax.set_title(f'θ = {θ}°')\n",
    "\n",
    "# plt.tight_layout()\n",
    "# plt.show()"
   ]
  },
  {
   "cell_type": "markdown",
   "metadata": {},
   "source": [
    "$Q = \\frac{4\\pi n}{\\lambda}\\sin\\frac{\\theta}{2}$\n",
    "\n",
    "$\\gamma = 2DQ^2 \\Rightarrow D = \\frac{\\gamma\\lambda^2}{32\\pi^2n^2\\sin^2\\frac{\\theta}{2}}$\n",
    "\n",
    "$D = \\frac{K_B T}{6\\pi\\eta\\R}$\n",
    "\n",
    "$R = \\frac{16\\pi n^2 K_B T}{3\\eta\\lambda^2\\gamma}\\sin^2\\frac{\\theta}{2}$\n",
    "\n",
    "n = 1.33\n",
    "\n",
    "$\\eta$ = 0.01poise\n",
    "\n",
    "$\\lambda$ = 633nm\n",
    "\n",
    "$K_B$ = 1.3806 $\\cdot 10^{-2} g(nm)^2s^{-2}K^{-1}$\n",
    "\n",
    "T = 293K"
   ]
  },
  {
   "cell_type": "code",
   "execution_count": 11,
   "metadata": {},
   "outputs": [
    {
     "name": "stdout",
     "output_type": "stream",
     "text": [
      "----------------- VALORI FIT: -----------------\n",
      "n2D: (6.059 ± 0.008)e6 \n",
      "\n",
      "dof: 9\n",
      "chi2: 344.29\n",
      "chi2 ridotto: 38.25\n",
      "pvalue: 0.0\n",
      "------------------------------------------------\n",
      "\n",
      "n2D = coefficiente diffusione * n^2 =  (6.06 ± 0.01)e6 nm^2/s\n",
      "D = coefficiente diffusione =  (3.43 ± 0.03)e6 m^2/s\n"
     ]
    }
   ],
   "source": [
    "# fit gamma teta\n",
    "\n",
    "def gamma_2DQ2(θ,n2D):\n",
    "    theta = np.deg2rad(θ)\n",
    "    return 2*n2D*16*(np.pi**2)*np.sin(theta/2)**2/(λ**2)\n",
    "\n",
    "gammatetafit = Interpolazione(TETA, GAMMA, sigmaGAMMA, gamma_2DQ2, [100000*n**2],['n2D'])\n",
    "print(gammatetafit)\n",
    "\n",
    "n2D,σn2D = gammatetafit.values['n2D'],gammatetafit.errors['n2D']\n",
    "\n",
    "D = n2D/(n**2)\n",
    "σD = D*np.sqrt((σn2D/n2D)**2 + (sigman/n)**2)\n",
    "\n",
    "print('n2D = coefficiente diffusione * n^2 = ',final_val(n2D,σn2D,2,exp=6,udm='nm^2/s'))\n",
    "print('D = coefficiente diffusione = ',final_val(D,σD,2,exp=6,udm='m^2/s'))"
   ]
  },
  {
   "cell_type": "code",
   "execution_count": 12,
   "metadata": {},
   "outputs": [
    {
     "data": {
      "application/vnd.plotly.v1+json": {
       "config": {
        "plotlyServerURL": "https://plot.ly"
       },
       "data": [
        {
         "hoverinfo": "skip",
         "line": {
          "color": "#ed7953"
         },
         "mode": "lines",
         "showlegend": false,
         "type": "scatter",
         "x": {
          "bdata": "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",
          "dtype": "f8"
         },
         "y": {
          "bdata": "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",
          "dtype": "f8"
         }
        },
        {
         "error_y": {
          "array": {
           "bdata": "NfQj8gJLCUDyB2GVbLwCQGqZ7l6Epw1Af6SruhJXGEBIm9R+uhohQNJ7tbrqCClAzHvDjLT+LkDru79Bgz0zQDQUqoOLRjZAggaqb9sHPEA=",
           "dtype": "f8"
          },
          "color": "#46039f",
          "thickness": 1.5,
          "type": "data",
          "width": 3
         },
         "marker": {
          "color": "#0d0887"
         },
         "mode": "markers",
         "showlegend": false,
         "type": "scatter",
         "x": {
          "bdata": "KAAyADwARgBQAFoAZABuAHgAggA=",
          "dtype": "i2"
         },
         "y": {
          "bdata": "INI2O3N4gEA7i5Ze/eyJQKxoOIZhtJJAIkWt8HFVmUBPDrOJl2OfQI1xFW3cIKNAJ1NEl9/QpUB9E6v+x5SpQEJzorupmaxAY6H41TdSr0A=",
          "dtype": "f8"
         }
        }
       ],
       "layout": {
        "font": {
         "color": "Black",
         "size": 10
        },
        "height": 400,
        "plot_bgcolor": "white",
        "template": {
         "data": {
          "bar": [
           {
            "error_x": {
             "color": "#2a3f5f"
            },
            "error_y": {
             "color": "#2a3f5f"
            },
            "marker": {
             "line": {
              "color": "#E5ECF6",
              "width": 0.5
             },
             "pattern": {
              "fillmode": "overlay",
              "size": 10,
              "solidity": 0.2
             }
            },
            "type": "bar"
           }
          ],
          "barpolar": [
           {
            "marker": {
             "line": {
              "color": "#E5ECF6",
              "width": 0.5
             },
             "pattern": {
              "fillmode": "overlay",
              "size": 10,
              "solidity": 0.2
             }
            },
            "type": "barpolar"
           }
          ],
          "carpet": [
           {
            "aaxis": {
             "endlinecolor": "#2a3f5f",
             "gridcolor": "white",
             "linecolor": "white",
             "minorgridcolor": "white",
             "startlinecolor": "#2a3f5f"
            },
            "baxis": {
             "endlinecolor": "#2a3f5f",
             "gridcolor": "white",
             "linecolor": "white",
             "minorgridcolor": "white",
             "startlinecolor": "#2a3f5f"
            },
            "type": "carpet"
           }
          ],
          "choropleth": [
           {
            "colorbar": {
             "outlinewidth": 0,
             "ticks": ""
            },
            "type": "choropleth"
           }
          ],
          "contour": [
           {
            "colorbar": {
             "outlinewidth": 0,
             "ticks": ""
            },
            "colorscale": [
             [
              0,
              "#0d0887"
             ],
             [
              0.1111111111111111,
              "#46039f"
             ],
             [
              0.2222222222222222,
              "#7201a8"
             ],
             [
              0.3333333333333333,
              "#9c179e"
             ],
             [
              0.4444444444444444,
              "#bd3786"
             ],
             [
              0.5555555555555556,
              "#d8576b"
             ],
             [
              0.6666666666666666,
              "#ed7953"
             ],
             [
              0.7777777777777778,
              "#fb9f3a"
             ],
             [
              0.8888888888888888,
              "#fdca26"
             ],
             [
              1,
              "#f0f921"
             ]
            ],
            "type": "contour"
           }
          ],
          "contourcarpet": [
           {
            "colorbar": {
             "outlinewidth": 0,
             "ticks": ""
            },
            "type": "contourcarpet"
           }
          ],
          "heatmap": [
           {
            "colorbar": {
             "outlinewidth": 0,
             "ticks": ""
            },
            "colorscale": [
             [
              0,
              "#0d0887"
             ],
             [
              0.1111111111111111,
              "#46039f"
             ],
             [
              0.2222222222222222,
              "#7201a8"
             ],
             [
              0.3333333333333333,
              "#9c179e"
             ],
             [
              0.4444444444444444,
              "#bd3786"
             ],
             [
              0.5555555555555556,
              "#d8576b"
             ],
             [
              0.6666666666666666,
              "#ed7953"
             ],
             [
              0.7777777777777778,
              "#fb9f3a"
             ],
             [
              0.8888888888888888,
              "#fdca26"
             ],
             [
              1,
              "#f0f921"
             ]
            ],
            "type": "heatmap"
           }
          ],
          "histogram": [
           {
            "marker": {
             "pattern": {
              "fillmode": "overlay",
              "size": 10,
              "solidity": 0.2
             }
            },
            "type": "histogram"
           }
          ],
          "histogram2d": [
           {
            "colorbar": {
             "outlinewidth": 0,
             "ticks": ""
            },
            "colorscale": [
             [
              0,
              "#0d0887"
             ],
             [
              0.1111111111111111,
              "#46039f"
             ],
             [
              0.2222222222222222,
              "#7201a8"
             ],
             [
              0.3333333333333333,
              "#9c179e"
             ],
             [
              0.4444444444444444,
              "#bd3786"
             ],
             [
              0.5555555555555556,
              "#d8576b"
             ],
             [
              0.6666666666666666,
              "#ed7953"
             ],
             [
              0.7777777777777778,
              "#fb9f3a"
             ],
             [
              0.8888888888888888,
              "#fdca26"
             ],
             [
              1,
              "#f0f921"
             ]
            ],
            "type": "histogram2d"
           }
          ],
          "histogram2dcontour": [
           {
            "colorbar": {
             "outlinewidth": 0,
             "ticks": ""
            },
            "colorscale": [
             [
              0,
              "#0d0887"
             ],
             [
              0.1111111111111111,
              "#46039f"
             ],
             [
              0.2222222222222222,
              "#7201a8"
             ],
             [
              0.3333333333333333,
              "#9c179e"
             ],
             [
              0.4444444444444444,
              "#bd3786"
             ],
             [
              0.5555555555555556,
              "#d8576b"
             ],
             [
              0.6666666666666666,
              "#ed7953"
             ],
             [
              0.7777777777777778,
              "#fb9f3a"
             ],
             [
              0.8888888888888888,
              "#fdca26"
             ],
             [
              1,
              "#f0f921"
             ]
            ],
            "type": "histogram2dcontour"
           }
          ],
          "mesh3d": [
           {
            "colorbar": {
             "outlinewidth": 0,
             "ticks": ""
            },
            "type": "mesh3d"
           }
          ],
          "parcoords": [
           {
            "line": {
             "colorbar": {
              "outlinewidth": 0,
              "ticks": ""
             }
            },
            "type": "parcoords"
           }
          ],
          "pie": [
           {
            "automargin": true,
            "type": "pie"
           }
          ],
          "scatter": [
           {
            "fillpattern": {
             "fillmode": "overlay",
             "size": 10,
             "solidity": 0.2
            },
            "type": "scatter"
           }
          ],
          "scatter3d": [
           {
            "line": {
             "colorbar": {
              "outlinewidth": 0,
              "ticks": ""
             }
            },
            "marker": {
             "colorbar": {
              "outlinewidth": 0,
              "ticks": ""
             }
            },
            "type": "scatter3d"
           }
          ],
          "scattercarpet": [
           {
            "marker": {
             "colorbar": {
              "outlinewidth": 0,
              "ticks": ""
             }
            },
            "type": "scattercarpet"
           }
          ],
          "scattergeo": [
           {
            "marker": {
             "colorbar": {
              "outlinewidth": 0,
              "ticks": ""
             }
            },
            "type": "scattergeo"
           }
          ],
          "scattergl": [
           {
            "marker": {
             "colorbar": {
              "outlinewidth": 0,
              "ticks": ""
             }
            },
            "type": "scattergl"
           }
          ],
          "scattermap": [
           {
            "marker": {
             "colorbar": {
              "outlinewidth": 0,
              "ticks": ""
             }
            },
            "type": "scattermap"
           }
          ],
          "scattermapbox": [
           {
            "marker": {
             "colorbar": {
              "outlinewidth": 0,
              "ticks": ""
             }
            },
            "type": "scattermapbox"
           }
          ],
          "scatterpolar": [
           {
            "marker": {
             "colorbar": {
              "outlinewidth": 0,
              "ticks": ""
             }
            },
            "type": "scatterpolar"
           }
          ],
          "scatterpolargl": [
           {
            "marker": {
             "colorbar": {
              "outlinewidth": 0,
              "ticks": ""
             }
            },
            "type": "scatterpolargl"
           }
          ],
          "scatterternary": [
           {
            "marker": {
             "colorbar": {
              "outlinewidth": 0,
              "ticks": ""
             }
            },
            "type": "scatterternary"
           }
          ],
          "surface": [
           {
            "colorbar": {
             "outlinewidth": 0,
             "ticks": ""
            },
            "colorscale": [
             [
              0,
              "#0d0887"
             ],
             [
              0.1111111111111111,
              "#46039f"
             ],
             [
              0.2222222222222222,
              "#7201a8"
             ],
             [
              0.3333333333333333,
              "#9c179e"
             ],
             [
              0.4444444444444444,
              "#bd3786"
             ],
             [
              0.5555555555555556,
              "#d8576b"
             ],
             [
              0.6666666666666666,
              "#ed7953"
             ],
             [
              0.7777777777777778,
              "#fb9f3a"
             ],
             [
              0.8888888888888888,
              "#fdca26"
             ],
             [
              1,
              "#f0f921"
             ]
            ],
            "type": "surface"
           }
          ],
          "table": [
           {
            "cells": {
             "fill": {
              "color": "#EBF0F8"
             },
             "line": {
              "color": "white"
             }
            },
            "header": {
             "fill": {
              "color": "#C8D4E3"
             },
             "line": {
              "color": "white"
             }
            },
            "type": "table"
           }
          ]
         },
         "layout": {
          "annotationdefaults": {
           "arrowcolor": "#2a3f5f",
           "arrowhead": 0,
           "arrowwidth": 1
          },
          "autotypenumbers": "strict",
          "coloraxis": {
           "colorbar": {
            "outlinewidth": 0,
            "ticks": ""
           }
          },
          "colorscale": {
           "diverging": [
            [
             0,
             "#8e0152"
            ],
            [
             0.1,
             "#c51b7d"
            ],
            [
             0.2,
             "#de77ae"
            ],
            [
             0.3,
             "#f1b6da"
            ],
            [
             0.4,
             "#fde0ef"
            ],
            [
             0.5,
             "#f7f7f7"
            ],
            [
             0.6,
             "#e6f5d0"
            ],
            [
             0.7,
             "#b8e186"
            ],
            [
             0.8,
             "#7fbc41"
            ],
            [
             0.9,
             "#4d9221"
            ],
            [
             1,
             "#276419"
            ]
           ],
           "sequential": [
            [
             0,
             "#0d0887"
            ],
            [
             0.1111111111111111,
             "#46039f"
            ],
            [
             0.2222222222222222,
             "#7201a8"
            ],
            [
             0.3333333333333333,
             "#9c179e"
            ],
            [
             0.4444444444444444,
             "#bd3786"
            ],
            [
             0.5555555555555556,
             "#d8576b"
            ],
            [
             0.6666666666666666,
             "#ed7953"
            ],
            [
             0.7777777777777778,
             "#fb9f3a"
            ],
            [
             0.8888888888888888,
             "#fdca26"
            ],
            [
             1,
             "#f0f921"
            ]
           ],
           "sequentialminus": [
            [
             0,
             "#0d0887"
            ],
            [
             0.1111111111111111,
             "#46039f"
            ],
            [
             0.2222222222222222,
             "#7201a8"
            ],
            [
             0.3333333333333333,
             "#9c179e"
            ],
            [
             0.4444444444444444,
             "#bd3786"
            ],
            [
             0.5555555555555556,
             "#d8576b"
            ],
            [
             0.6666666666666666,
             "#ed7953"
            ],
            [
             0.7777777777777778,
             "#fb9f3a"
            ],
            [
             0.8888888888888888,
             "#fdca26"
            ],
            [
             1,
             "#f0f921"
            ]
           ]
          },
          "colorway": [
           "#636efa",
           "#EF553B",
           "#00cc96",
           "#ab63fa",
           "#FFA15A",
           "#19d3f3",
           "#FF6692",
           "#B6E880",
           "#FF97FF",
           "#FECB52"
          ],
          "font": {
           "color": "#2a3f5f"
          },
          "geo": {
           "bgcolor": "white",
           "lakecolor": "white",
           "landcolor": "#E5ECF6",
           "showlakes": true,
           "showland": true,
           "subunitcolor": "white"
          },
          "hoverlabel": {
           "align": "left"
          },
          "hovermode": "closest",
          "mapbox": {
           "style": "light"
          },
          "paper_bgcolor": "white",
          "plot_bgcolor": "#E5ECF6",
          "polar": {
           "angularaxis": {
            "gridcolor": "white",
            "linecolor": "white",
            "ticks": ""
           },
           "bgcolor": "#E5ECF6",
           "radialaxis": {
            "gridcolor": "white",
            "linecolor": "white",
            "ticks": ""
           }
          },
          "scene": {
           "xaxis": {
            "backgroundcolor": "#E5ECF6",
            "gridcolor": "white",
            "gridwidth": 2,
            "linecolor": "white",
            "showbackground": true,
            "ticks": "",
            "zerolinecolor": "white"
           },
           "yaxis": {
            "backgroundcolor": "#E5ECF6",
            "gridcolor": "white",
            "gridwidth": 2,
            "linecolor": "white",
            "showbackground": true,
            "ticks": "",
            "zerolinecolor": "white"
           },
           "zaxis": {
            "backgroundcolor": "#E5ECF6",
            "gridcolor": "white",
            "gridwidth": 2,
            "linecolor": "white",
            "showbackground": true,
            "ticks": "",
            "zerolinecolor": "white"
           }
          },
          "shapedefaults": {
           "line": {
            "color": "#2a3f5f"
           }
          },
          "ternary": {
           "aaxis": {
            "gridcolor": "white",
            "linecolor": "white",
            "ticks": ""
           },
           "baxis": {
            "gridcolor": "white",
            "linecolor": "white",
            "ticks": ""
           },
           "bgcolor": "#E5ECF6",
           "caxis": {
            "gridcolor": "white",
            "linecolor": "white",
            "ticks": ""
           }
          },
          "title": {
           "x": 0.05
          },
          "xaxis": {
           "automargin": true,
           "gridcolor": "white",
           "linecolor": "white",
           "ticks": "",
           "title": {
            "standoff": 15
           },
           "zerolinecolor": "white",
           "zerolinewidth": 2
          },
          "yaxis": {
           "automargin": true,
           "gridcolor": "white",
           "linecolor": "white",
           "ticks": "",
           "title": {
            "standoff": 15
           },
           "zerolinecolor": "white",
           "zerolinewidth": 2
          }
         }
        },
        "width": 600,
        "xaxis": {
         "gridcolor": "lightgrey",
         "linecolor": "black",
         "mirror": true,
         "showline": true,
         "ticks": "outside",
         "title": {
          "text": "θ (°)"
         }
        },
        "yaxis": {
         "gridcolor": "lightgrey",
         "linecolor": "black",
         "mirror": true,
         "showline": true,
         "ticks": "outside",
         "title": {
          "text": "γ (Hz)"
         }
        }
       }
      }
     },
     "metadata": {},
     "output_type": "display_data"
    }
   ],
   "source": [
    "# plot fit gamma teta\n",
    "\n",
    "fig = go.Figure()\n",
    "\n",
    "X,Y = gammatetafit.draw()\n",
    "fig.add_trace(go.Scatter(x=X, y=Y, mode='lines',line_color=px.colors.sequential.Plasma[6], showlegend=False,hoverinfo='skip'))\n",
    "\n",
    "fig.add_trace(go.Scatter(x=TETA,y=GAMMA, mode='markers',showlegend=False,\n",
    "    marker=dict(color=px.colors.sequential.Plasma[0]),\n",
    "    error_y=dict( \n",
    "        type='data', \n",
    "        array=sigmaGAMMA, \n",
    "        color=px.colors.sequential.Plasma[1],\n",
    "        thickness=1.5, \n",
    "        width=3, \n",
    "    )))\n",
    "\n",
    "fig.update_layout(\n",
    "    # xaxis_type=\"log\",\n",
    "    yaxis_title=\"γ (Hz)\",\n",
    "    xaxis_title=\"θ (°)\",\n",
    "    # title='g<sup>2</sup>(τ) vs t',\n",
    "    # xaxis=dict(range=[np.log10(0.0001), np.log10(0.010)]),\n",
    "    width=600,\n",
    "    height=400,\n",
    "    # title={\n",
    "    #     'text': \"γ = 2DQ<sup>2</sup>(θ)\",\n",
    "    #     'y':0.8,\n",
    "    #     'x':0.5,\n",
    "    #     'xanchor': 'center',\n",
    "    #     'yanchor': 'top',\n",
    "    #     'font':dict(size=15)\n",
    "    # },\n",
    "    plot_bgcolor='white',\n",
    "    font=dict(\n",
    "        #family=\"Courier New, monospace\",\n",
    "        size=10,\n",
    "        color=\"Black\"\n",
    "    ),\n",
    "        # yaxis=dict(range=[0, 0.06])\n",
    ")\n",
    "\n",
    "fig.update_xaxes(\n",
    "    mirror=True,\n",
    "    ticks='outside',\n",
    "    showline=True,\n",
    "    linecolor='black',\n",
    "    gridcolor='lightgrey'\n",
    ")\n",
    "# fig.update_layout(font=dict(size=10))\n",
    "fig.update_yaxes(\n",
    "    mirror=True,\n",
    "    ticks='outside',\n",
    "    showline=True,\n",
    "    linecolor='black',\n",
    "    gridcolor='lightgrey'\n",
    ")\n",
    "\n",
    "fig.show()"
   ]
  },
  {
   "cell_type": "code",
   "execution_count": 13,
   "metadata": {},
   "outputs": [],
   "source": [
    "# def calculate_R(gamma, theta):\n",
    "#     theta_rad = np.radians(theta)\n",
    "#     R = (16 * np.pi * n**2 * T * KB * np.sin(theta_rad / 2)**2) / (3 * η * λ**2 * gamma)\n",
    "#     return R\n",
    "\n",
    "# def calculate_sigma_R(gamma, sigma_gamma,sigmaT,sigmaη,sigman, theta):\n",
    "#     theta_rad = np.radians(theta)\n",
    "#     term1 = (16 * np.pi * n**2 * T * KB * np.sin(theta_rad / 2)**2) / (3 * η * λ**2 * gamma**2) * sigma_gamma\n",
    "#     term2 = (16 * np.pi * n**2 * KB * np.sin(theta_rad / 2)**2) / (3 * η * λ**2 * gamma) * sigmaT\n",
    "#     term3 = (16 * np.pi * n**2 * T * KB * np.sin(theta_rad / 2)**2) / (3 * η**2 * λ**2 * gamma) * sigmaη\n",
    "#     term4 = (32 * np.pi * n * T * KB * np.sin(theta_rad / 2)**2) / (3 * η * λ**2 * gamma) * sigman\n",
    "#     sigma_R = np.sqrt(term1**2 + term2**2 + term3**2 + term4**2)\n",
    "#     return sigma_R\n",
    "\n",
    "# # Calculate sigma_R for each gamma and theta\n",
    "# sigma_R_values = np.array([calculate_sigma_R(gamma, sigma_gamma,sigmaT,sigmaη,sigman, theta) for gamma, sigma_gamma, theta in zip(GAMMA, sigmaGAMMA, TETA)])\n",
    "\n",
    "# # Calculate R for each gamma and theta\n",
    "# R_values = np.array([calculate_R(gamma, theta) for gamma, theta in zip(GAMMA, TETA)])\n",
    "# R_out = np.array([final_val(r,sr,1,udm='nm') for r,sr in zip(R_values,sigma_R_values)])\n",
    "# R_values_df = pd.DataFrame({'θ (deg)': TETA, 'R (nm)': R_values,'σR (nm)': sigma_R_values,'R_out (nm)':R_out})\n",
    "# display(R_values_df)"
   ]
  },
  {
   "cell_type": "code",
   "execution_count": 14,
   "metadata": {},
   "outputs": [],
   "source": [
    "# R = np.average(R_values,weights=1/sigma_R_values**2)\n",
    "\n",
    "# σR = (1/np.sqrt(np.sum(1/sigma_R_values**2)))\n",
    "\n",
    "\n",
    "# # from statsmodels.stats.weightstats import DescrStatsW\n",
    "# # #calculate weighted standard deviation\n",
    "# # σR = DescrStatsW(R_values, weights=1/sigma_R_values**2, ddof=1).std#\n",
    "# # # σR = np.std(R_values,ddof=1,mean=R)\n",
    "\n",
    "# print('R = ',final_val(R,σR,1,udm='nm'))"
   ]
  },
  {
   "cell_type": "markdown",
   "metadata": {},
   "source": [
    "# R CON COEFF DI DIFFUSIONE:"
   ]
  },
  {
   "cell_type": "code",
   "execution_count": 15,
   "metadata": {},
   "outputs": [
    {
     "name": "stdout",
     "output_type": "stream",
     "text": [
      "R =  62.6 ± 0.8 nm\n"
     ]
    }
   ],
   "source": [
    "R = KB*T/(6*np.pi*η*D)\n",
    "σR = R*np.sqrt((sigmaT/T)**2 + (sigmaη/η)**2 + (σD/D)**2)\n",
    "\n",
    "print('R = ',final_val(R,σR,1,udm='nm'))"
   ]
  },
  {
   "cell_type": "markdown",
   "metadata": {},
   "source": [
    "# TEST COMPATIBILITA'"
   ]
  },
  {
   "cell_type": "code",
   "execution_count": 16,
   "metadata": {},
   "outputs": [
    {
     "name": "stdout",
     "output_type": "stream",
     "text": [
      "Diametro misurato:  125.3 ± 1.6 nm\n",
      "Diametro costruttore:  120 ± 15 nm\n",
      "t = 0.351\n",
      "COmpatibilità: 63.7%\n"
     ]
    }
   ],
   "source": [
    "from scipy.stats import norm\n",
    "\n",
    "costruttoreD = 120\n",
    "sigmaDcostruttore = 15\n",
    "\n",
    "D = R*2\n",
    "σD = 2*σR\n",
    "\n",
    "σ = np.sqrt(σD**2 + sigmaDcostruttore**2)\n",
    "\n",
    "t = (D-costruttoreD)/σ\n",
    "\n",
    "\n",
    "print('Diametro misurato: ',final_val(D,σD,1,0,udm='nm'))\n",
    "print('Diametro costruttore: ',final_val(costruttoreD,sigmaDcostruttore,0,0,udm='nm'))\n",
    "print(f\"t = {np.round(t,3)}\")\n",
    "print(f\"COmpatibilità: {np.round(norm.cdf(t)*100,1)}%\")\n",
    "\n",
    "# NOTA: il t non deve essere maggiore di 2, la probabilità deve essere minore possibile"
   ]
  }
 ],
 "metadata": {
  "kernelspec": {
   "display_name": "Python 3",
   "language": "python",
   "name": "python3"
  },
  "language_info": {
   "codemirror_mode": {
    "name": "ipython",
    "version": 3
   },
   "file_extension": ".py",
   "mimetype": "text/x-python",
   "name": "python",
   "nbconvert_exporter": "python",
   "pygments_lexer": "ipython3",
   "version": "3.13.0"
  }
 },
 "nbformat": 4,
 "nbformat_minor": 2
}
