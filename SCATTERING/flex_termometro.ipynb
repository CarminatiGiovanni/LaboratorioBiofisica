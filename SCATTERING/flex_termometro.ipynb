{
 "cells": [
  {
   "cell_type": "code",
   "execution_count": 11,
   "metadata": {},
   "outputs": [],
   "source": [
    "import numpy as np\n",
    "import os\n",
    "import sys\n",
    "dir_path = os.path.abspath('')\n",
    "sys.path.append(dir_path + '/../')\n",
    "from labbiofisica import Interpolazione, final_val\n",
    "\n",
    "η = 10**-9 # (g/nm s)\n",
    "R = 60 #nm\n",
    "σR = 4 #nm\n",
    "KB = 1.3806e-2 # g nm^2 / K s^2\n",
    "D = 3.71e6 #nm^2/s\n",
    "σD = 0.04e6 #nm^2/s"
   ]
  },
  {
   "cell_type": "code",
   "execution_count": 12,
   "metadata": {},
   "outputs": [
    {
     "name": "stdout",
     "output_type": "stream",
     "text": [
      "T = 303.9 ± 20.5 K\n"
     ]
    }
   ],
   "source": [
    "T = (6*np.pi*η*D*R)/KB\n",
    "σT = T*np.sqrt((σR/R)**2 + (σD/D)**2)\n",
    "# \n",
    "print('T =', final_val(T,σT,1,udm='K'))"
   ]
  }
 ],
 "metadata": {
  "kernelspec": {
   "display_name": "Python 3",
   "language": "python",
   "name": "python3"
  },
  "language_info": {
   "codemirror_mode": {
    "name": "ipython",
    "version": 3
   },
   "file_extension": ".py",
   "mimetype": "text/x-python",
   "name": "python",
   "nbconvert_exporter": "python",
   "pygments_lexer": "ipython3",
   "version": "3.13.0"
  }
 },
 "nbformat": 4,
 "nbformat_minor": 2
}
