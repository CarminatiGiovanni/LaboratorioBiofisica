{
 "cells": [
  {
   "cell_type": "markdown",
   "metadata": {},
   "source": [
    "OBIETTIVO: capire ogni pixel a quanti micrometri corrisponde\n",
    "\n",
    "CI SI RIFERISCE ALL'INGRANDIMENTO 150"
   ]
  },
  {
   "cell_type": "code",
   "execution_count": 1,
   "metadata": {},
   "outputs": [],
   "source": [
    "from matplotlib import pyplot as plt\n",
    "import numpy as np\n",
    "import pandas as pd\n",
    "import plotly.express as px\n",
    "import os\n",
    "import sys\n",
    "import plotly.graph_objects as go \n",
    "from scipy.optimize import curve_fit\n",
    "from scipy.stats import norm\n",
    "dir_path = os.path.abspath('')\n",
    "sys.path.append(dir_path + '/../')\n",
    "from labbiofisica import Interpolazione, final_val"
   ]
  },
  {
   "cell_type": "code",
   "execution_count": 2,
   "metadata": {},
   "outputs": [
    {
     "data": {
      "text/html": [
       "<div>\n",
       "<style scoped>\n",
       "    .dataframe tbody tr th:only-of-type {\n",
       "        vertical-align: middle;\n",
       "    }\n",
       "\n",
       "    .dataframe tbody tr th {\n",
       "        vertical-align: top;\n",
       "    }\n",
       "\n",
       "    .dataframe thead th {\n",
       "        text-align: right;\n",
       "    }\n",
       "</style>\n",
       "<table border=\"1\" class=\"dataframe\">\n",
       "  <thead>\n",
       "    <tr style=\"text-align: right;\">\n",
       "      <th></th>\n",
       "      <th>1dmicron to pixel</th>\n",
       "      <th>2dmicron to pixel</th>\n",
       "      <th>5dmicron to pixel</th>\n",
       "      <th>10dmicron to pixel</th>\n",
       "    </tr>\n",
       "  </thead>\n",
       "  <tbody>\n",
       "    <tr>\n",
       "      <th>0</th>\n",
       "      <td>23</td>\n",
       "      <td>48</td>\n",
       "      <td>134.0</td>\n",
       "      <td>242.0</td>\n",
       "    </tr>\n",
       "    <tr>\n",
       "      <th>1</th>\n",
       "      <td>22</td>\n",
       "      <td>47</td>\n",
       "      <td>121.0</td>\n",
       "      <td>211.0</td>\n",
       "    </tr>\n",
       "    <tr>\n",
       "      <th>2</th>\n",
       "      <td>22</td>\n",
       "      <td>43</td>\n",
       "      <td>106.0</td>\n",
       "      <td>218.0</td>\n",
       "    </tr>\n",
       "    <tr>\n",
       "      <th>3</th>\n",
       "      <td>23</td>\n",
       "      <td>33</td>\n",
       "      <td>106.0</td>\n",
       "      <td>NaN</td>\n",
       "    </tr>\n",
       "    <tr>\n",
       "      <th>4</th>\n",
       "      <td>21</td>\n",
       "      <td>43</td>\n",
       "      <td>111.0</td>\n",
       "      <td>NaN</td>\n",
       "    </tr>\n",
       "  </tbody>\n",
       "</table>\n",
       "</div>"
      ],
      "text/plain": [
       "   1dmicron to pixel  2dmicron to pixel  5dmicron to pixel  10dmicron to pixel\n",
       "0                 23                 48              134.0               242.0\n",
       "1                 22                 47              121.0               211.0\n",
       "2                 22                 43              106.0               218.0\n",
       "3                 23                 33              106.0                 NaN\n",
       "4                 21                 43              111.0                 NaN"
      ]
     },
     "execution_count": 2,
     "metadata": {},
     "output_type": "execute_result"
    }
   ],
   "source": [
    "righello = pd.read_csv(dir_path + '/data/righello_150.csv')\n",
    "righello.head()"
   ]
  },
  {
   "cell_type": "code",
   "execution_count": 3,
   "metadata": {},
   "outputs": [
    {
     "name": "stdout",
     "output_type": "stream",
     "text": [
      "21.9 ± 1.5 pixel/dmicron\n"
     ]
    }
   ],
   "source": [
    "mic1 = righello['1dmicron to pixel'].dropna().to_numpy()\n",
    "mic2 = righello['2dmicron to pixel'].dropna().to_numpy()/2\n",
    "mic3 = righello['5dmicron to pixel'].dropna().to_numpy()/5\n",
    "mic4 = righello['10dmicron to pixel'].dropna().to_numpy()/10\n",
    "\n",
    "pixel_1_dmicron = np.concatenate([mic1, mic2, mic3, mic4])\n",
    "\n",
    "N = len(pixel_1_dmicron)\n",
    "\n",
    "p1m_mean = np.mean(pixel_1_dmicron)\n",
    "p1m_std = np.std(pixel_1_dmicron) * np.sqrt(N/(N-1))\n",
    "p1m_err = p1m_std/np.sqrt(N)\n",
    "\n",
    "print(final_val(p1m_mean, p1m_std,1, udm='pixel/dmicron'))"
   ]
  },
  {
   "cell_type": "code",
   "execution_count": 4,
   "metadata": {},
   "outputs": [
    {
     "name": "stdout",
     "output_type": "stream",
     "text": [
      "(4.6 ± 0.3)e-2 dmicron/pixel\n"
     ]
    }
   ],
   "source": [
    "# invertendo la relazione\n",
    "\n",
    "to_dmicron_factor = 1/p1m_mean\n",
    "to_dmicron_factor_std = p1m_std/p1m_mean**2\n",
    "\n",
    "print(final_val(to_dmicron_factor, to_dmicron_factor_std,1,exp=-2, udm='dmicron/pixel'))"
   ]
  },
  {
   "cell_type": "code",
   "execution_count": 5,
   "metadata": {},
   "outputs": [
    {
     "data": {
      "text/html": [
       "<div>\n",
       "<style scoped>\n",
       "    .dataframe tbody tr th:only-of-type {\n",
       "        vertical-align: middle;\n",
       "    }\n",
       "\n",
       "    .dataframe tbody tr th {\n",
       "        vertical-align: top;\n",
       "    }\n",
       "\n",
       "    .dataframe thead th {\n",
       "        text-align: right;\n",
       "    }\n",
       "</style>\n",
       "<table border=\"1\" class=\"dataframe\">\n",
       "  <thead>\n",
       "    <tr style=\"text-align: right;\">\n",
       "      <th></th>\n",
       "      <th>CLD</th>\n",
       "      <th>CSD</th>\n",
       "      <th>NLD</th>\n",
       "      <th>NSD</th>\n",
       "    </tr>\n",
       "  </thead>\n",
       "  <tbody>\n",
       "    <tr>\n",
       "      <th>0</th>\n",
       "      <td>51</td>\n",
       "      <td>35</td>\n",
       "      <td>19</td>\n",
       "      <td>10</td>\n",
       "    </tr>\n",
       "    <tr>\n",
       "      <th>1</th>\n",
       "      <td>52</td>\n",
       "      <td>26</td>\n",
       "      <td>19</td>\n",
       "      <td>8</td>\n",
       "    </tr>\n",
       "    <tr>\n",
       "      <th>2</th>\n",
       "      <td>51</td>\n",
       "      <td>29</td>\n",
       "      <td>17</td>\n",
       "      <td>11</td>\n",
       "    </tr>\n",
       "    <tr>\n",
       "      <th>3</th>\n",
       "      <td>46</td>\n",
       "      <td>30</td>\n",
       "      <td>15</td>\n",
       "      <td>9</td>\n",
       "    </tr>\n",
       "    <tr>\n",
       "      <th>4</th>\n",
       "      <td>53</td>\n",
       "      <td>29</td>\n",
       "      <td>17</td>\n",
       "      <td>11</td>\n",
       "    </tr>\n",
       "  </tbody>\n",
       "</table>\n",
       "</div>"
      ],
      "text/plain": [
       "   CLD  CSD  NLD  NSD\n",
       "0   51   35   19   10\n",
       "1   52   26   19    8\n",
       "2   51   29   17   11\n",
       "3   46   30   15    9\n",
       "4   53   29   17   11"
      ]
     },
     "execution_count": 5,
     "metadata": {},
     "output_type": "execute_result"
    }
   ],
   "source": [
    "eritrociti = righello = pd.read_csv(dir_path + '/data/rana_150.csv')\n",
    "eritrociti.head()"
   ]
  },
  {
   "cell_type": "code",
   "execution_count": 6,
   "metadata": {},
   "outputs": [],
   "source": [
    "CLD = eritrociti['CLD'].dropna().to_numpy()\n",
    "CSD = eritrociti['CSD'].dropna().to_numpy()\n",
    "NLD = eritrociti['NLD'].dropna().to_numpy()\n",
    "NSD = eritrociti['NSD'].dropna().to_numpy()\n",
    "\n",
    "CLD_mean = np.mean(CLD)\n",
    "CSD_mean = np.mean(CSD)\n",
    "NLD_mean = np.mean(NLD)\n",
    "NSD_mean = np.mean(NSD)\n",
    "\n",
    "CLD_std = np.std(CLD) * np.sqrt(N/(N-1))\n",
    "CSD_std = np.std(CSD) * np.sqrt(N/(N-1))\n",
    "NLD_std = np.std(NLD) * np.sqrt(N/(N-1))\n",
    "NSD_std = np.std(NSD) * np.sqrt(N/(N-1))\n",
    "\n",
    "CLD_err = CLD_std/np.sqrt(N)\n",
    "CSD_err = CSD_std/np.sqrt(N)\n",
    "NLD_err = NLD_std/np.sqrt(N)\n",
    "NSD_err = NSD_std/np.sqrt(N)"
   ]
  },
  {
   "cell_type": "code",
   "execution_count": 11,
   "metadata": {},
   "outputs": [
    {
     "name": "stdout",
     "output_type": "stream",
     "text": [
      "CLD:  22.9 ± 2.8 μm\n",
      "CSD:  13.7 ± 1.8 μm\n",
      "NLD:  8.2 ± 1.0 μm\n",
      "NSD:  4.4 ± 0.7 μm\n"
     ]
    }
   ],
   "source": [
    "# CONVERTO IN dmicron\n",
    "\n",
    "CLD_dmicron = CLD_mean * to_dmicron_factor * 10\n",
    "CSD_dmicron = CSD_mean * to_dmicron_factor * 10\n",
    "NLD_dmicron = NLD_mean * to_dmicron_factor * 10\n",
    "NSD_dmicron = NSD_mean * to_dmicron_factor * 10\n",
    "\n",
    "CLD_dmicron_std = CLD_dmicron * np.sqrt((CLD_std/CLD_mean)**2 + (to_dmicron_factor_std/to_dmicron_factor)**2)# * 10\n",
    "CSD_dmicron_std = CSD_dmicron * np.sqrt((CSD_std/CSD_mean)**2 + (to_dmicron_factor_std/to_dmicron_factor)**2)# * 10\n",
    "NLD_dmicron_std = NLD_dmicron * np.sqrt((NLD_std/NLD_mean)**2 + (to_dmicron_factor_std/to_dmicron_factor)**2)# * 10\n",
    "NSD_dmicron_std = NSD_dmicron * np.sqrt((NSD_std/NSD_mean)**2 + (to_dmicron_factor_std/to_dmicron_factor)**2)# * 10\n",
    "\n",
    "print('CLD: ',final_val(CLD_dmicron, CLD_dmicron_std,1, udm='μm'))\n",
    "print('CSD: ',final_val(CSD_dmicron, CSD_dmicron_std,1, udm='μm'))\n",
    "print('NLD: ',final_val(NLD_dmicron, NLD_dmicron_std,1, udm='μm'))\n",
    "print('NSD: ',final_val(NSD_dmicron, NSD_dmicron_std,1, udm='μm'))"
   ]
  }
 ],
 "metadata": {
  "kernelspec": {
   "display_name": "Python 3",
   "language": "python",
   "name": "python3"
  },
  "language_info": {
   "codemirror_mode": {
    "name": "ipython",
    "version": 3
   },
   "file_extension": ".py",
   "mimetype": "text/x-python",
   "name": "python",
   "nbconvert_exporter": "python",
   "pygments_lexer": "ipython3",
   "version": "3.13.0"
  }
 },
 "nbformat": 4,
 "nbformat_minor": 2
}
