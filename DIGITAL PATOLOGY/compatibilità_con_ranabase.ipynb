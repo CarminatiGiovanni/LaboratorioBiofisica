{
 "cells": [
  {
   "cell_type": "code",
   "execution_count": 1,
   "metadata": {},
   "outputs": [],
   "source": [
    "# COMPATIBILITA' CON IL RANABASE\n",
    "\n",
    "from matplotlib import pyplot as plt\n",
    "import numpy as np\n",
    "import pandas as pd\n",
    "import plotly.express as px\n",
    "import os\n",
    "import sys\n",
    "import plotly.graph_objects as go \n",
    "from scipy.optimize import curve_fit\n",
    "from scipy.stats import norm\n",
    "dir_path = os.path.abspath('')\n",
    "sys.path.append(dir_path + '/../')\n",
    "from labbiofisica import Interpolazione, final_val"
   ]
  },
  {
   "cell_type": "code",
   "execution_count": 2,
   "metadata": {},
   "outputs": [
    {
     "data": {
      "text/html": [
       "<div>\n",
       "<style scoped>\n",
       "    .dataframe tbody tr th:only-of-type {\n",
       "        vertical-align: middle;\n",
       "    }\n",
       "\n",
       "    .dataframe tbody tr th {\n",
       "        vertical-align: top;\n",
       "    }\n",
       "\n",
       "    .dataframe thead th {\n",
       "        text-align: right;\n",
       "    }\n",
       "</style>\n",
       "<table border=\"1\" class=\"dataframe\">\n",
       "  <thead>\n",
       "    <tr style=\"text-align: right;\">\n",
       "      <th></th>\n",
       "      <th>Specie</th>\n",
       "      <th>CLD</th>\n",
       "      <th>CSD</th>\n",
       "      <th>RATIO C</th>\n",
       "      <th>NLD</th>\n",
       "      <th>NSD</th>\n",
       "      <th>RATIO N</th>\n",
       "    </tr>\n",
       "  </thead>\n",
       "  <tbody>\n",
       "    <tr>\n",
       "      <th>0</th>\n",
       "      <td>Limnonectes limnocharis</td>\n",
       "      <td>19.6</td>\n",
       "      <td>13.2</td>\n",
       "      <td>0.67</td>\n",
       "      <td>7.9</td>\n",
       "      <td>4.9</td>\n",
       "      <td>0.62</td>\n",
       "    </tr>\n",
       "    <tr>\n",
       "      <th>1</th>\n",
       "      <td>Pyxicephalus adspersus</td>\n",
       "      <td>NaN</td>\n",
       "      <td>NaN</td>\n",
       "      <td>NaN</td>\n",
       "      <td>NaN</td>\n",
       "      <td>NaN</td>\n",
       "      <td>NaN</td>\n",
       "    </tr>\n",
       "    <tr>\n",
       "      <th>2</th>\n",
       "      <td>Rana catesbeiana</td>\n",
       "      <td>25.0</td>\n",
       "      <td>12.4</td>\n",
       "      <td>0.50</td>\n",
       "      <td>9.9</td>\n",
       "      <td>5.7</td>\n",
       "      <td>0.58</td>\n",
       "    </tr>\n",
       "    <tr>\n",
       "      <th>3</th>\n",
       "      <td>\" \"</td>\n",
       "      <td>24.8</td>\n",
       "      <td>15.3</td>\n",
       "      <td>0.62</td>\n",
       "      <td>NaN</td>\n",
       "      <td>NaN</td>\n",
       "      <td>NaN</td>\n",
       "    </tr>\n",
       "    <tr>\n",
       "      <th>4</th>\n",
       "      <td>\" \"</td>\n",
       "      <td>26.1</td>\n",
       "      <td>13.5</td>\n",
       "      <td>0.52</td>\n",
       "      <td>10.0</td>\n",
       "      <td>5.6</td>\n",
       "      <td>0.56</td>\n",
       "    </tr>\n",
       "    <tr>\n",
       "      <th>5</th>\n",
       "      <td>\" \"</td>\n",
       "      <td>27.9</td>\n",
       "      <td>15.4</td>\n",
       "      <td>0.55</td>\n",
       "      <td>10.3</td>\n",
       "      <td>5.6</td>\n",
       "      <td>0.54</td>\n",
       "    </tr>\n",
       "    <tr>\n",
       "      <th>6</th>\n",
       "      <td>\" \"</td>\n",
       "      <td>25.7</td>\n",
       "      <td>14.2</td>\n",
       "      <td>0.55</td>\n",
       "      <td>NaN</td>\n",
       "      <td>NaN</td>\n",
       "      <td>NaN</td>\n",
       "    </tr>\n",
       "    <tr>\n",
       "      <th>7</th>\n",
       "      <td>Rana clamitans</td>\n",
       "      <td>22.5</td>\n",
       "      <td>15.0</td>\n",
       "      <td>0.67</td>\n",
       "      <td>NaN</td>\n",
       "      <td>NaN</td>\n",
       "      <td>NaN</td>\n",
       "    </tr>\n",
       "    <tr>\n",
       "      <th>8</th>\n",
       "      <td>\" \"</td>\n",
       "      <td>23.0</td>\n",
       "      <td>11.9</td>\n",
       "      <td>0.52</td>\n",
       "      <td>NaN</td>\n",
       "      <td>NaN</td>\n",
       "      <td>NaN</td>\n",
       "    </tr>\n",
       "    <tr>\n",
       "      <th>9</th>\n",
       "      <td>Rana esculenta</td>\n",
       "      <td>25.4</td>\n",
       "      <td>17.6</td>\n",
       "      <td>0.69</td>\n",
       "      <td>NaN</td>\n",
       "      <td>NaN</td>\n",
       "      <td>NaN</td>\n",
       "    </tr>\n",
       "    <tr>\n",
       "      <th>10</th>\n",
       "      <td>Rana japonica</td>\n",
       "      <td>21.8</td>\n",
       "      <td>14.3</td>\n",
       "      <td>0.66</td>\n",
       "      <td>8.9</td>\n",
       "      <td>5.3</td>\n",
       "      <td>0.60</td>\n",
       "    </tr>\n",
       "    <tr>\n",
       "      <th>11</th>\n",
       "      <td>Rana nigromaculata</td>\n",
       "      <td>21.8</td>\n",
       "      <td>14.3</td>\n",
       "      <td>0.66</td>\n",
       "      <td>9.3</td>\n",
       "      <td>5.5</td>\n",
       "      <td>0.59</td>\n",
       "    </tr>\n",
       "    <tr>\n",
       "      <th>12</th>\n",
       "      <td>Rana palustris</td>\n",
       "      <td>20.4</td>\n",
       "      <td>12.7</td>\n",
       "      <td>0.62</td>\n",
       "      <td>NaN</td>\n",
       "      <td>NaN</td>\n",
       "      <td>NaN</td>\n",
       "    </tr>\n",
       "    <tr>\n",
       "      <th>13</th>\n",
       "      <td>Rana pipiens</td>\n",
       "      <td>21.5</td>\n",
       "      <td>12.2</td>\n",
       "      <td>0.57</td>\n",
       "      <td>8.8</td>\n",
       "      <td>5.2</td>\n",
       "      <td>0.59</td>\n",
       "    </tr>\n",
       "    <tr>\n",
       "      <th>14</th>\n",
       "      <td>\" \"</td>\n",
       "      <td>23.8</td>\n",
       "      <td>16.2</td>\n",
       "      <td>0.68</td>\n",
       "      <td>NaN</td>\n",
       "      <td>NaN</td>\n",
       "      <td>NaN</td>\n",
       "    </tr>\n",
       "    <tr>\n",
       "      <th>15</th>\n",
       "      <td>\" \"</td>\n",
       "      <td>20.5</td>\n",
       "      <td>13.2</td>\n",
       "      <td>0.64</td>\n",
       "      <td>NaN</td>\n",
       "      <td>NaN</td>\n",
       "      <td>NaN</td>\n",
       "    </tr>\n",
       "    <tr>\n",
       "      <th>16</th>\n",
       "      <td>Rana porosa</td>\n",
       "      <td>22.9</td>\n",
       "      <td>14.9</td>\n",
       "      <td>0.65</td>\n",
       "      <td>8.5</td>\n",
       "      <td>5.4</td>\n",
       "      <td>0.64</td>\n",
       "    </tr>\n",
       "    <tr>\n",
       "      <th>17</th>\n",
       "      <td>Rana rugosa</td>\n",
       "      <td>26.6</td>\n",
       "      <td>16.1</td>\n",
       "      <td>0.61</td>\n",
       "      <td>12.0</td>\n",
       "      <td>6.4</td>\n",
       "      <td>0.53</td>\n",
       "    </tr>\n",
       "    <tr>\n",
       "      <th>18</th>\n",
       "      <td>Rana sylvatica</td>\n",
       "      <td>25.5</td>\n",
       "      <td>16.5</td>\n",
       "      <td>0.65</td>\n",
       "      <td>NaN</td>\n",
       "      <td>NaN</td>\n",
       "      <td>NaN</td>\n",
       "    </tr>\n",
       "    <tr>\n",
       "      <th>19</th>\n",
       "      <td>Rana tagoi</td>\n",
       "      <td>24.5</td>\n",
       "      <td>14.2</td>\n",
       "      <td>0.58</td>\n",
       "      <td>10.0</td>\n",
       "      <td>5.7</td>\n",
       "      <td>0.57</td>\n",
       "    </tr>\n",
       "    <tr>\n",
       "      <th>20</th>\n",
       "      <td>Rana temporaria</td>\n",
       "      <td>22.9</td>\n",
       "      <td>13.9</td>\n",
       "      <td>0.61</td>\n",
       "      <td>8.2</td>\n",
       "      <td>4.0</td>\n",
       "      <td>0.49</td>\n",
       "    </tr>\n",
       "    <tr>\n",
       "      <th>21</th>\n",
       "      <td>\" \"</td>\n",
       "      <td>24.6</td>\n",
       "      <td>16.9</td>\n",
       "      <td>0.69</td>\n",
       "      <td>NaN</td>\n",
       "      <td>NaN</td>\n",
       "      <td>NaN</td>\n",
       "    </tr>\n",
       "    <tr>\n",
       "      <th>22</th>\n",
       "      <td>Rana tsushimensis</td>\n",
       "      <td>22.2</td>\n",
       "      <td>14.2</td>\n",
       "      <td>0.64</td>\n",
       "      <td>9.5</td>\n",
       "      <td>5.1</td>\n",
       "      <td>0.54</td>\n",
       "    </tr>\n",
       "  </tbody>\n",
       "</table>\n",
       "</div>"
      ],
      "text/plain": [
       "                     Specie   CLD   CSD  RATIO C   NLD  NSD  RATIO N\n",
       "0   Limnonectes limnocharis  19.6  13.2     0.67   7.9  4.9     0.62\n",
       "1    Pyxicephalus adspersus   NaN   NaN      NaN   NaN  NaN      NaN\n",
       "2          Rana catesbeiana  25.0  12.4     0.50   9.9  5.7     0.58\n",
       "3                       \" \"  24.8  15.3     0.62   NaN  NaN      NaN\n",
       "4                       \" \"  26.1  13.5     0.52  10.0  5.6     0.56\n",
       "5                       \" \"  27.9  15.4     0.55  10.3  5.6     0.54\n",
       "6                       \" \"  25.7  14.2     0.55   NaN  NaN      NaN\n",
       "7            Rana clamitans  22.5  15.0     0.67   NaN  NaN      NaN\n",
       "8                       \" \"  23.0  11.9     0.52   NaN  NaN      NaN\n",
       "9            Rana esculenta  25.4  17.6     0.69   NaN  NaN      NaN\n",
       "10            Rana japonica  21.8  14.3     0.66   8.9  5.3     0.60\n",
       "11       Rana nigromaculata  21.8  14.3     0.66   9.3  5.5     0.59\n",
       "12           Rana palustris  20.4  12.7     0.62   NaN  NaN      NaN\n",
       "13             Rana pipiens  21.5  12.2     0.57   8.8  5.2     0.59\n",
       "14                      \" \"  23.8  16.2     0.68   NaN  NaN      NaN\n",
       "15                      \" \"  20.5  13.2     0.64   NaN  NaN      NaN\n",
       "16              Rana porosa  22.9  14.9     0.65   8.5  5.4     0.64\n",
       "17              Rana rugosa  26.6  16.1     0.61  12.0  6.4     0.53\n",
       "18           Rana sylvatica  25.5  16.5     0.65   NaN  NaN      NaN\n",
       "19               Rana tagoi  24.5  14.2     0.58  10.0  5.7     0.57\n",
       "20          Rana temporaria  22.9  13.9     0.61   8.2  4.0     0.49\n",
       "21                      \" \"  24.6  16.9     0.69   NaN  NaN      NaN\n",
       "22        Rana tsushimensis  22.2  14.2     0.64   9.5  5.1     0.54"
      ]
     },
     "metadata": {},
     "output_type": "display_data"
    }
   ],
   "source": [
    "RANABASE = pd.read_csv('data/RANABASE.csv', sep = ',', decimal = '.')\n",
    "display(RANABASE)"
   ]
  },
  {
   "cell_type": "code",
   "execution_count": 3,
   "metadata": {},
   "outputs": [],
   "source": [
    "# Citoratio:  0.627 ± 0.03 \n",
    "# Nucleoratio:  0.55 ± 0.025 \n",
    "# CLD:  22.9 ± 2.8 μm\n",
    "# CSD:  13.7 ± 1.8 μm\n",
    "# NLD:  8.2 ± 1.0 μm\n",
    "# NSD:  4.4 ± 0.7 μm\n",
    "\n",
    "citoratio = 0.627\n",
    "nucleoratio = 0.55\n",
    "scitoratio = 0.03\n",
    "snucleoratio = 0.025\n",
    "\n",
    "CLD = 22.9\n",
    "CSD = 13.7\n",
    "NLD = 8.2\n",
    "NSD = 4.4\n",
    "\n",
    "sCLD = 2.8\n",
    "sCSD = 1.8\n",
    "sNLD = 1.0\n",
    "sNSD = 0.7"
   ]
  },
  {
   "cell_type": "code",
   "execution_count": 4,
   "metadata": {},
   "outputs": [],
   "source": [
    "DIGIT = 3\n",
    "\n",
    "tCSD = np.round(np.abs(CSD - RANABASE['CSD']) / sCSD, DIGIT)\n",
    "tCLD = np.round(np.abs(CLD - RANABASE['CLD']) / sCLD, DIGIT)\n",
    "tNLD = np.round(np.abs(NLD - RANABASE['NLD']) / sNLD, DIGIT)\n",
    "tNSD = np.round(np.abs(NSD - RANABASE['NSD']) / sNSD, DIGIT)\n",
    "\n",
    "tCitoratio = np.round(np.abs(citoratio - RANABASE['RATIO C']) / scitoratio, DIGIT)\n",
    "tNucleoratio = np.round(np.abs(nucleoratio - RANABASE['RATIO N']) / snucleoratio, DIGIT)"
   ]
  },
  {
   "cell_type": "code",
   "execution_count": 5,
   "metadata": {},
   "outputs": [
    {
     "data": {
      "text/html": [
       "<div>\n",
       "<style scoped>\n",
       "    .dataframe tbody tr th:only-of-type {\n",
       "        vertical-align: middle;\n",
       "    }\n",
       "\n",
       "    .dataframe tbody tr th {\n",
       "        vertical-align: top;\n",
       "    }\n",
       "\n",
       "    .dataframe thead th {\n",
       "        text-align: right;\n",
       "    }\n",
       "</style>\n",
       "<table border=\"1\" class=\"dataframe\">\n",
       "  <thead>\n",
       "    <tr style=\"text-align: right;\">\n",
       "      <th></th>\n",
       "      <th>Specie</th>\n",
       "      <th>CLD</th>\n",
       "      <th>CSD</th>\n",
       "      <th>RATIO C</th>\n",
       "      <th>NLD</th>\n",
       "      <th>NSD</th>\n",
       "      <th>RATIO N</th>\n",
       "      <th>tCSD</th>\n",
       "      <th>tCLD</th>\n",
       "      <th>tNLD</th>\n",
       "      <th>tNSD</th>\n",
       "      <th>tCitoratio</th>\n",
       "      <th>tNucleoratio</th>\n",
       "    </tr>\n",
       "  </thead>\n",
       "  <tbody>\n",
       "    <tr>\n",
       "      <th>0</th>\n",
       "      <td>Limnonectes limnocharis</td>\n",
       "      <td>19.6</td>\n",
       "      <td>13.2</td>\n",
       "      <td>0.67</td>\n",
       "      <td>7.9</td>\n",
       "      <td>4.9</td>\n",
       "      <td>0.62</td>\n",
       "      <td>0.278</td>\n",
       "      <td>1.179</td>\n",
       "      <td>0.3</td>\n",
       "      <td>0.714</td>\n",
       "      <td>1.433</td>\n",
       "      <td>2.8</td>\n",
       "    </tr>\n",
       "    <tr>\n",
       "      <th>1</th>\n",
       "      <td>Pyxicephalus adspersus</td>\n",
       "      <td>NaN</td>\n",
       "      <td>NaN</td>\n",
       "      <td>NaN</td>\n",
       "      <td>NaN</td>\n",
       "      <td>NaN</td>\n",
       "      <td>NaN</td>\n",
       "      <td>NaN</td>\n",
       "      <td>NaN</td>\n",
       "      <td>NaN</td>\n",
       "      <td>NaN</td>\n",
       "      <td>NaN</td>\n",
       "      <td>NaN</td>\n",
       "    </tr>\n",
       "    <tr>\n",
       "      <th>2</th>\n",
       "      <td>Rana catesbeiana</td>\n",
       "      <td>25.0</td>\n",
       "      <td>12.4</td>\n",
       "      <td>0.50</td>\n",
       "      <td>9.9</td>\n",
       "      <td>5.7</td>\n",
       "      <td>0.58</td>\n",
       "      <td>0.722</td>\n",
       "      <td>0.750</td>\n",
       "      <td>1.7</td>\n",
       "      <td>1.857</td>\n",
       "      <td>4.233</td>\n",
       "      <td>1.2</td>\n",
       "    </tr>\n",
       "    <tr>\n",
       "      <th>3</th>\n",
       "      <td>\" \"</td>\n",
       "      <td>24.8</td>\n",
       "      <td>15.3</td>\n",
       "      <td>0.62</td>\n",
       "      <td>NaN</td>\n",
       "      <td>NaN</td>\n",
       "      <td>NaN</td>\n",
       "      <td>0.889</td>\n",
       "      <td>0.679</td>\n",
       "      <td>NaN</td>\n",
       "      <td>NaN</td>\n",
       "      <td>0.233</td>\n",
       "      <td>NaN</td>\n",
       "    </tr>\n",
       "    <tr>\n",
       "      <th>4</th>\n",
       "      <td>\" \"</td>\n",
       "      <td>26.1</td>\n",
       "      <td>13.5</td>\n",
       "      <td>0.52</td>\n",
       "      <td>10.0</td>\n",
       "      <td>5.6</td>\n",
       "      <td>0.56</td>\n",
       "      <td>0.111</td>\n",
       "      <td>1.143</td>\n",
       "      <td>1.8</td>\n",
       "      <td>1.714</td>\n",
       "      <td>3.567</td>\n",
       "      <td>0.4</td>\n",
       "    </tr>\n",
       "    <tr>\n",
       "      <th>5</th>\n",
       "      <td>\" \"</td>\n",
       "      <td>27.9</td>\n",
       "      <td>15.4</td>\n",
       "      <td>0.55</td>\n",
       "      <td>10.3</td>\n",
       "      <td>5.6</td>\n",
       "      <td>0.54</td>\n",
       "      <td>0.944</td>\n",
       "      <td>1.786</td>\n",
       "      <td>2.1</td>\n",
       "      <td>1.714</td>\n",
       "      <td>2.567</td>\n",
       "      <td>0.4</td>\n",
       "    </tr>\n",
       "    <tr>\n",
       "      <th>6</th>\n",
       "      <td>\" \"</td>\n",
       "      <td>25.7</td>\n",
       "      <td>14.2</td>\n",
       "      <td>0.55</td>\n",
       "      <td>NaN</td>\n",
       "      <td>NaN</td>\n",
       "      <td>NaN</td>\n",
       "      <td>0.278</td>\n",
       "      <td>1.000</td>\n",
       "      <td>NaN</td>\n",
       "      <td>NaN</td>\n",
       "      <td>2.567</td>\n",
       "      <td>NaN</td>\n",
       "    </tr>\n",
       "    <tr>\n",
       "      <th>7</th>\n",
       "      <td>Rana clamitans</td>\n",
       "      <td>22.5</td>\n",
       "      <td>15.0</td>\n",
       "      <td>0.67</td>\n",
       "      <td>NaN</td>\n",
       "      <td>NaN</td>\n",
       "      <td>NaN</td>\n",
       "      <td>0.722</td>\n",
       "      <td>0.143</td>\n",
       "      <td>NaN</td>\n",
       "      <td>NaN</td>\n",
       "      <td>1.433</td>\n",
       "      <td>NaN</td>\n",
       "    </tr>\n",
       "    <tr>\n",
       "      <th>8</th>\n",
       "      <td>\" \"</td>\n",
       "      <td>23.0</td>\n",
       "      <td>11.9</td>\n",
       "      <td>0.52</td>\n",
       "      <td>NaN</td>\n",
       "      <td>NaN</td>\n",
       "      <td>NaN</td>\n",
       "      <td>1.000</td>\n",
       "      <td>0.036</td>\n",
       "      <td>NaN</td>\n",
       "      <td>NaN</td>\n",
       "      <td>3.567</td>\n",
       "      <td>NaN</td>\n",
       "    </tr>\n",
       "    <tr>\n",
       "      <th>9</th>\n",
       "      <td>Rana esculenta</td>\n",
       "      <td>25.4</td>\n",
       "      <td>17.6</td>\n",
       "      <td>0.69</td>\n",
       "      <td>NaN</td>\n",
       "      <td>NaN</td>\n",
       "      <td>NaN</td>\n",
       "      <td>2.167</td>\n",
       "      <td>0.893</td>\n",
       "      <td>NaN</td>\n",
       "      <td>NaN</td>\n",
       "      <td>2.100</td>\n",
       "      <td>NaN</td>\n",
       "    </tr>\n",
       "    <tr>\n",
       "      <th>10</th>\n",
       "      <td>Rana japonica</td>\n",
       "      <td>21.8</td>\n",
       "      <td>14.3</td>\n",
       "      <td>0.66</td>\n",
       "      <td>8.9</td>\n",
       "      <td>5.3</td>\n",
       "      <td>0.60</td>\n",
       "      <td>0.333</td>\n",
       "      <td>0.393</td>\n",
       "      <td>0.7</td>\n",
       "      <td>1.286</td>\n",
       "      <td>1.100</td>\n",
       "      <td>2.0</td>\n",
       "    </tr>\n",
       "    <tr>\n",
       "      <th>11</th>\n",
       "      <td>Rana nigromaculata</td>\n",
       "      <td>21.8</td>\n",
       "      <td>14.3</td>\n",
       "      <td>0.66</td>\n",
       "      <td>9.3</td>\n",
       "      <td>5.5</td>\n",
       "      <td>0.59</td>\n",
       "      <td>0.333</td>\n",
       "      <td>0.393</td>\n",
       "      <td>1.1</td>\n",
       "      <td>1.571</td>\n",
       "      <td>1.100</td>\n",
       "      <td>1.6</td>\n",
       "    </tr>\n",
       "    <tr>\n",
       "      <th>12</th>\n",
       "      <td>Rana palustris</td>\n",
       "      <td>20.4</td>\n",
       "      <td>12.7</td>\n",
       "      <td>0.62</td>\n",
       "      <td>NaN</td>\n",
       "      <td>NaN</td>\n",
       "      <td>NaN</td>\n",
       "      <td>0.556</td>\n",
       "      <td>0.893</td>\n",
       "      <td>NaN</td>\n",
       "      <td>NaN</td>\n",
       "      <td>0.233</td>\n",
       "      <td>NaN</td>\n",
       "    </tr>\n",
       "    <tr>\n",
       "      <th>13</th>\n",
       "      <td>Rana pipiens</td>\n",
       "      <td>21.5</td>\n",
       "      <td>12.2</td>\n",
       "      <td>0.57</td>\n",
       "      <td>8.8</td>\n",
       "      <td>5.2</td>\n",
       "      <td>0.59</td>\n",
       "      <td>0.833</td>\n",
       "      <td>0.500</td>\n",
       "      <td>0.6</td>\n",
       "      <td>1.143</td>\n",
       "      <td>1.900</td>\n",
       "      <td>1.6</td>\n",
       "    </tr>\n",
       "    <tr>\n",
       "      <th>14</th>\n",
       "      <td>\" \"</td>\n",
       "      <td>23.8</td>\n",
       "      <td>16.2</td>\n",
       "      <td>0.68</td>\n",
       "      <td>NaN</td>\n",
       "      <td>NaN</td>\n",
       "      <td>NaN</td>\n",
       "      <td>1.389</td>\n",
       "      <td>0.321</td>\n",
       "      <td>NaN</td>\n",
       "      <td>NaN</td>\n",
       "      <td>1.767</td>\n",
       "      <td>NaN</td>\n",
       "    </tr>\n",
       "    <tr>\n",
       "      <th>15</th>\n",
       "      <td>\" \"</td>\n",
       "      <td>20.5</td>\n",
       "      <td>13.2</td>\n",
       "      <td>0.64</td>\n",
       "      <td>NaN</td>\n",
       "      <td>NaN</td>\n",
       "      <td>NaN</td>\n",
       "      <td>0.278</td>\n",
       "      <td>0.857</td>\n",
       "      <td>NaN</td>\n",
       "      <td>NaN</td>\n",
       "      <td>0.433</td>\n",
       "      <td>NaN</td>\n",
       "    </tr>\n",
       "    <tr>\n",
       "      <th>16</th>\n",
       "      <td>Rana porosa</td>\n",
       "      <td>22.9</td>\n",
       "      <td>14.9</td>\n",
       "      <td>0.65</td>\n",
       "      <td>8.5</td>\n",
       "      <td>5.4</td>\n",
       "      <td>0.64</td>\n",
       "      <td>0.667</td>\n",
       "      <td>0.000</td>\n",
       "      <td>0.3</td>\n",
       "      <td>1.429</td>\n",
       "      <td>0.767</td>\n",
       "      <td>3.6</td>\n",
       "    </tr>\n",
       "    <tr>\n",
       "      <th>17</th>\n",
       "      <td>Rana rugosa</td>\n",
       "      <td>26.6</td>\n",
       "      <td>16.1</td>\n",
       "      <td>0.61</td>\n",
       "      <td>12.0</td>\n",
       "      <td>6.4</td>\n",
       "      <td>0.53</td>\n",
       "      <td>1.333</td>\n",
       "      <td>1.321</td>\n",
       "      <td>3.8</td>\n",
       "      <td>2.857</td>\n",
       "      <td>0.567</td>\n",
       "      <td>0.8</td>\n",
       "    </tr>\n",
       "    <tr>\n",
       "      <th>18</th>\n",
       "      <td>Rana sylvatica</td>\n",
       "      <td>25.5</td>\n",
       "      <td>16.5</td>\n",
       "      <td>0.65</td>\n",
       "      <td>NaN</td>\n",
       "      <td>NaN</td>\n",
       "      <td>NaN</td>\n",
       "      <td>1.556</td>\n",
       "      <td>0.929</td>\n",
       "      <td>NaN</td>\n",
       "      <td>NaN</td>\n",
       "      <td>0.767</td>\n",
       "      <td>NaN</td>\n",
       "    </tr>\n",
       "    <tr>\n",
       "      <th>19</th>\n",
       "      <td>Rana tagoi</td>\n",
       "      <td>24.5</td>\n",
       "      <td>14.2</td>\n",
       "      <td>0.58</td>\n",
       "      <td>10.0</td>\n",
       "      <td>5.7</td>\n",
       "      <td>0.57</td>\n",
       "      <td>0.278</td>\n",
       "      <td>0.571</td>\n",
       "      <td>1.8</td>\n",
       "      <td>1.857</td>\n",
       "      <td>1.567</td>\n",
       "      <td>0.8</td>\n",
       "    </tr>\n",
       "    <tr>\n",
       "      <th>20</th>\n",
       "      <td>Rana temporaria</td>\n",
       "      <td>22.9</td>\n",
       "      <td>13.9</td>\n",
       "      <td>0.61</td>\n",
       "      <td>8.2</td>\n",
       "      <td>4.0</td>\n",
       "      <td>0.49</td>\n",
       "      <td>0.111</td>\n",
       "      <td>0.000</td>\n",
       "      <td>0.0</td>\n",
       "      <td>0.571</td>\n",
       "      <td>0.567</td>\n",
       "      <td>2.4</td>\n",
       "    </tr>\n",
       "    <tr>\n",
       "      <th>21</th>\n",
       "      <td>\" \"</td>\n",
       "      <td>24.6</td>\n",
       "      <td>16.9</td>\n",
       "      <td>0.69</td>\n",
       "      <td>NaN</td>\n",
       "      <td>NaN</td>\n",
       "      <td>NaN</td>\n",
       "      <td>1.778</td>\n",
       "      <td>0.607</td>\n",
       "      <td>NaN</td>\n",
       "      <td>NaN</td>\n",
       "      <td>2.100</td>\n",
       "      <td>NaN</td>\n",
       "    </tr>\n",
       "    <tr>\n",
       "      <th>22</th>\n",
       "      <td>Rana tsushimensis</td>\n",
       "      <td>22.2</td>\n",
       "      <td>14.2</td>\n",
       "      <td>0.64</td>\n",
       "      <td>9.5</td>\n",
       "      <td>5.1</td>\n",
       "      <td>0.54</td>\n",
       "      <td>0.278</td>\n",
       "      <td>0.250</td>\n",
       "      <td>1.3</td>\n",
       "      <td>1.000</td>\n",
       "      <td>0.433</td>\n",
       "      <td>0.4</td>\n",
       "    </tr>\n",
       "  </tbody>\n",
       "</table>\n",
       "</div>"
      ],
      "text/plain": [
       "                     Specie   CLD   CSD  RATIO C   NLD  NSD  RATIO N   tCSD  \\\n",
       "0   Limnonectes limnocharis  19.6  13.2     0.67   7.9  4.9     0.62  0.278   \n",
       "1    Pyxicephalus adspersus   NaN   NaN      NaN   NaN  NaN      NaN    NaN   \n",
       "2          Rana catesbeiana  25.0  12.4     0.50   9.9  5.7     0.58  0.722   \n",
       "3                       \" \"  24.8  15.3     0.62   NaN  NaN      NaN  0.889   \n",
       "4                       \" \"  26.1  13.5     0.52  10.0  5.6     0.56  0.111   \n",
       "5                       \" \"  27.9  15.4     0.55  10.3  5.6     0.54  0.944   \n",
       "6                       \" \"  25.7  14.2     0.55   NaN  NaN      NaN  0.278   \n",
       "7            Rana clamitans  22.5  15.0     0.67   NaN  NaN      NaN  0.722   \n",
       "8                       \" \"  23.0  11.9     0.52   NaN  NaN      NaN  1.000   \n",
       "9            Rana esculenta  25.4  17.6     0.69   NaN  NaN      NaN  2.167   \n",
       "10            Rana japonica  21.8  14.3     0.66   8.9  5.3     0.60  0.333   \n",
       "11       Rana nigromaculata  21.8  14.3     0.66   9.3  5.5     0.59  0.333   \n",
       "12           Rana palustris  20.4  12.7     0.62   NaN  NaN      NaN  0.556   \n",
       "13             Rana pipiens  21.5  12.2     0.57   8.8  5.2     0.59  0.833   \n",
       "14                      \" \"  23.8  16.2     0.68   NaN  NaN      NaN  1.389   \n",
       "15                      \" \"  20.5  13.2     0.64   NaN  NaN      NaN  0.278   \n",
       "16              Rana porosa  22.9  14.9     0.65   8.5  5.4     0.64  0.667   \n",
       "17              Rana rugosa  26.6  16.1     0.61  12.0  6.4     0.53  1.333   \n",
       "18           Rana sylvatica  25.5  16.5     0.65   NaN  NaN      NaN  1.556   \n",
       "19               Rana tagoi  24.5  14.2     0.58  10.0  5.7     0.57  0.278   \n",
       "20          Rana temporaria  22.9  13.9     0.61   8.2  4.0     0.49  0.111   \n",
       "21                      \" \"  24.6  16.9     0.69   NaN  NaN      NaN  1.778   \n",
       "22        Rana tsushimensis  22.2  14.2     0.64   9.5  5.1     0.54  0.278   \n",
       "\n",
       "     tCLD  tNLD   tNSD  tCitoratio  tNucleoratio  \n",
       "0   1.179   0.3  0.714       1.433           2.8  \n",
       "1     NaN   NaN    NaN         NaN           NaN  \n",
       "2   0.750   1.7  1.857       4.233           1.2  \n",
       "3   0.679   NaN    NaN       0.233           NaN  \n",
       "4   1.143   1.8  1.714       3.567           0.4  \n",
       "5   1.786   2.1  1.714       2.567           0.4  \n",
       "6   1.000   NaN    NaN       2.567           NaN  \n",
       "7   0.143   NaN    NaN       1.433           NaN  \n",
       "8   0.036   NaN    NaN       3.567           NaN  \n",
       "9   0.893   NaN    NaN       2.100           NaN  \n",
       "10  0.393   0.7  1.286       1.100           2.0  \n",
       "11  0.393   1.1  1.571       1.100           1.6  \n",
       "12  0.893   NaN    NaN       0.233           NaN  \n",
       "13  0.500   0.6  1.143       1.900           1.6  \n",
       "14  0.321   NaN    NaN       1.767           NaN  \n",
       "15  0.857   NaN    NaN       0.433           NaN  \n",
       "16  0.000   0.3  1.429       0.767           3.6  \n",
       "17  1.321   3.8  2.857       0.567           0.8  \n",
       "18  0.929   NaN    NaN       0.767           NaN  \n",
       "19  0.571   1.8  1.857       1.567           0.8  \n",
       "20  0.000   0.0  0.571       0.567           2.4  \n",
       "21  0.607   NaN    NaN       2.100           NaN  \n",
       "22  0.250   1.3  1.000       0.433           0.4  "
      ]
     },
     "metadata": {},
     "output_type": "display_data"
    }
   ],
   "source": [
    "RANABASE['tCSD'] = tCSD\n",
    "RANABASE['tCLD'] = tCLD\n",
    "RANABASE['tNLD'] = tNLD\n",
    "RANABASE['tNSD'] = tNSD\n",
    "RANABASE['tCitoratio'] = tCitoratio\n",
    "RANABASE['tNucleoratio'] = tNucleoratio\n",
    "\n",
    "display(RANABASE)"
   ]
  },
  {
   "cell_type": "code",
   "execution_count": 6,
   "metadata": {},
   "outputs": [],
   "source": [
    "colls =  ['Specie', 'tCSD', 'tCLD', 'tNLD', 'tNSD', 'tCitoratio', 'tNucleoratio']\n",
    "RANABASET = RANABASE.loc[0:22,colls] # 0:22\n",
    "# display(RANABASET.iloc[5][1:].to_numpy(dtype=np.float64))"
   ]
  },
  {
   "cell_type": "code",
   "execution_count": 7,
   "metadata": {},
   "outputs": [],
   "source": [
    "# import plotly.express as px\n",
    "# import pandas as pd\n",
    "# from plotly.subplots import make_subplots\n",
    "# fig = make_subplots(rows=6, cols=4, specs=[[{'type': 'polar'}]*4]*6, horizontal_spacing=0.1, vertical_spacing=0.1)\n",
    "\n",
    "# for i in range(len(RANABASET)):\n",
    "#     v = RANABASET.iloc[i][1:].to_numpy(dtype=np.float64)\n",
    "#     df = pd.DataFrame(dict(\n",
    "#         r=v,\n",
    "#         theta=['tCSD', 'tCLD', 'tNLD', 'tNSD', 'tCR', 'tNR']))\n",
    "#     polar_fig = px.line_polar(df, r='r', theta='theta', line_close=True, range_r=[0,4])\n",
    "#     polar_fig.update_traces(fill='toself')\n",
    "#     #polar_fig.update_layout(polar=dict(radialaxis=dict(tickvals=[0, 1, 2, 3, 4])))\n",
    "\n",
    "#     row = i // 4 + 1\n",
    "#     col = i % 4 + 1\n",
    "#     for trace in polar_fig['data']:\n",
    "#         fig.add_trace(trace, row=row, col=col)\n",
    "\n",
    "# fig.update_layout(height=1500, width=1000, showlegend=False)\n",
    "# fig.show()"
   ]
  },
  {
   "cell_type": "code",
   "execution_count": 8,
   "metadata": {},
   "outputs": [
    {
     "data": {
      "text/html": [
       "<div>\n",
       "<style scoped>\n",
       "    .dataframe tbody tr th:only-of-type {\n",
       "        vertical-align: middle;\n",
       "    }\n",
       "\n",
       "    .dataframe tbody tr th {\n",
       "        vertical-align: top;\n",
       "    }\n",
       "\n",
       "    .dataframe thead th {\n",
       "        text-align: right;\n",
       "    }\n",
       "</style>\n",
       "<table border=\"1\" class=\"dataframe\">\n",
       "  <thead>\n",
       "    <tr style=\"text-align: right;\">\n",
       "      <th></th>\n",
       "      <th>Specie</th>\n",
       "      <th>tCSD</th>\n",
       "      <th>tCLD</th>\n",
       "      <th>tNLD</th>\n",
       "      <th>tNSD</th>\n",
       "      <th>tCitoratio</th>\n",
       "      <th>tNucleoratio</th>\n",
       "    </tr>\n",
       "  </thead>\n",
       "  <tbody>\n",
       "    <tr>\n",
       "      <th>0</th>\n",
       "      <td>Limnonectes limnocharis</td>\n",
       "      <td>0.278</td>\n",
       "      <td>1.179</td>\n",
       "      <td>0.3</td>\n",
       "      <td>0.714</td>\n",
       "      <td>1.433</td>\n",
       "      <td>2.8</td>\n",
       "    </tr>\n",
       "    <tr>\n",
       "      <th>2</th>\n",
       "      <td>Rana catesbeiana</td>\n",
       "      <td>0.722</td>\n",
       "      <td>0.750</td>\n",
       "      <td>1.7</td>\n",
       "      <td>1.857</td>\n",
       "      <td>4.233</td>\n",
       "      <td>1.2</td>\n",
       "    </tr>\n",
       "    <tr>\n",
       "      <th>7</th>\n",
       "      <td>Rana clamitans</td>\n",
       "      <td>0.722</td>\n",
       "      <td>0.143</td>\n",
       "      <td>NaN</td>\n",
       "      <td>NaN</td>\n",
       "      <td>1.433</td>\n",
       "      <td>NaN</td>\n",
       "    </tr>\n",
       "    <tr>\n",
       "      <th>9</th>\n",
       "      <td>Rana esculenta</td>\n",
       "      <td>2.167</td>\n",
       "      <td>0.893</td>\n",
       "      <td>NaN</td>\n",
       "      <td>NaN</td>\n",
       "      <td>2.100</td>\n",
       "      <td>NaN</td>\n",
       "    </tr>\n",
       "    <tr>\n",
       "      <th>10</th>\n",
       "      <td>Rana japonica</td>\n",
       "      <td>0.333</td>\n",
       "      <td>0.393</td>\n",
       "      <td>0.7</td>\n",
       "      <td>1.286</td>\n",
       "      <td>1.100</td>\n",
       "      <td>2.0</td>\n",
       "    </tr>\n",
       "    <tr>\n",
       "      <th>11</th>\n",
       "      <td>Rana nigromaculata</td>\n",
       "      <td>0.333</td>\n",
       "      <td>0.393</td>\n",
       "      <td>1.1</td>\n",
       "      <td>1.571</td>\n",
       "      <td>1.100</td>\n",
       "      <td>1.6</td>\n",
       "    </tr>\n",
       "    <tr>\n",
       "      <th>12</th>\n",
       "      <td>Rana palustris</td>\n",
       "      <td>0.556</td>\n",
       "      <td>0.893</td>\n",
       "      <td>NaN</td>\n",
       "      <td>NaN</td>\n",
       "      <td>0.233</td>\n",
       "      <td>NaN</td>\n",
       "    </tr>\n",
       "    <tr>\n",
       "      <th>13</th>\n",
       "      <td>Rana pipiens</td>\n",
       "      <td>0.833</td>\n",
       "      <td>0.500</td>\n",
       "      <td>0.6</td>\n",
       "      <td>1.143</td>\n",
       "      <td>1.900</td>\n",
       "      <td>1.6</td>\n",
       "    </tr>\n",
       "    <tr>\n",
       "      <th>16</th>\n",
       "      <td>Rana porosa</td>\n",
       "      <td>0.667</td>\n",
       "      <td>0.000</td>\n",
       "      <td>0.3</td>\n",
       "      <td>1.429</td>\n",
       "      <td>0.767</td>\n",
       "      <td>3.6</td>\n",
       "    </tr>\n",
       "    <tr>\n",
       "      <th>17</th>\n",
       "      <td>Rana rugosa</td>\n",
       "      <td>1.333</td>\n",
       "      <td>1.321</td>\n",
       "      <td>3.8</td>\n",
       "      <td>2.857</td>\n",
       "      <td>0.567</td>\n",
       "      <td>0.8</td>\n",
       "    </tr>\n",
       "    <tr>\n",
       "      <th>18</th>\n",
       "      <td>Rana sylvatica</td>\n",
       "      <td>1.556</td>\n",
       "      <td>0.929</td>\n",
       "      <td>NaN</td>\n",
       "      <td>NaN</td>\n",
       "      <td>0.767</td>\n",
       "      <td>NaN</td>\n",
       "    </tr>\n",
       "    <tr>\n",
       "      <th>19</th>\n",
       "      <td>Rana tagoi</td>\n",
       "      <td>0.278</td>\n",
       "      <td>0.571</td>\n",
       "      <td>1.8</td>\n",
       "      <td>1.857</td>\n",
       "      <td>1.567</td>\n",
       "      <td>0.8</td>\n",
       "    </tr>\n",
       "    <tr>\n",
       "      <th>20</th>\n",
       "      <td>Rana temporaria</td>\n",
       "      <td>0.111</td>\n",
       "      <td>0.000</td>\n",
       "      <td>0.0</td>\n",
       "      <td>0.571</td>\n",
       "      <td>0.567</td>\n",
       "      <td>2.4</td>\n",
       "    </tr>\n",
       "    <tr>\n",
       "      <th>22</th>\n",
       "      <td>Rana tsushimensis</td>\n",
       "      <td>0.278</td>\n",
       "      <td>0.250</td>\n",
       "      <td>1.3</td>\n",
       "      <td>1.000</td>\n",
       "      <td>0.433</td>\n",
       "      <td>0.4</td>\n",
       "    </tr>\n",
       "  </tbody>\n",
       "</table>\n",
       "</div>"
      ],
      "text/plain": [
       "                     Specie   tCSD   tCLD  tNLD   tNSD  tCitoratio  \\\n",
       "0   Limnonectes limnocharis  0.278  1.179   0.3  0.714       1.433   \n",
       "2          Rana catesbeiana  0.722  0.750   1.7  1.857       4.233   \n",
       "7            Rana clamitans  0.722  0.143   NaN    NaN       1.433   \n",
       "9            Rana esculenta  2.167  0.893   NaN    NaN       2.100   \n",
       "10            Rana japonica  0.333  0.393   0.7  1.286       1.100   \n",
       "11       Rana nigromaculata  0.333  0.393   1.1  1.571       1.100   \n",
       "12           Rana palustris  0.556  0.893   NaN    NaN       0.233   \n",
       "13             Rana pipiens  0.833  0.500   0.6  1.143       1.900   \n",
       "16              Rana porosa  0.667  0.000   0.3  1.429       0.767   \n",
       "17              Rana rugosa  1.333  1.321   3.8  2.857       0.567   \n",
       "18           Rana sylvatica  1.556  0.929   NaN    NaN       0.767   \n",
       "19               Rana tagoi  0.278  0.571   1.8  1.857       1.567   \n",
       "20          Rana temporaria  0.111  0.000   0.0  0.571       0.567   \n",
       "22        Rana tsushimensis  0.278  0.250   1.3  1.000       0.433   \n",
       "\n",
       "    tNucleoratio  \n",
       "0            2.8  \n",
       "2            1.2  \n",
       "7            NaN  \n",
       "9            NaN  \n",
       "10           2.0  \n",
       "11           1.6  \n",
       "12           NaN  \n",
       "13           1.6  \n",
       "16           3.6  \n",
       "17           0.8  \n",
       "18           NaN  \n",
       "19           0.8  \n",
       "20           2.4  \n",
       "22           0.4  "
      ]
     },
     "metadata": {},
     "output_type": "display_data"
    }
   ],
   "source": [
    "RANABASET = RANABASET[RANABASET['Specie'] != '\" \"']\n",
    "RANABASET = RANABASET[RANABASET['Specie'] != 'Pyxicephalus adspersus'] # only NaN\n",
    "display(RANABASET)"
   ]
  },
  {
   "cell_type": "code",
   "execution_count": 9,
   "metadata": {},
   "outputs": [
    {
     "name": "stdout",
     "output_type": "stream",
     "text": [
      "[np.float64(0.722) np.float64(0.143) np.float64(nan) np.float64(nan)\n",
      " np.float64(1.433) np.float64(nan)]\n"
     ]
    }
   ],
   "source": [
    "print(RANABASET.iloc[2][1:].values)"
   ]
  },
  {
   "cell_type": "code",
   "execution_count": 10,
   "metadata": {},
   "outputs": [
    {
     "data": {
      "application/vnd.plotly.v1+json": {
       "config": {
        "plotlyServerURL": "https://plot.ly"
       },
       "data": [
        {
         "fill": "toself",
         "hovertemplate": "r=%{r}<br>theta=%{theta}<extra></extra>",
         "legendgroup": "",
         "line": {
          "color": "#636efa",
          "dash": "solid"
         },
         "marker": {
          "symbol": "circle"
         },
         "mode": "lines",
         "name": "",
         "r": [
          0.278,
          1.179,
          0.3,
          0.714,
          1.433,
          2.8,
          0.278
         ],
         "showlegend": false,
         "subplot": "polar",
         "theta": [
          "tCSD",
          "tCLD",
          "tNLD",
          "tNSD",
          "tCitoratio",
          "tNucleoratio",
          "tCSD"
         ],
         "type": "scatterpolar"
        },
        {
         "fill": "toself",
         "hovertemplate": "r=%{r}<br>theta=%{theta}<extra></extra>",
         "legendgroup": "",
         "line": {
          "color": "#636efa",
          "dash": "solid"
         },
         "marker": {
          "symbol": "circle"
         },
         "mode": "lines",
         "name": "",
         "r": [
          0.722,
          0.75,
          1.7,
          1.857,
          4.233,
          1.2,
          0.722
         ],
         "showlegend": false,
         "subplot": "polar2",
         "theta": [
          "tCSD",
          "tCLD",
          "tNLD",
          "tNSD",
          "tCitoratio",
          "tNucleoratio",
          "tCSD"
         ],
         "type": "scatterpolar"
        },
        {
         "fill": "toself",
         "hovertemplate": "r=%{r}<br>theta=%{theta}<extra></extra>",
         "legendgroup": "",
         "line": {
          "color": "#636efa",
          "dash": "solid"
         },
         "marker": {
          "symbol": "circle"
         },
         "mode": "lines",
         "name": "",
         "r": [
          0.722,
          0.143,
          null,
          null,
          1.433,
          null,
          0.722
         ],
         "showlegend": false,
         "subplot": "polar3",
         "theta": [
          "tCSD",
          "tCLD",
          "tNLD",
          "tNSD",
          "tCitoratio",
          "tNucleoratio",
          "tCSD"
         ],
         "type": "scatterpolar"
        },
        {
         "fill": "toself",
         "hovertemplate": "r=%{r}<br>theta=%{theta}<extra></extra>",
         "legendgroup": "",
         "line": {
          "color": "#636efa",
          "dash": "solid"
         },
         "marker": {
          "symbol": "circle"
         },
         "mode": "lines",
         "name": "",
         "r": [
          2.167,
          0.893,
          null,
          null,
          2.1,
          null,
          2.167
         ],
         "showlegend": false,
         "subplot": "polar4",
         "theta": [
          "tCSD",
          "tCLD",
          "tNLD",
          "tNSD",
          "tCitoratio",
          "tNucleoratio",
          "tCSD"
         ],
         "type": "scatterpolar"
        },
        {
         "fill": "toself",
         "hovertemplate": "r=%{r}<br>theta=%{theta}<extra></extra>",
         "legendgroup": "",
         "line": {
          "color": "#636efa",
          "dash": "solid"
         },
         "marker": {
          "symbol": "circle"
         },
         "mode": "lines",
         "name": "",
         "r": [
          0.333,
          0.393,
          0.7,
          1.286,
          1.1,
          2,
          0.333
         ],
         "showlegend": false,
         "subplot": "polar5",
         "theta": [
          "tCSD",
          "tCLD",
          "tNLD",
          "tNSD",
          "tCitoratio",
          "tNucleoratio",
          "tCSD"
         ],
         "type": "scatterpolar"
        },
        {
         "fill": "toself",
         "hovertemplate": "r=%{r}<br>theta=%{theta}<extra></extra>",
         "legendgroup": "",
         "line": {
          "color": "#636efa",
          "dash": "solid"
         },
         "marker": {
          "symbol": "circle"
         },
         "mode": "lines",
         "name": "",
         "r": [
          0.333,
          0.393,
          1.1,
          1.571,
          1.1,
          1.6,
          0.333
         ],
         "showlegend": false,
         "subplot": "polar6",
         "theta": [
          "tCSD",
          "tCLD",
          "tNLD",
          "tNSD",
          "tCitoratio",
          "tNucleoratio",
          "tCSD"
         ],
         "type": "scatterpolar"
        },
        {
         "fill": "toself",
         "hovertemplate": "r=%{r}<br>theta=%{theta}<extra></extra>",
         "legendgroup": "",
         "line": {
          "color": "#636efa",
          "dash": "solid"
         },
         "marker": {
          "symbol": "circle"
         },
         "mode": "lines",
         "name": "",
         "r": [
          0.556,
          0.893,
          null,
          null,
          0.233,
          null,
          0.556
         ],
         "showlegend": false,
         "subplot": "polar7",
         "theta": [
          "tCSD",
          "tCLD",
          "tNLD",
          "tNSD",
          "tCitoratio",
          "tNucleoratio",
          "tCSD"
         ],
         "type": "scatterpolar"
        },
        {
         "fill": "toself",
         "hovertemplate": "r=%{r}<br>theta=%{theta}<extra></extra>",
         "legendgroup": "",
         "line": {
          "color": "#636efa",
          "dash": "solid"
         },
         "marker": {
          "symbol": "circle"
         },
         "mode": "lines",
         "name": "",
         "r": [
          0.833,
          0.5,
          0.6,
          1.143,
          1.9,
          1.6,
          0.833
         ],
         "showlegend": false,
         "subplot": "polar8",
         "theta": [
          "tCSD",
          "tCLD",
          "tNLD",
          "tNSD",
          "tCitoratio",
          "tNucleoratio",
          "tCSD"
         ],
         "type": "scatterpolar"
        },
        {
         "fill": "toself",
         "hovertemplate": "r=%{r}<br>theta=%{theta}<extra></extra>",
         "legendgroup": "",
         "line": {
          "color": "#636efa",
          "dash": "solid"
         },
         "marker": {
          "symbol": "circle"
         },
         "mode": "lines",
         "name": "",
         "r": [
          0.667,
          0,
          0.3,
          1.429,
          0.767,
          3.6,
          0.667
         ],
         "showlegend": false,
         "subplot": "polar9",
         "theta": [
          "tCSD",
          "tCLD",
          "tNLD",
          "tNSD",
          "tCitoratio",
          "tNucleoratio",
          "tCSD"
         ],
         "type": "scatterpolar"
        },
        {
         "fill": "toself",
         "hovertemplate": "r=%{r}<br>theta=%{theta}<extra></extra>",
         "legendgroup": "",
         "line": {
          "color": "#636efa",
          "dash": "solid"
         },
         "marker": {
          "symbol": "circle"
         },
         "mode": "lines",
         "name": "",
         "r": [
          1.333,
          1.321,
          3.8,
          2.857,
          0.567,
          0.8,
          1.333
         ],
         "showlegend": false,
         "subplot": "polar10",
         "theta": [
          "tCSD",
          "tCLD",
          "tNLD",
          "tNSD",
          "tCitoratio",
          "tNucleoratio",
          "tCSD"
         ],
         "type": "scatterpolar"
        },
        {
         "fill": "toself",
         "hovertemplate": "r=%{r}<br>theta=%{theta}<extra></extra>",
         "legendgroup": "",
         "line": {
          "color": "#636efa",
          "dash": "solid"
         },
         "marker": {
          "symbol": "circle"
         },
         "mode": "lines",
         "name": "",
         "r": [
          1.556,
          0.929,
          null,
          null,
          0.767,
          null,
          1.556
         ],
         "showlegend": false,
         "subplot": "polar11",
         "theta": [
          "tCSD",
          "tCLD",
          "tNLD",
          "tNSD",
          "tCitoratio",
          "tNucleoratio",
          "tCSD"
         ],
         "type": "scatterpolar"
        },
        {
         "fill": "toself",
         "hovertemplate": "r=%{r}<br>theta=%{theta}<extra></extra>",
         "legendgroup": "",
         "line": {
          "color": "#636efa",
          "dash": "solid"
         },
         "marker": {
          "symbol": "circle"
         },
         "mode": "lines",
         "name": "",
         "r": [
          0.278,
          0.571,
          1.8,
          1.857,
          1.567,
          0.8,
          0.278
         ],
         "showlegend": false,
         "subplot": "polar12",
         "theta": [
          "tCSD",
          "tCLD",
          "tNLD",
          "tNSD",
          "tCitoratio",
          "tNucleoratio",
          "tCSD"
         ],
         "type": "scatterpolar"
        },
        {
         "fill": "toself",
         "hovertemplate": "r=%{r}<br>theta=%{theta}<extra></extra>",
         "legendgroup": "",
         "line": {
          "color": "#636efa",
          "dash": "solid"
         },
         "marker": {
          "symbol": "circle"
         },
         "mode": "lines",
         "name": "",
         "r": [
          0.111,
          0,
          0,
          0.571,
          0.567,
          2.4,
          0.111
         ],
         "showlegend": false,
         "subplot": "polar13",
         "theta": [
          "tCSD",
          "tCLD",
          "tNLD",
          "tNSD",
          "tCitoratio",
          "tNucleoratio",
          "tCSD"
         ],
         "type": "scatterpolar"
        },
        {
         "fill": "toself",
         "hovertemplate": "r=%{r}<br>theta=%{theta}<extra></extra>",
         "legendgroup": "",
         "line": {
          "color": "#636efa",
          "dash": "solid"
         },
         "marker": {
          "symbol": "circle"
         },
         "mode": "lines",
         "name": "",
         "r": [
          0.278,
          0.25,
          1.3,
          1,
          0.433,
          0.4,
          0.278
         ],
         "showlegend": false,
         "subplot": "polar14",
         "theta": [
          "tCSD",
          "tCLD",
          "tNLD",
          "tNSD",
          "tCitoratio",
          "tNucleoratio",
          "tCSD"
         ],
         "type": "scatterpolar"
        }
       ],
       "layout": {
        "height": 1500,
        "polar": {
         "domain": {
          "x": [
           0,
           0.175
          ],
          "y": [
           0.9166666666666666,
           1
          ]
         }
        },
        "polar10": {
         "domain": {
          "x": [
           0.275,
           0.45
          ],
          "y": [
           0.55,
           0.6333333333333334
          ]
         }
        },
        "polar11": {
         "domain": {
          "x": [
           0.55,
           0.7250000000000001
          ],
          "y": [
           0.55,
           0.6333333333333334
          ]
         }
        },
        "polar12": {
         "domain": {
          "x": [
           0.825,
           1
          ],
          "y": [
           0.55,
           0.6333333333333334
          ]
         }
        },
        "polar13": {
         "domain": {
          "x": [
           0,
           0.175
          ],
          "y": [
           0.3666666666666667,
           0.45
          ]
         }
        },
        "polar14": {
         "domain": {
          "x": [
           0.275,
           0.45
          ],
          "y": [
           0.3666666666666667,
           0.45
          ]
         }
        },
        "polar15": {
         "domain": {
          "x": [
           0.55,
           0.7250000000000001
          ],
          "y": [
           0.3666666666666667,
           0.45
          ]
         }
        },
        "polar16": {
         "domain": {
          "x": [
           0.825,
           1
          ],
          "y": [
           0.3666666666666667,
           0.45
          ]
         }
        },
        "polar17": {
         "domain": {
          "x": [
           0,
           0.175
          ],
          "y": [
           0.18333333333333335,
           0.26666666666666666
          ]
         }
        },
        "polar18": {
         "domain": {
          "x": [
           0.275,
           0.45
          ],
          "y": [
           0.18333333333333335,
           0.26666666666666666
          ]
         }
        },
        "polar19": {
         "domain": {
          "x": [
           0.55,
           0.7250000000000001
          ],
          "y": [
           0.18333333333333335,
           0.26666666666666666
          ]
         }
        },
        "polar2": {
         "domain": {
          "x": [
           0.275,
           0.45
          ],
          "y": [
           0.9166666666666666,
           1
          ]
         }
        },
        "polar20": {
         "domain": {
          "x": [
           0.825,
           1
          ],
          "y": [
           0.18333333333333335,
           0.26666666666666666
          ]
         }
        },
        "polar21": {
         "domain": {
          "x": [
           0,
           0.175
          ],
          "y": [
           0,
           0.08333333333333333
          ]
         }
        },
        "polar22": {
         "domain": {
          "x": [
           0.275,
           0.45
          ],
          "y": [
           0,
           0.08333333333333333
          ]
         }
        },
        "polar23": {
         "domain": {
          "x": [
           0.55,
           0.7250000000000001
          ],
          "y": [
           0,
           0.08333333333333333
          ]
         }
        },
        "polar24": {
         "domain": {
          "x": [
           0.825,
           1
          ],
          "y": [
           0,
           0.08333333333333333
          ]
         }
        },
        "polar3": {
         "domain": {
          "x": [
           0.55,
           0.7250000000000001
          ],
          "y": [
           0.9166666666666666,
           1
          ]
         }
        },
        "polar4": {
         "domain": {
          "x": [
           0.825,
           1
          ],
          "y": [
           0.9166666666666666,
           1
          ]
         }
        },
        "polar5": {
         "domain": {
          "x": [
           0,
           0.175
          ],
          "y": [
           0.7333333333333334,
           0.8166666666666668
          ]
         }
        },
        "polar6": {
         "domain": {
          "x": [
           0.275,
           0.45
          ],
          "y": [
           0.7333333333333334,
           0.8166666666666668
          ]
         }
        },
        "polar7": {
         "domain": {
          "x": [
           0.55,
           0.7250000000000001
          ],
          "y": [
           0.7333333333333334,
           0.8166666666666668
          ]
         }
        },
        "polar8": {
         "domain": {
          "x": [
           0.825,
           1
          ],
          "y": [
           0.7333333333333334,
           0.8166666666666668
          ]
         }
        },
        "polar9": {
         "domain": {
          "x": [
           0,
           0.175
          ],
          "y": [
           0.55,
           0.6333333333333334
          ]
         }
        },
        "showlegend": false,
        "template": {
         "data": {
          "bar": [
           {
            "error_x": {
             "color": "#2a3f5f"
            },
            "error_y": {
             "color": "#2a3f5f"
            },
            "marker": {
             "line": {
              "color": "#E5ECF6",
              "width": 0.5
             },
             "pattern": {
              "fillmode": "overlay",
              "size": 10,
              "solidity": 0.2
             }
            },
            "type": "bar"
           }
          ],
          "barpolar": [
           {
            "marker": {
             "line": {
              "color": "#E5ECF6",
              "width": 0.5
             },
             "pattern": {
              "fillmode": "overlay",
              "size": 10,
              "solidity": 0.2
             }
            },
            "type": "barpolar"
           }
          ],
          "carpet": [
           {
            "aaxis": {
             "endlinecolor": "#2a3f5f",
             "gridcolor": "white",
             "linecolor": "white",
             "minorgridcolor": "white",
             "startlinecolor": "#2a3f5f"
            },
            "baxis": {
             "endlinecolor": "#2a3f5f",
             "gridcolor": "white",
             "linecolor": "white",
             "minorgridcolor": "white",
             "startlinecolor": "#2a3f5f"
            },
            "type": "carpet"
           }
          ],
          "choropleth": [
           {
            "colorbar": {
             "outlinewidth": 0,
             "ticks": ""
            },
            "type": "choropleth"
           }
          ],
          "contour": [
           {
            "colorbar": {
             "outlinewidth": 0,
             "ticks": ""
            },
            "colorscale": [
             [
              0,
              "#0d0887"
             ],
             [
              0.1111111111111111,
              "#46039f"
             ],
             [
              0.2222222222222222,
              "#7201a8"
             ],
             [
              0.3333333333333333,
              "#9c179e"
             ],
             [
              0.4444444444444444,
              "#bd3786"
             ],
             [
              0.5555555555555556,
              "#d8576b"
             ],
             [
              0.6666666666666666,
              "#ed7953"
             ],
             [
              0.7777777777777778,
              "#fb9f3a"
             ],
             [
              0.8888888888888888,
              "#fdca26"
             ],
             [
              1,
              "#f0f921"
             ]
            ],
            "type": "contour"
           }
          ],
          "contourcarpet": [
           {
            "colorbar": {
             "outlinewidth": 0,
             "ticks": ""
            },
            "type": "contourcarpet"
           }
          ],
          "heatmap": [
           {
            "colorbar": {
             "outlinewidth": 0,
             "ticks": ""
            },
            "colorscale": [
             [
              0,
              "#0d0887"
             ],
             [
              0.1111111111111111,
              "#46039f"
             ],
             [
              0.2222222222222222,
              "#7201a8"
             ],
             [
              0.3333333333333333,
              "#9c179e"
             ],
             [
              0.4444444444444444,
              "#bd3786"
             ],
             [
              0.5555555555555556,
              "#d8576b"
             ],
             [
              0.6666666666666666,
              "#ed7953"
             ],
             [
              0.7777777777777778,
              "#fb9f3a"
             ],
             [
              0.8888888888888888,
              "#fdca26"
             ],
             [
              1,
              "#f0f921"
             ]
            ],
            "type": "heatmap"
           }
          ],
          "histogram": [
           {
            "marker": {
             "pattern": {
              "fillmode": "overlay",
              "size": 10,
              "solidity": 0.2
             }
            },
            "type": "histogram"
           }
          ],
          "histogram2d": [
           {
            "colorbar": {
             "outlinewidth": 0,
             "ticks": ""
            },
            "colorscale": [
             [
              0,
              "#0d0887"
             ],
             [
              0.1111111111111111,
              "#46039f"
             ],
             [
              0.2222222222222222,
              "#7201a8"
             ],
             [
              0.3333333333333333,
              "#9c179e"
             ],
             [
              0.4444444444444444,
              "#bd3786"
             ],
             [
              0.5555555555555556,
              "#d8576b"
             ],
             [
              0.6666666666666666,
              "#ed7953"
             ],
             [
              0.7777777777777778,
              "#fb9f3a"
             ],
             [
              0.8888888888888888,
              "#fdca26"
             ],
             [
              1,
              "#f0f921"
             ]
            ],
            "type": "histogram2d"
           }
          ],
          "histogram2dcontour": [
           {
            "colorbar": {
             "outlinewidth": 0,
             "ticks": ""
            },
            "colorscale": [
             [
              0,
              "#0d0887"
             ],
             [
              0.1111111111111111,
              "#46039f"
             ],
             [
              0.2222222222222222,
              "#7201a8"
             ],
             [
              0.3333333333333333,
              "#9c179e"
             ],
             [
              0.4444444444444444,
              "#bd3786"
             ],
             [
              0.5555555555555556,
              "#d8576b"
             ],
             [
              0.6666666666666666,
              "#ed7953"
             ],
             [
              0.7777777777777778,
              "#fb9f3a"
             ],
             [
              0.8888888888888888,
              "#fdca26"
             ],
             [
              1,
              "#f0f921"
             ]
            ],
            "type": "histogram2dcontour"
           }
          ],
          "mesh3d": [
           {
            "colorbar": {
             "outlinewidth": 0,
             "ticks": ""
            },
            "type": "mesh3d"
           }
          ],
          "parcoords": [
           {
            "line": {
             "colorbar": {
              "outlinewidth": 0,
              "ticks": ""
             }
            },
            "type": "parcoords"
           }
          ],
          "pie": [
           {
            "automargin": true,
            "type": "pie"
           }
          ],
          "scatter": [
           {
            "fillpattern": {
             "fillmode": "overlay",
             "size": 10,
             "solidity": 0.2
            },
            "type": "scatter"
           }
          ],
          "scatter3d": [
           {
            "line": {
             "colorbar": {
              "outlinewidth": 0,
              "ticks": ""
             }
            },
            "marker": {
             "colorbar": {
              "outlinewidth": 0,
              "ticks": ""
             }
            },
            "type": "scatter3d"
           }
          ],
          "scattercarpet": [
           {
            "marker": {
             "colorbar": {
              "outlinewidth": 0,
              "ticks": ""
             }
            },
            "type": "scattercarpet"
           }
          ],
          "scattergeo": [
           {
            "marker": {
             "colorbar": {
              "outlinewidth": 0,
              "ticks": ""
             }
            },
            "type": "scattergeo"
           }
          ],
          "scattergl": [
           {
            "marker": {
             "colorbar": {
              "outlinewidth": 0,
              "ticks": ""
             }
            },
            "type": "scattergl"
           }
          ],
          "scattermap": [
           {
            "marker": {
             "colorbar": {
              "outlinewidth": 0,
              "ticks": ""
             }
            },
            "type": "scattermap"
           }
          ],
          "scattermapbox": [
           {
            "marker": {
             "colorbar": {
              "outlinewidth": 0,
              "ticks": ""
             }
            },
            "type": "scattermapbox"
           }
          ],
          "scatterpolar": [
           {
            "marker": {
             "colorbar": {
              "outlinewidth": 0,
              "ticks": ""
             }
            },
            "type": "scatterpolar"
           }
          ],
          "scatterpolargl": [
           {
            "marker": {
             "colorbar": {
              "outlinewidth": 0,
              "ticks": ""
             }
            },
            "type": "scatterpolargl"
           }
          ],
          "scatterternary": [
           {
            "marker": {
             "colorbar": {
              "outlinewidth": 0,
              "ticks": ""
             }
            },
            "type": "scatterternary"
           }
          ],
          "surface": [
           {
            "colorbar": {
             "outlinewidth": 0,
             "ticks": ""
            },
            "colorscale": [
             [
              0,
              "#0d0887"
             ],
             [
              0.1111111111111111,
              "#46039f"
             ],
             [
              0.2222222222222222,
              "#7201a8"
             ],
             [
              0.3333333333333333,
              "#9c179e"
             ],
             [
              0.4444444444444444,
              "#bd3786"
             ],
             [
              0.5555555555555556,
              "#d8576b"
             ],
             [
              0.6666666666666666,
              "#ed7953"
             ],
             [
              0.7777777777777778,
              "#fb9f3a"
             ],
             [
              0.8888888888888888,
              "#fdca26"
             ],
             [
              1,
              "#f0f921"
             ]
            ],
            "type": "surface"
           }
          ],
          "table": [
           {
            "cells": {
             "fill": {
              "color": "#EBF0F8"
             },
             "line": {
              "color": "white"
             }
            },
            "header": {
             "fill": {
              "color": "#C8D4E3"
             },
             "line": {
              "color": "white"
             }
            },
            "type": "table"
           }
          ]
         },
         "layout": {
          "annotationdefaults": {
           "arrowcolor": "#2a3f5f",
           "arrowhead": 0,
           "arrowwidth": 1
          },
          "autotypenumbers": "strict",
          "coloraxis": {
           "colorbar": {
            "outlinewidth": 0,
            "ticks": ""
           }
          },
          "colorscale": {
           "diverging": [
            [
             0,
             "#8e0152"
            ],
            [
             0.1,
             "#c51b7d"
            ],
            [
             0.2,
             "#de77ae"
            ],
            [
             0.3,
             "#f1b6da"
            ],
            [
             0.4,
             "#fde0ef"
            ],
            [
             0.5,
             "#f7f7f7"
            ],
            [
             0.6,
             "#e6f5d0"
            ],
            [
             0.7,
             "#b8e186"
            ],
            [
             0.8,
             "#7fbc41"
            ],
            [
             0.9,
             "#4d9221"
            ],
            [
             1,
             "#276419"
            ]
           ],
           "sequential": [
            [
             0,
             "#0d0887"
            ],
            [
             0.1111111111111111,
             "#46039f"
            ],
            [
             0.2222222222222222,
             "#7201a8"
            ],
            [
             0.3333333333333333,
             "#9c179e"
            ],
            [
             0.4444444444444444,
             "#bd3786"
            ],
            [
             0.5555555555555556,
             "#d8576b"
            ],
            [
             0.6666666666666666,
             "#ed7953"
            ],
            [
             0.7777777777777778,
             "#fb9f3a"
            ],
            [
             0.8888888888888888,
             "#fdca26"
            ],
            [
             1,
             "#f0f921"
            ]
           ],
           "sequentialminus": [
            [
             0,
             "#0d0887"
            ],
            [
             0.1111111111111111,
             "#46039f"
            ],
            [
             0.2222222222222222,
             "#7201a8"
            ],
            [
             0.3333333333333333,
             "#9c179e"
            ],
            [
             0.4444444444444444,
             "#bd3786"
            ],
            [
             0.5555555555555556,
             "#d8576b"
            ],
            [
             0.6666666666666666,
             "#ed7953"
            ],
            [
             0.7777777777777778,
             "#fb9f3a"
            ],
            [
             0.8888888888888888,
             "#fdca26"
            ],
            [
             1,
             "#f0f921"
            ]
           ]
          },
          "colorway": [
           "#636efa",
           "#EF553B",
           "#00cc96",
           "#ab63fa",
           "#FFA15A",
           "#19d3f3",
           "#FF6692",
           "#B6E880",
           "#FF97FF",
           "#FECB52"
          ],
          "font": {
           "color": "#2a3f5f"
          },
          "geo": {
           "bgcolor": "white",
           "lakecolor": "white",
           "landcolor": "#E5ECF6",
           "showlakes": true,
           "showland": true,
           "subunitcolor": "white"
          },
          "hoverlabel": {
           "align": "left"
          },
          "hovermode": "closest",
          "mapbox": {
           "style": "light"
          },
          "paper_bgcolor": "white",
          "plot_bgcolor": "#E5ECF6",
          "polar": {
           "angularaxis": {
            "gridcolor": "white",
            "linecolor": "white",
            "ticks": ""
           },
           "bgcolor": "#E5ECF6",
           "radialaxis": {
            "gridcolor": "white",
            "linecolor": "white",
            "ticks": ""
           }
          },
          "scene": {
           "xaxis": {
            "backgroundcolor": "#E5ECF6",
            "gridcolor": "white",
            "gridwidth": 2,
            "linecolor": "white",
            "showbackground": true,
            "ticks": "",
            "zerolinecolor": "white"
           },
           "yaxis": {
            "backgroundcolor": "#E5ECF6",
            "gridcolor": "white",
            "gridwidth": 2,
            "linecolor": "white",
            "showbackground": true,
            "ticks": "",
            "zerolinecolor": "white"
           },
           "zaxis": {
            "backgroundcolor": "#E5ECF6",
            "gridcolor": "white",
            "gridwidth": 2,
            "linecolor": "white",
            "showbackground": true,
            "ticks": "",
            "zerolinecolor": "white"
           }
          },
          "shapedefaults": {
           "line": {
            "color": "#2a3f5f"
           }
          },
          "ternary": {
           "aaxis": {
            "gridcolor": "white",
            "linecolor": "white",
            "ticks": ""
           },
           "baxis": {
            "gridcolor": "white",
            "linecolor": "white",
            "ticks": ""
           },
           "bgcolor": "#E5ECF6",
           "caxis": {
            "gridcolor": "white",
            "linecolor": "white",
            "ticks": ""
           }
          },
          "title": {
           "x": 0.05
          },
          "xaxis": {
           "automargin": true,
           "gridcolor": "white",
           "linecolor": "white",
           "ticks": "",
           "title": {
            "standoff": 15
           },
           "zerolinecolor": "white",
           "zerolinewidth": 2
          },
          "yaxis": {
           "automargin": true,
           "gridcolor": "white",
           "linecolor": "white",
           "ticks": "",
           "title": {
            "standoff": 15
           },
           "zerolinecolor": "white",
           "zerolinewidth": 2
          }
         }
        },
        "width": 1000
       }
      }
     },
     "metadata": {},
     "output_type": "display_data"
    }
   ],
   "source": [
    "import plotly.express as px\n",
    "import pandas as pd\n",
    "from plotly.subplots import make_subplots\n",
    "fig = make_subplots(rows=6, cols=4, specs=[[{'type': 'polar'}]*4]*6, horizontal_spacing=0.1, vertical_spacing=0.1)\n",
    "\n",
    "for i in range(len(RANABASET)):\n",
    "    # v = RANABASET.iloc[i][1:].to_numpy(dtype=np.float64) # estrae i valori del tCSD, tCLD, tNLD, tNSD, tCitoratio, tNucleoratio\n",
    "    df = pd.DataFrame(dict(\n",
    "        r=RANABASET.iloc[i][1:].values,\n",
    "        theta=RANABASET.iloc[i][1:].keys()))\n",
    "        \n",
    "    polar_fig = px.line_polar(df, r='r', theta='theta', line_close=True, range_r=[0,4])\n",
    "    polar_fig.update_traces(fill='toself')\n",
    "    #polar_fig.update_layout(polar=dict(radialaxis=dict(tickvals=[0, 1, 2, 3, 4])))\n",
    "\n",
    "    row = i // 4 + 1\n",
    "    col = i % 4 + 1\n",
    "    for trace in polar_fig['data']:\n",
    "        fig.add_trace(trace, row=row, col=col)\n",
    "\n",
    "fig.update_layout(height=1500, width=1000, showlegend=False)\n",
    "fig.show()"
   ]
  }
 ],
 "metadata": {
  "kernelspec": {
   "display_name": "Python 3",
   "language": "python",
   "name": "python3"
  },
  "language_info": {
   "codemirror_mode": {
    "name": "ipython",
    "version": 3
   },
   "file_extension": ".py",
   "mimetype": "text/x-python",
   "name": "python",
   "nbconvert_exporter": "python",
   "pygments_lexer": "ipython3",
   "version": "3.13.0"
  }
 },
 "nbformat": 4,
 "nbformat_minor": 2
}
