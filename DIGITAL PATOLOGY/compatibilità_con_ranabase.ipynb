{
 "cells": [
  {
   "cell_type": "code",
   "execution_count": 4,
   "metadata": {},
   "outputs": [],
   "source": [
    "# COMPATIBILITA' CON IL RANABASE\n",
    "\n",
    "from matplotlib import pyplot as plt\n",
    "import numpy as np\n",
    "import pandas as pd\n",
    "import plotly.express as px\n",
    "import os\n",
    "import sys\n",
    "import plotly.graph_objects as go \n",
    "from scipy.optimize import curve_fit\n",
    "from scipy.stats import norm\n",
    "dir_path = os.path.abspath('')\n",
    "sys.path.append(dir_path + '/../')\n",
    "from labbiofisica import Interpolazione, final_val"
   ]
  },
  {
   "cell_type": "code",
   "execution_count": 5,
   "metadata": {},
   "outputs": [
    {
     "data": {
      "text/html": [
       "<div>\n",
       "<style scoped>\n",
       "    .dataframe tbody tr th:only-of-type {\n",
       "        vertical-align: middle;\n",
       "    }\n",
       "\n",
       "    .dataframe tbody tr th {\n",
       "        vertical-align: top;\n",
       "    }\n",
       "\n",
       "    .dataframe thead th {\n",
       "        text-align: right;\n",
       "    }\n",
       "</style>\n",
       "<table border=\"1\" class=\"dataframe\">\n",
       "  <thead>\n",
       "    <tr style=\"text-align: right;\">\n",
       "      <th></th>\n",
       "      <th>Specie</th>\n",
       "      <th>CLD</th>\n",
       "      <th>CSD</th>\n",
       "      <th>RATIO C</th>\n",
       "      <th>NLD</th>\n",
       "      <th>NSD</th>\n",
       "      <th>RATIO N</th>\n",
       "    </tr>\n",
       "  </thead>\n",
       "  <tbody>\n",
       "    <tr>\n",
       "      <th>0</th>\n",
       "      <td>Limnonectes limnocharis</td>\n",
       "      <td>19.6</td>\n",
       "      <td>13.2</td>\n",
       "      <td>0.67</td>\n",
       "      <td>7.9</td>\n",
       "      <td>4.9</td>\n",
       "      <td>0.62</td>\n",
       "    </tr>\n",
       "    <tr>\n",
       "      <th>1</th>\n",
       "      <td>Pyxicephalus adspersus</td>\n",
       "      <td>NaN</td>\n",
       "      <td>NaN</td>\n",
       "      <td>NaN</td>\n",
       "      <td>NaN</td>\n",
       "      <td>NaN</td>\n",
       "      <td>NaN</td>\n",
       "    </tr>\n",
       "    <tr>\n",
       "      <th>2</th>\n",
       "      <td>Rana catesbeiana</td>\n",
       "      <td>25.0</td>\n",
       "      <td>12.4</td>\n",
       "      <td>0.50</td>\n",
       "      <td>9.9</td>\n",
       "      <td>5.7</td>\n",
       "      <td>0.58</td>\n",
       "    </tr>\n",
       "    <tr>\n",
       "      <th>3</th>\n",
       "      <td>\" \"</td>\n",
       "      <td>24.8</td>\n",
       "      <td>15.3</td>\n",
       "      <td>0.62</td>\n",
       "      <td>NaN</td>\n",
       "      <td>NaN</td>\n",
       "      <td>NaN</td>\n",
       "    </tr>\n",
       "    <tr>\n",
       "      <th>4</th>\n",
       "      <td>\" \"</td>\n",
       "      <td>26.1</td>\n",
       "      <td>13.5</td>\n",
       "      <td>0.52</td>\n",
       "      <td>10.0</td>\n",
       "      <td>5.6</td>\n",
       "      <td>0.56</td>\n",
       "    </tr>\n",
       "    <tr>\n",
       "      <th>5</th>\n",
       "      <td>\" \"</td>\n",
       "      <td>27.9</td>\n",
       "      <td>15.4</td>\n",
       "      <td>0.55</td>\n",
       "      <td>10.3</td>\n",
       "      <td>5.6</td>\n",
       "      <td>0.54</td>\n",
       "    </tr>\n",
       "    <tr>\n",
       "      <th>6</th>\n",
       "      <td>\" \"</td>\n",
       "      <td>25.7</td>\n",
       "      <td>14.2</td>\n",
       "      <td>0.55</td>\n",
       "      <td>NaN</td>\n",
       "      <td>NaN</td>\n",
       "      <td>NaN</td>\n",
       "    </tr>\n",
       "    <tr>\n",
       "      <th>7</th>\n",
       "      <td>Rana clamitans</td>\n",
       "      <td>22.5</td>\n",
       "      <td>15.0</td>\n",
       "      <td>0.67</td>\n",
       "      <td>NaN</td>\n",
       "      <td>NaN</td>\n",
       "      <td>NaN</td>\n",
       "    </tr>\n",
       "    <tr>\n",
       "      <th>8</th>\n",
       "      <td>\" \"</td>\n",
       "      <td>23.0</td>\n",
       "      <td>11.9</td>\n",
       "      <td>0.52</td>\n",
       "      <td>NaN</td>\n",
       "      <td>NaN</td>\n",
       "      <td>NaN</td>\n",
       "    </tr>\n",
       "    <tr>\n",
       "      <th>9</th>\n",
       "      <td>Rana esculenta</td>\n",
       "      <td>25.4</td>\n",
       "      <td>17.6</td>\n",
       "      <td>0.69</td>\n",
       "      <td>NaN</td>\n",
       "      <td>NaN</td>\n",
       "      <td>NaN</td>\n",
       "    </tr>\n",
       "    <tr>\n",
       "      <th>10</th>\n",
       "      <td>Rana japonica</td>\n",
       "      <td>21.8</td>\n",
       "      <td>14.3</td>\n",
       "      <td>0.66</td>\n",
       "      <td>8.9</td>\n",
       "      <td>5.3</td>\n",
       "      <td>0.60</td>\n",
       "    </tr>\n",
       "    <tr>\n",
       "      <th>11</th>\n",
       "      <td>Rana nigromaculata</td>\n",
       "      <td>21.8</td>\n",
       "      <td>14.3</td>\n",
       "      <td>0.66</td>\n",
       "      <td>9.3</td>\n",
       "      <td>5.5</td>\n",
       "      <td>0.59</td>\n",
       "    </tr>\n",
       "    <tr>\n",
       "      <th>12</th>\n",
       "      <td>Rana palustris</td>\n",
       "      <td>20.4</td>\n",
       "      <td>12.7</td>\n",
       "      <td>0.62</td>\n",
       "      <td>NaN</td>\n",
       "      <td>NaN</td>\n",
       "      <td>NaN</td>\n",
       "    </tr>\n",
       "    <tr>\n",
       "      <th>13</th>\n",
       "      <td>Rana pipiens</td>\n",
       "      <td>21.5</td>\n",
       "      <td>12.2</td>\n",
       "      <td>0.57</td>\n",
       "      <td>8.8</td>\n",
       "      <td>5.2</td>\n",
       "      <td>0.59</td>\n",
       "    </tr>\n",
       "    <tr>\n",
       "      <th>14</th>\n",
       "      <td>\" \"</td>\n",
       "      <td>23.8</td>\n",
       "      <td>16.2</td>\n",
       "      <td>0.68</td>\n",
       "      <td>NaN</td>\n",
       "      <td>NaN</td>\n",
       "      <td>NaN</td>\n",
       "    </tr>\n",
       "    <tr>\n",
       "      <th>15</th>\n",
       "      <td>\" \"</td>\n",
       "      <td>20.5</td>\n",
       "      <td>13.2</td>\n",
       "      <td>0.64</td>\n",
       "      <td>NaN</td>\n",
       "      <td>NaN</td>\n",
       "      <td>NaN</td>\n",
       "    </tr>\n",
       "    <tr>\n",
       "      <th>16</th>\n",
       "      <td>Rana porosa</td>\n",
       "      <td>22.9</td>\n",
       "      <td>14.9</td>\n",
       "      <td>0.65</td>\n",
       "      <td>8.5</td>\n",
       "      <td>5.4</td>\n",
       "      <td>0.64</td>\n",
       "    </tr>\n",
       "    <tr>\n",
       "      <th>17</th>\n",
       "      <td>Rana rugosa</td>\n",
       "      <td>26.6</td>\n",
       "      <td>16.1</td>\n",
       "      <td>0.61</td>\n",
       "      <td>12.0</td>\n",
       "      <td>6.4</td>\n",
       "      <td>0.53</td>\n",
       "    </tr>\n",
       "    <tr>\n",
       "      <th>18</th>\n",
       "      <td>Rana sylvatica</td>\n",
       "      <td>25.5</td>\n",
       "      <td>16.5</td>\n",
       "      <td>0.65</td>\n",
       "      <td>NaN</td>\n",
       "      <td>NaN</td>\n",
       "      <td>NaN</td>\n",
       "    </tr>\n",
       "    <tr>\n",
       "      <th>19</th>\n",
       "      <td>Rana tagoi</td>\n",
       "      <td>24.5</td>\n",
       "      <td>14.2</td>\n",
       "      <td>0.58</td>\n",
       "      <td>10.0</td>\n",
       "      <td>5.7</td>\n",
       "      <td>0.57</td>\n",
       "    </tr>\n",
       "    <tr>\n",
       "      <th>20</th>\n",
       "      <td>Rana temporaria</td>\n",
       "      <td>22.9</td>\n",
       "      <td>13.9</td>\n",
       "      <td>0.61</td>\n",
       "      <td>8.2</td>\n",
       "      <td>4.0</td>\n",
       "      <td>0.49</td>\n",
       "    </tr>\n",
       "    <tr>\n",
       "      <th>21</th>\n",
       "      <td>\" \"</td>\n",
       "      <td>24.6</td>\n",
       "      <td>16.9</td>\n",
       "      <td>0.69</td>\n",
       "      <td>NaN</td>\n",
       "      <td>NaN</td>\n",
       "      <td>NaN</td>\n",
       "    </tr>\n",
       "    <tr>\n",
       "      <th>22</th>\n",
       "      <td>Rana tsushimensis</td>\n",
       "      <td>22.2</td>\n",
       "      <td>14.2</td>\n",
       "      <td>0.64</td>\n",
       "      <td>9.5</td>\n",
       "      <td>5.1</td>\n",
       "      <td>0.54</td>\n",
       "    </tr>\n",
       "  </tbody>\n",
       "</table>\n",
       "</div>"
      ],
      "text/plain": [
       "                     Specie   CLD   CSD  RATIO C   NLD  NSD  RATIO N\n",
       "0   Limnonectes limnocharis  19.6  13.2     0.67   7.9  4.9     0.62\n",
       "1    Pyxicephalus adspersus   NaN   NaN      NaN   NaN  NaN      NaN\n",
       "2          Rana catesbeiana  25.0  12.4     0.50   9.9  5.7     0.58\n",
       "3                       \" \"  24.8  15.3     0.62   NaN  NaN      NaN\n",
       "4                       \" \"  26.1  13.5     0.52  10.0  5.6     0.56\n",
       "5                       \" \"  27.9  15.4     0.55  10.3  5.6     0.54\n",
       "6                       \" \"  25.7  14.2     0.55   NaN  NaN      NaN\n",
       "7            Rana clamitans  22.5  15.0     0.67   NaN  NaN      NaN\n",
       "8                       \" \"  23.0  11.9     0.52   NaN  NaN      NaN\n",
       "9            Rana esculenta  25.4  17.6     0.69   NaN  NaN      NaN\n",
       "10            Rana japonica  21.8  14.3     0.66   8.9  5.3     0.60\n",
       "11       Rana nigromaculata  21.8  14.3     0.66   9.3  5.5     0.59\n",
       "12           Rana palustris  20.4  12.7     0.62   NaN  NaN      NaN\n",
       "13             Rana pipiens  21.5  12.2     0.57   8.8  5.2     0.59\n",
       "14                      \" \"  23.8  16.2     0.68   NaN  NaN      NaN\n",
       "15                      \" \"  20.5  13.2     0.64   NaN  NaN      NaN\n",
       "16              Rana porosa  22.9  14.9     0.65   8.5  5.4     0.64\n",
       "17              Rana rugosa  26.6  16.1     0.61  12.0  6.4     0.53\n",
       "18           Rana sylvatica  25.5  16.5     0.65   NaN  NaN      NaN\n",
       "19               Rana tagoi  24.5  14.2     0.58  10.0  5.7     0.57\n",
       "20          Rana temporaria  22.9  13.9     0.61   8.2  4.0     0.49\n",
       "21                      \" \"  24.6  16.9     0.69   NaN  NaN      NaN\n",
       "22        Rana tsushimensis  22.2  14.2     0.64   9.5  5.1     0.54"
      ]
     },
     "metadata": {},
     "output_type": "display_data"
    }
   ],
   "source": [
    "RANABASE = pd.read_csv('data/RANABASE.csv', sep = ',', decimal = '.')\n",
    "display(RANABASE)"
   ]
  },
  {
   "cell_type": "code",
   "execution_count": 6,
   "metadata": {},
   "outputs": [],
   "source": [
    "# Citoratio:  0.63 ± 0.03 \n",
    "# Nucleoratio:  0.55 ± 0.03 \n",
    "# CLD:  22.9 ± 2.8 μm\n",
    "# CSD:  13.7 ± 1.8 μm\n",
    "# NLD:  8.2 ± 1.0 μm\n",
    "# NSD:  4.4 ± 0.7 μm\n",
    "\n",
    "citoratio = 0.63\n",
    "nucleoratio = 0.55\n",
    "scitoratio = 0.03\n",
    "snucleoratio = 0.03\n",
    "\n",
    "CLD = 22.9\n",
    "CSD = 13.7\n",
    "NLD = 8.2\n",
    "NSD = 4.4\n",
    "\n",
    "sCLD = 2.8\n",
    "sCSD = 1.8\n",
    "sNLD = 1.0\n",
    "sNSD = 0.7"
   ]
  },
  {
   "cell_type": "code",
   "execution_count": 7,
   "metadata": {},
   "outputs": [],
   "source": [
    "tCSD = np.round(np.abs(CSD - RANABASE['CSD']) / sCSD, 2)\n",
    "tCLD = np.round(np.abs(CLD - RANABASE['CLD']) / sCLD, 2)\n",
    "tNLD = np.round(np.abs(NLD - RANABASE['NLD']) / sNLD, 2)\n",
    "tNSD = np.round(np.abs(NSD - RANABASE['NSD']) / sNSD, 2)\n",
    "\n",
    "tCitoratio = np.round(np.abs(citoratio - RANABASE['RATIO C']) / scitoratio, 2)\n",
    "tNucleoratio = np.round(np.abs(nucleoratio - RANABASE['RATIO N']) / snucleoratio, 2)"
   ]
  },
  {
   "cell_type": "code",
   "execution_count": 8,
   "metadata": {},
   "outputs": [
    {
     "data": {
      "text/html": [
       "<div>\n",
       "<style scoped>\n",
       "    .dataframe tbody tr th:only-of-type {\n",
       "        vertical-align: middle;\n",
       "    }\n",
       "\n",
       "    .dataframe tbody tr th {\n",
       "        vertical-align: top;\n",
       "    }\n",
       "\n",
       "    .dataframe thead th {\n",
       "        text-align: right;\n",
       "    }\n",
       "</style>\n",
       "<table border=\"1\" class=\"dataframe\">\n",
       "  <thead>\n",
       "    <tr style=\"text-align: right;\">\n",
       "      <th></th>\n",
       "      <th>Specie</th>\n",
       "      <th>CLD</th>\n",
       "      <th>CSD</th>\n",
       "      <th>RATIO C</th>\n",
       "      <th>NLD</th>\n",
       "      <th>NSD</th>\n",
       "      <th>RATIO N</th>\n",
       "      <th>tCSD</th>\n",
       "      <th>tCLD</th>\n",
       "      <th>tNLD</th>\n",
       "      <th>tNSD</th>\n",
       "      <th>tCitoratio</th>\n",
       "      <th>tNucleoratio</th>\n",
       "    </tr>\n",
       "  </thead>\n",
       "  <tbody>\n",
       "    <tr>\n",
       "      <th>0</th>\n",
       "      <td>Limnonectes limnocharis</td>\n",
       "      <td>19.6</td>\n",
       "      <td>13.2</td>\n",
       "      <td>0.67</td>\n",
       "      <td>7.9</td>\n",
       "      <td>4.9</td>\n",
       "      <td>0.62</td>\n",
       "      <td>0.28</td>\n",
       "      <td>1.18</td>\n",
       "      <td>0.3</td>\n",
       "      <td>0.71</td>\n",
       "      <td>1.33</td>\n",
       "      <td>2.33</td>\n",
       "    </tr>\n",
       "    <tr>\n",
       "      <th>1</th>\n",
       "      <td>Pyxicephalus adspersus</td>\n",
       "      <td>NaN</td>\n",
       "      <td>NaN</td>\n",
       "      <td>NaN</td>\n",
       "      <td>NaN</td>\n",
       "      <td>NaN</td>\n",
       "      <td>NaN</td>\n",
       "      <td>NaN</td>\n",
       "      <td>NaN</td>\n",
       "      <td>NaN</td>\n",
       "      <td>NaN</td>\n",
       "      <td>NaN</td>\n",
       "      <td>NaN</td>\n",
       "    </tr>\n",
       "    <tr>\n",
       "      <th>2</th>\n",
       "      <td>Rana catesbeiana</td>\n",
       "      <td>25.0</td>\n",
       "      <td>12.4</td>\n",
       "      <td>0.50</td>\n",
       "      <td>9.9</td>\n",
       "      <td>5.7</td>\n",
       "      <td>0.58</td>\n",
       "      <td>0.72</td>\n",
       "      <td>0.75</td>\n",
       "      <td>1.7</td>\n",
       "      <td>1.86</td>\n",
       "      <td>4.33</td>\n",
       "      <td>1.00</td>\n",
       "    </tr>\n",
       "    <tr>\n",
       "      <th>3</th>\n",
       "      <td>\" \"</td>\n",
       "      <td>24.8</td>\n",
       "      <td>15.3</td>\n",
       "      <td>0.62</td>\n",
       "      <td>NaN</td>\n",
       "      <td>NaN</td>\n",
       "      <td>NaN</td>\n",
       "      <td>0.89</td>\n",
       "      <td>0.68</td>\n",
       "      <td>NaN</td>\n",
       "      <td>NaN</td>\n",
       "      <td>0.33</td>\n",
       "      <td>NaN</td>\n",
       "    </tr>\n",
       "    <tr>\n",
       "      <th>4</th>\n",
       "      <td>\" \"</td>\n",
       "      <td>26.1</td>\n",
       "      <td>13.5</td>\n",
       "      <td>0.52</td>\n",
       "      <td>10.0</td>\n",
       "      <td>5.6</td>\n",
       "      <td>0.56</td>\n",
       "      <td>0.11</td>\n",
       "      <td>1.14</td>\n",
       "      <td>1.8</td>\n",
       "      <td>1.71</td>\n",
       "      <td>3.67</td>\n",
       "      <td>0.33</td>\n",
       "    </tr>\n",
       "    <tr>\n",
       "      <th>5</th>\n",
       "      <td>\" \"</td>\n",
       "      <td>27.9</td>\n",
       "      <td>15.4</td>\n",
       "      <td>0.55</td>\n",
       "      <td>10.3</td>\n",
       "      <td>5.6</td>\n",
       "      <td>0.54</td>\n",
       "      <td>0.94</td>\n",
       "      <td>1.79</td>\n",
       "      <td>2.1</td>\n",
       "      <td>1.71</td>\n",
       "      <td>2.67</td>\n",
       "      <td>0.33</td>\n",
       "    </tr>\n",
       "    <tr>\n",
       "      <th>6</th>\n",
       "      <td>\" \"</td>\n",
       "      <td>25.7</td>\n",
       "      <td>14.2</td>\n",
       "      <td>0.55</td>\n",
       "      <td>NaN</td>\n",
       "      <td>NaN</td>\n",
       "      <td>NaN</td>\n",
       "      <td>0.28</td>\n",
       "      <td>1.00</td>\n",
       "      <td>NaN</td>\n",
       "      <td>NaN</td>\n",
       "      <td>2.67</td>\n",
       "      <td>NaN</td>\n",
       "    </tr>\n",
       "    <tr>\n",
       "      <th>7</th>\n",
       "      <td>Rana clamitans</td>\n",
       "      <td>22.5</td>\n",
       "      <td>15.0</td>\n",
       "      <td>0.67</td>\n",
       "      <td>NaN</td>\n",
       "      <td>NaN</td>\n",
       "      <td>NaN</td>\n",
       "      <td>0.72</td>\n",
       "      <td>0.14</td>\n",
       "      <td>NaN</td>\n",
       "      <td>NaN</td>\n",
       "      <td>1.33</td>\n",
       "      <td>NaN</td>\n",
       "    </tr>\n",
       "    <tr>\n",
       "      <th>8</th>\n",
       "      <td>\" \"</td>\n",
       "      <td>23.0</td>\n",
       "      <td>11.9</td>\n",
       "      <td>0.52</td>\n",
       "      <td>NaN</td>\n",
       "      <td>NaN</td>\n",
       "      <td>NaN</td>\n",
       "      <td>1.00</td>\n",
       "      <td>0.04</td>\n",
       "      <td>NaN</td>\n",
       "      <td>NaN</td>\n",
       "      <td>3.67</td>\n",
       "      <td>NaN</td>\n",
       "    </tr>\n",
       "    <tr>\n",
       "      <th>9</th>\n",
       "      <td>Rana esculenta</td>\n",
       "      <td>25.4</td>\n",
       "      <td>17.6</td>\n",
       "      <td>0.69</td>\n",
       "      <td>NaN</td>\n",
       "      <td>NaN</td>\n",
       "      <td>NaN</td>\n",
       "      <td>2.17</td>\n",
       "      <td>0.89</td>\n",
       "      <td>NaN</td>\n",
       "      <td>NaN</td>\n",
       "      <td>2.00</td>\n",
       "      <td>NaN</td>\n",
       "    </tr>\n",
       "    <tr>\n",
       "      <th>10</th>\n",
       "      <td>Rana japonica</td>\n",
       "      <td>21.8</td>\n",
       "      <td>14.3</td>\n",
       "      <td>0.66</td>\n",
       "      <td>8.9</td>\n",
       "      <td>5.3</td>\n",
       "      <td>0.60</td>\n",
       "      <td>0.33</td>\n",
       "      <td>0.39</td>\n",
       "      <td>0.7</td>\n",
       "      <td>1.29</td>\n",
       "      <td>1.00</td>\n",
       "      <td>1.67</td>\n",
       "    </tr>\n",
       "    <tr>\n",
       "      <th>11</th>\n",
       "      <td>Rana nigromaculata</td>\n",
       "      <td>21.8</td>\n",
       "      <td>14.3</td>\n",
       "      <td>0.66</td>\n",
       "      <td>9.3</td>\n",
       "      <td>5.5</td>\n",
       "      <td>0.59</td>\n",
       "      <td>0.33</td>\n",
       "      <td>0.39</td>\n",
       "      <td>1.1</td>\n",
       "      <td>1.57</td>\n",
       "      <td>1.00</td>\n",
       "      <td>1.33</td>\n",
       "    </tr>\n",
       "    <tr>\n",
       "      <th>12</th>\n",
       "      <td>Rana palustris</td>\n",
       "      <td>20.4</td>\n",
       "      <td>12.7</td>\n",
       "      <td>0.62</td>\n",
       "      <td>NaN</td>\n",
       "      <td>NaN</td>\n",
       "      <td>NaN</td>\n",
       "      <td>0.56</td>\n",
       "      <td>0.89</td>\n",
       "      <td>NaN</td>\n",
       "      <td>NaN</td>\n",
       "      <td>0.33</td>\n",
       "      <td>NaN</td>\n",
       "    </tr>\n",
       "    <tr>\n",
       "      <th>13</th>\n",
       "      <td>Rana pipiens</td>\n",
       "      <td>21.5</td>\n",
       "      <td>12.2</td>\n",
       "      <td>0.57</td>\n",
       "      <td>8.8</td>\n",
       "      <td>5.2</td>\n",
       "      <td>0.59</td>\n",
       "      <td>0.83</td>\n",
       "      <td>0.50</td>\n",
       "      <td>0.6</td>\n",
       "      <td>1.14</td>\n",
       "      <td>2.00</td>\n",
       "      <td>1.33</td>\n",
       "    </tr>\n",
       "    <tr>\n",
       "      <th>14</th>\n",
       "      <td>\" \"</td>\n",
       "      <td>23.8</td>\n",
       "      <td>16.2</td>\n",
       "      <td>0.68</td>\n",
       "      <td>NaN</td>\n",
       "      <td>NaN</td>\n",
       "      <td>NaN</td>\n",
       "      <td>1.39</td>\n",
       "      <td>0.32</td>\n",
       "      <td>NaN</td>\n",
       "      <td>NaN</td>\n",
       "      <td>1.67</td>\n",
       "      <td>NaN</td>\n",
       "    </tr>\n",
       "    <tr>\n",
       "      <th>15</th>\n",
       "      <td>\" \"</td>\n",
       "      <td>20.5</td>\n",
       "      <td>13.2</td>\n",
       "      <td>0.64</td>\n",
       "      <td>NaN</td>\n",
       "      <td>NaN</td>\n",
       "      <td>NaN</td>\n",
       "      <td>0.28</td>\n",
       "      <td>0.86</td>\n",
       "      <td>NaN</td>\n",
       "      <td>NaN</td>\n",
       "      <td>0.33</td>\n",
       "      <td>NaN</td>\n",
       "    </tr>\n",
       "    <tr>\n",
       "      <th>16</th>\n",
       "      <td>Rana porosa</td>\n",
       "      <td>22.9</td>\n",
       "      <td>14.9</td>\n",
       "      <td>0.65</td>\n",
       "      <td>8.5</td>\n",
       "      <td>5.4</td>\n",
       "      <td>0.64</td>\n",
       "      <td>0.67</td>\n",
       "      <td>0.00</td>\n",
       "      <td>0.3</td>\n",
       "      <td>1.43</td>\n",
       "      <td>0.67</td>\n",
       "      <td>3.00</td>\n",
       "    </tr>\n",
       "    <tr>\n",
       "      <th>17</th>\n",
       "      <td>Rana rugosa</td>\n",
       "      <td>26.6</td>\n",
       "      <td>16.1</td>\n",
       "      <td>0.61</td>\n",
       "      <td>12.0</td>\n",
       "      <td>6.4</td>\n",
       "      <td>0.53</td>\n",
       "      <td>1.33</td>\n",
       "      <td>1.32</td>\n",
       "      <td>3.8</td>\n",
       "      <td>2.86</td>\n",
       "      <td>0.67</td>\n",
       "      <td>0.67</td>\n",
       "    </tr>\n",
       "    <tr>\n",
       "      <th>18</th>\n",
       "      <td>Rana sylvatica</td>\n",
       "      <td>25.5</td>\n",
       "      <td>16.5</td>\n",
       "      <td>0.65</td>\n",
       "      <td>NaN</td>\n",
       "      <td>NaN</td>\n",
       "      <td>NaN</td>\n",
       "      <td>1.56</td>\n",
       "      <td>0.93</td>\n",
       "      <td>NaN</td>\n",
       "      <td>NaN</td>\n",
       "      <td>0.67</td>\n",
       "      <td>NaN</td>\n",
       "    </tr>\n",
       "    <tr>\n",
       "      <th>19</th>\n",
       "      <td>Rana tagoi</td>\n",
       "      <td>24.5</td>\n",
       "      <td>14.2</td>\n",
       "      <td>0.58</td>\n",
       "      <td>10.0</td>\n",
       "      <td>5.7</td>\n",
       "      <td>0.57</td>\n",
       "      <td>0.28</td>\n",
       "      <td>0.57</td>\n",
       "      <td>1.8</td>\n",
       "      <td>1.86</td>\n",
       "      <td>1.67</td>\n",
       "      <td>0.67</td>\n",
       "    </tr>\n",
       "    <tr>\n",
       "      <th>20</th>\n",
       "      <td>Rana temporaria</td>\n",
       "      <td>22.9</td>\n",
       "      <td>13.9</td>\n",
       "      <td>0.61</td>\n",
       "      <td>8.2</td>\n",
       "      <td>4.0</td>\n",
       "      <td>0.49</td>\n",
       "      <td>0.11</td>\n",
       "      <td>0.00</td>\n",
       "      <td>0.0</td>\n",
       "      <td>0.57</td>\n",
       "      <td>0.67</td>\n",
       "      <td>2.00</td>\n",
       "    </tr>\n",
       "    <tr>\n",
       "      <th>21</th>\n",
       "      <td>\" \"</td>\n",
       "      <td>24.6</td>\n",
       "      <td>16.9</td>\n",
       "      <td>0.69</td>\n",
       "      <td>NaN</td>\n",
       "      <td>NaN</td>\n",
       "      <td>NaN</td>\n",
       "      <td>1.78</td>\n",
       "      <td>0.61</td>\n",
       "      <td>NaN</td>\n",
       "      <td>NaN</td>\n",
       "      <td>2.00</td>\n",
       "      <td>NaN</td>\n",
       "    </tr>\n",
       "    <tr>\n",
       "      <th>22</th>\n",
       "      <td>Rana tsushimensis</td>\n",
       "      <td>22.2</td>\n",
       "      <td>14.2</td>\n",
       "      <td>0.64</td>\n",
       "      <td>9.5</td>\n",
       "      <td>5.1</td>\n",
       "      <td>0.54</td>\n",
       "      <td>0.28</td>\n",
       "      <td>0.25</td>\n",
       "      <td>1.3</td>\n",
       "      <td>1.00</td>\n",
       "      <td>0.33</td>\n",
       "      <td>0.33</td>\n",
       "    </tr>\n",
       "  </tbody>\n",
       "</table>\n",
       "</div>"
      ],
      "text/plain": [
       "                     Specie   CLD   CSD  RATIO C   NLD  NSD  RATIO N  tCSD  \\\n",
       "0   Limnonectes limnocharis  19.6  13.2     0.67   7.9  4.9     0.62  0.28   \n",
       "1    Pyxicephalus adspersus   NaN   NaN      NaN   NaN  NaN      NaN   NaN   \n",
       "2          Rana catesbeiana  25.0  12.4     0.50   9.9  5.7     0.58  0.72   \n",
       "3                       \" \"  24.8  15.3     0.62   NaN  NaN      NaN  0.89   \n",
       "4                       \" \"  26.1  13.5     0.52  10.0  5.6     0.56  0.11   \n",
       "5                       \" \"  27.9  15.4     0.55  10.3  5.6     0.54  0.94   \n",
       "6                       \" \"  25.7  14.2     0.55   NaN  NaN      NaN  0.28   \n",
       "7            Rana clamitans  22.5  15.0     0.67   NaN  NaN      NaN  0.72   \n",
       "8                       \" \"  23.0  11.9     0.52   NaN  NaN      NaN  1.00   \n",
       "9            Rana esculenta  25.4  17.6     0.69   NaN  NaN      NaN  2.17   \n",
       "10            Rana japonica  21.8  14.3     0.66   8.9  5.3     0.60  0.33   \n",
       "11       Rana nigromaculata  21.8  14.3     0.66   9.3  5.5     0.59  0.33   \n",
       "12           Rana palustris  20.4  12.7     0.62   NaN  NaN      NaN  0.56   \n",
       "13             Rana pipiens  21.5  12.2     0.57   8.8  5.2     0.59  0.83   \n",
       "14                      \" \"  23.8  16.2     0.68   NaN  NaN      NaN  1.39   \n",
       "15                      \" \"  20.5  13.2     0.64   NaN  NaN      NaN  0.28   \n",
       "16              Rana porosa  22.9  14.9     0.65   8.5  5.4     0.64  0.67   \n",
       "17              Rana rugosa  26.6  16.1     0.61  12.0  6.4     0.53  1.33   \n",
       "18           Rana sylvatica  25.5  16.5     0.65   NaN  NaN      NaN  1.56   \n",
       "19               Rana tagoi  24.5  14.2     0.58  10.0  5.7     0.57  0.28   \n",
       "20          Rana temporaria  22.9  13.9     0.61   8.2  4.0     0.49  0.11   \n",
       "21                      \" \"  24.6  16.9     0.69   NaN  NaN      NaN  1.78   \n",
       "22        Rana tsushimensis  22.2  14.2     0.64   9.5  5.1     0.54  0.28   \n",
       "\n",
       "    tCLD  tNLD  tNSD  tCitoratio  tNucleoratio  \n",
       "0   1.18   0.3  0.71        1.33          2.33  \n",
       "1    NaN   NaN   NaN         NaN           NaN  \n",
       "2   0.75   1.7  1.86        4.33          1.00  \n",
       "3   0.68   NaN   NaN        0.33           NaN  \n",
       "4   1.14   1.8  1.71        3.67          0.33  \n",
       "5   1.79   2.1  1.71        2.67          0.33  \n",
       "6   1.00   NaN   NaN        2.67           NaN  \n",
       "7   0.14   NaN   NaN        1.33           NaN  \n",
       "8   0.04   NaN   NaN        3.67           NaN  \n",
       "9   0.89   NaN   NaN        2.00           NaN  \n",
       "10  0.39   0.7  1.29        1.00          1.67  \n",
       "11  0.39   1.1  1.57        1.00          1.33  \n",
       "12  0.89   NaN   NaN        0.33           NaN  \n",
       "13  0.50   0.6  1.14        2.00          1.33  \n",
       "14  0.32   NaN   NaN        1.67           NaN  \n",
       "15  0.86   NaN   NaN        0.33           NaN  \n",
       "16  0.00   0.3  1.43        0.67          3.00  \n",
       "17  1.32   3.8  2.86        0.67          0.67  \n",
       "18  0.93   NaN   NaN        0.67           NaN  \n",
       "19  0.57   1.8  1.86        1.67          0.67  \n",
       "20  0.00   0.0  0.57        0.67          2.00  \n",
       "21  0.61   NaN   NaN        2.00           NaN  \n",
       "22  0.25   1.3  1.00        0.33          0.33  "
      ]
     },
     "metadata": {},
     "output_type": "display_data"
    }
   ],
   "source": [
    "RANABASE['tCSD'] = tCSD\n",
    "RANABASE['tCLD'] = tCLD\n",
    "RANABASE['tNLD'] = tNLD\n",
    "RANABASE['tNSD'] = tNSD\n",
    "RANABASE['tCitoratio'] = tCitoratio\n",
    "RANABASE['tNucleoratio'] = tNucleoratio\n",
    "\n",
    "display(RANABASE)"
   ]
  },
  {
   "cell_type": "code",
   "execution_count": 46,
   "metadata": {},
   "outputs": [],
   "source": [
    "colls =  ['Specie', 'tCSD', 'tCLD', 'tNLD', 'tNSD', 'tCitoratio', 'tNucleoratio']\n",
    "RANABASET = RANABASE.loc[0:22,colls] # 0:22\n",
    "# display(RANABASET.iloc[5][1:].to_numpy(dtype=np.float64))"
   ]
  },
  {
   "cell_type": "code",
   "execution_count": 55,
   "metadata": {},
   "outputs": [
    {
     "data": {
      "application/vnd.plotly.v1+json": {
       "config": {
        "plotlyServerURL": "https://plot.ly"
       },
       "data": [
        {
         "fill": "toself",
         "hovertemplate": "r=%{r}<br>theta=%{theta}<extra></extra>",
         "legendgroup": "",
         "line": {
          "color": "#636efa",
          "dash": "solid"
         },
         "marker": {
          "symbol": "circle"
         },
         "mode": "lines",
         "name": "",
         "r": {
          "bdata": "7FG4HoXr0T/hehSuR+HyPzMzMzMzM9M/uB6F61G45j9I4XoUrkf1P6RwPQrXowJA7FG4HoXr0T8=",
          "dtype": "f8"
         },
         "showlegend": false,
         "subplot": "polar",
         "theta": [
          "tCSD",
          "tCLD",
          "tNLD",
          "tNSD",
          "tCitoratio",
          "tNucleoratio",
          "tCSD"
         ],
         "type": "scatterpolar"
        },
        {
         "fill": "toself",
         "hovertemplate": "r=%{r}<br>theta=%{theta}<extra></extra>",
         "legendgroup": "",
         "line": {
          "color": "#636efa",
          "dash": "solid"
         },
         "marker": {
          "symbol": "circle"
         },
         "mode": "lines",
         "name": "",
         "r": {
          "bdata": "AAAAAAAA+H8AAAAAAAD4fwAAAAAAAPh/AAAAAAAA+H8AAAAAAAD4fwAAAAAAAPh/AAAAAAAA+H8=",
          "dtype": "f8"
         },
         "showlegend": false,
         "subplot": "polar2",
         "theta": [
          "tCSD",
          "tCLD",
          "tNLD",
          "tNSD",
          "tCitoratio",
          "tNucleoratio",
          "tCSD"
         ],
         "type": "scatterpolar"
        },
        {
         "fill": "toself",
         "hovertemplate": "r=%{r}<br>theta=%{theta}<extra></extra>",
         "legendgroup": "",
         "line": {
          "color": "#636efa",
          "dash": "solid"
         },
         "marker": {
          "symbol": "circle"
         },
         "mode": "lines",
         "name": "",
         "r": {
          "bdata": "CtejcD0K5z8AAAAAAADoPzMzMzMzM/s/w/UoXI/C/T9SuB6F61ERQAAAAAAAAPA/CtejcD0K5z8=",
          "dtype": "f8"
         },
         "showlegend": false,
         "subplot": "polar3",
         "theta": [
          "tCSD",
          "tCLD",
          "tNLD",
          "tNSD",
          "tCitoratio",
          "tNucleoratio",
          "tCSD"
         ],
         "type": "scatterpolar"
        },
        {
         "fill": "toself",
         "hovertemplate": "r=%{r}<br>theta=%{theta}<extra></extra>",
         "legendgroup": "",
         "line": {
          "color": "#636efa",
          "dash": "solid"
         },
         "marker": {
          "symbol": "circle"
         },
         "mode": "lines",
         "name": "",
         "r": {
          "bdata": "exSuR+F67D/D9Shcj8LlPwAAAAAAAPh/AAAAAAAA+H8fhetRuB7VPwAAAAAAAPh/exSuR+F67D8=",
          "dtype": "f8"
         },
         "showlegend": false,
         "subplot": "polar4",
         "theta": [
          "tCSD",
          "tCLD",
          "tNLD",
          "tNSD",
          "tCitoratio",
          "tNucleoratio",
          "tCSD"
         ],
         "type": "scatterpolar"
        },
        {
         "fill": "toself",
         "hovertemplate": "r=%{r}<br>theta=%{theta}<extra></extra>",
         "legendgroup": "",
         "line": {
          "color": "#636efa",
          "dash": "solid"
         },
         "marker": {
          "symbol": "circle"
         },
         "mode": "lines",
         "name": "",
         "r": {
          "bdata": "KVyPwvUovD89CtejcD3yP83MzMzMzPw/XI/C9Shc+z9cj8L1KFwNQB+F61G4HtU/KVyPwvUovD8=",
          "dtype": "f8"
         },
         "showlegend": false,
         "subplot": "polar5",
         "theta": [
          "tCSD",
          "tCLD",
          "tNLD",
          "tNSD",
          "tCitoratio",
          "tNucleoratio",
          "tCSD"
         ],
         "type": "scatterpolar"
        },
        {
         "fill": "toself",
         "hovertemplate": "r=%{r}<br>theta=%{theta}<extra></extra>",
         "legendgroup": "",
         "line": {
          "color": "#636efa",
          "dash": "solid"
         },
         "marker": {
          "symbol": "circle"
         },
         "mode": "lines",
         "name": "",
         "r": {
          "bdata": "FK5H4XoU7j+kcD0K16P8P83MzMzMzABAXI/C9Shc+z9cj8L1KFwFQB+F61G4HtU/FK5H4XoU7j8=",
          "dtype": "f8"
         },
         "showlegend": false,
         "subplot": "polar6",
         "theta": [
          "tCSD",
          "tCLD",
          "tNLD",
          "tNSD",
          "tCitoratio",
          "tNucleoratio",
          "tCSD"
         ],
         "type": "scatterpolar"
        },
        {
         "fill": "toself",
         "hovertemplate": "r=%{r}<br>theta=%{theta}<extra></extra>",
         "legendgroup": "",
         "line": {
          "color": "#636efa",
          "dash": "solid"
         },
         "marker": {
          "symbol": "circle"
         },
         "mode": "lines",
         "name": "",
         "r": {
          "bdata": "7FG4HoXr0T8AAAAAAADwPwAAAAAAAPh/AAAAAAAA+H9cj8L1KFwFQAAAAAAAAPh/7FG4HoXr0T8=",
          "dtype": "f8"
         },
         "showlegend": false,
         "subplot": "polar7",
         "theta": [
          "tCSD",
          "tCLD",
          "tNLD",
          "tNSD",
          "tCitoratio",
          "tNucleoratio",
          "tCSD"
         ],
         "type": "scatterpolar"
        },
        {
         "fill": "toself",
         "hovertemplate": "r=%{r}<br>theta=%{theta}<extra></extra>",
         "legendgroup": "",
         "line": {
          "color": "#636efa",
          "dash": "solid"
         },
         "marker": {
          "symbol": "circle"
         },
         "mode": "lines",
         "name": "",
         "r": {
          "bdata": "CtejcD0K5z/sUbgehevBPwAAAAAAAPh/AAAAAAAA+H9I4XoUrkf1PwAAAAAAAPh/CtejcD0K5z8=",
          "dtype": "f8"
         },
         "showlegend": false,
         "subplot": "polar8",
         "theta": [
          "tCSD",
          "tCLD",
          "tNLD",
          "tNSD",
          "tCitoratio",
          "tNucleoratio",
          "tCSD"
         ],
         "type": "scatterpolar"
        },
        {
         "fill": "toself",
         "hovertemplate": "r=%{r}<br>theta=%{theta}<extra></extra>",
         "legendgroup": "",
         "line": {
          "color": "#636efa",
          "dash": "solid"
         },
         "marker": {
          "symbol": "circle"
         },
         "mode": "lines",
         "name": "",
         "r": {
          "bdata": "AAAAAAAA8D97FK5H4XqkPwAAAAAAAPh/AAAAAAAA+H9cj8L1KFwNQAAAAAAAAPh/AAAAAAAA8D8=",
          "dtype": "f8"
         },
         "showlegend": false,
         "subplot": "polar9",
         "theta": [
          "tCSD",
          "tCLD",
          "tNLD",
          "tNSD",
          "tCitoratio",
          "tNucleoratio",
          "tCSD"
         ],
         "type": "scatterpolar"
        },
        {
         "fill": "toself",
         "hovertemplate": "r=%{r}<br>theta=%{theta}<extra></extra>",
         "legendgroup": "",
         "line": {
          "color": "#636efa",
          "dash": "solid"
         },
         "marker": {
          "symbol": "circle"
         },
         "mode": "lines",
         "name": "",
         "r": {
          "bdata": "XI/C9ShcAUB7FK5H4XrsPwAAAAAAAPh/AAAAAAAA+H8AAAAAAAAAQAAAAAAAAPh/XI/C9ShcAUA=",
          "dtype": "f8"
         },
         "showlegend": false,
         "subplot": "polar10",
         "theta": [
          "tCSD",
          "tCLD",
          "tNLD",
          "tNSD",
          "tCitoratio",
          "tNucleoratio",
          "tCSD"
         ],
         "type": "scatterpolar"
        },
        {
         "fill": "toself",
         "hovertemplate": "r=%{r}<br>theta=%{theta}<extra></extra>",
         "legendgroup": "",
         "line": {
          "color": "#636efa",
          "dash": "solid"
         },
         "marker": {
          "symbol": "circle"
         },
         "mode": "lines",
         "name": "",
         "r": {
          "bdata": "H4XrUbge1T/2KFyPwvXYP2ZmZmZmZuY/pHA9Ctej9D8AAAAAAADwP7gehetRuPo/H4XrUbge1T8=",
          "dtype": "f8"
         },
         "showlegend": false,
         "subplot": "polar11",
         "theta": [
          "tCSD",
          "tCLD",
          "tNLD",
          "tNSD",
          "tCitoratio",
          "tNucleoratio",
          "tCSD"
         ],
         "type": "scatterpolar"
        },
        {
         "fill": "toself",
         "hovertemplate": "r=%{r}<br>theta=%{theta}<extra></extra>",
         "legendgroup": "",
         "line": {
          "color": "#636efa",
          "dash": "solid"
         },
         "marker": {
          "symbol": "circle"
         },
         "mode": "lines",
         "name": "",
         "r": {
          "bdata": "H4XrUbge1T/2KFyPwvXYP5qZmZmZmfE/H4XrUbge+T8AAAAAAADwP0jhehSuR/U/H4XrUbge1T8=",
          "dtype": "f8"
         },
         "showlegend": false,
         "subplot": "polar12",
         "theta": [
          "tCSD",
          "tCLD",
          "tNLD",
          "tNSD",
          "tCitoratio",
          "tNucleoratio",
          "tCSD"
         ],
         "type": "scatterpolar"
        },
        {
         "fill": "toself",
         "hovertemplate": "r=%{r}<br>theta=%{theta}<extra></extra>",
         "legendgroup": "",
         "line": {
          "color": "#636efa",
          "dash": "solid"
         },
         "marker": {
          "symbol": "circle"
         },
         "mode": "lines",
         "name": "",
         "r": {
          "bdata": "7FG4HoXr4T97FK5H4XrsPwAAAAAAAPh/AAAAAAAA+H8fhetRuB7VPwAAAAAAAPh/7FG4HoXr4T8=",
          "dtype": "f8"
         },
         "showlegend": false,
         "subplot": "polar13",
         "theta": [
          "tCSD",
          "tCLD",
          "tNLD",
          "tNSD",
          "tCitoratio",
          "tNucleoratio",
          "tCSD"
         ],
         "type": "scatterpolar"
        },
        {
         "fill": "toself",
         "hovertemplate": "r=%{r}<br>theta=%{theta}<extra></extra>",
         "legendgroup": "",
         "line": {
          "color": "#636efa",
          "dash": "solid"
         },
         "marker": {
          "symbol": "circle"
         },
         "mode": "lines",
         "name": "",
         "r": {
          "bdata": "j8L1KFyP6j8AAAAAAADgPzMzMzMzM+M/PQrXo3A98j8AAAAAAAAAQEjhehSuR/U/j8L1KFyP6j8=",
          "dtype": "f8"
         },
         "showlegend": false,
         "subplot": "polar14",
         "theta": [
          "tCSD",
          "tCLD",
          "tNLD",
          "tNSD",
          "tCitoratio",
          "tNucleoratio",
          "tCSD"
         ],
         "type": "scatterpolar"
        },
        {
         "fill": "toself",
         "hovertemplate": "r=%{r}<br>theta=%{theta}<extra></extra>",
         "legendgroup": "",
         "line": {
          "color": "#636efa",
          "dash": "solid"
         },
         "marker": {
          "symbol": "circle"
         },
         "mode": "lines",
         "name": "",
         "r": {
          "bdata": "PQrXo3A99j97FK5H4XrUPwAAAAAAAPh/AAAAAAAA+H+4HoXrUbj6PwAAAAAAAPh/PQrXo3A99j8=",
          "dtype": "f8"
         },
         "showlegend": false,
         "subplot": "polar15",
         "theta": [
          "tCSD",
          "tCLD",
          "tNLD",
          "tNSD",
          "tCitoratio",
          "tNucleoratio",
          "tCSD"
         ],
         "type": "scatterpolar"
        },
        {
         "fill": "toself",
         "hovertemplate": "r=%{r}<br>theta=%{theta}<extra></extra>",
         "legendgroup": "",
         "line": {
          "color": "#636efa",
          "dash": "solid"
         },
         "marker": {
          "symbol": "circle"
         },
         "mode": "lines",
         "name": "",
         "r": {
          "bdata": "7FG4HoXr0T+F61G4HoXrPwAAAAAAAPh/AAAAAAAA+H8fhetRuB7VPwAAAAAAAPh/7FG4HoXr0T8=",
          "dtype": "f8"
         },
         "showlegend": false,
         "subplot": "polar16",
         "theta": [
          "tCSD",
          "tCLD",
          "tNLD",
          "tNSD",
          "tCitoratio",
          "tNucleoratio",
          "tCSD"
         ],
         "type": "scatterpolar"
        },
        {
         "fill": "toself",
         "hovertemplate": "r=%{r}<br>theta=%{theta}<extra></extra>",
         "legendgroup": "",
         "line": {
          "color": "#636efa",
          "dash": "solid"
         },
         "marker": {
          "symbol": "circle"
         },
         "mode": "lines",
         "name": "",
         "r": {
          "bdata": "cT0K16Nw5T8AAAAAAAAAADMzMzMzM9M/4XoUrkfh9j9xPQrXo3DlPwAAAAAAAAhAcT0K16Nw5T8=",
          "dtype": "f8"
         },
         "showlegend": false,
         "subplot": "polar17",
         "theta": [
          "tCSD",
          "tCLD",
          "tNLD",
          "tNSD",
          "tCitoratio",
          "tNucleoratio",
          "tCSD"
         ],
         "type": "scatterpolar"
        },
        {
         "fill": "toself",
         "hovertemplate": "r=%{r}<br>theta=%{theta}<extra></extra>",
         "legendgroup": "",
         "line": {
          "color": "#636efa",
          "dash": "solid"
         },
         "marker": {
          "symbol": "circle"
         },
         "mode": "lines",
         "name": "",
         "r": {
          "bdata": "SOF6FK5H9T8fhetRuB71P2ZmZmZmZg5A4XoUrkfhBkBxPQrXo3DlP3E9CtejcOU/SOF6FK5H9T8=",
          "dtype": "f8"
         },
         "showlegend": false,
         "subplot": "polar18",
         "theta": [
          "tCSD",
          "tCLD",
          "tNLD",
          "tNSD",
          "tCitoratio",
          "tNucleoratio",
          "tCSD"
         ],
         "type": "scatterpolar"
        },
        {
         "fill": "toself",
         "hovertemplate": "r=%{r}<br>theta=%{theta}<extra></extra>",
         "legendgroup": "",
         "line": {
          "color": "#636efa",
          "dash": "solid"
         },
         "marker": {
          "symbol": "circle"
         },
         "mode": "lines",
         "name": "",
         "r": {
          "bdata": "9ihcj8L1+D/D9Shcj8LtPwAAAAAAAPh/AAAAAAAA+H9xPQrXo3DlPwAAAAAAAPh/9ihcj8L1+D8=",
          "dtype": "f8"
         },
         "showlegend": false,
         "subplot": "polar19",
         "theta": [
          "tCSD",
          "tCLD",
          "tNLD",
          "tNSD",
          "tCitoratio",
          "tNucleoratio",
          "tCSD"
         ],
         "type": "scatterpolar"
        },
        {
         "fill": "toself",
         "hovertemplate": "r=%{r}<br>theta=%{theta}<extra></extra>",
         "legendgroup": "",
         "line": {
          "color": "#636efa",
          "dash": "solid"
         },
         "marker": {
          "symbol": "circle"
         },
         "mode": "lines",
         "name": "",
         "r": {
          "bdata": "7FG4HoXr0T89CtejcD3iP83MzMzMzPw/w/UoXI/C/T+4HoXrUbj6P3E9CtejcOU/7FG4HoXr0T8=",
          "dtype": "f8"
         },
         "showlegend": false,
         "subplot": "polar20",
         "theta": [
          "tCSD",
          "tCLD",
          "tNLD",
          "tNSD",
          "tCitoratio",
          "tNucleoratio",
          "tCSD"
         ],
         "type": "scatterpolar"
        },
        {
         "fill": "toself",
         "hovertemplate": "r=%{r}<br>theta=%{theta}<extra></extra>",
         "legendgroup": "",
         "line": {
          "color": "#636efa",
          "dash": "solid"
         },
         "marker": {
          "symbol": "circle"
         },
         "mode": "lines",
         "name": "",
         "r": {
          "bdata": "KVyPwvUovD8AAAAAAAAAAAAAAAAAAAAAPQrXo3A94j9xPQrXo3DlPwAAAAAAAABAKVyPwvUovD8=",
          "dtype": "f8"
         },
         "showlegend": false,
         "subplot": "polar21",
         "theta": [
          "tCSD",
          "tCLD",
          "tNLD",
          "tNSD",
          "tCitoratio",
          "tNucleoratio",
          "tCSD"
         ],
         "type": "scatterpolar"
        },
        {
         "fill": "toself",
         "hovertemplate": "r=%{r}<br>theta=%{theta}<extra></extra>",
         "legendgroup": "",
         "line": {
          "color": "#636efa",
          "dash": "solid"
         },
         "marker": {
          "symbol": "circle"
         },
         "mode": "lines",
         "name": "",
         "r": {
          "bdata": "exSuR+F6/D+F61G4HoXjPwAAAAAAAPh/AAAAAAAA+H8AAAAAAAAAQAAAAAAAAPh/exSuR+F6/D8=",
          "dtype": "f8"
         },
         "showlegend": false,
         "subplot": "polar22",
         "theta": [
          "tCSD",
          "tCLD",
          "tNLD",
          "tNSD",
          "tCitoratio",
          "tNucleoratio",
          "tCSD"
         ],
         "type": "scatterpolar"
        },
        {
         "fill": "toself",
         "hovertemplate": "r=%{r}<br>theta=%{theta}<extra></extra>",
         "legendgroup": "",
         "line": {
          "color": "#636efa",
          "dash": "solid"
         },
         "marker": {
          "symbol": "circle"
         },
         "mode": "lines",
         "name": "",
         "r": {
          "bdata": "7FG4HoXr0T8AAAAAAADQP83MzMzMzPQ/AAAAAAAA8D8fhetRuB7VPx+F61G4HtU/7FG4HoXr0T8=",
          "dtype": "f8"
         },
         "showlegend": false,
         "subplot": "polar23",
         "theta": [
          "tCSD",
          "tCLD",
          "tNLD",
          "tNSD",
          "tCitoratio",
          "tNucleoratio",
          "tCSD"
         ],
         "type": "scatterpolar"
        }
       ],
       "layout": {
        "height": 1000,
        "polar": {
         "domain": {
          "x": [
           0,
           0.16799999999999998
          ],
          "y": [
           0.848,
           1
          ]
         }
        },
        "polar10": {
         "domain": {
          "x": [
           0.832,
           1
          ],
          "y": [
           0.6359999999999999,
           0.7879999999999999
          ]
         }
        },
        "polar11": {
         "domain": {
          "x": [
           0,
           0.16799999999999998
          ],
          "y": [
           0.424,
           0.576
          ]
         }
        },
        "polar12": {
         "domain": {
          "x": [
           0.208,
           0.376
          ],
          "y": [
           0.424,
           0.576
          ]
         }
        },
        "polar13": {
         "domain": {
          "x": [
           0.416,
           0.584
          ],
          "y": [
           0.424,
           0.576
          ]
         }
        },
        "polar14": {
         "domain": {
          "x": [
           0.624,
           0.792
          ],
          "y": [
           0.424,
           0.576
          ]
         }
        },
        "polar15": {
         "domain": {
          "x": [
           0.832,
           1
          ],
          "y": [
           0.424,
           0.576
          ]
         }
        },
        "polar16": {
         "domain": {
          "x": [
           0,
           0.16799999999999998
          ],
          "y": [
           0.212,
           0.364
          ]
         }
        },
        "polar17": {
         "domain": {
          "x": [
           0.208,
           0.376
          ],
          "y": [
           0.212,
           0.364
          ]
         }
        },
        "polar18": {
         "domain": {
          "x": [
           0.416,
           0.584
          ],
          "y": [
           0.212,
           0.364
          ]
         }
        },
        "polar19": {
         "domain": {
          "x": [
           0.624,
           0.792
          ],
          "y": [
           0.212,
           0.364
          ]
         }
        },
        "polar2": {
         "domain": {
          "x": [
           0.208,
           0.376
          ],
          "y": [
           0.848,
           1
          ]
         }
        },
        "polar20": {
         "domain": {
          "x": [
           0.832,
           1
          ],
          "y": [
           0.212,
           0.364
          ]
         }
        },
        "polar21": {
         "domain": {
          "x": [
           0,
           0.16799999999999998
          ],
          "y": [
           0,
           0.152
          ]
         }
        },
        "polar22": {
         "domain": {
          "x": [
           0.208,
           0.376
          ],
          "y": [
           0,
           0.152
          ]
         }
        },
        "polar23": {
         "domain": {
          "x": [
           0.416,
           0.584
          ],
          "y": [
           0,
           0.152
          ]
         }
        },
        "polar24": {
         "domain": {
          "x": [
           0.624,
           0.792
          ],
          "y": [
           0,
           0.152
          ]
         }
        },
        "polar25": {
         "domain": {
          "x": [
           0.832,
           1
          ],
          "y": [
           0,
           0.152
          ]
         }
        },
        "polar3": {
         "domain": {
          "x": [
           0.416,
           0.584
          ],
          "y": [
           0.848,
           1
          ]
         }
        },
        "polar4": {
         "domain": {
          "x": [
           0.624,
           0.792
          ],
          "y": [
           0.848,
           1
          ]
         }
        },
        "polar5": {
         "domain": {
          "x": [
           0.832,
           1
          ],
          "y": [
           0.848,
           1
          ]
         }
        },
        "polar6": {
         "domain": {
          "x": [
           0,
           0.16799999999999998
          ],
          "y": [
           0.6359999999999999,
           0.7879999999999999
          ]
         }
        },
        "polar7": {
         "domain": {
          "x": [
           0.208,
           0.376
          ],
          "y": [
           0.6359999999999999,
           0.7879999999999999
          ]
         }
        },
        "polar8": {
         "domain": {
          "x": [
           0.416,
           0.584
          ],
          "y": [
           0.6359999999999999,
           0.7879999999999999
          ]
         }
        },
        "polar9": {
         "domain": {
          "x": [
           0.624,
           0.792
          ],
          "y": [
           0.6359999999999999,
           0.7879999999999999
          ]
         }
        },
        "showlegend": false,
        "template": {
         "data": {
          "bar": [
           {
            "error_x": {
             "color": "#2a3f5f"
            },
            "error_y": {
             "color": "#2a3f5f"
            },
            "marker": {
             "line": {
              "color": "#E5ECF6",
              "width": 0.5
             },
             "pattern": {
              "fillmode": "overlay",
              "size": 10,
              "solidity": 0.2
             }
            },
            "type": "bar"
           }
          ],
          "barpolar": [
           {
            "marker": {
             "line": {
              "color": "#E5ECF6",
              "width": 0.5
             },
             "pattern": {
              "fillmode": "overlay",
              "size": 10,
              "solidity": 0.2
             }
            },
            "type": "barpolar"
           }
          ],
          "carpet": [
           {
            "aaxis": {
             "endlinecolor": "#2a3f5f",
             "gridcolor": "white",
             "linecolor": "white",
             "minorgridcolor": "white",
             "startlinecolor": "#2a3f5f"
            },
            "baxis": {
             "endlinecolor": "#2a3f5f",
             "gridcolor": "white",
             "linecolor": "white",
             "minorgridcolor": "white",
             "startlinecolor": "#2a3f5f"
            },
            "type": "carpet"
           }
          ],
          "choropleth": [
           {
            "colorbar": {
             "outlinewidth": 0,
             "ticks": ""
            },
            "type": "choropleth"
           }
          ],
          "contour": [
           {
            "colorbar": {
             "outlinewidth": 0,
             "ticks": ""
            },
            "colorscale": [
             [
              0,
              "#0d0887"
             ],
             [
              0.1111111111111111,
              "#46039f"
             ],
             [
              0.2222222222222222,
              "#7201a8"
             ],
             [
              0.3333333333333333,
              "#9c179e"
             ],
             [
              0.4444444444444444,
              "#bd3786"
             ],
             [
              0.5555555555555556,
              "#d8576b"
             ],
             [
              0.6666666666666666,
              "#ed7953"
             ],
             [
              0.7777777777777778,
              "#fb9f3a"
             ],
             [
              0.8888888888888888,
              "#fdca26"
             ],
             [
              1,
              "#f0f921"
             ]
            ],
            "type": "contour"
           }
          ],
          "contourcarpet": [
           {
            "colorbar": {
             "outlinewidth": 0,
             "ticks": ""
            },
            "type": "contourcarpet"
           }
          ],
          "heatmap": [
           {
            "colorbar": {
             "outlinewidth": 0,
             "ticks": ""
            },
            "colorscale": [
             [
              0,
              "#0d0887"
             ],
             [
              0.1111111111111111,
              "#46039f"
             ],
             [
              0.2222222222222222,
              "#7201a8"
             ],
             [
              0.3333333333333333,
              "#9c179e"
             ],
             [
              0.4444444444444444,
              "#bd3786"
             ],
             [
              0.5555555555555556,
              "#d8576b"
             ],
             [
              0.6666666666666666,
              "#ed7953"
             ],
             [
              0.7777777777777778,
              "#fb9f3a"
             ],
             [
              0.8888888888888888,
              "#fdca26"
             ],
             [
              1,
              "#f0f921"
             ]
            ],
            "type": "heatmap"
           }
          ],
          "histogram": [
           {
            "marker": {
             "pattern": {
              "fillmode": "overlay",
              "size": 10,
              "solidity": 0.2
             }
            },
            "type": "histogram"
           }
          ],
          "histogram2d": [
           {
            "colorbar": {
             "outlinewidth": 0,
             "ticks": ""
            },
            "colorscale": [
             [
              0,
              "#0d0887"
             ],
             [
              0.1111111111111111,
              "#46039f"
             ],
             [
              0.2222222222222222,
              "#7201a8"
             ],
             [
              0.3333333333333333,
              "#9c179e"
             ],
             [
              0.4444444444444444,
              "#bd3786"
             ],
             [
              0.5555555555555556,
              "#d8576b"
             ],
             [
              0.6666666666666666,
              "#ed7953"
             ],
             [
              0.7777777777777778,
              "#fb9f3a"
             ],
             [
              0.8888888888888888,
              "#fdca26"
             ],
             [
              1,
              "#f0f921"
             ]
            ],
            "type": "histogram2d"
           }
          ],
          "histogram2dcontour": [
           {
            "colorbar": {
             "outlinewidth": 0,
             "ticks": ""
            },
            "colorscale": [
             [
              0,
              "#0d0887"
             ],
             [
              0.1111111111111111,
              "#46039f"
             ],
             [
              0.2222222222222222,
              "#7201a8"
             ],
             [
              0.3333333333333333,
              "#9c179e"
             ],
             [
              0.4444444444444444,
              "#bd3786"
             ],
             [
              0.5555555555555556,
              "#d8576b"
             ],
             [
              0.6666666666666666,
              "#ed7953"
             ],
             [
              0.7777777777777778,
              "#fb9f3a"
             ],
             [
              0.8888888888888888,
              "#fdca26"
             ],
             [
              1,
              "#f0f921"
             ]
            ],
            "type": "histogram2dcontour"
           }
          ],
          "mesh3d": [
           {
            "colorbar": {
             "outlinewidth": 0,
             "ticks": ""
            },
            "type": "mesh3d"
           }
          ],
          "parcoords": [
           {
            "line": {
             "colorbar": {
              "outlinewidth": 0,
              "ticks": ""
             }
            },
            "type": "parcoords"
           }
          ],
          "pie": [
           {
            "automargin": true,
            "type": "pie"
           }
          ],
          "scatter": [
           {
            "fillpattern": {
             "fillmode": "overlay",
             "size": 10,
             "solidity": 0.2
            },
            "type": "scatter"
           }
          ],
          "scatter3d": [
           {
            "line": {
             "colorbar": {
              "outlinewidth": 0,
              "ticks": ""
             }
            },
            "marker": {
             "colorbar": {
              "outlinewidth": 0,
              "ticks": ""
             }
            },
            "type": "scatter3d"
           }
          ],
          "scattercarpet": [
           {
            "marker": {
             "colorbar": {
              "outlinewidth": 0,
              "ticks": ""
             }
            },
            "type": "scattercarpet"
           }
          ],
          "scattergeo": [
           {
            "marker": {
             "colorbar": {
              "outlinewidth": 0,
              "ticks": ""
             }
            },
            "type": "scattergeo"
           }
          ],
          "scattergl": [
           {
            "marker": {
             "colorbar": {
              "outlinewidth": 0,
              "ticks": ""
             }
            },
            "type": "scattergl"
           }
          ],
          "scattermap": [
           {
            "marker": {
             "colorbar": {
              "outlinewidth": 0,
              "ticks": ""
             }
            },
            "type": "scattermap"
           }
          ],
          "scattermapbox": [
           {
            "marker": {
             "colorbar": {
              "outlinewidth": 0,
              "ticks": ""
             }
            },
            "type": "scattermapbox"
           }
          ],
          "scatterpolar": [
           {
            "marker": {
             "colorbar": {
              "outlinewidth": 0,
              "ticks": ""
             }
            },
            "type": "scatterpolar"
           }
          ],
          "scatterpolargl": [
           {
            "marker": {
             "colorbar": {
              "outlinewidth": 0,
              "ticks": ""
             }
            },
            "type": "scatterpolargl"
           }
          ],
          "scatterternary": [
           {
            "marker": {
             "colorbar": {
              "outlinewidth": 0,
              "ticks": ""
             }
            },
            "type": "scatterternary"
           }
          ],
          "surface": [
           {
            "colorbar": {
             "outlinewidth": 0,
             "ticks": ""
            },
            "colorscale": [
             [
              0,
              "#0d0887"
             ],
             [
              0.1111111111111111,
              "#46039f"
             ],
             [
              0.2222222222222222,
              "#7201a8"
             ],
             [
              0.3333333333333333,
              "#9c179e"
             ],
             [
              0.4444444444444444,
              "#bd3786"
             ],
             [
              0.5555555555555556,
              "#d8576b"
             ],
             [
              0.6666666666666666,
              "#ed7953"
             ],
             [
              0.7777777777777778,
              "#fb9f3a"
             ],
             [
              0.8888888888888888,
              "#fdca26"
             ],
             [
              1,
              "#f0f921"
             ]
            ],
            "type": "surface"
           }
          ],
          "table": [
           {
            "cells": {
             "fill": {
              "color": "#EBF0F8"
             },
             "line": {
              "color": "white"
             }
            },
            "header": {
             "fill": {
              "color": "#C8D4E3"
             },
             "line": {
              "color": "white"
             }
            },
            "type": "table"
           }
          ]
         },
         "layout": {
          "annotationdefaults": {
           "arrowcolor": "#2a3f5f",
           "arrowhead": 0,
           "arrowwidth": 1
          },
          "autotypenumbers": "strict",
          "coloraxis": {
           "colorbar": {
            "outlinewidth": 0,
            "ticks": ""
           }
          },
          "colorscale": {
           "diverging": [
            [
             0,
             "#8e0152"
            ],
            [
             0.1,
             "#c51b7d"
            ],
            [
             0.2,
             "#de77ae"
            ],
            [
             0.3,
             "#f1b6da"
            ],
            [
             0.4,
             "#fde0ef"
            ],
            [
             0.5,
             "#f7f7f7"
            ],
            [
             0.6,
             "#e6f5d0"
            ],
            [
             0.7,
             "#b8e186"
            ],
            [
             0.8,
             "#7fbc41"
            ],
            [
             0.9,
             "#4d9221"
            ],
            [
             1,
             "#276419"
            ]
           ],
           "sequential": [
            [
             0,
             "#0d0887"
            ],
            [
             0.1111111111111111,
             "#46039f"
            ],
            [
             0.2222222222222222,
             "#7201a8"
            ],
            [
             0.3333333333333333,
             "#9c179e"
            ],
            [
             0.4444444444444444,
             "#bd3786"
            ],
            [
             0.5555555555555556,
             "#d8576b"
            ],
            [
             0.6666666666666666,
             "#ed7953"
            ],
            [
             0.7777777777777778,
             "#fb9f3a"
            ],
            [
             0.8888888888888888,
             "#fdca26"
            ],
            [
             1,
             "#f0f921"
            ]
           ],
           "sequentialminus": [
            [
             0,
             "#0d0887"
            ],
            [
             0.1111111111111111,
             "#46039f"
            ],
            [
             0.2222222222222222,
             "#7201a8"
            ],
            [
             0.3333333333333333,
             "#9c179e"
            ],
            [
             0.4444444444444444,
             "#bd3786"
            ],
            [
             0.5555555555555556,
             "#d8576b"
            ],
            [
             0.6666666666666666,
             "#ed7953"
            ],
            [
             0.7777777777777778,
             "#fb9f3a"
            ],
            [
             0.8888888888888888,
             "#fdca26"
            ],
            [
             1,
             "#f0f921"
            ]
           ]
          },
          "colorway": [
           "#636efa",
           "#EF553B",
           "#00cc96",
           "#ab63fa",
           "#FFA15A",
           "#19d3f3",
           "#FF6692",
           "#B6E880",
           "#FF97FF",
           "#FECB52"
          ],
          "font": {
           "color": "#2a3f5f"
          },
          "geo": {
           "bgcolor": "white",
           "lakecolor": "white",
           "landcolor": "#E5ECF6",
           "showlakes": true,
           "showland": true,
           "subunitcolor": "white"
          },
          "hoverlabel": {
           "align": "left"
          },
          "hovermode": "closest",
          "mapbox": {
           "style": "light"
          },
          "paper_bgcolor": "white",
          "plot_bgcolor": "#E5ECF6",
          "polar": {
           "angularaxis": {
            "gridcolor": "white",
            "linecolor": "white",
            "ticks": ""
           },
           "bgcolor": "#E5ECF6",
           "radialaxis": {
            "gridcolor": "white",
            "linecolor": "white",
            "ticks": ""
           }
          },
          "scene": {
           "xaxis": {
            "backgroundcolor": "#E5ECF6",
            "gridcolor": "white",
            "gridwidth": 2,
            "linecolor": "white",
            "showbackground": true,
            "ticks": "",
            "zerolinecolor": "white"
           },
           "yaxis": {
            "backgroundcolor": "#E5ECF6",
            "gridcolor": "white",
            "gridwidth": 2,
            "linecolor": "white",
            "showbackground": true,
            "ticks": "",
            "zerolinecolor": "white"
           },
           "zaxis": {
            "backgroundcolor": "#E5ECF6",
            "gridcolor": "white",
            "gridwidth": 2,
            "linecolor": "white",
            "showbackground": true,
            "ticks": "",
            "zerolinecolor": "white"
           }
          },
          "shapedefaults": {
           "line": {
            "color": "#2a3f5f"
           }
          },
          "ternary": {
           "aaxis": {
            "gridcolor": "white",
            "linecolor": "white",
            "ticks": ""
           },
           "baxis": {
            "gridcolor": "white",
            "linecolor": "white",
            "ticks": ""
           },
           "bgcolor": "#E5ECF6",
           "caxis": {
            "gridcolor": "white",
            "linecolor": "white",
            "ticks": ""
           }
          },
          "title": {
           "x": 0.05
          },
          "xaxis": {
           "automargin": true,
           "gridcolor": "white",
           "linecolor": "white",
           "ticks": "",
           "title": {
            "standoff": 15
           },
           "zerolinecolor": "white",
           "zerolinewidth": 2
          },
          "yaxis": {
           "automargin": true,
           "gridcolor": "white",
           "linecolor": "white",
           "ticks": "",
           "title": {
            "standoff": 15
           },
           "zerolinecolor": "white",
           "zerolinewidth": 2
          }
         }
        },
        "width": 1000
       }
      }
     },
     "metadata": {},
     "output_type": "display_data"
    }
   ],
   "source": [
    "import plotly.express as px\n",
    "import pandas as pd\n",
    "from plotly.subplots import make_subplots\n",
    "fig = make_subplots(rows=5, cols=5, specs=[[{'type': 'polar'}]*5]*5)\n",
    "\n",
    "for i in range(len(RANABASET)):\n",
    "    v = RANABASET.iloc[i][1:].to_numpy(dtype=np.float64)\n",
    "    df = pd.DataFrame(dict(\n",
    "        r=v,\n",
    "        theta=colls[1:]))\n",
    "    polar_fig = px.line_polar(df, r='r', theta='theta', line_close=True)\n",
    "    polar_fig.update_traces(fill='toself')\n",
    "    \n",
    "    row = i // 5 + 1\n",
    "    col = i % 5 + 1\n",
    "    for trace in polar_fig['data']:\n",
    "        fig.add_trace(trace, row=row, col=col)\n",
    "\n",
    "fig.update_layout(height=1000, width=1000, showlegend=False)\n",
    "fig.show()"
   ]
  }
 ],
 "metadata": {
  "kernelspec": {
   "display_name": "Python 3",
   "language": "python",
   "name": "python3"
  },
  "language_info": {
   "codemirror_mode": {
    "name": "ipython",
    "version": 3
   },
   "file_extension": ".py",
   "mimetype": "text/x-python",
   "name": "python",
   "nbconvert_exporter": "python",
   "pygments_lexer": "ipython3",
   "version": "3.13.0"
  }
 },
 "nbformat": 4,
 "nbformat_minor": 2
}
