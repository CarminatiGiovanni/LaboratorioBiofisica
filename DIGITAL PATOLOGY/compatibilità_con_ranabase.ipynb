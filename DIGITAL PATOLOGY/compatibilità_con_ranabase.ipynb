{
 "cells": [
  {
   "cell_type": "code",
   "execution_count": 21,
   "metadata": {},
   "outputs": [],
   "source": [
    "# COMPATIBILITA' CON IL RANABASE\n",
    "\n",
    "from matplotlib import pyplot as plt\n",
    "import numpy as np\n",
    "import pandas as pd\n",
    "import plotly.express as px\n",
    "import os\n",
    "import sys\n",
    "import plotly.graph_objects as go \n",
    "from scipy.optimize import curve_fit\n",
    "from scipy.stats import norm\n",
    "dir_path = os.path.abspath('')\n",
    "sys.path.append(dir_path + '/../')\n",
    "from labbiofisica import Interpolazione, final_val"
   ]
  },
  {
   "cell_type": "code",
   "execution_count": 22,
   "metadata": {},
   "outputs": [
    {
     "data": {
      "text/html": [
       "<div>\n",
       "<style scoped>\n",
       "    .dataframe tbody tr th:only-of-type {\n",
       "        vertical-align: middle;\n",
       "    }\n",
       "\n",
       "    .dataframe tbody tr th {\n",
       "        vertical-align: top;\n",
       "    }\n",
       "\n",
       "    .dataframe thead th {\n",
       "        text-align: right;\n",
       "    }\n",
       "</style>\n",
       "<table border=\"1\" class=\"dataframe\">\n",
       "  <thead>\n",
       "    <tr style=\"text-align: right;\">\n",
       "      <th></th>\n",
       "      <th>Specie</th>\n",
       "      <th>CLD</th>\n",
       "      <th>CSD</th>\n",
       "      <th>RATIO C</th>\n",
       "      <th>NLD</th>\n",
       "      <th>NSD</th>\n",
       "      <th>RATIO N</th>\n",
       "    </tr>\n",
       "  </thead>\n",
       "  <tbody>\n",
       "    <tr>\n",
       "      <th>0</th>\n",
       "      <td>Limnonectes limnocharis</td>\n",
       "      <td>19.6</td>\n",
       "      <td>13.2</td>\n",
       "      <td>0.67</td>\n",
       "      <td>7.9</td>\n",
       "      <td>4.9</td>\n",
       "      <td>0.62</td>\n",
       "    </tr>\n",
       "    <tr>\n",
       "      <th>1</th>\n",
       "      <td>Pyxicephalus adspersus</td>\n",
       "      <td>NaN</td>\n",
       "      <td>NaN</td>\n",
       "      <td>NaN</td>\n",
       "      <td>NaN</td>\n",
       "      <td>NaN</td>\n",
       "      <td>NaN</td>\n",
       "    </tr>\n",
       "    <tr>\n",
       "      <th>2</th>\n",
       "      <td>Rana catesbeiana</td>\n",
       "      <td>25.0</td>\n",
       "      <td>12.4</td>\n",
       "      <td>0.50</td>\n",
       "      <td>9.9</td>\n",
       "      <td>5.7</td>\n",
       "      <td>0.58</td>\n",
       "    </tr>\n",
       "    <tr>\n",
       "      <th>3</th>\n",
       "      <td>\" \"</td>\n",
       "      <td>24.8</td>\n",
       "      <td>15.3</td>\n",
       "      <td>0.62</td>\n",
       "      <td>NaN</td>\n",
       "      <td>NaN</td>\n",
       "      <td>NaN</td>\n",
       "    </tr>\n",
       "    <tr>\n",
       "      <th>4</th>\n",
       "      <td>\" \"</td>\n",
       "      <td>26.1</td>\n",
       "      <td>13.5</td>\n",
       "      <td>0.52</td>\n",
       "      <td>10.0</td>\n",
       "      <td>5.6</td>\n",
       "      <td>0.56</td>\n",
       "    </tr>\n",
       "    <tr>\n",
       "      <th>5</th>\n",
       "      <td>\" \"</td>\n",
       "      <td>27.9</td>\n",
       "      <td>15.4</td>\n",
       "      <td>0.55</td>\n",
       "      <td>10.3</td>\n",
       "      <td>5.6</td>\n",
       "      <td>0.54</td>\n",
       "    </tr>\n",
       "    <tr>\n",
       "      <th>6</th>\n",
       "      <td>\" \"</td>\n",
       "      <td>25.7</td>\n",
       "      <td>14.2</td>\n",
       "      <td>0.55</td>\n",
       "      <td>NaN</td>\n",
       "      <td>NaN</td>\n",
       "      <td>NaN</td>\n",
       "    </tr>\n",
       "    <tr>\n",
       "      <th>7</th>\n",
       "      <td>Rana clamitans</td>\n",
       "      <td>22.5</td>\n",
       "      <td>15.0</td>\n",
       "      <td>0.67</td>\n",
       "      <td>NaN</td>\n",
       "      <td>NaN</td>\n",
       "      <td>NaN</td>\n",
       "    </tr>\n",
       "    <tr>\n",
       "      <th>8</th>\n",
       "      <td>\" \"</td>\n",
       "      <td>23.0</td>\n",
       "      <td>11.9</td>\n",
       "      <td>0.52</td>\n",
       "      <td>NaN</td>\n",
       "      <td>NaN</td>\n",
       "      <td>NaN</td>\n",
       "    </tr>\n",
       "    <tr>\n",
       "      <th>9</th>\n",
       "      <td>Rana esculenta</td>\n",
       "      <td>25.4</td>\n",
       "      <td>17.6</td>\n",
       "      <td>0.69</td>\n",
       "      <td>NaN</td>\n",
       "      <td>NaN</td>\n",
       "      <td>NaN</td>\n",
       "    </tr>\n",
       "    <tr>\n",
       "      <th>10</th>\n",
       "      <td>Rana japonica</td>\n",
       "      <td>21.8</td>\n",
       "      <td>14.3</td>\n",
       "      <td>0.66</td>\n",
       "      <td>8.9</td>\n",
       "      <td>5.3</td>\n",
       "      <td>0.60</td>\n",
       "    </tr>\n",
       "    <tr>\n",
       "      <th>11</th>\n",
       "      <td>Rana nigromaculata</td>\n",
       "      <td>21.8</td>\n",
       "      <td>14.3</td>\n",
       "      <td>0.66</td>\n",
       "      <td>9.3</td>\n",
       "      <td>5.5</td>\n",
       "      <td>0.59</td>\n",
       "    </tr>\n",
       "    <tr>\n",
       "      <th>12</th>\n",
       "      <td>Rana palustris</td>\n",
       "      <td>20.4</td>\n",
       "      <td>12.7</td>\n",
       "      <td>0.62</td>\n",
       "      <td>NaN</td>\n",
       "      <td>NaN</td>\n",
       "      <td>NaN</td>\n",
       "    </tr>\n",
       "    <tr>\n",
       "      <th>13</th>\n",
       "      <td>Rana pipiens</td>\n",
       "      <td>21.5</td>\n",
       "      <td>12.2</td>\n",
       "      <td>0.57</td>\n",
       "      <td>8.8</td>\n",
       "      <td>5.2</td>\n",
       "      <td>0.59</td>\n",
       "    </tr>\n",
       "    <tr>\n",
       "      <th>14</th>\n",
       "      <td>\" \"</td>\n",
       "      <td>23.8</td>\n",
       "      <td>16.2</td>\n",
       "      <td>0.68</td>\n",
       "      <td>NaN</td>\n",
       "      <td>NaN</td>\n",
       "      <td>NaN</td>\n",
       "    </tr>\n",
       "    <tr>\n",
       "      <th>15</th>\n",
       "      <td>\" \"</td>\n",
       "      <td>20.5</td>\n",
       "      <td>13.2</td>\n",
       "      <td>0.64</td>\n",
       "      <td>NaN</td>\n",
       "      <td>NaN</td>\n",
       "      <td>NaN</td>\n",
       "    </tr>\n",
       "    <tr>\n",
       "      <th>16</th>\n",
       "      <td>Rana porosa</td>\n",
       "      <td>22.9</td>\n",
       "      <td>14.9</td>\n",
       "      <td>0.65</td>\n",
       "      <td>8.5</td>\n",
       "      <td>5.4</td>\n",
       "      <td>0.64</td>\n",
       "    </tr>\n",
       "    <tr>\n",
       "      <th>17</th>\n",
       "      <td>Rana rugosa</td>\n",
       "      <td>26.6</td>\n",
       "      <td>16.1</td>\n",
       "      <td>0.61</td>\n",
       "      <td>12.0</td>\n",
       "      <td>6.4</td>\n",
       "      <td>0.53</td>\n",
       "    </tr>\n",
       "    <tr>\n",
       "      <th>18</th>\n",
       "      <td>Rana sylvatica</td>\n",
       "      <td>25.5</td>\n",
       "      <td>16.5</td>\n",
       "      <td>0.65</td>\n",
       "      <td>NaN</td>\n",
       "      <td>NaN</td>\n",
       "      <td>NaN</td>\n",
       "    </tr>\n",
       "    <tr>\n",
       "      <th>19</th>\n",
       "      <td>Rana tagoi</td>\n",
       "      <td>24.5</td>\n",
       "      <td>14.2</td>\n",
       "      <td>0.58</td>\n",
       "      <td>10.0</td>\n",
       "      <td>5.7</td>\n",
       "      <td>0.57</td>\n",
       "    </tr>\n",
       "    <tr>\n",
       "      <th>20</th>\n",
       "      <td>Rana temporaria</td>\n",
       "      <td>22.9</td>\n",
       "      <td>13.9</td>\n",
       "      <td>0.61</td>\n",
       "      <td>8.2</td>\n",
       "      <td>4.0</td>\n",
       "      <td>0.49</td>\n",
       "    </tr>\n",
       "    <tr>\n",
       "      <th>21</th>\n",
       "      <td>\" \"</td>\n",
       "      <td>24.6</td>\n",
       "      <td>16.9</td>\n",
       "      <td>0.69</td>\n",
       "      <td>NaN</td>\n",
       "      <td>NaN</td>\n",
       "      <td>NaN</td>\n",
       "    </tr>\n",
       "    <tr>\n",
       "      <th>22</th>\n",
       "      <td>Rana tsushimensis</td>\n",
       "      <td>22.2</td>\n",
       "      <td>14.2</td>\n",
       "      <td>0.64</td>\n",
       "      <td>9.5</td>\n",
       "      <td>5.1</td>\n",
       "      <td>0.54</td>\n",
       "    </tr>\n",
       "  </tbody>\n",
       "</table>\n",
       "</div>"
      ],
      "text/plain": [
       "                     Specie   CLD   CSD  RATIO C   NLD  NSD  RATIO N\n",
       "0   Limnonectes limnocharis  19.6  13.2     0.67   7.9  4.9     0.62\n",
       "1    Pyxicephalus adspersus   NaN   NaN      NaN   NaN  NaN      NaN\n",
       "2          Rana catesbeiana  25.0  12.4     0.50   9.9  5.7     0.58\n",
       "3                       \" \"  24.8  15.3     0.62   NaN  NaN      NaN\n",
       "4                       \" \"  26.1  13.5     0.52  10.0  5.6     0.56\n",
       "5                       \" \"  27.9  15.4     0.55  10.3  5.6     0.54\n",
       "6                       \" \"  25.7  14.2     0.55   NaN  NaN      NaN\n",
       "7            Rana clamitans  22.5  15.0     0.67   NaN  NaN      NaN\n",
       "8                       \" \"  23.0  11.9     0.52   NaN  NaN      NaN\n",
       "9            Rana esculenta  25.4  17.6     0.69   NaN  NaN      NaN\n",
       "10            Rana japonica  21.8  14.3     0.66   8.9  5.3     0.60\n",
       "11       Rana nigromaculata  21.8  14.3     0.66   9.3  5.5     0.59\n",
       "12           Rana palustris  20.4  12.7     0.62   NaN  NaN      NaN\n",
       "13             Rana pipiens  21.5  12.2     0.57   8.8  5.2     0.59\n",
       "14                      \" \"  23.8  16.2     0.68   NaN  NaN      NaN\n",
       "15                      \" \"  20.5  13.2     0.64   NaN  NaN      NaN\n",
       "16              Rana porosa  22.9  14.9     0.65   8.5  5.4     0.64\n",
       "17              Rana rugosa  26.6  16.1     0.61  12.0  6.4     0.53\n",
       "18           Rana sylvatica  25.5  16.5     0.65   NaN  NaN      NaN\n",
       "19               Rana tagoi  24.5  14.2     0.58  10.0  5.7     0.57\n",
       "20          Rana temporaria  22.9  13.9     0.61   8.2  4.0     0.49\n",
       "21                      \" \"  24.6  16.9     0.69   NaN  NaN      NaN\n",
       "22        Rana tsushimensis  22.2  14.2     0.64   9.5  5.1     0.54"
      ]
     },
     "metadata": {},
     "output_type": "display_data"
    }
   ],
   "source": [
    "RANABASE = pd.read_csv('data/RANABASE.csv', sep = ',', decimal = '.')\n",
    "display(RANABASE)"
   ]
  },
  {
   "cell_type": "code",
   "execution_count": 23,
   "metadata": {},
   "outputs": [],
   "source": [
    "# Da sangue_di_rana.ipynb\n",
    "# Citoratio:  0.627 ± 0.03 \n",
    "# Nucleoratio:  0.55 ± 0.025 \n",
    "\n",
    "# DA righello_pixel_metri.ipynb\n",
    "# CLD:  22.9 ± 2.2 μm\n",
    "# CSD:  13.7 ± 1.3 μm\n",
    "# NLD:  8.2 ± 0.8 μm\n",
    "# NSD:  4.4 ± 0.4 μm\n",
    "\n",
    "citoratio = 0.627\n",
    "nucleoratio = 0.55\n",
    "scitoratio = 0.03\n",
    "snucleoratio = 0.025\n",
    "\n",
    "CLD = 22.9\n",
    "CSD = 13.7\n",
    "NLD = 8.2\n",
    "NSD = 4.4\n",
    "\n",
    "sCLD = 2.2\n",
    "sCSD = 1.3\n",
    "sNLD = 0.8\n",
    "sNSD = 0.4"
   ]
  },
  {
   "cell_type": "code",
   "execution_count": 24,
   "metadata": {},
   "outputs": [],
   "source": [
    "DIGIT = 3\n",
    "\n",
    "# t.test con tutti gli elementi del database\n",
    "\n",
    "tCSD = np.round(np.abs(CSD - RANABASE['CSD']) / sCSD, DIGIT)\n",
    "tCLD = np.round(np.abs(CLD - RANABASE['CLD']) / sCLD, DIGIT)\n",
    "tNLD = np.round(np.abs(NLD - RANABASE['NLD']) / sNLD, DIGIT)\n",
    "tNSD = np.round(np.abs(NSD - RANABASE['NSD']) / sNSD, DIGIT)\n",
    "\n",
    "tCitoratio = np.round(np.abs(citoratio - RANABASE['RATIO C']) / scitoratio, DIGIT)\n",
    "tNucleoratio = np.round(np.abs(nucleoratio - RANABASE['RATIO N']) / snucleoratio, DIGIT)"
   ]
  },
  {
   "cell_type": "code",
   "execution_count": 25,
   "metadata": {},
   "outputs": [
    {
     "data": {
      "text/html": [
       "<div>\n",
       "<style scoped>\n",
       "    .dataframe tbody tr th:only-of-type {\n",
       "        vertical-align: middle;\n",
       "    }\n",
       "\n",
       "    .dataframe tbody tr th {\n",
       "        vertical-align: top;\n",
       "    }\n",
       "\n",
       "    .dataframe thead th {\n",
       "        text-align: right;\n",
       "    }\n",
       "</style>\n",
       "<table border=\"1\" class=\"dataframe\">\n",
       "  <thead>\n",
       "    <tr style=\"text-align: right;\">\n",
       "      <th></th>\n",
       "      <th>Specie</th>\n",
       "      <th>CLD</th>\n",
       "      <th>CSD</th>\n",
       "      <th>RATIO C</th>\n",
       "      <th>NLD</th>\n",
       "      <th>NSD</th>\n",
       "      <th>RATIO N</th>\n",
       "      <th>tCSD</th>\n",
       "      <th>tCLD</th>\n",
       "      <th>tNLD</th>\n",
       "      <th>tNSD</th>\n",
       "      <th>tCR</th>\n",
       "      <th>tNR</th>\n",
       "      <th>&lt;b&gt;t AVG &lt;/b&gt;</th>\n",
       "    </tr>\n",
       "  </thead>\n",
       "  <tbody>\n",
       "    <tr>\n",
       "      <th>15</th>\n",
       "      <td>\" \"</td>\n",
       "      <td>20.5</td>\n",
       "      <td>13.2</td>\n",
       "      <td>0.64</td>\n",
       "      <td>NaN</td>\n",
       "      <td>NaN</td>\n",
       "      <td>NaN</td>\n",
       "      <td>0.385</td>\n",
       "      <td>1.091</td>\n",
       "      <td>NaN</td>\n",
       "      <td>NaN</td>\n",
       "      <td>0.433</td>\n",
       "      <td>NaN</td>\n",
       "      <td>0.64</td>\n",
       "    </tr>\n",
       "    <tr>\n",
       "      <th>20</th>\n",
       "      <td>Rana temporaria</td>\n",
       "      <td>22.9</td>\n",
       "      <td>13.9</td>\n",
       "      <td>0.61</td>\n",
       "      <td>8.2</td>\n",
       "      <td>4.0</td>\n",
       "      <td>0.49</td>\n",
       "      <td>0.154</td>\n",
       "      <td>0.000</td>\n",
       "      <td>0.000</td>\n",
       "      <td>1.00</td>\n",
       "      <td>0.567</td>\n",
       "      <td>2.4</td>\n",
       "      <td>0.69</td>\n",
       "    </tr>\n",
       "    <tr>\n",
       "      <th>12</th>\n",
       "      <td>Rana palustris</td>\n",
       "      <td>20.4</td>\n",
       "      <td>12.7</td>\n",
       "      <td>0.62</td>\n",
       "      <td>NaN</td>\n",
       "      <td>NaN</td>\n",
       "      <td>NaN</td>\n",
       "      <td>0.769</td>\n",
       "      <td>1.136</td>\n",
       "      <td>NaN</td>\n",
       "      <td>NaN</td>\n",
       "      <td>0.233</td>\n",
       "      <td>NaN</td>\n",
       "      <td>0.71</td>\n",
       "    </tr>\n",
       "    <tr>\n",
       "      <th>3</th>\n",
       "      <td>\" \"</td>\n",
       "      <td>24.8</td>\n",
       "      <td>15.3</td>\n",
       "      <td>0.62</td>\n",
       "      <td>NaN</td>\n",
       "      <td>NaN</td>\n",
       "      <td>NaN</td>\n",
       "      <td>1.231</td>\n",
       "      <td>0.864</td>\n",
       "      <td>NaN</td>\n",
       "      <td>NaN</td>\n",
       "      <td>0.233</td>\n",
       "      <td>NaN</td>\n",
       "      <td>0.78</td>\n",
       "    </tr>\n",
       "    <tr>\n",
       "      <th>22</th>\n",
       "      <td>Rana tsushimensis</td>\n",
       "      <td>22.2</td>\n",
       "      <td>14.2</td>\n",
       "      <td>0.64</td>\n",
       "      <td>9.5</td>\n",
       "      <td>5.1</td>\n",
       "      <td>0.54</td>\n",
       "      <td>0.385</td>\n",
       "      <td>0.318</td>\n",
       "      <td>1.625</td>\n",
       "      <td>1.75</td>\n",
       "      <td>0.433</td>\n",
       "      <td>0.4</td>\n",
       "      <td>0.82</td>\n",
       "    </tr>\n",
       "    <tr>\n",
       "      <th>7</th>\n",
       "      <td>Rana clamitans</td>\n",
       "      <td>22.5</td>\n",
       "      <td>15.0</td>\n",
       "      <td>0.67</td>\n",
       "      <td>NaN</td>\n",
       "      <td>NaN</td>\n",
       "      <td>NaN</td>\n",
       "      <td>1.000</td>\n",
       "      <td>0.182</td>\n",
       "      <td>NaN</td>\n",
       "      <td>NaN</td>\n",
       "      <td>1.433</td>\n",
       "      <td>NaN</td>\n",
       "      <td>0.87</td>\n",
       "    </tr>\n",
       "    <tr>\n",
       "      <th>10</th>\n",
       "      <td>Rana japonica</td>\n",
       "      <td>21.8</td>\n",
       "      <td>14.3</td>\n",
       "      <td>0.66</td>\n",
       "      <td>8.9</td>\n",
       "      <td>5.3</td>\n",
       "      <td>0.60</td>\n",
       "      <td>0.462</td>\n",
       "      <td>0.500</td>\n",
       "      <td>0.875</td>\n",
       "      <td>2.25</td>\n",
       "      <td>1.100</td>\n",
       "      <td>2.0</td>\n",
       "      <td>1.20</td>\n",
       "    </tr>\n",
       "    <tr>\n",
       "      <th>0</th>\n",
       "      <td>Limnonectes limnocharis</td>\n",
       "      <td>19.6</td>\n",
       "      <td>13.2</td>\n",
       "      <td>0.67</td>\n",
       "      <td>7.9</td>\n",
       "      <td>4.9</td>\n",
       "      <td>0.62</td>\n",
       "      <td>0.385</td>\n",
       "      <td>1.500</td>\n",
       "      <td>0.375</td>\n",
       "      <td>1.25</td>\n",
       "      <td>1.433</td>\n",
       "      <td>2.8</td>\n",
       "      <td>1.29</td>\n",
       "    </tr>\n",
       "    <tr>\n",
       "      <th>11</th>\n",
       "      <td>Rana nigromaculata</td>\n",
       "      <td>21.8</td>\n",
       "      <td>14.3</td>\n",
       "      <td>0.66</td>\n",
       "      <td>9.3</td>\n",
       "      <td>5.5</td>\n",
       "      <td>0.59</td>\n",
       "      <td>0.462</td>\n",
       "      <td>0.500</td>\n",
       "      <td>1.375</td>\n",
       "      <td>2.75</td>\n",
       "      <td>1.100</td>\n",
       "      <td>1.6</td>\n",
       "      <td>1.30</td>\n",
       "    </tr>\n",
       "    <tr>\n",
       "      <th>13</th>\n",
       "      <td>Rana pipiens</td>\n",
       "      <td>21.5</td>\n",
       "      <td>12.2</td>\n",
       "      <td>0.57</td>\n",
       "      <td>8.8</td>\n",
       "      <td>5.2</td>\n",
       "      <td>0.59</td>\n",
       "      <td>1.154</td>\n",
       "      <td>0.636</td>\n",
       "      <td>0.750</td>\n",
       "      <td>2.00</td>\n",
       "      <td>1.900</td>\n",
       "      <td>1.6</td>\n",
       "      <td>1.34</td>\n",
       "    </tr>\n",
       "    <tr>\n",
       "      <th>16</th>\n",
       "      <td>Rana porosa</td>\n",
       "      <td>22.9</td>\n",
       "      <td>14.9</td>\n",
       "      <td>0.65</td>\n",
       "      <td>8.5</td>\n",
       "      <td>5.4</td>\n",
       "      <td>0.64</td>\n",
       "      <td>0.923</td>\n",
       "      <td>0.000</td>\n",
       "      <td>0.375</td>\n",
       "      <td>2.50</td>\n",
       "      <td>0.767</td>\n",
       "      <td>3.6</td>\n",
       "      <td>1.36</td>\n",
       "    </tr>\n",
       "    <tr>\n",
       "      <th>14</th>\n",
       "      <td>\" \"</td>\n",
       "      <td>23.8</td>\n",
       "      <td>16.2</td>\n",
       "      <td>0.68</td>\n",
       "      <td>NaN</td>\n",
       "      <td>NaN</td>\n",
       "      <td>NaN</td>\n",
       "      <td>1.923</td>\n",
       "      <td>0.409</td>\n",
       "      <td>NaN</td>\n",
       "      <td>NaN</td>\n",
       "      <td>1.767</td>\n",
       "      <td>NaN</td>\n",
       "      <td>1.37</td>\n",
       "    </tr>\n",
       "    <tr>\n",
       "      <th>18</th>\n",
       "      <td>Rana sylvatica</td>\n",
       "      <td>25.5</td>\n",
       "      <td>16.5</td>\n",
       "      <td>0.65</td>\n",
       "      <td>NaN</td>\n",
       "      <td>NaN</td>\n",
       "      <td>NaN</td>\n",
       "      <td>2.154</td>\n",
       "      <td>1.182</td>\n",
       "      <td>NaN</td>\n",
       "      <td>NaN</td>\n",
       "      <td>0.767</td>\n",
       "      <td>NaN</td>\n",
       "      <td>1.37</td>\n",
       "    </tr>\n",
       "    <tr>\n",
       "      <th>6</th>\n",
       "      <td>\" \"</td>\n",
       "      <td>25.7</td>\n",
       "      <td>14.2</td>\n",
       "      <td>0.55</td>\n",
       "      <td>NaN</td>\n",
       "      <td>NaN</td>\n",
       "      <td>NaN</td>\n",
       "      <td>0.385</td>\n",
       "      <td>1.273</td>\n",
       "      <td>NaN</td>\n",
       "      <td>NaN</td>\n",
       "      <td>2.567</td>\n",
       "      <td>NaN</td>\n",
       "      <td>1.41</td>\n",
       "    </tr>\n",
       "    <tr>\n",
       "      <th>19</th>\n",
       "      <td>Rana tagoi</td>\n",
       "      <td>24.5</td>\n",
       "      <td>14.2</td>\n",
       "      <td>0.58</td>\n",
       "      <td>10.0</td>\n",
       "      <td>5.7</td>\n",
       "      <td>0.57</td>\n",
       "      <td>0.385</td>\n",
       "      <td>0.727</td>\n",
       "      <td>2.250</td>\n",
       "      <td>3.25</td>\n",
       "      <td>1.567</td>\n",
       "      <td>0.8</td>\n",
       "      <td>1.50</td>\n",
       "    </tr>\n",
       "    <tr>\n",
       "      <th>8</th>\n",
       "      <td>\" \"</td>\n",
       "      <td>23.0</td>\n",
       "      <td>11.9</td>\n",
       "      <td>0.52</td>\n",
       "      <td>NaN</td>\n",
       "      <td>NaN</td>\n",
       "      <td>NaN</td>\n",
       "      <td>1.385</td>\n",
       "      <td>0.045</td>\n",
       "      <td>NaN</td>\n",
       "      <td>NaN</td>\n",
       "      <td>3.567</td>\n",
       "      <td>NaN</td>\n",
       "      <td>1.67</td>\n",
       "    </tr>\n",
       "    <tr>\n",
       "      <th>21</th>\n",
       "      <td>\" \"</td>\n",
       "      <td>24.6</td>\n",
       "      <td>16.9</td>\n",
       "      <td>0.69</td>\n",
       "      <td>NaN</td>\n",
       "      <td>NaN</td>\n",
       "      <td>NaN</td>\n",
       "      <td>2.462</td>\n",
       "      <td>0.773</td>\n",
       "      <td>NaN</td>\n",
       "      <td>NaN</td>\n",
       "      <td>2.100</td>\n",
       "      <td>NaN</td>\n",
       "      <td>1.78</td>\n",
       "    </tr>\n",
       "    <tr>\n",
       "      <th>4</th>\n",
       "      <td>\" \"</td>\n",
       "      <td>26.1</td>\n",
       "      <td>13.5</td>\n",
       "      <td>0.52</td>\n",
       "      <td>10.0</td>\n",
       "      <td>5.6</td>\n",
       "      <td>0.56</td>\n",
       "      <td>0.154</td>\n",
       "      <td>1.455</td>\n",
       "      <td>2.250</td>\n",
       "      <td>3.00</td>\n",
       "      <td>3.567</td>\n",
       "      <td>0.4</td>\n",
       "      <td>1.80</td>\n",
       "    </tr>\n",
       "    <tr>\n",
       "      <th>5</th>\n",
       "      <td>\" \"</td>\n",
       "      <td>27.9</td>\n",
       "      <td>15.4</td>\n",
       "      <td>0.55</td>\n",
       "      <td>10.3</td>\n",
       "      <td>5.6</td>\n",
       "      <td>0.54</td>\n",
       "      <td>1.308</td>\n",
       "      <td>2.273</td>\n",
       "      <td>2.625</td>\n",
       "      <td>3.00</td>\n",
       "      <td>2.567</td>\n",
       "      <td>0.4</td>\n",
       "      <td>2.03</td>\n",
       "    </tr>\n",
       "    <tr>\n",
       "      <th>9</th>\n",
       "      <td>Rana esculenta</td>\n",
       "      <td>25.4</td>\n",
       "      <td>17.6</td>\n",
       "      <td>0.69</td>\n",
       "      <td>NaN</td>\n",
       "      <td>NaN</td>\n",
       "      <td>NaN</td>\n",
       "      <td>3.000</td>\n",
       "      <td>1.136</td>\n",
       "      <td>NaN</td>\n",
       "      <td>NaN</td>\n",
       "      <td>2.100</td>\n",
       "      <td>NaN</td>\n",
       "      <td>2.08</td>\n",
       "    </tr>\n",
       "    <tr>\n",
       "      <th>2</th>\n",
       "      <td>Rana catesbeiana</td>\n",
       "      <td>25.0</td>\n",
       "      <td>12.4</td>\n",
       "      <td>0.50</td>\n",
       "      <td>9.9</td>\n",
       "      <td>5.7</td>\n",
       "      <td>0.58</td>\n",
       "      <td>1.000</td>\n",
       "      <td>0.955</td>\n",
       "      <td>2.125</td>\n",
       "      <td>3.25</td>\n",
       "      <td>4.233</td>\n",
       "      <td>1.2</td>\n",
       "      <td>2.13</td>\n",
       "    </tr>\n",
       "    <tr>\n",
       "      <th>17</th>\n",
       "      <td>Rana rugosa</td>\n",
       "      <td>26.6</td>\n",
       "      <td>16.1</td>\n",
       "      <td>0.61</td>\n",
       "      <td>12.0</td>\n",
       "      <td>6.4</td>\n",
       "      <td>0.53</td>\n",
       "      <td>1.846</td>\n",
       "      <td>1.682</td>\n",
       "      <td>4.750</td>\n",
       "      <td>5.00</td>\n",
       "      <td>0.567</td>\n",
       "      <td>0.8</td>\n",
       "      <td>2.44</td>\n",
       "    </tr>\n",
       "    <tr>\n",
       "      <th>1</th>\n",
       "      <td>Pyxicephalus adspersus</td>\n",
       "      <td>NaN</td>\n",
       "      <td>NaN</td>\n",
       "      <td>NaN</td>\n",
       "      <td>NaN</td>\n",
       "      <td>NaN</td>\n",
       "      <td>NaN</td>\n",
       "      <td>NaN</td>\n",
       "      <td>NaN</td>\n",
       "      <td>NaN</td>\n",
       "      <td>NaN</td>\n",
       "      <td>NaN</td>\n",
       "      <td>NaN</td>\n",
       "      <td>NaN</td>\n",
       "    </tr>\n",
       "  </tbody>\n",
       "</table>\n",
       "</div>"
      ],
      "text/plain": [
       "                     Specie   CLD   CSD  RATIO C   NLD  NSD  RATIO N   tCSD  \\\n",
       "15                      \" \"  20.5  13.2     0.64   NaN  NaN      NaN  0.385   \n",
       "20          Rana temporaria  22.9  13.9     0.61   8.2  4.0     0.49  0.154   \n",
       "12           Rana palustris  20.4  12.7     0.62   NaN  NaN      NaN  0.769   \n",
       "3                       \" \"  24.8  15.3     0.62   NaN  NaN      NaN  1.231   \n",
       "22        Rana tsushimensis  22.2  14.2     0.64   9.5  5.1     0.54  0.385   \n",
       "7            Rana clamitans  22.5  15.0     0.67   NaN  NaN      NaN  1.000   \n",
       "10            Rana japonica  21.8  14.3     0.66   8.9  5.3     0.60  0.462   \n",
       "0   Limnonectes limnocharis  19.6  13.2     0.67   7.9  4.9     0.62  0.385   \n",
       "11       Rana nigromaculata  21.8  14.3     0.66   9.3  5.5     0.59  0.462   \n",
       "13             Rana pipiens  21.5  12.2     0.57   8.8  5.2     0.59  1.154   \n",
       "16              Rana porosa  22.9  14.9     0.65   8.5  5.4     0.64  0.923   \n",
       "14                      \" \"  23.8  16.2     0.68   NaN  NaN      NaN  1.923   \n",
       "18           Rana sylvatica  25.5  16.5     0.65   NaN  NaN      NaN  2.154   \n",
       "6                       \" \"  25.7  14.2     0.55   NaN  NaN      NaN  0.385   \n",
       "19               Rana tagoi  24.5  14.2     0.58  10.0  5.7     0.57  0.385   \n",
       "8                       \" \"  23.0  11.9     0.52   NaN  NaN      NaN  1.385   \n",
       "21                      \" \"  24.6  16.9     0.69   NaN  NaN      NaN  2.462   \n",
       "4                       \" \"  26.1  13.5     0.52  10.0  5.6     0.56  0.154   \n",
       "5                       \" \"  27.9  15.4     0.55  10.3  5.6     0.54  1.308   \n",
       "9            Rana esculenta  25.4  17.6     0.69   NaN  NaN      NaN  3.000   \n",
       "2          Rana catesbeiana  25.0  12.4     0.50   9.9  5.7     0.58  1.000   \n",
       "17              Rana rugosa  26.6  16.1     0.61  12.0  6.4     0.53  1.846   \n",
       "1    Pyxicephalus adspersus   NaN   NaN      NaN   NaN  NaN      NaN    NaN   \n",
       "\n",
       "     tCLD   tNLD  tNSD    tCR  tNR  <b>t AVG </b>  \n",
       "15  1.091    NaN   NaN  0.433  NaN           0.64  \n",
       "20  0.000  0.000  1.00  0.567  2.4           0.69  \n",
       "12  1.136    NaN   NaN  0.233  NaN           0.71  \n",
       "3   0.864    NaN   NaN  0.233  NaN           0.78  \n",
       "22  0.318  1.625  1.75  0.433  0.4           0.82  \n",
       "7   0.182    NaN   NaN  1.433  NaN           0.87  \n",
       "10  0.500  0.875  2.25  1.100  2.0           1.20  \n",
       "0   1.500  0.375  1.25  1.433  2.8           1.29  \n",
       "11  0.500  1.375  2.75  1.100  1.6           1.30  \n",
       "13  0.636  0.750  2.00  1.900  1.6           1.34  \n",
       "16  0.000  0.375  2.50  0.767  3.6           1.36  \n",
       "14  0.409    NaN   NaN  1.767  NaN           1.37  \n",
       "18  1.182    NaN   NaN  0.767  NaN           1.37  \n",
       "6   1.273    NaN   NaN  2.567  NaN           1.41  \n",
       "19  0.727  2.250  3.25  1.567  0.8           1.50  \n",
       "8   0.045    NaN   NaN  3.567  NaN           1.67  \n",
       "21  0.773    NaN   NaN  2.100  NaN           1.78  \n",
       "4   1.455  2.250  3.00  3.567  0.4           1.80  \n",
       "5   2.273  2.625  3.00  2.567  0.4           2.03  \n",
       "9   1.136    NaN   NaN  2.100  NaN           2.08  \n",
       "2   0.955  2.125  3.25  4.233  1.2           2.13  \n",
       "17  1.682  4.750  5.00  0.567  0.8           2.44  \n",
       "1     NaN    NaN   NaN    NaN  NaN            NaN  "
      ]
     },
     "metadata": {},
     "output_type": "display_data"
    }
   ],
   "source": [
    "RANABASE['tCSD'] = tCSD\n",
    "RANABASE['tCLD'] = tCLD\n",
    "RANABASE['tNLD'] = tNLD\n",
    "RANABASE['tNSD'] = tNSD\n",
    "RANABASE['tCR'] = tCitoratio\n",
    "RANABASE['tNR'] = tNucleoratio\n",
    "RANABASE['<b>t AVG </b>'] = np.round(RANABASE.iloc[:,7:].mean(axis=1),2).to_numpy()\n",
    "\n",
    "RANABASE = RANABASE.sort_values(by='<b>t AVG </b>', ascending=True)\n",
    "display(RANABASE)"
   ]
  },
  {
   "cell_type": "code",
   "execution_count": 26,
   "metadata": {},
   "outputs": [],
   "source": [
    "# create a second database containing only the t of the ttest\n",
    "colls =  ['Specie', 'tCSD', 'tCLD','tCR', 'tNLD', 'tNSD','tNR','<b>t AVG </b>']\n",
    "RANABASET = RANABASE.loc[:,colls] # 0:22"
   ]
  },
  {
   "cell_type": "code",
   "execution_count": 27,
   "metadata": {},
   "outputs": [
    {
     "data": {
      "text/html": [
       "<div>\n",
       "<style scoped>\n",
       "    .dataframe tbody tr th:only-of-type {\n",
       "        vertical-align: middle;\n",
       "    }\n",
       "\n",
       "    .dataframe tbody tr th {\n",
       "        vertical-align: top;\n",
       "    }\n",
       "\n",
       "    .dataframe thead th {\n",
       "        text-align: right;\n",
       "    }\n",
       "</style>\n",
       "<table border=\"1\" class=\"dataframe\">\n",
       "  <thead>\n",
       "    <tr style=\"text-align: right;\">\n",
       "      <th></th>\n",
       "      <th>Specie</th>\n",
       "      <th>tCSD</th>\n",
       "      <th>tCLD</th>\n",
       "      <th>tCR</th>\n",
       "      <th>tNLD</th>\n",
       "      <th>tNSD</th>\n",
       "      <th>tNR</th>\n",
       "      <th>&lt;b&gt;t AVG &lt;/b&gt;</th>\n",
       "    </tr>\n",
       "  </thead>\n",
       "  <tbody>\n",
       "    <tr>\n",
       "      <th>20</th>\n",
       "      <td>Rana temporaria</td>\n",
       "      <td>0.154</td>\n",
       "      <td>0.000</td>\n",
       "      <td>0.567</td>\n",
       "      <td>0.000</td>\n",
       "      <td>1.00</td>\n",
       "      <td>2.4</td>\n",
       "      <td>0.69</td>\n",
       "    </tr>\n",
       "    <tr>\n",
       "      <th>12</th>\n",
       "      <td>Rana palustris</td>\n",
       "      <td>0.769</td>\n",
       "      <td>1.136</td>\n",
       "      <td>0.233</td>\n",
       "      <td>NaN</td>\n",
       "      <td>NaN</td>\n",
       "      <td>NaN</td>\n",
       "      <td>0.71</td>\n",
       "    </tr>\n",
       "    <tr>\n",
       "      <th>22</th>\n",
       "      <td>Rana tsushimensis</td>\n",
       "      <td>0.385</td>\n",
       "      <td>0.318</td>\n",
       "      <td>0.433</td>\n",
       "      <td>1.625</td>\n",
       "      <td>1.75</td>\n",
       "      <td>0.4</td>\n",
       "      <td>0.82</td>\n",
       "    </tr>\n",
       "    <tr>\n",
       "      <th>7</th>\n",
       "      <td>Rana clamitans</td>\n",
       "      <td>1.000</td>\n",
       "      <td>0.182</td>\n",
       "      <td>1.433</td>\n",
       "      <td>NaN</td>\n",
       "      <td>NaN</td>\n",
       "      <td>NaN</td>\n",
       "      <td>0.87</td>\n",
       "    </tr>\n",
       "    <tr>\n",
       "      <th>10</th>\n",
       "      <td>Rana japonica</td>\n",
       "      <td>0.462</td>\n",
       "      <td>0.500</td>\n",
       "      <td>1.100</td>\n",
       "      <td>0.875</td>\n",
       "      <td>2.25</td>\n",
       "      <td>2.0</td>\n",
       "      <td>1.20</td>\n",
       "    </tr>\n",
       "    <tr>\n",
       "      <th>0</th>\n",
       "      <td>Limnonectes limnocharis</td>\n",
       "      <td>0.385</td>\n",
       "      <td>1.500</td>\n",
       "      <td>1.433</td>\n",
       "      <td>0.375</td>\n",
       "      <td>1.25</td>\n",
       "      <td>2.8</td>\n",
       "      <td>1.29</td>\n",
       "    </tr>\n",
       "    <tr>\n",
       "      <th>11</th>\n",
       "      <td>Rana nigromaculata</td>\n",
       "      <td>0.462</td>\n",
       "      <td>0.500</td>\n",
       "      <td>1.100</td>\n",
       "      <td>1.375</td>\n",
       "      <td>2.75</td>\n",
       "      <td>1.6</td>\n",
       "      <td>1.30</td>\n",
       "    </tr>\n",
       "    <tr>\n",
       "      <th>13</th>\n",
       "      <td>Rana pipiens</td>\n",
       "      <td>1.154</td>\n",
       "      <td>0.636</td>\n",
       "      <td>1.900</td>\n",
       "      <td>0.750</td>\n",
       "      <td>2.00</td>\n",
       "      <td>1.6</td>\n",
       "      <td>1.34</td>\n",
       "    </tr>\n",
       "    <tr>\n",
       "      <th>16</th>\n",
       "      <td>Rana porosa</td>\n",
       "      <td>0.923</td>\n",
       "      <td>0.000</td>\n",
       "      <td>0.767</td>\n",
       "      <td>0.375</td>\n",
       "      <td>2.50</td>\n",
       "      <td>3.6</td>\n",
       "      <td>1.36</td>\n",
       "    </tr>\n",
       "    <tr>\n",
       "      <th>18</th>\n",
       "      <td>Rana sylvatica</td>\n",
       "      <td>2.154</td>\n",
       "      <td>1.182</td>\n",
       "      <td>0.767</td>\n",
       "      <td>NaN</td>\n",
       "      <td>NaN</td>\n",
       "      <td>NaN</td>\n",
       "      <td>1.37</td>\n",
       "    </tr>\n",
       "    <tr>\n",
       "      <th>19</th>\n",
       "      <td>Rana tagoi</td>\n",
       "      <td>0.385</td>\n",
       "      <td>0.727</td>\n",
       "      <td>1.567</td>\n",
       "      <td>2.250</td>\n",
       "      <td>3.25</td>\n",
       "      <td>0.8</td>\n",
       "      <td>1.50</td>\n",
       "    </tr>\n",
       "    <tr>\n",
       "      <th>9</th>\n",
       "      <td>Rana esculenta</td>\n",
       "      <td>3.000</td>\n",
       "      <td>1.136</td>\n",
       "      <td>2.100</td>\n",
       "      <td>NaN</td>\n",
       "      <td>NaN</td>\n",
       "      <td>NaN</td>\n",
       "      <td>2.08</td>\n",
       "    </tr>\n",
       "    <tr>\n",
       "      <th>2</th>\n",
       "      <td>Rana catesbeiana</td>\n",
       "      <td>1.000</td>\n",
       "      <td>0.955</td>\n",
       "      <td>4.233</td>\n",
       "      <td>2.125</td>\n",
       "      <td>3.25</td>\n",
       "      <td>1.2</td>\n",
       "      <td>2.13</td>\n",
       "    </tr>\n",
       "    <tr>\n",
       "      <th>17</th>\n",
       "      <td>Rana rugosa</td>\n",
       "      <td>1.846</td>\n",
       "      <td>1.682</td>\n",
       "      <td>0.567</td>\n",
       "      <td>4.750</td>\n",
       "      <td>5.00</td>\n",
       "      <td>0.8</td>\n",
       "      <td>2.44</td>\n",
       "    </tr>\n",
       "  </tbody>\n",
       "</table>\n",
       "</div>"
      ],
      "text/plain": [
       "                     Specie   tCSD   tCLD    tCR   tNLD  tNSD  tNR  \\\n",
       "20          Rana temporaria  0.154  0.000  0.567  0.000  1.00  2.4   \n",
       "12           Rana palustris  0.769  1.136  0.233    NaN   NaN  NaN   \n",
       "22        Rana tsushimensis  0.385  0.318  0.433  1.625  1.75  0.4   \n",
       "7            Rana clamitans  1.000  0.182  1.433    NaN   NaN  NaN   \n",
       "10            Rana japonica  0.462  0.500  1.100  0.875  2.25  2.0   \n",
       "0   Limnonectes limnocharis  0.385  1.500  1.433  0.375  1.25  2.8   \n",
       "11       Rana nigromaculata  0.462  0.500  1.100  1.375  2.75  1.6   \n",
       "13             Rana pipiens  1.154  0.636  1.900  0.750  2.00  1.6   \n",
       "16              Rana porosa  0.923  0.000  0.767  0.375  2.50  3.6   \n",
       "18           Rana sylvatica  2.154  1.182  0.767    NaN   NaN  NaN   \n",
       "19               Rana tagoi  0.385  0.727  1.567  2.250  3.25  0.8   \n",
       "9            Rana esculenta  3.000  1.136  2.100    NaN   NaN  NaN   \n",
       "2          Rana catesbeiana  1.000  0.955  4.233  2.125  3.25  1.2   \n",
       "17              Rana rugosa  1.846  1.682  0.567  4.750  5.00  0.8   \n",
       "\n",
       "    <b>t AVG </b>  \n",
       "20           0.69  \n",
       "12           0.71  \n",
       "22           0.82  \n",
       "7            0.87  \n",
       "10           1.20  \n",
       "0            1.29  \n",
       "11           1.30  \n",
       "13           1.34  \n",
       "16           1.36  \n",
       "18           1.37  \n",
       "19           1.50  \n",
       "9            2.08  \n",
       "2            2.13  \n",
       "17           2.44  "
      ]
     },
     "metadata": {},
     "output_type": "display_data"
    }
   ],
   "source": [
    "# filter the ranabase to remove the empty values\n",
    "RANABASET = RANABASET[RANABASET['Specie'] != '\" \"']\n",
    "RANABASET = RANABASET[RANABASET['Specie'] != 'Pyxicephalus adspersus'] # only NaN\n",
    "\n",
    "RANABASET = RANABASET.sort_values(by='<b>t AVG </b>', ascending=True)\n",
    "display(RANABASET)"
   ]
  },
  {
   "cell_type": "code",
   "execution_count": 28,
   "metadata": {},
   "outputs": [
    {
     "data": {
      "application/vnd.plotly.v1+json": {
       "config": {
        "plotlyServerURL": "https://plot.ly"
       },
       "data": [
        {
         "colorscale": [
          [
           0,
           "rgb(0,104,55)"
          ],
          [
           0.1,
           "rgb(26,152,80)"
          ],
          [
           0.2,
           "rgb(102,189,99)"
          ],
          [
           0.3,
           "rgb(166,217,106)"
          ],
          [
           0.4,
           "rgb(217,239,139)"
          ],
          [
           0.5,
           "rgb(255,255,191)"
          ],
          [
           0.6,
           "rgb(254,224,139)"
          ],
          [
           0.7,
           "rgb(253,174,97)"
          ],
          [
           0.8,
           "rgb(244,109,67)"
          ],
          [
           0.9,
           "rgb(215,48,39)"
          ],
          [
           1,
           "rgb(165,0,38)"
          ]
         ],
         "text": {
          "bdata": "mpmZmZmZ/T/hehSuR+H6Pz0K16NwPeI/AAAAAAAAE0AAAAAAAAAUQJqZmZmZmek/hetRuB6FA0AAAAAAAADwP7gehetRuO4/7FG4HoXrEED2KFyPwvUAQAAAAAAAAApAMzMzMzMz8z8K16NwPQoBQAAAAAAAAAhAPQrXo3A98j/NzMzMzMwAQAAAAAAAAPh/AAAAAAAA+H8AAAAAAAD4f6RwPQrXowBAUrgehetR2D9cj8L1KFznPx+F61G4Hvk/AAAAAAAAAkAAAAAAAAAKQJqZmZmZmek/AAAAAAAA+D8zMzMzMzMBQOF6FK5H4fI/pHA9Ctej6D8AAAAAAAD4fwAAAAAAAPh/AAAAAAAA+H/sUbgehev1P3E9CtejcO0/AAAAAAAAAACkcD0K16PoP1K4HoXrUdg/AAAAAAAABEDNzMzMzMwMQMP1KFyPwvU/ZmZmZmZm8j97FK5H4XrkP2ZmZmZmZv4/AAAAAAAA6D8AAAAAAAAAQJqZmZmZmfk/cT0K16Nw9T9xPQrXo3DdPwAAAAAAAOA/mpmZmZmZ8T8UrkfhehT2PwAAAAAAAAZAmpmZmZmZ+T/NzMzMzMz0P1K4HoXrUdg/AAAAAAAA+D/hehSuR+H2P1K4HoXrUdg/AAAAAAAA9D9mZmZmZmYGQKRwPQrXo/Q/cT0K16Nw3T8AAAAAAADgP5qZmZmZmfE/KVyPwvUo7D8AAAAAAAACQAAAAAAAAABAMzMzMzMz8z8AAAAAAADwPwrXo3A9Csc/4XoUrkfh9j8AAAAAAAD4fwAAAAAAAPh/AAAAAAAA+H/Xo3A9CtfrP1K4HoXrUdg/exSuR+F61D+F61G4HoXbP+xRuB6F6/k/AAAAAAAA/D+amZmZmZnZPz0K16NwPeo/pHA9Ctej6D89CtejcD3yP3E9CtejcM0/AAAAAAAA+H8AAAAAAAD4fwAAAAAAAPh/uB6F61G45j8zMzMzMzPDPwAAAAAAAAAAPQrXo3A94j8AAAAAAAAAAAAAAAAAAPA/MzMzMzMzA0AUrkfhehTmPw==",
          "dtype": "f8",
          "shape": "14, 7"
         },
         "textfont": {
          "size": 12
         },
         "texttemplate": "%{text:.2f}",
         "type": "heatmap",
         "x": [
          "tCSD",
          "tCLD",
          "tCR",
          "tNLD",
          "tNSD",
          "tNR",
          "<b>t AVG </b>"
         ],
         "y": [
          "Rana rugosa",
          "Rana catesbeiana",
          "Rana esculenta",
          "Rana tagoi",
          "Rana sylvatica",
          "Rana porosa",
          "Rana pipiens",
          "Rana nigromaculata",
          "Limnonectes limnocharis",
          "Rana japonica",
          "Rana clamitans",
          "Rana tsushimensis",
          "Rana palustris",
          "Rana temporaria"
         ],
         "z": {
          "bdata": "8KfGSzeJ/T+28/3UeOn6P76fGi/dJOI/AAAAAAAAE0AAAAAAAAAUQJqZmZmZmek/hetRuB6FA0AAAAAAAADwP4/C9Shcj+4/O99PjZfuEEAAAAAAAAABQAAAAAAAAApAMzMzMzMz8z8K16NwPQoBQAAAAAAAAAhAkxgEVg4t8j/NzMzMzMwAQAAAAAAAAPh/AAAAAAAA+H8AAAAAAAD4f6RwPQrXowBApHA9Ctej2D/dJAaBlUPnP99PjZduEvk/AAAAAAAAAkAAAAAAAAAKQJqZmZmZmek/AAAAAAAA+D8IrBxaZDsBQLbz/dR46fI/JQaBlUOL6D8AAAAAAAD4fwAAAAAAAPh/AAAAAAAA+H/sUbgehev1P/Cnxks3ie0/AAAAAAAAAAAlBoGVQ4voPwAAAAAAANg/AAAAAAAABEDNzMzMzMwMQMP1KFyPwvU/EFg5tMh28j8nMQisHFrkP2ZmZmZmZv4/AAAAAAAA6D8AAAAAAAAAQJqZmZmZmfk/cT0K16Nw9T/FILByaJHdPwAAAAAAAOA/mpmZmZmZ8T8AAAAAAAD2PwAAAAAAAAZAmpmZmZmZ+T/NzMzMzMz0P6RwPQrXo9g/AAAAAAAA+D8hsHJoke32PwAAAAAAANg/AAAAAAAA9D9mZmZmZmYGQKRwPQrXo/Q/xSCwcmiR3T8AAAAAAADgP5qZmZmZmfE/AAAAAAAA7D8AAAAAAAACQAAAAAAAAABAMzMzMzMz8z8AAAAAAADwP7Kd76fGS8c/IbByaJHt9j8AAAAAAAD4fwAAAAAAAPh/AAAAAAAA+H/Xo3A9CtfrP6RwPQrXo9g/JzEIrBxa1D+DwMqhRbbbPwAAAAAAAPo/AAAAAAAA/D+amZmZmZnZPz0K16NwPeo/z/dT46Wb6D+TGARWDi3yP23n+6nx0s0/AAAAAAAA+H8AAAAAAAD4fwAAAAAAAPh/uB6F61G45j+DwMqhRbbDPwAAAAAAAAAAvp8aL90k4j8AAAAAAAAAAAAAAAAAAPA/MzMzMzMzA0AUrkfhehTmPw==",
          "dtype": "f8",
          "shape": "14, 7"
         }
        }
       ],
       "layout": {
        "coloraxis": {
         "colorbar": {
          "title": {
           "text": "t-test"
          }
         }
        },
        "font": {
         "size": 12
        },
        "height": 600,
        "template": {
         "data": {
          "bar": [
           {
            "error_x": {
             "color": "#2a3f5f"
            },
            "error_y": {
             "color": "#2a3f5f"
            },
            "marker": {
             "line": {
              "color": "#E5ECF6",
              "width": 0.5
             },
             "pattern": {
              "fillmode": "overlay",
              "size": 10,
              "solidity": 0.2
             }
            },
            "type": "bar"
           }
          ],
          "barpolar": [
           {
            "marker": {
             "line": {
              "color": "#E5ECF6",
              "width": 0.5
             },
             "pattern": {
              "fillmode": "overlay",
              "size": 10,
              "solidity": 0.2
             }
            },
            "type": "barpolar"
           }
          ],
          "carpet": [
           {
            "aaxis": {
             "endlinecolor": "#2a3f5f",
             "gridcolor": "white",
             "linecolor": "white",
             "minorgridcolor": "white",
             "startlinecolor": "#2a3f5f"
            },
            "baxis": {
             "endlinecolor": "#2a3f5f",
             "gridcolor": "white",
             "linecolor": "white",
             "minorgridcolor": "white",
             "startlinecolor": "#2a3f5f"
            },
            "type": "carpet"
           }
          ],
          "choropleth": [
           {
            "colorbar": {
             "outlinewidth": 0,
             "ticks": ""
            },
            "type": "choropleth"
           }
          ],
          "contour": [
           {
            "colorbar": {
             "outlinewidth": 0,
             "ticks": ""
            },
            "colorscale": [
             [
              0,
              "#0d0887"
             ],
             [
              0.1111111111111111,
              "#46039f"
             ],
             [
              0.2222222222222222,
              "#7201a8"
             ],
             [
              0.3333333333333333,
              "#9c179e"
             ],
             [
              0.4444444444444444,
              "#bd3786"
             ],
             [
              0.5555555555555556,
              "#d8576b"
             ],
             [
              0.6666666666666666,
              "#ed7953"
             ],
             [
              0.7777777777777778,
              "#fb9f3a"
             ],
             [
              0.8888888888888888,
              "#fdca26"
             ],
             [
              1,
              "#f0f921"
             ]
            ],
            "type": "contour"
           }
          ],
          "contourcarpet": [
           {
            "colorbar": {
             "outlinewidth": 0,
             "ticks": ""
            },
            "type": "contourcarpet"
           }
          ],
          "heatmap": [
           {
            "colorbar": {
             "outlinewidth": 0,
             "ticks": ""
            },
            "colorscale": [
             [
              0,
              "#0d0887"
             ],
             [
              0.1111111111111111,
              "#46039f"
             ],
             [
              0.2222222222222222,
              "#7201a8"
             ],
             [
              0.3333333333333333,
              "#9c179e"
             ],
             [
              0.4444444444444444,
              "#bd3786"
             ],
             [
              0.5555555555555556,
              "#d8576b"
             ],
             [
              0.6666666666666666,
              "#ed7953"
             ],
             [
              0.7777777777777778,
              "#fb9f3a"
             ],
             [
              0.8888888888888888,
              "#fdca26"
             ],
             [
              1,
              "#f0f921"
             ]
            ],
            "type": "heatmap"
           }
          ],
          "histogram": [
           {
            "marker": {
             "pattern": {
              "fillmode": "overlay",
              "size": 10,
              "solidity": 0.2
             }
            },
            "type": "histogram"
           }
          ],
          "histogram2d": [
           {
            "colorbar": {
             "outlinewidth": 0,
             "ticks": ""
            },
            "colorscale": [
             [
              0,
              "#0d0887"
             ],
             [
              0.1111111111111111,
              "#46039f"
             ],
             [
              0.2222222222222222,
              "#7201a8"
             ],
             [
              0.3333333333333333,
              "#9c179e"
             ],
             [
              0.4444444444444444,
              "#bd3786"
             ],
             [
              0.5555555555555556,
              "#d8576b"
             ],
             [
              0.6666666666666666,
              "#ed7953"
             ],
             [
              0.7777777777777778,
              "#fb9f3a"
             ],
             [
              0.8888888888888888,
              "#fdca26"
             ],
             [
              1,
              "#f0f921"
             ]
            ],
            "type": "histogram2d"
           }
          ],
          "histogram2dcontour": [
           {
            "colorbar": {
             "outlinewidth": 0,
             "ticks": ""
            },
            "colorscale": [
             [
              0,
              "#0d0887"
             ],
             [
              0.1111111111111111,
              "#46039f"
             ],
             [
              0.2222222222222222,
              "#7201a8"
             ],
             [
              0.3333333333333333,
              "#9c179e"
             ],
             [
              0.4444444444444444,
              "#bd3786"
             ],
             [
              0.5555555555555556,
              "#d8576b"
             ],
             [
              0.6666666666666666,
              "#ed7953"
             ],
             [
              0.7777777777777778,
              "#fb9f3a"
             ],
             [
              0.8888888888888888,
              "#fdca26"
             ],
             [
              1,
              "#f0f921"
             ]
            ],
            "type": "histogram2dcontour"
           }
          ],
          "mesh3d": [
           {
            "colorbar": {
             "outlinewidth": 0,
             "ticks": ""
            },
            "type": "mesh3d"
           }
          ],
          "parcoords": [
           {
            "line": {
             "colorbar": {
              "outlinewidth": 0,
              "ticks": ""
             }
            },
            "type": "parcoords"
           }
          ],
          "pie": [
           {
            "automargin": true,
            "type": "pie"
           }
          ],
          "scatter": [
           {
            "fillpattern": {
             "fillmode": "overlay",
             "size": 10,
             "solidity": 0.2
            },
            "type": "scatter"
           }
          ],
          "scatter3d": [
           {
            "line": {
             "colorbar": {
              "outlinewidth": 0,
              "ticks": ""
             }
            },
            "marker": {
             "colorbar": {
              "outlinewidth": 0,
              "ticks": ""
             }
            },
            "type": "scatter3d"
           }
          ],
          "scattercarpet": [
           {
            "marker": {
             "colorbar": {
              "outlinewidth": 0,
              "ticks": ""
             }
            },
            "type": "scattercarpet"
           }
          ],
          "scattergeo": [
           {
            "marker": {
             "colorbar": {
              "outlinewidth": 0,
              "ticks": ""
             }
            },
            "type": "scattergeo"
           }
          ],
          "scattergl": [
           {
            "marker": {
             "colorbar": {
              "outlinewidth": 0,
              "ticks": ""
             }
            },
            "type": "scattergl"
           }
          ],
          "scattermap": [
           {
            "marker": {
             "colorbar": {
              "outlinewidth": 0,
              "ticks": ""
             }
            },
            "type": "scattermap"
           }
          ],
          "scattermapbox": [
           {
            "marker": {
             "colorbar": {
              "outlinewidth": 0,
              "ticks": ""
             }
            },
            "type": "scattermapbox"
           }
          ],
          "scatterpolar": [
           {
            "marker": {
             "colorbar": {
              "outlinewidth": 0,
              "ticks": ""
             }
            },
            "type": "scatterpolar"
           }
          ],
          "scatterpolargl": [
           {
            "marker": {
             "colorbar": {
              "outlinewidth": 0,
              "ticks": ""
             }
            },
            "type": "scatterpolargl"
           }
          ],
          "scatterternary": [
           {
            "marker": {
             "colorbar": {
              "outlinewidth": 0,
              "ticks": ""
             }
            },
            "type": "scatterternary"
           }
          ],
          "surface": [
           {
            "colorbar": {
             "outlinewidth": 0,
             "ticks": ""
            },
            "colorscale": [
             [
              0,
              "#0d0887"
             ],
             [
              0.1111111111111111,
              "#46039f"
             ],
             [
              0.2222222222222222,
              "#7201a8"
             ],
             [
              0.3333333333333333,
              "#9c179e"
             ],
             [
              0.4444444444444444,
              "#bd3786"
             ],
             [
              0.5555555555555556,
              "#d8576b"
             ],
             [
              0.6666666666666666,
              "#ed7953"
             ],
             [
              0.7777777777777778,
              "#fb9f3a"
             ],
             [
              0.8888888888888888,
              "#fdca26"
             ],
             [
              1,
              "#f0f921"
             ]
            ],
            "type": "surface"
           }
          ],
          "table": [
           {
            "cells": {
             "fill": {
              "color": "#EBF0F8"
             },
             "line": {
              "color": "white"
             }
            },
            "header": {
             "fill": {
              "color": "#C8D4E3"
             },
             "line": {
              "color": "white"
             }
            },
            "type": "table"
           }
          ]
         },
         "layout": {
          "annotationdefaults": {
           "arrowcolor": "#2a3f5f",
           "arrowhead": 0,
           "arrowwidth": 1
          },
          "autotypenumbers": "strict",
          "coloraxis": {
           "colorbar": {
            "outlinewidth": 0,
            "ticks": ""
           }
          },
          "colorscale": {
           "diverging": [
            [
             0,
             "#8e0152"
            ],
            [
             0.1,
             "#c51b7d"
            ],
            [
             0.2,
             "#de77ae"
            ],
            [
             0.3,
             "#f1b6da"
            ],
            [
             0.4,
             "#fde0ef"
            ],
            [
             0.5,
             "#f7f7f7"
            ],
            [
             0.6,
             "#e6f5d0"
            ],
            [
             0.7,
             "#b8e186"
            ],
            [
             0.8,
             "#7fbc41"
            ],
            [
             0.9,
             "#4d9221"
            ],
            [
             1,
             "#276419"
            ]
           ],
           "sequential": [
            [
             0,
             "#0d0887"
            ],
            [
             0.1111111111111111,
             "#46039f"
            ],
            [
             0.2222222222222222,
             "#7201a8"
            ],
            [
             0.3333333333333333,
             "#9c179e"
            ],
            [
             0.4444444444444444,
             "#bd3786"
            ],
            [
             0.5555555555555556,
             "#d8576b"
            ],
            [
             0.6666666666666666,
             "#ed7953"
            ],
            [
             0.7777777777777778,
             "#fb9f3a"
            ],
            [
             0.8888888888888888,
             "#fdca26"
            ],
            [
             1,
             "#f0f921"
            ]
           ],
           "sequentialminus": [
            [
             0,
             "#0d0887"
            ],
            [
             0.1111111111111111,
             "#46039f"
            ],
            [
             0.2222222222222222,
             "#7201a8"
            ],
            [
             0.3333333333333333,
             "#9c179e"
            ],
            [
             0.4444444444444444,
             "#bd3786"
            ],
            [
             0.5555555555555556,
             "#d8576b"
            ],
            [
             0.6666666666666666,
             "#ed7953"
            ],
            [
             0.7777777777777778,
             "#fb9f3a"
            ],
            [
             0.8888888888888888,
             "#fdca26"
            ],
            [
             1,
             "#f0f921"
            ]
           ]
          },
          "colorway": [
           "#636efa",
           "#EF553B",
           "#00cc96",
           "#ab63fa",
           "#FFA15A",
           "#19d3f3",
           "#FF6692",
           "#B6E880",
           "#FF97FF",
           "#FECB52"
          ],
          "font": {
           "color": "#2a3f5f"
          },
          "geo": {
           "bgcolor": "white",
           "lakecolor": "white",
           "landcolor": "#E5ECF6",
           "showlakes": true,
           "showland": true,
           "subunitcolor": "white"
          },
          "hoverlabel": {
           "align": "left"
          },
          "hovermode": "closest",
          "mapbox": {
           "style": "light"
          },
          "paper_bgcolor": "white",
          "plot_bgcolor": "#E5ECF6",
          "polar": {
           "angularaxis": {
            "gridcolor": "white",
            "linecolor": "white",
            "ticks": ""
           },
           "bgcolor": "#E5ECF6",
           "radialaxis": {
            "gridcolor": "white",
            "linecolor": "white",
            "ticks": ""
           }
          },
          "scene": {
           "xaxis": {
            "backgroundcolor": "#E5ECF6",
            "gridcolor": "white",
            "gridwidth": 2,
            "linecolor": "white",
            "showbackground": true,
            "ticks": "",
            "zerolinecolor": "white"
           },
           "yaxis": {
            "backgroundcolor": "#E5ECF6",
            "gridcolor": "white",
            "gridwidth": 2,
            "linecolor": "white",
            "showbackground": true,
            "ticks": "",
            "zerolinecolor": "white"
           },
           "zaxis": {
            "backgroundcolor": "#E5ECF6",
            "gridcolor": "white",
            "gridwidth": 2,
            "linecolor": "white",
            "showbackground": true,
            "ticks": "",
            "zerolinecolor": "white"
           }
          },
          "shapedefaults": {
           "line": {
            "color": "#2a3f5f"
           }
          },
          "ternary": {
           "aaxis": {
            "gridcolor": "white",
            "linecolor": "white",
            "ticks": ""
           },
           "baxis": {
            "gridcolor": "white",
            "linecolor": "white",
            "ticks": ""
           },
           "bgcolor": "#E5ECF6",
           "caxis": {
            "gridcolor": "white",
            "linecolor": "white",
            "ticks": ""
           }
          },
          "title": {
           "x": 0.05
          },
          "xaxis": {
           "automargin": true,
           "gridcolor": "white",
           "linecolor": "white",
           "ticks": "",
           "title": {
            "standoff": 15
           },
           "zerolinecolor": "white",
           "zerolinewidth": 2
          },
          "yaxis": {
           "automargin": true,
           "gridcolor": "white",
           "linecolor": "white",
           "ticks": "",
           "title": {
            "standoff": 15
           },
           "zerolinecolor": "white",
           "zerolinewidth": 2
          }
         }
        },
        "title": {
         "font": {
          "size": 20
         },
         "x": 0.5,
         "y": 0.95
        },
        "width": 600,
        "xaxis": {
         "showgrid": false,
         "title": {
          "text": ""
         }
        },
        "yaxis": {
         "showgrid": false,
         "title": {
          "text": "Specie"
         }
        }
       }
      }
     },
     "metadata": {},
     "output_type": "display_data"
    }
   ],
   "source": [
    "RANABASET = RANABASET[::-1]\n",
    "\n",
    "text = np.round(RANABASET.iloc[:, 1:].to_numpy(),2)#.astype(str)\n",
    "\n",
    "fig = go.Figure(data=go.Heatmap(\n",
    "                    z=RANABASET.set_index('Specie'),\n",
    "                    x=RANABASET.columns[1:],\n",
    "                    y=RANABASET['Specie'],\n",
    "                    text=text,\n",
    "                    colorscale='RdYlGn_r',\n",
    "                    textfont={\"size\":20}))\n",
    "\n",
    "\n",
    "fig.update_traces(texttemplate='%{text:.2f}', textfont_size=12)\n",
    "fig.update_layout(\n",
    "    xaxis_title=\"\",\n",
    "    yaxis_title=\"Specie\",\n",
    "    coloraxis_colorbar=dict(title=\"t-test\"),\n",
    "    width=600, height=600,\n",
    "    font=dict(size=12),\n",
    "    title_x=0.5,\n",
    "    title_y=0.95,\n",
    "    title_font_size=20,\n",
    "    xaxis=dict(showgrid=False),  # Remove gridlines for x-axis\n",
    "    yaxis=dict(showgrid=False)   # Remove gridlines for y-axis\n",
    ")\n",
    "\n",
    "fig.write_image(\"./images/confronto_ranabase.png\")\n",
    "fig.write_html(\"./html/confronto_ranabase.html\")\n",
    "\n",
    "fig.show()"
   ]
  },
  {
   "cell_type": "code",
   "execution_count": 31,
   "metadata": {},
   "outputs": [
    {
     "data": {
      "text/html": [
       "<div>\n",
       "<style scoped>\n",
       "    .dataframe tbody tr th:only-of-type {\n",
       "        vertical-align: middle;\n",
       "    }\n",
       "\n",
       "    .dataframe tbody tr th {\n",
       "        vertical-align: top;\n",
       "    }\n",
       "\n",
       "    .dataframe thead th {\n",
       "        text-align: right;\n",
       "    }\n",
       "</style>\n",
       "<table border=\"1\" class=\"dataframe\">\n",
       "  <thead>\n",
       "    <tr style=\"text-align: right;\">\n",
       "      <th></th>\n",
       "      <th>Specie</th>\n",
       "      <th>t_AVERAGE</th>\n",
       "      <th>p-value (%)</th>\n",
       "    </tr>\n",
       "  </thead>\n",
       "  <tbody>\n",
       "    <tr>\n",
       "      <th>20</th>\n",
       "      <td>Rana temporaria</td>\n",
       "      <td>0.69</td>\n",
       "      <td>49.0</td>\n",
       "    </tr>\n",
       "    <tr>\n",
       "      <th>12</th>\n",
       "      <td>Rana palustris</td>\n",
       "      <td>0.71</td>\n",
       "      <td>47.8</td>\n",
       "    </tr>\n",
       "    <tr>\n",
       "      <th>22</th>\n",
       "      <td>Rana tsushimensis</td>\n",
       "      <td>0.82</td>\n",
       "      <td>41.2</td>\n",
       "    </tr>\n",
       "    <tr>\n",
       "      <th>7</th>\n",
       "      <td>Rana clamitans</td>\n",
       "      <td>0.87</td>\n",
       "      <td>38.4</td>\n",
       "    </tr>\n",
       "    <tr>\n",
       "      <th>10</th>\n",
       "      <td>Rana japonica</td>\n",
       "      <td>1.20</td>\n",
       "      <td>23.0</td>\n",
       "    </tr>\n",
       "    <tr>\n",
       "      <th>0</th>\n",
       "      <td>Limnonectes limnocharis</td>\n",
       "      <td>1.29</td>\n",
       "      <td>19.7</td>\n",
       "    </tr>\n",
       "    <tr>\n",
       "      <th>11</th>\n",
       "      <td>Rana nigromaculata</td>\n",
       "      <td>1.30</td>\n",
       "      <td>19.4</td>\n",
       "    </tr>\n",
       "    <tr>\n",
       "      <th>13</th>\n",
       "      <td>Rana pipiens</td>\n",
       "      <td>1.34</td>\n",
       "      <td>18.0</td>\n",
       "    </tr>\n",
       "    <tr>\n",
       "      <th>18</th>\n",
       "      <td>Rana sylvatica</td>\n",
       "      <td>1.37</td>\n",
       "      <td>17.1</td>\n",
       "    </tr>\n",
       "  </tbody>\n",
       "</table>\n",
       "</div>"
      ],
      "text/plain": [
       "                     Specie  t_AVERAGE  p-value (%)\n",
       "20          Rana temporaria       0.69         49.0\n",
       "12           Rana palustris       0.71         47.8\n",
       "22        Rana tsushimensis       0.82         41.2\n",
       "7            Rana clamitans       0.87         38.4\n",
       "10            Rana japonica       1.20         23.0\n",
       "0   Limnonectes limnocharis       1.29         19.7\n",
       "11       Rana nigromaculata       1.30         19.4\n",
       "13             Rana pipiens       1.34         18.0\n",
       "18           Rana sylvatica       1.37         17.1"
      ]
     },
     "metadata": {},
     "output_type": "display_data"
    }
   ],
   "source": [
    "# find best fitting frogs:\n",
    "RANABASET_less_3 = RANABASET[(RANABASET.iloc[:, 1:].fillna(0) < 3 ).all(axis=1)]\n",
    "\n",
    "probabilities = 1 + norm.cdf(-RANABASET_less_3['<b>t AVG </b>'],loc=0, scale=1) - norm.cdf(RANABASET_less_3['<b>t AVG </b>'],loc=0, scale=1)\n",
    "\n",
    "results = pd.DataFrame({\n",
    "    'Specie': RANABASET_less_3['Specie'],\n",
    "    't_AVERAGE': RANABASET_less_3['<b>t AVG </b>'],\n",
    "    'p-value (%)': np.round(probabilities*100, 1),\n",
    "}).sort_values(by='t_AVERAGE', ascending=True)\n",
    "display(results)\n",
    "\n",
    "RANABASET_less_3 = RANABASET_less_3.set_index('Specie').loc[results['Specie'][::-1]].reset_index()\n",
    "RANABASET_less_3['<b>t AVG</b>'] = results['t_AVERAGE'][::-1].to_numpy()\n",
    "# display(RANABASET_less_3)"
   ]
  },
  {
   "cell_type": "code",
   "execution_count": 30,
   "metadata": {},
   "outputs": [
    {
     "data": {
      "application/vnd.plotly.v1+json": {
       "config": {
        "plotlyServerURL": "https://plot.ly"
       },
       "data": [
        {
         "colorscale": [
          [
           0,
           "rgb(0,104,55)"
          ],
          [
           0.1,
           "rgb(26,152,80)"
          ],
          [
           0.2,
           "rgb(102,189,99)"
          ],
          [
           0.3,
           "rgb(166,217,106)"
          ],
          [
           0.4,
           "rgb(217,239,139)"
          ],
          [
           0.5,
           "rgb(255,255,191)"
          ],
          [
           0.6,
           "rgb(254,224,139)"
          ],
          [
           0.7,
           "rgb(253,174,97)"
          ],
          [
           0.8,
           "rgb(244,109,67)"
          ],
          [
           0.9,
           "rgb(215,48,39)"
          ],
          [
           1,
           "rgb(165,0,38)"
          ]
         ],
         "text": {
          "bdata": "MzMzMzMzAUDhehSuR+HyP6RwPQrXo+g/AAAAAAAA+H8AAAAAAAD4fwAAAAAAAPh/7FG4HoXr9T9mZmZmZmbyP3sUrkfheuQ/ZmZmZmZm/j8AAAAAAADoPwAAAAAAAABAmpmZmZmZ+T9xPQrXo3D1P3E9CtejcN0/AAAAAAAA4D+amZmZmZnxPxSuR+F6FPY/AAAAAAAABkCamZmZmZn5P83MzMzMzPQ/UrgehetR2D8AAAAAAAD4P+F6FK5H4fY/UrgehetR2D8AAAAAAAD0P2ZmZmZmZgZApHA9Ctej9D9xPQrXo3DdPwAAAAAAAOA/mpmZmZmZ8T8pXI/C9SjsPwAAAAAAAAJAAAAAAAAAAEAzMzMzMzPzPwAAAAAAAPA/CtejcD0Kxz/hehSuR+H2PwAAAAAAAPh/AAAAAAAA+H8AAAAAAAD4f9ejcD0K1+s/UrgehetR2D97FK5H4XrUP4XrUbgehds/7FG4HoXr+T8AAAAAAAD8P5qZmZmZmdk/PQrXo3A96j+kcD0K16PoPz0K16NwPfI/cT0K16NwzT8AAAAAAAD4fwAAAAAAAPh/AAAAAAAA+H+4HoXrUbjmPzMzMzMzM8M/AAAAAAAAAAA9CtejcD3iPwAAAAAAAAAAAAAAAAAA8D8zMzMzMzMDQBSuR+F6FOY/",
          "dtype": "f8",
          "shape": "9, 7"
         },
         "textfont": {
          "size": 12
         },
         "texttemplate": "%{text:.2f}",
         "type": "heatmap",
         "x": [
          "tCSD",
          "tCLD",
          "tCR",
          "tNLD",
          "tNSD",
          "tNR",
          "<b>t AVG </b>"
         ],
         "y": [
          "Rana sylvatica",
          "Rana pipiens",
          "Rana nigromaculata",
          "Limnonectes limnocharis",
          "Rana japonica",
          "Rana clamitans",
          "Rana tsushimensis",
          "Rana palustris",
          "Rana temporaria"
         ],
         "z": {
          "bdata": "CKwcWmQ7AUC28/3UeOnyPyUGgZVDi+g/AAAAAAAA+H8AAAAAAAD4fwAAAAAAAPh/7FG4HoXr9T/sUbgehev1PxBYObTIdvI/JzEIrBxa5D9mZmZmZmb+PwAAAAAAAOg/AAAAAAAAAECamZmZmZn5P3E9CtejcPU/cT0K16Nw9T/FILByaJHdPwAAAAAAAOA/mpmZmZmZ8T8AAAAAAAD2PwAAAAAAAAZAmpmZmZmZ+T/NzMzMzMz0P83MzMzMzPQ/pHA9Ctej2D8AAAAAAAD4PyGwcmiR7fY/AAAAAAAA2D8AAAAAAAD0P2ZmZmZmZgZApHA9Ctej9D+kcD0K16P0P8UgsHJokd0/AAAAAAAA4D+amZmZmZnxPwAAAAAAAOw/AAAAAAAAAkAAAAAAAAAAQDMzMzMzM/M/MzMzMzMz8z8AAAAAAADwP7Kd76fGS8c/IbByaJHt9j8AAAAAAAD4fwAAAAAAAPh/AAAAAAAA+H/Xo3A9CtfrP9ejcD0K1+s/pHA9Ctej2D8nMQisHFrUP4PAyqFFtts/AAAAAAAA+j8AAAAAAAD8P5qZmZmZmdk/PQrXo3A96j89CtejcD3qP8/3U+Olm+g/kxgEVg4t8j9t5/up8dLNPwAAAAAAAPh/AAAAAAAA+H8AAAAAAAD4f7gehetRuOY/uB6F61G45j+DwMqhRbbDPwAAAAAAAAAAvp8aL90k4j8AAAAAAAAAAAAAAAAAAPA/MzMzMzMzA0AUrkfhehTmPxSuR+F6FOY/",
          "dtype": "f8",
          "shape": "9, 8"
         }
        }
       ],
       "layout": {
        "coloraxis": {
         "colorbar": {
          "title": {
           "text": "t-test"
          }
         }
        },
        "font": {
         "size": 12
        },
        "height": 600,
        "template": {
         "data": {
          "bar": [
           {
            "error_x": {
             "color": "#2a3f5f"
            },
            "error_y": {
             "color": "#2a3f5f"
            },
            "marker": {
             "line": {
              "color": "#E5ECF6",
              "width": 0.5
             },
             "pattern": {
              "fillmode": "overlay",
              "size": 10,
              "solidity": 0.2
             }
            },
            "type": "bar"
           }
          ],
          "barpolar": [
           {
            "marker": {
             "line": {
              "color": "#E5ECF6",
              "width": 0.5
             },
             "pattern": {
              "fillmode": "overlay",
              "size": 10,
              "solidity": 0.2
             }
            },
            "type": "barpolar"
           }
          ],
          "carpet": [
           {
            "aaxis": {
             "endlinecolor": "#2a3f5f",
             "gridcolor": "white",
             "linecolor": "white",
             "minorgridcolor": "white",
             "startlinecolor": "#2a3f5f"
            },
            "baxis": {
             "endlinecolor": "#2a3f5f",
             "gridcolor": "white",
             "linecolor": "white",
             "minorgridcolor": "white",
             "startlinecolor": "#2a3f5f"
            },
            "type": "carpet"
           }
          ],
          "choropleth": [
           {
            "colorbar": {
             "outlinewidth": 0,
             "ticks": ""
            },
            "type": "choropleth"
           }
          ],
          "contour": [
           {
            "colorbar": {
             "outlinewidth": 0,
             "ticks": ""
            },
            "colorscale": [
             [
              0,
              "#0d0887"
             ],
             [
              0.1111111111111111,
              "#46039f"
             ],
             [
              0.2222222222222222,
              "#7201a8"
             ],
             [
              0.3333333333333333,
              "#9c179e"
             ],
             [
              0.4444444444444444,
              "#bd3786"
             ],
             [
              0.5555555555555556,
              "#d8576b"
             ],
             [
              0.6666666666666666,
              "#ed7953"
             ],
             [
              0.7777777777777778,
              "#fb9f3a"
             ],
             [
              0.8888888888888888,
              "#fdca26"
             ],
             [
              1,
              "#f0f921"
             ]
            ],
            "type": "contour"
           }
          ],
          "contourcarpet": [
           {
            "colorbar": {
             "outlinewidth": 0,
             "ticks": ""
            },
            "type": "contourcarpet"
           }
          ],
          "heatmap": [
           {
            "colorbar": {
             "outlinewidth": 0,
             "ticks": ""
            },
            "colorscale": [
             [
              0,
              "#0d0887"
             ],
             [
              0.1111111111111111,
              "#46039f"
             ],
             [
              0.2222222222222222,
              "#7201a8"
             ],
             [
              0.3333333333333333,
              "#9c179e"
             ],
             [
              0.4444444444444444,
              "#bd3786"
             ],
             [
              0.5555555555555556,
              "#d8576b"
             ],
             [
              0.6666666666666666,
              "#ed7953"
             ],
             [
              0.7777777777777778,
              "#fb9f3a"
             ],
             [
              0.8888888888888888,
              "#fdca26"
             ],
             [
              1,
              "#f0f921"
             ]
            ],
            "type": "heatmap"
           }
          ],
          "histogram": [
           {
            "marker": {
             "pattern": {
              "fillmode": "overlay",
              "size": 10,
              "solidity": 0.2
             }
            },
            "type": "histogram"
           }
          ],
          "histogram2d": [
           {
            "colorbar": {
             "outlinewidth": 0,
             "ticks": ""
            },
            "colorscale": [
             [
              0,
              "#0d0887"
             ],
             [
              0.1111111111111111,
              "#46039f"
             ],
             [
              0.2222222222222222,
              "#7201a8"
             ],
             [
              0.3333333333333333,
              "#9c179e"
             ],
             [
              0.4444444444444444,
              "#bd3786"
             ],
             [
              0.5555555555555556,
              "#d8576b"
             ],
             [
              0.6666666666666666,
              "#ed7953"
             ],
             [
              0.7777777777777778,
              "#fb9f3a"
             ],
             [
              0.8888888888888888,
              "#fdca26"
             ],
             [
              1,
              "#f0f921"
             ]
            ],
            "type": "histogram2d"
           }
          ],
          "histogram2dcontour": [
           {
            "colorbar": {
             "outlinewidth": 0,
             "ticks": ""
            },
            "colorscale": [
             [
              0,
              "#0d0887"
             ],
             [
              0.1111111111111111,
              "#46039f"
             ],
             [
              0.2222222222222222,
              "#7201a8"
             ],
             [
              0.3333333333333333,
              "#9c179e"
             ],
             [
              0.4444444444444444,
              "#bd3786"
             ],
             [
              0.5555555555555556,
              "#d8576b"
             ],
             [
              0.6666666666666666,
              "#ed7953"
             ],
             [
              0.7777777777777778,
              "#fb9f3a"
             ],
             [
              0.8888888888888888,
              "#fdca26"
             ],
             [
              1,
              "#f0f921"
             ]
            ],
            "type": "histogram2dcontour"
           }
          ],
          "mesh3d": [
           {
            "colorbar": {
             "outlinewidth": 0,
             "ticks": ""
            },
            "type": "mesh3d"
           }
          ],
          "parcoords": [
           {
            "line": {
             "colorbar": {
              "outlinewidth": 0,
              "ticks": ""
             }
            },
            "type": "parcoords"
           }
          ],
          "pie": [
           {
            "automargin": true,
            "type": "pie"
           }
          ],
          "scatter": [
           {
            "fillpattern": {
             "fillmode": "overlay",
             "size": 10,
             "solidity": 0.2
            },
            "type": "scatter"
           }
          ],
          "scatter3d": [
           {
            "line": {
             "colorbar": {
              "outlinewidth": 0,
              "ticks": ""
             }
            },
            "marker": {
             "colorbar": {
              "outlinewidth": 0,
              "ticks": ""
             }
            },
            "type": "scatter3d"
           }
          ],
          "scattercarpet": [
           {
            "marker": {
             "colorbar": {
              "outlinewidth": 0,
              "ticks": ""
             }
            },
            "type": "scattercarpet"
           }
          ],
          "scattergeo": [
           {
            "marker": {
             "colorbar": {
              "outlinewidth": 0,
              "ticks": ""
             }
            },
            "type": "scattergeo"
           }
          ],
          "scattergl": [
           {
            "marker": {
             "colorbar": {
              "outlinewidth": 0,
              "ticks": ""
             }
            },
            "type": "scattergl"
           }
          ],
          "scattermap": [
           {
            "marker": {
             "colorbar": {
              "outlinewidth": 0,
              "ticks": ""
             }
            },
            "type": "scattermap"
           }
          ],
          "scattermapbox": [
           {
            "marker": {
             "colorbar": {
              "outlinewidth": 0,
              "ticks": ""
             }
            },
            "type": "scattermapbox"
           }
          ],
          "scatterpolar": [
           {
            "marker": {
             "colorbar": {
              "outlinewidth": 0,
              "ticks": ""
             }
            },
            "type": "scatterpolar"
           }
          ],
          "scatterpolargl": [
           {
            "marker": {
             "colorbar": {
              "outlinewidth": 0,
              "ticks": ""
             }
            },
            "type": "scatterpolargl"
           }
          ],
          "scatterternary": [
           {
            "marker": {
             "colorbar": {
              "outlinewidth": 0,
              "ticks": ""
             }
            },
            "type": "scatterternary"
           }
          ],
          "surface": [
           {
            "colorbar": {
             "outlinewidth": 0,
             "ticks": ""
            },
            "colorscale": [
             [
              0,
              "#0d0887"
             ],
             [
              0.1111111111111111,
              "#46039f"
             ],
             [
              0.2222222222222222,
              "#7201a8"
             ],
             [
              0.3333333333333333,
              "#9c179e"
             ],
             [
              0.4444444444444444,
              "#bd3786"
             ],
             [
              0.5555555555555556,
              "#d8576b"
             ],
             [
              0.6666666666666666,
              "#ed7953"
             ],
             [
              0.7777777777777778,
              "#fb9f3a"
             ],
             [
              0.8888888888888888,
              "#fdca26"
             ],
             [
              1,
              "#f0f921"
             ]
            ],
            "type": "surface"
           }
          ],
          "table": [
           {
            "cells": {
             "fill": {
              "color": "#EBF0F8"
             },
             "line": {
              "color": "white"
             }
            },
            "header": {
             "fill": {
              "color": "#C8D4E3"
             },
             "line": {
              "color": "white"
             }
            },
            "type": "table"
           }
          ]
         },
         "layout": {
          "annotationdefaults": {
           "arrowcolor": "#2a3f5f",
           "arrowhead": 0,
           "arrowwidth": 1
          },
          "autotypenumbers": "strict",
          "coloraxis": {
           "colorbar": {
            "outlinewidth": 0,
            "ticks": ""
           }
          },
          "colorscale": {
           "diverging": [
            [
             0,
             "#8e0152"
            ],
            [
             0.1,
             "#c51b7d"
            ],
            [
             0.2,
             "#de77ae"
            ],
            [
             0.3,
             "#f1b6da"
            ],
            [
             0.4,
             "#fde0ef"
            ],
            [
             0.5,
             "#f7f7f7"
            ],
            [
             0.6,
             "#e6f5d0"
            ],
            [
             0.7,
             "#b8e186"
            ],
            [
             0.8,
             "#7fbc41"
            ],
            [
             0.9,
             "#4d9221"
            ],
            [
             1,
             "#276419"
            ]
           ],
           "sequential": [
            [
             0,
             "#0d0887"
            ],
            [
             0.1111111111111111,
             "#46039f"
            ],
            [
             0.2222222222222222,
             "#7201a8"
            ],
            [
             0.3333333333333333,
             "#9c179e"
            ],
            [
             0.4444444444444444,
             "#bd3786"
            ],
            [
             0.5555555555555556,
             "#d8576b"
            ],
            [
             0.6666666666666666,
             "#ed7953"
            ],
            [
             0.7777777777777778,
             "#fb9f3a"
            ],
            [
             0.8888888888888888,
             "#fdca26"
            ],
            [
             1,
             "#f0f921"
            ]
           ],
           "sequentialminus": [
            [
             0,
             "#0d0887"
            ],
            [
             0.1111111111111111,
             "#46039f"
            ],
            [
             0.2222222222222222,
             "#7201a8"
            ],
            [
             0.3333333333333333,
             "#9c179e"
            ],
            [
             0.4444444444444444,
             "#bd3786"
            ],
            [
             0.5555555555555556,
             "#d8576b"
            ],
            [
             0.6666666666666666,
             "#ed7953"
            ],
            [
             0.7777777777777778,
             "#fb9f3a"
            ],
            [
             0.8888888888888888,
             "#fdca26"
            ],
            [
             1,
             "#f0f921"
            ]
           ]
          },
          "colorway": [
           "#636efa",
           "#EF553B",
           "#00cc96",
           "#ab63fa",
           "#FFA15A",
           "#19d3f3",
           "#FF6692",
           "#B6E880",
           "#FF97FF",
           "#FECB52"
          ],
          "font": {
           "color": "#2a3f5f"
          },
          "geo": {
           "bgcolor": "white",
           "lakecolor": "white",
           "landcolor": "#E5ECF6",
           "showlakes": true,
           "showland": true,
           "subunitcolor": "white"
          },
          "hoverlabel": {
           "align": "left"
          },
          "hovermode": "closest",
          "mapbox": {
           "style": "light"
          },
          "paper_bgcolor": "white",
          "plot_bgcolor": "#E5ECF6",
          "polar": {
           "angularaxis": {
            "gridcolor": "white",
            "linecolor": "white",
            "ticks": ""
           },
           "bgcolor": "#E5ECF6",
           "radialaxis": {
            "gridcolor": "white",
            "linecolor": "white",
            "ticks": ""
           }
          },
          "scene": {
           "xaxis": {
            "backgroundcolor": "#E5ECF6",
            "gridcolor": "white",
            "gridwidth": 2,
            "linecolor": "white",
            "showbackground": true,
            "ticks": "",
            "zerolinecolor": "white"
           },
           "yaxis": {
            "backgroundcolor": "#E5ECF6",
            "gridcolor": "white",
            "gridwidth": 2,
            "linecolor": "white",
            "showbackground": true,
            "ticks": "",
            "zerolinecolor": "white"
           },
           "zaxis": {
            "backgroundcolor": "#E5ECF6",
            "gridcolor": "white",
            "gridwidth": 2,
            "linecolor": "white",
            "showbackground": true,
            "ticks": "",
            "zerolinecolor": "white"
           }
          },
          "shapedefaults": {
           "line": {
            "color": "#2a3f5f"
           }
          },
          "ternary": {
           "aaxis": {
            "gridcolor": "white",
            "linecolor": "white",
            "ticks": ""
           },
           "baxis": {
            "gridcolor": "white",
            "linecolor": "white",
            "ticks": ""
           },
           "bgcolor": "#E5ECF6",
           "caxis": {
            "gridcolor": "white",
            "linecolor": "white",
            "ticks": ""
           }
          },
          "title": {
           "x": 0.05
          },
          "xaxis": {
           "automargin": true,
           "gridcolor": "white",
           "linecolor": "white",
           "ticks": "",
           "title": {
            "standoff": 15
           },
           "zerolinecolor": "white",
           "zerolinewidth": 2
          },
          "yaxis": {
           "automargin": true,
           "gridcolor": "white",
           "linecolor": "white",
           "ticks": "",
           "title": {
            "standoff": 15
           },
           "zerolinecolor": "white",
           "zerolinewidth": 2
          }
         }
        },
        "title": {
         "font": {
          "size": 20
         },
         "x": 0.5,
         "y": 0.95
        },
        "width": 600,
        "xaxis": {
         "showgrid": false,
         "title": {
          "text": ""
         }
        },
        "yaxis": {
         "showgrid": false,
         "title": {
          "text": "Specie"
         }
        }
       }
      }
     },
     "metadata": {},
     "output_type": "display_data"
    }
   ],
   "source": [
    "\n",
    "text = np.round(RANABASET_less_3.iloc[:, 1:-1].to_numpy(),2)#.astype(str)\n",
    "# display(filtered_values)\n",
    "\n",
    "fig = go.Figure(data=go.Heatmap(\n",
    "                    z=RANABASET_less_3.set_index('Specie'),\n",
    "                    x=RANABASET_less_3.columns[1:-1],\n",
    "                    y=RANABASET_less_3['Specie'],\n",
    "                    text=text,\n",
    "                    colorscale='RdYlGn_r',\n",
    "                    textfont={\"size\":20})\n",
    "                )\n",
    "fig.update_traces(texttemplate='%{text:.2f}', textfont_size=12)\n",
    "fig.update_layout(\n",
    "    xaxis_title=\"\",\n",
    "    yaxis_title=\"Specie\",\n",
    "    coloraxis_colorbar=dict(title=\"t-test\"),\n",
    "    width=600, height=600,\n",
    "    font=dict(size=12),\n",
    "    title_x=0.5,\n",
    "    title_y=0.95,\n",
    "    title_font_size=20,\n",
    "    xaxis=dict(showgrid=False),  # Remove gridlines for x-axis\n",
    "    yaxis=dict(showgrid=False)   # Remove gridlines for y-axis\n",
    ")\n",
    "\n",
    "fig.write_image(\"./images/confronto_ranabase_preciso.png\")\n",
    "fig.write_html(\"./html/confronto_ranabase_preciso.html\")\n",
    "\n",
    "fig.show()"
   ]
  }
 ],
 "metadata": {
  "kernelspec": {
   "display_name": "Python 3",
   "language": "python",
   "name": "python3"
  },
  "language_info": {
   "codemirror_mode": {
    "name": "ipython",
    "version": 3
   },
   "file_extension": ".py",
   "mimetype": "text/x-python",
   "name": "python",
   "nbconvert_exporter": "python",
   "pygments_lexer": "ipython3",
   "version": "3.13.0"
  }
 },
 "nbformat": 4,
 "nbformat_minor": 2
}
