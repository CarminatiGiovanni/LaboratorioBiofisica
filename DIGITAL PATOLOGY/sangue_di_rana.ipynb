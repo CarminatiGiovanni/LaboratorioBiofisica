{
 "cells": [
  {
   "cell_type": "markdown",
   "metadata": {},
   "source": [
    "# analisi di RANA.csv\n",
    "\n",
    "sono state prese fotografie di cellule e misurate diverse lunghezze:\n",
    "\n",
    "- CLD = citoplasma long diagonal\n",
    "- CSD = citoplasma short diagonal\n",
    "- NLD = nucleo long diagonal\n",
    "- NSD = nucleo short diagonal \n",
    "\n"
   ]
  },
  {
   "cell_type": "code",
   "execution_count": 1,
   "metadata": {},
   "outputs": [],
   "source": [
    "from matplotlib import pyplot as plt\n",
    "import numpy as np\n",
    "import pandas as pd\n",
    "import plotly.express as px\n",
    "import os\n",
    "import sys\n",
    "import plotly.graph_objects as go \n",
    "from scipy.optimize import curve_fit\n",
    "from scipy.stats import norm\n",
    "dir_path = os.path.abspath('')\n",
    "sys.path.append(dir_path + '/../')\n",
    "from labbiofisica import Interpolazione, final_val"
   ]
  },
  {
   "cell_type": "code",
   "execution_count": 2,
   "metadata": {},
   "outputs": [
    {
     "data": {
      "text/html": [
       "<div>\n",
       "<style scoped>\n",
       "    .dataframe tbody tr th:only-of-type {\n",
       "        vertical-align: middle;\n",
       "    }\n",
       "\n",
       "    .dataframe tbody tr th {\n",
       "        vertical-align: top;\n",
       "    }\n",
       "\n",
       "    .dataframe thead th {\n",
       "        text-align: right;\n",
       "    }\n",
       "</style>\n",
       "<table border=\"1\" class=\"dataframe\">\n",
       "  <thead>\n",
       "    <tr style=\"text-align: right;\">\n",
       "      <th></th>\n",
       "      <th>campione</th>\n",
       "      <th>CLD</th>\n",
       "      <th>CSD</th>\n",
       "      <th>Unnamed: 3</th>\n",
       "      <th>NLD</th>\n",
       "      <th>NSD</th>\n",
       "    </tr>\n",
       "  </thead>\n",
       "  <tbody>\n",
       "    <tr>\n",
       "      <th>33</th>\n",
       "      <td>C</td>\n",
       "      <td>383</td>\n",
       "      <td>221</td>\n",
       "      <td>NaN</td>\n",
       "      <td>171</td>\n",
       "      <td>75</td>\n",
       "    </tr>\n",
       "    <tr>\n",
       "      <th>34</th>\n",
       "      <td>C</td>\n",
       "      <td>395</td>\n",
       "      <td>221</td>\n",
       "      <td>NaN</td>\n",
       "      <td>154</td>\n",
       "      <td>61</td>\n",
       "    </tr>\n",
       "    <tr>\n",
       "      <th>35</th>\n",
       "      <td>C</td>\n",
       "      <td>426</td>\n",
       "      <td>228</td>\n",
       "      <td>NaN</td>\n",
       "      <td>144</td>\n",
       "      <td>78</td>\n",
       "    </tr>\n",
       "    <tr>\n",
       "      <th>36</th>\n",
       "      <td>C</td>\n",
       "      <td>397</td>\n",
       "      <td>258</td>\n",
       "      <td>NaN</td>\n",
       "      <td>163</td>\n",
       "      <td>60</td>\n",
       "    </tr>\n",
       "    <tr>\n",
       "      <th>37</th>\n",
       "      <td>C</td>\n",
       "      <td>443</td>\n",
       "      <td>262</td>\n",
       "      <td>NaN</td>\n",
       "      <td>129</td>\n",
       "      <td>83</td>\n",
       "    </tr>\n",
       "  </tbody>\n",
       "</table>\n",
       "</div>"
      ],
      "text/plain": [
       "   campione  CLD  CSD  Unnamed: 3  NLD  NSD\n",
       "33        C  383  221         NaN  171   75\n",
       "34        C  395  221         NaN  154   61\n",
       "35        C  426  228         NaN  144   78\n",
       "36        C  397  258         NaN  163   60\n",
       "37        C  443  262         NaN  129   83"
      ]
     },
     "execution_count": 2,
     "metadata": {},
     "output_type": "execute_result"
    }
   ],
   "source": [
    "rana = pd.read_csv(dir_path + '/data/RANA.csv',sep=';')\n",
    "rana.tail()"
   ]
  },
  {
   "cell_type": "code",
   "execution_count": 3,
   "metadata": {},
   "outputs": [],
   "source": [
    "CLD = rana['CLD'].to_numpy() # citoplasma long diameter\n",
    "CSD = rana['CSD'].to_numpy() # citoplasma short diameter\n",
    "NLD = rana['NLD'].to_numpy() # nucleo long diameter\n",
    "NSD = rana['NSD'].to_numpy() # nucleo short diameter\n",
    "\n",
    "N = len(CLD)\n",
    "\n",
    "CLD_mean = np.mean(CLD)\n",
    "CSD_mean = np.mean(CSD)\n",
    "NLD_mean = np.mean(NLD)\n",
    "NSD_mean = np.mean(NSD)\n",
    "\n",
    "CLD_std = np.std(CLD) * (N/(N-1)) # unbiased estimator\n",
    "CSD_std = np.std(CSD) * (N/(N-1))\n",
    "NLD_std = np.std(NLD) * (N/(N-1))\n",
    "NSD_std = np.std(NSD) * (N/(N-1))\n",
    "\n",
    "CLD_err = CLD_std/np.sqrt(N)\n",
    "CSD_err = CSD_std/np.sqrt(N)\n",
    "NLD_err = NLD_std/np.sqrt(N)\n",
    "NSD_err = NSD_std/np.sqrt(N)"
   ]
  },
  {
   "cell_type": "code",
   "execution_count": 4,
   "metadata": {},
   "outputs": [
    {
     "name": "stdout",
     "output_type": "stream",
     "text": [
      "Citoratio:  0.627 ± 0.03 \n",
      "Nucleoratio:  0.55 ± 0.025 \n"
     ]
    }
   ],
   "source": [
    "Cratio = CSD_mean / CLD_mean\n",
    "Nratio = NSD_mean / NLD_mean\n",
    "\n",
    "Cratio_err = Cratio * np.sqrt((CLD_err/CLD_mean)**2 + (CSD_err/CSD_mean)**2)\n",
    "Nratio_err = Nratio * np.sqrt((NLD_err/NLD_mean)**2 + (NSD_err/NSD_mean)**2)\n",
    "\n",
    "print('Citoratio: ', final_val(Cratio, Cratio_err,3))\n",
    "print('Nucleoratio: ', final_val(Nratio, Nratio_err,3))"
   ]
  },
  {
   "cell_type": "markdown",
   "metadata": {},
   "source": [
    "Lo strumento è efficace per discriminare rane che non possono essere a causa di una netta differenza nella dimensione dei eritrociti"
   ]
  }
 ],
 "metadata": {
  "kernelspec": {
   "display_name": "Python 3",
   "language": "python",
   "name": "python3"
  },
  "language_info": {
   "codemirror_mode": {
    "name": "ipython",
    "version": 3
   },
   "file_extension": ".py",
   "mimetype": "text/x-python",
   "name": "python",
   "nbconvert_exporter": "python",
   "pygments_lexer": "ipython3",
   "version": "3.13.0"
  }
 },
 "nbformat": 4,
 "nbformat_minor": 2
}
