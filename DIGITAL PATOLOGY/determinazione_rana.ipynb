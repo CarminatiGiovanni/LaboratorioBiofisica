{
 "cells": [
  {
   "cell_type": "code",
   "execution_count": 2,
   "metadata": {},
   "outputs": [],
   "source": [
    "# mi riduco a scrivere i dati a mano\n",
    "\n",
    "from matplotlib import pyplot as plt\n",
    "import numpy as np\n",
    "import pandas as pd\n",
    "import plotly.express as px\n",
    "import os\n",
    "import sys\n",
    "import plotly.graph_objects as go \n",
    "from scipy.optimize import curve_fit\n",
    "from scipy.stats import norm\n",
    "dir_path = os.path.abspath('')\n",
    "sys.path.append(dir_path + '/../')\n",
    "from labbiofisica import Interpolazione, final_val"
   ]
  },
  {
   "cell_type": "code",
   "execution_count": null,
   "metadata": {},
   "outputs": [
    {
     "data": {
      "text/html": [
       "<div>\n",
       "<style scoped>\n",
       "    .dataframe tbody tr th:only-of-type {\n",
       "        vertical-align: middle;\n",
       "    }\n",
       "\n",
       "    .dataframe tbody tr th {\n",
       "        vertical-align: top;\n",
       "    }\n",
       "\n",
       "    .dataframe thead th {\n",
       "        text-align: right;\n",
       "    }\n",
       "</style>\n",
       "<table border=\"1\" class=\"dataframe\">\n",
       "  <thead>\n",
       "    <tr style=\"text-align: right;\">\n",
       "      <th></th>\n",
       "      <th>N</th>\n",
       "      <th>asse maggiore citoplasma</th>\n",
       "      <th>asse maggiore nucleo</th>\n",
       "      <th>asse minore citoplasma</th>\n",
       "      <th>asse minore nucleo</th>\n",
       "    </tr>\n",
       "  </thead>\n",
       "  <tbody>\n",
       "    <tr>\n",
       "      <th>0</th>\n",
       "      <td>1</td>\n",
       "      <td>479</td>\n",
       "      <td>137</td>\n",
       "      <td>270</td>\n",
       "      <td>76</td>\n",
       "    </tr>\n",
       "    <tr>\n",
       "      <th>1</th>\n",
       "      <td>2</td>\n",
       "      <td>482</td>\n",
       "      <td>146</td>\n",
       "      <td>196</td>\n",
       "      <td>82</td>\n",
       "    </tr>\n",
       "    <tr>\n",
       "      <th>2</th>\n",
       "      <td>3</td>\n",
       "      <td>490</td>\n",
       "      <td>152</td>\n",
       "      <td>278</td>\n",
       "      <td>87</td>\n",
       "    </tr>\n",
       "    <tr>\n",
       "      <th>3</th>\n",
       "      <td>4</td>\n",
       "      <td>445</td>\n",
       "      <td>137</td>\n",
       "      <td>359</td>\n",
       "      <td>88</td>\n",
       "    </tr>\n",
       "    <tr>\n",
       "      <th>4</th>\n",
       "      <td>5</td>\n",
       "      <td>415</td>\n",
       "      <td>153</td>\n",
       "      <td>300</td>\n",
       "      <td>73</td>\n",
       "    </tr>\n",
       "  </tbody>\n",
       "</table>\n",
       "</div>"
      ],
      "text/plain": [
       "   N  asse maggiore citoplasma  asse maggiore nucleo  asse minore citoplasma  \\\n",
       "0  1                       479                   137                     270   \n",
       "1  2                       482                   146                     196   \n",
       "2  3                       490                   152                     278   \n",
       "3  4                       445                   137                     359   \n",
       "4  5                       415                   153                     300   \n",
       "\n",
       "   asse minore nucleo  \n",
       "0                  76  \n",
       "1                  82  \n",
       "2                  87  \n",
       "3                  88  \n",
       "4                  73  "
      ]
     },
     "metadata": {},
     "output_type": "display_data"
    }
   ],
   "source": [
    "rana = pd.read_csv(dir_path + '\\\\data\\\\rana_alpina_tiff_analisi_dimensionale.csv')\n",
    "display(rana)"
   ]
  },
  {
   "cell_type": "code",
   "execution_count": 4,
   "metadata": {},
   "outputs": [],
   "source": [
    "AMC = rana['asse maggiore citoplasma'].to_numpy().mean() # asse maggiore citoplasma\n",
    "AmC = rana['asse minore citoplasma'].to_numpy().mean() # asse minore citoplasma\n",
    "sAMC =  rana['asse maggiore citoplasma'].to_numpy().std() * 5/4\n",
    "sAmC = rana['asse minore citoplasma'].to_numpy().std() * 5/4 # asse minore citoplasma\n",
    "\n",
    "AMN = rana['asse maggiore nucleo'].to_numpy().mean() # asse maggiore citoplasma\n",
    "AmN = rana['asse minore nucleo'].to_numpy().mean() # asse minore citoplasma\n",
    "sAMN =  rana['asse maggiore nucleo'].to_numpy().std() * 5/4\n",
    "sAmN = rana['asse minore nucleo'].to_numpy().std() * 5/4 # asse minore citoplasma"
   ]
  },
  {
   "cell_type": "code",
   "execution_count": 5,
   "metadata": {},
   "outputs": [
    {
     "name": "stdout",
     "output_type": "stream",
     "text": [
      "Citoratio:  0.61 ± 0.15 μm\n",
      "Nucleoratio:  0.56 ± 0.05 μm\n"
     ]
    }
   ],
   "source": [
    "citoratio = AmC/AMC\n",
    "scitoratio = citoratio*np.sqrt((sAMC/AMC)**2 + (sAmC/AmC)**2)\n",
    "nucleoratio = AmN/AMN\n",
    "snucleoratio = nucleoratio*np.sqrt((sAMN/AMC)**2 + (sAmN/AmN)**2)\n",
    "\n",
    "print('Citoratio: ',final_val(citoratio,scitoratio,udm='μm'))\n",
    "print('Nucleoratio: ',final_val(nucleoratio,snucleoratio,udm='μm'))"
   ]
  }
 ],
 "metadata": {
  "kernelspec": {
   "display_name": "Python 3",
   "language": "python",
   "name": "python3"
  },
  "language_info": {
   "codemirror_mode": {
    "name": "ipython",
    "version": 3
   },
   "file_extension": ".py",
   "mimetype": "text/x-python",
   "name": "python",
   "nbconvert_exporter": "python",
   "pygments_lexer": "ipython3",
   "version": "3.13.0"
  }
 },
 "nbformat": 4,
 "nbformat_minor": 2
}
