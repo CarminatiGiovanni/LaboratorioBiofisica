{
 "cells": [
  {
   "cell_type": "code",
   "execution_count": 1,
   "id": "4fd41a49",
   "metadata": {},
   "outputs": [],
   "source": [
    "from matplotlib import pyplot as plt\n",
    "import numpy as np\n",
    "import pandas as pd\n",
    "import plotly.express as px\n",
    "import os\n",
    "import sys\n",
    "import plotly.graph_objects as go \n",
    "dir_path = os.path.abspath('')\n",
    "sys.path.append(dir_path + '/../')\n",
    "from labbiofisica import final_val"
   ]
  },
  {
   "cell_type": "code",
   "execution_count": 36,
   "id": "985d4be9",
   "metadata": {},
   "outputs": [],
   "source": [
    "# concentrazioni GuHCl in µM\n",
    "concentrazioni = np.array([0,1.55, 3.07, 4.63, 6.20, 7.73]) # uM"
   ]
  },
  {
   "cell_type": "code",
   "execution_count": 45,
   "id": "90e353ff",
   "metadata": {},
   "outputs": [],
   "source": [
    "filename = './data/fondoPBS.TXT'\n",
    "\n",
    "fondo = pd.read_csv(filename, sep='\\t', header=None, skiprows=19)  # Adjust the delimiter if necessary\n",
    "fondo.columns = ['Wavelength', 'Absorbance']\n",
    "fondo.tail()\n",
    "\n",
    "\n",
    "coda_fondo = np.mean(fondo['Absorbance'][fondo['Wavelength'] > 270])\n",
    "\n",
    "fondo['Absorbance'] = fondo['Absorbance'] - coda_fondo\n",
    "\n",
    "# plt.title('fondo')\n",
    "# plt.plot(fondo['Wavelength'], fondo['Absorbance'])\n",
    "# plt.show()"
   ]
  },
  {
   "cell_type": "code",
   "execution_count": 46,
   "id": "e9a0215d",
   "metadata": {},
   "outputs": [
    {
     "data": {
      "application/vnd.plotly.v1+json": {
       "config": {
        "plotlyServerURL": "https://plot.ly"
       },
       "data": [
        {
         "line": {
          "color": "#30123b"
         },
         "mode": "lines",
         "name": "0.0",
         "type": "scatter",
         "x": {
          "bdata": "AAAAAADgdUAAAAAAANB1QAAAAAAAwHVAAAAAAACwdUAAAAAAAKB1QAAAAAAAkHVAAAAAAACAdUAAAAAAAHB1QAAAAAAAYHVAAAAAAABQdUAAAAAAAEB1QAAAAAAAMHVAAAAAAAAgdUAAAAAAABB1QAAAAAAAAHVAAAAAAADwdEAAAAAAAOB0QAAAAAAA0HRAAAAAAADAdEAAAAAAALB0QAAAAAAAoHRAAAAAAACQdEAAAAAAAIB0QAAAAAAAcHRAAAAAAABgdEAAAAAAAFB0QAAAAAAAQHRAAAAAAAAwdEAAAAAAACB0QAAAAAAAEHRAAAAAAAAAdEAAAAAAAPBzQAAAAAAA4HNAAAAAAADQc0AAAAAAAMBzQAAAAAAAsHNAAAAAAACgc0AAAAAAAJBzQAAAAAAAgHNAAAAAAABwc0AAAAAAAGBzQAAAAAAAUHNAAAAAAABAc0AAAAAAADBzQAAAAAAAIHNAAAAAAAAQc0AAAAAAAABzQAAAAAAA8HJAAAAAAADgckAAAAAAANByQAAAAAAAwHJAAAAAAACwckAAAAAAAKByQAAAAAAAkHJAAAAAAACAckAAAAAAAHByQAAAAAAAYHJAAAAAAABQckAAAAAAAEByQAAAAAAAMHJAAAAAAAAgckAAAAAAABByQAAAAAAAAHJAAAAAAADwcUAAAAAAAOBxQAAAAAAA0HFAAAAAAADAcUAAAAAAALBxQAAAAAAAoHFAAAAAAACQcUAAAAAAAIBxQAAAAAAAcHFAAAAAAABgcUAAAAAAAFBxQAAAAAAAQHFAAAAAAAAwcUAAAAAAACBxQAAAAAAAEHFAAAAAAAAAcUAAAAAAAPBwQAAAAAAA4HBAAAAAAADQcEAAAAAAAMBwQAAAAAAAsHBAAAAAAACgcEAAAAAAAJBwQAAAAAAAgHBAAAAAAABwcEAAAAAAAGBwQAAAAAAAUHBAAAAAAABAcEAAAAAAADBwQAAAAAAAIHBAAAAAAAAQcEAAAAAAAABwQAAAAAAA4G9AAAAAAADAb0AAAAAAAKBvQAAAAAAAgG9AAAAAAABgb0AAAAAAAEBvQAAAAAAAIG9AAAAAAAAAb0AAAAAAAOBuQAAAAAAAwG5AAAAAAACgbkAAAAAAAIBuQAAAAAAAYG5AAAAAAABAbkAAAAAAACBuQAAAAAAAAG5AAAAAAADgbUAAAAAAAMBtQAAAAAAAoG1AAAAAAACAbUAAAAAAAGBtQAAAAAAAQG1AAAAAAAAgbUAAAAAAAABtQAAAAAAA4GxAAAAAAADAbEAAAAAAAKBsQAAAAAAAgGxAAAAAAABgbEAAAAAAAEBsQAAAAAAAIGxAAAAAAAAAbEAAAAAAAOBrQAAAAAAAwGtAAAAAAACga0AAAAAAAIBrQAAAAAAAYGtAAAAAAABAa0AAAAAAACBrQAAAAAAAAGtAAAAAAADgakAAAAAAAMBqQAAAAAAAoGpAAAAAAACAakAAAAAAAGBqQAAAAAAAQGpAAAAAAAAgakAAAAAAAABqQAAAAAAA4GlAAAAAAADAaUAAAAAAAKBpQAAAAAAAgGlAAAAAAABgaUAAAAAAAEBpQAAAAAAAIGlAAAAAAAAAaUAAAAAAAOBoQAAAAAAAwGhAAAAAAACgaEAAAAAAAIBoQAAAAAAAYGhAAAAAAABAaEAAAAAAACBoQAAAAAAAAGhAAAAAAADgZ0AAAAAAAMBnQA==",
          "dtype": "f8"
         },
         "y": {
          "bdata": "wAORRZp4d7+wUx7dCIt6vyBGzy10JXK/QMu6fyxEd7/QMy+H3Xd8v0DNAu0OKXa/0GD+Cpkrc7/QXBlUG5yAv2B/vcKC+3G/sMhaQ6m9eL/AqrNaYI95v0BaDvRQ23a/QCgoRSv3cr/ABdmyfF12v8Atknajj2m/gEf/y7Vocb+A0sJlFTZzvwALmSuDanO/wPGZ7J+ncb/gt5OI8C9yv+C3k4jwL3K/gAorFVRUbb8wLLgf8MBwv5CelEkNbXC/wKseMA+ZYr9AYJD0aRVtv8A/ic+dYG+/gE/JObGHZr/wEHFzKhlwvwBFSUikbWy/AMdl3NRAY7+guFUQA11rv0B6pwLueW6/4Exp/S0BaL+AdsB1xYxgv4ByMJsAw2K/AHe9NEWAU78A/yPTodNjvwA7b2OzI1W/gEnW4egqXb9ABORLqOBgvwA2r+qsFli/AOUMxR1vYr+AqIsUysJXvwBoaAOwASE/AN8ZbVUSWb9AWRZM/FFUvwDB5bFmZEC/ALIS86ykNb8AIAn7dhIhvwBJSQ9Dq0O/AIl9AihGRj8AjiWsjbEjvwAGYW73ck8/wKS+LO3UXD8AFLGIYYdhPwD2CaAYWWI/wCDoaFVLaj9gnBTmPc5kPwBdiUD1D3I/gCSzeofbcT/wBfTCnQtzP3BwsDcxJHc/4E+pEmVveT/gT6kSZW95P8AsQrEVNH0/wCxCsRU0fT8AMgIqHEF6P4C21awzvn8/EC1A22rWgT+wSbclcsGBP1hh+l5DcIQ/YC8UsB2MgD9AaHbdW5GAP0CARX79EIM/CNRi8DDtgz/IKmwGuCCDP1hfsvFgi4U/2LPnMjUJhj9Af6FHjJ6DPxhcOuY8Y4c/2D9PAwZJhz9oXWqEfqaGP5AkCFdAoYY/KLUX0XZMhT94zM6idyqIP0ghkEsceYg/8JVASuzahj/A6LmFrkSIPyDPLt/6sIY/mJZYGY18hj+QPNf34SCJPyhYqgt4mYk/AB4YQPhQij9odTklICaJP1DDfk+sU40/oAcFpWjlhj94Wn7gKk+IP9jMWgpI+4c/qAZhbvdyhz8ABaVo5V6IPyBZTkLpC4k/aHU5JSAmiT+QyD7IsmCKP8hxNbIrLYs/iMsqbAa4iD9Q3ZVdMLiOP8gwJ2iTw48/2OxI9Z1fkD/gsDTwoxqSP/iTMT7MXpI/BJFFmngHlD9EOZhNgGGVP3RQiesYV5g/3J4gsd09nD8kC19f61KfP8ItH0lJD6E/svLLYIxIoj8GYtnMIamjP4zsSstIvaU/sK91qRH6pz9QkNjuHqCpP/obtFcfD6s/gFAXKZSFrT+gTQ6fdCKvP5zaGaa21K8/cCTQYFPnsD8usTIa+byxP4I9JlKazbI/MgIqHEEqtD+Wj6Skh6G0Px5/aVGf5LU/nu488Zwttz+yeofboWG4PxajrrX3qbk/avXVVYFauz/Onzaq04G7P3aqfM9IhL0/chqiCn+Gvj/5tfXTf1bAPwnZeRubncA//fM0YJB0wT+hgVg2c8jBP7u6Y7FNqsE/ae7of7mWwD/iDpvIzAW9Pw5St7OvPLc/3MwhqYWSpz9AOkIG8uxiv4irPeyFApq/EKGCwwsiir9wwB4TKc2OP7gUAU7v4pk/PIAMHTuooj8AZJdTAmIivzh0QuigS5Q/AN4l4xjJPj8AJAn7dhIhv3B/La9cb4M/IIId/wWCcL+IOA8nMJ2avw==",
          "dtype": "f8"
         }
        },
        {
         "line": {
          "color": "#4145ab"
         },
         "mode": "lines",
         "name": "1.55",
         "type": "scatter",
         "x": {
          "bdata": "AAAAAADgdUAAAAAAANB1QAAAAAAAwHVAAAAAAACwdUAAAAAAAKB1QAAAAAAAkHVAAAAAAACAdUAAAAAAAHB1QAAAAAAAYHVAAAAAAABQdUAAAAAAAEB1QAAAAAAAMHVAAAAAAAAgdUAAAAAAABB1QAAAAAAAAHVAAAAAAADwdEAAAAAAAOB0QAAAAAAA0HRAAAAAAADAdEAAAAAAALB0QAAAAAAAoHRAAAAAAACQdEAAAAAAAIB0QAAAAAAAcHRAAAAAAABgdEAAAAAAAFB0QAAAAAAAQHRAAAAAAAAwdEAAAAAAACB0QAAAAAAAEHRAAAAAAAAAdEAAAAAAAPBzQAAAAAAA4HNAAAAAAADQc0AAAAAAAMBzQAAAAAAAsHNAAAAAAACgc0AAAAAAAJBzQAAAAAAAgHNAAAAAAABwc0AAAAAAAGBzQAAAAAAAUHNAAAAAAABAc0AAAAAAADBzQAAAAAAAIHNAAAAAAAAQc0AAAAAAAABzQAAAAAAA8HJAAAAAAADgckAAAAAAANByQAAAAAAAwHJAAAAAAACwckAAAAAAAKByQAAAAAAAkHJAAAAAAACAckAAAAAAAHByQAAAAAAAYHJAAAAAAABQckAAAAAAAEByQAAAAAAAMHJAAAAAAAAgckAAAAAAABByQAAAAAAAAHJAAAAAAADwcUAAAAAAAOBxQAAAAAAA0HFAAAAAAADAcUAAAAAAALBxQAAAAAAAoHFAAAAAAACQcUAAAAAAAIBxQAAAAAAAcHFAAAAAAABgcUAAAAAAAFBxQAAAAAAAQHFAAAAAAAAwcUAAAAAAACBxQAAAAAAAEHFAAAAAAAAAcUAAAAAAAPBwQAAAAAAA4HBAAAAAAADQcEAAAAAAAMBwQAAAAAAAsHBAAAAAAACgcEAAAAAAAJBwQAAAAAAAgHBAAAAAAABwcEAAAAAAAGBwQAAAAAAAUHBAAAAAAABAcEAAAAAAADBwQAAAAAAAIHBAAAAAAAAQcEAAAAAAAABwQAAAAAAA4G9AAAAAAADAb0AAAAAAAKBvQAAAAAAAgG9AAAAAAABgb0AAAAAAAEBvQAAAAAAAIG9AAAAAAAAAb0AAAAAAAOBuQAAAAAAAwG5AAAAAAACgbkAAAAAAAIBuQAAAAAAAYG5AAAAAAABAbkAAAAAAACBuQAAAAAAAAG5AAAAAAADgbUAAAAAAAMBtQAAAAAAAoG1AAAAAAACAbUAAAAAAAGBtQAAAAAAAQG1AAAAAAAAgbUAAAAAAAABtQAAAAAAA4GxAAAAAAADAbEAAAAAAAKBsQAAAAAAAgGxAAAAAAABgbEAAAAAAAEBsQAAAAAAAIGxAAAAAAAAAbEAAAAAAAOBrQAAAAAAAwGtAAAAAAACga0AAAAAAAIBrQAAAAAAAYGtAAAAAAABAa0AAAAAAACBrQAAAAAAAAGtAAAAAAADgakAAAAAAAMBqQAAAAAAAoGpAAAAAAACAakAAAAAAAGBqQAAAAAAAQGpAAAAAAAAgakAAAAAAAABqQAAAAAAA4GlAAAAAAADAaUAAAAAAAKBpQAAAAAAAgGlAAAAAAABgaUAAAAAAAEBpQAAAAAAAIGlAAAAAAAAAaUAAAAAAAOBoQAAAAAAAwGhAAAAAAACgaEAAAAAAAIBoQAAAAAAAYGhAAAAAAABAaEAAAAAAACBoQAAAAAAAAGhAAAAAAADgZ0AAAAAAAMBnQA==",
          "dtype": "f8"
         },
         "y": {
          "bdata": "YNdMvtnmfr94Sgfr/xyCv4CYLy/APnK/MFJhbCHIeb8QZ341BwiCv7AxWkdVE3y/YEPiHksfcr+IX+rnTUWGv8AMcayL22i/MNSa5h2nhL8ASREZVvF+v4DKFd7lIna/EM+9h0uOc7/gOqqaIOp2vyC1pnnHKXK/wLN224Xmcr8gVvFG5pF3v5A5evzepne/oOs00lJ5c7/AJmvUQzRyv4CalIJuL2m/cJy/CYUIcL/gk6RrJt9sv+CTpGsm32y/gCVYHM78ar9ACKwcWmRzv1BFKowtBHG/QNJSeTvCab9gKcsQx7pwv+Dw9EpZhnC/ACxIMxZNZ7+gAyFZwARuv4ALJCh+jHG/oIU97fDXZL9AniRdM/lmv4AcsRafAmC/ALt+wW7YVr/A3NJqSNxjvwD3zJIANVW/ACv7rgj+V79gboYb8Plhv4BD4h5LH1q/QPlJtU/HY78AfzDw3HtYvwD8jAsHQlK/QKZEEr2MYr9g48KBkCxgvwCOklfnGDA/AEDsTKHzKj8AQgQcQpU6PwCsBIvDmU+/AADH155Z0r4AYHtmSYA6vwDFrBdDOUE/wL+y0qQUVD+AQpCDEmZKP8DQXKeRlmo/QERpb/CFaT/AJ/Ik6ZppP+AjYkok0Ws/cAVpxqLpdD/wP4f58gJ0P6DjMQOV8Xc/UOC593DJeT9g+tAF9S17P+AGfH4YIYA/wD46deWzgD+gdVQ1QdSBP7BYUYNpGII/iDaOWItPhT8AdJgvL8CCP5Co3hrYKoU/aFZ9rrZigz8Q4/xNKESEPwAYz6Chf4Y/oL3BFyZTiT9Iv30dOGeIPzhMiSR6GYk/UEj5SbVPiz/g2lAxzt+IP7gtymyQSYo/iH+fceFAjD9A2PD0SlmKPzAMHxFTIo0/OAt72uGvjT+ADKt4I/OMP6Bh+IiYEo0/ECtqMA3Diz9Q1GAaho+MPyC1iZP7HY4/WF6AfXTqjj8omSoYldSNP9z0Zz9SRJA/2LqbpzrkkD9oK/aX3ZORP8C2RZkNMpM/vENRoE/kkz8E6/8c5suVP0haKm9HOJc/TPwYc9cSnD9eB84ZUdqgP8p1GmmpvKI/vPvjvWplpz/AR8SUSKKsP7wrgv+t5LE/RBfUt8xptT8CDqFKzZ66P95sc2N6AsA/bGCrBIsDwz9uxf6yezLGP4ychT3tMMk/Fh3J5T/kzD+1MuGX+hnQPyyazk4G59E/djdPdcht0z+iBtMwfOTUPzKP/MHAE9Y/NXugFRhS1z+KB5RNuWLYP2jQ0D/BZdk/wG7YtihT2j/Ed2LWi0HbP7qgvmVON9w/UkmdgCZi3T/eH+9VK7PeP+GcEaW9EeA/T0ATYcMj4T/TakjcYzniP3xmSYCaquM/Tu53KApE5T9RoE/kSSLnPzlFR3L5X+k/0CwJUFMb7D8wTKYKRnXvP6CJsOHpvfE/oPgx5q5N9D82k2+2uVn3P3BfB84Z+fo/whcmUwVL/j/ImLuWkCMAQH2R0JZzPQBAQots5/vR/z9K6gQ0Ed7+P2aIY13cbv0/TpfFxOYL/D+S6GUUy1X5P07RkVz+6/U/3nGKjuQa8j+Cc0aU9lbpP6hgVFInQN4/HG0csRY/0T/I6lbPSS/JP+jKZ3keHMc/CLQCQ1b3wz/ApDFaR9W9P9jGEWvxacE/0H0AUpu4uz/gvWplwq+/P4AFacaiab8/EDY8vVIWtD/I5uPaULGwPw==",
          "dtype": "f8"
         }
        },
        {
         "line": {
          "color": "#4675ed"
         },
         "mode": "lines",
         "name": "3.07",
         "type": "scatter",
         "x": {
          "bdata": "AAAAAADgdUAAAAAAANB1QAAAAAAAwHVAAAAAAACwdUAAAAAAAKB1QAAAAAAAkHVAAAAAAACAdUAAAAAAAHB1QAAAAAAAYHVAAAAAAABQdUAAAAAAAEB1QAAAAAAAMHVAAAAAAAAgdUAAAAAAABB1QAAAAAAAAHVAAAAAAADwdEAAAAAAAOB0QAAAAAAA0HRAAAAAAADAdEAAAAAAALB0QAAAAAAAoHRAAAAAAACQdEAAAAAAAIB0QAAAAAAAcHRAAAAAAABgdEAAAAAAAFB0QAAAAAAAQHRAAAAAAAAwdEAAAAAAACB0QAAAAAAAEHRAAAAAAAAAdEAAAAAAAPBzQAAAAAAA4HNAAAAAAADQc0AAAAAAAMBzQAAAAAAAsHNAAAAAAACgc0AAAAAAAJBzQAAAAAAAgHNAAAAAAABwc0AAAAAAAGBzQAAAAAAAUHNAAAAAAABAc0AAAAAAADBzQAAAAAAAIHNAAAAAAAAQc0AAAAAAAABzQAAAAAAA8HJAAAAAAADgckAAAAAAANByQAAAAAAAwHJAAAAAAACwckAAAAAAAKByQAAAAAAAkHJAAAAAAACAckAAAAAAAHByQAAAAAAAYHJAAAAAAABQckAAAAAAAEByQAAAAAAAMHJAAAAAAAAgckAAAAAAABByQAAAAAAAAHJAAAAAAADwcUAAAAAAAOBxQAAAAAAA0HFAAAAAAADAcUAAAAAAALBxQAAAAAAAoHFAAAAAAACQcUAAAAAAAIBxQAAAAAAAcHFAAAAAAABgcUAAAAAAAFBxQAAAAAAAQHFAAAAAAAAwcUAAAAAAACBxQAAAAAAAEHFAAAAAAAAAcUAAAAAAAPBwQAAAAAAA4HBAAAAAAADQcEAAAAAAAMBwQAAAAAAAsHBAAAAAAACgcEAAAAAAAJBwQAAAAAAAgHBAAAAAAABwcEAAAAAAAGBwQAAAAAAAUHBAAAAAAABAcEAAAAAAADBwQAAAAAAAIHBAAAAAAAAQcEAAAAAAAABwQAAAAAAA4G9AAAAAAADAb0AAAAAAAKBvQAAAAAAAgG9AAAAAAABgb0AAAAAAAEBvQAAAAAAAIG9AAAAAAAAAb0AAAAAAAOBuQAAAAAAAwG5AAAAAAACgbkAAAAAAAIBuQAAAAAAAYG5AAAAAAABAbkAAAAAAACBuQAAAAAAAAG5AAAAAAADgbUAAAAAAAMBtQAAAAAAAoG1AAAAAAACAbUAAAAAAAGBtQAAAAAAAQG1AAAAAAAAgbUAAAAAAAABtQAAAAAAA4GxAAAAAAADAbEAAAAAAAKBsQAAAAAAAgGxAAAAAAABgbEAAAAAAAEBsQAAAAAAAIGxAAAAAAAAAbEAAAAAAAOBrQAAAAAAAwGtAAAAAAACga0AAAAAAAIBrQAAAAAAAYGtAAAAAAABAa0AAAAAAACBrQAAAAAAAAGtAAAAAAADgakAAAAAAAMBqQAAAAAAAoGpAAAAAAACAakAAAAAAAGBqQAAAAAAAQGpAAAAAAAAgakAAAAAAAABqQAAAAAAA4GlAAAAAAADAaUAAAAAAAKBpQAAAAAAAgGlAAAAAAABgaUAAAAAAAEBpQAAAAAAAIGlAAAAAAAAAaUAAAAAAAOBoQAAAAAAAwGhAAAAAAACgaEAAAAAAAIBoQAAAAAAAYGhAAAAAAABAaEAAAAAAACBoQAAAAAAAAGhAAAAAAADgZ0AAAAAAAMBnQA==",
          "dtype": "f8"
         },
         "y": {
          "bdata": "EHgLJCh+gL/AwJDVrZ57v6A5XRYTm3e/2D4djxmogL/g+X5qvHR7v/D5fmq8dHu/wHyzzY3pab8Y6BN5knSBv4Don+BiRXW/oBAebRyxfr9g2XdF8L99vyABh1ClZne/oLDh6ZWydL8AxAjh0cZ5v8BcxHdi1nO/UPC/lezYcL/AeCPzyB90v5A97fDXZHW/gJEKYwtBbr+gO6WD9X9uvyAqxvmbUHC/UAiPNo5Yc78wm3KFd7lwv8A7pYP1f26/AMcRa/EpYL/Qt+nPfqRwv4C4AZ8fRmi/AA034PPDaL9ADB8RUyJxv0CZKhiV1Gm/QD4FwHgGbb+gmlq21hdpvxBihPBo43C/gIhjXdxGY78AQWX8+4xrv8BE9dbAVmm/4PavrDQpZb9A4lgXt9Fgv4AoJ9pVSFm/AKlqgqj7YL+A7Sqk/KRKv8BDboYb8Fm/QPxvJTs2Yr+AuwopP6lWvwCAOJz51dw+gE7udygKVL/AIAclzLRdvwAP1v85zDe/AJeVJqWgS78AQNR9AFI7PwC8XMR3Yka/AHgDPj+MEL+ARMAhVKlJvwAwDcNHxDQ/QErqBDQRVj+A2m0XmutUPwA9CtejcF0/QAzlRLsKaT/AP2oTJ/dbP7DUz5uKVHA/YEaU9gZfcD8QRWRYxRtxP3B06spneXY/EL+36c9+fD+gbMoV3uV6PwBoImx4en0/gC9MpgpGfT8whc5r7BKBP6hLVG8NbIE/uNMrZRnihD/AoKF/gouBP0CAmlq21oM/oGVrfZHQgj/gmsk329yEP4DOa+wS1Yc/SCKJXkaxiD8gXTP5ZpuHP+Cx9KEL6oc/sB8pIsMqij8IHxFTIomKP+hVKxN+qYs/gHKiXYWUiz/o4ZLjTumMP0jHYwYq44s/kFZD4h5Liz+gxacAGM+MP5hTVz7L84w/UDm0yHa+iz+Q+dUcIJiPP/hrskY9RI8/AE+vlGWIjz+036Eo0CeQPxgXDoRkAZE/+NmPFJFhkz+kZg+0AkOUP1C3ek5635Y/DO0qpPykmD8Uyol2FVKcPzbg88MI4aA/NmdEaW/wpD8UCW05l+KpP8LTK2UZYrA/Oq+xS1TvtD/+snvysNC6P53vp8ZL98A/1y/YDdvWxD/hwoGQLCDKP+EjYkokkc8//pqsUQ+x0j8k7rH0oevVP46vPbMkINk/tLCnHf563D+W58HdWZvfP5c0RuuoWuE/MEJ4tHG04j/vj/eqlfnjPxg+IqZEAuU/VDVB1H3w5T/uWkI+6MnmP0HUfQBSi+c/d9Zuu9BM6D/3Nv3ZjwTpPx0gmKPH3+k/10y+2ea26j+vWpnwS+3rP/up8dJNUu0/8wLso1NH7z95AfbRqaPwPzJ3LSEf7PE/TB+6oL5d8z/wVSsTfiH1P4XwaOOILfc/J/c7FAVy+T9IVRNE3f/7P2h5Htydrf4/XANbJViYAEDhQEgWMH0BQJkSSfQyxgFABcWPMXepAUCFQgQcQlEBQFs9J71v+ABAAyFZwASqAEA3/dmPFA0AQOgwX16Adf4/pmYPtAK7/D9e1y/YDdP5P8YWghyUqPY/boYb8PlZ8j8/qfbpeLzqP+dSXFX2TeA/bnfWbruw1D+uG7YtykzQP7WJk/sdSs4/3cg88gfDyj+tga0SLM7GP0UqjC0E+cM/lZAPejZrwj9tEoPAymHBP8XJ/Q5FQcI/eVORCmPLwD9KpgpGJfW5Pw==",
          "dtype": "f8"
         }
        },
        {
         "line": {
          "color": "#39a2fc"
         },
         "mode": "lines",
         "name": "4.63",
         "type": "scatter",
         "x": {
          "bdata": "AAAAAADgdUAAAAAAANB1QAAAAAAAwHVAAAAAAACwdUAAAAAAAKB1QAAAAAAAkHVAAAAAAACAdUAAAAAAAHB1QAAAAAAAYHVAAAAAAABQdUAAAAAAAEB1QAAAAAAAMHVAAAAAAAAgdUAAAAAAABB1QAAAAAAAAHVAAAAAAADwdEAAAAAAAOB0QAAAAAAA0HRAAAAAAADAdEAAAAAAALB0QAAAAAAAoHRAAAAAAACQdEAAAAAAAIB0QAAAAAAAcHRAAAAAAABgdEAAAAAAAFB0QAAAAAAAQHRAAAAAAAAwdEAAAAAAACB0QAAAAAAAEHRAAAAAAAAAdEAAAAAAAPBzQAAAAAAA4HNAAAAAAADQc0AAAAAAAMBzQAAAAAAAsHNAAAAAAACgc0AAAAAAAJBzQAAAAAAAgHNAAAAAAABwc0AAAAAAAGBzQAAAAAAAUHNAAAAAAABAc0AAAAAAADBzQAAAAAAAIHNAAAAAAAAQc0AAAAAAAABzQAAAAAAA8HJAAAAAAADgckAAAAAAANByQAAAAAAAwHJAAAAAAACwckAAAAAAAKByQAAAAAAAkHJAAAAAAACAckAAAAAAAHByQAAAAAAAYHJAAAAAAABQckAAAAAAAEByQAAAAAAAMHJAAAAAAAAgckAAAAAAABByQAAAAAAAAHJAAAAAAADwcUAAAAAAAOBxQAAAAAAA0HFAAAAAAADAcUAAAAAAALBxQAAAAAAAoHFAAAAAAACQcUAAAAAAAIBxQAAAAAAAcHFAAAAAAABgcUAAAAAAAFBxQAAAAAAAQHFAAAAAAAAwcUAAAAAAACBxQAAAAAAAEHFAAAAAAAAAcUAAAAAAAPBwQAAAAAAA4HBAAAAAAADQcEAAAAAAAMBwQAAAAAAAsHBAAAAAAACgcEAAAAAAAJBwQAAAAAAAgHBAAAAAAABwcEAAAAAAAGBwQAAAAAAAUHBAAAAAAABAcEAAAAAAADBwQAAAAAAAIHBAAAAAAAAQcEAAAAAAAABwQAAAAAAA4G9AAAAAAADAb0AAAAAAAKBvQAAAAAAAgG9AAAAAAABgb0AAAAAAAEBvQAAAAAAAIG9AAAAAAAAAb0AAAAAAAOBuQAAAAAAAwG5AAAAAAACgbkAAAAAAAIBuQAAAAAAAYG5AAAAAAABAbkAAAAAAACBuQAAAAAAAAG5AAAAAAADgbUAAAAAAAMBtQAAAAAAAoG1AAAAAAACAbUAAAAAAAGBtQAAAAAAAQG1AAAAAAAAgbUAAAAAAAABtQAAAAAAA4GxAAAAAAADAbEAAAAAAAKBsQAAAAAAAgGxAAAAAAABgbEAAAAAAAEBsQAAAAAAAIGxAAAAAAAAAbEAAAAAAAOBrQAAAAAAAwGtAAAAAAACga0AAAAAAAIBrQAAAAAAAYGtAAAAAAABAa0AAAAAAACBrQAAAAAAAAGtAAAAAAADgakAAAAAAAMBqQAAAAAAAoGpAAAAAAACAakAAAAAAAGBqQAAAAAAAQGpAAAAAAAAgakAAAAAAAABqQAAAAAAA4GlAAAAAAADAaUAAAAAAAKBpQAAAAAAAgGlAAAAAAABgaUAAAAAAAEBpQAAAAAAAIGlAAAAAAAAAaUAAAAAAAOBoQAAAAAAAwGhAAAAAAACgaEAAAAAAAIBoQAAAAAAAYGhAAAAAAABAaEAAAAAAACBoQAAAAAAAAGhAAAAAAADgZ0AAAAAAAMBnQA==",
          "dtype": "f8"
         },
         "y": {
          "bdata": "kPoHkQw5dr+4KHrgY7CCv5AUH5+QnXe/oDsW26Sicb/wKY4Dr5Z7v3AcP1QaMXO/gHtl3qrrYL+o0EAsmzmEv3Agzy7f+nC/CCtOtRZmgb8wL058taN4v6Bi1SDM7W6/wJBj6xnCcb9wjevf9ZlzvxAh5/1/nHC/oOI48Gq5c78wGcdI9gh1v9CoMoy7QXS/0HQEcLN4cb8AoYMu4dBrv9ABEHf1KnK/EB1XI7vScr8gg9xFmKJsv6C9+njou2u/ICxHyECebb/gcHSV7q5zvwC3CmKga2+/YK+T+rK0Y78Au5o8ZTVtv7A3hgDg2HO/YIicvp6vab9A9IjRcwttv2CeI/JdSm2/gNcRh2wgbb/gm8O12sNuv+B4BaInZWK/QJC8cyhDZb/A/upx32pdv+CWrIpwk2G/YFyOVyB6Yr+Ae2Xequtgv4ABS65i8Vu/oCBAho4dZL+gQ6fn3Vhgv0AEq+rld1q/4Kwzvi8uZb9A/Io1XORev4ALCK2HL0O/AN51NuSfKb+ANxYUBmVKv4ALCK2HL0O/gFJdwMsMS78Ao6zfTEw3v8D1Q2ywcFK/wAFKQ41CUj8AYJLKFHMgv8DxCdl5G1s/wArxSLw8XT+AaaZ7ndRXP+DAHahTHm0/IAfsavKUZT+Av+0JEtttP4BOQX42cm0/4GYqxCPxcj8wfuGVJM91PxAAVdy4xXw/cBlUG5yIfj/AfLJiuDqAPwCyEB0CR4I/kHNiD+1jhT84527XS1OEP2DHf4EgQIY/2I9N8iN+hT8oqUwxB0GHP9gy4Cwly4k/QKQYINEEij8wM2yU9ZuJPzgwgPChRIs/GPVJ7rCJjD8IEk2giEWMP5hI2/gTlY0/cPdynxwFkD/AgCVXsfiNP4DxRXu8kI4/+GhxxjAnkD+wKOyi6IGPP7yECg4viJA/fGgfK/htkD8kLscrED2RPwigUbr0L5E/IEjeOZShkj/kKavpeqKTPwhEiCtn75Q/TOs2qP3Wlj8MIef9f5yYP6D6B5EMOZ4/WMFvQ4zXoD98EALyJVSkP9IGYAMixKk/h0ShZd0/sD9LrmLxm8K0P5+kwAKYMro/ZtmTwOYcwT/6ZTBGJArGP/gwe9l22ss/TIv6JHdY0T9tQIS4cnbVP1TqknGM5Nk/7Q+U2/a93j+bo46Oq9HhP+Ap5Eo9S+Q/yjMvh9235j8/qmG/JxbpPwoqqn6lM+s/++k/a3487T9RbAVNS+zuPwZsByP2KfA/SriQR3DD8D+c5Ef8ilXxP/M64pANxPE/2swhqYUy8j/OHJJaKLnyP0BoPXyZSPM/8Mftl0/28z8saFpiZdT0P4Z1492R0fU/rB+b5Ecc9z8hHR7C+In4P1kV4Sajavo/QYAMHTtI/D8MYTWWsFb+Pys5J/bQTgBAH9YbtcJEAUDAd5s3ThoCQGnFNxQ+awJANZcbDHWoAkAbnfNTHJcCQED6Jk2DMgJA6uv5muUCAkA8Un3nF7UBQAoQBTOmcAFASWJJufvsAEA+CWzOwUMAQICAtWrXJP8/9n04SIgS/T+q1y0CY536Pwh6qG3DSPc/4gSm07qt8j+BXOLIA9HrPw/lC1pIAOI/68cm+RE/1T+vSbclckHQPx6XOPJAZM4/Bh6mfXN/zj+mfXN/9bjIPxb1Se6wick/znnGvmTjxj+WsaGb/YHDP25VEtkHWcM/cr98smK4wz8Tj4tqEVG+Pw==",
          "dtype": "f8"
         }
        },
        {
         "line": {
          "color": "#1bcfd4"
         },
         "mode": "lines",
         "name": "6.2",
         "type": "scatter",
         "x": {
          "bdata": "AAAAAADgdUAAAAAAANB1QAAAAAAAwHVAAAAAAACwdUAAAAAAAKB1QAAAAAAAkHVAAAAAAACAdUAAAAAAAHB1QAAAAAAAYHVAAAAAAABQdUAAAAAAAEB1QAAAAAAAMHVAAAAAAAAgdUAAAAAAABB1QAAAAAAAAHVAAAAAAADwdEAAAAAAAOB0QAAAAAAA0HRAAAAAAADAdEAAAAAAALB0QAAAAAAAoHRAAAAAAACQdEAAAAAAAIB0QAAAAAAAcHRAAAAAAABgdEAAAAAAAFB0QAAAAAAAQHRAAAAAAAAwdEAAAAAAACB0QAAAAAAAEHRAAAAAAAAAdEAAAAAAAPBzQAAAAAAA4HNAAAAAAADQc0AAAAAAAMBzQAAAAAAAsHNAAAAAAACgc0AAAAAAAJBzQAAAAAAAgHNAAAAAAABwc0AAAAAAAGBzQAAAAAAAUHNAAAAAAABAc0AAAAAAADBzQAAAAAAAIHNAAAAAAAAQc0AAAAAAAABzQAAAAAAA8HJAAAAAAADgckAAAAAAANByQAAAAAAAwHJAAAAAAACwckAAAAAAAKByQAAAAAAAkHJAAAAAAACAckAAAAAAAHByQAAAAAAAYHJAAAAAAABQckAAAAAAAEByQAAAAAAAMHJAAAAAAAAgckAAAAAAABByQAAAAAAAAHJAAAAAAADwcUAAAAAAAOBxQAAAAAAA0HFAAAAAAADAcUAAAAAAALBxQAAAAAAAoHFAAAAAAACQcUAAAAAAAIBxQAAAAAAAcHFAAAAAAABgcUAAAAAAAFBxQAAAAAAAQHFAAAAAAAAwcUAAAAAAACBxQAAAAAAAEHFAAAAAAAAAcUAAAAAAAPBwQAAAAAAA4HBAAAAAAADQcEAAAAAAAMBwQAAAAAAAsHBAAAAAAACgcEAAAAAAAJBwQAAAAAAAgHBAAAAAAABwcEAAAAAAAGBwQAAAAAAAUHBAAAAAAABAcEAAAAAAADBwQAAAAAAAIHBAAAAAAAAQcEAAAAAAAABwQAAAAAAA4G9AAAAAAADAb0AAAAAAAKBvQAAAAAAAgG9AAAAAAABgb0AAAAAAAEBvQAAAAAAAIG9AAAAAAAAAb0AAAAAAAOBuQAAAAAAAwG5AAAAAAACgbkAAAAAAAIBuQAAAAAAAYG5AAAAAAABAbkAAAAAAACBuQAAAAAAAAG5AAAAAAADgbUAAAAAAAMBtQAAAAAAAoG1AAAAAAACAbUAAAAAAAGBtQAAAAAAAQG1AAAAAAAAgbUAAAAAAAABtQAAAAAAA4GxAAAAAAADAbEAAAAAAAKBsQAAAAAAAgGxAAAAAAABgbEAAAAAAAEBsQAAAAAAAIGxAAAAAAAAAbEAAAAAAAOBrQAAAAAAAwGtAAAAAAACga0AAAAAAAIBrQAAAAAAAYGtAAAAAAABAa0AAAAAAACBrQAAAAAAAAGtAAAAAAADgakAAAAAAAMBqQAAAAAAAoGpAAAAAAACAakAAAAAAAGBqQAAAAAAAQGpAAAAAAAAgakAAAAAAAABqQAAAAAAA4GlAAAAAAADAaUAAAAAAAKBpQAAAAAAAgGlAAAAAAABgaUAAAAAAAEBpQAAAAAAAIGlAAAAAAAAAaUAAAAAAAOBoQAAAAAAAwGhAAAAAAACgaEAAAAAAAIBoQAAAAAAAYGhAAAAAAABAaEAAAAAAACBoQAAAAAAAAGhAAAAAAADgZ0AAAAAAAMBnQA==",
          "dtype": "f8"
         },
         "y": {
          "bdata": "ADV8C+vGh7+AnziAft+Lv3BzKhkAqoS/OK946pEGg78QdeYeEr6Dv/BquTMTDH+/8FCiJY+nfb+wpkBmZ9GHvxDo2hfQC4O/iFWDMLd7hb8whgDg2LN/v4CYoIZvYXW/IJ1IMNXMcr9gc/G3PUF6v0DylUBK7HK/MCbEXFK1db/gDg2LUddyv3BDU3b6QXW/oEgT7wBPcr9guI/cmnRzv0A1ejVAaWi/kH6JeOv8c7/w1k6UhERyv2BHcY46Om6/gPkrZK4Mar/QDg2LUddyvyAqVDcXf3O/4MKdCyO9aL9gLcxCO6dxv4CCGVOwxnG/AFex+E1hZb9gR3GOOjpuv1C8H7dfPnG/YEdxjjo6br+AhO/9DdprvwBRhqqYSl+/QHoYWp2cYb/A4ET0a+tnvwBFf2jmyVW/AIvfFFYqaL/AWKZfIt5av8CWj6Skh2G/APyLoDGTaL8A20yFeCROvwAG1JtR80W/4KwW2GMiZb9gswbvq3Jhv4C3W5IDdlW/AAEUI0vmSL8AgGCqmbXkvgAGYW73cj+/AH79EBssPL8A6xnCMcs+vwCs5c5MMDw/QPcDHhhAWD8AxLMEGQEVPwC29dN/1lw/QMu6fyxEZz9AKnCyDdxhP0A//tKiPnE/wKm6RzZXdT8gj4tqEVF0P/BtbHak+nY/sGis/Z3teT+gtvEnKht+P6DzUxwHXoE/oAzH8xlQgz/Yz9TrFoGFP2gFvw0xXoc/SDzZzYx+iD/QcwtdiUCJP5huS+SCM4w/+MhYbf5fiT+AGf7TDRSMP5D7VuvE5Yw/YNx/ZDp0jj9YUbzK2qaMP6hquwm+aY4/3AWDa+7okT+kW+hKBKqRP0CPiv87opQ/eMWM8PYglj9EGapiKv2WP4Dct1onLpk/bIR+pl63mj8IZoUi3c+bP9hEZi5weZ4/TJo/prVpnj/iPJzAdFqgP4CSO2wiM6A/DMnJxK2CoT/GOerouBqiP8rhk04kmKM/0muzsRLzpT8mopi8AWanP2i5bHTOT6o/wFyLFqBtrj9cjexKy8ixPwTqzaj5qrU/nO51Ul8Wuz9WaYtrfGbBPwDFyJI51sU/XMgjuJHyyz+FlnX/WKjRP0Z55uWwG9Y/tHOaBdo92z8VWABTBp7gP5cA/FOq1OM/56+QuTI45z95q65DNbXqP/2IX7GGG+4/mPijqDO/8D/IluXrMkTyP1A0D2CRp/M/cH8uGjLm9D84wTdNn+X1P+yOxTapsPY/wAzGiERp9z8mkBK7tv/3PyhHAaJgjvg/TFewjXj6+D/kwKvlzpT5P0rLSL2nOvo/pItNK4UI+z/Ef7qBAjf8PyI6BI4EYv0/YN7jTBP+/j8uyQG7miAAQPXVVYFaMAFA2hoRjIPvAUAjTifZ6pYCQGTL8nUZIgNALEKxFTSRA0Dzx7Q2jVEDQMCxZ89ljgNAy5vDtdonA0CchNIXQvICQC2ZY3lXoQJAPrK5ap5HAkBb0lEOZvcBQC+i7Zi6jwFAnZyhuOMxAUCyYrg6AIYAQKYIcHoXN/8/TsqkhjZI/T9I93MK8vv6Pz6sN2qFsfc/WKZfIt6C8z87KChFK4frPx9CXDl79+E/Dg2LUdf61j+uHYzYJ6DRP0rUCz7N6dA/NHo1QGnozz9cQC/cuXDMPzwsDfyoxss/9MhYbf6fxz9EdQEvM6zGPxQJpppZi8c/GKchqvCnwj+8gm3Ekx3DPw==",
          "dtype": "f8"
         }
        },
        {
         "line": {
          "color": "#24eca6"
         },
         "mode": "lines",
         "name": "7.73",
         "type": "scatter",
         "x": {
          "bdata": "AAAAAADgdUAAAAAAANB1QAAAAAAAwHVAAAAAAACwdUAAAAAAAKB1QAAAAAAAkHVAAAAAAACAdUAAAAAAAHB1QAAAAAAAYHVAAAAAAABQdUAAAAAAAEB1QAAAAAAAMHVAAAAAAAAgdUAAAAAAABB1QAAAAAAAAHVAAAAAAADwdEAAAAAAAOB0QAAAAAAA0HRAAAAAAADAdEAAAAAAALB0QAAAAAAAoHRAAAAAAACQdEAAAAAAAIB0QAAAAAAAcHRAAAAAAABgdEAAAAAAAFB0QAAAAAAAQHRAAAAAAAAwdEAAAAAAACB0QAAAAAAAEHRAAAAAAAAAdEAAAAAAAPBzQAAAAAAA4HNAAAAAAADQc0AAAAAAAMBzQAAAAAAAsHNAAAAAAACgc0AAAAAAAJBzQAAAAAAAgHNAAAAAAABwc0AAAAAAAGBzQAAAAAAAUHNAAAAAAABAc0AAAAAAADBzQAAAAAAAIHNAAAAAAAAQc0AAAAAAAABzQAAAAAAA8HJAAAAAAADgckAAAAAAANByQAAAAAAAwHJAAAAAAACwckAAAAAAAKByQAAAAAAAkHJAAAAAAACAckAAAAAAAHByQAAAAAAAYHJAAAAAAABQckAAAAAAAEByQAAAAAAAMHJAAAAAAAAgckAAAAAAABByQAAAAAAAAHJAAAAAAADwcUAAAAAAAOBxQAAAAAAA0HFAAAAAAADAcUAAAAAAALBxQAAAAAAAoHFAAAAAAACQcUAAAAAAAIBxQAAAAAAAcHFAAAAAAABgcUAAAAAAAFBxQAAAAAAAQHFAAAAAAAAwcUAAAAAAACBxQAAAAAAAEHFAAAAAAAAAcUAAAAAAAPBwQAAAAAAA4HBAAAAAAADQcEAAAAAAAMBwQAAAAAAAsHBAAAAAAACgcEAAAAAAAJBwQAAAAAAAgHBAAAAAAABwcEAAAAAAAGBwQAAAAAAAUHBAAAAAAABAcEAAAAAAADBwQAAAAAAAIHBAAAAAAAAQcEAAAAAAAABwQAAAAAAA4G9AAAAAAADAb0AAAAAAAKBvQAAAAAAAgG9AAAAAAABgb0AAAAAAAEBvQAAAAAAAIG9AAAAAAAAAb0AAAAAAAOBuQAAAAAAAwG5AAAAAAACgbkAAAAAAAIBuQAAAAAAAYG5AAAAAAABAbkAAAAAAACBuQAAAAAAAAG5AAAAAAADgbUAAAAAAAMBtQAAAAAAAoG1AAAAAAACAbUAAAAAAAGBtQAAAAAAAQG1AAAAAAAAgbUAAAAAAAABtQAAAAAAA4GxAAAAAAADAbEAAAAAAAKBsQAAAAAAAgGxAAAAAAABgbEAAAAAAAEBsQAAAAAAAIGxAAAAAAAAAbEAAAAAAAOBrQAAAAAAAwGtAAAAAAACga0AAAAAAAIBrQAAAAAAAYGtAAAAAAABAa0AAAAAAACBrQAAAAAAAAGtAAAAAAADgakAAAAAAAMBqQAAAAAAAoGpAAAAAAACAakAAAAAAAGBqQAAAAAAAQGpAAAAAAAAgakAAAAAAAABqQAAAAAAA4GlAAAAAAADAaUAAAAAAAKBpQAAAAAAAgGlAAAAAAABgaUAAAAAAAEBpQAAAAAAAIGlAAAAAAAAAaUAAAAAAAOBoQAAAAAAAwGhAAAAAAACgaEAAAAAAAIBoQAAAAAAAYGhAAAAAAABAaEAAAAAAACBoQAAAAAAAAGhAAAAAAADgZ0AAAAAAAMBnQA==",
          "dtype": "f8"
         },
         "y": {
          "bdata": "gA6eCU0Sj78YEqJ8QQuNvzCsjbETXoa/cIR+pl63jL/A4XfTLTuIv9hQ3PEmv4m/4KpdE9Iah7/4SLw8nSuOvwCJJlDEIoq/mDKpoQ3Air8gx0j2CDWHv6Be1O5XAYK/yJYeTfVkgr/QfAc/cQCBv+DuVwG+24C/ULclcsEZgL+AA3egTnl8v3AMc4I2OYC/oFjEsMOYfL9gH9YbtcJ8v8AevkwUIX2/8G97gsR2f7+Q5c+3BUt9v/DKoNrgRHy/QLQB2IAIeb9gllrvN9p5v4BcVIuIYnq/4LZhFASPd7+wlUIglzh6v8BfzJasini/4KDa4ET0c79gCU/o9Sd5v/Cy0Tk/xXm/sPKv5ZXrdb8AgeuKGeF1v8BLjdDP1HO/IMUB9Pv+bb+ALLZJRWN1v4A33h0Zq22/ADo+WpwxbL/APJ6WH7hqv0CeswWE1mO/QP7viArVbb9ARx6ILNJkv4AUIApmTGG/YCXnxB7aZ78gr3rAPGRqvwD+ZIwPsze/AJD5gEBnQr8AXFg33h0pvwBQOpFgqjm/gFmHo6t0V7+AD9JT5BBRvwDQ07milAC/wCfxuRPsXz+AAwMIH0pUP4AIjPUNTG4/wEUKZeHraz/A6uQMxR1vP5DGL7yS5HE/4LSn5JzYez/QW8r5Yu99P+i5TE2CN4A/YCWt+IbCgz9A6nb2lQeFP1Dj+nd95og/0MLzUrExiz+wEyUhkbaNP2AQrRVtjo8/qPV+ox03kj8w2nHD76aRPzgsDfyohpM/uGWH+Ictkz/o8BDGT+OUP0BClC9oIZc/6EBkkSbelz84lxsMdViXP3A/br98spg/YK+w4H7AmT/oIVM+BFWZPzB1HhX/d5o/CMiXUMHhmz/ArFCk+zmbP5jkDpvIzJs/uDoA4q5emz9YU+dR8X+dP3D8FwgCZJ4/mFDB4QURnz8YT8sPXOWfP0xuFFlrKKA/sN6oFabvoD/ovpzZrtCiPxz2QgHbwaM/lJwTe2gfpj/sef60UZ2pPwDkS6jg8K0/4qYGms85sT/GkJxM3Kq1P/ojDAOW3Lo/Q1n4+lpXwT8JwhVQqGfGP7cE4J9S5cw/dBB0tKqF0j84a/C+KnfXP4CZ7+Anbt0/3q0s0VkW4j8G9wMeGPDlP1K69C9JFeo/51lJK75R7j94Xio25k3xP0JXIlD9W/M/D0HV6NVY9T9iuhCrPxr3PzxKJTyhr/g/UYTU7ewD+j/O+L64VP36P1q8WBgi//s/sBcK2A6e/D/LRuf8FB/9P1ipoKLqr/0/bHnletsk/j/umpDWGMz+P3i13JkJXv8/TPvm/uodAED/yHTo9KgAQBEXgEbpPgFA7L5jeOzTAUCGOxdGen0CQBAEyNCxLwNA6dK/JJWVA0BgAOFDicIDQDRJLCl3ywNABKbTug3WA0DjF15J8ogDQFvMzw1NhQNApGlQNA9MA0DNbi2T4eQCQE0Ttp+MnQJADvYmhuSQAkAA5lq0ABkCQPCg2XVvsQFAK2haYmUgAUC+FvTeGG4AQPQbJhqkOP8/yHISSl/g/T86JLVQMhH7PzR8C+vGk/c/UEoIVtWj8z/v1CMNbhvsPxuR71LqQuI//rEQHQKn1T9yw++mW9bRP3uGcMyy588/u1XXoZpSzz+z4uKo3ATMP7t868N6Y8k/M4mzImpixj+724MQkO/HP1PNc0S+C8g/PwJGlzdHxj8zjSYXYyDEPw==",
          "dtype": "f8"
         }
        },
        {
         "line": {
          "color": "red",
          "dash": "dot"
         },
         "mode": "lines",
         "name": "Fondo",
         "type": "scatter",
         "x": {
          "bdata": "AAAAAADgdUAAAAAAANB1QAAAAAAAwHVAAAAAAACwdUAAAAAAAKB1QAAAAAAAkHVAAAAAAACAdUAAAAAAAHB1QAAAAAAAYHVAAAAAAABQdUAAAAAAAEB1QAAAAAAAMHVAAAAAAAAgdUAAAAAAABB1QAAAAAAAAHVAAAAAAADwdEAAAAAAAOB0QAAAAAAA0HRAAAAAAADAdEAAAAAAALB0QAAAAAAAoHRAAAAAAACQdEAAAAAAAIB0QAAAAAAAcHRAAAAAAABgdEAAAAAAAFB0QAAAAAAAQHRAAAAAAAAwdEAAAAAAACB0QAAAAAAAEHRAAAAAAAAAdEAAAAAAAPBzQAAAAAAA4HNAAAAAAADQc0AAAAAAAMBzQAAAAAAAsHNAAAAAAACgc0AAAAAAAJBzQAAAAAAAgHNAAAAAAABwc0AAAAAAAGBzQAAAAAAAUHNAAAAAAABAc0AAAAAAADBzQAAAAAAAIHNAAAAAAAAQc0AAAAAAAABzQAAAAAAA8HJAAAAAAADgckAAAAAAANByQAAAAAAAwHJAAAAAAACwckAAAAAAAKByQAAAAAAAkHJAAAAAAACAckAAAAAAAHByQAAAAAAAYHJAAAAAAABQckAAAAAAAEByQAAAAAAAMHJAAAAAAAAgckAAAAAAABByQAAAAAAAAHJAAAAAAADwcUAAAAAAAOBxQAAAAAAA0HFAAAAAAADAcUAAAAAAALBxQAAAAAAAoHFAAAAAAACQcUAAAAAAAIBxQAAAAAAAcHFAAAAAAABgcUAAAAAAAFBxQAAAAAAAQHFAAAAAAAAwcUAAAAAAACBxQAAAAAAAEHFAAAAAAAAAcUAAAAAAAPBwQAAAAAAA4HBAAAAAAADQcEAAAAAAAMBwQAAAAAAAsHBAAAAAAACgcEAAAAAAAJBwQAAAAAAAgHBAAAAAAABwcEAAAAAAAGBwQAAAAAAAUHBAAAAAAABAcEAAAAAAADBwQAAAAAAAIHBAAAAAAAAQcEAAAAAAAABwQAAAAAAA4G9AAAAAAADAb0AAAAAAAKBvQAAAAAAAgG9AAAAAAABgb0AAAAAAAEBvQAAAAAAAIG9AAAAAAAAAb0AAAAAAAOBuQAAAAAAAwG5AAAAAAACgbkAAAAAAAIBuQAAAAAAAYG5AAAAAAABAbkAAAAAAACBuQAAAAAAAAG5AAAAAAADgbUAAAAAAAMBtQAAAAAAAoG1AAAAAAACAbUAAAAAAAGBtQAAAAAAAQG1AAAAAAAAgbUAAAAAAAABtQAAAAAAA4GxAAAAAAADAbEAAAAAAAKBsQAAAAAAAgGxAAAAAAABgbEAAAAAAAEBsQAAAAAAAIGxAAAAAAAAAbEAAAAAAAOBrQAAAAAAAwGtAAAAAAACga0AAAAAAAIBrQAAAAAAAYGtAAAAAAABAa0AAAAAAACBrQAAAAAAAAGtAAAAAAADgakAAAAAAAMBqQAAAAAAAoGpAAAAAAACAakAAAAAAAGBqQAAAAAAAQGpAAAAAAAAgakAAAAAAAABqQAAAAAAA4GlAAAAAAADAaUAAAAAAAKBpQAAAAAAAgGlAAAAAAABgaUAAAAAAAEBpQAAAAAAAIGlAAAAAAAAAaUAAAAAAAOBoQAAAAAAAwGhAAAAAAACgaEAAAAAAAIBoQAAAAAAAYGhAAAAAAABAaEAAAAAAACBoQAAAAAAAAGhAAAAAAADgZ0AAAAAAAMBnQA==",
          "dtype": "f8"
         },
         "y": {
          "bdata": "MF/QQgJGZ78AmSzuPzJNv/gBgc6kTXW/UNHKvcCscL9Q93MK8rNhv3A8nwH1ZnS/8I6M1eb/db9A0HzO3a5nv2jjwRa7fXa/AJseFJSiZb9A0hkYeVlTvzC69ZoeFGS/ACbirfNvZ7/Q1mzlJf9jvzB1V3bB4Gq/cJkMx/MZcL8Q2JyDZ0Jjv4BinSrfM1K/cO9TVWggZr9gmL7XEBxnv3CULv1LUmm/gNU8R+S7ZL/goj7JHTZhv6A+yR02kWm/0AYLJ2n+aL+A9gfKbftevwAXD+85sFy/wJVem42VaL9gaCCWzRxiv2DK+WLvxVe/kIf3HFiOYL8ABkmfVtFPvwC30muzsVK/wHAEqRQ7Wr8gDmjpCrZRv+Cp8j0jEVq/gGtEMA4uXb8gZf1mYrpQvxBn8PeL2WK/QF3eHK7VTr8A8MFrlzZMv4B3nnjOFkC/gJYgI6DCMb9AR1fp7jpLvyD5ZwbxgV2/AA5pVOBkKz8AJJpAEYtIPwBxWYXNADe/QBPThVj9QT+AOsssQrE1v8DMBMO5hkk/4NA+VvDbUD+gG2FREadjP6B06V+SylQ/QI3Qz9TrVj8ARwINNnVeP7DnMjUJ3mA/kMTL07miZD9gccYwJ2hjP2ChZHJqZ2g/AMkeoWZIVT9ATl/P1yxnP4D4+e/Ba2c/oJCdt7HZYT9YgehJmdRwP3BCrz+Jz20/+JsXJ77acT9Qm/9XHTlyP4CDvYkhOWk/4CU49YHkbT+4C5QUWABzP7AN3IE65XE/0AW8zLBRdj9oIjMXuDx2P1gO9FDbhnE/UEDa/wBrdT9wIOup1Vd3P6Bz8Exokng/IAfsavKUdT9Q42w6Arh5P+AxyjMvh30/cN2U8loJfT/gMxKhEWx8P5gxzAna5IA/MNjUeVT8fz9Avr1r0Jd+PzBP54pSQoA/uIYZGk8EgT8IobyPozmCP/iiBP2FHoE/IIMVp1oLgz/wSScSTDWDPxiEud3LfYI/uBMlIZG2gT/Y8pGU9DCEP3CERUWcToI/mO8ZidAIhj/oew3BcRmHP4AjSKXY0Yg/KD3TS4xlij+od/F+3H6JP9hUFoVdFI0/8B38xAH0iz/4G7RXHw+NPzhStkjajY4/AJmdRe9UkD9QM2spIO2PP+x71F+vsJA/jNDP1OsWkT8wXvOqzmqRP+CuXkVGB5Q/JAUWwJSBkz/AIOnTKvqTP/TkmgKZnZU/NHUeFf93lD9MNh5ssduXPxz9L9eiBZg/9MKdCyO9mD/ET+Pe/IaZP3jBpzl5kZk/+E1hpYKKmj8w16IFaFudPyzYRjzZzZw/oLjjTX6Lnj/8Z82Pv7SgP8KDZte9FaE/5GN3gZICoz9WRbjJqDKkP7bwvFRszKM/xNDq5AzFpT8QscHCSZqnP1zoSgSqf6g/4gM7/gsEqT/84HzqWKWsP4akFkomp64/MBSwHYzYrz+UTiSYamaxP408EFmkibM/v0S8df7ttj9Lzok9tI+5P3PTZpyGqL4/elbSim8owj8kDtlAutjGP9AlHHqLh80/H/gYrDjV0z8hQIaOHVTbP4ma6PNRxuI/N24xPze06T8NOEvJclLxPwnFVtC0hPU/lwD8U6oE+D/h0jHnGTv4P71w58JIb/c/1nQ90XWh9j+l2xK54Mz1P2fuIeF7P/Q/SYEFMGUg8z+amgRvSOPwP+gyNQneEO0/eSCySBNv6T/uPzIdOr3kPw==",
          "dtype": "f8"
         }
        }
       ],
       "layout": {
        "height": 400,
        "legend": {
         "title": {
          "text": "Concentration [µM]"
         },
         "x": 1,
         "xanchor": "right",
         "y": 1,
         "yanchor": "top"
        },
        "margin": {
         "b": 20,
         "l": 20,
         "r": 20,
         "t": 20
        },
        "template": {
         "data": {
          "bar": [
           {
            "error_x": {
             "color": "#2a3f5f"
            },
            "error_y": {
             "color": "#2a3f5f"
            },
            "marker": {
             "line": {
              "color": "#E5ECF6",
              "width": 0.5
             },
             "pattern": {
              "fillmode": "overlay",
              "size": 10,
              "solidity": 0.2
             }
            },
            "type": "bar"
           }
          ],
          "barpolar": [
           {
            "marker": {
             "line": {
              "color": "#E5ECF6",
              "width": 0.5
             },
             "pattern": {
              "fillmode": "overlay",
              "size": 10,
              "solidity": 0.2
             }
            },
            "type": "barpolar"
           }
          ],
          "carpet": [
           {
            "aaxis": {
             "endlinecolor": "#2a3f5f",
             "gridcolor": "white",
             "linecolor": "white",
             "minorgridcolor": "white",
             "startlinecolor": "#2a3f5f"
            },
            "baxis": {
             "endlinecolor": "#2a3f5f",
             "gridcolor": "white",
             "linecolor": "white",
             "minorgridcolor": "white",
             "startlinecolor": "#2a3f5f"
            },
            "type": "carpet"
           }
          ],
          "choropleth": [
           {
            "colorbar": {
             "outlinewidth": 0,
             "ticks": ""
            },
            "type": "choropleth"
           }
          ],
          "contour": [
           {
            "colorbar": {
             "outlinewidth": 0,
             "ticks": ""
            },
            "colorscale": [
             [
              0,
              "#0d0887"
             ],
             [
              0.1111111111111111,
              "#46039f"
             ],
             [
              0.2222222222222222,
              "#7201a8"
             ],
             [
              0.3333333333333333,
              "#9c179e"
             ],
             [
              0.4444444444444444,
              "#bd3786"
             ],
             [
              0.5555555555555556,
              "#d8576b"
             ],
             [
              0.6666666666666666,
              "#ed7953"
             ],
             [
              0.7777777777777778,
              "#fb9f3a"
             ],
             [
              0.8888888888888888,
              "#fdca26"
             ],
             [
              1,
              "#f0f921"
             ]
            ],
            "type": "contour"
           }
          ],
          "contourcarpet": [
           {
            "colorbar": {
             "outlinewidth": 0,
             "ticks": ""
            },
            "type": "contourcarpet"
           }
          ],
          "heatmap": [
           {
            "colorbar": {
             "outlinewidth": 0,
             "ticks": ""
            },
            "colorscale": [
             [
              0,
              "#0d0887"
             ],
             [
              0.1111111111111111,
              "#46039f"
             ],
             [
              0.2222222222222222,
              "#7201a8"
             ],
             [
              0.3333333333333333,
              "#9c179e"
             ],
             [
              0.4444444444444444,
              "#bd3786"
             ],
             [
              0.5555555555555556,
              "#d8576b"
             ],
             [
              0.6666666666666666,
              "#ed7953"
             ],
             [
              0.7777777777777778,
              "#fb9f3a"
             ],
             [
              0.8888888888888888,
              "#fdca26"
             ],
             [
              1,
              "#f0f921"
             ]
            ],
            "type": "heatmap"
           }
          ],
          "histogram": [
           {
            "marker": {
             "pattern": {
              "fillmode": "overlay",
              "size": 10,
              "solidity": 0.2
             }
            },
            "type": "histogram"
           }
          ],
          "histogram2d": [
           {
            "colorbar": {
             "outlinewidth": 0,
             "ticks": ""
            },
            "colorscale": [
             [
              0,
              "#0d0887"
             ],
             [
              0.1111111111111111,
              "#46039f"
             ],
             [
              0.2222222222222222,
              "#7201a8"
             ],
             [
              0.3333333333333333,
              "#9c179e"
             ],
             [
              0.4444444444444444,
              "#bd3786"
             ],
             [
              0.5555555555555556,
              "#d8576b"
             ],
             [
              0.6666666666666666,
              "#ed7953"
             ],
             [
              0.7777777777777778,
              "#fb9f3a"
             ],
             [
              0.8888888888888888,
              "#fdca26"
             ],
             [
              1,
              "#f0f921"
             ]
            ],
            "type": "histogram2d"
           }
          ],
          "histogram2dcontour": [
           {
            "colorbar": {
             "outlinewidth": 0,
             "ticks": ""
            },
            "colorscale": [
             [
              0,
              "#0d0887"
             ],
             [
              0.1111111111111111,
              "#46039f"
             ],
             [
              0.2222222222222222,
              "#7201a8"
             ],
             [
              0.3333333333333333,
              "#9c179e"
             ],
             [
              0.4444444444444444,
              "#bd3786"
             ],
             [
              0.5555555555555556,
              "#d8576b"
             ],
             [
              0.6666666666666666,
              "#ed7953"
             ],
             [
              0.7777777777777778,
              "#fb9f3a"
             ],
             [
              0.8888888888888888,
              "#fdca26"
             ],
             [
              1,
              "#f0f921"
             ]
            ],
            "type": "histogram2dcontour"
           }
          ],
          "mesh3d": [
           {
            "colorbar": {
             "outlinewidth": 0,
             "ticks": ""
            },
            "type": "mesh3d"
           }
          ],
          "parcoords": [
           {
            "line": {
             "colorbar": {
              "outlinewidth": 0,
              "ticks": ""
             }
            },
            "type": "parcoords"
           }
          ],
          "pie": [
           {
            "automargin": true,
            "type": "pie"
           }
          ],
          "scatter": [
           {
            "fillpattern": {
             "fillmode": "overlay",
             "size": 10,
             "solidity": 0.2
            },
            "type": "scatter"
           }
          ],
          "scatter3d": [
           {
            "line": {
             "colorbar": {
              "outlinewidth": 0,
              "ticks": ""
             }
            },
            "marker": {
             "colorbar": {
              "outlinewidth": 0,
              "ticks": ""
             }
            },
            "type": "scatter3d"
           }
          ],
          "scattercarpet": [
           {
            "marker": {
             "colorbar": {
              "outlinewidth": 0,
              "ticks": ""
             }
            },
            "type": "scattercarpet"
           }
          ],
          "scattergeo": [
           {
            "marker": {
             "colorbar": {
              "outlinewidth": 0,
              "ticks": ""
             }
            },
            "type": "scattergeo"
           }
          ],
          "scattergl": [
           {
            "marker": {
             "colorbar": {
              "outlinewidth": 0,
              "ticks": ""
             }
            },
            "type": "scattergl"
           }
          ],
          "scattermap": [
           {
            "marker": {
             "colorbar": {
              "outlinewidth": 0,
              "ticks": ""
             }
            },
            "type": "scattermap"
           }
          ],
          "scattermapbox": [
           {
            "marker": {
             "colorbar": {
              "outlinewidth": 0,
              "ticks": ""
             }
            },
            "type": "scattermapbox"
           }
          ],
          "scatterpolar": [
           {
            "marker": {
             "colorbar": {
              "outlinewidth": 0,
              "ticks": ""
             }
            },
            "type": "scatterpolar"
           }
          ],
          "scatterpolargl": [
           {
            "marker": {
             "colorbar": {
              "outlinewidth": 0,
              "ticks": ""
             }
            },
            "type": "scatterpolargl"
           }
          ],
          "scatterternary": [
           {
            "marker": {
             "colorbar": {
              "outlinewidth": 0,
              "ticks": ""
             }
            },
            "type": "scatterternary"
           }
          ],
          "surface": [
           {
            "colorbar": {
             "outlinewidth": 0,
             "ticks": ""
            },
            "colorscale": [
             [
              0,
              "#0d0887"
             ],
             [
              0.1111111111111111,
              "#46039f"
             ],
             [
              0.2222222222222222,
              "#7201a8"
             ],
             [
              0.3333333333333333,
              "#9c179e"
             ],
             [
              0.4444444444444444,
              "#bd3786"
             ],
             [
              0.5555555555555556,
              "#d8576b"
             ],
             [
              0.6666666666666666,
              "#ed7953"
             ],
             [
              0.7777777777777778,
              "#fb9f3a"
             ],
             [
              0.8888888888888888,
              "#fdca26"
             ],
             [
              1,
              "#f0f921"
             ]
            ],
            "type": "surface"
           }
          ],
          "table": [
           {
            "cells": {
             "fill": {
              "color": "#EBF0F8"
             },
             "line": {
              "color": "white"
             }
            },
            "header": {
             "fill": {
              "color": "#C8D4E3"
             },
             "line": {
              "color": "white"
             }
            },
            "type": "table"
           }
          ]
         },
         "layout": {
          "annotationdefaults": {
           "arrowcolor": "#2a3f5f",
           "arrowhead": 0,
           "arrowwidth": 1
          },
          "autotypenumbers": "strict",
          "coloraxis": {
           "colorbar": {
            "outlinewidth": 0,
            "ticks": ""
           }
          },
          "colorscale": {
           "diverging": [
            [
             0,
             "#8e0152"
            ],
            [
             0.1,
             "#c51b7d"
            ],
            [
             0.2,
             "#de77ae"
            ],
            [
             0.3,
             "#f1b6da"
            ],
            [
             0.4,
             "#fde0ef"
            ],
            [
             0.5,
             "#f7f7f7"
            ],
            [
             0.6,
             "#e6f5d0"
            ],
            [
             0.7,
             "#b8e186"
            ],
            [
             0.8,
             "#7fbc41"
            ],
            [
             0.9,
             "#4d9221"
            ],
            [
             1,
             "#276419"
            ]
           ],
           "sequential": [
            [
             0,
             "#0d0887"
            ],
            [
             0.1111111111111111,
             "#46039f"
            ],
            [
             0.2222222222222222,
             "#7201a8"
            ],
            [
             0.3333333333333333,
             "#9c179e"
            ],
            [
             0.4444444444444444,
             "#bd3786"
            ],
            [
             0.5555555555555556,
             "#d8576b"
            ],
            [
             0.6666666666666666,
             "#ed7953"
            ],
            [
             0.7777777777777778,
             "#fb9f3a"
            ],
            [
             0.8888888888888888,
             "#fdca26"
            ],
            [
             1,
             "#f0f921"
            ]
           ],
           "sequentialminus": [
            [
             0,
             "#0d0887"
            ],
            [
             0.1111111111111111,
             "#46039f"
            ],
            [
             0.2222222222222222,
             "#7201a8"
            ],
            [
             0.3333333333333333,
             "#9c179e"
            ],
            [
             0.4444444444444444,
             "#bd3786"
            ],
            [
             0.5555555555555556,
             "#d8576b"
            ],
            [
             0.6666666666666666,
             "#ed7953"
            ],
            [
             0.7777777777777778,
             "#fb9f3a"
            ],
            [
             0.8888888888888888,
             "#fdca26"
            ],
            [
             1,
             "#f0f921"
            ]
           ]
          },
          "colorway": [
           "#636efa",
           "#EF553B",
           "#00cc96",
           "#ab63fa",
           "#FFA15A",
           "#19d3f3",
           "#FF6692",
           "#B6E880",
           "#FF97FF",
           "#FECB52"
          ],
          "font": {
           "color": "#2a3f5f"
          },
          "geo": {
           "bgcolor": "white",
           "lakecolor": "white",
           "landcolor": "#E5ECF6",
           "showlakes": true,
           "showland": true,
           "subunitcolor": "white"
          },
          "hoverlabel": {
           "align": "left"
          },
          "hovermode": "closest",
          "mapbox": {
           "style": "light"
          },
          "paper_bgcolor": "white",
          "plot_bgcolor": "#E5ECF6",
          "polar": {
           "angularaxis": {
            "gridcolor": "white",
            "linecolor": "white",
            "ticks": ""
           },
           "bgcolor": "#E5ECF6",
           "radialaxis": {
            "gridcolor": "white",
            "linecolor": "white",
            "ticks": ""
           }
          },
          "scene": {
           "xaxis": {
            "backgroundcolor": "#E5ECF6",
            "gridcolor": "white",
            "gridwidth": 2,
            "linecolor": "white",
            "showbackground": true,
            "ticks": "",
            "zerolinecolor": "white"
           },
           "yaxis": {
            "backgroundcolor": "#E5ECF6",
            "gridcolor": "white",
            "gridwidth": 2,
            "linecolor": "white",
            "showbackground": true,
            "ticks": "",
            "zerolinecolor": "white"
           },
           "zaxis": {
            "backgroundcolor": "#E5ECF6",
            "gridcolor": "white",
            "gridwidth": 2,
            "linecolor": "white",
            "showbackground": true,
            "ticks": "",
            "zerolinecolor": "white"
           }
          },
          "shapedefaults": {
           "line": {
            "color": "#2a3f5f"
           }
          },
          "ternary": {
           "aaxis": {
            "gridcolor": "white",
            "linecolor": "white",
            "ticks": ""
           },
           "baxis": {
            "gridcolor": "white",
            "linecolor": "white",
            "ticks": ""
           },
           "bgcolor": "#E5ECF6",
           "caxis": {
            "gridcolor": "white",
            "linecolor": "white",
            "ticks": ""
           }
          },
          "title": {
           "x": 0.05
          },
          "xaxis": {
           "automargin": true,
           "gridcolor": "white",
           "linecolor": "white",
           "ticks": "",
           "title": {
            "standoff": 15
           },
           "zerolinecolor": "white",
           "zerolinewidth": 2
          },
          "yaxis": {
           "automargin": true,
           "gridcolor": "white",
           "linecolor": "white",
           "ticks": "",
           "title": {
            "standoff": 15
           },
           "zerolinecolor": "white",
           "zerolinewidth": 2
          }
         }
        },
        "width": 600,
        "xaxis": {
         "range": [
          190,
          270
         ],
         "title": {
          "text": "λ [nm]"
         }
        },
        "yaxis": {
         "title": {
          "text": "Absorbance"
         }
        }
       }
      }
     },
     "metadata": {},
     "output_type": "display_data"
    }
   ],
   "source": [
    "fig = go.Figure()\n",
    "\n",
    "colors = px.colors.sequential.Turbo\n",
    "\n",
    "for i in range(6):\n",
    "    #spectrum = pd.read_csv(f'./data/C{i}.TXT', sep='\\t', header=None, skiprows=19)  # Adjust the delimiter if necessary\n",
    "    spectrumt2 = pd.read_csv(f'./data/C{i}2.TXT', sep='\\t', header=None, skiprows=19)  # Adjust the delimiter if necessary\n",
    "    #spectrum.columns = ['Wavelength', 'Absorbance']\n",
    "    spectrumt2.columns = ['Wavelength', 'Absorbance']\n",
    "    #spectrum = spectrum.dropna()\n",
    "    spectrumt2 = spectrumt2.dropna()\n",
    "    \n",
    "    # tolgo il fondo\n",
    "    #spectrum['Absorbance'] = spectrum['Absorbance'] - fondo['Absorbance']\n",
    "    spectrumt2['Absorbance'] = spectrumt2['Absorbance'] - fondo['Absorbance']\n",
    "\n",
    "    # appaio code:\n",
    "    # coda = spectrum['Absorbance'][spectrum['Wavelength'] == 340].values[0]\n",
    "    coda2 = np.mean(spectrumt2['Absorbance'][spectrumt2['Wavelength'] > 270])\n",
    "    # print(coda2)\n",
    "    # spectrum['Absorbance'] = spectrum['Absorbance'] - coda\n",
    "    spectrumt2['Absorbance'] = spectrumt2['Absorbance'] - coda2\n",
    "\n",
    "    #fig.add_trace(go.Scatter(x=spectrum['Wavelength'], y=spectrum['Absorbance'], mode='lines', name=f'C{i}', line_color=colors[i]))\n",
    "    fig.add_trace(go.Scatter(x=spectrumt2['Wavelength'], y=spectrumt2['Absorbance'], mode='lines', name=f\"{concentrazioni[i]}\", line_color=colors[i]))\n",
    "\n",
    "fig.add_trace(go.Scatter(x=fondo['Wavelength'], y=fondo['Absorbance'], mode='lines', name='Fondo', line_color='red', line=dict(dash='dot')))\n",
    "\n",
    "fig.update_layout(\n",
    "    xaxis_title='λ [nm]',\n",
    "    yaxis_title='Absorbance',\n",
    "    legend_title='Concentration [µM]',\n",
    "    width=600,\n",
    "    height=400,\n",
    "    legend=dict(\n",
    "        x=1,\n",
    "        y=1,\n",
    "        xanchor='right',\n",
    "        yanchor='top',\n",
    "    ),\n",
    "    margin=dict(l=20, r=20, t=20, b=20),\n",
    "    xaxis_range=[190, 270]\n",
    ")\n",
    "\n",
    "fig.show()\n"
   ]
  }
 ],
 "metadata": {
  "kernelspec": {
   "display_name": "Python 3",
   "language": "python",
   "name": "python3"
  },
  "language_info": {
   "codemirror_mode": {
    "name": "ipython",
    "version": 3
   },
   "file_extension": ".py",
   "mimetype": "text/x-python",
   "name": "python",
   "nbconvert_exporter": "python",
   "pygments_lexer": "ipython3",
   "version": "3.13.0"
  }
 },
 "nbformat": 4,
 "nbformat_minor": 5
}
