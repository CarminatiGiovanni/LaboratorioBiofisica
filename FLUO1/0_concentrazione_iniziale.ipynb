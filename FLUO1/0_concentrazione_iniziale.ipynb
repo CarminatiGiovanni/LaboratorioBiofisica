{
 "cells": [
  {
   "cell_type": "code",
   "execution_count": 6,
   "id": "4d2be8f0",
   "metadata": {},
   "outputs": [],
   "source": [
    "from matplotlib import pyplot as plt\n",
    "import numpy as np\n",
    "import pandas as pd\n",
    "import plotly.express as px\n",
    "import os\n",
    "import sys\n",
    "import plotly.graph_objects as go \n",
    "dir_path = os.path.abspath('')\n",
    "sys.path.append(dir_path + '/../')\n",
    "from labbiofisica import Interpolazione, final_val\n",
    "from scipy.optimize import curve_fit\n",
    "from scipy.interpolate import interp1d"
   ]
  },
  {
   "cell_type": "code",
   "execution_count": 7,
   "id": "01d17c74",
   "metadata": {},
   "outputs": [],
   "source": [
    "# FUNZIone per estrarre i massimi con fit parabolico\n",
    "def max_fit_parabolic(x, λcenter, a, IMAX): # -a*(x-λcenter)**2 + IMAX\n",
    "    return -a*(x-λcenter)**2 + IMAX"
   ]
  },
  {
   "cell_type": "code",
   "execution_count": 8,
   "id": "adc5b0fc",
   "metadata": {},
   "outputs": [],
   "source": [
    "filename = './data/rodamina_ass_05_g1.TXT'\n",
    "\n",
    "ass_rodamina = pd.read_csv(filename,sep='\\t',header=None,skiprows=19,nrows=208) # 630 - 423 nm\n",
    "ass_rodamina.columns = ['λ','A']\n",
    "\n",
    "filename = './data/fondo acqua.TXT'\n",
    "\n",
    "fondo_acqua = pd.read_csv(filename,sep='\\t',header=None,skiprows=19,nrows=251)\n",
    "fondo_acqua.columns = ['λ','A']\n",
    "fondo_acqua = fondo_acqua[(fondo_acqua['λ'] <= 630) & (fondo_acqua['λ'] >= 423)]"
   ]
  },
  {
   "cell_type": "code",
   "execution_count": 9,
   "id": "27b8195d",
   "metadata": {},
   "outputs": [
    {
     "data": {
      "application/vnd.plotly.v1+json": {
       "config": {
        "plotlyServerURL": "https://plot.ly"
       },
       "data": [
        {
         "mode": "lines",
         "name": "Signal",
         "opacity": 0.3,
         "type": "scatter",
         "x": {
          "bdata": "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",
          "dtype": "f8"
         },
         "y": {
          "bdata": "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",
          "dtype": "f8"
         }
        },
        {
         "mode": "lines",
         "name": "Background",
         "opacity": 0.3,
         "type": "scatter",
         "x": {
          "bdata": "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",
          "dtype": "f8"
         },
         "y": {
          "bdata": "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",
          "dtype": "f8"
         }
        },
        {
         "line": {
          "width": 4
         },
         "mode": "lines",
         "name": "Spectrum Rhodamine 6G",
         "type": "scatter",
         "x": {
          "bdata": "AAAAAACwg0AAAAAAAKiDQAAAAAAAoINAAAAAAACYg0AAAAAAAJCDQAAAAAAAiINAAAAAAACAg0AAAAAAAHiDQAAAAAAAcINAAAAAAABog0AAAAAAAGCDQAAAAAAAWINAAAAAAABQg0AAAAAAAEiDQAAAAAAAQINAAAAAAAA4g0AAAAAAADCDQAAAAAAAKINAAAAAAAAgg0AAAAAAABiDQAAAAAAAEINAAAAAAAAIg0AAAAAAAACDQAAAAAAA+IJAAAAAAADwgkAAAAAAAOiCQAAAAAAA4IJAAAAAAADYgkAAAAAAANCCQAAAAAAAyIJAAAAAAADAgkAAAAAAALiCQAAAAAAAsIJAAAAAAACogkAAAAAAAKCCQAAAAAAAmIJAAAAAAACQgkAAAAAAAIiCQAAAAAAAgIJAAAAAAAB4gkAAAAAAAHCCQAAAAAAAaIJAAAAAAABggkAAAAAAAFiCQAAAAAAAUIJAAAAAAABIgkAAAAAAAECCQAAAAAAAOIJAAAAAAAAwgkAAAAAAACiCQAAAAAAAIIJAAAAAAAAYgkAAAAAAABCCQAAAAAAACIJAAAAAAAAAgkAAAAAAAPiBQAAAAAAA8IFAAAAAAADogUAAAAAAAOCBQAAAAAAA2IFAAAAAAADQgUAAAAAAAMiBQAAAAAAAwIFAAAAAAAC4gUAAAAAAALCBQAAAAAAAqIFAAAAAAACggUAAAAAAAJiBQAAAAAAAkIFAAAAAAACIgUAAAAAAAICBQAAAAAAAeIFAAAAAAABwgUAAAAAAAGiBQAAAAAAAYIFAAAAAAABYgUAAAAAAAFCBQAAAAAAASIFAAAAAAABAgUAAAAAAADiBQAAAAAAAMIFAAAAAAAAogUAAAAAAACCBQAAAAAAAGIFAAAAAAAAQgUAAAAAAAAiBQAAAAAAAAIFAAAAAAAD4gEAAAAAAAPCAQAAAAAAA6IBAAAAAAADggEAAAAAAANiAQAAAAAAA0IBAAAAAAADIgEAAAAAAAMCAQAAAAAAAuIBAAAAAAACwgEAAAAAAAKiAQAAAAAAAoIBAAAAAAACYgEAAAAAAAJCAQAAAAAAAiIBAAAAAAACAgEAAAAAAAHiAQAAAAAAAcIBAAAAAAABogEAAAAAAAGCAQAAAAAAAWIBAAAAAAABQgEAAAAAAAEiAQAAAAAAAQIBAAAAAAAA4gEAAAAAAADCAQAAAAAAAKIBAAAAAAAAggEAAAAAAABiAQAAAAAAAEIBAAAAAAAAIgEAAAAAAAACAQAAAAAAA8H9AAAAAAADgf0AAAAAAANB/QAAAAAAAwH9AAAAAAACwf0AAAAAAAKB/QAAAAAAAkH9AAAAAAACAf0AAAAAAAHB/QAAAAAAAYH9AAAAAAABQf0AAAAAAAEB/QAAAAAAAMH9AAAAAAAAgf0AAAAAAABB/QAAAAAAAAH9AAAAAAADwfkAAAAAAAOB+QAAAAAAA0H5AAAAAAADAfkAAAAAAALB+QAAAAAAAoH5AAAAAAACQfkAAAAAAAIB+QAAAAAAAcH5AAAAAAABgfkAAAAAAAFB+QAAAAAAAQH5AAAAAAAAwfkAAAAAAACB+QAAAAAAAEH5AAAAAAAAAfkAAAAAAAPB9QAAAAAAA4H1AAAAAAADQfUAAAAAAAMB9QAAAAAAAsH1AAAAAAACgfUAAAAAAAJB9QAAAAAAAgH1AAAAAAABwfUAAAAAAAGB9QAAAAAAAUH1AAAAAAABAfUAAAAAAADB9QAAAAAAAIH1AAAAAAAAQfUAAAAAAAAB9QAAAAAAA8HxAAAAAAADgfEAAAAAAANB8QAAAAAAAwHxAAAAAAACwfEAAAAAAAKB8QAAAAAAAkHxAAAAAAACAfEAAAAAAAHB8QAAAAAAAYHxAAAAAAABQfEAAAAAAAEB8QAAAAAAAMHxAAAAAAAAgfEAAAAAAABB8QAAAAAAAAHxAAAAAAADwe0AAAAAAAOB7QAAAAAAA0HtAAAAAAADAe0AAAAAAALB7QAAAAAAAoHtAAAAAAACQe0AAAAAAAIB7QAAAAAAAcHtAAAAAAABge0AAAAAAAFB7QAAAAAAAQHtAAAAAAAAwe0AAAAAAACB7QAAAAAAAEHtAAAAAAAAAe0AAAAAAAPB6QAAAAAAA4HpAAAAAAADQekAAAAAAAMB6QAAAAAAAsHpAAAAAAACgekAAAAAAAJB6QAAAAAAAgHpAAAAAAABwekA=",
          "dtype": "f8"
         },
         "y": {
          "bdata": "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",
          "dtype": "f8"
         }
        }
       ],
       "layout": {
        "font": {
         "size": 14
        },
        "height": 600,
        "legend": {
         "x": 1,
         "xanchor": "right",
         "y": 1,
         "yanchor": "top"
        },
        "template": {
         "data": {
          "bar": [
           {
            "error_x": {
             "color": "#2a3f5f"
            },
            "error_y": {
             "color": "#2a3f5f"
            },
            "marker": {
             "line": {
              "color": "#E5ECF6",
              "width": 0.5
             },
             "pattern": {
              "fillmode": "overlay",
              "size": 10,
              "solidity": 0.2
             }
            },
            "type": "bar"
           }
          ],
          "barpolar": [
           {
            "marker": {
             "line": {
              "color": "#E5ECF6",
              "width": 0.5
             },
             "pattern": {
              "fillmode": "overlay",
              "size": 10,
              "solidity": 0.2
             }
            },
            "type": "barpolar"
           }
          ],
          "carpet": [
           {
            "aaxis": {
             "endlinecolor": "#2a3f5f",
             "gridcolor": "white",
             "linecolor": "white",
             "minorgridcolor": "white",
             "startlinecolor": "#2a3f5f"
            },
            "baxis": {
             "endlinecolor": "#2a3f5f",
             "gridcolor": "white",
             "linecolor": "white",
             "minorgridcolor": "white",
             "startlinecolor": "#2a3f5f"
            },
            "type": "carpet"
           }
          ],
          "choropleth": [
           {
            "colorbar": {
             "outlinewidth": 0,
             "ticks": ""
            },
            "type": "choropleth"
           }
          ],
          "contour": [
           {
            "colorbar": {
             "outlinewidth": 0,
             "ticks": ""
            },
            "colorscale": [
             [
              0,
              "#0d0887"
             ],
             [
              0.1111111111111111,
              "#46039f"
             ],
             [
              0.2222222222222222,
              "#7201a8"
             ],
             [
              0.3333333333333333,
              "#9c179e"
             ],
             [
              0.4444444444444444,
              "#bd3786"
             ],
             [
              0.5555555555555556,
              "#d8576b"
             ],
             [
              0.6666666666666666,
              "#ed7953"
             ],
             [
              0.7777777777777778,
              "#fb9f3a"
             ],
             [
              0.8888888888888888,
              "#fdca26"
             ],
             [
              1,
              "#f0f921"
             ]
            ],
            "type": "contour"
           }
          ],
          "contourcarpet": [
           {
            "colorbar": {
             "outlinewidth": 0,
             "ticks": ""
            },
            "type": "contourcarpet"
           }
          ],
          "heatmap": [
           {
            "colorbar": {
             "outlinewidth": 0,
             "ticks": ""
            },
            "colorscale": [
             [
              0,
              "#0d0887"
             ],
             [
              0.1111111111111111,
              "#46039f"
             ],
             [
              0.2222222222222222,
              "#7201a8"
             ],
             [
              0.3333333333333333,
              "#9c179e"
             ],
             [
              0.4444444444444444,
              "#bd3786"
             ],
             [
              0.5555555555555556,
              "#d8576b"
             ],
             [
              0.6666666666666666,
              "#ed7953"
             ],
             [
              0.7777777777777778,
              "#fb9f3a"
             ],
             [
              0.8888888888888888,
              "#fdca26"
             ],
             [
              1,
              "#f0f921"
             ]
            ],
            "type": "heatmap"
           }
          ],
          "histogram": [
           {
            "marker": {
             "pattern": {
              "fillmode": "overlay",
              "size": 10,
              "solidity": 0.2
             }
            },
            "type": "histogram"
           }
          ],
          "histogram2d": [
           {
            "colorbar": {
             "outlinewidth": 0,
             "ticks": ""
            },
            "colorscale": [
             [
              0,
              "#0d0887"
             ],
             [
              0.1111111111111111,
              "#46039f"
             ],
             [
              0.2222222222222222,
              "#7201a8"
             ],
             [
              0.3333333333333333,
              "#9c179e"
             ],
             [
              0.4444444444444444,
              "#bd3786"
             ],
             [
              0.5555555555555556,
              "#d8576b"
             ],
             [
              0.6666666666666666,
              "#ed7953"
             ],
             [
              0.7777777777777778,
              "#fb9f3a"
             ],
             [
              0.8888888888888888,
              "#fdca26"
             ],
             [
              1,
              "#f0f921"
             ]
            ],
            "type": "histogram2d"
           }
          ],
          "histogram2dcontour": [
           {
            "colorbar": {
             "outlinewidth": 0,
             "ticks": ""
            },
            "colorscale": [
             [
              0,
              "#0d0887"
             ],
             [
              0.1111111111111111,
              "#46039f"
             ],
             [
              0.2222222222222222,
              "#7201a8"
             ],
             [
              0.3333333333333333,
              "#9c179e"
             ],
             [
              0.4444444444444444,
              "#bd3786"
             ],
             [
              0.5555555555555556,
              "#d8576b"
             ],
             [
              0.6666666666666666,
              "#ed7953"
             ],
             [
              0.7777777777777778,
              "#fb9f3a"
             ],
             [
              0.8888888888888888,
              "#fdca26"
             ],
             [
              1,
              "#f0f921"
             ]
            ],
            "type": "histogram2dcontour"
           }
          ],
          "mesh3d": [
           {
            "colorbar": {
             "outlinewidth": 0,
             "ticks": ""
            },
            "type": "mesh3d"
           }
          ],
          "parcoords": [
           {
            "line": {
             "colorbar": {
              "outlinewidth": 0,
              "ticks": ""
             }
            },
            "type": "parcoords"
           }
          ],
          "pie": [
           {
            "automargin": true,
            "type": "pie"
           }
          ],
          "scatter": [
           {
            "fillpattern": {
             "fillmode": "overlay",
             "size": 10,
             "solidity": 0.2
            },
            "type": "scatter"
           }
          ],
          "scatter3d": [
           {
            "line": {
             "colorbar": {
              "outlinewidth": 0,
              "ticks": ""
             }
            },
            "marker": {
             "colorbar": {
              "outlinewidth": 0,
              "ticks": ""
             }
            },
            "type": "scatter3d"
           }
          ],
          "scattercarpet": [
           {
            "marker": {
             "colorbar": {
              "outlinewidth": 0,
              "ticks": ""
             }
            },
            "type": "scattercarpet"
           }
          ],
          "scattergeo": [
           {
            "marker": {
             "colorbar": {
              "outlinewidth": 0,
              "ticks": ""
             }
            },
            "type": "scattergeo"
           }
          ],
          "scattergl": [
           {
            "marker": {
             "colorbar": {
              "outlinewidth": 0,
              "ticks": ""
             }
            },
            "type": "scattergl"
           }
          ],
          "scattermap": [
           {
            "marker": {
             "colorbar": {
              "outlinewidth": 0,
              "ticks": ""
             }
            },
            "type": "scattermap"
           }
          ],
          "scattermapbox": [
           {
            "marker": {
             "colorbar": {
              "outlinewidth": 0,
              "ticks": ""
             }
            },
            "type": "scattermapbox"
           }
          ],
          "scatterpolar": [
           {
            "marker": {
             "colorbar": {
              "outlinewidth": 0,
              "ticks": ""
             }
            },
            "type": "scatterpolar"
           }
          ],
          "scatterpolargl": [
           {
            "marker": {
             "colorbar": {
              "outlinewidth": 0,
              "ticks": ""
             }
            },
            "type": "scatterpolargl"
           }
          ],
          "scatterternary": [
           {
            "marker": {
             "colorbar": {
              "outlinewidth": 0,
              "ticks": ""
             }
            },
            "type": "scatterternary"
           }
          ],
          "surface": [
           {
            "colorbar": {
             "outlinewidth": 0,
             "ticks": ""
            },
            "colorscale": [
             [
              0,
              "#0d0887"
             ],
             [
              0.1111111111111111,
              "#46039f"
             ],
             [
              0.2222222222222222,
              "#7201a8"
             ],
             [
              0.3333333333333333,
              "#9c179e"
             ],
             [
              0.4444444444444444,
              "#bd3786"
             ],
             [
              0.5555555555555556,
              "#d8576b"
             ],
             [
              0.6666666666666666,
              "#ed7953"
             ],
             [
              0.7777777777777778,
              "#fb9f3a"
             ],
             [
              0.8888888888888888,
              "#fdca26"
             ],
             [
              1,
              "#f0f921"
             ]
            ],
            "type": "surface"
           }
          ],
          "table": [
           {
            "cells": {
             "fill": {
              "color": "#EBF0F8"
             },
             "line": {
              "color": "white"
             }
            },
            "header": {
             "fill": {
              "color": "#C8D4E3"
             },
             "line": {
              "color": "white"
             }
            },
            "type": "table"
           }
          ]
         },
         "layout": {
          "annotationdefaults": {
           "arrowcolor": "#2a3f5f",
           "arrowhead": 0,
           "arrowwidth": 1
          },
          "autotypenumbers": "strict",
          "coloraxis": {
           "colorbar": {
            "outlinewidth": 0,
            "ticks": ""
           }
          },
          "colorscale": {
           "diverging": [
            [
             0,
             "#8e0152"
            ],
            [
             0.1,
             "#c51b7d"
            ],
            [
             0.2,
             "#de77ae"
            ],
            [
             0.3,
             "#f1b6da"
            ],
            [
             0.4,
             "#fde0ef"
            ],
            [
             0.5,
             "#f7f7f7"
            ],
            [
             0.6,
             "#e6f5d0"
            ],
            [
             0.7,
             "#b8e186"
            ],
            [
             0.8,
             "#7fbc41"
            ],
            [
             0.9,
             "#4d9221"
            ],
            [
             1,
             "#276419"
            ]
           ],
           "sequential": [
            [
             0,
             "#0d0887"
            ],
            [
             0.1111111111111111,
             "#46039f"
            ],
            [
             0.2222222222222222,
             "#7201a8"
            ],
            [
             0.3333333333333333,
             "#9c179e"
            ],
            [
             0.4444444444444444,
             "#bd3786"
            ],
            [
             0.5555555555555556,
             "#d8576b"
            ],
            [
             0.6666666666666666,
             "#ed7953"
            ],
            [
             0.7777777777777778,
             "#fb9f3a"
            ],
            [
             0.8888888888888888,
             "#fdca26"
            ],
            [
             1,
             "#f0f921"
            ]
           ],
           "sequentialminus": [
            [
             0,
             "#0d0887"
            ],
            [
             0.1111111111111111,
             "#46039f"
            ],
            [
             0.2222222222222222,
             "#7201a8"
            ],
            [
             0.3333333333333333,
             "#9c179e"
            ],
            [
             0.4444444444444444,
             "#bd3786"
            ],
            [
             0.5555555555555556,
             "#d8576b"
            ],
            [
             0.6666666666666666,
             "#ed7953"
            ],
            [
             0.7777777777777778,
             "#fb9f3a"
            ],
            [
             0.8888888888888888,
             "#fdca26"
            ],
            [
             1,
             "#f0f921"
            ]
           ]
          },
          "colorway": [
           "#636efa",
           "#EF553B",
           "#00cc96",
           "#ab63fa",
           "#FFA15A",
           "#19d3f3",
           "#FF6692",
           "#B6E880",
           "#FF97FF",
           "#FECB52"
          ],
          "font": {
           "color": "#2a3f5f"
          },
          "geo": {
           "bgcolor": "white",
           "lakecolor": "white",
           "landcolor": "#E5ECF6",
           "showlakes": true,
           "showland": true,
           "subunitcolor": "white"
          },
          "hoverlabel": {
           "align": "left"
          },
          "hovermode": "closest",
          "mapbox": {
           "style": "light"
          },
          "paper_bgcolor": "white",
          "plot_bgcolor": "#E5ECF6",
          "polar": {
           "angularaxis": {
            "gridcolor": "white",
            "linecolor": "white",
            "ticks": ""
           },
           "bgcolor": "#E5ECF6",
           "radialaxis": {
            "gridcolor": "white",
            "linecolor": "white",
            "ticks": ""
           }
          },
          "scene": {
           "xaxis": {
            "backgroundcolor": "#E5ECF6",
            "gridcolor": "white",
            "gridwidth": 2,
            "linecolor": "white",
            "showbackground": true,
            "ticks": "",
            "zerolinecolor": "white"
           },
           "yaxis": {
            "backgroundcolor": "#E5ECF6",
            "gridcolor": "white",
            "gridwidth": 2,
            "linecolor": "white",
            "showbackground": true,
            "ticks": "",
            "zerolinecolor": "white"
           },
           "zaxis": {
            "backgroundcolor": "#E5ECF6",
            "gridcolor": "white",
            "gridwidth": 2,
            "linecolor": "white",
            "showbackground": true,
            "ticks": "",
            "zerolinecolor": "white"
           }
          },
          "shapedefaults": {
           "line": {
            "color": "#2a3f5f"
           }
          },
          "ternary": {
           "aaxis": {
            "gridcolor": "white",
            "linecolor": "white",
            "ticks": ""
           },
           "baxis": {
            "gridcolor": "white",
            "linecolor": "white",
            "ticks": ""
           },
           "bgcolor": "#E5ECF6",
           "caxis": {
            "gridcolor": "white",
            "linecolor": "white",
            "ticks": ""
           }
          },
          "title": {
           "x": 0.05
          },
          "xaxis": {
           "automargin": true,
           "gridcolor": "white",
           "linecolor": "white",
           "ticks": "",
           "title": {
            "standoff": 15
           },
           "zerolinecolor": "white",
           "zerolinewidth": 2
          },
          "yaxis": {
           "automargin": true,
           "gridcolor": "white",
           "linecolor": "white",
           "ticks": "",
           "title": {
            "standoff": 15
           },
           "zerolinecolor": "white",
           "zerolinewidth": 2
          }
         }
        },
        "width": 800,
        "xaxis": {
         "title": {
          "text": "Wavelength (nm)"
         }
        },
        "yaxis": {
         "title": {
          "text": "Absorbance"
         }
        }
       }
      }
     },
     "metadata": {},
     "output_type": "display_data"
    }
   ],
   "source": [
    "fig = go.Figure()\n",
    "\n",
    "# Add the measured absorbance spectrum\n",
    "fig.add_trace(go.Scatter(\n",
    "    x=ass_rodamina['λ'],\n",
    "    y=ass_rodamina['A'],\n",
    "    mode='lines',\n",
    "    name='Signal',\n",
    "    opacity=0.3\n",
    "))\n",
    "\n",
    "fig.add_trace(go.Scatter(\n",
    "    x=fondo_acqua['λ'],\n",
    "    y=fondo_acqua['A'],\n",
    "    mode='lines',\n",
    "    name='Background',\n",
    "    opacity=0.3\n",
    "))\n",
    "\n",
    "fig.add_trace(go.Scatter(\n",
    "    x=fondo_acqua['λ'],\n",
    "    y=ass_rodamina['A'] - fondo_acqua['A'],\n",
    "    mode='lines',\n",
    "    name='Spectrum Rhodamine 6G',\n",
    "    line=dict(width=4)  # Make the line thicker\n",
    "))\n",
    "\n",
    "\n",
    "# Update layout for the plot\n",
    "fig.update_layout(\n",
    "    # title='Absorbance Spectrum of Rodamine',\n",
    "    xaxis_title='Wavelength (nm)',\n",
    "    yaxis_title='Absorbance',\n",
    "    legend=dict(x=1, y=1, xanchor='right', yanchor='top'),  # Position legend at the top right\n",
    "    font=dict(size=14),\n",
    "    height=600,\n",
    "    width=800\n",
    ")\n",
    "\n",
    "fig.write_html(dir_path +r\"\\html\\absorbance_spectrum.html\")\n",
    "fig.write_image(dir_path + r\"\\images\\absorbance_spectrum.png\")\n",
    "fig.show()"
   ]
  },
  {
   "cell_type": "code",
   "execution_count": 10,
   "id": "f7ca5b87",
   "metadata": {},
   "outputs": [
    {
     "name": "stdout",
     "output_type": "stream",
     "text": [
      "Picco di assorbimento A:  0.48 ± 0.0003 \n",
      "0.4800416799849726 0.0003353431037236748\n"
     ]
    }
   ],
   "source": [
    "λ_ass = ass_rodamina['λ'].to_numpy()\n",
    "A_rod = ass_rodamina['A'].to_numpy() - fondo_acqua['A'].to_numpy()\n",
    "\n",
    "l0 = ass_rodamina['A'].idxmax()\n",
    "\n",
    "popt, pcov = curve_fit(max_fit_parabolic, λ_ass[l0-5:l0+5], A_rod[l0-5:l0+5], p0=[530, 2, 0.5])\n",
    "λcenter, a, A = popt\n",
    "error_λcenter, error_a, error_A = np.sqrt(np.diag(pcov))\n",
    "\n",
    "print('Picco di assorbimento A: ',final_val(A,error_A,decimals=4))\n",
    "print(A,error_A)"
   ]
  }
 ],
 "metadata": {
  "kernelspec": {
   "display_name": "Python 3",
   "language": "python",
   "name": "python3"
  },
  "language_info": {
   "codemirror_mode": {
    "name": "ipython",
    "version": 3
   },
   "file_extension": ".py",
   "mimetype": "text/x-python",
   "name": "python",
   "nbconvert_exporter": "python",
   "pygments_lexer": "ipython3",
   "version": "3.13.0"
  }
 },
 "nbformat": 4,
 "nbformat_minor": 5
}
