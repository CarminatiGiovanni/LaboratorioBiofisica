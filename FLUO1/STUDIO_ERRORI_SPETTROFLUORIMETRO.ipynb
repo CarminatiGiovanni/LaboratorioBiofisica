{
 "cells": [
  {
   "cell_type": "markdown",
   "id": "4d676f10",
   "metadata": {},
   "source": [
    "# STUDIO ERRORI SPETTROFLUORIMETRO\n",
    "\n",
    "per lo studio degli errori prendo gli spettri, li normalizzo rispetto al parametro massimo, interpolo, e calcolo errore percentuale"
   ]
  },
  {
   "cell_type": "code",
   "execution_count": 12,
   "id": "046cbae6",
   "metadata": {},
   "outputs": [],
   "source": [
    "from matplotlib import pyplot as plt\n",
    "import numpy as np\n",
    "import pandas as pd\n",
    "import plotly.express as px\n",
    "import os\n",
    "import sys\n",
    "import plotly.graph_objects as go \n",
    "dir_path = os.path.abspath('')\n",
    "sys.path.append(dir_path + '/../')\n",
    "from labbiofisica import Interpolazione, final_val\n",
    "from scipy.optimize import curve_fit\n",
    "from scipy.interpolate import interp1d"
   ]
  },
  {
   "cell_type": "code",
   "execution_count": 13,
   "id": "e9e30189",
   "metadata": {},
   "outputs": [],
   "source": [
    "filename = 'data/assorbanza_rodamina_concentrazioni_tot.csv'\n",
    "\n",
    "header = ['λ 5','I 5','λ 4','I 4','no λ 4','no I 4','λ 3','I 3','λ 2','I 2','λ 1','I 1','λ 0.8','I 0.8','λ 0.6','I 0.6','λ 0.4','I 0.4','λ 0.2','I 0.2','λ 0.1','I 0.1']\n",
    "\n",
    "data = pd.read_csv(filename,sep=',',header=1,nrows=117)\n",
    "data = data.iloc[:, :-1] # drop last column\n",
    "data.columns = header"
   ]
  },
  {
   "cell_type": "code",
   "execution_count": 14,
   "id": "38a8a4f9",
   "metadata": {},
   "outputs": [
    {
     "data": {
      "text/html": [
       "<div>\n",
       "<style scoped>\n",
       "    .dataframe tbody tr th:only-of-type {\n",
       "        vertical-align: middle;\n",
       "    }\n",
       "\n",
       "    .dataframe tbody tr th {\n",
       "        vertical-align: top;\n",
       "    }\n",
       "\n",
       "    .dataframe thead th {\n",
       "        text-align: right;\n",
       "    }\n",
       "</style>\n",
       "<table border=\"1\" class=\"dataframe\">\n",
       "  <thead>\n",
       "    <tr style=\"text-align: right;\">\n",
       "      <th></th>\n",
       "      <th>0</th>\n",
       "      <th>1</th>\n",
       "      <th>2</th>\n",
       "      <th>3</th>\n",
       "      <th>4</th>\n",
       "      <th>5</th>\n",
       "      <th>6</th>\n",
       "      <th>7</th>\n",
       "      <th>8</th>\n",
       "    </tr>\n",
       "  </thead>\n",
       "  <tbody>\n",
       "    <tr>\n",
       "      <th>Vi (muL)</th>\n",
       "      <td>2210</td>\n",
       "      <td>2252</td>\n",
       "      <td>2000</td>\n",
       "      <td>1511</td>\n",
       "      <td>2423</td>\n",
       "      <td>2251</td>\n",
       "      <td>2002</td>\n",
       "      <td>1497</td>\n",
       "      <td>1504</td>\n",
       "    </tr>\n",
       "    <tr>\n",
       "      <th>Vf (muL)</th>\n",
       "      <td>3008</td>\n",
       "      <td>3015</td>\n",
       "      <td>3015</td>\n",
       "      <td>3016</td>\n",
       "      <td>3010</td>\n",
       "      <td>3002</td>\n",
       "      <td>3000</td>\n",
       "      <td>2994</td>\n",
       "      <td>3003</td>\n",
       "    </tr>\n",
       "  </tbody>\n",
       "</table>\n",
       "</div>"
      ],
      "text/plain": [
       "             0     1     2     3     4     5     6     7     8\n",
       "Vi (muL)  2210  2252  2000  1511  2423  2251  2002  1497  1504\n",
       "Vf (muL)  3008  3015  3015  3016  3010  3002  3000  2994  3003"
      ]
     },
     "metadata": {},
     "output_type": "display_data"
    }
   ],
   "source": [
    "filename = './data/concentrazioni_rodamina.csv'\n",
    "\n",
    "volumi = pd.read_csv(filename,sep=',')\n",
    "volumi = volumi[['Vi (muL)','Vf (muL)']]\n",
    "# Display the DataFrame horizontally\n",
    "display(volumi.T)\n",
    "\n",
    "A0, sigmaA0 = 0.4800416799849726, 0.0003353431037236748\n",
    "ASS = [A0]\n",
    "SIGMA_ASS = [sigmaA0]\n",
    "sigmaV = 1 # μL, comodo perchè si ha sempre a che fare con rapporti\n",
    "for idx, row in enumerate(volumi.iterrows()):\n",
    "    vi, vf = row[1]['Vi (muL)'], row[1]['Vf (muL)']\n",
    "    An = ASS[idx] * vi / vf\n",
    "    sAn = An * np.sqrt((sigmaV/vi)**2 + (sigmaV/vf)**2 + (SIGMA_ASS[idx]/ASS[idx])**2) \n",
    "    ASS.append(An)\n",
    "    SIGMA_ASS.append(sAn)\n",
    "\n",
    "ASS = np.array(ASS)\n",
    "SIGMA_ASS = np.array(SIGMA_ASS)"
   ]
  },
  {
   "cell_type": "code",
   "execution_count": 15,
   "id": "6fbb0368",
   "metadata": {},
   "outputs": [
    {
     "data": {
      "application/vnd.plotly.v1+json": {
       "config": {
        "plotlyServerURL": "https://plot.ly"
       },
       "data": [
        {
         "mode": "lines",
         "name": "0.48",
         "type": "scatter",
         "x": {
          "bdata": "CaP+H1y3gECglP9/wr+AQE2ABkDhxoBA6wX6n0fPgEBoDv+fmdeAQC/jAcDM3oBAs3/5vx7ngEBLcfofhe+AQPdcAeCj9oBAj04CQAr/gEAJo/4fXAeBQKCU/3/CD4FATYAGQOEWgUDrBfqfRx+BQGgO/5+ZJ4FAL+MBwMwugUCPTgJACjeBQOsF+p9HP4FAS3H6H4VHgUCglP9/wk+BQC/jAcDMVoFAj04CQApfgUDrBfqfR2eBQEtx+h+Fb4FAoJT/f8J3gUAv4wHAzH6BQLN/+b8eh4FAS3H6H4WPgUD3XAHgo5aBQI9OAkAKn4FACaP+H1yngUCglP9/wq+BQE2ABkDhtoFA6wX6n0e/gUBoDv+fmceBQC/jAcDMzoFAj04CQArXgUDrBfqfR9+BQEtx+h+F54FAoJT/f8LvgUAv4wHAzPaBQI9OAkAK/4FA6wX6n0cHgkBLcfofhQ+CQKCU/3/CF4JAL+MBwMwegkCzf/m/HieCQEtx+h+FL4JA91wB4KM2gkCPTgJACj+CQAmj/h9cR4JAoJT/f8JPgkBNgAZA4VaCQOsF+p9HX4JAaA7/n5lngkAv4wHAzG6CQI9OAkAKd4JA6wX6n0d/gkBLcfofhYeCQKCU/3/Cj4JAL+MBwMyWgkCPTgJACp+CQOsF+p9Hp4JAS3H6H4WvgkCglP9/wreCQC/jAcDMvoJATYAGQOHGgkCPTgJACs+CQLN/+b8e14JA6wX6n0ffgkAJo/4fXOeCQEtx+h+F74JAaA7/n5n3gkCglP9/wv+CQBX6BWC4BoNAL+MBwMwOg0CPTgJACheDQOsF+p9HH4NAS3H6H4Ung0CglP9/wi+DQC/jAcDMNoNAj04CQAo/g0DrBfqfR0eDQEtx+h+FT4NAoJT/f8JXg0Av4wHAzF6DQI9OAkAKZ4NA6wX6n0dvg0BLcfofhXeDQKCU/3/Cf4NAL+MBwMyGg0CPTgJACo+DQOsF+p9Hl4NAS3H6H4Wfg0CglP9/wqeDQC/jAcDMroNATYAGQOG2g0CPTgJACr+DQLN/+b8ex4NA6wX6n0fPg0AJo/4fXNeDQEtx+h+F34NAaA7/n5nng0CglP9/wu+DQBX6BWC49oNAL+MBwMz+g0BNgAZA4QaEQI9OAkAKD4RAs3/5vx4XhEDrBfqfRx+EQAmj/h9cJ4RAS3H6H4UvhEBoDv+fmTeEQKCU/3/CP4RAFfoFYLhGhEAv4wHAzE6EQE2ABkDhVoRA",
          "dtype": "f8"
         },
         "y": {
          "bdata": "bMIHwEl1c0ATVQlgNNx1QIhQACAiBHhARoIEIEkIe0B2CgPgKSp+QBChAEBUIoBAMYj+v9D8gUBxsf2/pXyDQD3fBQBtvYRAYGsAgF0nhkDbZPlfc6OHQAAAAAAQ14hALT4FwEjBiUDA1gAAa86KQDGI/r/QjItAEUb9P/hgjECR8/4/7ryMQCqK/J9oI41AYGsAgF0ajUBAKf//RHCNQLA1AMAGY41AaA7/n2kkjUDPdwFA36iMQCqK/J94z4tAYGsAgK3Ei0ARRv0/GCyLQPBe/7+7O4pAV8gBYLEaikBHJwEgTTKJQHiv/9+NbohAlkwEYNKch0AH/gEguLuGQFDK/z85/oVAeK//380+hUAtPgXAmMKEQK6QA8Bi14NAj04CQHr3gkD+WgMADBGCQOi7AKAfeIFAnUoGgNqxgECdSgaAKkWAQIFS/v8p635AnoXzX9adfUB9nvXfeZN8QLfJ8r/GZHtAUtkLYEWeekCKXwxAvnF5QEk2DUA5Y3hAhJz3//HSd0BVIwVgTc92QGJ6DKDJ5HVA9rcE4P81dUDkcQeg56p0QEvbCUCN63NAg/f6/z1dc0D+WgMADLRyQINhCiBGMHJABe/1/7umcUCehfNf1gBxQDqVDABVpnBAZ2kCoCXqb0CY8QBghuluQI0TFWBOIW5AyeMOQM9AbUDi+OtfI2dsQOtvCcB/jGtAFCbnH9ixakA2d/S/XMFpQHXPFQA+v2hAgo3r3zXPZ0AtauZ/qCJnQOQH+H+fRGZAJ6oSwGhMZUCgKvBfqnNkQDZLEwCtwmNA3DgYoGP2YkClg/V/DkhiQJQ9+D82kGFA2ikMgOfPYEBrhxrg3QlgQF7GA4AZFl9AnbQVoBLRXUAV+gVgKJNcQCTKKOBoXltAPh00YLXaWUAr8Pw/GuxYQO7R+t862ldAajUD4IiqVkAbEACg88JVQFrT/v+mZ1RAe3sAICHbU0Do+vz/kcNSQG7l/H+iK1JARBwEgBc8UUDlsAMAKmhQQM1o9R9jmk9A7Cz+36bgTUAXnwJgvGhMQJiu9X/tSUtAvnAAYGnhSUAaqv//QblIQFXkCAAr6kdAIMD5P82dRkAvIv4fr51FQMtFAGAK8URAk7//f7HNQ0BqdP8/a/5CQCUZ/1/xS0JACLv2P59eQUA6qfWfsahAQMK6+V8R6j9AXlz0XzGaPkCpIxUAwk89QLXl+V/wHzxAWLAJQA7nOkCSLuwf+jM6QAtv/1+vzzhA",
          "dtype": "f8"
         }
        },
        {
         "mode": "lines",
         "name": "0.35",
         "type": "scatter",
         "x": {
          "bdata": "CaP+H1y3gECglP9/wr+AQE2ABkDhxoBA6wX6n0fPgEBoDv+fmdeAQC/jAcDM3oBAs3/5vx7ngEBLcfofhe+AQPdcAeCj9oBAj04CQAr/gEAJo/4fXAeBQKCU/3/CD4FATYAGQOEWgUDrBfqfRx+BQGgO/5+ZJ4FAL+MBwMwugUCPTgJACjeBQOsF+p9HP4FAS3H6H4VHgUCglP9/wk+BQC/jAcDMVoFAj04CQApfgUDrBfqfR2eBQEtx+h+Fb4FAoJT/f8J3gUAv4wHAzH6BQLN/+b8eh4FAS3H6H4WPgUD3XAHgo5aBQI9OAkAKn4FACaP+H1yngUCglP9/wq+BQE2ABkDhtoFA6wX6n0e/gUBoDv+fmceBQC/jAcDMzoFAj04CQArXgUDrBfqfR9+BQEtx+h+F54FAoJT/f8LvgUAv4wHAzPaBQI9OAkAK/4FA6wX6n0cHgkBLcfofhQ+CQKCU/3/CF4JAL+MBwMwegkCzf/m/HieCQEtx+h+FL4JA91wB4KM2gkCPTgJACj+CQAmj/h9cR4JAoJT/f8JPgkBNgAZA4VaCQOsF+p9HX4JAaA7/n5lngkAv4wHAzG6CQI9OAkAKd4JA6wX6n0d/gkBLcfofhYeCQKCU/3/Cj4JAL+MBwMyWgkCPTgJACp+CQOsF+p9Hp4JAS3H6H4WvgkCglP9/wreCQC/jAcDMvoJATYAGQOHGgkCPTgJACs+CQLN/+b8e14JA6wX6n0ffgkAJo/4fXOeCQEtx+h+F74JAaA7/n5n3gkCglP9/wv+CQBX6BWC4BoNAL+MBwMwOg0CPTgJACheDQOsF+p9HH4NAS3H6H4Ung0CglP9/wi+DQC/jAcDMNoNAj04CQAo/g0DrBfqfR0eDQEtx+h+FT4NAoJT/f8JXg0Av4wHAzF6DQI9OAkAKZ4NA6wX6n0dvg0BLcfofhXeDQKCU/3/Cf4NAL+MBwMyGg0CPTgJACo+DQOsF+p9Hl4NAS3H6H4Wfg0CglP9/wqeDQC/jAcDMroNATYAGQOG2g0CPTgJACr+DQLN/+b8ex4NA6wX6n0fPg0AJo/4fXNeDQEtx+h+F34NAaA7/n5nng0CglP9/wu+DQBX6BWC49oNAL+MBwMz+g0BNgAZA4QaEQI9OAkAKD4RAs3/5vx4XhEDrBfqfRx+EQAmj/h9cJ4RAS3H6H4UvhEBoDv+fmTeEQKCU/3/CP4RAFfoFYLhGhEAv4wHAzE6EQE2ABkDhVoRA",
          "dtype": "f8"
         },
         "y": {
          "bdata": "6soMwAs+ckBMFvcfuWV0QPxL99+vQnZAbMIHwAn9eED9tQYAeMF7QE4lA0C10H1AAqX8/5NWgEBuZwTAfZ+BQKI5/H8WpIJAztIEQOvVg0BAKf//xACFQGgO/5+JEIZATiUDQAW1hkDfGAKAc56HQNPB+j+nQohANuED4FTQiEB9CAUAkheJQGEQ/X9hUIlA3xgCgDN2iUDIef8f17iJQP5aAwDMWYlAstr8v3o4iUBVIwVgXdCIQHNW+r+piohAj04CQMrth0C6ffvf1oCHQGdpAqDl5YZAx9QCIJNThkB4r//fzdmFQH0IBQDyJYVA4mL7f2tdhEBuZwTAvYWDQLN/+b9u+oJA/loDAAxbgkDhvf5/F6mBQHYKA+D5HIFAJkADoEBdgEDpYP2fw3R/QDvQ+d+AHn5AQCn//0TOfEB6VPzfseJ7QCWbBqBs0XpAkpj7P8KWeUCR8/4/jnJ4QFt8CoBxnXdAYRD9f+HHdkB/rQEAluV1QCjl/58UBXVAFfoFYIhcdEAMVwdA3J9zQN1zBYBP+3JAErAMYABTckAlmwagDM9xQL7H9N8+IHFAxS8GIN+ocEBNgAZAQQ9wQEwW9x+ZT29ALJkIwKQ8bkDbZPlfkzNtQI0/9h++ZWxA4vjrX6OYa0A70PnfwJdqQGO1+X8VzWlA+3oZIGzTaEDFLwYgvy9oQFOq6R8plWdA8z7pn3u8ZkA4hgDg2OxlQKTe+H+6JmVAhkH0/wVpZEB7j+m/vbFjQPzh578H3mJAil8MQD4vYkAVkPY/QIthQNiw8D+D4GBAS3H6H8U0YEC4ByEgX0ZfQLZf458+8F1A4o7cPzu/XEB4GQ8AZpRbQK0pNSDnt1pAizDq/0GCWUBJjQHATmBYQOlg/Z8DNVdAJ3///yJPVkADzABAY4JVQGCq/N+PfVRA40oDYHilU0C6Pv9/VLdSQOZVAAD+6FFAKCT8/zYbUUC3sfqfk0hQQMOKCSBrGk9AZNz9v6TETUAlGf9f8X5MQD4GCkBMHEtAtY4F4HoYSkDLhPy/LJVIQHiv/999bEdAtGcBoCtgRkBKtAUAnm9FQOMLBwCWeERAkpj7P2KGQ0DiYvt/i35CQJEy+5/wE0JAqE/2v3E5QUCp4AkgKYBAQFmYESA7Tj9AuYEKYC0xPkCvOQ9AzY48QBvl7N/tlTtACUwKoNYLOkAp4fAfXiA5QICp8n8/8jdAkDYKIOcxN0ASxPX/3Fg2QBR8DaBjUzVA",
          "dtype": "f8"
         }
        },
        {
         "mode": "lines",
         "name": "0.26",
         "type": "scatter",
         "x": {
          "bdata": "CaP+H1y3gECglP9/wr+AQE2ABkDhxoBA6wX6n0fPgEBoDv+fmdeAQC/jAcDM3oBAs3/5vx7ngEBLcfofhe+AQPdcAeCj9oBAj04CQAr/gEAJo/4fXAeBQKCU/3/CD4FATYAGQOEWgUDrBfqfRx+BQGgO/5+ZJ4FAL+MBwMwugUCPTgJACjeBQOsF+p9HP4FAS3H6H4VHgUCglP9/wk+BQC/jAcDMVoFAj04CQApfgUDrBfqfR2eBQEtx+h+Fb4FAoJT/f8J3gUAv4wHAzH6BQLN/+b8eh4FAS3H6H4WPgUD3XAHgo5aBQI9OAkAKn4FACaP+H1yngUCglP9/wq+BQE2ABkDhtoFA6wX6n0e/gUBoDv+fmceBQC/jAcDMzoFAj04CQArXgUDrBfqfR9+BQEtx+h+F54FAoJT/f8LvgUAv4wHAzPaBQI9OAkAK/4FA6wX6n0cHgkBLcfofhQ+CQKCU/3/CF4JAL+MBwMwegkCzf/m/HieCQEtx+h+FL4JA91wB4KM2gkCPTgJACj+CQAmj/h9cR4JAoJT/f8JPgkBNgAZA4VaCQOsF+p9HX4JAaA7/n5lngkAv4wHAzG6CQI9OAkAKd4JA6wX6n0d/gkBLcfofhYeCQKCU/3/Cj4JAL+MBwMyWgkCPTgJACp+CQOsF+p9Hp4JAS3H6H4WvgkCglP9/wreCQC/jAcDMvoJATYAGQOHGgkCPTgJACs+CQLN/+b8e14JA6wX6n0ffgkAJo/4fXOeCQEtx+h+F74JAaA7/n5n3gkCglP9/wv+CQBX6BWC4BoNAL+MBwMwOg0CPTgJACheDQOsF+p9HH4NAS3H6H4Ung0CglP9/wi+DQC/jAcDMNoNAj04CQAo/g0DrBfqfR0eDQEtx+h+FT4NAoJT/f8JXg0Av4wHAzF6DQI9OAkAKZ4NA6wX6n0dvg0BLcfofhXeDQKCU/3/Cf4NAL+MBwMyGg0CPTgJACo+DQOsF+p9Hl4NAS3H6H4Wfg0CglP9/wqeDQC/jAcDMroNATYAGQOG2g0CPTgJACr+DQLN/+b8ex4NA6wX6n0fPg0AJo/4fXNeDQEtx+h+F34NAaA7/n5nng0CglP9/wu+DQBX6BWC49oNAL+MBwMz+g0BNgAZA4QaEQI9OAkAKD4RAs3/5vx4XhEDrBfqfRx+EQAmj/h9cJ4RAS3H6H4UvhEBoDv+fmTeEQKCU/3/CP4RAFfoFYLhGhEAv4wHAzE6EQE2ABkDhVoRA",
          "dtype": "f8"
         },
         "y": {
          "bdata": "lD34Pza+ckCuJvSfOtJ0QMzD+B+Pm3ZALdT1n3DdeEDMw/gfb3p7QB0z9V+sAH1AXsYDgNljf0DpYP2fE8qAQNPB+j/3iYFAScz9H9F2gkD9tQYA2HuDQEaCBCDJGIRABVkFIETchEDtFAbA8xSFQBFG/T+YvYVAS3H6HwUIhkACpfz/00SGQGdpAqD1YIZAmzv6X/50hkDyA/y/X12GQOYWBKBrLYZAPd8FAG3ihUAenQSARJOFQOYWBKC7AYVAyh78H8uMhEBoDv+fCTaEQCOM+n/gloNAZ2kCoNUJg0DYGgBgu6iCQNZ1A2AnDoJA5hYEoOtzgUBNgAZAAauAQAAAAADAIoBACaP+H2xVf0AFWQUgJO99QCsv+Z8conxAil8MQH7Re0BEc/j/rKR6QE2ABkCBynlA22T5X/OLeEC8IvjfCrh3QGxY+J8BcXZAelT83xGsdUDRHP4/8+F0QFJv/D/9InRA1dAGYMNHc0AH/gEgWMJyQFLZC2Bl53FAPd8FAN1GcUCW4vQ/yrFwQLA1AMAWGXBAv2zx33IOb0Bxsf2/xTluQE+PEmA9Nm1A9iEUAEhYbEC6ffvfNndrQFy3919de2pAi5r5H+q0aUA70PnfAO1oQKtGCsDaF2hAz3cBQJ9TZ0DKHvwf+4BmQN2f5j//3GVA+QH+34cpZUARRv0/2HVkQBS/GIB842NAXLf3X51UY0Cm7QSgNqNiQKtGCsBaxWFAskQM4NJQYUBlLhXAOaJgQJ6INODiyV9A3kckwJ/GXkAupdNf1P1dQMc70b9u7VxAxS8GIH+kW0CGFRNA1nZaQB4HFKDcgVlAoNP73/SOWEAYBQMALlZXQDtSASB801ZAEOD8n2bGVUA0VP//Q5pUQLFcBADm4FNArSoDINHdUkAzFQOgIS9SQLB0/B/5dFFAmVcBADigUEBokAbgNOJPQEmNAcDOJk5AYGsAgK3rTECxXAQAprhLQAvxBqBqdkpAW7sG4BMhSUDBe/3/bgpIQDBh+n9RKkdAixwBYGXLRUAycAagTehEQPZ0+f+G0kNABDIB4FT9QkAhJvrfPgZCQKyB95/GE0FAfQgFAKJ3QEAjjPp/ML4/QOPMCqBzyj5AeO77P6AlPUCdXu8fh3k7QOVt+B+RaTpAcHYQ4Jl+OUAF7/X/u184QLIZ+R8N+DZAUJ/sf+M3NkBOPftf6C81QAYCEaCuDzRAz3cBQF/KM0B6vgsA+qwyQIl3BGDRETJA",
          "dtype": "f8"
         }
        },
        {
         "mode": "lines",
         "name": "0.17",
         "type": "scatter",
         "x": {
          "bdata": "CaP+H1y3gECglP9/wr+AQE2ABkDhxoBA6wX6n0fPgEBoDv+fmdeAQC/jAcDM3oBAs3/5vx7ngEBLcfofhe+AQPdcAeCj9oBAj04CQAr/gEAJo/4fXAeBQKCU/3/CD4FATYAGQOEWgUDrBfqfRx+BQGgO/5+ZJ4FAL+MBwMwugUCPTgJACjeBQOsF+p9HP4FAS3H6H4VHgUCglP9/wk+BQC/jAcDMVoFAj04CQApfgUDrBfqfR2eBQEtx+h+Fb4FAoJT/f8J3gUAv4wHAzH6BQLN/+b8eh4FAS3H6H4WPgUD3XAHgo5aBQI9OAkAKn4FACaP+H1yngUCglP9/wq+BQE2ABkDhtoFA6wX6n0e/gUBoDv+fmceBQC/jAcDMzoFAj04CQArXgUDrBfqfR9+BQEtx+h+F54FAoJT/f8LvgUAv4wHAzPaBQI9OAkAK/4FA6wX6n0cHgkBLcfofhQ+CQKCU/3/CF4JAL+MBwMwegkCzf/m/HieCQEtx+h+FL4JA91wB4KM2gkCPTgJACj+CQAmj/h9cR4JAoJT/f8JPgkBNgAZA4VaCQOsF+p9HX4JAaA7/n5lngkAv4wHAzG6CQI9OAkAKd4JA6wX6n0d/gkBLcfofhYeCQKCU/3/Cj4JAL+MBwMyWgkCPTgJACp+CQOsF+p9Hp4JAS3H6H4WvgkCglP9/wreCQC/jAcDMvoJATYAGQOHGgkCPTgJACs+CQLN/+b8e14JA6wX6n0ffgkAJo/4fXOeCQEtx+h+F74JAaA7/n5n3gkCglP9/wv+CQBX6BWC4BoNAL+MBwMwOg0CPTgJACheDQOsF+p9HH4NAS3H6H4Ung0CglP9/wi+DQC/jAcDMNoNAj04CQAo/g0DrBfqfR0eDQEtx+h+FT4NAoJT/f8JXg0Av4wHAzF6DQI9OAkAKZ4NA6wX6n0dvg0BLcfofhXeDQKCU/3/Cf4NAL+MBwMyGg0CPTgJACo+DQOsF+p9Hl4NAS3H6H4Wfg0CglP9/wqeDQC/jAcDMroNATYAGQOG2g0CPTgJACr+DQLN/+b8ex4NA6wX6n0fPg0AJo/4fXNeDQEtx+h+F34NAaA7/n5nng0CglP9/wu+DQBX6BWC49oNAL+MBwMz+g0BNgAZA4QaEQI9OAkAKD4RAs3/5vx4XhEDrBfqfRx+EQAmj/h9cJ4RAS3H6H4UvhEBoDv+fmTeEQKCU/3/CP4RAFfoFYLhGhEAv4wHAzE6EQE2ABkDhVoRA",
          "dtype": "f8"
         },
         "y": {
          "bdata": "d3QSABLMa0AUvxiAPJVuQOrKDMALaHBAarP7n800ckCwNQDAVuhzQGzCB8BpEHVAoqMLoA6cdkBJNg1AOfF3QMZq8/9q93hACaP+H4xoekB/rQEAlmF7QMLlDCB3VXxAaA7/n1kQfUCGQfT/5bN9QPum+t9bTX5AYx8JoD2ofkCK9fwfVrd+QFMU+T/Ry35ADO33H/S1fkCd4PZfQoN+QOrKDMCrPX5ATrvzH43SfUBuZwTAnX19QKTe+H+6v3xAP4QCAFENfEB9CAUA4ox7QAIPDCAcznpAJDH3f2T7eUAtPgXAuGx5QAIPDCCch3hAztIEQEubd0CEnPf/Ecd2QLUk9r8yD3ZA77kCwOdWdUC3MwLgbmp0QPum+t+brHNAskQM4JL3ckCiOfx/JgVyQMDWAAA7anFAY7X5f7WncEAdM/VfjNxvQEwW9x8Zpm5AqTf+n15QbUCJi+3/LTBsQI0TFWAOO2tAtbrmn2r3aUCJi+3/bRZpQCh78H9sL2hATKzn//BXZ0C3MwLgjppmQDAe75/4zGVAY0vqX63VZECLmvkfqk1kQJKY+z/itWNAmZb9X1oOY0Bn0xHAjXFiQH8XESDe3mFAluL0P4oqYUDkcQegR6VgQJQRF4BGMmBA5+oi4GujX0CFcBZAQiVeQJ4b5D9uYl1AiObw/5mKXEBpeA7AYZ5bQJeH8T+e2lpAZS4VwLn4WUA5we2/hChZQItb/b8HPVhAzGwEoBkxV0CPzPr/fktWQO+5AsAntlVAhyn833LOVED6KAIg1ydUQJxi/p/9dlNAVqH9H9KRUkAzFQOg4dNRQFrT/v+mHlFAvOP7f+hoUECD9/r/3aRPQIRd+5/Plk5Ak0EHwGwwTUAL8QagagFMQCHn/X8cl0pAwvn1vzNISUBgLAQgC3JIQFCLA+AGX0dAjWoJ4IN6RkDhvf5/d1BFQJwjAkDbRkRA15wHoOaZQ0Bxsf2/xZhCQPnCAYAlyUFAN0cEgLbvQED2dPn/Bi5AQKG7A8Chuj5Aw4oJIGunPUB84QDA0g08QNnX9H+SpjpAmr0BoGlWOUBTPwwAl1k4QGik73+RTzdAIwrzP3VGNkCzLBTA/001QMq07P/SnjRACjQSgAOYM0D+3ApAJ70yQPOUDyDH2jFAcXIBYCM6MUCYMP2/qFQwQNsRFGDUjS9AoIAW4PUELkByhRwAFogsQCzEG4CqbStA9HwXAPTlKkA+cedfHpIpQAzZDoCXUShA",
          "dtype": "f8"
         }
        },
        {
         "mode": "lines",
         "name": "0.09",
         "type": "scatter",
         "x": {
          "bdata": "CaP+H1y3gECglP9/wr+AQE2ABkDhxoBA6wX6n0fPgEBoDv+fmdeAQC/jAcDM3oBAs3/5vx7ngEBLcfofhe+AQPdcAeCj9oBAj04CQAr/gEAJo/4fXAeBQKCU/3/CD4FATYAGQOEWgUDrBfqfRx+BQGgO/5+ZJ4FAL+MBwMwugUCPTgJACjeBQOsF+p9HP4FAS3H6H4VHgUCglP9/wk+BQC/jAcDMVoFAj04CQApfgUDrBfqfR2eBQEtx+h+Fb4FAoJT/f8J3gUAv4wHAzH6BQLN/+b8eh4FAS3H6H4WPgUD3XAHgo5aBQI9OAkAKn4FACaP+H1yngUCglP9/wq+BQE2ABkDhtoFA6wX6n0e/gUBoDv+fmceBQC/jAcDMzoFAj04CQArXgUDrBfqfR9+BQEtx+h+F54FAoJT/f8LvgUAv4wHAzPaBQI9OAkAK/4FA6wX6n0cHgkBLcfofhQ+CQKCU/3/CF4JAL+MBwMwegkCzf/m/HieCQEtx+h+FL4JA91wB4KM2gkCPTgJACj+CQAmj/h9cR4JAoJT/f8JPgkBNgAZA4VaCQOsF+p9HX4JAaA7/n5lngkAv4wHAzG6CQI9OAkAKd4JA6wX6n0d/gkBLcfofhYeCQKCU/3/Cj4JAL+MBwMyWgkCPTgJACp+CQOsF+p9Hp4JAS3H6H4WvgkCglP9/wreCQC/jAcDMvoJATYAGQOHGgkCPTgJACs+CQLN/+b8e14JA6wX6n0ffgkAJo/4fXOeCQEtx+h+F74JAaA7/n5n3gkCglP9/wv+CQBX6BWC4BoNAL+MBwMwOg0CPTgJACheDQOsF+p9HH4NAS3H6H4Ung0CglP9/wi+DQC/jAcDMNoNAj04CQAo/g0DrBfqfR0eDQEtx+h+FT4NAoJT/f8JXg0Av4wHAzF6DQI9OAkAKZ4NA6wX6n0dvg0BLcfofhXeDQKCU/3/Cf4NAL+MBwMyGg0CPTgJACo+DQOsF+p9Hl4NAS3H6H4Wfg0CglP9/wqeDQC/jAcDMroNATYAGQOG2g0CPTgJACr+DQLN/+b8ex4NA6wX6n0fPg0AJo/4fXNeDQEtx+h+F34NAaA7/n5nng0CglP9/wu+DQBX6BWC49oNAL+MBwMz+g0BNgAZA4QaEQI9OAkAKD4RAs3/5vx4XhEDrBfqfRx+EQAmj/h9cJ4RAS3H6H4UvhEBoDv+fmTeEQKCU/3/CP4RAFfoFYLhGhEAv4wHAzE6EQE2ABkDhVoRA",
          "dtype": "f8"
         },
         "y": {
          "bdata": "0YYNYNuTXEAHlPL/T5lfQNffEoC/FWFAmw8ZoP5xYkAWNfM/1PtjQOJi+39LQGVA2ikMgOe3ZkB9nvXfuelnQOzZGOCn+WhAVo0UgHUpakBU6BeAIRFrQF8B8V9F6GtA+3oZIOyHbEAuqBTg4A1tQKyB959Ge21ANNL3v0inbUB2CgPgqb5tQIQGByBa6G1Au+cKAN+mbUA8C+e/7GNtQJvR6j9G+GxAvpsTIK/IbEC1jgXgekZsQG+i8Z+JyWtA/bUGABgfa0AqivyfaFJqQBcJEoDkkWlAdfv2vy0daUBCZOzfUAdoQBmuDoB4j2dAzw3yH3eeZkAV+gVgKNNlQLW65p9qHWVAvIwHAHMqZEBLcfofBVZjQOVC5V9LsGJA0YYNYNvfYUD38vG/yzphQI9OAkC6QGBAMsYsIFlaX0DLhcq/llteQLZiJCDLSF1AYGsAgK0BXEBDDCpgcdRaQPCK4H+rt1lACeL6f+6xWEBSMADg2tBXQNwNBeBd+VZAK7EA4HcNVkDFbgKAoRNVQFNXBCBqrFRAGYP7vzLrU0ANlgOgvklTQKfR/f9srVJAun3737YiUkAhqAEgeoRRQBZ4/h/tAFFAgrj+n/tsUEDAFf1f/QZQQCIOAsBr/U5AqE/2v3HLTUBr2v/f3AFNQJbK/B+3+EtAj04CQLoMS0B51gMgzU9KQC77+d9ff0lAql4C4G3JSEA8Nvp/8tFHQLXl+V/wxUZA4WYKAALvRUAqivyf6EBFQGp0/z9rZkRAIIH93yqsQ0AjNQYAu/FCQHMX/l83T0JA/9j7v7CnQUCfbfs/g/RAQMcT/3+1XUBAqeAJICmBP0B+xfkficQ9QPxL99/vDj1ActgBAJWqO0DsAesf4YU6QPUO+V+VIDlA/Qjs/1b/N0BRSPj/7Qs3QLOqDIBEODZATdPrPwBTNUA9HgJgn0g0QAuH93+CGDNASY0BwE5WMkDcTAFAgKAxQFw5/59YuTBA1Gb3PxsWMECkXPE/v9ouQAbDFECMUy1Ak5Tsv2vvK0DdICCAUNAqQLkDEqDoVClA7iTg37lAKECk3SqAEAQnQAF++L9EDiZAmBwUIEw4JUBWNiAAQEkkQEk4/z/maSNAwg/833meIkAQ9gLAbKghQFx3AoC0CyFAFL37/xJvIECmqvm/XWEfQC3pAkAQ6B1ApRsD4A+HHECg6vp/gcAaQFykB0AH8hlAo2AAwDUCGUBdifkfhJEYQFqV+x+LLRdA",
          "dtype": "f8"
         }
        },
        {
         "mode": "lines",
         "name": "0.07",
         "type": "scatter",
         "x": {
          "bdata": "CaP+H1y3gECglP9/wr+AQE2ABkDhxoBA6wX6n0fPgEBoDv+fmdeAQC/jAcDM3oBAs3/5vx7ngEBLcfofhe+AQPdcAeCj9oBAj04CQAr/gEAJo/4fXAeBQKCU/3/CD4FATYAGQOEWgUDrBfqfRx+BQGgO/5+ZJ4FAL+MBwMwugUCPTgJACjeBQOsF+p9HP4FAS3H6H4VHgUCglP9/wk+BQC/jAcDMVoFAj04CQApfgUDrBfqfR2eBQEtx+h+Fb4FAoJT/f8J3gUAv4wHAzH6BQLN/+b8eh4FAS3H6H4WPgUD3XAHgo5aBQI9OAkAKn4FACaP+H1yngUCglP9/wq+BQE2ABkDhtoFA6wX6n0e/gUBoDv+fmceBQC/jAcDMzoFAj04CQArXgUDrBfqfR9+BQEtx+h+F54FAoJT/f8LvgUAv4wHAzPaBQI9OAkAK/4FA6wX6n0cHgkBLcfofhQ+CQKCU/3/CF4JAL+MBwMwegkCzf/m/HieCQEtx+h+FL4JA91wB4KM2gkCPTgJACj+CQAmj/h9cR4JAoJT/f8JPgkBNgAZA4VaCQOsF+p9HX4JAaA7/n5lngkAv4wHAzG6CQI9OAkAKd4JA6wX6n0d/gkBLcfofhYeCQKCU/3/Cj4JAL+MBwMyWgkCPTgJACp+CQOsF+p9Hp4JAS3H6H4WvgkCglP9/wreCQC/jAcDMvoJATYAGQOHGgkCPTgJACs+CQLN/+b8e14JA6wX6n0ffgkAJo/4fXOeCQEtx+h+F74JAaA7/n5n3gkCglP9/wv+CQBX6BWC4BoNAL+MBwMwOg0CPTgJACheDQOsF+p9HH4NAS3H6H4Ung0CglP9/wi+DQC/jAcDMNoNAj04CQAo/g0DrBfqfR0eDQEtx+h+FT4NAoJT/f8JXg0Av4wHAzF6DQI9OAkAKZ4NA6wX6n0dvg0BLcfofhXeDQKCU/3/Cf4NAL+MBwMyGg0CPTgJACo+DQOsF+p9Hl4NAS3H6H4Wfg0CglP9/wqeDQC/jAcDMroNATYAGQOG2g0CPTgJACr+DQLN/+b8ex4NA6wX6n0fPg0AJo/4fXNeDQEtx+h+F34NAaA7/n5nng0CglP9/wu+DQBX6BWC49oNAL+MBwMz+g0BNgAZA4QaEQI9OAkAKD4RAs3/5vx4XhEDrBfqfRx+EQAmj/h9cJ4RAS3H6H4UvhEBoDv+fmTeEQKCU/3/CP4RAFfoFYLhGhEAv4wHAzE6EQE2ABkDhVoRA",
          "dtype": "f8"
         },
         "y": {
          "bdata": "sZsAYEjDVEDgfgIgFcxWQJ4H+5/RlFhAf0Py382VWkD85ChAlNNcQPSo+L8jfV5A6wX6n9dZYECUpwdgHiJhQIsw6v+BrmFAhXAWQMKTYkAlBRbAFEtjQFgD7z+N4mNA5ULlX0srZECglP9/EspkQCF97l/0AmVA0lfrH181ZUDRhg1gW1BlQChPD8C8PGVA/loDAGwSZUA6lQwAFfRkQLFw7Z+C12RAoCrwXypuZEBu0RPgxRpkQDIt+790xmNAwEAQIAM3Y0DaKQyA59xiQN2f5j+/UmJAGyTpPxCeYUDKtOz/EkdhQKTe+H96pWBAS0UZYBU5YEDp9u1/2/FeQC1q5n+o1F1AGN0wwHSmXECqCNxfYqJbQCbZNABlllpA9U31vzdlWUDbJf3/cC9YQDKvAgBwrFdAXHj7/zpiVkAyLfu/tKVVQPcdBYCRwVRAJHQCYB35U0Btf/zfMBFTQIgRBMAfV1JA/fQCYHqlUUD4m/0/1uFQQGM3AcAQPVBANwgIIBSMT0C1JPa/kltOQALk+F82Ok1AS9sJQO07TEA4xfw/e5pLQLQoBUAJgEpATqcKgFDaSUDvuQLAZ79IQBw3BOCCQkhAGxAAoDN5R0C2S/r/4adGQCPL9t/SDUZAkTL7n/BVRUDTAPefKZ1EQFu7BuAT9ENAL+MBwIxjQ0DTqQIgtL9CQClLAEDGWUJAxW4CgCGiQUDCYwXgmx5BQIpz9d9aV0BAs6oMgESNP0BqdP8/618+QGSx6v9eZT1AQREH4NExPEAZQPDfWVs7QCMK8z91FTpASTYNQFnuOEBBkw4gjU04QEil+d8hLTdAsfL0371QNkCoT/a/8YA1QFcf9t/WsTRAirLxP32bM0B/weqfEhEzQI95FQCAFTJAIagBIHoyMUCNAPq/G4swQHop6R9Mfy9AcOAfAIIJLkARG+p/0sksQIXv3P/writAtiMowKh7KkAXNCVA6hIpQMdm5H80AihAJ9Lk/+HKJkAEtAggEMclQKuZ778ZJyVAG/nVf0odJEDAKwOAw0IjQARJAIBhPiJATJj+X1SWIUB5LP8f/I4gQEwDBwADxx9A3wL8Xx1RHkCU/QJgjcgcQIoyB4CrPhxAu/r6HzUDG0Dyl/qfGmIZQAO2+h+diBhAyOQHwNUkF0CeWwSgM2QWQDBh+n9ROxVAZ1IDANklFECMggEA14gTQHVOB0BJ4BJAUtoE4OtoEkATVgLg2lYRQJ7w+/+EiRBA",
          "dtype": "f8"
         }
        },
        {
         "mode": "lines",
         "name": "0.05",
         "type": "scatter",
         "x": {
          "bdata": "CaP+H1y3gECglP9/wr+AQE2ABkDhxoBA6wX6n0fPgEBoDv+fmdeAQC/jAcDM3oBAs3/5vx7ngEBLcfofhe+AQPdcAeCj9oBAj04CQAr/gEAJo/4fXAeBQKCU/3/CD4FATYAGQOEWgUDrBfqfRx+BQGgO/5+ZJ4FAL+MBwMwugUCPTgJACjeBQOsF+p9HP4FAS3H6H4VHgUCglP9/wk+BQC/jAcDMVoFAj04CQApfgUDrBfqfR2eBQEtx+h+Fb4FAoJT/f8J3gUAv4wHAzH6BQLN/+b8eh4FAS3H6H4WPgUD3XAHgo5aBQI9OAkAKn4FACaP+H1yngUCglP9/wq+BQE2ABkDhtoFA6wX6n0e/gUBoDv+fmceBQC/jAcDMzoFAj04CQArXgUDrBfqfR9+BQEtx+h+F54FAoJT/f8LvgUAv4wHAzPaBQI9OAkAK/4FA6wX6n0cHgkBLcfofhQ+CQKCU/3/CF4JAL+MBwMwegkCzf/m/HieCQEtx+h+FL4JA91wB4KM2gkCPTgJACj+CQAmj/h9cR4JAoJT/f8JPgkBNgAZA4VaCQOsF+p9HX4JAaA7/n5lngkAv4wHAzG6CQI9OAkAKd4JA6wX6n0d/gkBLcfofhYeCQKCU/3/Cj4JAL+MBwMyWgkCPTgJACp+CQOsF+p9Hp4JAS3H6H4WvgkCglP9/wreCQC/jAcDMvoJATYAGQOHGgkCPTgJACs+CQLN/+b8e14JA6wX6n0ffgkAJo/4fXOeCQEtx+h+F74JAaA7/n5n3gkCglP9/wv+CQBX6BWC4BoNAL+MBwMwOg0CPTgJACheDQOsF+p9HH4NAS3H6H4Ung0CglP9/wi+DQC/jAcDMNoNAj04CQAo/g0DrBfqfR0eDQEtx+h+FT4NAoJT/f8JXg0Av4wHAzF6DQI9OAkAKZ4NA6wX6n0dvg0BLcfofhXeDQKCU/3/Cf4NAL+MBwMyGg0CPTgJACo+DQOsF+p9Hl4NAS3H6H4Wfg0CglP9/wqeDQC/jAcDMroNATYAGQOG2g0CPTgJACr+DQLN/+b8ex4NA6wX6n0fPg0AJo/4fXNeDQEtx+h+F34NAaA7/n5nng0CglP9/wu+DQBX6BWC49oNAL+MBwMz+g0BNgAZA4QaEQI9OAkAKD4RAs3/5vx4XhEDrBfqfRx+EQAmj/h9cJ4RAS3H6H4UvhEBoDv+fmTeEQKCU/3/CP4RAFfoFYLhGhEAv4wHAzE6EQE2ABkDhVoRA",
          "dtype": "f8"
         },
         "y": {
          "bdata": "jIIBANc4TUBijvU/hnhPQLtlA8DjHlFAAWYAoHGvUkDapwRALE5UQPdcAeAzYVVAeK//3/22VkBlAwIAtORXQI9OAkA6CFlAKSDtfwAEWkCGFRNA1utaQGJOK+D51FtAj+TyH9IzXEDSg8zfzsNcQFgGMMCZEF1ANNL3v8hGXUDXSSKg53JdQBbOJKD4al1A8cgO4GNJXUDBe/3/bhtdQCr0C8BQiFxA1TfV/948XECo0C8AQ8BbQLJEDOBSJltAyU0eYPdlWkD14+Wfzx5aQPNBKiBIEllA/9j7v3BjWEALMAMAzaBXQBsQAKCzBldAX0T8P14qVkDnfARADURVQD8C+7/VhFRAMxUDoOHOU0AfQgGASBxTQKBVAyCwLVJA/TP/v5x2UUCIEQTAX7RQQIzB/V+5HlBAzer8Xx7ETkCMwf1f+d1NQCHn/X8cnExAVmIBwG80S0AQ4PyfpkJKQDnsAIBK/EhAb2P1PydaSEBSMADgmpBHQKvc+p+ya0ZA55T8X+CXRUDsLP7fpudEQLEdCKCDJ0RA+08GYGZzQ0DpYP2fQ+NCQMPh/Z9gd0JAYZIEwHy2QUAOOwCgkhVBQPx2CqA1jUBARsEAgOsEQEAukeq/9+U+QAas6h8jVD5A2df0f5JbPUC9CgDAd008QMsGBADoWTtAxLENYLp0OkDjH/Cf8qM5QIETAqAnwDhAISb6377zN0BZQuufrz83QKrIEQBWhDZA9jX9n+TFNUA+GvPfKJk0QEyY/l9UIDRAQjgLICE1M0CYMP2/qJoyQCSz/r9/tjFAFKjuX5NEMUBPZP+fN34wQNiF3X995S9ADRT8X0M6LkBCUANA9GAtQI3V5v9VbyxAqU4owIedKkBKSSjgS88pQNQ+JQBizShA3LYQYGhqJ0DzQSogSH0mQEPe1R8ffiVAAtAPwFmeJEB1uwHghKcjQJmt/P8mNSNATuf/X7k+IkARHgCAgm0hQJjaAcB5WCBAaeH53ya0H0CvzgagHvMdQOOg/l/nbxxAtx38v0gqG0C9CQdAscUZQMva979bCBlAzzgF4DxwF0CB/ft/4boWQAO2+h+d2hVAjBf5XyjaFEDcDv5fJK0TQAxuBuDoHBNAIs8FYMn0EUDvZABA/0cRQLJu+591exBAjX35/5lCEEB3sw5g9BkOQNfJDGA5Jg1AxPP0PzDjC0D8zAWg5IUKQARx/T93YwlAfI7wP/caCUBuO/h/kaQHQJ+ZB4CPQQdA",
          "dtype": "f8"
         }
        },
        {
         "mode": "lines",
         "name": "0.04",
         "type": "scatter",
         "x": {
          "bdata": "CaP+H1y3gECglP9/wr+AQE2ABkDhxoBA6wX6n0fPgEBoDv+fmdeAQC/jAcDM3oBAs3/5vx7ngEBLcfofhe+AQPdcAeCj9oBAj04CQAr/gEAJo/4fXAeBQKCU/3/CD4FATYAGQOEWgUDrBfqfRx+BQGgO/5+ZJ4FAL+MBwMwugUCPTgJACjeBQOsF+p9HP4FAS3H6H4VHgUCglP9/wk+BQC/jAcDMVoFAj04CQApfgUDrBfqfR2eBQEtx+h+Fb4FAoJT/f8J3gUAv4wHAzH6BQLN/+b8eh4FAS3H6H4WPgUD3XAHgo5aBQI9OAkAKn4FACaP+H1yngUCglP9/wq+BQE2ABkDhtoFA6wX6n0e/gUBoDv+fmceBQC/jAcDMzoFAj04CQArXgUDrBfqfR9+BQEtx+h+F54FAoJT/f8LvgUAv4wHAzPaBQI9OAkAK/4FA6wX6n0cHgkBLcfofhQ+CQKCU/3/CF4JAL+MBwMwegkCzf/m/HieCQEtx+h+FL4JA91wB4KM2gkCPTgJACj+CQAmj/h9cR4JAoJT/f8JPgkBNgAZA4VaCQOsF+p9HX4JAaA7/n5lngkAv4wHAzG6CQI9OAkAKd4JA6wX6n0d/gkBLcfofhYeCQKCU/3/Cj4JAL+MBwMyWgkCPTgJACp+CQOsF+p9Hp4JAS3H6H4WvgkCglP9/wreCQC/jAcDMvoJATYAGQOHGgkCPTgJACs+CQLN/+b8e14JA6wX6n0ffgkAJo/4fXOeCQEtx+h+F74JAaA7/n5n3gkCglP9/wv+CQBX6BWC4BoNAL+MBwMwOg0CPTgJACheDQOsF+p9HH4NAS3H6H4Ung0CglP9/wi+DQC/jAcDMNoNAj04CQAo/g0DrBfqfR0eDQEtx+h+FT4NAoJT/f8JXg0Av4wHAzF6DQI9OAkAKZ4NA6wX6n0dvg0BLcfofhXeDQKCU/3/Cf4NAL+MBwMyGg0CPTgJACo+DQOsF+p9Hl4NAS3H6H4Wfg0CglP9/wqeDQC/jAcDMroNATYAGQOG2g0CPTgJACr+DQLN/+b8ex4NA6wX6n0fPg0AJo/4fXNeDQEtx+h+F34NAaA7/n5nng0CglP9/wu+DQBX6BWC49oNAL+MBwMz+g0BNgAZA4QaEQI9OAkAKD4RAs3/5vx4XhEDrBfqfRx+EQAmj/h9cJ4RAS3H6H4UvhEBoDv+fmTeEQKCU/3/CP4RAFfoFYLhGhEAv4wHAzE6EQE2ABkDhVoRA",
          "dtype": "f8"
         },
         "y": {
          "bdata": "Ljr2PwKjOkC+Re2fIy89QJ4H+5+RAz9AUm/8P73JQEDsrgUgYkdCQJdzCKDBOUNAu7z3P9mQRECZGAWg1ddFQKWuCEDUW0ZAUbIHIFZvR0Ck3vh/+iNIQB6dBIB08UhAedYDIM1ZSUCcYv6f/eFJQLVPCYBY5ElALVb930tBSkCn0f3/LEJKQN1zBYBPOUpAvq/8vwskSkBfg/ifAOZJQLjw9v91d0lADVP4v+UbSUC7vPc/We5IQLJY9X+vJEhAO1IBIDydR0AT6/k/LApHQLnY/t+iMUZA8UYHoKitRUDVDwPAJUBFQG+OCABtUkRACLv2P5+8Q0CIzvjfxvZCQK5RB2AgXkJAIs8FYEmdQUBMQQrgXvFAQLVPCYDYZkBAH5n1//0oP0CpIxUAwvg9QAXbDGBfszxAHV4IIFKMO0Bc4gogY7s6QOGS678xWTlAEcgEgFOuOECI5vD/mcw3QGjj69+zNjZAhIgOYBWZNUAaFA8gKtY0QNBfCSCMLjRAA/cTAKlwM0DbZPlfU20yQMK6+V8R8jFAraj735VzMUAKCf+/PfYwQMdS+9/XPTBAMGH6f1GxL0CdNh3gzfEuQCBpBcBXri1AMAoGAFyxLECRMvufcLQrQLKDCED1nCpAtFDXf0LQKUCb0BxAXEcpQCzYBCAHgihAgGr2Hx2XJ0BrXAcgGAInQIEmHUAaVSZAAjfeXzWrJUCBPhVg7YYkQHX6/T+n5CNArK78X5kVI0DAUwBA2X0iQLqqAKAJ1SFAhS4E4G99IUCWiwDAFHcgQHsP///rACBAc2wA4B/tHkDFb/v/558dQHa1AGCBgxxAn9n8X3huG0AA/waAOT8aQMJjBeAbYBlAdxz6f7lSGEA0PvnfPSYXQOAT+n8mDxZAsoMIQPV0FUCyAvp/ACIUQGfn+l8qsxNAzT//3wakEkD29/m/iM8RQPUO+V+VxBBA0AoHoCNcEEC8Dg9A7nsPQIg6+v87wQ1AOW0PQD9rDEAFMA/gx3EKQCEpEOBuJQpAncrwP/wTCUCF2QFgB40HQBxkCaBVZAZAr7n5/543BUAouxDgMbYDQBce9J9HrgNAnpv5fxyLAkAX3QVAmLABQNW4DkAw0ABA5339v9MwAEBFcOL/HMP/P6tb7N+9h/4/gVMiAG2o/D9l2wRAXrX6P5zO/79yU/o/xpUGwHCN+T+JouyfOm35P2ESGgAr4fY/qI7yHxSs9j+h0OXfxIb1P3uQ4j+EiPQ/",
          "dtype": "f8"
         }
        },
        {
         "mode": "lines",
         "name": "0.02",
         "type": "scatter",
         "x": {
          "bdata": "CaP+H1y3gECglP9/wr+AQE2ABkDhxoBA6wX6n0fPgEBoDv+fmdeAQC/jAcDM3oBAs3/5vx7ngEBLcfofhe+AQPdcAeCj9oBAj04CQAr/gEAJo/4fXAeBQKCU/3/CD4FATYAGQOEWgUDrBfqfRx+BQGgO/5+ZJ4FAL+MBwMwugUCPTgJACjeBQOsF+p9HP4FAS3H6H4VHgUCglP9/wk+BQC/jAcDMVoFAj04CQApfgUDrBfqfR2eBQEtx+h+Fb4FAoJT/f8J3gUAv4wHAzH6BQLN/+b8eh4FAS3H6H4WPgUD3XAHgo5aBQI9OAkAKn4FACaP+H1yngUCglP9/wq+BQE2ABkDhtoFA6wX6n0e/gUBoDv+fmceBQC/jAcDMzoFAj04CQArXgUDrBfqfR9+BQEtx+h+F54FAoJT/f8LvgUAv4wHAzPaBQI9OAkAK/4FA6wX6n0cHgkBLcfofhQ+CQKCU/3/CF4JAL+MBwMwegkCzf/m/HieCQEtx+h+FL4JA91wB4KM2gkCPTgJACj+CQAmj/h9cR4JAoJT/f8JPgkBNgAZA4VaCQOsF+p9HX4JAaA7/n5lngkAv4wHAzG6CQI9OAkAKd4JA6wX6n0d/gkBLcfofhYeCQKCU/3/Cj4JAL+MBwMyWgkCPTgJACp+CQOsF+p9Hp4JAS3H6H4WvgkCglP9/wreCQC/jAcDMvoJATYAGQOHGgkCPTgJACs+CQLN/+b8e14JA6wX6n0ffgkAJo/4fXOeCQEtx+h+F74JAaA7/n5n3gkCglP9/wv+CQBX6BWC4BoNAL+MBwMwOg0CPTgJACheDQOsF+p9HH4NAS3H6H4Ung0CglP9/wi+DQC/jAcDMNoNAj04CQAo/g0DrBfqfR0eDQEtx+h+FT4NAoJT/f8JXg0Av4wHAzF6DQI9OAkAKZ4NA6wX6n0dvg0BLcfofhXeDQKCU/3/Cf4NAL+MBwMyGg0CPTgJACo+DQOsF+p9Hl4NAS3H6H4Wfg0CglP9/wqeDQC/jAcDMroNATYAGQOG2g0CPTgJACr+DQLN/+b8ex4NA6wX6n0fPg0AJo/4fXNeDQEtx+h+F34NAaA7/n5nng0CglP9/wu+DQBX6BWC49oNAL+MBwMz+g0BNgAZA4QaEQI9OAkAKD4RAs3/5vx4XhEDrBfqfRx+EQAmj/h9cJ4RAS3H6H4UvhEBoDv+fmTeEQKCU/3/CP4RAFfoFYLhGhEAv4wHAzE6EQE2ABkDhVoRA",
          "dtype": "f8"
         },
         "y": {
          "bdata": "+NkAILKgI0DJjei/g5AlQI0TFWAOBSdAptUMgCMPKUCB0Pa/ju0qQCjO1X9rYSxADWvw3zhyLkDZLRsAHukvQOWYC+BWpjBA9XgIgH1BMUAI+vKfwYYxQIyCAQDXiDJALjr2PwLEMkBEngvAkgUzQDZjCyAAUjNA6KMIgFxMM0ALb/9frzczQBYhCqD3WTNABAfuH483M0BHfvWf0v0yQDLD659MwzJAi0cUICuVMkBS2QtgJSMyQDkr/d9suDFAfrEQgCxYMUBHP/k/sOgwQBFG/T+YizBAmhMoIPXGL0AyhO8/KuAuQM0p+b/AiS1AmUDX3461LEDRmvb/N7krQLXNAUAduCpAXM4hgAaZKUDMFt4fzpkoQHY25J8ZFihA3Iv9n6IcJ0CJ4ROAuSsmQOVFJuDXaCVAFLzX/+90JEDGKv4fwmQjQG77AqCorCJAARH+Hwk7IkAJTQMgnUQhQJ/YA+CxlyBA0Lb9n4H6H0DCuvlfEUweQEws/T/fTh1AAKoEANGkHEAhU/+fEbQbQCd+BoCcdRpAs0D9X1xXGUD0Uv2/9EIZQETHAQBvMRhAzvoBAOFcF0BOfPe/CskWQHq/BIDAuxVAiTgIAK+tFUDBkvyf+7YUQI1UA8C9DBRAuij5X06BE0AjiwEAas4SQDqA/1/VIhJANU7+f4CzEUDAqfs/CPwQQHCg/588WhBAyc0IIMnBD0DFMP+fxd0OQHOBDYCfRg1AqbgMYBO3DEC6agvAIMQLQKwr/J8XJAtAoVD7H/NgCUD9ngdgy28IQK1/BaC5dQdAtHwOQCvnBkAu6AnASTsGQGyEBOAtFQVAMV4PAP48BEAwoe9fOlgDQL0IDsDqrgJA8IoLAIjFAUB06Aag12cBQGo1A+DIIQBAJ34GgJwTAEBwjBYA4JH+P2MNEgDuavw/3gUSYM1b+z8XnOxfjGr6P0Vv6X9WhPg/X+zjv0Vx9z9/WhwAN1T3P5Ja+F+GBfc/1H4a4EoK9T9WOBIAzZT0P7Hy9N+9ivI/E1YC4Nok8j/BpwlAeyzxP4peE8A39/A//mn6X/vY7z96yAVABNjvP98Q+j/mF+4/lwwEoFFD7T8M/gAgtaXqP6Z9/9/CTeo/0i38X/xs6j920fwfE+HmP4YOBIAfUOY/NNr//0Xo5T+Yhf8/ERXnP+eG/n8X0+U/Ztb8PyEH4j9/KwWgssrhP+Dd/t9HC+I/+oz7/w524T/mawYgBKDgPyut/D/51d8/",
          "dtype": "f8"
         }
        },
        {
         "mode": "lines",
         "name": "0.01",
         "type": "scatter",
         "x": {
          "bdata": "CaP+H1y3gECglP9/wr+AQE2ABkDhxoBA6wX6n0fPgEBoDv+fmdeAQC/jAcDM3oBAs3/5vx7ngEBLcfofhe+AQPdcAeCj9oBAj04CQAr/gEAJo/4fXAeBQKCU/3/CD4FATYAGQOEWgUDrBfqfRx+BQGgO/5+ZJ4FAL+MBwMwugUCPTgJACjeBQOsF+p9HP4FAS3H6H4VHgUCglP9/wk+BQC/jAcDMVoFAj04CQApfgUDrBfqfR2eBQEtx+h+Fb4FAoJT/f8J3gUAv4wHAzH6BQLN/+b8eh4FAS3H6H4WPgUD3XAHgo5aBQI9OAkAKn4FACaP+H1yngUCglP9/wq+BQE2ABkDhtoFA6wX6n0e/gUBoDv+fmceBQC/jAcDMzoFAj04CQArXgUDrBfqfR9+BQEtx+h+F54FAoJT/f8LvgUAv4wHAzPaBQI9OAkAK/4FA6wX6n0cHgkBLcfofhQ+CQKCU/3/CF4JAL+MBwMwegkCzf/m/HieCQEtx+h+FL4JA91wB4KM2gkCPTgJACj+CQAmj/h9cR4JAoJT/f8JPgkBNgAZA4VaCQOsF+p9HX4JAaA7/n5lngkAv4wHAzG6CQI9OAkAKd4JA6wX6n0d/gkBLcfofhYeCQKCU/3/Cj4JAL+MBwMyWgkCPTgJACp+CQOsF+p9Hp4JAS3H6H4WvgkCglP9/wreCQC/jAcDMvoJATYAGQOHGgkCPTgJACs+CQLN/+b8e14JA6wX6n0ffgkAJo/4fXOeCQEtx+h+F74JAaA7/n5n3gkCglP9/wv+CQBX6BWC4BoNAL+MBwMwOg0CPTgJACheDQOsF+p9HH4NAS3H6H4Ung0CglP9/wi+DQC/jAcDMNoNAj04CQAo/g0DrBfqfR0eDQEtx+h+FT4NAoJT/f8JXg0Av4wHAzF6DQI9OAkAKZ4NA6wX6n0dvg0BLcfofhXeDQKCU/3/Cf4NAL+MBwMyGg0CPTgJACo+DQOsF+p9Hl4NAS3H6H4Wfg0CglP9/wqeDQC/jAcDMroNATYAGQOG2g0CPTgJACr+DQLN/+b8ex4NA6wX6n0fPg0AJo/4fXNeDQEtx+h+F34NAaA7/n5nng0CglP9/wu+DQBX6BWC49oNAL+MBwMz+g0BNgAZA4QaEQI9OAkAKD4RAs3/5vx4XhEDrBfqfRx+EQAmj/h9cJ4RAS3H6H4UvhEBoDv+fmTeEQKCU/3/CP4RAFfoFYLhGhEAv4wHAzE6EQE2ABkDhVoRA",
          "dtype": "f8"
         },
         "y": {
          "bdata": "/4EHQLt9F0C9SAOg02EZQIGmBwDsUBtA7/j+H4qcHUAfrgKgfRcgQCF7/F8nyyBAv0ICINCyIUBOkv3fULkiQIM1/t85aiNA1FIOoL4vJECczdu/T9QkQPZ0+f8GLSVAI9/ff6/VJUBTf9ZfI28mQHZ14P87kCZA2Fn8v02FJkDkXR4Aq8ImQDGfKOAJiSZALMQbgKpHJkBU/AAg/iQmQInNKuBcJyZAHvMqAABtJUB6VPzfES0lQJ1KBoAqqiRABBvXv+s9JECemgAAVr8jQP3e/D+0FiNAZPID4GqrIkDTVACgSwYiQI1V/D+ENyFAJgIAwOTMIEDGfwCgKgcgQB7FAUCKWB9AazD734t1HUBnvgQgTqkcQI5m+l+NextAAk4IgJ66GkDgvvf/vQ4aQGAA+N/+gRhA4iIGoKKHF0BnkvjfwZoWQEfT9x87XRVAQREH4NH4FECY8QBghu4TQP7GBCDhvBJALnwIoNSZEkAVefefs20RQIJiA6CMHBFAPsgGYHBAEEAf1/jfWQMQQIwB8z/i5w5AVvf4H8GmDUBiTgBgnQANQF0z/h9V5AtACJAOADb7CkC47gQAaaUKQFB1/b9AkQlA5W7xn1eMCEDESPe/mJ8HQHtm83/hpQdAecLv/xM2BkBWtwNA2JcFQFv7+7/8cwVAjqbvP3ZKBEAUkwxAcIcDQFCLA+CG8QJAVOb6/7ekAkDKR/Jfl94BQPb3+b+IZQFAZykNwPy1AEAokP0fbCwAQIXE9L+Hu/4/t17qH/gb/j8UqeffWcP9P7Y19N8bjPw/r84GoB75+j+MbR/gsxf5P0WFGiD5vPc/bC4J4P6F9z/0EwFg0r72P8NKFECCwfU/YNQWIM/D9D/jDACAXD30P1z45b9Mu/M/BxLrv5Si8j8IzuZfNQDyP8ij7t/JUvE/JhcNYGQW8D9GNgNgJFrvPyQaA8Bvmu0/BqUG4MiP7D/Wwv2fgr3pPyJS+z+Tdeo/ToD7X8nU6T+DPv+ffXvnPzKQ+x9mE+c/qk3536xi5j9o0wbgFSvkP/je/T83reM/Nuv9H0+u4j9rK/6/Bi3iP31V/z8NqeE/AxwGoMYW4D8Qi/ofvsbhP7ZP/p8g4N8/KFoCgI3K3T/4NwRgXr3cP/y89R/q3ts/oJgDIBEj3z9B0wMAdufZP3ow+N8C3NY/CV8FoCSA1T9CKfQf7XbWP4f48n8hNNg/EtAB4Bhd1T9gofsfjHLXP2QX9n+IINM/",
          "dtype": "f8"
         }
        }
       ],
       "layout": {
        "font": {
         "size": 14
        },
        "height": 600,
        "legend": {
         "x": 0.9,
         "y": 0.9
        },
        "template": {
         "data": {
          "bar": [
           {
            "error_x": {
             "color": "#2a3f5f"
            },
            "error_y": {
             "color": "#2a3f5f"
            },
            "marker": {
             "line": {
              "color": "#E5ECF6",
              "width": 0.5
             },
             "pattern": {
              "fillmode": "overlay",
              "size": 10,
              "solidity": 0.2
             }
            },
            "type": "bar"
           }
          ],
          "barpolar": [
           {
            "marker": {
             "line": {
              "color": "#E5ECF6",
              "width": 0.5
             },
             "pattern": {
              "fillmode": "overlay",
              "size": 10,
              "solidity": 0.2
             }
            },
            "type": "barpolar"
           }
          ],
          "carpet": [
           {
            "aaxis": {
             "endlinecolor": "#2a3f5f",
             "gridcolor": "white",
             "linecolor": "white",
             "minorgridcolor": "white",
             "startlinecolor": "#2a3f5f"
            },
            "baxis": {
             "endlinecolor": "#2a3f5f",
             "gridcolor": "white",
             "linecolor": "white",
             "minorgridcolor": "white",
             "startlinecolor": "#2a3f5f"
            },
            "type": "carpet"
           }
          ],
          "choropleth": [
           {
            "colorbar": {
             "outlinewidth": 0,
             "ticks": ""
            },
            "type": "choropleth"
           }
          ],
          "contour": [
           {
            "colorbar": {
             "outlinewidth": 0,
             "ticks": ""
            },
            "colorscale": [
             [
              0,
              "#0d0887"
             ],
             [
              0.1111111111111111,
              "#46039f"
             ],
             [
              0.2222222222222222,
              "#7201a8"
             ],
             [
              0.3333333333333333,
              "#9c179e"
             ],
             [
              0.4444444444444444,
              "#bd3786"
             ],
             [
              0.5555555555555556,
              "#d8576b"
             ],
             [
              0.6666666666666666,
              "#ed7953"
             ],
             [
              0.7777777777777778,
              "#fb9f3a"
             ],
             [
              0.8888888888888888,
              "#fdca26"
             ],
             [
              1,
              "#f0f921"
             ]
            ],
            "type": "contour"
           }
          ],
          "contourcarpet": [
           {
            "colorbar": {
             "outlinewidth": 0,
             "ticks": ""
            },
            "type": "contourcarpet"
           }
          ],
          "heatmap": [
           {
            "colorbar": {
             "outlinewidth": 0,
             "ticks": ""
            },
            "colorscale": [
             [
              0,
              "#0d0887"
             ],
             [
              0.1111111111111111,
              "#46039f"
             ],
             [
              0.2222222222222222,
              "#7201a8"
             ],
             [
              0.3333333333333333,
              "#9c179e"
             ],
             [
              0.4444444444444444,
              "#bd3786"
             ],
             [
              0.5555555555555556,
              "#d8576b"
             ],
             [
              0.6666666666666666,
              "#ed7953"
             ],
             [
              0.7777777777777778,
              "#fb9f3a"
             ],
             [
              0.8888888888888888,
              "#fdca26"
             ],
             [
              1,
              "#f0f921"
             ]
            ],
            "type": "heatmap"
           }
          ],
          "histogram": [
           {
            "marker": {
             "pattern": {
              "fillmode": "overlay",
              "size": 10,
              "solidity": 0.2
             }
            },
            "type": "histogram"
           }
          ],
          "histogram2d": [
           {
            "colorbar": {
             "outlinewidth": 0,
             "ticks": ""
            },
            "colorscale": [
             [
              0,
              "#0d0887"
             ],
             [
              0.1111111111111111,
              "#46039f"
             ],
             [
              0.2222222222222222,
              "#7201a8"
             ],
             [
              0.3333333333333333,
              "#9c179e"
             ],
             [
              0.4444444444444444,
              "#bd3786"
             ],
             [
              0.5555555555555556,
              "#d8576b"
             ],
             [
              0.6666666666666666,
              "#ed7953"
             ],
             [
              0.7777777777777778,
              "#fb9f3a"
             ],
             [
              0.8888888888888888,
              "#fdca26"
             ],
             [
              1,
              "#f0f921"
             ]
            ],
            "type": "histogram2d"
           }
          ],
          "histogram2dcontour": [
           {
            "colorbar": {
             "outlinewidth": 0,
             "ticks": ""
            },
            "colorscale": [
             [
              0,
              "#0d0887"
             ],
             [
              0.1111111111111111,
              "#46039f"
             ],
             [
              0.2222222222222222,
              "#7201a8"
             ],
             [
              0.3333333333333333,
              "#9c179e"
             ],
             [
              0.4444444444444444,
              "#bd3786"
             ],
             [
              0.5555555555555556,
              "#d8576b"
             ],
             [
              0.6666666666666666,
              "#ed7953"
             ],
             [
              0.7777777777777778,
              "#fb9f3a"
             ],
             [
              0.8888888888888888,
              "#fdca26"
             ],
             [
              1,
              "#f0f921"
             ]
            ],
            "type": "histogram2dcontour"
           }
          ],
          "mesh3d": [
           {
            "colorbar": {
             "outlinewidth": 0,
             "ticks": ""
            },
            "type": "mesh3d"
           }
          ],
          "parcoords": [
           {
            "line": {
             "colorbar": {
              "outlinewidth": 0,
              "ticks": ""
             }
            },
            "type": "parcoords"
           }
          ],
          "pie": [
           {
            "automargin": true,
            "type": "pie"
           }
          ],
          "scatter": [
           {
            "fillpattern": {
             "fillmode": "overlay",
             "size": 10,
             "solidity": 0.2
            },
            "type": "scatter"
           }
          ],
          "scatter3d": [
           {
            "line": {
             "colorbar": {
              "outlinewidth": 0,
              "ticks": ""
             }
            },
            "marker": {
             "colorbar": {
              "outlinewidth": 0,
              "ticks": ""
             }
            },
            "type": "scatter3d"
           }
          ],
          "scattercarpet": [
           {
            "marker": {
             "colorbar": {
              "outlinewidth": 0,
              "ticks": ""
             }
            },
            "type": "scattercarpet"
           }
          ],
          "scattergeo": [
           {
            "marker": {
             "colorbar": {
              "outlinewidth": 0,
              "ticks": ""
             }
            },
            "type": "scattergeo"
           }
          ],
          "scattergl": [
           {
            "marker": {
             "colorbar": {
              "outlinewidth": 0,
              "ticks": ""
             }
            },
            "type": "scattergl"
           }
          ],
          "scattermap": [
           {
            "marker": {
             "colorbar": {
              "outlinewidth": 0,
              "ticks": ""
             }
            },
            "type": "scattermap"
           }
          ],
          "scattermapbox": [
           {
            "marker": {
             "colorbar": {
              "outlinewidth": 0,
              "ticks": ""
             }
            },
            "type": "scattermapbox"
           }
          ],
          "scatterpolar": [
           {
            "marker": {
             "colorbar": {
              "outlinewidth": 0,
              "ticks": ""
             }
            },
            "type": "scatterpolar"
           }
          ],
          "scatterpolargl": [
           {
            "marker": {
             "colorbar": {
              "outlinewidth": 0,
              "ticks": ""
             }
            },
            "type": "scatterpolargl"
           }
          ],
          "scatterternary": [
           {
            "marker": {
             "colorbar": {
              "outlinewidth": 0,
              "ticks": ""
             }
            },
            "type": "scatterternary"
           }
          ],
          "surface": [
           {
            "colorbar": {
             "outlinewidth": 0,
             "ticks": ""
            },
            "colorscale": [
             [
              0,
              "#0d0887"
             ],
             [
              0.1111111111111111,
              "#46039f"
             ],
             [
              0.2222222222222222,
              "#7201a8"
             ],
             [
              0.3333333333333333,
              "#9c179e"
             ],
             [
              0.4444444444444444,
              "#bd3786"
             ],
             [
              0.5555555555555556,
              "#d8576b"
             ],
             [
              0.6666666666666666,
              "#ed7953"
             ],
             [
              0.7777777777777778,
              "#fb9f3a"
             ],
             [
              0.8888888888888888,
              "#fdca26"
             ],
             [
              1,
              "#f0f921"
             ]
            ],
            "type": "surface"
           }
          ],
          "table": [
           {
            "cells": {
             "fill": {
              "color": "#EBF0F8"
             },
             "line": {
              "color": "white"
             }
            },
            "header": {
             "fill": {
              "color": "#C8D4E3"
             },
             "line": {
              "color": "white"
             }
            },
            "type": "table"
           }
          ]
         },
         "layout": {
          "annotationdefaults": {
           "arrowcolor": "#2a3f5f",
           "arrowhead": 0,
           "arrowwidth": 1
          },
          "autotypenumbers": "strict",
          "coloraxis": {
           "colorbar": {
            "outlinewidth": 0,
            "ticks": ""
           }
          },
          "colorscale": {
           "diverging": [
            [
             0,
             "#8e0152"
            ],
            [
             0.1,
             "#c51b7d"
            ],
            [
             0.2,
             "#de77ae"
            ],
            [
             0.3,
             "#f1b6da"
            ],
            [
             0.4,
             "#fde0ef"
            ],
            [
             0.5,
             "#f7f7f7"
            ],
            [
             0.6,
             "#e6f5d0"
            ],
            [
             0.7,
             "#b8e186"
            ],
            [
             0.8,
             "#7fbc41"
            ],
            [
             0.9,
             "#4d9221"
            ],
            [
             1,
             "#276419"
            ]
           ],
           "sequential": [
            [
             0,
             "#0d0887"
            ],
            [
             0.1111111111111111,
             "#46039f"
            ],
            [
             0.2222222222222222,
             "#7201a8"
            ],
            [
             0.3333333333333333,
             "#9c179e"
            ],
            [
             0.4444444444444444,
             "#bd3786"
            ],
            [
             0.5555555555555556,
             "#d8576b"
            ],
            [
             0.6666666666666666,
             "#ed7953"
            ],
            [
             0.7777777777777778,
             "#fb9f3a"
            ],
            [
             0.8888888888888888,
             "#fdca26"
            ],
            [
             1,
             "#f0f921"
            ]
           ],
           "sequentialminus": [
            [
             0,
             "#0d0887"
            ],
            [
             0.1111111111111111,
             "#46039f"
            ],
            [
             0.2222222222222222,
             "#7201a8"
            ],
            [
             0.3333333333333333,
             "#9c179e"
            ],
            [
             0.4444444444444444,
             "#bd3786"
            ],
            [
             0.5555555555555556,
             "#d8576b"
            ],
            [
             0.6666666666666666,
             "#ed7953"
            ],
            [
             0.7777777777777778,
             "#fb9f3a"
            ],
            [
             0.8888888888888888,
             "#fdca26"
            ],
            [
             1,
             "#f0f921"
            ]
           ]
          },
          "colorway": [
           "#636efa",
           "#EF553B",
           "#00cc96",
           "#ab63fa",
           "#FFA15A",
           "#19d3f3",
           "#FF6692",
           "#B6E880",
           "#FF97FF",
           "#FECB52"
          ],
          "font": {
           "color": "#2a3f5f"
          },
          "geo": {
           "bgcolor": "white",
           "lakecolor": "white",
           "landcolor": "#E5ECF6",
           "showlakes": true,
           "showland": true,
           "subunitcolor": "white"
          },
          "hoverlabel": {
           "align": "left"
          },
          "hovermode": "closest",
          "mapbox": {
           "style": "light"
          },
          "paper_bgcolor": "white",
          "plot_bgcolor": "#E5ECF6",
          "polar": {
           "angularaxis": {
            "gridcolor": "white",
            "linecolor": "white",
            "ticks": ""
           },
           "bgcolor": "#E5ECF6",
           "radialaxis": {
            "gridcolor": "white",
            "linecolor": "white",
            "ticks": ""
           }
          },
          "scene": {
           "xaxis": {
            "backgroundcolor": "#E5ECF6",
            "gridcolor": "white",
            "gridwidth": 2,
            "linecolor": "white",
            "showbackground": true,
            "ticks": "",
            "zerolinecolor": "white"
           },
           "yaxis": {
            "backgroundcolor": "#E5ECF6",
            "gridcolor": "white",
            "gridwidth": 2,
            "linecolor": "white",
            "showbackground": true,
            "ticks": "",
            "zerolinecolor": "white"
           },
           "zaxis": {
            "backgroundcolor": "#E5ECF6",
            "gridcolor": "white",
            "gridwidth": 2,
            "linecolor": "white",
            "showbackground": true,
            "ticks": "",
            "zerolinecolor": "white"
           }
          },
          "shapedefaults": {
           "line": {
            "color": "#2a3f5f"
           }
          },
          "ternary": {
           "aaxis": {
            "gridcolor": "white",
            "linecolor": "white",
            "ticks": ""
           },
           "baxis": {
            "gridcolor": "white",
            "linecolor": "white",
            "ticks": ""
           },
           "bgcolor": "#E5ECF6",
           "caxis": {
            "gridcolor": "white",
            "linecolor": "white",
            "ticks": ""
           }
          },
          "title": {
           "x": 0.05
          },
          "xaxis": {
           "automargin": true,
           "gridcolor": "white",
           "linecolor": "white",
           "ticks": "",
           "title": {
            "standoff": 15
           },
           "zerolinecolor": "white",
           "zerolinewidth": 2
          },
          "yaxis": {
           "automargin": true,
           "gridcolor": "white",
           "linecolor": "white",
           "ticks": "",
           "title": {
            "standoff": 15
           },
           "zerolinecolor": "white",
           "zerolinewidth": 2
          }
         }
        },
        "width": 800,
        "xaxis": {
         "title": {
          "text": "Wavelength (nm)"
         }
        },
        "yaxis": {
         "range": [
          0,
          1000
         ],
         "title": {
          "text": "Intensity (a.u.)"
         }
        }
       }
      }
     },
     "metadata": {},
     "output_type": "display_data"
    }
   ],
   "source": [
    "fig = go.Figure()\n",
    "\n",
    "WAVELENGHTS = ['λ 5', 'λ 4', 'λ 3', 'λ 2', 'λ 1', 'λ 0.8', 'λ 0.6', 'λ 0.4', 'λ 0.2', 'λ 0.1']\n",
    "INTENSITIES = ['I 5', 'I 4', 'I 3', 'I 2', 'I 1', 'I 0.8', 'I 0.6', 'I 0.4', 'I 0.2', 'I 0.1']\n",
    "\n",
    "for λ_col, I_col, a in zip(WAVELENGHTS, INTENSITIES, ASS):\n",
    "    fig.add_trace(go.Scatter(x=data[λ_col], y=data[I_col],\n",
    "                    mode='lines',\n",
    "                    name=f'{np.round(a, 2)}'))\n",
    "    \n",
    "# fig.add_trace(go.Scatter(x=fondo['λfondo'],y=fondo['Ifondo'],\n",
    "#                     mode='lines',\n",
    "#                     name=f'fondo'))\n",
    "\n",
    "fig.update_layout(\n",
    "                  xaxis_title='Wavelength (nm)',\n",
    "                  yaxis_title='Intensity (a.u.)',\n",
    "                  height=600,\n",
    "                  width=800,\n",
    "                  yaxis=dict(range=[0, 1000]),\n",
    "                  legend=dict(x=0.9, y=0.9),\n",
    "                  font=dict(size=14))\n",
    "\n",
    "fig.write_html(dir_path + r\"\\html\\emission_spectrum.html\")\n",
    "fig.write_image(dir_path + r\"\\images\\emission_spectrum.png\")\n",
    "fig.show()"
   ]
  },
  {
   "cell_type": "markdown",
   "id": "668f2f9a",
   "metadata": {},
   "source": [
    "plot spettri normalizzati"
   ]
  },
  {
   "cell_type": "code",
   "execution_count": 16,
   "id": "51d614a8",
   "metadata": {},
   "outputs": [
    {
     "name": "stdout",
     "output_type": "stream",
     "text": [
      "Tabella con i fit di tutti i picchi delle parabole\n"
     ]
    },
    {
     "data": {
      "text/html": [
       "<div>\n",
       "<style scoped>\n",
       "    .dataframe tbody tr th:only-of-type {\n",
       "        vertical-align: middle;\n",
       "    }\n",
       "\n",
       "    .dataframe tbody tr th {\n",
       "        vertical-align: top;\n",
       "    }\n",
       "\n",
       "    .dataframe thead th {\n",
       "        text-align: right;\n",
       "    }\n",
       "</style>\n",
       "<table border=\"1\" class=\"dataframe\">\n",
       "  <thead>\n",
       "    <tr style=\"text-align: right;\">\n",
       "      <th></th>\n",
       "      <th>Absorbance</th>\n",
       "      <th>λcenter</th>\n",
       "      <th>a</th>\n",
       "      <th>IMAX</th>\n",
       "      <th>error_λcenter</th>\n",
       "      <th>error_a</th>\n",
       "      <th>error_IMAX</th>\n",
       "    </tr>\n",
       "  </thead>\n",
       "  <tbody>\n",
       "    <tr>\n",
       "      <th>0</th>\n",
       "      <td>0.480042</td>\n",
       "      <td>554.044219</td>\n",
       "      <td>2.442431</td>\n",
       "      <td>940.693325</td>\n",
       "      <td>0.274804</td>\n",
       "      <td>0.443226</td>\n",
       "      <td>1.342285</td>\n",
       "    </tr>\n",
       "    <tr>\n",
       "      <th>1</th>\n",
       "      <td>0.352690</td>\n",
       "      <td>553.742124</td>\n",
       "      <td>2.156915</td>\n",
       "      <td>819.968625</td>\n",
       "      <td>0.285710</td>\n",
       "      <td>0.435038</td>\n",
       "      <td>1.546347</td>\n",
       "    </tr>\n",
       "    <tr>\n",
       "      <th>2</th>\n",
       "      <td>0.263436</td>\n",
       "      <td>552.758972</td>\n",
       "      <td>1.744154</td>\n",
       "      <td>718.450202</td>\n",
       "      <td>0.067448</td>\n",
       "      <td>0.081499</td>\n",
       "      <td>0.254055</td>\n",
       "    </tr>\n",
       "    <tr>\n",
       "      <th>3</th>\n",
       "      <td>0.174750</td>\n",
       "      <td>551.865053</td>\n",
       "      <td>1.027011</td>\n",
       "      <td>492.753337</td>\n",
       "      <td>0.074358</td>\n",
       "      <td>0.052306</td>\n",
       "      <td>0.178710</td>\n",
       "    </tr>\n",
       "    <tr>\n",
       "      <th>4</th>\n",
       "      <td>0.087549</td>\n",
       "      <td>551.494151</td>\n",
       "      <td>0.503627</td>\n",
       "      <td>238.703070</td>\n",
       "      <td>0.147158</td>\n",
       "      <td>0.053501</td>\n",
       "      <td>0.250304</td>\n",
       "    </tr>\n",
       "    <tr>\n",
       "      <th>5</th>\n",
       "      <td>0.070475</td>\n",
       "      <td>551.279005</td>\n",
       "      <td>0.386982</td>\n",
       "      <td>170.262114</td>\n",
       "      <td>0.137228</td>\n",
       "      <td>0.036855</td>\n",
       "      <td>0.180003</td>\n",
       "    </tr>\n",
       "    <tr>\n",
       "      <th>6</th>\n",
       "      <td>0.052845</td>\n",
       "      <td>551.307117</td>\n",
       "      <td>0.243386</td>\n",
       "      <td>117.772112</td>\n",
       "      <td>0.080942</td>\n",
       "      <td>0.013286</td>\n",
       "      <td>0.070467</td>\n",
       "    </tr>\n",
       "    <tr>\n",
       "      <th>7</th>\n",
       "      <td>0.035265</td>\n",
       "      <td>551.090509</td>\n",
       "      <td>0.101588</td>\n",
       "      <td>52.545366</td>\n",
       "      <td>0.128419</td>\n",
       "      <td>0.009120</td>\n",
       "      <td>0.057811</td>\n",
       "    </tr>\n",
       "    <tr>\n",
       "      <th>8</th>\n",
       "      <td>0.017633</td>\n",
       "      <td>550.856778</td>\n",
       "      <td>0.031331</td>\n",
       "      <td>19.321189</td>\n",
       "      <td>0.203719</td>\n",
       "      <td>0.004558</td>\n",
       "      <td>0.033509</td>\n",
       "    </tr>\n",
       "    <tr>\n",
       "      <th>9</th>\n",
       "      <td>0.008831</td>\n",
       "      <td>550.925065</td>\n",
       "      <td>0.024793</td>\n",
       "      <td>11.330715</td>\n",
       "      <td>0.231624</td>\n",
       "      <td>0.004218</td>\n",
       "      <td>0.036550</td>\n",
       "    </tr>\n",
       "  </tbody>\n",
       "</table>\n",
       "</div>"
      ],
      "text/plain": [
       "   Absorbance     λcenter         a        IMAX  error_λcenter   error_a  \\\n",
       "0    0.480042  554.044219  2.442431  940.693325       0.274804  0.443226   \n",
       "1    0.352690  553.742124  2.156915  819.968625       0.285710  0.435038   \n",
       "2    0.263436  552.758972  1.744154  718.450202       0.067448  0.081499   \n",
       "3    0.174750  551.865053  1.027011  492.753337       0.074358  0.052306   \n",
       "4    0.087549  551.494151  0.503627  238.703070       0.147158  0.053501   \n",
       "5    0.070475  551.279005  0.386982  170.262114       0.137228  0.036855   \n",
       "6    0.052845  551.307117  0.243386  117.772112       0.080942  0.013286   \n",
       "7    0.035265  551.090509  0.101588   52.545366       0.128419  0.009120   \n",
       "8    0.017633  550.856778  0.031331   19.321189       0.203719  0.004558   \n",
       "9    0.008831  550.925065  0.024793   11.330715       0.231624  0.004218   \n",
       "\n",
       "   error_IMAX  \n",
       "0    1.342285  \n",
       "1    1.546347  \n",
       "2    0.254055  \n",
       "3    0.178710  \n",
       "4    0.250304  \n",
       "5    0.180003  \n",
       "6    0.070467  \n",
       "7    0.057811  \n",
       "8    0.033509  \n",
       "9    0.036550  "
      ]
     },
     "metadata": {},
     "output_type": "display_data"
    }
   ],
   "source": [
    "SIGMA_LAMBDA = 1.5\n",
    "\n",
    "def max_fit_parabolic(x, λcenter, a, IMAX): # -a*(x-λcenter)**2 + IMAX\n",
    "    return -a*(x-λcenter)**2 + IMAX\n",
    "\n",
    "λcenter_list = []\n",
    "a_list = []\n",
    "IMAX_list = []\n",
    "error_λcenter_list = []\n",
    "error_a_list = []\n",
    "error_IMAX_list = []\n",
    "sigmay = [] # contiene l'errore propagato con x\n",
    "for λ_col, I_col in zip(WAVELENGHTS, INTENSITIES):\n",
    "    Λ = data[λ_col]\n",
    "    I = data[I_col]\n",
    "    Λmaxcenter = I.idxmax()\n",
    "\n",
    "    λcenter = Λ[Λmaxcenter] # guess\n",
    "    IMAX = I.max() # guess\n",
    "    a = 1 # guess\n",
    "\n",
    "    xrangemax = Λ[Λmaxcenter-5:Λmaxcenter+5] # 10 points around the max\n",
    "    yrangemax = I[Λmaxcenter-5:Λmaxcenter+5] # 10 points around the max\n",
    "    # ---- per considerare errore su lambda di 1.5nm\n",
    "    # iterazione 0\n",
    "    popt, pcov = curve_fit(max_fit_parabolic, xrangemax, yrangemax, p0=[λcenter, a, IMAX])\n",
    "    λcenter, a, IMAX = popt\n",
    "    error_λcenter, error_a, error_IMAX = np.sqrt(np.diag(pcov))\n",
    "    # iterazione 1\n",
    "    dydl = np.abs(-2*a*(λcenter-xrangemax)) # derivata prima rispetto a λ\n",
    "    sy = dydl*SIGMA_LAMBDA\n",
    "    popt, pcov = curve_fit(max_fit_parabolic, xrangemax, yrangemax, p0=[λcenter, a, IMAX],sigma=sy)\n",
    "    λcenter, a, IMAX = popt\n",
    "    error_λcenter, error_a, error_IMAX = np.sqrt(np.diag(pcov))\n",
    "    # iterazione 2\n",
    "    d2ydl2 = np.abs(-2*a) # derivata seconda rispetto a λ\n",
    "    sy = np.sqrt((dydl*SIGMA_LAMBDA)**2 + (0.5*d2ydl2*SIGMA_LAMBDA**2)) # errore propagato\n",
    "    popt, pcov = curve_fit(max_fit_parabolic, xrangemax, yrangemax, p0=[λcenter, a, IMAX],sigma=sy)\n",
    "    λcenter, a, IMAX = popt\n",
    "    error_λcenter, error_a, error_IMAX = np.sqrt(np.diag(pcov))\n",
    "\n",
    "    λcenter_list.append(λcenter)\n",
    "    a_list.append(a)\n",
    "    IMAX_list.append(IMAX)\n",
    "    error_λcenter_list.append(error_λcenter)\n",
    "    error_a_list.append(error_a)\n",
    "    error_IMAX_list.append(error_IMAX)\n",
    "    sigmay.append(sy)\n",
    "\n",
    "# to numpy\n",
    "λcenter_list = np.array(λcenter_list)\n",
    "a_list = np.array(a_list)\n",
    "IMAX_list = np.array(IMAX_list)\n",
    "error_λcenter_list = np.array(error_λcenter_list)\n",
    "error_a_list = np.array(error_a_list)\n",
    "error_IMAX_list = np.array(error_IMAX_list)\n",
    "sigmay = np.array(sigmay)\n",
    "\n",
    "print('Tabella con i fit di tutti i picchi delle parabole')\n",
    "max_fit_parabolic_dataframe = pd.DataFrame({'Absorbance': ASS, 'λcenter': λcenter_list, 'a': a_list, 'IMAX': IMAX_list, 'error_λcenter': error_λcenter_list, 'error_a': error_a_list, 'error_IMAX': error_IMAX_list})\n",
    "display(max_fit_parabolic_dataframe)\n"
   ]
  },
  {
   "cell_type": "code",
   "execution_count": 17,
   "id": "f51138fa",
   "metadata": {},
   "outputs": [
    {
     "name": "stdout",
     "output_type": "stream",
     "text": [
      "λcenter = 551.94 ± 1.11 nm\n",
      "NOTA: sigmaLambda dichiarata dal costruttore vale 1.5nm e quindi è compatibile con il valore di sigma trovato\n"
     ]
    }
   ],
   "source": [
    "center = np.mean(λcenter_list)\n",
    "sigma = np.std(λcenter_list)\n",
    "print('λcenter =', final_val(center, sigma, udm='nm'))\n",
    "print('NOTA: sigmaLambda dichiarata dal costruttore vale 1.5nm e quindi è compatibile con il valore di sigma trovato')"
   ]
  },
  {
   "cell_type": "code",
   "execution_count": 18,
   "id": "18b95d65",
   "metadata": {},
   "outputs": [
    {
     "data": {
      "application/vnd.plotly.v1+json": {
       "config": {
        "plotlyServerURL": "https://plot.ly"
       },
       "data": [
        {
         "mode": "lines",
         "name": "0.48",
         "type": "scatter",
         "x": {
          "bdata": "fi0BG3+mgEAVHwJ75a6AQMIKCTsEtoBAYJD8mmq+gEDdmAGbvMaAQKRtBLvvzYBAKAr8ukHWgEDA+/waqN6AQGznA9vG5YBABNkEOy3ugEB+LQEbf/aAQBUfAnvl/oBAwgoJOwQGgUBgkPyaag6BQN2YAZu8FoFApG0Eu+8dgUAE2QQ7LSaBQGCQ/JpqLoFAwPv8Gqg2gUAVHwJ75T6BQKRtBLvvRYFABNkEOy1OgUBgkPyaalaBQMD7/BqoXoFAFR8Ce+VmgUCkbQS7722BQCgK/LpBdoFAwPv8Gqh+gUBs5wPbxoWBQATZBDstjoFAfi0BG3+WgUAVHwJ75Z6BQMIKCTsEpoFAYJD8mmqugUDdmAGbvLaBQKRtBLvvvYFABNkEOy3GgUBgkPyaas6BQMD7/Bqo1oFAFR8Ce+XegUCkbQS77+WBQATZBDst7oFAYJD8mmr2gUDA+/waqP6BQBUfAnvlBoJApG0Eu+8NgkAoCvy6QRaCQMD7/BqoHoJAbOcD28YlgkAE2QQ7LS6CQH4tARt/NoJAFR8Ce+U+gkDCCgk7BEaCQGCQ/JpqToJA3ZgBm7xWgkCkbQS7712CQATZBDstZoJAYJD8mmpugkDA+/waqHaCQBUfAnvlfoJApG0Eu++FgkAE2QQ7LY6CQGCQ/JpqloJAwPv8GqiegkAVHwJ75aaCQKRtBLvvrYJAwgoJOwS2gkAE2QQ7Lb6CQCgK/LpBxoJAYJD8mmrOgkB+LQEbf9aCQMD7/Bqo3oJA3ZgBm7zmgkAVHwJ75e6CQIqECFvb9YJApG0Eu+/9gkAE2QQ7LQaDQGCQ/JpqDoNAwPv8GqgWg0AVHwJ75R6DQKRtBLvvJYNABNkEOy0ug0BgkPyaajaDQMD7/BqoPoNAFR8Ce+VGg0CkbQS7702DQATZBDstVoNAYJD8mmpeg0DA+/waqGaDQBUfAnvlboNApG0Eu+91g0AE2QQ7LX6DQGCQ/JpqhoNAwPv8GqiOg0AVHwJ75ZaDQKRtBLvvnYNAwgoJOwSmg0AE2QQ7La6DQCgK/LpBtoNAYJD8mmq+g0B+LQEbf8aDQMD7/BqozoNA3ZgBm7zWg0AVHwJ75d6DQIqECFvb5YNApG0Eu+/tg0DCCgk7BPaDQATZBDst/oNAKAr8ukEGhEBgkPyaag6EQH4tARt/FoRAwPv8GqgehEDdmAGbvCaEQBUfAnvlLoRAioQIW9s1hECkbQS77z2EQMIKCTsERoRA",
          "dtype": "f8"
         },
         "y": {
          "bdata": "ntZ78j2GQEB+w/cEcpBCQIQlfWsoZURAhOJx4OP0RkADqy683Z1JQNz6GoorZ0tAmKuNFRCNTkAqG83jfYxQQNDiRLznnFFAw//RF0bQUkCrxyNtDRNUQDVSBNlIGFVAJ7V1GzHfVUB3ESpUv8NWQI93pR1wZVdAleLe4ZoZWECnvItfs2dYQDGJ5Ey6vlhAURUfPAy3WEAAAAAAAABZQJ9i5+jA9FhAPXU2jZS/WEBQuVSYqlZYQLqACTYLnldAvYQsseCUV0AsiqXXTBNXQEgdps8tR1ZAVZcXvB4rVkB6TX9WxGVVQA7o+YiIv1RAKlX/SWwNVEDOD4OMQk5TQIsas9NVrVJAJupp3MYKUkCoBifmS6FRQCDLqpKM2VBAVgvYe2YbUEA0qxvMbK9OQIeXwh6xq01Awiq+hvBaTEBl6MDEVqJLQAxz6GzEQUpA1P61i7ImSUA40A8Qf0RIQPxiM4tvQ0dA923JFNyaRkDboHG7pJtFQPkIXz/ptURAEVdq2mI7RECUoQ3v415DQIu0gPu7l0JAictXtEwDQkDU4+g7LY1BQGtNd7Ss6kBAm8ciUtJxQEC/AKnYRcQ/QMAdiXF25D5AUcXZstv6PUDrkscIF+E8QCq3cPBeRzxAHuLAN04aO0CsNJsRYEA6QFFPOh1YljlARps2HLLXOEBZbLvq1x44QHkLH1QrZTdA+uKwV3urNkBCp3EXQt81QICuv0MOBDVApZfl4jY4NECF1DWvraUzQL5LtMwe6TJAr4tvnFQWMkDRw+0bRF4xQCnQti/2xzBA4nJJ3nkaMECk/BZD2wwvQFDXztea1C1AqU7QufqNLEDRF7Ewnz0rQNm06LI6ZipAhPivNjVSKUAZkdrZOUQoQH5ZT2kHPidAzfSlZ8j0JUDr7Hr+JiolQOK79o2SQSRAxLvOlqo/I0D6m2r7/3oiQPxjVGsQVCFAvTpKc7rcIEBGOaR/o94fQJgFXlGV3B5AcwPXFLtFHUB02QIPyN0bQO3DKEmS1hpAyHkZJHBfGUBRtjhAMyAYQEv2+ZiiLBdAwBBLrXn6FUAKQ9M/+f4UQEz/ToEbTxRAh8XPbdo0E0AgRrfvWVsSQJstSOK8yBFAm+/2bVHREECdGiyPSyEQQFfHwwJ1Ew9A+cc/+2CADUAMTaXdYUsMQN6WVQU9GgtAgA2IIAH9CUBTfU3jY+QIQFy2sBBh4gdA8ZfmnKvYBkCizsGQl0AGQBMRLvoEEgVA",
          "dtype": "f8"
         }
        },
        {
         "mode": "lines",
         "name": "0.35",
         "type": "scatter",
         "x": {
          "bdata": "1KC+y+mogEBrkr8rULGAQBh+xutuuIBAtgO6S9XAgEAzDL9LJ8mAQPrgwWta0IBAfn25a6zYgEAWb7rLEuGAQMJawYsx6IBAWkzC65fwgEDUoL7L6fiAQGuSvytQAYFAGH7G624IgUC2A7pL1RCBQDMMv0snGYFA+uDBa1oggUBaTMLrlyiBQLYDukvVMIFAFm+6yxI5gUBrkr8rUEGBQPrgwWtaSIFAWkzC65dQgUC2A7pL1ViBQBZvussSYYFAa5K/K1BpgUD64MFrWnCBQH59uWuseIFAFm+6yxKBgUDCWsGLMYiBQFpMwuuXkIFA1KC+y+mYgUBrkr8rUKGBQBh+xutuqIFAtgO6S9WwgUAzDL9LJ7mBQPrgwWtawIFAWkzC65fIgUC2A7pL1dCBQBZvussS2YFAa5K/K1DhgUD64MFrWuiBQFpMwuuX8IFAtgO6S9X4gUAWb7rLEgGCQGuSvytQCYJA+uDBa1oQgkB+fblrrBiCQBZvussSIYJAwlrBizEogkBaTMLrlzCCQNSgvsvpOIJAa5K/K1BBgkAYfsbrbkiCQLYDukvVUIJAMwy/SydZgkD64MFrWmCCQFpMwuuXaIJAtgO6S9VwgkAWb7rLEnmCQGuSvytQgYJA+uDBa1qIgkBaTMLrl5CCQLYDukvVmIJAFm+6yxKhgkBrkr8rUKmCQPrgwWtasIJAGH7G6264gkBaTMLrl8CCQH59uWusyIJAtgO6S9XQgkDUoL7L6diCQBZvussS4YJAMwy/SyfpgkBrkr8rUPGCQOD3xQtG+IJA+uDBa1oAg0BaTMLrlwiDQLYDukvVEINAFm+6yxIZg0Brkr8rUCGDQPrgwWtaKINAWkzC65cwg0C2A7pL1TiDQBZvussSQYNAa5K/K1BJg0D64MFrWlCDQFpMwuuXWINAtgO6S9Vgg0AWb7rLEmmDQGuSvytQcYNA+uDBa1p4g0BaTMLrl4CDQLYDukvViINAFm+6yxKRg0Brkr8rUJmDQPrgwWtaoINAGH7G626og0BaTMLrl7CDQH59uWusuINAtgO6S9XAg0DUoL7L6ciDQBZvussS0YNAMwy/SyfZg0Brkr8rUOGDQOD3xQtG6INA+uDBa1rwg0AYfsbrbviDQFpMwuuXAIRAfn25a6wIhEC2A7pL1RCEQNSgvsvpGIRAFm+6yxIhhEAzDL9LJymEQGuSvytQMYRA4PfFC0Y4hED64MFrWkCEQBh+xutuSIRA",
          "dtype": "f8"
         },
         "y": {
          "bdata": "+VnyePS6QUDaqqh0JdNDQE54ubW4okVAxY1sL3hJSEA3GU2aA/pKQIgmCRN0+kxA16JTZlfCT0B9Q4Hb2SBRQM/Q9/AhHlJA3TzN92BHU0C1thYo12lUQMDlUdb6cVVAdUv8edgRVkBxQgBHufRWQHw9Hw9RlFdAoq0VkwQeWECzCNTFQWNYQN+QLwd5mlhAm06sPzu/WEAAAAAAAABZQJr7L92fo1hA6L/zCD6DWEAuAwLWDB5YQK9PghdO2ldAE7KG5NVBV0D4JOFx8ddWQNBqLZ9ZQVZAkBiXmiKzVUB33b1nyDxVQErgRwL5jVRApdCQfxPLU0B9/nuhc/lSQPLcQ7YNclJA+KK6USTXUUBkW+udLipRQKpflN//oVBARUbHuVDPT0D/wnHlt5JOQNyv66cQRk1ARgE5+0T/S0AfXnK2ThpLQJRJMjS1EEpADLaMCeDeSEAQ4FvU38JHQHX6CYW+80ZAPaTRMS0kRkDxxqndO0hFQINhXc0HbkRAnfm9vzbKQ0BDRdZv1hJDQMu+PSfockJAcNVfglLPQUDYtAH6Ek9BQDrgyGAtpUBAHy1cdScxQED+frj3sjc/QE8bSXmYbj5AlUEo8VtjPUA4BPZcu2E8QDPwVz6tmTtAhzF/Y1TSOkCn9X3hp9g5QF5FEeesEzlAG0ownQUhOECUvqTM8IE3QFL4E6qx6zZAs13MORkZNkDFDKePSk81QCdxbeG7jjRAISlRnVrWM0DZzXxxNyQzQJdgHdByVjJA2OSOWJGsMUBGQRPOLQ0xQJD7/r07ZzBAIZBji5+AL0CPUvHGoGUuQNhSE9MaGS1APUWqS6fwK0CVDzZ7Nc4qQL4dkBrn9ylAJs7GG/PKKEDthBh2I7EnQFb8fRQ/jiZAZwHaXtKuJUD60R320eckQGTY4+VQ6iNAXf65P0oYI0CayWWq1TAiQJiEmOxJaCFA7qKSp0mgIEAd6HPhH6cfQGj8g6DoOh5AH4wxRbruHED92j1nK7IbQCZuT8h6WRpAQpATevRcGUAsZ82NheQXQG+ZIqoqxBZAuPQZl2C/FUAlwP+Yk9UUQFKqFch65RNA86RXgxP6EkCJI0m6pPkRQIzTbewHkhFAy4pZLKu9EEBkDpkClgkQQBXDgkxEbQ5AHbH59jZYDUAoi8FQlcELQJdACluyzwpAjJ8DEqtQCUBtx9KtzmsIQCk3XRsrRgdA5es+8DiLBkDp8n95RrgFQEJIRBIkugRA",
          "dtype": "f8"
         }
        },
        {
         "mode": "lines",
         "name": "0.26",
         "type": "scatter",
         "x": {
          "bdata": "r+hrSsewgEBG2myqLbmAQPPFc2pMwIBAkUtnyrLIgEAOVGzKBNGAQNUob+o32IBAWcVm6onggEDxtmdK8OiAQJ2ibgoP8IBANZRvanX4gECv6GtKxwCBQEbabKotCYFA88VzakwQgUCRS2fKshiBQA5UbMoEIYFA1Shv6jcogUA1lG9qdTCBQJFLZ8qyOIFA8bZnSvBAgUBG2myqLUmBQNUob+o3UIFANZRvanVYgUCRS2fKsmCBQPG2Z0rwaIFARtpsqi1xgUDVKG/qN3iBQFnFZuqJgIFA8bZnSvCIgUCdom4KD5CBQDWUb2p1mIFAr+hrSseggUBG2myqLamBQPPFc2pMsIFAkUtnyrK4gUAOVGzKBMGBQNUob+o3yIFANZRvanXQgUCRS2fKstiBQPG2Z0rw4IFARtpsqi3pgUDVKG/qN/CBQDWUb2p1+IFAkUtnyrIAgkDxtmdK8AiCQEbabKotEYJA1Shv6jcYgkBZxWbqiSCCQPG2Z0rwKIJAnaJuCg8wgkA1lG9qdTiCQK/oa0rHQIJARtpsqi1JgkDzxXNqTFCCQJFLZ8qyWIJADlRsygRhgkDVKG/qN2iCQDWUb2p1cIJAkUtnyrJ4gkDxtmdK8ICCQEbabKotiYJA1Shv6jeQgkA1lG9qdZiCQJFLZ8qyoIJA8bZnSvCogkBG2myqLbGCQNUob+o3uIJA88VzakzAgkA1lG9qdciCQFnFZuqJ0IJAkUtnyrLYgkCv6GtKx+CCQPG2Z0rw6IJADlRsygTxgkBG2myqLfmCQLs/c4ojAINA1Shv6jcIg0A1lG9qdRCDQJFLZ8qyGINA8bZnSvAgg0BG2myqLSmDQNUob+o3MINANZRvanU4g0CRS2fKskCDQPG2Z0rwSINARtpsqi1Rg0DVKG/qN1iDQDWUb2p1YINAkUtnyrJog0DxtmdK8HCDQEbabKoteYNA1Shv6jeAg0A1lG9qdYiDQJFLZ8qykINA8bZnSvCYg0BG2myqLaGDQNUob+o3qINA88Vzakywg0A1lG9qdbiDQFnFZuqJwINAkUtnyrLIg0Cv6GtKx9CDQPG2Z0rw2INADlRsygThg0BG2myqLemDQLs/c4oj8INA1Shv6jf4g0DzxXNqTACEQDWUb2p1CIRAWcVm6okQhECRS2fKshiEQK/oa0rHIIRA8bZnSvAohEAOVGzKBDGEQEbabKotOYRAuz9ziiNAhEDVKG/qN0iEQPPFc2pMUIRA",
          "dtype": "f8"
         },
         "y": {
          "bdata": "oRe7p43dREAQU5Gt0C1HQDbaObnuKklAjYOjakCuS0Bme7JkAJdOQJZObSW3JFBAQMDjZ+h4UUBJBvCayLBSQIw3GuhmhlNA74EG3BKOVEC1XvKkqLBVQP0081tfX1ZA2ULmJP04V0BMboUKGHhXQNdaclLVM1hA4h9jtq+GWEDtmqpaYcpYQHitqHqy6VhAAAAAAAAAWUCcU1iqtOVYQGGVsGlSsFhAK8SYxNVcWEDNyNSMtgRYQJS+98SyYldAVux7T4TgVkBQkB3Y739WQO2GU8/AzlVAqePbQL0xVUAY5tQYpMVUQDSczgePGVRArvYMNdxtU0DMqIh9MY5SQItLqFiC9lFA9TQ9muBwUUCPdFR+c6lQQII2NEwp4E9AWINvRuv3TkBCZ46gCalNQL3rxFEptkxAOhK034hTS0CFOnpdoWdKQOAkdqmP+0hAM1Ph6lIgSEAnsX8LUT9HQBgS1Ea7akZAjJheQa52RUAXPYVSJ+JEQGgL53pp7kNAu723a7M7Q0CwYF0vv5VCQO3mlwfB60FAz7HwP19JQUCY8N8M/tJAQCpvoBCIQkBAtOHxZfiNP0DY1oTOapM+QMvjq28Mez1AIhvXTyCePEBU1hzWk787QEp5VLxK0jpANTf2ptb3OUBPEwdAWA05QPyJ/KTKVjhARbA0uACPN0D0RLAs+MY2QNvE46MJJDZA3jEkz/yENUC/i6Fef780QA8CjwaEyDNAXeAXCspGM0CbJc18a4QyQKz5XxC0sTFA3WDKn2QhMUDDYi6FoLEwQJhK23IBGjBA4M1lvtPFLkAy+OcNAnYtQDc8HNhKZSxAEYTBguFWK0DpkYWLr/opQJhg5fQwaSlAvmuK+qI9KEAP2va6g+8mQNBBlR4oISZAXK84urwAJUBl5kJERT4kQIMhjjkIbyNAQa6cjy+CIkBK2Q6TPb8hQCq6EKpvyCBAZ55NYwcZIEDcbg/NQtweQCBL6T2KdR1Ajq6jaoz5G0Ct8UntWcMaQCtaZ4zbyRlAlepAiDJDGECdkoiWY0YXQKRM+YMoERZAe/1IDtIjFUA45oRHwRAUQFBviBLUAhNAWMXUAwFVEkBSkkRWMasRQMOUiQqGIxFA4a6jsUg5EEB/1jQf/pUOQJdSgT48Zw1AUiKFkalhDEBNVDu2TyILQDC09/rlkQlAEayBwPm7CED0+78UGpYHQBPRHvU8VQZAWtk0WhQIBkB2PxDFXcoEQBFVgD+jHQRA",
          "dtype": "f8"
         }
        },
        {
         "mode": "lines",
         "name": "0.17",
         "type": "scatter",
         "x": {
          "bdata": "1QGxCe63gEBs87FpVMCAQBnfuClzx4BAt2SsidnPgEA0bbGJK9iAQPtBtKle34BAf96rqbDngEAX0KwJF/CAQMO7s8k194BAW620KZz/gEDVAbEJ7geBQGzzsWlUEIFAGd+4KXMXgUC3ZKyJ2R+BQDRtsYkrKIFA+0G0qV4vgUBbrbQpnDeBQLdkrInZP4FAF9CsCRdIgUBs87FpVFCBQPtBtKleV4FAW620KZxfgUC3ZKyJ2WeBQBfQrAkXcIFAbPOxaVR4gUD7QbSpXn+BQH/eq6mwh4FAF9CsCReQgUDDu7PJNZeBQFuttCmcn4FA1QGxCe6ngUBs87FpVLCBQBnfuClzt4FAt2Ssidm/gUA0bbGJK8iBQPtBtKlez4FAW620KZzXgUC3ZKyJ2d+BQBfQrAkX6IFAbPOxaVTwgUD7QbSpXveBQFuttCmc/4FAt2SsidkHgkAX0KwJFxCCQGzzsWlUGIJA+0G0qV4fgkB/3qupsCeCQBfQrAkXMIJAw7uzyTU3gkBbrbQpnD+CQNUBsQnuR4JAbPOxaVRQgkAZ37gpc1eCQLdkrInZX4JANG2xiStogkD7QbSpXm+CQFuttCmcd4JAt2Ssidl/gkAX0KwJF4iCQGzzsWlUkIJA+0G0qV6XgkBbrbQpnJ+CQLdkrInZp4JAF9CsCRewgkBs87FpVLiCQPtBtKlev4JAGd+4KXPHgkBbrbQpnM+CQH/eq6mw14JAt2SsidnfgkDVAbEJ7ueCQBfQrAkX8IJANG2xiSv4gkBs87FpVACDQOFYuElKB4NA+0G0qV4Pg0BbrbQpnBeDQLdkrInZH4NAF9CsCRcog0Bs87FpVDCDQPtBtKleN4NAW620KZw/g0C3ZKyJ2UeDQBfQrAkXUINAbPOxaVRYg0D7QbSpXl+DQFuttCmcZ4NAt2Ssidlvg0AX0KwJF3iDQGzzsWlUgINA+0G0qV6Hg0BbrbQpnI+DQLdkrInZl4NAF9CsCRegg0Bs87FpVKiDQPtBtKler4NAGd+4KXO3g0BbrbQpnL+DQH/eq6mwx4NAt2SsidnPg0DVAbEJ7teDQBfQrAkX4INANG2xiSvog0Bs87FpVPCDQOFYuElK94NA+0G0qV7/g0AZ37gpcweEQFuttCmcD4RAf96rqbAXhEC3ZKyJ2R+EQNUBsQnuJ4RAF9CsCRcwhEA0bbGJKziEQGzzsWlUQIRA4Vi4SUpHhED7QbSpXk+EQBnfuClzV4RA",
          "dtype": "f8"
         },
         "y": {
          "bdata": "C7cHQsCQRkDqTacRsdNIQGcf6isbo0pAbDG1mS6PTUBEnEJ+JylQQJWVqROBGVFAMPKbEq9aUkAOEUimo29TQHKuL2F8RFRAi+DNJiRwVUCfJ2XgTjpWQN12P25JAFdAqDj2d/+XV0AQFFfGwxxYQCJcg6JXmVhA3kurhh7jWEAP87OvX+9YQAAAAAAAAFlA5MgTUEDuWEAKm6QcGcVYQFrwE2ObjFhADT///KU1WEDQlAfysvBXQCLgENiMVldA3MXPk7fFVkA8M0zAdF1WQBlMna2WwlVAJ7iLz4cXVUARYQY3tqNUQEitlKG46VNATZuM5+EpU0AmxqX9mX1SQMSGmQtW6FFAdQkyobpSUUAnAXZuw5JQQF+2GwtV8U9AWufuRmjLTkDZbphb0EFNQB1BPQdKRkxANtzh2ncKS0C80FZuZt1JQJFrYUJh4UhAN97n4vfLR0DzXFjMBOJGQBYglrAHG0ZA+HKjgk0URUAuXx0tqV1EQEma2vkhokNAsfy10zTzQkDrgWGMd1lCQD1mbN2SskFAjrGWtNLpQECVwgjOaHtAQD1yrAMyAEBAtGZqLWTwPkDNhC+00PE9QBhR+qyoAz1A6Aef+uHeO0ChETMxhgY7QG2hmTPOSzpA7hmWagavOUBbK9obyng4QBW80Euh2jdAm0biGWwrN0AybX1dqWs2QD6dFSG+zDVAkSXUj10VNUCR1M9eWGw0QL9kUKQtrTNA2xZw5qzTMkC9MtwHSRkyQCcy500NoDFAPEQ9ffTjMEDUK1Y/tFwwQO+LkGRHmi9A0iYKEzQmLkAaSQpc0vEsQOWDxwWVyytAsFeAk4GkKkBX5CLhMrApQOMJPFL41ChAHOdvLAmyJ0BvDfGPDrwmQL4CkPzwlSVAB9N/yxCGJEBXQcq9NtgjQHj63U/1+CJAHAB6cHQ/IkBiJv2YgE0hQOA5FPXhdSBAFjR1UfXSH0Czq6JvfTEeQHukw49k4BxAaPtCSV9/G0D44QeP6EQaQA1DRogM8hhALOmINaISGEA2qzToIMYWQB9hmQx+ohVAd6PU+5mRFECX9X3WXMQTQPn+n8Fo7BJAxMhuBjIVEkBD1Pe/f0sRQMhR0EBLvRBAQpZH7eTPD0AEeZajjmwOQCVz2skE/QxA87INIjX4C0BLfUpZoYMKQMqy9D9/nQlABgfR7ZFeCECUYilPYSkHQMTY+FUdRAZA/SplvfHVBUDgvYz7EcIEQOJk7bLevQNA",
          "dtype": "f8"
         }
        },
        {
         "mode": "lines",
         "name": "0.09",
         "type": "scatter",
         "x": {
          "bdata": "WRQDpeW6gEDwBQQFTMOAQJ3xCsVqyoBAO3f+JNHSgEC4fwMlI9uAQH9UBkVW4oBAA/H9RKjqgECb4v6kDvOAQEfOBWUt+oBA378GxZMCgUBZFAOl5QqBQPAFBAVME4FAnfEKxWoagUA7d/4k0SKBQLh/AyUjK4FAf1QGRVYygUDfvwbFkzqBQDt3/iTRQoFAm+L+pA5LgUDwBQQFTFOBQH9UBkVWWoFA378GxZNigUA7d/4k0WqBQJvi/qQOc4FA8AUEBUx7gUB/VAZFVoKBQAPx/USoioFAm+L+pA6TgUBHzgVlLZqBQN+/BsWTooFAWRQDpeWqgUDwBQQFTLOBQJ3xCsVquoFAO3f+JNHCgUC4fwMlI8uBQH9UBkVW0oFA378GxZPagUA7d/4k0eKBQJvi/qQO64FA8AUEBUzzgUB/VAZFVvqBQN+/BsWTAoJAO3f+JNEKgkCb4v6kDhOCQPAFBAVMG4JAf1QGRVYigkAD8f1EqCqCQJvi/qQOM4JAR84FZS06gkDfvwbFk0KCQFkUA6XlSoJA8AUEBUxTgkCd8QrFalqCQDt3/iTRYoJAuH8DJSNrgkB/VAZFVnKCQN+/BsWTeoJAO3f+JNGCgkCb4v6kDouCQPAFBAVMk4JAf1QGRVaagkDfvwbFk6KCQDt3/iTRqoJAm+L+pA6zgkDwBQQFTLuCQH9UBkVWwoJAnfEKxWrKgkDfvwbFk9KCQAPx/USo2oJAO3f+JNHigkBZFAOl5eqCQJvi/qQO84JAuH8DJSP7gkDwBQQFTAODQGVrCuVBCoNAf1QGRVYSg0DfvwbFkxqDQDt3/iTRIoNAm+L+pA4rg0DwBQQFTDODQH9UBkVWOoNA378GxZNCg0A7d/4k0UqDQJvi/qQOU4NA8AUEBUxbg0B/VAZFVmKDQN+/BsWTaoNAO3f+JNFyg0Cb4v6kDnuDQPAFBAVMg4NAf1QGRVaKg0DfvwbFk5KDQDt3/iTRmoNAm+L+pA6jg0DwBQQFTKuDQH9UBkVWsoNAnfEKxWq6g0DfvwbFk8KDQAPx/USoyoNAO3f+JNHSg0BZFAOl5dqDQJvi/qQO44NAuH8DJSPrg0DwBQQFTPODQGVrCuVB+oNAf1QGRVYChECd8QrFagqEQN+/BsWTEoRAA/H9RKgahEA7d/4k0SKEQFkUA6XlKoRAm+L+pA4zhEC4fwMlIzuEQPAFBAVMQ4RAZWsK5UFKhEB/VAZFVlKEQJ3xCsVqWoRA",
          "dtype": "f8"
         },
         "y": {
          "bdata": "2cIWr2DjR0A4Tigu6mlKQONxcF4YkExAptYVgkzWTkA1qUXHW7RQQB7SCPOUw1FAKi3acY79UkDgZEHvMf1TQGB718eA4FRAqzjPUHTeVUADiSpNHKBWQHxgb5/yU1dA1phOx2bZV0CmMQNWYElYQApVXYvSpFhAg8PM+pvJWEBcNTP9Jt1YQAAAAAAAAFlAOYgulUPJWEDQHmSYTZFYQKdk/T5RN1hAnrfLSIkPWEC6o5WdsqJXQOQa6ulBOldACBZoQMirVkAg2Ts8rwBWQFoxhUfCX1VAuT6AajL+VED7UITu7RVUQNYgKfy/sVNAdWP9s0roUkAWrO5yWD5SQFUb6zxtplFAaDtXH1TbUEC294XrwSlQQO84iNtzPk9AX/jn1vvhTUCIezZGCM5MQD/PoOT2K0tAQAAGTEg1SkC4/OnIU2BJQKoIrLKfekhA0JfTdy9pR0BIh+KKYW1GQDrWZ1ZWf0VAb8TMX4ykREDp1KK2Z+hDQHheMuRGNENAfPs4dBZvQkBunqwvP55BQK8oOLL3R0FA2cxL53SmQEChkOgUfx9AQD5jkx6oOT9AsfZ8x8FRPkAsB3CqNkk9QKcNbvhIbTxAeSp+gfN1O0BMyzQDcMs6QDYvApaa5zlAfuwM+dXnOEAv0cgVVT84QG/FWJWxYTdA7AZVBm6cNkCDUW5Egf41QLzWbo5HUDVAyxJ0qzC4NEDqCTN0UekzQDlgMsFJCTNA9KlwJ6BVMkCICZJKGMQxQB911C11DTFAbD4cz8RxMECuW5Z32asvQGgs6uwnnC5A3vAqchWELUBJQCsniFgsQHy4moBqXCtA+hDn3rlVKkBq5gSRD+IoQKf30N1CSihAz7OiqWEgJ0D6CA6RtSsmQI+cgAMLASVAHUAXHUMPJEB+HxM6y0MjQFQ7GC3dkiJAlpNe5jfTIUDI9LT7jPQgQDMEnGeu7B9AqEdM5QKoHkBVb7t4EHgdQIepec6d9RtAUw2vubXkGkAi3r+nnsoZQJWRCA6dgxhA4RN8pexZF0DIJ8sX7mkWQGpMRDPILBVAtiKSQutFFEAJV9ggOD0TQAqk27XBbxJALKK7iOW8EUCNa09AE/UQQAHC2PRfOhBASw1j4KkgD0BI0ky/T4UNQOkfLyJOfwxAh7usjXJ5C0BUpK4bJjsKQFIiTz/C/whAX+Nwq67YB0BpmQktt1wGQGzxPpUesAVAIyYKUKfnBEB3PNyzc4kEQFGsJFDkXwNA",
          "dtype": "f8"
         }
        },
        {
         "mode": "lines",
         "name": "0.07",
         "type": "scatter",
         "x": {
          "bdata": "eVWYQ568gEAQR5mjBMWAQL0yoGMjzIBAW7iTw4nUgEDYwJjD29yAQJ+Vm+MO5IBAIzKT42DsgEC7I5RDx/SAQGcPmwPm+4BA/wCcY0wEgUB5VZhDngyBQBBHmaMEFYFAvTKgYyMcgUBbuJPDiSSBQNjAmMPbLIFAn5Wb4w40gUD/AJxjTDyBQFu4k8OJRIFAuyOUQ8dMgUAQR5mjBFWBQJ+Vm+MOXIFA/wCcY0xkgUBbuJPDiWyBQLsjlEPHdIFAEEeZowR9gUCflZvjDoSBQCMyk+NgjIFAuyOUQ8eUgUBnD5sD5puBQP8AnGNMpIFAeVWYQ56sgUAQR5mjBLWBQL0yoGMjvIFAW7iTw4nEgUDYwJjD28yBQJ+Vm+MO1IFA/wCcY0zcgUBbuJPDieSBQLsjlEPH7IFAEEeZowT1gUCflZvjDvyBQP8AnGNMBIJAW7iTw4kMgkC7I5RDxxSCQBBHmaMEHYJAn5Wb4w4kgkAjMpPjYCyCQLsjlEPHNIJAZw+bA+Y7gkD/AJxjTESCQHlVmEOeTIJAEEeZowRVgkC9MqBjI1yCQFu4k8OJZIJA2MCYw9tsgkCflZvjDnSCQP8AnGNMfIJAW7iTw4mEgkC7I5RDx4yCQBBHmaMElYJAn5Wb4w6cgkD/AJxjTKSCQFu4k8OJrIJAuyOUQ8e0gkAQR5mjBL2CQJ+Vm+MOxIJAvTKgYyPMgkD/AJxjTNSCQCMyk+Ng3IJAW7iTw4nkgkB5VZhDnuyCQLsjlEPH9IJA2MCYw9v8gkAQR5mjBAWDQIWsn4P6C4NAn5Wb4w4Ug0D/AJxjTByDQFu4k8OJJINAuyOUQ8csg0AQR5mjBDWDQJ+Vm+MOPINA/wCcY0xEg0BbuJPDiUyDQLsjlEPHVINAEEeZowRdg0CflZvjDmSDQP8AnGNMbINAW7iTw4l0g0C7I5RDx3yDQBBHmaMEhYNAn5Wb4w6Mg0D/AJxjTJSDQFu4k8OJnINAuyOUQ8ekg0AQR5mjBK2DQJ+Vm+MOtINAvTKgYyO8g0D/AJxjTMSDQCMyk+NgzINAW7iTw4nUg0B5VZhDntyDQLsjlEPH5INA2MCYw9vsg0AQR5mjBPWDQIWsn4P6+4NAn5Wb4w4EhEC9MqBjIwyEQP8AnGNMFIRAIzKT42AchEBbuJPDiSSEQHlVmEOeLIRAuyOUQ8c0hEDYwJjD2zyEQBBHmaMERYRAhayfg/pLhECflZvjDlSEQL0yoGMjXIRA",
          "dtype": "f8"
         },
         "y": {
          "bdata": "uxR6IodaSEAUEZ2SZb1KQIzWanAf1UxAkG8lZ9MuT0CwUtFu6udQQEf7x7t+4VFAOxhu+sEtU0BTy7yvqxhUQAX1lNhWvVRAjyqK3TzKVUC+Bj60Q6FWQJxNvlvuUldATxZrEEGoV0Ds24rbfWJYQOgdQR42pVhA7G+rAlngWEAAAAAAAABZQDkpQ7786FhAq0k/iVq3WEA3/CZIxJNYQGsxN+5AclhAM49qsLD2V0AbwmQZ4JRXQOP42fX5MVdA0DgBj7mJVkDqqu2HCCBWQEWNnI/7fVVA2Cq+Cw2qVEA1UaV3BERUQBBh0op5hlNAp5oAYVUHU0CQz/hd8iVSQM5DpXevflFAEdqGzXPNUEBbxsp07TRQQEEATaqEL09A63oTI5DJTUDIXgB4Nl5MQKim7nONxEtASvm7/jxBSkDmmaUWHGRJQEee6luEWEhAdoS+bWVtR0AGUr7SXF1GQJfgU9gdg0VAf4q1cL+yREANCZ2TRc1DQILvTQwBDENA7CHzpGSAQkBSlzQuz81BQAZK53cbJEFAdpKL1fmOQEB0plfzSjBAQN46AAdLFT9ABAklLulSPkDwDOUEEwc9QOXVRKKUdDxAW4CirnSIO0A76nzB75I6QF6V/eA73jlAc4L5bYwGOUCTr1Sr0C04QJg88ep8ZzdAh8AMBve9NkBkGwpWyP01QEKZ9K85hjVA1JnBX9KuNEB+NuPLjRQ0QDPwLxvXKjNA8rzZJheBMkDURGyhW9AxQFNPIi1rPTFAklNSaQyJMEA4HhnCRAswQHedtm1ImC5AnFgQ3yI+LUBAEpyqh4EsQP8oXxE7LytAEaI2lLksKkCut6uD/TgpQJVbnloRRihAkRc5KpT/JkB9qmJXOV0mQH1Mz64kNiVAY1eGrtsrJEATPb9Ki2cjQCRVQLXleCJAQQ6wI66dIUBqwXeSMeIgQHaZUr5KPCBAhniUvigQH0AbcXLMBmkdQAfEVTEnKRxA5dzxVP27GkDWKa1LPIsZQOTXlc6bzxhAgZz8NNSXF0DlzZE2gpcWQF56MCAYZhVAIxugw/qgFECPpstKF2wTQAZaKqz0ohJASGyw+azHEUBXwEvlcuEQQGJdHK+VkBBAgqhHVSavD0CCg38n6cUNQJmghJPOxgxArbzAln8lC0BQkljkjEMKQIr4xqtS5whAOiOKit2hB0D3/gE9tOkGQK3wyAEAJAZAjf9v7P2XBUAPc5kDh1YEQATwdjKuZQNA",
          "dtype": "f8"
         }
        },
        {
         "mode": "lines",
         "name": "0.05",
         "type": "scatter",
         "x": {
          "bdata": "pg+nsGS8gEA9AagQy8SAQOrsrtDpy4BAiHKiMFDUgEAFe6cwotyAQMxPqlDV44BAUOyhUCfsgEDo3aKwjfSAQJTJqXCs+4BALLuq0BIEgUCmD6ewZAyBQD0BqBDLFIFA6uyu0OkbgUCIcqIwUCSBQAV7pzCiLIFAzE+qUNUzgUAsu6rQEjyBQIhyojBQRIFA6N2isI1MgUA9AagQy1SBQMxPqlDVW4FALLuq0BJkgUCIcqIwUGyBQOjdorCNdIFAPQGoEMt8gUDMT6pQ1YOBQFDsoVAnjIFA6N2isI2UgUCUyalwrJuBQCy7qtASpIFApg+nsGSsgUA9AagQy7SBQOrsrtDpu4FAiHKiMFDEgUAFe6cwosyBQMxPqlDV04FALLuq0BLcgUCIcqIwUOSBQOjdorCN7IFAPQGoEMv0gUDMT6pQ1fuBQCy7qtASBIJAiHKiMFAMgkDo3aKwjRSCQD0BqBDLHIJAzE+qUNUjgkBQ7KFQJyyCQOjdorCNNIJAlMmpcKw7gkAsu6rQEkSCQKYPp7BkTIJAPQGoEMtUgkDq7K7Q6VuCQIhyojBQZIJABXunMKJsgkDMT6pQ1XOCQCy7qtASfIJAiHKiMFCEgkDo3aKwjYyCQD0BqBDLlIJAzE+qUNWbgkAsu6rQEqSCQIhyojBQrIJA6N2isI20gkA9AagQy7yCQMxPqlDVw4JA6uyu0OnLgkAsu6rQEtSCQFDsoVAn3IJAiHKiMFDkgkCmD6ewZOyCQOjdorCN9IJABXunMKL8gkA9AagQywSDQLJmrvDAC4NAzE+qUNUTg0Asu6rQEhyDQIhyojBQJINA6N2isI0sg0A9AagQyzSDQMxPqlDVO4NALLuq0BJEg0CIcqIwUEyDQOjdorCNVINAPQGoEMtcg0DMT6pQ1WODQCy7qtASbINAiHKiMFB0g0Do3aKwjXyDQD0BqBDLhINAzE+qUNWLg0Asu6rQEpSDQIhyojBQnINA6N2isI2kg0A9AagQy6yDQMxPqlDVs4NA6uyu0Om7g0Asu6rQEsSDQFDsoVAnzINAiHKiMFDUg0CmD6ewZNyDQOjdorCN5INABXunMKLsg0A9AagQy/SDQLJmrvDA+4NAzE+qUNUDhEDq7K7Q6QuEQCy7qtASFIRAUOyhUCcchECIcqIwUCSEQKYPp7BkLIRA6N2isI00hEAFe6cwojyEQD0BqBDLRIRAsmau8MBLhEDMT6pQ1VOEQOrsrtDpW4RA",
          "dtype": "f8"
         },
         "y": {
          "bdata": "SwZx+rTOSECIuo4zbLdKQM5i6rmHEU1AJglbaJ25T0BQRyIZ4jxRQNUnbjhdJlJAERmF3oRIU0Db5g6bpkhUQH4XjnAiQFVAe1KikN8VVkC+YVtUr9pWQMBnwIeaoFdAMhkbwR7xV0A3ATrwWmtYQBwDK/GLrFhABjfjcYvaWEAAAAAAAABZQLKA6NJD+VhA1cyRycHcWEAgaFI8vrVYQD7QVaLZOFhAGlAtns34V0BjayvDBI9XQKLp/QhWDFdAyRxQxAlpVkA+EBjgoSxWQE9qo3qrSFVAe7mu6j20VEDbG0GpAQ9UQLCYfOovjFNA3B4cuCPRUkAPfwX6nQ1SQDBGcZhJa1FA3KtbWNLQUEDhu0VTNDlQQFDNwcNO3U5AgNO4jXimTUD7cld/rlxMQFsYaN6YXktA2arlVkUeSkDOziDz5FpJQNhHHMynSUhAphieHFEYR0DZljHODktGQEuBolIANkVAF1wallusREAtn37kQQFEQDP/k4mZCENAuaW7Q8dUQkBLHV4TLb9BQPLMP48QHEFA286CDCmDQED9b9iazAhAQH0PRAhsWj9AUcYq8+sSPkDKjY4etgE9QM2QKIwvGjxAySavBckyO0A8NxmiATs6QAteJdw0vzlA67eAPDHsOEBgNCaC5AY4QGoP7EEgODdA3nAz35F1NkDvcop9VMQ1QAYvFCjzAjVARwBIumtVNEDeRRAakLwzQBIUNw6EHTNAAANQ3td7MkCutr6uinwxQFyhYCr3FTFAPM55DExOMEBQkmdPU5YvQE6JFQvxEi5ATkg5CYRRLUDqL7spuwAsQBmtf07tEytAGF0hwz2pKUDVfHHZwvAoQJLGyvCkIyhA5IXTQjWYJkCIA6ZGIeklQNbYhPMtDiVATGNJotTgI0AyFrb+hhcjQClj+Q7qPiJACbLszfKAIUAAu5zkZ68gQKvCNwlRTiBAHHy+jTv6HkBSI+sdBJcdQO7HgqimwBtAEKdrywrqGkD9rRxr2GwZQKdIo1ogJBhADGdVvrIPF0BYmWgT+uAVQEX48OA+QBVAkJtMqcflE0DBGrQV0ksTQGBRDgRvjRJAJ5qxcrizEUBjdV/tLbQQQPhC8ni8ORBAaC3WeLJ8DkCdJigmU1cNQBajZXkM/AtAp2TzEYObC0AKt95D0I0JQNMfRkznvghAmcsLQausB0BwBPBHJIQGQPd52uOWjQVAH+hNwQpQBUAraCR0NBIEQOdseHsnvgNA",
          "dtype": "f8"
         }
        },
        {
         "mode": "lines",
         "name": "0.04",
         "type": "scatter",
         "x": {
          "bdata": "+gy1TSC+gECR/rWthsaAQD7qvG2lzYBA3G+wzQvWgEBZeLXNXd6AQCBNuO2Q5YBApOmv7eLtgEA827BNSfaAQOjGtw1o/YBAgLi4bc4FgUD6DLVNIA6BQJH+ta2GFoFAPuq8baUdgUDcb7DNCyaBQFl4tc1dLoFAIE247ZA1gUCAuLhtzj2BQNxvsM0LRoFAPNuwTUlOgUCR/rWthlaBQCBNuO2QXYFAgLi4bc5lgUDcb7DNC26BQDzbsE1JdoFAkf61rYZ+gUAgTbjtkIWBQKTpr+3ijYFAPNuwTUmWgUDoxrcNaJ2BQIC4uG3OpYFA+gy1TSCugUCR/rWthraBQD7qvG2lvYFA3G+wzQvGgUBZeLXNXc6BQCBNuO2Q1YFAgLi4bc7dgUDcb7DNC+aBQDzbsE1J7oFAkf61rYb2gUAgTbjtkP2BQIC4uG3OBYJA3G+wzQsOgkA827BNSRaCQJH+ta2GHoJAIE247ZAlgkCk6a/t4i2CQDzbsE1JNoJA6Ma3DWg9gkCAuLhtzkWCQPoMtU0gToJAkf61rYZWgkA+6rxtpV2CQNxvsM0LZoJAWXi1zV1ugkAgTbjtkHWCQIC4uG3OfYJA3G+wzQuGgkA827BNSY6CQJH+ta2GloJAIE247ZCdgkCAuLhtzqWCQNxvsM0LroJAPNuwTUm2gkCR/rWthr6CQCBNuO2QxYJAPuq8baXNgkCAuLhtztWCQKTpr+3i3YJA3G+wzQvmgkD6DLVNIO6CQDzbsE1J9oJAWXi1zV3+gkCR/rWthgaDQAZkvI18DYNAIE247ZAVg0CAuLhtzh2DQNxvsM0LJoNAPNuwTUkug0CR/rWthjaDQCBNuO2QPYNAgLi4bc5Fg0Dcb7DNC06DQDzbsE1JVoNAkf61rYZeg0AgTbjtkGWDQIC4uG3ObYNA3G+wzQt2g0A827BNSX6DQJH+ta2GhoNAIE247ZCNg0CAuLhtzpWDQNxvsM0LnoNAPNuwTUmmg0CR/rWthq6DQCBNuO2QtYNAPuq8baW9g0CAuLhtzsWDQKTpr+3izYNA3G+wzQvWg0D6DLVNIN6DQDzbsE1J5oNAWXi1zV3ug0CR/rWthvaDQAZkvI18/YNAIE247ZAFhEA+6rxtpQ2EQIC4uG3OFYRApOmv7eIdhEDcb7DNCyaEQPoMtU0gLoRAPNuwTUk2hEBZeLXNXT6EQJH+ta2GRoRABmS8jXxNhEAgTbjtkFWEQD7qvG2lXYRA",
          "dtype": "f8"
         },
         "y": {
          "bdata": "VXL7KjFcSUAYhvFMEclLQNUkOPQLh01ASAqSN4X3T0CQsqDxHGdRQL3SoKzeTVJAHIkOxISUU0CVm1w51ctUQIAOAFuASVVAHEZq7M1PVkDCCBDuyftWQAD5n9tqv1dAhlD+N8MiWEDvds7BbKRYQEA18LyqplhAgA4lqin/WED///////9YQNsEaUWP91hA7lXfbFDjWED/3R6JPqhYQA0p/y8AP1hAQGWVXdPnV0BhUc+4dbxXQBgzSkF2/FZATnINx4B7VkBSrIFDfe9VQLx+QKlUIVVA/MT6sa2jVEAdTMt0ajtUQBEuDGgWWVNAh5MKqHbKUkCfCr64GQ5SQNu5LCbEfFFA0g4sLSvFUEA4gTP7fSFQQFE12nE2O09AUTDWKq2qTUCQySrwBYlMQHmOf5c7U0tAQcdsclI6SkDuiVPvZnNJQOB9QkovIkhAKx4afYF/R0AwOOV9mahGQAYqyH8nJkVAvDL04xaQRECXkFctg9ZDQBd93rztNkNAeTHJaSSCQkDkn+ypPItBQFpZRvbiFUFAHFsDU3edQEBoXMMYISZAQAiiIVgj7T5A11dCB3gsPkBWoHcqInY9QEncELcsQjxA2WDP6lBRO0B4sJm1hGA6QLUPVmhuVjlA2GP1LYuTOECua1iaNBE4QLWQl6BUVTdAoJ4l4ax1NkD3mTBCzOc1QC6E9+IYQzVA0FTNgVihNEDzg+KeEoszQLmdWn+T8DJAvHMhDXIrMkCXNvbP95oxQPIBWGU/+jBAdVCkc9imMEAVcHqMIFovQNLz64cieS5ATxAXla1xLUDB/aAXbjQsQFyYkOSoJStAWE3/8eYdKkASBo+1MP0oQNU0AJTEKChAbkZFYksoJ0BovEOANgomQHfTA2h/ACVAMvjJALJtJEAuTX4J/CojQCC5t851wSJANx2JA1G/IUC7QVsLAvUgQIhGq/uz7R9Aci6Ra9MmH0Ae+inQo/kdQFArLy0pVBxAPIoRZ5AOG0DfI4nKUi0ZQBgLx4ei5BhAicM08UrgF0BSQrDdEmwWQHVJ8F+ZURVAxYjFUUwzFEAt8OIjWMQSQI/1oQDPvBJAdN1JVpinEUDBxxsnjdcQQJ7mFnvmARBAJfZuflrUDkA2JPYxaT0OQJMUx3wnEQ1ACe4Ch89IC0ASrOboq20JQMRq1NNxEAlAAPxCQ+1TCEBQ3xdaQjUIQAVrfB5zyAVA1J4XnueVBUB1DNcYp34EQKWLlv6VjANA",
          "dtype": "f8"
         }
        },
        {
         "mode": "lines",
         "name": "0.02",
         "type": "scatter",
         "x": {
          "bdata": "UXE//P6/gEDoYkBcZciAQJVORxyEz4BAM9Q6fOrXgECw3D98POCAQHexQpxv54BA+006nMHvgECTPzv8J/iAQD8rQrxG/4BA1xxDHK0HgUBRcT/8/g+BQOhiQFxlGIFAlU5HHIQfgUAz1Dp86ieBQLDcP3w8MIFAd7FCnG83gUDXHEMcrT+BQDPUOnzqR4FAkz87/CdQgUDoYkBcZViBQHexQpxvX4FA1xxDHK1ngUAz1Dp86m+BQJM/O/wneIFA6GJAXGWAgUB3sUKcb4eBQPtNOpzBj4FAkz87/CeYgUA/K0K8Rp+BQNccQxytp4FAUXE//P6vgUDoYkBcZbiBQJVORxyEv4FAM9Q6fOrHgUCw3D98PNCBQHexQpxv14FA1xxDHK3fgUAz1Dp86ueBQJM/O/wn8IFA6GJAXGX4gUB3sUKcb/+BQNccQxytB4JAM9Q6fOoPgkCTPzv8JxiCQOhiQFxlIIJAd7FCnG8ngkD7TTqcwS+CQJM/O/wnOIJAPytCvEY/gkDXHEMcrUeCQFFxP/z+T4JA6GJAXGVYgkCVTkcchF+CQDPUOnzqZ4JAsNw/fDxwgkB3sUKcb3eCQNccQxytf4JAM9Q6fOqHgkCTPzv8J5CCQOhiQFxlmIJAd7FCnG+fgkDXHEMcraeCQDPUOnzqr4JAkz87/Ce4gkDoYkBcZcCCQHexQpxvx4JAlU5HHITPgkDXHEMcrdeCQPtNOpzB34JAM9Q6fOrngkBRcT/8/u+CQJM/O/wn+IJAsNw/fDwAg0DoYkBcZQiDQF3IRjxbD4NAd7FCnG8Xg0DXHEMcrR+DQDPUOnzqJ4NAkz87/Ccwg0DoYkBcZTiDQHexQpxvP4NA1xxDHK1Hg0Az1Dp86k+DQJM/O/wnWINA6GJAXGVgg0B3sUKcb2eDQNccQxytb4NAM9Q6fOp3g0CTPzv8J4CDQOhiQFxliINAd7FCnG+Pg0DXHEMcrZeDQDPUOnzqn4NAkz87/Ceog0DoYkBcZbCDQHexQpxvt4NAlU5HHIS/g0DXHEMcrceDQPtNOpzBz4NAM9Q6fOrXg0BRcT/8/t+DQJM/O/wn6INAsNw/fDzwg0DoYkBcZfiDQF3IRjxb/4NAd7FCnG8HhECVTkcchA+EQNccQxytF4RA+006nMEfhEAz1Dp86ieEQFFxP/z+L4RAkz87/Cc4hECw3D98PECEQOhiQFxlSIRAXchGPFtPhEB3sUKcb1eEQJVORxyEX4RA",
          "dtype": "f8"
         },
         "y": {
          "bdata": "00MhrV9bSUAKVPRH69tLQJ9xJAI0vU1AlqK61NYvUEAlO+9X32RRQMFWcWQTVVJAhYziaKeqU0DyidT00JxUQLmMDHh9glVAtoygt+1KVkBIGZa9aaRWQEMcoVzU8VdAzf9JAEU+WEAvbVjL+JJYQIX2tS619VhAW5MPLGzuWEA33iIEttNYQAAAAAAAAFlAQSosWozTWEBvZ9OD9YhYQOSsVlxaPVhAz7GivcEBWEB4Dmuuc25XQCjqj36U5FZAuiDFvjtoVkD+aUHFNNhVQChPElvwX1VAqiM0O8CGVECowBjUq/FTQGcoILx9FFNAHweKr2yLUkAJAZE9behRQMG9ENJZQlFA7Ni1HOiIUEBuUGmPGMhPQKj4oWvyHU9Ar/bKM6rbTUDW4/oRb6RMQDGQNfiqqEtANUifRpFtSkAV+knb8A1JQMTXU4saIEhA9/S9lFCNR0Ck8nG/9k5GQAYMnSiSb0VAnMU4eAyoREDTLYIfApJDQMpuwQ117kJAbyMCPZyAQkDMuumjGeVBQHRUSLxkF0FAuWO7qX1eQEAgI3t6T1FAQPWhdElCQT9ABf9tLKkuPkB91rDVq289QJSrle7GEzxAOlYeLZoBPECjYUAi5MI6QEGw+/n05jlAmQcFV9IyOUCsSZ5Itks4QLKJXlQMbjdAMuFBOTjeNkC6MKM6MvE1QMiuH3gsIDVACydJ/2iDNECpbPwaIPAzQOrmtvkg6TJATwf5omeMMkC6toE1ee8xQI5I+FMZiDFA90EeTa9kMEBK+bqQ0pEvQLiJFW3CTi5AcoYTkZeWLUDsy1dMirgsQLlvlC+VPCtAP6vaxUolKkDVeaLIwP0oQJ9OrWsFIyhAy63J9YL1JkDvH12xeXwmQDjLi1c+1yRAvV7Z3e7EJEAzSE+ZGb8jQBKcZfM3WyJADLx2qRWsIUCNMC9VPxAhQGfZz8tcrB9AZEny0wFJHkCTd+LAdyMeQNEv+gjPvR1ALkCVrYQuG0Cu7l9Bu5YaQAz8N1pJ9BdAPf174qhwF0C0t82WyS8WQGS3Zvj56hVABgWeymSSFECFd3UpxZEUQGpnxWtPcBNAHL/Blf7mEkBOJLAJdjYRQGLw5wan/RBAIg5fZ9IREUAAdugMuI4NQA9P4+900wxATSfWSktNDECv3sdR49ENQC0ubf/tMQxAIRmBDkJKB0Cj4K+mL/wGQI1P/dqeTwdAJj/+YNeOBkBuVzM3UnoFQIZo5FRzkARA",
          "dtype": "f8"
         }
        },
        {
         "mode": "lines",
         "name": "0.01",
         "type": "scatter",
         "x": {
          "bdata": "wK3eIXO/gEBXn9+B2ceAQASL5kH4zoBAohDaoV7XgEAfGd+hsN+AQObt4cHj5oBAaorZwTXvgEACfNohnPeAQK5n4eG6/oBARlniQSEHgUDArd4hcw+BQFef34HZF4FABIvmQfgegUCiENqhXieBQB8Z36GwL4FA5u3hweM2gUBGWeJBIT+BQKIQ2qFeR4FAAnzaIZxPgUBXn9+B2VeBQObt4cHjXoFARlniQSFngUCiENqhXm+BQAJ82iGcd4FAV5/fgdl/gUDm7eHB44aBQGqK2cE1j4FAAnzaIZyXgUCuZ+Hhup6BQEZZ4kEhp4FAwK3eIXOvgUBXn9+B2beBQASL5kH4voFAohDaoV7HgUAfGd+hsM+BQObt4cHj1oFARlniQSHfgUCiENqhXueBQAJ82iGc74FAV5/fgdn3gUDm7eHB4/6BQEZZ4kEhB4JAohDaoV4PgkACfNohnBeCQFef34HZH4JA5u3hweMmgkBqitnBNS+CQAJ82iGcN4JArmfh4bo+gkBGWeJBIUeCQMCt3iFzT4JAV5/fgdlXgkAEi+ZB+F6CQKIQ2qFeZ4JAHxnfobBvgkDm7eHB43aCQEZZ4kEhf4JAohDaoV6HgkACfNohnI+CQFef34HZl4JA5u3hweOegkBGWeJBIaeCQKIQ2qFer4JAAnzaIZy3gkBXn9+B2b+CQObt4cHjxoJABIvmQfjOgkBGWeJBIdeCQGqK2cE134JAohDaoV7ngkDArd4hc++CQAJ82iGc94JAHxnfobD/gkBXn9+B2QeDQMwE5mHPDoNA5u3hweMWg0BGWeJBIR+DQKIQ2qFeJ4NAAnzaIZwvg0BXn9+B2TeDQObt4cHjPoNARlniQSFHg0CiENqhXk+DQAJ82iGcV4NAV5/fgdlfg0Dm7eHB42aDQEZZ4kEhb4NAohDaoV53g0ACfNohnH+DQFef34HZh4NA5u3hweOOg0BGWeJBIZeDQKIQ2qFen4NAAnzaIZyng0BXn9+B2a+DQObt4cHjtoNABIvmQfi+g0BGWeJBIceDQGqK2cE1z4NAohDaoV7Xg0DArd4hc9+DQAJ82iGc54NAHxnfobDvg0BXn9+B2feDQMwE5mHP/oNA5u3hweMGhEAEi+ZB+A6EQEZZ4kEhF4RAaorZwTUfhECiENqhXieEQMCt3iFzL4RAAnzaIZw3hEAfGd+hsD+EQFef34HZR4RAzATmYc9OhEDm7eHB41aEQASL5kH4XoRA",
          "dtype": "f8"
         },
         "y": {
          "bdata": "vFieWnjNSUAMkw8GM+FLQC+gNcgCAU5AszWddTlDUEBWcugN16xRQMpsZH4uclJAvD5EtaJwU0BUC0zf95BUQO46QDdJU1VAPjG4bj0sVkAMTZ75/+BWQEcWJfdxQldAIKBj8bL7V0BHzv1EQKRYQNTXV5WayFhAftrp/Zi8WEAAAAAAAABZQP0xxDKzwFhAXSLRGOV4WECF0vtNz1JYQBajHcJpVVhA/hnVbbaIV0An1hjpfUJXQPhDAxa1slZA1/Cpp887VkB3XkM/xbBVQFy47K6L91RAe8XFxbOBVED8BogeVcxTQFkGYgM16VJAfVZYsRd0UkCvQHDZ6JpRQFL8y60RN1FAue3SN88tUEBbnobgR3tPQCcJogLWL05AR8kMLetbTUDzWSweIZ9MQNnEqP9X60pAsRRgNFnYSUC0q82HKdRIQDVSQ1Vkd0dAKIl2vRkJR0ARR1JOmuRFQFoSyeLhlERASve0gmJuREBdInlNuSRDQBj8ARaWy0JAGNIESdHZQUDInjP9t5ZBQKjJ3Mcy+UBApKtandVIQEBOr41xLts/QAXnYSntoj5AsGklvN2iPUCqFaVsn0Q9QF+LYM9KFTxARolLYbX2OkCx/RzqqvI5QB8jTPaR+TlAC9s+j5NlOEAmPnDuxbc3QMAPAjBjkDdAP3vXD5ZJNkA4RphyX3M1QDSBh9G1zjRAjhNCKFh6NEBb1lm6uKAzQIAknrDAGzNA3FcDsO5aMkBuxsvR1MMxQOqKr+bW4DBAnYeDbTWJMEBug64pilgwQJexFC02Wy9An0kWrpGgLUBzK4kZyI8rQMZshUfvEipAi+zwJozWKUCf1Ux9xvsoQPZspXGJ5SdAiawfqN/OJkBBD2RPMjsmQDajt1NWrCVA8uEID/93JEAYMk+KpcUjQF8Pip0pByNAx1pNIaKrIUBGHEzr8jchQM5D08gRQiBAlnzTxD9fH0AjX3CF50UcQN64xbcUEB1AuMeOmXhfHECreAtJAssZQFGZArqsWBlAJZXd1I+WGEC6xXhRHycWQIrQvw3enBVA7vmL3OCEFEBPXDff3/YTQJDr6/LpZRNA4EEtDA6sEUBrMvG7hoYTQFnUrZSIgRFAOxUTrn5cEECnPPyFUZEPQFKl/675nA5AxQMsoLMZEUA3f+ig+3MMQDPGjUTWGwlAPCjFQ72dB0CVO2szzqwIQCNNizjRlQpAZoaNtj53B0DlVtOAL8EJQBLr5oZXAgVA",
          "dtype": "f8"
         }
        }
       ],
       "layout": {
        "font": {
         "size": 14
        },
        "height": 600,
        "legend": {
         "x": 0.88,
         "y": 1
        },
        "template": {
         "data": {
          "bar": [
           {
            "error_x": {
             "color": "#2a3f5f"
            },
            "error_y": {
             "color": "#2a3f5f"
            },
            "marker": {
             "line": {
              "color": "#E5ECF6",
              "width": 0.5
             },
             "pattern": {
              "fillmode": "overlay",
              "size": 10,
              "solidity": 0.2
             }
            },
            "type": "bar"
           }
          ],
          "barpolar": [
           {
            "marker": {
             "line": {
              "color": "#E5ECF6",
              "width": 0.5
             },
             "pattern": {
              "fillmode": "overlay",
              "size": 10,
              "solidity": 0.2
             }
            },
            "type": "barpolar"
           }
          ],
          "carpet": [
           {
            "aaxis": {
             "endlinecolor": "#2a3f5f",
             "gridcolor": "white",
             "linecolor": "white",
             "minorgridcolor": "white",
             "startlinecolor": "#2a3f5f"
            },
            "baxis": {
             "endlinecolor": "#2a3f5f",
             "gridcolor": "white",
             "linecolor": "white",
             "minorgridcolor": "white",
             "startlinecolor": "#2a3f5f"
            },
            "type": "carpet"
           }
          ],
          "choropleth": [
           {
            "colorbar": {
             "outlinewidth": 0,
             "ticks": ""
            },
            "type": "choropleth"
           }
          ],
          "contour": [
           {
            "colorbar": {
             "outlinewidth": 0,
             "ticks": ""
            },
            "colorscale": [
             [
              0,
              "#0d0887"
             ],
             [
              0.1111111111111111,
              "#46039f"
             ],
             [
              0.2222222222222222,
              "#7201a8"
             ],
             [
              0.3333333333333333,
              "#9c179e"
             ],
             [
              0.4444444444444444,
              "#bd3786"
             ],
             [
              0.5555555555555556,
              "#d8576b"
             ],
             [
              0.6666666666666666,
              "#ed7953"
             ],
             [
              0.7777777777777778,
              "#fb9f3a"
             ],
             [
              0.8888888888888888,
              "#fdca26"
             ],
             [
              1,
              "#f0f921"
             ]
            ],
            "type": "contour"
           }
          ],
          "contourcarpet": [
           {
            "colorbar": {
             "outlinewidth": 0,
             "ticks": ""
            },
            "type": "contourcarpet"
           }
          ],
          "heatmap": [
           {
            "colorbar": {
             "outlinewidth": 0,
             "ticks": ""
            },
            "colorscale": [
             [
              0,
              "#0d0887"
             ],
             [
              0.1111111111111111,
              "#46039f"
             ],
             [
              0.2222222222222222,
              "#7201a8"
             ],
             [
              0.3333333333333333,
              "#9c179e"
             ],
             [
              0.4444444444444444,
              "#bd3786"
             ],
             [
              0.5555555555555556,
              "#d8576b"
             ],
             [
              0.6666666666666666,
              "#ed7953"
             ],
             [
              0.7777777777777778,
              "#fb9f3a"
             ],
             [
              0.8888888888888888,
              "#fdca26"
             ],
             [
              1,
              "#f0f921"
             ]
            ],
            "type": "heatmap"
           }
          ],
          "histogram": [
           {
            "marker": {
             "pattern": {
              "fillmode": "overlay",
              "size": 10,
              "solidity": 0.2
             }
            },
            "type": "histogram"
           }
          ],
          "histogram2d": [
           {
            "colorbar": {
             "outlinewidth": 0,
             "ticks": ""
            },
            "colorscale": [
             [
              0,
              "#0d0887"
             ],
             [
              0.1111111111111111,
              "#46039f"
             ],
             [
              0.2222222222222222,
              "#7201a8"
             ],
             [
              0.3333333333333333,
              "#9c179e"
             ],
             [
              0.4444444444444444,
              "#bd3786"
             ],
             [
              0.5555555555555556,
              "#d8576b"
             ],
             [
              0.6666666666666666,
              "#ed7953"
             ],
             [
              0.7777777777777778,
              "#fb9f3a"
             ],
             [
              0.8888888888888888,
              "#fdca26"
             ],
             [
              1,
              "#f0f921"
             ]
            ],
            "type": "histogram2d"
           }
          ],
          "histogram2dcontour": [
           {
            "colorbar": {
             "outlinewidth": 0,
             "ticks": ""
            },
            "colorscale": [
             [
              0,
              "#0d0887"
             ],
             [
              0.1111111111111111,
              "#46039f"
             ],
             [
              0.2222222222222222,
              "#7201a8"
             ],
             [
              0.3333333333333333,
              "#9c179e"
             ],
             [
              0.4444444444444444,
              "#bd3786"
             ],
             [
              0.5555555555555556,
              "#d8576b"
             ],
             [
              0.6666666666666666,
              "#ed7953"
             ],
             [
              0.7777777777777778,
              "#fb9f3a"
             ],
             [
              0.8888888888888888,
              "#fdca26"
             ],
             [
              1,
              "#f0f921"
             ]
            ],
            "type": "histogram2dcontour"
           }
          ],
          "mesh3d": [
           {
            "colorbar": {
             "outlinewidth": 0,
             "ticks": ""
            },
            "type": "mesh3d"
           }
          ],
          "parcoords": [
           {
            "line": {
             "colorbar": {
              "outlinewidth": 0,
              "ticks": ""
             }
            },
            "type": "parcoords"
           }
          ],
          "pie": [
           {
            "automargin": true,
            "type": "pie"
           }
          ],
          "scatter": [
           {
            "fillpattern": {
             "fillmode": "overlay",
             "size": 10,
             "solidity": 0.2
            },
            "type": "scatter"
           }
          ],
          "scatter3d": [
           {
            "line": {
             "colorbar": {
              "outlinewidth": 0,
              "ticks": ""
             }
            },
            "marker": {
             "colorbar": {
              "outlinewidth": 0,
              "ticks": ""
             }
            },
            "type": "scatter3d"
           }
          ],
          "scattercarpet": [
           {
            "marker": {
             "colorbar": {
              "outlinewidth": 0,
              "ticks": ""
             }
            },
            "type": "scattercarpet"
           }
          ],
          "scattergeo": [
           {
            "marker": {
             "colorbar": {
              "outlinewidth": 0,
              "ticks": ""
             }
            },
            "type": "scattergeo"
           }
          ],
          "scattergl": [
           {
            "marker": {
             "colorbar": {
              "outlinewidth": 0,
              "ticks": ""
             }
            },
            "type": "scattergl"
           }
          ],
          "scattermap": [
           {
            "marker": {
             "colorbar": {
              "outlinewidth": 0,
              "ticks": ""
             }
            },
            "type": "scattermap"
           }
          ],
          "scattermapbox": [
           {
            "marker": {
             "colorbar": {
              "outlinewidth": 0,
              "ticks": ""
             }
            },
            "type": "scattermapbox"
           }
          ],
          "scatterpolar": [
           {
            "marker": {
             "colorbar": {
              "outlinewidth": 0,
              "ticks": ""
             }
            },
            "type": "scatterpolar"
           }
          ],
          "scatterpolargl": [
           {
            "marker": {
             "colorbar": {
              "outlinewidth": 0,
              "ticks": ""
             }
            },
            "type": "scatterpolargl"
           }
          ],
          "scatterternary": [
           {
            "marker": {
             "colorbar": {
              "outlinewidth": 0,
              "ticks": ""
             }
            },
            "type": "scatterternary"
           }
          ],
          "surface": [
           {
            "colorbar": {
             "outlinewidth": 0,
             "ticks": ""
            },
            "colorscale": [
             [
              0,
              "#0d0887"
             ],
             [
              0.1111111111111111,
              "#46039f"
             ],
             [
              0.2222222222222222,
              "#7201a8"
             ],
             [
              0.3333333333333333,
              "#9c179e"
             ],
             [
              0.4444444444444444,
              "#bd3786"
             ],
             [
              0.5555555555555556,
              "#d8576b"
             ],
             [
              0.6666666666666666,
              "#ed7953"
             ],
             [
              0.7777777777777778,
              "#fb9f3a"
             ],
             [
              0.8888888888888888,
              "#fdca26"
             ],
             [
              1,
              "#f0f921"
             ]
            ],
            "type": "surface"
           }
          ],
          "table": [
           {
            "cells": {
             "fill": {
              "color": "#EBF0F8"
             },
             "line": {
              "color": "white"
             }
            },
            "header": {
             "fill": {
              "color": "#C8D4E3"
             },
             "line": {
              "color": "white"
             }
            },
            "type": "table"
           }
          ]
         },
         "layout": {
          "annotationdefaults": {
           "arrowcolor": "#2a3f5f",
           "arrowhead": 0,
           "arrowwidth": 1
          },
          "autotypenumbers": "strict",
          "coloraxis": {
           "colorbar": {
            "outlinewidth": 0,
            "ticks": ""
           }
          },
          "colorscale": {
           "diverging": [
            [
             0,
             "#8e0152"
            ],
            [
             0.1,
             "#c51b7d"
            ],
            [
             0.2,
             "#de77ae"
            ],
            [
             0.3,
             "#f1b6da"
            ],
            [
             0.4,
             "#fde0ef"
            ],
            [
             0.5,
             "#f7f7f7"
            ],
            [
             0.6,
             "#e6f5d0"
            ],
            [
             0.7,
             "#b8e186"
            ],
            [
             0.8,
             "#7fbc41"
            ],
            [
             0.9,
             "#4d9221"
            ],
            [
             1,
             "#276419"
            ]
           ],
           "sequential": [
            [
             0,
             "#0d0887"
            ],
            [
             0.1111111111111111,
             "#46039f"
            ],
            [
             0.2222222222222222,
             "#7201a8"
            ],
            [
             0.3333333333333333,
             "#9c179e"
            ],
            [
             0.4444444444444444,
             "#bd3786"
            ],
            [
             0.5555555555555556,
             "#d8576b"
            ],
            [
             0.6666666666666666,
             "#ed7953"
            ],
            [
             0.7777777777777778,
             "#fb9f3a"
            ],
            [
             0.8888888888888888,
             "#fdca26"
            ],
            [
             1,
             "#f0f921"
            ]
           ],
           "sequentialminus": [
            [
             0,
             "#0d0887"
            ],
            [
             0.1111111111111111,
             "#46039f"
            ],
            [
             0.2222222222222222,
             "#7201a8"
            ],
            [
             0.3333333333333333,
             "#9c179e"
            ],
            [
             0.4444444444444444,
             "#bd3786"
            ],
            [
             0.5555555555555556,
             "#d8576b"
            ],
            [
             0.6666666666666666,
             "#ed7953"
            ],
            [
             0.7777777777777778,
             "#fb9f3a"
            ],
            [
             0.8888888888888888,
             "#fdca26"
            ],
            [
             1,
             "#f0f921"
            ]
           ]
          },
          "colorway": [
           "#636efa",
           "#EF553B",
           "#00cc96",
           "#ab63fa",
           "#FFA15A",
           "#19d3f3",
           "#FF6692",
           "#B6E880",
           "#FF97FF",
           "#FECB52"
          ],
          "font": {
           "color": "#2a3f5f"
          },
          "geo": {
           "bgcolor": "white",
           "lakecolor": "white",
           "landcolor": "#E5ECF6",
           "showlakes": true,
           "showland": true,
           "subunitcolor": "white"
          },
          "hoverlabel": {
           "align": "left"
          },
          "hovermode": "closest",
          "mapbox": {
           "style": "light"
          },
          "paper_bgcolor": "white",
          "plot_bgcolor": "#E5ECF6",
          "polar": {
           "angularaxis": {
            "gridcolor": "white",
            "linecolor": "white",
            "ticks": ""
           },
           "bgcolor": "#E5ECF6",
           "radialaxis": {
            "gridcolor": "white",
            "linecolor": "white",
            "ticks": ""
           }
          },
          "scene": {
           "xaxis": {
            "backgroundcolor": "#E5ECF6",
            "gridcolor": "white",
            "gridwidth": 2,
            "linecolor": "white",
            "showbackground": true,
            "ticks": "",
            "zerolinecolor": "white"
           },
           "yaxis": {
            "backgroundcolor": "#E5ECF6",
            "gridcolor": "white",
            "gridwidth": 2,
            "linecolor": "white",
            "showbackground": true,
            "ticks": "",
            "zerolinecolor": "white"
           },
           "zaxis": {
            "backgroundcolor": "#E5ECF6",
            "gridcolor": "white",
            "gridwidth": 2,
            "linecolor": "white",
            "showbackground": true,
            "ticks": "",
            "zerolinecolor": "white"
           }
          },
          "shapedefaults": {
           "line": {
            "color": "#2a3f5f"
           }
          },
          "ternary": {
           "aaxis": {
            "gridcolor": "white",
            "linecolor": "white",
            "ticks": ""
           },
           "baxis": {
            "gridcolor": "white",
            "linecolor": "white",
            "ticks": ""
           },
           "bgcolor": "#E5ECF6",
           "caxis": {
            "gridcolor": "white",
            "linecolor": "white",
            "ticks": ""
           }
          },
          "title": {
           "x": 0.05
          },
          "xaxis": {
           "automargin": true,
           "gridcolor": "white",
           "linecolor": "white",
           "ticks": "",
           "title": {
            "standoff": 15
           },
           "zerolinecolor": "white",
           "zerolinewidth": 2
          },
          "yaxis": {
           "automargin": true,
           "gridcolor": "white",
           "linecolor": "white",
           "ticks": "",
           "title": {
            "standoff": 15
           },
           "zerolinecolor": "white",
           "zerolinewidth": 2
          }
         }
        },
        "width": 800,
        "xaxis": {
         "title": {
          "text": "Wavelength (nm)"
         }
        },
        "yaxis": {
         "range": [
          0,
          100
         ],
         "title": {
          "text": "Intensity (%)"
         }
        }
       }
      }
     },
     "metadata": {},
     "output_type": "display_data"
    },
    {
     "data": {
      "text/plain": [
       "<Figure size 1000x600 with 0 Axes>"
      ]
     },
     "metadata": {},
     "output_type": "display_data"
    }
   ],
   "source": [
    "# plotting normalized spectrum (kind of, in the sense that we are not normalizing the area under the curve, but the maximum value of the spectrum)\n",
    "delta = np.array(λcenter_list) - np.mean(λcenter_list)  # Calculate the average value of λcenter\n",
    "\n",
    "plt.figure(figsize=(10, 6))\n",
    "\n",
    "fig = go.Figure()\n",
    "\n",
    "for λ_col, I_col, c, d in zip(WAVELENGHTS, INTENSITIES,ASS,delta):\n",
    "    max = data[I_col].max()\n",
    "    centered_wavelengths = data[λ_col] - d  # Center the wavelengths around the average λcenter\n",
    "    ydata = data[I_col]*100/ max\n",
    "\n",
    "    # solo per plottare interpolazione, non utile\n",
    "\n",
    "    # f = interp1d(centered_wavelengths,ydata)\n",
    "    # x = np.linspace(np.min(centered_wavelengths),np.max(centered_wavelengths))\n",
    "    # y = f(x)\n",
    "\n",
    "    # fig.add_trace(go.Scatter(x=x,y=y,\n",
    "    #                 mode='lines',\n",
    "    #                 name=f'{np.round(c,2)}'))\n",
    "\n",
    "    fig.add_trace(go.Scatter(x=centered_wavelengths,y=ydata,\n",
    "                    mode='lines',\n",
    "                    name=f'{np.round(c,2)}'))\n",
    "\n",
    "fig.update_layout(\n",
    "                  xaxis_title='Wavelength (nm)',\n",
    "                  yaxis_title='Intensity (%)',\n",
    "                  height=600,\n",
    "                  width=800,\n",
    "                  yaxis=dict(range=[0, 100]),\n",
    "                  legend=dict(x=0.88, y=1),\n",
    "                  font=dict(size=14))\n",
    "\n",
    "fig.write_html(dir_path +r\"\\html\\normalized_centered_emission_spectrum.html\")\n",
    "fig.write_image(dir_path + r\"\\images\\normalized_centered_emission_spectrum.png\")\n",
    "fig.show()"
   ]
  },
  {
   "cell_type": "code",
   "execution_count": 30,
   "id": "59f093bf",
   "metadata": {},
   "outputs": [
    {
     "name": "stdout",
     "output_type": "stream",
     "text": [
      "Errore percentuale medio:  0.45 %\n"
     ]
    }
   ],
   "source": [
    "delta = np.array(λcenter_list) - np.mean(λcenter_list)  # Calculate the average value of λcenter\n",
    "\n",
    "interpolation_functions = []\n",
    "\n",
    "for λ_col, I_col, c, d in zip(WAVELENGHTS, INTENSITIES,ASS,delta):\n",
    "    max = data[I_col].max()\n",
    "    centered_wavelengths = data[λ_col] - d  # Center the wavelengths around the average λcenter\n",
    "    ydata = data[I_col]*100/ max\n",
    "    f = interp1d(centered_wavelengths,ydata)\n",
    "    interpolation_functions.append(f)\n",
    "\n",
    "x = np.arange(552-5,552+5,0.001)\n",
    "y = np.array(list(map(lambda F: F(x),interpolation_functions)))\n",
    "\n",
    "mean_y = np.mean(y, axis=0)\n",
    "std_y = np.std(y, axis=0)\n",
    "perc_error = (std_y / mean_y) * 100\n",
    "\n",
    "print('Errore percentuale medio: ',np.round(np.mean(perc_error),2),'%')\n",
    "# Display the results\n",
    "# print(\"Mean values:\", mean_y)\n",
    "# print(\"Standard deviation values:\", std_y)\n",
    "# print(\"Percent error: \", perc_error)"
   ]
  },
  {
   "cell_type": "code",
   "execution_count": 31,
   "id": "517b2f05",
   "metadata": {},
   "outputs": [
    {
     "data": {
      "application/vnd.plotly.v1+json": {
       "config": {
        "plotlyServerURL": "https://plot.ly"
       },
       "data": [
        {
         "mode": "lines",
         "name": "Percent Error",
         "type": "scatter",
         "x": {
          "bdata": "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",
          "dtype": "f8"
         },
         "xaxis": "x",
         "y": {
          "bdata": "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",
          "dtype": "f8"
         },
         "yaxis": "y"
        },
        {
         "mode": "lines",
         "name": "Mean Intensity",
         "type": "scatter",
         "x": {
          "bdata": "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",
          "dtype": "f8"
         },
         "xaxis": "x",
         "y": {
          "bdata": "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",
          "dtype": "f8"
         },
         "yaxis": "y2"
        }
       ],
       "layout": {
        "annotations": [
         {
          "font": {
           "color": "green"
          },
          "showarrow": false,
          "text": "Mean Percent Error",
          "x": 1,
          "xanchor": "right",
          "xref": "x domain",
          "y": 0.44591958613125005,
          "yanchor": "top",
          "yref": "y"
         }
        ],
        "font": {
         "size": 14
        },
        "height": 600,
        "shapes": [
         {
          "line": {
           "color": "green",
           "dash": "dash"
          },
          "type": "line",
          "x0": 0,
          "x1": 1,
          "xref": "x domain",
          "y0": 0.44591958613125005,
          "y1": 0.44591958613125005,
          "yref": "y"
         }
        ],
        "showlegend": false,
        "template": {
         "data": {
          "bar": [
           {
            "error_x": {
             "color": "#2a3f5f"
            },
            "error_y": {
             "color": "#2a3f5f"
            },
            "marker": {
             "line": {
              "color": "#E5ECF6",
              "width": 0.5
             },
             "pattern": {
              "fillmode": "overlay",
              "size": 10,
              "solidity": 0.2
             }
            },
            "type": "bar"
           }
          ],
          "barpolar": [
           {
            "marker": {
             "line": {
              "color": "#E5ECF6",
              "width": 0.5
             },
             "pattern": {
              "fillmode": "overlay",
              "size": 10,
              "solidity": 0.2
             }
            },
            "type": "barpolar"
           }
          ],
          "carpet": [
           {
            "aaxis": {
             "endlinecolor": "#2a3f5f",
             "gridcolor": "white",
             "linecolor": "white",
             "minorgridcolor": "white",
             "startlinecolor": "#2a3f5f"
            },
            "baxis": {
             "endlinecolor": "#2a3f5f",
             "gridcolor": "white",
             "linecolor": "white",
             "minorgridcolor": "white",
             "startlinecolor": "#2a3f5f"
            },
            "type": "carpet"
           }
          ],
          "choropleth": [
           {
            "colorbar": {
             "outlinewidth": 0,
             "ticks": ""
            },
            "type": "choropleth"
           }
          ],
          "contour": [
           {
            "colorbar": {
             "outlinewidth": 0,
             "ticks": ""
            },
            "colorscale": [
             [
              0,
              "#0d0887"
             ],
             [
              0.1111111111111111,
              "#46039f"
             ],
             [
              0.2222222222222222,
              "#7201a8"
             ],
             [
              0.3333333333333333,
              "#9c179e"
             ],
             [
              0.4444444444444444,
              "#bd3786"
             ],
             [
              0.5555555555555556,
              "#d8576b"
             ],
             [
              0.6666666666666666,
              "#ed7953"
             ],
             [
              0.7777777777777778,
              "#fb9f3a"
             ],
             [
              0.8888888888888888,
              "#fdca26"
             ],
             [
              1,
              "#f0f921"
             ]
            ],
            "type": "contour"
           }
          ],
          "contourcarpet": [
           {
            "colorbar": {
             "outlinewidth": 0,
             "ticks": ""
            },
            "type": "contourcarpet"
           }
          ],
          "heatmap": [
           {
            "colorbar": {
             "outlinewidth": 0,
             "ticks": ""
            },
            "colorscale": [
             [
              0,
              "#0d0887"
             ],
             [
              0.1111111111111111,
              "#46039f"
             ],
             [
              0.2222222222222222,
              "#7201a8"
             ],
             [
              0.3333333333333333,
              "#9c179e"
             ],
             [
              0.4444444444444444,
              "#bd3786"
             ],
             [
              0.5555555555555556,
              "#d8576b"
             ],
             [
              0.6666666666666666,
              "#ed7953"
             ],
             [
              0.7777777777777778,
              "#fb9f3a"
             ],
             [
              0.8888888888888888,
              "#fdca26"
             ],
             [
              1,
              "#f0f921"
             ]
            ],
            "type": "heatmap"
           }
          ],
          "histogram": [
           {
            "marker": {
             "pattern": {
              "fillmode": "overlay",
              "size": 10,
              "solidity": 0.2
             }
            },
            "type": "histogram"
           }
          ],
          "histogram2d": [
           {
            "colorbar": {
             "outlinewidth": 0,
             "ticks": ""
            },
            "colorscale": [
             [
              0,
              "#0d0887"
             ],
             [
              0.1111111111111111,
              "#46039f"
             ],
             [
              0.2222222222222222,
              "#7201a8"
             ],
             [
              0.3333333333333333,
              "#9c179e"
             ],
             [
              0.4444444444444444,
              "#bd3786"
             ],
             [
              0.5555555555555556,
              "#d8576b"
             ],
             [
              0.6666666666666666,
              "#ed7953"
             ],
             [
              0.7777777777777778,
              "#fb9f3a"
             ],
             [
              0.8888888888888888,
              "#fdca26"
             ],
             [
              1,
              "#f0f921"
             ]
            ],
            "type": "histogram2d"
           }
          ],
          "histogram2dcontour": [
           {
            "colorbar": {
             "outlinewidth": 0,
             "ticks": ""
            },
            "colorscale": [
             [
              0,
              "#0d0887"
             ],
             [
              0.1111111111111111,
              "#46039f"
             ],
             [
              0.2222222222222222,
              "#7201a8"
             ],
             [
              0.3333333333333333,
              "#9c179e"
             ],
             [
              0.4444444444444444,
              "#bd3786"
             ],
             [
              0.5555555555555556,
              "#d8576b"
             ],
             [
              0.6666666666666666,
              "#ed7953"
             ],
             [
              0.7777777777777778,
              "#fb9f3a"
             ],
             [
              0.8888888888888888,
              "#fdca26"
             ],
             [
              1,
              "#f0f921"
             ]
            ],
            "type": "histogram2dcontour"
           }
          ],
          "mesh3d": [
           {
            "colorbar": {
             "outlinewidth": 0,
             "ticks": ""
            },
            "type": "mesh3d"
           }
          ],
          "parcoords": [
           {
            "line": {
             "colorbar": {
              "outlinewidth": 0,
              "ticks": ""
             }
            },
            "type": "parcoords"
           }
          ],
          "pie": [
           {
            "automargin": true,
            "type": "pie"
           }
          ],
          "scatter": [
           {
            "fillpattern": {
             "fillmode": "overlay",
             "size": 10,
             "solidity": 0.2
            },
            "type": "scatter"
           }
          ],
          "scatter3d": [
           {
            "line": {
             "colorbar": {
              "outlinewidth": 0,
              "ticks": ""
             }
            },
            "marker": {
             "colorbar": {
              "outlinewidth": 0,
              "ticks": ""
             }
            },
            "type": "scatter3d"
           }
          ],
          "scattercarpet": [
           {
            "marker": {
             "colorbar": {
              "outlinewidth": 0,
              "ticks": ""
             }
            },
            "type": "scattercarpet"
           }
          ],
          "scattergeo": [
           {
            "marker": {
             "colorbar": {
              "outlinewidth": 0,
              "ticks": ""
             }
            },
            "type": "scattergeo"
           }
          ],
          "scattergl": [
           {
            "marker": {
             "colorbar": {
              "outlinewidth": 0,
              "ticks": ""
             }
            },
            "type": "scattergl"
           }
          ],
          "scattermap": [
           {
            "marker": {
             "colorbar": {
              "outlinewidth": 0,
              "ticks": ""
             }
            },
            "type": "scattermap"
           }
          ],
          "scattermapbox": [
           {
            "marker": {
             "colorbar": {
              "outlinewidth": 0,
              "ticks": ""
             }
            },
            "type": "scattermapbox"
           }
          ],
          "scatterpolar": [
           {
            "marker": {
             "colorbar": {
              "outlinewidth": 0,
              "ticks": ""
             }
            },
            "type": "scatterpolar"
           }
          ],
          "scatterpolargl": [
           {
            "marker": {
             "colorbar": {
              "outlinewidth": 0,
              "ticks": ""
             }
            },
            "type": "scatterpolargl"
           }
          ],
          "scatterternary": [
           {
            "marker": {
             "colorbar": {
              "outlinewidth": 0,
              "ticks": ""
             }
            },
            "type": "scatterternary"
           }
          ],
          "surface": [
           {
            "colorbar": {
             "outlinewidth": 0,
             "ticks": ""
            },
            "colorscale": [
             [
              0,
              "#0d0887"
             ],
             [
              0.1111111111111111,
              "#46039f"
             ],
             [
              0.2222222222222222,
              "#7201a8"
             ],
             [
              0.3333333333333333,
              "#9c179e"
             ],
             [
              0.4444444444444444,
              "#bd3786"
             ],
             [
              0.5555555555555556,
              "#d8576b"
             ],
             [
              0.6666666666666666,
              "#ed7953"
             ],
             [
              0.7777777777777778,
              "#fb9f3a"
             ],
             [
              0.8888888888888888,
              "#fdca26"
             ],
             [
              1,
              "#f0f921"
             ]
            ],
            "type": "surface"
           }
          ],
          "table": [
           {
            "cells": {
             "fill": {
              "color": "#EBF0F8"
             },
             "line": {
              "color": "white"
             }
            },
            "header": {
             "fill": {
              "color": "#C8D4E3"
             },
             "line": {
              "color": "white"
             }
            },
            "type": "table"
           }
          ]
         },
         "layout": {
          "annotationdefaults": {
           "arrowcolor": "#2a3f5f",
           "arrowhead": 0,
           "arrowwidth": 1
          },
          "autotypenumbers": "strict",
          "coloraxis": {
           "colorbar": {
            "outlinewidth": 0,
            "ticks": ""
           }
          },
          "colorscale": {
           "diverging": [
            [
             0,
             "#8e0152"
            ],
            [
             0.1,
             "#c51b7d"
            ],
            [
             0.2,
             "#de77ae"
            ],
            [
             0.3,
             "#f1b6da"
            ],
            [
             0.4,
             "#fde0ef"
            ],
            [
             0.5,
             "#f7f7f7"
            ],
            [
             0.6,
             "#e6f5d0"
            ],
            [
             0.7,
             "#b8e186"
            ],
            [
             0.8,
             "#7fbc41"
            ],
            [
             0.9,
             "#4d9221"
            ],
            [
             1,
             "#276419"
            ]
           ],
           "sequential": [
            [
             0,
             "#0d0887"
            ],
            [
             0.1111111111111111,
             "#46039f"
            ],
            [
             0.2222222222222222,
             "#7201a8"
            ],
            [
             0.3333333333333333,
             "#9c179e"
            ],
            [
             0.4444444444444444,
             "#bd3786"
            ],
            [
             0.5555555555555556,
             "#d8576b"
            ],
            [
             0.6666666666666666,
             "#ed7953"
            ],
            [
             0.7777777777777778,
             "#fb9f3a"
            ],
            [
             0.8888888888888888,
             "#fdca26"
            ],
            [
             1,
             "#f0f921"
            ]
           ],
           "sequentialminus": [
            [
             0,
             "#0d0887"
            ],
            [
             0.1111111111111111,
             "#46039f"
            ],
            [
             0.2222222222222222,
             "#7201a8"
            ],
            [
             0.3333333333333333,
             "#9c179e"
            ],
            [
             0.4444444444444444,
             "#bd3786"
            ],
            [
             0.5555555555555556,
             "#d8576b"
            ],
            [
             0.6666666666666666,
             "#ed7953"
            ],
            [
             0.7777777777777778,
             "#fb9f3a"
            ],
            [
             0.8888888888888888,
             "#fdca26"
            ],
            [
             1,
             "#f0f921"
            ]
           ]
          },
          "colorway": [
           "#636efa",
           "#EF553B",
           "#00cc96",
           "#ab63fa",
           "#FFA15A",
           "#19d3f3",
           "#FF6692",
           "#B6E880",
           "#FF97FF",
           "#FECB52"
          ],
          "font": {
           "color": "#2a3f5f"
          },
          "geo": {
           "bgcolor": "white",
           "lakecolor": "white",
           "landcolor": "#E5ECF6",
           "showlakes": true,
           "showland": true,
           "subunitcolor": "white"
          },
          "hoverlabel": {
           "align": "left"
          },
          "hovermode": "closest",
          "mapbox": {
           "style": "light"
          },
          "paper_bgcolor": "white",
          "plot_bgcolor": "#E5ECF6",
          "polar": {
           "angularaxis": {
            "gridcolor": "white",
            "linecolor": "white",
            "ticks": ""
           },
           "bgcolor": "#E5ECF6",
           "radialaxis": {
            "gridcolor": "white",
            "linecolor": "white",
            "ticks": ""
           }
          },
          "scene": {
           "xaxis": {
            "backgroundcolor": "#E5ECF6",
            "gridcolor": "white",
            "gridwidth": 2,
            "linecolor": "white",
            "showbackground": true,
            "ticks": "",
            "zerolinecolor": "white"
           },
           "yaxis": {
            "backgroundcolor": "#E5ECF6",
            "gridcolor": "white",
            "gridwidth": 2,
            "linecolor": "white",
            "showbackground": true,
            "ticks": "",
            "zerolinecolor": "white"
           },
           "zaxis": {
            "backgroundcolor": "#E5ECF6",
            "gridcolor": "white",
            "gridwidth": 2,
            "linecolor": "white",
            "showbackground": true,
            "ticks": "",
            "zerolinecolor": "white"
           }
          },
          "shapedefaults": {
           "line": {
            "color": "#2a3f5f"
           }
          },
          "ternary": {
           "aaxis": {
            "gridcolor": "white",
            "linecolor": "white",
            "ticks": ""
           },
           "baxis": {
            "gridcolor": "white",
            "linecolor": "white",
            "ticks": ""
           },
           "bgcolor": "#E5ECF6",
           "caxis": {
            "gridcolor": "white",
            "linecolor": "white",
            "ticks": ""
           }
          },
          "title": {
           "x": 0.05
          },
          "xaxis": {
           "automargin": true,
           "gridcolor": "white",
           "linecolor": "white",
           "ticks": "",
           "title": {
            "standoff": 15
           },
           "zerolinecolor": "white",
           "zerolinewidth": 2
          },
          "yaxis": {
           "automargin": true,
           "gridcolor": "white",
           "linecolor": "white",
           "ticks": "",
           "title": {
            "standoff": 15
           },
           "zerolinecolor": "white",
           "zerolinewidth": 2
          }
         }
        },
        "width": 800,
        "xaxis": {
         "anchor": "y",
         "domain": [
          0,
          0.94
         ],
         "showgrid": false,
         "title": {
          "text": "Wavelength (nm)"
         }
        },
        "yaxis": {
         "anchor": "x",
         "domain": [
          0,
          1
         ],
         "showgrid": false,
         "title": {
          "text": "<span style='color:#636EFA'>Percent Error (%)</span>"
         }
        },
        "yaxis2": {
         "anchor": "x",
         "overlaying": "y",
         "showgrid": false,
         "side": "right",
         "title": {
          "text": "<span style='color:#EF553B'>Intensity (%)</span>"
         }
        }
       }
      }
     },
     "metadata": {},
     "output_type": "display_data"
    }
   ],
   "source": [
    "from plotly.subplots import make_subplots\n",
    "\n",
    "# Create figure with secondary y-axis\n",
    "fig = make_subplots(specs=[[{\"secondary_y\": True}]])\n",
    "\n",
    "# Add traces\n",
    "fig.add_trace(\n",
    "    go.Scatter(x=x, y=perc_error, mode='lines', name='Percent Error'),\n",
    "    secondary_y=False,\n",
    ")\n",
    "\n",
    "fig.add_trace(\n",
    "    go.Scatter(x=x, y=mean_y, mode='lines', name='Mean Intensity'),\n",
    "    secondary_y=True,\n",
    ")\n",
    "\n",
    "\n",
    "# Add figure title\n",
    "fig.update_layout(\n",
    "    height=600,\n",
    "    width=800,\n",
    "    font=dict(size=14),\n",
    "    showlegend=False,\n",
    ")\n",
    "\n",
    "# Set x-axis title\n",
    "mean_perc_error = np.mean(perc_error)\n",
    "fig.add_hline(y=mean_perc_error, line_dash=\"dash\", line_color=\"green\", annotation_text=\"Mean Percent Error\", annotation_position=\"bottom right\", annotation_font_color=\"green\")\n",
    "fig.update_xaxes(title_text=\"Wavelength (nm)\", showgrid=False)\n",
    "\n",
    "# Set y-axes titles and remove grid\n",
    "fig.update_yaxes(title_text=\"<span style='color:#636EFA'>Percent Error (%)</span>\", secondary_y=False, showgrid=False)\n",
    "fig.update_yaxes(title_text=\"<span style='color:#EF553B'>Intensity (%)</span>\", secondary_y=True, showgrid=False)\n",
    "\n",
    "fig.show()"
   ]
  },
  {
   "cell_type": "markdown",
   "id": "237dfbd9",
   "metadata": {},
   "source": [
    "### RIDUCENDO IL VALORE DA 540-640 A 540-600 SI GUADAGNA DA 1.5% A 1%\n",
    "\n",
    "L'INCERTEZZA NEL PICCO è MNORE"
   ]
  }
 ],
 "metadata": {
  "kernelspec": {
   "display_name": "Python 3",
   "language": "python",
   "name": "python3"
  },
  "language_info": {
   "codemirror_mode": {
    "name": "ipython",
    "version": 3
   },
   "file_extension": ".py",
   "mimetype": "text/x-python",
   "name": "python",
   "nbconvert_exporter": "python",
   "pygments_lexer": "ipython3",
   "version": "3.13.0"
  }
 },
 "nbformat": 4,
 "nbformat_minor": 5
}
