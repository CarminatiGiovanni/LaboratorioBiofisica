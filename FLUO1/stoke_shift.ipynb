{
 "cells": [
  {
   "cell_type": "code",
   "execution_count": 1,
   "metadata": {},
   "outputs": [],
   "source": [
    "from matplotlib import pyplot as plt\n",
    "import numpy as np\n",
    "import pandas as pd\n",
    "import plotly.express as px\n",
    "import os\n",
    "import sys\n",
    "import plotly.graph_objects as go \n",
    "dir_path = os.path.abspath('')\n",
    "sys.path.append(dir_path + '/../')\n",
    "from labbiofisica import Interpolazione, final_val\n",
    "from scipy.optimize import curve_fit"
   ]
  },
  {
   "cell_type": "code",
   "execution_count": 4,
   "metadata": {},
   "outputs": [
    {
     "data": {
      "text/html": [
       "<div>\n",
       "<style scoped>\n",
       "    .dataframe tbody tr th:only-of-type {\n",
       "        vertical-align: middle;\n",
       "    }\n",
       "\n",
       "    .dataframe tbody tr th {\n",
       "        vertical-align: top;\n",
       "    }\n",
       "\n",
       "    .dataframe thead th {\n",
       "        text-align: right;\n",
       "    }\n",
       "</style>\n",
       "<table border=\"1\" class=\"dataframe\">\n",
       "  <thead>\n",
       "    <tr style=\"text-align: right;\">\n",
       "      <th></th>\n",
       "      <th>Wavelength (nm)</th>\n",
       "      <th>Intensity (a.u.)</th>\n",
       "      <th>Wavelength (nm).1</th>\n",
       "      <th>Intensity (a.u.).1</th>\n",
       "    </tr>\n",
       "  </thead>\n",
       "  <tbody>\n",
       "    <tr>\n",
       "      <th>146</th>\n",
       "      <td>NaN</td>\n",
       "      <td>NaN</td>\n",
       "      <td>545.969971</td>\n",
       "      <td>420.667816</td>\n",
       "    </tr>\n",
       "    <tr>\n",
       "      <th>147</th>\n",
       "      <td>NaN</td>\n",
       "      <td>NaN</td>\n",
       "      <td>547.010010</td>\n",
       "      <td>377.603302</td>\n",
       "    </tr>\n",
       "    <tr>\n",
       "      <th>148</th>\n",
       "      <td>NaN</td>\n",
       "      <td>NaN</td>\n",
       "      <td>548.049988</td>\n",
       "      <td>338.718384</td>\n",
       "    </tr>\n",
       "    <tr>\n",
       "      <th>149</th>\n",
       "      <td>NaN</td>\n",
       "      <td>NaN</td>\n",
       "      <td>548.950012</td>\n",
       "      <td>303.112579</td>\n",
       "    </tr>\n",
       "    <tr>\n",
       "      <th>150</th>\n",
       "      <td>NaN</td>\n",
       "      <td>NaN</td>\n",
       "      <td>550.000000</td>\n",
       "      <td>268.755066</td>\n",
       "    </tr>\n",
       "  </tbody>\n",
       "</table>\n",
       "</div>"
      ],
      "text/plain": [
       "     Wavelength (nm)  Intensity (a.u.)  Wavelength (nm).1  Intensity (a.u.).1\n",
       "146              NaN               NaN         545.969971          420.667816\n",
       "147              NaN               NaN         547.010010          377.603302\n",
       "148              NaN               NaN         548.049988          338.718384\n",
       "149              NaN               NaN         548.950012          303.112579\n",
       "150              NaN               NaN         550.000000          268.755066"
      ]
     },
     "execution_count": 4,
     "metadata": {},
     "output_type": "execute_result"
    }
   ],
   "source": [
    "filename = 'data/stokes_shift_05.csv'\n",
    "data = pd.read_csv(filename, sep=',',header=1,nrows=151)\n",
    "# Drop the 'Unnamed: 4' column as it contains no useful data\n",
    "data = data.drop(columns=['Unnamed: 4'])\n",
    "data.tail()"
   ]
  }
 ],
 "metadata": {
  "kernelspec": {
   "display_name": "Python 3",
   "language": "python",
   "name": "python3"
  },
  "language_info": {
   "codemirror_mode": {
    "name": "ipython",
    "version": 3
   },
   "file_extension": ".py",
   "mimetype": "text/x-python",
   "name": "python",
   "nbconvert_exporter": "python",
   "pygments_lexer": "ipython3",
   "version": "3.13.0"
  }
 },
 "nbformat": 4,
 "nbformat_minor": 2
}
