{
 "cells": [
  {
   "cell_type": "code",
   "execution_count": 1,
   "metadata": {},
   "outputs": [],
   "source": [
    "from matplotlib import pyplot as plt\n",
    "import numpy as np\n",
    "import pandas as pd\n",
    "import plotly.express as px\n",
    "import os\n",
    "import sys\n",
    "import plotly.graph_objects as go \n",
    "dir_path = os.path.abspath('')\n",
    "sys.path.append(dir_path + '/../')\n",
    "from labbiofisica import Interpolazione, final_val\n",
    "from scipy.optimize import curve_fit"
   ]
  },
  {
   "cell_type": "code",
   "execution_count": 2,
   "metadata": {},
   "outputs": [],
   "source": [
    "# real rodamina \n",
    "R6G_emission = pd.read_csv(r'.\\data\\Rhodamine 6G_emission.csv', sep=',')\n",
    "R6G_absorbance = pd.read_csv(r'.\\data\\Rhodamine 6G_absorbance.csv', sep=',')\n",
    "R6G_excitation = pd.read_csv(r'.\\data\\Rhodamine 6G_excitation.csv', sep=',')"
   ]
  },
  {
   "cell_type": "code",
   "execution_count": 3,
   "metadata": {},
   "outputs": [
    {
     "data": {
      "text/html": [
       "<div>\n",
       "<style scoped>\n",
       "    .dataframe tbody tr th:only-of-type {\n",
       "        vertical-align: middle;\n",
       "    }\n",
       "\n",
       "    .dataframe tbody tr th {\n",
       "        vertical-align: top;\n",
       "    }\n",
       "\n",
       "    .dataframe thead th {\n",
       "        text-align: right;\n",
       "    }\n",
       "</style>\n",
       "<table border=\"1\" class=\"dataframe\">\n",
       "  <thead>\n",
       "    <tr style=\"text-align: right;\">\n",
       "      <th></th>\n",
       "      <th>Wavelength (nm)</th>\n",
       "      <th>Intensity (a.u.)</th>\n",
       "      <th>Wavelength (nm).1</th>\n",
       "      <th>Intensity (a.u.).1</th>\n",
       "    </tr>\n",
       "  </thead>\n",
       "  <tbody>\n",
       "    <tr>\n",
       "      <th>146</th>\n",
       "      <td>NaN</td>\n",
       "      <td>NaN</td>\n",
       "      <td>545.969971</td>\n",
       "      <td>420.667816</td>\n",
       "    </tr>\n",
       "    <tr>\n",
       "      <th>147</th>\n",
       "      <td>NaN</td>\n",
       "      <td>NaN</td>\n",
       "      <td>547.010010</td>\n",
       "      <td>377.603302</td>\n",
       "    </tr>\n",
       "    <tr>\n",
       "      <th>148</th>\n",
       "      <td>NaN</td>\n",
       "      <td>NaN</td>\n",
       "      <td>548.049988</td>\n",
       "      <td>338.718384</td>\n",
       "    </tr>\n",
       "    <tr>\n",
       "      <th>149</th>\n",
       "      <td>NaN</td>\n",
       "      <td>NaN</td>\n",
       "      <td>548.950012</td>\n",
       "      <td>303.112579</td>\n",
       "    </tr>\n",
       "    <tr>\n",
       "      <th>150</th>\n",
       "      <td>NaN</td>\n",
       "      <td>NaN</td>\n",
       "      <td>550.000000</td>\n",
       "      <td>268.755066</td>\n",
       "    </tr>\n",
       "  </tbody>\n",
       "</table>\n",
       "</div>"
      ],
      "text/plain": [
       "     Wavelength (nm)  Intensity (a.u.)  Wavelength (nm).1  Intensity (a.u.).1\n",
       "146              NaN               NaN         545.969971          420.667816\n",
       "147              NaN               NaN         547.010010          377.603302\n",
       "148              NaN               NaN         548.049988          338.718384\n",
       "149              NaN               NaN         548.950012          303.112579\n",
       "150              NaN               NaN         550.000000          268.755066"
      ]
     },
     "execution_count": 3,
     "metadata": {},
     "output_type": "execute_result"
    }
   ],
   "source": [
    "filename = 'data/stokes_shift_05.csv'\n",
    "data = pd.read_csv(filename, sep=',',header=1,nrows=151)\n",
    "# Drop the 'Unnamed: 4' column as it contains no useful data\n",
    "data = data.drop(columns=['Unnamed: 4'])\n",
    "data.tail()"
   ]
  },
  {
   "cell_type": "code",
   "execution_count": 12,
   "metadata": {},
   "outputs": [
    {
     "data": {
      "application/vnd.plotly.v1+json": {
       "config": {
        "plotlyServerURL": "https://plot.ly"
       },
       "data": [
        {
         "line": {
          "color": "blue"
         },
         "mode": "lines",
         "name": "Excitation",
         "type": "scatter",
         "x": {
          "bdata": "AAAAAAAAeUCzf/m/HhF5QAAAAAAAIHlAs3/5vx4xeUAAAAAAAEB5QLN/+b8eUXlAAAAAAABgeUCzf/m/HnF5QAAAAAAAgHlAs3/5vx6ReUAAAAAAAKB5QGodC8D1sHlAAg8MIFy/eUC1jgXgetB5QE2ABkDh3nlAAAAAAADweUBqHQvA9QB6QAIPDCBcD3pAtY4F4HogekBNgAZA4S56QAAAAAAAQHpAah0LwPVQekACDwwgXF96QLWOBeB6cHpATYAGQOF+ekAAAAAAAJB6QGodC8D1oHpAAg8MIFyvekC1jgXgesB6QE2ABkDhznpAAAAAAADgekCzf/m/HvF6QAAAAAAAAHtAs3/5vx4Re0AAAAAAACB7QLN/+b8eMXtAAAAAAABAe0Czf/m/HlF7QAAAAAAAYHtAs3/5vx5xe0AAAAAAAIB7QGodC8D1kHtAAg8MIFyfe0C1jgXgerB7QE2ABkDhvntAAAAAAADQe0BqHQvA9eB7QAIPDCBc73tAtY4F4HoAfEBNgAZA4Q58QAAAAAAAIHxAah0LwPUwfEACDwwgXD98QLWOBeB6UHxATYAGQOFefEAAAAAAAHB8QGodC8D1gHxAAg8MIFyPfEC1jgXgeqB8QE2ABkDhrnxAAAAAAADAfED+8PPfo9B8QJbi9D8K33xAhqsDIK7vfEB6VPzfUQB9QLN/+b8eEX1AS3H6H4UffUA7OgkAKTB9QC/jAcDMQH1A0Rz+PzNPfUAAAAAAAGB9QGodC8D1cH1AAg8MIFx/fUC1jgXgepB9QE2ABkDhnn1AAAAAAACwfUBqHQvA9cB9QAIPDCBcz31AtY4F4HrgfUBNgAZA4e59QAAAAAAAAH5Aah0LwPUQfkACDwwgXB9+QLWOBeB6MH5ATYAGQOE+fkAAAAAAAFB+QGodC8D1YH5AAg8MIFxvfkC1jgXgeoB+QE2ABkDhjn5AAAAAAACgfkD+8PPfo7B+QJbi9D8Kv35AhqsDIK7PfkB6VPzfUeB+QLN/+b8e8X5AS3H6H4X/fkA7OgkAKRB/QC/jAcDMIH9A0Rz+PzMvf0AAAAAAAEB/QP7w89+jUH9AluL0Pwpff0CGqwMgrm9/QHpU/N9RgH9As3/5vx6Rf0BLcfofhZ9/QDs6CQApsH9AL+MBwMzAf0DRHP4/M89/QAAAAAAA4H9Aah0LwPXwf0ACDwwgXP9/QGBrAIA9CIBAJkADoHAPgEAAAAAAABiAQLWOBeB6IIBAhqsDIK4ngEBgawCAPTCAQCZAA6BwN4BAAAAAAABAgEBCzvv/KEiAQJjxAGBmUIBAS3H6H4VXgECglP9/wl+AQAAAAAAAaIBAQs77/yhwgECY8QBgZniAQEtx+h+Ff4BAoJT/f8KHgEAAAAAAAJCAQHpU/N9RmIBAS3H6H4WfgEC+MQQA16eAQELO+/8osIBA2r/8X4+4gECglP9/wr+AQB6dBIAUyIBAmPEAYGbQgEBoDv+fmdeAQAAAAAAA4IBAelT831HogEBLcfofhe+AQL4xBADX94BAQs77/ygAgUDav/xfjwiBQKCU/3/CD4FAHp0EgBQYgUCY8QBgZiCBQGgO/5+ZJ4FAAAAAAAAwgUA=",
          "dtype": "f8"
         },
         "y": {
          "bdata": "glC4hlKzBUBJzs1NIEIFQOPPsTib9wRAz9EUEOyhBEBRo+Z5PL0EQMILNsJE/QNAtz7H7NOwA0CC9Fy6lG0DQMafRng3JgNAKgpOzpTFAkDVZyk7P1ICQMNTNdktBAJADOJRrPfpAUAvt/wGlYUBQIFDWXAIJQFATvSUYRQZAUCBd6vjefcAQDJLKXcD1QBAc4UMsAqzAEDfq7LdrpsAQJ53KonKuABAONJHXCyVAED1mYhDe48AQDSzA/8hjgBA/JnRVSyrAECIQ+trQuQAQMWJTBih+gBAwI6MNr5NAUA+bUHZIZ0BQDw9AxJyOAJAlkRoy/QCA0BavXrXiA4EQLZT9rwPRgVAToswVzKTBkBXmhavAKUHQIWSgfvGQQlAlEzboK+XCkASk/pvg6sMQFD65k/7Gw9ARksXB9HXEECSKGFfsAISQJUAuuIJPRNAhNdbO9FXFEBFhwkAZoUVQMz/xeuy3hZAaE3quOM7GEA5i8Ti3t8ZQECpZ6wbAhtAuNj+/05EHEAQwWWmrjAdQAIpF85fVh5AvODxayzMH0AjAFFbrWkgQJgGcFqlKyFAbubn/rzQIUCPnrtxUJAiQAeLVFyDfSNA9OmR5Q9fJEA1RZ9983AlQEve3wbdGCZAZs1YSXPCJkCez7jjMy8nQJF4d9mamydA4PjUu32AKEDtkI8zDnkpQKx9HW306SpAq45B2nQwLECcSyYdn4ktQLGGVWYHAy9AaOZkze0WMEALDUyWnOcwQBmxyj4D4jFA0EaSH1akMkBiB1QZCckzQMm+Y+5u1DRAqHIwhmH7NUDKQdxPZFU3QINlW5xAdjhA7IbbaTfHOUAkZGLAJko7QMNcIgOw0zxAziUjl1gXP0BotczZ+pdAQPa3PbgeWEFANFDzLGy4QUAGKadhaRtCQO7IKS2jkEJAQ60ypIb6QkBQNZFKSmBDQLVpoiJ/xENAsncG84RyREDLso10XKxEQIdcg+yPy0RAAUSTGYzqREB0YvW7wk9FQEUP9hrZjUVASSMb9XwaRkAO5J4ep7hGQP6UixV/TkdA1dxP3ECJR0D0c811jNhHQJqA4gQVR0hAxnBj1tApSUBxjxWsyKtJQAuzW/9ltEpA5q68SPVhS0C0sDjFt2VMQF4z6V4Sd01AkActyqOdTkD8FuOtOgFQQAKazLqmf1BAizH5jT3sUEANiPrSn1FRQKMP24aVGFJA5OS/drmkUkCg5ZdaoIBTQCFpdAivPFRAPIkMwZsiVUD+GY6wPrVVQJNnl0y+/FVAljg+JVdUVkCKMtzyeJpWQO7P5DxFOFdAyNOzkdmbV0Dil3bznCdYQAe4KHuOo1hAE25sJeLZWEAAAAAAAABZQN1pXZwLpFhAUSw+s+pLWEBdDrT+0u5XQDilFtXfe1dAyu3vpugcV0BMmaI+Ea1WQEvt9CywaFZAaSmNhrm6VUAkQ2uBqiJVQO9wtG6aKVRALtk3mVdgU0DnybVcdZtSQKccdUpWWlFA8rLAkDlzUEC+2+63aDpPQDcPQgERvkxAqoR++uEjSkCuTS+4J6lHQPRPzbONskVAwgPoiex5Q0AAgMR8e3hBQFvOOV+tRD9ALfth3Fq5O0A=",
          "dtype": "f8"
         }
        },
        {
         "line": {
          "color": "purple"
         },
         "mode": "lines",
         "name": "Excitation theoric",
         "type": "scatter",
         "x": {
          "bdata": "kAGRAZIBkwGUAZUBlgGXAZgBmQGaAZsBnAGdAZ4BnwGgAaEBogGjAaQBpQGmAacBqAGpAaoBqwGsAa0BrgGvAbABsQGyAbMBtAG1AbYBtwG4AbkBugG7AbwBvQG+Ab8BwAHBAcIBwwHEAcUBxgHHAcgByQHKAcsBzAHNAc4BzwHQAdEB0gHTAdQB1QHWAdcB2AHZAdoB2wHcAd0B3gHfAeAB4QHiAeMB5AHlAeYB5wHoAekB6gHrAewB7QHuAe8B8AHxAfIB8wH0AfUB9gH3AfgB+QH6AfsB/AH9Af4B/wEAAgECAgIDAgQCBQIGAgcCCAIJAgoCCwIMAg0CDgIPAhACEQISAhMCFAIVAhYCFwIYAhkCGgIbAhwCHQIeAh8CIAIhAiICIwIkAiUCJgInAigCKQIqAisCLAItAi4CLwIwAjECMgIzAjQCNQI2AjcCOAI5AjoCOwI8Aj0CPgI/AkACQQJCAkMCRAJFAkYCRwJIAkkCSgJLAkwCTQJOAk8CUAJRAlICUwJUAlUCVgJXAlgCWQJaAlsCXAJdAl4CXwJgAmECYgJjAmQCZQJmAmcCaAJpAmoCawJsAm0CbgJvAnACcQJyAnMCdAJ1AnYCdwI=",
          "dtype": "i2"
         },
         "y": {
          "bdata": "AwMDAwMDAwMDAwMDAwMDAgICAgICAgICAgICAgIDAwMDAwMDAwMDBAQEBAQFBQUFBgYGBwcICAgJCgoLCwwMDQ4ODxARERITFBUWFxgaGx0eICIjJScpLC4wMjU3OTs+QEFDRUZHSElKSktLTE1OT1BRU1VXWVtdXmBiY2RkZGNiYV9cWVZSTkpFQDs3Mi4pJSEeGhcVEhAODAsJCAcGBgUEBAQDAwMDAgICAgICAQEBAQEBAQEBAQEBAQEAAAAAAAAAAAAAAAAAAAAAAAAAAAAAAAAAAAAAAAAAAAAAAAAAAAAAAAAAAA==",
          "dtype": "i1"
         }
        },
        {
         "line": {
          "color": "red"
         },
         "mode": "lines",
         "name": "Emission",
         "type": "scatter",
         "x": {
          "bdata": "CaP+H1y3gECglP9/wr+AQE2ABkDhxoBA6wX6n0fPgEBoDv+fmdeAQC/jAcDM3oBAs3/5vx7ngEBLcfofhe+AQPdcAeCj9oBAj04CQAr/gEAJo/4fXAeBQKCU/3/CD4FATYAGQOEWgUDrBfqfRx+BQGgO/5+ZJ4FAL+MBwMwugUCPTgJACjeBQOsF+p9HP4FAS3H6H4VHgUCglP9/wk+BQC/jAcDMVoFAj04CQApfgUDrBfqfR2eBQEtx+h+Fb4FAoJT/f8J3gUAv4wHAzH6BQLN/+b8eh4FAS3H6H4WPgUD3XAHgo5aBQI9OAkAKn4FACaP+H1yngUCglP9/wq+BQE2ABkDhtoFA6wX6n0e/gUBoDv+fmceBQC/jAcDMzoFAj04CQArXgUDrBfqfR9+BQEtx+h+F54FAoJT/f8LvgUAv4wHAzPaBQI9OAkAK/4FA6wX6n0cHgkBLcfofhQ+CQKCU/3/CF4JAL+MBwMwegkCzf/m/HieCQEtx+h+FL4JA91wB4KM2gkCPTgJACj+CQAmj/h9cR4JAoJT/f8JPgkBNgAZA4VaCQOsF+p9HX4JAaA7/n5lngkAv4wHAzG6CQI9OAkAKd4JA6wX6n0d/gkBLcfofhYeCQKCU/3/Cj4JAL+MBwMyWgkCPTgJACp+CQOsF+p9Hp4JAS3H6H4WvgkCglP9/wreCQC/jAcDMvoJATYAGQOHGgkCPTgJACs+CQLN/+b8e14JA6wX6n0ffgkAJo/4fXOeCQEtx+h+F74JAaA7/n5n3gkCglP9/wv+CQBX6BWC4BoNAL+MBwMwOg0CPTgJACheDQOsF+p9HH4NAS3H6H4Ung0CglP9/wi+DQC/jAcDMNoNAj04CQAo/g0DrBfqfR0eDQEtx+h+FT4NAoJT/f8JXg0Av4wHAzF6DQI9OAkAKZ4NA6wX6n0dvg0BLcfofhXeDQKCU/3/Cf4NAL+MBwMyGg0CPTgJACo+DQOsF+p9Hl4NAS3H6H4Wfg0CglP9/wqeDQC/jAcDMroNATYAGQOG2g0CPTgJACr+DQLN/+b8ex4NA6wX6n0fPg0AJo/4fXNeDQEtx+h+F34NAaA7/n5nng0CglP9/wu+DQBX6BWC49oNAL+MBwMz+g0BNgAZA4QaEQI9OAkAKD4RAs3/5vx4XhEDrBfqfRx+EQAmj/h9cJ4RAS3H6H4UvhEBoDv+fmTeEQKCU/3/CP4RAFfoFYLhGhEAv4wHAzE6EQE2ABkDhVoRA",
          "dtype": "f8"
         },
         "y": {
          "bdata": "8xWbBTYEQUAcnCV9bRhDQIA7hhZ1JkVACfai4p7HR0CpEGnBA1JKQDwBpOGZKExAl4OuCA8OT0D9F3GVetdQQBFcoq39xFFAp85CD0QXU0B+p7wBrilUQC5f8az/KFVAjESqH6cJVkBsFOuJERBXQFOtJhqjfVdAvaRQ2HPqV0As2uC5eHFYQNPBOrJX0FhAYKtbw+v/WEAAAAAAAABZQCS+EFnD4FhAAApOmiauWEAwX7/HZntYQFbM2VITFVhAjW6tNPd/V0CGMwqOAD1XQFadykiRbFZAF3h8IgceVkC54PUWr4FVQEi3LS3Zw1RA66jy+SsuVEBLpqwqiG9TQHaehpOMxFJA9wxUeHcQUkDxZlThpG9RQAWaz+Lx1VBAuVnqPoIkUEBf5VtOAu5OQKEnaqTvyE1AKXOmhveKTEDIbUbdYKRLQFk/1cfwmkpAOhohKv9HSUB15m/jwnRIQLlYhCNmXkdANHho6qBvRkBbIVBtqLVFQO0t1Nqd9URAFKPZ0gYuRECC/BIAQXVDQCsuhX/CwkJAq1PJKPgVQkBH1XalRHxBQNzQPlXnMkFAF4ZHKAy1QEDMozCRWixAQOqONpDqWD9AHFZyCjAPPkAQIH2aEgM9QDIACN8eTTxA2Uw6BhqJO0DwFCPEpZY6QFNnspNiKjpA2SSF5sDiOEAAew6Osg04QGec+qMBeTdAYhGDja90NkCvW6jVtyY2QIdpiC33NzVAvzYXt/mHNECCEGWEjogzQBm1VJdA4DJA940Ww3MzMkAJZv6SKL0xQDV65PI8yTBAL1B6SBZJMEBMsCnoHlYvQPXbfWzIPC5Aw0RycUsQLUAhs+8v8ZQrQCiSRk3shipA5Um10RxCKUA3FBKsrGooQNALBvYGGidAM4JthYsmJkBAByGrlTklQI2t7/aOnCRAz9HBdd6YI0B0tijG6JEiQByb2iaStSFAWD5C7u8eIUBJgqRMa0ogQFj2s48K5x5AjfJrPKxqHUBzc673Ki4cQCSq2liYJRtAUx93w8LhGUCmE/GDVHsYQDesegjQDhdA+TUDsmxWFkANSyl5KVgVQDJGmLTUhBRAIULQ8olrE0AJDe5GVW4SQKpNAlheARJAajeHu/IeEUAzZ2xtnocQQKvEsu1NSA9ARRA70uUSDkD1B4puvNUMQIaFG50bZAtAkfCbADQrCkARuvNEoPgIQI+USgd4RwhAAlnVXmFLB0DIcer00ogGQGMGkI5XRQVA",
          "dtype": "f8"
         }
        },
        {
         "line": {
          "color": "orange"
         },
         "mode": "lines",
         "name": "Emission theoric",
         "type": "scatter",
         "x": {
          "bdata": "9AH1AfYB9wH4AfkB+gH7AfwB/QH+Af8BAAIBAgICAwIEAgUCBgIHAggCCQIKAgsCDAINAg4CDwIQAhECEgITAhQCFQIWAhcCGAIZAhoCGwIcAh0CHgIfAiACIQIiAiMCJAIlAiYCJwIoAikCKgIrAiwCLQIuAi8CMAIxAjICMwI0AjUCNgI3AjgCOQI6AjsCPAI9Aj4CPwJAAkECQgJDAkQCRQJGAkcCSAJJAkoCSwJMAk0CTgJPAlACUQJSAlMCVAJVAlYCVwJYAlkCWgJbAlwCXQJeAl8CYAJhAmICYwJkAmUCZgJnAmgCaQJqAmsCbAJtAm4CbwJwAnECcgJzAnQCdQJ2AncCeAJ5AnoCewJ8An0CfgJ/AoACgQKCAoMChAKFAoYChwKIAokCigKLAowCjQKOAo8CkAKRApICkwKUApUClgKXApgCmQKaApsCnAKdAp4CnwKgAqECogKjAqQCpQKmAqcCqAKpAqoCqwKsAq0CrgKvArACsQKyArMCtAK1ArYCtwK4ArkCugK7ArwCvAI=",
          "dtype": "i2"
         },
         "y": {
          "bdata": "AQEBAQICAgIDAwQEBQYGBwkKDA0PERMWGBseIiUqLjI2Oz9ESU1RVVhbXl9hYmNkZGNhYF9dW1lWVFFPTElGREE+PDo4NjQyMC8tKyopKCcmJCMiIiEgHx8dHRwbGxoZGBgXFhYVFBQTEhIREA8PDg4NDQwMCwsKCgoJCQkICAgHBwcHBwYGBgYFBQUFBQUEBAQEBAQEBAQEAwMDAwMDAwMDAgICAgICAgICAgICAgICAgIBAgIBAQEBAQEBAQEBAQEBAQEBAQEBAA==",
          "dtype": "i1"
         }
        }
       ],
       "layout": {
        "font": {
         "size": 14
        },
        "legend": {
         "x": 0.1,
         "y": 0.9
        },
        "template": {
         "data": {
          "bar": [
           {
            "error_x": {
             "color": "#2a3f5f"
            },
            "error_y": {
             "color": "#2a3f5f"
            },
            "marker": {
             "line": {
              "color": "#E5ECF6",
              "width": 0.5
             },
             "pattern": {
              "fillmode": "overlay",
              "size": 10,
              "solidity": 0.2
             }
            },
            "type": "bar"
           }
          ],
          "barpolar": [
           {
            "marker": {
             "line": {
              "color": "#E5ECF6",
              "width": 0.5
             },
             "pattern": {
              "fillmode": "overlay",
              "size": 10,
              "solidity": 0.2
             }
            },
            "type": "barpolar"
           }
          ],
          "carpet": [
           {
            "aaxis": {
             "endlinecolor": "#2a3f5f",
             "gridcolor": "white",
             "linecolor": "white",
             "minorgridcolor": "white",
             "startlinecolor": "#2a3f5f"
            },
            "baxis": {
             "endlinecolor": "#2a3f5f",
             "gridcolor": "white",
             "linecolor": "white",
             "minorgridcolor": "white",
             "startlinecolor": "#2a3f5f"
            },
            "type": "carpet"
           }
          ],
          "choropleth": [
           {
            "colorbar": {
             "outlinewidth": 0,
             "ticks": ""
            },
            "type": "choropleth"
           }
          ],
          "contour": [
           {
            "colorbar": {
             "outlinewidth": 0,
             "ticks": ""
            },
            "colorscale": [
             [
              0,
              "#0d0887"
             ],
             [
              0.1111111111111111,
              "#46039f"
             ],
             [
              0.2222222222222222,
              "#7201a8"
             ],
             [
              0.3333333333333333,
              "#9c179e"
             ],
             [
              0.4444444444444444,
              "#bd3786"
             ],
             [
              0.5555555555555556,
              "#d8576b"
             ],
             [
              0.6666666666666666,
              "#ed7953"
             ],
             [
              0.7777777777777778,
              "#fb9f3a"
             ],
             [
              0.8888888888888888,
              "#fdca26"
             ],
             [
              1,
              "#f0f921"
             ]
            ],
            "type": "contour"
           }
          ],
          "contourcarpet": [
           {
            "colorbar": {
             "outlinewidth": 0,
             "ticks": ""
            },
            "type": "contourcarpet"
           }
          ],
          "heatmap": [
           {
            "colorbar": {
             "outlinewidth": 0,
             "ticks": ""
            },
            "colorscale": [
             [
              0,
              "#0d0887"
             ],
             [
              0.1111111111111111,
              "#46039f"
             ],
             [
              0.2222222222222222,
              "#7201a8"
             ],
             [
              0.3333333333333333,
              "#9c179e"
             ],
             [
              0.4444444444444444,
              "#bd3786"
             ],
             [
              0.5555555555555556,
              "#d8576b"
             ],
             [
              0.6666666666666666,
              "#ed7953"
             ],
             [
              0.7777777777777778,
              "#fb9f3a"
             ],
             [
              0.8888888888888888,
              "#fdca26"
             ],
             [
              1,
              "#f0f921"
             ]
            ],
            "type": "heatmap"
           }
          ],
          "histogram": [
           {
            "marker": {
             "pattern": {
              "fillmode": "overlay",
              "size": 10,
              "solidity": 0.2
             }
            },
            "type": "histogram"
           }
          ],
          "histogram2d": [
           {
            "colorbar": {
             "outlinewidth": 0,
             "ticks": ""
            },
            "colorscale": [
             [
              0,
              "#0d0887"
             ],
             [
              0.1111111111111111,
              "#46039f"
             ],
             [
              0.2222222222222222,
              "#7201a8"
             ],
             [
              0.3333333333333333,
              "#9c179e"
             ],
             [
              0.4444444444444444,
              "#bd3786"
             ],
             [
              0.5555555555555556,
              "#d8576b"
             ],
             [
              0.6666666666666666,
              "#ed7953"
             ],
             [
              0.7777777777777778,
              "#fb9f3a"
             ],
             [
              0.8888888888888888,
              "#fdca26"
             ],
             [
              1,
              "#f0f921"
             ]
            ],
            "type": "histogram2d"
           }
          ],
          "histogram2dcontour": [
           {
            "colorbar": {
             "outlinewidth": 0,
             "ticks": ""
            },
            "colorscale": [
             [
              0,
              "#0d0887"
             ],
             [
              0.1111111111111111,
              "#46039f"
             ],
             [
              0.2222222222222222,
              "#7201a8"
             ],
             [
              0.3333333333333333,
              "#9c179e"
             ],
             [
              0.4444444444444444,
              "#bd3786"
             ],
             [
              0.5555555555555556,
              "#d8576b"
             ],
             [
              0.6666666666666666,
              "#ed7953"
             ],
             [
              0.7777777777777778,
              "#fb9f3a"
             ],
             [
              0.8888888888888888,
              "#fdca26"
             ],
             [
              1,
              "#f0f921"
             ]
            ],
            "type": "histogram2dcontour"
           }
          ],
          "mesh3d": [
           {
            "colorbar": {
             "outlinewidth": 0,
             "ticks": ""
            },
            "type": "mesh3d"
           }
          ],
          "parcoords": [
           {
            "line": {
             "colorbar": {
              "outlinewidth": 0,
              "ticks": ""
             }
            },
            "type": "parcoords"
           }
          ],
          "pie": [
           {
            "automargin": true,
            "type": "pie"
           }
          ],
          "scatter": [
           {
            "fillpattern": {
             "fillmode": "overlay",
             "size": 10,
             "solidity": 0.2
            },
            "type": "scatter"
           }
          ],
          "scatter3d": [
           {
            "line": {
             "colorbar": {
              "outlinewidth": 0,
              "ticks": ""
             }
            },
            "marker": {
             "colorbar": {
              "outlinewidth": 0,
              "ticks": ""
             }
            },
            "type": "scatter3d"
           }
          ],
          "scattercarpet": [
           {
            "marker": {
             "colorbar": {
              "outlinewidth": 0,
              "ticks": ""
             }
            },
            "type": "scattercarpet"
           }
          ],
          "scattergeo": [
           {
            "marker": {
             "colorbar": {
              "outlinewidth": 0,
              "ticks": ""
             }
            },
            "type": "scattergeo"
           }
          ],
          "scattergl": [
           {
            "marker": {
             "colorbar": {
              "outlinewidth": 0,
              "ticks": ""
             }
            },
            "type": "scattergl"
           }
          ],
          "scattermap": [
           {
            "marker": {
             "colorbar": {
              "outlinewidth": 0,
              "ticks": ""
             }
            },
            "type": "scattermap"
           }
          ],
          "scattermapbox": [
           {
            "marker": {
             "colorbar": {
              "outlinewidth": 0,
              "ticks": ""
             }
            },
            "type": "scattermapbox"
           }
          ],
          "scatterpolar": [
           {
            "marker": {
             "colorbar": {
              "outlinewidth": 0,
              "ticks": ""
             }
            },
            "type": "scatterpolar"
           }
          ],
          "scatterpolargl": [
           {
            "marker": {
             "colorbar": {
              "outlinewidth": 0,
              "ticks": ""
             }
            },
            "type": "scatterpolargl"
           }
          ],
          "scatterternary": [
           {
            "marker": {
             "colorbar": {
              "outlinewidth": 0,
              "ticks": ""
             }
            },
            "type": "scatterternary"
           }
          ],
          "surface": [
           {
            "colorbar": {
             "outlinewidth": 0,
             "ticks": ""
            },
            "colorscale": [
             [
              0,
              "#0d0887"
             ],
             [
              0.1111111111111111,
              "#46039f"
             ],
             [
              0.2222222222222222,
              "#7201a8"
             ],
             [
              0.3333333333333333,
              "#9c179e"
             ],
             [
              0.4444444444444444,
              "#bd3786"
             ],
             [
              0.5555555555555556,
              "#d8576b"
             ],
             [
              0.6666666666666666,
              "#ed7953"
             ],
             [
              0.7777777777777778,
              "#fb9f3a"
             ],
             [
              0.8888888888888888,
              "#fdca26"
             ],
             [
              1,
              "#f0f921"
             ]
            ],
            "type": "surface"
           }
          ],
          "table": [
           {
            "cells": {
             "fill": {
              "color": "#EBF0F8"
             },
             "line": {
              "color": "white"
             }
            },
            "header": {
             "fill": {
              "color": "#C8D4E3"
             },
             "line": {
              "color": "white"
             }
            },
            "type": "table"
           }
          ]
         },
         "layout": {
          "annotationdefaults": {
           "arrowcolor": "#2a3f5f",
           "arrowhead": 0,
           "arrowwidth": 1
          },
          "autotypenumbers": "strict",
          "coloraxis": {
           "colorbar": {
            "outlinewidth": 0,
            "ticks": ""
           }
          },
          "colorscale": {
           "diverging": [
            [
             0,
             "#8e0152"
            ],
            [
             0.1,
             "#c51b7d"
            ],
            [
             0.2,
             "#de77ae"
            ],
            [
             0.3,
             "#f1b6da"
            ],
            [
             0.4,
             "#fde0ef"
            ],
            [
             0.5,
             "#f7f7f7"
            ],
            [
             0.6,
             "#e6f5d0"
            ],
            [
             0.7,
             "#b8e186"
            ],
            [
             0.8,
             "#7fbc41"
            ],
            [
             0.9,
             "#4d9221"
            ],
            [
             1,
             "#276419"
            ]
           ],
           "sequential": [
            [
             0,
             "#0d0887"
            ],
            [
             0.1111111111111111,
             "#46039f"
            ],
            [
             0.2222222222222222,
             "#7201a8"
            ],
            [
             0.3333333333333333,
             "#9c179e"
            ],
            [
             0.4444444444444444,
             "#bd3786"
            ],
            [
             0.5555555555555556,
             "#d8576b"
            ],
            [
             0.6666666666666666,
             "#ed7953"
            ],
            [
             0.7777777777777778,
             "#fb9f3a"
            ],
            [
             0.8888888888888888,
             "#fdca26"
            ],
            [
             1,
             "#f0f921"
            ]
           ],
           "sequentialminus": [
            [
             0,
             "#0d0887"
            ],
            [
             0.1111111111111111,
             "#46039f"
            ],
            [
             0.2222222222222222,
             "#7201a8"
            ],
            [
             0.3333333333333333,
             "#9c179e"
            ],
            [
             0.4444444444444444,
             "#bd3786"
            ],
            [
             0.5555555555555556,
             "#d8576b"
            ],
            [
             0.6666666666666666,
             "#ed7953"
            ],
            [
             0.7777777777777778,
             "#fb9f3a"
            ],
            [
             0.8888888888888888,
             "#fdca26"
            ],
            [
             1,
             "#f0f921"
            ]
           ]
          },
          "colorway": [
           "#636efa",
           "#EF553B",
           "#00cc96",
           "#ab63fa",
           "#FFA15A",
           "#19d3f3",
           "#FF6692",
           "#B6E880",
           "#FF97FF",
           "#FECB52"
          ],
          "font": {
           "color": "#2a3f5f"
          },
          "geo": {
           "bgcolor": "white",
           "lakecolor": "white",
           "landcolor": "#E5ECF6",
           "showlakes": true,
           "showland": true,
           "subunitcolor": "white"
          },
          "hoverlabel": {
           "align": "left"
          },
          "hovermode": "closest",
          "mapbox": {
           "style": "light"
          },
          "paper_bgcolor": "white",
          "plot_bgcolor": "#E5ECF6",
          "polar": {
           "angularaxis": {
            "gridcolor": "white",
            "linecolor": "white",
            "ticks": ""
           },
           "bgcolor": "#E5ECF6",
           "radialaxis": {
            "gridcolor": "white",
            "linecolor": "white",
            "ticks": ""
           }
          },
          "scene": {
           "xaxis": {
            "backgroundcolor": "#E5ECF6",
            "gridcolor": "white",
            "gridwidth": 2,
            "linecolor": "white",
            "showbackground": true,
            "ticks": "",
            "zerolinecolor": "white"
           },
           "yaxis": {
            "backgroundcolor": "#E5ECF6",
            "gridcolor": "white",
            "gridwidth": 2,
            "linecolor": "white",
            "showbackground": true,
            "ticks": "",
            "zerolinecolor": "white"
           },
           "zaxis": {
            "backgroundcolor": "#E5ECF6",
            "gridcolor": "white",
            "gridwidth": 2,
            "linecolor": "white",
            "showbackground": true,
            "ticks": "",
            "zerolinecolor": "white"
           }
          },
          "shapedefaults": {
           "line": {
            "color": "#2a3f5f"
           }
          },
          "ternary": {
           "aaxis": {
            "gridcolor": "white",
            "linecolor": "white",
            "ticks": ""
           },
           "baxis": {
            "gridcolor": "white",
            "linecolor": "white",
            "ticks": ""
           },
           "bgcolor": "#E5ECF6",
           "caxis": {
            "gridcolor": "white",
            "linecolor": "white",
            "ticks": ""
           }
          },
          "title": {
           "x": 0.05
          },
          "xaxis": {
           "automargin": true,
           "gridcolor": "white",
           "linecolor": "white",
           "ticks": "",
           "title": {
            "standoff": 15
           },
           "zerolinecolor": "white",
           "zerolinewidth": 2
          },
          "yaxis": {
           "automargin": true,
           "gridcolor": "white",
           "linecolor": "white",
           "ticks": "",
           "title": {
            "standoff": 15
           },
           "zerolinecolor": "white",
           "zerolinewidth": 2
          }
         }
        },
        "title": {
         "text": "Stokes Shift"
        },
        "xaxis": {
         "title": {
          "text": "Wavelength (nm)"
         }
        },
        "yaxis": {
         "title": {
          "text": "Intensity (a.u.)"
         }
        }
       }
      }
     },
     "metadata": {},
     "output_type": "display_data"
    }
   ],
   "source": [
    "ecc_lambda = data['Wavelength (nm).1'].dropna().to_numpy()\n",
    "ecc_int = data['Intensity (a.u.).1'].dropna().to_numpy()\n",
    "\n",
    "emi_lambda = data['Wavelength (nm)'].dropna().to_numpy()\n",
    "emi_int = data['Intensity (a.u.)'].dropna().to_numpy()\n",
    "\n",
    "norm_factor_exc = np.max(ecc_int)\n",
    "norm_factor_em = np.max(emi_int)\n",
    "\n",
    "fig = go.Figure()\n",
    "fig.add_trace(go.Scatter(x=ecc_lambda, y=ecc_int/norm_factor_exc *100, mode='lines', name='Excitation', line=dict(color='blue')))\n",
    "fig.add_trace(go.Scatter(x=R6G_excitation['Wavelength'], y=R6G_excitation['Relative intensity'], mode='lines', name='Excitation theoric', line=dict(color='purple')))\n",
    "fig.add_trace(go.Scatter(x=emi_lambda, y=emi_int/norm_factor_em *100, mode='lines', name='Emission', line=dict(color='red')))\n",
    "fig.add_trace(go.Scatter(x=R6G_emission['Wavelength'], y=R6G_emission['Relative intensity'], mode='lines', name='Emission theoric', line=dict(color='orange')))\n",
    "fig.update_layout(\n",
    "    title='Stokes Shift',\n",
    "    xaxis_title='Wavelength (nm)',\n",
    "    yaxis_title='Intensity (a.u.)',\n",
    "    legend=dict(x=0.1, y=0.9),\n",
    "    font=dict(size=14)\n",
    ")\n",
    "fig.show()\n"
   ]
  },
  {
   "cell_type": "code",
   "execution_count": 5,
   "metadata": {},
   "outputs": [
    {
     "data": {
      "application/vnd.plotly.v1+json": {
       "config": {
        "plotlyServerURL": "https://plot.ly"
       },
       "data": [
        {
         "mode": "lines+markers",
         "name": "Excitation",
         "type": "scatter",
         "x": {
          "bdata": "AAAAAAAAeUCzf/m/HhF5QAAAAAAAIHlAs3/5vx4xeUAAAAAAAEB5QLN/+b8eUXlAAAAAAABgeUCzf/m/HnF5QAAAAAAAgHlAs3/5vx6ReUAAAAAAAKB5QGodC8D1sHlAAg8MIFy/eUC1jgXgetB5QE2ABkDh3nlAAAAAAADweUBqHQvA9QB6QAIPDCBcD3pAtY4F4HogekBNgAZA4S56QAAAAAAAQHpAah0LwPVQekACDwwgXF96QLWOBeB6cHpATYAGQOF+ekAAAAAAAJB6QGodC8D1oHpAAg8MIFyvekC1jgXgesB6QE2ABkDhznpAAAAAAADgekCzf/m/HvF6QAAAAAAAAHtAs3/5vx4Re0AAAAAAACB7QLN/+b8eMXtAAAAAAABAe0Czf/m/HlF7QAAAAAAAYHtAs3/5vx5xe0AAAAAAAIB7QGodC8D1kHtAAg8MIFyfe0C1jgXgerB7QE2ABkDhvntAAAAAAADQe0BqHQvA9eB7QAIPDCBc73tAtY4F4HoAfEBNgAZA4Q58QAAAAAAAIHxAah0LwPUwfEACDwwgXD98QLWOBeB6UHxATYAGQOFefEAAAAAAAHB8QGodC8D1gHxAAg8MIFyPfEC1jgXgeqB8QE2ABkDhrnxAAAAAAADAfED+8PPfo9B8QJbi9D8K33xAhqsDIK7vfEB6VPzfUQB9QLN/+b8eEX1AS3H6H4UffUA7OgkAKTB9QC/jAcDMQH1A0Rz+PzNPfUAAAAAAAGB9QGodC8D1cH1AAg8MIFx/fUC1jgXgepB9QE2ABkDhnn1AAAAAAACwfUBqHQvA9cB9QAIPDCBcz31AtY4F4HrgfUBNgAZA4e59QAAAAAAAAH5Aah0LwPUQfkACDwwgXB9+QLWOBeB6MH5ATYAGQOE+fkAAAAAAAFB+QGodC8D1YH5AAg8MIFxvfkC1jgXgeoB+QE2ABkDhjn5AAAAAAACgfkD+8PPfo7B+QJbi9D8Kv35AhqsDIK7PfkB6VPzfUeB+QLN/+b8e8X5AS3H6H4X/fkA7OgkAKRB/QC/jAcDMIH9A0Rz+PzMvf0AAAAAAAEB/QP7w89+jUH9AluL0Pwpff0CGqwMgrm9/QHpU/N9RgH9As3/5vx6Rf0BLcfofhZ9/QDs6CQApsH9AL+MBwMzAf0DRHP4/M89/QAAAAAAA4H9Aah0LwPXwf0ACDwwgXP9/QGBrAIA9CIBAJkADoHAPgEAAAAAAABiAQLWOBeB6IIBAhqsDIK4ngEBgawCAPTCAQCZAA6BwN4BAAAAAAABAgEBCzvv/KEiAQJjxAGBmUIBAS3H6H4VXgECglP9/wl+AQAAAAAAAaIBAQs77/yhwgECY8QBgZniAQEtx+h+Ff4BAoJT/f8KHgEAAAAAAAJCAQHpU/N9RmIBAS3H6H4WfgEC+MQQA16eAQELO+/8osIBA2r/8X4+4gECglP9/wr+AQB6dBIAUyIBAmPEAYGbQgEBoDv+fmdeAQAAAAAAA4IBAelT831HogEBLcfofhe+AQL4xBADX94BAQs77/ygAgUDav/xfjwiBQKCU/3/CD4FAHp0EgBQYgUCY8QBgZiCBQGgO/5+ZJ4FAAAAAAAAwgUA=",
          "dtype": "f8"
         },
         "y": {
          "bdata": "FFH6351LOkD6POu/c8I5QP7cCkAnaDlAEcgEgFMAOUC39AWAbCE5QCXaAgDPODhAd4j7ny7cN0AopgNAsoo3QL+XBKA4NDdAT84OwB+/NkCUpwdgXjM2QEiREEDF1DVALjr2PwK1NUAp4fAfXjs1QNXk7/9fxjRACDnv/+O3NEDGFw4ALI80QGVa9n9pZTRAM9YGQD88NEDwtfM/8R80QBSUBcA2QzRA1XkS4A0YNEBuEBBAKBE0QN9X/t+FDzRAAuT4X7YyNECAlQng4nc0QFT8ACD+kjRAVuD5f7T3NEASbQGA51c1QARdFKAaFDZAfhzun34JN0CUu/D/uk04QIo0+X84xzlAeWz0/+RaO0ATmBRAraY8QGFTCGDamj5A3vH9P5QcQEA+BgpAzF5BQHaMCiAl2UJAJdoCAM9oREAoJPz/9tJFQApI+x/gT0dAi1v9v4emSECZVwEA+BNKQJKY+z9itktAn237P4NdTUDJ9/ffa1pPQNvmAKAOXVBANuED4EQgUUDKHvwfe69RQLRnAaBrYVJAQCn//+RDU0AU0wEgWeNTQHFyAWBjzlRAMq8CAHCWVUACpfz/k35WQLiZAoAAnldAk4ADIE+vWEAufDMgMftZQC1q5n+oxlpAwrkrYCeUW0DBe/3/7hdcQIFS/v9Jm1xACxnZ36OwXUCN1eb/1d1eQBALEGBsTmBAe4/pvz0UYUBrhxrgXeVhQMER7t8GymJA/8QSIBR/Y0Co/BDA8ntkQKk3/p9eq2VAxcX2/9aWZkD7EAoAhPlnQCIi61+IPWlAxFvn3+6iakBWjRSANUZsQPBe/787pG1ADIPo/4s8b0AyLfu/tIhwQNXQBmAjd3FAivX8H1bWckAenQSAdBt0QNopDIBHBHVATBb3H/l4dUAJo/4f7PB1QBFG/T/4fnZA2ikMgEf/dkDWdQNgl3p3QPsQCgAE9HdAudj+3+LGeEBzVvq/+Qx5QB9CAYDIMnlAFjXzP1RYeUBJNg1A+dJ5QETdByA1HnpAHPgHgKDIekAOkvQfSIh7QKTe+H/aPXxAS9sJQA2FfEDNaPUfI+V8QNEc/j8Ta31AXlz0X9F9fkCR8/4/Tht/QGgO/5/5LYBATYAGQCGXgECukAPAgjSBQDGI/r8g2oFARoIEIJmMgkAtPgXAyGSDQGgO/5/5/YNAqTf+n46BhEAfQgGAaPyEQMF7/f9+7YVA2r/8X0+XhkCNqQVAxqGHQLA1AMCmhYhArpADwEKciUCSmPs/8k2KQGO1+X+VpIpAp5IBoLoOi0B/rQEAtmOLQPum+t/rIoxAf60BAJabjEBXyAFg8USNQFfIAWAh241AdWUG4PUcjkB1ZQbgJUuOQELO+/+4241AwXv9/+5wjUBJzP0fIQCNQL4xBADXdIxABVkFIMQBjECR8/4/PnqLQKvc+p9iJ4tAivX8H5ZUikAo5f+fVJyJQPkB/t+HbohA4b3+f6d6h0BAKf//FIyGQNPB+j/3BoVAtY4F4Orug0AenQSAlOuCQHYKA+AJaoFAbf30n9Wsf0BZbf5ftat8QNMrCmCvSnpAyHn/H6eZd0Cf7wKAfit1QE678x/N8XJAMi37vxTMcEA=",
          "dtype": "f8"
         }
        },
        {
         "mode": "lines+markers",
         "name": "Emission",
         "type": "scatter",
         "x": {
          "bdata": "CaP+H1y3gECglP9/wr+AQE2ABkDhxoBA6wX6n0fPgEBoDv+fmdeAQC/jAcDM3oBAs3/5vx7ngEBLcfofhe+AQPdcAeCj9oBAj04CQAr/gEAJo/4fXAeBQKCU/3/CD4FATYAGQOEWgUDrBfqfRx+BQGgO/5+ZJ4FAL+MBwMwugUCPTgJACjeBQOsF+p9HP4FAS3H6H4VHgUCglP9/wk+BQC/jAcDMVoFAj04CQApfgUDrBfqfR2eBQEtx+h+Fb4FAoJT/f8J3gUAv4wHAzH6BQLN/+b8eh4FAS3H6H4WPgUD3XAHgo5aBQI9OAkAKn4FACaP+H1yngUCglP9/wq+BQE2ABkDhtoFA6wX6n0e/gUBoDv+fmceBQC/jAcDMzoFAj04CQArXgUDrBfqfR9+BQEtx+h+F54FAoJT/f8LvgUAv4wHAzPaBQI9OAkAK/4FA6wX6n0cHgkBLcfofhQ+CQKCU/3/CF4JAL+MBwMwegkCzf/m/HieCQEtx+h+FL4JA91wB4KM2gkCPTgJACj+CQAmj/h9cR4JAoJT/f8JPgkBNgAZA4VaCQOsF+p9HX4JAaA7/n5lngkAv4wHAzG6CQI9OAkAKd4JA6wX6n0d/gkBLcfofhYeCQKCU/3/Cj4JAL+MBwMyWgkCPTgJACp+CQOsF+p9Hp4JAS3H6H4WvgkCglP9/wreCQC/jAcDMvoJATYAGQOHGgkCPTgJACs+CQLN/+b8e14JA6wX6n0ffgkAJo/4fXOeCQEtx+h+F74JAaA7/n5n3gkCglP9/wv+CQBX6BWC4BoNAL+MBwMwOg0CPTgJACheDQOsF+p9HH4NAS3H6H4Ung0CglP9/wi+DQC/jAcDMNoNAj04CQAo/g0DrBfqfR0eDQEtx+h+FT4NAoJT/f8JXg0Av4wHAzF6DQI9OAkAKZ4NA6wX6n0dvg0BLcfofhXeDQKCU/3/Cf4NAL+MBwMyGg0CPTgJACo+DQOsF+p9Hl4NAS3H6H4Wfg0CglP9/wqeDQC/jAcDMroNATYAGQOG2g0CPTgJACr+DQLN/+b8ex4NA6wX6n0fPg0AJo/4fXNeDQEtx+h+F34NAaA7/n5nng0CglP9/wu+DQBX6BWC49oNAL+MBwMz+g0BNgAZA4QaEQI9OAkAKD4RAs3/5vx4XhEDrBfqfRx+EQAmj/h9cJ4RAS3H6H4UvhEBoDv+fmTeEQKCU/3/CP4RAFfoFYLhGhEAv4wHAzE6EQE2ABkDhVoRA",
          "dtype": "f8"
         },
         "y": {
          "bdata": "YRD9fwF/dEB8YwgADgB3QLfJ8r+meXlA/bUGAHikfEAXnwJg3LN/QKbtBKBW9YBAI4z6f+CzgkAYRP9fIEmEQEAp//80Z4VA77kCwKf+hkDBe/3/LkmIQJjxAGC2fIlAkfP+P06LikB6VPzfYceLQM7SBEBbS4xAF58CYGzOjEBVIwVgDXGNQK6QA8BS441AYRD9f6EcjkB2CgPguRyOQIFS/v8Z941A7RQGwCO6jUDRHP4/A32NQMfUAiDDAY1AUMr/PylOjEBJzP0fgf2LQKCU/39yAotAOIYA4NijikAV+gVgiOeJQDGI/r/gAolAB/4BIJhOiEAfQgGA+GiHQIr1/B8Gm4ZAeK//3x3ChUAV+gVgaACFQNZ1A2BHR4RAxS8GII9xg0DRHP4/k6CCQLnY/t8S8IFABVkFIJQwgUBOJQNAtaWAQF7GA4DZBYBAhJz3/3FzfkD0qPi/A3V9QMDWAAC7JXxAneD2XyIGe0CaAA2AIiZ6QLUk9r/SPnlA2BoAYGtOeEAzlwrg3G93QJSnB2DemHZAqTf+n77IdUA93wUAnQ91QMUvBiA/t3RA2ikMgKcfdECIUAAgAntzQG399J/14HJAc8AJ4GEackBaEvtf6XhxQDqVDABVC3FA+QH+30eVcEDpYP2fQwNwQDRo6J8ghG9A628JwH/5bUAKSPsf4PhsQNDhEGDHRWxAZS4VwDkMa0AVZBWAUK5qQE+PEmC9jmlAwyD6/8K6aEAzlwrgHIdnQBrp+19kvGZAXjAToEHsZUBu0RPgxV1lQFde8j/5N2RAg/f6/52dY0CsgfefRt9iQNOVGYDXNWJA9rcE4N+AYUBN6hVgaZxgQLMV6p+W819AAWfOn1tsXkBZ1w2A3WhdQDRo6J9g01tAvfYWIBuuWkA6/NqfsJBZQNhZ/L+N01hArpADwMKaV0BBaPtfB15WQJKY+z+iVFVABPMEgDKfVEAtPgXAOJ9TQA3V//9gnFJARgD93023UUBtf/zfsPhQQAc9/n9aWVBAIpAJAKcsT0BL2wlA7XxNQHD0CKDexUtA4uQCwMbnSkBLcfofhbVJQIzB/V/5tkhAUMr/PylkR0BgawCALTNGQGL4BGDur0VASkr23zWfREAg//Wf7+hDQB6dBID01kJAFFH6350cQkDmFgSgm11BQIM2918Af0BAM5cK4ByFP0AyGRIg2BM+QBEHAeB1Pj1AR371n9IOPEDfrvJfeyQ7QN4cEQDanjlA",
          "dtype": "f8"
         }
        }
       ],
       "layout": {
        "font": {
         "size": 14
        },
        "legend": {
         "x": 0.1,
         "y": 0.9
        },
        "template": {
         "data": {
          "bar": [
           {
            "error_x": {
             "color": "#2a3f5f"
            },
            "error_y": {
             "color": "#2a3f5f"
            },
            "marker": {
             "line": {
              "color": "#E5ECF6",
              "width": 0.5
             },
             "pattern": {
              "fillmode": "overlay",
              "size": 10,
              "solidity": 0.2
             }
            },
            "type": "bar"
           }
          ],
          "barpolar": [
           {
            "marker": {
             "line": {
              "color": "#E5ECF6",
              "width": 0.5
             },
             "pattern": {
              "fillmode": "overlay",
              "size": 10,
              "solidity": 0.2
             }
            },
            "type": "barpolar"
           }
          ],
          "carpet": [
           {
            "aaxis": {
             "endlinecolor": "#2a3f5f",
             "gridcolor": "white",
             "linecolor": "white",
             "minorgridcolor": "white",
             "startlinecolor": "#2a3f5f"
            },
            "baxis": {
             "endlinecolor": "#2a3f5f",
             "gridcolor": "white",
             "linecolor": "white",
             "minorgridcolor": "white",
             "startlinecolor": "#2a3f5f"
            },
            "type": "carpet"
           }
          ],
          "choropleth": [
           {
            "colorbar": {
             "outlinewidth": 0,
             "ticks": ""
            },
            "type": "choropleth"
           }
          ],
          "contour": [
           {
            "colorbar": {
             "outlinewidth": 0,
             "ticks": ""
            },
            "colorscale": [
             [
              0,
              "#0d0887"
             ],
             [
              0.1111111111111111,
              "#46039f"
             ],
             [
              0.2222222222222222,
              "#7201a8"
             ],
             [
              0.3333333333333333,
              "#9c179e"
             ],
             [
              0.4444444444444444,
              "#bd3786"
             ],
             [
              0.5555555555555556,
              "#d8576b"
             ],
             [
              0.6666666666666666,
              "#ed7953"
             ],
             [
              0.7777777777777778,
              "#fb9f3a"
             ],
             [
              0.8888888888888888,
              "#fdca26"
             ],
             [
              1,
              "#f0f921"
             ]
            ],
            "type": "contour"
           }
          ],
          "contourcarpet": [
           {
            "colorbar": {
             "outlinewidth": 0,
             "ticks": ""
            },
            "type": "contourcarpet"
           }
          ],
          "heatmap": [
           {
            "colorbar": {
             "outlinewidth": 0,
             "ticks": ""
            },
            "colorscale": [
             [
              0,
              "#0d0887"
             ],
             [
              0.1111111111111111,
              "#46039f"
             ],
             [
              0.2222222222222222,
              "#7201a8"
             ],
             [
              0.3333333333333333,
              "#9c179e"
             ],
             [
              0.4444444444444444,
              "#bd3786"
             ],
             [
              0.5555555555555556,
              "#d8576b"
             ],
             [
              0.6666666666666666,
              "#ed7953"
             ],
             [
              0.7777777777777778,
              "#fb9f3a"
             ],
             [
              0.8888888888888888,
              "#fdca26"
             ],
             [
              1,
              "#f0f921"
             ]
            ],
            "type": "heatmap"
           }
          ],
          "histogram": [
           {
            "marker": {
             "pattern": {
              "fillmode": "overlay",
              "size": 10,
              "solidity": 0.2
             }
            },
            "type": "histogram"
           }
          ],
          "histogram2d": [
           {
            "colorbar": {
             "outlinewidth": 0,
             "ticks": ""
            },
            "colorscale": [
             [
              0,
              "#0d0887"
             ],
             [
              0.1111111111111111,
              "#46039f"
             ],
             [
              0.2222222222222222,
              "#7201a8"
             ],
             [
              0.3333333333333333,
              "#9c179e"
             ],
             [
              0.4444444444444444,
              "#bd3786"
             ],
             [
              0.5555555555555556,
              "#d8576b"
             ],
             [
              0.6666666666666666,
              "#ed7953"
             ],
             [
              0.7777777777777778,
              "#fb9f3a"
             ],
             [
              0.8888888888888888,
              "#fdca26"
             ],
             [
              1,
              "#f0f921"
             ]
            ],
            "type": "histogram2d"
           }
          ],
          "histogram2dcontour": [
           {
            "colorbar": {
             "outlinewidth": 0,
             "ticks": ""
            },
            "colorscale": [
             [
              0,
              "#0d0887"
             ],
             [
              0.1111111111111111,
              "#46039f"
             ],
             [
              0.2222222222222222,
              "#7201a8"
             ],
             [
              0.3333333333333333,
              "#9c179e"
             ],
             [
              0.4444444444444444,
              "#bd3786"
             ],
             [
              0.5555555555555556,
              "#d8576b"
             ],
             [
              0.6666666666666666,
              "#ed7953"
             ],
             [
              0.7777777777777778,
              "#fb9f3a"
             ],
             [
              0.8888888888888888,
              "#fdca26"
             ],
             [
              1,
              "#f0f921"
             ]
            ],
            "type": "histogram2dcontour"
           }
          ],
          "mesh3d": [
           {
            "colorbar": {
             "outlinewidth": 0,
             "ticks": ""
            },
            "type": "mesh3d"
           }
          ],
          "parcoords": [
           {
            "line": {
             "colorbar": {
              "outlinewidth": 0,
              "ticks": ""
             }
            },
            "type": "parcoords"
           }
          ],
          "pie": [
           {
            "automargin": true,
            "type": "pie"
           }
          ],
          "scatter": [
           {
            "fillpattern": {
             "fillmode": "overlay",
             "size": 10,
             "solidity": 0.2
            },
            "type": "scatter"
           }
          ],
          "scatter3d": [
           {
            "line": {
             "colorbar": {
              "outlinewidth": 0,
              "ticks": ""
             }
            },
            "marker": {
             "colorbar": {
              "outlinewidth": 0,
              "ticks": ""
             }
            },
            "type": "scatter3d"
           }
          ],
          "scattercarpet": [
           {
            "marker": {
             "colorbar": {
              "outlinewidth": 0,
              "ticks": ""
             }
            },
            "type": "scattercarpet"
           }
          ],
          "scattergeo": [
           {
            "marker": {
             "colorbar": {
              "outlinewidth": 0,
              "ticks": ""
             }
            },
            "type": "scattergeo"
           }
          ],
          "scattergl": [
           {
            "marker": {
             "colorbar": {
              "outlinewidth": 0,
              "ticks": ""
             }
            },
            "type": "scattergl"
           }
          ],
          "scattermap": [
           {
            "marker": {
             "colorbar": {
              "outlinewidth": 0,
              "ticks": ""
             }
            },
            "type": "scattermap"
           }
          ],
          "scattermapbox": [
           {
            "marker": {
             "colorbar": {
              "outlinewidth": 0,
              "ticks": ""
             }
            },
            "type": "scattermapbox"
           }
          ],
          "scatterpolar": [
           {
            "marker": {
             "colorbar": {
              "outlinewidth": 0,
              "ticks": ""
             }
            },
            "type": "scatterpolar"
           }
          ],
          "scatterpolargl": [
           {
            "marker": {
             "colorbar": {
              "outlinewidth": 0,
              "ticks": ""
             }
            },
            "type": "scatterpolargl"
           }
          ],
          "scatterternary": [
           {
            "marker": {
             "colorbar": {
              "outlinewidth": 0,
              "ticks": ""
             }
            },
            "type": "scatterternary"
           }
          ],
          "surface": [
           {
            "colorbar": {
             "outlinewidth": 0,
             "ticks": ""
            },
            "colorscale": [
             [
              0,
              "#0d0887"
             ],
             [
              0.1111111111111111,
              "#46039f"
             ],
             [
              0.2222222222222222,
              "#7201a8"
             ],
             [
              0.3333333333333333,
              "#9c179e"
             ],
             [
              0.4444444444444444,
              "#bd3786"
             ],
             [
              0.5555555555555556,
              "#d8576b"
             ],
             [
              0.6666666666666666,
              "#ed7953"
             ],
             [
              0.7777777777777778,
              "#fb9f3a"
             ],
             [
              0.8888888888888888,
              "#fdca26"
             ],
             [
              1,
              "#f0f921"
             ]
            ],
            "type": "surface"
           }
          ],
          "table": [
           {
            "cells": {
             "fill": {
              "color": "#EBF0F8"
             },
             "line": {
              "color": "white"
             }
            },
            "header": {
             "fill": {
              "color": "#C8D4E3"
             },
             "line": {
              "color": "white"
             }
            },
            "type": "table"
           }
          ]
         },
         "layout": {
          "annotationdefaults": {
           "arrowcolor": "#2a3f5f",
           "arrowhead": 0,
           "arrowwidth": 1
          },
          "autotypenumbers": "strict",
          "coloraxis": {
           "colorbar": {
            "outlinewidth": 0,
            "ticks": ""
           }
          },
          "colorscale": {
           "diverging": [
            [
             0,
             "#8e0152"
            ],
            [
             0.1,
             "#c51b7d"
            ],
            [
             0.2,
             "#de77ae"
            ],
            [
             0.3,
             "#f1b6da"
            ],
            [
             0.4,
             "#fde0ef"
            ],
            [
             0.5,
             "#f7f7f7"
            ],
            [
             0.6,
             "#e6f5d0"
            ],
            [
             0.7,
             "#b8e186"
            ],
            [
             0.8,
             "#7fbc41"
            ],
            [
             0.9,
             "#4d9221"
            ],
            [
             1,
             "#276419"
            ]
           ],
           "sequential": [
            [
             0,
             "#0d0887"
            ],
            [
             0.1111111111111111,
             "#46039f"
            ],
            [
             0.2222222222222222,
             "#7201a8"
            ],
            [
             0.3333333333333333,
             "#9c179e"
            ],
            [
             0.4444444444444444,
             "#bd3786"
            ],
            [
             0.5555555555555556,
             "#d8576b"
            ],
            [
             0.6666666666666666,
             "#ed7953"
            ],
            [
             0.7777777777777778,
             "#fb9f3a"
            ],
            [
             0.8888888888888888,
             "#fdca26"
            ],
            [
             1,
             "#f0f921"
            ]
           ],
           "sequentialminus": [
            [
             0,
             "#0d0887"
            ],
            [
             0.1111111111111111,
             "#46039f"
            ],
            [
             0.2222222222222222,
             "#7201a8"
            ],
            [
             0.3333333333333333,
             "#9c179e"
            ],
            [
             0.4444444444444444,
             "#bd3786"
            ],
            [
             0.5555555555555556,
             "#d8576b"
            ],
            [
             0.6666666666666666,
             "#ed7953"
            ],
            [
             0.7777777777777778,
             "#fb9f3a"
            ],
            [
             0.8888888888888888,
             "#fdca26"
            ],
            [
             1,
             "#f0f921"
            ]
           ]
          },
          "colorway": [
           "#636efa",
           "#EF553B",
           "#00cc96",
           "#ab63fa",
           "#FFA15A",
           "#19d3f3",
           "#FF6692",
           "#B6E880",
           "#FF97FF",
           "#FECB52"
          ],
          "font": {
           "color": "#2a3f5f"
          },
          "geo": {
           "bgcolor": "white",
           "lakecolor": "white",
           "landcolor": "#E5ECF6",
           "showlakes": true,
           "showland": true,
           "subunitcolor": "white"
          },
          "hoverlabel": {
           "align": "left"
          },
          "hovermode": "closest",
          "mapbox": {
           "style": "light"
          },
          "paper_bgcolor": "white",
          "plot_bgcolor": "#E5ECF6",
          "polar": {
           "angularaxis": {
            "gridcolor": "white",
            "linecolor": "white",
            "ticks": ""
           },
           "bgcolor": "#E5ECF6",
           "radialaxis": {
            "gridcolor": "white",
            "linecolor": "white",
            "ticks": ""
           }
          },
          "scene": {
           "xaxis": {
            "backgroundcolor": "#E5ECF6",
            "gridcolor": "white",
            "gridwidth": 2,
            "linecolor": "white",
            "showbackground": true,
            "ticks": "",
            "zerolinecolor": "white"
           },
           "yaxis": {
            "backgroundcolor": "#E5ECF6",
            "gridcolor": "white",
            "gridwidth": 2,
            "linecolor": "white",
            "showbackground": true,
            "ticks": "",
            "zerolinecolor": "white"
           },
           "zaxis": {
            "backgroundcolor": "#E5ECF6",
            "gridcolor": "white",
            "gridwidth": 2,
            "linecolor": "white",
            "showbackground": true,
            "ticks": "",
            "zerolinecolor": "white"
           }
          },
          "shapedefaults": {
           "line": {
            "color": "#2a3f5f"
           }
          },
          "ternary": {
           "aaxis": {
            "gridcolor": "white",
            "linecolor": "white",
            "ticks": ""
           },
           "baxis": {
            "gridcolor": "white",
            "linecolor": "white",
            "ticks": ""
           },
           "bgcolor": "#E5ECF6",
           "caxis": {
            "gridcolor": "white",
            "linecolor": "white",
            "ticks": ""
           }
          },
          "title": {
           "x": 0.05
          },
          "xaxis": {
           "automargin": true,
           "gridcolor": "white",
           "linecolor": "white",
           "ticks": "",
           "title": {
            "standoff": 15
           },
           "zerolinecolor": "white",
           "zerolinewidth": 2
          },
          "yaxis": {
           "automargin": true,
           "gridcolor": "white",
           "linecolor": "white",
           "ticks": "",
           "title": {
            "standoff": 15
           },
           "zerolinecolor": "white",
           "zerolinewidth": 2
          }
         }
        },
        "title": {
         "text": "Stokes Shift"
        },
        "xaxis": {
         "title": {
          "text": "Wavelength (nm)"
         }
        },
        "yaxis": {
         "title": {
          "text": "Intensity (a.u.)"
         }
        }
       }
      }
     },
     "metadata": {},
     "output_type": "display_data"
    }
   ],
   "source": [
    "fig = go.Figure()\n",
    "fig.add_trace(go.Scatter(x=ecc_lambda, y=ecc_int,\n",
    "                    mode='lines+markers',\n",
    "                    name='Excitation'))\n",
    "fig.add_trace(go.Scatter(x=emi_lambda, y=emi_int,\n",
    "                    mode='lines+markers',\n",
    "                    name='Emission'))\n",
    "\n",
    "fig.update_layout(title='Stokes Shift',\n",
    "                  xaxis_title='Wavelength (nm)',\n",
    "                  yaxis_title='Intensity (a.u.)',\n",
    "                  legend=dict(x=0.1, y=0.9),\n",
    "                  font=dict(size=14))\n",
    "\n",
    "\n",
    "fig.show()"
   ]
  },
  {
   "cell_type": "markdown",
   "metadata": {},
   "source": [
    "fit parabolico nei picchi:"
   ]
  },
  {
   "cell_type": "code",
   "execution_count": 6,
   "metadata": {},
   "outputs": [],
   "source": [
    "def parabola(x, x0,y0,a): # a positivo per picchi\n",
    "    return y0 - a*(x-x0)**2"
   ]
  },
  {
   "cell_type": "code",
   "execution_count": 7,
   "metadata": {},
   "outputs": [
    {
     "name": "stdout",
     "output_type": "stream",
     "text": [
      "{'λecc': np.float64(526.7262183571453), 'y0': np.float64(962.5851001628981), 'a': np.float64(2.9899249405064463)}\n",
      "{'λemi': np.float64(553.9488401255329), 'y0': np.float64(963.4038264423648), 'a': np.float64(2.3253309574751326)}\n"
     ]
    }
   ],
   "source": [
    "max_index_ecc_int = np.argmax(ecc_int)\n",
    "max_index_emi_int = np.argmax(emi_int)\n",
    "\n",
    "d = 5\n",
    "y = ecc_int[max_index_ecc_int-d:max_index_ecc_int+d]\n",
    "x = ecc_lambda[max_index_ecc_int-d:max_index_ecc_int+d]\n",
    "guess = [ecc_lambda[max_index_ecc_int], ecc_int[max_index_ecc_int], 2]\n",
    "popt_ecc, pcov_ecc = curve_fit(parabola, x, y, p0=guess)\n",
    "error_ecc = np.sqrt(np.diag(pcov_ecc))\n",
    "res = dict(zip(['λecc', 'y0', 'a'], popt_ecc))\n",
    "print(res)\n",
    "\n",
    "y = emi_int[max_index_emi_int-d:max_index_emi_int+d]\n",
    "x = emi_lambda[max_index_emi_int-d:max_index_emi_int+d]\n",
    "guess = [emi_lambda[max_index_emi_int], emi_int[max_index_emi_int], 2]\n",
    "popt_emi, pcov_emi = curve_fit(parabola, x, y, p0=guess)\n",
    "error_emi = np.sqrt(np.diag(pcov_emi))\n",
    "res = dict(zip(['λemi', 'y0', 'a'], popt_emi))\n",
    "print(res)"
   ]
  },
  {
   "cell_type": "code",
   "execution_count": 8,
   "metadata": {},
   "outputs": [
    {
     "name": "stdout",
     "output_type": "stream",
     "text": [
      "Δλ:  27.2 ± 0.1 nm\n",
      "ΔE:  0.1157 ± 0.0005 eV\n"
     ]
    }
   ],
   "source": [
    "# STOKE SHIFT\n",
    "delta_lambda = np.abs(popt_ecc[0] - popt_emi[0])\n",
    "sigma_delta_lambda = np.sqrt(error_ecc[0]**2 + error_emi[0]**2)\n",
    "print('Δλ: ', final_val(delta_lambda, sigma_delta_lambda,1,udm='nm'))\n",
    "stokes_shift = 1240/popt_ecc[0] - 1240/popt_emi[0]\n",
    "sigma_delta_lambda = np.sqrt((1240/popt_ecc[0]**2 * error_ecc[0])**2 + (1240/popt_emi[0]**2 * error_emi[0])**2)\n",
    "print('ΔE: ', final_val(stokes_shift, sigma_delta_lambda,4,udm='eV'))"
   ]
  },
  {
   "cell_type": "code",
   "execution_count": 9,
   "metadata": {},
   "outputs": [
    {
     "data": {
      "application/vnd.plotly.v1+json": {
       "config": {
        "plotlyServerURL": "https://plot.ly"
       },
       "data": [
        {
         "mode": "lines+markers",
         "name": "Excitation",
         "type": "scatter",
         "x": {
          "bdata": "AAAAAAAAeUCzf/m/HhF5QAAAAAAAIHlAs3/5vx4xeUAAAAAAAEB5QLN/+b8eUXlAAAAAAABgeUCzf/m/HnF5QAAAAAAAgHlAs3/5vx6ReUAAAAAAAKB5QGodC8D1sHlAAg8MIFy/eUC1jgXgetB5QE2ABkDh3nlAAAAAAADweUBqHQvA9QB6QAIPDCBcD3pAtY4F4HogekBNgAZA4S56QAAAAAAAQHpAah0LwPVQekACDwwgXF96QLWOBeB6cHpATYAGQOF+ekAAAAAAAJB6QGodC8D1oHpAAg8MIFyvekC1jgXgesB6QE2ABkDhznpAAAAAAADgekCzf/m/HvF6QAAAAAAAAHtAs3/5vx4Re0AAAAAAACB7QLN/+b8eMXtAAAAAAABAe0Czf/m/HlF7QAAAAAAAYHtAs3/5vx5xe0AAAAAAAIB7QGodC8D1kHtAAg8MIFyfe0C1jgXgerB7QE2ABkDhvntAAAAAAADQe0BqHQvA9eB7QAIPDCBc73tAtY4F4HoAfEBNgAZA4Q58QAAAAAAAIHxAah0LwPUwfEACDwwgXD98QLWOBeB6UHxATYAGQOFefEAAAAAAAHB8QGodC8D1gHxAAg8MIFyPfEC1jgXgeqB8QE2ABkDhrnxAAAAAAADAfED+8PPfo9B8QJbi9D8K33xAhqsDIK7vfEB6VPzfUQB9QLN/+b8eEX1AS3H6H4UffUA7OgkAKTB9QC/jAcDMQH1A0Rz+PzNPfUAAAAAAAGB9QGodC8D1cH1AAg8MIFx/fUC1jgXgepB9QE2ABkDhnn1AAAAAAACwfUBqHQvA9cB9QAIPDCBcz31AtY4F4HrgfUBNgAZA4e59QAAAAAAAAH5Aah0LwPUQfkACDwwgXB9+QLWOBeB6MH5ATYAGQOE+fkAAAAAAAFB+QGodC8D1YH5AAg8MIFxvfkC1jgXgeoB+QE2ABkDhjn5AAAAAAACgfkD+8PPfo7B+QJbi9D8Kv35AhqsDIK7PfkB6VPzfUeB+QLN/+b8e8X5AS3H6H4X/fkA7OgkAKRB/QC/jAcDMIH9A0Rz+PzMvf0AAAAAAAEB/QP7w89+jUH9AluL0Pwpff0CGqwMgrm9/QHpU/N9RgH9As3/5vx6Rf0BLcfofhZ9/QDs6CQApsH9AL+MBwMzAf0DRHP4/M89/QAAAAAAA4H9Aah0LwPXwf0ACDwwgXP9/QGBrAIA9CIBAJkADoHAPgEAAAAAAABiAQLWOBeB6IIBAhqsDIK4ngEBgawCAPTCAQCZAA6BwN4BAAAAAAABAgEBCzvv/KEiAQJjxAGBmUIBAS3H6H4VXgECglP9/wl+AQAAAAAAAaIBAQs77/yhwgECY8QBgZniAQEtx+h+Ff4BAoJT/f8KHgEAAAAAAAJCAQHpU/N9RmIBAS3H6H4WfgEC+MQQA16eAQELO+/8osIBA2r/8X4+4gECglP9/wr+AQB6dBIAUyIBAmPEAYGbQgEBoDv+fmdeAQAAAAAAA4IBAelT831HogEBLcfofhe+AQL4xBADX94BAQs77/ygAgUDav/xfjwiBQKCU/3/CD4FAHp0EgBQYgUCY8QBgZiCBQGgO/5+ZJ4FAAAAAAAAwgUA=",
          "dtype": "f8"
         },
         "y": {
          "bdata": "FFH6351LOkD6POu/c8I5QP7cCkAnaDlAEcgEgFMAOUC39AWAbCE5QCXaAgDPODhAd4j7ny7cN0AopgNAsoo3QL+XBKA4NDdAT84OwB+/NkCUpwdgXjM2QEiREEDF1DVALjr2PwK1NUAp4fAfXjs1QNXk7/9fxjRACDnv/+O3NEDGFw4ALI80QGVa9n9pZTRAM9YGQD88NEDwtfM/8R80QBSUBcA2QzRA1XkS4A0YNEBuEBBAKBE0QN9X/t+FDzRAAuT4X7YyNECAlQng4nc0QFT8ACD+kjRAVuD5f7T3NEASbQGA51c1QARdFKAaFDZAfhzun34JN0CUu/D/uk04QIo0+X84xzlAeWz0/+RaO0ATmBRAraY8QGFTCGDamj5A3vH9P5QcQEA+BgpAzF5BQHaMCiAl2UJAJdoCAM9oREAoJPz/9tJFQApI+x/gT0dAi1v9v4emSECZVwEA+BNKQJKY+z9itktAn237P4NdTUDJ9/ffa1pPQNvmAKAOXVBANuED4EQgUUDKHvwfe69RQLRnAaBrYVJAQCn//+RDU0AU0wEgWeNTQHFyAWBjzlRAMq8CAHCWVUACpfz/k35WQLiZAoAAnldAk4ADIE+vWEAufDMgMftZQC1q5n+oxlpAwrkrYCeUW0DBe/3/7hdcQIFS/v9Jm1xACxnZ36OwXUCN1eb/1d1eQBALEGBsTmBAe4/pvz0UYUBrhxrgXeVhQMER7t8GymJA/8QSIBR/Y0Co/BDA8ntkQKk3/p9eq2VAxcX2/9aWZkD7EAoAhPlnQCIi61+IPWlAxFvn3+6iakBWjRSANUZsQPBe/787pG1ADIPo/4s8b0AyLfu/tIhwQNXQBmAjd3FAivX8H1bWckAenQSAdBt0QNopDIBHBHVATBb3H/l4dUAJo/4f7PB1QBFG/T/4fnZA2ikMgEf/dkDWdQNgl3p3QPsQCgAE9HdAudj+3+LGeEBzVvq/+Qx5QB9CAYDIMnlAFjXzP1RYeUBJNg1A+dJ5QETdByA1HnpAHPgHgKDIekAOkvQfSIh7QKTe+H/aPXxAS9sJQA2FfEDNaPUfI+V8QNEc/j8Ta31AXlz0X9F9fkCR8/4/Tht/QGgO/5/5LYBATYAGQCGXgECukAPAgjSBQDGI/r8g2oFARoIEIJmMgkAtPgXAyGSDQGgO/5/5/YNAqTf+n46BhEAfQgGAaPyEQMF7/f9+7YVA2r/8X0+XhkCNqQVAxqGHQLA1AMCmhYhArpADwEKciUCSmPs/8k2KQGO1+X+VpIpAp5IBoLoOi0B/rQEAtmOLQPum+t/rIoxAf60BAJabjEBXyAFg8USNQFfIAWAh241AdWUG4PUcjkB1ZQbgJUuOQELO+/+4241AwXv9/+5wjUBJzP0fIQCNQL4xBADXdIxABVkFIMQBjECR8/4/PnqLQKvc+p9iJ4tAivX8H5ZUikAo5f+fVJyJQPkB/t+HbohA4b3+f6d6h0BAKf//FIyGQNPB+j/3BoVAtY4F4Orug0AenQSAlOuCQHYKA+AJaoFAbf30n9Wsf0BZbf5ftat8QNMrCmCvSnpAyHn/H6eZd0Cf7wKAfit1QE678x/N8XJAMi37vxTMcEA=",
          "dtype": "f8"
         }
        },
        {
         "mode": "lines+markers",
         "name": "Emission",
         "type": "scatter",
         "x": {
          "bdata": "CaP+H1y3gECglP9/wr+AQE2ABkDhxoBA6wX6n0fPgEBoDv+fmdeAQC/jAcDM3oBAs3/5vx7ngEBLcfofhe+AQPdcAeCj9oBAj04CQAr/gEAJo/4fXAeBQKCU/3/CD4FATYAGQOEWgUDrBfqfRx+BQGgO/5+ZJ4FAL+MBwMwugUCPTgJACjeBQOsF+p9HP4FAS3H6H4VHgUCglP9/wk+BQC/jAcDMVoFAj04CQApfgUDrBfqfR2eBQEtx+h+Fb4FAoJT/f8J3gUAv4wHAzH6BQLN/+b8eh4FAS3H6H4WPgUD3XAHgo5aBQI9OAkAKn4FACaP+H1yngUCglP9/wq+BQE2ABkDhtoFA6wX6n0e/gUBoDv+fmceBQC/jAcDMzoFAj04CQArXgUDrBfqfR9+BQEtx+h+F54FAoJT/f8LvgUAv4wHAzPaBQI9OAkAK/4FA6wX6n0cHgkBLcfofhQ+CQKCU/3/CF4JAL+MBwMwegkCzf/m/HieCQEtx+h+FL4JA91wB4KM2gkCPTgJACj+CQAmj/h9cR4JAoJT/f8JPgkBNgAZA4VaCQOsF+p9HX4JAaA7/n5lngkAv4wHAzG6CQI9OAkAKd4JA6wX6n0d/gkBLcfofhYeCQKCU/3/Cj4JAL+MBwMyWgkCPTgJACp+CQOsF+p9Hp4JAS3H6H4WvgkCglP9/wreCQC/jAcDMvoJATYAGQOHGgkCPTgJACs+CQLN/+b8e14JA6wX6n0ffgkAJo/4fXOeCQEtx+h+F74JAaA7/n5n3gkCglP9/wv+CQBX6BWC4BoNAL+MBwMwOg0CPTgJACheDQOsF+p9HH4NAS3H6H4Ung0CglP9/wi+DQC/jAcDMNoNAj04CQAo/g0DrBfqfR0eDQEtx+h+FT4NAoJT/f8JXg0Av4wHAzF6DQI9OAkAKZ4NA6wX6n0dvg0BLcfofhXeDQKCU/3/Cf4NAL+MBwMyGg0CPTgJACo+DQOsF+p9Hl4NAS3H6H4Wfg0CglP9/wqeDQC/jAcDMroNATYAGQOG2g0CPTgJACr+DQLN/+b8ex4NA6wX6n0fPg0AJo/4fXNeDQEtx+h+F34NAaA7/n5nng0CglP9/wu+DQBX6BWC49oNAL+MBwMz+g0BNgAZA4QaEQI9OAkAKD4RAs3/5vx4XhEDrBfqfRx+EQAmj/h9cJ4RAS3H6H4UvhEBoDv+fmTeEQKCU/3/CP4RAFfoFYLhGhEAv4wHAzE6EQE2ABkDhVoRA",
          "dtype": "f8"
         },
         "y": {
          "bdata": "YRD9fwF/dEB8YwgADgB3QLfJ8r+meXlA/bUGAHikfEAXnwJg3LN/QKbtBKBW9YBAI4z6f+CzgkAYRP9fIEmEQEAp//80Z4VA77kCwKf+hkDBe/3/LkmIQJjxAGC2fIlAkfP+P06LikB6VPzfYceLQM7SBEBbS4xAF58CYGzOjEBVIwVgDXGNQK6QA8BS441AYRD9f6EcjkB2CgPguRyOQIFS/v8Z941A7RQGwCO6jUDRHP4/A32NQMfUAiDDAY1AUMr/PylOjEBJzP0fgf2LQKCU/39yAotAOIYA4NijikAV+gVgiOeJQDGI/r/gAolAB/4BIJhOiEAfQgGA+GiHQIr1/B8Gm4ZAeK//3x3ChUAV+gVgaACFQNZ1A2BHR4RAxS8GII9xg0DRHP4/k6CCQLnY/t8S8IFABVkFIJQwgUBOJQNAtaWAQF7GA4DZBYBAhJz3/3FzfkD0qPi/A3V9QMDWAAC7JXxAneD2XyIGe0CaAA2AIiZ6QLUk9r/SPnlA2BoAYGtOeEAzlwrg3G93QJSnB2DemHZAqTf+n77IdUA93wUAnQ91QMUvBiA/t3RA2ikMgKcfdECIUAAgAntzQG399J/14HJAc8AJ4GEackBaEvtf6XhxQDqVDABVC3FA+QH+30eVcEDpYP2fQwNwQDRo6J8ghG9A628JwH/5bUAKSPsf4PhsQNDhEGDHRWxAZS4VwDkMa0AVZBWAUK5qQE+PEmC9jmlAwyD6/8K6aEAzlwrgHIdnQBrp+19kvGZAXjAToEHsZUBu0RPgxV1lQFde8j/5N2RAg/f6/52dY0CsgfefRt9iQNOVGYDXNWJA9rcE4N+AYUBN6hVgaZxgQLMV6p+W819AAWfOn1tsXkBZ1w2A3WhdQDRo6J9g01tAvfYWIBuuWkA6/NqfsJBZQNhZ/L+N01hArpADwMKaV0BBaPtfB15WQJKY+z+iVFVABPMEgDKfVEAtPgXAOJ9TQA3V//9gnFJARgD93023UUBtf/zfsPhQQAc9/n9aWVBAIpAJAKcsT0BL2wlA7XxNQHD0CKDexUtA4uQCwMbnSkBLcfofhbVJQIzB/V/5tkhAUMr/PylkR0BgawCALTNGQGL4BGDur0VASkr23zWfREAg//Wf7+hDQB6dBID01kJAFFH6350cQkDmFgSgm11BQIM2918Af0BAM5cK4ByFP0AyGRIg2BM+QBEHAeB1Pj1AR371n9IOPEDfrvJfeyQ7QN4cEQDanjlA",
          "dtype": "f8"
         }
        },
        {
         "line": {
          "color": "blue",
          "width": 5
         },
         "mode": "lines",
         "name": "Excitation Fit",
         "type": "scatter",
         "x": {
          "bdata": "mPEAYGZQgEAu+mimelCAQMMC0eyOUIBAWQs5M6NQgEDuE6F5t1CAQIQcCcDLUIBAGSVxBuBQgECvLdlM9FCAQEU2QZMIUYBA2j6p2RxRgEBwRxEgMVGAQAVQeWZFUYBAm1jhrFlRgEAwYUnzbVGAQMZpsTmCUYBAXHIZgJZRgEDxeoHGqlGAQIeD6Qy/UYBAHIxRU9NRgECylLmZ51GAQEidIeD7UYBA3aWJJhBSgEBzrvFsJFKAQAi3WbM4UoBAnr/B+UxSgEAzyClAYVKAQMnQkYZ1UoBAX9n5zIlSgED04WETnlKAQIrqyVmyUoBAH/MxoMZSgEC1+5nm2lKAQEoEAi3vUoBA4AxqcwNTgEB2FdK5F1OAQAseOgAsU4BAoSaiRkBTgEA2LwqNVFOAQMw3ctNoU4BAYUDaGX1TgED3SEJgkVOAQI1RqqalU4BAIloS7blTgEC4YnozzlOAQE1r4nniU4BA43NKwPZTgEB5fLIGC1SAQA6FGk0fVIBApI2CkzNUgEA5lurZR1SAQM+eUiBcVIBAZKe6ZnBUgED6ryKthFSAQJC4ivOYVIBAJcHyOa1UgEC7yVqAwVSAQFDSwsbVVIBA5toqDepUgEB745JT/lSAQBHs+pkSVYBAp/Ri4CZVgEA8/comO1WAQNIFM21PVYBAZw6bs2NVgED9FgP6d1WAQJIfa0CMVYBAKCjThqBVgEC+MDvNtFWAQFM5oxPJVYBA6UELWt1VgEB+SnOg8VWAQBRT2+YFVoBAqltDLRpWgEA/ZKtzLlaAQNVsE7pCVoBAanV7AFdWgEAAfuNGa1aAQJWGS41/VoBAK4+z05NWgEDBlxsaqFaAQFagg2C8VoBA7KjrptBWgECBsVPt5FaAQBe6uzP5VoBArMIjeg1XgEBCy4vAIVeAQNjT8wY2V4BAbdxbTUpXgEAD5cOTXleAQJjtK9pyV4BALvaTIIdXgEDD/vtmm1eAQFkHZK2vV4BA7w/M88NXgECEGDQ62FeAQBohnIDsV4BArykExwBYgEBFMmwNFViAQNs61FMpWIBAcEM8mj1YgEAGTKTgUViAQJtUDCdmWIBAMV10bXpYgEDGZdyzjliAQFxuRPqiWIBA8nasQLdYgECHfxSHy1iAQB2IfM3fWIBAspDkE/RYgEBImUxaCFmAQN2htKAcWYBAc6oc5zBZgEAJs4QtRVmAQJ677HNZWYBANMRUum1ZgEDJzLwAglmAQF/VJEeWWYBA9N2MjapZgECK5vTTvlmAQCDvXBrTWYBAtffEYOdZgEBLAC2n+1mAQOAIle0PWoBAdhH9MyRagEALGmV6OFqAQKEizcBMWoBANys1B2FagEDMM51NdVqAQGI8BZSJWoBA90Rt2p1agECNTdUgslqAQCNWPWfGWoBAuF6lrdpagEBOZw307lqAQONvdToDW4BAeXjdgBdbgEAOgUXHK1uAQKSJrQ1AW4BAOpIVVFRbgEDPmn2aaFuAQGWj5eB8W4BA+qtNJ5FbgECQtLVtpVuAQCW9HbS5W4BAu8WF+s1bgEBRzu1A4luAQObWVYf2W4BAfN+9zQpcgEAR6CUUH1yAQKfwjVozXIBAPPn1oEdcgEDSAV7nW1yAQGgKxi1wXIBA/RIudIRcgECTG5a6mFyAQCgk/gCtXIBAvixmR8FcgEBUNc6N1VyAQOk9NtTpXIBAf0aeGv5cgEAUTwZhEl2AQKpXbqcmXYBAP2DW7TpdgEDVaD40T12AQGtxpnpjXYBAAHoOwXddgECWgnYHjF2AQCuL3k2gXYBAwZNGlLRdgEBWnK7ayF2AQOykFiHdXYBAgq1+Z/FdgEAXtuatBV6AQK2+TvQZXoBAQse2Oi5egEDYzx6BQl6AQG3YhsdWXoBAA+HuDWtegECZ6VZUf16AQC7yvpqTXoBAxPom4adegEBZA48nvF6AQO8L923QXoBAhRRftORegEAaHcf6+F6AQLAlL0ENX4BARS6XhyFfgEDbNv/NNV+AQHA/ZxRKX4BABkjPWl5fgECcUDehcl+AQDFZn+eGX4BAx2EHLptfgEBcam90r1+AQPJy17rDX4BAh3s/AdhfgEAdhKdH7F+AQLOMD44AYIBASJV31BRggEDend8aKWCAQHOmR2E9YIBACa+vp1FggECetxfuZWCAQDTAfzR6YIBAysjneo5ggEBf0U/BomCAQPXZtwe3YIBAiuIfTstggEAg64eU32CAQLbz79rzYIBAS/xXIQhhgEDhBMBnHGGAQHYNKK4wYYBADBaQ9ERhgEChHvg6WWGAQDcnYIFtYYBAzS/Ix4FhgEBiODAOlmGAQPhAmFSqYYBAjUkAm75hgEAjUmjh0mGAQLha0CfnYYBATmM4bvthgEDka6C0D2KAQHl0CPsjYoBAD31wQThigECkhdiHTGKAQDqOQM5gYoBAz5aoFHVigEBlnxBbiWKAQPuneKGdYoBAkLDg57FigEAmuUguxmKAQLvBsHTaYoBAUcoYu+5igEDm0oABA2OAQHzb6EcXY4BAEuRQjitjgECn7LjUP2OAQD31IBtUY4BA0v2IYWhjgEBoBvGnfGOAQP4OWe6QY4BAkxfBNKVjgEApICl7uWOAQL4okcHNY4BAVDH5B+JjgEDpOWFO9mOAQH9CyZQKZIBAFUsx2x5kgECqU5khM2SAQEBcAWhHZIBA1WRprltkgEBrbdH0b2SAQAB2OTuEZIBAln6hgZhkgEAshwnIrGSAQMGPcQ7BZIBAV5jZVNVkgEDsoEGb6WSAQIKpqeH9ZIBAF7IRKBJlgECtunluJmWAQEPD4bQ6ZYBA2MtJ+05lgEBu1LFBY2WAQAPdGYh3ZYBAmeWBzotlgEAv7ukUoGWAQMT2UVu0ZYBAWv+5ochlgEDvByLo3GWAQIUQii7xZYBAGhnydAVmgECwIVq7GWaAQEYqwgEuZoBA2zIqSEJmgEBxO5KOVmaAQAZE+tRqZoBAnExiG39mgEAxVcphk2aAQMddMqinZoBAXWaa7rtmgEDybgI10GaAQIh3anvkZoBAHYDSwfhmgECziDoIDWeAQEiRok4hZ4BA3pkKlTVngEB0onLbSWeAQAmr2iFeZ4BAn7NCaHJngEA0vKquhmeAQMrEEvWaZ4BAYM16O69ngED11eKBw2eAQIveSsjXZ4BAIOeyDuxngEC27xpVAGiAQEv4gpsUaIBA4QDr4ShogEB3CVMoPWiAQAwSu25RaIBAohojtWVogEA3I4v7eWiAQM0r80GOaIBAYjRbiKJogED4PMPOtmiAQI5FKxXLaIBAI06TW99ogEC5Vvuh82iAQE5fY+gHaYBA5GfLLhxpgEB5cDN1MGmAQA95m7tEaYBApYEDAllpgEA6imtIbWmAQNCS046BaYBAZZs71ZVpgED7o6MbqmmAQJGsC2K+aYBAJrVzqNJpgEC8vdvu5mmAQFHGQzX7aYBA586rew9qgEB81xPCI2qAQBLgewg4aoBAqOjjTkxqgEA98UuVYGqAQNP5s9t0aoBAaAIcIolqgED+CoRonWqAQJMT7K6xaoBAKRxU9cVqgEC/JLw72mqAQFQtJILuaoBA6jWMyAJrgEB/PvQOF2uAQBVHXFUra4BAqk/Emz9rgEBAWCziU2uAQNZglChoa4BAa2n8bnxrgEABcmS1kGuAQJZ6zPuka4BALIM0QrlrgEDBi5yIzWuAQFeUBM/ha4BA7ZxsFfZrgECCpdRbCmyAQBiuPKIebIBArbak6DJsgEBDvwwvR2yAQNnHdHVbbIBAbtDcu29sgEAE2UQChGyAQJnhrEiYbIBAL+oUj6xsgEDE8nzVwGyAQFr75BvVbIBA8ANNYulsgECFDLWo/WyAQBsVHe8RbYBAsB2FNSZtgEBGJu17Om2AQNsuVcJObYBAcTe9CGNtgEAHQCVPd22AQJxIjZWLbYBAMlH1259tgEDHWV0itG2AQF1ixWjIbYBA8motr9xtgECIc5X18G2AQB58/TsFboBAs4RlghlugEBJjc3ILW6AQN6VNQ9CboBAdJ6dVVZugEAKpwWcam6AQJ+vbeJ+boBANbjVKJNugEDKwD1vp26AQGDJpbW7boBA9dEN/M9ugECL2nVC5G6AQCHj3Yj4boBAtutFzwxvgEBM9K0VIW+AQOH8FVw1b4BAdwV+oklvgEAMDuboXW+AQKIWTi9yb4BAOB+2dYZvgEDNJx68mm+AQGMwhgKvb4BA+DjuSMNvgECOQVaP12+AQCNKvtXrb4BAuVImHABwgEBPW45iFHCAQORj9qgocIBAemxe7zxwgEAPdcY1UXCAQKV9LnxlcIBAO4aWwnlwgEDQjv4IjnCAQGaXZk+icIBA+5/OlbZwgECRqDbcynCAQCaxniLfcIBAvLkGafNwgEBSwm6vB3GAQOfK1vUbcYBAfdM+PDBxgEAS3KaCRHGAQKjkDslYcYBAPe12D21xgEDT9d5VgXGAQGn+RpyVcYBA/gav4qlxgECUDxcpvnGAQCkYf2/ScYBAvyDnteZxgEBUKU/8+nGAQOoxt0IPcoBAgDofiSNygEAVQ4fPN3KAQKtL7xVMcoBAQFRXXGBygEDWXL+idHKAQGxlJ+mIcoBAAW6PL51ygECXdvd1sXKAQCx/X7zFcoBAwofHAtpygEBXkC9J7nKAQO2Yl48Cc4BAg6H/1RZzgEAYqmccK3OAQK6yz2I/c4BAQ7s3qVNzgEDZw5/vZ3OAQG7MBzZ8c4BABNVvfJBzgECa3dfCpHOAQC/mPwm5c4BAxe6nT81zgEBa9w+W4XOAQPD/d9z1c4BAhQjgIgp0gEAbEUhpHnSAQLEZsK8ydIBARiIY9kZ0gEDcKoA8W3SAQHEz6IJvdIBABzxQyYN0gECcRLgPmHSAQDJNIFasdIBAyFWInMB0gEBdXvDi1HSAQPNmWCnpdIBAiG/Ab/10gEAeeCi2EXWAQLSAkPwldYBASYn4Qjp1gEDfkWCJTnWAQHSayM9idYBACqMwFnd1gECfq5hci3WAQDW0AKOfdYBAy7xo6bN1gEBgxdAvyHWAQPbNOHbcdYBAi9agvPB1gEAh3wgDBXaAQLbncEkZdoBATPDYjy12gEDi+EDWQXaAQHcBqRxWdoBADQoRY2p2gECiEnmpfnaAQDgb4e+SdoBAzSNJNqd2gEBjLLF8u3aAQPk0GcPPdoBAjj2BCeR2gEAkRulP+HaAQLlOUZYMd4BAT1e53CB3gEDlXyEjNXeAQHpoiWlJd4BAEHHxr113gECleVn2cXeAQDuCwTyGd4BA0Iopg5p3gEBmk5HJrneAQPyb+Q/Dd4BAkaRhVtd3gEAnrcmc63eAQLy1MeP/d4BAUr6ZKRR4gEDnxgFwKHiAQH3PabY8eIBAE9jR/FB4gECo4DlDZXiAQD7poYl5eIBA0/EJ0I14gEBp+nEWoniAQP4C2ly2eIBAlAtCo8p4gEAqFKrp3niAQL8cEjDzeIBAVSV6dgd5gEDqLeK8G3mAQIA2SgMweYBAFj+ySUR5gECrRxqQWHmAQEFQgtZseYBA1ljqHIF5gEBsYVJjlXmAQAFquqmpeYBAl3Ii8L15gEAte4o20nmAQMKD8nzmeYBAWIxaw/p5gEDtlMIJD3qAQIOdKlAjeoBAGKaSljd6gECurvrcS3qAQES3YiNgeoBA2b/KaXR6gEBvyDKwiHqAQATRmvaceoBAmtkCPbF6gEAv4mqDxXqAQMXq0snZeoBAW/M6EO56gEDw+6JWAnuAQIYEC50We4BAGw1z4yp7gECxFdspP3uAQEceQ3BTe4BA3Cartmd7gEByLxP9e3uAQAc4e0OQe4BAnUDjiaR7gEAySUvQuHuAQMhRsxbNe4BAXlobXeF7gEDzYoOj9XuAQIlr6+kJfIBAHnRTMB58gEC0fLt2MnyAQEmFI71GfIBA342LA1t8gEB1lvNJb3yAQAqfW5CDfIBAoKfD1pd8gEA1sCsdrHyAQMu4k2PAfIBAYMH7qdR8gED2yWPw6HyAQIzSyzb9fIBAIdszfRF9gEC345vDJX2AQEzsAwo6fYBA4vRrUE59gEB4/dOWYn2AQA0GPN12fYBAow6kI4t9gEA4Fwxqn32AQM4fdLCzfYBAYyjc9sd9gED5MEQ93H2AQI85rIPwfYBAJEIUygR+gEC6SnwQGX6AQE9T5FYtfoBA5VtMnUF+gEB6ZLTjVX6AQBBtHCpqfoBApnWEcH5+gEA7fuy2kn6AQNGGVP2mfoBAZo+8Q7t+gED8lySKz36AQJGgjNDjfoBAJ6n0Fvh+gEC9sVxdDH+AQFK6xKMgf4BA6MIs6jR/gEB9y5QwSX+AQBPU/HZdf4BAqNxkvXF/gEA+5cwDhn+AQNTtNEqaf4BAafackK5/gED//gTXwn+AQJQHbR3Xf4BAKhDVY+t/gEDAGD2q/3+AQFUhpfATgIBA6ykNNyiAgECAMnV9PICAQBY73cNQgIBAq0NFCmWAgEBBTK1QeYCAQNdUFZeNgIBAbF193aGAgEACZuUjtoCAQJduTWrKgIBALXe1sN6AgEDCfx338oCAQFiIhT0HgYBA7pDtgxuBgECDmVXKL4GAQBmivRBEgYBArqolV1iBgEBEs42dbIGAQNm79eOAgYBAb8RdKpWBgEAFzcVwqYGAQJrVLbe9gYBAMN6V/dGBgEDF5v1D5oGAQFvvZYr6gYBA8ffN0A6CgECGADYXI4KAQBwJnl03goBAsREGpEuCgEBHGm7qX4KAQNwi1jB0goBAcis+d4iCgEAINKa9nIKAQJ08DgSxgoBAM0V2SsWCgEDITd6Q2YKAQF5WRtftgoBA816uHQKDgECJZxZkFoOAQB9wfqoqg4BAtHjm8D6DgEBKgU43U4OAQN+Jtn1ng4BAdZIexHuDgEAKm4YKkIOAQKCj7lCkg4BANqxWl7iDgEDLtL7dzIOAQGG9JiThg4BA9sWOavWDgECMzvawCYSAQCLXXvcdhIBAt9/GPTKEgEBN6C6ERoSAQOLwlspahIBAePn+EG+EgEANAmdXg4SAQKMKz52XhIBAORM35KuEgEDOG58qwISAQGQkB3HUhIBA+Sxvt+iEgECPNdf9/ISAQCQ+P0QRhYBAukaniiWFgEBQTw/ROYWAQOVXdxdOhYBAe2DfXWKFgEAQaUekdoWAQKZxr+qKhYBAO3oXMZ+FgEDRgn93s4WAQGeL573HhYBA/JNPBNyFgECSnLdK8IWAQCelH5EEhoBAva2H1xiGgEBStu8dLYaAQOi+V2RBhoBAfse/qlWGgEAT0CfxaYaAQKnYjzd+hoBAPuH3fZKGgEDU6V/EpoaAQGryxwq7hoBA//ovUc+GgECVA5iX44aAQCoMAN73hoBAwBRoJAyHgEBVHdBqIIeAQOslOLE0h4BAgS6g90iHgEAWNwg+XYeAQKw/cIRxh4BAQUjYyoWHgEDXUEARmoeAQGxZqFeuh4BAAmIQnsKHgECYanjk1oeAQC1z4Crrh4BAw3tIcf+HgEBYhLC3E4iAQO6MGP4niIBAg5WARDyIgEAZnuiKUIiAQK+mUNFkiIBARK+4F3mIgEDatyBejYiAQG/AiKShiIBABcnw6rWIgECb0VgxyoiAQDDawHfeiIBAxuIovvKIgEBb65AEB4mAQPHz+EobiYBAhvxgkS+JgEAcBcnXQ4mAQLINMR5YiYBARxaZZGyJgEDdHgGrgImAQHInafGUiYBACDDRN6mJgECdODl+vYmAQDNBocTRiYBAyUkJC+aJgEBeUnFR+omAQPRa2ZcOioBAiWNB3iKKgEAfbKkkN4qAQLR0EWtLioBASn15sV+KgEDgheH3c4qAQHWOST6IioBAC5exhJyKgECgnxnLsIqAQDaogRHFioBAzLDpV9mKgEBhuVGe7YqAQPfBueQBi4BAjMohKxaLgEAi04lxKouAQLfb8bc+i4BATeRZ/lKLgEDj7MFEZ4uAQHj1KYt7i4BADv6R0Y+LgECjBvoXpIuAQDkPYl64i4BAzhfKpMyLgEBkIDLr4IuAQPoomjH1i4BAjzECeAmMgEAlOmq+HYyAQLpC0gQyjIBAUEs6S0aMgEDlU6KRWoyAQHtcCthujIBAEWVyHoOMgECmbdpkl4yAQDx2QqurjIBA0X6q8b+MgEBnhxI41IyAQP2Pen7ojIBAkpjixPyMgEAooUoLEY2AQL2pslEljYBAU7IamDmNgEDouoLeTY2AQH7D6iRijYBAFMxSa3aNgECp1Lqxio2AQD/dIviejYBA1OWKPrONgEBq7vKEx42AQP/2WsvbjYBAlf/CEfCNgEArCCtYBI6AQMAQk54YjoBAVhn75CyOgEDrIWMrQY6AQIEqy3FVjoBAFjMzuGmOgECsO5v+fY6AQEJEA0WSjoBA10xri6aOgEBtVdPRuo6AQAJeOxjPjoBAmGajXuOOgEAubwul946AQMN3c+sLj4BAWYDbMSCPgEDuiEN4NI+AQISRq75Ij4BAGZoTBV2PgECvontLcY+AQEWr45GFj4BA2rNL2JmPgEBwvLMero+AQAXFG2XCj4BAm82Dq9aPgEAw1uvx6o+AQMbeUzj/j4BAXOe7fhOQgEDx7yPFJ5CAQIf4iws8kIBAHAH0UVCQgECyCVyYZJCAQEcSxN54kIBA3RosJY2QgEBzI5RroZCAQAgs/LG1kIBAnjRk+MmQgEAzPcw+3pCAQMlFNIXykIBAXk6cywaRgED0VgQSG5GAQIpfbFgvkYBAH2jUnkORgEC1cDzlV5GAQEp5pCtskYBA4IEMcoCRgEB2inS4lJGAQAuT3P6okYBAoZtERb2RgEA2pKyL0ZGAQMysFNLlkYBAYbV8GPqRgED3veReDpKAQI3GTKUikoBAIs+06zaSgEC41xwyS5KAQE3ghHhfkoBA4+jsvnOSgEB48VQFiJKAQA76vEuckoBApAIlkrCSgEA5C43YxJKAQM8T9R7ZkoBAZBxdZe2SgED6JMWrAZOAQI8tLfIVk4BAJTaVOCqTgEC7Pv1+PpOAQFBHZcVSk4BA5k/NC2eTgEB7WDVSe5OAQBFhnZiPk4BAp2kF36OTgEA8cm0luJOAQNJ61WvMk4BAZ4M9suCTgED9i6X49JOAQJKUDT8JlIBAKJ11hR2UgEC+pd3LMZSAQFOuRRJGlIBA6batWFqUgEB+vxWfbpSAQBTIfeWClIBAqdDlK5eUgEA/2U1yq5SAQNXhtbi/lIBAauod/9OUgEAA84VF6JSAQJX77Yv8lIBAKwRW0hCVgEDADL4YJZWAQFYVJl85lYBA7B2OpU2VgECBJvbrYZWAQBcvXjJ2lYBArDfGeIqVgEBCQC6/npWAQNhIlgWzlYBAbVH+S8eVgEADWmaS25WAQJhiztjvlYBALms2HwSWgEDDc55lGJaAQFl8BqwsloBA74Ru8kCWgECEjdY4VZaAQBqWPn9ploBAr56mxX2WgEBFpw4MkpaAQNqvdlKmloBAcLjemLqWgEAGwUbfzpaAQJvJriXjloBAMdIWbPeWgEDG2n6yC5eAQFzj5vgfl4BA8etOPzSXgECH9LaFSJeAQB39Hsxcl4BAsgWHEnGXgEBIDu9YhZeAQN0WV5+Zl4BAcx+/5a2XgEAIKCcswpeAQJ4wj3LWl4BANDn3uOqXgEDJQV///peAQF9Kx0UTmIBA9FIvjCeYgECKW5fSO5iAQCBk/xhQmIBAtWxnX2SYgEBLdc+leJiAQOB9N+yMmIBAdoafMqGYgEALjwd5tZiAQKGXb7/JmIBAN6DXBd6YgEDMqD9M8piAQGKxp5IGmYBA97kP2RqZgECNwncfL5mAQCLL32VDmYBAuNNHrFeZgEBO3K/ya5mAQOPkFzmAmYBAee1/f5SZgEAO9ufFqJmAQKT+Twy9mYBAOge4UtGZgEDPDyCZ5ZmAQGUYiN/5mYBA+iDwJQ6agECQKVhsIpqAQCUywLI2moBAuzoo+UqagEBRQ5A/X5qAQOZL+IVzmoBAfFRgzIeagEARXcgSnJqAQKdlMFmwmoBAPG6Yn8SagEDSdgDm2JqAQGh/aCztmoBA/YfQcgGbgECTkDi5FZuAQCiZoP8pm4BAvqEIRj6bgEBTqnCMUpuAQOmy2NJmm4BAf7tAGXubgEAUxKhfj5uAQKrMEKajm4BAP9V47LebgEDV3eAyzJuAQGrmSHngm4BAAO+wv/SbgECW9xgGCZyAQCsAgUwdnIBAwQjpkjGcgEBWEVHZRZyAQOwZuR9anIBAgiIhZm6cgEAXK4msgpyAQK0z8fKWnIBAQjxZOaucgEDYRMF/v5yAQG1NKcbTnIBAA1aRDOicgECZXvlS/JyAQC5nYZkQnYBAxG/J3ySdgEBZeDEmOZ2AQO+AmWxNnYBAhIkBs2GdgEAakmn5dZ2AQLCa0T+KnYBARaM5hp6dgEDbq6HMsp2AQHC0CRPHnYBABr1xWdudgECbxdmf752AQDHOQeYDnoBAx9apLBiegEBc3xFzLJ6AQPLneblAnoBAh/Dh/1SegEAd+UlGaZ6AQLMBsox9noBASAoa05GegEDeEoIZpp6AQHMb6l+6noBACSRSps6egECeLLrs4p6AQDQ1IjP3noBAyj2KeQufgEBfRvK/H5+AQPVOWgY0n4BAilfCTEifgEAgYCqTXJ+AQLVoktlwn4BAS3H6H4WfgEA=",
          "dtype": "f8"
         },
         "y": {
          "bdata": "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",
          "dtype": "f8"
         }
        },
        {
         "line": {
          "color": "red",
          "width": 5
         },
         "mode": "lines",
         "name": "Emission Fit",
         "type": "scatter",
         "x": {
          "bdata": "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",
          "dtype": "f8"
         },
         "y": {
          "bdata": "q7oF52FKjEBYNqD3PkyMQDeh7xIbToxAGvvzOPZPjEAuRK1p0FGMQEZ8G6WpU4xAkKM+64FVjEDeuRY8WVeMQEe/o5cvWYxA4bPl/QRbjEB/l9xu2VyMQE9qiOqsXoxAIyzpcH9gjEAS3f4BUWKMQDJ9yZ0hZIxAVgxJRPFljECrin31v2eMQAX4ZrGNaYxAkFQFeFprjEAfoFhJJm2MQMraYCXxboxApQQeDLtwjECFHZD9g3KMQJUlt/lLdIxAqhyTABN2jEDxAiQS2XeMQDzYaS6eeYxAoZxkVWJ7jEA4UBSHJX2MQNPyeMPnfoxAn4SSCqmAjEBwBWFcaYKMQFx15LgohIxAeNQcIOeFjECZIgqSpIeMQOtfrA5hiYxAQYwDlhyLjEDJpw8o14yMQFWy0MSQjoxA/KtGbEmQjEDUlHEeAZKMQLBsUdu3k4xAvTPmom2VjEDQ6S91IpeMQP2OLlLWmIxAWiPiOYmajEC9pkosO5yMQE8ZaCnsnYxA6Ho6MZyfjECwy8FDS6GMQH4L/mD5ooxAZjrviKakjEB/WJW7UqaMQJ1l8Pj9p4xA62EAQaipjEA/TcWTUauMQMInP/H5rIxATPFtWaGujEDwqVHMR7CMQMRR6kntsYxAneg30pGzjECmbjplNbWMQLbj8QLYtoxA4Edeq3m4jEA6m39eGrqMQJndVRy6u4xAKA/h5Fi9jEC9LyG49r6MQII/FpaTwIxATT7Afi/CjEAzLB9yysOMQEcJM3BkxYxAYtX7eP3GjECskHmMlciMQP06rKosyoxAfdST08LLjEADXTAHWM2MQKXUgUXszoxAdDuIjn/QjEBLkUPiEdKMQFHWs0Cj04xAXQrZqTPVjECELbMdw9aMQNo/QpxR2IxAN0GGJd/ZjEDCMX+5a9uMQFQRLVj33IxAFeCPAYLejEDdnae1C+CMQMBKdHSU4YxA0Ob1PRzjjEDpcSwSo+SMQC/sF/Eo5oxAfVW42q3njED5rQ3PMemMQHz1F8606oxAGyzX1zbsjEDmUUvst+2MQLpmdAs474xAvGpSNbfwjEDGXeVpNfKMQOo/Lamy84xAPBEq8y71jECV0dtHqvaMQB2BQqck+IxArB9eEZ75jEBprS6GFvuMQC4qtAWO/IxADpbujwT+jEAb8d0kev+MQDA7gsTuAI1AcnTbbmICjUC+nOkj1QONQDW0rONGBY1AtrokrrcGjUBSsFGDJwiNQBqVM2OWCY1A62jKTQQLjUDoKxZDcQyNQO/dFkPdDY1AEH/MTUgPjUBeDzdjshCNQLWOVoMbEo1AOP0qroMTjUDFWrTj6hSNQH6n8iNRFo1AQOPlbrYXjUAdDo7EGhmNQCYo6yR+Go1AODH9j+AbjUB3KcQFQh2NQL8QQIaiHo1AIudwEQIgjUCxrFanYCGNQElh8Ue+Io1ADgVB8xokjUDcl0WpdiWNQNYZ/2nRJo1A2YptNSsojUD46pALhCmNQEI6aezbKo1Alnj21zIsjUAVpjjOiC2NQJ/CL8/dLo1AVM7b2jEwjUATyTzxhDGNQO2yUhLXMo1A8osdPig0jUACVJ10eDWNQD0L0rXHNo1AgrG7ARY4jUDiRlpYYzmNQG3LrbmvOo1AAj+2Jfs7jUDDoXOcRT2NQI7z5R2PPo1AhDQNqtc/jUCFZOlAH0GNQKCDeuJlQo1A5pHAjqtDjUA3j7tF8ESNQLN7awc0Ro1AOlfQ03ZHjUDrIeqquEiNQKfbuIz5SY1AfoQ8eTlLjUCAHHVweEyNQIyjYnK2TY1AwxkFf/NOjUAGf1yWL1CNQGPTaLhqUY1A6hYq5aRSjUB8SaAc3lONQDlry14WVY1AAXyrq01WjUDze0ADhFeNQPFqimW5WI1ACkmJ0u1ZjUBMFj1KIVuNQJrSpcxTXI1AEn7DWYVdjUCWGJbxtV6NQEOiHZTlX41A/RpaQRRhjUDRgkv5QWKNQM7Z8btuY41A2B9NiZpkjUALVV1hxWWNQEp5IkTvZo1ApIycMRhojUAoj8spQGmNQLeAryxnao1AcGFIOo1rjUA2MZZSsmyNQCTwmHXWbY1AH55Qo/lujUA0O73bG3CNQHPH3h49cY1AvkK1bF1yjUAyrUDFfHONQLMGgSibdI1AXE92lrh1jUAThyAP1XaNQOStf5Lwd41A3sOTIAt5jUDlyFy5JHqNQBS92lw9e41AUKANC1V8jUCncvXDa32NQCc0koeBfo1AtOTjVZZ/jUBphOouqoCNQCsTphK9gY1AFZEWAc+CjUAN/jv634ONQCBaFv7vhI1AW6WlDP+FjUCj3+klDYeNQBMJ40kaiI1AkSGReCaJjUAqKfSxMYqNQOofDPY7i41AuAXZREWMjUCu2lqeTY2NQLKekQJVjo1A3lF9cVuPjUAX9B3rYJCNQGuFc29lkY1A5wV+/miSjUBxdT2Ya5ONQCLUsTxtlI1A4SHb622VjUDIXrmlbZaNQL2KTGpsl41AzaWUOWqYjUAEsJETZ5mNQEmpQ/himo1AtZGq512bjUAwacbhV5yNQMYvl+ZQnY1Ag+Uc9kiejUBOilcQQJ+NQEAeRzU2oI1AQaHrZCuhjUBoE0WfH6KNQJ90U+QSo41A8MQWNAWkjUBoBI+O9qSNQO8yvPPmpY1AnFCeY9amjUBZXTXexKeNQDxZgWOyqI1ALkSC856pjUA6HjiOiqqNQG3nojN1q41AsJ/C416sjUAYR5eeR62NQJDdIGQvro1AI2NfNBavjUDc11IP/K+NQKQ7+/TgsI1Ak45Y5cSxjUCR0Grgp7KNQLQBMuaJs41A6CGu9mq0jUA2Md8RS7WNQKovxTcqto1ALh1gaAi3jUDY+a+j5beNQJHFtOnBuI1AcIBuOp25jUBfKt2Vd7qNQGnDAPxQu41AmEvZbCm8jUDYwmboAL2NQD0pqW7XvY1Asn6g/6y+jUBCw0ybgb+NQPb2rUFVwI1AvBnE8ifBjUCmK4+u+cGNQKEsD3XKwo1AwRxERprDjUDy+y0iacSNQD3KzAg3xY1Arocg+gPGjUAvNCn2z8aNQNTP5vyax41Ai1pZDmXIjUBm1IAqLsmNQFI9XVH2yY1AWZXugr3KjUCE3DS/g8uNQMESMAZJzI1AIjjgVw3NjUCUTEW00M2NQCFQXxuTzo1A0kIujVTPjUCVJLIJFdCNQHv16pDU0I1Ac7XYIpPRjUCPZHu/UNKNQL0C02YN041ABZDfGMnTjUByDKHVg9SNQPB3F5091Y1AktJCb/bVjUBFHCNMrtaNQBRVuDNl141ABn0CJhvYjUAKlAEj0NiNQDGatSqE2Y1Aa48ePTfajUDIczxa6dqNQDdHD4Ka241AwQmXtErcjUBvu9Px+dyNQC5cxTmo3Y1AEexrjFXejUAGa8fpAd+NQB7Z11Gt341ASTadxFfgjUCPghdCAeGNQPe9Rsqp4Y1AcugqXVHijUAQAsT69+KNQMEKEqOd441AjAIVVkLkjUB76cwT5uSNQHy/OdyI5Y1AoIRbryrmjUDWODKNy+aNQC/cvXVr541AnG7+aArojUAj8PNmqOiNQMxgnm9F6Y1AicD9guHpjUBoDxKhfOqNQFpN28kW641AbnpZ/a/rjUCWlow7SOyNQNmhdITf7I1APpwR2HXtjUC2hWM2C+6NQFBeap+f7o1A/iUmEzPvjUDG3JaRxe+NQLGCvBpX8I1ArxeXrufwjUDPmyZNd/GNQAIPa/YF8o1AWHFkqpPyjUDBwhJpIPONQEUDdjKs841A6zKOBjf0jUClUVvlwPSNQIBf3c5J9Y1Ab1wUw9H1jUCASADCWPaNQKQjocve9o1A5O3232P3jUBFpwH/5/eNQLpPwShr+I1AUec1Xe34jUD7bV+cbvmNQMHjPebu+Y1AqEjROm76jUCjnBma7PqNQL/fFgRq+41A8BHJeOb7jUBBMzD4YfyNQKhDTILc/I1AKUMdF1b9jUDLMaO2zv2NQIEP3mBG/o1AWdzNFb3+jUBFmHLVMv+NQExDzJ+n/41AdN3adBsAjkCwZp5UjgCOQA3fFj8AAY5AgEZENHEBjkASnSY04QGOQLrivT5QAo5AfRcKVL4CjkBgOwt0KwOOQFhOwZ6XA45AcFAs1AIEjkCeQUwUbQSOQOwhIV/WBI5AT/GqtD4FjkDNr+kUpgWOQGtd3X8MBo5AH/qF9XEGjkDzheN11gaOQNwA9gA6B45A4Gq9lpwHjkAExDk3/geOQD4Ma+JeCI5Al0NRmL4IjkAGauxYHQmOQJV/PCR7CY5AOoRB+tcJjkD6d/vaMwqOQNlaasaOCo5AziyOvOgKjkDi7Wa9QQuOQA2e9MiZC45AVz033/ALjkC4yy4ARwyOQDNJ2yucDI5AzbU8YvAMjkB+EVOjQw2OQE5cHu+VDY5ANJaeRecNjkA1v9OmNw6OQFXXvRKHDo5AjN5cidUOjkDi1LAKIw+OQE66uZZvD45A2Y53LbsPjkB7UurOBRCOQDgFEntPEI5AE6fuMZgQjkAFOIDz3xCOQBa4xr8mEY5APifClmwRjkCEhXJ4sRGOQOHS12T1EY5AWg/yWzgSjkDwOsFdehKOQJ5VRWq7Eo5Aal9+gfsSjkBNWGyjOhOOQExAD9B4E45AaBdnB7YTjkCc3XNJ8hOOQO2SNZYtFI5AVzes7WcUjkDeytdPoRSOQH1NuLzZFI5AN79NNBEVjkAOIJi2RxWOQP1vl0N9FY5ACq9L27EVjkAv3bR95RWOQHH60ioYFo5AzAam4kkWjkBBAi6lehaOQNTsanKqFo5Af8ZcStkWjkBHjwMtBxeOQChHXxo0F45AI+5vEmAXjkA7hDUVixeOQGwJsCK1F45Aun3fOt4XjkAg4cNdBhiOQKQzXYstGI5AQHWrw1MYjkD3pa4GeRiOQMrFZlSdGI5At9TTrMAYjkDA0vUP4xiOQOK/zH0EGY5AIJxY9iQZjkB4Z5l5RBmOQOohjwdjGY5Aecs5oIAZjkAhZJlDnRmOQOXrrfG4GY5Aw2J3qtMZjkC7yPVt7RmOQNAdKTwGGo5A/mERFR4ajkBIla74NBqOQKu3AOdKGo5AK8kH4F8ajkDEycPjcxqOQHi5NPKGGo5AR5haC5kajkAxZjUvqhqOQDYjxV26Go5AVc8Jl8kajkCPagPb1xqOQOX0sSnlGo5AVG4Vg/EajkDf1i3n/BqOQIQu+1UHG45ARHV9zxAbjkAfq7RTGRuOQBXQoOIgG45AJeRBfCcbjkBQ55cgLRuOQJbZos8xG45A97piiTUbjkBzi9dNOBuOQAlLAR06G45Auvnf9jobjkCGl3PbOhuOQGwkvMo5G45AbqC5xDcbjkCKC2zJNBuOQMFl09gwG45AEq/v8isbjkB/58AXJhuOQAYPR0cfG45AqCWCgRcbjkBlK3LGDhuOQDwgFxYFG45ALwRxcPoajkA813/V7hqOQGSZQ0XiGo5Apkq8v9QajkAE6+lExhqOQHx6zNS2Go5AD/ljb6YajkC9ZrAUlRqOQIXDscSCGo5AaQ9of28ajkBmStNEWxqOQH908xRGGo5AtI3I7y8ajkABllLVGBqOQGuNkcUAGo5A7nOFwOcZjkCNSS7GzRmOQEYOjNayGY5AG8Ke8ZYZjkAKZWYXehmOQBP34kdcGY5AOXgUgz0ZjkB36PrIHRmOQNJHlhn9GI5ARpbmdNsYjkDW0+vauBiOQIEApkuVGI5ARRwVx3AYjkAmJzlNSxiOQCAhEt4kGI5ANgqgef0XjkBn4uIf1ReOQLGp2tCrF45AGGCHjIEXjkCXBelSVheOQDSa/yMqF45A6B3L//wWjkC6kEvmzhaOQKfygNefFo5ArENr028WjkDOgwraPhaOQAmzXusMFo5AYdFnB9oVjkDT3iUuphWOQF7bmF9xFY5AB8fAmzsVjkDHoZ3iBBWOQKVrLzTNFI5AmiR2kJQUjkCuzHH3WhSOQNxjImkgFI5AIuqH5eQTjkCGX6JsqBOOQAHEcf5qE45Amxf2miwTjkBMWi9C7RKOQBuMHfSsEo5ABa3AsGsSjkAGvRh4KRKOQCW8JUrmEY5AXKrnJqIRjkCxh14OXRGOQCBUigAXEY5AqA9r/c8QjkBNugAFiBCOQAlUSxc/EI5A5NxKNPUPjkDWVP9bqg+OQOe7aI5eD45AEhKHyxEPjkBUV1oTxA6OQLWL4mV1Do5ALa8fwyUOjkDDwREr1Q2OQHDDuJ2DDY5APLQUGzENjkAjlCWj3QyOQCFj6zWJDI5APSFm0zMMjkBwzpV73QuOQMJqei6GC45AL/YT7C0LjkCycGK01AqOQFTaZYd6Co5ADTMeZR8KjkDleotNwwmOQNOxrUBmCY5A4NeEPggJjkAJ7RBHqQiOQEfxUVpJCI5ApeRHeOgHjkAZx/KghgeOQKyYUtQjB45AVllnEsAGjkAfCTFbWwaOQAOor671BY5A/DXjDI8FjkAWs8t1JwWOQEUfaem+BI5AlHq7Z1UEjkD+xMLw6gOOQH3+foR/A45AHSfwIhMDjkDRPhbMpQKOQKZF8X83Ao5AkTuBPsgBjkCbIMYHWAGOQMH0v9vmAI5A+7duunQAjkBWatKjAQCOQMYL65eN/41AV5y4lhj/jUD8Gzugov6NQMOKcrQr/o1Ao+he07P9jUCZNQD9Ov2NQLBxVjHB/I1A25xhcEb8jUAntyG6yvuNQI7Alg5O+41ACrnAbdD6jUCmoJ/XUfqNQFd3M0zS+Y1AKT18y1H5jUAQ8nlV0PiNQBeWLOpN+I1AOimUicr3jUBwq7AzRveNQMgcgujA9o1ANX0IqDr2jUDCzENys/WNQGsLNEcr9Y1AJznZJqL0jUAFVjMRGPSNQPdhQgaN841AC10GBgHzjUAyR38QdPKNQHsgrSXm8Y1A3+iPRVfxjUBXoCdwx/CNQPFGdKU28I1Antx15aTvjUBtYSwwEu+NQFDVl4V+7o1AVDi45entjUB0io1QVO2NQKfLF8a97I1A/PtWRibsjUBkG0vRjeuNQO8p9Gb06o1AlCdSB1rqjUBNFGWyvumNQCjwLGgi6Y1AFrupKIXojUAnddvz5ueNQEoewslH541AkbZdqqfmjUDyPa6VBuaNQGW0s4tk5Y1A/BlujMHkjUClbt2XHeSNQHKyAa54441AUOXaztLijUBSB2n6K+KNQG8YrDCE4Y1AnhikcdvgjUDwB1G9MeCNQFXmshOH341A3LPJdNvejUB/cJXgLt6NQDQcFleB3Y1ADLdL2NLcjUD2QDZkI9yNQAS61fpy241AJCIqnMHajUBneTNID9qNQMW/8f5b2Y1ANfVkwKfYjUDJGY2M8teNQG4tamM8141ANzD8RIXWjUASIkMxzdWNQBEDPygU1Y1AK9PvKVrUjUBWklU2n9ONQKVAcE3j0o1ABt4/bybSjUCLasSbaNGNQCrm/dKp0I1A3FDsFOrPjUCxqo9hKc+NQJfz57hnzo1Aoiv1GqXNjUC+UreH4cyNQP5oLv8czI1AWW5agVfLjUDGYjsOkcqNQFZG0aXJyY1A+BgcSAHJjUC+2hv1N8iNQJ+L0Kxtx41AkSs6b6LGjUCoulg81sWNQNA4LBQJxY1AHKa09jrEjUB5AvLja8ONQPtN5Nubwo1Al4iL3srBjUBEsufr+MCNQBfL+AMmwI1A+dK+JlK/jUAByjlUfb6NQBmwaYynvY1AV4VOz9C8jUCvSegc+buNQBf9NnUgu41ApZ862Ea6jUBDMfNFbLmNQAayYL6QuI1A5CGDQbS3jUDTgFrP1raNQObO5mf4tY1ACgwoCxm1jUBTOB65OLSNQKxTyXFXs41AK14pNXWyjUDFVz4DkrGNQG5ACNytsI1APhiHv8ivjUAc37qt4q6NQCGVo6b7rY1ANjpBqhOtjUBwzpO4KqyNQMVRm9FAq41AKsRX9VWqjUC1JckjaqmNQE9271x9qI1AD7bKoI+njUDq5FrvoKaNQNUCoEixpY1A5g+arMCkjUAFDEkbz6ONQEz3rJTcoo1AodHFGOmhjUAdm5On9KCNQLRTFkH/n41AWftN5QifjUAmkjqUEZ6NQAEY3E0ZnY1AA40yEiCcjUAT8T3hJZuNQEtE/roqmo1AnYZzny6ZjUD+t52OMZiNQIbYfIgzl41AHOgQjTSWjUDZ5lmcNJWNQLLUV7YzlI1AmLEK2zGTjUCmfXIKL5KNQMI4j0QrkY1ABeNgiSaQjUBXfOfYII+NQNAEIzMajo1AZHwTmBKNjUAF47gHCoyNQM84E4IAi41Apn0iB/aJjUClseaW6oiNQLLUXzHeh41A5uaN1tCGjUA16HCGwoWNQJLYCEGzhI1AF7hVBqODjUCqhlfWkYKNQGREDrF/gY1AOvF5lmyAjUAcjZqGWH+NQCcYcIFDfo1AP5L6hi19jUCA+zmXFnyNQM5TLrL+eo1ARJvX1+V5jUDU0TUIzHiNQHL3SEOxd41AOQwRiZV2jUAMEI7ZeHWNQAgDwDRbdI1AEeWmmjxzjUBDtkILHXKNQI92k4b8cI1A6CWZDNtvjUBqxFOduG6NQPlRwziVbY1AsM7n3nBsjUCDOsGPS2uNQGKVT0slao1Aat+SEf5ojUB+GIvi1WeNQLxAOL6sZo1ABViapIJljUB4XrGVV2SNQAZUfZErY41AoDj+l/5hjUBkDDSp0GCNQDTPHsWhX41ALYG+63FejUBAIhMdQV2NQGCyHFkPXI1AqjHbn9xajUD/n07xqFmNQH79dk10WI1ACUpUtD5XjUC+heYlCFaNQI2wLaLQVI1AaMopKZhTjUBt09q6XlKNQH7LQFckUY1AuLJb/uhPjUD+iCuwrE6NQG5OsGxvTY1A+QLqMzFMjUCQptgF8kqNQFA5fOKxSY1AHLvUyXBIjUASLOK7LkeNQCOMpLjrRY1AP9sbwKdEjUCGGUjSYkONQNdGKe8cQo1AU2O/FtZAjUDabgpJjj+NQIxpCoZFPo1AWFO/zfs8jUAwLCkgsTuNQDL0R31lOo1APqsb5Rg5jUB2UaRXyzeNQLjm4dR8No1AJWvUXC01jUCt3nvv3DONQEBB2IyLMo1A/ZLpNDkxjUDF06/n5S+NQLkDK6WRLo1AxyJbbTwtjUDfMEBA5iuNQCIu2h2PKo1AcBopBjcpjUDp9Sz53SeNQGzA5faDJo1AG3pT/ygljUDlInYSzSONQLi6TTBwIo1At0HaWBIhjUDAtxuMsx+NQPUcEspTHo1AM3G9EvMcjUCdtB1mkRuNQCLnMsQuGo1AsQj9LMsYjUBsGXygZheNQDAZsB4BFo1AIAiZp5oUjUAr5jY7MxONQECzidnKEY1AgG+RgmEQjUDKGk429w6NQEC1v/SLDY1AwD7mvR8MjUBrt8GRsgqNQDIfUnBECY1AAnaXWdUHjUD+u5FNZQaNQAPxQEz0BI1ANBWlVYIDjUCBKL5pDwKNQNYqjIibAI1AWRwPsib/jEDj/EbmsP2MQJvMMyU6/IxAW4vVbsL6jEBJOSzDSfmMQFHWNyLQ94xAYWL4i1X2jECf3W0A2vSMQOVHmH9d84xAWKF3CeDxjEDU6QueYfCMQH0hVT3i7oxAQEhT52HtjEAMXgac4OuMQAVjblte6oxAB1eLJdvojEA1Ol36VueMQH8M5NnR5YxA0M0fxEvkjEBQfhC5xOKMQNcdtrg84YxAjKwQw7PfjEBIKiDYKd6MQDKX5Pee3IxAOPNdIhPbjEBEPoxXhtmMQH94b5f414xAwaEH4mnWjEAyulQ32tSMQKnBVpdJ04xAT7gNArjRjEAQnnl3JdCMQNhymveRzoxAzjZwgv3MjEDL6foXaMuMQPeLOrjRyYxAPh0vYzrIjECMndgYosaMQAgNN9kIxYxAi2tKpG7DjEA9uRJ608GMQPb1j1o3wIxA3SHCRZq+jEDfPKk7/LyMQOhGRTxdu4xAIECWR725jEBeKJxdHLiMQMz/Vn56toxAQMbGqde0jEDie+vfM7OMQKAgxSCPsYxAZLRTbOmvjEBYN5fCQq6MQFGpjyObrIxAego9j/KqjEC+Wp8FSamMQAiatoaep4xAgciCEvOljEAB5gOpRqSMQLDyOUqZooxAZO4k9uqgjEBJ2cSsO5+MQEizGW6LnYxATXwjOtqbjECCNOIQKJqMQLzbVfJ0mIxAJ3J+3sCWjECX91vVC5WMQDds7tZVk4xA8s81456RjECyIjL65o+MQKNk4xsujoxAmJVJSHSMjEC+tWR/uYqMQP/ENMH9iIxARcO5DUGHjEC8sPNkg4WMQDeN4sbEg4xA41iGMwWCjECUE9+qRICMQHa97CyDfoxAclavucB8jEBz3iZR/XqMQKVVU/M4eYxA3Ls0oHN3jEBDEctXrXWMQK9VFhrmc4xATIkW5x1yjEAErMu+VHCMQMG9NaGKboxArr5Ujr9sjECgriiG82qMQMONsYgmaYxAAVzvlVhnjEBDGeKtiWWMQLfFidC5Y4xALmHm/ehhjEDY6/c1F2CMQIVlvnhEXoxAY845xnBcjEBdJmoenFqMQFptT4HGWIxAiaPp7u9WjEC8yDhnGFWMQCHdPOo/U4xAoOD1d2ZRjEAj02MQjE+MQNi0hrOwTYxAkYVeYdRLjEB7ResZ90mMQGn0LN0YSIxAipIjqzlGjEA=",
          "dtype": "f8"
         }
        }
       ],
       "layout": {
        "font": {
         "size": 14
        },
        "height": 600,
        "legend": {
         "x": 0.1,
         "y": 0.9
        },
        "shapes": [
         {
          "fillcolor": "green",
          "layer": "below",
          "line": {
           "width": 0
          },
          "opacity": 0.3,
          "type": "rect",
          "x0": 527.0499878,
          "x1": 553.9699707,
          "y0": 0,
          "y1": 1000
         }
        ],
        "template": {
         "data": {
          "bar": [
           {
            "error_x": {
             "color": "#2a3f5f"
            },
            "error_y": {
             "color": "#2a3f5f"
            },
            "marker": {
             "line": {
              "color": "#E5ECF6",
              "width": 0.5
             },
             "pattern": {
              "fillmode": "overlay",
              "size": 10,
              "solidity": 0.2
             }
            },
            "type": "bar"
           }
          ],
          "barpolar": [
           {
            "marker": {
             "line": {
              "color": "#E5ECF6",
              "width": 0.5
             },
             "pattern": {
              "fillmode": "overlay",
              "size": 10,
              "solidity": 0.2
             }
            },
            "type": "barpolar"
           }
          ],
          "carpet": [
           {
            "aaxis": {
             "endlinecolor": "#2a3f5f",
             "gridcolor": "white",
             "linecolor": "white",
             "minorgridcolor": "white",
             "startlinecolor": "#2a3f5f"
            },
            "baxis": {
             "endlinecolor": "#2a3f5f",
             "gridcolor": "white",
             "linecolor": "white",
             "minorgridcolor": "white",
             "startlinecolor": "#2a3f5f"
            },
            "type": "carpet"
           }
          ],
          "choropleth": [
           {
            "colorbar": {
             "outlinewidth": 0,
             "ticks": ""
            },
            "type": "choropleth"
           }
          ],
          "contour": [
           {
            "colorbar": {
             "outlinewidth": 0,
             "ticks": ""
            },
            "colorscale": [
             [
              0,
              "#0d0887"
             ],
             [
              0.1111111111111111,
              "#46039f"
             ],
             [
              0.2222222222222222,
              "#7201a8"
             ],
             [
              0.3333333333333333,
              "#9c179e"
             ],
             [
              0.4444444444444444,
              "#bd3786"
             ],
             [
              0.5555555555555556,
              "#d8576b"
             ],
             [
              0.6666666666666666,
              "#ed7953"
             ],
             [
              0.7777777777777778,
              "#fb9f3a"
             ],
             [
              0.8888888888888888,
              "#fdca26"
             ],
             [
              1,
              "#f0f921"
             ]
            ],
            "type": "contour"
           }
          ],
          "contourcarpet": [
           {
            "colorbar": {
             "outlinewidth": 0,
             "ticks": ""
            },
            "type": "contourcarpet"
           }
          ],
          "heatmap": [
           {
            "colorbar": {
             "outlinewidth": 0,
             "ticks": ""
            },
            "colorscale": [
             [
              0,
              "#0d0887"
             ],
             [
              0.1111111111111111,
              "#46039f"
             ],
             [
              0.2222222222222222,
              "#7201a8"
             ],
             [
              0.3333333333333333,
              "#9c179e"
             ],
             [
              0.4444444444444444,
              "#bd3786"
             ],
             [
              0.5555555555555556,
              "#d8576b"
             ],
             [
              0.6666666666666666,
              "#ed7953"
             ],
             [
              0.7777777777777778,
              "#fb9f3a"
             ],
             [
              0.8888888888888888,
              "#fdca26"
             ],
             [
              1,
              "#f0f921"
             ]
            ],
            "type": "heatmap"
           }
          ],
          "histogram": [
           {
            "marker": {
             "pattern": {
              "fillmode": "overlay",
              "size": 10,
              "solidity": 0.2
             }
            },
            "type": "histogram"
           }
          ],
          "histogram2d": [
           {
            "colorbar": {
             "outlinewidth": 0,
             "ticks": ""
            },
            "colorscale": [
             [
              0,
              "#0d0887"
             ],
             [
              0.1111111111111111,
              "#46039f"
             ],
             [
              0.2222222222222222,
              "#7201a8"
             ],
             [
              0.3333333333333333,
              "#9c179e"
             ],
             [
              0.4444444444444444,
              "#bd3786"
             ],
             [
              0.5555555555555556,
              "#d8576b"
             ],
             [
              0.6666666666666666,
              "#ed7953"
             ],
             [
              0.7777777777777778,
              "#fb9f3a"
             ],
             [
              0.8888888888888888,
              "#fdca26"
             ],
             [
              1,
              "#f0f921"
             ]
            ],
            "type": "histogram2d"
           }
          ],
          "histogram2dcontour": [
           {
            "colorbar": {
             "outlinewidth": 0,
             "ticks": ""
            },
            "colorscale": [
             [
              0,
              "#0d0887"
             ],
             [
              0.1111111111111111,
              "#46039f"
             ],
             [
              0.2222222222222222,
              "#7201a8"
             ],
             [
              0.3333333333333333,
              "#9c179e"
             ],
             [
              0.4444444444444444,
              "#bd3786"
             ],
             [
              0.5555555555555556,
              "#d8576b"
             ],
             [
              0.6666666666666666,
              "#ed7953"
             ],
             [
              0.7777777777777778,
              "#fb9f3a"
             ],
             [
              0.8888888888888888,
              "#fdca26"
             ],
             [
              1,
              "#f0f921"
             ]
            ],
            "type": "histogram2dcontour"
           }
          ],
          "mesh3d": [
           {
            "colorbar": {
             "outlinewidth": 0,
             "ticks": ""
            },
            "type": "mesh3d"
           }
          ],
          "parcoords": [
           {
            "line": {
             "colorbar": {
              "outlinewidth": 0,
              "ticks": ""
             }
            },
            "type": "parcoords"
           }
          ],
          "pie": [
           {
            "automargin": true,
            "type": "pie"
           }
          ],
          "scatter": [
           {
            "fillpattern": {
             "fillmode": "overlay",
             "size": 10,
             "solidity": 0.2
            },
            "type": "scatter"
           }
          ],
          "scatter3d": [
           {
            "line": {
             "colorbar": {
              "outlinewidth": 0,
              "ticks": ""
             }
            },
            "marker": {
             "colorbar": {
              "outlinewidth": 0,
              "ticks": ""
             }
            },
            "type": "scatter3d"
           }
          ],
          "scattercarpet": [
           {
            "marker": {
             "colorbar": {
              "outlinewidth": 0,
              "ticks": ""
             }
            },
            "type": "scattercarpet"
           }
          ],
          "scattergeo": [
           {
            "marker": {
             "colorbar": {
              "outlinewidth": 0,
              "ticks": ""
             }
            },
            "type": "scattergeo"
           }
          ],
          "scattergl": [
           {
            "marker": {
             "colorbar": {
              "outlinewidth": 0,
              "ticks": ""
             }
            },
            "type": "scattergl"
           }
          ],
          "scattermap": [
           {
            "marker": {
             "colorbar": {
              "outlinewidth": 0,
              "ticks": ""
             }
            },
            "type": "scattermap"
           }
          ],
          "scattermapbox": [
           {
            "marker": {
             "colorbar": {
              "outlinewidth": 0,
              "ticks": ""
             }
            },
            "type": "scattermapbox"
           }
          ],
          "scatterpolar": [
           {
            "marker": {
             "colorbar": {
              "outlinewidth": 0,
              "ticks": ""
             }
            },
            "type": "scatterpolar"
           }
          ],
          "scatterpolargl": [
           {
            "marker": {
             "colorbar": {
              "outlinewidth": 0,
              "ticks": ""
             }
            },
            "type": "scatterpolargl"
           }
          ],
          "scatterternary": [
           {
            "marker": {
             "colorbar": {
              "outlinewidth": 0,
              "ticks": ""
             }
            },
            "type": "scatterternary"
           }
          ],
          "surface": [
           {
            "colorbar": {
             "outlinewidth": 0,
             "ticks": ""
            },
            "colorscale": [
             [
              0,
              "#0d0887"
             ],
             [
              0.1111111111111111,
              "#46039f"
             ],
             [
              0.2222222222222222,
              "#7201a8"
             ],
             [
              0.3333333333333333,
              "#9c179e"
             ],
             [
              0.4444444444444444,
              "#bd3786"
             ],
             [
              0.5555555555555556,
              "#d8576b"
             ],
             [
              0.6666666666666666,
              "#ed7953"
             ],
             [
              0.7777777777777778,
              "#fb9f3a"
             ],
             [
              0.8888888888888888,
              "#fdca26"
             ],
             [
              1,
              "#f0f921"
             ]
            ],
            "type": "surface"
           }
          ],
          "table": [
           {
            "cells": {
             "fill": {
              "color": "#EBF0F8"
             },
             "line": {
              "color": "white"
             }
            },
            "header": {
             "fill": {
              "color": "#C8D4E3"
             },
             "line": {
              "color": "white"
             }
            },
            "type": "table"
           }
          ]
         },
         "layout": {
          "annotationdefaults": {
           "arrowcolor": "#2a3f5f",
           "arrowhead": 0,
           "arrowwidth": 1
          },
          "autotypenumbers": "strict",
          "coloraxis": {
           "colorbar": {
            "outlinewidth": 0,
            "ticks": ""
           }
          },
          "colorscale": {
           "diverging": [
            [
             0,
             "#8e0152"
            ],
            [
             0.1,
             "#c51b7d"
            ],
            [
             0.2,
             "#de77ae"
            ],
            [
             0.3,
             "#f1b6da"
            ],
            [
             0.4,
             "#fde0ef"
            ],
            [
             0.5,
             "#f7f7f7"
            ],
            [
             0.6,
             "#e6f5d0"
            ],
            [
             0.7,
             "#b8e186"
            ],
            [
             0.8,
             "#7fbc41"
            ],
            [
             0.9,
             "#4d9221"
            ],
            [
             1,
             "#276419"
            ]
           ],
           "sequential": [
            [
             0,
             "#0d0887"
            ],
            [
             0.1111111111111111,
             "#46039f"
            ],
            [
             0.2222222222222222,
             "#7201a8"
            ],
            [
             0.3333333333333333,
             "#9c179e"
            ],
            [
             0.4444444444444444,
             "#bd3786"
            ],
            [
             0.5555555555555556,
             "#d8576b"
            ],
            [
             0.6666666666666666,
             "#ed7953"
            ],
            [
             0.7777777777777778,
             "#fb9f3a"
            ],
            [
             0.8888888888888888,
             "#fdca26"
            ],
            [
             1,
             "#f0f921"
            ]
           ],
           "sequentialminus": [
            [
             0,
             "#0d0887"
            ],
            [
             0.1111111111111111,
             "#46039f"
            ],
            [
             0.2222222222222222,
             "#7201a8"
            ],
            [
             0.3333333333333333,
             "#9c179e"
            ],
            [
             0.4444444444444444,
             "#bd3786"
            ],
            [
             0.5555555555555556,
             "#d8576b"
            ],
            [
             0.6666666666666666,
             "#ed7953"
            ],
            [
             0.7777777777777778,
             "#fb9f3a"
            ],
            [
             0.8888888888888888,
             "#fdca26"
            ],
            [
             1,
             "#f0f921"
            ]
           ]
          },
          "colorway": [
           "#636efa",
           "#EF553B",
           "#00cc96",
           "#ab63fa",
           "#FFA15A",
           "#19d3f3",
           "#FF6692",
           "#B6E880",
           "#FF97FF",
           "#FECB52"
          ],
          "font": {
           "color": "#2a3f5f"
          },
          "geo": {
           "bgcolor": "white",
           "lakecolor": "white",
           "landcolor": "#E5ECF6",
           "showlakes": true,
           "showland": true,
           "subunitcolor": "white"
          },
          "hoverlabel": {
           "align": "left"
          },
          "hovermode": "closest",
          "mapbox": {
           "style": "light"
          },
          "paper_bgcolor": "white",
          "plot_bgcolor": "#E5ECF6",
          "polar": {
           "angularaxis": {
            "gridcolor": "white",
            "linecolor": "white",
            "ticks": ""
           },
           "bgcolor": "#E5ECF6",
           "radialaxis": {
            "gridcolor": "white",
            "linecolor": "white",
            "ticks": ""
           }
          },
          "scene": {
           "xaxis": {
            "backgroundcolor": "#E5ECF6",
            "gridcolor": "white",
            "gridwidth": 2,
            "linecolor": "white",
            "showbackground": true,
            "ticks": "",
            "zerolinecolor": "white"
           },
           "yaxis": {
            "backgroundcolor": "#E5ECF6",
            "gridcolor": "white",
            "gridwidth": 2,
            "linecolor": "white",
            "showbackground": true,
            "ticks": "",
            "zerolinecolor": "white"
           },
           "zaxis": {
            "backgroundcolor": "#E5ECF6",
            "gridcolor": "white",
            "gridwidth": 2,
            "linecolor": "white",
            "showbackground": true,
            "ticks": "",
            "zerolinecolor": "white"
           }
          },
          "shapedefaults": {
           "line": {
            "color": "#2a3f5f"
           }
          },
          "ternary": {
           "aaxis": {
            "gridcolor": "white",
            "linecolor": "white",
            "ticks": ""
           },
           "baxis": {
            "gridcolor": "white",
            "linecolor": "white",
            "ticks": ""
           },
           "bgcolor": "#E5ECF6",
           "caxis": {
            "gridcolor": "white",
            "linecolor": "white",
            "ticks": ""
           }
          },
          "title": {
           "x": 0.05
          },
          "xaxis": {
           "automargin": true,
           "gridcolor": "white",
           "linecolor": "white",
           "ticks": "",
           "title": {
            "standoff": 15
           },
           "zerolinecolor": "white",
           "zerolinewidth": 2
          },
          "yaxis": {
           "automargin": true,
           "gridcolor": "white",
           "linecolor": "white",
           "ticks": "",
           "title": {
            "standoff": 15
           },
           "zerolinecolor": "white",
           "zerolinewidth": 2
          }
         }
        },
        "width": 800,
        "xaxis": {
         "title": {
          "text": "Wavelength (nm)"
         }
        },
        "yaxis": {
         "range": [
          0,
          1000
         ],
         "title": {
          "text": "Intensity (a.u.)"
         }
        }
       }
      }
     },
     "metadata": {},
     "output_type": "display_data"
    }
   ],
   "source": [
    "x_ecc = np.linspace(ecc_lambda[max_index_ecc_int-d], ecc_lambda[max_index_ecc_int+d], 1000)\n",
    "y_ecc = parabola(x_ecc, *popt_ecc)\n",
    "\n",
    "x_emi = np.linspace(emi_lambda[max_index_emi_int-d], emi_lambda[max_index_emi_int+d], 1000)\n",
    "y_emi = parabola(x_emi, *popt_emi)\n",
    "\n",
    "fig = go.Figure()\n",
    "fig.add_trace(go.Scatter(x=ecc_lambda, y=ecc_int,\n",
    "                    mode='lines+markers',\n",
    "                    name='Excitation'))\n",
    "fig.add_trace(go.Scatter(x=emi_lambda, y=emi_int,\n",
    "                    mode='lines+markers',\n",
    "                    name='Emission'))\n",
    "\n",
    "fig.add_trace(go.Scatter(x=x_ecc, y=y_ecc,\n",
    "                    mode='lines',\n",
    "                    name='Excitation Fit',\n",
    "                    line=dict(color='blue', width=5)))\n",
    "\n",
    "fig.add_trace(go.Scatter(x=x_emi, y=y_emi,\n",
    "                    mode='lines',\n",
    "                    name='Emission Fit',\n",
    "                    line=dict(color='red', width=5)))\n",
    "\n",
    "fig.add_shape(\n",
    "    type=\"rect\",\n",
    "    x0=ecc_lambda[max_index_ecc_int], x1=emi_lambda[max_index_emi_int],\n",
    "    y0=0, y1=1000,\n",
    "    fillcolor=\"green\",\n",
    "    opacity=0.3,\n",
    "    layer=\"below\",\n",
    "    line_width=0,\n",
    ")\n",
    "\n",
    "# fig.add_shape(\n",
    "#     type=\"line\",\n",
    "#     x0=ecc_lambda[max_index_ecc_int], x1=ecc_lambda[max_index_ecc_int],\n",
    "#     y0=0, y1=np.max(y_ecc),\n",
    "#     line=dict(color=\"blue\", width=2, dash=\"dash\"),\n",
    "# )\n",
    "\n",
    "# fig.add_shape(\n",
    "#     type=\"line\",\n",
    "#     x0=emi_lambda[max_index_emi_int], x1=emi_lambda[max_index_emi_int],\n",
    "#     y0=0, y1=np.max(y_emi),\n",
    "#     line=dict(color=\"red\", width=2, dash=\"dash\"),\n",
    "# )\n",
    "\n",
    "\n",
    "fig.update_layout(\n",
    "                  xaxis_title='Wavelength (nm)',\n",
    "                  yaxis_title='Intensity (a.u.)',\n",
    "                  height=600,\n",
    "                  width=800,\n",
    "                  yaxis=dict(range=[0, 1000]),\n",
    "                  legend=dict(x=0.1, y=0.9),\n",
    "                  font=dict(size=14))\n",
    "\n",
    "\n",
    "fig.show()"
   ]
  }
 ],
 "metadata": {
  "kernelspec": {
   "display_name": "Python 3",
   "language": "python",
   "name": "python3"
  },
  "language_info": {
   "codemirror_mode": {
    "name": "ipython",
    "version": 3
   },
   "file_extension": ".py",
   "mimetype": "text/x-python",
   "name": "python",
   "nbconvert_exporter": "python",
   "pygments_lexer": "ipython3",
   "version": "3.13.0"
  }
 },
 "nbformat": 4,
 "nbformat_minor": 2
}
