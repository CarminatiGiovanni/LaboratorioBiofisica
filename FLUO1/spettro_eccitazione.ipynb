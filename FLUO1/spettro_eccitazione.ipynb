{
 "cells": [
  {
   "cell_type": "code",
   "execution_count": 17,
   "id": "072f95b0",
   "metadata": {},
   "outputs": [],
   "source": [
    "from matplotlib import pyplot as plt\n",
    "import numpy as np\n",
    "import pandas as pd\n",
    "import plotly.express as px\n",
    "import os\n",
    "import sys\n",
    "import plotly.graph_objects as go \n",
    "dir_path = os.path.abspath('')\n",
    "sys.path.append(dir_path + '/../')\n",
    "from labbiofisica import Interpolazione, final_val\n",
    "from scipy.optimize import curve_fit"
   ]
  },
  {
   "cell_type": "code",
   "execution_count": 18,
   "id": "6931e91f",
   "metadata": {},
   "outputs": [],
   "source": [
    "SIGMAY_PEAK = 0.0045\n",
    "LAMBDA_ECC = np.array([500,510,520,490,530,526,480,470,515,460]) # ORDINE NECESSARIO\n",
    "filename = 'data/ecc_rodamina_05.csv'\n",
    "data = pd.read_csv(filename, sep=',', header=1,nrows=151)\n",
    "data = data.drop(columns=['Unnamed: 20'])\n",
    "data.columns = [f'λ {LAMBDA_ECC[i]}' if j % 2 == 0 else f'I {LAMBDA_ECC[i]}' for i in range(len(LAMBDA_ECC)) for j in range(2)]\n",
    "# Drop unnamed\n",
    "data.tail()\n",
    "\n",
    "LAMBDA_ECC = np.sort(LAMBDA_ECC)"
   ]
  },
  {
   "cell_type": "code",
   "execution_count": 19,
   "id": "aa012e3f",
   "metadata": {},
   "outputs": [
    {
     "data": {
      "application/vnd.plotly.v1+json": {
       "config": {
        "plotlyServerURL": "https://plot.ly"
       },
       "data": [
        {
         "line": {
          "color": "#440154"
         },
         "mode": "lines",
         "name": "λ 460",
         "type": "scatter",
         "x": {
          "bdata": "AAAAAAAQfUBqHQvA9SB9QAIPDCBcL31AtY4F4HpAfUBNgAZA4U59QAAAAAAAYH1Aah0LwPVwfUACDwwgXH99QLWOBeB6kH1ATYAGQOGefUAAAAAAALB9QGodC8D1wH1AAg8MIFzPfUC1jgXgeuB9QE2ABkDh7n1AAAAAAAAAfkBqHQvA9RB+QAIPDCBcH35AtY4F4HowfkBNgAZA4T5+QAAAAAAAUH5Aah0LwPVgfkACDwwgXG9+QLWOBeB6gH5ATYAGQOGOfkAAAAAAAKB+QGodC8D1sH5AAg8MIFy/fkC1jgXgetB+QE2ABkDh3n5AAAAAAADwfkBqHQvA9QB/QAIPDCBcD39AtY4F4Hogf0BNgAZA4S5/QAAAAAAAQH9A/vDz36NQf0CW4vQ/Cl9/QIarAyCub39AelT831GAf0Czf/m/HpF/QEtx+h+Fn39AOzoJACmwf0Av4wHAzMB/QNEc/j8zz39AAAAAAADgf0D+8PPfo/B/QJbi9D8K/39AvjEEANcHgEBCzvv/KBCAQNq//F+PGIBAoJT/f8IfgEAenQSAFCiAQJjxAGBmMIBAaA7/n5k3gEAAAAAAAECAQLWOBeB6SIBAhqsDIK5PgEBgawCAPViAQCZAA6BwX4BAAAAAAABogEC1jgXgenCAQIarAyCud4BAYGsAgD2AgEAmQAOgcIeAQAAAAAAAkIBAelT831GYgEBLcfofhZ+AQL4xBADXp4BAQs77/yiwgEDav/xfj7iAQKCU/3/Cv4BAHp0EgBTIgECY8QBgZtCAQGgO/5+Z14BAAAAAAADggEB6VPzfUeiAQEtx+h+F74BAvjEEANf3gEBCzvv/KACBQNq//F+PCIFAoJT/f8IPgUAenQSAFBiBQJjxAGBmIIFAaA7/n5kngUAAAAAAADCBQELO+/8oOIFAmPEAYGZAgUBLcfofhUeBQKCU/3/CT4FAAAAAAABYgUBCzvv/KGCBQJjxAGBmaIFAS3H6H4VvgUCglP9/wneBQAAAAAAAgIFAelT831GIgUBLcfofhY+BQL4xBADXl4FAQs77/yiggUDav/xfj6iBQKCU/3/Cr4FAHp0EgBS4gUCY8QBgZsCBQGgO/5+Zx4FAAAAAAADQgUBCzvv/KNiBQJjxAGBm4IFAS3H6H4XngUCglP9/wu+BQAAAAAAA+IFAQs77/ygAgkCY8QBgZgiCQEtx+h+FD4JAoJT/f8IXgkAAAAAAACCCQHpU/N9RKIJAS3H6H4UvgkC+MQQA1zeCQELO+/8oQIJA2r/8X49IgkCglP9/wk+CQB6dBIAUWIJAmPEAYGZggkBoDv+fmWeCQAAAAAAAcIJAQs77/yh4gkCY8QBgZoCCQEtx+h+Fh4JAoJT/f8KPgkAAAAAAAJiCQELO+/8ooIJAmPEAYGaogkBLcfofha+CQKCU/3/Ct4JAAAAAAADAgkAenQSAFMiCQELO+/8o0IJAelT831HYgkCY8QBgZuCCQNq//F+P6IJAS3H6H4XvgkBoDv+fmfeCQKCU/3/C/4JAvjEEANcHg0AAAAAAABCDQELO+/8oGINAmPEAYGYgg0BLcfofhSeDQKCU/3/CL4NAAAAAAAA4g0A=",
          "dtype": "f8"
         },
         "y": {
          "bdata": "4o8AQN6DCEABvfQfZ5TyP4FS/v9JBeE/SPfwP5IGxj9izuofb7K9P/kMAED/hq4/m9IOQOkywT/4lfj/o9CrP+PK+l8ZrrY/Jx4CoPx7tz9vm/6/COqsPyBJAwAwMbQ/swYAgJa/sT9+YAMAHM6uPxZnBMCSRqI/tOgCIBEtsD9zF/5ft2C0P8/G/B8+RrY/7p79H8XZsD+orgEgyxCxP9bw/T9zmbA/4BgE4Drdtj+Ryv0fupi1P9Fy+5/5u7g/AH4uIFncuT9HwQLgQi63P63M/9+kprk/9vUHwPtnwj+RJhpAkSnAP96H7h8sn74/X7nzP1/MwD9YDPD/0NzDP5byBMAEp8I/0cDhHxyOvj+yixCAcvLHP6ZM9n+xxsc/9ob7f44zzT9S5PM/Pl7PP6aPAWBKAtM/fJkDoGyD0z8ZbfWfrA3XP0gHAcCMNds/15n8f+7V2z8WgAZgauDfP+XcBGD+CeM/nhgEoFJI5z/SJPufuEbrP5LJBKDzQe8/0q7fn5R58z+Qn/U/rH72P7lA8X8hrfs/kEn6P30fAEBGV/Ffg1IDQCub+r9xJQdA8uz8H4OoCkCW9wHgiQMQQC0//j8/eRNAlkwEYPJxFkCDof//rooaQHnX/J+TqR5AAT4D4FsgIkD2jPEf2lQlQAni+n/u3ChA2qcEQOwtLUDvYg5ActIwQH3d8T9cvjNAqh8GgEuRNkD+sfd/YVs5QEyY/l9URj1A4NX2n8qnQECYMP2/qMFCQPooAiCX3ERAdWUG4NVqR0CJOAgArwpKQHIv9n8K10xAIg4CwGutT0CSWf/ffyRRQHWkAkB4ZlJA2YAAAB2rU0CEXfufT/dUQFHxA4A4Y1ZAAqX8/9M8V0CPjf6fnH1YQHQn2H+dgFlA/RzVn7P4WUBbUCnAQZ9aQBNVCWCU+1pAJZsGoCw2W0CyGCsgI5ZbQIKQLGACsVtAd3HRf8VUW0DHqCFgYw1bQKING8A20lpAbwwBwLFnWkAnp9E/nMtZQO8jEuBPUllAIef9fxyyWEBtQACAzvpXQKdTBUDocVdA5hYEoNuhVkCMggEAF9lVQKZr/V87XVVAcEv9H9RcVEACpfz/U99TQM5Q/f8PAVNAcxf+X/dMUkBpTfv/W3BRQMAV/V/9z1BA0d0B4FA4UEBvjggAbT1PQBa3+n+PFk5Ak4ADII+5TEAgKglgtZlLQPHc939AfkpAYKr8308ySUDwHwNg2XFIQKUF/b9JUUdAyWEHANSWRkAxiP6/INlFQGUDAgB04ERAMTEKQKtkREBGAP3fDdNDQN1zBYDPBUNA6Dn5X/SaQkDbZPlfUxZCQPGFAwBLbUFAeK//333YQEBM1/q/dm1AQBT+FOAeiD9A8OAGALerPkAJzhHgka09QMn3999ruTxAZJ0BYAJ/O0BfRPw/Xu46QII6BuB2ADpA8gP8v48VOUAfmfX//Vk4QPIuD4BVdTdAjRMVYA7ANkD3Me4fbu41QBLE9f/c/TRAWW3+X3U7NEAbT/z/1ZIzQJ6wBiCc1TJA8i4PgFUBMkDGFw4ALHExQKTe+H96xjBAMGH6f1EEMECM7d4fKdsuQAdp3z+Kki1ANU8igKNaLEA=",
          "dtype": "f8"
         }
        },
        {
         "line": {
          "color": "#482878"
         },
         "mode": "lines",
         "name": "λ 470",
         "type": "scatter",
         "x": {
          "bdata": "AAAAAACwfUBqHQvA9cB9QAIPDCBcz31AtY4F4HrgfUBNgAZA4e59QAAAAAAAAH5Aah0LwPUQfkACDwwgXB9+QLWOBeB6MH5ATYAGQOE+fkAAAAAAAFB+QGodC8D1YH5AAg8MIFxvfkC1jgXgeoB+QE2ABkDhjn5AAAAAAACgfkBqHQvA9bB+QAIPDCBcv35AtY4F4HrQfkBNgAZA4d5+QAAAAAAA8H5Aah0LwPUAf0ACDwwgXA9/QLWOBeB6IH9ATYAGQOEuf0AAAAAAAEB/QP7w89+jUH9AluL0Pwpff0CGqwMgrm9/QHpU/N9RgH9As3/5vx6Rf0BLcfofhZ9/QDs6CQApsH9AL+MBwMzAf0DRHP4/M89/QAAAAAAA4H9A/vDz36Pwf0CW4vQ/Cv9/QL4xBADXB4BAQs77/ygQgEDav/xfjxiAQKCU/3/CH4BAHp0EgBQogECY8QBgZjCAQGgO/5+ZN4BAAAAAAABAgEC1jgXgekiAQIarAyCuT4BAYGsAgD1YgEAmQAOgcF+AQAAAAAAAaIBAtY4F4HpwgECGqwMgrneAQGBrAIA9gIBAJkADoHCHgEAAAAAAAJCAQHpU/N9RmIBAS3H6H4WfgEC+MQQA16eAQELO+/8osIBA2r/8X4+4gECglP9/wr+AQB6dBIAUyIBAmPEAYGbQgEBoDv+fmdeAQAAAAAAA4IBAelT831HogEBLcfofhe+AQL4xBADX94BAQs77/ygAgUDav/xfjwiBQKCU/3/CD4FAHp0EgBQYgUCY8QBgZiCBQGgO/5+ZJ4FAAAAAAAAwgUBCzvv/KDiBQJjxAGBmQIFAS3H6H4VHgUCglP9/wk+BQAAAAAAAWIFAQs77/yhggUCY8QBgZmiBQEtx+h+Fb4FAoJT/f8J3gUAAAAAAAICBQHpU/N9RiIFAS3H6H4WPgUC+MQQA15eBQELO+/8ooIFA2r/8X4+ogUCglP9/wq+BQB6dBIAUuIFAmPEAYGbAgUBoDv+fmceBQAAAAAAA0IFAQs77/yjYgUCY8QBgZuCBQEtx+h+F54FAoJT/f8LvgUAAAAAAAPiBQELO+/8oAIJAmPEAYGYIgkBLcfofhQ+CQKCU/3/CF4JAAAAAAAAggkB6VPzfUSiCQEtx+h+FL4JAvjEEANc3gkBCzvv/KECCQNq//F+PSIJAoJT/f8JPgkAenQSAFFiCQJjxAGBmYIJAaA7/n5lngkAAAAAAAHCCQELO+/8oeIJAmPEAYGaAgkBLcfofhYeCQKCU/3/Cj4JAAAAAAACYgkBCzvv/KKCCQJjxAGBmqIJAS3H6H4WvgkCglP9/wreCQAAAAAAAwIJAHp0EgBTIgkBCzvv/KNCCQHpU/N9R2IJAmPEAYGbggkDav/xfj+iCQEtx+h+F74JAaA7/n5n3gkCglP9/wv+CQL4xBADXB4NAAAAAAAAQg0BCzvv/KBiDQJjxAGBmIINAS3H6H4Ung0CglP9/wi+DQAAAAAAAOINAQs77/yhAg0CY8QBgZkiDQEtx+h+FT4NAoJT/f8JXg0AAAAAAAGCDQELO+/8oaINAmPEAYGZwg0BLcfofhXeDQKCU/3/Cf4NAAAAAAACIg0A=",
          "dtype": "f8"
         },
         "y": {
          "bdata": "26YLwCUNB0CO5wgggkj1P5euAGClhOE/3YEDYJhR0D975gjAD0zEP82171/OJL0/EEr9H6jJuD+hmfG/H7rAP917DcBMtME/ID7y/5Gmxj/dJPmfshm8P0cJ878Zc8I/n7LtP3FKwj83OBgA3zPFP5MCC2DKgL4/OxvXnwKwuj/cKfa/N0DEPyJJ+n9PD8E/IZP0f/quwz/MRu7/GEDEPwDND4AZA8s/yTftv1SnyD+nfu1/0fzLPxvA+j/QWM8/+PkAgAJYzT9Pgen/18PKP2Qk+9+KJtU/ThXzvxqo1T+QWgNAPs3ZP+J5+h+Yp94/uwz9n7xJ4D/GSv5/EuLhP+CCBsCTReY/V3cDgDdx6z8uzQaAfmztP49OAkC6hfE/7C0i4Ml09D8OKBCA/LD2P9X5/J/fifw/AED13+hyAUCzVgOAov8DQOl1CkBD1ghAoFQKoGk8DEBhu/r/2OwQQKaC/P9HsBNAfcoBIMaIF0B7uvx/g2McQFPV/N+uqiBAzT//3waMI0BIO+q/OREnQPDMHWBamipAxW4CgCHnL0ANfguAK4UyQIogEODb0jVACwXwP8fAOEBbuwbgE/48QDmtBCAoqEBAVbn1P+XVQkBd3vuf7OJFQOTI+x/9mkhA0PX5/yMETEDdyvn/xFpPQDnsAIDKQFFADdX//2BJU0BnqP7/R0RVQA96/P80hldA1aQloFOYWUDoIs8/C2lbQH005r/RT11AvfPVn45aX0CLMOr/wYlgQKN06V+SamFAMsPrn0w4YkCb0eo/RuFiQF8B8V9FPmNArpADwIKuY0AZrg6AeCRkQHB2EOBZXmRADFcHQFyOZEApIO1/QHVkQPD075+TWmRAj04CQLouZEDE9BhAU+NjQCbW83/YpmNAarP7nw09Y0DtFAbAk9diQIFS/v/JPGJAAJbw3xfyYUBu0RPgRWlhQKwX6H+e12BAQs77/zgzYEBWitP/KH1fQPx32J+fK15AchjMX6E5XUDoJRDAF2NcQPYe0397O1tAD83h/7MUWkD1edZ/ZxlZQGeo/v9HLFhAgVL+/8kYV0BM1/q/tiFWQGjPAkBXWVVA53wEQM05VEBAKf//5NVTQHzhAMCSBVNAZNz9vyQ/UkB9CAUAom5RQJHz/j+O11BA9jX9n2QsUEBWYgHAbx5PQAQyAeBUIE5AYdEAIJ9lTUDx3Pd/QC9MQN0J9l/npEtAc1b6v9mWSkDUkQoA4edJQOYWBKAb/EhA0Lb9nwFJSECd4PZfwmhHQFbg+X+000ZAGAUDAC4YRkBvjggA7VZFQCjl/59UlURAJkADoMBJREAQ4PyfpoBDQFah/R+S00JAGIcKQOn7QUBGwQCA63dBQBSUBcA2y0BAlkwEYHIzQEAPufhf1xU/QLs68P8d7j1A1SPsX4I9PUCGv+y/ShU8QJb1D+D8XzpApqr5v10FOkCk3vh/eps4QBQ9EUBByzdAxQTzXzkiN0C8YfQ/bc81QAcS67+UUjVApJvtn+EoNEAfQgGACGozQAfT7l9yrzJAGzsTYHm1MUCOkQ0gU+AwQHW469/ULzBAu2UDwOMBL0B7j+m/vbstQJFG5D/NfixAfsX5H4n+KkA=",
          "dtype": "f8"
         }
        },
        {
         "line": {
          "color": "#3e4989"
         },
         "mode": "lines",
         "name": "λ 480",
         "type": "scatter",
         "x": {
          "bdata": "AAAAAABQfkBqHQvA9WB+QAIPDCBcb35AtY4F4HqAfkBNgAZA4Y5+QAAAAAAAoH5Aah0LwPWwfkACDwwgXL9+QLWOBeB60H5ATYAGQOHefkAAAAAAAPB+QGodC8D1AH9AAg8MIFwPf0C1jgXgeiB/QE2ABkDhLn9AAAAAAABAf0D+8PPfo1B/QJbi9D8KX39AhqsDIK5vf0B6VPzfUYB/QLN/+b8ekX9AS3H6H4Wff0A7OgkAKbB/QC/jAcDMwH9A0Rz+PzPPf0AAAAAAAOB/QP7w89+j8H9AluL0Pwr/f0C+MQQA1weAQELO+/8oEIBA2r/8X48YgECglP9/wh+AQB6dBIAUKIBAmPEAYGYwgEBoDv+fmTeAQAAAAAAAQIBAtY4F4HpIgECGqwMgrk+AQGBrAIA9WIBAJkADoHBfgEAAAAAAAGiAQLWOBeB6cIBAhqsDIK53gEBgawCAPYCAQCZAA6Bwh4BAAAAAAACQgEB6VPzfUZiAQEtx+h+Fn4BAvjEEANengEBCzvv/KLCAQNq//F+PuIBAoJT/f8K/gEAenQSAFMiAQJjxAGBm0IBAaA7/n5nXgEAAAAAAAOCAQHpU/N9R6IBAS3H6H4XvgEC+MQQA1/eAQELO+/8oAIFA2r/8X48IgUCglP9/wg+BQB6dBIAUGIFAmPEAYGYggUBoDv+fmSeBQAAAAAAAMIFAQs77/yg4gUCY8QBgZkCBQEtx+h+FR4FAoJT/f8JPgUAAAAAAAFiBQELO+/8oYIFAmPEAYGZogUBLcfofhW+BQKCU/3/Cd4FAAAAAAACAgUB6VPzfUYiBQEtx+h+Fj4FAvjEEANeXgUBCzvv/KKCBQNq//F+PqIFAoJT/f8KvgUAenQSAFLiBQJjxAGBmwIFAaA7/n5nHgUAAAAAAANCBQELO+/8o2IFAmPEAYGbggUBLcfofheeBQKCU/3/C74FAAAAAAAD4gUBCzvv/KACCQJjxAGBmCIJAS3H6H4UPgkCglP9/wheCQAAAAAAAIIJAelT831EogkBLcfofhS+CQL4xBADXN4JAQs77/yhAgkDav/xfj0iCQKCU/3/CT4JAHp0EgBRYgkCY8QBgZmCCQGgO/5+ZZ4JAAAAAAABwgkBCzvv/KHiCQJjxAGBmgIJAS3H6H4WHgkCglP9/wo+CQAAAAAAAmIJAQs77/yiggkCY8QBgZqiCQEtx+h+Fr4JAoJT/f8K3gkAAAAAAAMCCQB6dBIAUyIJAQs77/yjQgkB6VPzfUdiCQJjxAGBm4IJA2r/8X4/ogkBLcfofhe+CQGgO/5+Z94JAoJT/f8L/gkC+MQQA1weDQAAAAAAAEINAQs77/ygYg0CY8QBgZiCDQEtx+h+FJ4NAoJT/f8Ivg0AAAAAAADiDQELO+/8oQINAmPEAYGZIg0BLcfofhU+DQKCU/3/CV4NAAAAAAABgg0BCzvv/KGiDQJjxAGBmcINAS3H6H4V3g0CglP9/wn+DQAAAAAAAiINAQs77/yiQg0CY8QBgZpiDQEtx+h+Fn4NAoJT/f8Kng0AAAAAAALCDQB6dBIAUuINAQs77/yjAg0B6VPzfUciDQJjxAGBm0INA2r/8X4/Yg0A=",
          "dtype": "f8"
         },
         "y": {
          "bdata": "cwH4P3HoCkBmwugfaMj5Pybe+7/VT+o/1/oK4JLN1z8oXQ2ghSPQP8cL9z84zs0/MOoQgMN5zj/C+fW/M2zRP1pt83+9tNE/Rx/531/v0T+DnALgKTLSPz/vCqC/wNI/c0wAgM8P1j9dL/p/ltTXPy/O9B+Ny9Y/Fd8CIN112j/FfABg6sfgP2Ew/d+RuOM/aaf6n4nq5D9cJgSgCr7nP6NpAYB5buo/qpD5343u7j/rRRoAnZ7xP7SnIQDxMPQ/CSMUYPok+D/veBRguEj8PxiE9D+5tABAdx8QgGlpA0Anku8f+Q0HQL7H9N/egAxA/TP/vxzhEEDlsAMAKjkUQIIl+T/34xdAeqr330DwHEAc+QAAp9kgQGmjIYAnAyRAVgsNQHr7J0Dr2ubfkf8rQOcS9R8ltjBAw0sNwEidM0BzwAngwQM3QNhFEyDxEjtAxHIRAJikP0A1ewNAU51CQA2WA6B+S0VAedYDIE3zSEDLxwegxbdMQGAsBCBLG1BAOSv93+ySUkDLhPy/bDxVQAyu+79RD1hA1aQloFOlWkB5Fs5/2eNdQDwL57/svmBA65vqf+8qYkCbpQmA1ihkQHd0EgBSu2VANNL3v8icZ0Bl8OZfATNpQKnN7n828WpAFwkSgCRqbEBbfAqAMeJtQAyD6P9LS29APd8FAH0ocEBhEP1/QYRwQANK+f/nBnFAOSv936w9cUAYRP9f0GZxQMXF9v/WZHFA6soMwIuFcUBzVvq/GWpxQMoe/B/bbHFAx9QCIPMZcUCm7QSg1tNwQDGI/r8AjnBAeK//390ecEAlBRbAlI9vQN8YAoBj3G5ANNL3vwgObkD2IRQAiDltQFfIAWCh/mtA5J3oX7cda0DvIxLgzyxqQH005r+RCmlAxS8GIL8/aEBzVvq/GWhnQGVa9n9pdGZAdJHnn4WnZUAAag8gaOBkQFBg8B/BDGRAof4OoLoJY0BMrOf/sEdiQBChAEAEfGFAq0YKwJoDYUD0fBcAdCVgQFBg8B/BB19ABYXm31PUXUCmVxTA3s1cQGwsF+Bx5FtALADXX8DOWkASsAxgAANaQPXj5Z9PLllARycBIN1aWEDp4gTgPmxXQMmgA2D20VZA3rIB4LHrVUAxiP6/4FZVQIFS/v8JslRAB/4BIHgQVED2twTgH3lTQNlBBKA601JAQlADQPRDUkBCzvv/+JdRQKxC+z9kFFFAWpQCoESiUEDMLQhAN+RPQE9k/583805Ac1b6v1kDTkAe3ADglvRMQBefAmC8q0tAx5H3P/rsSkAwYfp/0SpKQCWbBqCsOklA44n/v1pCSEB8+fjfJR5HQNr++L/hxUVANNL3v0hARUBTFPk/UWNEQJ4H+58RwkNAvcsDYFW4QkCglP9/UgJCQDQ8B+AwVUFA08H6PwexQEArWgxgwrY/QH8vCUBxND5AU5YAgIwiPUDfV/7fhZI7QGb/8n/9ZjpA0DT2X8ZsOUDY2wMACXM4QHXj/p+aGzdAVuD5f7QNNkAC5Phftu80QP7cCkAnaDRAqp3+P5BLM0DWdQNgl3syQKDT+990hjFAT6P7/1mzMEAvTRHg9OYvQHxjCACOaS5AXM4hgAbJLEA=",
          "dtype": "f8"
         }
        },
        {
         "line": {
          "color": "#31688e"
         },
         "mode": "lines",
         "name": "λ 490",
         "type": "scatter",
         "x": {
          "bdata": "AAAAAADwfkBqHQvA9QB/QAIPDCBcD39AtY4F4Hogf0BNgAZA4S5/QAAAAAAAQH9A/vDz36NQf0CW4vQ/Cl9/QIarAyCub39AelT831GAf0Czf/m/HpF/QEtx+h+Fn39AOzoJACmwf0Av4wHAzMB/QNEc/j8zz39AAAAAAADgf0D+8PPfo/B/QJbi9D8K/39AvjEEANcHgEBCzvv/KBCAQNq//F+PGIBAoJT/f8IfgEAenQSAFCiAQJjxAGBmMIBAaA7/n5k3gEAAAAAAAECAQLWOBeB6SIBAhqsDIK5PgEBgawCAPViAQCZAA6BwX4BAAAAAAABogEC1jgXgenCAQIarAyCud4BAYGsAgD2AgEAmQAOgcIeAQAAAAAAAkIBAelT831GYgEBLcfofhZ+AQL4xBADXp4BAQs77/yiwgEDav/xfj7iAQKCU/3/Cv4BAHp0EgBTIgECY8QBgZtCAQGgO/5+Z14BAAAAAAADggEB6VPzfUeiAQEtx+h+F74BAvjEEANf3gEBCzvv/KACBQNq//F+PCIFAoJT/f8IPgUAenQSAFBiBQJjxAGBmIIFAaA7/n5kngUAAAAAAADCBQELO+/8oOIFAmPEAYGZAgUBLcfofhUeBQKCU/3/CT4FAAAAAAABYgUBCzvv/KGCBQJjxAGBmaIFAS3H6H4VvgUCglP9/wneBQAAAAAAAgIFAelT831GIgUBLcfofhY+BQL4xBADXl4FAQs77/yiggUDav/xfj6iBQKCU/3/Cr4FAHp0EgBS4gUCY8QBgZsCBQGgO/5+Zx4FAAAAAAADQgUBCzvv/KNiBQJjxAGBm4IFAS3H6H4XngUCglP9/wu+BQAAAAAAA+IFAQs77/ygAgkCY8QBgZgiCQEtx+h+FD4JAoJT/f8IXgkAAAAAAACCCQHpU/N9RKIJAS3H6H4UvgkC+MQQA1zeCQELO+/8oQIJA2r/8X49IgkCglP9/wk+CQB6dBIAUWIJAmPEAYGZggkBoDv+fmWeCQAAAAAAAcIJAQs77/yh4gkCY8QBgZoCCQEtx+h+Fh4JAoJT/f8KPgkAAAAAAAJiCQELO+/8ooIJAmPEAYGaogkBLcfofha+CQKCU/3/Ct4JAAAAAAADAgkAenQSAFMiCQELO+/8o0IJAelT831HYgkCY8QBgZuCCQNq//F+P6IJAS3H6H4XvgkBoDv+fmfeCQKCU/3/C/4JAvjEEANcHg0AAAAAAABCDQELO+/8oGINAmPEAYGYgg0BLcfofhSeDQKCU/3/CL4NAAAAAAAA4g0BCzvv/KECDQJjxAGBmSINAS3H6H4VPg0CglP9/wleDQAAAAAAAYINAQs77/yhog0CY8QBgZnCDQEtx+h+Fd4NAoJT/f8J/g0AAAAAAAIiDQELO+/8okINAmPEAYGaYg0BLcfofhZ+DQKCU/3/Cp4NAAAAAAACwg0AenQSAFLiDQELO+/8owINAelT831HIg0CY8QBgZtCDQNq//F+P2INAS3H6H4Xfg0BoDv+fmeeDQKCU/3/C74NAvjEEANf3g0AAAAAAAACEQB6dBIAUCIRAQs77/ygQhEB6VPzfURiEQJjxAGBmIIRA2r/8X48ohEA=",
          "dtype": "f8"
         },
         "y": {
          "bdata": "DjsAoJKoAkAkMvD/igTzP7pUBaDaa+Q/Unj9/4CS4D8QlPvfAeXgP59sAsA8kuI/SCsFwJv+4z9f6QMgqlzmPxY0BaBFhuo/vQ4EYDaU7z+93+z/sZrxP+PL5p9Qj/M/N8jnv0689j/xReOfBSD7P6IOFEB90P8/8Z37Hx41A0CwIPMf18QGQFV78l8JuApA+QH+38ffD0DJSwHgDVwTQISy/R+4LBdAk8D4//ebG0Bb+gJANoIgQMPK/v9T7SNAeEXwv5UuJ0BSMADgGnYrQIzB/V/5oDBAsfL0372XM0A84xSA8143QJz47n8VNTtAKc0HgAEEQEBwS/0f1O9CQHmXB8Aq/kVABLQIIBAZSkD8dgqgte9NQHS8+l8LaFFAqfgBQDwpVEDxnfsfnotWQFgD7z8NDVpAi5r5H6qfXUBZbf5ftdJgQBS/GIA8tGJAg8sZQC7cZEDlQuVfSzxnQGDVD6DVpGlAcRsN4K0fbED2IRQACK5uQM1o9R/DeHBAmPEAYOaQcUCt6wbAzrdyQAf+ASAYAHRAIef9f7zAdED+8PPfY8l1QGEQ/X8BoXZArpADwMIyd0C1JPa/MsZ3QEtx+h9lFXhAelT831FBeEBOu/MfLap4QCsv+Z8cnHhAwXv9/+5ueEDbZPlfczx4QPlrDQBQ+ndAnoXzXxZmd0BEc/j/bFJ3QMZq8/8Ku3ZAI/YJoLhFdkBt/fSfNep1QPum+t+7LnVAC7IKQEiJdED9tQYAGMtzQDqVDADVKnNAJDH3f2RzckACDwwgPK9xQFlt/l+1KHFAhAYHIDp4cEBjS+pf7XNvQC0+BcA4Ym5AUMr/P6lgbUDNaPUfYzZsQB3J5T9kBWtA6LsAoO/saUCiz+xf/thoQHuP6b899mdAt50RAPcAZ0D8S/ffrwhmQM48FGAzN2VAfGMIAA63ZECNExVgzqhjQJZMBGDy+WJAVbn1P+VuYkDRsu4fC/JhQP0fFiBAZGFAV17yP3mnYEBFGPX/oDBgQMil4N9WLF9AxzvRv+43XkDUktj/ykxdQB3J5T8kaFxAGun7X+SYW0CmVNM/UrtaQODsIMAz7llAqGPfX84DWUCSWf/ff0tYQKvc+p8ygVdAt3L+P3HIVkDR3QHg0B1WQPWQAKBQN1VAcxf+X/d4VECFw/s/wdpTQG8MAcDxCFNAHwMFIGZqUkBxMwUAAepRQMWt/t9DMFFAZNz9v6SEUEAEMgHgVJlPQAglBmAHfU5AISb63z5LTUAlmwagLCtMQLa1CSBK7EpAF97+v17ESUA4xfw/+7NIQECrBkBgvEdAM5cK4Jy4RkACTgiAHrlFQF/tB8Bo3ERA8gP8v4/XQ0DlsAMAqgpDQOfT+L+CTUJA1JEKAGEeQUDTwfo/h5dAQJTmA8CAdz9AWMTy32owPkAUqO5fk/o8QECA83+aijtAU1cEIGpNOkBUU/Wf86o4QDgvDGDjpzdAL2UJAMihNkBMmP5fVLg1QACW8N8XkzRAnnEKwHnQM0DHqe9fzeMyQGxEDwBF6TFA30MVQCkrMUAbkgfgbmwwQLczAuCOeC9AS0bnXz8cLkC5gthfl9EsQFXl1v+UgytAsgUQgLBiKkA=",
          "dtype": "f8"
         }
        },
        {
         "line": {
          "color": "#26828e"
         },
         "mode": "lines",
         "name": "λ 500",
         "type": "scatter",
         "x": {
          "bdata": "HI74X7iOf0BLcfofhZ9/QJoADYDCrX9A0ysKYI++f0DRHP4/M89/QGgO/5+Z3X9AZv/yfz3uf0CW4vQ/Cv9/QL4xBADXB4BAj04CQAoPgEAJo/4fXBeAQKCU/3/CH4BATYAGQOEmgEDrBfqfRy+AQGgO/5+ZN4BAL+MBwMw+gEDRHP4/M0eAQIarAyCuT4BAcbH9v/VWgEAmQAOgcF+AQBX6BWC4ZoBA0Rz+PzNvgECGqwMgrneAQHGx/b/1foBAJkADoHCHgEAV+gVguI6AQLN/+b8el4BAS3H6H4WfgEC+MQQA16eAQI9OAkAKr4BACaP+H1y3gECglP9/wr+AQE2ABkDhxoBA6wX6n0fPgEBoDv+fmdeAQC/jAcDM3oBAs3/5vx7ngEBLcfofhe+AQL4xBADX94BAj04CQAr/gEAJo/4fXAeBQKCU/3/CD4FATYAGQOEWgUDrBfqfRx+BQGgO/5+ZJ4FAL+MBwMwugUCPTgJACjeBQOsF+p9HP4FAS3H6H4VHgUCglP9/wk+BQC/jAcDMVoFAj04CQApfgUDrBfqfR2eBQEtx+h+Fb4FAoJT/f8J3gUAv4wHAzH6BQLN/+b8eh4FAS3H6H4WPgUC+MQQA15eBQI9OAkAKn4FACaP+H1yngUCglP9/wq+BQE2ABkDhtoFA6wX6n0e/gUBoDv+fmceBQC/jAcDMzoFAj04CQArXgUDrBfqfR9+BQEtx+h+F54FAoJT/f8LvgUAv4wHAzPaBQI9OAkAK/4FA6wX6n0cHgkBLcfofhQ+CQKCU/3/CF4JAL+MBwMwegkCzf/m/HieCQEtx+h+FL4JAvjEEANc3gkCPTgJACj+CQAmj/h9cR4JAoJT/f8JPgkBNgAZA4VaCQOsF+p9HX4JAaA7/n5lngkAv4wHAzG6CQI9OAkAKd4JA6wX6n0d/gkBLcfofhYeCQKCU/3/Cj4JAL+MBwMyWgkCPTgJACp+CQOsF+p9Hp4JAS3H6H4WvgkCglP9/wreCQC/jAcDMvoJATYAGQOHGgkCPTgJACs+CQLN/+b8e14JA6wX6n0ffgkAJo/4fXOeCQEtx+h+F74JAaA7/n5n3gkCglP9/wv+CQL4xBADXB4NAL+MBwMwOg0CPTgJACheDQOsF+p9HH4NAS3H6H4Ung0CglP9/wi+DQC/jAcDMNoNAj04CQAo/g0DrBfqfR0eDQEtx+h+FT4NAoJT/f8JXg0Av4wHAzF6DQI9OAkAKZ4NA6wX6n0dvg0BLcfofhXeDQKCU/3/Cf4NAL+MBwMyGg0CPTgJACo+DQOsF+p9Hl4NAS3H6H4Wfg0CglP9/wqeDQC/jAcDMroNATYAGQOG2g0CPTgJACr+DQLN/+b8ex4NA6wX6n0fPg0AJo/4fXNeDQEtx+h+F34NAaA7/n5nng0CglP9/wu+DQL4xBADX94NAL+MBwMz+g0BNgAZA4QaEQI9OAkAKD4RAs3/5vx4XhEDrBfqfRx+EQAmj/h9cJ4RAS3H6H4UvhEBoDv+fmTeEQKCU/3/CP4RAvjEEANdHhEAv4wHAzE6EQE2ABkDhVoRA",
          "dtype": "f8"
         },
         "y": {
          "bdata": "UgT0n47zBED4A/DfVFUAQFRoAkBzSP4/guQK4EcEAEAuvP1/vUoDQJtnBqA6xgVAGoAQQJ8pCkBXcgZgst4PQNbM99+MzhJAqSH4f9jdFUDeRgDAfMsaQKepAECXUSBAGO/832cII0C+BvE/Ad0mQCcR4V8EbStAOzoJAOkBMED0JvF/aCkzQKLiBwDx7TZA/YrzPxKlOkCSmPs/4ss/QCkMBOCjLUJA0oL+3+S+RUDp4gTg/s1JQOB+AiBVgE1A9FEEQG6GUUCfbfs/g+1TQHYKA+Ap8FZAlXjlH6JJWkA3HzJA/X5eQJ/vAoB+EGFAJQUWwFRdY0BOJQNAVfZlQDbhA+DEGGhAizDq/4ESa0Am1vN/GDluQF7GA4CZTHBAWW3+XzXrcUDMLQhA90hzQHz5+N/Ft3RA2r/8Xz/rdUAcjvhfuH53QELO+/94knhATrvzH41ieUBm//J/fXR6QANK+f8HMXtAi5r5HyrXe0BNgAZAIYx8QLN/+b8e23xATYAGQCEcfUCUpwdgniF9QMF7/f/OGX1AwyD6/6K5fEA/hAIA0Ud8QGJ6DKApFXxAI4z6f7Ble0A6lQwA1Y96QDkr/d9MKnpARRj1/wCjeUCnkgGgCul4QN+u8l/7EXhA7ar2n2s/d0DIef8fR5F2QGVa9n/pDnZAQs77/9gWdUCr3PqfMj50QNq//F9fS3NAhAYHIBqRckAtPgXAmOxxQFwhB4AlPXFAMYj+v4BucEDFmRVAJ+JvQB6dBIB0em5AQmTs39AubUDlQuVfCwpsQMOKCSAryGpAqaENwMYZakB3dBIA0htpQIG8DSDy5WdAQjgLIGHwZkB1ZQbgFTNmQAdoEUCgnmVAE1UJYFTAZECEnPf/8R1kQLRTGADPj2NAKSDtfwADY0C8IvjfSm1iQGxY+J/hvmFAZv/yf708YUBs7uh/+bBgQLWOBeC6R2BACt7r//dQX0DN/uX/eoBeQBWQ9j/AVl1ARuwTQDFYXEBVT+YffY9bQE+PEmD9AltAP1ghQGHqWUDi+yzgrxVZQGZC/l+WJlhA4H4CIJUpV0CeB/uf0TJWQOOJ/79acVVA9x0FgFGdVEBnqP7/B/xTQEFo+1/HSVNADjsAoNJlUkDG7Po/5vxRQKxC+z/kFFFAKOX/n9R4UEA70PnfgIRPQFUjBWBNTk5A/Ev33+9HTUBWof0fkoxLQCozCCBzmEpA5HEHoAdQSUACpfz/k0pIQJB1BoAJS0dAY3b9H7NaRkDn0/i/AldFQGaB+r+4RERAvOP7fyiBQ0AtPgXA+LBCQKysCmAMyEFAv5cEoLjhQECBUv7/yXJAQGqfEgCxvj5Alwn5f1lsPUDWzPffjAE8QE+j+/9ZrTpAjX7yf2BcOUCveAug70E4QH1LEOC6EDdA6KMIgFwrNkBPOezfce40QN3K+f/EAjRARHP4/8x7M0CzqgyARIIyQCaX9x822TFAlOYDwIABMUBmrA2AflEwQARG6n+x/S5AhDLo34nULUALROyf6YksQM1AI+ApUStAMxUDoGEMKkBI+x9grWIpQA+5+F/XHChA",
          "dtype": "f8"
         }
        },
        {
         "line": {
          "color": "#1f9e89"
         },
         "mode": "lines",
         "name": "λ 510",
         "type": "scatter",
         "x": {
          "bdata": "CaP+H1wXgECglP9/wh+AQE2ABkDhJoBA6wX6n0cvgEBoDv+fmTeAQC/jAcDMPoBA0Rz+PzNHgECGqwMgrk+AQHGx/b/1VoBAJkADoHBfgEAV+gVguGaAQNEc/j8zb4BAhqsDIK53gEBxsf2/9X6AQCZAA6Bwh4BAFfoFYLiOgECzf/m/HpeAQEtx+h+Fn4BA91wB4KOmgECPTgJACq+AQAmj/h9ct4BAoJT/f8K/gEBNgAZA4caAQOsF+p9Hz4BAaA7/n5nXgEAv4wHAzN6AQLN/+b8e54BAS3H6H4XvgED3XAHgo/aAQI9OAkAK/4BACaP+H1wHgUCglP9/wg+BQE2ABkDhFoFA6wX6n0cfgUBoDv+fmSeBQC/jAcDMLoFAj04CQAo3gUDrBfqfRz+BQEtx+h+FR4FAoJT/f8JPgUAv4wHAzFaBQI9OAkAKX4FA6wX6n0dngUBLcfofhW+BQKCU/3/Cd4FAL+MBwMx+gUCzf/m/HoeBQEtx+h+Fj4FA91wB4KOWgUCPTgJACp+BQAmj/h9cp4FAoJT/f8KvgUBNgAZA4baBQOsF+p9Hv4FAaA7/n5nHgUAv4wHAzM6BQI9OAkAK14FA6wX6n0ffgUBLcfofheeBQKCU/3/C74FAL+MBwMz2gUCPTgJACv+BQOsF+p9HB4JAS3H6H4UPgkCglP9/wheCQC/jAcDMHoJAs3/5vx4ngkBLcfofhS+CQPdcAeCjNoJAj04CQAo/gkAJo/4fXEeCQKCU/3/CT4JATYAGQOFWgkDrBfqfR1+CQGgO/5+ZZ4JAL+MBwMxugkCPTgJACneCQOsF+p9Hf4JAS3H6H4WHgkCglP9/wo+CQC/jAcDMloJAj04CQAqfgkDrBfqfR6eCQEtx+h+Fr4JAoJT/f8K3gkAv4wHAzL6CQE2ABkDhxoJAj04CQArPgkCzf/m/HteCQOsF+p9H34JACaP+H1zngkBLcfofhe+CQGgO/5+Z94JAoJT/f8L/gkAV+gVguAaDQC/jAcDMDoNAj04CQAoXg0DrBfqfRx+DQEtx+h+FJ4NAoJT/f8Ivg0Av4wHAzDaDQI9OAkAKP4NA6wX6n0dHg0BLcfofhU+DQKCU/3/CV4NAL+MBwMxeg0CPTgJACmeDQOsF+p9Hb4NAS3H6H4V3g0CglP9/wn+DQC/jAcDMhoNAj04CQAqPg0DrBfqfR5eDQEtx+h+Fn4NAoJT/f8Kng0Av4wHAzK6DQE2ABkDhtoNAj04CQAq/g0Czf/m/HseDQOsF+p9Hz4NACaP+H1zXg0BLcfofhd+DQGgO/5+Z54NAoJT/f8Lvg0AV+gVguPaDQC/jAcDM/oNATYAGQOEGhECPTgJACg+EQLN/+b8eF4RA6wX6n0cfhEAJo/4fXCeEQEtx+h+FL4RAaA7/n5k3hECglP9/wj+EQBX6BWC4RoRAL+MBwMxOhEBNgAZA4VaEQA==",
          "dtype": "f8"
         },
         "y": {
          "bdata": "Tnz3vwrZJEC8YfQ/bWonQF4FAOA7vipANuED4ESpL0BK8wFgwN4yQNHdAeDQHjZAZv/yf/3MOkD66QXA9Lc/QNCeBYCuZ0JAJgEHQB4hRkBiuQgAzG9JQFOWAIAMS05ADvwDQHD6UUA0k/tfpqlUQEfoBMD6blhASGUvgBWjW0CEMujfia5fQOQH+H8fRGJAMsPrnwzTZECr3PqfstNnQBFG/T8Y32pAFL8YgLx6bkAM7fcfFLZwQOas9H8TsHJAWW3+XzXudEC+x/Tf/qN2QHPACeDh53hAvCL434rUekCk3vh/Old8QB9CAYAofn5AtzMC4D4kgEARRv0/yP+AQAmj/h8sqIFANuED4IRegkBgawCArcuCQGO1+X9VEYNAQs77/9h6g0Cy2vy/muqDQH+tAQDGDYRAE+v5P/wJhEBGggQgOeWDQOJi+397yINArpADwKKRg0CiOfx/1jKDQGBrAIBN2oJAdgoD4KmXgkD2twTgX0CCQAVZBSBkj4FAEUb9PzhWgUA4hgDg6MqAQMfUAiAjL4BAOIYA4Jgef0At1PWfkPl9QGEQ/X+h7nxAFfoFYIjJe0A5K/3fzM96QJZMBGByyHlArpADwMKreEDKiAtAQ8t3QLJEDODyv3ZAu+cKAD8DdkCPTgJAOkR1QFR+CGDZcXRA367yXztzc0BFGPX/AKpyQNEc/j/TGXJAi5r5HwpTcUASsAxgwLJwQAKl/P/TEnBAGa4OgPgZb0BSb/w//b9tQLN/+b9+HW1AOpUMABVAbECk3vh/ejhrQIFS/v/JQGpAUGDwHwGuaUC/bPHf8qVoQLJEDOBSy2dAFfoFYGgKZ0D5l+6/31dmQCh78H8s62VASWLu/wgLZUCZlv1fWmFkQLtRGiAHy2NAiwQJQNIcY0BwdhDgmbliQN8YAoBj+GFAqPwQwLJVYUDV0AZgw55gQPNqyl9r/l9AqxopAOsrX0DA1gAA28ldQN0J9l/n4FxAAGoPIGiqW0B2NuSfmepaQAuyCkDIiVlAIk3+H46wWECy2vy/KstXQBU5AsCKzFZAUIsD4IbUVUADjQTggABVQEQcBIDXDFRAny7/3yAUU0Btf/zfMFpSQMuE/L+seFFA2+YAoM6/UEAb0QNAET1QQJGcCsBYwE5AiXcEYFEmTUDCYwXgGzlMQI8PBuAXK0tAtor2X4S8SUBBp/e/aZxIQNFb+p8VTkdAHDcE4AJtRkA7D/Y/o2NFQEvbCUBtSURAmPEAYIYvQ0BLsPZ/pz9CQGP09d/3h0FAzMP4H0/jQEDf2QUgwSdAQEd+9Z/SwD5A4NX2n8pmPUAnqhLAKGo8QACW8N8XEjtAV17yP/nrOUCesAYgnJw4QK6QA8DCjTdAYNUPoJWcNkAvZQkAyME1QN5bDWD8xTRAZVr2f2miM0D7pvrfW8wyQKhP9r/xbzJAQo//nxZlMUAWNfM/VMAwQA==",
          "dtype": "f8"
         }
        },
        {
         "line": {
          "color": "#35b779"
         },
         "mode": "lines",
         "name": "λ 515",
         "type": "scatter",
         "x": {
          "bdata": "AAAAAABAgEC1jgXgekiAQIarAyCuT4BAYGsAgD1YgEAmQAOgcF+AQAAAAAAAaIBAtY4F4HpwgECGqwMgrneAQGBrAIA9gIBAJkADoHCHgEAAAAAAAJCAQHpU/N9RmIBAS3H6H4WfgEC+MQQA16eAQELO+/8osIBA2r/8X4+4gECglP9/wr+AQB6dBIAUyIBAmPEAYGbQgEBoDv+fmdeAQAAAAAAA4IBAelT831HogEBLcfofhe+AQL4xBADX94BAQs77/ygAgUDav/xfjwiBQKCU/3/CD4FAHp0EgBQYgUCY8QBgZiCBQGgO/5+ZJ4FAAAAAAAAwgUBCzvv/KDiBQJjxAGBmQIFAS3H6H4VHgUCglP9/wk+BQAAAAAAAWIFAQs77/yhggUCY8QBgZmiBQEtx+h+Fb4FAoJT/f8J3gUAAAAAAAICBQHpU/N9RiIFAS3H6H4WPgUC+MQQA15eBQELO+/8ooIFA2r/8X4+ogUCglP9/wq+BQB6dBIAUuIFAmPEAYGbAgUBoDv+fmceBQAAAAAAA0IFAQs77/yjYgUCY8QBgZuCBQEtx+h+F54FAoJT/f8LvgUAAAAAAAPiBQELO+/8oAIJAmPEAYGYIgkBLcfofhQ+CQKCU/3/CF4JAAAAAAAAggkB6VPzfUSiCQEtx+h+FL4JAvjEEANc3gkBCzvv/KECCQNq//F+PSIJAoJT/f8JPgkAenQSAFFiCQJjxAGBmYIJAaA7/n5lngkAAAAAAAHCCQELO+/8oeIJAmPEAYGaAgkBLcfofhYeCQKCU/3/Cj4JAAAAAAACYgkBCzvv/KKCCQJjxAGBmqIJAS3H6H4WvgkCglP9/wreCQAAAAAAAwIJAHp0EgBTIgkBCzvv/KNCCQHpU/N9R2IJAmPEAYGbggkDav/xfj+iCQEtx+h+F74JAaA7/n5n3gkCglP9/wv+CQL4xBADXB4NAAAAAAAAQg0BCzvv/KBiDQJjxAGBmIINAS3H6H4Ung0CglP9/wi+DQAAAAAAAOINAQs77/yhAg0CY8QBgZkiDQEtx+h+FT4NAoJT/f8JXg0AAAAAAAGCDQELO+/8oaINAmPEAYGZwg0BLcfofhXeDQKCU/3/Cf4NAAAAAAACIg0BCzvv/KJCDQJjxAGBmmINAS3H6H4Wfg0CglP9/wqeDQAAAAAAAsINAHp0EgBS4g0BCzvv/KMCDQHpU/N9RyINAmPEAYGbQg0Dav/xfj9iDQEtx+h+F34NAaA7/n5nng0CglP9/wu+DQL4xBADX94NAAAAAAAAAhEAenQSAFAiEQELO+/8oEIRAelT831EYhECY8QBgZiCEQNq//F+PKIRAS3H6H4UvhEBoDv+fmTeEQKCU/3/CP4RAvjEEANdHhEAAAAAAAFCEQA==",
          "dtype": "f8"
         },
         "y": {
          "bdata": "e3sAIGE7O0DOj/lfMuE/QJ0LCiCIpkJAk4ADII8cRkD8dgqgNdRJQCwXAYCpXk5A8yoAAJ8XUkDU6P5/VgVVQOZVAAB+6VhAw4oJIOutXEBNgAZAQdVgQLFw7Z+CNmNAJDH3f8SQZUCdtBWg0u1oQNiw8D8DiGxAsDUAwJYQcEDFLwYgf9ZxQA6S9B+otnNAZVr2fylpdkD+WgMAbJZ4QI2pBUDGCHtA2BoAYGuSfUCwNQDAVqB/QH+tAQBm9oBAIef9fywDgkCIUAAgAh6DQI9OAkAa9YNADvwDQDDthEAtPgXA6LCFQHVlBuAFR4ZAj04CQJq6hkCNqQVA9lGHQOYWBKDrjYdAH0IBgDith0DfGAKA88GHQN8YAoCjh4dAGun7X8Rvh0AqivyfuP2GQE4lA0Clx4ZAcbH9v3V4hkARRv0/KOeFQAf+ASAoSoVAmZb9XwrdhEBXyAFgwQSEQO0UBsDTkYNAlkwEYJLlgkCD9/r/PU+CQA78A0DQooFAz3cBQG8dgUAh5/1/bIuAQHNW+r85jX9A6wX6n3dGfkCukAPAwiN9QFR+CGA5EXxAs3/5v/7HekB2oPO/Qbh5QLfJ8r+m2nhAj04CQLq8d0AV+gVgSPF2QIpfDED++HVAresGwI7pdEBqs/ufzTN0QGgO/5/5k3NAwyD6/4LNckCIUAAg4iJyQN1zBYCvi3FAE+v5P4whcUBnaQKg5YhwQOJi+38LxW9A+3oZIGzubkDi+OtfY9ltQLyMBwAz+GxAos/sX34cbEBzVvq/WWBrQAzt9x90a2pAj7gRYCKOaUBu0RPgRbtoQCjl/5/UAGhAelT839EkZ0BxGw3g7Z1mQMnjDkBPl2VAhkH0/8USZUCwy/CfbllkQGGm7V+Zr2NAxPQYQBPCYkAPN/EfHF1iQNZ1A2BXg2FAvsf0394PYUBQYPAfgV1gQOKO3D87UV9AFfoFYCg9XkCAgSBAhgtdQG0p1l9lpltA9h7Tf/vyWkCbpQmAFoVZQFU7/X9gPFhAXDn/n1iHV0BMWQIAsntWQC68/X/9lFVAdaQCQDiZVEBJjQHADqtTQPNp/F9B4VJAfkcBYEQoUkCFhP/fHmRRQD+EAgBRnFBA4WYKAAKAT0CyWPV/rwROQC77+d/f+kxABHH9P3fRS0BCj/+fFkpKQHoVAIBvDUlAG5IH4G7OR0AkMfd/RMRGQGTc/b+krkVAUAn8n0uORECIj/x/pMVDQJ5G9/+zA0NAyt//vxgqQkDjSgNgOChBQM3q/F+ec0BAtzMC4I6tP0Btf/zf8HU+QFz287+/MD1AZ6j+/wftO0Bt/fSfNWY6QLPW7T90izlAZoH6v7iHOEBwdhDgmWM3QHFyAWAjXzZAg7TvH0WDNUC4L/NfGPM0QA==",
          "dtype": "f8"
         }
        },
        {
         "line": {
          "color": "#6ece58"
         },
         "mode": "lines",
         "name": "λ 520",
         "type": "scatter",
         "x": {
          "bdata": "AAAAAABogEC1jgXgenCAQIarAyCud4BAYGsAgD2AgEAmQAOgcIeAQAAAAAAAkIBAelT831GYgEBLcfofhZ+AQL4xBADXp4BAQs77/yiwgEDav/xfj7iAQKCU/3/Cv4BAHp0EgBTIgECY8QBgZtCAQGgO/5+Z14BAAAAAAADggEB6VPzfUeiAQEtx+h+F74BAvjEEANf3gEBCzvv/KACBQNq//F+PCIFAoJT/f8IPgUAenQSAFBiBQJjxAGBmIIFAaA7/n5kngUAAAAAAADCBQELO+/8oOIFAmPEAYGZAgUBLcfofhUeBQKCU/3/CT4FAAAAAAABYgUBCzvv/KGCBQJjxAGBmaIFAS3H6H4VvgUCglP9/wneBQAAAAAAAgIFAelT831GIgUBLcfofhY+BQL4xBADXl4FAQs77/yiggUDav/xfj6iBQKCU/3/Cr4FAHp0EgBS4gUCY8QBgZsCBQGgO/5+Zx4FAAAAAAADQgUBCzvv/KNiBQJjxAGBm4IFAS3H6H4XngUCglP9/wu+BQAAAAAAA+IFAQs77/ygAgkCY8QBgZgiCQEtx+h+FD4JAoJT/f8IXgkAAAAAAACCCQHpU/N9RKIJAS3H6H4UvgkC+MQQA1zeCQELO+/8oQIJA2r/8X49IgkCglP9/wk+CQB6dBIAUWIJAmPEAYGZggkBoDv+fmWeCQAAAAAAAcIJAQs77/yh4gkCY8QBgZoCCQEtx+h+Fh4JAoJT/f8KPgkAAAAAAAJiCQELO+/8ooIJAmPEAYGaogkBLcfofha+CQKCU/3/Ct4JAAAAAAADAgkAenQSAFMiCQELO+/8o0IJAelT831HYgkCY8QBgZuCCQNq//F+P6IJAS3H6H4XvgkBoDv+fmfeCQKCU/3/C/4JAvjEEANcHg0AAAAAAABCDQELO+/8oGINAmPEAYGYgg0BLcfofhSeDQKCU/3/CL4NAAAAAAAA4g0BCzvv/KECDQJjxAGBmSINAS3H6H4VPg0CglP9/wleDQAAAAAAAYINAQs77/yhog0CY8QBgZnCDQEtx+h+Fd4NAoJT/f8J/g0AAAAAAAIiDQELO+/8okINAmPEAYGaYg0BLcfofhZ+DQKCU/3/Cp4NAAAAAAACwg0AenQSAFLiDQELO+/8owINAelT831HIg0CY8QBgZtCDQNq//F+P2INAS3H6H4Xfg0BoDv+fmeeDQKCU/3/C74NAvjEEANf3g0AAAAAAAACEQB6dBIAUCIRAQs77/ygQhEB6VPzfURiEQJjxAGBmIIRA2r/8X48ohEBLcfofhS+EQGgO/5+ZN4RAoJT/f8I/hEC+MQQA10eEQAAAAAAAUIRA",
          "dtype": "f8"
         },
         "y": {
          "bdata": "ZQMCAHR4UUBeBQDge35UQOvG/T+1qVdAy4XKv5YLXEB4RfC/lTtgQB9CAYAIBWNAcbH9v4X2ZUDqygzAK41oQKk3/p/eXGxAPhrz30gpcEATVQlgNEZyQKeSAaBqSXRABVkFIMTPdkBnaQKgBXR5QKk3/p+e0HtAPXX233TFfkBGggQgudCAQMfUAiAT84FAcbH9vyVIg0A5K/3fvLeEQNEc/j+DzYVAarP7n83ehkB9CAUAstGHQLnY/t8SzYhA2BoAYKtPiUAYRP9fMAqKQAAAAACgbIpAtzMC4H7nikCGqwMg7uyKQL4xBACHBYtA3XMFgB/fikCWTARg4rWKQM7SBEC7V4pAztIEQDsMikDPdwFAz32JQOsF+p/XAolA0Rz+P5OJiEB/rQEAxuCHQDvQ+d+AEodAf60BAFZGhkAmQAOggJqFQMDWAABL0IRAB/4BIFgchECf7wKArlCDQOJi+38rzoJAx9QCIIPIgUC1jgXgijyBQEcnASBdhoBACaP+HwwIgEA0PAfg8KV+QLWOBeB6e31A6wX6nzc5fECLmvkfKgp7QBKwDGDAHnpA1Gb3P1sneUAKSPsfgC14QO0UBsDTMHdAzWj1H8N3dkACDwwgvJ51QD4a89/ot3RA6soMwOsYdECiowugTpZzQNzOCID7E3NACaP+Hww4ckDA1gAAW7txQINhCiCmNHFAc1b6v5mEcEAT6/k/DDdwQCHn/X9cVW9A0Rz+PzOXbkDfrvJf+2ttQAmj/h9MgGxAI/YJoBhna0Cpze5/dqRqQLW65p+q2WlATeoVYCkGaUA0aOifoCdoQAIPDCC8bGdAIX3uX3STZkAlBRbAFJ5lQL32FiCbAmVAcUfun505ZECnkgGgSqZjQIsECUBSvWJAg/f6/13uYUAzARoABS5hQNlV7T/XgWBA5oATwIOmX0AlmwagrIteQFlBHaDFVl1ANxzxv/AGXEA5we2/hOtaQCZAA6DA7VlA6LsAoO+rWEARRv0/GLhXQEDqAqDC0FZAHDcE4MKqVUBuZwTA3atUQF3e+59s91NAraj739XoUkCMQwWg9ExSQHYKA+BpUFFAb80EYI9YUED9cvsfv79PQKn4AUB8YE5Aonj434ihTEBV5AgAq11LQOkhAUCh5klA3xgCgGPhSEAfQgGACKdHQEyY/l/Ud0ZARsEAgOvCRUBKdQmge8NEQNGa9v8320NA/4EHQLvhQkDVDwPApXRCQKysCmCMgEFA5z0I4OqbQEBlxAWgUfA/QCkg7X+AUj5Ad/IKwBYbPUDlsAMAKjU8QE76739PvjpA578PIKaUOUDxG/TfYkk4QN7G6n9O+zdA",
          "dtype": "f8"
         }
        },
        {
         "line": {
          "color": "#b5de2b"
         },
         "mode": "lines",
         "name": "λ 526",
         "type": "scatter",
         "x": {
          "bdata": "s3/5vx6XgEBLcfofhZ+AQPdcAeCjpoBAj04CQAqvgEAJo/4fXLeAQNq//F+PvoBATYAGQOHGgEDrBfqfR8+AQGgO/5+Z14BAL+MBwMzegECzf/m/HueAQEtx+h+F74BA91wB4KP2gECPTgJACv+AQAmj/h9cB4FA2r/8X48OgUBNgAZA4RaBQOsF+p9HH4FAaA7/n5kngUAv4wHAzC6BQI9OAkAKN4FA6wX6n0c/gUBLcfofhUeBQNq//F+PToFAL+MBwMxWgUCPTgJACl+BQOsF+p9HZ4FAS3H6H4VvgUDav/xfj3aBQC/jAcDMfoFAs3/5vx6HgUBLcfofhY+BQPdcAeCjloFAj04CQAqfgUAJo/4fXKeBQNq//F+ProFATYAGQOG2gUDrBfqfR7+BQGgO/5+Zx4FAL+MBwMzOgUCPTgJACteBQOsF+p9H34FAS3H6H4XngUDav/xfj+6BQC/jAcDM9oFAj04CQAr/gUDrBfqfRweCQEtx+h+FD4JA2r/8X48WgkAv4wHAzB6CQLN/+b8eJ4JAS3H6H4UvgkD3XAHgozaCQI9OAkAKP4JACaP+H1xHgkDav/xfj06CQE2ABkDhVoJA6wX6n0dfgkBoDv+fmWeCQC/jAcDMboJAj04CQAp3gkDrBfqfR3+CQEtx+h+Fh4JA2r/8X4+OgkAv4wHAzJaCQI9OAkAKn4JA6wX6n0engkBLcfofha+CQNq//F+PtoJAL+MBwMy+gkBNgAZA4caCQI9OAkAKz4JAs3/5vx7XgkDrBfqfR9+CQAmj/h9c54JAS3H6H4XvgkBoDv+fmfeCQNq//F+P/oJAFfoFYLgGg0Av4wHAzA6DQI9OAkAKF4NA6wX6n0cfg0BLcfofhSeDQNq//F+PLoNAL+MBwMw2g0CPTgJACj+DQOsF+p9HR4NAS3H6H4VPg0Dav/xfj1aDQC/jAcDMXoNAj04CQApng0DrBfqfR2+DQEtx+h+Fd4NA2r/8X49+g0Av4wHAzIaDQI9OAkAKj4NA6wX6n0eXg0BLcfofhZ+DQNq//F+PpoNAL+MBwMyug0BNgAZA4baDQI9OAkAKv4NAs3/5vx7Hg0DrBfqfR8+DQAmj/h9c14NAS3H6H4Xfg0BoDv+fmeeDQNq//F+P7oNAFfoFYLj2g0Av4wHAzP6DQE2ABkDhBoRAj04CQAoPhECzf/m/HheEQOsF+p9HH4RACaP+H1wnhEBLcfofhS+EQGgO/5+ZN4RA2r/8X48+hEAV+gVguEaEQC/jAcDMToRATYAGQOFWhEA=",
          "dtype": "f8"
         },
         "y": {
          "bdata": "plcUwF43aEAsmQjAJI5rQOYWBKCbKW9AbMIHwMm9cUC8jAcAMzp0QKyB95+GTHZA8m0L4Nf9eEDhvf5/lw18QPBe/7/bZH9Ayh78H2vdgEAyLfu/lLuCQMUvBiCvJ4RADvwDQKBGhUC52P7fos2GQLWOBeD6NohAf60BAMZAiUCR8/4/TlmKQCjl/58kcotAGET/X1AhjEAAAAAAYOSMQIarAyDug41Ax9QCIKPHjUCBUv7/GQWOQMF7/f8+/o1ARoIEIBkVjkCPTgJAmneNQMF7/f8ee41AEKEAQOTejEDIef8fB4mMQJs7+l8e9ItAF58CYDxvi0BzVvq/iW2KQLWOBeDqxIlAsDUAwBb0iEB/rQEAJjmIQO0UBsDjWIdAPd8FAJ2nhkDbZPlfw/OFQCqK/J+4NYVAcbH9v0UghED5Af7fx4GDQGBrAIDNzIJAg/f6/832gUAtPgXASHWBQKvc+p+iooBAz3cBQL/if0BVufU/5TZ+QERz+P/shH1A6soMwItXfECnkgGg6tt6QD3fBQDdIXpAS9sJQK1EeUBXyAFgAZ54QD4a899IeXdAZVr2f6nkdkACDwwg3Ph1QGBrAIDtPHVAztIEQAuTdEDFxfb/Vt9zQHX79r+tS3NACkj7H4CfckBE3QcgNQpyQOsF+p8XeXFAskQM4BITcUCr3PqfsoxwQCOM+n9w8W9ADIPo/4vZbkBQYPAfQR9uQAmj/h8MQm1AU6rpH6kJbEARRv0/WPxqQEtx+h+FX2pABe/1/zuTaUBVufU/5W9oQJmW/V+aimdA5oATwMPAZkAEtAggEOJlQGwsF+DxImVAlXjlH+JqZEAbvRqg9IRjQIZB9P9Ft2JABsMUQEwLYkA1phYAmWFhQLtRGiCHwGBAP+4RIPkLYEAGKuPfZ51eQN2f5j//e11AGycqwJwgXECAft+/+R9bQNqTG6CP1llA2yX9/zDHWEA5K/3fbKxXQMQIAuBvjlZAOMX8PzuuVUCY8QBgBrNUQMm4+39JpVNAEUb9P1i5UkB7ewAg4exRQAf+ASC4KlFAFTkCwEpgUEBIZv1/fw1PQCJl9j9hJE1A9Q75XxVHTEDSQwKAwvdKQIETAqAn4ElAXd77n+zCSEBvJPnfhIxHQPVN9b83sUZA8+sDoDx7RUDTqQIgNJJEQE/i9198yUNAhYT/357QQkBrXAcgGLdBQLiZAoCAR0FAzKsAAHx0QEBdCQ9gso8/QBbiDUDVvT1ASQv6f5P9PEB9SxDguvI7QOqHAeASwjpA1bgOQDChOUA=",
          "dtype": "f8"
         }
        },
        {
         "line": {
          "color": "#fde725"
         },
         "mode": "lines",
         "name": "λ 530",
         "type": "scatter",
         "x": {
          "bdata": "CaP+H1y3gECglP9/wr+AQE2ABkDhxoBA6wX6n0fPgEBoDv+fmdeAQC/jAcDM3oBAs3/5vx7ngEBLcfofhe+AQPdcAeCj9oBAj04CQAr/gEAJo/4fXAeBQKCU/3/CD4FATYAGQOEWgUDrBfqfRx+BQGgO/5+ZJ4FAL+MBwMwugUCPTgJACjeBQOsF+p9HP4FAS3H6H4VHgUCglP9/wk+BQC/jAcDMVoFAj04CQApfgUDrBfqfR2eBQEtx+h+Fb4FAoJT/f8J3gUAv4wHAzH6BQLN/+b8eh4FAS3H6H4WPgUD3XAHgo5aBQI9OAkAKn4FACaP+H1yngUCglP9/wq+BQE2ABkDhtoFA6wX6n0e/gUBoDv+fmceBQC/jAcDMzoFAj04CQArXgUDrBfqfR9+BQEtx+h+F54FAoJT/f8LvgUAv4wHAzPaBQI9OAkAK/4FA6wX6n0cHgkBLcfofhQ+CQKCU/3/CF4JAL+MBwMwegkCzf/m/HieCQEtx+h+FL4JA91wB4KM2gkCPTgJACj+CQAmj/h9cR4JAoJT/f8JPgkBNgAZA4VaCQOsF+p9HX4JAaA7/n5lngkAv4wHAzG6CQI9OAkAKd4JA6wX6n0d/gkBLcfofhYeCQKCU/3/Cj4JAL+MBwMyWgkCPTgJACp+CQOsF+p9Hp4JAS3H6H4WvgkCglP9/wreCQC/jAcDMvoJATYAGQOHGgkCPTgJACs+CQLN/+b8e14JA6wX6n0ffgkAJo/4fXOeCQEtx+h+F74JAaA7/n5n3gkCglP9/wv+CQBX6BWC4BoNAL+MBwMwOg0CPTgJACheDQOsF+p9HH4NAS3H6H4Ung0CglP9/wi+DQC/jAcDMNoNAj04CQAo/g0DrBfqfR0eDQEtx+h+FT4NAoJT/f8JXg0Av4wHAzF6DQI9OAkAKZ4NA6wX6n0dvg0BLcfofhXeDQKCU/3/Cf4NAL+MBwMyGg0CPTgJACo+DQOsF+p9Hl4NAS3H6H4Wfg0CglP9/wqeDQC/jAcDMroNATYAGQOG2g0CPTgJACr+DQLN/+b8ex4NA6wX6n0fPg0AJo/4fXNeDQEtx+h+F34NAaA7/n5nng0CglP9/wu+DQBX6BWC49oNAL+MBwMz+g0BNgAZA4QaEQI9OAkAKD4RAs3/5vx4XhEDrBfqfRx+EQAmj/h9cJ4RAS3H6H4UvhEBoDv+fmTeEQKCU/3/CP4RAFfoFYLhGhEAv4wHAzE6EQE2ABkDhVoRA",
          "dtype": "f8"
         },
         "y": {
          "bdata": "628JwH+Hc0AaUwuATNx1QGO1+X+V/HdADFcHQJzxekD7EAoApGJ+QMh5/x9nQ4BAEKEAQITagUAo5f+fhE6DQGEQ/X8RWoRA08H6P1fyhUBOJQNAlUqHQP21BgDIbohAcbH9v/V3iUBaEvtfqVKKQI9OAkBKNotA0Rz+P+PZi0DouwCgLzSMQO+5AsCHV4xAhqsDID7ejEBCzvv/yOuMQKvc+p+itYxA08H6PwfEjEAT6/k/DF2MQJHz/j9+6otAIef9f3xxi0C3MwLgjgKLQIr1/B/mQYpAScz9H0HMiUDfGAKAc0yJQO0UBsDzPohA8F7/v0uYh0Av4wHAjNGGQM93AUCf+IVAyHn/H4dDhUCglP9/sliEQE4lA0ClpoNADvwDQPDggkCPTgJAuieCQCHn/X/sZoFAmZb9XyqjgECNqQVAxlCAQFUjBWCtFn9At8nyv8aOfUAh5/1//F58QKCU/38yYHtAz3cBQB9mekCK9fwfVl15QDbhA+CkYXhA7k/zn393d0AxiP6/QLx2QIFS/v9J4XVAJtbzf3g9dUD+WgMALKx0QBY18z805nNA08H6P+d+c0C06Qjg5tVyQIarAyCOMnJAdgoD4GmRcUAsmQjABPpwQFDK/z8phXBAxcX2/3YAcEC+x/Tfnu1uQN1zBYCP6G1Ayh78H3v5bEAAlvDflzJsQMZq8/9qj2tAL3nyn6SGakD5l+6/n29pQGUuFcD5uWhAcUfun920Z0DaKQyA5/VmQN2f5j8/52VAFWQVgNAjZUC4bu+/ep5kQEtFGWAV12NAstr8vyrlYkAx8g3gCEViQOPMCqDziWFAtST2v5K9YEBbUCnAQftfQMuFyr8Wal9AdJHnn4UcXkA9dfbflG1cQKING8A2GVtAWdcNgN0QWkCrsBngAglZQEfoBMC661dAwBX9X/0NV0CywgSgl9hVQFv6AkB2sFRAovr/HwTxU0ANFPxfQ/9SQOLkAsAGLVJAd0n/P4xKUUBCj/+f1ndQQAPMAEDji09AEOD8n6ZeTkDPOAXgPNRMQPQSCOCLYEtA8B8DYNn9SUCu5/c/OCtJQBNVCWCU+kdAfZ7137khR0BalAKgRNpFQII6BuB280RAdSYKgDMcRED6Z/5/OSdDQAi79j+fSEJAYdEAIB+mQUBi+ARgbrVAQFBMB4Bk+j9AZqwNgH67PkDkyPsf/aQ9QNBz8r/oPDxATVXzf7thO0Aa6ftfZCk6QFnXDYBdzzhA",
          "dtype": "f8"
         }
        }
       ],
       "layout": {
        "height": 600,
        "legend": {
         "title": {
          "text": "Excitation λ"
         }
        },
        "template": {
         "data": {
          "bar": [
           {
            "error_x": {
             "color": "#2a3f5f"
            },
            "error_y": {
             "color": "#2a3f5f"
            },
            "marker": {
             "line": {
              "color": "#E5ECF6",
              "width": 0.5
             },
             "pattern": {
              "fillmode": "overlay",
              "size": 10,
              "solidity": 0.2
             }
            },
            "type": "bar"
           }
          ],
          "barpolar": [
           {
            "marker": {
             "line": {
              "color": "#E5ECF6",
              "width": 0.5
             },
             "pattern": {
              "fillmode": "overlay",
              "size": 10,
              "solidity": 0.2
             }
            },
            "type": "barpolar"
           }
          ],
          "carpet": [
           {
            "aaxis": {
             "endlinecolor": "#2a3f5f",
             "gridcolor": "white",
             "linecolor": "white",
             "minorgridcolor": "white",
             "startlinecolor": "#2a3f5f"
            },
            "baxis": {
             "endlinecolor": "#2a3f5f",
             "gridcolor": "white",
             "linecolor": "white",
             "minorgridcolor": "white",
             "startlinecolor": "#2a3f5f"
            },
            "type": "carpet"
           }
          ],
          "choropleth": [
           {
            "colorbar": {
             "outlinewidth": 0,
             "ticks": ""
            },
            "type": "choropleth"
           }
          ],
          "contour": [
           {
            "colorbar": {
             "outlinewidth": 0,
             "ticks": ""
            },
            "colorscale": [
             [
              0,
              "#0d0887"
             ],
             [
              0.1111111111111111,
              "#46039f"
             ],
             [
              0.2222222222222222,
              "#7201a8"
             ],
             [
              0.3333333333333333,
              "#9c179e"
             ],
             [
              0.4444444444444444,
              "#bd3786"
             ],
             [
              0.5555555555555556,
              "#d8576b"
             ],
             [
              0.6666666666666666,
              "#ed7953"
             ],
             [
              0.7777777777777778,
              "#fb9f3a"
             ],
             [
              0.8888888888888888,
              "#fdca26"
             ],
             [
              1,
              "#f0f921"
             ]
            ],
            "type": "contour"
           }
          ],
          "contourcarpet": [
           {
            "colorbar": {
             "outlinewidth": 0,
             "ticks": ""
            },
            "type": "contourcarpet"
           }
          ],
          "heatmap": [
           {
            "colorbar": {
             "outlinewidth": 0,
             "ticks": ""
            },
            "colorscale": [
             [
              0,
              "#0d0887"
             ],
             [
              0.1111111111111111,
              "#46039f"
             ],
             [
              0.2222222222222222,
              "#7201a8"
             ],
             [
              0.3333333333333333,
              "#9c179e"
             ],
             [
              0.4444444444444444,
              "#bd3786"
             ],
             [
              0.5555555555555556,
              "#d8576b"
             ],
             [
              0.6666666666666666,
              "#ed7953"
             ],
             [
              0.7777777777777778,
              "#fb9f3a"
             ],
             [
              0.8888888888888888,
              "#fdca26"
             ],
             [
              1,
              "#f0f921"
             ]
            ],
            "type": "heatmap"
           }
          ],
          "histogram": [
           {
            "marker": {
             "pattern": {
              "fillmode": "overlay",
              "size": 10,
              "solidity": 0.2
             }
            },
            "type": "histogram"
           }
          ],
          "histogram2d": [
           {
            "colorbar": {
             "outlinewidth": 0,
             "ticks": ""
            },
            "colorscale": [
             [
              0,
              "#0d0887"
             ],
             [
              0.1111111111111111,
              "#46039f"
             ],
             [
              0.2222222222222222,
              "#7201a8"
             ],
             [
              0.3333333333333333,
              "#9c179e"
             ],
             [
              0.4444444444444444,
              "#bd3786"
             ],
             [
              0.5555555555555556,
              "#d8576b"
             ],
             [
              0.6666666666666666,
              "#ed7953"
             ],
             [
              0.7777777777777778,
              "#fb9f3a"
             ],
             [
              0.8888888888888888,
              "#fdca26"
             ],
             [
              1,
              "#f0f921"
             ]
            ],
            "type": "histogram2d"
           }
          ],
          "histogram2dcontour": [
           {
            "colorbar": {
             "outlinewidth": 0,
             "ticks": ""
            },
            "colorscale": [
             [
              0,
              "#0d0887"
             ],
             [
              0.1111111111111111,
              "#46039f"
             ],
             [
              0.2222222222222222,
              "#7201a8"
             ],
             [
              0.3333333333333333,
              "#9c179e"
             ],
             [
              0.4444444444444444,
              "#bd3786"
             ],
             [
              0.5555555555555556,
              "#d8576b"
             ],
             [
              0.6666666666666666,
              "#ed7953"
             ],
             [
              0.7777777777777778,
              "#fb9f3a"
             ],
             [
              0.8888888888888888,
              "#fdca26"
             ],
             [
              1,
              "#f0f921"
             ]
            ],
            "type": "histogram2dcontour"
           }
          ],
          "mesh3d": [
           {
            "colorbar": {
             "outlinewidth": 0,
             "ticks": ""
            },
            "type": "mesh3d"
           }
          ],
          "parcoords": [
           {
            "line": {
             "colorbar": {
              "outlinewidth": 0,
              "ticks": ""
             }
            },
            "type": "parcoords"
           }
          ],
          "pie": [
           {
            "automargin": true,
            "type": "pie"
           }
          ],
          "scatter": [
           {
            "fillpattern": {
             "fillmode": "overlay",
             "size": 10,
             "solidity": 0.2
            },
            "type": "scatter"
           }
          ],
          "scatter3d": [
           {
            "line": {
             "colorbar": {
              "outlinewidth": 0,
              "ticks": ""
             }
            },
            "marker": {
             "colorbar": {
              "outlinewidth": 0,
              "ticks": ""
             }
            },
            "type": "scatter3d"
           }
          ],
          "scattercarpet": [
           {
            "marker": {
             "colorbar": {
              "outlinewidth": 0,
              "ticks": ""
             }
            },
            "type": "scattercarpet"
           }
          ],
          "scattergeo": [
           {
            "marker": {
             "colorbar": {
              "outlinewidth": 0,
              "ticks": ""
             }
            },
            "type": "scattergeo"
           }
          ],
          "scattergl": [
           {
            "marker": {
             "colorbar": {
              "outlinewidth": 0,
              "ticks": ""
             }
            },
            "type": "scattergl"
           }
          ],
          "scattermap": [
           {
            "marker": {
             "colorbar": {
              "outlinewidth": 0,
              "ticks": ""
             }
            },
            "type": "scattermap"
           }
          ],
          "scattermapbox": [
           {
            "marker": {
             "colorbar": {
              "outlinewidth": 0,
              "ticks": ""
             }
            },
            "type": "scattermapbox"
           }
          ],
          "scatterpolar": [
           {
            "marker": {
             "colorbar": {
              "outlinewidth": 0,
              "ticks": ""
             }
            },
            "type": "scatterpolar"
           }
          ],
          "scatterpolargl": [
           {
            "marker": {
             "colorbar": {
              "outlinewidth": 0,
              "ticks": ""
             }
            },
            "type": "scatterpolargl"
           }
          ],
          "scatterternary": [
           {
            "marker": {
             "colorbar": {
              "outlinewidth": 0,
              "ticks": ""
             }
            },
            "type": "scatterternary"
           }
          ],
          "surface": [
           {
            "colorbar": {
             "outlinewidth": 0,
             "ticks": ""
            },
            "colorscale": [
             [
              0,
              "#0d0887"
             ],
             [
              0.1111111111111111,
              "#46039f"
             ],
             [
              0.2222222222222222,
              "#7201a8"
             ],
             [
              0.3333333333333333,
              "#9c179e"
             ],
             [
              0.4444444444444444,
              "#bd3786"
             ],
             [
              0.5555555555555556,
              "#d8576b"
             ],
             [
              0.6666666666666666,
              "#ed7953"
             ],
             [
              0.7777777777777778,
              "#fb9f3a"
             ],
             [
              0.8888888888888888,
              "#fdca26"
             ],
             [
              1,
              "#f0f921"
             ]
            ],
            "type": "surface"
           }
          ],
          "table": [
           {
            "cells": {
             "fill": {
              "color": "#EBF0F8"
             },
             "line": {
              "color": "white"
             }
            },
            "header": {
             "fill": {
              "color": "#C8D4E3"
             },
             "line": {
              "color": "white"
             }
            },
            "type": "table"
           }
          ]
         },
         "layout": {
          "annotationdefaults": {
           "arrowcolor": "#2a3f5f",
           "arrowhead": 0,
           "arrowwidth": 1
          },
          "autotypenumbers": "strict",
          "coloraxis": {
           "colorbar": {
            "outlinewidth": 0,
            "ticks": ""
           }
          },
          "colorscale": {
           "diverging": [
            [
             0,
             "#8e0152"
            ],
            [
             0.1,
             "#c51b7d"
            ],
            [
             0.2,
             "#de77ae"
            ],
            [
             0.3,
             "#f1b6da"
            ],
            [
             0.4,
             "#fde0ef"
            ],
            [
             0.5,
             "#f7f7f7"
            ],
            [
             0.6,
             "#e6f5d0"
            ],
            [
             0.7,
             "#b8e186"
            ],
            [
             0.8,
             "#7fbc41"
            ],
            [
             0.9,
             "#4d9221"
            ],
            [
             1,
             "#276419"
            ]
           ],
           "sequential": [
            [
             0,
             "#0d0887"
            ],
            [
             0.1111111111111111,
             "#46039f"
            ],
            [
             0.2222222222222222,
             "#7201a8"
            ],
            [
             0.3333333333333333,
             "#9c179e"
            ],
            [
             0.4444444444444444,
             "#bd3786"
            ],
            [
             0.5555555555555556,
             "#d8576b"
            ],
            [
             0.6666666666666666,
             "#ed7953"
            ],
            [
             0.7777777777777778,
             "#fb9f3a"
            ],
            [
             0.8888888888888888,
             "#fdca26"
            ],
            [
             1,
             "#f0f921"
            ]
           ],
           "sequentialminus": [
            [
             0,
             "#0d0887"
            ],
            [
             0.1111111111111111,
             "#46039f"
            ],
            [
             0.2222222222222222,
             "#7201a8"
            ],
            [
             0.3333333333333333,
             "#9c179e"
            ],
            [
             0.4444444444444444,
             "#bd3786"
            ],
            [
             0.5555555555555556,
             "#d8576b"
            ],
            [
             0.6666666666666666,
             "#ed7953"
            ],
            [
             0.7777777777777778,
             "#fb9f3a"
            ],
            [
             0.8888888888888888,
             "#fdca26"
            ],
            [
             1,
             "#f0f921"
            ]
           ]
          },
          "colorway": [
           "#636efa",
           "#EF553B",
           "#00cc96",
           "#ab63fa",
           "#FFA15A",
           "#19d3f3",
           "#FF6692",
           "#B6E880",
           "#FF97FF",
           "#FECB52"
          ],
          "font": {
           "color": "#2a3f5f"
          },
          "geo": {
           "bgcolor": "white",
           "lakecolor": "white",
           "landcolor": "#E5ECF6",
           "showlakes": true,
           "showland": true,
           "subunitcolor": "white"
          },
          "hoverlabel": {
           "align": "left"
          },
          "hovermode": "closest",
          "mapbox": {
           "style": "light"
          },
          "paper_bgcolor": "white",
          "plot_bgcolor": "#E5ECF6",
          "polar": {
           "angularaxis": {
            "gridcolor": "white",
            "linecolor": "white",
            "ticks": ""
           },
           "bgcolor": "#E5ECF6",
           "radialaxis": {
            "gridcolor": "white",
            "linecolor": "white",
            "ticks": ""
           }
          },
          "scene": {
           "xaxis": {
            "backgroundcolor": "#E5ECF6",
            "gridcolor": "white",
            "gridwidth": 2,
            "linecolor": "white",
            "showbackground": true,
            "ticks": "",
            "zerolinecolor": "white"
           },
           "yaxis": {
            "backgroundcolor": "#E5ECF6",
            "gridcolor": "white",
            "gridwidth": 2,
            "linecolor": "white",
            "showbackground": true,
            "ticks": "",
            "zerolinecolor": "white"
           },
           "zaxis": {
            "backgroundcolor": "#E5ECF6",
            "gridcolor": "white",
            "gridwidth": 2,
            "linecolor": "white",
            "showbackground": true,
            "ticks": "",
            "zerolinecolor": "white"
           }
          },
          "shapedefaults": {
           "line": {
            "color": "#2a3f5f"
           }
          },
          "ternary": {
           "aaxis": {
            "gridcolor": "white",
            "linecolor": "white",
            "ticks": ""
           },
           "baxis": {
            "gridcolor": "white",
            "linecolor": "white",
            "ticks": ""
           },
           "bgcolor": "#E5ECF6",
           "caxis": {
            "gridcolor": "white",
            "linecolor": "white",
            "ticks": ""
           }
          },
          "title": {
           "x": 0.05
          },
          "xaxis": {
           "automargin": true,
           "gridcolor": "white",
           "linecolor": "white",
           "ticks": "",
           "title": {
            "standoff": 15
           },
           "zerolinecolor": "white",
           "zerolinewidth": 2
          },
          "yaxis": {
           "automargin": true,
           "gridcolor": "white",
           "linecolor": "white",
           "ticks": "",
           "title": {
            "standoff": 15
           },
           "zerolinecolor": "white",
           "zerolinewidth": 2
          }
         }
        },
        "width": 800,
        "xaxis": {
         "range": [
          540,
          600
         ],
         "title": {
          "text": "λ [nm]"
         }
        },
        "yaxis": {
         "title": {
          "text": "I [a.u.]"
         }
        }
       }
      }
     },
     "metadata": {},
     "output_type": "display_data"
    }
   ],
   "source": [
    "fig = go.Figure()\n",
    "colors = px.colors.sequential.Viridis[:len(LAMBDA_ECC)]\n",
    "for g,i in enumerate(LAMBDA_ECC):\n",
    "    λ = data[f'λ {i}'].dropna().values\n",
    "    I = data[f'I {i}'].dropna().values\n",
    "    # c = colors[i]\n",
    "    fig.add_trace(go.Scatter(x=λ, y=I, mode='lines', name=f'λ {i}', line=dict(color=colors[g])))\n",
    "\n",
    "fig.update_layout(\n",
    "    #title='Spettro di emissione della rodamina B con diversi lambda eccitazione',\n",
    "    xaxis_title='λ [nm]',\n",
    "    yaxis_title='I [a.u.]',\n",
    "    legend_title='Excitation λ',\n",
    "    width = 800,\n",
    "    height = 600, \n",
    "    xaxis=dict(range=[540, 600])\n",
    ")\n",
    "\n",
    "fig.write_html(dir_path + '/html/spettro_emissione_rodamina_eccitata_a_diverse_frequenze.html')\n",
    "fig.write_image(dir_path + '/images/spettro_emissione_rodamina_eccitata_a_diverse_frequenze.png')\n",
    "fig.show()"
   ]
  },
  {
   "cell_type": "code",
   "execution_count": 20,
   "id": "2d05122f",
   "metadata": {},
   "outputs": [
    {
     "name": "stdout",
     "output_type": "stream",
     "text": [
      "Picchi: [110.0832379  163.88926662 280.30319838 393.06505053 466.18974343\n",
      " 639.88802432 758.75275388 864.53429603 960.11318261 923.06582293]\n",
      "Errori picchi: [0.23426658 0.33190078 0.59480244 0.787656   0.98411506 1.25922182\n",
      " 1.61029525 1.82598664 2.03255503 1.93380262]\n"
     ]
    }
   ],
   "source": [
    "def fit_picchi(x, a,x0,p):\n",
    "    return -a * (x-x0)**2 + p\n",
    "\n",
    "\n",
    "\n",
    "Picchi = []\n",
    "sigma_PICCHI = []\n",
    "\n",
    "for i in LAMBDA_ECC:\n",
    "    λ = data[f'λ {i}'].dropna().values\n",
    "    I = data[f'I {i}'].dropna().values\n",
    "\n",
    "    idλmax = np.argmax(I)\n",
    "    Imax = I[idλmax]\n",
    "    λc = λ[idλmax]\n",
    "\n",
    "    λ = λ[idλmax-5:idλmax+5]\n",
    "    I = I[idλmax-5:idλmax+5]\n",
    "    sigmaI = I * SIGMAY_PEAK\n",
    "\n",
    "    # Fit picco\n",
    "    popt, pcov = curve_fit(fit_picchi, λ,I, p0=[1, λc, Imax], sigma=sigmaI, absolute_sigma=True)\n",
    "    a, x0, p = popt\n",
    "    err_a, err_x0, err_p = np.sqrt(np.diag(pcov))\n",
    "    \n",
    "    Picchi.append(p)\n",
    "    sigma_PICCHI.append(err_p)\n",
    "\n",
    "Picchi = np.array(Picchi)\n",
    "sigma_PICCHI = np.array(sigma_PICCHI)\n",
    "\n",
    "print(f'Picchi: {Picchi}')\n",
    "print(f'Errori picchi: {sigma_PICCHI}')"
   ]
  },
  {
   "cell_type": "code",
   "execution_count": 26,
   "id": "5725b10a",
   "metadata": {},
   "outputs": [
    {
     "data": {
      "application/vnd.plotly.v1+json": {
       "config": {
        "plotlyServerURL": "https://plot.ly"
       },
       "data": [
        {
         "mode": "lines",
         "name": "Spettro di eccitaione",
         "type": "scatter",
         "x": {
          "bdata": "AAAAAAAAeUCzf/m/HhF5QAAAAAAAIHlAs3/5vx4xeUAAAAAAAEB5QLN/+b8eUXlAAAAAAABgeUCzf/m/HnF5QAAAAAAAgHlAs3/5vx6ReUAAAAAAAKB5QGodC8D1sHlAAg8MIFy/eUC1jgXgetB5QE2ABkDh3nlAAAAAAADweUBqHQvA9QB6QAIPDCBcD3pAtY4F4HogekBNgAZA4S56QAAAAAAAQHpAah0LwPVQekACDwwgXF96QLWOBeB6cHpATYAGQOF+ekAAAAAAAJB6QGodC8D1oHpAAg8MIFyvekC1jgXgesB6QE2ABkDhznpAAAAAAADgekCzf/m/HvF6QAAAAAAAAHtAs3/5vx4Re0AAAAAAACB7QLN/+b8eMXtAAAAAAABAe0Czf/m/HlF7QAAAAAAAYHtAs3/5vx5xe0AAAAAAAIB7QGodC8D1kHtAAg8MIFyfe0C1jgXgerB7QE2ABkDhvntAAAAAAADQe0BqHQvA9eB7QAIPDCBc73tAtY4F4HoAfEBNgAZA4Q58QAAAAAAAIHxAah0LwPUwfEACDwwgXD98QLWOBeB6UHxATYAGQOFefEAAAAAAAHB8QGodC8D1gHxAAg8MIFyPfEC1jgXgeqB8QE2ABkDhrnxAAAAAAADAfED+8PPfo9B8QJbi9D8K33xAhqsDIK7vfEB6VPzfUQB9QLN/+b8eEX1AS3H6H4UffUA7OgkAKTB9QC/jAcDMQH1A0Rz+PzNPfUAAAAAAAGB9QGodC8D1cH1AAg8MIFx/fUC1jgXgepB9QE2ABkDhnn1AAAAAAACwfUBqHQvA9cB9QAIPDCBcz31AtY4F4HrgfUBNgAZA4e59QAAAAAAAAH5Aah0LwPUQfkACDwwgXB9+QLWOBeB6MH5ATYAGQOE+fkAAAAAAAFB+QGodC8D1YH5AAg8MIFxvfkC1jgXgeoB+QE2ABkDhjn5AAAAAAACgfkD+8PPfo7B+QJbi9D8Kv35AhqsDIK7PfkB6VPzfUeB+QLN/+b8e8X5AS3H6H4X/fkA7OgkAKRB/QC/jAcDMIH9A0Rz+PzMvf0AAAAAAAEB/QP7w89+jUH9AluL0Pwpff0CGqwMgrm9/QHpU/N9RgH9As3/5vx6Rf0BLcfofhZ9/QDs6CQApsH9AL+MBwMzAf0DRHP4/M89/QAAAAAAA4H9Aah0LwPXwf0ACDwwgXP9/QGBrAIA9CIBAJkADoHAPgEAAAAAAABiAQLWOBeB6IIBAhqsDIK4ngEBgawCAPTCAQCZAA6BwN4BAAAAAAABAgEBCzvv/KEiAQJjxAGBmUIBAS3H6H4VXgECglP9/wl+AQAAAAAAAaIBAQs77/yhwgECY8QBgZniAQEtx+h+Ff4BAoJT/f8KHgEAAAAAAAJCAQHpU/N9RmIBAS3H6H4WfgEC+MQQA16eAQELO+/8osIBA2r/8X4+4gECglP9/wr+AQB6dBIAUyIBAmPEAYGbQgEBoDv+fmdeAQAAAAAAA4IBAelT831HogEBLcfofhe+AQL4xBADX94BAQs77/ygAgUDav/xfjwiBQKCU/3/CD4FAHp0EgBQYgUCY8QBgZiCBQGgO/5+ZJ4FAAAAAAAAwgUA=",
          "dtype": "f8"
         },
         "y": {
          "bdata": "FFH6351LOkD6POu/c8I5QP7cCkAnaDlAEcgEgFMAOUC39AWAbCE5QCXaAgDPODhAd4j7ny7cN0AopgNAsoo3QL+XBKA4NDdAT84OwB+/NkCUpwdgXjM2QEiREEDF1DVALjr2PwK1NUAp4fAfXjs1QNXk7/9fxjRACDnv/+O3NEDGFw4ALI80QGVa9n9pZTRAM9YGQD88NEDwtfM/8R80QBSUBcA2QzRA1XkS4A0YNEBuEBBAKBE0QN9X/t+FDzRAAuT4X7YyNECAlQng4nc0QFT8ACD+kjRAVuD5f7T3NEASbQGA51c1QARdFKAaFDZAfhzun34JN0CUu/D/uk04QIo0+X84xzlAeWz0/+RaO0ATmBRAraY8QGFTCGDamj5A3vH9P5QcQEA+BgpAzF5BQHaMCiAl2UJAJdoCAM9oREAoJPz/9tJFQApI+x/gT0dAi1v9v4emSECZVwEA+BNKQJKY+z9itktAn237P4NdTUDJ9/ffa1pPQNvmAKAOXVBANuED4EQgUUDKHvwfe69RQLRnAaBrYVJAQCn//+RDU0AU0wEgWeNTQHFyAWBjzlRAMq8CAHCWVUACpfz/k35WQLiZAoAAnldAk4ADIE+vWEAufDMgMftZQC1q5n+oxlpAwrkrYCeUW0DBe/3/7hdcQIFS/v9Jm1xACxnZ36OwXUCN1eb/1d1eQBALEGBsTmBAe4/pvz0UYUBrhxrgXeVhQMER7t8GymJA/8QSIBR/Y0Co/BDA8ntkQKk3/p9eq2VAxcX2/9aWZkD7EAoAhPlnQCIi61+IPWlAxFvn3+6iakBWjRSANUZsQPBe/787pG1ADIPo/4s8b0AyLfu/tIhwQNXQBmAjd3FAivX8H1bWckAenQSAdBt0QNopDIBHBHVATBb3H/l4dUAJo/4f7PB1QBFG/T/4fnZA2ikMgEf/dkDWdQNgl3p3QPsQCgAE9HdAudj+3+LGeEBzVvq/+Qx5QB9CAYDIMnlAFjXzP1RYeUBJNg1A+dJ5QETdByA1HnpAHPgHgKDIekAOkvQfSIh7QKTe+H/aPXxAS9sJQA2FfEDNaPUfI+V8QNEc/j8Ta31AXlz0X9F9fkCR8/4/Tht/QGgO/5/5LYBATYAGQCGXgECukAPAgjSBQDGI/r8g2oFARoIEIJmMgkAtPgXAyGSDQGgO/5/5/YNAqTf+n46BhEAfQgGAaPyEQMF7/f9+7YVA2r/8X0+XhkCNqQVAxqGHQLA1AMCmhYhArpADwEKciUCSmPs/8k2KQGO1+X+VpIpAp5IBoLoOi0B/rQEAtmOLQPum+t/rIoxAf60BAJabjEBXyAFg8USNQFfIAWAh241AdWUG4PUcjkB1ZQbgJUuOQELO+/+4241AwXv9/+5wjUBJzP0fIQCNQL4xBADXdIxABVkFIMQBjECR8/4/PnqLQKvc+p9iJ4tAivX8H5ZUikAo5f+fVJyJQPkB/t+HbohA4b3+f6d6h0BAKf//FIyGQNPB+j/3BoVAtY4F4Orug0AenQSAlOuCQHYKA+AJaoFAbf30n9Wsf0BZbf5ftat8QNMrCmCvSnpAyHn/H6eZd0Cf7wKAfit1QE678x/N8XJAMi37vxTMcEA=",
          "dtype": "f8"
         }
        },
        {
         "mode": "markers",
         "name": "Picco ",
         "type": "scatter",
         "x": {
          "bdata": "zAHWAeAB6gH0Af4BAwIIAg4CEgI=",
          "dtype": "i2"
         },
         "y": {
          "bdata": "f7YRxVOFW0AzUkPfdHxkQDrMiubZhHFAz8ZtcgqReEADNGkwCSN9QK7cfqwa/4NAYPPTowW2h0DxEf88RgSLQEoEScznAI5AypsszobYjEA=",
          "dtype": "f8"
         }
        }
       ],
       "layout": {
        "height": 600,
        "legend": {
         "title": {
          "text": "Legend"
         }
        },
        "template": {
         "data": {
          "bar": [
           {
            "error_x": {
             "color": "#2a3f5f"
            },
            "error_y": {
             "color": "#2a3f5f"
            },
            "marker": {
             "line": {
              "color": "#E5ECF6",
              "width": 0.5
             },
             "pattern": {
              "fillmode": "overlay",
              "size": 10,
              "solidity": 0.2
             }
            },
            "type": "bar"
           }
          ],
          "barpolar": [
           {
            "marker": {
             "line": {
              "color": "#E5ECF6",
              "width": 0.5
             },
             "pattern": {
              "fillmode": "overlay",
              "size": 10,
              "solidity": 0.2
             }
            },
            "type": "barpolar"
           }
          ],
          "carpet": [
           {
            "aaxis": {
             "endlinecolor": "#2a3f5f",
             "gridcolor": "white",
             "linecolor": "white",
             "minorgridcolor": "white",
             "startlinecolor": "#2a3f5f"
            },
            "baxis": {
             "endlinecolor": "#2a3f5f",
             "gridcolor": "white",
             "linecolor": "white",
             "minorgridcolor": "white",
             "startlinecolor": "#2a3f5f"
            },
            "type": "carpet"
           }
          ],
          "choropleth": [
           {
            "colorbar": {
             "outlinewidth": 0,
             "ticks": ""
            },
            "type": "choropleth"
           }
          ],
          "contour": [
           {
            "colorbar": {
             "outlinewidth": 0,
             "ticks": ""
            },
            "colorscale": [
             [
              0,
              "#0d0887"
             ],
             [
              0.1111111111111111,
              "#46039f"
             ],
             [
              0.2222222222222222,
              "#7201a8"
             ],
             [
              0.3333333333333333,
              "#9c179e"
             ],
             [
              0.4444444444444444,
              "#bd3786"
             ],
             [
              0.5555555555555556,
              "#d8576b"
             ],
             [
              0.6666666666666666,
              "#ed7953"
             ],
             [
              0.7777777777777778,
              "#fb9f3a"
             ],
             [
              0.8888888888888888,
              "#fdca26"
             ],
             [
              1,
              "#f0f921"
             ]
            ],
            "type": "contour"
           }
          ],
          "contourcarpet": [
           {
            "colorbar": {
             "outlinewidth": 0,
             "ticks": ""
            },
            "type": "contourcarpet"
           }
          ],
          "heatmap": [
           {
            "colorbar": {
             "outlinewidth": 0,
             "ticks": ""
            },
            "colorscale": [
             [
              0,
              "#0d0887"
             ],
             [
              0.1111111111111111,
              "#46039f"
             ],
             [
              0.2222222222222222,
              "#7201a8"
             ],
             [
              0.3333333333333333,
              "#9c179e"
             ],
             [
              0.4444444444444444,
              "#bd3786"
             ],
             [
              0.5555555555555556,
              "#d8576b"
             ],
             [
              0.6666666666666666,
              "#ed7953"
             ],
             [
              0.7777777777777778,
              "#fb9f3a"
             ],
             [
              0.8888888888888888,
              "#fdca26"
             ],
             [
              1,
              "#f0f921"
             ]
            ],
            "type": "heatmap"
           }
          ],
          "histogram": [
           {
            "marker": {
             "pattern": {
              "fillmode": "overlay",
              "size": 10,
              "solidity": 0.2
             }
            },
            "type": "histogram"
           }
          ],
          "histogram2d": [
           {
            "colorbar": {
             "outlinewidth": 0,
             "ticks": ""
            },
            "colorscale": [
             [
              0,
              "#0d0887"
             ],
             [
              0.1111111111111111,
              "#46039f"
             ],
             [
              0.2222222222222222,
              "#7201a8"
             ],
             [
              0.3333333333333333,
              "#9c179e"
             ],
             [
              0.4444444444444444,
              "#bd3786"
             ],
             [
              0.5555555555555556,
              "#d8576b"
             ],
             [
              0.6666666666666666,
              "#ed7953"
             ],
             [
              0.7777777777777778,
              "#fb9f3a"
             ],
             [
              0.8888888888888888,
              "#fdca26"
             ],
             [
              1,
              "#f0f921"
             ]
            ],
            "type": "histogram2d"
           }
          ],
          "histogram2dcontour": [
           {
            "colorbar": {
             "outlinewidth": 0,
             "ticks": ""
            },
            "colorscale": [
             [
              0,
              "#0d0887"
             ],
             [
              0.1111111111111111,
              "#46039f"
             ],
             [
              0.2222222222222222,
              "#7201a8"
             ],
             [
              0.3333333333333333,
              "#9c179e"
             ],
             [
              0.4444444444444444,
              "#bd3786"
             ],
             [
              0.5555555555555556,
              "#d8576b"
             ],
             [
              0.6666666666666666,
              "#ed7953"
             ],
             [
              0.7777777777777778,
              "#fb9f3a"
             ],
             [
              0.8888888888888888,
              "#fdca26"
             ],
             [
              1,
              "#f0f921"
             ]
            ],
            "type": "histogram2dcontour"
           }
          ],
          "mesh3d": [
           {
            "colorbar": {
             "outlinewidth": 0,
             "ticks": ""
            },
            "type": "mesh3d"
           }
          ],
          "parcoords": [
           {
            "line": {
             "colorbar": {
              "outlinewidth": 0,
              "ticks": ""
             }
            },
            "type": "parcoords"
           }
          ],
          "pie": [
           {
            "automargin": true,
            "type": "pie"
           }
          ],
          "scatter": [
           {
            "fillpattern": {
             "fillmode": "overlay",
             "size": 10,
             "solidity": 0.2
            },
            "type": "scatter"
           }
          ],
          "scatter3d": [
           {
            "line": {
             "colorbar": {
              "outlinewidth": 0,
              "ticks": ""
             }
            },
            "marker": {
             "colorbar": {
              "outlinewidth": 0,
              "ticks": ""
             }
            },
            "type": "scatter3d"
           }
          ],
          "scattercarpet": [
           {
            "marker": {
             "colorbar": {
              "outlinewidth": 0,
              "ticks": ""
             }
            },
            "type": "scattercarpet"
           }
          ],
          "scattergeo": [
           {
            "marker": {
             "colorbar": {
              "outlinewidth": 0,
              "ticks": ""
             }
            },
            "type": "scattergeo"
           }
          ],
          "scattergl": [
           {
            "marker": {
             "colorbar": {
              "outlinewidth": 0,
              "ticks": ""
             }
            },
            "type": "scattergl"
           }
          ],
          "scattermap": [
           {
            "marker": {
             "colorbar": {
              "outlinewidth": 0,
              "ticks": ""
             }
            },
            "type": "scattermap"
           }
          ],
          "scattermapbox": [
           {
            "marker": {
             "colorbar": {
              "outlinewidth": 0,
              "ticks": ""
             }
            },
            "type": "scattermapbox"
           }
          ],
          "scatterpolar": [
           {
            "marker": {
             "colorbar": {
              "outlinewidth": 0,
              "ticks": ""
             }
            },
            "type": "scatterpolar"
           }
          ],
          "scatterpolargl": [
           {
            "marker": {
             "colorbar": {
              "outlinewidth": 0,
              "ticks": ""
             }
            },
            "type": "scatterpolargl"
           }
          ],
          "scatterternary": [
           {
            "marker": {
             "colorbar": {
              "outlinewidth": 0,
              "ticks": ""
             }
            },
            "type": "scatterternary"
           }
          ],
          "surface": [
           {
            "colorbar": {
             "outlinewidth": 0,
             "ticks": ""
            },
            "colorscale": [
             [
              0,
              "#0d0887"
             ],
             [
              0.1111111111111111,
              "#46039f"
             ],
             [
              0.2222222222222222,
              "#7201a8"
             ],
             [
              0.3333333333333333,
              "#9c179e"
             ],
             [
              0.4444444444444444,
              "#bd3786"
             ],
             [
              0.5555555555555556,
              "#d8576b"
             ],
             [
              0.6666666666666666,
              "#ed7953"
             ],
             [
              0.7777777777777778,
              "#fb9f3a"
             ],
             [
              0.8888888888888888,
              "#fdca26"
             ],
             [
              1,
              "#f0f921"
             ]
            ],
            "type": "surface"
           }
          ],
          "table": [
           {
            "cells": {
             "fill": {
              "color": "#EBF0F8"
             },
             "line": {
              "color": "white"
             }
            },
            "header": {
             "fill": {
              "color": "#C8D4E3"
             },
             "line": {
              "color": "white"
             }
            },
            "type": "table"
           }
          ]
         },
         "layout": {
          "annotationdefaults": {
           "arrowcolor": "#2a3f5f",
           "arrowhead": 0,
           "arrowwidth": 1
          },
          "autotypenumbers": "strict",
          "coloraxis": {
           "colorbar": {
            "outlinewidth": 0,
            "ticks": ""
           }
          },
          "colorscale": {
           "diverging": [
            [
             0,
             "#8e0152"
            ],
            [
             0.1,
             "#c51b7d"
            ],
            [
             0.2,
             "#de77ae"
            ],
            [
             0.3,
             "#f1b6da"
            ],
            [
             0.4,
             "#fde0ef"
            ],
            [
             0.5,
             "#f7f7f7"
            ],
            [
             0.6,
             "#e6f5d0"
            ],
            [
             0.7,
             "#b8e186"
            ],
            [
             0.8,
             "#7fbc41"
            ],
            [
             0.9,
             "#4d9221"
            ],
            [
             1,
             "#276419"
            ]
           ],
           "sequential": [
            [
             0,
             "#0d0887"
            ],
            [
             0.1111111111111111,
             "#46039f"
            ],
            [
             0.2222222222222222,
             "#7201a8"
            ],
            [
             0.3333333333333333,
             "#9c179e"
            ],
            [
             0.4444444444444444,
             "#bd3786"
            ],
            [
             0.5555555555555556,
             "#d8576b"
            ],
            [
             0.6666666666666666,
             "#ed7953"
            ],
            [
             0.7777777777777778,
             "#fb9f3a"
            ],
            [
             0.8888888888888888,
             "#fdca26"
            ],
            [
             1,
             "#f0f921"
            ]
           ],
           "sequentialminus": [
            [
             0,
             "#0d0887"
            ],
            [
             0.1111111111111111,
             "#46039f"
            ],
            [
             0.2222222222222222,
             "#7201a8"
            ],
            [
             0.3333333333333333,
             "#9c179e"
            ],
            [
             0.4444444444444444,
             "#bd3786"
            ],
            [
             0.5555555555555556,
             "#d8576b"
            ],
            [
             0.6666666666666666,
             "#ed7953"
            ],
            [
             0.7777777777777778,
             "#fb9f3a"
            ],
            [
             0.8888888888888888,
             "#fdca26"
            ],
            [
             1,
             "#f0f921"
            ]
           ]
          },
          "colorway": [
           "#636efa",
           "#EF553B",
           "#00cc96",
           "#ab63fa",
           "#FFA15A",
           "#19d3f3",
           "#FF6692",
           "#B6E880",
           "#FF97FF",
           "#FECB52"
          ],
          "font": {
           "color": "#2a3f5f"
          },
          "geo": {
           "bgcolor": "white",
           "lakecolor": "white",
           "landcolor": "#E5ECF6",
           "showlakes": true,
           "showland": true,
           "subunitcolor": "white"
          },
          "hoverlabel": {
           "align": "left"
          },
          "hovermode": "closest",
          "mapbox": {
           "style": "light"
          },
          "paper_bgcolor": "white",
          "plot_bgcolor": "#E5ECF6",
          "polar": {
           "angularaxis": {
            "gridcolor": "white",
            "linecolor": "white",
            "ticks": ""
           },
           "bgcolor": "#E5ECF6",
           "radialaxis": {
            "gridcolor": "white",
            "linecolor": "white",
            "ticks": ""
           }
          },
          "scene": {
           "xaxis": {
            "backgroundcolor": "#E5ECF6",
            "gridcolor": "white",
            "gridwidth": 2,
            "linecolor": "white",
            "showbackground": true,
            "ticks": "",
            "zerolinecolor": "white"
           },
           "yaxis": {
            "backgroundcolor": "#E5ECF6",
            "gridcolor": "white",
            "gridwidth": 2,
            "linecolor": "white",
            "showbackground": true,
            "ticks": "",
            "zerolinecolor": "white"
           },
           "zaxis": {
            "backgroundcolor": "#E5ECF6",
            "gridcolor": "white",
            "gridwidth": 2,
            "linecolor": "white",
            "showbackground": true,
            "ticks": "",
            "zerolinecolor": "white"
           }
          },
          "shapedefaults": {
           "line": {
            "color": "#2a3f5f"
           }
          },
          "ternary": {
           "aaxis": {
            "gridcolor": "white",
            "linecolor": "white",
            "ticks": ""
           },
           "baxis": {
            "gridcolor": "white",
            "linecolor": "white",
            "ticks": ""
           },
           "bgcolor": "#E5ECF6",
           "caxis": {
            "gridcolor": "white",
            "linecolor": "white",
            "ticks": ""
           }
          },
          "title": {
           "x": 0.05
          },
          "xaxis": {
           "automargin": true,
           "gridcolor": "white",
           "linecolor": "white",
           "ticks": "",
           "title": {
            "standoff": 15
           },
           "zerolinecolor": "white",
           "zerolinewidth": 2
          },
          "yaxis": {
           "automargin": true,
           "gridcolor": "white",
           "linecolor": "white",
           "ticks": "",
           "title": {
            "standoff": 15
           },
           "zerolinecolor": "white",
           "zerolinewidth": 2
          }
         }
        },
        "width": 800,
        "xaxis": {
         "range": [
          440,
          540
         ],
         "title": {
          "text": "Wavelength (nm)"
         }
        },
        "yaxis": {
         "title": {
          "text": "Intensity (a.u.)"
         }
        }
       }
      }
     },
     "metadata": {},
     "output_type": "display_data"
    }
   ],
   "source": [
    "filename = 'data/stokes_shift_05.csv'\n",
    "d = pd.read_csv(filename, sep=',',header=1,nrows=151)\n",
    "# Drop the 'Unnamed: 4' column as it contains no useful data\n",
    "d = d.drop(columns=['Unnamed: 4'])\n",
    "ecc_lambda = d['Wavelength (nm).1'].dropna().to_numpy()\n",
    "ecc_int = d['Intensity (a.u.).1'].dropna().to_numpy()\n",
    "\n",
    "\n",
    "fig = go.Figure()\n",
    "\n",
    "# Add excitation data\n",
    "fig.add_trace(go.Scatter(x=ecc_lambda, y=ecc_int, mode='lines', name='Spettro di eccitaione'))\n",
    "\n",
    "# Add peaks data\n",
    "fig.add_trace(go.Scatter(x=LAMBDA_ECC, y=Picchi, mode='markers', name='Picco '))\n",
    "\n",
    "fig.update_layout(\n",
    "    # title='Eccitazione vs Picchi',\n",
    "    xaxis_title='Wavelength (nm)',\n",
    "    yaxis_title='Intensity (a.u.)',\n",
    "    legend_title='Legend',\n",
    "    width=800,\n",
    "    height=600,\n",
    "    xaxis=dict(range=[440, 540]),\n",
    ")\n",
    "\n",
    "fig.write_html(dir_path + '/html/spettro_emissione_rodamina_eccitata_a_diverse_frequenze_picchi.html')\n",
    "fig.write_image(dir_path + '/images/spettro_emissione_rodamina_eccitata_a_diverse_frequenze_picchi.png')\n",
    "\n",
    "fig.show()"
   ]
  }
 ],
 "metadata": {
  "kernelspec": {
   "display_name": "Python 3",
   "language": "python",
   "name": "python3"
  },
  "language_info": {
   "codemirror_mode": {
    "name": "ipython",
    "version": 3
   },
   "file_extension": ".py",
   "mimetype": "text/x-python",
   "name": "python",
   "nbconvert_exporter": "python",
   "pygments_lexer": "ipython3",
   "version": "3.13.0"
  }
 },
 "nbformat": 4,
 "nbformat_minor": 5
}
