{
 "cells": [
  {
   "cell_type": "markdown",
   "metadata": {},
   "source": [
    "# misura dello stoke shift prendendo uno spettro di eccitazione e uno di emissione:\n",
    "\n",
    "Il campione preso in considerazione è Rodamina 6G + H2O\n"
   ]
  },
  {
   "cell_type": "code",
   "execution_count": 1,
   "metadata": {},
   "outputs": [],
   "source": [
    "from matplotlib import pyplot as plt\n",
    "import numpy as np\n",
    "import pandas as pd\n",
    "import plotly.express as px\n",
    "import os\n",
    "import sys\n",
    "import plotly.graph_objects as go \n",
    "dir_path = os.path.abspath('')\n",
    "sys.path.append(dir_path + '/../')\n",
    "from labbiofisica import Interpolazione, final_val\n",
    "from scipy.optimize import curve_fit"
   ]
  },
  {
   "cell_type": "code",
   "execution_count": 2,
   "metadata": {},
   "outputs": [],
   "source": [
    "# # real rodamina Jenni\n",
    "# R6G_emission = pd.read_csv(r'.\\data\\Rhodamine 6G_emission.csv', sep=',')\n",
    "# R6G_absorbance = pd.read_csv(r'.\\data\\Rhodamine 6G_absorbance.csv', sep=',')\n",
    "# R6G_excitation = pd.read_csv(r'.\\data\\Rhodamine 6G_excitation.csv', sep=',')\n",
    "\n",
    "# fondo_ecc = pd.read_csv(r'./data/fondoH20Sspettrofluorimetro.csv')\n",
    "\n",
    "Y_PEAK_ERR = 0.0045 # analizzato in studio_errori_spettrofluorimetro.py"
   ]
  },
  {
   "cell_type": "markdown",
   "metadata": {},
   "source": [
    "IMPORT DATI"
   ]
  },
  {
   "cell_type": "code",
   "execution_count": 3,
   "metadata": {},
   "outputs": [
    {
     "data": {
      "text/html": [
       "<div>\n",
       "<style scoped>\n",
       "    .dataframe tbody tr th:only-of-type {\n",
       "        vertical-align: middle;\n",
       "    }\n",
       "\n",
       "    .dataframe tbody tr th {\n",
       "        vertical-align: top;\n",
       "    }\n",
       "\n",
       "    .dataframe thead th {\n",
       "        text-align: right;\n",
       "    }\n",
       "</style>\n",
       "<table border=\"1\" class=\"dataframe\">\n",
       "  <thead>\n",
       "    <tr style=\"text-align: right;\">\n",
       "      <th></th>\n",
       "      <th>Wavelength (nm)</th>\n",
       "      <th>Intensity (a.u.)</th>\n",
       "      <th>Wavelength (nm).1</th>\n",
       "      <th>Intensity (a.u.).1</th>\n",
       "    </tr>\n",
       "  </thead>\n",
       "  <tbody>\n",
       "    <tr>\n",
       "      <th>146</th>\n",
       "      <td>NaN</td>\n",
       "      <td>NaN</td>\n",
       "      <td>545.969971</td>\n",
       "      <td>420.667816</td>\n",
       "    </tr>\n",
       "    <tr>\n",
       "      <th>147</th>\n",
       "      <td>NaN</td>\n",
       "      <td>NaN</td>\n",
       "      <td>547.010010</td>\n",
       "      <td>377.603302</td>\n",
       "    </tr>\n",
       "    <tr>\n",
       "      <th>148</th>\n",
       "      <td>NaN</td>\n",
       "      <td>NaN</td>\n",
       "      <td>548.049988</td>\n",
       "      <td>338.718384</td>\n",
       "    </tr>\n",
       "    <tr>\n",
       "      <th>149</th>\n",
       "      <td>NaN</td>\n",
       "      <td>NaN</td>\n",
       "      <td>548.950012</td>\n",
       "      <td>303.112579</td>\n",
       "    </tr>\n",
       "    <tr>\n",
       "      <th>150</th>\n",
       "      <td>NaN</td>\n",
       "      <td>NaN</td>\n",
       "      <td>550.000000</td>\n",
       "      <td>268.755066</td>\n",
       "    </tr>\n",
       "  </tbody>\n",
       "</table>\n",
       "</div>"
      ],
      "text/plain": [
       "     Wavelength (nm)  Intensity (a.u.)  Wavelength (nm).1  Intensity (a.u.).1\n",
       "146              NaN               NaN         545.969971          420.667816\n",
       "147              NaN               NaN         547.010010          377.603302\n",
       "148              NaN               NaN         548.049988          338.718384\n",
       "149              NaN               NaN         548.950012          303.112579\n",
       "150              NaN               NaN         550.000000          268.755066"
      ]
     },
     "execution_count": 3,
     "metadata": {},
     "output_type": "execute_result"
    }
   ],
   "source": [
    "filename = 'data/stokes_shift_05.csv'\n",
    "data = pd.read_csv(filename, sep=',',header=1,nrows=151)\n",
    "# Drop the 'Unnamed: 4' column as it contains no useful data\n",
    "data = data.drop(columns=['Unnamed: 4'])\n",
    "data.tail()"
   ]
  },
  {
   "cell_type": "code",
   "execution_count": 4,
   "metadata": {},
   "outputs": [
    {
     "data": {
      "application/vnd.plotly.v1+json": {
       "config": {
        "plotlyServerURL": "https://plot.ly"
       },
       "data": [
        {
         "line": {
          "color": "blue"
         },
         "mode": "lines+markers",
         "name": "Excitation",
         "type": "scatter",
         "x": {
          "bdata": "AAAAAAAAeUCzf/m/HhF5QAAAAAAAIHlAs3/5vx4xeUAAAAAAAEB5QLN/+b8eUXlAAAAAAABgeUCzf/m/HnF5QAAAAAAAgHlAs3/5vx6ReUAAAAAAAKB5QGodC8D1sHlAAg8MIFy/eUC1jgXgetB5QE2ABkDh3nlAAAAAAADweUBqHQvA9QB6QAIPDCBcD3pAtY4F4HogekBNgAZA4S56QAAAAAAAQHpAah0LwPVQekACDwwgXF96QLWOBeB6cHpATYAGQOF+ekAAAAAAAJB6QGodC8D1oHpAAg8MIFyvekC1jgXgesB6QE2ABkDhznpAAAAAAADgekCzf/m/HvF6QAAAAAAAAHtAs3/5vx4Re0AAAAAAACB7QLN/+b8eMXtAAAAAAABAe0Czf/m/HlF7QAAAAAAAYHtAs3/5vx5xe0AAAAAAAIB7QGodC8D1kHtAAg8MIFyfe0C1jgXgerB7QE2ABkDhvntAAAAAAADQe0BqHQvA9eB7QAIPDCBc73tAtY4F4HoAfEBNgAZA4Q58QAAAAAAAIHxAah0LwPUwfEACDwwgXD98QLWOBeB6UHxATYAGQOFefEAAAAAAAHB8QGodC8D1gHxAAg8MIFyPfEC1jgXgeqB8QE2ABkDhrnxAAAAAAADAfED+8PPfo9B8QJbi9D8K33xAhqsDIK7vfEB6VPzfUQB9QLN/+b8eEX1AS3H6H4UffUA7OgkAKTB9QC/jAcDMQH1A0Rz+PzNPfUAAAAAAAGB9QGodC8D1cH1AAg8MIFx/fUC1jgXgepB9QE2ABkDhnn1AAAAAAACwfUBqHQvA9cB9QAIPDCBcz31AtY4F4HrgfUBNgAZA4e59QAAAAAAAAH5Aah0LwPUQfkACDwwgXB9+QLWOBeB6MH5ATYAGQOE+fkAAAAAAAFB+QGodC8D1YH5AAg8MIFxvfkC1jgXgeoB+QE2ABkDhjn5AAAAAAACgfkD+8PPfo7B+QJbi9D8Kv35AhqsDIK7PfkB6VPzfUeB+QLN/+b8e8X5AS3H6H4X/fkA7OgkAKRB/QC/jAcDMIH9A0Rz+PzMvf0AAAAAAAEB/QP7w89+jUH9AluL0Pwpff0CGqwMgrm9/QHpU/N9RgH9As3/5vx6Rf0BLcfofhZ9/QDs6CQApsH9AL+MBwMzAf0DRHP4/M89/QAAAAAAA4H9Aah0LwPXwf0ACDwwgXP9/QGBrAIA9CIBAJkADoHAPgEAAAAAAABiAQLWOBeB6IIBAhqsDIK4ngEBgawCAPTCAQCZAA6BwN4BAAAAAAABAgEBCzvv/KEiAQJjxAGBmUIBAS3H6H4VXgECglP9/wl+AQAAAAAAAaIBAQs77/yhwgECY8QBgZniAQEtx+h+Ff4BAoJT/f8KHgEAAAAAAAJCAQHpU/N9RmIBAS3H6H4WfgEC+MQQA16eAQELO+/8osIBA2r/8X4+4gECglP9/wr+AQB6dBIAUyIBAmPEAYGbQgEBoDv+fmdeAQAAAAAAA4IBAelT831HogEBLcfofhe+AQL4xBADX94BAQs77/ygAgUDav/xfjwiBQKCU/3/CD4FAHp0EgBQYgUCY8QBgZiCBQGgO/5+ZJ4FAAAAAAAAwgUA=",
          "dtype": "f8"
         },
         "y": {
          "bdata": "glC4hlKzBUBJzs1NIEIFQOPPsTib9wRAz9EUEOyhBEBRo+Z5PL0EQMILNsJE/QNAtz7H7NOwA0CC9Fy6lG0DQMafRng3JgNAKgpOzpTFAkDVZyk7P1ICQMNTNdktBAJADOJRrPfpAUAvt/wGlYUBQIFDWXAIJQFATvSUYRQZAUCBd6vjefcAQDJLKXcD1QBAc4UMsAqzAEDfq7LdrpsAQJ53KonKuABAONJHXCyVAED1mYhDe48AQDSzA/8hjgBA/JnRVSyrAECIQ+trQuQAQMWJTBih+gBAwI6MNr5NAUA+bUHZIZ0BQDw9AxJyOAJAlkRoy/QCA0BavXrXiA4EQLZT9rwPRgVAToswVzKTBkBXmhavAKUHQIWSgfvGQQlAlEzboK+XCkASk/pvg6sMQFD65k/7Gw9ARksXB9HXEECSKGFfsAISQJUAuuIJPRNAhNdbO9FXFEBFhwkAZoUVQMz/xeuy3hZAaE3quOM7GEA5i8Ti3t8ZQECpZ6wbAhtAuNj+/05EHEAQwWWmrjAdQAIpF85fVh5AvODxayzMH0AjAFFbrWkgQJgGcFqlKyFAbubn/rzQIUCPnrtxUJAiQAeLVFyDfSNA9OmR5Q9fJEA1RZ9983AlQEve3wbdGCZAZs1YSXPCJkCez7jjMy8nQJF4d9mamydA4PjUu32AKEDtkI8zDnkpQKx9HW306SpAq45B2nQwLECcSyYdn4ktQLGGVWYHAy9AaOZkze0WMEALDUyWnOcwQBmxyj4D4jFA0EaSH1akMkBiB1QZCckzQMm+Y+5u1DRAqHIwhmH7NUDKQdxPZFU3QINlW5xAdjhA7IbbaTfHOUAkZGLAJko7QMNcIgOw0zxAziUjl1gXP0BotczZ+pdAQPa3PbgeWEFANFDzLGy4QUAGKadhaRtCQO7IKS2jkEJAQ60ypIb6QkBQNZFKSmBDQLVpoiJ/xENAsncG84RyREDLso10XKxEQIdcg+yPy0RAAUSTGYzqREB0YvW7wk9FQEUP9hrZjUVASSMb9XwaRkAO5J4ep7hGQP6UixV/TkdA1dxP3ECJR0D0c811jNhHQJqA4gQVR0hAxnBj1tApSUBxjxWsyKtJQAuzW/9ltEpA5q68SPVhS0C0sDjFt2VMQF4z6V4Sd01AkActyqOdTkD8FuOtOgFQQAKazLqmf1BAizH5jT3sUEANiPrSn1FRQKMP24aVGFJA5OS/drmkUkCg5ZdaoIBTQCFpdAivPFRAPIkMwZsiVUD+GY6wPrVVQJNnl0y+/FVAljg+JVdUVkCKMtzyeJpWQO7P5DxFOFdAyNOzkdmbV0Dil3bznCdYQAe4KHuOo1hAE25sJeLZWEAAAAAAAABZQN1pXZwLpFhAUSw+s+pLWEBdDrT+0u5XQDilFtXfe1dAyu3vpugcV0BMmaI+Ea1WQEvt9CywaFZAaSmNhrm6VUAkQ2uBqiJVQO9wtG6aKVRALtk3mVdgU0DnybVcdZtSQKccdUpWWlFA8rLAkDlzUEC+2+63aDpPQDcPQgERvkxAqoR++uEjSkCuTS+4J6lHQPRPzbONskVAwgPoiex5Q0AAgMR8e3hBQFvOOV+tRD9ALfth3Fq5O0A=",
          "dtype": "f8"
         }
        },
        {
         "line": {
          "color": "red"
         },
         "mode": "lines+markers",
         "name": "Emission",
         "type": "scatter",
         "x": {
          "bdata": "CaP+H1y3gECglP9/wr+AQE2ABkDhxoBA6wX6n0fPgEBoDv+fmdeAQC/jAcDM3oBAs3/5vx7ngEBLcfofhe+AQPdcAeCj9oBAj04CQAr/gEAJo/4fXAeBQKCU/3/CD4FATYAGQOEWgUDrBfqfRx+BQGgO/5+ZJ4FAL+MBwMwugUCPTgJACjeBQOsF+p9HP4FAS3H6H4VHgUCglP9/wk+BQC/jAcDMVoFAj04CQApfgUDrBfqfR2eBQEtx+h+Fb4FAoJT/f8J3gUAv4wHAzH6BQLN/+b8eh4FAS3H6H4WPgUD3XAHgo5aBQI9OAkAKn4FACaP+H1yngUCglP9/wq+BQE2ABkDhtoFA6wX6n0e/gUBoDv+fmceBQC/jAcDMzoFAj04CQArXgUDrBfqfR9+BQEtx+h+F54FAoJT/f8LvgUAv4wHAzPaBQI9OAkAK/4FA6wX6n0cHgkBLcfofhQ+CQKCU/3/CF4JAL+MBwMwegkCzf/m/HieCQEtx+h+FL4JA91wB4KM2gkCPTgJACj+CQAmj/h9cR4JAoJT/f8JPgkBNgAZA4VaCQOsF+p9HX4JAaA7/n5lngkAv4wHAzG6CQI9OAkAKd4JA6wX6n0d/gkBLcfofhYeCQKCU/3/Cj4JAL+MBwMyWgkCPTgJACp+CQOsF+p9Hp4JAS3H6H4WvgkCglP9/wreCQC/jAcDMvoJATYAGQOHGgkCPTgJACs+CQLN/+b8e14JA6wX6n0ffgkAJo/4fXOeCQEtx+h+F74JAaA7/n5n3gkCglP9/wv+CQBX6BWC4BoNAL+MBwMwOg0CPTgJACheDQOsF+p9HH4NAS3H6H4Ung0CglP9/wi+DQC/jAcDMNoNAj04CQAo/g0DrBfqfR0eDQEtx+h+FT4NAoJT/f8JXg0Av4wHAzF6DQI9OAkAKZ4NA6wX6n0dvg0BLcfofhXeDQKCU/3/Cf4NAL+MBwMyGg0CPTgJACo+DQOsF+p9Hl4NAS3H6H4Wfg0CglP9/wqeDQC/jAcDMroNATYAGQOG2g0CPTgJACr+DQLN/+b8ex4NA6wX6n0fPg0AJo/4fXNeDQEtx+h+F34NAaA7/n5nng0CglP9/wu+DQBX6BWC49oNAL+MBwMz+g0BNgAZA4QaEQI9OAkAKD4RAs3/5vx4XhEDrBfqfRx+EQAmj/h9cJ4RAS3H6H4UvhEBoDv+fmTeEQKCU/3/CP4RAFfoFYLhGhEAv4wHAzE6EQE2ABkDhVoRA",
          "dtype": "f8"
         },
         "y": {
          "bdata": "8xWbBTYEQUAcnCV9bRhDQIA7hhZ1JkVACfai4p7HR0CpEGnBA1JKQDwBpOGZKExAl4OuCA8OT0D9F3GVetdQQBFcoq39xFFAp85CD0QXU0B+p7wBrilUQC5f8az/KFVAjESqH6cJVkBsFOuJERBXQFOtJhqjfVdAvaRQ2HPqV0As2uC5eHFYQNPBOrJX0FhAYKtbw+v/WEAAAAAAAABZQCS+EFnD4FhAAApOmiauWEAwX7/HZntYQFbM2VITFVhAjW6tNPd/V0CGMwqOAD1XQFadykiRbFZAF3h8IgceVkC54PUWr4FVQEi3LS3Zw1RA66jy+SsuVEBLpqwqiG9TQHaehpOMxFJA9wxUeHcQUkDxZlThpG9RQAWaz+Lx1VBAuVnqPoIkUEBf5VtOAu5OQKEnaqTvyE1AKXOmhveKTEDIbUbdYKRLQFk/1cfwmkpAOhohKv9HSUB15m/jwnRIQLlYhCNmXkdANHho6qBvRkBbIVBtqLVFQO0t1Nqd9URAFKPZ0gYuRECC/BIAQXVDQCsuhX/CwkJAq1PJKPgVQkBH1XalRHxBQNzQPlXnMkFAF4ZHKAy1QEDMozCRWixAQOqONpDqWD9AHFZyCjAPPkAQIH2aEgM9QDIACN8eTTxA2Uw6BhqJO0DwFCPEpZY6QFNnspNiKjpA2SSF5sDiOEAAew6Osg04QGec+qMBeTdAYhGDja90NkCvW6jVtyY2QIdpiC33NzVAvzYXt/mHNECCEGWEjogzQBm1VJdA4DJA940Ww3MzMkAJZv6SKL0xQDV65PI8yTBAL1B6SBZJMEBMsCnoHlYvQPXbfWzIPC5Aw0RycUsQLUAhs+8v8ZQrQCiSRk3shipA5Um10RxCKUA3FBKsrGooQNALBvYGGidAM4JthYsmJkBAByGrlTklQI2t7/aOnCRAz9HBdd6YI0B0tijG6JEiQByb2iaStSFAWD5C7u8eIUBJgqRMa0ogQFj2s48K5x5AjfJrPKxqHUBzc673Ki4cQCSq2liYJRtAUx93w8LhGUCmE/GDVHsYQDesegjQDhdA+TUDsmxWFkANSyl5KVgVQDJGmLTUhBRAIULQ8olrE0AJDe5GVW4SQKpNAlheARJAajeHu/IeEUAzZ2xtnocQQKvEsu1NSA9ARRA70uUSDkD1B4puvNUMQIaFG50bZAtAkfCbADQrCkARuvNEoPgIQI+USgd4RwhAAlnVXmFLB0DIcer00ogGQGMGkI5XRQVA",
          "dtype": "f8"
         }
        }
       ],
       "layout": {
        "font": {
         "size": 14
        },
        "height": 600,
        "legend": {
         "x": 0.1,
         "y": 0.9
        },
        "template": {
         "data": {
          "bar": [
           {
            "error_x": {
             "color": "#2a3f5f"
            },
            "error_y": {
             "color": "#2a3f5f"
            },
            "marker": {
             "line": {
              "color": "#E5ECF6",
              "width": 0.5
             },
             "pattern": {
              "fillmode": "overlay",
              "size": 10,
              "solidity": 0.2
             }
            },
            "type": "bar"
           }
          ],
          "barpolar": [
           {
            "marker": {
             "line": {
              "color": "#E5ECF6",
              "width": 0.5
             },
             "pattern": {
              "fillmode": "overlay",
              "size": 10,
              "solidity": 0.2
             }
            },
            "type": "barpolar"
           }
          ],
          "carpet": [
           {
            "aaxis": {
             "endlinecolor": "#2a3f5f",
             "gridcolor": "white",
             "linecolor": "white",
             "minorgridcolor": "white",
             "startlinecolor": "#2a3f5f"
            },
            "baxis": {
             "endlinecolor": "#2a3f5f",
             "gridcolor": "white",
             "linecolor": "white",
             "minorgridcolor": "white",
             "startlinecolor": "#2a3f5f"
            },
            "type": "carpet"
           }
          ],
          "choropleth": [
           {
            "colorbar": {
             "outlinewidth": 0,
             "ticks": ""
            },
            "type": "choropleth"
           }
          ],
          "contour": [
           {
            "colorbar": {
             "outlinewidth": 0,
             "ticks": ""
            },
            "colorscale": [
             [
              0,
              "#0d0887"
             ],
             [
              0.1111111111111111,
              "#46039f"
             ],
             [
              0.2222222222222222,
              "#7201a8"
             ],
             [
              0.3333333333333333,
              "#9c179e"
             ],
             [
              0.4444444444444444,
              "#bd3786"
             ],
             [
              0.5555555555555556,
              "#d8576b"
             ],
             [
              0.6666666666666666,
              "#ed7953"
             ],
             [
              0.7777777777777778,
              "#fb9f3a"
             ],
             [
              0.8888888888888888,
              "#fdca26"
             ],
             [
              1,
              "#f0f921"
             ]
            ],
            "type": "contour"
           }
          ],
          "contourcarpet": [
           {
            "colorbar": {
             "outlinewidth": 0,
             "ticks": ""
            },
            "type": "contourcarpet"
           }
          ],
          "heatmap": [
           {
            "colorbar": {
             "outlinewidth": 0,
             "ticks": ""
            },
            "colorscale": [
             [
              0,
              "#0d0887"
             ],
             [
              0.1111111111111111,
              "#46039f"
             ],
             [
              0.2222222222222222,
              "#7201a8"
             ],
             [
              0.3333333333333333,
              "#9c179e"
             ],
             [
              0.4444444444444444,
              "#bd3786"
             ],
             [
              0.5555555555555556,
              "#d8576b"
             ],
             [
              0.6666666666666666,
              "#ed7953"
             ],
             [
              0.7777777777777778,
              "#fb9f3a"
             ],
             [
              0.8888888888888888,
              "#fdca26"
             ],
             [
              1,
              "#f0f921"
             ]
            ],
            "type": "heatmap"
           }
          ],
          "histogram": [
           {
            "marker": {
             "pattern": {
              "fillmode": "overlay",
              "size": 10,
              "solidity": 0.2
             }
            },
            "type": "histogram"
           }
          ],
          "histogram2d": [
           {
            "colorbar": {
             "outlinewidth": 0,
             "ticks": ""
            },
            "colorscale": [
             [
              0,
              "#0d0887"
             ],
             [
              0.1111111111111111,
              "#46039f"
             ],
             [
              0.2222222222222222,
              "#7201a8"
             ],
             [
              0.3333333333333333,
              "#9c179e"
             ],
             [
              0.4444444444444444,
              "#bd3786"
             ],
             [
              0.5555555555555556,
              "#d8576b"
             ],
             [
              0.6666666666666666,
              "#ed7953"
             ],
             [
              0.7777777777777778,
              "#fb9f3a"
             ],
             [
              0.8888888888888888,
              "#fdca26"
             ],
             [
              1,
              "#f0f921"
             ]
            ],
            "type": "histogram2d"
           }
          ],
          "histogram2dcontour": [
           {
            "colorbar": {
             "outlinewidth": 0,
             "ticks": ""
            },
            "colorscale": [
             [
              0,
              "#0d0887"
             ],
             [
              0.1111111111111111,
              "#46039f"
             ],
             [
              0.2222222222222222,
              "#7201a8"
             ],
             [
              0.3333333333333333,
              "#9c179e"
             ],
             [
              0.4444444444444444,
              "#bd3786"
             ],
             [
              0.5555555555555556,
              "#d8576b"
             ],
             [
              0.6666666666666666,
              "#ed7953"
             ],
             [
              0.7777777777777778,
              "#fb9f3a"
             ],
             [
              0.8888888888888888,
              "#fdca26"
             ],
             [
              1,
              "#f0f921"
             ]
            ],
            "type": "histogram2dcontour"
           }
          ],
          "mesh3d": [
           {
            "colorbar": {
             "outlinewidth": 0,
             "ticks": ""
            },
            "type": "mesh3d"
           }
          ],
          "parcoords": [
           {
            "line": {
             "colorbar": {
              "outlinewidth": 0,
              "ticks": ""
             }
            },
            "type": "parcoords"
           }
          ],
          "pie": [
           {
            "automargin": true,
            "type": "pie"
           }
          ],
          "scatter": [
           {
            "fillpattern": {
             "fillmode": "overlay",
             "size": 10,
             "solidity": 0.2
            },
            "type": "scatter"
           }
          ],
          "scatter3d": [
           {
            "line": {
             "colorbar": {
              "outlinewidth": 0,
              "ticks": ""
             }
            },
            "marker": {
             "colorbar": {
              "outlinewidth": 0,
              "ticks": ""
             }
            },
            "type": "scatter3d"
           }
          ],
          "scattercarpet": [
           {
            "marker": {
             "colorbar": {
              "outlinewidth": 0,
              "ticks": ""
             }
            },
            "type": "scattercarpet"
           }
          ],
          "scattergeo": [
           {
            "marker": {
             "colorbar": {
              "outlinewidth": 0,
              "ticks": ""
             }
            },
            "type": "scattergeo"
           }
          ],
          "scattergl": [
           {
            "marker": {
             "colorbar": {
              "outlinewidth": 0,
              "ticks": ""
             }
            },
            "type": "scattergl"
           }
          ],
          "scattermap": [
           {
            "marker": {
             "colorbar": {
              "outlinewidth": 0,
              "ticks": ""
             }
            },
            "type": "scattermap"
           }
          ],
          "scattermapbox": [
           {
            "marker": {
             "colorbar": {
              "outlinewidth": 0,
              "ticks": ""
             }
            },
            "type": "scattermapbox"
           }
          ],
          "scatterpolar": [
           {
            "marker": {
             "colorbar": {
              "outlinewidth": 0,
              "ticks": ""
             }
            },
            "type": "scatterpolar"
           }
          ],
          "scatterpolargl": [
           {
            "marker": {
             "colorbar": {
              "outlinewidth": 0,
              "ticks": ""
             }
            },
            "type": "scatterpolargl"
           }
          ],
          "scatterternary": [
           {
            "marker": {
             "colorbar": {
              "outlinewidth": 0,
              "ticks": ""
             }
            },
            "type": "scatterternary"
           }
          ],
          "surface": [
           {
            "colorbar": {
             "outlinewidth": 0,
             "ticks": ""
            },
            "colorscale": [
             [
              0,
              "#0d0887"
             ],
             [
              0.1111111111111111,
              "#46039f"
             ],
             [
              0.2222222222222222,
              "#7201a8"
             ],
             [
              0.3333333333333333,
              "#9c179e"
             ],
             [
              0.4444444444444444,
              "#bd3786"
             ],
             [
              0.5555555555555556,
              "#d8576b"
             ],
             [
              0.6666666666666666,
              "#ed7953"
             ],
             [
              0.7777777777777778,
              "#fb9f3a"
             ],
             [
              0.8888888888888888,
              "#fdca26"
             ],
             [
              1,
              "#f0f921"
             ]
            ],
            "type": "surface"
           }
          ],
          "table": [
           {
            "cells": {
             "fill": {
              "color": "#EBF0F8"
             },
             "line": {
              "color": "white"
             }
            },
            "header": {
             "fill": {
              "color": "#C8D4E3"
             },
             "line": {
              "color": "white"
             }
            },
            "type": "table"
           }
          ]
         },
         "layout": {
          "annotationdefaults": {
           "arrowcolor": "#2a3f5f",
           "arrowhead": 0,
           "arrowwidth": 1
          },
          "autotypenumbers": "strict",
          "coloraxis": {
           "colorbar": {
            "outlinewidth": 0,
            "ticks": ""
           }
          },
          "colorscale": {
           "diverging": [
            [
             0,
             "#8e0152"
            ],
            [
             0.1,
             "#c51b7d"
            ],
            [
             0.2,
             "#de77ae"
            ],
            [
             0.3,
             "#f1b6da"
            ],
            [
             0.4,
             "#fde0ef"
            ],
            [
             0.5,
             "#f7f7f7"
            ],
            [
             0.6,
             "#e6f5d0"
            ],
            [
             0.7,
             "#b8e186"
            ],
            [
             0.8,
             "#7fbc41"
            ],
            [
             0.9,
             "#4d9221"
            ],
            [
             1,
             "#276419"
            ]
           ],
           "sequential": [
            [
             0,
             "#0d0887"
            ],
            [
             0.1111111111111111,
             "#46039f"
            ],
            [
             0.2222222222222222,
             "#7201a8"
            ],
            [
             0.3333333333333333,
             "#9c179e"
            ],
            [
             0.4444444444444444,
             "#bd3786"
            ],
            [
             0.5555555555555556,
             "#d8576b"
            ],
            [
             0.6666666666666666,
             "#ed7953"
            ],
            [
             0.7777777777777778,
             "#fb9f3a"
            ],
            [
             0.8888888888888888,
             "#fdca26"
            ],
            [
             1,
             "#f0f921"
            ]
           ],
           "sequentialminus": [
            [
             0,
             "#0d0887"
            ],
            [
             0.1111111111111111,
             "#46039f"
            ],
            [
             0.2222222222222222,
             "#7201a8"
            ],
            [
             0.3333333333333333,
             "#9c179e"
            ],
            [
             0.4444444444444444,
             "#bd3786"
            ],
            [
             0.5555555555555556,
             "#d8576b"
            ],
            [
             0.6666666666666666,
             "#ed7953"
            ],
            [
             0.7777777777777778,
             "#fb9f3a"
            ],
            [
             0.8888888888888888,
             "#fdca26"
            ],
            [
             1,
             "#f0f921"
            ]
           ]
          },
          "colorway": [
           "#636efa",
           "#EF553B",
           "#00cc96",
           "#ab63fa",
           "#FFA15A",
           "#19d3f3",
           "#FF6692",
           "#B6E880",
           "#FF97FF",
           "#FECB52"
          ],
          "font": {
           "color": "#2a3f5f"
          },
          "geo": {
           "bgcolor": "white",
           "lakecolor": "white",
           "landcolor": "#E5ECF6",
           "showlakes": true,
           "showland": true,
           "subunitcolor": "white"
          },
          "hoverlabel": {
           "align": "left"
          },
          "hovermode": "closest",
          "mapbox": {
           "style": "light"
          },
          "paper_bgcolor": "white",
          "plot_bgcolor": "#E5ECF6",
          "polar": {
           "angularaxis": {
            "gridcolor": "white",
            "linecolor": "white",
            "ticks": ""
           },
           "bgcolor": "#E5ECF6",
           "radialaxis": {
            "gridcolor": "white",
            "linecolor": "white",
            "ticks": ""
           }
          },
          "scene": {
           "xaxis": {
            "backgroundcolor": "#E5ECF6",
            "gridcolor": "white",
            "gridwidth": 2,
            "linecolor": "white",
            "showbackground": true,
            "ticks": "",
            "zerolinecolor": "white"
           },
           "yaxis": {
            "backgroundcolor": "#E5ECF6",
            "gridcolor": "white",
            "gridwidth": 2,
            "linecolor": "white",
            "showbackground": true,
            "ticks": "",
            "zerolinecolor": "white"
           },
           "zaxis": {
            "backgroundcolor": "#E5ECF6",
            "gridcolor": "white",
            "gridwidth": 2,
            "linecolor": "white",
            "showbackground": true,
            "ticks": "",
            "zerolinecolor": "white"
           }
          },
          "shapedefaults": {
           "line": {
            "color": "#2a3f5f"
           }
          },
          "ternary": {
           "aaxis": {
            "gridcolor": "white",
            "linecolor": "white",
            "ticks": ""
           },
           "baxis": {
            "gridcolor": "white",
            "linecolor": "white",
            "ticks": ""
           },
           "bgcolor": "#E5ECF6",
           "caxis": {
            "gridcolor": "white",
            "linecolor": "white",
            "ticks": ""
           }
          },
          "title": {
           "x": 0.05
          },
          "xaxis": {
           "automargin": true,
           "gridcolor": "white",
           "linecolor": "white",
           "ticks": "",
           "title": {
            "standoff": 15
           },
           "zerolinecolor": "white",
           "zerolinewidth": 2
          },
          "yaxis": {
           "automargin": true,
           "gridcolor": "white",
           "linecolor": "white",
           "ticks": "",
           "title": {
            "standoff": 15
           },
           "zerolinecolor": "white",
           "zerolinewidth": 2
          }
         }
        },
        "width": 800,
        "xaxis": {
         "title": {
          "text": "Wavelength (nm)"
         }
        },
        "yaxis": {
         "title": {
          "text": "Intensity (a.u.)"
         }
        }
       }
      }
     },
     "metadata": {},
     "output_type": "display_data"
    }
   ],
   "source": [
    "ecc_lambda = data['Wavelength (nm).1'].dropna().to_numpy()\n",
    "ecc_int = data['Intensity (a.u.).1'].dropna().to_numpy()\n",
    "\n",
    "emi_lambda = data['Wavelength (nm)'].dropna().to_numpy()\n",
    "emi_int = data['Intensity (a.u.)'].dropna().to_numpy()\n",
    "\n",
    "norm_factor_exc = np.max(ecc_int)\n",
    "norm_factor_em = np.max(emi_int)\n",
    "\n",
    "fig = go.Figure()\n",
    "fig.add_trace(go.Scatter(x=ecc_lambda, y=ecc_int/norm_factor_exc *100, mode='lines+markers', name='Excitation', line=dict(color='blue')))\n",
    "# fig.add_trace(go.Scatter(x=R6G_excitation['Wavelength'], y=R6G_excitation['Relative intensity'], mode='lines', name='Excitation theoric', line=dict(color='purple')))\n",
    "fig.add_trace(go.Scatter(x=emi_lambda, y=emi_int/norm_factor_em *100, mode='lines+markers', name='Emission', line=dict(color='red')))\n",
    "# fig.add_trace(go.Scatter(x=R6G_emission['Wavelength'], y=R6G_emission['Relative intensity'], mode='lines', name='Emission theoric', line=dict(color='orange')))\n",
    "fig.update_layout(\n",
    "    # title='Stokes Shift',\n",
    "    xaxis_title='Wavelength (nm)',\n",
    "    yaxis_title='Intensity (a.u.)',\n",
    "    legend=dict(x=0.1, y=0.9),\n",
    "    font=dict(size=14),\n",
    "    width=800,\n",
    "    height=600,\n",
    ")\n",
    "fig.show()\n"
   ]
  },
  {
   "cell_type": "markdown",
   "metadata": {},
   "source": [
    "FIT PARABOLICO DEI PICCHI"
   ]
  },
  {
   "cell_type": "code",
   "execution_count": 5,
   "metadata": {},
   "outputs": [],
   "source": [
    "def parabola(x, x0,y0,a): # a positivo per picchi\n",
    "    return y0 - a*(x-x0)**2"
   ]
  },
  {
   "cell_type": "code",
   "execution_count": 6,
   "metadata": {},
   "outputs": [
    {
     "name": "stdout",
     "output_type": "stream",
     "text": [
      "ECCITAZIONE: \n",
      "{'λecc': np.float64(526.7285798603273), 'y0': np.float64(962.4133734773484), 'a': np.float64(2.973017602828064)}\n",
      "EMISSIONE: \n",
      "{'λemi': np.float64(553.9520035226043), 'y0': np.float64(963.3854183589305), 'a': np.float64(2.3233105574553363)}\n"
     ]
    }
   ],
   "source": [
    "max_index_ecc_int = np.argmax(ecc_int)\n",
    "max_index_emi_int = np.argmax(emi_int)\n",
    "\n",
    "d = 5\n",
    "y = ecc_int[max_index_ecc_int-d:max_index_ecc_int+d]\n",
    "x = ecc_lambda[max_index_ecc_int-d:max_index_ecc_int+d]\n",
    "sigmay = y * Y_PEAK_ERR\n",
    "guess = [ecc_lambda[max_index_ecc_int], ecc_int[max_index_ecc_int], 2]\n",
    "popt_ecc, pcov_ecc = curve_fit(parabola, x, y, p0=guess, sigma=sigmay, absolute_sigma=True)\n",
    "error_ecc = np.sqrt(np.diag(pcov_ecc))\n",
    "res = dict(zip(['λecc', 'y0', 'a'], popt_ecc))\n",
    "print('ECCITAZIONE: ')\n",
    "print(res)\n",
    "\n",
    "y = emi_int[max_index_emi_int-d:max_index_emi_int+d]\n",
    "x = emi_lambda[max_index_emi_int-d:max_index_emi_int+d]\n",
    "sigmay = y * Y_PEAK_ERR\n",
    "guess = [emi_lambda[max_index_emi_int], emi_int[max_index_emi_int], 2]\n",
    "popt_emi, pcov_emi = curve_fit(parabola, x, y, p0=guess,sigma=sigmay, absolute_sigma=True)\n",
    "error_emi = np.sqrt(np.diag(pcov_emi))\n",
    "res = dict(zip(['λemi', 'y0', 'a'], popt_emi))\n",
    "print('EMISSIONE: ')\n",
    "print(res)"
   ]
  },
  {
   "cell_type": "markdown",
   "metadata": {},
   "source": [
    "STOKE SHIFT = $\\Delta\\lambda$ = PICCO EMISSIONE - PICCO ECCITAZIONE = $\\lambda_{emi} - \\lambda_{exc}$\n",
    "\n",
    "NOTA: lo stoke shift è influenzato dagli effetti di solvente"
   ]
  },
  {
   "cell_type": "code",
   "execution_count": 7,
   "metadata": {},
   "outputs": [
    {
     "name": "stdout",
     "output_type": "stream",
     "text": [
      "stoke shift:\n",
      "Δλ:  27.2 ± 0.1 nm\n",
      "ΔE:  0.1157 ± 0.0006 eV\n"
     ]
    }
   ],
   "source": [
    "# STOKE SHIFT\n",
    "print('stoke shift:')\n",
    "delta_lambda = np.abs(popt_ecc[0] - popt_emi[0])\n",
    "sigma_delta_lambda = np.sqrt(error_ecc[0]**2 + error_emi[0]**2)\n",
    "print('Δλ: ', final_val(delta_lambda, sigma_delta_lambda,1,udm='nm'))\n",
    "stokes_shift = 1240/popt_ecc[0] - 1240/popt_emi[0]\n",
    "sigma_delta_lambda = np.sqrt((1240/popt_ecc[0]**2 * error_ecc[0])**2 + (1240/popt_emi[0]**2 * error_emi[0])**2)\n",
    "print('ΔE: ', final_val(stokes_shift, sigma_delta_lambda,4,udm='eV'))"
   ]
  },
  {
   "cell_type": "code",
   "execution_count": 9,
   "metadata": {},
   "outputs": [
    {
     "data": {
      "application/vnd.plotly.v1+json": {
       "config": {
        "plotlyServerURL": "https://plot.ly"
       },
       "data": [
        {
         "mode": "lines+markers",
         "name": "Excitation",
         "type": "scatter",
         "x": {
          "bdata": "AAAAAAAAeUCzf/m/HhF5QAAAAAAAIHlAs3/5vx4xeUAAAAAAAEB5QLN/+b8eUXlAAAAAAABgeUCzf/m/HnF5QAAAAAAAgHlAs3/5vx6ReUAAAAAAAKB5QGodC8D1sHlAAg8MIFy/eUC1jgXgetB5QE2ABkDh3nlAAAAAAADweUBqHQvA9QB6QAIPDCBcD3pAtY4F4HogekBNgAZA4S56QAAAAAAAQHpAah0LwPVQekACDwwgXF96QLWOBeB6cHpATYAGQOF+ekAAAAAAAJB6QGodC8D1oHpAAg8MIFyvekC1jgXgesB6QE2ABkDhznpAAAAAAADgekCzf/m/HvF6QAAAAAAAAHtAs3/5vx4Re0AAAAAAACB7QLN/+b8eMXtAAAAAAABAe0Czf/m/HlF7QAAAAAAAYHtAs3/5vx5xe0AAAAAAAIB7QGodC8D1kHtAAg8MIFyfe0C1jgXgerB7QE2ABkDhvntAAAAAAADQe0BqHQvA9eB7QAIPDCBc73tAtY4F4HoAfEBNgAZA4Q58QAAAAAAAIHxAah0LwPUwfEACDwwgXD98QLWOBeB6UHxATYAGQOFefEAAAAAAAHB8QGodC8D1gHxAAg8MIFyPfEC1jgXgeqB8QE2ABkDhrnxAAAAAAADAfED+8PPfo9B8QJbi9D8K33xAhqsDIK7vfEB6VPzfUQB9QLN/+b8eEX1AS3H6H4UffUA7OgkAKTB9QC/jAcDMQH1A0Rz+PzNPfUAAAAAAAGB9QGodC8D1cH1AAg8MIFx/fUC1jgXgepB9QE2ABkDhnn1AAAAAAACwfUBqHQvA9cB9QAIPDCBcz31AtY4F4HrgfUBNgAZA4e59QAAAAAAAAH5Aah0LwPUQfkACDwwgXB9+QLWOBeB6MH5ATYAGQOE+fkAAAAAAAFB+QGodC8D1YH5AAg8MIFxvfkC1jgXgeoB+QE2ABkDhjn5AAAAAAACgfkD+8PPfo7B+QJbi9D8Kv35AhqsDIK7PfkB6VPzfUeB+QLN/+b8e8X5AS3H6H4X/fkA7OgkAKRB/QC/jAcDMIH9A0Rz+PzMvf0AAAAAAAEB/QP7w89+jUH9AluL0Pwpff0CGqwMgrm9/QHpU/N9RgH9As3/5vx6Rf0BLcfofhZ9/QDs6CQApsH9AL+MBwMzAf0DRHP4/M89/QAAAAAAA4H9Aah0LwPXwf0ACDwwgXP9/QGBrAIA9CIBAJkADoHAPgEAAAAAAABiAQLWOBeB6IIBAhqsDIK4ngEBgawCAPTCAQCZAA6BwN4BAAAAAAABAgEBCzvv/KEiAQJjxAGBmUIBAS3H6H4VXgECglP9/wl+AQAAAAAAAaIBAQs77/yhwgECY8QBgZniAQEtx+h+Ff4BAoJT/f8KHgEAAAAAAAJCAQHpU/N9RmIBAS3H6H4WfgEC+MQQA16eAQELO+/8osIBA2r/8X4+4gECglP9/wr+AQB6dBIAUyIBAmPEAYGbQgEBoDv+fmdeAQAAAAAAA4IBAelT831HogEBLcfofhe+AQL4xBADX94BAQs77/ygAgUDav/xfjwiBQKCU/3/CD4FAHp0EgBQYgUCY8QBgZiCBQGgO/5+ZJ4FAAAAAAAAwgUA=",
          "dtype": "f8"
         },
         "y": {
          "bdata": "FFH6351LOkD6POu/c8I5QP7cCkAnaDlAEcgEgFMAOUC39AWAbCE5QCXaAgDPODhAd4j7ny7cN0AopgNAsoo3QL+XBKA4NDdAT84OwB+/NkCUpwdgXjM2QEiREEDF1DVALjr2PwK1NUAp4fAfXjs1QNXk7/9fxjRACDnv/+O3NEDGFw4ALI80QGVa9n9pZTRAM9YGQD88NEDwtfM/8R80QBSUBcA2QzRA1XkS4A0YNEBuEBBAKBE0QN9X/t+FDzRAAuT4X7YyNECAlQng4nc0QFT8ACD+kjRAVuD5f7T3NEASbQGA51c1QARdFKAaFDZAfhzun34JN0CUu/D/uk04QIo0+X84xzlAeWz0/+RaO0ATmBRAraY8QGFTCGDamj5A3vH9P5QcQEA+BgpAzF5BQHaMCiAl2UJAJdoCAM9oREAoJPz/9tJFQApI+x/gT0dAi1v9v4emSECZVwEA+BNKQJKY+z9itktAn237P4NdTUDJ9/ffa1pPQNvmAKAOXVBANuED4EQgUUDKHvwfe69RQLRnAaBrYVJAQCn//+RDU0AU0wEgWeNTQHFyAWBjzlRAMq8CAHCWVUACpfz/k35WQLiZAoAAnldAk4ADIE+vWEAufDMgMftZQC1q5n+oxlpAwrkrYCeUW0DBe/3/7hdcQIFS/v9Jm1xACxnZ36OwXUCN1eb/1d1eQBALEGBsTmBAe4/pvz0UYUBrhxrgXeVhQMER7t8GymJA/8QSIBR/Y0Co/BDA8ntkQKk3/p9eq2VAxcX2/9aWZkD7EAoAhPlnQCIi61+IPWlAxFvn3+6iakBWjRSANUZsQPBe/787pG1ADIPo/4s8b0AyLfu/tIhwQNXQBmAjd3FAivX8H1bWckAenQSAdBt0QNopDIBHBHVATBb3H/l4dUAJo/4f7PB1QBFG/T/4fnZA2ikMgEf/dkDWdQNgl3p3QPsQCgAE9HdAudj+3+LGeEBzVvq/+Qx5QB9CAYDIMnlAFjXzP1RYeUBJNg1A+dJ5QETdByA1HnpAHPgHgKDIekAOkvQfSIh7QKTe+H/aPXxAS9sJQA2FfEDNaPUfI+V8QNEc/j8Ta31AXlz0X9F9fkCR8/4/Tht/QGgO/5/5LYBATYAGQCGXgECukAPAgjSBQDGI/r8g2oFARoIEIJmMgkAtPgXAyGSDQGgO/5/5/YNAqTf+n46BhEAfQgGAaPyEQMF7/f9+7YVA2r/8X0+XhkCNqQVAxqGHQLA1AMCmhYhArpADwEKciUCSmPs/8k2KQGO1+X+VpIpAp5IBoLoOi0B/rQEAtmOLQPum+t/rIoxAf60BAJabjEBXyAFg8USNQFfIAWAh241AdWUG4PUcjkB1ZQbgJUuOQELO+/+4241AwXv9/+5wjUBJzP0fIQCNQL4xBADXdIxABVkFIMQBjECR8/4/PnqLQKvc+p9iJ4tAivX8H5ZUikAo5f+fVJyJQPkB/t+HbohA4b3+f6d6h0BAKf//FIyGQNPB+j/3BoVAtY4F4Orug0AenQSAlOuCQHYKA+AJaoFAbf30n9Wsf0BZbf5ftat8QNMrCmCvSnpAyHn/H6eZd0Cf7wKAfit1QE678x/N8XJAMi37vxTMcEA=",
          "dtype": "f8"
         }
        },
        {
         "mode": "lines+markers",
         "name": "Emission",
         "type": "scatter",
         "x": {
          "bdata": "CaP+H1y3gECglP9/wr+AQE2ABkDhxoBA6wX6n0fPgEBoDv+fmdeAQC/jAcDM3oBAs3/5vx7ngEBLcfofhe+AQPdcAeCj9oBAj04CQAr/gEAJo/4fXAeBQKCU/3/CD4FATYAGQOEWgUDrBfqfRx+BQGgO/5+ZJ4FAL+MBwMwugUCPTgJACjeBQOsF+p9HP4FAS3H6H4VHgUCglP9/wk+BQC/jAcDMVoFAj04CQApfgUDrBfqfR2eBQEtx+h+Fb4FAoJT/f8J3gUAv4wHAzH6BQLN/+b8eh4FAS3H6H4WPgUD3XAHgo5aBQI9OAkAKn4FACaP+H1yngUCglP9/wq+BQE2ABkDhtoFA6wX6n0e/gUBoDv+fmceBQC/jAcDMzoFAj04CQArXgUDrBfqfR9+BQEtx+h+F54FAoJT/f8LvgUAv4wHAzPaBQI9OAkAK/4FA6wX6n0cHgkBLcfofhQ+CQKCU/3/CF4JAL+MBwMwegkCzf/m/HieCQEtx+h+FL4JA91wB4KM2gkCPTgJACj+CQAmj/h9cR4JAoJT/f8JPgkBNgAZA4VaCQOsF+p9HX4JAaA7/n5lngkAv4wHAzG6CQI9OAkAKd4JA6wX6n0d/gkBLcfofhYeCQKCU/3/Cj4JAL+MBwMyWgkCPTgJACp+CQOsF+p9Hp4JAS3H6H4WvgkCglP9/wreCQC/jAcDMvoJATYAGQOHGgkCPTgJACs+CQLN/+b8e14JA6wX6n0ffgkAJo/4fXOeCQEtx+h+F74JAaA7/n5n3gkCglP9/wv+CQBX6BWC4BoNAL+MBwMwOg0CPTgJACheDQOsF+p9HH4NAS3H6H4Ung0CglP9/wi+DQC/jAcDMNoNAj04CQAo/g0DrBfqfR0eDQEtx+h+FT4NAoJT/f8JXg0Av4wHAzF6DQI9OAkAKZ4NA6wX6n0dvg0BLcfofhXeDQKCU/3/Cf4NAL+MBwMyGg0CPTgJACo+DQOsF+p9Hl4NAS3H6H4Wfg0CglP9/wqeDQC/jAcDMroNATYAGQOG2g0CPTgJACr+DQLN/+b8ex4NA6wX6n0fPg0AJo/4fXNeDQEtx+h+F34NAaA7/n5nng0CglP9/wu+DQBX6BWC49oNAL+MBwMz+g0BNgAZA4QaEQI9OAkAKD4RAs3/5vx4XhEDrBfqfRx+EQAmj/h9cJ4RAS3H6H4UvhEBoDv+fmTeEQKCU/3/CP4RAFfoFYLhGhEAv4wHAzE6EQE2ABkDhVoRA",
          "dtype": "f8"
         },
         "y": {
          "bdata": "YRD9fwF/dEB8YwgADgB3QLfJ8r+meXlA/bUGAHikfEAXnwJg3LN/QKbtBKBW9YBAI4z6f+CzgkAYRP9fIEmEQEAp//80Z4VA77kCwKf+hkDBe/3/LkmIQJjxAGC2fIlAkfP+P06LikB6VPzfYceLQM7SBEBbS4xAF58CYGzOjEBVIwVgDXGNQK6QA8BS441AYRD9f6EcjkB2CgPguRyOQIFS/v8Z941A7RQGwCO6jUDRHP4/A32NQMfUAiDDAY1AUMr/PylOjEBJzP0fgf2LQKCU/39yAotAOIYA4NijikAV+gVgiOeJQDGI/r/gAolAB/4BIJhOiEAfQgGA+GiHQIr1/B8Gm4ZAeK//3x3ChUAV+gVgaACFQNZ1A2BHR4RAxS8GII9xg0DRHP4/k6CCQLnY/t8S8IFABVkFIJQwgUBOJQNAtaWAQF7GA4DZBYBAhJz3/3FzfkD0qPi/A3V9QMDWAAC7JXxAneD2XyIGe0CaAA2AIiZ6QLUk9r/SPnlA2BoAYGtOeEAzlwrg3G93QJSnB2DemHZAqTf+n77IdUA93wUAnQ91QMUvBiA/t3RA2ikMgKcfdECIUAAgAntzQG399J/14HJAc8AJ4GEackBaEvtf6XhxQDqVDABVC3FA+QH+30eVcEDpYP2fQwNwQDRo6J8ghG9A628JwH/5bUAKSPsf4PhsQNDhEGDHRWxAZS4VwDkMa0AVZBWAUK5qQE+PEmC9jmlAwyD6/8K6aEAzlwrgHIdnQBrp+19kvGZAXjAToEHsZUBu0RPgxV1lQFde8j/5N2RAg/f6/52dY0CsgfefRt9iQNOVGYDXNWJA9rcE4N+AYUBN6hVgaZxgQLMV6p+W819AAWfOn1tsXkBZ1w2A3WhdQDRo6J9g01tAvfYWIBuuWkA6/NqfsJBZQNhZ/L+N01hArpADwMKaV0BBaPtfB15WQJKY+z+iVFVABPMEgDKfVEAtPgXAOJ9TQA3V//9gnFJARgD93023UUBtf/zfsPhQQAc9/n9aWVBAIpAJAKcsT0BL2wlA7XxNQHD0CKDexUtA4uQCwMbnSkBLcfofhbVJQIzB/V/5tkhAUMr/PylkR0BgawCALTNGQGL4BGDur0VASkr23zWfREAg//Wf7+hDQB6dBID01kJAFFH6350cQkDmFgSgm11BQIM2918Af0BAM5cK4ByFP0AyGRIg2BM+QBEHAeB1Pj1AR371n9IOPEDfrvJfeyQ7QN4cEQDanjlA",
          "dtype": "f8"
         }
        },
        {
         "line": {
          "color": "blue",
          "width": 5
         },
         "mode": "lines",
         "name": "Excitation Fit",
         "type": "scatter",
         "x": {
          "bdata": "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",
          "dtype": "f8"
         },
         "y": {
          "bdata": "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",
          "dtype": "f8"
         }
        },
        {
         "line": {
          "color": "red",
          "width": 5
         },
         "mode": "lines",
         "name": "Emission Fit",
         "type": "scatter",
         "x": {
          "bdata": "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",
          "dtype": "f8"
         },
         "y": {
          "bdata": "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",
          "dtype": "f8"
         }
        }
       ],
       "layout": {
        "font": {
         "size": 14
        },
        "height": 600,
        "legend": {
         "x": 0.1,
         "y": 0.9
        },
        "shapes": [
         {
          "fillcolor": "green",
          "layer": "below",
          "line": {
           "width": 0
          },
          "name": "Stokes Shift",
          "opacity": 0.3,
          "type": "rect",
          "x0": 527.0499878,
          "x1": 553.9699707,
          "y0": 0,
          "y1": 1000
         }
        ],
        "template": {
         "data": {
          "bar": [
           {
            "error_x": {
             "color": "#2a3f5f"
            },
            "error_y": {
             "color": "#2a3f5f"
            },
            "marker": {
             "line": {
              "color": "#E5ECF6",
              "width": 0.5
             },
             "pattern": {
              "fillmode": "overlay",
              "size": 10,
              "solidity": 0.2
             }
            },
            "type": "bar"
           }
          ],
          "barpolar": [
           {
            "marker": {
             "line": {
              "color": "#E5ECF6",
              "width": 0.5
             },
             "pattern": {
              "fillmode": "overlay",
              "size": 10,
              "solidity": 0.2
             }
            },
            "type": "barpolar"
           }
          ],
          "carpet": [
           {
            "aaxis": {
             "endlinecolor": "#2a3f5f",
             "gridcolor": "white",
             "linecolor": "white",
             "minorgridcolor": "white",
             "startlinecolor": "#2a3f5f"
            },
            "baxis": {
             "endlinecolor": "#2a3f5f",
             "gridcolor": "white",
             "linecolor": "white",
             "minorgridcolor": "white",
             "startlinecolor": "#2a3f5f"
            },
            "type": "carpet"
           }
          ],
          "choropleth": [
           {
            "colorbar": {
             "outlinewidth": 0,
             "ticks": ""
            },
            "type": "choropleth"
           }
          ],
          "contour": [
           {
            "colorbar": {
             "outlinewidth": 0,
             "ticks": ""
            },
            "colorscale": [
             [
              0,
              "#0d0887"
             ],
             [
              0.1111111111111111,
              "#46039f"
             ],
             [
              0.2222222222222222,
              "#7201a8"
             ],
             [
              0.3333333333333333,
              "#9c179e"
             ],
             [
              0.4444444444444444,
              "#bd3786"
             ],
             [
              0.5555555555555556,
              "#d8576b"
             ],
             [
              0.6666666666666666,
              "#ed7953"
             ],
             [
              0.7777777777777778,
              "#fb9f3a"
             ],
             [
              0.8888888888888888,
              "#fdca26"
             ],
             [
              1,
              "#f0f921"
             ]
            ],
            "type": "contour"
           }
          ],
          "contourcarpet": [
           {
            "colorbar": {
             "outlinewidth": 0,
             "ticks": ""
            },
            "type": "contourcarpet"
           }
          ],
          "heatmap": [
           {
            "colorbar": {
             "outlinewidth": 0,
             "ticks": ""
            },
            "colorscale": [
             [
              0,
              "#0d0887"
             ],
             [
              0.1111111111111111,
              "#46039f"
             ],
             [
              0.2222222222222222,
              "#7201a8"
             ],
             [
              0.3333333333333333,
              "#9c179e"
             ],
             [
              0.4444444444444444,
              "#bd3786"
             ],
             [
              0.5555555555555556,
              "#d8576b"
             ],
             [
              0.6666666666666666,
              "#ed7953"
             ],
             [
              0.7777777777777778,
              "#fb9f3a"
             ],
             [
              0.8888888888888888,
              "#fdca26"
             ],
             [
              1,
              "#f0f921"
             ]
            ],
            "type": "heatmap"
           }
          ],
          "histogram": [
           {
            "marker": {
             "pattern": {
              "fillmode": "overlay",
              "size": 10,
              "solidity": 0.2
             }
            },
            "type": "histogram"
           }
          ],
          "histogram2d": [
           {
            "colorbar": {
             "outlinewidth": 0,
             "ticks": ""
            },
            "colorscale": [
             [
              0,
              "#0d0887"
             ],
             [
              0.1111111111111111,
              "#46039f"
             ],
             [
              0.2222222222222222,
              "#7201a8"
             ],
             [
              0.3333333333333333,
              "#9c179e"
             ],
             [
              0.4444444444444444,
              "#bd3786"
             ],
             [
              0.5555555555555556,
              "#d8576b"
             ],
             [
              0.6666666666666666,
              "#ed7953"
             ],
             [
              0.7777777777777778,
              "#fb9f3a"
             ],
             [
              0.8888888888888888,
              "#fdca26"
             ],
             [
              1,
              "#f0f921"
             ]
            ],
            "type": "histogram2d"
           }
          ],
          "histogram2dcontour": [
           {
            "colorbar": {
             "outlinewidth": 0,
             "ticks": ""
            },
            "colorscale": [
             [
              0,
              "#0d0887"
             ],
             [
              0.1111111111111111,
              "#46039f"
             ],
             [
              0.2222222222222222,
              "#7201a8"
             ],
             [
              0.3333333333333333,
              "#9c179e"
             ],
             [
              0.4444444444444444,
              "#bd3786"
             ],
             [
              0.5555555555555556,
              "#d8576b"
             ],
             [
              0.6666666666666666,
              "#ed7953"
             ],
             [
              0.7777777777777778,
              "#fb9f3a"
             ],
             [
              0.8888888888888888,
              "#fdca26"
             ],
             [
              1,
              "#f0f921"
             ]
            ],
            "type": "histogram2dcontour"
           }
          ],
          "mesh3d": [
           {
            "colorbar": {
             "outlinewidth": 0,
             "ticks": ""
            },
            "type": "mesh3d"
           }
          ],
          "parcoords": [
           {
            "line": {
             "colorbar": {
              "outlinewidth": 0,
              "ticks": ""
             }
            },
            "type": "parcoords"
           }
          ],
          "pie": [
           {
            "automargin": true,
            "type": "pie"
           }
          ],
          "scatter": [
           {
            "fillpattern": {
             "fillmode": "overlay",
             "size": 10,
             "solidity": 0.2
            },
            "type": "scatter"
           }
          ],
          "scatter3d": [
           {
            "line": {
             "colorbar": {
              "outlinewidth": 0,
              "ticks": ""
             }
            },
            "marker": {
             "colorbar": {
              "outlinewidth": 0,
              "ticks": ""
             }
            },
            "type": "scatter3d"
           }
          ],
          "scattercarpet": [
           {
            "marker": {
             "colorbar": {
              "outlinewidth": 0,
              "ticks": ""
             }
            },
            "type": "scattercarpet"
           }
          ],
          "scattergeo": [
           {
            "marker": {
             "colorbar": {
              "outlinewidth": 0,
              "ticks": ""
             }
            },
            "type": "scattergeo"
           }
          ],
          "scattergl": [
           {
            "marker": {
             "colorbar": {
              "outlinewidth": 0,
              "ticks": ""
             }
            },
            "type": "scattergl"
           }
          ],
          "scattermap": [
           {
            "marker": {
             "colorbar": {
              "outlinewidth": 0,
              "ticks": ""
             }
            },
            "type": "scattermap"
           }
          ],
          "scattermapbox": [
           {
            "marker": {
             "colorbar": {
              "outlinewidth": 0,
              "ticks": ""
             }
            },
            "type": "scattermapbox"
           }
          ],
          "scatterpolar": [
           {
            "marker": {
             "colorbar": {
              "outlinewidth": 0,
              "ticks": ""
             }
            },
            "type": "scatterpolar"
           }
          ],
          "scatterpolargl": [
           {
            "marker": {
             "colorbar": {
              "outlinewidth": 0,
              "ticks": ""
             }
            },
            "type": "scatterpolargl"
           }
          ],
          "scatterternary": [
           {
            "marker": {
             "colorbar": {
              "outlinewidth": 0,
              "ticks": ""
             }
            },
            "type": "scatterternary"
           }
          ],
          "surface": [
           {
            "colorbar": {
             "outlinewidth": 0,
             "ticks": ""
            },
            "colorscale": [
             [
              0,
              "#0d0887"
             ],
             [
              0.1111111111111111,
              "#46039f"
             ],
             [
              0.2222222222222222,
              "#7201a8"
             ],
             [
              0.3333333333333333,
              "#9c179e"
             ],
             [
              0.4444444444444444,
              "#bd3786"
             ],
             [
              0.5555555555555556,
              "#d8576b"
             ],
             [
              0.6666666666666666,
              "#ed7953"
             ],
             [
              0.7777777777777778,
              "#fb9f3a"
             ],
             [
              0.8888888888888888,
              "#fdca26"
             ],
             [
              1,
              "#f0f921"
             ]
            ],
            "type": "surface"
           }
          ],
          "table": [
           {
            "cells": {
             "fill": {
              "color": "#EBF0F8"
             },
             "line": {
              "color": "white"
             }
            },
            "header": {
             "fill": {
              "color": "#C8D4E3"
             },
             "line": {
              "color": "white"
             }
            },
            "type": "table"
           }
          ]
         },
         "layout": {
          "annotationdefaults": {
           "arrowcolor": "#2a3f5f",
           "arrowhead": 0,
           "arrowwidth": 1
          },
          "autotypenumbers": "strict",
          "coloraxis": {
           "colorbar": {
            "outlinewidth": 0,
            "ticks": ""
           }
          },
          "colorscale": {
           "diverging": [
            [
             0,
             "#8e0152"
            ],
            [
             0.1,
             "#c51b7d"
            ],
            [
             0.2,
             "#de77ae"
            ],
            [
             0.3,
             "#f1b6da"
            ],
            [
             0.4,
             "#fde0ef"
            ],
            [
             0.5,
             "#f7f7f7"
            ],
            [
             0.6,
             "#e6f5d0"
            ],
            [
             0.7,
             "#b8e186"
            ],
            [
             0.8,
             "#7fbc41"
            ],
            [
             0.9,
             "#4d9221"
            ],
            [
             1,
             "#276419"
            ]
           ],
           "sequential": [
            [
             0,
             "#0d0887"
            ],
            [
             0.1111111111111111,
             "#46039f"
            ],
            [
             0.2222222222222222,
             "#7201a8"
            ],
            [
             0.3333333333333333,
             "#9c179e"
            ],
            [
             0.4444444444444444,
             "#bd3786"
            ],
            [
             0.5555555555555556,
             "#d8576b"
            ],
            [
             0.6666666666666666,
             "#ed7953"
            ],
            [
             0.7777777777777778,
             "#fb9f3a"
            ],
            [
             0.8888888888888888,
             "#fdca26"
            ],
            [
             1,
             "#f0f921"
            ]
           ],
           "sequentialminus": [
            [
             0,
             "#0d0887"
            ],
            [
             0.1111111111111111,
             "#46039f"
            ],
            [
             0.2222222222222222,
             "#7201a8"
            ],
            [
             0.3333333333333333,
             "#9c179e"
            ],
            [
             0.4444444444444444,
             "#bd3786"
            ],
            [
             0.5555555555555556,
             "#d8576b"
            ],
            [
             0.6666666666666666,
             "#ed7953"
            ],
            [
             0.7777777777777778,
             "#fb9f3a"
            ],
            [
             0.8888888888888888,
             "#fdca26"
            ],
            [
             1,
             "#f0f921"
            ]
           ]
          },
          "colorway": [
           "#636efa",
           "#EF553B",
           "#00cc96",
           "#ab63fa",
           "#FFA15A",
           "#19d3f3",
           "#FF6692",
           "#B6E880",
           "#FF97FF",
           "#FECB52"
          ],
          "font": {
           "color": "#2a3f5f"
          },
          "geo": {
           "bgcolor": "white",
           "lakecolor": "white",
           "landcolor": "#E5ECF6",
           "showlakes": true,
           "showland": true,
           "subunitcolor": "white"
          },
          "hoverlabel": {
           "align": "left"
          },
          "hovermode": "closest",
          "mapbox": {
           "style": "light"
          },
          "paper_bgcolor": "white",
          "plot_bgcolor": "#E5ECF6",
          "polar": {
           "angularaxis": {
            "gridcolor": "white",
            "linecolor": "white",
            "ticks": ""
           },
           "bgcolor": "#E5ECF6",
           "radialaxis": {
            "gridcolor": "white",
            "linecolor": "white",
            "ticks": ""
           }
          },
          "scene": {
           "xaxis": {
            "backgroundcolor": "#E5ECF6",
            "gridcolor": "white",
            "gridwidth": 2,
            "linecolor": "white",
            "showbackground": true,
            "ticks": "",
            "zerolinecolor": "white"
           },
           "yaxis": {
            "backgroundcolor": "#E5ECF6",
            "gridcolor": "white",
            "gridwidth": 2,
            "linecolor": "white",
            "showbackground": true,
            "ticks": "",
            "zerolinecolor": "white"
           },
           "zaxis": {
            "backgroundcolor": "#E5ECF6",
            "gridcolor": "white",
            "gridwidth": 2,
            "linecolor": "white",
            "showbackground": true,
            "ticks": "",
            "zerolinecolor": "white"
           }
          },
          "shapedefaults": {
           "line": {
            "color": "#2a3f5f"
           }
          },
          "ternary": {
           "aaxis": {
            "gridcolor": "white",
            "linecolor": "white",
            "ticks": ""
           },
           "baxis": {
            "gridcolor": "white",
            "linecolor": "white",
            "ticks": ""
           },
           "bgcolor": "#E5ECF6",
           "caxis": {
            "gridcolor": "white",
            "linecolor": "white",
            "ticks": ""
           }
          },
          "title": {
           "x": 0.05
          },
          "xaxis": {
           "automargin": true,
           "gridcolor": "white",
           "linecolor": "white",
           "ticks": "",
           "title": {
            "standoff": 15
           },
           "zerolinecolor": "white",
           "zerolinewidth": 2
          },
          "yaxis": {
           "automargin": true,
           "gridcolor": "white",
           "linecolor": "white",
           "ticks": "",
           "title": {
            "standoff": 15
           },
           "zerolinecolor": "white",
           "zerolinewidth": 2
          }
         }
        },
        "width": 800,
        "xaxis": {
         "title": {
          "text": "Wavelength (nm)"
         }
        },
        "yaxis": {
         "range": [
          0,
          1000
         ],
         "title": {
          "text": "Intensity (a.u.)"
         }
        }
       }
      }
     },
     "metadata": {},
     "output_type": "display_data"
    }
   ],
   "source": [
    "x_ecc = np.linspace(ecc_lambda[max_index_ecc_int-d], ecc_lambda[max_index_ecc_int+d], 1000)\n",
    "y_ecc = parabola(x_ecc, *popt_ecc)\n",
    "\n",
    "x_emi = np.linspace(emi_lambda[max_index_emi_int-d], emi_lambda[max_index_emi_int+d], 1000)\n",
    "y_emi = parabola(x_emi, *popt_emi)\n",
    "\n",
    "fig = go.Figure()\n",
    "fig.add_trace(go.Scatter(x=ecc_lambda, y=ecc_int,\n",
    "                    mode='lines+markers',\n",
    "                    name='Excitation'))\n",
    "fig.add_trace(go.Scatter(x=emi_lambda, y=emi_int,\n",
    "                    mode='lines+markers',\n",
    "                    name='Emission'))\n",
    "\n",
    "fig.add_trace(go.Scatter(x=x_ecc, y=y_ecc,\n",
    "                    mode='lines',\n",
    "                    name='Excitation Fit',\n",
    "                    line=dict(color='blue', width=5)))\n",
    "\n",
    "fig.add_trace(go.Scatter(x=x_emi, y=y_emi,\n",
    "                    mode='lines',\n",
    "                    name='Emission Fit',\n",
    "                    line=dict(color='red', width=5)))\n",
    "\n",
    "fig.add_shape(\n",
    "    name='Stokes Shift',\n",
    "    type=\"rect\",\n",
    "    x0=ecc_lambda[max_index_ecc_int], x1=emi_lambda[max_index_emi_int],\n",
    "    y0=0, y1=1000,\n",
    "    fillcolor=\"green\",\n",
    "    opacity=0.3,\n",
    "    layer=\"below\",\n",
    "    line_width=0,\n",
    ")\n",
    "\n",
    "fig.update_layout(\n",
    "    xaxis_title='Wavelength (nm)',\n",
    "    yaxis_title='Intensity (a.u.)',\n",
    "    height=600,\n",
    "    width=800,\n",
    "    yaxis=dict(range=[0, 1000]),\n",
    "    legend=dict(x=0.1, y=0.9),\n",
    "    font=dict(size=14))\n",
    "\n",
    "fig.write_html(dir_path + \"/html/stokeshift.html\")\n",
    "fig.write_image(dir_path + \"/images/stokeshift.png\")\n",
    "fig.show()"
   ]
  }
 ],
 "metadata": {
  "kernelspec": {
   "display_name": "Python 3",
   "language": "python",
   "name": "python3"
  },
  "language_info": {
   "codemirror_mode": {
    "name": "ipython",
    "version": 3
   },
   "file_extension": ".py",
   "mimetype": "text/x-python",
   "name": "python",
   "nbconvert_exporter": "python",
   "pygments_lexer": "ipython3",
   "version": "3.13.0"
  }
 },
 "nbformat": 4,
 "nbformat_minor": 2
}
