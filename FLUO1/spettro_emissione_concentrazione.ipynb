{
 "cells": [
  {
   "cell_type": "code",
   "execution_count": 1,
   "metadata": {},
   "outputs": [],
   "source": [
    "from matplotlib import pyplot as plt\n",
    "import numpy as np\n",
    "import pandas as pd\n",
    "import plotly.express as px\n",
    "import os\n",
    "import sys\n",
    "import plotly.graph_objects as go \n",
    "dir_path = os.path.abspath('')\n",
    "sys.path.append(dir_path + '/../')\n",
    "from labbiofisica import Interpolazione, final_val\n",
    "from scipy.optimize import curve_fit"
   ]
  },
  {
   "cell_type": "code",
   "execution_count": 2,
   "metadata": {},
   "outputs": [
    {
     "data": {
      "text/html": [
       "<div>\n",
       "<style scoped>\n",
       "    .dataframe tbody tr th:only-of-type {\n",
       "        vertical-align: middle;\n",
       "    }\n",
       "\n",
       "    .dataframe tbody tr th {\n",
       "        vertical-align: top;\n",
       "    }\n",
       "\n",
       "    .dataframe thead th {\n",
       "        text-align: right;\n",
       "    }\n",
       "</style>\n",
       "<table border=\"1\" class=\"dataframe\">\n",
       "  <thead>\n",
       "    <tr style=\"text-align: right;\">\n",
       "      <th></th>\n",
       "      <th>λ 5</th>\n",
       "      <th>I 5</th>\n",
       "      <th>λ 4</th>\n",
       "      <th>I 4</th>\n",
       "      <th>no λ 4</th>\n",
       "      <th>no I 4</th>\n",
       "      <th>λ 3</th>\n",
       "      <th>I 3</th>\n",
       "      <th>λ 2</th>\n",
       "      <th>I 2</th>\n",
       "      <th>...</th>\n",
       "      <th>λ 0.8</th>\n",
       "      <th>I 0.8</th>\n",
       "      <th>λ 0.6</th>\n",
       "      <th>I 0.6</th>\n",
       "      <th>λ 0.4</th>\n",
       "      <th>I 0.4</th>\n",
       "      <th>λ 0.2</th>\n",
       "      <th>I 0.2</th>\n",
       "      <th>λ 0.1</th>\n",
       "      <th>I 0.1</th>\n",
       "    </tr>\n",
       "  </thead>\n",
       "  <tbody>\n",
       "    <tr>\n",
       "      <th>112</th>\n",
       "      <td>646.950012</td>\n",
       "      <td>29.311554</td>\n",
       "      <td>646.950012</td>\n",
       "      <td>25.126436</td>\n",
       "      <td>646.950012</td>\n",
       "      <td>29.019300</td>\n",
       "      <td>646.950012</td>\n",
       "      <td>21.187140</td>\n",
       "      <td>646.950012</td>\n",
       "      <td>14.265793</td>\n",
       "      <td>...</td>\n",
       "      <td>646.950012</td>\n",
       "      <td>4.883633</td>\n",
       "      <td>646.950012</td>\n",
       "      <td>3.315377</td>\n",
       "      <td>646.950012</td>\n",
       "      <td>1.589167</td>\n",
       "      <td>646.950012</td>\n",
       "      <td>0.555993</td>\n",
       "      <td>646.950012</td>\n",
       "      <td>0.351009</td>\n",
       "    </tr>\n",
       "    <tr>\n",
       "      <th>113</th>\n",
       "      <td>647.969971</td>\n",
       "      <td>28.124762</td>\n",
       "      <td>647.969971</td>\n",
       "      <td>23.946281</td>\n",
       "      <td>647.969971</td>\n",
       "      <td>27.984386</td>\n",
       "      <td>647.969971</td>\n",
       "      <td>20.061258</td>\n",
       "      <td>647.969971</td>\n",
       "      <td>13.714191</td>\n",
       "      <td>...</td>\n",
       "      <td>647.969971</td>\n",
       "      <td>4.719029</td>\n",
       "      <td>647.969971</td>\n",
       "      <td>3.173567</td>\n",
       "      <td>647.969971</td>\n",
       "      <td>1.429973</td>\n",
       "      <td>647.969971</td>\n",
       "      <td>0.563877</td>\n",
       "      <td>647.969971</td>\n",
       "      <td>0.378182</td>\n",
       "    </tr>\n",
       "    <tr>\n",
       "      <th>114</th>\n",
       "      <td>648.840027</td>\n",
       "      <td>26.902561</td>\n",
       "      <td>648.840027</td>\n",
       "      <td>23.194933</td>\n",
       "      <td>648.840027</td>\n",
       "      <td>27.167797</td>\n",
       "      <td>648.840027</td>\n",
       "      <td>19.790516</td>\n",
       "      <td>648.840027</td>\n",
       "      <td>13.449127</td>\n",
       "      <td>...</td>\n",
       "      <td>648.840027</td>\n",
       "      <td>4.602462</td>\n",
       "      <td>648.840027</td>\n",
       "      <td>3.138167</td>\n",
       "      <td>648.840027</td>\n",
       "      <td>1.417011</td>\n",
       "      <td>648.840027</td>\n",
       "      <td>0.545661</td>\n",
       "      <td>648.840027</td>\n",
       "      <td>0.333807</td>\n",
       "    </tr>\n",
       "    <tr>\n",
       "      <th>115</th>\n",
       "      <td>649.849976</td>\n",
       "      <td>26.203035</td>\n",
       "      <td>649.849976</td>\n",
       "      <td>22.347122</td>\n",
       "      <td>649.849976</td>\n",
       "      <td>25.561733</td>\n",
       "      <td>649.849976</td>\n",
       "      <td>18.675690</td>\n",
       "      <td>649.849976</td>\n",
       "      <td>12.785388</td>\n",
       "      <td>...</td>\n",
       "      <td>649.849976</td>\n",
       "      <td>4.334819</td>\n",
       "      <td>649.849976</td>\n",
       "      <td>2.955356</td>\n",
       "      <td>649.849976</td>\n",
       "      <td>1.345403</td>\n",
       "      <td>649.849976</td>\n",
       "      <td>0.519533</td>\n",
       "      <td>649.849976</td>\n",
       "      <td>0.366366</td>\n",
       "    </tr>\n",
       "    <tr>\n",
       "      <th>116</th>\n",
       "      <td>650.859985</td>\n",
       "      <td>24.811270</td>\n",
       "      <td>650.859985</td>\n",
       "      <td>21.325739</td>\n",
       "      <td>650.859985</td>\n",
       "      <td>24.539951</td>\n",
       "      <td>650.859985</td>\n",
       "      <td>18.069601</td>\n",
       "      <td>650.859985</td>\n",
       "      <td>12.159359</td>\n",
       "      <td>...</td>\n",
       "      <td>650.859985</td>\n",
       "      <td>4.134296</td>\n",
       "      <td>650.859985</td>\n",
       "      <td>2.907012</td>\n",
       "      <td>650.859985</td>\n",
       "      <td>1.283329</td>\n",
       "      <td>650.859985</td>\n",
       "      <td>0.497435</td>\n",
       "      <td>650.859985</td>\n",
       "      <td>0.298861</td>\n",
       "    </tr>\n",
       "  </tbody>\n",
       "</table>\n",
       "<p>5 rows × 22 columns</p>\n",
       "</div>"
      ],
      "text/plain": [
       "            λ 5        I 5         λ 4        I 4      no λ 4     no I 4  \\\n",
       "112  646.950012  29.311554  646.950012  25.126436  646.950012  29.019300   \n",
       "113  647.969971  28.124762  647.969971  23.946281  647.969971  27.984386   \n",
       "114  648.840027  26.902561  648.840027  23.194933  648.840027  27.167797   \n",
       "115  649.849976  26.203035  649.849976  22.347122  649.849976  25.561733   \n",
       "116  650.859985  24.811270  650.859985  21.325739  650.859985  24.539951   \n",
       "\n",
       "            λ 3        I 3         λ 2        I 2  ...       λ 0.8     I 0.8  \\\n",
       "112  646.950012  21.187140  646.950012  14.265793  ...  646.950012  4.883633   \n",
       "113  647.969971  20.061258  647.969971  13.714191  ...  647.969971  4.719029   \n",
       "114  648.840027  19.790516  648.840027  13.449127  ...  648.840027  4.602462   \n",
       "115  649.849976  18.675690  649.849976  12.785388  ...  649.849976  4.334819   \n",
       "116  650.859985  18.069601  650.859985  12.159359  ...  650.859985  4.134296   \n",
       "\n",
       "          λ 0.6     I 0.6       λ 0.4     I 0.4       λ 0.2     I 0.2  \\\n",
       "112  646.950012  3.315377  646.950012  1.589167  646.950012  0.555993   \n",
       "113  647.969971  3.173567  647.969971  1.429973  647.969971  0.563877   \n",
       "114  648.840027  3.138167  648.840027  1.417011  648.840027  0.545661   \n",
       "115  649.849976  2.955356  649.849976  1.345403  649.849976  0.519533   \n",
       "116  650.859985  2.907012  650.859985  1.283329  650.859985  0.497435   \n",
       "\n",
       "          λ 0.1     I 0.1  \n",
       "112  646.950012  0.351009  \n",
       "113  647.969971  0.378182  \n",
       "114  648.840027  0.333807  \n",
       "115  649.849976  0.366366  \n",
       "116  650.859985  0.298861  \n",
       "\n",
       "[5 rows x 22 columns]"
      ]
     },
     "execution_count": 2,
     "metadata": {},
     "output_type": "execute_result"
    }
   ],
   "source": [
    "filename = 'data/assorbanza_rodamina_concentrazioni_tot.csv'\n",
    "\n",
    "header = ['λ 5','I 5','λ 4','I 4','no λ 4','no I 4','λ 3','I 3','λ 2','I 2','λ 1','I 1','λ 0.8','I 0.8','λ 0.6','I 0.6','λ 0.4','I 0.4','λ 0.2','I 0.2','λ 0.1','I 0.1']\n",
    "\n",
    "data = pd.read_csv(filename,sep=',',header=1,nrows=117)\n",
    "data = data.iloc[:, :-1] # drop last column\n",
    "data.columns = header\n",
    "data.tail()"
   ]
  },
  {
   "cell_type": "code",
   "execution_count": 3,
   "metadata": {},
   "outputs": [],
   "source": [
    "λexc = 526 #nm\n",
    "SIGMA_LAMBDA = 1.5 #nm DICHIARATI DAL COSTRUTTORE\n",
    "C = [5,4,3,2,1,0.8,0.6,0.4,0.2,0.1] #mM\n",
    "\n",
    "# Extracting the relevant columns for plotting\n",
    "WAVELENGHTS = ['λ 5', 'λ 4', 'λ 3', 'λ 2', 'λ 1', 'λ 0.8', 'λ 0.6', 'λ 0.4', 'λ 0.2', 'λ 0.1']\n",
    "INTENSITIES = ['I 5', 'I 4', 'I 3', 'I 2', 'I 1', 'I 0.8', 'I 0.6', 'I 0.4', 'I 0.2', 'I 0.1']\n",
    "CONCENTRATIONS=[5,4,3,2,1,0.8,0.6,0.4,0.2,0.1]"
   ]
  },
  {
   "cell_type": "code",
   "execution_count": 4,
   "metadata": {},
   "outputs": [
    {
     "data": {
      "application/vnd.plotly.v1+json": {
       "config": {
        "plotlyServerURL": "https://plot.ly"
       },
       "data": [
        {
         "mode": "lines",
         "name": "5 μM",
         "type": "scatter",
         "x": {
          "bdata": "CaP+H1y3gECglP9/wr+AQE2ABkDhxoBA6wX6n0fPgEBoDv+fmdeAQC/jAcDM3oBAs3/5vx7ngEBLcfofhe+AQPdcAeCj9oBAj04CQAr/gEAJo/4fXAeBQKCU/3/CD4FATYAGQOEWgUDrBfqfRx+BQGgO/5+ZJ4FAL+MBwMwugUCPTgJACjeBQOsF+p9HP4FAS3H6H4VHgUCglP9/wk+BQC/jAcDMVoFAj04CQApfgUDrBfqfR2eBQEtx+h+Fb4FAoJT/f8J3gUAv4wHAzH6BQLN/+b8eh4FAS3H6H4WPgUD3XAHgo5aBQI9OAkAKn4FACaP+H1yngUCglP9/wq+BQE2ABkDhtoFA6wX6n0e/gUBoDv+fmceBQC/jAcDMzoFAj04CQArXgUDrBfqfR9+BQEtx+h+F54FAoJT/f8LvgUAv4wHAzPaBQI9OAkAK/4FA6wX6n0cHgkBLcfofhQ+CQKCU/3/CF4JAL+MBwMwegkCzf/m/HieCQEtx+h+FL4JA91wB4KM2gkCPTgJACj+CQAmj/h9cR4JAoJT/f8JPgkBNgAZA4VaCQOsF+p9HX4JAaA7/n5lngkAv4wHAzG6CQI9OAkAKd4JA6wX6n0d/gkBLcfofhYeCQKCU/3/Cj4JAL+MBwMyWgkCPTgJACp+CQOsF+p9Hp4JAS3H6H4WvgkCglP9/wreCQC/jAcDMvoJATYAGQOHGgkCPTgJACs+CQLN/+b8e14JA6wX6n0ffgkAJo/4fXOeCQEtx+h+F74JAaA7/n5n3gkCglP9/wv+CQBX6BWC4BoNAL+MBwMwOg0CPTgJACheDQOsF+p9HH4NAS3H6H4Ung0CglP9/wi+DQC/jAcDMNoNAj04CQAo/g0DrBfqfR0eDQEtx+h+FT4NAoJT/f8JXg0Av4wHAzF6DQI9OAkAKZ4NA6wX6n0dvg0BLcfofhXeDQKCU/3/Cf4NAL+MBwMyGg0CPTgJACo+DQOsF+p9Hl4NAS3H6H4Wfg0CglP9/wqeDQC/jAcDMroNATYAGQOG2g0CPTgJACr+DQLN/+b8ex4NA6wX6n0fPg0AJo/4fXNeDQEtx+h+F34NAaA7/n5nng0CglP9/wu+DQBX6BWC49oNAL+MBwMz+g0BNgAZA4QaEQI9OAkAKD4RAs3/5vx4XhEDrBfqfRx+EQAmj/h9cJ4RAS3H6H4UvhEBoDv+fmTeEQKCU/3/CP4RAFfoFYLhGhEAv4wHAzE6EQE2ABkDhVoRA",
          "dtype": "f8"
         },
         "y": {
          "bdata": "bMIHwEl1c0ATVQlgNNx1QIhQACAiBHhARoIEIEkIe0B2CgPgKSp+QBChAEBUIoBAMYj+v9D8gUBxsf2/pXyDQD3fBQBtvYRAYGsAgF0nhkDbZPlfc6OHQAAAAAAQ14hALT4FwEjBiUDA1gAAa86KQDGI/r/QjItAEUb9P/hgjECR8/4/7ryMQCqK/J9oI41AYGsAgF0ajUBAKf//RHCNQLA1AMAGY41AaA7/n2kkjUDPdwFA36iMQCqK/J94z4tAYGsAgK3Ei0ARRv0/GCyLQPBe/7+7O4pAV8gBYLEaikBHJwEgTTKJQHiv/9+NbohAlkwEYNKch0AH/gEguLuGQFDK/z85/oVAeK//380+hUAtPgXAmMKEQK6QA8Bi14NAj04CQHr3gkD+WgMADBGCQOi7AKAfeIFAnUoGgNqxgECdSgaAKkWAQIFS/v8p635AnoXzX9adfUB9nvXfeZN8QLfJ8r/GZHtAUtkLYEWeekCKXwxAvnF5QEk2DUA5Y3hAhJz3//HSd0BVIwVgTc92QGJ6DKDJ5HVA9rcE4P81dUDkcQeg56p0QEvbCUCN63NAg/f6/z1dc0D+WgMADLRyQINhCiBGMHJABe/1/7umcUCehfNf1gBxQDqVDABVpnBAZ2kCoCXqb0CY8QBghuluQI0TFWBOIW5AyeMOQM9AbUDi+OtfI2dsQOtvCcB/jGtAFCbnH9ixakA2d/S/XMFpQHXPFQA+v2hAgo3r3zXPZ0AtauZ/qCJnQOQH+H+fRGZAJ6oSwGhMZUCgKvBfqnNkQDZLEwCtwmNA3DgYoGP2YkClg/V/DkhiQJQ9+D82kGFA2ikMgOfPYEBrhxrg3QlgQF7GA4AZFl9AnbQVoBLRXUAV+gVgKJNcQCTKKOBoXltAPh00YLXaWUAr8Pw/GuxYQO7R+t862ldAajUD4IiqVkAbEACg88JVQFrT/v+mZ1RAe3sAICHbU0Do+vz/kcNSQG7l/H+iK1JARBwEgBc8UUDlsAMAKmhQQM1o9R9jmk9A7Cz+36bgTUAXnwJgvGhMQJiu9X/tSUtAvnAAYGnhSUAaqv//QblIQFXkCAAr6kdAIMD5P82dRkAvIv4fr51FQMtFAGAK8URAk7//f7HNQ0BqdP8/a/5CQCUZ/1/xS0JACLv2P59eQUA6qfWfsahAQMK6+V8R6j9AXlz0XzGaPkCpIxUAwk89QLXl+V/wHzxAWLAJQA7nOkCSLuwf+jM6QAtv/1+vzzhA",
          "dtype": "f8"
         }
        },
        {
         "mode": "lines",
         "name": "4 μM",
         "type": "scatter",
         "x": {
          "bdata": "CaP+H1y3gECglP9/wr+AQE2ABkDhxoBA6wX6n0fPgEBoDv+fmdeAQC/jAcDM3oBAs3/5vx7ngEBLcfofhe+AQPdcAeCj9oBAj04CQAr/gEAJo/4fXAeBQKCU/3/CD4FATYAGQOEWgUDrBfqfRx+BQGgO/5+ZJ4FAL+MBwMwugUCPTgJACjeBQOsF+p9HP4FAS3H6H4VHgUCglP9/wk+BQC/jAcDMVoFAj04CQApfgUDrBfqfR2eBQEtx+h+Fb4FAoJT/f8J3gUAv4wHAzH6BQLN/+b8eh4FAS3H6H4WPgUD3XAHgo5aBQI9OAkAKn4FACaP+H1yngUCglP9/wq+BQE2ABkDhtoFA6wX6n0e/gUBoDv+fmceBQC/jAcDMzoFAj04CQArXgUDrBfqfR9+BQEtx+h+F54FAoJT/f8LvgUAv4wHAzPaBQI9OAkAK/4FA6wX6n0cHgkBLcfofhQ+CQKCU/3/CF4JAL+MBwMwegkCzf/m/HieCQEtx+h+FL4JA91wB4KM2gkCPTgJACj+CQAmj/h9cR4JAoJT/f8JPgkBNgAZA4VaCQOsF+p9HX4JAaA7/n5lngkAv4wHAzG6CQI9OAkAKd4JA6wX6n0d/gkBLcfofhYeCQKCU/3/Cj4JAL+MBwMyWgkCPTgJACp+CQOsF+p9Hp4JAS3H6H4WvgkCglP9/wreCQC/jAcDMvoJATYAGQOHGgkCPTgJACs+CQLN/+b8e14JA6wX6n0ffgkAJo/4fXOeCQEtx+h+F74JAaA7/n5n3gkCglP9/wv+CQBX6BWC4BoNAL+MBwMwOg0CPTgJACheDQOsF+p9HH4NAS3H6H4Ung0CglP9/wi+DQC/jAcDMNoNAj04CQAo/g0DrBfqfR0eDQEtx+h+FT4NAoJT/f8JXg0Av4wHAzF6DQI9OAkAKZ4NA6wX6n0dvg0BLcfofhXeDQKCU/3/Cf4NAL+MBwMyGg0CPTgJACo+DQOsF+p9Hl4NAS3H6H4Wfg0CglP9/wqeDQC/jAcDMroNATYAGQOG2g0CPTgJACr+DQLN/+b8ex4NA6wX6n0fPg0AJo/4fXNeDQEtx+h+F34NAaA7/n5nng0CglP9/wu+DQBX6BWC49oNAL+MBwMz+g0BNgAZA4QaEQI9OAkAKD4RAs3/5vx4XhEDrBfqfRx+EQAmj/h9cJ4RAS3H6H4UvhEBoDv+fmTeEQKCU/3/CP4RAFfoFYLhGhEAv4wHAzE6EQE2ABkDhVoRA",
          "dtype": "f8"
         },
         "y": {
          "bdata": "6soMwAs+ckBMFvcfuWV0QPxL99+vQnZAbMIHwAn9eED9tQYAeMF7QE4lA0C10H1AAqX8/5NWgEBuZwTAfZ+BQKI5/H8WpIJAztIEQOvVg0BAKf//xACFQGgO/5+JEIZATiUDQAW1hkDfGAKAc56HQNPB+j+nQohANuED4FTQiEB9CAUAkheJQGEQ/X9hUIlA3xgCgDN2iUDIef8f17iJQP5aAwDMWYlAstr8v3o4iUBVIwVgXdCIQHNW+r+piohAj04CQMrth0C6ffvf1oCHQGdpAqDl5YZAx9QCIJNThkB4r//fzdmFQH0IBQDyJYVA4mL7f2tdhEBuZwTAvYWDQLN/+b9u+oJA/loDAAxbgkDhvf5/F6mBQHYKA+D5HIFAJkADoEBdgEDpYP2fw3R/QDvQ+d+AHn5AQCn//0TOfEB6VPzfseJ7QCWbBqBs0XpAkpj7P8KWeUCR8/4/jnJ4QFt8CoBxnXdAYRD9f+HHdkB/rQEAluV1QCjl/58UBXVAFfoFYIhcdEAMVwdA3J9zQN1zBYBP+3JAErAMYABTckAlmwagDM9xQL7H9N8+IHFAxS8GIN+ocEBNgAZAQQ9wQEwW9x+ZT29ALJkIwKQ8bkDbZPlfkzNtQI0/9h++ZWxA4vjrX6OYa0A70PnfwJdqQGO1+X8VzWlA+3oZIGzTaEDFLwYgvy9oQFOq6R8plWdA8z7pn3u8ZkA4hgDg2OxlQKTe+H+6JmVAhkH0/wVpZEB7j+m/vbFjQPzh578H3mJAil8MQD4vYkAVkPY/QIthQNiw8D+D4GBAS3H6H8U0YEC4ByEgX0ZfQLZf458+8F1A4o7cPzu/XEB4GQ8AZpRbQK0pNSDnt1pAizDq/0GCWUBJjQHATmBYQOlg/Z8DNVdAJ3///yJPVkADzABAY4JVQGCq/N+PfVRA40oDYHilU0C6Pv9/VLdSQOZVAAD+6FFAKCT8/zYbUUC3sfqfk0hQQMOKCSBrGk9AZNz9v6TETUAlGf9f8X5MQD4GCkBMHEtAtY4F4HoYSkDLhPy/LJVIQHiv/999bEdAtGcBoCtgRkBKtAUAnm9FQOMLBwCWeERAkpj7P2KGQ0DiYvt/i35CQJEy+5/wE0JAqE/2v3E5QUCp4AkgKYBAQFmYESA7Tj9AuYEKYC0xPkCvOQ9AzY48QBvl7N/tlTtACUwKoNYLOkAp4fAfXiA5QICp8n8/8jdAkDYKIOcxN0ASxPX/3Fg2QBR8DaBjUzVA",
          "dtype": "f8"
         }
        },
        {
         "mode": "lines",
         "name": "3 μM",
         "type": "scatter",
         "x": {
          "bdata": "CaP+H1y3gECglP9/wr+AQE2ABkDhxoBA6wX6n0fPgEBoDv+fmdeAQC/jAcDM3oBAs3/5vx7ngEBLcfofhe+AQPdcAeCj9oBAj04CQAr/gEAJo/4fXAeBQKCU/3/CD4FATYAGQOEWgUDrBfqfRx+BQGgO/5+ZJ4FAL+MBwMwugUCPTgJACjeBQOsF+p9HP4FAS3H6H4VHgUCglP9/wk+BQC/jAcDMVoFAj04CQApfgUDrBfqfR2eBQEtx+h+Fb4FAoJT/f8J3gUAv4wHAzH6BQLN/+b8eh4FAS3H6H4WPgUD3XAHgo5aBQI9OAkAKn4FACaP+H1yngUCglP9/wq+BQE2ABkDhtoFA6wX6n0e/gUBoDv+fmceBQC/jAcDMzoFAj04CQArXgUDrBfqfR9+BQEtx+h+F54FAoJT/f8LvgUAv4wHAzPaBQI9OAkAK/4FA6wX6n0cHgkBLcfofhQ+CQKCU/3/CF4JAL+MBwMwegkCzf/m/HieCQEtx+h+FL4JA91wB4KM2gkCPTgJACj+CQAmj/h9cR4JAoJT/f8JPgkBNgAZA4VaCQOsF+p9HX4JAaA7/n5lngkAv4wHAzG6CQI9OAkAKd4JA6wX6n0d/gkBLcfofhYeCQKCU/3/Cj4JAL+MBwMyWgkCPTgJACp+CQOsF+p9Hp4JAS3H6H4WvgkCglP9/wreCQC/jAcDMvoJATYAGQOHGgkCPTgJACs+CQLN/+b8e14JA6wX6n0ffgkAJo/4fXOeCQEtx+h+F74JAaA7/n5n3gkCglP9/wv+CQBX6BWC4BoNAL+MBwMwOg0CPTgJACheDQOsF+p9HH4NAS3H6H4Ung0CglP9/wi+DQC/jAcDMNoNAj04CQAo/g0DrBfqfR0eDQEtx+h+FT4NAoJT/f8JXg0Av4wHAzF6DQI9OAkAKZ4NA6wX6n0dvg0BLcfofhXeDQKCU/3/Cf4NAL+MBwMyGg0CPTgJACo+DQOsF+p9Hl4NAS3H6H4Wfg0CglP9/wqeDQC/jAcDMroNATYAGQOG2g0CPTgJACr+DQLN/+b8ex4NA6wX6n0fPg0AJo/4fXNeDQEtx+h+F34NAaA7/n5nng0CglP9/wu+DQBX6BWC49oNAL+MBwMz+g0BNgAZA4QaEQI9OAkAKD4RAs3/5vx4XhEDrBfqfRx+EQAmj/h9cJ4RAS3H6H4UvhEBoDv+fmTeEQKCU/3/CP4RAFfoFYLhGhEAv4wHAzE6EQE2ABkDhVoRA",
          "dtype": "f8"
         },
         "y": {
          "bdata": "lD34Pza+ckCuJvSfOtJ0QMzD+B+Pm3ZALdT1n3DdeEDMw/gfb3p7QB0z9V+sAH1AXsYDgNljf0DpYP2fE8qAQNPB+j/3iYFAScz9H9F2gkD9tQYA2HuDQEaCBCDJGIRABVkFIETchEDtFAbA8xSFQBFG/T+YvYVAS3H6HwUIhkACpfz/00SGQGdpAqD1YIZAmzv6X/50hkDyA/y/X12GQOYWBKBrLYZAPd8FAG3ihUAenQSARJOFQOYWBKC7AYVAyh78H8uMhEBoDv+fCTaEQCOM+n/gloNAZ2kCoNUJg0DYGgBgu6iCQNZ1A2AnDoJA5hYEoOtzgUBNgAZAAauAQAAAAADAIoBACaP+H2xVf0AFWQUgJO99QCsv+Z8conxAil8MQH7Re0BEc/j/rKR6QE2ABkCBynlA22T5X/OLeEC8IvjfCrh3QGxY+J8BcXZAelT83xGsdUDRHP4/8+F0QFJv/D/9InRA1dAGYMNHc0AH/gEgWMJyQFLZC2Bl53FAPd8FAN1GcUCW4vQ/yrFwQLA1AMAWGXBAv2zx33IOb0Bxsf2/xTluQE+PEmA9Nm1A9iEUAEhYbEC6ffvfNndrQFy3919de2pAi5r5H+q0aUA70PnfAO1oQKtGCsDaF2hAz3cBQJ9TZ0DKHvwf+4BmQN2f5j//3GVA+QH+34cpZUARRv0/2HVkQBS/GIB842NAXLf3X51UY0Cm7QSgNqNiQKtGCsBaxWFAskQM4NJQYUBlLhXAOaJgQJ6INODiyV9A3kckwJ/GXkAupdNf1P1dQMc70b9u7VxAxS8GIH+kW0CGFRNA1nZaQB4HFKDcgVlAoNP73/SOWEAYBQMALlZXQDtSASB801ZAEOD8n2bGVUA0VP//Q5pUQLFcBADm4FNArSoDINHdUkAzFQOgIS9SQLB0/B/5dFFAmVcBADigUEBokAbgNOJPQEmNAcDOJk5AYGsAgK3rTECxXAQAprhLQAvxBqBqdkpAW7sG4BMhSUDBe/3/bgpIQDBh+n9RKkdAixwBYGXLRUAycAagTehEQPZ0+f+G0kNABDIB4FT9QkAhJvrfPgZCQKyB95/GE0FAfQgFAKJ3QEAjjPp/ML4/QOPMCqBzyj5AeO77P6AlPUCdXu8fh3k7QOVt+B+RaTpAcHYQ4Jl+OUAF7/X/u184QLIZ+R8N+DZAUJ/sf+M3NkBOPftf6C81QAYCEaCuDzRAz3cBQF/KM0B6vgsA+qwyQIl3BGDRETJA",
          "dtype": "f8"
         }
        },
        {
         "mode": "lines",
         "name": "2 μM",
         "type": "scatter",
         "x": {
          "bdata": "CaP+H1y3gECglP9/wr+AQE2ABkDhxoBA6wX6n0fPgEBoDv+fmdeAQC/jAcDM3oBAs3/5vx7ngEBLcfofhe+AQPdcAeCj9oBAj04CQAr/gEAJo/4fXAeBQKCU/3/CD4FATYAGQOEWgUDrBfqfRx+BQGgO/5+ZJ4FAL+MBwMwugUCPTgJACjeBQOsF+p9HP4FAS3H6H4VHgUCglP9/wk+BQC/jAcDMVoFAj04CQApfgUDrBfqfR2eBQEtx+h+Fb4FAoJT/f8J3gUAv4wHAzH6BQLN/+b8eh4FAS3H6H4WPgUD3XAHgo5aBQI9OAkAKn4FACaP+H1yngUCglP9/wq+BQE2ABkDhtoFA6wX6n0e/gUBoDv+fmceBQC/jAcDMzoFAj04CQArXgUDrBfqfR9+BQEtx+h+F54FAoJT/f8LvgUAv4wHAzPaBQI9OAkAK/4FA6wX6n0cHgkBLcfofhQ+CQKCU/3/CF4JAL+MBwMwegkCzf/m/HieCQEtx+h+FL4JA91wB4KM2gkCPTgJACj+CQAmj/h9cR4JAoJT/f8JPgkBNgAZA4VaCQOsF+p9HX4JAaA7/n5lngkAv4wHAzG6CQI9OAkAKd4JA6wX6n0d/gkBLcfofhYeCQKCU/3/Cj4JAL+MBwMyWgkCPTgJACp+CQOsF+p9Hp4JAS3H6H4WvgkCglP9/wreCQC/jAcDMvoJATYAGQOHGgkCPTgJACs+CQLN/+b8e14JA6wX6n0ffgkAJo/4fXOeCQEtx+h+F74JAaA7/n5n3gkCglP9/wv+CQBX6BWC4BoNAL+MBwMwOg0CPTgJACheDQOsF+p9HH4NAS3H6H4Ung0CglP9/wi+DQC/jAcDMNoNAj04CQAo/g0DrBfqfR0eDQEtx+h+FT4NAoJT/f8JXg0Av4wHAzF6DQI9OAkAKZ4NA6wX6n0dvg0BLcfofhXeDQKCU/3/Cf4NAL+MBwMyGg0CPTgJACo+DQOsF+p9Hl4NAS3H6H4Wfg0CglP9/wqeDQC/jAcDMroNATYAGQOG2g0CPTgJACr+DQLN/+b8ex4NA6wX6n0fPg0AJo/4fXNeDQEtx+h+F34NAaA7/n5nng0CglP9/wu+DQBX6BWC49oNAL+MBwMz+g0BNgAZA4QaEQI9OAkAKD4RAs3/5vx4XhEDrBfqfRx+EQAmj/h9cJ4RAS3H6H4UvhEBoDv+fmTeEQKCU/3/CP4RAFfoFYLhGhEAv4wHAzE6EQE2ABkDhVoRA",
          "dtype": "f8"
         },
         "y": {
          "bdata": "d3QSABLMa0AUvxiAPJVuQOrKDMALaHBAarP7n800ckCwNQDAVuhzQGzCB8BpEHVAoqMLoA6cdkBJNg1AOfF3QMZq8/9q93hACaP+H4xoekB/rQEAlmF7QMLlDCB3VXxAaA7/n1kQfUCGQfT/5bN9QPum+t9bTX5AYx8JoD2ofkCK9fwfVrd+QFMU+T/Ry35ADO33H/S1fkCd4PZfQoN+QOrKDMCrPX5ATrvzH43SfUBuZwTAnX19QKTe+H+6v3xAP4QCAFENfEB9CAUA4ox7QAIPDCAcznpAJDH3f2T7eUAtPgXAuGx5QAIPDCCch3hAztIEQEubd0CEnPf/Ecd2QLUk9r8yD3ZA77kCwOdWdUC3MwLgbmp0QPum+t+brHNAskQM4JL3ckCiOfx/JgVyQMDWAAA7anFAY7X5f7WncEAdM/VfjNxvQEwW9x8Zpm5AqTf+n15QbUCJi+3/LTBsQI0TFWAOO2tAtbrmn2r3aUCJi+3/bRZpQCh78H9sL2hATKzn//BXZ0C3MwLgjppmQDAe75/4zGVAY0vqX63VZECLmvkfqk1kQJKY+z/itWNAmZb9X1oOY0Bn0xHAjXFiQH8XESDe3mFAluL0P4oqYUDkcQegR6VgQJQRF4BGMmBA5+oi4GujX0CFcBZAQiVeQJ4b5D9uYl1AiObw/5mKXEBpeA7AYZ5bQJeH8T+e2lpAZS4VwLn4WUA5we2/hChZQItb/b8HPVhAzGwEoBkxV0CPzPr/fktWQO+5AsAntlVAhyn833LOVED6KAIg1ydUQJxi/p/9dlNAVqH9H9KRUkAzFQOg4dNRQFrT/v+mHlFAvOP7f+hoUECD9/r/3aRPQIRd+5/Plk5Ak0EHwGwwTUAL8QagagFMQCHn/X8cl0pAwvn1vzNISUBgLAQgC3JIQFCLA+AGX0dAjWoJ4IN6RkDhvf5/d1BFQJwjAkDbRkRA15wHoOaZQ0Bxsf2/xZhCQPnCAYAlyUFAN0cEgLbvQED2dPn/Bi5AQKG7A8Chuj5Aw4oJIGunPUB84QDA0g08QNnX9H+SpjpAmr0BoGlWOUBTPwwAl1k4QGik73+RTzdAIwrzP3VGNkCzLBTA/001QMq07P/SnjRACjQSgAOYM0D+3ApAJ70yQPOUDyDH2jFAcXIBYCM6MUCYMP2/qFQwQNsRFGDUjS9AoIAW4PUELkByhRwAFogsQCzEG4CqbStA9HwXAPTlKkA+cedfHpIpQAzZDoCXUShA",
          "dtype": "f8"
         }
        },
        {
         "mode": "lines",
         "name": "1 μM",
         "type": "scatter",
         "x": {
          "bdata": "CaP+H1y3gECglP9/wr+AQE2ABkDhxoBA6wX6n0fPgEBoDv+fmdeAQC/jAcDM3oBAs3/5vx7ngEBLcfofhe+AQPdcAeCj9oBAj04CQAr/gEAJo/4fXAeBQKCU/3/CD4FATYAGQOEWgUDrBfqfRx+BQGgO/5+ZJ4FAL+MBwMwugUCPTgJACjeBQOsF+p9HP4FAS3H6H4VHgUCglP9/wk+BQC/jAcDMVoFAj04CQApfgUDrBfqfR2eBQEtx+h+Fb4FAoJT/f8J3gUAv4wHAzH6BQLN/+b8eh4FAS3H6H4WPgUD3XAHgo5aBQI9OAkAKn4FACaP+H1yngUCglP9/wq+BQE2ABkDhtoFA6wX6n0e/gUBoDv+fmceBQC/jAcDMzoFAj04CQArXgUDrBfqfR9+BQEtx+h+F54FAoJT/f8LvgUAv4wHAzPaBQI9OAkAK/4FA6wX6n0cHgkBLcfofhQ+CQKCU/3/CF4JAL+MBwMwegkCzf/m/HieCQEtx+h+FL4JA91wB4KM2gkCPTgJACj+CQAmj/h9cR4JAoJT/f8JPgkBNgAZA4VaCQOsF+p9HX4JAaA7/n5lngkAv4wHAzG6CQI9OAkAKd4JA6wX6n0d/gkBLcfofhYeCQKCU/3/Cj4JAL+MBwMyWgkCPTgJACp+CQOsF+p9Hp4JAS3H6H4WvgkCglP9/wreCQC/jAcDMvoJATYAGQOHGgkCPTgJACs+CQLN/+b8e14JA6wX6n0ffgkAJo/4fXOeCQEtx+h+F74JAaA7/n5n3gkCglP9/wv+CQBX6BWC4BoNAL+MBwMwOg0CPTgJACheDQOsF+p9HH4NAS3H6H4Ung0CglP9/wi+DQC/jAcDMNoNAj04CQAo/g0DrBfqfR0eDQEtx+h+FT4NAoJT/f8JXg0Av4wHAzF6DQI9OAkAKZ4NA6wX6n0dvg0BLcfofhXeDQKCU/3/Cf4NAL+MBwMyGg0CPTgJACo+DQOsF+p9Hl4NAS3H6H4Wfg0CglP9/wqeDQC/jAcDMroNATYAGQOG2g0CPTgJACr+DQLN/+b8ex4NA6wX6n0fPg0AJo/4fXNeDQEtx+h+F34NAaA7/n5nng0CglP9/wu+DQBX6BWC49oNAL+MBwMz+g0BNgAZA4QaEQI9OAkAKD4RAs3/5vx4XhEDrBfqfRx+EQAmj/h9cJ4RAS3H6H4UvhEBoDv+fmTeEQKCU/3/CP4RAFfoFYLhGhEAv4wHAzE6EQE2ABkDhVoRA",
          "dtype": "f8"
         },
         "y": {
          "bdata": "0YYNYNuTXEAHlPL/T5lfQNffEoC/FWFAmw8ZoP5xYkAWNfM/1PtjQOJi+39LQGVA2ikMgOe3ZkB9nvXfuelnQOzZGOCn+WhAVo0UgHUpakBU6BeAIRFrQF8B8V9F6GtA+3oZIOyHbEAuqBTg4A1tQKyB959Ge21ANNL3v0inbUB2CgPgqb5tQIQGByBa6G1Au+cKAN+mbUA8C+e/7GNtQJvR6j9G+GxAvpsTIK/IbEC1jgXgekZsQG+i8Z+JyWtA/bUGABgfa0AqivyfaFJqQBcJEoDkkWlAdfv2vy0daUBCZOzfUAdoQBmuDoB4j2dAzw3yH3eeZkAV+gVgKNNlQLW65p9qHWVAvIwHAHMqZEBLcfofBVZjQOVC5V9LsGJA0YYNYNvfYUD38vG/yzphQI9OAkC6QGBAMsYsIFlaX0DLhcq/llteQLZiJCDLSF1AYGsAgK0BXEBDDCpgcdRaQPCK4H+rt1lACeL6f+6xWEBSMADg2tBXQNwNBeBd+VZAK7EA4HcNVkDFbgKAoRNVQFNXBCBqrFRAGYP7vzLrU0ANlgOgvklTQKfR/f9srVJAun3737YiUkAhqAEgeoRRQBZ4/h/tAFFAgrj+n/tsUEDAFf1f/QZQQCIOAsBr/U5AqE/2v3HLTUBr2v/f3AFNQJbK/B+3+EtAj04CQLoMS0B51gMgzU9KQC77+d9ff0lAql4C4G3JSEA8Nvp/8tFHQLXl+V/wxUZA4WYKAALvRUAqivyf6EBFQGp0/z9rZkRAIIH93yqsQ0AjNQYAu/FCQHMX/l83T0JA/9j7v7CnQUCfbfs/g/RAQMcT/3+1XUBAqeAJICmBP0B+xfkficQ9QPxL99/vDj1ActgBAJWqO0DsAesf4YU6QPUO+V+VIDlA/Qjs/1b/N0BRSPj/7Qs3QLOqDIBEODZATdPrPwBTNUA9HgJgn0g0QAuH93+CGDNASY0BwE5WMkDcTAFAgKAxQFw5/59YuTBA1Gb3PxsWMECkXPE/v9ouQAbDFECMUy1Ak5Tsv2vvK0DdICCAUNAqQLkDEqDoVClA7iTg37lAKECk3SqAEAQnQAF++L9EDiZAmBwUIEw4JUBWNiAAQEkkQEk4/z/maSNAwg/833meIkAQ9gLAbKghQFx3AoC0CyFAFL37/xJvIECmqvm/XWEfQC3pAkAQ6B1ApRsD4A+HHECg6vp/gcAaQFykB0AH8hlAo2AAwDUCGUBdifkfhJEYQFqV+x+LLRdA",
          "dtype": "f8"
         }
        },
        {
         "mode": "lines",
         "name": "0.8 μM",
         "type": "scatter",
         "x": {
          "bdata": "CaP+H1y3gECglP9/wr+AQE2ABkDhxoBA6wX6n0fPgEBoDv+fmdeAQC/jAcDM3oBAs3/5vx7ngEBLcfofhe+AQPdcAeCj9oBAj04CQAr/gEAJo/4fXAeBQKCU/3/CD4FATYAGQOEWgUDrBfqfRx+BQGgO/5+ZJ4FAL+MBwMwugUCPTgJACjeBQOsF+p9HP4FAS3H6H4VHgUCglP9/wk+BQC/jAcDMVoFAj04CQApfgUDrBfqfR2eBQEtx+h+Fb4FAoJT/f8J3gUAv4wHAzH6BQLN/+b8eh4FAS3H6H4WPgUD3XAHgo5aBQI9OAkAKn4FACaP+H1yngUCglP9/wq+BQE2ABkDhtoFA6wX6n0e/gUBoDv+fmceBQC/jAcDMzoFAj04CQArXgUDrBfqfR9+BQEtx+h+F54FAoJT/f8LvgUAv4wHAzPaBQI9OAkAK/4FA6wX6n0cHgkBLcfofhQ+CQKCU/3/CF4JAL+MBwMwegkCzf/m/HieCQEtx+h+FL4JA91wB4KM2gkCPTgJACj+CQAmj/h9cR4JAoJT/f8JPgkBNgAZA4VaCQOsF+p9HX4JAaA7/n5lngkAv4wHAzG6CQI9OAkAKd4JA6wX6n0d/gkBLcfofhYeCQKCU/3/Cj4JAL+MBwMyWgkCPTgJACp+CQOsF+p9Hp4JAS3H6H4WvgkCglP9/wreCQC/jAcDMvoJATYAGQOHGgkCPTgJACs+CQLN/+b8e14JA6wX6n0ffgkAJo/4fXOeCQEtx+h+F74JAaA7/n5n3gkCglP9/wv+CQBX6BWC4BoNAL+MBwMwOg0CPTgJACheDQOsF+p9HH4NAS3H6H4Ung0CglP9/wi+DQC/jAcDMNoNAj04CQAo/g0DrBfqfR0eDQEtx+h+FT4NAoJT/f8JXg0Av4wHAzF6DQI9OAkAKZ4NA6wX6n0dvg0BLcfofhXeDQKCU/3/Cf4NAL+MBwMyGg0CPTgJACo+DQOsF+p9Hl4NAS3H6H4Wfg0CglP9/wqeDQC/jAcDMroNATYAGQOG2g0CPTgJACr+DQLN/+b8ex4NA6wX6n0fPg0AJo/4fXNeDQEtx+h+F34NAaA7/n5nng0CglP9/wu+DQBX6BWC49oNAL+MBwMz+g0BNgAZA4QaEQI9OAkAKD4RAs3/5vx4XhEDrBfqfRx+EQAmj/h9cJ4RAS3H6H4UvhEBoDv+fmTeEQKCU/3/CP4RAFfoFYLhGhEAv4wHAzE6EQE2ABkDhVoRA",
          "dtype": "f8"
         },
         "y": {
          "bdata": "sZsAYEjDVEDgfgIgFcxWQJ4H+5/RlFhAf0Py382VWkD85ChAlNNcQPSo+L8jfV5A6wX6n9dZYECUpwdgHiJhQIsw6v+BrmFAhXAWQMKTYkAlBRbAFEtjQFgD7z+N4mNA5ULlX0srZECglP9/EspkQCF97l/0AmVA0lfrH181ZUDRhg1gW1BlQChPD8C8PGVA/loDAGwSZUA6lQwAFfRkQLFw7Z+C12RAoCrwXypuZEBu0RPgxRpkQDIt+790xmNAwEAQIAM3Y0DaKQyA59xiQN2f5j+/UmJAGyTpPxCeYUDKtOz/EkdhQKTe+H96pWBAS0UZYBU5YEDp9u1/2/FeQC1q5n+o1F1AGN0wwHSmXECqCNxfYqJbQCbZNABlllpA9U31vzdlWUDbJf3/cC9YQDKvAgBwrFdAXHj7/zpiVkAyLfu/tKVVQPcdBYCRwVRAJHQCYB35U0Btf/zfMBFTQIgRBMAfV1JA/fQCYHqlUUD4m/0/1uFQQGM3AcAQPVBANwgIIBSMT0C1JPa/kltOQALk+F82Ok1AS9sJQO07TEA4xfw/e5pLQLQoBUAJgEpATqcKgFDaSUDvuQLAZ79IQBw3BOCCQkhAGxAAoDN5R0C2S/r/4adGQCPL9t/SDUZAkTL7n/BVRUDTAPefKZ1EQFu7BuAT9ENAL+MBwIxjQ0DTqQIgtL9CQClLAEDGWUJAxW4CgCGiQUDCYwXgmx5BQIpz9d9aV0BAs6oMgESNP0BqdP8/618+QGSx6v9eZT1AQREH4NExPEAZQPDfWVs7QCMK8z91FTpASTYNQFnuOEBBkw4gjU04QEil+d8hLTdAsfL0371QNkCoT/a/8YA1QFcf9t/WsTRAirLxP32bM0B/weqfEhEzQI95FQCAFTJAIagBIHoyMUCNAPq/G4swQHop6R9Mfy9AcOAfAIIJLkARG+p/0sksQIXv3P/writAtiMowKh7KkAXNCVA6hIpQMdm5H80AihAJ9Lk/+HKJkAEtAggEMclQKuZ778ZJyVAG/nVf0odJEDAKwOAw0IjQARJAIBhPiJATJj+X1SWIUB5LP8f/I4gQEwDBwADxx9A3wL8Xx1RHkCU/QJgjcgcQIoyB4CrPhxAu/r6HzUDG0Dyl/qfGmIZQAO2+h+diBhAyOQHwNUkF0CeWwSgM2QWQDBh+n9ROxVAZ1IDANklFECMggEA14gTQHVOB0BJ4BJAUtoE4OtoEkATVgLg2lYRQJ7w+/+EiRBA",
          "dtype": "f8"
         }
        },
        {
         "mode": "lines",
         "name": "0.6 μM",
         "type": "scatter",
         "x": {
          "bdata": "CaP+H1y3gECglP9/wr+AQE2ABkDhxoBA6wX6n0fPgEBoDv+fmdeAQC/jAcDM3oBAs3/5vx7ngEBLcfofhe+AQPdcAeCj9oBAj04CQAr/gEAJo/4fXAeBQKCU/3/CD4FATYAGQOEWgUDrBfqfRx+BQGgO/5+ZJ4FAL+MBwMwugUCPTgJACjeBQOsF+p9HP4FAS3H6H4VHgUCglP9/wk+BQC/jAcDMVoFAj04CQApfgUDrBfqfR2eBQEtx+h+Fb4FAoJT/f8J3gUAv4wHAzH6BQLN/+b8eh4FAS3H6H4WPgUD3XAHgo5aBQI9OAkAKn4FACaP+H1yngUCglP9/wq+BQE2ABkDhtoFA6wX6n0e/gUBoDv+fmceBQC/jAcDMzoFAj04CQArXgUDrBfqfR9+BQEtx+h+F54FAoJT/f8LvgUAv4wHAzPaBQI9OAkAK/4FA6wX6n0cHgkBLcfofhQ+CQKCU/3/CF4JAL+MBwMwegkCzf/m/HieCQEtx+h+FL4JA91wB4KM2gkCPTgJACj+CQAmj/h9cR4JAoJT/f8JPgkBNgAZA4VaCQOsF+p9HX4JAaA7/n5lngkAv4wHAzG6CQI9OAkAKd4JA6wX6n0d/gkBLcfofhYeCQKCU/3/Cj4JAL+MBwMyWgkCPTgJACp+CQOsF+p9Hp4JAS3H6H4WvgkCglP9/wreCQC/jAcDMvoJATYAGQOHGgkCPTgJACs+CQLN/+b8e14JA6wX6n0ffgkAJo/4fXOeCQEtx+h+F74JAaA7/n5n3gkCglP9/wv+CQBX6BWC4BoNAL+MBwMwOg0CPTgJACheDQOsF+p9HH4NAS3H6H4Ung0CglP9/wi+DQC/jAcDMNoNAj04CQAo/g0DrBfqfR0eDQEtx+h+FT4NAoJT/f8JXg0Av4wHAzF6DQI9OAkAKZ4NA6wX6n0dvg0BLcfofhXeDQKCU/3/Cf4NAL+MBwMyGg0CPTgJACo+DQOsF+p9Hl4NAS3H6H4Wfg0CglP9/wqeDQC/jAcDMroNATYAGQOG2g0CPTgJACr+DQLN/+b8ex4NA6wX6n0fPg0AJo/4fXNeDQEtx+h+F34NAaA7/n5nng0CglP9/wu+DQBX6BWC49oNAL+MBwMz+g0BNgAZA4QaEQI9OAkAKD4RAs3/5vx4XhEDrBfqfRx+EQAmj/h9cJ4RAS3H6H4UvhEBoDv+fmTeEQKCU/3/CP4RAFfoFYLhGhEAv4wHAzE6EQE2ABkDhVoRA",
          "dtype": "f8"
         },
         "y": {
          "bdata": "jIIBANc4TUBijvU/hnhPQLtlA8DjHlFAAWYAoHGvUkDapwRALE5UQPdcAeAzYVVAeK//3/22VkBlAwIAtORXQI9OAkA6CFlAKSDtfwAEWkCGFRNA1utaQGJOK+D51FtAj+TyH9IzXEDSg8zfzsNcQFgGMMCZEF1ANNL3v8hGXUDXSSKg53JdQBbOJKD4al1A8cgO4GNJXUDBe/3/bhtdQCr0C8BQiFxA1TfV/948XECo0C8AQ8BbQLJEDOBSJltAyU0eYPdlWkD14+Wfzx5aQPNBKiBIEllA/9j7v3BjWEALMAMAzaBXQBsQAKCzBldAX0T8P14qVkDnfARADURVQD8C+7/VhFRAMxUDoOHOU0AfQgGASBxTQKBVAyCwLVJA/TP/v5x2UUCIEQTAX7RQQIzB/V+5HlBAzer8Xx7ETkCMwf1f+d1NQCHn/X8cnExAVmIBwG80S0AQ4PyfpkJKQDnsAIBK/EhAb2P1PydaSEBSMADgmpBHQKvc+p+ya0ZA55T8X+CXRUDsLP7fpudEQLEdCKCDJ0RA+08GYGZzQ0DpYP2fQ+NCQMPh/Z9gd0JAYZIEwHy2QUAOOwCgkhVBQPx2CqA1jUBARsEAgOsEQEAukeq/9+U+QAas6h8jVD5A2df0f5JbPUC9CgDAd008QMsGBADoWTtAxLENYLp0OkDjH/Cf8qM5QIETAqAnwDhAISb6377zN0BZQuufrz83QKrIEQBWhDZA9jX9n+TFNUA+GvPfKJk0QEyY/l9UIDRAQjgLICE1M0CYMP2/qJoyQCSz/r9/tjFAFKjuX5NEMUBPZP+fN34wQNiF3X995S9ADRT8X0M6LkBCUANA9GAtQI3V5v9VbyxAqU4owIedKkBKSSjgS88pQNQ+JQBizShA3LYQYGhqJ0DzQSogSH0mQEPe1R8ffiVAAtAPwFmeJEB1uwHghKcjQJmt/P8mNSNATuf/X7k+IkARHgCAgm0hQJjaAcB5WCBAaeH53ya0H0CvzgagHvMdQOOg/l/nbxxAtx38v0gqG0C9CQdAscUZQMva979bCBlAzzgF4DxwF0CB/ft/4boWQAO2+h+d2hVAjBf5XyjaFEDcDv5fJK0TQAxuBuDoHBNAIs8FYMn0EUDvZABA/0cRQLJu+591exBAjX35/5lCEEB3sw5g9BkOQNfJDGA5Jg1AxPP0PzDjC0D8zAWg5IUKQARx/T93YwlAfI7wP/caCUBuO/h/kaQHQJ+ZB4CPQQdA",
          "dtype": "f8"
         }
        },
        {
         "mode": "lines",
         "name": "0.4 μM",
         "type": "scatter",
         "x": {
          "bdata": "CaP+H1y3gECglP9/wr+AQE2ABkDhxoBA6wX6n0fPgEBoDv+fmdeAQC/jAcDM3oBAs3/5vx7ngEBLcfofhe+AQPdcAeCj9oBAj04CQAr/gEAJo/4fXAeBQKCU/3/CD4FATYAGQOEWgUDrBfqfRx+BQGgO/5+ZJ4FAL+MBwMwugUCPTgJACjeBQOsF+p9HP4FAS3H6H4VHgUCglP9/wk+BQC/jAcDMVoFAj04CQApfgUDrBfqfR2eBQEtx+h+Fb4FAoJT/f8J3gUAv4wHAzH6BQLN/+b8eh4FAS3H6H4WPgUD3XAHgo5aBQI9OAkAKn4FACaP+H1yngUCglP9/wq+BQE2ABkDhtoFA6wX6n0e/gUBoDv+fmceBQC/jAcDMzoFAj04CQArXgUDrBfqfR9+BQEtx+h+F54FAoJT/f8LvgUAv4wHAzPaBQI9OAkAK/4FA6wX6n0cHgkBLcfofhQ+CQKCU/3/CF4JAL+MBwMwegkCzf/m/HieCQEtx+h+FL4JA91wB4KM2gkCPTgJACj+CQAmj/h9cR4JAoJT/f8JPgkBNgAZA4VaCQOsF+p9HX4JAaA7/n5lngkAv4wHAzG6CQI9OAkAKd4JA6wX6n0d/gkBLcfofhYeCQKCU/3/Cj4JAL+MBwMyWgkCPTgJACp+CQOsF+p9Hp4JAS3H6H4WvgkCglP9/wreCQC/jAcDMvoJATYAGQOHGgkCPTgJACs+CQLN/+b8e14JA6wX6n0ffgkAJo/4fXOeCQEtx+h+F74JAaA7/n5n3gkCglP9/wv+CQBX6BWC4BoNAL+MBwMwOg0CPTgJACheDQOsF+p9HH4NAS3H6H4Ung0CglP9/wi+DQC/jAcDMNoNAj04CQAo/g0DrBfqfR0eDQEtx+h+FT4NAoJT/f8JXg0Av4wHAzF6DQI9OAkAKZ4NA6wX6n0dvg0BLcfofhXeDQKCU/3/Cf4NAL+MBwMyGg0CPTgJACo+DQOsF+p9Hl4NAS3H6H4Wfg0CglP9/wqeDQC/jAcDMroNATYAGQOG2g0CPTgJACr+DQLN/+b8ex4NA6wX6n0fPg0AJo/4fXNeDQEtx+h+F34NAaA7/n5nng0CglP9/wu+DQBX6BWC49oNAL+MBwMz+g0BNgAZA4QaEQI9OAkAKD4RAs3/5vx4XhEDrBfqfRx+EQAmj/h9cJ4RAS3H6H4UvhEBoDv+fmTeEQKCU/3/CP4RAFfoFYLhGhEAv4wHAzE6EQE2ABkDhVoRA",
          "dtype": "f8"
         },
         "y": {
          "bdata": "Ljr2PwKjOkC+Re2fIy89QJ4H+5+RAz9AUm/8P73JQEDsrgUgYkdCQJdzCKDBOUNAu7z3P9mQRECZGAWg1ddFQKWuCEDUW0ZAUbIHIFZvR0Ck3vh/+iNIQB6dBIB08UhAedYDIM1ZSUCcYv6f/eFJQLVPCYBY5ElALVb930tBSkCn0f3/LEJKQN1zBYBPOUpAvq/8vwskSkBfg/ifAOZJQLjw9v91d0lADVP4v+UbSUC7vPc/We5IQLJY9X+vJEhAO1IBIDydR0AT6/k/LApHQLnY/t+iMUZA8UYHoKitRUDVDwPAJUBFQG+OCABtUkRACLv2P5+8Q0CIzvjfxvZCQK5RB2AgXkJAIs8FYEmdQUBMQQrgXvFAQLVPCYDYZkBAH5n1//0oP0CpIxUAwvg9QAXbDGBfszxAHV4IIFKMO0Bc4gogY7s6QOGS678xWTlAEcgEgFOuOECI5vD/mcw3QGjj69+zNjZAhIgOYBWZNUAaFA8gKtY0QNBfCSCMLjRAA/cTAKlwM0DbZPlfU20yQMK6+V8R8jFAraj735VzMUAKCf+/PfYwQMdS+9/XPTBAMGH6f1GxL0CdNh3gzfEuQCBpBcBXri1AMAoGAFyxLECRMvufcLQrQLKDCED1nCpAtFDXf0LQKUCb0BxAXEcpQCzYBCAHgihAgGr2Hx2XJ0BrXAcgGAInQIEmHUAaVSZAAjfeXzWrJUCBPhVg7YYkQHX6/T+n5CNArK78X5kVI0DAUwBA2X0iQLqqAKAJ1SFAhS4E4G99IUCWiwDAFHcgQHsP///rACBAc2wA4B/tHkDFb/v/558dQHa1AGCBgxxAn9n8X3huG0AA/waAOT8aQMJjBeAbYBlAdxz6f7lSGEA0PvnfPSYXQOAT+n8mDxZAsoMIQPV0FUCyAvp/ACIUQGfn+l8qsxNAzT//3wakEkD29/m/iM8RQPUO+V+VxBBA0AoHoCNcEEC8Dg9A7nsPQIg6+v87wQ1AOW0PQD9rDEAFMA/gx3EKQCEpEOBuJQpAncrwP/wTCUCF2QFgB40HQBxkCaBVZAZAr7n5/543BUAouxDgMbYDQBce9J9HrgNAnpv5fxyLAkAX3QVAmLABQNW4DkAw0ABA5339v9MwAEBFcOL/HMP/P6tb7N+9h/4/gVMiAG2o/D9l2wRAXrX6P5zO/79yU/o/xpUGwHCN+T+JouyfOm35P2ESGgAr4fY/qI7yHxSs9j+h0OXfxIb1P3uQ4j+EiPQ/",
          "dtype": "f8"
         }
        },
        {
         "mode": "lines",
         "name": "0.2 μM",
         "type": "scatter",
         "x": {
          "bdata": "CaP+H1y3gECglP9/wr+AQE2ABkDhxoBA6wX6n0fPgEBoDv+fmdeAQC/jAcDM3oBAs3/5vx7ngEBLcfofhe+AQPdcAeCj9oBAj04CQAr/gEAJo/4fXAeBQKCU/3/CD4FATYAGQOEWgUDrBfqfRx+BQGgO/5+ZJ4FAL+MBwMwugUCPTgJACjeBQOsF+p9HP4FAS3H6H4VHgUCglP9/wk+BQC/jAcDMVoFAj04CQApfgUDrBfqfR2eBQEtx+h+Fb4FAoJT/f8J3gUAv4wHAzH6BQLN/+b8eh4FAS3H6H4WPgUD3XAHgo5aBQI9OAkAKn4FACaP+H1yngUCglP9/wq+BQE2ABkDhtoFA6wX6n0e/gUBoDv+fmceBQC/jAcDMzoFAj04CQArXgUDrBfqfR9+BQEtx+h+F54FAoJT/f8LvgUAv4wHAzPaBQI9OAkAK/4FA6wX6n0cHgkBLcfofhQ+CQKCU/3/CF4JAL+MBwMwegkCzf/m/HieCQEtx+h+FL4JA91wB4KM2gkCPTgJACj+CQAmj/h9cR4JAoJT/f8JPgkBNgAZA4VaCQOsF+p9HX4JAaA7/n5lngkAv4wHAzG6CQI9OAkAKd4JA6wX6n0d/gkBLcfofhYeCQKCU/3/Cj4JAL+MBwMyWgkCPTgJACp+CQOsF+p9Hp4JAS3H6H4WvgkCglP9/wreCQC/jAcDMvoJATYAGQOHGgkCPTgJACs+CQLN/+b8e14JA6wX6n0ffgkAJo/4fXOeCQEtx+h+F74JAaA7/n5n3gkCglP9/wv+CQBX6BWC4BoNAL+MBwMwOg0CPTgJACheDQOsF+p9HH4NAS3H6H4Ung0CglP9/wi+DQC/jAcDMNoNAj04CQAo/g0DrBfqfR0eDQEtx+h+FT4NAoJT/f8JXg0Av4wHAzF6DQI9OAkAKZ4NA6wX6n0dvg0BLcfofhXeDQKCU/3/Cf4NAL+MBwMyGg0CPTgJACo+DQOsF+p9Hl4NAS3H6H4Wfg0CglP9/wqeDQC/jAcDMroNATYAGQOG2g0CPTgJACr+DQLN/+b8ex4NA6wX6n0fPg0AJo/4fXNeDQEtx+h+F34NAaA7/n5nng0CglP9/wu+DQBX6BWC49oNAL+MBwMz+g0BNgAZA4QaEQI9OAkAKD4RAs3/5vx4XhEDrBfqfRx+EQAmj/h9cJ4RAS3H6H4UvhEBoDv+fmTeEQKCU/3/CP4RAFfoFYLhGhEAv4wHAzE6EQE2ABkDhVoRA",
          "dtype": "f8"
         },
         "y": {
          "bdata": "+NkAILKgI0DJjei/g5AlQI0TFWAOBSdAptUMgCMPKUCB0Pa/ju0qQCjO1X9rYSxADWvw3zhyLkDZLRsAHukvQOWYC+BWpjBA9XgIgH1BMUAI+vKfwYYxQIyCAQDXiDJALjr2PwLEMkBEngvAkgUzQDZjCyAAUjNA6KMIgFxMM0ALb/9frzczQBYhCqD3WTNABAfuH483M0BHfvWf0v0yQDLD659MwzJAi0cUICuVMkBS2QtgJSMyQDkr/d9suDFAfrEQgCxYMUBHP/k/sOgwQBFG/T+YizBAmhMoIPXGL0AyhO8/KuAuQM0p+b/AiS1AmUDX3461LEDRmvb/N7krQLXNAUAduCpAXM4hgAaZKUDMFt4fzpkoQHY25J8ZFihA3Iv9n6IcJ0CJ4ROAuSsmQOVFJuDXaCVAFLzX/+90JEDGKv4fwmQjQG77AqCorCJAARH+Hwk7IkAJTQMgnUQhQJ/YA+CxlyBA0Lb9n4H6H0DCuvlfEUweQEws/T/fTh1AAKoEANGkHEAhU/+fEbQbQCd+BoCcdRpAs0D9X1xXGUD0Uv2/9EIZQETHAQBvMRhAzvoBAOFcF0BOfPe/CskWQHq/BIDAuxVAiTgIAK+tFUDBkvyf+7YUQI1UA8C9DBRAuij5X06BE0AjiwEAas4SQDqA/1/VIhJANU7+f4CzEUDAqfs/CPwQQHCg/588WhBAyc0IIMnBD0DFMP+fxd0OQHOBDYCfRg1AqbgMYBO3DEC6agvAIMQLQKwr/J8XJAtAoVD7H/NgCUD9ngdgy28IQK1/BaC5dQdAtHwOQCvnBkAu6AnASTsGQGyEBOAtFQVAMV4PAP48BEAwoe9fOlgDQL0IDsDqrgJA8IoLAIjFAUB06Aag12cBQGo1A+DIIQBAJ34GgJwTAEBwjBYA4JH+P2MNEgDuavw/3gUSYM1b+z8XnOxfjGr6P0Vv6X9WhPg/X+zjv0Vx9z9/WhwAN1T3P5Ja+F+GBfc/1H4a4EoK9T9WOBIAzZT0P7Hy9N+9ivI/E1YC4Nok8j/BpwlAeyzxP4peE8A39/A//mn6X/vY7z96yAVABNjvP98Q+j/mF+4/lwwEoFFD7T8M/gAgtaXqP6Z9/9/CTeo/0i38X/xs6j920fwfE+HmP4YOBIAfUOY/NNr//0Xo5T+Yhf8/ERXnP+eG/n8X0+U/Ztb8PyEH4j9/KwWgssrhP+Dd/t9HC+I/+oz7/w524T/mawYgBKDgPyut/D/51d8/",
          "dtype": "f8"
         }
        },
        {
         "mode": "lines",
         "name": "0.1 μM",
         "type": "scatter",
         "x": {
          "bdata": "CaP+H1y3gECglP9/wr+AQE2ABkDhxoBA6wX6n0fPgEBoDv+fmdeAQC/jAcDM3oBAs3/5vx7ngEBLcfofhe+AQPdcAeCj9oBAj04CQAr/gEAJo/4fXAeBQKCU/3/CD4FATYAGQOEWgUDrBfqfRx+BQGgO/5+ZJ4FAL+MBwMwugUCPTgJACjeBQOsF+p9HP4FAS3H6H4VHgUCglP9/wk+BQC/jAcDMVoFAj04CQApfgUDrBfqfR2eBQEtx+h+Fb4FAoJT/f8J3gUAv4wHAzH6BQLN/+b8eh4FAS3H6H4WPgUD3XAHgo5aBQI9OAkAKn4FACaP+H1yngUCglP9/wq+BQE2ABkDhtoFA6wX6n0e/gUBoDv+fmceBQC/jAcDMzoFAj04CQArXgUDrBfqfR9+BQEtx+h+F54FAoJT/f8LvgUAv4wHAzPaBQI9OAkAK/4FA6wX6n0cHgkBLcfofhQ+CQKCU/3/CF4JAL+MBwMwegkCzf/m/HieCQEtx+h+FL4JA91wB4KM2gkCPTgJACj+CQAmj/h9cR4JAoJT/f8JPgkBNgAZA4VaCQOsF+p9HX4JAaA7/n5lngkAv4wHAzG6CQI9OAkAKd4JA6wX6n0d/gkBLcfofhYeCQKCU/3/Cj4JAL+MBwMyWgkCPTgJACp+CQOsF+p9Hp4JAS3H6H4WvgkCglP9/wreCQC/jAcDMvoJATYAGQOHGgkCPTgJACs+CQLN/+b8e14JA6wX6n0ffgkAJo/4fXOeCQEtx+h+F74JAaA7/n5n3gkCglP9/wv+CQBX6BWC4BoNAL+MBwMwOg0CPTgJACheDQOsF+p9HH4NAS3H6H4Ung0CglP9/wi+DQC/jAcDMNoNAj04CQAo/g0DrBfqfR0eDQEtx+h+FT4NAoJT/f8JXg0Av4wHAzF6DQI9OAkAKZ4NA6wX6n0dvg0BLcfofhXeDQKCU/3/Cf4NAL+MBwMyGg0CPTgJACo+DQOsF+p9Hl4NAS3H6H4Wfg0CglP9/wqeDQC/jAcDMroNATYAGQOG2g0CPTgJACr+DQLN/+b8ex4NA6wX6n0fPg0AJo/4fXNeDQEtx+h+F34NAaA7/n5nng0CglP9/wu+DQBX6BWC49oNAL+MBwMz+g0BNgAZA4QaEQI9OAkAKD4RAs3/5vx4XhEDrBfqfRx+EQAmj/h9cJ4RAS3H6H4UvhEBoDv+fmTeEQKCU/3/CP4RAFfoFYLhGhEAv4wHAzE6EQE2ABkDhVoRA",
          "dtype": "f8"
         },
         "y": {
          "bdata": "/4EHQLt9F0C9SAOg02EZQIGmBwDsUBtA7/j+H4qcHUAfrgKgfRcgQCF7/F8nyyBAv0ICINCyIUBOkv3fULkiQIM1/t85aiNA1FIOoL4vJECczdu/T9QkQPZ0+f8GLSVAI9/ff6/VJUBTf9ZfI28mQHZ14P87kCZA2Fn8v02FJkDkXR4Aq8ImQDGfKOAJiSZALMQbgKpHJkBU/AAg/iQmQInNKuBcJyZAHvMqAABtJUB6VPzfES0lQJ1KBoAqqiRABBvXv+s9JECemgAAVr8jQP3e/D+0FiNAZPID4GqrIkDTVACgSwYiQI1V/D+ENyFAJgIAwOTMIEDGfwCgKgcgQB7FAUCKWB9AazD734t1HUBnvgQgTqkcQI5m+l+NextAAk4IgJ66GkDgvvf/vQ4aQGAA+N/+gRhA4iIGoKKHF0BnkvjfwZoWQEfT9x87XRVAQREH4NH4FECY8QBghu4TQP7GBCDhvBJALnwIoNSZEkAVefefs20RQIJiA6CMHBFAPsgGYHBAEEAf1/jfWQMQQIwB8z/i5w5AVvf4H8GmDUBiTgBgnQANQF0z/h9V5AtACJAOADb7CkC47gQAaaUKQFB1/b9AkQlA5W7xn1eMCEDESPe/mJ8HQHtm83/hpQdAecLv/xM2BkBWtwNA2JcFQFv7+7/8cwVAjqbvP3ZKBEAUkwxAcIcDQFCLA+CG8QJAVOb6/7ekAkDKR/Jfl94BQPb3+b+IZQFAZykNwPy1AEAokP0fbCwAQIXE9L+Hu/4/t17qH/gb/j8UqeffWcP9P7Y19N8bjPw/r84GoB75+j+MbR/gsxf5P0WFGiD5vPc/bC4J4P6F9z/0EwFg0r72P8NKFECCwfU/YNQWIM/D9D/jDACAXD30P1z45b9Mu/M/BxLrv5Si8j8IzuZfNQDyP8ij7t/JUvE/JhcNYGQW8D9GNgNgJFrvPyQaA8Bvmu0/BqUG4MiP7D/Wwv2fgr3pPyJS+z+Tdeo/ToD7X8nU6T+DPv+ffXvnPzKQ+x9mE+c/qk3536xi5j9o0wbgFSvkP/je/T83reM/Nuv9H0+u4j9rK/6/Bi3iP31V/z8NqeE/AxwGoMYW4D8Qi/ofvsbhP7ZP/p8g4N8/KFoCgI3K3T/4NwRgXr3cP/y89R/q3ts/oJgDIBEj3z9B0wMAdufZP3ow+N8C3NY/CV8FoCSA1T9CKfQf7XbWP4f48n8hNNg/EtAB4Bhd1T9gofsfjHLXP2QX9n+IINM/",
          "dtype": "f8"
         }
        }
       ],
       "layout": {
        "font": {
         "size": 14
        },
        "height": 600,
        "legend": {
         "x": 0.9,
         "y": 0.9
        },
        "template": {
         "data": {
          "bar": [
           {
            "error_x": {
             "color": "#2a3f5f"
            },
            "error_y": {
             "color": "#2a3f5f"
            },
            "marker": {
             "line": {
              "color": "#E5ECF6",
              "width": 0.5
             },
             "pattern": {
              "fillmode": "overlay",
              "size": 10,
              "solidity": 0.2
             }
            },
            "type": "bar"
           }
          ],
          "barpolar": [
           {
            "marker": {
             "line": {
              "color": "#E5ECF6",
              "width": 0.5
             },
             "pattern": {
              "fillmode": "overlay",
              "size": 10,
              "solidity": 0.2
             }
            },
            "type": "barpolar"
           }
          ],
          "carpet": [
           {
            "aaxis": {
             "endlinecolor": "#2a3f5f",
             "gridcolor": "white",
             "linecolor": "white",
             "minorgridcolor": "white",
             "startlinecolor": "#2a3f5f"
            },
            "baxis": {
             "endlinecolor": "#2a3f5f",
             "gridcolor": "white",
             "linecolor": "white",
             "minorgridcolor": "white",
             "startlinecolor": "#2a3f5f"
            },
            "type": "carpet"
           }
          ],
          "choropleth": [
           {
            "colorbar": {
             "outlinewidth": 0,
             "ticks": ""
            },
            "type": "choropleth"
           }
          ],
          "contour": [
           {
            "colorbar": {
             "outlinewidth": 0,
             "ticks": ""
            },
            "colorscale": [
             [
              0,
              "#0d0887"
             ],
             [
              0.1111111111111111,
              "#46039f"
             ],
             [
              0.2222222222222222,
              "#7201a8"
             ],
             [
              0.3333333333333333,
              "#9c179e"
             ],
             [
              0.4444444444444444,
              "#bd3786"
             ],
             [
              0.5555555555555556,
              "#d8576b"
             ],
             [
              0.6666666666666666,
              "#ed7953"
             ],
             [
              0.7777777777777778,
              "#fb9f3a"
             ],
             [
              0.8888888888888888,
              "#fdca26"
             ],
             [
              1,
              "#f0f921"
             ]
            ],
            "type": "contour"
           }
          ],
          "contourcarpet": [
           {
            "colorbar": {
             "outlinewidth": 0,
             "ticks": ""
            },
            "type": "contourcarpet"
           }
          ],
          "heatmap": [
           {
            "colorbar": {
             "outlinewidth": 0,
             "ticks": ""
            },
            "colorscale": [
             [
              0,
              "#0d0887"
             ],
             [
              0.1111111111111111,
              "#46039f"
             ],
             [
              0.2222222222222222,
              "#7201a8"
             ],
             [
              0.3333333333333333,
              "#9c179e"
             ],
             [
              0.4444444444444444,
              "#bd3786"
             ],
             [
              0.5555555555555556,
              "#d8576b"
             ],
             [
              0.6666666666666666,
              "#ed7953"
             ],
             [
              0.7777777777777778,
              "#fb9f3a"
             ],
             [
              0.8888888888888888,
              "#fdca26"
             ],
             [
              1,
              "#f0f921"
             ]
            ],
            "type": "heatmap"
           }
          ],
          "histogram": [
           {
            "marker": {
             "pattern": {
              "fillmode": "overlay",
              "size": 10,
              "solidity": 0.2
             }
            },
            "type": "histogram"
           }
          ],
          "histogram2d": [
           {
            "colorbar": {
             "outlinewidth": 0,
             "ticks": ""
            },
            "colorscale": [
             [
              0,
              "#0d0887"
             ],
             [
              0.1111111111111111,
              "#46039f"
             ],
             [
              0.2222222222222222,
              "#7201a8"
             ],
             [
              0.3333333333333333,
              "#9c179e"
             ],
             [
              0.4444444444444444,
              "#bd3786"
             ],
             [
              0.5555555555555556,
              "#d8576b"
             ],
             [
              0.6666666666666666,
              "#ed7953"
             ],
             [
              0.7777777777777778,
              "#fb9f3a"
             ],
             [
              0.8888888888888888,
              "#fdca26"
             ],
             [
              1,
              "#f0f921"
             ]
            ],
            "type": "histogram2d"
           }
          ],
          "histogram2dcontour": [
           {
            "colorbar": {
             "outlinewidth": 0,
             "ticks": ""
            },
            "colorscale": [
             [
              0,
              "#0d0887"
             ],
             [
              0.1111111111111111,
              "#46039f"
             ],
             [
              0.2222222222222222,
              "#7201a8"
             ],
             [
              0.3333333333333333,
              "#9c179e"
             ],
             [
              0.4444444444444444,
              "#bd3786"
             ],
             [
              0.5555555555555556,
              "#d8576b"
             ],
             [
              0.6666666666666666,
              "#ed7953"
             ],
             [
              0.7777777777777778,
              "#fb9f3a"
             ],
             [
              0.8888888888888888,
              "#fdca26"
             ],
             [
              1,
              "#f0f921"
             ]
            ],
            "type": "histogram2dcontour"
           }
          ],
          "mesh3d": [
           {
            "colorbar": {
             "outlinewidth": 0,
             "ticks": ""
            },
            "type": "mesh3d"
           }
          ],
          "parcoords": [
           {
            "line": {
             "colorbar": {
              "outlinewidth": 0,
              "ticks": ""
             }
            },
            "type": "parcoords"
           }
          ],
          "pie": [
           {
            "automargin": true,
            "type": "pie"
           }
          ],
          "scatter": [
           {
            "fillpattern": {
             "fillmode": "overlay",
             "size": 10,
             "solidity": 0.2
            },
            "type": "scatter"
           }
          ],
          "scatter3d": [
           {
            "line": {
             "colorbar": {
              "outlinewidth": 0,
              "ticks": ""
             }
            },
            "marker": {
             "colorbar": {
              "outlinewidth": 0,
              "ticks": ""
             }
            },
            "type": "scatter3d"
           }
          ],
          "scattercarpet": [
           {
            "marker": {
             "colorbar": {
              "outlinewidth": 0,
              "ticks": ""
             }
            },
            "type": "scattercarpet"
           }
          ],
          "scattergeo": [
           {
            "marker": {
             "colorbar": {
              "outlinewidth": 0,
              "ticks": ""
             }
            },
            "type": "scattergeo"
           }
          ],
          "scattergl": [
           {
            "marker": {
             "colorbar": {
              "outlinewidth": 0,
              "ticks": ""
             }
            },
            "type": "scattergl"
           }
          ],
          "scattermap": [
           {
            "marker": {
             "colorbar": {
              "outlinewidth": 0,
              "ticks": ""
             }
            },
            "type": "scattermap"
           }
          ],
          "scattermapbox": [
           {
            "marker": {
             "colorbar": {
              "outlinewidth": 0,
              "ticks": ""
             }
            },
            "type": "scattermapbox"
           }
          ],
          "scatterpolar": [
           {
            "marker": {
             "colorbar": {
              "outlinewidth": 0,
              "ticks": ""
             }
            },
            "type": "scatterpolar"
           }
          ],
          "scatterpolargl": [
           {
            "marker": {
             "colorbar": {
              "outlinewidth": 0,
              "ticks": ""
             }
            },
            "type": "scatterpolargl"
           }
          ],
          "scatterternary": [
           {
            "marker": {
             "colorbar": {
              "outlinewidth": 0,
              "ticks": ""
             }
            },
            "type": "scatterternary"
           }
          ],
          "surface": [
           {
            "colorbar": {
             "outlinewidth": 0,
             "ticks": ""
            },
            "colorscale": [
             [
              0,
              "#0d0887"
             ],
             [
              0.1111111111111111,
              "#46039f"
             ],
             [
              0.2222222222222222,
              "#7201a8"
             ],
             [
              0.3333333333333333,
              "#9c179e"
             ],
             [
              0.4444444444444444,
              "#bd3786"
             ],
             [
              0.5555555555555556,
              "#d8576b"
             ],
             [
              0.6666666666666666,
              "#ed7953"
             ],
             [
              0.7777777777777778,
              "#fb9f3a"
             ],
             [
              0.8888888888888888,
              "#fdca26"
             ],
             [
              1,
              "#f0f921"
             ]
            ],
            "type": "surface"
           }
          ],
          "table": [
           {
            "cells": {
             "fill": {
              "color": "#EBF0F8"
             },
             "line": {
              "color": "white"
             }
            },
            "header": {
             "fill": {
              "color": "#C8D4E3"
             },
             "line": {
              "color": "white"
             }
            },
            "type": "table"
           }
          ]
         },
         "layout": {
          "annotationdefaults": {
           "arrowcolor": "#2a3f5f",
           "arrowhead": 0,
           "arrowwidth": 1
          },
          "autotypenumbers": "strict",
          "coloraxis": {
           "colorbar": {
            "outlinewidth": 0,
            "ticks": ""
           }
          },
          "colorscale": {
           "diverging": [
            [
             0,
             "#8e0152"
            ],
            [
             0.1,
             "#c51b7d"
            ],
            [
             0.2,
             "#de77ae"
            ],
            [
             0.3,
             "#f1b6da"
            ],
            [
             0.4,
             "#fde0ef"
            ],
            [
             0.5,
             "#f7f7f7"
            ],
            [
             0.6,
             "#e6f5d0"
            ],
            [
             0.7,
             "#b8e186"
            ],
            [
             0.8,
             "#7fbc41"
            ],
            [
             0.9,
             "#4d9221"
            ],
            [
             1,
             "#276419"
            ]
           ],
           "sequential": [
            [
             0,
             "#0d0887"
            ],
            [
             0.1111111111111111,
             "#46039f"
            ],
            [
             0.2222222222222222,
             "#7201a8"
            ],
            [
             0.3333333333333333,
             "#9c179e"
            ],
            [
             0.4444444444444444,
             "#bd3786"
            ],
            [
             0.5555555555555556,
             "#d8576b"
            ],
            [
             0.6666666666666666,
             "#ed7953"
            ],
            [
             0.7777777777777778,
             "#fb9f3a"
            ],
            [
             0.8888888888888888,
             "#fdca26"
            ],
            [
             1,
             "#f0f921"
            ]
           ],
           "sequentialminus": [
            [
             0,
             "#0d0887"
            ],
            [
             0.1111111111111111,
             "#46039f"
            ],
            [
             0.2222222222222222,
             "#7201a8"
            ],
            [
             0.3333333333333333,
             "#9c179e"
            ],
            [
             0.4444444444444444,
             "#bd3786"
            ],
            [
             0.5555555555555556,
             "#d8576b"
            ],
            [
             0.6666666666666666,
             "#ed7953"
            ],
            [
             0.7777777777777778,
             "#fb9f3a"
            ],
            [
             0.8888888888888888,
             "#fdca26"
            ],
            [
             1,
             "#f0f921"
            ]
           ]
          },
          "colorway": [
           "#636efa",
           "#EF553B",
           "#00cc96",
           "#ab63fa",
           "#FFA15A",
           "#19d3f3",
           "#FF6692",
           "#B6E880",
           "#FF97FF",
           "#FECB52"
          ],
          "font": {
           "color": "#2a3f5f"
          },
          "geo": {
           "bgcolor": "white",
           "lakecolor": "white",
           "landcolor": "#E5ECF6",
           "showlakes": true,
           "showland": true,
           "subunitcolor": "white"
          },
          "hoverlabel": {
           "align": "left"
          },
          "hovermode": "closest",
          "mapbox": {
           "style": "light"
          },
          "paper_bgcolor": "white",
          "plot_bgcolor": "#E5ECF6",
          "polar": {
           "angularaxis": {
            "gridcolor": "white",
            "linecolor": "white",
            "ticks": ""
           },
           "bgcolor": "#E5ECF6",
           "radialaxis": {
            "gridcolor": "white",
            "linecolor": "white",
            "ticks": ""
           }
          },
          "scene": {
           "xaxis": {
            "backgroundcolor": "#E5ECF6",
            "gridcolor": "white",
            "gridwidth": 2,
            "linecolor": "white",
            "showbackground": true,
            "ticks": "",
            "zerolinecolor": "white"
           },
           "yaxis": {
            "backgroundcolor": "#E5ECF6",
            "gridcolor": "white",
            "gridwidth": 2,
            "linecolor": "white",
            "showbackground": true,
            "ticks": "",
            "zerolinecolor": "white"
           },
           "zaxis": {
            "backgroundcolor": "#E5ECF6",
            "gridcolor": "white",
            "gridwidth": 2,
            "linecolor": "white",
            "showbackground": true,
            "ticks": "",
            "zerolinecolor": "white"
           }
          },
          "shapedefaults": {
           "line": {
            "color": "#2a3f5f"
           }
          },
          "ternary": {
           "aaxis": {
            "gridcolor": "white",
            "linecolor": "white",
            "ticks": ""
           },
           "baxis": {
            "gridcolor": "white",
            "linecolor": "white",
            "ticks": ""
           },
           "bgcolor": "#E5ECF6",
           "caxis": {
            "gridcolor": "white",
            "linecolor": "white",
            "ticks": ""
           }
          },
          "title": {
           "x": 0.05
          },
          "xaxis": {
           "automargin": true,
           "gridcolor": "white",
           "linecolor": "white",
           "ticks": "",
           "title": {
            "standoff": 15
           },
           "zerolinecolor": "white",
           "zerolinewidth": 2
          },
          "yaxis": {
           "automargin": true,
           "gridcolor": "white",
           "linecolor": "white",
           "ticks": "",
           "title": {
            "standoff": 15
           },
           "zerolinecolor": "white",
           "zerolinewidth": 2
          }
         }
        },
        "width": 800,
        "xaxis": {
         "title": {
          "text": "Wavelength (nm)"
         }
        },
        "yaxis": {
         "range": [
          0,
          1000
         ],
         "title": {
          "text": "Intensity (a.u.)"
         }
        }
       }
      }
     },
     "metadata": {},
     "output_type": "display_data"
    }
   ],
   "source": [
    "fig = go.Figure()\n",
    "\n",
    "for λ_col, I_col, c in zip(WAVELENGHTS, INTENSITIES,C):\n",
    "    fig.add_trace(go.Scatter(x=data[λ_col],y= data[I_col],\n",
    "                    mode='lines',\n",
    "                    name=f'{c} μM'))\n",
    "\n",
    "fig.update_layout(\n",
    "                  xaxis_title='Wavelength (nm)',\n",
    "                  yaxis_title='Intensity (a.u.)',\n",
    "                  height=600,\n",
    "                  width=800,\n",
    "                  yaxis=dict(range=[0, 1000]),\n",
    "                  legend=dict(x=0.9, y=0.9),\n",
    "                  font=dict(size=14))\n",
    "\n",
    "\n",
    "fig.show()"
   ]
  },
  {
   "cell_type": "markdown",
   "metadata": {},
   "source": [
    "lo strumento ha un'incertezza su lambda di 1.5nm"
   ]
  },
  {
   "cell_type": "code",
   "execution_count": 5,
   "metadata": {},
   "outputs": [
    {
     "name": "stdout",
     "output_type": "stream",
     "text": [
      "λmax I 5 = 554 nm\n",
      "λmax I 4 = 554 nm\n",
      "λmax I 3 = 553 nm\n",
      "λmax I 2 = 552 nm\n",
      "λmax I 1 = 552 nm\n",
      "λmax I 0.8 = 551 nm\n",
      "λmax I 0.6 = 551 nm\n",
      "λmax I 0.4 = 551 nm\n",
      "λmax I 0.2 = 552 nm\n",
      "λmax I 0.1 = 551 nm\n"
     ]
    }
   ],
   "source": [
    "for λ_col, I_col in zip(WAVELENGHTS, INTENSITIES):\n",
    "    Λ = data[λ_col]\n",
    "    I = data[I_col]\n",
    "    Λmax = Λ[I.idxmax()]\n",
    "    print(f'λmax {I_col} = {int(np.round(Λmax))} nm')#, {np.mean(np.diff(Λ))} nm')"
   ]
  },
  {
   "cell_type": "code",
   "execution_count": 6,
   "metadata": {},
   "outputs": [],
   "source": [
    "# making maximum point interpolation:\n",
    "def max_fit_parabolic(x, λcenter, a, IMAX): # -a*(x-λcenter)**2 + IMAX\n",
    "    return -a*(x-λcenter)**2 + IMAX"
   ]
  },
  {
   "cell_type": "markdown",
   "metadata": {},
   "source": [
    "segue fit parabolico dei picchi dello spettro, vengono considerati solo i 5 punti a destra e 5 a sinistra del punto massimo dello spettro\n",
    "\n",
    "segue l'estrapolazione del valore di Imax"
   ]
  },
  {
   "cell_type": "code",
   "execution_count": 7,
   "metadata": {},
   "outputs": [
    {
     "data": {
      "text/html": [
       "<div>\n",
       "<style scoped>\n",
       "    .dataframe tbody tr th:only-of-type {\n",
       "        vertical-align: middle;\n",
       "    }\n",
       "\n",
       "    .dataframe tbody tr th {\n",
       "        vertical-align: top;\n",
       "    }\n",
       "\n",
       "    .dataframe thead th {\n",
       "        text-align: right;\n",
       "    }\n",
       "</style>\n",
       "<table border=\"1\" class=\"dataframe\">\n",
       "  <thead>\n",
       "    <tr style=\"text-align: right;\">\n",
       "      <th></th>\n",
       "      <th>Concentration (μM)</th>\n",
       "      <th>λcenter</th>\n",
       "      <th>a</th>\n",
       "      <th>IMAX</th>\n",
       "      <th>error_λcenter</th>\n",
       "      <th>error_a</th>\n",
       "      <th>error_IMAX</th>\n",
       "    </tr>\n",
       "  </thead>\n",
       "  <tbody>\n",
       "    <tr>\n",
       "      <th>0</th>\n",
       "      <td>5.0</td>\n",
       "      <td>554.085478</td>\n",
       "      <td>2.490248</td>\n",
       "      <td>941.243085</td>\n",
       "      <td>0.291559</td>\n",
       "      <td>0.472044</td>\n",
       "      <td>1.080413</td>\n",
       "    </tr>\n",
       "    <tr>\n",
       "      <th>1</th>\n",
       "      <td>4.0</td>\n",
       "      <td>553.832131</td>\n",
       "      <td>2.265721</td>\n",
       "      <td>821.035185</td>\n",
       "      <td>0.321163</td>\n",
       "      <td>0.511102</td>\n",
       "      <td>1.367779</td>\n",
       "    </tr>\n",
       "    <tr>\n",
       "      <th>2</th>\n",
       "      <td>3.0</td>\n",
       "      <td>552.768056</td>\n",
       "      <td>1.763203</td>\n",
       "      <td>718.620896</td>\n",
       "      <td>0.071556</td>\n",
       "      <td>0.085384</td>\n",
       "      <td>0.132260</td>\n",
       "    </tr>\n",
       "    <tr>\n",
       "      <th>3</th>\n",
       "      <td>2.0</td>\n",
       "      <td>551.863956</td>\n",
       "      <td>1.025651</td>\n",
       "      <td>492.740761</td>\n",
       "      <td>0.073893</td>\n",
       "      <td>0.049509</td>\n",
       "      <td>0.008700</td>\n",
       "    </tr>\n",
       "    <tr>\n",
       "      <th>4</th>\n",
       "      <td>1.0</td>\n",
       "      <td>551.636138</td>\n",
       "      <td>0.520043</td>\n",
       "      <td>238.863326</td>\n",
       "      <td>0.200470</td>\n",
       "      <td>0.076460</td>\n",
       "      <td>0.227308</td>\n",
       "    </tr>\n",
       "    <tr>\n",
       "      <th>5</th>\n",
       "      <td>0.8</td>\n",
       "      <td>551.169292</td>\n",
       "      <td>0.395241</td>\n",
       "      <td>170.265616</td>\n",
       "      <td>0.145888</td>\n",
       "      <td>0.042529</td>\n",
       "      <td>0.134836</td>\n",
       "    </tr>\n",
       "    <tr>\n",
       "      <th>6</th>\n",
       "      <td>0.6</td>\n",
       "      <td>551.286927</td>\n",
       "      <td>0.248635</td>\n",
       "      <td>117.810616</td>\n",
       "      <td>0.076323</td>\n",
       "      <td>0.013099</td>\n",
       "      <td>0.036379</td>\n",
       "    </tr>\n",
       "    <tr>\n",
       "      <th>7</th>\n",
       "      <td>0.4</td>\n",
       "      <td>551.088238</td>\n",
       "      <td>0.099070</td>\n",
       "      <td>52.523174</td>\n",
       "      <td>0.136141</td>\n",
       "      <td>0.008872</td>\n",
       "      <td>0.013951</td>\n",
       "    </tr>\n",
       "    <tr>\n",
       "      <th>8</th>\n",
       "      <td>0.2</td>\n",
       "      <td>550.802135</td>\n",
       "      <td>0.019114</td>\n",
       "      <td>19.217768</td>\n",
       "      <td>0.729861</td>\n",
       "      <td>0.008951</td>\n",
       "      <td>0.002791</td>\n",
       "    </tr>\n",
       "    <tr>\n",
       "      <th>9</th>\n",
       "      <td>0.1</td>\n",
       "      <td>550.712284</td>\n",
       "      <td>0.030982</td>\n",
       "      <td>11.377880</td>\n",
       "      <td>0.279658</td>\n",
       "      <td>0.005787</td>\n",
       "      <td>0.008067</td>\n",
       "    </tr>\n",
       "  </tbody>\n",
       "</table>\n",
       "</div>"
      ],
      "text/plain": [
       "   Concentration (μM)     λcenter         a        IMAX  error_λcenter  \\\n",
       "0                 5.0  554.085478  2.490248  941.243085       0.291559   \n",
       "1                 4.0  553.832131  2.265721  821.035185       0.321163   \n",
       "2                 3.0  552.768056  1.763203  718.620896       0.071556   \n",
       "3                 2.0  551.863956  1.025651  492.740761       0.073893   \n",
       "4                 1.0  551.636138  0.520043  238.863326       0.200470   \n",
       "5                 0.8  551.169292  0.395241  170.265616       0.145888   \n",
       "6                 0.6  551.286927  0.248635  117.810616       0.076323   \n",
       "7                 0.4  551.088238  0.099070   52.523174       0.136141   \n",
       "8                 0.2  550.802135  0.019114   19.217768       0.729861   \n",
       "9                 0.1  550.712284  0.030982   11.377880       0.279658   \n",
       "\n",
       "    error_a  error_IMAX  \n",
       "0  0.472044    1.080413  \n",
       "1  0.511102    1.367779  \n",
       "2  0.085384    0.132260  \n",
       "3  0.049509    0.008700  \n",
       "4  0.076460    0.227308  \n",
       "5  0.042529    0.134836  \n",
       "6  0.013099    0.036379  \n",
       "7  0.008872    0.013951  \n",
       "8  0.008951    0.002791  \n",
       "9  0.005787    0.008067  "
      ]
     },
     "metadata": {},
     "output_type": "display_data"
    }
   ],
   "source": [
    "λcenter_list = []\n",
    "a_list = []\n",
    "IMAX_list = []\n",
    "error_λcenter_list = []\n",
    "error_a_list = []\n",
    "error_IMAX_list = []\n",
    "sigmay = [] # contiene l'errore propagato con x\n",
    "for λ_col, I_col in zip(WAVELENGHTS, INTENSITIES):\n",
    "    Λ = data[λ_col]\n",
    "    I = data[I_col]\n",
    "    Λmaxcenter = I.idxmax()\n",
    "\n",
    "    λcenter = Λ[Λmaxcenter] # guess\n",
    "    IMAX = I.max() # guess\n",
    "    a = 1 # guess\n",
    "\n",
    "    xrangemax = Λ[Λmaxcenter-5:Λmaxcenter+5] # 10 points around the max\n",
    "    yrangemax = I[Λmaxcenter-5:Λmaxcenter+5] # 10 points around the max\n",
    "    # ---- per considerare errore su lambda di 1.5nm\n",
    "    # iterazione 0\n",
    "    popt, pcov = curve_fit(max_fit_parabolic, xrangemax, yrangemax, p0=[λcenter, a, IMAX])\n",
    "    λcenter, a, IMAX = popt\n",
    "    error_λcenter, error_a, error_IMAX = np.sqrt(np.diag(pcov))\n",
    "    # iterazione 1\n",
    "    dydl = np.abs(-2*a*(λcenter-xrangemax)) # derivata prima rispetto a λ\n",
    "    sy = dydl*SIGMA_LAMBDA\n",
    "    \n",
    "    popt, pcov = curve_fit(max_fit_parabolic, xrangemax, yrangemax, p0=[λcenter, a, IMAX],sigma=sy)\n",
    "    λcenter, a, IMAX = popt\n",
    "    error_λcenter, error_a, error_IMAX = np.sqrt(np.diag(pcov))\n",
    "\n",
    "    λcenter_list.append(λcenter)\n",
    "    a_list.append(a)\n",
    "    IMAX_list.append(IMAX)\n",
    "    error_λcenter_list.append(error_λcenter)\n",
    "    error_a_list.append(error_a)\n",
    "    error_IMAX_list.append(error_IMAX)\n",
    "    sigmay.append(sy)\n",
    "\n",
    "# to numpy\n",
    "λcenter_list = np.array(λcenter_list)\n",
    "a_list = np.array(a_list)\n",
    "IMAX_list = np.array(IMAX_list)\n",
    "error_λcenter_list = np.array(error_λcenter_list)\n",
    "error_a_list = np.array(error_a_list)\n",
    "error_IMAX_list = np.array(error_IMAX_list)\n",
    "sigmay = np.array(sigmay)\n",
    "\n",
    "max_fit_parabolic_dataframe = pd.DataFrame({'Concentration (μM)': CONCENTRATIONS, 'λcenter': λcenter_list, 'a': a_list, 'IMAX': IMAX_list, 'error_λcenter': error_λcenter_list, 'error_a': error_a_list, 'error_IMAX': error_IMAX_list})\n",
    "display(max_fit_parabolic_dataframe)\n"
   ]
  },
  {
   "cell_type": "code",
   "execution_count": 8,
   "metadata": {},
   "outputs": [
    {
     "name": "stdout",
     "output_type": "stream",
     "text": [
      "λcenter = 551.92 ± 1.16 nm\n",
      "NOTA: sigmaLambda dichiarata dal costruttore vale 1.5nm\n"
     ]
    }
   ],
   "source": [
    "center = np.mean(λcenter_list)\n",
    "sigma = np.std(λcenter_list)\n",
    "print('λcenter =', final_val(center, sigma, udm='nm'))\n",
    "print('NOTA: sigmaLambda dichiarata dal costruttore vale 1.5nm')"
   ]
  },
  {
   "cell_type": "code",
   "execution_count": 9,
   "metadata": {},
   "outputs": [
    {
     "data": {
      "application/vnd.plotly.v1+json": {
       "config": {
        "plotlyServerURL": "https://plot.ly"
       },
       "data": [
        {
         "mode": "lines",
         "name": "5 μM",
         "type": "scatter",
         "x": {
          "bdata": "Qt4MXhKmgEDZzw2+eK6AQIa7FH6XtYBAJEEI3v29gEChSQ3eT8aAQGgeEP6CzYBA7LoH/tTVgECErAheO96AQDCYDx5a5YBAyIkQfsDtgEBC3gxeEvaAQNnPDb54/oBAhrsUfpcFgUAkQQje/Q2BQKFJDd5PFoFAaB4Q/oIdgUDIiRB+wCWBQCRBCN79LYFAhKwIXjs2gUDZzw2+eD6BQGgeEP6CRYFAyIkQfsBNgUAkQQje/VWBQISsCF47XoFA2c8NvnhmgUBoHhD+gm2BQOy6B/7UdYFAhKwIXjt+gUAwmA8eWoWBQMiJEH7AjYFAQt4MXhKWgUDZzw2+eJ6BQIa7FH6XpYFAJEEI3v2tgUChSQ3eT7aBQGgeEP6CvYFAyIkQfsDFgUAkQQje/c2BQISsCF471oFA2c8NvnjegUBoHhD+guWBQMiJEH7A7YFAJEEI3v31gUCErAheO/6BQNnPDb54BoJAaB4Q/oINgkDsugf+1BWCQISsCF47HoJAMJgPHlolgkDIiRB+wC2CQELeDF4SNoJA2c8Nvng+gkCGuxR+l0WCQCRBCN79TYJAoUkN3k9WgkBoHhD+gl2CQMiJEH7AZYJAJEEI3v1tgkCErAheO3aCQNnPDb54foJAaB4Q/oKFgkDIiRB+wI2CQCRBCN79lYJAhKwIXjuegkDZzw2+eKaCQGgeEP6CrYJAhrsUfpe1gkDIiRB+wL2CQOy6B/7UxYJAJEEI3v3NgkBC3gxeEtaCQISsCF473oJAoUkN3k/mgkDZzw2+eO6CQE41FJ5u9YJAaB4Q/oL9gkDIiRB+wAWDQCRBCN79DYNAhKwIXjsWg0DZzw2+eB6DQGgeEP6CJYNAyIkQfsAtg0AkQQje/TWDQISsCF47PoNA2c8NvnhGg0BoHhD+gk2DQMiJEH7AVYNAJEEI3v1dg0CErAheO2aDQNnPDb54boNAaB4Q/oJ1g0DIiRB+wH2DQCRBCN79hYNAhKwIXjuOg0DZzw2+eJaDQGgeEP6CnYNAhrsUfpelg0DIiRB+wK2DQOy6B/7UtYNAJEEI3v29g0BC3gxeEsaDQISsCF47zoNAoUkN3k/Wg0DZzw2+eN6DQE41FJ5u5YNAaB4Q/oLtg0CGuxR+l/WDQMiJEH7A/YNA7LoH/tQFhEAkQQje/Q2EQELeDF4SFoRAhKwIXjsehEChSQ3eTyaEQNnPDb54LoRATjUUnm41hEBoHhD+gj2EQIa7FH6XRYRA",
          "dtype": "f8"
         },
         "y": {
          "bdata": "ntZ78j2GQEB+w/cEcpBCQIQlfWsoZURAhOJx4OP0RkADqy683Z1JQNz6GoorZ0tAmKuNFRCNTkAqG83jfYxQQNDiRLznnFFAw//RF0bQUkCrxyNtDRNUQDVSBNlIGFVAJ7V1GzHfVUB3ESpUv8NWQI93pR1wZVdAleLe4ZoZWECnvItfs2dYQDGJ5Ey6vlhAURUfPAy3WEAAAAAAAABZQJ9i5+jA9FhAPXU2jZS/WEBQuVSYqlZYQLqACTYLnldAvYQsseCUV0AsiqXXTBNXQEgdps8tR1ZAVZcXvB4rVkB6TX9WxGVVQA7o+YiIv1RAKlX/SWwNVEDOD4OMQk5TQIsas9NVrVJAJupp3MYKUkCoBifmS6FRQCDLqpKM2VBAVgvYe2YbUEA0qxvMbK9OQIeXwh6xq01Awiq+hvBaTEBl6MDEVqJLQAxz6GzEQUpA1P61i7ImSUA40A8Qf0RIQPxiM4tvQ0dA923JFNyaRkDboHG7pJtFQPkIXz/ptURAEVdq2mI7RECUoQ3v415DQIu0gPu7l0JAictXtEwDQkDU4+g7LY1BQGtNd7Ss6kBAm8ciUtJxQEC/AKnYRcQ/QMAdiXF25D5AUcXZstv6PUDrkscIF+E8QCq3cPBeRzxAHuLAN04aO0CsNJsRYEA6QFFPOh1YljlARps2HLLXOEBZbLvq1x44QHkLH1QrZTdA+uKwV3urNkBCp3EXQt81QICuv0MOBDVApZfl4jY4NECF1DWvraUzQL5LtMwe6TJAr4tvnFQWMkDRw+0bRF4xQCnQti/2xzBA4nJJ3nkaMECk/BZD2wwvQFDXztea1C1AqU7QufqNLEDRF7Ewnz0rQNm06LI6ZipAhPivNjVSKUAZkdrZOUQoQH5ZT2kHPidAzfSlZ8j0JUDr7Hr+JiolQOK79o2SQSRAxLvOlqo/I0D6m2r7/3oiQPxjVGsQVCFAvTpKc7rcIEBGOaR/o94fQJgFXlGV3B5AcwPXFLtFHUB02QIPyN0bQO3DKEmS1hpAyHkZJHBfGUBRtjhAMyAYQEv2+ZiiLBdAwBBLrXn6FUAKQ9M/+f4UQEz/ToEbTxRAh8XPbdo0E0AgRrfvWVsSQJstSOK8yBFAm+/2bVHREECdGiyPSyEQQFfHwwJ1Ew9A+cc/+2CADUAMTaXdYUsMQN6WVQU9GgtAgA2IIAH9CUBTfU3jY+QIQFy2sBBh4gdA8ZfmnKvYBkCizsGQl0AGQBMRLvoEEgVA",
          "dtype": "f8"
         }
        },
        {
         "mode": "lines",
         "name": "4 μM",
         "type": "scatter",
         "x": {
          "bdata": "QXqfOBmogEDYa6CYf7CAQIVXp1iet4BAI92auATAgECg5Z+4VsiAQGe6otiJz4BA61aa2NvXgECDSJs4QuCAQC80ovhg54BAxyWjWMfvgEBBep84GfiAQNhroJh/AIFAhVenWJ4HgUAj3Zq4BBCBQKDln7hWGIFAZ7qi2IkfgUDHJaNYxyeBQCPdmrgEMIFAg0ibOEI4gUDYa6CYf0CBQGe6otiJR4FAxyWjWMdPgUAj3Zq4BFiBQINImzhCYIFA2GugmH9ogUBnuqLYiW+BQOtWmtjbd4FAg0ibOEKAgUAvNKL4YIeBQMclo1jHj4FAQXqfOBmYgUDYa6CYf6CBQIVXp1iep4FAI92auASwgUCg5Z+4VriBQGe6otiJv4FAxyWjWMfHgUAj3Zq4BNCBQINImzhC2IFA2GugmH/ggUBnuqLYieeBQMclo1jH74FAI92auAT4gUCDSJs4QgCCQNhroJh/CIJAZ7qi2IkPgkDrVprY2xeCQINImzhCIIJALzSi+GAngkDHJaNYxy+CQEF6nzgZOIJA2GugmH9AgkCFV6dYnkeCQCPdmrgEUIJAoOWfuFZYgkBnuqLYiV+CQMclo1jHZ4JAI92auARwgkCDSJs4QniCQNhroJh/gIJAZ7qi2ImHgkDHJaNYx4+CQCPdmrgEmIJAg0ibOEKggkDYa6CYf6iCQGe6otiJr4JAhVenWJ63gkDHJaNYx7+CQOtWmtjbx4JAI92auATQgkBBep84GdiCQINImzhC4IJAoOWfuFbogkDYa6CYf/CCQE3Rpnh194JAZ7qi2In/gkDHJaNYxweDQCPdmrgEEINAg0ibOEIYg0DYa6CYfyCDQGe6otiJJ4NAxyWjWMcvg0Aj3Zq4BDiDQINImzhCQINA2GugmH9Ig0BnuqLYiU+DQMclo1jHV4NAI92auARgg0CDSJs4QmiDQNhroJh/cINAZ7qi2Il3g0DHJaNYx3+DQCPdmrgEiINAg0ibOEKQg0DYa6CYf5iDQGe6otiJn4NAhVenWJ6ng0DHJaNYx6+DQOtWmtjbt4NAI92auATAg0BBep84GciDQINImzhC0INAoOWfuFbYg0DYa6CYf+CDQE3Rpnh154NAZ7qi2Invg0CFV6dYnveDQMclo1jH/4NA61aa2NsHhEAj3Zq4BBCEQEF6nzgZGIRAg0ibOEIghECg5Z+4ViiEQNhroJh/MIRATdGmeHU3hEBnuqLYiT+EQIVXp1ieR4RA",
          "dtype": "f8"
         },
         "y": {
          "bdata": "+VnyePS6QUDaqqh0JdNDQE54ubW4okVAxY1sL3hJSEA3GU2aA/pKQIgmCRN0+kxA16JTZlfCT0B9Q4Hb2SBRQM/Q9/AhHlJA3TzN92BHU0C1thYo12lUQMDlUdb6cVVAdUv8edgRVkBxQgBHufRWQHw9Hw9RlFdAoq0VkwQeWECzCNTFQWNYQN+QLwd5mlhAm06sPzu/WEAAAAAAAABZQJr7L92fo1hA6L/zCD6DWEAuAwLWDB5YQK9PghdO2ldAE7KG5NVBV0D4JOFx8ddWQNBqLZ9ZQVZAkBiXmiKzVUB33b1nyDxVQErgRwL5jVRApdCQfxPLU0B9/nuhc/lSQPLcQ7YNclJA+KK6USTXUUBkW+udLipRQKpflN//oVBARUbHuVDPT0D/wnHlt5JOQNyv66cQRk1ARgE5+0T/S0AfXnK2ThpLQJRJMjS1EEpADLaMCeDeSEAQ4FvU38JHQHX6CYW+80ZAPaTRMS0kRkDxxqndO0hFQINhXc0HbkRAnfm9vzbKQ0BDRdZv1hJDQMu+PSfockJAcNVfglLPQUDYtAH6Ek9BQDrgyGAtpUBAHy1cdScxQED+frj3sjc/QE8bSXmYbj5AlUEo8VtjPUA4BPZcu2E8QDPwVz6tmTtAhzF/Y1TSOkCn9X3hp9g5QF5FEeesEzlAG0ownQUhOECUvqTM8IE3QFL4E6qx6zZAs13MORkZNkDFDKePSk81QCdxbeG7jjRAISlRnVrWM0DZzXxxNyQzQJdgHdByVjJA2OSOWJGsMUBGQRPOLQ0xQJD7/r07ZzBAIZBji5+AL0CPUvHGoGUuQNhSE9MaGS1APUWqS6fwK0CVDzZ7Nc4qQL4dkBrn9ylAJs7GG/PKKEDthBh2I7EnQFb8fRQ/jiZAZwHaXtKuJUD60R320eckQGTY4+VQ6iNAXf65P0oYI0CayWWq1TAiQJiEmOxJaCFA7qKSp0mgIEAd6HPhH6cfQGj8g6DoOh5AH4wxRbruHED92j1nK7IbQCZuT8h6WRpAQpATevRcGUAsZ82NheQXQG+ZIqoqxBZAuPQZl2C/FUAlwP+Yk9UUQFKqFch65RNA86RXgxP6EkCJI0m6pPkRQIzTbewHkhFAy4pZLKu9EEBkDpkClgkQQBXDgkxEbQ5AHbH59jZYDUAoi8FQlcELQJdACluyzwpAjJ8DEqtQCUBtx9KtzmsIQCk3XRsrRgdA5es+8DiLBkDp8n95RrgFQEJIRBIkugRA",
          "dtype": "f8"
         }
        },
        {
         "mode": "lines",
         "name": "3 μM",
         "type": "scatter",
         "x": {
          "bdata": "BfmVcpywgECc6pbSArmAQEnWnZIhwIBA51uR8ofIgEBkZJby2dCAQCs5mRIN2IBAr9WQEl/ggEBHx5FyxeiAQPOymDLk74BAi6SZkkr4gEAF+ZVynACBQJzqltICCYFASdadkiEQgUDnW5HyhxiBQGRklvLZIIFAKzmZEg0ogUCLpJmSSjCBQOdbkfKHOIFAR8eRcsVAgUCc6pbSAkmBQCs5mRINUIFAi6SZkkpYgUDnW5Hyh2CBQEfHkXLFaIFAnOqW0gJxgUArOZkSDXiBQK/VkBJfgIFAR8eRcsWIgUDzspgy5I+BQIukmZJKmIFABfmVcpyggUCc6pbSAqmBQEnWnZIhsIFA51uR8oe4gUBkZJby2cCBQCs5mRINyIFAi6SZkkrQgUDnW5Hyh9iBQEfHkXLF4IFAnOqW0gLpgUArOZkSDfCBQIukmZJK+IFA51uR8ocAgkBHx5FyxQiCQJzqltICEYJAKzmZEg0YgkCv1ZASXyCCQEfHkXLFKIJA87KYMuQvgkCLpJmSSjiCQAX5lXKcQIJAnOqW0gJJgkBJ1p2SIVCCQOdbkfKHWIJAZGSW8tlggkArOZkSDWiCQIukmZJKcIJA51uR8od4gkBHx5FyxYCCQJzqltICiYJAKzmZEg2QgkCLpJmSSpiCQOdbkfKHoIJAR8eRcsWogkCc6pbSArGCQCs5mRINuIJASdadkiHAgkCLpJmSSsiCQK/VkBJf0IJA51uR8ofYgkAF+ZVynOCCQEfHkXLF6IJAZGSW8tnwgkCc6pbSAvmCQBFQnbL4/4JAKzmZEg0Ig0CLpJmSShCDQOdbkfKHGINAR8eRcsUgg0Cc6pbSAimDQCs5mRINMINAi6SZkko4g0DnW5Hyh0CDQEfHkXLFSINAnOqW0gJRg0ArOZkSDViDQIukmZJKYINA51uR8odog0BHx5FyxXCDQJzqltICeYNAKzmZEg2Ag0CLpJmSSoiDQOdbkfKHkINAR8eRcsWYg0Cc6pbSAqGDQCs5mRINqINASdadkiGwg0CLpJmSSriDQK/VkBJfwINA51uR8ofIg0AF+ZVynNCDQEfHkXLF2INAZGSW8tngg0Cc6pbSAumDQBFQnbL474NAKzmZEg34g0BJ1p2SIQCEQIukmZJKCIRAr9WQEl8QhEDnW5HyhxiEQAX5lXKcIIRAR8eRcsUohEBkZJby2TCEQJzqltICOYRAEVCdsvg/hEArOZkSDUiEQEnWnZIhUIRA",
          "dtype": "f8"
         },
         "y": {
          "bdata": "oRe7p43dREAQU5Gt0C1HQDbaObnuKklAjYOjakCuS0Bme7JkAJdOQJZObSW3JFBAQMDjZ+h4UUBJBvCayLBSQIw3GuhmhlNA74EG3BKOVEC1XvKkqLBVQP0081tfX1ZA2ULmJP04V0BMboUKGHhXQNdaclLVM1hA4h9jtq+GWEDtmqpaYcpYQHitqHqy6VhAAAAAAAAAWUCcU1iqtOVYQGGVsGlSsFhAK8SYxNVcWEDNyNSMtgRYQJS+98SyYldAVux7T4TgVkBQkB3Y739WQO2GU8/AzlVAqePbQL0xVUAY5tQYpMVUQDSczgePGVRArvYMNdxtU0DMqIh9MY5SQItLqFiC9lFA9TQ9muBwUUCPdFR+c6lQQII2NEwp4E9AWINvRuv3TkBCZ46gCalNQL3rxFEptkxAOhK034hTS0CFOnpdoWdKQOAkdqmP+0hAM1Ph6lIgSEAnsX8LUT9HQBgS1Ea7akZAjJheQa52RUAXPYVSJ+JEQGgL53pp7kNAu723a7M7Q0CwYF0vv5VCQO3mlwfB60FAz7HwP19JQUCY8N8M/tJAQCpvoBCIQkBAtOHxZfiNP0DY1oTOapM+QMvjq28Mez1AIhvXTyCePEBU1hzWk787QEp5VLxK0jpANTf2ptb3OUBPEwdAWA05QPyJ/KTKVjhARbA0uACPN0D0RLAs+MY2QNvE46MJJDZA3jEkz/yENUC/i6Fef780QA8CjwaEyDNAXeAXCspGM0CbJc18a4QyQKz5XxC0sTFA3WDKn2QhMUDDYi6FoLEwQJhK23IBGjBA4M1lvtPFLkAy+OcNAnYtQDc8HNhKZSxAEYTBguFWK0DpkYWLr/opQJhg5fQwaSlAvmuK+qI9KEAP2va6g+8mQNBBlR4oISZAXK84urwAJUBl5kJERT4kQIMhjjkIbyNAQa6cjy+CIkBK2Q6TPb8hQCq6EKpvyCBAZ55NYwcZIEDcbg/NQtweQCBL6T2KdR1Ajq6jaoz5G0Ct8UntWcMaQCtaZ4zbyRlAlepAiDJDGECdkoiWY0YXQKRM+YMoERZAe/1IDtIjFUA45oRHwRAUQFBviBLUAhNAWMXUAwFVEkBSkkRWMasRQMOUiQqGIxFA4a6jsUg5EEB/1jQf/pUOQJdSgT48Zw1AUiKFkalhDEBNVDu2TyILQDC09/rlkQlAEayBwPm7CED0+78UGpYHQBPRHvU8VQZAWtk0WhQIBkB2PxDFXcoEQBFVgD+jHQRA",
          "dtype": "f8"
         }
        },
        {
         "mode": "lines",
         "name": "2 μM",
         "type": "scatter",
         "x": {
          "bdata": "RG0xC9i3gEDbXjJrPsCAQIhKOStdx4BAJtAsi8PPgECj2DGLFdiAQGqtNKtI34BA7kksq5rngECGOy0LAfCAQDInNMsf94BAyhg1K4b/gEBEbTEL2AeBQNteMms+EIFAiEo5K10XgUAm0CyLwx+BQKPYMYsVKIFAaq00q0gvgUDKGDUrhjeBQCbQLIvDP4FAhjstCwFIgUDbXjJrPlCBQGqtNKtIV4FAyhg1K4ZfgUAm0CyLw2eBQIY7LQsBcIFA214yaz54gUBqrTSrSH+BQO5JLKuah4FAhjstCwGQgUAyJzTLH5eBQMoYNSuGn4FARG0xC9ingUDbXjJrPrCBQIhKOStdt4FAJtAsi8O/gUCj2DGLFciBQGqtNKtIz4FAyhg1K4bXgUAm0CyLw9+BQIY7LQsB6IFA214yaz7wgUBqrTSrSPeBQMoYNSuG/4FAJtAsi8MHgkCGOy0LARCCQNteMms+GIJAaq00q0gfgkDuSSyrmieCQIY7LQsBMIJAMic0yx83gkDKGDUrhj+CQERtMQvYR4JA214yaz5QgkCISjkrXVeCQCbQLIvDX4JAo9gxixVogkBqrTSrSG+CQMoYNSuGd4JAJtAsi8N/gkCGOy0LAYiCQNteMms+kIJAaq00q0iXgkDKGDUrhp+CQCbQLIvDp4JAhjstCwGwgkDbXjJrPriCQGqtNKtIv4JAiEo5K13HgkDKGDUrhs+CQO5JLKua14JAJtAsi8PfgkBEbTEL2OeCQIY7LQsB8IJAo9gxixX4gkDbXjJrPgCDQFDEOEs0B4NAaq00q0gPg0DKGDUrhheDQCbQLIvDH4NAhjstCwEog0DbXjJrPjCDQGqtNKtIN4NAyhg1K4Y/g0Am0CyLw0eDQIY7LQsBUINA214yaz5Yg0BqrTSrSF+DQMoYNSuGZ4NAJtAsi8Nvg0CGOy0LAXiDQNteMms+gINAaq00q0iHg0DKGDUrho+DQCbQLIvDl4NAhjstCwGgg0DbXjJrPqiDQGqtNKtIr4NAiEo5K123g0DKGDUrhr+DQO5JLKuax4NAJtAsi8PPg0BEbTEL2NeDQIY7LQsB4INAo9gxixXog0DbXjJrPvCDQFDEOEs094NAaq00q0j/g0CISjkrXQeEQMoYNSuGD4RA7kksq5oXhEAm0CyLwx+EQERtMQvYJ4RAhjstCwEwhECj2DGLFTiEQNteMms+QIRAUMQ4SzRHhEBqrTSrSE+EQIhKOStdV4RA",
          "dtype": "f8"
         },
         "y": {
          "bdata": "C7cHQsCQRkDqTacRsdNIQGcf6isbo0pAbDG1mS6PTUBEnEJ+JylQQJWVqROBGVFAMPKbEq9aUkAOEUimo29TQHKuL2F8RFRAi+DNJiRwVUCfJ2XgTjpWQN12P25JAFdAqDj2d/+XV0AQFFfGwxxYQCJcg6JXmVhA3kurhh7jWEAP87OvX+9YQAAAAAAAAFlA5MgTUEDuWEAKm6QcGcVYQFrwE2ObjFhADT///KU1WEDQlAfysvBXQCLgENiMVldA3MXPk7fFVkA8M0zAdF1WQBlMna2WwlVAJ7iLz4cXVUARYQY3tqNUQEitlKG46VNATZuM5+EpU0AmxqX9mX1SQMSGmQtW6FFAdQkyobpSUUAnAXZuw5JQQF+2GwtV8U9AWufuRmjLTkDZbphb0EFNQB1BPQdKRkxANtzh2ncKS0C80FZuZt1JQJFrYUJh4UhAN97n4vfLR0DzXFjMBOJGQBYglrAHG0ZA+HKjgk0URUAuXx0tqV1EQEma2vkhokNAsfy10zTzQkDrgWGMd1lCQD1mbN2SskFAjrGWtNLpQECVwgjOaHtAQD1yrAMyAEBAtGZqLWTwPkDNhC+00PE9QBhR+qyoAz1A6Aef+uHeO0ChETMxhgY7QG2hmTPOSzpA7hmWagavOUBbK9obyng4QBW80Euh2jdAm0biGWwrN0AybX1dqWs2QD6dFSG+zDVAkSXUj10VNUCR1M9eWGw0QL9kUKQtrTNA2xZw5qzTMkC9MtwHSRkyQCcy500NoDFAPEQ9ffTjMEDUK1Y/tFwwQO+LkGRHmi9A0iYKEzQmLkAaSQpc0vEsQOWDxwWVyytAsFeAk4GkKkBX5CLhMrApQOMJPFL41ChAHOdvLAmyJ0BvDfGPDrwmQL4CkPzwlSVAB9N/yxCGJEBXQcq9NtgjQHj63U/1+CJAHAB6cHQ/IkBiJv2YgE0hQOA5FPXhdSBAFjR1UfXSH0Czq6JvfTEeQHukw49k4BxAaPtCSV9/G0D44QeP6EQaQA1DRogM8hhALOmINaISGEA2qzToIMYWQB9hmQx+ohVAd6PU+5mRFECX9X3WXMQTQPn+n8Fo7BJAxMhuBjIVEkBD1Pe/f0sRQMhR0EBLvRBAQpZH7eTPD0AEeZajjmwOQCVz2skE/QxA87INIjX4C0BLfUpZoYMKQMqy9D9/nQlABgfR7ZFeCECUYilPYSkHQMTY+FUdRAZA/SplvfHVBUDgvYz7EcIEQOJk7bLevQNA",
          "dtype": "f8"
         }
        },
        {
         "mode": "lines",
         "name": "1 μM",
         "type": "scatter",
         "x": {
          "bdata": "3OXEnaq5gEBz18X9EMKAQCDDzL0vyYBAvkjAHZbRgEA7UcUd6NmAQAImyD0b4YBAhsK/PW3pgEAetMCd0/GAQMqfx13y+IBAYpHIvVgBgUDc5cSdqgmBQHPXxf0QEoFAIMPMvS8ZgUC+SMAdliGBQDtRxR3oKYFAAibIPRsxgUBikci9WDmBQL5IwB2WQYFAHrTAndNJgUBz18X9EFKBQAImyD0bWYFAYpHIvVhhgUC+SMAdlmmBQB60wJ3TcYFAc9fF/RB6gUACJsg9G4GBQIbCvz1tiYFAHrTAndORgUDKn8dd8piBQGKRyL1YoYFA3OXEnaqpgUBz18X9ELKBQCDDzL0vuYFAvkjAHZbBgUA7UcUd6MmBQAImyD0b0YFAYpHIvVjZgUC+SMAdluGBQB60wJ3T6YFAc9fF/RDygUACJsg9G/mBQGKRyL1YAYJAvkjAHZYJgkAetMCd0xGCQHPXxf0QGoJAAibIPRshgkCGwr89bSmCQB60wJ3TMYJAyp/HXfI4gkBikci9WEGCQNzlxJ2qSYJAc9fF/RBSgkAgw8y9L1mCQL5IwB2WYYJAO1HFHehpgkACJsg9G3GCQGKRyL1YeYJAvkjAHZaBgkAetMCd04mCQHPXxf0QkoJAAibIPRuZgkBikci9WKGCQL5IwB2WqYJAHrTAndOxgkBz18X9ELqCQAImyD0bwYJAIMPMvS/JgkBikci9WNGCQIbCvz1t2YJAvkjAHZbhgkDc5cSdqumCQB60wJ3T8YJAO1HFHej5gkBz18X9EAKDQOg8zN0GCYNAAibIPRsRg0Bikci9WBmDQL5IwB2WIYNAHrTAndMpg0Bz18X9EDKDQAImyD0bOYNAYpHIvVhBg0C+SMAdlkmDQB60wJ3TUYNAc9fF/RBag0ACJsg9G2GDQGKRyL1YaYNAvkjAHZZxg0AetMCd03mDQHPXxf0QgoNAAibIPRuJg0Bikci9WJGDQL5IwB2WmYNAHrTAndOhg0Bz18X9EKqDQAImyD0bsYNAIMPMvS+5g0Bikci9WMGDQIbCvz1tyYNAvkjAHZbRg0Dc5cSdqtmDQB60wJ3T4YNAO1HFHejpg0Bz18X9EPKDQOg8zN0G+YNAAibIPRsBhEAgw8y9LwmEQGKRyL1YEYRAhsK/PW0ZhEC+SMAdliGEQNzlxJ2qKYRAHrTAndMxhEA7UcUd6DmEQHPXxf0QQoRA6DzM3QZJhEACJsg9G1GEQCDDzL0vWYRA",
          "dtype": "f8"
         },
         "y": {
          "bdata": "2cIWr2DjR0A4Tigu6mlKQONxcF4YkExAptYVgkzWTkA1qUXHW7RQQB7SCPOUw1FAKi3acY79UkDgZEHvMf1TQGB718eA4FRAqzjPUHTeVUADiSpNHKBWQHxgb5/yU1dA1phOx2bZV0CmMQNWYElYQApVXYvSpFhAg8PM+pvJWEBcNTP9Jt1YQAAAAAAAAFlAOYgulUPJWEDQHmSYTZFYQKdk/T5RN1hAnrfLSIkPWEC6o5WdsqJXQOQa6ulBOldACBZoQMirVkAg2Ts8rwBWQFoxhUfCX1VAuT6AajL+VED7UITu7RVUQNYgKfy/sVNAdWP9s0roUkAWrO5yWD5SQFUb6zxtplFAaDtXH1TbUEC294XrwSlQQO84iNtzPk9AX/jn1vvhTUCIezZGCM5MQD/PoOT2K0tAQAAGTEg1SkC4/OnIU2BJQKoIrLKfekhA0JfTdy9pR0BIh+KKYW1GQDrWZ1ZWf0VAb8TMX4ykREDp1KK2Z+hDQHheMuRGNENAfPs4dBZvQkBunqwvP55BQK8oOLL3R0FA2cxL53SmQEChkOgUfx9AQD5jkx6oOT9AsfZ8x8FRPkAsB3CqNkk9QKcNbvhIbTxAeSp+gfN1O0BMyzQDcMs6QDYvApaa5zlAfuwM+dXnOEAv0cgVVT84QG/FWJWxYTdA7AZVBm6cNkCDUW5Egf41QLzWbo5HUDVAyxJ0qzC4NEDqCTN0UekzQDlgMsFJCTNA9KlwJ6BVMkCICZJKGMQxQB911C11DTFAbD4cz8RxMECuW5Z32asvQGgs6uwnnC5A3vAqchWELUBJQCsniFgsQHy4moBqXCtA+hDn3rlVKkBq5gSRD+IoQKf30N1CSihAz7OiqWEgJ0D6CA6RtSsmQI+cgAMLASVAHUAXHUMPJEB+HxM6y0MjQFQ7GC3dkiJAlpNe5jfTIUDI9LT7jPQgQDMEnGeu7B9AqEdM5QKoHkBVb7t4EHgdQIepec6d9RtAUw2vubXkGkAi3r+nnsoZQJWRCA6dgxhA4RN8pexZF0DIJ8sX7mkWQGpMRDPILBVAtiKSQutFFEAJV9ggOD0TQAqk27XBbxJALKK7iOW8EUCNa09AE/UQQAHC2PRfOhBASw1j4KkgD0BI0ky/T4UNQOkfLyJOfwxAh7usjXJ5C0BUpK4bJjsKQFIiTz/C/whAX+Nwq67YB0BpmQktt1wGQGzxPpUesAVAIyYKUKfnBEB3PNyzc4kEQFGsJFDkXwNA",
          "dtype": "f8"
         }
        },
        {
         "mode": "lines",
         "name": "0.8 μM",
         "type": "scatter",
         "x": {
          "bdata": "UL6Ut2a9gEDnr5UXzcWAQJSbnNfrzIBAMiGQN1LVgECvKZU3pN2AQHb+l1fX5IBA+pqPVyntgECSjJC3j/WAQD54l3eu/IBA1mmY1xQFgUBQvpS3Zg2BQOevlRfNFYFAlJuc1+scgUAyIZA3UiWBQK8plTekLYFAdv6XV9c0gUDWaZjXFD2BQDIhkDdSRYFAkoyQt49NgUDnr5UXzVWBQHb+l1fXXIFA1mmY1xRlgUAyIZA3Um2BQJKMkLePdYFA56+VF819gUB2/pdX14SBQPqaj1cpjYFAkoyQt4+VgUA+eJd3rpyBQNZpmNcUpYFAUL6Ut2atgUDnr5UXzbWBQJSbnNfrvIFAMiGQN1LFgUCvKZU3pM2BQHb+l1fX1IFA1mmY1xTdgUAyIZA3UuWBQJKMkLeP7YFA56+VF831gUB2/pdX1/yBQNZpmNcUBYJAMiGQN1INgkCSjJC3jxWCQOevlRfNHYJAdv6XV9ckgkD6mo9XKS2CQJKMkLePNYJAPniXd648gkDWaZjXFEWCQFC+lLdmTYJA56+VF81VgkCUm5zX61yCQDIhkDdSZYJArymVN6RtgkB2/pdX13SCQNZpmNcUfYJAMiGQN1KFgkCSjJC3j42CQOevlRfNlYJAdv6XV9ecgkDWaZjXFKWCQDIhkDdSrYJAkoyQt4+1gkDnr5UXzb2CQHb+l1fXxIJAlJuc1+vMgkDWaZjXFNWCQPqaj1cp3YJAMiGQN1LlgkBQvpS3Zu2CQJKMkLeP9YJArymVN6T9gkDnr5UXzQWDQFwVnPfCDINAdv6XV9cUg0DWaZjXFB2DQDIhkDdSJYNAkoyQt48tg0Dnr5UXzTWDQHb+l1fXPINA1mmY1xRFg0AyIZA3Uk2DQJKMkLePVYNA56+VF81dg0B2/pdX12SDQNZpmNcUbYNAMiGQN1J1g0CSjJC3j32DQOevlRfNhYNAdv6XV9eMg0DWaZjXFJWDQDIhkDdSnYNAkoyQt4+lg0Dnr5UXza2DQHb+l1fXtINAlJuc1+u8g0DWaZjXFMWDQPqaj1cpzYNAMiGQN1LVg0BQvpS3Zt2DQJKMkLeP5YNArymVN6Ttg0Dnr5UXzfWDQFwVnPfC/INAdv6XV9cEhECUm5zX6wyEQNZpmNcUFYRA+pqPVykdhEAyIZA3UiWEQFC+lLdmLYRAkoyQt481hECvKZU3pD2EQOevlRfNRYRAXBWc98JMhEB2/pdX11SEQJSbnNfrXIRA",
          "dtype": "f8"
         },
         "y": {
          "bdata": "uxR6IodaSEAUEZ2SZb1KQIzWanAf1UxAkG8lZ9MuT0CwUtFu6udQQEf7x7t+4VFAOxhu+sEtU0BTy7yvqxhUQAX1lNhWvVRAjyqK3TzKVUC+Bj60Q6FWQJxNvlvuUldATxZrEEGoV0Ds24rbfWJYQOgdQR42pVhA7G+rAlngWEAAAAAAAABZQDkpQ7786FhAq0k/iVq3WEA3/CZIxJNYQGsxN+5AclhAM49qsLD2V0AbwmQZ4JRXQOP42fX5MVdA0DgBj7mJVkDqqu2HCCBWQEWNnI/7fVVA2Cq+Cw2qVEA1UaV3BERUQBBh0op5hlNAp5oAYVUHU0CQz/hd8iVSQM5DpXevflFAEdqGzXPNUEBbxsp07TRQQEEATaqEL09A63oTI5DJTUDIXgB4Nl5MQKim7nONxEtASvm7/jxBSkDmmaUWHGRJQEee6luEWEhAdoS+bWVtR0AGUr7SXF1GQJfgU9gdg0VAf4q1cL+yREANCZ2TRc1DQILvTQwBDENA7CHzpGSAQkBSlzQuz81BQAZK53cbJEFAdpKL1fmOQEB0plfzSjBAQN46AAdLFT9ABAklLulSPkDwDOUEEwc9QOXVRKKUdDxAW4CirnSIO0A76nzB75I6QF6V/eA73jlAc4L5bYwGOUCTr1Sr0C04QJg88ep8ZzdAh8AMBve9NkBkGwpWyP01QEKZ9K85hjVA1JnBX9KuNEB+NuPLjRQ0QDPwLxvXKjNA8rzZJheBMkDURGyhW9AxQFNPIi1rPTFAklNSaQyJMEA4HhnCRAswQHedtm1ImC5AnFgQ3yI+LUBAEpyqh4EsQP8oXxE7LytAEaI2lLksKkCut6uD/TgpQJVbnloRRihAkRc5KpT/JkB9qmJXOV0mQH1Mz64kNiVAY1eGrtsrJEATPb9Ki2cjQCRVQLXleCJAQQ6wI66dIUBqwXeSMeIgQHaZUr5KPCBAhniUvigQH0AbcXLMBmkdQAfEVTEnKRxA5dzxVP27GkDWKa1LPIsZQOTXlc6bzxhAgZz8NNSXF0DlzZE2gpcWQF56MCAYZhVAIxugw/qgFECPpstKF2wTQAZaKqz0ohJASGyw+azHEUBXwEvlcuEQQGJdHK+VkBBAgqhHVSavD0CCg38n6cUNQJmghJPOxgxArbzAln8lC0BQkljkjEMKQIr4xqtS5whAOiOKit2hB0D3/gE9tOkGQK3wyAEAJAZAjf9v7P2XBUAPc5kDh1YEQATwdjKuZQNA",
          "dtype": "f8"
         }
        },
        {
         "mode": "lines",
         "name": "0.6 μM",
         "type": "scatter",
         "x": {
          "bdata": "rPuezHW8gEBD7Z8s3MSAQPDYpuz6y4BAjl6aTGHUgEALZ59Ms9yAQNI7omzm44BAVtiZbDjsgEDuyZrMnvSAQJq1oYy9+4BAMqei7CMEgUCs+57MdQyBQEPtnyzcFIFA8Nim7PobgUCOXppMYSSBQAtnn0yzLIFA0juibOYzgUAyp6LsIzyBQI5emkxhRIFA7smazJ5MgUBD7Z8s3FSBQNI7omzmW4FAMqei7CNkgUCOXppMYWyBQO7JmsyedIFAQ+2fLNx8gUDSO6Js5oOBQFbYmWw4jIFA7smazJ6UgUCataGMvZuBQDKnouwjpIFArPuezHWsgUBD7Z8s3LSBQPDYpuz6u4FAjl6aTGHEgUALZ59Ms8yBQNI7omzm04FAMqei7CPcgUCOXppMYeSBQO7Jmsye7IFAQ+2fLNz0gUDSO6Js5vuBQDKnouwjBIJAjl6aTGEMgkDuyZrMnhSCQEPtnyzcHIJA0juibOYjgkBW2JlsOCyCQO7JmsyeNIJAmrWhjL07gkAyp6LsI0SCQKz7nsx1TIJAQ+2fLNxUgkDw2Kbs+luCQI5emkxhZIJAC2efTLNsgkDSO6Js5nOCQDKnouwjfIJAjl6aTGGEgkDuyZrMnoyCQEPtnyzclIJA0juibOabgkAyp6LsI6SCQI5emkxhrIJA7smazJ60gkBD7Z8s3LyCQNI7omzmw4JA8Nim7PrLgkAyp6LsI9SCQFbYmWw43IJAjl6aTGHkgkCs+57MdeyCQO7Jmsye9IJAC2efTLP8gkBD7Z8s3ASDQLhSpgzSC4NA0juibOYTg0Ayp6LsIxyDQI5emkxhJINA7smazJ4sg0BD7Z8s3DSDQNI7omzmO4NAMqei7CNEg0COXppMYUyDQO7JmsyeVINAQ+2fLNxcg0DSO6Js5mODQDKnouwjbINAjl6aTGF0g0DuyZrMnnyDQEPtnyzchINA0juibOaLg0Ayp6LsI5SDQI5emkxhnINA7smazJ6kg0BD7Z8s3KyDQNI7omzms4NA8Nim7Pq7g0Ayp6LsI8SDQFbYmWw4zINAjl6aTGHUg0Cs+57MddyDQO7Jmsye5INAC2efTLPsg0BD7Z8s3PSDQLhSpgzS+4NA0juibOYDhEDw2Kbs+guEQDKnouwjFIRAVtiZbDgchECOXppMYSSEQKz7nsx1LIRA7smazJ40hEALZ59MszyEQEPtnyzcRIRAuFKmDNJLhEDSO6Js5lOEQPDYpuz6W4RA",
          "dtype": "f8"
         },
         "y": {
          "bdata": "SwZx+rTOSECIuo4zbLdKQM5i6rmHEU1AJglbaJ25T0BQRyIZ4jxRQNUnbjhdJlJAERmF3oRIU0Db5g6bpkhUQH4XjnAiQFVAe1KikN8VVkC+YVtUr9pWQMBnwIeaoFdAMhkbwR7xV0A3ATrwWmtYQBwDK/GLrFhABjfjcYvaWEAAAAAAAABZQLKA6NJD+VhA1cyRycHcWEAgaFI8vrVYQD7QVaLZOFhAGlAtns34V0BjayvDBI9XQKLp/QhWDFdAyRxQxAlpVkA+EBjgoSxWQE9qo3qrSFVAe7mu6j20VEDbG0GpAQ9UQLCYfOovjFNA3B4cuCPRUkAPfwX6nQ1SQDBGcZhJa1FA3KtbWNLQUEDhu0VTNDlQQFDNwcNO3U5AgNO4jXimTUD7cld/rlxMQFsYaN6YXktA2arlVkUeSkDOziDz5FpJQNhHHMynSUhAphieHFEYR0DZljHODktGQEuBolIANkVAF1wallusREAtn37kQQFEQDP/k4mZCENAuaW7Q8dUQkBLHV4TLb9BQPLMP48QHEFA286CDCmDQED9b9iazAhAQH0PRAhsWj9AUcYq8+sSPkDKjY4etgE9QM2QKIwvGjxAySavBckyO0A8NxmiATs6QAteJdw0vzlA67eAPDHsOEBgNCaC5AY4QGoP7EEgODdA3nAz35F1NkDvcop9VMQ1QAYvFCjzAjVARwBIumtVNEDeRRAakLwzQBIUNw6EHTNAAANQ3td7MkCutr6uinwxQFyhYCr3FTFAPM55DExOMEBQkmdPU5YvQE6JFQvxEi5ATkg5CYRRLUDqL7spuwAsQBmtf07tEytAGF0hwz2pKUDVfHHZwvAoQJLGyvCkIyhA5IXTQjWYJkCIA6ZGIeklQNbYhPMtDiVATGNJotTgI0AyFrb+hhcjQClj+Q7qPiJACbLszfKAIUAAu5zkZ68gQKvCNwlRTiBAHHy+jTv6HkBSI+sdBJcdQO7HgqimwBtAEKdrywrqGkD9rRxr2GwZQKdIo1ogJBhADGdVvrIPF0BYmWgT+uAVQEX48OA+QBVAkJtMqcflE0DBGrQV0ksTQGBRDgRvjRJAJ5qxcrizEUBjdV/tLbQQQPhC8ni8ORBAaC3WeLJ8DkCdJigmU1cNQBajZXkM/AtAp2TzEYObC0AKt95D0I0JQNMfRkznvghAmcsLQausB0BwBPBHJIQGQPd52uOWjQVAH+hNwQpQBUAraCR0NBIEQOdseHsnvgNA",
          "dtype": "f8"
         }
        },
        {
         "mode": "lines",
         "name": "0.4 μM",
         "type": "scatter",
         "x": {
          "bdata": "wC87twy+gEBXITwXc8aAQAQNQ9eRzYBAopI2N/jVgEAfmzs3St6AQOZvPld95YBAagw2V8/tgEAC/ja3NfaAQK7pPXdU/YBARts+17oFgUDALzu3DA6BQFchPBdzFoFABA1D15EdgUCikjY3+CWBQB+bOzdKLoFA5m8+V301gUBG2z7Xuj2BQKKSNjf4RYFAAv42tzVOgUBXITwXc1aBQOZvPld9XYFARts+17plgUCikjY3+G2BQAL+Nrc1doFAVyE8F3N+gUDmbz5XfYWBQGoMNlfPjYFAAv42tzWWgUCu6T13VJ2BQEbbPte6pYFAwC87twyugUBXITwXc7aBQAQNQ9eRvYFAopI2N/jFgUAfmzs3Ss6BQOZvPld91YFARts+17rdgUCikjY3+OWBQAL+Nrc17oFAVyE8F3P2gUDmbz5Xff2BQEbbPte6BYJAopI2N/gNgkAC/ja3NRaCQFchPBdzHoJA5m8+V30lgkBqDDZXzy2CQAL+Nrc1NoJAruk9d1Q9gkBG2z7XukWCQMAvO7cMToJAVyE8F3NWgkAEDUPXkV2CQKKSNjf4ZYJAH5s7N0pugkDmbz5XfXWCQEbbPte6fYJAopI2N/iFgkAC/ja3NY6CQFchPBdzloJA5m8+V32dgkBG2z7XuqWCQKKSNjf4rYJAAv42tzW2gkBXITwXc76CQOZvPld9xYJABA1D15HNgkBG2z7XutWCQGoMNlfP3YJAopI2N/jlgkDALzu3DO6CQAL+Nrc19oJAH5s7N0r+gkBXITwXcwaDQMyGQvdoDYNA5m8+V30Vg0BG2z7Xuh2DQKKSNjf4JYNAAv42tzUug0BXITwXczaDQOZvPld9PYNARts+17pFg0CikjY3+E2DQAL+Nrc1VoNAVyE8F3Neg0Dmbz5XfWWDQEbbPte6bYNAopI2N/h1g0AC/ja3NX6DQFchPBdzhoNA5m8+V32Ng0BG2z7XupWDQKKSNjf4nYNAAv42tzWmg0BXITwXc66DQOZvPld9tYNABA1D15G9g0BG2z7XusWDQGoMNlfPzYNAopI2N/jVg0DALzu3DN6DQAL+Nrc15oNAH5s7N0rug0BXITwXc/aDQMyGQvdo/YNA5m8+V30FhEAEDUPXkQ2EQEbbPte6FYRAagw2V88dhECikjY3+CWEQMAvO7cMLoRAAv42tzU2hEAfmzs3Sj6EQFchPBdzRoRAzIZC92hNhEDmbz5XfVWEQAQNQ9eRXYRA",
          "dtype": "f8"
         },
         "y": {
          "bdata": "VXL7KjFcSUAYhvFMEclLQNUkOPQLh01ASAqSN4X3T0CQsqDxHGdRQL3SoKzeTVJAHIkOxISUU0CVm1w51ctUQIAOAFuASVVAHEZq7M1PVkDCCBDuyftWQAD5n9tqv1dAhlD+N8MiWEDvds7BbKRYQEA18LyqplhAgA4lqin/WED///////9YQNsEaUWP91hA7lXfbFDjWED/3R6JPqhYQA0p/y8AP1hAQGWVXdPnV0BhUc+4dbxXQBgzSkF2/FZATnINx4B7VkBSrIFDfe9VQLx+QKlUIVVA/MT6sa2jVEAdTMt0ajtUQBEuDGgWWVNAh5MKqHbKUkCfCr64GQ5SQNu5LCbEfFFA0g4sLSvFUEA4gTP7fSFQQFE12nE2O09AUTDWKq2qTUCQySrwBYlMQHmOf5c7U0tAQcdsclI6SkDuiVPvZnNJQOB9QkovIkhAKx4afYF/R0AwOOV9mahGQAYqyH8nJkVAvDL04xaQRECXkFctg9ZDQBd93rztNkNAeTHJaSSCQkDkn+ypPItBQFpZRvbiFUFAHFsDU3edQEBoXMMYISZAQAiiIVgj7T5A11dCB3gsPkBWoHcqInY9QEncELcsQjxA2WDP6lBRO0B4sJm1hGA6QLUPVmhuVjlA2GP1LYuTOECua1iaNBE4QLWQl6BUVTdAoJ4l4ax1NkD3mTBCzOc1QC6E9+IYQzVA0FTNgVihNEDzg+KeEoszQLmdWn+T8DJAvHMhDXIrMkCXNvbP95oxQPIBWGU/+jBAdVCkc9imMEAVcHqMIFovQNLz64cieS5ATxAXla1xLUDB/aAXbjQsQFyYkOSoJStAWE3/8eYdKkASBo+1MP0oQNU0AJTEKChAbkZFYksoJ0BovEOANgomQHfTA2h/ACVAMvjJALJtJEAuTX4J/CojQCC5t851wSJANx2JA1G/IUC7QVsLAvUgQIhGq/uz7R9Aci6Ra9MmH0Ae+inQo/kdQFArLy0pVBxAPIoRZ5AOG0DfI4nKUi0ZQBgLx4ei5BhAicM08UrgF0BSQrDdEmwWQHVJ8F+ZURVAxYjFUUwzFEAt8OIjWMQSQI/1oQDPvBJAdN1JVpinEUDBxxsnjdcQQJ7mFnvmARBAJfZuflrUDkA2JPYxaT0OQJMUx3wnEQ1ACe4Ch89IC0ASrOboq20JQMRq1NNxEAlAAPxCQ+1TCEBQ3xdaQjUIQAVrfB5zyAVA1J4XnueVBUB1DNcYp34EQKWLlv6VjANA",
          "dtype": "f8"
         }
        },
        {
         "mode": "lines",
         "name": "0.2 μM",
         "type": "scatter",
         "x": {
          "bdata": "ZQkyp1bAgED8+jIHvciAQKnmOcfbz4BAR2wtJ0LYgEDEdDInlOCAQItJNUfH54BAD+YsRxnwgECn1y2nf/iAQFPDNGee/4BA67Q1xwQIgUBlCTKnVhCBQPz6Mge9GIFAqeY5x9sfgUBHbC0nQiiBQMR0MieUMIFAi0k1R8c3gUDrtDXHBECBQEdsLSdCSIFAp9ctp39QgUD8+jIHvViBQItJNUfHX4FA67Q1xwRogUBHbC0nQnCBQKfXLad/eIFA/PoyB72AgUCLSTVHx4eBQA/mLEcZkIFAp9ctp3+YgUBTwzRnnp+BQOu0NccEqIFAZQkyp1awgUD8+jIHvbiBQKnmOcfbv4FAR2wtJ0LIgUDEdDInlNCBQItJNUfH14FA67Q1xwTggUBHbC0nQuiBQKfXLad/8IFA/PoyB734gUCLSTVHx/+BQOu0NccECIJAR2wtJ0IQgkCn1y2nfxiCQPz6Mge9IIJAi0k1R8cngkAP5ixHGTCCQKfXLad/OIJAU8M0Z54/gkDrtDXHBEiCQGUJMqdWUIJA/PoyB71YgkCp5jnH21+CQEdsLSdCaIJAxHQyJ5RwgkCLSTVHx3eCQOu0NccEgIJAR2wtJ0KIgkCn1y2nf5CCQPz6Mge9mIJAi0k1R8efgkDrtDXHBKiCQEdsLSdCsIJAp9ctp3+4gkD8+jIHvcCCQItJNUfHx4JAqeY5x9vPgkDrtDXHBNiCQA/mLEcZ4IJAR2wtJ0LogkBlCTKnVvCCQKfXLad/+IJAxHQyJ5QAg0D8+jIHvQiDQHFgOeeyD4NAi0k1R8cXg0DrtDXHBCCDQEdsLSdCKINAp9ctp38wg0D8+jIHvTiDQItJNUfHP4NA67Q1xwRIg0BHbC0nQlCDQKfXLad/WINA/PoyB71gg0CLSTVHx2eDQOu0NccEcINAR2wtJ0J4g0Cn1y2nf4CDQPz6Mge9iINAi0k1R8ePg0DrtDXHBJiDQEdsLSdCoINAp9ctp3+og0D8+jIHvbCDQItJNUfHt4NAqeY5x9u/g0DrtDXHBMiDQA/mLEcZ0INAR2wtJ0LYg0BlCTKnVuCDQKfXLad/6INAxHQyJ5Twg0D8+jIHvfiDQHFgOeey/4NAi0k1R8cHhECp5jnH2w+EQOu0NccEGIRAD+YsRxkghEBHbC0nQiiEQGUJMqdWMIRAp9ctp384hEDEdDInlECEQPz6Mge9SIRAcWA557JPhECLSTVHx1eEQKnmOcfbX4RA",
          "dtype": "f8"
         },
         "y": {
          "bdata": "00MhrV9bSUAKVPRH69tLQJ9xJAI0vU1AlqK61NYvUEAlO+9X32RRQMFWcWQTVVJAhYziaKeqU0DyidT00JxUQLmMDHh9glVAtoygt+1KVkBIGZa9aaRWQEMcoVzU8VdAzf9JAEU+WEAvbVjL+JJYQIX2tS619VhAW5MPLGzuWEA33iIEttNYQAAAAAAAAFlAQSosWozTWEBvZ9OD9YhYQOSsVlxaPVhAz7GivcEBWEB4Dmuuc25XQCjqj36U5FZAuiDFvjtoVkD+aUHFNNhVQChPElvwX1VAqiM0O8CGVECowBjUq/FTQGcoILx9FFNAHweKr2yLUkAJAZE9behRQMG9ENJZQlFA7Ni1HOiIUEBuUGmPGMhPQKj4oWvyHU9Ar/bKM6rbTUDW4/oRb6RMQDGQNfiqqEtANUifRpFtSkAV+knb8A1JQMTXU4saIEhA9/S9lFCNR0Ck8nG/9k5GQAYMnSiSb0VAnMU4eAyoREDTLYIfApJDQMpuwQ117kJAbyMCPZyAQkDMuumjGeVBQHRUSLxkF0FAuWO7qX1eQEAgI3t6T1FAQPWhdElCQT9ABf9tLKkuPkB91rDVq289QJSrle7GEzxAOlYeLZoBPECjYUAi5MI6QEGw+/n05jlAmQcFV9IyOUCsSZ5Itks4QLKJXlQMbjdAMuFBOTjeNkC6MKM6MvE1QMiuH3gsIDVACydJ/2iDNECpbPwaIPAzQOrmtvkg6TJATwf5omeMMkC6toE1ee8xQI5I+FMZiDFA90EeTa9kMEBK+bqQ0pEvQLiJFW3CTi5AcoYTkZeWLUDsy1dMirgsQLlvlC+VPCtAP6vaxUolKkDVeaLIwP0oQJ9OrWsFIyhAy63J9YL1JkDvH12xeXwmQDjLi1c+1yRAvV7Z3e7EJEAzSE+ZGb8jQBKcZfM3WyJADLx2qRWsIUCNMC9VPxAhQGfZz8tcrB9AZEny0wFJHkCTd+LAdyMeQNEv+gjPvR1ALkCVrYQuG0Cu7l9Bu5YaQAz8N1pJ9BdAPf174qhwF0C0t82WyS8WQGS3Zvj56hVABgWeymSSFECFd3UpxZEUQGpnxWtPcBNAHL/Blf7mEkBOJLAJdjYRQGLw5wan/RBAIg5fZ9IREUAAdugMuI4NQA9P4+900wxATSfWSktNDECv3sdR49ENQC0ubf/tMQxAIRmBDkJKB0Cj4K+mL/wGQI1P/dqeTwdAJj/+YNeOBkBuVzM3UnoFQIZo5FRzkARA",
          "dtype": "f8"
         }
        },
        {
         "mode": "lines",
         "name": "0.1 μM",
         "type": "scatter",
         "x": {
          "bdata": "lcYYqw7BgEAsuBkLdcmAQNmjIMuT0IBAdykUK/rYgED0MRkrTOGAQLsGHEt/6IBAP6MTS9HwgEDXlBSrN/mAQIOAG2tWAIFAG3Icy7wIgUCVxhirDhGBQCy4GQt1GYFA2aMgy5MggUB3KRQr+iiBQPQxGStMMYFAuwYcS384gUAbchzLvECBQHcpFCv6SIFA15QUqzdRgUAsuBkLdVmBQLsGHEt/YIFAG3Icy7xogUB3KRQr+nCBQNeUFKs3eYFALLgZC3WBgUC7BhxLf4iBQD+jE0vRkIFA15QUqzeZgUCDgBtrVqCBQBtyHMu8qIFAlcYYqw6xgUAsuBkLdbmBQNmjIMuTwIFAdykUK/rIgUD0MRkrTNGBQLsGHEt/2IFAG3Icy7zggUB3KRQr+uiBQNeUFKs38YFALLgZC3X5gUC7BhxLfwCCQBtyHMu8CIJAdykUK/oQgkDXlBSrNxmCQCy4GQt1IYJAuwYcS38ogkA/oxNL0TCCQNeUFKs3OYJAg4Aba1ZAgkAbchzLvEiCQJXGGKsOUYJALLgZC3VZgkDZoyDLk2CCQHcpFCv6aIJA9DEZK0xxgkC7BhxLf3iCQBtyHMu8gIJAdykUK/qIgkDXlBSrN5GCQCy4GQt1mYJAuwYcS3+ggkAbchzLvKiCQHcpFCv6sIJA15QUqze5gkAsuBkLdcGCQLsGHEt/yIJA2aMgy5PQgkAbchzLvNiCQD+jE0vR4IJAdykUK/rogkCVxhirDvGCQNeUFKs3+YJA9DEZK0wBg0AsuBkLdQmDQKEdIOtqEINAuwYcS38Yg0AbchzLvCCDQHcpFCv6KINA15QUqzcxg0AsuBkLdTmDQLsGHEt/QINAG3Icy7xIg0B3KRQr+lCDQNeUFKs3WYNALLgZC3Vhg0C7BhxLf2iDQBtyHMu8cINAdykUK/p4g0DXlBSrN4GDQCy4GQt1iYNAuwYcS3+Qg0AbchzLvJiDQHcpFCv6oINA15QUqzepg0AsuBkLdbGDQLsGHEt/uINA2aMgy5PAg0AbchzLvMiDQD+jE0vR0INAdykUK/rYg0CVxhirDuGDQNeUFKs36YNA9DEZK0zxg0AsuBkLdfmDQKEdIOtqAIRAuwYcS38IhEDZoyDLkxCEQBtyHMu8GIRAP6MTS9EghEB3KRQr+iiEQJXGGKsOMYRA15QUqzc5hED0MRkrTEGEQCy4GQt1SYRAoR0g62pQhEC7BhxLf1iEQNmjIMuTYIRA",
          "dtype": "f8"
         },
         "y": {
          "bdata": "vFieWnjNSUAMkw8GM+FLQC+gNcgCAU5AszWddTlDUEBWcugN16xRQMpsZH4uclJAvD5EtaJwU0BUC0zf95BUQO46QDdJU1VAPjG4bj0sVkAMTZ75/+BWQEcWJfdxQldAIKBj8bL7V0BHzv1EQKRYQNTXV5WayFhAftrp/Zi8WEAAAAAAAABZQP0xxDKzwFhAXSLRGOV4WECF0vtNz1JYQBajHcJpVVhA/hnVbbaIV0An1hjpfUJXQPhDAxa1slZA1/Cpp887VkB3XkM/xbBVQFy47K6L91RAe8XFxbOBVED8BogeVcxTQFkGYgM16VJAfVZYsRd0UkCvQHDZ6JpRQFL8y60RN1FAue3SN88tUEBbnobgR3tPQCcJogLWL05AR8kMLetbTUDzWSweIZ9MQNnEqP9X60pAsRRgNFnYSUC0q82HKdRIQDVSQ1Vkd0dAKIl2vRkJR0ARR1JOmuRFQFoSyeLhlERASve0gmJuREBdInlNuSRDQBj8ARaWy0JAGNIESdHZQUDInjP9t5ZBQKjJ3Mcy+UBApKtandVIQEBOr41xLts/QAXnYSntoj5AsGklvN2iPUCqFaVsn0Q9QF+LYM9KFTxARolLYbX2OkCx/RzqqvI5QB8jTPaR+TlAC9s+j5NlOEAmPnDuxbc3QMAPAjBjkDdAP3vXD5ZJNkA4RphyX3M1QDSBh9G1zjRAjhNCKFh6NEBb1lm6uKAzQIAknrDAGzNA3FcDsO5aMkBuxsvR1MMxQOqKr+bW4DBAnYeDbTWJMEBug64pilgwQJexFC02Wy9An0kWrpGgLUBzK4kZyI8rQMZshUfvEipAi+zwJozWKUCf1Ux9xvsoQPZspXGJ5SdAiawfqN/OJkBBD2RPMjsmQDajt1NWrCVA8uEID/93JEAYMk+KpcUjQF8Pip0pByNAx1pNIaKrIUBGHEzr8jchQM5D08gRQiBAlnzTxD9fH0AjX3CF50UcQN64xbcUEB1AuMeOmXhfHECreAtJAssZQFGZArqsWBlAJZXd1I+WGEC6xXhRHycWQIrQvw3enBVA7vmL3OCEFEBPXDff3/YTQJDr6/LpZRNA4EEtDA6sEUBrMvG7hoYTQFnUrZSIgRFAOxUTrn5cEECnPPyFUZEPQFKl/675nA5AxQMsoLMZEUA3f+ig+3MMQDPGjUTWGwlAPCjFQ72dB0CVO2szzqwIQCNNizjRlQpAZoaNtj53B0DlVtOAL8EJQBLr5oZXAgVA",
          "dtype": "f8"
         }
        }
       ],
       "layout": {
        "font": {
         "size": 14
        },
        "height": 600,
        "legend": {
         "x": 0.8,
         "y": 1
        },
        "template": {
         "data": {
          "bar": [
           {
            "error_x": {
             "color": "#2a3f5f"
            },
            "error_y": {
             "color": "#2a3f5f"
            },
            "marker": {
             "line": {
              "color": "#E5ECF6",
              "width": 0.5
             },
             "pattern": {
              "fillmode": "overlay",
              "size": 10,
              "solidity": 0.2
             }
            },
            "type": "bar"
           }
          ],
          "barpolar": [
           {
            "marker": {
             "line": {
              "color": "#E5ECF6",
              "width": 0.5
             },
             "pattern": {
              "fillmode": "overlay",
              "size": 10,
              "solidity": 0.2
             }
            },
            "type": "barpolar"
           }
          ],
          "carpet": [
           {
            "aaxis": {
             "endlinecolor": "#2a3f5f",
             "gridcolor": "white",
             "linecolor": "white",
             "minorgridcolor": "white",
             "startlinecolor": "#2a3f5f"
            },
            "baxis": {
             "endlinecolor": "#2a3f5f",
             "gridcolor": "white",
             "linecolor": "white",
             "minorgridcolor": "white",
             "startlinecolor": "#2a3f5f"
            },
            "type": "carpet"
           }
          ],
          "choropleth": [
           {
            "colorbar": {
             "outlinewidth": 0,
             "ticks": ""
            },
            "type": "choropleth"
           }
          ],
          "contour": [
           {
            "colorbar": {
             "outlinewidth": 0,
             "ticks": ""
            },
            "colorscale": [
             [
              0,
              "#0d0887"
             ],
             [
              0.1111111111111111,
              "#46039f"
             ],
             [
              0.2222222222222222,
              "#7201a8"
             ],
             [
              0.3333333333333333,
              "#9c179e"
             ],
             [
              0.4444444444444444,
              "#bd3786"
             ],
             [
              0.5555555555555556,
              "#d8576b"
             ],
             [
              0.6666666666666666,
              "#ed7953"
             ],
             [
              0.7777777777777778,
              "#fb9f3a"
             ],
             [
              0.8888888888888888,
              "#fdca26"
             ],
             [
              1,
              "#f0f921"
             ]
            ],
            "type": "contour"
           }
          ],
          "contourcarpet": [
           {
            "colorbar": {
             "outlinewidth": 0,
             "ticks": ""
            },
            "type": "contourcarpet"
           }
          ],
          "heatmap": [
           {
            "colorbar": {
             "outlinewidth": 0,
             "ticks": ""
            },
            "colorscale": [
             [
              0,
              "#0d0887"
             ],
             [
              0.1111111111111111,
              "#46039f"
             ],
             [
              0.2222222222222222,
              "#7201a8"
             ],
             [
              0.3333333333333333,
              "#9c179e"
             ],
             [
              0.4444444444444444,
              "#bd3786"
             ],
             [
              0.5555555555555556,
              "#d8576b"
             ],
             [
              0.6666666666666666,
              "#ed7953"
             ],
             [
              0.7777777777777778,
              "#fb9f3a"
             ],
             [
              0.8888888888888888,
              "#fdca26"
             ],
             [
              1,
              "#f0f921"
             ]
            ],
            "type": "heatmap"
           }
          ],
          "histogram": [
           {
            "marker": {
             "pattern": {
              "fillmode": "overlay",
              "size": 10,
              "solidity": 0.2
             }
            },
            "type": "histogram"
           }
          ],
          "histogram2d": [
           {
            "colorbar": {
             "outlinewidth": 0,
             "ticks": ""
            },
            "colorscale": [
             [
              0,
              "#0d0887"
             ],
             [
              0.1111111111111111,
              "#46039f"
             ],
             [
              0.2222222222222222,
              "#7201a8"
             ],
             [
              0.3333333333333333,
              "#9c179e"
             ],
             [
              0.4444444444444444,
              "#bd3786"
             ],
             [
              0.5555555555555556,
              "#d8576b"
             ],
             [
              0.6666666666666666,
              "#ed7953"
             ],
             [
              0.7777777777777778,
              "#fb9f3a"
             ],
             [
              0.8888888888888888,
              "#fdca26"
             ],
             [
              1,
              "#f0f921"
             ]
            ],
            "type": "histogram2d"
           }
          ],
          "histogram2dcontour": [
           {
            "colorbar": {
             "outlinewidth": 0,
             "ticks": ""
            },
            "colorscale": [
             [
              0,
              "#0d0887"
             ],
             [
              0.1111111111111111,
              "#46039f"
             ],
             [
              0.2222222222222222,
              "#7201a8"
             ],
             [
              0.3333333333333333,
              "#9c179e"
             ],
             [
              0.4444444444444444,
              "#bd3786"
             ],
             [
              0.5555555555555556,
              "#d8576b"
             ],
             [
              0.6666666666666666,
              "#ed7953"
             ],
             [
              0.7777777777777778,
              "#fb9f3a"
             ],
             [
              0.8888888888888888,
              "#fdca26"
             ],
             [
              1,
              "#f0f921"
             ]
            ],
            "type": "histogram2dcontour"
           }
          ],
          "mesh3d": [
           {
            "colorbar": {
             "outlinewidth": 0,
             "ticks": ""
            },
            "type": "mesh3d"
           }
          ],
          "parcoords": [
           {
            "line": {
             "colorbar": {
              "outlinewidth": 0,
              "ticks": ""
             }
            },
            "type": "parcoords"
           }
          ],
          "pie": [
           {
            "automargin": true,
            "type": "pie"
           }
          ],
          "scatter": [
           {
            "fillpattern": {
             "fillmode": "overlay",
             "size": 10,
             "solidity": 0.2
            },
            "type": "scatter"
           }
          ],
          "scatter3d": [
           {
            "line": {
             "colorbar": {
              "outlinewidth": 0,
              "ticks": ""
             }
            },
            "marker": {
             "colorbar": {
              "outlinewidth": 0,
              "ticks": ""
             }
            },
            "type": "scatter3d"
           }
          ],
          "scattercarpet": [
           {
            "marker": {
             "colorbar": {
              "outlinewidth": 0,
              "ticks": ""
             }
            },
            "type": "scattercarpet"
           }
          ],
          "scattergeo": [
           {
            "marker": {
             "colorbar": {
              "outlinewidth": 0,
              "ticks": ""
             }
            },
            "type": "scattergeo"
           }
          ],
          "scattergl": [
           {
            "marker": {
             "colorbar": {
              "outlinewidth": 0,
              "ticks": ""
             }
            },
            "type": "scattergl"
           }
          ],
          "scattermap": [
           {
            "marker": {
             "colorbar": {
              "outlinewidth": 0,
              "ticks": ""
             }
            },
            "type": "scattermap"
           }
          ],
          "scattermapbox": [
           {
            "marker": {
             "colorbar": {
              "outlinewidth": 0,
              "ticks": ""
             }
            },
            "type": "scattermapbox"
           }
          ],
          "scatterpolar": [
           {
            "marker": {
             "colorbar": {
              "outlinewidth": 0,
              "ticks": ""
             }
            },
            "type": "scatterpolar"
           }
          ],
          "scatterpolargl": [
           {
            "marker": {
             "colorbar": {
              "outlinewidth": 0,
              "ticks": ""
             }
            },
            "type": "scatterpolargl"
           }
          ],
          "scatterternary": [
           {
            "marker": {
             "colorbar": {
              "outlinewidth": 0,
              "ticks": ""
             }
            },
            "type": "scatterternary"
           }
          ],
          "surface": [
           {
            "colorbar": {
             "outlinewidth": 0,
             "ticks": ""
            },
            "colorscale": [
             [
              0,
              "#0d0887"
             ],
             [
              0.1111111111111111,
              "#46039f"
             ],
             [
              0.2222222222222222,
              "#7201a8"
             ],
             [
              0.3333333333333333,
              "#9c179e"
             ],
             [
              0.4444444444444444,
              "#bd3786"
             ],
             [
              0.5555555555555556,
              "#d8576b"
             ],
             [
              0.6666666666666666,
              "#ed7953"
             ],
             [
              0.7777777777777778,
              "#fb9f3a"
             ],
             [
              0.8888888888888888,
              "#fdca26"
             ],
             [
              1,
              "#f0f921"
             ]
            ],
            "type": "surface"
           }
          ],
          "table": [
           {
            "cells": {
             "fill": {
              "color": "#EBF0F8"
             },
             "line": {
              "color": "white"
             }
            },
            "header": {
             "fill": {
              "color": "#C8D4E3"
             },
             "line": {
              "color": "white"
             }
            },
            "type": "table"
           }
          ]
         },
         "layout": {
          "annotationdefaults": {
           "arrowcolor": "#2a3f5f",
           "arrowhead": 0,
           "arrowwidth": 1
          },
          "autotypenumbers": "strict",
          "coloraxis": {
           "colorbar": {
            "outlinewidth": 0,
            "ticks": ""
           }
          },
          "colorscale": {
           "diverging": [
            [
             0,
             "#8e0152"
            ],
            [
             0.1,
             "#c51b7d"
            ],
            [
             0.2,
             "#de77ae"
            ],
            [
             0.3,
             "#f1b6da"
            ],
            [
             0.4,
             "#fde0ef"
            ],
            [
             0.5,
             "#f7f7f7"
            ],
            [
             0.6,
             "#e6f5d0"
            ],
            [
             0.7,
             "#b8e186"
            ],
            [
             0.8,
             "#7fbc41"
            ],
            [
             0.9,
             "#4d9221"
            ],
            [
             1,
             "#276419"
            ]
           ],
           "sequential": [
            [
             0,
             "#0d0887"
            ],
            [
             0.1111111111111111,
             "#46039f"
            ],
            [
             0.2222222222222222,
             "#7201a8"
            ],
            [
             0.3333333333333333,
             "#9c179e"
            ],
            [
             0.4444444444444444,
             "#bd3786"
            ],
            [
             0.5555555555555556,
             "#d8576b"
            ],
            [
             0.6666666666666666,
             "#ed7953"
            ],
            [
             0.7777777777777778,
             "#fb9f3a"
            ],
            [
             0.8888888888888888,
             "#fdca26"
            ],
            [
             1,
             "#f0f921"
            ]
           ],
           "sequentialminus": [
            [
             0,
             "#0d0887"
            ],
            [
             0.1111111111111111,
             "#46039f"
            ],
            [
             0.2222222222222222,
             "#7201a8"
            ],
            [
             0.3333333333333333,
             "#9c179e"
            ],
            [
             0.4444444444444444,
             "#bd3786"
            ],
            [
             0.5555555555555556,
             "#d8576b"
            ],
            [
             0.6666666666666666,
             "#ed7953"
            ],
            [
             0.7777777777777778,
             "#fb9f3a"
            ],
            [
             0.8888888888888888,
             "#fdca26"
            ],
            [
             1,
             "#f0f921"
            ]
           ]
          },
          "colorway": [
           "#636efa",
           "#EF553B",
           "#00cc96",
           "#ab63fa",
           "#FFA15A",
           "#19d3f3",
           "#FF6692",
           "#B6E880",
           "#FF97FF",
           "#FECB52"
          ],
          "font": {
           "color": "#2a3f5f"
          },
          "geo": {
           "bgcolor": "white",
           "lakecolor": "white",
           "landcolor": "#E5ECF6",
           "showlakes": true,
           "showland": true,
           "subunitcolor": "white"
          },
          "hoverlabel": {
           "align": "left"
          },
          "hovermode": "closest",
          "mapbox": {
           "style": "light"
          },
          "paper_bgcolor": "white",
          "plot_bgcolor": "#E5ECF6",
          "polar": {
           "angularaxis": {
            "gridcolor": "white",
            "linecolor": "white",
            "ticks": ""
           },
           "bgcolor": "#E5ECF6",
           "radialaxis": {
            "gridcolor": "white",
            "linecolor": "white",
            "ticks": ""
           }
          },
          "scene": {
           "xaxis": {
            "backgroundcolor": "#E5ECF6",
            "gridcolor": "white",
            "gridwidth": 2,
            "linecolor": "white",
            "showbackground": true,
            "ticks": "",
            "zerolinecolor": "white"
           },
           "yaxis": {
            "backgroundcolor": "#E5ECF6",
            "gridcolor": "white",
            "gridwidth": 2,
            "linecolor": "white",
            "showbackground": true,
            "ticks": "",
            "zerolinecolor": "white"
           },
           "zaxis": {
            "backgroundcolor": "#E5ECF6",
            "gridcolor": "white",
            "gridwidth": 2,
            "linecolor": "white",
            "showbackground": true,
            "ticks": "",
            "zerolinecolor": "white"
           }
          },
          "shapedefaults": {
           "line": {
            "color": "#2a3f5f"
           }
          },
          "ternary": {
           "aaxis": {
            "gridcolor": "white",
            "linecolor": "white",
            "ticks": ""
           },
           "baxis": {
            "gridcolor": "white",
            "linecolor": "white",
            "ticks": ""
           },
           "bgcolor": "#E5ECF6",
           "caxis": {
            "gridcolor": "white",
            "linecolor": "white",
            "ticks": ""
           }
          },
          "title": {
           "x": 0.05
          },
          "xaxis": {
           "automargin": true,
           "gridcolor": "white",
           "linecolor": "white",
           "ticks": "",
           "title": {
            "standoff": 15
           },
           "zerolinecolor": "white",
           "zerolinewidth": 2
          },
          "yaxis": {
           "automargin": true,
           "gridcolor": "white",
           "linecolor": "white",
           "ticks": "",
           "title": {
            "standoff": 15
           },
           "zerolinecolor": "white",
           "zerolinewidth": 2
          }
         }
        },
        "width": 800,
        "xaxis": {
         "title": {
          "text": "Wavelength (nm)"
         }
        },
        "yaxis": {
         "range": [
          0,
          100
         ],
         "title": {
          "text": "Intensity (%)"
         }
        }
       }
      }
     },
     "metadata": {},
     "output_type": "display_data"
    },
    {
     "data": {
      "text/plain": [
       "<Figure size 1000x600 with 0 Axes>"
      ]
     },
     "metadata": {},
     "output_type": "display_data"
    }
   ],
   "source": [
    "# plotting normalized spectrum (kind of, in the sense that we are not normalizing the area under the curve, but the maximum value of the spectrum)\n",
    "\n",
    "delta = np.array(λcenter_list) - np.mean(λcenter_list)  # Calculate the average value of λcenter\n",
    "\n",
    "plt.figure(figsize=(10, 6))\n",
    "\n",
    "fig = go.Figure()\n",
    "\n",
    "for λ_col, I_col, c, d in zip(WAVELENGHTS, INTENSITIES,C,delta):\n",
    "    max = data[I_col].max()\n",
    "    centered_wavelengths = data[λ_col] - d  # Center the wavelengths around the average λcenter\n",
    "    fig.add_trace(go.Scatter(x=centered_wavelengths,y= data[I_col]*100/ max,\n",
    "                    mode='lines',\n",
    "                    name=f'{c} μM'))\n",
    "\n",
    "fig.update_layout(\n",
    "                  xaxis_title='Wavelength (nm)',\n",
    "                  yaxis_title='Intensity (%)',\n",
    "                  height=600,\n",
    "                  width=800,\n",
    "                  yaxis=dict(range=[0, 100]),\n",
    "                  legend=dict(x=0.8, y=1),\n",
    "                  font=dict(size=14))\n",
    "\n",
    "\n",
    "fig.show()"
   ]
  },
  {
   "cell_type": "code",
   "execution_count": 10,
   "metadata": {},
   "outputs": [],
   "source": [
    "# fit with the exponential 1-exp(-k*C)\n",
    "\n",
    "def F_C_fit(C,F0,k,y0):\n",
    "    return F0*(1-np.exp(-k*C)) + y0"
   ]
  },
  {
   "cell_type": "code",
   "execution_count": 11,
   "metadata": {},
   "outputs": [
    {
     "data": {
      "image/png": "[encoded data removed]",
      "text/plain": [
       "<Figure size 640x480 with 1 Axes>"
      ]
     },
     "metadata": {},
     "output_type": "display_data"
    }
   ],
   "source": [
    "start = 0\n",
    "I = np.array(IMAX_list)[start:]\n",
    "sigmaI = np.array(error_IMAX_list)[start:] # need to propagate error on lambda d(-ax^2)/dx = -2ax\n",
    "sigmaprop = 0 #2*a_list[start:]*center * np.sqrt((error_a_list[start:]/a_list[start:])**2 + (error_λcenter_list[start:]/λcenter_list[start:])**2)\n",
    "sigmaI = np.sqrt(sigmaI**2 + sigmaprop**2) # propagate error on Imax\n",
    "\n",
    "C = np.array(CONCENTRATIONS)[start:]\n",
    "\n",
    "# Fit the data to the model\n",
    "popt, pcov = curve_fit(F_C_fit, C, I, p0=[1899,0.14,-1.0])\n",
    "F0, k, y0 = popt\n",
    "error_F0, error_k, error_y0 = np.sqrt(np.diag(pcov))\n",
    "\n",
    "plt.plot(C,I,'o',label='data')\n",
    "plt.errorbar(C,I,yerr=sigmaI,fmt='o')\n",
    "\n",
    "c = np.linspace(np.min(C),np.max(C),1000)\n",
    "plt.plot(c,F_C_fit(c,*popt),label='fit')\n",
    "# plt.xscale('log')\n",
    "# plt.yscale('log')\n",
    "plt.xlabel('Concentration (μM)')\n",
    "plt.ylabel('Intensity Fluorescence (a.u.)')\n",
    "plt.title('Intensity Fluorescence vs Concentration')\n",
    "plt.show()"
   ]
  },
  {
   "cell_type": "code",
   "execution_count": null,
   "metadata": {},
   "outputs": [],
   "source": []
  }
 ],
 "metadata": {
  "kernelspec": {
   "display_name": "Python 3",
   "language": "python",
   "name": "python3"
  },
  "language_info": {
   "codemirror_mode": {
    "name": "ipython",
    "version": 3
   },
   "file_extension": ".py",
   "mimetype": "text/x-python",
   "name": "python",
   "nbconvert_exporter": "python",
   "pygments_lexer": "ipython3",
   "version": "3.13.0"
  }
 },
 "nbformat": 4,
 "nbformat_minor": 2
}
