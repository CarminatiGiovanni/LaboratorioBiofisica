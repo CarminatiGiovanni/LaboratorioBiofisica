{
 "cells": [
  {
   "cell_type": "markdown",
   "metadata": {},
   "source": [
    "OBIETTIVI:\n",
    "viene variata la concentrazione di rodamina. Si vuole mettere in relazione la concentrazione di rodamina con l'intensità di fluorescenza"
   ]
  },
  {
   "cell_type": "code",
   "execution_count": 1,
   "metadata": {},
   "outputs": [],
   "source": [
    "from matplotlib import pyplot as plt\n",
    "import numpy as np\n",
    "import pandas as pd\n",
    "import plotly.express as px\n",
    "import os\n",
    "import sys\n",
    "import plotly.graph_objects as go \n",
    "dir_path = os.path.abspath('')\n",
    "sys.path.append(dir_path + '/../')\n",
    "from labbiofisica import Interpolazione, final_val\n",
    "from scipy.optimize import curve_fit"
   ]
  },
  {
   "cell_type": "markdown",
   "metadata": {},
   "source": [
    "# CONCETRAZIONI"
   ]
  },
  {
   "cell_type": "code",
   "execution_count": 2,
   "metadata": {},
   "outputs": [],
   "source": [
    "λexc = 526 #nm\n",
    "SIGMA_LAMBDA = 1.5 #nm DICHIARATI DAL COSTRUTTORE\n",
    "\n",
    "# Extracting the relevant columns for plotting\n",
    "WAVELENGHTS = ['λ 5', 'λ 4', 'λ 3', 'λ 2', 'λ 1', 'λ 0.8', 'λ 0.6', 'λ 0.4', 'λ 0.2', 'λ 0.1']\n",
    "INTENSITIES = ['I 5', 'I 4', 'I 3', 'I 2', 'I 1', 'I 0.8', 'I 0.6', 'I 0.4', 'I 0.2', 'I 0.1']\n",
    "# CONCENTRATIONS=[5,4,3,2,1,0.8,0.6,0.4,0.2,0.1]\n",
    "\n",
    "# FUNZIone per estrarre i massimi con fit parabolico\n",
    "def max_fit_parabolic(x, λcenter, a, IMAX): # -a*(x-λcenter)**2 + IMAX\n",
    "    return -a*(x-λcenter)**2 + IMAX"
   ]
  },
  {
   "cell_type": "code",
   "execution_count": 20,
   "metadata": {},
   "outputs": [],
   "source": [
    "# real rodamina \n",
    "R6G_emission = pd.read_csv(r'.\\data\\Rhodamine 6G_emission.csv', sep=',')\n",
    "R6G_absorbance = pd.read_csv(r'.\\data\\Rhodamine 6G_absorbance.csv', sep=',')\n",
    "R6G_excitation = pd.read_csv(r'.\\data\\Rhodamine 6G_excitation.csv', sep=',')"
   ]
  },
  {
   "cell_type": "code",
   "execution_count": 21,
   "metadata": {},
   "outputs": [
    {
     "data": {
      "text/html": [
       "<div>\n",
       "<style scoped>\n",
       "    .dataframe tbody tr th:only-of-type {\n",
       "        vertical-align: middle;\n",
       "    }\n",
       "\n",
       "    .dataframe tbody tr th {\n",
       "        vertical-align: top;\n",
       "    }\n",
       "\n",
       "    .dataframe thead th {\n",
       "        text-align: right;\n",
       "    }\n",
       "</style>\n",
       "<table border=\"1\" class=\"dataframe\">\n",
       "  <thead>\n",
       "    <tr style=\"text-align: right;\">\n",
       "      <th></th>\n",
       "      <th>λ</th>\n",
       "      <th>A</th>\n",
       "    </tr>\n",
       "  </thead>\n",
       "  <tbody>\n",
       "    <tr>\n",
       "      <th>203</th>\n",
       "      <td>427.0</td>\n",
       "      <td>0.07855</td>\n",
       "    </tr>\n",
       "    <tr>\n",
       "      <th>204</th>\n",
       "      <td>426.0</td>\n",
       "      <td>0.07866</td>\n",
       "    </tr>\n",
       "    <tr>\n",
       "      <th>205</th>\n",
       "      <td>425.0</td>\n",
       "      <td>0.07920</td>\n",
       "    </tr>\n",
       "    <tr>\n",
       "      <th>206</th>\n",
       "      <td>424.0</td>\n",
       "      <td>0.07937</td>\n",
       "    </tr>\n",
       "    <tr>\n",
       "      <th>207</th>\n",
       "      <td>423.0</td>\n",
       "      <td>0.07842</td>\n",
       "    </tr>\n",
       "  </tbody>\n",
       "</table>\n",
       "</div>"
      ],
      "text/plain": [
       "         λ        A\n",
       "203  427.0  0.07855\n",
       "204  426.0  0.07866\n",
       "205  425.0  0.07920\n",
       "206  424.0  0.07937\n",
       "207  423.0  0.07842"
      ]
     },
     "execution_count": 21,
     "metadata": {},
     "output_type": "execute_result"
    }
   ],
   "source": [
    "# plt.plot(ass_rodamina['λ'],ass_rodamina['A'])\n",
    "\n",
    "# determinazione della concentrazione iniziale da spettro di assorbimento\n",
    "\n",
    "filename = './data/rodamina_ass_05_g1.TXT'\n",
    "\n",
    "ass_rodamina = pd.read_csv(filename,sep='\\t',header=None,skiprows=19,nrows=208)\n",
    "ass_rodamina.columns = ['λ','A']\n",
    "ass_rodamina.tail()"
   ]
  },
  {
   "cell_type": "code",
   "execution_count": 25,
   "metadata": {},
   "outputs": [
    {
     "data": {
      "application/vnd.plotly.v1+json": {
       "config": {
        "plotlyServerURL": "https://plot.ly"
       },
       "data": [
        {
         "mode": "lines",
         "name": "Absorbance Spectrum measured",
         "type": "scatter",
         "x": {
          "bdata": "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",
          "dtype": "f8"
         },
         "y": {
          "bdata": "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",
          "dtype": "f8"
         }
        },
        {
         "mode": "lines",
         "name": "Absorbance Theoric",
         "type": "scatter",
         "x": {
          "bdata": "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",
          "dtype": "f8"
         },
         "y": {
          "bdata": "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",
          "dtype": "f8"
         }
        }
       ],
       "layout": {
        "font": {
         "size": 14
        },
        "height": 600,
        "legend": {
         "x": 0.8,
         "y": 1
        },
        "template": {
         "data": {
          "bar": [
           {
            "error_x": {
             "color": "#2a3f5f"
            },
            "error_y": {
             "color": "#2a3f5f"
            },
            "marker": {
             "line": {
              "color": "#E5ECF6",
              "width": 0.5
             },
             "pattern": {
              "fillmode": "overlay",
              "size": 10,
              "solidity": 0.2
             }
            },
            "type": "bar"
           }
          ],
          "barpolar": [
           {
            "marker": {
             "line": {
              "color": "#E5ECF6",
              "width": 0.5
             },
             "pattern": {
              "fillmode": "overlay",
              "size": 10,
              "solidity": 0.2
             }
            },
            "type": "barpolar"
           }
          ],
          "carpet": [
           {
            "aaxis": {
             "endlinecolor": "#2a3f5f",
             "gridcolor": "white",
             "linecolor": "white",
             "minorgridcolor": "white",
             "startlinecolor": "#2a3f5f"
            },
            "baxis": {
             "endlinecolor": "#2a3f5f",
             "gridcolor": "white",
             "linecolor": "white",
             "minorgridcolor": "white",
             "startlinecolor": "#2a3f5f"
            },
            "type": "carpet"
           }
          ],
          "choropleth": [
           {
            "colorbar": {
             "outlinewidth": 0,
             "ticks": ""
            },
            "type": "choropleth"
           }
          ],
          "contour": [
           {
            "colorbar": {
             "outlinewidth": 0,
             "ticks": ""
            },
            "colorscale": [
             [
              0,
              "#0d0887"
             ],
             [
              0.1111111111111111,
              "#46039f"
             ],
             [
              0.2222222222222222,
              "#7201a8"
             ],
             [
              0.3333333333333333,
              "#9c179e"
             ],
             [
              0.4444444444444444,
              "#bd3786"
             ],
             [
              0.5555555555555556,
              "#d8576b"
             ],
             [
              0.6666666666666666,
              "#ed7953"
             ],
             [
              0.7777777777777778,
              "#fb9f3a"
             ],
             [
              0.8888888888888888,
              "#fdca26"
             ],
             [
              1,
              "#f0f921"
             ]
            ],
            "type": "contour"
           }
          ],
          "contourcarpet": [
           {
            "colorbar": {
             "outlinewidth": 0,
             "ticks": ""
            },
            "type": "contourcarpet"
           }
          ],
          "heatmap": [
           {
            "colorbar": {
             "outlinewidth": 0,
             "ticks": ""
            },
            "colorscale": [
             [
              0,
              "#0d0887"
             ],
             [
              0.1111111111111111,
              "#46039f"
             ],
             [
              0.2222222222222222,
              "#7201a8"
             ],
             [
              0.3333333333333333,
              "#9c179e"
             ],
             [
              0.4444444444444444,
              "#bd3786"
             ],
             [
              0.5555555555555556,
              "#d8576b"
             ],
             [
              0.6666666666666666,
              "#ed7953"
             ],
             [
              0.7777777777777778,
              "#fb9f3a"
             ],
             [
              0.8888888888888888,
              "#fdca26"
             ],
             [
              1,
              "#f0f921"
             ]
            ],
            "type": "heatmap"
           }
          ],
          "histogram": [
           {
            "marker": {
             "pattern": {
              "fillmode": "overlay",
              "size": 10,
              "solidity": 0.2
             }
            },
            "type": "histogram"
           }
          ],
          "histogram2d": [
           {
            "colorbar": {
             "outlinewidth": 0,
             "ticks": ""
            },
            "colorscale": [
             [
              0,
              "#0d0887"
             ],
             [
              0.1111111111111111,
              "#46039f"
             ],
             [
              0.2222222222222222,
              "#7201a8"
             ],
             [
              0.3333333333333333,
              "#9c179e"
             ],
             [
              0.4444444444444444,
              "#bd3786"
             ],
             [
              0.5555555555555556,
              "#d8576b"
             ],
             [
              0.6666666666666666,
              "#ed7953"
             ],
             [
              0.7777777777777778,
              "#fb9f3a"
             ],
             [
              0.8888888888888888,
              "#fdca26"
             ],
             [
              1,
              "#f0f921"
             ]
            ],
            "type": "histogram2d"
           }
          ],
          "histogram2dcontour": [
           {
            "colorbar": {
             "outlinewidth": 0,
             "ticks": ""
            },
            "colorscale": [
             [
              0,
              "#0d0887"
             ],
             [
              0.1111111111111111,
              "#46039f"
             ],
             [
              0.2222222222222222,
              "#7201a8"
             ],
             [
              0.3333333333333333,
              "#9c179e"
             ],
             [
              0.4444444444444444,
              "#bd3786"
             ],
             [
              0.5555555555555556,
              "#d8576b"
             ],
             [
              0.6666666666666666,
              "#ed7953"
             ],
             [
              0.7777777777777778,
              "#fb9f3a"
             ],
             [
              0.8888888888888888,
              "#fdca26"
             ],
             [
              1,
              "#f0f921"
             ]
            ],
            "type": "histogram2dcontour"
           }
          ],
          "mesh3d": [
           {
            "colorbar": {
             "outlinewidth": 0,
             "ticks": ""
            },
            "type": "mesh3d"
           }
          ],
          "parcoords": [
           {
            "line": {
             "colorbar": {
              "outlinewidth": 0,
              "ticks": ""
             }
            },
            "type": "parcoords"
           }
          ],
          "pie": [
           {
            "automargin": true,
            "type": "pie"
           }
          ],
          "scatter": [
           {
            "fillpattern": {
             "fillmode": "overlay",
             "size": 10,
             "solidity": 0.2
            },
            "type": "scatter"
           }
          ],
          "scatter3d": [
           {
            "line": {
             "colorbar": {
              "outlinewidth": 0,
              "ticks": ""
             }
            },
            "marker": {
             "colorbar": {
              "outlinewidth": 0,
              "ticks": ""
             }
            },
            "type": "scatter3d"
           }
          ],
          "scattercarpet": [
           {
            "marker": {
             "colorbar": {
              "outlinewidth": 0,
              "ticks": ""
             }
            },
            "type": "scattercarpet"
           }
          ],
          "scattergeo": [
           {
            "marker": {
             "colorbar": {
              "outlinewidth": 0,
              "ticks": ""
             }
            },
            "type": "scattergeo"
           }
          ],
          "scattergl": [
           {
            "marker": {
             "colorbar": {
              "outlinewidth": 0,
              "ticks": ""
             }
            },
            "type": "scattergl"
           }
          ],
          "scattermap": [
           {
            "marker": {
             "colorbar": {
              "outlinewidth": 0,
              "ticks": ""
             }
            },
            "type": "scattermap"
           }
          ],
          "scattermapbox": [
           {
            "marker": {
             "colorbar": {
              "outlinewidth": 0,
              "ticks": ""
             }
            },
            "type": "scattermapbox"
           }
          ],
          "scatterpolar": [
           {
            "marker": {
             "colorbar": {
              "outlinewidth": 0,
              "ticks": ""
             }
            },
            "type": "scatterpolar"
           }
          ],
          "scatterpolargl": [
           {
            "marker": {
             "colorbar": {
              "outlinewidth": 0,
              "ticks": ""
             }
            },
            "type": "scatterpolargl"
           }
          ],
          "scatterternary": [
           {
            "marker": {
             "colorbar": {
              "outlinewidth": 0,
              "ticks": ""
             }
            },
            "type": "scatterternary"
           }
          ],
          "surface": [
           {
            "colorbar": {
             "outlinewidth": 0,
             "ticks": ""
            },
            "colorscale": [
             [
              0,
              "#0d0887"
             ],
             [
              0.1111111111111111,
              "#46039f"
             ],
             [
              0.2222222222222222,
              "#7201a8"
             ],
             [
              0.3333333333333333,
              "#9c179e"
             ],
             [
              0.4444444444444444,
              "#bd3786"
             ],
             [
              0.5555555555555556,
              "#d8576b"
             ],
             [
              0.6666666666666666,
              "#ed7953"
             ],
             [
              0.7777777777777778,
              "#fb9f3a"
             ],
             [
              0.8888888888888888,
              "#fdca26"
             ],
             [
              1,
              "#f0f921"
             ]
            ],
            "type": "surface"
           }
          ],
          "table": [
           {
            "cells": {
             "fill": {
              "color": "#EBF0F8"
             },
             "line": {
              "color": "white"
             }
            },
            "header": {
             "fill": {
              "color": "#C8D4E3"
             },
             "line": {
              "color": "white"
             }
            },
            "type": "table"
           }
          ]
         },
         "layout": {
          "annotationdefaults": {
           "arrowcolor": "#2a3f5f",
           "arrowhead": 0,
           "arrowwidth": 1
          },
          "autotypenumbers": "strict",
          "coloraxis": {
           "colorbar": {
            "outlinewidth": 0,
            "ticks": ""
           }
          },
          "colorscale": {
           "diverging": [
            [
             0,
             "#8e0152"
            ],
            [
             0.1,
             "#c51b7d"
            ],
            [
             0.2,
             "#de77ae"
            ],
            [
             0.3,
             "#f1b6da"
            ],
            [
             0.4,
             "#fde0ef"
            ],
            [
             0.5,
             "#f7f7f7"
            ],
            [
             0.6,
             "#e6f5d0"
            ],
            [
             0.7,
             "#b8e186"
            ],
            [
             0.8,
             "#7fbc41"
            ],
            [
             0.9,
             "#4d9221"
            ],
            [
             1,
             "#276419"
            ]
           ],
           "sequential": [
            [
             0,
             "#0d0887"
            ],
            [
             0.1111111111111111,
             "#46039f"
            ],
            [
             0.2222222222222222,
             "#7201a8"
            ],
            [
             0.3333333333333333,
             "#9c179e"
            ],
            [
             0.4444444444444444,
             "#bd3786"
            ],
            [
             0.5555555555555556,
             "#d8576b"
            ],
            [
             0.6666666666666666,
             "#ed7953"
            ],
            [
             0.7777777777777778,
             "#fb9f3a"
            ],
            [
             0.8888888888888888,
             "#fdca26"
            ],
            [
             1,
             "#f0f921"
            ]
           ],
           "sequentialminus": [
            [
             0,
             "#0d0887"
            ],
            [
             0.1111111111111111,
             "#46039f"
            ],
            [
             0.2222222222222222,
             "#7201a8"
            ],
            [
             0.3333333333333333,
             "#9c179e"
            ],
            [
             0.4444444444444444,
             "#bd3786"
            ],
            [
             0.5555555555555556,
             "#d8576b"
            ],
            [
             0.6666666666666666,
             "#ed7953"
            ],
            [
             0.7777777777777778,
             "#fb9f3a"
            ],
            [
             0.8888888888888888,
             "#fdca26"
            ],
            [
             1,
             "#f0f921"
            ]
           ]
          },
          "colorway": [
           "#636efa",
           "#EF553B",
           "#00cc96",
           "#ab63fa",
           "#FFA15A",
           "#19d3f3",
           "#FF6692",
           "#B6E880",
           "#FF97FF",
           "#FECB52"
          ],
          "font": {
           "color": "#2a3f5f"
          },
          "geo": {
           "bgcolor": "white",
           "lakecolor": "white",
           "landcolor": "#E5ECF6",
           "showlakes": true,
           "showland": true,
           "subunitcolor": "white"
          },
          "hoverlabel": {
           "align": "left"
          },
          "hovermode": "closest",
          "mapbox": {
           "style": "light"
          },
          "paper_bgcolor": "white",
          "plot_bgcolor": "#E5ECF6",
          "polar": {
           "angularaxis": {
            "gridcolor": "white",
            "linecolor": "white",
            "ticks": ""
           },
           "bgcolor": "#E5ECF6",
           "radialaxis": {
            "gridcolor": "white",
            "linecolor": "white",
            "ticks": ""
           }
          },
          "scene": {
           "xaxis": {
            "backgroundcolor": "#E5ECF6",
            "gridcolor": "white",
            "gridwidth": 2,
            "linecolor": "white",
            "showbackground": true,
            "ticks": "",
            "zerolinecolor": "white"
           },
           "yaxis": {
            "backgroundcolor": "#E5ECF6",
            "gridcolor": "white",
            "gridwidth": 2,
            "linecolor": "white",
            "showbackground": true,
            "ticks": "",
            "zerolinecolor": "white"
           },
           "zaxis": {
            "backgroundcolor": "#E5ECF6",
            "gridcolor": "white",
            "gridwidth": 2,
            "linecolor": "white",
            "showbackground": true,
            "ticks": "",
            "zerolinecolor": "white"
           }
          },
          "shapedefaults": {
           "line": {
            "color": "#2a3f5f"
           }
          },
          "ternary": {
           "aaxis": {
            "gridcolor": "white",
            "linecolor": "white",
            "ticks": ""
           },
           "baxis": {
            "gridcolor": "white",
            "linecolor": "white",
            "ticks": ""
           },
           "bgcolor": "#E5ECF6",
           "caxis": {
            "gridcolor": "white",
            "linecolor": "white",
            "ticks": ""
           }
          },
          "title": {
           "x": 0.05
          },
          "xaxis": {
           "automargin": true,
           "gridcolor": "white",
           "linecolor": "white",
           "ticks": "",
           "title": {
            "standoff": 15
           },
           "zerolinecolor": "white",
           "zerolinewidth": 2
          },
          "yaxis": {
           "automargin": true,
           "gridcolor": "white",
           "linecolor": "white",
           "ticks": "",
           "title": {
            "standoff": 15
           },
           "zerolinecolor": "white",
           "zerolinewidth": 2
          }
         }
        },
        "title": {
         "text": "Absorbance Spectrum of Rodamine"
        },
        "width": 800,
        "xaxis": {
         "title": {
          "text": "Wavelength (nm)"
         }
        },
        "yaxis": {
         "title": {
          "text": "Absorbance (a.u.)"
         }
        }
       }
      }
     },
     "metadata": {},
     "output_type": "display_data"
    }
   ],
   "source": [
    "fig = go.Figure()\n",
    "\n",
    "# Add the measured absorbance spectrum\n",
    "fig.add_trace(go.Scatter(\n",
    "    x=ass_rodamina['λ'],\n",
    "    y=ass_rodamina['A'],\n",
    "    mode='lines',\n",
    "    name='Absorbance Spectrum measured'\n",
    "))\n",
    "\n",
    "# Add the theoretical absorbance spectrum\n",
    "fig.add_trace(go.Scatter(\n",
    "    x=R6G_absorbance['Normalized Wavelength'],\n",
    "    y=R6G_absorbance['Intensity'],\n",
    "    mode='lines',\n",
    "    name='Absorbance Theoric'\n",
    "))\n",
    "\n",
    "# Update layout for the plot\n",
    "fig.update_layout(\n",
    "    title='Absorbance Spectrum of Rodamine',\n",
    "    xaxis_title='Wavelength (nm)',\n",
    "    yaxis_title='Absorbance (a.u.)',\n",
    "    legend=dict(x=0.8, y=1),\n",
    "    font=dict(size=14),\n",
    "    height=600,\n",
    "    width=800\n",
    ")\n",
    "\n",
    "fig.show()\n",
    "\n",
    "\n",
    "λ_ass = ass_rodamina['λ'].to_numpy()\n",
    "A_rod = ass_rodamina['A'].to_numpy()\n",
    "\n",
    "l0 = ass_rodamina['A'].idxmax()\n",
    "\n",
    "popt, pcov = curve_fit(max_fit_parabolic, λ_ass[l0-5:l0+5], A_rod[l0-5:l0+5], p0=[530, 2, 0.5])\n",
    "λcenter, a, A = popt\n",
    "error_λcenter, error_a, error_A = np.sqrt(np.diag(pcov))"
   ]
  },
  {
   "cell_type": "code",
   "execution_count": 6,
   "metadata": {},
   "outputs": [
    {
     "name": "stdout",
     "output_type": "stream",
     "text": [
      "C0: (4.698 ± 0.002)e-6 μM\n"
     ]
    }
   ],
   "source": [
    "#############################\n",
    "\n",
    "# CONCENTRAZIONE ZERO:\n",
    "ε = 116000 # coefficiente di estinzione molare\n",
    "l = 1 #cm\n",
    "C0 = A / ε # Molare\n",
    "sigmaC0 = error_A/ε\n",
    "print('C0:',final_val(C0,sigmaC0,decimals=3,exp=-6,udm='μM'))\n",
    "\n",
    "##############################"
   ]
  },
  {
   "cell_type": "code",
   "execution_count": 7,
   "metadata": {},
   "outputs": [
    {
     "data": {
      "text/html": [
       "<div>\n",
       "<style scoped>\n",
       "    .dataframe tbody tr th:only-of-type {\n",
       "        vertical-align: middle;\n",
       "    }\n",
       "\n",
       "    .dataframe tbody tr th {\n",
       "        vertical-align: top;\n",
       "    }\n",
       "\n",
       "    .dataframe thead th {\n",
       "        text-align: right;\n",
       "    }\n",
       "</style>\n",
       "<table border=\"1\" class=\"dataframe\">\n",
       "  <thead>\n",
       "    <tr style=\"text-align: right;\">\n",
       "      <th></th>\n",
       "      <th>Vi (muL)</th>\n",
       "      <th>Vf (muL)</th>\n",
       "    </tr>\n",
       "  </thead>\n",
       "  <tbody>\n",
       "    <tr>\n",
       "      <th>0</th>\n",
       "      <td>2210</td>\n",
       "      <td>3008</td>\n",
       "    </tr>\n",
       "    <tr>\n",
       "      <th>1</th>\n",
       "      <td>2252</td>\n",
       "      <td>3015</td>\n",
       "    </tr>\n",
       "    <tr>\n",
       "      <th>2</th>\n",
       "      <td>2000</td>\n",
       "      <td>3015</td>\n",
       "    </tr>\n",
       "    <tr>\n",
       "      <th>3</th>\n",
       "      <td>1511</td>\n",
       "      <td>3016</td>\n",
       "    </tr>\n",
       "    <tr>\n",
       "      <th>4</th>\n",
       "      <td>2423</td>\n",
       "      <td>3010</td>\n",
       "    </tr>\n",
       "    <tr>\n",
       "      <th>5</th>\n",
       "      <td>2251</td>\n",
       "      <td>3002</td>\n",
       "    </tr>\n",
       "    <tr>\n",
       "      <th>6</th>\n",
       "      <td>2002</td>\n",
       "      <td>3000</td>\n",
       "    </tr>\n",
       "    <tr>\n",
       "      <th>7</th>\n",
       "      <td>1497</td>\n",
       "      <td>2994</td>\n",
       "    </tr>\n",
       "    <tr>\n",
       "      <th>8</th>\n",
       "      <td>1504</td>\n",
       "      <td>3003</td>\n",
       "    </tr>\n",
       "  </tbody>\n",
       "</table>\n",
       "</div>"
      ],
      "text/plain": [
       "   Vi (muL)  Vf (muL)\n",
       "0      2210      3008\n",
       "1      2252      3015\n",
       "2      2000      3015\n",
       "3      1511      3016\n",
       "4      2423      3010\n",
       "5      2251      3002\n",
       "6      2002      3000\n",
       "7      1497      2994\n",
       "8      1504      3003"
      ]
     },
     "metadata": {},
     "output_type": "display_data"
    }
   ],
   "source": [
    "filename = './data/concentrazioni_rodamina.csv'\n",
    "\n",
    "conc = pd.read_csv(filename,sep=',')\n",
    "conc = conc[['Vi (muL)','Vf (muL)']]\n",
    "display(conc)"
   ]
  },
  {
   "cell_type": "code",
   "execution_count": 8,
   "metadata": {},
   "outputs": [
    {
     "data": {
      "text/html": [
       "<div>\n",
       "<style scoped>\n",
       "    .dataframe tbody tr th:only-of-type {\n",
       "        vertical-align: middle;\n",
       "    }\n",
       "\n",
       "    .dataframe tbody tr th {\n",
       "        vertical-align: top;\n",
       "    }\n",
       "\n",
       "    .dataframe thead th {\n",
       "        text-align: right;\n",
       "    }\n",
       "</style>\n",
       "<table border=\"1\" class=\"dataframe\">\n",
       "  <thead>\n",
       "    <tr style=\"text-align: right;\">\n",
       "      <th></th>\n",
       "      <th>C (μM)</th>\n",
       "      <th>σC (μM)</th>\n",
       "    </tr>\n",
       "  </thead>\n",
       "  <tbody>\n",
       "    <tr>\n",
       "      <th>0</th>\n",
       "      <td>4.697536</td>\n",
       "      <td>0.002297</td>\n",
       "    </tr>\n",
       "    <tr>\n",
       "      <th>1</th>\n",
       "      <td>3.451315</td>\n",
       "      <td>0.002570</td>\n",
       "    </tr>\n",
       "    <tr>\n",
       "      <th>2</th>\n",
       "      <td>2.577897</td>\n",
       "      <td>0.002393</td>\n",
       "    </tr>\n",
       "    <tr>\n",
       "      <th>3</th>\n",
       "      <td>1.710048</td>\n",
       "      <td>0.001890</td>\n",
       "    </tr>\n",
       "    <tr>\n",
       "      <th>4</th>\n",
       "      <td>0.856725</td>\n",
       "      <td>0.001140</td>\n",
       "    </tr>\n",
       "    <tr>\n",
       "      <th>5</th>\n",
       "      <td>0.689649</td>\n",
       "      <td>0.000987</td>\n",
       "    </tr>\n",
       "    <tr>\n",
       "      <th>6</th>\n",
       "      <td>0.517122</td>\n",
       "      <td>0.000794</td>\n",
       "    </tr>\n",
       "    <tr>\n",
       "      <th>7</th>\n",
       "      <td>0.345093</td>\n",
       "      <td>0.000569</td>\n",
       "    </tr>\n",
       "    <tr>\n",
       "      <th>8</th>\n",
       "      <td>0.172546</td>\n",
       "      <td>0.000312</td>\n",
       "    </tr>\n",
       "    <tr>\n",
       "      <th>9</th>\n",
       "      <td>0.086417</td>\n",
       "      <td>0.000169</td>\n",
       "    </tr>\n",
       "  </tbody>\n",
       "</table>\n",
       "</div>"
      ],
      "text/plain": [
       "     C (μM)   σC (μM)\n",
       "0  4.697536  0.002297\n",
       "1  3.451315  0.002570\n",
       "2  2.577897  0.002393\n",
       "3  1.710048  0.001890\n",
       "4  0.856725  0.001140\n",
       "5  0.689649  0.000987\n",
       "6  0.517122  0.000794\n",
       "7  0.345093  0.000569\n",
       "8  0.172546  0.000312\n",
       "9  0.086417  0.000169"
      ]
     },
     "metadata": {},
     "output_type": "display_data"
    }
   ],
   "source": [
    "#Cf Vf = Ci Vi -> Cf = Ci Vi / Vf\n",
    "# sigma V = 1 μL\n",
    "CONCENTRATIONS = [C0]\n",
    "SIGMA_CONCETRATIONS = [sigmaC0]\n",
    "sigmaV = 1 # μL, comodo perchè si ha sempre a che fare con rapporti\n",
    "for idx, row in enumerate(conc.iterrows()):\n",
    "    vi, vf = row[1]['Vi (muL)'], row[1]['Vf (muL)']\n",
    "    Cn = CONCENTRATIONS[idx] * vi / vf\n",
    "    sCn = Cn * np.sqrt((sigmaV/vi)**2 + (sigmaV/vf)**2 + (SIGMA_CONCETRATIONS[idx]/CONCENTRATIONS[idx])**2) \n",
    "    CONCENTRATIONS.append(Cn)\n",
    "    SIGMA_CONCETRATIONS.append(sCn)\n",
    "\n",
    "CONCENTRATIONS = np.array(CONCENTRATIONS)* 1e6 # Convert to μM\n",
    "SIGMA_CONCETRATIONS = np.array(SIGMA_CONCETRATIONS)* 1e6 # Convert to μM\n",
    "\n",
    "# Create a pandas DataFrame to display CONCENTRATIONS and SIGMA_CONCETRATIONS\n",
    "concentration_df = pd.DataFrame({\n",
    "    'C (μM)': CONCENTRATIONS,\n",
    "    'σC (μM)': SIGMA_CONCETRATIONS\n",
    "})\n",
    "display(concentration_df)"
   ]
  },
  {
   "cell_type": "markdown",
   "metadata": {},
   "source": [
    "# GETTING fluorimetro"
   ]
  },
  {
   "cell_type": "code",
   "execution_count": 9,
   "metadata": {},
   "outputs": [
    {
     "data": {
      "text/html": [
       "<div>\n",
       "<style scoped>\n",
       "    .dataframe tbody tr th:only-of-type {\n",
       "        vertical-align: middle;\n",
       "    }\n",
       "\n",
       "    .dataframe tbody tr th {\n",
       "        vertical-align: top;\n",
       "    }\n",
       "\n",
       "    .dataframe thead th {\n",
       "        text-align: right;\n",
       "    }\n",
       "</style>\n",
       "<table border=\"1\" class=\"dataframe\">\n",
       "  <thead>\n",
       "    <tr style=\"text-align: right;\">\n",
       "      <th></th>\n",
       "      <th>λ 5</th>\n",
       "      <th>I 5</th>\n",
       "      <th>λ 4</th>\n",
       "      <th>I 4</th>\n",
       "      <th>no λ 4</th>\n",
       "      <th>no I 4</th>\n",
       "      <th>λ 3</th>\n",
       "      <th>I 3</th>\n",
       "      <th>λ 2</th>\n",
       "      <th>I 2</th>\n",
       "      <th>...</th>\n",
       "      <th>λ 0.8</th>\n",
       "      <th>I 0.8</th>\n",
       "      <th>λ 0.6</th>\n",
       "      <th>I 0.6</th>\n",
       "      <th>λ 0.4</th>\n",
       "      <th>I 0.4</th>\n",
       "      <th>λ 0.2</th>\n",
       "      <th>I 0.2</th>\n",
       "      <th>λ 0.1</th>\n",
       "      <th>I 0.1</th>\n",
       "    </tr>\n",
       "  </thead>\n",
       "  <tbody>\n",
       "    <tr>\n",
       "      <th>112</th>\n",
       "      <td>646.950012</td>\n",
       "      <td>29.311554</td>\n",
       "      <td>646.950012</td>\n",
       "      <td>25.126436</td>\n",
       "      <td>646.950012</td>\n",
       "      <td>29.019300</td>\n",
       "      <td>646.950012</td>\n",
       "      <td>21.187140</td>\n",
       "      <td>646.950012</td>\n",
       "      <td>14.265793</td>\n",
       "      <td>...</td>\n",
       "      <td>646.950012</td>\n",
       "      <td>4.883633</td>\n",
       "      <td>646.950012</td>\n",
       "      <td>3.315377</td>\n",
       "      <td>646.950012</td>\n",
       "      <td>1.589167</td>\n",
       "      <td>646.950012</td>\n",
       "      <td>0.555993</td>\n",
       "      <td>646.950012</td>\n",
       "      <td>0.351009</td>\n",
       "    </tr>\n",
       "    <tr>\n",
       "      <th>113</th>\n",
       "      <td>647.969971</td>\n",
       "      <td>28.124762</td>\n",
       "      <td>647.969971</td>\n",
       "      <td>23.946281</td>\n",
       "      <td>647.969971</td>\n",
       "      <td>27.984386</td>\n",
       "      <td>647.969971</td>\n",
       "      <td>20.061258</td>\n",
       "      <td>647.969971</td>\n",
       "      <td>13.714191</td>\n",
       "      <td>...</td>\n",
       "      <td>647.969971</td>\n",
       "      <td>4.719029</td>\n",
       "      <td>647.969971</td>\n",
       "      <td>3.173567</td>\n",
       "      <td>647.969971</td>\n",
       "      <td>1.429973</td>\n",
       "      <td>647.969971</td>\n",
       "      <td>0.563877</td>\n",
       "      <td>647.969971</td>\n",
       "      <td>0.378182</td>\n",
       "    </tr>\n",
       "    <tr>\n",
       "      <th>114</th>\n",
       "      <td>648.840027</td>\n",
       "      <td>26.902561</td>\n",
       "      <td>648.840027</td>\n",
       "      <td>23.194933</td>\n",
       "      <td>648.840027</td>\n",
       "      <td>27.167797</td>\n",
       "      <td>648.840027</td>\n",
       "      <td>19.790516</td>\n",
       "      <td>648.840027</td>\n",
       "      <td>13.449127</td>\n",
       "      <td>...</td>\n",
       "      <td>648.840027</td>\n",
       "      <td>4.602462</td>\n",
       "      <td>648.840027</td>\n",
       "      <td>3.138167</td>\n",
       "      <td>648.840027</td>\n",
       "      <td>1.417011</td>\n",
       "      <td>648.840027</td>\n",
       "      <td>0.545661</td>\n",
       "      <td>648.840027</td>\n",
       "      <td>0.333807</td>\n",
       "    </tr>\n",
       "    <tr>\n",
       "      <th>115</th>\n",
       "      <td>649.849976</td>\n",
       "      <td>26.203035</td>\n",
       "      <td>649.849976</td>\n",
       "      <td>22.347122</td>\n",
       "      <td>649.849976</td>\n",
       "      <td>25.561733</td>\n",
       "      <td>649.849976</td>\n",
       "      <td>18.675690</td>\n",
       "      <td>649.849976</td>\n",
       "      <td>12.785388</td>\n",
       "      <td>...</td>\n",
       "      <td>649.849976</td>\n",
       "      <td>4.334819</td>\n",
       "      <td>649.849976</td>\n",
       "      <td>2.955356</td>\n",
       "      <td>649.849976</td>\n",
       "      <td>1.345403</td>\n",
       "      <td>649.849976</td>\n",
       "      <td>0.519533</td>\n",
       "      <td>649.849976</td>\n",
       "      <td>0.366366</td>\n",
       "    </tr>\n",
       "    <tr>\n",
       "      <th>116</th>\n",
       "      <td>650.859985</td>\n",
       "      <td>24.811270</td>\n",
       "      <td>650.859985</td>\n",
       "      <td>21.325739</td>\n",
       "      <td>650.859985</td>\n",
       "      <td>24.539951</td>\n",
       "      <td>650.859985</td>\n",
       "      <td>18.069601</td>\n",
       "      <td>650.859985</td>\n",
       "      <td>12.159359</td>\n",
       "      <td>...</td>\n",
       "      <td>650.859985</td>\n",
       "      <td>4.134296</td>\n",
       "      <td>650.859985</td>\n",
       "      <td>2.907012</td>\n",
       "      <td>650.859985</td>\n",
       "      <td>1.283329</td>\n",
       "      <td>650.859985</td>\n",
       "      <td>0.497435</td>\n",
       "      <td>650.859985</td>\n",
       "      <td>0.298861</td>\n",
       "    </tr>\n",
       "  </tbody>\n",
       "</table>\n",
       "<p>5 rows × 22 columns</p>\n",
       "</div>"
      ],
      "text/plain": [
       "            λ 5        I 5         λ 4        I 4      no λ 4     no I 4  \\\n",
       "112  646.950012  29.311554  646.950012  25.126436  646.950012  29.019300   \n",
       "113  647.969971  28.124762  647.969971  23.946281  647.969971  27.984386   \n",
       "114  648.840027  26.902561  648.840027  23.194933  648.840027  27.167797   \n",
       "115  649.849976  26.203035  649.849976  22.347122  649.849976  25.561733   \n",
       "116  650.859985  24.811270  650.859985  21.325739  650.859985  24.539951   \n",
       "\n",
       "            λ 3        I 3         λ 2        I 2  ...       λ 0.8     I 0.8  \\\n",
       "112  646.950012  21.187140  646.950012  14.265793  ...  646.950012  4.883633   \n",
       "113  647.969971  20.061258  647.969971  13.714191  ...  647.969971  4.719029   \n",
       "114  648.840027  19.790516  648.840027  13.449127  ...  648.840027  4.602462   \n",
       "115  649.849976  18.675690  649.849976  12.785388  ...  649.849976  4.334819   \n",
       "116  650.859985  18.069601  650.859985  12.159359  ...  650.859985  4.134296   \n",
       "\n",
       "          λ 0.6     I 0.6       λ 0.4     I 0.4       λ 0.2     I 0.2  \\\n",
       "112  646.950012  3.315377  646.950012  1.589167  646.950012  0.555993   \n",
       "113  647.969971  3.173567  647.969971  1.429973  647.969971  0.563877   \n",
       "114  648.840027  3.138167  648.840027  1.417011  648.840027  0.545661   \n",
       "115  649.849976  2.955356  649.849976  1.345403  649.849976  0.519533   \n",
       "116  650.859985  2.907012  650.859985  1.283329  650.859985  0.497435   \n",
       "\n",
       "          λ 0.1     I 0.1  \n",
       "112  646.950012  0.351009  \n",
       "113  647.969971  0.378182  \n",
       "114  648.840027  0.333807  \n",
       "115  649.849976  0.366366  \n",
       "116  650.859985  0.298861  \n",
       "\n",
       "[5 rows x 22 columns]"
      ]
     },
     "execution_count": 9,
     "metadata": {},
     "output_type": "execute_result"
    }
   ],
   "source": [
    "filename = 'data/assorbanza_rodamina_concentrazioni_tot.csv'\n",
    "\n",
    "header = ['λ 5','I 5','λ 4','I 4','no λ 4','no I 4','λ 3','I 3','λ 2','I 2','λ 1','I 1','λ 0.8','I 0.8','λ 0.6','I 0.6','λ 0.4','I 0.4','λ 0.2','I 0.2','λ 0.1','I 0.1']\n",
    "\n",
    "data = pd.read_csv(filename,sep=',',header=1,nrows=117)\n",
    "data = data.iloc[:, :-1] # drop last column\n",
    "data.columns = header\n",
    "data.tail()"
   ]
  },
  {
   "cell_type": "code",
   "execution_count": 10,
   "metadata": {},
   "outputs": [
    {
     "data": {
      "application/vnd.plotly.v1+json": {
       "config": {
        "plotlyServerURL": "https://plot.ly"
       },
       "data": [
        {
         "mode": "lines",
         "name": "4.7 μM",
         "type": "scatter",
         "x": {
          "bdata": "CaP+H1y3gECglP9/wr+AQE2ABkDhxoBA6wX6n0fPgEBoDv+fmdeAQC/jAcDM3oBAs3/5vx7ngEBLcfofhe+AQPdcAeCj9oBAj04CQAr/gEAJo/4fXAeBQKCU/3/CD4FATYAGQOEWgUDrBfqfRx+BQGgO/5+ZJ4FAL+MBwMwugUCPTgJACjeBQOsF+p9HP4FAS3H6H4VHgUCglP9/wk+BQC/jAcDMVoFAj04CQApfgUDrBfqfR2eBQEtx+h+Fb4FAoJT/f8J3gUAv4wHAzH6BQLN/+b8eh4FAS3H6H4WPgUD3XAHgo5aBQI9OAkAKn4FACaP+H1yngUCglP9/wq+BQE2ABkDhtoFA6wX6n0e/gUBoDv+fmceBQC/jAcDMzoFAj04CQArXgUDrBfqfR9+BQEtx+h+F54FAoJT/f8LvgUAv4wHAzPaBQI9OAkAK/4FA6wX6n0cHgkBLcfofhQ+CQKCU/3/CF4JAL+MBwMwegkCzf/m/HieCQEtx+h+FL4JA91wB4KM2gkCPTgJACj+CQAmj/h9cR4JAoJT/f8JPgkBNgAZA4VaCQOsF+p9HX4JAaA7/n5lngkAv4wHAzG6CQI9OAkAKd4JA6wX6n0d/gkBLcfofhYeCQKCU/3/Cj4JAL+MBwMyWgkCPTgJACp+CQOsF+p9Hp4JAS3H6H4WvgkCglP9/wreCQC/jAcDMvoJATYAGQOHGgkCPTgJACs+CQLN/+b8e14JA6wX6n0ffgkAJo/4fXOeCQEtx+h+F74JAaA7/n5n3gkCglP9/wv+CQBX6BWC4BoNAL+MBwMwOg0CPTgJACheDQOsF+p9HH4NAS3H6H4Ung0CglP9/wi+DQC/jAcDMNoNAj04CQAo/g0DrBfqfR0eDQEtx+h+FT4NAoJT/f8JXg0Av4wHAzF6DQI9OAkAKZ4NA6wX6n0dvg0BLcfofhXeDQKCU/3/Cf4NAL+MBwMyGg0CPTgJACo+DQOsF+p9Hl4NAS3H6H4Wfg0CglP9/wqeDQC/jAcDMroNATYAGQOG2g0CPTgJACr+DQLN/+b8ex4NA6wX6n0fPg0AJo/4fXNeDQEtx+h+F34NAaA7/n5nng0CglP9/wu+DQBX6BWC49oNAL+MBwMz+g0BNgAZA4QaEQI9OAkAKD4RAs3/5vx4XhEDrBfqfRx+EQAmj/h9cJ4RAS3H6H4UvhEBoDv+fmTeEQKCU/3/CP4RAFfoFYLhGhEAv4wHAzE6EQE2ABkDhVoRA",
          "dtype": "f8"
         },
         "y": {
          "bdata": "bMIHwEl1c0ATVQlgNNx1QIhQACAiBHhARoIEIEkIe0B2CgPgKSp+QBChAEBUIoBAMYj+v9D8gUBxsf2/pXyDQD3fBQBtvYRAYGsAgF0nhkDbZPlfc6OHQAAAAAAQ14hALT4FwEjBiUDA1gAAa86KQDGI/r/QjItAEUb9P/hgjECR8/4/7ryMQCqK/J9oI41AYGsAgF0ajUBAKf//RHCNQLA1AMAGY41AaA7/n2kkjUDPdwFA36iMQCqK/J94z4tAYGsAgK3Ei0ARRv0/GCyLQPBe/7+7O4pAV8gBYLEaikBHJwEgTTKJQHiv/9+NbohAlkwEYNKch0AH/gEguLuGQFDK/z85/oVAeK//380+hUAtPgXAmMKEQK6QA8Bi14NAj04CQHr3gkD+WgMADBGCQOi7AKAfeIFAnUoGgNqxgECdSgaAKkWAQIFS/v8p635AnoXzX9adfUB9nvXfeZN8QLfJ8r/GZHtAUtkLYEWeekCKXwxAvnF5QEk2DUA5Y3hAhJz3//HSd0BVIwVgTc92QGJ6DKDJ5HVA9rcE4P81dUDkcQeg56p0QEvbCUCN63NAg/f6/z1dc0D+WgMADLRyQINhCiBGMHJABe/1/7umcUCehfNf1gBxQDqVDABVpnBAZ2kCoCXqb0CY8QBghuluQI0TFWBOIW5AyeMOQM9AbUDi+OtfI2dsQOtvCcB/jGtAFCbnH9ixakA2d/S/XMFpQHXPFQA+v2hAgo3r3zXPZ0AtauZ/qCJnQOQH+H+fRGZAJ6oSwGhMZUCgKvBfqnNkQDZLEwCtwmNA3DgYoGP2YkClg/V/DkhiQJQ9+D82kGFA2ikMgOfPYEBrhxrg3QlgQF7GA4AZFl9AnbQVoBLRXUAV+gVgKJNcQCTKKOBoXltAPh00YLXaWUAr8Pw/GuxYQO7R+t862ldAajUD4IiqVkAbEACg88JVQFrT/v+mZ1RAe3sAICHbU0Do+vz/kcNSQG7l/H+iK1JARBwEgBc8UUDlsAMAKmhQQM1o9R9jmk9A7Cz+36bgTUAXnwJgvGhMQJiu9X/tSUtAvnAAYGnhSUAaqv//QblIQFXkCAAr6kdAIMD5P82dRkAvIv4fr51FQMtFAGAK8URAk7//f7HNQ0BqdP8/a/5CQCUZ/1/xS0JACLv2P59eQUA6qfWfsahAQMK6+V8R6j9AXlz0XzGaPkCpIxUAwk89QLXl+V/wHzxAWLAJQA7nOkCSLuwf+jM6QAtv/1+vzzhA",
          "dtype": "f8"
         }
        },
        {
         "mode": "lines",
         "name": "3.45 μM",
         "type": "scatter",
         "x": {
          "bdata": "CaP+H1y3gECglP9/wr+AQE2ABkDhxoBA6wX6n0fPgEBoDv+fmdeAQC/jAcDM3oBAs3/5vx7ngEBLcfofhe+AQPdcAeCj9oBAj04CQAr/gEAJo/4fXAeBQKCU/3/CD4FATYAGQOEWgUDrBfqfRx+BQGgO/5+ZJ4FAL+MBwMwugUCPTgJACjeBQOsF+p9HP4FAS3H6H4VHgUCglP9/wk+BQC/jAcDMVoFAj04CQApfgUDrBfqfR2eBQEtx+h+Fb4FAoJT/f8J3gUAv4wHAzH6BQLN/+b8eh4FAS3H6H4WPgUD3XAHgo5aBQI9OAkAKn4FACaP+H1yngUCglP9/wq+BQE2ABkDhtoFA6wX6n0e/gUBoDv+fmceBQC/jAcDMzoFAj04CQArXgUDrBfqfR9+BQEtx+h+F54FAoJT/f8LvgUAv4wHAzPaBQI9OAkAK/4FA6wX6n0cHgkBLcfofhQ+CQKCU/3/CF4JAL+MBwMwegkCzf/m/HieCQEtx+h+FL4JA91wB4KM2gkCPTgJACj+CQAmj/h9cR4JAoJT/f8JPgkBNgAZA4VaCQOsF+p9HX4JAaA7/n5lngkAv4wHAzG6CQI9OAkAKd4JA6wX6n0d/gkBLcfofhYeCQKCU/3/Cj4JAL+MBwMyWgkCPTgJACp+CQOsF+p9Hp4JAS3H6H4WvgkCglP9/wreCQC/jAcDMvoJATYAGQOHGgkCPTgJACs+CQLN/+b8e14JA6wX6n0ffgkAJo/4fXOeCQEtx+h+F74JAaA7/n5n3gkCglP9/wv+CQBX6BWC4BoNAL+MBwMwOg0CPTgJACheDQOsF+p9HH4NAS3H6H4Ung0CglP9/wi+DQC/jAcDMNoNAj04CQAo/g0DrBfqfR0eDQEtx+h+FT4NAoJT/f8JXg0Av4wHAzF6DQI9OAkAKZ4NA6wX6n0dvg0BLcfofhXeDQKCU/3/Cf4NAL+MBwMyGg0CPTgJACo+DQOsF+p9Hl4NAS3H6H4Wfg0CglP9/wqeDQC/jAcDMroNATYAGQOG2g0CPTgJACr+DQLN/+b8ex4NA6wX6n0fPg0AJo/4fXNeDQEtx+h+F34NAaA7/n5nng0CglP9/wu+DQBX6BWC49oNAL+MBwMz+g0BNgAZA4QaEQI9OAkAKD4RAs3/5vx4XhEDrBfqfRx+EQAmj/h9cJ4RAS3H6H4UvhEBoDv+fmTeEQKCU/3/CP4RAFfoFYLhGhEAv4wHAzE6EQE2ABkDhVoRA",
          "dtype": "f8"
         },
         "y": {
          "bdata": "6soMwAs+ckBMFvcfuWV0QPxL99+vQnZAbMIHwAn9eED9tQYAeMF7QE4lA0C10H1AAqX8/5NWgEBuZwTAfZ+BQKI5/H8WpIJAztIEQOvVg0BAKf//xACFQGgO/5+JEIZATiUDQAW1hkDfGAKAc56HQNPB+j+nQohANuED4FTQiEB9CAUAkheJQGEQ/X9hUIlA3xgCgDN2iUDIef8f17iJQP5aAwDMWYlAstr8v3o4iUBVIwVgXdCIQHNW+r+piohAj04CQMrth0C6ffvf1oCHQGdpAqDl5YZAx9QCIJNThkB4r//fzdmFQH0IBQDyJYVA4mL7f2tdhEBuZwTAvYWDQLN/+b9u+oJA/loDAAxbgkDhvf5/F6mBQHYKA+D5HIFAJkADoEBdgEDpYP2fw3R/QDvQ+d+AHn5AQCn//0TOfEB6VPzfseJ7QCWbBqBs0XpAkpj7P8KWeUCR8/4/jnJ4QFt8CoBxnXdAYRD9f+HHdkB/rQEAluV1QCjl/58UBXVAFfoFYIhcdEAMVwdA3J9zQN1zBYBP+3JAErAMYABTckAlmwagDM9xQL7H9N8+IHFAxS8GIN+ocEBNgAZAQQ9wQEwW9x+ZT29ALJkIwKQ8bkDbZPlfkzNtQI0/9h++ZWxA4vjrX6OYa0A70PnfwJdqQGO1+X8VzWlA+3oZIGzTaEDFLwYgvy9oQFOq6R8plWdA8z7pn3u8ZkA4hgDg2OxlQKTe+H+6JmVAhkH0/wVpZEB7j+m/vbFjQPzh578H3mJAil8MQD4vYkAVkPY/QIthQNiw8D+D4GBAS3H6H8U0YEC4ByEgX0ZfQLZf458+8F1A4o7cPzu/XEB4GQ8AZpRbQK0pNSDnt1pAizDq/0GCWUBJjQHATmBYQOlg/Z8DNVdAJ3///yJPVkADzABAY4JVQGCq/N+PfVRA40oDYHilU0C6Pv9/VLdSQOZVAAD+6FFAKCT8/zYbUUC3sfqfk0hQQMOKCSBrGk9AZNz9v6TETUAlGf9f8X5MQD4GCkBMHEtAtY4F4HoYSkDLhPy/LJVIQHiv/999bEdAtGcBoCtgRkBKtAUAnm9FQOMLBwCWeERAkpj7P2KGQ0DiYvt/i35CQJEy+5/wE0JAqE/2v3E5QUCp4AkgKYBAQFmYESA7Tj9AuYEKYC0xPkCvOQ9AzY48QBvl7N/tlTtACUwKoNYLOkAp4fAfXiA5QICp8n8/8jdAkDYKIOcxN0ASxPX/3Fg2QBR8DaBjUzVA",
          "dtype": "f8"
         }
        },
        {
         "mode": "lines",
         "name": "2.58 μM",
         "type": "scatter",
         "x": {
          "bdata": "CaP+H1y3gECglP9/wr+AQE2ABkDhxoBA6wX6n0fPgEBoDv+fmdeAQC/jAcDM3oBAs3/5vx7ngEBLcfofhe+AQPdcAeCj9oBAj04CQAr/gEAJo/4fXAeBQKCU/3/CD4FATYAGQOEWgUDrBfqfRx+BQGgO/5+ZJ4FAL+MBwMwugUCPTgJACjeBQOsF+p9HP4FAS3H6H4VHgUCglP9/wk+BQC/jAcDMVoFAj04CQApfgUDrBfqfR2eBQEtx+h+Fb4FAoJT/f8J3gUAv4wHAzH6BQLN/+b8eh4FAS3H6H4WPgUD3XAHgo5aBQI9OAkAKn4FACaP+H1yngUCglP9/wq+BQE2ABkDhtoFA6wX6n0e/gUBoDv+fmceBQC/jAcDMzoFAj04CQArXgUDrBfqfR9+BQEtx+h+F54FAoJT/f8LvgUAv4wHAzPaBQI9OAkAK/4FA6wX6n0cHgkBLcfofhQ+CQKCU/3/CF4JAL+MBwMwegkCzf/m/HieCQEtx+h+FL4JA91wB4KM2gkCPTgJACj+CQAmj/h9cR4JAoJT/f8JPgkBNgAZA4VaCQOsF+p9HX4JAaA7/n5lngkAv4wHAzG6CQI9OAkAKd4JA6wX6n0d/gkBLcfofhYeCQKCU/3/Cj4JAL+MBwMyWgkCPTgJACp+CQOsF+p9Hp4JAS3H6H4WvgkCglP9/wreCQC/jAcDMvoJATYAGQOHGgkCPTgJACs+CQLN/+b8e14JA6wX6n0ffgkAJo/4fXOeCQEtx+h+F74JAaA7/n5n3gkCglP9/wv+CQBX6BWC4BoNAL+MBwMwOg0CPTgJACheDQOsF+p9HH4NAS3H6H4Ung0CglP9/wi+DQC/jAcDMNoNAj04CQAo/g0DrBfqfR0eDQEtx+h+FT4NAoJT/f8JXg0Av4wHAzF6DQI9OAkAKZ4NA6wX6n0dvg0BLcfofhXeDQKCU/3/Cf4NAL+MBwMyGg0CPTgJACo+DQOsF+p9Hl4NAS3H6H4Wfg0CglP9/wqeDQC/jAcDMroNATYAGQOG2g0CPTgJACr+DQLN/+b8ex4NA6wX6n0fPg0AJo/4fXNeDQEtx+h+F34NAaA7/n5nng0CglP9/wu+DQBX6BWC49oNAL+MBwMz+g0BNgAZA4QaEQI9OAkAKD4RAs3/5vx4XhEDrBfqfRx+EQAmj/h9cJ4RAS3H6H4UvhEBoDv+fmTeEQKCU/3/CP4RAFfoFYLhGhEAv4wHAzE6EQE2ABkDhVoRA",
          "dtype": "f8"
         },
         "y": {
          "bdata": "lD34Pza+ckCuJvSfOtJ0QMzD+B+Pm3ZALdT1n3DdeEDMw/gfb3p7QB0z9V+sAH1AXsYDgNljf0DpYP2fE8qAQNPB+j/3iYFAScz9H9F2gkD9tQYA2HuDQEaCBCDJGIRABVkFIETchEDtFAbA8xSFQBFG/T+YvYVAS3H6HwUIhkACpfz/00SGQGdpAqD1YIZAmzv6X/50hkDyA/y/X12GQOYWBKBrLYZAPd8FAG3ihUAenQSARJOFQOYWBKC7AYVAyh78H8uMhEBoDv+fCTaEQCOM+n/gloNAZ2kCoNUJg0DYGgBgu6iCQNZ1A2AnDoJA5hYEoOtzgUBNgAZAAauAQAAAAADAIoBACaP+H2xVf0AFWQUgJO99QCsv+Z8conxAil8MQH7Re0BEc/j/rKR6QE2ABkCBynlA22T5X/OLeEC8IvjfCrh3QGxY+J8BcXZAelT83xGsdUDRHP4/8+F0QFJv/D/9InRA1dAGYMNHc0AH/gEgWMJyQFLZC2Bl53FAPd8FAN1GcUCW4vQ/yrFwQLA1AMAWGXBAv2zx33IOb0Bxsf2/xTluQE+PEmA9Nm1A9iEUAEhYbEC6ffvfNndrQFy3919de2pAi5r5H+q0aUA70PnfAO1oQKtGCsDaF2hAz3cBQJ9TZ0DKHvwf+4BmQN2f5j//3GVA+QH+34cpZUARRv0/2HVkQBS/GIB842NAXLf3X51UY0Cm7QSgNqNiQKtGCsBaxWFAskQM4NJQYUBlLhXAOaJgQJ6INODiyV9A3kckwJ/GXkAupdNf1P1dQMc70b9u7VxAxS8GIH+kW0CGFRNA1nZaQB4HFKDcgVlAoNP73/SOWEAYBQMALlZXQDtSASB801ZAEOD8n2bGVUA0VP//Q5pUQLFcBADm4FNArSoDINHdUkAzFQOgIS9SQLB0/B/5dFFAmVcBADigUEBokAbgNOJPQEmNAcDOJk5AYGsAgK3rTECxXAQAprhLQAvxBqBqdkpAW7sG4BMhSUDBe/3/bgpIQDBh+n9RKkdAixwBYGXLRUAycAagTehEQPZ0+f+G0kNABDIB4FT9QkAhJvrfPgZCQKyB95/GE0FAfQgFAKJ3QEAjjPp/ML4/QOPMCqBzyj5AeO77P6AlPUCdXu8fh3k7QOVt+B+RaTpAcHYQ4Jl+OUAF7/X/u184QLIZ+R8N+DZAUJ/sf+M3NkBOPftf6C81QAYCEaCuDzRAz3cBQF/KM0B6vgsA+qwyQIl3BGDRETJA",
          "dtype": "f8"
         }
        },
        {
         "mode": "lines",
         "name": "1.71 μM",
         "type": "scatter",
         "x": {
          "bdata": "CaP+H1y3gECglP9/wr+AQE2ABkDhxoBA6wX6n0fPgEBoDv+fmdeAQC/jAcDM3oBAs3/5vx7ngEBLcfofhe+AQPdcAeCj9oBAj04CQAr/gEAJo/4fXAeBQKCU/3/CD4FATYAGQOEWgUDrBfqfRx+BQGgO/5+ZJ4FAL+MBwMwugUCPTgJACjeBQOsF+p9HP4FAS3H6H4VHgUCglP9/wk+BQC/jAcDMVoFAj04CQApfgUDrBfqfR2eBQEtx+h+Fb4FAoJT/f8J3gUAv4wHAzH6BQLN/+b8eh4FAS3H6H4WPgUD3XAHgo5aBQI9OAkAKn4FACaP+H1yngUCglP9/wq+BQE2ABkDhtoFA6wX6n0e/gUBoDv+fmceBQC/jAcDMzoFAj04CQArXgUDrBfqfR9+BQEtx+h+F54FAoJT/f8LvgUAv4wHAzPaBQI9OAkAK/4FA6wX6n0cHgkBLcfofhQ+CQKCU/3/CF4JAL+MBwMwegkCzf/m/HieCQEtx+h+FL4JA91wB4KM2gkCPTgJACj+CQAmj/h9cR4JAoJT/f8JPgkBNgAZA4VaCQOsF+p9HX4JAaA7/n5lngkAv4wHAzG6CQI9OAkAKd4JA6wX6n0d/gkBLcfofhYeCQKCU/3/Cj4JAL+MBwMyWgkCPTgJACp+CQOsF+p9Hp4JAS3H6H4WvgkCglP9/wreCQC/jAcDMvoJATYAGQOHGgkCPTgJACs+CQLN/+b8e14JA6wX6n0ffgkAJo/4fXOeCQEtx+h+F74JAaA7/n5n3gkCglP9/wv+CQBX6BWC4BoNAL+MBwMwOg0CPTgJACheDQOsF+p9HH4NAS3H6H4Ung0CglP9/wi+DQC/jAcDMNoNAj04CQAo/g0DrBfqfR0eDQEtx+h+FT4NAoJT/f8JXg0Av4wHAzF6DQI9OAkAKZ4NA6wX6n0dvg0BLcfofhXeDQKCU/3/Cf4NAL+MBwMyGg0CPTgJACo+DQOsF+p9Hl4NAS3H6H4Wfg0CglP9/wqeDQC/jAcDMroNATYAGQOG2g0CPTgJACr+DQLN/+b8ex4NA6wX6n0fPg0AJo/4fXNeDQEtx+h+F34NAaA7/n5nng0CglP9/wu+DQBX6BWC49oNAL+MBwMz+g0BNgAZA4QaEQI9OAkAKD4RAs3/5vx4XhEDrBfqfRx+EQAmj/h9cJ4RAS3H6H4UvhEBoDv+fmTeEQKCU/3/CP4RAFfoFYLhGhEAv4wHAzE6EQE2ABkDhVoRA",
          "dtype": "f8"
         },
         "y": {
          "bdata": "d3QSABLMa0AUvxiAPJVuQOrKDMALaHBAarP7n800ckCwNQDAVuhzQGzCB8BpEHVAoqMLoA6cdkBJNg1AOfF3QMZq8/9q93hACaP+H4xoekB/rQEAlmF7QMLlDCB3VXxAaA7/n1kQfUCGQfT/5bN9QPum+t9bTX5AYx8JoD2ofkCK9fwfVrd+QFMU+T/Ry35ADO33H/S1fkCd4PZfQoN+QOrKDMCrPX5ATrvzH43SfUBuZwTAnX19QKTe+H+6v3xAP4QCAFENfEB9CAUA4ox7QAIPDCAcznpAJDH3f2T7eUAtPgXAuGx5QAIPDCCch3hAztIEQEubd0CEnPf/Ecd2QLUk9r8yD3ZA77kCwOdWdUC3MwLgbmp0QPum+t+brHNAskQM4JL3ckCiOfx/JgVyQMDWAAA7anFAY7X5f7WncEAdM/VfjNxvQEwW9x8Zpm5AqTf+n15QbUCJi+3/LTBsQI0TFWAOO2tAtbrmn2r3aUCJi+3/bRZpQCh78H9sL2hATKzn//BXZ0C3MwLgjppmQDAe75/4zGVAY0vqX63VZECLmvkfqk1kQJKY+z/itWNAmZb9X1oOY0Bn0xHAjXFiQH8XESDe3mFAluL0P4oqYUDkcQegR6VgQJQRF4BGMmBA5+oi4GujX0CFcBZAQiVeQJ4b5D9uYl1AiObw/5mKXEBpeA7AYZ5bQJeH8T+e2lpAZS4VwLn4WUA5we2/hChZQItb/b8HPVhAzGwEoBkxV0CPzPr/fktWQO+5AsAntlVAhyn833LOVED6KAIg1ydUQJxi/p/9dlNAVqH9H9KRUkAzFQOg4dNRQFrT/v+mHlFAvOP7f+hoUECD9/r/3aRPQIRd+5/Plk5Ak0EHwGwwTUAL8QagagFMQCHn/X8cl0pAwvn1vzNISUBgLAQgC3JIQFCLA+AGX0dAjWoJ4IN6RkDhvf5/d1BFQJwjAkDbRkRA15wHoOaZQ0Bxsf2/xZhCQPnCAYAlyUFAN0cEgLbvQED2dPn/Bi5AQKG7A8Chuj5Aw4oJIGunPUB84QDA0g08QNnX9H+SpjpAmr0BoGlWOUBTPwwAl1k4QGik73+RTzdAIwrzP3VGNkCzLBTA/001QMq07P/SnjRACjQSgAOYM0D+3ApAJ70yQPOUDyDH2jFAcXIBYCM6MUCYMP2/qFQwQNsRFGDUjS9AoIAW4PUELkByhRwAFogsQCzEG4CqbStA9HwXAPTlKkA+cedfHpIpQAzZDoCXUShA",
          "dtype": "f8"
         }
        },
        {
         "mode": "lines",
         "name": "0.86 μM",
         "type": "scatter",
         "x": {
          "bdata": "CaP+H1y3gECglP9/wr+AQE2ABkDhxoBA6wX6n0fPgEBoDv+fmdeAQC/jAcDM3oBAs3/5vx7ngEBLcfofhe+AQPdcAeCj9oBAj04CQAr/gEAJo/4fXAeBQKCU/3/CD4FATYAGQOEWgUDrBfqfRx+BQGgO/5+ZJ4FAL+MBwMwugUCPTgJACjeBQOsF+p9HP4FAS3H6H4VHgUCglP9/wk+BQC/jAcDMVoFAj04CQApfgUDrBfqfR2eBQEtx+h+Fb4FAoJT/f8J3gUAv4wHAzH6BQLN/+b8eh4FAS3H6H4WPgUD3XAHgo5aBQI9OAkAKn4FACaP+H1yngUCglP9/wq+BQE2ABkDhtoFA6wX6n0e/gUBoDv+fmceBQC/jAcDMzoFAj04CQArXgUDrBfqfR9+BQEtx+h+F54FAoJT/f8LvgUAv4wHAzPaBQI9OAkAK/4FA6wX6n0cHgkBLcfofhQ+CQKCU/3/CF4JAL+MBwMwegkCzf/m/HieCQEtx+h+FL4JA91wB4KM2gkCPTgJACj+CQAmj/h9cR4JAoJT/f8JPgkBNgAZA4VaCQOsF+p9HX4JAaA7/n5lngkAv4wHAzG6CQI9OAkAKd4JA6wX6n0d/gkBLcfofhYeCQKCU/3/Cj4JAL+MBwMyWgkCPTgJACp+CQOsF+p9Hp4JAS3H6H4WvgkCglP9/wreCQC/jAcDMvoJATYAGQOHGgkCPTgJACs+CQLN/+b8e14JA6wX6n0ffgkAJo/4fXOeCQEtx+h+F74JAaA7/n5n3gkCglP9/wv+CQBX6BWC4BoNAL+MBwMwOg0CPTgJACheDQOsF+p9HH4NAS3H6H4Ung0CglP9/wi+DQC/jAcDMNoNAj04CQAo/g0DrBfqfR0eDQEtx+h+FT4NAoJT/f8JXg0Av4wHAzF6DQI9OAkAKZ4NA6wX6n0dvg0BLcfofhXeDQKCU/3/Cf4NAL+MBwMyGg0CPTgJACo+DQOsF+p9Hl4NAS3H6H4Wfg0CglP9/wqeDQC/jAcDMroNATYAGQOG2g0CPTgJACr+DQLN/+b8ex4NA6wX6n0fPg0AJo/4fXNeDQEtx+h+F34NAaA7/n5nng0CglP9/wu+DQBX6BWC49oNAL+MBwMz+g0BNgAZA4QaEQI9OAkAKD4RAs3/5vx4XhEDrBfqfRx+EQAmj/h9cJ4RAS3H6H4UvhEBoDv+fmTeEQKCU/3/CP4RAFfoFYLhGhEAv4wHAzE6EQE2ABkDhVoRA",
          "dtype": "f8"
         },
         "y": {
          "bdata": "0YYNYNuTXEAHlPL/T5lfQNffEoC/FWFAmw8ZoP5xYkAWNfM/1PtjQOJi+39LQGVA2ikMgOe3ZkB9nvXfuelnQOzZGOCn+WhAVo0UgHUpakBU6BeAIRFrQF8B8V9F6GtA+3oZIOyHbEAuqBTg4A1tQKyB959Ge21ANNL3v0inbUB2CgPgqb5tQIQGByBa6G1Au+cKAN+mbUA8C+e/7GNtQJvR6j9G+GxAvpsTIK/IbEC1jgXgekZsQG+i8Z+JyWtA/bUGABgfa0AqivyfaFJqQBcJEoDkkWlAdfv2vy0daUBCZOzfUAdoQBmuDoB4j2dAzw3yH3eeZkAV+gVgKNNlQLW65p9qHWVAvIwHAHMqZEBLcfofBVZjQOVC5V9LsGJA0YYNYNvfYUD38vG/yzphQI9OAkC6QGBAMsYsIFlaX0DLhcq/llteQLZiJCDLSF1AYGsAgK0BXEBDDCpgcdRaQPCK4H+rt1lACeL6f+6xWEBSMADg2tBXQNwNBeBd+VZAK7EA4HcNVkDFbgKAoRNVQFNXBCBqrFRAGYP7vzLrU0ANlgOgvklTQKfR/f9srVJAun3737YiUkAhqAEgeoRRQBZ4/h/tAFFAgrj+n/tsUEDAFf1f/QZQQCIOAsBr/U5AqE/2v3HLTUBr2v/f3AFNQJbK/B+3+EtAj04CQLoMS0B51gMgzU9KQC77+d9ff0lAql4C4G3JSEA8Nvp/8tFHQLXl+V/wxUZA4WYKAALvRUAqivyf6EBFQGp0/z9rZkRAIIH93yqsQ0AjNQYAu/FCQHMX/l83T0JA/9j7v7CnQUCfbfs/g/RAQMcT/3+1XUBAqeAJICmBP0B+xfkficQ9QPxL99/vDj1ActgBAJWqO0DsAesf4YU6QPUO+V+VIDlA/Qjs/1b/N0BRSPj/7Qs3QLOqDIBEODZATdPrPwBTNUA9HgJgn0g0QAuH93+CGDNASY0BwE5WMkDcTAFAgKAxQFw5/59YuTBA1Gb3PxsWMECkXPE/v9ouQAbDFECMUy1Ak5Tsv2vvK0DdICCAUNAqQLkDEqDoVClA7iTg37lAKECk3SqAEAQnQAF++L9EDiZAmBwUIEw4JUBWNiAAQEkkQEk4/z/maSNAwg/833meIkAQ9gLAbKghQFx3AoC0CyFAFL37/xJvIECmqvm/XWEfQC3pAkAQ6B1ApRsD4A+HHECg6vp/gcAaQFykB0AH8hlAo2AAwDUCGUBdifkfhJEYQFqV+x+LLRdA",
          "dtype": "f8"
         }
        },
        {
         "mode": "lines",
         "name": "0.69 μM",
         "type": "scatter",
         "x": {
          "bdata": "CaP+H1y3gECglP9/wr+AQE2ABkDhxoBA6wX6n0fPgEBoDv+fmdeAQC/jAcDM3oBAs3/5vx7ngEBLcfofhe+AQPdcAeCj9oBAj04CQAr/gEAJo/4fXAeBQKCU/3/CD4FATYAGQOEWgUDrBfqfRx+BQGgO/5+ZJ4FAL+MBwMwugUCPTgJACjeBQOsF+p9HP4FAS3H6H4VHgUCglP9/wk+BQC/jAcDMVoFAj04CQApfgUDrBfqfR2eBQEtx+h+Fb4FAoJT/f8J3gUAv4wHAzH6BQLN/+b8eh4FAS3H6H4WPgUD3XAHgo5aBQI9OAkAKn4FACaP+H1yngUCglP9/wq+BQE2ABkDhtoFA6wX6n0e/gUBoDv+fmceBQC/jAcDMzoFAj04CQArXgUDrBfqfR9+BQEtx+h+F54FAoJT/f8LvgUAv4wHAzPaBQI9OAkAK/4FA6wX6n0cHgkBLcfofhQ+CQKCU/3/CF4JAL+MBwMwegkCzf/m/HieCQEtx+h+FL4JA91wB4KM2gkCPTgJACj+CQAmj/h9cR4JAoJT/f8JPgkBNgAZA4VaCQOsF+p9HX4JAaA7/n5lngkAv4wHAzG6CQI9OAkAKd4JA6wX6n0d/gkBLcfofhYeCQKCU/3/Cj4JAL+MBwMyWgkCPTgJACp+CQOsF+p9Hp4JAS3H6H4WvgkCglP9/wreCQC/jAcDMvoJATYAGQOHGgkCPTgJACs+CQLN/+b8e14JA6wX6n0ffgkAJo/4fXOeCQEtx+h+F74JAaA7/n5n3gkCglP9/wv+CQBX6BWC4BoNAL+MBwMwOg0CPTgJACheDQOsF+p9HH4NAS3H6H4Ung0CglP9/wi+DQC/jAcDMNoNAj04CQAo/g0DrBfqfR0eDQEtx+h+FT4NAoJT/f8JXg0Av4wHAzF6DQI9OAkAKZ4NA6wX6n0dvg0BLcfofhXeDQKCU/3/Cf4NAL+MBwMyGg0CPTgJACo+DQOsF+p9Hl4NAS3H6H4Wfg0CglP9/wqeDQC/jAcDMroNATYAGQOG2g0CPTgJACr+DQLN/+b8ex4NA6wX6n0fPg0AJo/4fXNeDQEtx+h+F34NAaA7/n5nng0CglP9/wu+DQBX6BWC49oNAL+MBwMz+g0BNgAZA4QaEQI9OAkAKD4RAs3/5vx4XhEDrBfqfRx+EQAmj/h9cJ4RAS3H6H4UvhEBoDv+fmTeEQKCU/3/CP4RAFfoFYLhGhEAv4wHAzE6EQE2ABkDhVoRA",
          "dtype": "f8"
         },
         "y": {
          "bdata": "sZsAYEjDVEDgfgIgFcxWQJ4H+5/RlFhAf0Py382VWkD85ChAlNNcQPSo+L8jfV5A6wX6n9dZYECUpwdgHiJhQIsw6v+BrmFAhXAWQMKTYkAlBRbAFEtjQFgD7z+N4mNA5ULlX0srZECglP9/EspkQCF97l/0AmVA0lfrH181ZUDRhg1gW1BlQChPD8C8PGVA/loDAGwSZUA6lQwAFfRkQLFw7Z+C12RAoCrwXypuZEBu0RPgxRpkQDIt+790xmNAwEAQIAM3Y0DaKQyA59xiQN2f5j+/UmJAGyTpPxCeYUDKtOz/EkdhQKTe+H96pWBAS0UZYBU5YEDp9u1/2/FeQC1q5n+o1F1AGN0wwHSmXECqCNxfYqJbQCbZNABlllpA9U31vzdlWUDbJf3/cC9YQDKvAgBwrFdAXHj7/zpiVkAyLfu/tKVVQPcdBYCRwVRAJHQCYB35U0Btf/zfMBFTQIgRBMAfV1JA/fQCYHqlUUD4m/0/1uFQQGM3AcAQPVBANwgIIBSMT0C1JPa/kltOQALk+F82Ok1AS9sJQO07TEA4xfw/e5pLQLQoBUAJgEpATqcKgFDaSUDvuQLAZ79IQBw3BOCCQkhAGxAAoDN5R0C2S/r/4adGQCPL9t/SDUZAkTL7n/BVRUDTAPefKZ1EQFu7BuAT9ENAL+MBwIxjQ0DTqQIgtL9CQClLAEDGWUJAxW4CgCGiQUDCYwXgmx5BQIpz9d9aV0BAs6oMgESNP0BqdP8/618+QGSx6v9eZT1AQREH4NExPEAZQPDfWVs7QCMK8z91FTpASTYNQFnuOEBBkw4gjU04QEil+d8hLTdAsfL0371QNkCoT/a/8YA1QFcf9t/WsTRAirLxP32bM0B/weqfEhEzQI95FQCAFTJAIagBIHoyMUCNAPq/G4swQHop6R9Mfy9AcOAfAIIJLkARG+p/0sksQIXv3P/writAtiMowKh7KkAXNCVA6hIpQMdm5H80AihAJ9Lk/+HKJkAEtAggEMclQKuZ778ZJyVAG/nVf0odJEDAKwOAw0IjQARJAIBhPiJATJj+X1SWIUB5LP8f/I4gQEwDBwADxx9A3wL8Xx1RHkCU/QJgjcgcQIoyB4CrPhxAu/r6HzUDG0Dyl/qfGmIZQAO2+h+diBhAyOQHwNUkF0CeWwSgM2QWQDBh+n9ROxVAZ1IDANklFECMggEA14gTQHVOB0BJ4BJAUtoE4OtoEkATVgLg2lYRQJ7w+/+EiRBA",
          "dtype": "f8"
         }
        },
        {
         "mode": "lines",
         "name": "0.52 μM",
         "type": "scatter",
         "x": {
          "bdata": "CaP+H1y3gECglP9/wr+AQE2ABkDhxoBA6wX6n0fPgEBoDv+fmdeAQC/jAcDM3oBAs3/5vx7ngEBLcfofhe+AQPdcAeCj9oBAj04CQAr/gEAJo/4fXAeBQKCU/3/CD4FATYAGQOEWgUDrBfqfRx+BQGgO/5+ZJ4FAL+MBwMwugUCPTgJACjeBQOsF+p9HP4FAS3H6H4VHgUCglP9/wk+BQC/jAcDMVoFAj04CQApfgUDrBfqfR2eBQEtx+h+Fb4FAoJT/f8J3gUAv4wHAzH6BQLN/+b8eh4FAS3H6H4WPgUD3XAHgo5aBQI9OAkAKn4FACaP+H1yngUCglP9/wq+BQE2ABkDhtoFA6wX6n0e/gUBoDv+fmceBQC/jAcDMzoFAj04CQArXgUDrBfqfR9+BQEtx+h+F54FAoJT/f8LvgUAv4wHAzPaBQI9OAkAK/4FA6wX6n0cHgkBLcfofhQ+CQKCU/3/CF4JAL+MBwMwegkCzf/m/HieCQEtx+h+FL4JA91wB4KM2gkCPTgJACj+CQAmj/h9cR4JAoJT/f8JPgkBNgAZA4VaCQOsF+p9HX4JAaA7/n5lngkAv4wHAzG6CQI9OAkAKd4JA6wX6n0d/gkBLcfofhYeCQKCU/3/Cj4JAL+MBwMyWgkCPTgJACp+CQOsF+p9Hp4JAS3H6H4WvgkCglP9/wreCQC/jAcDMvoJATYAGQOHGgkCPTgJACs+CQLN/+b8e14JA6wX6n0ffgkAJo/4fXOeCQEtx+h+F74JAaA7/n5n3gkCglP9/wv+CQBX6BWC4BoNAL+MBwMwOg0CPTgJACheDQOsF+p9HH4NAS3H6H4Ung0CglP9/wi+DQC/jAcDMNoNAj04CQAo/g0DrBfqfR0eDQEtx+h+FT4NAoJT/f8JXg0Av4wHAzF6DQI9OAkAKZ4NA6wX6n0dvg0BLcfofhXeDQKCU/3/Cf4NAL+MBwMyGg0CPTgJACo+DQOsF+p9Hl4NAS3H6H4Wfg0CglP9/wqeDQC/jAcDMroNATYAGQOG2g0CPTgJACr+DQLN/+b8ex4NA6wX6n0fPg0AJo/4fXNeDQEtx+h+F34NAaA7/n5nng0CglP9/wu+DQBX6BWC49oNAL+MBwMz+g0BNgAZA4QaEQI9OAkAKD4RAs3/5vx4XhEDrBfqfRx+EQAmj/h9cJ4RAS3H6H4UvhEBoDv+fmTeEQKCU/3/CP4RAFfoFYLhGhEAv4wHAzE6EQE2ABkDhVoRA",
          "dtype": "f8"
         },
         "y": {
          "bdata": "jIIBANc4TUBijvU/hnhPQLtlA8DjHlFAAWYAoHGvUkDapwRALE5UQPdcAeAzYVVAeK//3/22VkBlAwIAtORXQI9OAkA6CFlAKSDtfwAEWkCGFRNA1utaQGJOK+D51FtAj+TyH9IzXEDSg8zfzsNcQFgGMMCZEF1ANNL3v8hGXUDXSSKg53JdQBbOJKD4al1A8cgO4GNJXUDBe/3/bhtdQCr0C8BQiFxA1TfV/948XECo0C8AQ8BbQLJEDOBSJltAyU0eYPdlWkD14+Wfzx5aQPNBKiBIEllA/9j7v3BjWEALMAMAzaBXQBsQAKCzBldAX0T8P14qVkDnfARADURVQD8C+7/VhFRAMxUDoOHOU0AfQgGASBxTQKBVAyCwLVJA/TP/v5x2UUCIEQTAX7RQQIzB/V+5HlBAzer8Xx7ETkCMwf1f+d1NQCHn/X8cnExAVmIBwG80S0AQ4PyfpkJKQDnsAIBK/EhAb2P1PydaSEBSMADgmpBHQKvc+p+ya0ZA55T8X+CXRUDsLP7fpudEQLEdCKCDJ0RA+08GYGZzQ0DpYP2fQ+NCQMPh/Z9gd0JAYZIEwHy2QUAOOwCgkhVBQPx2CqA1jUBARsEAgOsEQEAukeq/9+U+QAas6h8jVD5A2df0f5JbPUC9CgDAd008QMsGBADoWTtAxLENYLp0OkDjH/Cf8qM5QIETAqAnwDhAISb6377zN0BZQuufrz83QKrIEQBWhDZA9jX9n+TFNUA+GvPfKJk0QEyY/l9UIDRAQjgLICE1M0CYMP2/qJoyQCSz/r9/tjFAFKjuX5NEMUBPZP+fN34wQNiF3X995S9ADRT8X0M6LkBCUANA9GAtQI3V5v9VbyxAqU4owIedKkBKSSjgS88pQNQ+JQBizShA3LYQYGhqJ0DzQSogSH0mQEPe1R8ffiVAAtAPwFmeJEB1uwHghKcjQJmt/P8mNSNATuf/X7k+IkARHgCAgm0hQJjaAcB5WCBAaeH53ya0H0CvzgagHvMdQOOg/l/nbxxAtx38v0gqG0C9CQdAscUZQMva979bCBlAzzgF4DxwF0CB/ft/4boWQAO2+h+d2hVAjBf5XyjaFEDcDv5fJK0TQAxuBuDoHBNAIs8FYMn0EUDvZABA/0cRQLJu+591exBAjX35/5lCEEB3sw5g9BkOQNfJDGA5Jg1AxPP0PzDjC0D8zAWg5IUKQARx/T93YwlAfI7wP/caCUBuO/h/kaQHQJ+ZB4CPQQdA",
          "dtype": "f8"
         }
        },
        {
         "mode": "lines",
         "name": "0.35 μM",
         "type": "scatter",
         "x": {
          "bdata": "CaP+H1y3gECglP9/wr+AQE2ABkDhxoBA6wX6n0fPgEBoDv+fmdeAQC/jAcDM3oBAs3/5vx7ngEBLcfofhe+AQPdcAeCj9oBAj04CQAr/gEAJo/4fXAeBQKCU/3/CD4FATYAGQOEWgUDrBfqfRx+BQGgO/5+ZJ4FAL+MBwMwugUCPTgJACjeBQOsF+p9HP4FAS3H6H4VHgUCglP9/wk+BQC/jAcDMVoFAj04CQApfgUDrBfqfR2eBQEtx+h+Fb4FAoJT/f8J3gUAv4wHAzH6BQLN/+b8eh4FAS3H6H4WPgUD3XAHgo5aBQI9OAkAKn4FACaP+H1yngUCglP9/wq+BQE2ABkDhtoFA6wX6n0e/gUBoDv+fmceBQC/jAcDMzoFAj04CQArXgUDrBfqfR9+BQEtx+h+F54FAoJT/f8LvgUAv4wHAzPaBQI9OAkAK/4FA6wX6n0cHgkBLcfofhQ+CQKCU/3/CF4JAL+MBwMwegkCzf/m/HieCQEtx+h+FL4JA91wB4KM2gkCPTgJACj+CQAmj/h9cR4JAoJT/f8JPgkBNgAZA4VaCQOsF+p9HX4JAaA7/n5lngkAv4wHAzG6CQI9OAkAKd4JA6wX6n0d/gkBLcfofhYeCQKCU/3/Cj4JAL+MBwMyWgkCPTgJACp+CQOsF+p9Hp4JAS3H6H4WvgkCglP9/wreCQC/jAcDMvoJATYAGQOHGgkCPTgJACs+CQLN/+b8e14JA6wX6n0ffgkAJo/4fXOeCQEtx+h+F74JAaA7/n5n3gkCglP9/wv+CQBX6BWC4BoNAL+MBwMwOg0CPTgJACheDQOsF+p9HH4NAS3H6H4Ung0CglP9/wi+DQC/jAcDMNoNAj04CQAo/g0DrBfqfR0eDQEtx+h+FT4NAoJT/f8JXg0Av4wHAzF6DQI9OAkAKZ4NA6wX6n0dvg0BLcfofhXeDQKCU/3/Cf4NAL+MBwMyGg0CPTgJACo+DQOsF+p9Hl4NAS3H6H4Wfg0CglP9/wqeDQC/jAcDMroNATYAGQOG2g0CPTgJACr+DQLN/+b8ex4NA6wX6n0fPg0AJo/4fXNeDQEtx+h+F34NAaA7/n5nng0CglP9/wu+DQBX6BWC49oNAL+MBwMz+g0BNgAZA4QaEQI9OAkAKD4RAs3/5vx4XhEDrBfqfRx+EQAmj/h9cJ4RAS3H6H4UvhEBoDv+fmTeEQKCU/3/CP4RAFfoFYLhGhEAv4wHAzE6EQE2ABkDhVoRA",
          "dtype": "f8"
         },
         "y": {
          "bdata": "Ljr2PwKjOkC+Re2fIy89QJ4H+5+RAz9AUm/8P73JQEDsrgUgYkdCQJdzCKDBOUNAu7z3P9mQRECZGAWg1ddFQKWuCEDUW0ZAUbIHIFZvR0Ck3vh/+iNIQB6dBIB08UhAedYDIM1ZSUCcYv6f/eFJQLVPCYBY5ElALVb930tBSkCn0f3/LEJKQN1zBYBPOUpAvq/8vwskSkBfg/ifAOZJQLjw9v91d0lADVP4v+UbSUC7vPc/We5IQLJY9X+vJEhAO1IBIDydR0AT6/k/LApHQLnY/t+iMUZA8UYHoKitRUDVDwPAJUBFQG+OCABtUkRACLv2P5+8Q0CIzvjfxvZCQK5RB2AgXkJAIs8FYEmdQUBMQQrgXvFAQLVPCYDYZkBAH5n1//0oP0CpIxUAwvg9QAXbDGBfszxAHV4IIFKMO0Bc4gogY7s6QOGS678xWTlAEcgEgFOuOECI5vD/mcw3QGjj69+zNjZAhIgOYBWZNUAaFA8gKtY0QNBfCSCMLjRAA/cTAKlwM0DbZPlfU20yQMK6+V8R8jFAraj735VzMUAKCf+/PfYwQMdS+9/XPTBAMGH6f1GxL0CdNh3gzfEuQCBpBcBXri1AMAoGAFyxLECRMvufcLQrQLKDCED1nCpAtFDXf0LQKUCb0BxAXEcpQCzYBCAHgihAgGr2Hx2XJ0BrXAcgGAInQIEmHUAaVSZAAjfeXzWrJUCBPhVg7YYkQHX6/T+n5CNArK78X5kVI0DAUwBA2X0iQLqqAKAJ1SFAhS4E4G99IUCWiwDAFHcgQHsP///rACBAc2wA4B/tHkDFb/v/558dQHa1AGCBgxxAn9n8X3huG0AA/waAOT8aQMJjBeAbYBlAdxz6f7lSGEA0PvnfPSYXQOAT+n8mDxZAsoMIQPV0FUCyAvp/ACIUQGfn+l8qsxNAzT//3wakEkD29/m/iM8RQPUO+V+VxBBA0AoHoCNcEEC8Dg9A7nsPQIg6+v87wQ1AOW0PQD9rDEAFMA/gx3EKQCEpEOBuJQpAncrwP/wTCUCF2QFgB40HQBxkCaBVZAZAr7n5/543BUAouxDgMbYDQBce9J9HrgNAnpv5fxyLAkAX3QVAmLABQNW4DkAw0ABA5339v9MwAEBFcOL/HMP/P6tb7N+9h/4/gVMiAG2o/D9l2wRAXrX6P5zO/79yU/o/xpUGwHCN+T+JouyfOm35P2ESGgAr4fY/qI7yHxSs9j+h0OXfxIb1P3uQ4j+EiPQ/",
          "dtype": "f8"
         }
        },
        {
         "mode": "lines",
         "name": "0.17 μM",
         "type": "scatter",
         "x": {
          "bdata": "CaP+H1y3gECglP9/wr+AQE2ABkDhxoBA6wX6n0fPgEBoDv+fmdeAQC/jAcDM3oBAs3/5vx7ngEBLcfofhe+AQPdcAeCj9oBAj04CQAr/gEAJo/4fXAeBQKCU/3/CD4FATYAGQOEWgUDrBfqfRx+BQGgO/5+ZJ4FAL+MBwMwugUCPTgJACjeBQOsF+p9HP4FAS3H6H4VHgUCglP9/wk+BQC/jAcDMVoFAj04CQApfgUDrBfqfR2eBQEtx+h+Fb4FAoJT/f8J3gUAv4wHAzH6BQLN/+b8eh4FAS3H6H4WPgUD3XAHgo5aBQI9OAkAKn4FACaP+H1yngUCglP9/wq+BQE2ABkDhtoFA6wX6n0e/gUBoDv+fmceBQC/jAcDMzoFAj04CQArXgUDrBfqfR9+BQEtx+h+F54FAoJT/f8LvgUAv4wHAzPaBQI9OAkAK/4FA6wX6n0cHgkBLcfofhQ+CQKCU/3/CF4JAL+MBwMwegkCzf/m/HieCQEtx+h+FL4JA91wB4KM2gkCPTgJACj+CQAmj/h9cR4JAoJT/f8JPgkBNgAZA4VaCQOsF+p9HX4JAaA7/n5lngkAv4wHAzG6CQI9OAkAKd4JA6wX6n0d/gkBLcfofhYeCQKCU/3/Cj4JAL+MBwMyWgkCPTgJACp+CQOsF+p9Hp4JAS3H6H4WvgkCglP9/wreCQC/jAcDMvoJATYAGQOHGgkCPTgJACs+CQLN/+b8e14JA6wX6n0ffgkAJo/4fXOeCQEtx+h+F74JAaA7/n5n3gkCglP9/wv+CQBX6BWC4BoNAL+MBwMwOg0CPTgJACheDQOsF+p9HH4NAS3H6H4Ung0CglP9/wi+DQC/jAcDMNoNAj04CQAo/g0DrBfqfR0eDQEtx+h+FT4NAoJT/f8JXg0Av4wHAzF6DQI9OAkAKZ4NA6wX6n0dvg0BLcfofhXeDQKCU/3/Cf4NAL+MBwMyGg0CPTgJACo+DQOsF+p9Hl4NAS3H6H4Wfg0CglP9/wqeDQC/jAcDMroNATYAGQOG2g0CPTgJACr+DQLN/+b8ex4NA6wX6n0fPg0AJo/4fXNeDQEtx+h+F34NAaA7/n5nng0CglP9/wu+DQBX6BWC49oNAL+MBwMz+g0BNgAZA4QaEQI9OAkAKD4RAs3/5vx4XhEDrBfqfRx+EQAmj/h9cJ4RAS3H6H4UvhEBoDv+fmTeEQKCU/3/CP4RAFfoFYLhGhEAv4wHAzE6EQE2ABkDhVoRA",
          "dtype": "f8"
         },
         "y": {
          "bdata": "+NkAILKgI0DJjei/g5AlQI0TFWAOBSdAptUMgCMPKUCB0Pa/ju0qQCjO1X9rYSxADWvw3zhyLkDZLRsAHukvQOWYC+BWpjBA9XgIgH1BMUAI+vKfwYYxQIyCAQDXiDJALjr2PwLEMkBEngvAkgUzQDZjCyAAUjNA6KMIgFxMM0ALb/9frzczQBYhCqD3WTNABAfuH483M0BHfvWf0v0yQDLD659MwzJAi0cUICuVMkBS2QtgJSMyQDkr/d9suDFAfrEQgCxYMUBHP/k/sOgwQBFG/T+YizBAmhMoIPXGL0AyhO8/KuAuQM0p+b/AiS1AmUDX3461LEDRmvb/N7krQLXNAUAduCpAXM4hgAaZKUDMFt4fzpkoQHY25J8ZFihA3Iv9n6IcJ0CJ4ROAuSsmQOVFJuDXaCVAFLzX/+90JEDGKv4fwmQjQG77AqCorCJAARH+Hwk7IkAJTQMgnUQhQJ/YA+CxlyBA0Lb9n4H6H0DCuvlfEUweQEws/T/fTh1AAKoEANGkHEAhU/+fEbQbQCd+BoCcdRpAs0D9X1xXGUD0Uv2/9EIZQETHAQBvMRhAzvoBAOFcF0BOfPe/CskWQHq/BIDAuxVAiTgIAK+tFUDBkvyf+7YUQI1UA8C9DBRAuij5X06BE0AjiwEAas4SQDqA/1/VIhJANU7+f4CzEUDAqfs/CPwQQHCg/588WhBAyc0IIMnBD0DFMP+fxd0OQHOBDYCfRg1AqbgMYBO3DEC6agvAIMQLQKwr/J8XJAtAoVD7H/NgCUD9ngdgy28IQK1/BaC5dQdAtHwOQCvnBkAu6AnASTsGQGyEBOAtFQVAMV4PAP48BEAwoe9fOlgDQL0IDsDqrgJA8IoLAIjFAUB06Aag12cBQGo1A+DIIQBAJ34GgJwTAEBwjBYA4JH+P2MNEgDuavw/3gUSYM1b+z8XnOxfjGr6P0Vv6X9WhPg/X+zjv0Vx9z9/WhwAN1T3P5Ja+F+GBfc/1H4a4EoK9T9WOBIAzZT0P7Hy9N+9ivI/E1YC4Nok8j/BpwlAeyzxP4peE8A39/A//mn6X/vY7z96yAVABNjvP98Q+j/mF+4/lwwEoFFD7T8M/gAgtaXqP6Z9/9/CTeo/0i38X/xs6j920fwfE+HmP4YOBIAfUOY/NNr//0Xo5T+Yhf8/ERXnP+eG/n8X0+U/Ztb8PyEH4j9/KwWgssrhP+Dd/t9HC+I/+oz7/w524T/mawYgBKDgPyut/D/51d8/",
          "dtype": "f8"
         }
        },
        {
         "mode": "lines",
         "name": "0.09 μM",
         "type": "scatter",
         "x": {
          "bdata": "CaP+H1y3gECglP9/wr+AQE2ABkDhxoBA6wX6n0fPgEBoDv+fmdeAQC/jAcDM3oBAs3/5vx7ngEBLcfofhe+AQPdcAeCj9oBAj04CQAr/gEAJo/4fXAeBQKCU/3/CD4FATYAGQOEWgUDrBfqfRx+BQGgO/5+ZJ4FAL+MBwMwugUCPTgJACjeBQOsF+p9HP4FAS3H6H4VHgUCglP9/wk+BQC/jAcDMVoFAj04CQApfgUDrBfqfR2eBQEtx+h+Fb4FAoJT/f8J3gUAv4wHAzH6BQLN/+b8eh4FAS3H6H4WPgUD3XAHgo5aBQI9OAkAKn4FACaP+H1yngUCglP9/wq+BQE2ABkDhtoFA6wX6n0e/gUBoDv+fmceBQC/jAcDMzoFAj04CQArXgUDrBfqfR9+BQEtx+h+F54FAoJT/f8LvgUAv4wHAzPaBQI9OAkAK/4FA6wX6n0cHgkBLcfofhQ+CQKCU/3/CF4JAL+MBwMwegkCzf/m/HieCQEtx+h+FL4JA91wB4KM2gkCPTgJACj+CQAmj/h9cR4JAoJT/f8JPgkBNgAZA4VaCQOsF+p9HX4JAaA7/n5lngkAv4wHAzG6CQI9OAkAKd4JA6wX6n0d/gkBLcfofhYeCQKCU/3/Cj4JAL+MBwMyWgkCPTgJACp+CQOsF+p9Hp4JAS3H6H4WvgkCglP9/wreCQC/jAcDMvoJATYAGQOHGgkCPTgJACs+CQLN/+b8e14JA6wX6n0ffgkAJo/4fXOeCQEtx+h+F74JAaA7/n5n3gkCglP9/wv+CQBX6BWC4BoNAL+MBwMwOg0CPTgJACheDQOsF+p9HH4NAS3H6H4Ung0CglP9/wi+DQC/jAcDMNoNAj04CQAo/g0DrBfqfR0eDQEtx+h+FT4NAoJT/f8JXg0Av4wHAzF6DQI9OAkAKZ4NA6wX6n0dvg0BLcfofhXeDQKCU/3/Cf4NAL+MBwMyGg0CPTgJACo+DQOsF+p9Hl4NAS3H6H4Wfg0CglP9/wqeDQC/jAcDMroNATYAGQOG2g0CPTgJACr+DQLN/+b8ex4NA6wX6n0fPg0AJo/4fXNeDQEtx+h+F34NAaA7/n5nng0CglP9/wu+DQBX6BWC49oNAL+MBwMz+g0BNgAZA4QaEQI9OAkAKD4RAs3/5vx4XhEDrBfqfRx+EQAmj/h9cJ4RAS3H6H4UvhEBoDv+fmTeEQKCU/3/CP4RAFfoFYLhGhEAv4wHAzE6EQE2ABkDhVoRA",
          "dtype": "f8"
         },
         "y": {
          "bdata": "/4EHQLt9F0C9SAOg02EZQIGmBwDsUBtA7/j+H4qcHUAfrgKgfRcgQCF7/F8nyyBAv0ICINCyIUBOkv3fULkiQIM1/t85aiNA1FIOoL4vJECczdu/T9QkQPZ0+f8GLSVAI9/ff6/VJUBTf9ZfI28mQHZ14P87kCZA2Fn8v02FJkDkXR4Aq8ImQDGfKOAJiSZALMQbgKpHJkBU/AAg/iQmQInNKuBcJyZAHvMqAABtJUB6VPzfES0lQJ1KBoAqqiRABBvXv+s9JECemgAAVr8jQP3e/D+0FiNAZPID4GqrIkDTVACgSwYiQI1V/D+ENyFAJgIAwOTMIEDGfwCgKgcgQB7FAUCKWB9AazD734t1HUBnvgQgTqkcQI5m+l+NextAAk4IgJ66GkDgvvf/vQ4aQGAA+N/+gRhA4iIGoKKHF0BnkvjfwZoWQEfT9x87XRVAQREH4NH4FECY8QBghu4TQP7GBCDhvBJALnwIoNSZEkAVefefs20RQIJiA6CMHBFAPsgGYHBAEEAf1/jfWQMQQIwB8z/i5w5AVvf4H8GmDUBiTgBgnQANQF0z/h9V5AtACJAOADb7CkC47gQAaaUKQFB1/b9AkQlA5W7xn1eMCEDESPe/mJ8HQHtm83/hpQdAecLv/xM2BkBWtwNA2JcFQFv7+7/8cwVAjqbvP3ZKBEAUkwxAcIcDQFCLA+CG8QJAVOb6/7ekAkDKR/Jfl94BQPb3+b+IZQFAZykNwPy1AEAokP0fbCwAQIXE9L+Hu/4/t17qH/gb/j8UqeffWcP9P7Y19N8bjPw/r84GoB75+j+MbR/gsxf5P0WFGiD5vPc/bC4J4P6F9z/0EwFg0r72P8NKFECCwfU/YNQWIM/D9D/jDACAXD30P1z45b9Mu/M/BxLrv5Si8j8IzuZfNQDyP8ij7t/JUvE/JhcNYGQW8D9GNgNgJFrvPyQaA8Bvmu0/BqUG4MiP7D/Wwv2fgr3pPyJS+z+Tdeo/ToD7X8nU6T+DPv+ffXvnPzKQ+x9mE+c/qk3536xi5j9o0wbgFSvkP/je/T83reM/Nuv9H0+u4j9rK/6/Bi3iP31V/z8NqeE/AxwGoMYW4D8Qi/ofvsbhP7ZP/p8g4N8/KFoCgI3K3T/4NwRgXr3cP/y89R/q3ts/oJgDIBEj3z9B0wMAdufZP3ow+N8C3NY/CV8FoCSA1T9CKfQf7XbWP4f48n8hNNg/EtAB4Bhd1T9gofsfjHLXP2QX9n+IINM/",
          "dtype": "f8"
         }
        }
       ],
       "layout": {
        "font": {
         "size": 14
        },
        "height": 600,
        "legend": {
         "x": 0.9,
         "y": 0.9
        },
        "template": {
         "data": {
          "bar": [
           {
            "error_x": {
             "color": "#2a3f5f"
            },
            "error_y": {
             "color": "#2a3f5f"
            },
            "marker": {
             "line": {
              "color": "#E5ECF6",
              "width": 0.5
             },
             "pattern": {
              "fillmode": "overlay",
              "size": 10,
              "solidity": 0.2
             }
            },
            "type": "bar"
           }
          ],
          "barpolar": [
           {
            "marker": {
             "line": {
              "color": "#E5ECF6",
              "width": 0.5
             },
             "pattern": {
              "fillmode": "overlay",
              "size": 10,
              "solidity": 0.2
             }
            },
            "type": "barpolar"
           }
          ],
          "carpet": [
           {
            "aaxis": {
             "endlinecolor": "#2a3f5f",
             "gridcolor": "white",
             "linecolor": "white",
             "minorgridcolor": "white",
             "startlinecolor": "#2a3f5f"
            },
            "baxis": {
             "endlinecolor": "#2a3f5f",
             "gridcolor": "white",
             "linecolor": "white",
             "minorgridcolor": "white",
             "startlinecolor": "#2a3f5f"
            },
            "type": "carpet"
           }
          ],
          "choropleth": [
           {
            "colorbar": {
             "outlinewidth": 0,
             "ticks": ""
            },
            "type": "choropleth"
           }
          ],
          "contour": [
           {
            "colorbar": {
             "outlinewidth": 0,
             "ticks": ""
            },
            "colorscale": [
             [
              0,
              "#0d0887"
             ],
             [
              0.1111111111111111,
              "#46039f"
             ],
             [
              0.2222222222222222,
              "#7201a8"
             ],
             [
              0.3333333333333333,
              "#9c179e"
             ],
             [
              0.4444444444444444,
              "#bd3786"
             ],
             [
              0.5555555555555556,
              "#d8576b"
             ],
             [
              0.6666666666666666,
              "#ed7953"
             ],
             [
              0.7777777777777778,
              "#fb9f3a"
             ],
             [
              0.8888888888888888,
              "#fdca26"
             ],
             [
              1,
              "#f0f921"
             ]
            ],
            "type": "contour"
           }
          ],
          "contourcarpet": [
           {
            "colorbar": {
             "outlinewidth": 0,
             "ticks": ""
            },
            "type": "contourcarpet"
           }
          ],
          "heatmap": [
           {
            "colorbar": {
             "outlinewidth": 0,
             "ticks": ""
            },
            "colorscale": [
             [
              0,
              "#0d0887"
             ],
             [
              0.1111111111111111,
              "#46039f"
             ],
             [
              0.2222222222222222,
              "#7201a8"
             ],
             [
              0.3333333333333333,
              "#9c179e"
             ],
             [
              0.4444444444444444,
              "#bd3786"
             ],
             [
              0.5555555555555556,
              "#d8576b"
             ],
             [
              0.6666666666666666,
              "#ed7953"
             ],
             [
              0.7777777777777778,
              "#fb9f3a"
             ],
             [
              0.8888888888888888,
              "#fdca26"
             ],
             [
              1,
              "#f0f921"
             ]
            ],
            "type": "heatmap"
           }
          ],
          "histogram": [
           {
            "marker": {
             "pattern": {
              "fillmode": "overlay",
              "size": 10,
              "solidity": 0.2
             }
            },
            "type": "histogram"
           }
          ],
          "histogram2d": [
           {
            "colorbar": {
             "outlinewidth": 0,
             "ticks": ""
            },
            "colorscale": [
             [
              0,
              "#0d0887"
             ],
             [
              0.1111111111111111,
              "#46039f"
             ],
             [
              0.2222222222222222,
              "#7201a8"
             ],
             [
              0.3333333333333333,
              "#9c179e"
             ],
             [
              0.4444444444444444,
              "#bd3786"
             ],
             [
              0.5555555555555556,
              "#d8576b"
             ],
             [
              0.6666666666666666,
              "#ed7953"
             ],
             [
              0.7777777777777778,
              "#fb9f3a"
             ],
             [
              0.8888888888888888,
              "#fdca26"
             ],
             [
              1,
              "#f0f921"
             ]
            ],
            "type": "histogram2d"
           }
          ],
          "histogram2dcontour": [
           {
            "colorbar": {
             "outlinewidth": 0,
             "ticks": ""
            },
            "colorscale": [
             [
              0,
              "#0d0887"
             ],
             [
              0.1111111111111111,
              "#46039f"
             ],
             [
              0.2222222222222222,
              "#7201a8"
             ],
             [
              0.3333333333333333,
              "#9c179e"
             ],
             [
              0.4444444444444444,
              "#bd3786"
             ],
             [
              0.5555555555555556,
              "#d8576b"
             ],
             [
              0.6666666666666666,
              "#ed7953"
             ],
             [
              0.7777777777777778,
              "#fb9f3a"
             ],
             [
              0.8888888888888888,
              "#fdca26"
             ],
             [
              1,
              "#f0f921"
             ]
            ],
            "type": "histogram2dcontour"
           }
          ],
          "mesh3d": [
           {
            "colorbar": {
             "outlinewidth": 0,
             "ticks": ""
            },
            "type": "mesh3d"
           }
          ],
          "parcoords": [
           {
            "line": {
             "colorbar": {
              "outlinewidth": 0,
              "ticks": ""
             }
            },
            "type": "parcoords"
           }
          ],
          "pie": [
           {
            "automargin": true,
            "type": "pie"
           }
          ],
          "scatter": [
           {
            "fillpattern": {
             "fillmode": "overlay",
             "size": 10,
             "solidity": 0.2
            },
            "type": "scatter"
           }
          ],
          "scatter3d": [
           {
            "line": {
             "colorbar": {
              "outlinewidth": 0,
              "ticks": ""
             }
            },
            "marker": {
             "colorbar": {
              "outlinewidth": 0,
              "ticks": ""
             }
            },
            "type": "scatter3d"
           }
          ],
          "scattercarpet": [
           {
            "marker": {
             "colorbar": {
              "outlinewidth": 0,
              "ticks": ""
             }
            },
            "type": "scattercarpet"
           }
          ],
          "scattergeo": [
           {
            "marker": {
             "colorbar": {
              "outlinewidth": 0,
              "ticks": ""
             }
            },
            "type": "scattergeo"
           }
          ],
          "scattergl": [
           {
            "marker": {
             "colorbar": {
              "outlinewidth": 0,
              "ticks": ""
             }
            },
            "type": "scattergl"
           }
          ],
          "scattermap": [
           {
            "marker": {
             "colorbar": {
              "outlinewidth": 0,
              "ticks": ""
             }
            },
            "type": "scattermap"
           }
          ],
          "scattermapbox": [
           {
            "marker": {
             "colorbar": {
              "outlinewidth": 0,
              "ticks": ""
             }
            },
            "type": "scattermapbox"
           }
          ],
          "scatterpolar": [
           {
            "marker": {
             "colorbar": {
              "outlinewidth": 0,
              "ticks": ""
             }
            },
            "type": "scatterpolar"
           }
          ],
          "scatterpolargl": [
           {
            "marker": {
             "colorbar": {
              "outlinewidth": 0,
              "ticks": ""
             }
            },
            "type": "scatterpolargl"
           }
          ],
          "scatterternary": [
           {
            "marker": {
             "colorbar": {
              "outlinewidth": 0,
              "ticks": ""
             }
            },
            "type": "scatterternary"
           }
          ],
          "surface": [
           {
            "colorbar": {
             "outlinewidth": 0,
             "ticks": ""
            },
            "colorscale": [
             [
              0,
              "#0d0887"
             ],
             [
              0.1111111111111111,
              "#46039f"
             ],
             [
              0.2222222222222222,
              "#7201a8"
             ],
             [
              0.3333333333333333,
              "#9c179e"
             ],
             [
              0.4444444444444444,
              "#bd3786"
             ],
             [
              0.5555555555555556,
              "#d8576b"
             ],
             [
              0.6666666666666666,
              "#ed7953"
             ],
             [
              0.7777777777777778,
              "#fb9f3a"
             ],
             [
              0.8888888888888888,
              "#fdca26"
             ],
             [
              1,
              "#f0f921"
             ]
            ],
            "type": "surface"
           }
          ],
          "table": [
           {
            "cells": {
             "fill": {
              "color": "#EBF0F8"
             },
             "line": {
              "color": "white"
             }
            },
            "header": {
             "fill": {
              "color": "#C8D4E3"
             },
             "line": {
              "color": "white"
             }
            },
            "type": "table"
           }
          ]
         },
         "layout": {
          "annotationdefaults": {
           "arrowcolor": "#2a3f5f",
           "arrowhead": 0,
           "arrowwidth": 1
          },
          "autotypenumbers": "strict",
          "coloraxis": {
           "colorbar": {
            "outlinewidth": 0,
            "ticks": ""
           }
          },
          "colorscale": {
           "diverging": [
            [
             0,
             "#8e0152"
            ],
            [
             0.1,
             "#c51b7d"
            ],
            [
             0.2,
             "#de77ae"
            ],
            [
             0.3,
             "#f1b6da"
            ],
            [
             0.4,
             "#fde0ef"
            ],
            [
             0.5,
             "#f7f7f7"
            ],
            [
             0.6,
             "#e6f5d0"
            ],
            [
             0.7,
             "#b8e186"
            ],
            [
             0.8,
             "#7fbc41"
            ],
            [
             0.9,
             "#4d9221"
            ],
            [
             1,
             "#276419"
            ]
           ],
           "sequential": [
            [
             0,
             "#0d0887"
            ],
            [
             0.1111111111111111,
             "#46039f"
            ],
            [
             0.2222222222222222,
             "#7201a8"
            ],
            [
             0.3333333333333333,
             "#9c179e"
            ],
            [
             0.4444444444444444,
             "#bd3786"
            ],
            [
             0.5555555555555556,
             "#d8576b"
            ],
            [
             0.6666666666666666,
             "#ed7953"
            ],
            [
             0.7777777777777778,
             "#fb9f3a"
            ],
            [
             0.8888888888888888,
             "#fdca26"
            ],
            [
             1,
             "#f0f921"
            ]
           ],
           "sequentialminus": [
            [
             0,
             "#0d0887"
            ],
            [
             0.1111111111111111,
             "#46039f"
            ],
            [
             0.2222222222222222,
             "#7201a8"
            ],
            [
             0.3333333333333333,
             "#9c179e"
            ],
            [
             0.4444444444444444,
             "#bd3786"
            ],
            [
             0.5555555555555556,
             "#d8576b"
            ],
            [
             0.6666666666666666,
             "#ed7953"
            ],
            [
             0.7777777777777778,
             "#fb9f3a"
            ],
            [
             0.8888888888888888,
             "#fdca26"
            ],
            [
             1,
             "#f0f921"
            ]
           ]
          },
          "colorway": [
           "#636efa",
           "#EF553B",
           "#00cc96",
           "#ab63fa",
           "#FFA15A",
           "#19d3f3",
           "#FF6692",
           "#B6E880",
           "#FF97FF",
           "#FECB52"
          ],
          "font": {
           "color": "#2a3f5f"
          },
          "geo": {
           "bgcolor": "white",
           "lakecolor": "white",
           "landcolor": "#E5ECF6",
           "showlakes": true,
           "showland": true,
           "subunitcolor": "white"
          },
          "hoverlabel": {
           "align": "left"
          },
          "hovermode": "closest",
          "mapbox": {
           "style": "light"
          },
          "paper_bgcolor": "white",
          "plot_bgcolor": "#E5ECF6",
          "polar": {
           "angularaxis": {
            "gridcolor": "white",
            "linecolor": "white",
            "ticks": ""
           },
           "bgcolor": "#E5ECF6",
           "radialaxis": {
            "gridcolor": "white",
            "linecolor": "white",
            "ticks": ""
           }
          },
          "scene": {
           "xaxis": {
            "backgroundcolor": "#E5ECF6",
            "gridcolor": "white",
            "gridwidth": 2,
            "linecolor": "white",
            "showbackground": true,
            "ticks": "",
            "zerolinecolor": "white"
           },
           "yaxis": {
            "backgroundcolor": "#E5ECF6",
            "gridcolor": "white",
            "gridwidth": 2,
            "linecolor": "white",
            "showbackground": true,
            "ticks": "",
            "zerolinecolor": "white"
           },
           "zaxis": {
            "backgroundcolor": "#E5ECF6",
            "gridcolor": "white",
            "gridwidth": 2,
            "linecolor": "white",
            "showbackground": true,
            "ticks": "",
            "zerolinecolor": "white"
           }
          },
          "shapedefaults": {
           "line": {
            "color": "#2a3f5f"
           }
          },
          "ternary": {
           "aaxis": {
            "gridcolor": "white",
            "linecolor": "white",
            "ticks": ""
           },
           "baxis": {
            "gridcolor": "white",
            "linecolor": "white",
            "ticks": ""
           },
           "bgcolor": "#E5ECF6",
           "caxis": {
            "gridcolor": "white",
            "linecolor": "white",
            "ticks": ""
           }
          },
          "title": {
           "x": 0.05
          },
          "xaxis": {
           "automargin": true,
           "gridcolor": "white",
           "linecolor": "white",
           "ticks": "",
           "title": {
            "standoff": 15
           },
           "zerolinecolor": "white",
           "zerolinewidth": 2
          },
          "yaxis": {
           "automargin": true,
           "gridcolor": "white",
           "linecolor": "white",
           "ticks": "",
           "title": {
            "standoff": 15
           },
           "zerolinecolor": "white",
           "zerolinewidth": 2
          }
         }
        },
        "width": 800,
        "xaxis": {
         "title": {
          "text": "Wavelength (nm)"
         }
        },
        "yaxis": {
         "range": [
          0,
          1000
         ],
         "title": {
          "text": "Intensity (a.u.)"
         }
        }
       }
      }
     },
     "metadata": {},
     "output_type": "display_data"
    }
   ],
   "source": [
    "fig = go.Figure()\n",
    "\n",
    "for λ_col, I_col, c in zip(WAVELENGHTS, INTENSITIES,CONCENTRATIONS):\n",
    "    fig.add_trace(go.Scatter(x=data[λ_col],y= data[I_col],\n",
    "                    mode='lines',\n",
    "                    name=f'{np.round(c,2)} μM'))\n",
    "\n",
    "fig.update_layout(\n",
    "                  xaxis_title='Wavelength (nm)',\n",
    "                  yaxis_title='Intensity (a.u.)',\n",
    "                  height=600,\n",
    "                  width=800,\n",
    "                  yaxis=dict(range=[0, 1000]),\n",
    "                  legend=dict(x=0.9, y=0.9),\n",
    "                  font=dict(size=14))\n",
    "\n",
    "\n",
    "fig.show()"
   ]
  },
  {
   "cell_type": "markdown",
   "metadata": {},
   "source": [
    "segue fit parabolico dei picchi dello spettro, vengono considerati solo i 5 punti a destra e 5 a sinistra del punto massimo dello spettro\n",
    "\n",
    "segue l'estrapolazione del valore di Imax"
   ]
  },
  {
   "cell_type": "code",
   "execution_count": 11,
   "metadata": {},
   "outputs": [
    {
     "name": "stdout",
     "output_type": "stream",
     "text": [
      "Tabella con i fit di tutti i picchi delle parabole\n"
     ]
    },
    {
     "data": {
      "text/html": [
       "<div>\n",
       "<style scoped>\n",
       "    .dataframe tbody tr th:only-of-type {\n",
       "        vertical-align: middle;\n",
       "    }\n",
       "\n",
       "    .dataframe tbody tr th {\n",
       "        vertical-align: top;\n",
       "    }\n",
       "\n",
       "    .dataframe thead th {\n",
       "        text-align: right;\n",
       "    }\n",
       "</style>\n",
       "<table border=\"1\" class=\"dataframe\">\n",
       "  <thead>\n",
       "    <tr style=\"text-align: right;\">\n",
       "      <th></th>\n",
       "      <th>Concentration (μM)</th>\n",
       "      <th>λcenter</th>\n",
       "      <th>a</th>\n",
       "      <th>IMAX</th>\n",
       "      <th>error_λcenter</th>\n",
       "      <th>error_a</th>\n",
       "      <th>error_IMAX</th>\n",
       "    </tr>\n",
       "  </thead>\n",
       "  <tbody>\n",
       "    <tr>\n",
       "      <th>0</th>\n",
       "      <td>4.697536</td>\n",
       "      <td>554.044219</td>\n",
       "      <td>2.442431</td>\n",
       "      <td>940.693325</td>\n",
       "      <td>0.274804</td>\n",
       "      <td>0.443226</td>\n",
       "      <td>1.342285</td>\n",
       "    </tr>\n",
       "    <tr>\n",
       "      <th>1</th>\n",
       "      <td>3.451315</td>\n",
       "      <td>553.742124</td>\n",
       "      <td>2.156915</td>\n",
       "      <td>819.968625</td>\n",
       "      <td>0.285710</td>\n",
       "      <td>0.435038</td>\n",
       "      <td>1.546347</td>\n",
       "    </tr>\n",
       "    <tr>\n",
       "      <th>2</th>\n",
       "      <td>2.577897</td>\n",
       "      <td>552.758972</td>\n",
       "      <td>1.744154</td>\n",
       "      <td>718.450202</td>\n",
       "      <td>0.067448</td>\n",
       "      <td>0.081499</td>\n",
       "      <td>0.254055</td>\n",
       "    </tr>\n",
       "    <tr>\n",
       "      <th>3</th>\n",
       "      <td>1.710048</td>\n",
       "      <td>551.865053</td>\n",
       "      <td>1.027011</td>\n",
       "      <td>492.753337</td>\n",
       "      <td>0.074358</td>\n",
       "      <td>0.052306</td>\n",
       "      <td>0.178710</td>\n",
       "    </tr>\n",
       "    <tr>\n",
       "      <th>4</th>\n",
       "      <td>0.856725</td>\n",
       "      <td>551.494151</td>\n",
       "      <td>0.503627</td>\n",
       "      <td>238.703070</td>\n",
       "      <td>0.147158</td>\n",
       "      <td>0.053501</td>\n",
       "      <td>0.250304</td>\n",
       "    </tr>\n",
       "    <tr>\n",
       "      <th>5</th>\n",
       "      <td>0.689649</td>\n",
       "      <td>551.279005</td>\n",
       "      <td>0.386982</td>\n",
       "      <td>170.262114</td>\n",
       "      <td>0.137228</td>\n",
       "      <td>0.036855</td>\n",
       "      <td>0.180003</td>\n",
       "    </tr>\n",
       "    <tr>\n",
       "      <th>6</th>\n",
       "      <td>0.517122</td>\n",
       "      <td>551.307117</td>\n",
       "      <td>0.243386</td>\n",
       "      <td>117.772112</td>\n",
       "      <td>0.080942</td>\n",
       "      <td>0.013286</td>\n",
       "      <td>0.070467</td>\n",
       "    </tr>\n",
       "    <tr>\n",
       "      <th>7</th>\n",
       "      <td>0.345093</td>\n",
       "      <td>551.090509</td>\n",
       "      <td>0.101588</td>\n",
       "      <td>52.545366</td>\n",
       "      <td>0.128419</td>\n",
       "      <td>0.009120</td>\n",
       "      <td>0.057811</td>\n",
       "    </tr>\n",
       "    <tr>\n",
       "      <th>8</th>\n",
       "      <td>0.172546</td>\n",
       "      <td>550.856778</td>\n",
       "      <td>0.031331</td>\n",
       "      <td>19.321189</td>\n",
       "      <td>0.203719</td>\n",
       "      <td>0.004558</td>\n",
       "      <td>0.033509</td>\n",
       "    </tr>\n",
       "    <tr>\n",
       "      <th>9</th>\n",
       "      <td>0.086417</td>\n",
       "      <td>550.925065</td>\n",
       "      <td>0.024793</td>\n",
       "      <td>11.330715</td>\n",
       "      <td>0.231624</td>\n",
       "      <td>0.004218</td>\n",
       "      <td>0.036550</td>\n",
       "    </tr>\n",
       "  </tbody>\n",
       "</table>\n",
       "</div>"
      ],
      "text/plain": [
       "   Concentration (μM)     λcenter         a        IMAX  error_λcenter  \\\n",
       "0            4.697536  554.044219  2.442431  940.693325       0.274804   \n",
       "1            3.451315  553.742124  2.156915  819.968625       0.285710   \n",
       "2            2.577897  552.758972  1.744154  718.450202       0.067448   \n",
       "3            1.710048  551.865053  1.027011  492.753337       0.074358   \n",
       "4            0.856725  551.494151  0.503627  238.703070       0.147158   \n",
       "5            0.689649  551.279005  0.386982  170.262114       0.137228   \n",
       "6            0.517122  551.307117  0.243386  117.772112       0.080942   \n",
       "7            0.345093  551.090509  0.101588   52.545366       0.128419   \n",
       "8            0.172546  550.856778  0.031331   19.321189       0.203719   \n",
       "9            0.086417  550.925065  0.024793   11.330715       0.231624   \n",
       "\n",
       "    error_a  error_IMAX  \n",
       "0  0.443226    1.342285  \n",
       "1  0.435038    1.546347  \n",
       "2  0.081499    0.254055  \n",
       "3  0.052306    0.178710  \n",
       "4  0.053501    0.250304  \n",
       "5  0.036855    0.180003  \n",
       "6  0.013286    0.070467  \n",
       "7  0.009120    0.057811  \n",
       "8  0.004558    0.033509  \n",
       "9  0.004218    0.036550  "
      ]
     },
     "metadata": {},
     "output_type": "display_data"
    }
   ],
   "source": [
    "λcenter_list = []\n",
    "a_list = []\n",
    "IMAX_list = []\n",
    "error_λcenter_list = []\n",
    "error_a_list = []\n",
    "error_IMAX_list = []\n",
    "sigmay = [] # contiene l'errore propagato con x\n",
    "for λ_col, I_col in zip(WAVELENGHTS, INTENSITIES):\n",
    "    Λ = data[λ_col]\n",
    "    I = data[I_col]\n",
    "    Λmaxcenter = I.idxmax()\n",
    "\n",
    "    λcenter = Λ[Λmaxcenter] # guess\n",
    "    IMAX = I.max() # guess\n",
    "    a = 1 # guess\n",
    "\n",
    "    xrangemax = Λ[Λmaxcenter-5:Λmaxcenter+5] # 10 points around the max\n",
    "    yrangemax = I[Λmaxcenter-5:Λmaxcenter+5] # 10 points around the max\n",
    "    # ---- per considerare errore su lambda di 1.5nm\n",
    "    # iterazione 0\n",
    "    popt, pcov = curve_fit(max_fit_parabolic, xrangemax, yrangemax, p0=[λcenter, a, IMAX])\n",
    "    λcenter, a, IMAX = popt\n",
    "    error_λcenter, error_a, error_IMAX = np.sqrt(np.diag(pcov))\n",
    "    # iterazione 1\n",
    "    dydl = np.abs(-2*a*(λcenter-xrangemax)) # derivata prima rispetto a λ\n",
    "    sy = dydl*SIGMA_LAMBDA\n",
    "    popt, pcov = curve_fit(max_fit_parabolic, xrangemax, yrangemax, p0=[λcenter, a, IMAX],sigma=sy)\n",
    "    λcenter, a, IMAX = popt\n",
    "    error_λcenter, error_a, error_IMAX = np.sqrt(np.diag(pcov))\n",
    "    # iterazione 2\n",
    "    d2ydl2 = np.abs(-2*a) # derivata seconda rispetto a λ\n",
    "    sy = np.sqrt((dydl*SIGMA_LAMBDA)**2 + (0.5*d2ydl2*SIGMA_LAMBDA**2)) # errore propagato\n",
    "    popt, pcov = curve_fit(max_fit_parabolic, xrangemax, yrangemax, p0=[λcenter, a, IMAX],sigma=sy)\n",
    "    λcenter, a, IMAX = popt\n",
    "    error_λcenter, error_a, error_IMAX = np.sqrt(np.diag(pcov))\n",
    "\n",
    "    λcenter_list.append(λcenter)\n",
    "    a_list.append(a)\n",
    "    IMAX_list.append(IMAX)\n",
    "    error_λcenter_list.append(error_λcenter)\n",
    "    error_a_list.append(error_a)\n",
    "    error_IMAX_list.append(error_IMAX)\n",
    "    sigmay.append(sy)\n",
    "\n",
    "# to numpy\n",
    "λcenter_list = np.array(λcenter_list)\n",
    "a_list = np.array(a_list)\n",
    "IMAX_list = np.array(IMAX_list)\n",
    "error_λcenter_list = np.array(error_λcenter_list)\n",
    "error_a_list = np.array(error_a_list)\n",
    "error_IMAX_list = np.array(error_IMAX_list)\n",
    "sigmay = np.array(sigmay)\n",
    "\n",
    "print('Tabella con i fit di tutti i picchi delle parabole')\n",
    "max_fit_parabolic_dataframe = pd.DataFrame({'Concentration (μM)': CONCENTRATIONS, 'λcenter': λcenter_list, 'a': a_list, 'IMAX': IMAX_list, 'error_λcenter': error_λcenter_list, 'error_a': error_a_list, 'error_IMAX': error_IMAX_list})\n",
    "display(max_fit_parabolic_dataframe)\n"
   ]
  },
  {
   "cell_type": "code",
   "execution_count": 12,
   "metadata": {},
   "outputs": [
    {
     "name": "stdout",
     "output_type": "stream",
     "text": [
      "λcenter = 551.94 ± 1.11 nm\n",
      "NOTA: sigmaLambda dichiarata dal costruttore vale 1.5nm e quindi è compatibile con il valore di sigma trovato\n"
     ]
    }
   ],
   "source": [
    "center = np.mean(λcenter_list)\n",
    "sigma = np.std(λcenter_list)\n",
    "print('λcenter =', final_val(center, sigma, udm='nm'))\n",
    "print('NOTA: sigmaLambda dichiarata dal costruttore vale 1.5nm e quindi è compatibile con il valore di sigma trovato')"
   ]
  },
  {
   "cell_type": "code",
   "execution_count": 13,
   "metadata": {},
   "outputs": [
    {
     "data": {
      "application/vnd.plotly.v1+json": {
       "config": {
        "plotlyServerURL": "https://plot.ly"
       },
       "data": [
        {
         "mode": "lines",
         "name": "4.7 μM",
         "type": "scatter",
         "x": {
          "bdata": "fi0BG3+mgEAVHwJ75a6AQMIKCTsEtoBAYJD8mmq+gEDdmAGbvMaAQKRtBLvvzYBAKAr8ukHWgEDA+/waqN6AQGznA9vG5YBABNkEOy3ugEB+LQEbf/aAQBUfAnvl/oBAwgoJOwQGgUBgkPyaag6BQN2YAZu8FoFApG0Eu+8dgUAE2QQ7LSaBQGCQ/JpqLoFAwPv8Gqg2gUAVHwJ75T6BQKRtBLvvRYFABNkEOy1OgUBgkPyaalaBQMD7/BqoXoFAFR8Ce+VmgUCkbQS7722BQCgK/LpBdoFAwPv8Gqh+gUBs5wPbxoWBQATZBDstjoFAfi0BG3+WgUAVHwJ75Z6BQMIKCTsEpoFAYJD8mmqugUDdmAGbvLaBQKRtBLvvvYFABNkEOy3GgUBgkPyaas6BQMD7/Bqo1oFAFR8Ce+XegUCkbQS77+WBQATZBDst7oFAYJD8mmr2gUDA+/waqP6BQBUfAnvlBoJApG0Eu+8NgkAoCvy6QRaCQMD7/BqoHoJAbOcD28YlgkAE2QQ7LS6CQH4tARt/NoJAFR8Ce+U+gkDCCgk7BEaCQGCQ/JpqToJA3ZgBm7xWgkCkbQS7712CQATZBDstZoJAYJD8mmpugkDA+/waqHaCQBUfAnvlfoJApG0Eu++FgkAE2QQ7LY6CQGCQ/JpqloJAwPv8GqiegkAVHwJ75aaCQKRtBLvvrYJAwgoJOwS2gkAE2QQ7Lb6CQCgK/LpBxoJAYJD8mmrOgkB+LQEbf9aCQMD7/Bqo3oJA3ZgBm7zmgkAVHwJ75e6CQIqECFvb9YJApG0Eu+/9gkAE2QQ7LQaDQGCQ/JpqDoNAwPv8GqgWg0AVHwJ75R6DQKRtBLvvJYNABNkEOy0ug0BgkPyaajaDQMD7/BqoPoNAFR8Ce+VGg0CkbQS7702DQATZBDstVoNAYJD8mmpeg0DA+/waqGaDQBUfAnvlboNApG0Eu+91g0AE2QQ7LX6DQGCQ/JpqhoNAwPv8GqiOg0AVHwJ75ZaDQKRtBLvvnYNAwgoJOwSmg0AE2QQ7La6DQCgK/LpBtoNAYJD8mmq+g0B+LQEbf8aDQMD7/BqozoNA3ZgBm7zWg0AVHwJ75d6DQIqECFvb5YNApG0Eu+/tg0DCCgk7BPaDQATZBDst/oNAKAr8ukEGhEBgkPyaag6EQH4tARt/FoRAwPv8GqgehEDdmAGbvCaEQBUfAnvlLoRAioQIW9s1hECkbQS77z2EQMIKCTsERoRA",
          "dtype": "f8"
         },
         "y": {
          "bdata": "ntZ78j2GQEB+w/cEcpBCQIQlfWsoZURAhOJx4OP0RkADqy683Z1JQNz6GoorZ0tAmKuNFRCNTkAqG83jfYxQQNDiRLznnFFAw//RF0bQUkCrxyNtDRNUQDVSBNlIGFVAJ7V1GzHfVUB3ESpUv8NWQI93pR1wZVdAleLe4ZoZWECnvItfs2dYQDGJ5Ey6vlhAURUfPAy3WEAAAAAAAABZQJ9i5+jA9FhAPXU2jZS/WEBQuVSYqlZYQLqACTYLnldAvYQsseCUV0AsiqXXTBNXQEgdps8tR1ZAVZcXvB4rVkB6TX9WxGVVQA7o+YiIv1RAKlX/SWwNVEDOD4OMQk5TQIsas9NVrVJAJupp3MYKUkCoBifmS6FRQCDLqpKM2VBAVgvYe2YbUEA0qxvMbK9OQIeXwh6xq01Awiq+hvBaTEBl6MDEVqJLQAxz6GzEQUpA1P61i7ImSUA40A8Qf0RIQPxiM4tvQ0dA923JFNyaRkDboHG7pJtFQPkIXz/ptURAEVdq2mI7RECUoQ3v415DQIu0gPu7l0JAictXtEwDQkDU4+g7LY1BQGtNd7Ss6kBAm8ciUtJxQEC/AKnYRcQ/QMAdiXF25D5AUcXZstv6PUDrkscIF+E8QCq3cPBeRzxAHuLAN04aO0CsNJsRYEA6QFFPOh1YljlARps2HLLXOEBZbLvq1x44QHkLH1QrZTdA+uKwV3urNkBCp3EXQt81QICuv0MOBDVApZfl4jY4NECF1DWvraUzQL5LtMwe6TJAr4tvnFQWMkDRw+0bRF4xQCnQti/2xzBA4nJJ3nkaMECk/BZD2wwvQFDXztea1C1AqU7QufqNLEDRF7Ewnz0rQNm06LI6ZipAhPivNjVSKUAZkdrZOUQoQH5ZT2kHPidAzfSlZ8j0JUDr7Hr+JiolQOK79o2SQSRAxLvOlqo/I0D6m2r7/3oiQPxjVGsQVCFAvTpKc7rcIEBGOaR/o94fQJgFXlGV3B5AcwPXFLtFHUB02QIPyN0bQO3DKEmS1hpAyHkZJHBfGUBRtjhAMyAYQEv2+ZiiLBdAwBBLrXn6FUAKQ9M/+f4UQEz/ToEbTxRAh8XPbdo0E0AgRrfvWVsSQJstSOK8yBFAm+/2bVHREECdGiyPSyEQQFfHwwJ1Ew9A+cc/+2CADUAMTaXdYUsMQN6WVQU9GgtAgA2IIAH9CUBTfU3jY+QIQFy2sBBh4gdA8ZfmnKvYBkCizsGQl0AGQBMRLvoEEgVA",
          "dtype": "f8"
         }
        },
        {
         "mode": "lines",
         "name": "3.45 μM",
         "type": "scatter",
         "x": {
          "bdata": "1KC+y+mogEBrkr8rULGAQBh+xutuuIBAtgO6S9XAgEAzDL9LJ8mAQPrgwWta0IBAfn25a6zYgEAWb7rLEuGAQMJawYsx6IBAWkzC65fwgEDUoL7L6fiAQGuSvytQAYFAGH7G624IgUC2A7pL1RCBQDMMv0snGYFA+uDBa1oggUBaTMLrlyiBQLYDukvVMIFAFm+6yxI5gUBrkr8rUEGBQPrgwWtaSIFAWkzC65dQgUC2A7pL1ViBQBZvussSYYFAa5K/K1BpgUD64MFrWnCBQH59uWuseIFAFm+6yxKBgUDCWsGLMYiBQFpMwuuXkIFA1KC+y+mYgUBrkr8rUKGBQBh+xutuqIFAtgO6S9WwgUAzDL9LJ7mBQPrgwWtawIFAWkzC65fIgUC2A7pL1dCBQBZvussS2YFAa5K/K1DhgUD64MFrWuiBQFpMwuuX8IFAtgO6S9X4gUAWb7rLEgGCQGuSvytQCYJA+uDBa1oQgkB+fblrrBiCQBZvussSIYJAwlrBizEogkBaTMLrlzCCQNSgvsvpOIJAa5K/K1BBgkAYfsbrbkiCQLYDukvVUIJAMwy/SydZgkD64MFrWmCCQFpMwuuXaIJAtgO6S9VwgkAWb7rLEnmCQGuSvytQgYJA+uDBa1qIgkBaTMLrl5CCQLYDukvVmIJAFm+6yxKhgkBrkr8rUKmCQPrgwWtasIJAGH7G6264gkBaTMLrl8CCQH59uWusyIJAtgO6S9XQgkDUoL7L6diCQBZvussS4YJAMwy/SyfpgkBrkr8rUPGCQOD3xQtG+IJA+uDBa1oAg0BaTMLrlwiDQLYDukvVEINAFm+6yxIZg0Brkr8rUCGDQPrgwWtaKINAWkzC65cwg0C2A7pL1TiDQBZvussSQYNAa5K/K1BJg0D64MFrWlCDQFpMwuuXWINAtgO6S9Vgg0AWb7rLEmmDQGuSvytQcYNA+uDBa1p4g0BaTMLrl4CDQLYDukvViINAFm+6yxKRg0Brkr8rUJmDQPrgwWtaoINAGH7G626og0BaTMLrl7CDQH59uWusuINAtgO6S9XAg0DUoL7L6ciDQBZvussS0YNAMwy/SyfZg0Brkr8rUOGDQOD3xQtG6INA+uDBa1rwg0AYfsbrbviDQFpMwuuXAIRAfn25a6wIhEC2A7pL1RCEQNSgvsvpGIRAFm+6yxIhhEAzDL9LJymEQGuSvytQMYRA4PfFC0Y4hED64MFrWkCEQBh+xutuSIRA",
          "dtype": "f8"
         },
         "y": {
          "bdata": "+VnyePS6QUDaqqh0JdNDQE54ubW4okVAxY1sL3hJSEA3GU2aA/pKQIgmCRN0+kxA16JTZlfCT0B9Q4Hb2SBRQM/Q9/AhHlJA3TzN92BHU0C1thYo12lUQMDlUdb6cVVAdUv8edgRVkBxQgBHufRWQHw9Hw9RlFdAoq0VkwQeWECzCNTFQWNYQN+QLwd5mlhAm06sPzu/WEAAAAAAAABZQJr7L92fo1hA6L/zCD6DWEAuAwLWDB5YQK9PghdO2ldAE7KG5NVBV0D4JOFx8ddWQNBqLZ9ZQVZAkBiXmiKzVUB33b1nyDxVQErgRwL5jVRApdCQfxPLU0B9/nuhc/lSQPLcQ7YNclJA+KK6USTXUUBkW+udLipRQKpflN//oVBARUbHuVDPT0D/wnHlt5JOQNyv66cQRk1ARgE5+0T/S0AfXnK2ThpLQJRJMjS1EEpADLaMCeDeSEAQ4FvU38JHQHX6CYW+80ZAPaTRMS0kRkDxxqndO0hFQINhXc0HbkRAnfm9vzbKQ0BDRdZv1hJDQMu+PSfockJAcNVfglLPQUDYtAH6Ek9BQDrgyGAtpUBAHy1cdScxQED+frj3sjc/QE8bSXmYbj5AlUEo8VtjPUA4BPZcu2E8QDPwVz6tmTtAhzF/Y1TSOkCn9X3hp9g5QF5FEeesEzlAG0ownQUhOECUvqTM8IE3QFL4E6qx6zZAs13MORkZNkDFDKePSk81QCdxbeG7jjRAISlRnVrWM0DZzXxxNyQzQJdgHdByVjJA2OSOWJGsMUBGQRPOLQ0xQJD7/r07ZzBAIZBji5+AL0CPUvHGoGUuQNhSE9MaGS1APUWqS6fwK0CVDzZ7Nc4qQL4dkBrn9ylAJs7GG/PKKEDthBh2I7EnQFb8fRQ/jiZAZwHaXtKuJUD60R320eckQGTY4+VQ6iNAXf65P0oYI0CayWWq1TAiQJiEmOxJaCFA7qKSp0mgIEAd6HPhH6cfQGj8g6DoOh5AH4wxRbruHED92j1nK7IbQCZuT8h6WRpAQpATevRcGUAsZ82NheQXQG+ZIqoqxBZAuPQZl2C/FUAlwP+Yk9UUQFKqFch65RNA86RXgxP6EkCJI0m6pPkRQIzTbewHkhFAy4pZLKu9EEBkDpkClgkQQBXDgkxEbQ5AHbH59jZYDUAoi8FQlcELQJdACluyzwpAjJ8DEqtQCUBtx9KtzmsIQCk3XRsrRgdA5es+8DiLBkDp8n95RrgFQEJIRBIkugRA",
          "dtype": "f8"
         }
        },
        {
         "mode": "lines",
         "name": "2.58 μM",
         "type": "scatter",
         "x": {
          "bdata": "r+hrSsewgEBG2myqLbmAQPPFc2pMwIBAkUtnyrLIgEAOVGzKBNGAQNUob+o32IBAWcVm6onggEDxtmdK8OiAQJ2ibgoP8IBANZRvanX4gECv6GtKxwCBQEbabKotCYFA88VzakwQgUCRS2fKshiBQA5UbMoEIYFA1Shv6jcogUA1lG9qdTCBQJFLZ8qyOIFA8bZnSvBAgUBG2myqLUmBQNUob+o3UIFANZRvanVYgUCRS2fKsmCBQPG2Z0rwaIFARtpsqi1xgUDVKG/qN3iBQFnFZuqJgIFA8bZnSvCIgUCdom4KD5CBQDWUb2p1mIFAr+hrSseggUBG2myqLamBQPPFc2pMsIFAkUtnyrK4gUAOVGzKBMGBQNUob+o3yIFANZRvanXQgUCRS2fKstiBQPG2Z0rw4IFARtpsqi3pgUDVKG/qN/CBQDWUb2p1+IFAkUtnyrIAgkDxtmdK8AiCQEbabKotEYJA1Shv6jcYgkBZxWbqiSCCQPG2Z0rwKIJAnaJuCg8wgkA1lG9qdTiCQK/oa0rHQIJARtpsqi1JgkDzxXNqTFCCQJFLZ8qyWIJADlRsygRhgkDVKG/qN2iCQDWUb2p1cIJAkUtnyrJ4gkDxtmdK8ICCQEbabKotiYJA1Shv6jeQgkA1lG9qdZiCQJFLZ8qyoIJA8bZnSvCogkBG2myqLbGCQNUob+o3uIJA88VzakzAgkA1lG9qdciCQFnFZuqJ0IJAkUtnyrLYgkCv6GtKx+CCQPG2Z0rw6IJADlRsygTxgkBG2myqLfmCQLs/c4ojAINA1Shv6jcIg0A1lG9qdRCDQJFLZ8qyGINA8bZnSvAgg0BG2myqLSmDQNUob+o3MINANZRvanU4g0CRS2fKskCDQPG2Z0rwSINARtpsqi1Rg0DVKG/qN1iDQDWUb2p1YINAkUtnyrJog0DxtmdK8HCDQEbabKoteYNA1Shv6jeAg0A1lG9qdYiDQJFLZ8qykINA8bZnSvCYg0BG2myqLaGDQNUob+o3qINA88Vzakywg0A1lG9qdbiDQFnFZuqJwINAkUtnyrLIg0Cv6GtKx9CDQPG2Z0rw2INADlRsygThg0BG2myqLemDQLs/c4oj8INA1Shv6jf4g0DzxXNqTACEQDWUb2p1CIRAWcVm6okQhECRS2fKshiEQK/oa0rHIIRA8bZnSvAohEAOVGzKBDGEQEbabKotOYRAuz9ziiNAhEDVKG/qN0iEQPPFc2pMUIRA",
          "dtype": "f8"
         },
         "y": {
          "bdata": "oRe7p43dREAQU5Gt0C1HQDbaObnuKklAjYOjakCuS0Bme7JkAJdOQJZObSW3JFBAQMDjZ+h4UUBJBvCayLBSQIw3GuhmhlNA74EG3BKOVEC1XvKkqLBVQP0081tfX1ZA2ULmJP04V0BMboUKGHhXQNdaclLVM1hA4h9jtq+GWEDtmqpaYcpYQHitqHqy6VhAAAAAAAAAWUCcU1iqtOVYQGGVsGlSsFhAK8SYxNVcWEDNyNSMtgRYQJS+98SyYldAVux7T4TgVkBQkB3Y739WQO2GU8/AzlVAqePbQL0xVUAY5tQYpMVUQDSczgePGVRArvYMNdxtU0DMqIh9MY5SQItLqFiC9lFA9TQ9muBwUUCPdFR+c6lQQII2NEwp4E9AWINvRuv3TkBCZ46gCalNQL3rxFEptkxAOhK034hTS0CFOnpdoWdKQOAkdqmP+0hAM1Ph6lIgSEAnsX8LUT9HQBgS1Ea7akZAjJheQa52RUAXPYVSJ+JEQGgL53pp7kNAu723a7M7Q0CwYF0vv5VCQO3mlwfB60FAz7HwP19JQUCY8N8M/tJAQCpvoBCIQkBAtOHxZfiNP0DY1oTOapM+QMvjq28Mez1AIhvXTyCePEBU1hzWk787QEp5VLxK0jpANTf2ptb3OUBPEwdAWA05QPyJ/KTKVjhARbA0uACPN0D0RLAs+MY2QNvE46MJJDZA3jEkz/yENUC/i6Fef780QA8CjwaEyDNAXeAXCspGM0CbJc18a4QyQKz5XxC0sTFA3WDKn2QhMUDDYi6FoLEwQJhK23IBGjBA4M1lvtPFLkAy+OcNAnYtQDc8HNhKZSxAEYTBguFWK0DpkYWLr/opQJhg5fQwaSlAvmuK+qI9KEAP2va6g+8mQNBBlR4oISZAXK84urwAJUBl5kJERT4kQIMhjjkIbyNAQa6cjy+CIkBK2Q6TPb8hQCq6EKpvyCBAZ55NYwcZIEDcbg/NQtweQCBL6T2KdR1Ajq6jaoz5G0Ct8UntWcMaQCtaZ4zbyRlAlepAiDJDGECdkoiWY0YXQKRM+YMoERZAe/1IDtIjFUA45oRHwRAUQFBviBLUAhNAWMXUAwFVEkBSkkRWMasRQMOUiQqGIxFA4a6jsUg5EEB/1jQf/pUOQJdSgT48Zw1AUiKFkalhDEBNVDu2TyILQDC09/rlkQlAEayBwPm7CED0+78UGpYHQBPRHvU8VQZAWtk0WhQIBkB2PxDFXcoEQBFVgD+jHQRA",
          "dtype": "f8"
         }
        },
        {
         "mode": "lines",
         "name": "1.71 μM",
         "type": "scatter",
         "x": {
          "bdata": "1QGxCe63gEBs87FpVMCAQBnfuClzx4BAt2SsidnPgEA0bbGJK9iAQPtBtKle34BAf96rqbDngEAX0KwJF/CAQMO7s8k194BAW620KZz/gEDVAbEJ7geBQGzzsWlUEIFAGd+4KXMXgUC3ZKyJ2R+BQDRtsYkrKIFA+0G0qV4vgUBbrbQpnDeBQLdkrInZP4FAF9CsCRdIgUBs87FpVFCBQPtBtKleV4FAW620KZxfgUC3ZKyJ2WeBQBfQrAkXcIFAbPOxaVR4gUD7QbSpXn+BQH/eq6mwh4FAF9CsCReQgUDDu7PJNZeBQFuttCmcn4FA1QGxCe6ngUBs87FpVLCBQBnfuClzt4FAt2Ssidm/gUA0bbGJK8iBQPtBtKlez4FAW620KZzXgUC3ZKyJ2d+BQBfQrAkX6IFAbPOxaVTwgUD7QbSpXveBQFuttCmc/4FAt2SsidkHgkAX0KwJFxCCQGzzsWlUGIJA+0G0qV4fgkB/3qupsCeCQBfQrAkXMIJAw7uzyTU3gkBbrbQpnD+CQNUBsQnuR4JAbPOxaVRQgkAZ37gpc1eCQLdkrInZX4JANG2xiStogkD7QbSpXm+CQFuttCmcd4JAt2Ssidl/gkAX0KwJF4iCQGzzsWlUkIJA+0G0qV6XgkBbrbQpnJ+CQLdkrInZp4JAF9CsCRewgkBs87FpVLiCQPtBtKlev4JAGd+4KXPHgkBbrbQpnM+CQH/eq6mw14JAt2SsidnfgkDVAbEJ7ueCQBfQrAkX8IJANG2xiSv4gkBs87FpVACDQOFYuElKB4NA+0G0qV4Pg0BbrbQpnBeDQLdkrInZH4NAF9CsCRcog0Bs87FpVDCDQPtBtKleN4NAW620KZw/g0C3ZKyJ2UeDQBfQrAkXUINAbPOxaVRYg0D7QbSpXl+DQFuttCmcZ4NAt2Ssidlvg0AX0KwJF3iDQGzzsWlUgINA+0G0qV6Hg0BbrbQpnI+DQLdkrInZl4NAF9CsCRegg0Bs87FpVKiDQPtBtKler4NAGd+4KXO3g0BbrbQpnL+DQH/eq6mwx4NAt2SsidnPg0DVAbEJ7teDQBfQrAkX4INANG2xiSvog0Bs87FpVPCDQOFYuElK94NA+0G0qV7/g0AZ37gpcweEQFuttCmcD4RAf96rqbAXhEC3ZKyJ2R+EQNUBsQnuJ4RAF9CsCRcwhEA0bbGJKziEQGzzsWlUQIRA4Vi4SUpHhED7QbSpXk+EQBnfuClzV4RA",
          "dtype": "f8"
         },
         "y": {
          "bdata": "C7cHQsCQRkDqTacRsdNIQGcf6isbo0pAbDG1mS6PTUBEnEJ+JylQQJWVqROBGVFAMPKbEq9aUkAOEUimo29TQHKuL2F8RFRAi+DNJiRwVUCfJ2XgTjpWQN12P25JAFdAqDj2d/+XV0AQFFfGwxxYQCJcg6JXmVhA3kurhh7jWEAP87OvX+9YQAAAAAAAAFlA5MgTUEDuWEAKm6QcGcVYQFrwE2ObjFhADT///KU1WEDQlAfysvBXQCLgENiMVldA3MXPk7fFVkA8M0zAdF1WQBlMna2WwlVAJ7iLz4cXVUARYQY3tqNUQEitlKG46VNATZuM5+EpU0AmxqX9mX1SQMSGmQtW6FFAdQkyobpSUUAnAXZuw5JQQF+2GwtV8U9AWufuRmjLTkDZbphb0EFNQB1BPQdKRkxANtzh2ncKS0C80FZuZt1JQJFrYUJh4UhAN97n4vfLR0DzXFjMBOJGQBYglrAHG0ZA+HKjgk0URUAuXx0tqV1EQEma2vkhokNAsfy10zTzQkDrgWGMd1lCQD1mbN2SskFAjrGWtNLpQECVwgjOaHtAQD1yrAMyAEBAtGZqLWTwPkDNhC+00PE9QBhR+qyoAz1A6Aef+uHeO0ChETMxhgY7QG2hmTPOSzpA7hmWagavOUBbK9obyng4QBW80Euh2jdAm0biGWwrN0AybX1dqWs2QD6dFSG+zDVAkSXUj10VNUCR1M9eWGw0QL9kUKQtrTNA2xZw5qzTMkC9MtwHSRkyQCcy500NoDFAPEQ9ffTjMEDUK1Y/tFwwQO+LkGRHmi9A0iYKEzQmLkAaSQpc0vEsQOWDxwWVyytAsFeAk4GkKkBX5CLhMrApQOMJPFL41ChAHOdvLAmyJ0BvDfGPDrwmQL4CkPzwlSVAB9N/yxCGJEBXQcq9NtgjQHj63U/1+CJAHAB6cHQ/IkBiJv2YgE0hQOA5FPXhdSBAFjR1UfXSH0Czq6JvfTEeQHukw49k4BxAaPtCSV9/G0D44QeP6EQaQA1DRogM8hhALOmINaISGEA2qzToIMYWQB9hmQx+ohVAd6PU+5mRFECX9X3WXMQTQPn+n8Fo7BJAxMhuBjIVEkBD1Pe/f0sRQMhR0EBLvRBAQpZH7eTPD0AEeZajjmwOQCVz2skE/QxA87INIjX4C0BLfUpZoYMKQMqy9D9/nQlABgfR7ZFeCECUYilPYSkHQMTY+FUdRAZA/SplvfHVBUDgvYz7EcIEQOJk7bLevQNA",
          "dtype": "f8"
         }
        },
        {
         "mode": "lines",
         "name": "0.86 μM",
         "type": "scatter",
         "x": {
          "bdata": "WRQDpeW6gEDwBQQFTMOAQJ3xCsVqyoBAO3f+JNHSgEC4fwMlI9uAQH9UBkVW4oBAA/H9RKjqgECb4v6kDvOAQEfOBWUt+oBA378GxZMCgUBZFAOl5QqBQPAFBAVME4FAnfEKxWoagUA7d/4k0SKBQLh/AyUjK4FAf1QGRVYygUDfvwbFkzqBQDt3/iTRQoFAm+L+pA5LgUDwBQQFTFOBQH9UBkVWWoFA378GxZNigUA7d/4k0WqBQJvi/qQOc4FA8AUEBUx7gUB/VAZFVoKBQAPx/USoioFAm+L+pA6TgUBHzgVlLZqBQN+/BsWTooFAWRQDpeWqgUDwBQQFTLOBQJ3xCsVquoFAO3f+JNHCgUC4fwMlI8uBQH9UBkVW0oFA378GxZPagUA7d/4k0eKBQJvi/qQO64FA8AUEBUzzgUB/VAZFVvqBQN+/BsWTAoJAO3f+JNEKgkCb4v6kDhOCQPAFBAVMG4JAf1QGRVYigkAD8f1EqCqCQJvi/qQOM4JAR84FZS06gkDfvwbFk0KCQFkUA6XlSoJA8AUEBUxTgkCd8QrFalqCQDt3/iTRYoJAuH8DJSNrgkB/VAZFVnKCQN+/BsWTeoJAO3f+JNGCgkCb4v6kDouCQPAFBAVMk4JAf1QGRVaagkDfvwbFk6KCQDt3/iTRqoJAm+L+pA6zgkDwBQQFTLuCQH9UBkVWwoJAnfEKxWrKgkDfvwbFk9KCQAPx/USo2oJAO3f+JNHigkBZFAOl5eqCQJvi/qQO84JAuH8DJSP7gkDwBQQFTAODQGVrCuVBCoNAf1QGRVYSg0DfvwbFkxqDQDt3/iTRIoNAm+L+pA4rg0DwBQQFTDODQH9UBkVWOoNA378GxZNCg0A7d/4k0UqDQJvi/qQOU4NA8AUEBUxbg0B/VAZFVmKDQN+/BsWTaoNAO3f+JNFyg0Cb4v6kDnuDQPAFBAVMg4NAf1QGRVaKg0DfvwbFk5KDQDt3/iTRmoNAm+L+pA6jg0DwBQQFTKuDQH9UBkVWsoNAnfEKxWq6g0DfvwbFk8KDQAPx/USoyoNAO3f+JNHSg0BZFAOl5dqDQJvi/qQO44NAuH8DJSPrg0DwBQQFTPODQGVrCuVB+oNAf1QGRVYChECd8QrFagqEQN+/BsWTEoRAA/H9RKgahEA7d/4k0SKEQFkUA6XlKoRAm+L+pA4zhEC4fwMlIzuEQPAFBAVMQ4RAZWsK5UFKhEB/VAZFVlKEQJ3xCsVqWoRA",
          "dtype": "f8"
         },
         "y": {
          "bdata": "2cIWr2DjR0A4Tigu6mlKQONxcF4YkExAptYVgkzWTkA1qUXHW7RQQB7SCPOUw1FAKi3acY79UkDgZEHvMf1TQGB718eA4FRAqzjPUHTeVUADiSpNHKBWQHxgb5/yU1dA1phOx2bZV0CmMQNWYElYQApVXYvSpFhAg8PM+pvJWEBcNTP9Jt1YQAAAAAAAAFlAOYgulUPJWEDQHmSYTZFYQKdk/T5RN1hAnrfLSIkPWEC6o5WdsqJXQOQa6ulBOldACBZoQMirVkAg2Ts8rwBWQFoxhUfCX1VAuT6AajL+VED7UITu7RVUQNYgKfy/sVNAdWP9s0roUkAWrO5yWD5SQFUb6zxtplFAaDtXH1TbUEC294XrwSlQQO84iNtzPk9AX/jn1vvhTUCIezZGCM5MQD/PoOT2K0tAQAAGTEg1SkC4/OnIU2BJQKoIrLKfekhA0JfTdy9pR0BIh+KKYW1GQDrWZ1ZWf0VAb8TMX4ykREDp1KK2Z+hDQHheMuRGNENAfPs4dBZvQkBunqwvP55BQK8oOLL3R0FA2cxL53SmQEChkOgUfx9AQD5jkx6oOT9AsfZ8x8FRPkAsB3CqNkk9QKcNbvhIbTxAeSp+gfN1O0BMyzQDcMs6QDYvApaa5zlAfuwM+dXnOEAv0cgVVT84QG/FWJWxYTdA7AZVBm6cNkCDUW5Egf41QLzWbo5HUDVAyxJ0qzC4NEDqCTN0UekzQDlgMsFJCTNA9KlwJ6BVMkCICZJKGMQxQB911C11DTFAbD4cz8RxMECuW5Z32asvQGgs6uwnnC5A3vAqchWELUBJQCsniFgsQHy4moBqXCtA+hDn3rlVKkBq5gSRD+IoQKf30N1CSihAz7OiqWEgJ0D6CA6RtSsmQI+cgAMLASVAHUAXHUMPJEB+HxM6y0MjQFQ7GC3dkiJAlpNe5jfTIUDI9LT7jPQgQDMEnGeu7B9AqEdM5QKoHkBVb7t4EHgdQIepec6d9RtAUw2vubXkGkAi3r+nnsoZQJWRCA6dgxhA4RN8pexZF0DIJ8sX7mkWQGpMRDPILBVAtiKSQutFFEAJV9ggOD0TQAqk27XBbxJALKK7iOW8EUCNa09AE/UQQAHC2PRfOhBASw1j4KkgD0BI0ky/T4UNQOkfLyJOfwxAh7usjXJ5C0BUpK4bJjsKQFIiTz/C/whAX+Nwq67YB0BpmQktt1wGQGzxPpUesAVAIyYKUKfnBEB3PNyzc4kEQFGsJFDkXwNA",
          "dtype": "f8"
         }
        },
        {
         "mode": "lines",
         "name": "0.69 μM",
         "type": "scatter",
         "x": {
          "bdata": "eVWYQ568gEAQR5mjBMWAQL0yoGMjzIBAW7iTw4nUgEDYwJjD29yAQJ+Vm+MO5IBAIzKT42DsgEC7I5RDx/SAQGcPmwPm+4BA/wCcY0wEgUB5VZhDngyBQBBHmaMEFYFAvTKgYyMcgUBbuJPDiSSBQNjAmMPbLIFAn5Wb4w40gUD/AJxjTDyBQFu4k8OJRIFAuyOUQ8dMgUAQR5mjBFWBQJ+Vm+MOXIFA/wCcY0xkgUBbuJPDiWyBQLsjlEPHdIFAEEeZowR9gUCflZvjDoSBQCMyk+NgjIFAuyOUQ8eUgUBnD5sD5puBQP8AnGNMpIFAeVWYQ56sgUAQR5mjBLWBQL0yoGMjvIFAW7iTw4nEgUDYwJjD28yBQJ+Vm+MO1IFA/wCcY0zcgUBbuJPDieSBQLsjlEPH7IFAEEeZowT1gUCflZvjDvyBQP8AnGNMBIJAW7iTw4kMgkC7I5RDxxSCQBBHmaMEHYJAn5Wb4w4kgkAjMpPjYCyCQLsjlEPHNIJAZw+bA+Y7gkD/AJxjTESCQHlVmEOeTIJAEEeZowRVgkC9MqBjI1yCQFu4k8OJZIJA2MCYw9tsgkCflZvjDnSCQP8AnGNMfIJAW7iTw4mEgkC7I5RDx4yCQBBHmaMElYJAn5Wb4w6cgkD/AJxjTKSCQFu4k8OJrIJAuyOUQ8e0gkAQR5mjBL2CQJ+Vm+MOxIJAvTKgYyPMgkD/AJxjTNSCQCMyk+Ng3IJAW7iTw4nkgkB5VZhDnuyCQLsjlEPH9IJA2MCYw9v8gkAQR5mjBAWDQIWsn4P6C4NAn5Wb4w4Ug0D/AJxjTByDQFu4k8OJJINAuyOUQ8csg0AQR5mjBDWDQJ+Vm+MOPINA/wCcY0xEg0BbuJPDiUyDQLsjlEPHVINAEEeZowRdg0CflZvjDmSDQP8AnGNMbINAW7iTw4l0g0C7I5RDx3yDQBBHmaMEhYNAn5Wb4w6Mg0D/AJxjTJSDQFu4k8OJnINAuyOUQ8ekg0AQR5mjBK2DQJ+Vm+MOtINAvTKgYyO8g0D/AJxjTMSDQCMyk+NgzINAW7iTw4nUg0B5VZhDntyDQLsjlEPH5INA2MCYw9vsg0AQR5mjBPWDQIWsn4P6+4NAn5Wb4w4EhEC9MqBjIwyEQP8AnGNMFIRAIzKT42AchEBbuJPDiSSEQHlVmEOeLIRAuyOUQ8c0hEDYwJjD2zyEQBBHmaMERYRAhayfg/pLhECflZvjDlSEQL0yoGMjXIRA",
          "dtype": "f8"
         },
         "y": {
          "bdata": "uxR6IodaSEAUEZ2SZb1KQIzWanAf1UxAkG8lZ9MuT0CwUtFu6udQQEf7x7t+4VFAOxhu+sEtU0BTy7yvqxhUQAX1lNhWvVRAjyqK3TzKVUC+Bj60Q6FWQJxNvlvuUldATxZrEEGoV0Ds24rbfWJYQOgdQR42pVhA7G+rAlngWEAAAAAAAABZQDkpQ7786FhAq0k/iVq3WEA3/CZIxJNYQGsxN+5AclhAM49qsLD2V0AbwmQZ4JRXQOP42fX5MVdA0DgBj7mJVkDqqu2HCCBWQEWNnI/7fVVA2Cq+Cw2qVEA1UaV3BERUQBBh0op5hlNAp5oAYVUHU0CQz/hd8iVSQM5DpXevflFAEdqGzXPNUEBbxsp07TRQQEEATaqEL09A63oTI5DJTUDIXgB4Nl5MQKim7nONxEtASvm7/jxBSkDmmaUWHGRJQEee6luEWEhAdoS+bWVtR0AGUr7SXF1GQJfgU9gdg0VAf4q1cL+yREANCZ2TRc1DQILvTQwBDENA7CHzpGSAQkBSlzQuz81BQAZK53cbJEFAdpKL1fmOQEB0plfzSjBAQN46AAdLFT9ABAklLulSPkDwDOUEEwc9QOXVRKKUdDxAW4CirnSIO0A76nzB75I6QF6V/eA73jlAc4L5bYwGOUCTr1Sr0C04QJg88ep8ZzdAh8AMBve9NkBkGwpWyP01QEKZ9K85hjVA1JnBX9KuNEB+NuPLjRQ0QDPwLxvXKjNA8rzZJheBMkDURGyhW9AxQFNPIi1rPTFAklNSaQyJMEA4HhnCRAswQHedtm1ImC5AnFgQ3yI+LUBAEpyqh4EsQP8oXxE7LytAEaI2lLksKkCut6uD/TgpQJVbnloRRihAkRc5KpT/JkB9qmJXOV0mQH1Mz64kNiVAY1eGrtsrJEATPb9Ki2cjQCRVQLXleCJAQQ6wI66dIUBqwXeSMeIgQHaZUr5KPCBAhniUvigQH0AbcXLMBmkdQAfEVTEnKRxA5dzxVP27GkDWKa1LPIsZQOTXlc6bzxhAgZz8NNSXF0DlzZE2gpcWQF56MCAYZhVAIxugw/qgFECPpstKF2wTQAZaKqz0ohJASGyw+azHEUBXwEvlcuEQQGJdHK+VkBBAgqhHVSavD0CCg38n6cUNQJmghJPOxgxArbzAln8lC0BQkljkjEMKQIr4xqtS5whAOiOKit2hB0D3/gE9tOkGQK3wyAEAJAZAjf9v7P2XBUAPc5kDh1YEQATwdjKuZQNA",
          "dtype": "f8"
         }
        },
        {
         "mode": "lines",
         "name": "0.52 μM",
         "type": "scatter",
         "x": {
          "bdata": "pg+nsGS8gEA9AagQy8SAQOrsrtDpy4BAiHKiMFDUgEAFe6cwotyAQMxPqlDV44BAUOyhUCfsgEDo3aKwjfSAQJTJqXCs+4BALLuq0BIEgUCmD6ewZAyBQD0BqBDLFIFA6uyu0OkbgUCIcqIwUCSBQAV7pzCiLIFAzE+qUNUzgUAsu6rQEjyBQIhyojBQRIFA6N2isI1MgUA9AagQy1SBQMxPqlDVW4FALLuq0BJkgUCIcqIwUGyBQOjdorCNdIFAPQGoEMt8gUDMT6pQ1YOBQFDsoVAnjIFA6N2isI2UgUCUyalwrJuBQCy7qtASpIFApg+nsGSsgUA9AagQy7SBQOrsrtDpu4FAiHKiMFDEgUAFe6cwosyBQMxPqlDV04FALLuq0BLcgUCIcqIwUOSBQOjdorCN7IFAPQGoEMv0gUDMT6pQ1fuBQCy7qtASBIJAiHKiMFAMgkDo3aKwjRSCQD0BqBDLHIJAzE+qUNUjgkBQ7KFQJyyCQOjdorCNNIJAlMmpcKw7gkAsu6rQEkSCQKYPp7BkTIJAPQGoEMtUgkDq7K7Q6VuCQIhyojBQZIJABXunMKJsgkDMT6pQ1XOCQCy7qtASfIJAiHKiMFCEgkDo3aKwjYyCQD0BqBDLlIJAzE+qUNWbgkAsu6rQEqSCQIhyojBQrIJA6N2isI20gkA9AagQy7yCQMxPqlDVw4JA6uyu0OnLgkAsu6rQEtSCQFDsoVAn3IJAiHKiMFDkgkCmD6ewZOyCQOjdorCN9IJABXunMKL8gkA9AagQywSDQLJmrvDAC4NAzE+qUNUTg0Asu6rQEhyDQIhyojBQJINA6N2isI0sg0A9AagQyzSDQMxPqlDVO4NALLuq0BJEg0CIcqIwUEyDQOjdorCNVINAPQGoEMtcg0DMT6pQ1WODQCy7qtASbINAiHKiMFB0g0Do3aKwjXyDQD0BqBDLhINAzE+qUNWLg0Asu6rQEpSDQIhyojBQnINA6N2isI2kg0A9AagQy6yDQMxPqlDVs4NA6uyu0Om7g0Asu6rQEsSDQFDsoVAnzINAiHKiMFDUg0CmD6ewZNyDQOjdorCN5INABXunMKLsg0A9AagQy/SDQLJmrvDA+4NAzE+qUNUDhEDq7K7Q6QuEQCy7qtASFIRAUOyhUCcchECIcqIwUCSEQKYPp7BkLIRA6N2isI00hEAFe6cwojyEQD0BqBDLRIRAsmau8MBLhEDMT6pQ1VOEQOrsrtDpW4RA",
          "dtype": "f8"
         },
         "y": {
          "bdata": "SwZx+rTOSECIuo4zbLdKQM5i6rmHEU1AJglbaJ25T0BQRyIZ4jxRQNUnbjhdJlJAERmF3oRIU0Db5g6bpkhUQH4XjnAiQFVAe1KikN8VVkC+YVtUr9pWQMBnwIeaoFdAMhkbwR7xV0A3ATrwWmtYQBwDK/GLrFhABjfjcYvaWEAAAAAAAABZQLKA6NJD+VhA1cyRycHcWEAgaFI8vrVYQD7QVaLZOFhAGlAtns34V0BjayvDBI9XQKLp/QhWDFdAyRxQxAlpVkA+EBjgoSxWQE9qo3qrSFVAe7mu6j20VEDbG0GpAQ9UQLCYfOovjFNA3B4cuCPRUkAPfwX6nQ1SQDBGcZhJa1FA3KtbWNLQUEDhu0VTNDlQQFDNwcNO3U5AgNO4jXimTUD7cld/rlxMQFsYaN6YXktA2arlVkUeSkDOziDz5FpJQNhHHMynSUhAphieHFEYR0DZljHODktGQEuBolIANkVAF1wallusREAtn37kQQFEQDP/k4mZCENAuaW7Q8dUQkBLHV4TLb9BQPLMP48QHEFA286CDCmDQED9b9iazAhAQH0PRAhsWj9AUcYq8+sSPkDKjY4etgE9QM2QKIwvGjxAySavBckyO0A8NxmiATs6QAteJdw0vzlA67eAPDHsOEBgNCaC5AY4QGoP7EEgODdA3nAz35F1NkDvcop9VMQ1QAYvFCjzAjVARwBIumtVNEDeRRAakLwzQBIUNw6EHTNAAANQ3td7MkCutr6uinwxQFyhYCr3FTFAPM55DExOMEBQkmdPU5YvQE6JFQvxEi5ATkg5CYRRLUDqL7spuwAsQBmtf07tEytAGF0hwz2pKUDVfHHZwvAoQJLGyvCkIyhA5IXTQjWYJkCIA6ZGIeklQNbYhPMtDiVATGNJotTgI0AyFrb+hhcjQClj+Q7qPiJACbLszfKAIUAAu5zkZ68gQKvCNwlRTiBAHHy+jTv6HkBSI+sdBJcdQO7HgqimwBtAEKdrywrqGkD9rRxr2GwZQKdIo1ogJBhADGdVvrIPF0BYmWgT+uAVQEX48OA+QBVAkJtMqcflE0DBGrQV0ksTQGBRDgRvjRJAJ5qxcrizEUBjdV/tLbQQQPhC8ni8ORBAaC3WeLJ8DkCdJigmU1cNQBajZXkM/AtAp2TzEYObC0AKt95D0I0JQNMfRkznvghAmcsLQausB0BwBPBHJIQGQPd52uOWjQVAH+hNwQpQBUAraCR0NBIEQOdseHsnvgNA",
          "dtype": "f8"
         }
        },
        {
         "mode": "lines",
         "name": "0.35 μM",
         "type": "scatter",
         "x": {
          "bdata": "+gy1TSC+gECR/rWthsaAQD7qvG2lzYBA3G+wzQvWgEBZeLXNXd6AQCBNuO2Q5YBApOmv7eLtgEA827BNSfaAQOjGtw1o/YBAgLi4bc4FgUD6DLVNIA6BQJH+ta2GFoFAPuq8baUdgUDcb7DNCyaBQFl4tc1dLoFAIE247ZA1gUCAuLhtzj2BQNxvsM0LRoFAPNuwTUlOgUCR/rWthlaBQCBNuO2QXYFAgLi4bc5lgUDcb7DNC26BQDzbsE1JdoFAkf61rYZ+gUAgTbjtkIWBQKTpr+3ijYFAPNuwTUmWgUDoxrcNaJ2BQIC4uG3OpYFA+gy1TSCugUCR/rWthraBQD7qvG2lvYFA3G+wzQvGgUBZeLXNXc6BQCBNuO2Q1YFAgLi4bc7dgUDcb7DNC+aBQDzbsE1J7oFAkf61rYb2gUAgTbjtkP2BQIC4uG3OBYJA3G+wzQsOgkA827BNSRaCQJH+ta2GHoJAIE247ZAlgkCk6a/t4i2CQDzbsE1JNoJA6Ma3DWg9gkCAuLhtzkWCQPoMtU0gToJAkf61rYZWgkA+6rxtpV2CQNxvsM0LZoJAWXi1zV1ugkAgTbjtkHWCQIC4uG3OfYJA3G+wzQuGgkA827BNSY6CQJH+ta2GloJAIE247ZCdgkCAuLhtzqWCQNxvsM0LroJAPNuwTUm2gkCR/rWthr6CQCBNuO2QxYJAPuq8baXNgkCAuLhtztWCQKTpr+3i3YJA3G+wzQvmgkD6DLVNIO6CQDzbsE1J9oJAWXi1zV3+gkCR/rWthgaDQAZkvI18DYNAIE247ZAVg0CAuLhtzh2DQNxvsM0LJoNAPNuwTUkug0CR/rWthjaDQCBNuO2QPYNAgLi4bc5Fg0Dcb7DNC06DQDzbsE1JVoNAkf61rYZeg0AgTbjtkGWDQIC4uG3ObYNA3G+wzQt2g0A827BNSX6DQJH+ta2GhoNAIE247ZCNg0CAuLhtzpWDQNxvsM0LnoNAPNuwTUmmg0CR/rWthq6DQCBNuO2QtYNAPuq8baW9g0CAuLhtzsWDQKTpr+3izYNA3G+wzQvWg0D6DLVNIN6DQDzbsE1J5oNAWXi1zV3ug0CR/rWthvaDQAZkvI18/YNAIE247ZAFhEA+6rxtpQ2EQIC4uG3OFYRApOmv7eIdhEDcb7DNCyaEQPoMtU0gLoRAPNuwTUk2hEBZeLXNXT6EQJH+ta2GRoRABmS8jXxNhEAgTbjtkFWEQD7qvG2lXYRA",
          "dtype": "f8"
         },
         "y": {
          "bdata": "VXL7KjFcSUAYhvFMEclLQNUkOPQLh01ASAqSN4X3T0CQsqDxHGdRQL3SoKzeTVJAHIkOxISUU0CVm1w51ctUQIAOAFuASVVAHEZq7M1PVkDCCBDuyftWQAD5n9tqv1dAhlD+N8MiWEDvds7BbKRYQEA18LyqplhAgA4lqin/WED///////9YQNsEaUWP91hA7lXfbFDjWED/3R6JPqhYQA0p/y8AP1hAQGWVXdPnV0BhUc+4dbxXQBgzSkF2/FZATnINx4B7VkBSrIFDfe9VQLx+QKlUIVVA/MT6sa2jVEAdTMt0ajtUQBEuDGgWWVNAh5MKqHbKUkCfCr64GQ5SQNu5LCbEfFFA0g4sLSvFUEA4gTP7fSFQQFE12nE2O09AUTDWKq2qTUCQySrwBYlMQHmOf5c7U0tAQcdsclI6SkDuiVPvZnNJQOB9QkovIkhAKx4afYF/R0AwOOV9mahGQAYqyH8nJkVAvDL04xaQRECXkFctg9ZDQBd93rztNkNAeTHJaSSCQkDkn+ypPItBQFpZRvbiFUFAHFsDU3edQEBoXMMYISZAQAiiIVgj7T5A11dCB3gsPkBWoHcqInY9QEncELcsQjxA2WDP6lBRO0B4sJm1hGA6QLUPVmhuVjlA2GP1LYuTOECua1iaNBE4QLWQl6BUVTdAoJ4l4ax1NkD3mTBCzOc1QC6E9+IYQzVA0FTNgVihNEDzg+KeEoszQLmdWn+T8DJAvHMhDXIrMkCXNvbP95oxQPIBWGU/+jBAdVCkc9imMEAVcHqMIFovQNLz64cieS5ATxAXla1xLUDB/aAXbjQsQFyYkOSoJStAWE3/8eYdKkASBo+1MP0oQNU0AJTEKChAbkZFYksoJ0BovEOANgomQHfTA2h/ACVAMvjJALJtJEAuTX4J/CojQCC5t851wSJANx2JA1G/IUC7QVsLAvUgQIhGq/uz7R9Aci6Ra9MmH0Ae+inQo/kdQFArLy0pVBxAPIoRZ5AOG0DfI4nKUi0ZQBgLx4ei5BhAicM08UrgF0BSQrDdEmwWQHVJ8F+ZURVAxYjFUUwzFEAt8OIjWMQSQI/1oQDPvBJAdN1JVpinEUDBxxsnjdcQQJ7mFnvmARBAJfZuflrUDkA2JPYxaT0OQJMUx3wnEQ1ACe4Ch89IC0ASrOboq20JQMRq1NNxEAlAAPxCQ+1TCEBQ3xdaQjUIQAVrfB5zyAVA1J4XnueVBUB1DNcYp34EQKWLlv6VjANA",
          "dtype": "f8"
         }
        },
        {
         "mode": "lines",
         "name": "0.17 μM",
         "type": "scatter",
         "x": {
          "bdata": "UXE//P6/gEDoYkBcZciAQJVORxyEz4BAM9Q6fOrXgECw3D98POCAQHexQpxv54BA+006nMHvgECTPzv8J/iAQD8rQrxG/4BA1xxDHK0HgUBRcT/8/g+BQOhiQFxlGIFAlU5HHIQfgUAz1Dp86ieBQLDcP3w8MIFAd7FCnG83gUDXHEMcrT+BQDPUOnzqR4FAkz87/CdQgUDoYkBcZViBQHexQpxvX4FA1xxDHK1ngUAz1Dp86m+BQJM/O/wneIFA6GJAXGWAgUB3sUKcb4eBQPtNOpzBj4FAkz87/CeYgUA/K0K8Rp+BQNccQxytp4FAUXE//P6vgUDoYkBcZbiBQJVORxyEv4FAM9Q6fOrHgUCw3D98PNCBQHexQpxv14FA1xxDHK3fgUAz1Dp86ueBQJM/O/wn8IFA6GJAXGX4gUB3sUKcb/+BQNccQxytB4JAM9Q6fOoPgkCTPzv8JxiCQOhiQFxlIIJAd7FCnG8ngkD7TTqcwS+CQJM/O/wnOIJAPytCvEY/gkDXHEMcrUeCQFFxP/z+T4JA6GJAXGVYgkCVTkcchF+CQDPUOnzqZ4JAsNw/fDxwgkB3sUKcb3eCQNccQxytf4JAM9Q6fOqHgkCTPzv8J5CCQOhiQFxlmIJAd7FCnG+fgkDXHEMcraeCQDPUOnzqr4JAkz87/Ce4gkDoYkBcZcCCQHexQpxvx4JAlU5HHITPgkDXHEMcrdeCQPtNOpzB34JAM9Q6fOrngkBRcT/8/u+CQJM/O/wn+IJAsNw/fDwAg0DoYkBcZQiDQF3IRjxbD4NAd7FCnG8Xg0DXHEMcrR+DQDPUOnzqJ4NAkz87/Ccwg0DoYkBcZTiDQHexQpxvP4NA1xxDHK1Hg0Az1Dp86k+DQJM/O/wnWINA6GJAXGVgg0B3sUKcb2eDQNccQxytb4NAM9Q6fOp3g0CTPzv8J4CDQOhiQFxliINAd7FCnG+Pg0DXHEMcrZeDQDPUOnzqn4NAkz87/Ceog0DoYkBcZbCDQHexQpxvt4NAlU5HHIS/g0DXHEMcrceDQPtNOpzBz4NAM9Q6fOrXg0BRcT/8/t+DQJM/O/wn6INAsNw/fDzwg0DoYkBcZfiDQF3IRjxb/4NAd7FCnG8HhECVTkcchA+EQNccQxytF4RA+006nMEfhEAz1Dp86ieEQFFxP/z+L4RAkz87/Cc4hECw3D98PECEQOhiQFxlSIRAXchGPFtPhEB3sUKcb1eEQJVORxyEX4RA",
          "dtype": "f8"
         },
         "y": {
          "bdata": "00MhrV9bSUAKVPRH69tLQJ9xJAI0vU1AlqK61NYvUEAlO+9X32RRQMFWcWQTVVJAhYziaKeqU0DyidT00JxUQLmMDHh9glVAtoygt+1KVkBIGZa9aaRWQEMcoVzU8VdAzf9JAEU+WEAvbVjL+JJYQIX2tS619VhAW5MPLGzuWEA33iIEttNYQAAAAAAAAFlAQSosWozTWEBvZ9OD9YhYQOSsVlxaPVhAz7GivcEBWEB4Dmuuc25XQCjqj36U5FZAuiDFvjtoVkD+aUHFNNhVQChPElvwX1VAqiM0O8CGVECowBjUq/FTQGcoILx9FFNAHweKr2yLUkAJAZE9behRQMG9ENJZQlFA7Ni1HOiIUEBuUGmPGMhPQKj4oWvyHU9Ar/bKM6rbTUDW4/oRb6RMQDGQNfiqqEtANUifRpFtSkAV+knb8A1JQMTXU4saIEhA9/S9lFCNR0Ck8nG/9k5GQAYMnSiSb0VAnMU4eAyoREDTLYIfApJDQMpuwQ117kJAbyMCPZyAQkDMuumjGeVBQHRUSLxkF0FAuWO7qX1eQEAgI3t6T1FAQPWhdElCQT9ABf9tLKkuPkB91rDVq289QJSrle7GEzxAOlYeLZoBPECjYUAi5MI6QEGw+/n05jlAmQcFV9IyOUCsSZ5Itks4QLKJXlQMbjdAMuFBOTjeNkC6MKM6MvE1QMiuH3gsIDVACydJ/2iDNECpbPwaIPAzQOrmtvkg6TJATwf5omeMMkC6toE1ee8xQI5I+FMZiDFA90EeTa9kMEBK+bqQ0pEvQLiJFW3CTi5AcoYTkZeWLUDsy1dMirgsQLlvlC+VPCtAP6vaxUolKkDVeaLIwP0oQJ9OrWsFIyhAy63J9YL1JkDvH12xeXwmQDjLi1c+1yRAvV7Z3e7EJEAzSE+ZGb8jQBKcZfM3WyJADLx2qRWsIUCNMC9VPxAhQGfZz8tcrB9AZEny0wFJHkCTd+LAdyMeQNEv+gjPvR1ALkCVrYQuG0Cu7l9Bu5YaQAz8N1pJ9BdAPf174qhwF0C0t82WyS8WQGS3Zvj56hVABgWeymSSFECFd3UpxZEUQGpnxWtPcBNAHL/Blf7mEkBOJLAJdjYRQGLw5wan/RBAIg5fZ9IREUAAdugMuI4NQA9P4+900wxATSfWSktNDECv3sdR49ENQC0ubf/tMQxAIRmBDkJKB0Cj4K+mL/wGQI1P/dqeTwdAJj/+YNeOBkBuVzM3UnoFQIZo5FRzkARA",
          "dtype": "f8"
         }
        },
        {
         "mode": "lines",
         "name": "0.09 μM",
         "type": "scatter",
         "x": {
          "bdata": "wK3eIXO/gEBXn9+B2ceAQASL5kH4zoBAohDaoV7XgEAfGd+hsN+AQObt4cHj5oBAaorZwTXvgEACfNohnPeAQK5n4eG6/oBARlniQSEHgUDArd4hcw+BQFef34HZF4FABIvmQfgegUCiENqhXieBQB8Z36GwL4FA5u3hweM2gUBGWeJBIT+BQKIQ2qFeR4FAAnzaIZxPgUBXn9+B2VeBQObt4cHjXoFARlniQSFngUCiENqhXm+BQAJ82iGcd4FAV5/fgdl/gUDm7eHB44aBQGqK2cE1j4FAAnzaIZyXgUCuZ+Hhup6BQEZZ4kEhp4FAwK3eIXOvgUBXn9+B2beBQASL5kH4voFAohDaoV7HgUAfGd+hsM+BQObt4cHj1oFARlniQSHfgUCiENqhXueBQAJ82iGc74FAV5/fgdn3gUDm7eHB4/6BQEZZ4kEhB4JAohDaoV4PgkACfNohnBeCQFef34HZH4JA5u3hweMmgkBqitnBNS+CQAJ82iGcN4JArmfh4bo+gkBGWeJBIUeCQMCt3iFzT4JAV5/fgdlXgkAEi+ZB+F6CQKIQ2qFeZ4JAHxnfobBvgkDm7eHB43aCQEZZ4kEhf4JAohDaoV6HgkACfNohnI+CQFef34HZl4JA5u3hweOegkBGWeJBIaeCQKIQ2qFer4JAAnzaIZy3gkBXn9+B2b+CQObt4cHjxoJABIvmQfjOgkBGWeJBIdeCQGqK2cE134JAohDaoV7ngkDArd4hc++CQAJ82iGc94JAHxnfobD/gkBXn9+B2QeDQMwE5mHPDoNA5u3hweMWg0BGWeJBIR+DQKIQ2qFeJ4NAAnzaIZwvg0BXn9+B2TeDQObt4cHjPoNARlniQSFHg0CiENqhXk+DQAJ82iGcV4NAV5/fgdlfg0Dm7eHB42aDQEZZ4kEhb4NAohDaoV53g0ACfNohnH+DQFef34HZh4NA5u3hweOOg0BGWeJBIZeDQKIQ2qFen4NAAnzaIZyng0BXn9+B2a+DQObt4cHjtoNABIvmQfi+g0BGWeJBIceDQGqK2cE1z4NAohDaoV7Xg0DArd4hc9+DQAJ82iGc54NAHxnfobDvg0BXn9+B2feDQMwE5mHP/oNA5u3hweMGhEAEi+ZB+A6EQEZZ4kEhF4RAaorZwTUfhECiENqhXieEQMCt3iFzL4RAAnzaIZw3hEAfGd+hsD+EQFef34HZR4RAzATmYc9OhEDm7eHB41aEQASL5kH4XoRA",
          "dtype": "f8"
         },
         "y": {
          "bdata": "vFieWnjNSUAMkw8GM+FLQC+gNcgCAU5AszWddTlDUEBWcugN16xRQMpsZH4uclJAvD5EtaJwU0BUC0zf95BUQO46QDdJU1VAPjG4bj0sVkAMTZ75/+BWQEcWJfdxQldAIKBj8bL7V0BHzv1EQKRYQNTXV5WayFhAftrp/Zi8WEAAAAAAAABZQP0xxDKzwFhAXSLRGOV4WECF0vtNz1JYQBajHcJpVVhA/hnVbbaIV0An1hjpfUJXQPhDAxa1slZA1/Cpp887VkB3XkM/xbBVQFy47K6L91RAe8XFxbOBVED8BogeVcxTQFkGYgM16VJAfVZYsRd0UkCvQHDZ6JpRQFL8y60RN1FAue3SN88tUEBbnobgR3tPQCcJogLWL05AR8kMLetbTUDzWSweIZ9MQNnEqP9X60pAsRRgNFnYSUC0q82HKdRIQDVSQ1Vkd0dAKIl2vRkJR0ARR1JOmuRFQFoSyeLhlERASve0gmJuREBdInlNuSRDQBj8ARaWy0JAGNIESdHZQUDInjP9t5ZBQKjJ3Mcy+UBApKtandVIQEBOr41xLts/QAXnYSntoj5AsGklvN2iPUCqFaVsn0Q9QF+LYM9KFTxARolLYbX2OkCx/RzqqvI5QB8jTPaR+TlAC9s+j5NlOEAmPnDuxbc3QMAPAjBjkDdAP3vXD5ZJNkA4RphyX3M1QDSBh9G1zjRAjhNCKFh6NEBb1lm6uKAzQIAknrDAGzNA3FcDsO5aMkBuxsvR1MMxQOqKr+bW4DBAnYeDbTWJMEBug64pilgwQJexFC02Wy9An0kWrpGgLUBzK4kZyI8rQMZshUfvEipAi+zwJozWKUCf1Ux9xvsoQPZspXGJ5SdAiawfqN/OJkBBD2RPMjsmQDajt1NWrCVA8uEID/93JEAYMk+KpcUjQF8Pip0pByNAx1pNIaKrIUBGHEzr8jchQM5D08gRQiBAlnzTxD9fH0AjX3CF50UcQN64xbcUEB1AuMeOmXhfHECreAtJAssZQFGZArqsWBlAJZXd1I+WGEC6xXhRHycWQIrQvw3enBVA7vmL3OCEFEBPXDff3/YTQJDr6/LpZRNA4EEtDA6sEUBrMvG7hoYTQFnUrZSIgRFAOxUTrn5cEECnPPyFUZEPQFKl/675nA5AxQMsoLMZEUA3f+ig+3MMQDPGjUTWGwlAPCjFQ72dB0CVO2szzqwIQCNNizjRlQpAZoaNtj53B0DlVtOAL8EJQBLr5oZXAgVA",
          "dtype": "f8"
         }
        }
       ],
       "layout": {
        "font": {
         "size": 14
        },
        "height": 600,
        "legend": {
         "x": 0.8,
         "y": 1
        },
        "template": {
         "data": {
          "bar": [
           {
            "error_x": {
             "color": "#2a3f5f"
            },
            "error_y": {
             "color": "#2a3f5f"
            },
            "marker": {
             "line": {
              "color": "#E5ECF6",
              "width": 0.5
             },
             "pattern": {
              "fillmode": "overlay",
              "size": 10,
              "solidity": 0.2
             }
            },
            "type": "bar"
           }
          ],
          "barpolar": [
           {
            "marker": {
             "line": {
              "color": "#E5ECF6",
              "width": 0.5
             },
             "pattern": {
              "fillmode": "overlay",
              "size": 10,
              "solidity": 0.2
             }
            },
            "type": "barpolar"
           }
          ],
          "carpet": [
           {
            "aaxis": {
             "endlinecolor": "#2a3f5f",
             "gridcolor": "white",
             "linecolor": "white",
             "minorgridcolor": "white",
             "startlinecolor": "#2a3f5f"
            },
            "baxis": {
             "endlinecolor": "#2a3f5f",
             "gridcolor": "white",
             "linecolor": "white",
             "minorgridcolor": "white",
             "startlinecolor": "#2a3f5f"
            },
            "type": "carpet"
           }
          ],
          "choropleth": [
           {
            "colorbar": {
             "outlinewidth": 0,
             "ticks": ""
            },
            "type": "choropleth"
           }
          ],
          "contour": [
           {
            "colorbar": {
             "outlinewidth": 0,
             "ticks": ""
            },
            "colorscale": [
             [
              0,
              "#0d0887"
             ],
             [
              0.1111111111111111,
              "#46039f"
             ],
             [
              0.2222222222222222,
              "#7201a8"
             ],
             [
              0.3333333333333333,
              "#9c179e"
             ],
             [
              0.4444444444444444,
              "#bd3786"
             ],
             [
              0.5555555555555556,
              "#d8576b"
             ],
             [
              0.6666666666666666,
              "#ed7953"
             ],
             [
              0.7777777777777778,
              "#fb9f3a"
             ],
             [
              0.8888888888888888,
              "#fdca26"
             ],
             [
              1,
              "#f0f921"
             ]
            ],
            "type": "contour"
           }
          ],
          "contourcarpet": [
           {
            "colorbar": {
             "outlinewidth": 0,
             "ticks": ""
            },
            "type": "contourcarpet"
           }
          ],
          "heatmap": [
           {
            "colorbar": {
             "outlinewidth": 0,
             "ticks": ""
            },
            "colorscale": [
             [
              0,
              "#0d0887"
             ],
             [
              0.1111111111111111,
              "#46039f"
             ],
             [
              0.2222222222222222,
              "#7201a8"
             ],
             [
              0.3333333333333333,
              "#9c179e"
             ],
             [
              0.4444444444444444,
              "#bd3786"
             ],
             [
              0.5555555555555556,
              "#d8576b"
             ],
             [
              0.6666666666666666,
              "#ed7953"
             ],
             [
              0.7777777777777778,
              "#fb9f3a"
             ],
             [
              0.8888888888888888,
              "#fdca26"
             ],
             [
              1,
              "#f0f921"
             ]
            ],
            "type": "heatmap"
           }
          ],
          "histogram": [
           {
            "marker": {
             "pattern": {
              "fillmode": "overlay",
              "size": 10,
              "solidity": 0.2
             }
            },
            "type": "histogram"
           }
          ],
          "histogram2d": [
           {
            "colorbar": {
             "outlinewidth": 0,
             "ticks": ""
            },
            "colorscale": [
             [
              0,
              "#0d0887"
             ],
             [
              0.1111111111111111,
              "#46039f"
             ],
             [
              0.2222222222222222,
              "#7201a8"
             ],
             [
              0.3333333333333333,
              "#9c179e"
             ],
             [
              0.4444444444444444,
              "#bd3786"
             ],
             [
              0.5555555555555556,
              "#d8576b"
             ],
             [
              0.6666666666666666,
              "#ed7953"
             ],
             [
              0.7777777777777778,
              "#fb9f3a"
             ],
             [
              0.8888888888888888,
              "#fdca26"
             ],
             [
              1,
              "#f0f921"
             ]
            ],
            "type": "histogram2d"
           }
          ],
          "histogram2dcontour": [
           {
            "colorbar": {
             "outlinewidth": 0,
             "ticks": ""
            },
            "colorscale": [
             [
              0,
              "#0d0887"
             ],
             [
              0.1111111111111111,
              "#46039f"
             ],
             [
              0.2222222222222222,
              "#7201a8"
             ],
             [
              0.3333333333333333,
              "#9c179e"
             ],
             [
              0.4444444444444444,
              "#bd3786"
             ],
             [
              0.5555555555555556,
              "#d8576b"
             ],
             [
              0.6666666666666666,
              "#ed7953"
             ],
             [
              0.7777777777777778,
              "#fb9f3a"
             ],
             [
              0.8888888888888888,
              "#fdca26"
             ],
             [
              1,
              "#f0f921"
             ]
            ],
            "type": "histogram2dcontour"
           }
          ],
          "mesh3d": [
           {
            "colorbar": {
             "outlinewidth": 0,
             "ticks": ""
            },
            "type": "mesh3d"
           }
          ],
          "parcoords": [
           {
            "line": {
             "colorbar": {
              "outlinewidth": 0,
              "ticks": ""
             }
            },
            "type": "parcoords"
           }
          ],
          "pie": [
           {
            "automargin": true,
            "type": "pie"
           }
          ],
          "scatter": [
           {
            "fillpattern": {
             "fillmode": "overlay",
             "size": 10,
             "solidity": 0.2
            },
            "type": "scatter"
           }
          ],
          "scatter3d": [
           {
            "line": {
             "colorbar": {
              "outlinewidth": 0,
              "ticks": ""
             }
            },
            "marker": {
             "colorbar": {
              "outlinewidth": 0,
              "ticks": ""
             }
            },
            "type": "scatter3d"
           }
          ],
          "scattercarpet": [
           {
            "marker": {
             "colorbar": {
              "outlinewidth": 0,
              "ticks": ""
             }
            },
            "type": "scattercarpet"
           }
          ],
          "scattergeo": [
           {
            "marker": {
             "colorbar": {
              "outlinewidth": 0,
              "ticks": ""
             }
            },
            "type": "scattergeo"
           }
          ],
          "scattergl": [
           {
            "marker": {
             "colorbar": {
              "outlinewidth": 0,
              "ticks": ""
             }
            },
            "type": "scattergl"
           }
          ],
          "scattermap": [
           {
            "marker": {
             "colorbar": {
              "outlinewidth": 0,
              "ticks": ""
             }
            },
            "type": "scattermap"
           }
          ],
          "scattermapbox": [
           {
            "marker": {
             "colorbar": {
              "outlinewidth": 0,
              "ticks": ""
             }
            },
            "type": "scattermapbox"
           }
          ],
          "scatterpolar": [
           {
            "marker": {
             "colorbar": {
              "outlinewidth": 0,
              "ticks": ""
             }
            },
            "type": "scatterpolar"
           }
          ],
          "scatterpolargl": [
           {
            "marker": {
             "colorbar": {
              "outlinewidth": 0,
              "ticks": ""
             }
            },
            "type": "scatterpolargl"
           }
          ],
          "scatterternary": [
           {
            "marker": {
             "colorbar": {
              "outlinewidth": 0,
              "ticks": ""
             }
            },
            "type": "scatterternary"
           }
          ],
          "surface": [
           {
            "colorbar": {
             "outlinewidth": 0,
             "ticks": ""
            },
            "colorscale": [
             [
              0,
              "#0d0887"
             ],
             [
              0.1111111111111111,
              "#46039f"
             ],
             [
              0.2222222222222222,
              "#7201a8"
             ],
             [
              0.3333333333333333,
              "#9c179e"
             ],
             [
              0.4444444444444444,
              "#bd3786"
             ],
             [
              0.5555555555555556,
              "#d8576b"
             ],
             [
              0.6666666666666666,
              "#ed7953"
             ],
             [
              0.7777777777777778,
              "#fb9f3a"
             ],
             [
              0.8888888888888888,
              "#fdca26"
             ],
             [
              1,
              "#f0f921"
             ]
            ],
            "type": "surface"
           }
          ],
          "table": [
           {
            "cells": {
             "fill": {
              "color": "#EBF0F8"
             },
             "line": {
              "color": "white"
             }
            },
            "header": {
             "fill": {
              "color": "#C8D4E3"
             },
             "line": {
              "color": "white"
             }
            },
            "type": "table"
           }
          ]
         },
         "layout": {
          "annotationdefaults": {
           "arrowcolor": "#2a3f5f",
           "arrowhead": 0,
           "arrowwidth": 1
          },
          "autotypenumbers": "strict",
          "coloraxis": {
           "colorbar": {
            "outlinewidth": 0,
            "ticks": ""
           }
          },
          "colorscale": {
           "diverging": [
            [
             0,
             "#8e0152"
            ],
            [
             0.1,
             "#c51b7d"
            ],
            [
             0.2,
             "#de77ae"
            ],
            [
             0.3,
             "#f1b6da"
            ],
            [
             0.4,
             "#fde0ef"
            ],
            [
             0.5,
             "#f7f7f7"
            ],
            [
             0.6,
             "#e6f5d0"
            ],
            [
             0.7,
             "#b8e186"
            ],
            [
             0.8,
             "#7fbc41"
            ],
            [
             0.9,
             "#4d9221"
            ],
            [
             1,
             "#276419"
            ]
           ],
           "sequential": [
            [
             0,
             "#0d0887"
            ],
            [
             0.1111111111111111,
             "#46039f"
            ],
            [
             0.2222222222222222,
             "#7201a8"
            ],
            [
             0.3333333333333333,
             "#9c179e"
            ],
            [
             0.4444444444444444,
             "#bd3786"
            ],
            [
             0.5555555555555556,
             "#d8576b"
            ],
            [
             0.6666666666666666,
             "#ed7953"
            ],
            [
             0.7777777777777778,
             "#fb9f3a"
            ],
            [
             0.8888888888888888,
             "#fdca26"
            ],
            [
             1,
             "#f0f921"
            ]
           ],
           "sequentialminus": [
            [
             0,
             "#0d0887"
            ],
            [
             0.1111111111111111,
             "#46039f"
            ],
            [
             0.2222222222222222,
             "#7201a8"
            ],
            [
             0.3333333333333333,
             "#9c179e"
            ],
            [
             0.4444444444444444,
             "#bd3786"
            ],
            [
             0.5555555555555556,
             "#d8576b"
            ],
            [
             0.6666666666666666,
             "#ed7953"
            ],
            [
             0.7777777777777778,
             "#fb9f3a"
            ],
            [
             0.8888888888888888,
             "#fdca26"
            ],
            [
             1,
             "#f0f921"
            ]
           ]
          },
          "colorway": [
           "#636efa",
           "#EF553B",
           "#00cc96",
           "#ab63fa",
           "#FFA15A",
           "#19d3f3",
           "#FF6692",
           "#B6E880",
           "#FF97FF",
           "#FECB52"
          ],
          "font": {
           "color": "#2a3f5f"
          },
          "geo": {
           "bgcolor": "white",
           "lakecolor": "white",
           "landcolor": "#E5ECF6",
           "showlakes": true,
           "showland": true,
           "subunitcolor": "white"
          },
          "hoverlabel": {
           "align": "left"
          },
          "hovermode": "closest",
          "mapbox": {
           "style": "light"
          },
          "paper_bgcolor": "white",
          "plot_bgcolor": "#E5ECF6",
          "polar": {
           "angularaxis": {
            "gridcolor": "white",
            "linecolor": "white",
            "ticks": ""
           },
           "bgcolor": "#E5ECF6",
           "radialaxis": {
            "gridcolor": "white",
            "linecolor": "white",
            "ticks": ""
           }
          },
          "scene": {
           "xaxis": {
            "backgroundcolor": "#E5ECF6",
            "gridcolor": "white",
            "gridwidth": 2,
            "linecolor": "white",
            "showbackground": true,
            "ticks": "",
            "zerolinecolor": "white"
           },
           "yaxis": {
            "backgroundcolor": "#E5ECF6",
            "gridcolor": "white",
            "gridwidth": 2,
            "linecolor": "white",
            "showbackground": true,
            "ticks": "",
            "zerolinecolor": "white"
           },
           "zaxis": {
            "backgroundcolor": "#E5ECF6",
            "gridcolor": "white",
            "gridwidth": 2,
            "linecolor": "white",
            "showbackground": true,
            "ticks": "",
            "zerolinecolor": "white"
           }
          },
          "shapedefaults": {
           "line": {
            "color": "#2a3f5f"
           }
          },
          "ternary": {
           "aaxis": {
            "gridcolor": "white",
            "linecolor": "white",
            "ticks": ""
           },
           "baxis": {
            "gridcolor": "white",
            "linecolor": "white",
            "ticks": ""
           },
           "bgcolor": "#E5ECF6",
           "caxis": {
            "gridcolor": "white",
            "linecolor": "white",
            "ticks": ""
           }
          },
          "title": {
           "x": 0.05
          },
          "xaxis": {
           "automargin": true,
           "gridcolor": "white",
           "linecolor": "white",
           "ticks": "",
           "title": {
            "standoff": 15
           },
           "zerolinecolor": "white",
           "zerolinewidth": 2
          },
          "yaxis": {
           "automargin": true,
           "gridcolor": "white",
           "linecolor": "white",
           "ticks": "",
           "title": {
            "standoff": 15
           },
           "zerolinecolor": "white",
           "zerolinewidth": 2
          }
         }
        },
        "width": 800,
        "xaxis": {
         "title": {
          "text": "Wavelength (nm)"
         }
        },
        "yaxis": {
         "range": [
          0,
          100
         ],
         "title": {
          "text": "Intensity (%)"
         }
        }
       }
      }
     },
     "metadata": {},
     "output_type": "display_data"
    },
    {
     "data": {
      "text/plain": [
       "<Figure size 1000x600 with 0 Axes>"
      ]
     },
     "metadata": {},
     "output_type": "display_data"
    }
   ],
   "source": [
    "# plotting normalized spectrum (kind of, in the sense that we are not normalizing the area under the curve, but the maximum value of the spectrum)\n",
    "\n",
    "delta = np.array(λcenter_list) - np.mean(λcenter_list)  # Calculate the average value of λcenter\n",
    "\n",
    "plt.figure(figsize=(10, 6))\n",
    "\n",
    "fig = go.Figure()\n",
    "\n",
    "for λ_col, I_col, c, d in zip(WAVELENGHTS, INTENSITIES,CONCENTRATIONS,delta):\n",
    "    max = data[I_col].max()\n",
    "    centered_wavelengths = data[λ_col] - d  # Center the wavelengths around the average λcenter\n",
    "    fig.add_trace(go.Scatter(x=centered_wavelengths,y= data[I_col]*100/ max,\n",
    "                    mode='lines',\n",
    "                    name=f'{np.round(c,2)} μM'))\n",
    "\n",
    "fig.update_layout(\n",
    "                  xaxis_title='Wavelength (nm)',\n",
    "                  yaxis_title='Intensity (%)',\n",
    "                  height=600,\n",
    "                  width=800,\n",
    "                  yaxis=dict(range=[0, 100]),\n",
    "                  legend=dict(x=0.8, y=1),\n",
    "                  font=dict(size=14))\n",
    "\n",
    "\n",
    "fig.show()"
   ]
  },
  {
   "cell_type": "markdown",
   "metadata": {},
   "source": [
    "The function $ F(C) $ is defined as:\n",
    "\n",
    "$ F(C, F_0, k, y_0) = F_0 \\cdot \\left( 1 - e^{-k \\cdot C} \\right) + y_0$\n",
    "\n",
    "where:\n",
    "- $ C $ is the concentration,\n",
    "- $ F_0 $ is the maximum fluorescence intensity,\n",
    "- $ k $ is the rate constant,\n",
    "- $ y_0 $ is the baseline fluorescence intensity."
   ]
  },
  {
   "cell_type": "code",
   "execution_count": 14,
   "metadata": {},
   "outputs": [],
   "source": [
    "# fit with the exponential 1-exp(-k*C)\n",
    "\n",
    "def F_C_fit(C,F0,k,y0):\n",
    "    return F0*(1-np.exp(-k*C)) + y0"
   ]
  },
  {
   "cell_type": "code",
   "execution_count": 15,
   "metadata": {},
   "outputs": [
    {
     "name": "stdout",
     "output_type": "stream",
     "text": [
      "F0: 3256 ± 3091 a.u.\n",
      "k: 0.089 ± 0.094 μM^-1\n",
      "y0: -20.111 ± 7.48 a.u.\n"
     ]
    },
    {
     "data": {
      "application/vnd.plotly.v1+json": {
       "config": {
        "plotlyServerURL": "https://plot.ly"
       },
       "data": [
        {
         "error_x": {
          "array": {
           "bdata": "XxgPU1/QYj8FfZUXsAxlP11eB+LZmWM/1sVAgxH3Xj8dXtVw4KtSP9lOv2uyLVA/yE/v9NwFSj/jCScUeqVCP15RPFxEeDQ/M025tp8qJj8=",
           "dtype": "f8"
          },
          "type": "data",
          "visible": true
         },
         "error_y": {
          "array": {
           "bdata": "0hF7eP959T/fkXkc1r34P0l4O5VuQtA/l2KGlfrfxj/vsz2Y+gTQP8Y9FB5WCsc/XZ99Gh0Ksj+OjfoAbJmtPzbS5tcLKKE/ELq7Fb62oj8=",
           "dtype": "f8"
          },
          "type": "data",
          "visible": true
         },
         "mode": "markers",
         "name": "Data with error",
         "type": "scatter",
         "x": {
          "bdata": "0PIi4kbKEkBUDmXhSpwLQD/pya2InwRATAkZVFtc+z9mqbiISmrrPy49PpibEeY/C+yCzkOM4D+8kSdjABbWP7yRJ2MAFsY/ND/xWWoftj8=",
          "dtype": "f8"
         },
         "y": {
          "bdata": "d9fK7YtljUAHDWK+v5+JQDFUbwOac4ZAMqwOqw3MfkBW0ISNf9ZtQI2s6jxjSGVAmHJyR2pxXUB89PyQzkVKQKxSbnM5UjNA4HqVgVOpJkA=",
          "dtype": "f8"
         }
        },
        {
         "mode": "lines",
         "name": "Fit",
         "type": "scatter",
         "x": {
          "bdata": "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",
          "dtype": "f8"
         },
         "y": {
          "bdata": "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",
          "dtype": "f8"
         }
        }
       ],
       "layout": {
        "font": {
         "size": 14
        },
        "height": 600,
        "legend": {
         "x": 0.8,
         "y": 1
        },
        "template": {
         "data": {
          "bar": [
           {
            "error_x": {
             "color": "#2a3f5f"
            },
            "error_y": {
             "color": "#2a3f5f"
            },
            "marker": {
             "line": {
              "color": "#E5ECF6",
              "width": 0.5
             },
             "pattern": {
              "fillmode": "overlay",
              "size": 10,
              "solidity": 0.2
             }
            },
            "type": "bar"
           }
          ],
          "barpolar": [
           {
            "marker": {
             "line": {
              "color": "#E5ECF6",
              "width": 0.5
             },
             "pattern": {
              "fillmode": "overlay",
              "size": 10,
              "solidity": 0.2
             }
            },
            "type": "barpolar"
           }
          ],
          "carpet": [
           {
            "aaxis": {
             "endlinecolor": "#2a3f5f",
             "gridcolor": "white",
             "linecolor": "white",
             "minorgridcolor": "white",
             "startlinecolor": "#2a3f5f"
            },
            "baxis": {
             "endlinecolor": "#2a3f5f",
             "gridcolor": "white",
             "linecolor": "white",
             "minorgridcolor": "white",
             "startlinecolor": "#2a3f5f"
            },
            "type": "carpet"
           }
          ],
          "choropleth": [
           {
            "colorbar": {
             "outlinewidth": 0,
             "ticks": ""
            },
            "type": "choropleth"
           }
          ],
          "contour": [
           {
            "colorbar": {
             "outlinewidth": 0,
             "ticks": ""
            },
            "colorscale": [
             [
              0,
              "#0d0887"
             ],
             [
              0.1111111111111111,
              "#46039f"
             ],
             [
              0.2222222222222222,
              "#7201a8"
             ],
             [
              0.3333333333333333,
              "#9c179e"
             ],
             [
              0.4444444444444444,
              "#bd3786"
             ],
             [
              0.5555555555555556,
              "#d8576b"
             ],
             [
              0.6666666666666666,
              "#ed7953"
             ],
             [
              0.7777777777777778,
              "#fb9f3a"
             ],
             [
              0.8888888888888888,
              "#fdca26"
             ],
             [
              1,
              "#f0f921"
             ]
            ],
            "type": "contour"
           }
          ],
          "contourcarpet": [
           {
            "colorbar": {
             "outlinewidth": 0,
             "ticks": ""
            },
            "type": "contourcarpet"
           }
          ],
          "heatmap": [
           {
            "colorbar": {
             "outlinewidth": 0,
             "ticks": ""
            },
            "colorscale": [
             [
              0,
              "#0d0887"
             ],
             [
              0.1111111111111111,
              "#46039f"
             ],
             [
              0.2222222222222222,
              "#7201a8"
             ],
             [
              0.3333333333333333,
              "#9c179e"
             ],
             [
              0.4444444444444444,
              "#bd3786"
             ],
             [
              0.5555555555555556,
              "#d8576b"
             ],
             [
              0.6666666666666666,
              "#ed7953"
             ],
             [
              0.7777777777777778,
              "#fb9f3a"
             ],
             [
              0.8888888888888888,
              "#fdca26"
             ],
             [
              1,
              "#f0f921"
             ]
            ],
            "type": "heatmap"
           }
          ],
          "histogram": [
           {
            "marker": {
             "pattern": {
              "fillmode": "overlay",
              "size": 10,
              "solidity": 0.2
             }
            },
            "type": "histogram"
           }
          ],
          "histogram2d": [
           {
            "colorbar": {
             "outlinewidth": 0,
             "ticks": ""
            },
            "colorscale": [
             [
              0,
              "#0d0887"
             ],
             [
              0.1111111111111111,
              "#46039f"
             ],
             [
              0.2222222222222222,
              "#7201a8"
             ],
             [
              0.3333333333333333,
              "#9c179e"
             ],
             [
              0.4444444444444444,
              "#bd3786"
             ],
             [
              0.5555555555555556,
              "#d8576b"
             ],
             [
              0.6666666666666666,
              "#ed7953"
             ],
             [
              0.7777777777777778,
              "#fb9f3a"
             ],
             [
              0.8888888888888888,
              "#fdca26"
             ],
             [
              1,
              "#f0f921"
             ]
            ],
            "type": "histogram2d"
           }
          ],
          "histogram2dcontour": [
           {
            "colorbar": {
             "outlinewidth": 0,
             "ticks": ""
            },
            "colorscale": [
             [
              0,
              "#0d0887"
             ],
             [
              0.1111111111111111,
              "#46039f"
             ],
             [
              0.2222222222222222,
              "#7201a8"
             ],
             [
              0.3333333333333333,
              "#9c179e"
             ],
             [
              0.4444444444444444,
              "#bd3786"
             ],
             [
              0.5555555555555556,
              "#d8576b"
             ],
             [
              0.6666666666666666,
              "#ed7953"
             ],
             [
              0.7777777777777778,
              "#fb9f3a"
             ],
             [
              0.8888888888888888,
              "#fdca26"
             ],
             [
              1,
              "#f0f921"
             ]
            ],
            "type": "histogram2dcontour"
           }
          ],
          "mesh3d": [
           {
            "colorbar": {
             "outlinewidth": 0,
             "ticks": ""
            },
            "type": "mesh3d"
           }
          ],
          "parcoords": [
           {
            "line": {
             "colorbar": {
              "outlinewidth": 0,
              "ticks": ""
             }
            },
            "type": "parcoords"
           }
          ],
          "pie": [
           {
            "automargin": true,
            "type": "pie"
           }
          ],
          "scatter": [
           {
            "fillpattern": {
             "fillmode": "overlay",
             "size": 10,
             "solidity": 0.2
            },
            "type": "scatter"
           }
          ],
          "scatter3d": [
           {
            "line": {
             "colorbar": {
              "outlinewidth": 0,
              "ticks": ""
             }
            },
            "marker": {
             "colorbar": {
              "outlinewidth": 0,
              "ticks": ""
             }
            },
            "type": "scatter3d"
           }
          ],
          "scattercarpet": [
           {
            "marker": {
             "colorbar": {
              "outlinewidth": 0,
              "ticks": ""
             }
            },
            "type": "scattercarpet"
           }
          ],
          "scattergeo": [
           {
            "marker": {
             "colorbar": {
              "outlinewidth": 0,
              "ticks": ""
             }
            },
            "type": "scattergeo"
           }
          ],
          "scattergl": [
           {
            "marker": {
             "colorbar": {
              "outlinewidth": 0,
              "ticks": ""
             }
            },
            "type": "scattergl"
           }
          ],
          "scattermap": [
           {
            "marker": {
             "colorbar": {
              "outlinewidth": 0,
              "ticks": ""
             }
            },
            "type": "scattermap"
           }
          ],
          "scattermapbox": [
           {
            "marker": {
             "colorbar": {
              "outlinewidth": 0,
              "ticks": ""
             }
            },
            "type": "scattermapbox"
           }
          ],
          "scatterpolar": [
           {
            "marker": {
             "colorbar": {
              "outlinewidth": 0,
              "ticks": ""
             }
            },
            "type": "scatterpolar"
           }
          ],
          "scatterpolargl": [
           {
            "marker": {
             "colorbar": {
              "outlinewidth": 0,
              "ticks": ""
             }
            },
            "type": "scatterpolargl"
           }
          ],
          "scatterternary": [
           {
            "marker": {
             "colorbar": {
              "outlinewidth": 0,
              "ticks": ""
             }
            },
            "type": "scatterternary"
           }
          ],
          "surface": [
           {
            "colorbar": {
             "outlinewidth": 0,
             "ticks": ""
            },
            "colorscale": [
             [
              0,
              "#0d0887"
             ],
             [
              0.1111111111111111,
              "#46039f"
             ],
             [
              0.2222222222222222,
              "#7201a8"
             ],
             [
              0.3333333333333333,
              "#9c179e"
             ],
             [
              0.4444444444444444,
              "#bd3786"
             ],
             [
              0.5555555555555556,
              "#d8576b"
             ],
             [
              0.6666666666666666,
              "#ed7953"
             ],
             [
              0.7777777777777778,
              "#fb9f3a"
             ],
             [
              0.8888888888888888,
              "#fdca26"
             ],
             [
              1,
              "#f0f921"
             ]
            ],
            "type": "surface"
           }
          ],
          "table": [
           {
            "cells": {
             "fill": {
              "color": "#EBF0F8"
             },
             "line": {
              "color": "white"
             }
            },
            "header": {
             "fill": {
              "color": "#C8D4E3"
             },
             "line": {
              "color": "white"
             }
            },
            "type": "table"
           }
          ]
         },
         "layout": {
          "annotationdefaults": {
           "arrowcolor": "#2a3f5f",
           "arrowhead": 0,
           "arrowwidth": 1
          },
          "autotypenumbers": "strict",
          "coloraxis": {
           "colorbar": {
            "outlinewidth": 0,
            "ticks": ""
           }
          },
          "colorscale": {
           "diverging": [
            [
             0,
             "#8e0152"
            ],
            [
             0.1,
             "#c51b7d"
            ],
            [
             0.2,
             "#de77ae"
            ],
            [
             0.3,
             "#f1b6da"
            ],
            [
             0.4,
             "#fde0ef"
            ],
            [
             0.5,
             "#f7f7f7"
            ],
            [
             0.6,
             "#e6f5d0"
            ],
            [
             0.7,
             "#b8e186"
            ],
            [
             0.8,
             "#7fbc41"
            ],
            [
             0.9,
             "#4d9221"
            ],
            [
             1,
             "#276419"
            ]
           ],
           "sequential": [
            [
             0,
             "#0d0887"
            ],
            [
             0.1111111111111111,
             "#46039f"
            ],
            [
             0.2222222222222222,
             "#7201a8"
            ],
            [
             0.3333333333333333,
             "#9c179e"
            ],
            [
             0.4444444444444444,
             "#bd3786"
            ],
            [
             0.5555555555555556,
             "#d8576b"
            ],
            [
             0.6666666666666666,
             "#ed7953"
            ],
            [
             0.7777777777777778,
             "#fb9f3a"
            ],
            [
             0.8888888888888888,
             "#fdca26"
            ],
            [
             1,
             "#f0f921"
            ]
           ],
           "sequentialminus": [
            [
             0,
             "#0d0887"
            ],
            [
             0.1111111111111111,
             "#46039f"
            ],
            [
             0.2222222222222222,
             "#7201a8"
            ],
            [
             0.3333333333333333,
             "#9c179e"
            ],
            [
             0.4444444444444444,
             "#bd3786"
            ],
            [
             0.5555555555555556,
             "#d8576b"
            ],
            [
             0.6666666666666666,
             "#ed7953"
            ],
            [
             0.7777777777777778,
             "#fb9f3a"
            ],
            [
             0.8888888888888888,
             "#fdca26"
            ],
            [
             1,
             "#f0f921"
            ]
           ]
          },
          "colorway": [
           "#636efa",
           "#EF553B",
           "#00cc96",
           "#ab63fa",
           "#FFA15A",
           "#19d3f3",
           "#FF6692",
           "#B6E880",
           "#FF97FF",
           "#FECB52"
          ],
          "font": {
           "color": "#2a3f5f"
          },
          "geo": {
           "bgcolor": "white",
           "lakecolor": "white",
           "landcolor": "#E5ECF6",
           "showlakes": true,
           "showland": true,
           "subunitcolor": "white"
          },
          "hoverlabel": {
           "align": "left"
          },
          "hovermode": "closest",
          "mapbox": {
           "style": "light"
          },
          "paper_bgcolor": "white",
          "plot_bgcolor": "#E5ECF6",
          "polar": {
           "angularaxis": {
            "gridcolor": "white",
            "linecolor": "white",
            "ticks": ""
           },
           "bgcolor": "#E5ECF6",
           "radialaxis": {
            "gridcolor": "white",
            "linecolor": "white",
            "ticks": ""
           }
          },
          "scene": {
           "xaxis": {
            "backgroundcolor": "#E5ECF6",
            "gridcolor": "white",
            "gridwidth": 2,
            "linecolor": "white",
            "showbackground": true,
            "ticks": "",
            "zerolinecolor": "white"
           },
           "yaxis": {
            "backgroundcolor": "#E5ECF6",
            "gridcolor": "white",
            "gridwidth": 2,
            "linecolor": "white",
            "showbackground": true,
            "ticks": "",
            "zerolinecolor": "white"
           },
           "zaxis": {
            "backgroundcolor": "#E5ECF6",
            "gridcolor": "white",
            "gridwidth": 2,
            "linecolor": "white",
            "showbackground": true,
            "ticks": "",
            "zerolinecolor": "white"
           }
          },
          "shapedefaults": {
           "line": {
            "color": "#2a3f5f"
           }
          },
          "ternary": {
           "aaxis": {
            "gridcolor": "white",
            "linecolor": "white",
            "ticks": ""
           },
           "baxis": {
            "gridcolor": "white",
            "linecolor": "white",
            "ticks": ""
           },
           "bgcolor": "#E5ECF6",
           "caxis": {
            "gridcolor": "white",
            "linecolor": "white",
            "ticks": ""
           }
          },
          "title": {
           "x": 0.05
          },
          "xaxis": {
           "automargin": true,
           "gridcolor": "white",
           "linecolor": "white",
           "ticks": "",
           "title": {
            "standoff": 15
           },
           "zerolinecolor": "white",
           "zerolinewidth": 2
          },
          "yaxis": {
           "automargin": true,
           "gridcolor": "white",
           "linecolor": "white",
           "ticks": "",
           "title": {
            "standoff": 15
           },
           "zerolinecolor": "white",
           "zerolinewidth": 2
          }
         }
        },
        "title": {
         "text": "Intensity Fluorescence vs Concentration"
        },
        "width": 800,
        "xaxis": {
         "title": {
          "text": "Concentration (μM)"
         },
         "type": "log"
        },
        "yaxis": {
         "title": {
          "text": "Intensity Fluorescence (a.u.)"
         }
        }
       }
      }
     },
     "metadata": {},
     "output_type": "display_data"
    }
   ],
   "source": [
    "I = np.array(IMAX_list)\n",
    "sigmaI = np.array(error_IMAX_list) # need to propagate error on lambda d(-ax^2)/dx = -2ax\n",
    "\n",
    "C = np.array(CONCENTRATIONS) # convert to μM\n",
    "sigmaC = np.array(SIGMA_CONCETRATIONS)# propagate error on C\n",
    "\n",
    "# iteration 0\n",
    "popt, pcov = curve_fit(F_C_fit, C, I, p0=[1000,0.3,1.0],sigma=sigmaI,maxfev=10000)\n",
    "F0, k, y0 = popt\n",
    "error_F0, error_k, error_y0 = np.sqrt(np.diag(pcov))\n",
    "\n",
    "# iteration 1\n",
    "dFdC = np.abs(k*F0*np.exp(-k*C)) # propagate error on C\n",
    "sigmaTot = np.sqrt(sigmaI**2 + (dFdC*sigmaC)**2) # propagate error on I\n",
    "popt, pcov = curve_fit(F_C_fit, C, I, p0=[F0,k,y0],sigma=sigmaTot)\n",
    "F0, k, y0 = popt\n",
    "error_F0, error_k, error_y0 = np.sqrt(np.diag(pcov))\n",
    "\n",
    "print('F0:',final_val(F0,error_F0,decimals=0,udm='a.u.'))\n",
    "print('k:',final_val(k,error_k,decimals=3,udm='μM^-1'))\n",
    "print('y0:',final_val(y0,error_y0,decimals=3,udm='a.u.'))\n",
    "\n",
    "# Create a scatter plot with error bars using Plotly\n",
    "fig = go.Figure()\n",
    "\n",
    "# Add data points with error bars\n",
    "fig.add_trace(go.Scatter(\n",
    "    x=C,\n",
    "    y=I,\n",
    "    error_y=dict(\n",
    "        type='data',\n",
    "        array=sigmaI,\n",
    "        visible=True\n",
    "    ),\n",
    "    error_x=dict(\n",
    "        type='data',\n",
    "        array=sigmaC,\n",
    "        visible=True\n",
    "    ),\n",
    "    mode='markers',\n",
    "    name='Data with error'\n",
    "))\n",
    "\n",
    "# Add the fitted curve\n",
    "c = np.linspace(np.min(C), np.max(C), 1000)\n",
    "fig.add_trace(go.Scatter(\n",
    "    x=c,\n",
    "    y=F_C_fit(c, *popt),\n",
    "    mode='lines',\n",
    "    name='Fit'\n",
    "))\n",
    "\n",
    "# Update layout for log scale and labels\n",
    "fig.update_layout(\n",
    "    xaxis=dict(\n",
    "        title='Concentration (μM)',\n",
    "        type='log'\n",
    "    ),\n",
    "    yaxis=dict(\n",
    "        title='Intensity Fluorescence (a.u.)'\n",
    "    ),\n",
    "    title='Intensity Fluorescence vs Concentration',\n",
    "    height=600,\n",
    "    width=800,\n",
    "    legend=dict(x=0.8, y=1),\n",
    "    font=dict(size=14)\n",
    ")\n",
    "\n",
    "fig.show()"
   ]
  },
  {
   "cell_type": "code",
   "execution_count": null,
   "metadata": {},
   "outputs": [],
   "source": []
  }
 ],
 "metadata": {
  "kernelspec": {
   "display_name": "Python 3",
   "language": "python",
   "name": "python3"
  },
  "language_info": {
   "codemirror_mode": {
    "name": "ipython",
    "version": 3
   },
   "file_extension": ".py",
   "mimetype": "text/x-python",
   "name": "python",
   "nbconvert_exporter": "python",
   "pygments_lexer": "ipython3",
   "version": "3.13.0"
  }
 },
 "nbformat": 4,
 "nbformat_minor": 2
}
