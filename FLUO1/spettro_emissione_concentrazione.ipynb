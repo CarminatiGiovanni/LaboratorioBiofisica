{
 "cells": [
  {
   "cell_type": "code",
   "execution_count": 3,
   "metadata": {},
   "outputs": [],
   "source": [
    "from matplotlib import pyplot as plt\n",
    "import numpy as np\n",
    "import pandas as pd\n",
    "import plotly.express as px\n",
    "import os\n",
    "import sys\n",
    "import plotly.graph_objects as go \n",
    "dir_path = os.path.abspath('')\n",
    "sys.path.append(dir_path + '/../')\n",
    "from labbiofisica import Interpolazione, final_val\n",
    "from scipy.optimize import curve_fit"
   ]
  },
  {
   "cell_type": "code",
   "execution_count": 4,
   "metadata": {},
   "outputs": [
    {
     "data": {
      "text/html": [
       "<div>\n",
       "<style scoped>\n",
       "    .dataframe tbody tr th:only-of-type {\n",
       "        vertical-align: middle;\n",
       "    }\n",
       "\n",
       "    .dataframe tbody tr th {\n",
       "        vertical-align: top;\n",
       "    }\n",
       "\n",
       "    .dataframe thead th {\n",
       "        text-align: right;\n",
       "    }\n",
       "</style>\n",
       "<table border=\"1\" class=\"dataframe\">\n",
       "  <thead>\n",
       "    <tr style=\"text-align: right;\">\n",
       "      <th></th>\n",
       "      <th>λ 5</th>\n",
       "      <th>I 5</th>\n",
       "      <th>λ 4</th>\n",
       "      <th>I 4</th>\n",
       "      <th>no λ 4</th>\n",
       "      <th>no I 4</th>\n",
       "      <th>λ 3</th>\n",
       "      <th>I 3</th>\n",
       "      <th>λ 2</th>\n",
       "      <th>I 2</th>\n",
       "      <th>...</th>\n",
       "      <th>λ 0.8</th>\n",
       "      <th>I 0.8</th>\n",
       "      <th>λ 0.6</th>\n",
       "      <th>I 0.6</th>\n",
       "      <th>λ 0.4</th>\n",
       "      <th>I 0.4</th>\n",
       "      <th>λ 0.2</th>\n",
       "      <th>I 0.2</th>\n",
       "      <th>λ 0.1</th>\n",
       "      <th>I 0.1</th>\n",
       "    </tr>\n",
       "  </thead>\n",
       "  <tbody>\n",
       "    <tr>\n",
       "      <th>112</th>\n",
       "      <td>646.950012</td>\n",
       "      <td>29.311554</td>\n",
       "      <td>646.950012</td>\n",
       "      <td>25.126436</td>\n",
       "      <td>646.950012</td>\n",
       "      <td>29.019300</td>\n",
       "      <td>646.950012</td>\n",
       "      <td>21.187140</td>\n",
       "      <td>646.950012</td>\n",
       "      <td>14.265793</td>\n",
       "      <td>...</td>\n",
       "      <td>646.950012</td>\n",
       "      <td>4.883633</td>\n",
       "      <td>646.950012</td>\n",
       "      <td>3.315377</td>\n",
       "      <td>646.950012</td>\n",
       "      <td>1.589167</td>\n",
       "      <td>646.950012</td>\n",
       "      <td>0.555993</td>\n",
       "      <td>646.950012</td>\n",
       "      <td>0.351009</td>\n",
       "    </tr>\n",
       "    <tr>\n",
       "      <th>113</th>\n",
       "      <td>647.969971</td>\n",
       "      <td>28.124762</td>\n",
       "      <td>647.969971</td>\n",
       "      <td>23.946281</td>\n",
       "      <td>647.969971</td>\n",
       "      <td>27.984386</td>\n",
       "      <td>647.969971</td>\n",
       "      <td>20.061258</td>\n",
       "      <td>647.969971</td>\n",
       "      <td>13.714191</td>\n",
       "      <td>...</td>\n",
       "      <td>647.969971</td>\n",
       "      <td>4.719029</td>\n",
       "      <td>647.969971</td>\n",
       "      <td>3.173567</td>\n",
       "      <td>647.969971</td>\n",
       "      <td>1.429973</td>\n",
       "      <td>647.969971</td>\n",
       "      <td>0.563877</td>\n",
       "      <td>647.969971</td>\n",
       "      <td>0.378182</td>\n",
       "    </tr>\n",
       "    <tr>\n",
       "      <th>114</th>\n",
       "      <td>648.840027</td>\n",
       "      <td>26.902561</td>\n",
       "      <td>648.840027</td>\n",
       "      <td>23.194933</td>\n",
       "      <td>648.840027</td>\n",
       "      <td>27.167797</td>\n",
       "      <td>648.840027</td>\n",
       "      <td>19.790516</td>\n",
       "      <td>648.840027</td>\n",
       "      <td>13.449127</td>\n",
       "      <td>...</td>\n",
       "      <td>648.840027</td>\n",
       "      <td>4.602462</td>\n",
       "      <td>648.840027</td>\n",
       "      <td>3.138167</td>\n",
       "      <td>648.840027</td>\n",
       "      <td>1.417011</td>\n",
       "      <td>648.840027</td>\n",
       "      <td>0.545661</td>\n",
       "      <td>648.840027</td>\n",
       "      <td>0.333807</td>\n",
       "    </tr>\n",
       "    <tr>\n",
       "      <th>115</th>\n",
       "      <td>649.849976</td>\n",
       "      <td>26.203035</td>\n",
       "      <td>649.849976</td>\n",
       "      <td>22.347122</td>\n",
       "      <td>649.849976</td>\n",
       "      <td>25.561733</td>\n",
       "      <td>649.849976</td>\n",
       "      <td>18.675690</td>\n",
       "      <td>649.849976</td>\n",
       "      <td>12.785388</td>\n",
       "      <td>...</td>\n",
       "      <td>649.849976</td>\n",
       "      <td>4.334819</td>\n",
       "      <td>649.849976</td>\n",
       "      <td>2.955356</td>\n",
       "      <td>649.849976</td>\n",
       "      <td>1.345403</td>\n",
       "      <td>649.849976</td>\n",
       "      <td>0.519533</td>\n",
       "      <td>649.849976</td>\n",
       "      <td>0.366366</td>\n",
       "    </tr>\n",
       "    <tr>\n",
       "      <th>116</th>\n",
       "      <td>650.859985</td>\n",
       "      <td>24.811270</td>\n",
       "      <td>650.859985</td>\n",
       "      <td>21.325739</td>\n",
       "      <td>650.859985</td>\n",
       "      <td>24.539951</td>\n",
       "      <td>650.859985</td>\n",
       "      <td>18.069601</td>\n",
       "      <td>650.859985</td>\n",
       "      <td>12.159359</td>\n",
       "      <td>...</td>\n",
       "      <td>650.859985</td>\n",
       "      <td>4.134296</td>\n",
       "      <td>650.859985</td>\n",
       "      <td>2.907012</td>\n",
       "      <td>650.859985</td>\n",
       "      <td>1.283329</td>\n",
       "      <td>650.859985</td>\n",
       "      <td>0.497435</td>\n",
       "      <td>650.859985</td>\n",
       "      <td>0.298861</td>\n",
       "    </tr>\n",
       "  </tbody>\n",
       "</table>\n",
       "<p>5 rows × 22 columns</p>\n",
       "</div>"
      ],
      "text/plain": [
       "            λ 5        I 5         λ 4        I 4      no λ 4     no I 4  \\\n",
       "112  646.950012  29.311554  646.950012  25.126436  646.950012  29.019300   \n",
       "113  647.969971  28.124762  647.969971  23.946281  647.969971  27.984386   \n",
       "114  648.840027  26.902561  648.840027  23.194933  648.840027  27.167797   \n",
       "115  649.849976  26.203035  649.849976  22.347122  649.849976  25.561733   \n",
       "116  650.859985  24.811270  650.859985  21.325739  650.859985  24.539951   \n",
       "\n",
       "            λ 3        I 3         λ 2        I 2  ...       λ 0.8     I 0.8  \\\n",
       "112  646.950012  21.187140  646.950012  14.265793  ...  646.950012  4.883633   \n",
       "113  647.969971  20.061258  647.969971  13.714191  ...  647.969971  4.719029   \n",
       "114  648.840027  19.790516  648.840027  13.449127  ...  648.840027  4.602462   \n",
       "115  649.849976  18.675690  649.849976  12.785388  ...  649.849976  4.334819   \n",
       "116  650.859985  18.069601  650.859985  12.159359  ...  650.859985  4.134296   \n",
       "\n",
       "          λ 0.6     I 0.6       λ 0.4     I 0.4       λ 0.2     I 0.2  \\\n",
       "112  646.950012  3.315377  646.950012  1.589167  646.950012  0.555993   \n",
       "113  647.969971  3.173567  647.969971  1.429973  647.969971  0.563877   \n",
       "114  648.840027  3.138167  648.840027  1.417011  648.840027  0.545661   \n",
       "115  649.849976  2.955356  649.849976  1.345403  649.849976  0.519533   \n",
       "116  650.859985  2.907012  650.859985  1.283329  650.859985  0.497435   \n",
       "\n",
       "          λ 0.1     I 0.1  \n",
       "112  646.950012  0.351009  \n",
       "113  647.969971  0.378182  \n",
       "114  648.840027  0.333807  \n",
       "115  649.849976  0.366366  \n",
       "116  650.859985  0.298861  \n",
       "\n",
       "[5 rows x 22 columns]"
      ]
     },
     "execution_count": 4,
     "metadata": {},
     "output_type": "execute_result"
    }
   ],
   "source": [
    "filename = 'data/assorbanza_rodamina_concentrazioni_tot.csv'\n",
    "\n",
    "header = ['λ 5','I 5','λ 4','I 4','no λ 4','no I 4','λ 3','I 3','λ 2','I 2','λ 1','I 1','λ 0.8','I 0.8','λ 0.6','I 0.6','λ 0.4','I 0.4','λ 0.2','I 0.2','λ 0.1','I 0.1']\n",
    "\n",
    "data = pd.read_csv(filename,sep=',',header=1,nrows=117)\n",
    "data = data.iloc[:, :-1] # drop last column\n",
    "data.columns = header\n",
    "data.tail()"
   ]
  },
  {
   "cell_type": "code",
   "execution_count": 5,
   "metadata": {},
   "outputs": [],
   "source": [
    "λexc = 526 #nm\n",
    "sigma_lambda = 1.5 #nm DICHIARATI DAL COSTRUTTORE\n",
    "C = [5,4,3,2,1,0.8,0.6,0.4,0.2,0.1] #mM\n",
    "\n",
    "# Extracting the relevant columns for plotting\n",
    "WAVELENGHTS = ['λ 5', 'λ 4', 'λ 3', 'λ 2', 'λ 1', 'λ 0.8', 'λ 0.6', 'λ 0.4', 'λ 0.2', 'λ 0.1']\n",
    "INTENSITIES = ['I 5', 'I 4', 'I 3', 'I 2', 'I 1', 'I 0.8', 'I 0.6', 'I 0.4', 'I 0.2', 'I 0.1']\n",
    "CONCENTRATIONS=[5,4,3,2,1,0.8,0.6,0.4,0.2,0.1]"
   ]
  },
  {
   "cell_type": "code",
   "execution_count": null,
   "metadata": {},
   "outputs": [
    {
     "data": {
      "application/vnd.plotly.v1+json": {
       "config": {
        "plotlyServerURL": "https://plot.ly"
       },
       "data": [
        {
         "mode": "lines",
         "name": "5.0 μM",
         "type": "scatter",
         "x": {
          "bdata": "CaP+H1y3gECglP9/wr+AQE2ABkDhxoBA6wX6n0fPgEBoDv+fmdeAQC/jAcDM3oBAs3/5vx7ngEBLcfofhe+AQPdcAeCj9oBAj04CQAr/gEAJo/4fXAeBQKCU/3/CD4FATYAGQOEWgUDrBfqfRx+BQGgO/5+ZJ4FAL+MBwMwugUCPTgJACjeBQOsF+p9HP4FAS3H6H4VHgUCglP9/wk+BQC/jAcDMVoFAj04CQApfgUDrBfqfR2eBQEtx+h+Fb4FAoJT/f8J3gUAv4wHAzH6BQLN/+b8eh4FAS3H6H4WPgUD3XAHgo5aBQI9OAkAKn4FACaP+H1yngUCglP9/wq+BQE2ABkDhtoFA6wX6n0e/gUBoDv+fmceBQC/jAcDMzoFAj04CQArXgUDrBfqfR9+BQEtx+h+F54FAoJT/f8LvgUAv4wHAzPaBQI9OAkAK/4FA6wX6n0cHgkBLcfofhQ+CQKCU/3/CF4JAL+MBwMwegkCzf/m/HieCQEtx+h+FL4JA91wB4KM2gkCPTgJACj+CQAmj/h9cR4JAoJT/f8JPgkBNgAZA4VaCQOsF+p9HX4JAaA7/n5lngkAv4wHAzG6CQI9OAkAKd4JA6wX6n0d/gkBLcfofhYeCQKCU/3/Cj4JAL+MBwMyWgkCPTgJACp+CQOsF+p9Hp4JAS3H6H4WvgkCglP9/wreCQC/jAcDMvoJATYAGQOHGgkCPTgJACs+CQLN/+b8e14JA6wX6n0ffgkAJo/4fXOeCQEtx+h+F74JAaA7/n5n3gkCglP9/wv+CQBX6BWC4BoNAL+MBwMwOg0CPTgJACheDQOsF+p9HH4NAS3H6H4Ung0CglP9/wi+DQC/jAcDMNoNAj04CQAo/g0DrBfqfR0eDQEtx+h+FT4NAoJT/f8JXg0Av4wHAzF6DQI9OAkAKZ4NA6wX6n0dvg0BLcfofhXeDQKCU/3/Cf4NAL+MBwMyGg0CPTgJACo+DQOsF+p9Hl4NAS3H6H4Wfg0CglP9/wqeDQC/jAcDMroNATYAGQOG2g0CPTgJACr+DQLN/+b8ex4NA6wX6n0fPg0AJo/4fXNeDQEtx+h+F34NAaA7/n5nng0CglP9/wu+DQBX6BWC49oNAL+MBwMz+g0BNgAZA4QaEQI9OAkAKD4RAs3/5vx4XhEDrBfqfRx+EQAmj/h9cJ4RAS3H6H4UvhEBoDv+fmTeEQKCU/3/CP4RAFfoFYLhGhEAv4wHAzE6EQE2ABkDhVoRA",
          "dtype": "f8"
         },
         "y": {
          "bdata": "bMIHwEl1c0ATVQlgNNx1QIhQACAiBHhARoIEIEkIe0B2CgPgKSp+QBChAEBUIoBAMYj+v9D8gUBxsf2/pXyDQD3fBQBtvYRAYGsAgF0nhkDbZPlfc6OHQAAAAAAQ14hALT4FwEjBiUDA1gAAa86KQDGI/r/QjItAEUb9P/hgjECR8/4/7ryMQCqK/J9oI41AYGsAgF0ajUBAKf//RHCNQLA1AMAGY41AaA7/n2kkjUDPdwFA36iMQCqK/J94z4tAYGsAgK3Ei0ARRv0/GCyLQPBe/7+7O4pAV8gBYLEaikBHJwEgTTKJQHiv/9+NbohAlkwEYNKch0AH/gEguLuGQFDK/z85/oVAeK//380+hUAtPgXAmMKEQK6QA8Bi14NAj04CQHr3gkD+WgMADBGCQOi7AKAfeIFAnUoGgNqxgECdSgaAKkWAQIFS/v8p635AnoXzX9adfUB9nvXfeZN8QLfJ8r/GZHtAUtkLYEWeekCKXwxAvnF5QEk2DUA5Y3hAhJz3//HSd0BVIwVgTc92QGJ6DKDJ5HVA9rcE4P81dUDkcQeg56p0QEvbCUCN63NAg/f6/z1dc0D+WgMADLRyQINhCiBGMHJABe/1/7umcUCehfNf1gBxQDqVDABVpnBAZ2kCoCXqb0CY8QBghuluQI0TFWBOIW5AyeMOQM9AbUDi+OtfI2dsQOtvCcB/jGtAFCbnH9ixakA2d/S/XMFpQHXPFQA+v2hAgo3r3zXPZ0AtauZ/qCJnQOQH+H+fRGZAJ6oSwGhMZUCgKvBfqnNkQDZLEwCtwmNA3DgYoGP2YkClg/V/DkhiQJQ9+D82kGFA2ikMgOfPYEBrhxrg3QlgQF7GA4AZFl9AnbQVoBLRXUAV+gVgKJNcQCTKKOBoXltAPh00YLXaWUAr8Pw/GuxYQO7R+t862ldAajUD4IiqVkAbEACg88JVQFrT/v+mZ1RAe3sAICHbU0Do+vz/kcNSQG7l/H+iK1JARBwEgBc8UUDlsAMAKmhQQM1o9R9jmk9A7Cz+36bgTUAXnwJgvGhMQJiu9X/tSUtAvnAAYGnhSUAaqv//QblIQFXkCAAr6kdAIMD5P82dRkAvIv4fr51FQMtFAGAK8URAk7//f7HNQ0BqdP8/a/5CQCUZ/1/xS0JACLv2P59eQUA6qfWfsahAQMK6+V8R6j9AXlz0XzGaPkCpIxUAwk89QLXl+V/wHzxAWLAJQA7nOkCSLuwf+jM6QAtv/1+vzzhA",
          "dtype": "f8"
         }
        },
        {
         "mode": "lines",
         "name": "4.0 μM",
         "type": "scatter",
         "x": {
          "bdata": "CaP+H1y3gECglP9/wr+AQE2ABkDhxoBA6wX6n0fPgEBoDv+fmdeAQC/jAcDM3oBAs3/5vx7ngEBLcfofhe+AQPdcAeCj9oBAj04CQAr/gEAJo/4fXAeBQKCU/3/CD4FATYAGQOEWgUDrBfqfRx+BQGgO/5+ZJ4FAL+MBwMwugUCPTgJACjeBQOsF+p9HP4FAS3H6H4VHgUCglP9/wk+BQC/jAcDMVoFAj04CQApfgUDrBfqfR2eBQEtx+h+Fb4FAoJT/f8J3gUAv4wHAzH6BQLN/+b8eh4FAS3H6H4WPgUD3XAHgo5aBQI9OAkAKn4FACaP+H1yngUCglP9/wq+BQE2ABkDhtoFA6wX6n0e/gUBoDv+fmceBQC/jAcDMzoFAj04CQArXgUDrBfqfR9+BQEtx+h+F54FAoJT/f8LvgUAv4wHAzPaBQI9OAkAK/4FA6wX6n0cHgkBLcfofhQ+CQKCU/3/CF4JAL+MBwMwegkCzf/m/HieCQEtx+h+FL4JA91wB4KM2gkCPTgJACj+CQAmj/h9cR4JAoJT/f8JPgkBNgAZA4VaCQOsF+p9HX4JAaA7/n5lngkAv4wHAzG6CQI9OAkAKd4JA6wX6n0d/gkBLcfofhYeCQKCU/3/Cj4JAL+MBwMyWgkCPTgJACp+CQOsF+p9Hp4JAS3H6H4WvgkCglP9/wreCQC/jAcDMvoJATYAGQOHGgkCPTgJACs+CQLN/+b8e14JA6wX6n0ffgkAJo/4fXOeCQEtx+h+F74JAaA7/n5n3gkCglP9/wv+CQBX6BWC4BoNAL+MBwMwOg0CPTgJACheDQOsF+p9HH4NAS3H6H4Ung0CglP9/wi+DQC/jAcDMNoNAj04CQAo/g0DrBfqfR0eDQEtx+h+FT4NAoJT/f8JXg0Av4wHAzF6DQI9OAkAKZ4NA6wX6n0dvg0BLcfofhXeDQKCU/3/Cf4NAL+MBwMyGg0CPTgJACo+DQOsF+p9Hl4NAS3H6H4Wfg0CglP9/wqeDQC/jAcDMroNATYAGQOG2g0CPTgJACr+DQLN/+b8ex4NA6wX6n0fPg0AJo/4fXNeDQEtx+h+F34NAaA7/n5nng0CglP9/wu+DQBX6BWC49oNAL+MBwMz+g0BNgAZA4QaEQI9OAkAKD4RAs3/5vx4XhEDrBfqfRx+EQAmj/h9cJ4RAS3H6H4UvhEBoDv+fmTeEQKCU/3/CP4RAFfoFYLhGhEAv4wHAzE6EQE2ABkDhVoRA",
          "dtype": "f8"
         },
         "y": {
          "bdata": "6soMwAs+ckBMFvcfuWV0QPxL99+vQnZAbMIHwAn9eED9tQYAeMF7QE4lA0C10H1AAqX8/5NWgEBuZwTAfZ+BQKI5/H8WpIJAztIEQOvVg0BAKf//xACFQGgO/5+JEIZATiUDQAW1hkDfGAKAc56HQNPB+j+nQohANuED4FTQiEB9CAUAkheJQGEQ/X9hUIlA3xgCgDN2iUDIef8f17iJQP5aAwDMWYlAstr8v3o4iUBVIwVgXdCIQHNW+r+piohAj04CQMrth0C6ffvf1oCHQGdpAqDl5YZAx9QCIJNThkB4r//fzdmFQH0IBQDyJYVA4mL7f2tdhEBuZwTAvYWDQLN/+b9u+oJA/loDAAxbgkDhvf5/F6mBQHYKA+D5HIFAJkADoEBdgEDpYP2fw3R/QDvQ+d+AHn5AQCn//0TOfEB6VPzfseJ7QCWbBqBs0XpAkpj7P8KWeUCR8/4/jnJ4QFt8CoBxnXdAYRD9f+HHdkB/rQEAluV1QCjl/58UBXVAFfoFYIhcdEAMVwdA3J9zQN1zBYBP+3JAErAMYABTckAlmwagDM9xQL7H9N8+IHFAxS8GIN+ocEBNgAZAQQ9wQEwW9x+ZT29ALJkIwKQ8bkDbZPlfkzNtQI0/9h++ZWxA4vjrX6OYa0A70PnfwJdqQGO1+X8VzWlA+3oZIGzTaEDFLwYgvy9oQFOq6R8plWdA8z7pn3u8ZkA4hgDg2OxlQKTe+H+6JmVAhkH0/wVpZEB7j+m/vbFjQPzh578H3mJAil8MQD4vYkAVkPY/QIthQNiw8D+D4GBAS3H6H8U0YEC4ByEgX0ZfQLZf458+8F1A4o7cPzu/XEB4GQ8AZpRbQK0pNSDnt1pAizDq/0GCWUBJjQHATmBYQOlg/Z8DNVdAJ3///yJPVkADzABAY4JVQGCq/N+PfVRA40oDYHilU0C6Pv9/VLdSQOZVAAD+6FFAKCT8/zYbUUC3sfqfk0hQQMOKCSBrGk9AZNz9v6TETUAlGf9f8X5MQD4GCkBMHEtAtY4F4HoYSkDLhPy/LJVIQHiv/999bEdAtGcBoCtgRkBKtAUAnm9FQOMLBwCWeERAkpj7P2KGQ0DiYvt/i35CQJEy+5/wE0JAqE/2v3E5QUCp4AkgKYBAQFmYESA7Tj9AuYEKYC0xPkCvOQ9AzY48QBvl7N/tlTtACUwKoNYLOkAp4fAfXiA5QICp8n8/8jdAkDYKIOcxN0ASxPX/3Fg2QBR8DaBjUzVA",
          "dtype": "f8"
         }
        },
        {
         "mode": "lines",
         "name": "3.0 μM",
         "type": "scatter",
         "x": {
          "bdata": "CaP+H1y3gECglP9/wr+AQE2ABkDhxoBA6wX6n0fPgEBoDv+fmdeAQC/jAcDM3oBAs3/5vx7ngEBLcfofhe+AQPdcAeCj9oBAj04CQAr/gEAJo/4fXAeBQKCU/3/CD4FATYAGQOEWgUDrBfqfRx+BQGgO/5+ZJ4FAL+MBwMwugUCPTgJACjeBQOsF+p9HP4FAS3H6H4VHgUCglP9/wk+BQC/jAcDMVoFAj04CQApfgUDrBfqfR2eBQEtx+h+Fb4FAoJT/f8J3gUAv4wHAzH6BQLN/+b8eh4FAS3H6H4WPgUD3XAHgo5aBQI9OAkAKn4FACaP+H1yngUCglP9/wq+BQE2ABkDhtoFA6wX6n0e/gUBoDv+fmceBQC/jAcDMzoFAj04CQArXgUDrBfqfR9+BQEtx+h+F54FAoJT/f8LvgUAv4wHAzPaBQI9OAkAK/4FA6wX6n0cHgkBLcfofhQ+CQKCU/3/CF4JAL+MBwMwegkCzf/m/HieCQEtx+h+FL4JA91wB4KM2gkCPTgJACj+CQAmj/h9cR4JAoJT/f8JPgkBNgAZA4VaCQOsF+p9HX4JAaA7/n5lngkAv4wHAzG6CQI9OAkAKd4JA6wX6n0d/gkBLcfofhYeCQKCU/3/Cj4JAL+MBwMyWgkCPTgJACp+CQOsF+p9Hp4JAS3H6H4WvgkCglP9/wreCQC/jAcDMvoJATYAGQOHGgkCPTgJACs+CQLN/+b8e14JA6wX6n0ffgkAJo/4fXOeCQEtx+h+F74JAaA7/n5n3gkCglP9/wv+CQBX6BWC4BoNAL+MBwMwOg0CPTgJACheDQOsF+p9HH4NAS3H6H4Ung0CglP9/wi+DQC/jAcDMNoNAj04CQAo/g0DrBfqfR0eDQEtx+h+FT4NAoJT/f8JXg0Av4wHAzF6DQI9OAkAKZ4NA6wX6n0dvg0BLcfofhXeDQKCU/3/Cf4NAL+MBwMyGg0CPTgJACo+DQOsF+p9Hl4NAS3H6H4Wfg0CglP9/wqeDQC/jAcDMroNATYAGQOG2g0CPTgJACr+DQLN/+b8ex4NA6wX6n0fPg0AJo/4fXNeDQEtx+h+F34NAaA7/n5nng0CglP9/wu+DQBX6BWC49oNAL+MBwMz+g0BNgAZA4QaEQI9OAkAKD4RAs3/5vx4XhEDrBfqfRx+EQAmj/h9cJ4RAS3H6H4UvhEBoDv+fmTeEQKCU/3/CP4RAFfoFYLhGhEAv4wHAzE6EQE2ABkDhVoRA",
          "dtype": "f8"
         },
         "y": {
          "bdata": "lD34Pza+ckCuJvSfOtJ0QMzD+B+Pm3ZALdT1n3DdeEDMw/gfb3p7QB0z9V+sAH1AXsYDgNljf0DpYP2fE8qAQNPB+j/3iYFAScz9H9F2gkD9tQYA2HuDQEaCBCDJGIRABVkFIETchEDtFAbA8xSFQBFG/T+YvYVAS3H6HwUIhkACpfz/00SGQGdpAqD1YIZAmzv6X/50hkDyA/y/X12GQOYWBKBrLYZAPd8FAG3ihUAenQSARJOFQOYWBKC7AYVAyh78H8uMhEBoDv+fCTaEQCOM+n/gloNAZ2kCoNUJg0DYGgBgu6iCQNZ1A2AnDoJA5hYEoOtzgUBNgAZAAauAQAAAAADAIoBACaP+H2xVf0AFWQUgJO99QCsv+Z8conxAil8MQH7Re0BEc/j/rKR6QE2ABkCBynlA22T5X/OLeEC8IvjfCrh3QGxY+J8BcXZAelT83xGsdUDRHP4/8+F0QFJv/D/9InRA1dAGYMNHc0AH/gEgWMJyQFLZC2Bl53FAPd8FAN1GcUCW4vQ/yrFwQLA1AMAWGXBAv2zx33IOb0Bxsf2/xTluQE+PEmA9Nm1A9iEUAEhYbEC6ffvfNndrQFy3919de2pAi5r5H+q0aUA70PnfAO1oQKtGCsDaF2hAz3cBQJ9TZ0DKHvwf+4BmQN2f5j//3GVA+QH+34cpZUARRv0/2HVkQBS/GIB842NAXLf3X51UY0Cm7QSgNqNiQKtGCsBaxWFAskQM4NJQYUBlLhXAOaJgQJ6INODiyV9A3kckwJ/GXkAupdNf1P1dQMc70b9u7VxAxS8GIH+kW0CGFRNA1nZaQB4HFKDcgVlAoNP73/SOWEAYBQMALlZXQDtSASB801ZAEOD8n2bGVUA0VP//Q5pUQLFcBADm4FNArSoDINHdUkAzFQOgIS9SQLB0/B/5dFFAmVcBADigUEBokAbgNOJPQEmNAcDOJk5AYGsAgK3rTECxXAQAprhLQAvxBqBqdkpAW7sG4BMhSUDBe/3/bgpIQDBh+n9RKkdAixwBYGXLRUAycAagTehEQPZ0+f+G0kNABDIB4FT9QkAhJvrfPgZCQKyB95/GE0FAfQgFAKJ3QEAjjPp/ML4/QOPMCqBzyj5AeO77P6AlPUCdXu8fh3k7QOVt+B+RaTpAcHYQ4Jl+OUAF7/X/u184QLIZ+R8N+DZAUJ/sf+M3NkBOPftf6C81QAYCEaCuDzRAz3cBQF/KM0B6vgsA+qwyQIl3BGDRETJA",
          "dtype": "f8"
         }
        },
        {
         "mode": "lines",
         "name": "2.0 μM",
         "type": "scatter",
         "x": {
          "bdata": "CaP+H1y3gECglP9/wr+AQE2ABkDhxoBA6wX6n0fPgEBoDv+fmdeAQC/jAcDM3oBAs3/5vx7ngEBLcfofhe+AQPdcAeCj9oBAj04CQAr/gEAJo/4fXAeBQKCU/3/CD4FATYAGQOEWgUDrBfqfRx+BQGgO/5+ZJ4FAL+MBwMwugUCPTgJACjeBQOsF+p9HP4FAS3H6H4VHgUCglP9/wk+BQC/jAcDMVoFAj04CQApfgUDrBfqfR2eBQEtx+h+Fb4FAoJT/f8J3gUAv4wHAzH6BQLN/+b8eh4FAS3H6H4WPgUD3XAHgo5aBQI9OAkAKn4FACaP+H1yngUCglP9/wq+BQE2ABkDhtoFA6wX6n0e/gUBoDv+fmceBQC/jAcDMzoFAj04CQArXgUDrBfqfR9+BQEtx+h+F54FAoJT/f8LvgUAv4wHAzPaBQI9OAkAK/4FA6wX6n0cHgkBLcfofhQ+CQKCU/3/CF4JAL+MBwMwegkCzf/m/HieCQEtx+h+FL4JA91wB4KM2gkCPTgJACj+CQAmj/h9cR4JAoJT/f8JPgkBNgAZA4VaCQOsF+p9HX4JAaA7/n5lngkAv4wHAzG6CQI9OAkAKd4JA6wX6n0d/gkBLcfofhYeCQKCU/3/Cj4JAL+MBwMyWgkCPTgJACp+CQOsF+p9Hp4JAS3H6H4WvgkCglP9/wreCQC/jAcDMvoJATYAGQOHGgkCPTgJACs+CQLN/+b8e14JA6wX6n0ffgkAJo/4fXOeCQEtx+h+F74JAaA7/n5n3gkCglP9/wv+CQBX6BWC4BoNAL+MBwMwOg0CPTgJACheDQOsF+p9HH4NAS3H6H4Ung0CglP9/wi+DQC/jAcDMNoNAj04CQAo/g0DrBfqfR0eDQEtx+h+FT4NAoJT/f8JXg0Av4wHAzF6DQI9OAkAKZ4NA6wX6n0dvg0BLcfofhXeDQKCU/3/Cf4NAL+MBwMyGg0CPTgJACo+DQOsF+p9Hl4NAS3H6H4Wfg0CglP9/wqeDQC/jAcDMroNATYAGQOG2g0CPTgJACr+DQLN/+b8ex4NA6wX6n0fPg0AJo/4fXNeDQEtx+h+F34NAaA7/n5nng0CglP9/wu+DQBX6BWC49oNAL+MBwMz+g0BNgAZA4QaEQI9OAkAKD4RAs3/5vx4XhEDrBfqfRx+EQAmj/h9cJ4RAS3H6H4UvhEBoDv+fmTeEQKCU/3/CP4RAFfoFYLhGhEAv4wHAzE6EQE2ABkDhVoRA",
          "dtype": "f8"
         },
         "y": {
          "bdata": "d3QSABLMa0AUvxiAPJVuQOrKDMALaHBAarP7n800ckCwNQDAVuhzQGzCB8BpEHVAoqMLoA6cdkBJNg1AOfF3QMZq8/9q93hACaP+H4xoekB/rQEAlmF7QMLlDCB3VXxAaA7/n1kQfUCGQfT/5bN9QPum+t9bTX5AYx8JoD2ofkCK9fwfVrd+QFMU+T/Ry35ADO33H/S1fkCd4PZfQoN+QOrKDMCrPX5ATrvzH43SfUBuZwTAnX19QKTe+H+6v3xAP4QCAFENfEB9CAUA4ox7QAIPDCAcznpAJDH3f2T7eUAtPgXAuGx5QAIPDCCch3hAztIEQEubd0CEnPf/Ecd2QLUk9r8yD3ZA77kCwOdWdUC3MwLgbmp0QPum+t+brHNAskQM4JL3ckCiOfx/JgVyQMDWAAA7anFAY7X5f7WncEAdM/VfjNxvQEwW9x8Zpm5AqTf+n15QbUCJi+3/LTBsQI0TFWAOO2tAtbrmn2r3aUCJi+3/bRZpQCh78H9sL2hATKzn//BXZ0C3MwLgjppmQDAe75/4zGVAY0vqX63VZECLmvkfqk1kQJKY+z/itWNAmZb9X1oOY0Bn0xHAjXFiQH8XESDe3mFAluL0P4oqYUDkcQegR6VgQJQRF4BGMmBA5+oi4GujX0CFcBZAQiVeQJ4b5D9uYl1AiObw/5mKXEBpeA7AYZ5bQJeH8T+e2lpAZS4VwLn4WUA5we2/hChZQItb/b8HPVhAzGwEoBkxV0CPzPr/fktWQO+5AsAntlVAhyn833LOVED6KAIg1ydUQJxi/p/9dlNAVqH9H9KRUkAzFQOg4dNRQFrT/v+mHlFAvOP7f+hoUECD9/r/3aRPQIRd+5/Plk5Ak0EHwGwwTUAL8QagagFMQCHn/X8cl0pAwvn1vzNISUBgLAQgC3JIQFCLA+AGX0dAjWoJ4IN6RkDhvf5/d1BFQJwjAkDbRkRA15wHoOaZQ0Bxsf2/xZhCQPnCAYAlyUFAN0cEgLbvQED2dPn/Bi5AQKG7A8Chuj5Aw4oJIGunPUB84QDA0g08QNnX9H+SpjpAmr0BoGlWOUBTPwwAl1k4QGik73+RTzdAIwrzP3VGNkCzLBTA/001QMq07P/SnjRACjQSgAOYM0D+3ApAJ70yQPOUDyDH2jFAcXIBYCM6MUCYMP2/qFQwQNsRFGDUjS9AoIAW4PUELkByhRwAFogsQCzEG4CqbStA9HwXAPTlKkA+cedfHpIpQAzZDoCXUShA",
          "dtype": "f8"
         }
        },
        {
         "mode": "lines",
         "name": "1.0 μM",
         "type": "scatter",
         "x": {
          "bdata": "CaP+H1y3gECglP9/wr+AQE2ABkDhxoBA6wX6n0fPgEBoDv+fmdeAQC/jAcDM3oBAs3/5vx7ngEBLcfofhe+AQPdcAeCj9oBAj04CQAr/gEAJo/4fXAeBQKCU/3/CD4FATYAGQOEWgUDrBfqfRx+BQGgO/5+ZJ4FAL+MBwMwugUCPTgJACjeBQOsF+p9HP4FAS3H6H4VHgUCglP9/wk+BQC/jAcDMVoFAj04CQApfgUDrBfqfR2eBQEtx+h+Fb4FAoJT/f8J3gUAv4wHAzH6BQLN/+b8eh4FAS3H6H4WPgUD3XAHgo5aBQI9OAkAKn4FACaP+H1yngUCglP9/wq+BQE2ABkDhtoFA6wX6n0e/gUBoDv+fmceBQC/jAcDMzoFAj04CQArXgUDrBfqfR9+BQEtx+h+F54FAoJT/f8LvgUAv4wHAzPaBQI9OAkAK/4FA6wX6n0cHgkBLcfofhQ+CQKCU/3/CF4JAL+MBwMwegkCzf/m/HieCQEtx+h+FL4JA91wB4KM2gkCPTgJACj+CQAmj/h9cR4JAoJT/f8JPgkBNgAZA4VaCQOsF+p9HX4JAaA7/n5lngkAv4wHAzG6CQI9OAkAKd4JA6wX6n0d/gkBLcfofhYeCQKCU/3/Cj4JAL+MBwMyWgkCPTgJACp+CQOsF+p9Hp4JAS3H6H4WvgkCglP9/wreCQC/jAcDMvoJATYAGQOHGgkCPTgJACs+CQLN/+b8e14JA6wX6n0ffgkAJo/4fXOeCQEtx+h+F74JAaA7/n5n3gkCglP9/wv+CQBX6BWC4BoNAL+MBwMwOg0CPTgJACheDQOsF+p9HH4NAS3H6H4Ung0CglP9/wi+DQC/jAcDMNoNAj04CQAo/g0DrBfqfR0eDQEtx+h+FT4NAoJT/f8JXg0Av4wHAzF6DQI9OAkAKZ4NA6wX6n0dvg0BLcfofhXeDQKCU/3/Cf4NAL+MBwMyGg0CPTgJACo+DQOsF+p9Hl4NAS3H6H4Wfg0CglP9/wqeDQC/jAcDMroNATYAGQOG2g0CPTgJACr+DQLN/+b8ex4NA6wX6n0fPg0AJo/4fXNeDQEtx+h+F34NAaA7/n5nng0CglP9/wu+DQBX6BWC49oNAL+MBwMz+g0BNgAZA4QaEQI9OAkAKD4RAs3/5vx4XhEDrBfqfRx+EQAmj/h9cJ4RAS3H6H4UvhEBoDv+fmTeEQKCU/3/CP4RAFfoFYLhGhEAv4wHAzE6EQE2ABkDhVoRA",
          "dtype": "f8"
         },
         "y": {
          "bdata": "0YYNYNuTXEAHlPL/T5lfQNffEoC/FWFAmw8ZoP5xYkAWNfM/1PtjQOJi+39LQGVA2ikMgOe3ZkB9nvXfuelnQOzZGOCn+WhAVo0UgHUpakBU6BeAIRFrQF8B8V9F6GtA+3oZIOyHbEAuqBTg4A1tQKyB959Ge21ANNL3v0inbUB2CgPgqb5tQIQGByBa6G1Au+cKAN+mbUA8C+e/7GNtQJvR6j9G+GxAvpsTIK/IbEC1jgXgekZsQG+i8Z+JyWtA/bUGABgfa0AqivyfaFJqQBcJEoDkkWlAdfv2vy0daUBCZOzfUAdoQBmuDoB4j2dAzw3yH3eeZkAV+gVgKNNlQLW65p9qHWVAvIwHAHMqZEBLcfofBVZjQOVC5V9LsGJA0YYNYNvfYUD38vG/yzphQI9OAkC6QGBAMsYsIFlaX0DLhcq/llteQLZiJCDLSF1AYGsAgK0BXEBDDCpgcdRaQPCK4H+rt1lACeL6f+6xWEBSMADg2tBXQNwNBeBd+VZAK7EA4HcNVkDFbgKAoRNVQFNXBCBqrFRAGYP7vzLrU0ANlgOgvklTQKfR/f9srVJAun3737YiUkAhqAEgeoRRQBZ4/h/tAFFAgrj+n/tsUEDAFf1f/QZQQCIOAsBr/U5AqE/2v3HLTUBr2v/f3AFNQJbK/B+3+EtAj04CQLoMS0B51gMgzU9KQC77+d9ff0lAql4C4G3JSEA8Nvp/8tFHQLXl+V/wxUZA4WYKAALvRUAqivyf6EBFQGp0/z9rZkRAIIH93yqsQ0AjNQYAu/FCQHMX/l83T0JA/9j7v7CnQUCfbfs/g/RAQMcT/3+1XUBAqeAJICmBP0B+xfkficQ9QPxL99/vDj1ActgBAJWqO0DsAesf4YU6QPUO+V+VIDlA/Qjs/1b/N0BRSPj/7Qs3QLOqDIBEODZATdPrPwBTNUA9HgJgn0g0QAuH93+CGDNASY0BwE5WMkDcTAFAgKAxQFw5/59YuTBA1Gb3PxsWMECkXPE/v9ouQAbDFECMUy1Ak5Tsv2vvK0DdICCAUNAqQLkDEqDoVClA7iTg37lAKECk3SqAEAQnQAF++L9EDiZAmBwUIEw4JUBWNiAAQEkkQEk4/z/maSNAwg/833meIkAQ9gLAbKghQFx3AoC0CyFAFL37/xJvIECmqvm/XWEfQC3pAkAQ6B1ApRsD4A+HHECg6vp/gcAaQFykB0AH8hlAo2AAwDUCGUBdifkfhJEYQFqV+x+LLRdA",
          "dtype": "f8"
         }
        },
        {
         "mode": "lines",
         "name": "0.8 μM",
         "type": "scatter",
         "x": {
          "bdata": "CaP+H1y3gECglP9/wr+AQE2ABkDhxoBA6wX6n0fPgEBoDv+fmdeAQC/jAcDM3oBAs3/5vx7ngEBLcfofhe+AQPdcAeCj9oBAj04CQAr/gEAJo/4fXAeBQKCU/3/CD4FATYAGQOEWgUDrBfqfRx+BQGgO/5+ZJ4FAL+MBwMwugUCPTgJACjeBQOsF+p9HP4FAS3H6H4VHgUCglP9/wk+BQC/jAcDMVoFAj04CQApfgUDrBfqfR2eBQEtx+h+Fb4FAoJT/f8J3gUAv4wHAzH6BQLN/+b8eh4FAS3H6H4WPgUD3XAHgo5aBQI9OAkAKn4FACaP+H1yngUCglP9/wq+BQE2ABkDhtoFA6wX6n0e/gUBoDv+fmceBQC/jAcDMzoFAj04CQArXgUDrBfqfR9+BQEtx+h+F54FAoJT/f8LvgUAv4wHAzPaBQI9OAkAK/4FA6wX6n0cHgkBLcfofhQ+CQKCU/3/CF4JAL+MBwMwegkCzf/m/HieCQEtx+h+FL4JA91wB4KM2gkCPTgJACj+CQAmj/h9cR4JAoJT/f8JPgkBNgAZA4VaCQOsF+p9HX4JAaA7/n5lngkAv4wHAzG6CQI9OAkAKd4JA6wX6n0d/gkBLcfofhYeCQKCU/3/Cj4JAL+MBwMyWgkCPTgJACp+CQOsF+p9Hp4JAS3H6H4WvgkCglP9/wreCQC/jAcDMvoJATYAGQOHGgkCPTgJACs+CQLN/+b8e14JA6wX6n0ffgkAJo/4fXOeCQEtx+h+F74JAaA7/n5n3gkCglP9/wv+CQBX6BWC4BoNAL+MBwMwOg0CPTgJACheDQOsF+p9HH4NAS3H6H4Ung0CglP9/wi+DQC/jAcDMNoNAj04CQAo/g0DrBfqfR0eDQEtx+h+FT4NAoJT/f8JXg0Av4wHAzF6DQI9OAkAKZ4NA6wX6n0dvg0BLcfofhXeDQKCU/3/Cf4NAL+MBwMyGg0CPTgJACo+DQOsF+p9Hl4NAS3H6H4Wfg0CglP9/wqeDQC/jAcDMroNATYAGQOG2g0CPTgJACr+DQLN/+b8ex4NA6wX6n0fPg0AJo/4fXNeDQEtx+h+F34NAaA7/n5nng0CglP9/wu+DQBX6BWC49oNAL+MBwMz+g0BNgAZA4QaEQI9OAkAKD4RAs3/5vx4XhEDrBfqfRx+EQAmj/h9cJ4RAS3H6H4UvhEBoDv+fmTeEQKCU/3/CP4RAFfoFYLhGhEAv4wHAzE6EQE2ABkDhVoRA",
          "dtype": "f8"
         },
         "y": {
          "bdata": "sZsAYEjDVEDgfgIgFcxWQJ4H+5/RlFhAf0Py382VWkD85ChAlNNcQPSo+L8jfV5A6wX6n9dZYECUpwdgHiJhQIsw6v+BrmFAhXAWQMKTYkAlBRbAFEtjQFgD7z+N4mNA5ULlX0srZECglP9/EspkQCF97l/0AmVA0lfrH181ZUDRhg1gW1BlQChPD8C8PGVA/loDAGwSZUA6lQwAFfRkQLFw7Z+C12RAoCrwXypuZEBu0RPgxRpkQDIt+790xmNAwEAQIAM3Y0DaKQyA59xiQN2f5j+/UmJAGyTpPxCeYUDKtOz/EkdhQKTe+H96pWBAS0UZYBU5YEDp9u1/2/FeQC1q5n+o1F1AGN0wwHSmXECqCNxfYqJbQCbZNABlllpA9U31vzdlWUDbJf3/cC9YQDKvAgBwrFdAXHj7/zpiVkAyLfu/tKVVQPcdBYCRwVRAJHQCYB35U0Btf/zfMBFTQIgRBMAfV1JA/fQCYHqlUUD4m/0/1uFQQGM3AcAQPVBANwgIIBSMT0C1JPa/kltOQALk+F82Ok1AS9sJQO07TEA4xfw/e5pLQLQoBUAJgEpATqcKgFDaSUDvuQLAZ79IQBw3BOCCQkhAGxAAoDN5R0C2S/r/4adGQCPL9t/SDUZAkTL7n/BVRUDTAPefKZ1EQFu7BuAT9ENAL+MBwIxjQ0DTqQIgtL9CQClLAEDGWUJAxW4CgCGiQUDCYwXgmx5BQIpz9d9aV0BAs6oMgESNP0BqdP8/618+QGSx6v9eZT1AQREH4NExPEAZQPDfWVs7QCMK8z91FTpASTYNQFnuOEBBkw4gjU04QEil+d8hLTdAsfL0371QNkCoT/a/8YA1QFcf9t/WsTRAirLxP32bM0B/weqfEhEzQI95FQCAFTJAIagBIHoyMUCNAPq/G4swQHop6R9Mfy9AcOAfAIIJLkARG+p/0sksQIXv3P/writAtiMowKh7KkAXNCVA6hIpQMdm5H80AihAJ9Lk/+HKJkAEtAggEMclQKuZ778ZJyVAG/nVf0odJEDAKwOAw0IjQARJAIBhPiJATJj+X1SWIUB5LP8f/I4gQEwDBwADxx9A3wL8Xx1RHkCU/QJgjcgcQIoyB4CrPhxAu/r6HzUDG0Dyl/qfGmIZQAO2+h+diBhAyOQHwNUkF0CeWwSgM2QWQDBh+n9ROxVAZ1IDANklFECMggEA14gTQHVOB0BJ4BJAUtoE4OtoEkATVgLg2lYRQJ7w+/+EiRBA",
          "dtype": "f8"
         }
        },
        {
         "mode": "lines",
         "name": "0.6 μM",
         "type": "scatter",
         "x": {
          "bdata": "CaP+H1y3gECglP9/wr+AQE2ABkDhxoBA6wX6n0fPgEBoDv+fmdeAQC/jAcDM3oBAs3/5vx7ngEBLcfofhe+AQPdcAeCj9oBAj04CQAr/gEAJo/4fXAeBQKCU/3/CD4FATYAGQOEWgUDrBfqfRx+BQGgO/5+ZJ4FAL+MBwMwugUCPTgJACjeBQOsF+p9HP4FAS3H6H4VHgUCglP9/wk+BQC/jAcDMVoFAj04CQApfgUDrBfqfR2eBQEtx+h+Fb4FAoJT/f8J3gUAv4wHAzH6BQLN/+b8eh4FAS3H6H4WPgUD3XAHgo5aBQI9OAkAKn4FACaP+H1yngUCglP9/wq+BQE2ABkDhtoFA6wX6n0e/gUBoDv+fmceBQC/jAcDMzoFAj04CQArXgUDrBfqfR9+BQEtx+h+F54FAoJT/f8LvgUAv4wHAzPaBQI9OAkAK/4FA6wX6n0cHgkBLcfofhQ+CQKCU/3/CF4JAL+MBwMwegkCzf/m/HieCQEtx+h+FL4JA91wB4KM2gkCPTgJACj+CQAmj/h9cR4JAoJT/f8JPgkBNgAZA4VaCQOsF+p9HX4JAaA7/n5lngkAv4wHAzG6CQI9OAkAKd4JA6wX6n0d/gkBLcfofhYeCQKCU/3/Cj4JAL+MBwMyWgkCPTgJACp+CQOsF+p9Hp4JAS3H6H4WvgkCglP9/wreCQC/jAcDMvoJATYAGQOHGgkCPTgJACs+CQLN/+b8e14JA6wX6n0ffgkAJo/4fXOeCQEtx+h+F74JAaA7/n5n3gkCglP9/wv+CQBX6BWC4BoNAL+MBwMwOg0CPTgJACheDQOsF+p9HH4NAS3H6H4Ung0CglP9/wi+DQC/jAcDMNoNAj04CQAo/g0DrBfqfR0eDQEtx+h+FT4NAoJT/f8JXg0Av4wHAzF6DQI9OAkAKZ4NA6wX6n0dvg0BLcfofhXeDQKCU/3/Cf4NAL+MBwMyGg0CPTgJACo+DQOsF+p9Hl4NAS3H6H4Wfg0CglP9/wqeDQC/jAcDMroNATYAGQOG2g0CPTgJACr+DQLN/+b8ex4NA6wX6n0fPg0AJo/4fXNeDQEtx+h+F34NAaA7/n5nng0CglP9/wu+DQBX6BWC49oNAL+MBwMz+g0BNgAZA4QaEQI9OAkAKD4RAs3/5vx4XhEDrBfqfRx+EQAmj/h9cJ4RAS3H6H4UvhEBoDv+fmTeEQKCU/3/CP4RAFfoFYLhGhEAv4wHAzE6EQE2ABkDhVoRA",
          "dtype": "f8"
         },
         "y": {
          "bdata": "jIIBANc4TUBijvU/hnhPQLtlA8DjHlFAAWYAoHGvUkDapwRALE5UQPdcAeAzYVVAeK//3/22VkBlAwIAtORXQI9OAkA6CFlAKSDtfwAEWkCGFRNA1utaQGJOK+D51FtAj+TyH9IzXEDSg8zfzsNcQFgGMMCZEF1ANNL3v8hGXUDXSSKg53JdQBbOJKD4al1A8cgO4GNJXUDBe/3/bhtdQCr0C8BQiFxA1TfV/948XECo0C8AQ8BbQLJEDOBSJltAyU0eYPdlWkD14+Wfzx5aQPNBKiBIEllA/9j7v3BjWEALMAMAzaBXQBsQAKCzBldAX0T8P14qVkDnfARADURVQD8C+7/VhFRAMxUDoOHOU0AfQgGASBxTQKBVAyCwLVJA/TP/v5x2UUCIEQTAX7RQQIzB/V+5HlBAzer8Xx7ETkCMwf1f+d1NQCHn/X8cnExAVmIBwG80S0AQ4PyfpkJKQDnsAIBK/EhAb2P1PydaSEBSMADgmpBHQKvc+p+ya0ZA55T8X+CXRUDsLP7fpudEQLEdCKCDJ0RA+08GYGZzQ0DpYP2fQ+NCQMPh/Z9gd0JAYZIEwHy2QUAOOwCgkhVBQPx2CqA1jUBARsEAgOsEQEAukeq/9+U+QAas6h8jVD5A2df0f5JbPUC9CgDAd008QMsGBADoWTtAxLENYLp0OkDjH/Cf8qM5QIETAqAnwDhAISb6377zN0BZQuufrz83QKrIEQBWhDZA9jX9n+TFNUA+GvPfKJk0QEyY/l9UIDRAQjgLICE1M0CYMP2/qJoyQCSz/r9/tjFAFKjuX5NEMUBPZP+fN34wQNiF3X995S9ADRT8X0M6LkBCUANA9GAtQI3V5v9VbyxAqU4owIedKkBKSSjgS88pQNQ+JQBizShA3LYQYGhqJ0DzQSogSH0mQEPe1R8ffiVAAtAPwFmeJEB1uwHghKcjQJmt/P8mNSNATuf/X7k+IkARHgCAgm0hQJjaAcB5WCBAaeH53ya0H0CvzgagHvMdQOOg/l/nbxxAtx38v0gqG0C9CQdAscUZQMva979bCBlAzzgF4DxwF0CB/ft/4boWQAO2+h+d2hVAjBf5XyjaFEDcDv5fJK0TQAxuBuDoHBNAIs8FYMn0EUDvZABA/0cRQLJu+591exBAjX35/5lCEEB3sw5g9BkOQNfJDGA5Jg1AxPP0PzDjC0D8zAWg5IUKQARx/T93YwlAfI7wP/caCUBuO/h/kaQHQJ+ZB4CPQQdA",
          "dtype": "f8"
         }
        },
        {
         "mode": "lines",
         "name": "0.4 μM",
         "type": "scatter",
         "x": {
          "bdata": "CaP+H1y3gECglP9/wr+AQE2ABkDhxoBA6wX6n0fPgEBoDv+fmdeAQC/jAcDM3oBAs3/5vx7ngEBLcfofhe+AQPdcAeCj9oBAj04CQAr/gEAJo/4fXAeBQKCU/3/CD4FATYAGQOEWgUDrBfqfRx+BQGgO/5+ZJ4FAL+MBwMwugUCPTgJACjeBQOsF+p9HP4FAS3H6H4VHgUCglP9/wk+BQC/jAcDMVoFAj04CQApfgUDrBfqfR2eBQEtx+h+Fb4FAoJT/f8J3gUAv4wHAzH6BQLN/+b8eh4FAS3H6H4WPgUD3XAHgo5aBQI9OAkAKn4FACaP+H1yngUCglP9/wq+BQE2ABkDhtoFA6wX6n0e/gUBoDv+fmceBQC/jAcDMzoFAj04CQArXgUDrBfqfR9+BQEtx+h+F54FAoJT/f8LvgUAv4wHAzPaBQI9OAkAK/4FA6wX6n0cHgkBLcfofhQ+CQKCU/3/CF4JAL+MBwMwegkCzf/m/HieCQEtx+h+FL4JA91wB4KM2gkCPTgJACj+CQAmj/h9cR4JAoJT/f8JPgkBNgAZA4VaCQOsF+p9HX4JAaA7/n5lngkAv4wHAzG6CQI9OAkAKd4JA6wX6n0d/gkBLcfofhYeCQKCU/3/Cj4JAL+MBwMyWgkCPTgJACp+CQOsF+p9Hp4JAS3H6H4WvgkCglP9/wreCQC/jAcDMvoJATYAGQOHGgkCPTgJACs+CQLN/+b8e14JA6wX6n0ffgkAJo/4fXOeCQEtx+h+F74JAaA7/n5n3gkCglP9/wv+CQBX6BWC4BoNAL+MBwMwOg0CPTgJACheDQOsF+p9HH4NAS3H6H4Ung0CglP9/wi+DQC/jAcDMNoNAj04CQAo/g0DrBfqfR0eDQEtx+h+FT4NAoJT/f8JXg0Av4wHAzF6DQI9OAkAKZ4NA6wX6n0dvg0BLcfofhXeDQKCU/3/Cf4NAL+MBwMyGg0CPTgJACo+DQOsF+p9Hl4NAS3H6H4Wfg0CglP9/wqeDQC/jAcDMroNATYAGQOG2g0CPTgJACr+DQLN/+b8ex4NA6wX6n0fPg0AJo/4fXNeDQEtx+h+F34NAaA7/n5nng0CglP9/wu+DQBX6BWC49oNAL+MBwMz+g0BNgAZA4QaEQI9OAkAKD4RAs3/5vx4XhEDrBfqfRx+EQAmj/h9cJ4RAS3H6H4UvhEBoDv+fmTeEQKCU/3/CP4RAFfoFYLhGhEAv4wHAzE6EQE2ABkDhVoRA",
          "dtype": "f8"
         },
         "y": {
          "bdata": "Ljr2PwKjOkC+Re2fIy89QJ4H+5+RAz9AUm/8P73JQEDsrgUgYkdCQJdzCKDBOUNAu7z3P9mQRECZGAWg1ddFQKWuCEDUW0ZAUbIHIFZvR0Ck3vh/+iNIQB6dBIB08UhAedYDIM1ZSUCcYv6f/eFJQLVPCYBY5ElALVb930tBSkCn0f3/LEJKQN1zBYBPOUpAvq/8vwskSkBfg/ifAOZJQLjw9v91d0lADVP4v+UbSUC7vPc/We5IQLJY9X+vJEhAO1IBIDydR0AT6/k/LApHQLnY/t+iMUZA8UYHoKitRUDVDwPAJUBFQG+OCABtUkRACLv2P5+8Q0CIzvjfxvZCQK5RB2AgXkJAIs8FYEmdQUBMQQrgXvFAQLVPCYDYZkBAH5n1//0oP0CpIxUAwvg9QAXbDGBfszxAHV4IIFKMO0Bc4gogY7s6QOGS678xWTlAEcgEgFOuOECI5vD/mcw3QGjj69+zNjZAhIgOYBWZNUAaFA8gKtY0QNBfCSCMLjRAA/cTAKlwM0DbZPlfU20yQMK6+V8R8jFAraj735VzMUAKCf+/PfYwQMdS+9/XPTBAMGH6f1GxL0CdNh3gzfEuQCBpBcBXri1AMAoGAFyxLECRMvufcLQrQLKDCED1nCpAtFDXf0LQKUCb0BxAXEcpQCzYBCAHgihAgGr2Hx2XJ0BrXAcgGAInQIEmHUAaVSZAAjfeXzWrJUCBPhVg7YYkQHX6/T+n5CNArK78X5kVI0DAUwBA2X0iQLqqAKAJ1SFAhS4E4G99IUCWiwDAFHcgQHsP///rACBAc2wA4B/tHkDFb/v/558dQHa1AGCBgxxAn9n8X3huG0AA/waAOT8aQMJjBeAbYBlAdxz6f7lSGEA0PvnfPSYXQOAT+n8mDxZAsoMIQPV0FUCyAvp/ACIUQGfn+l8qsxNAzT//3wakEkD29/m/iM8RQPUO+V+VxBBA0AoHoCNcEEC8Dg9A7nsPQIg6+v87wQ1AOW0PQD9rDEAFMA/gx3EKQCEpEOBuJQpAncrwP/wTCUCF2QFgB40HQBxkCaBVZAZAr7n5/543BUAouxDgMbYDQBce9J9HrgNAnpv5fxyLAkAX3QVAmLABQNW4DkAw0ABA5339v9MwAEBFcOL/HMP/P6tb7N+9h/4/gVMiAG2o/D9l2wRAXrX6P5zO/79yU/o/xpUGwHCN+T+JouyfOm35P2ESGgAr4fY/qI7yHxSs9j+h0OXfxIb1P3uQ4j+EiPQ/",
          "dtype": "f8"
         }
        },
        {
         "mode": "lines",
         "name": "0.2 μM",
         "type": "scatter",
         "x": {
          "bdata": "CaP+H1y3gECglP9/wr+AQE2ABkDhxoBA6wX6n0fPgEBoDv+fmdeAQC/jAcDM3oBAs3/5vx7ngEBLcfofhe+AQPdcAeCj9oBAj04CQAr/gEAJo/4fXAeBQKCU/3/CD4FATYAGQOEWgUDrBfqfRx+BQGgO/5+ZJ4FAL+MBwMwugUCPTgJACjeBQOsF+p9HP4FAS3H6H4VHgUCglP9/wk+BQC/jAcDMVoFAj04CQApfgUDrBfqfR2eBQEtx+h+Fb4FAoJT/f8J3gUAv4wHAzH6BQLN/+b8eh4FAS3H6H4WPgUD3XAHgo5aBQI9OAkAKn4FACaP+H1yngUCglP9/wq+BQE2ABkDhtoFA6wX6n0e/gUBoDv+fmceBQC/jAcDMzoFAj04CQArXgUDrBfqfR9+BQEtx+h+F54FAoJT/f8LvgUAv4wHAzPaBQI9OAkAK/4FA6wX6n0cHgkBLcfofhQ+CQKCU/3/CF4JAL+MBwMwegkCzf/m/HieCQEtx+h+FL4JA91wB4KM2gkCPTgJACj+CQAmj/h9cR4JAoJT/f8JPgkBNgAZA4VaCQOsF+p9HX4JAaA7/n5lngkAv4wHAzG6CQI9OAkAKd4JA6wX6n0d/gkBLcfofhYeCQKCU/3/Cj4JAL+MBwMyWgkCPTgJACp+CQOsF+p9Hp4JAS3H6H4WvgkCglP9/wreCQC/jAcDMvoJATYAGQOHGgkCPTgJACs+CQLN/+b8e14JA6wX6n0ffgkAJo/4fXOeCQEtx+h+F74JAaA7/n5n3gkCglP9/wv+CQBX6BWC4BoNAL+MBwMwOg0CPTgJACheDQOsF+p9HH4NAS3H6H4Ung0CglP9/wi+DQC/jAcDMNoNAj04CQAo/g0DrBfqfR0eDQEtx+h+FT4NAoJT/f8JXg0Av4wHAzF6DQI9OAkAKZ4NA6wX6n0dvg0BLcfofhXeDQKCU/3/Cf4NAL+MBwMyGg0CPTgJACo+DQOsF+p9Hl4NAS3H6H4Wfg0CglP9/wqeDQC/jAcDMroNATYAGQOG2g0CPTgJACr+DQLN/+b8ex4NA6wX6n0fPg0AJo/4fXNeDQEtx+h+F34NAaA7/n5nng0CglP9/wu+DQBX6BWC49oNAL+MBwMz+g0BNgAZA4QaEQI9OAkAKD4RAs3/5vx4XhEDrBfqfRx+EQAmj/h9cJ4RAS3H6H4UvhEBoDv+fmTeEQKCU/3/CP4RAFfoFYLhGhEAv4wHAzE6EQE2ABkDhVoRA",
          "dtype": "f8"
         },
         "y": {
          "bdata": "+NkAILKgI0DJjei/g5AlQI0TFWAOBSdAptUMgCMPKUCB0Pa/ju0qQCjO1X9rYSxADWvw3zhyLkDZLRsAHukvQOWYC+BWpjBA9XgIgH1BMUAI+vKfwYYxQIyCAQDXiDJALjr2PwLEMkBEngvAkgUzQDZjCyAAUjNA6KMIgFxMM0ALb/9frzczQBYhCqD3WTNABAfuH483M0BHfvWf0v0yQDLD659MwzJAi0cUICuVMkBS2QtgJSMyQDkr/d9suDFAfrEQgCxYMUBHP/k/sOgwQBFG/T+YizBAmhMoIPXGL0AyhO8/KuAuQM0p+b/AiS1AmUDX3461LEDRmvb/N7krQLXNAUAduCpAXM4hgAaZKUDMFt4fzpkoQHY25J8ZFihA3Iv9n6IcJ0CJ4ROAuSsmQOVFJuDXaCVAFLzX/+90JEDGKv4fwmQjQG77AqCorCJAARH+Hwk7IkAJTQMgnUQhQJ/YA+CxlyBA0Lb9n4H6H0DCuvlfEUweQEws/T/fTh1AAKoEANGkHEAhU/+fEbQbQCd+BoCcdRpAs0D9X1xXGUD0Uv2/9EIZQETHAQBvMRhAzvoBAOFcF0BOfPe/CskWQHq/BIDAuxVAiTgIAK+tFUDBkvyf+7YUQI1UA8C9DBRAuij5X06BE0AjiwEAas4SQDqA/1/VIhJANU7+f4CzEUDAqfs/CPwQQHCg/588WhBAyc0IIMnBD0DFMP+fxd0OQHOBDYCfRg1AqbgMYBO3DEC6agvAIMQLQKwr/J8XJAtAoVD7H/NgCUD9ngdgy28IQK1/BaC5dQdAtHwOQCvnBkAu6AnASTsGQGyEBOAtFQVAMV4PAP48BEAwoe9fOlgDQL0IDsDqrgJA8IoLAIjFAUB06Aag12cBQGo1A+DIIQBAJ34GgJwTAEBwjBYA4JH+P2MNEgDuavw/3gUSYM1b+z8XnOxfjGr6P0Vv6X9WhPg/X+zjv0Vx9z9/WhwAN1T3P5Ja+F+GBfc/1H4a4EoK9T9WOBIAzZT0P7Hy9N+9ivI/E1YC4Nok8j/BpwlAeyzxP4peE8A39/A//mn6X/vY7z96yAVABNjvP98Q+j/mF+4/lwwEoFFD7T8M/gAgtaXqP6Z9/9/CTeo/0i38X/xs6j920fwfE+HmP4YOBIAfUOY/NNr//0Xo5T+Yhf8/ERXnP+eG/n8X0+U/Ztb8PyEH4j9/KwWgssrhP+Dd/t9HC+I/+oz7/w524T/mawYgBKDgPyut/D/51d8/",
          "dtype": "f8"
         }
        },
        {
         "mode": "lines",
         "name": "0.1 μM",
         "type": "scatter",
         "x": {
          "bdata": "CaP+H1y3gECglP9/wr+AQE2ABkDhxoBA6wX6n0fPgEBoDv+fmdeAQC/jAcDM3oBAs3/5vx7ngEBLcfofhe+AQPdcAeCj9oBAj04CQAr/gEAJo/4fXAeBQKCU/3/CD4FATYAGQOEWgUDrBfqfRx+BQGgO/5+ZJ4FAL+MBwMwugUCPTgJACjeBQOsF+p9HP4FAS3H6H4VHgUCglP9/wk+BQC/jAcDMVoFAj04CQApfgUDrBfqfR2eBQEtx+h+Fb4FAoJT/f8J3gUAv4wHAzH6BQLN/+b8eh4FAS3H6H4WPgUD3XAHgo5aBQI9OAkAKn4FACaP+H1yngUCglP9/wq+BQE2ABkDhtoFA6wX6n0e/gUBoDv+fmceBQC/jAcDMzoFAj04CQArXgUDrBfqfR9+BQEtx+h+F54FAoJT/f8LvgUAv4wHAzPaBQI9OAkAK/4FA6wX6n0cHgkBLcfofhQ+CQKCU/3/CF4JAL+MBwMwegkCzf/m/HieCQEtx+h+FL4JA91wB4KM2gkCPTgJACj+CQAmj/h9cR4JAoJT/f8JPgkBNgAZA4VaCQOsF+p9HX4JAaA7/n5lngkAv4wHAzG6CQI9OAkAKd4JA6wX6n0d/gkBLcfofhYeCQKCU/3/Cj4JAL+MBwMyWgkCPTgJACp+CQOsF+p9Hp4JAS3H6H4WvgkCglP9/wreCQC/jAcDMvoJATYAGQOHGgkCPTgJACs+CQLN/+b8e14JA6wX6n0ffgkAJo/4fXOeCQEtx+h+F74JAaA7/n5n3gkCglP9/wv+CQBX6BWC4BoNAL+MBwMwOg0CPTgJACheDQOsF+p9HH4NAS3H6H4Ung0CglP9/wi+DQC/jAcDMNoNAj04CQAo/g0DrBfqfR0eDQEtx+h+FT4NAoJT/f8JXg0Av4wHAzF6DQI9OAkAKZ4NA6wX6n0dvg0BLcfofhXeDQKCU/3/Cf4NAL+MBwMyGg0CPTgJACo+DQOsF+p9Hl4NAS3H6H4Wfg0CglP9/wqeDQC/jAcDMroNATYAGQOG2g0CPTgJACr+DQLN/+b8ex4NA6wX6n0fPg0AJo/4fXNeDQEtx+h+F34NAaA7/n5nng0CglP9/wu+DQBX6BWC49oNAL+MBwMz+g0BNgAZA4QaEQI9OAkAKD4RAs3/5vx4XhEDrBfqfRx+EQAmj/h9cJ4RAS3H6H4UvhEBoDv+fmTeEQKCU/3/CP4RAFfoFYLhGhEAv4wHAzE6EQE2ABkDhVoRA",
          "dtype": "f8"
         },
         "y": {
          "bdata": "/4EHQLt9F0C9SAOg02EZQIGmBwDsUBtA7/j+H4qcHUAfrgKgfRcgQCF7/F8nyyBAv0ICINCyIUBOkv3fULkiQIM1/t85aiNA1FIOoL4vJECczdu/T9QkQPZ0+f8GLSVAI9/ff6/VJUBTf9ZfI28mQHZ14P87kCZA2Fn8v02FJkDkXR4Aq8ImQDGfKOAJiSZALMQbgKpHJkBU/AAg/iQmQInNKuBcJyZAHvMqAABtJUB6VPzfES0lQJ1KBoAqqiRABBvXv+s9JECemgAAVr8jQP3e/D+0FiNAZPID4GqrIkDTVACgSwYiQI1V/D+ENyFAJgIAwOTMIEDGfwCgKgcgQB7FAUCKWB9AazD734t1HUBnvgQgTqkcQI5m+l+NextAAk4IgJ66GkDgvvf/vQ4aQGAA+N/+gRhA4iIGoKKHF0BnkvjfwZoWQEfT9x87XRVAQREH4NH4FECY8QBghu4TQP7GBCDhvBJALnwIoNSZEkAVefefs20RQIJiA6CMHBFAPsgGYHBAEEAf1/jfWQMQQIwB8z/i5w5AVvf4H8GmDUBiTgBgnQANQF0z/h9V5AtACJAOADb7CkC47gQAaaUKQFB1/b9AkQlA5W7xn1eMCEDESPe/mJ8HQHtm83/hpQdAecLv/xM2BkBWtwNA2JcFQFv7+7/8cwVAjqbvP3ZKBEAUkwxAcIcDQFCLA+CG8QJAVOb6/7ekAkDKR/Jfl94BQPb3+b+IZQFAZykNwPy1AEAokP0fbCwAQIXE9L+Hu/4/t17qH/gb/j8UqeffWcP9P7Y19N8bjPw/r84GoB75+j+MbR/gsxf5P0WFGiD5vPc/bC4J4P6F9z/0EwFg0r72P8NKFECCwfU/YNQWIM/D9D/jDACAXD30P1z45b9Mu/M/BxLrv5Si8j8IzuZfNQDyP8ij7t/JUvE/JhcNYGQW8D9GNgNgJFrvPyQaA8Bvmu0/BqUG4MiP7D/Wwv2fgr3pPyJS+z+Tdeo/ToD7X8nU6T+DPv+ffXvnPzKQ+x9mE+c/qk3536xi5j9o0wbgFSvkP/je/T83reM/Nuv9H0+u4j9rK/6/Bi3iP31V/z8NqeE/AxwGoMYW4D8Qi/ofvsbhP7ZP/p8g4N8/KFoCgI3K3T/4NwRgXr3cP/y89R/q3ts/oJgDIBEj3z9B0wMAdufZP3ow+N8C3NY/CV8FoCSA1T9CKfQf7XbWP4f48n8hNNg/EtAB4Bhd1T9gofsfjHLXP2QX9n+IINM/",
          "dtype": "f8"
         }
        }
       ],
       "layout": {
        "font": {
         "size": 14
        },
        "height": 600,
        "legend": {
         "x": 0.9,
         "y": 0.9
        },
        "template": {
         "data": {
          "bar": [
           {
            "error_x": {
             "color": "#2a3f5f"
            },
            "error_y": {
             "color": "#2a3f5f"
            },
            "marker": {
             "line": {
              "color": "#E5ECF6",
              "width": 0.5
             },
             "pattern": {
              "fillmode": "overlay",
              "size": 10,
              "solidity": 0.2
             }
            },
            "type": "bar"
           }
          ],
          "barpolar": [
           {
            "marker": {
             "line": {
              "color": "#E5ECF6",
              "width": 0.5
             },
             "pattern": {
              "fillmode": "overlay",
              "size": 10,
              "solidity": 0.2
             }
            },
            "type": "barpolar"
           }
          ],
          "carpet": [
           {
            "aaxis": {
             "endlinecolor": "#2a3f5f",
             "gridcolor": "white",
             "linecolor": "white",
             "minorgridcolor": "white",
             "startlinecolor": "#2a3f5f"
            },
            "baxis": {
             "endlinecolor": "#2a3f5f",
             "gridcolor": "white",
             "linecolor": "white",
             "minorgridcolor": "white",
             "startlinecolor": "#2a3f5f"
            },
            "type": "carpet"
           }
          ],
          "choropleth": [
           {
            "colorbar": {
             "outlinewidth": 0,
             "ticks": ""
            },
            "type": "choropleth"
           }
          ],
          "contour": [
           {
            "colorbar": {
             "outlinewidth": 0,
             "ticks": ""
            },
            "colorscale": [
             [
              0,
              "#0d0887"
             ],
             [
              0.1111111111111111,
              "#46039f"
             ],
             [
              0.2222222222222222,
              "#7201a8"
             ],
             [
              0.3333333333333333,
              "#9c179e"
             ],
             [
              0.4444444444444444,
              "#bd3786"
             ],
             [
              0.5555555555555556,
              "#d8576b"
             ],
             [
              0.6666666666666666,
              "#ed7953"
             ],
             [
              0.7777777777777778,
              "#fb9f3a"
             ],
             [
              0.8888888888888888,
              "#fdca26"
             ],
             [
              1,
              "#f0f921"
             ]
            ],
            "type": "contour"
           }
          ],
          "contourcarpet": [
           {
            "colorbar": {
             "outlinewidth": 0,
             "ticks": ""
            },
            "type": "contourcarpet"
           }
          ],
          "heatmap": [
           {
            "colorbar": {
             "outlinewidth": 0,
             "ticks": ""
            },
            "colorscale": [
             [
              0,
              "#0d0887"
             ],
             [
              0.1111111111111111,
              "#46039f"
             ],
             [
              0.2222222222222222,
              "#7201a8"
             ],
             [
              0.3333333333333333,
              "#9c179e"
             ],
             [
              0.4444444444444444,
              "#bd3786"
             ],
             [
              0.5555555555555556,
              "#d8576b"
             ],
             [
              0.6666666666666666,
              "#ed7953"
             ],
             [
              0.7777777777777778,
              "#fb9f3a"
             ],
             [
              0.8888888888888888,
              "#fdca26"
             ],
             [
              1,
              "#f0f921"
             ]
            ],
            "type": "heatmap"
           }
          ],
          "histogram": [
           {
            "marker": {
             "pattern": {
              "fillmode": "overlay",
              "size": 10,
              "solidity": 0.2
             }
            },
            "type": "histogram"
           }
          ],
          "histogram2d": [
           {
            "colorbar": {
             "outlinewidth": 0,
             "ticks": ""
            },
            "colorscale": [
             [
              0,
              "#0d0887"
             ],
             [
              0.1111111111111111,
              "#46039f"
             ],
             [
              0.2222222222222222,
              "#7201a8"
             ],
             [
              0.3333333333333333,
              "#9c179e"
             ],
             [
              0.4444444444444444,
              "#bd3786"
             ],
             [
              0.5555555555555556,
              "#d8576b"
             ],
             [
              0.6666666666666666,
              "#ed7953"
             ],
             [
              0.7777777777777778,
              "#fb9f3a"
             ],
             [
              0.8888888888888888,
              "#fdca26"
             ],
             [
              1,
              "#f0f921"
             ]
            ],
            "type": "histogram2d"
           }
          ],
          "histogram2dcontour": [
           {
            "colorbar": {
             "outlinewidth": 0,
             "ticks": ""
            },
            "colorscale": [
             [
              0,
              "#0d0887"
             ],
             [
              0.1111111111111111,
              "#46039f"
             ],
             [
              0.2222222222222222,
              "#7201a8"
             ],
             [
              0.3333333333333333,
              "#9c179e"
             ],
             [
              0.4444444444444444,
              "#bd3786"
             ],
             [
              0.5555555555555556,
              "#d8576b"
             ],
             [
              0.6666666666666666,
              "#ed7953"
             ],
             [
              0.7777777777777778,
              "#fb9f3a"
             ],
             [
              0.8888888888888888,
              "#fdca26"
             ],
             [
              1,
              "#f0f921"
             ]
            ],
            "type": "histogram2dcontour"
           }
          ],
          "mesh3d": [
           {
            "colorbar": {
             "outlinewidth": 0,
             "ticks": ""
            },
            "type": "mesh3d"
           }
          ],
          "parcoords": [
           {
            "line": {
             "colorbar": {
              "outlinewidth": 0,
              "ticks": ""
             }
            },
            "type": "parcoords"
           }
          ],
          "pie": [
           {
            "automargin": true,
            "type": "pie"
           }
          ],
          "scatter": [
           {
            "fillpattern": {
             "fillmode": "overlay",
             "size": 10,
             "solidity": 0.2
            },
            "type": "scatter"
           }
          ],
          "scatter3d": [
           {
            "line": {
             "colorbar": {
              "outlinewidth": 0,
              "ticks": ""
             }
            },
            "marker": {
             "colorbar": {
              "outlinewidth": 0,
              "ticks": ""
             }
            },
            "type": "scatter3d"
           }
          ],
          "scattercarpet": [
           {
            "marker": {
             "colorbar": {
              "outlinewidth": 0,
              "ticks": ""
             }
            },
            "type": "scattercarpet"
           }
          ],
          "scattergeo": [
           {
            "marker": {
             "colorbar": {
              "outlinewidth": 0,
              "ticks": ""
             }
            },
            "type": "scattergeo"
           }
          ],
          "scattergl": [
           {
            "marker": {
             "colorbar": {
              "outlinewidth": 0,
              "ticks": ""
             }
            },
            "type": "scattergl"
           }
          ],
          "scattermap": [
           {
            "marker": {
             "colorbar": {
              "outlinewidth": 0,
              "ticks": ""
             }
            },
            "type": "scattermap"
           }
          ],
          "scattermapbox": [
           {
            "marker": {
             "colorbar": {
              "outlinewidth": 0,
              "ticks": ""
             }
            },
            "type": "scattermapbox"
           }
          ],
          "scatterpolar": [
           {
            "marker": {
             "colorbar": {
              "outlinewidth": 0,
              "ticks": ""
             }
            },
            "type": "scatterpolar"
           }
          ],
          "scatterpolargl": [
           {
            "marker": {
             "colorbar": {
              "outlinewidth": 0,
              "ticks": ""
             }
            },
            "type": "scatterpolargl"
           }
          ],
          "scatterternary": [
           {
            "marker": {
             "colorbar": {
              "outlinewidth": 0,
              "ticks": ""
             }
            },
            "type": "scatterternary"
           }
          ],
          "surface": [
           {
            "colorbar": {
             "outlinewidth": 0,
             "ticks": ""
            },
            "colorscale": [
             [
              0,
              "#0d0887"
             ],
             [
              0.1111111111111111,
              "#46039f"
             ],
             [
              0.2222222222222222,
              "#7201a8"
             ],
             [
              0.3333333333333333,
              "#9c179e"
             ],
             [
              0.4444444444444444,
              "#bd3786"
             ],
             [
              0.5555555555555556,
              "#d8576b"
             ],
             [
              0.6666666666666666,
              "#ed7953"
             ],
             [
              0.7777777777777778,
              "#fb9f3a"
             ],
             [
              0.8888888888888888,
              "#fdca26"
             ],
             [
              1,
              "#f0f921"
             ]
            ],
            "type": "surface"
           }
          ],
          "table": [
           {
            "cells": {
             "fill": {
              "color": "#EBF0F8"
             },
             "line": {
              "color": "white"
             }
            },
            "header": {
             "fill": {
              "color": "#C8D4E3"
             },
             "line": {
              "color": "white"
             }
            },
            "type": "table"
           }
          ]
         },
         "layout": {
          "annotationdefaults": {
           "arrowcolor": "#2a3f5f",
           "arrowhead": 0,
           "arrowwidth": 1
          },
          "autotypenumbers": "strict",
          "coloraxis": {
           "colorbar": {
            "outlinewidth": 0,
            "ticks": ""
           }
          },
          "colorscale": {
           "diverging": [
            [
             0,
             "#8e0152"
            ],
            [
             0.1,
             "#c51b7d"
            ],
            [
             0.2,
             "#de77ae"
            ],
            [
             0.3,
             "#f1b6da"
            ],
            [
             0.4,
             "#fde0ef"
            ],
            [
             0.5,
             "#f7f7f7"
            ],
            [
             0.6,
             "#e6f5d0"
            ],
            [
             0.7,
             "#b8e186"
            ],
            [
             0.8,
             "#7fbc41"
            ],
            [
             0.9,
             "#4d9221"
            ],
            [
             1,
             "#276419"
            ]
           ],
           "sequential": [
            [
             0,
             "#0d0887"
            ],
            [
             0.1111111111111111,
             "#46039f"
            ],
            [
             0.2222222222222222,
             "#7201a8"
            ],
            [
             0.3333333333333333,
             "#9c179e"
            ],
            [
             0.4444444444444444,
             "#bd3786"
            ],
            [
             0.5555555555555556,
             "#d8576b"
            ],
            [
             0.6666666666666666,
             "#ed7953"
            ],
            [
             0.7777777777777778,
             "#fb9f3a"
            ],
            [
             0.8888888888888888,
             "#fdca26"
            ],
            [
             1,
             "#f0f921"
            ]
           ],
           "sequentialminus": [
            [
             0,
             "#0d0887"
            ],
            [
             0.1111111111111111,
             "#46039f"
            ],
            [
             0.2222222222222222,
             "#7201a8"
            ],
            [
             0.3333333333333333,
             "#9c179e"
            ],
            [
             0.4444444444444444,
             "#bd3786"
            ],
            [
             0.5555555555555556,
             "#d8576b"
            ],
            [
             0.6666666666666666,
             "#ed7953"
            ],
            [
             0.7777777777777778,
             "#fb9f3a"
            ],
            [
             0.8888888888888888,
             "#fdca26"
            ],
            [
             1,
             "#f0f921"
            ]
           ]
          },
          "colorway": [
           "#636efa",
           "#EF553B",
           "#00cc96",
           "#ab63fa",
           "#FFA15A",
           "#19d3f3",
           "#FF6692",
           "#B6E880",
           "#FF97FF",
           "#FECB52"
          ],
          "font": {
           "color": "#2a3f5f"
          },
          "geo": {
           "bgcolor": "white",
           "lakecolor": "white",
           "landcolor": "#E5ECF6",
           "showlakes": true,
           "showland": true,
           "subunitcolor": "white"
          },
          "hoverlabel": {
           "align": "left"
          },
          "hovermode": "closest",
          "mapbox": {
           "style": "light"
          },
          "paper_bgcolor": "white",
          "plot_bgcolor": "#E5ECF6",
          "polar": {
           "angularaxis": {
            "gridcolor": "white",
            "linecolor": "white",
            "ticks": ""
           },
           "bgcolor": "#E5ECF6",
           "radialaxis": {
            "gridcolor": "white",
            "linecolor": "white",
            "ticks": ""
           }
          },
          "scene": {
           "xaxis": {
            "backgroundcolor": "#E5ECF6",
            "gridcolor": "white",
            "gridwidth": 2,
            "linecolor": "white",
            "showbackground": true,
            "ticks": "",
            "zerolinecolor": "white"
           },
           "yaxis": {
            "backgroundcolor": "#E5ECF6",
            "gridcolor": "white",
            "gridwidth": 2,
            "linecolor": "white",
            "showbackground": true,
            "ticks": "",
            "zerolinecolor": "white"
           },
           "zaxis": {
            "backgroundcolor": "#E5ECF6",
            "gridcolor": "white",
            "gridwidth": 2,
            "linecolor": "white",
            "showbackground": true,
            "ticks": "",
            "zerolinecolor": "white"
           }
          },
          "shapedefaults": {
           "line": {
            "color": "#2a3f5f"
           }
          },
          "ternary": {
           "aaxis": {
            "gridcolor": "white",
            "linecolor": "white",
            "ticks": ""
           },
           "baxis": {
            "gridcolor": "white",
            "linecolor": "white",
            "ticks": ""
           },
           "bgcolor": "#E5ECF6",
           "caxis": {
            "gridcolor": "white",
            "linecolor": "white",
            "ticks": ""
           }
          },
          "title": {
           "x": 0.05
          },
          "xaxis": {
           "automargin": true,
           "gridcolor": "white",
           "linecolor": "white",
           "ticks": "",
           "title": {
            "standoff": 15
           },
           "zerolinecolor": "white",
           "zerolinewidth": 2
          },
          "yaxis": {
           "automargin": true,
           "gridcolor": "white",
           "linecolor": "white",
           "ticks": "",
           "title": {
            "standoff": 15
           },
           "zerolinecolor": "white",
           "zerolinewidth": 2
          }
         }
        },
        "width": 800,
        "xaxis": {
         "title": {
          "text": "Wavelength (nm)"
         }
        },
        "yaxis": {
         "range": [
          0,
          1000
         ],
         "title": {
          "text": "Intensity (a.u.)"
         }
        }
       }
      }
     },
     "metadata": {},
     "output_type": "display_data"
    }
   ],
   "source": [
    "fig = go.Figure()\n",
    "\n",
    "for λ_col, I_col, c in zip(WAVELENGHTS, INTENSITIES,C):\n",
    "    fig.add_trace(go.Scatter(x=data[λ_col],y= data[I_col],\n",
    "                    mode='lines',\n",
    "                    name=f'{c} μM'))\n",
    "\n",
    "fig.update_layout(\n",
    "                  xaxis_title='Wavelength (nm)',\n",
    "                  yaxis_title='Intensity (a.u.)',\n",
    "                  height=600,\n",
    "                  width=800,\n",
    "                  yaxis=dict(range=[0, 1000]),\n",
    "                  legend=dict(x=0.9, y=0.9),\n",
    "                  font=dict(size=14))\n",
    "\n",
    "\n",
    "fig.show()"
   ]
  },
  {
   "cell_type": "markdown",
   "metadata": {},
   "source": [
    "lo strumento ha un'incertezza su lambda di 1.5nm"
   ]
  },
  {
   "cell_type": "code",
   "execution_count": 16,
   "metadata": {},
   "outputs": [
    {
     "name": "stdout",
     "output_type": "stream",
     "text": [
      "λmax I 5 = 554 nm\n",
      "λmax I 4 = 554 nm\n",
      "λmax I 3 = 553 nm\n",
      "λmax I 2 = 552 nm\n",
      "λmax I 1 = 552 nm\n",
      "λmax I 0.8 = 551 nm\n",
      "λmax I 0.6 = 551 nm\n",
      "λmax I 0.4 = 551 nm\n",
      "λmax I 0.2 = 552 nm\n",
      "λmax I 0.1 = 551 nm\n"
     ]
    }
   ],
   "source": [
    "for λ_col, I_col in zip(WAVELENGHTS, INTENSITIES):\n",
    "    Λ = data[λ_col]\n",
    "    I = data[I_col]\n",
    "    Λmax = Λ[I.idxmax()]\n",
    "    print(f'λmax {I_col} = {int(np.round(Λmax))} nm')#, {np.mean(np.diff(Λ))} nm')"
   ]
  },
  {
   "cell_type": "code",
   "execution_count": 8,
   "metadata": {},
   "outputs": [],
   "source": [
    "# making maximum point interpolation:\n",
    "def max_fit_parabolic(x, λcenter, a, IMAX): # -a*(x-λcenter)**2 + IMAX\n",
    "    return -a*(x-λcenter)**2 + IMAX"
   ]
  },
  {
   "cell_type": "markdown",
   "metadata": {},
   "source": [
    "segue fit parabolico dei picchi dello spettro, vengono considerati solo i 5 punti a destra e 5 a sinistra del punto massimo dello spettro\n",
    "\n",
    "segue l'estrapolazione del valore di Imax"
   ]
  },
  {
   "cell_type": "code",
   "execution_count": 9,
   "metadata": {},
   "outputs": [
    {
     "data": {
      "text/html": [
       "<div>\n",
       "<style scoped>\n",
       "    .dataframe tbody tr th:only-of-type {\n",
       "        vertical-align: middle;\n",
       "    }\n",
       "\n",
       "    .dataframe tbody tr th {\n",
       "        vertical-align: top;\n",
       "    }\n",
       "\n",
       "    .dataframe thead th {\n",
       "        text-align: right;\n",
       "    }\n",
       "</style>\n",
       "<table border=\"1\" class=\"dataframe\">\n",
       "  <thead>\n",
       "    <tr style=\"text-align: right;\">\n",
       "      <th></th>\n",
       "      <th>Concentration (μM)</th>\n",
       "      <th>λcenter</th>\n",
       "      <th>a</th>\n",
       "      <th>IMAX</th>\n",
       "      <th>error_λcenter</th>\n",
       "      <th>error_a</th>\n",
       "      <th>error_IMAX</th>\n",
       "    </tr>\n",
       "  </thead>\n",
       "  <tbody>\n",
       "    <tr>\n",
       "      <th>0</th>\n",
       "      <td>5.0</td>\n",
       "      <td>553.687884</td>\n",
       "      <td>2.584687</td>\n",
       "      <td>941.083544</td>\n",
       "      <td>0.101127</td>\n",
       "      <td>0.201602</td>\n",
       "      <td>2.215676</td>\n",
       "    </tr>\n",
       "    <tr>\n",
       "      <th>1</th>\n",
       "      <td>4.0</td>\n",
       "      <td>553.603998</td>\n",
       "      <td>1.804624</td>\n",
       "      <td>816.883841</td>\n",
       "      <td>0.103584</td>\n",
       "      <td>0.145873</td>\n",
       "      <td>1.605726</td>\n",
       "    </tr>\n",
       "    <tr>\n",
       "      <th>2</th>\n",
       "      <td>3.0</td>\n",
       "      <td>552.768769</td>\n",
       "      <td>1.740252</td>\n",
       "      <td>718.429831</td>\n",
       "      <td>0.061279</td>\n",
       "      <td>0.081428</td>\n",
       "      <td>0.886335</td>\n",
       "    </tr>\n",
       "    <tr>\n",
       "      <th>3</th>\n",
       "      <td>2.0</td>\n",
       "      <td>551.921469</td>\n",
       "      <td>1.078718</td>\n",
       "      <td>493.252062</td>\n",
       "      <td>0.058392</td>\n",
       "      <td>0.045953</td>\n",
       "      <td>0.498940</td>\n",
       "    </tr>\n",
       "    <tr>\n",
       "      <th>4</th>\n",
       "      <td>1.0</td>\n",
       "      <td>551.460400</td>\n",
       "      <td>0.469900</td>\n",
       "      <td>238.421474</td>\n",
       "      <td>0.088408</td>\n",
       "      <td>0.032901</td>\n",
       "      <td>0.361620</td>\n",
       "    </tr>\n",
       "    <tr>\n",
       "      <th>5</th>\n",
       "      <td>0.8</td>\n",
       "      <td>551.465957</td>\n",
       "      <td>0.376023</td>\n",
       "      <td>170.299117</td>\n",
       "      <td>0.133564</td>\n",
       "      <td>0.030863</td>\n",
       "      <td>0.321752</td>\n",
       "    </tr>\n",
       "    <tr>\n",
       "      <th>6</th>\n",
       "      <td>0.6</td>\n",
       "      <td>551.248264</td>\n",
       "      <td>0.240613</td>\n",
       "      <td>117.722462</td>\n",
       "      <td>0.088322</td>\n",
       "      <td>0.014202</td>\n",
       "      <td>0.150391</td>\n",
       "    </tr>\n",
       "    <tr>\n",
       "      <th>7</th>\n",
       "      <td>0.4</td>\n",
       "      <td>551.048687</td>\n",
       "      <td>0.103726</td>\n",
       "      <td>52.558216</td>\n",
       "      <td>0.102621</td>\n",
       "      <td>0.007628</td>\n",
       "      <td>0.081727</td>\n",
       "    </tr>\n",
       "    <tr>\n",
       "      <th>8</th>\n",
       "      <td>0.2</td>\n",
       "      <td>550.901888</td>\n",
       "      <td>0.032328</td>\n",
       "      <td>19.328205</td>\n",
       "      <td>0.135248</td>\n",
       "      <td>0.003242</td>\n",
       "      <td>0.035318</td>\n",
       "    </tr>\n",
       "    <tr>\n",
       "      <th>9</th>\n",
       "      <td>0.1</td>\n",
       "      <td>551.025060</td>\n",
       "      <td>0.025576</td>\n",
       "      <td>11.340265</td>\n",
       "      <td>0.223187</td>\n",
       "      <td>0.004122</td>\n",
       "      <td>0.044214</td>\n",
       "    </tr>\n",
       "  </tbody>\n",
       "</table>\n",
       "</div>"
      ],
      "text/plain": [
       "   Concentration (μM)     λcenter         a        IMAX  error_λcenter  \\\n",
       "0                 5.0  553.687884  2.584687  941.083544       0.101127   \n",
       "1                 4.0  553.603998  1.804624  816.883841       0.103584   \n",
       "2                 3.0  552.768769  1.740252  718.429831       0.061279   \n",
       "3                 2.0  551.921469  1.078718  493.252062       0.058392   \n",
       "4                 1.0  551.460400  0.469900  238.421474       0.088408   \n",
       "5                 0.8  551.465957  0.376023  170.299117       0.133564   \n",
       "6                 0.6  551.248264  0.240613  117.722462       0.088322   \n",
       "7                 0.4  551.048687  0.103726   52.558216       0.102621   \n",
       "8                 0.2  550.901888  0.032328   19.328205       0.135248   \n",
       "9                 0.1  551.025060  0.025576   11.340265       0.223187   \n",
       "\n",
       "    error_a  error_IMAX  \n",
       "0  0.201602    2.215676  \n",
       "1  0.145873    1.605726  \n",
       "2  0.081428    0.886335  \n",
       "3  0.045953    0.498940  \n",
       "4  0.032901    0.361620  \n",
       "5  0.030863    0.321752  \n",
       "6  0.014202    0.150391  \n",
       "7  0.007628    0.081727  \n",
       "8  0.003242    0.035318  \n",
       "9  0.004122    0.044214  "
      ]
     },
     "metadata": {},
     "output_type": "display_data"
    }
   ],
   "source": [
    "λcenter_list = []\n",
    "a_list = []\n",
    "IMAX_list = []\n",
    "error_λcenter_list = []\n",
    "error_a_list = []\n",
    "error_IMAX_list = []\n",
    "for λ_col, I_col in zip(WAVELENGHTS, INTENSITIES):\n",
    "    Λ = data[λ_col]\n",
    "    I = data[I_col]\n",
    "    Λmaxcenter = I.idxmax()\n",
    "\n",
    "    λcenter = Λ[Λmaxcenter] # guess\n",
    "    IMAX = I.max() # guess\n",
    "    a = 1 # guess\n",
    "\n",
    "    xrangemax = Λ[Λmaxcenter-5:Λmaxcenter+5] # 10 points around the max\n",
    "    yrangemax = I[Λmaxcenter-5:Λmaxcenter+5] # 10 points around the max\n",
    "    popt, pcov = curve_fit(max_fit_parabolic, xrangemax, yrangemax, p0=[λcenter, a, IMAX])\n",
    "    λcenter, a, IMAX = popt\n",
    "    error_λcenter, error_a, error_IMAX = np.sqrt(np.diag(pcov))\n",
    "    λcenter_list.append(λcenter)\n",
    "    a_list.append(a)\n",
    "    IMAX_list.append(IMAX)\n",
    "    error_λcenter_list.append(error_λcenter)\n",
    "    error_a_list.append(error_a)\n",
    "    error_IMAX_list.append(error_IMAX)\n",
    "\n",
    "max_fit_parabolic_dataframe = pd.DataFrame({'Concentration (μM)': CONCENTRATIONS, 'λcenter': λcenter_list, 'a': a_list, 'IMAX': IMAX_list, 'error_λcenter': error_λcenter_list, 'error_a': error_a_list, 'error_IMAX': error_IMAX_list})\n",
    "display(max_fit_parabolic_dataframe)\n"
   ]
  },
  {
   "cell_type": "code",
   "execution_count": 18,
   "metadata": {},
   "outputs": [
    {
     "name": "stdout",
     "output_type": "stream",
     "text": [
      "λcenter = 551.91 ± 1.01 nm\n",
      "NOTA: sigmaLambda dichiarata dal costruttore vale 1.5nm\n"
     ]
    }
   ],
   "source": [
    "center = np.mean(λcenter_list)\n",
    "sigma = np.std(λcenter_list)\n",
    "print('λcenter =', final_val(center, sigma, udm='nm'))\n",
    "print('NOTA: sigmaLambda dichiarata dal costruttore vale 1.5nm')"
   ]
  },
  {
   "cell_type": "code",
   "execution_count": 29,
   "metadata": {},
   "outputs": [
    {
     "data": {
      "application/vnd.plotly.v1+json": {
       "config": {
        "plotlyServerURL": "https://plot.ly"
       },
       "data": [
        {
         "mode": "lines",
         "name": "5.0 μM",
         "type": "scatter",
         "x": {
          "bdata": "S1ZCpimpgEDiR0MGkLGAQI8zSsauuIBALbk9JhXBgECqwUImZ8mAQHGWRUaa0IBA9TI9RuzYgECNJD6mUuGAQDkQRWZx6IBA0QFGxtfwgEBLVkKmKfmAQOJHQwaQAYFAjzNKxq4IgUAtuT0mFRGBQKrBQiZnGYFAcZZFRpoggUDRAUbG1yiBQC25PSYVMYFAjSQ+plI5gUDiR0MGkEGBQHGWRUaaSIFA0QFGxtdQgUAtuT0mFVmBQI0kPqZSYYFA4kdDBpBpgUBxlkVGmnCBQPUyPUbseIFAjSQ+plKBgUA5EEVmcYiBQNEBRsbXkIFAS1ZCpimZgUDiR0MGkKGBQI8zSsauqIFALbk9JhWxgUCqwUImZ7mBQHGWRUaawIFA0QFGxtfIgUAtuT0mFdGBQI0kPqZS2YFA4kdDBpDhgUBxlkVGmuiBQNEBRsbX8IFALbk9JhX5gUCNJD6mUgGCQOJHQwaQCYJAcZZFRpoQgkD1Mj1G7BiCQI0kPqZSIYJAORBFZnEogkDRAUbG1zCCQEtWQqYpOYJA4kdDBpBBgkCPM0rGrkiCQC25PSYVUYJAqsFCJmdZgkBxlkVGmmCCQNEBRsbXaIJALbk9JhVxgkCNJD6mUnmCQOJHQwaQgYJAcZZFRpqIgkDRAUbG15CCQC25PSYVmYJAjSQ+plKhgkDiR0MGkKmCQHGWRUaasIJAjzNKxq64gkDRAUbG18CCQPUyPUbsyIJALbk9JhXRgkBLVkKmKdmCQI0kPqZS4YJAqsFCJmfpgkDiR0MGkPGCQFetSeaF+IJAcZZFRpoAg0DRAUbG1wiDQC25PSYVEYNAjSQ+plIZg0DiR0MGkCGDQHGWRUaaKINA0QFGxtcwg0AtuT0mFTmDQI0kPqZSQYNA4kdDBpBJg0BxlkVGmlCDQNEBRsbXWINALbk9JhVhg0CNJD6mUmmDQOJHQwaQcYNAcZZFRpp4g0DRAUbG14CDQC25PSYViYNAjSQ+plKRg0DiR0MGkJmDQHGWRUaaoINAjzNKxq6og0DRAUbG17CDQPUyPUbsuINALbk9JhXBg0BLVkKmKcmDQI0kPqZS0YNAqsFCJmfZg0DiR0MGkOGDQFetSeaF6INAcZZFRprwg0CPM0rGrviDQNEBRsbXAIRA9TI9RuwIhEAtuT0mFRGEQEtWQqYpGYRAjSQ+plIhhECqwUImZymEQOJHQwaQMYRAV61J5oU4hEBxlkVGmkCEQI8zSsauSIRA",
          "dtype": "f8"
         },
         "y": {
          "bdata": "ntZ78j2GQEB+w/cEcpBCQIQlfWsoZURAhOJx4OP0RkADqy683Z1JQNz6GoorZ0tAmKuNFRCNTkAqG83jfYxQQNDiRLznnFFAw//RF0bQUkCrxyNtDRNUQDVSBNlIGFVAJ7V1GzHfVUB3ESpUv8NWQI93pR1wZVdAleLe4ZoZWECnvItfs2dYQDGJ5Ey6vlhAURUfPAy3WEAAAAAAAABZQJ9i5+jA9FhAPXU2jZS/WEBQuVSYqlZYQLqACTYLnldAvYQsseCUV0AsiqXXTBNXQEgdps8tR1ZAVZcXvB4rVkB6TX9WxGVVQA7o+YiIv1RAKlX/SWwNVEDOD4OMQk5TQIsas9NVrVJAJupp3MYKUkCoBifmS6FRQCDLqpKM2VBAVgvYe2YbUEA0qxvMbK9OQIeXwh6xq01Awiq+hvBaTEBl6MDEVqJLQAxz6GzEQUpA1P61i7ImSUA40A8Qf0RIQPxiM4tvQ0dA923JFNyaRkDboHG7pJtFQPkIXz/ptURAEVdq2mI7RECUoQ3v415DQIu0gPu7l0JAictXtEwDQkDU4+g7LY1BQGtNd7Ss6kBAm8ciUtJxQEC/AKnYRcQ/QMAdiXF25D5AUcXZstv6PUDrkscIF+E8QCq3cPBeRzxAHuLAN04aO0CsNJsRYEA6QFFPOh1YljlARps2HLLXOEBZbLvq1x44QHkLH1QrZTdA+uKwV3urNkBCp3EXQt81QICuv0MOBDVApZfl4jY4NECF1DWvraUzQL5LtMwe6TJAr4tvnFQWMkDRw+0bRF4xQCnQti/2xzBA4nJJ3nkaMECk/BZD2wwvQFDXztea1C1AqU7QufqNLEDRF7Ewnz0rQNm06LI6ZipAhPivNjVSKUAZkdrZOUQoQH5ZT2kHPidAzfSlZ8j0JUDr7Hr+JiolQOK79o2SQSRAxLvOlqo/I0D6m2r7/3oiQPxjVGsQVCFAvTpKc7rcIEBGOaR/o94fQJgFXlGV3B5AcwPXFLtFHUB02QIPyN0bQO3DKEmS1hpAyHkZJHBfGUBRtjhAMyAYQEv2+ZiiLBdAwBBLrXn6FUAKQ9M/+f4UQEz/ToEbTxRAh8XPbdo0E0AgRrfvWVsSQJstSOK8yBFAm+/2bVHREECdGiyPSyEQQFfHwwJ1Ew9A+cc/+2CADUAMTaXdYUsMQN6WVQU9GgtAgA2IIAH9CUBTfU3jY+QIQFy2sBBh4gdA8ZfmnKvYBkCizsGQl0AGQBMRLvoEEgVA",
          "dtype": "f8"
         }
        },
        {
         "mode": "lines",
         "name": "4.0 μM",
         "type": "scatter",
         "x": {
          "bdata": "3CmKctWpgEBzG4vSO7KAQCAHkpJauYBAvoyF8sDBgEA7lYryEsqAQAJqjRJG0YBAhgaFEpjZgEAe+IVy/uGAQMrjjDId6YBAYtWNkoPxgEDcKYpy1fmAQHMbi9I7AoFAIAeSkloJgUC+jIXywBGBQDuVivISGoFAAmqNEkYhgUBi1Y2SgymBQL6MhfLAMYFAHviFcv45gUBzG4vSO0KBQAJqjRJGSYFAYtWNkoNRgUC+jIXywFmBQB74hXL+YYFAcxuL0jtqgUACao0SRnGBQIYGhRKYeYFAHviFcv6BgUDK44wyHYmBQGLVjZKDkYFA3CmKctWZgUBzG4vSO6KBQCAHkpJaqYFAvoyF8sCxgUA7lYryErqBQAJqjRJGwYFAYtWNkoPJgUC+jIXywNGBQB74hXL+2YFAcxuL0jvigUACao0SRumBQGLVjZKD8YFAvoyF8sD5gUAe+IVy/gGCQHMbi9I7CoJAAmqNEkYRgkCGBoUSmBmCQB74hXL+IYJAyuOMMh0pgkBi1Y2SgzGCQNwpinLVOYJAcxuL0jtCgkAgB5KSWkmCQL6MhfLAUYJAO5WK8hJagkACao0SRmGCQGLVjZKDaYJAvoyF8sBxgkAe+IVy/nmCQHMbi9I7goJAAmqNEkaJgkBi1Y2Sg5GCQL6MhfLAmYJAHviFcv6hgkBzG4vSO6qCQAJqjRJGsYJAIAeSklq5gkBi1Y2Sg8GCQIYGhRKYyYJAvoyF8sDRgkDcKYpy1dmCQB74hXL+4YJAO5WK8hLqgkBzG4vSO/KCQOiAkbIx+YJAAmqNEkYBg0Bi1Y2SgwmDQL6MhfLAEYNAHviFcv4Zg0BzG4vSOyKDQAJqjRJGKYNAYtWNkoMxg0C+jIXywDmDQB74hXL+QYNAcxuL0jtKg0ACao0SRlGDQGLVjZKDWYNAvoyF8sBhg0Ae+IVy/mmDQHMbi9I7coNAAmqNEkZ5g0Bi1Y2Sg4GDQL6MhfLAiYNAHviFcv6Rg0BzG4vSO5qDQAJqjRJGoYNAIAeSklqpg0Bi1Y2Sg7GDQIYGhRKYuYNAvoyF8sDBg0DcKYpy1cmDQB74hXL+0YNAO5WK8hLag0BzG4vSO+KDQOiAkbIx6YNAAmqNEkbxg0AgB5KSWvmDQGLVjZKDAYRAhgaFEpgJhEC+jIXywBGEQNwpinLVGYRAHviFcv4hhEA7lYryEiqEQHMbi9I7MoRA6ICRsjE5hEACao0SRkGEQCAHkpJaSYRA",
          "dtype": "f8"
         },
         "y": {
          "bdata": "+VnyePS6QUDaqqh0JdNDQE54ubW4okVAxY1sL3hJSEA3GU2aA/pKQIgmCRN0+kxA16JTZlfCT0B9Q4Hb2SBRQM/Q9/AhHlJA3TzN92BHU0C1thYo12lUQMDlUdb6cVVAdUv8edgRVkBxQgBHufRWQHw9Hw9RlFdAoq0VkwQeWECzCNTFQWNYQN+QLwd5mlhAm06sPzu/WEAAAAAAAABZQJr7L92fo1hA6L/zCD6DWEAuAwLWDB5YQK9PghdO2ldAE7KG5NVBV0D4JOFx8ddWQNBqLZ9ZQVZAkBiXmiKzVUB33b1nyDxVQErgRwL5jVRApdCQfxPLU0B9/nuhc/lSQPLcQ7YNclJA+KK6USTXUUBkW+udLipRQKpflN//oVBARUbHuVDPT0D/wnHlt5JOQNyv66cQRk1ARgE5+0T/S0AfXnK2ThpLQJRJMjS1EEpADLaMCeDeSEAQ4FvU38JHQHX6CYW+80ZAPaTRMS0kRkDxxqndO0hFQINhXc0HbkRAnfm9vzbKQ0BDRdZv1hJDQMu+PSfockJAcNVfglLPQUDYtAH6Ek9BQDrgyGAtpUBAHy1cdScxQED+frj3sjc/QE8bSXmYbj5AlUEo8VtjPUA4BPZcu2E8QDPwVz6tmTtAhzF/Y1TSOkCn9X3hp9g5QF5FEeesEzlAG0ownQUhOECUvqTM8IE3QFL4E6qx6zZAs13MORkZNkDFDKePSk81QCdxbeG7jjRAISlRnVrWM0DZzXxxNyQzQJdgHdByVjJA2OSOWJGsMUBGQRPOLQ0xQJD7/r07ZzBAIZBji5+AL0CPUvHGoGUuQNhSE9MaGS1APUWqS6fwK0CVDzZ7Nc4qQL4dkBrn9ylAJs7GG/PKKEDthBh2I7EnQFb8fRQ/jiZAZwHaXtKuJUD60R320eckQGTY4+VQ6iNAXf65P0oYI0CayWWq1TAiQJiEmOxJaCFA7qKSp0mgIEAd6HPhH6cfQGj8g6DoOh5AH4wxRbruHED92j1nK7IbQCZuT8h6WRpAQpATevRcGUAsZ82NheQXQG+ZIqoqxBZAuPQZl2C/FUAlwP+Yk9UUQFKqFch65RNA86RXgxP6EkCJI0m6pPkRQIzTbewHkhFAy4pZLKu9EEBkDpkClgkQQBXDgkxEbQ5AHbH59jZYDUAoi8FQlcELQJdACluyzwpAjJ8DEqtQCUBtx9KtzmsIQCk3XRsrRgdA5es+8DiLBkDp8n95RrgFQEJIRBIkugRA",
          "dtype": "f8"
         }
        },
        {
         "mode": "lines",
         "name": "3.0 μM",
         "type": "scatter",
         "x": {
          "bdata": "ielN/4OwgEAg205f6riAQM3GVR8JwIBAa0xJf2/IgEDoVE5/wdCAQK8pUZ/014BAM8ZIn0bggEDLt0n/rOiAQHejUL/L74BAD5VRHzL4gECJ6U3/gwCBQCDbTl/qCIFAzcZVHwkQgUBrTEl/bxiBQOhUTn/BIIFArylRn/QngUAPlVEfMjCBQGtMSX9vOIFAy7dJ/6xAgUAg205f6kiBQK8pUZ/0T4FAD5VRHzJYgUBrTEl/b2CBQMu3Sf+saIFAINtOX+pwgUCvKVGf9HeBQDPGSJ9GgIFAy7dJ/6yIgUB3o1C/y4+BQA+VUR8ymIFAielN/4OggUAg205f6qiBQM3GVR8JsIFAa0xJf2+4gUDoVE5/wcCBQK8pUZ/0x4FAD5VRHzLQgUBrTEl/b9iBQMu3Sf+s4IFAINtOX+rogUCvKVGf9O+BQA+VUR8y+IFAa0xJf28AgkDLt0n/rAiCQCDbTl/qEIJArylRn/QXgkAzxkifRiCCQMu3Sf+sKIJAd6NQv8svgkAPlVEfMjiCQInpTf+DQIJAINtOX+pIgkDNxlUfCVCCQGtMSX9vWIJA6FROf8FggkCvKVGf9GeCQA+VUR8ycIJAa0xJf294gkDLt0n/rICCQCDbTl/qiIJArylRn/SPgkAPlVEfMpiCQGtMSX9voIJAy7dJ/6yogkAg205f6rCCQK8pUZ/0t4JAzcZVHwnAgkAPlVEfMsiCQDPGSJ9G0IJAa0xJf2/YgkCJ6U3/g+CCQMu3Sf+s6IJA6FROf8HwgkAg205f6viCQJVAVT/g/4JArylRn/QHg0APlVEfMhCDQGtMSX9vGINAy7dJ/6wgg0Ag205f6iiDQK8pUZ/0L4NAD5VRHzI4g0BrTEl/b0CDQMu3Sf+sSINAINtOX+pQg0CvKVGf9FeDQA+VUR8yYINAa0xJf29og0DLt0n/rHCDQCDbTl/qeINArylRn/R/g0APlVEfMoiDQGtMSX9vkINAy7dJ/6yYg0Ag205f6qCDQK8pUZ/0p4NAzcZVHwmwg0APlVEfMriDQDPGSJ9GwINAa0xJf2/Ig0CJ6U3/g9CDQMu3Sf+s2INA6FROf8Hgg0Ag205f6uiDQJVAVT/g74NArylRn/T3g0DNxlUfCQCEQA+VUR8yCIRAM8ZIn0YQhEBrTEl/bxiEQInpTf+DIIRAy7dJ/6wohEDoVE5/wTCEQCDbTl/qOIRAlUBVP+A/hECvKVGf9EeEQM3GVR8JUIRA",
          "dtype": "f8"
         },
         "y": {
          "bdata": "oRe7p43dREAQU5Gt0C1HQDbaObnuKklAjYOjakCuS0Bme7JkAJdOQJZObSW3JFBAQMDjZ+h4UUBJBvCayLBSQIw3GuhmhlNA74EG3BKOVEC1XvKkqLBVQP0081tfX1ZA2ULmJP04V0BMboUKGHhXQNdaclLVM1hA4h9jtq+GWEDtmqpaYcpYQHitqHqy6VhAAAAAAAAAWUCcU1iqtOVYQGGVsGlSsFhAK8SYxNVcWEDNyNSMtgRYQJS+98SyYldAVux7T4TgVkBQkB3Y739WQO2GU8/AzlVAqePbQL0xVUAY5tQYpMVUQDSczgePGVRArvYMNdxtU0DMqIh9MY5SQItLqFiC9lFA9TQ9muBwUUCPdFR+c6lQQII2NEwp4E9AWINvRuv3TkBCZ46gCalNQL3rxFEptkxAOhK034hTS0CFOnpdoWdKQOAkdqmP+0hAM1Ph6lIgSEAnsX8LUT9HQBgS1Ea7akZAjJheQa52RUAXPYVSJ+JEQGgL53pp7kNAu723a7M7Q0CwYF0vv5VCQO3mlwfB60FAz7HwP19JQUCY8N8M/tJAQCpvoBCIQkBAtOHxZfiNP0DY1oTOapM+QMvjq28Mez1AIhvXTyCePEBU1hzWk787QEp5VLxK0jpANTf2ptb3OUBPEwdAWA05QPyJ/KTKVjhARbA0uACPN0D0RLAs+MY2QNvE46MJJDZA3jEkz/yENUC/i6Fef780QA8CjwaEyDNAXeAXCspGM0CbJc18a4QyQKz5XxC0sTFA3WDKn2QhMUDDYi6FoLEwQJhK23IBGjBA4M1lvtPFLkAy+OcNAnYtQDc8HNhKZSxAEYTBguFWK0DpkYWLr/opQJhg5fQwaSlAvmuK+qI9KEAP2va6g+8mQNBBlR4oISZAXK84urwAJUBl5kJERT4kQIMhjjkIbyNAQa6cjy+CIkBK2Q6TPb8hQCq6EKpvyCBAZ55NYwcZIEDcbg/NQtweQCBL6T2KdR1Ajq6jaoz5G0Ct8UntWcMaQCtaZ4zbyRlAlepAiDJDGECdkoiWY0YXQKRM+YMoERZAe/1IDtIjFUA45oRHwRAUQFBviBLUAhNAWMXUAwFVEkBSkkRWMasRQMOUiQqGIxFA4a6jsUg5EEB/1jQf/pUOQJdSgT48Zw1AUiKFkalhDEBNVDu2TyILQDC09/rlkQlAEayBwPm7CED0+78UGpYHQBPRHvU8VQZAWtk0WhQIBkB2PxDFXcoEQBFVgD+jHQRA",
          "dtype": "f8"
         }
        },
        {
         "mode": "lines",
         "name": "2.0 μM",
         "type": "scatter",
         "x": {
          "bdata": "Mt1LREu3gEDJzkyksb+AQHa6U2TQxoBAFEBHxDbPgECRSEzEiNeAQFgdT+S73oBA3LlG5A3ngEB0q0dEdO+AQCCXTgST9oBAuIhPZPn+gEAy3UtESweBQMnOTKSxD4FAdrpTZNAWgUAUQEfENh+BQJFITMSIJ4FAWB1P5LsugUC4iE9k+TaBQBRAR8Q2P4FAdKtHRHRHgUDJzkyksU+BQFgdT+S7VoFAuIhPZPlegUAUQEfENmeBQHSrR0R0b4FAyc5MpLF3gUBYHU/ku36BQNy5RuQNh4FAdKtHRHSPgUAgl04Ek5aBQLiIT2T5noFAMt1LREungUDJzkyksa+BQHa6U2TQtoFAFEBHxDa/gUCRSEzEiMeBQFgdT+S7zoFAuIhPZPnWgUAUQEfENt+BQHSrR0R054FAyc5MpLHvgUBYHU/ku/aBQLiIT2T5/oFAFEBHxDYHgkB0q0dEdA+CQMnOTKSxF4JAWB1P5LsegkDcuUbkDSeCQHSrR0R0L4JAIJdOBJM2gkC4iE9k+T6CQDLdS0RLR4JAyc5MpLFPgkB2ulNk0FaCQBRAR8Q2X4JAkUhMxIhngkBYHU/ku26CQLiIT2T5doJAFEBHxDZ/gkB0q0dEdIeCQMnOTKSxj4JAWB1P5LuWgkC4iE9k+Z6CQBRAR8Q2p4JAdKtHRHSvgkDJzkyksbeCQFgdT+S7voJAdrpTZNDGgkC4iE9k+c6CQNy5RuQN14JAFEBHxDbfgkAy3UtES+eCQHSrR0R074JAkUhMxIj3gkDJzkyksf+CQD40U4SnBoNAWB1P5LsOg0C4iE9k+RaDQBRAR8Q2H4NAdKtHRHQng0DJzkyksS+DQFgdT+S7NoNAuIhPZPk+g0AUQEfENkeDQHSrR0R0T4NAyc5MpLFXg0BYHU/ku16DQLiIT2T5ZoNAFEBHxDZvg0B0q0dEdHeDQMnOTKSxf4NAWB1P5LuGg0C4iE9k+Y6DQBRAR8Q2l4NAdKtHRHSfg0DJzkyksaeDQFgdT+S7roNAdrpTZNC2g0C4iE9k+b6DQNy5RuQNx4NAFEBHxDbPg0Ay3UtES9eDQHSrR0R034NAkUhMxIjng0DJzkykse+DQD40U4Sn9oNAWB1P5Lv+g0B2ulNk0AaEQLiIT2T5DoRA3LlG5A0XhEAUQEfENh+EQDLdS0RLJ4RAdKtHRHQvhECRSEzEiDeEQMnOTKSxP4RAPjRThKdGhEBYHU/ku06EQHa6U2TQVoRA",
          "dtype": "f8"
         },
         "y": {
          "bdata": "C7cHQsCQRkDqTacRsdNIQGcf6isbo0pAbDG1mS6PTUBEnEJ+JylQQJWVqROBGVFAMPKbEq9aUkAOEUimo29TQHKuL2F8RFRAi+DNJiRwVUCfJ2XgTjpWQN12P25JAFdAqDj2d/+XV0AQFFfGwxxYQCJcg6JXmVhA3kurhh7jWEAP87OvX+9YQAAAAAAAAFlA5MgTUEDuWEAKm6QcGcVYQFrwE2ObjFhADT///KU1WEDQlAfysvBXQCLgENiMVldA3MXPk7fFVkA8M0zAdF1WQBlMna2WwlVAJ7iLz4cXVUARYQY3tqNUQEitlKG46VNATZuM5+EpU0AmxqX9mX1SQMSGmQtW6FFAdQkyobpSUUAnAXZuw5JQQF+2GwtV8U9AWufuRmjLTkDZbphb0EFNQB1BPQdKRkxANtzh2ncKS0C80FZuZt1JQJFrYUJh4UhAN97n4vfLR0DzXFjMBOJGQBYglrAHG0ZA+HKjgk0URUAuXx0tqV1EQEma2vkhokNAsfy10zTzQkDrgWGMd1lCQD1mbN2SskFAjrGWtNLpQECVwgjOaHtAQD1yrAMyAEBAtGZqLWTwPkDNhC+00PE9QBhR+qyoAz1A6Aef+uHeO0ChETMxhgY7QG2hmTPOSzpA7hmWagavOUBbK9obyng4QBW80Euh2jdAm0biGWwrN0AybX1dqWs2QD6dFSG+zDVAkSXUj10VNUCR1M9eWGw0QL9kUKQtrTNA2xZw5qzTMkC9MtwHSRkyQCcy500NoDFAPEQ9ffTjMEDUK1Y/tFwwQO+LkGRHmi9A0iYKEzQmLkAaSQpc0vEsQOWDxwWVyytAsFeAk4GkKkBX5CLhMrApQOMJPFL41ChAHOdvLAmyJ0BvDfGPDrwmQL4CkPzwlSVAB9N/yxCGJEBXQcq9NtgjQHj63U/1+CJAHAB6cHQ/IkBiJv2YgE0hQOA5FPXhdSBAFjR1UfXSH0Czq6JvfTEeQHukw49k4BxAaPtCSV9/G0D44QeP6EQaQA1DRogM8hhALOmINaISGEA2qzToIMYWQB9hmQx+ohVAd6PU+5mRFECX9X3WXMQTQPn+n8Fo7BJAxMhuBjIVEkBD1Pe/f0sRQMhR0EBLvRBAQpZH7eTPD0AEeZajjmwOQCVz2skE/QxA87INIjX4C0BLfUpZoYMKQMqy9D9/nQlABgfR7ZFeCECUYilPYSkHQMTY+FUdRAZA/SplvfHVBUDgvYz7EcIEQOJk7bLevQNA",
          "dtype": "f8"
         }
        },
        {
         "mode": "lines",
         "name": "1.0 μM",
         "type": "scatter",
         "x": {
          "bdata": "7UhDifu6gECEOkTpYcOAQDEmS6mAyoBAz6s+CefSgEBMtEMJOduAQBOJRils4oBAlyU+Kb7qgEAvFz+JJPOAQNsCRklD+oBAc/RGqakCgUDtSEOJ+wqBQIQ6ROlhE4FAMSZLqYAagUDPqz4J5yKBQEy0Qwk5K4FAE4lGKWwygUBz9EapqTqBQM+rPgnnQoFALxc/iSRLgUCEOkTpYVOBQBOJRilsWoFAc/RGqaligUDPqz4J52qBQC8XP4kkc4FAhDpE6WF7gUATiUYpbIKBQJclPim+ioFALxc/iSSTgUDbAkZJQ5qBQHP0RqmpooFA7UhDifuqgUCEOkTpYbOBQDEmS6mAuoFAz6s+CefCgUBMtEMJOcuBQBOJRils0oFAc/RGqanagUDPqz4J5+KBQC8XP4kk64FAhDpE6WHzgUATiUYpbPqBQHP0RqmpAoJAz6s+CecKgkAvFz+JJBOCQIQ6ROlhG4JAE4lGKWwigkCXJT4pviqCQC8XP4kkM4JA2wJGSUM6gkBz9EapqUKCQO1IQ4n7SoJAhDpE6WFTgkAxJkupgFqCQM+rPgnnYoJATLRDCTlrgkATiUYpbHKCQHP0RqmpeoJAz6s+CeeCgkAvFz+JJIuCQIQ6ROlhk4JAE4lGKWyagkBz9EapqaKCQM+rPgnnqoJALxc/iSSzgkCEOkTpYbuCQBOJRilswoJAMSZLqYDKgkBz9EapqdKCQJclPim+2oJAz6s+CefigkDtSEOJ++qCQC8XP4kk84JATLRDCTn7gkCEOkTpYQODQPmfSslXCoNAE4lGKWwSg0Bz9EapqRqDQM+rPgnnIoNALxc/iSQrg0CEOkTpYTODQBOJRilsOoNAc/RGqalCg0DPqz4J50qDQC8XP4kkU4NAhDpE6WFbg0ATiUYpbGKDQHP0RqmpaoNAz6s+Cedyg0AvFz+JJHuDQIQ6ROlhg4NAE4lGKWyKg0Bz9EapqZKDQM+rPgnnmoNALxc/iSSjg0CEOkTpYauDQBOJRilssoNAMSZLqYC6g0Bz9EapqcKDQJclPim+yoNAz6s+CefSg0DtSEOJ+9qDQC8XP4kk44NATLRDCTnrg0CEOkTpYfODQPmfSslX+oNAE4lGKWwChEAxJkupgAqEQHP0RqmpEoRAlyU+Kb4ahEDPqz4J5yKEQO1IQ4n7KoRALxc/iSQzhEBMtEMJOTuEQIQ6ROlhQ4RA+Z9KyVdKhEATiUYpbFKEQDEmS6mAWoRA",
          "dtype": "f8"
         },
         "y": {
          "bdata": "2cIWr2DjR0A4Tigu6mlKQONxcF4YkExAptYVgkzWTkA1qUXHW7RQQB7SCPOUw1FAKi3acY79UkDgZEHvMf1TQGB718eA4FRAqzjPUHTeVUADiSpNHKBWQHxgb5/yU1dA1phOx2bZV0CmMQNWYElYQApVXYvSpFhAg8PM+pvJWEBcNTP9Jt1YQAAAAAAAAFlAOYgulUPJWEDQHmSYTZFYQKdk/T5RN1hAnrfLSIkPWEC6o5WdsqJXQOQa6ulBOldACBZoQMirVkAg2Ts8rwBWQFoxhUfCX1VAuT6AajL+VED7UITu7RVUQNYgKfy/sVNAdWP9s0roUkAWrO5yWD5SQFUb6zxtplFAaDtXH1TbUEC294XrwSlQQO84iNtzPk9AX/jn1vvhTUCIezZGCM5MQD/PoOT2K0tAQAAGTEg1SkC4/OnIU2BJQKoIrLKfekhA0JfTdy9pR0BIh+KKYW1GQDrWZ1ZWf0VAb8TMX4ykREDp1KK2Z+hDQHheMuRGNENAfPs4dBZvQkBunqwvP55BQK8oOLL3R0FA2cxL53SmQEChkOgUfx9AQD5jkx6oOT9AsfZ8x8FRPkAsB3CqNkk9QKcNbvhIbTxAeSp+gfN1O0BMyzQDcMs6QDYvApaa5zlAfuwM+dXnOEAv0cgVVT84QG/FWJWxYTdA7AZVBm6cNkCDUW5Egf41QLzWbo5HUDVAyxJ0qzC4NEDqCTN0UekzQDlgMsFJCTNA9KlwJ6BVMkCICZJKGMQxQB911C11DTFAbD4cz8RxMECuW5Z32asvQGgs6uwnnC5A3vAqchWELUBJQCsniFgsQHy4moBqXCtA+hDn3rlVKkBq5gSRD+IoQKf30N1CSihAz7OiqWEgJ0D6CA6RtSsmQI+cgAMLASVAHUAXHUMPJEB+HxM6y0MjQFQ7GC3dkiJAlpNe5jfTIUDI9LT7jPQgQDMEnGeu7B9AqEdM5QKoHkBVb7t4EHgdQIepec6d9RtAUw2vubXkGkAi3r+nnsoZQJWRCA6dgxhA4RN8pexZF0DIJ8sX7mkWQGpMRDPILBVAtiKSQutFFEAJV9ggOD0TQAqk27XBbxJALKK7iOW8EUCNa09AE/UQQAHC2PRfOhBASw1j4KkgD0BI0ky/T4UNQOkfLyJOfwxAh7usjXJ5C0BUpK4bJjsKQFIiTz/C/whAX+Nwq67YB0BpmQktt1wGQGzxPpUesAVAIyYKUKfnBEB3PNyzc4kEQFGsJFDkXwNA",
          "dtype": "f8"
         }
        },
        {
         "mode": "lines",
         "name": "0.8 μM",
         "type": "scatter",
         "x": {
          "bdata": "2DzxJ/C6gEBvLvKHVsOAQBwa+Ud1yoBAup/sp9vSgEA3qPGnLduAQP589Mdg4oBAghnsx7LqgEAaC+0nGfOAQMb28+c3+oBAXuj0R54CgUDYPPEn8AqBQG8u8odWE4FAHBr5R3UagUC6n+yn2yKBQDeo8actK4FA/nz0x2AygUBe6PRHnjqBQLqf7KfbQoFAGgvtJxlLgUBvLvKHVlOBQP589MdgWoFAXuj0R55igUC6n+yn22qBQBoL7ScZc4FAby7yh1Z7gUD+fPTHYIKBQIIZ7MeyioFAGgvtJxmTgUDG9vPnN5qBQF7o9EeeooFA2DzxJ/CqgUBvLvKHVrOBQBwa+Ud1uoFAup/sp9vCgUA3qPGnLcuBQP589Mdg0oFAXuj0R57agUC6n+yn2+KBQBoL7ScZ64FAby7yh1bzgUD+fPTHYPqBQF7o9EeeAoJAup/sp9sKgkAaC+0nGROCQG8u8odWG4JA/nz0x2AigkCCGezHsiqCQBoL7ScZM4JAxvbz5zc6gkBe6PRHnkKCQNg88SfwSoJAby7yh1ZTgkAcGvlHdVqCQLqf7KfbYoJAN6jxpy1rgkD+fPTHYHKCQF7o9EeeeoJAup/sp9uCgkAaC+0nGYuCQG8u8odWk4JA/nz0x2CagkBe6PRHnqKCQLqf7KfbqoJAGgvtJxmzgkBvLvKHVruCQP589MdgwoJAHBr5R3XKgkBe6PRHntKCQIIZ7Mey2oJAup/sp9vigkDYPPEn8OqCQBoL7ScZ84JAN6jxpy37gkBvLvKHVgODQOST+GdMCoNA/nz0x2ASg0Be6PRHnhqDQLqf7KfbIoNAGgvtJxkrg0BvLvKHVjODQP589MdgOoNAXuj0R55Cg0C6n+yn20qDQBoL7ScZU4NAby7yh1Zbg0D+fPTHYGKDQF7o9EeeaoNAup/sp9tyg0AaC+0nGXuDQG8u8odWg4NA/nz0x2CKg0Be6PRHnpKDQLqf7KfbmoNAGgvtJxmjg0BvLvKHVquDQP589MdgsoNAHBr5R3W6g0Be6PRHnsKDQIIZ7MeyyoNAup/sp9vSg0DYPPEn8NqDQBoL7ScZ44NAN6jxpy3rg0BvLvKHVvODQOST+GdM+oNA/nz0x2AChEAcGvlHdQqEQF7o9EeeEoRAghnsx7IahEC6n+yn2yKEQNg88SfwKoRAGgvtJxkzhEA3qPGnLTuEQG8u8odWQ4RA5JP4Z0xKhED+fPTHYFKEQBwa+Ud1WoRA",
          "dtype": "f8"
         },
         "y": {
          "bdata": "uxR6IodaSEAUEZ2SZb1KQIzWanAf1UxAkG8lZ9MuT0CwUtFu6udQQEf7x7t+4VFAOxhu+sEtU0BTy7yvqxhUQAX1lNhWvVRAjyqK3TzKVUC+Bj60Q6FWQJxNvlvuUldATxZrEEGoV0Ds24rbfWJYQOgdQR42pVhA7G+rAlngWEAAAAAAAABZQDkpQ7786FhAq0k/iVq3WEA3/CZIxJNYQGsxN+5AclhAM49qsLD2V0AbwmQZ4JRXQOP42fX5MVdA0DgBj7mJVkDqqu2HCCBWQEWNnI/7fVVA2Cq+Cw2qVEA1UaV3BERUQBBh0op5hlNAp5oAYVUHU0CQz/hd8iVSQM5DpXevflFAEdqGzXPNUEBbxsp07TRQQEEATaqEL09A63oTI5DJTUDIXgB4Nl5MQKim7nONxEtASvm7/jxBSkDmmaUWHGRJQEee6luEWEhAdoS+bWVtR0AGUr7SXF1GQJfgU9gdg0VAf4q1cL+yREANCZ2TRc1DQILvTQwBDENA7CHzpGSAQkBSlzQuz81BQAZK53cbJEFAdpKL1fmOQEB0plfzSjBAQN46AAdLFT9ABAklLulSPkDwDOUEEwc9QOXVRKKUdDxAW4CirnSIO0A76nzB75I6QF6V/eA73jlAc4L5bYwGOUCTr1Sr0C04QJg88ep8ZzdAh8AMBve9NkBkGwpWyP01QEKZ9K85hjVA1JnBX9KuNEB+NuPLjRQ0QDPwLxvXKjNA8rzZJheBMkDURGyhW9AxQFNPIi1rPTFAklNSaQyJMEA4HhnCRAswQHedtm1ImC5AnFgQ3yI+LUBAEpyqh4EsQP8oXxE7LytAEaI2lLksKkCut6uD/TgpQJVbnloRRihAkRc5KpT/JkB9qmJXOV0mQH1Mz64kNiVAY1eGrtsrJEATPb9Ki2cjQCRVQLXleCJAQQ6wI66dIUBqwXeSMeIgQHaZUr5KPCBAhniUvigQH0AbcXLMBmkdQAfEVTEnKRxA5dzxVP27GkDWKa1LPIsZQOTXlc6bzxhAgZz8NNSXF0DlzZE2gpcWQF56MCAYZhVAIxugw/qgFECPpstKF2wTQAZaKqz0ohJASGyw+azHEUBXwEvlcuEQQGJdHK+VkBBAgqhHVSavD0CCg38n6cUNQJmghJPOxgxArbzAln8lC0BQkljkjEMKQIr4xqtS5whAOiOKit2hB0D3/gE9tOkGQK3wyAEAJAZAjf9v7P2XBUAPc5kDh1YEQATwdjKuZQNA",
          "dtype": "f8"
         }
        },
        {
         "mode": "lines",
         "name": "0.6 μM",
         "type": "scatter",
         "x": {
          "bdata": "nd61/a28gEA00LZdFMWAQOG7vR0zzIBAf0GxfZnUgED8SbZ969yAQMMeuZ0e5IBAR7uwnXDsgEDfrLH91vSAQIuYuL31+4BAI4q5HVwEgUCd3rX9rQyBQDTQtl0UFYFA4bu9HTMcgUB/QbF9mSSBQPxJtn3rLIFAwx65nR40gUAjirkdXDyBQH9BsX2ZRIFA36yx/dZMgUA00LZdFFWBQMMeuZ0eXIFAI4q5HVxkgUB/QbF9mWyBQN+ssf3WdIFANNC2XRR9gUDDHrmdHoSBQEe7sJ1wjIFA36yx/daUgUCLmLi99ZuBQCOKuR1cpIFAnd61/a2sgUA00LZdFLWBQOG7vR0zvIFAf0GxfZnEgUD8SbZ968yBQMMeuZ0e1IFAI4q5HVzcgUB/QbF9meSBQN+ssf3W7IFANNC2XRT1gUDDHrmdHvyBQCOKuR1cBIJAf0GxfZkMgkDfrLH91hSCQDTQtl0UHYJAwx65nR4kgkBHu7CdcCyCQN+ssf3WNIJAi5i4vfU7gkAjirkdXESCQJ3etf2tTIJANNC2XRRVgkDhu70dM1yCQH9BsX2ZZIJA/Em2fetsgkDDHrmdHnSCQCOKuR1cfIJAf0GxfZmEgkDfrLH91oyCQDTQtl0UlYJAwx65nR6cgkAjirkdXKSCQH9BsX2ZrIJA36yx/da0gkA00LZdFL2CQMMeuZ0exIJA4bu9HTPMgkAjirkdXNSCQEe7sJ1w3IJAf0GxfZnkgkCd3rX9reyCQN+ssf3W9IJA/Em2fev8gkA00LZdFAWDQKk1vT0KDINAwx65nR4Ug0AjirkdXByDQH9BsX2ZJINA36yx/dYsg0A00LZdFDWDQMMeuZ0ePINAI4q5HVxEg0B/QbF9mUyDQN+ssf3WVINANNC2XRRdg0DDHrmdHmSDQCOKuR1cbINAf0GxfZl0g0DfrLH91nyDQDTQtl0UhYNAwx65nR6Mg0AjirkdXJSDQH9BsX2ZnINA36yx/dakg0A00LZdFK2DQMMeuZ0etINA4bu9HTO8g0AjirkdXMSDQEe7sJ1wzINAf0GxfZnUg0Cd3rX9rdyDQN+ssf3W5INA/Em2fevsg0A00LZdFPWDQKk1vT0K/INAwx65nR4EhEDhu70dMwyEQCOKuR1cFIRAR7uwnXAchEB/QbF9mSSEQJ3etf2tLIRA36yx/dY0hED8SbZ96zyEQDTQtl0URYRAqTW9PQpMhEDDHrmdHlSEQOG7vR0zXIRA",
          "dtype": "f8"
         },
         "y": {
          "bdata": "SwZx+rTOSECIuo4zbLdKQM5i6rmHEU1AJglbaJ25T0BQRyIZ4jxRQNUnbjhdJlJAERmF3oRIU0Db5g6bpkhUQH4XjnAiQFVAe1KikN8VVkC+YVtUr9pWQMBnwIeaoFdAMhkbwR7xV0A3ATrwWmtYQBwDK/GLrFhABjfjcYvaWEAAAAAAAABZQLKA6NJD+VhA1cyRycHcWEAgaFI8vrVYQD7QVaLZOFhAGlAtns34V0BjayvDBI9XQKLp/QhWDFdAyRxQxAlpVkA+EBjgoSxWQE9qo3qrSFVAe7mu6j20VEDbG0GpAQ9UQLCYfOovjFNA3B4cuCPRUkAPfwX6nQ1SQDBGcZhJa1FA3KtbWNLQUEDhu0VTNDlQQFDNwcNO3U5AgNO4jXimTUD7cld/rlxMQFsYaN6YXktA2arlVkUeSkDOziDz5FpJQNhHHMynSUhAphieHFEYR0DZljHODktGQEuBolIANkVAF1wallusREAtn37kQQFEQDP/k4mZCENAuaW7Q8dUQkBLHV4TLb9BQPLMP48QHEFA286CDCmDQED9b9iazAhAQH0PRAhsWj9AUcYq8+sSPkDKjY4etgE9QM2QKIwvGjxAySavBckyO0A8NxmiATs6QAteJdw0vzlA67eAPDHsOEBgNCaC5AY4QGoP7EEgODdA3nAz35F1NkDvcop9VMQ1QAYvFCjzAjVARwBIumtVNEDeRRAakLwzQBIUNw6EHTNAAANQ3td7MkCutr6uinwxQFyhYCr3FTFAPM55DExOMEBQkmdPU5YvQE6JFQvxEi5ATkg5CYRRLUDqL7spuwAsQBmtf07tEytAGF0hwz2pKUDVfHHZwvAoQJLGyvCkIyhA5IXTQjWYJkCIA6ZGIeklQNbYhPMtDiVATGNJotTgI0AyFrb+hhcjQClj+Q7qPiJACbLszfKAIUAAu5zkZ68gQKvCNwlRTiBAHHy+jTv6HkBSI+sdBJcdQO7HgqimwBtAEKdrywrqGkD9rRxr2GwZQKdIo1ogJBhADGdVvrIPF0BYmWgT+uAVQEX48OA+QBVAkJtMqcflE0DBGrQV0ksTQGBRDgRvjRJAJ5qxcrizEUBjdV/tLbQQQPhC8ni8ORBAaC3WeLJ8DkCdJigmU1cNQBajZXkM/AtAp2TzEYObC0AKt95D0I0JQNMfRkznvghAmcsLQausB0BwBPBHJIQGQPd52uOWjQVAH+hNwQpQBUAraCR0NBIEQOdseHsnvgNA",
          "dtype": "f8"
         }
        },
        {
         "mode": "lines",
         "name": "0.4 μM",
         "type": "scatter",
         "x": {
          "bdata": "5b11uUa+gEB8r3YZrcaAQCmbfdnLzYBAxyBxOTLWgEBEKXY5hN6AQAv+eFm35YBAj5pwWQnugEAnjHG5b/aAQNN3eHmO/YBAa2l52fQFgUDlvXW5Rg6BQHyvdhmtFoFAKZt92csdgUDHIHE5MiaBQEQpdjmELoFAC/54Wbc1gUBraXnZ9D2BQMcgcTkyRoFAJ4xxuW9OgUB8r3YZrVaBQAv+eFm3XYFAa2l52fRlgUDHIHE5Mm6BQCeMcblvdoFAfK92Ga1+gUAL/nhZt4WBQI+acFkJjoFAJ4xxuW+WgUDTd3h5jp2BQGtpedn0pYFA5b11uUaugUB8r3YZrbaBQCmbfdnLvYFAxyBxOTLGgUBEKXY5hM6BQAv+eFm31YFAa2l52fTdgUDHIHE5MuaBQCeMcblv7oFAfK92Ga32gUAL/nhZt/2BQGtpedn0BYJAxyBxOTIOgkAnjHG5bxaCQHyvdhmtHoJAC/54WbclgkCPmnBZCS6CQCeMcblvNoJA03d4eY49gkBraXnZ9EWCQOW9dblGToJAfK92Ga1WgkApm33Zy12CQMcgcTkyZoJARCl2OYRugkAL/nhZt3WCQGtpedn0fYJAxyBxOTKGgkAnjHG5b46CQHyvdhmtloJAC/54WbedgkBraXnZ9KWCQMcgcTkyroJAJ4xxuW+2gkB8r3YZrb6CQAv+eFm3xYJAKZt92cvNgkBraXnZ9NWCQI+acFkJ3oJAxyBxOTLmgkDlvXW5Ru6CQCeMcblv9oJARCl2OYT+gkB8r3YZrQaDQPEUffmiDYNAC/54WbcVg0BraXnZ9B2DQMcgcTkyJoNAJ4xxuW8ug0B8r3YZrTaDQAv+eFm3PYNAa2l52fRFg0DHIHE5Mk6DQCeMcblvVoNAfK92Ga1eg0AL/nhZt2WDQGtpedn0bYNAxyBxOTJ2g0AnjHG5b36DQHyvdhmthoNAC/54WbeNg0BraXnZ9JWDQMcgcTkynoNAJ4xxuW+mg0B8r3YZra6DQAv+eFm3tYNAKZt92cu9g0BraXnZ9MWDQI+acFkJzoNAxyBxOTLWg0DlvXW5Rt6DQCeMcblv5oNARCl2OYTug0B8r3YZrfaDQPEUffmi/YNAC/54WbcFhEApm33Zyw2EQGtpedn0FYRAj5pwWQkehEDHIHE5MiaEQOW9dblGLoRAJ4xxuW82hEBEKXY5hD6EQHyvdhmtRoRA8RR9+aJNhEAL/nhZt1WEQCmbfdnLXYRA",
          "dtype": "f8"
         },
         "y": {
          "bdata": "VXL7KjFcSUAYhvFMEclLQNUkOPQLh01ASAqSN4X3T0CQsqDxHGdRQL3SoKzeTVJAHIkOxISUU0CVm1w51ctUQIAOAFuASVVAHEZq7M1PVkDCCBDuyftWQAD5n9tqv1dAhlD+N8MiWEDvds7BbKRYQEA18LyqplhAgA4lqin/WED///////9YQNsEaUWP91hA7lXfbFDjWED/3R6JPqhYQA0p/y8AP1hAQGWVXdPnV0BhUc+4dbxXQBgzSkF2/FZATnINx4B7VkBSrIFDfe9VQLx+QKlUIVVA/MT6sa2jVEAdTMt0ajtUQBEuDGgWWVNAh5MKqHbKUkCfCr64GQ5SQNu5LCbEfFFA0g4sLSvFUEA4gTP7fSFQQFE12nE2O09AUTDWKq2qTUCQySrwBYlMQHmOf5c7U0tAQcdsclI6SkDuiVPvZnNJQOB9QkovIkhAKx4afYF/R0AwOOV9mahGQAYqyH8nJkVAvDL04xaQRECXkFctg9ZDQBd93rztNkNAeTHJaSSCQkDkn+ypPItBQFpZRvbiFUFAHFsDU3edQEBoXMMYISZAQAiiIVgj7T5A11dCB3gsPkBWoHcqInY9QEncELcsQjxA2WDP6lBRO0B4sJm1hGA6QLUPVmhuVjlA2GP1LYuTOECua1iaNBE4QLWQl6BUVTdAoJ4l4ax1NkD3mTBCzOc1QC6E9+IYQzVA0FTNgVihNEDzg+KeEoszQLmdWn+T8DJAvHMhDXIrMkCXNvbP95oxQPIBWGU/+jBAdVCkc9imMEAVcHqMIFovQNLz64cieS5ATxAXla1xLUDB/aAXbjQsQFyYkOSoJStAWE3/8eYdKkASBo+1MP0oQNU0AJTEKChAbkZFYksoJ0BovEOANgomQHfTA2h/ACVAMvjJALJtJEAuTX4J/CojQCC5t851wSJANx2JA1G/IUC7QVsLAvUgQIhGq/uz7R9Aci6Ra9MmH0Ae+inQo/kdQFArLy0pVBxAPIoRZ5AOG0DfI4nKUi0ZQBgLx4ei5BhAicM08UrgF0BSQrDdEmwWQHVJ8F+ZURVAxYjFUUwzFEAt8OIjWMQSQI/1oQDPvBJAdN1JVpinEUDBxxsnjdcQQJ7mFnvmARBAJfZuflrUDkA2JPYxaT0OQJMUx3wnEQ1ACe4Ch89IC0ASrOboq20JQMRq1NNxEAlAAPxCQ+1TCEBQ3xdaQjUIQAVrfB5zyAVA1J4XnueVBUB1DNcYp34EQKWLlv6VjANA",
          "dtype": "f8"
         }
        },
        {
         "mode": "lines",
         "name": "0.2 μM",
         "type": "scatter",
         "x": {
          "bdata": "UP9dXnO/gEDn8F6+2ceAQJTcZX74zoBAMmJZ3l7XgECval7esN+AQHY/Yf7j5oBA+ttY/jXvgECSzVlenPeAQD65YB67/oBA1qphfiEHgUBQ/11ecw+BQOfwXr7ZF4FAlNxlfvgegUAyYlneXieBQK9qXt6wL4FAdj9h/uM2gUDWqmF+IT+BQDJiWd5eR4FAks1ZXpxPgUDn8F6+2VeBQHY/Yf7jXoFA1qphfiFngUAyYlneXm+BQJLNWV6cd4FA5/Bevtl/gUB2P2H+44aBQPrbWP41j4FAks1ZXpyXgUA+uWAeu56BQNaqYX4hp4FAUP9dXnOvgUDn8F6+2beBQJTcZX74voFAMmJZ3l7HgUCval7esM+BQHY/Yf7j1oFA1qphfiHfgUAyYlneXueBQJLNWV6c74FA5/Bevtn3gUB2P2H+4/6BQNaqYX4hB4JAMmJZ3l4PgkCSzVlenBeCQOfwXr7ZH4JAdj9h/uMmgkD621j+NS+CQJLNWV6cN4JAPrlgHrs+gkDWqmF+IUeCQFD/XV5zT4JA5/BevtlXgkCU3GV++F6CQDJiWd5eZ4JAr2pe3rBvgkB2P2H+43aCQNaqYX4hf4JAMmJZ3l6HgkCSzVlenI+CQOfwXr7Zl4JAdj9h/uOegkDWqmF+IaeCQDJiWd5er4JAks1ZXpy3gkDn8F6+2b+CQHY/Yf7jxoJAlNxlfvjOgkDWqmF+IdeCQPrbWP4134JAMmJZ3l7ngkBQ/11ec++CQJLNWV6c94JAr2pe3rD/gkDn8F6+2QeDQFxWZZ7PDoNAdj9h/uMWg0DWqmF+IR+DQDJiWd5eJ4NAks1ZXpwvg0Dn8F6+2TeDQHY/Yf7jPoNA1qphfiFHg0AyYlneXk+DQJLNWV6cV4NA5/Bevtlfg0B2P2H+42aDQNaqYX4hb4NAMmJZ3l53g0CSzVlenH+DQOfwXr7Zh4NAdj9h/uOOg0DWqmF+IZeDQDJiWd5en4NAks1ZXpyng0Dn8F6+2a+DQHY/Yf7jtoNAlNxlfvi+g0DWqmF+IceDQPrbWP41z4NAMmJZ3l7Xg0BQ/11ec9+DQJLNWV6c54NAr2pe3rDvg0Dn8F6+2feDQFxWZZ7P/oNAdj9h/uMGhECU3GV++A6EQNaqYX4hF4RA+ttY/jUfhEAyYlneXieEQFD/XV5zL4RAks1ZXpw3hECval7esD+EQOfwXr7ZR4RAXFZlns9OhEB2P2H+41aEQJTcZX74XoRA",
          "dtype": "f8"
         },
         "y": {
          "bdata": "00MhrV9bSUAKVPRH69tLQJ9xJAI0vU1AlqK61NYvUEAlO+9X32RRQMFWcWQTVVJAhYziaKeqU0DyidT00JxUQLmMDHh9glVAtoygt+1KVkBIGZa9aaRWQEMcoVzU8VdAzf9JAEU+WEAvbVjL+JJYQIX2tS619VhAW5MPLGzuWEA33iIEttNYQAAAAAAAAFlAQSosWozTWEBvZ9OD9YhYQOSsVlxaPVhAz7GivcEBWEB4Dmuuc25XQCjqj36U5FZAuiDFvjtoVkD+aUHFNNhVQChPElvwX1VAqiM0O8CGVECowBjUq/FTQGcoILx9FFNAHweKr2yLUkAJAZE9behRQMG9ENJZQlFA7Ni1HOiIUEBuUGmPGMhPQKj4oWvyHU9Ar/bKM6rbTUDW4/oRb6RMQDGQNfiqqEtANUifRpFtSkAV+knb8A1JQMTXU4saIEhA9/S9lFCNR0Ck8nG/9k5GQAYMnSiSb0VAnMU4eAyoREDTLYIfApJDQMpuwQ117kJAbyMCPZyAQkDMuumjGeVBQHRUSLxkF0FAuWO7qX1eQEAgI3t6T1FAQPWhdElCQT9ABf9tLKkuPkB91rDVq289QJSrle7GEzxAOlYeLZoBPECjYUAi5MI6QEGw+/n05jlAmQcFV9IyOUCsSZ5Itks4QLKJXlQMbjdAMuFBOTjeNkC6MKM6MvE1QMiuH3gsIDVACydJ/2iDNECpbPwaIPAzQOrmtvkg6TJATwf5omeMMkC6toE1ee8xQI5I+FMZiDFA90EeTa9kMEBK+bqQ0pEvQLiJFW3CTi5AcoYTkZeWLUDsy1dMirgsQLlvlC+VPCtAP6vaxUolKkDVeaLIwP0oQJ9OrWsFIyhAy63J9YL1JkDvH12xeXwmQDjLi1c+1yRAvV7Z3e7EJEAzSE+ZGb8jQBKcZfM3WyJADLx2qRWsIUCNMC9VPxAhQGfZz8tcrB9AZEny0wFJHkCTd+LAdyMeQNEv+gjPvR1ALkCVrYQuG0Cu7l9Bu5YaQAz8N1pJ9BdAPf174qhwF0C0t82WyS8WQGS3Zvj56hVABgWeymSSFECFd3UpxZEUQGpnxWtPcBNAHL/Blf7mEkBOJLAJdjYRQGLw5wan/RBAIg5fZ9IREUAAdugMuI4NQA9P4+900wxATSfWSktNDECv3sdR49ENQC0ubf/tMQxAIRmBDkJKB0Cj4K+mL/wGQI1P/dqeTwdAJj/+YNeOBkBuVzM3UnoFQIZo5FRzkARA",
          "dtype": "f8"
         }
        },
        {
         "mode": "lines",
         "name": "0.1 μM",
         "type": "scatter",
         "x": {
          "bdata": "3fXNHHe+gEB058583caAQCHT1Tz8zYBAv1jJnGLWgEA8Yc6ctN6AQAM20bzn5YBAh9LIvDnugEAfxMkcoPaAQMuv0Ny+/YBAY6HRPCUGgUDd9c0cdw6BQHTnznzdFoFAIdPVPPwdgUC/WMmcYiaBQDxhzpy0LoFAAzbRvOc1gUBjodE8JT6BQL9YyZxiRoFAH8TJHKBOgUB058583VaBQAM20bznXYFAY6HRPCVmgUC/WMmcYm6BQB/EyRygdoFAdOfOfN1+gUADNtG854WBQIfSyLw5joFAH8TJHKCWgUDLr9Dcvp2BQGOh0TwlpoFA3fXNHHeugUB058583baBQCHT1Tz8vYFAv1jJnGLGgUA8Yc6ctM6BQAM20bzn1YFAY6HRPCXegUC/WMmcYuaBQB/EyRyg7oFAdOfOfN32gUADNtG85/2BQGOh0TwlBoJAv1jJnGIOgkAfxMkcoBaCQHTnznzdHoJAAzbRvOclgkCH0si8OS6CQB/EyRygNoJAy6/Q3L49gkBjodE8JUaCQN31zRx3ToJAdOfOfN1WgkAh09U8/F2CQL9YyZxiZoJAPGHOnLRugkADNtG853WCQGOh0TwlfoJAv1jJnGKGgkAfxMkcoI6CQHTnznzdloJAAzbRvOedgkBjodE8JaaCQL9YyZxiroJAH8TJHKC2gkB058583b6CQAM20bznxYJAIdPVPPzNgkBjodE8JdaCQIfSyLw53oJAv1jJnGLmgkDd9c0cd+6CQB/EyRyg9oJAPGHOnLT+gkB058583QaDQOlM1VzTDYNAAzbRvOcVg0BjodE8JR6DQL9YyZxiJoNAH8TJHKAug0B058583TaDQAM20bznPYNAY6HRPCVGg0C/WMmcYk6DQB/EyRygVoNAdOfOfN1eg0ADNtG852WDQGOh0TwlboNAv1jJnGJ2g0AfxMkcoH6DQHTnznzdhoNAAzbRvOeNg0BjodE8JZaDQL9YyZxinoNAH8TJHKCmg0B058583a6DQAM20bzntYNAIdPVPPy9g0BjodE8JcaDQIfSyLw5zoNAv1jJnGLWg0Dd9c0cd96DQB/EyRyg5oNAPGHOnLTug0B058583faDQOlM1VzT/YNAAzbRvOcFhEAh09U8/A2EQGOh0TwlFoRAh9LIvDkehEC/WMmcYiaEQN31zRx3LoRAH8TJHKA2hEA8Yc6ctD6EQHTnznzdRoRA6UzVXNNNhEADNtG851WEQCHT1Tz8XYRA",
          "dtype": "f8"
         },
         "y": {
          "bdata": "vFieWnjNSUAMkw8GM+FLQC+gNcgCAU5AszWddTlDUEBWcugN16xRQMpsZH4uclJAvD5EtaJwU0BUC0zf95BUQO46QDdJU1VAPjG4bj0sVkAMTZ75/+BWQEcWJfdxQldAIKBj8bL7V0BHzv1EQKRYQNTXV5WayFhAftrp/Zi8WEAAAAAAAABZQP0xxDKzwFhAXSLRGOV4WECF0vtNz1JYQBajHcJpVVhA/hnVbbaIV0An1hjpfUJXQPhDAxa1slZA1/Cpp887VkB3XkM/xbBVQFy47K6L91RAe8XFxbOBVED8BogeVcxTQFkGYgM16VJAfVZYsRd0UkCvQHDZ6JpRQFL8y60RN1FAue3SN88tUEBbnobgR3tPQCcJogLWL05AR8kMLetbTUDzWSweIZ9MQNnEqP9X60pAsRRgNFnYSUC0q82HKdRIQDVSQ1Vkd0dAKIl2vRkJR0ARR1JOmuRFQFoSyeLhlERASve0gmJuREBdInlNuSRDQBj8ARaWy0JAGNIESdHZQUDInjP9t5ZBQKjJ3Mcy+UBApKtandVIQEBOr41xLts/QAXnYSntoj5AsGklvN2iPUCqFaVsn0Q9QF+LYM9KFTxARolLYbX2OkCx/RzqqvI5QB8jTPaR+TlAC9s+j5NlOEAmPnDuxbc3QMAPAjBjkDdAP3vXD5ZJNkA4RphyX3M1QDSBh9G1zjRAjhNCKFh6NEBb1lm6uKAzQIAknrDAGzNA3FcDsO5aMkBuxsvR1MMxQOqKr+bW4DBAnYeDbTWJMEBug64pilgwQJexFC02Wy9An0kWrpGgLUBzK4kZyI8rQMZshUfvEipAi+zwJozWKUCf1Ux9xvsoQPZspXGJ5SdAiawfqN/OJkBBD2RPMjsmQDajt1NWrCVA8uEID/93JEAYMk+KpcUjQF8Pip0pByNAx1pNIaKrIUBGHEzr8jchQM5D08gRQiBAlnzTxD9fH0AjX3CF50UcQN64xbcUEB1AuMeOmXhfHECreAtJAssZQFGZArqsWBlAJZXd1I+WGEC6xXhRHycWQIrQvw3enBVA7vmL3OCEFEBPXDff3/YTQJDr6/LpZRNA4EEtDA6sEUBrMvG7hoYTQFnUrZSIgRFAOxUTrn5cEECnPPyFUZEPQFKl/675nA5AxQMsoLMZEUA3f+ig+3MMQDPGjUTWGwlAPCjFQ72dB0CVO2szzqwIQCNNizjRlQpAZoaNtj53B0DlVtOAL8EJQBLr5oZXAgVA",
          "dtype": "f8"
         }
        }
       ],
       "layout": {
        "font": {
         "size": 14
        },
        "height": 600,
        "legend": {
         "x": 0.8,
         "y": 1
        },
        "template": {
         "data": {
          "bar": [
           {
            "error_x": {
             "color": "#2a3f5f"
            },
            "error_y": {
             "color": "#2a3f5f"
            },
            "marker": {
             "line": {
              "color": "#E5ECF6",
              "width": 0.5
             },
             "pattern": {
              "fillmode": "overlay",
              "size": 10,
              "solidity": 0.2
             }
            },
            "type": "bar"
           }
          ],
          "barpolar": [
           {
            "marker": {
             "line": {
              "color": "#E5ECF6",
              "width": 0.5
             },
             "pattern": {
              "fillmode": "overlay",
              "size": 10,
              "solidity": 0.2
             }
            },
            "type": "barpolar"
           }
          ],
          "carpet": [
           {
            "aaxis": {
             "endlinecolor": "#2a3f5f",
             "gridcolor": "white",
             "linecolor": "white",
             "minorgridcolor": "white",
             "startlinecolor": "#2a3f5f"
            },
            "baxis": {
             "endlinecolor": "#2a3f5f",
             "gridcolor": "white",
             "linecolor": "white",
             "minorgridcolor": "white",
             "startlinecolor": "#2a3f5f"
            },
            "type": "carpet"
           }
          ],
          "choropleth": [
           {
            "colorbar": {
             "outlinewidth": 0,
             "ticks": ""
            },
            "type": "choropleth"
           }
          ],
          "contour": [
           {
            "colorbar": {
             "outlinewidth": 0,
             "ticks": ""
            },
            "colorscale": [
             [
              0,
              "#0d0887"
             ],
             [
              0.1111111111111111,
              "#46039f"
             ],
             [
              0.2222222222222222,
              "#7201a8"
             ],
             [
              0.3333333333333333,
              "#9c179e"
             ],
             [
              0.4444444444444444,
              "#bd3786"
             ],
             [
              0.5555555555555556,
              "#d8576b"
             ],
             [
              0.6666666666666666,
              "#ed7953"
             ],
             [
              0.7777777777777778,
              "#fb9f3a"
             ],
             [
              0.8888888888888888,
              "#fdca26"
             ],
             [
              1,
              "#f0f921"
             ]
            ],
            "type": "contour"
           }
          ],
          "contourcarpet": [
           {
            "colorbar": {
             "outlinewidth": 0,
             "ticks": ""
            },
            "type": "contourcarpet"
           }
          ],
          "heatmap": [
           {
            "colorbar": {
             "outlinewidth": 0,
             "ticks": ""
            },
            "colorscale": [
             [
              0,
              "#0d0887"
             ],
             [
              0.1111111111111111,
              "#46039f"
             ],
             [
              0.2222222222222222,
              "#7201a8"
             ],
             [
              0.3333333333333333,
              "#9c179e"
             ],
             [
              0.4444444444444444,
              "#bd3786"
             ],
             [
              0.5555555555555556,
              "#d8576b"
             ],
             [
              0.6666666666666666,
              "#ed7953"
             ],
             [
              0.7777777777777778,
              "#fb9f3a"
             ],
             [
              0.8888888888888888,
              "#fdca26"
             ],
             [
              1,
              "#f0f921"
             ]
            ],
            "type": "heatmap"
           }
          ],
          "histogram": [
           {
            "marker": {
             "pattern": {
              "fillmode": "overlay",
              "size": 10,
              "solidity": 0.2
             }
            },
            "type": "histogram"
           }
          ],
          "histogram2d": [
           {
            "colorbar": {
             "outlinewidth": 0,
             "ticks": ""
            },
            "colorscale": [
             [
              0,
              "#0d0887"
             ],
             [
              0.1111111111111111,
              "#46039f"
             ],
             [
              0.2222222222222222,
              "#7201a8"
             ],
             [
              0.3333333333333333,
              "#9c179e"
             ],
             [
              0.4444444444444444,
              "#bd3786"
             ],
             [
              0.5555555555555556,
              "#d8576b"
             ],
             [
              0.6666666666666666,
              "#ed7953"
             ],
             [
              0.7777777777777778,
              "#fb9f3a"
             ],
             [
              0.8888888888888888,
              "#fdca26"
             ],
             [
              1,
              "#f0f921"
             ]
            ],
            "type": "histogram2d"
           }
          ],
          "histogram2dcontour": [
           {
            "colorbar": {
             "outlinewidth": 0,
             "ticks": ""
            },
            "colorscale": [
             [
              0,
              "#0d0887"
             ],
             [
              0.1111111111111111,
              "#46039f"
             ],
             [
              0.2222222222222222,
              "#7201a8"
             ],
             [
              0.3333333333333333,
              "#9c179e"
             ],
             [
              0.4444444444444444,
              "#bd3786"
             ],
             [
              0.5555555555555556,
              "#d8576b"
             ],
             [
              0.6666666666666666,
              "#ed7953"
             ],
             [
              0.7777777777777778,
              "#fb9f3a"
             ],
             [
              0.8888888888888888,
              "#fdca26"
             ],
             [
              1,
              "#f0f921"
             ]
            ],
            "type": "histogram2dcontour"
           }
          ],
          "mesh3d": [
           {
            "colorbar": {
             "outlinewidth": 0,
             "ticks": ""
            },
            "type": "mesh3d"
           }
          ],
          "parcoords": [
           {
            "line": {
             "colorbar": {
              "outlinewidth": 0,
              "ticks": ""
             }
            },
            "type": "parcoords"
           }
          ],
          "pie": [
           {
            "automargin": true,
            "type": "pie"
           }
          ],
          "scatter": [
           {
            "fillpattern": {
             "fillmode": "overlay",
             "size": 10,
             "solidity": 0.2
            },
            "type": "scatter"
           }
          ],
          "scatter3d": [
           {
            "line": {
             "colorbar": {
              "outlinewidth": 0,
              "ticks": ""
             }
            },
            "marker": {
             "colorbar": {
              "outlinewidth": 0,
              "ticks": ""
             }
            },
            "type": "scatter3d"
           }
          ],
          "scattercarpet": [
           {
            "marker": {
             "colorbar": {
              "outlinewidth": 0,
              "ticks": ""
             }
            },
            "type": "scattercarpet"
           }
          ],
          "scattergeo": [
           {
            "marker": {
             "colorbar": {
              "outlinewidth": 0,
              "ticks": ""
             }
            },
            "type": "scattergeo"
           }
          ],
          "scattergl": [
           {
            "marker": {
             "colorbar": {
              "outlinewidth": 0,
              "ticks": ""
             }
            },
            "type": "scattergl"
           }
          ],
          "scattermap": [
           {
            "marker": {
             "colorbar": {
              "outlinewidth": 0,
              "ticks": ""
             }
            },
            "type": "scattermap"
           }
          ],
          "scattermapbox": [
           {
            "marker": {
             "colorbar": {
              "outlinewidth": 0,
              "ticks": ""
             }
            },
            "type": "scattermapbox"
           }
          ],
          "scatterpolar": [
           {
            "marker": {
             "colorbar": {
              "outlinewidth": 0,
              "ticks": ""
             }
            },
            "type": "scatterpolar"
           }
          ],
          "scatterpolargl": [
           {
            "marker": {
             "colorbar": {
              "outlinewidth": 0,
              "ticks": ""
             }
            },
            "type": "scatterpolargl"
           }
          ],
          "scatterternary": [
           {
            "marker": {
             "colorbar": {
              "outlinewidth": 0,
              "ticks": ""
             }
            },
            "type": "scatterternary"
           }
          ],
          "surface": [
           {
            "colorbar": {
             "outlinewidth": 0,
             "ticks": ""
            },
            "colorscale": [
             [
              0,
              "#0d0887"
             ],
             [
              0.1111111111111111,
              "#46039f"
             ],
             [
              0.2222222222222222,
              "#7201a8"
             ],
             [
              0.3333333333333333,
              "#9c179e"
             ],
             [
              0.4444444444444444,
              "#bd3786"
             ],
             [
              0.5555555555555556,
              "#d8576b"
             ],
             [
              0.6666666666666666,
              "#ed7953"
             ],
             [
              0.7777777777777778,
              "#fb9f3a"
             ],
             [
              0.8888888888888888,
              "#fdca26"
             ],
             [
              1,
              "#f0f921"
             ]
            ],
            "type": "surface"
           }
          ],
          "table": [
           {
            "cells": {
             "fill": {
              "color": "#EBF0F8"
             },
             "line": {
              "color": "white"
             }
            },
            "header": {
             "fill": {
              "color": "#C8D4E3"
             },
             "line": {
              "color": "white"
             }
            },
            "type": "table"
           }
          ]
         },
         "layout": {
          "annotationdefaults": {
           "arrowcolor": "#2a3f5f",
           "arrowhead": 0,
           "arrowwidth": 1
          },
          "autotypenumbers": "strict",
          "coloraxis": {
           "colorbar": {
            "outlinewidth": 0,
            "ticks": ""
           }
          },
          "colorscale": {
           "diverging": [
            [
             0,
             "#8e0152"
            ],
            [
             0.1,
             "#c51b7d"
            ],
            [
             0.2,
             "#de77ae"
            ],
            [
             0.3,
             "#f1b6da"
            ],
            [
             0.4,
             "#fde0ef"
            ],
            [
             0.5,
             "#f7f7f7"
            ],
            [
             0.6,
             "#e6f5d0"
            ],
            [
             0.7,
             "#b8e186"
            ],
            [
             0.8,
             "#7fbc41"
            ],
            [
             0.9,
             "#4d9221"
            ],
            [
             1,
             "#276419"
            ]
           ],
           "sequential": [
            [
             0,
             "#0d0887"
            ],
            [
             0.1111111111111111,
             "#46039f"
            ],
            [
             0.2222222222222222,
             "#7201a8"
            ],
            [
             0.3333333333333333,
             "#9c179e"
            ],
            [
             0.4444444444444444,
             "#bd3786"
            ],
            [
             0.5555555555555556,
             "#d8576b"
            ],
            [
             0.6666666666666666,
             "#ed7953"
            ],
            [
             0.7777777777777778,
             "#fb9f3a"
            ],
            [
             0.8888888888888888,
             "#fdca26"
            ],
            [
             1,
             "#f0f921"
            ]
           ],
           "sequentialminus": [
            [
             0,
             "#0d0887"
            ],
            [
             0.1111111111111111,
             "#46039f"
            ],
            [
             0.2222222222222222,
             "#7201a8"
            ],
            [
             0.3333333333333333,
             "#9c179e"
            ],
            [
             0.4444444444444444,
             "#bd3786"
            ],
            [
             0.5555555555555556,
             "#d8576b"
            ],
            [
             0.6666666666666666,
             "#ed7953"
            ],
            [
             0.7777777777777778,
             "#fb9f3a"
            ],
            [
             0.8888888888888888,
             "#fdca26"
            ],
            [
             1,
             "#f0f921"
            ]
           ]
          },
          "colorway": [
           "#636efa",
           "#EF553B",
           "#00cc96",
           "#ab63fa",
           "#FFA15A",
           "#19d3f3",
           "#FF6692",
           "#B6E880",
           "#FF97FF",
           "#FECB52"
          ],
          "font": {
           "color": "#2a3f5f"
          },
          "geo": {
           "bgcolor": "white",
           "lakecolor": "white",
           "landcolor": "#E5ECF6",
           "showlakes": true,
           "showland": true,
           "subunitcolor": "white"
          },
          "hoverlabel": {
           "align": "left"
          },
          "hovermode": "closest",
          "mapbox": {
           "style": "light"
          },
          "paper_bgcolor": "white",
          "plot_bgcolor": "#E5ECF6",
          "polar": {
           "angularaxis": {
            "gridcolor": "white",
            "linecolor": "white",
            "ticks": ""
           },
           "bgcolor": "#E5ECF6",
           "radialaxis": {
            "gridcolor": "white",
            "linecolor": "white",
            "ticks": ""
           }
          },
          "scene": {
           "xaxis": {
            "backgroundcolor": "#E5ECF6",
            "gridcolor": "white",
            "gridwidth": 2,
            "linecolor": "white",
            "showbackground": true,
            "ticks": "",
            "zerolinecolor": "white"
           },
           "yaxis": {
            "backgroundcolor": "#E5ECF6",
            "gridcolor": "white",
            "gridwidth": 2,
            "linecolor": "white",
            "showbackground": true,
            "ticks": "",
            "zerolinecolor": "white"
           },
           "zaxis": {
            "backgroundcolor": "#E5ECF6",
            "gridcolor": "white",
            "gridwidth": 2,
            "linecolor": "white",
            "showbackground": true,
            "ticks": "",
            "zerolinecolor": "white"
           }
          },
          "shapedefaults": {
           "line": {
            "color": "#2a3f5f"
           }
          },
          "ternary": {
           "aaxis": {
            "gridcolor": "white",
            "linecolor": "white",
            "ticks": ""
           },
           "baxis": {
            "gridcolor": "white",
            "linecolor": "white",
            "ticks": ""
           },
           "bgcolor": "#E5ECF6",
           "caxis": {
            "gridcolor": "white",
            "linecolor": "white",
            "ticks": ""
           }
          },
          "title": {
           "x": 0.05
          },
          "xaxis": {
           "automargin": true,
           "gridcolor": "white",
           "linecolor": "white",
           "ticks": "",
           "title": {
            "standoff": 15
           },
           "zerolinecolor": "white",
           "zerolinewidth": 2
          },
          "yaxis": {
           "automargin": true,
           "gridcolor": "white",
           "linecolor": "white",
           "ticks": "",
           "title": {
            "standoff": 15
           },
           "zerolinecolor": "white",
           "zerolinewidth": 2
          }
         }
        },
        "width": 800,
        "xaxis": {
         "title": {
          "text": "Wavelength (nm)"
         }
        },
        "yaxis": {
         "range": [
          0,
          100
         ],
         "title": {
          "text": "Intensity (%)"
         }
        }
       }
      }
     },
     "metadata": {},
     "output_type": "display_data"
    },
    {
     "data": {
      "text/plain": [
       "<Figure size 1000x600 with 0 Axes>"
      ]
     },
     "metadata": {},
     "output_type": "display_data"
    }
   ],
   "source": [
    "# plotting normalized spectrum (kind of, in the sense that we are not normalizing the area under the curve, but the maximum value of the spectrum)\n",
    "\n",
    "delta = np.array(λcenter_list) - np.mean(λcenter_list)  # Calculate the average value of λcenter\n",
    "\n",
    "plt.figure(figsize=(10, 6))\n",
    "# for λ_col, I_col,d in zip(WAVELENGHTS, INTENSITIES, delta):\n",
    "#     area_under_curve = np.trapezoid(data[I_col], data[λ_col])  # Calculate the area under the curve\n",
    "#     centered_wavelengths = data[λ_col] - d  # Center the wavelengths around the average λcenter\n",
    "#     plt.plot(centered_wavelengths, data[I_col] / area_under_curve, label=f'{I_col} (normalized)')\n",
    "    \n",
    "# plt.xlabel('Wavelength (nm) - Centered')\n",
    "# plt.ylabel('Normalized Intensity')\n",
    "# plt.title('Normalized Spectrum I(λ) Centered Around Average λcenter')\n",
    "# plt.legend()\n",
    "# plt.grid()\n",
    "# plt.show()\n",
    "\n",
    "fig = go.Figure()\n",
    "\n",
    "for λ_col, I_col, c, d in zip(WAVELENGHTS, INTENSITIES,C,delta):\n",
    "    max = data[I_col].max()\n",
    "    centered_wavelengths = data[λ_col] - d  # Center the wavelengths around the average λcenter\n",
    "    fig.add_trace(go.Scatter(x=centered_wavelengths,y= data[I_col]*100/ max,\n",
    "                    mode='lines',\n",
    "                    name=f'{c} μM'))\n",
    "\n",
    "fig.update_layout(\n",
    "                  xaxis_title='Wavelength (nm)',\n",
    "                  yaxis_title='Intensity (%)',\n",
    "                  height=600,\n",
    "                  width=800,\n",
    "                  yaxis=dict(range=[0, 100]),\n",
    "                  legend=dict(x=0.8, y=1),\n",
    "                  font=dict(size=14))\n",
    "\n",
    "\n",
    "fig.show()"
   ]
  },
  {
   "cell_type": "code",
   "execution_count": 25,
   "metadata": {},
   "outputs": [],
   "source": [
    "# fit with the exponential 1-exp(-k*C)\n",
    "\n",
    "def F_C_fit(C,F0,k,y0):\n",
    "    return F0*(1-np.exp(-k*C)) + y0"
   ]
  },
  {
   "cell_type": "code",
   "execution_count": 26,
   "metadata": {},
   "outputs": [
    {
     "data": {
      "image/png": "[encoded data removed]",
      "text/plain": [
       "<Figure size 640x480 with 1 Axes>"
      ]
     },
     "metadata": {},
     "output_type": "display_data"
    }
   ],
   "source": [
    "start = 0\n",
    "I = np.array(IMAX_list)[start:]\n",
    "sigmaI = np.array(error_IMAX_list)[start:]\n",
    "C = np.array(CONCENTRATIONS)[start:]\n",
    "\n",
    "# Fit the data to the model\n",
    "popt, pcov = curve_fit(F_C_fit, C, I, p0=[1899,0.14,-1.0])\n",
    "F0, k, y0 = popt\n",
    "error_F0, error_k, error_y0 = np.sqrt(np.diag(pcov))\n",
    "\n",
    "plt.plot(C,I,'o',label='data')\n",
    "plt.errorbar(C,I,yerr=sigmaI,fmt='o')\n",
    "\n",
    "c = np.linspace(np.min(C),np.max(C),1000)\n",
    "plt.plot(c,F_C_fit(c,*popt),label='fit')\n",
    "# plt.xscale('log')\n",
    "# plt.yscale('log')\n",
    "plt.xlabel('Concentration (μM)')\n",
    "plt.ylabel('Intensity Fluorescence (a.u.)')\n",
    "plt.title('Intensity Fluorescence vs Concentration')\n",
    "plt.show()"
   ]
  },
  {
   "cell_type": "code",
   "execution_count": null,
   "metadata": {},
   "outputs": [],
   "source": []
  }
 ],
 "metadata": {
  "kernelspec": {
   "display_name": "Python 3",
   "language": "python",
   "name": "python3"
  },
  "language_info": {
   "codemirror_mode": {
    "name": "ipython",
    "version": 3
   },
   "file_extension": ".py",
   "mimetype": "text/x-python",
   "name": "python",
   "nbconvert_exporter": "python",
   "pygments_lexer": "ipython3",
   "version": "3.13.0"
  }
 },
 "nbformat": 4,
 "nbformat_minor": 2
}
