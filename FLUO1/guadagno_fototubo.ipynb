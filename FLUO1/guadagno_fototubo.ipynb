{
 "cells": [
  {
   "cell_type": "markdown",
   "id": "48c3ec84",
   "metadata": {},
   "source": [
    "Viene variato il guadagno del fototubo dello spettrofluorimetro mantenendo lo stesso campione"
   ]
  },
  {
   "cell_type": "code",
   "execution_count": 4,
   "id": "0b9c7cf0",
   "metadata": {},
   "outputs": [],
   "source": [
    "from matplotlib import pyplot as plt\n",
    "import numpy as np\n",
    "import pandas as pd\n",
    "import plotly.express as px\n",
    "import os\n",
    "import sys\n",
    "import plotly.graph_objects as go \n",
    "dir_path = os.path.abspath('')\n",
    "sys.path.append(dir_path + '/../')\n",
    "from labbiofisica import Interpolazione, final_val\n",
    "from scipy.optimize import curve_fit"
   ]
  },
  {
   "cell_type": "code",
   "execution_count": 23,
   "id": "2874b10b",
   "metadata": {},
   "outputs": [
    {
     "data": {
      "text/html": [
       "<div>\n",
       "<style scoped>\n",
       "    .dataframe tbody tr th:only-of-type {\n",
       "        vertical-align: middle;\n",
       "    }\n",
       "\n",
       "    .dataframe tbody tr th {\n",
       "        vertical-align: top;\n",
       "    }\n",
       "\n",
       "    .dataframe thead th {\n",
       "        text-align: right;\n",
       "    }\n",
       "</style>\n",
       "<table border=\"1\" class=\"dataframe\">\n",
       "  <thead>\n",
       "    <tr style=\"text-align: right;\">\n",
       "      <th></th>\n",
       "      <th>λ500</th>\n",
       "      <th>I500</th>\n",
       "      <th>λ550</th>\n",
       "      <th>I550</th>\n",
       "      <th>λ600</th>\n",
       "      <th>I600</th>\n",
       "      <th>λ650</th>\n",
       "      <th>I650</th>\n",
       "      <th>λ700</th>\n",
       "      <th>I700</th>\n",
       "      <th>λ750</th>\n",
       "      <th>I750</th>\n",
       "      <th>λ800</th>\n",
       "      <th>I800</th>\n",
       "      <th>λ775</th>\n",
       "      <th>I775</th>\n",
       "      <th>λ725</th>\n",
       "      <th>I725</th>\n",
       "      <th>λ790</th>\n",
       "      <th>I790</th>\n",
       "    </tr>\n",
       "  </thead>\n",
       "  <tbody>\n",
       "    <tr>\n",
       "      <th>112</th>\n",
       "      <td>646.950012</td>\n",
       "      <td>0.365092</td>\n",
       "      <td>646.950012</td>\n",
       "      <td>0.882395</td>\n",
       "      <td>646.950012</td>\n",
       "      <td>1.841157</td>\n",
       "      <td>646.950012</td>\n",
       "      <td>4.000661</td>\n",
       "      <td>646.950012</td>\n",
       "      <td>7.832069</td>\n",
       "      <td>646.950012</td>\n",
       "      <td>14.021564</td>\n",
       "      <td>646.950012</td>\n",
       "      <td>25.994720</td>\n",
       "      <td>646.950012</td>\n",
       "      <td>19.587435</td>\n",
       "      <td>646.950012</td>\n",
       "      <td>10.366351</td>\n",
       "      <td>646.950012</td>\n",
       "      <td>22.100004</td>\n",
       "    </tr>\n",
       "    <tr>\n",
       "      <th>113</th>\n",
       "      <td>647.969971</td>\n",
       "      <td>0.332417</td>\n",
       "      <td>647.969971</td>\n",
       "      <td>0.763065</td>\n",
       "      <td>647.969971</td>\n",
       "      <td>1.825262</td>\n",
       "      <td>647.969971</td>\n",
       "      <td>3.821141</td>\n",
       "      <td>647.969971</td>\n",
       "      <td>7.453328</td>\n",
       "      <td>647.969971</td>\n",
       "      <td>14.250634</td>\n",
       "      <td>647.969971</td>\n",
       "      <td>25.309944</td>\n",
       "      <td>647.969971</td>\n",
       "      <td>18.577137</td>\n",
       "      <td>647.969971</td>\n",
       "      <td>9.777984</td>\n",
       "      <td>647.969971</td>\n",
       "      <td>21.104113</td>\n",
       "    </tr>\n",
       "    <tr>\n",
       "      <th>114</th>\n",
       "      <td>648.840027</td>\n",
       "      <td>0.349335</td>\n",
       "      <td>648.840027</td>\n",
       "      <td>0.806869</td>\n",
       "      <td>648.840027</td>\n",
       "      <td>1.836737</td>\n",
       "      <td>648.840027</td>\n",
       "      <td>3.373553</td>\n",
       "      <td>648.840027</td>\n",
       "      <td>7.463130</td>\n",
       "      <td>648.840027</td>\n",
       "      <td>14.054100</td>\n",
       "      <td>648.840027</td>\n",
       "      <td>23.113602</td>\n",
       "      <td>648.840027</td>\n",
       "      <td>18.798872</td>\n",
       "      <td>648.840027</td>\n",
       "      <td>9.605007</td>\n",
       "      <td>648.840027</td>\n",
       "      <td>20.834089</td>\n",
       "    </tr>\n",
       "    <tr>\n",
       "      <th>115</th>\n",
       "      <td>649.849976</td>\n",
       "      <td>0.319576</td>\n",
       "      <td>649.849976</td>\n",
       "      <td>0.752655</td>\n",
       "      <td>649.849976</td>\n",
       "      <td>1.728781</td>\n",
       "      <td>649.849976</td>\n",
       "      <td>3.495102</td>\n",
       "      <td>649.849976</td>\n",
       "      <td>6.829227</td>\n",
       "      <td>649.849976</td>\n",
       "      <td>12.510178</td>\n",
       "      <td>649.849976</td>\n",
       "      <td>23.410215</td>\n",
       "      <td>649.849976</td>\n",
       "      <td>17.567253</td>\n",
       "      <td>649.849976</td>\n",
       "      <td>9.091236</td>\n",
       "      <td>649.849976</td>\n",
       "      <td>19.207785</td>\n",
       "    </tr>\n",
       "    <tr>\n",
       "      <th>116</th>\n",
       "      <td>650.859985</td>\n",
       "      <td>0.319534</td>\n",
       "      <td>650.859985</td>\n",
       "      <td>0.648037</td>\n",
       "      <td>650.859985</td>\n",
       "      <td>1.622521</td>\n",
       "      <td>650.859985</td>\n",
       "      <td>3.291862</td>\n",
       "      <td>650.859985</td>\n",
       "      <td>6.479994</td>\n",
       "      <td>650.859985</td>\n",
       "      <td>12.611630</td>\n",
       "      <td>650.859985</td>\n",
       "      <td>22.689318</td>\n",
       "      <td>650.859985</td>\n",
       "      <td>15.913680</td>\n",
       "      <td>650.859985</td>\n",
       "      <td>8.945634</td>\n",
       "      <td>650.859985</td>\n",
       "      <td>19.141430</td>\n",
       "    </tr>\n",
       "  </tbody>\n",
       "</table>\n",
       "</div>"
      ],
      "text/plain": [
       "           λ500      I500        λ550      I550        λ600      I600  \\\n",
       "112  646.950012  0.365092  646.950012  0.882395  646.950012  1.841157   \n",
       "113  647.969971  0.332417  647.969971  0.763065  647.969971  1.825262   \n",
       "114  648.840027  0.349335  648.840027  0.806869  648.840027  1.836737   \n",
       "115  649.849976  0.319576  649.849976  0.752655  649.849976  1.728781   \n",
       "116  650.859985  0.319534  650.859985  0.648037  650.859985  1.622521   \n",
       "\n",
       "           λ650      I650        λ700      I700        λ750       I750  \\\n",
       "112  646.950012  4.000661  646.950012  7.832069  646.950012  14.021564   \n",
       "113  647.969971  3.821141  647.969971  7.453328  647.969971  14.250634   \n",
       "114  648.840027  3.373553  648.840027  7.463130  648.840027  14.054100   \n",
       "115  649.849976  3.495102  649.849976  6.829227  649.849976  12.510178   \n",
       "116  650.859985  3.291862  650.859985  6.479994  650.859985  12.611630   \n",
       "\n",
       "           λ800       I800        λ775       I775        λ725       I725  \\\n",
       "112  646.950012  25.994720  646.950012  19.587435  646.950012  10.366351   \n",
       "113  647.969971  25.309944  647.969971  18.577137  647.969971   9.777984   \n",
       "114  648.840027  23.113602  648.840027  18.798872  648.840027   9.605007   \n",
       "115  649.849976  23.410215  649.849976  17.567253  649.849976   9.091236   \n",
       "116  650.859985  22.689318  650.859985  15.913680  650.859985   8.945634   \n",
       "\n",
       "           λ790       I790  \n",
       "112  646.950012  22.100004  \n",
       "113  647.969971  21.104113  \n",
       "114  648.840027  20.834089  \n",
       "115  649.849976  19.207785  \n",
       "116  650.859985  19.141430  "
      ]
     },
     "execution_count": 23,
     "metadata": {},
     "output_type": "execute_result"
    }
   ],
   "source": [
    "voltaggi = np.array([500,550,600,650,700,750,800,775,725,790])\n",
    "data = pd.read_csv('./data/voltaggio_fototubo_rod001.csv', sep=',',header=1,nrows=117)\n",
    "data = data.iloc[:, :-1]\n",
    "header = []\n",
    "for v in voltaggi:\n",
    "    header.append(f'λ{v}')\n",
    "    header.append(f'I{v}')\n",
    "data.columns = header\n",
    "data.tail()"
   ]
  },
  {
   "cell_type": "code",
   "execution_count": 22,
   "id": "4070b9c2",
   "metadata": {},
   "outputs": [
    {
     "data": {
      "application/vnd.plotly.v1+json": {
       "config": {
        "plotlyServerURL": "https://plot.ly"
       },
       "data": [
        {
         "line": {
          "color": "#0d0887"
         },
         "mode": "lines",
         "name": "V=800V",
         "type": "scatter",
         "x": {
          "bdata": "CaP+H1y3gECglP9/wr+AQE2ABkDhxoBA6wX6n0fPgEBoDv+fmdeAQC/jAcDM3oBAs3/5vx7ngEBLcfofhe+AQPdcAeCj9oBAj04CQAr/gEAJo/4fXAeBQKCU/3/CD4FATYAGQOEWgUDrBfqfRx+BQGgO/5+ZJ4FAL+MBwMwugUCPTgJACjeBQOsF+p9HP4FAS3H6H4VHgUCglP9/wk+BQC/jAcDMVoFAj04CQApfgUDrBfqfR2eBQEtx+h+Fb4FAoJT/f8J3gUAv4wHAzH6BQLN/+b8eh4FAS3H6H4WPgUD3XAHgo5aBQI9OAkAKn4FACaP+H1yngUCglP9/wq+BQE2ABkDhtoFA6wX6n0e/gUBoDv+fmceBQC/jAcDMzoFAj04CQArXgUDrBfqfR9+BQEtx+h+F54FAoJT/f8LvgUAv4wHAzPaBQI9OAkAK/4FA6wX6n0cHgkBLcfofhQ+CQKCU/3/CF4JAL+MBwMwegkCzf/m/HieCQEtx+h+FL4JA91wB4KM2gkCPTgJACj+CQAmj/h9cR4JAoJT/f8JPgkBNgAZA4VaCQOsF+p9HX4JAaA7/n5lngkAv4wHAzG6CQI9OAkAKd4JA6wX6n0d/gkBLcfofhYeCQKCU/3/Cj4JAL+MBwMyWgkCPTgJACp+CQOsF+p9Hp4JAS3H6H4WvgkCglP9/wreCQC/jAcDMvoJATYAGQOHGgkCPTgJACs+CQLN/+b8e14JA6wX6n0ffgkAJo/4fXOeCQEtx+h+F74JAaA7/n5n3gkCglP9/wv+CQBX6BWC4BoNAL+MBwMwOg0CPTgJACheDQOsF+p9HH4NAS3H6H4Ung0CglP9/wi+DQC/jAcDMNoNAj04CQAo/g0DrBfqfR0eDQEtx+h+FT4NAoJT/f8JXg0Av4wHAzF6DQI9OAkAKZ4NA6wX6n0dvg0BLcfofhXeDQKCU/3/Cf4NAL+MBwMyGg0CPTgJACo+DQOsF+p9Hl4NAS3H6H4Wfg0CglP9/wqeDQC/jAcDMroNATYAGQOG2g0CPTgJACr+DQLN/+b8ex4NA6wX6n0fPg0AJo/4fXNeDQEtx+h+F34NAaA7/n5nng0CglP9/wu+DQBX6BWC49oNAL+MBwMz+g0BNgAZA4QaEQI9OAkAKD4RAs3/5vx4XhEDrBfqfRx+EQAmj/h9cJ4RAS3H6H4UvhEBoDv+fmTeEQKCU/3/CP4RAFfoFYLhGhEAv4wHAzE6EQE2ABkDhVoRA",
          "dtype": "f8"
         },
         "y": {
          "bdata": "3XMFgO8wfkAo5f+fJGSAQEAp//+UnYFAH0IBgAgjg0C1jgXgOrSEQMDWAADryYVAAqX8/6M9h0D3XAHgU2GIQO0UBsDjLIlAqTf+n24yikCf7wKAjluLQI2pBUBWt4tAF58CYGw8jEAjjPp/0DGNQJZMBGBSAo1A+6b636tZjUDWdQNgx3CNQK6QA8DiZo1Astr8v4oujUCK9fwfJsaMQAmj/h9MkYxAbwwBwDE5jEDmFgSgS3KLQOi7AKC/3YpAYRD9f/FGikDO0gRAm8mJQJKY+z/y5YhA9rcE4L9ciECNqQVAJnOHQFfIAWCBioZAgVL+/2kLhkA/hAIAAcOEQFlt/l+lSoRAs3/5v97Dg0D5Af7fx8SCQGEQ/X/RLIJAV8gBYDFQgUAKSPsfkIiAQM1o9R/D+H9AlKcHYF6YfkCK9fwfNmN9QMMg+v8iKnxA8F7/v3sHe0BuZwTAfdp5QFUjBWAtwXhAbmcEwD0deEBCzvv/OP52QI2pBUDm9XVAVbn1P6VIdUBqs/ufrZZ0QJZMBGBSxHNAojn8f4ZFc0AjjPp/UKJyQGzCB8BJFHJAZVr2fyl8cUCehfNfVvdwQB6dBID0FXBA3Qn2XyfAb0BWjRSA9ThvQAyD6P/LTm5AyrTs/1JFbUDEW+ff7iNsQOBT719PwmpAPKQYIJEaakDtfhXge7ZpQNU6FoArjGhA4b3+fzfBZ0A5we2/BBJnQBmuDoD4T2ZAH9jxX6BtZUBrhxrgHb5kQHuP6b/9u2NAsxXqn9YVY0BxGw3g7UxiQAscGmAwXmFABB4YQDhLYUCLBAlAEmxgQCkg7X+AsF9ArIH3n0aaXkDoJRDAF/xcQL9vMmD/3VtA3kTjPxMlW0C/bPHf8j5aQHWkAkB4VVhAbwwBwPExV0AdtfyfxyJWQDmtBCCo01VALNgEIMdbVEBWYgHAr1JTQOUu/L8ugFJAKUsAQIZvUUDSgv7fZBtRQDST+19m4lBAjMH9X3mVT0CJtgDA8+dMQNyL/Z8ixUtACHz633xLS0CPTgJAumVJQKSHBACFcUlA+Nr5n/jwRkBHJwEg3T1HQMWt/t/DH0VA8F7/v/vcREDRmvb/t9lEQLEdCKCD1UNAqXb6/8A4QkClRPkf7EFCQD8C+7/VjUBAjif+/+rKQEBB5vMfDBo+QIETAqAnKjxAnQsKIAgmO0CxXAQApv45QCbW839YTzlA417s/xQdN0CNagngA2k3QM8N8h93sDZA",
          "dtype": "f8"
         }
        },
        {
         "line": {
          "color": "#46039f"
         },
         "mode": "lines",
         "name": "V=790V",
         "type": "scatter",
         "x": {
          "bdata": "CaP+H1y3gECglP9/wr+AQE2ABkDhxoBA6wX6n0fPgEBoDv+fmdeAQC/jAcDM3oBAs3/5vx7ngEBLcfofhe+AQPdcAeCj9oBAj04CQAr/gEAJo/4fXAeBQKCU/3/CD4FATYAGQOEWgUDrBfqfRx+BQGgO/5+ZJ4FAL+MBwMwugUCPTgJACjeBQOsF+p9HP4FAS3H6H4VHgUCglP9/wk+BQC/jAcDMVoFAj04CQApfgUDrBfqfR2eBQEtx+h+Fb4FAoJT/f8J3gUAv4wHAzH6BQLN/+b8eh4FAS3H6H4WPgUD3XAHgo5aBQI9OAkAKn4FACaP+H1yngUCglP9/wq+BQE2ABkDhtoFA6wX6n0e/gUBoDv+fmceBQC/jAcDMzoFAj04CQArXgUDrBfqfR9+BQEtx+h+F54FAoJT/f8LvgUAv4wHAzPaBQI9OAkAK/4FA6wX6n0cHgkBLcfofhQ+CQKCU/3/CF4JAL+MBwMwegkCzf/m/HieCQEtx+h+FL4JA91wB4KM2gkCPTgJACj+CQAmj/h9cR4JAoJT/f8JPgkBNgAZA4VaCQOsF+p9HX4JAaA7/n5lngkAv4wHAzG6CQI9OAkAKd4JA6wX6n0d/gkBLcfofhYeCQKCU/3/Cj4JAL+MBwMyWgkCPTgJACp+CQOsF+p9Hp4JAS3H6H4WvgkCglP9/wreCQC/jAcDMvoJATYAGQOHGgkCPTgJACs+CQLN/+b8e14JA6wX6n0ffgkAJo/4fXOeCQEtx+h+F74JAaA7/n5n3gkCglP9/wv+CQBX6BWC4BoNAL+MBwMwOg0CPTgJACheDQOsF+p9HH4NAS3H6H4Ung0CglP9/wi+DQC/jAcDMNoNAj04CQAo/g0DrBfqfR0eDQEtx+h+FT4NAoJT/f8JXg0Av4wHAzF6DQI9OAkAKZ4NA6wX6n0dvg0BLcfofhXeDQKCU/3/Cf4NAL+MBwMyGg0CPTgJACo+DQOsF+p9Hl4NAS3H6H4Wfg0CglP9/wqeDQC/jAcDMroNATYAGQOG2g0CPTgJACr+DQLN/+b8ex4NA6wX6n0fPg0AJo/4fXNeDQEtx+h+F34NAaA7/n5nng0CglP9/wu+DQBX6BWC49oNAL+MBwMz+g0BNgAZA4QaEQI9OAkAKD4RAs3/5vx4XhEDrBfqfRx+EQAmj/h9cJ4RAS3H6H4UvhEBoDv+fmTeEQKCU/3/CP4RAFfoFYLhGhEAv4wHAzE6EQE2ABkDhVoRA",
          "dtype": "f8"
         },
         "y": {
          "bdata": "V8gBYGGneUCr3PqfEt17QMwtCEB3p31Apu0EoBYwgEDFLwYgTzaBQNgaAGA7MYJAqTf+n+6mg0Cr3PqfslOEQLWOBeD6SYVA91wB4FM3hkC52P7fQtCGQLWOBeCKh4dAQs77/2gbiEDvuQLA13OIQM7SBED7eYhAIef9fxy2iEAyLfu/FNSIQAVZBSDEp4hAelT83zGaiECnkgGgWiOIQEnM/R8B6IdA+QH+3ydwh0Dhvf5/x16HQJmW/V9Km4ZA6WD9n7MnhkD+WgMArJKFQOi7AKBv2oRAJkADoIBjhEDwXv+/C8+DQCjl/59UB4NAp5IBoNpfgkB1ZQbgpb2BQP21BgB4EYFAKOX/n9QigEB9CAUAYpN/QDvQ+d/ATn5Aer4LANoMfUDTKwpg7/V7QGXEBaDRwnpAGET/X3BVeUAVkPY/oKV4QI9OAkB6ZndAOSv93+yadkAm1vN/mKJ1QAKl/P/TuXRAP4QCAFEVdEDWdQNgV2JzQEnM/R+x33JAsDUAwPbacUAm1vN/mHVxQLvnCgB/03BA/Ev3368ZcEDdn+Y//+VuQC9NEeA0Rm5AW+YZoFk5bUD0qPi/Y39sQNiED4ATYWtA6CUQwJe9akAjjPp/sJRpQM1o9R/jKGlAU6rpHyk7aEBexgOAGdVnQOBT719PwmZAsJ8P4L4XZkDhJw6gH21lQPo8679zG2VAEAsQYKwEZED0fBcAdERjQI2pBUCm4GJAfTTmv9EaYkDvIxLgj1FhQP7w899DdWBAyKXg31b/X0CCucyfpfdeQI564//ptF1ADFcHQFzeXECgKvBf6ixbQNopDICnWFpAivX8H5b2WEAopgNAcipYQBmD+7/yTldAQzT8n+qnVkC3cv4/sVxVQKYsAQBZyFRATJj+X1QLU0A/w/5fs79SQGL4BGAu6lFAJdoCAM/6UEDqSAWA8KdQQJhv+R9L+k9AwmMF4BsFT0BY7wWgMGRNQC2V+T/u6kpAMu7+X5LASkBIpfnfIWBIQBNVCWAU50dAcXIBYCMORkBIpfnfoUdGQIXD+z9BM0RAbuX8f2K6Q0AtPgXAeHRDQGVa9n/p7UJARUMIwCbhQEAufQEgGzBAQAP3EwCp/T9AgVL+/0kKPkD5l+6/3788QMQzFaB1lDxARBwEgNcHO0B5q/BfB7s5QHPs6p/xqjlAgeju32H1NkBwdhDgmRk2QFfzFCCnGjVAUIsD4IbVNEBeXPRfMTUzQDIt+780JDNA",
          "dtype": "f8"
         }
        },
        {
         "line": {
          "color": "#7201a8"
         },
         "mode": "lines",
         "name": "V=775V",
         "type": "scatter",
         "x": {
          "bdata": "CaP+H1y3gECglP9/wr+AQE2ABkDhxoBA6wX6n0fPgEBoDv+fmdeAQC/jAcDM3oBAs3/5vx7ngEBLcfofhe+AQPdcAeCj9oBAj04CQAr/gEAJo/4fXAeBQKCU/3/CD4FATYAGQOEWgUDrBfqfRx+BQGgO/5+ZJ4FAL+MBwMwugUCPTgJACjeBQOsF+p9HP4FAS3H6H4VHgUCglP9/wk+BQC/jAcDMVoFAj04CQApfgUDrBfqfR2eBQEtx+h+Fb4FAoJT/f8J3gUAv4wHAzH6BQLN/+b8eh4FAS3H6H4WPgUD3XAHgo5aBQI9OAkAKn4FACaP+H1yngUCglP9/wq+BQE2ABkDhtoFA6wX6n0e/gUBoDv+fmceBQC/jAcDMzoFAj04CQArXgUDrBfqfR9+BQEtx+h+F54FAoJT/f8LvgUAv4wHAzPaBQI9OAkAK/4FA6wX6n0cHgkBLcfofhQ+CQKCU/3/CF4JAL+MBwMwegkCzf/m/HieCQEtx+h+FL4JA91wB4KM2gkCPTgJACj+CQAmj/h9cR4JAoJT/f8JPgkBNgAZA4VaCQOsF+p9HX4JAaA7/n5lngkAv4wHAzG6CQI9OAkAKd4JA6wX6n0d/gkBLcfofhYeCQKCU/3/Cj4JAL+MBwMyWgkCPTgJACp+CQOsF+p9Hp4JAS3H6H4WvgkCglP9/wreCQC/jAcDMvoJATYAGQOHGgkCPTgJACs+CQLN/+b8e14JA6wX6n0ffgkAJo/4fXOeCQEtx+h+F74JAaA7/n5n3gkCglP9/wv+CQBX6BWC4BoNAL+MBwMwOg0CPTgJACheDQOsF+p9HH4NAS3H6H4Ung0CglP9/wi+DQC/jAcDMNoNAj04CQAo/g0DrBfqfR0eDQEtx+h+FT4NAoJT/f8JXg0Av4wHAzF6DQI9OAkAKZ4NA6wX6n0dvg0BLcfofhXeDQKCU/3/Cf4NAL+MBwMyGg0CPTgJACo+DQOsF+p9Hl4NAS3H6H4Wfg0CglP9/wqeDQC/jAcDMroNATYAGQOG2g0CPTgJACr+DQLN/+b8ex4NA6wX6n0fPg0AJo/4fXNeDQEtx+h+F34NAaA7/n5nng0CglP9/wu+DQBX6BWC49oNAL+MBwMz+g0BNgAZA4QaEQI9OAkAKD4RAs3/5vx4XhEDrBfqfRx+EQAmj/h9cJ4RAS3H6H4UvhEBoDv+fmTeEQKCU/3/CP4RAFfoFYLhGhEAv4wHAzE6EQE2ABkDhVoRA",
          "dtype": "f8"
         },
         "y": {
          "bdata": "XsYDgPkvdkAlmwagzC54QIP3+v/9BHpAS3H6H+UGfEC6ffvfdlJ+QLUk9r9y139A7RQGwKPWgEC6ffvf9p6BQIarAyBeWIJAMi37v2QEg0Aa6ftf5MODQO+5AsA3a4RApu0EoEbOhEAtPgXASMqEQNgaAGCbLIVAaA7/n1lMhUDFLwYgn2uFQJ/vAoC+YIVA8F7/v2sYhUAfQgGAKAWFQP21BgBYeYRAz3cBQA9yhECLmvkfGh6EQFJv/D/NlYNAbwwBwKFCg0AxiP6/YJaCQE2ABkBxIoJAS3H6HwWngUCBUv7/aSuBQJZMBGDyfYBAaA7/n/n8f0DGavP/ipp+QK3rBsBubn1AzC0IQNdTfEC8IvjfSlF7QHPACeAhVnpAB/4BIHiQeUA7OgkAqUl4QOYWBKCbLHdAil8MQH5qdkBxsf2/JVd1QCQx939kdnRAE+v5P8y6c0B6vgsAOhlzQKvc+p/yFXJAZcQFoHHVcUBCzvv/GJxwQEk2DUC5KnBAE+v5P6w3b0BsLBfg8d9tQLczAuBODW1AdWUG4BWZa0A0aOifoBprQAf+ASD4kGpAiLoPQKoLaUDdcwWAT+FoQGGm7V9Z82dAOSv93yxJZ0DvIxLgD3RmQBALEGDsw2VApyjyf+I8ZUCmVxTAnlpkQEwW9x9Z22NAaKTvf1FMY0BJYu7/CKpiQDtm6r9YHmJAx9QCIJMnYUDmgBPAw7tgQIP3+v9dY2BArrzkf/I9X0AB0d2/Q+ddQNU6FoBrxFxACt7r/3dVW0BjS+pf7fVaQNnr3R9vG1pAjIIBAJepWEAsFwGAaZlXQIr1/B9WEFdARBwEgBfZVUDK3/+/mNdUQKdTBUDoL1RA8sT/X61WU0A/w/5fs4tSQP5aAwAswFFA17T/v7kLUUCY8QBghlhQQGBrAICtk05AVL0EwNtyTUARiQggMStOQBlrA6Cf/0pAxlYKYM5XSkCB+wmA1PxIQAPMAEBj30dAWlUGQKJ8RkC3sfqf04NGQIdo+D9VSEVAN0cEgLbXREB3x/f/0PhCQNA09l/GXkJA+Jv9P1ZbQUCLmvkfKi1BQNZ1A2AXO0BAEm0BgOfsPUB6fw+g1zQ8QAM2EGDLLTxAvjEEAMfiOkAMrvu/0Xw4QDHH+h/DjThAb6Lxn8kiN0D7Y+//wuI2QMDWAABbdjVAJHQCYF21NEDsrgUgYpYzQKRc8T+/kzJAjb3u34LMMkAZAfR/N5ExQJ02HeDN0y9A",
          "dtype": "f8"
         }
        },
        {
         "line": {
          "color": "#9c179e"
         },
         "mode": "lines",
         "name": "V=750V",
         "type": "scatter",
         "x": {
          "bdata": "CaP+H1y3gECglP9/wr+AQE2ABkDhxoBA6wX6n0fPgEBoDv+fmdeAQC/jAcDM3oBAs3/5vx7ngEBLcfofhe+AQPdcAeCj9oBAj04CQAr/gEAJo/4fXAeBQKCU/3/CD4FATYAGQOEWgUDrBfqfRx+BQGgO/5+ZJ4FAL+MBwMwugUCPTgJACjeBQOsF+p9HP4FAS3H6H4VHgUCglP9/wk+BQC/jAcDMVoFAj04CQApfgUDrBfqfR2eBQEtx+h+Fb4FAoJT/f8J3gUAv4wHAzH6BQLN/+b8eh4FAS3H6H4WPgUD3XAHgo5aBQI9OAkAKn4FACaP+H1yngUCglP9/wq+BQE2ABkDhtoFA6wX6n0e/gUBoDv+fmceBQC/jAcDMzoFAj04CQArXgUDrBfqfR9+BQEtx+h+F54FAoJT/f8LvgUAv4wHAzPaBQI9OAkAK/4FA6wX6n0cHgkBLcfofhQ+CQKCU/3/CF4JAL+MBwMwegkCzf/m/HieCQEtx+h+FL4JA91wB4KM2gkCPTgJACj+CQAmj/h9cR4JAoJT/f8JPgkBNgAZA4VaCQOsF+p9HX4JAaA7/n5lngkAv4wHAzG6CQI9OAkAKd4JA6wX6n0d/gkBLcfofhYeCQKCU/3/Cj4JAL+MBwMyWgkCPTgJACp+CQOsF+p9Hp4JAS3H6H4WvgkCglP9/wreCQC/jAcDMvoJATYAGQOHGgkCPTgJACs+CQLN/+b8e14JA6wX6n0ffgkAJo/4fXOeCQEtx+h+F74JAaA7/n5n3gkCglP9/wv+CQBX6BWC4BoNAL+MBwMwOg0CPTgJACheDQOsF+p9HH4NAS3H6H4Ung0CglP9/wi+DQC/jAcDMNoNAj04CQAo/g0DrBfqfR0eDQEtx+h+FT4NAoJT/f8JXg0Av4wHAzF6DQI9OAkAKZ4NA6wX6n0dvg0BLcfofhXeDQKCU/3/Cf4NAL+MBwMyGg0CPTgJACo+DQOsF+p9Hl4NAS3H6H4Wfg0CglP9/wqeDQC/jAcDMroNATYAGQOG2g0CPTgJACr+DQLN/+b8ex4NA6wX6n0fPg0AJo/4fXNeDQEtx+h+F34NAaA7/n5nng0CglP9/wu+DQBX6BWC49oNAL+MBwMz+g0BNgAZA4QaEQI9OAkAKD4RAs3/5vx4XhEDrBfqfRx+EQAmj/h9cJ4RAS3H6H4UvhEBoDv+fmTeEQKCU/3/CP4RAFfoFYLhGhEAv4wHAzE6EQE2ABkDhVoRA",
          "dtype": "f8"
         },
         "y": {
          "bdata": "1Gb3P/vZcEB2CgPgaR9yQC0+BcBYZ3NApu0EoDZGdUBqHQvANct2QIr1/B/2DHhAiFAAIKI7eUDtqvafS956QELO+/84pntAxcX2/xb0fEBCOAsg4ad9QC0+BcC4135AOSv936xff0Bjtfl/VRGAQP21BgDoFoBAGET/X8BDgECPTgJAmieAQKCU/38CMIBAyh78H/sWgECNqQVAxux/QOJi+39LhX9AZcQFoHH5fkDjzAqgU1N+QDbhA+BEqn1AfGMIAG6/fEA5K/3f7Ct8QN1zBYBvRHtAxmrz/8pxekBsWPifAdd5QCr0C8Cw03hApYP1fw4ZeEDczgiAe/p2QN8YAoAja3ZARHP4/2yMdUCR8/4/7pl0QNq//F9fA3RAP4QCAFHuckDA1gAAuzByQHz5+N8Fm3FAVSMFYA3BcEAWNfM/lFRwQJmW/V9ahm5A5dsWwC95bUCTAgtgipxsQPM+6Z/7DGtAMB7vnzhHakCXh/E/XiNpQPHIDuBjj2hANksTAG2EZ0BXyAFgYYpmQKLP7F9+6mVAJZsGoCwdZUACDwwgvINkQDZ39L9c8GNAcyoZACotY0DNaPUfI8diQEcnASCdLmJAuUIOAAttYUAIOe//o9lgQLtRGiBHKmBAgo3r33W4X0Cqnsw/+pxeQGDVD6AVkV1A65vqf++RXEDSWiygK5ZbQEOf2b/87lpALqXTX1S4WkDdCfZf5yRZQDiGAODYO1hAhF37n0+KV0AopgNAcm1WQBsQAKCzgFVA68b9P3UqVUAdtfyfRx5UQOeU/F9gtlNA2YAAAN10UkAkdAJgXeNRQE4lA0CVBlFAGWsDoN/yUECbeva/UGdPQKvc+p8yck5Amn4FQMewTUDqSAWA8P9LQNOpAiC0i0pAQ7YD4OU8SUDvoQqgFKVIQBb29t+xT0dA+QH+38cuRkAhJvrfvv1EQO83+3+sUERAc1b6v9koQ0D0UQRArmpCQMaVBsBwukFAZRv6H8fmQEDx3Pd/QKxAQEGTDiCN6z5AhJz3/3GzPUCRMvufcAM9QCimA0CyvjtA0z/z/8unOUAuOvY/Aqc5QNIY7798nTdAjRMVYA4nN0AJIfffEDM2QIE+FWDtnzRAiFAAIIL7M0Cb/P3/i14yQP8X+B/TYDJA3+3uv52sMUB/rQEAtp0wQIscAWBlZi9AuZXz/4kjLUDjteB/CgssQHCe4h9TgCxASwYdALMbLEDwM+z/NQUpQIETAqAnOSlA",
          "dtype": "f8"
         }
        },
        {
         "line": {
          "color": "#bd3786"
         },
         "mode": "lines",
         "name": "V=725V",
         "type": "scatter",
         "x": {
          "bdata": "CaP+H1y3gECglP9/wr+AQE2ABkDhxoBA6wX6n0fPgEBoDv+fmdeAQC/jAcDM3oBAs3/5vx7ngEBLcfofhe+AQPdcAeCj9oBAj04CQAr/gEAJo/4fXAeBQKCU/3/CD4FATYAGQOEWgUDrBfqfRx+BQGgO/5+ZJ4FAL+MBwMwugUCPTgJACjeBQOsF+p9HP4FAS3H6H4VHgUCglP9/wk+BQC/jAcDMVoFAj04CQApfgUDrBfqfR2eBQEtx+h+Fb4FAoJT/f8J3gUAv4wHAzH6BQLN/+b8eh4FAS3H6H4WPgUD3XAHgo5aBQI9OAkAKn4FACaP+H1yngUCglP9/wq+BQE2ABkDhtoFA6wX6n0e/gUBoDv+fmceBQC/jAcDMzoFAj04CQArXgUDrBfqfR9+BQEtx+h+F54FAoJT/f8LvgUAv4wHAzPaBQI9OAkAK/4FA6wX6n0cHgkBLcfofhQ+CQKCU/3/CF4JAL+MBwMwegkCzf/m/HieCQEtx+h+FL4JA91wB4KM2gkCPTgJACj+CQAmj/h9cR4JAoJT/f8JPgkBNgAZA4VaCQOsF+p9HX4JAaA7/n5lngkAv4wHAzG6CQI9OAkAKd4JA6wX6n0d/gkBLcfofhYeCQKCU/3/Cj4JAL+MBwMyWgkCPTgJACp+CQOsF+p9Hp4JAS3H6H4WvgkCglP9/wreCQC/jAcDMvoJATYAGQOHGgkCPTgJACs+CQLN/+b8e14JA6wX6n0ffgkAJo/4fXOeCQEtx+h+F74JAaA7/n5n3gkCglP9/wv+CQBX6BWC4BoNAL+MBwMwOg0CPTgJACheDQOsF+p9HH4NAS3H6H4Ung0CglP9/wi+DQC/jAcDMNoNAj04CQAo/g0DrBfqfR0eDQEtx+h+FT4NAoJT/f8JXg0Av4wHAzF6DQI9OAkAKZ4NA6wX6n0dvg0BLcfofhXeDQKCU/3/Cf4NAL+MBwMyGg0CPTgJACo+DQOsF+p9Hl4NAS3H6H4Wfg0CglP9/wqeDQC/jAcDMroNATYAGQOG2g0CPTgJACr+DQLN/+b8ex4NA6wX6n0fPg0AJo/4fXNeDQEtx+h+F34NAaA7/n5nng0CglP9/wu+DQBX6BWC49oNAL+MBwMz+g0BNgAZA4QaEQI9OAkAKD4RAs3/5vx4XhEDrBfqfRx+EQAmj/h9cJ4RAS3H6H4UvhEBoDv+fmTeEQKCU/3/CP4RAFfoFYLhGhEAv4wHAzE6EQE2ABkDhVoRA",
          "dtype": "f8"
         },
         "y": {
          "bdata": "KHvwf+zLZ0BL2wlALcBpQNMrCmCvuGtA2r/8Xz+wbUA2d/S/vE9wQCZAA6DANnFA91wB4FMzckCbO/pfDjxzQGzCB8DpvHNAw4oJIOtVdEBHJwEgvVZ1QHxjCAAO8nVAScz9HzEtdkAKSPsfoJF2QPsQCgAkuXZAQs77/zgKd0BsWPifATZ3QLnY/t8iDHdAstr8v+qxdkBjHwmg/Y52QLczAuDudnZADpL0Hwj0dUAfQgGA6KJ1QKI5/H9GAHVAbwwBwLF2dECUPfg/lvRzQEI4CyCBSnNA0ysKYO/wckAa6ftfZJFyQLvnCgC/oHFApEgIoKIucUD5aw0AMExwQIarAyAuaG9AQL/v37xzbkBtk+V/zahtQMgP8P++2GtA3M4IgLv8akCIug9AKhpqQAmj/h9M6GhAqaENwIbrZ0CLBAlAUiZnQA5mE2CY5GVAqnLrf0oIZUD1TfW/NxZkQChPD8C8dmNAUxT5P1HyYkDRHP4/s/VhQM1o9R8jSmFAdWUG4JXNYECfWRKg5kpgQMvyGmCLOF9AZz0h4DVEXkB0J9h/HYxdQN6xM+AHmlxA0EsggK9NW0BCZOzf0PZaQBsnKsCcPVpATFkCALLRWEBjNwHAUONXQG8MAcDxS1dA9jX9n2TYVkDhvf5/t7dVQKNgAMB1eFVA3EwBQMAHVEDPOAXgvBVUQAFmAKAxI1NAd4j7n24MU0CiOfx/Zu5RQO1TAiB2I1FA4iP/H+msUEAJ4vp/riRQQJZMBGDy8E5A5hYEoJvITUBlWvZ/aWRMQIdo+D/Va0tAC/EGoGrISkCQtALgK+xJQIgRBMBfEkhAbBn8P38fSEB47vs/oIRGQHyiBGCwuEZAC4f3f4K6REC/7vgfLgZEQBksB0B9hkNA4D8GwLJBQkAGVfafratBQCSz/r9/ykBA97P1X6kNQEASQu6/IQs+QL9s8d9ykT1A2ikMgKfRPEAkXApAijA7QKVvDOCxpzlALT4FwHgnOUCpDOvfWFI3QBRp8v9wGjZANVDwfw0rNUAnKAuAbdo0QErzAWDAFzNAiM7438b1MkAxx/ofwx0yQIuGEIBN2zBAXjAToAE4MED1kACgUH4tQLwi+N9KRi5Azer8X555LUCrBw5geCgrQAnOEeCRHClAU60qoPVRKUC1+eL/TLwnQLmt6x9dJydAvocqgFImJkDBZxRgkrskQJT++99TjiNAwCsDgMM1I0A3RwSAti4iQA7m/R8q5CFA",
          "dtype": "f8"
         }
        },
        {
         "line": {
          "color": "#d8576b"
         },
         "mode": "lines",
         "name": "V=700V",
         "type": "scatter",
         "x": {
          "bdata": "CaP+H1y3gECglP9/wr+AQE2ABkDhxoBA6wX6n0fPgEBoDv+fmdeAQC/jAcDM3oBAs3/5vx7ngEBLcfofhe+AQPdcAeCj9oBAj04CQAr/gEAJo/4fXAeBQKCU/3/CD4FATYAGQOEWgUDrBfqfRx+BQGgO/5+ZJ4FAL+MBwMwugUCPTgJACjeBQOsF+p9HP4FAS3H6H4VHgUCglP9/wk+BQC/jAcDMVoFAj04CQApfgUDrBfqfR2eBQEtx+h+Fb4FAoJT/f8J3gUAv4wHAzH6BQLN/+b8eh4FAS3H6H4WPgUD3XAHgo5aBQI9OAkAKn4FACaP+H1yngUCglP9/wq+BQE2ABkDhtoFA6wX6n0e/gUBoDv+fmceBQC/jAcDMzoFAj04CQArXgUDrBfqfR9+BQEtx+h+F54FAoJT/f8LvgUAv4wHAzPaBQI9OAkAK/4FA6wX6n0cHgkBLcfofhQ+CQKCU/3/CF4JAL+MBwMwegkCzf/m/HieCQEtx+h+FL4JA91wB4KM2gkCPTgJACj+CQAmj/h9cR4JAoJT/f8JPgkBNgAZA4VaCQOsF+p9HX4JAaA7/n5lngkAv4wHAzG6CQI9OAkAKd4JA6wX6n0d/gkBLcfofhYeCQKCU/3/Cj4JAL+MBwMyWgkCPTgJACp+CQOsF+p9Hp4JAS3H6H4WvgkCglP9/wreCQC/jAcDMvoJATYAGQOHGgkCPTgJACs+CQLN/+b8e14JA6wX6n0ffgkAJo/4fXOeCQEtx+h+F74JAaA7/n5n3gkCglP9/wv+CQBX6BWC4BoNAL+MBwMwOg0CPTgJACheDQOsF+p9HH4NAS3H6H4Ung0CglP9/wi+DQC/jAcDMNoNAj04CQAo/g0DrBfqfR0eDQEtx+h+FT4NAoJT/f8JXg0Av4wHAzF6DQI9OAkAKZ4NA6wX6n0dvg0BLcfofhXeDQKCU/3/Cf4NAL+MBwMyGg0CPTgJACo+DQOsF+p9Hl4NAS3H6H4Wfg0CglP9/wqeDQC/jAcDMroNATYAGQOG2g0CPTgJACr+DQLN/+b8ex4NA6wX6n0fPg0AJo/4fXNeDQEtx+h+F34NAaA7/n5nng0CglP9/wu+DQBX6BWC49oNAL+MBwMz+g0BNgAZA4QaEQI9OAkAKD4RAs3/5vx4XhEDrBfqfRx+EQAmj/h9cJ4RAS3H6H4UvhEBoDv+fmTeEQKCU/3/CP4RAFfoFYLhGhEAv4wHAzE6EQE2ABkDhVoRA",
          "dtype": "f8"
         },
         "y": {
          "bdata": "RHP4/wymYUB6VPzfUfpiQAdoEUBgnWRAYx8JoH3HZUBeMBOgQfVnQKZXFMDeJ2lAVo0UgPW2akACpfz/kz5sQFvmGaBZIG1A6WD9n4NibkAsAxjgzIJvQHVlBuBVU3BAz3cBQL89cEBE3QcgNbNwQJ3g9l9C33BAUxT5P1HtcEBHJwEgHQpxQKKjC6BO/nBA3xgCgIPdcED9tQYAuKVwQHxjCABOk3BATYAGQAFacEBOu/MfLSJwQJulCYDWbm9ABe/1/ztHbkDWdQNgl5htQOPMCqDzfGxAlrYTgJrga0CTAgtgCsRqQHrq7L/pOmpA5dsWwK8UaUBXMhGAiWRoQIFS/v/JNmdAvjEEAMdqZkCNqQVAprNlQBALEGCs2mRAfxcRIJ7UY0CtVRbgVlRjQFvmGaBZeWJA0YYNYJtzYUDGavP/KuFgQIsECUASfWBAyeMOQI+UXkB33iEgusRdQE3qFWBp6FxAE1UJYJRkW0B+b9OffQNbQI2pBUAmkllAN7UiIJUBWUApSwBAxrpXQKxC+z8kUVdA77kCwOcqVkCn0f3/LGNVQFHxA4A4QFVA53wEQI3/U0CRMvufcKlTQKDT+9/0M1NA0oL+36QlUkCxXAQApslRQNjbAwDJQlFAa5sDgDrLUEBQCfyfS2dQQOqf+f/lGk9A39kFIMEQTkD1kACg0JFNQAe/BcAVTk1A0PX5/yMvS0Bu5fx/4htKQBKF+Z86CUpAE6z93wkMSUAqivyf6C5IQE/i91/8HUdA+Bn2/xpNRkA3nvj/qwhFQMe8CgBAiURAWS4CANNVQ0A8eQVgi6lCQCSz/r//X0JAAMEDoN1zQUBbfAqA8fFAQNhZ/L/NAEBAbMIHwIk6P0Bj9PXf97I9QLex+p/TkjtAku/vv9fiOkDm6/Df1Xs5QADV7D86PjhAHR8MwC8cOEBKHhUghkE2QGKO9T+G7DVAE+v5PyyCNECgvxJAGHgzQDy4AcAtyjNASsjun/oyMkBlLhXAOQIxQI/M+v/+1TBApLPlv7T0LkCAK/q/+lAtQMAp5v/Zvy1AYGsAgK3KK0AdSh+A9QQqQMBrI+AIHylAM+rv35u6J0D6qglg0m0nQMWa4z9RwSVAqU4owIeLJUDzKgAA348kQEwEAIDJiSNA8q0AwGCPIkBgwAIAFvkhQMm3AgCDlCBA6bX/HywkIEATrP3fCVQfQMGRAyA10B1AdaX7vz7aHUDjnwXgIFEbQHu6/H+D6xlA",
          "dtype": "f8"
         }
        },
        {
         "line": {
          "color": "#ed7953"
         },
         "mode": "lines",
         "name": "V=650V",
         "type": "scatter",
         "x": {
          "bdata": "CaP+H1y3gECglP9/wr+AQE2ABkDhxoBA6wX6n0fPgEBoDv+fmdeAQC/jAcDM3oBAs3/5vx7ngEBLcfofhe+AQPdcAeCj9oBAj04CQAr/gEAJo/4fXAeBQKCU/3/CD4FATYAGQOEWgUDrBfqfRx+BQGgO/5+ZJ4FAL+MBwMwugUCPTgJACjeBQOsF+p9HP4FAS3H6H4VHgUCglP9/wk+BQC/jAcDMVoFAj04CQApfgUDrBfqfR2eBQEtx+h+Fb4FAoJT/f8J3gUAv4wHAzH6BQLN/+b8eh4FAS3H6H4WPgUD3XAHgo5aBQI9OAkAKn4FACaP+H1yngUCglP9/wq+BQE2ABkDhtoFA6wX6n0e/gUBoDv+fmceBQC/jAcDMzoFAj04CQArXgUDrBfqfR9+BQEtx+h+F54FAoJT/f8LvgUAv4wHAzPaBQI9OAkAK/4FA6wX6n0cHgkBLcfofhQ+CQKCU/3/CF4JAL+MBwMwegkCzf/m/HieCQEtx+h+FL4JA91wB4KM2gkCPTgJACj+CQAmj/h9cR4JAoJT/f8JPgkBNgAZA4VaCQOsF+p9HX4JAaA7/n5lngkAv4wHAzG6CQI9OAkAKd4JA6wX6n0d/gkBLcfofhYeCQKCU/3/Cj4JAL+MBwMyWgkCPTgJACp+CQOsF+p9Hp4JAS3H6H4WvgkCglP9/wreCQC/jAcDMvoJATYAGQOHGgkCPTgJACs+CQLN/+b8e14JA6wX6n0ffgkAJo/4fXOeCQEtx+h+F74JAaA7/n5n3gkCglP9/wv+CQBX6BWC4BoNAL+MBwMwOg0CPTgJACheDQOsF+p9HH4NAS3H6H4Ung0CglP9/wi+DQC/jAcDMNoNAj04CQAo/g0DrBfqfR0eDQEtx+h+FT4NAoJT/f8JXg0Av4wHAzF6DQI9OAkAKZ4NA6wX6n0dvg0BLcfofhXeDQKCU/3/Cf4NAL+MBwMyGg0CPTgJACo+DQOsF+p9Hl4NAS3H6H4Wfg0CglP9/wqeDQC/jAcDMroNATYAGQOG2g0CPTgJACr+DQLN/+b8ex4NA6wX6n0fPg0AJo/4fXNeDQEtx+h+F34NAaA7/n5nng0CglP9/wu+DQBX6BWC49oNAL+MBwMz+g0BNgAZA4QaEQI9OAkAKD4RAs3/5vx4XhEDrBfqfRx+EQAmj/h9cJ4RAS3H6H4UvhEBoDv+fmTeEQKCU/3/CP4RAFfoFYLhGhEAv4wHAzE6EQE2ABkDhVoRA",
          "dtype": "f8"
         },
         "y": {
          "bdata": "mZb9X9qiUUCWiwDA1OdSQHyiBGBwHFRA2qcEQKysVUBTlgCAzJpXQJ2JAuCM9FhA198SgH+QWkB/rQEANgpcQDBK0F9ou1xAUQguoGEfXkBvovGfSdFeQDr82p8wwF9AvpsTIK8xYEAFWQUgpHVgQKCU/3/Sq2BAaA7/n7mdYECpze5/9qhgQNOVGYBXzGBA/OHnv0e5YEAiIutfyJZgQOEnDqCfQmBAI4z6fzAHYEB6KBsg4mZfQEfAMoABpl5A19zR/3KzXUAjYBnAgGVdQLy46L9iclxA2LDwP8OvW0D6PyxAAL1aQHdIMUCi21lAWqjrPyEvWUC2DP6ffx5YQLuk/x8GFFdALn0BIBtkVkB1pAJA+IhVQHLYAQCVNFRAiBEEwJ+5U0BJTgVgrKZSQOWwAwAq9lFAVTv9f+BtUUD6KAIg165QQDdf/J+JWFBA8+sDoDy9TkB1+/a/7VBNQHzhAMBSIUxAjIIBANcLS0AhJvrfviFKQCM1BgA7O0lActgBAJUgSEAks/6/f7BHQJA2CiBnzkZAvOP7fyj3RUC9iPh/vClFQMPh/Z9gBkVAh9IHYL1EREBCUANA9FBDQCD/9Z/v0kJAHbX8n8cpQkB2Ivv/vJtBQDjF/D/7BEFAPHkFYIu4QECGAvif4xxAQPqqCWDSHT9AlVAT4GiVPUDF2BGgCUg9QAglBmCHCDxAC8bz36QHPEAhJvrfvjg6QIlM8Z8LVDlAA/cTAKmUOEB3x/f/UKs3QLRnAaCrhTZAcloJQFB5NUBTlgCAjOY0QKC/EkAYMDRAfOEAwNJwM0CoegmAt7gyQPCJEoDBzjFA6Dn5X3QDMUDZ1/R/ktYwQDQp7D++EC9AswEBADpnLkDcYOrf3MYsQFcf9t/WGyxAKl4b4Di7KkCDChag0CspQLz35B+FIChAQqYpwH+MJkBAVBLAahgmQNLwHIDDaCVA7r0RQN4zJED1z/z/coMjQJoSBCDSKCNAt3L+P7E7IkBhJ/wfThAhQL21/T8PkyBA4SgHIKZGH0Ba1Pd/rR8dQGwYA8C4+xxAYvn93zQgG0DS2PnfkwgZQGvx/n9pIRlAJpUFIKkeGEB4cAOAWwQXQFsRAuBCPBVASp7/31e7FEDsa/o/ySkUQIj7/Z8ZtRNAr7cHABIoEkC9tATASDMRQFFGBgBhNhFAiObw/5kLD0AB0/o/rQAQQCIP+z+ykQ5Ait79fwn9CkBj9PXf9/ULQNUi89+7VQpA",
          "dtype": "f8"
         }
        },
        {
         "line": {
          "color": "#fb9f3a"
         },
         "mode": "lines",
         "name": "V=600V",
         "type": "scatter",
         "x": {
          "bdata": "CaP+H1y3gECglP9/wr+AQE2ABkDhxoBA6wX6n0fPgEBoDv+fmdeAQC/jAcDM3oBAs3/5vx7ngEBLcfofhe+AQPdcAeCj9oBAj04CQAr/gEAJo/4fXAeBQKCU/3/CD4FATYAGQOEWgUDrBfqfRx+BQGgO/5+ZJ4FAL+MBwMwugUCPTgJACjeBQOsF+p9HP4FAS3H6H4VHgUCglP9/wk+BQC/jAcDMVoFAj04CQApfgUDrBfqfR2eBQEtx+h+Fb4FAoJT/f8J3gUAv4wHAzH6BQLN/+b8eh4FAS3H6H4WPgUD3XAHgo5aBQI9OAkAKn4FACaP+H1yngUCglP9/wq+BQE2ABkDhtoFA6wX6n0e/gUBoDv+fmceBQC/jAcDMzoFAj04CQArXgUDrBfqfR9+BQEtx+h+F54FAoJT/f8LvgUAv4wHAzPaBQI9OAkAK/4FA6wX6n0cHgkBLcfofhQ+CQKCU/3/CF4JAL+MBwMwegkCzf/m/HieCQEtx+h+FL4JA91wB4KM2gkCPTgJACj+CQAmj/h9cR4JAoJT/f8JPgkBNgAZA4VaCQOsF+p9HX4JAaA7/n5lngkAv4wHAzG6CQI9OAkAKd4JA6wX6n0d/gkBLcfofhYeCQKCU/3/Cj4JAL+MBwMyWgkCPTgJACp+CQOsF+p9Hp4JAS3H6H4WvgkCglP9/wreCQC/jAcDMvoJATYAGQOHGgkCPTgJACs+CQLN/+b8e14JA6wX6n0ffgkAJo/4fXOeCQEtx+h+F74JAaA7/n5n3gkCglP9/wv+CQBX6BWC4BoNAL+MBwMwOg0CPTgJACheDQOsF+p9HH4NAS3H6H4Ung0CglP9/wi+DQC/jAcDMNoNAj04CQAo/g0DrBfqfR0eDQEtx+h+FT4NAoJT/f8JXg0Av4wHAzF6DQI9OAkAKZ4NA6wX6n0dvg0BLcfofhXeDQKCU/3/Cf4NAL+MBwMyGg0CPTgJACo+DQOsF+p9Hl4NAS3H6H4Wfg0CglP9/wqeDQC/jAcDMroNATYAGQOG2g0CPTgJACr+DQLN/+b8ex4NA6wX6n0fPg0AJo/4fXNeDQEtx+h+F34NAaA7/n5nng0CglP9/wu+DQBX6BWC49oNAL+MBwMz+g0BNgAZA4QaEQI9OAkAKD4RAs3/5vx4XhEDrBfqfRx+EQAmj/h9cJ4RAS3H6H4UvhEBoDv+fmTeEQKCU/3/CP4RAFfoFYLhGhEAv4wHAzE6EQE2ABkDhVoRA",
          "dtype": "f8"
         },
         "y": {
          "bdata": "ZF4FAGBAQUCws/h/G65CQDw2+n/yOkRAUMr/PymgRUASxPX/XHFHQG5nBMAdjUhAOMX8P/s6SkDR3QHgUNFLQIFS/v9Jn0xA8gP8vw+7TUBUvQTAW9ZOQHNW+r/ZZk9AJHQCYF3hT0BPZP+f90BQQC59ASDbdFBAVqH9HxKcUEBtQACATpdQQAPMAEAjwFBAP4QCAJGkUEDYGgBgq2pQQNKC/t9kM1BAt7H6n9MYUEDjofffLRxPQK2o+98Vnk5AAuT4X7asTUCDNvdfgJRMQBhc93+jHUxAY7X5f1VyS0Dl7/9fzG5KQE7mBuDyhUlAaYz3Xz6DSECqnf4/kLRHQNNqBsCRBEdAYx8JoD0GRkAVkPY/wB5FQNfz+x9cZERAnnEKwPlgQ0BswgfAibdCQCD/9Z9vAkJAmdX5vzx3QUAizwVgSYlAQDw2+n9y4D9AGij4v4adPkCS7++/1788QJbi9D8KEDxAK4btH/KsOkBRxvC/MkI6QEXFDwDivDhAwH8MgGWXOEAVZBWAkGM3QGsFE6AifDZAzAL1f3HRNUCsbQ4A6jc1QEqJ8j/YLzRAySILoDFXM0AyGRIg2McyQLvnCgCfTDJAliHxnywKMkCW4vQ/Cn4xQN7x/T8UvTBABqzqHyO+MEAJ4vp/7twvQGoJIiCZUS5A1krwn9G6LUAaf+w/fIgsQNMrCmBvzStANSXdv0dFK0ASLgUgxSsqQAinDaBCHilA3d7inyHTJ0C1ehxAnmknQKWv1j8+WyZAHOQe4IO0JUBa/hHArHwkQJoSBCDSvSNAB+j7//H2IkDukv5/GKwiQFv7+7/8AyJA3TUCoHM1IUBR8vz/vmAgQKqe979WoR9ANuL8XwuuHUD3cgcAevUdQJT9AmCNohtAjroDYC/JGkC+cfnfr98ZQK8kAqBNzBhAHZ79/zqoF0C8jQCA+cIVQEbC+f8xZxVAJAcIwCFjFEC/gvf/uFkTQPrU+B91dhJABoEC4LnMEUCgq/4fX5AQQOIk+J8vLw9AS+/y30nMDkCehxDgv8gNQMtu9p/mLAxAlKcHYF6LC0CQC/dfIa4JQDSoCAAmEglAO+f4fw2EB0CqHPB/m9cGQMnNCCDJIQZAr80NIFguBUDTVACgS1MEQJyh+v8fIANAki3znzN2AkAGFvo/C8YBQGpKEIBIqwBAGdcEwJQPAEDsFvi/YHX9PyS09z9GNP0/ieMFgEZj/T99iRPAFqn7P+UbDKDY9fk/",
          "dtype": "f8"
         }
        },
        {
         "line": {
          "color": "#fdca26"
         },
         "mode": "lines",
         "name": "V=550V",
         "type": "scatter",
         "x": {
          "bdata": "CaP+H1y3gECglP9/wr+AQE2ABkDhxoBA6wX6n0fPgEBoDv+fmdeAQC/jAcDM3oBAs3/5vx7ngEBLcfofhe+AQPdcAeCj9oBAj04CQAr/gEAJo/4fXAeBQKCU/3/CD4FATYAGQOEWgUDrBfqfRx+BQGgO/5+ZJ4FAL+MBwMwugUCPTgJACjeBQOsF+p9HP4FAS3H6H4VHgUCglP9/wk+BQC/jAcDMVoFAj04CQApfgUDrBfqfR2eBQEtx+h+Fb4FAoJT/f8J3gUAv4wHAzH6BQLN/+b8eh4FAS3H6H4WPgUD3XAHgo5aBQI9OAkAKn4FACaP+H1yngUCglP9/wq+BQE2ABkDhtoFA6wX6n0e/gUBoDv+fmceBQC/jAcDMzoFAj04CQArXgUDrBfqfR9+BQEtx+h+F54FAoJT/f8LvgUAv4wHAzPaBQI9OAkAK/4FA6wX6n0cHgkBLcfofhQ+CQKCU/3/CF4JAL+MBwMwegkCzf/m/HieCQEtx+h+FL4JA91wB4KM2gkCPTgJACj+CQAmj/h9cR4JAoJT/f8JPgkBNgAZA4VaCQOsF+p9HX4JAaA7/n5lngkAv4wHAzG6CQI9OAkAKd4JA6wX6n0d/gkBLcfofhYeCQKCU/3/Cj4JAL+MBwMyWgkCPTgJACp+CQOsF+p9Hp4JAS3H6H4WvgkCglP9/wreCQC/jAcDMvoJATYAGQOHGgkCPTgJACs+CQLN/+b8e14JA6wX6n0ffgkAJo/4fXOeCQEtx+h+F74JAaA7/n5n3gkCglP9/wv+CQBX6BWC4BoNAL+MBwMwOg0CPTgJACheDQOsF+p9HH4NAS3H6H4Ung0CglP9/wi+DQC/jAcDMNoNAj04CQAo/g0DrBfqfR0eDQEtx+h+FT4NAoJT/f8JXg0Av4wHAzF6DQI9OAkAKZ4NA6wX6n0dvg0BLcfofhXeDQKCU/3/Cf4NAL+MBwMyGg0CPTgJACo+DQOsF+p9Hl4NAS3H6H4Wfg0CglP9/wqeDQC/jAcDMroNATYAGQOG2g0CPTgJACr+DQLN/+b8ex4NA6wX6n0fPg0AJo/4fXNeDQEtx+h+F34NAaA7/n5nng0CglP9/wu+DQBX6BWC49oNAL+MBwMz+g0BNgAZA4QaEQI9OAkAKD4RAs3/5vx4XhEDrBfqfRx+EQAmj/h9cJ4RAS3H6H4UvhEBoDv+fmTeEQKCU/3/CP4RAFfoFYLhGhEAv4wHAzE6EQE2ABkDhVoRA",
          "dtype": "f8"
         },
         "y": {
          "bdata": "U8ETQFL0LUBaKvN/3C4wQLyMBwAzYzFAaknsfyWzMkCJdwRg0UQ0QLnABsBPYzVA7FcRoGyQNkB2CgPg6bk3QLsmB2DBkDhA7tH63zqwOUAZ7Qrg2ps6QGm3CiCEvDtA367yX3ulO0AfF+6/QmU8QAsF8D/H5TxAHxfuv0LQPEBxnRQg6es8QD+Y659t1DxAoVH0n7nSPEDa/vi/4XQ8QAlMCqDW/jtAsMvwn24oO0D4gwUggzA7QCsbEACgSzpAncj+P2+xOUA5rQQgKNk4QHd0EgDSUzhAfvAM4E6nN0B+chQgCvk2QI8PBuCXGDZAA8wAQONiNUAhJvrfvns0QDDf8j+WzTNAtP3xf8MqM0BIZv1//3YyQP7cCkAn5jFAmpLu36MAMUCi+v8fxGAwQLJEDODSYC9AnR4lwPqXLUBAfyWAMKgsQEpe338SzCtATELY38jWKkBrXAcgGIIpQMfnHcCFaShA6fbtf9uYJ0BS7fT/gbgmQEaW7b+l/iVA73b3385GJUAecSPARBckQIkiAuBojyNA5DMEwKtAI0Dx8v2fhl0iQGtGAQDSsCFA+PD/v745IUA6qPwf6zkgQIcp/N8ySSBAUQgDIAVFH0CbJPu/oTAeQPw4B8BZdR1A6KQBACO5HEAFcATAsIgbQKlNBMBkFBtA2mkBYJCOGUAF7vx/9R4ZQAqLBgD5ShhA1nb8313RF0AZQwbgCVcWQFgGBUA9NRZAXd77n+xLFUBcdwKAtEoUQIm3+T+6IBRA7+L4/0PYEkB84QDA0nsSQAWuB6AMuhFAP8IF4GzJEEDLmgLgcoUQQIvcC4B82w5AuS0BYIvpDUDbZfLfGTsMQK+4AIDY1ApAKQ39X+r5CkDXHwhgaLUJQIRyCEDPlwhAjWkQYD2IB0CR8gXAh2kFQKCV+P8YHgVAWn0DALhbBEC4BAsgr6ECQFaK/n+FTANAIwrzP3VzAUCWeBCgfkYBQC9PA+CBDABATw0LIEJV/z8WN+U/4ar9P7IC+n8Amvw/zlIagPkD/D/MGPuft6n4PwI5+98e//c/w1/2X6Xa9j+0kw3gN8L2P6vEAoDflvU/3cgHADjl8z+nvg3gFuTyPwgk4l9kB/M/PcscYCA/8j8cowUAeLDxP5ZiCoA4evE/LEIUQO8N8D+VEgUgVdjvPwNbAgDpQu0/Njz8//im6j8/fPq/kzzsP6R//L8Ha+g/QZ39f9/R6T/zbQAAwBXoP0fb/1+4vOQ/",
          "dtype": "f8"
         }
        },
        {
         "line": {
          "color": "#f0f921"
         },
         "mode": "lines",
         "name": "V=500V",
         "type": "scatter",
         "x": {
          "bdata": "CaP+H1y3gECglP9/wr+AQE2ABkDhxoBA6wX6n0fPgEBoDv+fmdeAQC/jAcDM3oBAs3/5vx7ngEBLcfofhe+AQPdcAeCj9oBAj04CQAr/gEAJo/4fXAeBQKCU/3/CD4FATYAGQOEWgUDrBfqfRx+BQGgO/5+ZJ4FAL+MBwMwugUCPTgJACjeBQOsF+p9HP4FAS3H6H4VHgUCglP9/wk+BQC/jAcDMVoFAj04CQApfgUDrBfqfR2eBQEtx+h+Fb4FAoJT/f8J3gUAv4wHAzH6BQLN/+b8eh4FAS3H6H4WPgUD3XAHgo5aBQI9OAkAKn4FACaP+H1yngUCglP9/wq+BQE2ABkDhtoFA6wX6n0e/gUBoDv+fmceBQC/jAcDMzoFAj04CQArXgUDrBfqfR9+BQEtx+h+F54FAoJT/f8LvgUAv4wHAzPaBQI9OAkAK/4FA6wX6n0cHgkBLcfofhQ+CQKCU/3/CF4JAL+MBwMwegkCzf/m/HieCQEtx+h+FL4JA91wB4KM2gkCPTgJACj+CQAmj/h9cR4JAoJT/f8JPgkBNgAZA4VaCQOsF+p9HX4JAaA7/n5lngkAv4wHAzG6CQI9OAkAKd4JA6wX6n0d/gkBLcfofhYeCQKCU/3/Cj4JAL+MBwMyWgkCPTgJACp+CQOsF+p9Hp4JAS3H6H4WvgkCglP9/wreCQC/jAcDMvoJATYAGQOHGgkCPTgJACs+CQLN/+b8e14JA6wX6n0ffgkAJo/4fXOeCQEtx+h+F74JAaA7/n5n3gkCglP9/wv+CQBX6BWC4BoNAL+MBwMwOg0CPTgJACheDQOsF+p9HH4NAS3H6H4Ung0CglP9/wi+DQC/jAcDMNoNAj04CQAo/g0DrBfqfR0eDQEtx+h+FT4NAoJT/f8JXg0Av4wHAzF6DQI9OAkAKZ4NA6wX6n0dvg0BLcfofhXeDQKCU/3/Cf4NAL+MBwMyGg0CPTgJACo+DQOsF+p9Hl4NAS3H6H4Wfg0CglP9/wqeDQC/jAcDMroNATYAGQOG2g0CPTgJACr+DQLN/+b8ex4NA6wX6n0fPg0AJo/4fXNeDQEtx+h+F34NAaA7/n5nng0CglP9/wu+DQBX6BWC49oNAL+MBwMz+g0BNgAZA4QaEQI9OAkAKD4RAs3/5vx4XhEDrBfqfRx+EQAmj/h9cJ4RAS3H6H4UvhEBoDv+fmTeEQKCU/3/CP4RAFfoFYLhGhEAv4wHAzE6EQE2ABkDhVoRA",
          "dtype": "f8"
         },
         "y": {
          "bdata": "WcP5X6T3F0CGbQBAkrcZQJmW/V8aVxtA1OcFABDBHUCzQP1fXBcgQITIA0D+1SBAtiIEwIUCIkC/rgNARd8iQJ7w+/+ExCNA/gTdf+BNJEDybtnf4dEkQHXPFQA+2yVAfDcnQF7/JUB3iPufLoImQPQ62h/FiCZAt93bXwNvJkCbJxHAUfcmQA2+1d+3sCZA9Cbxf2iIJkAH0+5fci4mQBGd8b+N+yVATj37X+iqJUBIOhzAzw4lQJRR4d/SyyRADzfxHxxvJEAV+/7fbr4jQB12AEAlMiNAhZv+f6v3IkAjHwDg9C4iQCtF/79CkiFAku39v0r/IECYLwRA4jkgQLmr+R/QTR9Am5D83xaAHkAh5gQA1hUdQO2p/R8lGxxAUAn8n8sDG0AU6QdAn6oZQF2eBsAD3xhAJdoCAM+fF0AnvQLgvhEXQLsQAUB7qRVA+VUH4GkjFUB1TgdASfgTQKLN+l9xeBNAg7cFIPXEEkDIkP6/M8MRQIJj/B9TERFA0pgEAKu5EEDlWggA+00QQIqfASDnVA9A5Ab//1gwDkClxA5gGg0NQB7G+r9QWwxAQREH4NH4CkBCuwvgorUKQCWaDSDmLApAGMYGoIvJCEC4BQSgdaAIQFFGBgBhjAdABmv8v3OyBkBFL/Sfbc0FQLIC+n8ACgVAeioNIG+SBECEBgcgWoADQCd+BoCc2wNAOPEIgIdwA0BrBO+f/xYCQPlDEECanAFAmZf23+ClAECR8Og/nv//P/lWAGAwmP8//cnvnzSd/T8uvhoAp6j8Pw0BDECtJvs/azIYYHUF+z8YGwkg9B36PzlD9f8/4Pg/Waz6v5e49z+8NgwABM32P9lV7T/XM/Y/WHDp38hY9T/qhwHgEof0PyaC6n+2bvM/81QaQN6k8j83B+QfcfjxPxun6f+Ry/A/afYGgKY18D88ufo/9IXvP49FAYB2l+4/ZjgEIIwV7T+8NwWAymvrP+JCBgDz4uo/V335H4Mu6T+WXgbgeULoPy7NBoB+POg/hfQEoNLL5j94ZwLAF/jkP7DO+79mAeM/QWcC4ADc4j/N7gAAXbPiPwJYAsCoQeI/rkD+X9854j8m/QKgX3rhP1tM+p+m1N0/coP/fyyM3T+CJfk/9y3ePyKR95+1Edw/k2b5Xwrd2D84NAmAaGTaP/WPByCKedg/dG8AIGAC1j+FEPZ/rF3XPyFC9p9QRtU/ovH+X4Bb1j+48wEg7nPUP4Cp8n8/c9Q/",
          "dtype": "f8"
         }
        }
       ],
       "layout": {
        "height": 600,
        "legend": {
         "title": {
          "text": "Voltage"
         }
        },
        "template": {
         "data": {
          "bar": [
           {
            "error_x": {
             "color": "#2a3f5f"
            },
            "error_y": {
             "color": "#2a3f5f"
            },
            "marker": {
             "line": {
              "color": "white",
              "width": 0.5
             },
             "pattern": {
              "fillmode": "overlay",
              "size": 10,
              "solidity": 0.2
             }
            },
            "type": "bar"
           }
          ],
          "barpolar": [
           {
            "marker": {
             "line": {
              "color": "white",
              "width": 0.5
             },
             "pattern": {
              "fillmode": "overlay",
              "size": 10,
              "solidity": 0.2
             }
            },
            "type": "barpolar"
           }
          ],
          "carpet": [
           {
            "aaxis": {
             "endlinecolor": "#2a3f5f",
             "gridcolor": "#C8D4E3",
             "linecolor": "#C8D4E3",
             "minorgridcolor": "#C8D4E3",
             "startlinecolor": "#2a3f5f"
            },
            "baxis": {
             "endlinecolor": "#2a3f5f",
             "gridcolor": "#C8D4E3",
             "linecolor": "#C8D4E3",
             "minorgridcolor": "#C8D4E3",
             "startlinecolor": "#2a3f5f"
            },
            "type": "carpet"
           }
          ],
          "choropleth": [
           {
            "colorbar": {
             "outlinewidth": 0,
             "ticks": ""
            },
            "type": "choropleth"
           }
          ],
          "contour": [
           {
            "colorbar": {
             "outlinewidth": 0,
             "ticks": ""
            },
            "colorscale": [
             [
              0,
              "#0d0887"
             ],
             [
              0.1111111111111111,
              "#46039f"
             ],
             [
              0.2222222222222222,
              "#7201a8"
             ],
             [
              0.3333333333333333,
              "#9c179e"
             ],
             [
              0.4444444444444444,
              "#bd3786"
             ],
             [
              0.5555555555555556,
              "#d8576b"
             ],
             [
              0.6666666666666666,
              "#ed7953"
             ],
             [
              0.7777777777777778,
              "#fb9f3a"
             ],
             [
              0.8888888888888888,
              "#fdca26"
             ],
             [
              1,
              "#f0f921"
             ]
            ],
            "type": "contour"
           }
          ],
          "contourcarpet": [
           {
            "colorbar": {
             "outlinewidth": 0,
             "ticks": ""
            },
            "type": "contourcarpet"
           }
          ],
          "heatmap": [
           {
            "colorbar": {
             "outlinewidth": 0,
             "ticks": ""
            },
            "colorscale": [
             [
              0,
              "#0d0887"
             ],
             [
              0.1111111111111111,
              "#46039f"
             ],
             [
              0.2222222222222222,
              "#7201a8"
             ],
             [
              0.3333333333333333,
              "#9c179e"
             ],
             [
              0.4444444444444444,
              "#bd3786"
             ],
             [
              0.5555555555555556,
              "#d8576b"
             ],
             [
              0.6666666666666666,
              "#ed7953"
             ],
             [
              0.7777777777777778,
              "#fb9f3a"
             ],
             [
              0.8888888888888888,
              "#fdca26"
             ],
             [
              1,
              "#f0f921"
             ]
            ],
            "type": "heatmap"
           }
          ],
          "histogram": [
           {
            "marker": {
             "pattern": {
              "fillmode": "overlay",
              "size": 10,
              "solidity": 0.2
             }
            },
            "type": "histogram"
           }
          ],
          "histogram2d": [
           {
            "colorbar": {
             "outlinewidth": 0,
             "ticks": ""
            },
            "colorscale": [
             [
              0,
              "#0d0887"
             ],
             [
              0.1111111111111111,
              "#46039f"
             ],
             [
              0.2222222222222222,
              "#7201a8"
             ],
             [
              0.3333333333333333,
              "#9c179e"
             ],
             [
              0.4444444444444444,
              "#bd3786"
             ],
             [
              0.5555555555555556,
              "#d8576b"
             ],
             [
              0.6666666666666666,
              "#ed7953"
             ],
             [
              0.7777777777777778,
              "#fb9f3a"
             ],
             [
              0.8888888888888888,
              "#fdca26"
             ],
             [
              1,
              "#f0f921"
             ]
            ],
            "type": "histogram2d"
           }
          ],
          "histogram2dcontour": [
           {
            "colorbar": {
             "outlinewidth": 0,
             "ticks": ""
            },
            "colorscale": [
             [
              0,
              "#0d0887"
             ],
             [
              0.1111111111111111,
              "#46039f"
             ],
             [
              0.2222222222222222,
              "#7201a8"
             ],
             [
              0.3333333333333333,
              "#9c179e"
             ],
             [
              0.4444444444444444,
              "#bd3786"
             ],
             [
              0.5555555555555556,
              "#d8576b"
             ],
             [
              0.6666666666666666,
              "#ed7953"
             ],
             [
              0.7777777777777778,
              "#fb9f3a"
             ],
             [
              0.8888888888888888,
              "#fdca26"
             ],
             [
              1,
              "#f0f921"
             ]
            ],
            "type": "histogram2dcontour"
           }
          ],
          "mesh3d": [
           {
            "colorbar": {
             "outlinewidth": 0,
             "ticks": ""
            },
            "type": "mesh3d"
           }
          ],
          "parcoords": [
           {
            "line": {
             "colorbar": {
              "outlinewidth": 0,
              "ticks": ""
             }
            },
            "type": "parcoords"
           }
          ],
          "pie": [
           {
            "automargin": true,
            "type": "pie"
           }
          ],
          "scatter": [
           {
            "fillpattern": {
             "fillmode": "overlay",
             "size": 10,
             "solidity": 0.2
            },
            "type": "scatter"
           }
          ],
          "scatter3d": [
           {
            "line": {
             "colorbar": {
              "outlinewidth": 0,
              "ticks": ""
             }
            },
            "marker": {
             "colorbar": {
              "outlinewidth": 0,
              "ticks": ""
             }
            },
            "type": "scatter3d"
           }
          ],
          "scattercarpet": [
           {
            "marker": {
             "colorbar": {
              "outlinewidth": 0,
              "ticks": ""
             }
            },
            "type": "scattercarpet"
           }
          ],
          "scattergeo": [
           {
            "marker": {
             "colorbar": {
              "outlinewidth": 0,
              "ticks": ""
             }
            },
            "type": "scattergeo"
           }
          ],
          "scattergl": [
           {
            "marker": {
             "colorbar": {
              "outlinewidth": 0,
              "ticks": ""
             }
            },
            "type": "scattergl"
           }
          ],
          "scattermap": [
           {
            "marker": {
             "colorbar": {
              "outlinewidth": 0,
              "ticks": ""
             }
            },
            "type": "scattermap"
           }
          ],
          "scattermapbox": [
           {
            "marker": {
             "colorbar": {
              "outlinewidth": 0,
              "ticks": ""
             }
            },
            "type": "scattermapbox"
           }
          ],
          "scatterpolar": [
           {
            "marker": {
             "colorbar": {
              "outlinewidth": 0,
              "ticks": ""
             }
            },
            "type": "scatterpolar"
           }
          ],
          "scatterpolargl": [
           {
            "marker": {
             "colorbar": {
              "outlinewidth": 0,
              "ticks": ""
             }
            },
            "type": "scatterpolargl"
           }
          ],
          "scatterternary": [
           {
            "marker": {
             "colorbar": {
              "outlinewidth": 0,
              "ticks": ""
             }
            },
            "type": "scatterternary"
           }
          ],
          "surface": [
           {
            "colorbar": {
             "outlinewidth": 0,
             "ticks": ""
            },
            "colorscale": [
             [
              0,
              "#0d0887"
             ],
             [
              0.1111111111111111,
              "#46039f"
             ],
             [
              0.2222222222222222,
              "#7201a8"
             ],
             [
              0.3333333333333333,
              "#9c179e"
             ],
             [
              0.4444444444444444,
              "#bd3786"
             ],
             [
              0.5555555555555556,
              "#d8576b"
             ],
             [
              0.6666666666666666,
              "#ed7953"
             ],
             [
              0.7777777777777778,
              "#fb9f3a"
             ],
             [
              0.8888888888888888,
              "#fdca26"
             ],
             [
              1,
              "#f0f921"
             ]
            ],
            "type": "surface"
           }
          ],
          "table": [
           {
            "cells": {
             "fill": {
              "color": "#EBF0F8"
             },
             "line": {
              "color": "white"
             }
            },
            "header": {
             "fill": {
              "color": "#C8D4E3"
             },
             "line": {
              "color": "white"
             }
            },
            "type": "table"
           }
          ]
         },
         "layout": {
          "annotationdefaults": {
           "arrowcolor": "#2a3f5f",
           "arrowhead": 0,
           "arrowwidth": 1
          },
          "autotypenumbers": "strict",
          "coloraxis": {
           "colorbar": {
            "outlinewidth": 0,
            "ticks": ""
           }
          },
          "colorscale": {
           "diverging": [
            [
             0,
             "#8e0152"
            ],
            [
             0.1,
             "#c51b7d"
            ],
            [
             0.2,
             "#de77ae"
            ],
            [
             0.3,
             "#f1b6da"
            ],
            [
             0.4,
             "#fde0ef"
            ],
            [
             0.5,
             "#f7f7f7"
            ],
            [
             0.6,
             "#e6f5d0"
            ],
            [
             0.7,
             "#b8e186"
            ],
            [
             0.8,
             "#7fbc41"
            ],
            [
             0.9,
             "#4d9221"
            ],
            [
             1,
             "#276419"
            ]
           ],
           "sequential": [
            [
             0,
             "#0d0887"
            ],
            [
             0.1111111111111111,
             "#46039f"
            ],
            [
             0.2222222222222222,
             "#7201a8"
            ],
            [
             0.3333333333333333,
             "#9c179e"
            ],
            [
             0.4444444444444444,
             "#bd3786"
            ],
            [
             0.5555555555555556,
             "#d8576b"
            ],
            [
             0.6666666666666666,
             "#ed7953"
            ],
            [
             0.7777777777777778,
             "#fb9f3a"
            ],
            [
             0.8888888888888888,
             "#fdca26"
            ],
            [
             1,
             "#f0f921"
            ]
           ],
           "sequentialminus": [
            [
             0,
             "#0d0887"
            ],
            [
             0.1111111111111111,
             "#46039f"
            ],
            [
             0.2222222222222222,
             "#7201a8"
            ],
            [
             0.3333333333333333,
             "#9c179e"
            ],
            [
             0.4444444444444444,
             "#bd3786"
            ],
            [
             0.5555555555555556,
             "#d8576b"
            ],
            [
             0.6666666666666666,
             "#ed7953"
            ],
            [
             0.7777777777777778,
             "#fb9f3a"
            ],
            [
             0.8888888888888888,
             "#fdca26"
            ],
            [
             1,
             "#f0f921"
            ]
           ]
          },
          "colorway": [
           "#636efa",
           "#EF553B",
           "#00cc96",
           "#ab63fa",
           "#FFA15A",
           "#19d3f3",
           "#FF6692",
           "#B6E880",
           "#FF97FF",
           "#FECB52"
          ],
          "font": {
           "color": "#2a3f5f"
          },
          "geo": {
           "bgcolor": "white",
           "lakecolor": "white",
           "landcolor": "white",
           "showlakes": true,
           "showland": true,
           "subunitcolor": "#C8D4E3"
          },
          "hoverlabel": {
           "align": "left"
          },
          "hovermode": "closest",
          "mapbox": {
           "style": "light"
          },
          "paper_bgcolor": "white",
          "plot_bgcolor": "white",
          "polar": {
           "angularaxis": {
            "gridcolor": "#EBF0F8",
            "linecolor": "#EBF0F8",
            "ticks": ""
           },
           "bgcolor": "white",
           "radialaxis": {
            "gridcolor": "#EBF0F8",
            "linecolor": "#EBF0F8",
            "ticks": ""
           }
          },
          "scene": {
           "xaxis": {
            "backgroundcolor": "white",
            "gridcolor": "#DFE8F3",
            "gridwidth": 2,
            "linecolor": "#EBF0F8",
            "showbackground": true,
            "ticks": "",
            "zerolinecolor": "#EBF0F8"
           },
           "yaxis": {
            "backgroundcolor": "white",
            "gridcolor": "#DFE8F3",
            "gridwidth": 2,
            "linecolor": "#EBF0F8",
            "showbackground": true,
            "ticks": "",
            "zerolinecolor": "#EBF0F8"
           },
           "zaxis": {
            "backgroundcolor": "white",
            "gridcolor": "#DFE8F3",
            "gridwidth": 2,
            "linecolor": "#EBF0F8",
            "showbackground": true,
            "ticks": "",
            "zerolinecolor": "#EBF0F8"
           }
          },
          "shapedefaults": {
           "line": {
            "color": "#2a3f5f"
           }
          },
          "ternary": {
           "aaxis": {
            "gridcolor": "#DFE8F3",
            "linecolor": "#A2B1C6",
            "ticks": ""
           },
           "baxis": {
            "gridcolor": "#DFE8F3",
            "linecolor": "#A2B1C6",
            "ticks": ""
           },
           "bgcolor": "white",
           "caxis": {
            "gridcolor": "#DFE8F3",
            "linecolor": "#A2B1C6",
            "ticks": ""
           }
          },
          "title": {
           "x": 0.05
          },
          "xaxis": {
           "automargin": true,
           "gridcolor": "#EBF0F8",
           "linecolor": "#EBF0F8",
           "ticks": "",
           "title": {
            "standoff": 15
           },
           "zerolinecolor": "#EBF0F8",
           "zerolinewidth": 2
          },
          "yaxis": {
           "automargin": true,
           "gridcolor": "#EBF0F8",
           "linecolor": "#EBF0F8",
           "ticks": "",
           "title": {
            "standoff": 15
           },
           "zerolinecolor": "#EBF0F8",
           "zerolinewidth": 2
          }
         }
        },
        "width": 800,
        "xaxis": {
         "title": {
          "text": "Wavelength (nm)"
         }
        },
        "yaxis": {
         "title": {
          "text": "Intensity"
         }
        }
       }
      }
     },
     "metadata": {},
     "output_type": "display_data"
    }
   ],
   "source": [
    "from plotly.colors import sequential\n",
    "\n",
    "fig = go.Figure()\n",
    "\n",
    "colors = sequential.Plasma  # Use the plasma color scale\n",
    "for i, v in enumerate(sorted(voltaggi, reverse=True)):\n",
    "    fig.add_trace(go.Scatter(\n",
    "        x=data[f'λ{v}'], \n",
    "        y=data[f'I{v}'], \n",
    "        mode='lines', \n",
    "        name=f'V={v}V',\n",
    "        line=dict(color=colors[i % len(colors)])  # Assign colors cyclically\n",
    "    ))\n",
    "\n",
    "fig.update_layout(\n",
    "    xaxis_title='Wavelength (nm)',\n",
    "    yaxis_title='Intensity',\n",
    "    legend_title='Voltage',\n",
    "    template='plotly_white',\n",
    "    width=800,\n",
    "    height=600,\n",
    ")\n",
    "\n",
    "fig.show()"
   ]
  },
  {
   "cell_type": "markdown",
   "id": "8e8fa227",
   "metadata": {},
   "source": [
    "FIT PICCHI"
   ]
  },
  {
   "cell_type": "code",
   "execution_count": 34,
   "id": "b88527c1",
   "metadata": {},
   "outputs": [
    {
     "data": {
      "text/html": [
       "<div>\n",
       "<style scoped>\n",
       "    .dataframe tbody tr th:only-of-type {\n",
       "        vertical-align: middle;\n",
       "    }\n",
       "\n",
       "    .dataframe tbody tr th {\n",
       "        vertical-align: top;\n",
       "    }\n",
       "\n",
       "    .dataframe thead th {\n",
       "        text-align: right;\n",
       "    }\n",
       "</style>\n",
       "<table border=\"1\" class=\"dataframe\">\n",
       "  <thead>\n",
       "    <tr style=\"text-align: right;\">\n",
       "      <th></th>\n",
       "      <th>V</th>\n",
       "      <th>λcenter</th>\n",
       "      <th>sλcenter</th>\n",
       "      <th>a</th>\n",
       "      <th>sa</th>\n",
       "      <th>P</th>\n",
       "      <th>sP</th>\n",
       "    </tr>\n",
       "  </thead>\n",
       "  <tbody>\n",
       "    <tr>\n",
       "      <th>0</th>\n",
       "      <td>500</td>\n",
       "      <td>550.670016</td>\n",
       "      <td>0.206137</td>\n",
       "      <td>0.021198</td>\n",
       "      <td>0.003441</td>\n",
       "      <td>11.360026</td>\n",
       "      <td>0.037385</td>\n",
       "    </tr>\n",
       "    <tr>\n",
       "      <th>1</th>\n",
       "      <td>550</td>\n",
       "      <td>550.952030</td>\n",
       "      <td>0.185835</td>\n",
       "      <td>0.057304</td>\n",
       "      <td>0.007862</td>\n",
       "      <td>28.939933</td>\n",
       "      <td>0.084627</td>\n",
       "    </tr>\n",
       "    <tr>\n",
       "      <th>2</th>\n",
       "      <td>600</td>\n",
       "      <td>551.487627</td>\n",
       "      <td>0.108475</td>\n",
       "      <td>0.134646</td>\n",
       "      <td>0.011549</td>\n",
       "      <td>66.697797</td>\n",
       "      <td>0.126911</td>\n",
       "    </tr>\n",
       "    <tr>\n",
       "      <th>3</th>\n",
       "      <td>650</td>\n",
       "      <td>551.120935</td>\n",
       "      <td>0.136848</td>\n",
       "      <td>0.253264</td>\n",
       "      <td>0.026928</td>\n",
       "      <td>134.113793</td>\n",
       "      <td>0.295295</td>\n",
       "    </tr>\n",
       "    <tr>\n",
       "      <th>4</th>\n",
       "      <td>700</td>\n",
       "      <td>551.049159</td>\n",
       "      <td>0.203751</td>\n",
       "      <td>0.491049</td>\n",
       "      <td>0.071690</td>\n",
       "      <td>271.740025</td>\n",
       "      <td>0.768046</td>\n",
       "    </tr>\n",
       "    <tr>\n",
       "      <th>5</th>\n",
       "      <td>725</td>\n",
       "      <td>551.022582</td>\n",
       "      <td>0.168143</td>\n",
       "      <td>0.724835</td>\n",
       "      <td>0.088074</td>\n",
       "      <td>368.525008</td>\n",
       "      <td>0.944847</td>\n",
       "    </tr>\n",
       "    <tr>\n",
       "      <th>6</th>\n",
       "      <td>750</td>\n",
       "      <td>550.837602</td>\n",
       "      <td>0.182922</td>\n",
       "      <td>1.231859</td>\n",
       "      <td>0.119352</td>\n",
       "      <td>520.699045</td>\n",
       "      <td>1.236390</td>\n",
       "    </tr>\n",
       "    <tr>\n",
       "      <th>7</th>\n",
       "      <td>775</td>\n",
       "      <td>550.710964</td>\n",
       "      <td>0.163225</td>\n",
       "      <td>1.401220</td>\n",
       "      <td>0.178880</td>\n",
       "      <td>683.255953</td>\n",
       "      <td>1.941498</td>\n",
       "    </tr>\n",
       "    <tr>\n",
       "      <th>8</th>\n",
       "      <td>790</td>\n",
       "      <td>550.704647</td>\n",
       "      <td>0.103392</td>\n",
       "      <td>1.664810</td>\n",
       "      <td>0.134775</td>\n",
       "      <td>792.745581</td>\n",
       "      <td>1.463022</td>\n",
       "    </tr>\n",
       "    <tr>\n",
       "      <th>9</th>\n",
       "      <td>800</td>\n",
       "      <td>550.994044</td>\n",
       "      <td>0.154321</td>\n",
       "      <td>2.111525</td>\n",
       "      <td>0.237580</td>\n",
       "      <td>942.484601</td>\n",
       "      <td>2.552270</td>\n",
       "    </tr>\n",
       "  </tbody>\n",
       "</table>\n",
       "</div>"
      ],
      "text/plain": [
       "     V     λcenter  sλcenter         a        sa           P        sP\n",
       "0  500  550.670016  0.206137  0.021198  0.003441   11.360026  0.037385\n",
       "1  550  550.952030  0.185835  0.057304  0.007862   28.939933  0.084627\n",
       "2  600  551.487627  0.108475  0.134646  0.011549   66.697797  0.126911\n",
       "3  650  551.120935  0.136848  0.253264  0.026928  134.113793  0.295295\n",
       "4  700  551.049159  0.203751  0.491049  0.071690  271.740025  0.768046\n",
       "5  725  551.022582  0.168143  0.724835  0.088074  368.525008  0.944847\n",
       "6  750  550.837602  0.182922  1.231859  0.119352  520.699045  1.236390\n",
       "7  775  550.710964  0.163225  1.401220  0.178880  683.255953  1.941498\n",
       "8  790  550.704647  0.103392  1.664810  0.134775  792.745581  1.463022\n",
       "9  800  550.994044  0.154321  2.111525  0.237580  942.484601  2.552270"
      ]
     },
     "metadata": {},
     "output_type": "display_data"
    }
   ],
   "source": [
    "def parabola(x, x0,a,P):\n",
    "    return -a*(x-x0)**2 + P\n",
    "\n",
    "\n",
    "lc = []\n",
    "slc = []\n",
    "a = []\n",
    "sa = []\n",
    "P = []\n",
    "sP = []\n",
    "\n",
    "r = 5\n",
    "for v in voltaggi:\n",
    "    lambdas = data[f'λ{v}'].to_numpy()\n",
    "    intensities = data[f'I{v}'].to_numpy()\n",
    "    max_index = np.argmax(intensities)\n",
    "    l = lambdas[max_index-r:max_index+r]\n",
    "    i = intensities[max_index-r:max_index+r]\n",
    "    popt, pcov = curve_fit(parabola, l, i, p0=[lambdas[max_index], 1, intensities[max_index]])\n",
    "    λcenter, b, M = popt\n",
    "    error_λcenter, error_b, error_M = np.sqrt(np.diag(pcov))\n",
    "    lc.append(λcenter)\n",
    "    slc.append(error_λcenter)\n",
    "    a.append(b)\n",
    "    sa.append(error_b)\n",
    "    P.append(M)\n",
    "    sP.append(error_M)\n",
    "\n",
    "lc = np.array(lc)\n",
    "slc = np.array(slc)\n",
    "a = np.array(a)\n",
    "sa = np.array(sa)\n",
    "P = np.array(P)\n",
    "sP = np.array(sP)\n",
    "\n",
    "fit_result = pd.DataFrame({\n",
    "    'V': voltaggi,\n",
    "    'λcenter': lc,\n",
    "    'sλcenter': slc,\n",
    "    'a': a,\n",
    "    'sa': sa,\n",
    "    'P': P,\n",
    "    'sP': sP\n",
    "})\n",
    "\n",
    "fit_result = fit_result.sort_values(by='V').reset_index(drop=True)\n",
    "display(fit_result)"
   ]
  },
  {
   "cell_type": "markdown",
   "id": "ee977619",
   "metadata": {},
   "source": [
    "PLOT INTENSITIES VS VOLTAGGI"
   ]
  },
  {
   "cell_type": "code",
   "execution_count": 38,
   "id": "2f447dd2",
   "metadata": {},
   "outputs": [
    {
     "data": {
      "application/vnd.plotly.v1+json": {
       "config": {
        "plotlyServerURL": "https://plot.ly"
       },
       "data": [
        {
         "error_y": {
          "array": {
           "bdata": "rt5bOx0koz+LFn1pH6q1PyhQO66cPsA/BKxnox7m0j+iwH751ZPoP2hxqlAvPO4/SDmBLEHI8z+F/ku1XxD/P5zSlhaKaPc/zMkZVgxrBEA=",
           "dtype": "f8"
          },
          "type": "data",
          "visible": true
         },
         "mode": "markers",
         "name": "Intensity",
         "type": "scatter",
         "x": {
          "bdata": "9AEmAlgCigK8AtUC7gIHAxYDIAM=",
          "dtype": "i2"
         },
         "y": {
          "bdata": "7HRyU1W4JkA2SVZzn/A8QDTiXrOorFBAEsI6MKTDYEBSFvMj1/twQKhyLG9mCHdAivTqpJdFgECt3R4xDFqFQKQqCPP2xYhAXNE+duBzjUA=",
          "dtype": "f8"
         }
        }
       ],
       "layout": {
        "height": 600,
        "template": {
         "data": {
          "bar": [
           {
            "error_x": {
             "color": "#2a3f5f"
            },
            "error_y": {
             "color": "#2a3f5f"
            },
            "marker": {
             "line": {
              "color": "white",
              "width": 0.5
             },
             "pattern": {
              "fillmode": "overlay",
              "size": 10,
              "solidity": 0.2
             }
            },
            "type": "bar"
           }
          ],
          "barpolar": [
           {
            "marker": {
             "line": {
              "color": "white",
              "width": 0.5
             },
             "pattern": {
              "fillmode": "overlay",
              "size": 10,
              "solidity": 0.2
             }
            },
            "type": "barpolar"
           }
          ],
          "carpet": [
           {
            "aaxis": {
             "endlinecolor": "#2a3f5f",
             "gridcolor": "#C8D4E3",
             "linecolor": "#C8D4E3",
             "minorgridcolor": "#C8D4E3",
             "startlinecolor": "#2a3f5f"
            },
            "baxis": {
             "endlinecolor": "#2a3f5f",
             "gridcolor": "#C8D4E3",
             "linecolor": "#C8D4E3",
             "minorgridcolor": "#C8D4E3",
             "startlinecolor": "#2a3f5f"
            },
            "type": "carpet"
           }
          ],
          "choropleth": [
           {
            "colorbar": {
             "outlinewidth": 0,
             "ticks": ""
            },
            "type": "choropleth"
           }
          ],
          "contour": [
           {
            "colorbar": {
             "outlinewidth": 0,
             "ticks": ""
            },
            "colorscale": [
             [
              0,
              "#0d0887"
             ],
             [
              0.1111111111111111,
              "#46039f"
             ],
             [
              0.2222222222222222,
              "#7201a8"
             ],
             [
              0.3333333333333333,
              "#9c179e"
             ],
             [
              0.4444444444444444,
              "#bd3786"
             ],
             [
              0.5555555555555556,
              "#d8576b"
             ],
             [
              0.6666666666666666,
              "#ed7953"
             ],
             [
              0.7777777777777778,
              "#fb9f3a"
             ],
             [
              0.8888888888888888,
              "#fdca26"
             ],
             [
              1,
              "#f0f921"
             ]
            ],
            "type": "contour"
           }
          ],
          "contourcarpet": [
           {
            "colorbar": {
             "outlinewidth": 0,
             "ticks": ""
            },
            "type": "contourcarpet"
           }
          ],
          "heatmap": [
           {
            "colorbar": {
             "outlinewidth": 0,
             "ticks": ""
            },
            "colorscale": [
             [
              0,
              "#0d0887"
             ],
             [
              0.1111111111111111,
              "#46039f"
             ],
             [
              0.2222222222222222,
              "#7201a8"
             ],
             [
              0.3333333333333333,
              "#9c179e"
             ],
             [
              0.4444444444444444,
              "#bd3786"
             ],
             [
              0.5555555555555556,
              "#d8576b"
             ],
             [
              0.6666666666666666,
              "#ed7953"
             ],
             [
              0.7777777777777778,
              "#fb9f3a"
             ],
             [
              0.8888888888888888,
              "#fdca26"
             ],
             [
              1,
              "#f0f921"
             ]
            ],
            "type": "heatmap"
           }
          ],
          "histogram": [
           {
            "marker": {
             "pattern": {
              "fillmode": "overlay",
              "size": 10,
              "solidity": 0.2
             }
            },
            "type": "histogram"
           }
          ],
          "histogram2d": [
           {
            "colorbar": {
             "outlinewidth": 0,
             "ticks": ""
            },
            "colorscale": [
             [
              0,
              "#0d0887"
             ],
             [
              0.1111111111111111,
              "#46039f"
             ],
             [
              0.2222222222222222,
              "#7201a8"
             ],
             [
              0.3333333333333333,
              "#9c179e"
             ],
             [
              0.4444444444444444,
              "#bd3786"
             ],
             [
              0.5555555555555556,
              "#d8576b"
             ],
             [
              0.6666666666666666,
              "#ed7953"
             ],
             [
              0.7777777777777778,
              "#fb9f3a"
             ],
             [
              0.8888888888888888,
              "#fdca26"
             ],
             [
              1,
              "#f0f921"
             ]
            ],
            "type": "histogram2d"
           }
          ],
          "histogram2dcontour": [
           {
            "colorbar": {
             "outlinewidth": 0,
             "ticks": ""
            },
            "colorscale": [
             [
              0,
              "#0d0887"
             ],
             [
              0.1111111111111111,
              "#46039f"
             ],
             [
              0.2222222222222222,
              "#7201a8"
             ],
             [
              0.3333333333333333,
              "#9c179e"
             ],
             [
              0.4444444444444444,
              "#bd3786"
             ],
             [
              0.5555555555555556,
              "#d8576b"
             ],
             [
              0.6666666666666666,
              "#ed7953"
             ],
             [
              0.7777777777777778,
              "#fb9f3a"
             ],
             [
              0.8888888888888888,
              "#fdca26"
             ],
             [
              1,
              "#f0f921"
             ]
            ],
            "type": "histogram2dcontour"
           }
          ],
          "mesh3d": [
           {
            "colorbar": {
             "outlinewidth": 0,
             "ticks": ""
            },
            "type": "mesh3d"
           }
          ],
          "parcoords": [
           {
            "line": {
             "colorbar": {
              "outlinewidth": 0,
              "ticks": ""
             }
            },
            "type": "parcoords"
           }
          ],
          "pie": [
           {
            "automargin": true,
            "type": "pie"
           }
          ],
          "scatter": [
           {
            "fillpattern": {
             "fillmode": "overlay",
             "size": 10,
             "solidity": 0.2
            },
            "type": "scatter"
           }
          ],
          "scatter3d": [
           {
            "line": {
             "colorbar": {
              "outlinewidth": 0,
              "ticks": ""
             }
            },
            "marker": {
             "colorbar": {
              "outlinewidth": 0,
              "ticks": ""
             }
            },
            "type": "scatter3d"
           }
          ],
          "scattercarpet": [
           {
            "marker": {
             "colorbar": {
              "outlinewidth": 0,
              "ticks": ""
             }
            },
            "type": "scattercarpet"
           }
          ],
          "scattergeo": [
           {
            "marker": {
             "colorbar": {
              "outlinewidth": 0,
              "ticks": ""
             }
            },
            "type": "scattergeo"
           }
          ],
          "scattergl": [
           {
            "marker": {
             "colorbar": {
              "outlinewidth": 0,
              "ticks": ""
             }
            },
            "type": "scattergl"
           }
          ],
          "scattermap": [
           {
            "marker": {
             "colorbar": {
              "outlinewidth": 0,
              "ticks": ""
             }
            },
            "type": "scattermap"
           }
          ],
          "scattermapbox": [
           {
            "marker": {
             "colorbar": {
              "outlinewidth": 0,
              "ticks": ""
             }
            },
            "type": "scattermapbox"
           }
          ],
          "scatterpolar": [
           {
            "marker": {
             "colorbar": {
              "outlinewidth": 0,
              "ticks": ""
             }
            },
            "type": "scatterpolar"
           }
          ],
          "scatterpolargl": [
           {
            "marker": {
             "colorbar": {
              "outlinewidth": 0,
              "ticks": ""
             }
            },
            "type": "scatterpolargl"
           }
          ],
          "scatterternary": [
           {
            "marker": {
             "colorbar": {
              "outlinewidth": 0,
              "ticks": ""
             }
            },
            "type": "scatterternary"
           }
          ],
          "surface": [
           {
            "colorbar": {
             "outlinewidth": 0,
             "ticks": ""
            },
            "colorscale": [
             [
              0,
              "#0d0887"
             ],
             [
              0.1111111111111111,
              "#46039f"
             ],
             [
              0.2222222222222222,
              "#7201a8"
             ],
             [
              0.3333333333333333,
              "#9c179e"
             ],
             [
              0.4444444444444444,
              "#bd3786"
             ],
             [
              0.5555555555555556,
              "#d8576b"
             ],
             [
              0.6666666666666666,
              "#ed7953"
             ],
             [
              0.7777777777777778,
              "#fb9f3a"
             ],
             [
              0.8888888888888888,
              "#fdca26"
             ],
             [
              1,
              "#f0f921"
             ]
            ],
            "type": "surface"
           }
          ],
          "table": [
           {
            "cells": {
             "fill": {
              "color": "#EBF0F8"
             },
             "line": {
              "color": "white"
             }
            },
            "header": {
             "fill": {
              "color": "#C8D4E3"
             },
             "line": {
              "color": "white"
             }
            },
            "type": "table"
           }
          ]
         },
         "layout": {
          "annotationdefaults": {
           "arrowcolor": "#2a3f5f",
           "arrowhead": 0,
           "arrowwidth": 1
          },
          "autotypenumbers": "strict",
          "coloraxis": {
           "colorbar": {
            "outlinewidth": 0,
            "ticks": ""
           }
          },
          "colorscale": {
           "diverging": [
            [
             0,
             "#8e0152"
            ],
            [
             0.1,
             "#c51b7d"
            ],
            [
             0.2,
             "#de77ae"
            ],
            [
             0.3,
             "#f1b6da"
            ],
            [
             0.4,
             "#fde0ef"
            ],
            [
             0.5,
             "#f7f7f7"
            ],
            [
             0.6,
             "#e6f5d0"
            ],
            [
             0.7,
             "#b8e186"
            ],
            [
             0.8,
             "#7fbc41"
            ],
            [
             0.9,
             "#4d9221"
            ],
            [
             1,
             "#276419"
            ]
           ],
           "sequential": [
            [
             0,
             "#0d0887"
            ],
            [
             0.1111111111111111,
             "#46039f"
            ],
            [
             0.2222222222222222,
             "#7201a8"
            ],
            [
             0.3333333333333333,
             "#9c179e"
            ],
            [
             0.4444444444444444,
             "#bd3786"
            ],
            [
             0.5555555555555556,
             "#d8576b"
            ],
            [
             0.6666666666666666,
             "#ed7953"
            ],
            [
             0.7777777777777778,
             "#fb9f3a"
            ],
            [
             0.8888888888888888,
             "#fdca26"
            ],
            [
             1,
             "#f0f921"
            ]
           ],
           "sequentialminus": [
            [
             0,
             "#0d0887"
            ],
            [
             0.1111111111111111,
             "#46039f"
            ],
            [
             0.2222222222222222,
             "#7201a8"
            ],
            [
             0.3333333333333333,
             "#9c179e"
            ],
            [
             0.4444444444444444,
             "#bd3786"
            ],
            [
             0.5555555555555556,
             "#d8576b"
            ],
            [
             0.6666666666666666,
             "#ed7953"
            ],
            [
             0.7777777777777778,
             "#fb9f3a"
            ],
            [
             0.8888888888888888,
             "#fdca26"
            ],
            [
             1,
             "#f0f921"
            ]
           ]
          },
          "colorway": [
           "#636efa",
           "#EF553B",
           "#00cc96",
           "#ab63fa",
           "#FFA15A",
           "#19d3f3",
           "#FF6692",
           "#B6E880",
           "#FF97FF",
           "#FECB52"
          ],
          "font": {
           "color": "#2a3f5f"
          },
          "geo": {
           "bgcolor": "white",
           "lakecolor": "white",
           "landcolor": "white",
           "showlakes": true,
           "showland": true,
           "subunitcolor": "#C8D4E3"
          },
          "hoverlabel": {
           "align": "left"
          },
          "hovermode": "closest",
          "mapbox": {
           "style": "light"
          },
          "paper_bgcolor": "white",
          "plot_bgcolor": "white",
          "polar": {
           "angularaxis": {
            "gridcolor": "#EBF0F8",
            "linecolor": "#EBF0F8",
            "ticks": ""
           },
           "bgcolor": "white",
           "radialaxis": {
            "gridcolor": "#EBF0F8",
            "linecolor": "#EBF0F8",
            "ticks": ""
           }
          },
          "scene": {
           "xaxis": {
            "backgroundcolor": "white",
            "gridcolor": "#DFE8F3",
            "gridwidth": 2,
            "linecolor": "#EBF0F8",
            "showbackground": true,
            "ticks": "",
            "zerolinecolor": "#EBF0F8"
           },
           "yaxis": {
            "backgroundcolor": "white",
            "gridcolor": "#DFE8F3",
            "gridwidth": 2,
            "linecolor": "#EBF0F8",
            "showbackground": true,
            "ticks": "",
            "zerolinecolor": "#EBF0F8"
           },
           "zaxis": {
            "backgroundcolor": "white",
            "gridcolor": "#DFE8F3",
            "gridwidth": 2,
            "linecolor": "#EBF0F8",
            "showbackground": true,
            "ticks": "",
            "zerolinecolor": "#EBF0F8"
           }
          },
          "shapedefaults": {
           "line": {
            "color": "#2a3f5f"
           }
          },
          "ternary": {
           "aaxis": {
            "gridcolor": "#DFE8F3",
            "linecolor": "#A2B1C6",
            "ticks": ""
           },
           "baxis": {
            "gridcolor": "#DFE8F3",
            "linecolor": "#A2B1C6",
            "ticks": ""
           },
           "bgcolor": "white",
           "caxis": {
            "gridcolor": "#DFE8F3",
            "linecolor": "#A2B1C6",
            "ticks": ""
           }
          },
          "title": {
           "x": 0.05
          },
          "xaxis": {
           "automargin": true,
           "gridcolor": "#EBF0F8",
           "linecolor": "#EBF0F8",
           "ticks": "",
           "title": {
            "standoff": 15
           },
           "zerolinecolor": "#EBF0F8",
           "zerolinewidth": 2
          },
          "yaxis": {
           "automargin": true,
           "gridcolor": "#EBF0F8",
           "linecolor": "#EBF0F8",
           "ticks": "",
           "title": {
            "standoff": 15
           },
           "zerolinecolor": "#EBF0F8",
           "zerolinewidth": 2
          }
         }
        },
        "title": {
         "text": "Intensity vs Voltage"
        },
        "width": 800,
        "yaxis": {
         "title": {
          "text": "Intensity (a.u.)"
         }
        }
       }
      }
     },
     "metadata": {},
     "output_type": "display_data"
    }
   ],
   "source": [
    "V = fit_result['V']\n",
    "F = fit_result['P']\n",
    "sF = fit_result['sP']\n",
    "\n",
    "fig = go.Figure()\n",
    "\n",
    "fig.add_trace(go.Scatter(\n",
    "    x=V,\n",
    "    y=F,\n",
    "    mode='markers',\n",
    "    name='Intensity',\n",
    "    error_y=dict(\n",
    "        type='data',\n",
    "        array=sF,\n",
    "        visible=True\n",
    "    )\n",
    "))\n",
    "\n",
    "fig.update_layout(\n",
    "    #xaxis_title='Voltage (V)',\n",
    "    yaxis_title='Intensity (a.u.)',\n",
    "    title='Intensity vs Voltage',\n",
    "    template='plotly_white',\n",
    "    width=800,\n",
    "    height=600\n",
    ")\n",
    "\n",
    "fig.show()"
   ]
  }
 ],
 "metadata": {
  "kernelspec": {
   "display_name": "Python 3",
   "language": "python",
   "name": "python3"
  },
  "language_info": {
   "codemirror_mode": {
    "name": "ipython",
    "version": 3
   },
   "file_extension": ".py",
   "mimetype": "text/x-python",
   "name": "python",
   "nbconvert_exporter": "python",
   "pygments_lexer": "ipython3",
   "version": "3.13.0"
  }
 },
 "nbformat": 4,
 "nbformat_minor": 5
}
