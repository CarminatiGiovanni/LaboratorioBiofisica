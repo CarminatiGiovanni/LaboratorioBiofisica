{
 "cells": [
  {
   "cell_type": "markdown",
   "metadata": {},
   "source": [
    "# FLUORIMETRIA: spettro emissione\n",
    "\n",
    "si hanno soluzioni di rodamina in acqua consequenzialmente a concentrazioni minori\n",
    "\n",
    "OBIETTIVI:\n",
    "viene variata la concentrazione di rodamina. Si vuole mettere in relazione l'assorbanza di rodamina con l'intensità di fluorescenza\n",
    "\n",
    "$\\epsilon$ = coefficiente estinzione molare rodamina 6G = $116000 M^{-1} cm^{-1} $ \n",
    "\n",
    "$A = \\epsilon C l$"
   ]
  },
  {
   "cell_type": "code",
   "execution_count": 1,
   "metadata": {},
   "outputs": [],
   "source": [
    "from matplotlib import pyplot as plt\n",
    "import numpy as np\n",
    "import pandas as pd\n",
    "import plotly.express as px\n",
    "import os\n",
    "import sys\n",
    "import plotly.graph_objects as go \n",
    "dir_path = os.path.abspath('')\n",
    "sys.path.append(dir_path + '/../')\n",
    "from labbiofisica import Interpolazione, final_val\n",
    "from scipy.optimize import curve_fit"
   ]
  },
  {
   "cell_type": "markdown",
   "metadata": {},
   "source": [
    "Assorbanza:\n",
    "\n",
    "Segue il calcolo delle assorbanze, in laboratorio è stato usato lo spettrofotometro per misurare l'assorbanza del campione iniziale. In seguito la soluzione è stata diluita usando $A_i V_i = A_f V_f$ (valida in quanto $C \\propto A$)"
   ]
  },
  {
   "cell_type": "code",
   "execution_count": 2,
   "metadata": {},
   "outputs": [],
   "source": [
    "λexc = 526 #nm frequenza di eccitazione\n",
    "SIGMA_LAMBDA = 1.5 #nm DICHIARATI DAL COSTRUTTORE\n",
    "\n",
    "# Extracting the relevant columns for plotting\n",
    "WAVELENGHTS = ['λ 5', 'λ 4', 'λ 3', 'λ 2', 'λ 1', 'λ 0.8', 'λ 0.6', 'λ 0.4', 'λ 0.2', 'λ 0.1']\n",
    "INTENSITIES = ['I 5', 'I 4', 'I 3', 'I 2', 'I 1', 'I 0.8', 'I 0.6', 'I 0.4', 'I 0.2', 'I 0.1']\n",
    "# CONCENTRATIONS=[5,4,3,2,1,0.8,0.6,0.4,0.2,0.1]\n",
    "\n",
    "# FUNZIone per estrarre i massimi con fit parabolico\n",
    "def max_fit_parabolic(x, λcenter, a, IMAX): # -a*(x-λcenter)**2 + IMAX\n",
    "    return -a*(x-λcenter)**2 + IMAX"
   ]
  },
  {
   "cell_type": "code",
   "execution_count": 3,
   "metadata": {},
   "outputs": [],
   "source": [
    "# # real rodamina \n",
    "# R6G_emission = pd.read_csv(r'.\\data\\Rhodamine 6G_emission.csv', sep=',')\n",
    "# R6G_absorbance = pd.read_csv(r'.\\data\\Rhodamine 6G_absorbance.csv', sep=',')\n",
    "# R6G_excitation = pd.read_csv(r'.\\data\\Rhodamine 6G_excitation.csv', sep=',')"
   ]
  },
  {
   "cell_type": "markdown",
   "metadata": {},
   "source": [
    "Assorbanza iniziale del campione di rodamina:"
   ]
  },
  {
   "cell_type": "code",
   "execution_count": 4,
   "metadata": {},
   "outputs": [
    {
     "data": {
      "text/html": [
       "<div>\n",
       "<style scoped>\n",
       "    .dataframe tbody tr th:only-of-type {\n",
       "        vertical-align: middle;\n",
       "    }\n",
       "\n",
       "    .dataframe tbody tr th {\n",
       "        vertical-align: top;\n",
       "    }\n",
       "\n",
       "    .dataframe thead th {\n",
       "        text-align: right;\n",
       "    }\n",
       "</style>\n",
       "<table border=\"1\" class=\"dataframe\">\n",
       "  <thead>\n",
       "    <tr style=\"text-align: right;\">\n",
       "      <th></th>\n",
       "      <th>λ</th>\n",
       "      <th>A</th>\n",
       "    </tr>\n",
       "  </thead>\n",
       "  <tbody>\n",
       "    <tr>\n",
       "      <th>223</th>\n",
       "      <td>427.0</td>\n",
       "      <td>0.06933</td>\n",
       "    </tr>\n",
       "    <tr>\n",
       "      <th>224</th>\n",
       "      <td>426.0</td>\n",
       "      <td>0.07005</td>\n",
       "    </tr>\n",
       "    <tr>\n",
       "      <th>225</th>\n",
       "      <td>425.0</td>\n",
       "      <td>0.07090</td>\n",
       "    </tr>\n",
       "    <tr>\n",
       "      <th>226</th>\n",
       "      <td>424.0</td>\n",
       "      <td>0.07070</td>\n",
       "    </tr>\n",
       "    <tr>\n",
       "      <th>227</th>\n",
       "      <td>423.0</td>\n",
       "      <td>0.07054</td>\n",
       "    </tr>\n",
       "  </tbody>\n",
       "</table>\n",
       "</div>"
      ],
      "text/plain": [
       "         λ        A\n",
       "223  427.0  0.06933\n",
       "224  426.0  0.07005\n",
       "225  425.0  0.07090\n",
       "226  424.0  0.07070\n",
       "227  423.0  0.07054"
      ]
     },
     "execution_count": 4,
     "metadata": {},
     "output_type": "execute_result"
    }
   ],
   "source": [
    "# plt.plot(ass_rodamina['λ'],ass_rodamina['A'])\n",
    "\n",
    "# determinazione della concentrazione iniziale da spettro di assorbimento\n",
    "\n",
    "filename = './data/rodamina_ass_05_g1.TXT'\n",
    "\n",
    "ass_rodamina = pd.read_csv(filename,sep='\\t',header=None,skiprows=19,nrows=208) # 630 - 423 nm\n",
    "ass_rodamina.columns = ['λ','A']\n",
    "\n",
    "filename = './data/fondo acqua.TXT'\n",
    "\n",
    "fondo_acqua = pd.read_csv(filename,sep='\\t',header=None,skiprows=19,nrows=251)\n",
    "fondo_acqua.columns = ['λ','A']\n",
    "fondo_acqua = fondo_acqua[(fondo_acqua['λ'] <= 630) & (fondo_acqua['λ'] >= 423)]\n",
    "\n",
    "fondo_acqua.tail()"
   ]
  },
  {
   "cell_type": "code",
   "execution_count": 5,
   "metadata": {},
   "outputs": [
    {
     "data": {
      "application/vnd.plotly.v1+json": {
       "config": {
        "plotlyServerURL": "https://plot.ly"
       },
       "data": [
        {
         "mode": "lines",
         "name": "Signal",
         "opacity": 0.3,
         "type": "scatter",
         "x": {
          "bdata": "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",
          "dtype": "f8"
         },
         "y": {
          "bdata": "feiC+pY5rT+wPbMkQE2tPwh3Z+22C60/ZMxdS8gHrT91sP7PYb6sP/fMkgA1taw/IZOMnIU9rT8yWkdVE0StPyXMtP0rK60/sD2zJEBNrT+rIXGPpQ+tP/vL7snDQq0/BCFZwARurT9HdxA7U+isP5YhjnVxG60/1QRR9wFIrT+BIatbPSetP82SADW1bK0/HVpkO99PrT9xWvCiryCtP1PL1voioa0/o5I6AU2ErT9kdavnpPetP0uTUtDtJa0/zXUaaam8rT+KWS+GcqKtP23n+6nx0q0/fa62Yn/ZrT/vIHam0HmtP1PL1voioa0/zZIANbVsrT/aIJOMnIWtP1wgQfFjzK0/Oq+xS1RvrT/mriXkg56tP+8gdqbQea0/bef7qfHSrT8ZBFYOLbKtP0MEHEKVmq0/eZJ0zeSbrT86r7FLVG+tP32R0JZzKa4/gufewyXHrT+wA+eMKO2tP588LNSa5q0/SzygbMoVrj/7kSIyrOKtP4pZL4Zyoq0/OnXlszwPrj/Brbt5qkOuP4KtEiwOZ64/+1dWmpSCrj/7dDxmoDKuP0Otad5xiq4/SzygbMoVrj+GrG71nPSuPy6QoPgx5q4/isiwijcyrz8mAWpq2VqvP70A++jUla8/2lVI+Um1rz/QuHAgJAuwP8MN+PwwQrA/4WJFDaZhsD8c8PlhhPCwPzc3pics8bA/64uEtpxLsT/4/DBCeLSxPwE1tWytL7I/MUJ4tHHEsj8UlnhA2ZSzP9ejcD0K17M/wkzbv7LStD+hSs0eaAW2P0vl7QinBbc/Ag6hSs0euD9Ip658lue5PwcI5ujxe7s/6udNRSqMvT8IclDCTNu/PxYTm49rQ8E/BK3AkNWtwj+pTZzc71DEPzY8vVKWIcY/+z+H+fICyD/mdFlMbD7KPwzNdRppqcw/GXPXEvJBzz+Z02UxsfnQP2nGounsZNI/xQPKplzh0z817zhFR3LVP2iz6nO1Fdc/TFRvDWyV2D/4ja89syTaP2lSCrq9pNs/liGOdXEb3T/GounsZHDePyOERxtHrN8/xsTm49pQ4D/kLOxph7/gPzgVqTC2EOE/s82N6QlL4T/l8h/Sb1/hP9v5fmq8dOE/d9Zuu9Bc4T+fH0YIjzbhP3FV2XdF8OA/z/dT46Wb4D9nuAGfH0bgPwNgPIOG/t8/bhea6zTS3j9mTpfFxObdP2u3XWiu09w/K9mxEYjX2z9QcLGiBtPaPw4yychZ2Nk/xjNo6J/g2D9ftTLhl/rXP2LzcW2oGNc/C2MLQQ5K1j8plltaDYnVPyKJXkax3NQ/9dvXgXNG1D+6TiMtlbfTP3LhQEgWMNM/63O1FfvL0j/qCUs8oGzSPxBAahMn99E/2XxcGyrG0T/ZmULnNXbRP0wao3VUNdE/MnctIR/00D8PtAJDVrfQP1itTPilftA/7DTSUnk70D9HVRNE3QfQPyHIQQkzbc8/OBCSBUzgzj/NO07RkVzOP8DnhxHCo80/KH6MuWsJzT8vo1huaTXMPyxIMxZNZ8s//N6mP/uRyj9XYMjqVs/JP6PMBplk5Mg/HM78ag4QyD9RiIBDqFLHP3/7OnDOiMY/ZyeDo+TVxT89fm/Tn/3EPxqjdVQ1QcQ/ZeQs7GmHwz/4iJgSSfTCPxnKiXYVUsI/OQt72uGvwT81DB8RUyLBP5p3nKIjucA/8UbmkT8YwD/1nPS+8bW/P+IBZVOu8L4/ITzaOGItvj+jkjoBTYS9P3e+nxov3bw/W7G/7J48vD/PMSB7vfu7P5BrQ8U4f7s/08H6P4f5uj/Opbiq7Lu6P/rQBfUtc7o/5QrvchHfuT/I0ocuqG+5PxnFckurIbk/wcWKGkzDuD8bDeAtkKC4P86N6QlLPLg/mUf+YOC5tz+9APvo1JW3P/GdmPViKLc/9+RhodY0tz/rc7UV+8u2P94CCYofY7Y/SfQyiuWWtj9Rg2kYPiK2P6N1VDVB1LU/z6Chf4KLtT8+6Nms+ly1P4Ehq1s9J7U/uvdwyXGntD/ir8ka9RC1P4NMMnIW9rQ/jukJSzygtD8vaYzWUdW0P8AhVKnZA7U//1vJjo1AtD+rWz0nvW+0P4z4Tsx6MbQ/001iEFg5tD/TTWIQWDm0PwXAeAYN/bM/L6NYbmk1tD9b64uEtpyzPwfOGVHaG7Q/M9yAzw8jtD/129eBc0a0P8SUSKKXUbQ/pTFaR1UTtD8=",
          "dtype": "f8"
         }
        },
        {
         "mode": "lines",
         "name": "Background",
         "opacity": 0.3,
         "type": "scatter",
         "x": {
          "bdata": "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",
          "dtype": "f8"
         },
         "y": {
          "bdata": "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",
          "dtype": "f8"
         }
        },
        {
         "line": {
          "width": 4
         },
         "mode": "lines",
         "name": "Spectrum Rhodamine 6G",
         "type": "scatter",
         "x": {
          "bdata": "AAAAAACwg0AAAAAAAKiDQAAAAAAAoINAAAAAAACYg0AAAAAAAJCDQAAAAAAAiINAAAAAAACAg0AAAAAAAHiDQAAAAAAAcINAAAAAAABog0AAAAAAAGCDQAAAAAAAWINAAAAAAABQg0AAAAAAAEiDQAAAAAAAQINAAAAAAAA4g0AAAAAAADCDQAAAAAAAKINAAAAAAAAgg0AAAAAAABiDQAAAAAAAEINAAAAAAAAIg0AAAAAAAACDQAAAAAAA+IJAAAAAAADwgkAAAAAAAOiCQAAAAAAA4IJAAAAAAADYgkAAAAAAANCCQAAAAAAAyIJAAAAAAADAgkAAAAAAALiCQAAAAAAAsIJAAAAAAACogkAAAAAAAKCCQAAAAAAAmIJAAAAAAACQgkAAAAAAAIiCQAAAAAAAgIJAAAAAAAB4gkAAAAAAAHCCQAAAAAAAaIJAAAAAAABggkAAAAAAAFiCQAAAAAAAUIJAAAAAAABIgkAAAAAAAECCQAAAAAAAOIJAAAAAAAAwgkAAAAAAACiCQAAAAAAAIIJAAAAAAAAYgkAAAAAAABCCQAAAAAAACIJAAAAAAAAAgkAAAAAAAPiBQAAAAAAA8IFAAAAAAADogUAAAAAAAOCBQAAAAAAA2IFAAAAAAADQgUAAAAAAAMiBQAAAAAAAwIFAAAAAAAC4gUAAAAAAALCBQAAAAAAAqIFAAAAAAACggUAAAAAAAJiBQAAAAAAAkIFAAAAAAACIgUAAAAAAAICBQAAAAAAAeIFAAAAAAABwgUAAAAAAAGiBQAAAAAAAYIFAAAAAAABYgUAAAAAAAFCBQAAAAAAASIFAAAAAAABAgUAAAAAAADiBQAAAAAAAMIFAAAAAAAAogUAAAAAAACCBQAAAAAAAGIFAAAAAAAAQgUAAAAAAAAiBQAAAAAAAAIFAAAAAAAD4gEAAAAAAAPCAQAAAAAAA6IBAAAAAAADggEAAAAAAANiAQAAAAAAA0IBAAAAAAADIgEAAAAAAAMCAQAAAAAAAuIBAAAAAAACwgEAAAAAAAKiAQAAAAAAAoIBAAAAAAACYgEAAAAAAAJCAQAAAAAAAiIBAAAAAAACAgEAAAAAAAHiAQAAAAAAAcIBAAAAAAABogEAAAAAAAGCAQAAAAAAAWIBAAAAAAABQgEAAAAAAAEiAQAAAAAAAQIBAAAAAAAA4gEAAAAAAADCAQAAAAAAAKIBAAAAAAAAggEAAAAAAABiAQAAAAAAAEIBAAAAAAAAIgEAAAAAAAACAQAAAAAAA8H9AAAAAAADgf0AAAAAAANB/QAAAAAAAwH9AAAAAAACwf0AAAAAAAKB/QAAAAAAAkH9AAAAAAACAf0AAAAAAAHB/QAAAAAAAYH9AAAAAAABQf0AAAAAAAEB/QAAAAAAAMH9AAAAAAAAgf0AAAAAAABB/QAAAAAAAAH9AAAAAAADwfkAAAAAAAOB+QAAAAAAA0H5AAAAAAADAfkAAAAAAALB+QAAAAAAAoH5AAAAAAACQfkAAAAAAAIB+QAAAAAAAcH5AAAAAAABgfkAAAAAAAFB+QAAAAAAAQH5AAAAAAAAwfkAAAAAAACB+QAAAAAAAEH5AAAAAAAAAfkAAAAAAAPB9QAAAAAAA4H1AAAAAAADQfUAAAAAAAMB9QAAAAAAAsH1AAAAAAACgfUAAAAAAAJB9QAAAAAAAgH1AAAAAAABwfUAAAAAAAGB9QAAAAAAAUH1AAAAAAABAfUAAAAAAADB9QAAAAAAAIH1AAAAAAAAQfUAAAAAAAAB9QAAAAAAA8HxAAAAAAADgfEAAAAAAANB8QAAAAAAAwHxAAAAAAACwfEAAAAAAAKB8QAAAAAAAkHxAAAAAAACAfEAAAAAAAHB8QAAAAAAAYHxAAAAAAABQfEAAAAAAAEB8QAAAAAAAMHxAAAAAAAAgfEAAAAAAABB8QAAAAAAAAHxAAAAAAADwe0AAAAAAAOB7QAAAAAAA0HtAAAAAAADAe0AAAAAAALB7QAAAAAAAoHtAAAAAAACQe0AAAAAAAIB7QAAAAAAAcHtAAAAAAABge0AAAAAAAFB7QAAAAAAAQHtAAAAAAAAwe0AAAAAAACB7QAAAAAAAEHtAAAAAAAAAe0AAAAAAAPB6QAAAAAAA4HpAAAAAAADQekAAAAAAAMB6QAAAAAAAsHpAAAAAAACgekAAAAAAAJB6QAAAAAAAgHpAAAAAAABwekA=",
          "dtype": "f8"
         },
         "y": {
          "bdata": "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",
          "dtype": "f8"
         }
        }
       ],
       "layout": {
        "font": {
         "size": 14
        },
        "height": 600,
        "legend": {
         "x": 1,
         "xanchor": "right",
         "y": 1,
         "yanchor": "top"
        },
        "template": {
         "data": {
          "bar": [
           {
            "error_x": {
             "color": "#2a3f5f"
            },
            "error_y": {
             "color": "#2a3f5f"
            },
            "marker": {
             "line": {
              "color": "#E5ECF6",
              "width": 0.5
             },
             "pattern": {
              "fillmode": "overlay",
              "size": 10,
              "solidity": 0.2
             }
            },
            "type": "bar"
           }
          ],
          "barpolar": [
           {
            "marker": {
             "line": {
              "color": "#E5ECF6",
              "width": 0.5
             },
             "pattern": {
              "fillmode": "overlay",
              "size": 10,
              "solidity": 0.2
             }
            },
            "type": "barpolar"
           }
          ],
          "carpet": [
           {
            "aaxis": {
             "endlinecolor": "#2a3f5f",
             "gridcolor": "white",
             "linecolor": "white",
             "minorgridcolor": "white",
             "startlinecolor": "#2a3f5f"
            },
            "baxis": {
             "endlinecolor": "#2a3f5f",
             "gridcolor": "white",
             "linecolor": "white",
             "minorgridcolor": "white",
             "startlinecolor": "#2a3f5f"
            },
            "type": "carpet"
           }
          ],
          "choropleth": [
           {
            "colorbar": {
             "outlinewidth": 0,
             "ticks": ""
            },
            "type": "choropleth"
           }
          ],
          "contour": [
           {
            "colorbar": {
             "outlinewidth": 0,
             "ticks": ""
            },
            "colorscale": [
             [
              0,
              "#0d0887"
             ],
             [
              0.1111111111111111,
              "#46039f"
             ],
             [
              0.2222222222222222,
              "#7201a8"
             ],
             [
              0.3333333333333333,
              "#9c179e"
             ],
             [
              0.4444444444444444,
              "#bd3786"
             ],
             [
              0.5555555555555556,
              "#d8576b"
             ],
             [
              0.6666666666666666,
              "#ed7953"
             ],
             [
              0.7777777777777778,
              "#fb9f3a"
             ],
             [
              0.8888888888888888,
              "#fdca26"
             ],
             [
              1,
              "#f0f921"
             ]
            ],
            "type": "contour"
           }
          ],
          "contourcarpet": [
           {
            "colorbar": {
             "outlinewidth": 0,
             "ticks": ""
            },
            "type": "contourcarpet"
           }
          ],
          "heatmap": [
           {
            "colorbar": {
             "outlinewidth": 0,
             "ticks": ""
            },
            "colorscale": [
             [
              0,
              "#0d0887"
             ],
             [
              0.1111111111111111,
              "#46039f"
             ],
             [
              0.2222222222222222,
              "#7201a8"
             ],
             [
              0.3333333333333333,
              "#9c179e"
             ],
             [
              0.4444444444444444,
              "#bd3786"
             ],
             [
              0.5555555555555556,
              "#d8576b"
             ],
             [
              0.6666666666666666,
              "#ed7953"
             ],
             [
              0.7777777777777778,
              "#fb9f3a"
             ],
             [
              0.8888888888888888,
              "#fdca26"
             ],
             [
              1,
              "#f0f921"
             ]
            ],
            "type": "heatmap"
           }
          ],
          "histogram": [
           {
            "marker": {
             "pattern": {
              "fillmode": "overlay",
              "size": 10,
              "solidity": 0.2
             }
            },
            "type": "histogram"
           }
          ],
          "histogram2d": [
           {
            "colorbar": {
             "outlinewidth": 0,
             "ticks": ""
            },
            "colorscale": [
             [
              0,
              "#0d0887"
             ],
             [
              0.1111111111111111,
              "#46039f"
             ],
             [
              0.2222222222222222,
              "#7201a8"
             ],
             [
              0.3333333333333333,
              "#9c179e"
             ],
             [
              0.4444444444444444,
              "#bd3786"
             ],
             [
              0.5555555555555556,
              "#d8576b"
             ],
             [
              0.6666666666666666,
              "#ed7953"
             ],
             [
              0.7777777777777778,
              "#fb9f3a"
             ],
             [
              0.8888888888888888,
              "#fdca26"
             ],
             [
              1,
              "#f0f921"
             ]
            ],
            "type": "histogram2d"
           }
          ],
          "histogram2dcontour": [
           {
            "colorbar": {
             "outlinewidth": 0,
             "ticks": ""
            },
            "colorscale": [
             [
              0,
              "#0d0887"
             ],
             [
              0.1111111111111111,
              "#46039f"
             ],
             [
              0.2222222222222222,
              "#7201a8"
             ],
             [
              0.3333333333333333,
              "#9c179e"
             ],
             [
              0.4444444444444444,
              "#bd3786"
             ],
             [
              0.5555555555555556,
              "#d8576b"
             ],
             [
              0.6666666666666666,
              "#ed7953"
             ],
             [
              0.7777777777777778,
              "#fb9f3a"
             ],
             [
              0.8888888888888888,
              "#fdca26"
             ],
             [
              1,
              "#f0f921"
             ]
            ],
            "type": "histogram2dcontour"
           }
          ],
          "mesh3d": [
           {
            "colorbar": {
             "outlinewidth": 0,
             "ticks": ""
            },
            "type": "mesh3d"
           }
          ],
          "parcoords": [
           {
            "line": {
             "colorbar": {
              "outlinewidth": 0,
              "ticks": ""
             }
            },
            "type": "parcoords"
           }
          ],
          "pie": [
           {
            "automargin": true,
            "type": "pie"
           }
          ],
          "scatter": [
           {
            "fillpattern": {
             "fillmode": "overlay",
             "size": 10,
             "solidity": 0.2
            },
            "type": "scatter"
           }
          ],
          "scatter3d": [
           {
            "line": {
             "colorbar": {
              "outlinewidth": 0,
              "ticks": ""
             }
            },
            "marker": {
             "colorbar": {
              "outlinewidth": 0,
              "ticks": ""
             }
            },
            "type": "scatter3d"
           }
          ],
          "scattercarpet": [
           {
            "marker": {
             "colorbar": {
              "outlinewidth": 0,
              "ticks": ""
             }
            },
            "type": "scattercarpet"
           }
          ],
          "scattergeo": [
           {
            "marker": {
             "colorbar": {
              "outlinewidth": 0,
              "ticks": ""
             }
            },
            "type": "scattergeo"
           }
          ],
          "scattergl": [
           {
            "marker": {
             "colorbar": {
              "outlinewidth": 0,
              "ticks": ""
             }
            },
            "type": "scattergl"
           }
          ],
          "scattermap": [
           {
            "marker": {
             "colorbar": {
              "outlinewidth": 0,
              "ticks": ""
             }
            },
            "type": "scattermap"
           }
          ],
          "scattermapbox": [
           {
            "marker": {
             "colorbar": {
              "outlinewidth": 0,
              "ticks": ""
             }
            },
            "type": "scattermapbox"
           }
          ],
          "scatterpolar": [
           {
            "marker": {
             "colorbar": {
              "outlinewidth": 0,
              "ticks": ""
             }
            },
            "type": "scatterpolar"
           }
          ],
          "scatterpolargl": [
           {
            "marker": {
             "colorbar": {
              "outlinewidth": 0,
              "ticks": ""
             }
            },
            "type": "scatterpolargl"
           }
          ],
          "scatterternary": [
           {
            "marker": {
             "colorbar": {
              "outlinewidth": 0,
              "ticks": ""
             }
            },
            "type": "scatterternary"
           }
          ],
          "surface": [
           {
            "colorbar": {
             "outlinewidth": 0,
             "ticks": ""
            },
            "colorscale": [
             [
              0,
              "#0d0887"
             ],
             [
              0.1111111111111111,
              "#46039f"
             ],
             [
              0.2222222222222222,
              "#7201a8"
             ],
             [
              0.3333333333333333,
              "#9c179e"
             ],
             [
              0.4444444444444444,
              "#bd3786"
             ],
             [
              0.5555555555555556,
              "#d8576b"
             ],
             [
              0.6666666666666666,
              "#ed7953"
             ],
             [
              0.7777777777777778,
              "#fb9f3a"
             ],
             [
              0.8888888888888888,
              "#fdca26"
             ],
             [
              1,
              "#f0f921"
             ]
            ],
            "type": "surface"
           }
          ],
          "table": [
           {
            "cells": {
             "fill": {
              "color": "#EBF0F8"
             },
             "line": {
              "color": "white"
             }
            },
            "header": {
             "fill": {
              "color": "#C8D4E3"
             },
             "line": {
              "color": "white"
             }
            },
            "type": "table"
           }
          ]
         },
         "layout": {
          "annotationdefaults": {
           "arrowcolor": "#2a3f5f",
           "arrowhead": 0,
           "arrowwidth": 1
          },
          "autotypenumbers": "strict",
          "coloraxis": {
           "colorbar": {
            "outlinewidth": 0,
            "ticks": ""
           }
          },
          "colorscale": {
           "diverging": [
            [
             0,
             "#8e0152"
            ],
            [
             0.1,
             "#c51b7d"
            ],
            [
             0.2,
             "#de77ae"
            ],
            [
             0.3,
             "#f1b6da"
            ],
            [
             0.4,
             "#fde0ef"
            ],
            [
             0.5,
             "#f7f7f7"
            ],
            [
             0.6,
             "#e6f5d0"
            ],
            [
             0.7,
             "#b8e186"
            ],
            [
             0.8,
             "#7fbc41"
            ],
            [
             0.9,
             "#4d9221"
            ],
            [
             1,
             "#276419"
            ]
           ],
           "sequential": [
            [
             0,
             "#0d0887"
            ],
            [
             0.1111111111111111,
             "#46039f"
            ],
            [
             0.2222222222222222,
             "#7201a8"
            ],
            [
             0.3333333333333333,
             "#9c179e"
            ],
            [
             0.4444444444444444,
             "#bd3786"
            ],
            [
             0.5555555555555556,
             "#d8576b"
            ],
            [
             0.6666666666666666,
             "#ed7953"
            ],
            [
             0.7777777777777778,
             "#fb9f3a"
            ],
            [
             0.8888888888888888,
             "#fdca26"
            ],
            [
             1,
             "#f0f921"
            ]
           ],
           "sequentialminus": [
            [
             0,
             "#0d0887"
            ],
            [
             0.1111111111111111,
             "#46039f"
            ],
            [
             0.2222222222222222,
             "#7201a8"
            ],
            [
             0.3333333333333333,
             "#9c179e"
            ],
            [
             0.4444444444444444,
             "#bd3786"
            ],
            [
             0.5555555555555556,
             "#d8576b"
            ],
            [
             0.6666666666666666,
             "#ed7953"
            ],
            [
             0.7777777777777778,
             "#fb9f3a"
            ],
            [
             0.8888888888888888,
             "#fdca26"
            ],
            [
             1,
             "#f0f921"
            ]
           ]
          },
          "colorway": [
           "#636efa",
           "#EF553B",
           "#00cc96",
           "#ab63fa",
           "#FFA15A",
           "#19d3f3",
           "#FF6692",
           "#B6E880",
           "#FF97FF",
           "#FECB52"
          ],
          "font": {
           "color": "#2a3f5f"
          },
          "geo": {
           "bgcolor": "white",
           "lakecolor": "white",
           "landcolor": "#E5ECF6",
           "showlakes": true,
           "showland": true,
           "subunitcolor": "white"
          },
          "hoverlabel": {
           "align": "left"
          },
          "hovermode": "closest",
          "mapbox": {
           "style": "light"
          },
          "paper_bgcolor": "white",
          "plot_bgcolor": "#E5ECF6",
          "polar": {
           "angularaxis": {
            "gridcolor": "white",
            "linecolor": "white",
            "ticks": ""
           },
           "bgcolor": "#E5ECF6",
           "radialaxis": {
            "gridcolor": "white",
            "linecolor": "white",
            "ticks": ""
           }
          },
          "scene": {
           "xaxis": {
            "backgroundcolor": "#E5ECF6",
            "gridcolor": "white",
            "gridwidth": 2,
            "linecolor": "white",
            "showbackground": true,
            "ticks": "",
            "zerolinecolor": "white"
           },
           "yaxis": {
            "backgroundcolor": "#E5ECF6",
            "gridcolor": "white",
            "gridwidth": 2,
            "linecolor": "white",
            "showbackground": true,
            "ticks": "",
            "zerolinecolor": "white"
           },
           "zaxis": {
            "backgroundcolor": "#E5ECF6",
            "gridcolor": "white",
            "gridwidth": 2,
            "linecolor": "white",
            "showbackground": true,
            "ticks": "",
            "zerolinecolor": "white"
           }
          },
          "shapedefaults": {
           "line": {
            "color": "#2a3f5f"
           }
          },
          "ternary": {
           "aaxis": {
            "gridcolor": "white",
            "linecolor": "white",
            "ticks": ""
           },
           "baxis": {
            "gridcolor": "white",
            "linecolor": "white",
            "ticks": ""
           },
           "bgcolor": "#E5ECF6",
           "caxis": {
            "gridcolor": "white",
            "linecolor": "white",
            "ticks": ""
           }
          },
          "title": {
           "x": 0.05
          },
          "xaxis": {
           "automargin": true,
           "gridcolor": "white",
           "linecolor": "white",
           "ticks": "",
           "title": {
            "standoff": 15
           },
           "zerolinecolor": "white",
           "zerolinewidth": 2
          },
          "yaxis": {
           "automargin": true,
           "gridcolor": "white",
           "linecolor": "white",
           "ticks": "",
           "title": {
            "standoff": 15
           },
           "zerolinecolor": "white",
           "zerolinewidth": 2
          }
         }
        },
        "width": 800,
        "xaxis": {
         "title": {
          "text": "Wavelength (nm)"
         }
        },
        "yaxis": {
         "title": {
          "text": "Absorbance"
         }
        }
       }
      }
     },
     "metadata": {},
     "output_type": "display_data"
    }
   ],
   "source": [
    "fig = go.Figure()\n",
    "\n",
    "# Add the measured absorbance spectrum\n",
    "fig.add_trace(go.Scatter(\n",
    "    x=ass_rodamina['λ'],\n",
    "    y=ass_rodamina['A'],\n",
    "    mode='lines',\n",
    "    name='Signal',\n",
    "    opacity=0.3\n",
    "))\n",
    "\n",
    "fig.add_trace(go.Scatter(\n",
    "    x=fondo_acqua['λ'],\n",
    "    y=fondo_acqua['A'],\n",
    "    mode='lines',\n",
    "    name='Background',\n",
    "    opacity=0.3\n",
    "))\n",
    "\n",
    "fig.add_trace(go.Scatter(\n",
    "    x=fondo_acqua['λ'],\n",
    "    y=ass_rodamina['A'] - fondo_acqua['A'],\n",
    "    mode='lines',\n",
    "    name='Spectrum Rhodamine 6G',\n",
    "    line=dict(width=4)  # Make the line thicker\n",
    "))\n",
    "\n",
    "\n",
    "# Update layout for the plot\n",
    "fig.update_layout(\n",
    "    # title='Absorbance Spectrum of Rodamine',\n",
    "    xaxis_title='Wavelength (nm)',\n",
    "    yaxis_title='Absorbance',\n",
    "    legend=dict(x=1, y=1, xanchor='right', yanchor='top'),  # Position legend at the top right\n",
    "    font=dict(size=14),\n",
    "    height=600,\n",
    "    width=800\n",
    ")\n",
    "\n",
    "fig.write_html(dir_path +r\"\\html\\absorbance_spectrum.html\")\n",
    "fig.write_image(dir_path + r\"\\images\\absorbance_spectrum.png\")\n",
    "fig.show()"
   ]
  },
  {
   "cell_type": "markdown",
   "metadata": {},
   "source": [
    "#### fit per determinare il massimo"
   ]
  },
  {
   "cell_type": "code",
   "execution_count": 6,
   "metadata": {},
   "outputs": [
    {
     "name": "stdout",
     "output_type": "stream",
     "text": [
      "Picco di assorbimento A:  0.48 ± 0.0003 \n",
      "0.4800416799849726 0.0003353431037236748\n"
     ]
    }
   ],
   "source": [
    "λ_ass = ass_rodamina['λ'].to_numpy()\n",
    "A_rod = ass_rodamina['A'].to_numpy() - fondo_acqua['A'].to_numpy()\n",
    "\n",
    "l0 = ass_rodamina['A'].idxmax()\n",
    "\n",
    "popt, pcov = curve_fit(max_fit_parabolic, λ_ass[l0-5:l0+5], A_rod[l0-5:l0+5], p0=[530, 2, 0.5])\n",
    "λcenter, a, A = popt\n",
    "error_λcenter, error_a, error_A = np.sqrt(np.diag(pcov))\n",
    "\n",
    "print('Picco di assorbimento A: ',final_val(A,error_A,decimals=4))\n",
    "print(A,error_A)"
   ]
  },
  {
   "cell_type": "code",
   "execution_count": 7,
   "metadata": {},
   "outputs": [
    {
     "name": "stdout",
     "output_type": "stream",
     "text": [
      "ASSORBANZA INIZIALE:\n",
      "a0: 0.48 ± 0.0003 μM\n"
     ]
    }
   ],
   "source": [
    "A0 = A\n",
    "sigmaA0 = error_A\n",
    "print('ASSORBANZA INIZIALE:')\n",
    "print('a0:',final_val(A0,sigmaA0,decimals=4,udm='μM'))"
   ]
  },
  {
   "cell_type": "markdown",
   "metadata": {},
   "source": [
    "determinazione di tutte le concentrazioni di cui è stato fatto lo spettro di fluorescenza:\n",
    "\n",
    "in laboratorio è stata raccolta la misura di:\n",
    "\n",
    "- $V_{in}$ = volume estratto dalla soluzione precedente\n",
    "- $V_{fin}$ = volume estratto dalla soluzione precedente + tampone (acqua)"
   ]
  },
  {
   "cell_type": "code",
   "execution_count": 8,
   "metadata": {},
   "outputs": [
    {
     "data": {
      "text/html": [
       "<div>\n",
       "<style scoped>\n",
       "    .dataframe tbody tr th:only-of-type {\n",
       "        vertical-align: middle;\n",
       "    }\n",
       "\n",
       "    .dataframe tbody tr th {\n",
       "        vertical-align: top;\n",
       "    }\n",
       "\n",
       "    .dataframe thead th {\n",
       "        text-align: right;\n",
       "    }\n",
       "</style>\n",
       "<table border=\"1\" class=\"dataframe\">\n",
       "  <thead>\n",
       "    <tr style=\"text-align: right;\">\n",
       "      <th></th>\n",
       "      <th>0</th>\n",
       "      <th>1</th>\n",
       "      <th>2</th>\n",
       "      <th>3</th>\n",
       "      <th>4</th>\n",
       "      <th>5</th>\n",
       "      <th>6</th>\n",
       "      <th>7</th>\n",
       "      <th>8</th>\n",
       "    </tr>\n",
       "  </thead>\n",
       "  <tbody>\n",
       "    <tr>\n",
       "      <th>Vi (muL)</th>\n",
       "      <td>2210</td>\n",
       "      <td>2252</td>\n",
       "      <td>2000</td>\n",
       "      <td>1511</td>\n",
       "      <td>2423</td>\n",
       "      <td>2251</td>\n",
       "      <td>2002</td>\n",
       "      <td>1497</td>\n",
       "      <td>1504</td>\n",
       "    </tr>\n",
       "    <tr>\n",
       "      <th>Vf (muL)</th>\n",
       "      <td>3008</td>\n",
       "      <td>3015</td>\n",
       "      <td>3015</td>\n",
       "      <td>3016</td>\n",
       "      <td>3010</td>\n",
       "      <td>3002</td>\n",
       "      <td>3000</td>\n",
       "      <td>2994</td>\n",
       "      <td>3003</td>\n",
       "    </tr>\n",
       "  </tbody>\n",
       "</table>\n",
       "</div>"
      ],
      "text/plain": [
       "             0     1     2     3     4     5     6     7     8\n",
       "Vi (muL)  2210  2252  2000  1511  2423  2251  2002  1497  1504\n",
       "Vf (muL)  3008  3015  3015  3016  3010  3002  3000  2994  3003"
      ]
     },
     "metadata": {},
     "output_type": "display_data"
    }
   ],
   "source": [
    "from IPython.display import display_html\n",
    "\n",
    "filename = './data/concentrazioni_rodamina.csv'\n",
    "\n",
    "volumi = pd.read_csv(filename,sep=',')\n",
    "volumi = volumi[['Vi (muL)','Vf (muL)']]\n",
    "# Display the DataFrame horizontally\n",
    "display(volumi.T)"
   ]
  },
  {
   "cell_type": "code",
   "execution_count": 9,
   "metadata": {},
   "outputs": [
    {
     "data": {
      "text/html": [
       "<div>\n",
       "<style scoped>\n",
       "    .dataframe tbody tr th:only-of-type {\n",
       "        vertical-align: middle;\n",
       "    }\n",
       "\n",
       "    .dataframe tbody tr th {\n",
       "        vertical-align: top;\n",
       "    }\n",
       "\n",
       "    .dataframe thead th {\n",
       "        text-align: right;\n",
       "    }\n",
       "</style>\n",
       "<table border=\"1\" class=\"dataframe\">\n",
       "  <thead>\n",
       "    <tr style=\"text-align: right;\">\n",
       "      <th></th>\n",
       "      <th>0</th>\n",
       "      <th>1</th>\n",
       "      <th>2</th>\n",
       "      <th>3</th>\n",
       "      <th>4</th>\n",
       "      <th>5</th>\n",
       "      <th>6</th>\n",
       "      <th>7</th>\n",
       "      <th>8</th>\n",
       "      <th>9</th>\n",
       "    </tr>\n",
       "  </thead>\n",
       "  <tbody>\n",
       "    <tr>\n",
       "      <th>A</th>\n",
       "      <td>0.480042</td>\n",
       "      <td>0.352690</td>\n",
       "      <td>0.263436</td>\n",
       "      <td>0.174750</td>\n",
       "      <td>0.087549</td>\n",
       "      <td>0.070475</td>\n",
       "      <td>0.052845</td>\n",
       "      <td>0.035265</td>\n",
       "      <td>0.017633</td>\n",
       "      <td>0.008831</td>\n",
       "    </tr>\n",
       "    <tr>\n",
       "      <th>σA</th>\n",
       "      <td>0.000335</td>\n",
       "      <td>0.000316</td>\n",
       "      <td>0.000278</td>\n",
       "      <td>0.000212</td>\n",
       "      <td>0.000124</td>\n",
       "      <td>0.000107</td>\n",
       "      <td>0.000085</td>\n",
       "      <td>0.000061</td>\n",
       "      <td>0.000033</td>\n",
       "      <td>0.000018</td>\n",
       "    </tr>\n",
       "  </tbody>\n",
       "</table>\n",
       "</div>"
      ],
      "text/plain": [
       "           0         1         2         3         4         5         6  \\\n",
       "A   0.480042  0.352690  0.263436  0.174750  0.087549  0.070475  0.052845   \n",
       "σA  0.000335  0.000316  0.000278  0.000212  0.000124  0.000107  0.000085   \n",
       "\n",
       "           7         8         9  \n",
       "A   0.035265  0.017633  0.008831  \n",
       "σA  0.000061  0.000033  0.000018  "
      ]
     },
     "metadata": {},
     "output_type": "display_data"
    }
   ],
   "source": [
    "#Cf Vf = Ci Vi -> Cf = Ci Vi / Vf\n",
    "# sigma V = 1 μL\n",
    "ASS = [A0]\n",
    "SIGMA_ASS = [sigmaA0]\n",
    "sigmaV = 1 # μL, comodo perchè si ha sempre a che fare con rapporti\n",
    "for idx, row in enumerate(volumi.iterrows()):\n",
    "    vi, vf = row[1]['Vi (muL)'], row[1]['Vf (muL)']\n",
    "    An = ASS[idx] * vi / vf\n",
    "    sAn = An * np.sqrt((sigmaV/vi)**2 + (sigmaV/vf)**2 + (SIGMA_ASS[idx]/ASS[idx])**2) \n",
    "    ASS.append(An)\n",
    "    SIGMA_ASS.append(sAn)\n",
    "\n",
    "ASS = np.array(ASS)\n",
    "SIGMA_ASS = np.array(SIGMA_ASS)\n",
    "\n",
    "# Create a pandas DataFrame to display ASS and SIGMA_ASS\n",
    "assorbance_df = pd.DataFrame({\n",
    "    'A': ASS,\n",
    "    'σA': SIGMA_ASS\n",
    "})\n",
    "display(assorbance_df.T)"
   ]
  },
  {
   "cell_type": "markdown",
   "metadata": {},
   "source": [
    "ora che sono noti i valori delle concentrazioni dei vari campioni di cui è stata fatto lo spettro di fluorescenza si importano i veri e propri spettri di fluorescenza"
   ]
  },
  {
   "cell_type": "code",
   "execution_count": 10,
   "metadata": {},
   "outputs": [
    {
     "data": {
      "text/html": [
       "<div>\n",
       "<style scoped>\n",
       "    .dataframe tbody tr th:only-of-type {\n",
       "        vertical-align: middle;\n",
       "    }\n",
       "\n",
       "    .dataframe tbody tr th {\n",
       "        vertical-align: top;\n",
       "    }\n",
       "\n",
       "    .dataframe thead th {\n",
       "        text-align: right;\n",
       "    }\n",
       "</style>\n",
       "<table border=\"1\" class=\"dataframe\">\n",
       "  <thead>\n",
       "    <tr style=\"text-align: right;\">\n",
       "      <th></th>\n",
       "      <th>λ 5</th>\n",
       "      <th>I 5</th>\n",
       "      <th>λ 4</th>\n",
       "      <th>I 4</th>\n",
       "      <th>no λ 4</th>\n",
       "      <th>no I 4</th>\n",
       "      <th>λ 3</th>\n",
       "      <th>I 3</th>\n",
       "      <th>λ 2</th>\n",
       "      <th>I 2</th>\n",
       "      <th>...</th>\n",
       "      <th>λ 0.8</th>\n",
       "      <th>I 0.8</th>\n",
       "      <th>λ 0.6</th>\n",
       "      <th>I 0.6</th>\n",
       "      <th>λ 0.4</th>\n",
       "      <th>I 0.4</th>\n",
       "      <th>λ 0.2</th>\n",
       "      <th>I 0.2</th>\n",
       "      <th>λ 0.1</th>\n",
       "      <th>I 0.1</th>\n",
       "    </tr>\n",
       "  </thead>\n",
       "  <tbody>\n",
       "    <tr>\n",
       "      <th>112</th>\n",
       "      <td>646.950012</td>\n",
       "      <td>29.311554</td>\n",
       "      <td>646.950012</td>\n",
       "      <td>25.126436</td>\n",
       "      <td>646.950012</td>\n",
       "      <td>29.019300</td>\n",
       "      <td>646.950012</td>\n",
       "      <td>21.187140</td>\n",
       "      <td>646.950012</td>\n",
       "      <td>14.265793</td>\n",
       "      <td>...</td>\n",
       "      <td>646.950012</td>\n",
       "      <td>4.883633</td>\n",
       "      <td>646.950012</td>\n",
       "      <td>3.315377</td>\n",
       "      <td>646.950012</td>\n",
       "      <td>1.589167</td>\n",
       "      <td>646.950012</td>\n",
       "      <td>0.555993</td>\n",
       "      <td>646.950012</td>\n",
       "      <td>0.351009</td>\n",
       "    </tr>\n",
       "    <tr>\n",
       "      <th>113</th>\n",
       "      <td>647.969971</td>\n",
       "      <td>28.124762</td>\n",
       "      <td>647.969971</td>\n",
       "      <td>23.946281</td>\n",
       "      <td>647.969971</td>\n",
       "      <td>27.984386</td>\n",
       "      <td>647.969971</td>\n",
       "      <td>20.061258</td>\n",
       "      <td>647.969971</td>\n",
       "      <td>13.714191</td>\n",
       "      <td>...</td>\n",
       "      <td>647.969971</td>\n",
       "      <td>4.719029</td>\n",
       "      <td>647.969971</td>\n",
       "      <td>3.173567</td>\n",
       "      <td>647.969971</td>\n",
       "      <td>1.429973</td>\n",
       "      <td>647.969971</td>\n",
       "      <td>0.563877</td>\n",
       "      <td>647.969971</td>\n",
       "      <td>0.378182</td>\n",
       "    </tr>\n",
       "    <tr>\n",
       "      <th>114</th>\n",
       "      <td>648.840027</td>\n",
       "      <td>26.902561</td>\n",
       "      <td>648.840027</td>\n",
       "      <td>23.194933</td>\n",
       "      <td>648.840027</td>\n",
       "      <td>27.167797</td>\n",
       "      <td>648.840027</td>\n",
       "      <td>19.790516</td>\n",
       "      <td>648.840027</td>\n",
       "      <td>13.449127</td>\n",
       "      <td>...</td>\n",
       "      <td>648.840027</td>\n",
       "      <td>4.602462</td>\n",
       "      <td>648.840027</td>\n",
       "      <td>3.138167</td>\n",
       "      <td>648.840027</td>\n",
       "      <td>1.417011</td>\n",
       "      <td>648.840027</td>\n",
       "      <td>0.545661</td>\n",
       "      <td>648.840027</td>\n",
       "      <td>0.333807</td>\n",
       "    </tr>\n",
       "    <tr>\n",
       "      <th>115</th>\n",
       "      <td>649.849976</td>\n",
       "      <td>26.203035</td>\n",
       "      <td>649.849976</td>\n",
       "      <td>22.347122</td>\n",
       "      <td>649.849976</td>\n",
       "      <td>25.561733</td>\n",
       "      <td>649.849976</td>\n",
       "      <td>18.675690</td>\n",
       "      <td>649.849976</td>\n",
       "      <td>12.785388</td>\n",
       "      <td>...</td>\n",
       "      <td>649.849976</td>\n",
       "      <td>4.334819</td>\n",
       "      <td>649.849976</td>\n",
       "      <td>2.955356</td>\n",
       "      <td>649.849976</td>\n",
       "      <td>1.345403</td>\n",
       "      <td>649.849976</td>\n",
       "      <td>0.519533</td>\n",
       "      <td>649.849976</td>\n",
       "      <td>0.366366</td>\n",
       "    </tr>\n",
       "    <tr>\n",
       "      <th>116</th>\n",
       "      <td>650.859985</td>\n",
       "      <td>24.811270</td>\n",
       "      <td>650.859985</td>\n",
       "      <td>21.325739</td>\n",
       "      <td>650.859985</td>\n",
       "      <td>24.539951</td>\n",
       "      <td>650.859985</td>\n",
       "      <td>18.069601</td>\n",
       "      <td>650.859985</td>\n",
       "      <td>12.159359</td>\n",
       "      <td>...</td>\n",
       "      <td>650.859985</td>\n",
       "      <td>4.134296</td>\n",
       "      <td>650.859985</td>\n",
       "      <td>2.907012</td>\n",
       "      <td>650.859985</td>\n",
       "      <td>1.283329</td>\n",
       "      <td>650.859985</td>\n",
       "      <td>0.497435</td>\n",
       "      <td>650.859985</td>\n",
       "      <td>0.298861</td>\n",
       "    </tr>\n",
       "  </tbody>\n",
       "</table>\n",
       "<p>5 rows × 22 columns</p>\n",
       "</div>"
      ],
      "text/plain": [
       "            λ 5        I 5         λ 4        I 4      no λ 4     no I 4  \\\n",
       "112  646.950012  29.311554  646.950012  25.126436  646.950012  29.019300   \n",
       "113  647.969971  28.124762  647.969971  23.946281  647.969971  27.984386   \n",
       "114  648.840027  26.902561  648.840027  23.194933  648.840027  27.167797   \n",
       "115  649.849976  26.203035  649.849976  22.347122  649.849976  25.561733   \n",
       "116  650.859985  24.811270  650.859985  21.325739  650.859985  24.539951   \n",
       "\n",
       "            λ 3        I 3         λ 2        I 2  ...       λ 0.8     I 0.8  \\\n",
       "112  646.950012  21.187140  646.950012  14.265793  ...  646.950012  4.883633   \n",
       "113  647.969971  20.061258  647.969971  13.714191  ...  647.969971  4.719029   \n",
       "114  648.840027  19.790516  648.840027  13.449127  ...  648.840027  4.602462   \n",
       "115  649.849976  18.675690  649.849976  12.785388  ...  649.849976  4.334819   \n",
       "116  650.859985  18.069601  650.859985  12.159359  ...  650.859985  4.134296   \n",
       "\n",
       "          λ 0.6     I 0.6       λ 0.4     I 0.4       λ 0.2     I 0.2  \\\n",
       "112  646.950012  3.315377  646.950012  1.589167  646.950012  0.555993   \n",
       "113  647.969971  3.173567  647.969971  1.429973  647.969971  0.563877   \n",
       "114  648.840027  3.138167  648.840027  1.417011  648.840027  0.545661   \n",
       "115  649.849976  2.955356  649.849976  1.345403  649.849976  0.519533   \n",
       "116  650.859985  2.907012  650.859985  1.283329  650.859985  0.497435   \n",
       "\n",
       "          λ 0.1     I 0.1  \n",
       "112  646.950012  0.351009  \n",
       "113  647.969971  0.378182  \n",
       "114  648.840027  0.333807  \n",
       "115  649.849976  0.366366  \n",
       "116  650.859985  0.298861  \n",
       "\n",
       "[5 rows x 22 columns]"
      ]
     },
     "execution_count": 10,
     "metadata": {},
     "output_type": "execute_result"
    }
   ],
   "source": [
    "filename = 'data/assorbanza_rodamina_concentrazioni_tot.csv'\n",
    "\n",
    "header = ['λ 5','I 5','λ 4','I 4','no λ 4','no I 4','λ 3','I 3','λ 2','I 2','λ 1','I 1','λ 0.8','I 0.8','λ 0.6','I 0.6','λ 0.4','I 0.4','λ 0.2','I 0.2','λ 0.1','I 0.1']\n",
    "\n",
    "# fondo = pd.read_csv('./data/fondoH20Sspettrofluorimetro.csv',sep=',',header=1,nrows=150)[['Wavelength (nm).1','Intensity (a.u.).1']]\n",
    "# fondo.columns = ['λfondo','Ifondo']\n",
    "# fondo.tail()\n",
    "\n",
    "# from scipy.interpolate import interp1d\n",
    "# fondo_interp = interp1d(fondo['λfondo'], fondo['Ifondo'])\n",
    "\n",
    "\n",
    "data = pd.read_csv(filename,sep=',',header=1,nrows=117)\n",
    "data = data.iloc[:, :-1] # drop last column\n",
    "data.columns = header\n",
    "data.tail()"
   ]
  },
  {
   "cell_type": "markdown",
   "metadata": {},
   "source": [
    "plot spettri di fluo"
   ]
  },
  {
   "cell_type": "code",
   "execution_count": 11,
   "metadata": {},
   "outputs": [
    {
     "data": {
      "application/vnd.plotly.v1+json": {
       "config": {
        "plotlyServerURL": "https://plot.ly"
       },
       "data": [
        {
         "mode": "lines",
         "name": "0.48",
         "type": "scatter",
         "x": {
          "bdata": "CaP+H1y3gECglP9/wr+AQE2ABkDhxoBA6wX6n0fPgEBoDv+fmdeAQC/jAcDM3oBAs3/5vx7ngEBLcfofhe+AQPdcAeCj9oBAj04CQAr/gEAJo/4fXAeBQKCU/3/CD4FATYAGQOEWgUDrBfqfRx+BQGgO/5+ZJ4FAL+MBwMwugUCPTgJACjeBQOsF+p9HP4FAS3H6H4VHgUCglP9/wk+BQC/jAcDMVoFAj04CQApfgUDrBfqfR2eBQEtx+h+Fb4FAoJT/f8J3gUAv4wHAzH6BQLN/+b8eh4FAS3H6H4WPgUD3XAHgo5aBQI9OAkAKn4FACaP+H1yngUCglP9/wq+BQE2ABkDhtoFA6wX6n0e/gUBoDv+fmceBQC/jAcDMzoFAj04CQArXgUDrBfqfR9+BQEtx+h+F54FAoJT/f8LvgUAv4wHAzPaBQI9OAkAK/4FA6wX6n0cHgkBLcfofhQ+CQKCU/3/CF4JAL+MBwMwegkCzf/m/HieCQEtx+h+FL4JA91wB4KM2gkCPTgJACj+CQAmj/h9cR4JAoJT/f8JPgkBNgAZA4VaCQOsF+p9HX4JAaA7/n5lngkAv4wHAzG6CQI9OAkAKd4JA6wX6n0d/gkBLcfofhYeCQKCU/3/Cj4JAL+MBwMyWgkCPTgJACp+CQOsF+p9Hp4JAS3H6H4WvgkCglP9/wreCQC/jAcDMvoJATYAGQOHGgkCPTgJACs+CQLN/+b8e14JA6wX6n0ffgkAJo/4fXOeCQEtx+h+F74JAaA7/n5n3gkCglP9/wv+CQBX6BWC4BoNAL+MBwMwOg0CPTgJACheDQOsF+p9HH4NAS3H6H4Ung0CglP9/wi+DQC/jAcDMNoNAj04CQAo/g0DrBfqfR0eDQEtx+h+FT4NAoJT/f8JXg0Av4wHAzF6DQI9OAkAKZ4NA6wX6n0dvg0BLcfofhXeDQKCU/3/Cf4NAL+MBwMyGg0CPTgJACo+DQOsF+p9Hl4NAS3H6H4Wfg0CglP9/wqeDQC/jAcDMroNATYAGQOG2g0CPTgJACr+DQLN/+b8ex4NA6wX6n0fPg0AJo/4fXNeDQEtx+h+F34NAaA7/n5nng0CglP9/wu+DQBX6BWC49oNAL+MBwMz+g0BNgAZA4QaEQI9OAkAKD4RAs3/5vx4XhEDrBfqfRx+EQAmj/h9cJ4RAS3H6H4UvhEBoDv+fmTeEQKCU/3/CP4RAFfoFYLhGhEAv4wHAzE6EQE2ABkDhVoRA",
          "dtype": "f8"
         },
         "y": {
          "bdata": "bMIHwEl1c0ATVQlgNNx1QIhQACAiBHhARoIEIEkIe0B2CgPgKSp+QBChAEBUIoBAMYj+v9D8gUBxsf2/pXyDQD3fBQBtvYRAYGsAgF0nhkDbZPlfc6OHQAAAAAAQ14hALT4FwEjBiUDA1gAAa86KQDGI/r/QjItAEUb9P/hgjECR8/4/7ryMQCqK/J9oI41AYGsAgF0ajUBAKf//RHCNQLA1AMAGY41AaA7/n2kkjUDPdwFA36iMQCqK/J94z4tAYGsAgK3Ei0ARRv0/GCyLQPBe/7+7O4pAV8gBYLEaikBHJwEgTTKJQHiv/9+NbohAlkwEYNKch0AH/gEguLuGQFDK/z85/oVAeK//380+hUAtPgXAmMKEQK6QA8Bi14NAj04CQHr3gkD+WgMADBGCQOi7AKAfeIFAnUoGgNqxgECdSgaAKkWAQIFS/v8p635AnoXzX9adfUB9nvXfeZN8QLfJ8r/GZHtAUtkLYEWeekCKXwxAvnF5QEk2DUA5Y3hAhJz3//HSd0BVIwVgTc92QGJ6DKDJ5HVA9rcE4P81dUDkcQeg56p0QEvbCUCN63NAg/f6/z1dc0D+WgMADLRyQINhCiBGMHJABe/1/7umcUCehfNf1gBxQDqVDABVpnBAZ2kCoCXqb0CY8QBghuluQI0TFWBOIW5AyeMOQM9AbUDi+OtfI2dsQOtvCcB/jGtAFCbnH9ixakA2d/S/XMFpQHXPFQA+v2hAgo3r3zXPZ0AtauZ/qCJnQOQH+H+fRGZAJ6oSwGhMZUCgKvBfqnNkQDZLEwCtwmNA3DgYoGP2YkClg/V/DkhiQJQ9+D82kGFA2ikMgOfPYEBrhxrg3QlgQF7GA4AZFl9AnbQVoBLRXUAV+gVgKJNcQCTKKOBoXltAPh00YLXaWUAr8Pw/GuxYQO7R+t862ldAajUD4IiqVkAbEACg88JVQFrT/v+mZ1RAe3sAICHbU0Do+vz/kcNSQG7l/H+iK1JARBwEgBc8UUDlsAMAKmhQQM1o9R9jmk9A7Cz+36bgTUAXnwJgvGhMQJiu9X/tSUtAvnAAYGnhSUAaqv//QblIQFXkCAAr6kdAIMD5P82dRkAvIv4fr51FQMtFAGAK8URAk7//f7HNQ0BqdP8/a/5CQCUZ/1/xS0JACLv2P59eQUA6qfWfsahAQMK6+V8R6j9AXlz0XzGaPkCpIxUAwk89QLXl+V/wHzxAWLAJQA7nOkCSLuwf+jM6QAtv/1+vzzhA",
          "dtype": "f8"
         }
        },
        {
         "mode": "lines",
         "name": "0.35",
         "type": "scatter",
         "x": {
          "bdata": "CaP+H1y3gECglP9/wr+AQE2ABkDhxoBA6wX6n0fPgEBoDv+fmdeAQC/jAcDM3oBAs3/5vx7ngEBLcfofhe+AQPdcAeCj9oBAj04CQAr/gEAJo/4fXAeBQKCU/3/CD4FATYAGQOEWgUDrBfqfRx+BQGgO/5+ZJ4FAL+MBwMwugUCPTgJACjeBQOsF+p9HP4FAS3H6H4VHgUCglP9/wk+BQC/jAcDMVoFAj04CQApfgUDrBfqfR2eBQEtx+h+Fb4FAoJT/f8J3gUAv4wHAzH6BQLN/+b8eh4FAS3H6H4WPgUD3XAHgo5aBQI9OAkAKn4FACaP+H1yngUCglP9/wq+BQE2ABkDhtoFA6wX6n0e/gUBoDv+fmceBQC/jAcDMzoFAj04CQArXgUDrBfqfR9+BQEtx+h+F54FAoJT/f8LvgUAv4wHAzPaBQI9OAkAK/4FA6wX6n0cHgkBLcfofhQ+CQKCU/3/CF4JAL+MBwMwegkCzf/m/HieCQEtx+h+FL4JA91wB4KM2gkCPTgJACj+CQAmj/h9cR4JAoJT/f8JPgkBNgAZA4VaCQOsF+p9HX4JAaA7/n5lngkAv4wHAzG6CQI9OAkAKd4JA6wX6n0d/gkBLcfofhYeCQKCU/3/Cj4JAL+MBwMyWgkCPTgJACp+CQOsF+p9Hp4JAS3H6H4WvgkCglP9/wreCQC/jAcDMvoJATYAGQOHGgkCPTgJACs+CQLN/+b8e14JA6wX6n0ffgkAJo/4fXOeCQEtx+h+F74JAaA7/n5n3gkCglP9/wv+CQBX6BWC4BoNAL+MBwMwOg0CPTgJACheDQOsF+p9HH4NAS3H6H4Ung0CglP9/wi+DQC/jAcDMNoNAj04CQAo/g0DrBfqfR0eDQEtx+h+FT4NAoJT/f8JXg0Av4wHAzF6DQI9OAkAKZ4NA6wX6n0dvg0BLcfofhXeDQKCU/3/Cf4NAL+MBwMyGg0CPTgJACo+DQOsF+p9Hl4NAS3H6H4Wfg0CglP9/wqeDQC/jAcDMroNATYAGQOG2g0CPTgJACr+DQLN/+b8ex4NA6wX6n0fPg0AJo/4fXNeDQEtx+h+F34NAaA7/n5nng0CglP9/wu+DQBX6BWC49oNAL+MBwMz+g0BNgAZA4QaEQI9OAkAKD4RAs3/5vx4XhEDrBfqfRx+EQAmj/h9cJ4RAS3H6H4UvhEBoDv+fmTeEQKCU/3/CP4RAFfoFYLhGhEAv4wHAzE6EQE2ABkDhVoRA",
          "dtype": "f8"
         },
         "y": {
          "bdata": "6soMwAs+ckBMFvcfuWV0QPxL99+vQnZAbMIHwAn9eED9tQYAeMF7QE4lA0C10H1AAqX8/5NWgEBuZwTAfZ+BQKI5/H8WpIJAztIEQOvVg0BAKf//xACFQGgO/5+JEIZATiUDQAW1hkDfGAKAc56HQNPB+j+nQohANuED4FTQiEB9CAUAkheJQGEQ/X9hUIlA3xgCgDN2iUDIef8f17iJQP5aAwDMWYlAstr8v3o4iUBVIwVgXdCIQHNW+r+piohAj04CQMrth0C6ffvf1oCHQGdpAqDl5YZAx9QCIJNThkB4r//fzdmFQH0IBQDyJYVA4mL7f2tdhEBuZwTAvYWDQLN/+b9u+oJA/loDAAxbgkDhvf5/F6mBQHYKA+D5HIFAJkADoEBdgEDpYP2fw3R/QDvQ+d+AHn5AQCn//0TOfEB6VPzfseJ7QCWbBqBs0XpAkpj7P8KWeUCR8/4/jnJ4QFt8CoBxnXdAYRD9f+HHdkB/rQEAluV1QCjl/58UBXVAFfoFYIhcdEAMVwdA3J9zQN1zBYBP+3JAErAMYABTckAlmwagDM9xQL7H9N8+IHFAxS8GIN+ocEBNgAZAQQ9wQEwW9x+ZT29ALJkIwKQ8bkDbZPlfkzNtQI0/9h++ZWxA4vjrX6OYa0A70PnfwJdqQGO1+X8VzWlA+3oZIGzTaEDFLwYgvy9oQFOq6R8plWdA8z7pn3u8ZkA4hgDg2OxlQKTe+H+6JmVAhkH0/wVpZEB7j+m/vbFjQPzh578H3mJAil8MQD4vYkAVkPY/QIthQNiw8D+D4GBAS3H6H8U0YEC4ByEgX0ZfQLZf458+8F1A4o7cPzu/XEB4GQ8AZpRbQK0pNSDnt1pAizDq/0GCWUBJjQHATmBYQOlg/Z8DNVdAJ3///yJPVkADzABAY4JVQGCq/N+PfVRA40oDYHilU0C6Pv9/VLdSQOZVAAD+6FFAKCT8/zYbUUC3sfqfk0hQQMOKCSBrGk9AZNz9v6TETUAlGf9f8X5MQD4GCkBMHEtAtY4F4HoYSkDLhPy/LJVIQHiv/999bEdAtGcBoCtgRkBKtAUAnm9FQOMLBwCWeERAkpj7P2KGQ0DiYvt/i35CQJEy+5/wE0JAqE/2v3E5QUCp4AkgKYBAQFmYESA7Tj9AuYEKYC0xPkCvOQ9AzY48QBvl7N/tlTtACUwKoNYLOkAp4fAfXiA5QICp8n8/8jdAkDYKIOcxN0ASxPX/3Fg2QBR8DaBjUzVA",
          "dtype": "f8"
         }
        },
        {
         "mode": "lines",
         "name": "0.26",
         "type": "scatter",
         "x": {
          "bdata": "CaP+H1y3gECglP9/wr+AQE2ABkDhxoBA6wX6n0fPgEBoDv+fmdeAQC/jAcDM3oBAs3/5vx7ngEBLcfofhe+AQPdcAeCj9oBAj04CQAr/gEAJo/4fXAeBQKCU/3/CD4FATYAGQOEWgUDrBfqfRx+BQGgO/5+ZJ4FAL+MBwMwugUCPTgJACjeBQOsF+p9HP4FAS3H6H4VHgUCglP9/wk+BQC/jAcDMVoFAj04CQApfgUDrBfqfR2eBQEtx+h+Fb4FAoJT/f8J3gUAv4wHAzH6BQLN/+b8eh4FAS3H6H4WPgUD3XAHgo5aBQI9OAkAKn4FACaP+H1yngUCglP9/wq+BQE2ABkDhtoFA6wX6n0e/gUBoDv+fmceBQC/jAcDMzoFAj04CQArXgUDrBfqfR9+BQEtx+h+F54FAoJT/f8LvgUAv4wHAzPaBQI9OAkAK/4FA6wX6n0cHgkBLcfofhQ+CQKCU/3/CF4JAL+MBwMwegkCzf/m/HieCQEtx+h+FL4JA91wB4KM2gkCPTgJACj+CQAmj/h9cR4JAoJT/f8JPgkBNgAZA4VaCQOsF+p9HX4JAaA7/n5lngkAv4wHAzG6CQI9OAkAKd4JA6wX6n0d/gkBLcfofhYeCQKCU/3/Cj4JAL+MBwMyWgkCPTgJACp+CQOsF+p9Hp4JAS3H6H4WvgkCglP9/wreCQC/jAcDMvoJATYAGQOHGgkCPTgJACs+CQLN/+b8e14JA6wX6n0ffgkAJo/4fXOeCQEtx+h+F74JAaA7/n5n3gkCglP9/wv+CQBX6BWC4BoNAL+MBwMwOg0CPTgJACheDQOsF+p9HH4NAS3H6H4Ung0CglP9/wi+DQC/jAcDMNoNAj04CQAo/g0DrBfqfR0eDQEtx+h+FT4NAoJT/f8JXg0Av4wHAzF6DQI9OAkAKZ4NA6wX6n0dvg0BLcfofhXeDQKCU/3/Cf4NAL+MBwMyGg0CPTgJACo+DQOsF+p9Hl4NAS3H6H4Wfg0CglP9/wqeDQC/jAcDMroNATYAGQOG2g0CPTgJACr+DQLN/+b8ex4NA6wX6n0fPg0AJo/4fXNeDQEtx+h+F34NAaA7/n5nng0CglP9/wu+DQBX6BWC49oNAL+MBwMz+g0BNgAZA4QaEQI9OAkAKD4RAs3/5vx4XhEDrBfqfRx+EQAmj/h9cJ4RAS3H6H4UvhEBoDv+fmTeEQKCU/3/CP4RAFfoFYLhGhEAv4wHAzE6EQE2ABkDhVoRA",
          "dtype": "f8"
         },
         "y": {
          "bdata": "lD34Pza+ckCuJvSfOtJ0QMzD+B+Pm3ZALdT1n3DdeEDMw/gfb3p7QB0z9V+sAH1AXsYDgNljf0DpYP2fE8qAQNPB+j/3iYFAScz9H9F2gkD9tQYA2HuDQEaCBCDJGIRABVkFIETchEDtFAbA8xSFQBFG/T+YvYVAS3H6HwUIhkACpfz/00SGQGdpAqD1YIZAmzv6X/50hkDyA/y/X12GQOYWBKBrLYZAPd8FAG3ihUAenQSARJOFQOYWBKC7AYVAyh78H8uMhEBoDv+fCTaEQCOM+n/gloNAZ2kCoNUJg0DYGgBgu6iCQNZ1A2AnDoJA5hYEoOtzgUBNgAZAAauAQAAAAADAIoBACaP+H2xVf0AFWQUgJO99QCsv+Z8conxAil8MQH7Re0BEc/j/rKR6QE2ABkCBynlA22T5X/OLeEC8IvjfCrh3QGxY+J8BcXZAelT83xGsdUDRHP4/8+F0QFJv/D/9InRA1dAGYMNHc0AH/gEgWMJyQFLZC2Bl53FAPd8FAN1GcUCW4vQ/yrFwQLA1AMAWGXBAv2zx33IOb0Bxsf2/xTluQE+PEmA9Nm1A9iEUAEhYbEC6ffvfNndrQFy3919de2pAi5r5H+q0aUA70PnfAO1oQKtGCsDaF2hAz3cBQJ9TZ0DKHvwf+4BmQN2f5j//3GVA+QH+34cpZUARRv0/2HVkQBS/GIB842NAXLf3X51UY0Cm7QSgNqNiQKtGCsBaxWFAskQM4NJQYUBlLhXAOaJgQJ6INODiyV9A3kckwJ/GXkAupdNf1P1dQMc70b9u7VxAxS8GIH+kW0CGFRNA1nZaQB4HFKDcgVlAoNP73/SOWEAYBQMALlZXQDtSASB801ZAEOD8n2bGVUA0VP//Q5pUQLFcBADm4FNArSoDINHdUkAzFQOgIS9SQLB0/B/5dFFAmVcBADigUEBokAbgNOJPQEmNAcDOJk5AYGsAgK3rTECxXAQAprhLQAvxBqBqdkpAW7sG4BMhSUDBe/3/bgpIQDBh+n9RKkdAixwBYGXLRUAycAagTehEQPZ0+f+G0kNABDIB4FT9QkAhJvrfPgZCQKyB95/GE0FAfQgFAKJ3QEAjjPp/ML4/QOPMCqBzyj5AeO77P6AlPUCdXu8fh3k7QOVt+B+RaTpAcHYQ4Jl+OUAF7/X/u184QLIZ+R8N+DZAUJ/sf+M3NkBOPftf6C81QAYCEaCuDzRAz3cBQF/KM0B6vgsA+qwyQIl3BGDRETJA",
          "dtype": "f8"
         }
        },
        {
         "mode": "lines",
         "name": "0.17",
         "type": "scatter",
         "x": {
          "bdata": "CaP+H1y3gECglP9/wr+AQE2ABkDhxoBA6wX6n0fPgEBoDv+fmdeAQC/jAcDM3oBAs3/5vx7ngEBLcfofhe+AQPdcAeCj9oBAj04CQAr/gEAJo/4fXAeBQKCU/3/CD4FATYAGQOEWgUDrBfqfRx+BQGgO/5+ZJ4FAL+MBwMwugUCPTgJACjeBQOsF+p9HP4FAS3H6H4VHgUCglP9/wk+BQC/jAcDMVoFAj04CQApfgUDrBfqfR2eBQEtx+h+Fb4FAoJT/f8J3gUAv4wHAzH6BQLN/+b8eh4FAS3H6H4WPgUD3XAHgo5aBQI9OAkAKn4FACaP+H1yngUCglP9/wq+BQE2ABkDhtoFA6wX6n0e/gUBoDv+fmceBQC/jAcDMzoFAj04CQArXgUDrBfqfR9+BQEtx+h+F54FAoJT/f8LvgUAv4wHAzPaBQI9OAkAK/4FA6wX6n0cHgkBLcfofhQ+CQKCU/3/CF4JAL+MBwMwegkCzf/m/HieCQEtx+h+FL4JA91wB4KM2gkCPTgJACj+CQAmj/h9cR4JAoJT/f8JPgkBNgAZA4VaCQOsF+p9HX4JAaA7/n5lngkAv4wHAzG6CQI9OAkAKd4JA6wX6n0d/gkBLcfofhYeCQKCU/3/Cj4JAL+MBwMyWgkCPTgJACp+CQOsF+p9Hp4JAS3H6H4WvgkCglP9/wreCQC/jAcDMvoJATYAGQOHGgkCPTgJACs+CQLN/+b8e14JA6wX6n0ffgkAJo/4fXOeCQEtx+h+F74JAaA7/n5n3gkCglP9/wv+CQBX6BWC4BoNAL+MBwMwOg0CPTgJACheDQOsF+p9HH4NAS3H6H4Ung0CglP9/wi+DQC/jAcDMNoNAj04CQAo/g0DrBfqfR0eDQEtx+h+FT4NAoJT/f8JXg0Av4wHAzF6DQI9OAkAKZ4NA6wX6n0dvg0BLcfofhXeDQKCU/3/Cf4NAL+MBwMyGg0CPTgJACo+DQOsF+p9Hl4NAS3H6H4Wfg0CglP9/wqeDQC/jAcDMroNATYAGQOG2g0CPTgJACr+DQLN/+b8ex4NA6wX6n0fPg0AJo/4fXNeDQEtx+h+F34NAaA7/n5nng0CglP9/wu+DQBX6BWC49oNAL+MBwMz+g0BNgAZA4QaEQI9OAkAKD4RAs3/5vx4XhEDrBfqfRx+EQAmj/h9cJ4RAS3H6H4UvhEBoDv+fmTeEQKCU/3/CP4RAFfoFYLhGhEAv4wHAzE6EQE2ABkDhVoRA",
          "dtype": "f8"
         },
         "y": {
          "bdata": "d3QSABLMa0AUvxiAPJVuQOrKDMALaHBAarP7n800ckCwNQDAVuhzQGzCB8BpEHVAoqMLoA6cdkBJNg1AOfF3QMZq8/9q93hACaP+H4xoekB/rQEAlmF7QMLlDCB3VXxAaA7/n1kQfUCGQfT/5bN9QPum+t9bTX5AYx8JoD2ofkCK9fwfVrd+QFMU+T/Ry35ADO33H/S1fkCd4PZfQoN+QOrKDMCrPX5ATrvzH43SfUBuZwTAnX19QKTe+H+6v3xAP4QCAFENfEB9CAUA4ox7QAIPDCAcznpAJDH3f2T7eUAtPgXAuGx5QAIPDCCch3hAztIEQEubd0CEnPf/Ecd2QLUk9r8yD3ZA77kCwOdWdUC3MwLgbmp0QPum+t+brHNAskQM4JL3ckCiOfx/JgVyQMDWAAA7anFAY7X5f7WncEAdM/VfjNxvQEwW9x8Zpm5AqTf+n15QbUCJi+3/LTBsQI0TFWAOO2tAtbrmn2r3aUCJi+3/bRZpQCh78H9sL2hATKzn//BXZ0C3MwLgjppmQDAe75/4zGVAY0vqX63VZECLmvkfqk1kQJKY+z/itWNAmZb9X1oOY0Bn0xHAjXFiQH8XESDe3mFAluL0P4oqYUDkcQegR6VgQJQRF4BGMmBA5+oi4GujX0CFcBZAQiVeQJ4b5D9uYl1AiObw/5mKXEBpeA7AYZ5bQJeH8T+e2lpAZS4VwLn4WUA5we2/hChZQItb/b8HPVhAzGwEoBkxV0CPzPr/fktWQO+5AsAntlVAhyn833LOVED6KAIg1ydUQJxi/p/9dlNAVqH9H9KRUkAzFQOg4dNRQFrT/v+mHlFAvOP7f+hoUECD9/r/3aRPQIRd+5/Plk5Ak0EHwGwwTUAL8QagagFMQCHn/X8cl0pAwvn1vzNISUBgLAQgC3JIQFCLA+AGX0dAjWoJ4IN6RkDhvf5/d1BFQJwjAkDbRkRA15wHoOaZQ0Bxsf2/xZhCQPnCAYAlyUFAN0cEgLbvQED2dPn/Bi5AQKG7A8Chuj5Aw4oJIGunPUB84QDA0g08QNnX9H+SpjpAmr0BoGlWOUBTPwwAl1k4QGik73+RTzdAIwrzP3VGNkCzLBTA/001QMq07P/SnjRACjQSgAOYM0D+3ApAJ70yQPOUDyDH2jFAcXIBYCM6MUCYMP2/qFQwQNsRFGDUjS9AoIAW4PUELkByhRwAFogsQCzEG4CqbStA9HwXAPTlKkA+cedfHpIpQAzZDoCXUShA",
          "dtype": "f8"
         }
        },
        {
         "mode": "lines",
         "name": "0.09",
         "type": "scatter",
         "x": {
          "bdata": "CaP+H1y3gECglP9/wr+AQE2ABkDhxoBA6wX6n0fPgEBoDv+fmdeAQC/jAcDM3oBAs3/5vx7ngEBLcfofhe+AQPdcAeCj9oBAj04CQAr/gEAJo/4fXAeBQKCU/3/CD4FATYAGQOEWgUDrBfqfRx+BQGgO/5+ZJ4FAL+MBwMwugUCPTgJACjeBQOsF+p9HP4FAS3H6H4VHgUCglP9/wk+BQC/jAcDMVoFAj04CQApfgUDrBfqfR2eBQEtx+h+Fb4FAoJT/f8J3gUAv4wHAzH6BQLN/+b8eh4FAS3H6H4WPgUD3XAHgo5aBQI9OAkAKn4FACaP+H1yngUCglP9/wq+BQE2ABkDhtoFA6wX6n0e/gUBoDv+fmceBQC/jAcDMzoFAj04CQArXgUDrBfqfR9+BQEtx+h+F54FAoJT/f8LvgUAv4wHAzPaBQI9OAkAK/4FA6wX6n0cHgkBLcfofhQ+CQKCU/3/CF4JAL+MBwMwegkCzf/m/HieCQEtx+h+FL4JA91wB4KM2gkCPTgJACj+CQAmj/h9cR4JAoJT/f8JPgkBNgAZA4VaCQOsF+p9HX4JAaA7/n5lngkAv4wHAzG6CQI9OAkAKd4JA6wX6n0d/gkBLcfofhYeCQKCU/3/Cj4JAL+MBwMyWgkCPTgJACp+CQOsF+p9Hp4JAS3H6H4WvgkCglP9/wreCQC/jAcDMvoJATYAGQOHGgkCPTgJACs+CQLN/+b8e14JA6wX6n0ffgkAJo/4fXOeCQEtx+h+F74JAaA7/n5n3gkCglP9/wv+CQBX6BWC4BoNAL+MBwMwOg0CPTgJACheDQOsF+p9HH4NAS3H6H4Ung0CglP9/wi+DQC/jAcDMNoNAj04CQAo/g0DrBfqfR0eDQEtx+h+FT4NAoJT/f8JXg0Av4wHAzF6DQI9OAkAKZ4NA6wX6n0dvg0BLcfofhXeDQKCU/3/Cf4NAL+MBwMyGg0CPTgJACo+DQOsF+p9Hl4NAS3H6H4Wfg0CglP9/wqeDQC/jAcDMroNATYAGQOG2g0CPTgJACr+DQLN/+b8ex4NA6wX6n0fPg0AJo/4fXNeDQEtx+h+F34NAaA7/n5nng0CglP9/wu+DQBX6BWC49oNAL+MBwMz+g0BNgAZA4QaEQI9OAkAKD4RAs3/5vx4XhEDrBfqfRx+EQAmj/h9cJ4RAS3H6H4UvhEBoDv+fmTeEQKCU/3/CP4RAFfoFYLhGhEAv4wHAzE6EQE2ABkDhVoRA",
          "dtype": "f8"
         },
         "y": {
          "bdata": "0YYNYNuTXEAHlPL/T5lfQNffEoC/FWFAmw8ZoP5xYkAWNfM/1PtjQOJi+39LQGVA2ikMgOe3ZkB9nvXfuelnQOzZGOCn+WhAVo0UgHUpakBU6BeAIRFrQF8B8V9F6GtA+3oZIOyHbEAuqBTg4A1tQKyB959Ge21ANNL3v0inbUB2CgPgqb5tQIQGByBa6G1Au+cKAN+mbUA8C+e/7GNtQJvR6j9G+GxAvpsTIK/IbEC1jgXgekZsQG+i8Z+JyWtA/bUGABgfa0AqivyfaFJqQBcJEoDkkWlAdfv2vy0daUBCZOzfUAdoQBmuDoB4j2dAzw3yH3eeZkAV+gVgKNNlQLW65p9qHWVAvIwHAHMqZEBLcfofBVZjQOVC5V9LsGJA0YYNYNvfYUD38vG/yzphQI9OAkC6QGBAMsYsIFlaX0DLhcq/llteQLZiJCDLSF1AYGsAgK0BXEBDDCpgcdRaQPCK4H+rt1lACeL6f+6xWEBSMADg2tBXQNwNBeBd+VZAK7EA4HcNVkDFbgKAoRNVQFNXBCBqrFRAGYP7vzLrU0ANlgOgvklTQKfR/f9srVJAun3737YiUkAhqAEgeoRRQBZ4/h/tAFFAgrj+n/tsUEDAFf1f/QZQQCIOAsBr/U5AqE/2v3HLTUBr2v/f3AFNQJbK/B+3+EtAj04CQLoMS0B51gMgzU9KQC77+d9ff0lAql4C4G3JSEA8Nvp/8tFHQLXl+V/wxUZA4WYKAALvRUAqivyf6EBFQGp0/z9rZkRAIIH93yqsQ0AjNQYAu/FCQHMX/l83T0JA/9j7v7CnQUCfbfs/g/RAQMcT/3+1XUBAqeAJICmBP0B+xfkficQ9QPxL99/vDj1ActgBAJWqO0DsAesf4YU6QPUO+V+VIDlA/Qjs/1b/N0BRSPj/7Qs3QLOqDIBEODZATdPrPwBTNUA9HgJgn0g0QAuH93+CGDNASY0BwE5WMkDcTAFAgKAxQFw5/59YuTBA1Gb3PxsWMECkXPE/v9ouQAbDFECMUy1Ak5Tsv2vvK0DdICCAUNAqQLkDEqDoVClA7iTg37lAKECk3SqAEAQnQAF++L9EDiZAmBwUIEw4JUBWNiAAQEkkQEk4/z/maSNAwg/833meIkAQ9gLAbKghQFx3AoC0CyFAFL37/xJvIECmqvm/XWEfQC3pAkAQ6B1ApRsD4A+HHECg6vp/gcAaQFykB0AH8hlAo2AAwDUCGUBdifkfhJEYQFqV+x+LLRdA",
          "dtype": "f8"
         }
        },
        {
         "mode": "lines",
         "name": "0.07",
         "type": "scatter",
         "x": {
          "bdata": "CaP+H1y3gECglP9/wr+AQE2ABkDhxoBA6wX6n0fPgEBoDv+fmdeAQC/jAcDM3oBAs3/5vx7ngEBLcfofhe+AQPdcAeCj9oBAj04CQAr/gEAJo/4fXAeBQKCU/3/CD4FATYAGQOEWgUDrBfqfRx+BQGgO/5+ZJ4FAL+MBwMwugUCPTgJACjeBQOsF+p9HP4FAS3H6H4VHgUCglP9/wk+BQC/jAcDMVoFAj04CQApfgUDrBfqfR2eBQEtx+h+Fb4FAoJT/f8J3gUAv4wHAzH6BQLN/+b8eh4FAS3H6H4WPgUD3XAHgo5aBQI9OAkAKn4FACaP+H1yngUCglP9/wq+BQE2ABkDhtoFA6wX6n0e/gUBoDv+fmceBQC/jAcDMzoFAj04CQArXgUDrBfqfR9+BQEtx+h+F54FAoJT/f8LvgUAv4wHAzPaBQI9OAkAK/4FA6wX6n0cHgkBLcfofhQ+CQKCU/3/CF4JAL+MBwMwegkCzf/m/HieCQEtx+h+FL4JA91wB4KM2gkCPTgJACj+CQAmj/h9cR4JAoJT/f8JPgkBNgAZA4VaCQOsF+p9HX4JAaA7/n5lngkAv4wHAzG6CQI9OAkAKd4JA6wX6n0d/gkBLcfofhYeCQKCU/3/Cj4JAL+MBwMyWgkCPTgJACp+CQOsF+p9Hp4JAS3H6H4WvgkCglP9/wreCQC/jAcDMvoJATYAGQOHGgkCPTgJACs+CQLN/+b8e14JA6wX6n0ffgkAJo/4fXOeCQEtx+h+F74JAaA7/n5n3gkCglP9/wv+CQBX6BWC4BoNAL+MBwMwOg0CPTgJACheDQOsF+p9HH4NAS3H6H4Ung0CglP9/wi+DQC/jAcDMNoNAj04CQAo/g0DrBfqfR0eDQEtx+h+FT4NAoJT/f8JXg0Av4wHAzF6DQI9OAkAKZ4NA6wX6n0dvg0BLcfofhXeDQKCU/3/Cf4NAL+MBwMyGg0CPTgJACo+DQOsF+p9Hl4NAS3H6H4Wfg0CglP9/wqeDQC/jAcDMroNATYAGQOG2g0CPTgJACr+DQLN/+b8ex4NA6wX6n0fPg0AJo/4fXNeDQEtx+h+F34NAaA7/n5nng0CglP9/wu+DQBX6BWC49oNAL+MBwMz+g0BNgAZA4QaEQI9OAkAKD4RAs3/5vx4XhEDrBfqfRx+EQAmj/h9cJ4RAS3H6H4UvhEBoDv+fmTeEQKCU/3/CP4RAFfoFYLhGhEAv4wHAzE6EQE2ABkDhVoRA",
          "dtype": "f8"
         },
         "y": {
          "bdata": "sZsAYEjDVEDgfgIgFcxWQJ4H+5/RlFhAf0Py382VWkD85ChAlNNcQPSo+L8jfV5A6wX6n9dZYECUpwdgHiJhQIsw6v+BrmFAhXAWQMKTYkAlBRbAFEtjQFgD7z+N4mNA5ULlX0srZECglP9/EspkQCF97l/0AmVA0lfrH181ZUDRhg1gW1BlQChPD8C8PGVA/loDAGwSZUA6lQwAFfRkQLFw7Z+C12RAoCrwXypuZEBu0RPgxRpkQDIt+790xmNAwEAQIAM3Y0DaKQyA59xiQN2f5j+/UmJAGyTpPxCeYUDKtOz/EkdhQKTe+H96pWBAS0UZYBU5YEDp9u1/2/FeQC1q5n+o1F1AGN0wwHSmXECqCNxfYqJbQCbZNABlllpA9U31vzdlWUDbJf3/cC9YQDKvAgBwrFdAXHj7/zpiVkAyLfu/tKVVQPcdBYCRwVRAJHQCYB35U0Btf/zfMBFTQIgRBMAfV1JA/fQCYHqlUUD4m/0/1uFQQGM3AcAQPVBANwgIIBSMT0C1JPa/kltOQALk+F82Ok1AS9sJQO07TEA4xfw/e5pLQLQoBUAJgEpATqcKgFDaSUDvuQLAZ79IQBw3BOCCQkhAGxAAoDN5R0C2S/r/4adGQCPL9t/SDUZAkTL7n/BVRUDTAPefKZ1EQFu7BuAT9ENAL+MBwIxjQ0DTqQIgtL9CQClLAEDGWUJAxW4CgCGiQUDCYwXgmx5BQIpz9d9aV0BAs6oMgESNP0BqdP8/618+QGSx6v9eZT1AQREH4NExPEAZQPDfWVs7QCMK8z91FTpASTYNQFnuOEBBkw4gjU04QEil+d8hLTdAsfL0371QNkCoT/a/8YA1QFcf9t/WsTRAirLxP32bM0B/weqfEhEzQI95FQCAFTJAIagBIHoyMUCNAPq/G4swQHop6R9Mfy9AcOAfAIIJLkARG+p/0sksQIXv3P/writAtiMowKh7KkAXNCVA6hIpQMdm5H80AihAJ9Lk/+HKJkAEtAggEMclQKuZ778ZJyVAG/nVf0odJEDAKwOAw0IjQARJAIBhPiJATJj+X1SWIUB5LP8f/I4gQEwDBwADxx9A3wL8Xx1RHkCU/QJgjcgcQIoyB4CrPhxAu/r6HzUDG0Dyl/qfGmIZQAO2+h+diBhAyOQHwNUkF0CeWwSgM2QWQDBh+n9ROxVAZ1IDANklFECMggEA14gTQHVOB0BJ4BJAUtoE4OtoEkATVgLg2lYRQJ7w+/+EiRBA",
          "dtype": "f8"
         }
        },
        {
         "mode": "lines",
         "name": "0.05",
         "type": "scatter",
         "x": {
          "bdata": "CaP+H1y3gECglP9/wr+AQE2ABkDhxoBA6wX6n0fPgEBoDv+fmdeAQC/jAcDM3oBAs3/5vx7ngEBLcfofhe+AQPdcAeCj9oBAj04CQAr/gEAJo/4fXAeBQKCU/3/CD4FATYAGQOEWgUDrBfqfRx+BQGgO/5+ZJ4FAL+MBwMwugUCPTgJACjeBQOsF+p9HP4FAS3H6H4VHgUCglP9/wk+BQC/jAcDMVoFAj04CQApfgUDrBfqfR2eBQEtx+h+Fb4FAoJT/f8J3gUAv4wHAzH6BQLN/+b8eh4FAS3H6H4WPgUD3XAHgo5aBQI9OAkAKn4FACaP+H1yngUCglP9/wq+BQE2ABkDhtoFA6wX6n0e/gUBoDv+fmceBQC/jAcDMzoFAj04CQArXgUDrBfqfR9+BQEtx+h+F54FAoJT/f8LvgUAv4wHAzPaBQI9OAkAK/4FA6wX6n0cHgkBLcfofhQ+CQKCU/3/CF4JAL+MBwMwegkCzf/m/HieCQEtx+h+FL4JA91wB4KM2gkCPTgJACj+CQAmj/h9cR4JAoJT/f8JPgkBNgAZA4VaCQOsF+p9HX4JAaA7/n5lngkAv4wHAzG6CQI9OAkAKd4JA6wX6n0d/gkBLcfofhYeCQKCU/3/Cj4JAL+MBwMyWgkCPTgJACp+CQOsF+p9Hp4JAS3H6H4WvgkCglP9/wreCQC/jAcDMvoJATYAGQOHGgkCPTgJACs+CQLN/+b8e14JA6wX6n0ffgkAJo/4fXOeCQEtx+h+F74JAaA7/n5n3gkCglP9/wv+CQBX6BWC4BoNAL+MBwMwOg0CPTgJACheDQOsF+p9HH4NAS3H6H4Ung0CglP9/wi+DQC/jAcDMNoNAj04CQAo/g0DrBfqfR0eDQEtx+h+FT4NAoJT/f8JXg0Av4wHAzF6DQI9OAkAKZ4NA6wX6n0dvg0BLcfofhXeDQKCU/3/Cf4NAL+MBwMyGg0CPTgJACo+DQOsF+p9Hl4NAS3H6H4Wfg0CglP9/wqeDQC/jAcDMroNATYAGQOG2g0CPTgJACr+DQLN/+b8ex4NA6wX6n0fPg0AJo/4fXNeDQEtx+h+F34NAaA7/n5nng0CglP9/wu+DQBX6BWC49oNAL+MBwMz+g0BNgAZA4QaEQI9OAkAKD4RAs3/5vx4XhEDrBfqfRx+EQAmj/h9cJ4RAS3H6H4UvhEBoDv+fmTeEQKCU/3/CP4RAFfoFYLhGhEAv4wHAzE6EQE2ABkDhVoRA",
          "dtype": "f8"
         },
         "y": {
          "bdata": "jIIBANc4TUBijvU/hnhPQLtlA8DjHlFAAWYAoHGvUkDapwRALE5UQPdcAeAzYVVAeK//3/22VkBlAwIAtORXQI9OAkA6CFlAKSDtfwAEWkCGFRNA1utaQGJOK+D51FtAj+TyH9IzXEDSg8zfzsNcQFgGMMCZEF1ANNL3v8hGXUDXSSKg53JdQBbOJKD4al1A8cgO4GNJXUDBe/3/bhtdQCr0C8BQiFxA1TfV/948XECo0C8AQ8BbQLJEDOBSJltAyU0eYPdlWkD14+Wfzx5aQPNBKiBIEllA/9j7v3BjWEALMAMAzaBXQBsQAKCzBldAX0T8P14qVkDnfARADURVQD8C+7/VhFRAMxUDoOHOU0AfQgGASBxTQKBVAyCwLVJA/TP/v5x2UUCIEQTAX7RQQIzB/V+5HlBAzer8Xx7ETkCMwf1f+d1NQCHn/X8cnExAVmIBwG80S0AQ4PyfpkJKQDnsAIBK/EhAb2P1PydaSEBSMADgmpBHQKvc+p+ya0ZA55T8X+CXRUDsLP7fpudEQLEdCKCDJ0RA+08GYGZzQ0DpYP2fQ+NCQMPh/Z9gd0JAYZIEwHy2QUAOOwCgkhVBQPx2CqA1jUBARsEAgOsEQEAukeq/9+U+QAas6h8jVD5A2df0f5JbPUC9CgDAd008QMsGBADoWTtAxLENYLp0OkDjH/Cf8qM5QIETAqAnwDhAISb6377zN0BZQuufrz83QKrIEQBWhDZA9jX9n+TFNUA+GvPfKJk0QEyY/l9UIDRAQjgLICE1M0CYMP2/qJoyQCSz/r9/tjFAFKjuX5NEMUBPZP+fN34wQNiF3X995S9ADRT8X0M6LkBCUANA9GAtQI3V5v9VbyxAqU4owIedKkBKSSjgS88pQNQ+JQBizShA3LYQYGhqJ0DzQSogSH0mQEPe1R8ffiVAAtAPwFmeJEB1uwHghKcjQJmt/P8mNSNATuf/X7k+IkARHgCAgm0hQJjaAcB5WCBAaeH53ya0H0CvzgagHvMdQOOg/l/nbxxAtx38v0gqG0C9CQdAscUZQMva979bCBlAzzgF4DxwF0CB/ft/4boWQAO2+h+d2hVAjBf5XyjaFEDcDv5fJK0TQAxuBuDoHBNAIs8FYMn0EUDvZABA/0cRQLJu+591exBAjX35/5lCEEB3sw5g9BkOQNfJDGA5Jg1AxPP0PzDjC0D8zAWg5IUKQARx/T93YwlAfI7wP/caCUBuO/h/kaQHQJ+ZB4CPQQdA",
          "dtype": "f8"
         }
        },
        {
         "mode": "lines",
         "name": "0.04",
         "type": "scatter",
         "x": {
          "bdata": "CaP+H1y3gECglP9/wr+AQE2ABkDhxoBA6wX6n0fPgEBoDv+fmdeAQC/jAcDM3oBAs3/5vx7ngEBLcfofhe+AQPdcAeCj9oBAj04CQAr/gEAJo/4fXAeBQKCU/3/CD4FATYAGQOEWgUDrBfqfRx+BQGgO/5+ZJ4FAL+MBwMwugUCPTgJACjeBQOsF+p9HP4FAS3H6H4VHgUCglP9/wk+BQC/jAcDMVoFAj04CQApfgUDrBfqfR2eBQEtx+h+Fb4FAoJT/f8J3gUAv4wHAzH6BQLN/+b8eh4FAS3H6H4WPgUD3XAHgo5aBQI9OAkAKn4FACaP+H1yngUCglP9/wq+BQE2ABkDhtoFA6wX6n0e/gUBoDv+fmceBQC/jAcDMzoFAj04CQArXgUDrBfqfR9+BQEtx+h+F54FAoJT/f8LvgUAv4wHAzPaBQI9OAkAK/4FA6wX6n0cHgkBLcfofhQ+CQKCU/3/CF4JAL+MBwMwegkCzf/m/HieCQEtx+h+FL4JA91wB4KM2gkCPTgJACj+CQAmj/h9cR4JAoJT/f8JPgkBNgAZA4VaCQOsF+p9HX4JAaA7/n5lngkAv4wHAzG6CQI9OAkAKd4JA6wX6n0d/gkBLcfofhYeCQKCU/3/Cj4JAL+MBwMyWgkCPTgJACp+CQOsF+p9Hp4JAS3H6H4WvgkCglP9/wreCQC/jAcDMvoJATYAGQOHGgkCPTgJACs+CQLN/+b8e14JA6wX6n0ffgkAJo/4fXOeCQEtx+h+F74JAaA7/n5n3gkCglP9/wv+CQBX6BWC4BoNAL+MBwMwOg0CPTgJACheDQOsF+p9HH4NAS3H6H4Ung0CglP9/wi+DQC/jAcDMNoNAj04CQAo/g0DrBfqfR0eDQEtx+h+FT4NAoJT/f8JXg0Av4wHAzF6DQI9OAkAKZ4NA6wX6n0dvg0BLcfofhXeDQKCU/3/Cf4NAL+MBwMyGg0CPTgJACo+DQOsF+p9Hl4NAS3H6H4Wfg0CglP9/wqeDQC/jAcDMroNATYAGQOG2g0CPTgJACr+DQLN/+b8ex4NA6wX6n0fPg0AJo/4fXNeDQEtx+h+F34NAaA7/n5nng0CglP9/wu+DQBX6BWC49oNAL+MBwMz+g0BNgAZA4QaEQI9OAkAKD4RAs3/5vx4XhEDrBfqfRx+EQAmj/h9cJ4RAS3H6H4UvhEBoDv+fmTeEQKCU/3/CP4RAFfoFYLhGhEAv4wHAzE6EQE2ABkDhVoRA",
          "dtype": "f8"
         },
         "y": {
          "bdata": "Ljr2PwKjOkC+Re2fIy89QJ4H+5+RAz9AUm/8P73JQEDsrgUgYkdCQJdzCKDBOUNAu7z3P9mQRECZGAWg1ddFQKWuCEDUW0ZAUbIHIFZvR0Ck3vh/+iNIQB6dBIB08UhAedYDIM1ZSUCcYv6f/eFJQLVPCYBY5ElALVb930tBSkCn0f3/LEJKQN1zBYBPOUpAvq/8vwskSkBfg/ifAOZJQLjw9v91d0lADVP4v+UbSUC7vPc/We5IQLJY9X+vJEhAO1IBIDydR0AT6/k/LApHQLnY/t+iMUZA8UYHoKitRUDVDwPAJUBFQG+OCABtUkRACLv2P5+8Q0CIzvjfxvZCQK5RB2AgXkJAIs8FYEmdQUBMQQrgXvFAQLVPCYDYZkBAH5n1//0oP0CpIxUAwvg9QAXbDGBfszxAHV4IIFKMO0Bc4gogY7s6QOGS678xWTlAEcgEgFOuOECI5vD/mcw3QGjj69+zNjZAhIgOYBWZNUAaFA8gKtY0QNBfCSCMLjRAA/cTAKlwM0DbZPlfU20yQMK6+V8R8jFAraj735VzMUAKCf+/PfYwQMdS+9/XPTBAMGH6f1GxL0CdNh3gzfEuQCBpBcBXri1AMAoGAFyxLECRMvufcLQrQLKDCED1nCpAtFDXf0LQKUCb0BxAXEcpQCzYBCAHgihAgGr2Hx2XJ0BrXAcgGAInQIEmHUAaVSZAAjfeXzWrJUCBPhVg7YYkQHX6/T+n5CNArK78X5kVI0DAUwBA2X0iQLqqAKAJ1SFAhS4E4G99IUCWiwDAFHcgQHsP///rACBAc2wA4B/tHkDFb/v/558dQHa1AGCBgxxAn9n8X3huG0AA/waAOT8aQMJjBeAbYBlAdxz6f7lSGEA0PvnfPSYXQOAT+n8mDxZAsoMIQPV0FUCyAvp/ACIUQGfn+l8qsxNAzT//3wakEkD29/m/iM8RQPUO+V+VxBBA0AoHoCNcEEC8Dg9A7nsPQIg6+v87wQ1AOW0PQD9rDEAFMA/gx3EKQCEpEOBuJQpAncrwP/wTCUCF2QFgB40HQBxkCaBVZAZAr7n5/543BUAouxDgMbYDQBce9J9HrgNAnpv5fxyLAkAX3QVAmLABQNW4DkAw0ABA5339v9MwAEBFcOL/HMP/P6tb7N+9h/4/gVMiAG2o/D9l2wRAXrX6P5zO/79yU/o/xpUGwHCN+T+JouyfOm35P2ESGgAr4fY/qI7yHxSs9j+h0OXfxIb1P3uQ4j+EiPQ/",
          "dtype": "f8"
         }
        },
        {
         "mode": "lines",
         "name": "0.02",
         "type": "scatter",
         "x": {
          "bdata": "CaP+H1y3gECglP9/wr+AQE2ABkDhxoBA6wX6n0fPgEBoDv+fmdeAQC/jAcDM3oBAs3/5vx7ngEBLcfofhe+AQPdcAeCj9oBAj04CQAr/gEAJo/4fXAeBQKCU/3/CD4FATYAGQOEWgUDrBfqfRx+BQGgO/5+ZJ4FAL+MBwMwugUCPTgJACjeBQOsF+p9HP4FAS3H6H4VHgUCglP9/wk+BQC/jAcDMVoFAj04CQApfgUDrBfqfR2eBQEtx+h+Fb4FAoJT/f8J3gUAv4wHAzH6BQLN/+b8eh4FAS3H6H4WPgUD3XAHgo5aBQI9OAkAKn4FACaP+H1yngUCglP9/wq+BQE2ABkDhtoFA6wX6n0e/gUBoDv+fmceBQC/jAcDMzoFAj04CQArXgUDrBfqfR9+BQEtx+h+F54FAoJT/f8LvgUAv4wHAzPaBQI9OAkAK/4FA6wX6n0cHgkBLcfofhQ+CQKCU/3/CF4JAL+MBwMwegkCzf/m/HieCQEtx+h+FL4JA91wB4KM2gkCPTgJACj+CQAmj/h9cR4JAoJT/f8JPgkBNgAZA4VaCQOsF+p9HX4JAaA7/n5lngkAv4wHAzG6CQI9OAkAKd4JA6wX6n0d/gkBLcfofhYeCQKCU/3/Cj4JAL+MBwMyWgkCPTgJACp+CQOsF+p9Hp4JAS3H6H4WvgkCglP9/wreCQC/jAcDMvoJATYAGQOHGgkCPTgJACs+CQLN/+b8e14JA6wX6n0ffgkAJo/4fXOeCQEtx+h+F74JAaA7/n5n3gkCglP9/wv+CQBX6BWC4BoNAL+MBwMwOg0CPTgJACheDQOsF+p9HH4NAS3H6H4Ung0CglP9/wi+DQC/jAcDMNoNAj04CQAo/g0DrBfqfR0eDQEtx+h+FT4NAoJT/f8JXg0Av4wHAzF6DQI9OAkAKZ4NA6wX6n0dvg0BLcfofhXeDQKCU/3/Cf4NAL+MBwMyGg0CPTgJACo+DQOsF+p9Hl4NAS3H6H4Wfg0CglP9/wqeDQC/jAcDMroNATYAGQOG2g0CPTgJACr+DQLN/+b8ex4NA6wX6n0fPg0AJo/4fXNeDQEtx+h+F34NAaA7/n5nng0CglP9/wu+DQBX6BWC49oNAL+MBwMz+g0BNgAZA4QaEQI9OAkAKD4RAs3/5vx4XhEDrBfqfRx+EQAmj/h9cJ4RAS3H6H4UvhEBoDv+fmTeEQKCU/3/CP4RAFfoFYLhGhEAv4wHAzE6EQE2ABkDhVoRA",
          "dtype": "f8"
         },
         "y": {
          "bdata": "+NkAILKgI0DJjei/g5AlQI0TFWAOBSdAptUMgCMPKUCB0Pa/ju0qQCjO1X9rYSxADWvw3zhyLkDZLRsAHukvQOWYC+BWpjBA9XgIgH1BMUAI+vKfwYYxQIyCAQDXiDJALjr2PwLEMkBEngvAkgUzQDZjCyAAUjNA6KMIgFxMM0ALb/9frzczQBYhCqD3WTNABAfuH483M0BHfvWf0v0yQDLD659MwzJAi0cUICuVMkBS2QtgJSMyQDkr/d9suDFAfrEQgCxYMUBHP/k/sOgwQBFG/T+YizBAmhMoIPXGL0AyhO8/KuAuQM0p+b/AiS1AmUDX3461LEDRmvb/N7krQLXNAUAduCpAXM4hgAaZKUDMFt4fzpkoQHY25J8ZFihA3Iv9n6IcJ0CJ4ROAuSsmQOVFJuDXaCVAFLzX/+90JEDGKv4fwmQjQG77AqCorCJAARH+Hwk7IkAJTQMgnUQhQJ/YA+CxlyBA0Lb9n4H6H0DCuvlfEUweQEws/T/fTh1AAKoEANGkHEAhU/+fEbQbQCd+BoCcdRpAs0D9X1xXGUD0Uv2/9EIZQETHAQBvMRhAzvoBAOFcF0BOfPe/CskWQHq/BIDAuxVAiTgIAK+tFUDBkvyf+7YUQI1UA8C9DBRAuij5X06BE0AjiwEAas4SQDqA/1/VIhJANU7+f4CzEUDAqfs/CPwQQHCg/588WhBAyc0IIMnBD0DFMP+fxd0OQHOBDYCfRg1AqbgMYBO3DEC6agvAIMQLQKwr/J8XJAtAoVD7H/NgCUD9ngdgy28IQK1/BaC5dQdAtHwOQCvnBkAu6AnASTsGQGyEBOAtFQVAMV4PAP48BEAwoe9fOlgDQL0IDsDqrgJA8IoLAIjFAUB06Aag12cBQGo1A+DIIQBAJ34GgJwTAEBwjBYA4JH+P2MNEgDuavw/3gUSYM1b+z8XnOxfjGr6P0Vv6X9WhPg/X+zjv0Vx9z9/WhwAN1T3P5Ja+F+GBfc/1H4a4EoK9T9WOBIAzZT0P7Hy9N+9ivI/E1YC4Nok8j/BpwlAeyzxP4peE8A39/A//mn6X/vY7z96yAVABNjvP98Q+j/mF+4/lwwEoFFD7T8M/gAgtaXqP6Z9/9/CTeo/0i38X/xs6j920fwfE+HmP4YOBIAfUOY/NNr//0Xo5T+Yhf8/ERXnP+eG/n8X0+U/Ztb8PyEH4j9/KwWgssrhP+Dd/t9HC+I/+oz7/w524T/mawYgBKDgPyut/D/51d8/",
          "dtype": "f8"
         }
        },
        {
         "mode": "lines",
         "name": "0.01",
         "type": "scatter",
         "x": {
          "bdata": "CaP+H1y3gECglP9/wr+AQE2ABkDhxoBA6wX6n0fPgEBoDv+fmdeAQC/jAcDM3oBAs3/5vx7ngEBLcfofhe+AQPdcAeCj9oBAj04CQAr/gEAJo/4fXAeBQKCU/3/CD4FATYAGQOEWgUDrBfqfRx+BQGgO/5+ZJ4FAL+MBwMwugUCPTgJACjeBQOsF+p9HP4FAS3H6H4VHgUCglP9/wk+BQC/jAcDMVoFAj04CQApfgUDrBfqfR2eBQEtx+h+Fb4FAoJT/f8J3gUAv4wHAzH6BQLN/+b8eh4FAS3H6H4WPgUD3XAHgo5aBQI9OAkAKn4FACaP+H1yngUCglP9/wq+BQE2ABkDhtoFA6wX6n0e/gUBoDv+fmceBQC/jAcDMzoFAj04CQArXgUDrBfqfR9+BQEtx+h+F54FAoJT/f8LvgUAv4wHAzPaBQI9OAkAK/4FA6wX6n0cHgkBLcfofhQ+CQKCU/3/CF4JAL+MBwMwegkCzf/m/HieCQEtx+h+FL4JA91wB4KM2gkCPTgJACj+CQAmj/h9cR4JAoJT/f8JPgkBNgAZA4VaCQOsF+p9HX4JAaA7/n5lngkAv4wHAzG6CQI9OAkAKd4JA6wX6n0d/gkBLcfofhYeCQKCU/3/Cj4JAL+MBwMyWgkCPTgJACp+CQOsF+p9Hp4JAS3H6H4WvgkCglP9/wreCQC/jAcDMvoJATYAGQOHGgkCPTgJACs+CQLN/+b8e14JA6wX6n0ffgkAJo/4fXOeCQEtx+h+F74JAaA7/n5n3gkCglP9/wv+CQBX6BWC4BoNAL+MBwMwOg0CPTgJACheDQOsF+p9HH4NAS3H6H4Ung0CglP9/wi+DQC/jAcDMNoNAj04CQAo/g0DrBfqfR0eDQEtx+h+FT4NAoJT/f8JXg0Av4wHAzF6DQI9OAkAKZ4NA6wX6n0dvg0BLcfofhXeDQKCU/3/Cf4NAL+MBwMyGg0CPTgJACo+DQOsF+p9Hl4NAS3H6H4Wfg0CglP9/wqeDQC/jAcDMroNATYAGQOG2g0CPTgJACr+DQLN/+b8ex4NA6wX6n0fPg0AJo/4fXNeDQEtx+h+F34NAaA7/n5nng0CglP9/wu+DQBX6BWC49oNAL+MBwMz+g0BNgAZA4QaEQI9OAkAKD4RAs3/5vx4XhEDrBfqfRx+EQAmj/h9cJ4RAS3H6H4UvhEBoDv+fmTeEQKCU/3/CP4RAFfoFYLhGhEAv4wHAzE6EQE2ABkDhVoRA",
          "dtype": "f8"
         },
         "y": {
          "bdata": "/4EHQLt9F0C9SAOg02EZQIGmBwDsUBtA7/j+H4qcHUAfrgKgfRcgQCF7/F8nyyBAv0ICINCyIUBOkv3fULkiQIM1/t85aiNA1FIOoL4vJECczdu/T9QkQPZ0+f8GLSVAI9/ff6/VJUBTf9ZfI28mQHZ14P87kCZA2Fn8v02FJkDkXR4Aq8ImQDGfKOAJiSZALMQbgKpHJkBU/AAg/iQmQInNKuBcJyZAHvMqAABtJUB6VPzfES0lQJ1KBoAqqiRABBvXv+s9JECemgAAVr8jQP3e/D+0FiNAZPID4GqrIkDTVACgSwYiQI1V/D+ENyFAJgIAwOTMIEDGfwCgKgcgQB7FAUCKWB9AazD734t1HUBnvgQgTqkcQI5m+l+NextAAk4IgJ66GkDgvvf/vQ4aQGAA+N/+gRhA4iIGoKKHF0BnkvjfwZoWQEfT9x87XRVAQREH4NH4FECY8QBghu4TQP7GBCDhvBJALnwIoNSZEkAVefefs20RQIJiA6CMHBFAPsgGYHBAEEAf1/jfWQMQQIwB8z/i5w5AVvf4H8GmDUBiTgBgnQANQF0z/h9V5AtACJAOADb7CkC47gQAaaUKQFB1/b9AkQlA5W7xn1eMCEDESPe/mJ8HQHtm83/hpQdAecLv/xM2BkBWtwNA2JcFQFv7+7/8cwVAjqbvP3ZKBEAUkwxAcIcDQFCLA+CG8QJAVOb6/7ekAkDKR/Jfl94BQPb3+b+IZQFAZykNwPy1AEAokP0fbCwAQIXE9L+Hu/4/t17qH/gb/j8UqeffWcP9P7Y19N8bjPw/r84GoB75+j+MbR/gsxf5P0WFGiD5vPc/bC4J4P6F9z/0EwFg0r72P8NKFECCwfU/YNQWIM/D9D/jDACAXD30P1z45b9Mu/M/BxLrv5Si8j8IzuZfNQDyP8ij7t/JUvE/JhcNYGQW8D9GNgNgJFrvPyQaA8Bvmu0/BqUG4MiP7D/Wwv2fgr3pPyJS+z+Tdeo/ToD7X8nU6T+DPv+ffXvnPzKQ+x9mE+c/qk3536xi5j9o0wbgFSvkP/je/T83reM/Nuv9H0+u4j9rK/6/Bi3iP31V/z8NqeE/AxwGoMYW4D8Qi/ofvsbhP7ZP/p8g4N8/KFoCgI3K3T/4NwRgXr3cP/y89R/q3ts/oJgDIBEj3z9B0wMAdufZP3ow+N8C3NY/CV8FoCSA1T9CKfQf7XbWP4f48n8hNNg/EtAB4Bhd1T9gofsfjHLXP2QX9n+IINM/",
          "dtype": "f8"
         }
        }
       ],
       "layout": {
        "font": {
         "size": 14
        },
        "height": 600,
        "legend": {
         "x": 0.9,
         "y": 0.9
        },
        "template": {
         "data": {
          "bar": [
           {
            "error_x": {
             "color": "#2a3f5f"
            },
            "error_y": {
             "color": "#2a3f5f"
            },
            "marker": {
             "line": {
              "color": "#E5ECF6",
              "width": 0.5
             },
             "pattern": {
              "fillmode": "overlay",
              "size": 10,
              "solidity": 0.2
             }
            },
            "type": "bar"
           }
          ],
          "barpolar": [
           {
            "marker": {
             "line": {
              "color": "#E5ECF6",
              "width": 0.5
             },
             "pattern": {
              "fillmode": "overlay",
              "size": 10,
              "solidity": 0.2
             }
            },
            "type": "barpolar"
           }
          ],
          "carpet": [
           {
            "aaxis": {
             "endlinecolor": "#2a3f5f",
             "gridcolor": "white",
             "linecolor": "white",
             "minorgridcolor": "white",
             "startlinecolor": "#2a3f5f"
            },
            "baxis": {
             "endlinecolor": "#2a3f5f",
             "gridcolor": "white",
             "linecolor": "white",
             "minorgridcolor": "white",
             "startlinecolor": "#2a3f5f"
            },
            "type": "carpet"
           }
          ],
          "choropleth": [
           {
            "colorbar": {
             "outlinewidth": 0,
             "ticks": ""
            },
            "type": "choropleth"
           }
          ],
          "contour": [
           {
            "colorbar": {
             "outlinewidth": 0,
             "ticks": ""
            },
            "colorscale": [
             [
              0,
              "#0d0887"
             ],
             [
              0.1111111111111111,
              "#46039f"
             ],
             [
              0.2222222222222222,
              "#7201a8"
             ],
             [
              0.3333333333333333,
              "#9c179e"
             ],
             [
              0.4444444444444444,
              "#bd3786"
             ],
             [
              0.5555555555555556,
              "#d8576b"
             ],
             [
              0.6666666666666666,
              "#ed7953"
             ],
             [
              0.7777777777777778,
              "#fb9f3a"
             ],
             [
              0.8888888888888888,
              "#fdca26"
             ],
             [
              1,
              "#f0f921"
             ]
            ],
            "type": "contour"
           }
          ],
          "contourcarpet": [
           {
            "colorbar": {
             "outlinewidth": 0,
             "ticks": ""
            },
            "type": "contourcarpet"
           }
          ],
          "heatmap": [
           {
            "colorbar": {
             "outlinewidth": 0,
             "ticks": ""
            },
            "colorscale": [
             [
              0,
              "#0d0887"
             ],
             [
              0.1111111111111111,
              "#46039f"
             ],
             [
              0.2222222222222222,
              "#7201a8"
             ],
             [
              0.3333333333333333,
              "#9c179e"
             ],
             [
              0.4444444444444444,
              "#bd3786"
             ],
             [
              0.5555555555555556,
              "#d8576b"
             ],
             [
              0.6666666666666666,
              "#ed7953"
             ],
             [
              0.7777777777777778,
              "#fb9f3a"
             ],
             [
              0.8888888888888888,
              "#fdca26"
             ],
             [
              1,
              "#f0f921"
             ]
            ],
            "type": "heatmap"
           }
          ],
          "histogram": [
           {
            "marker": {
             "pattern": {
              "fillmode": "overlay",
              "size": 10,
              "solidity": 0.2
             }
            },
            "type": "histogram"
           }
          ],
          "histogram2d": [
           {
            "colorbar": {
             "outlinewidth": 0,
             "ticks": ""
            },
            "colorscale": [
             [
              0,
              "#0d0887"
             ],
             [
              0.1111111111111111,
              "#46039f"
             ],
             [
              0.2222222222222222,
              "#7201a8"
             ],
             [
              0.3333333333333333,
              "#9c179e"
             ],
             [
              0.4444444444444444,
              "#bd3786"
             ],
             [
              0.5555555555555556,
              "#d8576b"
             ],
             [
              0.6666666666666666,
              "#ed7953"
             ],
             [
              0.7777777777777778,
              "#fb9f3a"
             ],
             [
              0.8888888888888888,
              "#fdca26"
             ],
             [
              1,
              "#f0f921"
             ]
            ],
            "type": "histogram2d"
           }
          ],
          "histogram2dcontour": [
           {
            "colorbar": {
             "outlinewidth": 0,
             "ticks": ""
            },
            "colorscale": [
             [
              0,
              "#0d0887"
             ],
             [
              0.1111111111111111,
              "#46039f"
             ],
             [
              0.2222222222222222,
              "#7201a8"
             ],
             [
              0.3333333333333333,
              "#9c179e"
             ],
             [
              0.4444444444444444,
              "#bd3786"
             ],
             [
              0.5555555555555556,
              "#d8576b"
             ],
             [
              0.6666666666666666,
              "#ed7953"
             ],
             [
              0.7777777777777778,
              "#fb9f3a"
             ],
             [
              0.8888888888888888,
              "#fdca26"
             ],
             [
              1,
              "#f0f921"
             ]
            ],
            "type": "histogram2dcontour"
           }
          ],
          "mesh3d": [
           {
            "colorbar": {
             "outlinewidth": 0,
             "ticks": ""
            },
            "type": "mesh3d"
           }
          ],
          "parcoords": [
           {
            "line": {
             "colorbar": {
              "outlinewidth": 0,
              "ticks": ""
             }
            },
            "type": "parcoords"
           }
          ],
          "pie": [
           {
            "automargin": true,
            "type": "pie"
           }
          ],
          "scatter": [
           {
            "fillpattern": {
             "fillmode": "overlay",
             "size": 10,
             "solidity": 0.2
            },
            "type": "scatter"
           }
          ],
          "scatter3d": [
           {
            "line": {
             "colorbar": {
              "outlinewidth": 0,
              "ticks": ""
             }
            },
            "marker": {
             "colorbar": {
              "outlinewidth": 0,
              "ticks": ""
             }
            },
            "type": "scatter3d"
           }
          ],
          "scattercarpet": [
           {
            "marker": {
             "colorbar": {
              "outlinewidth": 0,
              "ticks": ""
             }
            },
            "type": "scattercarpet"
           }
          ],
          "scattergeo": [
           {
            "marker": {
             "colorbar": {
              "outlinewidth": 0,
              "ticks": ""
             }
            },
            "type": "scattergeo"
           }
          ],
          "scattergl": [
           {
            "marker": {
             "colorbar": {
              "outlinewidth": 0,
              "ticks": ""
             }
            },
            "type": "scattergl"
           }
          ],
          "scattermap": [
           {
            "marker": {
             "colorbar": {
              "outlinewidth": 0,
              "ticks": ""
             }
            },
            "type": "scattermap"
           }
          ],
          "scattermapbox": [
           {
            "marker": {
             "colorbar": {
              "outlinewidth": 0,
              "ticks": ""
             }
            },
            "type": "scattermapbox"
           }
          ],
          "scatterpolar": [
           {
            "marker": {
             "colorbar": {
              "outlinewidth": 0,
              "ticks": ""
             }
            },
            "type": "scatterpolar"
           }
          ],
          "scatterpolargl": [
           {
            "marker": {
             "colorbar": {
              "outlinewidth": 0,
              "ticks": ""
             }
            },
            "type": "scatterpolargl"
           }
          ],
          "scatterternary": [
           {
            "marker": {
             "colorbar": {
              "outlinewidth": 0,
              "ticks": ""
             }
            },
            "type": "scatterternary"
           }
          ],
          "surface": [
           {
            "colorbar": {
             "outlinewidth": 0,
             "ticks": ""
            },
            "colorscale": [
             [
              0,
              "#0d0887"
             ],
             [
              0.1111111111111111,
              "#46039f"
             ],
             [
              0.2222222222222222,
              "#7201a8"
             ],
             [
              0.3333333333333333,
              "#9c179e"
             ],
             [
              0.4444444444444444,
              "#bd3786"
             ],
             [
              0.5555555555555556,
              "#d8576b"
             ],
             [
              0.6666666666666666,
              "#ed7953"
             ],
             [
              0.7777777777777778,
              "#fb9f3a"
             ],
             [
              0.8888888888888888,
              "#fdca26"
             ],
             [
              1,
              "#f0f921"
             ]
            ],
            "type": "surface"
           }
          ],
          "table": [
           {
            "cells": {
             "fill": {
              "color": "#EBF0F8"
             },
             "line": {
              "color": "white"
             }
            },
            "header": {
             "fill": {
              "color": "#C8D4E3"
             },
             "line": {
              "color": "white"
             }
            },
            "type": "table"
           }
          ]
         },
         "layout": {
          "annotationdefaults": {
           "arrowcolor": "#2a3f5f",
           "arrowhead": 0,
           "arrowwidth": 1
          },
          "autotypenumbers": "strict",
          "coloraxis": {
           "colorbar": {
            "outlinewidth": 0,
            "ticks": ""
           }
          },
          "colorscale": {
           "diverging": [
            [
             0,
             "#8e0152"
            ],
            [
             0.1,
             "#c51b7d"
            ],
            [
             0.2,
             "#de77ae"
            ],
            [
             0.3,
             "#f1b6da"
            ],
            [
             0.4,
             "#fde0ef"
            ],
            [
             0.5,
             "#f7f7f7"
            ],
            [
             0.6,
             "#e6f5d0"
            ],
            [
             0.7,
             "#b8e186"
            ],
            [
             0.8,
             "#7fbc41"
            ],
            [
             0.9,
             "#4d9221"
            ],
            [
             1,
             "#276419"
            ]
           ],
           "sequential": [
            [
             0,
             "#0d0887"
            ],
            [
             0.1111111111111111,
             "#46039f"
            ],
            [
             0.2222222222222222,
             "#7201a8"
            ],
            [
             0.3333333333333333,
             "#9c179e"
            ],
            [
             0.4444444444444444,
             "#bd3786"
            ],
            [
             0.5555555555555556,
             "#d8576b"
            ],
            [
             0.6666666666666666,
             "#ed7953"
            ],
            [
             0.7777777777777778,
             "#fb9f3a"
            ],
            [
             0.8888888888888888,
             "#fdca26"
            ],
            [
             1,
             "#f0f921"
            ]
           ],
           "sequentialminus": [
            [
             0,
             "#0d0887"
            ],
            [
             0.1111111111111111,
             "#46039f"
            ],
            [
             0.2222222222222222,
             "#7201a8"
            ],
            [
             0.3333333333333333,
             "#9c179e"
            ],
            [
             0.4444444444444444,
             "#bd3786"
            ],
            [
             0.5555555555555556,
             "#d8576b"
            ],
            [
             0.6666666666666666,
             "#ed7953"
            ],
            [
             0.7777777777777778,
             "#fb9f3a"
            ],
            [
             0.8888888888888888,
             "#fdca26"
            ],
            [
             1,
             "#f0f921"
            ]
           ]
          },
          "colorway": [
           "#636efa",
           "#EF553B",
           "#00cc96",
           "#ab63fa",
           "#FFA15A",
           "#19d3f3",
           "#FF6692",
           "#B6E880",
           "#FF97FF",
           "#FECB52"
          ],
          "font": {
           "color": "#2a3f5f"
          },
          "geo": {
           "bgcolor": "white",
           "lakecolor": "white",
           "landcolor": "#E5ECF6",
           "showlakes": true,
           "showland": true,
           "subunitcolor": "white"
          },
          "hoverlabel": {
           "align": "left"
          },
          "hovermode": "closest",
          "mapbox": {
           "style": "light"
          },
          "paper_bgcolor": "white",
          "plot_bgcolor": "#E5ECF6",
          "polar": {
           "angularaxis": {
            "gridcolor": "white",
            "linecolor": "white",
            "ticks": ""
           },
           "bgcolor": "#E5ECF6",
           "radialaxis": {
            "gridcolor": "white",
            "linecolor": "white",
            "ticks": ""
           }
          },
          "scene": {
           "xaxis": {
            "backgroundcolor": "#E5ECF6",
            "gridcolor": "white",
            "gridwidth": 2,
            "linecolor": "white",
            "showbackground": true,
            "ticks": "",
            "zerolinecolor": "white"
           },
           "yaxis": {
            "backgroundcolor": "#E5ECF6",
            "gridcolor": "white",
            "gridwidth": 2,
            "linecolor": "white",
            "showbackground": true,
            "ticks": "",
            "zerolinecolor": "white"
           },
           "zaxis": {
            "backgroundcolor": "#E5ECF6",
            "gridcolor": "white",
            "gridwidth": 2,
            "linecolor": "white",
            "showbackground": true,
            "ticks": "",
            "zerolinecolor": "white"
           }
          },
          "shapedefaults": {
           "line": {
            "color": "#2a3f5f"
           }
          },
          "ternary": {
           "aaxis": {
            "gridcolor": "white",
            "linecolor": "white",
            "ticks": ""
           },
           "baxis": {
            "gridcolor": "white",
            "linecolor": "white",
            "ticks": ""
           },
           "bgcolor": "#E5ECF6",
           "caxis": {
            "gridcolor": "white",
            "linecolor": "white",
            "ticks": ""
           }
          },
          "title": {
           "x": 0.05
          },
          "xaxis": {
           "automargin": true,
           "gridcolor": "white",
           "linecolor": "white",
           "ticks": "",
           "title": {
            "standoff": 15
           },
           "zerolinecolor": "white",
           "zerolinewidth": 2
          },
          "yaxis": {
           "automargin": true,
           "gridcolor": "white",
           "linecolor": "white",
           "ticks": "",
           "title": {
            "standoff": 15
           },
           "zerolinecolor": "white",
           "zerolinewidth": 2
          }
         }
        },
        "width": 800,
        "xaxis": {
         "title": {
          "text": "Wavelength (nm)"
         }
        },
        "yaxis": {
         "range": [
          0,
          1000
         ],
         "title": {
          "text": "Intensity (a.u.)"
         }
        }
       }
      }
     },
     "metadata": {},
     "output_type": "display_data"
    }
   ],
   "source": [
    "fig = go.Figure()\n",
    "\n",
    "for λ_col, I_col, a in zip(WAVELENGHTS, INTENSITIES, ASS):\n",
    "    fig.add_trace(go.Scatter(x=data[λ_col], y=data[I_col],\n",
    "                    mode='lines',\n",
    "                    name=f'{np.round(a, 2)}'))\n",
    "    \n",
    "# fig.add_trace(go.Scatter(x=fondo['λfondo'],y=fondo['Ifondo'],\n",
    "#                     mode='lines',\n",
    "#                     name=f'fondo'))\n",
    "\n",
    "fig.update_layout(\n",
    "                  xaxis_title='Wavelength (nm)',\n",
    "                  yaxis_title='Intensity (a.u.)',\n",
    "                  height=600,\n",
    "                  width=800,\n",
    "                  yaxis=dict(range=[0, 1000]),\n",
    "                  legend=dict(x=0.9, y=0.9),\n",
    "                  font=dict(size=14))\n",
    "\n",
    "fig.write_html(dir_path + r\"\\html\\emission_spectrum.html\")\n",
    "fig.write_image(dir_path + r\"\\images\\emission_spectrum.png\")\n",
    "fig.show()"
   ]
  },
  {
   "cell_type": "markdown",
   "metadata": {},
   "source": [
    "segue fit parabolico dei picchi dello spettro, vengono considerati solo i 5 punti a destra e 5 a sinistra del punto massimo dello spettro\n",
    "\n",
    "segue l'estrapolazione del valore di Imax"
   ]
  },
  {
   "cell_type": "code",
   "execution_count": 12,
   "metadata": {},
   "outputs": [
    {
     "name": "stdout",
     "output_type": "stream",
     "text": [
      "Tabella con i fit di tutti i picchi delle parabole\n"
     ]
    },
    {
     "data": {
      "text/html": [
       "<div>\n",
       "<style scoped>\n",
       "    .dataframe tbody tr th:only-of-type {\n",
       "        vertical-align: middle;\n",
       "    }\n",
       "\n",
       "    .dataframe tbody tr th {\n",
       "        vertical-align: top;\n",
       "    }\n",
       "\n",
       "    .dataframe thead th {\n",
       "        text-align: right;\n",
       "    }\n",
       "</style>\n",
       "<table border=\"1\" class=\"dataframe\">\n",
       "  <thead>\n",
       "    <tr style=\"text-align: right;\">\n",
       "      <th></th>\n",
       "      <th>Absorbance</th>\n",
       "      <th>λcenter</th>\n",
       "      <th>a</th>\n",
       "      <th>IMAX</th>\n",
       "      <th>error_λcenter</th>\n",
       "      <th>error_a</th>\n",
       "      <th>error_IMAX</th>\n",
       "    </tr>\n",
       "  </thead>\n",
       "  <tbody>\n",
       "    <tr>\n",
       "      <th>0</th>\n",
       "      <td>0.480042</td>\n",
       "      <td>554.044219</td>\n",
       "      <td>2.442431</td>\n",
       "      <td>940.693325</td>\n",
       "      <td>0.274804</td>\n",
       "      <td>0.443226</td>\n",
       "      <td>1.342285</td>\n",
       "    </tr>\n",
       "    <tr>\n",
       "      <th>1</th>\n",
       "      <td>0.352690</td>\n",
       "      <td>553.742124</td>\n",
       "      <td>2.156915</td>\n",
       "      <td>819.968625</td>\n",
       "      <td>0.285710</td>\n",
       "      <td>0.435038</td>\n",
       "      <td>1.546347</td>\n",
       "    </tr>\n",
       "    <tr>\n",
       "      <th>2</th>\n",
       "      <td>0.263436</td>\n",
       "      <td>552.758972</td>\n",
       "      <td>1.744154</td>\n",
       "      <td>718.450202</td>\n",
       "      <td>0.067448</td>\n",
       "      <td>0.081499</td>\n",
       "      <td>0.254055</td>\n",
       "    </tr>\n",
       "    <tr>\n",
       "      <th>3</th>\n",
       "      <td>0.174750</td>\n",
       "      <td>551.865053</td>\n",
       "      <td>1.027011</td>\n",
       "      <td>492.753337</td>\n",
       "      <td>0.074358</td>\n",
       "      <td>0.052306</td>\n",
       "      <td>0.178710</td>\n",
       "    </tr>\n",
       "    <tr>\n",
       "      <th>4</th>\n",
       "      <td>0.087549</td>\n",
       "      <td>551.494151</td>\n",
       "      <td>0.503627</td>\n",
       "      <td>238.703070</td>\n",
       "      <td>0.147158</td>\n",
       "      <td>0.053501</td>\n",
       "      <td>0.250304</td>\n",
       "    </tr>\n",
       "    <tr>\n",
       "      <th>5</th>\n",
       "      <td>0.070475</td>\n",
       "      <td>551.279005</td>\n",
       "      <td>0.386982</td>\n",
       "      <td>170.262114</td>\n",
       "      <td>0.137228</td>\n",
       "      <td>0.036855</td>\n",
       "      <td>0.180003</td>\n",
       "    </tr>\n",
       "    <tr>\n",
       "      <th>6</th>\n",
       "      <td>0.052845</td>\n",
       "      <td>551.307117</td>\n",
       "      <td>0.243386</td>\n",
       "      <td>117.772112</td>\n",
       "      <td>0.080942</td>\n",
       "      <td>0.013286</td>\n",
       "      <td>0.070467</td>\n",
       "    </tr>\n",
       "    <tr>\n",
       "      <th>7</th>\n",
       "      <td>0.035265</td>\n",
       "      <td>551.090509</td>\n",
       "      <td>0.101588</td>\n",
       "      <td>52.545366</td>\n",
       "      <td>0.128419</td>\n",
       "      <td>0.009120</td>\n",
       "      <td>0.057811</td>\n",
       "    </tr>\n",
       "    <tr>\n",
       "      <th>8</th>\n",
       "      <td>0.017633</td>\n",
       "      <td>550.856778</td>\n",
       "      <td>0.031331</td>\n",
       "      <td>19.321189</td>\n",
       "      <td>0.203719</td>\n",
       "      <td>0.004558</td>\n",
       "      <td>0.033509</td>\n",
       "    </tr>\n",
       "    <tr>\n",
       "      <th>9</th>\n",
       "      <td>0.008831</td>\n",
       "      <td>550.925065</td>\n",
       "      <td>0.024793</td>\n",
       "      <td>11.330715</td>\n",
       "      <td>0.231624</td>\n",
       "      <td>0.004218</td>\n",
       "      <td>0.036550</td>\n",
       "    </tr>\n",
       "  </tbody>\n",
       "</table>\n",
       "</div>"
      ],
      "text/plain": [
       "   Absorbance     λcenter         a        IMAX  error_λcenter   error_a  \\\n",
       "0    0.480042  554.044219  2.442431  940.693325       0.274804  0.443226   \n",
       "1    0.352690  553.742124  2.156915  819.968625       0.285710  0.435038   \n",
       "2    0.263436  552.758972  1.744154  718.450202       0.067448  0.081499   \n",
       "3    0.174750  551.865053  1.027011  492.753337       0.074358  0.052306   \n",
       "4    0.087549  551.494151  0.503627  238.703070       0.147158  0.053501   \n",
       "5    0.070475  551.279005  0.386982  170.262114       0.137228  0.036855   \n",
       "6    0.052845  551.307117  0.243386  117.772112       0.080942  0.013286   \n",
       "7    0.035265  551.090509  0.101588   52.545366       0.128419  0.009120   \n",
       "8    0.017633  550.856778  0.031331   19.321189       0.203719  0.004558   \n",
       "9    0.008831  550.925065  0.024793   11.330715       0.231624  0.004218   \n",
       "\n",
       "   error_IMAX  \n",
       "0    1.342285  \n",
       "1    1.546347  \n",
       "2    0.254055  \n",
       "3    0.178710  \n",
       "4    0.250304  \n",
       "5    0.180003  \n",
       "6    0.070467  \n",
       "7    0.057811  \n",
       "8    0.033509  \n",
       "9    0.036550  "
      ]
     },
     "metadata": {},
     "output_type": "display_data"
    }
   ],
   "source": [
    "λcenter_list = []\n",
    "a_list = []\n",
    "IMAX_list = []\n",
    "error_λcenter_list = []\n",
    "error_a_list = []\n",
    "error_IMAX_list = []\n",
    "sigmay = [] # contiene l'errore propagato con x\n",
    "for λ_col, I_col in zip(WAVELENGHTS, INTENSITIES):\n",
    "    Λ = data[λ_col]\n",
    "    I = data[I_col]\n",
    "    Λmaxcenter = I.idxmax()\n",
    "\n",
    "    λcenter = Λ[Λmaxcenter] # guess\n",
    "    IMAX = I.max() # guess\n",
    "    a = 1 # guess\n",
    "\n",
    "    xrangemax = Λ[Λmaxcenter-5:Λmaxcenter+5] # 10 points around the max\n",
    "    yrangemax = I[Λmaxcenter-5:Λmaxcenter+5] # 10 points around the max\n",
    "    # ---- per considerare errore su lambda di 1.5nm\n",
    "    # iterazione 0\n",
    "    popt, pcov = curve_fit(max_fit_parabolic, xrangemax, yrangemax, p0=[λcenter, a, IMAX])\n",
    "    λcenter, a, IMAX = popt\n",
    "    error_λcenter, error_a, error_IMAX = np.sqrt(np.diag(pcov))\n",
    "    # iterazione 1\n",
    "    dydl = np.abs(-2*a*(λcenter-xrangemax)) # derivata prima rispetto a λ\n",
    "    sy = dydl*SIGMA_LAMBDA\n",
    "    popt, pcov = curve_fit(max_fit_parabolic, xrangemax, yrangemax, p0=[λcenter, a, IMAX],sigma=sy)\n",
    "    λcenter, a, IMAX = popt\n",
    "    error_λcenter, error_a, error_IMAX = np.sqrt(np.diag(pcov))\n",
    "    # iterazione 2\n",
    "    d2ydl2 = np.abs(-2*a) # derivata seconda rispetto a λ\n",
    "    sy = np.sqrt((dydl*SIGMA_LAMBDA)**2 + (0.5*d2ydl2*SIGMA_LAMBDA**2)) # errore propagato\n",
    "    popt, pcov = curve_fit(max_fit_parabolic, xrangemax, yrangemax, p0=[λcenter, a, IMAX],sigma=sy)\n",
    "    λcenter, a, IMAX = popt\n",
    "    error_λcenter, error_a, error_IMAX = np.sqrt(np.diag(pcov))\n",
    "\n",
    "    λcenter_list.append(λcenter)\n",
    "    a_list.append(a)\n",
    "    IMAX_list.append(IMAX)\n",
    "    error_λcenter_list.append(error_λcenter)\n",
    "    error_a_list.append(error_a)\n",
    "    error_IMAX_list.append(error_IMAX)\n",
    "    sigmay.append(sy)\n",
    "\n",
    "# to numpy\n",
    "λcenter_list = np.array(λcenter_list)\n",
    "a_list = np.array(a_list)\n",
    "IMAX_list = np.array(IMAX_list)\n",
    "error_λcenter_list = np.array(error_λcenter_list)\n",
    "error_a_list = np.array(error_a_list)\n",
    "error_IMAX_list = np.array(error_IMAX_list)\n",
    "sigmay = np.array(sigmay)\n",
    "\n",
    "print('Tabella con i fit di tutti i picchi delle parabole')\n",
    "max_fit_parabolic_dataframe = pd.DataFrame({'Absorbance': ASS, 'λcenter': λcenter_list, 'a': a_list, 'IMAX': IMAX_list, 'error_λcenter': error_λcenter_list, 'error_a': error_a_list, 'error_IMAX': error_IMAX_list})\n",
    "display(max_fit_parabolic_dataframe)\n"
   ]
  },
  {
   "cell_type": "code",
   "execution_count": 13,
   "metadata": {},
   "outputs": [
    {
     "name": "stdout",
     "output_type": "stream",
     "text": [
      "λcenter = 551.94 ± 1.11 nm\n",
      "NOTA: sigmaLambda dichiarata dal costruttore vale 1.5nm e quindi è compatibile con il valore di sigma trovato\n"
     ]
    }
   ],
   "source": [
    "center = np.mean(λcenter_list)\n",
    "sigma = np.std(λcenter_list)\n",
    "print('λcenter =', final_val(center, sigma, udm='nm'))\n",
    "print('NOTA: sigmaLambda dichiarata dal costruttore vale 1.5nm e quindi è compatibile con il valore di sigma trovato')"
   ]
  },
  {
   "cell_type": "code",
   "execution_count": 14,
   "metadata": {},
   "outputs": [
    {
     "data": {
      "application/vnd.plotly.v1+json": {
       "config": {
        "plotlyServerURL": "https://plot.ly"
       },
       "data": [
        {
         "mode": "lines",
         "name": "0.48",
         "type": "scatter",
         "x": {
          "bdata": "fi0BG3+mgEAVHwJ75a6AQMIKCTsEtoBAYJD8mmq+gEDdmAGbvMaAQKRtBLvvzYBAKAr8ukHWgEDA+/waqN6AQGznA9vG5YBABNkEOy3ugEB+LQEbf/aAQBUfAnvl/oBAwgoJOwQGgUBgkPyaag6BQN2YAZu8FoFApG0Eu+8dgUAE2QQ7LSaBQGCQ/JpqLoFAwPv8Gqg2gUAVHwJ75T6BQKRtBLvvRYFABNkEOy1OgUBgkPyaalaBQMD7/BqoXoFAFR8Ce+VmgUCkbQS7722BQCgK/LpBdoFAwPv8Gqh+gUBs5wPbxoWBQATZBDstjoFAfi0BG3+WgUAVHwJ75Z6BQMIKCTsEpoFAYJD8mmqugUDdmAGbvLaBQKRtBLvvvYFABNkEOy3GgUBgkPyaas6BQMD7/Bqo1oFAFR8Ce+XegUCkbQS77+WBQATZBDst7oFAYJD8mmr2gUDA+/waqP6BQBUfAnvlBoJApG0Eu+8NgkAoCvy6QRaCQMD7/BqoHoJAbOcD28YlgkAE2QQ7LS6CQH4tARt/NoJAFR8Ce+U+gkDCCgk7BEaCQGCQ/JpqToJA3ZgBm7xWgkCkbQS7712CQATZBDstZoJAYJD8mmpugkDA+/waqHaCQBUfAnvlfoJApG0Eu++FgkAE2QQ7LY6CQGCQ/JpqloJAwPv8GqiegkAVHwJ75aaCQKRtBLvvrYJAwgoJOwS2gkAE2QQ7Lb6CQCgK/LpBxoJAYJD8mmrOgkB+LQEbf9aCQMD7/Bqo3oJA3ZgBm7zmgkAVHwJ75e6CQIqECFvb9YJApG0Eu+/9gkAE2QQ7LQaDQGCQ/JpqDoNAwPv8GqgWg0AVHwJ75R6DQKRtBLvvJYNABNkEOy0ug0BgkPyaajaDQMD7/BqoPoNAFR8Ce+VGg0CkbQS7702DQATZBDstVoNAYJD8mmpeg0DA+/waqGaDQBUfAnvlboNApG0Eu+91g0AE2QQ7LX6DQGCQ/JpqhoNAwPv8GqiOg0AVHwJ75ZaDQKRtBLvvnYNAwgoJOwSmg0AE2QQ7La6DQCgK/LpBtoNAYJD8mmq+g0B+LQEbf8aDQMD7/BqozoNA3ZgBm7zWg0AVHwJ75d6DQIqECFvb5YNApG0Eu+/tg0DCCgk7BPaDQATZBDst/oNAKAr8ukEGhEBgkPyaag6EQH4tARt/FoRAwPv8GqgehEDdmAGbvCaEQBUfAnvlLoRAioQIW9s1hECkbQS77z2EQMIKCTsERoRA",
          "dtype": "f8"
         },
         "y": {
          "bdata": "ntZ78j2GQEB+w/cEcpBCQIQlfWsoZURAhOJx4OP0RkADqy683Z1JQNz6GoorZ0tAmKuNFRCNTkAqG83jfYxQQNDiRLznnFFAw//RF0bQUkCrxyNtDRNUQDVSBNlIGFVAJ7V1GzHfVUB3ESpUv8NWQI93pR1wZVdAleLe4ZoZWECnvItfs2dYQDGJ5Ey6vlhAURUfPAy3WEAAAAAAAABZQJ9i5+jA9FhAPXU2jZS/WEBQuVSYqlZYQLqACTYLnldAvYQsseCUV0AsiqXXTBNXQEgdps8tR1ZAVZcXvB4rVkB6TX9WxGVVQA7o+YiIv1RAKlX/SWwNVEDOD4OMQk5TQIsas9NVrVJAJupp3MYKUkCoBifmS6FRQCDLqpKM2VBAVgvYe2YbUEA0qxvMbK9OQIeXwh6xq01Awiq+hvBaTEBl6MDEVqJLQAxz6GzEQUpA1P61i7ImSUA40A8Qf0RIQPxiM4tvQ0dA923JFNyaRkDboHG7pJtFQPkIXz/ptURAEVdq2mI7RECUoQ3v415DQIu0gPu7l0JAictXtEwDQkDU4+g7LY1BQGtNd7Ss6kBAm8ciUtJxQEC/AKnYRcQ/QMAdiXF25D5AUcXZstv6PUDrkscIF+E8QCq3cPBeRzxAHuLAN04aO0CsNJsRYEA6QFFPOh1YljlARps2HLLXOEBZbLvq1x44QHkLH1QrZTdA+uKwV3urNkBCp3EXQt81QICuv0MOBDVApZfl4jY4NECF1DWvraUzQL5LtMwe6TJAr4tvnFQWMkDRw+0bRF4xQCnQti/2xzBA4nJJ3nkaMECk/BZD2wwvQFDXztea1C1AqU7QufqNLEDRF7Ewnz0rQNm06LI6ZipAhPivNjVSKUAZkdrZOUQoQH5ZT2kHPidAzfSlZ8j0JUDr7Hr+JiolQOK79o2SQSRAxLvOlqo/I0D6m2r7/3oiQPxjVGsQVCFAvTpKc7rcIEBGOaR/o94fQJgFXlGV3B5AcwPXFLtFHUB02QIPyN0bQO3DKEmS1hpAyHkZJHBfGUBRtjhAMyAYQEv2+ZiiLBdAwBBLrXn6FUAKQ9M/+f4UQEz/ToEbTxRAh8XPbdo0E0AgRrfvWVsSQJstSOK8yBFAm+/2bVHREECdGiyPSyEQQFfHwwJ1Ew9A+cc/+2CADUAMTaXdYUsMQN6WVQU9GgtAgA2IIAH9CUBTfU3jY+QIQFy2sBBh4gdA8ZfmnKvYBkCizsGQl0AGQBMRLvoEEgVA",
          "dtype": "f8"
         }
        },
        {
         "mode": "lines",
         "name": "0.35",
         "type": "scatter",
         "x": {
          "bdata": "1KC+y+mogEBrkr8rULGAQBh+xutuuIBAtgO6S9XAgEAzDL9LJ8mAQPrgwWta0IBAfn25a6zYgEAWb7rLEuGAQMJawYsx6IBAWkzC65fwgEDUoL7L6fiAQGuSvytQAYFAGH7G624IgUC2A7pL1RCBQDMMv0snGYFA+uDBa1oggUBaTMLrlyiBQLYDukvVMIFAFm+6yxI5gUBrkr8rUEGBQPrgwWtaSIFAWkzC65dQgUC2A7pL1ViBQBZvussSYYFAa5K/K1BpgUD64MFrWnCBQH59uWuseIFAFm+6yxKBgUDCWsGLMYiBQFpMwuuXkIFA1KC+y+mYgUBrkr8rUKGBQBh+xutuqIFAtgO6S9WwgUAzDL9LJ7mBQPrgwWtawIFAWkzC65fIgUC2A7pL1dCBQBZvussS2YFAa5K/K1DhgUD64MFrWuiBQFpMwuuX8IFAtgO6S9X4gUAWb7rLEgGCQGuSvytQCYJA+uDBa1oQgkB+fblrrBiCQBZvussSIYJAwlrBizEogkBaTMLrlzCCQNSgvsvpOIJAa5K/K1BBgkAYfsbrbkiCQLYDukvVUIJAMwy/SydZgkD64MFrWmCCQFpMwuuXaIJAtgO6S9VwgkAWb7rLEnmCQGuSvytQgYJA+uDBa1qIgkBaTMLrl5CCQLYDukvVmIJAFm+6yxKhgkBrkr8rUKmCQPrgwWtasIJAGH7G6264gkBaTMLrl8CCQH59uWusyIJAtgO6S9XQgkDUoL7L6diCQBZvussS4YJAMwy/SyfpgkBrkr8rUPGCQOD3xQtG+IJA+uDBa1oAg0BaTMLrlwiDQLYDukvVEINAFm+6yxIZg0Brkr8rUCGDQPrgwWtaKINAWkzC65cwg0C2A7pL1TiDQBZvussSQYNAa5K/K1BJg0D64MFrWlCDQFpMwuuXWINAtgO6S9Vgg0AWb7rLEmmDQGuSvytQcYNA+uDBa1p4g0BaTMLrl4CDQLYDukvViINAFm+6yxKRg0Brkr8rUJmDQPrgwWtaoINAGH7G626og0BaTMLrl7CDQH59uWusuINAtgO6S9XAg0DUoL7L6ciDQBZvussS0YNAMwy/SyfZg0Brkr8rUOGDQOD3xQtG6INA+uDBa1rwg0AYfsbrbviDQFpMwuuXAIRAfn25a6wIhEC2A7pL1RCEQNSgvsvpGIRAFm+6yxIhhEAzDL9LJymEQGuSvytQMYRA4PfFC0Y4hED64MFrWkCEQBh+xutuSIRA",
          "dtype": "f8"
         },
         "y": {
          "bdata": "+VnyePS6QUDaqqh0JdNDQE54ubW4okVAxY1sL3hJSEA3GU2aA/pKQIgmCRN0+kxA16JTZlfCT0B9Q4Hb2SBRQM/Q9/AhHlJA3TzN92BHU0C1thYo12lUQMDlUdb6cVVAdUv8edgRVkBxQgBHufRWQHw9Hw9RlFdAoq0VkwQeWECzCNTFQWNYQN+QLwd5mlhAm06sPzu/WEAAAAAAAABZQJr7L92fo1hA6L/zCD6DWEAuAwLWDB5YQK9PghdO2ldAE7KG5NVBV0D4JOFx8ddWQNBqLZ9ZQVZAkBiXmiKzVUB33b1nyDxVQErgRwL5jVRApdCQfxPLU0B9/nuhc/lSQPLcQ7YNclJA+KK6USTXUUBkW+udLipRQKpflN//oVBARUbHuVDPT0D/wnHlt5JOQNyv66cQRk1ARgE5+0T/S0AfXnK2ThpLQJRJMjS1EEpADLaMCeDeSEAQ4FvU38JHQHX6CYW+80ZAPaTRMS0kRkDxxqndO0hFQINhXc0HbkRAnfm9vzbKQ0BDRdZv1hJDQMu+PSfockJAcNVfglLPQUDYtAH6Ek9BQDrgyGAtpUBAHy1cdScxQED+frj3sjc/QE8bSXmYbj5AlUEo8VtjPUA4BPZcu2E8QDPwVz6tmTtAhzF/Y1TSOkCn9X3hp9g5QF5FEeesEzlAG0ownQUhOECUvqTM8IE3QFL4E6qx6zZAs13MORkZNkDFDKePSk81QCdxbeG7jjRAISlRnVrWM0DZzXxxNyQzQJdgHdByVjJA2OSOWJGsMUBGQRPOLQ0xQJD7/r07ZzBAIZBji5+AL0CPUvHGoGUuQNhSE9MaGS1APUWqS6fwK0CVDzZ7Nc4qQL4dkBrn9ylAJs7GG/PKKEDthBh2I7EnQFb8fRQ/jiZAZwHaXtKuJUD60R320eckQGTY4+VQ6iNAXf65P0oYI0CayWWq1TAiQJiEmOxJaCFA7qKSp0mgIEAd6HPhH6cfQGj8g6DoOh5AH4wxRbruHED92j1nK7IbQCZuT8h6WRpAQpATevRcGUAsZ82NheQXQG+ZIqoqxBZAuPQZl2C/FUAlwP+Yk9UUQFKqFch65RNA86RXgxP6EkCJI0m6pPkRQIzTbewHkhFAy4pZLKu9EEBkDpkClgkQQBXDgkxEbQ5AHbH59jZYDUAoi8FQlcELQJdACluyzwpAjJ8DEqtQCUBtx9KtzmsIQCk3XRsrRgdA5es+8DiLBkDp8n95RrgFQEJIRBIkugRA",
          "dtype": "f8"
         }
        },
        {
         "mode": "lines",
         "name": "0.26",
         "type": "scatter",
         "x": {
          "bdata": "r+hrSsewgEBG2myqLbmAQPPFc2pMwIBAkUtnyrLIgEAOVGzKBNGAQNUob+o32IBAWcVm6onggEDxtmdK8OiAQJ2ibgoP8IBANZRvanX4gECv6GtKxwCBQEbabKotCYFA88VzakwQgUCRS2fKshiBQA5UbMoEIYFA1Shv6jcogUA1lG9qdTCBQJFLZ8qyOIFA8bZnSvBAgUBG2myqLUmBQNUob+o3UIFANZRvanVYgUCRS2fKsmCBQPG2Z0rwaIFARtpsqi1xgUDVKG/qN3iBQFnFZuqJgIFA8bZnSvCIgUCdom4KD5CBQDWUb2p1mIFAr+hrSseggUBG2myqLamBQPPFc2pMsIFAkUtnyrK4gUAOVGzKBMGBQNUob+o3yIFANZRvanXQgUCRS2fKstiBQPG2Z0rw4IFARtpsqi3pgUDVKG/qN/CBQDWUb2p1+IFAkUtnyrIAgkDxtmdK8AiCQEbabKotEYJA1Shv6jcYgkBZxWbqiSCCQPG2Z0rwKIJAnaJuCg8wgkA1lG9qdTiCQK/oa0rHQIJARtpsqi1JgkDzxXNqTFCCQJFLZ8qyWIJADlRsygRhgkDVKG/qN2iCQDWUb2p1cIJAkUtnyrJ4gkDxtmdK8ICCQEbabKotiYJA1Shv6jeQgkA1lG9qdZiCQJFLZ8qyoIJA8bZnSvCogkBG2myqLbGCQNUob+o3uIJA88VzakzAgkA1lG9qdciCQFnFZuqJ0IJAkUtnyrLYgkCv6GtKx+CCQPG2Z0rw6IJADlRsygTxgkBG2myqLfmCQLs/c4ojAINA1Shv6jcIg0A1lG9qdRCDQJFLZ8qyGINA8bZnSvAgg0BG2myqLSmDQNUob+o3MINANZRvanU4g0CRS2fKskCDQPG2Z0rwSINARtpsqi1Rg0DVKG/qN1iDQDWUb2p1YINAkUtnyrJog0DxtmdK8HCDQEbabKoteYNA1Shv6jeAg0A1lG9qdYiDQJFLZ8qykINA8bZnSvCYg0BG2myqLaGDQNUob+o3qINA88Vzakywg0A1lG9qdbiDQFnFZuqJwINAkUtnyrLIg0Cv6GtKx9CDQPG2Z0rw2INADlRsygThg0BG2myqLemDQLs/c4oj8INA1Shv6jf4g0DzxXNqTACEQDWUb2p1CIRAWcVm6okQhECRS2fKshiEQK/oa0rHIIRA8bZnSvAohEAOVGzKBDGEQEbabKotOYRAuz9ziiNAhEDVKG/qN0iEQPPFc2pMUIRA",
          "dtype": "f8"
         },
         "y": {
          "bdata": "oRe7p43dREAQU5Gt0C1HQDbaObnuKklAjYOjakCuS0Bme7JkAJdOQJZObSW3JFBAQMDjZ+h4UUBJBvCayLBSQIw3GuhmhlNA74EG3BKOVEC1XvKkqLBVQP0081tfX1ZA2ULmJP04V0BMboUKGHhXQNdaclLVM1hA4h9jtq+GWEDtmqpaYcpYQHitqHqy6VhAAAAAAAAAWUCcU1iqtOVYQGGVsGlSsFhAK8SYxNVcWEDNyNSMtgRYQJS+98SyYldAVux7T4TgVkBQkB3Y739WQO2GU8/AzlVAqePbQL0xVUAY5tQYpMVUQDSczgePGVRArvYMNdxtU0DMqIh9MY5SQItLqFiC9lFA9TQ9muBwUUCPdFR+c6lQQII2NEwp4E9AWINvRuv3TkBCZ46gCalNQL3rxFEptkxAOhK034hTS0CFOnpdoWdKQOAkdqmP+0hAM1Ph6lIgSEAnsX8LUT9HQBgS1Ea7akZAjJheQa52RUAXPYVSJ+JEQGgL53pp7kNAu723a7M7Q0CwYF0vv5VCQO3mlwfB60FAz7HwP19JQUCY8N8M/tJAQCpvoBCIQkBAtOHxZfiNP0DY1oTOapM+QMvjq28Mez1AIhvXTyCePEBU1hzWk787QEp5VLxK0jpANTf2ptb3OUBPEwdAWA05QPyJ/KTKVjhARbA0uACPN0D0RLAs+MY2QNvE46MJJDZA3jEkz/yENUC/i6Fef780QA8CjwaEyDNAXeAXCspGM0CbJc18a4QyQKz5XxC0sTFA3WDKn2QhMUDDYi6FoLEwQJhK23IBGjBA4M1lvtPFLkAy+OcNAnYtQDc8HNhKZSxAEYTBguFWK0DpkYWLr/opQJhg5fQwaSlAvmuK+qI9KEAP2va6g+8mQNBBlR4oISZAXK84urwAJUBl5kJERT4kQIMhjjkIbyNAQa6cjy+CIkBK2Q6TPb8hQCq6EKpvyCBAZ55NYwcZIEDcbg/NQtweQCBL6T2KdR1Ajq6jaoz5G0Ct8UntWcMaQCtaZ4zbyRlAlepAiDJDGECdkoiWY0YXQKRM+YMoERZAe/1IDtIjFUA45oRHwRAUQFBviBLUAhNAWMXUAwFVEkBSkkRWMasRQMOUiQqGIxFA4a6jsUg5EEB/1jQf/pUOQJdSgT48Zw1AUiKFkalhDEBNVDu2TyILQDC09/rlkQlAEayBwPm7CED0+78UGpYHQBPRHvU8VQZAWtk0WhQIBkB2PxDFXcoEQBFVgD+jHQRA",
          "dtype": "f8"
         }
        },
        {
         "mode": "lines",
         "name": "0.17",
         "type": "scatter",
         "x": {
          "bdata": "1QGxCe63gEBs87FpVMCAQBnfuClzx4BAt2SsidnPgEA0bbGJK9iAQPtBtKle34BAf96rqbDngEAX0KwJF/CAQMO7s8k194BAW620KZz/gEDVAbEJ7geBQGzzsWlUEIFAGd+4KXMXgUC3ZKyJ2R+BQDRtsYkrKIFA+0G0qV4vgUBbrbQpnDeBQLdkrInZP4FAF9CsCRdIgUBs87FpVFCBQPtBtKleV4FAW620KZxfgUC3ZKyJ2WeBQBfQrAkXcIFAbPOxaVR4gUD7QbSpXn+BQH/eq6mwh4FAF9CsCReQgUDDu7PJNZeBQFuttCmcn4FA1QGxCe6ngUBs87FpVLCBQBnfuClzt4FAt2Ssidm/gUA0bbGJK8iBQPtBtKlez4FAW620KZzXgUC3ZKyJ2d+BQBfQrAkX6IFAbPOxaVTwgUD7QbSpXveBQFuttCmc/4FAt2SsidkHgkAX0KwJFxCCQGzzsWlUGIJA+0G0qV4fgkB/3qupsCeCQBfQrAkXMIJAw7uzyTU3gkBbrbQpnD+CQNUBsQnuR4JAbPOxaVRQgkAZ37gpc1eCQLdkrInZX4JANG2xiStogkD7QbSpXm+CQFuttCmcd4JAt2Ssidl/gkAX0KwJF4iCQGzzsWlUkIJA+0G0qV6XgkBbrbQpnJ+CQLdkrInZp4JAF9CsCRewgkBs87FpVLiCQPtBtKlev4JAGd+4KXPHgkBbrbQpnM+CQH/eq6mw14JAt2SsidnfgkDVAbEJ7ueCQBfQrAkX8IJANG2xiSv4gkBs87FpVACDQOFYuElKB4NA+0G0qV4Pg0BbrbQpnBeDQLdkrInZH4NAF9CsCRcog0Bs87FpVDCDQPtBtKleN4NAW620KZw/g0C3ZKyJ2UeDQBfQrAkXUINAbPOxaVRYg0D7QbSpXl+DQFuttCmcZ4NAt2Ssidlvg0AX0KwJF3iDQGzzsWlUgINA+0G0qV6Hg0BbrbQpnI+DQLdkrInZl4NAF9CsCRegg0Bs87FpVKiDQPtBtKler4NAGd+4KXO3g0BbrbQpnL+DQH/eq6mwx4NAt2SsidnPg0DVAbEJ7teDQBfQrAkX4INANG2xiSvog0Bs87FpVPCDQOFYuElK94NA+0G0qV7/g0AZ37gpcweEQFuttCmcD4RAf96rqbAXhEC3ZKyJ2R+EQNUBsQnuJ4RAF9CsCRcwhEA0bbGJKziEQGzzsWlUQIRA4Vi4SUpHhED7QbSpXk+EQBnfuClzV4RA",
          "dtype": "f8"
         },
         "y": {
          "bdata": "C7cHQsCQRkDqTacRsdNIQGcf6isbo0pAbDG1mS6PTUBEnEJ+JylQQJWVqROBGVFAMPKbEq9aUkAOEUimo29TQHKuL2F8RFRAi+DNJiRwVUCfJ2XgTjpWQN12P25JAFdAqDj2d/+XV0AQFFfGwxxYQCJcg6JXmVhA3kurhh7jWEAP87OvX+9YQAAAAAAAAFlA5MgTUEDuWEAKm6QcGcVYQFrwE2ObjFhADT///KU1WEDQlAfysvBXQCLgENiMVldA3MXPk7fFVkA8M0zAdF1WQBlMna2WwlVAJ7iLz4cXVUARYQY3tqNUQEitlKG46VNATZuM5+EpU0AmxqX9mX1SQMSGmQtW6FFAdQkyobpSUUAnAXZuw5JQQF+2GwtV8U9AWufuRmjLTkDZbphb0EFNQB1BPQdKRkxANtzh2ncKS0C80FZuZt1JQJFrYUJh4UhAN97n4vfLR0DzXFjMBOJGQBYglrAHG0ZA+HKjgk0URUAuXx0tqV1EQEma2vkhokNAsfy10zTzQkDrgWGMd1lCQD1mbN2SskFAjrGWtNLpQECVwgjOaHtAQD1yrAMyAEBAtGZqLWTwPkDNhC+00PE9QBhR+qyoAz1A6Aef+uHeO0ChETMxhgY7QG2hmTPOSzpA7hmWagavOUBbK9obyng4QBW80Euh2jdAm0biGWwrN0AybX1dqWs2QD6dFSG+zDVAkSXUj10VNUCR1M9eWGw0QL9kUKQtrTNA2xZw5qzTMkC9MtwHSRkyQCcy500NoDFAPEQ9ffTjMEDUK1Y/tFwwQO+LkGRHmi9A0iYKEzQmLkAaSQpc0vEsQOWDxwWVyytAsFeAk4GkKkBX5CLhMrApQOMJPFL41ChAHOdvLAmyJ0BvDfGPDrwmQL4CkPzwlSVAB9N/yxCGJEBXQcq9NtgjQHj63U/1+CJAHAB6cHQ/IkBiJv2YgE0hQOA5FPXhdSBAFjR1UfXSH0Czq6JvfTEeQHukw49k4BxAaPtCSV9/G0D44QeP6EQaQA1DRogM8hhALOmINaISGEA2qzToIMYWQB9hmQx+ohVAd6PU+5mRFECX9X3WXMQTQPn+n8Fo7BJAxMhuBjIVEkBD1Pe/f0sRQMhR0EBLvRBAQpZH7eTPD0AEeZajjmwOQCVz2skE/QxA87INIjX4C0BLfUpZoYMKQMqy9D9/nQlABgfR7ZFeCECUYilPYSkHQMTY+FUdRAZA/SplvfHVBUDgvYz7EcIEQOJk7bLevQNA",
          "dtype": "f8"
         }
        },
        {
         "mode": "lines",
         "name": "0.09",
         "type": "scatter",
         "x": {
          "bdata": "WRQDpeW6gEDwBQQFTMOAQJ3xCsVqyoBAO3f+JNHSgEC4fwMlI9uAQH9UBkVW4oBAA/H9RKjqgECb4v6kDvOAQEfOBWUt+oBA378GxZMCgUBZFAOl5QqBQPAFBAVME4FAnfEKxWoagUA7d/4k0SKBQLh/AyUjK4FAf1QGRVYygUDfvwbFkzqBQDt3/iTRQoFAm+L+pA5LgUDwBQQFTFOBQH9UBkVWWoFA378GxZNigUA7d/4k0WqBQJvi/qQOc4FA8AUEBUx7gUB/VAZFVoKBQAPx/USoioFAm+L+pA6TgUBHzgVlLZqBQN+/BsWTooFAWRQDpeWqgUDwBQQFTLOBQJ3xCsVquoFAO3f+JNHCgUC4fwMlI8uBQH9UBkVW0oFA378GxZPagUA7d/4k0eKBQJvi/qQO64FA8AUEBUzzgUB/VAZFVvqBQN+/BsWTAoJAO3f+JNEKgkCb4v6kDhOCQPAFBAVMG4JAf1QGRVYigkAD8f1EqCqCQJvi/qQOM4JAR84FZS06gkDfvwbFk0KCQFkUA6XlSoJA8AUEBUxTgkCd8QrFalqCQDt3/iTRYoJAuH8DJSNrgkB/VAZFVnKCQN+/BsWTeoJAO3f+JNGCgkCb4v6kDouCQPAFBAVMk4JAf1QGRVaagkDfvwbFk6KCQDt3/iTRqoJAm+L+pA6zgkDwBQQFTLuCQH9UBkVWwoJAnfEKxWrKgkDfvwbFk9KCQAPx/USo2oJAO3f+JNHigkBZFAOl5eqCQJvi/qQO84JAuH8DJSP7gkDwBQQFTAODQGVrCuVBCoNAf1QGRVYSg0DfvwbFkxqDQDt3/iTRIoNAm+L+pA4rg0DwBQQFTDODQH9UBkVWOoNA378GxZNCg0A7d/4k0UqDQJvi/qQOU4NA8AUEBUxbg0B/VAZFVmKDQN+/BsWTaoNAO3f+JNFyg0Cb4v6kDnuDQPAFBAVMg4NAf1QGRVaKg0DfvwbFk5KDQDt3/iTRmoNAm+L+pA6jg0DwBQQFTKuDQH9UBkVWsoNAnfEKxWq6g0DfvwbFk8KDQAPx/USoyoNAO3f+JNHSg0BZFAOl5dqDQJvi/qQO44NAuH8DJSPrg0DwBQQFTPODQGVrCuVB+oNAf1QGRVYChECd8QrFagqEQN+/BsWTEoRAA/H9RKgahEA7d/4k0SKEQFkUA6XlKoRAm+L+pA4zhEC4fwMlIzuEQPAFBAVMQ4RAZWsK5UFKhEB/VAZFVlKEQJ3xCsVqWoRA",
          "dtype": "f8"
         },
         "y": {
          "bdata": "2cIWr2DjR0A4Tigu6mlKQONxcF4YkExAptYVgkzWTkA1qUXHW7RQQB7SCPOUw1FAKi3acY79UkDgZEHvMf1TQGB718eA4FRAqzjPUHTeVUADiSpNHKBWQHxgb5/yU1dA1phOx2bZV0CmMQNWYElYQApVXYvSpFhAg8PM+pvJWEBcNTP9Jt1YQAAAAAAAAFlAOYgulUPJWEDQHmSYTZFYQKdk/T5RN1hAnrfLSIkPWEC6o5WdsqJXQOQa6ulBOldACBZoQMirVkAg2Ts8rwBWQFoxhUfCX1VAuT6AajL+VED7UITu7RVUQNYgKfy/sVNAdWP9s0roUkAWrO5yWD5SQFUb6zxtplFAaDtXH1TbUEC294XrwSlQQO84iNtzPk9AX/jn1vvhTUCIezZGCM5MQD/PoOT2K0tAQAAGTEg1SkC4/OnIU2BJQKoIrLKfekhA0JfTdy9pR0BIh+KKYW1GQDrWZ1ZWf0VAb8TMX4ykREDp1KK2Z+hDQHheMuRGNENAfPs4dBZvQkBunqwvP55BQK8oOLL3R0FA2cxL53SmQEChkOgUfx9AQD5jkx6oOT9AsfZ8x8FRPkAsB3CqNkk9QKcNbvhIbTxAeSp+gfN1O0BMyzQDcMs6QDYvApaa5zlAfuwM+dXnOEAv0cgVVT84QG/FWJWxYTdA7AZVBm6cNkCDUW5Egf41QLzWbo5HUDVAyxJ0qzC4NEDqCTN0UekzQDlgMsFJCTNA9KlwJ6BVMkCICZJKGMQxQB911C11DTFAbD4cz8RxMECuW5Z32asvQGgs6uwnnC5A3vAqchWELUBJQCsniFgsQHy4moBqXCtA+hDn3rlVKkBq5gSRD+IoQKf30N1CSihAz7OiqWEgJ0D6CA6RtSsmQI+cgAMLASVAHUAXHUMPJEB+HxM6y0MjQFQ7GC3dkiJAlpNe5jfTIUDI9LT7jPQgQDMEnGeu7B9AqEdM5QKoHkBVb7t4EHgdQIepec6d9RtAUw2vubXkGkAi3r+nnsoZQJWRCA6dgxhA4RN8pexZF0DIJ8sX7mkWQGpMRDPILBVAtiKSQutFFEAJV9ggOD0TQAqk27XBbxJALKK7iOW8EUCNa09AE/UQQAHC2PRfOhBASw1j4KkgD0BI0ky/T4UNQOkfLyJOfwxAh7usjXJ5C0BUpK4bJjsKQFIiTz/C/whAX+Nwq67YB0BpmQktt1wGQGzxPpUesAVAIyYKUKfnBEB3PNyzc4kEQFGsJFDkXwNA",
          "dtype": "f8"
         }
        },
        {
         "mode": "lines",
         "name": "0.07",
         "type": "scatter",
         "x": {
          "bdata": "eVWYQ568gEAQR5mjBMWAQL0yoGMjzIBAW7iTw4nUgEDYwJjD29yAQJ+Vm+MO5IBAIzKT42DsgEC7I5RDx/SAQGcPmwPm+4BA/wCcY0wEgUB5VZhDngyBQBBHmaMEFYFAvTKgYyMcgUBbuJPDiSSBQNjAmMPbLIFAn5Wb4w40gUD/AJxjTDyBQFu4k8OJRIFAuyOUQ8dMgUAQR5mjBFWBQJ+Vm+MOXIFA/wCcY0xkgUBbuJPDiWyBQLsjlEPHdIFAEEeZowR9gUCflZvjDoSBQCMyk+NgjIFAuyOUQ8eUgUBnD5sD5puBQP8AnGNMpIFAeVWYQ56sgUAQR5mjBLWBQL0yoGMjvIFAW7iTw4nEgUDYwJjD28yBQJ+Vm+MO1IFA/wCcY0zcgUBbuJPDieSBQLsjlEPH7IFAEEeZowT1gUCflZvjDvyBQP8AnGNMBIJAW7iTw4kMgkC7I5RDxxSCQBBHmaMEHYJAn5Wb4w4kgkAjMpPjYCyCQLsjlEPHNIJAZw+bA+Y7gkD/AJxjTESCQHlVmEOeTIJAEEeZowRVgkC9MqBjI1yCQFu4k8OJZIJA2MCYw9tsgkCflZvjDnSCQP8AnGNMfIJAW7iTw4mEgkC7I5RDx4yCQBBHmaMElYJAn5Wb4w6cgkD/AJxjTKSCQFu4k8OJrIJAuyOUQ8e0gkAQR5mjBL2CQJ+Vm+MOxIJAvTKgYyPMgkD/AJxjTNSCQCMyk+Ng3IJAW7iTw4nkgkB5VZhDnuyCQLsjlEPH9IJA2MCYw9v8gkAQR5mjBAWDQIWsn4P6C4NAn5Wb4w4Ug0D/AJxjTByDQFu4k8OJJINAuyOUQ8csg0AQR5mjBDWDQJ+Vm+MOPINA/wCcY0xEg0BbuJPDiUyDQLsjlEPHVINAEEeZowRdg0CflZvjDmSDQP8AnGNMbINAW7iTw4l0g0C7I5RDx3yDQBBHmaMEhYNAn5Wb4w6Mg0D/AJxjTJSDQFu4k8OJnINAuyOUQ8ekg0AQR5mjBK2DQJ+Vm+MOtINAvTKgYyO8g0D/AJxjTMSDQCMyk+NgzINAW7iTw4nUg0B5VZhDntyDQLsjlEPH5INA2MCYw9vsg0AQR5mjBPWDQIWsn4P6+4NAn5Wb4w4EhEC9MqBjIwyEQP8AnGNMFIRAIzKT42AchEBbuJPDiSSEQHlVmEOeLIRAuyOUQ8c0hEDYwJjD2zyEQBBHmaMERYRAhayfg/pLhECflZvjDlSEQL0yoGMjXIRA",
          "dtype": "f8"
         },
         "y": {
          "bdata": "uxR6IodaSEAUEZ2SZb1KQIzWanAf1UxAkG8lZ9MuT0CwUtFu6udQQEf7x7t+4VFAOxhu+sEtU0BTy7yvqxhUQAX1lNhWvVRAjyqK3TzKVUC+Bj60Q6FWQJxNvlvuUldATxZrEEGoV0Ds24rbfWJYQOgdQR42pVhA7G+rAlngWEAAAAAAAABZQDkpQ7786FhAq0k/iVq3WEA3/CZIxJNYQGsxN+5AclhAM49qsLD2V0AbwmQZ4JRXQOP42fX5MVdA0DgBj7mJVkDqqu2HCCBWQEWNnI/7fVVA2Cq+Cw2qVEA1UaV3BERUQBBh0op5hlNAp5oAYVUHU0CQz/hd8iVSQM5DpXevflFAEdqGzXPNUEBbxsp07TRQQEEATaqEL09A63oTI5DJTUDIXgB4Nl5MQKim7nONxEtASvm7/jxBSkDmmaUWHGRJQEee6luEWEhAdoS+bWVtR0AGUr7SXF1GQJfgU9gdg0VAf4q1cL+yREANCZ2TRc1DQILvTQwBDENA7CHzpGSAQkBSlzQuz81BQAZK53cbJEFAdpKL1fmOQEB0plfzSjBAQN46AAdLFT9ABAklLulSPkDwDOUEEwc9QOXVRKKUdDxAW4CirnSIO0A76nzB75I6QF6V/eA73jlAc4L5bYwGOUCTr1Sr0C04QJg88ep8ZzdAh8AMBve9NkBkGwpWyP01QEKZ9K85hjVA1JnBX9KuNEB+NuPLjRQ0QDPwLxvXKjNA8rzZJheBMkDURGyhW9AxQFNPIi1rPTFAklNSaQyJMEA4HhnCRAswQHedtm1ImC5AnFgQ3yI+LUBAEpyqh4EsQP8oXxE7LytAEaI2lLksKkCut6uD/TgpQJVbnloRRihAkRc5KpT/JkB9qmJXOV0mQH1Mz64kNiVAY1eGrtsrJEATPb9Ki2cjQCRVQLXleCJAQQ6wI66dIUBqwXeSMeIgQHaZUr5KPCBAhniUvigQH0AbcXLMBmkdQAfEVTEnKRxA5dzxVP27GkDWKa1LPIsZQOTXlc6bzxhAgZz8NNSXF0DlzZE2gpcWQF56MCAYZhVAIxugw/qgFECPpstKF2wTQAZaKqz0ohJASGyw+azHEUBXwEvlcuEQQGJdHK+VkBBAgqhHVSavD0CCg38n6cUNQJmghJPOxgxArbzAln8lC0BQkljkjEMKQIr4xqtS5whAOiOKit2hB0D3/gE9tOkGQK3wyAEAJAZAjf9v7P2XBUAPc5kDh1YEQATwdjKuZQNA",
          "dtype": "f8"
         }
        },
        {
         "mode": "lines",
         "name": "0.05",
         "type": "scatter",
         "x": {
          "bdata": "pg+nsGS8gEA9AagQy8SAQOrsrtDpy4BAiHKiMFDUgEAFe6cwotyAQMxPqlDV44BAUOyhUCfsgEDo3aKwjfSAQJTJqXCs+4BALLuq0BIEgUCmD6ewZAyBQD0BqBDLFIFA6uyu0OkbgUCIcqIwUCSBQAV7pzCiLIFAzE+qUNUzgUAsu6rQEjyBQIhyojBQRIFA6N2isI1MgUA9AagQy1SBQMxPqlDVW4FALLuq0BJkgUCIcqIwUGyBQOjdorCNdIFAPQGoEMt8gUDMT6pQ1YOBQFDsoVAnjIFA6N2isI2UgUCUyalwrJuBQCy7qtASpIFApg+nsGSsgUA9AagQy7SBQOrsrtDpu4FAiHKiMFDEgUAFe6cwosyBQMxPqlDV04FALLuq0BLcgUCIcqIwUOSBQOjdorCN7IFAPQGoEMv0gUDMT6pQ1fuBQCy7qtASBIJAiHKiMFAMgkDo3aKwjRSCQD0BqBDLHIJAzE+qUNUjgkBQ7KFQJyyCQOjdorCNNIJAlMmpcKw7gkAsu6rQEkSCQKYPp7BkTIJAPQGoEMtUgkDq7K7Q6VuCQIhyojBQZIJABXunMKJsgkDMT6pQ1XOCQCy7qtASfIJAiHKiMFCEgkDo3aKwjYyCQD0BqBDLlIJAzE+qUNWbgkAsu6rQEqSCQIhyojBQrIJA6N2isI20gkA9AagQy7yCQMxPqlDVw4JA6uyu0OnLgkAsu6rQEtSCQFDsoVAn3IJAiHKiMFDkgkCmD6ewZOyCQOjdorCN9IJABXunMKL8gkA9AagQywSDQLJmrvDAC4NAzE+qUNUTg0Asu6rQEhyDQIhyojBQJINA6N2isI0sg0A9AagQyzSDQMxPqlDVO4NALLuq0BJEg0CIcqIwUEyDQOjdorCNVINAPQGoEMtcg0DMT6pQ1WODQCy7qtASbINAiHKiMFB0g0Do3aKwjXyDQD0BqBDLhINAzE+qUNWLg0Asu6rQEpSDQIhyojBQnINA6N2isI2kg0A9AagQy6yDQMxPqlDVs4NA6uyu0Om7g0Asu6rQEsSDQFDsoVAnzINAiHKiMFDUg0CmD6ewZNyDQOjdorCN5INABXunMKLsg0A9AagQy/SDQLJmrvDA+4NAzE+qUNUDhEDq7K7Q6QuEQCy7qtASFIRAUOyhUCcchECIcqIwUCSEQKYPp7BkLIRA6N2isI00hEAFe6cwojyEQD0BqBDLRIRAsmau8MBLhEDMT6pQ1VOEQOrsrtDpW4RA",
          "dtype": "f8"
         },
         "y": {
          "bdata": "SwZx+rTOSECIuo4zbLdKQM5i6rmHEU1AJglbaJ25T0BQRyIZ4jxRQNUnbjhdJlJAERmF3oRIU0Db5g6bpkhUQH4XjnAiQFVAe1KikN8VVkC+YVtUr9pWQMBnwIeaoFdAMhkbwR7xV0A3ATrwWmtYQBwDK/GLrFhABjfjcYvaWEAAAAAAAABZQLKA6NJD+VhA1cyRycHcWEAgaFI8vrVYQD7QVaLZOFhAGlAtns34V0BjayvDBI9XQKLp/QhWDFdAyRxQxAlpVkA+EBjgoSxWQE9qo3qrSFVAe7mu6j20VEDbG0GpAQ9UQLCYfOovjFNA3B4cuCPRUkAPfwX6nQ1SQDBGcZhJa1FA3KtbWNLQUEDhu0VTNDlQQFDNwcNO3U5AgNO4jXimTUD7cld/rlxMQFsYaN6YXktA2arlVkUeSkDOziDz5FpJQNhHHMynSUhAphieHFEYR0DZljHODktGQEuBolIANkVAF1wallusREAtn37kQQFEQDP/k4mZCENAuaW7Q8dUQkBLHV4TLb9BQPLMP48QHEFA286CDCmDQED9b9iazAhAQH0PRAhsWj9AUcYq8+sSPkDKjY4etgE9QM2QKIwvGjxAySavBckyO0A8NxmiATs6QAteJdw0vzlA67eAPDHsOEBgNCaC5AY4QGoP7EEgODdA3nAz35F1NkDvcop9VMQ1QAYvFCjzAjVARwBIumtVNEDeRRAakLwzQBIUNw6EHTNAAANQ3td7MkCutr6uinwxQFyhYCr3FTFAPM55DExOMEBQkmdPU5YvQE6JFQvxEi5ATkg5CYRRLUDqL7spuwAsQBmtf07tEytAGF0hwz2pKUDVfHHZwvAoQJLGyvCkIyhA5IXTQjWYJkCIA6ZGIeklQNbYhPMtDiVATGNJotTgI0AyFrb+hhcjQClj+Q7qPiJACbLszfKAIUAAu5zkZ68gQKvCNwlRTiBAHHy+jTv6HkBSI+sdBJcdQO7HgqimwBtAEKdrywrqGkD9rRxr2GwZQKdIo1ogJBhADGdVvrIPF0BYmWgT+uAVQEX48OA+QBVAkJtMqcflE0DBGrQV0ksTQGBRDgRvjRJAJ5qxcrizEUBjdV/tLbQQQPhC8ni8ORBAaC3WeLJ8DkCdJigmU1cNQBajZXkM/AtAp2TzEYObC0AKt95D0I0JQNMfRkznvghAmcsLQausB0BwBPBHJIQGQPd52uOWjQVAH+hNwQpQBUAraCR0NBIEQOdseHsnvgNA",
          "dtype": "f8"
         }
        },
        {
         "mode": "lines",
         "name": "0.04",
         "type": "scatter",
         "x": {
          "bdata": "+gy1TSC+gECR/rWthsaAQD7qvG2lzYBA3G+wzQvWgEBZeLXNXd6AQCBNuO2Q5YBApOmv7eLtgEA827BNSfaAQOjGtw1o/YBAgLi4bc4FgUD6DLVNIA6BQJH+ta2GFoFAPuq8baUdgUDcb7DNCyaBQFl4tc1dLoFAIE247ZA1gUCAuLhtzj2BQNxvsM0LRoFAPNuwTUlOgUCR/rWthlaBQCBNuO2QXYFAgLi4bc5lgUDcb7DNC26BQDzbsE1JdoFAkf61rYZ+gUAgTbjtkIWBQKTpr+3ijYFAPNuwTUmWgUDoxrcNaJ2BQIC4uG3OpYFA+gy1TSCugUCR/rWthraBQD7qvG2lvYFA3G+wzQvGgUBZeLXNXc6BQCBNuO2Q1YFAgLi4bc7dgUDcb7DNC+aBQDzbsE1J7oFAkf61rYb2gUAgTbjtkP2BQIC4uG3OBYJA3G+wzQsOgkA827BNSRaCQJH+ta2GHoJAIE247ZAlgkCk6a/t4i2CQDzbsE1JNoJA6Ma3DWg9gkCAuLhtzkWCQPoMtU0gToJAkf61rYZWgkA+6rxtpV2CQNxvsM0LZoJAWXi1zV1ugkAgTbjtkHWCQIC4uG3OfYJA3G+wzQuGgkA827BNSY6CQJH+ta2GloJAIE247ZCdgkCAuLhtzqWCQNxvsM0LroJAPNuwTUm2gkCR/rWthr6CQCBNuO2QxYJAPuq8baXNgkCAuLhtztWCQKTpr+3i3YJA3G+wzQvmgkD6DLVNIO6CQDzbsE1J9oJAWXi1zV3+gkCR/rWthgaDQAZkvI18DYNAIE247ZAVg0CAuLhtzh2DQNxvsM0LJoNAPNuwTUkug0CR/rWthjaDQCBNuO2QPYNAgLi4bc5Fg0Dcb7DNC06DQDzbsE1JVoNAkf61rYZeg0AgTbjtkGWDQIC4uG3ObYNA3G+wzQt2g0A827BNSX6DQJH+ta2GhoNAIE247ZCNg0CAuLhtzpWDQNxvsM0LnoNAPNuwTUmmg0CR/rWthq6DQCBNuO2QtYNAPuq8baW9g0CAuLhtzsWDQKTpr+3izYNA3G+wzQvWg0D6DLVNIN6DQDzbsE1J5oNAWXi1zV3ug0CR/rWthvaDQAZkvI18/YNAIE247ZAFhEA+6rxtpQ2EQIC4uG3OFYRApOmv7eIdhEDcb7DNCyaEQPoMtU0gLoRAPNuwTUk2hEBZeLXNXT6EQJH+ta2GRoRABmS8jXxNhEAgTbjtkFWEQD7qvG2lXYRA",
          "dtype": "f8"
         },
         "y": {
          "bdata": "VXL7KjFcSUAYhvFMEclLQNUkOPQLh01ASAqSN4X3T0CQsqDxHGdRQL3SoKzeTVJAHIkOxISUU0CVm1w51ctUQIAOAFuASVVAHEZq7M1PVkDCCBDuyftWQAD5n9tqv1dAhlD+N8MiWEDvds7BbKRYQEA18LyqplhAgA4lqin/WED///////9YQNsEaUWP91hA7lXfbFDjWED/3R6JPqhYQA0p/y8AP1hAQGWVXdPnV0BhUc+4dbxXQBgzSkF2/FZATnINx4B7VkBSrIFDfe9VQLx+QKlUIVVA/MT6sa2jVEAdTMt0ajtUQBEuDGgWWVNAh5MKqHbKUkCfCr64GQ5SQNu5LCbEfFFA0g4sLSvFUEA4gTP7fSFQQFE12nE2O09AUTDWKq2qTUCQySrwBYlMQHmOf5c7U0tAQcdsclI6SkDuiVPvZnNJQOB9QkovIkhAKx4afYF/R0AwOOV9mahGQAYqyH8nJkVAvDL04xaQRECXkFctg9ZDQBd93rztNkNAeTHJaSSCQkDkn+ypPItBQFpZRvbiFUFAHFsDU3edQEBoXMMYISZAQAiiIVgj7T5A11dCB3gsPkBWoHcqInY9QEncELcsQjxA2WDP6lBRO0B4sJm1hGA6QLUPVmhuVjlA2GP1LYuTOECua1iaNBE4QLWQl6BUVTdAoJ4l4ax1NkD3mTBCzOc1QC6E9+IYQzVA0FTNgVihNEDzg+KeEoszQLmdWn+T8DJAvHMhDXIrMkCXNvbP95oxQPIBWGU/+jBAdVCkc9imMEAVcHqMIFovQNLz64cieS5ATxAXla1xLUDB/aAXbjQsQFyYkOSoJStAWE3/8eYdKkASBo+1MP0oQNU0AJTEKChAbkZFYksoJ0BovEOANgomQHfTA2h/ACVAMvjJALJtJEAuTX4J/CojQCC5t851wSJANx2JA1G/IUC7QVsLAvUgQIhGq/uz7R9Aci6Ra9MmH0Ae+inQo/kdQFArLy0pVBxAPIoRZ5AOG0DfI4nKUi0ZQBgLx4ei5BhAicM08UrgF0BSQrDdEmwWQHVJ8F+ZURVAxYjFUUwzFEAt8OIjWMQSQI/1oQDPvBJAdN1JVpinEUDBxxsnjdcQQJ7mFnvmARBAJfZuflrUDkA2JPYxaT0OQJMUx3wnEQ1ACe4Ch89IC0ASrOboq20JQMRq1NNxEAlAAPxCQ+1TCEBQ3xdaQjUIQAVrfB5zyAVA1J4XnueVBUB1DNcYp34EQKWLlv6VjANA",
          "dtype": "f8"
         }
        },
        {
         "mode": "lines",
         "name": "0.02",
         "type": "scatter",
         "x": {
          "bdata": "UXE//P6/gEDoYkBcZciAQJVORxyEz4BAM9Q6fOrXgECw3D98POCAQHexQpxv54BA+006nMHvgECTPzv8J/iAQD8rQrxG/4BA1xxDHK0HgUBRcT/8/g+BQOhiQFxlGIFAlU5HHIQfgUAz1Dp86ieBQLDcP3w8MIFAd7FCnG83gUDXHEMcrT+BQDPUOnzqR4FAkz87/CdQgUDoYkBcZViBQHexQpxvX4FA1xxDHK1ngUAz1Dp86m+BQJM/O/wneIFA6GJAXGWAgUB3sUKcb4eBQPtNOpzBj4FAkz87/CeYgUA/K0K8Rp+BQNccQxytp4FAUXE//P6vgUDoYkBcZbiBQJVORxyEv4FAM9Q6fOrHgUCw3D98PNCBQHexQpxv14FA1xxDHK3fgUAz1Dp86ueBQJM/O/wn8IFA6GJAXGX4gUB3sUKcb/+BQNccQxytB4JAM9Q6fOoPgkCTPzv8JxiCQOhiQFxlIIJAd7FCnG8ngkD7TTqcwS+CQJM/O/wnOIJAPytCvEY/gkDXHEMcrUeCQFFxP/z+T4JA6GJAXGVYgkCVTkcchF+CQDPUOnzqZ4JAsNw/fDxwgkB3sUKcb3eCQNccQxytf4JAM9Q6fOqHgkCTPzv8J5CCQOhiQFxlmIJAd7FCnG+fgkDXHEMcraeCQDPUOnzqr4JAkz87/Ce4gkDoYkBcZcCCQHexQpxvx4JAlU5HHITPgkDXHEMcrdeCQPtNOpzB34JAM9Q6fOrngkBRcT/8/u+CQJM/O/wn+IJAsNw/fDwAg0DoYkBcZQiDQF3IRjxbD4NAd7FCnG8Xg0DXHEMcrR+DQDPUOnzqJ4NAkz87/Ccwg0DoYkBcZTiDQHexQpxvP4NA1xxDHK1Hg0Az1Dp86k+DQJM/O/wnWINA6GJAXGVgg0B3sUKcb2eDQNccQxytb4NAM9Q6fOp3g0CTPzv8J4CDQOhiQFxliINAd7FCnG+Pg0DXHEMcrZeDQDPUOnzqn4NAkz87/Ceog0DoYkBcZbCDQHexQpxvt4NAlU5HHIS/g0DXHEMcrceDQPtNOpzBz4NAM9Q6fOrXg0BRcT/8/t+DQJM/O/wn6INAsNw/fDzwg0DoYkBcZfiDQF3IRjxb/4NAd7FCnG8HhECVTkcchA+EQNccQxytF4RA+006nMEfhEAz1Dp86ieEQFFxP/z+L4RAkz87/Cc4hECw3D98PECEQOhiQFxlSIRAXchGPFtPhEB3sUKcb1eEQJVORxyEX4RA",
          "dtype": "f8"
         },
         "y": {
          "bdata": "00MhrV9bSUAKVPRH69tLQJ9xJAI0vU1AlqK61NYvUEAlO+9X32RRQMFWcWQTVVJAhYziaKeqU0DyidT00JxUQLmMDHh9glVAtoygt+1KVkBIGZa9aaRWQEMcoVzU8VdAzf9JAEU+WEAvbVjL+JJYQIX2tS619VhAW5MPLGzuWEA33iIEttNYQAAAAAAAAFlAQSosWozTWEBvZ9OD9YhYQOSsVlxaPVhAz7GivcEBWEB4Dmuuc25XQCjqj36U5FZAuiDFvjtoVkD+aUHFNNhVQChPElvwX1VAqiM0O8CGVECowBjUq/FTQGcoILx9FFNAHweKr2yLUkAJAZE9behRQMG9ENJZQlFA7Ni1HOiIUEBuUGmPGMhPQKj4oWvyHU9Ar/bKM6rbTUDW4/oRb6RMQDGQNfiqqEtANUifRpFtSkAV+knb8A1JQMTXU4saIEhA9/S9lFCNR0Ck8nG/9k5GQAYMnSiSb0VAnMU4eAyoREDTLYIfApJDQMpuwQ117kJAbyMCPZyAQkDMuumjGeVBQHRUSLxkF0FAuWO7qX1eQEAgI3t6T1FAQPWhdElCQT9ABf9tLKkuPkB91rDVq289QJSrle7GEzxAOlYeLZoBPECjYUAi5MI6QEGw+/n05jlAmQcFV9IyOUCsSZ5Itks4QLKJXlQMbjdAMuFBOTjeNkC6MKM6MvE1QMiuH3gsIDVACydJ/2iDNECpbPwaIPAzQOrmtvkg6TJATwf5omeMMkC6toE1ee8xQI5I+FMZiDFA90EeTa9kMEBK+bqQ0pEvQLiJFW3CTi5AcoYTkZeWLUDsy1dMirgsQLlvlC+VPCtAP6vaxUolKkDVeaLIwP0oQJ9OrWsFIyhAy63J9YL1JkDvH12xeXwmQDjLi1c+1yRAvV7Z3e7EJEAzSE+ZGb8jQBKcZfM3WyJADLx2qRWsIUCNMC9VPxAhQGfZz8tcrB9AZEny0wFJHkCTd+LAdyMeQNEv+gjPvR1ALkCVrYQuG0Cu7l9Bu5YaQAz8N1pJ9BdAPf174qhwF0C0t82WyS8WQGS3Zvj56hVABgWeymSSFECFd3UpxZEUQGpnxWtPcBNAHL/Blf7mEkBOJLAJdjYRQGLw5wan/RBAIg5fZ9IREUAAdugMuI4NQA9P4+900wxATSfWSktNDECv3sdR49ENQC0ubf/tMQxAIRmBDkJKB0Cj4K+mL/wGQI1P/dqeTwdAJj/+YNeOBkBuVzM3UnoFQIZo5FRzkARA",
          "dtype": "f8"
         }
        },
        {
         "mode": "lines",
         "name": "0.01",
         "type": "scatter",
         "x": {
          "bdata": "wK3eIXO/gEBXn9+B2ceAQASL5kH4zoBAohDaoV7XgEAfGd+hsN+AQObt4cHj5oBAaorZwTXvgEACfNohnPeAQK5n4eG6/oBARlniQSEHgUDArd4hcw+BQFef34HZF4FABIvmQfgegUCiENqhXieBQB8Z36GwL4FA5u3hweM2gUBGWeJBIT+BQKIQ2qFeR4FAAnzaIZxPgUBXn9+B2VeBQObt4cHjXoFARlniQSFngUCiENqhXm+BQAJ82iGcd4FAV5/fgdl/gUDm7eHB44aBQGqK2cE1j4FAAnzaIZyXgUCuZ+Hhup6BQEZZ4kEhp4FAwK3eIXOvgUBXn9+B2beBQASL5kH4voFAohDaoV7HgUAfGd+hsM+BQObt4cHj1oFARlniQSHfgUCiENqhXueBQAJ82iGc74FAV5/fgdn3gUDm7eHB4/6BQEZZ4kEhB4JAohDaoV4PgkACfNohnBeCQFef34HZH4JA5u3hweMmgkBqitnBNS+CQAJ82iGcN4JArmfh4bo+gkBGWeJBIUeCQMCt3iFzT4JAV5/fgdlXgkAEi+ZB+F6CQKIQ2qFeZ4JAHxnfobBvgkDm7eHB43aCQEZZ4kEhf4JAohDaoV6HgkACfNohnI+CQFef34HZl4JA5u3hweOegkBGWeJBIaeCQKIQ2qFer4JAAnzaIZy3gkBXn9+B2b+CQObt4cHjxoJABIvmQfjOgkBGWeJBIdeCQGqK2cE134JAohDaoV7ngkDArd4hc++CQAJ82iGc94JAHxnfobD/gkBXn9+B2QeDQMwE5mHPDoNA5u3hweMWg0BGWeJBIR+DQKIQ2qFeJ4NAAnzaIZwvg0BXn9+B2TeDQObt4cHjPoNARlniQSFHg0CiENqhXk+DQAJ82iGcV4NAV5/fgdlfg0Dm7eHB42aDQEZZ4kEhb4NAohDaoV53g0ACfNohnH+DQFef34HZh4NA5u3hweOOg0BGWeJBIZeDQKIQ2qFen4NAAnzaIZyng0BXn9+B2a+DQObt4cHjtoNABIvmQfi+g0BGWeJBIceDQGqK2cE1z4NAohDaoV7Xg0DArd4hc9+DQAJ82iGc54NAHxnfobDvg0BXn9+B2feDQMwE5mHP/oNA5u3hweMGhEAEi+ZB+A6EQEZZ4kEhF4RAaorZwTUfhECiENqhXieEQMCt3iFzL4RAAnzaIZw3hEAfGd+hsD+EQFef34HZR4RAzATmYc9OhEDm7eHB41aEQASL5kH4XoRA",
          "dtype": "f8"
         },
         "y": {
          "bdata": "vFieWnjNSUAMkw8GM+FLQC+gNcgCAU5AszWddTlDUEBWcugN16xRQMpsZH4uclJAvD5EtaJwU0BUC0zf95BUQO46QDdJU1VAPjG4bj0sVkAMTZ75/+BWQEcWJfdxQldAIKBj8bL7V0BHzv1EQKRYQNTXV5WayFhAftrp/Zi8WEAAAAAAAABZQP0xxDKzwFhAXSLRGOV4WECF0vtNz1JYQBajHcJpVVhA/hnVbbaIV0An1hjpfUJXQPhDAxa1slZA1/Cpp887VkB3XkM/xbBVQFy47K6L91RAe8XFxbOBVED8BogeVcxTQFkGYgM16VJAfVZYsRd0UkCvQHDZ6JpRQFL8y60RN1FAue3SN88tUEBbnobgR3tPQCcJogLWL05AR8kMLetbTUDzWSweIZ9MQNnEqP9X60pAsRRgNFnYSUC0q82HKdRIQDVSQ1Vkd0dAKIl2vRkJR0ARR1JOmuRFQFoSyeLhlERASve0gmJuREBdInlNuSRDQBj8ARaWy0JAGNIESdHZQUDInjP9t5ZBQKjJ3Mcy+UBApKtandVIQEBOr41xLts/QAXnYSntoj5AsGklvN2iPUCqFaVsn0Q9QF+LYM9KFTxARolLYbX2OkCx/RzqqvI5QB8jTPaR+TlAC9s+j5NlOEAmPnDuxbc3QMAPAjBjkDdAP3vXD5ZJNkA4RphyX3M1QDSBh9G1zjRAjhNCKFh6NEBb1lm6uKAzQIAknrDAGzNA3FcDsO5aMkBuxsvR1MMxQOqKr+bW4DBAnYeDbTWJMEBug64pilgwQJexFC02Wy9An0kWrpGgLUBzK4kZyI8rQMZshUfvEipAi+zwJozWKUCf1Ux9xvsoQPZspXGJ5SdAiawfqN/OJkBBD2RPMjsmQDajt1NWrCVA8uEID/93JEAYMk+KpcUjQF8Pip0pByNAx1pNIaKrIUBGHEzr8jchQM5D08gRQiBAlnzTxD9fH0AjX3CF50UcQN64xbcUEB1AuMeOmXhfHECreAtJAssZQFGZArqsWBlAJZXd1I+WGEC6xXhRHycWQIrQvw3enBVA7vmL3OCEFEBPXDff3/YTQJDr6/LpZRNA4EEtDA6sEUBrMvG7hoYTQFnUrZSIgRFAOxUTrn5cEECnPPyFUZEPQFKl/675nA5AxQMsoLMZEUA3f+ig+3MMQDPGjUTWGwlAPCjFQ72dB0CVO2szzqwIQCNNizjRlQpAZoaNtj53B0DlVtOAL8EJQBLr5oZXAgVA",
          "dtype": "f8"
         }
        }
       ],
       "layout": {
        "font": {
         "size": 14
        },
        "height": 600,
        "legend": {
         "x": 0.88,
         "y": 1
        },
        "template": {
         "data": {
          "bar": [
           {
            "error_x": {
             "color": "#2a3f5f"
            },
            "error_y": {
             "color": "#2a3f5f"
            },
            "marker": {
             "line": {
              "color": "#E5ECF6",
              "width": 0.5
             },
             "pattern": {
              "fillmode": "overlay",
              "size": 10,
              "solidity": 0.2
             }
            },
            "type": "bar"
           }
          ],
          "barpolar": [
           {
            "marker": {
             "line": {
              "color": "#E5ECF6",
              "width": 0.5
             },
             "pattern": {
              "fillmode": "overlay",
              "size": 10,
              "solidity": 0.2
             }
            },
            "type": "barpolar"
           }
          ],
          "carpet": [
           {
            "aaxis": {
             "endlinecolor": "#2a3f5f",
             "gridcolor": "white",
             "linecolor": "white",
             "minorgridcolor": "white",
             "startlinecolor": "#2a3f5f"
            },
            "baxis": {
             "endlinecolor": "#2a3f5f",
             "gridcolor": "white",
             "linecolor": "white",
             "minorgridcolor": "white",
             "startlinecolor": "#2a3f5f"
            },
            "type": "carpet"
           }
          ],
          "choropleth": [
           {
            "colorbar": {
             "outlinewidth": 0,
             "ticks": ""
            },
            "type": "choropleth"
           }
          ],
          "contour": [
           {
            "colorbar": {
             "outlinewidth": 0,
             "ticks": ""
            },
            "colorscale": [
             [
              0,
              "#0d0887"
             ],
             [
              0.1111111111111111,
              "#46039f"
             ],
             [
              0.2222222222222222,
              "#7201a8"
             ],
             [
              0.3333333333333333,
              "#9c179e"
             ],
             [
              0.4444444444444444,
              "#bd3786"
             ],
             [
              0.5555555555555556,
              "#d8576b"
             ],
             [
              0.6666666666666666,
              "#ed7953"
             ],
             [
              0.7777777777777778,
              "#fb9f3a"
             ],
             [
              0.8888888888888888,
              "#fdca26"
             ],
             [
              1,
              "#f0f921"
             ]
            ],
            "type": "contour"
           }
          ],
          "contourcarpet": [
           {
            "colorbar": {
             "outlinewidth": 0,
             "ticks": ""
            },
            "type": "contourcarpet"
           }
          ],
          "heatmap": [
           {
            "colorbar": {
             "outlinewidth": 0,
             "ticks": ""
            },
            "colorscale": [
             [
              0,
              "#0d0887"
             ],
             [
              0.1111111111111111,
              "#46039f"
             ],
             [
              0.2222222222222222,
              "#7201a8"
             ],
             [
              0.3333333333333333,
              "#9c179e"
             ],
             [
              0.4444444444444444,
              "#bd3786"
             ],
             [
              0.5555555555555556,
              "#d8576b"
             ],
             [
              0.6666666666666666,
              "#ed7953"
             ],
             [
              0.7777777777777778,
              "#fb9f3a"
             ],
             [
              0.8888888888888888,
              "#fdca26"
             ],
             [
              1,
              "#f0f921"
             ]
            ],
            "type": "heatmap"
           }
          ],
          "histogram": [
           {
            "marker": {
             "pattern": {
              "fillmode": "overlay",
              "size": 10,
              "solidity": 0.2
             }
            },
            "type": "histogram"
           }
          ],
          "histogram2d": [
           {
            "colorbar": {
             "outlinewidth": 0,
             "ticks": ""
            },
            "colorscale": [
             [
              0,
              "#0d0887"
             ],
             [
              0.1111111111111111,
              "#46039f"
             ],
             [
              0.2222222222222222,
              "#7201a8"
             ],
             [
              0.3333333333333333,
              "#9c179e"
             ],
             [
              0.4444444444444444,
              "#bd3786"
             ],
             [
              0.5555555555555556,
              "#d8576b"
             ],
             [
              0.6666666666666666,
              "#ed7953"
             ],
             [
              0.7777777777777778,
              "#fb9f3a"
             ],
             [
              0.8888888888888888,
              "#fdca26"
             ],
             [
              1,
              "#f0f921"
             ]
            ],
            "type": "histogram2d"
           }
          ],
          "histogram2dcontour": [
           {
            "colorbar": {
             "outlinewidth": 0,
             "ticks": ""
            },
            "colorscale": [
             [
              0,
              "#0d0887"
             ],
             [
              0.1111111111111111,
              "#46039f"
             ],
             [
              0.2222222222222222,
              "#7201a8"
             ],
             [
              0.3333333333333333,
              "#9c179e"
             ],
             [
              0.4444444444444444,
              "#bd3786"
             ],
             [
              0.5555555555555556,
              "#d8576b"
             ],
             [
              0.6666666666666666,
              "#ed7953"
             ],
             [
              0.7777777777777778,
              "#fb9f3a"
             ],
             [
              0.8888888888888888,
              "#fdca26"
             ],
             [
              1,
              "#f0f921"
             ]
            ],
            "type": "histogram2dcontour"
           }
          ],
          "mesh3d": [
           {
            "colorbar": {
             "outlinewidth": 0,
             "ticks": ""
            },
            "type": "mesh3d"
           }
          ],
          "parcoords": [
           {
            "line": {
             "colorbar": {
              "outlinewidth": 0,
              "ticks": ""
             }
            },
            "type": "parcoords"
           }
          ],
          "pie": [
           {
            "automargin": true,
            "type": "pie"
           }
          ],
          "scatter": [
           {
            "fillpattern": {
             "fillmode": "overlay",
             "size": 10,
             "solidity": 0.2
            },
            "type": "scatter"
           }
          ],
          "scatter3d": [
           {
            "line": {
             "colorbar": {
              "outlinewidth": 0,
              "ticks": ""
             }
            },
            "marker": {
             "colorbar": {
              "outlinewidth": 0,
              "ticks": ""
             }
            },
            "type": "scatter3d"
           }
          ],
          "scattercarpet": [
           {
            "marker": {
             "colorbar": {
              "outlinewidth": 0,
              "ticks": ""
             }
            },
            "type": "scattercarpet"
           }
          ],
          "scattergeo": [
           {
            "marker": {
             "colorbar": {
              "outlinewidth": 0,
              "ticks": ""
             }
            },
            "type": "scattergeo"
           }
          ],
          "scattergl": [
           {
            "marker": {
             "colorbar": {
              "outlinewidth": 0,
              "ticks": ""
             }
            },
            "type": "scattergl"
           }
          ],
          "scattermap": [
           {
            "marker": {
             "colorbar": {
              "outlinewidth": 0,
              "ticks": ""
             }
            },
            "type": "scattermap"
           }
          ],
          "scattermapbox": [
           {
            "marker": {
             "colorbar": {
              "outlinewidth": 0,
              "ticks": ""
             }
            },
            "type": "scattermapbox"
           }
          ],
          "scatterpolar": [
           {
            "marker": {
             "colorbar": {
              "outlinewidth": 0,
              "ticks": ""
             }
            },
            "type": "scatterpolar"
           }
          ],
          "scatterpolargl": [
           {
            "marker": {
             "colorbar": {
              "outlinewidth": 0,
              "ticks": ""
             }
            },
            "type": "scatterpolargl"
           }
          ],
          "scatterternary": [
           {
            "marker": {
             "colorbar": {
              "outlinewidth": 0,
              "ticks": ""
             }
            },
            "type": "scatterternary"
           }
          ],
          "surface": [
           {
            "colorbar": {
             "outlinewidth": 0,
             "ticks": ""
            },
            "colorscale": [
             [
              0,
              "#0d0887"
             ],
             [
              0.1111111111111111,
              "#46039f"
             ],
             [
              0.2222222222222222,
              "#7201a8"
             ],
             [
              0.3333333333333333,
              "#9c179e"
             ],
             [
              0.4444444444444444,
              "#bd3786"
             ],
             [
              0.5555555555555556,
              "#d8576b"
             ],
             [
              0.6666666666666666,
              "#ed7953"
             ],
             [
              0.7777777777777778,
              "#fb9f3a"
             ],
             [
              0.8888888888888888,
              "#fdca26"
             ],
             [
              1,
              "#f0f921"
             ]
            ],
            "type": "surface"
           }
          ],
          "table": [
           {
            "cells": {
             "fill": {
              "color": "#EBF0F8"
             },
             "line": {
              "color": "white"
             }
            },
            "header": {
             "fill": {
              "color": "#C8D4E3"
             },
             "line": {
              "color": "white"
             }
            },
            "type": "table"
           }
          ]
         },
         "layout": {
          "annotationdefaults": {
           "arrowcolor": "#2a3f5f",
           "arrowhead": 0,
           "arrowwidth": 1
          },
          "autotypenumbers": "strict",
          "coloraxis": {
           "colorbar": {
            "outlinewidth": 0,
            "ticks": ""
           }
          },
          "colorscale": {
           "diverging": [
            [
             0,
             "#8e0152"
            ],
            [
             0.1,
             "#c51b7d"
            ],
            [
             0.2,
             "#de77ae"
            ],
            [
             0.3,
             "#f1b6da"
            ],
            [
             0.4,
             "#fde0ef"
            ],
            [
             0.5,
             "#f7f7f7"
            ],
            [
             0.6,
             "#e6f5d0"
            ],
            [
             0.7,
             "#b8e186"
            ],
            [
             0.8,
             "#7fbc41"
            ],
            [
             0.9,
             "#4d9221"
            ],
            [
             1,
             "#276419"
            ]
           ],
           "sequential": [
            [
             0,
             "#0d0887"
            ],
            [
             0.1111111111111111,
             "#46039f"
            ],
            [
             0.2222222222222222,
             "#7201a8"
            ],
            [
             0.3333333333333333,
             "#9c179e"
            ],
            [
             0.4444444444444444,
             "#bd3786"
            ],
            [
             0.5555555555555556,
             "#d8576b"
            ],
            [
             0.6666666666666666,
             "#ed7953"
            ],
            [
             0.7777777777777778,
             "#fb9f3a"
            ],
            [
             0.8888888888888888,
             "#fdca26"
            ],
            [
             1,
             "#f0f921"
            ]
           ],
           "sequentialminus": [
            [
             0,
             "#0d0887"
            ],
            [
             0.1111111111111111,
             "#46039f"
            ],
            [
             0.2222222222222222,
             "#7201a8"
            ],
            [
             0.3333333333333333,
             "#9c179e"
            ],
            [
             0.4444444444444444,
             "#bd3786"
            ],
            [
             0.5555555555555556,
             "#d8576b"
            ],
            [
             0.6666666666666666,
             "#ed7953"
            ],
            [
             0.7777777777777778,
             "#fb9f3a"
            ],
            [
             0.8888888888888888,
             "#fdca26"
            ],
            [
             1,
             "#f0f921"
            ]
           ]
          },
          "colorway": [
           "#636efa",
           "#EF553B",
           "#00cc96",
           "#ab63fa",
           "#FFA15A",
           "#19d3f3",
           "#FF6692",
           "#B6E880",
           "#FF97FF",
           "#FECB52"
          ],
          "font": {
           "color": "#2a3f5f"
          },
          "geo": {
           "bgcolor": "white",
           "lakecolor": "white",
           "landcolor": "#E5ECF6",
           "showlakes": true,
           "showland": true,
           "subunitcolor": "white"
          },
          "hoverlabel": {
           "align": "left"
          },
          "hovermode": "closest",
          "mapbox": {
           "style": "light"
          },
          "paper_bgcolor": "white",
          "plot_bgcolor": "#E5ECF6",
          "polar": {
           "angularaxis": {
            "gridcolor": "white",
            "linecolor": "white",
            "ticks": ""
           },
           "bgcolor": "#E5ECF6",
           "radialaxis": {
            "gridcolor": "white",
            "linecolor": "white",
            "ticks": ""
           }
          },
          "scene": {
           "xaxis": {
            "backgroundcolor": "#E5ECF6",
            "gridcolor": "white",
            "gridwidth": 2,
            "linecolor": "white",
            "showbackground": true,
            "ticks": "",
            "zerolinecolor": "white"
           },
           "yaxis": {
            "backgroundcolor": "#E5ECF6",
            "gridcolor": "white",
            "gridwidth": 2,
            "linecolor": "white",
            "showbackground": true,
            "ticks": "",
            "zerolinecolor": "white"
           },
           "zaxis": {
            "backgroundcolor": "#E5ECF6",
            "gridcolor": "white",
            "gridwidth": 2,
            "linecolor": "white",
            "showbackground": true,
            "ticks": "",
            "zerolinecolor": "white"
           }
          },
          "shapedefaults": {
           "line": {
            "color": "#2a3f5f"
           }
          },
          "ternary": {
           "aaxis": {
            "gridcolor": "white",
            "linecolor": "white",
            "ticks": ""
           },
           "baxis": {
            "gridcolor": "white",
            "linecolor": "white",
            "ticks": ""
           },
           "bgcolor": "#E5ECF6",
           "caxis": {
            "gridcolor": "white",
            "linecolor": "white",
            "ticks": ""
           }
          },
          "title": {
           "x": 0.05
          },
          "xaxis": {
           "automargin": true,
           "gridcolor": "white",
           "linecolor": "white",
           "ticks": "",
           "title": {
            "standoff": 15
           },
           "zerolinecolor": "white",
           "zerolinewidth": 2
          },
          "yaxis": {
           "automargin": true,
           "gridcolor": "white",
           "linecolor": "white",
           "ticks": "",
           "title": {
            "standoff": 15
           },
           "zerolinecolor": "white",
           "zerolinewidth": 2
          }
         }
        },
        "width": 800,
        "xaxis": {
         "title": {
          "text": "Wavelength (nm)"
         }
        },
        "yaxis": {
         "range": [
          0,
          100
         ],
         "title": {
          "text": "Intensity (%)"
         }
        }
       }
      }
     },
     "metadata": {},
     "output_type": "display_data"
    },
    {
     "data": {
      "text/plain": [
       "<Figure size 1000x600 with 0 Axes>"
      ]
     },
     "metadata": {},
     "output_type": "display_data"
    }
   ],
   "source": [
    "# plotting normalized spectrum (kind of, in the sense that we are not normalizing the area under the curve, but the maximum value of the spectrum)\n",
    "\n",
    "delta = np.array(λcenter_list) - np.mean(λcenter_list)  # Calculate the average value of λcenter\n",
    "\n",
    "plt.figure(figsize=(10, 6))\n",
    "\n",
    "fig = go.Figure()\n",
    "\n",
    "for λ_col, I_col, c, d in zip(WAVELENGHTS, INTENSITIES,ASS,delta):\n",
    "    max = data[I_col].max()\n",
    "    centered_wavelengths = data[λ_col] - d  # Center the wavelengths around the average λcenter\n",
    "    fig.add_trace(go.Scatter(x=centered_wavelengths,y= data[I_col]*100/ max,\n",
    "                    mode='lines',\n",
    "                    name=f'{np.round(c,2)}'))\n",
    "\n",
    "fig.update_layout(\n",
    "                  xaxis_title='Wavelength (nm)',\n",
    "                  yaxis_title='Intensity (%)',\n",
    "                  height=600,\n",
    "                  width=800,\n",
    "                  yaxis=dict(range=[0, 100]),\n",
    "                  legend=dict(x=0.88, y=1),\n",
    "                  font=dict(size=14))\n",
    "\n",
    "fig.write_html(dir_path +r\"\\html\\normalized_centered_emission_spectrum.html\")\n",
    "fig.write_image(dir_path + r\"\\images\\normalized_centered_emission_spectrum.png\")\n",
    "fig.show()"
   ]
  },
  {
   "cell_type": "markdown",
   "metadata": {},
   "source": [
    "The function $ F(C) $ is defined as:\n",
    "\n",
    "$ F(C, F_0, k, y_0) = F_0 \\cdot \\left( 1 - e^{-k \\cdot C} \\right) + y_0$\n",
    "\n",
    "where:\n",
    "- $ C $ is the concentration,\n",
    "- $ F_0 $ is the maximum fluorescence intensity,\n",
    "- $ k $ is the rate constant,\n",
    "- $ y_0 $ is the baseline fluorescence intensity."
   ]
  },
  {
   "cell_type": "code",
   "execution_count": 15,
   "metadata": {},
   "outputs": [],
   "source": [
    "# fit with the exponential 1-exp(-k*C)\n",
    "\n",
    "def F_C_fit(C,F0,k,y0):\n",
    "    return F0*(1-np.exp(-k*C)) + y0"
   ]
  },
  {
   "cell_type": "code",
   "execution_count": 16,
   "metadata": {},
   "outputs": [
    {
     "name": "stdout",
     "output_type": "stream",
     "text": [
      "F0: 3437 ± 3543 a.u.\n",
      "k: 0.813 ± 0.925 \n",
      "y0: -19.529 ± 7.29 a.u.\n"
     ]
    },
    {
     "data": {
      "application/vnd.plotly.v1+json": {
       "config": {
        "plotlyServerURL": "https://plot.ly"
       },
       "data": [
        {
         "error_x": {
          "array": {
           "bdata": "UrPWqR/6NT+mGTd8RLc0P1nRt8VqMTI/1zjus2fGKz9Oc197h00gPwd6oZNFAxw/FgpDvHleFj+foZLvV9oPP3cnu/TMWwE/Svs+cYuz8j4=",
           "dtype": "f8"
          },
          "type": "data",
          "visible": true
         },
         "error_y": {
          "array": {
           "bdata": "0hF7eP959T/fkXkc1r34P0l4O5VuQtA/l2KGlfrfxj/vsz2Y+gTQP8Y9FB5WCsc/XZ99Gh0Ksj+OjfoAbJmtPzbS5tcLKKE/ELq7Fb62oj8=",
           "dtype": "f8"
          },
          "type": "data",
          "visible": true
         },
         "mode": "markers",
         "name": "Data with error",
         "type": "scatter",
         "x": {
          "bdata": "liYQvQC53j85doDneZLWP9NmA/og3NA/TpQMFzVexj/SadRamWm2PxZI8wKsCrI/+qA3J3gOqz9tq4qNQw6iP22rio1DDpI/8MClv/UVgj8=",
          "dtype": "f8"
         },
         "y": {
          "bdata": "d9fK7YtljUAHDWK+v5+JQDFUbwOac4ZAMqwOqw3MfkBW0ISNf9ZtQI2s6jxjSGVAmHJyR2pxXUB89PyQzkVKQKxSbnM5UjNA4HqVgVOpJkA=",
          "dtype": "f8"
         }
        },
        {
         "mode": "lines",
         "name": "Fit",
         "type": "scatter",
         "x": {
          "bdata": "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",
          "dtype": "f8"
         },
         "y": {
          "bdata": "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",
          "dtype": "f8"
         }
        }
       ],
       "layout": {
        "font": {
         "size": 14
        },
        "height": 600,
        "legend": {
         "x": 0,
         "y": 1
        },
        "template": {
         "data": {
          "bar": [
           {
            "error_x": {
             "color": "#2a3f5f"
            },
            "error_y": {
             "color": "#2a3f5f"
            },
            "marker": {
             "line": {
              "color": "#E5ECF6",
              "width": 0.5
             },
             "pattern": {
              "fillmode": "overlay",
              "size": 10,
              "solidity": 0.2
             }
            },
            "type": "bar"
           }
          ],
          "barpolar": [
           {
            "marker": {
             "line": {
              "color": "#E5ECF6",
              "width": 0.5
             },
             "pattern": {
              "fillmode": "overlay",
              "size": 10,
              "solidity": 0.2
             }
            },
            "type": "barpolar"
           }
          ],
          "carpet": [
           {
            "aaxis": {
             "endlinecolor": "#2a3f5f",
             "gridcolor": "white",
             "linecolor": "white",
             "minorgridcolor": "white",
             "startlinecolor": "#2a3f5f"
            },
            "baxis": {
             "endlinecolor": "#2a3f5f",
             "gridcolor": "white",
             "linecolor": "white",
             "minorgridcolor": "white",
             "startlinecolor": "#2a3f5f"
            },
            "type": "carpet"
           }
          ],
          "choropleth": [
           {
            "colorbar": {
             "outlinewidth": 0,
             "ticks": ""
            },
            "type": "choropleth"
           }
          ],
          "contour": [
           {
            "colorbar": {
             "outlinewidth": 0,
             "ticks": ""
            },
            "colorscale": [
             [
              0,
              "#0d0887"
             ],
             [
              0.1111111111111111,
              "#46039f"
             ],
             [
              0.2222222222222222,
              "#7201a8"
             ],
             [
              0.3333333333333333,
              "#9c179e"
             ],
             [
              0.4444444444444444,
              "#bd3786"
             ],
             [
              0.5555555555555556,
              "#d8576b"
             ],
             [
              0.6666666666666666,
              "#ed7953"
             ],
             [
              0.7777777777777778,
              "#fb9f3a"
             ],
             [
              0.8888888888888888,
              "#fdca26"
             ],
             [
              1,
              "#f0f921"
             ]
            ],
            "type": "contour"
           }
          ],
          "contourcarpet": [
           {
            "colorbar": {
             "outlinewidth": 0,
             "ticks": ""
            },
            "type": "contourcarpet"
           }
          ],
          "heatmap": [
           {
            "colorbar": {
             "outlinewidth": 0,
             "ticks": ""
            },
            "colorscale": [
             [
              0,
              "#0d0887"
             ],
             [
              0.1111111111111111,
              "#46039f"
             ],
             [
              0.2222222222222222,
              "#7201a8"
             ],
             [
              0.3333333333333333,
              "#9c179e"
             ],
             [
              0.4444444444444444,
              "#bd3786"
             ],
             [
              0.5555555555555556,
              "#d8576b"
             ],
             [
              0.6666666666666666,
              "#ed7953"
             ],
             [
              0.7777777777777778,
              "#fb9f3a"
             ],
             [
              0.8888888888888888,
              "#fdca26"
             ],
             [
              1,
              "#f0f921"
             ]
            ],
            "type": "heatmap"
           }
          ],
          "histogram": [
           {
            "marker": {
             "pattern": {
              "fillmode": "overlay",
              "size": 10,
              "solidity": 0.2
             }
            },
            "type": "histogram"
           }
          ],
          "histogram2d": [
           {
            "colorbar": {
             "outlinewidth": 0,
             "ticks": ""
            },
            "colorscale": [
             [
              0,
              "#0d0887"
             ],
             [
              0.1111111111111111,
              "#46039f"
             ],
             [
              0.2222222222222222,
              "#7201a8"
             ],
             [
              0.3333333333333333,
              "#9c179e"
             ],
             [
              0.4444444444444444,
              "#bd3786"
             ],
             [
              0.5555555555555556,
              "#d8576b"
             ],
             [
              0.6666666666666666,
              "#ed7953"
             ],
             [
              0.7777777777777778,
              "#fb9f3a"
             ],
             [
              0.8888888888888888,
              "#fdca26"
             ],
             [
              1,
              "#f0f921"
             ]
            ],
            "type": "histogram2d"
           }
          ],
          "histogram2dcontour": [
           {
            "colorbar": {
             "outlinewidth": 0,
             "ticks": ""
            },
            "colorscale": [
             [
              0,
              "#0d0887"
             ],
             [
              0.1111111111111111,
              "#46039f"
             ],
             [
              0.2222222222222222,
              "#7201a8"
             ],
             [
              0.3333333333333333,
              "#9c179e"
             ],
             [
              0.4444444444444444,
              "#bd3786"
             ],
             [
              0.5555555555555556,
              "#d8576b"
             ],
             [
              0.6666666666666666,
              "#ed7953"
             ],
             [
              0.7777777777777778,
              "#fb9f3a"
             ],
             [
              0.8888888888888888,
              "#fdca26"
             ],
             [
              1,
              "#f0f921"
             ]
            ],
            "type": "histogram2dcontour"
           }
          ],
          "mesh3d": [
           {
            "colorbar": {
             "outlinewidth": 0,
             "ticks": ""
            },
            "type": "mesh3d"
           }
          ],
          "parcoords": [
           {
            "line": {
             "colorbar": {
              "outlinewidth": 0,
              "ticks": ""
             }
            },
            "type": "parcoords"
           }
          ],
          "pie": [
           {
            "automargin": true,
            "type": "pie"
           }
          ],
          "scatter": [
           {
            "fillpattern": {
             "fillmode": "overlay",
             "size": 10,
             "solidity": 0.2
            },
            "type": "scatter"
           }
          ],
          "scatter3d": [
           {
            "line": {
             "colorbar": {
              "outlinewidth": 0,
              "ticks": ""
             }
            },
            "marker": {
             "colorbar": {
              "outlinewidth": 0,
              "ticks": ""
             }
            },
            "type": "scatter3d"
           }
          ],
          "scattercarpet": [
           {
            "marker": {
             "colorbar": {
              "outlinewidth": 0,
              "ticks": ""
             }
            },
            "type": "scattercarpet"
           }
          ],
          "scattergeo": [
           {
            "marker": {
             "colorbar": {
              "outlinewidth": 0,
              "ticks": ""
             }
            },
            "type": "scattergeo"
           }
          ],
          "scattergl": [
           {
            "marker": {
             "colorbar": {
              "outlinewidth": 0,
              "ticks": ""
             }
            },
            "type": "scattergl"
           }
          ],
          "scattermap": [
           {
            "marker": {
             "colorbar": {
              "outlinewidth": 0,
              "ticks": ""
             }
            },
            "type": "scattermap"
           }
          ],
          "scattermapbox": [
           {
            "marker": {
             "colorbar": {
              "outlinewidth": 0,
              "ticks": ""
             }
            },
            "type": "scattermapbox"
           }
          ],
          "scatterpolar": [
           {
            "marker": {
             "colorbar": {
              "outlinewidth": 0,
              "ticks": ""
             }
            },
            "type": "scatterpolar"
           }
          ],
          "scatterpolargl": [
           {
            "marker": {
             "colorbar": {
              "outlinewidth": 0,
              "ticks": ""
             }
            },
            "type": "scatterpolargl"
           }
          ],
          "scatterternary": [
           {
            "marker": {
             "colorbar": {
              "outlinewidth": 0,
              "ticks": ""
             }
            },
            "type": "scatterternary"
           }
          ],
          "surface": [
           {
            "colorbar": {
             "outlinewidth": 0,
             "ticks": ""
            },
            "colorscale": [
             [
              0,
              "#0d0887"
             ],
             [
              0.1111111111111111,
              "#46039f"
             ],
             [
              0.2222222222222222,
              "#7201a8"
             ],
             [
              0.3333333333333333,
              "#9c179e"
             ],
             [
              0.4444444444444444,
              "#bd3786"
             ],
             [
              0.5555555555555556,
              "#d8576b"
             ],
             [
              0.6666666666666666,
              "#ed7953"
             ],
             [
              0.7777777777777778,
              "#fb9f3a"
             ],
             [
              0.8888888888888888,
              "#fdca26"
             ],
             [
              1,
              "#f0f921"
             ]
            ],
            "type": "surface"
           }
          ],
          "table": [
           {
            "cells": {
             "fill": {
              "color": "#EBF0F8"
             },
             "line": {
              "color": "white"
             }
            },
            "header": {
             "fill": {
              "color": "#C8D4E3"
             },
             "line": {
              "color": "white"
             }
            },
            "type": "table"
           }
          ]
         },
         "layout": {
          "annotationdefaults": {
           "arrowcolor": "#2a3f5f",
           "arrowhead": 0,
           "arrowwidth": 1
          },
          "autotypenumbers": "strict",
          "coloraxis": {
           "colorbar": {
            "outlinewidth": 0,
            "ticks": ""
           }
          },
          "colorscale": {
           "diverging": [
            [
             0,
             "#8e0152"
            ],
            [
             0.1,
             "#c51b7d"
            ],
            [
             0.2,
             "#de77ae"
            ],
            [
             0.3,
             "#f1b6da"
            ],
            [
             0.4,
             "#fde0ef"
            ],
            [
             0.5,
             "#f7f7f7"
            ],
            [
             0.6,
             "#e6f5d0"
            ],
            [
             0.7,
             "#b8e186"
            ],
            [
             0.8,
             "#7fbc41"
            ],
            [
             0.9,
             "#4d9221"
            ],
            [
             1,
             "#276419"
            ]
           ],
           "sequential": [
            [
             0,
             "#0d0887"
            ],
            [
             0.1111111111111111,
             "#46039f"
            ],
            [
             0.2222222222222222,
             "#7201a8"
            ],
            [
             0.3333333333333333,
             "#9c179e"
            ],
            [
             0.4444444444444444,
             "#bd3786"
            ],
            [
             0.5555555555555556,
             "#d8576b"
            ],
            [
             0.6666666666666666,
             "#ed7953"
            ],
            [
             0.7777777777777778,
             "#fb9f3a"
            ],
            [
             0.8888888888888888,
             "#fdca26"
            ],
            [
             1,
             "#f0f921"
            ]
           ],
           "sequentialminus": [
            [
             0,
             "#0d0887"
            ],
            [
             0.1111111111111111,
             "#46039f"
            ],
            [
             0.2222222222222222,
             "#7201a8"
            ],
            [
             0.3333333333333333,
             "#9c179e"
            ],
            [
             0.4444444444444444,
             "#bd3786"
            ],
            [
             0.5555555555555556,
             "#d8576b"
            ],
            [
             0.6666666666666666,
             "#ed7953"
            ],
            [
             0.7777777777777778,
             "#fb9f3a"
            ],
            [
             0.8888888888888888,
             "#fdca26"
            ],
            [
             1,
             "#f0f921"
            ]
           ]
          },
          "colorway": [
           "#636efa",
           "#EF553B",
           "#00cc96",
           "#ab63fa",
           "#FFA15A",
           "#19d3f3",
           "#FF6692",
           "#B6E880",
           "#FF97FF",
           "#FECB52"
          ],
          "font": {
           "color": "#2a3f5f"
          },
          "geo": {
           "bgcolor": "white",
           "lakecolor": "white",
           "landcolor": "#E5ECF6",
           "showlakes": true,
           "showland": true,
           "subunitcolor": "white"
          },
          "hoverlabel": {
           "align": "left"
          },
          "hovermode": "closest",
          "mapbox": {
           "style": "light"
          },
          "paper_bgcolor": "white",
          "plot_bgcolor": "#E5ECF6",
          "polar": {
           "angularaxis": {
            "gridcolor": "white",
            "linecolor": "white",
            "ticks": ""
           },
           "bgcolor": "#E5ECF6",
           "radialaxis": {
            "gridcolor": "white",
            "linecolor": "white",
            "ticks": ""
           }
          },
          "scene": {
           "xaxis": {
            "backgroundcolor": "#E5ECF6",
            "gridcolor": "white",
            "gridwidth": 2,
            "linecolor": "white",
            "showbackground": true,
            "ticks": "",
            "zerolinecolor": "white"
           },
           "yaxis": {
            "backgroundcolor": "#E5ECF6",
            "gridcolor": "white",
            "gridwidth": 2,
            "linecolor": "white",
            "showbackground": true,
            "ticks": "",
            "zerolinecolor": "white"
           },
           "zaxis": {
            "backgroundcolor": "#E5ECF6",
            "gridcolor": "white",
            "gridwidth": 2,
            "linecolor": "white",
            "showbackground": true,
            "ticks": "",
            "zerolinecolor": "white"
           }
          },
          "shapedefaults": {
           "line": {
            "color": "#2a3f5f"
           }
          },
          "ternary": {
           "aaxis": {
            "gridcolor": "white",
            "linecolor": "white",
            "ticks": ""
           },
           "baxis": {
            "gridcolor": "white",
            "linecolor": "white",
            "ticks": ""
           },
           "bgcolor": "#E5ECF6",
           "caxis": {
            "gridcolor": "white",
            "linecolor": "white",
            "ticks": ""
           }
          },
          "title": {
           "x": 0.05
          },
          "xaxis": {
           "automargin": true,
           "gridcolor": "white",
           "linecolor": "white",
           "ticks": "",
           "title": {
            "standoff": 15
           },
           "zerolinecolor": "white",
           "zerolinewidth": 2
          },
          "yaxis": {
           "automargin": true,
           "gridcolor": "white",
           "linecolor": "white",
           "ticks": "",
           "title": {
            "standoff": 15
           },
           "zerolinecolor": "white",
           "zerolinewidth": 2
          }
         }
        },
        "width": 800,
        "xaxis": {
         "title": {
          "text": "Absorbance"
         },
         "type": "log"
        },
        "yaxis": {
         "title": {
          "text": "Intensity Fluorescence (a.u.)"
         }
        }
       }
      }
     },
     "metadata": {},
     "output_type": "display_data"
    }
   ],
   "source": [
    "I = np.array(IMAX_list)\n",
    "sigmaI = np.array(error_IMAX_list) # need to propagate error on lambda d(-ax^2)/dx = -2ax\n",
    "\n",
    "A = np.array(ASS) # convert to μM\n",
    "sigmaA = np.array(SIGMA_ASS) # propagate error on C\n",
    "\n",
    "# iteration 0\n",
    "popt, pcov = curve_fit(F_C_fit, A, I, p0=[1000, 0.3, 1.0], sigma=sigmaI, maxfev=10000)\n",
    "F0, k, y0 = popt\n",
    "error_F0, error_k, error_y0 = np.sqrt(np.diag(pcov))\n",
    "\n",
    "# iteration 1\n",
    "dFdC = np.abs(k * F0 * np.exp(-k * A)) # propagate error on C\n",
    "sigmaTot = np.sqrt(sigmaI**2 + (dFdC * sigmaA)**2) # propagate error on I\n",
    "popt, pcov = curve_fit(F_C_fit, A, I, p0=[F0, k, y0], sigma=sigmaTot)\n",
    "F0, k, y0 = popt\n",
    "error_F0, error_k, error_y0 = np.sqrt(np.diag(pcov))\n",
    "\n",
    "print('F0:', final_val(F0, error_F0, decimals=0, udm='a.u.'))\n",
    "print('k:', final_val(k, error_k, decimals=3))\n",
    "print('y0:', final_val(y0, error_y0, decimals=3, udm='a.u.'))\n",
    "\n",
    "# Create a scatter plot with error bars using Plotly\n",
    "fig = go.Figure()\n",
    "\n",
    "# Add data points with error bars\n",
    "fig.add_trace(go.Scatter(\n",
    "    x=A,\n",
    "    y=I,\n",
    "    error_y=dict(\n",
    "        type='data',\n",
    "        array=sigmaI,\n",
    "        visible=True\n",
    "    ),\n",
    "    error_x=dict(\n",
    "        type='data',\n",
    "        array=sigmaA,\n",
    "        visible=True\n",
    "    ),\n",
    "    mode='markers',\n",
    "    name='Data with error'\n",
    "))\n",
    "\n",
    "# Add the fitted curve\n",
    "a = np.linspace(np.min(A), np.max(A), 1000)\n",
    "fig.add_trace(go.Scatter(\n",
    "    x=a,\n",
    "    y=F_C_fit(a, *popt),\n",
    "    mode='lines',\n",
    "    name='Fit'\n",
    "))\n",
    "\n",
    "# Update layout for log scale and labels\n",
    "fig.update_layout(\n",
    "    xaxis=dict(\n",
    "        title='Absorbance',\n",
    "        type='log'\n",
    "    ),\n",
    "    yaxis=dict(\n",
    "        title='Intensity Fluorescence (a.u.)'\n",
    "    ),\n",
    "    # title='Intensity Fluorescence vs Concentration',\n",
    "    height=600,\n",
    "    width=800,\n",
    "    legend=dict(x=0, y=1),\n",
    "    font=dict(size=14)\n",
    ")\n",
    "\n",
    "fig.write_html(dir_path +r\"\\html\\FvsAfit.html\")\n",
    "fig.write_image(dir_path + r\"\\images\\FvsAfit.png\")\n",
    "fig.show()"
   ]
  },
  {
   "cell_type": "code",
   "execution_count": 17,
   "metadata": {},
   "outputs": [
    {
     "name": "stdout",
     "output_type": "stream",
     "text": [
      "k: 2237.901 ± 421.616 μM^-1\n",
      "y0: -15.066 ± 10.271 a.u.\n"
     ]
    },
    {
     "data": {
      "application/vnd.plotly.v1+json": {
       "config": {
        "plotlyServerURL": "https://plot.ly"
       },
       "data": [
        {
         "error_x": {
          "array": {
           "bdata": "FgpDvHleFj+foZLvV9oPP3cnu/TMWwE/Svs+cYuz8j4=",
           "dtype": "f8"
          },
          "type": "data",
          "visible": true
         },
         "error_y": {
          "array": {
           "bdata": "XZ99Gh0Ksj+OjfoAbJmtPzbS5tcLKKE/ELq7Fb62oj8=",
           "dtype": "f8"
          },
          "type": "data",
          "visible": true
         },
         "mode": "markers",
         "name": "Data with error",
         "type": "scatter",
         "x": {
          "bdata": "+qA3J3gOqz9tq4qNQw6iP22rio1DDpI/8MClv/UVgj8=",
          "dtype": "f8"
         },
         "y": {
          "bdata": "mHJyR2pxXUB89PyQzkVKQKxSbnM5UjNA4HqVgVOpJkA=",
          "dtype": "f8"
         }
        },
        {
         "mode": "lines",
         "name": "Fit",
         "type": "scatter",
         "x": {
          "bdata": "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",
          "dtype": "f8"
         },
         "y": {
          "bdata": "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",
          "dtype": "f8"
         }
        }
       ],
       "layout": {
        "font": {
         "size": 14
        },
        "height": 600,
        "legend": {
         "x": 0,
         "y": 1
        },
        "template": {
         "data": {
          "bar": [
           {
            "error_x": {
             "color": "#2a3f5f"
            },
            "error_y": {
             "color": "#2a3f5f"
            },
            "marker": {
             "line": {
              "color": "#E5ECF6",
              "width": 0.5
             },
             "pattern": {
              "fillmode": "overlay",
              "size": 10,
              "solidity": 0.2
             }
            },
            "type": "bar"
           }
          ],
          "barpolar": [
           {
            "marker": {
             "line": {
              "color": "#E5ECF6",
              "width": 0.5
             },
             "pattern": {
              "fillmode": "overlay",
              "size": 10,
              "solidity": 0.2
             }
            },
            "type": "barpolar"
           }
          ],
          "carpet": [
           {
            "aaxis": {
             "endlinecolor": "#2a3f5f",
             "gridcolor": "white",
             "linecolor": "white",
             "minorgridcolor": "white",
             "startlinecolor": "#2a3f5f"
            },
            "baxis": {
             "endlinecolor": "#2a3f5f",
             "gridcolor": "white",
             "linecolor": "white",
             "minorgridcolor": "white",
             "startlinecolor": "#2a3f5f"
            },
            "type": "carpet"
           }
          ],
          "choropleth": [
           {
            "colorbar": {
             "outlinewidth": 0,
             "ticks": ""
            },
            "type": "choropleth"
           }
          ],
          "contour": [
           {
            "colorbar": {
             "outlinewidth": 0,
             "ticks": ""
            },
            "colorscale": [
             [
              0,
              "#0d0887"
             ],
             [
              0.1111111111111111,
              "#46039f"
             ],
             [
              0.2222222222222222,
              "#7201a8"
             ],
             [
              0.3333333333333333,
              "#9c179e"
             ],
             [
              0.4444444444444444,
              "#bd3786"
             ],
             [
              0.5555555555555556,
              "#d8576b"
             ],
             [
              0.6666666666666666,
              "#ed7953"
             ],
             [
              0.7777777777777778,
              "#fb9f3a"
             ],
             [
              0.8888888888888888,
              "#fdca26"
             ],
             [
              1,
              "#f0f921"
             ]
            ],
            "type": "contour"
           }
          ],
          "contourcarpet": [
           {
            "colorbar": {
             "outlinewidth": 0,
             "ticks": ""
            },
            "type": "contourcarpet"
           }
          ],
          "heatmap": [
           {
            "colorbar": {
             "outlinewidth": 0,
             "ticks": ""
            },
            "colorscale": [
             [
              0,
              "#0d0887"
             ],
             [
              0.1111111111111111,
              "#46039f"
             ],
             [
              0.2222222222222222,
              "#7201a8"
             ],
             [
              0.3333333333333333,
              "#9c179e"
             ],
             [
              0.4444444444444444,
              "#bd3786"
             ],
             [
              0.5555555555555556,
              "#d8576b"
             ],
             [
              0.6666666666666666,
              "#ed7953"
             ],
             [
              0.7777777777777778,
              "#fb9f3a"
             ],
             [
              0.8888888888888888,
              "#fdca26"
             ],
             [
              1,
              "#f0f921"
             ]
            ],
            "type": "heatmap"
           }
          ],
          "histogram": [
           {
            "marker": {
             "pattern": {
              "fillmode": "overlay",
              "size": 10,
              "solidity": 0.2
             }
            },
            "type": "histogram"
           }
          ],
          "histogram2d": [
           {
            "colorbar": {
             "outlinewidth": 0,
             "ticks": ""
            },
            "colorscale": [
             [
              0,
              "#0d0887"
             ],
             [
              0.1111111111111111,
              "#46039f"
             ],
             [
              0.2222222222222222,
              "#7201a8"
             ],
             [
              0.3333333333333333,
              "#9c179e"
             ],
             [
              0.4444444444444444,
              "#bd3786"
             ],
             [
              0.5555555555555556,
              "#d8576b"
             ],
             [
              0.6666666666666666,
              "#ed7953"
             ],
             [
              0.7777777777777778,
              "#fb9f3a"
             ],
             [
              0.8888888888888888,
              "#fdca26"
             ],
             [
              1,
              "#f0f921"
             ]
            ],
            "type": "histogram2d"
           }
          ],
          "histogram2dcontour": [
           {
            "colorbar": {
             "outlinewidth": 0,
             "ticks": ""
            },
            "colorscale": [
             [
              0,
              "#0d0887"
             ],
             [
              0.1111111111111111,
              "#46039f"
             ],
             [
              0.2222222222222222,
              "#7201a8"
             ],
             [
              0.3333333333333333,
              "#9c179e"
             ],
             [
              0.4444444444444444,
              "#bd3786"
             ],
             [
              0.5555555555555556,
              "#d8576b"
             ],
             [
              0.6666666666666666,
              "#ed7953"
             ],
             [
              0.7777777777777778,
              "#fb9f3a"
             ],
             [
              0.8888888888888888,
              "#fdca26"
             ],
             [
              1,
              "#f0f921"
             ]
            ],
            "type": "histogram2dcontour"
           }
          ],
          "mesh3d": [
           {
            "colorbar": {
             "outlinewidth": 0,
             "ticks": ""
            },
            "type": "mesh3d"
           }
          ],
          "parcoords": [
           {
            "line": {
             "colorbar": {
              "outlinewidth": 0,
              "ticks": ""
             }
            },
            "type": "parcoords"
           }
          ],
          "pie": [
           {
            "automargin": true,
            "type": "pie"
           }
          ],
          "scatter": [
           {
            "fillpattern": {
             "fillmode": "overlay",
             "size": 10,
             "solidity": 0.2
            },
            "type": "scatter"
           }
          ],
          "scatter3d": [
           {
            "line": {
             "colorbar": {
              "outlinewidth": 0,
              "ticks": ""
             }
            },
            "marker": {
             "colorbar": {
              "outlinewidth": 0,
              "ticks": ""
             }
            },
            "type": "scatter3d"
           }
          ],
          "scattercarpet": [
           {
            "marker": {
             "colorbar": {
              "outlinewidth": 0,
              "ticks": ""
             }
            },
            "type": "scattercarpet"
           }
          ],
          "scattergeo": [
           {
            "marker": {
             "colorbar": {
              "outlinewidth": 0,
              "ticks": ""
             }
            },
            "type": "scattergeo"
           }
          ],
          "scattergl": [
           {
            "marker": {
             "colorbar": {
              "outlinewidth": 0,
              "ticks": ""
             }
            },
            "type": "scattergl"
           }
          ],
          "scattermap": [
           {
            "marker": {
             "colorbar": {
              "outlinewidth": 0,
              "ticks": ""
             }
            },
            "type": "scattermap"
           }
          ],
          "scattermapbox": [
           {
            "marker": {
             "colorbar": {
              "outlinewidth": 0,
              "ticks": ""
             }
            },
            "type": "scattermapbox"
           }
          ],
          "scatterpolar": [
           {
            "marker": {
             "colorbar": {
              "outlinewidth": 0,
              "ticks": ""
             }
            },
            "type": "scatterpolar"
           }
          ],
          "scatterpolargl": [
           {
            "marker": {
             "colorbar": {
              "outlinewidth": 0,
              "ticks": ""
             }
            },
            "type": "scatterpolargl"
           }
          ],
          "scatterternary": [
           {
            "marker": {
             "colorbar": {
              "outlinewidth": 0,
              "ticks": ""
             }
            },
            "type": "scatterternary"
           }
          ],
          "surface": [
           {
            "colorbar": {
             "outlinewidth": 0,
             "ticks": ""
            },
            "colorscale": [
             [
              0,
              "#0d0887"
             ],
             [
              0.1111111111111111,
              "#46039f"
             ],
             [
              0.2222222222222222,
              "#7201a8"
             ],
             [
              0.3333333333333333,
              "#9c179e"
             ],
             [
              0.4444444444444444,
              "#bd3786"
             ],
             [
              0.5555555555555556,
              "#d8576b"
             ],
             [
              0.6666666666666666,
              "#ed7953"
             ],
             [
              0.7777777777777778,
              "#fb9f3a"
             ],
             [
              0.8888888888888888,
              "#fdca26"
             ],
             [
              1,
              "#f0f921"
             ]
            ],
            "type": "surface"
           }
          ],
          "table": [
           {
            "cells": {
             "fill": {
              "color": "#EBF0F8"
             },
             "line": {
              "color": "white"
             }
            },
            "header": {
             "fill": {
              "color": "#C8D4E3"
             },
             "line": {
              "color": "white"
             }
            },
            "type": "table"
           }
          ]
         },
         "layout": {
          "annotationdefaults": {
           "arrowcolor": "#2a3f5f",
           "arrowhead": 0,
           "arrowwidth": 1
          },
          "autotypenumbers": "strict",
          "coloraxis": {
           "colorbar": {
            "outlinewidth": 0,
            "ticks": ""
           }
          },
          "colorscale": {
           "diverging": [
            [
             0,
             "#8e0152"
            ],
            [
             0.1,
             "#c51b7d"
            ],
            [
             0.2,
             "#de77ae"
            ],
            [
             0.3,
             "#f1b6da"
            ],
            [
             0.4,
             "#fde0ef"
            ],
            [
             0.5,
             "#f7f7f7"
            ],
            [
             0.6,
             "#e6f5d0"
            ],
            [
             0.7,
             "#b8e186"
            ],
            [
             0.8,
             "#7fbc41"
            ],
            [
             0.9,
             "#4d9221"
            ],
            [
             1,
             "#276419"
            ]
           ],
           "sequential": [
            [
             0,
             "#0d0887"
            ],
            [
             0.1111111111111111,
             "#46039f"
            ],
            [
             0.2222222222222222,
             "#7201a8"
            ],
            [
             0.3333333333333333,
             "#9c179e"
            ],
            [
             0.4444444444444444,
             "#bd3786"
            ],
            [
             0.5555555555555556,
             "#d8576b"
            ],
            [
             0.6666666666666666,
             "#ed7953"
            ],
            [
             0.7777777777777778,
             "#fb9f3a"
            ],
            [
             0.8888888888888888,
             "#fdca26"
            ],
            [
             1,
             "#f0f921"
            ]
           ],
           "sequentialminus": [
            [
             0,
             "#0d0887"
            ],
            [
             0.1111111111111111,
             "#46039f"
            ],
            [
             0.2222222222222222,
             "#7201a8"
            ],
            [
             0.3333333333333333,
             "#9c179e"
            ],
            [
             0.4444444444444444,
             "#bd3786"
            ],
            [
             0.5555555555555556,
             "#d8576b"
            ],
            [
             0.6666666666666666,
             "#ed7953"
            ],
            [
             0.7777777777777778,
             "#fb9f3a"
            ],
            [
             0.8888888888888888,
             "#fdca26"
            ],
            [
             1,
             "#f0f921"
            ]
           ]
          },
          "colorway": [
           "#636efa",
           "#EF553B",
           "#00cc96",
           "#ab63fa",
           "#FFA15A",
           "#19d3f3",
           "#FF6692",
           "#B6E880",
           "#FF97FF",
           "#FECB52"
          ],
          "font": {
           "color": "#2a3f5f"
          },
          "geo": {
           "bgcolor": "white",
           "lakecolor": "white",
           "landcolor": "#E5ECF6",
           "showlakes": true,
           "showland": true,
           "subunitcolor": "white"
          },
          "hoverlabel": {
           "align": "left"
          },
          "hovermode": "closest",
          "mapbox": {
           "style": "light"
          },
          "paper_bgcolor": "white",
          "plot_bgcolor": "#E5ECF6",
          "polar": {
           "angularaxis": {
            "gridcolor": "white",
            "linecolor": "white",
            "ticks": ""
           },
           "bgcolor": "#E5ECF6",
           "radialaxis": {
            "gridcolor": "white",
            "linecolor": "white",
            "ticks": ""
           }
          },
          "scene": {
           "xaxis": {
            "backgroundcolor": "#E5ECF6",
            "gridcolor": "white",
            "gridwidth": 2,
            "linecolor": "white",
            "showbackground": true,
            "ticks": "",
            "zerolinecolor": "white"
           },
           "yaxis": {
            "backgroundcolor": "#E5ECF6",
            "gridcolor": "white",
            "gridwidth": 2,
            "linecolor": "white",
            "showbackground": true,
            "ticks": "",
            "zerolinecolor": "white"
           },
           "zaxis": {
            "backgroundcolor": "#E5ECF6",
            "gridcolor": "white",
            "gridwidth": 2,
            "linecolor": "white",
            "showbackground": true,
            "ticks": "",
            "zerolinecolor": "white"
           }
          },
          "shapedefaults": {
           "line": {
            "color": "#2a3f5f"
           }
          },
          "ternary": {
           "aaxis": {
            "gridcolor": "white",
            "linecolor": "white",
            "ticks": ""
           },
           "baxis": {
            "gridcolor": "white",
            "linecolor": "white",
            "ticks": ""
           },
           "bgcolor": "#E5ECF6",
           "caxis": {
            "gridcolor": "white",
            "linecolor": "white",
            "ticks": ""
           }
          },
          "title": {
           "x": 0.05
          },
          "xaxis": {
           "automargin": true,
           "gridcolor": "white",
           "linecolor": "white",
           "ticks": "",
           "title": {
            "standoff": 15
           },
           "zerolinecolor": "white",
           "zerolinewidth": 2
          },
          "yaxis": {
           "automargin": true,
           "gridcolor": "white",
           "linecolor": "white",
           "ticks": "",
           "title": {
            "standoff": 15
           },
           "zerolinecolor": "white",
           "zerolinewidth": 2
          }
         }
        },
        "title": {
         "text": "Intensity Fluorescence vs Concentration"
        },
        "width": 800,
        "xaxis": {
         "title": {
          "text": "Concentration (μM)"
         }
        },
        "yaxis": {
         "title": {
          "text": "Intensity Fluorescence (a.u.)"
         }
        }
       }
      }
     },
     "metadata": {},
     "output_type": "display_data"
    }
   ],
   "source": [
    "# fit lineare del primo set di dati:\n",
    "limit = 0.06\n",
    "def F_C_fit_linear(C,k,y0):\n",
    "    return k*C + y0\n",
    "\n",
    "I = np.array(IMAX_list)[ASS < limit]\n",
    "sigmaI = np.array(error_IMAX_list)[ASS < limit] \n",
    "\n",
    "A = np.array(ASS)[ASS <limit] \n",
    "sigmaA = np.array(SIGMA_ASS)[ASS < limit]\n",
    "\n",
    "# iteration 0\n",
    "popt, pcov = curve_fit(F_C_fit_linear, A, I, p0=[1000,1.0],sigma=sigmaI,maxfev=10000)\n",
    "k, y0 = popt\n",
    "error_k, error_y0 = np.sqrt(np.diag(pcov))\n",
    "\n",
    "# iteration 1\n",
    "dFdC = np.abs(k*F0*np.exp(-k*A)) # propagate error on C\n",
    "sigmaTot = np.sqrt(sigmaI**2 + (dFdC*sigmaA)**2) # propagate error on I\n",
    "popt, pcov = curve_fit(F_C_fit_linear, A, I, p0=[k,y0],sigma=sigmaTot)\n",
    "k, y0 = popt\n",
    "error_k, error_y0 = np.sqrt(np.diag(pcov))\n",
    "\n",
    "\n",
    "# print('F0:',final_val(F0,error_F0,decimals=0,udm='a.u.'))\n",
    "print('k:',final_val(k,error_k,decimals=3,udm='μM^-1'))\n",
    "print('y0:',final_val(y0,error_y0,decimals=3,udm='a.u.'))\n",
    "\n",
    "# Create a scatter plot with error bars using Plotly\n",
    "fig = go.Figure()\n",
    "\n",
    "# Add data points with error bars\n",
    "fig.add_trace(go.Scatter(\n",
    "    x=A,\n",
    "    y=I,\n",
    "    error_y=dict(\n",
    "        type='data',\n",
    "        array=sigmaI,\n",
    "        visible=True\n",
    "    ),\n",
    "    error_x=dict(\n",
    "        type='data',\n",
    "        array=sigmaA,\n",
    "        visible=True\n",
    "    ),\n",
    "    mode='markers',\n",
    "    name='Data with error'\n",
    "))\n",
    "\n",
    "# Add the fitted curve\n",
    "a = np.linspace(np.min(A), np.max(A), 1000)\n",
    "fig.add_trace(go.Scatter(\n",
    "    x=a,\n",
    "    y=F_C_fit_linear(a, *popt),\n",
    "    mode='lines',\n",
    "    name='Fit'\n",
    "))\n",
    "\n",
    "# Update layout for log scale and labels\n",
    "fig.update_layout(\n",
    "    xaxis=dict(\n",
    "        title='Concentration (μM)',\n",
    "        # type='log'\n",
    "    ),\n",
    "    yaxis=dict(\n",
    "        title='Intensity Fluorescence (a.u.)'\n",
    "    ),\n",
    "    title='Intensity Fluorescence vs Concentration',\n",
    "    height=600,\n",
    "    width=800,\n",
    "    legend=dict(x=0, y=1),\n",
    "    font=dict(size=14)\n",
    ")\n",
    "\n",
    "fig.write_html(dir_path +r\"\\html\\FvsAfit_linear.html\")\n",
    "fig.write_image(dir_path + r\"\\images\\FvsAfit_lnear.png\")\n",
    "fig.show()\n"
   ]
  }
 ],
 "metadata": {
  "kernelspec": {
   "display_name": "Python 3",
   "language": "python",
   "name": "python3"
  },
  "language_info": {
   "codemirror_mode": {
    "name": "ipython",
    "version": 3
   },
   "file_extension": ".py",
   "mimetype": "text/x-python",
   "name": "python",
   "nbconvert_exporter": "python",
   "pygments_lexer": "ipython3",
   "version": "3.13.0"
  }
 },
 "nbformat": 4,
 "nbformat_minor": 2
}
