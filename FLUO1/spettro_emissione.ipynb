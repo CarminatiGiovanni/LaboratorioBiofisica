{
 "cells": [
  {
   "cell_type": "markdown",
   "metadata": {},
   "source": [
    "# FLUORIMETRIA: spettro emissione\n",
    "\n",
    "si hanno soluzioni di rodamina in acqua consequenzialmente a concentrazioni minori\n",
    "\n",
    "OBIETTIVI:\n",
    "viene variata la concentrazione di rodamina. Si vuole mettere in relazione l'assorbanza di rodamina con l'intensità di fluorescenza\n",
    "\n",
    "$\\epsilon$ = coefficiente estinzione molare rodamina 6G = $116000 M^{-1} cm^{-1} $ \n",
    "\n",
    "$A = \\epsilon C l$"
   ]
  },
  {
   "cell_type": "code",
   "execution_count": 1,
   "metadata": {},
   "outputs": [],
   "source": [
    "from matplotlib import pyplot as plt\n",
    "import numpy as np\n",
    "import pandas as pd\n",
    "import plotly.express as px\n",
    "import os\n",
    "import sys\n",
    "import plotly.graph_objects as go \n",
    "dir_path = os.path.abspath('')\n",
    "sys.path.append(dir_path + '/../')\n",
    "from labbiofisica import Interpolazione, final_val\n",
    "from scipy.optimize import curve_fit"
   ]
  },
  {
   "cell_type": "markdown",
   "metadata": {},
   "source": [
    "Assorbanza:\n",
    "\n",
    "Segue il calcolo delle assorbanze, in laboratorio è stato usato lo spettrofotometro per misurare l'assorbanza del campione iniziale. In seguito la soluzione è stata diluita usando $A_i V_i = A_f V_f$ (valida in quanto $C \\propto A$)"
   ]
  },
  {
   "cell_type": "code",
   "execution_count": 2,
   "metadata": {},
   "outputs": [],
   "source": [
    "λexc = 526 #nm frequenza di eccitazione\n",
    "SIGMA_LAMBDA = 1.5 #nm DICHIARATI DAL COSTRUTTORE\n",
    "\n",
    "# Extracting the relevant columns for plotting\n",
    "WAVELENGHTS = ['λ 5', 'λ 4', 'λ 3', 'λ 2', 'λ 1', 'λ 0.8', 'λ 0.6', 'λ 0.4', 'λ 0.2', 'λ 0.1']\n",
    "INTENSITIES = ['I 5', 'I 4', 'I 3', 'I 2', 'I 1', 'I 0.8', 'I 0.6', 'I 0.4', 'I 0.2', 'I 0.1']\n",
    "# CONCENTRATIONS=[5,4,3,2,1,0.8,0.6,0.4,0.2,0.1]\n",
    "\n",
    "# FUNZIone per estrarre i massimi con fit parabolico\n",
    "def max_fit_parabolic(x, λcenter, a, IMAX): # -a*(x-λcenter)**2 + IMAX\n",
    "    return -a*(x-λcenter)**2 + IMAX"
   ]
  },
  {
   "cell_type": "code",
   "execution_count": 3,
   "metadata": {},
   "outputs": [],
   "source": [
    "# # real rodamina \n",
    "# R6G_emission = pd.read_csv(r'.\\data\\Rhodamine 6G_emission.csv', sep=',')\n",
    "# R6G_absorbance = pd.read_csv(r'.\\data\\Rhodamine 6G_absorbance.csv', sep=',')\n",
    "# R6G_excitation = pd.read_csv(r'.\\data\\Rhodamine 6G_excitation.csv', sep=',')"
   ]
  },
  {
   "cell_type": "markdown",
   "metadata": {},
   "source": [
    "Assorbanza iniziale del campione di rodamina:"
   ]
  },
  {
   "cell_type": "code",
   "execution_count": 4,
   "metadata": {},
   "outputs": [
    {
     "data": {
      "text/html": [
       "<div>\n",
       "<style scoped>\n",
       "    .dataframe tbody tr th:only-of-type {\n",
       "        vertical-align: middle;\n",
       "    }\n",
       "\n",
       "    .dataframe tbody tr th {\n",
       "        vertical-align: top;\n",
       "    }\n",
       "\n",
       "    .dataframe thead th {\n",
       "        text-align: right;\n",
       "    }\n",
       "</style>\n",
       "<table border=\"1\" class=\"dataframe\">\n",
       "  <thead>\n",
       "    <tr style=\"text-align: right;\">\n",
       "      <th></th>\n",
       "      <th>λ</th>\n",
       "      <th>A</th>\n",
       "    </tr>\n",
       "  </thead>\n",
       "  <tbody>\n",
       "    <tr>\n",
       "      <th>223</th>\n",
       "      <td>427.0</td>\n",
       "      <td>0.06933</td>\n",
       "    </tr>\n",
       "    <tr>\n",
       "      <th>224</th>\n",
       "      <td>426.0</td>\n",
       "      <td>0.07005</td>\n",
       "    </tr>\n",
       "    <tr>\n",
       "      <th>225</th>\n",
       "      <td>425.0</td>\n",
       "      <td>0.07090</td>\n",
       "    </tr>\n",
       "    <tr>\n",
       "      <th>226</th>\n",
       "      <td>424.0</td>\n",
       "      <td>0.07070</td>\n",
       "    </tr>\n",
       "    <tr>\n",
       "      <th>227</th>\n",
       "      <td>423.0</td>\n",
       "      <td>0.07054</td>\n",
       "    </tr>\n",
       "  </tbody>\n",
       "</table>\n",
       "</div>"
      ],
      "text/plain": [
       "         λ        A\n",
       "223  427.0  0.06933\n",
       "224  426.0  0.07005\n",
       "225  425.0  0.07090\n",
       "226  424.0  0.07070\n",
       "227  423.0  0.07054"
      ]
     },
     "execution_count": 4,
     "metadata": {},
     "output_type": "execute_result"
    }
   ],
   "source": [
    "# plt.plot(ass_rodamina['λ'],ass_rodamina['A'])\n",
    "\n",
    "# determinazione della concentrazione iniziale da spettro di assorbimento\n",
    "\n",
    "filename = './data/rodamina_ass_05_g1.TXT'\n",
    "\n",
    "ass_rodamina = pd.read_csv(filename,sep='\\t',header=None,skiprows=19,nrows=208) # 630 - 423 nm\n",
    "ass_rodamina.columns = ['λ','A']\n",
    "\n",
    "filename = './data/fondo acqua.TXT'\n",
    "\n",
    "fondo_acqua = pd.read_csv(filename,sep='\\t',header=None,skiprows=19,nrows=251)\n",
    "fondo_acqua.columns = ['λ','A']\n",
    "fondo_acqua = fondo_acqua[(fondo_acqua['λ'] <= 630) & (fondo_acqua['λ'] >= 423)]\n",
    "\n",
    "fondo_acqua.tail()"
   ]
  },
  {
   "cell_type": "code",
   "execution_count": 5,
   "metadata": {},
   "outputs": [
    {
     "data": {
      "application/vnd.plotly.v1+json": {
       "config": {
        "plotlyServerURL": "https://plot.ly"
       },
       "data": [
        {
         "mode": "lines",
         "name": "Signal",
         "opacity": 0.3,
         "type": "scatter",
         "x": {
          "bdata": "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",
          "dtype": "f8"
         },
         "y": {
          "bdata": "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",
          "dtype": "f8"
         }
        },
        {
         "mode": "lines",
         "name": "Background",
         "opacity": 0.3,
         "type": "scatter",
         "x": {
          "bdata": "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",
          "dtype": "f8"
         },
         "y": {
          "bdata": "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",
          "dtype": "f8"
         }
        },
        {
         "line": {
          "width": 4
         },
         "mode": "lines",
         "name": "Spectrum Rhodamine 6G",
         "type": "scatter",
         "x": {
          "bdata": "AAAAAACwg0AAAAAAAKiDQAAAAAAAoINAAAAAAACYg0AAAAAAAJCDQAAAAAAAiINAAAAAAACAg0AAAAAAAHiDQAAAAAAAcINAAAAAAABog0AAAAAAAGCDQAAAAAAAWINAAAAAAABQg0AAAAAAAEiDQAAAAAAAQINAAAAAAAA4g0AAAAAAADCDQAAAAAAAKINAAAAAAAAgg0AAAAAAABiDQAAAAAAAEINAAAAAAAAIg0AAAAAAAACDQAAAAAAA+IJAAAAAAADwgkAAAAAAAOiCQAAAAAAA4IJAAAAAAADYgkAAAAAAANCCQAAAAAAAyIJAAAAAAADAgkAAAAAAALiCQAAAAAAAsIJAAAAAAACogkAAAAAAAKCCQAAAAAAAmIJAAAAAAACQgkAAAAAAAIiCQAAAAAAAgIJAAAAAAAB4gkAAAAAAAHCCQAAAAAAAaIJAAAAAAABggkAAAAAAAFiCQAAAAAAAUIJAAAAAAABIgkAAAAAAAECCQAAAAAAAOIJAAAAAAAAwgkAAAAAAACiCQAAAAAAAIIJAAAAAAAAYgkAAAAAAABCCQAAAAAAACIJAAAAAAAAAgkAAAAAAAPiBQAAAAAAA8IFAAAAAAADogUAAAAAAAOCBQAAAAAAA2IFAAAAAAADQgUAAAAAAAMiBQAAAAAAAwIFAAAAAAAC4gUAAAAAAALCBQAAAAAAAqIFAAAAAAACggUAAAAAAAJiBQAAAAAAAkIFAAAAAAACIgUAAAAAAAICBQAAAAAAAeIFAAAAAAABwgUAAAAAAAGiBQAAAAAAAYIFAAAAAAABYgUAAAAAAAFCBQAAAAAAASIFAAAAAAABAgUAAAAAAADiBQAAAAAAAMIFAAAAAAAAogUAAAAAAACCBQAAAAAAAGIFAAAAAAAAQgUAAAAAAAAiBQAAAAAAAAIFAAAAAAAD4gEAAAAAAAPCAQAAAAAAA6IBAAAAAAADggEAAAAAAANiAQAAAAAAA0IBAAAAAAADIgEAAAAAAAMCAQAAAAAAAuIBAAAAAAACwgEAAAAAAAKiAQAAAAAAAoIBAAAAAAACYgEAAAAAAAJCAQAAAAAAAiIBAAAAAAACAgEAAAAAAAHiAQAAAAAAAcIBAAAAAAABogEAAAAAAAGCAQAAAAAAAWIBAAAAAAABQgEAAAAAAAEiAQAAAAAAAQIBAAAAAAAA4gEAAAAAAADCAQAAAAAAAKIBAAAAAAAAggEAAAAAAABiAQAAAAAAAEIBAAAAAAAAIgEAAAAAAAACAQAAAAAAA8H9AAAAAAADgf0AAAAAAANB/QAAAAAAAwH9AAAAAAACwf0AAAAAAAKB/QAAAAAAAkH9AAAAAAACAf0AAAAAAAHB/QAAAAAAAYH9AAAAAAABQf0AAAAAAAEB/QAAAAAAAMH9AAAAAAAAgf0AAAAAAABB/QAAAAAAAAH9AAAAAAADwfkAAAAAAAOB+QAAAAAAA0H5AAAAAAADAfkAAAAAAALB+QAAAAAAAoH5AAAAAAACQfkAAAAAAAIB+QAAAAAAAcH5AAAAAAABgfkAAAAAAAFB+QAAAAAAAQH5AAAAAAAAwfkAAAAAAACB+QAAAAAAAEH5AAAAAAAAAfkAAAAAAAPB9QAAAAAAA4H1AAAAAAADQfUAAAAAAAMB9QAAAAAAAsH1AAAAAAACgfUAAAAAAAJB9QAAAAAAAgH1AAAAAAABwfUAAAAAAAGB9QAAAAAAAUH1AAAAAAABAfUAAAAAAADB9QAAAAAAAIH1AAAAAAAAQfUAAAAAAAAB9QAAAAAAA8HxAAAAAAADgfEAAAAAAANB8QAAAAAAAwHxAAAAAAACwfEAAAAAAAKB8QAAAAAAAkHxAAAAAAACAfEAAAAAAAHB8QAAAAAAAYHxAAAAAAABQfEAAAAAAAEB8QAAAAAAAMHxAAAAAAAAgfEAAAAAAABB8QAAAAAAAAHxAAAAAAADwe0AAAAAAAOB7QAAAAAAA0HtAAAAAAADAe0AAAAAAALB7QAAAAAAAoHtAAAAAAACQe0AAAAAAAIB7QAAAAAAAcHtAAAAAAABge0AAAAAAAFB7QAAAAAAAQHtAAAAAAAAwe0AAAAAAACB7QAAAAAAAEHtAAAAAAAAAe0AAAAAAAPB6QAAAAAAA4HpAAAAAAADQekAAAAAAAMB6QAAAAAAAsHpAAAAAAACgekAAAAAAAJB6QAAAAAAAgHpAAAAAAABwekA=",
          "dtype": "f8"
         },
         "y": {
          "bdata": "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",
          "dtype": "f8"
         }
        }
       ],
       "layout": {
        "font": {
         "size": 14
        },
        "height": 600,
        "legend": {
         "x": 1,
         "xanchor": "right",
         "y": 1,
         "yanchor": "top"
        },
        "template": {
         "data": {
          "bar": [
           {
            "error_x": {
             "color": "#2a3f5f"
            },
            "error_y": {
             "color": "#2a3f5f"
            },
            "marker": {
             "line": {
              "color": "#E5ECF6",
              "width": 0.5
             },
             "pattern": {
              "fillmode": "overlay",
              "size": 10,
              "solidity": 0.2
             }
            },
            "type": "bar"
           }
          ],
          "barpolar": [
           {
            "marker": {
             "line": {
              "color": "#E5ECF6",
              "width": 0.5
             },
             "pattern": {
              "fillmode": "overlay",
              "size": 10,
              "solidity": 0.2
             }
            },
            "type": "barpolar"
           }
          ],
          "carpet": [
           {
            "aaxis": {
             "endlinecolor": "#2a3f5f",
             "gridcolor": "white",
             "linecolor": "white",
             "minorgridcolor": "white",
             "startlinecolor": "#2a3f5f"
            },
            "baxis": {
             "endlinecolor": "#2a3f5f",
             "gridcolor": "white",
             "linecolor": "white",
             "minorgridcolor": "white",
             "startlinecolor": "#2a3f5f"
            },
            "type": "carpet"
           }
          ],
          "choropleth": [
           {
            "colorbar": {
             "outlinewidth": 0,
             "ticks": ""
            },
            "type": "choropleth"
           }
          ],
          "contour": [
           {
            "colorbar": {
             "outlinewidth": 0,
             "ticks": ""
            },
            "colorscale": [
             [
              0,
              "#0d0887"
             ],
             [
              0.1111111111111111,
              "#46039f"
             ],
             [
              0.2222222222222222,
              "#7201a8"
             ],
             [
              0.3333333333333333,
              "#9c179e"
             ],
             [
              0.4444444444444444,
              "#bd3786"
             ],
             [
              0.5555555555555556,
              "#d8576b"
             ],
             [
              0.6666666666666666,
              "#ed7953"
             ],
             [
              0.7777777777777778,
              "#fb9f3a"
             ],
             [
              0.8888888888888888,
              "#fdca26"
             ],
             [
              1,
              "#f0f921"
             ]
            ],
            "type": "contour"
           }
          ],
          "contourcarpet": [
           {
            "colorbar": {
             "outlinewidth": 0,
             "ticks": ""
            },
            "type": "contourcarpet"
           }
          ],
          "heatmap": [
           {
            "colorbar": {
             "outlinewidth": 0,
             "ticks": ""
            },
            "colorscale": [
             [
              0,
              "#0d0887"
             ],
             [
              0.1111111111111111,
              "#46039f"
             ],
             [
              0.2222222222222222,
              "#7201a8"
             ],
             [
              0.3333333333333333,
              "#9c179e"
             ],
             [
              0.4444444444444444,
              "#bd3786"
             ],
             [
              0.5555555555555556,
              "#d8576b"
             ],
             [
              0.6666666666666666,
              "#ed7953"
             ],
             [
              0.7777777777777778,
              "#fb9f3a"
             ],
             [
              0.8888888888888888,
              "#fdca26"
             ],
             [
              1,
              "#f0f921"
             ]
            ],
            "type": "heatmap"
           }
          ],
          "histogram": [
           {
            "marker": {
             "pattern": {
              "fillmode": "overlay",
              "size": 10,
              "solidity": 0.2
             }
            },
            "type": "histogram"
           }
          ],
          "histogram2d": [
           {
            "colorbar": {
             "outlinewidth": 0,
             "ticks": ""
            },
            "colorscale": [
             [
              0,
              "#0d0887"
             ],
             [
              0.1111111111111111,
              "#46039f"
             ],
             [
              0.2222222222222222,
              "#7201a8"
             ],
             [
              0.3333333333333333,
              "#9c179e"
             ],
             [
              0.4444444444444444,
              "#bd3786"
             ],
             [
              0.5555555555555556,
              "#d8576b"
             ],
             [
              0.6666666666666666,
              "#ed7953"
             ],
             [
              0.7777777777777778,
              "#fb9f3a"
             ],
             [
              0.8888888888888888,
              "#fdca26"
             ],
             [
              1,
              "#f0f921"
             ]
            ],
            "type": "histogram2d"
           }
          ],
          "histogram2dcontour": [
           {
            "colorbar": {
             "outlinewidth": 0,
             "ticks": ""
            },
            "colorscale": [
             [
              0,
              "#0d0887"
             ],
             [
              0.1111111111111111,
              "#46039f"
             ],
             [
              0.2222222222222222,
              "#7201a8"
             ],
             [
              0.3333333333333333,
              "#9c179e"
             ],
             [
              0.4444444444444444,
              "#bd3786"
             ],
             [
              0.5555555555555556,
              "#d8576b"
             ],
             [
              0.6666666666666666,
              "#ed7953"
             ],
             [
              0.7777777777777778,
              "#fb9f3a"
             ],
             [
              0.8888888888888888,
              "#fdca26"
             ],
             [
              1,
              "#f0f921"
             ]
            ],
            "type": "histogram2dcontour"
           }
          ],
          "mesh3d": [
           {
            "colorbar": {
             "outlinewidth": 0,
             "ticks": ""
            },
            "type": "mesh3d"
           }
          ],
          "parcoords": [
           {
            "line": {
             "colorbar": {
              "outlinewidth": 0,
              "ticks": ""
             }
            },
            "type": "parcoords"
           }
          ],
          "pie": [
           {
            "automargin": true,
            "type": "pie"
           }
          ],
          "scatter": [
           {
            "fillpattern": {
             "fillmode": "overlay",
             "size": 10,
             "solidity": 0.2
            },
            "type": "scatter"
           }
          ],
          "scatter3d": [
           {
            "line": {
             "colorbar": {
              "outlinewidth": 0,
              "ticks": ""
             }
            },
            "marker": {
             "colorbar": {
              "outlinewidth": 0,
              "ticks": ""
             }
            },
            "type": "scatter3d"
           }
          ],
          "scattercarpet": [
           {
            "marker": {
             "colorbar": {
              "outlinewidth": 0,
              "ticks": ""
             }
            },
            "type": "scattercarpet"
           }
          ],
          "scattergeo": [
           {
            "marker": {
             "colorbar": {
              "outlinewidth": 0,
              "ticks": ""
             }
            },
            "type": "scattergeo"
           }
          ],
          "scattergl": [
           {
            "marker": {
             "colorbar": {
              "outlinewidth": 0,
              "ticks": ""
             }
            },
            "type": "scattergl"
           }
          ],
          "scattermap": [
           {
            "marker": {
             "colorbar": {
              "outlinewidth": 0,
              "ticks": ""
             }
            },
            "type": "scattermap"
           }
          ],
          "scattermapbox": [
           {
            "marker": {
             "colorbar": {
              "outlinewidth": 0,
              "ticks": ""
             }
            },
            "type": "scattermapbox"
           }
          ],
          "scatterpolar": [
           {
            "marker": {
             "colorbar": {
              "outlinewidth": 0,
              "ticks": ""
             }
            },
            "type": "scatterpolar"
           }
          ],
          "scatterpolargl": [
           {
            "marker": {
             "colorbar": {
              "outlinewidth": 0,
              "ticks": ""
             }
            },
            "type": "scatterpolargl"
           }
          ],
          "scatterternary": [
           {
            "marker": {
             "colorbar": {
              "outlinewidth": 0,
              "ticks": ""
             }
            },
            "type": "scatterternary"
           }
          ],
          "surface": [
           {
            "colorbar": {
             "outlinewidth": 0,
             "ticks": ""
            },
            "colorscale": [
             [
              0,
              "#0d0887"
             ],
             [
              0.1111111111111111,
              "#46039f"
             ],
             [
              0.2222222222222222,
              "#7201a8"
             ],
             [
              0.3333333333333333,
              "#9c179e"
             ],
             [
              0.4444444444444444,
              "#bd3786"
             ],
             [
              0.5555555555555556,
              "#d8576b"
             ],
             [
              0.6666666666666666,
              "#ed7953"
             ],
             [
              0.7777777777777778,
              "#fb9f3a"
             ],
             [
              0.8888888888888888,
              "#fdca26"
             ],
             [
              1,
              "#f0f921"
             ]
            ],
            "type": "surface"
           }
          ],
          "table": [
           {
            "cells": {
             "fill": {
              "color": "#EBF0F8"
             },
             "line": {
              "color": "white"
             }
            },
            "header": {
             "fill": {
              "color": "#C8D4E3"
             },
             "line": {
              "color": "white"
             }
            },
            "type": "table"
           }
          ]
         },
         "layout": {
          "annotationdefaults": {
           "arrowcolor": "#2a3f5f",
           "arrowhead": 0,
           "arrowwidth": 1
          },
          "autotypenumbers": "strict",
          "coloraxis": {
           "colorbar": {
            "outlinewidth": 0,
            "ticks": ""
           }
          },
          "colorscale": {
           "diverging": [
            [
             0,
             "#8e0152"
            ],
            [
             0.1,
             "#c51b7d"
            ],
            [
             0.2,
             "#de77ae"
            ],
            [
             0.3,
             "#f1b6da"
            ],
            [
             0.4,
             "#fde0ef"
            ],
            [
             0.5,
             "#f7f7f7"
            ],
            [
             0.6,
             "#e6f5d0"
            ],
            [
             0.7,
             "#b8e186"
            ],
            [
             0.8,
             "#7fbc41"
            ],
            [
             0.9,
             "#4d9221"
            ],
            [
             1,
             "#276419"
            ]
           ],
           "sequential": [
            [
             0,
             "#0d0887"
            ],
            [
             0.1111111111111111,
             "#46039f"
            ],
            [
             0.2222222222222222,
             "#7201a8"
            ],
            [
             0.3333333333333333,
             "#9c179e"
            ],
            [
             0.4444444444444444,
             "#bd3786"
            ],
            [
             0.5555555555555556,
             "#d8576b"
            ],
            [
             0.6666666666666666,
             "#ed7953"
            ],
            [
             0.7777777777777778,
             "#fb9f3a"
            ],
            [
             0.8888888888888888,
             "#fdca26"
            ],
            [
             1,
             "#f0f921"
            ]
           ],
           "sequentialminus": [
            [
             0,
             "#0d0887"
            ],
            [
             0.1111111111111111,
             "#46039f"
            ],
            [
             0.2222222222222222,
             "#7201a8"
            ],
            [
             0.3333333333333333,
             "#9c179e"
            ],
            [
             0.4444444444444444,
             "#bd3786"
            ],
            [
             0.5555555555555556,
             "#d8576b"
            ],
            [
             0.6666666666666666,
             "#ed7953"
            ],
            [
             0.7777777777777778,
             "#fb9f3a"
            ],
            [
             0.8888888888888888,
             "#fdca26"
            ],
            [
             1,
             "#f0f921"
            ]
           ]
          },
          "colorway": [
           "#636efa",
           "#EF553B",
           "#00cc96",
           "#ab63fa",
           "#FFA15A",
           "#19d3f3",
           "#FF6692",
           "#B6E880",
           "#FF97FF",
           "#FECB52"
          ],
          "font": {
           "color": "#2a3f5f"
          },
          "geo": {
           "bgcolor": "white",
           "lakecolor": "white",
           "landcolor": "#E5ECF6",
           "showlakes": true,
           "showland": true,
           "subunitcolor": "white"
          },
          "hoverlabel": {
           "align": "left"
          },
          "hovermode": "closest",
          "mapbox": {
           "style": "light"
          },
          "paper_bgcolor": "white",
          "plot_bgcolor": "#E5ECF6",
          "polar": {
           "angularaxis": {
            "gridcolor": "white",
            "linecolor": "white",
            "ticks": ""
           },
           "bgcolor": "#E5ECF6",
           "radialaxis": {
            "gridcolor": "white",
            "linecolor": "white",
            "ticks": ""
           }
          },
          "scene": {
           "xaxis": {
            "backgroundcolor": "#E5ECF6",
            "gridcolor": "white",
            "gridwidth": 2,
            "linecolor": "white",
            "showbackground": true,
            "ticks": "",
            "zerolinecolor": "white"
           },
           "yaxis": {
            "backgroundcolor": "#E5ECF6",
            "gridcolor": "white",
            "gridwidth": 2,
            "linecolor": "white",
            "showbackground": true,
            "ticks": "",
            "zerolinecolor": "white"
           },
           "zaxis": {
            "backgroundcolor": "#E5ECF6",
            "gridcolor": "white",
            "gridwidth": 2,
            "linecolor": "white",
            "showbackground": true,
            "ticks": "",
            "zerolinecolor": "white"
           }
          },
          "shapedefaults": {
           "line": {
            "color": "#2a3f5f"
           }
          },
          "ternary": {
           "aaxis": {
            "gridcolor": "white",
            "linecolor": "white",
            "ticks": ""
           },
           "baxis": {
            "gridcolor": "white",
            "linecolor": "white",
            "ticks": ""
           },
           "bgcolor": "#E5ECF6",
           "caxis": {
            "gridcolor": "white",
            "linecolor": "white",
            "ticks": ""
           }
          },
          "title": {
           "x": 0.05
          },
          "xaxis": {
           "automargin": true,
           "gridcolor": "white",
           "linecolor": "white",
           "ticks": "",
           "title": {
            "standoff": 15
           },
           "zerolinecolor": "white",
           "zerolinewidth": 2
          },
          "yaxis": {
           "automargin": true,
           "gridcolor": "white",
           "linecolor": "white",
           "ticks": "",
           "title": {
            "standoff": 15
           },
           "zerolinecolor": "white",
           "zerolinewidth": 2
          }
         }
        },
        "width": 800,
        "xaxis": {
         "title": {
          "text": "Wavelength (nm)"
         }
        },
        "yaxis": {
         "title": {
          "text": "Absorbance"
         }
        }
       }
      }
     },
     "metadata": {},
     "output_type": "display_data"
    }
   ],
   "source": [
    "fig = go.Figure()\n",
    "\n",
    "# Add the measured absorbance spectrum\n",
    "fig.add_trace(go.Scatter(\n",
    "    x=ass_rodamina['λ'],\n",
    "    y=ass_rodamina['A'],\n",
    "    mode='lines',\n",
    "    name='Signal',\n",
    "    opacity=0.3\n",
    "))\n",
    "\n",
    "fig.add_trace(go.Scatter(\n",
    "    x=fondo_acqua['λ'],\n",
    "    y=fondo_acqua['A'],\n",
    "    mode='lines',\n",
    "    name='Background',\n",
    "    opacity=0.3\n",
    "))\n",
    "\n",
    "fig.add_trace(go.Scatter(\n",
    "    x=fondo_acqua['λ'],\n",
    "    y=ass_rodamina['A'] - fondo_acqua['A'],\n",
    "    mode='lines',\n",
    "    name='Spectrum Rhodamine 6G',\n",
    "    line=dict(width=4)  # Make the line thicker\n",
    "))\n",
    "\n",
    "\n",
    "# Update layout for the plot\n",
    "fig.update_layout(\n",
    "    # title='Absorbance Spectrum of Rodamine',\n",
    "    xaxis_title='Wavelength (nm)',\n",
    "    yaxis_title='Absorbance',\n",
    "    legend=dict(x=1, y=1, xanchor='right', yanchor='top'),  # Position legend at the top right\n",
    "    font=dict(size=14),\n",
    "    height=600,\n",
    "    width=800\n",
    ")\n",
    "\n",
    "fig.write_html(dir_path +r\"\\html\\absorbance_spectrum.html\")\n",
    "fig.write_image(dir_path + r\"\\images\\absorbance_spectrum.png\")\n",
    "fig.show()"
   ]
  },
  {
   "cell_type": "markdown",
   "metadata": {},
   "source": [
    "#### fit per determinare il massimo"
   ]
  },
  {
   "cell_type": "code",
   "execution_count": 6,
   "metadata": {},
   "outputs": [
    {
     "name": "stdout",
     "output_type": "stream",
     "text": [
      "Picco di assorbimento A:  0.48 ± 0.0003 \n",
      "0.4800416799849726 0.0003353431037236748\n"
     ]
    }
   ],
   "source": [
    "λ_ass = ass_rodamina['λ'].to_numpy()\n",
    "A_rod = ass_rodamina['A'].to_numpy() - fondo_acqua['A'].to_numpy()\n",
    "\n",
    "l0 = ass_rodamina['A'].idxmax()\n",
    "\n",
    "popt, pcov = curve_fit(max_fit_parabolic, λ_ass[l0-5:l0+5], A_rod[l0-5:l0+5], p0=[530, 2, 0.5])\n",
    "λcenter, a, A = popt\n",
    "error_λcenter, error_a, error_A = np.sqrt(np.diag(pcov))\n",
    "\n",
    "print('Picco di assorbimento A: ',final_val(A,error_A,decimals=4))\n",
    "print(A,error_A)"
   ]
  },
  {
   "cell_type": "code",
   "execution_count": 7,
   "metadata": {},
   "outputs": [
    {
     "name": "stdout",
     "output_type": "stream",
     "text": [
      "ASSORBANZA INIZIALE:\n",
      "a0: 0.48 ± 0.0003 μM\n"
     ]
    }
   ],
   "source": [
    "A0 = A\n",
    "sigmaA0 = error_A\n",
    "print('ASSORBANZA INIZIALE:')\n",
    "print('a0:',final_val(A0,sigmaA0,decimals=4,udm='μM'))"
   ]
  },
  {
   "cell_type": "markdown",
   "metadata": {},
   "source": [
    "determinazione di tutte le concentrazioni di cui è stato fatto lo spettro di fluorescenza:\n",
    "\n",
    "in laboratorio è stata raccolta la misura di:\n",
    "\n",
    "- $V_{in}$ = volume estratto dalla soluzione precedente\n",
    "- $V_{fin}$ = volume estratto dalla soluzione precedente + tampone (acqua)"
   ]
  },
  {
   "cell_type": "code",
   "execution_count": 8,
   "metadata": {},
   "outputs": [
    {
     "data": {
      "text/html": [
       "<div>\n",
       "<style scoped>\n",
       "    .dataframe tbody tr th:only-of-type {\n",
       "        vertical-align: middle;\n",
       "    }\n",
       "\n",
       "    .dataframe tbody tr th {\n",
       "        vertical-align: top;\n",
       "    }\n",
       "\n",
       "    .dataframe thead th {\n",
       "        text-align: right;\n",
       "    }\n",
       "</style>\n",
       "<table border=\"1\" class=\"dataframe\">\n",
       "  <thead>\n",
       "    <tr style=\"text-align: right;\">\n",
       "      <th></th>\n",
       "      <th>0</th>\n",
       "      <th>1</th>\n",
       "      <th>2</th>\n",
       "      <th>3</th>\n",
       "      <th>4</th>\n",
       "      <th>5</th>\n",
       "      <th>6</th>\n",
       "      <th>7</th>\n",
       "      <th>8</th>\n",
       "    </tr>\n",
       "  </thead>\n",
       "  <tbody>\n",
       "    <tr>\n",
       "      <th>Vi (muL)</th>\n",
       "      <td>2210</td>\n",
       "      <td>2252</td>\n",
       "      <td>2000</td>\n",
       "      <td>1511</td>\n",
       "      <td>2423</td>\n",
       "      <td>2251</td>\n",
       "      <td>2002</td>\n",
       "      <td>1497</td>\n",
       "      <td>1504</td>\n",
       "    </tr>\n",
       "    <tr>\n",
       "      <th>Vf (muL)</th>\n",
       "      <td>3008</td>\n",
       "      <td>3015</td>\n",
       "      <td>3015</td>\n",
       "      <td>3016</td>\n",
       "      <td>3010</td>\n",
       "      <td>3002</td>\n",
       "      <td>3000</td>\n",
       "      <td>2994</td>\n",
       "      <td>3003</td>\n",
       "    </tr>\n",
       "  </tbody>\n",
       "</table>\n",
       "</div>"
      ],
      "text/plain": [
       "             0     1     2     3     4     5     6     7     8\n",
       "Vi (muL)  2210  2252  2000  1511  2423  2251  2002  1497  1504\n",
       "Vf (muL)  3008  3015  3015  3016  3010  3002  3000  2994  3003"
      ]
     },
     "metadata": {},
     "output_type": "display_data"
    }
   ],
   "source": [
    "from IPython.display import display_html\n",
    "\n",
    "filename = './data/concentrazioni_rodamina.csv'\n",
    "\n",
    "volumi = pd.read_csv(filename,sep=',')\n",
    "volumi = volumi[['Vi (muL)','Vf (muL)']]\n",
    "# Display the DataFrame horizontally\n",
    "display(volumi.T)"
   ]
  },
  {
   "cell_type": "code",
   "execution_count": 9,
   "metadata": {},
   "outputs": [
    {
     "data": {
      "text/html": [
       "<div>\n",
       "<style scoped>\n",
       "    .dataframe tbody tr th:only-of-type {\n",
       "        vertical-align: middle;\n",
       "    }\n",
       "\n",
       "    .dataframe tbody tr th {\n",
       "        vertical-align: top;\n",
       "    }\n",
       "\n",
       "    .dataframe thead th {\n",
       "        text-align: right;\n",
       "    }\n",
       "</style>\n",
       "<table border=\"1\" class=\"dataframe\">\n",
       "  <thead>\n",
       "    <tr style=\"text-align: right;\">\n",
       "      <th></th>\n",
       "      <th>0</th>\n",
       "      <th>1</th>\n",
       "      <th>2</th>\n",
       "      <th>3</th>\n",
       "      <th>4</th>\n",
       "      <th>5</th>\n",
       "      <th>6</th>\n",
       "      <th>7</th>\n",
       "      <th>8</th>\n",
       "      <th>9</th>\n",
       "    </tr>\n",
       "  </thead>\n",
       "  <tbody>\n",
       "    <tr>\n",
       "      <th>A</th>\n",
       "      <td>0.480042</td>\n",
       "      <td>0.352690</td>\n",
       "      <td>0.263436</td>\n",
       "      <td>0.174750</td>\n",
       "      <td>0.087549</td>\n",
       "      <td>0.070475</td>\n",
       "      <td>0.052845</td>\n",
       "      <td>0.035265</td>\n",
       "      <td>0.017633</td>\n",
       "      <td>0.008831</td>\n",
       "    </tr>\n",
       "    <tr>\n",
       "      <th>σA</th>\n",
       "      <td>0.000335</td>\n",
       "      <td>0.000316</td>\n",
       "      <td>0.000278</td>\n",
       "      <td>0.000212</td>\n",
       "      <td>0.000124</td>\n",
       "      <td>0.000107</td>\n",
       "      <td>0.000085</td>\n",
       "      <td>0.000061</td>\n",
       "      <td>0.000033</td>\n",
       "      <td>0.000018</td>\n",
       "    </tr>\n",
       "  </tbody>\n",
       "</table>\n",
       "</div>"
      ],
      "text/plain": [
       "           0         1         2         3         4         5         6  \\\n",
       "A   0.480042  0.352690  0.263436  0.174750  0.087549  0.070475  0.052845   \n",
       "σA  0.000335  0.000316  0.000278  0.000212  0.000124  0.000107  0.000085   \n",
       "\n",
       "           7         8         9  \n",
       "A   0.035265  0.017633  0.008831  \n",
       "σA  0.000061  0.000033  0.000018  "
      ]
     },
     "metadata": {},
     "output_type": "display_data"
    }
   ],
   "source": [
    "#Cf Vf = Ci Vi -> Cf = Ci Vi / Vf\n",
    "# sigma V = 1 μL\n",
    "ASS = [A0]\n",
    "SIGMA_ASS = [sigmaA0]\n",
    "sigmaV = 1 # μL, comodo perchè si ha sempre a che fare con rapporti\n",
    "for idx, row in enumerate(volumi.iterrows()):\n",
    "    vi, vf = row[1]['Vi (muL)'], row[1]['Vf (muL)']\n",
    "    An = ASS[idx] * vi / vf\n",
    "    sAn = An * np.sqrt((sigmaV/vi)**2 + (sigmaV/vf)**2 + (SIGMA_ASS[idx]/ASS[idx])**2) \n",
    "    ASS.append(An)\n",
    "    SIGMA_ASS.append(sAn)\n",
    "\n",
    "ASS = np.array(ASS)\n",
    "SIGMA_ASS = np.array(SIGMA_ASS)\n",
    "\n",
    "# Create a pandas DataFrame to display ASS and SIGMA_ASS\n",
    "assorbance_df = pd.DataFrame({\n",
    "    'A': ASS,\n",
    "    'σA': SIGMA_ASS\n",
    "})\n",
    "display(assorbance_df.T)"
   ]
  },
  {
   "cell_type": "markdown",
   "metadata": {},
   "source": [
    "ora che sono noti i valori delle concentrazioni dei vari campioni di cui è stata fatto lo spettro di fluorescenza si importano i veri e propri spettri di fluorescenza"
   ]
  },
  {
   "cell_type": "code",
   "execution_count": 10,
   "metadata": {},
   "outputs": [
    {
     "data": {
      "text/html": [
       "<div>\n",
       "<style scoped>\n",
       "    .dataframe tbody tr th:only-of-type {\n",
       "        vertical-align: middle;\n",
       "    }\n",
       "\n",
       "    .dataframe tbody tr th {\n",
       "        vertical-align: top;\n",
       "    }\n",
       "\n",
       "    .dataframe thead th {\n",
       "        text-align: right;\n",
       "    }\n",
       "</style>\n",
       "<table border=\"1\" class=\"dataframe\">\n",
       "  <thead>\n",
       "    <tr style=\"text-align: right;\">\n",
       "      <th></th>\n",
       "      <th>λ 5</th>\n",
       "      <th>I 5</th>\n",
       "      <th>λ 4</th>\n",
       "      <th>I 4</th>\n",
       "      <th>no λ 4</th>\n",
       "      <th>no I 4</th>\n",
       "      <th>λ 3</th>\n",
       "      <th>I 3</th>\n",
       "      <th>λ 2</th>\n",
       "      <th>I 2</th>\n",
       "      <th>...</th>\n",
       "      <th>λ 0.8</th>\n",
       "      <th>I 0.8</th>\n",
       "      <th>λ 0.6</th>\n",
       "      <th>I 0.6</th>\n",
       "      <th>λ 0.4</th>\n",
       "      <th>I 0.4</th>\n",
       "      <th>λ 0.2</th>\n",
       "      <th>I 0.2</th>\n",
       "      <th>λ 0.1</th>\n",
       "      <th>I 0.1</th>\n",
       "    </tr>\n",
       "  </thead>\n",
       "  <tbody>\n",
       "    <tr>\n",
       "      <th>112</th>\n",
       "      <td>646.950012</td>\n",
       "      <td>29.311554</td>\n",
       "      <td>646.950012</td>\n",
       "      <td>25.126436</td>\n",
       "      <td>646.950012</td>\n",
       "      <td>29.019300</td>\n",
       "      <td>646.950012</td>\n",
       "      <td>21.187140</td>\n",
       "      <td>646.950012</td>\n",
       "      <td>14.265793</td>\n",
       "      <td>...</td>\n",
       "      <td>646.950012</td>\n",
       "      <td>4.883633</td>\n",
       "      <td>646.950012</td>\n",
       "      <td>3.315377</td>\n",
       "      <td>646.950012</td>\n",
       "      <td>1.589167</td>\n",
       "      <td>646.950012</td>\n",
       "      <td>0.555993</td>\n",
       "      <td>646.950012</td>\n",
       "      <td>0.351009</td>\n",
       "    </tr>\n",
       "    <tr>\n",
       "      <th>113</th>\n",
       "      <td>647.969971</td>\n",
       "      <td>28.124762</td>\n",
       "      <td>647.969971</td>\n",
       "      <td>23.946281</td>\n",
       "      <td>647.969971</td>\n",
       "      <td>27.984386</td>\n",
       "      <td>647.969971</td>\n",
       "      <td>20.061258</td>\n",
       "      <td>647.969971</td>\n",
       "      <td>13.714191</td>\n",
       "      <td>...</td>\n",
       "      <td>647.969971</td>\n",
       "      <td>4.719029</td>\n",
       "      <td>647.969971</td>\n",
       "      <td>3.173567</td>\n",
       "      <td>647.969971</td>\n",
       "      <td>1.429973</td>\n",
       "      <td>647.969971</td>\n",
       "      <td>0.563877</td>\n",
       "      <td>647.969971</td>\n",
       "      <td>0.378182</td>\n",
       "    </tr>\n",
       "    <tr>\n",
       "      <th>114</th>\n",
       "      <td>648.840027</td>\n",
       "      <td>26.902561</td>\n",
       "      <td>648.840027</td>\n",
       "      <td>23.194933</td>\n",
       "      <td>648.840027</td>\n",
       "      <td>27.167797</td>\n",
       "      <td>648.840027</td>\n",
       "      <td>19.790516</td>\n",
       "      <td>648.840027</td>\n",
       "      <td>13.449127</td>\n",
       "      <td>...</td>\n",
       "      <td>648.840027</td>\n",
       "      <td>4.602462</td>\n",
       "      <td>648.840027</td>\n",
       "      <td>3.138167</td>\n",
       "      <td>648.840027</td>\n",
       "      <td>1.417011</td>\n",
       "      <td>648.840027</td>\n",
       "      <td>0.545661</td>\n",
       "      <td>648.840027</td>\n",
       "      <td>0.333807</td>\n",
       "    </tr>\n",
       "    <tr>\n",
       "      <th>115</th>\n",
       "      <td>649.849976</td>\n",
       "      <td>26.203035</td>\n",
       "      <td>649.849976</td>\n",
       "      <td>22.347122</td>\n",
       "      <td>649.849976</td>\n",
       "      <td>25.561733</td>\n",
       "      <td>649.849976</td>\n",
       "      <td>18.675690</td>\n",
       "      <td>649.849976</td>\n",
       "      <td>12.785388</td>\n",
       "      <td>...</td>\n",
       "      <td>649.849976</td>\n",
       "      <td>4.334819</td>\n",
       "      <td>649.849976</td>\n",
       "      <td>2.955356</td>\n",
       "      <td>649.849976</td>\n",
       "      <td>1.345403</td>\n",
       "      <td>649.849976</td>\n",
       "      <td>0.519533</td>\n",
       "      <td>649.849976</td>\n",
       "      <td>0.366366</td>\n",
       "    </tr>\n",
       "    <tr>\n",
       "      <th>116</th>\n",
       "      <td>650.859985</td>\n",
       "      <td>24.811270</td>\n",
       "      <td>650.859985</td>\n",
       "      <td>21.325739</td>\n",
       "      <td>650.859985</td>\n",
       "      <td>24.539951</td>\n",
       "      <td>650.859985</td>\n",
       "      <td>18.069601</td>\n",
       "      <td>650.859985</td>\n",
       "      <td>12.159359</td>\n",
       "      <td>...</td>\n",
       "      <td>650.859985</td>\n",
       "      <td>4.134296</td>\n",
       "      <td>650.859985</td>\n",
       "      <td>2.907012</td>\n",
       "      <td>650.859985</td>\n",
       "      <td>1.283329</td>\n",
       "      <td>650.859985</td>\n",
       "      <td>0.497435</td>\n",
       "      <td>650.859985</td>\n",
       "      <td>0.298861</td>\n",
       "    </tr>\n",
       "  </tbody>\n",
       "</table>\n",
       "<p>5 rows × 22 columns</p>\n",
       "</div>"
      ],
      "text/plain": [
       "            λ 5        I 5         λ 4        I 4      no λ 4     no I 4  \\\n",
       "112  646.950012  29.311554  646.950012  25.126436  646.950012  29.019300   \n",
       "113  647.969971  28.124762  647.969971  23.946281  647.969971  27.984386   \n",
       "114  648.840027  26.902561  648.840027  23.194933  648.840027  27.167797   \n",
       "115  649.849976  26.203035  649.849976  22.347122  649.849976  25.561733   \n",
       "116  650.859985  24.811270  650.859985  21.325739  650.859985  24.539951   \n",
       "\n",
       "            λ 3        I 3         λ 2        I 2  ...       λ 0.8     I 0.8  \\\n",
       "112  646.950012  21.187140  646.950012  14.265793  ...  646.950012  4.883633   \n",
       "113  647.969971  20.061258  647.969971  13.714191  ...  647.969971  4.719029   \n",
       "114  648.840027  19.790516  648.840027  13.449127  ...  648.840027  4.602462   \n",
       "115  649.849976  18.675690  649.849976  12.785388  ...  649.849976  4.334819   \n",
       "116  650.859985  18.069601  650.859985  12.159359  ...  650.859985  4.134296   \n",
       "\n",
       "          λ 0.6     I 0.6       λ 0.4     I 0.4       λ 0.2     I 0.2  \\\n",
       "112  646.950012  3.315377  646.950012  1.589167  646.950012  0.555993   \n",
       "113  647.969971  3.173567  647.969971  1.429973  647.969971  0.563877   \n",
       "114  648.840027  3.138167  648.840027  1.417011  648.840027  0.545661   \n",
       "115  649.849976  2.955356  649.849976  1.345403  649.849976  0.519533   \n",
       "116  650.859985  2.907012  650.859985  1.283329  650.859985  0.497435   \n",
       "\n",
       "          λ 0.1     I 0.1  \n",
       "112  646.950012  0.351009  \n",
       "113  647.969971  0.378182  \n",
       "114  648.840027  0.333807  \n",
       "115  649.849976  0.366366  \n",
       "116  650.859985  0.298861  \n",
       "\n",
       "[5 rows x 22 columns]"
      ]
     },
     "execution_count": 10,
     "metadata": {},
     "output_type": "execute_result"
    }
   ],
   "source": [
    "filename = 'data/assorbanza_rodamina_concentrazioni_tot.csv'\n",
    "\n",
    "header = ['λ 5','I 5','λ 4','I 4','no λ 4','no I 4','λ 3','I 3','λ 2','I 2','λ 1','I 1','λ 0.8','I 0.8','λ 0.6','I 0.6','λ 0.4','I 0.4','λ 0.2','I 0.2','λ 0.1','I 0.1']\n",
    "\n",
    "# fondo = pd.read_csv('./data/fondoH20Sspettrofluorimetro.csv',sep=',',header=1,nrows=150)[['Wavelength (nm).1','Intensity (a.u.).1']]\n",
    "# fondo.columns = ['λfondo','Ifondo']\n",
    "# fondo.tail()\n",
    "\n",
    "# from scipy.interpolate import interp1d\n",
    "# fondo_interp = interp1d(fondo['λfondo'], fondo['Ifondo'])\n",
    "\n",
    "\n",
    "data = pd.read_csv(filename,sep=',',header=1,nrows=117)\n",
    "data = data.iloc[:, :-1] # drop last column\n",
    "data.columns = header\n",
    "data.tail()"
   ]
  },
  {
   "cell_type": "markdown",
   "metadata": {},
   "source": [
    "plot spettri di fluo"
   ]
  },
  {
   "cell_type": "code",
   "execution_count": 11,
   "metadata": {},
   "outputs": [
    {
     "data": {
      "application/vnd.plotly.v1+json": {
       "config": {
        "plotlyServerURL": "https://plot.ly"
       },
       "data": [
        {
         "mode": "lines",
         "name": "0.48",
         "type": "scatter",
         "x": {
          "bdata": "CaP+H1y3gECglP9/wr+AQE2ABkDhxoBA6wX6n0fPgEBoDv+fmdeAQC/jAcDM3oBAs3/5vx7ngEBLcfofhe+AQPdcAeCj9oBAj04CQAr/gEAJo/4fXAeBQKCU/3/CD4FATYAGQOEWgUDrBfqfRx+BQGgO/5+ZJ4FAL+MBwMwugUCPTgJACjeBQOsF+p9HP4FAS3H6H4VHgUCglP9/wk+BQC/jAcDMVoFAj04CQApfgUDrBfqfR2eBQEtx+h+Fb4FAoJT/f8J3gUAv4wHAzH6BQLN/+b8eh4FAS3H6H4WPgUD3XAHgo5aBQI9OAkAKn4FACaP+H1yngUCglP9/wq+BQE2ABkDhtoFA6wX6n0e/gUBoDv+fmceBQC/jAcDMzoFAj04CQArXgUDrBfqfR9+BQEtx+h+F54FAoJT/f8LvgUAv4wHAzPaBQI9OAkAK/4FA6wX6n0cHgkBLcfofhQ+CQKCU/3/CF4JAL+MBwMwegkCzf/m/HieCQEtx+h+FL4JA91wB4KM2gkCPTgJACj+CQAmj/h9cR4JAoJT/f8JPgkBNgAZA4VaCQOsF+p9HX4JAaA7/n5lngkAv4wHAzG6CQI9OAkAKd4JA6wX6n0d/gkBLcfofhYeCQKCU/3/Cj4JAL+MBwMyWgkCPTgJACp+CQOsF+p9Hp4JAS3H6H4WvgkCglP9/wreCQC/jAcDMvoJATYAGQOHGgkCPTgJACs+CQLN/+b8e14JA6wX6n0ffgkAJo/4fXOeCQEtx+h+F74JAaA7/n5n3gkCglP9/wv+CQBX6BWC4BoNAL+MBwMwOg0CPTgJACheDQOsF+p9HH4NAS3H6H4Ung0CglP9/wi+DQC/jAcDMNoNAj04CQAo/g0DrBfqfR0eDQEtx+h+FT4NAoJT/f8JXg0Av4wHAzF6DQI9OAkAKZ4NA6wX6n0dvg0BLcfofhXeDQKCU/3/Cf4NAL+MBwMyGg0CPTgJACo+DQOsF+p9Hl4NAS3H6H4Wfg0CglP9/wqeDQC/jAcDMroNATYAGQOG2g0CPTgJACr+DQLN/+b8ex4NA6wX6n0fPg0AJo/4fXNeDQEtx+h+F34NAaA7/n5nng0CglP9/wu+DQBX6BWC49oNAL+MBwMz+g0BNgAZA4QaEQI9OAkAKD4RAs3/5vx4XhEDrBfqfRx+EQAmj/h9cJ4RAS3H6H4UvhEBoDv+fmTeEQKCU/3/CP4RAFfoFYLhGhEAv4wHAzE6EQE2ABkDhVoRA",
          "dtype": "f8"
         },
         "y": {
          "bdata": "bMIHwEl1c0ATVQlgNNx1QIhQACAiBHhARoIEIEkIe0B2CgPgKSp+QBChAEBUIoBAMYj+v9D8gUBxsf2/pXyDQD3fBQBtvYRAYGsAgF0nhkDbZPlfc6OHQAAAAAAQ14hALT4FwEjBiUDA1gAAa86KQDGI/r/QjItAEUb9P/hgjECR8/4/7ryMQCqK/J9oI41AYGsAgF0ajUBAKf//RHCNQLA1AMAGY41AaA7/n2kkjUDPdwFA36iMQCqK/J94z4tAYGsAgK3Ei0ARRv0/GCyLQPBe/7+7O4pAV8gBYLEaikBHJwEgTTKJQHiv/9+NbohAlkwEYNKch0AH/gEguLuGQFDK/z85/oVAeK//380+hUAtPgXAmMKEQK6QA8Bi14NAj04CQHr3gkD+WgMADBGCQOi7AKAfeIFAnUoGgNqxgECdSgaAKkWAQIFS/v8p635AnoXzX9adfUB9nvXfeZN8QLfJ8r/GZHtAUtkLYEWeekCKXwxAvnF5QEk2DUA5Y3hAhJz3//HSd0BVIwVgTc92QGJ6DKDJ5HVA9rcE4P81dUDkcQeg56p0QEvbCUCN63NAg/f6/z1dc0D+WgMADLRyQINhCiBGMHJABe/1/7umcUCehfNf1gBxQDqVDABVpnBAZ2kCoCXqb0CY8QBghuluQI0TFWBOIW5AyeMOQM9AbUDi+OtfI2dsQOtvCcB/jGtAFCbnH9ixakA2d/S/XMFpQHXPFQA+v2hAgo3r3zXPZ0AtauZ/qCJnQOQH+H+fRGZAJ6oSwGhMZUCgKvBfqnNkQDZLEwCtwmNA3DgYoGP2YkClg/V/DkhiQJQ9+D82kGFA2ikMgOfPYEBrhxrg3QlgQF7GA4AZFl9AnbQVoBLRXUAV+gVgKJNcQCTKKOBoXltAPh00YLXaWUAr8Pw/GuxYQO7R+t862ldAajUD4IiqVkAbEACg88JVQFrT/v+mZ1RAe3sAICHbU0Do+vz/kcNSQG7l/H+iK1JARBwEgBc8UUDlsAMAKmhQQM1o9R9jmk9A7Cz+36bgTUAXnwJgvGhMQJiu9X/tSUtAvnAAYGnhSUAaqv//QblIQFXkCAAr6kdAIMD5P82dRkAvIv4fr51FQMtFAGAK8URAk7//f7HNQ0BqdP8/a/5CQCUZ/1/xS0JACLv2P59eQUA6qfWfsahAQMK6+V8R6j9AXlz0XzGaPkCpIxUAwk89QLXl+V/wHzxAWLAJQA7nOkCSLuwf+jM6QAtv/1+vzzhA",
          "dtype": "f8"
         }
        },
        {
         "mode": "lines",
         "name": "0.35",
         "type": "scatter",
         "x": {
          "bdata": "CaP+H1y3gECglP9/wr+AQE2ABkDhxoBA6wX6n0fPgEBoDv+fmdeAQC/jAcDM3oBAs3/5vx7ngEBLcfofhe+AQPdcAeCj9oBAj04CQAr/gEAJo/4fXAeBQKCU/3/CD4FATYAGQOEWgUDrBfqfRx+BQGgO/5+ZJ4FAL+MBwMwugUCPTgJACjeBQOsF+p9HP4FAS3H6H4VHgUCglP9/wk+BQC/jAcDMVoFAj04CQApfgUDrBfqfR2eBQEtx+h+Fb4FAoJT/f8J3gUAv4wHAzH6BQLN/+b8eh4FAS3H6H4WPgUD3XAHgo5aBQI9OAkAKn4FACaP+H1yngUCglP9/wq+BQE2ABkDhtoFA6wX6n0e/gUBoDv+fmceBQC/jAcDMzoFAj04CQArXgUDrBfqfR9+BQEtx+h+F54FAoJT/f8LvgUAv4wHAzPaBQI9OAkAK/4FA6wX6n0cHgkBLcfofhQ+CQKCU/3/CF4JAL+MBwMwegkCzf/m/HieCQEtx+h+FL4JA91wB4KM2gkCPTgJACj+CQAmj/h9cR4JAoJT/f8JPgkBNgAZA4VaCQOsF+p9HX4JAaA7/n5lngkAv4wHAzG6CQI9OAkAKd4JA6wX6n0d/gkBLcfofhYeCQKCU/3/Cj4JAL+MBwMyWgkCPTgJACp+CQOsF+p9Hp4JAS3H6H4WvgkCglP9/wreCQC/jAcDMvoJATYAGQOHGgkCPTgJACs+CQLN/+b8e14JA6wX6n0ffgkAJo/4fXOeCQEtx+h+F74JAaA7/n5n3gkCglP9/wv+CQBX6BWC4BoNAL+MBwMwOg0CPTgJACheDQOsF+p9HH4NAS3H6H4Ung0CglP9/wi+DQC/jAcDMNoNAj04CQAo/g0DrBfqfR0eDQEtx+h+FT4NAoJT/f8JXg0Av4wHAzF6DQI9OAkAKZ4NA6wX6n0dvg0BLcfofhXeDQKCU/3/Cf4NAL+MBwMyGg0CPTgJACo+DQOsF+p9Hl4NAS3H6H4Wfg0CglP9/wqeDQC/jAcDMroNATYAGQOG2g0CPTgJACr+DQLN/+b8ex4NA6wX6n0fPg0AJo/4fXNeDQEtx+h+F34NAaA7/n5nng0CglP9/wu+DQBX6BWC49oNAL+MBwMz+g0BNgAZA4QaEQI9OAkAKD4RAs3/5vx4XhEDrBfqfRx+EQAmj/h9cJ4RAS3H6H4UvhEBoDv+fmTeEQKCU/3/CP4RAFfoFYLhGhEAv4wHAzE6EQE2ABkDhVoRA",
          "dtype": "f8"
         },
         "y": {
          "bdata": "6soMwAs+ckBMFvcfuWV0QPxL99+vQnZAbMIHwAn9eED9tQYAeMF7QE4lA0C10H1AAqX8/5NWgEBuZwTAfZ+BQKI5/H8WpIJAztIEQOvVg0BAKf//xACFQGgO/5+JEIZATiUDQAW1hkDfGAKAc56HQNPB+j+nQohANuED4FTQiEB9CAUAkheJQGEQ/X9hUIlA3xgCgDN2iUDIef8f17iJQP5aAwDMWYlAstr8v3o4iUBVIwVgXdCIQHNW+r+piohAj04CQMrth0C6ffvf1oCHQGdpAqDl5YZAx9QCIJNThkB4r//fzdmFQH0IBQDyJYVA4mL7f2tdhEBuZwTAvYWDQLN/+b9u+oJA/loDAAxbgkDhvf5/F6mBQHYKA+D5HIFAJkADoEBdgEDpYP2fw3R/QDvQ+d+AHn5AQCn//0TOfEB6VPzfseJ7QCWbBqBs0XpAkpj7P8KWeUCR8/4/jnJ4QFt8CoBxnXdAYRD9f+HHdkB/rQEAluV1QCjl/58UBXVAFfoFYIhcdEAMVwdA3J9zQN1zBYBP+3JAErAMYABTckAlmwagDM9xQL7H9N8+IHFAxS8GIN+ocEBNgAZAQQ9wQEwW9x+ZT29ALJkIwKQ8bkDbZPlfkzNtQI0/9h++ZWxA4vjrX6OYa0A70PnfwJdqQGO1+X8VzWlA+3oZIGzTaEDFLwYgvy9oQFOq6R8plWdA8z7pn3u8ZkA4hgDg2OxlQKTe+H+6JmVAhkH0/wVpZEB7j+m/vbFjQPzh578H3mJAil8MQD4vYkAVkPY/QIthQNiw8D+D4GBAS3H6H8U0YEC4ByEgX0ZfQLZf458+8F1A4o7cPzu/XEB4GQ8AZpRbQK0pNSDnt1pAizDq/0GCWUBJjQHATmBYQOlg/Z8DNVdAJ3///yJPVkADzABAY4JVQGCq/N+PfVRA40oDYHilU0C6Pv9/VLdSQOZVAAD+6FFAKCT8/zYbUUC3sfqfk0hQQMOKCSBrGk9AZNz9v6TETUAlGf9f8X5MQD4GCkBMHEtAtY4F4HoYSkDLhPy/LJVIQHiv/999bEdAtGcBoCtgRkBKtAUAnm9FQOMLBwCWeERAkpj7P2KGQ0DiYvt/i35CQJEy+5/wE0JAqE/2v3E5QUCp4AkgKYBAQFmYESA7Tj9AuYEKYC0xPkCvOQ9AzY48QBvl7N/tlTtACUwKoNYLOkAp4fAfXiA5QICp8n8/8jdAkDYKIOcxN0ASxPX/3Fg2QBR8DaBjUzVA",
          "dtype": "f8"
         }
        },
        {
         "mode": "lines",
         "name": "0.26",
         "type": "scatter",
         "x": {
          "bdata": "CaP+H1y3gECglP9/wr+AQE2ABkDhxoBA6wX6n0fPgEBoDv+fmdeAQC/jAcDM3oBAs3/5vx7ngEBLcfofhe+AQPdcAeCj9oBAj04CQAr/gEAJo/4fXAeBQKCU/3/CD4FATYAGQOEWgUDrBfqfRx+BQGgO/5+ZJ4FAL+MBwMwugUCPTgJACjeBQOsF+p9HP4FAS3H6H4VHgUCglP9/wk+BQC/jAcDMVoFAj04CQApfgUDrBfqfR2eBQEtx+h+Fb4FAoJT/f8J3gUAv4wHAzH6BQLN/+b8eh4FAS3H6H4WPgUD3XAHgo5aBQI9OAkAKn4FACaP+H1yngUCglP9/wq+BQE2ABkDhtoFA6wX6n0e/gUBoDv+fmceBQC/jAcDMzoFAj04CQArXgUDrBfqfR9+BQEtx+h+F54FAoJT/f8LvgUAv4wHAzPaBQI9OAkAK/4FA6wX6n0cHgkBLcfofhQ+CQKCU/3/CF4JAL+MBwMwegkCzf/m/HieCQEtx+h+FL4JA91wB4KM2gkCPTgJACj+CQAmj/h9cR4JAoJT/f8JPgkBNgAZA4VaCQOsF+p9HX4JAaA7/n5lngkAv4wHAzG6CQI9OAkAKd4JA6wX6n0d/gkBLcfofhYeCQKCU/3/Cj4JAL+MBwMyWgkCPTgJACp+CQOsF+p9Hp4JAS3H6H4WvgkCglP9/wreCQC/jAcDMvoJATYAGQOHGgkCPTgJACs+CQLN/+b8e14JA6wX6n0ffgkAJo/4fXOeCQEtx+h+F74JAaA7/n5n3gkCglP9/wv+CQBX6BWC4BoNAL+MBwMwOg0CPTgJACheDQOsF+p9HH4NAS3H6H4Ung0CglP9/wi+DQC/jAcDMNoNAj04CQAo/g0DrBfqfR0eDQEtx+h+FT4NAoJT/f8JXg0Av4wHAzF6DQI9OAkAKZ4NA6wX6n0dvg0BLcfofhXeDQKCU/3/Cf4NAL+MBwMyGg0CPTgJACo+DQOsF+p9Hl4NAS3H6H4Wfg0CglP9/wqeDQC/jAcDMroNATYAGQOG2g0CPTgJACr+DQLN/+b8ex4NA6wX6n0fPg0AJo/4fXNeDQEtx+h+F34NAaA7/n5nng0CglP9/wu+DQBX6BWC49oNAL+MBwMz+g0BNgAZA4QaEQI9OAkAKD4RAs3/5vx4XhEDrBfqfRx+EQAmj/h9cJ4RAS3H6H4UvhEBoDv+fmTeEQKCU/3/CP4RAFfoFYLhGhEAv4wHAzE6EQE2ABkDhVoRA",
          "dtype": "f8"
         },
         "y": {
          "bdata": "lD34Pza+ckCuJvSfOtJ0QMzD+B+Pm3ZALdT1n3DdeEDMw/gfb3p7QB0z9V+sAH1AXsYDgNljf0DpYP2fE8qAQNPB+j/3iYFAScz9H9F2gkD9tQYA2HuDQEaCBCDJGIRABVkFIETchEDtFAbA8xSFQBFG/T+YvYVAS3H6HwUIhkACpfz/00SGQGdpAqD1YIZAmzv6X/50hkDyA/y/X12GQOYWBKBrLYZAPd8FAG3ihUAenQSARJOFQOYWBKC7AYVAyh78H8uMhEBoDv+fCTaEQCOM+n/gloNAZ2kCoNUJg0DYGgBgu6iCQNZ1A2AnDoJA5hYEoOtzgUBNgAZAAauAQAAAAADAIoBACaP+H2xVf0AFWQUgJO99QCsv+Z8conxAil8MQH7Re0BEc/j/rKR6QE2ABkCBynlA22T5X/OLeEC8IvjfCrh3QGxY+J8BcXZAelT83xGsdUDRHP4/8+F0QFJv/D/9InRA1dAGYMNHc0AH/gEgWMJyQFLZC2Bl53FAPd8FAN1GcUCW4vQ/yrFwQLA1AMAWGXBAv2zx33IOb0Bxsf2/xTluQE+PEmA9Nm1A9iEUAEhYbEC6ffvfNndrQFy3919de2pAi5r5H+q0aUA70PnfAO1oQKtGCsDaF2hAz3cBQJ9TZ0DKHvwf+4BmQN2f5j//3GVA+QH+34cpZUARRv0/2HVkQBS/GIB842NAXLf3X51UY0Cm7QSgNqNiQKtGCsBaxWFAskQM4NJQYUBlLhXAOaJgQJ6INODiyV9A3kckwJ/GXkAupdNf1P1dQMc70b9u7VxAxS8GIH+kW0CGFRNA1nZaQB4HFKDcgVlAoNP73/SOWEAYBQMALlZXQDtSASB801ZAEOD8n2bGVUA0VP//Q5pUQLFcBADm4FNArSoDINHdUkAzFQOgIS9SQLB0/B/5dFFAmVcBADigUEBokAbgNOJPQEmNAcDOJk5AYGsAgK3rTECxXAQAprhLQAvxBqBqdkpAW7sG4BMhSUDBe/3/bgpIQDBh+n9RKkdAixwBYGXLRUAycAagTehEQPZ0+f+G0kNABDIB4FT9QkAhJvrfPgZCQKyB95/GE0FAfQgFAKJ3QEAjjPp/ML4/QOPMCqBzyj5AeO77P6AlPUCdXu8fh3k7QOVt+B+RaTpAcHYQ4Jl+OUAF7/X/u184QLIZ+R8N+DZAUJ/sf+M3NkBOPftf6C81QAYCEaCuDzRAz3cBQF/KM0B6vgsA+qwyQIl3BGDRETJA",
          "dtype": "f8"
         }
        },
        {
         "mode": "lines",
         "name": "0.17",
         "type": "scatter",
         "x": {
          "bdata": "CaP+H1y3gECglP9/wr+AQE2ABkDhxoBA6wX6n0fPgEBoDv+fmdeAQC/jAcDM3oBAs3/5vx7ngEBLcfofhe+AQPdcAeCj9oBAj04CQAr/gEAJo/4fXAeBQKCU/3/CD4FATYAGQOEWgUDrBfqfRx+BQGgO/5+ZJ4FAL+MBwMwugUCPTgJACjeBQOsF+p9HP4FAS3H6H4VHgUCglP9/wk+BQC/jAcDMVoFAj04CQApfgUDrBfqfR2eBQEtx+h+Fb4FAoJT/f8J3gUAv4wHAzH6BQLN/+b8eh4FAS3H6H4WPgUD3XAHgo5aBQI9OAkAKn4FACaP+H1yngUCglP9/wq+BQE2ABkDhtoFA6wX6n0e/gUBoDv+fmceBQC/jAcDMzoFAj04CQArXgUDrBfqfR9+BQEtx+h+F54FAoJT/f8LvgUAv4wHAzPaBQI9OAkAK/4FA6wX6n0cHgkBLcfofhQ+CQKCU/3/CF4JAL+MBwMwegkCzf/m/HieCQEtx+h+FL4JA91wB4KM2gkCPTgJACj+CQAmj/h9cR4JAoJT/f8JPgkBNgAZA4VaCQOsF+p9HX4JAaA7/n5lngkAv4wHAzG6CQI9OAkAKd4JA6wX6n0d/gkBLcfofhYeCQKCU/3/Cj4JAL+MBwMyWgkCPTgJACp+CQOsF+p9Hp4JAS3H6H4WvgkCglP9/wreCQC/jAcDMvoJATYAGQOHGgkCPTgJACs+CQLN/+b8e14JA6wX6n0ffgkAJo/4fXOeCQEtx+h+F74JAaA7/n5n3gkCglP9/wv+CQBX6BWC4BoNAL+MBwMwOg0CPTgJACheDQOsF+p9HH4NAS3H6H4Ung0CglP9/wi+DQC/jAcDMNoNAj04CQAo/g0DrBfqfR0eDQEtx+h+FT4NAoJT/f8JXg0Av4wHAzF6DQI9OAkAKZ4NA6wX6n0dvg0BLcfofhXeDQKCU/3/Cf4NAL+MBwMyGg0CPTgJACo+DQOsF+p9Hl4NAS3H6H4Wfg0CglP9/wqeDQC/jAcDMroNATYAGQOG2g0CPTgJACr+DQLN/+b8ex4NA6wX6n0fPg0AJo/4fXNeDQEtx+h+F34NAaA7/n5nng0CglP9/wu+DQBX6BWC49oNAL+MBwMz+g0BNgAZA4QaEQI9OAkAKD4RAs3/5vx4XhEDrBfqfRx+EQAmj/h9cJ4RAS3H6H4UvhEBoDv+fmTeEQKCU/3/CP4RAFfoFYLhGhEAv4wHAzE6EQE2ABkDhVoRA",
          "dtype": "f8"
         },
         "y": {
          "bdata": "d3QSABLMa0AUvxiAPJVuQOrKDMALaHBAarP7n800ckCwNQDAVuhzQGzCB8BpEHVAoqMLoA6cdkBJNg1AOfF3QMZq8/9q93hACaP+H4xoekB/rQEAlmF7QMLlDCB3VXxAaA7/n1kQfUCGQfT/5bN9QPum+t9bTX5AYx8JoD2ofkCK9fwfVrd+QFMU+T/Ry35ADO33H/S1fkCd4PZfQoN+QOrKDMCrPX5ATrvzH43SfUBuZwTAnX19QKTe+H+6v3xAP4QCAFENfEB9CAUA4ox7QAIPDCAcznpAJDH3f2T7eUAtPgXAuGx5QAIPDCCch3hAztIEQEubd0CEnPf/Ecd2QLUk9r8yD3ZA77kCwOdWdUC3MwLgbmp0QPum+t+brHNAskQM4JL3ckCiOfx/JgVyQMDWAAA7anFAY7X5f7WncEAdM/VfjNxvQEwW9x8Zpm5AqTf+n15QbUCJi+3/LTBsQI0TFWAOO2tAtbrmn2r3aUCJi+3/bRZpQCh78H9sL2hATKzn//BXZ0C3MwLgjppmQDAe75/4zGVAY0vqX63VZECLmvkfqk1kQJKY+z/itWNAmZb9X1oOY0Bn0xHAjXFiQH8XESDe3mFAluL0P4oqYUDkcQegR6VgQJQRF4BGMmBA5+oi4GujX0CFcBZAQiVeQJ4b5D9uYl1AiObw/5mKXEBpeA7AYZ5bQJeH8T+e2lpAZS4VwLn4WUA5we2/hChZQItb/b8HPVhAzGwEoBkxV0CPzPr/fktWQO+5AsAntlVAhyn833LOVED6KAIg1ydUQJxi/p/9dlNAVqH9H9KRUkAzFQOg4dNRQFrT/v+mHlFAvOP7f+hoUECD9/r/3aRPQIRd+5/Plk5Ak0EHwGwwTUAL8QagagFMQCHn/X8cl0pAwvn1vzNISUBgLAQgC3JIQFCLA+AGX0dAjWoJ4IN6RkDhvf5/d1BFQJwjAkDbRkRA15wHoOaZQ0Bxsf2/xZhCQPnCAYAlyUFAN0cEgLbvQED2dPn/Bi5AQKG7A8Chuj5Aw4oJIGunPUB84QDA0g08QNnX9H+SpjpAmr0BoGlWOUBTPwwAl1k4QGik73+RTzdAIwrzP3VGNkCzLBTA/001QMq07P/SnjRACjQSgAOYM0D+3ApAJ70yQPOUDyDH2jFAcXIBYCM6MUCYMP2/qFQwQNsRFGDUjS9AoIAW4PUELkByhRwAFogsQCzEG4CqbStA9HwXAPTlKkA+cedfHpIpQAzZDoCXUShA",
          "dtype": "f8"
         }
        },
        {
         "mode": "lines",
         "name": "0.09",
         "type": "scatter",
         "x": {
          "bdata": "CaP+H1y3gECglP9/wr+AQE2ABkDhxoBA6wX6n0fPgEBoDv+fmdeAQC/jAcDM3oBAs3/5vx7ngEBLcfofhe+AQPdcAeCj9oBAj04CQAr/gEAJo/4fXAeBQKCU/3/CD4FATYAGQOEWgUDrBfqfRx+BQGgO/5+ZJ4FAL+MBwMwugUCPTgJACjeBQOsF+p9HP4FAS3H6H4VHgUCglP9/wk+BQC/jAcDMVoFAj04CQApfgUDrBfqfR2eBQEtx+h+Fb4FAoJT/f8J3gUAv4wHAzH6BQLN/+b8eh4FAS3H6H4WPgUD3XAHgo5aBQI9OAkAKn4FACaP+H1yngUCglP9/wq+BQE2ABkDhtoFA6wX6n0e/gUBoDv+fmceBQC/jAcDMzoFAj04CQArXgUDrBfqfR9+BQEtx+h+F54FAoJT/f8LvgUAv4wHAzPaBQI9OAkAK/4FA6wX6n0cHgkBLcfofhQ+CQKCU/3/CF4JAL+MBwMwegkCzf/m/HieCQEtx+h+FL4JA91wB4KM2gkCPTgJACj+CQAmj/h9cR4JAoJT/f8JPgkBNgAZA4VaCQOsF+p9HX4JAaA7/n5lngkAv4wHAzG6CQI9OAkAKd4JA6wX6n0d/gkBLcfofhYeCQKCU/3/Cj4JAL+MBwMyWgkCPTgJACp+CQOsF+p9Hp4JAS3H6H4WvgkCglP9/wreCQC/jAcDMvoJATYAGQOHGgkCPTgJACs+CQLN/+b8e14JA6wX6n0ffgkAJo/4fXOeCQEtx+h+F74JAaA7/n5n3gkCglP9/wv+CQBX6BWC4BoNAL+MBwMwOg0CPTgJACheDQOsF+p9HH4NAS3H6H4Ung0CglP9/wi+DQC/jAcDMNoNAj04CQAo/g0DrBfqfR0eDQEtx+h+FT4NAoJT/f8JXg0Av4wHAzF6DQI9OAkAKZ4NA6wX6n0dvg0BLcfofhXeDQKCU/3/Cf4NAL+MBwMyGg0CPTgJACo+DQOsF+p9Hl4NAS3H6H4Wfg0CglP9/wqeDQC/jAcDMroNATYAGQOG2g0CPTgJACr+DQLN/+b8ex4NA6wX6n0fPg0AJo/4fXNeDQEtx+h+F34NAaA7/n5nng0CglP9/wu+DQBX6BWC49oNAL+MBwMz+g0BNgAZA4QaEQI9OAkAKD4RAs3/5vx4XhEDrBfqfRx+EQAmj/h9cJ4RAS3H6H4UvhEBoDv+fmTeEQKCU/3/CP4RAFfoFYLhGhEAv4wHAzE6EQE2ABkDhVoRA",
          "dtype": "f8"
         },
         "y": {
          "bdata": "0YYNYNuTXEAHlPL/T5lfQNffEoC/FWFAmw8ZoP5xYkAWNfM/1PtjQOJi+39LQGVA2ikMgOe3ZkB9nvXfuelnQOzZGOCn+WhAVo0UgHUpakBU6BeAIRFrQF8B8V9F6GtA+3oZIOyHbEAuqBTg4A1tQKyB959Ge21ANNL3v0inbUB2CgPgqb5tQIQGByBa6G1Au+cKAN+mbUA8C+e/7GNtQJvR6j9G+GxAvpsTIK/IbEC1jgXgekZsQG+i8Z+JyWtA/bUGABgfa0AqivyfaFJqQBcJEoDkkWlAdfv2vy0daUBCZOzfUAdoQBmuDoB4j2dAzw3yH3eeZkAV+gVgKNNlQLW65p9qHWVAvIwHAHMqZEBLcfofBVZjQOVC5V9LsGJA0YYNYNvfYUD38vG/yzphQI9OAkC6QGBAMsYsIFlaX0DLhcq/llteQLZiJCDLSF1AYGsAgK0BXEBDDCpgcdRaQPCK4H+rt1lACeL6f+6xWEBSMADg2tBXQNwNBeBd+VZAK7EA4HcNVkDFbgKAoRNVQFNXBCBqrFRAGYP7vzLrU0ANlgOgvklTQKfR/f9srVJAun3737YiUkAhqAEgeoRRQBZ4/h/tAFFAgrj+n/tsUEDAFf1f/QZQQCIOAsBr/U5AqE/2v3HLTUBr2v/f3AFNQJbK/B+3+EtAj04CQLoMS0B51gMgzU9KQC77+d9ff0lAql4C4G3JSEA8Nvp/8tFHQLXl+V/wxUZA4WYKAALvRUAqivyf6EBFQGp0/z9rZkRAIIH93yqsQ0AjNQYAu/FCQHMX/l83T0JA/9j7v7CnQUCfbfs/g/RAQMcT/3+1XUBAqeAJICmBP0B+xfkficQ9QPxL99/vDj1ActgBAJWqO0DsAesf4YU6QPUO+V+VIDlA/Qjs/1b/N0BRSPj/7Qs3QLOqDIBEODZATdPrPwBTNUA9HgJgn0g0QAuH93+CGDNASY0BwE5WMkDcTAFAgKAxQFw5/59YuTBA1Gb3PxsWMECkXPE/v9ouQAbDFECMUy1Ak5Tsv2vvK0DdICCAUNAqQLkDEqDoVClA7iTg37lAKECk3SqAEAQnQAF++L9EDiZAmBwUIEw4JUBWNiAAQEkkQEk4/z/maSNAwg/833meIkAQ9gLAbKghQFx3AoC0CyFAFL37/xJvIECmqvm/XWEfQC3pAkAQ6B1ApRsD4A+HHECg6vp/gcAaQFykB0AH8hlAo2AAwDUCGUBdifkfhJEYQFqV+x+LLRdA",
          "dtype": "f8"
         }
        },
        {
         "mode": "lines",
         "name": "0.07",
         "type": "scatter",
         "x": {
          "bdata": "CaP+H1y3gECglP9/wr+AQE2ABkDhxoBA6wX6n0fPgEBoDv+fmdeAQC/jAcDM3oBAs3/5vx7ngEBLcfofhe+AQPdcAeCj9oBAj04CQAr/gEAJo/4fXAeBQKCU/3/CD4FATYAGQOEWgUDrBfqfRx+BQGgO/5+ZJ4FAL+MBwMwugUCPTgJACjeBQOsF+p9HP4FAS3H6H4VHgUCglP9/wk+BQC/jAcDMVoFAj04CQApfgUDrBfqfR2eBQEtx+h+Fb4FAoJT/f8J3gUAv4wHAzH6BQLN/+b8eh4FAS3H6H4WPgUD3XAHgo5aBQI9OAkAKn4FACaP+H1yngUCglP9/wq+BQE2ABkDhtoFA6wX6n0e/gUBoDv+fmceBQC/jAcDMzoFAj04CQArXgUDrBfqfR9+BQEtx+h+F54FAoJT/f8LvgUAv4wHAzPaBQI9OAkAK/4FA6wX6n0cHgkBLcfofhQ+CQKCU/3/CF4JAL+MBwMwegkCzf/m/HieCQEtx+h+FL4JA91wB4KM2gkCPTgJACj+CQAmj/h9cR4JAoJT/f8JPgkBNgAZA4VaCQOsF+p9HX4JAaA7/n5lngkAv4wHAzG6CQI9OAkAKd4JA6wX6n0d/gkBLcfofhYeCQKCU/3/Cj4JAL+MBwMyWgkCPTgJACp+CQOsF+p9Hp4JAS3H6H4WvgkCglP9/wreCQC/jAcDMvoJATYAGQOHGgkCPTgJACs+CQLN/+b8e14JA6wX6n0ffgkAJo/4fXOeCQEtx+h+F74JAaA7/n5n3gkCglP9/wv+CQBX6BWC4BoNAL+MBwMwOg0CPTgJACheDQOsF+p9HH4NAS3H6H4Ung0CglP9/wi+DQC/jAcDMNoNAj04CQAo/g0DrBfqfR0eDQEtx+h+FT4NAoJT/f8JXg0Av4wHAzF6DQI9OAkAKZ4NA6wX6n0dvg0BLcfofhXeDQKCU/3/Cf4NAL+MBwMyGg0CPTgJACo+DQOsF+p9Hl4NAS3H6H4Wfg0CglP9/wqeDQC/jAcDMroNATYAGQOG2g0CPTgJACr+DQLN/+b8ex4NA6wX6n0fPg0AJo/4fXNeDQEtx+h+F34NAaA7/n5nng0CglP9/wu+DQBX6BWC49oNAL+MBwMz+g0BNgAZA4QaEQI9OAkAKD4RAs3/5vx4XhEDrBfqfRx+EQAmj/h9cJ4RAS3H6H4UvhEBoDv+fmTeEQKCU/3/CP4RAFfoFYLhGhEAv4wHAzE6EQE2ABkDhVoRA",
          "dtype": "f8"
         },
         "y": {
          "bdata": "sZsAYEjDVEDgfgIgFcxWQJ4H+5/RlFhAf0Py382VWkD85ChAlNNcQPSo+L8jfV5A6wX6n9dZYECUpwdgHiJhQIsw6v+BrmFAhXAWQMKTYkAlBRbAFEtjQFgD7z+N4mNA5ULlX0srZECglP9/EspkQCF97l/0AmVA0lfrH181ZUDRhg1gW1BlQChPD8C8PGVA/loDAGwSZUA6lQwAFfRkQLFw7Z+C12RAoCrwXypuZEBu0RPgxRpkQDIt+790xmNAwEAQIAM3Y0DaKQyA59xiQN2f5j+/UmJAGyTpPxCeYUDKtOz/EkdhQKTe+H96pWBAS0UZYBU5YEDp9u1/2/FeQC1q5n+o1F1AGN0wwHSmXECqCNxfYqJbQCbZNABlllpA9U31vzdlWUDbJf3/cC9YQDKvAgBwrFdAXHj7/zpiVkAyLfu/tKVVQPcdBYCRwVRAJHQCYB35U0Btf/zfMBFTQIgRBMAfV1JA/fQCYHqlUUD4m/0/1uFQQGM3AcAQPVBANwgIIBSMT0C1JPa/kltOQALk+F82Ok1AS9sJQO07TEA4xfw/e5pLQLQoBUAJgEpATqcKgFDaSUDvuQLAZ79IQBw3BOCCQkhAGxAAoDN5R0C2S/r/4adGQCPL9t/SDUZAkTL7n/BVRUDTAPefKZ1EQFu7BuAT9ENAL+MBwIxjQ0DTqQIgtL9CQClLAEDGWUJAxW4CgCGiQUDCYwXgmx5BQIpz9d9aV0BAs6oMgESNP0BqdP8/618+QGSx6v9eZT1AQREH4NExPEAZQPDfWVs7QCMK8z91FTpASTYNQFnuOEBBkw4gjU04QEil+d8hLTdAsfL0371QNkCoT/a/8YA1QFcf9t/WsTRAirLxP32bM0B/weqfEhEzQI95FQCAFTJAIagBIHoyMUCNAPq/G4swQHop6R9Mfy9AcOAfAIIJLkARG+p/0sksQIXv3P/writAtiMowKh7KkAXNCVA6hIpQMdm5H80AihAJ9Lk/+HKJkAEtAggEMclQKuZ778ZJyVAG/nVf0odJEDAKwOAw0IjQARJAIBhPiJATJj+X1SWIUB5LP8f/I4gQEwDBwADxx9A3wL8Xx1RHkCU/QJgjcgcQIoyB4CrPhxAu/r6HzUDG0Dyl/qfGmIZQAO2+h+diBhAyOQHwNUkF0CeWwSgM2QWQDBh+n9ROxVAZ1IDANklFECMggEA14gTQHVOB0BJ4BJAUtoE4OtoEkATVgLg2lYRQJ7w+/+EiRBA",
          "dtype": "f8"
         }
        },
        {
         "mode": "lines",
         "name": "0.05",
         "type": "scatter",
         "x": {
          "bdata": "CaP+H1y3gECglP9/wr+AQE2ABkDhxoBA6wX6n0fPgEBoDv+fmdeAQC/jAcDM3oBAs3/5vx7ngEBLcfofhe+AQPdcAeCj9oBAj04CQAr/gEAJo/4fXAeBQKCU/3/CD4FATYAGQOEWgUDrBfqfRx+BQGgO/5+ZJ4FAL+MBwMwugUCPTgJACjeBQOsF+p9HP4FAS3H6H4VHgUCglP9/wk+BQC/jAcDMVoFAj04CQApfgUDrBfqfR2eBQEtx+h+Fb4FAoJT/f8J3gUAv4wHAzH6BQLN/+b8eh4FAS3H6H4WPgUD3XAHgo5aBQI9OAkAKn4FACaP+H1yngUCglP9/wq+BQE2ABkDhtoFA6wX6n0e/gUBoDv+fmceBQC/jAcDMzoFAj04CQArXgUDrBfqfR9+BQEtx+h+F54FAoJT/f8LvgUAv4wHAzPaBQI9OAkAK/4FA6wX6n0cHgkBLcfofhQ+CQKCU/3/CF4JAL+MBwMwegkCzf/m/HieCQEtx+h+FL4JA91wB4KM2gkCPTgJACj+CQAmj/h9cR4JAoJT/f8JPgkBNgAZA4VaCQOsF+p9HX4JAaA7/n5lngkAv4wHAzG6CQI9OAkAKd4JA6wX6n0d/gkBLcfofhYeCQKCU/3/Cj4JAL+MBwMyWgkCPTgJACp+CQOsF+p9Hp4JAS3H6H4WvgkCglP9/wreCQC/jAcDMvoJATYAGQOHGgkCPTgJACs+CQLN/+b8e14JA6wX6n0ffgkAJo/4fXOeCQEtx+h+F74JAaA7/n5n3gkCglP9/wv+CQBX6BWC4BoNAL+MBwMwOg0CPTgJACheDQOsF+p9HH4NAS3H6H4Ung0CglP9/wi+DQC/jAcDMNoNAj04CQAo/g0DrBfqfR0eDQEtx+h+FT4NAoJT/f8JXg0Av4wHAzF6DQI9OAkAKZ4NA6wX6n0dvg0BLcfofhXeDQKCU/3/Cf4NAL+MBwMyGg0CPTgJACo+DQOsF+p9Hl4NAS3H6H4Wfg0CglP9/wqeDQC/jAcDMroNATYAGQOG2g0CPTgJACr+DQLN/+b8ex4NA6wX6n0fPg0AJo/4fXNeDQEtx+h+F34NAaA7/n5nng0CglP9/wu+DQBX6BWC49oNAL+MBwMz+g0BNgAZA4QaEQI9OAkAKD4RAs3/5vx4XhEDrBfqfRx+EQAmj/h9cJ4RAS3H6H4UvhEBoDv+fmTeEQKCU/3/CP4RAFfoFYLhGhEAv4wHAzE6EQE2ABkDhVoRA",
          "dtype": "f8"
         },
         "y": {
          "bdata": "jIIBANc4TUBijvU/hnhPQLtlA8DjHlFAAWYAoHGvUkDapwRALE5UQPdcAeAzYVVAeK//3/22VkBlAwIAtORXQI9OAkA6CFlAKSDtfwAEWkCGFRNA1utaQGJOK+D51FtAj+TyH9IzXEDSg8zfzsNcQFgGMMCZEF1ANNL3v8hGXUDXSSKg53JdQBbOJKD4al1A8cgO4GNJXUDBe/3/bhtdQCr0C8BQiFxA1TfV/948XECo0C8AQ8BbQLJEDOBSJltAyU0eYPdlWkD14+Wfzx5aQPNBKiBIEllA/9j7v3BjWEALMAMAzaBXQBsQAKCzBldAX0T8P14qVkDnfARADURVQD8C+7/VhFRAMxUDoOHOU0AfQgGASBxTQKBVAyCwLVJA/TP/v5x2UUCIEQTAX7RQQIzB/V+5HlBAzer8Xx7ETkCMwf1f+d1NQCHn/X8cnExAVmIBwG80S0AQ4PyfpkJKQDnsAIBK/EhAb2P1PydaSEBSMADgmpBHQKvc+p+ya0ZA55T8X+CXRUDsLP7fpudEQLEdCKCDJ0RA+08GYGZzQ0DpYP2fQ+NCQMPh/Z9gd0JAYZIEwHy2QUAOOwCgkhVBQPx2CqA1jUBARsEAgOsEQEAukeq/9+U+QAas6h8jVD5A2df0f5JbPUC9CgDAd008QMsGBADoWTtAxLENYLp0OkDjH/Cf8qM5QIETAqAnwDhAISb6377zN0BZQuufrz83QKrIEQBWhDZA9jX9n+TFNUA+GvPfKJk0QEyY/l9UIDRAQjgLICE1M0CYMP2/qJoyQCSz/r9/tjFAFKjuX5NEMUBPZP+fN34wQNiF3X995S9ADRT8X0M6LkBCUANA9GAtQI3V5v9VbyxAqU4owIedKkBKSSjgS88pQNQ+JQBizShA3LYQYGhqJ0DzQSogSH0mQEPe1R8ffiVAAtAPwFmeJEB1uwHghKcjQJmt/P8mNSNATuf/X7k+IkARHgCAgm0hQJjaAcB5WCBAaeH53ya0H0CvzgagHvMdQOOg/l/nbxxAtx38v0gqG0C9CQdAscUZQMva979bCBlAzzgF4DxwF0CB/ft/4boWQAO2+h+d2hVAjBf5XyjaFEDcDv5fJK0TQAxuBuDoHBNAIs8FYMn0EUDvZABA/0cRQLJu+591exBAjX35/5lCEEB3sw5g9BkOQNfJDGA5Jg1AxPP0PzDjC0D8zAWg5IUKQARx/T93YwlAfI7wP/caCUBuO/h/kaQHQJ+ZB4CPQQdA",
          "dtype": "f8"
         }
        },
        {
         "mode": "lines",
         "name": "0.04",
         "type": "scatter",
         "x": {
          "bdata": "CaP+H1y3gECglP9/wr+AQE2ABkDhxoBA6wX6n0fPgEBoDv+fmdeAQC/jAcDM3oBAs3/5vx7ngEBLcfofhe+AQPdcAeCj9oBAj04CQAr/gEAJo/4fXAeBQKCU/3/CD4FATYAGQOEWgUDrBfqfRx+BQGgO/5+ZJ4FAL+MBwMwugUCPTgJACjeBQOsF+p9HP4FAS3H6H4VHgUCglP9/wk+BQC/jAcDMVoFAj04CQApfgUDrBfqfR2eBQEtx+h+Fb4FAoJT/f8J3gUAv4wHAzH6BQLN/+b8eh4FAS3H6H4WPgUD3XAHgo5aBQI9OAkAKn4FACaP+H1yngUCglP9/wq+BQE2ABkDhtoFA6wX6n0e/gUBoDv+fmceBQC/jAcDMzoFAj04CQArXgUDrBfqfR9+BQEtx+h+F54FAoJT/f8LvgUAv4wHAzPaBQI9OAkAK/4FA6wX6n0cHgkBLcfofhQ+CQKCU/3/CF4JAL+MBwMwegkCzf/m/HieCQEtx+h+FL4JA91wB4KM2gkCPTgJACj+CQAmj/h9cR4JAoJT/f8JPgkBNgAZA4VaCQOsF+p9HX4JAaA7/n5lngkAv4wHAzG6CQI9OAkAKd4JA6wX6n0d/gkBLcfofhYeCQKCU/3/Cj4JAL+MBwMyWgkCPTgJACp+CQOsF+p9Hp4JAS3H6H4WvgkCglP9/wreCQC/jAcDMvoJATYAGQOHGgkCPTgJACs+CQLN/+b8e14JA6wX6n0ffgkAJo/4fXOeCQEtx+h+F74JAaA7/n5n3gkCglP9/wv+CQBX6BWC4BoNAL+MBwMwOg0CPTgJACheDQOsF+p9HH4NAS3H6H4Ung0CglP9/wi+DQC/jAcDMNoNAj04CQAo/g0DrBfqfR0eDQEtx+h+FT4NAoJT/f8JXg0Av4wHAzF6DQI9OAkAKZ4NA6wX6n0dvg0BLcfofhXeDQKCU/3/Cf4NAL+MBwMyGg0CPTgJACo+DQOsF+p9Hl4NAS3H6H4Wfg0CglP9/wqeDQC/jAcDMroNATYAGQOG2g0CPTgJACr+DQLN/+b8ex4NA6wX6n0fPg0AJo/4fXNeDQEtx+h+F34NAaA7/n5nng0CglP9/wu+DQBX6BWC49oNAL+MBwMz+g0BNgAZA4QaEQI9OAkAKD4RAs3/5vx4XhEDrBfqfRx+EQAmj/h9cJ4RAS3H6H4UvhEBoDv+fmTeEQKCU/3/CP4RAFfoFYLhGhEAv4wHAzE6EQE2ABkDhVoRA",
          "dtype": "f8"
         },
         "y": {
          "bdata": "Ljr2PwKjOkC+Re2fIy89QJ4H+5+RAz9AUm/8P73JQEDsrgUgYkdCQJdzCKDBOUNAu7z3P9mQRECZGAWg1ddFQKWuCEDUW0ZAUbIHIFZvR0Ck3vh/+iNIQB6dBIB08UhAedYDIM1ZSUCcYv6f/eFJQLVPCYBY5ElALVb930tBSkCn0f3/LEJKQN1zBYBPOUpAvq/8vwskSkBfg/ifAOZJQLjw9v91d0lADVP4v+UbSUC7vPc/We5IQLJY9X+vJEhAO1IBIDydR0AT6/k/LApHQLnY/t+iMUZA8UYHoKitRUDVDwPAJUBFQG+OCABtUkRACLv2P5+8Q0CIzvjfxvZCQK5RB2AgXkJAIs8FYEmdQUBMQQrgXvFAQLVPCYDYZkBAH5n1//0oP0CpIxUAwvg9QAXbDGBfszxAHV4IIFKMO0Bc4gogY7s6QOGS678xWTlAEcgEgFOuOECI5vD/mcw3QGjj69+zNjZAhIgOYBWZNUAaFA8gKtY0QNBfCSCMLjRAA/cTAKlwM0DbZPlfU20yQMK6+V8R8jFAraj735VzMUAKCf+/PfYwQMdS+9/XPTBAMGH6f1GxL0CdNh3gzfEuQCBpBcBXri1AMAoGAFyxLECRMvufcLQrQLKDCED1nCpAtFDXf0LQKUCb0BxAXEcpQCzYBCAHgihAgGr2Hx2XJ0BrXAcgGAInQIEmHUAaVSZAAjfeXzWrJUCBPhVg7YYkQHX6/T+n5CNArK78X5kVI0DAUwBA2X0iQLqqAKAJ1SFAhS4E4G99IUCWiwDAFHcgQHsP///rACBAc2wA4B/tHkDFb/v/558dQHa1AGCBgxxAn9n8X3huG0AA/waAOT8aQMJjBeAbYBlAdxz6f7lSGEA0PvnfPSYXQOAT+n8mDxZAsoMIQPV0FUCyAvp/ACIUQGfn+l8qsxNAzT//3wakEkD29/m/iM8RQPUO+V+VxBBA0AoHoCNcEEC8Dg9A7nsPQIg6+v87wQ1AOW0PQD9rDEAFMA/gx3EKQCEpEOBuJQpAncrwP/wTCUCF2QFgB40HQBxkCaBVZAZAr7n5/543BUAouxDgMbYDQBce9J9HrgNAnpv5fxyLAkAX3QVAmLABQNW4DkAw0ABA5339v9MwAEBFcOL/HMP/P6tb7N+9h/4/gVMiAG2o/D9l2wRAXrX6P5zO/79yU/o/xpUGwHCN+T+JouyfOm35P2ESGgAr4fY/qI7yHxSs9j+h0OXfxIb1P3uQ4j+EiPQ/",
          "dtype": "f8"
         }
        },
        {
         "mode": "lines",
         "name": "0.02",
         "type": "scatter",
         "x": {
          "bdata": "CaP+H1y3gECglP9/wr+AQE2ABkDhxoBA6wX6n0fPgEBoDv+fmdeAQC/jAcDM3oBAs3/5vx7ngEBLcfofhe+AQPdcAeCj9oBAj04CQAr/gEAJo/4fXAeBQKCU/3/CD4FATYAGQOEWgUDrBfqfRx+BQGgO/5+ZJ4FAL+MBwMwugUCPTgJACjeBQOsF+p9HP4FAS3H6H4VHgUCglP9/wk+BQC/jAcDMVoFAj04CQApfgUDrBfqfR2eBQEtx+h+Fb4FAoJT/f8J3gUAv4wHAzH6BQLN/+b8eh4FAS3H6H4WPgUD3XAHgo5aBQI9OAkAKn4FACaP+H1yngUCglP9/wq+BQE2ABkDhtoFA6wX6n0e/gUBoDv+fmceBQC/jAcDMzoFAj04CQArXgUDrBfqfR9+BQEtx+h+F54FAoJT/f8LvgUAv4wHAzPaBQI9OAkAK/4FA6wX6n0cHgkBLcfofhQ+CQKCU/3/CF4JAL+MBwMwegkCzf/m/HieCQEtx+h+FL4JA91wB4KM2gkCPTgJACj+CQAmj/h9cR4JAoJT/f8JPgkBNgAZA4VaCQOsF+p9HX4JAaA7/n5lngkAv4wHAzG6CQI9OAkAKd4JA6wX6n0d/gkBLcfofhYeCQKCU/3/Cj4JAL+MBwMyWgkCPTgJACp+CQOsF+p9Hp4JAS3H6H4WvgkCglP9/wreCQC/jAcDMvoJATYAGQOHGgkCPTgJACs+CQLN/+b8e14JA6wX6n0ffgkAJo/4fXOeCQEtx+h+F74JAaA7/n5n3gkCglP9/wv+CQBX6BWC4BoNAL+MBwMwOg0CPTgJACheDQOsF+p9HH4NAS3H6H4Ung0CglP9/wi+DQC/jAcDMNoNAj04CQAo/g0DrBfqfR0eDQEtx+h+FT4NAoJT/f8JXg0Av4wHAzF6DQI9OAkAKZ4NA6wX6n0dvg0BLcfofhXeDQKCU/3/Cf4NAL+MBwMyGg0CPTgJACo+DQOsF+p9Hl4NAS3H6H4Wfg0CglP9/wqeDQC/jAcDMroNATYAGQOG2g0CPTgJACr+DQLN/+b8ex4NA6wX6n0fPg0AJo/4fXNeDQEtx+h+F34NAaA7/n5nng0CglP9/wu+DQBX6BWC49oNAL+MBwMz+g0BNgAZA4QaEQI9OAkAKD4RAs3/5vx4XhEDrBfqfRx+EQAmj/h9cJ4RAS3H6H4UvhEBoDv+fmTeEQKCU/3/CP4RAFfoFYLhGhEAv4wHAzE6EQE2ABkDhVoRA",
          "dtype": "f8"
         },
         "y": {
          "bdata": "+NkAILKgI0DJjei/g5AlQI0TFWAOBSdAptUMgCMPKUCB0Pa/ju0qQCjO1X9rYSxADWvw3zhyLkDZLRsAHukvQOWYC+BWpjBA9XgIgH1BMUAI+vKfwYYxQIyCAQDXiDJALjr2PwLEMkBEngvAkgUzQDZjCyAAUjNA6KMIgFxMM0ALb/9frzczQBYhCqD3WTNABAfuH483M0BHfvWf0v0yQDLD659MwzJAi0cUICuVMkBS2QtgJSMyQDkr/d9suDFAfrEQgCxYMUBHP/k/sOgwQBFG/T+YizBAmhMoIPXGL0AyhO8/KuAuQM0p+b/AiS1AmUDX3461LEDRmvb/N7krQLXNAUAduCpAXM4hgAaZKUDMFt4fzpkoQHY25J8ZFihA3Iv9n6IcJ0CJ4ROAuSsmQOVFJuDXaCVAFLzX/+90JEDGKv4fwmQjQG77AqCorCJAARH+Hwk7IkAJTQMgnUQhQJ/YA+CxlyBA0Lb9n4H6H0DCuvlfEUweQEws/T/fTh1AAKoEANGkHEAhU/+fEbQbQCd+BoCcdRpAs0D9X1xXGUD0Uv2/9EIZQETHAQBvMRhAzvoBAOFcF0BOfPe/CskWQHq/BIDAuxVAiTgIAK+tFUDBkvyf+7YUQI1UA8C9DBRAuij5X06BE0AjiwEAas4SQDqA/1/VIhJANU7+f4CzEUDAqfs/CPwQQHCg/588WhBAyc0IIMnBD0DFMP+fxd0OQHOBDYCfRg1AqbgMYBO3DEC6agvAIMQLQKwr/J8XJAtAoVD7H/NgCUD9ngdgy28IQK1/BaC5dQdAtHwOQCvnBkAu6AnASTsGQGyEBOAtFQVAMV4PAP48BEAwoe9fOlgDQL0IDsDqrgJA8IoLAIjFAUB06Aag12cBQGo1A+DIIQBAJ34GgJwTAEBwjBYA4JH+P2MNEgDuavw/3gUSYM1b+z8XnOxfjGr6P0Vv6X9WhPg/X+zjv0Vx9z9/WhwAN1T3P5Ja+F+GBfc/1H4a4EoK9T9WOBIAzZT0P7Hy9N+9ivI/E1YC4Nok8j/BpwlAeyzxP4peE8A39/A//mn6X/vY7z96yAVABNjvP98Q+j/mF+4/lwwEoFFD7T8M/gAgtaXqP6Z9/9/CTeo/0i38X/xs6j920fwfE+HmP4YOBIAfUOY/NNr//0Xo5T+Yhf8/ERXnP+eG/n8X0+U/Ztb8PyEH4j9/KwWgssrhP+Dd/t9HC+I/+oz7/w524T/mawYgBKDgPyut/D/51d8/",
          "dtype": "f8"
         }
        },
        {
         "mode": "lines",
         "name": "0.01",
         "type": "scatter",
         "x": {
          "bdata": "CaP+H1y3gECglP9/wr+AQE2ABkDhxoBA6wX6n0fPgEBoDv+fmdeAQC/jAcDM3oBAs3/5vx7ngEBLcfofhe+AQPdcAeCj9oBAj04CQAr/gEAJo/4fXAeBQKCU/3/CD4FATYAGQOEWgUDrBfqfRx+BQGgO/5+ZJ4FAL+MBwMwugUCPTgJACjeBQOsF+p9HP4FAS3H6H4VHgUCglP9/wk+BQC/jAcDMVoFAj04CQApfgUDrBfqfR2eBQEtx+h+Fb4FAoJT/f8J3gUAv4wHAzH6BQLN/+b8eh4FAS3H6H4WPgUD3XAHgo5aBQI9OAkAKn4FACaP+H1yngUCglP9/wq+BQE2ABkDhtoFA6wX6n0e/gUBoDv+fmceBQC/jAcDMzoFAj04CQArXgUDrBfqfR9+BQEtx+h+F54FAoJT/f8LvgUAv4wHAzPaBQI9OAkAK/4FA6wX6n0cHgkBLcfofhQ+CQKCU/3/CF4JAL+MBwMwegkCzf/m/HieCQEtx+h+FL4JA91wB4KM2gkCPTgJACj+CQAmj/h9cR4JAoJT/f8JPgkBNgAZA4VaCQOsF+p9HX4JAaA7/n5lngkAv4wHAzG6CQI9OAkAKd4JA6wX6n0d/gkBLcfofhYeCQKCU/3/Cj4JAL+MBwMyWgkCPTgJACp+CQOsF+p9Hp4JAS3H6H4WvgkCglP9/wreCQC/jAcDMvoJATYAGQOHGgkCPTgJACs+CQLN/+b8e14JA6wX6n0ffgkAJo/4fXOeCQEtx+h+F74JAaA7/n5n3gkCglP9/wv+CQBX6BWC4BoNAL+MBwMwOg0CPTgJACheDQOsF+p9HH4NAS3H6H4Ung0CglP9/wi+DQC/jAcDMNoNAj04CQAo/g0DrBfqfR0eDQEtx+h+FT4NAoJT/f8JXg0Av4wHAzF6DQI9OAkAKZ4NA6wX6n0dvg0BLcfofhXeDQKCU/3/Cf4NAL+MBwMyGg0CPTgJACo+DQOsF+p9Hl4NAS3H6H4Wfg0CglP9/wqeDQC/jAcDMroNATYAGQOG2g0CPTgJACr+DQLN/+b8ex4NA6wX6n0fPg0AJo/4fXNeDQEtx+h+F34NAaA7/n5nng0CglP9/wu+DQBX6BWC49oNAL+MBwMz+g0BNgAZA4QaEQI9OAkAKD4RAs3/5vx4XhEDrBfqfRx+EQAmj/h9cJ4RAS3H6H4UvhEBoDv+fmTeEQKCU/3/CP4RAFfoFYLhGhEAv4wHAzE6EQE2ABkDhVoRA",
          "dtype": "f8"
         },
         "y": {
          "bdata": "/4EHQLt9F0C9SAOg02EZQIGmBwDsUBtA7/j+H4qcHUAfrgKgfRcgQCF7/F8nyyBAv0ICINCyIUBOkv3fULkiQIM1/t85aiNA1FIOoL4vJECczdu/T9QkQPZ0+f8GLSVAI9/ff6/VJUBTf9ZfI28mQHZ14P87kCZA2Fn8v02FJkDkXR4Aq8ImQDGfKOAJiSZALMQbgKpHJkBU/AAg/iQmQInNKuBcJyZAHvMqAABtJUB6VPzfES0lQJ1KBoAqqiRABBvXv+s9JECemgAAVr8jQP3e/D+0FiNAZPID4GqrIkDTVACgSwYiQI1V/D+ENyFAJgIAwOTMIEDGfwCgKgcgQB7FAUCKWB9AazD734t1HUBnvgQgTqkcQI5m+l+NextAAk4IgJ66GkDgvvf/vQ4aQGAA+N/+gRhA4iIGoKKHF0BnkvjfwZoWQEfT9x87XRVAQREH4NH4FECY8QBghu4TQP7GBCDhvBJALnwIoNSZEkAVefefs20RQIJiA6CMHBFAPsgGYHBAEEAf1/jfWQMQQIwB8z/i5w5AVvf4H8GmDUBiTgBgnQANQF0z/h9V5AtACJAOADb7CkC47gQAaaUKQFB1/b9AkQlA5W7xn1eMCEDESPe/mJ8HQHtm83/hpQdAecLv/xM2BkBWtwNA2JcFQFv7+7/8cwVAjqbvP3ZKBEAUkwxAcIcDQFCLA+CG8QJAVOb6/7ekAkDKR/Jfl94BQPb3+b+IZQFAZykNwPy1AEAokP0fbCwAQIXE9L+Hu/4/t17qH/gb/j8UqeffWcP9P7Y19N8bjPw/r84GoB75+j+MbR/gsxf5P0WFGiD5vPc/bC4J4P6F9z/0EwFg0r72P8NKFECCwfU/YNQWIM/D9D/jDACAXD30P1z45b9Mu/M/BxLrv5Si8j8IzuZfNQDyP8ij7t/JUvE/JhcNYGQW8D9GNgNgJFrvPyQaA8Bvmu0/BqUG4MiP7D/Wwv2fgr3pPyJS+z+Tdeo/ToD7X8nU6T+DPv+ffXvnPzKQ+x9mE+c/qk3536xi5j9o0wbgFSvkP/je/T83reM/Nuv9H0+u4j9rK/6/Bi3iP31V/z8NqeE/AxwGoMYW4D8Qi/ofvsbhP7ZP/p8g4N8/KFoCgI3K3T/4NwRgXr3cP/y89R/q3ts/oJgDIBEj3z9B0wMAdufZP3ow+N8C3NY/CV8FoCSA1T9CKfQf7XbWP4f48n8hNNg/EtAB4Bhd1T9gofsfjHLXP2QX9n+IINM/",
          "dtype": "f8"
         }
        }
       ],
       "layout": {
        "font": {
         "size": 14
        },
        "height": 600,
        "legend": {
         "x": 0.9,
         "y": 0.9
        },
        "template": {
         "data": {
          "bar": [
           {
            "error_x": {
             "color": "#2a3f5f"
            },
            "error_y": {
             "color": "#2a3f5f"
            },
            "marker": {
             "line": {
              "color": "#E5ECF6",
              "width": 0.5
             },
             "pattern": {
              "fillmode": "overlay",
              "size": 10,
              "solidity": 0.2
             }
            },
            "type": "bar"
           }
          ],
          "barpolar": [
           {
            "marker": {
             "line": {
              "color": "#E5ECF6",
              "width": 0.5
             },
             "pattern": {
              "fillmode": "overlay",
              "size": 10,
              "solidity": 0.2
             }
            },
            "type": "barpolar"
           }
          ],
          "carpet": [
           {
            "aaxis": {
             "endlinecolor": "#2a3f5f",
             "gridcolor": "white",
             "linecolor": "white",
             "minorgridcolor": "white",
             "startlinecolor": "#2a3f5f"
            },
            "baxis": {
             "endlinecolor": "#2a3f5f",
             "gridcolor": "white",
             "linecolor": "white",
             "minorgridcolor": "white",
             "startlinecolor": "#2a3f5f"
            },
            "type": "carpet"
           }
          ],
          "choropleth": [
           {
            "colorbar": {
             "outlinewidth": 0,
             "ticks": ""
            },
            "type": "choropleth"
           }
          ],
          "contour": [
           {
            "colorbar": {
             "outlinewidth": 0,
             "ticks": ""
            },
            "colorscale": [
             [
              0,
              "#0d0887"
             ],
             [
              0.1111111111111111,
              "#46039f"
             ],
             [
              0.2222222222222222,
              "#7201a8"
             ],
             [
              0.3333333333333333,
              "#9c179e"
             ],
             [
              0.4444444444444444,
              "#bd3786"
             ],
             [
              0.5555555555555556,
              "#d8576b"
             ],
             [
              0.6666666666666666,
              "#ed7953"
             ],
             [
              0.7777777777777778,
              "#fb9f3a"
             ],
             [
              0.8888888888888888,
              "#fdca26"
             ],
             [
              1,
              "#f0f921"
             ]
            ],
            "type": "contour"
           }
          ],
          "contourcarpet": [
           {
            "colorbar": {
             "outlinewidth": 0,
             "ticks": ""
            },
            "type": "contourcarpet"
           }
          ],
          "heatmap": [
           {
            "colorbar": {
             "outlinewidth": 0,
             "ticks": ""
            },
            "colorscale": [
             [
              0,
              "#0d0887"
             ],
             [
              0.1111111111111111,
              "#46039f"
             ],
             [
              0.2222222222222222,
              "#7201a8"
             ],
             [
              0.3333333333333333,
              "#9c179e"
             ],
             [
              0.4444444444444444,
              "#bd3786"
             ],
             [
              0.5555555555555556,
              "#d8576b"
             ],
             [
              0.6666666666666666,
              "#ed7953"
             ],
             [
              0.7777777777777778,
              "#fb9f3a"
             ],
             [
              0.8888888888888888,
              "#fdca26"
             ],
             [
              1,
              "#f0f921"
             ]
            ],
            "type": "heatmap"
           }
          ],
          "histogram": [
           {
            "marker": {
             "pattern": {
              "fillmode": "overlay",
              "size": 10,
              "solidity": 0.2
             }
            },
            "type": "histogram"
           }
          ],
          "histogram2d": [
           {
            "colorbar": {
             "outlinewidth": 0,
             "ticks": ""
            },
            "colorscale": [
             [
              0,
              "#0d0887"
             ],
             [
              0.1111111111111111,
              "#46039f"
             ],
             [
              0.2222222222222222,
              "#7201a8"
             ],
             [
              0.3333333333333333,
              "#9c179e"
             ],
             [
              0.4444444444444444,
              "#bd3786"
             ],
             [
              0.5555555555555556,
              "#d8576b"
             ],
             [
              0.6666666666666666,
              "#ed7953"
             ],
             [
              0.7777777777777778,
              "#fb9f3a"
             ],
             [
              0.8888888888888888,
              "#fdca26"
             ],
             [
              1,
              "#f0f921"
             ]
            ],
            "type": "histogram2d"
           }
          ],
          "histogram2dcontour": [
           {
            "colorbar": {
             "outlinewidth": 0,
             "ticks": ""
            },
            "colorscale": [
             [
              0,
              "#0d0887"
             ],
             [
              0.1111111111111111,
              "#46039f"
             ],
             [
              0.2222222222222222,
              "#7201a8"
             ],
             [
              0.3333333333333333,
              "#9c179e"
             ],
             [
              0.4444444444444444,
              "#bd3786"
             ],
             [
              0.5555555555555556,
              "#d8576b"
             ],
             [
              0.6666666666666666,
              "#ed7953"
             ],
             [
              0.7777777777777778,
              "#fb9f3a"
             ],
             [
              0.8888888888888888,
              "#fdca26"
             ],
             [
              1,
              "#f0f921"
             ]
            ],
            "type": "histogram2dcontour"
           }
          ],
          "mesh3d": [
           {
            "colorbar": {
             "outlinewidth": 0,
             "ticks": ""
            },
            "type": "mesh3d"
           }
          ],
          "parcoords": [
           {
            "line": {
             "colorbar": {
              "outlinewidth": 0,
              "ticks": ""
             }
            },
            "type": "parcoords"
           }
          ],
          "pie": [
           {
            "automargin": true,
            "type": "pie"
           }
          ],
          "scatter": [
           {
            "fillpattern": {
             "fillmode": "overlay",
             "size": 10,
             "solidity": 0.2
            },
            "type": "scatter"
           }
          ],
          "scatter3d": [
           {
            "line": {
             "colorbar": {
              "outlinewidth": 0,
              "ticks": ""
             }
            },
            "marker": {
             "colorbar": {
              "outlinewidth": 0,
              "ticks": ""
             }
            },
            "type": "scatter3d"
           }
          ],
          "scattercarpet": [
           {
            "marker": {
             "colorbar": {
              "outlinewidth": 0,
              "ticks": ""
             }
            },
            "type": "scattercarpet"
           }
          ],
          "scattergeo": [
           {
            "marker": {
             "colorbar": {
              "outlinewidth": 0,
              "ticks": ""
             }
            },
            "type": "scattergeo"
           }
          ],
          "scattergl": [
           {
            "marker": {
             "colorbar": {
              "outlinewidth": 0,
              "ticks": ""
             }
            },
            "type": "scattergl"
           }
          ],
          "scattermap": [
           {
            "marker": {
             "colorbar": {
              "outlinewidth": 0,
              "ticks": ""
             }
            },
            "type": "scattermap"
           }
          ],
          "scattermapbox": [
           {
            "marker": {
             "colorbar": {
              "outlinewidth": 0,
              "ticks": ""
             }
            },
            "type": "scattermapbox"
           }
          ],
          "scatterpolar": [
           {
            "marker": {
             "colorbar": {
              "outlinewidth": 0,
              "ticks": ""
             }
            },
            "type": "scatterpolar"
           }
          ],
          "scatterpolargl": [
           {
            "marker": {
             "colorbar": {
              "outlinewidth": 0,
              "ticks": ""
             }
            },
            "type": "scatterpolargl"
           }
          ],
          "scatterternary": [
           {
            "marker": {
             "colorbar": {
              "outlinewidth": 0,
              "ticks": ""
             }
            },
            "type": "scatterternary"
           }
          ],
          "surface": [
           {
            "colorbar": {
             "outlinewidth": 0,
             "ticks": ""
            },
            "colorscale": [
             [
              0,
              "#0d0887"
             ],
             [
              0.1111111111111111,
              "#46039f"
             ],
             [
              0.2222222222222222,
              "#7201a8"
             ],
             [
              0.3333333333333333,
              "#9c179e"
             ],
             [
              0.4444444444444444,
              "#bd3786"
             ],
             [
              0.5555555555555556,
              "#d8576b"
             ],
             [
              0.6666666666666666,
              "#ed7953"
             ],
             [
              0.7777777777777778,
              "#fb9f3a"
             ],
             [
              0.8888888888888888,
              "#fdca26"
             ],
             [
              1,
              "#f0f921"
             ]
            ],
            "type": "surface"
           }
          ],
          "table": [
           {
            "cells": {
             "fill": {
              "color": "#EBF0F8"
             },
             "line": {
              "color": "white"
             }
            },
            "header": {
             "fill": {
              "color": "#C8D4E3"
             },
             "line": {
              "color": "white"
             }
            },
            "type": "table"
           }
          ]
         },
         "layout": {
          "annotationdefaults": {
           "arrowcolor": "#2a3f5f",
           "arrowhead": 0,
           "arrowwidth": 1
          },
          "autotypenumbers": "strict",
          "coloraxis": {
           "colorbar": {
            "outlinewidth": 0,
            "ticks": ""
           }
          },
          "colorscale": {
           "diverging": [
            [
             0,
             "#8e0152"
            ],
            [
             0.1,
             "#c51b7d"
            ],
            [
             0.2,
             "#de77ae"
            ],
            [
             0.3,
             "#f1b6da"
            ],
            [
             0.4,
             "#fde0ef"
            ],
            [
             0.5,
             "#f7f7f7"
            ],
            [
             0.6,
             "#e6f5d0"
            ],
            [
             0.7,
             "#b8e186"
            ],
            [
             0.8,
             "#7fbc41"
            ],
            [
             0.9,
             "#4d9221"
            ],
            [
             1,
             "#276419"
            ]
           ],
           "sequential": [
            [
             0,
             "#0d0887"
            ],
            [
             0.1111111111111111,
             "#46039f"
            ],
            [
             0.2222222222222222,
             "#7201a8"
            ],
            [
             0.3333333333333333,
             "#9c179e"
            ],
            [
             0.4444444444444444,
             "#bd3786"
            ],
            [
             0.5555555555555556,
             "#d8576b"
            ],
            [
             0.6666666666666666,
             "#ed7953"
            ],
            [
             0.7777777777777778,
             "#fb9f3a"
            ],
            [
             0.8888888888888888,
             "#fdca26"
            ],
            [
             1,
             "#f0f921"
            ]
           ],
           "sequentialminus": [
            [
             0,
             "#0d0887"
            ],
            [
             0.1111111111111111,
             "#46039f"
            ],
            [
             0.2222222222222222,
             "#7201a8"
            ],
            [
             0.3333333333333333,
             "#9c179e"
            ],
            [
             0.4444444444444444,
             "#bd3786"
            ],
            [
             0.5555555555555556,
             "#d8576b"
            ],
            [
             0.6666666666666666,
             "#ed7953"
            ],
            [
             0.7777777777777778,
             "#fb9f3a"
            ],
            [
             0.8888888888888888,
             "#fdca26"
            ],
            [
             1,
             "#f0f921"
            ]
           ]
          },
          "colorway": [
           "#636efa",
           "#EF553B",
           "#00cc96",
           "#ab63fa",
           "#FFA15A",
           "#19d3f3",
           "#FF6692",
           "#B6E880",
           "#FF97FF",
           "#FECB52"
          ],
          "font": {
           "color": "#2a3f5f"
          },
          "geo": {
           "bgcolor": "white",
           "lakecolor": "white",
           "landcolor": "#E5ECF6",
           "showlakes": true,
           "showland": true,
           "subunitcolor": "white"
          },
          "hoverlabel": {
           "align": "left"
          },
          "hovermode": "closest",
          "mapbox": {
           "style": "light"
          },
          "paper_bgcolor": "white",
          "plot_bgcolor": "#E5ECF6",
          "polar": {
           "angularaxis": {
            "gridcolor": "white",
            "linecolor": "white",
            "ticks": ""
           },
           "bgcolor": "#E5ECF6",
           "radialaxis": {
            "gridcolor": "white",
            "linecolor": "white",
            "ticks": ""
           }
          },
          "scene": {
           "xaxis": {
            "backgroundcolor": "#E5ECF6",
            "gridcolor": "white",
            "gridwidth": 2,
            "linecolor": "white",
            "showbackground": true,
            "ticks": "",
            "zerolinecolor": "white"
           },
           "yaxis": {
            "backgroundcolor": "#E5ECF6",
            "gridcolor": "white",
            "gridwidth": 2,
            "linecolor": "white",
            "showbackground": true,
            "ticks": "",
            "zerolinecolor": "white"
           },
           "zaxis": {
            "backgroundcolor": "#E5ECF6",
            "gridcolor": "white",
            "gridwidth": 2,
            "linecolor": "white",
            "showbackground": true,
            "ticks": "",
            "zerolinecolor": "white"
           }
          },
          "shapedefaults": {
           "line": {
            "color": "#2a3f5f"
           }
          },
          "ternary": {
           "aaxis": {
            "gridcolor": "white",
            "linecolor": "white",
            "ticks": ""
           },
           "baxis": {
            "gridcolor": "white",
            "linecolor": "white",
            "ticks": ""
           },
           "bgcolor": "#E5ECF6",
           "caxis": {
            "gridcolor": "white",
            "linecolor": "white",
            "ticks": ""
           }
          },
          "title": {
           "x": 0.05
          },
          "xaxis": {
           "automargin": true,
           "gridcolor": "white",
           "linecolor": "white",
           "ticks": "",
           "title": {
            "standoff": 15
           },
           "zerolinecolor": "white",
           "zerolinewidth": 2
          },
          "yaxis": {
           "automargin": true,
           "gridcolor": "white",
           "linecolor": "white",
           "ticks": "",
           "title": {
            "standoff": 15
           },
           "zerolinecolor": "white",
           "zerolinewidth": 2
          }
         }
        },
        "width": 800,
        "xaxis": {
         "title": {
          "text": "Wavelength (nm)"
         }
        },
        "yaxis": {
         "range": [
          0,
          1000
         ],
         "title": {
          "text": "Intensity (a.u.)"
         }
        }
       }
      }
     },
     "metadata": {},
     "output_type": "display_data"
    }
   ],
   "source": [
    "fig = go.Figure()\n",
    "\n",
    "for λ_col, I_col, a in zip(WAVELENGHTS, INTENSITIES, ASS):\n",
    "    fig.add_trace(go.Scatter(x=data[λ_col], y=data[I_col],\n",
    "                    mode='lines',\n",
    "                    name=f'{np.round(a, 2)}'))\n",
    "    \n",
    "# fig.add_trace(go.Scatter(x=fondo['λfondo'],y=fondo['Ifondo'],\n",
    "#                     mode='lines',\n",
    "#                     name=f'fondo'))\n",
    "\n",
    "fig.update_layout(\n",
    "                  xaxis_title='Wavelength (nm)',\n",
    "                  yaxis_title='Intensity (a.u.)',\n",
    "                  height=600,\n",
    "                  width=800,\n",
    "                  yaxis=dict(range=[0, 1000]),\n",
    "                  legend=dict(x=0.9, y=0.9),\n",
    "                  font=dict(size=14))\n",
    "\n",
    "fig.write_html(dir_path + r\"\\html\\emission_spectrum.html\")\n",
    "fig.write_image(dir_path + r\"\\images\\emission_spectrum.png\")\n",
    "fig.show()"
   ]
  },
  {
   "cell_type": "markdown",
   "metadata": {},
   "source": [
    "segue fit parabolico dei picchi dello spettro, vengono considerati solo i 5 punti a destra e 5 a sinistra del punto massimo dello spettro\n",
    "\n",
    "segue l'estrapolazione del valore di Imax"
   ]
  },
  {
   "cell_type": "code",
   "execution_count": 12,
   "metadata": {},
   "outputs": [
    {
     "name": "stdout",
     "output_type": "stream",
     "text": [
      "Tabella con i fit di tutti i picchi delle parabole\n"
     ]
    },
    {
     "data": {
      "text/html": [
       "<div>\n",
       "<style scoped>\n",
       "    .dataframe tbody tr th:only-of-type {\n",
       "        vertical-align: middle;\n",
       "    }\n",
       "\n",
       "    .dataframe tbody tr th {\n",
       "        vertical-align: top;\n",
       "    }\n",
       "\n",
       "    .dataframe thead th {\n",
       "        text-align: right;\n",
       "    }\n",
       "</style>\n",
       "<table border=\"1\" class=\"dataframe\">\n",
       "  <thead>\n",
       "    <tr style=\"text-align: right;\">\n",
       "      <th></th>\n",
       "      <th>Absorbance</th>\n",
       "      <th>λcenter</th>\n",
       "      <th>a</th>\n",
       "      <th>IMAX</th>\n",
       "      <th>error_λcenter</th>\n",
       "      <th>error_a</th>\n",
       "      <th>error_IMAX</th>\n",
       "    </tr>\n",
       "  </thead>\n",
       "  <tbody>\n",
       "    <tr>\n",
       "      <th>0</th>\n",
       "      <td>0.480042</td>\n",
       "      <td>554.044219</td>\n",
       "      <td>2.442431</td>\n",
       "      <td>940.693325</td>\n",
       "      <td>0.274804</td>\n",
       "      <td>0.443226</td>\n",
       "      <td>1.342285</td>\n",
       "    </tr>\n",
       "    <tr>\n",
       "      <th>1</th>\n",
       "      <td>0.352690</td>\n",
       "      <td>553.742124</td>\n",
       "      <td>2.156915</td>\n",
       "      <td>819.968625</td>\n",
       "      <td>0.285710</td>\n",
       "      <td>0.435038</td>\n",
       "      <td>1.546347</td>\n",
       "    </tr>\n",
       "    <tr>\n",
       "      <th>2</th>\n",
       "      <td>0.263436</td>\n",
       "      <td>552.758972</td>\n",
       "      <td>1.744154</td>\n",
       "      <td>718.450202</td>\n",
       "      <td>0.067448</td>\n",
       "      <td>0.081499</td>\n",
       "      <td>0.254055</td>\n",
       "    </tr>\n",
       "    <tr>\n",
       "      <th>3</th>\n",
       "      <td>0.174750</td>\n",
       "      <td>551.865053</td>\n",
       "      <td>1.027011</td>\n",
       "      <td>492.753337</td>\n",
       "      <td>0.074358</td>\n",
       "      <td>0.052306</td>\n",
       "      <td>0.178710</td>\n",
       "    </tr>\n",
       "    <tr>\n",
       "      <th>4</th>\n",
       "      <td>0.087549</td>\n",
       "      <td>551.494151</td>\n",
       "      <td>0.503627</td>\n",
       "      <td>238.703070</td>\n",
       "      <td>0.147158</td>\n",
       "      <td>0.053501</td>\n",
       "      <td>0.250304</td>\n",
       "    </tr>\n",
       "    <tr>\n",
       "      <th>5</th>\n",
       "      <td>0.070475</td>\n",
       "      <td>551.279005</td>\n",
       "      <td>0.386982</td>\n",
       "      <td>170.262114</td>\n",
       "      <td>0.137228</td>\n",
       "      <td>0.036855</td>\n",
       "      <td>0.180003</td>\n",
       "    </tr>\n",
       "    <tr>\n",
       "      <th>6</th>\n",
       "      <td>0.052845</td>\n",
       "      <td>551.307117</td>\n",
       "      <td>0.243386</td>\n",
       "      <td>117.772112</td>\n",
       "      <td>0.080942</td>\n",
       "      <td>0.013286</td>\n",
       "      <td>0.070467</td>\n",
       "    </tr>\n",
       "    <tr>\n",
       "      <th>7</th>\n",
       "      <td>0.035265</td>\n",
       "      <td>551.090509</td>\n",
       "      <td>0.101588</td>\n",
       "      <td>52.545366</td>\n",
       "      <td>0.128419</td>\n",
       "      <td>0.009120</td>\n",
       "      <td>0.057811</td>\n",
       "    </tr>\n",
       "    <tr>\n",
       "      <th>8</th>\n",
       "      <td>0.017633</td>\n",
       "      <td>550.856778</td>\n",
       "      <td>0.031331</td>\n",
       "      <td>19.321189</td>\n",
       "      <td>0.203719</td>\n",
       "      <td>0.004558</td>\n",
       "      <td>0.033509</td>\n",
       "    </tr>\n",
       "    <tr>\n",
       "      <th>9</th>\n",
       "      <td>0.008831</td>\n",
       "      <td>550.925065</td>\n",
       "      <td>0.024793</td>\n",
       "      <td>11.330715</td>\n",
       "      <td>0.231624</td>\n",
       "      <td>0.004218</td>\n",
       "      <td>0.036550</td>\n",
       "    </tr>\n",
       "  </tbody>\n",
       "</table>\n",
       "</div>"
      ],
      "text/plain": [
       "   Absorbance     λcenter         a        IMAX  error_λcenter   error_a  \\\n",
       "0    0.480042  554.044219  2.442431  940.693325       0.274804  0.443226   \n",
       "1    0.352690  553.742124  2.156915  819.968625       0.285710  0.435038   \n",
       "2    0.263436  552.758972  1.744154  718.450202       0.067448  0.081499   \n",
       "3    0.174750  551.865053  1.027011  492.753337       0.074358  0.052306   \n",
       "4    0.087549  551.494151  0.503627  238.703070       0.147158  0.053501   \n",
       "5    0.070475  551.279005  0.386982  170.262114       0.137228  0.036855   \n",
       "6    0.052845  551.307117  0.243386  117.772112       0.080942  0.013286   \n",
       "7    0.035265  551.090509  0.101588   52.545366       0.128419  0.009120   \n",
       "8    0.017633  550.856778  0.031331   19.321189       0.203719  0.004558   \n",
       "9    0.008831  550.925065  0.024793   11.330715       0.231624  0.004218   \n",
       "\n",
       "   error_IMAX  \n",
       "0    1.342285  \n",
       "1    1.546347  \n",
       "2    0.254055  \n",
       "3    0.178710  \n",
       "4    0.250304  \n",
       "5    0.180003  \n",
       "6    0.070467  \n",
       "7    0.057811  \n",
       "8    0.033509  \n",
       "9    0.036550  "
      ]
     },
     "metadata": {},
     "output_type": "display_data"
    }
   ],
   "source": [
    "λcenter_list = []\n",
    "a_list = []\n",
    "IMAX_list = []\n",
    "error_λcenter_list = []\n",
    "error_a_list = []\n",
    "error_IMAX_list = []\n",
    "sigmay = [] # contiene l'errore propagato con x\n",
    "for λ_col, I_col in zip(WAVELENGHTS, INTENSITIES):\n",
    "    Λ = data[λ_col]\n",
    "    I = data[I_col]\n",
    "    Λmaxcenter = I.idxmax()\n",
    "\n",
    "    λcenter = Λ[Λmaxcenter] # guess\n",
    "    IMAX = I.max() # guess\n",
    "    a = 1 # guess\n",
    "\n",
    "    xrangemax = Λ[Λmaxcenter-5:Λmaxcenter+5] # 10 points around the max\n",
    "    yrangemax = I[Λmaxcenter-5:Λmaxcenter+5] # 10 points around the max\n",
    "    # ---- per considerare errore su lambda di 1.5nm\n",
    "    # iterazione 0\n",
    "    popt, pcov = curve_fit(max_fit_parabolic, xrangemax, yrangemax, p0=[λcenter, a, IMAX])\n",
    "    λcenter, a, IMAX = popt\n",
    "    error_λcenter, error_a, error_IMAX = np.sqrt(np.diag(pcov))\n",
    "    # iterazione 1\n",
    "    dydl = np.abs(-2*a*(λcenter-xrangemax)) # derivata prima rispetto a λ\n",
    "    sy = dydl*SIGMA_LAMBDA\n",
    "    popt, pcov = curve_fit(max_fit_parabolic, xrangemax, yrangemax, p0=[λcenter, a, IMAX],sigma=sy)\n",
    "    λcenter, a, IMAX = popt\n",
    "    error_λcenter, error_a, error_IMAX = np.sqrt(np.diag(pcov))\n",
    "    # iterazione 2\n",
    "    d2ydl2 = np.abs(-2*a) # derivata seconda rispetto a λ\n",
    "    sy = np.sqrt((dydl*SIGMA_LAMBDA)**2 + (0.5*d2ydl2*SIGMA_LAMBDA**2)) # errore propagato\n",
    "    popt, pcov = curve_fit(max_fit_parabolic, xrangemax, yrangemax, p0=[λcenter, a, IMAX],sigma=sy)\n",
    "    λcenter, a, IMAX = popt\n",
    "    error_λcenter, error_a, error_IMAX = np.sqrt(np.diag(pcov))\n",
    "\n",
    "    λcenter_list.append(λcenter)\n",
    "    a_list.append(a)\n",
    "    IMAX_list.append(IMAX)\n",
    "    error_λcenter_list.append(error_λcenter)\n",
    "    error_a_list.append(error_a)\n",
    "    error_IMAX_list.append(error_IMAX)\n",
    "    sigmay.append(sy)\n",
    "\n",
    "# to numpy\n",
    "λcenter_list = np.array(λcenter_list)\n",
    "a_list = np.array(a_list)\n",
    "IMAX_list = np.array(IMAX_list)\n",
    "error_λcenter_list = np.array(error_λcenter_list)\n",
    "error_a_list = np.array(error_a_list)\n",
    "error_IMAX_list = np.array(error_IMAX_list)\n",
    "sigmay = np.array(sigmay)\n",
    "\n",
    "print('Tabella con i fit di tutti i picchi delle parabole')\n",
    "max_fit_parabolic_dataframe = pd.DataFrame({'Absorbance': ASS, 'λcenter': λcenter_list, 'a': a_list, 'IMAX': IMAX_list, 'error_λcenter': error_λcenter_list, 'error_a': error_a_list, 'error_IMAX': error_IMAX_list})\n",
    "display(max_fit_parabolic_dataframe)\n"
   ]
  },
  {
   "cell_type": "code",
   "execution_count": 13,
   "metadata": {},
   "outputs": [
    {
     "name": "stdout",
     "output_type": "stream",
     "text": [
      "λcenter = 551.94 ± 1.11 nm\n",
      "NOTA: sigmaLambda dichiarata dal costruttore vale 1.5nm e quindi è compatibile con il valore di sigma trovato\n"
     ]
    }
   ],
   "source": [
    "center = np.mean(λcenter_list)\n",
    "sigma = np.std(λcenter_list)\n",
    "print('λcenter =', final_val(center, sigma, udm='nm'))\n",
    "print('NOTA: sigmaLambda dichiarata dal costruttore vale 1.5nm e quindi è compatibile con il valore di sigma trovato')"
   ]
  },
  {
   "cell_type": "code",
   "execution_count": 14,
   "metadata": {},
   "outputs": [
    {
     "data": {
      "application/vnd.plotly.v1+json": {
       "config": {
        "plotlyServerURL": "https://plot.ly"
       },
       "data": [
        {
         "mode": "lines",
         "name": "0.48",
         "type": "scatter",
         "x": {
          "bdata": "fi0BG3+mgEAVHwJ75a6AQMIKCTsEtoBAYJD8mmq+gEDdmAGbvMaAQKRtBLvvzYBAKAr8ukHWgEDA+/waqN6AQGznA9vG5YBABNkEOy3ugEB+LQEbf/aAQBUfAnvl/oBAwgoJOwQGgUBgkPyaag6BQN2YAZu8FoFApG0Eu+8dgUAE2QQ7LSaBQGCQ/JpqLoFAwPv8Gqg2gUAVHwJ75T6BQKRtBLvvRYFABNkEOy1OgUBgkPyaalaBQMD7/BqoXoFAFR8Ce+VmgUCkbQS7722BQCgK/LpBdoFAwPv8Gqh+gUBs5wPbxoWBQATZBDstjoFAfi0BG3+WgUAVHwJ75Z6BQMIKCTsEpoFAYJD8mmqugUDdmAGbvLaBQKRtBLvvvYFABNkEOy3GgUBgkPyaas6BQMD7/Bqo1oFAFR8Ce+XegUCkbQS77+WBQATZBDst7oFAYJD8mmr2gUDA+/waqP6BQBUfAnvlBoJApG0Eu+8NgkAoCvy6QRaCQMD7/BqoHoJAbOcD28YlgkAE2QQ7LS6CQH4tARt/NoJAFR8Ce+U+gkDCCgk7BEaCQGCQ/JpqToJA3ZgBm7xWgkCkbQS7712CQATZBDstZoJAYJD8mmpugkDA+/waqHaCQBUfAnvlfoJApG0Eu++FgkAE2QQ7LY6CQGCQ/JpqloJAwPv8GqiegkAVHwJ75aaCQKRtBLvvrYJAwgoJOwS2gkAE2QQ7Lb6CQCgK/LpBxoJAYJD8mmrOgkB+LQEbf9aCQMD7/Bqo3oJA3ZgBm7zmgkAVHwJ75e6CQIqECFvb9YJApG0Eu+/9gkAE2QQ7LQaDQGCQ/JpqDoNAwPv8GqgWg0AVHwJ75R6DQKRtBLvvJYNABNkEOy0ug0BgkPyaajaDQMD7/BqoPoNAFR8Ce+VGg0CkbQS7702DQATZBDstVoNAYJD8mmpeg0DA+/waqGaDQBUfAnvlboNApG0Eu+91g0AE2QQ7LX6DQGCQ/JpqhoNAwPv8GqiOg0AVHwJ75ZaDQKRtBLvvnYNAwgoJOwSmg0AE2QQ7La6DQCgK/LpBtoNAYJD8mmq+g0B+LQEbf8aDQMD7/BqozoNA3ZgBm7zWg0AVHwJ75d6DQIqECFvb5YNApG0Eu+/tg0DCCgk7BPaDQATZBDst/oNAKAr8ukEGhEBgkPyaag6EQH4tARt/FoRAwPv8GqgehEDdmAGbvCaEQBUfAnvlLoRAioQIW9s1hECkbQS77z2EQMIKCTsERoRA",
          "dtype": "f8"
         },
         "y": {
          "bdata": "ntZ78j2GQEB+w/cEcpBCQIQlfWsoZURAhOJx4OP0RkADqy683Z1JQNz6GoorZ0tAmKuNFRCNTkAqG83jfYxQQNDiRLznnFFAw//RF0bQUkCrxyNtDRNUQDVSBNlIGFVAJ7V1GzHfVUB3ESpUv8NWQI93pR1wZVdAleLe4ZoZWECnvItfs2dYQDGJ5Ey6vlhAURUfPAy3WEAAAAAAAABZQJ9i5+jA9FhAPXU2jZS/WEBQuVSYqlZYQLqACTYLnldAvYQsseCUV0AsiqXXTBNXQEgdps8tR1ZAVZcXvB4rVkB6TX9WxGVVQA7o+YiIv1RAKlX/SWwNVEDOD4OMQk5TQIsas9NVrVJAJupp3MYKUkCoBifmS6FRQCDLqpKM2VBAVgvYe2YbUEA0qxvMbK9OQIeXwh6xq01Awiq+hvBaTEBl6MDEVqJLQAxz6GzEQUpA1P61i7ImSUA40A8Qf0RIQPxiM4tvQ0dA923JFNyaRkDboHG7pJtFQPkIXz/ptURAEVdq2mI7RECUoQ3v415DQIu0gPu7l0JAictXtEwDQkDU4+g7LY1BQGtNd7Ss6kBAm8ciUtJxQEC/AKnYRcQ/QMAdiXF25D5AUcXZstv6PUDrkscIF+E8QCq3cPBeRzxAHuLAN04aO0CsNJsRYEA6QFFPOh1YljlARps2HLLXOEBZbLvq1x44QHkLH1QrZTdA+uKwV3urNkBCp3EXQt81QICuv0MOBDVApZfl4jY4NECF1DWvraUzQL5LtMwe6TJAr4tvnFQWMkDRw+0bRF4xQCnQti/2xzBA4nJJ3nkaMECk/BZD2wwvQFDXztea1C1AqU7QufqNLEDRF7Ewnz0rQNm06LI6ZipAhPivNjVSKUAZkdrZOUQoQH5ZT2kHPidAzfSlZ8j0JUDr7Hr+JiolQOK79o2SQSRAxLvOlqo/I0D6m2r7/3oiQPxjVGsQVCFAvTpKc7rcIEBGOaR/o94fQJgFXlGV3B5AcwPXFLtFHUB02QIPyN0bQO3DKEmS1hpAyHkZJHBfGUBRtjhAMyAYQEv2+ZiiLBdAwBBLrXn6FUAKQ9M/+f4UQEz/ToEbTxRAh8XPbdo0E0AgRrfvWVsSQJstSOK8yBFAm+/2bVHREECdGiyPSyEQQFfHwwJ1Ew9A+cc/+2CADUAMTaXdYUsMQN6WVQU9GgtAgA2IIAH9CUBTfU3jY+QIQFy2sBBh4gdA8ZfmnKvYBkCizsGQl0AGQBMRLvoEEgVA",
          "dtype": "f8"
         }
        },
        {
         "mode": "lines",
         "name": "0.35",
         "type": "scatter",
         "x": {
          "bdata": "1KC+y+mogEBrkr8rULGAQBh+xutuuIBAtgO6S9XAgEAzDL9LJ8mAQPrgwWta0IBAfn25a6zYgEAWb7rLEuGAQMJawYsx6IBAWkzC65fwgEDUoL7L6fiAQGuSvytQAYFAGH7G624IgUC2A7pL1RCBQDMMv0snGYFA+uDBa1oggUBaTMLrlyiBQLYDukvVMIFAFm+6yxI5gUBrkr8rUEGBQPrgwWtaSIFAWkzC65dQgUC2A7pL1ViBQBZvussSYYFAa5K/K1BpgUD64MFrWnCBQH59uWuseIFAFm+6yxKBgUDCWsGLMYiBQFpMwuuXkIFA1KC+y+mYgUBrkr8rUKGBQBh+xutuqIFAtgO6S9WwgUAzDL9LJ7mBQPrgwWtawIFAWkzC65fIgUC2A7pL1dCBQBZvussS2YFAa5K/K1DhgUD64MFrWuiBQFpMwuuX8IFAtgO6S9X4gUAWb7rLEgGCQGuSvytQCYJA+uDBa1oQgkB+fblrrBiCQBZvussSIYJAwlrBizEogkBaTMLrlzCCQNSgvsvpOIJAa5K/K1BBgkAYfsbrbkiCQLYDukvVUIJAMwy/SydZgkD64MFrWmCCQFpMwuuXaIJAtgO6S9VwgkAWb7rLEnmCQGuSvytQgYJA+uDBa1qIgkBaTMLrl5CCQLYDukvVmIJAFm+6yxKhgkBrkr8rUKmCQPrgwWtasIJAGH7G6264gkBaTMLrl8CCQH59uWusyIJAtgO6S9XQgkDUoL7L6diCQBZvussS4YJAMwy/SyfpgkBrkr8rUPGCQOD3xQtG+IJA+uDBa1oAg0BaTMLrlwiDQLYDukvVEINAFm+6yxIZg0Brkr8rUCGDQPrgwWtaKINAWkzC65cwg0C2A7pL1TiDQBZvussSQYNAa5K/K1BJg0D64MFrWlCDQFpMwuuXWINAtgO6S9Vgg0AWb7rLEmmDQGuSvytQcYNA+uDBa1p4g0BaTMLrl4CDQLYDukvViINAFm+6yxKRg0Brkr8rUJmDQPrgwWtaoINAGH7G626og0BaTMLrl7CDQH59uWusuINAtgO6S9XAg0DUoL7L6ciDQBZvussS0YNAMwy/SyfZg0Brkr8rUOGDQOD3xQtG6INA+uDBa1rwg0AYfsbrbviDQFpMwuuXAIRAfn25a6wIhEC2A7pL1RCEQNSgvsvpGIRAFm+6yxIhhEAzDL9LJymEQGuSvytQMYRA4PfFC0Y4hED64MFrWkCEQBh+xutuSIRA",
          "dtype": "f8"
         },
         "y": {
          "bdata": "+VnyePS6QUDaqqh0JdNDQE54ubW4okVAxY1sL3hJSEA3GU2aA/pKQIgmCRN0+kxA16JTZlfCT0B9Q4Hb2SBRQM/Q9/AhHlJA3TzN92BHU0C1thYo12lUQMDlUdb6cVVAdUv8edgRVkBxQgBHufRWQHw9Hw9RlFdAoq0VkwQeWECzCNTFQWNYQN+QLwd5mlhAm06sPzu/WEAAAAAAAABZQJr7L92fo1hA6L/zCD6DWEAuAwLWDB5YQK9PghdO2ldAE7KG5NVBV0D4JOFx8ddWQNBqLZ9ZQVZAkBiXmiKzVUB33b1nyDxVQErgRwL5jVRApdCQfxPLU0B9/nuhc/lSQPLcQ7YNclJA+KK6USTXUUBkW+udLipRQKpflN//oVBARUbHuVDPT0D/wnHlt5JOQNyv66cQRk1ARgE5+0T/S0AfXnK2ThpLQJRJMjS1EEpADLaMCeDeSEAQ4FvU38JHQHX6CYW+80ZAPaTRMS0kRkDxxqndO0hFQINhXc0HbkRAnfm9vzbKQ0BDRdZv1hJDQMu+PSfockJAcNVfglLPQUDYtAH6Ek9BQDrgyGAtpUBAHy1cdScxQED+frj3sjc/QE8bSXmYbj5AlUEo8VtjPUA4BPZcu2E8QDPwVz6tmTtAhzF/Y1TSOkCn9X3hp9g5QF5FEeesEzlAG0ownQUhOECUvqTM8IE3QFL4E6qx6zZAs13MORkZNkDFDKePSk81QCdxbeG7jjRAISlRnVrWM0DZzXxxNyQzQJdgHdByVjJA2OSOWJGsMUBGQRPOLQ0xQJD7/r07ZzBAIZBji5+AL0CPUvHGoGUuQNhSE9MaGS1APUWqS6fwK0CVDzZ7Nc4qQL4dkBrn9ylAJs7GG/PKKEDthBh2I7EnQFb8fRQ/jiZAZwHaXtKuJUD60R320eckQGTY4+VQ6iNAXf65P0oYI0CayWWq1TAiQJiEmOxJaCFA7qKSp0mgIEAd6HPhH6cfQGj8g6DoOh5AH4wxRbruHED92j1nK7IbQCZuT8h6WRpAQpATevRcGUAsZ82NheQXQG+ZIqoqxBZAuPQZl2C/FUAlwP+Yk9UUQFKqFch65RNA86RXgxP6EkCJI0m6pPkRQIzTbewHkhFAy4pZLKu9EEBkDpkClgkQQBXDgkxEbQ5AHbH59jZYDUAoi8FQlcELQJdACluyzwpAjJ8DEqtQCUBtx9KtzmsIQCk3XRsrRgdA5es+8DiLBkDp8n95RrgFQEJIRBIkugRA",
          "dtype": "f8"
         }
        },
        {
         "mode": "lines",
         "name": "0.26",
         "type": "scatter",
         "x": {
          "bdata": "r+hrSsewgEBG2myqLbmAQPPFc2pMwIBAkUtnyrLIgEAOVGzKBNGAQNUob+o32IBAWcVm6onggEDxtmdK8OiAQJ2ibgoP8IBANZRvanX4gECv6GtKxwCBQEbabKotCYFA88VzakwQgUCRS2fKshiBQA5UbMoEIYFA1Shv6jcogUA1lG9qdTCBQJFLZ8qyOIFA8bZnSvBAgUBG2myqLUmBQNUob+o3UIFANZRvanVYgUCRS2fKsmCBQPG2Z0rwaIFARtpsqi1xgUDVKG/qN3iBQFnFZuqJgIFA8bZnSvCIgUCdom4KD5CBQDWUb2p1mIFAr+hrSseggUBG2myqLamBQPPFc2pMsIFAkUtnyrK4gUAOVGzKBMGBQNUob+o3yIFANZRvanXQgUCRS2fKstiBQPG2Z0rw4IFARtpsqi3pgUDVKG/qN/CBQDWUb2p1+IFAkUtnyrIAgkDxtmdK8AiCQEbabKotEYJA1Shv6jcYgkBZxWbqiSCCQPG2Z0rwKIJAnaJuCg8wgkA1lG9qdTiCQK/oa0rHQIJARtpsqi1JgkDzxXNqTFCCQJFLZ8qyWIJADlRsygRhgkDVKG/qN2iCQDWUb2p1cIJAkUtnyrJ4gkDxtmdK8ICCQEbabKotiYJA1Shv6jeQgkA1lG9qdZiCQJFLZ8qyoIJA8bZnSvCogkBG2myqLbGCQNUob+o3uIJA88VzakzAgkA1lG9qdciCQFnFZuqJ0IJAkUtnyrLYgkCv6GtKx+CCQPG2Z0rw6IJADlRsygTxgkBG2myqLfmCQLs/c4ojAINA1Shv6jcIg0A1lG9qdRCDQJFLZ8qyGINA8bZnSvAgg0BG2myqLSmDQNUob+o3MINANZRvanU4g0CRS2fKskCDQPG2Z0rwSINARtpsqi1Rg0DVKG/qN1iDQDWUb2p1YINAkUtnyrJog0DxtmdK8HCDQEbabKoteYNA1Shv6jeAg0A1lG9qdYiDQJFLZ8qykINA8bZnSvCYg0BG2myqLaGDQNUob+o3qINA88Vzakywg0A1lG9qdbiDQFnFZuqJwINAkUtnyrLIg0Cv6GtKx9CDQPG2Z0rw2INADlRsygThg0BG2myqLemDQLs/c4oj8INA1Shv6jf4g0DzxXNqTACEQDWUb2p1CIRAWcVm6okQhECRS2fKshiEQK/oa0rHIIRA8bZnSvAohEAOVGzKBDGEQEbabKotOYRAuz9ziiNAhEDVKG/qN0iEQPPFc2pMUIRA",
          "dtype": "f8"
         },
         "y": {
          "bdata": "oRe7p43dREAQU5Gt0C1HQDbaObnuKklAjYOjakCuS0Bme7JkAJdOQJZObSW3JFBAQMDjZ+h4UUBJBvCayLBSQIw3GuhmhlNA74EG3BKOVEC1XvKkqLBVQP0081tfX1ZA2ULmJP04V0BMboUKGHhXQNdaclLVM1hA4h9jtq+GWEDtmqpaYcpYQHitqHqy6VhAAAAAAAAAWUCcU1iqtOVYQGGVsGlSsFhAK8SYxNVcWEDNyNSMtgRYQJS+98SyYldAVux7T4TgVkBQkB3Y739WQO2GU8/AzlVAqePbQL0xVUAY5tQYpMVUQDSczgePGVRArvYMNdxtU0DMqIh9MY5SQItLqFiC9lFA9TQ9muBwUUCPdFR+c6lQQII2NEwp4E9AWINvRuv3TkBCZ46gCalNQL3rxFEptkxAOhK034hTS0CFOnpdoWdKQOAkdqmP+0hAM1Ph6lIgSEAnsX8LUT9HQBgS1Ea7akZAjJheQa52RUAXPYVSJ+JEQGgL53pp7kNAu723a7M7Q0CwYF0vv5VCQO3mlwfB60FAz7HwP19JQUCY8N8M/tJAQCpvoBCIQkBAtOHxZfiNP0DY1oTOapM+QMvjq28Mez1AIhvXTyCePEBU1hzWk787QEp5VLxK0jpANTf2ptb3OUBPEwdAWA05QPyJ/KTKVjhARbA0uACPN0D0RLAs+MY2QNvE46MJJDZA3jEkz/yENUC/i6Fef780QA8CjwaEyDNAXeAXCspGM0CbJc18a4QyQKz5XxC0sTFA3WDKn2QhMUDDYi6FoLEwQJhK23IBGjBA4M1lvtPFLkAy+OcNAnYtQDc8HNhKZSxAEYTBguFWK0DpkYWLr/opQJhg5fQwaSlAvmuK+qI9KEAP2va6g+8mQNBBlR4oISZAXK84urwAJUBl5kJERT4kQIMhjjkIbyNAQa6cjy+CIkBK2Q6TPb8hQCq6EKpvyCBAZ55NYwcZIEDcbg/NQtweQCBL6T2KdR1Ajq6jaoz5G0Ct8UntWcMaQCtaZ4zbyRlAlepAiDJDGECdkoiWY0YXQKRM+YMoERZAe/1IDtIjFUA45oRHwRAUQFBviBLUAhNAWMXUAwFVEkBSkkRWMasRQMOUiQqGIxFA4a6jsUg5EEB/1jQf/pUOQJdSgT48Zw1AUiKFkalhDEBNVDu2TyILQDC09/rlkQlAEayBwPm7CED0+78UGpYHQBPRHvU8VQZAWtk0WhQIBkB2PxDFXcoEQBFVgD+jHQRA",
          "dtype": "f8"
         }
        },
        {
         "mode": "lines",
         "name": "0.17",
         "type": "scatter",
         "x": {
          "bdata": "1QGxCe63gEBs87FpVMCAQBnfuClzx4BAt2SsidnPgEA0bbGJK9iAQPtBtKle34BAf96rqbDngEAX0KwJF/CAQMO7s8k194BAW620KZz/gEDVAbEJ7geBQGzzsWlUEIFAGd+4KXMXgUC3ZKyJ2R+BQDRtsYkrKIFA+0G0qV4vgUBbrbQpnDeBQLdkrInZP4FAF9CsCRdIgUBs87FpVFCBQPtBtKleV4FAW620KZxfgUC3ZKyJ2WeBQBfQrAkXcIFAbPOxaVR4gUD7QbSpXn+BQH/eq6mwh4FAF9CsCReQgUDDu7PJNZeBQFuttCmcn4FA1QGxCe6ngUBs87FpVLCBQBnfuClzt4FAt2Ssidm/gUA0bbGJK8iBQPtBtKlez4FAW620KZzXgUC3ZKyJ2d+BQBfQrAkX6IFAbPOxaVTwgUD7QbSpXveBQFuttCmc/4FAt2SsidkHgkAX0KwJFxCCQGzzsWlUGIJA+0G0qV4fgkB/3qupsCeCQBfQrAkXMIJAw7uzyTU3gkBbrbQpnD+CQNUBsQnuR4JAbPOxaVRQgkAZ37gpc1eCQLdkrInZX4JANG2xiStogkD7QbSpXm+CQFuttCmcd4JAt2Ssidl/gkAX0KwJF4iCQGzzsWlUkIJA+0G0qV6XgkBbrbQpnJ+CQLdkrInZp4JAF9CsCRewgkBs87FpVLiCQPtBtKlev4JAGd+4KXPHgkBbrbQpnM+CQH/eq6mw14JAt2SsidnfgkDVAbEJ7ueCQBfQrAkX8IJANG2xiSv4gkBs87FpVACDQOFYuElKB4NA+0G0qV4Pg0BbrbQpnBeDQLdkrInZH4NAF9CsCRcog0Bs87FpVDCDQPtBtKleN4NAW620KZw/g0C3ZKyJ2UeDQBfQrAkXUINAbPOxaVRYg0D7QbSpXl+DQFuttCmcZ4NAt2Ssidlvg0AX0KwJF3iDQGzzsWlUgINA+0G0qV6Hg0BbrbQpnI+DQLdkrInZl4NAF9CsCRegg0Bs87FpVKiDQPtBtKler4NAGd+4KXO3g0BbrbQpnL+DQH/eq6mwx4NAt2SsidnPg0DVAbEJ7teDQBfQrAkX4INANG2xiSvog0Bs87FpVPCDQOFYuElK94NA+0G0qV7/g0AZ37gpcweEQFuttCmcD4RAf96rqbAXhEC3ZKyJ2R+EQNUBsQnuJ4RAF9CsCRcwhEA0bbGJKziEQGzzsWlUQIRA4Vi4SUpHhED7QbSpXk+EQBnfuClzV4RA",
          "dtype": "f8"
         },
         "y": {
          "bdata": "C7cHQsCQRkDqTacRsdNIQGcf6isbo0pAbDG1mS6PTUBEnEJ+JylQQJWVqROBGVFAMPKbEq9aUkAOEUimo29TQHKuL2F8RFRAi+DNJiRwVUCfJ2XgTjpWQN12P25JAFdAqDj2d/+XV0AQFFfGwxxYQCJcg6JXmVhA3kurhh7jWEAP87OvX+9YQAAAAAAAAFlA5MgTUEDuWEAKm6QcGcVYQFrwE2ObjFhADT///KU1WEDQlAfysvBXQCLgENiMVldA3MXPk7fFVkA8M0zAdF1WQBlMna2WwlVAJ7iLz4cXVUARYQY3tqNUQEitlKG46VNATZuM5+EpU0AmxqX9mX1SQMSGmQtW6FFAdQkyobpSUUAnAXZuw5JQQF+2GwtV8U9AWufuRmjLTkDZbphb0EFNQB1BPQdKRkxANtzh2ncKS0C80FZuZt1JQJFrYUJh4UhAN97n4vfLR0DzXFjMBOJGQBYglrAHG0ZA+HKjgk0URUAuXx0tqV1EQEma2vkhokNAsfy10zTzQkDrgWGMd1lCQD1mbN2SskFAjrGWtNLpQECVwgjOaHtAQD1yrAMyAEBAtGZqLWTwPkDNhC+00PE9QBhR+qyoAz1A6Aef+uHeO0ChETMxhgY7QG2hmTPOSzpA7hmWagavOUBbK9obyng4QBW80Euh2jdAm0biGWwrN0AybX1dqWs2QD6dFSG+zDVAkSXUj10VNUCR1M9eWGw0QL9kUKQtrTNA2xZw5qzTMkC9MtwHSRkyQCcy500NoDFAPEQ9ffTjMEDUK1Y/tFwwQO+LkGRHmi9A0iYKEzQmLkAaSQpc0vEsQOWDxwWVyytAsFeAk4GkKkBX5CLhMrApQOMJPFL41ChAHOdvLAmyJ0BvDfGPDrwmQL4CkPzwlSVAB9N/yxCGJEBXQcq9NtgjQHj63U/1+CJAHAB6cHQ/IkBiJv2YgE0hQOA5FPXhdSBAFjR1UfXSH0Czq6JvfTEeQHukw49k4BxAaPtCSV9/G0D44QeP6EQaQA1DRogM8hhALOmINaISGEA2qzToIMYWQB9hmQx+ohVAd6PU+5mRFECX9X3WXMQTQPn+n8Fo7BJAxMhuBjIVEkBD1Pe/f0sRQMhR0EBLvRBAQpZH7eTPD0AEeZajjmwOQCVz2skE/QxA87INIjX4C0BLfUpZoYMKQMqy9D9/nQlABgfR7ZFeCECUYilPYSkHQMTY+FUdRAZA/SplvfHVBUDgvYz7EcIEQOJk7bLevQNA",
          "dtype": "f8"
         }
        },
        {
         "mode": "lines",
         "name": "0.09",
         "type": "scatter",
         "x": {
          "bdata": "WRQDpeW6gEDwBQQFTMOAQJ3xCsVqyoBAO3f+JNHSgEC4fwMlI9uAQH9UBkVW4oBAA/H9RKjqgECb4v6kDvOAQEfOBWUt+oBA378GxZMCgUBZFAOl5QqBQPAFBAVME4FAnfEKxWoagUA7d/4k0SKBQLh/AyUjK4FAf1QGRVYygUDfvwbFkzqBQDt3/iTRQoFAm+L+pA5LgUDwBQQFTFOBQH9UBkVWWoFA378GxZNigUA7d/4k0WqBQJvi/qQOc4FA8AUEBUx7gUB/VAZFVoKBQAPx/USoioFAm+L+pA6TgUBHzgVlLZqBQN+/BsWTooFAWRQDpeWqgUDwBQQFTLOBQJ3xCsVquoFAO3f+JNHCgUC4fwMlI8uBQH9UBkVW0oFA378GxZPagUA7d/4k0eKBQJvi/qQO64FA8AUEBUzzgUB/VAZFVvqBQN+/BsWTAoJAO3f+JNEKgkCb4v6kDhOCQPAFBAVMG4JAf1QGRVYigkAD8f1EqCqCQJvi/qQOM4JAR84FZS06gkDfvwbFk0KCQFkUA6XlSoJA8AUEBUxTgkCd8QrFalqCQDt3/iTRYoJAuH8DJSNrgkB/VAZFVnKCQN+/BsWTeoJAO3f+JNGCgkCb4v6kDouCQPAFBAVMk4JAf1QGRVaagkDfvwbFk6KCQDt3/iTRqoJAm+L+pA6zgkDwBQQFTLuCQH9UBkVWwoJAnfEKxWrKgkDfvwbFk9KCQAPx/USo2oJAO3f+JNHigkBZFAOl5eqCQJvi/qQO84JAuH8DJSP7gkDwBQQFTAODQGVrCuVBCoNAf1QGRVYSg0DfvwbFkxqDQDt3/iTRIoNAm+L+pA4rg0DwBQQFTDODQH9UBkVWOoNA378GxZNCg0A7d/4k0UqDQJvi/qQOU4NA8AUEBUxbg0B/VAZFVmKDQN+/BsWTaoNAO3f+JNFyg0Cb4v6kDnuDQPAFBAVMg4NAf1QGRVaKg0DfvwbFk5KDQDt3/iTRmoNAm+L+pA6jg0DwBQQFTKuDQH9UBkVWsoNAnfEKxWq6g0DfvwbFk8KDQAPx/USoyoNAO3f+JNHSg0BZFAOl5dqDQJvi/qQO44NAuH8DJSPrg0DwBQQFTPODQGVrCuVB+oNAf1QGRVYChECd8QrFagqEQN+/BsWTEoRAA/H9RKgahEA7d/4k0SKEQFkUA6XlKoRAm+L+pA4zhEC4fwMlIzuEQPAFBAVMQ4RAZWsK5UFKhEB/VAZFVlKEQJ3xCsVqWoRA",
          "dtype": "f8"
         },
         "y": {
          "bdata": "2cIWr2DjR0A4Tigu6mlKQONxcF4YkExAptYVgkzWTkA1qUXHW7RQQB7SCPOUw1FAKi3acY79UkDgZEHvMf1TQGB718eA4FRAqzjPUHTeVUADiSpNHKBWQHxgb5/yU1dA1phOx2bZV0CmMQNWYElYQApVXYvSpFhAg8PM+pvJWEBcNTP9Jt1YQAAAAAAAAFlAOYgulUPJWEDQHmSYTZFYQKdk/T5RN1hAnrfLSIkPWEC6o5WdsqJXQOQa6ulBOldACBZoQMirVkAg2Ts8rwBWQFoxhUfCX1VAuT6AajL+VED7UITu7RVUQNYgKfy/sVNAdWP9s0roUkAWrO5yWD5SQFUb6zxtplFAaDtXH1TbUEC294XrwSlQQO84iNtzPk9AX/jn1vvhTUCIezZGCM5MQD/PoOT2K0tAQAAGTEg1SkC4/OnIU2BJQKoIrLKfekhA0JfTdy9pR0BIh+KKYW1GQDrWZ1ZWf0VAb8TMX4ykREDp1KK2Z+hDQHheMuRGNENAfPs4dBZvQkBunqwvP55BQK8oOLL3R0FA2cxL53SmQEChkOgUfx9AQD5jkx6oOT9AsfZ8x8FRPkAsB3CqNkk9QKcNbvhIbTxAeSp+gfN1O0BMyzQDcMs6QDYvApaa5zlAfuwM+dXnOEAv0cgVVT84QG/FWJWxYTdA7AZVBm6cNkCDUW5Egf41QLzWbo5HUDVAyxJ0qzC4NEDqCTN0UekzQDlgMsFJCTNA9KlwJ6BVMkCICZJKGMQxQB911C11DTFAbD4cz8RxMECuW5Z32asvQGgs6uwnnC5A3vAqchWELUBJQCsniFgsQHy4moBqXCtA+hDn3rlVKkBq5gSRD+IoQKf30N1CSihAz7OiqWEgJ0D6CA6RtSsmQI+cgAMLASVAHUAXHUMPJEB+HxM6y0MjQFQ7GC3dkiJAlpNe5jfTIUDI9LT7jPQgQDMEnGeu7B9AqEdM5QKoHkBVb7t4EHgdQIepec6d9RtAUw2vubXkGkAi3r+nnsoZQJWRCA6dgxhA4RN8pexZF0DIJ8sX7mkWQGpMRDPILBVAtiKSQutFFEAJV9ggOD0TQAqk27XBbxJALKK7iOW8EUCNa09AE/UQQAHC2PRfOhBASw1j4KkgD0BI0ky/T4UNQOkfLyJOfwxAh7usjXJ5C0BUpK4bJjsKQFIiTz/C/whAX+Nwq67YB0BpmQktt1wGQGzxPpUesAVAIyYKUKfnBEB3PNyzc4kEQFGsJFDkXwNA",
          "dtype": "f8"
         }
        },
        {
         "mode": "lines",
         "name": "0.07",
         "type": "scatter",
         "x": {
          "bdata": "eVWYQ568gEAQR5mjBMWAQL0yoGMjzIBAW7iTw4nUgEDYwJjD29yAQJ+Vm+MO5IBAIzKT42DsgEC7I5RDx/SAQGcPmwPm+4BA/wCcY0wEgUB5VZhDngyBQBBHmaMEFYFAvTKgYyMcgUBbuJPDiSSBQNjAmMPbLIFAn5Wb4w40gUD/AJxjTDyBQFu4k8OJRIFAuyOUQ8dMgUAQR5mjBFWBQJ+Vm+MOXIFA/wCcY0xkgUBbuJPDiWyBQLsjlEPHdIFAEEeZowR9gUCflZvjDoSBQCMyk+NgjIFAuyOUQ8eUgUBnD5sD5puBQP8AnGNMpIFAeVWYQ56sgUAQR5mjBLWBQL0yoGMjvIFAW7iTw4nEgUDYwJjD28yBQJ+Vm+MO1IFA/wCcY0zcgUBbuJPDieSBQLsjlEPH7IFAEEeZowT1gUCflZvjDvyBQP8AnGNMBIJAW7iTw4kMgkC7I5RDxxSCQBBHmaMEHYJAn5Wb4w4kgkAjMpPjYCyCQLsjlEPHNIJAZw+bA+Y7gkD/AJxjTESCQHlVmEOeTIJAEEeZowRVgkC9MqBjI1yCQFu4k8OJZIJA2MCYw9tsgkCflZvjDnSCQP8AnGNMfIJAW7iTw4mEgkC7I5RDx4yCQBBHmaMElYJAn5Wb4w6cgkD/AJxjTKSCQFu4k8OJrIJAuyOUQ8e0gkAQR5mjBL2CQJ+Vm+MOxIJAvTKgYyPMgkD/AJxjTNSCQCMyk+Ng3IJAW7iTw4nkgkB5VZhDnuyCQLsjlEPH9IJA2MCYw9v8gkAQR5mjBAWDQIWsn4P6C4NAn5Wb4w4Ug0D/AJxjTByDQFu4k8OJJINAuyOUQ8csg0AQR5mjBDWDQJ+Vm+MOPINA/wCcY0xEg0BbuJPDiUyDQLsjlEPHVINAEEeZowRdg0CflZvjDmSDQP8AnGNMbINAW7iTw4l0g0C7I5RDx3yDQBBHmaMEhYNAn5Wb4w6Mg0D/AJxjTJSDQFu4k8OJnINAuyOUQ8ekg0AQR5mjBK2DQJ+Vm+MOtINAvTKgYyO8g0D/AJxjTMSDQCMyk+NgzINAW7iTw4nUg0B5VZhDntyDQLsjlEPH5INA2MCYw9vsg0AQR5mjBPWDQIWsn4P6+4NAn5Wb4w4EhEC9MqBjIwyEQP8AnGNMFIRAIzKT42AchEBbuJPDiSSEQHlVmEOeLIRAuyOUQ8c0hEDYwJjD2zyEQBBHmaMERYRAhayfg/pLhECflZvjDlSEQL0yoGMjXIRA",
          "dtype": "f8"
         },
         "y": {
          "bdata": "uxR6IodaSEAUEZ2SZb1KQIzWanAf1UxAkG8lZ9MuT0CwUtFu6udQQEf7x7t+4VFAOxhu+sEtU0BTy7yvqxhUQAX1lNhWvVRAjyqK3TzKVUC+Bj60Q6FWQJxNvlvuUldATxZrEEGoV0Ds24rbfWJYQOgdQR42pVhA7G+rAlngWEAAAAAAAABZQDkpQ7786FhAq0k/iVq3WEA3/CZIxJNYQGsxN+5AclhAM49qsLD2V0AbwmQZ4JRXQOP42fX5MVdA0DgBj7mJVkDqqu2HCCBWQEWNnI/7fVVA2Cq+Cw2qVEA1UaV3BERUQBBh0op5hlNAp5oAYVUHU0CQz/hd8iVSQM5DpXevflFAEdqGzXPNUEBbxsp07TRQQEEATaqEL09A63oTI5DJTUDIXgB4Nl5MQKim7nONxEtASvm7/jxBSkDmmaUWHGRJQEee6luEWEhAdoS+bWVtR0AGUr7SXF1GQJfgU9gdg0VAf4q1cL+yREANCZ2TRc1DQILvTQwBDENA7CHzpGSAQkBSlzQuz81BQAZK53cbJEFAdpKL1fmOQEB0plfzSjBAQN46AAdLFT9ABAklLulSPkDwDOUEEwc9QOXVRKKUdDxAW4CirnSIO0A76nzB75I6QF6V/eA73jlAc4L5bYwGOUCTr1Sr0C04QJg88ep8ZzdAh8AMBve9NkBkGwpWyP01QEKZ9K85hjVA1JnBX9KuNEB+NuPLjRQ0QDPwLxvXKjNA8rzZJheBMkDURGyhW9AxQFNPIi1rPTFAklNSaQyJMEA4HhnCRAswQHedtm1ImC5AnFgQ3yI+LUBAEpyqh4EsQP8oXxE7LytAEaI2lLksKkCut6uD/TgpQJVbnloRRihAkRc5KpT/JkB9qmJXOV0mQH1Mz64kNiVAY1eGrtsrJEATPb9Ki2cjQCRVQLXleCJAQQ6wI66dIUBqwXeSMeIgQHaZUr5KPCBAhniUvigQH0AbcXLMBmkdQAfEVTEnKRxA5dzxVP27GkDWKa1LPIsZQOTXlc6bzxhAgZz8NNSXF0DlzZE2gpcWQF56MCAYZhVAIxugw/qgFECPpstKF2wTQAZaKqz0ohJASGyw+azHEUBXwEvlcuEQQGJdHK+VkBBAgqhHVSavD0CCg38n6cUNQJmghJPOxgxArbzAln8lC0BQkljkjEMKQIr4xqtS5whAOiOKit2hB0D3/gE9tOkGQK3wyAEAJAZAjf9v7P2XBUAPc5kDh1YEQATwdjKuZQNA",
          "dtype": "f8"
         }
        },
        {
         "mode": "lines",
         "name": "0.05",
         "type": "scatter",
         "x": {
          "bdata": "pg+nsGS8gEA9AagQy8SAQOrsrtDpy4BAiHKiMFDUgEAFe6cwotyAQMxPqlDV44BAUOyhUCfsgEDo3aKwjfSAQJTJqXCs+4BALLuq0BIEgUCmD6ewZAyBQD0BqBDLFIFA6uyu0OkbgUCIcqIwUCSBQAV7pzCiLIFAzE+qUNUzgUAsu6rQEjyBQIhyojBQRIFA6N2isI1MgUA9AagQy1SBQMxPqlDVW4FALLuq0BJkgUCIcqIwUGyBQOjdorCNdIFAPQGoEMt8gUDMT6pQ1YOBQFDsoVAnjIFA6N2isI2UgUCUyalwrJuBQCy7qtASpIFApg+nsGSsgUA9AagQy7SBQOrsrtDpu4FAiHKiMFDEgUAFe6cwosyBQMxPqlDV04FALLuq0BLcgUCIcqIwUOSBQOjdorCN7IFAPQGoEMv0gUDMT6pQ1fuBQCy7qtASBIJAiHKiMFAMgkDo3aKwjRSCQD0BqBDLHIJAzE+qUNUjgkBQ7KFQJyyCQOjdorCNNIJAlMmpcKw7gkAsu6rQEkSCQKYPp7BkTIJAPQGoEMtUgkDq7K7Q6VuCQIhyojBQZIJABXunMKJsgkDMT6pQ1XOCQCy7qtASfIJAiHKiMFCEgkDo3aKwjYyCQD0BqBDLlIJAzE+qUNWbgkAsu6rQEqSCQIhyojBQrIJA6N2isI20gkA9AagQy7yCQMxPqlDVw4JA6uyu0OnLgkAsu6rQEtSCQFDsoVAn3IJAiHKiMFDkgkCmD6ewZOyCQOjdorCN9IJABXunMKL8gkA9AagQywSDQLJmrvDAC4NAzE+qUNUTg0Asu6rQEhyDQIhyojBQJINA6N2isI0sg0A9AagQyzSDQMxPqlDVO4NALLuq0BJEg0CIcqIwUEyDQOjdorCNVINAPQGoEMtcg0DMT6pQ1WODQCy7qtASbINAiHKiMFB0g0Do3aKwjXyDQD0BqBDLhINAzE+qUNWLg0Asu6rQEpSDQIhyojBQnINA6N2isI2kg0A9AagQy6yDQMxPqlDVs4NA6uyu0Om7g0Asu6rQEsSDQFDsoVAnzINAiHKiMFDUg0CmD6ewZNyDQOjdorCN5INABXunMKLsg0A9AagQy/SDQLJmrvDA+4NAzE+qUNUDhEDq7K7Q6QuEQCy7qtASFIRAUOyhUCcchECIcqIwUCSEQKYPp7BkLIRA6N2isI00hEAFe6cwojyEQD0BqBDLRIRAsmau8MBLhEDMT6pQ1VOEQOrsrtDpW4RA",
          "dtype": "f8"
         },
         "y": {
          "bdata": "SwZx+rTOSECIuo4zbLdKQM5i6rmHEU1AJglbaJ25T0BQRyIZ4jxRQNUnbjhdJlJAERmF3oRIU0Db5g6bpkhUQH4XjnAiQFVAe1KikN8VVkC+YVtUr9pWQMBnwIeaoFdAMhkbwR7xV0A3ATrwWmtYQBwDK/GLrFhABjfjcYvaWEAAAAAAAABZQLKA6NJD+VhA1cyRycHcWEAgaFI8vrVYQD7QVaLZOFhAGlAtns34V0BjayvDBI9XQKLp/QhWDFdAyRxQxAlpVkA+EBjgoSxWQE9qo3qrSFVAe7mu6j20VEDbG0GpAQ9UQLCYfOovjFNA3B4cuCPRUkAPfwX6nQ1SQDBGcZhJa1FA3KtbWNLQUEDhu0VTNDlQQFDNwcNO3U5AgNO4jXimTUD7cld/rlxMQFsYaN6YXktA2arlVkUeSkDOziDz5FpJQNhHHMynSUhAphieHFEYR0DZljHODktGQEuBolIANkVAF1wallusREAtn37kQQFEQDP/k4mZCENAuaW7Q8dUQkBLHV4TLb9BQPLMP48QHEFA286CDCmDQED9b9iazAhAQH0PRAhsWj9AUcYq8+sSPkDKjY4etgE9QM2QKIwvGjxAySavBckyO0A8NxmiATs6QAteJdw0vzlA67eAPDHsOEBgNCaC5AY4QGoP7EEgODdA3nAz35F1NkDvcop9VMQ1QAYvFCjzAjVARwBIumtVNEDeRRAakLwzQBIUNw6EHTNAAANQ3td7MkCutr6uinwxQFyhYCr3FTFAPM55DExOMEBQkmdPU5YvQE6JFQvxEi5ATkg5CYRRLUDqL7spuwAsQBmtf07tEytAGF0hwz2pKUDVfHHZwvAoQJLGyvCkIyhA5IXTQjWYJkCIA6ZGIeklQNbYhPMtDiVATGNJotTgI0AyFrb+hhcjQClj+Q7qPiJACbLszfKAIUAAu5zkZ68gQKvCNwlRTiBAHHy+jTv6HkBSI+sdBJcdQO7HgqimwBtAEKdrywrqGkD9rRxr2GwZQKdIo1ogJBhADGdVvrIPF0BYmWgT+uAVQEX48OA+QBVAkJtMqcflE0DBGrQV0ksTQGBRDgRvjRJAJ5qxcrizEUBjdV/tLbQQQPhC8ni8ORBAaC3WeLJ8DkCdJigmU1cNQBajZXkM/AtAp2TzEYObC0AKt95D0I0JQNMfRkznvghAmcsLQausB0BwBPBHJIQGQPd52uOWjQVAH+hNwQpQBUAraCR0NBIEQOdseHsnvgNA",
          "dtype": "f8"
         }
        },
        {
         "mode": "lines",
         "name": "0.04",
         "type": "scatter",
         "x": {
          "bdata": "+gy1TSC+gECR/rWthsaAQD7qvG2lzYBA3G+wzQvWgEBZeLXNXd6AQCBNuO2Q5YBApOmv7eLtgEA827BNSfaAQOjGtw1o/YBAgLi4bc4FgUD6DLVNIA6BQJH+ta2GFoFAPuq8baUdgUDcb7DNCyaBQFl4tc1dLoFAIE247ZA1gUCAuLhtzj2BQNxvsM0LRoFAPNuwTUlOgUCR/rWthlaBQCBNuO2QXYFAgLi4bc5lgUDcb7DNC26BQDzbsE1JdoFAkf61rYZ+gUAgTbjtkIWBQKTpr+3ijYFAPNuwTUmWgUDoxrcNaJ2BQIC4uG3OpYFA+gy1TSCugUCR/rWthraBQD7qvG2lvYFA3G+wzQvGgUBZeLXNXc6BQCBNuO2Q1YFAgLi4bc7dgUDcb7DNC+aBQDzbsE1J7oFAkf61rYb2gUAgTbjtkP2BQIC4uG3OBYJA3G+wzQsOgkA827BNSRaCQJH+ta2GHoJAIE247ZAlgkCk6a/t4i2CQDzbsE1JNoJA6Ma3DWg9gkCAuLhtzkWCQPoMtU0gToJAkf61rYZWgkA+6rxtpV2CQNxvsM0LZoJAWXi1zV1ugkAgTbjtkHWCQIC4uG3OfYJA3G+wzQuGgkA827BNSY6CQJH+ta2GloJAIE247ZCdgkCAuLhtzqWCQNxvsM0LroJAPNuwTUm2gkCR/rWthr6CQCBNuO2QxYJAPuq8baXNgkCAuLhtztWCQKTpr+3i3YJA3G+wzQvmgkD6DLVNIO6CQDzbsE1J9oJAWXi1zV3+gkCR/rWthgaDQAZkvI18DYNAIE247ZAVg0CAuLhtzh2DQNxvsM0LJoNAPNuwTUkug0CR/rWthjaDQCBNuO2QPYNAgLi4bc5Fg0Dcb7DNC06DQDzbsE1JVoNAkf61rYZeg0AgTbjtkGWDQIC4uG3ObYNA3G+wzQt2g0A827BNSX6DQJH+ta2GhoNAIE247ZCNg0CAuLhtzpWDQNxvsM0LnoNAPNuwTUmmg0CR/rWthq6DQCBNuO2QtYNAPuq8baW9g0CAuLhtzsWDQKTpr+3izYNA3G+wzQvWg0D6DLVNIN6DQDzbsE1J5oNAWXi1zV3ug0CR/rWthvaDQAZkvI18/YNAIE247ZAFhEA+6rxtpQ2EQIC4uG3OFYRApOmv7eIdhEDcb7DNCyaEQPoMtU0gLoRAPNuwTUk2hEBZeLXNXT6EQJH+ta2GRoRABmS8jXxNhEAgTbjtkFWEQD7qvG2lXYRA",
          "dtype": "f8"
         },
         "y": {
          "bdata": "VXL7KjFcSUAYhvFMEclLQNUkOPQLh01ASAqSN4X3T0CQsqDxHGdRQL3SoKzeTVJAHIkOxISUU0CVm1w51ctUQIAOAFuASVVAHEZq7M1PVkDCCBDuyftWQAD5n9tqv1dAhlD+N8MiWEDvds7BbKRYQEA18LyqplhAgA4lqin/WED///////9YQNsEaUWP91hA7lXfbFDjWED/3R6JPqhYQA0p/y8AP1hAQGWVXdPnV0BhUc+4dbxXQBgzSkF2/FZATnINx4B7VkBSrIFDfe9VQLx+QKlUIVVA/MT6sa2jVEAdTMt0ajtUQBEuDGgWWVNAh5MKqHbKUkCfCr64GQ5SQNu5LCbEfFFA0g4sLSvFUEA4gTP7fSFQQFE12nE2O09AUTDWKq2qTUCQySrwBYlMQHmOf5c7U0tAQcdsclI6SkDuiVPvZnNJQOB9QkovIkhAKx4afYF/R0AwOOV9mahGQAYqyH8nJkVAvDL04xaQRECXkFctg9ZDQBd93rztNkNAeTHJaSSCQkDkn+ypPItBQFpZRvbiFUFAHFsDU3edQEBoXMMYISZAQAiiIVgj7T5A11dCB3gsPkBWoHcqInY9QEncELcsQjxA2WDP6lBRO0B4sJm1hGA6QLUPVmhuVjlA2GP1LYuTOECua1iaNBE4QLWQl6BUVTdAoJ4l4ax1NkD3mTBCzOc1QC6E9+IYQzVA0FTNgVihNEDzg+KeEoszQLmdWn+T8DJAvHMhDXIrMkCXNvbP95oxQPIBWGU/+jBAdVCkc9imMEAVcHqMIFovQNLz64cieS5ATxAXla1xLUDB/aAXbjQsQFyYkOSoJStAWE3/8eYdKkASBo+1MP0oQNU0AJTEKChAbkZFYksoJ0BovEOANgomQHfTA2h/ACVAMvjJALJtJEAuTX4J/CojQCC5t851wSJANx2JA1G/IUC7QVsLAvUgQIhGq/uz7R9Aci6Ra9MmH0Ae+inQo/kdQFArLy0pVBxAPIoRZ5AOG0DfI4nKUi0ZQBgLx4ei5BhAicM08UrgF0BSQrDdEmwWQHVJ8F+ZURVAxYjFUUwzFEAt8OIjWMQSQI/1oQDPvBJAdN1JVpinEUDBxxsnjdcQQJ7mFnvmARBAJfZuflrUDkA2JPYxaT0OQJMUx3wnEQ1ACe4Ch89IC0ASrOboq20JQMRq1NNxEAlAAPxCQ+1TCEBQ3xdaQjUIQAVrfB5zyAVA1J4XnueVBUB1DNcYp34EQKWLlv6VjANA",
          "dtype": "f8"
         }
        },
        {
         "mode": "lines",
         "name": "0.02",
         "type": "scatter",
         "x": {
          "bdata": "UXE//P6/gEDoYkBcZciAQJVORxyEz4BAM9Q6fOrXgECw3D98POCAQHexQpxv54BA+006nMHvgECTPzv8J/iAQD8rQrxG/4BA1xxDHK0HgUBRcT/8/g+BQOhiQFxlGIFAlU5HHIQfgUAz1Dp86ieBQLDcP3w8MIFAd7FCnG83gUDXHEMcrT+BQDPUOnzqR4FAkz87/CdQgUDoYkBcZViBQHexQpxvX4FA1xxDHK1ngUAz1Dp86m+BQJM/O/wneIFA6GJAXGWAgUB3sUKcb4eBQPtNOpzBj4FAkz87/CeYgUA/K0K8Rp+BQNccQxytp4FAUXE//P6vgUDoYkBcZbiBQJVORxyEv4FAM9Q6fOrHgUCw3D98PNCBQHexQpxv14FA1xxDHK3fgUAz1Dp86ueBQJM/O/wn8IFA6GJAXGX4gUB3sUKcb/+BQNccQxytB4JAM9Q6fOoPgkCTPzv8JxiCQOhiQFxlIIJAd7FCnG8ngkD7TTqcwS+CQJM/O/wnOIJAPytCvEY/gkDXHEMcrUeCQFFxP/z+T4JA6GJAXGVYgkCVTkcchF+CQDPUOnzqZ4JAsNw/fDxwgkB3sUKcb3eCQNccQxytf4JAM9Q6fOqHgkCTPzv8J5CCQOhiQFxlmIJAd7FCnG+fgkDXHEMcraeCQDPUOnzqr4JAkz87/Ce4gkDoYkBcZcCCQHexQpxvx4JAlU5HHITPgkDXHEMcrdeCQPtNOpzB34JAM9Q6fOrngkBRcT/8/u+CQJM/O/wn+IJAsNw/fDwAg0DoYkBcZQiDQF3IRjxbD4NAd7FCnG8Xg0DXHEMcrR+DQDPUOnzqJ4NAkz87/Ccwg0DoYkBcZTiDQHexQpxvP4NA1xxDHK1Hg0Az1Dp86k+DQJM/O/wnWINA6GJAXGVgg0B3sUKcb2eDQNccQxytb4NAM9Q6fOp3g0CTPzv8J4CDQOhiQFxliINAd7FCnG+Pg0DXHEMcrZeDQDPUOnzqn4NAkz87/Ceog0DoYkBcZbCDQHexQpxvt4NAlU5HHIS/g0DXHEMcrceDQPtNOpzBz4NAM9Q6fOrXg0BRcT/8/t+DQJM/O/wn6INAsNw/fDzwg0DoYkBcZfiDQF3IRjxb/4NAd7FCnG8HhECVTkcchA+EQNccQxytF4RA+006nMEfhEAz1Dp86ieEQFFxP/z+L4RAkz87/Cc4hECw3D98PECEQOhiQFxlSIRAXchGPFtPhEB3sUKcb1eEQJVORxyEX4RA",
          "dtype": "f8"
         },
         "y": {
          "bdata": "00MhrV9bSUAKVPRH69tLQJ9xJAI0vU1AlqK61NYvUEAlO+9X32RRQMFWcWQTVVJAhYziaKeqU0DyidT00JxUQLmMDHh9glVAtoygt+1KVkBIGZa9aaRWQEMcoVzU8VdAzf9JAEU+WEAvbVjL+JJYQIX2tS619VhAW5MPLGzuWEA33iIEttNYQAAAAAAAAFlAQSosWozTWEBvZ9OD9YhYQOSsVlxaPVhAz7GivcEBWEB4Dmuuc25XQCjqj36U5FZAuiDFvjtoVkD+aUHFNNhVQChPElvwX1VAqiM0O8CGVECowBjUq/FTQGcoILx9FFNAHweKr2yLUkAJAZE9behRQMG9ENJZQlFA7Ni1HOiIUEBuUGmPGMhPQKj4oWvyHU9Ar/bKM6rbTUDW4/oRb6RMQDGQNfiqqEtANUifRpFtSkAV+knb8A1JQMTXU4saIEhA9/S9lFCNR0Ck8nG/9k5GQAYMnSiSb0VAnMU4eAyoREDTLYIfApJDQMpuwQ117kJAbyMCPZyAQkDMuumjGeVBQHRUSLxkF0FAuWO7qX1eQEAgI3t6T1FAQPWhdElCQT9ABf9tLKkuPkB91rDVq289QJSrle7GEzxAOlYeLZoBPECjYUAi5MI6QEGw+/n05jlAmQcFV9IyOUCsSZ5Itks4QLKJXlQMbjdAMuFBOTjeNkC6MKM6MvE1QMiuH3gsIDVACydJ/2iDNECpbPwaIPAzQOrmtvkg6TJATwf5omeMMkC6toE1ee8xQI5I+FMZiDFA90EeTa9kMEBK+bqQ0pEvQLiJFW3CTi5AcoYTkZeWLUDsy1dMirgsQLlvlC+VPCtAP6vaxUolKkDVeaLIwP0oQJ9OrWsFIyhAy63J9YL1JkDvH12xeXwmQDjLi1c+1yRAvV7Z3e7EJEAzSE+ZGb8jQBKcZfM3WyJADLx2qRWsIUCNMC9VPxAhQGfZz8tcrB9AZEny0wFJHkCTd+LAdyMeQNEv+gjPvR1ALkCVrYQuG0Cu7l9Bu5YaQAz8N1pJ9BdAPf174qhwF0C0t82WyS8WQGS3Zvj56hVABgWeymSSFECFd3UpxZEUQGpnxWtPcBNAHL/Blf7mEkBOJLAJdjYRQGLw5wan/RBAIg5fZ9IREUAAdugMuI4NQA9P4+900wxATSfWSktNDECv3sdR49ENQC0ubf/tMQxAIRmBDkJKB0Cj4K+mL/wGQI1P/dqeTwdAJj/+YNeOBkBuVzM3UnoFQIZo5FRzkARA",
          "dtype": "f8"
         }
        },
        {
         "mode": "lines",
         "name": "0.01",
         "type": "scatter",
         "x": {
          "bdata": "wK3eIXO/gEBXn9+B2ceAQASL5kH4zoBAohDaoV7XgEAfGd+hsN+AQObt4cHj5oBAaorZwTXvgEACfNohnPeAQK5n4eG6/oBARlniQSEHgUDArd4hcw+BQFef34HZF4FABIvmQfgegUCiENqhXieBQB8Z36GwL4FA5u3hweM2gUBGWeJBIT+BQKIQ2qFeR4FAAnzaIZxPgUBXn9+B2VeBQObt4cHjXoFARlniQSFngUCiENqhXm+BQAJ82iGcd4FAV5/fgdl/gUDm7eHB44aBQGqK2cE1j4FAAnzaIZyXgUCuZ+Hhup6BQEZZ4kEhp4FAwK3eIXOvgUBXn9+B2beBQASL5kH4voFAohDaoV7HgUAfGd+hsM+BQObt4cHj1oFARlniQSHfgUCiENqhXueBQAJ82iGc74FAV5/fgdn3gUDm7eHB4/6BQEZZ4kEhB4JAohDaoV4PgkACfNohnBeCQFef34HZH4JA5u3hweMmgkBqitnBNS+CQAJ82iGcN4JArmfh4bo+gkBGWeJBIUeCQMCt3iFzT4JAV5/fgdlXgkAEi+ZB+F6CQKIQ2qFeZ4JAHxnfobBvgkDm7eHB43aCQEZZ4kEhf4JAohDaoV6HgkACfNohnI+CQFef34HZl4JA5u3hweOegkBGWeJBIaeCQKIQ2qFer4JAAnzaIZy3gkBXn9+B2b+CQObt4cHjxoJABIvmQfjOgkBGWeJBIdeCQGqK2cE134JAohDaoV7ngkDArd4hc++CQAJ82iGc94JAHxnfobD/gkBXn9+B2QeDQMwE5mHPDoNA5u3hweMWg0BGWeJBIR+DQKIQ2qFeJ4NAAnzaIZwvg0BXn9+B2TeDQObt4cHjPoNARlniQSFHg0CiENqhXk+DQAJ82iGcV4NAV5/fgdlfg0Dm7eHB42aDQEZZ4kEhb4NAohDaoV53g0ACfNohnH+DQFef34HZh4NA5u3hweOOg0BGWeJBIZeDQKIQ2qFen4NAAnzaIZyng0BXn9+B2a+DQObt4cHjtoNABIvmQfi+g0BGWeJBIceDQGqK2cE1z4NAohDaoV7Xg0DArd4hc9+DQAJ82iGc54NAHxnfobDvg0BXn9+B2feDQMwE5mHP/oNA5u3hweMGhEAEi+ZB+A6EQEZZ4kEhF4RAaorZwTUfhECiENqhXieEQMCt3iFzL4RAAnzaIZw3hEAfGd+hsD+EQFef34HZR4RAzATmYc9OhEDm7eHB41aEQASL5kH4XoRA",
          "dtype": "f8"
         },
         "y": {
          "bdata": "vFieWnjNSUAMkw8GM+FLQC+gNcgCAU5AszWddTlDUEBWcugN16xRQMpsZH4uclJAvD5EtaJwU0BUC0zf95BUQO46QDdJU1VAPjG4bj0sVkAMTZ75/+BWQEcWJfdxQldAIKBj8bL7V0BHzv1EQKRYQNTXV5WayFhAftrp/Zi8WEAAAAAAAABZQP0xxDKzwFhAXSLRGOV4WECF0vtNz1JYQBajHcJpVVhA/hnVbbaIV0An1hjpfUJXQPhDAxa1slZA1/Cpp887VkB3XkM/xbBVQFy47K6L91RAe8XFxbOBVED8BogeVcxTQFkGYgM16VJAfVZYsRd0UkCvQHDZ6JpRQFL8y60RN1FAue3SN88tUEBbnobgR3tPQCcJogLWL05AR8kMLetbTUDzWSweIZ9MQNnEqP9X60pAsRRgNFnYSUC0q82HKdRIQDVSQ1Vkd0dAKIl2vRkJR0ARR1JOmuRFQFoSyeLhlERASve0gmJuREBdInlNuSRDQBj8ARaWy0JAGNIESdHZQUDInjP9t5ZBQKjJ3Mcy+UBApKtandVIQEBOr41xLts/QAXnYSntoj5AsGklvN2iPUCqFaVsn0Q9QF+LYM9KFTxARolLYbX2OkCx/RzqqvI5QB8jTPaR+TlAC9s+j5NlOEAmPnDuxbc3QMAPAjBjkDdAP3vXD5ZJNkA4RphyX3M1QDSBh9G1zjRAjhNCKFh6NEBb1lm6uKAzQIAknrDAGzNA3FcDsO5aMkBuxsvR1MMxQOqKr+bW4DBAnYeDbTWJMEBug64pilgwQJexFC02Wy9An0kWrpGgLUBzK4kZyI8rQMZshUfvEipAi+zwJozWKUCf1Ux9xvsoQPZspXGJ5SdAiawfqN/OJkBBD2RPMjsmQDajt1NWrCVA8uEID/93JEAYMk+KpcUjQF8Pip0pByNAx1pNIaKrIUBGHEzr8jchQM5D08gRQiBAlnzTxD9fH0AjX3CF50UcQN64xbcUEB1AuMeOmXhfHECreAtJAssZQFGZArqsWBlAJZXd1I+WGEC6xXhRHycWQIrQvw3enBVA7vmL3OCEFEBPXDff3/YTQJDr6/LpZRNA4EEtDA6sEUBrMvG7hoYTQFnUrZSIgRFAOxUTrn5cEECnPPyFUZEPQFKl/675nA5AxQMsoLMZEUA3f+ig+3MMQDPGjUTWGwlAPCjFQ72dB0CVO2szzqwIQCNNizjRlQpAZoaNtj53B0DlVtOAL8EJQBLr5oZXAgVA",
          "dtype": "f8"
         }
        }
       ],
       "layout": {
        "font": {
         "size": 14
        },
        "height": 600,
        "legend": {
         "x": 0.88,
         "y": 1
        },
        "template": {
         "data": {
          "bar": [
           {
            "error_x": {
             "color": "#2a3f5f"
            },
            "error_y": {
             "color": "#2a3f5f"
            },
            "marker": {
             "line": {
              "color": "#E5ECF6",
              "width": 0.5
             },
             "pattern": {
              "fillmode": "overlay",
              "size": 10,
              "solidity": 0.2
             }
            },
            "type": "bar"
           }
          ],
          "barpolar": [
           {
            "marker": {
             "line": {
              "color": "#E5ECF6",
              "width": 0.5
             },
             "pattern": {
              "fillmode": "overlay",
              "size": 10,
              "solidity": 0.2
             }
            },
            "type": "barpolar"
           }
          ],
          "carpet": [
           {
            "aaxis": {
             "endlinecolor": "#2a3f5f",
             "gridcolor": "white",
             "linecolor": "white",
             "minorgridcolor": "white",
             "startlinecolor": "#2a3f5f"
            },
            "baxis": {
             "endlinecolor": "#2a3f5f",
             "gridcolor": "white",
             "linecolor": "white",
             "minorgridcolor": "white",
             "startlinecolor": "#2a3f5f"
            },
            "type": "carpet"
           }
          ],
          "choropleth": [
           {
            "colorbar": {
             "outlinewidth": 0,
             "ticks": ""
            },
            "type": "choropleth"
           }
          ],
          "contour": [
           {
            "colorbar": {
             "outlinewidth": 0,
             "ticks": ""
            },
            "colorscale": [
             [
              0,
              "#0d0887"
             ],
             [
              0.1111111111111111,
              "#46039f"
             ],
             [
              0.2222222222222222,
              "#7201a8"
             ],
             [
              0.3333333333333333,
              "#9c179e"
             ],
             [
              0.4444444444444444,
              "#bd3786"
             ],
             [
              0.5555555555555556,
              "#d8576b"
             ],
             [
              0.6666666666666666,
              "#ed7953"
             ],
             [
              0.7777777777777778,
              "#fb9f3a"
             ],
             [
              0.8888888888888888,
              "#fdca26"
             ],
             [
              1,
              "#f0f921"
             ]
            ],
            "type": "contour"
           }
          ],
          "contourcarpet": [
           {
            "colorbar": {
             "outlinewidth": 0,
             "ticks": ""
            },
            "type": "contourcarpet"
           }
          ],
          "heatmap": [
           {
            "colorbar": {
             "outlinewidth": 0,
             "ticks": ""
            },
            "colorscale": [
             [
              0,
              "#0d0887"
             ],
             [
              0.1111111111111111,
              "#46039f"
             ],
             [
              0.2222222222222222,
              "#7201a8"
             ],
             [
              0.3333333333333333,
              "#9c179e"
             ],
             [
              0.4444444444444444,
              "#bd3786"
             ],
             [
              0.5555555555555556,
              "#d8576b"
             ],
             [
              0.6666666666666666,
              "#ed7953"
             ],
             [
              0.7777777777777778,
              "#fb9f3a"
             ],
             [
              0.8888888888888888,
              "#fdca26"
             ],
             [
              1,
              "#f0f921"
             ]
            ],
            "type": "heatmap"
           }
          ],
          "histogram": [
           {
            "marker": {
             "pattern": {
              "fillmode": "overlay",
              "size": 10,
              "solidity": 0.2
             }
            },
            "type": "histogram"
           }
          ],
          "histogram2d": [
           {
            "colorbar": {
             "outlinewidth": 0,
             "ticks": ""
            },
            "colorscale": [
             [
              0,
              "#0d0887"
             ],
             [
              0.1111111111111111,
              "#46039f"
             ],
             [
              0.2222222222222222,
              "#7201a8"
             ],
             [
              0.3333333333333333,
              "#9c179e"
             ],
             [
              0.4444444444444444,
              "#bd3786"
             ],
             [
              0.5555555555555556,
              "#d8576b"
             ],
             [
              0.6666666666666666,
              "#ed7953"
             ],
             [
              0.7777777777777778,
              "#fb9f3a"
             ],
             [
              0.8888888888888888,
              "#fdca26"
             ],
             [
              1,
              "#f0f921"
             ]
            ],
            "type": "histogram2d"
           }
          ],
          "histogram2dcontour": [
           {
            "colorbar": {
             "outlinewidth": 0,
             "ticks": ""
            },
            "colorscale": [
             [
              0,
              "#0d0887"
             ],
             [
              0.1111111111111111,
              "#46039f"
             ],
             [
              0.2222222222222222,
              "#7201a8"
             ],
             [
              0.3333333333333333,
              "#9c179e"
             ],
             [
              0.4444444444444444,
              "#bd3786"
             ],
             [
              0.5555555555555556,
              "#d8576b"
             ],
             [
              0.6666666666666666,
              "#ed7953"
             ],
             [
              0.7777777777777778,
              "#fb9f3a"
             ],
             [
              0.8888888888888888,
              "#fdca26"
             ],
             [
              1,
              "#f0f921"
             ]
            ],
            "type": "histogram2dcontour"
           }
          ],
          "mesh3d": [
           {
            "colorbar": {
             "outlinewidth": 0,
             "ticks": ""
            },
            "type": "mesh3d"
           }
          ],
          "parcoords": [
           {
            "line": {
             "colorbar": {
              "outlinewidth": 0,
              "ticks": ""
             }
            },
            "type": "parcoords"
           }
          ],
          "pie": [
           {
            "automargin": true,
            "type": "pie"
           }
          ],
          "scatter": [
           {
            "fillpattern": {
             "fillmode": "overlay",
             "size": 10,
             "solidity": 0.2
            },
            "type": "scatter"
           }
          ],
          "scatter3d": [
           {
            "line": {
             "colorbar": {
              "outlinewidth": 0,
              "ticks": ""
             }
            },
            "marker": {
             "colorbar": {
              "outlinewidth": 0,
              "ticks": ""
             }
            },
            "type": "scatter3d"
           }
          ],
          "scattercarpet": [
           {
            "marker": {
             "colorbar": {
              "outlinewidth": 0,
              "ticks": ""
             }
            },
            "type": "scattercarpet"
           }
          ],
          "scattergeo": [
           {
            "marker": {
             "colorbar": {
              "outlinewidth": 0,
              "ticks": ""
             }
            },
            "type": "scattergeo"
           }
          ],
          "scattergl": [
           {
            "marker": {
             "colorbar": {
              "outlinewidth": 0,
              "ticks": ""
             }
            },
            "type": "scattergl"
           }
          ],
          "scattermap": [
           {
            "marker": {
             "colorbar": {
              "outlinewidth": 0,
              "ticks": ""
             }
            },
            "type": "scattermap"
           }
          ],
          "scattermapbox": [
           {
            "marker": {
             "colorbar": {
              "outlinewidth": 0,
              "ticks": ""
             }
            },
            "type": "scattermapbox"
           }
          ],
          "scatterpolar": [
           {
            "marker": {
             "colorbar": {
              "outlinewidth": 0,
              "ticks": ""
             }
            },
            "type": "scatterpolar"
           }
          ],
          "scatterpolargl": [
           {
            "marker": {
             "colorbar": {
              "outlinewidth": 0,
              "ticks": ""
             }
            },
            "type": "scatterpolargl"
           }
          ],
          "scatterternary": [
           {
            "marker": {
             "colorbar": {
              "outlinewidth": 0,
              "ticks": ""
             }
            },
            "type": "scatterternary"
           }
          ],
          "surface": [
           {
            "colorbar": {
             "outlinewidth": 0,
             "ticks": ""
            },
            "colorscale": [
             [
              0,
              "#0d0887"
             ],
             [
              0.1111111111111111,
              "#46039f"
             ],
             [
              0.2222222222222222,
              "#7201a8"
             ],
             [
              0.3333333333333333,
              "#9c179e"
             ],
             [
              0.4444444444444444,
              "#bd3786"
             ],
             [
              0.5555555555555556,
              "#d8576b"
             ],
             [
              0.6666666666666666,
              "#ed7953"
             ],
             [
              0.7777777777777778,
              "#fb9f3a"
             ],
             [
              0.8888888888888888,
              "#fdca26"
             ],
             [
              1,
              "#f0f921"
             ]
            ],
            "type": "surface"
           }
          ],
          "table": [
           {
            "cells": {
             "fill": {
              "color": "#EBF0F8"
             },
             "line": {
              "color": "white"
             }
            },
            "header": {
             "fill": {
              "color": "#C8D4E3"
             },
             "line": {
              "color": "white"
             }
            },
            "type": "table"
           }
          ]
         },
         "layout": {
          "annotationdefaults": {
           "arrowcolor": "#2a3f5f",
           "arrowhead": 0,
           "arrowwidth": 1
          },
          "autotypenumbers": "strict",
          "coloraxis": {
           "colorbar": {
            "outlinewidth": 0,
            "ticks": ""
           }
          },
          "colorscale": {
           "diverging": [
            [
             0,
             "#8e0152"
            ],
            [
             0.1,
             "#c51b7d"
            ],
            [
             0.2,
             "#de77ae"
            ],
            [
             0.3,
             "#f1b6da"
            ],
            [
             0.4,
             "#fde0ef"
            ],
            [
             0.5,
             "#f7f7f7"
            ],
            [
             0.6,
             "#e6f5d0"
            ],
            [
             0.7,
             "#b8e186"
            ],
            [
             0.8,
             "#7fbc41"
            ],
            [
             0.9,
             "#4d9221"
            ],
            [
             1,
             "#276419"
            ]
           ],
           "sequential": [
            [
             0,
             "#0d0887"
            ],
            [
             0.1111111111111111,
             "#46039f"
            ],
            [
             0.2222222222222222,
             "#7201a8"
            ],
            [
             0.3333333333333333,
             "#9c179e"
            ],
            [
             0.4444444444444444,
             "#bd3786"
            ],
            [
             0.5555555555555556,
             "#d8576b"
            ],
            [
             0.6666666666666666,
             "#ed7953"
            ],
            [
             0.7777777777777778,
             "#fb9f3a"
            ],
            [
             0.8888888888888888,
             "#fdca26"
            ],
            [
             1,
             "#f0f921"
            ]
           ],
           "sequentialminus": [
            [
             0,
             "#0d0887"
            ],
            [
             0.1111111111111111,
             "#46039f"
            ],
            [
             0.2222222222222222,
             "#7201a8"
            ],
            [
             0.3333333333333333,
             "#9c179e"
            ],
            [
             0.4444444444444444,
             "#bd3786"
            ],
            [
             0.5555555555555556,
             "#d8576b"
            ],
            [
             0.6666666666666666,
             "#ed7953"
            ],
            [
             0.7777777777777778,
             "#fb9f3a"
            ],
            [
             0.8888888888888888,
             "#fdca26"
            ],
            [
             1,
             "#f0f921"
            ]
           ]
          },
          "colorway": [
           "#636efa",
           "#EF553B",
           "#00cc96",
           "#ab63fa",
           "#FFA15A",
           "#19d3f3",
           "#FF6692",
           "#B6E880",
           "#FF97FF",
           "#FECB52"
          ],
          "font": {
           "color": "#2a3f5f"
          },
          "geo": {
           "bgcolor": "white",
           "lakecolor": "white",
           "landcolor": "#E5ECF6",
           "showlakes": true,
           "showland": true,
           "subunitcolor": "white"
          },
          "hoverlabel": {
           "align": "left"
          },
          "hovermode": "closest",
          "mapbox": {
           "style": "light"
          },
          "paper_bgcolor": "white",
          "plot_bgcolor": "#E5ECF6",
          "polar": {
           "angularaxis": {
            "gridcolor": "white",
            "linecolor": "white",
            "ticks": ""
           },
           "bgcolor": "#E5ECF6",
           "radialaxis": {
            "gridcolor": "white",
            "linecolor": "white",
            "ticks": ""
           }
          },
          "scene": {
           "xaxis": {
            "backgroundcolor": "#E5ECF6",
            "gridcolor": "white",
            "gridwidth": 2,
            "linecolor": "white",
            "showbackground": true,
            "ticks": "",
            "zerolinecolor": "white"
           },
           "yaxis": {
            "backgroundcolor": "#E5ECF6",
            "gridcolor": "white",
            "gridwidth": 2,
            "linecolor": "white",
            "showbackground": true,
            "ticks": "",
            "zerolinecolor": "white"
           },
           "zaxis": {
            "backgroundcolor": "#E5ECF6",
            "gridcolor": "white",
            "gridwidth": 2,
            "linecolor": "white",
            "showbackground": true,
            "ticks": "",
            "zerolinecolor": "white"
           }
          },
          "shapedefaults": {
           "line": {
            "color": "#2a3f5f"
           }
          },
          "ternary": {
           "aaxis": {
            "gridcolor": "white",
            "linecolor": "white",
            "ticks": ""
           },
           "baxis": {
            "gridcolor": "white",
            "linecolor": "white",
            "ticks": ""
           },
           "bgcolor": "#E5ECF6",
           "caxis": {
            "gridcolor": "white",
            "linecolor": "white",
            "ticks": ""
           }
          },
          "title": {
           "x": 0.05
          },
          "xaxis": {
           "automargin": true,
           "gridcolor": "white",
           "linecolor": "white",
           "ticks": "",
           "title": {
            "standoff": 15
           },
           "zerolinecolor": "white",
           "zerolinewidth": 2
          },
          "yaxis": {
           "automargin": true,
           "gridcolor": "white",
           "linecolor": "white",
           "ticks": "",
           "title": {
            "standoff": 15
           },
           "zerolinecolor": "white",
           "zerolinewidth": 2
          }
         }
        },
        "width": 800,
        "xaxis": {
         "title": {
          "text": "Wavelength (nm)"
         }
        },
        "yaxis": {
         "range": [
          0,
          100
         ],
         "title": {
          "text": "Intensity (%)"
         }
        }
       }
      }
     },
     "metadata": {},
     "output_type": "display_data"
    },
    {
     "data": {
      "text/plain": [
       "<Figure size 1000x600 with 0 Axes>"
      ]
     },
     "metadata": {},
     "output_type": "display_data"
    }
   ],
   "source": [
    "# plotting normalized spectrum (kind of, in the sense that we are not normalizing the area under the curve, but the maximum value of the spectrum)\n",
    "\n",
    "delta = np.array(λcenter_list) - np.mean(λcenter_list)  # Calculate the average value of λcenter\n",
    "\n",
    "plt.figure(figsize=(10, 6))\n",
    "\n",
    "fig = go.Figure()\n",
    "\n",
    "for λ_col, I_col, c, d in zip(WAVELENGHTS, INTENSITIES,ASS,delta):\n",
    "    max = data[I_col].max()\n",
    "    centered_wavelengths = data[λ_col] - d  # Center the wavelengths around the average λcenter\n",
    "    fig.add_trace(go.Scatter(x=centered_wavelengths,y= data[I_col]*100/ max,\n",
    "                    mode='lines',\n",
    "                    name=f'{np.round(c,2)}'))\n",
    "\n",
    "fig.update_layout(\n",
    "                  xaxis_title='Wavelength (nm)',\n",
    "                  yaxis_title='Intensity (%)',\n",
    "                  height=600,\n",
    "                  width=800,\n",
    "                  yaxis=dict(range=[0, 100]),\n",
    "                  legend=dict(x=0.88, y=1),\n",
    "                  font=dict(size=14))\n",
    "\n",
    "fig.write_html(dir_path +r\"\\html\\normalized_centered_emission_spectrum.html\")\n",
    "fig.write_image(dir_path + r\"\\images\\normalized_centered_emission_spectrum.png\")\n",
    "fig.show()"
   ]
  },
  {
   "cell_type": "markdown",
   "metadata": {},
   "source": [
    "The function $ F(C) $ is defined as:\n",
    "\n",
    "$ F(C, F_0, k, y_0) = F_0 \\cdot \\left( 1 - e^{-k \\cdot C} \\right) + y_0$\n",
    "\n",
    "where:\n",
    "- $ C $ is the concentration,\n",
    "- $ F_0 $ is the maximum fluorescence intensity,\n",
    "- $ k $ is the rate constant,\n",
    "- $ y_0 $ is the baseline fluorescence intensity."
   ]
  },
  {
   "cell_type": "code",
   "execution_count": 15,
   "metadata": {},
   "outputs": [],
   "source": [
    "# fit with the exponential 1-exp(-k*C)\n",
    "\n",
    "def F_C_fit(C,F0,k,y0):\n",
    "    return F0*(1-np.exp(-k*C)) + y0"
   ]
  },
  {
   "cell_type": "code",
   "execution_count": 18,
   "metadata": {},
   "outputs": [
    {
     "name": "stdout",
     "output_type": "stream",
     "text": [
      "F0: 3437 ± 3543 a.u.\n",
      "k: 0.813 ± 0.925 \n",
      "y0: -19.529 ± 7.29 a.u.\n"
     ]
    },
    {
     "data": {
      "application/vnd.plotly.v1+json": {
       "config": {
        "plotlyServerURL": "https://plot.ly"
       },
       "data": [
        {
         "error_x": {
          "array": {
           "bdata": "UrPWqR/6NT+mGTd8RLc0P1nRt8VqMTI/1zjus2fGKz9Oc197h00gPwd6oZNFAxw/FgpDvHleFj+foZLvV9oPP3cnu/TMWwE/Svs+cYuz8j4=",
           "dtype": "f8"
          },
          "type": "data",
          "visible": true
         },
         "error_y": {
          "array": {
           "bdata": "0hF7eP959T/fkXkc1r34P0l4O5VuQtA/l2KGlfrfxj/vsz2Y+gTQP8Y9FB5WCsc/XZ99Gh0Ksj+OjfoAbJmtPzbS5tcLKKE/ELq7Fb62oj8=",
           "dtype": "f8"
          },
          "type": "data",
          "visible": true
         },
         "mode": "markers",
         "name": "Data with error",
         "type": "scatter",
         "x": {
          "bdata": "liYQvQC53j85doDneZLWP9NmA/og3NA/TpQMFzVexj/SadRamWm2PxZI8wKsCrI/+qA3J3gOqz9tq4qNQw6iP22rio1DDpI/8MClv/UVgj8=",
          "dtype": "f8"
         },
         "y": {
          "bdata": "d9fK7YtljUAHDWK+v5+JQDFUbwOac4ZAMqwOqw3MfkBW0ISNf9ZtQI2s6jxjSGVAmHJyR2pxXUB89PyQzkVKQKxSbnM5UjNA4HqVgVOpJkA=",
          "dtype": "f8"
         }
        },
        {
         "mode": "lines",
         "name": "Fit",
         "type": "scatter",
         "x": {
          "bdata": "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",
          "dtype": "f8"
         },
         "y": {
          "bdata": "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",
          "dtype": "f8"
         }
        }
       ],
       "layout": {
        "font": {
         "size": 14
        },
        "height": 600,
        "legend": {
         "x": 0,
         "y": 1
        },
        "template": {
         "data": {
          "bar": [
           {
            "error_x": {
             "color": "#2a3f5f"
            },
            "error_y": {
             "color": "#2a3f5f"
            },
            "marker": {
             "line": {
              "color": "#E5ECF6",
              "width": 0.5
             },
             "pattern": {
              "fillmode": "overlay",
              "size": 10,
              "solidity": 0.2
             }
            },
            "type": "bar"
           }
          ],
          "barpolar": [
           {
            "marker": {
             "line": {
              "color": "#E5ECF6",
              "width": 0.5
             },
             "pattern": {
              "fillmode": "overlay",
              "size": 10,
              "solidity": 0.2
             }
            },
            "type": "barpolar"
           }
          ],
          "carpet": [
           {
            "aaxis": {
             "endlinecolor": "#2a3f5f",
             "gridcolor": "white",
             "linecolor": "white",
             "minorgridcolor": "white",
             "startlinecolor": "#2a3f5f"
            },
            "baxis": {
             "endlinecolor": "#2a3f5f",
             "gridcolor": "white",
             "linecolor": "white",
             "minorgridcolor": "white",
             "startlinecolor": "#2a3f5f"
            },
            "type": "carpet"
           }
          ],
          "choropleth": [
           {
            "colorbar": {
             "outlinewidth": 0,
             "ticks": ""
            },
            "type": "choropleth"
           }
          ],
          "contour": [
           {
            "colorbar": {
             "outlinewidth": 0,
             "ticks": ""
            },
            "colorscale": [
             [
              0,
              "#0d0887"
             ],
             [
              0.1111111111111111,
              "#46039f"
             ],
             [
              0.2222222222222222,
              "#7201a8"
             ],
             [
              0.3333333333333333,
              "#9c179e"
             ],
             [
              0.4444444444444444,
              "#bd3786"
             ],
             [
              0.5555555555555556,
              "#d8576b"
             ],
             [
              0.6666666666666666,
              "#ed7953"
             ],
             [
              0.7777777777777778,
              "#fb9f3a"
             ],
             [
              0.8888888888888888,
              "#fdca26"
             ],
             [
              1,
              "#f0f921"
             ]
            ],
            "type": "contour"
           }
          ],
          "contourcarpet": [
           {
            "colorbar": {
             "outlinewidth": 0,
             "ticks": ""
            },
            "type": "contourcarpet"
           }
          ],
          "heatmap": [
           {
            "colorbar": {
             "outlinewidth": 0,
             "ticks": ""
            },
            "colorscale": [
             [
              0,
              "#0d0887"
             ],
             [
              0.1111111111111111,
              "#46039f"
             ],
             [
              0.2222222222222222,
              "#7201a8"
             ],
             [
              0.3333333333333333,
              "#9c179e"
             ],
             [
              0.4444444444444444,
              "#bd3786"
             ],
             [
              0.5555555555555556,
              "#d8576b"
             ],
             [
              0.6666666666666666,
              "#ed7953"
             ],
             [
              0.7777777777777778,
              "#fb9f3a"
             ],
             [
              0.8888888888888888,
              "#fdca26"
             ],
             [
              1,
              "#f0f921"
             ]
            ],
            "type": "heatmap"
           }
          ],
          "histogram": [
           {
            "marker": {
             "pattern": {
              "fillmode": "overlay",
              "size": 10,
              "solidity": 0.2
             }
            },
            "type": "histogram"
           }
          ],
          "histogram2d": [
           {
            "colorbar": {
             "outlinewidth": 0,
             "ticks": ""
            },
            "colorscale": [
             [
              0,
              "#0d0887"
             ],
             [
              0.1111111111111111,
              "#46039f"
             ],
             [
              0.2222222222222222,
              "#7201a8"
             ],
             [
              0.3333333333333333,
              "#9c179e"
             ],
             [
              0.4444444444444444,
              "#bd3786"
             ],
             [
              0.5555555555555556,
              "#d8576b"
             ],
             [
              0.6666666666666666,
              "#ed7953"
             ],
             [
              0.7777777777777778,
              "#fb9f3a"
             ],
             [
              0.8888888888888888,
              "#fdca26"
             ],
             [
              1,
              "#f0f921"
             ]
            ],
            "type": "histogram2d"
           }
          ],
          "histogram2dcontour": [
           {
            "colorbar": {
             "outlinewidth": 0,
             "ticks": ""
            },
            "colorscale": [
             [
              0,
              "#0d0887"
             ],
             [
              0.1111111111111111,
              "#46039f"
             ],
             [
              0.2222222222222222,
              "#7201a8"
             ],
             [
              0.3333333333333333,
              "#9c179e"
             ],
             [
              0.4444444444444444,
              "#bd3786"
             ],
             [
              0.5555555555555556,
              "#d8576b"
             ],
             [
              0.6666666666666666,
              "#ed7953"
             ],
             [
              0.7777777777777778,
              "#fb9f3a"
             ],
             [
              0.8888888888888888,
              "#fdca26"
             ],
             [
              1,
              "#f0f921"
             ]
            ],
            "type": "histogram2dcontour"
           }
          ],
          "mesh3d": [
           {
            "colorbar": {
             "outlinewidth": 0,
             "ticks": ""
            },
            "type": "mesh3d"
           }
          ],
          "parcoords": [
           {
            "line": {
             "colorbar": {
              "outlinewidth": 0,
              "ticks": ""
             }
            },
            "type": "parcoords"
           }
          ],
          "pie": [
           {
            "automargin": true,
            "type": "pie"
           }
          ],
          "scatter": [
           {
            "fillpattern": {
             "fillmode": "overlay",
             "size": 10,
             "solidity": 0.2
            },
            "type": "scatter"
           }
          ],
          "scatter3d": [
           {
            "line": {
             "colorbar": {
              "outlinewidth": 0,
              "ticks": ""
             }
            },
            "marker": {
             "colorbar": {
              "outlinewidth": 0,
              "ticks": ""
             }
            },
            "type": "scatter3d"
           }
          ],
          "scattercarpet": [
           {
            "marker": {
             "colorbar": {
              "outlinewidth": 0,
              "ticks": ""
             }
            },
            "type": "scattercarpet"
           }
          ],
          "scattergeo": [
           {
            "marker": {
             "colorbar": {
              "outlinewidth": 0,
              "ticks": ""
             }
            },
            "type": "scattergeo"
           }
          ],
          "scattergl": [
           {
            "marker": {
             "colorbar": {
              "outlinewidth": 0,
              "ticks": ""
             }
            },
            "type": "scattergl"
           }
          ],
          "scattermap": [
           {
            "marker": {
             "colorbar": {
              "outlinewidth": 0,
              "ticks": ""
             }
            },
            "type": "scattermap"
           }
          ],
          "scattermapbox": [
           {
            "marker": {
             "colorbar": {
              "outlinewidth": 0,
              "ticks": ""
             }
            },
            "type": "scattermapbox"
           }
          ],
          "scatterpolar": [
           {
            "marker": {
             "colorbar": {
              "outlinewidth": 0,
              "ticks": ""
             }
            },
            "type": "scatterpolar"
           }
          ],
          "scatterpolargl": [
           {
            "marker": {
             "colorbar": {
              "outlinewidth": 0,
              "ticks": ""
             }
            },
            "type": "scatterpolargl"
           }
          ],
          "scatterternary": [
           {
            "marker": {
             "colorbar": {
              "outlinewidth": 0,
              "ticks": ""
             }
            },
            "type": "scatterternary"
           }
          ],
          "surface": [
           {
            "colorbar": {
             "outlinewidth": 0,
             "ticks": ""
            },
            "colorscale": [
             [
              0,
              "#0d0887"
             ],
             [
              0.1111111111111111,
              "#46039f"
             ],
             [
              0.2222222222222222,
              "#7201a8"
             ],
             [
              0.3333333333333333,
              "#9c179e"
             ],
             [
              0.4444444444444444,
              "#bd3786"
             ],
             [
              0.5555555555555556,
              "#d8576b"
             ],
             [
              0.6666666666666666,
              "#ed7953"
             ],
             [
              0.7777777777777778,
              "#fb9f3a"
             ],
             [
              0.8888888888888888,
              "#fdca26"
             ],
             [
              1,
              "#f0f921"
             ]
            ],
            "type": "surface"
           }
          ],
          "table": [
           {
            "cells": {
             "fill": {
              "color": "#EBF0F8"
             },
             "line": {
              "color": "white"
             }
            },
            "header": {
             "fill": {
              "color": "#C8D4E3"
             },
             "line": {
              "color": "white"
             }
            },
            "type": "table"
           }
          ]
         },
         "layout": {
          "annotationdefaults": {
           "arrowcolor": "#2a3f5f",
           "arrowhead": 0,
           "arrowwidth": 1
          },
          "autotypenumbers": "strict",
          "coloraxis": {
           "colorbar": {
            "outlinewidth": 0,
            "ticks": ""
           }
          },
          "colorscale": {
           "diverging": [
            [
             0,
             "#8e0152"
            ],
            [
             0.1,
             "#c51b7d"
            ],
            [
             0.2,
             "#de77ae"
            ],
            [
             0.3,
             "#f1b6da"
            ],
            [
             0.4,
             "#fde0ef"
            ],
            [
             0.5,
             "#f7f7f7"
            ],
            [
             0.6,
             "#e6f5d0"
            ],
            [
             0.7,
             "#b8e186"
            ],
            [
             0.8,
             "#7fbc41"
            ],
            [
             0.9,
             "#4d9221"
            ],
            [
             1,
             "#276419"
            ]
           ],
           "sequential": [
            [
             0,
             "#0d0887"
            ],
            [
             0.1111111111111111,
             "#46039f"
            ],
            [
             0.2222222222222222,
             "#7201a8"
            ],
            [
             0.3333333333333333,
             "#9c179e"
            ],
            [
             0.4444444444444444,
             "#bd3786"
            ],
            [
             0.5555555555555556,
             "#d8576b"
            ],
            [
             0.6666666666666666,
             "#ed7953"
            ],
            [
             0.7777777777777778,
             "#fb9f3a"
            ],
            [
             0.8888888888888888,
             "#fdca26"
            ],
            [
             1,
             "#f0f921"
            ]
           ],
           "sequentialminus": [
            [
             0,
             "#0d0887"
            ],
            [
             0.1111111111111111,
             "#46039f"
            ],
            [
             0.2222222222222222,
             "#7201a8"
            ],
            [
             0.3333333333333333,
             "#9c179e"
            ],
            [
             0.4444444444444444,
             "#bd3786"
            ],
            [
             0.5555555555555556,
             "#d8576b"
            ],
            [
             0.6666666666666666,
             "#ed7953"
            ],
            [
             0.7777777777777778,
             "#fb9f3a"
            ],
            [
             0.8888888888888888,
             "#fdca26"
            ],
            [
             1,
             "#f0f921"
            ]
           ]
          },
          "colorway": [
           "#636efa",
           "#EF553B",
           "#00cc96",
           "#ab63fa",
           "#FFA15A",
           "#19d3f3",
           "#FF6692",
           "#B6E880",
           "#FF97FF",
           "#FECB52"
          ],
          "font": {
           "color": "#2a3f5f"
          },
          "geo": {
           "bgcolor": "white",
           "lakecolor": "white",
           "landcolor": "#E5ECF6",
           "showlakes": true,
           "showland": true,
           "subunitcolor": "white"
          },
          "hoverlabel": {
           "align": "left"
          },
          "hovermode": "closest",
          "mapbox": {
           "style": "light"
          },
          "paper_bgcolor": "white",
          "plot_bgcolor": "#E5ECF6",
          "polar": {
           "angularaxis": {
            "gridcolor": "white",
            "linecolor": "white",
            "ticks": ""
           },
           "bgcolor": "#E5ECF6",
           "radialaxis": {
            "gridcolor": "white",
            "linecolor": "white",
            "ticks": ""
           }
          },
          "scene": {
           "xaxis": {
            "backgroundcolor": "#E5ECF6",
            "gridcolor": "white",
            "gridwidth": 2,
            "linecolor": "white",
            "showbackground": true,
            "ticks": "",
            "zerolinecolor": "white"
           },
           "yaxis": {
            "backgroundcolor": "#E5ECF6",
            "gridcolor": "white",
            "gridwidth": 2,
            "linecolor": "white",
            "showbackground": true,
            "ticks": "",
            "zerolinecolor": "white"
           },
           "zaxis": {
            "backgroundcolor": "#E5ECF6",
            "gridcolor": "white",
            "gridwidth": 2,
            "linecolor": "white",
            "showbackground": true,
            "ticks": "",
            "zerolinecolor": "white"
           }
          },
          "shapedefaults": {
           "line": {
            "color": "#2a3f5f"
           }
          },
          "ternary": {
           "aaxis": {
            "gridcolor": "white",
            "linecolor": "white",
            "ticks": ""
           },
           "baxis": {
            "gridcolor": "white",
            "linecolor": "white",
            "ticks": ""
           },
           "bgcolor": "#E5ECF6",
           "caxis": {
            "gridcolor": "white",
            "linecolor": "white",
            "ticks": ""
           }
          },
          "title": {
           "x": 0.05
          },
          "xaxis": {
           "automargin": true,
           "gridcolor": "white",
           "linecolor": "white",
           "ticks": "",
           "title": {
            "standoff": 15
           },
           "zerolinecolor": "white",
           "zerolinewidth": 2
          },
          "yaxis": {
           "automargin": true,
           "gridcolor": "white",
           "linecolor": "white",
           "ticks": "",
           "title": {
            "standoff": 15
           },
           "zerolinecolor": "white",
           "zerolinewidth": 2
          }
         }
        },
        "width": 800,
        "xaxis": {
         "title": {
          "text": "Absorbance"
         },
         "type": "log"
        },
        "yaxis": {
         "title": {
          "text": "Intensity Fluorescence (a.u.)"
         }
        }
       }
      }
     },
     "metadata": {},
     "output_type": "display_data"
    }
   ],
   "source": [
    "I = np.array(IMAX_list)\n",
    "sigmaI = np.array(error_IMAX_list) # need to propagate error on lambda d(-ax^2)/dx = -2ax\n",
    "\n",
    "A = np.array(ASS) # convert to μM\n",
    "sigmaA = np.array(SIGMA_ASS) # propagate error on C\n",
    "\n",
    "# iteration 0\n",
    "popt, pcov = curve_fit(F_C_fit, A, I, p0=[1000, 0.3, 1.0], sigma=sigmaI, maxfev=10000)\n",
    "F0, k, y0 = popt\n",
    "error_F0, error_k, error_y0 = np.sqrt(np.diag(pcov))\n",
    "\n",
    "# iteration 1\n",
    "dFdC = np.abs(k * F0 * np.exp(-k * A)) # propagate error on C\n",
    "sigmaTot = np.sqrt(sigmaI**2 + (dFdC * sigmaA)**2) # propagate error on I\n",
    "popt, pcov = curve_fit(F_C_fit, A, I, p0=[F0, k, y0], sigma=sigmaTot)\n",
    "F0, k, y0 = popt\n",
    "error_F0, error_k, error_y0 = np.sqrt(np.diag(pcov))\n",
    "\n",
    "print('F0:', final_val(F0, error_F0, decimals=0, udm='a.u.'))\n",
    "print('k:', final_val(k, error_k, decimals=3))\n",
    "print('y0:', final_val(y0, error_y0, decimals=3, udm='a.u.'))\n",
    "\n",
    "# Create a scatter plot with error bars using Plotly\n",
    "fig = go.Figure()\n",
    "\n",
    "# Add data points with error bars\n",
    "fig.add_trace(go.Scatter(\n",
    "    x=A,\n",
    "    y=I,\n",
    "    error_y=dict(\n",
    "        type='data',\n",
    "        array=sigmaI,\n",
    "        visible=True\n",
    "    ),\n",
    "    error_x=dict(\n",
    "        type='data',\n",
    "        array=sigmaA,\n",
    "        visible=True\n",
    "    ),\n",
    "    mode='markers',\n",
    "    name='Data with error'\n",
    "))\n",
    "\n",
    "# Add the fitted curve\n",
    "a = np.linspace(np.min(A), np.max(A), 1000)\n",
    "fig.add_trace(go.Scatter(\n",
    "    x=a,\n",
    "    y=F_C_fit(a, *popt),\n",
    "    mode='lines',\n",
    "    name='Fit'\n",
    "))\n",
    "\n",
    "# Update layout for log scale and labels\n",
    "fig.update_layout(\n",
    "    xaxis=dict(\n",
    "        title='Absorbance',\n",
    "        type='log'\n",
    "    ),\n",
    "    yaxis=dict(\n",
    "        title='Intensity Fluorescence (a.u.)'\n",
    "    ),\n",
    "    # title='Intensity Fluorescence vs Concentration',\n",
    "    height=600,\n",
    "    width=800,\n",
    "    legend=dict(x=0, y=1),\n",
    "    font=dict(size=14)\n",
    ")\n",
    "\n",
    "fig.write_html(dir_path +r\"\\html\\FvsA.html\")\n",
    "fig.write_image(dir_path + r\"\\images\\FvsA.png\")\n",
    "fig.show()"
   ]
  },
  {
   "cell_type": "code",
   "execution_count": 24,
   "metadata": {},
   "outputs": [
    {
     "name": "stdout",
     "output_type": "stream",
     "text": [
      "k: 2430.987 ± 300.924 μM^-1\n",
      "y0: -18.412 ± 8.0 a.u.\n"
     ]
    },
    {
     "data": {
      "application/vnd.plotly.v1+json": {
       "config": {
        "plotlyServerURL": "https://plot.ly"
       },
       "data": [
        {
         "error_x": {
          "array": {
           "bdata": "TnNfe4dNID8HeqGTRQMcPxYKQ7x5XhY/n6GS71faDz93J7v0zFsBP0r7PnGLs/I+",
           "dtype": "f8"
          },
          "type": "data",
          "visible": true
         },
         "error_y": {
          "array": {
           "bdata": "77M9mPoE0D/GPRQeVgrHP12ffRodCrI/jo36AGyZrT820ubXCyihPxC6uxW+tqI/",
           "dtype": "f8"
          },
          "type": "data",
          "visible": true
         },
         "mode": "markers",
         "name": "Data with error",
         "type": "scatter",
         "x": {
          "bdata": "0mnUWplptj8WSPMCrAqyP/qgNyd4Dqs/bauKjUMOoj9tq4qNQw6SP/DApb/1FYI/",
          "dtype": "f8"
         },
         "y": {
          "bdata": "VtCEjX/WbUCNrOo8Y0hlQJhyckdqcV1AfPT8kM5FSkCsUm5zOVIzQOB6lYFTqSZA",
          "dtype": "f8"
         }
        },
        {
         "mode": "lines",
         "name": "Fit",
         "type": "scatter",
         "x": {
          "bdata": "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",
          "dtype": "f8"
         },
         "y": {
          "bdata": "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",
          "dtype": "f8"
         }
        }
       ],
       "layout": {
        "font": {
         "size": 14
        },
        "height": 600,
        "legend": {
         "x": 0,
         "y": 1
        },
        "template": {
         "data": {
          "bar": [
           {
            "error_x": {
             "color": "#2a3f5f"
            },
            "error_y": {
             "color": "#2a3f5f"
            },
            "marker": {
             "line": {
              "color": "#E5ECF6",
              "width": 0.5
             },
             "pattern": {
              "fillmode": "overlay",
              "size": 10,
              "solidity": 0.2
             }
            },
            "type": "bar"
           }
          ],
          "barpolar": [
           {
            "marker": {
             "line": {
              "color": "#E5ECF6",
              "width": 0.5
             },
             "pattern": {
              "fillmode": "overlay",
              "size": 10,
              "solidity": 0.2
             }
            },
            "type": "barpolar"
           }
          ],
          "carpet": [
           {
            "aaxis": {
             "endlinecolor": "#2a3f5f",
             "gridcolor": "white",
             "linecolor": "white",
             "minorgridcolor": "white",
             "startlinecolor": "#2a3f5f"
            },
            "baxis": {
             "endlinecolor": "#2a3f5f",
             "gridcolor": "white",
             "linecolor": "white",
             "minorgridcolor": "white",
             "startlinecolor": "#2a3f5f"
            },
            "type": "carpet"
           }
          ],
          "choropleth": [
           {
            "colorbar": {
             "outlinewidth": 0,
             "ticks": ""
            },
            "type": "choropleth"
           }
          ],
          "contour": [
           {
            "colorbar": {
             "outlinewidth": 0,
             "ticks": ""
            },
            "colorscale": [
             [
              0,
              "#0d0887"
             ],
             [
              0.1111111111111111,
              "#46039f"
             ],
             [
              0.2222222222222222,
              "#7201a8"
             ],
             [
              0.3333333333333333,
              "#9c179e"
             ],
             [
              0.4444444444444444,
              "#bd3786"
             ],
             [
              0.5555555555555556,
              "#d8576b"
             ],
             [
              0.6666666666666666,
              "#ed7953"
             ],
             [
              0.7777777777777778,
              "#fb9f3a"
             ],
             [
              0.8888888888888888,
              "#fdca26"
             ],
             [
              1,
              "#f0f921"
             ]
            ],
            "type": "contour"
           }
          ],
          "contourcarpet": [
           {
            "colorbar": {
             "outlinewidth": 0,
             "ticks": ""
            },
            "type": "contourcarpet"
           }
          ],
          "heatmap": [
           {
            "colorbar": {
             "outlinewidth": 0,
             "ticks": ""
            },
            "colorscale": [
             [
              0,
              "#0d0887"
             ],
             [
              0.1111111111111111,
              "#46039f"
             ],
             [
              0.2222222222222222,
              "#7201a8"
             ],
             [
              0.3333333333333333,
              "#9c179e"
             ],
             [
              0.4444444444444444,
              "#bd3786"
             ],
             [
              0.5555555555555556,
              "#d8576b"
             ],
             [
              0.6666666666666666,
              "#ed7953"
             ],
             [
              0.7777777777777778,
              "#fb9f3a"
             ],
             [
              0.8888888888888888,
              "#fdca26"
             ],
             [
              1,
              "#f0f921"
             ]
            ],
            "type": "heatmap"
           }
          ],
          "histogram": [
           {
            "marker": {
             "pattern": {
              "fillmode": "overlay",
              "size": 10,
              "solidity": 0.2
             }
            },
            "type": "histogram"
           }
          ],
          "histogram2d": [
           {
            "colorbar": {
             "outlinewidth": 0,
             "ticks": ""
            },
            "colorscale": [
             [
              0,
              "#0d0887"
             ],
             [
              0.1111111111111111,
              "#46039f"
             ],
             [
              0.2222222222222222,
              "#7201a8"
             ],
             [
              0.3333333333333333,
              "#9c179e"
             ],
             [
              0.4444444444444444,
              "#bd3786"
             ],
             [
              0.5555555555555556,
              "#d8576b"
             ],
             [
              0.6666666666666666,
              "#ed7953"
             ],
             [
              0.7777777777777778,
              "#fb9f3a"
             ],
             [
              0.8888888888888888,
              "#fdca26"
             ],
             [
              1,
              "#f0f921"
             ]
            ],
            "type": "histogram2d"
           }
          ],
          "histogram2dcontour": [
           {
            "colorbar": {
             "outlinewidth": 0,
             "ticks": ""
            },
            "colorscale": [
             [
              0,
              "#0d0887"
             ],
             [
              0.1111111111111111,
              "#46039f"
             ],
             [
              0.2222222222222222,
              "#7201a8"
             ],
             [
              0.3333333333333333,
              "#9c179e"
             ],
             [
              0.4444444444444444,
              "#bd3786"
             ],
             [
              0.5555555555555556,
              "#d8576b"
             ],
             [
              0.6666666666666666,
              "#ed7953"
             ],
             [
              0.7777777777777778,
              "#fb9f3a"
             ],
             [
              0.8888888888888888,
              "#fdca26"
             ],
             [
              1,
              "#f0f921"
             ]
            ],
            "type": "histogram2dcontour"
           }
          ],
          "mesh3d": [
           {
            "colorbar": {
             "outlinewidth": 0,
             "ticks": ""
            },
            "type": "mesh3d"
           }
          ],
          "parcoords": [
           {
            "line": {
             "colorbar": {
              "outlinewidth": 0,
              "ticks": ""
             }
            },
            "type": "parcoords"
           }
          ],
          "pie": [
           {
            "automargin": true,
            "type": "pie"
           }
          ],
          "scatter": [
           {
            "fillpattern": {
             "fillmode": "overlay",
             "size": 10,
             "solidity": 0.2
            },
            "type": "scatter"
           }
          ],
          "scatter3d": [
           {
            "line": {
             "colorbar": {
              "outlinewidth": 0,
              "ticks": ""
             }
            },
            "marker": {
             "colorbar": {
              "outlinewidth": 0,
              "ticks": ""
             }
            },
            "type": "scatter3d"
           }
          ],
          "scattercarpet": [
           {
            "marker": {
             "colorbar": {
              "outlinewidth": 0,
              "ticks": ""
             }
            },
            "type": "scattercarpet"
           }
          ],
          "scattergeo": [
           {
            "marker": {
             "colorbar": {
              "outlinewidth": 0,
              "ticks": ""
             }
            },
            "type": "scattergeo"
           }
          ],
          "scattergl": [
           {
            "marker": {
             "colorbar": {
              "outlinewidth": 0,
              "ticks": ""
             }
            },
            "type": "scattergl"
           }
          ],
          "scattermap": [
           {
            "marker": {
             "colorbar": {
              "outlinewidth": 0,
              "ticks": ""
             }
            },
            "type": "scattermap"
           }
          ],
          "scattermapbox": [
           {
            "marker": {
             "colorbar": {
              "outlinewidth": 0,
              "ticks": ""
             }
            },
            "type": "scattermapbox"
           }
          ],
          "scatterpolar": [
           {
            "marker": {
             "colorbar": {
              "outlinewidth": 0,
              "ticks": ""
             }
            },
            "type": "scatterpolar"
           }
          ],
          "scatterpolargl": [
           {
            "marker": {
             "colorbar": {
              "outlinewidth": 0,
              "ticks": ""
             }
            },
            "type": "scatterpolargl"
           }
          ],
          "scatterternary": [
           {
            "marker": {
             "colorbar": {
              "outlinewidth": 0,
              "ticks": ""
             }
            },
            "type": "scatterternary"
           }
          ],
          "surface": [
           {
            "colorbar": {
             "outlinewidth": 0,
             "ticks": ""
            },
            "colorscale": [
             [
              0,
              "#0d0887"
             ],
             [
              0.1111111111111111,
              "#46039f"
             ],
             [
              0.2222222222222222,
              "#7201a8"
             ],
             [
              0.3333333333333333,
              "#9c179e"
             ],
             [
              0.4444444444444444,
              "#bd3786"
             ],
             [
              0.5555555555555556,
              "#d8576b"
             ],
             [
              0.6666666666666666,
              "#ed7953"
             ],
             [
              0.7777777777777778,
              "#fb9f3a"
             ],
             [
              0.8888888888888888,
              "#fdca26"
             ],
             [
              1,
              "#f0f921"
             ]
            ],
            "type": "surface"
           }
          ],
          "table": [
           {
            "cells": {
             "fill": {
              "color": "#EBF0F8"
             },
             "line": {
              "color": "white"
             }
            },
            "header": {
             "fill": {
              "color": "#C8D4E3"
             },
             "line": {
              "color": "white"
             }
            },
            "type": "table"
           }
          ]
         },
         "layout": {
          "annotationdefaults": {
           "arrowcolor": "#2a3f5f",
           "arrowhead": 0,
           "arrowwidth": 1
          },
          "autotypenumbers": "strict",
          "coloraxis": {
           "colorbar": {
            "outlinewidth": 0,
            "ticks": ""
           }
          },
          "colorscale": {
           "diverging": [
            [
             0,
             "#8e0152"
            ],
            [
             0.1,
             "#c51b7d"
            ],
            [
             0.2,
             "#de77ae"
            ],
            [
             0.3,
             "#f1b6da"
            ],
            [
             0.4,
             "#fde0ef"
            ],
            [
             0.5,
             "#f7f7f7"
            ],
            [
             0.6,
             "#e6f5d0"
            ],
            [
             0.7,
             "#b8e186"
            ],
            [
             0.8,
             "#7fbc41"
            ],
            [
             0.9,
             "#4d9221"
            ],
            [
             1,
             "#276419"
            ]
           ],
           "sequential": [
            [
             0,
             "#0d0887"
            ],
            [
             0.1111111111111111,
             "#46039f"
            ],
            [
             0.2222222222222222,
             "#7201a8"
            ],
            [
             0.3333333333333333,
             "#9c179e"
            ],
            [
             0.4444444444444444,
             "#bd3786"
            ],
            [
             0.5555555555555556,
             "#d8576b"
            ],
            [
             0.6666666666666666,
             "#ed7953"
            ],
            [
             0.7777777777777778,
             "#fb9f3a"
            ],
            [
             0.8888888888888888,
             "#fdca26"
            ],
            [
             1,
             "#f0f921"
            ]
           ],
           "sequentialminus": [
            [
             0,
             "#0d0887"
            ],
            [
             0.1111111111111111,
             "#46039f"
            ],
            [
             0.2222222222222222,
             "#7201a8"
            ],
            [
             0.3333333333333333,
             "#9c179e"
            ],
            [
             0.4444444444444444,
             "#bd3786"
            ],
            [
             0.5555555555555556,
             "#d8576b"
            ],
            [
             0.6666666666666666,
             "#ed7953"
            ],
            [
             0.7777777777777778,
             "#fb9f3a"
            ],
            [
             0.8888888888888888,
             "#fdca26"
            ],
            [
             1,
             "#f0f921"
            ]
           ]
          },
          "colorway": [
           "#636efa",
           "#EF553B",
           "#00cc96",
           "#ab63fa",
           "#FFA15A",
           "#19d3f3",
           "#FF6692",
           "#B6E880",
           "#FF97FF",
           "#FECB52"
          ],
          "font": {
           "color": "#2a3f5f"
          },
          "geo": {
           "bgcolor": "white",
           "lakecolor": "white",
           "landcolor": "#E5ECF6",
           "showlakes": true,
           "showland": true,
           "subunitcolor": "white"
          },
          "hoverlabel": {
           "align": "left"
          },
          "hovermode": "closest",
          "mapbox": {
           "style": "light"
          },
          "paper_bgcolor": "white",
          "plot_bgcolor": "#E5ECF6",
          "polar": {
           "angularaxis": {
            "gridcolor": "white",
            "linecolor": "white",
            "ticks": ""
           },
           "bgcolor": "#E5ECF6",
           "radialaxis": {
            "gridcolor": "white",
            "linecolor": "white",
            "ticks": ""
           }
          },
          "scene": {
           "xaxis": {
            "backgroundcolor": "#E5ECF6",
            "gridcolor": "white",
            "gridwidth": 2,
            "linecolor": "white",
            "showbackground": true,
            "ticks": "",
            "zerolinecolor": "white"
           },
           "yaxis": {
            "backgroundcolor": "#E5ECF6",
            "gridcolor": "white",
            "gridwidth": 2,
            "linecolor": "white",
            "showbackground": true,
            "ticks": "",
            "zerolinecolor": "white"
           },
           "zaxis": {
            "backgroundcolor": "#E5ECF6",
            "gridcolor": "white",
            "gridwidth": 2,
            "linecolor": "white",
            "showbackground": true,
            "ticks": "",
            "zerolinecolor": "white"
           }
          },
          "shapedefaults": {
           "line": {
            "color": "#2a3f5f"
           }
          },
          "ternary": {
           "aaxis": {
            "gridcolor": "white",
            "linecolor": "white",
            "ticks": ""
           },
           "baxis": {
            "gridcolor": "white",
            "linecolor": "white",
            "ticks": ""
           },
           "bgcolor": "#E5ECF6",
           "caxis": {
            "gridcolor": "white",
            "linecolor": "white",
            "ticks": ""
           }
          },
          "title": {
           "x": 0.05
          },
          "xaxis": {
           "automargin": true,
           "gridcolor": "white",
           "linecolor": "white",
           "ticks": "",
           "title": {
            "standoff": 15
           },
           "zerolinecolor": "white",
           "zerolinewidth": 2
          },
          "yaxis": {
           "automargin": true,
           "gridcolor": "white",
           "linecolor": "white",
           "ticks": "",
           "title": {
            "standoff": 15
           },
           "zerolinecolor": "white",
           "zerolinewidth": 2
          }
         }
        },
        "title": {
         "text": "Intensity Fluorescence vs Concentration"
        },
        "width": 800,
        "xaxis": {
         "title": {
          "text": "Concentration (μM)"
         }
        },
        "yaxis": {
         "title": {
          "text": "Intensity Fluorescence (a.u.)"
         }
        }
       }
      }
     },
     "metadata": {},
     "output_type": "display_data"
    }
   ],
   "source": [
    "# fit lineare del primo set di dati:\n",
    "limit = 0.1\n",
    "def F_C_fit_linear(C,k,y0):\n",
    "    return k*C + y0\n",
    "\n",
    "I = np.array(IMAX_list)[ASS < limit]\n",
    "sigmaI = np.array(error_IMAX_list)[ASS < limit] \n",
    "\n",
    "A = np.array(ASS)[ASS <limit] \n",
    "sigmaA = np.array(SIGMA_ASS)[ASS < limit]\n",
    "\n",
    "# iteration 0\n",
    "popt, pcov = curve_fit(F_C_fit_linear, A, I, p0=[1000,1.0],sigma=sigmaI,maxfev=10000)\n",
    "k, y0 = popt\n",
    "error_k, error_y0 = np.sqrt(np.diag(pcov))\n",
    "\n",
    "# iteration 1\n",
    "dFdC = np.abs(k*F0*np.exp(-k*A)) # propagate error on C\n",
    "sigmaTot = np.sqrt(sigmaI**2 + (dFdC*sigmaA)**2) # propagate error on I\n",
    "popt, pcov = curve_fit(F_C_fit_linear, A, I, p0=[k,y0],sigma=sigmaTot)\n",
    "k, y0 = popt\n",
    "error_k, error_y0 = np.sqrt(np.diag(pcov))\n",
    "\n",
    "\n",
    "# print('F0:',final_val(F0,error_F0,decimals=0,udm='a.u.'))\n",
    "print('k:',final_val(k,error_k,decimals=3,udm='μM^-1'))\n",
    "print('y0:',final_val(y0,error_y0,decimals=3,udm='a.u.'))\n",
    "\n",
    "# Create a scatter plot with error bars using Plotly\n",
    "fig = go.Figure()\n",
    "\n",
    "# Add data points with error bars\n",
    "fig.add_trace(go.Scatter(\n",
    "    x=A,\n",
    "    y=I,\n",
    "    error_y=dict(\n",
    "        type='data',\n",
    "        array=sigmaI,\n",
    "        visible=True\n",
    "    ),\n",
    "    error_x=dict(\n",
    "        type='data',\n",
    "        array=sigmaA,\n",
    "        visible=True\n",
    "    ),\n",
    "    mode='markers',\n",
    "    name='Data with error'\n",
    "))\n",
    "\n",
    "# Add the fitted curve\n",
    "a = np.linspace(np.min(A), np.max(A), 1000)\n",
    "fig.add_trace(go.Scatter(\n",
    "    x=a,\n",
    "    y=F_C_fit_linear(a, *popt),\n",
    "    mode='lines',\n",
    "    name='Fit'\n",
    "))\n",
    "\n",
    "# Update layout for log scale and labels\n",
    "fig.update_layout(\n",
    "    xaxis=dict(\n",
    "        title='Concentration (μM)',\n",
    "        # type='log'\n",
    "    ),\n",
    "    yaxis=dict(\n",
    "        title='Intensity Fluorescence (a.u.)'\n",
    "    ),\n",
    "    title='Intensity Fluorescence vs Concentration',\n",
    "    height=600,\n",
    "    width=800,\n",
    "    legend=dict(x=0, y=1),\n",
    "    font=dict(size=14)\n",
    ")\n",
    "\n",
    "fig.show()\n"
   ]
  }
 ],
 "metadata": {
  "kernelspec": {
   "display_name": "Python 3",
   "language": "python",
   "name": "python3"
  },
  "language_info": {
   "codemirror_mode": {
    "name": "ipython",
    "version": 3
   },
   "file_extension": ".py",
   "mimetype": "text/x-python",
   "name": "python",
   "nbconvert_exporter": "python",
   "pygments_lexer": "ipython3",
   "version": "3.13.0"
  }
 },
 "nbformat": 4,
 "nbformat_minor": 2
}
