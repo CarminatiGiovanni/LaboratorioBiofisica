{
 "cells": [
  {
   "cell_type": "markdown",
   "metadata": {},
   "source": [
    "# FLUORIMETRIA: spettro emissione\n",
    "\n",
    "si hanno soluzioni di rodamina in acqua consequenzialmente a concentrazioni minori\n",
    "\n",
    "OBIETTIVI:\n",
    "viene variata la concentrazione di rodamina. Si vuole mettere in relazione l'assorbanza di rodamina con l'intensità di fluorescenza\n",
    "\n",
    "$\\epsilon$ = coefficiente estinzione molare rodamina 6G = $116000 M^{-1} cm^{-1} $ \n",
    "\n",
    "$A = \\epsilon C l$"
   ]
  },
  {
   "cell_type": "code",
   "execution_count": 1,
   "metadata": {},
   "outputs": [],
   "source": [
    "# import librerie\n",
    "from matplotlib import pyplot as plt\n",
    "import numpy as np\n",
    "import pandas as pd\n",
    "import plotly.express as px\n",
    "import os\n",
    "import sys\n",
    "import plotly.graph_objects as go\n",
    "dir_path = os.path.abspath('')\n",
    "sys.path.append(dir_path + '/../')\n",
    "from labbiofisica import Interpolazione, final_val\n",
    "from scipy.optimize import curve_fit\n",
    "from scipy.interpolate import interp1d"
   ]
  },
  {
   "cell_type": "markdown",
   "metadata": {},
   "source": [
    "Assorbanza:\n",
    "\n",
    "Segue il calcolo delle assorbanze, in laboratorio è stato usato lo spettrofotometro per misurare l'assorbanza del campione iniziale. In seguito la soluzione è stata diluita usando $A_i V_i = A_f V_f$ (valida in quanto $C \\propto A$)"
   ]
  },
  {
   "cell_type": "code",
   "execution_count": 2,
   "metadata": {},
   "outputs": [],
   "source": [
    "# definizione di costanti e funzione di interpolazione parabolica\n",
    "λexc = 526 #nm frequenza di eccitazione\n",
    "SIGMA_LAMBDA = 1.5 #nm DICHIARATI DAL COSTRUTTORE\n",
    "\n",
    "A0 = 0.4800416799849726\n",
    "sigmaA0 = 0.0003353431037236748\n",
    "\n",
    "sigmaV = 1 # μL, comodo perchè si ha sempre a che fare con rapporti\n",
    "\n",
    "sigmaySPETTROFLUORIMETRO = 0.0045 # percent 0.45% valore preso da STUDIO_ERRORI_SPETTROFLUORIMETRO.ipynb\n",
    "\n",
    "# Extracting the relevant columns for plotting\n",
    "WAVELENGHTS = ['λ 5', 'λ 4', 'λ 3', 'λ 2', 'λ 1', 'λ 0.8', 'λ 0.6', 'λ 0.4', 'λ 0.2', 'λ 0.1']\n",
    "INTENSITIES = ['I 5', 'I 4', 'I 3', 'I 2', 'I 1', 'I 0.8', 'I 0.6', 'I 0.4', 'I 0.2', 'I 0.1']\n",
    "# CONCENTRATIONS=[5,4,3,2,1,0.8,0.6,0.4,0.2,0.1]\n",
    "\n",
    "# FUNZIone per estrarre i massimi con fit parabolico\n",
    "def max_fit_parabolic(x, λcenter, a, IMAX): # -a*(x-λcenter)**2 + IMAX\n",
    "    return -a*(x-λcenter)**2 + IMAX"
   ]
  },
  {
   "cell_type": "code",
   "execution_count": 3,
   "metadata": {},
   "outputs": [],
   "source": [
    "# Caricamento del file AAT bioquest\n",
    "# # real rodamina \n",
    "# R6G_emission = pd.read_csv(r'.\\data\\Rhodamine 6G_emission.csv', sep=',')\n",
    "# R6G_absorbance = pd.read_csv(r'.\\data\\Rhodamine 6G_absorbance.csv', sep=',')\n",
    "# R6G_excitation = pd.read_csv(r'.\\data\\Rhodamine 6G_excitation.csv', sep=',')"
   ]
  },
  {
   "cell_type": "markdown",
   "metadata": {},
   "source": [
    "I valori di assorbanza iniziale sono calcolati in $concentrazione\\_iniziale.ipynb$\n"
   ]
  },
  {
   "cell_type": "markdown",
   "metadata": {},
   "source": [
    "determinazione di tutte le concentrazioni di cui è stato fatto lo spettro di fluorescenza:\n",
    "\n",
    "in laboratorio è stata raccolta la misura di:\n",
    "\n",
    "- $V_{in}$ = volume estratto dalla soluzione precedente\n",
    "- $V_{fin}$ = volume estratto dalla soluzione precedente + tampone (acqua)"
   ]
  },
  {
   "cell_type": "code",
   "execution_count": 4,
   "metadata": {},
   "outputs": [
    {
     "data": {
      "text/html": [
       "<div>\n",
       "<style scoped>\n",
       "    .dataframe tbody tr th:only-of-type {\n",
       "        vertical-align: middle;\n",
       "    }\n",
       "\n",
       "    .dataframe tbody tr th {\n",
       "        vertical-align: top;\n",
       "    }\n",
       "\n",
       "    .dataframe thead th {\n",
       "        text-align: right;\n",
       "    }\n",
       "</style>\n",
       "<table border=\"1\" class=\"dataframe\">\n",
       "  <thead>\n",
       "    <tr style=\"text-align: right;\">\n",
       "      <th></th>\n",
       "      <th>0</th>\n",
       "      <th>1</th>\n",
       "      <th>2</th>\n",
       "      <th>3</th>\n",
       "      <th>4</th>\n",
       "      <th>5</th>\n",
       "      <th>6</th>\n",
       "      <th>7</th>\n",
       "      <th>8</th>\n",
       "    </tr>\n",
       "  </thead>\n",
       "  <tbody>\n",
       "    <tr>\n",
       "      <th>Vi (muL)</th>\n",
       "      <td>2210</td>\n",
       "      <td>2252</td>\n",
       "      <td>2000</td>\n",
       "      <td>1511</td>\n",
       "      <td>2423</td>\n",
       "      <td>2251</td>\n",
       "      <td>2002</td>\n",
       "      <td>1497</td>\n",
       "      <td>1504</td>\n",
       "    </tr>\n",
       "    <tr>\n",
       "      <th>Vf (muL)</th>\n",
       "      <td>3008</td>\n",
       "      <td>3015</td>\n",
       "      <td>3015</td>\n",
       "      <td>3016</td>\n",
       "      <td>3010</td>\n",
       "      <td>3002</td>\n",
       "      <td>3000</td>\n",
       "      <td>2994</td>\n",
       "      <td>3003</td>\n",
       "    </tr>\n",
       "  </tbody>\n",
       "</table>\n",
       "</div>"
      ],
      "text/plain": [
       "             0     1     2     3     4     5     6     7     8\n",
       "Vi (muL)  2210  2252  2000  1511  2423  2251  2002  1497  1504\n",
       "Vf (muL)  3008  3015  3015  3016  3010  3002  3000  2994  3003"
      ]
     },
     "metadata": {},
     "output_type": "display_data"
    }
   ],
   "source": [
    "# caricamento valori sperimentali delle soluzioni (vi, vf)\n",
    "filename = './data/concentrazioni_rodamina.csv'\n",
    "\n",
    "volumi = pd.read_csv(filename,sep=',')\n",
    "volumi = volumi[['Vi (muL)','Vf (muL)']]\n",
    "# Display the DataFrame horizontally\n",
    "display(volumi.T)"
   ]
  },
  {
   "cell_type": "code",
   "execution_count": 5,
   "metadata": {},
   "outputs": [
    {
     "data": {
      "text/html": [
       "<div>\n",
       "<style scoped>\n",
       "    .dataframe tbody tr th:only-of-type {\n",
       "        vertical-align: middle;\n",
       "    }\n",
       "\n",
       "    .dataframe tbody tr th {\n",
       "        vertical-align: top;\n",
       "    }\n",
       "\n",
       "    .dataframe thead th {\n",
       "        text-align: right;\n",
       "    }\n",
       "</style>\n",
       "<table border=\"1\" class=\"dataframe\">\n",
       "  <thead>\n",
       "    <tr style=\"text-align: right;\">\n",
       "      <th></th>\n",
       "      <th>0</th>\n",
       "      <th>1</th>\n",
       "      <th>2</th>\n",
       "      <th>3</th>\n",
       "      <th>4</th>\n",
       "      <th>5</th>\n",
       "      <th>6</th>\n",
       "      <th>7</th>\n",
       "      <th>8</th>\n",
       "      <th>9</th>\n",
       "    </tr>\n",
       "  </thead>\n",
       "  <tbody>\n",
       "    <tr>\n",
       "      <th>A</th>\n",
       "      <td>0.480042</td>\n",
       "      <td>0.352690</td>\n",
       "      <td>0.263436</td>\n",
       "      <td>0.174750</td>\n",
       "      <td>0.087549</td>\n",
       "      <td>0.070475</td>\n",
       "      <td>0.052845</td>\n",
       "      <td>0.035265</td>\n",
       "      <td>0.017633</td>\n",
       "      <td>0.008831</td>\n",
       "    </tr>\n",
       "    <tr>\n",
       "      <th>σA</th>\n",
       "      <td>0.000335</td>\n",
       "      <td>0.000316</td>\n",
       "      <td>0.000278</td>\n",
       "      <td>0.000212</td>\n",
       "      <td>0.000124</td>\n",
       "      <td>0.000107</td>\n",
       "      <td>0.000085</td>\n",
       "      <td>0.000061</td>\n",
       "      <td>0.000033</td>\n",
       "      <td>0.000018</td>\n",
       "    </tr>\n",
       "  </tbody>\n",
       "</table>\n",
       "</div>"
      ],
      "text/plain": [
       "           0         1         2         3         4         5         6  \\\n",
       "A   0.480042  0.352690  0.263436  0.174750  0.087549  0.070475  0.052845   \n",
       "σA  0.000335  0.000316  0.000278  0.000212  0.000124  0.000107  0.000085   \n",
       "\n",
       "           7         8         9  \n",
       "A   0.035265  0.017633  0.008831  \n",
       "σA  0.000061  0.000033  0.000018  "
      ]
     },
     "metadata": {},
     "output_type": "display_data"
    }
   ],
   "source": [
    "# calcolo valori delle assorbanze\n",
    "#Cf Vf = Ci Vi -> Cf = Ci Vi / Vf\n",
    "# sigma V = 1 μL\n",
    "ASS = [A0]\n",
    "SIGMA_ASS = [sigmaA0]\n",
    "\n",
    "for idx, row in volumi.iterrows():\n",
    "    vi, vf = row['Vi (muL)'], row['Vf (muL)']\n",
    "    An = ASS[idx] * vi / vf\n",
    "    sAn = An * np.sqrt((sigmaV / vi)**2 + (sigmaV / vf)**2 + (SIGMA_ASS[idx] / ASS[idx])**2)\n",
    "    ASS.append(An)\n",
    "    SIGMA_ASS.append(sAn)\n",
    "\n",
    "ASS = np.array(ASS)\n",
    "SIGMA_ASS = np.array(SIGMA_ASS)\n",
    "\n",
    "# Create a pandas DataFrame to display ASS and SIGMA_ASS\n",
    "assorbance_df = pd.DataFrame({\n",
    "    'A': ASS,\n",
    "    'σA': SIGMA_ASS\n",
    "})\n",
    "display(assorbance_df.T)"
   ]
  },
  {
   "cell_type": "markdown",
   "metadata": {},
   "source": [
    "ora che sono noti i valori delle assorbanze dei vari campioni di cui è stata fatto lo spettro di fluorescenza si importano i veri e propri spettri di fluorescenza"
   ]
  },
  {
   "cell_type": "code",
   "execution_count": 6,
   "metadata": {},
   "outputs": [],
   "source": [
    "# Caricamento spettri allo spettrofluorimetro\n",
    "\n",
    "filename = 'data/assorbanza_rodamina_concentrazioni_tot.csv'\n",
    "\n",
    "header = ['λ 5','I 5','λ 4','I 4','no λ 4','no I 4','λ 3','I 3','λ 2','I 2','λ 1','I 1','λ 0.8','I 0.8','λ 0.6','I 0.6','λ 0.4','I 0.4','λ 0.2','I 0.2','λ 0.1','I 0.1']\n",
    "\n",
    "# fondo = pd.read_csv('./data/fondoH20Sspettrofluorimetro.csv',sep=',',header=1,nrows=150)[['Wavelength (nm).1','Intensity (a.u.).1']]\n",
    "# fondo.columns = ['λfondo','Ifondo']\n",
    "# fondo.tail()\n",
    "\n",
    "# from scipy.interpolate import interp1d\n",
    "# fondo_interp = interp1d(fondo['λfondo'], fondo['Ifondo'])\n",
    "\n",
    "data = pd.read_csv(filename,sep=',',header=1,nrows=117)\n",
    "data = data.iloc[:, :-1] # drop last column\n",
    "data.columns = header\n",
    "\n",
    "# APPEND ERRORS ON THE PEAK:\n",
    "for i, (λ_col, I_col) in enumerate(zip(WAVELENGHTS, INTENSITIES)):\n",
    "    errors = data[I_col].copy() * sigmaySPETTROFLUORIMETRO\n",
    "    maxid = data[I_col].idxmax()\n",
    "    center = data[λ_col][maxid]\n",
    "    errors = errors[(data[λ_col] < center+6) & (data[λ_col] > center-6)] #  6 è un buffer, sperimentalmente il valore è affisabile solo +- 5nm\n",
    "    name = 'σ ' + I_col\n",
    "    data[name] = errors \n",
    "\n",
    "# Save the modified data to a new CSV file\n"
   ]
  },
  {
   "cell_type": "markdown",
   "metadata": {},
   "source": [
    "plot spettri di fluo"
   ]
  },
  {
   "cell_type": "code",
   "execution_count": 15,
   "metadata": {},
   "outputs": [
    {
     "data": {
      "application/vnd.plotly.v1+json": {
       "config": {
        "plotlyServerURL": "https://plot.ly"
       },
       "data": [
        {
         "error_y": {
          "array": {
           "bdata": "AAAAAAAA+H8AAAAAAAD4fwAAAAAAAPh/AAAAAAAA+H8AAAAAAAD4fwAAAAAAAPh/AAAAAAAA+H8AAAAAAAD4fwAAAAAAAPh/AAAAAAAA+H8AAAAAAAD4fwAAAAAAAPh/AAAAAAAA+H8AAAAAAAD4f1TaaufXvA9ANPc/YJ9YEEAS2GeRl40QQHJ0ZpGeyBBA8UFWDmnDEEDdRvUo5PQQQCOoQWBD7RBAcQ6ZmTLJEED+7tnOCYIQQHbKdL7QBBBALrs1XjL9D0CC8tXOa00PQAAAAAAAAPh/AAAAAAAA+H8AAAAAAAD4fwAAAAAAAPh/AAAAAAAA+H8AAAAAAAD4fwAAAAAAAPh/AAAAAAAA+H8AAAAAAAD4fwAAAAAAAPh/AAAAAAAA+H8AAAAAAAD4fwAAAAAAAPh/AAAAAAAA+H8AAAAAAAD4fwAAAAAAAPh/AAAAAAAA+H8AAAAAAAD4fwAAAAAAAPh/AAAAAAAA+H8AAAAAAAD4fwAAAAAAAPh/AAAAAAAA+H8AAAAAAAD4fwAAAAAAAPh/AAAAAAAA+H8AAAAAAAD4fwAAAAAAAPh/AAAAAAAA+H8AAAAAAAD4fwAAAAAAAPh/AAAAAAAA+H8AAAAAAAD4fwAAAAAAAPh/AAAAAAAA+H8AAAAAAAD4fwAAAAAAAPh/AAAAAAAA+H8AAAAAAAD4fwAAAAAAAPh/AAAAAAAA+H8AAAAAAAD4fwAAAAAAAPh/AAAAAAAA+H8AAAAAAAD4fwAAAAAAAPh/AAAAAAAA+H8AAAAAAAD4fwAAAAAAAPh/AAAAAAAA+H8AAAAAAAD4fwAAAAAAAPh/AAAAAAAA+H8AAAAAAAD4fwAAAAAAAPh/AAAAAAAA+H8AAAAAAAD4fwAAAAAAAPh/AAAAAAAA+H8AAAAAAAD4fwAAAAAAAPh/AAAAAAAA+H8AAAAAAAD4fwAAAAAAAPh/AAAAAAAA+H8AAAAAAAD4fwAAAAAAAPh/AAAAAAAA+H8AAAAAAAD4fwAAAAAAAPh/AAAAAAAA+H8AAAAAAAD4fwAAAAAAAPh/AAAAAAAA+H8AAAAAAAD4fwAAAAAAAPh/AAAAAAAA+H8AAAAAAAD4fwAAAAAAAPh/AAAAAAAA+H8AAAAAAAD4fwAAAAAAAPh/AAAAAAAA+H8AAAAAAAD4fwAAAAAAAPh/AAAAAAAA+H8AAAAAAAD4fwAAAAAAAPh/AAAAAAAA+H8AAAAAAAD4fwAAAAAAAPh/",
           "dtype": "f8"
          },
          "type": "data",
          "visible": true
         },
         "line": {
          "color": "#fde725"
         },
         "mode": "lines",
         "name": "0.48",
         "type": "scatter",
         "x": {
          "bdata": "CaP+H1y3gECglP9/wr+AQE2ABkDhxoBA6wX6n0fPgEBoDv+fmdeAQC/jAcDM3oBAs3/5vx7ngEBLcfofhe+AQPdcAeCj9oBAj04CQAr/gEAJo/4fXAeBQKCU/3/CD4FATYAGQOEWgUDrBfqfRx+BQGgO/5+ZJ4FAL+MBwMwugUCPTgJACjeBQOsF+p9HP4FAS3H6H4VHgUCglP9/wk+BQC/jAcDMVoFAj04CQApfgUDrBfqfR2eBQEtx+h+Fb4FAoJT/f8J3gUAv4wHAzH6BQLN/+b8eh4FAS3H6H4WPgUD3XAHgo5aBQI9OAkAKn4FACaP+H1yngUCglP9/wq+BQE2ABkDhtoFA6wX6n0e/gUBoDv+fmceBQC/jAcDMzoFAj04CQArXgUDrBfqfR9+BQEtx+h+F54FAoJT/f8LvgUAv4wHAzPaBQI9OAkAK/4FA6wX6n0cHgkBLcfofhQ+CQKCU/3/CF4JAL+MBwMwegkCzf/m/HieCQEtx+h+FL4JA91wB4KM2gkCPTgJACj+CQAmj/h9cR4JAoJT/f8JPgkBNgAZA4VaCQOsF+p9HX4JAaA7/n5lngkAv4wHAzG6CQI9OAkAKd4JA6wX6n0d/gkBLcfofhYeCQKCU/3/Cj4JAL+MBwMyWgkCPTgJACp+CQOsF+p9Hp4JAS3H6H4WvgkCglP9/wreCQC/jAcDMvoJATYAGQOHGgkCPTgJACs+CQLN/+b8e14JA6wX6n0ffgkAJo/4fXOeCQEtx+h+F74JAaA7/n5n3gkCglP9/wv+CQBX6BWC4BoNAL+MBwMwOg0CPTgJACheDQOsF+p9HH4NAS3H6H4Ung0CglP9/wi+DQC/jAcDMNoNAj04CQAo/g0DrBfqfR0eDQEtx+h+FT4NAoJT/f8JXg0Av4wHAzF6DQI9OAkAKZ4NA6wX6n0dvg0BLcfofhXeDQKCU/3/Cf4NAL+MBwMyGg0CPTgJACo+DQOsF+p9Hl4NAS3H6H4Wfg0CglP9/wqeDQC/jAcDMroNATYAGQOG2g0CPTgJACr+DQLN/+b8ex4NA6wX6n0fPg0AJo/4fXNeDQEtx+h+F34NAaA7/n5nng0CglP9/wu+DQBX6BWC49oNAL+MBwMz+g0BNgAZA4QaEQI9OAkAKD4RAs3/5vx4XhEDrBfqfRx+EQAmj/h9cJ4RAS3H6H4UvhEBoDv+fmTeEQKCU/3/CP4RAFfoFYLhGhEAv4wHAzE6EQE2ABkDhVoRA",
          "dtype": "f8"
         },
         "y": {
          "bdata": "bMIHwEl1c0ATVQlgNNx1QIhQACAiBHhARoIEIEkIe0B2CgPgKSp+QBChAEBUIoBAMYj+v9D8gUBxsf2/pXyDQD3fBQBtvYRAYGsAgF0nhkDbZPlfc6OHQAAAAAAQ14hALT4FwEjBiUDA1gAAa86KQDGI/r/QjItAEUb9P/hgjECR8/4/7ryMQCqK/J9oI41AYGsAgF0ajUBAKf//RHCNQLA1AMAGY41AaA7/n2kkjUDPdwFA36iMQCqK/J94z4tAYGsAgK3Ei0ARRv0/GCyLQPBe/7+7O4pAV8gBYLEaikBHJwEgTTKJQHiv/9+NbohAlkwEYNKch0AH/gEguLuGQFDK/z85/oVAeK//380+hUAtPgXAmMKEQK6QA8Bi14NAj04CQHr3gkD+WgMADBGCQOi7AKAfeIFAnUoGgNqxgECdSgaAKkWAQIFS/v8p635AnoXzX9adfUB9nvXfeZN8QLfJ8r/GZHtAUtkLYEWeekCKXwxAvnF5QEk2DUA5Y3hAhJz3//HSd0BVIwVgTc92QGJ6DKDJ5HVA9rcE4P81dUDkcQeg56p0QEvbCUCN63NAg/f6/z1dc0D+WgMADLRyQINhCiBGMHJABe/1/7umcUCehfNf1gBxQDqVDABVpnBAZ2kCoCXqb0CY8QBghuluQI0TFWBOIW5AyeMOQM9AbUDi+OtfI2dsQOtvCcB/jGtAFCbnH9ixakA2d/S/XMFpQHXPFQA+v2hAgo3r3zXPZ0AtauZ/qCJnQOQH+H+fRGZAJ6oSwGhMZUCgKvBfqnNkQDZLEwCtwmNA3DgYoGP2YkClg/V/DkhiQJQ9+D82kGFA2ikMgOfPYEBrhxrg3QlgQF7GA4AZFl9AnbQVoBLRXUAV+gVgKJNcQCTKKOBoXltAPh00YLXaWUAr8Pw/GuxYQO7R+t862ldAajUD4IiqVkAbEACg88JVQFrT/v+mZ1RAe3sAICHbU0Do+vz/kcNSQG7l/H+iK1JARBwEgBc8UUDlsAMAKmhQQM1o9R9jmk9A7Cz+36bgTUAXnwJgvGhMQJiu9X/tSUtAvnAAYGnhSUAaqv//QblIQFXkCAAr6kdAIMD5P82dRkAvIv4fr51FQMtFAGAK8URAk7//f7HNQ0BqdP8/a/5CQCUZ/1/xS0JACLv2P59eQUA6qfWfsahAQMK6+V8R6j9AXlz0XzGaPkCpIxUAwk89QLXl+V/wHzxAWLAJQA7nOkCSLuwf+jM6QAtv/1+vzzhA",
          "dtype": "f8"
         }
        },
        {
         "error_y": {
          "array": {
           "bdata": "AAAAAAAA+H8AAAAAAAD4fwAAAAAAAPh/AAAAAAAA+H8AAAAAAAD4fwAAAAAAAPh/AAAAAAAA+H8AAAAAAAD4fwAAAAAAAPh/AAAAAAAA+H8AAAAAAAD4fwAAAAAAAPh/AAAAAAAA+H8AAAAAAAD4f0jfIDGs8gtA+kTRzOKVDEBtpdT38+cMQGl/dxRmKQ1ALTN5vvdUDUCx8pZuvKENQF8A3/k+NA1AxHSqR90NDUAiO5OX7JUMQBf5Y7ygRQxAmF72/eiQC0Dsab8gZhMLQAAAAAAAAPh/AAAAAAAA+H8AAAAAAAD4fwAAAAAAAPh/AAAAAAAA+H8AAAAAAAD4fwAAAAAAAPh/AAAAAAAA+H8AAAAAAAD4fwAAAAAAAPh/AAAAAAAA+H8AAAAAAAD4fwAAAAAAAPh/AAAAAAAA+H8AAAAAAAD4fwAAAAAAAPh/AAAAAAAA+H8AAAAAAAD4fwAAAAAAAPh/AAAAAAAA+H8AAAAAAAD4fwAAAAAAAPh/AAAAAAAA+H8AAAAAAAD4fwAAAAAAAPh/AAAAAAAA+H8AAAAAAAD4fwAAAAAAAPh/AAAAAAAA+H8AAAAAAAD4fwAAAAAAAPh/AAAAAAAA+H8AAAAAAAD4fwAAAAAAAPh/AAAAAAAA+H8AAAAAAAD4fwAAAAAAAPh/AAAAAAAA+H8AAAAAAAD4fwAAAAAAAPh/AAAAAAAA+H8AAAAAAAD4fwAAAAAAAPh/AAAAAAAA+H8AAAAAAAD4fwAAAAAAAPh/AAAAAAAA+H8AAAAAAAD4fwAAAAAAAPh/AAAAAAAA+H8AAAAAAAD4fwAAAAAAAPh/AAAAAAAA+H8AAAAAAAD4fwAAAAAAAPh/AAAAAAAA+H8AAAAAAAD4fwAAAAAAAPh/AAAAAAAA+H8AAAAAAAD4fwAAAAAAAPh/AAAAAAAA+H8AAAAAAAD4fwAAAAAAAPh/AAAAAAAA+H8AAAAAAAD4fwAAAAAAAPh/AAAAAAAA+H8AAAAAAAD4fwAAAAAAAPh/AAAAAAAA+H8AAAAAAAD4fwAAAAAAAPh/AAAAAAAA+H8AAAAAAAD4fwAAAAAAAPh/AAAAAAAA+H8AAAAAAAD4fwAAAAAAAPh/AAAAAAAA+H8AAAAAAAD4fwAAAAAAAPh/AAAAAAAA+H8AAAAAAAD4fwAAAAAAAPh/AAAAAAAA+H8AAAAAAAD4fwAAAAAAAPh/AAAAAAAA+H8AAAAAAAD4fwAAAAAAAPh/",
           "dtype": "f8"
          },
          "type": "data",
          "visible": true
         },
         "line": {
          "color": "#b5de2b"
         },
         "mode": "lines",
         "name": "0.353",
         "type": "scatter",
         "x": {
          "bdata": "CaP+H1y3gECglP9/wr+AQE2ABkDhxoBA6wX6n0fPgEBoDv+fmdeAQC/jAcDM3oBAs3/5vx7ngEBLcfofhe+AQPdcAeCj9oBAj04CQAr/gEAJo/4fXAeBQKCU/3/CD4FATYAGQOEWgUDrBfqfRx+BQGgO/5+ZJ4FAL+MBwMwugUCPTgJACjeBQOsF+p9HP4FAS3H6H4VHgUCglP9/wk+BQC/jAcDMVoFAj04CQApfgUDrBfqfR2eBQEtx+h+Fb4FAoJT/f8J3gUAv4wHAzH6BQLN/+b8eh4FAS3H6H4WPgUD3XAHgo5aBQI9OAkAKn4FACaP+H1yngUCglP9/wq+BQE2ABkDhtoFA6wX6n0e/gUBoDv+fmceBQC/jAcDMzoFAj04CQArXgUDrBfqfR9+BQEtx+h+F54FAoJT/f8LvgUAv4wHAzPaBQI9OAkAK/4FA6wX6n0cHgkBLcfofhQ+CQKCU/3/CF4JAL+MBwMwegkCzf/m/HieCQEtx+h+FL4JA91wB4KM2gkCPTgJACj+CQAmj/h9cR4JAoJT/f8JPgkBNgAZA4VaCQOsF+p9HX4JAaA7/n5lngkAv4wHAzG6CQI9OAkAKd4JA6wX6n0d/gkBLcfofhYeCQKCU/3/Cj4JAL+MBwMyWgkCPTgJACp+CQOsF+p9Hp4JAS3H6H4WvgkCglP9/wreCQC/jAcDMvoJATYAGQOHGgkCPTgJACs+CQLN/+b8e14JA6wX6n0ffgkAJo/4fXOeCQEtx+h+F74JAaA7/n5n3gkCglP9/wv+CQBX6BWC4BoNAL+MBwMwOg0CPTgJACheDQOsF+p9HH4NAS3H6H4Ung0CglP9/wi+DQC/jAcDMNoNAj04CQAo/g0DrBfqfR0eDQEtx+h+FT4NAoJT/f8JXg0Av4wHAzF6DQI9OAkAKZ4NA6wX6n0dvg0BLcfofhXeDQKCU/3/Cf4NAL+MBwMyGg0CPTgJACo+DQOsF+p9Hl4NAS3H6H4Wfg0CglP9/wqeDQC/jAcDMroNATYAGQOG2g0CPTgJACr+DQLN/+b8ex4NA6wX6n0fPg0AJo/4fXNeDQEtx+h+F34NAaA7/n5nng0CglP9/wu+DQBX6BWC49oNAL+MBwMz+g0BNgAZA4QaEQI9OAkAKD4RAs3/5vx4XhEDrBfqfRx+EQAmj/h9cJ4RAS3H6H4UvhEBoDv+fmTeEQKCU/3/CP4RAFfoFYLhGhEAv4wHAzE6EQE2ABkDhVoRA",
          "dtype": "f8"
         },
         "y": {
          "bdata": "6soMwAs+ckBMFvcfuWV0QPxL99+vQnZAbMIHwAn9eED9tQYAeMF7QE4lA0C10H1AAqX8/5NWgEBuZwTAfZ+BQKI5/H8WpIJAztIEQOvVg0BAKf//xACFQGgO/5+JEIZATiUDQAW1hkDfGAKAc56HQNPB+j+nQohANuED4FTQiEB9CAUAkheJQGEQ/X9hUIlA3xgCgDN2iUDIef8f17iJQP5aAwDMWYlAstr8v3o4iUBVIwVgXdCIQHNW+r+piohAj04CQMrth0C6ffvf1oCHQGdpAqDl5YZAx9QCIJNThkB4r//fzdmFQH0IBQDyJYVA4mL7f2tdhEBuZwTAvYWDQLN/+b9u+oJA/loDAAxbgkDhvf5/F6mBQHYKA+D5HIFAJkADoEBdgEDpYP2fw3R/QDvQ+d+AHn5AQCn//0TOfEB6VPzfseJ7QCWbBqBs0XpAkpj7P8KWeUCR8/4/jnJ4QFt8CoBxnXdAYRD9f+HHdkB/rQEAluV1QCjl/58UBXVAFfoFYIhcdEAMVwdA3J9zQN1zBYBP+3JAErAMYABTckAlmwagDM9xQL7H9N8+IHFAxS8GIN+ocEBNgAZAQQ9wQEwW9x+ZT29ALJkIwKQ8bkDbZPlfkzNtQI0/9h++ZWxA4vjrX6OYa0A70PnfwJdqQGO1+X8VzWlA+3oZIGzTaEDFLwYgvy9oQFOq6R8plWdA8z7pn3u8ZkA4hgDg2OxlQKTe+H+6JmVAhkH0/wVpZEB7j+m/vbFjQPzh578H3mJAil8MQD4vYkAVkPY/QIthQNiw8D+D4GBAS3H6H8U0YEC4ByEgX0ZfQLZf458+8F1A4o7cPzu/XEB4GQ8AZpRbQK0pNSDnt1pAizDq/0GCWUBJjQHATmBYQOlg/Z8DNVdAJ3///yJPVkADzABAY4JVQGCq/N+PfVRA40oDYHilU0C6Pv9/VLdSQOZVAAD+6FFAKCT8/zYbUUC3sfqfk0hQQMOKCSBrGk9AZNz9v6TETUAlGf9f8X5MQD4GCkBMHEtAtY4F4HoYSkDLhPy/LJVIQHiv/999bEdAtGcBoCtgRkBKtAUAnm9FQOMLBwCWeERAkpj7P2KGQ0DiYvt/i35CQJEy+5/wE0JAqE/2v3E5QUCp4AkgKYBAQFmYESA7Tj9AuYEKYC0xPkCvOQ9AzY48QBvl7N/tlTtACUwKoNYLOkAp4fAfXiA5QICp8n8/8jdAkDYKIOcxN0ASxPX/3Fg2QBR8DaBjUzVA",
          "dtype": "f8"
         }
        },
        {
         "error_y": {
          "array": {
           "bdata": "AAAAAAAA+H8AAAAAAAD4fwAAAAAAAPh/AAAAAAAA+H8AAAAAAAD4fwAAAAAAAPh/AAAAAAAA+H8AAAAAAAD4fwAAAAAAAPh/AAAAAAAA+H8AAAAAAAD4fwAAAAAAAPh/AAAAAAAA+H81R73zSUkIQCENBayQCwlAL596lU1hCUA5mbqfWqcJQMgIY+XCxwlA2SFFN9feCUDCjQGBocMJQCdmd2hjjAlAmhOUl/41CUB0SFnjzdoIQB2P0/clMwhAAAAAAAAA+H8AAAAAAAD4fwAAAAAAAPh/AAAAAAAA+H8AAAAAAAD4fwAAAAAAAPh/AAAAAAAA+H8AAAAAAAD4fwAAAAAAAPh/AAAAAAAA+H8AAAAAAAD4fwAAAAAAAPh/AAAAAAAA+H8AAAAAAAD4fwAAAAAAAPh/AAAAAAAA+H8AAAAAAAD4fwAAAAAAAPh/AAAAAAAA+H8AAAAAAAD4fwAAAAAAAPh/AAAAAAAA+H8AAAAAAAD4fwAAAAAAAPh/AAAAAAAA+H8AAAAAAAD4fwAAAAAAAPh/AAAAAAAA+H8AAAAAAAD4fwAAAAAAAPh/AAAAAAAA+H8AAAAAAAD4fwAAAAAAAPh/AAAAAAAA+H8AAAAAAAD4fwAAAAAAAPh/AAAAAAAA+H8AAAAAAAD4fwAAAAAAAPh/AAAAAAAA+H8AAAAAAAD4fwAAAAAAAPh/AAAAAAAA+H8AAAAAAAD4fwAAAAAAAPh/AAAAAAAA+H8AAAAAAAD4fwAAAAAAAPh/AAAAAAAA+H8AAAAAAAD4fwAAAAAAAPh/AAAAAAAA+H8AAAAAAAD4fwAAAAAAAPh/AAAAAAAA+H8AAAAAAAD4fwAAAAAAAPh/AAAAAAAA+H8AAAAAAAD4fwAAAAAAAPh/AAAAAAAA+H8AAAAAAAD4fwAAAAAAAPh/AAAAAAAA+H8AAAAAAAD4fwAAAAAAAPh/AAAAAAAA+H8AAAAAAAD4fwAAAAAAAPh/AAAAAAAA+H8AAAAAAAD4fwAAAAAAAPh/AAAAAAAA+H8AAAAAAAD4fwAAAAAAAPh/AAAAAAAA+H8AAAAAAAD4fwAAAAAAAPh/AAAAAAAA+H8AAAAAAAD4fwAAAAAAAPh/AAAAAAAA+H8AAAAAAAD4fwAAAAAAAPh/AAAAAAAA+H8AAAAAAAD4fwAAAAAAAPh/AAAAAAAA+H8AAAAAAAD4fwAAAAAAAPh/AAAAAAAA+H8AAAAAAAD4fwAAAAAAAPh/",
           "dtype": "f8"
          },
          "type": "data",
          "visible": true
         },
         "line": {
          "color": "#6ece58"
         },
         "mode": "lines",
         "name": "0.263",
         "type": "scatter",
         "x": {
          "bdata": "CaP+H1y3gECglP9/wr+AQE2ABkDhxoBA6wX6n0fPgEBoDv+fmdeAQC/jAcDM3oBAs3/5vx7ngEBLcfofhe+AQPdcAeCj9oBAj04CQAr/gEAJo/4fXAeBQKCU/3/CD4FATYAGQOEWgUDrBfqfRx+BQGgO/5+ZJ4FAL+MBwMwugUCPTgJACjeBQOsF+p9HP4FAS3H6H4VHgUCglP9/wk+BQC/jAcDMVoFAj04CQApfgUDrBfqfR2eBQEtx+h+Fb4FAoJT/f8J3gUAv4wHAzH6BQLN/+b8eh4FAS3H6H4WPgUD3XAHgo5aBQI9OAkAKn4FACaP+H1yngUCglP9/wq+BQE2ABkDhtoFA6wX6n0e/gUBoDv+fmceBQC/jAcDMzoFAj04CQArXgUDrBfqfR9+BQEtx+h+F54FAoJT/f8LvgUAv4wHAzPaBQI9OAkAK/4FA6wX6n0cHgkBLcfofhQ+CQKCU/3/CF4JAL+MBwMwegkCzf/m/HieCQEtx+h+FL4JA91wB4KM2gkCPTgJACj+CQAmj/h9cR4JAoJT/f8JPgkBNgAZA4VaCQOsF+p9HX4JAaA7/n5lngkAv4wHAzG6CQI9OAkAKd4JA6wX6n0d/gkBLcfofhYeCQKCU/3/Cj4JAL+MBwMyWgkCPTgJACp+CQOsF+p9Hp4JAS3H6H4WvgkCglP9/wreCQC/jAcDMvoJATYAGQOHGgkCPTgJACs+CQLN/+b8e14JA6wX6n0ffgkAJo/4fXOeCQEtx+h+F74JAaA7/n5n3gkCglP9/wv+CQBX6BWC4BoNAL+MBwMwOg0CPTgJACheDQOsF+p9HH4NAS3H6H4Ung0CglP9/wi+DQC/jAcDMNoNAj04CQAo/g0DrBfqfR0eDQEtx+h+FT4NAoJT/f8JXg0Av4wHAzF6DQI9OAkAKZ4NA6wX6n0dvg0BLcfofhXeDQKCU/3/Cf4NAL+MBwMyGg0CPTgJACo+DQOsF+p9Hl4NAS3H6H4Wfg0CglP9/wqeDQC/jAcDMroNATYAGQOG2g0CPTgJACr+DQLN/+b8ex4NA6wX6n0fPg0AJo/4fXNeDQEtx+h+F34NAaA7/n5nng0CglP9/wu+DQBX6BWC49oNAL+MBwMz+g0BNgAZA4QaEQI9OAkAKD4RAs3/5vx4XhEDrBfqfRx+EQAmj/h9cJ4RAS3H6H4UvhEBoDv+fmTeEQKCU/3/CP4RAFfoFYLhGhEAv4wHAzE6EQE2ABkDhVoRA",
          "dtype": "f8"
         },
         "y": {
          "bdata": "lD34Pza+ckCuJvSfOtJ0QMzD+B+Pm3ZALdT1n3DdeEDMw/gfb3p7QB0z9V+sAH1AXsYDgNljf0DpYP2fE8qAQNPB+j/3iYFAScz9H9F2gkD9tQYA2HuDQEaCBCDJGIRABVkFIETchEDtFAbA8xSFQBFG/T+YvYVAS3H6HwUIhkACpfz/00SGQGdpAqD1YIZAmzv6X/50hkDyA/y/X12GQOYWBKBrLYZAPd8FAG3ihUAenQSARJOFQOYWBKC7AYVAyh78H8uMhEBoDv+fCTaEQCOM+n/gloNAZ2kCoNUJg0DYGgBgu6iCQNZ1A2AnDoJA5hYEoOtzgUBNgAZAAauAQAAAAADAIoBACaP+H2xVf0AFWQUgJO99QCsv+Z8conxAil8MQH7Re0BEc/j/rKR6QE2ABkCBynlA22T5X/OLeEC8IvjfCrh3QGxY+J8BcXZAelT83xGsdUDRHP4/8+F0QFJv/D/9InRA1dAGYMNHc0AH/gEgWMJyQFLZC2Bl53FAPd8FAN1GcUCW4vQ/yrFwQLA1AMAWGXBAv2zx33IOb0Bxsf2/xTluQE+PEmA9Nm1A9iEUAEhYbEC6ffvfNndrQFy3919de2pAi5r5H+q0aUA70PnfAO1oQKtGCsDaF2hAz3cBQJ9TZ0DKHvwf+4BmQN2f5j//3GVA+QH+34cpZUARRv0/2HVkQBS/GIB842NAXLf3X51UY0Cm7QSgNqNiQKtGCsBaxWFAskQM4NJQYUBlLhXAOaJgQJ6INODiyV9A3kckwJ/GXkAupdNf1P1dQMc70b9u7VxAxS8GIH+kW0CGFRNA1nZaQB4HFKDcgVlAoNP73/SOWEAYBQMALlZXQDtSASB801ZAEOD8n2bGVUA0VP//Q5pUQLFcBADm4FNArSoDINHdUkAzFQOgIS9SQLB0/B/5dFFAmVcBADigUEBokAbgNOJPQEmNAcDOJk5AYGsAgK3rTECxXAQAprhLQAvxBqBqdkpAW7sG4BMhSUDBe/3/bgpIQDBh+n9RKkdAixwBYGXLRUAycAagTehEQPZ0+f+G0kNABDIB4FT9QkAhJvrfPgZCQKyB95/GE0FAfQgFAKJ3QEAjjPp/ML4/QOPMCqBzyj5AeO77P6AlPUCdXu8fh3k7QOVt+B+RaTpAcHYQ4Jl+OUAF7/X/u184QLIZ+R8N+DZAUJ/sf+M3NkBOPftf6C81QAYCEaCuDzRAz3cBQF/KM0B6vgsA+qwyQIl3BGDRETJA",
          "dtype": "f8"
         }
        },
        {
         "error_y": {
          "array": {
           "bdata": "AAAAAAAA+H8AAAAAAAD4fwAAAAAAAPh/AAAAAAAA+H8AAAAAAAD4fwAAAAAAAPh/AAAAAAAA+H8AAAAAAAD4fwAAAAAAAPh/AAAAAAAA+H8AAAAAAAD4f1va7vv+UQBA3fWUQ6S9AEAJXaly2BsBQKPzqBw9dAFA7eAfL5aoAUD7JM8iSLEBQIdZCi0UvQFAjLNfO3ywAUAveUQMSZMBQFUI+dIzawFAoQtTZIAtAUBTBkI1lPwAQAAAAAAAAPh/AAAAAAAA+H8AAAAAAAD4fwAAAAAAAPh/AAAAAAAA+H8AAAAAAAD4fwAAAAAAAPh/AAAAAAAA+H8AAAAAAAD4fwAAAAAAAPh/AAAAAAAA+H8AAAAAAAD4fwAAAAAAAPh/AAAAAAAA+H8AAAAAAAD4fwAAAAAAAPh/AAAAAAAA+H8AAAAAAAD4fwAAAAAAAPh/AAAAAAAA+H8AAAAAAAD4fwAAAAAAAPh/AAAAAAAA+H8AAAAAAAD4fwAAAAAAAPh/AAAAAAAA+H8AAAAAAAD4fwAAAAAAAPh/AAAAAAAA+H8AAAAAAAD4fwAAAAAAAPh/AAAAAAAA+H8AAAAAAAD4fwAAAAAAAPh/AAAAAAAA+H8AAAAAAAD4fwAAAAAAAPh/AAAAAAAA+H8AAAAAAAD4fwAAAAAAAPh/AAAAAAAA+H8AAAAAAAD4fwAAAAAAAPh/AAAAAAAA+H8AAAAAAAD4fwAAAAAAAPh/AAAAAAAA+H8AAAAAAAD4fwAAAAAAAPh/AAAAAAAA+H8AAAAAAAD4fwAAAAAAAPh/AAAAAAAA+H8AAAAAAAD4fwAAAAAAAPh/AAAAAAAA+H8AAAAAAAD4fwAAAAAAAPh/AAAAAAAA+H8AAAAAAAD4fwAAAAAAAPh/AAAAAAAA+H8AAAAAAAD4fwAAAAAAAPh/AAAAAAAA+H8AAAAAAAD4fwAAAAAAAPh/AAAAAAAA+H8AAAAAAAD4fwAAAAAAAPh/AAAAAAAA+H8AAAAAAAD4fwAAAAAAAPh/AAAAAAAA+H8AAAAAAAD4fwAAAAAAAPh/AAAAAAAA+H8AAAAAAAD4fwAAAAAAAPh/AAAAAAAA+H8AAAAAAAD4fwAAAAAAAPh/AAAAAAAA+H8AAAAAAAD4fwAAAAAAAPh/AAAAAAAA+H8AAAAAAAD4fwAAAAAAAPh/AAAAAAAA+H8AAAAAAAD4fwAAAAAAAPh/AAAAAAAA+H8AAAAAAAD4fwAAAAAAAPh/",
           "dtype": "f8"
          },
          "type": "data",
          "visible": true
         },
         "line": {
          "color": "#35b779"
         },
         "mode": "lines",
         "name": "0.175",
         "type": "scatter",
         "x": {
          "bdata": "CaP+H1y3gECglP9/wr+AQE2ABkDhxoBA6wX6n0fPgEBoDv+fmdeAQC/jAcDM3oBAs3/5vx7ngEBLcfofhe+AQPdcAeCj9oBAj04CQAr/gEAJo/4fXAeBQKCU/3/CD4FATYAGQOEWgUDrBfqfRx+BQGgO/5+ZJ4FAL+MBwMwugUCPTgJACjeBQOsF+p9HP4FAS3H6H4VHgUCglP9/wk+BQC/jAcDMVoFAj04CQApfgUDrBfqfR2eBQEtx+h+Fb4FAoJT/f8J3gUAv4wHAzH6BQLN/+b8eh4FAS3H6H4WPgUD3XAHgo5aBQI9OAkAKn4FACaP+H1yngUCglP9/wq+BQE2ABkDhtoFA6wX6n0e/gUBoDv+fmceBQC/jAcDMzoFAj04CQArXgUDrBfqfR9+BQEtx+h+F54FAoJT/f8LvgUAv4wHAzPaBQI9OAkAK/4FA6wX6n0cHgkBLcfofhQ+CQKCU/3/CF4JAL+MBwMwegkCzf/m/HieCQEtx+h+FL4JA91wB4KM2gkCPTgJACj+CQAmj/h9cR4JAoJT/f8JPgkBNgAZA4VaCQOsF+p9HX4JAaA7/n5lngkAv4wHAzG6CQI9OAkAKd4JA6wX6n0d/gkBLcfofhYeCQKCU/3/Cj4JAL+MBwMyWgkCPTgJACp+CQOsF+p9Hp4JAS3H6H4WvgkCglP9/wreCQC/jAcDMvoJATYAGQOHGgkCPTgJACs+CQLN/+b8e14JA6wX6n0ffgkAJo/4fXOeCQEtx+h+F74JAaA7/n5n3gkCglP9/wv+CQBX6BWC4BoNAL+MBwMwOg0CPTgJACheDQOsF+p9HH4NAS3H6H4Ung0CglP9/wi+DQC/jAcDMNoNAj04CQAo/g0DrBfqfR0eDQEtx+h+FT4NAoJT/f8JXg0Av4wHAzF6DQI9OAkAKZ4NA6wX6n0dvg0BLcfofhXeDQKCU/3/Cf4NAL+MBwMyGg0CPTgJACo+DQOsF+p9Hl4NAS3H6H4Wfg0CglP9/wqeDQC/jAcDMroNATYAGQOG2g0CPTgJACr+DQLN/+b8ex4NA6wX6n0fPg0AJo/4fXNeDQEtx+h+F34NAaA7/n5nng0CglP9/wu+DQBX6BWC49oNAL+MBwMz+g0BNgAZA4QaEQI9OAkAKD4RAs3/5vx4XhEDrBfqfRx+EQAmj/h9cJ4RAS3H6H4UvhEBoDv+fmTeEQKCU/3/CP4RAFfoFYLhGhEAv4wHAzE6EQE2ABkDhVoRA",
          "dtype": "f8"
         },
         "y": {
          "bdata": "d3QSABLMa0AUvxiAPJVuQOrKDMALaHBAarP7n800ckCwNQDAVuhzQGzCB8BpEHVAoqMLoA6cdkBJNg1AOfF3QMZq8/9q93hACaP+H4xoekB/rQEAlmF7QMLlDCB3VXxAaA7/n1kQfUCGQfT/5bN9QPum+t9bTX5AYx8JoD2ofkCK9fwfVrd+QFMU+T/Ry35ADO33H/S1fkCd4PZfQoN+QOrKDMCrPX5ATrvzH43SfUBuZwTAnX19QKTe+H+6v3xAP4QCAFENfEB9CAUA4ox7QAIPDCAcznpAJDH3f2T7eUAtPgXAuGx5QAIPDCCch3hAztIEQEubd0CEnPf/Ecd2QLUk9r8yD3ZA77kCwOdWdUC3MwLgbmp0QPum+t+brHNAskQM4JL3ckCiOfx/JgVyQMDWAAA7anFAY7X5f7WncEAdM/VfjNxvQEwW9x8Zpm5AqTf+n15QbUCJi+3/LTBsQI0TFWAOO2tAtbrmn2r3aUCJi+3/bRZpQCh78H9sL2hATKzn//BXZ0C3MwLgjppmQDAe75/4zGVAY0vqX63VZECLmvkfqk1kQJKY+z/itWNAmZb9X1oOY0Bn0xHAjXFiQH8XESDe3mFAluL0P4oqYUDkcQegR6VgQJQRF4BGMmBA5+oi4GujX0CFcBZAQiVeQJ4b5D9uYl1AiObw/5mKXEBpeA7AYZ5bQJeH8T+e2lpAZS4VwLn4WUA5we2/hChZQItb/b8HPVhAzGwEoBkxV0CPzPr/fktWQO+5AsAntlVAhyn833LOVED6KAIg1ydUQJxi/p/9dlNAVqH9H9KRUkAzFQOg4dNRQFrT/v+mHlFAvOP7f+hoUECD9/r/3aRPQIRd+5/Plk5Ak0EHwGwwTUAL8QagagFMQCHn/X8cl0pAwvn1vzNISUBgLAQgC3JIQFCLA+AGX0dAjWoJ4IN6RkDhvf5/d1BFQJwjAkDbRkRA15wHoOaZQ0Bxsf2/xZhCQPnCAYAlyUFAN0cEgLbvQED2dPn/Bi5AQKG7A8Chuj5Aw4oJIGunPUB84QDA0g08QNnX9H+SpjpAmr0BoGlWOUBTPwwAl1k4QGik73+RTzdAIwrzP3VGNkCzLBTA/001QMq07P/SnjRACjQSgAOYM0D+3ApAJ70yQPOUDyDH2jFAcXIBYCM6MUCYMP2/qFQwQNsRFGDUjS9AoIAW4PUELkByhRwAFogsQCzEG4CqbStA9HwXAPTlKkA+cedfHpIpQAzZDoCXUShA",
          "dtype": "f8"
         }
        },
        {
         "error_y": {
          "array": {
           "bdata": "AAAAAAAA+H8AAAAAAAD4fwAAAAAAAPh/AAAAAAAA+H8AAAAAAAD4fwAAAAAAAPh/AAAAAAAA+H8AAAAAAAD4fwAAAAAAAPh/AAAAAAAA+H8AAAAAAAD4f7vTtZ8ZE/A/QAMdLQ9v8D/KstjMN7zwP8cjpxw7+/A/X7BhZpQU8T8btP/UCyLxP1DGTQwPOvE/cdnzfFcU8T/3cBTbx+3wP0KP6SjGr/A/QMYfrlyU8D8kJdZNXUnwPwAAAAAAAPh/AAAAAAAA+H8AAAAAAAD4fwAAAAAAAPh/AAAAAAAA+H8AAAAAAAD4fwAAAAAAAPh/AAAAAAAA+H8AAAAAAAD4fwAAAAAAAPh/AAAAAAAA+H8AAAAAAAD4fwAAAAAAAPh/AAAAAAAA+H8AAAAAAAD4fwAAAAAAAPh/AAAAAAAA+H8AAAAAAAD4fwAAAAAAAPh/AAAAAAAA+H8AAAAAAAD4fwAAAAAAAPh/AAAAAAAA+H8AAAAAAAD4fwAAAAAAAPh/AAAAAAAA+H8AAAAAAAD4fwAAAAAAAPh/AAAAAAAA+H8AAAAAAAD4fwAAAAAAAPh/AAAAAAAA+H8AAAAAAAD4fwAAAAAAAPh/AAAAAAAA+H8AAAAAAAD4fwAAAAAAAPh/AAAAAAAA+H8AAAAAAAD4fwAAAAAAAPh/AAAAAAAA+H8AAAAAAAD4fwAAAAAAAPh/AAAAAAAA+H8AAAAAAAD4fwAAAAAAAPh/AAAAAAAA+H8AAAAAAAD4fwAAAAAAAPh/AAAAAAAA+H8AAAAAAAD4fwAAAAAAAPh/AAAAAAAA+H8AAAAAAAD4fwAAAAAAAPh/AAAAAAAA+H8AAAAAAAD4fwAAAAAAAPh/AAAAAAAA+H8AAAAAAAD4fwAAAAAAAPh/AAAAAAAA+H8AAAAAAAD4fwAAAAAAAPh/AAAAAAAA+H8AAAAAAAD4fwAAAAAAAPh/AAAAAAAA+H8AAAAAAAD4fwAAAAAAAPh/AAAAAAAA+H8AAAAAAAD4fwAAAAAAAPh/AAAAAAAA+H8AAAAAAAD4fwAAAAAAAPh/AAAAAAAA+H8AAAAAAAD4fwAAAAAAAPh/AAAAAAAA+H8AAAAAAAD4fwAAAAAAAPh/AAAAAAAA+H8AAAAAAAD4fwAAAAAAAPh/AAAAAAAA+H8AAAAAAAD4fwAAAAAAAPh/AAAAAAAA+H8AAAAAAAD4fwAAAAAAAPh/AAAAAAAA+H8AAAAAAAD4fwAAAAAAAPh/",
           "dtype": "f8"
          },
          "type": "data",
          "visible": true
         },
         "line": {
          "color": "#1f9e89"
         },
         "mode": "lines",
         "name": "0.088",
         "type": "scatter",
         "x": {
          "bdata": "CaP+H1y3gECglP9/wr+AQE2ABkDhxoBA6wX6n0fPgEBoDv+fmdeAQC/jAcDM3oBAs3/5vx7ngEBLcfofhe+AQPdcAeCj9oBAj04CQAr/gEAJo/4fXAeBQKCU/3/CD4FATYAGQOEWgUDrBfqfRx+BQGgO/5+ZJ4FAL+MBwMwugUCPTgJACjeBQOsF+p9HP4FAS3H6H4VHgUCglP9/wk+BQC/jAcDMVoFAj04CQApfgUDrBfqfR2eBQEtx+h+Fb4FAoJT/f8J3gUAv4wHAzH6BQLN/+b8eh4FAS3H6H4WPgUD3XAHgo5aBQI9OAkAKn4FACaP+H1yngUCglP9/wq+BQE2ABkDhtoFA6wX6n0e/gUBoDv+fmceBQC/jAcDMzoFAj04CQArXgUDrBfqfR9+BQEtx+h+F54FAoJT/f8LvgUAv4wHAzPaBQI9OAkAK/4FA6wX6n0cHgkBLcfofhQ+CQKCU/3/CF4JAL+MBwMwegkCzf/m/HieCQEtx+h+FL4JA91wB4KM2gkCPTgJACj+CQAmj/h9cR4JAoJT/f8JPgkBNgAZA4VaCQOsF+p9HX4JAaA7/n5lngkAv4wHAzG6CQI9OAkAKd4JA6wX6n0d/gkBLcfofhYeCQKCU/3/Cj4JAL+MBwMyWgkCPTgJACp+CQOsF+p9Hp4JAS3H6H4WvgkCglP9/wreCQC/jAcDMvoJATYAGQOHGgkCPTgJACs+CQLN/+b8e14JA6wX6n0ffgkAJo/4fXOeCQEtx+h+F74JAaA7/n5n3gkCglP9/wv+CQBX6BWC4BoNAL+MBwMwOg0CPTgJACheDQOsF+p9HH4NAS3H6H4Ung0CglP9/wi+DQC/jAcDMNoNAj04CQAo/g0DrBfqfR0eDQEtx+h+FT4NAoJT/f8JXg0Av4wHAzF6DQI9OAkAKZ4NA6wX6n0dvg0BLcfofhXeDQKCU/3/Cf4NAL+MBwMyGg0CPTgJACo+DQOsF+p9Hl4NAS3H6H4Wfg0CglP9/wqeDQC/jAcDMroNATYAGQOG2g0CPTgJACr+DQLN/+b8ex4NA6wX6n0fPg0AJo/4fXNeDQEtx+h+F34NAaA7/n5nng0CglP9/wu+DQBX6BWC49oNAL+MBwMz+g0BNgAZA4QaEQI9OAkAKD4RAs3/5vx4XhEDrBfqfRx+EQAmj/h9cJ4RAS3H6H4UvhEBoDv+fmTeEQKCU/3/CP4RAFfoFYLhGhEAv4wHAzE6EQE2ABkDhVoRA",
          "dtype": "f8"
         },
         "y": {
          "bdata": "0YYNYNuTXEAHlPL/T5lfQNffEoC/FWFAmw8ZoP5xYkAWNfM/1PtjQOJi+39LQGVA2ikMgOe3ZkB9nvXfuelnQOzZGOCn+WhAVo0UgHUpakBU6BeAIRFrQF8B8V9F6GtA+3oZIOyHbEAuqBTg4A1tQKyB959Ge21ANNL3v0inbUB2CgPgqb5tQIQGByBa6G1Au+cKAN+mbUA8C+e/7GNtQJvR6j9G+GxAvpsTIK/IbEC1jgXgekZsQG+i8Z+JyWtA/bUGABgfa0AqivyfaFJqQBcJEoDkkWlAdfv2vy0daUBCZOzfUAdoQBmuDoB4j2dAzw3yH3eeZkAV+gVgKNNlQLW65p9qHWVAvIwHAHMqZEBLcfofBVZjQOVC5V9LsGJA0YYNYNvfYUD38vG/yzphQI9OAkC6QGBAMsYsIFlaX0DLhcq/llteQLZiJCDLSF1AYGsAgK0BXEBDDCpgcdRaQPCK4H+rt1lACeL6f+6xWEBSMADg2tBXQNwNBeBd+VZAK7EA4HcNVkDFbgKAoRNVQFNXBCBqrFRAGYP7vzLrU0ANlgOgvklTQKfR/f9srVJAun3737YiUkAhqAEgeoRRQBZ4/h/tAFFAgrj+n/tsUEDAFf1f/QZQQCIOAsBr/U5AqE/2v3HLTUBr2v/f3AFNQJbK/B+3+EtAj04CQLoMS0B51gMgzU9KQC77+d9ff0lAql4C4G3JSEA8Nvp/8tFHQLXl+V/wxUZA4WYKAALvRUAqivyf6EBFQGp0/z9rZkRAIIH93yqsQ0AjNQYAu/FCQHMX/l83T0JA/9j7v7CnQUCfbfs/g/RAQMcT/3+1XUBAqeAJICmBP0B+xfkficQ9QPxL99/vDj1ActgBAJWqO0DsAesf4YU6QPUO+V+VIDlA/Qjs/1b/N0BRSPj/7Qs3QLOqDIBEODZATdPrPwBTNUA9HgJgn0g0QAuH93+CGDNASY0BwE5WMkDcTAFAgKAxQFw5/59YuTBA1Gb3PxsWMECkXPE/v9ouQAbDFECMUy1Ak5Tsv2vvK0DdICCAUNAqQLkDEqDoVClA7iTg37lAKECk3SqAEAQnQAF++L9EDiZAmBwUIEw4JUBWNiAAQEkkQEk4/z/maSNAwg/833meIkAQ9gLAbKghQFx3AoC0CyFAFL37/xJvIECmqvm/XWEfQC3pAkAQ6B1ApRsD4A+HHECg6vp/gcAaQFykB0AH8hlAo2AAwDUCGUBdifkfhJEYQFqV+x+LLRdA",
          "dtype": "f8"
         }
        },
        {
         "error_y": {
          "array": {
           "bdata": "AAAAAAAA+H8AAAAAAAD4fwAAAAAAAPh/AAAAAAAA+H8AAAAAAAD4fwAAAAAAAPh/AAAAAAAA+H8AAAAAAAD4fwAAAAAAAPh/AAAAAAAA+H++KLtF0jnmPyU7ucxQ6OY/2MPOfB085z8ep9r5BvPnPwcLdUGONOg/uifm1KJu6D+KeuAiuY3oP2s6gBIfd+g/Q6Z6vl9G6D9pQQQpbCPoP36e6v+BAug/7X5ikyaJ5z8AAAAAAAD4fwAAAAAAAPh/AAAAAAAA+H8AAAAAAAD4fwAAAAAAAPh/AAAAAAAA+H8AAAAAAAD4fwAAAAAAAPh/AAAAAAAA+H8AAAAAAAD4fwAAAAAAAPh/AAAAAAAA+H8AAAAAAAD4fwAAAAAAAPh/AAAAAAAA+H8AAAAAAAD4fwAAAAAAAPh/AAAAAAAA+H8AAAAAAAD4fwAAAAAAAPh/AAAAAAAA+H8AAAAAAAD4fwAAAAAAAPh/AAAAAAAA+H8AAAAAAAD4fwAAAAAAAPh/AAAAAAAA+H8AAAAAAAD4fwAAAAAAAPh/AAAAAAAA+H8AAAAAAAD4fwAAAAAAAPh/AAAAAAAA+H8AAAAAAAD4fwAAAAAAAPh/AAAAAAAA+H8AAAAAAAD4fwAAAAAAAPh/AAAAAAAA+H8AAAAAAAD4fwAAAAAAAPh/AAAAAAAA+H8AAAAAAAD4fwAAAAAAAPh/AAAAAAAA+H8AAAAAAAD4fwAAAAAAAPh/AAAAAAAA+H8AAAAAAAD4fwAAAAAAAPh/AAAAAAAA+H8AAAAAAAD4fwAAAAAAAPh/AAAAAAAA+H8AAAAAAAD4fwAAAAAAAPh/AAAAAAAA+H8AAAAAAAD4fwAAAAAAAPh/AAAAAAAA+H8AAAAAAAD4fwAAAAAAAPh/AAAAAAAA+H8AAAAAAAD4fwAAAAAAAPh/AAAAAAAA+H8AAAAAAAD4fwAAAAAAAPh/AAAAAAAA+H8AAAAAAAD4fwAAAAAAAPh/AAAAAAAA+H8AAAAAAAD4fwAAAAAAAPh/AAAAAAAA+H8AAAAAAAD4fwAAAAAAAPh/AAAAAAAA+H8AAAAAAAD4fwAAAAAAAPh/AAAAAAAA+H8AAAAAAAD4fwAAAAAAAPh/AAAAAAAA+H8AAAAAAAD4fwAAAAAAAPh/AAAAAAAA+H8AAAAAAAD4fwAAAAAAAPh/AAAAAAAA+H8AAAAAAAD4fwAAAAAAAPh/AAAAAAAA+H8AAAAAAAD4fwAAAAAAAPh/",
           "dtype": "f8"
          },
          "type": "data",
          "visible": true
         },
         "line": {
          "color": "#26828e"
         },
         "mode": "lines",
         "name": "0.07",
         "type": "scatter",
         "x": {
          "bdata": "CaP+H1y3gECglP9/wr+AQE2ABkDhxoBA6wX6n0fPgEBoDv+fmdeAQC/jAcDM3oBAs3/5vx7ngEBLcfofhe+AQPdcAeCj9oBAj04CQAr/gEAJo/4fXAeBQKCU/3/CD4FATYAGQOEWgUDrBfqfRx+BQGgO/5+ZJ4FAL+MBwMwugUCPTgJACjeBQOsF+p9HP4FAS3H6H4VHgUCglP9/wk+BQC/jAcDMVoFAj04CQApfgUDrBfqfR2eBQEtx+h+Fb4FAoJT/f8J3gUAv4wHAzH6BQLN/+b8eh4FAS3H6H4WPgUD3XAHgo5aBQI9OAkAKn4FACaP+H1yngUCglP9/wq+BQE2ABkDhtoFA6wX6n0e/gUBoDv+fmceBQC/jAcDMzoFAj04CQArXgUDrBfqfR9+BQEtx+h+F54FAoJT/f8LvgUAv4wHAzPaBQI9OAkAK/4FA6wX6n0cHgkBLcfofhQ+CQKCU/3/CF4JAL+MBwMwegkCzf/m/HieCQEtx+h+FL4JA91wB4KM2gkCPTgJACj+CQAmj/h9cR4JAoJT/f8JPgkBNgAZA4VaCQOsF+p9HX4JAaA7/n5lngkAv4wHAzG6CQI9OAkAKd4JA6wX6n0d/gkBLcfofhYeCQKCU/3/Cj4JAL+MBwMyWgkCPTgJACp+CQOsF+p9Hp4JAS3H6H4WvgkCglP9/wreCQC/jAcDMvoJATYAGQOHGgkCPTgJACs+CQLN/+b8e14JA6wX6n0ffgkAJo/4fXOeCQEtx+h+F74JAaA7/n5n3gkCglP9/wv+CQBX6BWC4BoNAL+MBwMwOg0CPTgJACheDQOsF+p9HH4NAS3H6H4Ung0CglP9/wi+DQC/jAcDMNoNAj04CQAo/g0DrBfqfR0eDQEtx+h+FT4NAoJT/f8JXg0Av4wHAzF6DQI9OAkAKZ4NA6wX6n0dvg0BLcfofhXeDQKCU/3/Cf4NAL+MBwMyGg0CPTgJACo+DQOsF+p9Hl4NAS3H6H4Wfg0CglP9/wqeDQC/jAcDMroNATYAGQOG2g0CPTgJACr+DQLN/+b8ex4NA6wX6n0fPg0AJo/4fXNeDQEtx+h+F34NAaA7/n5nng0CglP9/wu+DQBX6BWC49oNAL+MBwMz+g0BNgAZA4QaEQI9OAkAKD4RAs3/5vx4XhEDrBfqfRx+EQAmj/h9cJ4RAS3H6H4UvhEBoDv+fmTeEQKCU/3/CP4RAFfoFYLhGhEAv4wHAzE6EQE2ABkDhVoRA",
          "dtype": "f8"
         },
         "y": {
          "bdata": "sZsAYEjDVEDgfgIgFcxWQJ4H+5/RlFhAf0Py382VWkD85ChAlNNcQPSo+L8jfV5A6wX6n9dZYECUpwdgHiJhQIsw6v+BrmFAhXAWQMKTYkAlBRbAFEtjQFgD7z+N4mNA5ULlX0srZECglP9/EspkQCF97l/0AmVA0lfrH181ZUDRhg1gW1BlQChPD8C8PGVA/loDAGwSZUA6lQwAFfRkQLFw7Z+C12RAoCrwXypuZEBu0RPgxRpkQDIt+790xmNAwEAQIAM3Y0DaKQyA59xiQN2f5j+/UmJAGyTpPxCeYUDKtOz/EkdhQKTe+H96pWBAS0UZYBU5YEDp9u1/2/FeQC1q5n+o1F1AGN0wwHSmXECqCNxfYqJbQCbZNABlllpA9U31vzdlWUDbJf3/cC9YQDKvAgBwrFdAXHj7/zpiVkAyLfu/tKVVQPcdBYCRwVRAJHQCYB35U0Btf/zfMBFTQIgRBMAfV1JA/fQCYHqlUUD4m/0/1uFQQGM3AcAQPVBANwgIIBSMT0C1JPa/kltOQALk+F82Ok1AS9sJQO07TEA4xfw/e5pLQLQoBUAJgEpATqcKgFDaSUDvuQLAZ79IQBw3BOCCQkhAGxAAoDN5R0C2S/r/4adGQCPL9t/SDUZAkTL7n/BVRUDTAPefKZ1EQFu7BuAT9ENAL+MBwIxjQ0DTqQIgtL9CQClLAEDGWUJAxW4CgCGiQUDCYwXgmx5BQIpz9d9aV0BAs6oMgESNP0BqdP8/618+QGSx6v9eZT1AQREH4NExPEAZQPDfWVs7QCMK8z91FTpASTYNQFnuOEBBkw4gjU04QEil+d8hLTdAsfL0371QNkCoT/a/8YA1QFcf9t/WsTRAirLxP32bM0B/weqfEhEzQI95FQCAFTJAIagBIHoyMUCNAPq/G4swQHop6R9Mfy9AcOAfAIIJLkARG+p/0sksQIXv3P/writAtiMowKh7KkAXNCVA6hIpQMdm5H80AihAJ9Lk/+HKJkAEtAggEMclQKuZ778ZJyVAG/nVf0odJEDAKwOAw0IjQARJAIBhPiJATJj+X1SWIUB5LP8f/I4gQEwDBwADxx9A3wL8Xx1RHkCU/QJgjcgcQIoyB4CrPhxAu/r6HzUDG0Dyl/qfGmIZQAO2+h+diBhAyOQHwNUkF0CeWwSgM2QWQDBh+n9ROxVAZ1IDANklFECMggEA14gTQHVOB0BJ4BJAUtoE4OtoEkATVgLg2lYRQJ7w+/+EiRBA",
          "dtype": "f8"
         }
        },
        {
         "error_y": {
          "array": {
           "bdata": "AAAAAAAA+H8AAAAAAAD4fwAAAAAAAPh/AAAAAAAA+H8AAAAAAAD4fwAAAAAAAPh/AAAAAAAA+H8AAAAAAAD4fwAAAAAAAPh/AAAAAAAA+H9ArIhoZQPfP7Xv7Xj8B+A/zbRY5Z0+4D/THAOwjZHgP77cTjPJveA/gotb5f7c4D+9iIq+aPbgP+4qaePW8eA/r0b+KH/e4D/J3IuXBsTgPwfI1yJJb+A/aFVmatRD4D8AAAAAAAD4fwAAAAAAAPh/AAAAAAAA+H8AAAAAAAD4fwAAAAAAAPh/AAAAAAAA+H8AAAAAAAD4fwAAAAAAAPh/AAAAAAAA+H8AAAAAAAD4fwAAAAAAAPh/AAAAAAAA+H8AAAAAAAD4fwAAAAAAAPh/AAAAAAAA+H8AAAAAAAD4fwAAAAAAAPh/AAAAAAAA+H8AAAAAAAD4fwAAAAAAAPh/AAAAAAAA+H8AAAAAAAD4fwAAAAAAAPh/AAAAAAAA+H8AAAAAAAD4fwAAAAAAAPh/AAAAAAAA+H8AAAAAAAD4fwAAAAAAAPh/AAAAAAAA+H8AAAAAAAD4fwAAAAAAAPh/AAAAAAAA+H8AAAAAAAD4fwAAAAAAAPh/AAAAAAAA+H8AAAAAAAD4fwAAAAAAAPh/AAAAAAAA+H8AAAAAAAD4fwAAAAAAAPh/AAAAAAAA+H8AAAAAAAD4fwAAAAAAAPh/AAAAAAAA+H8AAAAAAAD4fwAAAAAAAPh/AAAAAAAA+H8AAAAAAAD4fwAAAAAAAPh/AAAAAAAA+H8AAAAAAAD4fwAAAAAAAPh/AAAAAAAA+H8AAAAAAAD4fwAAAAAAAPh/AAAAAAAA+H8AAAAAAAD4fwAAAAAAAPh/AAAAAAAA+H8AAAAAAAD4fwAAAAAAAPh/AAAAAAAA+H8AAAAAAAD4fwAAAAAAAPh/AAAAAAAA+H8AAAAAAAD4fwAAAAAAAPh/AAAAAAAA+H8AAAAAAAD4fwAAAAAAAPh/AAAAAAAA+H8AAAAAAAD4fwAAAAAAAPh/AAAAAAAA+H8AAAAAAAD4fwAAAAAAAPh/AAAAAAAA+H8AAAAAAAD4fwAAAAAAAPh/AAAAAAAA+H8AAAAAAAD4fwAAAAAAAPh/AAAAAAAA+H8AAAAAAAD4fwAAAAAAAPh/AAAAAAAA+H8AAAAAAAD4fwAAAAAAAPh/AAAAAAAA+H8AAAAAAAD4fwAAAAAAAPh/AAAAAAAA+H8AAAAAAAD4fwAAAAAAAPh/",
           "dtype": "f8"
          },
          "type": "data",
          "visible": true
         },
         "line": {
          "color": "#31688e"
         },
         "mode": "lines",
         "name": "0.053",
         "type": "scatter",
         "x": {
          "bdata": "CaP+H1y3gECglP9/wr+AQE2ABkDhxoBA6wX6n0fPgEBoDv+fmdeAQC/jAcDM3oBAs3/5vx7ngEBLcfofhe+AQPdcAeCj9oBAj04CQAr/gEAJo/4fXAeBQKCU/3/CD4FATYAGQOEWgUDrBfqfRx+BQGgO/5+ZJ4FAL+MBwMwugUCPTgJACjeBQOsF+p9HP4FAS3H6H4VHgUCglP9/wk+BQC/jAcDMVoFAj04CQApfgUDrBfqfR2eBQEtx+h+Fb4FAoJT/f8J3gUAv4wHAzH6BQLN/+b8eh4FAS3H6H4WPgUD3XAHgo5aBQI9OAkAKn4FACaP+H1yngUCglP9/wq+BQE2ABkDhtoFA6wX6n0e/gUBoDv+fmceBQC/jAcDMzoFAj04CQArXgUDrBfqfR9+BQEtx+h+F54FAoJT/f8LvgUAv4wHAzPaBQI9OAkAK/4FA6wX6n0cHgkBLcfofhQ+CQKCU/3/CF4JAL+MBwMwegkCzf/m/HieCQEtx+h+FL4JA91wB4KM2gkCPTgJACj+CQAmj/h9cR4JAoJT/f8JPgkBNgAZA4VaCQOsF+p9HX4JAaA7/n5lngkAv4wHAzG6CQI9OAkAKd4JA6wX6n0d/gkBLcfofhYeCQKCU/3/Cj4JAL+MBwMyWgkCPTgJACp+CQOsF+p9Hp4JAS3H6H4WvgkCglP9/wreCQC/jAcDMvoJATYAGQOHGgkCPTgJACs+CQLN/+b8e14JA6wX6n0ffgkAJo/4fXOeCQEtx+h+F74JAaA7/n5n3gkCglP9/wv+CQBX6BWC4BoNAL+MBwMwOg0CPTgJACheDQOsF+p9HH4NAS3H6H4Ung0CglP9/wi+DQC/jAcDMNoNAj04CQAo/g0DrBfqfR0eDQEtx+h+FT4NAoJT/f8JXg0Av4wHAzF6DQI9OAkAKZ4NA6wX6n0dvg0BLcfofhXeDQKCU/3/Cf4NAL+MBwMyGg0CPTgJACo+DQOsF+p9Hl4NAS3H6H4Wfg0CglP9/wqeDQC/jAcDMroNATYAGQOG2g0CPTgJACr+DQLN/+b8ex4NA6wX6n0fPg0AJo/4fXNeDQEtx+h+F34NAaA7/n5nng0CglP9/wu+DQBX6BWC49oNAL+MBwMz+g0BNgAZA4QaEQI9OAkAKD4RAs3/5vx4XhEDrBfqfRx+EQAmj/h9cJ4RAS3H6H4UvhEBoDv+fmTeEQKCU/3/CP4RAFfoFYLhGhEAv4wHAzE6EQE2ABkDhVoRA",
          "dtype": "f8"
         },
         "y": {
          "bdata": "jIIBANc4TUBijvU/hnhPQLtlA8DjHlFAAWYAoHGvUkDapwRALE5UQPdcAeAzYVVAeK//3/22VkBlAwIAtORXQI9OAkA6CFlAKSDtfwAEWkCGFRNA1utaQGJOK+D51FtAj+TyH9IzXEDSg8zfzsNcQFgGMMCZEF1ANNL3v8hGXUDXSSKg53JdQBbOJKD4al1A8cgO4GNJXUDBe/3/bhtdQCr0C8BQiFxA1TfV/948XECo0C8AQ8BbQLJEDOBSJltAyU0eYPdlWkD14+Wfzx5aQPNBKiBIEllA/9j7v3BjWEALMAMAzaBXQBsQAKCzBldAX0T8P14qVkDnfARADURVQD8C+7/VhFRAMxUDoOHOU0AfQgGASBxTQKBVAyCwLVJA/TP/v5x2UUCIEQTAX7RQQIzB/V+5HlBAzer8Xx7ETkCMwf1f+d1NQCHn/X8cnExAVmIBwG80S0AQ4PyfpkJKQDnsAIBK/EhAb2P1PydaSEBSMADgmpBHQKvc+p+ya0ZA55T8X+CXRUDsLP7fpudEQLEdCKCDJ0RA+08GYGZzQ0DpYP2fQ+NCQMPh/Z9gd0JAYZIEwHy2QUAOOwCgkhVBQPx2CqA1jUBARsEAgOsEQEAukeq/9+U+QAas6h8jVD5A2df0f5JbPUC9CgDAd008QMsGBADoWTtAxLENYLp0OkDjH/Cf8qM5QIETAqAnwDhAISb6377zN0BZQuufrz83QKrIEQBWhDZA9jX9n+TFNUA+GvPfKJk0QEyY/l9UIDRAQjgLICE1M0CYMP2/qJoyQCSz/r9/tjFAFKjuX5NEMUBPZP+fN34wQNiF3X995S9ADRT8X0M6LkBCUANA9GAtQI3V5v9VbyxAqU4owIedKkBKSSjgS88pQNQ+JQBizShA3LYQYGhqJ0DzQSogSH0mQEPe1R8ffiVAAtAPwFmeJEB1uwHghKcjQJmt/P8mNSNATuf/X7k+IkARHgCAgm0hQJjaAcB5WCBAaeH53ya0H0CvzgagHvMdQOOg/l/nbxxAtx38v0gqG0C9CQdAscUZQMva979bCBlAzzgF4DxwF0CB/ft/4boWQAO2+h+d2hVAjBf5XyjaFEDcDv5fJK0TQAxuBuDoHBNAIs8FYMn0EUDvZABA/0cRQLJu+591exBAjX35/5lCEEB3sw5g9BkOQNfJDGA5Jg1AxPP0PzDjC0D8zAWg5IUKQARx/T93YwlAfI7wP/caCUBuO/h/kaQHQJ+ZB4CPQQdA",
          "dtype": "f8"
         }
        },
        {
         "error_y": {
          "array": {
           "bdata": "AAAAAAAA+H8AAAAAAAD4fwAAAAAAAPh/AAAAAAAA+H8AAAAAAAD4fwAAAAAAAPh/AAAAAAAA+H8AAAAAAAD4fwAAAAAAAPh/AAAAAAAA+H8rc+nSVc/LP34f/VMLvMw/jzamRUA0zT/KeQwtJNHNP6N+K7Da080/5X2/9e4+zj9ybtBN8j/OP3mFENe7Nc4/CznTozwdzj+FdKVHw9XNPzYRi0NrVs0/HZ2KGPDszD8AAAAAAAD4fwAAAAAAAPh/AAAAAAAA+H8AAAAAAAD4fwAAAAAAAPh/AAAAAAAA+H8AAAAAAAD4fwAAAAAAAPh/AAAAAAAA+H8AAAAAAAD4fwAAAAAAAPh/AAAAAAAA+H8AAAAAAAD4fwAAAAAAAPh/AAAAAAAA+H8AAAAAAAD4fwAAAAAAAPh/AAAAAAAA+H8AAAAAAAD4fwAAAAAAAPh/AAAAAAAA+H8AAAAAAAD4fwAAAAAAAPh/AAAAAAAA+H8AAAAAAAD4fwAAAAAAAPh/AAAAAAAA+H8AAAAAAAD4fwAAAAAAAPh/AAAAAAAA+H8AAAAAAAD4fwAAAAAAAPh/AAAAAAAA+H8AAAAAAAD4fwAAAAAAAPh/AAAAAAAA+H8AAAAAAAD4fwAAAAAAAPh/AAAAAAAA+H8AAAAAAAD4fwAAAAAAAPh/AAAAAAAA+H8AAAAAAAD4fwAAAAAAAPh/AAAAAAAA+H8AAAAAAAD4fwAAAAAAAPh/AAAAAAAA+H8AAAAAAAD4fwAAAAAAAPh/AAAAAAAA+H8AAAAAAAD4fwAAAAAAAPh/AAAAAAAA+H8AAAAAAAD4fwAAAAAAAPh/AAAAAAAA+H8AAAAAAAD4fwAAAAAAAPh/AAAAAAAA+H8AAAAAAAD4fwAAAAAAAPh/AAAAAAAA+H8AAAAAAAD4fwAAAAAAAPh/AAAAAAAA+H8AAAAAAAD4fwAAAAAAAPh/AAAAAAAA+H8AAAAAAAD4fwAAAAAAAPh/AAAAAAAA+H8AAAAAAAD4fwAAAAAAAPh/AAAAAAAA+H8AAAAAAAD4fwAAAAAAAPh/AAAAAAAA+H8AAAAAAAD4fwAAAAAAAPh/AAAAAAAA+H8AAAAAAAD4fwAAAAAAAPh/AAAAAAAA+H8AAAAAAAD4fwAAAAAAAPh/AAAAAAAA+H8AAAAAAAD4fwAAAAAAAPh/AAAAAAAA+H8AAAAAAAD4fwAAAAAAAPh/AAAAAAAA+H8AAAAAAAD4fwAAAAAAAPh/",
           "dtype": "f8"
          },
          "type": "data",
          "visible": true
         },
         "line": {
          "color": "#3e4989"
         },
         "mode": "lines",
         "name": "0.035",
         "type": "scatter",
         "x": {
          "bdata": "CaP+H1y3gECglP9/wr+AQE2ABkDhxoBA6wX6n0fPgEBoDv+fmdeAQC/jAcDM3oBAs3/5vx7ngEBLcfofhe+AQPdcAeCj9oBAj04CQAr/gEAJo/4fXAeBQKCU/3/CD4FATYAGQOEWgUDrBfqfRx+BQGgO/5+ZJ4FAL+MBwMwugUCPTgJACjeBQOsF+p9HP4FAS3H6H4VHgUCglP9/wk+BQC/jAcDMVoFAj04CQApfgUDrBfqfR2eBQEtx+h+Fb4FAoJT/f8J3gUAv4wHAzH6BQLN/+b8eh4FAS3H6H4WPgUD3XAHgo5aBQI9OAkAKn4FACaP+H1yngUCglP9/wq+BQE2ABkDhtoFA6wX6n0e/gUBoDv+fmceBQC/jAcDMzoFAj04CQArXgUDrBfqfR9+BQEtx+h+F54FAoJT/f8LvgUAv4wHAzPaBQI9OAkAK/4FA6wX6n0cHgkBLcfofhQ+CQKCU/3/CF4JAL+MBwMwegkCzf/m/HieCQEtx+h+FL4JA91wB4KM2gkCPTgJACj+CQAmj/h9cR4JAoJT/f8JPgkBNgAZA4VaCQOsF+p9HX4JAaA7/n5lngkAv4wHAzG6CQI9OAkAKd4JA6wX6n0d/gkBLcfofhYeCQKCU/3/Cj4JAL+MBwMyWgkCPTgJACp+CQOsF+p9Hp4JAS3H6H4WvgkCglP9/wreCQC/jAcDMvoJATYAGQOHGgkCPTgJACs+CQLN/+b8e14JA6wX6n0ffgkAJo/4fXOeCQEtx+h+F74JAaA7/n5n3gkCglP9/wv+CQBX6BWC4BoNAL+MBwMwOg0CPTgJACheDQOsF+p9HH4NAS3H6H4Ung0CglP9/wi+DQC/jAcDMNoNAj04CQAo/g0DrBfqfR0eDQEtx+h+FT4NAoJT/f8JXg0Av4wHAzF6DQI9OAkAKZ4NA6wX6n0dvg0BLcfofhXeDQKCU/3/Cf4NAL+MBwMyGg0CPTgJACo+DQOsF+p9Hl4NAS3H6H4Wfg0CglP9/wqeDQC/jAcDMroNATYAGQOG2g0CPTgJACr+DQLN/+b8ex4NA6wX6n0fPg0AJo/4fXNeDQEtx+h+F34NAaA7/n5nng0CglP9/wu+DQBX6BWC49oNAL+MBwMz+g0BNgAZA4QaEQI9OAkAKD4RAs3/5vx4XhEDrBfqfRx+EQAmj/h9cJ4RAS3H6H4UvhEBoDv+fmTeEQKCU/3/CP4RAFfoFYLhGhEAv4wHAzE6EQE2ABkDhVoRA",
          "dtype": "f8"
         },
         "y": {
          "bdata": "Ljr2PwKjOkC+Re2fIy89QJ4H+5+RAz9AUm/8P73JQEDsrgUgYkdCQJdzCKDBOUNAu7z3P9mQRECZGAWg1ddFQKWuCEDUW0ZAUbIHIFZvR0Ck3vh/+iNIQB6dBIB08UhAedYDIM1ZSUCcYv6f/eFJQLVPCYBY5ElALVb930tBSkCn0f3/LEJKQN1zBYBPOUpAvq/8vwskSkBfg/ifAOZJQLjw9v91d0lADVP4v+UbSUC7vPc/We5IQLJY9X+vJEhAO1IBIDydR0AT6/k/LApHQLnY/t+iMUZA8UYHoKitRUDVDwPAJUBFQG+OCABtUkRACLv2P5+8Q0CIzvjfxvZCQK5RB2AgXkJAIs8FYEmdQUBMQQrgXvFAQLVPCYDYZkBAH5n1//0oP0CpIxUAwvg9QAXbDGBfszxAHV4IIFKMO0Bc4gogY7s6QOGS678xWTlAEcgEgFOuOECI5vD/mcw3QGjj69+zNjZAhIgOYBWZNUAaFA8gKtY0QNBfCSCMLjRAA/cTAKlwM0DbZPlfU20yQMK6+V8R8jFAraj735VzMUAKCf+/PfYwQMdS+9/XPTBAMGH6f1GxL0CdNh3gzfEuQCBpBcBXri1AMAoGAFyxLECRMvufcLQrQLKDCED1nCpAtFDXf0LQKUCb0BxAXEcpQCzYBCAHgihAgGr2Hx2XJ0BrXAcgGAInQIEmHUAaVSZAAjfeXzWrJUCBPhVg7YYkQHX6/T+n5CNArK78X5kVI0DAUwBA2X0iQLqqAKAJ1SFAhS4E4G99IUCWiwDAFHcgQHsP///rACBAc2wA4B/tHkDFb/v/558dQHa1AGCBgxxAn9n8X3huG0AA/waAOT8aQMJjBeAbYBlAdxz6f7lSGEA0PvnfPSYXQOAT+n8mDxZAsoMIQPV0FUCyAvp/ACIUQGfn+l8qsxNAzT//3wakEkD29/m/iM8RQPUO+V+VxBBA0AoHoCNcEEC8Dg9A7nsPQIg6+v87wQ1AOW0PQD9rDEAFMA/gx3EKQCEpEOBuJQpAncrwP/wTCUCF2QFgB40HQBxkCaBVZAZAr7n5/543BUAouxDgMbYDQBce9J9HrgNAnpv5fxyLAkAX3QVAmLABQNW4DkAw0ABA5339v9MwAEBFcOL/HMP/P6tb7N+9h/4/gVMiAG2o/D9l2wRAXrX6P5zO/79yU/o/xpUGwHCN+T+JouyfOm35P2ESGgAr4fY/qI7yHxSs9j+h0OXfxIb1P3uQ4j+EiPQ/",
          "dtype": "f8"
         }
        },
        {
         "error_y": {
          "array": {
           "bdata": "AAAAAAAA+H8AAAAAAAD4fwAAAAAAAPh/AAAAAAAA+H8AAAAAAAD4fwAAAAAAAPh/AAAAAAAA+H8AAAAAAAD4fwAAAAAAAPh/AAAAAAAA+H8AAAAAAAD4fzo6QTUOWrU/V/v+1jeetT9/aI6Vv+m1P9tfbeXKQbY/jjEU10s7tj+RG/UoeiO2P6IRcmb4SrY/ZJX3AVUjtj/KSS/f0eC1PwqTjptmnbU/e6p5EEJotT9WpOJ45+S0PwAAAAAAAPh/AAAAAAAA+H8AAAAAAAD4fwAAAAAAAPh/AAAAAAAA+H8AAAAAAAD4fwAAAAAAAPh/AAAAAAAA+H8AAAAAAAD4fwAAAAAAAPh/AAAAAAAA+H8AAAAAAAD4fwAAAAAAAPh/AAAAAAAA+H8AAAAAAAD4fwAAAAAAAPh/AAAAAAAA+H8AAAAAAAD4fwAAAAAAAPh/AAAAAAAA+H8AAAAAAAD4fwAAAAAAAPh/AAAAAAAA+H8AAAAAAAD4fwAAAAAAAPh/AAAAAAAA+H8AAAAAAAD4fwAAAAAAAPh/AAAAAAAA+H8AAAAAAAD4fwAAAAAAAPh/AAAAAAAA+H8AAAAAAAD4fwAAAAAAAPh/AAAAAAAA+H8AAAAAAAD4fwAAAAAAAPh/AAAAAAAA+H8AAAAAAAD4fwAAAAAAAPh/AAAAAAAA+H8AAAAAAAD4fwAAAAAAAPh/AAAAAAAA+H8AAAAAAAD4fwAAAAAAAPh/AAAAAAAA+H8AAAAAAAD4fwAAAAAAAPh/AAAAAAAA+H8AAAAAAAD4fwAAAAAAAPh/AAAAAAAA+H8AAAAAAAD4fwAAAAAAAPh/AAAAAAAA+H8AAAAAAAD4fwAAAAAAAPh/AAAAAAAA+H8AAAAAAAD4fwAAAAAAAPh/AAAAAAAA+H8AAAAAAAD4fwAAAAAAAPh/AAAAAAAA+H8AAAAAAAD4fwAAAAAAAPh/AAAAAAAA+H8AAAAAAAD4fwAAAAAAAPh/AAAAAAAA+H8AAAAAAAD4fwAAAAAAAPh/AAAAAAAA+H8AAAAAAAD4fwAAAAAAAPh/AAAAAAAA+H8AAAAAAAD4fwAAAAAAAPh/AAAAAAAA+H8AAAAAAAD4fwAAAAAAAPh/AAAAAAAA+H8AAAAAAAD4fwAAAAAAAPh/AAAAAAAA+H8AAAAAAAD4fwAAAAAAAPh/AAAAAAAA+H8AAAAAAAD4fwAAAAAAAPh/AAAAAAAA+H8AAAAAAAD4fwAAAAAAAPh/",
           "dtype": "f8"
          },
          "type": "data",
          "visible": true
         },
         "line": {
          "color": "#482878"
         },
         "mode": "lines",
         "name": "0.018",
         "type": "scatter",
         "x": {
          "bdata": "CaP+H1y3gECglP9/wr+AQE2ABkDhxoBA6wX6n0fPgEBoDv+fmdeAQC/jAcDM3oBAs3/5vx7ngEBLcfofhe+AQPdcAeCj9oBAj04CQAr/gEAJo/4fXAeBQKCU/3/CD4FATYAGQOEWgUDrBfqfRx+BQGgO/5+ZJ4FAL+MBwMwugUCPTgJACjeBQOsF+p9HP4FAS3H6H4VHgUCglP9/wk+BQC/jAcDMVoFAj04CQApfgUDrBfqfR2eBQEtx+h+Fb4FAoJT/f8J3gUAv4wHAzH6BQLN/+b8eh4FAS3H6H4WPgUD3XAHgo5aBQI9OAkAKn4FACaP+H1yngUCglP9/wq+BQE2ABkDhtoFA6wX6n0e/gUBoDv+fmceBQC/jAcDMzoFAj04CQArXgUDrBfqfR9+BQEtx+h+F54FAoJT/f8LvgUAv4wHAzPaBQI9OAkAK/4FA6wX6n0cHgkBLcfofhQ+CQKCU/3/CF4JAL+MBwMwegkCzf/m/HieCQEtx+h+FL4JA91wB4KM2gkCPTgJACj+CQAmj/h9cR4JAoJT/f8JPgkBNgAZA4VaCQOsF+p9HX4JAaA7/n5lngkAv4wHAzG6CQI9OAkAKd4JA6wX6n0d/gkBLcfofhYeCQKCU/3/Cj4JAL+MBwMyWgkCPTgJACp+CQOsF+p9Hp4JAS3H6H4WvgkCglP9/wreCQC/jAcDMvoJATYAGQOHGgkCPTgJACs+CQLN/+b8e14JA6wX6n0ffgkAJo/4fXOeCQEtx+h+F74JAaA7/n5n3gkCglP9/wv+CQBX6BWC4BoNAL+MBwMwOg0CPTgJACheDQOsF+p9HH4NAS3H6H4Ung0CglP9/wi+DQC/jAcDMNoNAj04CQAo/g0DrBfqfR0eDQEtx+h+FT4NAoJT/f8JXg0Av4wHAzF6DQI9OAkAKZ4NA6wX6n0dvg0BLcfofhXeDQKCU/3/Cf4NAL+MBwMyGg0CPTgJACo+DQOsF+p9Hl4NAS3H6H4Wfg0CglP9/wqeDQC/jAcDMroNATYAGQOG2g0CPTgJACr+DQLN/+b8ex4NA6wX6n0fPg0AJo/4fXNeDQEtx+h+F34NAaA7/n5nng0CglP9/wu+DQBX6BWC49oNAL+MBwMz+g0BNgAZA4QaEQI9OAkAKD4RAs3/5vx4XhEDrBfqfRx+EQAmj/h9cJ4RAS3H6H4UvhEBoDv+fmTeEQKCU/3/CP4RAFfoFYLhGhEAv4wHAzE6EQE2ABkDhVoRA",
          "dtype": "f8"
         },
         "y": {
          "bdata": "+NkAILKgI0DJjei/g5AlQI0TFWAOBSdAptUMgCMPKUCB0Pa/ju0qQCjO1X9rYSxADWvw3zhyLkDZLRsAHukvQOWYC+BWpjBA9XgIgH1BMUAI+vKfwYYxQIyCAQDXiDJALjr2PwLEMkBEngvAkgUzQDZjCyAAUjNA6KMIgFxMM0ALb/9frzczQBYhCqD3WTNABAfuH483M0BHfvWf0v0yQDLD659MwzJAi0cUICuVMkBS2QtgJSMyQDkr/d9suDFAfrEQgCxYMUBHP/k/sOgwQBFG/T+YizBAmhMoIPXGL0AyhO8/KuAuQM0p+b/AiS1AmUDX3461LEDRmvb/N7krQLXNAUAduCpAXM4hgAaZKUDMFt4fzpkoQHY25J8ZFihA3Iv9n6IcJ0CJ4ROAuSsmQOVFJuDXaCVAFLzX/+90JEDGKv4fwmQjQG77AqCorCJAARH+Hwk7IkAJTQMgnUQhQJ/YA+CxlyBA0Lb9n4H6H0DCuvlfEUweQEws/T/fTh1AAKoEANGkHEAhU/+fEbQbQCd+BoCcdRpAs0D9X1xXGUD0Uv2/9EIZQETHAQBvMRhAzvoBAOFcF0BOfPe/CskWQHq/BIDAuxVAiTgIAK+tFUDBkvyf+7YUQI1UA8C9DBRAuij5X06BE0AjiwEAas4SQDqA/1/VIhJANU7+f4CzEUDAqfs/CPwQQHCg/588WhBAyc0IIMnBD0DFMP+fxd0OQHOBDYCfRg1AqbgMYBO3DEC6agvAIMQLQKwr/J8XJAtAoVD7H/NgCUD9ngdgy28IQK1/BaC5dQdAtHwOQCvnBkAu6AnASTsGQGyEBOAtFQVAMV4PAP48BEAwoe9fOlgDQL0IDsDqrgJA8IoLAIjFAUB06Aag12cBQGo1A+DIIQBAJ34GgJwTAEBwjBYA4JH+P2MNEgDuavw/3gUSYM1b+z8XnOxfjGr6P0Vv6X9WhPg/X+zjv0Vx9z9/WhwAN1T3P5Ja+F+GBfc/1H4a4EoK9T9WOBIAzZT0P7Hy9N+9ivI/E1YC4Nok8j/BpwlAeyzxP4peE8A39/A//mn6X/vY7z96yAVABNjvP98Q+j/mF+4/lwwEoFFD7T8M/gAgtaXqP6Z9/9/CTeo/0i38X/xs6j920fwfE+HmP4YOBIAfUOY/NNr//0Xo5T+Yhf8/ERXnP+eG/n8X0+U/Ztb8PyEH4j9/KwWgssrhP+Dd/t9HC+I/+oz7/w524T/mawYgBKDgPyut/D/51d8/",
          "dtype": "f8"
         }
        },
        {
         "error_y": {
          "array": {
           "bdata": "AAAAAAAA+H8AAAAAAAD4fwAAAAAAAPh/AAAAAAAA+H8AAAAAAAD4fwAAAAAAAPh/AAAAAAAA+H8AAAAAAAD4fwAAAAAAAPh/AAAAAAAA+H/Q6sWn0v6nP88JEQQGZag/Ql/rV1EnqT/cbwVeGNipP9ed2dQ4/qk/a7l4P6HxqT8v7fVNUjiqP+4jaLTu9ak/2NtvjZ+qqT/F+8/3rYKpP/tK2/Fohak/fv8cUriuqD8AAAAAAAD4fwAAAAAAAPh/AAAAAAAA+H8AAAAAAAD4fwAAAAAAAPh/AAAAAAAA+H8AAAAAAAD4fwAAAAAAAPh/AAAAAAAA+H8AAAAAAAD4fwAAAAAAAPh/AAAAAAAA+H8AAAAAAAD4fwAAAAAAAPh/AAAAAAAA+H8AAAAAAAD4fwAAAAAAAPh/AAAAAAAA+H8AAAAAAAD4fwAAAAAAAPh/AAAAAAAA+H8AAAAAAAD4fwAAAAAAAPh/AAAAAAAA+H8AAAAAAAD4fwAAAAAAAPh/AAAAAAAA+H8AAAAAAAD4fwAAAAAAAPh/AAAAAAAA+H8AAAAAAAD4fwAAAAAAAPh/AAAAAAAA+H8AAAAAAAD4fwAAAAAAAPh/AAAAAAAA+H8AAAAAAAD4fwAAAAAAAPh/AAAAAAAA+H8AAAAAAAD4fwAAAAAAAPh/AAAAAAAA+H8AAAAAAAD4fwAAAAAAAPh/AAAAAAAA+H8AAAAAAAD4fwAAAAAAAPh/AAAAAAAA+H8AAAAAAAD4fwAAAAAAAPh/AAAAAAAA+H8AAAAAAAD4fwAAAAAAAPh/AAAAAAAA+H8AAAAAAAD4fwAAAAAAAPh/AAAAAAAA+H8AAAAAAAD4fwAAAAAAAPh/AAAAAAAA+H8AAAAAAAD4fwAAAAAAAPh/AAAAAAAA+H8AAAAAAAD4fwAAAAAAAPh/AAAAAAAA+H8AAAAAAAD4fwAAAAAAAPh/AAAAAAAA+H8AAAAAAAD4fwAAAAAAAPh/AAAAAAAA+H8AAAAAAAD4fwAAAAAAAPh/AAAAAAAA+H8AAAAAAAD4fwAAAAAAAPh/AAAAAAAA+H8AAAAAAAD4fwAAAAAAAPh/AAAAAAAA+H8AAAAAAAD4fwAAAAAAAPh/AAAAAAAA+H8AAAAAAAD4fwAAAAAAAPh/AAAAAAAA+H8AAAAAAAD4fwAAAAAAAPh/AAAAAAAA+H8AAAAAAAD4fwAAAAAAAPh/AAAAAAAA+H8AAAAAAAD4fwAAAAAAAPh/",
           "dtype": "f8"
          },
          "type": "data",
          "visible": true
         },
         "line": {
          "color": "#440154"
         },
         "mode": "lines",
         "name": "0.009",
         "type": "scatter",
         "x": {
          "bdata": "CaP+H1y3gECglP9/wr+AQE2ABkDhxoBA6wX6n0fPgEBoDv+fmdeAQC/jAcDM3oBAs3/5vx7ngEBLcfofhe+AQPdcAeCj9oBAj04CQAr/gEAJo/4fXAeBQKCU/3/CD4FATYAGQOEWgUDrBfqfRx+BQGgO/5+ZJ4FAL+MBwMwugUCPTgJACjeBQOsF+p9HP4FAS3H6H4VHgUCglP9/wk+BQC/jAcDMVoFAj04CQApfgUDrBfqfR2eBQEtx+h+Fb4FAoJT/f8J3gUAv4wHAzH6BQLN/+b8eh4FAS3H6H4WPgUD3XAHgo5aBQI9OAkAKn4FACaP+H1yngUCglP9/wq+BQE2ABkDhtoFA6wX6n0e/gUBoDv+fmceBQC/jAcDMzoFAj04CQArXgUDrBfqfR9+BQEtx+h+F54FAoJT/f8LvgUAv4wHAzPaBQI9OAkAK/4FA6wX6n0cHgkBLcfofhQ+CQKCU/3/CF4JAL+MBwMwegkCzf/m/HieCQEtx+h+FL4JA91wB4KM2gkCPTgJACj+CQAmj/h9cR4JAoJT/f8JPgkBNgAZA4VaCQOsF+p9HX4JAaA7/n5lngkAv4wHAzG6CQI9OAkAKd4JA6wX6n0d/gkBLcfofhYeCQKCU/3/Cj4JAL+MBwMyWgkCPTgJACp+CQOsF+p9Hp4JAS3H6H4WvgkCglP9/wreCQC/jAcDMvoJATYAGQOHGgkCPTgJACs+CQLN/+b8e14JA6wX6n0ffgkAJo/4fXOeCQEtx+h+F74JAaA7/n5n3gkCglP9/wv+CQBX6BWC4BoNAL+MBwMwOg0CPTgJACheDQOsF+p9HH4NAS3H6H4Ung0CglP9/wi+DQC/jAcDMNoNAj04CQAo/g0DrBfqfR0eDQEtx+h+FT4NAoJT/f8JXg0Av4wHAzF6DQI9OAkAKZ4NA6wX6n0dvg0BLcfofhXeDQKCU/3/Cf4NAL+MBwMyGg0CPTgJACo+DQOsF+p9Hl4NAS3H6H4Wfg0CglP9/wqeDQC/jAcDMroNATYAGQOG2g0CPTgJACr+DQLN/+b8ex4NA6wX6n0fPg0AJo/4fXNeDQEtx+h+F34NAaA7/n5nng0CglP9/wu+DQBX6BWC49oNAL+MBwMz+g0BNgAZA4QaEQI9OAkAKD4RAs3/5vx4XhEDrBfqfRx+EQAmj/h9cJ4RAS3H6H4UvhEBoDv+fmTeEQKCU/3/CP4RAFfoFYLhGhEAv4wHAzE6EQE2ABkDhVoRA",
          "dtype": "f8"
         },
         "y": {
          "bdata": "/4EHQLt9F0C9SAOg02EZQIGmBwDsUBtA7/j+H4qcHUAfrgKgfRcgQCF7/F8nyyBAv0ICINCyIUBOkv3fULkiQIM1/t85aiNA1FIOoL4vJECczdu/T9QkQPZ0+f8GLSVAI9/ff6/VJUBTf9ZfI28mQHZ14P87kCZA2Fn8v02FJkDkXR4Aq8ImQDGfKOAJiSZALMQbgKpHJkBU/AAg/iQmQInNKuBcJyZAHvMqAABtJUB6VPzfES0lQJ1KBoAqqiRABBvXv+s9JECemgAAVr8jQP3e/D+0FiNAZPID4GqrIkDTVACgSwYiQI1V/D+ENyFAJgIAwOTMIEDGfwCgKgcgQB7FAUCKWB9AazD734t1HUBnvgQgTqkcQI5m+l+NextAAk4IgJ66GkDgvvf/vQ4aQGAA+N/+gRhA4iIGoKKHF0BnkvjfwZoWQEfT9x87XRVAQREH4NH4FECY8QBghu4TQP7GBCDhvBJALnwIoNSZEkAVefefs20RQIJiA6CMHBFAPsgGYHBAEEAf1/jfWQMQQIwB8z/i5w5AVvf4H8GmDUBiTgBgnQANQF0z/h9V5AtACJAOADb7CkC47gQAaaUKQFB1/b9AkQlA5W7xn1eMCEDESPe/mJ8HQHtm83/hpQdAecLv/xM2BkBWtwNA2JcFQFv7+7/8cwVAjqbvP3ZKBEAUkwxAcIcDQFCLA+CG8QJAVOb6/7ekAkDKR/Jfl94BQPb3+b+IZQFAZykNwPy1AEAokP0fbCwAQIXE9L+Hu/4/t17qH/gb/j8UqeffWcP9P7Y19N8bjPw/r84GoB75+j+MbR/gsxf5P0WFGiD5vPc/bC4J4P6F9z/0EwFg0r72P8NKFECCwfU/YNQWIM/D9D/jDACAXD30P1z45b9Mu/M/BxLrv5Si8j8IzuZfNQDyP8ij7t/JUvE/JhcNYGQW8D9GNgNgJFrvPyQaA8Bvmu0/BqUG4MiP7D/Wwv2fgr3pPyJS+z+Tdeo/ToD7X8nU6T+DPv+ffXvnPzKQ+x9mE+c/qk3536xi5j9o0wbgFSvkP/je/T83reM/Nuv9H0+u4j9rK/6/Bi3iP31V/z8NqeE/AxwGoMYW4D8Qi/ofvsbhP7ZP/p8g4N8/KFoCgI3K3T/4NwRgXr3cP/y89R/q3ts/oJgDIBEj3z9B0wMAdufZP3ow+N8C3NY/CV8FoCSA1T9CKfQf7XbWP4f48n8hNNg/EtAB4Bhd1T9gofsfjHLXP2QX9n+IINM/",
          "dtype": "f8"
         }
        }
       ],
       "layout": {
        "font": {
         "size": 14
        },
        "height": 600,
        "legend": {
         "title": {
          "text": "Assorbance"
         },
         "x": 1,
         "xanchor": "right",
         "y": 1,
         "yanchor": "top"
        },
        "template": {
         "data": {
          "bar": [
           {
            "error_x": {
             "color": "#2a3f5f"
            },
            "error_y": {
             "color": "#2a3f5f"
            },
            "marker": {
             "line": {
              "color": "#E5ECF6",
              "width": 0.5
             },
             "pattern": {
              "fillmode": "overlay",
              "size": 10,
              "solidity": 0.2
             }
            },
            "type": "bar"
           }
          ],
          "barpolar": [
           {
            "marker": {
             "line": {
              "color": "#E5ECF6",
              "width": 0.5
             },
             "pattern": {
              "fillmode": "overlay",
              "size": 10,
              "solidity": 0.2
             }
            },
            "type": "barpolar"
           }
          ],
          "carpet": [
           {
            "aaxis": {
             "endlinecolor": "#2a3f5f",
             "gridcolor": "white",
             "linecolor": "white",
             "minorgridcolor": "white",
             "startlinecolor": "#2a3f5f"
            },
            "baxis": {
             "endlinecolor": "#2a3f5f",
             "gridcolor": "white",
             "linecolor": "white",
             "minorgridcolor": "white",
             "startlinecolor": "#2a3f5f"
            },
            "type": "carpet"
           }
          ],
          "choropleth": [
           {
            "colorbar": {
             "outlinewidth": 0,
             "ticks": ""
            },
            "type": "choropleth"
           }
          ],
          "contour": [
           {
            "colorbar": {
             "outlinewidth": 0,
             "ticks": ""
            },
            "colorscale": [
             [
              0,
              "#0d0887"
             ],
             [
              0.1111111111111111,
              "#46039f"
             ],
             [
              0.2222222222222222,
              "#7201a8"
             ],
             [
              0.3333333333333333,
              "#9c179e"
             ],
             [
              0.4444444444444444,
              "#bd3786"
             ],
             [
              0.5555555555555556,
              "#d8576b"
             ],
             [
              0.6666666666666666,
              "#ed7953"
             ],
             [
              0.7777777777777778,
              "#fb9f3a"
             ],
             [
              0.8888888888888888,
              "#fdca26"
             ],
             [
              1,
              "#f0f921"
             ]
            ],
            "type": "contour"
           }
          ],
          "contourcarpet": [
           {
            "colorbar": {
             "outlinewidth": 0,
             "ticks": ""
            },
            "type": "contourcarpet"
           }
          ],
          "heatmap": [
           {
            "colorbar": {
             "outlinewidth": 0,
             "ticks": ""
            },
            "colorscale": [
             [
              0,
              "#0d0887"
             ],
             [
              0.1111111111111111,
              "#46039f"
             ],
             [
              0.2222222222222222,
              "#7201a8"
             ],
             [
              0.3333333333333333,
              "#9c179e"
             ],
             [
              0.4444444444444444,
              "#bd3786"
             ],
             [
              0.5555555555555556,
              "#d8576b"
             ],
             [
              0.6666666666666666,
              "#ed7953"
             ],
             [
              0.7777777777777778,
              "#fb9f3a"
             ],
             [
              0.8888888888888888,
              "#fdca26"
             ],
             [
              1,
              "#f0f921"
             ]
            ],
            "type": "heatmap"
           }
          ],
          "histogram": [
           {
            "marker": {
             "pattern": {
              "fillmode": "overlay",
              "size": 10,
              "solidity": 0.2
             }
            },
            "type": "histogram"
           }
          ],
          "histogram2d": [
           {
            "colorbar": {
             "outlinewidth": 0,
             "ticks": ""
            },
            "colorscale": [
             [
              0,
              "#0d0887"
             ],
             [
              0.1111111111111111,
              "#46039f"
             ],
             [
              0.2222222222222222,
              "#7201a8"
             ],
             [
              0.3333333333333333,
              "#9c179e"
             ],
             [
              0.4444444444444444,
              "#bd3786"
             ],
             [
              0.5555555555555556,
              "#d8576b"
             ],
             [
              0.6666666666666666,
              "#ed7953"
             ],
             [
              0.7777777777777778,
              "#fb9f3a"
             ],
             [
              0.8888888888888888,
              "#fdca26"
             ],
             [
              1,
              "#f0f921"
             ]
            ],
            "type": "histogram2d"
           }
          ],
          "histogram2dcontour": [
           {
            "colorbar": {
             "outlinewidth": 0,
             "ticks": ""
            },
            "colorscale": [
             [
              0,
              "#0d0887"
             ],
             [
              0.1111111111111111,
              "#46039f"
             ],
             [
              0.2222222222222222,
              "#7201a8"
             ],
             [
              0.3333333333333333,
              "#9c179e"
             ],
             [
              0.4444444444444444,
              "#bd3786"
             ],
             [
              0.5555555555555556,
              "#d8576b"
             ],
             [
              0.6666666666666666,
              "#ed7953"
             ],
             [
              0.7777777777777778,
              "#fb9f3a"
             ],
             [
              0.8888888888888888,
              "#fdca26"
             ],
             [
              1,
              "#f0f921"
             ]
            ],
            "type": "histogram2dcontour"
           }
          ],
          "mesh3d": [
           {
            "colorbar": {
             "outlinewidth": 0,
             "ticks": ""
            },
            "type": "mesh3d"
           }
          ],
          "parcoords": [
           {
            "line": {
             "colorbar": {
              "outlinewidth": 0,
              "ticks": ""
             }
            },
            "type": "parcoords"
           }
          ],
          "pie": [
           {
            "automargin": true,
            "type": "pie"
           }
          ],
          "scatter": [
           {
            "fillpattern": {
             "fillmode": "overlay",
             "size": 10,
             "solidity": 0.2
            },
            "type": "scatter"
           }
          ],
          "scatter3d": [
           {
            "line": {
             "colorbar": {
              "outlinewidth": 0,
              "ticks": ""
             }
            },
            "marker": {
             "colorbar": {
              "outlinewidth": 0,
              "ticks": ""
             }
            },
            "type": "scatter3d"
           }
          ],
          "scattercarpet": [
           {
            "marker": {
             "colorbar": {
              "outlinewidth": 0,
              "ticks": ""
             }
            },
            "type": "scattercarpet"
           }
          ],
          "scattergeo": [
           {
            "marker": {
             "colorbar": {
              "outlinewidth": 0,
              "ticks": ""
             }
            },
            "type": "scattergeo"
           }
          ],
          "scattergl": [
           {
            "marker": {
             "colorbar": {
              "outlinewidth": 0,
              "ticks": ""
             }
            },
            "type": "scattergl"
           }
          ],
          "scattermap": [
           {
            "marker": {
             "colorbar": {
              "outlinewidth": 0,
              "ticks": ""
             }
            },
            "type": "scattermap"
           }
          ],
          "scattermapbox": [
           {
            "marker": {
             "colorbar": {
              "outlinewidth": 0,
              "ticks": ""
             }
            },
            "type": "scattermapbox"
           }
          ],
          "scatterpolar": [
           {
            "marker": {
             "colorbar": {
              "outlinewidth": 0,
              "ticks": ""
             }
            },
            "type": "scatterpolar"
           }
          ],
          "scatterpolargl": [
           {
            "marker": {
             "colorbar": {
              "outlinewidth": 0,
              "ticks": ""
             }
            },
            "type": "scatterpolargl"
           }
          ],
          "scatterternary": [
           {
            "marker": {
             "colorbar": {
              "outlinewidth": 0,
              "ticks": ""
             }
            },
            "type": "scatterternary"
           }
          ],
          "surface": [
           {
            "colorbar": {
             "outlinewidth": 0,
             "ticks": ""
            },
            "colorscale": [
             [
              0,
              "#0d0887"
             ],
             [
              0.1111111111111111,
              "#46039f"
             ],
             [
              0.2222222222222222,
              "#7201a8"
             ],
             [
              0.3333333333333333,
              "#9c179e"
             ],
             [
              0.4444444444444444,
              "#bd3786"
             ],
             [
              0.5555555555555556,
              "#d8576b"
             ],
             [
              0.6666666666666666,
              "#ed7953"
             ],
             [
              0.7777777777777778,
              "#fb9f3a"
             ],
             [
              0.8888888888888888,
              "#fdca26"
             ],
             [
              1,
              "#f0f921"
             ]
            ],
            "type": "surface"
           }
          ],
          "table": [
           {
            "cells": {
             "fill": {
              "color": "#EBF0F8"
             },
             "line": {
              "color": "white"
             }
            },
            "header": {
             "fill": {
              "color": "#C8D4E3"
             },
             "line": {
              "color": "white"
             }
            },
            "type": "table"
           }
          ]
         },
         "layout": {
          "annotationdefaults": {
           "arrowcolor": "#2a3f5f",
           "arrowhead": 0,
           "arrowwidth": 1
          },
          "autotypenumbers": "strict",
          "coloraxis": {
           "colorbar": {
            "outlinewidth": 0,
            "ticks": ""
           }
          },
          "colorscale": {
           "diverging": [
            [
             0,
             "#8e0152"
            ],
            [
             0.1,
             "#c51b7d"
            ],
            [
             0.2,
             "#de77ae"
            ],
            [
             0.3,
             "#f1b6da"
            ],
            [
             0.4,
             "#fde0ef"
            ],
            [
             0.5,
             "#f7f7f7"
            ],
            [
             0.6,
             "#e6f5d0"
            ],
            [
             0.7,
             "#b8e186"
            ],
            [
             0.8,
             "#7fbc41"
            ],
            [
             0.9,
             "#4d9221"
            ],
            [
             1,
             "#276419"
            ]
           ],
           "sequential": [
            [
             0,
             "#0d0887"
            ],
            [
             0.1111111111111111,
             "#46039f"
            ],
            [
             0.2222222222222222,
             "#7201a8"
            ],
            [
             0.3333333333333333,
             "#9c179e"
            ],
            [
             0.4444444444444444,
             "#bd3786"
            ],
            [
             0.5555555555555556,
             "#d8576b"
            ],
            [
             0.6666666666666666,
             "#ed7953"
            ],
            [
             0.7777777777777778,
             "#fb9f3a"
            ],
            [
             0.8888888888888888,
             "#fdca26"
            ],
            [
             1,
             "#f0f921"
            ]
           ],
           "sequentialminus": [
            [
             0,
             "#0d0887"
            ],
            [
             0.1111111111111111,
             "#46039f"
            ],
            [
             0.2222222222222222,
             "#7201a8"
            ],
            [
             0.3333333333333333,
             "#9c179e"
            ],
            [
             0.4444444444444444,
             "#bd3786"
            ],
            [
             0.5555555555555556,
             "#d8576b"
            ],
            [
             0.6666666666666666,
             "#ed7953"
            ],
            [
             0.7777777777777778,
             "#fb9f3a"
            ],
            [
             0.8888888888888888,
             "#fdca26"
            ],
            [
             1,
             "#f0f921"
            ]
           ]
          },
          "colorway": [
           "#636efa",
           "#EF553B",
           "#00cc96",
           "#ab63fa",
           "#FFA15A",
           "#19d3f3",
           "#FF6692",
           "#B6E880",
           "#FF97FF",
           "#FECB52"
          ],
          "font": {
           "color": "#2a3f5f"
          },
          "geo": {
           "bgcolor": "white",
           "lakecolor": "white",
           "landcolor": "#E5ECF6",
           "showlakes": true,
           "showland": true,
           "subunitcolor": "white"
          },
          "hoverlabel": {
           "align": "left"
          },
          "hovermode": "closest",
          "mapbox": {
           "style": "light"
          },
          "paper_bgcolor": "white",
          "plot_bgcolor": "#E5ECF6",
          "polar": {
           "angularaxis": {
            "gridcolor": "white",
            "linecolor": "white",
            "ticks": ""
           },
           "bgcolor": "#E5ECF6",
           "radialaxis": {
            "gridcolor": "white",
            "linecolor": "white",
            "ticks": ""
           }
          },
          "scene": {
           "xaxis": {
            "backgroundcolor": "#E5ECF6",
            "gridcolor": "white",
            "gridwidth": 2,
            "linecolor": "white",
            "showbackground": true,
            "ticks": "",
            "zerolinecolor": "white"
           },
           "yaxis": {
            "backgroundcolor": "#E5ECF6",
            "gridcolor": "white",
            "gridwidth": 2,
            "linecolor": "white",
            "showbackground": true,
            "ticks": "",
            "zerolinecolor": "white"
           },
           "zaxis": {
            "backgroundcolor": "#E5ECF6",
            "gridcolor": "white",
            "gridwidth": 2,
            "linecolor": "white",
            "showbackground": true,
            "ticks": "",
            "zerolinecolor": "white"
           }
          },
          "shapedefaults": {
           "line": {
            "color": "#2a3f5f"
           }
          },
          "ternary": {
           "aaxis": {
            "gridcolor": "white",
            "linecolor": "white",
            "ticks": ""
           },
           "baxis": {
            "gridcolor": "white",
            "linecolor": "white",
            "ticks": ""
           },
           "bgcolor": "#E5ECF6",
           "caxis": {
            "gridcolor": "white",
            "linecolor": "white",
            "ticks": ""
           }
          },
          "title": {
           "x": 0.05
          },
          "xaxis": {
           "automargin": true,
           "gridcolor": "white",
           "linecolor": "white",
           "ticks": "",
           "title": {
            "standoff": 15
           },
           "zerolinecolor": "white",
           "zerolinewidth": 2
          },
          "yaxis": {
           "automargin": true,
           "gridcolor": "white",
           "linecolor": "white",
           "ticks": "",
           "title": {
            "standoff": 15
           },
           "zerolinecolor": "white",
           "zerolinewidth": 2
          }
         }
        },
        "width": 800,
        "xaxis": {
         "title": {
          "text": "Wavelength (nm)"
         }
        },
        "yaxis": {
         "range": [
          0,
          1000
         ],
         "title": {
          "text": "Intensity (a.u.)"
         }
        }
       }
      }
     },
     "metadata": {},
     "output_type": "display_data"
    }
   ],
   "source": [
    "fig = go.Figure()\n",
    "\n",
    "colors = px.colors.sequential.Viridis_r\n",
    "for i, (λ_col, I_col, a) in enumerate(zip(WAVELENGHTS, INTENSITIES, ASS)):\n",
    "    fig.add_trace(go.Scatter(\n",
    "        x=data[λ_col], \n",
    "        y=data[I_col],\n",
    "        mode='lines',\n",
    "        name=f'{np.round(a, 3)}',\n",
    "        line=dict(color=colors[i % len(colors)]),  # Ensure colors cycle if more traces than colors\n",
    "        error_y=dict(\n",
    "            type='data',\n",
    "            array=data[f'σ {I_col}'],  # Add error bars using the corresponding error column\n",
    "            visible=True\n",
    "        )\n",
    "    ))\n",
    "\n",
    "fig.update_layout(\n",
    "    xaxis_title='Wavelength (nm)',\n",
    "    yaxis_title='Intensity (a.u.)',\n",
    "    height=600,\n",
    "    width=800,\n",
    "    yaxis=dict(range=[0, 1000]),\n",
    "    legend=dict(\n",
    "        title=dict(text='Assorbance'),\n",
    "        x=1,  # Position legend at the far right\n",
    "        y=1,  # Position legend at the top\n",
    "        xanchor='right',  # Anchor legend to the right\n",
    "        yanchor='top'     # Anchor legend to the top\n",
    "    ),\n",
    "    font=dict(size=14)\n",
    ")\n",
    "\n",
    "fig.write_html(dir_path + r\"\\html\\emission_spectrum.html\")\n",
    "fig.write_image(dir_path + r\"\\images\\emission_spectrum.png\")\n",
    "fig.show()"
   ]
  },
  {
   "cell_type": "markdown",
   "metadata": {},
   "source": [
    "NOTA: i picchi non sono centrati"
   ]
  },
  {
   "cell_type": "markdown",
   "metadata": {},
   "source": [
    "segue fit parabolico dei picchi dello spettro, vengono considerati solo i 5 punti a destra e 5 a sinistra del punto massimo dello spettro\n",
    "\n",
    "segue l'estrapolazione del valore di Imax"
   ]
  },
  {
   "cell_type": "code",
   "execution_count": 8,
   "metadata": {},
   "outputs": [
    {
     "name": "stdout",
     "output_type": "stream",
     "text": [
      "Tabella con i fit di tutti i picchi delle parabole\n"
     ]
    },
    {
     "data": {
      "text/html": [
       "<div>\n",
       "<style scoped>\n",
       "    .dataframe tbody tr th:only-of-type {\n",
       "        vertical-align: middle;\n",
       "    }\n",
       "\n",
       "    .dataframe tbody tr th {\n",
       "        vertical-align: top;\n",
       "    }\n",
       "\n",
       "    .dataframe thead th {\n",
       "        text-align: right;\n",
       "    }\n",
       "</style>\n",
       "<table border=\"1\" class=\"dataframe\">\n",
       "  <thead>\n",
       "    <tr style=\"text-align: right;\">\n",
       "      <th></th>\n",
       "      <th>Absorbance</th>\n",
       "      <th>λcenter</th>\n",
       "      <th>a</th>\n",
       "      <th>IMAX</th>\n",
       "      <th>error_λcenter</th>\n",
       "      <th>error_a</th>\n",
       "      <th>error_IMAX</th>\n",
       "    </tr>\n",
       "  </thead>\n",
       "  <tbody>\n",
       "    <tr>\n",
       "      <th>0</th>\n",
       "      <td>0.480042</td>\n",
       "      <td>553.682999</td>\n",
       "      <td>2.593461</td>\n",
       "      <td>941.117146</td>\n",
       "      <td>0.088086</td>\n",
       "      <td>0.177170</td>\n",
       "      <td>1.998978</td>\n",
       "    </tr>\n",
       "    <tr>\n",
       "      <th>1</th>\n",
       "      <td>0.352690</td>\n",
       "      <td>553.605458</td>\n",
       "      <td>1.800572</td>\n",
       "      <td>816.838393</td>\n",
       "      <td>0.109900</td>\n",
       "      <td>0.155299</td>\n",
       "      <td>1.743310</td>\n",
       "    </tr>\n",
       "    <tr>\n",
       "      <th>2</th>\n",
       "      <td>0.263436</td>\n",
       "      <td>552.772023</td>\n",
       "      <td>1.743935</td>\n",
       "      <td>718.458398</td>\n",
       "      <td>0.103033</td>\n",
       "      <td>0.137340</td>\n",
       "      <td>1.528068</td>\n",
       "    </tr>\n",
       "    <tr>\n",
       "      <th>3</th>\n",
       "      <td>0.174750</td>\n",
       "      <td>551.924028</td>\n",
       "      <td>1.079676</td>\n",
       "      <td>493.259725</td>\n",
       "      <td>0.119787</td>\n",
       "      <td>0.094140</td>\n",
       "      <td>1.042303</td>\n",
       "    </tr>\n",
       "    <tr>\n",
       "      <th>4</th>\n",
       "      <td>0.087549</td>\n",
       "      <td>551.462054</td>\n",
       "      <td>0.469150</td>\n",
       "      <td>238.411966</td>\n",
       "      <td>0.122389</td>\n",
       "      <td>0.045713</td>\n",
       "      <td>0.511283</td>\n",
       "    </tr>\n",
       "    <tr>\n",
       "      <th>5</th>\n",
       "      <td>0.070475</td>\n",
       "      <td>551.469740</td>\n",
       "      <td>0.375982</td>\n",
       "      <td>170.297252</td>\n",
       "      <td>0.144500</td>\n",
       "      <td>0.033035</td>\n",
       "      <td>0.350329</td>\n",
       "    </tr>\n",
       "    <tr>\n",
       "      <th>6</th>\n",
       "      <td>0.052845</td>\n",
       "      <td>551.244523</td>\n",
       "      <td>0.240518</td>\n",
       "      <td>117.718777</td>\n",
       "      <td>0.142487</td>\n",
       "      <td>0.022860</td>\n",
       "      <td>0.246519</td>\n",
       "    </tr>\n",
       "    <tr>\n",
       "      <th>7</th>\n",
       "      <td>0.035265</td>\n",
       "      <td>551.046902</td>\n",
       "      <td>0.103811</td>\n",
       "      <td>52.557822</td>\n",
       "      <td>0.137406</td>\n",
       "      <td>0.010217</td>\n",
       "      <td>0.111394</td>\n",
       "    </tr>\n",
       "    <tr>\n",
       "      <th>8</th>\n",
       "      <td>0.017633</td>\n",
       "      <td>550.904438</td>\n",
       "      <td>0.032285</td>\n",
       "      <td>19.327347</td>\n",
       "      <td>0.154810</td>\n",
       "      <td>0.003714</td>\n",
       "      <td>0.041100</td>\n",
       "    </tr>\n",
       "    <tr>\n",
       "      <th>9</th>\n",
       "      <td>0.008831</td>\n",
       "      <td>551.032740</td>\n",
       "      <td>0.025758</td>\n",
       "      <td>11.341036</td>\n",
       "      <td>0.119088</td>\n",
       "      <td>0.002199</td>\n",
       "      <td>0.024014</td>\n",
       "    </tr>\n",
       "  </tbody>\n",
       "</table>\n",
       "</div>"
      ],
      "text/plain": [
       "   Absorbance     λcenter         a        IMAX  error_λcenter   error_a  \\\n",
       "0    0.480042  553.682999  2.593461  941.117146       0.088086  0.177170   \n",
       "1    0.352690  553.605458  1.800572  816.838393       0.109900  0.155299   \n",
       "2    0.263436  552.772023  1.743935  718.458398       0.103033  0.137340   \n",
       "3    0.174750  551.924028  1.079676  493.259725       0.119787  0.094140   \n",
       "4    0.087549  551.462054  0.469150  238.411966       0.122389  0.045713   \n",
       "5    0.070475  551.469740  0.375982  170.297252       0.144500  0.033035   \n",
       "6    0.052845  551.244523  0.240518  117.718777       0.142487  0.022860   \n",
       "7    0.035265  551.046902  0.103811   52.557822       0.137406  0.010217   \n",
       "8    0.017633  550.904438  0.032285   19.327347       0.154810  0.003714   \n",
       "9    0.008831  551.032740  0.025758   11.341036       0.119088  0.002199   \n",
       "\n",
       "   error_IMAX  \n",
       "0    1.998978  \n",
       "1    1.743310  \n",
       "2    1.528068  \n",
       "3    1.042303  \n",
       "4    0.511283  \n",
       "5    0.350329  \n",
       "6    0.246519  \n",
       "7    0.111394  \n",
       "8    0.041100  \n",
       "9    0.024014  "
      ]
     },
     "metadata": {},
     "output_type": "display_data"
    }
   ],
   "source": [
    "λcenter_list = []\n",
    "a_list = []\n",
    "IMAX_list = []\n",
    "error_λcenter_list = []\n",
    "error_a_list = []\n",
    "error_IMAX_list = []\n",
    "\n",
    "for λ_col, I_col in zip(WAVELENGHTS, INTENSITIES):\n",
    "    Λ = data[λ_col]\n",
    "    I = data[I_col]\n",
    "    σI = data[f'σ {I_col}']\n",
    "    Λmaxcenter = I.idxmax()\n",
    "\n",
    "    λcenter = Λ[Λmaxcenter] # guess\n",
    "    IMAX = I.max() # guess\n",
    "    a = 1 # guess\n",
    "\n",
    "    xrangemax = Λ[Λmaxcenter-5:Λmaxcenter+5] # 10 points around the max\n",
    "    yrangemax = I[Λmaxcenter-5:Λmaxcenter+5] # 10 points around the max\n",
    "    σIrangemax = σI[Λmaxcenter-5:Λmaxcenter+5] # 10 points around the max\n",
    "\n",
    "    interp = Interpolazione(xrangemax, yrangemax, σIrangemax,max_fit_parabolic, [λcenter, a, IMAX], names=['λcenter', 'a', 'IMAX'])\n",
    "    λcenter, a, IMAX = interp.values.values()\n",
    "    error_λcenter, error_a, error_IMAX = interp.errors.values()\n",
    "    λcenter_list.append(λcenter)\n",
    "    a_list.append(a)\n",
    "    IMAX_list.append(IMAX)\n",
    "    error_λcenter_list.append(error_λcenter)\n",
    "    error_a_list.append(error_a)\n",
    "    error_IMAX_list.append(error_IMAX)\n",
    "\n",
    "# # to numpy\n",
    "λcenter_list = np.array(λcenter_list)\n",
    "a_list = np.array(a_list)\n",
    "IMAX_list = np.array(IMAX_list)\n",
    "error_λcenter_list = np.array(error_λcenter_list)\n",
    "error_a_list = np.array(error_a_list)\n",
    "error_IMAX_list = np.array(error_IMAX_list)\n",
    "\n",
    "print('Tabella con i fit di tutti i picchi delle parabole')\n",
    "max_fit_parabolic_dataframe = pd.DataFrame({'Absorbance': ASS, 'λcenter': λcenter_list, 'a': a_list, 'IMAX': IMAX_list, 'error_λcenter': error_λcenter_list, 'error_a': error_a_list, 'error_IMAX': error_IMAX_list})\n",
    "display(max_fit_parabolic_dataframe)"
   ]
  },
  {
   "cell_type": "code",
   "execution_count": 9,
   "metadata": {},
   "outputs": [
    {
     "name": "stdout",
     "output_type": "stream",
     "text": [
      "λcenter = 551.91 ± 1.01 nm\n",
      "NOTA: sigmaLambda dichiarata dal costruttore vale 1.5nm e quindi è compatibile con il valore di sigma trovato\n"
     ]
    }
   ],
   "source": [
    "center = np.mean(λcenter_list)\n",
    "sigma = np.std(λcenter_list)\n",
    "print('λcenter =', final_val(center, sigma, udm='nm'))\n",
    "print('NOTA: sigmaLambda dichiarata dal costruttore vale 1.5nm e quindi è compatibile con il valore di sigma trovato')"
   ]
  },
  {
   "cell_type": "markdown",
   "metadata": {},
   "source": [
    "The function $ F(C) $ is defined as:\n",
    "\n",
    "$ F(C, F_0, k, y_0) = F_0 \\cdot \\left( 1 - e^{-k \\cdot C} \\right) + y_0$\n",
    "\n",
    "where:\n",
    "- $ C $ is the concentration,\n",
    "- $ F_0 $ is the maximum fluorescence intensity,\n",
    "- $ k $ is the rate constant,\n",
    "- $ y_0 $ is the baseline fluorescence intensity."
   ]
  },
  {
   "cell_type": "code",
   "execution_count": 10,
   "metadata": {},
   "outputs": [],
   "source": [
    "# fit with the exponential 1-exp(-k*A)\n",
    "\n",
    "def F_C_fit(A,F0,k,y0):\n",
    "    return F0*(1-np.exp(-k*A)) + y0"
   ]
  },
  {
   "cell_type": "code",
   "execution_count": 11,
   "metadata": {},
   "outputs": [
    {
     "data": {
      "application/vnd.plotly.v1+json": {
       "config": {
        "plotlyServerURL": "https://plot.ly"
       },
       "data": [
        {
         "error_x": {
          "array": {
           "bdata": "UrPWqR/6NT+mGTd8RLc0P1nRt8VqMTI/1zjus2fGKz9Oc197h00gPwd6oZNFAxw/FgpDvHleFj+foZLvV9oPPw==",
           "dtype": "f8"
          },
          "type": "data",
          "visible": true
         },
         "error_y": {
          "array": {
           "bdata": "A1obb9D7/z9/yatSmeT7P8kQTw73cvg/0MN9+EWt8D/YmFWjblzgP5MDXB/Ma9Y/uCycX+yNzz8vmKrqUIS8Pw==",
           "dtype": "f8"
          },
          "type": "data",
          "visible": true
         },
         "mode": "markers",
         "name": "Data with error",
         "type": "scatter",
         "x": {
          "bdata": "liYQvQC53j85doDneZLWP9NmA/og3NA/TpQMFzVexj/SadRamWm2PxZI8wKsCrI/+qA3J3gOqz9tq4qNQw6iPw==",
          "dtype": "f8"
         },
         "y": {
          "bdata": "oJ0n6u9ojUBkgyQHtYaJQD9wj8yqc4ZA3+Xd1SfUfkDiEA7TLs1tQFh6/haDSWVARfRMcwBuXUAWAFC1ZkdKQA==",
          "dtype": "f8"
         }
        }
       ],
       "layout": {
        "font": {
         "size": 14
        },
        "height": 600,
        "legend": {
         "x": 0,
         "y": 1
        },
        "template": {
         "data": {
          "bar": [
           {
            "error_x": {
             "color": "#2a3f5f"
            },
            "error_y": {
             "color": "#2a3f5f"
            },
            "marker": {
             "line": {
              "color": "#E5ECF6",
              "width": 0.5
             },
             "pattern": {
              "fillmode": "overlay",
              "size": 10,
              "solidity": 0.2
             }
            },
            "type": "bar"
           }
          ],
          "barpolar": [
           {
            "marker": {
             "line": {
              "color": "#E5ECF6",
              "width": 0.5
             },
             "pattern": {
              "fillmode": "overlay",
              "size": 10,
              "solidity": 0.2
             }
            },
            "type": "barpolar"
           }
          ],
          "carpet": [
           {
            "aaxis": {
             "endlinecolor": "#2a3f5f",
             "gridcolor": "white",
             "linecolor": "white",
             "minorgridcolor": "white",
             "startlinecolor": "#2a3f5f"
            },
            "baxis": {
             "endlinecolor": "#2a3f5f",
             "gridcolor": "white",
             "linecolor": "white",
             "minorgridcolor": "white",
             "startlinecolor": "#2a3f5f"
            },
            "type": "carpet"
           }
          ],
          "choropleth": [
           {
            "colorbar": {
             "outlinewidth": 0,
             "ticks": ""
            },
            "type": "choropleth"
           }
          ],
          "contour": [
           {
            "colorbar": {
             "outlinewidth": 0,
             "ticks": ""
            },
            "colorscale": [
             [
              0,
              "#0d0887"
             ],
             [
              0.1111111111111111,
              "#46039f"
             ],
             [
              0.2222222222222222,
              "#7201a8"
             ],
             [
              0.3333333333333333,
              "#9c179e"
             ],
             [
              0.4444444444444444,
              "#bd3786"
             ],
             [
              0.5555555555555556,
              "#d8576b"
             ],
             [
              0.6666666666666666,
              "#ed7953"
             ],
             [
              0.7777777777777778,
              "#fb9f3a"
             ],
             [
              0.8888888888888888,
              "#fdca26"
             ],
             [
              1,
              "#f0f921"
             ]
            ],
            "type": "contour"
           }
          ],
          "contourcarpet": [
           {
            "colorbar": {
             "outlinewidth": 0,
             "ticks": ""
            },
            "type": "contourcarpet"
           }
          ],
          "heatmap": [
           {
            "colorbar": {
             "outlinewidth": 0,
             "ticks": ""
            },
            "colorscale": [
             [
              0,
              "#0d0887"
             ],
             [
              0.1111111111111111,
              "#46039f"
             ],
             [
              0.2222222222222222,
              "#7201a8"
             ],
             [
              0.3333333333333333,
              "#9c179e"
             ],
             [
              0.4444444444444444,
              "#bd3786"
             ],
             [
              0.5555555555555556,
              "#d8576b"
             ],
             [
              0.6666666666666666,
              "#ed7953"
             ],
             [
              0.7777777777777778,
              "#fb9f3a"
             ],
             [
              0.8888888888888888,
              "#fdca26"
             ],
             [
              1,
              "#f0f921"
             ]
            ],
            "type": "heatmap"
           }
          ],
          "histogram": [
           {
            "marker": {
             "pattern": {
              "fillmode": "overlay",
              "size": 10,
              "solidity": 0.2
             }
            },
            "type": "histogram"
           }
          ],
          "histogram2d": [
           {
            "colorbar": {
             "outlinewidth": 0,
             "ticks": ""
            },
            "colorscale": [
             [
              0,
              "#0d0887"
             ],
             [
              0.1111111111111111,
              "#46039f"
             ],
             [
              0.2222222222222222,
              "#7201a8"
             ],
             [
              0.3333333333333333,
              "#9c179e"
             ],
             [
              0.4444444444444444,
              "#bd3786"
             ],
             [
              0.5555555555555556,
              "#d8576b"
             ],
             [
              0.6666666666666666,
              "#ed7953"
             ],
             [
              0.7777777777777778,
              "#fb9f3a"
             ],
             [
              0.8888888888888888,
              "#fdca26"
             ],
             [
              1,
              "#f0f921"
             ]
            ],
            "type": "histogram2d"
           }
          ],
          "histogram2dcontour": [
           {
            "colorbar": {
             "outlinewidth": 0,
             "ticks": ""
            },
            "colorscale": [
             [
              0,
              "#0d0887"
             ],
             [
              0.1111111111111111,
              "#46039f"
             ],
             [
              0.2222222222222222,
              "#7201a8"
             ],
             [
              0.3333333333333333,
              "#9c179e"
             ],
             [
              0.4444444444444444,
              "#bd3786"
             ],
             [
              0.5555555555555556,
              "#d8576b"
             ],
             [
              0.6666666666666666,
              "#ed7953"
             ],
             [
              0.7777777777777778,
              "#fb9f3a"
             ],
             [
              0.8888888888888888,
              "#fdca26"
             ],
             [
              1,
              "#f0f921"
             ]
            ],
            "type": "histogram2dcontour"
           }
          ],
          "mesh3d": [
           {
            "colorbar": {
             "outlinewidth": 0,
             "ticks": ""
            },
            "type": "mesh3d"
           }
          ],
          "parcoords": [
           {
            "line": {
             "colorbar": {
              "outlinewidth": 0,
              "ticks": ""
             }
            },
            "type": "parcoords"
           }
          ],
          "pie": [
           {
            "automargin": true,
            "type": "pie"
           }
          ],
          "scatter": [
           {
            "fillpattern": {
             "fillmode": "overlay",
             "size": 10,
             "solidity": 0.2
            },
            "type": "scatter"
           }
          ],
          "scatter3d": [
           {
            "line": {
             "colorbar": {
              "outlinewidth": 0,
              "ticks": ""
             }
            },
            "marker": {
             "colorbar": {
              "outlinewidth": 0,
              "ticks": ""
             }
            },
            "type": "scatter3d"
           }
          ],
          "scattercarpet": [
           {
            "marker": {
             "colorbar": {
              "outlinewidth": 0,
              "ticks": ""
             }
            },
            "type": "scattercarpet"
           }
          ],
          "scattergeo": [
           {
            "marker": {
             "colorbar": {
              "outlinewidth": 0,
              "ticks": ""
             }
            },
            "type": "scattergeo"
           }
          ],
          "scattergl": [
           {
            "marker": {
             "colorbar": {
              "outlinewidth": 0,
              "ticks": ""
             }
            },
            "type": "scattergl"
           }
          ],
          "scattermap": [
           {
            "marker": {
             "colorbar": {
              "outlinewidth": 0,
              "ticks": ""
             }
            },
            "type": "scattermap"
           }
          ],
          "scattermapbox": [
           {
            "marker": {
             "colorbar": {
              "outlinewidth": 0,
              "ticks": ""
             }
            },
            "type": "scattermapbox"
           }
          ],
          "scatterpolar": [
           {
            "marker": {
             "colorbar": {
              "outlinewidth": 0,
              "ticks": ""
             }
            },
            "type": "scatterpolar"
           }
          ],
          "scatterpolargl": [
           {
            "marker": {
             "colorbar": {
              "outlinewidth": 0,
              "ticks": ""
             }
            },
            "type": "scatterpolargl"
           }
          ],
          "scatterternary": [
           {
            "marker": {
             "colorbar": {
              "outlinewidth": 0,
              "ticks": ""
             }
            },
            "type": "scatterternary"
           }
          ],
          "surface": [
           {
            "colorbar": {
             "outlinewidth": 0,
             "ticks": ""
            },
            "colorscale": [
             [
              0,
              "#0d0887"
             ],
             [
              0.1111111111111111,
              "#46039f"
             ],
             [
              0.2222222222222222,
              "#7201a8"
             ],
             [
              0.3333333333333333,
              "#9c179e"
             ],
             [
              0.4444444444444444,
              "#bd3786"
             ],
             [
              0.5555555555555556,
              "#d8576b"
             ],
             [
              0.6666666666666666,
              "#ed7953"
             ],
             [
              0.7777777777777778,
              "#fb9f3a"
             ],
             [
              0.8888888888888888,
              "#fdca26"
             ],
             [
              1,
              "#f0f921"
             ]
            ],
            "type": "surface"
           }
          ],
          "table": [
           {
            "cells": {
             "fill": {
              "color": "#EBF0F8"
             },
             "line": {
              "color": "white"
             }
            },
            "header": {
             "fill": {
              "color": "#C8D4E3"
             },
             "line": {
              "color": "white"
             }
            },
            "type": "table"
           }
          ]
         },
         "layout": {
          "annotationdefaults": {
           "arrowcolor": "#2a3f5f",
           "arrowhead": 0,
           "arrowwidth": 1
          },
          "autotypenumbers": "strict",
          "coloraxis": {
           "colorbar": {
            "outlinewidth": 0,
            "ticks": ""
           }
          },
          "colorscale": {
           "diverging": [
            [
             0,
             "#8e0152"
            ],
            [
             0.1,
             "#c51b7d"
            ],
            [
             0.2,
             "#de77ae"
            ],
            [
             0.3,
             "#f1b6da"
            ],
            [
             0.4,
             "#fde0ef"
            ],
            [
             0.5,
             "#f7f7f7"
            ],
            [
             0.6,
             "#e6f5d0"
            ],
            [
             0.7,
             "#b8e186"
            ],
            [
             0.8,
             "#7fbc41"
            ],
            [
             0.9,
             "#4d9221"
            ],
            [
             1,
             "#276419"
            ]
           ],
           "sequential": [
            [
             0,
             "#0d0887"
            ],
            [
             0.1111111111111111,
             "#46039f"
            ],
            [
             0.2222222222222222,
             "#7201a8"
            ],
            [
             0.3333333333333333,
             "#9c179e"
            ],
            [
             0.4444444444444444,
             "#bd3786"
            ],
            [
             0.5555555555555556,
             "#d8576b"
            ],
            [
             0.6666666666666666,
             "#ed7953"
            ],
            [
             0.7777777777777778,
             "#fb9f3a"
            ],
            [
             0.8888888888888888,
             "#fdca26"
            ],
            [
             1,
             "#f0f921"
            ]
           ],
           "sequentialminus": [
            [
             0,
             "#0d0887"
            ],
            [
             0.1111111111111111,
             "#46039f"
            ],
            [
             0.2222222222222222,
             "#7201a8"
            ],
            [
             0.3333333333333333,
             "#9c179e"
            ],
            [
             0.4444444444444444,
             "#bd3786"
            ],
            [
             0.5555555555555556,
             "#d8576b"
            ],
            [
             0.6666666666666666,
             "#ed7953"
            ],
            [
             0.7777777777777778,
             "#fb9f3a"
            ],
            [
             0.8888888888888888,
             "#fdca26"
            ],
            [
             1,
             "#f0f921"
            ]
           ]
          },
          "colorway": [
           "#636efa",
           "#EF553B",
           "#00cc96",
           "#ab63fa",
           "#FFA15A",
           "#19d3f3",
           "#FF6692",
           "#B6E880",
           "#FF97FF",
           "#FECB52"
          ],
          "font": {
           "color": "#2a3f5f"
          },
          "geo": {
           "bgcolor": "white",
           "lakecolor": "white",
           "landcolor": "#E5ECF6",
           "showlakes": true,
           "showland": true,
           "subunitcolor": "white"
          },
          "hoverlabel": {
           "align": "left"
          },
          "hovermode": "closest",
          "mapbox": {
           "style": "light"
          },
          "paper_bgcolor": "white",
          "plot_bgcolor": "#E5ECF6",
          "polar": {
           "angularaxis": {
            "gridcolor": "white",
            "linecolor": "white",
            "ticks": ""
           },
           "bgcolor": "#E5ECF6",
           "radialaxis": {
            "gridcolor": "white",
            "linecolor": "white",
            "ticks": ""
           }
          },
          "scene": {
           "xaxis": {
            "backgroundcolor": "#E5ECF6",
            "gridcolor": "white",
            "gridwidth": 2,
            "linecolor": "white",
            "showbackground": true,
            "ticks": "",
            "zerolinecolor": "white"
           },
           "yaxis": {
            "backgroundcolor": "#E5ECF6",
            "gridcolor": "white",
            "gridwidth": 2,
            "linecolor": "white",
            "showbackground": true,
            "ticks": "",
            "zerolinecolor": "white"
           },
           "zaxis": {
            "backgroundcolor": "#E5ECF6",
            "gridcolor": "white",
            "gridwidth": 2,
            "linecolor": "white",
            "showbackground": true,
            "ticks": "",
            "zerolinecolor": "white"
           }
          },
          "shapedefaults": {
           "line": {
            "color": "#2a3f5f"
           }
          },
          "ternary": {
           "aaxis": {
            "gridcolor": "white",
            "linecolor": "white",
            "ticks": ""
           },
           "baxis": {
            "gridcolor": "white",
            "linecolor": "white",
            "ticks": ""
           },
           "bgcolor": "#E5ECF6",
           "caxis": {
            "gridcolor": "white",
            "linecolor": "white",
            "ticks": ""
           }
          },
          "title": {
           "x": 0.05
          },
          "xaxis": {
           "automargin": true,
           "gridcolor": "white",
           "linecolor": "white",
           "ticks": "",
           "title": {
            "standoff": 15
           },
           "zerolinecolor": "white",
           "zerolinewidth": 2
          },
          "yaxis": {
           "automargin": true,
           "gridcolor": "white",
           "linecolor": "white",
           "ticks": "",
           "title": {
            "standoff": 15
           },
           "zerolinecolor": "white",
           "zerolinewidth": 2
          }
         }
        },
        "title": {
         "text": "Intensity Fluorescence vs Absorbance"
        },
        "width": 800,
        "xaxis": {
         "title": {
          "text": "Absorbance"
         }
        },
        "yaxis": {
         "title": {
          "text": "Intensity Fluorescence (a.u.)"
         }
        }
       }
      }
     },
     "metadata": {},
     "output_type": "display_data"
    }
   ],
   "source": [
    "start = 0\n",
    "end = -2\n",
    "\n",
    "I = np.array(IMAX_list[start:end])\n",
    "sigmaI = np.array(error_IMAX_list[start:end])\n",
    "\n",
    "A = np.array(ASS[start:end]) # convert\n",
    "sigmaA = np.array(SIGMA_ASS[start:end]) # propagate error on A\n",
    "\n",
    "# Create a scatter plot with error bars using Plotly\n",
    "fig = go.Figure()\n",
    "\n",
    "# Add data points with error bars\n",
    "fig.add_trace(go.Scatter(\n",
    "    x=A,\n",
    "    y=I,\n",
    "    error_y=dict(\n",
    "        type='data',\n",
    "        array=sigmaI,\n",
    "        visible=True\n",
    "    ),\n",
    "    error_x=dict(\n",
    "        type='data',\n",
    "        array=sigmaA,\n",
    "        visible=True\n",
    "    ),\n",
    "    mode='markers',\n",
    "    name='Data with error'\n",
    "))\n",
    "\n",
    "fig.update_layout(\n",
    "    xaxis=dict(\n",
    "        title='Absorbance',\n",
    "        # type='log'  # Set x-axis to log scale\n",
    "    )\n",
    ")\n",
    "\n",
    "# Update layout for labels\n",
    "fig.update_layout(\n",
    "    xaxis=dict(\n",
    "        title='Absorbance',\n",
    "    ),\n",
    "    yaxis=dict(\n",
    "        title='Intensity Fluorescence (a.u.)'\n",
    "    ),\n",
    "    title='Intensity Fluorescence vs Absorbance',\n",
    "    height=600,\n",
    "    width=800,\n",
    "    legend=dict(x=0, y=1),\n",
    "    font=dict(size=14)\n",
    ")\n",
    "\n",
    "fig.show()"
   ]
  },
  {
   "cell_type": "code",
   "execution_count": 12,
   "metadata": {},
   "outputs": [
    {
     "name": "stdout",
     "output_type": "stream",
     "text": [
      "1364.5828491148986 3.1255776403536792 -90.3792499123716\n",
      "F0: 1333 ± 77 a.u.\n",
      "k: 3.296 ± 0.351 \n",
      "y0: -95.611 ± 9.928 a.u.\n"
     ]
    },
    {
     "data": {
      "application/vnd.plotly.v1+json": {
       "config": {
        "plotlyServerURL": "https://plot.ly"
       },
       "data": [
        {
         "error_x": {
          "array": {
           "bdata": "UrPWqR/6NT+mGTd8RLc0P1nRt8VqMTI/1zjus2fGKz9Oc197h00gPwd6oZNFAxw/FgpDvHleFj+foZLvV9oPPw==",
           "dtype": "f8"
          },
          "type": "data",
          "visible": true
         },
         "error_y": {
          "array": {
           "bdata": "A1obb9D7/z9/yatSmeT7P8kQTw73cvg/0MN9+EWt8D/YmFWjblzgP5MDXB/Ma9Y/uCycX+yNzz8vmKrqUIS8Pw==",
           "dtype": "f8"
          },
          "type": "data",
          "visible": true
         },
         "mode": "markers",
         "name": "Data with error",
         "type": "scatter",
         "x": {
          "bdata": "liYQvQC53j85doDneZLWP9NmA/og3NA/TpQMFzVexj/SadRamWm2PxZI8wKsCrI/+qA3J3gOqz9tq4qNQw6iPw==",
          "dtype": "f8"
         },
         "y": {
          "bdata": "oJ0n6u9ojUBkgyQHtYaJQD9wj8yqc4ZA3+Xd1SfUfkDiEA7TLs1tQFh6/haDSWVARfRMcwBuXUAWAFC1ZkdKQA==",
          "dtype": "f8"
         }
        },
        {
         "mode": "lines",
         "name": "Fit",
         "type": "scatter",
         "x": {
          "bdata": "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",
          "dtype": "f8"
         },
         "y": {
          "bdata": "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",
          "dtype": "f8"
         }
        }
       ],
       "layout": {
        "font": {
         "size": 14
        },
        "height": 600,
        "legend": {
         "x": 0,
         "y": 1
        },
        "template": {
         "data": {
          "bar": [
           {
            "error_x": {
             "color": "#2a3f5f"
            },
            "error_y": {
             "color": "#2a3f5f"
            },
            "marker": {
             "line": {
              "color": "#E5ECF6",
              "width": 0.5
             },
             "pattern": {
              "fillmode": "overlay",
              "size": 10,
              "solidity": 0.2
             }
            },
            "type": "bar"
           }
          ],
          "barpolar": [
           {
            "marker": {
             "line": {
              "color": "#E5ECF6",
              "width": 0.5
             },
             "pattern": {
              "fillmode": "overlay",
              "size": 10,
              "solidity": 0.2
             }
            },
            "type": "barpolar"
           }
          ],
          "carpet": [
           {
            "aaxis": {
             "endlinecolor": "#2a3f5f",
             "gridcolor": "white",
             "linecolor": "white",
             "minorgridcolor": "white",
             "startlinecolor": "#2a3f5f"
            },
            "baxis": {
             "endlinecolor": "#2a3f5f",
             "gridcolor": "white",
             "linecolor": "white",
             "minorgridcolor": "white",
             "startlinecolor": "#2a3f5f"
            },
            "type": "carpet"
           }
          ],
          "choropleth": [
           {
            "colorbar": {
             "outlinewidth": 0,
             "ticks": ""
            },
            "type": "choropleth"
           }
          ],
          "contour": [
           {
            "colorbar": {
             "outlinewidth": 0,
             "ticks": ""
            },
            "colorscale": [
             [
              0,
              "#0d0887"
             ],
             [
              0.1111111111111111,
              "#46039f"
             ],
             [
              0.2222222222222222,
              "#7201a8"
             ],
             [
              0.3333333333333333,
              "#9c179e"
             ],
             [
              0.4444444444444444,
              "#bd3786"
             ],
             [
              0.5555555555555556,
              "#d8576b"
             ],
             [
              0.6666666666666666,
              "#ed7953"
             ],
             [
              0.7777777777777778,
              "#fb9f3a"
             ],
             [
              0.8888888888888888,
              "#fdca26"
             ],
             [
              1,
              "#f0f921"
             ]
            ],
            "type": "contour"
           }
          ],
          "contourcarpet": [
           {
            "colorbar": {
             "outlinewidth": 0,
             "ticks": ""
            },
            "type": "contourcarpet"
           }
          ],
          "heatmap": [
           {
            "colorbar": {
             "outlinewidth": 0,
             "ticks": ""
            },
            "colorscale": [
             [
              0,
              "#0d0887"
             ],
             [
              0.1111111111111111,
              "#46039f"
             ],
             [
              0.2222222222222222,
              "#7201a8"
             ],
             [
              0.3333333333333333,
              "#9c179e"
             ],
             [
              0.4444444444444444,
              "#bd3786"
             ],
             [
              0.5555555555555556,
              "#d8576b"
             ],
             [
              0.6666666666666666,
              "#ed7953"
             ],
             [
              0.7777777777777778,
              "#fb9f3a"
             ],
             [
              0.8888888888888888,
              "#fdca26"
             ],
             [
              1,
              "#f0f921"
             ]
            ],
            "type": "heatmap"
           }
          ],
          "histogram": [
           {
            "marker": {
             "pattern": {
              "fillmode": "overlay",
              "size": 10,
              "solidity": 0.2
             }
            },
            "type": "histogram"
           }
          ],
          "histogram2d": [
           {
            "colorbar": {
             "outlinewidth": 0,
             "ticks": ""
            },
            "colorscale": [
             [
              0,
              "#0d0887"
             ],
             [
              0.1111111111111111,
              "#46039f"
             ],
             [
              0.2222222222222222,
              "#7201a8"
             ],
             [
              0.3333333333333333,
              "#9c179e"
             ],
             [
              0.4444444444444444,
              "#bd3786"
             ],
             [
              0.5555555555555556,
              "#d8576b"
             ],
             [
              0.6666666666666666,
              "#ed7953"
             ],
             [
              0.7777777777777778,
              "#fb9f3a"
             ],
             [
              0.8888888888888888,
              "#fdca26"
             ],
             [
              1,
              "#f0f921"
             ]
            ],
            "type": "histogram2d"
           }
          ],
          "histogram2dcontour": [
           {
            "colorbar": {
             "outlinewidth": 0,
             "ticks": ""
            },
            "colorscale": [
             [
              0,
              "#0d0887"
             ],
             [
              0.1111111111111111,
              "#46039f"
             ],
             [
              0.2222222222222222,
              "#7201a8"
             ],
             [
              0.3333333333333333,
              "#9c179e"
             ],
             [
              0.4444444444444444,
              "#bd3786"
             ],
             [
              0.5555555555555556,
              "#d8576b"
             ],
             [
              0.6666666666666666,
              "#ed7953"
             ],
             [
              0.7777777777777778,
              "#fb9f3a"
             ],
             [
              0.8888888888888888,
              "#fdca26"
             ],
             [
              1,
              "#f0f921"
             ]
            ],
            "type": "histogram2dcontour"
           }
          ],
          "mesh3d": [
           {
            "colorbar": {
             "outlinewidth": 0,
             "ticks": ""
            },
            "type": "mesh3d"
           }
          ],
          "parcoords": [
           {
            "line": {
             "colorbar": {
              "outlinewidth": 0,
              "ticks": ""
             }
            },
            "type": "parcoords"
           }
          ],
          "pie": [
           {
            "automargin": true,
            "type": "pie"
           }
          ],
          "scatter": [
           {
            "fillpattern": {
             "fillmode": "overlay",
             "size": 10,
             "solidity": 0.2
            },
            "type": "scatter"
           }
          ],
          "scatter3d": [
           {
            "line": {
             "colorbar": {
              "outlinewidth": 0,
              "ticks": ""
             }
            },
            "marker": {
             "colorbar": {
              "outlinewidth": 0,
              "ticks": ""
             }
            },
            "type": "scatter3d"
           }
          ],
          "scattercarpet": [
           {
            "marker": {
             "colorbar": {
              "outlinewidth": 0,
              "ticks": ""
             }
            },
            "type": "scattercarpet"
           }
          ],
          "scattergeo": [
           {
            "marker": {
             "colorbar": {
              "outlinewidth": 0,
              "ticks": ""
             }
            },
            "type": "scattergeo"
           }
          ],
          "scattergl": [
           {
            "marker": {
             "colorbar": {
              "outlinewidth": 0,
              "ticks": ""
             }
            },
            "type": "scattergl"
           }
          ],
          "scattermap": [
           {
            "marker": {
             "colorbar": {
              "outlinewidth": 0,
              "ticks": ""
             }
            },
            "type": "scattermap"
           }
          ],
          "scattermapbox": [
           {
            "marker": {
             "colorbar": {
              "outlinewidth": 0,
              "ticks": ""
             }
            },
            "type": "scattermapbox"
           }
          ],
          "scatterpolar": [
           {
            "marker": {
             "colorbar": {
              "outlinewidth": 0,
              "ticks": ""
             }
            },
            "type": "scatterpolar"
           }
          ],
          "scatterpolargl": [
           {
            "marker": {
             "colorbar": {
              "outlinewidth": 0,
              "ticks": ""
             }
            },
            "type": "scatterpolargl"
           }
          ],
          "scatterternary": [
           {
            "marker": {
             "colorbar": {
              "outlinewidth": 0,
              "ticks": ""
             }
            },
            "type": "scatterternary"
           }
          ],
          "surface": [
           {
            "colorbar": {
             "outlinewidth": 0,
             "ticks": ""
            },
            "colorscale": [
             [
              0,
              "#0d0887"
             ],
             [
              0.1111111111111111,
              "#46039f"
             ],
             [
              0.2222222222222222,
              "#7201a8"
             ],
             [
              0.3333333333333333,
              "#9c179e"
             ],
             [
              0.4444444444444444,
              "#bd3786"
             ],
             [
              0.5555555555555556,
              "#d8576b"
             ],
             [
              0.6666666666666666,
              "#ed7953"
             ],
             [
              0.7777777777777778,
              "#fb9f3a"
             ],
             [
              0.8888888888888888,
              "#fdca26"
             ],
             [
              1,
              "#f0f921"
             ]
            ],
            "type": "surface"
           }
          ],
          "table": [
           {
            "cells": {
             "fill": {
              "color": "#EBF0F8"
             },
             "line": {
              "color": "white"
             }
            },
            "header": {
             "fill": {
              "color": "#C8D4E3"
             },
             "line": {
              "color": "white"
             }
            },
            "type": "table"
           }
          ]
         },
         "layout": {
          "annotationdefaults": {
           "arrowcolor": "#2a3f5f",
           "arrowhead": 0,
           "arrowwidth": 1
          },
          "autotypenumbers": "strict",
          "coloraxis": {
           "colorbar": {
            "outlinewidth": 0,
            "ticks": ""
           }
          },
          "colorscale": {
           "diverging": [
            [
             0,
             "#8e0152"
            ],
            [
             0.1,
             "#c51b7d"
            ],
            [
             0.2,
             "#de77ae"
            ],
            [
             0.3,
             "#f1b6da"
            ],
            [
             0.4,
             "#fde0ef"
            ],
            [
             0.5,
             "#f7f7f7"
            ],
            [
             0.6,
             "#e6f5d0"
            ],
            [
             0.7,
             "#b8e186"
            ],
            [
             0.8,
             "#7fbc41"
            ],
            [
             0.9,
             "#4d9221"
            ],
            [
             1,
             "#276419"
            ]
           ],
           "sequential": [
            [
             0,
             "#0d0887"
            ],
            [
             0.1111111111111111,
             "#46039f"
            ],
            [
             0.2222222222222222,
             "#7201a8"
            ],
            [
             0.3333333333333333,
             "#9c179e"
            ],
            [
             0.4444444444444444,
             "#bd3786"
            ],
            [
             0.5555555555555556,
             "#d8576b"
            ],
            [
             0.6666666666666666,
             "#ed7953"
            ],
            [
             0.7777777777777778,
             "#fb9f3a"
            ],
            [
             0.8888888888888888,
             "#fdca26"
            ],
            [
             1,
             "#f0f921"
            ]
           ],
           "sequentialminus": [
            [
             0,
             "#0d0887"
            ],
            [
             0.1111111111111111,
             "#46039f"
            ],
            [
             0.2222222222222222,
             "#7201a8"
            ],
            [
             0.3333333333333333,
             "#9c179e"
            ],
            [
             0.4444444444444444,
             "#bd3786"
            ],
            [
             0.5555555555555556,
             "#d8576b"
            ],
            [
             0.6666666666666666,
             "#ed7953"
            ],
            [
             0.7777777777777778,
             "#fb9f3a"
            ],
            [
             0.8888888888888888,
             "#fdca26"
            ],
            [
             1,
             "#f0f921"
            ]
           ]
          },
          "colorway": [
           "#636efa",
           "#EF553B",
           "#00cc96",
           "#ab63fa",
           "#FFA15A",
           "#19d3f3",
           "#FF6692",
           "#B6E880",
           "#FF97FF",
           "#FECB52"
          ],
          "font": {
           "color": "#2a3f5f"
          },
          "geo": {
           "bgcolor": "white",
           "lakecolor": "white",
           "landcolor": "#E5ECF6",
           "showlakes": true,
           "showland": true,
           "subunitcolor": "white"
          },
          "hoverlabel": {
           "align": "left"
          },
          "hovermode": "closest",
          "mapbox": {
           "style": "light"
          },
          "paper_bgcolor": "white",
          "plot_bgcolor": "#E5ECF6",
          "polar": {
           "angularaxis": {
            "gridcolor": "white",
            "linecolor": "white",
            "ticks": ""
           },
           "bgcolor": "#E5ECF6",
           "radialaxis": {
            "gridcolor": "white",
            "linecolor": "white",
            "ticks": ""
           }
          },
          "scene": {
           "xaxis": {
            "backgroundcolor": "#E5ECF6",
            "gridcolor": "white",
            "gridwidth": 2,
            "linecolor": "white",
            "showbackground": true,
            "ticks": "",
            "zerolinecolor": "white"
           },
           "yaxis": {
            "backgroundcolor": "#E5ECF6",
            "gridcolor": "white",
            "gridwidth": 2,
            "linecolor": "white",
            "showbackground": true,
            "ticks": "",
            "zerolinecolor": "white"
           },
           "zaxis": {
            "backgroundcolor": "#E5ECF6",
            "gridcolor": "white",
            "gridwidth": 2,
            "linecolor": "white",
            "showbackground": true,
            "ticks": "",
            "zerolinecolor": "white"
           }
          },
          "shapedefaults": {
           "line": {
            "color": "#2a3f5f"
           }
          },
          "ternary": {
           "aaxis": {
            "gridcolor": "white",
            "linecolor": "white",
            "ticks": ""
           },
           "baxis": {
            "gridcolor": "white",
            "linecolor": "white",
            "ticks": ""
           },
           "bgcolor": "#E5ECF6",
           "caxis": {
            "gridcolor": "white",
            "linecolor": "white",
            "ticks": ""
           }
          },
          "title": {
           "x": 0.05
          },
          "xaxis": {
           "automargin": true,
           "gridcolor": "white",
           "linecolor": "white",
           "ticks": "",
           "title": {
            "standoff": 15
           },
           "zerolinecolor": "white",
           "zerolinewidth": 2
          },
          "yaxis": {
           "automargin": true,
           "gridcolor": "white",
           "linecolor": "white",
           "ticks": "",
           "title": {
            "standoff": 15
           },
           "zerolinecolor": "white",
           "zerolinewidth": 2
          }
         }
        },
        "width": 800,
        "xaxis": {
         "title": {
          "text": "Absorbance"
         }
        },
        "yaxis": {
         "title": {
          "text": "Intensity Fluorescence (a.u.)"
         }
        }
       }
      }
     },
     "metadata": {},
     "output_type": "display_data"
    }
   ],
   "source": [
    "\n",
    "\n",
    "# iteration 0\n",
    "popt, pcov = curve_fit(F_C_fit, A, I, sigma=sigmaI, maxfev=10000)\n",
    "F0, k, y0 = popt\n",
    "error_F0, error_k, error_y0 = np.sqrt(np.diag(pcov))\n",
    "print(F0, k, y0)\n",
    "\n",
    "# iteration 1\n",
    "dFdC = np.abs(k * F0 * np.exp(-k * A)) # propagate error on C\n",
    "sigmaTot = np.sqrt(sigmaI**2 + (dFdC * sigmaA)**2) # propagate error on I\n",
    "popt, pcov = curve_fit(F_C_fit, A, I, p0=[F0, k, y0], sigma=sigmaTot)\n",
    "F0, k, y0 = popt\n",
    "error_F0, error_k, error_y0 = np.sqrt(np.diag(pcov))\n",
    "\n",
    "print('F0:', final_val(F0, error_F0, decimals=0, udm='a.u.'))\n",
    "print('k:', final_val(k, error_k, decimals=3))\n",
    "print('y0:', final_val(y0, error_y0, decimals=3, udm='a.u.'))\n",
    "\n",
    "# Create a scatter plot with error bars using Plotly\n",
    "fig = go.Figure()\n",
    "\n",
    "# Add data points with error bars\n",
    "fig.add_trace(go.Scatter(\n",
    "    x=A,\n",
    "    y=I,\n",
    "    error_y=dict(\n",
    "        type='data',\n",
    "        array=sigmaI,\n",
    "        visible=True\n",
    "    ),\n",
    "    error_x=dict(\n",
    "        type='data',\n",
    "        array=sigmaA,\n",
    "        visible=True\n",
    "    ),\n",
    "    mode='markers',\n",
    "    name='Data with error'\n",
    "))\n",
    "\n",
    "# Add the fitted curve\n",
    "a = np.linspace(np.min(A), np.max(A), 1000)\n",
    "fig.add_trace(go.Scatter(\n",
    "    x=a,\n",
    "    y=F_C_fit(a, *popt),\n",
    "    mode='lines',\n",
    "    name='Fit'\n",
    "))\n",
    "\n",
    "# Update layout for log scale and labels\n",
    "fig.update_layout(\n",
    "    xaxis=dict(\n",
    "        title='Absorbance',\n",
    "       # type='log'\n",
    "    ),\n",
    "    yaxis=dict(\n",
    "        title='Intensity Fluorescence (a.u.)'\n",
    "    ),\n",
    "    # title='Intensity Fluorescence vs Concentration',\n",
    "    height=600,\n",
    "    width=800,\n",
    "    legend=dict(x=0, y=1),\n",
    "    font=dict(size=14)\n",
    ")\n",
    "\n",
    "fig.write_html(dir_path +r\"\\html\\FvsAfit.html\")\n",
    "fig.write_image(dir_path + r\"\\images\\FvsAfit.png\")\n",
    "fig.show()"
   ]
  },
  {
   "cell_type": "code",
   "execution_count": 13,
   "metadata": {},
   "outputs": [
    {
     "name": "stdout",
     "output_type": "stream",
     "text": [
      "[0.48004168 0.3526902  0.2634356  0.17474998 0.08754881 0.07047534\n",
      " 0.05284477 0.03526507]\n",
      "[3.35343104e-04 3.16099377e-04 2.77603691e-04 2.11906585e-04\n",
      " 1.24380863e-04 1.06860277e-04 8.53311349e-05 6.07545935e-05]\n"
     ]
    }
   ],
   "source": [
    "print(A)\n",
    "print(sigmaA)"
   ]
  },
  {
   "cell_type": "code",
   "execution_count": 14,
   "metadata": {},
   "outputs": [
    {
     "name": "stdout",
     "output_type": "stream",
     "text": [
      "k: 3493.111 ± 110.065 μM^-1\n",
      "y0: -70.34 ± 4.899 a.u.\n"
     ]
    },
    {
     "data": {
      "application/vnd.plotly.v1+json": {
       "config": {
        "plotlyServerURL": "https://plot.ly"
       },
       "data": [
        {
         "error_x": {
          "array": {
           "bdata": "TnNfe4dNID8HeqGTRQMcPxYKQ7x5XhY/n6GS71faDz8=",
           "dtype": "f8"
          },
          "type": "data",
          "visible": true
         },
         "error_y": {
          "array": {
           "bdata": "2JhVo25c4D+TA1wfzGvWP7gsnF/sjc8/L5iq6lCEvD8=",
           "dtype": "f8"
          },
          "type": "data",
          "visible": true
         },
         "mode": "markers",
         "name": "Data with error",
         "type": "scatter",
         "x": {
          "bdata": "0mnUWplptj8WSPMCrAqyP/qgNyd4Dqs/bauKjUMOoj8=",
          "dtype": "f8"
         },
         "y": {
          "bdata": "4hAO0y7NbUBYev4Wg0llQEX0THMAbl1AFgBQtWZHSkA=",
          "dtype": "f8"
         }
        },
        {
         "mode": "lines",
         "name": "Fit",
         "type": "scatter",
         "x": {
          "bdata": "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",
          "dtype": "f8"
         },
         "y": {
          "bdata": "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",
          "dtype": "f8"
         }
        }
       ],
       "layout": {
        "font": {
         "size": 14
        },
        "height": 600,
        "legend": {
         "x": 0,
         "y": 1
        },
        "template": {
         "data": {
          "bar": [
           {
            "error_x": {
             "color": "#2a3f5f"
            },
            "error_y": {
             "color": "#2a3f5f"
            },
            "marker": {
             "line": {
              "color": "#E5ECF6",
              "width": 0.5
             },
             "pattern": {
              "fillmode": "overlay",
              "size": 10,
              "solidity": 0.2
             }
            },
            "type": "bar"
           }
          ],
          "barpolar": [
           {
            "marker": {
             "line": {
              "color": "#E5ECF6",
              "width": 0.5
             },
             "pattern": {
              "fillmode": "overlay",
              "size": 10,
              "solidity": 0.2
             }
            },
            "type": "barpolar"
           }
          ],
          "carpet": [
           {
            "aaxis": {
             "endlinecolor": "#2a3f5f",
             "gridcolor": "white",
             "linecolor": "white",
             "minorgridcolor": "white",
             "startlinecolor": "#2a3f5f"
            },
            "baxis": {
             "endlinecolor": "#2a3f5f",
             "gridcolor": "white",
             "linecolor": "white",
             "minorgridcolor": "white",
             "startlinecolor": "#2a3f5f"
            },
            "type": "carpet"
           }
          ],
          "choropleth": [
           {
            "colorbar": {
             "outlinewidth": 0,
             "ticks": ""
            },
            "type": "choropleth"
           }
          ],
          "contour": [
           {
            "colorbar": {
             "outlinewidth": 0,
             "ticks": ""
            },
            "colorscale": [
             [
              0,
              "#0d0887"
             ],
             [
              0.1111111111111111,
              "#46039f"
             ],
             [
              0.2222222222222222,
              "#7201a8"
             ],
             [
              0.3333333333333333,
              "#9c179e"
             ],
             [
              0.4444444444444444,
              "#bd3786"
             ],
             [
              0.5555555555555556,
              "#d8576b"
             ],
             [
              0.6666666666666666,
              "#ed7953"
             ],
             [
              0.7777777777777778,
              "#fb9f3a"
             ],
             [
              0.8888888888888888,
              "#fdca26"
             ],
             [
              1,
              "#f0f921"
             ]
            ],
            "type": "contour"
           }
          ],
          "contourcarpet": [
           {
            "colorbar": {
             "outlinewidth": 0,
             "ticks": ""
            },
            "type": "contourcarpet"
           }
          ],
          "heatmap": [
           {
            "colorbar": {
             "outlinewidth": 0,
             "ticks": ""
            },
            "colorscale": [
             [
              0,
              "#0d0887"
             ],
             [
              0.1111111111111111,
              "#46039f"
             ],
             [
              0.2222222222222222,
              "#7201a8"
             ],
             [
              0.3333333333333333,
              "#9c179e"
             ],
             [
              0.4444444444444444,
              "#bd3786"
             ],
             [
              0.5555555555555556,
              "#d8576b"
             ],
             [
              0.6666666666666666,
              "#ed7953"
             ],
             [
              0.7777777777777778,
              "#fb9f3a"
             ],
             [
              0.8888888888888888,
              "#fdca26"
             ],
             [
              1,
              "#f0f921"
             ]
            ],
            "type": "heatmap"
           }
          ],
          "histogram": [
           {
            "marker": {
             "pattern": {
              "fillmode": "overlay",
              "size": 10,
              "solidity": 0.2
             }
            },
            "type": "histogram"
           }
          ],
          "histogram2d": [
           {
            "colorbar": {
             "outlinewidth": 0,
             "ticks": ""
            },
            "colorscale": [
             [
              0,
              "#0d0887"
             ],
             [
              0.1111111111111111,
              "#46039f"
             ],
             [
              0.2222222222222222,
              "#7201a8"
             ],
             [
              0.3333333333333333,
              "#9c179e"
             ],
             [
              0.4444444444444444,
              "#bd3786"
             ],
             [
              0.5555555555555556,
              "#d8576b"
             ],
             [
              0.6666666666666666,
              "#ed7953"
             ],
             [
              0.7777777777777778,
              "#fb9f3a"
             ],
             [
              0.8888888888888888,
              "#fdca26"
             ],
             [
              1,
              "#f0f921"
             ]
            ],
            "type": "histogram2d"
           }
          ],
          "histogram2dcontour": [
           {
            "colorbar": {
             "outlinewidth": 0,
             "ticks": ""
            },
            "colorscale": [
             [
              0,
              "#0d0887"
             ],
             [
              0.1111111111111111,
              "#46039f"
             ],
             [
              0.2222222222222222,
              "#7201a8"
             ],
             [
              0.3333333333333333,
              "#9c179e"
             ],
             [
              0.4444444444444444,
              "#bd3786"
             ],
             [
              0.5555555555555556,
              "#d8576b"
             ],
             [
              0.6666666666666666,
              "#ed7953"
             ],
             [
              0.7777777777777778,
              "#fb9f3a"
             ],
             [
              0.8888888888888888,
              "#fdca26"
             ],
             [
              1,
              "#f0f921"
             ]
            ],
            "type": "histogram2dcontour"
           }
          ],
          "mesh3d": [
           {
            "colorbar": {
             "outlinewidth": 0,
             "ticks": ""
            },
            "type": "mesh3d"
           }
          ],
          "parcoords": [
           {
            "line": {
             "colorbar": {
              "outlinewidth": 0,
              "ticks": ""
             }
            },
            "type": "parcoords"
           }
          ],
          "pie": [
           {
            "automargin": true,
            "type": "pie"
           }
          ],
          "scatter": [
           {
            "fillpattern": {
             "fillmode": "overlay",
             "size": 10,
             "solidity": 0.2
            },
            "type": "scatter"
           }
          ],
          "scatter3d": [
           {
            "line": {
             "colorbar": {
              "outlinewidth": 0,
              "ticks": ""
             }
            },
            "marker": {
             "colorbar": {
              "outlinewidth": 0,
              "ticks": ""
             }
            },
            "type": "scatter3d"
           }
          ],
          "scattercarpet": [
           {
            "marker": {
             "colorbar": {
              "outlinewidth": 0,
              "ticks": ""
             }
            },
            "type": "scattercarpet"
           }
          ],
          "scattergeo": [
           {
            "marker": {
             "colorbar": {
              "outlinewidth": 0,
              "ticks": ""
             }
            },
            "type": "scattergeo"
           }
          ],
          "scattergl": [
           {
            "marker": {
             "colorbar": {
              "outlinewidth": 0,
              "ticks": ""
             }
            },
            "type": "scattergl"
           }
          ],
          "scattermap": [
           {
            "marker": {
             "colorbar": {
              "outlinewidth": 0,
              "ticks": ""
             }
            },
            "type": "scattermap"
           }
          ],
          "scattermapbox": [
           {
            "marker": {
             "colorbar": {
              "outlinewidth": 0,
              "ticks": ""
             }
            },
            "type": "scattermapbox"
           }
          ],
          "scatterpolar": [
           {
            "marker": {
             "colorbar": {
              "outlinewidth": 0,
              "ticks": ""
             }
            },
            "type": "scatterpolar"
           }
          ],
          "scatterpolargl": [
           {
            "marker": {
             "colorbar": {
              "outlinewidth": 0,
              "ticks": ""
             }
            },
            "type": "scatterpolargl"
           }
          ],
          "scatterternary": [
           {
            "marker": {
             "colorbar": {
              "outlinewidth": 0,
              "ticks": ""
             }
            },
            "type": "scatterternary"
           }
          ],
          "surface": [
           {
            "colorbar": {
             "outlinewidth": 0,
             "ticks": ""
            },
            "colorscale": [
             [
              0,
              "#0d0887"
             ],
             [
              0.1111111111111111,
              "#46039f"
             ],
             [
              0.2222222222222222,
              "#7201a8"
             ],
             [
              0.3333333333333333,
              "#9c179e"
             ],
             [
              0.4444444444444444,
              "#bd3786"
             ],
             [
              0.5555555555555556,
              "#d8576b"
             ],
             [
              0.6666666666666666,
              "#ed7953"
             ],
             [
              0.7777777777777778,
              "#fb9f3a"
             ],
             [
              0.8888888888888888,
              "#fdca26"
             ],
             [
              1,
              "#f0f921"
             ]
            ],
            "type": "surface"
           }
          ],
          "table": [
           {
            "cells": {
             "fill": {
              "color": "#EBF0F8"
             },
             "line": {
              "color": "white"
             }
            },
            "header": {
             "fill": {
              "color": "#C8D4E3"
             },
             "line": {
              "color": "white"
             }
            },
            "type": "table"
           }
          ]
         },
         "layout": {
          "annotationdefaults": {
           "arrowcolor": "#2a3f5f",
           "arrowhead": 0,
           "arrowwidth": 1
          },
          "autotypenumbers": "strict",
          "coloraxis": {
           "colorbar": {
            "outlinewidth": 0,
            "ticks": ""
           }
          },
          "colorscale": {
           "diverging": [
            [
             0,
             "#8e0152"
            ],
            [
             0.1,
             "#c51b7d"
            ],
            [
             0.2,
             "#de77ae"
            ],
            [
             0.3,
             "#f1b6da"
            ],
            [
             0.4,
             "#fde0ef"
            ],
            [
             0.5,
             "#f7f7f7"
            ],
            [
             0.6,
             "#e6f5d0"
            ],
            [
             0.7,
             "#b8e186"
            ],
            [
             0.8,
             "#7fbc41"
            ],
            [
             0.9,
             "#4d9221"
            ],
            [
             1,
             "#276419"
            ]
           ],
           "sequential": [
            [
             0,
             "#0d0887"
            ],
            [
             0.1111111111111111,
             "#46039f"
            ],
            [
             0.2222222222222222,
             "#7201a8"
            ],
            [
             0.3333333333333333,
             "#9c179e"
            ],
            [
             0.4444444444444444,
             "#bd3786"
            ],
            [
             0.5555555555555556,
             "#d8576b"
            ],
            [
             0.6666666666666666,
             "#ed7953"
            ],
            [
             0.7777777777777778,
             "#fb9f3a"
            ],
            [
             0.8888888888888888,
             "#fdca26"
            ],
            [
             1,
             "#f0f921"
            ]
           ],
           "sequentialminus": [
            [
             0,
             "#0d0887"
            ],
            [
             0.1111111111111111,
             "#46039f"
            ],
            [
             0.2222222222222222,
             "#7201a8"
            ],
            [
             0.3333333333333333,
             "#9c179e"
            ],
            [
             0.4444444444444444,
             "#bd3786"
            ],
            [
             0.5555555555555556,
             "#d8576b"
            ],
            [
             0.6666666666666666,
             "#ed7953"
            ],
            [
             0.7777777777777778,
             "#fb9f3a"
            ],
            [
             0.8888888888888888,
             "#fdca26"
            ],
            [
             1,
             "#f0f921"
            ]
           ]
          },
          "colorway": [
           "#636efa",
           "#EF553B",
           "#00cc96",
           "#ab63fa",
           "#FFA15A",
           "#19d3f3",
           "#FF6692",
           "#B6E880",
           "#FF97FF",
           "#FECB52"
          ],
          "font": {
           "color": "#2a3f5f"
          },
          "geo": {
           "bgcolor": "white",
           "lakecolor": "white",
           "landcolor": "#E5ECF6",
           "showlakes": true,
           "showland": true,
           "subunitcolor": "white"
          },
          "hoverlabel": {
           "align": "left"
          },
          "hovermode": "closest",
          "mapbox": {
           "style": "light"
          },
          "paper_bgcolor": "white",
          "plot_bgcolor": "#E5ECF6",
          "polar": {
           "angularaxis": {
            "gridcolor": "white",
            "linecolor": "white",
            "ticks": ""
           },
           "bgcolor": "#E5ECF6",
           "radialaxis": {
            "gridcolor": "white",
            "linecolor": "white",
            "ticks": ""
           }
          },
          "scene": {
           "xaxis": {
            "backgroundcolor": "#E5ECF6",
            "gridcolor": "white",
            "gridwidth": 2,
            "linecolor": "white",
            "showbackground": true,
            "ticks": "",
            "zerolinecolor": "white"
           },
           "yaxis": {
            "backgroundcolor": "#E5ECF6",
            "gridcolor": "white",
            "gridwidth": 2,
            "linecolor": "white",
            "showbackground": true,
            "ticks": "",
            "zerolinecolor": "white"
           },
           "zaxis": {
            "backgroundcolor": "#E5ECF6",
            "gridcolor": "white",
            "gridwidth": 2,
            "linecolor": "white",
            "showbackground": true,
            "ticks": "",
            "zerolinecolor": "white"
           }
          },
          "shapedefaults": {
           "line": {
            "color": "#2a3f5f"
           }
          },
          "ternary": {
           "aaxis": {
            "gridcolor": "white",
            "linecolor": "white",
            "ticks": ""
           },
           "baxis": {
            "gridcolor": "white",
            "linecolor": "white",
            "ticks": ""
           },
           "bgcolor": "#E5ECF6",
           "caxis": {
            "gridcolor": "white",
            "linecolor": "white",
            "ticks": ""
           }
          },
          "title": {
           "x": 0.05
          },
          "xaxis": {
           "automargin": true,
           "gridcolor": "white",
           "linecolor": "white",
           "ticks": "",
           "title": {
            "standoff": 15
           },
           "zerolinecolor": "white",
           "zerolinewidth": 2
          },
          "yaxis": {
           "automargin": true,
           "gridcolor": "white",
           "linecolor": "white",
           "ticks": "",
           "title": {
            "standoff": 15
           },
           "zerolinecolor": "white",
           "zerolinewidth": 2
          }
         }
        },
        "title": {
         "text": "Intensity Fluorescence vs Concentration"
        },
        "width": 800,
        "xaxis": {
         "title": {
          "text": "Concentration (μM)"
         }
        },
        "yaxis": {
         "title": {
          "text": "Intensity Fluorescence (a.u.)"
         }
        }
       }
      }
     },
     "metadata": {},
     "output_type": "display_data"
    }
   ],
   "source": [
    "# fit lineare del primo set di dati:\n",
    "limit = 0.1\n",
    "def F_C_fit_linear(C,k,y0):\n",
    "    return k*C + y0\n",
    "\n",
    "I2 = I[A < limit]\n",
    "sigmaI2 =sigmaI[A < limit] \n",
    "\n",
    "A2 = A[A <limit] \n",
    "sigmaA2 = sigmaA[A < limit]\n",
    "\n",
    "# iteration 0\n",
    "popt, pcov = curve_fit(F_C_fit_linear, A2, I2, p0=[1000,1.0],sigma=sigmaI2,maxfev=10000)\n",
    "k, y0 = popt\n",
    "error_k, error_y0 = np.sqrt(np.diag(pcov))\n",
    "\n",
    "# iteration 1\n",
    "dFdC = np.abs(k*F0*np.exp(-k*A2)) # propagate error on C\n",
    "sigmaTot = np.sqrt(sigmaI2**2 + (dFdC*sigmaA2)**2) # propagate error on I\n",
    "popt, pcov = curve_fit(F_C_fit_linear, A2, I2, p0=[k,y0],sigma=sigmaTot)\n",
    "k, y0 = popt\n",
    "error_k, error_y0 = np.sqrt(np.diag(pcov))\n",
    "\n",
    "\n",
    "# print('F0:',final_val(F0,error_F0,decimals=0,udm='a.u.'))\n",
    "print('k:',final_val(k,error_k,decimals=3,udm='μM^-1'))\n",
    "print('y0:',final_val(y0,error_y0,decimals=3,udm='a.u.'))\n",
    "\n",
    "# Create a scatter plot with error bars using Plotly\n",
    "fig = go.Figure()\n",
    "\n",
    "# Add data points with error bars\n",
    "fig.add_trace(go.Scatter(\n",
    "    x=A2,\n",
    "    y=I2,\n",
    "    error_y=dict(\n",
    "        type='data',\n",
    "        array=sigmaI2,\n",
    "        visible=True\n",
    "    ),\n",
    "    error_x=dict(\n",
    "        type='data',\n",
    "        array=sigmaA2,\n",
    "        visible=True\n",
    "    ),\n",
    "    mode='markers',\n",
    "    name='Data with error'\n",
    "))\n",
    "\n",
    "# Add the fitted curve\n",
    "a = np.linspace(np.min(A2), np.max(A2), 1000)\n",
    "fig.add_trace(go.Scatter(\n",
    "    x=a,\n",
    "    y=F_C_fit_linear(a, *popt),\n",
    "    mode='lines',\n",
    "    name='Fit'\n",
    "))\n",
    "\n",
    "# Update layout for log scale and labels\n",
    "fig.update_layout(\n",
    "    xaxis=dict(\n",
    "        title='Concentration (μM)',\n",
    "        # type='log'\n",
    "    ),\n",
    "    yaxis=dict(\n",
    "        title='Intensity Fluorescence (a.u.)'\n",
    "    ),\n",
    "    title='Intensity Fluorescence vs Concentration',\n",
    "    height=600,\n",
    "    width=800,\n",
    "    legend=dict(x=0, y=1),\n",
    "    font=dict(size=14)\n",
    ")\n",
    "\n",
    "fig.write_html(dir_path +r\"\\html\\FvsAfit_linear.html\")\n",
    "fig.write_image(dir_path + r\"\\images\\FvsAfit_lnear.png\")\n",
    "fig.show()\n"
   ]
  }
 ],
 "metadata": {
  "kernelspec": {
   "display_name": "Python 3",
   "language": "python",
   "name": "python3"
  },
  "language_info": {
   "codemirror_mode": {
    "name": "ipython",
    "version": 3
   },
   "file_extension": ".py",
   "mimetype": "text/x-python",
   "name": "python",
   "nbconvert_exporter": "python",
   "pygments_lexer": "ipython3",
   "version": "3.13.0"
  }
 },
 "nbformat": 4,
 "nbformat_minor": 2
}
