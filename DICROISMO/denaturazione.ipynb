{
 "cells": [
  {
   "cell_type": "code",
   "execution_count": 1,
   "id": "bf6f4978",
   "metadata": {},
   "outputs": [],
   "source": [
    "from matplotlib import pyplot as plt\n",
    "from scipy.optimize import curve_fit\n",
    "import numpy as np\n",
    "import pandas as pd\n",
    "import plotly.express as px\n",
    "import os\n",
    "import sys\n",
    "import plotly.graph_objects as go \n",
    "dir_path = os.path.abspath('')\n",
    "sys.path.append(dir_path + '/../')\n",
    "from labbiofisica import final_val"
   ]
  },
  {
   "cell_type": "code",
   "execution_count": 2,
   "id": "27a06352",
   "metadata": {},
   "outputs": [
    {
     "data": {
      "text/html": [
       "<div>\n",
       "<style scoped>\n",
       "    .dataframe tbody tr th:only-of-type {\n",
       "        vertical-align: middle;\n",
       "    }\n",
       "\n",
       "    .dataframe tbody tr th {\n",
       "        vertical-align: top;\n",
       "    }\n",
       "\n",
       "    .dataframe thead th {\n",
       "        text-align: right;\n",
       "    }\n",
       "</style>\n",
       "<table border=\"1\" class=\"dataframe\">\n",
       "  <thead>\n",
       "    <tr style=\"text-align: right;\">\n",
       "      <th></th>\n",
       "      <th>λ</th>\n",
       "      <th>C0</th>\n",
       "      <th>C1</th>\n",
       "      <th>C2</th>\n",
       "      <th>C3</th>\n",
       "      <th>C4</th>\n",
       "      <th>C5</th>\n",
       "    </tr>\n",
       "  </thead>\n",
       "  <tbody>\n",
       "    <tr>\n",
       "      <th>55</th>\n",
       "      <td>205</td>\n",
       "      <td>-0.02454</td>\n",
       "      <td>-0.02172</td>\n",
       "      <td>-0.02031</td>\n",
       "      <td>-0.02233</td>\n",
       "      <td>-0.01931</td>\n",
       "      <td>-0.01872</td>\n",
       "    </tr>\n",
       "    <tr>\n",
       "      <th>56</th>\n",
       "      <td>204</td>\n",
       "      <td>-0.02265</td>\n",
       "      <td>-0.01981</td>\n",
       "      <td>-0.02289</td>\n",
       "      <td>-0.02221</td>\n",
       "      <td>-0.02085</td>\n",
       "      <td>-0.01986</td>\n",
       "    </tr>\n",
       "    <tr>\n",
       "      <th>57</th>\n",
       "      <td>203</td>\n",
       "      <td>-0.02256</td>\n",
       "      <td>-0.01913</td>\n",
       "      <td>-0.02492</td>\n",
       "      <td>-0.02548</td>\n",
       "      <td>-0.01868</td>\n",
       "      <td>-0.02221</td>\n",
       "    </tr>\n",
       "    <tr>\n",
       "      <th>58</th>\n",
       "      <td>202</td>\n",
       "      <td>-0.02118</td>\n",
       "      <td>-0.02115</td>\n",
       "      <td>-0.02197</td>\n",
       "      <td>-0.02395</td>\n",
       "      <td>-0.02055</td>\n",
       "      <td>-0.02537</td>\n",
       "    </tr>\n",
       "    <tr>\n",
       "      <th>59</th>\n",
       "      <td>201</td>\n",
       "      <td>-0.01932</td>\n",
       "      <td>-0.02146</td>\n",
       "      <td>-0.02278</td>\n",
       "      <td>-0.01982</td>\n",
       "      <td>-0.02226</td>\n",
       "      <td>-0.02139</td>\n",
       "    </tr>\n",
       "  </tbody>\n",
       "</table>\n",
       "</div>"
      ],
      "text/plain": [
       "      λ       C0       C1       C2       C3       C4       C5\n",
       "55  205 -0.02454 -0.02172 -0.02031 -0.02233 -0.01931 -0.01872\n",
       "56  204 -0.02265 -0.01981 -0.02289 -0.02221 -0.02085 -0.01986\n",
       "57  203 -0.02256 -0.01913 -0.02492 -0.02548 -0.01868 -0.02221\n",
       "58  202 -0.02118 -0.02115 -0.02197 -0.02395 -0.02055 -0.02537\n",
       "59  201 -0.01932 -0.02146 -0.02278 -0.01982 -0.02226 -0.02139"
      ]
     },
     "execution_count": 2,
     "metadata": {},
     "output_type": "execute_result"
    }
   ],
   "source": [
    "path = dir_path+'/data/'\n",
    "\n",
    "spettriRAW = pd.DataFrame()\n",
    "for i in ['0','1','2','3','4','5']:\n",
    "    c = 'C' + i\n",
    "    data = pd.read_csv(path + c + '.dat',header = None, skiprows=1,sep='\\t')\n",
    "    \n",
    "    spettriRAW['λ'] = data.iloc[:, 0]\n",
    "    spettriRAW[c] = data.iloc[:,1]\n",
    "\n",
    "spettriRAW.tail()"
   ]
  },
  {
   "cell_type": "code",
   "execution_count": 3,
   "id": "5e426f37",
   "metadata": {},
   "outputs": [],
   "source": [
    "N = 162 #numero residui BLG\n",
    "l = 0.5 # lunghezza cammino ottico in cm\n",
    "R = 8.314 # J/(mol * K)\n",
    "T = 300 # K"
   ]
  },
  {
   "cell_type": "code",
   "execution_count": 4,
   "id": "15e0b7a6",
   "metadata": {},
   "outputs": [
    {
     "name": "stdout",
     "output_type": "stream",
     "text": [
      "Concentrazione GuHCl [M]:  [0.         1.52949946 3.09330147 4.66814848 6.13015    7.73593004]\n"
     ]
    }
   ],
   "source": [
    "# import concentrazioni* 1000000 #M\n",
    "\n",
    "concentrazioni = np.array([0,1.529499455,3.093301471,4.668148484,6.130150005,7.735930045])\n",
    "\n",
    "print('Concentrazione GuHCl [M]: ',concentrazioni)"
   ]
  },
  {
   "cell_type": "code",
   "execution_count": 5,
   "id": "8bf8bad9",
   "metadata": {},
   "outputs": [
    {
     "data": {
      "application/vnd.plotly.v1+json": {
       "config": {
        "plotlyServerURL": "https://plot.ly"
       },
       "data": [
        {
         "mode": "lines",
         "name": "0.0",
         "type": "scatter",
         "x": {
          "bdata": "BAEDAQIBAQEAAf8A/gD9APwA+wD6APkA+AD3APYA9QD0APMA8gDxAPAA7wDuAO0A7ADrAOoA6QDoAOcA5gDlAOQA4wDiAOEA4ADfAN4A3QDcANsA2gDZANgA1wDWANUA1ADTANIA0QDQAM8AzgDNAMwAywDKAMkA",
          "dtype": "i2"
         },
         "y": {
          "bdata": "lPYGX5hMlb9R2ht8YTKVv8Iv9fOmIpW/5L1qZcIvlb9VE0TdByCVv/3ZjxSRYZW/4IRCBBxClb9NofMau0SVv3Noke18P5W//dmPFJFhlb+2hHzQs1mVv9cS8kHPZpW/qdkDrcCQlb/xLhfxnZiVv1oSoKaWrZW/oWez6nO1lb9F9dbAVgmWv4gRwqONI5a/Ykok0csolr/x9EpZhjiWv1Fmg0wycpa/Ap8fRgiPlr/YnlkSoKaWv6pla32R0Ja/8bp+wW7Ylr+7D0BqEyeXv8eA7PXuj5e/YtaLoZxol79JgJpattaXvxPVWwNbJZi/Tn/2I0VkmL9jYvNxbaiYvw9iZwqd15i/v5oDBHP0mL/+fcaFAyGZv8wLsI9OXZm/mpmZmZmZmb+qQ26GG/CZv+5fWWlSCpq/7iWN0Tqqmr8p0CfyJOmav2iz6nO1FZu/FLNeDOVEm799lufB3Vmbv8xdS8gHPZu/xOv6Bbthm78Us14M5USbv8Tr+gW7YZu/s0EmGTkLm7/RlnMpriqbv0YldQKaCJu/QuxMofMam79T0O0ljdGav1t8CoDxDJq/9gt2w7ZFmb/+fcaFAyGZv2+BBMWPMZe/mYHK+PcZl7/HLlG9NbCVv3+HokCfyJO/",
          "dtype": "f8"
         }
        },
        {
         "mode": "lines",
         "name": "1.53",
         "type": "scatter",
         "x": {
          "bdata": "BAEDAQIBAQEAAf8A/gD9APwA+wD6APkA+AD3APYA9QD0APMA8gDxAPAA7wDuAO0A7ADrAOoA6QDoAOcA5gDlAOQA4wDiAOEA4ADfAN4A3QDcANsA2gDZANgA1wDWANUA1ADTANIA0QDQAM8AzgDNAMwAywDKAMkA",
          "dtype": "i2"
         },
         "y": {
          "bdata": "9S1zuiwmlr+pnzcVqTCWvxv1EI3uIJa/QbyuX7Ablr8XvOgrSDOWv2aDTDJyFpa/G/UQje4glr9mg0wychaWv89m1edqK5a/G/UQje4glr+u2F92Tx6Wv9Of/UgRGZa/9S1zuiwmlr+E2JlC5zWWv4CfceFASJa/e2ZJgJpalr/Du1zEd2KWvwoRcAhVapa/c/T4vU1/lr9vu9Bcp5GWv7LXuz/eq5a/jBAebRyxlr+lLEMc6+KWv5mByvj3GZe/3J212y40l79enWNA9nqXvwZkr3d/vJe/KPIk6ZrJl7/6uDZUjPOXvxPVWwNbJZi/PZtVn6utmL9fKcsQx7qYv6JFtvP91Ji/JEVkWMUbmb8ofoy5awmZv7PviuB/K5m/hbacS3FVmb/pYP2fw3yZv921hHzQs5m/6SYxCKwcmr8k0csolluavxgmUwWjkpq/1QloImx4mr90XmOXqN6av/ZdEfxvJZu/dF5jl6jemr+ze/KwUGuav56Y9WIoJ5q/GCZTBaOSmr8DQ1a3ek6av+4ljdE6qpq/OWItPgXAmL9vu9Bcp5GWv8vz4O6s3Za/ObTIdr6far/LLa2GxD2Wv2L4iJgSSZS/Zmt9kdCWk79/2T15WKiVv7ZKsDic+ZW/",
          "dtype": "f8"
         }
        },
        {
         "mode": "lines",
         "name": "3.09",
         "type": "scatter",
         "x": {
          "bdata": "BAEDAQIBAQEAAf8A/gD9APwA+wD6APkA+AD3APYA9QD0APMA8gDxAPAA7wDuAO0A7ADrAOoA6QDoAOcA5gDlAOQA4wDiAOEA4ADfAN4A3QDcANsA2gDZANgA1wDWANUA1ADTANIA0QDQAM8AzgDNAMwAywDKAMkA",
          "dtype": "i2"
         },
         "y": {
          "bdata": "6IL6ljldlr/H9IQlHlCWv8f0hCUeUJa/oS3nUlxVlr8Sg8DKoUWWv+27IvjfSpa/yy2thsQ9lr8OSphp+1eWv+27IvjfSpa/e2ZJgJpalr/tuyL430qWvw5KmGn7V5a/e2ZJgJpalr84Sl6dY0CWvxKDwMqhRZa/UWaDTDJylr+d9L7xtWeWvyyf5Xlwd5a/J2a9GMqJlr8Cnx9GCI+Wv0n0Morllpa/9fOmIhXGlr/xun7BbtiWv5mByvj3GZe/d/NUh9wMl79JumbyzTaXv065wrtcxJe/H4DUJk7ul7/tDb4wmSqYv/q4NlSM85e/Z5sb0xOWmL9jYvNxbaiYvz2bVZ+rrZi/eEXwv5XsmL+7YduizAaZvyAMPPceLpm/7ZklAWpqmb/tmSUBamqZv7snDwu1ppm/6SYxCKwcmr8YYB+duvKZvz0nvW987Zm/ke18PzVemr+eXinLEMeav3SYLy/APpq/opdRLLe0mr9rYKsEi8OZv33Qs1n1uZq/v2A3bFuUmb/u68A5I0qbv07RkVz+Q5q/G/UQje4glr/gvg6cM6KUv5hp+1dWmpS/YviImBJJlL+yhSAHJcyUv6orn+V5cJe/MbYQ5KCEmb9z9Pi9TX+Wv/ryAuyjU5e/",
          "dtype": "f8"
         }
        },
        {
         "mode": "lines",
         "name": "4.67",
         "type": "scatter",
         "x": {
          "bdata": "BAEDAQIBAQEAAf8A/gD9APwA+wD6APkA+AD3APYA9QD0APMA8gDxAPAA7wDuAO0A7ADrAOoA6QDoAOcA5gDlAOQA4wDiAOEA4ADfAN4A3QDcANsA2gDZANgA1wDWANUA1ADTANIA0QDQAM8AzgDNAMwAywDKAMkA",
          "dtype": "i2"
         },
         "y": {
          "bdata": "w7tcxHdilr93LSEf9GyWv8O7XMR3Ypa/x/SEJR5Qlr8KEXAIVWqWv8O7XMR3Ypa/Vp+rrdhflr9RZoNMMnKWvwoRcAhVapa/ChFwCFVqlr8KEXAIVWqWv1afq63YX5a/LJ/leXB3lr8G2EenrnyWvyyf5Xlwd5a/BthHp658lr9NLVvri4SWv3P0+L1Nf5a/2J5ZEqCmlr/5LM+Du7OWv/ksz4O7s5a/y/Pg7qzdlr/L8+DurN2Wv2+BBMWPMZe/LGUZ4lgXl7/1udqK/WWXvxMPKJtyhZe/VisTfqmfl79OucK7XMSXv/q4NlSM85e/5ZttbkxPmL+A8Qwa+ieYv/63kh0bgZi/iSmRRC+jmL+zKVd4l4uYv1rwoq8gzZi/yAxUxr/PmL94RfC/leyYvw9iZwqd15i/Un5S7dPxmL/D0ytlGeKYv+EoeXWOAZm/ngyOklfnmL94CyQofoyZv0rSNZNvtpm/Sphp+1dWmr+JtfgUAOOZv69Cyk+qfZq/s7W+SGjLmb8P7s7abReav79gN2xblJm/YJM16iEajb/9wcBz7+GSv28vaYzWUZW/RbsKKT+plr/L8+DurN2Wv66ek943vpa/D+7O2m0Xmr/Y8PRKWYaYv88UOq+xS5S/",
          "dtype": "f8"
         }
        },
        {
         "mode": "lines",
         "name": "6.13",
         "type": "scatter",
         "x": {
          "bdata": "BAEDAQIBAQEAAf8A/gD9APwA+wD6APkA+AD3APYA9QD0APMA8gDxAPAA7wDuAO0A7ADrAOoA6QDoAOcA5gDlAOQA4wDiAOEA4ADfAN4A3QDcANsA2gDZANgA1wDWANUA1ADTANIA0QDQAM8AzgDNAMwAywDKAMkA",
          "dtype": "i2"
         },
         "y": {
          "bdata": "dy0hH/Rslr/kSdI1k2+Wvyyf5Xlwd5a/LJ/leXB3lr/kSdI1k2+WvwoRcAhVapa/5EnSNZNvlr+d9L7xtWeWv+RJ0jWTb5a/v4I0Y9F0lr+d9L7xtWeWv7+CNGPRdJa/4BCq1OyBlr9z9Pi9TX+Wv5m7lpAPepa/ukkMAiuHlr/c14FzRpSWv0n0Morllpa/thDkoISZlr+y17s/3quWvx/0bFZ9rpa/rp6T3je+lr9e1y/YDduWv6HzGrtE9Za/3J212y40l78CZVOu8C6XvxuBeF2/YJe/hGQBE7h1l7/xgLIpV3iXv5lH/mDguZe/Cp3X2CWql79BDkqYafuXv8dGIF7XL5i/7Q2+MJkqmL/DDfj8MEKYv8x/SL99HZi/6dSVz/I8mL/U8ZiByviXv51GWipvR5i/PZtVn6utmL9KRs7CnnaYv8x/SL99HZi/OWItPgXAmL9KDAIrhxaZv/59xoUDIZm/fH4YITzamL/YtiizQSaZv0oMAiuHFpm/Y2LzcW2omL9Hj9/b9GefvxkcJa/OMaC/NlmjHqLRjb+lFHR7SWOUv1Fmg0wycpa/WmQ730+Nl78Sa/EpAMaTv7aEfNCzWZW/N2xblNkgk7/sL7snDwuVv88sCVBTy5a/",
          "dtype": "f8"
         }
        },
        {
         "mode": "lines",
         "name": "7.74",
         "type": "scatter",
         "x": {
          "bdata": "BAEDAQIBAQEAAf8A/gD9APwA+wD6APkA+AD3APYA9QD0APMA8gDxAPAA7wDuAO0A7ADrAOoA6QDoAOcA5gDlAOQA4wDiAOEA4ADfAN4A3QDcANsA2gDZANgA1wDWANUA1ADTANIA0QDQAM8AzgDNAMwAywDKAMkA",
          "dtype": "i2"
         },
         "y": {
          "bdata": "LJ/leXB3lr8w2A3bFmWWvwoRcAhVapa/MNgN2xZllr93LSEf9GyWv+iC+pY5XZa/mbuWkA96lr8sn+V5cHeWv5m7lpAPepa/UWaDTDJylr9z9Pi9TX+Wv1Fmg0wycpa/TS1b64uElr9z9Pi9TX+Wv+AQqtTsgZa/4BCq1OyBlr8jLZW3I5yWvyMtlbcjnJa/Iy2VtyOclr9BguLHmLuWv7LXuz/eq5a/iNf1C3bDlr8TSfQyiuWWv+2BVmDI6pa/I/PIHww8l7+duvJZngeXvyPzyB8MPJe/6Q5iZwqdl7/l1TkGZK+Xvw/W/znMl5e/+rg2VIzzl7+IY13cRgOYv9gqweJw5pe/E9VbA1slmL+/1M+bilSYv0VHcvkP6Ze/Fw6EZAETmL+3nEtxVdmXv51GWipvR5i/Z9Xnaiv2l794f7xXrUyYv/63kh0bgZi/NSkF3V7SmL9nmxvTE5aYvzG2EOSghJm/PWGJB5RNmb+7Jw8LtaaZv5I/GHjuPZy/+grSjEXTmb+WsgxxrIurvx6KAn0iT6K/ZjGx+bg2lL8012mkpfKWv1OWIY51cZu/MEymCkYllb/s3R/vVSuTv4OG/gkuVpS/rp6T3je+lr9ftTLhl/qZv7qD2JlC55W/",
          "dtype": "f8"
         }
        }
       ],
       "layout": {
        "legend": {
         "title": {
          "text": "C denaturante [M]"
         },
         "x": 1,
         "xanchor": "right",
         "y": 0,
         "yanchor": "bottom"
        },
        "template": {
         "data": {
          "bar": [
           {
            "error_x": {
             "color": "#2a3f5f"
            },
            "error_y": {
             "color": "#2a3f5f"
            },
            "marker": {
             "line": {
              "color": "#E5ECF6",
              "width": 0.5
             },
             "pattern": {
              "fillmode": "overlay",
              "size": 10,
              "solidity": 0.2
             }
            },
            "type": "bar"
           }
          ],
          "barpolar": [
           {
            "marker": {
             "line": {
              "color": "#E5ECF6",
              "width": 0.5
             },
             "pattern": {
              "fillmode": "overlay",
              "size": 10,
              "solidity": 0.2
             }
            },
            "type": "barpolar"
           }
          ],
          "carpet": [
           {
            "aaxis": {
             "endlinecolor": "#2a3f5f",
             "gridcolor": "white",
             "linecolor": "white",
             "minorgridcolor": "white",
             "startlinecolor": "#2a3f5f"
            },
            "baxis": {
             "endlinecolor": "#2a3f5f",
             "gridcolor": "white",
             "linecolor": "white",
             "minorgridcolor": "white",
             "startlinecolor": "#2a3f5f"
            },
            "type": "carpet"
           }
          ],
          "choropleth": [
           {
            "colorbar": {
             "outlinewidth": 0,
             "ticks": ""
            },
            "type": "choropleth"
           }
          ],
          "contour": [
           {
            "colorbar": {
             "outlinewidth": 0,
             "ticks": ""
            },
            "colorscale": [
             [
              0,
              "#0d0887"
             ],
             [
              0.1111111111111111,
              "#46039f"
             ],
             [
              0.2222222222222222,
              "#7201a8"
             ],
             [
              0.3333333333333333,
              "#9c179e"
             ],
             [
              0.4444444444444444,
              "#bd3786"
             ],
             [
              0.5555555555555556,
              "#d8576b"
             ],
             [
              0.6666666666666666,
              "#ed7953"
             ],
             [
              0.7777777777777778,
              "#fb9f3a"
             ],
             [
              0.8888888888888888,
              "#fdca26"
             ],
             [
              1,
              "#f0f921"
             ]
            ],
            "type": "contour"
           }
          ],
          "contourcarpet": [
           {
            "colorbar": {
             "outlinewidth": 0,
             "ticks": ""
            },
            "type": "contourcarpet"
           }
          ],
          "heatmap": [
           {
            "colorbar": {
             "outlinewidth": 0,
             "ticks": ""
            },
            "colorscale": [
             [
              0,
              "#0d0887"
             ],
             [
              0.1111111111111111,
              "#46039f"
             ],
             [
              0.2222222222222222,
              "#7201a8"
             ],
             [
              0.3333333333333333,
              "#9c179e"
             ],
             [
              0.4444444444444444,
              "#bd3786"
             ],
             [
              0.5555555555555556,
              "#d8576b"
             ],
             [
              0.6666666666666666,
              "#ed7953"
             ],
             [
              0.7777777777777778,
              "#fb9f3a"
             ],
             [
              0.8888888888888888,
              "#fdca26"
             ],
             [
              1,
              "#f0f921"
             ]
            ],
            "type": "heatmap"
           }
          ],
          "histogram": [
           {
            "marker": {
             "pattern": {
              "fillmode": "overlay",
              "size": 10,
              "solidity": 0.2
             }
            },
            "type": "histogram"
           }
          ],
          "histogram2d": [
           {
            "colorbar": {
             "outlinewidth": 0,
             "ticks": ""
            },
            "colorscale": [
             [
              0,
              "#0d0887"
             ],
             [
              0.1111111111111111,
              "#46039f"
             ],
             [
              0.2222222222222222,
              "#7201a8"
             ],
             [
              0.3333333333333333,
              "#9c179e"
             ],
             [
              0.4444444444444444,
              "#bd3786"
             ],
             [
              0.5555555555555556,
              "#d8576b"
             ],
             [
              0.6666666666666666,
              "#ed7953"
             ],
             [
              0.7777777777777778,
              "#fb9f3a"
             ],
             [
              0.8888888888888888,
              "#fdca26"
             ],
             [
              1,
              "#f0f921"
             ]
            ],
            "type": "histogram2d"
           }
          ],
          "histogram2dcontour": [
           {
            "colorbar": {
             "outlinewidth": 0,
             "ticks": ""
            },
            "colorscale": [
             [
              0,
              "#0d0887"
             ],
             [
              0.1111111111111111,
              "#46039f"
             ],
             [
              0.2222222222222222,
              "#7201a8"
             ],
             [
              0.3333333333333333,
              "#9c179e"
             ],
             [
              0.4444444444444444,
              "#bd3786"
             ],
             [
              0.5555555555555556,
              "#d8576b"
             ],
             [
              0.6666666666666666,
              "#ed7953"
             ],
             [
              0.7777777777777778,
              "#fb9f3a"
             ],
             [
              0.8888888888888888,
              "#fdca26"
             ],
             [
              1,
              "#f0f921"
             ]
            ],
            "type": "histogram2dcontour"
           }
          ],
          "mesh3d": [
           {
            "colorbar": {
             "outlinewidth": 0,
             "ticks": ""
            },
            "type": "mesh3d"
           }
          ],
          "parcoords": [
           {
            "line": {
             "colorbar": {
              "outlinewidth": 0,
              "ticks": ""
             }
            },
            "type": "parcoords"
           }
          ],
          "pie": [
           {
            "automargin": true,
            "type": "pie"
           }
          ],
          "scatter": [
           {
            "fillpattern": {
             "fillmode": "overlay",
             "size": 10,
             "solidity": 0.2
            },
            "type": "scatter"
           }
          ],
          "scatter3d": [
           {
            "line": {
             "colorbar": {
              "outlinewidth": 0,
              "ticks": ""
             }
            },
            "marker": {
             "colorbar": {
              "outlinewidth": 0,
              "ticks": ""
             }
            },
            "type": "scatter3d"
           }
          ],
          "scattercarpet": [
           {
            "marker": {
             "colorbar": {
              "outlinewidth": 0,
              "ticks": ""
             }
            },
            "type": "scattercarpet"
           }
          ],
          "scattergeo": [
           {
            "marker": {
             "colorbar": {
              "outlinewidth": 0,
              "ticks": ""
             }
            },
            "type": "scattergeo"
           }
          ],
          "scattergl": [
           {
            "marker": {
             "colorbar": {
              "outlinewidth": 0,
              "ticks": ""
             }
            },
            "type": "scattergl"
           }
          ],
          "scattermap": [
           {
            "marker": {
             "colorbar": {
              "outlinewidth": 0,
              "ticks": ""
             }
            },
            "type": "scattermap"
           }
          ],
          "scattermapbox": [
           {
            "marker": {
             "colorbar": {
              "outlinewidth": 0,
              "ticks": ""
             }
            },
            "type": "scattermapbox"
           }
          ],
          "scatterpolar": [
           {
            "marker": {
             "colorbar": {
              "outlinewidth": 0,
              "ticks": ""
             }
            },
            "type": "scatterpolar"
           }
          ],
          "scatterpolargl": [
           {
            "marker": {
             "colorbar": {
              "outlinewidth": 0,
              "ticks": ""
             }
            },
            "type": "scatterpolargl"
           }
          ],
          "scatterternary": [
           {
            "marker": {
             "colorbar": {
              "outlinewidth": 0,
              "ticks": ""
             }
            },
            "type": "scatterternary"
           }
          ],
          "surface": [
           {
            "colorbar": {
             "outlinewidth": 0,
             "ticks": ""
            },
            "colorscale": [
             [
              0,
              "#0d0887"
             ],
             [
              0.1111111111111111,
              "#46039f"
             ],
             [
              0.2222222222222222,
              "#7201a8"
             ],
             [
              0.3333333333333333,
              "#9c179e"
             ],
             [
              0.4444444444444444,
              "#bd3786"
             ],
             [
              0.5555555555555556,
              "#d8576b"
             ],
             [
              0.6666666666666666,
              "#ed7953"
             ],
             [
              0.7777777777777778,
              "#fb9f3a"
             ],
             [
              0.8888888888888888,
              "#fdca26"
             ],
             [
              1,
              "#f0f921"
             ]
            ],
            "type": "surface"
           }
          ],
          "table": [
           {
            "cells": {
             "fill": {
              "color": "#EBF0F8"
             },
             "line": {
              "color": "white"
             }
            },
            "header": {
             "fill": {
              "color": "#C8D4E3"
             },
             "line": {
              "color": "white"
             }
            },
            "type": "table"
           }
          ]
         },
         "layout": {
          "annotationdefaults": {
           "arrowcolor": "#2a3f5f",
           "arrowhead": 0,
           "arrowwidth": 1
          },
          "autotypenumbers": "strict",
          "coloraxis": {
           "colorbar": {
            "outlinewidth": 0,
            "ticks": ""
           }
          },
          "colorscale": {
           "diverging": [
            [
             0,
             "#8e0152"
            ],
            [
             0.1,
             "#c51b7d"
            ],
            [
             0.2,
             "#de77ae"
            ],
            [
             0.3,
             "#f1b6da"
            ],
            [
             0.4,
             "#fde0ef"
            ],
            [
             0.5,
             "#f7f7f7"
            ],
            [
             0.6,
             "#e6f5d0"
            ],
            [
             0.7,
             "#b8e186"
            ],
            [
             0.8,
             "#7fbc41"
            ],
            [
             0.9,
             "#4d9221"
            ],
            [
             1,
             "#276419"
            ]
           ],
           "sequential": [
            [
             0,
             "#0d0887"
            ],
            [
             0.1111111111111111,
             "#46039f"
            ],
            [
             0.2222222222222222,
             "#7201a8"
            ],
            [
             0.3333333333333333,
             "#9c179e"
            ],
            [
             0.4444444444444444,
             "#bd3786"
            ],
            [
             0.5555555555555556,
             "#d8576b"
            ],
            [
             0.6666666666666666,
             "#ed7953"
            ],
            [
             0.7777777777777778,
             "#fb9f3a"
            ],
            [
             0.8888888888888888,
             "#fdca26"
            ],
            [
             1,
             "#f0f921"
            ]
           ],
           "sequentialminus": [
            [
             0,
             "#0d0887"
            ],
            [
             0.1111111111111111,
             "#46039f"
            ],
            [
             0.2222222222222222,
             "#7201a8"
            ],
            [
             0.3333333333333333,
             "#9c179e"
            ],
            [
             0.4444444444444444,
             "#bd3786"
            ],
            [
             0.5555555555555556,
             "#d8576b"
            ],
            [
             0.6666666666666666,
             "#ed7953"
            ],
            [
             0.7777777777777778,
             "#fb9f3a"
            ],
            [
             0.8888888888888888,
             "#fdca26"
            ],
            [
             1,
             "#f0f921"
            ]
           ]
          },
          "colorway": [
           "#636efa",
           "#EF553B",
           "#00cc96",
           "#ab63fa",
           "#FFA15A",
           "#19d3f3",
           "#FF6692",
           "#B6E880",
           "#FF97FF",
           "#FECB52"
          ],
          "font": {
           "color": "#2a3f5f"
          },
          "geo": {
           "bgcolor": "white",
           "lakecolor": "white",
           "landcolor": "#E5ECF6",
           "showlakes": true,
           "showland": true,
           "subunitcolor": "white"
          },
          "hoverlabel": {
           "align": "left"
          },
          "hovermode": "closest",
          "mapbox": {
           "style": "light"
          },
          "paper_bgcolor": "white",
          "plot_bgcolor": "#E5ECF6",
          "polar": {
           "angularaxis": {
            "gridcolor": "white",
            "linecolor": "white",
            "ticks": ""
           },
           "bgcolor": "#E5ECF6",
           "radialaxis": {
            "gridcolor": "white",
            "linecolor": "white",
            "ticks": ""
           }
          },
          "scene": {
           "xaxis": {
            "backgroundcolor": "#E5ECF6",
            "gridcolor": "white",
            "gridwidth": 2,
            "linecolor": "white",
            "showbackground": true,
            "ticks": "",
            "zerolinecolor": "white"
           },
           "yaxis": {
            "backgroundcolor": "#E5ECF6",
            "gridcolor": "white",
            "gridwidth": 2,
            "linecolor": "white",
            "showbackground": true,
            "ticks": "",
            "zerolinecolor": "white"
           },
           "zaxis": {
            "backgroundcolor": "#E5ECF6",
            "gridcolor": "white",
            "gridwidth": 2,
            "linecolor": "white",
            "showbackground": true,
            "ticks": "",
            "zerolinecolor": "white"
           }
          },
          "shapedefaults": {
           "line": {
            "color": "#2a3f5f"
           }
          },
          "ternary": {
           "aaxis": {
            "gridcolor": "white",
            "linecolor": "white",
            "ticks": ""
           },
           "baxis": {
            "gridcolor": "white",
            "linecolor": "white",
            "ticks": ""
           },
           "bgcolor": "#E5ECF6",
           "caxis": {
            "gridcolor": "white",
            "linecolor": "white",
            "ticks": ""
           }
          },
          "title": {
           "x": 0.05
          },
          "xaxis": {
           "automargin": true,
           "gridcolor": "white",
           "linecolor": "white",
           "ticks": "",
           "title": {
            "standoff": 15
           },
           "zerolinecolor": "white",
           "zerolinewidth": 2
          },
          "yaxis": {
           "automargin": true,
           "gridcolor": "white",
           "linecolor": "white",
           "ticks": "",
           "title": {
            "standoff": 15
           },
           "zerolinecolor": "white",
           "zerolinewidth": 2
          }
         }
        },
        "xaxis": {
         "title": {
          "text": "λ [nm]"
         }
        },
        "yaxis": {
         "range": [
          -0.037,
          -0.013
         ],
         "title": {
          "text": "θ [deg]"
         }
        }
       }
      }
     },
     "metadata": {},
     "output_type": "display_data"
    }
   ],
   "source": [
    "import plotly.graph_objects as go\n",
    "\n",
    "fig = go.Figure()\n",
    "for conc,c in zip(['C0', 'C1', 'C2', 'C3', 'C4', 'C5'],concentrazioni):\n",
    "    fig.add_trace(go.Scatter(\n",
    "        x=spettriRAW['λ'],\n",
    "        y=spettriRAW[conc],\n",
    "        mode='lines',\n",
    "        name=np.round(c,2)\n",
    "    ))\n",
    "\n",
    "fig.update_layout(\n",
    "    xaxis_title='λ [nm]',\n",
    "    yaxis_title='θ [deg]',\n",
    "    # title='Dati raccolti',\n",
    "    legend_title='C denaturante [M]',\n",
    "    legend=dict(\n",
    "        x=1,\n",
    "        y=0,\n",
    "        xanchor='right',\n",
    "        yanchor='bottom',\n",
    "        # font=dict(size=10),  # Make legend font smaller\n",
    "    ),\n",
    "    yaxis=dict(range=[-0.037, -0.013])\n",
    ")\n",
    "\n",
    "fig.write_image('./images/spettro_raccolto.png')\n",
    "fig.write_html('./html/spettro_raccolto.html')\n",
    "fig.show()"
   ]
  },
  {
   "cell_type": "markdown",
   "id": "470682bd",
   "metadata": {},
   "source": [
    "### APPAIO LE CODE"
   ]
  },
  {
   "cell_type": "code",
   "execution_count": 6,
   "id": "f022f538",
   "metadata": {},
   "outputs": [
    {
     "data": {
      "application/vnd.plotly.v1+json": {
       "config": {
        "plotlyServerURL": "https://plot.ly"
       },
       "data": [
        {
         "mode": "lines",
         "name": "0.0",
         "type": "scatter",
         "x": {
          "bdata": "BAEDAQIBAQEAAf8A/gD9APwA+wD6APkA+AD3APYA9QD0APMA8gDxAPAA7wDuAO0A7ADrAOoA6QDoAOcA5gDlAOQA4wDiAOEA4ADfAN4A3QDcANsA2gDZANgA1wDWANUA1ADTANIA0QDQAM8AzgDNAMwAywDKAMkA",
          "dtype": "i2"
         },
         "y": {
          "bdata": "mILfWJlLmr+Ab15NPCuavw1kd0bRF5q/mO03zP8nmr8j4lDFlBSav92RE2J9ZZq/9XpFVKc+mr/d/GvV40Gavw35HtNqO5q/3ZETYn1lmr8jDKDex1uav66VYGT2a5q/ObTIdr6fmr/zOTz6c6mavzlJcANYw5q/887jhg3Nmr8JDLSrnTSbvyAfNbf6VJu/8iKCuXNbm79lLmnA3m6bv2RYuNkRtpu/Ze1fZqvZm7+Tfrrwy/abvx6dIgOUKpy/1yKWhkk0nL8cXBmpYJWcv3eoHdfUFp2/1QvcRUnmnL8CXC12Nm6dv0eVsJhNz52/GMNMtPkcnr+59DXSHnGevxYX6+Zfq56/FaySc/nOnr+ITCEH/gWfv3D4lqFtUJ+/WKQMPN2an7+rsQHx1AKgvzc7wnYDE6C/cLXY2bh1oL9YzKbnjpygv5IcbjERuKC/wa3IuzHVoL9ktWLAI+Kgv+PqDvpW0KC/QHgcgv7moL/Brci7MdWgv0B4HIL+5qC/wRghL5ixoL81JAg2A8Wgv83Xje75r6C/e56Usk27oL/Cg3mi/o2gvyt8VbehFKC/Qmc8F00zn7+ITCEH/gWfv79js61Sopy/kdJYIzKFnL8hy5aElMaavxFonK6ebJi/",
          "dtype": "f8"
         }
        },
        {
         "mode": "lines",
         "name": "1.53",
         "type": "scatter",
         "x": {
          "bdata": "BAEDAQIBAQEAAf8A/gD9APwA+wD6APkA+AD3APYA9QD0APMA8gDxAPAA7wDuAO0A7ADrAOoA6QDoAOcA5gDlAOQA4wDiAOEA4ADfAN4A3QDcANsA2gDZANgA1wDWANUA1ADTANIA0QDQAM8AzgDNAMwAywDKAMkA",
          "dtype": "i2"
         },
         "y": {
          "bdata": "ESYfPM3gkb/vSPH3Q+mRv6MUNt6R3JG/NQNNgFbYkb+o0eWmYeuRv8XxYyIb1JG/oxQ23pHckb/F8WMiG9SRv4E3CJoI5ZG/oxQ23pHckb/si0EvdNqRv3x6WNE41pG/ESYfPM3gkb9fWtpVf+2Rv2MXih5P/JG/Z9Q55x4Lkr+Nbhf0dxGSv7QI9QDRF5K/cE6ZeL4okr90C0lBjjeSv55i1ha3TJK/DXS/dPJQkr+rmeVwJnmSv7jQ9MqVpZK/4ieCoL66kr87k0wU4POSvybtLSrGKJO/u5j0lFozk78yJD2ENVWTv9BJY4BpfZO/FA8PCnHrk7+putV0BfaTv9QRY0ouC5S/LX0tvk9ElL8owH31fzWUv3qx6NcBUZS/8jwxx9xylL+xP4UHmpKUv752lGEJv5S/Z9PJt6wTlb+apLYedUaVv6jbxXjkcpW/fYQ4o7tdlb9wWHlKQbCVv8nDQ75i6ZW/cFh5SkGwlb/o2HE4J1OVv0X2m3MjHJW/qNvFeORylb8F+e+z4DuVvxuqXp/vhZW/Gcy+0kD6k790C0lBjjeSvzyI/BLrdJK/PYeM43h9Zb+F9Ldi2PORv6XzRdqyX5C/00WjwqCfj7+rg0VuPHuRv+MR4p3UvJG/",
          "dtype": "f8"
         }
        },
        {
         "mode": "lines",
         "name": "3.09",
         "type": "scatter",
         "x": {
          "bdata": "BAEDAQIBAQEAAf8A/gD9APwA+wD6APkA+AD3APYA9QD0APMA8gDxAPAA7wDuAO0A7ADrAOoA6QDoAOcA5gDlAOQA4wDiAOEA4ADfAN4A3QDcANsA2gDZANgA1wDWANUA1ADTANIA0QDQAM8AzgDNAMwAywDKAMkA",
          "dtype": "i2"
         },
         "y": {
          "bdata": "d763iP3Zgb+Kg8Mmh8+Bv4qDwyaHz4G/tjQlgbbTgb8yIQByKMeBv17SYcxXy4G/cZdtauHAgb9LDVYuztWBv17SYcxXy4G/4eWG2+XXgb9e0mHMV8uBv0sNVi7O1YG/4eWG2+XXgb8HcJ4X+cKBvzIhAHIox4G/JYM+8rrqgb/PIHs9XOKBv1I0oEzq7oG/aiD2CJD9gb+X0VdjvwGCv1hb6moGCIK/4ZVZmLAtgr/6ga9UVjyCv52odD6mcIK/r22A3C9mgr8N942vqoeCv6qm2zep+IK/BzDpCiQag79+pUyaREqDvzPhSmVTHoO/flUfVw+gg7+XQXUTta6Dv8Py1m3ksoO/0EBrqhzlg7+qtlNuCfqDv3JnMJRsGYS/6NyTI41JhL/o3JMjjUmEv19S97KteYS/tmSNJNfXhL9a239RXLaEvy0qHvcssoS/WYtSDicMhb/DYvQd2l+Fv1NkCPAK84S/q3aeYTRRhb/QoBAkspCEv9cnALxjVYW/Rmah9gdrhL8IsH7xeciFv38Vako694S/AUlU+dypgb+Kw3gzXHiAv8g55isVcoC/o//7MjcxgL/nTIYG15mAv++TwJGztYK/w1J853lehL8UvjJUMfWBv35FpyCvnoK/",
          "dtype": "f8"
         }
        },
        {
         "mode": "lines",
         "name": "4.67",
         "type": "scatter",
         "x": {
          "bdata": "BAEDAQIBAQEAAf8A/gD9APwA+wD6APkA+AD3APYA9QD0APMA8gDxAPAA7wDuAO0A7ADrAOoA6QDoAOcA5gDlAOQA4wDiAOEA4ADfAN4A3QDcANsA2gDZANgA1wDWANUA1ADTANIA0QDQAM8AzgDNAMwAywDKAMkA",
          "dtype": "i2"
         },
         "y": {
          "bdata": "c1Ns7g+ud7/D8NGdJ7l3v3NTbO4Prne/JoB6e6aad79vifixYbZ3v3NTbO4Prne/H+ySAkqrd79qv4R1s753v2+J+LFhtne/b4n4sWG2d79vifixYbZ3vx/skgJKq3e/E443TT/Ed7+8XOoky8l3vxOON00/xHe/vFzqJMvJd7+3knboHNJ3vw/EwxCRzHe//NGA4in2d7+g1r99BwR4v6DWv30HBHi/4EtWO2YweL/gS1Y7ZjB4v2E2g7YjiXi/GC0FgGhteL/wSH8jmsB4v+IgsDHh4Xi/KSouaJz9eL/C0BFObyR5v6oUW+NZVnm/JzUUImm3eb86J1dQ0I15v2LgNqMZ7Hm/qB9BnSYQer+0fZxSMfd5v+eU11qFPHq/PPywRks/er/YbAhpzF16vzgyPQqdR3q/gDu7QFhjer+Hz6K5tFJ6v3mn08f7c3q/MJ5VkUBYer/dC9ab9QZ7vx6BbFlUM3u/IyA6jH3ce7+yXdwCeWJ7vw8u910WBny/vrs3uINJe79CcNhv75l7v9hBYl9HD3u/wBqFSzzJbr81SfzZpvlzv1JZGh6ojXa/UDlazu/4d7/gS1Y7ZjB4v/BzJS0fD3i/QnDYb++Ze78Lr+l6pfF5v3/8Lf1XeHW/",
          "dtype": "f8"
         }
        },
        {
         "mode": "lines",
         "name": "6.13",
         "type": "scatter",
         "x": {
          "bdata": "BAEDAQIBAQEAAf8A/gD9APwA+wD6APkA+AD3APYA9QD0APMA8gDxAPAA7wDuAO0A7ADrAOoA6QDoAOcA5gDlAOQA4wDiAOEA4ADfAN4A3QDcANsA2gDZANgA1wDWANUA1ADTANIA0QDQAM8AzgDNAMwAywDKAMkA",
          "dtype": "i2"
         },
         "y": {
          "bdata": "2VwtCb8Qcr99djyl2xJyv2vDaXkxGXK/a8NpeTEZcr99djyl2xJyvzVDHm2iDnK/fXY8pdsScr+RKQ/RhQxyv312PKXbEnK/x6la3RQXcr+RKQ/RhQxyv8epWt0UF3K//Smm6aMhcr9YEJdNhx9yvxDdeBVOG3K/RV3EId0lcr983Q8ubDByvyD3HsqIMnK/xBAuZqU0cr9ExJeqbUNyv+jdpkaKRXK/w3cB7zVScr/UkaejcGlyv0GSPryOfnK/rPmoXT2xcr9jxoolBK1yv5etqboj1XK/u3oimwjmcr9flDE3Jehyv28Vq3TwHHO/lHtQzEQQc79+liSyu1Fzv1aXUuP3e3O/DmQ0q753c7/WSrwnwIpzv9jj6J4vbXO/jRee74aGc7/afBUWn09zvx9+2l/5jnO/LWYnJlXhc7+wS+pY/LRzv9jj6J4vbXO/rRmRah3wc7/fZ4OIzTV0v3DOv/g/PnS/GRoogzsFdL+6Ad4weUJ0v99ng4jNNXS/5DIJ7hvdc786NeiowUx5v+bSkS58F3q/qK7DK28FaL8DbnC5gWxwvyGQS0H4FHK/g2GqFwr5cr/v1sxLmttvv2XY+wYDM3G//jdefIXRbr8f1za9qPNwv/n3TPvEXHK/",
          "dtype": "f8"
         }
        },
        {
         "mode": "lines",
         "name": "7.74",
         "type": "scatter",
         "x": {
          "bdata": "BAEDAQIBAQEAAf8A/gD9APwA+wD6APkA+AD3APYA9QD0APMA8gDxAPAA7wDuAO0A7ADrAOoA6QDoAOcA5gDlAOQA4wDiAOEA4ADfAN4A3QDcANsA2gDZANgA1wDWANUA1ADTANIA0QDQAM8AzgDNAMwAywDKAMkA",
          "dtype": "i2"
         },
         "y": {
          "bdata": "4pmxT+yubL+Mo1LPfpdsv+7ptmEwnmy/jKNSz36XbL8eDekqiaFsv/c5vHN0jWy/FL3jGEWybL/imbFP7K5svxS94xhFsmy/f1NNvTqobL92A0ir9rhsv39TTb06qGy/10msPai/bL92A0ir9rhsv6YmenRPvGy/piZ6dE+8bL+Phm9Qx91sv4+Gb1DH3Wy/j4ZvUMfdbL/dLMm+8AVtv7ZZnAfc8Wy/b5ZfGvsPbb/tX+tRfTttv06mT+QuQm2/POlhQe+pbb9pKXeJ/2ZtvzzpYUHvqW2/Uv+gVcQlbr+p9f/VMT1uv/G4PMMSH26/oogXRTaUbr/HW0T8Sqhuv67YHFd6g26/RiXQM83Tbr+3nlZZCxBvv977TiDThm6/7i5xs1+8br+5KCJpvnJuv8LuW2tP/26/06tJDo+Xbr8lNcD9AAZvv/f0qrXwSG+/5ze9ErGwb79/Djz/tmNvv3VIB0IjSnC/89Z4Af8mcL8zLc1d5F9wv+mQE8lDB3K/VFj3C1d8cL9n5GoQeZWBvy/KLTodYHe/yFubaJ/Oab/hD+Y/OUxtv3M0cCK9hHG/NN5t7S7/ar9DVqE+P3lovxQC9dbI9mm/DlD7h0kJbb9DYO/wcJVwv1sK7BXZ9mu/",
          "dtype": "f8"
         }
        }
       ],
       "layout": {
        "legend": {
         "title": {
          "text": "C denaturante [M]"
         },
         "x": 1,
         "xanchor": "right",
         "y": 0,
         "yanchor": "bottom"
        },
        "template": {
         "data": {
          "bar": [
           {
            "error_x": {
             "color": "#2a3f5f"
            },
            "error_y": {
             "color": "#2a3f5f"
            },
            "marker": {
             "line": {
              "color": "#E5ECF6",
              "width": 0.5
             },
             "pattern": {
              "fillmode": "overlay",
              "size": 10,
              "solidity": 0.2
             }
            },
            "type": "bar"
           }
          ],
          "barpolar": [
           {
            "marker": {
             "line": {
              "color": "#E5ECF6",
              "width": 0.5
             },
             "pattern": {
              "fillmode": "overlay",
              "size": 10,
              "solidity": 0.2
             }
            },
            "type": "barpolar"
           }
          ],
          "carpet": [
           {
            "aaxis": {
             "endlinecolor": "#2a3f5f",
             "gridcolor": "white",
             "linecolor": "white",
             "minorgridcolor": "white",
             "startlinecolor": "#2a3f5f"
            },
            "baxis": {
             "endlinecolor": "#2a3f5f",
             "gridcolor": "white",
             "linecolor": "white",
             "minorgridcolor": "white",
             "startlinecolor": "#2a3f5f"
            },
            "type": "carpet"
           }
          ],
          "choropleth": [
           {
            "colorbar": {
             "outlinewidth": 0,
             "ticks": ""
            },
            "type": "choropleth"
           }
          ],
          "contour": [
           {
            "colorbar": {
             "outlinewidth": 0,
             "ticks": ""
            },
            "colorscale": [
             [
              0,
              "#0d0887"
             ],
             [
              0.1111111111111111,
              "#46039f"
             ],
             [
              0.2222222222222222,
              "#7201a8"
             ],
             [
              0.3333333333333333,
              "#9c179e"
             ],
             [
              0.4444444444444444,
              "#bd3786"
             ],
             [
              0.5555555555555556,
              "#d8576b"
             ],
             [
              0.6666666666666666,
              "#ed7953"
             ],
             [
              0.7777777777777778,
              "#fb9f3a"
             ],
             [
              0.8888888888888888,
              "#fdca26"
             ],
             [
              1,
              "#f0f921"
             ]
            ],
            "type": "contour"
           }
          ],
          "contourcarpet": [
           {
            "colorbar": {
             "outlinewidth": 0,
             "ticks": ""
            },
            "type": "contourcarpet"
           }
          ],
          "heatmap": [
           {
            "colorbar": {
             "outlinewidth": 0,
             "ticks": ""
            },
            "colorscale": [
             [
              0,
              "#0d0887"
             ],
             [
              0.1111111111111111,
              "#46039f"
             ],
             [
              0.2222222222222222,
              "#7201a8"
             ],
             [
              0.3333333333333333,
              "#9c179e"
             ],
             [
              0.4444444444444444,
              "#bd3786"
             ],
             [
              0.5555555555555556,
              "#d8576b"
             ],
             [
              0.6666666666666666,
              "#ed7953"
             ],
             [
              0.7777777777777778,
              "#fb9f3a"
             ],
             [
              0.8888888888888888,
              "#fdca26"
             ],
             [
              1,
              "#f0f921"
             ]
            ],
            "type": "heatmap"
           }
          ],
          "histogram": [
           {
            "marker": {
             "pattern": {
              "fillmode": "overlay",
              "size": 10,
              "solidity": 0.2
             }
            },
            "type": "histogram"
           }
          ],
          "histogram2d": [
           {
            "colorbar": {
             "outlinewidth": 0,
             "ticks": ""
            },
            "colorscale": [
             [
              0,
              "#0d0887"
             ],
             [
              0.1111111111111111,
              "#46039f"
             ],
             [
              0.2222222222222222,
              "#7201a8"
             ],
             [
              0.3333333333333333,
              "#9c179e"
             ],
             [
              0.4444444444444444,
              "#bd3786"
             ],
             [
              0.5555555555555556,
              "#d8576b"
             ],
             [
              0.6666666666666666,
              "#ed7953"
             ],
             [
              0.7777777777777778,
              "#fb9f3a"
             ],
             [
              0.8888888888888888,
              "#fdca26"
             ],
             [
              1,
              "#f0f921"
             ]
            ],
            "type": "histogram2d"
           }
          ],
          "histogram2dcontour": [
           {
            "colorbar": {
             "outlinewidth": 0,
             "ticks": ""
            },
            "colorscale": [
             [
              0,
              "#0d0887"
             ],
             [
              0.1111111111111111,
              "#46039f"
             ],
             [
              0.2222222222222222,
              "#7201a8"
             ],
             [
              0.3333333333333333,
              "#9c179e"
             ],
             [
              0.4444444444444444,
              "#bd3786"
             ],
             [
              0.5555555555555556,
              "#d8576b"
             ],
             [
              0.6666666666666666,
              "#ed7953"
             ],
             [
              0.7777777777777778,
              "#fb9f3a"
             ],
             [
              0.8888888888888888,
              "#fdca26"
             ],
             [
              1,
              "#f0f921"
             ]
            ],
            "type": "histogram2dcontour"
           }
          ],
          "mesh3d": [
           {
            "colorbar": {
             "outlinewidth": 0,
             "ticks": ""
            },
            "type": "mesh3d"
           }
          ],
          "parcoords": [
           {
            "line": {
             "colorbar": {
              "outlinewidth": 0,
              "ticks": ""
             }
            },
            "type": "parcoords"
           }
          ],
          "pie": [
           {
            "automargin": true,
            "type": "pie"
           }
          ],
          "scatter": [
           {
            "fillpattern": {
             "fillmode": "overlay",
             "size": 10,
             "solidity": 0.2
            },
            "type": "scatter"
           }
          ],
          "scatter3d": [
           {
            "line": {
             "colorbar": {
              "outlinewidth": 0,
              "ticks": ""
             }
            },
            "marker": {
             "colorbar": {
              "outlinewidth": 0,
              "ticks": ""
             }
            },
            "type": "scatter3d"
           }
          ],
          "scattercarpet": [
           {
            "marker": {
             "colorbar": {
              "outlinewidth": 0,
              "ticks": ""
             }
            },
            "type": "scattercarpet"
           }
          ],
          "scattergeo": [
           {
            "marker": {
             "colorbar": {
              "outlinewidth": 0,
              "ticks": ""
             }
            },
            "type": "scattergeo"
           }
          ],
          "scattergl": [
           {
            "marker": {
             "colorbar": {
              "outlinewidth": 0,
              "ticks": ""
             }
            },
            "type": "scattergl"
           }
          ],
          "scattermap": [
           {
            "marker": {
             "colorbar": {
              "outlinewidth": 0,
              "ticks": ""
             }
            },
            "type": "scattermap"
           }
          ],
          "scattermapbox": [
           {
            "marker": {
             "colorbar": {
              "outlinewidth": 0,
              "ticks": ""
             }
            },
            "type": "scattermapbox"
           }
          ],
          "scatterpolar": [
           {
            "marker": {
             "colorbar": {
              "outlinewidth": 0,
              "ticks": ""
             }
            },
            "type": "scatterpolar"
           }
          ],
          "scatterpolargl": [
           {
            "marker": {
             "colorbar": {
              "outlinewidth": 0,
              "ticks": ""
             }
            },
            "type": "scatterpolargl"
           }
          ],
          "scatterternary": [
           {
            "marker": {
             "colorbar": {
              "outlinewidth": 0,
              "ticks": ""
             }
            },
            "type": "scatterternary"
           }
          ],
          "surface": [
           {
            "colorbar": {
             "outlinewidth": 0,
             "ticks": ""
            },
            "colorscale": [
             [
              0,
              "#0d0887"
             ],
             [
              0.1111111111111111,
              "#46039f"
             ],
             [
              0.2222222222222222,
              "#7201a8"
             ],
             [
              0.3333333333333333,
              "#9c179e"
             ],
             [
              0.4444444444444444,
              "#bd3786"
             ],
             [
              0.5555555555555556,
              "#d8576b"
             ],
             [
              0.6666666666666666,
              "#ed7953"
             ],
             [
              0.7777777777777778,
              "#fb9f3a"
             ],
             [
              0.8888888888888888,
              "#fdca26"
             ],
             [
              1,
              "#f0f921"
             ]
            ],
            "type": "surface"
           }
          ],
          "table": [
           {
            "cells": {
             "fill": {
              "color": "#EBF0F8"
             },
             "line": {
              "color": "white"
             }
            },
            "header": {
             "fill": {
              "color": "#C8D4E3"
             },
             "line": {
              "color": "white"
             }
            },
            "type": "table"
           }
          ]
         },
         "layout": {
          "annotationdefaults": {
           "arrowcolor": "#2a3f5f",
           "arrowhead": 0,
           "arrowwidth": 1
          },
          "autotypenumbers": "strict",
          "coloraxis": {
           "colorbar": {
            "outlinewidth": 0,
            "ticks": ""
           }
          },
          "colorscale": {
           "diverging": [
            [
             0,
             "#8e0152"
            ],
            [
             0.1,
             "#c51b7d"
            ],
            [
             0.2,
             "#de77ae"
            ],
            [
             0.3,
             "#f1b6da"
            ],
            [
             0.4,
             "#fde0ef"
            ],
            [
             0.5,
             "#f7f7f7"
            ],
            [
             0.6,
             "#e6f5d0"
            ],
            [
             0.7,
             "#b8e186"
            ],
            [
             0.8,
             "#7fbc41"
            ],
            [
             0.9,
             "#4d9221"
            ],
            [
             1,
             "#276419"
            ]
           ],
           "sequential": [
            [
             0,
             "#0d0887"
            ],
            [
             0.1111111111111111,
             "#46039f"
            ],
            [
             0.2222222222222222,
             "#7201a8"
            ],
            [
             0.3333333333333333,
             "#9c179e"
            ],
            [
             0.4444444444444444,
             "#bd3786"
            ],
            [
             0.5555555555555556,
             "#d8576b"
            ],
            [
             0.6666666666666666,
             "#ed7953"
            ],
            [
             0.7777777777777778,
             "#fb9f3a"
            ],
            [
             0.8888888888888888,
             "#fdca26"
            ],
            [
             1,
             "#f0f921"
            ]
           ],
           "sequentialminus": [
            [
             0,
             "#0d0887"
            ],
            [
             0.1111111111111111,
             "#46039f"
            ],
            [
             0.2222222222222222,
             "#7201a8"
            ],
            [
             0.3333333333333333,
             "#9c179e"
            ],
            [
             0.4444444444444444,
             "#bd3786"
            ],
            [
             0.5555555555555556,
             "#d8576b"
            ],
            [
             0.6666666666666666,
             "#ed7953"
            ],
            [
             0.7777777777777778,
             "#fb9f3a"
            ],
            [
             0.8888888888888888,
             "#fdca26"
            ],
            [
             1,
             "#f0f921"
            ]
           ]
          },
          "colorway": [
           "#636efa",
           "#EF553B",
           "#00cc96",
           "#ab63fa",
           "#FFA15A",
           "#19d3f3",
           "#FF6692",
           "#B6E880",
           "#FF97FF",
           "#FECB52"
          ],
          "font": {
           "color": "#2a3f5f"
          },
          "geo": {
           "bgcolor": "white",
           "lakecolor": "white",
           "landcolor": "#E5ECF6",
           "showlakes": true,
           "showland": true,
           "subunitcolor": "white"
          },
          "hoverlabel": {
           "align": "left"
          },
          "hovermode": "closest",
          "mapbox": {
           "style": "light"
          },
          "paper_bgcolor": "white",
          "plot_bgcolor": "#E5ECF6",
          "polar": {
           "angularaxis": {
            "gridcolor": "white",
            "linecolor": "white",
            "ticks": ""
           },
           "bgcolor": "#E5ECF6",
           "radialaxis": {
            "gridcolor": "white",
            "linecolor": "white",
            "ticks": ""
           }
          },
          "scene": {
           "xaxis": {
            "backgroundcolor": "#E5ECF6",
            "gridcolor": "white",
            "gridwidth": 2,
            "linecolor": "white",
            "showbackground": true,
            "ticks": "",
            "zerolinecolor": "white"
           },
           "yaxis": {
            "backgroundcolor": "#E5ECF6",
            "gridcolor": "white",
            "gridwidth": 2,
            "linecolor": "white",
            "showbackground": true,
            "ticks": "",
            "zerolinecolor": "white"
           },
           "zaxis": {
            "backgroundcolor": "#E5ECF6",
            "gridcolor": "white",
            "gridwidth": 2,
            "linecolor": "white",
            "showbackground": true,
            "ticks": "",
            "zerolinecolor": "white"
           }
          },
          "shapedefaults": {
           "line": {
            "color": "#2a3f5f"
           }
          },
          "ternary": {
           "aaxis": {
            "gridcolor": "white",
            "linecolor": "white",
            "ticks": ""
           },
           "baxis": {
            "gridcolor": "white",
            "linecolor": "white",
            "ticks": ""
           },
           "bgcolor": "#E5ECF6",
           "caxis": {
            "gridcolor": "white",
            "linecolor": "white",
            "ticks": ""
           }
          },
          "title": {
           "x": 0.05
          },
          "xaxis": {
           "automargin": true,
           "gridcolor": "white",
           "linecolor": "white",
           "ticks": "",
           "title": {
            "standoff": 15
           },
           "zerolinecolor": "white",
           "zerolinewidth": 2
          },
          "yaxis": {
           "automargin": true,
           "gridcolor": "white",
           "linecolor": "white",
           "ticks": "",
           "title": {
            "standoff": 15
           },
           "zerolinecolor": "white",
           "zerolinewidth": 2
          }
         }
        },
        "xaxis": {
         "title": {
          "text": "λ"
         }
        },
        "yaxis": {
         "range": [
          -0.08,
          0.04
         ],
         "title": {
          "text": "θ [deg·cm² dmol⁻¹]"
         }
        }
       }
      }
     },
     "metadata": {},
     "output_type": "display_data"
    }
   ],
   "source": [
    "fig = go.Figure()\n",
    "\n",
    "spettri = pd.DataFrame()\n",
    "\n",
    "spettri['λ'] = spettriRAW['λ']\n",
    "\n",
    "for i, conc in enumerate(['C0', 'C1', 'C2', 'C3', 'C4', 'C5']):\n",
    "    λ = spettriRAW['λ']\n",
    "    if i != 0:\n",
    "        θ = spettriRAW[conc] * 100 / (concentrazioni[i] * N * l)\n",
    "    else:\n",
    "        θ = spettriRAW[conc] * 100 / (N * l)\n",
    "\n",
    "    mean = θ[λ > 250].mean()\n",
    "   #  θ = θ - mean\n",
    "    spettri[conc] = θ  # aggiorna la colonna\n",
    "\n",
    "    fig.add_trace(go.Scatter(\n",
    "        x=λ,\n",
    "        y=θ,\n",
    "        mode='lines',\n",
    "        name=np.round(concentrazioni[i],2)\n",
    "    ))\n",
    "\n",
    "fig.update_layout(\n",
    "    yaxis=dict(range=[-0.08000, 0.04000]),\n",
    "    xaxis_title='λ',\n",
    "    yaxis_title='θ [deg·cm² dmol⁻¹]',\n",
    "    legend_title='C denaturante [M]',\n",
    "    legend=dict(\n",
    "        x=1,\n",
    "        y=0,\n",
    "        xanchor='right',\n",
    "        yanchor='bottom'\n",
    "    )\n",
    ")\n",
    "fig.show()"
   ]
  },
  {
   "cell_type": "code",
   "execution_count": 7,
   "id": "b6f7f5dd",
   "metadata": {},
   "outputs": [
    {
     "data": {
      "text/html": [
       "<div>\n",
       "<style scoped>\n",
       "    .dataframe tbody tr th:only-of-type {\n",
       "        vertical-align: middle;\n",
       "    }\n",
       "\n",
       "    .dataframe tbody tr th {\n",
       "        vertical-align: top;\n",
       "    }\n",
       "\n",
       "    .dataframe thead th {\n",
       "        text-align: right;\n",
       "    }\n",
       "</style>\n",
       "<table border=\"1\" class=\"dataframe\">\n",
       "  <thead>\n",
       "    <tr style=\"text-align: right;\">\n",
       "      <th></th>\n",
       "      <th>Concentrazione</th>\n",
       "      <th>230</th>\n",
       "      <th>229</th>\n",
       "      <th>228</th>\n",
       "      <th>227</th>\n",
       "      <th>226</th>\n",
       "      <th>225</th>\n",
       "      <th>224</th>\n",
       "      <th>223</th>\n",
       "      <th>222</th>\n",
       "      <th>221</th>\n",
       "      <th>220</th>\n",
       "    </tr>\n",
       "  </thead>\n",
       "  <tbody>\n",
       "    <tr>\n",
       "      <th>0</th>\n",
       "      <td>0.000000</td>\n",
       "      <td>-0.029407</td>\n",
       "      <td>-0.029728</td>\n",
       "      <td>-0.029951</td>\n",
       "      <td>-0.030086</td>\n",
       "      <td>-0.030296</td>\n",
       "      <td>-0.030580</td>\n",
       "      <td>-0.030864</td>\n",
       "      <td>-0.031272</td>\n",
       "      <td>-0.031395</td>\n",
       "      <td>-0.032148</td>\n",
       "      <td>-0.032444</td>\n",
       "    </tr>\n",
       "    <tr>\n",
       "      <th>1</th>\n",
       "      <td>1.529499</td>\n",
       "      <td>-0.019453</td>\n",
       "      <td>-0.019493</td>\n",
       "      <td>-0.019574</td>\n",
       "      <td>-0.019792</td>\n",
       "      <td>-0.019735</td>\n",
       "      <td>-0.019840</td>\n",
       "      <td>-0.019969</td>\n",
       "      <td>-0.020090</td>\n",
       "      <td>-0.020260</td>\n",
       "      <td>-0.020583</td>\n",
       "      <td>-0.020777</td>\n",
       "    </tr>\n",
       "    <tr>\n",
       "      <th>2</th>\n",
       "      <td>3.093301</td>\n",
       "      <td>-0.009583</td>\n",
       "      <td>-0.009611</td>\n",
       "      <td>-0.009619</td>\n",
       "      <td>-0.009714</td>\n",
       "      <td>-0.009754</td>\n",
       "      <td>-0.009814</td>\n",
       "      <td>-0.009906</td>\n",
       "      <td>-0.009906</td>\n",
       "      <td>-0.009998</td>\n",
       "      <td>-0.010177</td>\n",
       "      <td>-0.010113</td>\n",
       "    </tr>\n",
       "    <tr>\n",
       "      <th>3</th>\n",
       "      <td>4.668148</td>\n",
       "      <td>-0.006278</td>\n",
       "      <td>-0.006239</td>\n",
       "      <td>-0.006329</td>\n",
       "      <td>-0.006363</td>\n",
       "      <td>-0.006339</td>\n",
       "      <td>-0.006405</td>\n",
       "      <td>-0.006408</td>\n",
       "      <td>-0.006437</td>\n",
       "      <td>-0.006416</td>\n",
       "      <td>-0.006442</td>\n",
       "      <td>-0.006427</td>\n",
       "    </tr>\n",
       "    <tr>\n",
       "      <th>4</th>\n",
       "      <td>6.130150</td>\n",
       "      <td>-0.004654</td>\n",
       "      <td>-0.004717</td>\n",
       "      <td>-0.004757</td>\n",
       "      <td>-0.004753</td>\n",
       "      <td>-0.004771</td>\n",
       "      <td>-0.004743</td>\n",
       "      <td>-0.004767</td>\n",
       "      <td>-0.004715</td>\n",
       "      <td>-0.004775</td>\n",
       "      <td>-0.004854</td>\n",
       "      <td>-0.004811</td>\n",
       "    </tr>\n",
       "    <tr>\n",
       "      <th>5</th>\n",
       "      <td>7.735930</td>\n",
       "      <td>-0.003733</td>\n",
       "      <td>-0.003742</td>\n",
       "      <td>-0.003725</td>\n",
       "      <td>-0.003763</td>\n",
       "      <td>-0.003792</td>\n",
       "      <td>-0.003726</td>\n",
       "      <td>-0.003752</td>\n",
       "      <td>-0.003717</td>\n",
       "      <td>-0.003784</td>\n",
       "      <td>-0.003734</td>\n",
       "      <td>-0.003787</td>\n",
       "    </tr>\n",
       "  </tbody>\n",
       "</table>\n",
       "</div>"
      ],
      "text/plain": [
       "   Concentrazione       230       229       228       227       226       225  \\\n",
       "0        0.000000 -0.029407 -0.029728 -0.029951 -0.030086 -0.030296 -0.030580   \n",
       "1        1.529499 -0.019453 -0.019493 -0.019574 -0.019792 -0.019735 -0.019840   \n",
       "2        3.093301 -0.009583 -0.009611 -0.009619 -0.009714 -0.009754 -0.009814   \n",
       "3        4.668148 -0.006278 -0.006239 -0.006329 -0.006363 -0.006339 -0.006405   \n",
       "4        6.130150 -0.004654 -0.004717 -0.004757 -0.004753 -0.004771 -0.004743   \n",
       "5        7.735930 -0.003733 -0.003742 -0.003725 -0.003763 -0.003792 -0.003726   \n",
       "\n",
       "        224       223       222       221       220  \n",
       "0 -0.030864 -0.031272 -0.031395 -0.032148 -0.032444  \n",
       "1 -0.019969 -0.020090 -0.020260 -0.020583 -0.020777  \n",
       "2 -0.009906 -0.009906 -0.009998 -0.010177 -0.010113  \n",
       "3 -0.006408 -0.006437 -0.006416 -0.006442 -0.006427  \n",
       "4 -0.004767 -0.004715 -0.004775 -0.004854 -0.004811  \n",
       "5 -0.003752 -0.003717 -0.003784 -0.003734 -0.003787  "
      ]
     },
     "metadata": {},
     "output_type": "display_data"
    }
   ],
   "source": [
    "λ = spettri['λ']\n",
    "\n",
    "λmin = 220\n",
    "λmax = 230\n",
    "\n",
    "imin,imax = λ[λ == λmin].index[0], λ[λ == λmax].index[0]\n",
    "# print(imin,imax)\n",
    "\n",
    "Λ = np.arange(λmax,λmin-1,-1)\n",
    "\n",
    "# Seleziona solo le colonne delle concentrazioni (senza le colonne λ)\n",
    "spettro_ristretto = spettri.loc[imax:imin, ['C0','C1', 'C2', 'C3', 'C4', 'C5']]\n",
    "spettro_ristretto = spettro_ristretto.T\n",
    "spettro_ristretto.columns = Λ\n",
    "spettro_ristretto.insert(0, 'Concentrazione', spettro_ristretto.index)\n",
    "spettro_ristretto.reset_index(drop=True, inplace=True)\n",
    "spettro_ristretto['Concentrazione'] = concentrazioni\n",
    "display(spettro_ristretto)\n"
   ]
  },
  {
   "cell_type": "code",
   "execution_count": 8,
   "id": "1da9c8d7",
   "metadata": {},
   "outputs": [],
   "source": [
    "# fig = go.Figure()\n",
    "colors = px.colors.sample_colorscale(px.colors.sequential.Plasma, len(Λ))\n",
    "\n",
    "# for idx,i in enumerate(range(λmin,λmax)):\n",
    "#     fig.add_trace(go.Scatter(\n",
    "#         x=spettro_ristretto['Concentrazione'],\n",
    "#         y=spettro_ristretto[i],\n",
    "#         mode='lines+markers',\n",
    "#         name=str(i)+'nm',\n",
    "#         line=dict(color=colors[idx]),\n",
    "#         marker=dict(color=colors[idx])\n",
    "#     ))\n",
    "\n",
    "# fig.update_layout(\n",
    "#     # yaxis_type='log',\n",
    "#     #title='Spettri ristretti (220-230 nm)',\n",
    "#     xaxis_title='Concentrazione [M]',\n",
    "#     yaxis_title='θ',\n",
    "#     legend_title='λ [nm]',\n",
    "#     height=800,\n",
    "#     width=600,\n",
    "#     legend=dict(\n",
    "#         x=1,\n",
    "#         y=0,\n",
    "#         xanchor='right',\n",
    "#         yanchor='bottom'\n",
    "#     )\n",
    "# )\n",
    "# # fig.show()"
   ]
  },
  {
   "cell_type": "code",
   "execution_count": 9,
   "id": "b315f4c1",
   "metadata": {},
   "outputs": [],
   "source": [
    "def sigmoid(x,m,Cmid, yN,yD):\n",
    "    R = 8.314  # J/(mol * K)\n",
    "    T = 300  # K\n",
    "    expo = m * (Cmid-x) / (R*T)\n",
    "    num = yN + yD * np.exp(-expo)\n",
    "    den = 1 + np.exp(-expo)\n",
    "    return num/den\n",
    "\n",
    "\n",
    "# x = np.linspace(0,6,1000)\n",
    "# plt.plot(x,sigmoid(x,-0.005,-0.0001,2,6))\n",
    "\n",
    "# plt.show()"
   ]
  },
  {
   "cell_type": "code",
   "execution_count": 10,
   "id": "0400f6d7",
   "metadata": {},
   "outputs": [
    {
     "data": {
      "text/html": [
       "<div>\n",
       "<style scoped>\n",
       "    .dataframe tbody tr th:only-of-type {\n",
       "        vertical-align: middle;\n",
       "    }\n",
       "\n",
       "    .dataframe tbody tr th {\n",
       "        vertical-align: top;\n",
       "    }\n",
       "\n",
       "    .dataframe thead th {\n",
       "        text-align: right;\n",
       "    }\n",
       "</style>\n",
       "<table border=\"1\" class=\"dataframe\">\n",
       "  <thead>\n",
       "    <tr style=\"text-align: right;\">\n",
       "      <th></th>\n",
       "      <th>λ</th>\n",
       "      <th>m</th>\n",
       "      <th>m_err</th>\n",
       "      <th>Cmid</th>\n",
       "      <th>Cmid_err</th>\n",
       "      <th>Cm covariance</th>\n",
       "      <th>yN</th>\n",
       "      <th>yN_err</th>\n",
       "      <th>yD</th>\n",
       "      <th>yD_err</th>\n",
       "    </tr>\n",
       "  </thead>\n",
       "  <tbody>\n",
       "    <tr>\n",
       "      <th>0</th>\n",
       "      <td>230</td>\n",
       "      <td>2146.893567</td>\n",
       "      <td>320.616253</td>\n",
       "      <td>1.321189</td>\n",
       "      <td>0.306289</td>\n",
       "      <td>0.093813</td>\n",
       "      <td>-0.037613</td>\n",
       "      <td>0.003799</td>\n",
       "      <td>-0.003978</td>\n",
       "      <td>0.000493</td>\n",
       "    </tr>\n",
       "    <tr>\n",
       "      <th>1</th>\n",
       "      <td>229</td>\n",
       "      <td>2138.231504</td>\n",
       "      <td>304.706963</td>\n",
       "      <td>1.278895</td>\n",
       "      <td>0.300018</td>\n",
       "      <td>0.090011</td>\n",
       "      <td>-0.038371</td>\n",
       "      <td>0.003807</td>\n",
       "      <td>-0.003996</td>\n",
       "      <td>0.000470</td>\n",
       "    </tr>\n",
       "    <tr>\n",
       "      <th>2</th>\n",
       "      <td>228</td>\n",
       "      <td>2118.915642</td>\n",
       "      <td>333.826684</td>\n",
       "      <td>1.246279</td>\n",
       "      <td>0.341186</td>\n",
       "      <td>0.116408</td>\n",
       "      <td>-0.039001</td>\n",
       "      <td>0.004394</td>\n",
       "      <td>-0.004007</td>\n",
       "      <td>0.000522</td>\n",
       "    </tr>\n",
       "    <tr>\n",
       "      <th>3</th>\n",
       "      <td>227</td>\n",
       "      <td>2143.290193</td>\n",
       "      <td>326.338349</td>\n",
       "      <td>1.295317</td>\n",
       "      <td>0.316976</td>\n",
       "      <td>0.100474</td>\n",
       "      <td>-0.038696</td>\n",
       "      <td>0.004056</td>\n",
       "      <td>-0.004036</td>\n",
       "      <td>0.000511</td>\n",
       "    </tr>\n",
       "    <tr>\n",
       "      <th>4</th>\n",
       "      <td>226</td>\n",
       "      <td>2105.636744</td>\n",
       "      <td>299.463260</td>\n",
       "      <td>1.227384</td>\n",
       "      <td>0.313504</td>\n",
       "      <td>0.098284</td>\n",
       "      <td>-0.039663</td>\n",
       "      <td>0.004101</td>\n",
       "      <td>-0.004027</td>\n",
       "      <td>0.000476</td>\n",
       "    </tr>\n",
       "    <tr>\n",
       "      <th>5</th>\n",
       "      <td>225</td>\n",
       "      <td>2052.810236</td>\n",
       "      <td>311.955398</td>\n",
       "      <td>1.172075</td>\n",
       "      <td>0.355833</td>\n",
       "      <td>0.126617</td>\n",
       "      <td>-0.040781</td>\n",
       "      <td>0.004752</td>\n",
       "      <td>-0.003948</td>\n",
       "      <td>0.000517</td>\n",
       "    </tr>\n",
       "    <tr>\n",
       "      <th>6</th>\n",
       "      <td>224</td>\n",
       "      <td>2043.974888</td>\n",
       "      <td>293.729059</td>\n",
       "      <td>1.156103</td>\n",
       "      <td>0.341034</td>\n",
       "      <td>0.116304</td>\n",
       "      <td>-0.041346</td>\n",
       "      <td>0.004616</td>\n",
       "      <td>-0.003956</td>\n",
       "      <td>0.000493</td>\n",
       "    </tr>\n",
       "    <tr>\n",
       "      <th>7</th>\n",
       "      <td>223</td>\n",
       "      <td>2026.664821</td>\n",
       "      <td>301.942357</td>\n",
       "      <td>1.112666</td>\n",
       "      <td>0.365220</td>\n",
       "      <td>0.133386</td>\n",
       "      <td>-0.042401</td>\n",
       "      <td>0.005079</td>\n",
       "      <td>-0.003910</td>\n",
       "      <td>0.000516</td>\n",
       "    </tr>\n",
       "    <tr>\n",
       "      <th>8</th>\n",
       "      <td>222</td>\n",
       "      <td>2065.072593</td>\n",
       "      <td>281.242106</td>\n",
       "      <td>1.168080</td>\n",
       "      <td>0.317127</td>\n",
       "      <td>0.100569</td>\n",
       "      <td>-0.041862</td>\n",
       "      <td>0.004375</td>\n",
       "      <td>-0.003985</td>\n",
       "      <td>0.000473</td>\n",
       "    </tr>\n",
       "    <tr>\n",
       "      <th>9</th>\n",
       "      <td>221</td>\n",
       "      <td>2023.358155</td>\n",
       "      <td>275.201460</td>\n",
       "      <td>1.104996</td>\n",
       "      <td>0.335374</td>\n",
       "      <td>0.112475</td>\n",
       "      <td>-0.043702</td>\n",
       "      <td>0.004815</td>\n",
       "      <td>-0.003945</td>\n",
       "      <td>0.000485</td>\n",
       "    </tr>\n",
       "    <tr>\n",
       "      <th>10</th>\n",
       "      <td>220</td>\n",
       "      <td>2097.511652</td>\n",
       "      <td>278.335849</td>\n",
       "      <td>1.169465</td>\n",
       "      <td>0.302692</td>\n",
       "      <td>0.091622</td>\n",
       "      <td>-0.043121</td>\n",
       "      <td>0.004356</td>\n",
       "      <td>-0.004018</td>\n",
       "      <td>0.000472</td>\n",
       "    </tr>\n",
       "  </tbody>\n",
       "</table>\n",
       "</div>"
      ],
      "text/plain": [
       "      λ            m       m_err      Cmid  Cmid_err  Cm covariance        yN  \\\n",
       "0   230  2146.893567  320.616253  1.321189  0.306289       0.093813 -0.037613   \n",
       "1   229  2138.231504  304.706963  1.278895  0.300018       0.090011 -0.038371   \n",
       "2   228  2118.915642  333.826684  1.246279  0.341186       0.116408 -0.039001   \n",
       "3   227  2143.290193  326.338349  1.295317  0.316976       0.100474 -0.038696   \n",
       "4   226  2105.636744  299.463260  1.227384  0.313504       0.098284 -0.039663   \n",
       "5   225  2052.810236  311.955398  1.172075  0.355833       0.126617 -0.040781   \n",
       "6   224  2043.974888  293.729059  1.156103  0.341034       0.116304 -0.041346   \n",
       "7   223  2026.664821  301.942357  1.112666  0.365220       0.133386 -0.042401   \n",
       "8   222  2065.072593  281.242106  1.168080  0.317127       0.100569 -0.041862   \n",
       "9   221  2023.358155  275.201460  1.104996  0.335374       0.112475 -0.043702   \n",
       "10  220  2097.511652  278.335849  1.169465  0.302692       0.091622 -0.043121   \n",
       "\n",
       "      yN_err        yD    yD_err  \n",
       "0   0.003799 -0.003978  0.000493  \n",
       "1   0.003807 -0.003996  0.000470  \n",
       "2   0.004394 -0.004007  0.000522  \n",
       "3   0.004056 -0.004036  0.000511  \n",
       "4   0.004101 -0.004027  0.000476  \n",
       "5   0.004752 -0.003948  0.000517  \n",
       "6   0.004616 -0.003956  0.000493  \n",
       "7   0.005079 -0.003910  0.000516  \n",
       "8   0.004375 -0.003985  0.000473  \n",
       "9   0.004815 -0.003945  0.000485  \n",
       "10  0.004356 -0.004018  0.000472  "
      ]
     },
     "metadata": {},
     "output_type": "display_data"
    }
   ],
   "source": [
    "# fit con sigmoide\n",
    "\n",
    "fit_results = []\n",
    "\n",
    "for i in spettro_ristretto.columns[1:]:\n",
    "    C = concentrazioni\n",
    "    θ = spettro_ristretto[i].to_numpy()\n",
    "\n",
    "    # guess\n",
    "    yD = θ[-1]\n",
    "    yN = θ[0] # NON è UN PARAMETRO\n",
    "    m = 3898\n",
    "    Cmid = np.mean(C)\n",
    "\n",
    "    # fit\n",
    "    popt, pcov = curve_fit(sigmoid, C, θ, p0=[m, Cmid, yN, yD],maxfev=1000,)\n",
    "    perr = np.sqrt(np.diag(pcov))\n",
    "    fit_results.append({\n",
    "        'λ': i,\n",
    "        'm': popt[0], 'm_err': perr[0],\n",
    "        'Cmid': popt[1], 'Cmid_err': perr[1],\n",
    "        'Cm covariance': pcov[1, 1],\n",
    "        'yN': popt[2], 'yN_err': perr[2],\n",
    "        'yD': popt[3], 'yD_err': perr[3],\n",
    "    })\n",
    "\n",
    "fit_df = pd.DataFrame(fit_results)\n",
    "display(fit_df)"
   ]
  },
  {
   "cell_type": "code",
   "execution_count": 11,
   "id": "c7f7a321",
   "metadata": {},
   "outputs": [
    {
     "data": {
      "application/vnd.plotly.v1+json": {
       "config": {
        "plotlyServerURL": "https://plot.ly"
       },
       "data": [
        {
         "line": {
          "color": "rgb(13, 8, 135)"
         },
         "mode": "lines",
         "name": "Fit 230 nm",
         "type": "scatter",
         "x": {
          "bdata": "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",
          "dtype": "f8"
         },
         "y": {
          "bdata": "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",
          "dtype": "f8"
         }
        },
        {
         "marker": {
          "color": "rgb(13, 8, 135)"
         },
         "mode": "markers",
         "name": "Exp 230 nm",
         "showlegend": false,
         "type": "scatter",
         "x": {
          "bdata": "AAAAAAAAAADhmKdr1Hj4P9jodNcUvwhAoJu+HS+sEkBrMvwKRoUYQNysTaWX8R5A",
          "dtype": "f8"
         },
         "y": {
          "bdata": "GMNMtPkcnr8UDw8KceuTv35VH1cPoIO/JzUUImm3eb+Ue1DMRBBzv6KIF0U2lG6/",
          "dtype": "f8"
         }
        },
        {
         "line": {
          "color": "rgb(64, 3, 157)"
         },
         "mode": "lines",
         "name": "Fit 229 nm",
         "type": "scatter",
         "x": {
          "bdata": "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",
          "dtype": "f8"
         },
         "y": {
          "bdata": "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",
          "dtype": "f8"
         }
        },
        {
         "marker": {
          "color": "rgb(64, 3, 157)"
         },
         "mode": "markers",
         "name": "Exp 229 nm",
         "showlegend": false,
         "type": "scatter",
         "x": {
          "bdata": "AAAAAAAAAADhmKdr1Hj4P9jodNcUvwhAoJu+HS+sEkBrMvwKRoUYQNysTaWX8R5A",
          "dtype": "f8"
         },
         "y": {
          "bdata": "ufQ10h5xnr+putV0BfaTv5dBdRO1roO/OidXUNCNeb9+liSyu1Fzv8dbRPxKqG6/",
          "dtype": "f8"
         }
        },
        {
         "line": {
          "color": "rgb(105, 1, 166)"
         },
         "mode": "lines",
         "name": "Fit 228 nm",
         "type": "scatter",
         "x": {
          "bdata": "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",
          "dtype": "f8"
         },
         "y": {
          "bdata": "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",
          "dtype": "f8"
         }
        },
        {
         "marker": {
          "color": "rgb(105, 1, 166)"
         },
         "mode": "markers",
         "name": "Exp 228 nm",
         "showlegend": false,
         "type": "scatter",
         "x": {
          "bdata": "AAAAAAAAAADhmKdr1Hj4P9jodNcUvwhAoJu+HS+sEkBrMvwKRoUYQNysTaWX8R5A",
          "dtype": "f8"
         },
         "y": {
          "bdata": "Fhfr5l+rnr/UEWNKLguUv8Py1m3ksoO/YuA2oxnseb9Wl1Lj93tzv67YHFd6g26/",
          "dtype": "f8"
         }
        },
        {
         "line": {
          "color": "rgb(143, 16, 161)"
         },
         "mode": "lines",
         "name": "Fit 227 nm",
         "type": "scatter",
         "x": {
          "bdata": "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",
          "dtype": "f8"
         },
         "y": {
          "bdata": "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",
          "dtype": "f8"
         }
        },
        {
         "marker": {
          "color": "rgb(143, 16, 161)"
         },
         "mode": "markers",
         "name": "Exp 227 nm",
         "showlegend": false,
         "type": "scatter",
         "x": {
          "bdata": "AAAAAAAAAADhmKdr1Hj4P9jodNcUvwhAoJu+HS+sEkBrMvwKRoUYQNysTaWX8R5A",
          "dtype": "f8"
         },
         "y": {
          "bdata": "FaySc/nOnr8tfS2+T0SUv9BAa6oc5YO/qB9BnSYQer8OZDSrvndzv0Yl0DPN026/",
          "dtype": "f8"
         }
        },
        {
         "line": {
          "color": "rgb(176, 42, 144)"
         },
         "mode": "lines",
         "name": "Fit 226 nm",
         "type": "scatter",
         "x": {
          "bdata": "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",
          "dtype": "f8"
         },
         "y": {
          "bdata": "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",
          "dtype": "f8"
         }
        },
        {
         "marker": {
          "color": "rgb(176, 42, 144)"
         },
         "mode": "markers",
         "name": "Exp 226 nm",
         "showlegend": false,
         "type": "scatter",
         "x": {
          "bdata": "AAAAAAAAAADhmKdr1Hj4P9jodNcUvwhAoJu+HS+sEkBrMvwKRoUYQNysTaWX8R5A",
          "dtype": "f8"
         },
         "y": {
          "bdata": "iEwhB/4Fn78owH31fzWUv6q2U24J+oO/tH2cUjH3eb/WSrwnwIpzv7eeVlkLEG+/",
          "dtype": "f8"
         }
        },
        {
         "line": {
          "color": "rgb(203, 71, 120)"
         },
         "mode": "lines",
         "name": "Fit 225 nm",
         "type": "scatter",
         "x": {
          "bdata": "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",
          "dtype": "f8"
         },
         "y": {
          "bdata": "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",
          "dtype": "f8"
         }
        },
        {
         "marker": {
          "color": "rgb(203, 71, 120)"
         },
         "mode": "markers",
         "name": "Exp 225 nm",
         "showlegend": false,
         "type": "scatter",
         "x": {
          "bdata": "AAAAAAAAAADhmKdr1Hj4P9jodNcUvwhAoJu+HS+sEkBrMvwKRoUYQNysTaWX8R5A",
          "dtype": "f8"
         },
         "y": {
          "bdata": "cPiWoW1Qn796sejXAVGUv3JnMJRsGYS/55TXWoU8er/Y4+ieL21zv977TiDThm6/",
          "dtype": "f8"
         }
        },
        {
         "line": {
          "color": "rgb(224, 101, 97)"
         },
         "mode": "lines",
         "name": "Fit 224 nm",
         "type": "scatter",
         "x": {
          "bdata": "AAAAAAAAAABHEe+rS+ejP0cR76tL57M/6pnmgfHavT9HEe+rS+fDP5nV6pYe4cg/6pnmgfHazT8eL3E2YmrRP0cR76tL59M/cPNsITVk1j+Z1eqWHuHYP8K3aAwIXts/6pnmgfHa3T8KPrJ77SvgPx4vcTZiauE/MyAw8dao4j9HEe+rS+fjP1sCrmbAJeU/cPNsITVk5j+E5CvcqaLnP5nV6pYe4eg/rcapUZMf6j/Ct2gMCF7rP9aoJ8d8nOw/6pnmgfHa7T//iqU8ZhnvPwo+snvtK/A/lLYR2SfL8D8eL3E2YmrxP6in0JOcCfI/MyAw8dao8j+9mI9OEUjzP0cR76tL5/M/0YlOCYaG9D9bAq5mwCX1P+Z6DcT6xPU/cPNsITVk9j/6a8x+bwP3P4TkK9ypovc/D12LOeRB+D+Z1eqWHuH4PyNOSvRYgPk/rcapUZMf+j83Pwmvzb76P8K3aAwIXvs/TDDIaUL9+z/WqCfHfJz8P2AhhyS3O/0/6pnmgfHa/T91EkbfK3r+P/+KpTxmGf8/iQMFmqC4/z8KPrJ77SsAQE/6YaqKewBAlLYR2SfLAEDZcsEHxRoBQB4vcTZiagFAY+sgZf+5AUCop9CTnAkCQO1jgMI5WQJAMyAw8daoAkB43N8fdPgCQL2Yj04RSANAAlU/fa6XA0BHEe+rS+cDQIzNntroNgRA0YlOCYaGBEAWRv43I9YEQFsCrmbAJQVAob5dlV11BUDmeg3E+sQFQCs3vfKXFAZAcPNsITVkBkC1rxxQ0rMGQPprzH5vAwdAPyh8rQxTB0CE5CvcqaIHQMmg2wpH8gdAD12LOeRBCEBUGTtogZEIQJnV6pYe4QhA3pGaxbswCUAjTkr0WIAJQGgK+iL2zwlArcapUZMfCkDyglmAMG8KQDc/Ca/NvgpAffu43WoOC0DCt2gMCF4LQAd0GDulrQtATDDIaUL9C0CR7HeY30wMQNaoJ8d8nAxAG2XX9RnsDEBgIYcktzsNQKXdNlNUiw1A6pnmgfHaDUAwVpawjioOQHUSRt8reg5Aus71DcnJDkD/iqU8ZhkPQERHVWsDaQ9AiQMFmqC4D0DnX1rkHgQQQAo+snvtKxBALBwKE7xTEEBP+mGqinsQQHHYuUFZoxBAlLYR2SfLEEC2lGlw9vIQQNlywQfFGhFA/FAZn5NCEUAeL3E2YmoRQEENyc0wkhFAY+sgZf+5EUCGyXj8zeERQKin0JOcCRJAy4UoK2sxEkDtY4DCOVkSQBBC2FkIgRJAMyAw8daoEkBV/oeIpdASQHjc3x90+BJAmro3t0IgE0C9mI9OEUgTQN925+XfbxNAAlU/fa6XE0AkM5cUfb8TQEcR76tL5xNAau9GQxoPFECMzZ7a6DYUQK+r9nG3XhRA0YlOCYaGFED0Z6agVK4UQBZG/jcj1hRAOSRWz/H9FEBbAq5mwCUVQH7gBf6OTRVAob5dlV11FUDDnLUsLJ0VQOZ6DcT6xBVACFllW8nsFUArN73ylxQWQE0VFYpmPBZAcPNsITVkFkCS0cS4A4wWQLWvHFDSsxZA2I1056DbFkD6a8x+bwMXQB1KJBY+KxdAPyh8rQxTF0BiBtRE23oXQITkK9ypohdAp8KDc3jKF0DJoNsKR/IXQOx+M6IVGhhAD12LOeRBGEAxO+PQsmkYQFQZO2iBkRhAdveS/0+5GECZ1eqWHuEYQLuzQi7tCBlA3pGaxbswGUAAcPJcilgZQCNOSvRYgBlARiyiiyeoGUBoCvoi9s8ZQIvoUbrE9xlArcapUZMfGkDQpAHpYUcaQPKCWYAwbxpAFWGxF/+WGkA3Pwmvzb4aQFodYUac5hpAffu43WoOG0Cf2RB1OTYbQMK3aAwIXhtA5JXAo9aFG0AHdBg7pa0bQClScNJz1RtATDDIaUL9G0BuDiABESUcQJHsd5jfTBxAtMrPL650HEDWqCfHfJwcQPmGf15LxBxAG2XX9RnsHEA+Qy+N6BMdQGAhhyS3Ox1Ag//eu4VjHUCl3TZTVIsdQMi7juoisx1A6pnmgfHaHUANeD4ZwAIeQDBWlrCOKh5AUjTuR11SHkB1EkbfK3oeQJfwnXb6oR5Aus71DcnJHkDcrE2ll/EeQA==",
          "dtype": "f8"
         },
         "y": {
          "bdata": "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",
          "dtype": "f8"
         }
        },
        {
         "marker": {
          "color": "rgb(224, 101, 97)"
         },
         "mode": "markers",
         "name": "Exp 224 nm",
         "showlegend": false,
         "type": "scatter",
         "x": {
          "bdata": "AAAAAAAAAADhmKdr1Hj4P9jodNcUvwhAoJu+HS+sEkBrMvwKRoUYQNysTaWX8R5A",
          "dtype": "f8"
         },
         "y": {
          "bdata": "WKQMPN2an7/yPDHH3HKUv+jckyONSYS/PPywRks/er+NF57vhoZzv+4ucbNfvG6/",
          "dtype": "f8"
         }
        },
        {
         "line": {
          "color": "rgb(241, 132, 76)"
         },
         "mode": "lines",
         "name": "Fit 223 nm",
         "type": "scatter",
         "x": {
          "bdata": "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",
          "dtype": "f8"
         },
         "y": {
          "bdata": "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",
          "dtype": "f8"
         }
        },
        {
         "marker": {
          "color": "rgb(241, 132, 76)"
         },
         "mode": "markers",
         "name": "Exp 223 nm",
         "showlegend": false,
         "type": "scatter",
         "x": {
          "bdata": "AAAAAAAAAADhmKdr1Hj4P9jodNcUvwhAoJu+HS+sEkBrMvwKRoUYQNysTaWX8R5A",
          "dtype": "f8"
         },
         "y": {
          "bdata": "q7EB8dQCoL+xP4UHmpKUv+jckyONSYS/2GwIacxder/afBUWn09zv7koImm+cm6/",
          "dtype": "f8"
         }
        },
        {
         "line": {
          "color": "rgb(251, 168, 54)"
         },
         "mode": "lines",
         "name": "Fit 222 nm",
         "type": "scatter",
         "x": {
          "bdata": "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",
          "dtype": "f8"
         },
         "y": {
          "bdata": "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",
          "dtype": "f8"
         }
        },
        {
         "marker": {
          "color": "rgb(251, 168, 54)"
         },
         "mode": "markers",
         "name": "Exp 222 nm",
         "showlegend": false,
         "type": "scatter",
         "x": {
          "bdata": "AAAAAAAAAADhmKdr1Hj4P9jodNcUvwhAoJu+HS+sEkBrMvwKRoUYQNysTaWX8R5A",
          "dtype": "f8"
         },
         "y": {
          "bdata": "NzvCdgMToL++dpRhCb+Uv19S97KteYS/ODI9Cp1Her8fftpf+Y5zv8LuW2tP/26/",
          "dtype": "f8"
         }
        },
        {
         "line": {
          "color": "rgb(252, 207, 37)"
         },
         "mode": "lines",
         "name": "Fit 221 nm",
         "type": "scatter",
         "x": {
          "bdata": "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",
          "dtype": "f8"
         },
         "y": {
          "bdata": "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",
          "dtype": "f8"
         }
        },
        {
         "marker": {
          "color": "rgb(252, 207, 37)"
         },
         "mode": "markers",
         "name": "Exp 221 nm",
         "showlegend": false,
         "type": "scatter",
         "x": {
          "bdata": "AAAAAAAAAADhmKdr1Hj4P9jodNcUvwhAoJu+HS+sEkBrMvwKRoUYQNysTaWX8R5A",
          "dtype": "f8"
         },
         "y": {
          "bdata": "cLXY2bh1oL9n08m3rBOVv7ZkjSTX14S/gDu7QFhjer8tZicmVeFzv9OrSQ6Pl26/",
          "dtype": "f8"
         }
        },
        {
         "line": {
          "color": "rgb(240, 249, 33)"
         },
         "mode": "lines",
         "name": "Fit 220 nm",
         "type": "scatter",
         "x": {
          "bdata": "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",
          "dtype": "f8"
         },
         "y": {
          "bdata": "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",
          "dtype": "f8"
         }
        },
        {
         "marker": {
          "color": "rgb(240, 249, 33)"
         },
         "mode": "markers",
         "name": "Exp 220 nm",
         "showlegend": false,
         "type": "scatter",
         "x": {
          "bdata": "AAAAAAAAAADhmKdr1Hj4P9jodNcUvwhAoJu+HS+sEkBrMvwKRoUYQNysTaWX8R5A",
          "dtype": "f8"
         },
         "y": {
          "bdata": "WMym546coL+apLYedUaVv1rbf1FctoS/h8+iubRSer+wS+pY/LRzvyU1wP0ABm+/",
          "dtype": "f8"
         }
        }
       ],
       "layout": {
        "height": 600,
        "legend": {
         "title": {
          "text": "λ [nm]"
         },
         "x": 1,
         "xanchor": "right",
         "y": 0,
         "yanchor": "bottom"
        },
        "template": {
         "data": {
          "bar": [
           {
            "error_x": {
             "color": "#2a3f5f"
            },
            "error_y": {
             "color": "#2a3f5f"
            },
            "marker": {
             "line": {
              "color": "#E5ECF6",
              "width": 0.5
             },
             "pattern": {
              "fillmode": "overlay",
              "size": 10,
              "solidity": 0.2
             }
            },
            "type": "bar"
           }
          ],
          "barpolar": [
           {
            "marker": {
             "line": {
              "color": "#E5ECF6",
              "width": 0.5
             },
             "pattern": {
              "fillmode": "overlay",
              "size": 10,
              "solidity": 0.2
             }
            },
            "type": "barpolar"
           }
          ],
          "carpet": [
           {
            "aaxis": {
             "endlinecolor": "#2a3f5f",
             "gridcolor": "white",
             "linecolor": "white",
             "minorgridcolor": "white",
             "startlinecolor": "#2a3f5f"
            },
            "baxis": {
             "endlinecolor": "#2a3f5f",
             "gridcolor": "white",
             "linecolor": "white",
             "minorgridcolor": "white",
             "startlinecolor": "#2a3f5f"
            },
            "type": "carpet"
           }
          ],
          "choropleth": [
           {
            "colorbar": {
             "outlinewidth": 0,
             "ticks": ""
            },
            "type": "choropleth"
           }
          ],
          "contour": [
           {
            "colorbar": {
             "outlinewidth": 0,
             "ticks": ""
            },
            "colorscale": [
             [
              0,
              "#0d0887"
             ],
             [
              0.1111111111111111,
              "#46039f"
             ],
             [
              0.2222222222222222,
              "#7201a8"
             ],
             [
              0.3333333333333333,
              "#9c179e"
             ],
             [
              0.4444444444444444,
              "#bd3786"
             ],
             [
              0.5555555555555556,
              "#d8576b"
             ],
             [
              0.6666666666666666,
              "#ed7953"
             ],
             [
              0.7777777777777778,
              "#fb9f3a"
             ],
             [
              0.8888888888888888,
              "#fdca26"
             ],
             [
              1,
              "#f0f921"
             ]
            ],
            "type": "contour"
           }
          ],
          "contourcarpet": [
           {
            "colorbar": {
             "outlinewidth": 0,
             "ticks": ""
            },
            "type": "contourcarpet"
           }
          ],
          "heatmap": [
           {
            "colorbar": {
             "outlinewidth": 0,
             "ticks": ""
            },
            "colorscale": [
             [
              0,
              "#0d0887"
             ],
             [
              0.1111111111111111,
              "#46039f"
             ],
             [
              0.2222222222222222,
              "#7201a8"
             ],
             [
              0.3333333333333333,
              "#9c179e"
             ],
             [
              0.4444444444444444,
              "#bd3786"
             ],
             [
              0.5555555555555556,
              "#d8576b"
             ],
             [
              0.6666666666666666,
              "#ed7953"
             ],
             [
              0.7777777777777778,
              "#fb9f3a"
             ],
             [
              0.8888888888888888,
              "#fdca26"
             ],
             [
              1,
              "#f0f921"
             ]
            ],
            "type": "heatmap"
           }
          ],
          "histogram": [
           {
            "marker": {
             "pattern": {
              "fillmode": "overlay",
              "size": 10,
              "solidity": 0.2
             }
            },
            "type": "histogram"
           }
          ],
          "histogram2d": [
           {
            "colorbar": {
             "outlinewidth": 0,
             "ticks": ""
            },
            "colorscale": [
             [
              0,
              "#0d0887"
             ],
             [
              0.1111111111111111,
              "#46039f"
             ],
             [
              0.2222222222222222,
              "#7201a8"
             ],
             [
              0.3333333333333333,
              "#9c179e"
             ],
             [
              0.4444444444444444,
              "#bd3786"
             ],
             [
              0.5555555555555556,
              "#d8576b"
             ],
             [
              0.6666666666666666,
              "#ed7953"
             ],
             [
              0.7777777777777778,
              "#fb9f3a"
             ],
             [
              0.8888888888888888,
              "#fdca26"
             ],
             [
              1,
              "#f0f921"
             ]
            ],
            "type": "histogram2d"
           }
          ],
          "histogram2dcontour": [
           {
            "colorbar": {
             "outlinewidth": 0,
             "ticks": ""
            },
            "colorscale": [
             [
              0,
              "#0d0887"
             ],
             [
              0.1111111111111111,
              "#46039f"
             ],
             [
              0.2222222222222222,
              "#7201a8"
             ],
             [
              0.3333333333333333,
              "#9c179e"
             ],
             [
              0.4444444444444444,
              "#bd3786"
             ],
             [
              0.5555555555555556,
              "#d8576b"
             ],
             [
              0.6666666666666666,
              "#ed7953"
             ],
             [
              0.7777777777777778,
              "#fb9f3a"
             ],
             [
              0.8888888888888888,
              "#fdca26"
             ],
             [
              1,
              "#f0f921"
             ]
            ],
            "type": "histogram2dcontour"
           }
          ],
          "mesh3d": [
           {
            "colorbar": {
             "outlinewidth": 0,
             "ticks": ""
            },
            "type": "mesh3d"
           }
          ],
          "parcoords": [
           {
            "line": {
             "colorbar": {
              "outlinewidth": 0,
              "ticks": ""
             }
            },
            "type": "parcoords"
           }
          ],
          "pie": [
           {
            "automargin": true,
            "type": "pie"
           }
          ],
          "scatter": [
           {
            "fillpattern": {
             "fillmode": "overlay",
             "size": 10,
             "solidity": 0.2
            },
            "type": "scatter"
           }
          ],
          "scatter3d": [
           {
            "line": {
             "colorbar": {
              "outlinewidth": 0,
              "ticks": ""
             }
            },
            "marker": {
             "colorbar": {
              "outlinewidth": 0,
              "ticks": ""
             }
            },
            "type": "scatter3d"
           }
          ],
          "scattercarpet": [
           {
            "marker": {
             "colorbar": {
              "outlinewidth": 0,
              "ticks": ""
             }
            },
            "type": "scattercarpet"
           }
          ],
          "scattergeo": [
           {
            "marker": {
             "colorbar": {
              "outlinewidth": 0,
              "ticks": ""
             }
            },
            "type": "scattergeo"
           }
          ],
          "scattergl": [
           {
            "marker": {
             "colorbar": {
              "outlinewidth": 0,
              "ticks": ""
             }
            },
            "type": "scattergl"
           }
          ],
          "scattermap": [
           {
            "marker": {
             "colorbar": {
              "outlinewidth": 0,
              "ticks": ""
             }
            },
            "type": "scattermap"
           }
          ],
          "scattermapbox": [
           {
            "marker": {
             "colorbar": {
              "outlinewidth": 0,
              "ticks": ""
             }
            },
            "type": "scattermapbox"
           }
          ],
          "scatterpolar": [
           {
            "marker": {
             "colorbar": {
              "outlinewidth": 0,
              "ticks": ""
             }
            },
            "type": "scatterpolar"
           }
          ],
          "scatterpolargl": [
           {
            "marker": {
             "colorbar": {
              "outlinewidth": 0,
              "ticks": ""
             }
            },
            "type": "scatterpolargl"
           }
          ],
          "scatterternary": [
           {
            "marker": {
             "colorbar": {
              "outlinewidth": 0,
              "ticks": ""
             }
            },
            "type": "scatterternary"
           }
          ],
          "surface": [
           {
            "colorbar": {
             "outlinewidth": 0,
             "ticks": ""
            },
            "colorscale": [
             [
              0,
              "#0d0887"
             ],
             [
              0.1111111111111111,
              "#46039f"
             ],
             [
              0.2222222222222222,
              "#7201a8"
             ],
             [
              0.3333333333333333,
              "#9c179e"
             ],
             [
              0.4444444444444444,
              "#bd3786"
             ],
             [
              0.5555555555555556,
              "#d8576b"
             ],
             [
              0.6666666666666666,
              "#ed7953"
             ],
             [
              0.7777777777777778,
              "#fb9f3a"
             ],
             [
              0.8888888888888888,
              "#fdca26"
             ],
             [
              1,
              "#f0f921"
             ]
            ],
            "type": "surface"
           }
          ],
          "table": [
           {
            "cells": {
             "fill": {
              "color": "#EBF0F8"
             },
             "line": {
              "color": "white"
             }
            },
            "header": {
             "fill": {
              "color": "#C8D4E3"
             },
             "line": {
              "color": "white"
             }
            },
            "type": "table"
           }
          ]
         },
         "layout": {
          "annotationdefaults": {
           "arrowcolor": "#2a3f5f",
           "arrowhead": 0,
           "arrowwidth": 1
          },
          "autotypenumbers": "strict",
          "coloraxis": {
           "colorbar": {
            "outlinewidth": 0,
            "ticks": ""
           }
          },
          "colorscale": {
           "diverging": [
            [
             0,
             "#8e0152"
            ],
            [
             0.1,
             "#c51b7d"
            ],
            [
             0.2,
             "#de77ae"
            ],
            [
             0.3,
             "#f1b6da"
            ],
            [
             0.4,
             "#fde0ef"
            ],
            [
             0.5,
             "#f7f7f7"
            ],
            [
             0.6,
             "#e6f5d0"
            ],
            [
             0.7,
             "#b8e186"
            ],
            [
             0.8,
             "#7fbc41"
            ],
            [
             0.9,
             "#4d9221"
            ],
            [
             1,
             "#276419"
            ]
           ],
           "sequential": [
            [
             0,
             "#0d0887"
            ],
            [
             0.1111111111111111,
             "#46039f"
            ],
            [
             0.2222222222222222,
             "#7201a8"
            ],
            [
             0.3333333333333333,
             "#9c179e"
            ],
            [
             0.4444444444444444,
             "#bd3786"
            ],
            [
             0.5555555555555556,
             "#d8576b"
            ],
            [
             0.6666666666666666,
             "#ed7953"
            ],
            [
             0.7777777777777778,
             "#fb9f3a"
            ],
            [
             0.8888888888888888,
             "#fdca26"
            ],
            [
             1,
             "#f0f921"
            ]
           ],
           "sequentialminus": [
            [
             0,
             "#0d0887"
            ],
            [
             0.1111111111111111,
             "#46039f"
            ],
            [
             0.2222222222222222,
             "#7201a8"
            ],
            [
             0.3333333333333333,
             "#9c179e"
            ],
            [
             0.4444444444444444,
             "#bd3786"
            ],
            [
             0.5555555555555556,
             "#d8576b"
            ],
            [
             0.6666666666666666,
             "#ed7953"
            ],
            [
             0.7777777777777778,
             "#fb9f3a"
            ],
            [
             0.8888888888888888,
             "#fdca26"
            ],
            [
             1,
             "#f0f921"
            ]
           ]
          },
          "colorway": [
           "#636efa",
           "#EF553B",
           "#00cc96",
           "#ab63fa",
           "#FFA15A",
           "#19d3f3",
           "#FF6692",
           "#B6E880",
           "#FF97FF",
           "#FECB52"
          ],
          "font": {
           "color": "#2a3f5f"
          },
          "geo": {
           "bgcolor": "white",
           "lakecolor": "white",
           "landcolor": "#E5ECF6",
           "showlakes": true,
           "showland": true,
           "subunitcolor": "white"
          },
          "hoverlabel": {
           "align": "left"
          },
          "hovermode": "closest",
          "mapbox": {
           "style": "light"
          },
          "paper_bgcolor": "white",
          "plot_bgcolor": "#E5ECF6",
          "polar": {
           "angularaxis": {
            "gridcolor": "white",
            "linecolor": "white",
            "ticks": ""
           },
           "bgcolor": "#E5ECF6",
           "radialaxis": {
            "gridcolor": "white",
            "linecolor": "white",
            "ticks": ""
           }
          },
          "scene": {
           "xaxis": {
            "backgroundcolor": "#E5ECF6",
            "gridcolor": "white",
            "gridwidth": 2,
            "linecolor": "white",
            "showbackground": true,
            "ticks": "",
            "zerolinecolor": "white"
           },
           "yaxis": {
            "backgroundcolor": "#E5ECF6",
            "gridcolor": "white",
            "gridwidth": 2,
            "linecolor": "white",
            "showbackground": true,
            "ticks": "",
            "zerolinecolor": "white"
           },
           "zaxis": {
            "backgroundcolor": "#E5ECF6",
            "gridcolor": "white",
            "gridwidth": 2,
            "linecolor": "white",
            "showbackground": true,
            "ticks": "",
            "zerolinecolor": "white"
           }
          },
          "shapedefaults": {
           "line": {
            "color": "#2a3f5f"
           }
          },
          "ternary": {
           "aaxis": {
            "gridcolor": "white",
            "linecolor": "white",
            "ticks": ""
           },
           "baxis": {
            "gridcolor": "white",
            "linecolor": "white",
            "ticks": ""
           },
           "bgcolor": "#E5ECF6",
           "caxis": {
            "gridcolor": "white",
            "linecolor": "white",
            "ticks": ""
           }
          },
          "title": {
           "x": 0.05
          },
          "xaxis": {
           "automargin": true,
           "gridcolor": "white",
           "linecolor": "white",
           "ticks": "",
           "title": {
            "standoff": 15
           },
           "zerolinecolor": "white",
           "zerolinewidth": 2
          },
          "yaxis": {
           "automargin": true,
           "gridcolor": "white",
           "linecolor": "white",
           "ticks": "",
           "title": {
            "standoff": 15
           },
           "zerolinecolor": "white",
           "zerolinewidth": 2
          }
         }
        },
        "width": 800,
        "xaxis": {
         "title": {
          "text": "Concentrazione [μM]"
         }
        },
        "yaxis": {
         "title": {
          "text": "θ (fit)"
         }
        }
       }
      }
     },
     "metadata": {},
     "output_type": "display_data"
    }
   ],
   "source": [
    "fig = go.Figure()\n",
    "\n",
    "C_plot = np.linspace(concentrazioni.min(), concentrazioni.max(), 200)\n",
    "\n",
    "for idx, row in fit_df.iterrows():\n",
    "    yN = row['yN']#spettro_ristretto.loc[0, row['λ']]\n",
    "    yD = row['yD'] #spettro_ristretto.loc[5, row['λ']]\n",
    "    # print(yN, yD)\n",
    "\n",
    "    m = row['m']\n",
    "    Cmid = row['Cmid']\n",
    "    θ_fit = sigmoid(C_plot, m, Cmid, yN, yD)\n",
    "    # Fit line\n",
    "    fig.add_trace(go.Scatter(\n",
    "        x=C_plot,\n",
    "        y=θ_fit,\n",
    "        mode='lines',\n",
    "        line=dict(color=colors[idx]),\n",
    "        name=f\"Fit {int(row['λ'])} nm\"\n",
    "    ))\n",
    "    # Experimental points\n",
    "    fig.add_trace(go.Scatter(\n",
    "        x=spettro_ristretto['Concentrazione'],\n",
    "        y=spettro_ristretto[row['λ']],\n",
    "        mode='markers',\n",
    "        marker=dict(color=colors[idx]),\n",
    "        name=f\"Exp {int(row['λ'])} nm\",\n",
    "        showlegend=False\n",
    "    ))\n",
    "\n",
    "fig.update_layout(\n",
    "    xaxis_title='Concentrazione [μM]',\n",
    "    yaxis_title='θ (fit)',\n",
    "    legend_title='λ [nm]',\n",
    "    height=600,\n",
    "    width=800,\n",
    "    legend=dict(\n",
    "        x=1,\n",
    "        y=0,\n",
    "        xanchor='right',\n",
    "        yanchor='bottom'\n",
    "    )\n",
    ")\n",
    "\n",
    "fig.show()"
   ]
  },
  {
   "cell_type": "code",
   "execution_count": 12,
   "id": "2b6fc423",
   "metadata": {},
   "outputs": [
    {
     "data": {
      "application/vnd.plotly.v1+json": {
       "config": {
        "plotlyServerURL": "https://plot.ly"
       },
       "data": [
        {
         "error_y": {
          "array": {
           "bdata": "8Z73Kzya0z9FEqo/gDPTP7p9FmH91dU/evnjmVVJ1D/e0Io0cRDUP7MiIpv4xdY/vR92LYLT1T9x8yrfxF/XP8H1cI/OS9Q/Bqqx+8J21T80wwGDTF/TPw==",
           "dtype": "f8"
          },
          "type": "data",
          "visible": true
         },
         "mode": "markers",
         "name": "Cmid",
         "type": "scatter",
         "x": {
          "bdata": "5gDlAOQA4wDiAOEA4ADfAN4A3QDcAA==",
          "dtype": "i2"
         },
         "y": {
          "bdata": "b+7CXZcj9T/UQKClWnb0PwALkUnC8PM/0ixIWZ659D/jdXf9XKPzP0VRiN7RwPI/DSwBRWZ/8j+rUrc/e83xPyWY2+F0sPI//oGvbBCu8T8YXlfVILbyPw==",
          "dtype": "f8"
         }
        },
        {
         "line": {
          "color": "red",
          "dash": "dash"
         },
         "mode": "lines",
         "name": "Mean Cmid",
         "type": "scatter",
         "x": {
          "bdata": "2wDmAOUA5ADjAOIA4QDgAN8A3gDdANwA5wA=",
          "dtype": "i2"
         },
         "y": [
          1.210027295373582,
          1.210027295373582,
          1.210027295373582,
          1.210027295373582,
          1.210027295373582,
          1.210027295373582,
          1.210027295373582,
          1.210027295373582,
          1.210027295373582,
          1.210027295373582,
          1.210027295373582,
          1.210027295373582,
          1.210027295373582
         ]
        },
        {
         "line": {
          "color": "red",
          "width": 0
         },
         "mode": "lines",
         "showlegend": false,
         "type": "scatter",
         "x": {
          "bdata": "2wDmAOUA5ADjAOIA4QDgAN8A3gDdANwA5wA=",
          "dtype": "i2"
         },
         "y": [
          1.139930009887138,
          1.139930009887138,
          1.139930009887138,
          1.139930009887138,
          1.139930009887138,
          1.139930009887138,
          1.139930009887138,
          1.139930009887138,
          1.139930009887138,
          1.139930009887138,
          1.139930009887138,
          1.139930009887138,
          1.139930009887138
         ]
        },
        {
         "fill": "tonexty",
         "fillcolor": "rgba(255,0,0,0.2)",
         "line": {
          "color": "red",
          "width": 0
         },
         "mode": "lines",
         "name": "Mean ± SEM",
         "type": "scatter",
         "x": {
          "bdata": "2wDmAOUA5ADjAOIA4QDgAN8A3gDdANwA5wA=",
          "dtype": "i2"
         },
         "y": [
          1.280124580860026,
          1.280124580860026,
          1.280124580860026,
          1.280124580860026,
          1.280124580860026,
          1.280124580860026,
          1.280124580860026,
          1.280124580860026,
          1.280124580860026,
          1.280124580860026,
          1.280124580860026,
          1.280124580860026,
          1.280124580860026
         ]
        }
       ],
       "layout": {
        "legend": {
         "title": {
          "text": "Legend"
         },
         "x": 1,
         "xanchor": "right",
         "y": 1,
         "yanchor": "top"
        },
        "template": {
         "data": {
          "bar": [
           {
            "error_x": {
             "color": "#2a3f5f"
            },
            "error_y": {
             "color": "#2a3f5f"
            },
            "marker": {
             "line": {
              "color": "#E5ECF6",
              "width": 0.5
             },
             "pattern": {
              "fillmode": "overlay",
              "size": 10,
              "solidity": 0.2
             }
            },
            "type": "bar"
           }
          ],
          "barpolar": [
           {
            "marker": {
             "line": {
              "color": "#E5ECF6",
              "width": 0.5
             },
             "pattern": {
              "fillmode": "overlay",
              "size": 10,
              "solidity": 0.2
             }
            },
            "type": "barpolar"
           }
          ],
          "carpet": [
           {
            "aaxis": {
             "endlinecolor": "#2a3f5f",
             "gridcolor": "white",
             "linecolor": "white",
             "minorgridcolor": "white",
             "startlinecolor": "#2a3f5f"
            },
            "baxis": {
             "endlinecolor": "#2a3f5f",
             "gridcolor": "white",
             "linecolor": "white",
             "minorgridcolor": "white",
             "startlinecolor": "#2a3f5f"
            },
            "type": "carpet"
           }
          ],
          "choropleth": [
           {
            "colorbar": {
             "outlinewidth": 0,
             "ticks": ""
            },
            "type": "choropleth"
           }
          ],
          "contour": [
           {
            "colorbar": {
             "outlinewidth": 0,
             "ticks": ""
            },
            "colorscale": [
             [
              0,
              "#0d0887"
             ],
             [
              0.1111111111111111,
              "#46039f"
             ],
             [
              0.2222222222222222,
              "#7201a8"
             ],
             [
              0.3333333333333333,
              "#9c179e"
             ],
             [
              0.4444444444444444,
              "#bd3786"
             ],
             [
              0.5555555555555556,
              "#d8576b"
             ],
             [
              0.6666666666666666,
              "#ed7953"
             ],
             [
              0.7777777777777778,
              "#fb9f3a"
             ],
             [
              0.8888888888888888,
              "#fdca26"
             ],
             [
              1,
              "#f0f921"
             ]
            ],
            "type": "contour"
           }
          ],
          "contourcarpet": [
           {
            "colorbar": {
             "outlinewidth": 0,
             "ticks": ""
            },
            "type": "contourcarpet"
           }
          ],
          "heatmap": [
           {
            "colorbar": {
             "outlinewidth": 0,
             "ticks": ""
            },
            "colorscale": [
             [
              0,
              "#0d0887"
             ],
             [
              0.1111111111111111,
              "#46039f"
             ],
             [
              0.2222222222222222,
              "#7201a8"
             ],
             [
              0.3333333333333333,
              "#9c179e"
             ],
             [
              0.4444444444444444,
              "#bd3786"
             ],
             [
              0.5555555555555556,
              "#d8576b"
             ],
             [
              0.6666666666666666,
              "#ed7953"
             ],
             [
              0.7777777777777778,
              "#fb9f3a"
             ],
             [
              0.8888888888888888,
              "#fdca26"
             ],
             [
              1,
              "#f0f921"
             ]
            ],
            "type": "heatmap"
           }
          ],
          "histogram": [
           {
            "marker": {
             "pattern": {
              "fillmode": "overlay",
              "size": 10,
              "solidity": 0.2
             }
            },
            "type": "histogram"
           }
          ],
          "histogram2d": [
           {
            "colorbar": {
             "outlinewidth": 0,
             "ticks": ""
            },
            "colorscale": [
             [
              0,
              "#0d0887"
             ],
             [
              0.1111111111111111,
              "#46039f"
             ],
             [
              0.2222222222222222,
              "#7201a8"
             ],
             [
              0.3333333333333333,
              "#9c179e"
             ],
             [
              0.4444444444444444,
              "#bd3786"
             ],
             [
              0.5555555555555556,
              "#d8576b"
             ],
             [
              0.6666666666666666,
              "#ed7953"
             ],
             [
              0.7777777777777778,
              "#fb9f3a"
             ],
             [
              0.8888888888888888,
              "#fdca26"
             ],
             [
              1,
              "#f0f921"
             ]
            ],
            "type": "histogram2d"
           }
          ],
          "histogram2dcontour": [
           {
            "colorbar": {
             "outlinewidth": 0,
             "ticks": ""
            },
            "colorscale": [
             [
              0,
              "#0d0887"
             ],
             [
              0.1111111111111111,
              "#46039f"
             ],
             [
              0.2222222222222222,
              "#7201a8"
             ],
             [
              0.3333333333333333,
              "#9c179e"
             ],
             [
              0.4444444444444444,
              "#bd3786"
             ],
             [
              0.5555555555555556,
              "#d8576b"
             ],
             [
              0.6666666666666666,
              "#ed7953"
             ],
             [
              0.7777777777777778,
              "#fb9f3a"
             ],
             [
              0.8888888888888888,
              "#fdca26"
             ],
             [
              1,
              "#f0f921"
             ]
            ],
            "type": "histogram2dcontour"
           }
          ],
          "mesh3d": [
           {
            "colorbar": {
             "outlinewidth": 0,
             "ticks": ""
            },
            "type": "mesh3d"
           }
          ],
          "parcoords": [
           {
            "line": {
             "colorbar": {
              "outlinewidth": 0,
              "ticks": ""
             }
            },
            "type": "parcoords"
           }
          ],
          "pie": [
           {
            "automargin": true,
            "type": "pie"
           }
          ],
          "scatter": [
           {
            "fillpattern": {
             "fillmode": "overlay",
             "size": 10,
             "solidity": 0.2
            },
            "type": "scatter"
           }
          ],
          "scatter3d": [
           {
            "line": {
             "colorbar": {
              "outlinewidth": 0,
              "ticks": ""
             }
            },
            "marker": {
             "colorbar": {
              "outlinewidth": 0,
              "ticks": ""
             }
            },
            "type": "scatter3d"
           }
          ],
          "scattercarpet": [
           {
            "marker": {
             "colorbar": {
              "outlinewidth": 0,
              "ticks": ""
             }
            },
            "type": "scattercarpet"
           }
          ],
          "scattergeo": [
           {
            "marker": {
             "colorbar": {
              "outlinewidth": 0,
              "ticks": ""
             }
            },
            "type": "scattergeo"
           }
          ],
          "scattergl": [
           {
            "marker": {
             "colorbar": {
              "outlinewidth": 0,
              "ticks": ""
             }
            },
            "type": "scattergl"
           }
          ],
          "scattermap": [
           {
            "marker": {
             "colorbar": {
              "outlinewidth": 0,
              "ticks": ""
             }
            },
            "type": "scattermap"
           }
          ],
          "scattermapbox": [
           {
            "marker": {
             "colorbar": {
              "outlinewidth": 0,
              "ticks": ""
             }
            },
            "type": "scattermapbox"
           }
          ],
          "scatterpolar": [
           {
            "marker": {
             "colorbar": {
              "outlinewidth": 0,
              "ticks": ""
             }
            },
            "type": "scatterpolar"
           }
          ],
          "scatterpolargl": [
           {
            "marker": {
             "colorbar": {
              "outlinewidth": 0,
              "ticks": ""
             }
            },
            "type": "scatterpolargl"
           }
          ],
          "scatterternary": [
           {
            "marker": {
             "colorbar": {
              "outlinewidth": 0,
              "ticks": ""
             }
            },
            "type": "scatterternary"
           }
          ],
          "surface": [
           {
            "colorbar": {
             "outlinewidth": 0,
             "ticks": ""
            },
            "colorscale": [
             [
              0,
              "#0d0887"
             ],
             [
              0.1111111111111111,
              "#46039f"
             ],
             [
              0.2222222222222222,
              "#7201a8"
             ],
             [
              0.3333333333333333,
              "#9c179e"
             ],
             [
              0.4444444444444444,
              "#bd3786"
             ],
             [
              0.5555555555555556,
              "#d8576b"
             ],
             [
              0.6666666666666666,
              "#ed7953"
             ],
             [
              0.7777777777777778,
              "#fb9f3a"
             ],
             [
              0.8888888888888888,
              "#fdca26"
             ],
             [
              1,
              "#f0f921"
             ]
            ],
            "type": "surface"
           }
          ],
          "table": [
           {
            "cells": {
             "fill": {
              "color": "#EBF0F8"
             },
             "line": {
              "color": "white"
             }
            },
            "header": {
             "fill": {
              "color": "#C8D4E3"
             },
             "line": {
              "color": "white"
             }
            },
            "type": "table"
           }
          ]
         },
         "layout": {
          "annotationdefaults": {
           "arrowcolor": "#2a3f5f",
           "arrowhead": 0,
           "arrowwidth": 1
          },
          "autotypenumbers": "strict",
          "coloraxis": {
           "colorbar": {
            "outlinewidth": 0,
            "ticks": ""
           }
          },
          "colorscale": {
           "diverging": [
            [
             0,
             "#8e0152"
            ],
            [
             0.1,
             "#c51b7d"
            ],
            [
             0.2,
             "#de77ae"
            ],
            [
             0.3,
             "#f1b6da"
            ],
            [
             0.4,
             "#fde0ef"
            ],
            [
             0.5,
             "#f7f7f7"
            ],
            [
             0.6,
             "#e6f5d0"
            ],
            [
             0.7,
             "#b8e186"
            ],
            [
             0.8,
             "#7fbc41"
            ],
            [
             0.9,
             "#4d9221"
            ],
            [
             1,
             "#276419"
            ]
           ],
           "sequential": [
            [
             0,
             "#0d0887"
            ],
            [
             0.1111111111111111,
             "#46039f"
            ],
            [
             0.2222222222222222,
             "#7201a8"
            ],
            [
             0.3333333333333333,
             "#9c179e"
            ],
            [
             0.4444444444444444,
             "#bd3786"
            ],
            [
             0.5555555555555556,
             "#d8576b"
            ],
            [
             0.6666666666666666,
             "#ed7953"
            ],
            [
             0.7777777777777778,
             "#fb9f3a"
            ],
            [
             0.8888888888888888,
             "#fdca26"
            ],
            [
             1,
             "#f0f921"
            ]
           ],
           "sequentialminus": [
            [
             0,
             "#0d0887"
            ],
            [
             0.1111111111111111,
             "#46039f"
            ],
            [
             0.2222222222222222,
             "#7201a8"
            ],
            [
             0.3333333333333333,
             "#9c179e"
            ],
            [
             0.4444444444444444,
             "#bd3786"
            ],
            [
             0.5555555555555556,
             "#d8576b"
            ],
            [
             0.6666666666666666,
             "#ed7953"
            ],
            [
             0.7777777777777778,
             "#fb9f3a"
            ],
            [
             0.8888888888888888,
             "#fdca26"
            ],
            [
             1,
             "#f0f921"
            ]
           ]
          },
          "colorway": [
           "#636efa",
           "#EF553B",
           "#00cc96",
           "#ab63fa",
           "#FFA15A",
           "#19d3f3",
           "#FF6692",
           "#B6E880",
           "#FF97FF",
           "#FECB52"
          ],
          "font": {
           "color": "#2a3f5f"
          },
          "geo": {
           "bgcolor": "white",
           "lakecolor": "white",
           "landcolor": "#E5ECF6",
           "showlakes": true,
           "showland": true,
           "subunitcolor": "white"
          },
          "hoverlabel": {
           "align": "left"
          },
          "hovermode": "closest",
          "mapbox": {
           "style": "light"
          },
          "paper_bgcolor": "white",
          "plot_bgcolor": "#E5ECF6",
          "polar": {
           "angularaxis": {
            "gridcolor": "white",
            "linecolor": "white",
            "ticks": ""
           },
           "bgcolor": "#E5ECF6",
           "radialaxis": {
            "gridcolor": "white",
            "linecolor": "white",
            "ticks": ""
           }
          },
          "scene": {
           "xaxis": {
            "backgroundcolor": "#E5ECF6",
            "gridcolor": "white",
            "gridwidth": 2,
            "linecolor": "white",
            "showbackground": true,
            "ticks": "",
            "zerolinecolor": "white"
           },
           "yaxis": {
            "backgroundcolor": "#E5ECF6",
            "gridcolor": "white",
            "gridwidth": 2,
            "linecolor": "white",
            "showbackground": true,
            "ticks": "",
            "zerolinecolor": "white"
           },
           "zaxis": {
            "backgroundcolor": "#E5ECF6",
            "gridcolor": "white",
            "gridwidth": 2,
            "linecolor": "white",
            "showbackground": true,
            "ticks": "",
            "zerolinecolor": "white"
           }
          },
          "shapedefaults": {
           "line": {
            "color": "#2a3f5f"
           }
          },
          "ternary": {
           "aaxis": {
            "gridcolor": "white",
            "linecolor": "white",
            "ticks": ""
           },
           "baxis": {
            "gridcolor": "white",
            "linecolor": "white",
            "ticks": ""
           },
           "bgcolor": "#E5ECF6",
           "caxis": {
            "gridcolor": "white",
            "linecolor": "white",
            "ticks": ""
           }
          },
          "title": {
           "x": 0.05
          },
          "xaxis": {
           "automargin": true,
           "gridcolor": "white",
           "linecolor": "white",
           "ticks": "",
           "title": {
            "standoff": 15
           },
           "zerolinecolor": "white",
           "zerolinewidth": 2
          },
          "yaxis": {
           "automargin": true,
           "gridcolor": "white",
           "linecolor": "white",
           "ticks": "",
           "title": {
            "standoff": 15
           },
           "zerolinecolor": "white",
           "zerolinewidth": 2
          }
         }
        },
        "xaxis": {
         "title": {
          "text": "λ [nm]"
         }
        },
        "yaxis": {
         "range": [
          0,
          2
         ],
         "title": {
          "text": "Cmid"
         }
        }
       }
      }
     },
     "metadata": {},
     "output_type": "display_data"
    }
   ],
   "source": [
    "# Extract Cmid and its error\n",
    "Cmid_values = fit_df['Cmid']\n",
    "Cmid_errors = fit_df['Cmid_err']\n",
    "\n",
    "# Compute mean and standard error of the mean\n",
    "weights = 1/Cmid_errors**2\n",
    "mean_Cmid = np.average(Cmid_values, weights=weights)\n",
    "mean_Cmid_err = np.sqrt(np.sum(weights*((Cmid_values-mean_Cmid)**2))/np.sum(weights))\n",
    "\n",
    "\n",
    "\n",
    "fig = go.Figure()\n",
    "\n",
    "# markers\n",
    "fig.add_trace(go.Scatter(\n",
    "    x=fit_df['λ'],\n",
    "    y=Cmid_values,\n",
    "    error_y=dict(type='data', array=Cmid_errors, visible=True),\n",
    "    mode='markers',\n",
    "    name='Cmid'\n",
    "))\n",
    "\n",
    "mean_line_points = np.concatenate([[219],fit_df['λ'],[231]])\n",
    "# mean dashed line\n",
    "fig.add_trace(go.Scatter(\n",
    "    x= mean_line_points,\n",
    "    y=[mean_Cmid]*len(mean_line_points),\n",
    "    mode='lines',\n",
    "    line=dict(color='red', dash='dash'),\n",
    "    name='Mean Cmid'\n",
    "))\n",
    "\n",
    "# bottom\n",
    "fig.add_trace(go.Scatter(\n",
    "    x=mean_line_points,\n",
    "    y=[mean_Cmid - mean_Cmid_err]*len(mean_line_points),\n",
    "    mode='lines',\n",
    "    line=dict(color='red', width=0),\n",
    "    showlegend=False\n",
    "))\n",
    "#top\n",
    "fig.add_trace(go.Scatter(\n",
    "    x=mean_line_points,\n",
    "    y=[mean_Cmid + mean_Cmid_err]*len(mean_line_points),\n",
    "    mode='lines',\n",
    "    fill='tonexty',\n",
    "    fillcolor='rgba(255,0,0,0.2)',\n",
    "    line=dict(color='red', width=0),\n",
    "    name='Mean ± SEM'\n",
    "))\n",
    "\n",
    "fig.update_layout(\n",
    "    xaxis_title='λ [nm]',\n",
    "    yaxis_title='Cmid',\n",
    "    # title='Cmid vs λ with Mean and SEM',\n",
    "    legend_title='Legend',\n",
    "    yaxis=dict(range=[0, 2]),\n",
    "    legend=dict(\n",
    "        x=1,\n",
    "        y=1,\n",
    "        xanchor='right',\n",
    "        yanchor='top'\n",
    "    )\n",
    ")\n",
    "\n",
    "fig.show()"
   ]
  },
  {
   "cell_type": "code",
   "execution_count": 13,
   "id": "7fe6c783",
   "metadata": {},
   "outputs": [
    {
     "data": {
      "application/vnd.plotly.v1+json": {
       "config": {
        "plotlyServerURL": "https://plot.ly"
       },
       "data": [
        {
         "error_y": {
          "array": {
           "bdata": "TgzTK9wJdEAGqPO3TwtzQDANaxk63XRAvu954GlldEA3U++CabdyQKBQYk9Jf3NA4kZtOapbckD/jqbkE99yQKAjSqrfk3FAlgaZLTkzcUCw69yiX2VxQA==",
           "dtype": "f8"
          },
          "type": "data",
          "visible": true
         },
         "mode": "markers",
         "name": "m",
         "type": "scatter",
         "x": {
          "bdata": "5gDlAOQA4wDiAOEA4ADfAN4A3QDcAA==",
          "dtype": "i2"
         },
         "y": {
          "bdata": "e9KrgcnFoECRr6KHdrSgQLczFc/UjaBA9worlJS+oECvikQDRnOgQHY7PdeeCaBA8gQeSebvn0DETMnGqKqfQPwV3iolIqBAJhFKwG6dn0B6hjr3BWOgQA==",
          "dtype": "f8"
         }
        },
        {
         "line": {
          "color": "red",
          "dash": "dash"
         },
         "mode": "lines",
         "name": "Mean m",
         "type": "scatter",
         "x": {
          "bdata": "2wDmAOUA5ADjAOIA4QDgAN8A3gDdANwA5wA=",
          "dtype": "i2"
         },
         "y": [
          2084.233249458476,
          2084.233249458476,
          2084.233249458476,
          2084.233249458476,
          2084.233249458476,
          2084.233249458476,
          2084.233249458476,
          2084.233249458476,
          2084.233249458476,
          2084.233249458476,
          2084.233249458476,
          2084.233249458476,
          2084.233249458476
         ]
        },
        {
         "line": {
          "color": "red",
          "width": 0
         },
         "mode": "lines",
         "showlegend": false,
         "type": "scatter",
         "x": {
          "bdata": "2wDmAOUA5ADjAOIA4QDgAN8A3gDdANwA5wA=",
          "dtype": "i2"
         },
         "y": [
          2039.8646952127997,
          2039.8646952127997,
          2039.8646952127997,
          2039.8646952127997,
          2039.8646952127997,
          2039.8646952127997,
          2039.8646952127997,
          2039.8646952127997,
          2039.8646952127997,
          2039.8646952127997,
          2039.8646952127997,
          2039.8646952127997,
          2039.8646952127997
         ]
        },
        {
         "fill": "tonexty",
         "fillcolor": "rgba(255,0,0,0.2)",
         "line": {
          "color": "red",
          "width": 0
         },
         "mode": "lines",
         "name": "Mean ± SEM",
         "type": "scatter",
         "x": {
          "bdata": "2wDmAOUA5ADjAOIA4QDgAN8A3gDdANwA5wA=",
          "dtype": "i2"
         },
         "y": [
          2128.6018037041526,
          2128.6018037041526,
          2128.6018037041526,
          2128.6018037041526,
          2128.6018037041526,
          2128.6018037041526,
          2128.6018037041526,
          2128.6018037041526,
          2128.6018037041526,
          2128.6018037041526,
          2128.6018037041526,
          2128.6018037041526,
          2128.6018037041526
         ]
        }
       ],
       "layout": {
        "legend": {
         "title": {
          "text": "Legend"
         },
         "x": 1,
         "xanchor": "right",
         "y": 1,
         "yanchor": "top"
        },
        "template": {
         "data": {
          "bar": [
           {
            "error_x": {
             "color": "#2a3f5f"
            },
            "error_y": {
             "color": "#2a3f5f"
            },
            "marker": {
             "line": {
              "color": "#E5ECF6",
              "width": 0.5
             },
             "pattern": {
              "fillmode": "overlay",
              "size": 10,
              "solidity": 0.2
             }
            },
            "type": "bar"
           }
          ],
          "barpolar": [
           {
            "marker": {
             "line": {
              "color": "#E5ECF6",
              "width": 0.5
             },
             "pattern": {
              "fillmode": "overlay",
              "size": 10,
              "solidity": 0.2
             }
            },
            "type": "barpolar"
           }
          ],
          "carpet": [
           {
            "aaxis": {
             "endlinecolor": "#2a3f5f",
             "gridcolor": "white",
             "linecolor": "white",
             "minorgridcolor": "white",
             "startlinecolor": "#2a3f5f"
            },
            "baxis": {
             "endlinecolor": "#2a3f5f",
             "gridcolor": "white",
             "linecolor": "white",
             "minorgridcolor": "white",
             "startlinecolor": "#2a3f5f"
            },
            "type": "carpet"
           }
          ],
          "choropleth": [
           {
            "colorbar": {
             "outlinewidth": 0,
             "ticks": ""
            },
            "type": "choropleth"
           }
          ],
          "contour": [
           {
            "colorbar": {
             "outlinewidth": 0,
             "ticks": ""
            },
            "colorscale": [
             [
              0,
              "#0d0887"
             ],
             [
              0.1111111111111111,
              "#46039f"
             ],
             [
              0.2222222222222222,
              "#7201a8"
             ],
             [
              0.3333333333333333,
              "#9c179e"
             ],
             [
              0.4444444444444444,
              "#bd3786"
             ],
             [
              0.5555555555555556,
              "#d8576b"
             ],
             [
              0.6666666666666666,
              "#ed7953"
             ],
             [
              0.7777777777777778,
              "#fb9f3a"
             ],
             [
              0.8888888888888888,
              "#fdca26"
             ],
             [
              1,
              "#f0f921"
             ]
            ],
            "type": "contour"
           }
          ],
          "contourcarpet": [
           {
            "colorbar": {
             "outlinewidth": 0,
             "ticks": ""
            },
            "type": "contourcarpet"
           }
          ],
          "heatmap": [
           {
            "colorbar": {
             "outlinewidth": 0,
             "ticks": ""
            },
            "colorscale": [
             [
              0,
              "#0d0887"
             ],
             [
              0.1111111111111111,
              "#46039f"
             ],
             [
              0.2222222222222222,
              "#7201a8"
             ],
             [
              0.3333333333333333,
              "#9c179e"
             ],
             [
              0.4444444444444444,
              "#bd3786"
             ],
             [
              0.5555555555555556,
              "#d8576b"
             ],
             [
              0.6666666666666666,
              "#ed7953"
             ],
             [
              0.7777777777777778,
              "#fb9f3a"
             ],
             [
              0.8888888888888888,
              "#fdca26"
             ],
             [
              1,
              "#f0f921"
             ]
            ],
            "type": "heatmap"
           }
          ],
          "histogram": [
           {
            "marker": {
             "pattern": {
              "fillmode": "overlay",
              "size": 10,
              "solidity": 0.2
             }
            },
            "type": "histogram"
           }
          ],
          "histogram2d": [
           {
            "colorbar": {
             "outlinewidth": 0,
             "ticks": ""
            },
            "colorscale": [
             [
              0,
              "#0d0887"
             ],
             [
              0.1111111111111111,
              "#46039f"
             ],
             [
              0.2222222222222222,
              "#7201a8"
             ],
             [
              0.3333333333333333,
              "#9c179e"
             ],
             [
              0.4444444444444444,
              "#bd3786"
             ],
             [
              0.5555555555555556,
              "#d8576b"
             ],
             [
              0.6666666666666666,
              "#ed7953"
             ],
             [
              0.7777777777777778,
              "#fb9f3a"
             ],
             [
              0.8888888888888888,
              "#fdca26"
             ],
             [
              1,
              "#f0f921"
             ]
            ],
            "type": "histogram2d"
           }
          ],
          "histogram2dcontour": [
           {
            "colorbar": {
             "outlinewidth": 0,
             "ticks": ""
            },
            "colorscale": [
             [
              0,
              "#0d0887"
             ],
             [
              0.1111111111111111,
              "#46039f"
             ],
             [
              0.2222222222222222,
              "#7201a8"
             ],
             [
              0.3333333333333333,
              "#9c179e"
             ],
             [
              0.4444444444444444,
              "#bd3786"
             ],
             [
              0.5555555555555556,
              "#d8576b"
             ],
             [
              0.6666666666666666,
              "#ed7953"
             ],
             [
              0.7777777777777778,
              "#fb9f3a"
             ],
             [
              0.8888888888888888,
              "#fdca26"
             ],
             [
              1,
              "#f0f921"
             ]
            ],
            "type": "histogram2dcontour"
           }
          ],
          "mesh3d": [
           {
            "colorbar": {
             "outlinewidth": 0,
             "ticks": ""
            },
            "type": "mesh3d"
           }
          ],
          "parcoords": [
           {
            "line": {
             "colorbar": {
              "outlinewidth": 0,
              "ticks": ""
             }
            },
            "type": "parcoords"
           }
          ],
          "pie": [
           {
            "automargin": true,
            "type": "pie"
           }
          ],
          "scatter": [
           {
            "fillpattern": {
             "fillmode": "overlay",
             "size": 10,
             "solidity": 0.2
            },
            "type": "scatter"
           }
          ],
          "scatter3d": [
           {
            "line": {
             "colorbar": {
              "outlinewidth": 0,
              "ticks": ""
             }
            },
            "marker": {
             "colorbar": {
              "outlinewidth": 0,
              "ticks": ""
             }
            },
            "type": "scatter3d"
           }
          ],
          "scattercarpet": [
           {
            "marker": {
             "colorbar": {
              "outlinewidth": 0,
              "ticks": ""
             }
            },
            "type": "scattercarpet"
           }
          ],
          "scattergeo": [
           {
            "marker": {
             "colorbar": {
              "outlinewidth": 0,
              "ticks": ""
             }
            },
            "type": "scattergeo"
           }
          ],
          "scattergl": [
           {
            "marker": {
             "colorbar": {
              "outlinewidth": 0,
              "ticks": ""
             }
            },
            "type": "scattergl"
           }
          ],
          "scattermap": [
           {
            "marker": {
             "colorbar": {
              "outlinewidth": 0,
              "ticks": ""
             }
            },
            "type": "scattermap"
           }
          ],
          "scattermapbox": [
           {
            "marker": {
             "colorbar": {
              "outlinewidth": 0,
              "ticks": ""
             }
            },
            "type": "scattermapbox"
           }
          ],
          "scatterpolar": [
           {
            "marker": {
             "colorbar": {
              "outlinewidth": 0,
              "ticks": ""
             }
            },
            "type": "scatterpolar"
           }
          ],
          "scatterpolargl": [
           {
            "marker": {
             "colorbar": {
              "outlinewidth": 0,
              "ticks": ""
             }
            },
            "type": "scatterpolargl"
           }
          ],
          "scatterternary": [
           {
            "marker": {
             "colorbar": {
              "outlinewidth": 0,
              "ticks": ""
             }
            },
            "type": "scatterternary"
           }
          ],
          "surface": [
           {
            "colorbar": {
             "outlinewidth": 0,
             "ticks": ""
            },
            "colorscale": [
             [
              0,
              "#0d0887"
             ],
             [
              0.1111111111111111,
              "#46039f"
             ],
             [
              0.2222222222222222,
              "#7201a8"
             ],
             [
              0.3333333333333333,
              "#9c179e"
             ],
             [
              0.4444444444444444,
              "#bd3786"
             ],
             [
              0.5555555555555556,
              "#d8576b"
             ],
             [
              0.6666666666666666,
              "#ed7953"
             ],
             [
              0.7777777777777778,
              "#fb9f3a"
             ],
             [
              0.8888888888888888,
              "#fdca26"
             ],
             [
              1,
              "#f0f921"
             ]
            ],
            "type": "surface"
           }
          ],
          "table": [
           {
            "cells": {
             "fill": {
              "color": "#EBF0F8"
             },
             "line": {
              "color": "white"
             }
            },
            "header": {
             "fill": {
              "color": "#C8D4E3"
             },
             "line": {
              "color": "white"
             }
            },
            "type": "table"
           }
          ]
         },
         "layout": {
          "annotationdefaults": {
           "arrowcolor": "#2a3f5f",
           "arrowhead": 0,
           "arrowwidth": 1
          },
          "autotypenumbers": "strict",
          "coloraxis": {
           "colorbar": {
            "outlinewidth": 0,
            "ticks": ""
           }
          },
          "colorscale": {
           "diverging": [
            [
             0,
             "#8e0152"
            ],
            [
             0.1,
             "#c51b7d"
            ],
            [
             0.2,
             "#de77ae"
            ],
            [
             0.3,
             "#f1b6da"
            ],
            [
             0.4,
             "#fde0ef"
            ],
            [
             0.5,
             "#f7f7f7"
            ],
            [
             0.6,
             "#e6f5d0"
            ],
            [
             0.7,
             "#b8e186"
            ],
            [
             0.8,
             "#7fbc41"
            ],
            [
             0.9,
             "#4d9221"
            ],
            [
             1,
             "#276419"
            ]
           ],
           "sequential": [
            [
             0,
             "#0d0887"
            ],
            [
             0.1111111111111111,
             "#46039f"
            ],
            [
             0.2222222222222222,
             "#7201a8"
            ],
            [
             0.3333333333333333,
             "#9c179e"
            ],
            [
             0.4444444444444444,
             "#bd3786"
            ],
            [
             0.5555555555555556,
             "#d8576b"
            ],
            [
             0.6666666666666666,
             "#ed7953"
            ],
            [
             0.7777777777777778,
             "#fb9f3a"
            ],
            [
             0.8888888888888888,
             "#fdca26"
            ],
            [
             1,
             "#f0f921"
            ]
           ],
           "sequentialminus": [
            [
             0,
             "#0d0887"
            ],
            [
             0.1111111111111111,
             "#46039f"
            ],
            [
             0.2222222222222222,
             "#7201a8"
            ],
            [
             0.3333333333333333,
             "#9c179e"
            ],
            [
             0.4444444444444444,
             "#bd3786"
            ],
            [
             0.5555555555555556,
             "#d8576b"
            ],
            [
             0.6666666666666666,
             "#ed7953"
            ],
            [
             0.7777777777777778,
             "#fb9f3a"
            ],
            [
             0.8888888888888888,
             "#fdca26"
            ],
            [
             1,
             "#f0f921"
            ]
           ]
          },
          "colorway": [
           "#636efa",
           "#EF553B",
           "#00cc96",
           "#ab63fa",
           "#FFA15A",
           "#19d3f3",
           "#FF6692",
           "#B6E880",
           "#FF97FF",
           "#FECB52"
          ],
          "font": {
           "color": "#2a3f5f"
          },
          "geo": {
           "bgcolor": "white",
           "lakecolor": "white",
           "landcolor": "#E5ECF6",
           "showlakes": true,
           "showland": true,
           "subunitcolor": "white"
          },
          "hoverlabel": {
           "align": "left"
          },
          "hovermode": "closest",
          "mapbox": {
           "style": "light"
          },
          "paper_bgcolor": "white",
          "plot_bgcolor": "#E5ECF6",
          "polar": {
           "angularaxis": {
            "gridcolor": "white",
            "linecolor": "white",
            "ticks": ""
           },
           "bgcolor": "#E5ECF6",
           "radialaxis": {
            "gridcolor": "white",
            "linecolor": "white",
            "ticks": ""
           }
          },
          "scene": {
           "xaxis": {
            "backgroundcolor": "#E5ECF6",
            "gridcolor": "white",
            "gridwidth": 2,
            "linecolor": "white",
            "showbackground": true,
            "ticks": "",
            "zerolinecolor": "white"
           },
           "yaxis": {
            "backgroundcolor": "#E5ECF6",
            "gridcolor": "white",
            "gridwidth": 2,
            "linecolor": "white",
            "showbackground": true,
            "ticks": "",
            "zerolinecolor": "white"
           },
           "zaxis": {
            "backgroundcolor": "#E5ECF6",
            "gridcolor": "white",
            "gridwidth": 2,
            "linecolor": "white",
            "showbackground": true,
            "ticks": "",
            "zerolinecolor": "white"
           }
          },
          "shapedefaults": {
           "line": {
            "color": "#2a3f5f"
           }
          },
          "ternary": {
           "aaxis": {
            "gridcolor": "white",
            "linecolor": "white",
            "ticks": ""
           },
           "baxis": {
            "gridcolor": "white",
            "linecolor": "white",
            "ticks": ""
           },
           "bgcolor": "#E5ECF6",
           "caxis": {
            "gridcolor": "white",
            "linecolor": "white",
            "ticks": ""
           }
          },
          "title": {
           "x": 0.05
          },
          "xaxis": {
           "automargin": true,
           "gridcolor": "white",
           "linecolor": "white",
           "ticks": "",
           "title": {
            "standoff": 15
           },
           "zerolinecolor": "white",
           "zerolinewidth": 2
          },
          "yaxis": {
           "automargin": true,
           "gridcolor": "white",
           "linecolor": "white",
           "ticks": "",
           "title": {
            "standoff": 15
           },
           "zerolinecolor": "white",
           "zerolinewidth": 2
          }
         }
        },
        "xaxis": {
         "title": {
          "text": "λ [nm]"
         }
        },
        "yaxis": {
         "range": [
          0,
          5000
         ],
         "title": {
          "text": "m"
         }
        }
       }
      }
     },
     "metadata": {},
     "output_type": "display_data"
    }
   ],
   "source": [
    "# Extract m and its error\n",
    "m_values = fit_df['m']\n",
    "m_errors = fit_df['m_err']\n",
    "\n",
    "# Compute mean and standard error of the mean\n",
    "weights_m = 1 / m_errors**2\n",
    "mean_m = np.average(m_values, weights=weights_m)\n",
    "mean_m_err = np.sqrt(np.sum(weights_m * ((m_values - mean_m) ** 2)) / np.sum(weights_m))\n",
    "\n",
    "fig = go.Figure()\n",
    "\n",
    "# markers with error bars\n",
    "fig.add_trace(go.Scatter(\n",
    "    x=fit_df['λ'],\n",
    "    y=m_values,\n",
    "    error_y=dict(type='data', array=m_errors, visible=True),\n",
    "    mode='markers',\n",
    "    name='m'\n",
    "))\n",
    "\n",
    "mean_line_points = np.concatenate([[λmin-1], fit_df['λ'], [λmax+1]])\n",
    "# mean dashed line\n",
    "fig.add_trace(go.Scatter(\n",
    "    x=mean_line_points,\n",
    "    y=[mean_m]*len(mean_line_points),\n",
    "    mode='lines',\n",
    "    line=dict(color='red', dash='dash'),\n",
    "    name='Mean m'\n",
    "))\n",
    "\n",
    "# bottom\n",
    "fig.add_trace(go.Scatter(\n",
    "    x=mean_line_points,\n",
    "    y=[mean_m - mean_m_err]*len(mean_line_points),\n",
    "    mode='lines',\n",
    "    line=dict(color='red', width=0),\n",
    "    showlegend=False\n",
    "))\n",
    "# top\n",
    "fig.add_trace(go.Scatter(\n",
    "    x=mean_line_points,\n",
    "    y=[mean_m + mean_m_err]*len(mean_line_points),\n",
    "    mode='lines',\n",
    "    fill='tonexty',\n",
    "    fillcolor='rgba(255,0,0,0.2)',\n",
    "    line=dict(color='red', width=0),\n",
    "    name='Mean ± SEM'\n",
    "))\n",
    "\n",
    "fig.update_layout(\n",
    "    xaxis_title='λ [nm]',\n",
    "    yaxis_title='m',\n",
    "    legend_title='Legend',\n",
    "    yaxis=dict(range=[0, 5000]),\n",
    "    legend=dict(\n",
    "        x=1,\n",
    "        y=1,\n",
    "        xanchor='right',\n",
    "        yanchor='top'\n",
    "    )\n",
    ")\n",
    "\n",
    "fig.show()\n"
   ]
  },
  {
   "cell_type": "code",
   "execution_count": 14,
   "id": "bd2b45ed",
   "metadata": {},
   "outputs": [
    {
     "name": "stdout",
     "output_type": "stream",
     "text": [
      "Cmid:  1.21 ± 0.0701 M\n",
      "m:  2084.23 ± 44.37 LJ/mol2\n",
      "2538.0463510779928 156.64270688139723\n"
     ]
    }
   ],
   "source": [
    "# stampa medie\n",
    "\n",
    "# print(\"Media pesata di Cmid:\", mean_Cmid)\n",
    "# print(\"Errore sulla media pesata di Cmid:\", mean_Cmid_err)\n",
    "# print(\"Media pesata di m:\", mean_A)\n",
    "# print(\"Errore sulla media pesata di m:\", mean_A_err)\n",
    "\n",
    "print('Cmid: ',final_val(mean_Cmid,mean_Cmid_err,4,udm='M'))\n",
    "print('m: ', final_val(mean_m,mean_m_err, udm='LJ/mol2'))\n",
    "\n",
    "ΔG = m * mean_Cmid\n",
    "sigmaΔG = ΔG*np.sqrt((mean_m_err/mean_m)**2 + (mean_Cmid_err/mean_Cmid)**2)\n",
    "\n",
    "print(ΔG,sigmaΔG)"
   ]
  }
 ],
 "metadata": {
  "kernelspec": {
   "display_name": "Python 3",
   "language": "python",
   "name": "python3"
  },
  "language_info": {
   "codemirror_mode": {
    "name": "ipython",
    "version": 3
   },
   "file_extension": ".py",
   "mimetype": "text/x-python",
   "name": "python",
   "nbconvert_exporter": "python",
   "pygments_lexer": "ipython3",
   "version": "3.13.0"
  }
 },
 "nbformat": 4,
 "nbformat_minor": 5
}
