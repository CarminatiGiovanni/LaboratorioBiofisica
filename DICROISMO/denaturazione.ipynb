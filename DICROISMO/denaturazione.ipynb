{
 "cells": [
  {
   "cell_type": "code",
   "execution_count": 1,
   "id": "bf6f4978",
   "metadata": {},
   "outputs": [],
   "source": [
    "from matplotlib import pyplot as plt\n",
    "from scipy.optimize import curve_fit\n",
    "import numpy as np\n",
    "import pandas as pd\n",
    "import plotly.express as px\n",
    "import os\n",
    "import sys\n",
    "import plotly.graph_objects as go \n",
    "dir_path = os.path.abspath('')\n",
    "sys.path.append(dir_path + '/../')\n",
    "from labbiofisica import final_val"
   ]
  },
  {
   "cell_type": "code",
   "execution_count": 2,
   "id": "27a06352",
   "metadata": {},
   "outputs": [
    {
     "data": {
      "text/html": [
       "<div>\n",
       "<style scoped>\n",
       "    .dataframe tbody tr th:only-of-type {\n",
       "        vertical-align: middle;\n",
       "    }\n",
       "\n",
       "    .dataframe tbody tr th {\n",
       "        vertical-align: top;\n",
       "    }\n",
       "\n",
       "    .dataframe thead th {\n",
       "        text-align: right;\n",
       "    }\n",
       "</style>\n",
       "<table border=\"1\" class=\"dataframe\">\n",
       "  <thead>\n",
       "    <tr style=\"text-align: right;\">\n",
       "      <th></th>\n",
       "      <th>λ</th>\n",
       "      <th>C0</th>\n",
       "      <th>C1</th>\n",
       "      <th>C2</th>\n",
       "      <th>C3</th>\n",
       "      <th>C4</th>\n",
       "      <th>C5</th>\n",
       "    </tr>\n",
       "  </thead>\n",
       "  <tbody>\n",
       "    <tr>\n",
       "      <th>55</th>\n",
       "      <td>205</td>\n",
       "      <td>-0.02454</td>\n",
       "      <td>-0.02172</td>\n",
       "      <td>-0.02031</td>\n",
       "      <td>-0.02233</td>\n",
       "      <td>-0.01931</td>\n",
       "      <td>-0.01872</td>\n",
       "    </tr>\n",
       "    <tr>\n",
       "      <th>56</th>\n",
       "      <td>204</td>\n",
       "      <td>-0.02265</td>\n",
       "      <td>-0.01981</td>\n",
       "      <td>-0.02289</td>\n",
       "      <td>-0.02221</td>\n",
       "      <td>-0.02085</td>\n",
       "      <td>-0.01986</td>\n",
       "    </tr>\n",
       "    <tr>\n",
       "      <th>57</th>\n",
       "      <td>203</td>\n",
       "      <td>-0.02256</td>\n",
       "      <td>-0.01913</td>\n",
       "      <td>-0.02492</td>\n",
       "      <td>-0.02548</td>\n",
       "      <td>-0.01868</td>\n",
       "      <td>-0.02221</td>\n",
       "    </tr>\n",
       "    <tr>\n",
       "      <th>58</th>\n",
       "      <td>202</td>\n",
       "      <td>-0.02118</td>\n",
       "      <td>-0.02115</td>\n",
       "      <td>-0.02197</td>\n",
       "      <td>-0.02395</td>\n",
       "      <td>-0.02055</td>\n",
       "      <td>-0.02537</td>\n",
       "    </tr>\n",
       "    <tr>\n",
       "      <th>59</th>\n",
       "      <td>201</td>\n",
       "      <td>-0.01932</td>\n",
       "      <td>-0.02146</td>\n",
       "      <td>-0.02278</td>\n",
       "      <td>-0.01982</td>\n",
       "      <td>-0.02226</td>\n",
       "      <td>-0.02139</td>\n",
       "    </tr>\n",
       "  </tbody>\n",
       "</table>\n",
       "</div>"
      ],
      "text/plain": [
       "      λ       C0       C1       C2       C3       C4       C5\n",
       "55  205 -0.02454 -0.02172 -0.02031 -0.02233 -0.01931 -0.01872\n",
       "56  204 -0.02265 -0.01981 -0.02289 -0.02221 -0.02085 -0.01986\n",
       "57  203 -0.02256 -0.01913 -0.02492 -0.02548 -0.01868 -0.02221\n",
       "58  202 -0.02118 -0.02115 -0.02197 -0.02395 -0.02055 -0.02537\n",
       "59  201 -0.01932 -0.02146 -0.02278 -0.01982 -0.02226 -0.02139"
      ]
     },
     "execution_count": 2,
     "metadata": {},
     "output_type": "execute_result"
    }
   ],
   "source": [
    "path = dir_path+'/data/'\n",
    "\n",
    "spettriRAW = pd.DataFrame()\n",
    "for i in ['0','1','2','3','4','5']:\n",
    "    c = 'C' + i\n",
    "    data = pd.read_csv(path + c + '.dat',header = None, skiprows=1,sep='\\t')\n",
    "    \n",
    "    spettriRAW['λ'] = data.iloc[:, 0]\n",
    "    spettriRAW[c] = data.iloc[:,1]\n",
    "\n",
    "spettriRAW.tail()"
   ]
  },
  {
   "cell_type": "code",
   "execution_count": 3,
   "id": "5e426f37",
   "metadata": {},
   "outputs": [],
   "source": [
    "N = 162 #numero residui BLG\n",
    "l = 0.5 # lunghezza cammino ottico in cm\n",
    "R = 8.314 # J/(mol * K)\n",
    "T = 298.15 # K"
   ]
  },
  {
   "cell_type": "code",
   "execution_count": 4,
   "id": "15e0b7a6",
   "metadata": {},
   "outputs": [
    {
     "name": "stdout",
     "output_type": "stream",
     "text": [
      "Concentrazione GuHCl [M]:  [0.         1.52949946 3.09330147 4.66814848 6.13015    7.73593004]\n"
     ]
    }
   ],
   "source": [
    "# import concentrazioni* 1000000 #M\n",
    "\n",
    "concentrazioni = np.array([0,1.529499455,3.093301471,4.668148484,6.130150005,7.735930045]) # M\n",
    "\n",
    "concentrazioniBLG = np.array([4.05537E-06, 3.52052E-06, 3.58147E-06, 3.64439E-06, 3.66342E-06, 3.57871E-06]) # M\n",
    "\n",
    "print('Concentrazione GuHCl [M]: ',concentrazioni)"
   ]
  },
  {
   "cell_type": "code",
   "execution_count": 77,
   "id": "8bf8bad9",
   "metadata": {},
   "outputs": [
    {
     "data": {
      "application/vnd.plotly.v1+json": {
       "config": {
        "plotlyServerURL": "https://plot.ly"
       },
       "data": [
        {
         "mode": "lines",
         "name": "0.0",
         "type": "scatter",
         "x": {
          "bdata": "BAEDAQIBAQEAAf8A/gD9APwA+wD6APkA+AD3APYA9QD0APMA8gDxAPAA7wDuAO0A7ADrAOoA6QDoAOcA5gDlAOQA4wDiAOEA4ADfAN4A3QDcANsA2gDZANgA1wDWANUA1ADTANIA0QDQAM8AzgDNAMwAywDKAMkA",
          "dtype": "i2"
         },
         "y": {
          "bdata": "lPYGX5hMlb9R2ht8YTKVv8Iv9fOmIpW/5L1qZcIvlb9VE0TdByCVv/3ZjxSRYZW/4IRCBBxClb9NofMau0SVv3Noke18P5W//dmPFJFhlb+2hHzQs1mVv9cS8kHPZpW/qdkDrcCQlb/xLhfxnZiVv1oSoKaWrZW/oWez6nO1lb9F9dbAVgmWv4gRwqONI5a/Ykok0csolr/x9EpZhjiWv1Fmg0wycpa/Ap8fRgiPlr/YnlkSoKaWv6pla32R0Ja/8bp+wW7Ylr+7D0BqEyeXv8eA7PXuj5e/YtaLoZxol79JgJpattaXvxPVWwNbJZi/Tn/2I0VkmL9jYvNxbaiYvw9iZwqd15i/v5oDBHP0mL/+fcaFAyGZv8wLsI9OXZm/mpmZmZmZmb+qQ26GG/CZv+5fWWlSCpq/7iWN0Tqqmr8p0CfyJOmav2iz6nO1FZu/FLNeDOVEm799lufB3Vmbv8xdS8gHPZu/xOv6Bbthm78Us14M5USbv8Tr+gW7YZu/s0EmGTkLm7/RlnMpriqbv0YldQKaCJu/QuxMofMam79T0O0ljdGav1t8CoDxDJq/9gt2w7ZFmb/+fcaFAyGZv2+BBMWPMZe/mYHK+PcZl7/HLlG9NbCVv3+HokCfyJO/",
          "dtype": "f8"
         }
        },
        {
         "mode": "lines",
         "name": "1.53",
         "type": "scatter",
         "x": {
          "bdata": "BAEDAQIBAQEAAf8A/gD9APwA+wD6APkA+AD3APYA9QD0APMA8gDxAPAA7wDuAO0A7ADrAOoA6QDoAOcA5gDlAOQA4wDiAOEA4ADfAN4A3QDcANsA2gDZANgA1wDWANUA1ADTANIA0QDQAM8AzgDNAMwAywDKAMkA",
          "dtype": "i2"
         },
         "y": {
          "bdata": "9S1zuiwmlr+pnzcVqTCWvxv1EI3uIJa/QbyuX7Ablr8XvOgrSDOWv2aDTDJyFpa/G/UQje4glr9mg0wychaWv89m1edqK5a/G/UQje4glr+u2F92Tx6Wv9Of/UgRGZa/9S1zuiwmlr+E2JlC5zWWv4CfceFASJa/e2ZJgJpalr/Du1zEd2KWvwoRcAhVapa/c/T4vU1/lr9vu9Bcp5GWv7LXuz/eq5a/jBAebRyxlr+lLEMc6+KWv5mByvj3GZe/3J212y40l79enWNA9nqXvwZkr3d/vJe/KPIk6ZrJl7/6uDZUjPOXvxPVWwNbJZi/PZtVn6utmL9fKcsQx7qYv6JFtvP91Ji/JEVkWMUbmb8ofoy5awmZv7PviuB/K5m/hbacS3FVmb/pYP2fw3yZv921hHzQs5m/6SYxCKwcmr8k0csolluavxgmUwWjkpq/1QloImx4mr90XmOXqN6av/ZdEfxvJZu/dF5jl6jemr+ze/KwUGuav56Y9WIoJ5q/GCZTBaOSmr8DQ1a3ek6av+4ljdE6qpq/OWItPgXAmL9vu9Bcp5GWv8vz4O6s3Za/ObTIdr6far/LLa2GxD2Wv2L4iJgSSZS/Zmt9kdCWk79/2T15WKiVv7ZKsDic+ZW/",
          "dtype": "f8"
         }
        },
        {
         "mode": "lines",
         "name": "3.09",
         "type": "scatter",
         "x": {
          "bdata": "BAEDAQIBAQEAAf8A/gD9APwA+wD6APkA+AD3APYA9QD0APMA8gDxAPAA7wDuAO0A7ADrAOoA6QDoAOcA5gDlAOQA4wDiAOEA4ADfAN4A3QDcANsA2gDZANgA1wDWANUA1ADTANIA0QDQAM8AzgDNAMwAywDKAMkA",
          "dtype": "i2"
         },
         "y": {
          "bdata": "6IL6ljldlr/H9IQlHlCWv8f0hCUeUJa/oS3nUlxVlr8Sg8DKoUWWv+27IvjfSpa/yy2thsQ9lr8OSphp+1eWv+27IvjfSpa/e2ZJgJpalr/tuyL430qWvw5KmGn7V5a/e2ZJgJpalr84Sl6dY0CWvxKDwMqhRZa/UWaDTDJylr+d9L7xtWeWvyyf5Xlwd5a/J2a9GMqJlr8Cnx9GCI+Wv0n0Morllpa/9fOmIhXGlr/xun7BbtiWv5mByvj3GZe/d/NUh9wMl79JumbyzTaXv065wrtcxJe/H4DUJk7ul7/tDb4wmSqYv/q4NlSM85e/Z5sb0xOWmL9jYvNxbaiYvz2bVZ+rrZi/eEXwv5XsmL+7YduizAaZvyAMPPceLpm/7ZklAWpqmb/tmSUBamqZv7snDwu1ppm/6SYxCKwcmr8YYB+duvKZvz0nvW987Zm/ke18PzVemr+eXinLEMeav3SYLy/APpq/opdRLLe0mr9rYKsEi8OZv33Qs1n1uZq/v2A3bFuUmb/u68A5I0qbv07RkVz+Q5q/G/UQje4glr/gvg6cM6KUv5hp+1dWmpS/YviImBJJlL+yhSAHJcyUv6orn+V5cJe/MbYQ5KCEmb9z9Pi9TX+Wv/ryAuyjU5e/",
          "dtype": "f8"
         }
        },
        {
         "mode": "lines",
         "name": "4.67",
         "type": "scatter",
         "x": {
          "bdata": "BAEDAQIBAQEAAf8A/gD9APwA+wD6APkA+AD3APYA9QD0APMA8gDxAPAA7wDuAO0A7ADrAOoA6QDoAOcA5gDlAOQA4wDiAOEA4ADfAN4A3QDcANsA2gDZANgA1wDWANUA1ADTANIA0QDQAM8AzgDNAMwAywDKAMkA",
          "dtype": "i2"
         },
         "y": {
          "bdata": "w7tcxHdilr93LSEf9GyWv8O7XMR3Ypa/x/SEJR5Qlr8KEXAIVWqWv8O7XMR3Ypa/Vp+rrdhflr9RZoNMMnKWvwoRcAhVapa/ChFwCFVqlr8KEXAIVWqWv1afq63YX5a/LJ/leXB3lr8G2EenrnyWvyyf5Xlwd5a/BthHp658lr9NLVvri4SWv3P0+L1Nf5a/2J5ZEqCmlr/5LM+Du7OWv/ksz4O7s5a/y/Pg7qzdlr/L8+DurN2Wv2+BBMWPMZe/LGUZ4lgXl7/1udqK/WWXvxMPKJtyhZe/VisTfqmfl79OucK7XMSXv/q4NlSM85e/5ZttbkxPmL+A8Qwa+ieYv/63kh0bgZi/iSmRRC+jmL+zKVd4l4uYv1rwoq8gzZi/yAxUxr/PmL94RfC/leyYvw9iZwqd15i/Un5S7dPxmL/D0ytlGeKYv+EoeXWOAZm/ngyOklfnmL94CyQofoyZv0rSNZNvtpm/Sphp+1dWmr+JtfgUAOOZv69Cyk+qfZq/s7W+SGjLmb8P7s7abReav79gN2xblJm/YJM16iEajb/9wcBz7+GSv28vaYzWUZW/RbsKKT+plr/L8+DurN2Wv66ek943vpa/D+7O2m0Xmr/Y8PRKWYaYv88UOq+xS5S/",
          "dtype": "f8"
         }
        },
        {
         "mode": "lines",
         "name": "6.13",
         "type": "scatter",
         "x": {
          "bdata": "BAEDAQIBAQEAAf8A/gD9APwA+wD6APkA+AD3APYA9QD0APMA8gDxAPAA7wDuAO0A7ADrAOoA6QDoAOcA5gDlAOQA4wDiAOEA4ADfAN4A3QDcANsA2gDZANgA1wDWANUA1ADTANIA0QDQAM8AzgDNAMwAywDKAMkA",
          "dtype": "i2"
         },
         "y": {
          "bdata": "dy0hH/Rslr/kSdI1k2+Wvyyf5Xlwd5a/LJ/leXB3lr/kSdI1k2+WvwoRcAhVapa/5EnSNZNvlr+d9L7xtWeWv+RJ0jWTb5a/v4I0Y9F0lr+d9L7xtWeWv7+CNGPRdJa/4BCq1OyBlr9z9Pi9TX+Wv5m7lpAPepa/ukkMAiuHlr/c14FzRpSWv0n0Morllpa/thDkoISZlr+y17s/3quWvx/0bFZ9rpa/rp6T3je+lr9e1y/YDduWv6HzGrtE9Za/3J212y40l78CZVOu8C6XvxuBeF2/YJe/hGQBE7h1l7/xgLIpV3iXv5lH/mDguZe/Cp3X2CWql79BDkqYafuXv8dGIF7XL5i/7Q2+MJkqmL/DDfj8MEKYv8x/SL99HZi/6dSVz/I8mL/U8ZiByviXv51GWipvR5i/PZtVn6utmL9KRs7CnnaYv8x/SL99HZi/OWItPgXAmL9KDAIrhxaZv/59xoUDIZm/fH4YITzamL/YtiizQSaZv0oMAiuHFpm/Y2LzcW2omL9Hj9/b9GefvxkcJa/OMaC/NlmjHqLRjb+lFHR7SWOUv1Fmg0wycpa/WmQ730+Nl78Sa/EpAMaTv7aEfNCzWZW/N2xblNkgk7/sL7snDwuVv88sCVBTy5a/",
          "dtype": "f8"
         }
        },
        {
         "mode": "lines",
         "name": "7.74",
         "type": "scatter",
         "x": {
          "bdata": "BAEDAQIBAQEAAf8A/gD9APwA+wD6APkA+AD3APYA9QD0APMA8gDxAPAA7wDuAO0A7ADrAOoA6QDoAOcA5gDlAOQA4wDiAOEA4ADfAN4A3QDcANsA2gDZANgA1wDWANUA1ADTANIA0QDQAM8AzgDNAMwAywDKAMkA",
          "dtype": "i2"
         },
         "y": {
          "bdata": "LJ/leXB3lr8w2A3bFmWWvwoRcAhVapa/MNgN2xZllr93LSEf9GyWv+iC+pY5XZa/mbuWkA96lr8sn+V5cHeWv5m7lpAPepa/UWaDTDJylr9z9Pi9TX+Wv1Fmg0wycpa/TS1b64uElr9z9Pi9TX+Wv+AQqtTsgZa/4BCq1OyBlr8jLZW3I5yWvyMtlbcjnJa/Iy2VtyOclr9BguLHmLuWv7LXuz/eq5a/iNf1C3bDlr8TSfQyiuWWv+2BVmDI6pa/I/PIHww8l7+duvJZngeXvyPzyB8MPJe/6Q5iZwqdl7/l1TkGZK+Xvw/W/znMl5e/+rg2VIzzl7+IY13cRgOYv9gqweJw5pe/E9VbA1slmL+/1M+bilSYv0VHcvkP6Ze/Fw6EZAETmL+3nEtxVdmXv51GWipvR5i/Z9Xnaiv2l794f7xXrUyYv/63kh0bgZi/NSkF3V7SmL9nmxvTE5aYvzG2EOSghJm/PWGJB5RNmb+7Jw8LtaaZv5I/GHjuPZy/+grSjEXTmb+WsgxxrIurvx6KAn0iT6K/ZjGx+bg2lL8012mkpfKWv1OWIY51cZu/MEymCkYllb/s3R/vVSuTv4OG/gkuVpS/rp6T3je+lr9ftTLhl/qZv7qD2JlC55W/",
          "dtype": "f8"
         }
        }
       ],
       "layout": {
        "height": 600,
        "legend": {
         "title": {
          "text": "C(GuHCl) [M]"
         },
         "x": 1,
         "xanchor": "right",
         "y": 0,
         "yanchor": "bottom"
        },
        "template": {
         "data": {
          "bar": [
           {
            "error_x": {
             "color": "#2a3f5f"
            },
            "error_y": {
             "color": "#2a3f5f"
            },
            "marker": {
             "line": {
              "color": "#E5ECF6",
              "width": 0.5
             },
             "pattern": {
              "fillmode": "overlay",
              "size": 10,
              "solidity": 0.2
             }
            },
            "type": "bar"
           }
          ],
          "barpolar": [
           {
            "marker": {
             "line": {
              "color": "#E5ECF6",
              "width": 0.5
             },
             "pattern": {
              "fillmode": "overlay",
              "size": 10,
              "solidity": 0.2
             }
            },
            "type": "barpolar"
           }
          ],
          "carpet": [
           {
            "aaxis": {
             "endlinecolor": "#2a3f5f",
             "gridcolor": "white",
             "linecolor": "white",
             "minorgridcolor": "white",
             "startlinecolor": "#2a3f5f"
            },
            "baxis": {
             "endlinecolor": "#2a3f5f",
             "gridcolor": "white",
             "linecolor": "white",
             "minorgridcolor": "white",
             "startlinecolor": "#2a3f5f"
            },
            "type": "carpet"
           }
          ],
          "choropleth": [
           {
            "colorbar": {
             "outlinewidth": 0,
             "ticks": ""
            },
            "type": "choropleth"
           }
          ],
          "contour": [
           {
            "colorbar": {
             "outlinewidth": 0,
             "ticks": ""
            },
            "colorscale": [
             [
              0,
              "#0d0887"
             ],
             [
              0.1111111111111111,
              "#46039f"
             ],
             [
              0.2222222222222222,
              "#7201a8"
             ],
             [
              0.3333333333333333,
              "#9c179e"
             ],
             [
              0.4444444444444444,
              "#bd3786"
             ],
             [
              0.5555555555555556,
              "#d8576b"
             ],
             [
              0.6666666666666666,
              "#ed7953"
             ],
             [
              0.7777777777777778,
              "#fb9f3a"
             ],
             [
              0.8888888888888888,
              "#fdca26"
             ],
             [
              1,
              "#f0f921"
             ]
            ],
            "type": "contour"
           }
          ],
          "contourcarpet": [
           {
            "colorbar": {
             "outlinewidth": 0,
             "ticks": ""
            },
            "type": "contourcarpet"
           }
          ],
          "heatmap": [
           {
            "colorbar": {
             "outlinewidth": 0,
             "ticks": ""
            },
            "colorscale": [
             [
              0,
              "#0d0887"
             ],
             [
              0.1111111111111111,
              "#46039f"
             ],
             [
              0.2222222222222222,
              "#7201a8"
             ],
             [
              0.3333333333333333,
              "#9c179e"
             ],
             [
              0.4444444444444444,
              "#bd3786"
             ],
             [
              0.5555555555555556,
              "#d8576b"
             ],
             [
              0.6666666666666666,
              "#ed7953"
             ],
             [
              0.7777777777777778,
              "#fb9f3a"
             ],
             [
              0.8888888888888888,
              "#fdca26"
             ],
             [
              1,
              "#f0f921"
             ]
            ],
            "type": "heatmap"
           }
          ],
          "histogram": [
           {
            "marker": {
             "pattern": {
              "fillmode": "overlay",
              "size": 10,
              "solidity": 0.2
             }
            },
            "type": "histogram"
           }
          ],
          "histogram2d": [
           {
            "colorbar": {
             "outlinewidth": 0,
             "ticks": ""
            },
            "colorscale": [
             [
              0,
              "#0d0887"
             ],
             [
              0.1111111111111111,
              "#46039f"
             ],
             [
              0.2222222222222222,
              "#7201a8"
             ],
             [
              0.3333333333333333,
              "#9c179e"
             ],
             [
              0.4444444444444444,
              "#bd3786"
             ],
             [
              0.5555555555555556,
              "#d8576b"
             ],
             [
              0.6666666666666666,
              "#ed7953"
             ],
             [
              0.7777777777777778,
              "#fb9f3a"
             ],
             [
              0.8888888888888888,
              "#fdca26"
             ],
             [
              1,
              "#f0f921"
             ]
            ],
            "type": "histogram2d"
           }
          ],
          "histogram2dcontour": [
           {
            "colorbar": {
             "outlinewidth": 0,
             "ticks": ""
            },
            "colorscale": [
             [
              0,
              "#0d0887"
             ],
             [
              0.1111111111111111,
              "#46039f"
             ],
             [
              0.2222222222222222,
              "#7201a8"
             ],
             [
              0.3333333333333333,
              "#9c179e"
             ],
             [
              0.4444444444444444,
              "#bd3786"
             ],
             [
              0.5555555555555556,
              "#d8576b"
             ],
             [
              0.6666666666666666,
              "#ed7953"
             ],
             [
              0.7777777777777778,
              "#fb9f3a"
             ],
             [
              0.8888888888888888,
              "#fdca26"
             ],
             [
              1,
              "#f0f921"
             ]
            ],
            "type": "histogram2dcontour"
           }
          ],
          "mesh3d": [
           {
            "colorbar": {
             "outlinewidth": 0,
             "ticks": ""
            },
            "type": "mesh3d"
           }
          ],
          "parcoords": [
           {
            "line": {
             "colorbar": {
              "outlinewidth": 0,
              "ticks": ""
             }
            },
            "type": "parcoords"
           }
          ],
          "pie": [
           {
            "automargin": true,
            "type": "pie"
           }
          ],
          "scatter": [
           {
            "fillpattern": {
             "fillmode": "overlay",
             "size": 10,
             "solidity": 0.2
            },
            "type": "scatter"
           }
          ],
          "scatter3d": [
           {
            "line": {
             "colorbar": {
              "outlinewidth": 0,
              "ticks": ""
             }
            },
            "marker": {
             "colorbar": {
              "outlinewidth": 0,
              "ticks": ""
             }
            },
            "type": "scatter3d"
           }
          ],
          "scattercarpet": [
           {
            "marker": {
             "colorbar": {
              "outlinewidth": 0,
              "ticks": ""
             }
            },
            "type": "scattercarpet"
           }
          ],
          "scattergeo": [
           {
            "marker": {
             "colorbar": {
              "outlinewidth": 0,
              "ticks": ""
             }
            },
            "type": "scattergeo"
           }
          ],
          "scattergl": [
           {
            "marker": {
             "colorbar": {
              "outlinewidth": 0,
              "ticks": ""
             }
            },
            "type": "scattergl"
           }
          ],
          "scattermap": [
           {
            "marker": {
             "colorbar": {
              "outlinewidth": 0,
              "ticks": ""
             }
            },
            "type": "scattermap"
           }
          ],
          "scattermapbox": [
           {
            "marker": {
             "colorbar": {
              "outlinewidth": 0,
              "ticks": ""
             }
            },
            "type": "scattermapbox"
           }
          ],
          "scatterpolar": [
           {
            "marker": {
             "colorbar": {
              "outlinewidth": 0,
              "ticks": ""
             }
            },
            "type": "scatterpolar"
           }
          ],
          "scatterpolargl": [
           {
            "marker": {
             "colorbar": {
              "outlinewidth": 0,
              "ticks": ""
             }
            },
            "type": "scatterpolargl"
           }
          ],
          "scatterternary": [
           {
            "marker": {
             "colorbar": {
              "outlinewidth": 0,
              "ticks": ""
             }
            },
            "type": "scatterternary"
           }
          ],
          "surface": [
           {
            "colorbar": {
             "outlinewidth": 0,
             "ticks": ""
            },
            "colorscale": [
             [
              0,
              "#0d0887"
             ],
             [
              0.1111111111111111,
              "#46039f"
             ],
             [
              0.2222222222222222,
              "#7201a8"
             ],
             [
              0.3333333333333333,
              "#9c179e"
             ],
             [
              0.4444444444444444,
              "#bd3786"
             ],
             [
              0.5555555555555556,
              "#d8576b"
             ],
             [
              0.6666666666666666,
              "#ed7953"
             ],
             [
              0.7777777777777778,
              "#fb9f3a"
             ],
             [
              0.8888888888888888,
              "#fdca26"
             ],
             [
              1,
              "#f0f921"
             ]
            ],
            "type": "surface"
           }
          ],
          "table": [
           {
            "cells": {
             "fill": {
              "color": "#EBF0F8"
             },
             "line": {
              "color": "white"
             }
            },
            "header": {
             "fill": {
              "color": "#C8D4E3"
             },
             "line": {
              "color": "white"
             }
            },
            "type": "table"
           }
          ]
         },
         "layout": {
          "annotationdefaults": {
           "arrowcolor": "#2a3f5f",
           "arrowhead": 0,
           "arrowwidth": 1
          },
          "autotypenumbers": "strict",
          "coloraxis": {
           "colorbar": {
            "outlinewidth": 0,
            "ticks": ""
           }
          },
          "colorscale": {
           "diverging": [
            [
             0,
             "#8e0152"
            ],
            [
             0.1,
             "#c51b7d"
            ],
            [
             0.2,
             "#de77ae"
            ],
            [
             0.3,
             "#f1b6da"
            ],
            [
             0.4,
             "#fde0ef"
            ],
            [
             0.5,
             "#f7f7f7"
            ],
            [
             0.6,
             "#e6f5d0"
            ],
            [
             0.7,
             "#b8e186"
            ],
            [
             0.8,
             "#7fbc41"
            ],
            [
             0.9,
             "#4d9221"
            ],
            [
             1,
             "#276419"
            ]
           ],
           "sequential": [
            [
             0,
             "#0d0887"
            ],
            [
             0.1111111111111111,
             "#46039f"
            ],
            [
             0.2222222222222222,
             "#7201a8"
            ],
            [
             0.3333333333333333,
             "#9c179e"
            ],
            [
             0.4444444444444444,
             "#bd3786"
            ],
            [
             0.5555555555555556,
             "#d8576b"
            ],
            [
             0.6666666666666666,
             "#ed7953"
            ],
            [
             0.7777777777777778,
             "#fb9f3a"
            ],
            [
             0.8888888888888888,
             "#fdca26"
            ],
            [
             1,
             "#f0f921"
            ]
           ],
           "sequentialminus": [
            [
             0,
             "#0d0887"
            ],
            [
             0.1111111111111111,
             "#46039f"
            ],
            [
             0.2222222222222222,
             "#7201a8"
            ],
            [
             0.3333333333333333,
             "#9c179e"
            ],
            [
             0.4444444444444444,
             "#bd3786"
            ],
            [
             0.5555555555555556,
             "#d8576b"
            ],
            [
             0.6666666666666666,
             "#ed7953"
            ],
            [
             0.7777777777777778,
             "#fb9f3a"
            ],
            [
             0.8888888888888888,
             "#fdca26"
            ],
            [
             1,
             "#f0f921"
            ]
           ]
          },
          "colorway": [
           "#636efa",
           "#EF553B",
           "#00cc96",
           "#ab63fa",
           "#FFA15A",
           "#19d3f3",
           "#FF6692",
           "#B6E880",
           "#FF97FF",
           "#FECB52"
          ],
          "font": {
           "color": "#2a3f5f"
          },
          "geo": {
           "bgcolor": "white",
           "lakecolor": "white",
           "landcolor": "#E5ECF6",
           "showlakes": true,
           "showland": true,
           "subunitcolor": "white"
          },
          "hoverlabel": {
           "align": "left"
          },
          "hovermode": "closest",
          "mapbox": {
           "style": "light"
          },
          "paper_bgcolor": "white",
          "plot_bgcolor": "#E5ECF6",
          "polar": {
           "angularaxis": {
            "gridcolor": "white",
            "linecolor": "white",
            "ticks": ""
           },
           "bgcolor": "#E5ECF6",
           "radialaxis": {
            "gridcolor": "white",
            "linecolor": "white",
            "ticks": ""
           }
          },
          "scene": {
           "xaxis": {
            "backgroundcolor": "#E5ECF6",
            "gridcolor": "white",
            "gridwidth": 2,
            "linecolor": "white",
            "showbackground": true,
            "ticks": "",
            "zerolinecolor": "white"
           },
           "yaxis": {
            "backgroundcolor": "#E5ECF6",
            "gridcolor": "white",
            "gridwidth": 2,
            "linecolor": "white",
            "showbackground": true,
            "ticks": "",
            "zerolinecolor": "white"
           },
           "zaxis": {
            "backgroundcolor": "#E5ECF6",
            "gridcolor": "white",
            "gridwidth": 2,
            "linecolor": "white",
            "showbackground": true,
            "ticks": "",
            "zerolinecolor": "white"
           }
          },
          "shapedefaults": {
           "line": {
            "color": "#2a3f5f"
           }
          },
          "ternary": {
           "aaxis": {
            "gridcolor": "white",
            "linecolor": "white",
            "ticks": ""
           },
           "baxis": {
            "gridcolor": "white",
            "linecolor": "white",
            "ticks": ""
           },
           "bgcolor": "#E5ECF6",
           "caxis": {
            "gridcolor": "white",
            "linecolor": "white",
            "ticks": ""
           }
          },
          "title": {
           "x": 0.05
          },
          "xaxis": {
           "automargin": true,
           "gridcolor": "white",
           "linecolor": "white",
           "ticks": "",
           "title": {
            "standoff": 15
           },
           "zerolinecolor": "white",
           "zerolinewidth": 2
          },
          "yaxis": {
           "automargin": true,
           "gridcolor": "white",
           "linecolor": "white",
           "ticks": "",
           "title": {
            "standoff": 15
           },
           "zerolinecolor": "white",
           "zerolinewidth": 2
          }
         }
        },
        "width": 800,
        "xaxis": {
         "title": {
          "text": "λ [nm]"
         }
        },
        "yaxis": {
         "range": [
          -0.037,
          -0.013
         ],
         "title": {
          "text": "θ [deg]"
         }
        }
       }
      }
     },
     "metadata": {},
     "output_type": "display_data"
    }
   ],
   "source": [
    "import plotly.graph_objects as go\n",
    "\n",
    "fig = go.Figure()\n",
    "for conc,c in zip(['C0', 'C1', 'C2', 'C3', 'C4', 'C5'],concentrazioni):\n",
    "    fig.add_trace(go.Scatter(\n",
    "        x=spettriRAW['λ'],\n",
    "        y=spettriRAW[conc],\n",
    "        mode='lines',\n",
    "        name=np.round(c,2)\n",
    "    ))\n",
    "\n",
    "fig.update_layout(\n",
    "    xaxis_title='λ [nm]',\n",
    "    yaxis_title='θ [deg]',\n",
    "    # title='Dati raccolti',\n",
    "    legend_title='C(GuHCl) [M]',\n",
    "    legend=dict(\n",
    "        x=1,\n",
    "        y=0,\n",
    "        xanchor='right',\n",
    "        yanchor='bottom',\n",
    "        # font=dict(size=10),  # Make legend font smaller\n",
    "    ),\n",
    "    yaxis=dict(range=[-0.037, -0.013]),\n",
    "    width=800,\n",
    "    height=600,\n",
    ")\n",
    "\n",
    "fig.write_image('./images/spettro_raccolto.png')\n",
    "fig.write_html('./html/spettro_raccolto.html')\n",
    "fig.show()"
   ]
  },
  {
   "cell_type": "markdown",
   "id": "470682bd",
   "metadata": {},
   "source": [
    "### APPAIO LE CODE"
   ]
  },
  {
   "cell_type": "code",
   "execution_count": 74,
   "id": "f022f538",
   "metadata": {},
   "outputs": [
    {
     "data": {
      "application/vnd.plotly.v1+json": {
       "config": {
        "plotlyServerURL": "https://plot.ly"
       },
       "data": [
        {
         "mode": "lines",
         "name": "0.0",
         "type": "scatter",
         "x": {
          "bdata": "BAEDAQIBAQEAAf8A/gD9APwA+wD6APkA+AD3APYA9QD0APMA8gDxAPAA7wDuAO0A7ADrAOoA6QDoAOcA5gDlAOQA4wDiAOEA4ADfAN4A3QDcANsA2gDZANgA1wDWANUA1ADTANIA0QDQAM8AzgDNAMwAywDKAMkA",
          "dtype": "i2"
         },
         "y": {
          "bdata": "ANSY5FpxLsAA1JjkWnEuQIDaIGRYvkBAAEz1VQNEMkAATPVVA0RCQAC9yUeuyUPAABhHHa9aCMAAEEcdr1oYwAAAAAAAAHC9AL3JR67JQ8AA1JjkWnE+wACfcisE1UbAQNdcpNmXV8AAgRsPWuBZwMBEbdYF91/AQPeVIMMfYcAgfzmvGk1twMBM5gWjjXDAEGlbwg3vcMDAvbr3TRNywHD0whDkQnbA8A9HHa9aeMAAD1ZtDxF6wADx/lBlHH3AUJuua4WufcCIoUU747GBwPi72JcOgIXAEJIhVb4ShMCgOu8PnxGIwIiOXZU/7IrAADgcAMA0jcCYbxXJ9a2PwFw3kgwrspDAMD6zzx04kcA0GiygIAeSwGzL/H0zH5PApHzNW0Y3lMAokTClHsmVwHz0whDkQpbA3Ou/7bEpmcCcQB8j8k2awKAcmPP0HJvANJyfGyX4m8BwuBTYj1mcwJSx8xSd05vABKPA3hd+nMA0nJ8bJfibwASjwN4XfpzAgI5dlT/smsDgOA2wX36bwPzqzj0S4JrAtGO1ok81m8DUgBsPWuCZwACYUWgRT5bAqAv5aZuxksA0GiygIAeSwMi9uvdNE4LAOD6zzx04gcCgvqun7VxgwLBjtaJPNXtA",
          "dtype": "f8"
         }
        },
        {
         "mode": "lines",
         "name": "1.53",
         "type": "scatter",
         "x": {
          "bdata": "BAEDAQIBAQEAAf8A/gD9APwA+wD6APkA+AD3APYA9QD0APMA8gDxAPAA7wDuAO0A7ADrAOoA6QDoAOcA5gDlAOQA4wDiAOEA4ADfAN4A3QDcANsA2gDZANgA1wDWANUA1ADTANIA0QDQAM8AzgDNAMwAywDKAMkA",
          "dtype": "i2"
         },
         "y": {
          "bdata": "AGB/SBHcDsAAFWG+cuIxwAA4xQyxPwlAAHSC2NxWJEAAYLXjLmQ1wADP6bbmLjFAADjFDLE/CUAAz+m25i4xQAAEcef0vSXAADjFDLE/CUAAwLMbyaYaQAAKKyNVWitAAGB/SBHcDsAAqgkJ6+U4wIDYKwcIuUjAgG3pRI1/UsBApehg2iBVwADd53wnwlfAAHGQx5/FXsBg+XGEVHRiwOBVG7N/1mbAQGhwvO62Z8AwTIzKhgVwwIDtirvNn3TAwJvfUuPQdsCg2N3R0Lt8wEDGGGZDG4HA0PHty4ingcDgFpjeZmiDwOAiwpRufYXAQBtrUUAwi8DQRkC3hbyLwACe6oIQ1YzAcLxpQofKj8BATD8aJgaPwDDFtERtOZDAsNcJTtwZkcAImclmROyRwGBBCSPWEpPAqO9duutDlcBwi11IkpSWwMAznQQku5fAKAjInt4ul8BQZYdF7VGZwJD0RqWozJrAUGWHRe1RmcBgct3ru+iWwEg0s3wHfJXAwDOdBCS7l8Co9XKVb06WwCgO3XliOZjAcIuVeaH0i8Bg+XGEVHRiwOCFw4ueKm/A8hvaUZkpuUCARIO8j7VBwOjlBgMC04NAWANa0rFGi0AAv9ea+I5kQAB/xCj+4EtA",
          "dtype": "f8"
         }
        },
        {
         "mode": "lines",
         "name": "3.09",
         "type": "scatter",
         "x": {
          "bdata": "BAEDAQIBAQEAAf8A/gD9APwA+wD6APkA+AD3APYA9QD0APMA8gDxAPAA7wDuAO0A7ADrAOoA6QDoAOcA5gDlAOQA4wDiAOEA4ADfAN4A3QDcANsA2gDZANgA1wDWANUA1ADTANIA0QDQAM8AzgDNAMwAywDKAMkA",
          "dtype": "i2"
         },
         "y": {
          "bdata": "ALjID4iUMcAAgIjNuQ/WvwCAiM25D9a/ABTD3aP0HMAARn5yKuMqQAD8EaSsMhpAABWXUfTIN0AALBz/O18lwAD8EaSsMhpAAM5WDyZELMAA/BGkrDIaQAAsHP87XyXAAM5WDyZELMAAxHlJf1Y0QABGfnIq4ypAgKBZKBiURsAA/j0wXF4/wADydjCNBkrAAMduZpMLU8AAcH3qzcRUwMBsk7ClWlfA4KyLKtpuY8AAVKWRAHNmwPB4gCVXnHDAAJ/uJSURb8CwoBSbB/tywMCSd5ZSnX7A6HFKz+MHgcBIhB/tJ4KDwAhHzB8LP4HAUBSF383sh8AQfkt5162IwDBTzcn+5IjAEFDjj9Z6i8BweWwim46MwIA3Ov5BLI7A6KQHDkNTkMDopAcOQ1OQwBgu8hxlkJHAKMumZt/8k8Dgdp8kQiCTwFiMXnyuBJPA4D7SHZVVlcCgkeRCHn2XwLC/TCwfsJTAwFwBdpkcl8AIOFc6ESiSwFBHQh4tOJfAMPkOUOAvkcAQeTuxiS6awDCqjdSyy5TAAMls1f3ZTkD4jlzS1aeBQJhOH8uQ+oFAQLX7KnJRhUDAzJucNt1/QGDwPIZouHfAmDlMVyXdkMAA7KK8PDJPwIDIqBC4WXXA",
          "dtype": "f8"
         }
        },
        {
         "mode": "lines",
         "name": "4.67",
         "type": "scatter",
         "x": {
          "bdata": "BAEDAQIBAQEAAf8A/gD9APwA+wD6APkA+AD3APYA9QD0APMA8gDxAPAA7wDuAO0A7ADrAOoA6QDoAOcA5gDlAOQA4wDiAOEA4ADfAN4A3QDcANsA2gDZANgA1wDWANUA1ADTANIA0QDQAM8AzgDNAMwAywDKAMkA",
          "dtype": "i2"
         },
         "y": {
          "bdata": "AMDr4YzPDUAA1iys4qUjwADA6+GMzw1AAEZQxH5wO0AAzAVm4r4ZwADA6+GMzw1AAMBJY6l0HEAAXEDPYpkwwADMBWbivhnAAMwFZuK+GcAAzAVm4r4ZwADASWOpdBxAAE9qSNRfN8AAQZTBRSY+wABPakjUXzfAAEGUwUUmPsAAlan79ydEwACdFD+/xEDAgPO4YnQWVcCAKnNOe1JZwIAqc057UlnAAIdjIK9vY8AAh2Mgr29jwCC1WwlJfnDAIDP9JovAbMAQ7BX1T7p0wNCmhYK6RHfAQMJi+L1iecAQHGWdj1l8wPhZxriXFIDAKEoJxx3Jg8CAdaMumzKCwNi9AXcHzIXA+EKeg1Ysh8AAXZSObjiGwFC/6OHy3YjAMGfNpwz5iMCwnKAoKCOKwIBee/lZSonAQOxptFtZisCQ/Q0RwbaJwPDaxVf2+4rAIE3XnPTsicCISw4oJkyQwLiJM1f0JJHA4IbxaoZflMDQG0tpTwuSwDhxJLfHKpXA2CjGbluRkcCQqTkkURqTwChH5dDMdJDAFtJK+nRGpECMBy32HimSQNAojOOPQHZAwDHekULvVcAAh2Mgr29jwIAjCAu0tVzAkKk5JFEak8BwDcsCOwKGwAieFz9ZtoVA",
          "dtype": "f8"
         }
        },
        {
         "mode": "lines",
         "name": "6.13",
         "type": "scatter",
         "x": {
          "bdata": "BAEDAQIBAQEAAf8A/gD9APwA+wD6APkA+AD3APYA9QD0APMA8gDxAPAA7wDuAO0A7ADrAOoA6QDoAOcA5gDlAOQA4wDiAOEA4ADfAN4A3QDcANsA2gDZANgA1wDWANUA1ADTANIA0QDQAM8AzgDNAMwAywDKAMkA",
          "dtype": "i2"
         },
         "y": {
          "bdata": "AEBOWgotEEAAIBMjY5HlPwCcsL423yLAAJywvjbfIsAAIBMjY5HlPwAgOlDopx1AACATI2OR5T8A/hIjY5ElQAAgEyNjkeU/AFx1h49DGMAA/hIjY5ElQABcdYePQxjAAC1EVXnqNsAANcnXwYszwACOprmlnCnAABs6UOinPcAAedDhvkBHwAD1jaAa8EjAgHBLX3afSsCA6TxLfDVTwICnmyoqDVTAABvUZj0bWcDgIfP/2i9hwIDXzFxAZmXAYL491WaCb8CAAN/1uKpuwECG8V/WVXPAEAKvHjIFdcCAsYaWHTt1wIDUlkocf3rAkLeIe5c7ecBg96b+GsN/wGBWwC3A/IHA8KbotdTGgcCQPDNReLmCwEBwTQoIQIHAII1b2YyDgsDgR8+GL41/wBDsCslj74LA4Mn4adMKh8BgF6D/qtSEwEBwTQoIQIHACLBrjYvHh8Bof9LGOEGLwEjegbYPrYvAaB2i5CTViMDIjVku++KLwGh/0sY4QYvAYBoh8ufUhsBqXY+s3g6nwCKXq0rolanADEu6uDpbo0BYUAkpXxWFQADwEiNjkQXAUC1EVXnqdsCg4E8092aLQAAy4FBIXnZAFPysObgEkUBQwiZc4K98QIDQrcOiUV3A",
          "dtype": "f8"
         }
        },
        {
         "mode": "lines",
         "name": "7.74",
         "type": "scatter",
         "x": {
          "bdata": "BAEDAQIBAQEAAf8A/gD9APwA+wD6APkA+AD3APYA9QD0APMA8gDxAPAA7wDuAO0A7ADrAOoA6QDoAOcA5gDlAOQA4wDiAOEA4ADfAN4A3QDcANsA2gDZANgA1wDWANUA1ADTANIA0QDQAM8AzgDNAMwAywDKAMkA",
          "dtype": "i2"
         },
         "y": {
          "bdata": "AHJggrXEJsAA/NAdOIcpQACYPClWdRdAAPzQHTiHKUAAyBNAklEDQACFztUFHTdAAMz5BvyqLcAAcmCCtcQmwADM+Qb8qi3AAHxb8lDwEcAAPxaIxLs1wAB8W/JQ8BHAAJevDAuiPMAAPxaIxLs1wADrYsrnLjnAAOtiyucuOcCA07AwJNdNwIDTsDAk103AgNOwMCTXTcDAbz7f+0RZwMBsy/tGGFTAwPD3UFbbW8DgkDh0xIhjwAC8y0SNZWTAIGza8trhcMBAKfW/3SNpwCBs2vLa4XDAMLsrfBzceMCwRi3pe156wLAl4hO4bXjAAN/pNJX5f8DQT+M2YaKAwBDpMTCa5X7A8HXSiScJgsD4lh1f6/mDwOCzVmTMHH/AMLBR0/dHgcAw83krn9F9wACcwdztb4PA4FSHtGMYgMDQZuYQIKeDwJhSVhoWz4XAuJmQQqAmicC4fenq3quGwCzEuZelPZDAKDfxC7w3jsA0VzHBCPGQwDRxSCMwlJ7ABLXNHp7bkcCgte+UJ33FwIsbq7LyqrLASKDFkX9ch0DAfKh9urBlwPT+eirdX5rAQCt3miYae0AUA436vy2RQJjf6FhSEYZAwJrRr8QhWsB0rVdimqqSwAAbqQ9HS2ZA",
          "dtype": "f8"
         }
        }
       ],
       "layout": {
        "height": 600,
        "legend": {
         "title": {
          "text": "C(GuHCl) [M]"
         },
         "x": 1,
         "xanchor": "right",
         "y": 0,
         "yanchor": "bottom"
        },
        "template": {
         "data": {
          "bar": [
           {
            "error_x": {
             "color": "#2a3f5f"
            },
            "error_y": {
             "color": "#2a3f5f"
            },
            "marker": {
             "line": {
              "color": "#E5ECF6",
              "width": 0.5
             },
             "pattern": {
              "fillmode": "overlay",
              "size": 10,
              "solidity": 0.2
             }
            },
            "type": "bar"
           }
          ],
          "barpolar": [
           {
            "marker": {
             "line": {
              "color": "#E5ECF6",
              "width": 0.5
             },
             "pattern": {
              "fillmode": "overlay",
              "size": 10,
              "solidity": 0.2
             }
            },
            "type": "barpolar"
           }
          ],
          "carpet": [
           {
            "aaxis": {
             "endlinecolor": "#2a3f5f",
             "gridcolor": "white",
             "linecolor": "white",
             "minorgridcolor": "white",
             "startlinecolor": "#2a3f5f"
            },
            "baxis": {
             "endlinecolor": "#2a3f5f",
             "gridcolor": "white",
             "linecolor": "white",
             "minorgridcolor": "white",
             "startlinecolor": "#2a3f5f"
            },
            "type": "carpet"
           }
          ],
          "choropleth": [
           {
            "colorbar": {
             "outlinewidth": 0,
             "ticks": ""
            },
            "type": "choropleth"
           }
          ],
          "contour": [
           {
            "colorbar": {
             "outlinewidth": 0,
             "ticks": ""
            },
            "colorscale": [
             [
              0,
              "#0d0887"
             ],
             [
              0.1111111111111111,
              "#46039f"
             ],
             [
              0.2222222222222222,
              "#7201a8"
             ],
             [
              0.3333333333333333,
              "#9c179e"
             ],
             [
              0.4444444444444444,
              "#bd3786"
             ],
             [
              0.5555555555555556,
              "#d8576b"
             ],
             [
              0.6666666666666666,
              "#ed7953"
             ],
             [
              0.7777777777777778,
              "#fb9f3a"
             ],
             [
              0.8888888888888888,
              "#fdca26"
             ],
             [
              1,
              "#f0f921"
             ]
            ],
            "type": "contour"
           }
          ],
          "contourcarpet": [
           {
            "colorbar": {
             "outlinewidth": 0,
             "ticks": ""
            },
            "type": "contourcarpet"
           }
          ],
          "heatmap": [
           {
            "colorbar": {
             "outlinewidth": 0,
             "ticks": ""
            },
            "colorscale": [
             [
              0,
              "#0d0887"
             ],
             [
              0.1111111111111111,
              "#46039f"
             ],
             [
              0.2222222222222222,
              "#7201a8"
             ],
             [
              0.3333333333333333,
              "#9c179e"
             ],
             [
              0.4444444444444444,
              "#bd3786"
             ],
             [
              0.5555555555555556,
              "#d8576b"
             ],
             [
              0.6666666666666666,
              "#ed7953"
             ],
             [
              0.7777777777777778,
              "#fb9f3a"
             ],
             [
              0.8888888888888888,
              "#fdca26"
             ],
             [
              1,
              "#f0f921"
             ]
            ],
            "type": "heatmap"
           }
          ],
          "histogram": [
           {
            "marker": {
             "pattern": {
              "fillmode": "overlay",
              "size": 10,
              "solidity": 0.2
             }
            },
            "type": "histogram"
           }
          ],
          "histogram2d": [
           {
            "colorbar": {
             "outlinewidth": 0,
             "ticks": ""
            },
            "colorscale": [
             [
              0,
              "#0d0887"
             ],
             [
              0.1111111111111111,
              "#46039f"
             ],
             [
              0.2222222222222222,
              "#7201a8"
             ],
             [
              0.3333333333333333,
              "#9c179e"
             ],
             [
              0.4444444444444444,
              "#bd3786"
             ],
             [
              0.5555555555555556,
              "#d8576b"
             ],
             [
              0.6666666666666666,
              "#ed7953"
             ],
             [
              0.7777777777777778,
              "#fb9f3a"
             ],
             [
              0.8888888888888888,
              "#fdca26"
             ],
             [
              1,
              "#f0f921"
             ]
            ],
            "type": "histogram2d"
           }
          ],
          "histogram2dcontour": [
           {
            "colorbar": {
             "outlinewidth": 0,
             "ticks": ""
            },
            "colorscale": [
             [
              0,
              "#0d0887"
             ],
             [
              0.1111111111111111,
              "#46039f"
             ],
             [
              0.2222222222222222,
              "#7201a8"
             ],
             [
              0.3333333333333333,
              "#9c179e"
             ],
             [
              0.4444444444444444,
              "#bd3786"
             ],
             [
              0.5555555555555556,
              "#d8576b"
             ],
             [
              0.6666666666666666,
              "#ed7953"
             ],
             [
              0.7777777777777778,
              "#fb9f3a"
             ],
             [
              0.8888888888888888,
              "#fdca26"
             ],
             [
              1,
              "#f0f921"
             ]
            ],
            "type": "histogram2dcontour"
           }
          ],
          "mesh3d": [
           {
            "colorbar": {
             "outlinewidth": 0,
             "ticks": ""
            },
            "type": "mesh3d"
           }
          ],
          "parcoords": [
           {
            "line": {
             "colorbar": {
              "outlinewidth": 0,
              "ticks": ""
             }
            },
            "type": "parcoords"
           }
          ],
          "pie": [
           {
            "automargin": true,
            "type": "pie"
           }
          ],
          "scatter": [
           {
            "fillpattern": {
             "fillmode": "overlay",
             "size": 10,
             "solidity": 0.2
            },
            "type": "scatter"
           }
          ],
          "scatter3d": [
           {
            "line": {
             "colorbar": {
              "outlinewidth": 0,
              "ticks": ""
             }
            },
            "marker": {
             "colorbar": {
              "outlinewidth": 0,
              "ticks": ""
             }
            },
            "type": "scatter3d"
           }
          ],
          "scattercarpet": [
           {
            "marker": {
             "colorbar": {
              "outlinewidth": 0,
              "ticks": ""
             }
            },
            "type": "scattercarpet"
           }
          ],
          "scattergeo": [
           {
            "marker": {
             "colorbar": {
              "outlinewidth": 0,
              "ticks": ""
             }
            },
            "type": "scattergeo"
           }
          ],
          "scattergl": [
           {
            "marker": {
             "colorbar": {
              "outlinewidth": 0,
              "ticks": ""
             }
            },
            "type": "scattergl"
           }
          ],
          "scattermap": [
           {
            "marker": {
             "colorbar": {
              "outlinewidth": 0,
              "ticks": ""
             }
            },
            "type": "scattermap"
           }
          ],
          "scattermapbox": [
           {
            "marker": {
             "colorbar": {
              "outlinewidth": 0,
              "ticks": ""
             }
            },
            "type": "scattermapbox"
           }
          ],
          "scatterpolar": [
           {
            "marker": {
             "colorbar": {
              "outlinewidth": 0,
              "ticks": ""
             }
            },
            "type": "scatterpolar"
           }
          ],
          "scatterpolargl": [
           {
            "marker": {
             "colorbar": {
              "outlinewidth": 0,
              "ticks": ""
             }
            },
            "type": "scatterpolargl"
           }
          ],
          "scatterternary": [
           {
            "marker": {
             "colorbar": {
              "outlinewidth": 0,
              "ticks": ""
             }
            },
            "type": "scatterternary"
           }
          ],
          "surface": [
           {
            "colorbar": {
             "outlinewidth": 0,
             "ticks": ""
            },
            "colorscale": [
             [
              0,
              "#0d0887"
             ],
             [
              0.1111111111111111,
              "#46039f"
             ],
             [
              0.2222222222222222,
              "#7201a8"
             ],
             [
              0.3333333333333333,
              "#9c179e"
             ],
             [
              0.4444444444444444,
              "#bd3786"
             ],
             [
              0.5555555555555556,
              "#d8576b"
             ],
             [
              0.6666666666666666,
              "#ed7953"
             ],
             [
              0.7777777777777778,
              "#fb9f3a"
             ],
             [
              0.8888888888888888,
              "#fdca26"
             ],
             [
              1,
              "#f0f921"
             ]
            ],
            "type": "surface"
           }
          ],
          "table": [
           {
            "cells": {
             "fill": {
              "color": "#EBF0F8"
             },
             "line": {
              "color": "white"
             }
            },
            "header": {
             "fill": {
              "color": "#C8D4E3"
             },
             "line": {
              "color": "white"
             }
            },
            "type": "table"
           }
          ]
         },
         "layout": {
          "annotationdefaults": {
           "arrowcolor": "#2a3f5f",
           "arrowhead": 0,
           "arrowwidth": 1
          },
          "autotypenumbers": "strict",
          "coloraxis": {
           "colorbar": {
            "outlinewidth": 0,
            "ticks": ""
           }
          },
          "colorscale": {
           "diverging": [
            [
             0,
             "#8e0152"
            ],
            [
             0.1,
             "#c51b7d"
            ],
            [
             0.2,
             "#de77ae"
            ],
            [
             0.3,
             "#f1b6da"
            ],
            [
             0.4,
             "#fde0ef"
            ],
            [
             0.5,
             "#f7f7f7"
            ],
            [
             0.6,
             "#e6f5d0"
            ],
            [
             0.7,
             "#b8e186"
            ],
            [
             0.8,
             "#7fbc41"
            ],
            [
             0.9,
             "#4d9221"
            ],
            [
             1,
             "#276419"
            ]
           ],
           "sequential": [
            [
             0,
             "#0d0887"
            ],
            [
             0.1111111111111111,
             "#46039f"
            ],
            [
             0.2222222222222222,
             "#7201a8"
            ],
            [
             0.3333333333333333,
             "#9c179e"
            ],
            [
             0.4444444444444444,
             "#bd3786"
            ],
            [
             0.5555555555555556,
             "#d8576b"
            ],
            [
             0.6666666666666666,
             "#ed7953"
            ],
            [
             0.7777777777777778,
             "#fb9f3a"
            ],
            [
             0.8888888888888888,
             "#fdca26"
            ],
            [
             1,
             "#f0f921"
            ]
           ],
           "sequentialminus": [
            [
             0,
             "#0d0887"
            ],
            [
             0.1111111111111111,
             "#46039f"
            ],
            [
             0.2222222222222222,
             "#7201a8"
            ],
            [
             0.3333333333333333,
             "#9c179e"
            ],
            [
             0.4444444444444444,
             "#bd3786"
            ],
            [
             0.5555555555555556,
             "#d8576b"
            ],
            [
             0.6666666666666666,
             "#ed7953"
            ],
            [
             0.7777777777777778,
             "#fb9f3a"
            ],
            [
             0.8888888888888888,
             "#fdca26"
            ],
            [
             1,
             "#f0f921"
            ]
           ]
          },
          "colorway": [
           "#636efa",
           "#EF553B",
           "#00cc96",
           "#ab63fa",
           "#FFA15A",
           "#19d3f3",
           "#FF6692",
           "#B6E880",
           "#FF97FF",
           "#FECB52"
          ],
          "font": {
           "color": "#2a3f5f"
          },
          "geo": {
           "bgcolor": "white",
           "lakecolor": "white",
           "landcolor": "#E5ECF6",
           "showlakes": true,
           "showland": true,
           "subunitcolor": "white"
          },
          "hoverlabel": {
           "align": "left"
          },
          "hovermode": "closest",
          "mapbox": {
           "style": "light"
          },
          "paper_bgcolor": "white",
          "plot_bgcolor": "#E5ECF6",
          "polar": {
           "angularaxis": {
            "gridcolor": "white",
            "linecolor": "white",
            "ticks": ""
           },
           "bgcolor": "#E5ECF6",
           "radialaxis": {
            "gridcolor": "white",
            "linecolor": "white",
            "ticks": ""
           }
          },
          "scene": {
           "xaxis": {
            "backgroundcolor": "#E5ECF6",
            "gridcolor": "white",
            "gridwidth": 2,
            "linecolor": "white",
            "showbackground": true,
            "ticks": "",
            "zerolinecolor": "white"
           },
           "yaxis": {
            "backgroundcolor": "#E5ECF6",
            "gridcolor": "white",
            "gridwidth": 2,
            "linecolor": "white",
            "showbackground": true,
            "ticks": "",
            "zerolinecolor": "white"
           },
           "zaxis": {
            "backgroundcolor": "#E5ECF6",
            "gridcolor": "white",
            "gridwidth": 2,
            "linecolor": "white",
            "showbackground": true,
            "ticks": "",
            "zerolinecolor": "white"
           }
          },
          "shapedefaults": {
           "line": {
            "color": "#2a3f5f"
           }
          },
          "ternary": {
           "aaxis": {
            "gridcolor": "white",
            "linecolor": "white",
            "ticks": ""
           },
           "baxis": {
            "gridcolor": "white",
            "linecolor": "white",
            "ticks": ""
           },
           "bgcolor": "#E5ECF6",
           "caxis": {
            "gridcolor": "white",
            "linecolor": "white",
            "ticks": ""
           }
          },
          "title": {
           "x": 0.05
          },
          "xaxis": {
           "automargin": true,
           "gridcolor": "white",
           "linecolor": "white",
           "ticks": "",
           "title": {
            "standoff": 15
           },
           "zerolinecolor": "white",
           "zerolinewidth": 2
          },
          "yaxis": {
           "automargin": true,
           "gridcolor": "white",
           "linecolor": "white",
           "ticks": "",
           "title": {
            "standoff": 15
           },
           "zerolinecolor": "white",
           "zerolinewidth": 2
          }
         }
        },
        "width": 800,
        "xaxis": {
         "title": {
          "text": "λ [nm]"
         }
        },
        "yaxis": {
         "range": [
          -2000,
          100
         ],
         "title": {
          "text": "θ [deg·cm² dmol⁻¹]"
         }
        }
       }
      }
     },
     "metadata": {},
     "output_type": "display_data"
    }
   ],
   "source": [
    "fig = go.Figure()\n",
    "\n",
    "spettri = pd.DataFrame()\n",
    "\n",
    "spettri['λ'] = spettriRAW['λ']\n",
    "\n",
    "for i, conc in enumerate(['C0', 'C1', 'C2', 'C3', 'C4', 'C5']):\n",
    "    λ = spettriRAW['λ']\n",
    "\n",
    "    θ = spettriRAW[conc] * 100 / (concentrazioniBLG[i] * N * l)\n",
    "\n",
    "    # APPAIO DELLE CODE\n",
    "    mean = θ[λ > 250].mean()\n",
    "    θ = θ - mean\n",
    "    spettri[conc] = θ  # aggiorna la colonna\n",
    "\n",
    "    fig.add_trace(go.Scatter(\n",
    "        x=λ,\n",
    "        y=θ,\n",
    "        mode='lines',\n",
    "        name=np.round(concentrazioni[i],2)\n",
    "    ))\n",
    "\n",
    "fig.update_layout(\n",
    "    yaxis=dict(range=[-2000,100]),\n",
    "    xaxis_title='λ [nm]',\n",
    "    yaxis_title='θ [deg·cm² dmol⁻¹]',\n",
    "    legend_title='C(GuHCl) [M]',\n",
    "    legend=dict(\n",
    "        x=1,\n",
    "        y=0,\n",
    "        xanchor='right',\n",
    "        yanchor='bottom'\n",
    "    ),\n",
    "    width=800,\n",
    "    height=600,\n",
    ")\n",
    "\n",
    "fig.write_image('./images/spettro_normalizzato.png')\n",
    "fig.write_html('./html/spettro_normalizzato.html')\n",
    "\n",
    "fig.show()"
   ]
  },
  {
   "cell_type": "code",
   "execution_count": 7,
   "id": "b6f7f5dd",
   "metadata": {},
   "outputs": [
    {
     "data": {
      "text/html": [
       "<div>\n",
       "<style scoped>\n",
       "    .dataframe tbody tr th:only-of-type {\n",
       "        vertical-align: middle;\n",
       "    }\n",
       "\n",
       "    .dataframe tbody tr th {\n",
       "        vertical-align: top;\n",
       "    }\n",
       "\n",
       "    .dataframe thead th {\n",
       "        text-align: right;\n",
       "    }\n",
       "</style>\n",
       "<table border=\"1\" class=\"dataframe\">\n",
       "  <thead>\n",
       "    <tr style=\"text-align: right;\">\n",
       "      <th></th>\n",
       "      <th>Concentrazione</th>\n",
       "      <th>227</th>\n",
       "      <th>226</th>\n",
       "      <th>225</th>\n",
       "      <th>224</th>\n",
       "      <th>223</th>\n",
       "      <th>222</th>\n",
       "      <th>221</th>\n",
       "      <th>220</th>\n",
       "    </tr>\n",
       "  </thead>\n",
       "  <tbody>\n",
       "    <tr>\n",
       "      <th>0</th>\n",
       "      <td>0.000000</td>\n",
       "      <td>-1102.029113</td>\n",
       "      <td>-1153.781861</td>\n",
       "      <td>-1223.800285</td>\n",
       "      <td>-1293.818710</td>\n",
       "      <td>-1394.279927</td>\n",
       "      <td>-1424.722720</td>\n",
       "      <td>-1610.423759</td>\n",
       "      <td>-1683.486462</td>\n",
       "    </tr>\n",
       "    <tr>\n",
       "      <th>1</th>\n",
       "      <td>1.529499</td>\n",
       "      <td>-1017.316045</td>\n",
       "      <td>-992.768605</td>\n",
       "      <td>-1038.356707</td>\n",
       "      <td>-1094.465141</td>\n",
       "      <td>-1147.066798</td>\n",
       "      <td>-1220.709118</td>\n",
       "      <td>-1360.980203</td>\n",
       "      <td>-1445.142854</td>\n",
       "    </tr>\n",
       "    <tr>\n",
       "      <th>2</th>\n",
       "      <td>3.093301</td>\n",
       "      <td>-879.354767</td>\n",
       "      <td>-913.825749</td>\n",
       "      <td>-965.532223</td>\n",
       "      <td>-1044.815483</td>\n",
       "      <td>-1044.815483</td>\n",
       "      <td>-1124.098743</td>\n",
       "      <td>-1279.218165</td>\n",
       "      <td>-1224.064593</td>\n",
       "    </tr>\n",
       "    <tr>\n",
       "      <th>3</th>\n",
       "      <td>4.668148</td>\n",
       "      <td>-741.542243</td>\n",
       "      <td>-711.053983</td>\n",
       "      <td>-795.743595</td>\n",
       "      <td>-799.131179</td>\n",
       "      <td>-836.394609</td>\n",
       "      <td>-809.293933</td>\n",
       "      <td>-843.169778</td>\n",
       "      <td>-822.844271</td>\n",
       "    </tr>\n",
       "    <tr>\n",
       "      <th>4</th>\n",
       "      <td>6.130150</td>\n",
       "      <td>-568.853863</td>\n",
       "      <td>-599.183749</td>\n",
       "      <td>-552.003926</td>\n",
       "      <td>-592.443774</td>\n",
       "      <td>-504.824103</td>\n",
       "      <td>-605.923723</td>\n",
       "      <td>-737.353229</td>\n",
       "      <td>-666.583495</td>\n",
       "    </tr>\n",
       "    <tr>\n",
       "      <th>5</th>\n",
       "      <td>7.735930</td>\n",
       "      <td>-577.144306</td>\n",
       "      <td>-639.239928</td>\n",
       "      <td>-497.799900</td>\n",
       "      <td>-552.996009</td>\n",
       "      <td>-477.101360</td>\n",
       "      <td>-621.991144</td>\n",
       "      <td>-515.048684</td>\n",
       "      <td>-628.890657</td>\n",
       "    </tr>\n",
       "  </tbody>\n",
       "</table>\n",
       "</div>"
      ],
      "text/plain": [
       "   Concentrazione          227          226          225          224  \\\n",
       "0        0.000000 -1102.029113 -1153.781861 -1223.800285 -1293.818710   \n",
       "1        1.529499 -1017.316045  -992.768605 -1038.356707 -1094.465141   \n",
       "2        3.093301  -879.354767  -913.825749  -965.532223 -1044.815483   \n",
       "3        4.668148  -741.542243  -711.053983  -795.743595  -799.131179   \n",
       "4        6.130150  -568.853863  -599.183749  -552.003926  -592.443774   \n",
       "5        7.735930  -577.144306  -639.239928  -497.799900  -552.996009   \n",
       "\n",
       "           223          222          221          220  \n",
       "0 -1394.279927 -1424.722720 -1610.423759 -1683.486462  \n",
       "1 -1147.066798 -1220.709118 -1360.980203 -1445.142854  \n",
       "2 -1044.815483 -1124.098743 -1279.218165 -1224.064593  \n",
       "3  -836.394609  -809.293933  -843.169778  -822.844271  \n",
       "4  -504.824103  -605.923723  -737.353229  -666.583495  \n",
       "5  -477.101360  -621.991144  -515.048684  -628.890657  "
      ]
     },
     "metadata": {},
     "output_type": "display_data"
    }
   ],
   "source": [
    "λ = spettri['λ']\n",
    "\n",
    "λmin = 220\n",
    "λmax = 227\n",
    "\n",
    "imin,imax = λ[λ == λmin].index[0], λ[λ == λmax].index[0]\n",
    "# print(imin,imax)\n",
    "\n",
    "Λ = np.arange(λmax,λmin-1,-1)\n",
    "\n",
    "# Seleziona solo le colonne delle concentrazioni (senza le colonne λ)\n",
    "spettro_ristretto = spettri.loc[imax:imin, ['C0','C1', 'C2', 'C3', 'C4', 'C5']]\n",
    "spettro_ristretto = spettro_ristretto.T\n",
    "spettro_ristretto.columns = Λ\n",
    "spettro_ristretto.insert(0, 'Concentrazione', spettro_ristretto.index)\n",
    "spettro_ristretto.reset_index(drop=True, inplace=True)\n",
    "spettro_ristretto['Concentrazione'] = concentrazioni\n",
    "display(spettro_ristretto)\n"
   ]
  },
  {
   "cell_type": "code",
   "execution_count": 8,
   "id": "1da9c8d7",
   "metadata": {},
   "outputs": [],
   "source": [
    "# fig = go.Figure()\n",
    "colors = px.colors.sample_colorscale(px.colors.sequential.Plasma, len(Λ))\n",
    "\n",
    "# for idx,i in enumerate(range(λmin,λmax)):\n",
    "#     fig.add_trace(go.Scatter(\n",
    "#         x=spettro_ristretto['Concentrazione'],\n",
    "#         y=spettro_ristretto[i],\n",
    "#         mode='lines+markers',\n",
    "#         name=str(i)+'nm',\n",
    "#         line=dict(color=colors[idx]),\n",
    "#         marker=dict(color=colors[idx])\n",
    "#     ))\n",
    "\n",
    "# fig.update_layout(\n",
    "#     # yaxis_type='log',\n",
    "#     #title='Spettri ristretti (220-230 nm)',\n",
    "#     xaxis_title='Concentrazione [M]',\n",
    "#     yaxis_title='θ',\n",
    "#     legend_title='λ [nm]',\n",
    "#     height=800,\n",
    "#     width=600,\n",
    "#     legend=dict(\n",
    "#         x=1,\n",
    "#         y=0,\n",
    "#         xanchor='right',\n",
    "#         yanchor='bottom'\n",
    "#     )\n",
    "# )\n",
    "# # fig.show()"
   ]
  },
  {
   "cell_type": "code",
   "execution_count": 9,
   "id": "b315f4c1",
   "metadata": {},
   "outputs": [],
   "source": [
    "def sigmoid(x,m,Cmid, yN,yD):\n",
    "    R = 8.314  # J/(mol * K)\n",
    "    T = 300  # K\n",
    "    expo = m * (Cmid-x) / (R*T)\n",
    "    num = yN + yD * np.exp(-expo)\n",
    "    den = 1 + np.exp(-expo)\n",
    "    return num/den\n",
    "\n",
    "\n",
    "# x = np.linspace(0,6,1000)\n",
    "# plt.plot(x,sigmoid(x,-0.005,-0.0001,2,6))\n",
    "\n",
    "# plt.show()"
   ]
  },
  {
   "cell_type": "code",
   "execution_count": 10,
   "id": "0400f6d7",
   "metadata": {},
   "outputs": [
    {
     "data": {
      "text/html": [
       "<div>\n",
       "<style scoped>\n",
       "    .dataframe tbody tr th:only-of-type {\n",
       "        vertical-align: middle;\n",
       "    }\n",
       "\n",
       "    .dataframe tbody tr th {\n",
       "        vertical-align: top;\n",
       "    }\n",
       "\n",
       "    .dataframe thead th {\n",
       "        text-align: right;\n",
       "    }\n",
       "</style>\n",
       "<table border=\"1\" class=\"dataframe\">\n",
       "  <thead>\n",
       "    <tr style=\"text-align: right;\">\n",
       "      <th></th>\n",
       "      <th>λ</th>\n",
       "      <th>m</th>\n",
       "      <th>m_err</th>\n",
       "      <th>Cmid</th>\n",
       "      <th>Cmid_err</th>\n",
       "      <th>Cm covariance</th>\n",
       "    </tr>\n",
       "  </thead>\n",
       "  <tbody>\n",
       "    <tr>\n",
       "      <th>0</th>\n",
       "      <td>227</td>\n",
       "      <td>2364.975140</td>\n",
       "      <td>382.904036</td>\n",
       "      <td>3.486600</td>\n",
       "      <td>0.194614</td>\n",
       "      <td>0.037875</td>\n",
       "    </tr>\n",
       "    <tr>\n",
       "      <th>1</th>\n",
       "      <td>226</td>\n",
       "      <td>2420.204240</td>\n",
       "      <td>605.381878</td>\n",
       "      <td>2.892844</td>\n",
       "      <td>0.290547</td>\n",
       "      <td>0.084417</td>\n",
       "    </tr>\n",
       "    <tr>\n",
       "      <th>2</th>\n",
       "      <td>225</td>\n",
       "      <td>1871.825709</td>\n",
       "      <td>358.966189</td>\n",
       "      <td>3.768440</td>\n",
       "      <td>0.283545</td>\n",
       "      <td>0.080398</td>\n",
       "    </tr>\n",
       "    <tr>\n",
       "      <th>3</th>\n",
       "      <td>224</td>\n",
       "      <td>2009.534318</td>\n",
       "      <td>388.933036</td>\n",
       "      <td>3.626932</td>\n",
       "      <td>0.269675</td>\n",
       "      <td>0.072725</td>\n",
       "    </tr>\n",
       "    <tr>\n",
       "      <th>4</th>\n",
       "      <td>223</td>\n",
       "      <td>1908.256012</td>\n",
       "      <td>410.361814</td>\n",
       "      <td>3.608969</td>\n",
       "      <td>0.313068</td>\n",
       "      <td>0.098012</td>\n",
       "    </tr>\n",
       "    <tr>\n",
       "      <th>5</th>\n",
       "      <td>222</td>\n",
       "      <td>2351.113585</td>\n",
       "      <td>479.661032</td>\n",
       "      <td>3.353461</td>\n",
       "      <td>0.245753</td>\n",
       "      <td>0.060395</td>\n",
       "    </tr>\n",
       "    <tr>\n",
       "      <th>6</th>\n",
       "      <td>221</td>\n",
       "      <td>1886.413799</td>\n",
       "      <td>320.904530</td>\n",
       "      <td>3.837163</td>\n",
       "      <td>0.249756</td>\n",
       "      <td>0.062378</td>\n",
       "    </tr>\n",
       "    <tr>\n",
       "      <th>7</th>\n",
       "      <td>220</td>\n",
       "      <td>2398.440757</td>\n",
       "      <td>277.862163</td>\n",
       "      <td>3.201543</td>\n",
       "      <td>0.136353</td>\n",
       "      <td>0.018592</td>\n",
       "    </tr>\n",
       "  </tbody>\n",
       "</table>\n",
       "</div>"
      ],
      "text/plain": [
       "     λ            m       m_err      Cmid  Cmid_err  Cm covariance\n",
       "0  227  2364.975140  382.904036  3.486600  0.194614       0.037875\n",
       "1  226  2420.204240  605.381878  2.892844  0.290547       0.084417\n",
       "2  225  1871.825709  358.966189  3.768440  0.283545       0.080398\n",
       "3  224  2009.534318  388.933036  3.626932  0.269675       0.072725\n",
       "4  223  1908.256012  410.361814  3.608969  0.313068       0.098012\n",
       "5  222  2351.113585  479.661032  3.353461  0.245753       0.060395\n",
       "6  221  1886.413799  320.904530  3.837163  0.249756       0.062378\n",
       "7  220  2398.440757  277.862163  3.201543  0.136353       0.018592"
      ]
     },
     "metadata": {},
     "output_type": "display_data"
    }
   ],
   "source": [
    "# fit con sigmoide\n",
    "\n",
    "fit_results = []\n",
    "\n",
    "for i in spettro_ristretto.columns[1:]:\n",
    "    C = concentrazioni\n",
    "    θ = spettro_ristretto[i].to_numpy()\n",
    "\n",
    "    # guess\n",
    "    yD = θ[-1]\n",
    "    yN = θ[0] # NON è UN PARAMETRO\n",
    "    m = 2666\n",
    "    Cmid = np.mean(C)\n",
    "\n",
    "    # fit\n",
    "    # print(i)\n",
    "    popt, pcov = curve_fit(lambda x,a,b: sigmoid(x,a,b,yN,yD), C, θ, p0=[m, Cmid]) # ,maxfev=100000,sigma=25)\n",
    "    perr = np.sqrt(np.diag(pcov))\n",
    "    fit_results.append({\n",
    "        'λ': i,\n",
    "        'm': popt[0], 'm_err': perr[0],\n",
    "        'Cmid': popt[1], 'Cmid_err': perr[1],\n",
    "        'Cm covariance': pcov[1, 1],\n",
    "        #'yN': popt[2], 'yN_err': perr[2],\n",
    "        #'yD': popt[3], 'yD_err': perr[3],\n",
    "    })\n",
    "\n",
    "fit_df = pd.DataFrame(fit_results)\n",
    "display(fit_df)"
   ]
  },
  {
   "cell_type": "code",
   "execution_count": 21,
   "id": "c7f7a321",
   "metadata": {},
   "outputs": [
    {
     "data": {
      "application/vnd.plotly.v1+json": {
       "config": {
        "plotlyServerURL": "https://plot.ly"
       },
       "data": [
        {
         "line": {
          "color": "rgb(13, 8, 135)"
         },
         "mode": "lines",
         "name": "227",
         "type": "scatter",
         "x": {
          "bdata": "AAAAAAAAAMAFCMaq4c//vwsQjFXDn/+/EBhSAKVv/78VIBirhj//vxoo3lVoD/+/IDCkAErf/r8lOGqrK6/+vypAMFYNf/6/L0j2AO9O/r81ULyr0B7+vzpYglay7v2/P2BIAZS+/b9EaA6sdY79v0pw1FZXXv2/T3iaATku/b9UgGCsGv78v1qIJlf8zfy/X5DsAd6d/L9kmLKsv238v2mgeFehPfy/b6g+AoMN/L90sAStZN37v3m4yldGrfu/fsCQAih9+7+EyFatCU37v4nQHFjrHPu/jtjiAs3s+r+U4Kitrrz6v5nobliQjPq/nvA0A3Jc+r+j+PqtUyz6v6gAwVg1/Pm/rgiHAxfM+b+zEE2u+Jv5v7gYE1naa/m/viDZA7w7+b/DKJ+unQv5v8gwZVl/2/i/zTgrBGGr+L/SQPGuQnv4v9hIt1kkS/i/3VB9BAYb+L/iWEOv5+r3v+hgCVrJuve/7WjPBKuK97/ycJWvjFr3v/h4W1puKve//YAhBVD69r8CieevMcr2vwiRrVoTmva/DJlzBfVp9r8SoTmw1jn2vxep/1q4Cfa/HLHFBZrZ9b8iuYuwe6n1vyfBUVtdefW/LMkXBj9J9b8y0d2wIBn1vzbZo1sC6fS/POFpBuS49L9B6S+xxYj0v0bx9VunWPS/TPm7Boko9L9RAYKxavjzv1YJSFxMyPO/XBEOBy6Y879hGdSxD2jzv2YhmlzxN/O/bClgB9MH879wMSaytNfyv3Y57FyWp/K/e0GyB3h38r+ASXiyWUfyv4ZRPl07F/K/i1kECB3n8b+QYcqy/rbxv5ZpkF3ghvG/mnFWCMJW8b+geRyzoybxv6WB4l2F9vC/qomoCGfG8L+wkW6zSJbwv7WZNF4qZvC/uqH6CAw28L/AqcCz7QXwv4pjDb2eq++/lHOZEmJL77+egyVoJevuv6qTsb3oiu6/tKM9E6wq7r++s8lob8rtv8jDVb4yau2/1NPhE/YJ7b/e421puansv+jz+b58Sey/9AOGFEDp67/+ExJqA4nrvwgknr/GKOu/EjQqFYrI6r8eRLZqTWjqvyhUQsAQCOq/MmTOFdSn6b88dFprl0fpv0iE5sBa5+i/UpRyFh6H6L9cpP5r4Sbov2a0isGkxue/csQWF2hm57981KJsKwbnv4bkLsLupea/kPS6F7JF5r+cBEdtdeXlv6YU08I4heW/sCRfGPwk5b+8NOttv8Tkv8ZEd8OCZOS/0FQDGUYE5L/aZI9uCaTjv+Z0G8TMQ+O/8ISnGZDj4r/6lDNvU4PivwSlv8QWI+K/ELVLGtrC4b8axddvnWLhvyTVY8VgAuG/LuXvGiSi4L869Xtw50Hgv4gKEIxVw9+/nCooN9wC37+0SkDiYkLev8hqWI3pgd2/3IpwOHDB3L/wqojj9gDcvwjLoI59QNu/HOu4OQSA2r8wC9Hkir/Zv0Qr6Y8R/9i/XEsBO5g+2L9waxnmHn7Xv4SLMZGlvda/mKtJPCz91b+wy2HnsjzVv8TreZI5fNS/2AuSPcC707/wK6roRvvSvwRMwpPNOtK/GGzaPlR60b8sjPLp2rnQv4hYFSrD8s+/sJhFgNBxzr/Y2HXW3fDMvwAZpizrb8u/MFnWgvjuyb9YmQbZBW7Iv4DZNi8T7ca/qBlnhSBsxb/YWZfbLevDvwCaxzE7asK/KNr3h0jpwL+gNFC8q9C+vwC1sGjGzru/UDURFeHMuL+gtXHB+8q1vwA20m0WybK/oGxlNGKOr79AbSaNl4qpv+Bt5+XMhqO/QN1QfQQGm78AvaVd3vyNvwD+pgLPtme/AD5S3HYhgj+AHae8UBiVP0COkgXzj6A/gI3RrL2Tpj/AjBBUiJesPyDGp32pTbE/wEVH0Y5PtD9gxeYkdFG3PyBFhnhZU7o/wMQlzD5VvT8wouIPkivAPxBisrmErME/4CGCY3ctwz/A4VENaq7EP5ChIbdcL8Y/YGHxYE+wxz9AIcEKQjHJPxDhkLQ0sso/4KBgXiczzD/AYDAIGrTNP5AgALIMNc8/MPDnrf9a0D8g0M8CeRvRPwiwt1fy29E/+I+frGuc0j/gb4cB5VzTP8hPb1ZeHdQ/uC9Xq9fd1D+gDz8AUZ7VP4jvJlXKXtY/eM8OqkMf1z9gr/b+vN/XP1CP3lM2oNg/OG/GqK9g2T8gT679KCHaPxAvllKi4do/+A5+pxui2z/g7mX8lGLcP9DOTVEOI90/uK41pofj3T+gjh37AKTeP5BuBVB6ZN8/PKd20nkS4D80l+p8tnLgPyiHXifz0uA/HHfS0S8z4T8UZ0Z8bJPhPwhXuiap8+E//EYu0eVT4j/0NqJ7IrTiP+gmFiZfFOM/4BaK0Jt04z/UBv562NTjP8j2cSUVNeQ/wOblz1GV5D+01ll6jvXkP6jGzSTLVeU/oLZBzwe25T+UprV5RBbmP4iWKSSBduY/gIadzr3W5j90dhF5+jbnP2xmhSM3l+c/YFb5zXP35z9URm14sFfoP0w24SLtt+g/QCZVzSkY6T80Fsl3ZnjpPywGPSKj2Ok/IPawzN846j8U5iR3HJnqPwzWmCFZ+eo/AMYMzJVZ6z/4tYB20rnrP+yl9CAPGuw/4JVoy0t67D/Yhdx1iNrsP8x1UCDFOu0/wGXEygGb7T+4VTh1PvvtP6xFrB97W+4/pDUgyre77j+YJZR09BvvP4wVCB8xfO8/hAV8yW3c7z+8+vc5VR7wP7byMY9zTvA/supr5JF+8D+s4qU5sK7wP6ba347O3vA/otIZ5OwO8T+cylM5Cz/xP5jCjY4pb/E/krrH40ef8T+MsgE5Zs/xP4iqO46E//E/gqJ146Iv8j98mq84wV/yP3iS6Y3fj/I/cooj4/2/8j9ugl04HPDyP2h6l406IPM/YnLR4lhQ8z9eags4d4DzP1hiRY2VsPM/Ulp/4rPg8z9OUrk30hD0P0hK84zwQPQ/QkIt4g5x9D8+Omc3LaH0PzgyoYxL0fQ/NCrb4WkB9T8uIhU3iDH1PygaT4ymYfU/JBKJ4cSR9T8eCsM248H1PxgC/YsB8vU/FPo24R8i9j8O8nA2PlL2PwjqqotcgvY/BOLk4Hqy9j/+2R42meL2P/rRWIu3Evc/9MmS4NVC9z/uwcw19HL3P+q5BosSo/c/5LFA4DDT9z/eqXo1TwP4P9qhtIptM/g/1Jnu34tj+D/QkSg1qpP4P8qJYorIw/g/xIGc3+bz+D/AedY0BST5P7pxEIojVPk/tGlK30GE+T+wYYQ0YLT5P6pZvol+5Pk/pFH43pwU+j+gSTI0u0T6P5pBbInZdPo/ljmm3vek+j+QMeAzFtX6P4opGok0Bfs/hiFU3lI1+z+AGY4zcWX7P3oRyIiPlfs/dgkC3q3F+z9wATwzzPX7P2z5dYjqJfw/ZvGv3QhW/D9g6ekyJ4b8P1zhI4hFtvw/Vtld3WPm/D9Q0Zcyghb9P0zJ0YegRv0/RsEL3b52/T9AuUUy3ab9Pzyxf4f71v0/Nqm53BkH/j8yofMxODf+PyyZLYdWZ/4/JpFn3HSX/j8iiaExk8f+PxyB24ax9/4/FnkV3M8n/z8ScU8x7lf/PwxpiYYMiP8/BmHD2yq4/z8CWf0wSej/P36oG8MzDABAfKS47UIkAEB4oFUYUjwAQHac8kJhVABAdJiPbXBsAEBylCyYf4QAQG6QycKOnABAbIxm7Z20AEBqiAMYrcwAQGaEoEK85ABAZIA9bcv8AEBifNqX2hQBQF54d8LpLAFAXHQU7fhEAUBacLEXCF0BQFZsTkIXdQFAVGjrbCaNAUBSZIiXNaUBQE5gJcJEvQFATFzC7FPVAUBKWF8XY+0BQEZU/EFyBQJARFCZbIEdAkBCTDaXkDUCQEBI08GfTQJAPERw7K5lAkA6QA0Xvn0CQDg8qkHNlQJANDhHbNytAkAyNOSW68UCQDAwgcH63QJALCwe7An2AkAqKLsWGQ4DQCgkWEEoJgNAJCD1azc+A0AiHJKWRlYDQCAYL8FVbgNAHBTM62SGA0AaEGkWdJ4DQBgMBkGDtgNAFAija5LOA0ASBECWoeYDQBAA3cCw/gNADPx5678WBEAK+BYWzy4EQAj0s0DeRgRABvBQa+1eBEAC7O2V/HYEQADoisALjwRA/uMn6xqnBED638QVKr8EQPjbYUA51wRA9tf+akjvBEDy05uVVwcFQPDPOMBmHwVA7svV6nU3BUDqx3IVhU8FQOjDD0CUZwVA5r+saqN/BUDiu0mVspcFQOC35r/BrwVA3rOD6tDHBUDaryAV4N8FQNirvT/v9wVA1qdaav4PBkDUo/eUDSgGQNCflL8cQAZAzpsx6itYBkDMl84UO3AGQMiTaz9KiAZAxo8IalmgBkDEi6WUaLgGQMCHQr930AZAvoPf6YboBkC8f3wUlgAHQLh7GT+lGAdAtne2abQwB0C0c1OUw0gHQLBv8L7SYAdArmuN6eF4B0CsZyoU8ZAHQKhjxz4AqQdApl9kaQ/BB0CkWwGUHtkHQKJXnr4t8QdAnlM76TwJCECcT9gTTCEIQJpLdT5bOQhAlkcSaWpRCECUQ6+TeWkIQJI/TL6IgQhAjjvp6JeZCECMN4YTp7EIQIozIz62yQhAhi/AaMXhCECEK12T1PkIQIIn+r3jEQlAfiOX6PIpCUB8HzQTAkIJQHob0T0RWglAdhduaCByCUB0EwuTL4oJQHIPqL0+oglAcAtF6E26CUBsB+ISXdIJQGoDfz1s6glAaP8baHsCCkBk+7iSihoKQGL3Vb2ZMgpAYPPy56hKCkBc748SuGIKQFrrLD3HegpAWOfJZ9aSCkBU42aS5aoKQFLfA730wgpAUNug5wPbCkBM1z0SE/MKQErT2jwiCwtASM93ZzEjC0BEyxSSQDsLQELHsbxPUwtAQMNO515rC0A+v+sRboMLQDq7iDx9mwtAOLclZ4yzC0A2s8KRm8sLQDKvX7yq4wtAMKv85rn7C0Aup5kRyRMMQCqjNjzYKwxAKJ/TZudDDEAmm3CR9lsMQCKXDbwFdAxAIJOq5hSMDEAej0cRJKQMQBqL5DszvAxAGIeBZkLUDEAWgx6RUewMQBJ/u7tgBA1AEHtY5m8cDUAOd/UQfzQNQApzkjuOTA1ACG8vZp1kDUAGa8yQrHwNQARnabu7lA1AAGMG5sqsDUD+XqMQ2sQNQPxaQDvp3A1A+FbdZfj0DUD2UnqQBw0OQPROF7sWJQ5A8Eq05SU9DkDuRlEQNVUOQOxC7jpEbQ5A6D6LZVOFDkDmOiiQYp0OQOQ2xbpxtQ5A4DJi5YDNDkDeLv8PkOUOQNwqnDqf/Q5A2CY5Za4VD0DWItaPvS0PQNQec7rMRQ9A0hoQ5dtdD0DOFq0P63UPQMwSSjr6jQ9Ayg7nZAmmD0DGCoSPGL4PQMQGIbon1g9AwgK+5DbuD0Bff60HIwMQQF79+5wqDxBAXXtKMjIbEEBb+ZjHOScQQFp351xBMxBAWfU18kg/EEBXc4SHUEsQQFbx0hxYVxBAVW8hsl9jEEBT7W9HZ28QQFJrvtxuexBAUekMcnaHEEBQZ1sHfpMQQE7lqZyFnxBATWP4MY2rEEBM4UbHlLcQQEpflVycwxBASd3j8aPPEEBIWzKHq9sQQEbZgByz5xBARVfPsbrzEEBE1R1Hwv8QQEJTbNzJCxFAQdG6cdEXEUBATwkH2SMRQD7NV5zgLxFAPUumMeg7EUA8yfTG70cRQDpHQ1z3UxFAOcWR8f5fEUA4Q+CGBmwRQDfBLhwOeBFANT99sRWEEUA0vctGHZARQDM7GtwknBFAMblocSyoEUAwN7cGNLQRQC+1BZw7wBFALTNUMUPMEUAssaLGStgRQCsv8VtS5BFAKa0/8VnwEUAoK46GYfwRQCep3BtpCBJAJScrsXAUEkAkpXlGeCASQCMjyNt/LBJAIaEWcYc4EkAgH2UGj0QSQB+ds5uWUBJAHRsCMZ5cEkAcmVDGpWgSQBsXn1utdBJAGpXt8LSAEkAYEzyGvIwSQBeRihvEmBJAFg/ZsMukEkAUjSdG07ASQBMLdtvavBJAEonEcOLIEkAQBxMG6tQSQA+FYZvx4BJADgOwMPnsEkAMgf7FAPkSQAv/TFsIBRNACn2b8A8RE0AI++mFFx0TQAd5OBsfKRNABveGsCY1E0AEddVFLkETQAPzI9s1TRNAAnFycD1ZE0AB78AFRWUTQP9sD5tMcRNA/updMFR9E0D9aKzFW4kTQPvm+lpjlRNA+mRJ8GqhE0D54peFcq0TQPdg5hp6uRNA9t40sIHFE0D1XINFidETQPPa0dqQ3RNA8lggcJjpE0Dx1m4FoPUTQO9UvZqnARRA7tILMK8NFEDtUFrFthkUQOvOqFq+JRRA6kz378UxFEDpykWFzT0UQOhIlBrVSRRA5sbir9xVFEDlRDFF5GEUQOTCf9rrbRRA4kDOb/N5FEDhvhwF+4UUQOA8a5oCkhRA3rq5LwqeFEDdOAjFEaoUQNy2VloZthRA2jSl7yDCFEDZsvOEKM4UQNgwQhow2hRA1q6QrzfmFEDVLN9EP/IUQNSqLdpG/hRA0ih8b04KFUDRpsoEVhYVQNAkGZpdIhVAz6JnL2UuFUDNILbEbDoVQMyeBFp0RhVAyxxT73tSFUDJmqGEg14VQMgY8BmLahVAx5Y+r5J2FUDFFI1EmoIVQMSS29mhjhVAwxAqb6maFUDBjngEsaYVQMAMx5m4shVAv4oVL8C+FUC9CGTEx8oVQLyGslnP1hVAuwQB79biFUC5gk+E3u4VQLgAnhnm+hVAt37sru0GFkC2/DpE9RIWQLR6idn8HhZAs/jXbgQrFkCydiYEDDcWQLD0dJkTQxZAr3LDLhtPFkCu8BHEIlsWQKxuYFkqZxZAq+yu7jFzFkCqav2DOX8WQKjoSxlBixZAp2aarkiXFkCm5OhDUKMWQKRiN9lXrxZAo+CFbl+7FkCiXtQDZ8cWQKDcIplu0xZAn1pxLnbfFkCe2L/DfesWQJxWDlmF9xZAm9Rc7owDF0CaUquDlA8XQJnQ+RicGxdAl05IrqMnF0CWzJZDqzMXQJVK5diyPxdAk8gzbrpLF0CSRoIDwlcXQJHE0JjJYxdAj0IfLtFvF0COwG3D2HsXQI0+vFjghxdAi7wK7ueTF0CKOlmD758XQIm4pxj3qxdAhzb2rf63F0CGtERDBsQXQIUyk9gN0BdAg7DhbRXcF0CCLjADHegXQIGsfpgk9BdAgCrNLSwAGEB+qBvDMwwYQHwmalg7GBhAfKS47UIkGEB6IgeDSjAYQHigVRhSPBhAeB6krVlIGEB2nPJCYVQYQHQaQdhoYBhAdJiPbXBsGEByFt4CeHgYQHKULJh/hBhAcBJ7LYeQGEBukMnCjpwYQG4OGFiWqBhAbIxm7Z20GEBqCrWCpcAYQGqIAxitzBhAaAZSrbTYGEBmhKBCvOQYQGYC79fD8BhAZIA9bcv8GEBi/osC0wgZQGJ82pfaFBlAYPooLeIgGUBeeHfC6SwZQF72xVfxOBlAXHQU7fhEGUBa8mKCAFEZQFpwsRcIXRlAWO7/rA9pGUBWbE5CF3UZQFbqnNcegRlAVGjrbCaNGUBS5jkCLpkZQFJkiJc1pRlAUOLWLD2xGUBOYCXCRL0ZQE7ec1dMyRlATFzC7FPVGUBK2hCCW+EZQEpYXxdj7RlASNatrGr5GUBGVPxBcgUaQEbSStd5ERpARFCZbIEdGkBCzucBiSkaQEJMNpeQNRpAQMqELJhBGkBASNPBn00aQD7GIVenWRpAPERw7K5lGkA8wr6BtnEaQDpADRe+fRpAOL5brMWJGkA4PKpBzZUaQDa6+NbUoRpANDhHbNytGkA0tpUB5LkaQDI05JbrxRpAMLIyLPPRGkAwMIHB+t0aQC6uz1YC6hpALCwe7An2GkAsqmyBEQIbQCoouxYZDhtAKKYJrCAaG0AoJFhBKCYbQCaiptYvMhtAJCD1azc+G0AknkMBP0obQCIckpZGVhtAIJrgK05iG0AgGC/BVW4bQB6WfVZdehtAHBTM62SGG0AckhqBbJIbQBoQaRZ0nhtAGI63q3uqG0AYDAZBg7YbQBaKVNaKwhtAFAija5LOG0AUhvEAmtobQBIEQJah5htAEIKOK6nyG0AQAN3AsP4bQA5+K1a4ChxADPx5678WHEAMesiAxyIcQAr4FhbPLhxACnZlq9Y6HEAI9LNA3kYcQAZyAtblUhxABvBQa+1eHEAEbp8A9WocQALs7ZX8dhxAAmo8KwSDHEAA6IrAC48cQP5l2VUTmxxA/uMn6xqnHED8YXaAIrMcQPrfxBUqvxxA+l0TqzHLHED422FAOdccQPZZsNVA4xxA9tf+akjvHED0VU0AUPscQPLTm5VXBx1A8lHqKl8THUDwzzjAZh8dQO5Nh1VuKx1A7svV6nU3HUDsSSSAfUMdQOrHchWFTx1A6kXBqoxbHUDoww9AlGcdQOZBXtWbcx1A5r+saqN/HUDkPfv/qosdQOK7SZWylx1A4jmYKrqjHUDgt+a/wa8dQN41NVXJux1A3rOD6tDHHUDcMdJ/2NMdQNqvIBXg3x1A2i1vqufrHUDYq70/7/cdQNgpDNX2Ax5A1qdaav4PHkDUJan/BRweQNSj95QNKB5A0iFGKhU0HkDQn5S/HEAeQNAd41QkTB5Azpsx6itYHkDMGYB/M2QeQMyXzhQ7cB5AyhUdqkJ8HkDIk2s/SogeQMgRutRRlB5Axo8IalmgHkDEDVf/YKweQMSLpZRouB5Awgn0KXDEHkDAh0K/d9AeQMAFkVR/3B5AvoPf6YboHkC8AS5/jvQeQLx/fBSWAB9Auv3KqZ0MH0C4exk/pRgfQLj5Z9SsJB9Atne2abQwH0C09QT/uzwfQLRzU5TDSB9AsvGhKctUH0Cwb/C+0mAfQLDtPlTabB9ArmuN6eF4H0Cs6dt+6YQfQKxnKhTxkB9AquV4qficH0CoY8c+AKkfQKjhFdQHtR9Apl9kaQ/BH0Cm3bL+Fs0fQKRbAZQe2R9AotlPKSblH0CiV56+LfEfQKDV7FM1/R9Az6mddJ4EIEDP6EQ/ogogQM4n7AmmECBAzWaT1KkWIEDNpTqfrRwgQMzk4WmxIiBAyyOJNLUoIEDLYjD/uC4gQMqh18m8NCBAyeB+lMA6IEDJHyZfxEAgQMhezSnIRiBAx5109MtMIEDH3Bu/z1IgQMYbw4nTWCBAxVpqVNdeIEDFmREf22QgQMTYuOneaiBAwxdgtOJwIEDDVgd/5nYgQMKVrknqfCBAwdRVFO6CIEDBE/3e8YggQMBSpKn1jiBAv5FLdPmUIEC/0PI+/ZogQL4PmgkBoSBAvU5B1ASnIEC9jeieCK0gQLzMj2kMsyBAuws3NBC5IEC7St7+E78gQLqJhckXxSBAucgslBvLIEC5B9ReH9EgQLhGeykj1yBAuIUi9CbdIEC3xMm+KuMgQLYDcYku6SBAtkIYVDLvIEC1gb8eNvUgQLTAZuk5+yBAtP8NtD0BIUCzPrV+QQchQLJ9XElFDSFAsrwDFEkTIUCx+6reTBkhQLA6UqlQHyFAsHn5c1QlIUCvuKA+WCshQK73RwlcMSFArjbv0183IUCtdZaeYz0hQKy0PWlnQyFArPPkM2tJIUCrMoz+bk8hQKpxM8lyVSFAqrDak3ZbIUCp74FeemEhQKguKSl+ZyFAqG3Q84FtIUCnrHe+hXMhQKbrHomJeSFApirGU41/IUClaW0ekYUhQKSoFOmUiyFApOe7s5iRIUCjJmN+nJchQKJlCkmgnSFAoqSxE6SjIUCh41jep6khQKAiAKmrryFAoGGnc6+1IUCfoE4+s7shQJ/f9Qi3wSFAnh6d07rHIUCdXUSevs0hQJ2c62jC0yFAnNuSM8bZIUCbGjr+yd8hQJtZ4cjN5SFAmpiIk9HrIUCZ1y9e1fEhQJkW1yjZ9yFAmFV+89z9IUCXlCW+4AMiQJfTzIjkCSJAlhJ0U+gPIkCVURse7BUiQJWQwujvGyJAlM9ps/MhIkCTDhF+9yciQJNNuEj7LSJAkoxfE/8zIkCRywbeAjoiQJEKrqgGQCJAkElVcwpGIkCPiPw9DkwiQI/HowgSUiJAjgZL0xVYIkCNRfKdGV4iQI2EmWgdZCJAjMNAMyFqIkCLAuj9JHAiQItBj8godiJAioA2kyx8IkCJv91dMIIiQIn+hCg0iCJAiD0s8zeOIkCHfNO9O5QiQIe7eog/miJAhvohU0OgIkCFOckdR6YiQIV4cOhKrCJAhLcXs06yIkCE9r59UrgiQIM1ZkhWviJAgnQNE1rEIkCCs7TdXcoiQIHyW6hh0CJAgDEDc2XWIkCAcKo9adwiQH+vUQht4iJAfu740nDoIkB+LaCddO4iQH1sR2h49CJAfKvuMnz6IkB86pX9fwAjQHspPciDBiNAemjkkocMI0B6p4tdixIjQHnmMiiPGCNAeCXa8pIeI0B4ZIG9liQjQHejKIiaKiNAduLPUp4wI0B2IXcdojYjQHVgHuilPCNAdJ/FsqlCI0B03mx9rUgjQHMdFEixTiNAcly7ErVUI0Bym2LduFojQHHaCai8YCNAcBmxcsBmI0BwWFg9xGwjQG+X/wfIciNAbtam0st4I0A=",
          "dtype": "f8"
         },
         "y": {
          "bdata": "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",
          "dtype": "f8"
         }
        },
        {
         "marker": {
          "color": "rgb(13, 8, 135)"
         },
         "mode": "markers",
         "name": "Exp 227 nm",
         "showlegend": false,
         "type": "scatter",
         "x": {
          "bdata": "AAAAAAAAAADhmKdr1Hj4P9jodNcUvwhAoJu+HS+sEkBrMvwKRoUYQNysTaWX8R5A",
          "dtype": "f8"
         },
         "y": {
          "bdata": "MD6zzx04kcBwvGlCh8qPwBBQ44/WeovA+EKeg1Ysh8Dwpui11MaBwPB10oknCYLA",
          "dtype": "f8"
         }
        },
        {
         "line": {
          "color": "rgb(83, 2, 162)"
         },
         "mode": "lines",
         "name": "226",
         "type": "scatter",
         "x": {
          "bdata": "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",
          "dtype": "f8"
         },
         "y": {
          "bdata": "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",
          "dtype": "f8"
         }
        },
        {
         "marker": {
          "color": "rgb(83, 2, 162)"
         },
         "mode": "markers",
         "name": "Exp 226 nm",
         "showlegend": false,
         "type": "scatter",
         "x": {
          "bdata": "AAAAAAAAAADhmKdr1Hj4P9jodNcUvwhAoJu+HS+sEkBrMvwKRoUYQNysTaWX8R5A",
          "dtype": "f8"
         },
         "y": {
          "bdata": "NBosoCAHksBATD8aJgaPwHB5bCKbjozAAF2Ujm44hsCQPDNReLmCwPiWHV/r+YPA",
          "dtype": "f8"
         }
        },
        {
         "line": {
          "color": "rgb(138, 14, 162)"
         },
         "mode": "lines",
         "name": "225",
         "type": "scatter",
         "x": {
          "bdata": "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",
          "dtype": "f8"
         },
         "y": {
          "bdata": "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",
          "dtype": "f8"
         }
        },
        {
         "marker": {
          "color": "rgb(138, 14, 162)"
         },
         "mode": "markers",
         "name": "Exp 225 nm",
         "showlegend": false,
         "type": "scatter",
         "x": {
          "bdata": "AAAAAAAAAADhmKdr1Hj4P9jodNcUvwhAoJu+HS+sEkBrMvwKRoUYQNysTaWX8R5A",
          "dtype": "f8"
         },
         "y": {
          "bdata": "bMv8fTMfk8AwxbREbTmQwIA3Ov5BLI7AUL/o4fLdiMBAcE0KCECBwOCzVmTMHH/A",
          "dtype": "f8"
         }
        },
        {
         "line": {
          "color": "rgb(184, 50, 137)"
         },
         "mode": "lines",
         "name": "224",
         "type": "scatter",
         "x": {
          "bdata": "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",
          "dtype": "f8"
         },
         "y": {
          "bdata": "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",
          "dtype": "f8"
         }
        },
        {
         "marker": {
          "color": "rgb(184, 50, 137)"
         },
         "mode": "markers",
         "name": "Exp 224 nm",
         "showlegend": false,
         "type": "scatter",
         "x": {
          "bdata": "AAAAAAAAAADhmKdr1Hj4P9jodNcUvwhAoJu+HS+sEkBrMvwKRoUYQNysTaWX8R5A",
          "dtype": "f8"
         },
         "y": {
          "bdata": "pHzNW0Y3lMCw1wlO3BmRwOikBw5DU5DAMGfNpwz5iMAgjVvZjIOCwDCwUdP3R4HA",
          "dtype": "f8"
         }
        },
        {
         "line": {
          "color": "rgb(219, 92, 104)"
         },
         "mode": "lines",
         "name": "223",
         "type": "scatter",
         "x": {
          "bdata": "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",
          "dtype": "f8"
         },
         "y": {
          "bdata": "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",
          "dtype": "f8"
         }
        },
        {
         "marker": {
          "color": "rgb(219, 92, 104)"
         },
         "mode": "markers",
         "name": "Exp 223 nm",
         "showlegend": false,
         "type": "scatter",
         "x": {
          "bdata": "AAAAAAAAAADhmKdr1Hj4P9jodNcUvwhAoJu+HS+sEkBrMvwKRoUYQNysTaWX8R5A",
          "dtype": "f8"
         },
         "y": {
          "bdata": "KJEwpR7JlcAImclmROyRwOikBw5DU5DAsJygKCgjisDgR8+GL41/wDDzeSuf0X3A",
          "dtype": "f8"
         }
        },
        {
         "line": {
          "color": "rgb(243, 137, 72)"
         },
         "mode": "lines",
         "name": "222",
         "type": "scatter",
         "x": {
          "bdata": "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",
          "dtype": "f8"
         },
         "y": {
          "bdata": "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",
          "dtype": "f8"
         }
        },
        {
         "marker": {
          "color": "rgb(243, 137, 72)"
         },
         "mode": "markers",
         "name": "Exp 222 nm",
         "showlegend": false,
         "type": "scatter",
         "x": {
          "bdata": "AAAAAAAAAADhmKdr1Hj4P9jodNcUvwhAoJu+HS+sEkBrMvwKRoUYQNysTaWX8R5A",
          "dtype": "f8"
         },
         "y": {
          "bdata": "fPTCEORClsBgQQkj1hKTwBgu8hxlkJHAgF57+VlKicAQ7ArJY++CwACcwdztb4PA",
          "dtype": "f8"
         }
        },
        {
         "line": {
          "color": "rgb(252, 190, 44)"
         },
         "mode": "lines",
         "name": "221",
         "type": "scatter",
         "x": {
          "bdata": "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",
          "dtype": "f8"
         },
         "y": {
          "bdata": "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",
          "dtype": "f8"
         }
        },
        {
         "marker": {
          "color": "rgb(252, 190, 44)"
         },
         "mode": "markers",
         "name": "Exp 221 nm",
         "showlegend": false,
         "type": "scatter",
         "x": {
          "bdata": "AAAAAAAAAADhmKdr1Hj4P9jodNcUvwhAoJu+HS+sEkBrMvwKRoUYQNysTaWX8R5A",
          "dtype": "f8"
         },
         "y": {
          "bdata": "3Ou/7bEpmcCo712660OVwCjLpmbf/JPAQOxptFtZisDgyfhp0wqHwOBUh7RjGIDA",
          "dtype": "f8"
         }
        },
        {
         "line": {
          "color": "rgb(240, 249, 33)"
         },
         "mode": "lines",
         "name": "220",
         "type": "scatter",
         "x": {
          "bdata": "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",
          "dtype": "f8"
         },
         "y": {
          "bdata": "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",
          "dtype": "f8"
         }
        },
        {
         "marker": {
          "color": "rgb(240, 249, 33)"
         },
         "mode": "markers",
         "name": "Exp 220 nm",
         "showlegend": false,
         "type": "scatter",
         "x": {
          "bdata": "AAAAAAAAAADhmKdr1Hj4P9jodNcUvwhAoJu+HS+sEkBrMvwKRoUYQNysTaWX8R5A",
          "dtype": "f8"
         },
         "y": {
          "bdata": "nEAfI/JNmsBwi11IkpSWwOB2nyRCIJPAkP0NEcG2icBgF6D/qtSEwNBm5hAgp4PA",
          "dtype": "f8"
         }
        }
       ],
       "layout": {
        "height": 600,
        "legend": {
         "title": {
          "text": "λ [nm]"
         },
         "x": 1,
         "xanchor": "right",
         "y": 0,
         "yanchor": "bottom"
        },
        "template": {
         "data": {
          "bar": [
           {
            "error_x": {
             "color": "#2a3f5f"
            },
            "error_y": {
             "color": "#2a3f5f"
            },
            "marker": {
             "line": {
              "color": "#E5ECF6",
              "width": 0.5
             },
             "pattern": {
              "fillmode": "overlay",
              "size": 10,
              "solidity": 0.2
             }
            },
            "type": "bar"
           }
          ],
          "barpolar": [
           {
            "marker": {
             "line": {
              "color": "#E5ECF6",
              "width": 0.5
             },
             "pattern": {
              "fillmode": "overlay",
              "size": 10,
              "solidity": 0.2
             }
            },
            "type": "barpolar"
           }
          ],
          "carpet": [
           {
            "aaxis": {
             "endlinecolor": "#2a3f5f",
             "gridcolor": "white",
             "linecolor": "white",
             "minorgridcolor": "white",
             "startlinecolor": "#2a3f5f"
            },
            "baxis": {
             "endlinecolor": "#2a3f5f",
             "gridcolor": "white",
             "linecolor": "white",
             "minorgridcolor": "white",
             "startlinecolor": "#2a3f5f"
            },
            "type": "carpet"
           }
          ],
          "choropleth": [
           {
            "colorbar": {
             "outlinewidth": 0,
             "ticks": ""
            },
            "type": "choropleth"
           }
          ],
          "contour": [
           {
            "colorbar": {
             "outlinewidth": 0,
             "ticks": ""
            },
            "colorscale": [
             [
              0,
              "#0d0887"
             ],
             [
              0.1111111111111111,
              "#46039f"
             ],
             [
              0.2222222222222222,
              "#7201a8"
             ],
             [
              0.3333333333333333,
              "#9c179e"
             ],
             [
              0.4444444444444444,
              "#bd3786"
             ],
             [
              0.5555555555555556,
              "#d8576b"
             ],
             [
              0.6666666666666666,
              "#ed7953"
             ],
             [
              0.7777777777777778,
              "#fb9f3a"
             ],
             [
              0.8888888888888888,
              "#fdca26"
             ],
             [
              1,
              "#f0f921"
             ]
            ],
            "type": "contour"
           }
          ],
          "contourcarpet": [
           {
            "colorbar": {
             "outlinewidth": 0,
             "ticks": ""
            },
            "type": "contourcarpet"
           }
          ],
          "heatmap": [
           {
            "colorbar": {
             "outlinewidth": 0,
             "ticks": ""
            },
            "colorscale": [
             [
              0,
              "#0d0887"
             ],
             [
              0.1111111111111111,
              "#46039f"
             ],
             [
              0.2222222222222222,
              "#7201a8"
             ],
             [
              0.3333333333333333,
              "#9c179e"
             ],
             [
              0.4444444444444444,
              "#bd3786"
             ],
             [
              0.5555555555555556,
              "#d8576b"
             ],
             [
              0.6666666666666666,
              "#ed7953"
             ],
             [
              0.7777777777777778,
              "#fb9f3a"
             ],
             [
              0.8888888888888888,
              "#fdca26"
             ],
             [
              1,
              "#f0f921"
             ]
            ],
            "type": "heatmap"
           }
          ],
          "histogram": [
           {
            "marker": {
             "pattern": {
              "fillmode": "overlay",
              "size": 10,
              "solidity": 0.2
             }
            },
            "type": "histogram"
           }
          ],
          "histogram2d": [
           {
            "colorbar": {
             "outlinewidth": 0,
             "ticks": ""
            },
            "colorscale": [
             [
              0,
              "#0d0887"
             ],
             [
              0.1111111111111111,
              "#46039f"
             ],
             [
              0.2222222222222222,
              "#7201a8"
             ],
             [
              0.3333333333333333,
              "#9c179e"
             ],
             [
              0.4444444444444444,
              "#bd3786"
             ],
             [
              0.5555555555555556,
              "#d8576b"
             ],
             [
              0.6666666666666666,
              "#ed7953"
             ],
             [
              0.7777777777777778,
              "#fb9f3a"
             ],
             [
              0.8888888888888888,
              "#fdca26"
             ],
             [
              1,
              "#f0f921"
             ]
            ],
            "type": "histogram2d"
           }
          ],
          "histogram2dcontour": [
           {
            "colorbar": {
             "outlinewidth": 0,
             "ticks": ""
            },
            "colorscale": [
             [
              0,
              "#0d0887"
             ],
             [
              0.1111111111111111,
              "#46039f"
             ],
             [
              0.2222222222222222,
              "#7201a8"
             ],
             [
              0.3333333333333333,
              "#9c179e"
             ],
             [
              0.4444444444444444,
              "#bd3786"
             ],
             [
              0.5555555555555556,
              "#d8576b"
             ],
             [
              0.6666666666666666,
              "#ed7953"
             ],
             [
              0.7777777777777778,
              "#fb9f3a"
             ],
             [
              0.8888888888888888,
              "#fdca26"
             ],
             [
              1,
              "#f0f921"
             ]
            ],
            "type": "histogram2dcontour"
           }
          ],
          "mesh3d": [
           {
            "colorbar": {
             "outlinewidth": 0,
             "ticks": ""
            },
            "type": "mesh3d"
           }
          ],
          "parcoords": [
           {
            "line": {
             "colorbar": {
              "outlinewidth": 0,
              "ticks": ""
             }
            },
            "type": "parcoords"
           }
          ],
          "pie": [
           {
            "automargin": true,
            "type": "pie"
           }
          ],
          "scatter": [
           {
            "fillpattern": {
             "fillmode": "overlay",
             "size": 10,
             "solidity": 0.2
            },
            "type": "scatter"
           }
          ],
          "scatter3d": [
           {
            "line": {
             "colorbar": {
              "outlinewidth": 0,
              "ticks": ""
             }
            },
            "marker": {
             "colorbar": {
              "outlinewidth": 0,
              "ticks": ""
             }
            },
            "type": "scatter3d"
           }
          ],
          "scattercarpet": [
           {
            "marker": {
             "colorbar": {
              "outlinewidth": 0,
              "ticks": ""
             }
            },
            "type": "scattercarpet"
           }
          ],
          "scattergeo": [
           {
            "marker": {
             "colorbar": {
              "outlinewidth": 0,
              "ticks": ""
             }
            },
            "type": "scattergeo"
           }
          ],
          "scattergl": [
           {
            "marker": {
             "colorbar": {
              "outlinewidth": 0,
              "ticks": ""
             }
            },
            "type": "scattergl"
           }
          ],
          "scattermap": [
           {
            "marker": {
             "colorbar": {
              "outlinewidth": 0,
              "ticks": ""
             }
            },
            "type": "scattermap"
           }
          ],
          "scattermapbox": [
           {
            "marker": {
             "colorbar": {
              "outlinewidth": 0,
              "ticks": ""
             }
            },
            "type": "scattermapbox"
           }
          ],
          "scatterpolar": [
           {
            "marker": {
             "colorbar": {
              "outlinewidth": 0,
              "ticks": ""
             }
            },
            "type": "scatterpolar"
           }
          ],
          "scatterpolargl": [
           {
            "marker": {
             "colorbar": {
              "outlinewidth": 0,
              "ticks": ""
             }
            },
            "type": "scatterpolargl"
           }
          ],
          "scatterternary": [
           {
            "marker": {
             "colorbar": {
              "outlinewidth": 0,
              "ticks": ""
             }
            },
            "type": "scatterternary"
           }
          ],
          "surface": [
           {
            "colorbar": {
             "outlinewidth": 0,
             "ticks": ""
            },
            "colorscale": [
             [
              0,
              "#0d0887"
             ],
             [
              0.1111111111111111,
              "#46039f"
             ],
             [
              0.2222222222222222,
              "#7201a8"
             ],
             [
              0.3333333333333333,
              "#9c179e"
             ],
             [
              0.4444444444444444,
              "#bd3786"
             ],
             [
              0.5555555555555556,
              "#d8576b"
             ],
             [
              0.6666666666666666,
              "#ed7953"
             ],
             [
              0.7777777777777778,
              "#fb9f3a"
             ],
             [
              0.8888888888888888,
              "#fdca26"
             ],
             [
              1,
              "#f0f921"
             ]
            ],
            "type": "surface"
           }
          ],
          "table": [
           {
            "cells": {
             "fill": {
              "color": "#EBF0F8"
             },
             "line": {
              "color": "white"
             }
            },
            "header": {
             "fill": {
              "color": "#C8D4E3"
             },
             "line": {
              "color": "white"
             }
            },
            "type": "table"
           }
          ]
         },
         "layout": {
          "annotationdefaults": {
           "arrowcolor": "#2a3f5f",
           "arrowhead": 0,
           "arrowwidth": 1
          },
          "autotypenumbers": "strict",
          "coloraxis": {
           "colorbar": {
            "outlinewidth": 0,
            "ticks": ""
           }
          },
          "colorscale": {
           "diverging": [
            [
             0,
             "#8e0152"
            ],
            [
             0.1,
             "#c51b7d"
            ],
            [
             0.2,
             "#de77ae"
            ],
            [
             0.3,
             "#f1b6da"
            ],
            [
             0.4,
             "#fde0ef"
            ],
            [
             0.5,
             "#f7f7f7"
            ],
            [
             0.6,
             "#e6f5d0"
            ],
            [
             0.7,
             "#b8e186"
            ],
            [
             0.8,
             "#7fbc41"
            ],
            [
             0.9,
             "#4d9221"
            ],
            [
             1,
             "#276419"
            ]
           ],
           "sequential": [
            [
             0,
             "#0d0887"
            ],
            [
             0.1111111111111111,
             "#46039f"
            ],
            [
             0.2222222222222222,
             "#7201a8"
            ],
            [
             0.3333333333333333,
             "#9c179e"
            ],
            [
             0.4444444444444444,
             "#bd3786"
            ],
            [
             0.5555555555555556,
             "#d8576b"
            ],
            [
             0.6666666666666666,
             "#ed7953"
            ],
            [
             0.7777777777777778,
             "#fb9f3a"
            ],
            [
             0.8888888888888888,
             "#fdca26"
            ],
            [
             1,
             "#f0f921"
            ]
           ],
           "sequentialminus": [
            [
             0,
             "#0d0887"
            ],
            [
             0.1111111111111111,
             "#46039f"
            ],
            [
             0.2222222222222222,
             "#7201a8"
            ],
            [
             0.3333333333333333,
             "#9c179e"
            ],
            [
             0.4444444444444444,
             "#bd3786"
            ],
            [
             0.5555555555555556,
             "#d8576b"
            ],
            [
             0.6666666666666666,
             "#ed7953"
            ],
            [
             0.7777777777777778,
             "#fb9f3a"
            ],
            [
             0.8888888888888888,
             "#fdca26"
            ],
            [
             1,
             "#f0f921"
            ]
           ]
          },
          "colorway": [
           "#636efa",
           "#EF553B",
           "#00cc96",
           "#ab63fa",
           "#FFA15A",
           "#19d3f3",
           "#FF6692",
           "#B6E880",
           "#FF97FF",
           "#FECB52"
          ],
          "font": {
           "color": "#2a3f5f"
          },
          "geo": {
           "bgcolor": "white",
           "lakecolor": "white",
           "landcolor": "#E5ECF6",
           "showlakes": true,
           "showland": true,
           "subunitcolor": "white"
          },
          "hoverlabel": {
           "align": "left"
          },
          "hovermode": "closest",
          "mapbox": {
           "style": "light"
          },
          "paper_bgcolor": "white",
          "plot_bgcolor": "#E5ECF6",
          "polar": {
           "angularaxis": {
            "gridcolor": "white",
            "linecolor": "white",
            "ticks": ""
           },
           "bgcolor": "#E5ECF6",
           "radialaxis": {
            "gridcolor": "white",
            "linecolor": "white",
            "ticks": ""
           }
          },
          "scene": {
           "xaxis": {
            "backgroundcolor": "#E5ECF6",
            "gridcolor": "white",
            "gridwidth": 2,
            "linecolor": "white",
            "showbackground": true,
            "ticks": "",
            "zerolinecolor": "white"
           },
           "yaxis": {
            "backgroundcolor": "#E5ECF6",
            "gridcolor": "white",
            "gridwidth": 2,
            "linecolor": "white",
            "showbackground": true,
            "ticks": "",
            "zerolinecolor": "white"
           },
           "zaxis": {
            "backgroundcolor": "#E5ECF6",
            "gridcolor": "white",
            "gridwidth": 2,
            "linecolor": "white",
            "showbackground": true,
            "ticks": "",
            "zerolinecolor": "white"
           }
          },
          "shapedefaults": {
           "line": {
            "color": "#2a3f5f"
           }
          },
          "ternary": {
           "aaxis": {
            "gridcolor": "white",
            "linecolor": "white",
            "ticks": ""
           },
           "baxis": {
            "gridcolor": "white",
            "linecolor": "white",
            "ticks": ""
           },
           "bgcolor": "#E5ECF6",
           "caxis": {
            "gridcolor": "white",
            "linecolor": "white",
            "ticks": ""
           }
          },
          "title": {
           "x": 0.05
          },
          "xaxis": {
           "automargin": true,
           "gridcolor": "white",
           "linecolor": "white",
           "ticks": "",
           "title": {
            "standoff": 15
           },
           "zerolinecolor": "white",
           "zerolinewidth": 2
          },
          "yaxis": {
           "automargin": true,
           "gridcolor": "white",
           "linecolor": "white",
           "ticks": "",
           "title": {
            "standoff": 15
           },
           "zerolinecolor": "white",
           "zerolinewidth": 2
          }
         }
        },
        "width": 800,
        "xaxis": {
         "title": {
          "text": "C(GuHCl) [M]"
         }
        },
        "yaxis": {
         "title": {
          "text": "θ [deg·cm² dmol⁻¹]"
         }
        }
       }
      }
     },
     "metadata": {},
     "output_type": "display_data"
    }
   ],
   "source": [
    "fig = go.Figure()\n",
    "\n",
    "C_plot = np.linspace(concentrazioni.min()-2, concentrazioni.max()+2, 1000)\n",
    "\n",
    "for idx, row in fit_df.iterrows():\n",
    "    #yN = row['yN']#spettro_ristretto.loc[0, row['λ']]\n",
    "    #yD = row['yD'] #spettro_ristretto.loc[5, row['λ']]\n",
    "    # print(yN, yD)\n",
    "\n",
    "    yN = spettro_ristretto.loc[0, row['λ']]\n",
    "    yD = spettro_ristretto.loc[5, row['λ']]\n",
    "\n",
    "    m = row['m']\n",
    "    Cmid = row['Cmid']\n",
    "    θ_fit = sigmoid(C_plot, m, Cmid, yN, yD)\n",
    "    # Fit line\n",
    "    fig.add_trace(go.Scatter(\n",
    "        x=C_plot,\n",
    "        y=θ_fit,\n",
    "        mode='lines',\n",
    "        line=dict(color=colors[idx]),\n",
    "        name=f\"{int(row['λ'])}\"\n",
    "    ))\n",
    "    # Experimental points\n",
    "    fig.add_trace(go.Scatter(\n",
    "        x=spettro_ristretto['Concentrazione'],\n",
    "        y=spettro_ristretto[row['λ']],\n",
    "        mode='markers',\n",
    "        marker=dict(color=colors[idx]),\n",
    "        name=f\"Exp {int(row['λ'])} nm\",\n",
    "        showlegend=False\n",
    "    ))\n",
    "\n",
    "fig.update_layout(\n",
    "    xaxis_title='C(GuHCl) [M]',\n",
    "    yaxis_title='θ [deg·cm² dmol⁻¹]',\n",
    "    legend_title='λ [nm]',\n",
    "    height=600,\n",
    "    width=800,\n",
    "    legend=dict(\n",
    "        x=1,\n",
    "        y=0,\n",
    "        xanchor='right',\n",
    "        yanchor='bottom'\n",
    "    )\n",
    ")\n",
    "\n",
    "fig.write_image('./images/fit_sigmoide.png')\n",
    "fig.write_html('./html/fit_sigmoide.html')\n",
    "fig.show()"
   ]
  },
  {
   "cell_type": "code",
   "execution_count": 48,
   "id": "2b6fc423",
   "metadata": {},
   "outputs": [
    {
     "data": {
      "application/vnd.plotly.v1+json": {
       "config": {
        "plotlyServerURL": "https://plot.ly"
       },
       "data": [
        {
         "error_y": {
          "array": {
           "bdata": "Z+wzlRzpyD/U1TrlUZjSP9D0JMGbJdI/wCUCf1pC0T9mnLPhTQnUP49LYTbZdM8/K3ceqf73zz+GWwN2AHTBPw==",
           "dtype": "f8"
          },
          "type": "data",
          "visible": true
         },
         "mode": "markers",
         "name": "Cmid",
         "type": "scatter",
         "x": {
          "bdata": "4wDiAOEA4ADfAN4A3QDcAA==",
          "dtype": "i2"
         },
         "y": {
          "bdata": "qVkHTY7kC0C5jN8miyQHQNsiGiHEJQ5A246eBPUDDUCmO/8aK98MQElfFIrj0wpARRXHpYKyDkCW199qwpwJQA==",
          "dtype": "f8"
         }
        },
        {
         "line": {
          "color": "red",
          "dash": "dash"
         },
         "mode": "lines",
         "name": "Mean Cmid",
         "type": "scatter",
         "x": {
          "bdata": "2wDjAOIA4QDgAN8A3gDdANwA5wA=",
          "dtype": "i2"
         },
         "y": [
          3.410417574784302,
          3.410417574784302,
          3.410417574784302,
          3.410417574784302,
          3.410417574784302,
          3.410417574784302,
          3.410417574784302,
          3.410417574784302,
          3.410417574784302,
          3.410417574784302
         ]
        },
        {
         "line": {
          "color": "red",
          "width": 0
         },
         "mode": "lines",
         "showlegend": false,
         "type": "scatter",
         "x": {
          "bdata": "2wDjAOIA4QDgAN8A3gDdANwA5wA=",
          "dtype": "i2"
         },
         "y": [
          3.3103447185386092,
          3.3103447185386092,
          3.3103447185386092,
          3.3103447185386092,
          3.3103447185386092,
          3.3103447185386092,
          3.3103447185386092,
          3.3103447185386092,
          3.3103447185386092,
          3.3103447185386092
         ]
        },
        {
         "fill": "tonexty",
         "fillcolor": "rgba(255,0,0,0.2)",
         "line": {
          "color": "red",
          "width": 0
         },
         "mode": "lines",
         "name": "Mean ± SEM",
         "type": "scatter",
         "x": {
          "bdata": "2wDjAOIA4QDgAN8A3gDdANwA5wA=",
          "dtype": "i2"
         },
         "y": [
          3.510490431029995,
          3.510490431029995,
          3.510490431029995,
          3.510490431029995,
          3.510490431029995,
          3.510490431029995,
          3.510490431029995,
          3.510490431029995,
          3.510490431029995,
          3.510490431029995
         ]
        }
       ],
       "layout": {
        "legend": {
         "title": {
          "text": "Legend"
         },
         "x": 1,
         "xanchor": "right",
         "y": 0,
         "yanchor": "bottom"
        },
        "template": {
         "data": {
          "bar": [
           {
            "error_x": {
             "color": "#2a3f5f"
            },
            "error_y": {
             "color": "#2a3f5f"
            },
            "marker": {
             "line": {
              "color": "#E5ECF6",
              "width": 0.5
             },
             "pattern": {
              "fillmode": "overlay",
              "size": 10,
              "solidity": 0.2
             }
            },
            "type": "bar"
           }
          ],
          "barpolar": [
           {
            "marker": {
             "line": {
              "color": "#E5ECF6",
              "width": 0.5
             },
             "pattern": {
              "fillmode": "overlay",
              "size": 10,
              "solidity": 0.2
             }
            },
            "type": "barpolar"
           }
          ],
          "carpet": [
           {
            "aaxis": {
             "endlinecolor": "#2a3f5f",
             "gridcolor": "white",
             "linecolor": "white",
             "minorgridcolor": "white",
             "startlinecolor": "#2a3f5f"
            },
            "baxis": {
             "endlinecolor": "#2a3f5f",
             "gridcolor": "white",
             "linecolor": "white",
             "minorgridcolor": "white",
             "startlinecolor": "#2a3f5f"
            },
            "type": "carpet"
           }
          ],
          "choropleth": [
           {
            "colorbar": {
             "outlinewidth": 0,
             "ticks": ""
            },
            "type": "choropleth"
           }
          ],
          "contour": [
           {
            "colorbar": {
             "outlinewidth": 0,
             "ticks": ""
            },
            "colorscale": [
             [
              0,
              "#0d0887"
             ],
             [
              0.1111111111111111,
              "#46039f"
             ],
             [
              0.2222222222222222,
              "#7201a8"
             ],
             [
              0.3333333333333333,
              "#9c179e"
             ],
             [
              0.4444444444444444,
              "#bd3786"
             ],
             [
              0.5555555555555556,
              "#d8576b"
             ],
             [
              0.6666666666666666,
              "#ed7953"
             ],
             [
              0.7777777777777778,
              "#fb9f3a"
             ],
             [
              0.8888888888888888,
              "#fdca26"
             ],
             [
              1,
              "#f0f921"
             ]
            ],
            "type": "contour"
           }
          ],
          "contourcarpet": [
           {
            "colorbar": {
             "outlinewidth": 0,
             "ticks": ""
            },
            "type": "contourcarpet"
           }
          ],
          "heatmap": [
           {
            "colorbar": {
             "outlinewidth": 0,
             "ticks": ""
            },
            "colorscale": [
             [
              0,
              "#0d0887"
             ],
             [
              0.1111111111111111,
              "#46039f"
             ],
             [
              0.2222222222222222,
              "#7201a8"
             ],
             [
              0.3333333333333333,
              "#9c179e"
             ],
             [
              0.4444444444444444,
              "#bd3786"
             ],
             [
              0.5555555555555556,
              "#d8576b"
             ],
             [
              0.6666666666666666,
              "#ed7953"
             ],
             [
              0.7777777777777778,
              "#fb9f3a"
             ],
             [
              0.8888888888888888,
              "#fdca26"
             ],
             [
              1,
              "#f0f921"
             ]
            ],
            "type": "heatmap"
           }
          ],
          "histogram": [
           {
            "marker": {
             "pattern": {
              "fillmode": "overlay",
              "size": 10,
              "solidity": 0.2
             }
            },
            "type": "histogram"
           }
          ],
          "histogram2d": [
           {
            "colorbar": {
             "outlinewidth": 0,
             "ticks": ""
            },
            "colorscale": [
             [
              0,
              "#0d0887"
             ],
             [
              0.1111111111111111,
              "#46039f"
             ],
             [
              0.2222222222222222,
              "#7201a8"
             ],
             [
              0.3333333333333333,
              "#9c179e"
             ],
             [
              0.4444444444444444,
              "#bd3786"
             ],
             [
              0.5555555555555556,
              "#d8576b"
             ],
             [
              0.6666666666666666,
              "#ed7953"
             ],
             [
              0.7777777777777778,
              "#fb9f3a"
             ],
             [
              0.8888888888888888,
              "#fdca26"
             ],
             [
              1,
              "#f0f921"
             ]
            ],
            "type": "histogram2d"
           }
          ],
          "histogram2dcontour": [
           {
            "colorbar": {
             "outlinewidth": 0,
             "ticks": ""
            },
            "colorscale": [
             [
              0,
              "#0d0887"
             ],
             [
              0.1111111111111111,
              "#46039f"
             ],
             [
              0.2222222222222222,
              "#7201a8"
             ],
             [
              0.3333333333333333,
              "#9c179e"
             ],
             [
              0.4444444444444444,
              "#bd3786"
             ],
             [
              0.5555555555555556,
              "#d8576b"
             ],
             [
              0.6666666666666666,
              "#ed7953"
             ],
             [
              0.7777777777777778,
              "#fb9f3a"
             ],
             [
              0.8888888888888888,
              "#fdca26"
             ],
             [
              1,
              "#f0f921"
             ]
            ],
            "type": "histogram2dcontour"
           }
          ],
          "mesh3d": [
           {
            "colorbar": {
             "outlinewidth": 0,
             "ticks": ""
            },
            "type": "mesh3d"
           }
          ],
          "parcoords": [
           {
            "line": {
             "colorbar": {
              "outlinewidth": 0,
              "ticks": ""
             }
            },
            "type": "parcoords"
           }
          ],
          "pie": [
           {
            "automargin": true,
            "type": "pie"
           }
          ],
          "scatter": [
           {
            "fillpattern": {
             "fillmode": "overlay",
             "size": 10,
             "solidity": 0.2
            },
            "type": "scatter"
           }
          ],
          "scatter3d": [
           {
            "line": {
             "colorbar": {
              "outlinewidth": 0,
              "ticks": ""
             }
            },
            "marker": {
             "colorbar": {
              "outlinewidth": 0,
              "ticks": ""
             }
            },
            "type": "scatter3d"
           }
          ],
          "scattercarpet": [
           {
            "marker": {
             "colorbar": {
              "outlinewidth": 0,
              "ticks": ""
             }
            },
            "type": "scattercarpet"
           }
          ],
          "scattergeo": [
           {
            "marker": {
             "colorbar": {
              "outlinewidth": 0,
              "ticks": ""
             }
            },
            "type": "scattergeo"
           }
          ],
          "scattergl": [
           {
            "marker": {
             "colorbar": {
              "outlinewidth": 0,
              "ticks": ""
             }
            },
            "type": "scattergl"
           }
          ],
          "scattermap": [
           {
            "marker": {
             "colorbar": {
              "outlinewidth": 0,
              "ticks": ""
             }
            },
            "type": "scattermap"
           }
          ],
          "scattermapbox": [
           {
            "marker": {
             "colorbar": {
              "outlinewidth": 0,
              "ticks": ""
             }
            },
            "type": "scattermapbox"
           }
          ],
          "scatterpolar": [
           {
            "marker": {
             "colorbar": {
              "outlinewidth": 0,
              "ticks": ""
             }
            },
            "type": "scatterpolar"
           }
          ],
          "scatterpolargl": [
           {
            "marker": {
             "colorbar": {
              "outlinewidth": 0,
              "ticks": ""
             }
            },
            "type": "scatterpolargl"
           }
          ],
          "scatterternary": [
           {
            "marker": {
             "colorbar": {
              "outlinewidth": 0,
              "ticks": ""
             }
            },
            "type": "scatterternary"
           }
          ],
          "surface": [
           {
            "colorbar": {
             "outlinewidth": 0,
             "ticks": ""
            },
            "colorscale": [
             [
              0,
              "#0d0887"
             ],
             [
              0.1111111111111111,
              "#46039f"
             ],
             [
              0.2222222222222222,
              "#7201a8"
             ],
             [
              0.3333333333333333,
              "#9c179e"
             ],
             [
              0.4444444444444444,
              "#bd3786"
             ],
             [
              0.5555555555555556,
              "#d8576b"
             ],
             [
              0.6666666666666666,
              "#ed7953"
             ],
             [
              0.7777777777777778,
              "#fb9f3a"
             ],
             [
              0.8888888888888888,
              "#fdca26"
             ],
             [
              1,
              "#f0f921"
             ]
            ],
            "type": "surface"
           }
          ],
          "table": [
           {
            "cells": {
             "fill": {
              "color": "#EBF0F8"
             },
             "line": {
              "color": "white"
             }
            },
            "header": {
             "fill": {
              "color": "#C8D4E3"
             },
             "line": {
              "color": "white"
             }
            },
            "type": "table"
           }
          ]
         },
         "layout": {
          "annotationdefaults": {
           "arrowcolor": "#2a3f5f",
           "arrowhead": 0,
           "arrowwidth": 1
          },
          "autotypenumbers": "strict",
          "coloraxis": {
           "colorbar": {
            "outlinewidth": 0,
            "ticks": ""
           }
          },
          "colorscale": {
           "diverging": [
            [
             0,
             "#8e0152"
            ],
            [
             0.1,
             "#c51b7d"
            ],
            [
             0.2,
             "#de77ae"
            ],
            [
             0.3,
             "#f1b6da"
            ],
            [
             0.4,
             "#fde0ef"
            ],
            [
             0.5,
             "#f7f7f7"
            ],
            [
             0.6,
             "#e6f5d0"
            ],
            [
             0.7,
             "#b8e186"
            ],
            [
             0.8,
             "#7fbc41"
            ],
            [
             0.9,
             "#4d9221"
            ],
            [
             1,
             "#276419"
            ]
           ],
           "sequential": [
            [
             0,
             "#0d0887"
            ],
            [
             0.1111111111111111,
             "#46039f"
            ],
            [
             0.2222222222222222,
             "#7201a8"
            ],
            [
             0.3333333333333333,
             "#9c179e"
            ],
            [
             0.4444444444444444,
             "#bd3786"
            ],
            [
             0.5555555555555556,
             "#d8576b"
            ],
            [
             0.6666666666666666,
             "#ed7953"
            ],
            [
             0.7777777777777778,
             "#fb9f3a"
            ],
            [
             0.8888888888888888,
             "#fdca26"
            ],
            [
             1,
             "#f0f921"
            ]
           ],
           "sequentialminus": [
            [
             0,
             "#0d0887"
            ],
            [
             0.1111111111111111,
             "#46039f"
            ],
            [
             0.2222222222222222,
             "#7201a8"
            ],
            [
             0.3333333333333333,
             "#9c179e"
            ],
            [
             0.4444444444444444,
             "#bd3786"
            ],
            [
             0.5555555555555556,
             "#d8576b"
            ],
            [
             0.6666666666666666,
             "#ed7953"
            ],
            [
             0.7777777777777778,
             "#fb9f3a"
            ],
            [
             0.8888888888888888,
             "#fdca26"
            ],
            [
             1,
             "#f0f921"
            ]
           ]
          },
          "colorway": [
           "#636efa",
           "#EF553B",
           "#00cc96",
           "#ab63fa",
           "#FFA15A",
           "#19d3f3",
           "#FF6692",
           "#B6E880",
           "#FF97FF",
           "#FECB52"
          ],
          "font": {
           "color": "#2a3f5f"
          },
          "geo": {
           "bgcolor": "white",
           "lakecolor": "white",
           "landcolor": "#E5ECF6",
           "showlakes": true,
           "showland": true,
           "subunitcolor": "white"
          },
          "hoverlabel": {
           "align": "left"
          },
          "hovermode": "closest",
          "mapbox": {
           "style": "light"
          },
          "paper_bgcolor": "white",
          "plot_bgcolor": "#E5ECF6",
          "polar": {
           "angularaxis": {
            "gridcolor": "white",
            "linecolor": "white",
            "ticks": ""
           },
           "bgcolor": "#E5ECF6",
           "radialaxis": {
            "gridcolor": "white",
            "linecolor": "white",
            "ticks": ""
           }
          },
          "scene": {
           "xaxis": {
            "backgroundcolor": "#E5ECF6",
            "gridcolor": "white",
            "gridwidth": 2,
            "linecolor": "white",
            "showbackground": true,
            "ticks": "",
            "zerolinecolor": "white"
           },
           "yaxis": {
            "backgroundcolor": "#E5ECF6",
            "gridcolor": "white",
            "gridwidth": 2,
            "linecolor": "white",
            "showbackground": true,
            "ticks": "",
            "zerolinecolor": "white"
           },
           "zaxis": {
            "backgroundcolor": "#E5ECF6",
            "gridcolor": "white",
            "gridwidth": 2,
            "linecolor": "white",
            "showbackground": true,
            "ticks": "",
            "zerolinecolor": "white"
           }
          },
          "shapedefaults": {
           "line": {
            "color": "#2a3f5f"
           }
          },
          "ternary": {
           "aaxis": {
            "gridcolor": "white",
            "linecolor": "white",
            "ticks": ""
           },
           "baxis": {
            "gridcolor": "white",
            "linecolor": "white",
            "ticks": ""
           },
           "bgcolor": "#E5ECF6",
           "caxis": {
            "gridcolor": "white",
            "linecolor": "white",
            "ticks": ""
           }
          },
          "title": {
           "x": 0.05
          },
          "xaxis": {
           "automargin": true,
           "gridcolor": "white",
           "linecolor": "white",
           "ticks": "",
           "title": {
            "standoff": 15
           },
           "zerolinecolor": "white",
           "zerolinewidth": 2
          },
          "yaxis": {
           "automargin": true,
           "gridcolor": "white",
           "linecolor": "white",
           "ticks": "",
           "title": {
            "standoff": 15
           },
           "zerolinecolor": "white",
           "zerolinewidth": 2
          }
         }
        },
        "xaxis": {
         "dtick": 1,
         "range": [
          219,
          228
         ],
         "tickmode": "linear",
         "title": {
          "text": "λ [nm]"
         }
        },
        "yaxis": {
         "range": [
          0,
          4.495610847937813
         ],
         "title": {
          "text": "Cmid"
         }
        }
       }
      }
     },
     "metadata": {},
     "output_type": "display_data"
    }
   ],
   "source": [
    "# Extract Cmid and its error\n",
    "Cmid_values = fit_df['Cmid']\n",
    "Cmid_errors = fit_df['Cmid_err']\n",
    "\n",
    "# Compute mean and standard error of the mean\n",
    "weights = 1/Cmid_errors**2\n",
    "mean_Cmid = np.average(Cmid_values, weights=weights)\n",
    "mean_Cmid_err = np.sqrt(np.sum(weights*((Cmid_values-mean_Cmid)**2))/np.sum(weights))/np.sqrt(len(Cmid_values)-1)\n",
    "\n",
    "\n",
    "\n",
    "fig = go.Figure()\n",
    "\n",
    "# markers\n",
    "fig.add_trace(go.Scatter(\n",
    "    x=fit_df['λ'],\n",
    "    y=Cmid_values,\n",
    "    error_y=dict(type='data', array=Cmid_errors, visible=True),\n",
    "    mode='markers',\n",
    "    name='Cmid'\n",
    "))\n",
    "\n",
    "mean_line_points = np.concatenate([[219],fit_df['λ'],[231]])\n",
    "# mean dashed line\n",
    "fig.add_trace(go.Scatter(\n",
    "    x= mean_line_points,\n",
    "    y=[mean_Cmid]*len(mean_line_points),\n",
    "    mode='lines',\n",
    "    line=dict(color='red', dash='dash'),\n",
    "    name='Mean Cmid'\n",
    "))\n",
    "\n",
    "# bottom\n",
    "fig.add_trace(go.Scatter(\n",
    "    x=mean_line_points,\n",
    "    y=[mean_Cmid - mean_Cmid_err]*len(mean_line_points),\n",
    "    mode='lines',\n",
    "    line=dict(color='red', width=0),\n",
    "    showlegend=False\n",
    "))\n",
    "#top\n",
    "fig.add_trace(go.Scatter(\n",
    "    x=mean_line_points,\n",
    "    y=[mean_Cmid + mean_Cmid_err]*len(mean_line_points),\n",
    "    mode='lines',\n",
    "    fill='tonexty',\n",
    "    fillcolor='rgba(255,0,0,0.2)',\n",
    "    line=dict(color='red', width=0),\n",
    "    name='Mean ± SEM'\n",
    "))\n",
    "\n",
    "fig.update_layout(\n",
    "    xaxis_title='λ [nm]',\n",
    "    yaxis_title='Cmid',\n",
    "    # title='Cmid vs λ with Mean and SEM',\n",
    "    legend_title='Legend',\n",
    "    xaxis=dict(\n",
    "        range=[λmin-1, λmax+1],\n",
    "        tickmode='linear',\n",
    "        dtick=1\n",
    "    ),\n",
    "    yaxis=dict(range=[0, float((Cmid_values + Cmid_errors).max()) * 1.1]),\n",
    "    legend=dict(\n",
    "        x=1,\n",
    "        y=0,\n",
    "        xanchor='right',\n",
    "        yanchor='bottom',\n",
    "    )\n",
    ")\n",
    "\n",
    "fig.show()"
   ]
  },
  {
   "cell_type": "code",
   "execution_count": 67,
   "id": "b0a32351",
   "metadata": {},
   "outputs": [
    {
     "data": {
      "application/vnd.plotly.v1+json": {
       "config": {
        "plotlyServerURL": "https://plot.ly"
       },
       "data": [
        {
         "line": {
          "color": "red",
          "width": 4
         },
         "mode": "lines",
         "name": "Mean: 3.41 ± 0.10",
         "type": "scatter",
         "x": {
          "bdata": "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",
          "dtype": "f8"
         },
         "y": {
          "bdata": "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",
          "dtype": "f8"
         }
        },
        {
         "line": {
          "color": "#30123b",
          "width": 2
         },
         "mode": "lines",
         "name": "3.49 ± 0.19",
         "type": "scatter",
         "x": {
          "bdata": "Vp0N8dg4B0CgkbXOAFEHQOqFXawoaQdANHoFilCBB0B+bq1neJkHQMhiVUWgsQdAElf9IsjJB0BdS6UA8OEHQKc/Td4X+gdA8TP1uz8SCEA7KJ2ZZyoIQIUcRXePQghAzxDtVLdaCEAZBZUy33IIQGP5PBAHiwhAre3k7S6jCED34YzLVrsIQEHWNKl+0whAjMrchqbrCEDWvoRkzgMJQCCzLEL2GwlAaqfUHx40CUC0m3z9RUwJQP6PJNttZAlASITMuJV8CUCSeHSWvZQJQNxsHHTlrAlAJmHEUQ3FCUBwVWwvNd0JQLpJFA1d9QlABD686oQNCkBOMmTIrCUKQJkmDKbUPQpA4xq0g/xVCkAtD1xhJG4KQHcDBD9MhgpAwferHHSeCkAL7FP6m7YKQFXg+9fDzgpAn9SjtevmCkDpyEuTE/8KQDO983A7FwtAfrGbTmMvC0DIpUMsi0cLQBKa6wmzXwtAXI6T59p3C0CmgjvFApALQPB246IqqAtAOmuLgFLAC0CEXzNeetgLQM5T2zui8AtAGEiDGcoIDEBiPCv38SAMQKww09QZOQxA9iR7skFRDEBAGSOQaWkMQIoNy22RgQxA1QFzS7mZDEAf9hop4bEMQGnqwgYJygxAs95q5DDiDED90hLCWPoMQEfHup+AEg1AkbtifagqDUDbrwpb0EINQCWksjj4Wg1AcJhaFiBzDUC6jAL0R4sNQASBqtFvow1ATnVSr5e7DUCYafqMv9MNQOJdomrn6w1ALFJKSA8EDkB2RvIlNxwOQMA6mgNfNA5ACi9C4YZMDkBUI+q+rmQOQJ4XkpzWfA5A6As6ev6UDkAyAOJXJq0OQHz0iTVOxQ5Ax+gxE3bdDkAR3dnwnfUOQFvRgc7FDQ9ApcUprO0lD0DvudGJFT4PQDmueWc9Vg9Ag6IhRWVuD0DNlskijYYPQBiLcQC1ng9AYn8Z3ty2D0Csc8G7BM8PQPZnaZks5w9AQFwRd1T/D0BFqFwqvgsQQGqiMBnSFxBAj5wECOYjEEC0ltj2+S8QQNmQrOUNPBBA/oqA1CFIEEA=",
          "dtype": "f8"
         },
         "y": {
          "bdata": "0oO29axRlz8797Q43uqbP67hTeVppqA/rSLIk5fJoz8qOhE2C26nPw6BHhwZpKs/11a2lqc+sD9GUrHNMgazP3FDfHeTMrY/dAcnQCfOuT/6Kp5AruO9P823Z7oXP8E/w6ZnsWvUwz86D/poaLfGP84iycqL7ck/jMmgzCJ8zT/d9OuiFrTQP/VrA64f29I/dYb3dDA11T8Qn3av9cPXPwrKPFiziNo/Y4GOCDOE3T83iPNNWVvgPxr0r8XpD+I/ZFkNvEXf4z8W4XYwi8jlP30en4B1yuc/CJZ26ljj6T8q3ZqbHxHsP4c0EoRIUe4/IH53DXRQ8D9CuBedVX7xPx5v/hVusPI/D+FF+7Tk8z9Nb83y+Bj1P0k7pqDlSvY/tMAiiQp49z9Zb5Hh4p34P42O+i/eufk/GVIOk2nJ+j90Kw6F+cn7P8RNJecTufw/u4iSHlqU/T+5BGoKk1n+Pw4XtZe0Bv8/LXZouuyZ/z/nrQrK1AgAQJkfrEpQNgBAAJZfNupUAECvB4XOTGQAQK8Hhc5MZABAAJZfNupUAECZH6xKUDYAQOetCsrUCABALXZouuyZ/z8OF7WXtAb/P7kEagqTWf4/s4iSHlqU/T/ETSXnE7n8P3QrDoX5yfs/GVIOk2nJ+j+Njvov3rn5P1lvkeHinfg/tMAiiQp49z9JO6ag5Ur2P01vzfL4GPU/AuFF+7Tk8z8Rb/4VbrDyP0K4F51VfvE/IH53DXRQ8D+HNBKESFHuPyrdmpsfEew/CJZ26ljj6T99Hp+AdcrnPxbhdjCLyOU/ZFkNvEXf4z8a9K/F6Q/iPzeI801ZW+A/Y4GOCDOE3T8KyjxYs4jaPxCfdq/1w9c/XIb3dDA11T/1awOuH9vSP93066IWtNA/jMmgzCJ8zT/OIsnKi+3JPzoP+mhot8Y/w6ZnsWvUwz/Nt2e6Fz/BP80qnkCu470/TAcnQCfOuT9LQ3x3kzK2PydSsc0yBrM/11a2lqc+sD8OgR4cGaSrPyo6ETYLbqc/rSLIk5fJoz+u4U3laaagPzv3tDje6ps/0oO29axRlz8=",
          "dtype": "f8"
         }
        },
        {
         "line": {
          "color": "#4145ab",
          "width": 2
         },
         "mode": "lines",
         "name": "2.89 ± 0.29",
         "type": "scatter",
         "x": {
          "bdata": "inzpcGwrAEC8S56TfE8AQO4aU7aMcwBAIOoH2ZyXAEBSubz7rLsAQISIcR693wBAtlcmQc0DAUDpJttj3ScBQBv2j4btSwFATcVEqf1vAUB/lPnLDZQBQLFjru4duAFA4zJjES7cAUAVAhg0PgACQEfRzFZOJAJAeaCBeV5IAkCrbzacbmwCQN0+675+kAJADw6g4Y60AkBC3VQEn9gCQHSsCSev/AJApnu+Sb8gA0DYSnNsz0QDQAoaKI/faANAPOncse+MA0BuuJHU/7ADQKCHRvcP1QNA0lb7GSD5A0AEJrA8MB0EQDb1ZF9AQQRAaMQZglBlBECak86kYIkEQMxig8dwrQRA/jE46oDRBEAxAe0MkfUEQGPQoS+hGQVAlZ9WUrE9BUDHbgt1wWEFQPk9wJfRhQVAKw11uuGpBUBd3Cnd8c0FQI+r3v8B8gVAwXqTIhIWBkDzSUhFIjoGQCYZ/WcyXgZAWOixikKCBkCKt2atUqYGQLyGG9BiygZA7lXQ8nLuBkAgJYUVgxIHQFL0OTiTNgdAhMPuWqNaB0C2kqN9s34HQOhhWKDDogdAGjENw9PGB0BMAMLl4+oHQH7Pdgj0DghAsJ4rKwQzCEDibeBNFFcIQBQ9lXAkewhARgxKkzSfCEB52/61RMMIQKuqs9hU5whA3Xlo+2QLCUAPSR0edS8JQEEY0kCFUwlAc+eGY5V3CUCltjuGpZsJQNiF8Ki1vwlAClWly8XjCUA8JFru1QcKQG7zDhHmKwpAoMLDM/ZPCkDSkXhWBnQKQARhLXkWmApANjDimya8CkBo/5a+NuAKQJrOS+FGBAtAzJ0ABFcoC0D+bLUmZ0wLQDA8akl3cAtAYgsfbIeUC0CU2tOOl7gLQMapiLGn3AtA+Hg91LcADEAqSPL2xyQMQFwXpxnYSAxAj+ZbPOhsDEDBtRBf+JAMQPOExYEItQxAJVR6pBjZDEBXIy/HKP0MQIny4+k4IQ1AvMGYDElFDUDukE0vWWkNQCBgAlJpjQ1AUi+3dHmxDUCE/muXidUNQLbNILqZ+Q1A6JzV3KkdDkA=",
          "dtype": "f8"
         },
         "y": {
          "bdata": "l0XKTDY9jz8lCH/YHLOSP9YIeswYTpY/3krm9xCCmj853uwYN2OfP8Dh8qW1g6I//dli4xjDpT+PyHYsT3ypPzEJWyuavK0/G+Faa+5IsT8sBfH/PgW0PxHoVbehGrc/6/OAmpKQuj845iyHjG6+P0zc63P1XcE/5TloyeO/wz/KUFCHamDGP0AzJ86aQsk/0Nz4xSdpzD98wm/CT9bPPx+IxGPixdE/lzSJc0rF0z8qmnB/ienVP/SFlDZgMtg/j39fLRyf2j+rL96gji7dP6BxmKwE398/cGn3oiBX4T/i7PelvMziP+GS4PmoTuQ/vhIG6PDa5T9BR7hSWm/nP5wugBdpCek/Ma5D8mOm6j8zUaLgWkPsP79Vpfou3e0/W1tGq5tw7z8zWFiUIH3wP76Y6gBYO/E/1famxjrx8T9f/IB+FJ3yPw84aWk8PfM/DgaTNhzQ8z87IFWvNlT0P2jFpCEuyPQ/eo2iYsoq9T+deE9E/nr1PwfYQlzst/U/rt0N/erg9T9n9cRIh/X1P2f1xEiH9fU/rt0N/erg9T8H2EJc7Lf1P514T0T+evU/eo2iYsoq9T9oxaQhLsj0Pz8gVa82VPQ/EgaTNhzQ8z8UOGlpPD3zP2P8gH4UnfI/2vamxjrx8T++mOoAWDvxPzNYWJQgffA/W1tGq5tw7z+/VaX6Lt3tPzNRouBaQ+w/PK5D8mOm6j+oLoAXaQnpP0FHuFJab+c/vhIG6PDa5T/hkuD5qE7kP+Ls96W8zOI/cGn3oiBX4T+gcZisBN/fP6sv3qCOLt0/j39fLRyf2j/0hZQ2YDLYPyqacH+J6dU/lzSJc0rF0z8fiMRj4sXRP3zCb8JP1s8/59z4xSdpzD9VMyfOmkLJP99QUIdqYMY/+TloyeO/wz9e3Otz9V3BP1PmLIeMbr4/6/OAmpKQuj8R6FW3oRq3PywF8f8+BbQ/G+Faa+5IsT8xCVsrmrytP4/IdixPfKk//dli4xjDpT/A4fKltYOiPzne7Bg3Y58/3krm9xCCmj/WCHrMGE6WPyUIf9gcs5I/l0XKTDY9jz8=",
          "dtype": "f8"
         }
        },
        {
         "line": {
          "color": "#4675ed",
          "width": 2
         },
         "mode": "lines",
         "name": "3.77 ± 0.28",
         "type": "scatter",
         "x": {
          "bdata": "DUesuKlXB0DYCt1i23oHQKTODQ0NngdAb5I+tz7BB0A6Vm9hcOQHQAUaoAuiBwhA0d3QtdMqCECcoQFgBU4IQGdlMgo3cQhAMiljtGiUCED+7JNemrcIQMmwxAjM2ghAlHT1sv39CEBfOCZdLyEJQCv8VgdhRAlA9r+HsZJnCUDBg7hbxIoJQIxH6QX2rQlAWAsasCfRCUAjz0paWfQJQO6SewSLFwpAulasrrw6CkCFGt1Y7l0KQFDeDQMggQpAG6I+rVGkCkDnZW9Xg8cKQLIpoAG16gpAfe3Qq+YNC0BIsQFWGDELQBR1MgBKVAtA3zhjqnt3C0Cq/JNUrZoLQHbAxP7evQtAQYT1qBDhC0AMSCZTQgQMQNcLV/1zJwxAos+Hp6VKDEBuk7hR120MQDlX6fsIkQxABBsapjq0DEDQ3kpQbNcMQJuie/qd+gxAZmaspM8dDUAyKt1OAUENQP3tDfkyZA1AyLE+o2SHDUCTdW9NlqoNQF45oPfHzQ1AKv3QofnwDUD1wAFMKxQOQMCEMvZcNw5AjEhjoI5aDkBXDJRKwH0OQCLQxPTxoA5A7ZP1niPEDkC4VyZJVecOQIQbV/OGCg9AT9+HnbgtD0Aao7hH6lAPQOZm6fEbdA9AsSoanE2XD0B87kpGf7oPQEiye/Cw3Q9ACTtWTXEAEEDvnG4iChIQQNX+hveiIxBAumCfzDs1EECgwreh1EYQQIYk0HZtWBBAa4boSwZqEEBR6AAhn3sQQDZKGfY3jRBAHKwxy9CeEEACDkqgabAQQOdvYnUCwhBAzdF6SpvTEECyM5MfNOUQQJiVq/TM9hBAfvfDyWUIEUBkWdye/hkRQEm79HOXKxFALx0NSTA9EUAUfyUeyU4RQPrgPfNhYBFA4EJWyPpxEUDFpG6dk4MRQKsGh3IslRFAkGifR8WmEUB2yrccXrgRQFws0PH2yRFAQo7oxo/bEUAn8ACcKO0RQA1SGXHB/hFA8rMxRloQEkDYFUob8yESQL53YvCLMxJAo9l6xSRFEkCJO5OavVYSQG6dq29WaBJAVP/DRO95EkA=",
          "dtype": "f8"
         },
         "y": {
          "bdata": "gvw2alcBkD/3tCF5USmTP4OZkNsX25Y/vCH+hKEpmz/AoXTtzxSgP0tHvKC++KI/jgYAS6lMpj/vvJwWaR2qP/BmA3qTeK4/ndLdmTG2sT9sTz8PzYO0P2+U37GtrLc/8e972n44uz/EdDGv6i6/Px40CY69y8E/Ob87bbs8xD/1OHJj3e3GP0J1L/RH4sk/mM17WL8czT/mkz0JyE/QP88X2W47NtI/kZiOO0RC1D959jHkDHTWP2AuoIdUy9g/mR9sUmRH2z8pKMwHBufdP83RGgM+VOA/N9NXjr3E4T/xr+FAk0PjP94D9xoHz+Q/3WDHCBhl5j+oYMfYfQPoP7VkUrOsp+k/LSSzHNpO6z+Z++GAA/bsP25uzj32me4/Xq0Xi6wb8D/ycfl1W+XwP1P7bEtFqPE/7+n50KVi8j/qm/XYvRLzPxMMYSfatvM/aGgBY1pN9D/WlWzrt9T0PwToEmyMS/U/b4zJBJiw9T8g4gLixgL2P6N3tSE2QfY/L8ve5Tdr9j9kjHh6VoD2P2WMeHpWgPY/L8ve5Tdr9j+ld7UhNkH2PyLiAuLGAvY/cozJBJiw9T8I6BJsjEv1P9aVbOu31PQ/bGgBY1pN9D8YDGEn2rbzP+qb9di9EvM/9On50KVi8j9Z+2xLRajxP/Jx+XVb5fA/aq0Xi6wb8D96bs499pnuP5n74YAD9uw/OCSzHNpO6z+1ZFKzrKfpP6hgx9h9A+g/6WDHCBhl5j/eA/caB8/kPwew4UCTQ+M/QtNXjr3E4T/N0RoDPlTgPzwozAcG590/rB9sUmRH2z+CLqCHVMvYP4n2MeQMdNY/kZiOO0RC1D/PF9luOzbSP/OTPQnIT9A/mM17WL8czT9vdS/0R+LJPwY5cmPd7cY/Ob87bbs8xD8xNAmOvcvBP+B0Ma/qLr8/LvB72n44uz+NlN+xray3P2xPPw/Ng7Q/ndLdmTG2sT8XZwN6k3iuP++8nBZpHao/rAYAS6lMpj9jR7ygvviiP8ChdO3PFKA/4CH+hKEpmz+DmZDbF9uWPya1IXlRKZM/mvw2alcBkD8=",
          "dtype": "f8"
         }
        },
        {
         "line": {
          "color": "#39a2fc",
          "width": 2
         },
         "mode": "lines",
         "name": "3.63 ± 0.27",
         "type": "scatter",
         "x": {
          "bdata": "s8D9FBOLBkA6OY8CjKwGQMKxIPAEzgZASSqy3X3vBkDQokPL9hAHQFcb1bhvMgdA35NmpuhTB0BmDPiTYXUHQO2EiYHalgdAdP0ab1O4B0D8daxczNkHQIPuPUpF+wdACmfPN74cCECS32AlNz4IQBlY8hKwXwhAoNCDACmBCEAoSRXuoaIIQK/BptsaxAhANjo4yZPlCEC9ssm2DAcJQEUrW6SFKAlAzKPskf5JCUBTHH5/d2sJQNqUD23wjAlAYg2hWmmuCUDphTJI4s8JQHD+wzVb8QlA+HZVI9QSCkB/7+YQTTQKQAZoeP7FVQpAjuAJ7D53CkAVWZvZt5gKQJzRLMcwugpAI0q+tKnbCkCqwk+iIv0KQDI74Y+bHgtAubNyfRRAC0BALARrjWELQMiklVgGgwtATx0nRn+kC0DWlbgz+MULQF4OSiFx5wtA5YbbDuoIDEBs/2z8YioMQPR3/unbSwxAe/CP11RtDEACaSHFzY4MQInhsrJGsAxAEFpEoL/RDECY0tWNOPMMQB9LZ3uxFA1ApsP4aCo2DUAuPIpWo1cNQLW0G0QceQ1APC2tMZWaDUDEpT4fDrwNQEse0AyH3Q1A0pZh+v/+DUBZD/PneCAOQOCHhNXxQQ5AaAAWw2pjDkDveKew44QOQHbxOJ5cpg5A/mnKi9XHDkCF4lt5TukOQAxb7WbHCg9AlNN+VEAsD0AbTBBCuU0PQKLEoS8ybw9AKj0zHauQD0CwtcQKJLIPQDguVvic0w9Av6bn5RX1D0Cjj7xpRwsQQOdLheADHBBAKghOV8AsEEBuxBbOfD0QQLKA30Q5ThBA9jyou/VeEEA5+XAysm8QQH21OalugBBAwHECICuREEAELsuW56EQQEjqkw2kshBAi6ZchGDDEEDPYiX7HNQQQBIf7nHZ5BBAVtu26JX1EECal39fUgYRQN5TSNYOFxFAIRARTcsnEUBlzNnDhzgRQKiIojpESRFA7ERrsQBaEUAwATQovWoRQHO9/J55exFAt3nFFTaMEUD7NY6M8pwRQD7yVgOvrRFAgq4femu+EUA=",
          "dtype": "f8"
         },
         "y": {
          "bdata": "2a+M2RXUkD+zOzKvniWUP7/NHUIKCJg/XV/OO0mPnD+QwcS8juigP45Z8kKM8qM/4dhgREhypz+5RXYYRXWrP/xJAonlBLA/IaIfJmifsj9ZLch47JG1PxDHL75n5Lg/uxrRSuqevD80mWCYwWTAP0s/2s8PtsI/Yz7rDzNHxT8wEkr1xhvIP471pmQZN8s/81tWBBOczj+Hjb1NjybRPx6vvOIHJtM/WBSVvQRN1T+bbiKCspvXP/Y5+vjMEdo/mCti55Ou3D9Zx5wbwXDfP5aTNQRAK+E/cH6WpLOu4j/UOdcxOkHkP/5hqgoF4eU/ECZ3t/iL5z86mYP6rj/pP8gOPnV6+eo/GGw27Gu27D/cSA0pWXPuP8WjTbdyFvA/KB4VtMXv8D/N9pM41MPxP0YT0YPEkPI/dWTBGLtU8z9gLabJ4Q30P5czsfduuvQ/vq2E36xY9T8t/ULJAOf1Pw9DKfLxY/Y/82MwBjDO9j+ZrO8BmST3P7gA9Vc+Zvc/h4jmOGmS9z9sJOzinaj3P2sk7OKdqPc/h4jmOGmS9z+2APVXPmb3P5es7wGZJPc/8GMwBjDO9j8IQyny8WP2Pyr9QskA5/U/ua2E36xY9T+SM7H3brr0P2AtpsnhDfQ/bmTBGLtU8z9AE9GDxJDyP832kzjUw/E/IR4VtMXv8D++o023chbwP9xIDSlZc+4/DWw27Gu27D+5Dj51evnqPyyZg/quP+k/+CV3t/iL5z/+YaoKBeHlP8k51zE6QeQ/ZX6WpLOu4j+WkzUEQCvhP0XHnBvBcN8/mCti55Ou3D/2Ofr4zBHaP4puIoKym9c/NxSVvQRN1T8Mr7ziBybTP3iNvU2PJtE/81tWBBOczj9x9aZkGTfLPwcSSvXGG8g/Yz7rDzNHxT87P9rPD7bCPzSZYJjBZMA/uxrRSuqevD/5xi++Z+S4Py4tyHjskbU/IaIfJmifsj/tSQKJ5QSwP7lFdhhFdas/wdhgREhypz97WfJCjPKjP5DBxLyO6KA/Ml/OO0mPnD+CzR1CCgiYP7M7Mq+eJZQ/wK+M2RXUkD8=",
          "dtype": "f8"
         }
        },
        {
         "line": {
          "color": "#1bcfd4",
          "width": 2
         },
         "mode": "lines",
         "name": "3.61 ± 0.31",
         "type": "scatter",
         "x": {
          "bdata": "AOFb5q1bBUAvojCkiYIFQF9jBWJlqQVAjiTaH0HQBUC95a7dHPcFQO2mg5v4HQZAHGhYWdREBkBLKS0XsGsGQHrqAdWLkgZAqqvWkme5BkDZbKtQQ+AGQAgugA4fBwdAOO9UzPotB0BnsCmK1lQHQJZx/keyewdAxjLTBY6iB0D186fDackHQCS1fIFF8AdAVHZRPyEXCECDNyb9/D0IQLL4+rrYZAhA4rnPeLSLCEARe6Q2kLIIQEA8efRr2QhAcP1NskcACUCfviJwIycJQM5/9y3/TQlA/kDM69p0CUAtAqGptpsJQFzDdWeSwglAjIRKJW7pCUC7RR/jSRAKQOoG9KAlNwpAGcjIXgFeCkBIiZ0c3YQKQHhKctq4qwpApwtHmJTSCkDWzBtWcPkKQAaO8BNMIAtANU/F0SdHC0BkEJqPA24LQJTRbk3flAtAw5JDC7u7C0DyUxjJluILQCIV7YZyCQxAUdbBRE4wDECAl5YCKlcMQLBYa8AFfgxA3xlAfuGkDEAO2xQ8vcsMQD6c6fmY8gxAbV2+t3QZDUCcHpN1UEANQMzfZzMsZw1A+6A88QeODUAqYhGv47QNQFoj5my/2w1AieS6KpsCDkC4pY/odikOQOhmZKZSUA5AFyg5ZC53DkBG6Q0iCp4OQHaq4t/lxA5ApGu3ncHrDkDULIxbnRIPQATuYBl5OQ9AMq8111RgD0BicAqVMIcPQJEx31IMrg9AwPKzEOjUD0Dws4jOw/sPQJC6LsZPERBAJxsZpb0kEEC/ewOEKzgQQFbc7WKZSxBA7jzYQQdfEECGncIgdXIQQB7+rP/ihRBAtV6X3lCZEEBNv4G9vqwQQOQfbJwswBBAfIBWe5rTEEAU4UBaCOcQQKxBKzl2+hBAQ6IVGOQNEUDbAgD3USERQHJj6tW/NBFACsTUtC1IEUCiJL+Tm1sRQDqFqXIJbxFA0eWTUXeCEUBpRn4w5ZURQACnaA9TqRFAmAdT7sC8EUAwaD3NLtARQMfIJ6yc4xFAXykSiwr3EUD3ifxpeAoSQI7q5kjmHRJAJkvRJ1QxEkA=",
          "dtype": "f8"
         },
         "y": {
          "bdata": "OBBXo+v9jD/83NWSvlqRP0m7hBRVs5Q/EDc1d+aZmD9e7F6UMCGdP+ASDlfALqE//1/X81QypD8oemwf+aanP37EF2P6mKs/x78W/Z0KsD9xTUK/jZSyP/btylUncbU/IgZv9FynuD9++ja5Hz68P+X/DckhHsA/L6xLyC9Uwj8CK3ZyVcTEP/2gXG1rccc/ovfgKPNdyj/D2ASoAYzNP6Y5BtuUftA/y3Ge+zJZ0j8xc6+pAVbUP7UVViLGdNY/oQe7z9q02D/kmH+2JhXbP5qbCjsWlN0/purcxcoX4D/ztZ58hnLhP3S2BMCv2OI/26xn3nVI5D+8eTS9x7/lP9id2fxWPOc/g1DqgZy76D/X0dZi3jrqPzL6HDA3t+s/ZQwAg54t7T/PGvu08pruP8PjkpgD/O8/QxWhAc+m8D9VHib4S0bxPzXWzn7u2vE/jwJqfz1j8j/hnqMv193yPyt+WAV3SfM/HJF1Svuk8z8xISEuau/zP4mXezP2J/Q/oRHT4QFO9D91EZieImH0P3URmJ4iYfQ/oRHT4QFO9D+Jl3sz9if0PzEhIS5q7/M/HJF1Svuk8z8rflgFd0nzP+Geoy/X3fI/jwJqfz1j8j811s5+7trxP1UeJvhLRvE/QxWhAc+m8D/D45KYA/zvP88a+7Tymu4/bwwAg54t7T8y+hwwN7frP9fR1mLeOuo/jVDqgZy76D/Yndn8VjznP7x5NL3Hv+U/26xn3nVI5D90tgTAr9jiP+u1nnyGcuE/purcxcoX4D+amwo7FpTdP/OYf7YmFds/oQe7z9q02D+1FVYixnTWPyRzr6kBVtQ/y3Ge+zJZ0j+mOQbblH7QP9jYBKgBjM0/ovfgKPNdyj/9oFxta3HHP/IqdnJVxMQ/L6xLyC9Uwj/l/w3JIR7AP5b6NrkfPrw/IgZv9FynuD/27cpVJ3G1P2FNQr+NlLI/x78W/Z0KsD9+xBdj+pirP0F6bB/5pqc//1/X81QypD/PEg5XwC6hP4bsXpQwIZ0/EDc1d+aZmD81u4QUVbOUPw7d1ZK+WpE/OBBXo+v9jD8=",
          "dtype": "f8"
         }
        },
        {
         "line": {
          "color": "#24eca6",
          "width": 2
         },
         "mode": "lines",
         "name": "3.35 ± 0.25",
         "type": "scatter",
         "x": {
          "bdata": "HiHiz/rtBEC1d4OiewwFQEzOJHX8KgVA4yTGR31JBUB5e2ca/mcFQBDSCO1+hgVApyiqv/+kBUA+f0uSgMMFQNXV7GQB4gVAbCyON4IABkACgy8KAx8GQJnZ0NyDPQZAMDByrwRcBkDHhhOChXoGQF7dtFQGmQZA9TNWJ4e3BkCMivf5B9YGQCLhmMyI9AZAuTc6nwkTB0BQjttxijEHQOfkfEQLUAdAfjseF4xuB0AVkr/pDI0HQKzoYLyNqwdAQj8Cjw7KB0DZlaNhj+gHQHDsRDQQBwhAB0PmBpElCECemYfZEUQIQDXwKKySYghAy0bKfhOBCEBinWtRlJ8IQPnzDCQVvghAkEqu9pXcCEAnoU/JFvsIQL738JuXGQlAVE6Sbhg4CUDrpDNBmVYJQIL71BMadQlAGVJ25pqTCUCwqBe5G7IJQEf/uIuc0AlA3lVaXh3vCUB0rPswng0KQAsDnQMfLApAolk+1p9KCkA5sN+oIGkKQNAGgXuhhwpAZ10iTiKmCkD+s8Mgo8QKQJQKZfMj4wpAK2EGxqQBC0DCt6eYJSALQFkOSWumPgtA8GTqPSddC0CGu4sQqHsLQB4SLeMomgtAtGjOtam4C0BLv2+IKtcLQOIVEVur9QtAeWyyLSwUDEAQw1MArTIMQKYZ9dItUQxAPnCWpa5vDEDUxjd4L44MQGsd2UqwrAxAAnR6HTHLDECZyhvwsekMQDAhvcIyCA1AxndelbMmDUBezv9nNEUNQPQkoTq1Yw1Ai3tCDTaCDUAi0uPftqANQLgohbI3vw1AUH8mhbjdDUDm1cdXOfwNQH4saSq6Gg5AFIMK/To5DkCr2avPu1cOQEIwTaI8dg5A2IbudL2UDkBw3Y9HPrMOQAY0MRq/0Q5AnYrS7D/wDkA04XO/wA4PQMs3FZJBLQ9AYo62ZMJLD0D45Fc3Q2oPQJA7+QnEiA9AJpKa3ESnD0C96DuvxcUPQFQ/3YFG5A9A9ko/qmMBEEBB9o8TpBAQQIyh4HzkHxBA2Ewx5iQvEEAj+IFPZT4QQG6j0rilTRBAuk4jIuZcEEA=",
          "dtype": "f8"
         },
         "y": {
          "bdata": "hSKfaW53kj+JexWtqBuWPxVDphDgXpo/pLIoIPZWnz9CxcRx5Y2iP1I8KZmd46U/CfX9R4q6qT8+JpN3fiGuP7/xEDETlLE/FjReenZvtD/SadB/bKu3P9K5RsywULs/+kT6pBxovz+LY672Q/3BP5joEa1SiMQ/RKftC21Zxz+vF1SXiHTKPzpBp4pF3c0/vsIGhGrL0D+sP/MI79HSP7bb6OMwA9U/aZGsus9f1z/5O3uJ/OfZP0z5CXVsm9w/SWh7jEx53z8QOtduG0DhP3MOz58U1+I/EKV3Gj+A5D9J9QEi9DnmP0IV6gw4Aug/pGuv4LrW6T+3R2iV2rTrPwKs4xWnme0/rpjYBuiB7z/4RisqErXwP3CQSrxVp/E/CK1dMdCV8j/eTNTrgn7zPxwcTg1mX/Q/9Bkf0G829T+JvzdCnAH2P5GmaTn1vvY/q1jIVZps9z8RQ9XkyAj4PyfNWnfjkfg/C5Rn/HgG+T9GAMY1S2X5P4ksj11Urfk/lev+2Mvd+T9KxVnaKfb5P0rFWdop9vk/lev+2Mvd+T+JLI9dVK35P0YAxjVLZfk/C5Rn/HgG+T8rzVp345H4PxFD1eTICPg/q1jIVZps9z+Rpmk59b72P4m/N0KcAfY/9Bkf0G829T8cHE4NZl/0P+VM1OuCfvM/CK1dMdCV8j9wkEq8VafxP/hGKyoStfA/rpjYBuiB7z8CrOMVp5ntP7dHaJXatOs/tGuv4LrW6T8xFeoMOALoP0n1ASL0OeY/EKV3Gj+A5D9zDs+fFNfiPx06124bQOE/SWh7jEx53z9M+Ql1bJvcP+I7e4n859k/aZGsus9f1z+22+jjMAPVP6w/8wjv0dI/zcIGhGrL0D86QaeKRd3NP68XVJeIdMo/RKftC21Zxz+Y6BGtUojEP4tjrvZD/cE/+kT6pBxovz/wuUbMsFC7P9Jp0H9sq7c/FjReenZvtD+/8RAxE5SxPz4mk3d+Ia4/5fT9R4q6qT9SPCmZneOlP1vFxHHljaI/drIoIPZWnz8VQ6YQ4F6aP6R7Fa2oG5Y/hSKfaW53kj8=",
          "dtype": "f8"
         }
        },
        {
         "line": {
          "color": "#61fc6c",
          "width": 2
         },
         "mode": "lines",
         "name": "3.84 ± 0.25",
         "type": "scatter",
         "x": {
          "bdata": "7V4R5gK0CEBR4cTkAtMIQLVjeOMC8ghAGeYr4gIRCUB9aN/gAjAJQOHqkt8CTwlARW1G3gJuCUCp7/ncAo0JQA1yrdsCrAlAcfRg2gLLCUDVdhTZAuoJQDn5x9cCCQpAnXt71gIoCkAB/i7VAkcKQGWA4tMCZgpAygKW0gKFCkAuhUnRAqQKQJIH/c8CwwpA9omwzgLiCkBaDGTNAgELQL6OF8wCIAtAIhHLygI/C0CGk37JAl4LQOoVMsgCfQtATpjlxgKcC0CyGpnFArsLQBadTMQC2gtAeh8AwwL5C0DeobPBAhgMQEIkZ8ACNwxApqYavwJWDEAKKc69AnUMQG6rgbwClAxA0i01uwKzDEA2sOi5AtIMQJoynLgC8QxA/rRPtwIQDUBiNwO2Ai8NQMa5trQCTg1AKjxqswJtDUCOvh2yAowNQPJA0bACqw1AVsOErwLKDUC6RTiuAukNQB7I66wCCA5AgkqfqwInDkDmzFKqAkYOQEpPBqkCZQ5ArtG5pwKEDkASVG2mAqMOQHbWIKUCwg5A2ljUowLhDkA+24eiAgAPQKNdO6ECHw9AB+DunwI+D0BrYqKeAl0PQM/kVZ0CfA9AM2cJnAKbD0CX6byaAroPQPtrcJkC2Q9AX+4jmAL4D0BiuGtLgQsQQJR5xUoBGxBAxjofSoEqEED4+3hJAToQQCq90kiBSRBAXH4sSAFZEECOP4ZHgWgQQMAA4EYBeBBA8sE5RoGHEEAkg5NFAZcQQFZE7USBphBAiAVHRAG2EEC6xqBDgcUQQOyH+kIB1RBAHklUQoHkEEBQCq5BAfQQQILLB0GBAxFAtIxhQAETEUDmTbs/gSIRQBgPFT8BMhFAStBuPoFBEUB8kcg9AVERQK5SIj2BYBFA4BN8PAFwEUAS1dU7gX8RQESWLzsBjxFAdleJOoGeEUCoGOM5Aa4RQNrZPDmBvRFADJuWOAHNEUA+XPA3gdwRQHAdSjcB7BFAot6jNoH7EUDUn/01AQsSQAZhVzWBGhJAOCKxNAEqEkBq4wo0gTkSQJykZDMBSRJAzmW+MoFYEkA=",
          "dtype": "f8"
         },
         "y": {
          "bdata": "8cDF7awrkj/0XBLj9sCVP/WSBb+x8pk//0kSSmXWnj9510nNx0GiP/AqmbfRiaU/smOBHv5QqT8NZhYr46WtP0gDC2b2S7E/1hxkSqEbtD/vORC+Ukq3P9Kb/3ii4Lo/f1GIc0Xnvj8NK/Kkd7PBPzk8DYEXNMQ/Z8wLrKP5xj9fdTlsAQjKP6NGDh3CYs0/i/5E5ISG0D+JhMNHuoTSP7g0Uqz9rNQ/bMDIKOz/1j/80G/wtX3ZPyyrElsRJtw/u00t2S743j8hC4QaV/ngP4Wmb8HKieI/pZFQECUs5D94P40Qxt7lP9nPOju6n+c/SHFWErts6T+GWw9bMUPrP6tGfw05IO0/vJolBKcA7z9aKy41iHDwP5uxjO7pXvE/l59+EpJJ8j+BPioyii7zP1x628PSC/Q/WZ5hXmrf9D+jWkFUVaf1P2P5V4elYfY//9lgSoIM9z/ZFcYjMKb3P4V0XUQYLfg/nJc9hc+f+D8gmbrBHP34P6q5zmX+Q/k/TwCoDa9z+T+ld6cYqYv5P6Z3pxipi/k/UgCoDa9z+T+uuc5l/kP5PyOZusEc/fg/n5c9hc+f+D+JdF1EGC34P94VxiMwpvc/BdpgSoIM9z9p+VeHpWH2P6paQVRVp/U/X55hXmrf9D9cetvD0gv0P4E+KjKKLvM/l59+EpJJ8j+bsYzu6V7xP1orLjWIcPA/vJolBKcA7z+rRn8NOSDtP4ZbD1sxQ+s/SHFWErts6T/Zzzo7up/nP3g/jRDG3uU/pZFQECUs5D+Fpm/ByoniPyELhBpX+eA/u00t2S743j8sqxJbESbcP/zQb/C1fdk/bMDIKOz/1j+4NFKs/azUP4mEw0e6hNI/i/5E5ISG0D+jRg4dwmLNP191OWwBCMo/Z8wLrKP5xj9PPA2BFzTEPyEr8qR3s8E/olGIc0Xnvj/wm/94ouC6Pwk6EL5SSrc/8BxkSqEbtD9eAwtm9kuxPzJmFivjpa0/0mOBHv5QqT8NK5m30YmlP5LXSc3HQaI/KEoSSmXWnj8bkwW/sfKZPw9dEuP2wJU/DMHF7awrkj8=",
          "dtype": "f8"
         }
        },
        {
         "line": {
          "color": "#a4fc3b",
          "width": 2
         },
         "mode": "lines",
         "name": "3.20 ± 0.14",
         "type": "scatter",
         "x": {
          "bdata": "bTa/VAJXBkD8b1jw7mcGQIup8YvbeAZAGuOKJ8iJBkCpHCTDtJoGQDhWvV6hqwZAx49W+o28BkBWye+Ves0GQOUCiTFn3gZAdDwizVPvBkAEdrtoQAAHQJOvVAQtEQdAIuntnxkiB0CxIoc7BjMHQEBcINfyQwdAz5W5ct9UB0Bez1IOzGUHQO0I7Km4dgdAfEKFRaWHB0ALfB7hkZgHQJq1t3x+qQdAKe9QGGu6B0C4KOqzV8sHQEdig09E3AdA1psc6zDtB0Bl1bWGHf4HQPQOTyIKDwhAg0jovfYfCEASgoFZ4zAIQKK7GvXPQQhAMPWzkLxSCEDALk0sqWMIQE9o5seVdAhA3qF/Y4KFCEBt2xj/bpYIQPwUsppbpwhAi05LNki4CEAaiOTRNMkIQKnBfW0h2ghAOPsWCQ7rCEDHNLCk+vsIQFZuSUDnDAlA5afi29MdCUB04Xt3wC4JQAMbFROtPwlAklSurplQCUAhjkdKhmEJQLDH4OVycglAQAF6gV+DCUDOOhMdTJQJQF50rLg4pQlA7a1FVCW2CUB8597vEccJQAsheIv+1wlAmloRJ+voCUAplKrC1/kJQLjNQ17ECgpARwfd+bAbCkDWQHaVnSwKQGV6DzGKPQpA9LOozHZOCkCD7UFoY18KQBIn2wNQcApAoWB0nzyBCkAwmg07KZIKQL/TptYVowpATg1AcgK0CkDeRtkN78QKQGyAcqnb1QpA/LkLRcjmCkCK86TgtPcKQBotPnyhCAtAqWbXF44ZC0A4oHCzeioLQMfZCU9nOwtAVhOj6lNMC0DlTDyGQF0LQHSG1SEtbgtAA8BuvRl/C0CS+QdZBpALQCEzofTyoAtAsGw6kN+xC0A/ptMrzMILQM7fbMe40wtAXRkGY6XkC0DsUp/+kfULQHuMOJp+BgxACsbRNWsXDECa/2rRVygMQCg5BG1EOQxAuHKdCDFKDEBGrDakHVsMQNblzz8KbAxAZR9p2/Z8DED0WAJ3440MQIOSmxLQngxAEsw0rryvDEChBc5JqcAMQDA/Z+WV0QxAv3gAgYLiDEA=",
          "dtype": "f8"
         },
         "y": {
          "bdata": "jbclyzakoD/AXNj8TuyjP8ELHsWtw6c/dwppFAs+rD81Dc1xdbiwP1RC8NjNubM/ok0XypUvtz8JR9YuKSe7P87i+7inrr8/WPAuem5qwj/FAPZzkFTFP4cmxGOYncg/Q63ArX9NzD+5LaE7HzbQP5mH0bHVgNI//lTYm6sK1T/xQA5TMtfXPxo421Wu6do/g2ZMBABF3j+HwqaixfXgP920CUGP7+I/uqrfu2wQ5T8c6gc4iljnPxx9JUCkx+k/8hdSvPxc7D8qCboaURfvP0DffgFp+vA/Jshhdo558j//v8v2mwf0P1lddgXIovU/bitjKf1I9z+EiCf42/f4P1Id17C+rPo/uacCcb5k/D8b/hIDuhz+P3kdZDpe0f8/bdkd45e/AECvqbIsS5EBQBgKo3z0WwJApMt+nr0dA0A3Ugee1dQDQN0XNfJ3fwRASFr0tPMbBUD1eMK+sqgFQJecnnxAJAZA51Q/V1CNBkBTgDmEw+IGQNATtRyuIwdAB6hgWVtPB0DDUnDYUGUHQMNScNhQZQdABKhgWVtPB0DQE7UcriMHQFOAOYTD4gZA51Q/V1CNBkCXnJ58QCQGQPV4wr6yqAVASFr0tPMbBUDdFzXyd38EQDdSB57V1ANApMt+nr0dA0AYCqN89FsCQK+psixLkQFAbdkd45e/AEB5HWQ6XtH/Pxv+EgO6HP4/uacCcb5k/D81Hdewvqz6P4SIJ/jb9/g/bitjKf1I9z9ZXXYFyKL1P/+/y/abB/Q/Jshhdo558j9A334BafrwPyoJuhpRF+8/8hdSvPxc7D8cfSVApMfpPxzqBziKWOc/uqrfu2wQ5T/dtAlBj+/iP4fCpqLF9eA/g2ZMBABF3j8aONtVrunaP/FADlMy19c//lTYm6sK1T+Zh9Gx1YDSP7ktoTsfNtA/Q63ArX9NzD9SJsRjmJ3IP8UA9nOQVMU/WPAuem5qwj8Y4/u4p66/PwlH1i4pJ7s/ok0XypUvtz9UQvDYzbmzPzUNzXF1uLA/dwppFAs+rD/BCx7FrcOnP8Bc2PxO7KM/jbclyzakoD8=",
          "dtype": "f8"
         }
        }
       ],
       "layout": {
        "legend": {
         "title": {
          "text": "Cmid ± err"
         },
         "x": 1,
         "xanchor": "right",
         "y": 1,
         "yanchor": "top"
        },
        "template": {
         "data": {
          "bar": [
           {
            "error_x": {
             "color": "#2a3f5f"
            },
            "error_y": {
             "color": "#2a3f5f"
            },
            "marker": {
             "line": {
              "color": "#E5ECF6",
              "width": 0.5
             },
             "pattern": {
              "fillmode": "overlay",
              "size": 10,
              "solidity": 0.2
             }
            },
            "type": "bar"
           }
          ],
          "barpolar": [
           {
            "marker": {
             "line": {
              "color": "#E5ECF6",
              "width": 0.5
             },
             "pattern": {
              "fillmode": "overlay",
              "size": 10,
              "solidity": 0.2
             }
            },
            "type": "barpolar"
           }
          ],
          "carpet": [
           {
            "aaxis": {
             "endlinecolor": "#2a3f5f",
             "gridcolor": "white",
             "linecolor": "white",
             "minorgridcolor": "white",
             "startlinecolor": "#2a3f5f"
            },
            "baxis": {
             "endlinecolor": "#2a3f5f",
             "gridcolor": "white",
             "linecolor": "white",
             "minorgridcolor": "white",
             "startlinecolor": "#2a3f5f"
            },
            "type": "carpet"
           }
          ],
          "choropleth": [
           {
            "colorbar": {
             "outlinewidth": 0,
             "ticks": ""
            },
            "type": "choropleth"
           }
          ],
          "contour": [
           {
            "colorbar": {
             "outlinewidth": 0,
             "ticks": ""
            },
            "colorscale": [
             [
              0,
              "#0d0887"
             ],
             [
              0.1111111111111111,
              "#46039f"
             ],
             [
              0.2222222222222222,
              "#7201a8"
             ],
             [
              0.3333333333333333,
              "#9c179e"
             ],
             [
              0.4444444444444444,
              "#bd3786"
             ],
             [
              0.5555555555555556,
              "#d8576b"
             ],
             [
              0.6666666666666666,
              "#ed7953"
             ],
             [
              0.7777777777777778,
              "#fb9f3a"
             ],
             [
              0.8888888888888888,
              "#fdca26"
             ],
             [
              1,
              "#f0f921"
             ]
            ],
            "type": "contour"
           }
          ],
          "contourcarpet": [
           {
            "colorbar": {
             "outlinewidth": 0,
             "ticks": ""
            },
            "type": "contourcarpet"
           }
          ],
          "heatmap": [
           {
            "colorbar": {
             "outlinewidth": 0,
             "ticks": ""
            },
            "colorscale": [
             [
              0,
              "#0d0887"
             ],
             [
              0.1111111111111111,
              "#46039f"
             ],
             [
              0.2222222222222222,
              "#7201a8"
             ],
             [
              0.3333333333333333,
              "#9c179e"
             ],
             [
              0.4444444444444444,
              "#bd3786"
             ],
             [
              0.5555555555555556,
              "#d8576b"
             ],
             [
              0.6666666666666666,
              "#ed7953"
             ],
             [
              0.7777777777777778,
              "#fb9f3a"
             ],
             [
              0.8888888888888888,
              "#fdca26"
             ],
             [
              1,
              "#f0f921"
             ]
            ],
            "type": "heatmap"
           }
          ],
          "histogram": [
           {
            "marker": {
             "pattern": {
              "fillmode": "overlay",
              "size": 10,
              "solidity": 0.2
             }
            },
            "type": "histogram"
           }
          ],
          "histogram2d": [
           {
            "colorbar": {
             "outlinewidth": 0,
             "ticks": ""
            },
            "colorscale": [
             [
              0,
              "#0d0887"
             ],
             [
              0.1111111111111111,
              "#46039f"
             ],
             [
              0.2222222222222222,
              "#7201a8"
             ],
             [
              0.3333333333333333,
              "#9c179e"
             ],
             [
              0.4444444444444444,
              "#bd3786"
             ],
             [
              0.5555555555555556,
              "#d8576b"
             ],
             [
              0.6666666666666666,
              "#ed7953"
             ],
             [
              0.7777777777777778,
              "#fb9f3a"
             ],
             [
              0.8888888888888888,
              "#fdca26"
             ],
             [
              1,
              "#f0f921"
             ]
            ],
            "type": "histogram2d"
           }
          ],
          "histogram2dcontour": [
           {
            "colorbar": {
             "outlinewidth": 0,
             "ticks": ""
            },
            "colorscale": [
             [
              0,
              "#0d0887"
             ],
             [
              0.1111111111111111,
              "#46039f"
             ],
             [
              0.2222222222222222,
              "#7201a8"
             ],
             [
              0.3333333333333333,
              "#9c179e"
             ],
             [
              0.4444444444444444,
              "#bd3786"
             ],
             [
              0.5555555555555556,
              "#d8576b"
             ],
             [
              0.6666666666666666,
              "#ed7953"
             ],
             [
              0.7777777777777778,
              "#fb9f3a"
             ],
             [
              0.8888888888888888,
              "#fdca26"
             ],
             [
              1,
              "#f0f921"
             ]
            ],
            "type": "histogram2dcontour"
           }
          ],
          "mesh3d": [
           {
            "colorbar": {
             "outlinewidth": 0,
             "ticks": ""
            },
            "type": "mesh3d"
           }
          ],
          "parcoords": [
           {
            "line": {
             "colorbar": {
              "outlinewidth": 0,
              "ticks": ""
             }
            },
            "type": "parcoords"
           }
          ],
          "pie": [
           {
            "automargin": true,
            "type": "pie"
           }
          ],
          "scatter": [
           {
            "fillpattern": {
             "fillmode": "overlay",
             "size": 10,
             "solidity": 0.2
            },
            "type": "scatter"
           }
          ],
          "scatter3d": [
           {
            "line": {
             "colorbar": {
              "outlinewidth": 0,
              "ticks": ""
             }
            },
            "marker": {
             "colorbar": {
              "outlinewidth": 0,
              "ticks": ""
             }
            },
            "type": "scatter3d"
           }
          ],
          "scattercarpet": [
           {
            "marker": {
             "colorbar": {
              "outlinewidth": 0,
              "ticks": ""
             }
            },
            "type": "scattercarpet"
           }
          ],
          "scattergeo": [
           {
            "marker": {
             "colorbar": {
              "outlinewidth": 0,
              "ticks": ""
             }
            },
            "type": "scattergeo"
           }
          ],
          "scattergl": [
           {
            "marker": {
             "colorbar": {
              "outlinewidth": 0,
              "ticks": ""
             }
            },
            "type": "scattergl"
           }
          ],
          "scattermap": [
           {
            "marker": {
             "colorbar": {
              "outlinewidth": 0,
              "ticks": ""
             }
            },
            "type": "scattermap"
           }
          ],
          "scattermapbox": [
           {
            "marker": {
             "colorbar": {
              "outlinewidth": 0,
              "ticks": ""
             }
            },
            "type": "scattermapbox"
           }
          ],
          "scatterpolar": [
           {
            "marker": {
             "colorbar": {
              "outlinewidth": 0,
              "ticks": ""
             }
            },
            "type": "scatterpolar"
           }
          ],
          "scatterpolargl": [
           {
            "marker": {
             "colorbar": {
              "outlinewidth": 0,
              "ticks": ""
             }
            },
            "type": "scatterpolargl"
           }
          ],
          "scatterternary": [
           {
            "marker": {
             "colorbar": {
              "outlinewidth": 0,
              "ticks": ""
             }
            },
            "type": "scatterternary"
           }
          ],
          "surface": [
           {
            "colorbar": {
             "outlinewidth": 0,
             "ticks": ""
            },
            "colorscale": [
             [
              0,
              "#0d0887"
             ],
             [
              0.1111111111111111,
              "#46039f"
             ],
             [
              0.2222222222222222,
              "#7201a8"
             ],
             [
              0.3333333333333333,
              "#9c179e"
             ],
             [
              0.4444444444444444,
              "#bd3786"
             ],
             [
              0.5555555555555556,
              "#d8576b"
             ],
             [
              0.6666666666666666,
              "#ed7953"
             ],
             [
              0.7777777777777778,
              "#fb9f3a"
             ],
             [
              0.8888888888888888,
              "#fdca26"
             ],
             [
              1,
              "#f0f921"
             ]
            ],
            "type": "surface"
           }
          ],
          "table": [
           {
            "cells": {
             "fill": {
              "color": "#EBF0F8"
             },
             "line": {
              "color": "white"
             }
            },
            "header": {
             "fill": {
              "color": "#C8D4E3"
             },
             "line": {
              "color": "white"
             }
            },
            "type": "table"
           }
          ]
         },
         "layout": {
          "annotationdefaults": {
           "arrowcolor": "#2a3f5f",
           "arrowhead": 0,
           "arrowwidth": 1
          },
          "autotypenumbers": "strict",
          "coloraxis": {
           "colorbar": {
            "outlinewidth": 0,
            "ticks": ""
           }
          },
          "colorscale": {
           "diverging": [
            [
             0,
             "#8e0152"
            ],
            [
             0.1,
             "#c51b7d"
            ],
            [
             0.2,
             "#de77ae"
            ],
            [
             0.3,
             "#f1b6da"
            ],
            [
             0.4,
             "#fde0ef"
            ],
            [
             0.5,
             "#f7f7f7"
            ],
            [
             0.6,
             "#e6f5d0"
            ],
            [
             0.7,
             "#b8e186"
            ],
            [
             0.8,
             "#7fbc41"
            ],
            [
             0.9,
             "#4d9221"
            ],
            [
             1,
             "#276419"
            ]
           ],
           "sequential": [
            [
             0,
             "#0d0887"
            ],
            [
             0.1111111111111111,
             "#46039f"
            ],
            [
             0.2222222222222222,
             "#7201a8"
            ],
            [
             0.3333333333333333,
             "#9c179e"
            ],
            [
             0.4444444444444444,
             "#bd3786"
            ],
            [
             0.5555555555555556,
             "#d8576b"
            ],
            [
             0.6666666666666666,
             "#ed7953"
            ],
            [
             0.7777777777777778,
             "#fb9f3a"
            ],
            [
             0.8888888888888888,
             "#fdca26"
            ],
            [
             1,
             "#f0f921"
            ]
           ],
           "sequentialminus": [
            [
             0,
             "#0d0887"
            ],
            [
             0.1111111111111111,
             "#46039f"
            ],
            [
             0.2222222222222222,
             "#7201a8"
            ],
            [
             0.3333333333333333,
             "#9c179e"
            ],
            [
             0.4444444444444444,
             "#bd3786"
            ],
            [
             0.5555555555555556,
             "#d8576b"
            ],
            [
             0.6666666666666666,
             "#ed7953"
            ],
            [
             0.7777777777777778,
             "#fb9f3a"
            ],
            [
             0.8888888888888888,
             "#fdca26"
            ],
            [
             1,
             "#f0f921"
            ]
           ]
          },
          "colorway": [
           "#636efa",
           "#EF553B",
           "#00cc96",
           "#ab63fa",
           "#FFA15A",
           "#19d3f3",
           "#FF6692",
           "#B6E880",
           "#FF97FF",
           "#FECB52"
          ],
          "font": {
           "color": "#2a3f5f"
          },
          "geo": {
           "bgcolor": "white",
           "lakecolor": "white",
           "landcolor": "#E5ECF6",
           "showlakes": true,
           "showland": true,
           "subunitcolor": "white"
          },
          "hoverlabel": {
           "align": "left"
          },
          "hovermode": "closest",
          "mapbox": {
           "style": "light"
          },
          "paper_bgcolor": "white",
          "plot_bgcolor": "#E5ECF6",
          "polar": {
           "angularaxis": {
            "gridcolor": "white",
            "linecolor": "white",
            "ticks": ""
           },
           "bgcolor": "#E5ECF6",
           "radialaxis": {
            "gridcolor": "white",
            "linecolor": "white",
            "ticks": ""
           }
          },
          "scene": {
           "xaxis": {
            "backgroundcolor": "#E5ECF6",
            "gridcolor": "white",
            "gridwidth": 2,
            "linecolor": "white",
            "showbackground": true,
            "ticks": "",
            "zerolinecolor": "white"
           },
           "yaxis": {
            "backgroundcolor": "#E5ECF6",
            "gridcolor": "white",
            "gridwidth": 2,
            "linecolor": "white",
            "showbackground": true,
            "ticks": "",
            "zerolinecolor": "white"
           },
           "zaxis": {
            "backgroundcolor": "#E5ECF6",
            "gridcolor": "white",
            "gridwidth": 2,
            "linecolor": "white",
            "showbackground": true,
            "ticks": "",
            "zerolinecolor": "white"
           }
          },
          "shapedefaults": {
           "line": {
            "color": "#2a3f5f"
           }
          },
          "ternary": {
           "aaxis": {
            "gridcolor": "white",
            "linecolor": "white",
            "ticks": ""
           },
           "baxis": {
            "gridcolor": "white",
            "linecolor": "white",
            "ticks": ""
           },
           "bgcolor": "#E5ECF6",
           "caxis": {
            "gridcolor": "white",
            "linecolor": "white",
            "ticks": ""
           }
          },
          "title": {
           "x": 0.05
          },
          "xaxis": {
           "automargin": true,
           "gridcolor": "white",
           "linecolor": "white",
           "ticks": "",
           "title": {
            "standoff": 15
           },
           "zerolinecolor": "white",
           "zerolinewidth": 2
          },
          "yaxis": {
           "automargin": true,
           "gridcolor": "white",
           "linecolor": "white",
           "ticks": "",
           "title": {
            "standoff": 15
           },
           "zerolinecolor": "white",
           "zerolinewidth": 2
          }
         }
        },
        "xaxis": {
         "title": {
          "text": "Cmid"
         }
        },
        "yaxis": {
         "title": {
          "text": "Probability Density"
         }
        }
       }
      }
     },
     "metadata": {},
     "output_type": "display_data"
    }
   ],
   "source": [
    "from scipy.stats import norm\n",
    "\n",
    "colors = px.colors.sequential.Turbo\n",
    "\n",
    "fig = go.Figure()\n",
    "\n",
    "x = np.linspace(mean_Cmid - 15 * mean_Cmid_err, mean_Cmid + 15 * mean_Cmid_err, 1000)\n",
    "y = norm.pdf(x, mean_Cmid, mean_Cmid_err)\n",
    "fig.add_trace(go.Scatter(\n",
    "        x=x,\n",
    "        y=y,\n",
    "        mode='lines',\n",
    "        name=f'Mean: {mean_Cmid:.2f} ± {mean_Cmid_err:.2f}',\n",
    "        line=dict(color='red', width=4),\n",
    "    ))\n",
    "\n",
    "for i, [c, e] in enumerate(zip(Cmid_values, Cmid_errors)):\n",
    "    x = np.linspace(c - 3 * e, c + 3 * e, 100)\n",
    "    y = norm.pdf(x, c, e)\n",
    "    fig.add_trace(go.Scatter(\n",
    "        x=x,\n",
    "        y=y,\n",
    "        mode='lines',\n",
    "        name=f'{c:.2f} ± {e:.2f}',\n",
    "        line=dict(color=colors[i % len(colors)], width=2),\n",
    "    ))\n",
    "\n",
    "fig.update_layout(\n",
    "    xaxis_title='Cmid',\n",
    "    yaxis_title='Probability Density',\n",
    "    legend_title='Cmid ± err',\n",
    "    legend=dict(\n",
    "        x=1,\n",
    "        y=1,\n",
    "        xanchor='right',\n",
    "        yanchor='top'\n",
    "    )\n",
    ")\n",
    "\n",
    "fig.write_image('./images/gauss_Cmid.png')\n",
    "fig.write_html('./html/gauss_Cmid.html')\n",
    "fig.show()"
   ]
  },
  {
   "cell_type": "code",
   "execution_count": 55,
   "id": "7fe6c783",
   "metadata": {},
   "outputs": [
    {
     "data": {
      "application/vnd.plotly.v1+json": {
       "config": {
        "plotlyServerURL": "https://plot.ly"
       },
       "data": [
        {
         "error_y": {
          "array": {
           "bdata": "3p9U7nbud0BQQCoWDuuCQBeXjIJ1b3ZAgSHctu1OeEDMRc/9yaV5QAlKKpaT+n1AM7Ej9HgOdECL0Clry11xQA==",
           "dtype": "f8"
          },
          "type": "data",
          "visible": true
         },
         "mode": "markers",
         "name": "m",
         "type": "scatter",
         "x": {
          "bdata": "4wDiAOEA4ADfAN4A3QDcAA==",
          "dtype": "i2"
         },
         "y": {
          "bdata": "StaYRfN5okDSYDOSaOiiQDGNnYZNP51AS41DJCNmn0CM8yIoBtGdQIbhwic6XqJAvPD5uqd5nUCgQ+eq4byiQA==",
          "dtype": "f8"
         }
        },
        {
         "line": {
          "color": "red",
          "dash": "dash"
         },
         "mode": "lines",
         "name": "Mean m",
         "type": "scatter",
         "x": {
          "bdata": "2wDjAOIA4QDgAN8A3gDdANwA5AA=",
          "dtype": "i2"
         },
         "y": [
          2136.160364937522,
          2136.160364937522,
          2136.160364937522,
          2136.160364937522,
          2136.160364937522,
          2136.160364937522,
          2136.160364937522,
          2136.160364937522,
          2136.160364937522,
          2136.160364937522
         ]
        },
        {
         "line": {
          "color": "red",
          "width": 0
         },
         "mode": "lines",
         "showlegend": false,
         "type": "scatter",
         "x": {
          "bdata": "2wDjAOIA4QDgAN8A3gDdANwA5AA=",
          "dtype": "i2"
         },
         "y": [
          2046.0624460857184,
          2046.0624460857184,
          2046.0624460857184,
          2046.0624460857184,
          2046.0624460857184,
          2046.0624460857184,
          2046.0624460857184,
          2046.0624460857184,
          2046.0624460857184,
          2046.0624460857184
         ]
        },
        {
         "fill": "tonexty",
         "fillcolor": "rgba(255,0,0,0.2)",
         "line": {
          "color": "red",
          "width": 0
         },
         "mode": "lines",
         "name": "Mean ± SEM",
         "type": "scatter",
         "x": {
          "bdata": "2wDjAOIA4QDgAN8A3gDdANwA5AA=",
          "dtype": "i2"
         },
         "y": [
          2226.2582837893256,
          2226.2582837893256,
          2226.2582837893256,
          2226.2582837893256,
          2226.2582837893256,
          2226.2582837893256,
          2226.2582837893256,
          2226.2582837893256,
          2226.2582837893256,
          2226.2582837893256
         ]
        }
       ],
       "layout": {
        "legend": {
         "title": {
          "text": "Legend"
         },
         "x": 1,
         "xanchor": "right",
         "y": 0,
         "yanchor": "bottom"
        },
        "template": {
         "data": {
          "bar": [
           {
            "error_x": {
             "color": "#2a3f5f"
            },
            "error_y": {
             "color": "#2a3f5f"
            },
            "marker": {
             "line": {
              "color": "#E5ECF6",
              "width": 0.5
             },
             "pattern": {
              "fillmode": "overlay",
              "size": 10,
              "solidity": 0.2
             }
            },
            "type": "bar"
           }
          ],
          "barpolar": [
           {
            "marker": {
             "line": {
              "color": "#E5ECF6",
              "width": 0.5
             },
             "pattern": {
              "fillmode": "overlay",
              "size": 10,
              "solidity": 0.2
             }
            },
            "type": "barpolar"
           }
          ],
          "carpet": [
           {
            "aaxis": {
             "endlinecolor": "#2a3f5f",
             "gridcolor": "white",
             "linecolor": "white",
             "minorgridcolor": "white",
             "startlinecolor": "#2a3f5f"
            },
            "baxis": {
             "endlinecolor": "#2a3f5f",
             "gridcolor": "white",
             "linecolor": "white",
             "minorgridcolor": "white",
             "startlinecolor": "#2a3f5f"
            },
            "type": "carpet"
           }
          ],
          "choropleth": [
           {
            "colorbar": {
             "outlinewidth": 0,
             "ticks": ""
            },
            "type": "choropleth"
           }
          ],
          "contour": [
           {
            "colorbar": {
             "outlinewidth": 0,
             "ticks": ""
            },
            "colorscale": [
             [
              0,
              "#0d0887"
             ],
             [
              0.1111111111111111,
              "#46039f"
             ],
             [
              0.2222222222222222,
              "#7201a8"
             ],
             [
              0.3333333333333333,
              "#9c179e"
             ],
             [
              0.4444444444444444,
              "#bd3786"
             ],
             [
              0.5555555555555556,
              "#d8576b"
             ],
             [
              0.6666666666666666,
              "#ed7953"
             ],
             [
              0.7777777777777778,
              "#fb9f3a"
             ],
             [
              0.8888888888888888,
              "#fdca26"
             ],
             [
              1,
              "#f0f921"
             ]
            ],
            "type": "contour"
           }
          ],
          "contourcarpet": [
           {
            "colorbar": {
             "outlinewidth": 0,
             "ticks": ""
            },
            "type": "contourcarpet"
           }
          ],
          "heatmap": [
           {
            "colorbar": {
             "outlinewidth": 0,
             "ticks": ""
            },
            "colorscale": [
             [
              0,
              "#0d0887"
             ],
             [
              0.1111111111111111,
              "#46039f"
             ],
             [
              0.2222222222222222,
              "#7201a8"
             ],
             [
              0.3333333333333333,
              "#9c179e"
             ],
             [
              0.4444444444444444,
              "#bd3786"
             ],
             [
              0.5555555555555556,
              "#d8576b"
             ],
             [
              0.6666666666666666,
              "#ed7953"
             ],
             [
              0.7777777777777778,
              "#fb9f3a"
             ],
             [
              0.8888888888888888,
              "#fdca26"
             ],
             [
              1,
              "#f0f921"
             ]
            ],
            "type": "heatmap"
           }
          ],
          "histogram": [
           {
            "marker": {
             "pattern": {
              "fillmode": "overlay",
              "size": 10,
              "solidity": 0.2
             }
            },
            "type": "histogram"
           }
          ],
          "histogram2d": [
           {
            "colorbar": {
             "outlinewidth": 0,
             "ticks": ""
            },
            "colorscale": [
             [
              0,
              "#0d0887"
             ],
             [
              0.1111111111111111,
              "#46039f"
             ],
             [
              0.2222222222222222,
              "#7201a8"
             ],
             [
              0.3333333333333333,
              "#9c179e"
             ],
             [
              0.4444444444444444,
              "#bd3786"
             ],
             [
              0.5555555555555556,
              "#d8576b"
             ],
             [
              0.6666666666666666,
              "#ed7953"
             ],
             [
              0.7777777777777778,
              "#fb9f3a"
             ],
             [
              0.8888888888888888,
              "#fdca26"
             ],
             [
              1,
              "#f0f921"
             ]
            ],
            "type": "histogram2d"
           }
          ],
          "histogram2dcontour": [
           {
            "colorbar": {
             "outlinewidth": 0,
             "ticks": ""
            },
            "colorscale": [
             [
              0,
              "#0d0887"
             ],
             [
              0.1111111111111111,
              "#46039f"
             ],
             [
              0.2222222222222222,
              "#7201a8"
             ],
             [
              0.3333333333333333,
              "#9c179e"
             ],
             [
              0.4444444444444444,
              "#bd3786"
             ],
             [
              0.5555555555555556,
              "#d8576b"
             ],
             [
              0.6666666666666666,
              "#ed7953"
             ],
             [
              0.7777777777777778,
              "#fb9f3a"
             ],
             [
              0.8888888888888888,
              "#fdca26"
             ],
             [
              1,
              "#f0f921"
             ]
            ],
            "type": "histogram2dcontour"
           }
          ],
          "mesh3d": [
           {
            "colorbar": {
             "outlinewidth": 0,
             "ticks": ""
            },
            "type": "mesh3d"
           }
          ],
          "parcoords": [
           {
            "line": {
             "colorbar": {
              "outlinewidth": 0,
              "ticks": ""
             }
            },
            "type": "parcoords"
           }
          ],
          "pie": [
           {
            "automargin": true,
            "type": "pie"
           }
          ],
          "scatter": [
           {
            "fillpattern": {
             "fillmode": "overlay",
             "size": 10,
             "solidity": 0.2
            },
            "type": "scatter"
           }
          ],
          "scatter3d": [
           {
            "line": {
             "colorbar": {
              "outlinewidth": 0,
              "ticks": ""
             }
            },
            "marker": {
             "colorbar": {
              "outlinewidth": 0,
              "ticks": ""
             }
            },
            "type": "scatter3d"
           }
          ],
          "scattercarpet": [
           {
            "marker": {
             "colorbar": {
              "outlinewidth": 0,
              "ticks": ""
             }
            },
            "type": "scattercarpet"
           }
          ],
          "scattergeo": [
           {
            "marker": {
             "colorbar": {
              "outlinewidth": 0,
              "ticks": ""
             }
            },
            "type": "scattergeo"
           }
          ],
          "scattergl": [
           {
            "marker": {
             "colorbar": {
              "outlinewidth": 0,
              "ticks": ""
             }
            },
            "type": "scattergl"
           }
          ],
          "scattermap": [
           {
            "marker": {
             "colorbar": {
              "outlinewidth": 0,
              "ticks": ""
             }
            },
            "type": "scattermap"
           }
          ],
          "scattermapbox": [
           {
            "marker": {
             "colorbar": {
              "outlinewidth": 0,
              "ticks": ""
             }
            },
            "type": "scattermapbox"
           }
          ],
          "scatterpolar": [
           {
            "marker": {
             "colorbar": {
              "outlinewidth": 0,
              "ticks": ""
             }
            },
            "type": "scatterpolar"
           }
          ],
          "scatterpolargl": [
           {
            "marker": {
             "colorbar": {
              "outlinewidth": 0,
              "ticks": ""
             }
            },
            "type": "scatterpolargl"
           }
          ],
          "scatterternary": [
           {
            "marker": {
             "colorbar": {
              "outlinewidth": 0,
              "ticks": ""
             }
            },
            "type": "scatterternary"
           }
          ],
          "surface": [
           {
            "colorbar": {
             "outlinewidth": 0,
             "ticks": ""
            },
            "colorscale": [
             [
              0,
              "#0d0887"
             ],
             [
              0.1111111111111111,
              "#46039f"
             ],
             [
              0.2222222222222222,
              "#7201a8"
             ],
             [
              0.3333333333333333,
              "#9c179e"
             ],
             [
              0.4444444444444444,
              "#bd3786"
             ],
             [
              0.5555555555555556,
              "#d8576b"
             ],
             [
              0.6666666666666666,
              "#ed7953"
             ],
             [
              0.7777777777777778,
              "#fb9f3a"
             ],
             [
              0.8888888888888888,
              "#fdca26"
             ],
             [
              1,
              "#f0f921"
             ]
            ],
            "type": "surface"
           }
          ],
          "table": [
           {
            "cells": {
             "fill": {
              "color": "#EBF0F8"
             },
             "line": {
              "color": "white"
             }
            },
            "header": {
             "fill": {
              "color": "#C8D4E3"
             },
             "line": {
              "color": "white"
             }
            },
            "type": "table"
           }
          ]
         },
         "layout": {
          "annotationdefaults": {
           "arrowcolor": "#2a3f5f",
           "arrowhead": 0,
           "arrowwidth": 1
          },
          "autotypenumbers": "strict",
          "coloraxis": {
           "colorbar": {
            "outlinewidth": 0,
            "ticks": ""
           }
          },
          "colorscale": {
           "diverging": [
            [
             0,
             "#8e0152"
            ],
            [
             0.1,
             "#c51b7d"
            ],
            [
             0.2,
             "#de77ae"
            ],
            [
             0.3,
             "#f1b6da"
            ],
            [
             0.4,
             "#fde0ef"
            ],
            [
             0.5,
             "#f7f7f7"
            ],
            [
             0.6,
             "#e6f5d0"
            ],
            [
             0.7,
             "#b8e186"
            ],
            [
             0.8,
             "#7fbc41"
            ],
            [
             0.9,
             "#4d9221"
            ],
            [
             1,
             "#276419"
            ]
           ],
           "sequential": [
            [
             0,
             "#0d0887"
            ],
            [
             0.1111111111111111,
             "#46039f"
            ],
            [
             0.2222222222222222,
             "#7201a8"
            ],
            [
             0.3333333333333333,
             "#9c179e"
            ],
            [
             0.4444444444444444,
             "#bd3786"
            ],
            [
             0.5555555555555556,
             "#d8576b"
            ],
            [
             0.6666666666666666,
             "#ed7953"
            ],
            [
             0.7777777777777778,
             "#fb9f3a"
            ],
            [
             0.8888888888888888,
             "#fdca26"
            ],
            [
             1,
             "#f0f921"
            ]
           ],
           "sequentialminus": [
            [
             0,
             "#0d0887"
            ],
            [
             0.1111111111111111,
             "#46039f"
            ],
            [
             0.2222222222222222,
             "#7201a8"
            ],
            [
             0.3333333333333333,
             "#9c179e"
            ],
            [
             0.4444444444444444,
             "#bd3786"
            ],
            [
             0.5555555555555556,
             "#d8576b"
            ],
            [
             0.6666666666666666,
             "#ed7953"
            ],
            [
             0.7777777777777778,
             "#fb9f3a"
            ],
            [
             0.8888888888888888,
             "#fdca26"
            ],
            [
             1,
             "#f0f921"
            ]
           ]
          },
          "colorway": [
           "#636efa",
           "#EF553B",
           "#00cc96",
           "#ab63fa",
           "#FFA15A",
           "#19d3f3",
           "#FF6692",
           "#B6E880",
           "#FF97FF",
           "#FECB52"
          ],
          "font": {
           "color": "#2a3f5f"
          },
          "geo": {
           "bgcolor": "white",
           "lakecolor": "white",
           "landcolor": "#E5ECF6",
           "showlakes": true,
           "showland": true,
           "subunitcolor": "white"
          },
          "hoverlabel": {
           "align": "left"
          },
          "hovermode": "closest",
          "mapbox": {
           "style": "light"
          },
          "paper_bgcolor": "white",
          "plot_bgcolor": "#E5ECF6",
          "polar": {
           "angularaxis": {
            "gridcolor": "white",
            "linecolor": "white",
            "ticks": ""
           },
           "bgcolor": "#E5ECF6",
           "radialaxis": {
            "gridcolor": "white",
            "linecolor": "white",
            "ticks": ""
           }
          },
          "scene": {
           "xaxis": {
            "backgroundcolor": "#E5ECF6",
            "gridcolor": "white",
            "gridwidth": 2,
            "linecolor": "white",
            "showbackground": true,
            "ticks": "",
            "zerolinecolor": "white"
           },
           "yaxis": {
            "backgroundcolor": "#E5ECF6",
            "gridcolor": "white",
            "gridwidth": 2,
            "linecolor": "white",
            "showbackground": true,
            "ticks": "",
            "zerolinecolor": "white"
           },
           "zaxis": {
            "backgroundcolor": "#E5ECF6",
            "gridcolor": "white",
            "gridwidth": 2,
            "linecolor": "white",
            "showbackground": true,
            "ticks": "",
            "zerolinecolor": "white"
           }
          },
          "shapedefaults": {
           "line": {
            "color": "#2a3f5f"
           }
          },
          "ternary": {
           "aaxis": {
            "gridcolor": "white",
            "linecolor": "white",
            "ticks": ""
           },
           "baxis": {
            "gridcolor": "white",
            "linecolor": "white",
            "ticks": ""
           },
           "bgcolor": "#E5ECF6",
           "caxis": {
            "gridcolor": "white",
            "linecolor": "white",
            "ticks": ""
           }
          },
          "title": {
           "x": 0.05
          },
          "xaxis": {
           "automargin": true,
           "gridcolor": "white",
           "linecolor": "white",
           "ticks": "",
           "title": {
            "standoff": 15
           },
           "zerolinecolor": "white",
           "zerolinewidth": 2
          },
          "yaxis": {
           "automargin": true,
           "gridcolor": "white",
           "linecolor": "white",
           "ticks": "",
           "title": {
            "standoff": 15
           },
           "zerolinecolor": "white",
           "zerolinewidth": 2
          }
         }
        },
        "xaxis": {
         "dtick": 1,
         "range": [
          219,
          228
         ],
         "tickmode": "linear",
         "title": {
          "text": "λ [nm]"
         }
        },
        "yaxis": {
         "range": [
          0,
          3328.1447305004335
         ],
         "title": {
          "text": "m"
         }
        }
       }
      }
     },
     "metadata": {},
     "output_type": "display_data"
    }
   ],
   "source": [
    "# Extract m and its error\n",
    "m_values = fit_df['m']\n",
    "m_errors = fit_df['m_err']\n",
    "\n",
    "# Compute mean and standard error of the mean\n",
    "weights_m = 1 / m_errors**2\n",
    "mean_m = np.average(m_values, weights=weights_m)\n",
    "mean_m_err = np.sqrt(np.sum(weights_m * ((m_values - mean_m) ** 2)) / np.sum(weights_m))/np.sqrt(len(m_values) - 1)\n",
    "\n",
    "fig = go.Figure()\n",
    "\n",
    "# markers with error bars\n",
    "fig.add_trace(go.Scatter(\n",
    "    x=fit_df['λ'],\n",
    "    y=m_values,\n",
    "    error_y=dict(type='data', array=m_errors, visible=True),\n",
    "    mode='markers',\n",
    "    name='m'\n",
    "))\n",
    "\n",
    "mean_line_points = np.concatenate([[λmin-1], fit_df['λ'], [λmax+1]])\n",
    "# mean dashed line\n",
    "fig.add_trace(go.Scatter(\n",
    "    x=mean_line_points,\n",
    "    y=[mean_m]*len(mean_line_points),\n",
    "    mode='lines',\n",
    "    line=dict(color='red', dash='dash'),\n",
    "    name='Mean m'\n",
    "))\n",
    "\n",
    "# bottom\n",
    "fig.add_trace(go.Scatter(\n",
    "    x=mean_line_points,\n",
    "    y=[mean_m - mean_m_err]*len(mean_line_points),\n",
    "    mode='lines',\n",
    "    line=dict(color='red', width=0),\n",
    "    showlegend=False\n",
    "))\n",
    "# top\n",
    "fig.add_trace(go.Scatter(\n",
    "    x=mean_line_points,\n",
    "    y=[mean_m + mean_m_err]*len(mean_line_points),\n",
    "    mode='lines',\n",
    "    fill='tonexty',\n",
    "    fillcolor='rgba(255,0,0,0.2)',\n",
    "    line=dict(color='red', width=0),\n",
    "    name='Mean ± SEM'\n",
    "))\n",
    "\n",
    "fig.update_layout(\n",
    "    xaxis_title='λ [nm]',\n",
    "    yaxis_title='m',\n",
    "    legend_title='Legend',\n",
    "    yaxis=dict(range=[0, max(m_values + m_errors) * 1.1]),\n",
    "    legend=dict(\n",
    "        x=1,\n",
    "        y=0,\n",
    "        xanchor='right',\n",
    "        yanchor='bottom'\n",
    "    ),\n",
    "    xaxis=dict(\n",
    "        range=[λmin-1, λmax+1],\n",
    "        tickmode='linear',\n",
    "        dtick=1\n",
    "    ),\n",
    ")\n",
    "\n",
    "fig.show()\n"
   ]
  },
  {
   "cell_type": "code",
   "execution_count": 68,
   "id": "632841cb",
   "metadata": {},
   "outputs": [
    {
     "data": {
      "application/vnd.plotly.v1+json": {
       "config": {
        "plotlyServerURL": "https://plot.ly"
       },
       "data": [
        {
         "line": {
          "color": "red",
          "width": 4
         },
         "mode": "lines",
         "name": "Mean: 2136 ± 90",
         "type": "scatter",
         "x": {
          "bdata": "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",
          "dtype": "f8"
         },
         "y": {
          "bdata": "H9sXzsYS1jBglMEslIDnMHI1NI6/+vgwSntQRK+ACjEIxh6srxEcMeIfXufyrC0xemDczpBRPzGH8IuQQ39QMQCqDfhcWWExVqxwKHo2cjHtQeym9BWDMaFaro4a95Mxn24UTi/ZpDFiZnSFbLu1MV6BlwYDncYxG8SV8xt91zFAW0z72VroMSlTN7FaNfkxABUI/rcLCjKm0uilCd0aMmiF++BmqCsyfvNJAuhsPDLc2g4pqClNModA//fG3V0yJIgHTmqIbjK+fMz7vyh/MkJZLHH/vY8yUcr8rrUjoDIvuZugKWKwMpmAIHEKmsAy5Au61w7L0DJRZB7/9fTgMijsVxSIF/EyVB6iwpYyATO+Y9Wa/UURM0XwHmWiUSEzZD4EXHVVMTPMSfhPcVFBM3tAErObRVEzsJLAjAQyYTPAT59VxhZxM0Hv47sF9IAzIjEaUfHJkDOtJjQiwZigM8f0MTu2YLAzgEvjFxoiwDPXkvcGfLrPM8ECyNH0JN8z0hO0K1yE7jOOmCrmetn9M/u/c2cjJQ00A07v/C9oHDSV0HAlgaMrNINtfdj71zo0o3Aaz4cGSjSZ5bfSDTBZNPbGjhZ2VWg03gyJn6Z3dzQ1x3u+gZeGNDWrIqDktZU0bULq9aXTpDRBoSy6lPGzNIqOFRJ3EMM0ydXwTgkx0jQRbzEQ/VPhNBybDIf4efA0KwkluCtH/zR4R4BtxaINNXP+Os2/Bxw1x0IzWgJ3KjURrvZNWvE4Necs2ad6d0c150W9dPwJVjW9BY9LX6lkNRWlDPoJVnM1m2knXUsQgjXgAwxgW9iQNXvkdjm4XJ81R+wWMrYkrTU8jM01pQi7NQSDcB1WCMk1POMf9ngj1zXDhIX5n1nlNWLhCY5CqvM1qWGSRsAUAjYFVAPaY5gQNnn05xbMaB42XFKD+eDPKzZUWejLQGQ5NoxaW1kSJEc208xQr20NVTZV8BG2YB5jNvD6FXbzVHE2AtAODVhefzYlwYpFJFaMNqW44ctkjZk2LTt1WUIApzbuiF89+qq0NnOHW8LiicI2lbHl7W6Z0DbvyLg/Y6zdNgHNCjbAeeo2PAqI/6eU9zYdUvGFGfcEN6P591ZhmxI3GTzgwRp8IDdvaPlaYCgtNx9pL3i1vTk3RNUApUKvRjdADastrvRTN8HfrfUyhmE3/GU0kje5bjc49d0bfOJ6N94x9Ozne4c3/7RCpix6lDcx8KA+7NKhNzNoY4pX+a433bSH8Yvdujce9Zy3u0LHN8EB0s6iGtQ39Hd59VhY4TdAPzR/cODtNyaNeeiIr/k34Nf/viYLBjgwpjlmbOISOHIGuBBIJiA4e6TlQZaSKzgybaHsB383OCmPAlm0/EM4Cmpjltr4UDgkuTh118VcOMNdLoWjWGg4InYk/XWQdDidKIa401aBOLIsS20jMI04y2AS0gmGmDiY8zHkcpGkOKQ6CrhhOLE4tJV0OpvIvDgDF7YtbwPIOBbWNeaV/9M4mig1NxCg4DgkoHoB45frOEI+VySy2/Y4iLrIDfbmAjlmNJCI3DQPOTY3Dx3xthk5r6wTEt0mJTk3OLP8Ll4xOdvXXkCxeDw50UN4ua1LRzlOB+Eh7AZTOQs9imq+Bl85wDO/13VAaTk81KQYBYR0OcFMNHBxo4A5tz75eLTwijl0vGnoj8WVOauZBdBPkKE5UAkO+7pJrDl/njxzcb22ORwc/zJyP8I5XqGArgI8zTmMotqMY2DXORAHl1DOqOI5af/7IFW87Tl/g52Czqb3OT9mMll0xwI6EG0KVqjEDTpMVs9BX40XOsX2mSPxmSI6Gxz0ZpdULTpg/jL1SRU3OsS9AElrIkI6x51EbmpxTDrQ7cnWMURWOpaQqwF4ZmE6n3lU4awlazqFBEnauCN1OirDMHesboA6rsQO112AiTrYFY1dw8CTOuwGDfjui546x2BfftCTpzr44QrlgyqyOpxEsFqq8bs6MKH2vFp0xToGDeIJaHHQOlaNc3riKNk6tGwqp/M24zod9J4gA0ztOmQtI1maS/Y6BOLy7+LvADsAq6AiCrAJOwXpjlv7cRM7PEq04ztjHTuVDIFZ5iomO+OKcHocsTA7CMeo5s4XOTviJzBm9dNCO7DbEMlRNEw7t/H1JXwWVTsLWc/GanpfO9Uwtw/ac2c7E5KWgzdxcTssOr2RD+Z5O8akUz+LMYM7wxWqjgBmjDu1U+fbyviUO+fQ7JSM6547KXICTOTApjulOWCN2bawOzjbtPc2g7g7ks/JpmHxwTsm391guTjKO9aypTBLINM7nnLRpyXa2zvPqpRVaT7kOzSXwYUrYO07SvXvn5pG9TuxXefwpcP+O3DgmqfvMwY8/KqyUNL9DzwXcJ4N0gEXPKCpZnpDhCA8mTfPGiqsJzz6ZKw2M+8wPFakK1SBLzg8k8YwuIY9QTxOMoJtIIlIPGslVZScbVE8kjHTMCe3WDwF32kNcn5hPDXsoTSduGg8bW+mHaxvcTwfzj+Reo14PAOqhKmaQYE8UNDqJ6g2iDyflVqxNfWQPJBLQXj3tZc8UJVxpRSMoDyQPm9qEg6nPKnfBElgCLA8VI3r12NCtjxH9eOlf9m+PI8md/P5VsU8E0jcZIR4zTwb5R/2Y1DUPIPuDQ+J9Ns8l3lwpowz4zzs3sjwrVTqPCxTcWaTBfI8DoVcKEKg+DykUiB0pcsAPaV4r9aN3gY9vJ1o37EVDz1+WJbYnxYVPYgtGhwWkBw9JD2w2iBPIz1/WBJAhQ8qPbMKEDktjjE9SDzomy+cNz1JostcbbI/PVpcUSxDPUU9kcOZxtxpTD3zXmWZ0vhSPdeue/puSlk9McdrGMjTYD0ccxTIQ1pmPXRpxAvHo209EtVkNNmdcz3oePkyhet5Peo+sHcdGIE9SbrgeuOBhj2bZr4PGJWNPX21Qq8HaJM9iw6sYaZqmT2KGb1sXp2gPSHR8k7/rqU92mHxRLc/rD3b0AkpV16yPe+mmJd82Lc91A1XELvmvj1pueuOqPzDPbM2G7s3z8k9Z8nnSXei0D3nAR2nnWfVPV+6pxV9fts9a7Bcs2+g4T3uyIzntI/mPThpBASU0+w9bMq6TRdi8j3n8nsxuGf3PTV/+dUWv/09+zlgEZneAj4CVhq3tuUHPiV8OpgZNg4+FnLASyUQEz6/JQwaxwMYPpy4mQcBMx4+x2gfvmT0Ij7QtqQkfcAnPu9+XarytS0+qnw2jaeMMj4+MepcBh83PspONt7RxDw+X5oT48rdQT5iNSFS6iZGPmz7Qy3Kaks+XwyaJNjvUD5FSvyWdeNUPhjY/rRzt1k+HqQ2atCaXz41wOpz32JjPm9o5RqpvWc+VexC0LYFbT6gIcVAQbVxPv/lowUuknU+xXC/S/U6ej6aBphI9NZ/Pu7H5W9ISoM+zQlH9i5Vhz7BM7+oNCyMPpWBtC9u+pA+NSKGoX5tlD47Hp8O3IiYPs1XrFBGap0+lp6TfCSaoT5RBfp1dQelPgfbCJA5FKk+ijxuMyLbrT5qySqKdL2xPpacvgNsC7U+vWPzpa/ruD5BRI2iXXW9PlBZ+KZqYcE+c0wWbA15xD6NmekNohLIPlZKIXJ3Qcw+4Cx7P7CN0D4sEguUfFzTPsxzOEr4mtY+egCGMaxY2j7q1j2C/KbePl1h4sKqzOE+PKxrUK2i5D6AXNXMi+HnPgGsEPOZlus+GryF35PQ7z4l1jKp3E/yPvp177v0CvU+gcDkfF8j+D5COBwK1qP7PvoL3y0LmP8+zsxNdlwGAj8XlO/E1ocEPyLqieXrVwc/kLiQHKl+Cj+UV1SOtgQOPwT127qt+RA/w9Y3tkAqEz9zds9NW5kVP7tm9lSXTBg/RYZoHeFJGz80oABpdpceP18UaDvyHSE/oPSLigIfIz/yNRZRfVIlP7hRoHMVvCc/MPG2XJxfKj93TZAn/kAtP5DLlo4eMjA/ad/BPrbmMT+YtvVHVcAzP1es/fsMwTU/3gsJJ+3qNz8/ZZn+/z86Pxs5N7VFwjw/Rr1utq9zPz/ztQjIDStBP0QNo8emtUI/Nb7FjHVaRD90ZrllOhpGP+HBPTSg9Uc/2mOLVDntST+eIrV6fAFMP5dPc47BMk4/omUJR59AUD+B1u9AgnZRP9Au9UT+ulI/HmU5iPINVD8X4MmVJ29VP1mUehxO3lY/Gqwp3/1aWD+osMTMtORZP8PzQEXWels/Y+x9kKocXT/4zbaLXsleP05p4MgBQGA/D9rq0McfYT/sPAvkbgNiP7eOJWVX6mI/eqVUDdXTYz/lx9CIL79kP16YbDejq2U/cidJEGKYZj8CnOunlIRnP8gTZldbb2g/8v/Lgs9XaT/GT7L8BD1qP3UmB4QLHms/+bEdWfD5az/1+WLmv89sP/sd0niHnm0/7EfrA1dlbj9PWKrsQiNvP9d2wtZl128/2tCdN3FAcD8+CbyXco9wPx/X0AlT2HA/UxrGH7UacT8N2pvGQlZxP2HjJwCuinE/tW4jjbG3cT+KRYCFEd1xP6CqMN2b+nE/CUrG0ygQcj9W44tNmx1yP/tAAhXhInI/91byA/Mfcj9c65IT1RRyP/rBjlOWAXI/sqkHyFDmcT+UvAEvKcNxP5Ji761OmHE/k/pgaPplcT/4TCEBbyxxP7r/SAf463A/UzUOUemkcD+JaklGnldwP7nV1Bx5BHA/Hb8eEsRXbz8zvc7JjJxuP/uHxp8v2G0/SIhOlZYLbT9Pj+2gsDdsP2mVTuJvXWs/iEfR28d9aj9p2lm2q5lpP9ZVspMMsmg/9dx/89fHZz/6HXMu9ttmPyHP9QpJ72U/DeIpbqoCZT9F2Zsr6xZkP3l9kvXRLGM/JQFtbxpFYj/AgAdjdGBhP3WDphmDf2A/FQntsLlFXz+RZ3wAFZZdPzD69J4O8Vs/AIt3i4FXWj+UgIpNLcpYPzUpRTe2SVc/XPhL36XWVT/4yhPOa3FUP6N6illeGlM/aZwBqrvRUT+25wzjqpdQP3ta39V62E4/bwJmluCeTD/0uB5KW4JKP9Il7micgkg/eGWCuTWfRj+ez2h0nNdEPwCc+mcsK0M/1mPiFCuZQT/iFre7yiBAPwfg3alagj0/Nd502s7yOj/NA1HCBZE4P9T9jOcCWzY/GhF6eb5OND/EMmfWKWoyP2CGCbczqzA/8LQL+pcfLj8hLdtGzisrP9PocaICdyg//CTEHUL9JT/gWX5Cs7ojP9ZMKhmaqyE/DutZDreYHz/pLngaADMcP3B5x99rHxk/L3PkqKVXFj/c3FC6qdUTP66/vp/GkxE/eM3hSTsZDz/mk5whRXYLP9FV23E1NQg/G/uIBjdNBT+faKTVELYCP+t4QTYhaAA/6uQ21bC4/D5VBjpAZRj5PqWcLQtj4/U+efUyKqsO8z47gTFYLpDwPg3kuCZ+vew+SPs8IAfk6D7TQWiOz4TlPsSQLH0fkuI+BlzSnyj/3z70PqWrDYTbPmKQP7Pkntc+JV/8kLk91D5Q4WsKgFDRPl1SEtjRkc0+L7csWHM0yT5DOcs4TXLFPvyicFRfN8I+nrwYkP7jvj4/LFjbNyW6PhwUFT8LF7Y+ct5CKXahsj7bHZqG6l6vPrWxEJNeXao+fxDufE8epj4+/g/58YWiPtDw351U+J4+4UB8+zXYmT4NCqVVfoeVPkvL5M0f55E+eEnfgc24jT6TflSK1KCIPs+OJDUaX4Q+bgcg9xrSgD4sjWteibp7Ptu63mmS0HY+IE3l8gy9cj6PJqSdB7puPuPCoX/TJWk+kaiaiaGLZD4Mk/1teMFgPstkEg0qSFs+GTtee84rVj5GEuGKZvxRPmFPuvxJIU0+Lv0C5j+MRz4I6X9/cwBDPqjzUiHNnD4+6WYnYYidOD4055AtFcIzPgPgg0CnqS8+ZpVC9j5TKT53LyICazgkPhVW8ma1HSA+XAOZMO6kGT7MBjGm6l0UPjtBAVyeJRA+Pyz/OruOCT4FaQcXzjAEPh10gENd2P89KvGAFbMR+T3jgZE/N7PzPdzFkxc36O49PqI1ebUz6D1yioAvBeviPQLdwNbyhd09MEzguP/+1j1iiLGbX+HRPfoKQBGbwcs9c+LEUmSBxT1A2gw7BaLAPe7sNyzorrk9FNymikTLsz2TQ8Z833SuPSiMpWnUY6c9IN+lHWfuoT04DnSLx3GbPUN9RoIc95Q9/WRblpL5jz3WhHniB1eIPSUlUeHQfoI9Yd9G3gsPfD0vehwo+D51PYuooOUWD3A9EqOfcNM7aD0LTWBFqkBiPew04xxjcls93ovXEomZVD2PxBcK8t1OPel/Zxe+FUc9XawG5v87QT3CKctaC7A5PUMWqqEcHDM97xHNjephLD1rmHzVQAolPV4KM7KZIx89tJ5m0IYAFz35ZvNnGvYQPSIWLXRI+Ag9b3OkeO5YAj3y7bdiP+r6PH0ot/v1tPM85vuZ6a3O7DxvawQSmgTlPBX1F5+Pnd48CbliwiRC1jwWiscUaCfQPAqxYWPpZ8c8mdd/HkPtwDzQ4Bk2b3C4POiZXkGYnLE8d7SIepxWqTxnGfzx+DGiPG3knifgFZo8sSFCS2WqkjxUdUJsWKqKPODBoKtlA4M8e9aTNPQQezwK1ec3IDtzPF0Hch+OR2s8e7fpPWlQYzwLrkiZ/0xbPKW5VKzNQlM8Oj2cLishSzzYzgUdlxJDPGZK/pT9xDo8zMUaP8nAMjz84GhdZToqPBmuPsEYTyI8UKMluEGEGTwaZ9Qt3L8RPK17ACFJpgg8FPKsdPcVATw1wbcr6aT3O9oPWRzDVPA7D9aO9iCF5juyunCI4P/eO/dHNv9XTNU79W9Ue9U2zTudTUEyMwDEOwY2ABp1Vrs7UVpaDmqmsjsS6VU0zGapOww+eZudRKE7vPsBfqxvlzs6j7aMZcCPO3b15W96eIU7fyVX22L8fDvpvvuOAohzO+C71jtSRmo7WPMhQVekYTs+xitCOKZXO6LkyLJvpU87gpQ2WuIiRTulPu8PAi88O4nhaEzXwTI7kb9Qy0zsKDs1dSM5VIcgO0GIPdpo4hU7kStHr6nsDDuGVxjFsxQDO+r/c8JKIfk6MA8G3u6E8DqX6T2c+K3lOuwhJEPQZtw6ICKGzTOS0joUKzzTUz7IOmfcFaSul786KY02VF2MtDrB+PVhxq6qOpEhrEIsS6E6+O4D/I5gljpbbEHNZueMOqiP2INZooI6Xzc0Ifj7dzqlX1iO3dBuOqrfc8cBw2M6D5F9EhFNWTpyMmce/CpQOmnWvHt1oEQ69t4UtNZEOjqTbA7/lrIwOpScrvGeMCU6urRv4uXXGjr1DWpR9/gQOgv+ITLFbAU6pGPahFn/+jkqEKPQzPrwORHU6AkRUuU5u8DPwVO52jnYojFCAbjQOeEQ0/nF4cQ5KjOreiMJujnjvYk0ujOwOSPrNtUoIaQ5DT1z9gH3mDnFkWMoNOiOOW8i6tQWGYM5Ex8X+G+PdzlVlZPejgNtOe1UuXxY1WE5lAenzkPiVTnkNUipjs5KOddFTrbCY0A5OsG81IEBNDnJqyYXeGAoOQXaERR6ph05mak8Th0AEjmotiDNNtEFOZPwFMSKZfo4kvDJXYDh7zjklY0L3zfjOEJlfHsQIdc4t9twdGrJyzjSlk1xZKnAOACNKjNA8rM4uO66pBPWpzgBC6phO2+cOPzUEK4R7pA4itOwjOkfhDgRPCG4ROF3OP6epng0SWw44RSnhw25YDgMeNwkCr1TOHik5Au0QUc4IagJ0oNaOzhbZclYxQ4wOHZrNx/e0SI42QJl954EFjgSe6NI3rYJOKnpWd1j+v03UKSVyIxx8TddXYhzn0PkN6LJybXPf9c39dyY3OUzyzdtmpRyKm+/N0yGW4JCIbI31ddb403gpDfwgqfu+f6XN3bR3wSJiIs3X9ols02JfzeDNrx1XQdyN30oQvG5k2Q38/DZq61xVzf7Id4C0alKN5d1svlpRT43HEl8FTknMTe1uSLszWcjNzVKnvUq6hU3rek7XGe0CDd/9EOp+sz7NoPI2py8Ou82FtYFDXKC4TYLT0iGgpnTNg+NCJeG5sU2oQaRyJ9tuDZz+apsFzOrNpvWlgRbO542Jqgw9HvFkDaBm6USS5OCNurGxkV5iXQ22vvP8muqZjaq46eqi/hYNtpFs+o/dks2PFurcOolPjZ6tdcR8YQwNvTBMss2EiI2d87Zk967EzYnJbNk8oIFNkAE+7pqaPc1dfFAMCtt6TXIif/1/pHbNYRFQDyV1801vvLTxT4fwDUj2xMOkmOxNVoXMBnnuKI1AjM+R0sflDUF8Pf7tJaFNTreAfkBH3c1c/vA0vW3aDUGkgOGOGFaNc6nyTRVGkw1mfZpELniPTWSKil3srkvNZ8IjCU4zyA1sXTZwwDIETV2VKONqsYCNZhhSQSdyvM0yNk66i/T5DSmhlmhq9/VNDHcBbJJ78Y0YAd8ezUBuDSiF6wNjRSpNICHMyxiKJo0I9eUebs7izTtsD3JlU18NEV0XpblXG00uPgJnZhoXjQAoYuSl29PNC24r/xjOEA0ppVeBoe1MDSoDpxfpy4hNK3GyOM4oxE01BZE27ESAjSwUBUIjHzyM/LUgLFF4OIzHUSkq2I90zNt/C9YbZPDM+T3WZ334bMz+x820JsopDMCZLuP/WaUM2zX4Y3KnIQz+Lh1RLvJdDPclXOTk+1kM6oXA0cjCFUzlrpug0YZRTPhJMYV5iA1M0VSLaj3HiUzOLMz2X0TFTPmRek1iP4EM86TxBYz4PQyOlvIX6e45DKWJrIkGojUMiYwUjLMTsQyAPB/fgkNtDLVEmuAKMOjMuTOTnOJcZMyuiHLhZUYgzIUnFz4vbhyMjmFli17UmIyv2bkrkvmUTJthq4os3RBMvcRyWA5/jAy5dgWKmmDIDLtiD9YzwQQMjZcjGzzBf8xj4dgBez87TGKW5Dnoe/cMWinsYwq38sx8lgXspXMujFcP7Gs67ipMRvBb90rpZgxyNIGSUuShzGHLGFVM4F2MbVkh67AcmUxsuYxVMJnVDG6ybDQ+GBDMTJVTZkVXzIxmhzHl7piITE9CRXceWwQMVJEQuqq+f4w25qf3X4o7TDLpY/mM2bbMHtfQxpvs8kwvtXED7cQuDA3GeLXdH6mMEE7Gyb1/JQwqOlqpGmMgzAgh6Nr6ixyMNASFZp33mAwl4aBBPZBTzBmWwnXk+g8MOrJwr1NsCow6PyH9IaYGDAqAiqKhKAGMBM8XgJxx/QvoKSX518M4y8xRM1EUW7RL+XOOgBq2L8vFyFhINwJrS8eUWYOq26aL0sSXd56BIgvfT3p6ObIdS99Eme3hrljL8tBOITy01EvzjKcTccVQC8wEdL1VPksL5rXkCqaDBovjzqKLN1gBy8k2/WevvH0LsrUNN8Eu+Iu4RtYU5+40C4LVlYQUs29LrmYYFXVgqouHyxG07eKly45Yv+XSN6ELnwYgBM3d3Iu7oX/55JPYC7WKSrmlcNMLhiTElJXUTku+0Sdtbk+Ji4NTeb7vYITLhzAFxkQFQEuSvykRgDc7S2ff2LV9QzaLeNDcWYEsMYt8A6EYEm5sy02CFG76x2hLRBuET8XqI0trhtyQGSleS257MBmgiNmLeH4bBPIE1MtrjeVwP9oQC39ZVOGlS4sLav92psKKBgt/RvfnVerBC3RmwFzg6fxLAxUyh/nGt4s3Hv26X6fySzpljxODsW1LDHPVzWZdqIsRr3FBUBDjyxpCqiWu2t6LHQ7rN0XSmYsPRZFuFXFUizTOnXjPo8/LPtpOKTaeyosWXnCs2UvFizGWRwtKI0CLGYTV/OJ+O4rNgPK2oLO2SuiJx1eM3fFK4lvobTB0rErf1TJU6+LnSsrgY52F3KIK3SwPKO3MHQrwkl/um+lYCshuKXjamZLK5V+n1i/gjYrjTK4ThF2IiuiqqjZEToOK0cOZgSms/gqvwcjs6Mm5CrCkTc21GjQKpJOWFOhrboq0DdOavClpSpw9gIGGImRKj6VKz6wW3wqJ0Il98HjZir94cp7bnFSKlq11m8Kqz0qhjB0SwXSJypGzAqhbBcTKg9nuZl7jP4ptfR059Fl6CnhqcR6aHPTKdvvYdyH9b4p1EIxvz2YqCkQWVEzD4GTKRjou7E64X4pTagHg+ZmaCnLpWxbuz9TKSy8kiGKUD4pjkU7dyHUJylAxAnmgbISKbQdW3JDSv0opZl6oczm5igIBqVz9N/RKH1tj3KD2rsoYzoDacappShOQbqln9GQKLKkvhXJEXoo8MYCZRorZCjJ24POpiZPKM0asrO7AzgoTWatqvl6IigUWG3DkGQMKNHZJljFxfUnXSpbfpmq4Cf7kAQecXjJJ9GuO2mkbbMn5guMuSiWnSdcuBOFAX2GJ+stfFQWEHEnhQts6c3YWSeQCE2hvIpDJ4msT+pufy0nbJkv4zo5Fiez6el8rrYAJ7FymSVYGOkmT4fAsHzO0iZW4Rm7VSO8JsvEmCA5A6UmNbo7VuFTjybU4NT82093JtnsqzgKUWEmcY8rVEOuSSYtqNlTQQIzJpXdPdBCFxwmR5xbBiy4BCbaExLxvoLuJVzZ3+vDbNYltXij3ulzwCV2jjt2hRmoJeL2iCKDnpElnF4Ndpa3eSU=",
          "dtype": "f8"
         }
        },
        {
         "line": {
          "color": "#30123b",
          "width": 2
         },
         "mode": "lines",
         "name": "2365 ± 383",
         "type": "scatter",
         "x": {
          "bdata": "rjRyWA0Bk0CWJx6a4F2TQH4aytuzupNAZw12HYcXlEBPACJfWnSUQDfzzaAt0ZRAH+Z54gAulUAH2SUk1IqVQPDL0WWn55VA2L59p3pElkDAsSnpTaGWQKik1Soh/pZAkJeBbPRal0B5ii2ux7eXQGF92e+aFJhASXCFMW5xmEAxYzFzQc6YQBpW3bQUK5lAAkmJ9ueHmUDqOzU4u+SZQNIu4XmOQZpAuiGNu2GemkCiFDn9NPuaQIoH5T4IWJtAc/qQgNu0m0Bb7TzCrhGcQETg6AOCbpxALNOURVXLnEAUxkCHKCidQPy47Mj7hJ1A5KuYCs/hnUDMnkRMoj6eQLSR8I11m55AnIScz0j4nkCFd0gRHFWfQG1q9FLvsZ9Aqy5QSmEHoEAfKCbryjWgQJMh/Is0ZKBABxvSLJ6SoEB7FKjNB8GgQO8Nfm5x76BAYwdUD9sdoUDXACqwREyhQEz6/1CueqFAwPPV8RepoUA07auSgdehQKjmgTPrBaJAHOBX1FQ0okCQ2S11vmKiQATTAxYokaJAeMzZtpG/okDsxa9X++2iQGC/hfhkHKNA1Lhbmc5Ko0BIsjE6OHmjQLyrB9uhp6NAMaXdewvWo0ClnrMcdQSkQBmYib3eMqRAjZFfXkhhpEABizX/sY+kQHaEC6AbvqRA6n3hQIXspEBed7fh7hqlQNJwjYJYSaVARmpjI8J3pUC6YznEK6alQC5dD2WV1KVAolblBf8CpkAWULumaDGmQIpJkUfSX6ZA/kJn6DuOpkByPD2JpbymQOY1EyoP66ZAWi/pyngZp0DOKL9r4kenQEMilQxMdqdAtxtrrbWkp0ArFUFOH9OnQJ8OF++IAahAEwjtj/IvqECIAcMwXF6oQPz6mNHFjKhAcPRuci+7qEDk7UQTmemoQFjnGrQCGKlAzODwVGxGqUBA2sb11XSpQLTTnJY/o6lAKM1yN6nRqUCcxkjYEgCqQBDAHnl8LqpAhLn0GeZcqkD5ssq6T4uqQG2soFu5uapA4aV2/CLoqkBVn0ydjBarQMmYIj72RKtAPZL43l9zq0A=",
          "dtype": "f8"
         },
         "y": {
          "bdata": "/XW5euhF6D7fPAwXQw/tPkwISF/MVPE+pSbaKNaY9D5+wGrYb2P4Pi9dhcSYxfw+GhXTV8voAD/8yirtcs0DP7uGAAsQGwc/3Ciu7mzcCj8bG0ZJuhwPPyOBpUq58xE/oitJsBukFD9wPvYzVKUXP5gJMkQa/Ro/bczuWvKwHj+7XvpVCGMhP9CcrqicoCM/CPqHLk8TJj+GSmMp3rwoP4cqMdWanis/osuoCle5Lj9VW5GWqQYxP0hX2GsWzTI/ovTOYmevND8VRtY7saw2P5xQkQyiwzg/nqLOknzyOj8ncC0lFTc9PxPZhXnQjj8/WO7LOFL7QD8kMW6KjTVCP2ujVukrdEM/51tIjQ+1RD87rM0k8PVFP7z+/O1gNEc/o2uf4NdtSD+r/8XQtZ9JP69z2mhPx0o/YpvB0vbhSz/xHAHhBe1MP9r/SoPo5U0/zS+VTSfKTj8CJyzWcZdPPw+RElfUJVA/f80mXHNyUD/Mtp3SxLBQP1ojta8c4FA/fhojHPf/UD+xQDvX+g9RP7FAO9f6D1E/fhojHPf/UD9aI7WvHOBQP8y2ndLEsFA/f80mXHNyUD8PkRJX1CVQPwYnLNZxl08/zS+VTSfKTj/a/0qD6OVNP/EcAeEF7Uw/YpvB0vbhSz+vc9poT8dKP6b/xdC1n0k/m2uf4NdtSD+4/vztYDRHPzeszSTw9UU/51tIjQ+1RD9ro1bpK3RDPyQxboqNNUI/WO7LOFL7QD8T2YV50I4/PydwLSUVNz0/nqLOknzyOj+cUJEMosM4PxlG1juxrDY/qfTOYmevND9RV9hrFs0yP1VbkZapBjE/osuoCle5Lj+HKjHVmp4rP4ZKYynevCg/CPqHLk8TJj/AnK6onKAjP7Ze+lUIYyE/ZczuWvKwHj+OCTJEGv0aP2U+9jNUpRc/oitJsBukFD8jgaVKufMRPxsbRkm6HA8/3Ciu7mzcCj+7hgALEBsHPwTLKu1yzQM/IRXTV8voAD8lXYXEmMX8PnTAathvY/g+lybaKNaY9D5MCEhfzFTxPt88DBdDD+0+/XW5euhF6D4=",
          "dtype": "f8"
         }
        },
        {
         "line": {
          "color": "#4145ab",
          "width": 2
         },
         "mode": "lines",
         "name": "2420 ± 605",
         "type": "scatter",
         "x": {
          "bdata": "WMJOBnjggkDZMtXB/AWEQFqjW32BK4VA2xPiOAZRhkBchGj0inaHQN307q8PnIhAXmV1a5TBiUDf1fsmGeeKQGBGguKdDIxA4bYIniIyjUBiJ49Zp1eOQOOXFRUsfY9AMgROaFhRkEByPBHGGuSQQLN01CPddpFA9KyXgZ8JkkA05VrfYZySQHQdHj0kL5NAtVXhmubBk0D2jaT4qFSUQDbGZ1Zr55RAdv4qtC16lUC3Nu4R8AyWQPhusW+yn5ZAOKd0zXQyl0B43zcrN8WXQLkX+4j5V5hA+k++5rvqmEA6iIFEfn2ZQHrARKJAEJpAu/gHAAOjmkD8MMtdxTWbQDxpjruHyJtAfKFRGUpbnEC92RR3DO6cQP4R2NTOgJ1APkqbMpETnkB+gl6QU6aeQL+6Ie4VOZ9AAPPkS9jLn0CgFdRUTS+gQMCxtYOueKBA4E2Xsg/CoEAB6njhcAuhQCGGWhDSVKFAQSI8PzOeoUBivh1ulOehQIJa/5z1MKJAovbgy1Z6okDCksL6t8OiQOIupCkZDaNAA8uFWHpWo0AjZ2eH25+jQEMDSbY86aNAZJ8q5Z0ypECEOwwU/3ukQKTX7UJgxaRAxHPPccEOpUDkD7GgIlilQAWsks+DoaVAJUh0/uTqpUBF5FUtRjSmQGaAN1ynfaZAhhwZiwjHpkCmuPq5aRCnQMZU3OjKWadA5vC9Fyyjp0AHjZ9GjeynQCcpgXXuNahAR8VipE9/qEBoYUTTsMioQIj9JQISEqlAqJkHMXNbqUDINelf1KSpQOjRyo417qlACW6svZY3qkApCo7s94CqQEmmbxtZyqpAakJRSroTq0CK3jJ5G12rQKp6FKh8pqtAyhb21t3vq0DqstcFPzmsQAtPuTSggqxAK+uaYwHMrEBLh3ySYhWtQGwjXsHDXq1AjL8/8CSorUCsWyEfhvGtQMz3Ak7nOq5A7JPkfEiErkANMMarqc2uQC3Mp9oKF69ATWiJCWxgr0BuBGs4zamvQI6gTGcu869AVx4Xy0cesEBn7Idi+EKwQHe6+PmoZ7BAh4hpkVmMsEA=",
          "dtype": "f8"
         },
         "y": {
          "bdata": "3b3W/pe03j4zLtFOVWHiPkCHU8OM7OU+fYHvYSMO6j5UFOiX8tnuPnuIRmu9MvI+OD3Ivexj9T6d9j5V2gz5Pkz3SOKNOv0++7RK0Fb9AD+/RfKysK0DP+AljS+XtQY/J3Gnk2UcCj/wPq0GdukNP906LOMBEhE/BgGAzYRpEz/H1oJgjv4VPzrSHFMi1Bg/52C1/ufsGz/mGEHnE0sfP1ieU1MoeCE/Ih/O2NNuIz/EZsc9tYklP5fVP0aOyCc/lYjrkq8qKj8vPumM764sP2l0rL2iUy8/vkpW8koLMT8EozkMhXoyP3NF9ZzZ9TM/yrqke1x7NT9IZ+NH3Qg3P8ExPr3qmzg/j6f3gNcxOj8KyHRpwMc7P3FznDSUWj0/CMgKmBznPj8LbMRFBDVAPyQQDdL770A/pTNAJsOiQT/0pNdPrUtCP7RNUNEY6UI/e3fPSnZ5Qz+gR9YIT/tDP1XRrVJLbUQ/kVqrUjjORD/3zgR0DR1FPyFdoxTxWEU/aKolbTyBRT/sZvmVfpVFP+xm+ZV+lUU/aKolbTyBRT8hXaMU8VhFP/bOBHQNHUU/kFqrUjjORD9U0a1SS21EP59H1ghP+0M/e3fPSnZ5Qz+0TVDRGOlCP/Kk10+tS0I/ozNAJsOiQT8iEA3S++9APwhsxEUENUA/BcgKmBznPj9sc5w0lFo9PwfIdGnAxzs/j6f3gNcxOj+7MT696ps4P0Jn40fdCDc/x7qke1x7NT9vRfWc2fUzP/2iOQyFejI/uUpW8koLMT9kdKy9olMvPy8+6Yzvriw/jIjrkq8qKj+P1T9GjsgnP8Bmxz21iSU/GR/O2NNuIz9RnlNTKHghP9oYQecTSx8/4mC1/ufsGz860hxTItQYP7zWgmCO/hU/AQGAzYRpEz/XOizjARIRP+I+rQZ26Q0/F3Gnk2UcCj/TJY0vl7UGP7tF8rKwrQM/+7RK0Fb9AD8490jijTr9Ppj2PlXaDPk+Mz3Ivexj9T52iEZrvTLyPkIU6Jfy2e4+aYHvYSMO6j47h1PDjOzlPjMu0U5VYeI+3b3W/pe03j4=",
          "dtype": "f8"
         }
        },
        {
         "line": {
          "color": "#4675ed",
          "width": 2
         },
         "mode": "lines",
         "name": "1872 ± 359",
         "type": "scatter",
         "x": {
          "bdata": "wDdoyWrXiEBcW/AadoWJQPh+eGyBM4pAlKIAvozhikAvxogPmI+LQMvpEGGjPYxAZw2Zsq7rjEADMSEEupmNQJ9UqVXFR45AOngxp9D1jkDWm7n426OPQLnfIKXzKJBAh/HkTfl/kEBVA6n2/taQQCMVbZ8ELpFA8SYxSAqFkUC/OPXwD9yRQI1KuZkVM5JAWlx9QhuKkkAobkHrIOGSQPZ/BZQmOJNAxJHJPCyPk0CSo43lMeaTQGC1UY43PZRALscVNz2UlED82NnfQuuUQMrqnYhIQpVAmPxhMU6ZlUBmDibaU/CVQDQg6oJZR5ZAAjKuK1+elkDQQ3LUZPWWQJ5VNn1qTJdAbGf6JXCjl0A6eb7OdfqXQAiLgnd7UZhA1ZxGIIGomECjrgrJhv+YQHHAznGMVplAP9KSGpKtmUAN5FbDlwSaQNv1GmydW5pAqAffFKOymkB2GaO9qAmbQEQrZ2auYJtAEj0rD7S3m0DgTu+3uQ6cQK5gs2C/ZZxAfHJ3CcW8nEBKhDuyyhOdQBiW/1rQap1A5qfDA9bBnUC0uYes2xieQILLS1Xhb55AUN0P/ubGnkAe79Om7B2fQOwAmE/ydJ9AuhJc+PfLn0BEEpDQfhGgQCob8qQBPaBAEiRUeYRooED4LLZNB5SgQOA1GCKKv6BAxj569gzroECuR9zKjxahQJRQPp8SQqFAfFmgc5VtoUBiYgJIGJmhQEprZBybxKFAMHTG8B3woUAYfSjFoBuiQP6FipkjR6JA5Y7sbaZyokDMl05CKZ6iQLOgsBasyaJAmqkS6y71okCBsnS/sSCjQGi71pM0TKNAT8Q4aLd3o0A2zZo8OqOjQB3W/BC9zqNABN9e5T/6o0Dr58C5wiWkQNLwIo5FUaRAuPmEYsh8pECgAuc2S6ikQIYLSQvO06RAbhSr31D/pEBUHQ200yqlQDwmb4hWVqVAIi/RXNmBpUAKODMxXK2lQPBAlQXf2KVA2En32WEEpkC+Ulmu5C+mQKVbu4JnW6ZAjGQdV+qGpkBzbX8rbbKmQFp24f/v3aZAQX9D1HIJp0A=",
          "dtype": "f8"
         },
         "y": {
          "bdata": "ExJBK0nk6T5pRatmWv/uPltP6iSrfPI+M3g8WnX49T4vZZyiyAP6PvoSbIDGsP4+CK8/U3YJAj8U9CP9gR8FP34Ck/6CpQg/hdh0yPumDD8xLDYK7pcQPx3FmSgxJhM/1Xr1TXsEFj8mu9WQ/zgZPz/BtvbWyRw/M61PFXJeID9iJ4Mb2osiP1ugfUmu7yQ/ThMweCuMJz9gf76rLWMqP0GeMJ0cdi0/YzrREexiMD9m7892UikyP9H7PgMNDjQ/PqkS1ocQNj8I6qD/xy84PxT70wxlajo/peg/CoS+PD9MoIpA1Ck/PyNc9fLG1EA/xFE+fDkdQj9biXA1aWxDPzr0FOBGwEQ/D8vmkpAWRj9SO0EF12xHP1ft+A+EwEg/XkrSUeIOSj/9kPfcJVVLP2r0SMp1kEw/oSRrh/a9TT/nfWKt1NpOP+k2mydQ5E8/vhBdt+NrUD/iKNZLYdlQP2yxJ/t+OVE/MuToCTqLUT+xp81ds81RP9AsEHMzAFI/gZWtpy0iUj92jkzHQjNSP3aOTMdCM1I/gZWtpy0iUj/QLBBzMwBSP7GnzV2zzVE/MuToCTqLUT9ssSf7fjlRP+Io1kth2VA/vhBdt+NrUD/mNpsnUORPP+t9Yq3U2k4/niRrh/a9TT9t9EjKdZBMP/mQ99wlVUs/YkrSUeIOSj9Q7fgPhMBIP1I7QQXXbEc/BsvmkpAWRj869BTgRsBEP1OJcDVpbEM/xFE+fDkdQj8cXPXyxtRAP0ygikDUKT8/peg/CoS+PD8U+9MMZWo6PwjqoP/HLzg/PqkS1ocQNj/R+z4DDQ40P2bvz3ZSKTI/YzrREexiMD9BnjCdHHYtP2B/vqstYyo/ThMweCuMJz9ToH1Jru8kP1kngxvaiyI/O61PFXJeID81wbb21skcPyu71ZD/OBk/x3r1TXsEFj8qxZkoMSYTPy4sNgrulxA/jNh0yPumDD9tApP+gqUIPxz0I/2BHwU//a4/U3YJAj8FE2yAxrD+Pi9lnKLIA/o+M3g8WnX49T5bT+okq3zyPmlFq2Za/+4+ExJBK0nk6T4=",
          "dtype": "f8"
         }
        },
        {
         "line": {
          "color": "#39a2fc",
          "width": 2
         },
         "mode": "lines",
         "name": "2010 ± 389",
         "type": "scatter",
         "x": {
          "bdata": "VOg8tuFVikAS0juNdBKLQNC7OmQHz4tAjqU5O5qLjEBMjzgSLUiNQAp5N+m/BI5AyGI2wFLBjkCHTDWX5X2PQCIbGjc8HZBAAZCZooV7kEDgBBkOz9mQQMB5mHkYOJFAnu4X5WGWkUB+Y5dQq/SRQF3YFrz0UpJAPE2WJz6xkkAbwhWThw+TQPo2lf7QbZNA2asUahrMk0C4IJTVYyqUQJeVE0GtiJRAdgqTrPbmlEBVfxIYQEWVQDT0kYOJo5VAE2kR79IBlkDy3ZBaHGCWQNFSEMZlvpZAsMePMa8cl0CQPA+d+HqXQG6xjghC2ZdATiYOdIs3mEAsm43f1JWYQAwQDUse9JhA6oSMtmdSmUDK+QsisbCZQKhui436DppAiOMK+UNtmkBmWIpkjcuaQEbNCdDWKZtAJUKJOyCIm0AEtwinaeabQOMriBKzRJxAwqAHfvyinEChFYfpRQGdQICKBlWPX51AX/+FwNi9nUA+dAUsIhyeQB3phJdrep5A/F0EA7XYnkDb0oNu/jafQLpHA9pHlZ9AmbyCRZHzn0C8GIFY7SigQCzTQA4SWKBAnI0AxDaHoEALSMB5W7agQHoCgC+A5aBA6rw/5aQUoUBad/+ayUOhQMkxv1DucqFAOOx+BhOioUCopj68N9GhQBhh/nFcAKJAhxu+J4EvokD21X3dpV6iQGaQPZPKjaJA1kr9SO+8okBFBb3+E+yiQLS/fLQ4G6NAJHo8al1Ko0CUNPwfgnmjQAPvu9WmqKNAcql7i8vXo0DiYztB8AakQFIe+/YUNqRAwti6rDllpEAxk3piXpSkQKBNOhiDw6RAEAj6zafypECAwrmDzCGlQO98eTnxUKVAXjc57xWApUDO8fikOq+lQD6suFpf3qVArWZ4EIQNpkAcITjGqDymQIzb93vNa6ZA/JW3MfKapkBrUHfnFsqmQNsKN507+aZASsX2UmAop0C6f7YIhVenQCk6dr6phqdAmfQ1dM61p0AIr/Up8+SnQHhptd8XFKhA5yN1lTxDqEBX3jRLYXKoQMaY9ACGoahANlO0tqrQqEA=",
          "dtype": "f8"
         },
         "y": {
          "bdata": "638OfpXl5z4Mxf928ZvsPrXI/pUFEPE+wH97rRlH9D75VoKtpwL4PryC+HhrU/w+RUmsJ7GlAD9cSAKP3X4DP2G2BPtevwY/lQKC19RxCj/1Q3BtQ6EOPyTpMtV7rBE/V48dejJSFD/AcHxzfkcXP1GaaoAAkho/ZYWlNSc3Hj/9eicQCR4hP28zWji5UiM/IbA5ybS7JT/tnroZs1ooP8LpiSsAMSs/jPGflmo/Lj9qv2jfGMMwPy5202J6gjI/pwBcWVFdND+kFvAotlI2P9mbKiRcYTg/q67L74yHOj+mZYJ/JcM8P/WHMeGUET8/1h85g+63QD/U/ErZSu1BP4U2+NP4JkM/46f/EONiRD87sLNNyp5FP7hhjWdL2EY/i4fkaeYMSD8ffzyQBjpJP3VmtRwLXUo/1ETY2lBzSz+MfGogPHpMPzffexhDb00/kRy3IPhPTj/LH1D+ExpPP+5A5a5/y08/21UvzS4xUD9AgKn2iG5QP2032PMknVA/fJKi+IC8UD951YsmRcxQP3nViyZFzFA/fJKi+IC8UD9tN9jzJJ1QP0CAqfaIblA/2lUvzS4xUD/uQOWuf8tPP8wfUP4TGk8/kRy3IPhPTj8133sYQ29NP4x8aiA8ekw/2ETY2lBzSz91ZrUcC11KPx9/PJAGOkk/i4fkaeYMSD+/YY1nS9hGPzuws03KnkU/46f/EONiRD+FNvjT+CZDP9v8StlK7UE/1h85g+63QD/1hzHhlBE/P6Zlgn8lwzw/uK7L74yHOj/gmyokXGE4P6QW8Ci2UjY/ogBcWVFdND8udtNieoIyP26/aN8YwzA/jPGflmo/Lj+96YkrADErP+2euhmzWig/KbA5ybS7JT9vM1o4uVIjP/h6JxAJHiE/ZYWlNSc3Hj9YmmqAAJIaP8BwfHN+Rxc/V48dejJSFD8k6TLVe6wRP/VDcG1DoQ4/pgKC19RxCj9htgT7Xr8GP1xIAo/dfgM/RUmsJ7GlAD/Ggvh4a1P8PvlWgq2nAvg+x397rRlH9D61yP6VBRDxPhTF/3bxm+w+638OfpXl5z4=",
          "dtype": "f8"
         }
        },
        {
         "line": {
          "color": "#1bcfd4",
          "width": 2
         },
         "mode": "lines",
         "name": "1908 ± 410",
         "type": "scatter",
         "x": {
          "bdata": "Zv6OU10phUA2yqTuU/CFQAaWuolKt4ZA1mHQJEF+h0ClLea/N0WIQHX5+1ouDIlARcUR9iTTiUAVkSeRG5qKQOVcPSwSYYtAtChTxwgojECE9Ghi/+6MQFTAfv31tY1AJIyUmOx8jkD0V6oz40OPQOIRYOdsBZBAyvfqNOhokECy3XWCY8yQQJrDANDeL5FAgqmLHVqTkUBqjxZr1faRQFJ1obhQWpJAOlssBsy9kkAiQbdTRyGTQAknQqHChJNA8QzN7j3ok0DZ8lc8uUuUQMHY4ok0r5RAqb5t168SlUCRpPgkK3aVQHiKg3Km2ZVAYHAOwCE9lkBIVpkNnaCWQDA8JFsYBJdAGCKvqJNnl0AACDr2DsuXQOjtxEOKLphA0NNPkQWSmEC4udregPWYQKCfZSz8WJlAiIXweXe8mUBwa3vH8h+aQFhRBhVug5pAQDeRYunmmkAoHRywZEqbQBADp/3frZtA9+gxS1sRnEDfzryY1nScQMe0R+ZR2JxAr5rSM807nUCXgF2BSJ+dQH9m6M7DAp5AZ0xzHD9mnkBPMv5pusmeQDcYibc1LZ9AH/4TBbGQn0AH5J5SLPSfQPjkFNDTK6BA7FfadpFdoEDfyp8dT4+gQNM9ZcQMwaBAx7Aqa8ryoEC7I/ARiCShQK+WtbhFVqFAowl7XwOIoUCXfEAGwbmhQIvvBa1+66FAf2LLUzwdokBz1ZD6+U6iQGdIVqG3gKJAW7sbSHWyokBPLuHuMuSiQEKhppXwFaNANhRsPK5Ho0AqhzHja3mjQB769okpq6NAEm28MOfco0AG4IHXpA6kQPpSR35iQKRA7sUMJSBypEDiONLL3aOkQNarl3Kb1aRAyh5dGVkHpUC+kSLAFjmlQLIE6GbUaqVApnetDZKcpUCa6nK0T86lQI5dOFsNAKZAgtD9AcsxpkB2Q8OoiGOmQGq2iE9GlaZAXilO9gPHpkBSnBOdwfimQEYP2UN/KqdAOoKe6jxcp0Au9WOR+o2nQCJoKTi4v6dAFtvu3nXxp0AKTrSFMyOoQP7AeSzxVKhA8jM/066GqEA=",
          "dtype": "f8"
         },
         "y": {
          "bdata": "4CU+4CCm5j7UT8cWfh3rPkHp7VTtK/A+N7OraAY48z5C16RvrsH2Pu9XOZnB2Po+MgJeqUyO/z6Wo8kNP3oCP7guW3BHjwU/Poqj5lAQCT/N461zzAcNP2TWBfo3wBA/rdol3YpCEz9YlIozSxAWPyxgO4DOLhk/eVqAujqjHD8tRkB5NTkgP8oBc89oUCI/EjrKeSyZJD/HAhXeIBUnP4NXsqeAxSk/Q7HVpA+rLD/HMuzpCcYvP2KXudMJizE/CikOExVNMz//gfYwSyg1P54FU99wGzc/VpXkpuYkOT8N9lsMpkI7PyqyvWtAcj0/Svpet9+wPz9Tql6fpP1AP5oBSkvxJkI/q4eHV1xSQz+zt5CLxH1EP6WSmK7mpkU/q5L4NmTLRj8t2mzhyuhHPxHHYBGd/Eg/TG+W1FoESj+cokBei/1KP2hBd8jG5Us/09b55r+6TD/I+avzTXpNP0ACPtx1Ik4/65Mh+XKxTj/E8UP4viVPPwXgB8oYfk8/AieGZIq5Tz//dg84bddPPwB3Dzht108/BCeGZIq5Tz8H4AfKGH5PP8bxQ/i+JU8/7pMh+XKxTj9AAj7cdSJOP8j5q/NNek0/09b55r+6TD9tQXfIxuVLP6GiQF6L/Uo/UW+W1FoESj8Wx2ARnfxIPzPabOHK6Ec/sJL4NmTLRj+rkpiu5qZFP7i3kIvEfUQ/sIeHV1xSQz+hAUpL8SZCP1iqXp+k/UA/Vvpet9+wPz80sr1rQHI9Px/2WwymQjs/ZZXkpuYkOT+uBVPfcBs3Pw2C9jBLKDU/GSkOExVNMz9wl7nTCYsxP9cy7OkJxi8/UrHVpA+rLD+RV7KngMUpP9UCFd4gFSc/HzrKeSyZJD/UAXPPaFAiPzRGQHk1OSA/iFqAujqjHD84YDuAzi4ZP2eUijNLEBY/vtol3YpCEz9v1gX6N8AQP+DjrXPMBw0/TYqj5lAQCT/KLltwR48FP6ajyQ0/egI/RgJeqUyO/z4DWDmZwdj6PlTXpG+uwfY+PbOraAY48z5N6e1U7SvwPttPxxZ+Hes+5iU+4CCm5j4=",
          "dtype": "f8"
         }
        },
        {
         "line": {
          "color": "#24eca6",
          "width": 2
         },
         "mode": "lines",
         "name": "2351 ± 480",
         "type": "scatter",
         "x": {
          "bdata": "ChfMPQuBjEB3055Zm2mNQOSPcXUrUo5AUUxEkbs6j0BfhIvWpRGQQJXidOTthZBAzEBe8jX6kEACn0cAfm6RQDn9MA7G4pFAb1saHA5XkkCmuQMqVsuSQNwX7TeeP5NAEnbWReazk0BJ1L9TLiiUQIAyqWF2nJRAtpCSb74QlUDs7nt9BoWVQCNNZYtO+ZVAWqtOmZZtlkCQCTin3uGWQMZnIbUmVpdA/cUKw27Kl0A0JPTQtj6YQGqC3d7+sphAoODG7EYnmUDWPrD6jpuZQA2dmQjXD5pARPuCFh+EmkB6WWwkZ/iaQLC3VTKvbJtA5xU/QPfgm0AedChOP1WcQFTSEVyHyZxAijD7ac89nUDBjuR3F7KdQPjszYVfJp5ALku3k6eankBkqaCh7w6fQJsHiq83g59A0WVzvX/3n0AEYq7l4zWgQB8Ro+wHcKBAOsCX8yuqoEBWb4z6T+SgQHEegQF0HqFAjM11CJhYoUCofGoPvJKhQMIrXxbgzKFA3tpTHQQHokD5iUgkKEGiQBQ5PStMe6JAMOgxMnC1okBKlyY5lO+iQGZGG0C4KaNAgfUPR9xjo0CcpAROAJ6jQLhT+VQk2KNA0wLuW0gSpEDuseJibEykQAph12mQhqRAJBDMcLTApEBAv8B32PqkQFtutX78NKVAdh2qhSBvpUCSzJ6MRKmlQKx7k5No46VAyCqImowdpkDj2XyhsFemQP6IcajUkaZAGjhmr/jLpkA151q2HAanQFCWT71AQKdAbEVExGR6p0CG9DjLiLSnQKKjLdKs7qdAvlIi2dAoqEDYARfg9GKoQPSwC+cYnahADmAA7jzXqEAqD/X0YBGpQEa+6fuES6lAYG3eAqmFqUB8HNMJzb+pQJbLxxDx+alAsnq8FxU0qkDOKbEeOW6qQOjYpSVdqKpABIiaLIHiqkAgN48zpRyrQDrmgzrJVqtAVpV4Qe2Qq0BwRG1IEcurQIzzYU81BaxAqKJWVlk/rEDCUUtdfXmsQN4AQGShs6xA+K80a8XtrEAUXyly6SetQDAOHnkNYq1ASr0SgDGcrUA=",
          "dtype": "f8"
         },
         "y": {
          "bdata": "WcWMB3Fg4z6KJWwenjLnPsuxPXOeq+s+oDUD1TNx8D5SxhSGA3jzPkjAaOPP9/Y+RIgKFy//+j5udi4nr53/PoRNHwjhcQI/MKHc81BxBT+OLqIqFtYIP+3OVGdaqQw/N0knSzN6ED9XFVkYQeASP+R43dVmixU/53oXEQyAGD9xqZ5CWMIbPyLGPWYZVh8/ro5WclSfIT+isAKcZ78jP4NePWVTDCY/5lw5Ur+GKD+180vJ3i4rP2tHoD5jBC4/fKnZrTeDMD/6W+vExRkyPycILiTOxDM/5OStWu2CNT9LS4TVZ1I3P9/5geUoMTk/9iOUYsMcOz+rHukLdBI9PyWljLolDz8/K7q/uLuHQD+g8jkl4odBP1to1ZgWhkI/jHQkK1KAQz+FoqcTfXREP7naTdR1YEU/WKm17xhCRj8YMp8FSRdHP0Rsjiv33Uc/s5E7VCuUSD/e7kSWDDhJP8ZDwCHpx0k/AN3dtD1CSj/N89JhvKVKP1TMrHtS8Uo/sf1thC0kSz+J3sn8vj1LP4jeyfy+PUs/rv1thC0kSz9UzKx7UvFKP8rz0mG8pUo//tzdtD1CSj/FQ8Ah6cdJP9juRJYMOEk/sJE7VCuUSD9AbI4r991HPxEynwVJF0c/Vam17xhCRj+z2k3UdWBFP4GipxN9dEQ/iXQkK1KAQz9SaNWYFoZCP57yOSXih0E/Jrq/uLuHQD8dpYy6JQ8/P6Ie6Qt0Ej0/6iOUYsMcOz/Y+YHlKDE5P0FLhNVnUjc/1eStWu2CNT8jCC4kzsQzP/Nb68TFGTI/b6nZrTeDMD9eR6A+YwQuP5vzS8neLis/4Vw5Ur+GKD92Xj1lUwwmP5CwApxnvyM/pY5WclSfIT8Gxj1mGVYfP3GpnkJYwhs/23oXEQyAGD/LeN3VZosVP1IVWRhB4BI/L0knSzN6ED/NzlRnWqkMP3guoioW1gg/HqHc81BxBT9/TR8I4XECP1B2Lievnf8+IogKFy//+j5CwGjjz/f2Pj/GFIYDePM+oDUD1TNx8D69sT1znqvrPmglbB6eMuc+T8WMB3Fg4z4=",
          "dtype": "f8"
         }
        },
        {
         "line": {
          "color": "#61fc6c",
          "width": 2
         },
         "mode": "lines",
         "name": "1886 ± 321",
         "type": "scatter",
         "x": {
          "bdata": "rFe+B5rdjEBBNuYWMXmNQNYUDibIFI5Aa/M1NV+wjkAA0l1E9kuPQJWwhVON549AlcdWMZJBkEDftuq4XY+QQCqmfkAp3ZBAdJUSyPQqkUC/hKZPwHiRQAl0OteLxpFAVGPOXlcUkkCeUmLmImKSQOhB9m3ur5JAMzGK9bn9kkB+IB59hUuTQMgPsgRRmZNAEv9FjBznk0Bd7tkT6DSUQKjdbZuzgpRA8swBI3/QlEA8vJWqSh6VQIerKTIWbJVA0Zq9ueG5lUAcilFBrQeWQGZ55ch4VZZAsGh5UESjlkD7Vw3YD/GWQEZHoV/bPpdAkDY156aMl0DaJcluctqXQCUVXfY9KJhAcATxfQl2mEC684QF1cOYQATjGI2gEZlAT9KsFGxfmUCawUCcN62ZQOSw1CMD+5lALqBoq85ImkB5j/wympaaQMN+kLpl5JpADm4kQjEym0BYXbjJ/H+bQKJMTFHIzZtA7Tvg2JMbnEA4K3RgX2mcQIIaCOgqt5xAzAmcb/YEnUAX+S/3wVKdQGLow36NoJ1ArNdXBlnunUD2xuuNJDyeQEG2fxXwiZ5Ai6UTnbvXnkDWlKckhyWfQCCEO6xSc59Aa3PPMx7Bn0BasbHddAegQACpe6FaLqBApaBFZUBVoEBKmA8pJnygQPCP2ewLo6BAlYejsPHJoEA6f2101/CgQN92Nzi9F6FAhG4B/KI+oUAqZsu/iGWhQM9dlYNujKFAdFVfR1SzoUAaTSkLOtqhQL5E884fAaJAZDy9kgUookAJNIdW606iQK4rURrRdaJAVCMb3racokD5GuWhnMOiQJ4Sr2WC6qJARAp5KWgRo0DoAUPtTTijQI75DLEzX6NAM/HWdBmGo0DY6KA4/6yjQH7gavzk06NAItg0wMr6o0DIz/6DsCGkQG3HyEeWSKRAEr+SC3xvpEC4tlzPYZakQF2uJpNHvaRAAqbwVi3kpEConboaEwulQEyVhN74MaVA8oxOot5YpUCXhBhmxH+lQDx84imqpqVA4nOs7Y/NpUCGa3axdfSlQCxjQHVbG6ZA0VoKOUFCpkA=",
          "dtype": "f8"
         },
         "y": {
          "bdata": "ED+DIHP27D53BLe/RVbxPq1Zv4b/rfQ+TtbFmI+T+D43tO36rhn9Pg6BCNpSKgE/uBLdoyAtBD9m3THa4KAHP6phu9rdkQs/HoFSx3sGED+VPAoPxI8SP9HHDd6gaxU/d6HknQKhGD+716ei2DYcP51b84v6GSA/mLkvrnZPIj/QmyeD+74kP+BZ5/Rgayc/vBkHzidXKj95Qy+IZIQtP5xtbMNUejA/D3DZlnhUMj88alooxFA0PyuEMMT8bjY/XZwv/3yuOD9TlWAmLA47P8QaKwZ3jD0/ycH7KqUTQD9ArL2IB25BP66vRYHU00I/IhSr2jtDRD+ZMLICLbpFPzbC6jFaNkc/6M2n8zy1SD/v2jASHDRKPycjEt0SsEs/2uGftRkmTT/yvufDD5NOP5lfv6zF808/uMhbjISiUD/MHedp2EFRPxeoi6NU1lE/YoFDhIBeUj8yLuWc+thSPxd07rZ+RFM/La/zZuufUz9Cy3ocR+pTPzeil4/EIlQ/hEIscMZIVD89hiE/4ltUPzyGIT/iW1Q/hEIscMZIVD83opePxCJUP0HLehxH6lM/La/zZuufUz8XdO62fkRTPzIu5Zz62FI/YYFDhIBeUj8YqIujVNZRP8od52nYQVE/uMhbjISiUD+ZX7+sxfNPP+q+58MPk04/1eGftRkmTT8nIxLdErBLP+/aMBIcNEo/6M2n8zy1SD8xwuoxWjZHP5kwsgItukU/IhSr2jtDRD+mr0WB1NNCP0SsvYgHbkE/ycH7KqUTQD/EGisGd4w9P1OVYCYsDjs/VZwv/3yuOD8khDDE/G42PzxqWijEUDQ/A3DZlnhUMj+cbWzDVHowP2xDL4hkhC0/vBkHzidXKj/gWef0YGsnP8CbJ4P7viQ/orkvrnZPIj+dW/OL+hkgP7vXp6LYNhw/d6HknQKhGD/Mxw3eoGsVP4w8Cg/EjxI/HoFSx3sGED+NYbva3ZELP2/dMdrgoAc/sxLdoyAtBD8HgQjaUioBPze07fquGf0+O9bFmI+T+D6xWb+G/630PnIEt79FVvE+ED+DIHP27D4=",
          "dtype": "f8"
         }
        },
        {
         "line": {
          "color": "#a4fc3b",
          "width": 2
         },
         "mode": "lines",
         "name": "2398 ± 278",
         "type": "scatter",
         "x": {
          "bdata": "2CpvxWpzmEBmQcEQx7aYQPNXE1wj+phAgW5lp389mUAPhbfy24CZQJ2bCT44xJlAKrJbiZQHmkC4yK3U8EqaQEbf/x9NjppA1PVRa6nRmkBhDKS2BRWbQO8i9gFiWJtAfTlITb6bm0AKUJqYGt+bQJhm7ON2IpxAJn0+L9NlnEC0k5B6L6mcQEKq4sWL7JxAz8A0EegvnUBd14ZcRHOdQOvt2Kegtp1AeAQr8/z5nUAGG30+WT2eQJQxz4m1gJ5AIkgh1RHEnkCvXnMgbgefQD11xWvKSp9Ay4sXtyaOn0BYomkCg9GfQHPc3aZvCqBAuueGzB0soEAB8y/yy02gQEj+2Bd6b6BAjgmCPSiRoEDWFCtj1rKgQBwg1IiE1KBAYyt9rjL2oECqNibU4BehQPFBz/mOOaFAOE14Hz1boUB/WCFF63yhQMZjymqZnqFADG9zkEfAoUBTehy29eGhQJqFxdujA6JA4ZBuAVIlokAonBcnAEeiQG+nwEyuaKJAtrJpclyKokD8vRKYCqyiQEPJu724zaJAitRk42bvokDR3w0JFRGjQBjrti7DMqNAX/ZfVHFUo0CmAQl6H3ajQOwMsp/Nl6NANBhbxXu5o0B6IwTrKdujQMEurRDY/KNACDpWNoYepEBPRf9bNECkQJZQqIHiYaRA3FtRp5CDpEAkZ/rMPqWkQGpyo/LsxqRAsX1MGJvopED4iPU9SQqlQD+UnmP3K6VAhp9HiaVNpUDMqvCuU2+lQBS2mdQBkaVAWsFC+q+ypUCizOsfXtSlQOjXlEUM9qVAL+M9a7oXpkB27uaQaDmmQL35j7YWW6ZABAU53MR8pkBKEOIBc56mQJIbiychwKZA2CY0Tc/hpkAfMt1yfQOnQGY9hpgrJadArUgvvtlGp0D0U9jjh2inQDpfgQk2iqdAgmoqL+Srp0DIddNUks2nQA+BfHpA76dAVowloO4QqECdl87FnDKoQOSid+tKVKhAKq4gEfl1qEByuck2p5eoQLjEclxVuahA/88bggPbqEBG28SnsfyoQI3mbc1fHqlA1PEW8w1AqUA=",
          "dtype": "f8"
         },
         "y": {
          "bdata": "p4uHhn658D4gdrj8yAX0PlEmFkAR4vc+XzIbeChi/D60S3oQ180AP+oBukMH0wM/p5RD5TtNBz+eMt7z4UkLP36y5jAr1w8/dhPBCfuBEj8eqMkg128VPzX5p4cSvRg/YRnv1LBxHD+r82Qv2kogPxikRud+mCI/KeXUypMlJT8tZVnDrvUnP2nT5XwYDCs/b2cqBbVrLj9SPsWodQsxPxmmRA3GBzM/L/ycRlwrNT/DeCCyZHY3P5EEL4Sb6Dk/lo7NsUGBPD/9UqwMEz8/P3LD9fUeEEE/ThU9XS6RQj+2H8zfOCFEP8w3WbdyvkU/kNi4wMNmRz+oYsWIyRdJP/fB5evazko/IMe0UQ2JTD95MxCEO0NOPzpt5BUO+k8/voRZoQLVUD+mTjkSwqdRP6ThL4luc1I/ZUaHeC82Uz9j+nGZMe5TP+75OiCumVQ/+TY9/fE2VT+ZypcBZcRVP+hW3L2QQFY/28Z08SaqVj9EdTpjBwBXPynJrP5EQVc/NtxOFSptVz+O6dWoO4NXP4/p1ag7g1c/NtxOFSptVz8pyaz+REFXP0R1OmMHAFc/28Z08SaqVj/oVty9kEBWP53KlwFlxFU/+TY9/fE2VT/u+TogrplUP2P6cZkx7lM/ZUaHeC82Uz+k4S+JbnNSP6ZOORLCp1E/xIRZoQLVUD86beQVDvpPP3kzEIQ7Q04/L8e0UQ2JTD/3weXr2s5KP6hixYjJF0k/kNi4wMNmRz/XN1m3cr5FP7YfzN84IUQ/VRU9XS6RQj9sw/X1HhBBPwhTrAwTPz8/lo7NsUGBPD+RBC+Em+g5P8N4ILJkdjc/L/ycRlwrNT8jpkQNxgczP0s+xah1CzE/fmcqBbVrLj9p0+V8GAwrPy1lWcOu9Sc/KeXUypMlJT8YpEbnfpgiP73zZC/aSiA/Txnv1LBxHD9G+aeHEr0YPyyoySDXbxU/dhPBCfuBEj9+suYwK9cPP54y3vPhSQs/xJRD5TtNBz/bAbpDB9MDP8FLehDXzQA/czIbeChi/D5jJhZAEeL3PiB2uPzIBfQ+p4uHhn658D4=",
          "dtype": "f8"
         }
        }
       ],
       "layout": {
        "legend": {
         "title": {
          "text": "m ± err"
         },
         "x": 1,
         "xanchor": "right",
         "y": 1,
         "yanchor": "top"
        },
        "template": {
         "data": {
          "bar": [
           {
            "error_x": {
             "color": "#2a3f5f"
            },
            "error_y": {
             "color": "#2a3f5f"
            },
            "marker": {
             "line": {
              "color": "#E5ECF6",
              "width": 0.5
             },
             "pattern": {
              "fillmode": "overlay",
              "size": 10,
              "solidity": 0.2
             }
            },
            "type": "bar"
           }
          ],
          "barpolar": [
           {
            "marker": {
             "line": {
              "color": "#E5ECF6",
              "width": 0.5
             },
             "pattern": {
              "fillmode": "overlay",
              "size": 10,
              "solidity": 0.2
             }
            },
            "type": "barpolar"
           }
          ],
          "carpet": [
           {
            "aaxis": {
             "endlinecolor": "#2a3f5f",
             "gridcolor": "white",
             "linecolor": "white",
             "minorgridcolor": "white",
             "startlinecolor": "#2a3f5f"
            },
            "baxis": {
             "endlinecolor": "#2a3f5f",
             "gridcolor": "white",
             "linecolor": "white",
             "minorgridcolor": "white",
             "startlinecolor": "#2a3f5f"
            },
            "type": "carpet"
           }
          ],
          "choropleth": [
           {
            "colorbar": {
             "outlinewidth": 0,
             "ticks": ""
            },
            "type": "choropleth"
           }
          ],
          "contour": [
           {
            "colorbar": {
             "outlinewidth": 0,
             "ticks": ""
            },
            "colorscale": [
             [
              0,
              "#0d0887"
             ],
             [
              0.1111111111111111,
              "#46039f"
             ],
             [
              0.2222222222222222,
              "#7201a8"
             ],
             [
              0.3333333333333333,
              "#9c179e"
             ],
             [
              0.4444444444444444,
              "#bd3786"
             ],
             [
              0.5555555555555556,
              "#d8576b"
             ],
             [
              0.6666666666666666,
              "#ed7953"
             ],
             [
              0.7777777777777778,
              "#fb9f3a"
             ],
             [
              0.8888888888888888,
              "#fdca26"
             ],
             [
              1,
              "#f0f921"
             ]
            ],
            "type": "contour"
           }
          ],
          "contourcarpet": [
           {
            "colorbar": {
             "outlinewidth": 0,
             "ticks": ""
            },
            "type": "contourcarpet"
           }
          ],
          "heatmap": [
           {
            "colorbar": {
             "outlinewidth": 0,
             "ticks": ""
            },
            "colorscale": [
             [
              0,
              "#0d0887"
             ],
             [
              0.1111111111111111,
              "#46039f"
             ],
             [
              0.2222222222222222,
              "#7201a8"
             ],
             [
              0.3333333333333333,
              "#9c179e"
             ],
             [
              0.4444444444444444,
              "#bd3786"
             ],
             [
              0.5555555555555556,
              "#d8576b"
             ],
             [
              0.6666666666666666,
              "#ed7953"
             ],
             [
              0.7777777777777778,
              "#fb9f3a"
             ],
             [
              0.8888888888888888,
              "#fdca26"
             ],
             [
              1,
              "#f0f921"
             ]
            ],
            "type": "heatmap"
           }
          ],
          "histogram": [
           {
            "marker": {
             "pattern": {
              "fillmode": "overlay",
              "size": 10,
              "solidity": 0.2
             }
            },
            "type": "histogram"
           }
          ],
          "histogram2d": [
           {
            "colorbar": {
             "outlinewidth": 0,
             "ticks": ""
            },
            "colorscale": [
             [
              0,
              "#0d0887"
             ],
             [
              0.1111111111111111,
              "#46039f"
             ],
             [
              0.2222222222222222,
              "#7201a8"
             ],
             [
              0.3333333333333333,
              "#9c179e"
             ],
             [
              0.4444444444444444,
              "#bd3786"
             ],
             [
              0.5555555555555556,
              "#d8576b"
             ],
             [
              0.6666666666666666,
              "#ed7953"
             ],
             [
              0.7777777777777778,
              "#fb9f3a"
             ],
             [
              0.8888888888888888,
              "#fdca26"
             ],
             [
              1,
              "#f0f921"
             ]
            ],
            "type": "histogram2d"
           }
          ],
          "histogram2dcontour": [
           {
            "colorbar": {
             "outlinewidth": 0,
             "ticks": ""
            },
            "colorscale": [
             [
              0,
              "#0d0887"
             ],
             [
              0.1111111111111111,
              "#46039f"
             ],
             [
              0.2222222222222222,
              "#7201a8"
             ],
             [
              0.3333333333333333,
              "#9c179e"
             ],
             [
              0.4444444444444444,
              "#bd3786"
             ],
             [
              0.5555555555555556,
              "#d8576b"
             ],
             [
              0.6666666666666666,
              "#ed7953"
             ],
             [
              0.7777777777777778,
              "#fb9f3a"
             ],
             [
              0.8888888888888888,
              "#fdca26"
             ],
             [
              1,
              "#f0f921"
             ]
            ],
            "type": "histogram2dcontour"
           }
          ],
          "mesh3d": [
           {
            "colorbar": {
             "outlinewidth": 0,
             "ticks": ""
            },
            "type": "mesh3d"
           }
          ],
          "parcoords": [
           {
            "line": {
             "colorbar": {
              "outlinewidth": 0,
              "ticks": ""
             }
            },
            "type": "parcoords"
           }
          ],
          "pie": [
           {
            "automargin": true,
            "type": "pie"
           }
          ],
          "scatter": [
           {
            "fillpattern": {
             "fillmode": "overlay",
             "size": 10,
             "solidity": 0.2
            },
            "type": "scatter"
           }
          ],
          "scatter3d": [
           {
            "line": {
             "colorbar": {
              "outlinewidth": 0,
              "ticks": ""
             }
            },
            "marker": {
             "colorbar": {
              "outlinewidth": 0,
              "ticks": ""
             }
            },
            "type": "scatter3d"
           }
          ],
          "scattercarpet": [
           {
            "marker": {
             "colorbar": {
              "outlinewidth": 0,
              "ticks": ""
             }
            },
            "type": "scattercarpet"
           }
          ],
          "scattergeo": [
           {
            "marker": {
             "colorbar": {
              "outlinewidth": 0,
              "ticks": ""
             }
            },
            "type": "scattergeo"
           }
          ],
          "scattergl": [
           {
            "marker": {
             "colorbar": {
              "outlinewidth": 0,
              "ticks": ""
             }
            },
            "type": "scattergl"
           }
          ],
          "scattermap": [
           {
            "marker": {
             "colorbar": {
              "outlinewidth": 0,
              "ticks": ""
             }
            },
            "type": "scattermap"
           }
          ],
          "scattermapbox": [
           {
            "marker": {
             "colorbar": {
              "outlinewidth": 0,
              "ticks": ""
             }
            },
            "type": "scattermapbox"
           }
          ],
          "scatterpolar": [
           {
            "marker": {
             "colorbar": {
              "outlinewidth": 0,
              "ticks": ""
             }
            },
            "type": "scatterpolar"
           }
          ],
          "scatterpolargl": [
           {
            "marker": {
             "colorbar": {
              "outlinewidth": 0,
              "ticks": ""
             }
            },
            "type": "scatterpolargl"
           }
          ],
          "scatterternary": [
           {
            "marker": {
             "colorbar": {
              "outlinewidth": 0,
              "ticks": ""
             }
            },
            "type": "scatterternary"
           }
          ],
          "surface": [
           {
            "colorbar": {
             "outlinewidth": 0,
             "ticks": ""
            },
            "colorscale": [
             [
              0,
              "#0d0887"
             ],
             [
              0.1111111111111111,
              "#46039f"
             ],
             [
              0.2222222222222222,
              "#7201a8"
             ],
             [
              0.3333333333333333,
              "#9c179e"
             ],
             [
              0.4444444444444444,
              "#bd3786"
             ],
             [
              0.5555555555555556,
              "#d8576b"
             ],
             [
              0.6666666666666666,
              "#ed7953"
             ],
             [
              0.7777777777777778,
              "#fb9f3a"
             ],
             [
              0.8888888888888888,
              "#fdca26"
             ],
             [
              1,
              "#f0f921"
             ]
            ],
            "type": "surface"
           }
          ],
          "table": [
           {
            "cells": {
             "fill": {
              "color": "#EBF0F8"
             },
             "line": {
              "color": "white"
             }
            },
            "header": {
             "fill": {
              "color": "#C8D4E3"
             },
             "line": {
              "color": "white"
             }
            },
            "type": "table"
           }
          ]
         },
         "layout": {
          "annotationdefaults": {
           "arrowcolor": "#2a3f5f",
           "arrowhead": 0,
           "arrowwidth": 1
          },
          "autotypenumbers": "strict",
          "coloraxis": {
           "colorbar": {
            "outlinewidth": 0,
            "ticks": ""
           }
          },
          "colorscale": {
           "diverging": [
            [
             0,
             "#8e0152"
            ],
            [
             0.1,
             "#c51b7d"
            ],
            [
             0.2,
             "#de77ae"
            ],
            [
             0.3,
             "#f1b6da"
            ],
            [
             0.4,
             "#fde0ef"
            ],
            [
             0.5,
             "#f7f7f7"
            ],
            [
             0.6,
             "#e6f5d0"
            ],
            [
             0.7,
             "#b8e186"
            ],
            [
             0.8,
             "#7fbc41"
            ],
            [
             0.9,
             "#4d9221"
            ],
            [
             1,
             "#276419"
            ]
           ],
           "sequential": [
            [
             0,
             "#0d0887"
            ],
            [
             0.1111111111111111,
             "#46039f"
            ],
            [
             0.2222222222222222,
             "#7201a8"
            ],
            [
             0.3333333333333333,
             "#9c179e"
            ],
            [
             0.4444444444444444,
             "#bd3786"
            ],
            [
             0.5555555555555556,
             "#d8576b"
            ],
            [
             0.6666666666666666,
             "#ed7953"
            ],
            [
             0.7777777777777778,
             "#fb9f3a"
            ],
            [
             0.8888888888888888,
             "#fdca26"
            ],
            [
             1,
             "#f0f921"
            ]
           ],
           "sequentialminus": [
            [
             0,
             "#0d0887"
            ],
            [
             0.1111111111111111,
             "#46039f"
            ],
            [
             0.2222222222222222,
             "#7201a8"
            ],
            [
             0.3333333333333333,
             "#9c179e"
            ],
            [
             0.4444444444444444,
             "#bd3786"
            ],
            [
             0.5555555555555556,
             "#d8576b"
            ],
            [
             0.6666666666666666,
             "#ed7953"
            ],
            [
             0.7777777777777778,
             "#fb9f3a"
            ],
            [
             0.8888888888888888,
             "#fdca26"
            ],
            [
             1,
             "#f0f921"
            ]
           ]
          },
          "colorway": [
           "#636efa",
           "#EF553B",
           "#00cc96",
           "#ab63fa",
           "#FFA15A",
           "#19d3f3",
           "#FF6692",
           "#B6E880",
           "#FF97FF",
           "#FECB52"
          ],
          "font": {
           "color": "#2a3f5f"
          },
          "geo": {
           "bgcolor": "white",
           "lakecolor": "white",
           "landcolor": "#E5ECF6",
           "showlakes": true,
           "showland": true,
           "subunitcolor": "white"
          },
          "hoverlabel": {
           "align": "left"
          },
          "hovermode": "closest",
          "mapbox": {
           "style": "light"
          },
          "paper_bgcolor": "white",
          "plot_bgcolor": "#E5ECF6",
          "polar": {
           "angularaxis": {
            "gridcolor": "white",
            "linecolor": "white",
            "ticks": ""
           },
           "bgcolor": "#E5ECF6",
           "radialaxis": {
            "gridcolor": "white",
            "linecolor": "white",
            "ticks": ""
           }
          },
          "scene": {
           "xaxis": {
            "backgroundcolor": "#E5ECF6",
            "gridcolor": "white",
            "gridwidth": 2,
            "linecolor": "white",
            "showbackground": true,
            "ticks": "",
            "zerolinecolor": "white"
           },
           "yaxis": {
            "backgroundcolor": "#E5ECF6",
            "gridcolor": "white",
            "gridwidth": 2,
            "linecolor": "white",
            "showbackground": true,
            "ticks": "",
            "zerolinecolor": "white"
           },
           "zaxis": {
            "backgroundcolor": "#E5ECF6",
            "gridcolor": "white",
            "gridwidth": 2,
            "linecolor": "white",
            "showbackground": true,
            "ticks": "",
            "zerolinecolor": "white"
           }
          },
          "shapedefaults": {
           "line": {
            "color": "#2a3f5f"
           }
          },
          "ternary": {
           "aaxis": {
            "gridcolor": "white",
            "linecolor": "white",
            "ticks": ""
           },
           "baxis": {
            "gridcolor": "white",
            "linecolor": "white",
            "ticks": ""
           },
           "bgcolor": "#E5ECF6",
           "caxis": {
            "gridcolor": "white",
            "linecolor": "white",
            "ticks": ""
           }
          },
          "title": {
           "x": 0.05
          },
          "xaxis": {
           "automargin": true,
           "gridcolor": "white",
           "linecolor": "white",
           "ticks": "",
           "title": {
            "standoff": 15
           },
           "zerolinecolor": "white",
           "zerolinewidth": 2
          },
          "yaxis": {
           "automargin": true,
           "gridcolor": "white",
           "linecolor": "white",
           "ticks": "",
           "title": {
            "standoff": 15
           },
           "zerolinecolor": "white",
           "zerolinewidth": 2
          }
         }
        },
        "xaxis": {
         "title": {
          "text": "m"
         }
        },
        "yaxis": {
         "title": {
          "text": "Probability Density"
         }
        }
       }
      }
     },
     "metadata": {},
     "output_type": "display_data"
    }
   ],
   "source": [
    "from scipy.stats import norm\n",
    "\n",
    "colors = px.colors.sequential.Turbo\n",
    "\n",
    "fig = go.Figure()\n",
    "\n",
    "x = np.linspace(mean_m - 18 * mean_m_err, mean_m + 24 * mean_m_err, 1000)\n",
    "y = norm.pdf(x, mean_m, mean_m_err)\n",
    "fig.add_trace(go.Scatter(\n",
    "    x=x,\n",
    "    y=y,\n",
    "    mode='lines',\n",
    "    name=f'Mean: {int(np.round(mean_m))} ± {int(np.round(mean_m_err))}',\n",
    "    line=dict(color='red', width=4),\n",
    "    ))\n",
    "\n",
    "for i, (m, e) in enumerate(zip(m_values, m_errors)):\n",
    "    x = np.linspace(m - 3 * e, m + 3 * e, 100)\n",
    "    y = norm.pdf(x, m, e)\n",
    "    fig.add_trace(go.Scatter(\n",
    "    x=x,\n",
    "    y=y,\n",
    "    mode='lines',\n",
    "    name=f'{int(np.round(m))} ± {int(np.round(e))}',\n",
    "    line=dict(color=colors[i % len(colors)], width=2),\n",
    "    ))\n",
    "\n",
    "fig.update_layout(\n",
    "    xaxis_title='m',\n",
    "    yaxis_title='Probability Density',\n",
    "    legend_title='m ± err',\n",
    "    legend=dict(\n",
    "    x=1,\n",
    "    y=1,\n",
    "    xanchor='right',\n",
    "    yanchor='top'\n",
    "    )\n",
    ")\n",
    "fig.write_image('./images/gauss_m.png')\n",
    "fig.write_html('./html/gauss_m.html')\n",
    "fig.show()"
   ]
  },
  {
   "cell_type": "code",
   "execution_count": 80,
   "id": "bd2b45ed",
   "metadata": {},
   "outputs": [
    {
     "data": {
      "text/html": [
       "<div>\n",
       "<style scoped>\n",
       "    .dataframe tbody tr th:only-of-type {\n",
       "        vertical-align: middle;\n",
       "    }\n",
       "\n",
       "    .dataframe tbody tr th {\n",
       "        vertical-align: top;\n",
       "    }\n",
       "\n",
       "    .dataframe thead th {\n",
       "        text-align: right;\n",
       "    }\n",
       "</style>\n",
       "<table border=\"1\" class=\"dataframe\">\n",
       "  <thead>\n",
       "    <tr style=\"text-align: right;\">\n",
       "      <th></th>\n",
       "      <th>0</th>\n",
       "      <th>1</th>\n",
       "      <th>2</th>\n",
       "      <th>3</th>\n",
       "      <th>4</th>\n",
       "      <th>5</th>\n",
       "      <th>6</th>\n",
       "      <th>7</th>\n",
       "    </tr>\n",
       "  </thead>\n",
       "  <tbody>\n",
       "    <tr>\n",
       "      <th>λ</th>\n",
       "      <td>227</td>\n",
       "      <td>226</td>\n",
       "      <td>225</td>\n",
       "      <td>224</td>\n",
       "      <td>223</td>\n",
       "      <td>222</td>\n",
       "      <td>221</td>\n",
       "      <td>220</td>\n",
       "    </tr>\n",
       "    <tr>\n",
       "      <th>ΔG</th>\n",
       "      <td>8245</td>\n",
       "      <td>7001</td>\n",
       "      <td>7053</td>\n",
       "      <td>7288</td>\n",
       "      <td>6886</td>\n",
       "      <td>7884</td>\n",
       "      <td>7238</td>\n",
       "      <td>7678</td>\n",
       "    </tr>\n",
       "    <tr>\n",
       "      <th>ΔG_err</th>\n",
       "      <td>1412</td>\n",
       "      <td>1887</td>\n",
       "      <td>1453</td>\n",
       "      <td>1511</td>\n",
       "      <td>1596</td>\n",
       "      <td>1709</td>\n",
       "      <td>1318</td>\n",
       "      <td>947</td>\n",
       "    </tr>\n",
       "  </tbody>\n",
       "</table>\n",
       "</div>"
      ],
      "text/plain": [
       "           0     1     2     3     4     5     6     7\n",
       "λ        227   226   225   224   223   222   221   220\n",
       "ΔG      8245  7001  7053  7288  6886  7884  7238  7678\n",
       "ΔG_err  1412  1887  1453  1511  1596  1709  1318   947"
      ]
     },
     "metadata": {},
     "output_type": "display_data"
    },
    {
     "name": "stdout",
     "output_type": "stream",
     "text": [
      "Tanti ΔG:  7468 ± 159 J/mol\n",
      "Cmid:  3.4104 ± 0.1001 M\n",
      "m:  2136.16 ± 90.1 LJ/mol2\n"
     ]
    }
   ],
   "source": [
    "# stampa medie\n",
    "\n",
    "# print(\"Media pesata di Cmid:\", mean_Cmid)\n",
    "# print(\"Errore sulla media pesata di Cmid:\", mean_Cmid_err)\n",
    "# print(\"Media pesata di m:\", mean_A)\n",
    "# print(\"Errore sulla media pesata di m:\", mean_A_err)\n",
    "\n",
    "tanti_DELTA_G = (fit_df['m'] * fit_df['Cmid']).to_numpy()\n",
    "tanti_DELTA_G_err = (tanti_DELTA_G * np.sqrt((fit_df['m_err']/fit_df['m'])**2 + (fit_df['Cmid_err']/fit_df['Cmid'])**2 + fit_df['Cm covariance']/(fit_df['Cmid']*fit_df['m'])**2)).to_numpy()\n",
    "\n",
    "tanti = pd.DataFrame({\n",
    "    'λ': fit_df['λ'].astype(int),\n",
    "    'ΔG': tanti_DELTA_G.astype(int),\n",
    "    'ΔG_err': tanti_DELTA_G_err.astype(int)\n",
    "})\n",
    "\n",
    "display(tanti.T)\n",
    "\n",
    "weights = 1 / tanti_DELTA_G_err**2\n",
    "mean_DELTA_G = np.average(tanti_DELTA_G, weights=weights)\n",
    "mean_DELTA_G_err = np.sqrt(np.sum(weights * ((tanti_DELTA_G - mean_DELTA_G) ** 2)) / np.sum(weights)) / np.sqrt(len(tanti_DELTA_G) - 1)\n",
    "\n",
    "print('Tanti ΔG: ', final_val(mean_DELTA_G, mean_DELTA_G_err, decimals=0, udm='J/mol'))\n",
    "\n",
    "print('Cmid: ',final_val(mean_Cmid,mean_Cmid_err,4,udm='M'))\n",
    "print('m: ', final_val(mean_m,mean_m_err, udm='LJ/mol2'))\n",
    "\n",
    "# ΔG = m * mean_Cmid\n",
    "# sigmaΔG = ΔG*np.sqrt((mean_m_err/mean_m)**2 + (mean_Cmid_err/mean_Cmid)**2)\n",
    "\n",
    "# print('ΔG: ',final_val(ΔG,sigmaΔG,decimals=0,udm='J/mol'))"
   ]
  }
 ],
 "metadata": {
  "kernelspec": {
   "display_name": "Python 3",
   "language": "python",
   "name": "python3"
  },
  "language_info": {
   "codemirror_mode": {
    "name": "ipython",
    "version": 3
   },
   "file_extension": ".py",
   "mimetype": "text/x-python",
   "name": "python",
   "nbconvert_exporter": "python",
   "pygments_lexer": "ipython3",
   "version": "3.13.0"
  }
 },
 "nbformat": 4,
 "nbformat_minor": 5
}
