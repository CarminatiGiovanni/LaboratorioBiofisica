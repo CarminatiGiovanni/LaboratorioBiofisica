{
 "cells": [
  {
   "cell_type": "code",
   "execution_count": 1,
   "id": "bf6f4978",
   "metadata": {},
   "outputs": [],
   "source": [
    "from matplotlib import pyplot as plt\n",
    "from scipy.optimize import curve_fit\n",
    "import numpy as np\n",
    "import pandas as pd\n",
    "import plotly.express as px\n",
    "import os\n",
    "import sys\n",
    "import plotly.graph_objects as go \n",
    "dir_path = os.path.abspath('')\n",
    "sys.path.append(dir_path + '/../')\n",
    "from labbiofisica import final_val"
   ]
  },
  {
   "cell_type": "code",
   "execution_count": 3,
   "id": "27a06352",
   "metadata": {},
   "outputs": [
    {
     "data": {
      "text/html": [
       "<div>\n",
       "<style scoped>\n",
       "    .dataframe tbody tr th:only-of-type {\n",
       "        vertical-align: middle;\n",
       "    }\n",
       "\n",
       "    .dataframe tbody tr th {\n",
       "        vertical-align: top;\n",
       "    }\n",
       "\n",
       "    .dataframe thead th {\n",
       "        text-align: right;\n",
       "    }\n",
       "</style>\n",
       "<table border=\"1\" class=\"dataframe\">\n",
       "  <thead>\n",
       "    <tr style=\"text-align: right;\">\n",
       "      <th></th>\n",
       "      <th>λ</th>\n",
       "      <th>C0</th>\n",
       "      <th>C1</th>\n",
       "      <th>C2</th>\n",
       "      <th>C3</th>\n",
       "      <th>C4</th>\n",
       "      <th>C5</th>\n",
       "    </tr>\n",
       "  </thead>\n",
       "  <tbody>\n",
       "    <tr>\n",
       "      <th>55</th>\n",
       "      <td>205</td>\n",
       "      <td>-0.02454</td>\n",
       "      <td>-0.02172</td>\n",
       "      <td>-0.02031</td>\n",
       "      <td>-0.02233</td>\n",
       "      <td>-0.01931</td>\n",
       "      <td>-0.01872</td>\n",
       "    </tr>\n",
       "    <tr>\n",
       "      <th>56</th>\n",
       "      <td>204</td>\n",
       "      <td>-0.02265</td>\n",
       "      <td>-0.01981</td>\n",
       "      <td>-0.02289</td>\n",
       "      <td>-0.02221</td>\n",
       "      <td>-0.02085</td>\n",
       "      <td>-0.01986</td>\n",
       "    </tr>\n",
       "    <tr>\n",
       "      <th>57</th>\n",
       "      <td>203</td>\n",
       "      <td>-0.02256</td>\n",
       "      <td>-0.01913</td>\n",
       "      <td>-0.02492</td>\n",
       "      <td>-0.02548</td>\n",
       "      <td>-0.01868</td>\n",
       "      <td>-0.02221</td>\n",
       "    </tr>\n",
       "    <tr>\n",
       "      <th>58</th>\n",
       "      <td>202</td>\n",
       "      <td>-0.02118</td>\n",
       "      <td>-0.02115</td>\n",
       "      <td>-0.02197</td>\n",
       "      <td>-0.02395</td>\n",
       "      <td>-0.02055</td>\n",
       "      <td>-0.02537</td>\n",
       "    </tr>\n",
       "    <tr>\n",
       "      <th>59</th>\n",
       "      <td>201</td>\n",
       "      <td>-0.01932</td>\n",
       "      <td>-0.02146</td>\n",
       "      <td>-0.02278</td>\n",
       "      <td>-0.01982</td>\n",
       "      <td>-0.02226</td>\n",
       "      <td>-0.02139</td>\n",
       "    </tr>\n",
       "  </tbody>\n",
       "</table>\n",
       "</div>"
      ],
      "text/plain": [
       "      λ       C0       C1       C2       C3       C4       C5\n",
       "55  205 -0.02454 -0.02172 -0.02031 -0.02233 -0.01931 -0.01872\n",
       "56  204 -0.02265 -0.01981 -0.02289 -0.02221 -0.02085 -0.01986\n",
       "57  203 -0.02256 -0.01913 -0.02492 -0.02548 -0.01868 -0.02221\n",
       "58  202 -0.02118 -0.02115 -0.02197 -0.02395 -0.02055 -0.02537\n",
       "59  201 -0.01932 -0.02146 -0.02278 -0.01982 -0.02226 -0.02139"
      ]
     },
     "execution_count": 3,
     "metadata": {},
     "output_type": "execute_result"
    }
   ],
   "source": [
    "path = dir_path+'/data/'\n",
    "\n",
    "spettriRAW = pd.DataFrame()\n",
    "for i in ['0','1','2','3','4','5']:\n",
    "    c = 'C' + i\n",
    "    data = pd.read_csv(path + c + '.dat',header = None, skiprows=1,sep='\\t')\n",
    "    \n",
    "    spettriRAW['λ'] = data.iloc[:, 0]\n",
    "    spettriRAW[c] = data.iloc[:,1]\n",
    "\n",
    "spettriRAW.tail()"
   ]
  },
  {
   "cell_type": "code",
   "execution_count": 4,
   "id": "5e426f37",
   "metadata": {},
   "outputs": [],
   "source": [
    "N = 162 #numero residui BLG\n",
    "l = 0.5 # lunghezza cammino ottico in cm\n",
    "R = 8.314 # J/(mol * K)\n",
    "T = 300 # K"
   ]
  },
  {
   "cell_type": "code",
   "execution_count": 5,
   "id": "15e0b7a6",
   "metadata": {},
   "outputs": [
    {
     "name": "stdout",
     "output_type": "stream",
     "text": [
      "Concentrazione GuHCl [μM]:  [0.      1.56847 3.08505 4.60239 6.18847 7.73319]\n"
     ]
    }
   ],
   "source": [
    "# import concentrazioni\n",
    "concentrazioni = pd.read_csv('concentrazioni_soluzioni.csv')['C(GuHCl) [M] sperimentale'].to_numpy() * 1000000 # μM\n",
    "print('Concentrazione GuHCl [μM]: ',concentrazioni)"
   ]
  },
  {
   "cell_type": "code",
   "execution_count": 6,
   "id": "8bf8bad9",
   "metadata": {},
   "outputs": [
    {
     "data": {
      "application/vnd.plotly.v1+json": {
       "config": {
        "plotlyServerURL": "https://plot.ly"
       },
       "data": [
        {
         "mode": "lines",
         "name": "0.0",
         "type": "scatter",
         "x": {
          "bdata": "BAEDAQIBAQEAAf8A/gD9APwA+wD6APkA+AD3APYA9QD0APMA8gDxAPAA7wDuAO0A7ADrAOoA6QDoAOcA5gDlAOQA4wDiAOEA4ADfAN4A3QDcANsA2gDZANgA1wDWANUA1ADTANIA0QDQAM8AzgDNAMwAywDKAMkA",
          "dtype": "i2"
         },
         "y": {
          "bdata": "lPYGX5hMlb9R2ht8YTKVv8Iv9fOmIpW/5L1qZcIvlb9VE0TdByCVv/3ZjxSRYZW/4IRCBBxClb9NofMau0SVv3Noke18P5W//dmPFJFhlb+2hHzQs1mVv9cS8kHPZpW/qdkDrcCQlb/xLhfxnZiVv1oSoKaWrZW/oWez6nO1lb9F9dbAVgmWv4gRwqONI5a/Ykok0csolr/x9EpZhjiWv1Fmg0wycpa/Ap8fRgiPlr/YnlkSoKaWv6pla32R0Ja/8bp+wW7Ylr+7D0BqEyeXv8eA7PXuj5e/YtaLoZxol79JgJpattaXvxPVWwNbJZi/Tn/2I0VkmL9jYvNxbaiYvw9iZwqd15i/v5oDBHP0mL/+fcaFAyGZv8wLsI9OXZm/mpmZmZmZmb+qQ26GG/CZv+5fWWlSCpq/7iWN0Tqqmr8p0CfyJOmav2iz6nO1FZu/FLNeDOVEm799lufB3Vmbv8xdS8gHPZu/xOv6Bbthm78Us14M5USbv8Tr+gW7YZu/s0EmGTkLm7/RlnMpriqbv0YldQKaCJu/QuxMofMam79T0O0ljdGav1t8CoDxDJq/9gt2w7ZFmb/+fcaFAyGZv2+BBMWPMZe/mYHK+PcZl7/HLlG9NbCVv3+HokCfyJO/",
          "dtype": "f8"
         }
        },
        {
         "mode": "lines",
         "name": "1.57",
         "type": "scatter",
         "x": {
          "bdata": "BAEDAQIBAQEAAf8A/gD9APwA+wD6APkA+AD3APYA9QD0APMA8gDxAPAA7wDuAO0A7ADrAOoA6QDoAOcA5gDlAOQA4wDiAOEA4ADfAN4A3QDcANsA2gDZANgA1wDWANUA1ADTANIA0QDQAM8AzgDNAMwAywDKAMkA",
          "dtype": "i2"
         },
         "y": {
          "bdata": "9S1zuiwmlr+pnzcVqTCWvxv1EI3uIJa/QbyuX7Ablr8XvOgrSDOWv2aDTDJyFpa/G/UQje4glr9mg0wychaWv89m1edqK5a/G/UQje4glr+u2F92Tx6Wv9Of/UgRGZa/9S1zuiwmlr+E2JlC5zWWv4CfceFASJa/e2ZJgJpalr/Du1zEd2KWvwoRcAhVapa/c/T4vU1/lr9vu9Bcp5GWv7LXuz/eq5a/jBAebRyxlr+lLEMc6+KWv5mByvj3GZe/3J212y40l79enWNA9nqXvwZkr3d/vJe/KPIk6ZrJl7/6uDZUjPOXvxPVWwNbJZi/PZtVn6utmL9fKcsQx7qYv6JFtvP91Ji/JEVkWMUbmb8ofoy5awmZv7PviuB/K5m/hbacS3FVmb/pYP2fw3yZv921hHzQs5m/6SYxCKwcmr8k0csolluavxgmUwWjkpq/1QloImx4mr90XmOXqN6av/ZdEfxvJZu/dF5jl6jemr+ze/KwUGuav56Y9WIoJ5q/GCZTBaOSmr8DQ1a3ek6av+4ljdE6qpq/OWItPgXAmL9vu9Bcp5GWv8vz4O6s3Za/ObTIdr6far/LLa2GxD2Wv2L4iJgSSZS/Zmt9kdCWk79/2T15WKiVv7ZKsDic+ZW/",
          "dtype": "f8"
         }
        },
        {
         "mode": "lines",
         "name": "3.09",
         "type": "scatter",
         "x": {
          "bdata": "BAEDAQIBAQEAAf8A/gD9APwA+wD6APkA+AD3APYA9QD0APMA8gDxAPAA7wDuAO0A7ADrAOoA6QDoAOcA5gDlAOQA4wDiAOEA4ADfAN4A3QDcANsA2gDZANgA1wDWANUA1ADTANIA0QDQAM8AzgDNAMwAywDKAMkA",
          "dtype": "i2"
         },
         "y": {
          "bdata": "6IL6ljldlr/H9IQlHlCWv8f0hCUeUJa/oS3nUlxVlr8Sg8DKoUWWv+27IvjfSpa/yy2thsQ9lr8OSphp+1eWv+27IvjfSpa/e2ZJgJpalr/tuyL430qWvw5KmGn7V5a/e2ZJgJpalr84Sl6dY0CWvxKDwMqhRZa/UWaDTDJylr+d9L7xtWeWvyyf5Xlwd5a/J2a9GMqJlr8Cnx9GCI+Wv0n0Morllpa/9fOmIhXGlr/xun7BbtiWv5mByvj3GZe/d/NUh9wMl79JumbyzTaXv065wrtcxJe/H4DUJk7ul7/tDb4wmSqYv/q4NlSM85e/Z5sb0xOWmL9jYvNxbaiYvz2bVZ+rrZi/eEXwv5XsmL+7YduizAaZvyAMPPceLpm/7ZklAWpqmb/tmSUBamqZv7snDwu1ppm/6SYxCKwcmr8YYB+duvKZvz0nvW987Zm/ke18PzVemr+eXinLEMeav3SYLy/APpq/opdRLLe0mr9rYKsEi8OZv33Qs1n1uZq/v2A3bFuUmb/u68A5I0qbv07RkVz+Q5q/G/UQje4glr/gvg6cM6KUv5hp+1dWmpS/YviImBJJlL+yhSAHJcyUv6orn+V5cJe/MbYQ5KCEmb9z9Pi9TX+Wv/ryAuyjU5e/",
          "dtype": "f8"
         }
        },
        {
         "mode": "lines",
         "name": "4.6",
         "type": "scatter",
         "x": {
          "bdata": "BAEDAQIBAQEAAf8A/gD9APwA+wD6APkA+AD3APYA9QD0APMA8gDxAPAA7wDuAO0A7ADrAOoA6QDoAOcA5gDlAOQA4wDiAOEA4ADfAN4A3QDcANsA2gDZANgA1wDWANUA1ADTANIA0QDQAM8AzgDNAMwAywDKAMkA",
          "dtype": "i2"
         },
         "y": {
          "bdata": "w7tcxHdilr93LSEf9GyWv8O7XMR3Ypa/x/SEJR5Qlr8KEXAIVWqWv8O7XMR3Ypa/Vp+rrdhflr9RZoNMMnKWvwoRcAhVapa/ChFwCFVqlr8KEXAIVWqWv1afq63YX5a/LJ/leXB3lr8G2EenrnyWvyyf5Xlwd5a/BthHp658lr9NLVvri4SWv3P0+L1Nf5a/2J5ZEqCmlr/5LM+Du7OWv/ksz4O7s5a/y/Pg7qzdlr/L8+DurN2Wv2+BBMWPMZe/LGUZ4lgXl7/1udqK/WWXvxMPKJtyhZe/VisTfqmfl79OucK7XMSXv/q4NlSM85e/5ZttbkxPmL+A8Qwa+ieYv/63kh0bgZi/iSmRRC+jmL+zKVd4l4uYv1rwoq8gzZi/yAxUxr/PmL94RfC/leyYvw9iZwqd15i/Un5S7dPxmL/D0ytlGeKYv+EoeXWOAZm/ngyOklfnmL94CyQofoyZv0rSNZNvtpm/Sphp+1dWmr+JtfgUAOOZv69Cyk+qfZq/s7W+SGjLmb8P7s7abReav79gN2xblJm/YJM16iEajb/9wcBz7+GSv28vaYzWUZW/RbsKKT+plr/L8+DurN2Wv66ek943vpa/D+7O2m0Xmr/Y8PRKWYaYv88UOq+xS5S/",
          "dtype": "f8"
         }
        },
        {
         "mode": "lines",
         "name": "6.19",
         "type": "scatter",
         "x": {
          "bdata": "BAEDAQIBAQEAAf8A/gD9APwA+wD6APkA+AD3APYA9QD0APMA8gDxAPAA7wDuAO0A7ADrAOoA6QDoAOcA5gDlAOQA4wDiAOEA4ADfAN4A3QDcANsA2gDZANgA1wDWANUA1ADTANIA0QDQAM8AzgDNAMwAywDKAMkA",
          "dtype": "i2"
         },
         "y": {
          "bdata": "dy0hH/Rslr/kSdI1k2+Wvyyf5Xlwd5a/LJ/leXB3lr/kSdI1k2+WvwoRcAhVapa/5EnSNZNvlr+d9L7xtWeWv+RJ0jWTb5a/v4I0Y9F0lr+d9L7xtWeWv7+CNGPRdJa/4BCq1OyBlr9z9Pi9TX+Wv5m7lpAPepa/ukkMAiuHlr/c14FzRpSWv0n0Morllpa/thDkoISZlr+y17s/3quWvx/0bFZ9rpa/rp6T3je+lr9e1y/YDduWv6HzGrtE9Za/3J212y40l78CZVOu8C6XvxuBeF2/YJe/hGQBE7h1l7/xgLIpV3iXv5lH/mDguZe/Cp3X2CWql79BDkqYafuXv8dGIF7XL5i/7Q2+MJkqmL/DDfj8MEKYv8x/SL99HZi/6dSVz/I8mL/U8ZiByviXv51GWipvR5i/PZtVn6utmL9KRs7CnnaYv8x/SL99HZi/OWItPgXAmL9KDAIrhxaZv/59xoUDIZm/fH4YITzamL/YtiizQSaZv0oMAiuHFpm/Y2LzcW2omL9Hj9/b9GefvxkcJa/OMaC/NlmjHqLRjb+lFHR7SWOUv1Fmg0wycpa/WmQ730+Nl78Sa/EpAMaTv7aEfNCzWZW/N2xblNkgk7/sL7snDwuVv88sCVBTy5a/",
          "dtype": "f8"
         }
        },
        {
         "mode": "lines",
         "name": "7.73",
         "type": "scatter",
         "x": {
          "bdata": "BAEDAQIBAQEAAf8A/gD9APwA+wD6APkA+AD3APYA9QD0APMA8gDxAPAA7wDuAO0A7ADrAOoA6QDoAOcA5gDlAOQA4wDiAOEA4ADfAN4A3QDcANsA2gDZANgA1wDWANUA1ADTANIA0QDQAM8AzgDNAMwAywDKAMkA",
          "dtype": "i2"
         },
         "y": {
          "bdata": "LJ/leXB3lr8w2A3bFmWWvwoRcAhVapa/MNgN2xZllr93LSEf9GyWv+iC+pY5XZa/mbuWkA96lr8sn+V5cHeWv5m7lpAPepa/UWaDTDJylr9z9Pi9TX+Wv1Fmg0wycpa/TS1b64uElr9z9Pi9TX+Wv+AQqtTsgZa/4BCq1OyBlr8jLZW3I5yWvyMtlbcjnJa/Iy2VtyOclr9BguLHmLuWv7LXuz/eq5a/iNf1C3bDlr8TSfQyiuWWv+2BVmDI6pa/I/PIHww8l7+duvJZngeXvyPzyB8MPJe/6Q5iZwqdl7/l1TkGZK+Xvw/W/znMl5e/+rg2VIzzl7+IY13cRgOYv9gqweJw5pe/E9VbA1slmL+/1M+bilSYv0VHcvkP6Ze/Fw6EZAETmL+3nEtxVdmXv51GWipvR5i/Z9Xnaiv2l794f7xXrUyYv/63kh0bgZi/NSkF3V7SmL9nmxvTE5aYvzG2EOSghJm/PWGJB5RNmb+7Jw8LtaaZv5I/GHjuPZy/+grSjEXTmb+WsgxxrIurvx6KAn0iT6K/ZjGx+bg2lL8012mkpfKWv1OWIY51cZu/MEymCkYllb/s3R/vVSuTv4OG/gkuVpS/rp6T3je+lr9ftTLhl/qZv7qD2JlC55W/",
          "dtype": "f8"
         }
        }
       ],
       "layout": {
        "legend": {
         "title": {
          "text": "C denaturante [μM]"
         },
         "x": 1,
         "xanchor": "right",
         "y": 0,
         "yanchor": "bottom"
        },
        "template": {
         "data": {
          "bar": [
           {
            "error_x": {
             "color": "#2a3f5f"
            },
            "error_y": {
             "color": "#2a3f5f"
            },
            "marker": {
             "line": {
              "color": "#E5ECF6",
              "width": 0.5
             },
             "pattern": {
              "fillmode": "overlay",
              "size": 10,
              "solidity": 0.2
             }
            },
            "type": "bar"
           }
          ],
          "barpolar": [
           {
            "marker": {
             "line": {
              "color": "#E5ECF6",
              "width": 0.5
             },
             "pattern": {
              "fillmode": "overlay",
              "size": 10,
              "solidity": 0.2
             }
            },
            "type": "barpolar"
           }
          ],
          "carpet": [
           {
            "aaxis": {
             "endlinecolor": "#2a3f5f",
             "gridcolor": "white",
             "linecolor": "white",
             "minorgridcolor": "white",
             "startlinecolor": "#2a3f5f"
            },
            "baxis": {
             "endlinecolor": "#2a3f5f",
             "gridcolor": "white",
             "linecolor": "white",
             "minorgridcolor": "white",
             "startlinecolor": "#2a3f5f"
            },
            "type": "carpet"
           }
          ],
          "choropleth": [
           {
            "colorbar": {
             "outlinewidth": 0,
             "ticks": ""
            },
            "type": "choropleth"
           }
          ],
          "contour": [
           {
            "colorbar": {
             "outlinewidth": 0,
             "ticks": ""
            },
            "colorscale": [
             [
              0,
              "#0d0887"
             ],
             [
              0.1111111111111111,
              "#46039f"
             ],
             [
              0.2222222222222222,
              "#7201a8"
             ],
             [
              0.3333333333333333,
              "#9c179e"
             ],
             [
              0.4444444444444444,
              "#bd3786"
             ],
             [
              0.5555555555555556,
              "#d8576b"
             ],
             [
              0.6666666666666666,
              "#ed7953"
             ],
             [
              0.7777777777777778,
              "#fb9f3a"
             ],
             [
              0.8888888888888888,
              "#fdca26"
             ],
             [
              1,
              "#f0f921"
             ]
            ],
            "type": "contour"
           }
          ],
          "contourcarpet": [
           {
            "colorbar": {
             "outlinewidth": 0,
             "ticks": ""
            },
            "type": "contourcarpet"
           }
          ],
          "heatmap": [
           {
            "colorbar": {
             "outlinewidth": 0,
             "ticks": ""
            },
            "colorscale": [
             [
              0,
              "#0d0887"
             ],
             [
              0.1111111111111111,
              "#46039f"
             ],
             [
              0.2222222222222222,
              "#7201a8"
             ],
             [
              0.3333333333333333,
              "#9c179e"
             ],
             [
              0.4444444444444444,
              "#bd3786"
             ],
             [
              0.5555555555555556,
              "#d8576b"
             ],
             [
              0.6666666666666666,
              "#ed7953"
             ],
             [
              0.7777777777777778,
              "#fb9f3a"
             ],
             [
              0.8888888888888888,
              "#fdca26"
             ],
             [
              1,
              "#f0f921"
             ]
            ],
            "type": "heatmap"
           }
          ],
          "histogram": [
           {
            "marker": {
             "pattern": {
              "fillmode": "overlay",
              "size": 10,
              "solidity": 0.2
             }
            },
            "type": "histogram"
           }
          ],
          "histogram2d": [
           {
            "colorbar": {
             "outlinewidth": 0,
             "ticks": ""
            },
            "colorscale": [
             [
              0,
              "#0d0887"
             ],
             [
              0.1111111111111111,
              "#46039f"
             ],
             [
              0.2222222222222222,
              "#7201a8"
             ],
             [
              0.3333333333333333,
              "#9c179e"
             ],
             [
              0.4444444444444444,
              "#bd3786"
             ],
             [
              0.5555555555555556,
              "#d8576b"
             ],
             [
              0.6666666666666666,
              "#ed7953"
             ],
             [
              0.7777777777777778,
              "#fb9f3a"
             ],
             [
              0.8888888888888888,
              "#fdca26"
             ],
             [
              1,
              "#f0f921"
             ]
            ],
            "type": "histogram2d"
           }
          ],
          "histogram2dcontour": [
           {
            "colorbar": {
             "outlinewidth": 0,
             "ticks": ""
            },
            "colorscale": [
             [
              0,
              "#0d0887"
             ],
             [
              0.1111111111111111,
              "#46039f"
             ],
             [
              0.2222222222222222,
              "#7201a8"
             ],
             [
              0.3333333333333333,
              "#9c179e"
             ],
             [
              0.4444444444444444,
              "#bd3786"
             ],
             [
              0.5555555555555556,
              "#d8576b"
             ],
             [
              0.6666666666666666,
              "#ed7953"
             ],
             [
              0.7777777777777778,
              "#fb9f3a"
             ],
             [
              0.8888888888888888,
              "#fdca26"
             ],
             [
              1,
              "#f0f921"
             ]
            ],
            "type": "histogram2dcontour"
           }
          ],
          "mesh3d": [
           {
            "colorbar": {
             "outlinewidth": 0,
             "ticks": ""
            },
            "type": "mesh3d"
           }
          ],
          "parcoords": [
           {
            "line": {
             "colorbar": {
              "outlinewidth": 0,
              "ticks": ""
             }
            },
            "type": "parcoords"
           }
          ],
          "pie": [
           {
            "automargin": true,
            "type": "pie"
           }
          ],
          "scatter": [
           {
            "fillpattern": {
             "fillmode": "overlay",
             "size": 10,
             "solidity": 0.2
            },
            "type": "scatter"
           }
          ],
          "scatter3d": [
           {
            "line": {
             "colorbar": {
              "outlinewidth": 0,
              "ticks": ""
             }
            },
            "marker": {
             "colorbar": {
              "outlinewidth": 0,
              "ticks": ""
             }
            },
            "type": "scatter3d"
           }
          ],
          "scattercarpet": [
           {
            "marker": {
             "colorbar": {
              "outlinewidth": 0,
              "ticks": ""
             }
            },
            "type": "scattercarpet"
           }
          ],
          "scattergeo": [
           {
            "marker": {
             "colorbar": {
              "outlinewidth": 0,
              "ticks": ""
             }
            },
            "type": "scattergeo"
           }
          ],
          "scattergl": [
           {
            "marker": {
             "colorbar": {
              "outlinewidth": 0,
              "ticks": ""
             }
            },
            "type": "scattergl"
           }
          ],
          "scattermap": [
           {
            "marker": {
             "colorbar": {
              "outlinewidth": 0,
              "ticks": ""
             }
            },
            "type": "scattermap"
           }
          ],
          "scattermapbox": [
           {
            "marker": {
             "colorbar": {
              "outlinewidth": 0,
              "ticks": ""
             }
            },
            "type": "scattermapbox"
           }
          ],
          "scatterpolar": [
           {
            "marker": {
             "colorbar": {
              "outlinewidth": 0,
              "ticks": ""
             }
            },
            "type": "scatterpolar"
           }
          ],
          "scatterpolargl": [
           {
            "marker": {
             "colorbar": {
              "outlinewidth": 0,
              "ticks": ""
             }
            },
            "type": "scatterpolargl"
           }
          ],
          "scatterternary": [
           {
            "marker": {
             "colorbar": {
              "outlinewidth": 0,
              "ticks": ""
             }
            },
            "type": "scatterternary"
           }
          ],
          "surface": [
           {
            "colorbar": {
             "outlinewidth": 0,
             "ticks": ""
            },
            "colorscale": [
             [
              0,
              "#0d0887"
             ],
             [
              0.1111111111111111,
              "#46039f"
             ],
             [
              0.2222222222222222,
              "#7201a8"
             ],
             [
              0.3333333333333333,
              "#9c179e"
             ],
             [
              0.4444444444444444,
              "#bd3786"
             ],
             [
              0.5555555555555556,
              "#d8576b"
             ],
             [
              0.6666666666666666,
              "#ed7953"
             ],
             [
              0.7777777777777778,
              "#fb9f3a"
             ],
             [
              0.8888888888888888,
              "#fdca26"
             ],
             [
              1,
              "#f0f921"
             ]
            ],
            "type": "surface"
           }
          ],
          "table": [
           {
            "cells": {
             "fill": {
              "color": "#EBF0F8"
             },
             "line": {
              "color": "white"
             }
            },
            "header": {
             "fill": {
              "color": "#C8D4E3"
             },
             "line": {
              "color": "white"
             }
            },
            "type": "table"
           }
          ]
         },
         "layout": {
          "annotationdefaults": {
           "arrowcolor": "#2a3f5f",
           "arrowhead": 0,
           "arrowwidth": 1
          },
          "autotypenumbers": "strict",
          "coloraxis": {
           "colorbar": {
            "outlinewidth": 0,
            "ticks": ""
           }
          },
          "colorscale": {
           "diverging": [
            [
             0,
             "#8e0152"
            ],
            [
             0.1,
             "#c51b7d"
            ],
            [
             0.2,
             "#de77ae"
            ],
            [
             0.3,
             "#f1b6da"
            ],
            [
             0.4,
             "#fde0ef"
            ],
            [
             0.5,
             "#f7f7f7"
            ],
            [
             0.6,
             "#e6f5d0"
            ],
            [
             0.7,
             "#b8e186"
            ],
            [
             0.8,
             "#7fbc41"
            ],
            [
             0.9,
             "#4d9221"
            ],
            [
             1,
             "#276419"
            ]
           ],
           "sequential": [
            [
             0,
             "#0d0887"
            ],
            [
             0.1111111111111111,
             "#46039f"
            ],
            [
             0.2222222222222222,
             "#7201a8"
            ],
            [
             0.3333333333333333,
             "#9c179e"
            ],
            [
             0.4444444444444444,
             "#bd3786"
            ],
            [
             0.5555555555555556,
             "#d8576b"
            ],
            [
             0.6666666666666666,
             "#ed7953"
            ],
            [
             0.7777777777777778,
             "#fb9f3a"
            ],
            [
             0.8888888888888888,
             "#fdca26"
            ],
            [
             1,
             "#f0f921"
            ]
           ],
           "sequentialminus": [
            [
             0,
             "#0d0887"
            ],
            [
             0.1111111111111111,
             "#46039f"
            ],
            [
             0.2222222222222222,
             "#7201a8"
            ],
            [
             0.3333333333333333,
             "#9c179e"
            ],
            [
             0.4444444444444444,
             "#bd3786"
            ],
            [
             0.5555555555555556,
             "#d8576b"
            ],
            [
             0.6666666666666666,
             "#ed7953"
            ],
            [
             0.7777777777777778,
             "#fb9f3a"
            ],
            [
             0.8888888888888888,
             "#fdca26"
            ],
            [
             1,
             "#f0f921"
            ]
           ]
          },
          "colorway": [
           "#636efa",
           "#EF553B",
           "#00cc96",
           "#ab63fa",
           "#FFA15A",
           "#19d3f3",
           "#FF6692",
           "#B6E880",
           "#FF97FF",
           "#FECB52"
          ],
          "font": {
           "color": "#2a3f5f"
          },
          "geo": {
           "bgcolor": "white",
           "lakecolor": "white",
           "landcolor": "#E5ECF6",
           "showlakes": true,
           "showland": true,
           "subunitcolor": "white"
          },
          "hoverlabel": {
           "align": "left"
          },
          "hovermode": "closest",
          "mapbox": {
           "style": "light"
          },
          "paper_bgcolor": "white",
          "plot_bgcolor": "#E5ECF6",
          "polar": {
           "angularaxis": {
            "gridcolor": "white",
            "linecolor": "white",
            "ticks": ""
           },
           "bgcolor": "#E5ECF6",
           "radialaxis": {
            "gridcolor": "white",
            "linecolor": "white",
            "ticks": ""
           }
          },
          "scene": {
           "xaxis": {
            "backgroundcolor": "#E5ECF6",
            "gridcolor": "white",
            "gridwidth": 2,
            "linecolor": "white",
            "showbackground": true,
            "ticks": "",
            "zerolinecolor": "white"
           },
           "yaxis": {
            "backgroundcolor": "#E5ECF6",
            "gridcolor": "white",
            "gridwidth": 2,
            "linecolor": "white",
            "showbackground": true,
            "ticks": "",
            "zerolinecolor": "white"
           },
           "zaxis": {
            "backgroundcolor": "#E5ECF6",
            "gridcolor": "white",
            "gridwidth": 2,
            "linecolor": "white",
            "showbackground": true,
            "ticks": "",
            "zerolinecolor": "white"
           }
          },
          "shapedefaults": {
           "line": {
            "color": "#2a3f5f"
           }
          },
          "ternary": {
           "aaxis": {
            "gridcolor": "white",
            "linecolor": "white",
            "ticks": ""
           },
           "baxis": {
            "gridcolor": "white",
            "linecolor": "white",
            "ticks": ""
           },
           "bgcolor": "#E5ECF6",
           "caxis": {
            "gridcolor": "white",
            "linecolor": "white",
            "ticks": ""
           }
          },
          "title": {
           "x": 0.05
          },
          "xaxis": {
           "automargin": true,
           "gridcolor": "white",
           "linecolor": "white",
           "ticks": "",
           "title": {
            "standoff": 15
           },
           "zerolinecolor": "white",
           "zerolinewidth": 2
          },
          "yaxis": {
           "automargin": true,
           "gridcolor": "white",
           "linecolor": "white",
           "ticks": "",
           "title": {
            "standoff": 15
           },
           "zerolinecolor": "white",
           "zerolinewidth": 2
          }
         }
        },
        "xaxis": {
         "title": {
          "text": "λ [nm]"
         }
        },
        "yaxis": {
         "range": [
          -0.037,
          -0.013
         ],
         "title": {
          "text": "θ [deg]"
         }
        }
       }
      }
     },
     "metadata": {},
     "output_type": "display_data"
    }
   ],
   "source": [
    "import plotly.graph_objects as go\n",
    "\n",
    "fig = go.Figure()\n",
    "for conc,c in zip(['C0', 'C1', 'C2', 'C3', 'C4', 'C5'],concentrazioni):\n",
    "    fig.add_trace(go.Scatter(\n",
    "        x=spettriRAW['λ'],\n",
    "        y=spettriRAW[conc],\n",
    "        mode='lines',\n",
    "        name=np.round(c,2)\n",
    "    ))\n",
    "\n",
    "fig.update_layout(\n",
    "    xaxis_title='λ [nm]',\n",
    "    yaxis_title='θ [deg]',\n",
    "    # title='Dati raccolti',\n",
    "    legend_title='C denaturante [μM]',\n",
    "    legend=dict(\n",
    "        x=1,\n",
    "        y=0,\n",
    "        xanchor='right',\n",
    "        yanchor='bottom',\n",
    "        # font=dict(size=10),  # Make legend font smaller\n",
    "    ),\n",
    "    yaxis=dict(range=[-0.037, -0.013])\n",
    ")\n",
    "\n",
    "fig.write_image('./images/spettro_raccolto.png')\n",
    "fig.write_html('./html/spettro_raccolto.html')\n",
    "fig.show()"
   ]
  },
  {
   "cell_type": "markdown",
   "id": "470682bd",
   "metadata": {},
   "source": [
    "### APPAIO LE CODE"
   ]
  },
  {
   "cell_type": "code",
   "execution_count": 13,
   "id": "f022f538",
   "metadata": {},
   "outputs": [
    {
     "data": {
      "application/vnd.plotly.v1+json": {
       "config": {
        "plotlyServerURL": "https://plot.ly"
       },
       "data": [
        {
         "mode": "lines",
         "name": "0.0",
         "type": "scatter",
         "x": {
          "bdata": "BAEDAQIBAQEAAf8A/gD9APwA+wD6APkA+AD3APYA9QD0APMA8gDxAPAA7wDuAO0A7ADrAOoA6QDoAOcA5gDlAOQA4wDiAOEA4ADfAN4A3QDcANsA2gDZANgA1wDWANUA1ADTANIA0QDQAM8AzgDNAMwAywDKAMkA",
          "dtype": "i2"
         },
         "y": {
          "bdata": "AFqkDDzdTsAAWqQMPN1OQADKwNOt+WBAAGgvob2EUkCAaC+hvYRiQIAGnm7ND2TAAOjp1vywKMAA5OnW/LA4wAAAAAAAAJC9gAaebs0PZMAAWaQMPN1ewABCewntJWfAgJEy8HTrd8CAflikDDx6wGB7Ce0lNIDA4HEcx3FcgcAAYpEy8LSNwJD2EtpLyJDAEJ5uzQ8rkcCQlIGnW1OSwBDHcRzHkZbAgODp1vywmMAwUgaebm2awECO4ziOg53AgAntJbQXnsAQ7SW0l/ChwBB4ujU/zKXA+MMiZeBZpMDIImXg6WaowBCLlIGnS6vAIHi6NT+crcB0HMdxHA+wwFhVVVVV7bDAqFvzwyJ1scCYHxYpA0eywDChvYT2YrPAxCJl4Ol+tMC8NT8sUha2wCDHcRzHkbbAXKQMPN2CucDgmh8WKau6wNReQnsJfbvAwJfQXkJbvMBAPyxSBr68wOA4juM4NrzACJ5uzQ/jvMDAl9BeQlu8wAiebs0P47zAEIuUgadLu8BUBp5uzd+7wCAWKQNPP7vAuEgZeLqVu8BsflikDDy6wBA83ZofnrbAwIT2EtrzssCYHxYpA0eywJCUgadbU6LAqFvzwyJ1ocDgImXg6ZaAwLBIGXi6lZtA",
          "dtype": "f8"
         }
        },
        {
         "mode": "lines",
         "name": "1.57",
         "type": "scatter",
         "x": {
          "bdata": "BAEDAQIBAQEAAf8A/gD9APwA+wD6APkA+AD3APYA9QD0APMA8gDxAPAA7wDuAO0A7ADrAOoA6QDoAOcA5gDlAOQA4wDiAOEA4ADfAN4A3QDcANsA2gDZANgA1wDWANUA1ADTANIA0QDQAM8AzgDNAMwAywDKAMkA",
          "dtype": "i2"
         },
         "y": {
          "bdata": "AAhznQlRIcAALAslSxJEwACQ07sPVhxAAEyjrIzTNkAAyHZUzQFIwADaKLXKSENAAJDTuw9WHEAA2ii1ykhDQADwZ4yNZjjAAJDTuw9WHEAAMJibEOktQACAeguRsj5AAAhznQlRIcAAYuKDT/FLwADN6WfvvlvAgDTxhpvCZMAA6IEqPbZnwACcEs7eqWrAQOh0lnFEccCAD/N/A7Z0wECQOTtmoXnAwHYUx0adesCgAtr7DfuBwGA9F9poJYfAwH26NxqbicAQCeDzoh+QwKAZ7KjAMpPAwOlUAC3Qk8DwtgoY7seVwJCaMmQjHpjAYHVB8VaDnsCARapIwyCfwODyvfvNLaDA+Fe/59jWocAQk4+qpmihwHBuMRxNNaLACFUMqC0xo8AwjSkrUB2kwNjbuOLmZ6XASBxcQJjdp8AodiQSaVepwNDEs8n/oarAsPRKcpMEqsC4hjDHhmqswNDrMbORE67AuIYwx4ZqrMCgjJZG3bWpwOjVUmOQHKjA0MSzyf+hqsAYDnDmsgipwIDmXhiuL6vAIP+ga7tfn8CAD/N/A7Z0wGCP7LUdfYHATDEPbkQ9zEAAmBIJ699TwKgXeVqSP5ZAoL89/4acnkDABZrPhBJ3QAA+ZF+xSV9A",
          "dtype": "f8"
         }
        },
        {
         "mode": "lines",
         "name": "3.09",
         "type": "scatter",
         "x": {
          "bdata": "BAEDAQIBAQEAAf8A/gD9APwA+wD6APkA+AD3APYA9QD0APMA8gDxAPAA7wDuAO0A7ADrAOoA6QDoAOcA5gDlAOQA4wDiAOEA4ADfAN4A3QDcANsA2gDZANgA1wDWANUA1ADTANIA0QDQAM8AzgDNAMwAywDKAMkA",
          "dtype": "i2"
         },
         "y": {
          "bdata": "AFiz/rdoNMAAAOGAgpzZvwAA4YCCnNm/ALSTpLXOIMAAUBINvzYvQABAC/naaR5AAKbysrycO0AACNpsns8owABAC/naaR5AAC6QmkNoMMAAQAv52mkeQAAI2myezyjAAC6QmkNoMMAAfM9OSJw3QABQEg2/Ni9AAFbmjy02SsAAAqDHRDVCwACCCfShNk7AAEtCqRwcVsAA4VPbVhxYwIBAbiauHFvAAECG9FyPZsCABSXMwg9qwGB1iUKXSHPAAHg+43IIcsCgomFH5wh2wEAprAw4xYHAgL69PnLFg8AgBbfmxaWGwDDx/4R5BYTAwBMEB1vGi8AQxet8dKaMwMD3LcN75ozAwFdIDtPmj8CAqsm2e5OQwIDoQf6Wg5HAyIs+0sDzksDIiz7SwPOSwCAvO6bqY5TAEOmjfDw0l8BwHptjHzSWwBgFesAbFJbAuKXB82nEmMBYoFeyskSbwMAN+yBUBJjAuMdj96XUmsBwOnGn/hOVwBDhhJqp9JrAcFZH693zk8CoGZOgDWWewBAnHMRXJJjAgF4dQG/oUUBAHuTwIH+EQEBqR9or34RAiHtJm5y/iEDwiNK+5n6CQED9EVGHiXvAeArkAdOTk8AAIR9FqBtSwODPOUw3yXjA",
          "dtype": "f8"
         }
        },
        {
         "mode": "lines",
         "name": "4.6",
         "type": "scatter",
         "x": {
          "bdata": "BAEDAQIBAQEAAf8A/gD9APwA+wD6APkA+AD3APYA9QD0APMA8gDxAPAA7wDuAO0A7ADrAOoA6QDoAOcA5gDlAOQA4wDiAOEA4ADfAN4A3QDcANsA2gDZANgA1wDWANUA1ADTANIA0QDQAM8AzgDNAMwAywDKAMkA",
          "dtype": "i2"
         },
         "y": {
          "bdata": "APhguQWbB0AAJBddzR0fwAD4YLkFmwdAAHRz0FO6NUAAPKVO+WIUwAD4YLkFmwdAAGAi61aIFkAAeP28ukkqwAA8pU75YhTAADylTvliFMAAPKVO+WIUwABgIutWiBZAALC3ZUeCMsAApfBssd83wACwt2VHgjLAAKXwbLHfN8AAEcZ30Os/wAAejXBmjjrAwBCuacCyUMAAqTGuIg1UwACpMa4iDVTAgJCjvPbHXsCAkKO89sdewMCvw2zPHmrAQBdAKG3EZsAgcOX6yWlwwKDLmr3RbHLAwJfc3wIadMBwggVD4XJ2wICLFedsd3nAINb73phVf8DQI5krz9F8wGDToumHQoHA8GQac4FZgsCoYhaKXpiBwNCh6PTbsIPAqIUFnVHGg8CQT0PWX7KEwBgxXJWyBoTAKBd9JkvdhMBIwM81iVyEwAhuKhcNXoXA8IcJhnSHhMDglyXlaM+JwNDU82bDJovAkA7rOuYhkMCQ9d6Qk5OMwCS7w6fYwpDASPPap3DSi8C4wSCzxECOwEhDfN3JD4rAnYgDmQwOoEB4t1GcycKMQADa66LOnnFAAC+Vqm1eUcCAkKO89sdewMAizrHXu1bAuMEgs8RAjsAIm9w5c22BwOjpvvxcMYFA",
          "dtype": "f8"
         }
        },
        {
         "mode": "lines",
         "name": "6.19",
         "type": "scatter",
         "x": {
          "bdata": "BAEDAQIBAQEAAf8A/gD9APwA+wD6APkA+AD3APYA9QD0APMA8gDxAPAA7wDuAO0A7ADrAOoA6QDoAOcA5gDlAOQA4wDiAOEA4ADfAN4A3QDcANsA2gDZANgA1wDWANUA1ADTANIA0QDQAM8AzgDNAMwAywDKAMkA",
          "dtype": "i2"
         },
         "y": {
          "bdata": "AOD1E8kmA0AAAJ0aDInZPwCMSZfqVxbAAIxJl+pXFsAAAJ0aDInZPwAMTFI4jhFAAACdGgyJ2T8ALJ0aDIkZQAAAnRoMidk/AODwnS26DMAALJ0aDIkZQADg8J0tugzAAARH3JwhK8AAdh74MiQnwACwml++Uh7AABFMUjiOMcAAebEMwYc7wADAxf51hj3AAAja8CqFP8AA/7PHDr5GwAAjvkBpvUfAgPr6Foi5TcCAQjWlNVlUwAD2ZwL6VVnAQNJw1xunYsBgwOuabidiwMDq21lc5GbAgDLwSxHjaMBguzLq5yJpwMAbsl7dXm/A4OUiqdXfbcAAvphpac1ywKAXMpjLS3XAsI7v+fQLdcAA9xrCOit2wEA4SW5cbHTAEG7YI2TrdcCAeXcafq1ywACAXWARa3bA8O5ubupHe8DQULTwnKl4wEA4SW5cbHTAYM5XmFknfMAw0dBlVyKAwCBaEwQuYoDAMHukr4pmfcCgnjRTGYKAwDDR0GVXIoDA8GUs0BMIe8Bc7LMgtEybwABY0ovDSp7A5pHinL7qlkAwKAQVOPZ4QAAwnRoMifm/IANH3Jwha8CkGmhQrziAQEAFmg2ie2pA7AcAjSMmhEAwCbNMZPtwQADXFjomW1HA",
          "dtype": "f8"
         }
        },
        {
         "mode": "lines",
         "name": "7.73",
         "type": "scatter",
         "x": {
          "bdata": "BAEDAQIBAQEAAf8A/gD9APwA+wD6APkA+AD3APYA9QD0APMA8gDxAPAA7wDuAO0A7ADrAOoA6QDoAOcA5gDlAOQA4wDiAOEA4ADfAN4A3QDcANsA2gDZANgA1wDWANUA1ADTANIA0QDQAM8AzgDNAMwAywDKAMkA",
          "dtype": "i2"
         },
         "y": {
          "bdata": "AIbBarwSFcAAuMG1pKAXQACYgX02tgVAALjBtaSgF0AAWAENWuHxPwCRIXR5ZCVAAABCJoF1G8AAhsFqvBIVwAAAQiaBdRvAACyB52WaAMAAdqFOhR0kwAAsgedlmgDAAOwhCkqAKsAAdqFOhR0kwACxYaznTifAALFhrOdOJ8CAAfKqX547wIAB8qpfnjvAgAHyql+eO8CAs7nuVmNHwABaGWJDmULAwN8JtWDIScDAUN0ycBRSwIBfTcrI4FLAwEWW9SVAX8BAsTULsERXwMBFlvUlQF/AgKyXc0YCZ8CQxpt84WdowCCl3ycanGbAICf0VCGYbcBwPRw4pspuwKAUqJeymGzA6DYkEmOxcMBYWOBmKn1ywFAYhL3Iy2zAwFNEGyv9b8AQAlzaQ5lrwBBPOghz/XHA4CrQejfLbcDIUhYuiTBywOh3rqhmL3TAkLGA8z1Hd8DIhh5Av/t0wPAvufouEH7A6Agzbcb3e8AYSM/wPlx/wCiPA1NYTYzA1LNOmT2HgMB24nvIkeOzwNIhUWQiR6HAyJLeUjmfdUDgdXWtTRNUwLBGwXAoaYjAQNOHMJMVaUBYULPdosx/QHh8tm+0bHRAQMIphq8vSMDIwUen0EaBwKCA3X1YolRA",
          "dtype": "f8"
         }
        }
       ],
       "layout": {
        "legend": {
         "title": {
          "text": "C denaturante [μM]"
         },
         "x": 1,
         "xanchor": "right",
         "y": 0,
         "yanchor": "bottom"
        },
        "template": {
         "data": {
          "bar": [
           {
            "error_x": {
             "color": "#2a3f5f"
            },
            "error_y": {
             "color": "#2a3f5f"
            },
            "marker": {
             "line": {
              "color": "#E5ECF6",
              "width": 0.5
             },
             "pattern": {
              "fillmode": "overlay",
              "size": 10,
              "solidity": 0.2
             }
            },
            "type": "bar"
           }
          ],
          "barpolar": [
           {
            "marker": {
             "line": {
              "color": "#E5ECF6",
              "width": 0.5
             },
             "pattern": {
              "fillmode": "overlay",
              "size": 10,
              "solidity": 0.2
             }
            },
            "type": "barpolar"
           }
          ],
          "carpet": [
           {
            "aaxis": {
             "endlinecolor": "#2a3f5f",
             "gridcolor": "white",
             "linecolor": "white",
             "minorgridcolor": "white",
             "startlinecolor": "#2a3f5f"
            },
            "baxis": {
             "endlinecolor": "#2a3f5f",
             "gridcolor": "white",
             "linecolor": "white",
             "minorgridcolor": "white",
             "startlinecolor": "#2a3f5f"
            },
            "type": "carpet"
           }
          ],
          "choropleth": [
           {
            "colorbar": {
             "outlinewidth": 0,
             "ticks": ""
            },
            "type": "choropleth"
           }
          ],
          "contour": [
           {
            "colorbar": {
             "outlinewidth": 0,
             "ticks": ""
            },
            "colorscale": [
             [
              0,
              "#0d0887"
             ],
             [
              0.1111111111111111,
              "#46039f"
             ],
             [
              0.2222222222222222,
              "#7201a8"
             ],
             [
              0.3333333333333333,
              "#9c179e"
             ],
             [
              0.4444444444444444,
              "#bd3786"
             ],
             [
              0.5555555555555556,
              "#d8576b"
             ],
             [
              0.6666666666666666,
              "#ed7953"
             ],
             [
              0.7777777777777778,
              "#fb9f3a"
             ],
             [
              0.8888888888888888,
              "#fdca26"
             ],
             [
              1,
              "#f0f921"
             ]
            ],
            "type": "contour"
           }
          ],
          "contourcarpet": [
           {
            "colorbar": {
             "outlinewidth": 0,
             "ticks": ""
            },
            "type": "contourcarpet"
           }
          ],
          "heatmap": [
           {
            "colorbar": {
             "outlinewidth": 0,
             "ticks": ""
            },
            "colorscale": [
             [
              0,
              "#0d0887"
             ],
             [
              0.1111111111111111,
              "#46039f"
             ],
             [
              0.2222222222222222,
              "#7201a8"
             ],
             [
              0.3333333333333333,
              "#9c179e"
             ],
             [
              0.4444444444444444,
              "#bd3786"
             ],
             [
              0.5555555555555556,
              "#d8576b"
             ],
             [
              0.6666666666666666,
              "#ed7953"
             ],
             [
              0.7777777777777778,
              "#fb9f3a"
             ],
             [
              0.8888888888888888,
              "#fdca26"
             ],
             [
              1,
              "#f0f921"
             ]
            ],
            "type": "heatmap"
           }
          ],
          "histogram": [
           {
            "marker": {
             "pattern": {
              "fillmode": "overlay",
              "size": 10,
              "solidity": 0.2
             }
            },
            "type": "histogram"
           }
          ],
          "histogram2d": [
           {
            "colorbar": {
             "outlinewidth": 0,
             "ticks": ""
            },
            "colorscale": [
             [
              0,
              "#0d0887"
             ],
             [
              0.1111111111111111,
              "#46039f"
             ],
             [
              0.2222222222222222,
              "#7201a8"
             ],
             [
              0.3333333333333333,
              "#9c179e"
             ],
             [
              0.4444444444444444,
              "#bd3786"
             ],
             [
              0.5555555555555556,
              "#d8576b"
             ],
             [
              0.6666666666666666,
              "#ed7953"
             ],
             [
              0.7777777777777778,
              "#fb9f3a"
             ],
             [
              0.8888888888888888,
              "#fdca26"
             ],
             [
              1,
              "#f0f921"
             ]
            ],
            "type": "histogram2d"
           }
          ],
          "histogram2dcontour": [
           {
            "colorbar": {
             "outlinewidth": 0,
             "ticks": ""
            },
            "colorscale": [
             [
              0,
              "#0d0887"
             ],
             [
              0.1111111111111111,
              "#46039f"
             ],
             [
              0.2222222222222222,
              "#7201a8"
             ],
             [
              0.3333333333333333,
              "#9c179e"
             ],
             [
              0.4444444444444444,
              "#bd3786"
             ],
             [
              0.5555555555555556,
              "#d8576b"
             ],
             [
              0.6666666666666666,
              "#ed7953"
             ],
             [
              0.7777777777777778,
              "#fb9f3a"
             ],
             [
              0.8888888888888888,
              "#fdca26"
             ],
             [
              1,
              "#f0f921"
             ]
            ],
            "type": "histogram2dcontour"
           }
          ],
          "mesh3d": [
           {
            "colorbar": {
             "outlinewidth": 0,
             "ticks": ""
            },
            "type": "mesh3d"
           }
          ],
          "parcoords": [
           {
            "line": {
             "colorbar": {
              "outlinewidth": 0,
              "ticks": ""
             }
            },
            "type": "parcoords"
           }
          ],
          "pie": [
           {
            "automargin": true,
            "type": "pie"
           }
          ],
          "scatter": [
           {
            "fillpattern": {
             "fillmode": "overlay",
             "size": 10,
             "solidity": 0.2
            },
            "type": "scatter"
           }
          ],
          "scatter3d": [
           {
            "line": {
             "colorbar": {
              "outlinewidth": 0,
              "ticks": ""
             }
            },
            "marker": {
             "colorbar": {
              "outlinewidth": 0,
              "ticks": ""
             }
            },
            "type": "scatter3d"
           }
          ],
          "scattercarpet": [
           {
            "marker": {
             "colorbar": {
              "outlinewidth": 0,
              "ticks": ""
             }
            },
            "type": "scattercarpet"
           }
          ],
          "scattergeo": [
           {
            "marker": {
             "colorbar": {
              "outlinewidth": 0,
              "ticks": ""
             }
            },
            "type": "scattergeo"
           }
          ],
          "scattergl": [
           {
            "marker": {
             "colorbar": {
              "outlinewidth": 0,
              "ticks": ""
             }
            },
            "type": "scattergl"
           }
          ],
          "scattermap": [
           {
            "marker": {
             "colorbar": {
              "outlinewidth": 0,
              "ticks": ""
             }
            },
            "type": "scattermap"
           }
          ],
          "scattermapbox": [
           {
            "marker": {
             "colorbar": {
              "outlinewidth": 0,
              "ticks": ""
             }
            },
            "type": "scattermapbox"
           }
          ],
          "scatterpolar": [
           {
            "marker": {
             "colorbar": {
              "outlinewidth": 0,
              "ticks": ""
             }
            },
            "type": "scatterpolar"
           }
          ],
          "scatterpolargl": [
           {
            "marker": {
             "colorbar": {
              "outlinewidth": 0,
              "ticks": ""
             }
            },
            "type": "scatterpolargl"
           }
          ],
          "scatterternary": [
           {
            "marker": {
             "colorbar": {
              "outlinewidth": 0,
              "ticks": ""
             }
            },
            "type": "scatterternary"
           }
          ],
          "surface": [
           {
            "colorbar": {
             "outlinewidth": 0,
             "ticks": ""
            },
            "colorscale": [
             [
              0,
              "#0d0887"
             ],
             [
              0.1111111111111111,
              "#46039f"
             ],
             [
              0.2222222222222222,
              "#7201a8"
             ],
             [
              0.3333333333333333,
              "#9c179e"
             ],
             [
              0.4444444444444444,
              "#bd3786"
             ],
             [
              0.5555555555555556,
              "#d8576b"
             ],
             [
              0.6666666666666666,
              "#ed7953"
             ],
             [
              0.7777777777777778,
              "#fb9f3a"
             ],
             [
              0.8888888888888888,
              "#fdca26"
             ],
             [
              1,
              "#f0f921"
             ]
            ],
            "type": "surface"
           }
          ],
          "table": [
           {
            "cells": {
             "fill": {
              "color": "#EBF0F8"
             },
             "line": {
              "color": "white"
             }
            },
            "header": {
             "fill": {
              "color": "#C8D4E3"
             },
             "line": {
              "color": "white"
             }
            },
            "type": "table"
           }
          ]
         },
         "layout": {
          "annotationdefaults": {
           "arrowcolor": "#2a3f5f",
           "arrowhead": 0,
           "arrowwidth": 1
          },
          "autotypenumbers": "strict",
          "coloraxis": {
           "colorbar": {
            "outlinewidth": 0,
            "ticks": ""
           }
          },
          "colorscale": {
           "diverging": [
            [
             0,
             "#8e0152"
            ],
            [
             0.1,
             "#c51b7d"
            ],
            [
             0.2,
             "#de77ae"
            ],
            [
             0.3,
             "#f1b6da"
            ],
            [
             0.4,
             "#fde0ef"
            ],
            [
             0.5,
             "#f7f7f7"
            ],
            [
             0.6,
             "#e6f5d0"
            ],
            [
             0.7,
             "#b8e186"
            ],
            [
             0.8,
             "#7fbc41"
            ],
            [
             0.9,
             "#4d9221"
            ],
            [
             1,
             "#276419"
            ]
           ],
           "sequential": [
            [
             0,
             "#0d0887"
            ],
            [
             0.1111111111111111,
             "#46039f"
            ],
            [
             0.2222222222222222,
             "#7201a8"
            ],
            [
             0.3333333333333333,
             "#9c179e"
            ],
            [
             0.4444444444444444,
             "#bd3786"
            ],
            [
             0.5555555555555556,
             "#d8576b"
            ],
            [
             0.6666666666666666,
             "#ed7953"
            ],
            [
             0.7777777777777778,
             "#fb9f3a"
            ],
            [
             0.8888888888888888,
             "#fdca26"
            ],
            [
             1,
             "#f0f921"
            ]
           ],
           "sequentialminus": [
            [
             0,
             "#0d0887"
            ],
            [
             0.1111111111111111,
             "#46039f"
            ],
            [
             0.2222222222222222,
             "#7201a8"
            ],
            [
             0.3333333333333333,
             "#9c179e"
            ],
            [
             0.4444444444444444,
             "#bd3786"
            ],
            [
             0.5555555555555556,
             "#d8576b"
            ],
            [
             0.6666666666666666,
             "#ed7953"
            ],
            [
             0.7777777777777778,
             "#fb9f3a"
            ],
            [
             0.8888888888888888,
             "#fdca26"
            ],
            [
             1,
             "#f0f921"
            ]
           ]
          },
          "colorway": [
           "#636efa",
           "#EF553B",
           "#00cc96",
           "#ab63fa",
           "#FFA15A",
           "#19d3f3",
           "#FF6692",
           "#B6E880",
           "#FF97FF",
           "#FECB52"
          ],
          "font": {
           "color": "#2a3f5f"
          },
          "geo": {
           "bgcolor": "white",
           "lakecolor": "white",
           "landcolor": "#E5ECF6",
           "showlakes": true,
           "showland": true,
           "subunitcolor": "white"
          },
          "hoverlabel": {
           "align": "left"
          },
          "hovermode": "closest",
          "mapbox": {
           "style": "light"
          },
          "paper_bgcolor": "white",
          "plot_bgcolor": "#E5ECF6",
          "polar": {
           "angularaxis": {
            "gridcolor": "white",
            "linecolor": "white",
            "ticks": ""
           },
           "bgcolor": "#E5ECF6",
           "radialaxis": {
            "gridcolor": "white",
            "linecolor": "white",
            "ticks": ""
           }
          },
          "scene": {
           "xaxis": {
            "backgroundcolor": "#E5ECF6",
            "gridcolor": "white",
            "gridwidth": 2,
            "linecolor": "white",
            "showbackground": true,
            "ticks": "",
            "zerolinecolor": "white"
           },
           "yaxis": {
            "backgroundcolor": "#E5ECF6",
            "gridcolor": "white",
            "gridwidth": 2,
            "linecolor": "white",
            "showbackground": true,
            "ticks": "",
            "zerolinecolor": "white"
           },
           "zaxis": {
            "backgroundcolor": "#E5ECF6",
            "gridcolor": "white",
            "gridwidth": 2,
            "linecolor": "white",
            "showbackground": true,
            "ticks": "",
            "zerolinecolor": "white"
           }
          },
          "shapedefaults": {
           "line": {
            "color": "#2a3f5f"
           }
          },
          "ternary": {
           "aaxis": {
            "gridcolor": "white",
            "linecolor": "white",
            "ticks": ""
           },
           "baxis": {
            "gridcolor": "white",
            "linecolor": "white",
            "ticks": ""
           },
           "bgcolor": "#E5ECF6",
           "caxis": {
            "gridcolor": "white",
            "linecolor": "white",
            "ticks": ""
           }
          },
          "title": {
           "x": 0.05
          },
          "xaxis": {
           "automargin": true,
           "gridcolor": "white",
           "linecolor": "white",
           "ticks": "",
           "title": {
            "standoff": 15
           },
           "zerolinecolor": "white",
           "zerolinewidth": 2
          },
          "yaxis": {
           "automargin": true,
           "gridcolor": "white",
           "linecolor": "white",
           "ticks": "",
           "title": {
            "standoff": 15
           },
           "zerolinecolor": "white",
           "zerolinewidth": 2
          }
         }
        },
        "xaxis": {
         "title": {
          "text": "λ"
         }
        },
        "yaxis": {
         "range": [
          -8000,
          4000
         ],
         "title": {
          "text": "θ [deg·cm² dmol⁻¹]"
         }
        }
       }
      }
     },
     "metadata": {},
     "output_type": "display_data"
    }
   ],
   "source": [
    "fig = go.Figure()\n",
    "\n",
    "\n",
    "\n",
    "spettri = pd.DataFrame()\n",
    "\n",
    "for i, conc in enumerate(['C0', 'C1', 'C2', 'C3', 'C4', 'C5']):\n",
    "    λ = spettriRAW['λ']\n",
    "    if i != 0:\n",
    "        θ = spettriRAW[conc] * 100 / (concentrazioni[i]/1000000 * N * l)\n",
    "    else:\n",
    "        θ = spettriRAW[conc] * 100* 1000000 / (N * l)\n",
    "\n",
    "    mean = θ[λ > 250].mean()\n",
    "    θ = θ - mean\n",
    "    spettri[conc] = θ  # aggiorna la colonna\n",
    "\n",
    "    fig.add_trace(go.Scatter(\n",
    "        x=λ,\n",
    "        y=θ,\n",
    "        mode='lines',\n",
    "        name=np.round(concentrazioni[i],2)\n",
    "    ))\n",
    "\n",
    "fig.update_layout(\n",
    "    yaxis=dict(range=[-8000, 4000]),\n",
    "    xaxis_title='λ',\n",
    "    yaxis_title='θ [deg·cm² dmol⁻¹]',\n",
    "    legend_title='C denaturante [μM]',\n",
    "    legend=dict(\n",
    "        x=1,\n",
    "        y=0,\n",
    "        xanchor='right',\n",
    "        yanchor='bottom'\n",
    "    )\n",
    ")\n",
    "fig.show()"
   ]
  },
  {
   "cell_type": "code",
   "execution_count": 48,
   "id": "b6f7f5dd",
   "metadata": {},
   "outputs": [
    {
     "data": {
      "text/html": [
       "<div>\n",
       "<style scoped>\n",
       "    .dataframe tbody tr th:only-of-type {\n",
       "        vertical-align: middle;\n",
       "    }\n",
       "\n",
       "    .dataframe tbody tr th {\n",
       "        vertical-align: top;\n",
       "    }\n",
       "\n",
       "    .dataframe thead th {\n",
       "        text-align: right;\n",
       "    }\n",
       "</style>\n",
       "<table border=\"1\" class=\"dataframe\">\n",
       "  <thead>\n",
       "    <tr style=\"text-align: right;\">\n",
       "      <th></th>\n",
       "      <th>Concentrazione</th>\n",
       "      <th>230</th>\n",
       "      <th>229</th>\n",
       "      <th>228</th>\n",
       "      <th>227</th>\n",
       "      <th>226</th>\n",
       "      <th>225</th>\n",
       "      <th>224</th>\n",
       "      <th>223</th>\n",
       "      <th>222</th>\n",
       "      <th>221</th>\n",
       "      <th>220</th>\n",
       "    </tr>\n",
       "  </thead>\n",
       "  <tbody>\n",
       "    <tr>\n",
       "      <th>0</th>\n",
       "      <td>0.00000</td>\n",
       "      <td>-0.003790</td>\n",
       "      <td>-0.004111</td>\n",
       "      <td>-0.004333</td>\n",
       "      <td>-0.004469</td>\n",
       "      <td>-0.004679</td>\n",
       "      <td>-0.004963</td>\n",
       "      <td>-0.005247</td>\n",
       "      <td>-0.005654</td>\n",
       "      <td>-0.005778</td>\n",
       "      <td>-0.006531</td>\n",
       "      <td>-0.006827</td>\n",
       "    </tr>\n",
       "    <tr>\n",
       "      <th>1</th>\n",
       "      <td>1.56847</td>\n",
       "      <td>-0.001953</td>\n",
       "      <td>-0.001992</td>\n",
       "      <td>-0.002071</td>\n",
       "      <td>-0.002283</td>\n",
       "      <td>-0.002228</td>\n",
       "      <td>-0.002331</td>\n",
       "      <td>-0.002457</td>\n",
       "      <td>-0.002575</td>\n",
       "      <td>-0.002740</td>\n",
       "      <td>-0.003055</td>\n",
       "      <td>-0.003244</td>\n",
       "    </tr>\n",
       "    <tr>\n",
       "      <th>2</th>\n",
       "      <td>3.08505</td>\n",
       "      <td>-0.000889</td>\n",
       "      <td>-0.000917</td>\n",
       "      <td>-0.000925</td>\n",
       "      <td>-0.001021</td>\n",
       "      <td>-0.001061</td>\n",
       "      <td>-0.001121</td>\n",
       "      <td>-0.001213</td>\n",
       "      <td>-0.001213</td>\n",
       "      <td>-0.001305</td>\n",
       "      <td>-0.001485</td>\n",
       "      <td>-0.001421</td>\n",
       "    </tr>\n",
       "    <tr>\n",
       "      <th>3</th>\n",
       "      <td>4.60239</td>\n",
       "      <td>-0.000501</td>\n",
       "      <td>-0.000461</td>\n",
       "      <td>-0.000552</td>\n",
       "      <td>-0.000587</td>\n",
       "      <td>-0.000563</td>\n",
       "      <td>-0.000630</td>\n",
       "      <td>-0.000633</td>\n",
       "      <td>-0.000662</td>\n",
       "      <td>-0.000641</td>\n",
       "      <td>-0.000668</td>\n",
       "      <td>-0.000652</td>\n",
       "    </tr>\n",
       "    <tr>\n",
       "      <th>4</th>\n",
       "      <td>6.18847</td>\n",
       "      <td>-0.000239</td>\n",
       "      <td>-0.000301</td>\n",
       "      <td>-0.000341</td>\n",
       "      <td>-0.000337</td>\n",
       "      <td>-0.000355</td>\n",
       "      <td>-0.000327</td>\n",
       "      <td>-0.000351</td>\n",
       "      <td>-0.000299</td>\n",
       "      <td>-0.000359</td>\n",
       "      <td>-0.000436</td>\n",
       "      <td>-0.000395</td>\n",
       "    </tr>\n",
       "    <tr>\n",
       "      <th>5</th>\n",
       "      <td>7.73319</td>\n",
       "      <td>-0.000237</td>\n",
       "      <td>-0.000246</td>\n",
       "      <td>-0.000229</td>\n",
       "      <td>-0.000267</td>\n",
       "      <td>-0.000296</td>\n",
       "      <td>-0.000230</td>\n",
       "      <td>-0.000256</td>\n",
       "      <td>-0.000221</td>\n",
       "      <td>-0.000288</td>\n",
       "      <td>-0.000238</td>\n",
       "      <td>-0.000291</td>\n",
       "    </tr>\n",
       "  </tbody>\n",
       "</table>\n",
       "</div>"
      ],
      "text/plain": [
       "   Concentrazione       230       229       228       227       226       225  \\\n",
       "0         0.00000 -0.003790 -0.004111 -0.004333 -0.004469 -0.004679 -0.004963   \n",
       "1         1.56847 -0.001953 -0.001992 -0.002071 -0.002283 -0.002228 -0.002331   \n",
       "2         3.08505 -0.000889 -0.000917 -0.000925 -0.001021 -0.001061 -0.001121   \n",
       "3         4.60239 -0.000501 -0.000461 -0.000552 -0.000587 -0.000563 -0.000630   \n",
       "4         6.18847 -0.000239 -0.000301 -0.000341 -0.000337 -0.000355 -0.000327   \n",
       "5         7.73319 -0.000237 -0.000246 -0.000229 -0.000267 -0.000296 -0.000230   \n",
       "\n",
       "        224       223       222       221       220  \n",
       "0 -0.005247 -0.005654 -0.005778 -0.006531 -0.006827  \n",
       "1 -0.002457 -0.002575 -0.002740 -0.003055 -0.003244  \n",
       "2 -0.001213 -0.001213 -0.001305 -0.001485 -0.001421  \n",
       "3 -0.000633 -0.000662 -0.000641 -0.000668 -0.000652  \n",
       "4 -0.000351 -0.000299 -0.000359 -0.000436 -0.000395  \n",
       "5 -0.000256 -0.000221 -0.000288 -0.000238 -0.000291  "
      ]
     },
     "metadata": {},
     "output_type": "display_data"
    }
   ],
   "source": [
    "λ = spettri['λ']\n",
    "\n",
    "λmin = 220\n",
    "λmax = 230\n",
    "\n",
    "imin,imax = λ[λ == λmin].index[0], λ[λ == λmax].index[0]\n",
    "# print(imin,imax)\n",
    "\n",
    "Λ = np.arange(λmax,λmin-1,-1)\n",
    "\n",
    "# Seleziona solo le colonne delle concentrazioni (senza le colonne λ)\n",
    "spettro_ristretto = spettri.loc[imax:imin, ['C0','C1', 'C2', 'C3', 'C4', 'C5']]\n",
    "spettro_ristretto = spettro_ristretto.T\n",
    "spettro_ristretto.columns = Λ\n",
    "spettro_ristretto.insert(0, 'Concentrazione', spettro_ristretto.index)\n",
    "spettro_ristretto.reset_index(drop=True, inplace=True)\n",
    "spettro_ristretto['Concentrazione'] = concentrazioni\n",
    "display(spettro_ristretto)\n"
   ]
  },
  {
   "cell_type": "code",
   "execution_count": 49,
   "id": "1da9c8d7",
   "metadata": {},
   "outputs": [],
   "source": [
    "# fig = go.Figure()\n",
    "colors = px.colors.sample_colorscale(px.colors.sequential.Plasma, len(Λ))\n",
    "\n",
    "# for idx,i in enumerate(range(λmin,λmax)):\n",
    "#     fig.add_trace(go.Scatter(\n",
    "#         x=spettro_ristretto['Concentrazione'],\n",
    "#         y=spettro_ristretto[i],\n",
    "#         mode='lines+markers',\n",
    "#         name=str(i)+'nm',\n",
    "#         line=dict(color=colors[idx]),\n",
    "#         marker=dict(color=colors[idx])\n",
    "#     ))\n",
    "\n",
    "# fig.update_layout(\n",
    "#     # yaxis_type='log',\n",
    "#     #title='Spettri ristretti (220-230 nm)',\n",
    "#     xaxis_title='Concentrazione [μM]',\n",
    "#     yaxis_title='θ',\n",
    "#     legend_title='λ [nm]',\n",
    "#     height=800,\n",
    "#     width=600,\n",
    "#     legend=dict(\n",
    "#         x=1,\n",
    "#         y=0,\n",
    "#         xanchor='right',\n",
    "#         yanchor='bottom'\n",
    "#     )\n",
    "# )\n",
    "# # fig.show()"
   ]
  },
  {
   "cell_type": "code",
   "execution_count": 50,
   "id": "b315f4c1",
   "metadata": {},
   "outputs": [],
   "source": [
    "def sigmoid(x, yN,yD,A,Cmid):\n",
    "    expo = A * (Cmid-x)\n",
    "    num = yN + yD * np.exp(expo)\n",
    "    den = 1 + np.exp(-expo)\n",
    "    return num/den\n",
    "\n",
    "\n",
    "# x = np.linspace(0,6,1000)\n",
    "# plt.plot(x,sigmoid(x,-0.005,-0.0001,2,6))\n",
    "\n",
    "# plt.show()"
   ]
  },
  {
   "cell_type": "code",
   "execution_count": 51,
   "id": "0400f6d7",
   "metadata": {},
   "outputs": [
    {
     "data": {
      "text/html": [
       "<div>\n",
       "<style scoped>\n",
       "    .dataframe tbody tr th:only-of-type {\n",
       "        vertical-align: middle;\n",
       "    }\n",
       "\n",
       "    .dataframe tbody tr th {\n",
       "        vertical-align: top;\n",
       "    }\n",
       "\n",
       "    .dataframe thead th {\n",
       "        text-align: right;\n",
       "    }\n",
       "</style>\n",
       "<table border=\"1\" class=\"dataframe\">\n",
       "  <thead>\n",
       "    <tr style=\"text-align: right;\">\n",
       "      <th></th>\n",
       "      <th>λ</th>\n",
       "      <th>yD</th>\n",
       "      <th>yD_err</th>\n",
       "      <th>A</th>\n",
       "      <th>A_err</th>\n",
       "      <th>Cmid</th>\n",
       "      <th>Cmid_err</th>\n",
       "    </tr>\n",
       "  </thead>\n",
       "  <tbody>\n",
       "    <tr>\n",
       "      <th>0</th>\n",
       "      <td>230</td>\n",
       "      <td>-0.075175</td>\n",
       "      <td>0.556654</td>\n",
       "      <td>0.275582</td>\n",
       "      <td>0.200272</td>\n",
       "      <td>-5.411417</td>\n",
       "      <td>17.376294</td>\n",
       "    </tr>\n",
       "    <tr>\n",
       "      <th>1</th>\n",
       "      <td>229</td>\n",
       "      <td>-0.036806</td>\n",
       "      <td>0.466999</td>\n",
       "      <td>0.317500</td>\n",
       "      <td>0.522288</td>\n",
       "      <td>-3.450013</td>\n",
       "      <td>25.668330</td>\n",
       "    </tr>\n",
       "    <tr>\n",
       "      <th>2</th>\n",
       "      <td>228</td>\n",
       "      <td>-0.031486</td>\n",
       "      <td>0.651336</td>\n",
       "      <td>0.327711</td>\n",
       "      <td>0.937987</td>\n",
       "      <td>-3.027916</td>\n",
       "      <td>40.230220</td>\n",
       "    </tr>\n",
       "    <tr>\n",
       "      <th>3</th>\n",
       "      <td>227</td>\n",
       "      <td>-0.045346</td>\n",
       "      <td>0.514020</td>\n",
       "      <td>0.298211</td>\n",
       "      <td>0.420607</td>\n",
       "      <td>-3.878370</td>\n",
       "      <td>24.493412</td>\n",
       "    </tr>\n",
       "    <tr>\n",
       "      <th>4</th>\n",
       "      <td>226</td>\n",
       "      <td>-0.034859</td>\n",
       "      <td>0.653706</td>\n",
       "      <td>0.323568</td>\n",
       "      <td>0.833230</td>\n",
       "      <td>-3.106977</td>\n",
       "      <td>36.977039</td>\n",
       "    </tr>\n",
       "    <tr>\n",
       "      <th>5</th>\n",
       "      <td>225</td>\n",
       "      <td>-0.034046</td>\n",
       "      <td>0.399294</td>\n",
       "      <td>0.331827</td>\n",
       "      <td>0.547900</td>\n",
       "      <td>-2.905010</td>\n",
       "      <td>22.466840</td>\n",
       "    </tr>\n",
       "    <tr>\n",
       "      <th>6</th>\n",
       "      <td>224</td>\n",
       "      <td>-0.037152</td>\n",
       "      <td>0.392139</td>\n",
       "      <td>0.330174</td>\n",
       "      <td>0.485964</td>\n",
       "      <td>-2.967849</td>\n",
       "      <td>20.350039</td>\n",
       "    </tr>\n",
       "    <tr>\n",
       "      <th>7</th>\n",
       "      <td>223</td>\n",
       "      <td>-0.040010</td>\n",
       "      <td>0.342656</td>\n",
       "      <td>0.345478</td>\n",
       "      <td>0.412560</td>\n",
       "      <td>-2.833563</td>\n",
       "      <td>15.778668</td>\n",
       "    </tr>\n",
       "    <tr>\n",
       "      <th>8</th>\n",
       "      <td>222</td>\n",
       "      <td>-0.058638</td>\n",
       "      <td>0.360068</td>\n",
       "      <td>0.318073</td>\n",
       "      <td>0.243091</td>\n",
       "      <td>-3.641612</td>\n",
       "      <td>12.440522</td>\n",
       "    </tr>\n",
       "    <tr>\n",
       "      <th>9</th>\n",
       "      <td>221</td>\n",
       "      <td>-0.086968</td>\n",
       "      <td>0.330429</td>\n",
       "      <td>0.312281</td>\n",
       "      <td>0.134710</td>\n",
       "      <td>-4.144256</td>\n",
       "      <td>7.873980</td>\n",
       "    </tr>\n",
       "    <tr>\n",
       "      <th>10</th>\n",
       "      <td>220</td>\n",
       "      <td>-0.011694</td>\n",
       "      <td>0.018727</td>\n",
       "      <td>0.438788</td>\n",
       "      <td>0.137055</td>\n",
       "      <td>-0.607346</td>\n",
       "      <td>2.009982</td>\n",
       "    </tr>\n",
       "  </tbody>\n",
       "</table>\n",
       "</div>"
      ],
      "text/plain": [
       "      λ        yD    yD_err         A     A_err      Cmid   Cmid_err\n",
       "0   230 -0.075175  0.556654  0.275582  0.200272 -5.411417  17.376294\n",
       "1   229 -0.036806  0.466999  0.317500  0.522288 -3.450013  25.668330\n",
       "2   228 -0.031486  0.651336  0.327711  0.937987 -3.027916  40.230220\n",
       "3   227 -0.045346  0.514020  0.298211  0.420607 -3.878370  24.493412\n",
       "4   226 -0.034859  0.653706  0.323568  0.833230 -3.106977  36.977039\n",
       "5   225 -0.034046  0.399294  0.331827  0.547900 -2.905010  22.466840\n",
       "6   224 -0.037152  0.392139  0.330174  0.485964 -2.967849  20.350039\n",
       "7   223 -0.040010  0.342656  0.345478  0.412560 -2.833563  15.778668\n",
       "8   222 -0.058638  0.360068  0.318073  0.243091 -3.641612  12.440522\n",
       "9   221 -0.086968  0.330429  0.312281  0.134710 -4.144256   7.873980\n",
       "10  220 -0.011694  0.018727  0.438788  0.137055 -0.607346   2.009982"
      ]
     },
     "metadata": {},
     "output_type": "display_data"
    }
   ],
   "source": [
    "# fit con sigmoide\n",
    "\n",
    "fit_results = []\n",
    "\n",
    "for i in spettro_ristretto.columns[1:]:\n",
    "    C = concentrazioni\n",
    "    θ = spettro_ristretto[i].to_numpy()\n",
    "\n",
    "    # guess\n",
    "    yD = θ[-1]\n",
    "    yN = θ[0] # NON è UN PARAMETRO\n",
    "    A = 0.5\n",
    "    Cmid = np.mean(C)\n",
    "\n",
    "    # fit\n",
    "    popt, pcov = curve_fit(lambda x,yD,A,Cmid: sigmoid(x,yN,yD,A,Cmid), C, θ, p0=[yD, A, Cmid],maxfev=1000,)\n",
    "    perr = np.sqrt(np.diag(pcov))\n",
    "    fit_results.append({\n",
    "        'λ': i,\n",
    "        # 'yN': popt[0], 'yN_err': perr[0],\n",
    "        'yD': popt[0], 'yD_err': perr[0],\n",
    "        'A': popt[1], 'A_err': perr[1],\n",
    "        'Cmid': popt[2], 'Cmid_err': perr[2]\n",
    "    })\n",
    "\n",
    "fit_df = pd.DataFrame(fit_results)\n",
    "display(fit_df)"
   ]
  },
  {
   "cell_type": "code",
   "execution_count": 52,
   "id": "c7f7a321",
   "metadata": {},
   "outputs": [
    {
     "data": {
      "application/vnd.plotly.v1+json": {
       "config": {
        "plotlyServerURL": "https://plot.ly"
       },
       "data": [
        {
         "line": {
          "color": "rgb(13, 8, 135)"
         },
         "mode": "lines",
         "name": "Fit 230 nm",
         "type": "scatter",
         "x": {
          "bdata": "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",
          "dtype": "f8"
         },
         "y": {
          "bdata": "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",
          "dtype": "f8"
         }
        },
        {
         "marker": {
          "color": "rgb(13, 8, 135)"
         },
         "mode": "markers",
         "name": "Exp 230 nm",
         "showlegend": false,
         "type": "scatter",
         "x": {
          "bdata": "AAAAAAAAAAApHaz/cxj5P8oyxLEurghA8b+V7NhoEkDFG5lH/sAYQFgE/1vJ7h5A",
          "dtype": "f8"
         },
         "y": {
          "bdata": "WFBuCXcMb78QhDWDyP5fvwCBk4q/H02/iLtzi6BtQL8gYbT4VVMvv+DRM/clCC+/",
          "dtype": "f8"
         }
        },
        {
         "line": {
          "color": "rgb(64, 3, 157)"
         },
         "mode": "lines",
         "name": "Fit 229 nm",
         "type": "scatter",
         "x": {
          "bdata": "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",
          "dtype": "f8"
         },
         "y": {
          "bdata": "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",
          "dtype": "f8"
         }
        },
        {
         "marker": {
          "color": "rgb(64, 3, 157)"
         },
         "mode": "markers",
         "name": "Exp 229 nm",
         "showlegend": false,
         "type": "scatter",
         "x": {
          "bdata": "AAAAAAAAAAApHaz/cxj5P8oyxLEurghA8b+V7NhoEkDFG5lH/sAYQFgE/1vJ7h5A",
          "dtype": "f8"
         },
         "y": {
          "bdata": "sO5b/M/WcL8A4t497VFgv3BE4se7Ck6/8KS8lzE4Pr9Qt/phOrczv4icYEfHJDC/",
          "dtype": "f8"
         }
        },
        {
         "line": {
          "color": "rgb(105, 1, 166)"
         },
         "mode": "lines",
         "name": "Fit 228 nm",
         "type": "scatter",
         "x": {
          "bdata": "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",
          "dtype": "f8"
         },
         "y": {
          "bdata": "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",
          "dtype": "f8"
         }
        },
        {
         "marker": {
          "color": "rgb(105, 1, 166)"
         },
         "mode": "markers",
         "name": "Exp 228 nm",
         "showlegend": false,
         "type": "scatter",
         "x": {
          "bdata": "AAAAAAAAAAApHaz/cxj5P8oyxLEurghA8b+V7NhoEkDFG5lH/sAYQFgE/1vJ7h5A",
          "dtype": "f8"
         },
         "y": {
          "bdata": "JHgwT9S/cb/4IWc2//Zgv8BXHUffTU6/GMn9WyoZQr+gmqwnn1Q2v9D7Pc5O/C2/",
          "dtype": "f8"
         }
        },
        {
         "line": {
          "color": "rgb(143, 16, 161)"
         },
         "mode": "lines",
         "name": "Fit 227 nm",
         "type": "scatter",
         "x": {
          "bdata": "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",
          "dtype": "f8"
         },
         "y": {
          "bdata": "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",
          "dtype": "f8"
         }
        },
        {
         "marker": {
          "color": "rgb(143, 16, 161)"
         },
         "mode": "markers",
         "name": "Exp 227 nm",
         "showlegend": false,
         "type": "scatter",
         "x": {
          "bdata": "AAAAAAAAAAApHaz/cxj5P8oyxLEurghA8b+V7NhoEkDFG5lH/sAYQFgE/1vJ7h5A",
          "dtype": "f8"
         },
         "y": {
          "bdata": "IMzOgTpOcr/YAde7r7Riv2gf8Z7EuVC/4N8YE7E9Q78gN4GtrhE2v3DMOZb4gDG/",
          "dtype": "f8"
         }
        },
        {
         "line": {
          "color": "rgb(176, 42, 144)"
         },
         "mode": "lines",
         "name": "Fit 226 nm",
         "type": "scatter",
         "x": {
          "bdata": "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",
          "dtype": "f8"
         },
         "y": {
          "bdata": "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",
          "dtype": "f8"
         }
        },
        {
         "marker": {
          "color": "rgb(176, 42, 144)"
         },
         "mode": "markers",
         "name": "Exp 226 nm",
         "showlegend": false,
         "type": "scatter",
         "x": {
          "bdata": "AAAAAAAAAAApHaz/cxj5P8oyxLEurghA8b+V7NhoEkDFG5lH/sAYQFgE/1vJ7h5A",
          "dtype": "f8"
         },
         "y": {
          "bdata": "7E0J0Ewqc7/YoXcnI0Fiv4jPBF2dYVG/sG3ybCxzQr8Ad0TT6D43v0jnjXkVYzO/",
          "dtype": "f8"
         }
        },
        {
         "line": {
          "color": "rgb(203, 71, 120)"
         },
         "mode": "lines",
         "name": "Fit 225 nm",
         "type": "scatter",
         "x": {
          "bdata": "AAAAAAAARMCtn9yPkcdDwFo/uR8jj0PAB9+Vr7RWQ8C0fnI/Rh5DwGEeT8/X5ULADr4rX2mtQsC7XQjv+nRCwGj95H6MPELAFZ3BDh4EQsDCPJ6er8tBwG/cei5Bk0HAHHxXvtJaQcDIGzROZCJBwHa7EN716UDAIlvtbYexQMDP+sn9GHlAwHyapo2qQEDAKTqDHTwIQMCss79am58/wAbzeHq+Lj/AYDIymuG9PsC6ceu5BE0+wBSxpNkn3D3AbvBd+UprPcDILxcZbvo8wCJv0DiRiTzAfK6JWLQYPMDW7UJ416c7wDAt/Jf6NjvAimy1tx3GOsDkq27XQFU6wD7rJ/dj5DnAmCrhFodzOcDyaZo2qgI5wEypU1bNkTjApegMdvAgOMD/J8aVE7A3wFlnf7U2PzfAs6Y41VnONsAN5vH0fF02wGclqxSg7DXAwWRkNMN7NcAbpB1U5go1wHXj1nMJmjTAziKQkywpNMAoYkmzT7gzwIKhAtNyRzPA3OC78pXWMsA2IHUSuWUywJBfLjLc9DHA6p7nUf+DMcBE3qBxIhMxwJ4dWpFFojDA+FwTsWgxMMCkOJmhF4EvwFi3C+Fdny7ADDZ+IKS9LcC+tPBf6tsswHIzY58w+ivAJrLV3nYYK8DaMEgevTYqwI6vul0DVSnAQi4tnUlzKMD2rJ/cj5EnwKorEhzWrybAXqqEWxzOJcASKfeaYuwkwManadqoCiTAeibcGe8oI8AupU5ZNUciwOAjwZh7ZSHAlKIz2MGDIMCQQkwvEEQfwPg/Ma6cgB3AYD0WLSm9G8DIOvurtfkZwDA44CpCNhjAmDXFqc5yFsAAM6ooW68UwGgwj6fn6xLA0C10JnQoEcBwVrJKAcoOwEBRfEgaQwvAEExGRjO8B8DgRhBETDUEwLBB2kFlrgDAAHlIf/xO+r+gbtx6LkHzv4DI4OzAZui/AGcRyEmW1L8ACnsmuYO+PwB2py0T7OE/YMU/m9cD8D/Az6ufpRH3PyDaF6RzH/4/QPJB1KCWAkBw93fWhx0GQKD8rdhupAlA0AHk2lUrDUCAA41uHlkQQBgGqO+RHBJAsAjDcAXgE0BIC97xeKMVQOAN+XLsZhdAeBAU9F8qGUAQEy910+0aQKgVSvZGsRxAQBhld7p0HkBsDUD8FhwgQLiOzbzQ/SBABBBbfYrfIUBQkeg9RMEiQJwSdv79oiNA6JMDv7eEJEA0FZF/cWYlQISWHkArSCZA0BesAOUpJ0AcmTnBngsoQGgax4FY7ShAtJtUQhLPKUAAHeICzLAqQEyeb8OFkitAmB/9gz90LEDkoIpE+VUtQDAiGAWzNy5AfKOlxWwZL0DIJDOGJvsvQApTYCNwbjBAsBOnA03fMEBW1O3jKVAxQPyUNMQGwTFAolV7pOMxMkBIFsKEwKIyQO7WCGWdEzNAlJdPRXqEM0A6WJYlV/UzQOAY3QU0ZjRAhtkj5hDXNEAsmmrG7Uc1QNJasabKuDVAehv4hqcpNkAg3D5nhJo2QMachUdhCzdAbF3MJz58N0ASHhMIG+03QLjeWej3XThAXJ+gyNTOOEAEYOeosT85QKggLomOsDlAUOF0aWshOkD0obtJSJI6QJxiAiolAztAQCNJCgJ0O0Do44/q3uQ7QJCk1sq7VTxANGUdq5jGPEDcJWSLdTc9QIDmqmtSqD1AKKfxSy8ZPkDMZzgsDIo+QHQofwzp+j5AGOnF7MVrP0DAqQzNotw/QDK1qda/JkBAhhXNRi5fQEDYdfC2nJdAQCzWEycL0EBAfjY3l3kIQUDSlloH6EBBQCT3fXdWeUFAeFeh58SxQUDKt8RXM+pBQB4Y6MehIkJAcHgLOBBbQkDE2C6ofpNCQBY5Uhjty0JAapl1iFsEQ0C8+Zj4yTxDQBBavGg4dUNAZLrf2KatQ0C2GgNJFeZDQAp7JrmDHkRAXNtJKfJWRECwO22ZYI9EQAKckAnPx0RAVvyzeT0ARUCoXNfpqzhFQPy8+lkacUVATh0eyoipRUCifUE69+FFQPTdZKplGkZASD6IGtRSRkCanquKQotGQO7+zvqww0ZAQF/yah/8RkCUvxXbjTRHQOYfOUv8bEdAOoBcu2qlR0CL4H8r2d1HQA==",
          "dtype": "f8"
         },
         "y": {
          "bdata": "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",
          "dtype": "f8"
         }
        },
        {
         "marker": {
          "color": "rgb(203, 71, 120)"
         },
         "mode": "markers",
         "name": "Exp 225 nm",
         "showlegend": false,
         "type": "scatter",
         "x": {
          "bdata": "AAAAAAAAAAApHaz/cxj5P8oyxLEurghA8b+V7NhoEkDFG5lH/sAYQFgE/1vJ7h5A",
          "dtype": "f8"
         },
         "y": {
          "bdata": "jP3fOQtUdL/QwSiEuhdjv8hXInpiXVK/CHLrVrmlRL9QvhR8VWo1vwCN1TzgMS6/",
          "dtype": "f8"
         }
        },
        {
         "line": {
          "color": "rgb(224, 101, 97)"
         },
         "mode": "lines",
         "name": "Fit 224 nm",
         "type": "scatter",
         "x": {
          "bdata": "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",
          "dtype": "f8"
         },
         "y": {
          "bdata": "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",
          "dtype": "f8"
         }
        },
        {
         "marker": {
          "color": "rgb(224, 101, 97)"
         },
         "mode": "markers",
         "name": "Exp 224 nm",
         "showlegend": false,
         "type": "scatter",
         "x": {
          "bdata": "AAAAAAAAAAApHaz/cxj5P8oyxLEurghA8b+V7NhoEkDFG5lH/sAYQFgE/1vJ7h5A",
          "dtype": "f8"
         },
         "y": {
          "bdata": "LK22o8l9db/AwQJF1x9kv4AGtpVu31O/MJso2zm8RL+AExlZ+Ps2vzBQJ5N7xTC/",
          "dtype": "f8"
         }
        },
        {
         "line": {
          "color": "rgb(241, 132, 76)"
         },
         "mode": "lines",
         "name": "Fit 223 nm",
         "type": "scatter",
         "x": {
          "bdata": "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",
          "dtype": "f8"
         },
         "y": {
          "bdata": "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",
          "dtype": "f8"
         }
        },
        {
         "marker": {
          "color": "rgb(241, 132, 76)"
         },
         "mode": "markers",
         "name": "Exp 223 nm",
         "showlegend": false,
         "type": "scatter",
         "x": {
          "bdata": "AAAAAAAAAAApHaz/cxj5P8oyxLEurghA8b+V7NhoEkDFG5lH/sAYQFgE/1vJ7h5A",
          "dtype": "f8"
         },
         "y": {
          "bdata": "JKmRO/wod7+oIc85chdlv4AGtpVu31O/sF/Jib+zRb+QBeUkwpUzv9AlSKV38Cy/",
          "dtype": "f8"
         }
        },
        {
         "line": {
          "color": "rgb(251, 168, 54)"
         },
         "mode": "lines",
         "name": "Fit 222 nm",
         "type": "scatter",
         "x": {
          "bdata": "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",
          "dtype": "f8"
         },
         "y": {
          "bdata": "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",
          "dtype": "f8"
         }
        },
        {
         "marker": {
          "color": "rgb(251, 168, 54)"
         },
         "mode": "markers",
         "name": "Exp 222 nm",
         "showlegend": false,
         "type": "scatter",
         "x": {
          "bdata": "AAAAAAAAAAApHaz/cxj5P8oyxLEurghA8b+V7NhoEkDFG5lH/sAYQFgE/1vJ7h5A",
          "dtype": "f8"
         },
         "y": {
          "bdata": "hPWVaXCqd7+QQe32F3Jmv0C1SbF6YVW/oBbgZ7v/RL+Q2m9N2YE3v0j8EuUp3TK/",
          "dtype": "f8"
         }
        },
        {
         "line": {
          "color": "rgb(252, 207, 37)"
         },
         "mode": "lines",
         "name": "Fit 221 nm",
         "type": "scatter",
         "x": {
          "bdata": "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",
          "dtype": "f8"
         },
         "y": {
          "bdata": "hQVppTDFuMAYdaYUlpW1wBM7IVTizrLA62I9XpdjsMB3fg7b5o+swDdEWLJv46jA5uiile6vpcB7VZ+31OWiwLEW7I2Td6DAMbBr3LWynMD3JXdJvwGZwGv2YNpSypXAV8uxtc78ksDX7Am4k4uQwG4lL4GG1YzAVc+hAgsgicCjWix1ruSFwHcg39u7E4PAuC4MZoOfgMDxbmHVL/h8wFfNHeQpPnnA7ZmKZ9j+dcCIstgncypzwIpVqZI5s3DAtDkPyl8abcAYtxfcyVtpwKNZOp5+GGbANU5ahqJAY8BOQAUsZMZgwEqUM0FyO13A1Vw81UZ4WcAPSsIP/TBWwOR4Jf2lVVPAXEPGSl/YUMAAv+2ZH1pNwAjOYWVZkknAyN6YkgxHRsAlum6uNmhDwFHoZGnk50DA2u4HlttzPcAn3UQ7dqc5wLTV4uYiWDbATdI5lct1M8A8nvfsa/IwwEERWT+agy3AtH/gGpWyKcAKYj8WPF8mwCLln59leSPATDzPXPzyIMCboPJxdX8dwFighoDeqRnAXK/HTpFSFsDGMT4FUWkTwP9vEqD33xDA/ov6VGJUDcDLe6ylf3oJwHFN0WePHwbAk6BQq0IzA8BpF/UPZKcAwG3JvVol3/y/gSgSugsC+b+Lf1WCsaT1v0u9iBG5tvK/GdOyI+Ep8L+ZukmdfuPrv8EMbcMGB+i/kJkPA4Wr5L+Mqar7kcDhv5OHRQPIb96/pSTDUxEK2r8rPC9hTjrWvw9qXDCV7dK/2QPFDmUT0L+qpU1MqDrLvw5hiwaP/ca/pl0By2hZw78q3H260zrAv4kSDJSHIbu/Eky27WSYtr8GHpBOtb+yv+z0UrX9/66/W/6Bb/GIqb80KkRMePWkv3PGiH4GJaG/nNUDUMr1m79s0JQhrLuWv5A83VKGb5K/VNki6dfVjb8WUYV8UBmIv4Pqx8h7cIO/b22ktKtVf79ZTsx/wj55v2d+Or2AV3S/hB6RI7VmcL/yPjHPPnpqv/PhfGjxZ2W/XNMrfUFXYb/7k9QHxClcvz73MD3Y7la/madI4DW7Ur+q4AWWLrNOv244mk/tPkm/IS1kee7VRL9HB7a5W0JBv9bu5l3qsjy/aK1tBJvyN7+3t2wc7w00v52TBL4i2jC/bV+C0GxqLL+HDUimLwgovz7eypVaYiS/jyvEUF9WIb85MnXVCpEdv2vwEL37RBm/eoUZ2IikFb+zEb9bfJISv5+RifMg7g+/2EBK/699C78J33D2w7MHv9w+lzEXdgS/pmxobuyuAb9x1Jt7Z5j+vkO3wQG4ffq+5Zy/2I709r5Dm+REt+fzvlLoOyhPRfG+Bw9Hg2r87b4839ucJQvqvgnHN/z1oOa+SJwoszer475q6J1a+hnhvrcdiP0qv92+0allrJ7g2b62BWKzJITWvrVQbgZemNO++tLgC08O0b6+L9b5DrLNvgJ2z8Ov2sm+Q5jIvSSDxr4XY3zjqZrDvjSqRTS3EsG+YwfupWS9vb7Gj7jDVue5vjIz/cNGkLa+DCkBTbWns76HGClSTB+xvt0RjPcq1a2+QSFcN3X9qb5n+YB/naSmvid8k1Y9uqO+fZmcXQ8wob6JyRTzT/OdvlCdVOpuGJq+uRVCo6i8lr4AnFZUmc+TvgyDZG/7QpG+S25TisIUjr5jYKC37zWKvhbej4Cj1oa+yiOAiXHmg75lV8eFC1eBvqmDJF/2N36+HGvgqcpUer7oerCUqfF2vuoAQ3YY/nO+NJVN5rtrcb4FH3xrI1xuvusoAuVndGq+ZR9llUcNZ744rHCUNhZkvncqjR/KgGG+iBpNz+SAXr5SiY3WepRavp57mWNDKVe+BubTxp8uVL4EgYe2FJZRvrMkmLkHpk6+CtLW7ty0Sr53mAy9f0VHvhsit9o9R0S+X0hp1IqrQb5DjAefcss+vjldvM561Tq+43us8e1hN74FrMqtBWA0vtd4EAkkwTG+KydlthjxLr77byTHSvYqvnJviqyGfie+W+mms/F4JL51vR0i3NYhvktVXqfzFh++asMADUgXG75ram5PRpsXvuVnzDH/kRS+VgtdEbHsEb5ocR5aAD0PvoXGaE1wOAu+goglHCu4B77PGD3aLKsEvg==",
          "dtype": "f8"
         }
        },
        {
         "marker": {
          "color": "rgb(252, 207, 37)"
         },
         "mode": "markers",
         "name": "Exp 221 nm",
         "showlegend": false,
         "type": "scatter",
         "x": {
          "bdata": "AAAAAAAAAAApHaz/cxj5P8oyxLEurghA8b+V7NhoEkDFG5lH/sAYQFgE/1vJ7h5A",
          "dtype": "f8"
         },
         "y": {
          "bdata": "TMdJghvAer9YQQ7ZXwZpv+BNogjKVFi/8LFDksDgRb+A772bKps8vwBjy2W3PS+/",
          "dtype": "f8"
         }
        },
        {
         "line": {
          "color": "rgb(240, 249, 33)"
         },
         "mode": "lines",
         "name": "Fit 220 nm",
         "type": "scatter",
         "x": {
          "bdata": "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",
          "dtype": "f8"
         },
         "y": {
          "bdata": "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",
          "dtype": "f8"
         }
        },
        {
         "marker": {
          "color": "rgb(240, 249, 33)"
         },
         "mode": "markers",
         "name": "Exp 220 nm",
         "showlegend": false,
         "type": "scatter",
         "x": {
          "bdata": "AAAAAAAAAAApHaz/cxj5P8oyxLEurghA8b+V7NhoEkDFG5lH/sAYQFgE/1vJ7h5A",
          "dtype": "f8"
         },
         "y": {
          "bdata": "jH668Mv2e79AQVX6ipJqv+AAtgs8SFe/ILvUeL1ZRb9gWvaYTdw5v4CNqlO7EjO/",
          "dtype": "f8"
         }
        }
       ],
       "layout": {
        "height": 600,
        "legend": {
         "title": {
          "text": "λ [nm]"
         },
         "x": 1,
         "xanchor": "right",
         "y": 0,
         "yanchor": "bottom"
        },
        "template": {
         "data": {
          "bar": [
           {
            "error_x": {
             "color": "#2a3f5f"
            },
            "error_y": {
             "color": "#2a3f5f"
            },
            "marker": {
             "line": {
              "color": "#E5ECF6",
              "width": 0.5
             },
             "pattern": {
              "fillmode": "overlay",
              "size": 10,
              "solidity": 0.2
             }
            },
            "type": "bar"
           }
          ],
          "barpolar": [
           {
            "marker": {
             "line": {
              "color": "#E5ECF6",
              "width": 0.5
             },
             "pattern": {
              "fillmode": "overlay",
              "size": 10,
              "solidity": 0.2
             }
            },
            "type": "barpolar"
           }
          ],
          "carpet": [
           {
            "aaxis": {
             "endlinecolor": "#2a3f5f",
             "gridcolor": "white",
             "linecolor": "white",
             "minorgridcolor": "white",
             "startlinecolor": "#2a3f5f"
            },
            "baxis": {
             "endlinecolor": "#2a3f5f",
             "gridcolor": "white",
             "linecolor": "white",
             "minorgridcolor": "white",
             "startlinecolor": "#2a3f5f"
            },
            "type": "carpet"
           }
          ],
          "choropleth": [
           {
            "colorbar": {
             "outlinewidth": 0,
             "ticks": ""
            },
            "type": "choropleth"
           }
          ],
          "contour": [
           {
            "colorbar": {
             "outlinewidth": 0,
             "ticks": ""
            },
            "colorscale": [
             [
              0,
              "#0d0887"
             ],
             [
              0.1111111111111111,
              "#46039f"
             ],
             [
              0.2222222222222222,
              "#7201a8"
             ],
             [
              0.3333333333333333,
              "#9c179e"
             ],
             [
              0.4444444444444444,
              "#bd3786"
             ],
             [
              0.5555555555555556,
              "#d8576b"
             ],
             [
              0.6666666666666666,
              "#ed7953"
             ],
             [
              0.7777777777777778,
              "#fb9f3a"
             ],
             [
              0.8888888888888888,
              "#fdca26"
             ],
             [
              1,
              "#f0f921"
             ]
            ],
            "type": "contour"
           }
          ],
          "contourcarpet": [
           {
            "colorbar": {
             "outlinewidth": 0,
             "ticks": ""
            },
            "type": "contourcarpet"
           }
          ],
          "heatmap": [
           {
            "colorbar": {
             "outlinewidth": 0,
             "ticks": ""
            },
            "colorscale": [
             [
              0,
              "#0d0887"
             ],
             [
              0.1111111111111111,
              "#46039f"
             ],
             [
              0.2222222222222222,
              "#7201a8"
             ],
             [
              0.3333333333333333,
              "#9c179e"
             ],
             [
              0.4444444444444444,
              "#bd3786"
             ],
             [
              0.5555555555555556,
              "#d8576b"
             ],
             [
              0.6666666666666666,
              "#ed7953"
             ],
             [
              0.7777777777777778,
              "#fb9f3a"
             ],
             [
              0.8888888888888888,
              "#fdca26"
             ],
             [
              1,
              "#f0f921"
             ]
            ],
            "type": "heatmap"
           }
          ],
          "histogram": [
           {
            "marker": {
             "pattern": {
              "fillmode": "overlay",
              "size": 10,
              "solidity": 0.2
             }
            },
            "type": "histogram"
           }
          ],
          "histogram2d": [
           {
            "colorbar": {
             "outlinewidth": 0,
             "ticks": ""
            },
            "colorscale": [
             [
              0,
              "#0d0887"
             ],
             [
              0.1111111111111111,
              "#46039f"
             ],
             [
              0.2222222222222222,
              "#7201a8"
             ],
             [
              0.3333333333333333,
              "#9c179e"
             ],
             [
              0.4444444444444444,
              "#bd3786"
             ],
             [
              0.5555555555555556,
              "#d8576b"
             ],
             [
              0.6666666666666666,
              "#ed7953"
             ],
             [
              0.7777777777777778,
              "#fb9f3a"
             ],
             [
              0.8888888888888888,
              "#fdca26"
             ],
             [
              1,
              "#f0f921"
             ]
            ],
            "type": "histogram2d"
           }
          ],
          "histogram2dcontour": [
           {
            "colorbar": {
             "outlinewidth": 0,
             "ticks": ""
            },
            "colorscale": [
             [
              0,
              "#0d0887"
             ],
             [
              0.1111111111111111,
              "#46039f"
             ],
             [
              0.2222222222222222,
              "#7201a8"
             ],
             [
              0.3333333333333333,
              "#9c179e"
             ],
             [
              0.4444444444444444,
              "#bd3786"
             ],
             [
              0.5555555555555556,
              "#d8576b"
             ],
             [
              0.6666666666666666,
              "#ed7953"
             ],
             [
              0.7777777777777778,
              "#fb9f3a"
             ],
             [
              0.8888888888888888,
              "#fdca26"
             ],
             [
              1,
              "#f0f921"
             ]
            ],
            "type": "histogram2dcontour"
           }
          ],
          "mesh3d": [
           {
            "colorbar": {
             "outlinewidth": 0,
             "ticks": ""
            },
            "type": "mesh3d"
           }
          ],
          "parcoords": [
           {
            "line": {
             "colorbar": {
              "outlinewidth": 0,
              "ticks": ""
             }
            },
            "type": "parcoords"
           }
          ],
          "pie": [
           {
            "automargin": true,
            "type": "pie"
           }
          ],
          "scatter": [
           {
            "fillpattern": {
             "fillmode": "overlay",
             "size": 10,
             "solidity": 0.2
            },
            "type": "scatter"
           }
          ],
          "scatter3d": [
           {
            "line": {
             "colorbar": {
              "outlinewidth": 0,
              "ticks": ""
             }
            },
            "marker": {
             "colorbar": {
              "outlinewidth": 0,
              "ticks": ""
             }
            },
            "type": "scatter3d"
           }
          ],
          "scattercarpet": [
           {
            "marker": {
             "colorbar": {
              "outlinewidth": 0,
              "ticks": ""
             }
            },
            "type": "scattercarpet"
           }
          ],
          "scattergeo": [
           {
            "marker": {
             "colorbar": {
              "outlinewidth": 0,
              "ticks": ""
             }
            },
            "type": "scattergeo"
           }
          ],
          "scattergl": [
           {
            "marker": {
             "colorbar": {
              "outlinewidth": 0,
              "ticks": ""
             }
            },
            "type": "scattergl"
           }
          ],
          "scattermap": [
           {
            "marker": {
             "colorbar": {
              "outlinewidth": 0,
              "ticks": ""
             }
            },
            "type": "scattermap"
           }
          ],
          "scattermapbox": [
           {
            "marker": {
             "colorbar": {
              "outlinewidth": 0,
              "ticks": ""
             }
            },
            "type": "scattermapbox"
           }
          ],
          "scatterpolar": [
           {
            "marker": {
             "colorbar": {
              "outlinewidth": 0,
              "ticks": ""
             }
            },
            "type": "scatterpolar"
           }
          ],
          "scatterpolargl": [
           {
            "marker": {
             "colorbar": {
              "outlinewidth": 0,
              "ticks": ""
             }
            },
            "type": "scatterpolargl"
           }
          ],
          "scatterternary": [
           {
            "marker": {
             "colorbar": {
              "outlinewidth": 0,
              "ticks": ""
             }
            },
            "type": "scatterternary"
           }
          ],
          "surface": [
           {
            "colorbar": {
             "outlinewidth": 0,
             "ticks": ""
            },
            "colorscale": [
             [
              0,
              "#0d0887"
             ],
             [
              0.1111111111111111,
              "#46039f"
             ],
             [
              0.2222222222222222,
              "#7201a8"
             ],
             [
              0.3333333333333333,
              "#9c179e"
             ],
             [
              0.4444444444444444,
              "#bd3786"
             ],
             [
              0.5555555555555556,
              "#d8576b"
             ],
             [
              0.6666666666666666,
              "#ed7953"
             ],
             [
              0.7777777777777778,
              "#fb9f3a"
             ],
             [
              0.8888888888888888,
              "#fdca26"
             ],
             [
              1,
              "#f0f921"
             ]
            ],
            "type": "surface"
           }
          ],
          "table": [
           {
            "cells": {
             "fill": {
              "color": "#EBF0F8"
             },
             "line": {
              "color": "white"
             }
            },
            "header": {
             "fill": {
              "color": "#C8D4E3"
             },
             "line": {
              "color": "white"
             }
            },
            "type": "table"
           }
          ]
         },
         "layout": {
          "annotationdefaults": {
           "arrowcolor": "#2a3f5f",
           "arrowhead": 0,
           "arrowwidth": 1
          },
          "autotypenumbers": "strict",
          "coloraxis": {
           "colorbar": {
            "outlinewidth": 0,
            "ticks": ""
           }
          },
          "colorscale": {
           "diverging": [
            [
             0,
             "#8e0152"
            ],
            [
             0.1,
             "#c51b7d"
            ],
            [
             0.2,
             "#de77ae"
            ],
            [
             0.3,
             "#f1b6da"
            ],
            [
             0.4,
             "#fde0ef"
            ],
            [
             0.5,
             "#f7f7f7"
            ],
            [
             0.6,
             "#e6f5d0"
            ],
            [
             0.7,
             "#b8e186"
            ],
            [
             0.8,
             "#7fbc41"
            ],
            [
             0.9,
             "#4d9221"
            ],
            [
             1,
             "#276419"
            ]
           ],
           "sequential": [
            [
             0,
             "#0d0887"
            ],
            [
             0.1111111111111111,
             "#46039f"
            ],
            [
             0.2222222222222222,
             "#7201a8"
            ],
            [
             0.3333333333333333,
             "#9c179e"
            ],
            [
             0.4444444444444444,
             "#bd3786"
            ],
            [
             0.5555555555555556,
             "#d8576b"
            ],
            [
             0.6666666666666666,
             "#ed7953"
            ],
            [
             0.7777777777777778,
             "#fb9f3a"
            ],
            [
             0.8888888888888888,
             "#fdca26"
            ],
            [
             1,
             "#f0f921"
            ]
           ],
           "sequentialminus": [
            [
             0,
             "#0d0887"
            ],
            [
             0.1111111111111111,
             "#46039f"
            ],
            [
             0.2222222222222222,
             "#7201a8"
            ],
            [
             0.3333333333333333,
             "#9c179e"
            ],
            [
             0.4444444444444444,
             "#bd3786"
            ],
            [
             0.5555555555555556,
             "#d8576b"
            ],
            [
             0.6666666666666666,
             "#ed7953"
            ],
            [
             0.7777777777777778,
             "#fb9f3a"
            ],
            [
             0.8888888888888888,
             "#fdca26"
            ],
            [
             1,
             "#f0f921"
            ]
           ]
          },
          "colorway": [
           "#636efa",
           "#EF553B",
           "#00cc96",
           "#ab63fa",
           "#FFA15A",
           "#19d3f3",
           "#FF6692",
           "#B6E880",
           "#FF97FF",
           "#FECB52"
          ],
          "font": {
           "color": "#2a3f5f"
          },
          "geo": {
           "bgcolor": "white",
           "lakecolor": "white",
           "landcolor": "#E5ECF6",
           "showlakes": true,
           "showland": true,
           "subunitcolor": "white"
          },
          "hoverlabel": {
           "align": "left"
          },
          "hovermode": "closest",
          "mapbox": {
           "style": "light"
          },
          "paper_bgcolor": "white",
          "plot_bgcolor": "#E5ECF6",
          "polar": {
           "angularaxis": {
            "gridcolor": "white",
            "linecolor": "white",
            "ticks": ""
           },
           "bgcolor": "#E5ECF6",
           "radialaxis": {
            "gridcolor": "white",
            "linecolor": "white",
            "ticks": ""
           }
          },
          "scene": {
           "xaxis": {
            "backgroundcolor": "#E5ECF6",
            "gridcolor": "white",
            "gridwidth": 2,
            "linecolor": "white",
            "showbackground": true,
            "ticks": "",
            "zerolinecolor": "white"
           },
           "yaxis": {
            "backgroundcolor": "#E5ECF6",
            "gridcolor": "white",
            "gridwidth": 2,
            "linecolor": "white",
            "showbackground": true,
            "ticks": "",
            "zerolinecolor": "white"
           },
           "zaxis": {
            "backgroundcolor": "#E5ECF6",
            "gridcolor": "white",
            "gridwidth": 2,
            "linecolor": "white",
            "showbackground": true,
            "ticks": "",
            "zerolinecolor": "white"
           }
          },
          "shapedefaults": {
           "line": {
            "color": "#2a3f5f"
           }
          },
          "ternary": {
           "aaxis": {
            "gridcolor": "white",
            "linecolor": "white",
            "ticks": ""
           },
           "baxis": {
            "gridcolor": "white",
            "linecolor": "white",
            "ticks": ""
           },
           "bgcolor": "#E5ECF6",
           "caxis": {
            "gridcolor": "white",
            "linecolor": "white",
            "ticks": ""
           }
          },
          "title": {
           "x": 0.05
          },
          "xaxis": {
           "automargin": true,
           "gridcolor": "white",
           "linecolor": "white",
           "ticks": "",
           "title": {
            "standoff": 15
           },
           "zerolinecolor": "white",
           "zerolinewidth": 2
          },
          "yaxis": {
           "automargin": true,
           "gridcolor": "white",
           "linecolor": "white",
           "ticks": "",
           "title": {
            "standoff": 15
           },
           "zerolinecolor": "white",
           "zerolinewidth": 2
          }
         }
        },
        "width": 800,
        "xaxis": {
         "title": {
          "text": "Concentrazione [μM]"
         }
        },
        "yaxis": {
         "title": {
          "text": "θ (fit)"
         }
        }
       }
      }
     },
     "metadata": {},
     "output_type": "display_data"
    }
   ],
   "source": [
    "fig = go.Figure()\n",
    "\n",
    "C_plot = np.linspace(concentrazioni.min()-40, concentrazioni.max()+40, 200)\n",
    "\n",
    "for idx, row in fit_df.iterrows():\n",
    "    yN = spettro_ristretto.loc[0, row['λ']]\n",
    "    yD = row['yD']\n",
    "    A = row['A']\n",
    "    Cmid = row['Cmid']\n",
    "    θ_fit = sigmoid(C_plot, yN, yD, A, Cmid)\n",
    "    # Fit line\n",
    "    fig.add_trace(go.Scatter(\n",
    "        x=C_plot,\n",
    "        y=θ_fit,\n",
    "        mode='lines',\n",
    "        line=dict(color=colors[idx]),\n",
    "        name=f\"Fit {int(row['λ'])} nm\"\n",
    "    ))\n",
    "    # Experimental points\n",
    "    fig.add_trace(go.Scatter(\n",
    "        x=spettro_ristretto['Concentrazione'],\n",
    "        y=spettro_ristretto[row['λ']],\n",
    "        mode='markers',\n",
    "        marker=dict(color=colors[idx]),\n",
    "        name=f\"Exp {int(row['λ'])} nm\",\n",
    "        showlegend=False\n",
    "    ))\n",
    "\n",
    "fig.update_layout(\n",
    "    xaxis_title='Concentrazione [μM]',\n",
    "    yaxis_title='θ (fit)',\n",
    "    legend_title='λ [nm]',\n",
    "    height=600,\n",
    "    width=800,\n",
    "    legend=dict(\n",
    "        x=1,\n",
    "        y=0,\n",
    "        xanchor='right',\n",
    "        yanchor='bottom'\n",
    "    )\n",
    ")\n",
    "\n",
    "fig.show()"
   ]
  },
  {
   "cell_type": "code",
   "execution_count": 53,
   "id": "2b6fc423",
   "metadata": {},
   "outputs": [
    {
     "data": {
      "application/vnd.plotly.v1+json": {
       "config": {
        "plotlyServerURL": "https://plot.ly"
       },
       "data": [
        {
         "error_y": {
          "array": {
           "bdata": "7/o8yFRgMUAefbCxF6s5QCQesdp3HURA3bt0RlB+OEC/bP2gD31CQHHOWc6CdzZALvCPIpxZNEAxdbyNrY4vQO79NiWM4ShA0+DXpPR+H0AzW3uicRQAQA==",
           "dtype": "f8"
          },
          "type": "data",
          "visible": true
         },
         "mode": "markers",
         "name": "Cmid",
         "type": "scatter",
         "x": {
          "bdata": "5gDlAOQA4wDiAOEA4ADfAN4A3QDcAA==",
          "dtype": "i2"
         },
         "y": {
          "bdata": "SqjRkUqlFcA1vvBJoJkLwKNl2f0rOQjAt+wu5uYGD8CvJkmTFtsIwBPR7xF2PQfA29lffye+B8AFMw7oIqsGwDs6uV0FIg3AfQEcvreTEMBUNcPrYW/jvw==",
          "dtype": "f8"
         }
        },
        {
         "line": {
          "color": "red",
          "dash": "dash"
         },
         "mode": "lines",
         "name": "Mean Cmid",
         "type": "scatter",
         "x": {
          "bdata": "2wDmAOUA5ADjAOIA4QDgAN8A3gDdANwA5wA=",
          "dtype": "i2"
         },
         "y": [
          -1.0433115875042804,
          -1.0433115875042804,
          -1.0433115875042804,
          -1.0433115875042804,
          -1.0433115875042804,
          -1.0433115875042804,
          -1.0433115875042804,
          -1.0433115875042804,
          -1.0433115875042804,
          -1.0433115875042804,
          -1.0433115875042804,
          -1.0433115875042804,
          -1.0433115875042804
         ]
        },
        {
         "line": {
          "color": "red",
          "width": 0
         },
         "mode": "lines",
         "showlegend": false,
         "type": "scatter",
         "x": {
          "bdata": "2wDmAOUA5ADjAOIA4QDgAN8A3gDdANwA5wA=",
          "dtype": "i2"
         },
         "y": [
          -2.172861149717802,
          -2.172861149717802,
          -2.172861149717802,
          -2.172861149717802,
          -2.172861149717802,
          -2.172861149717802,
          -2.172861149717802,
          -2.172861149717802,
          -2.172861149717802,
          -2.172861149717802,
          -2.172861149717802,
          -2.172861149717802,
          -2.172861149717802
         ]
        },
        {
         "fill": "tonexty",
         "fillcolor": "rgba(255,0,0,0.2)",
         "line": {
          "color": "red",
          "width": 0
         },
         "mode": "lines",
         "name": "Mean ± SEM",
         "type": "scatter",
         "x": {
          "bdata": "2wDmAOUA5ADjAOIA4QDgAN8A3gDdANwA5wA=",
          "dtype": "i2"
         },
         "y": [
          0.086237974709241,
          0.086237974709241,
          0.086237974709241,
          0.086237974709241,
          0.086237974709241,
          0.086237974709241,
          0.086237974709241,
          0.086237974709241,
          0.086237974709241,
          0.086237974709241,
          0.086237974709241,
          0.086237974709241,
          0.086237974709241
         ]
        }
       ],
       "layout": {
        "legend": {
         "title": {
          "text": "Legend"
         },
         "x": 1,
         "xanchor": "right",
         "y": 1,
         "yanchor": "top"
        },
        "template": {
         "data": {
          "bar": [
           {
            "error_x": {
             "color": "#2a3f5f"
            },
            "error_y": {
             "color": "#2a3f5f"
            },
            "marker": {
             "line": {
              "color": "#E5ECF6",
              "width": 0.5
             },
             "pattern": {
              "fillmode": "overlay",
              "size": 10,
              "solidity": 0.2
             }
            },
            "type": "bar"
           }
          ],
          "barpolar": [
           {
            "marker": {
             "line": {
              "color": "#E5ECF6",
              "width": 0.5
             },
             "pattern": {
              "fillmode": "overlay",
              "size": 10,
              "solidity": 0.2
             }
            },
            "type": "barpolar"
           }
          ],
          "carpet": [
           {
            "aaxis": {
             "endlinecolor": "#2a3f5f",
             "gridcolor": "white",
             "linecolor": "white",
             "minorgridcolor": "white",
             "startlinecolor": "#2a3f5f"
            },
            "baxis": {
             "endlinecolor": "#2a3f5f",
             "gridcolor": "white",
             "linecolor": "white",
             "minorgridcolor": "white",
             "startlinecolor": "#2a3f5f"
            },
            "type": "carpet"
           }
          ],
          "choropleth": [
           {
            "colorbar": {
             "outlinewidth": 0,
             "ticks": ""
            },
            "type": "choropleth"
           }
          ],
          "contour": [
           {
            "colorbar": {
             "outlinewidth": 0,
             "ticks": ""
            },
            "colorscale": [
             [
              0,
              "#0d0887"
             ],
             [
              0.1111111111111111,
              "#46039f"
             ],
             [
              0.2222222222222222,
              "#7201a8"
             ],
             [
              0.3333333333333333,
              "#9c179e"
             ],
             [
              0.4444444444444444,
              "#bd3786"
             ],
             [
              0.5555555555555556,
              "#d8576b"
             ],
             [
              0.6666666666666666,
              "#ed7953"
             ],
             [
              0.7777777777777778,
              "#fb9f3a"
             ],
             [
              0.8888888888888888,
              "#fdca26"
             ],
             [
              1,
              "#f0f921"
             ]
            ],
            "type": "contour"
           }
          ],
          "contourcarpet": [
           {
            "colorbar": {
             "outlinewidth": 0,
             "ticks": ""
            },
            "type": "contourcarpet"
           }
          ],
          "heatmap": [
           {
            "colorbar": {
             "outlinewidth": 0,
             "ticks": ""
            },
            "colorscale": [
             [
              0,
              "#0d0887"
             ],
             [
              0.1111111111111111,
              "#46039f"
             ],
             [
              0.2222222222222222,
              "#7201a8"
             ],
             [
              0.3333333333333333,
              "#9c179e"
             ],
             [
              0.4444444444444444,
              "#bd3786"
             ],
             [
              0.5555555555555556,
              "#d8576b"
             ],
             [
              0.6666666666666666,
              "#ed7953"
             ],
             [
              0.7777777777777778,
              "#fb9f3a"
             ],
             [
              0.8888888888888888,
              "#fdca26"
             ],
             [
              1,
              "#f0f921"
             ]
            ],
            "type": "heatmap"
           }
          ],
          "histogram": [
           {
            "marker": {
             "pattern": {
              "fillmode": "overlay",
              "size": 10,
              "solidity": 0.2
             }
            },
            "type": "histogram"
           }
          ],
          "histogram2d": [
           {
            "colorbar": {
             "outlinewidth": 0,
             "ticks": ""
            },
            "colorscale": [
             [
              0,
              "#0d0887"
             ],
             [
              0.1111111111111111,
              "#46039f"
             ],
             [
              0.2222222222222222,
              "#7201a8"
             ],
             [
              0.3333333333333333,
              "#9c179e"
             ],
             [
              0.4444444444444444,
              "#bd3786"
             ],
             [
              0.5555555555555556,
              "#d8576b"
             ],
             [
              0.6666666666666666,
              "#ed7953"
             ],
             [
              0.7777777777777778,
              "#fb9f3a"
             ],
             [
              0.8888888888888888,
              "#fdca26"
             ],
             [
              1,
              "#f0f921"
             ]
            ],
            "type": "histogram2d"
           }
          ],
          "histogram2dcontour": [
           {
            "colorbar": {
             "outlinewidth": 0,
             "ticks": ""
            },
            "colorscale": [
             [
              0,
              "#0d0887"
             ],
             [
              0.1111111111111111,
              "#46039f"
             ],
             [
              0.2222222222222222,
              "#7201a8"
             ],
             [
              0.3333333333333333,
              "#9c179e"
             ],
             [
              0.4444444444444444,
              "#bd3786"
             ],
             [
              0.5555555555555556,
              "#d8576b"
             ],
             [
              0.6666666666666666,
              "#ed7953"
             ],
             [
              0.7777777777777778,
              "#fb9f3a"
             ],
             [
              0.8888888888888888,
              "#fdca26"
             ],
             [
              1,
              "#f0f921"
             ]
            ],
            "type": "histogram2dcontour"
           }
          ],
          "mesh3d": [
           {
            "colorbar": {
             "outlinewidth": 0,
             "ticks": ""
            },
            "type": "mesh3d"
           }
          ],
          "parcoords": [
           {
            "line": {
             "colorbar": {
              "outlinewidth": 0,
              "ticks": ""
             }
            },
            "type": "parcoords"
           }
          ],
          "pie": [
           {
            "automargin": true,
            "type": "pie"
           }
          ],
          "scatter": [
           {
            "fillpattern": {
             "fillmode": "overlay",
             "size": 10,
             "solidity": 0.2
            },
            "type": "scatter"
           }
          ],
          "scatter3d": [
           {
            "line": {
             "colorbar": {
              "outlinewidth": 0,
              "ticks": ""
             }
            },
            "marker": {
             "colorbar": {
              "outlinewidth": 0,
              "ticks": ""
             }
            },
            "type": "scatter3d"
           }
          ],
          "scattercarpet": [
           {
            "marker": {
             "colorbar": {
              "outlinewidth": 0,
              "ticks": ""
             }
            },
            "type": "scattercarpet"
           }
          ],
          "scattergeo": [
           {
            "marker": {
             "colorbar": {
              "outlinewidth": 0,
              "ticks": ""
             }
            },
            "type": "scattergeo"
           }
          ],
          "scattergl": [
           {
            "marker": {
             "colorbar": {
              "outlinewidth": 0,
              "ticks": ""
             }
            },
            "type": "scattergl"
           }
          ],
          "scattermap": [
           {
            "marker": {
             "colorbar": {
              "outlinewidth": 0,
              "ticks": ""
             }
            },
            "type": "scattermap"
           }
          ],
          "scattermapbox": [
           {
            "marker": {
             "colorbar": {
              "outlinewidth": 0,
              "ticks": ""
             }
            },
            "type": "scattermapbox"
           }
          ],
          "scatterpolar": [
           {
            "marker": {
             "colorbar": {
              "outlinewidth": 0,
              "ticks": ""
             }
            },
            "type": "scatterpolar"
           }
          ],
          "scatterpolargl": [
           {
            "marker": {
             "colorbar": {
              "outlinewidth": 0,
              "ticks": ""
             }
            },
            "type": "scatterpolargl"
           }
          ],
          "scatterternary": [
           {
            "marker": {
             "colorbar": {
              "outlinewidth": 0,
              "ticks": ""
             }
            },
            "type": "scatterternary"
           }
          ],
          "surface": [
           {
            "colorbar": {
             "outlinewidth": 0,
             "ticks": ""
            },
            "colorscale": [
             [
              0,
              "#0d0887"
             ],
             [
              0.1111111111111111,
              "#46039f"
             ],
             [
              0.2222222222222222,
              "#7201a8"
             ],
             [
              0.3333333333333333,
              "#9c179e"
             ],
             [
              0.4444444444444444,
              "#bd3786"
             ],
             [
              0.5555555555555556,
              "#d8576b"
             ],
             [
              0.6666666666666666,
              "#ed7953"
             ],
             [
              0.7777777777777778,
              "#fb9f3a"
             ],
             [
              0.8888888888888888,
              "#fdca26"
             ],
             [
              1,
              "#f0f921"
             ]
            ],
            "type": "surface"
           }
          ],
          "table": [
           {
            "cells": {
             "fill": {
              "color": "#EBF0F8"
             },
             "line": {
              "color": "white"
             }
            },
            "header": {
             "fill": {
              "color": "#C8D4E3"
             },
             "line": {
              "color": "white"
             }
            },
            "type": "table"
           }
          ]
         },
         "layout": {
          "annotationdefaults": {
           "arrowcolor": "#2a3f5f",
           "arrowhead": 0,
           "arrowwidth": 1
          },
          "autotypenumbers": "strict",
          "coloraxis": {
           "colorbar": {
            "outlinewidth": 0,
            "ticks": ""
           }
          },
          "colorscale": {
           "diverging": [
            [
             0,
             "#8e0152"
            ],
            [
             0.1,
             "#c51b7d"
            ],
            [
             0.2,
             "#de77ae"
            ],
            [
             0.3,
             "#f1b6da"
            ],
            [
             0.4,
             "#fde0ef"
            ],
            [
             0.5,
             "#f7f7f7"
            ],
            [
             0.6,
             "#e6f5d0"
            ],
            [
             0.7,
             "#b8e186"
            ],
            [
             0.8,
             "#7fbc41"
            ],
            [
             0.9,
             "#4d9221"
            ],
            [
             1,
             "#276419"
            ]
           ],
           "sequential": [
            [
             0,
             "#0d0887"
            ],
            [
             0.1111111111111111,
             "#46039f"
            ],
            [
             0.2222222222222222,
             "#7201a8"
            ],
            [
             0.3333333333333333,
             "#9c179e"
            ],
            [
             0.4444444444444444,
             "#bd3786"
            ],
            [
             0.5555555555555556,
             "#d8576b"
            ],
            [
             0.6666666666666666,
             "#ed7953"
            ],
            [
             0.7777777777777778,
             "#fb9f3a"
            ],
            [
             0.8888888888888888,
             "#fdca26"
            ],
            [
             1,
             "#f0f921"
            ]
           ],
           "sequentialminus": [
            [
             0,
             "#0d0887"
            ],
            [
             0.1111111111111111,
             "#46039f"
            ],
            [
             0.2222222222222222,
             "#7201a8"
            ],
            [
             0.3333333333333333,
             "#9c179e"
            ],
            [
             0.4444444444444444,
             "#bd3786"
            ],
            [
             0.5555555555555556,
             "#d8576b"
            ],
            [
             0.6666666666666666,
             "#ed7953"
            ],
            [
             0.7777777777777778,
             "#fb9f3a"
            ],
            [
             0.8888888888888888,
             "#fdca26"
            ],
            [
             1,
             "#f0f921"
            ]
           ]
          },
          "colorway": [
           "#636efa",
           "#EF553B",
           "#00cc96",
           "#ab63fa",
           "#FFA15A",
           "#19d3f3",
           "#FF6692",
           "#B6E880",
           "#FF97FF",
           "#FECB52"
          ],
          "font": {
           "color": "#2a3f5f"
          },
          "geo": {
           "bgcolor": "white",
           "lakecolor": "white",
           "landcolor": "#E5ECF6",
           "showlakes": true,
           "showland": true,
           "subunitcolor": "white"
          },
          "hoverlabel": {
           "align": "left"
          },
          "hovermode": "closest",
          "mapbox": {
           "style": "light"
          },
          "paper_bgcolor": "white",
          "plot_bgcolor": "#E5ECF6",
          "polar": {
           "angularaxis": {
            "gridcolor": "white",
            "linecolor": "white",
            "ticks": ""
           },
           "bgcolor": "#E5ECF6",
           "radialaxis": {
            "gridcolor": "white",
            "linecolor": "white",
            "ticks": ""
           }
          },
          "scene": {
           "xaxis": {
            "backgroundcolor": "#E5ECF6",
            "gridcolor": "white",
            "gridwidth": 2,
            "linecolor": "white",
            "showbackground": true,
            "ticks": "",
            "zerolinecolor": "white"
           },
           "yaxis": {
            "backgroundcolor": "#E5ECF6",
            "gridcolor": "white",
            "gridwidth": 2,
            "linecolor": "white",
            "showbackground": true,
            "ticks": "",
            "zerolinecolor": "white"
           },
           "zaxis": {
            "backgroundcolor": "#E5ECF6",
            "gridcolor": "white",
            "gridwidth": 2,
            "linecolor": "white",
            "showbackground": true,
            "ticks": "",
            "zerolinecolor": "white"
           }
          },
          "shapedefaults": {
           "line": {
            "color": "#2a3f5f"
           }
          },
          "ternary": {
           "aaxis": {
            "gridcolor": "white",
            "linecolor": "white",
            "ticks": ""
           },
           "baxis": {
            "gridcolor": "white",
            "linecolor": "white",
            "ticks": ""
           },
           "bgcolor": "#E5ECF6",
           "caxis": {
            "gridcolor": "white",
            "linecolor": "white",
            "ticks": ""
           }
          },
          "title": {
           "x": 0.05
          },
          "xaxis": {
           "automargin": true,
           "gridcolor": "white",
           "linecolor": "white",
           "ticks": "",
           "title": {
            "standoff": 15
           },
           "zerolinecolor": "white",
           "zerolinewidth": 2
          },
          "yaxis": {
           "automargin": true,
           "gridcolor": "white",
           "linecolor": "white",
           "ticks": "",
           "title": {
            "standoff": 15
           },
           "zerolinecolor": "white",
           "zerolinewidth": 2
          }
         }
        },
        "xaxis": {
         "title": {
          "text": "λ [nm]"
         }
        },
        "yaxis": {
         "title": {
          "text": "Cmid"
         }
        }
       }
      }
     },
     "metadata": {},
     "output_type": "display_data"
    }
   ],
   "source": [
    "# Extract Cmid and its error\n",
    "Cmid_values = fit_df['Cmid']\n",
    "Cmid_errors = fit_df['Cmid_err']\n",
    "\n",
    "# Compute mean and standard error of the mean\n",
    "weights = 1/Cmid_errors**2\n",
    "mean_Cmid = np.average(Cmid_values, weights=weights)\n",
    "mean_Cmid_err = np.sqrt(np.sum(weights*((Cmid_values-mean_Cmid)**2))/np.sum(weights))\n",
    "\n",
    "\n",
    "\n",
    "fig = go.Figure()\n",
    "\n",
    "# markers\n",
    "fig.add_trace(go.Scatter(\n",
    "    x=fit_df['λ'],\n",
    "    y=Cmid_values,\n",
    "    error_y=dict(type='data', array=Cmid_errors, visible=True),\n",
    "    mode='markers',\n",
    "    name='Cmid'\n",
    "))\n",
    "\n",
    "mean_line_points = np.concatenate([[219],fit_df['λ'],[231]])\n",
    "# mean dashed line\n",
    "fig.add_trace(go.Scatter(\n",
    "    x= mean_line_points,\n",
    "    y=[mean_Cmid]*len(mean_line_points),\n",
    "    mode='lines',\n",
    "    line=dict(color='red', dash='dash'),\n",
    "    name='Mean Cmid'\n",
    "))\n",
    "\n",
    "# bottom\n",
    "fig.add_trace(go.Scatter(\n",
    "    x=mean_line_points,\n",
    "    y=[mean_Cmid - mean_Cmid_err]*len(mean_line_points),\n",
    "    mode='lines',\n",
    "    line=dict(color='red', width=0),\n",
    "    showlegend=False\n",
    "))\n",
    "#top\n",
    "fig.add_trace(go.Scatter(\n",
    "    x=mean_line_points,\n",
    "    y=[mean_Cmid + mean_Cmid_err]*len(mean_line_points),\n",
    "    mode='lines',\n",
    "    fill='tonexty',\n",
    "    fillcolor='rgba(255,0,0,0.2)',\n",
    "    line=dict(color='red', width=0),\n",
    "    name='Mean ± SEM'\n",
    "))\n",
    "\n",
    "fig.update_layout(\n",
    "    xaxis_title='λ [nm]',\n",
    "    yaxis_title='Cmid',\n",
    "    # title='Cmid vs λ with Mean and SEM',\n",
    "    legend_title='Legend',\n",
    "    legend=dict(\n",
    "        x=1,\n",
    "        y=1,\n",
    "        xanchor='right',\n",
    "        yanchor='top'\n",
    "    )\n",
    ")\n",
    "\n",
    "fig.show()"
   ]
  },
  {
   "cell_type": "code",
   "execution_count": 54,
   "id": "7fe6c783",
   "metadata": {},
   "outputs": [
    {
     "data": {
      "application/vnd.plotly.v1+json": {
       "config": {
        "plotlyServerURL": "https://plot.ly"
       },
       "data": [
        {
         "error_y": {
          "array": {
           "bdata": "0wK/T4GiyT/9RC5DlrbgP7Yb+dv9A+4/rNcaZjrr2j+cP1Du0qnqP+CIkJdliOE/s/EfPwoa3z93QxsaYGfaP5r0emeZHc8/C8x7HjE+wT+HPFJ/AovBPw==",
           "dtype": "f8"
          },
          "type": "data",
          "visible": true
         },
         "mode": "markers",
         "name": "A",
         "type": "scatter",
         "x": {
          "bdata": "5gDlAOQA4wDiAOEA4ADfAN4A3QDcAA==",
          "dtype": "i2"
         },
         "y": {
          "bdata": "NaSpXSKj0T+oGHNu7FHUPwVnb2E5+dQ/3c80ouEV0z+l/cVhWLXUP6GrxMSmPNU/ijtlG5Ah1T/1hFcKTxzWPwFLNflOW9Q/Z0Doo2f80z8CMXZLHBXcPw==",
          "dtype": "f8"
         }
        },
        {
         "line": {
          "color": "red",
          "dash": "dash"
         },
         "mode": "lines",
         "name": "Mean A",
         "type": "scatter",
         "x": {
          "bdata": "2wDmAOUA5ADjAOIA4QDgAN8A3gDdANwA5wA=",
          "dtype": "i2"
         },
         "y": [
          0.34775665063454597,
          0.34775665063454597,
          0.34775665063454597,
          0.34775665063454597,
          0.34775665063454597,
          0.34775665063454597,
          0.34775665063454597,
          0.34775665063454597,
          0.34775665063454597,
          0.34775665063454597,
          0.34775665063454597,
          0.34775665063454597,
          0.34775665063454597
         ]
        },
        {
         "line": {
          "color": "red",
          "width": 0
         },
         "mode": "lines",
         "showlegend": false,
         "type": "scatter",
         "x": {
          "bdata": "2wDmAOUA5ADjAOIA4QDgAN8A3gDdANwA5wA=",
          "dtype": "i2"
         },
         "y": [
          0.2856983862150216,
          0.2856983862150216,
          0.2856983862150216,
          0.2856983862150216,
          0.2856983862150216,
          0.2856983862150216,
          0.2856983862150216,
          0.2856983862150216,
          0.2856983862150216,
          0.2856983862150216,
          0.2856983862150216,
          0.2856983862150216,
          0.2856983862150216
         ]
        },
        {
         "fill": "tonexty",
         "fillcolor": "rgba(255,0,0,0.2)",
         "line": {
          "color": "red",
          "width": 0
         },
         "mode": "lines",
         "name": "Mean ± SEM",
         "type": "scatter",
         "x": {
          "bdata": "2wDmAOUA5ADjAOIA4QDgAN8A3gDdANwA5wA=",
          "dtype": "i2"
         },
         "y": [
          0.40981491505407036,
          0.40981491505407036,
          0.40981491505407036,
          0.40981491505407036,
          0.40981491505407036,
          0.40981491505407036,
          0.40981491505407036,
          0.40981491505407036,
          0.40981491505407036,
          0.40981491505407036,
          0.40981491505407036,
          0.40981491505407036,
          0.40981491505407036
         ]
        }
       ],
       "layout": {
        "legend": {
         "title": {
          "text": "Legend"
         },
         "x": 1,
         "xanchor": "right",
         "y": 1,
         "yanchor": "top"
        },
        "template": {
         "data": {
          "bar": [
           {
            "error_x": {
             "color": "#2a3f5f"
            },
            "error_y": {
             "color": "#2a3f5f"
            },
            "marker": {
             "line": {
              "color": "#E5ECF6",
              "width": 0.5
             },
             "pattern": {
              "fillmode": "overlay",
              "size": 10,
              "solidity": 0.2
             }
            },
            "type": "bar"
           }
          ],
          "barpolar": [
           {
            "marker": {
             "line": {
              "color": "#E5ECF6",
              "width": 0.5
             },
             "pattern": {
              "fillmode": "overlay",
              "size": 10,
              "solidity": 0.2
             }
            },
            "type": "barpolar"
           }
          ],
          "carpet": [
           {
            "aaxis": {
             "endlinecolor": "#2a3f5f",
             "gridcolor": "white",
             "linecolor": "white",
             "minorgridcolor": "white",
             "startlinecolor": "#2a3f5f"
            },
            "baxis": {
             "endlinecolor": "#2a3f5f",
             "gridcolor": "white",
             "linecolor": "white",
             "minorgridcolor": "white",
             "startlinecolor": "#2a3f5f"
            },
            "type": "carpet"
           }
          ],
          "choropleth": [
           {
            "colorbar": {
             "outlinewidth": 0,
             "ticks": ""
            },
            "type": "choropleth"
           }
          ],
          "contour": [
           {
            "colorbar": {
             "outlinewidth": 0,
             "ticks": ""
            },
            "colorscale": [
             [
              0,
              "#0d0887"
             ],
             [
              0.1111111111111111,
              "#46039f"
             ],
             [
              0.2222222222222222,
              "#7201a8"
             ],
             [
              0.3333333333333333,
              "#9c179e"
             ],
             [
              0.4444444444444444,
              "#bd3786"
             ],
             [
              0.5555555555555556,
              "#d8576b"
             ],
             [
              0.6666666666666666,
              "#ed7953"
             ],
             [
              0.7777777777777778,
              "#fb9f3a"
             ],
             [
              0.8888888888888888,
              "#fdca26"
             ],
             [
              1,
              "#f0f921"
             ]
            ],
            "type": "contour"
           }
          ],
          "contourcarpet": [
           {
            "colorbar": {
             "outlinewidth": 0,
             "ticks": ""
            },
            "type": "contourcarpet"
           }
          ],
          "heatmap": [
           {
            "colorbar": {
             "outlinewidth": 0,
             "ticks": ""
            },
            "colorscale": [
             [
              0,
              "#0d0887"
             ],
             [
              0.1111111111111111,
              "#46039f"
             ],
             [
              0.2222222222222222,
              "#7201a8"
             ],
             [
              0.3333333333333333,
              "#9c179e"
             ],
             [
              0.4444444444444444,
              "#bd3786"
             ],
             [
              0.5555555555555556,
              "#d8576b"
             ],
             [
              0.6666666666666666,
              "#ed7953"
             ],
             [
              0.7777777777777778,
              "#fb9f3a"
             ],
             [
              0.8888888888888888,
              "#fdca26"
             ],
             [
              1,
              "#f0f921"
             ]
            ],
            "type": "heatmap"
           }
          ],
          "histogram": [
           {
            "marker": {
             "pattern": {
              "fillmode": "overlay",
              "size": 10,
              "solidity": 0.2
             }
            },
            "type": "histogram"
           }
          ],
          "histogram2d": [
           {
            "colorbar": {
             "outlinewidth": 0,
             "ticks": ""
            },
            "colorscale": [
             [
              0,
              "#0d0887"
             ],
             [
              0.1111111111111111,
              "#46039f"
             ],
             [
              0.2222222222222222,
              "#7201a8"
             ],
             [
              0.3333333333333333,
              "#9c179e"
             ],
             [
              0.4444444444444444,
              "#bd3786"
             ],
             [
              0.5555555555555556,
              "#d8576b"
             ],
             [
              0.6666666666666666,
              "#ed7953"
             ],
             [
              0.7777777777777778,
              "#fb9f3a"
             ],
             [
              0.8888888888888888,
              "#fdca26"
             ],
             [
              1,
              "#f0f921"
             ]
            ],
            "type": "histogram2d"
           }
          ],
          "histogram2dcontour": [
           {
            "colorbar": {
             "outlinewidth": 0,
             "ticks": ""
            },
            "colorscale": [
             [
              0,
              "#0d0887"
             ],
             [
              0.1111111111111111,
              "#46039f"
             ],
             [
              0.2222222222222222,
              "#7201a8"
             ],
             [
              0.3333333333333333,
              "#9c179e"
             ],
             [
              0.4444444444444444,
              "#bd3786"
             ],
             [
              0.5555555555555556,
              "#d8576b"
             ],
             [
              0.6666666666666666,
              "#ed7953"
             ],
             [
              0.7777777777777778,
              "#fb9f3a"
             ],
             [
              0.8888888888888888,
              "#fdca26"
             ],
             [
              1,
              "#f0f921"
             ]
            ],
            "type": "histogram2dcontour"
           }
          ],
          "mesh3d": [
           {
            "colorbar": {
             "outlinewidth": 0,
             "ticks": ""
            },
            "type": "mesh3d"
           }
          ],
          "parcoords": [
           {
            "line": {
             "colorbar": {
              "outlinewidth": 0,
              "ticks": ""
             }
            },
            "type": "parcoords"
           }
          ],
          "pie": [
           {
            "automargin": true,
            "type": "pie"
           }
          ],
          "scatter": [
           {
            "fillpattern": {
             "fillmode": "overlay",
             "size": 10,
             "solidity": 0.2
            },
            "type": "scatter"
           }
          ],
          "scatter3d": [
           {
            "line": {
             "colorbar": {
              "outlinewidth": 0,
              "ticks": ""
             }
            },
            "marker": {
             "colorbar": {
              "outlinewidth": 0,
              "ticks": ""
             }
            },
            "type": "scatter3d"
           }
          ],
          "scattercarpet": [
           {
            "marker": {
             "colorbar": {
              "outlinewidth": 0,
              "ticks": ""
             }
            },
            "type": "scattercarpet"
           }
          ],
          "scattergeo": [
           {
            "marker": {
             "colorbar": {
              "outlinewidth": 0,
              "ticks": ""
             }
            },
            "type": "scattergeo"
           }
          ],
          "scattergl": [
           {
            "marker": {
             "colorbar": {
              "outlinewidth": 0,
              "ticks": ""
             }
            },
            "type": "scattergl"
           }
          ],
          "scattermap": [
           {
            "marker": {
             "colorbar": {
              "outlinewidth": 0,
              "ticks": ""
             }
            },
            "type": "scattermap"
           }
          ],
          "scattermapbox": [
           {
            "marker": {
             "colorbar": {
              "outlinewidth": 0,
              "ticks": ""
             }
            },
            "type": "scattermapbox"
           }
          ],
          "scatterpolar": [
           {
            "marker": {
             "colorbar": {
              "outlinewidth": 0,
              "ticks": ""
             }
            },
            "type": "scatterpolar"
           }
          ],
          "scatterpolargl": [
           {
            "marker": {
             "colorbar": {
              "outlinewidth": 0,
              "ticks": ""
             }
            },
            "type": "scatterpolargl"
           }
          ],
          "scatterternary": [
           {
            "marker": {
             "colorbar": {
              "outlinewidth": 0,
              "ticks": ""
             }
            },
            "type": "scatterternary"
           }
          ],
          "surface": [
           {
            "colorbar": {
             "outlinewidth": 0,
             "ticks": ""
            },
            "colorscale": [
             [
              0,
              "#0d0887"
             ],
             [
              0.1111111111111111,
              "#46039f"
             ],
             [
              0.2222222222222222,
              "#7201a8"
             ],
             [
              0.3333333333333333,
              "#9c179e"
             ],
             [
              0.4444444444444444,
              "#bd3786"
             ],
             [
              0.5555555555555556,
              "#d8576b"
             ],
             [
              0.6666666666666666,
              "#ed7953"
             ],
             [
              0.7777777777777778,
              "#fb9f3a"
             ],
             [
              0.8888888888888888,
              "#fdca26"
             ],
             [
              1,
              "#f0f921"
             ]
            ],
            "type": "surface"
           }
          ],
          "table": [
           {
            "cells": {
             "fill": {
              "color": "#EBF0F8"
             },
             "line": {
              "color": "white"
             }
            },
            "header": {
             "fill": {
              "color": "#C8D4E3"
             },
             "line": {
              "color": "white"
             }
            },
            "type": "table"
           }
          ]
         },
         "layout": {
          "annotationdefaults": {
           "arrowcolor": "#2a3f5f",
           "arrowhead": 0,
           "arrowwidth": 1
          },
          "autotypenumbers": "strict",
          "coloraxis": {
           "colorbar": {
            "outlinewidth": 0,
            "ticks": ""
           }
          },
          "colorscale": {
           "diverging": [
            [
             0,
             "#8e0152"
            ],
            [
             0.1,
             "#c51b7d"
            ],
            [
             0.2,
             "#de77ae"
            ],
            [
             0.3,
             "#f1b6da"
            ],
            [
             0.4,
             "#fde0ef"
            ],
            [
             0.5,
             "#f7f7f7"
            ],
            [
             0.6,
             "#e6f5d0"
            ],
            [
             0.7,
             "#b8e186"
            ],
            [
             0.8,
             "#7fbc41"
            ],
            [
             0.9,
             "#4d9221"
            ],
            [
             1,
             "#276419"
            ]
           ],
           "sequential": [
            [
             0,
             "#0d0887"
            ],
            [
             0.1111111111111111,
             "#46039f"
            ],
            [
             0.2222222222222222,
             "#7201a8"
            ],
            [
             0.3333333333333333,
             "#9c179e"
            ],
            [
             0.4444444444444444,
             "#bd3786"
            ],
            [
             0.5555555555555556,
             "#d8576b"
            ],
            [
             0.6666666666666666,
             "#ed7953"
            ],
            [
             0.7777777777777778,
             "#fb9f3a"
            ],
            [
             0.8888888888888888,
             "#fdca26"
            ],
            [
             1,
             "#f0f921"
            ]
           ],
           "sequentialminus": [
            [
             0,
             "#0d0887"
            ],
            [
             0.1111111111111111,
             "#46039f"
            ],
            [
             0.2222222222222222,
             "#7201a8"
            ],
            [
             0.3333333333333333,
             "#9c179e"
            ],
            [
             0.4444444444444444,
             "#bd3786"
            ],
            [
             0.5555555555555556,
             "#d8576b"
            ],
            [
             0.6666666666666666,
             "#ed7953"
            ],
            [
             0.7777777777777778,
             "#fb9f3a"
            ],
            [
             0.8888888888888888,
             "#fdca26"
            ],
            [
             1,
             "#f0f921"
            ]
           ]
          },
          "colorway": [
           "#636efa",
           "#EF553B",
           "#00cc96",
           "#ab63fa",
           "#FFA15A",
           "#19d3f3",
           "#FF6692",
           "#B6E880",
           "#FF97FF",
           "#FECB52"
          ],
          "font": {
           "color": "#2a3f5f"
          },
          "geo": {
           "bgcolor": "white",
           "lakecolor": "white",
           "landcolor": "#E5ECF6",
           "showlakes": true,
           "showland": true,
           "subunitcolor": "white"
          },
          "hoverlabel": {
           "align": "left"
          },
          "hovermode": "closest",
          "mapbox": {
           "style": "light"
          },
          "paper_bgcolor": "white",
          "plot_bgcolor": "#E5ECF6",
          "polar": {
           "angularaxis": {
            "gridcolor": "white",
            "linecolor": "white",
            "ticks": ""
           },
           "bgcolor": "#E5ECF6",
           "radialaxis": {
            "gridcolor": "white",
            "linecolor": "white",
            "ticks": ""
           }
          },
          "scene": {
           "xaxis": {
            "backgroundcolor": "#E5ECF6",
            "gridcolor": "white",
            "gridwidth": 2,
            "linecolor": "white",
            "showbackground": true,
            "ticks": "",
            "zerolinecolor": "white"
           },
           "yaxis": {
            "backgroundcolor": "#E5ECF6",
            "gridcolor": "white",
            "gridwidth": 2,
            "linecolor": "white",
            "showbackground": true,
            "ticks": "",
            "zerolinecolor": "white"
           },
           "zaxis": {
            "backgroundcolor": "#E5ECF6",
            "gridcolor": "white",
            "gridwidth": 2,
            "linecolor": "white",
            "showbackground": true,
            "ticks": "",
            "zerolinecolor": "white"
           }
          },
          "shapedefaults": {
           "line": {
            "color": "#2a3f5f"
           }
          },
          "ternary": {
           "aaxis": {
            "gridcolor": "white",
            "linecolor": "white",
            "ticks": ""
           },
           "baxis": {
            "gridcolor": "white",
            "linecolor": "white",
            "ticks": ""
           },
           "bgcolor": "#E5ECF6",
           "caxis": {
            "gridcolor": "white",
            "linecolor": "white",
            "ticks": ""
           }
          },
          "title": {
           "x": 0.05
          },
          "xaxis": {
           "automargin": true,
           "gridcolor": "white",
           "linecolor": "white",
           "ticks": "",
           "title": {
            "standoff": 15
           },
           "zerolinecolor": "white",
           "zerolinewidth": 2
          },
          "yaxis": {
           "automargin": true,
           "gridcolor": "white",
           "linecolor": "white",
           "ticks": "",
           "title": {
            "standoff": 15
           },
           "zerolinecolor": "white",
           "zerolinewidth": 2
          }
         }
        },
        "xaxis": {
         "title": {
          "text": "λ [nm]"
         }
        },
        "yaxis": {
         "title": {
          "text": "A"
         }
        }
       }
      }
     },
     "metadata": {},
     "output_type": "display_data"
    }
   ],
   "source": [
    "# Extract m and its error\n",
    "A_values = fit_df['A']\n",
    "A_errors = fit_df['A_err']\n",
    "\n",
    "# Compute mean and standard error of the mean\n",
    "weights_A = 1 / A_errors**2\n",
    "mean_A = np.average(A_values, weights=weights_A)\n",
    "mean_A_err = np.sqrt(np.sum(weights_A * ((A_values - mean_A) ** 2)) / np.sum(weights_A))\n",
    "\n",
    "fig = go.Figure()\n",
    "\n",
    "# markers with error bars\n",
    "fig.add_trace(go.Scatter(\n",
    "    x=fit_df['λ'],\n",
    "    y=A_values,\n",
    "    error_y=dict(type='data', array=A_errors, visible=True),\n",
    "    mode='markers',\n",
    "    name='A'\n",
    "))\n",
    "\n",
    "mean_line_points = np.concatenate([[λmin-1], fit_df['λ'], [λmax+1]])\n",
    "# mean dashed line\n",
    "fig.add_trace(go.Scatter(\n",
    "    x=mean_line_points,\n",
    "    y=[mean_A]*len(mean_line_points),\n",
    "    mode='lines',\n",
    "    line=dict(color='red', dash='dash'),\n",
    "    name='Mean A'\n",
    "))\n",
    "\n",
    "# bottom\n",
    "fig.add_trace(go.Scatter(\n",
    "    x=mean_line_points,\n",
    "    y=[mean_A - mean_A_err]*len(mean_line_points),\n",
    "    mode='lines',\n",
    "    line=dict(color='red', width=0),\n",
    "    showlegend=False\n",
    "))\n",
    "# top\n",
    "fig.add_trace(go.Scatter(\n",
    "    x=mean_line_points,\n",
    "    y=[mean_A + mean_A_err]*len(mean_line_points),\n",
    "    mode='lines',\n",
    "    fill='tonexty',\n",
    "    fillcolor='rgba(255,0,0,0.2)',\n",
    "    line=dict(color='red', width=0),\n",
    "    name='Mean ± SEM'\n",
    "))\n",
    "\n",
    "fig.update_layout(\n",
    "    xaxis_title='λ [nm]',\n",
    "    yaxis_title='A',\n",
    "    legend_title='Legend',\n",
    "    legend=dict(\n",
    "        x=1,\n",
    "        y=1,\n",
    "        xanchor='right',\n",
    "        yanchor='top'\n",
    "    )\n",
    ")\n",
    "\n",
    "fig.show()\n"
   ]
  },
  {
   "cell_type": "code",
   "execution_count": 55,
   "id": "bd2b45ed",
   "metadata": {},
   "outputs": [
    {
     "name": "stdout",
     "output_type": "stream",
     "text": [
      "Cmid:  -1.0433 ± 1.1295 μM\n",
      "A:  0.348 ± 0.062 μM^-1\n",
      "m:  (1.39 ± 0.25)e-10 LJ/mol2\n",
      "-1.4546489585386078e-16 -1.5961375314460796e-16\n"
     ]
    }
   ],
   "source": [
    "# stampa medie\n",
    "\n",
    "# print(\"Media pesata di Cmid:\", mean_Cmid)\n",
    "# print(\"Errore sulla media pesata di Cmid:\", mean_Cmid_err)\n",
    "# print(\"Media pesata di m:\", mean_A)\n",
    "# print(\"Errore sulla media pesata di m:\", mean_A_err)\n",
    "\n",
    "print('Cmid: ',final_val(mean_Cmid,mean_Cmid_err,4,udm='μM'))\n",
    "print('A: ',final_val(mean_A,mean_A_err,3,udm='μM^-1'))\n",
    "\n",
    "m = mean_A/(R*T*1000000)\n",
    "err_m = mean_A_err/(R*T*1000000)\n",
    "\n",
    "\n",
    "print('m: ', final_val(m,err_m,exp=-10, udm='LJ/mol2'))\n",
    "\n",
    "ΔG = m * mean_Cmid/1000000\n",
    "sigmaΔG = ΔG*np.sqrt((err_m/m)**2 + (mean_Cmid_err/mean_Cmid)**2)\n",
    "\n",
    "print(ΔG,sigmaΔG)"
   ]
  }
 ],
 "metadata": {
  "kernelspec": {
   "display_name": "Python 3",
   "language": "python",
   "name": "python3"
  },
  "language_info": {
   "codemirror_mode": {
    "name": "ipython",
    "version": 3
   },
   "file_extension": ".py",
   "mimetype": "text/x-python",
   "name": "python",
   "nbconvert_exporter": "python",
   "pygments_lexer": "ipython3",
   "version": "3.13.0"
  }
 },
 "nbformat": 4,
 "nbformat_minor": 5
}
