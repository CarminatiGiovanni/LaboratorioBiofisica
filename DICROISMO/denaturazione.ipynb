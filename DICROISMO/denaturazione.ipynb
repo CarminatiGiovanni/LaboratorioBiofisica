{
 "cells": [
  {
   "cell_type": "code",
   "execution_count": 21,
   "id": "bf6f4978",
   "metadata": {},
   "outputs": [],
   "source": [
    "from matplotlib import pyplot as plt\n",
    "from scipy.optimize import curve_fit\n",
    "import numpy as np\n",
    "import pandas as pd\n",
    "import plotly.express as px\n",
    "import os\n",
    "import sys\n",
    "import plotly.graph_objects as go \n",
    "dir_path = os.path.abspath('')\n",
    "sys.path.append(dir_path + '/../')\n",
    "from labbiofisica import final_val"
   ]
  },
  {
   "cell_type": "code",
   "execution_count": 22,
   "id": "27a06352",
   "metadata": {},
   "outputs": [
    {
     "data": {
      "text/html": [
       "<div>\n",
       "<style scoped>\n",
       "    .dataframe tbody tr th:only-of-type {\n",
       "        vertical-align: middle;\n",
       "    }\n",
       "\n",
       "    .dataframe tbody tr th {\n",
       "        vertical-align: top;\n",
       "    }\n",
       "\n",
       "    .dataframe thead th {\n",
       "        text-align: right;\n",
       "    }\n",
       "</style>\n",
       "<table border=\"1\" class=\"dataframe\">\n",
       "  <thead>\n",
       "    <tr style=\"text-align: right;\">\n",
       "      <th></th>\n",
       "      <th>λ</th>\n",
       "      <th>C0</th>\n",
       "      <th>C1</th>\n",
       "      <th>C2</th>\n",
       "      <th>C3</th>\n",
       "      <th>C4</th>\n",
       "      <th>C5</th>\n",
       "    </tr>\n",
       "  </thead>\n",
       "  <tbody>\n",
       "    <tr>\n",
       "      <th>55</th>\n",
       "      <td>205</td>\n",
       "      <td>-0.02454</td>\n",
       "      <td>-0.02172</td>\n",
       "      <td>-0.02031</td>\n",
       "      <td>-0.02233</td>\n",
       "      <td>-0.01931</td>\n",
       "      <td>-0.01872</td>\n",
       "    </tr>\n",
       "    <tr>\n",
       "      <th>56</th>\n",
       "      <td>204</td>\n",
       "      <td>-0.02265</td>\n",
       "      <td>-0.01981</td>\n",
       "      <td>-0.02289</td>\n",
       "      <td>-0.02221</td>\n",
       "      <td>-0.02085</td>\n",
       "      <td>-0.01986</td>\n",
       "    </tr>\n",
       "    <tr>\n",
       "      <th>57</th>\n",
       "      <td>203</td>\n",
       "      <td>-0.02256</td>\n",
       "      <td>-0.01913</td>\n",
       "      <td>-0.02492</td>\n",
       "      <td>-0.02548</td>\n",
       "      <td>-0.01868</td>\n",
       "      <td>-0.02221</td>\n",
       "    </tr>\n",
       "    <tr>\n",
       "      <th>58</th>\n",
       "      <td>202</td>\n",
       "      <td>-0.02118</td>\n",
       "      <td>-0.02115</td>\n",
       "      <td>-0.02197</td>\n",
       "      <td>-0.02395</td>\n",
       "      <td>-0.02055</td>\n",
       "      <td>-0.02537</td>\n",
       "    </tr>\n",
       "    <tr>\n",
       "      <th>59</th>\n",
       "      <td>201</td>\n",
       "      <td>-0.01932</td>\n",
       "      <td>-0.02146</td>\n",
       "      <td>-0.02278</td>\n",
       "      <td>-0.01982</td>\n",
       "      <td>-0.02226</td>\n",
       "      <td>-0.02139</td>\n",
       "    </tr>\n",
       "  </tbody>\n",
       "</table>\n",
       "</div>"
      ],
      "text/plain": [
       "      λ       C0       C1       C2       C3       C4       C5\n",
       "55  205 -0.02454 -0.02172 -0.02031 -0.02233 -0.01931 -0.01872\n",
       "56  204 -0.02265 -0.01981 -0.02289 -0.02221 -0.02085 -0.01986\n",
       "57  203 -0.02256 -0.01913 -0.02492 -0.02548 -0.01868 -0.02221\n",
       "58  202 -0.02118 -0.02115 -0.02197 -0.02395 -0.02055 -0.02537\n",
       "59  201 -0.01932 -0.02146 -0.02278 -0.01982 -0.02226 -0.02139"
      ]
     },
     "execution_count": 22,
     "metadata": {},
     "output_type": "execute_result"
    }
   ],
   "source": [
    "path = dir_path+'/data/'\n",
    "\n",
    "spettriRAW = pd.DataFrame()\n",
    "for i in ['0','1','2','3','4','5']:\n",
    "    c = 'C' + i\n",
    "    data = pd.read_csv(path + c + '.dat',header = None, skiprows=1,sep='\\t')\n",
    "    \n",
    "    spettriRAW['λ'] = data.iloc[:, 0]\n",
    "    spettriRAW[c] = data.iloc[:,1]\n",
    "\n",
    "spettriRAW.tail()"
   ]
  },
  {
   "cell_type": "code",
   "execution_count": 23,
   "id": "5e426f37",
   "metadata": {},
   "outputs": [],
   "source": [
    "N = 162 #numero residui BLG\n",
    "l = 0.5 # lunghezza cammino ottico in cm\n",
    "R = 8.314 # J/(mol * K)\n",
    "T = 298.15 # K"
   ]
  },
  {
   "cell_type": "code",
   "execution_count": 24,
   "id": "15e0b7a6",
   "metadata": {},
   "outputs": [
    {
     "name": "stdout",
     "output_type": "stream",
     "text": [
      "Concentrazione GuHCl [M]:  [0.         1.52949946 3.09330147 4.66814848 6.13015    7.73593004]\n"
     ]
    }
   ],
   "source": [
    "# import concentrazioni* 1000000 #M\n",
    "\n",
    "concentrazioni = np.array([0,1.529499455,3.093301471,4.668148484,6.130150005,7.735930045]) # M\n",
    "\n",
    "concentrazioniBLG = np.array([4.05537E-06, 3.52052E-06, 3.58147E-06, 3.64439E-06, 3.66342E-06, 3.57871E-06]) # M\n",
    "\n",
    "print('Concentrazione GuHCl [M]: ',concentrazioni)"
   ]
  },
  {
   "cell_type": "code",
   "execution_count": 25,
   "id": "8bf8bad9",
   "metadata": {},
   "outputs": [
    {
     "data": {
      "application/vnd.plotly.v1+json": {
       "config": {
        "plotlyServerURL": "https://plot.ly"
       },
       "data": [
        {
         "mode": "lines",
         "name": "0.0",
         "type": "scatter",
         "x": {
          "bdata": "BAEDAQIBAQEAAf8A/gD9APwA+wD6APkA+AD3APYA9QD0APMA8gDxAPAA7wDuAO0A7ADrAOoA6QDoAOcA5gDlAOQA4wDiAOEA4ADfAN4A3QDcANsA2gDZANgA1wDWANUA1ADTANIA0QDQAM8AzgDNAMwAywDKAMkA",
          "dtype": "i2"
         },
         "y": {
          "bdata": "lPYGX5hMlb9R2ht8YTKVv8Iv9fOmIpW/5L1qZcIvlb9VE0TdByCVv/3ZjxSRYZW/4IRCBBxClb9NofMau0SVv3Noke18P5W//dmPFJFhlb+2hHzQs1mVv9cS8kHPZpW/qdkDrcCQlb/xLhfxnZiVv1oSoKaWrZW/oWez6nO1lb9F9dbAVgmWv4gRwqONI5a/Ykok0csolr/x9EpZhjiWv1Fmg0wycpa/Ap8fRgiPlr/YnlkSoKaWv6pla32R0Ja/8bp+wW7Ylr+7D0BqEyeXv8eA7PXuj5e/YtaLoZxol79JgJpattaXvxPVWwNbJZi/Tn/2I0VkmL9jYvNxbaiYvw9iZwqd15i/v5oDBHP0mL/+fcaFAyGZv8wLsI9OXZm/mpmZmZmZmb+qQ26GG/CZv+5fWWlSCpq/7iWN0Tqqmr8p0CfyJOmav2iz6nO1FZu/FLNeDOVEm799lufB3Vmbv8xdS8gHPZu/xOv6Bbthm78Us14M5USbv8Tr+gW7YZu/s0EmGTkLm7/RlnMpriqbv0YldQKaCJu/QuxMofMam79T0O0ljdGav1t8CoDxDJq/9gt2w7ZFmb/+fcaFAyGZv2+BBMWPMZe/mYHK+PcZl7/HLlG9NbCVv3+HokCfyJO/",
          "dtype": "f8"
         }
        },
        {
         "mode": "lines",
         "name": "1.53",
         "type": "scatter",
         "x": {
          "bdata": "BAEDAQIBAQEAAf8A/gD9APwA+wD6APkA+AD3APYA9QD0APMA8gDxAPAA7wDuAO0A7ADrAOoA6QDoAOcA5gDlAOQA4wDiAOEA4ADfAN4A3QDcANsA2gDZANgA1wDWANUA1ADTANIA0QDQAM8AzgDNAMwAywDKAMkA",
          "dtype": "i2"
         },
         "y": {
          "bdata": "9S1zuiwmlr+pnzcVqTCWvxv1EI3uIJa/QbyuX7Ablr8XvOgrSDOWv2aDTDJyFpa/G/UQje4glr9mg0wychaWv89m1edqK5a/G/UQje4glr+u2F92Tx6Wv9Of/UgRGZa/9S1zuiwmlr+E2JlC5zWWv4CfceFASJa/e2ZJgJpalr/Du1zEd2KWvwoRcAhVapa/c/T4vU1/lr9vu9Bcp5GWv7LXuz/eq5a/jBAebRyxlr+lLEMc6+KWv5mByvj3GZe/3J212y40l79enWNA9nqXvwZkr3d/vJe/KPIk6ZrJl7/6uDZUjPOXvxPVWwNbJZi/PZtVn6utmL9fKcsQx7qYv6JFtvP91Ji/JEVkWMUbmb8ofoy5awmZv7PviuB/K5m/hbacS3FVmb/pYP2fw3yZv921hHzQs5m/6SYxCKwcmr8k0csolluavxgmUwWjkpq/1QloImx4mr90XmOXqN6av/ZdEfxvJZu/dF5jl6jemr+ze/KwUGuav56Y9WIoJ5q/GCZTBaOSmr8DQ1a3ek6av+4ljdE6qpq/OWItPgXAmL9vu9Bcp5GWv8vz4O6s3Za/ObTIdr6far/LLa2GxD2Wv2L4iJgSSZS/Zmt9kdCWk79/2T15WKiVv7ZKsDic+ZW/",
          "dtype": "f8"
         }
        },
        {
         "mode": "lines",
         "name": "3.09",
         "type": "scatter",
         "x": {
          "bdata": "BAEDAQIBAQEAAf8A/gD9APwA+wD6APkA+AD3APYA9QD0APMA8gDxAPAA7wDuAO0A7ADrAOoA6QDoAOcA5gDlAOQA4wDiAOEA4ADfAN4A3QDcANsA2gDZANgA1wDWANUA1ADTANIA0QDQAM8AzgDNAMwAywDKAMkA",
          "dtype": "i2"
         },
         "y": {
          "bdata": "6IL6ljldlr/H9IQlHlCWv8f0hCUeUJa/oS3nUlxVlr8Sg8DKoUWWv+27IvjfSpa/yy2thsQ9lr8OSphp+1eWv+27IvjfSpa/e2ZJgJpalr/tuyL430qWvw5KmGn7V5a/e2ZJgJpalr84Sl6dY0CWvxKDwMqhRZa/UWaDTDJylr+d9L7xtWeWvyyf5Xlwd5a/J2a9GMqJlr8Cnx9GCI+Wv0n0Morllpa/9fOmIhXGlr/xun7BbtiWv5mByvj3GZe/d/NUh9wMl79JumbyzTaXv065wrtcxJe/H4DUJk7ul7/tDb4wmSqYv/q4NlSM85e/Z5sb0xOWmL9jYvNxbaiYvz2bVZ+rrZi/eEXwv5XsmL+7YduizAaZvyAMPPceLpm/7ZklAWpqmb/tmSUBamqZv7snDwu1ppm/6SYxCKwcmr8YYB+duvKZvz0nvW987Zm/ke18PzVemr+eXinLEMeav3SYLy/APpq/opdRLLe0mr9rYKsEi8OZv33Qs1n1uZq/v2A3bFuUmb/u68A5I0qbv07RkVz+Q5q/G/UQje4glr/gvg6cM6KUv5hp+1dWmpS/YviImBJJlL+yhSAHJcyUv6orn+V5cJe/MbYQ5KCEmb9z9Pi9TX+Wv/ryAuyjU5e/",
          "dtype": "f8"
         }
        },
        {
         "mode": "lines",
         "name": "4.67",
         "type": "scatter",
         "x": {
          "bdata": "BAEDAQIBAQEAAf8A/gD9APwA+wD6APkA+AD3APYA9QD0APMA8gDxAPAA7wDuAO0A7ADrAOoA6QDoAOcA5gDlAOQA4wDiAOEA4ADfAN4A3QDcANsA2gDZANgA1wDWANUA1ADTANIA0QDQAM8AzgDNAMwAywDKAMkA",
          "dtype": "i2"
         },
         "y": {
          "bdata": "w7tcxHdilr93LSEf9GyWv8O7XMR3Ypa/x/SEJR5Qlr8KEXAIVWqWv8O7XMR3Ypa/Vp+rrdhflr9RZoNMMnKWvwoRcAhVapa/ChFwCFVqlr8KEXAIVWqWv1afq63YX5a/LJ/leXB3lr8G2EenrnyWvyyf5Xlwd5a/BthHp658lr9NLVvri4SWv3P0+L1Nf5a/2J5ZEqCmlr/5LM+Du7OWv/ksz4O7s5a/y/Pg7qzdlr/L8+DurN2Wv2+BBMWPMZe/LGUZ4lgXl7/1udqK/WWXvxMPKJtyhZe/VisTfqmfl79OucK7XMSXv/q4NlSM85e/5ZttbkxPmL+A8Qwa+ieYv/63kh0bgZi/iSmRRC+jmL+zKVd4l4uYv1rwoq8gzZi/yAxUxr/PmL94RfC/leyYvw9iZwqd15i/Un5S7dPxmL/D0ytlGeKYv+EoeXWOAZm/ngyOklfnmL94CyQofoyZv0rSNZNvtpm/Sphp+1dWmr+JtfgUAOOZv69Cyk+qfZq/s7W+SGjLmb8P7s7abReav79gN2xblJm/YJM16iEajb/9wcBz7+GSv28vaYzWUZW/RbsKKT+plr/L8+DurN2Wv66ek943vpa/D+7O2m0Xmr/Y8PRKWYaYv88UOq+xS5S/",
          "dtype": "f8"
         }
        },
        {
         "mode": "lines",
         "name": "6.13",
         "type": "scatter",
         "x": {
          "bdata": "BAEDAQIBAQEAAf8A/gD9APwA+wD6APkA+AD3APYA9QD0APMA8gDxAPAA7wDuAO0A7ADrAOoA6QDoAOcA5gDlAOQA4wDiAOEA4ADfAN4A3QDcANsA2gDZANgA1wDWANUA1ADTANIA0QDQAM8AzgDNAMwAywDKAMkA",
          "dtype": "i2"
         },
         "y": {
          "bdata": "dy0hH/Rslr/kSdI1k2+Wvyyf5Xlwd5a/LJ/leXB3lr/kSdI1k2+WvwoRcAhVapa/5EnSNZNvlr+d9L7xtWeWv+RJ0jWTb5a/v4I0Y9F0lr+d9L7xtWeWv7+CNGPRdJa/4BCq1OyBlr9z9Pi9TX+Wv5m7lpAPepa/ukkMAiuHlr/c14FzRpSWv0n0Morllpa/thDkoISZlr+y17s/3quWvx/0bFZ9rpa/rp6T3je+lr9e1y/YDduWv6HzGrtE9Za/3J212y40l78CZVOu8C6XvxuBeF2/YJe/hGQBE7h1l7/xgLIpV3iXv5lH/mDguZe/Cp3X2CWql79BDkqYafuXv8dGIF7XL5i/7Q2+MJkqmL/DDfj8MEKYv8x/SL99HZi/6dSVz/I8mL/U8ZiByviXv51GWipvR5i/PZtVn6utmL9KRs7CnnaYv8x/SL99HZi/OWItPgXAmL9KDAIrhxaZv/59xoUDIZm/fH4YITzamL/YtiizQSaZv0oMAiuHFpm/Y2LzcW2omL9Hj9/b9GefvxkcJa/OMaC/NlmjHqLRjb+lFHR7SWOUv1Fmg0wycpa/WmQ730+Nl78Sa/EpAMaTv7aEfNCzWZW/N2xblNkgk7/sL7snDwuVv88sCVBTy5a/",
          "dtype": "f8"
         }
        },
        {
         "mode": "lines",
         "name": "7.74",
         "type": "scatter",
         "x": {
          "bdata": "BAEDAQIBAQEAAf8A/gD9APwA+wD6APkA+AD3APYA9QD0APMA8gDxAPAA7wDuAO0A7ADrAOoA6QDoAOcA5gDlAOQA4wDiAOEA4ADfAN4A3QDcANsA2gDZANgA1wDWANUA1ADTANIA0QDQAM8AzgDNAMwAywDKAMkA",
          "dtype": "i2"
         },
         "y": {
          "bdata": "LJ/leXB3lr8w2A3bFmWWvwoRcAhVapa/MNgN2xZllr93LSEf9GyWv+iC+pY5XZa/mbuWkA96lr8sn+V5cHeWv5m7lpAPepa/UWaDTDJylr9z9Pi9TX+Wv1Fmg0wycpa/TS1b64uElr9z9Pi9TX+Wv+AQqtTsgZa/4BCq1OyBlr8jLZW3I5yWvyMtlbcjnJa/Iy2VtyOclr9BguLHmLuWv7LXuz/eq5a/iNf1C3bDlr8TSfQyiuWWv+2BVmDI6pa/I/PIHww8l7+duvJZngeXvyPzyB8MPJe/6Q5iZwqdl7/l1TkGZK+Xvw/W/znMl5e/+rg2VIzzl7+IY13cRgOYv9gqweJw5pe/E9VbA1slmL+/1M+bilSYv0VHcvkP6Ze/Fw6EZAETmL+3nEtxVdmXv51GWipvR5i/Z9Xnaiv2l794f7xXrUyYv/63kh0bgZi/NSkF3V7SmL9nmxvTE5aYvzG2EOSghJm/PWGJB5RNmb+7Jw8LtaaZv5I/GHjuPZy/+grSjEXTmb+WsgxxrIurvx6KAn0iT6K/ZjGx+bg2lL8012mkpfKWv1OWIY51cZu/MEymCkYllb/s3R/vVSuTv4OG/gkuVpS/rp6T3je+lr9ftTLhl/qZv7qD2JlC55W/",
          "dtype": "f8"
         }
        }
       ],
       "layout": {
        "legend": {
         "title": {
          "text": "C denaturante [M]"
         },
         "x": 1,
         "xanchor": "right",
         "y": 0,
         "yanchor": "bottom"
        },
        "template": {
         "data": {
          "bar": [
           {
            "error_x": {
             "color": "#2a3f5f"
            },
            "error_y": {
             "color": "#2a3f5f"
            },
            "marker": {
             "line": {
              "color": "#E5ECF6",
              "width": 0.5
             },
             "pattern": {
              "fillmode": "overlay",
              "size": 10,
              "solidity": 0.2
             }
            },
            "type": "bar"
           }
          ],
          "barpolar": [
           {
            "marker": {
             "line": {
              "color": "#E5ECF6",
              "width": 0.5
             },
             "pattern": {
              "fillmode": "overlay",
              "size": 10,
              "solidity": 0.2
             }
            },
            "type": "barpolar"
           }
          ],
          "carpet": [
           {
            "aaxis": {
             "endlinecolor": "#2a3f5f",
             "gridcolor": "white",
             "linecolor": "white",
             "minorgridcolor": "white",
             "startlinecolor": "#2a3f5f"
            },
            "baxis": {
             "endlinecolor": "#2a3f5f",
             "gridcolor": "white",
             "linecolor": "white",
             "minorgridcolor": "white",
             "startlinecolor": "#2a3f5f"
            },
            "type": "carpet"
           }
          ],
          "choropleth": [
           {
            "colorbar": {
             "outlinewidth": 0,
             "ticks": ""
            },
            "type": "choropleth"
           }
          ],
          "contour": [
           {
            "colorbar": {
             "outlinewidth": 0,
             "ticks": ""
            },
            "colorscale": [
             [
              0,
              "#0d0887"
             ],
             [
              0.1111111111111111,
              "#46039f"
             ],
             [
              0.2222222222222222,
              "#7201a8"
             ],
             [
              0.3333333333333333,
              "#9c179e"
             ],
             [
              0.4444444444444444,
              "#bd3786"
             ],
             [
              0.5555555555555556,
              "#d8576b"
             ],
             [
              0.6666666666666666,
              "#ed7953"
             ],
             [
              0.7777777777777778,
              "#fb9f3a"
             ],
             [
              0.8888888888888888,
              "#fdca26"
             ],
             [
              1,
              "#f0f921"
             ]
            ],
            "type": "contour"
           }
          ],
          "contourcarpet": [
           {
            "colorbar": {
             "outlinewidth": 0,
             "ticks": ""
            },
            "type": "contourcarpet"
           }
          ],
          "heatmap": [
           {
            "colorbar": {
             "outlinewidth": 0,
             "ticks": ""
            },
            "colorscale": [
             [
              0,
              "#0d0887"
             ],
             [
              0.1111111111111111,
              "#46039f"
             ],
             [
              0.2222222222222222,
              "#7201a8"
             ],
             [
              0.3333333333333333,
              "#9c179e"
             ],
             [
              0.4444444444444444,
              "#bd3786"
             ],
             [
              0.5555555555555556,
              "#d8576b"
             ],
             [
              0.6666666666666666,
              "#ed7953"
             ],
             [
              0.7777777777777778,
              "#fb9f3a"
             ],
             [
              0.8888888888888888,
              "#fdca26"
             ],
             [
              1,
              "#f0f921"
             ]
            ],
            "type": "heatmap"
           }
          ],
          "histogram": [
           {
            "marker": {
             "pattern": {
              "fillmode": "overlay",
              "size": 10,
              "solidity": 0.2
             }
            },
            "type": "histogram"
           }
          ],
          "histogram2d": [
           {
            "colorbar": {
             "outlinewidth": 0,
             "ticks": ""
            },
            "colorscale": [
             [
              0,
              "#0d0887"
             ],
             [
              0.1111111111111111,
              "#46039f"
             ],
             [
              0.2222222222222222,
              "#7201a8"
             ],
             [
              0.3333333333333333,
              "#9c179e"
             ],
             [
              0.4444444444444444,
              "#bd3786"
             ],
             [
              0.5555555555555556,
              "#d8576b"
             ],
             [
              0.6666666666666666,
              "#ed7953"
             ],
             [
              0.7777777777777778,
              "#fb9f3a"
             ],
             [
              0.8888888888888888,
              "#fdca26"
             ],
             [
              1,
              "#f0f921"
             ]
            ],
            "type": "histogram2d"
           }
          ],
          "histogram2dcontour": [
           {
            "colorbar": {
             "outlinewidth": 0,
             "ticks": ""
            },
            "colorscale": [
             [
              0,
              "#0d0887"
             ],
             [
              0.1111111111111111,
              "#46039f"
             ],
             [
              0.2222222222222222,
              "#7201a8"
             ],
             [
              0.3333333333333333,
              "#9c179e"
             ],
             [
              0.4444444444444444,
              "#bd3786"
             ],
             [
              0.5555555555555556,
              "#d8576b"
             ],
             [
              0.6666666666666666,
              "#ed7953"
             ],
             [
              0.7777777777777778,
              "#fb9f3a"
             ],
             [
              0.8888888888888888,
              "#fdca26"
             ],
             [
              1,
              "#f0f921"
             ]
            ],
            "type": "histogram2dcontour"
           }
          ],
          "mesh3d": [
           {
            "colorbar": {
             "outlinewidth": 0,
             "ticks": ""
            },
            "type": "mesh3d"
           }
          ],
          "parcoords": [
           {
            "line": {
             "colorbar": {
              "outlinewidth": 0,
              "ticks": ""
             }
            },
            "type": "parcoords"
           }
          ],
          "pie": [
           {
            "automargin": true,
            "type": "pie"
           }
          ],
          "scatter": [
           {
            "fillpattern": {
             "fillmode": "overlay",
             "size": 10,
             "solidity": 0.2
            },
            "type": "scatter"
           }
          ],
          "scatter3d": [
           {
            "line": {
             "colorbar": {
              "outlinewidth": 0,
              "ticks": ""
             }
            },
            "marker": {
             "colorbar": {
              "outlinewidth": 0,
              "ticks": ""
             }
            },
            "type": "scatter3d"
           }
          ],
          "scattercarpet": [
           {
            "marker": {
             "colorbar": {
              "outlinewidth": 0,
              "ticks": ""
             }
            },
            "type": "scattercarpet"
           }
          ],
          "scattergeo": [
           {
            "marker": {
             "colorbar": {
              "outlinewidth": 0,
              "ticks": ""
             }
            },
            "type": "scattergeo"
           }
          ],
          "scattergl": [
           {
            "marker": {
             "colorbar": {
              "outlinewidth": 0,
              "ticks": ""
             }
            },
            "type": "scattergl"
           }
          ],
          "scattermap": [
           {
            "marker": {
             "colorbar": {
              "outlinewidth": 0,
              "ticks": ""
             }
            },
            "type": "scattermap"
           }
          ],
          "scattermapbox": [
           {
            "marker": {
             "colorbar": {
              "outlinewidth": 0,
              "ticks": ""
             }
            },
            "type": "scattermapbox"
           }
          ],
          "scatterpolar": [
           {
            "marker": {
             "colorbar": {
              "outlinewidth": 0,
              "ticks": ""
             }
            },
            "type": "scatterpolar"
           }
          ],
          "scatterpolargl": [
           {
            "marker": {
             "colorbar": {
              "outlinewidth": 0,
              "ticks": ""
             }
            },
            "type": "scatterpolargl"
           }
          ],
          "scatterternary": [
           {
            "marker": {
             "colorbar": {
              "outlinewidth": 0,
              "ticks": ""
             }
            },
            "type": "scatterternary"
           }
          ],
          "surface": [
           {
            "colorbar": {
             "outlinewidth": 0,
             "ticks": ""
            },
            "colorscale": [
             [
              0,
              "#0d0887"
             ],
             [
              0.1111111111111111,
              "#46039f"
             ],
             [
              0.2222222222222222,
              "#7201a8"
             ],
             [
              0.3333333333333333,
              "#9c179e"
             ],
             [
              0.4444444444444444,
              "#bd3786"
             ],
             [
              0.5555555555555556,
              "#d8576b"
             ],
             [
              0.6666666666666666,
              "#ed7953"
             ],
             [
              0.7777777777777778,
              "#fb9f3a"
             ],
             [
              0.8888888888888888,
              "#fdca26"
             ],
             [
              1,
              "#f0f921"
             ]
            ],
            "type": "surface"
           }
          ],
          "table": [
           {
            "cells": {
             "fill": {
              "color": "#EBF0F8"
             },
             "line": {
              "color": "white"
             }
            },
            "header": {
             "fill": {
              "color": "#C8D4E3"
             },
             "line": {
              "color": "white"
             }
            },
            "type": "table"
           }
          ]
         },
         "layout": {
          "annotationdefaults": {
           "arrowcolor": "#2a3f5f",
           "arrowhead": 0,
           "arrowwidth": 1
          },
          "autotypenumbers": "strict",
          "coloraxis": {
           "colorbar": {
            "outlinewidth": 0,
            "ticks": ""
           }
          },
          "colorscale": {
           "diverging": [
            [
             0,
             "#8e0152"
            ],
            [
             0.1,
             "#c51b7d"
            ],
            [
             0.2,
             "#de77ae"
            ],
            [
             0.3,
             "#f1b6da"
            ],
            [
             0.4,
             "#fde0ef"
            ],
            [
             0.5,
             "#f7f7f7"
            ],
            [
             0.6,
             "#e6f5d0"
            ],
            [
             0.7,
             "#b8e186"
            ],
            [
             0.8,
             "#7fbc41"
            ],
            [
             0.9,
             "#4d9221"
            ],
            [
             1,
             "#276419"
            ]
           ],
           "sequential": [
            [
             0,
             "#0d0887"
            ],
            [
             0.1111111111111111,
             "#46039f"
            ],
            [
             0.2222222222222222,
             "#7201a8"
            ],
            [
             0.3333333333333333,
             "#9c179e"
            ],
            [
             0.4444444444444444,
             "#bd3786"
            ],
            [
             0.5555555555555556,
             "#d8576b"
            ],
            [
             0.6666666666666666,
             "#ed7953"
            ],
            [
             0.7777777777777778,
             "#fb9f3a"
            ],
            [
             0.8888888888888888,
             "#fdca26"
            ],
            [
             1,
             "#f0f921"
            ]
           ],
           "sequentialminus": [
            [
             0,
             "#0d0887"
            ],
            [
             0.1111111111111111,
             "#46039f"
            ],
            [
             0.2222222222222222,
             "#7201a8"
            ],
            [
             0.3333333333333333,
             "#9c179e"
            ],
            [
             0.4444444444444444,
             "#bd3786"
            ],
            [
             0.5555555555555556,
             "#d8576b"
            ],
            [
             0.6666666666666666,
             "#ed7953"
            ],
            [
             0.7777777777777778,
             "#fb9f3a"
            ],
            [
             0.8888888888888888,
             "#fdca26"
            ],
            [
             1,
             "#f0f921"
            ]
           ]
          },
          "colorway": [
           "#636efa",
           "#EF553B",
           "#00cc96",
           "#ab63fa",
           "#FFA15A",
           "#19d3f3",
           "#FF6692",
           "#B6E880",
           "#FF97FF",
           "#FECB52"
          ],
          "font": {
           "color": "#2a3f5f"
          },
          "geo": {
           "bgcolor": "white",
           "lakecolor": "white",
           "landcolor": "#E5ECF6",
           "showlakes": true,
           "showland": true,
           "subunitcolor": "white"
          },
          "hoverlabel": {
           "align": "left"
          },
          "hovermode": "closest",
          "mapbox": {
           "style": "light"
          },
          "paper_bgcolor": "white",
          "plot_bgcolor": "#E5ECF6",
          "polar": {
           "angularaxis": {
            "gridcolor": "white",
            "linecolor": "white",
            "ticks": ""
           },
           "bgcolor": "#E5ECF6",
           "radialaxis": {
            "gridcolor": "white",
            "linecolor": "white",
            "ticks": ""
           }
          },
          "scene": {
           "xaxis": {
            "backgroundcolor": "#E5ECF6",
            "gridcolor": "white",
            "gridwidth": 2,
            "linecolor": "white",
            "showbackground": true,
            "ticks": "",
            "zerolinecolor": "white"
           },
           "yaxis": {
            "backgroundcolor": "#E5ECF6",
            "gridcolor": "white",
            "gridwidth": 2,
            "linecolor": "white",
            "showbackground": true,
            "ticks": "",
            "zerolinecolor": "white"
           },
           "zaxis": {
            "backgroundcolor": "#E5ECF6",
            "gridcolor": "white",
            "gridwidth": 2,
            "linecolor": "white",
            "showbackground": true,
            "ticks": "",
            "zerolinecolor": "white"
           }
          },
          "shapedefaults": {
           "line": {
            "color": "#2a3f5f"
           }
          },
          "ternary": {
           "aaxis": {
            "gridcolor": "white",
            "linecolor": "white",
            "ticks": ""
           },
           "baxis": {
            "gridcolor": "white",
            "linecolor": "white",
            "ticks": ""
           },
           "bgcolor": "#E5ECF6",
           "caxis": {
            "gridcolor": "white",
            "linecolor": "white",
            "ticks": ""
           }
          },
          "title": {
           "x": 0.05
          },
          "xaxis": {
           "automargin": true,
           "gridcolor": "white",
           "linecolor": "white",
           "ticks": "",
           "title": {
            "standoff": 15
           },
           "zerolinecolor": "white",
           "zerolinewidth": 2
          },
          "yaxis": {
           "automargin": true,
           "gridcolor": "white",
           "linecolor": "white",
           "ticks": "",
           "title": {
            "standoff": 15
           },
           "zerolinecolor": "white",
           "zerolinewidth": 2
          }
         }
        },
        "xaxis": {
         "title": {
          "text": "λ [nm]"
         }
        },
        "yaxis": {
         "range": [
          -0.037,
          -0.013
         ],
         "title": {
          "text": "θ [deg]"
         }
        }
       }
      }
     },
     "metadata": {},
     "output_type": "display_data"
    }
   ],
   "source": [
    "import plotly.graph_objects as go\n",
    "\n",
    "fig = go.Figure()\n",
    "for conc,c in zip(['C0', 'C1', 'C2', 'C3', 'C4', 'C5'],concentrazioni):\n",
    "    fig.add_trace(go.Scatter(\n",
    "        x=spettriRAW['λ'],\n",
    "        y=spettriRAW[conc],\n",
    "        mode='lines',\n",
    "        name=np.round(c,2)\n",
    "    ))\n",
    "\n",
    "fig.update_layout(\n",
    "    xaxis_title='λ [nm]',\n",
    "    yaxis_title='θ [deg]',\n",
    "    # title='Dati raccolti',\n",
    "    legend_title='C denaturante [M]',\n",
    "    legend=dict(\n",
    "        x=1,\n",
    "        y=0,\n",
    "        xanchor='right',\n",
    "        yanchor='bottom',\n",
    "        # font=dict(size=10),  # Make legend font smaller\n",
    "    ),\n",
    "    yaxis=dict(range=[-0.037, -0.013])\n",
    ")\n",
    "\n",
    "fig.write_image('./images/spettro_raccolto.png')\n",
    "fig.write_html('./html/spettro_raccolto.html')\n",
    "fig.show()"
   ]
  },
  {
   "cell_type": "markdown",
   "id": "470682bd",
   "metadata": {},
   "source": [
    "### APPAIO LE CODE"
   ]
  },
  {
   "cell_type": "code",
   "execution_count": 26,
   "id": "f022f538",
   "metadata": {},
   "outputs": [
    {
     "data": {
      "application/vnd.plotly.v1+json": {
       "config": {
        "plotlyServerURL": "https://plot.ly"
       },
       "data": [
        {
         "mode": "lines",
         "name": "0.0",
         "type": "scatter",
         "x": {
          "bdata": "BAEDAQIBAQEAAf8A/gD9APwA+wD6APkA+AD3APYA9QD0APMA8gDxAPAA7wDuAO0A7ADrAOoA6QDoAOcA5gDlAOQA4wDiAOEA4ADfAN4A3QDcANsA2gDZANgA1wDWANUA1ADTANIA0QDQAM8AzgDNAMwAywDKAMkA",
          "dtype": "i2"
         },
         "y": {
          "bdata": "ANSY5FpxLsAA1JjkWnEuQIDaIGRYvkBAAEz1VQNEMkAATPVVA0RCQAC9yUeuyUPAABhHHa9aCMAAEEcdr1oYwAAAAAAAAHC9AL3JR67JQ8AA1JjkWnE+wACfcisE1UbAQNdcpNmXV8AAgRsPWuBZwMBEbdYF91/AQPeVIMMfYcAgfzmvGk1twMBM5gWjjXDAEGlbwg3vcMDAvbr3TRNywHD0whDkQnbA8A9HHa9aeMAAD1ZtDxF6wADx/lBlHH3AUJuua4WufcCIoUU747GBwPi72JcOgIXAEJIhVb4ShMCgOu8PnxGIwIiOXZU/7IrAADgcAMA0jcCYbxXJ9a2PwFw3kgwrspDAMD6zzx04kcA0GiygIAeSwGzL/H0zH5PApHzNW0Y3lMAokTClHsmVwHz0whDkQpbA3Ou/7bEpmcCcQB8j8k2awKAcmPP0HJvANJyfGyX4m8BwuBTYj1mcwJSx8xSd05vABKPA3hd+nMA0nJ8bJfibwASjwN4XfpzAgI5dlT/smsDgOA2wX36bwPzqzj0S4JrAtGO1ok81m8DUgBsPWuCZwACYUWgRT5bAqAv5aZuxksA0GiygIAeSwMi9uvdNE4LAOD6zzx04gcCgvqun7VxgwLBjtaJPNXtA",
          "dtype": "f8"
         }
        },
        {
         "mode": "lines",
         "name": "1.53",
         "type": "scatter",
         "x": {
          "bdata": "BAEDAQIBAQEAAf8A/gD9APwA+wD6APkA+AD3APYA9QD0APMA8gDxAPAA7wDuAO0A7ADrAOoA6QDoAOcA5gDlAOQA4wDiAOEA4ADfAN4A3QDcANsA2gDZANgA1wDWANUA1ADTANIA0QDQAM8AzgDNAMwAywDKAMkA",
          "dtype": "i2"
         },
         "y": {
          "bdata": "AGB/SBHcDsAAFWG+cuIxwAA4xQyxPwlAAHSC2NxWJEAAYLXjLmQ1wADP6bbmLjFAADjFDLE/CUAAz+m25i4xQAAEcef0vSXAADjFDLE/CUAAwLMbyaYaQAAKKyNVWitAAGB/SBHcDsAAqgkJ6+U4wIDYKwcIuUjAgG3pRI1/UsBApehg2iBVwADd53wnwlfAAHGQx5/FXsBg+XGEVHRiwOBVG7N/1mbAQGhwvO62Z8AwTIzKhgVwwIDtirvNn3TAwJvfUuPQdsCg2N3R0Lt8wEDGGGZDG4HA0PHty4ingcDgFpjeZmiDwOAiwpRufYXAQBtrUUAwi8DQRkC3hbyLwACe6oIQ1YzAcLxpQofKj8BATD8aJgaPwDDFtERtOZDAsNcJTtwZkcAImclmROyRwGBBCSPWEpPAqO9duutDlcBwi11IkpSWwMAznQQku5fAKAjInt4ul8BQZYdF7VGZwJD0RqWozJrAUGWHRe1RmcBgct3ru+iWwEg0s3wHfJXAwDOdBCS7l8Co9XKVb06WwCgO3XliOZjAcIuVeaH0i8Bg+XGEVHRiwOCFw4ueKm/A8hvaUZkpuUCARIO8j7VBwOjlBgMC04NAWANa0rFGi0AAv9ea+I5kQAB/xCj+4EtA",
          "dtype": "f8"
         }
        },
        {
         "mode": "lines",
         "name": "3.09",
         "type": "scatter",
         "x": {
          "bdata": "BAEDAQIBAQEAAf8A/gD9APwA+wD6APkA+AD3APYA9QD0APMA8gDxAPAA7wDuAO0A7ADrAOoA6QDoAOcA5gDlAOQA4wDiAOEA4ADfAN4A3QDcANsA2gDZANgA1wDWANUA1ADTANIA0QDQAM8AzgDNAMwAywDKAMkA",
          "dtype": "i2"
         },
         "y": {
          "bdata": "ALjID4iUMcAAgIjNuQ/WvwCAiM25D9a/ABTD3aP0HMAARn5yKuMqQAD8EaSsMhpAABWXUfTIN0AALBz/O18lwAD8EaSsMhpAAM5WDyZELMAA/BGkrDIaQAAsHP87XyXAAM5WDyZELMAAxHlJf1Y0QABGfnIq4ypAgKBZKBiURsAA/j0wXF4/wADydjCNBkrAAMduZpMLU8AAcH3qzcRUwMBsk7ClWlfA4KyLKtpuY8AAVKWRAHNmwPB4gCVXnHDAAJ/uJSURb8CwoBSbB/tywMCSd5ZSnX7A6HFKz+MHgcBIhB/tJ4KDwAhHzB8LP4HAUBSF383sh8AQfkt5162IwDBTzcn+5IjAEFDjj9Z6i8BweWwim46MwIA3Ov5BLI7A6KQHDkNTkMDopAcOQ1OQwBgu8hxlkJHAKMumZt/8k8Dgdp8kQiCTwFiMXnyuBJPA4D7SHZVVlcCgkeRCHn2XwLC/TCwfsJTAwFwBdpkcl8AIOFc6ESiSwFBHQh4tOJfAMPkOUOAvkcAQeTuxiS6awDCqjdSyy5TAAMls1f3ZTkD4jlzS1aeBQJhOH8uQ+oFAQLX7KnJRhUDAzJucNt1/QGDwPIZouHfAmDlMVyXdkMAA7KK8PDJPwIDIqBC4WXXA",
          "dtype": "f8"
         }
        },
        {
         "mode": "lines",
         "name": "4.67",
         "type": "scatter",
         "x": {
          "bdata": "BAEDAQIBAQEAAf8A/gD9APwA+wD6APkA+AD3APYA9QD0APMA8gDxAPAA7wDuAO0A7ADrAOoA6QDoAOcA5gDlAOQA4wDiAOEA4ADfAN4A3QDcANsA2gDZANgA1wDWANUA1ADTANIA0QDQAM8AzgDNAMwAywDKAMkA",
          "dtype": "i2"
         },
         "y": {
          "bdata": "AMDr4YzPDUAA1iys4qUjwADA6+GMzw1AAEZQxH5wO0AAzAVm4r4ZwADA6+GMzw1AAMBJY6l0HEAAXEDPYpkwwADMBWbivhnAAMwFZuK+GcAAzAVm4r4ZwADASWOpdBxAAE9qSNRfN8AAQZTBRSY+wABPakjUXzfAAEGUwUUmPsAAlan79ydEwACdFD+/xEDAgPO4YnQWVcCAKnNOe1JZwIAqc057UlnAAIdjIK9vY8AAh2Mgr29jwCC1WwlJfnDAIDP9JovAbMAQ7BX1T7p0wNCmhYK6RHfAQMJi+L1iecAQHGWdj1l8wPhZxriXFIDAKEoJxx3Jg8CAdaMumzKCwNi9AXcHzIXA+EKeg1Ysh8AAXZSObjiGwFC/6OHy3YjAMGfNpwz5iMCwnKAoKCOKwIBee/lZSonAQOxptFtZisCQ/Q0RwbaJwPDaxVf2+4rAIE3XnPTsicCISw4oJkyQwLiJM1f0JJHA4IbxaoZflMDQG0tpTwuSwDhxJLfHKpXA2CjGbluRkcCQqTkkURqTwChH5dDMdJDAFtJK+nRGpECMBy32HimSQNAojOOPQHZAwDHekULvVcAAh2Mgr29jwIAjCAu0tVzAkKk5JFEak8BwDcsCOwKGwAieFz9ZtoVA",
          "dtype": "f8"
         }
        },
        {
         "mode": "lines",
         "name": "6.13",
         "type": "scatter",
         "x": {
          "bdata": "BAEDAQIBAQEAAf8A/gD9APwA+wD6APkA+AD3APYA9QD0APMA8gDxAPAA7wDuAO0A7ADrAOoA6QDoAOcA5gDlAOQA4wDiAOEA4ADfAN4A3QDcANsA2gDZANgA1wDWANUA1ADTANIA0QDQAM8AzgDNAMwAywDKAMkA",
          "dtype": "i2"
         },
         "y": {
          "bdata": "AEBOWgotEEAAIBMjY5HlPwCcsL423yLAAJywvjbfIsAAIBMjY5HlPwAgOlDopx1AACATI2OR5T8A/hIjY5ElQAAgEyNjkeU/AFx1h49DGMAA/hIjY5ElQABcdYePQxjAAC1EVXnqNsAANcnXwYszwACOprmlnCnAABs6UOinPcAAedDhvkBHwAD1jaAa8EjAgHBLX3afSsCA6TxLfDVTwICnmyoqDVTAABvUZj0bWcDgIfP/2i9hwIDXzFxAZmXAYL491WaCb8CAAN/1uKpuwECG8V/WVXPAEAKvHjIFdcCAsYaWHTt1wIDUlkocf3rAkLeIe5c7ecBg96b+GsN/wGBWwC3A/IHA8KbotdTGgcCQPDNReLmCwEBwTQoIQIHAII1b2YyDgsDgR8+GL41/wBDsCslj74LA4Mn4adMKh8BgF6D/qtSEwEBwTQoIQIHACLBrjYvHh8Bof9LGOEGLwEjegbYPrYvAaB2i5CTViMDIjVku++KLwGh/0sY4QYvAYBoh8ufUhsBqXY+s3g6nwCKXq0rolanADEu6uDpbo0BYUAkpXxWFQADwEiNjkQXAUC1EVXnqdsCg4E8092aLQAAy4FBIXnZAFPysObgEkUBQwiZc4K98QIDQrcOiUV3A",
          "dtype": "f8"
         }
        },
        {
         "mode": "lines",
         "name": "7.74",
         "type": "scatter",
         "x": {
          "bdata": "BAEDAQIBAQEAAf8A/gD9APwA+wD6APkA+AD3APYA9QD0APMA8gDxAPAA7wDuAO0A7ADrAOoA6QDoAOcA5gDlAOQA4wDiAOEA4ADfAN4A3QDcANsA2gDZANgA1wDWANUA1ADTANIA0QDQAM8AzgDNAMwAywDKAMkA",
          "dtype": "i2"
         },
         "y": {
          "bdata": "AHJggrXEJsAA/NAdOIcpQACYPClWdRdAAPzQHTiHKUAAyBNAklEDQACFztUFHTdAAMz5BvyqLcAAcmCCtcQmwADM+Qb8qi3AAHxb8lDwEcAAPxaIxLs1wAB8W/JQ8BHAAJevDAuiPMAAPxaIxLs1wADrYsrnLjnAAOtiyucuOcCA07AwJNdNwIDTsDAk103AgNOwMCTXTcDAbz7f+0RZwMBsy/tGGFTAwPD3UFbbW8DgkDh0xIhjwAC8y0SNZWTAIGza8trhcMBAKfW/3SNpwCBs2vLa4XDAMLsrfBzceMCwRi3pe156wLAl4hO4bXjAAN/pNJX5f8DQT+M2YaKAwBDpMTCa5X7A8HXSiScJgsD4lh1f6/mDwOCzVmTMHH/AMLBR0/dHgcAw83krn9F9wACcwdztb4PA4FSHtGMYgMDQZuYQIKeDwJhSVhoWz4XAuJmQQqAmicC4fenq3quGwCzEuZelPZDAKDfxC7w3jsA0VzHBCPGQwDRxSCMwlJ7ABLXNHp7bkcCgte+UJ33FwIsbq7LyqrLASKDFkX9ch0DAfKh9urBlwPT+eirdX5rAQCt3miYae0AUA436vy2RQJjf6FhSEYZAwJrRr8QhWsB0rVdimqqSwAAbqQ9HS2ZA",
          "dtype": "f8"
         }
        }
       ],
       "layout": {
        "legend": {
         "title": {
          "text": "C denaturante [M]"
         },
         "x": 1,
         "xanchor": "right",
         "y": 0,
         "yanchor": "bottom"
        },
        "template": {
         "data": {
          "bar": [
           {
            "error_x": {
             "color": "#2a3f5f"
            },
            "error_y": {
             "color": "#2a3f5f"
            },
            "marker": {
             "line": {
              "color": "#E5ECF6",
              "width": 0.5
             },
             "pattern": {
              "fillmode": "overlay",
              "size": 10,
              "solidity": 0.2
             }
            },
            "type": "bar"
           }
          ],
          "barpolar": [
           {
            "marker": {
             "line": {
              "color": "#E5ECF6",
              "width": 0.5
             },
             "pattern": {
              "fillmode": "overlay",
              "size": 10,
              "solidity": 0.2
             }
            },
            "type": "barpolar"
           }
          ],
          "carpet": [
           {
            "aaxis": {
             "endlinecolor": "#2a3f5f",
             "gridcolor": "white",
             "linecolor": "white",
             "minorgridcolor": "white",
             "startlinecolor": "#2a3f5f"
            },
            "baxis": {
             "endlinecolor": "#2a3f5f",
             "gridcolor": "white",
             "linecolor": "white",
             "minorgridcolor": "white",
             "startlinecolor": "#2a3f5f"
            },
            "type": "carpet"
           }
          ],
          "choropleth": [
           {
            "colorbar": {
             "outlinewidth": 0,
             "ticks": ""
            },
            "type": "choropleth"
           }
          ],
          "contour": [
           {
            "colorbar": {
             "outlinewidth": 0,
             "ticks": ""
            },
            "colorscale": [
             [
              0,
              "#0d0887"
             ],
             [
              0.1111111111111111,
              "#46039f"
             ],
             [
              0.2222222222222222,
              "#7201a8"
             ],
             [
              0.3333333333333333,
              "#9c179e"
             ],
             [
              0.4444444444444444,
              "#bd3786"
             ],
             [
              0.5555555555555556,
              "#d8576b"
             ],
             [
              0.6666666666666666,
              "#ed7953"
             ],
             [
              0.7777777777777778,
              "#fb9f3a"
             ],
             [
              0.8888888888888888,
              "#fdca26"
             ],
             [
              1,
              "#f0f921"
             ]
            ],
            "type": "contour"
           }
          ],
          "contourcarpet": [
           {
            "colorbar": {
             "outlinewidth": 0,
             "ticks": ""
            },
            "type": "contourcarpet"
           }
          ],
          "heatmap": [
           {
            "colorbar": {
             "outlinewidth": 0,
             "ticks": ""
            },
            "colorscale": [
             [
              0,
              "#0d0887"
             ],
             [
              0.1111111111111111,
              "#46039f"
             ],
             [
              0.2222222222222222,
              "#7201a8"
             ],
             [
              0.3333333333333333,
              "#9c179e"
             ],
             [
              0.4444444444444444,
              "#bd3786"
             ],
             [
              0.5555555555555556,
              "#d8576b"
             ],
             [
              0.6666666666666666,
              "#ed7953"
             ],
             [
              0.7777777777777778,
              "#fb9f3a"
             ],
             [
              0.8888888888888888,
              "#fdca26"
             ],
             [
              1,
              "#f0f921"
             ]
            ],
            "type": "heatmap"
           }
          ],
          "histogram": [
           {
            "marker": {
             "pattern": {
              "fillmode": "overlay",
              "size": 10,
              "solidity": 0.2
             }
            },
            "type": "histogram"
           }
          ],
          "histogram2d": [
           {
            "colorbar": {
             "outlinewidth": 0,
             "ticks": ""
            },
            "colorscale": [
             [
              0,
              "#0d0887"
             ],
             [
              0.1111111111111111,
              "#46039f"
             ],
             [
              0.2222222222222222,
              "#7201a8"
             ],
             [
              0.3333333333333333,
              "#9c179e"
             ],
             [
              0.4444444444444444,
              "#bd3786"
             ],
             [
              0.5555555555555556,
              "#d8576b"
             ],
             [
              0.6666666666666666,
              "#ed7953"
             ],
             [
              0.7777777777777778,
              "#fb9f3a"
             ],
             [
              0.8888888888888888,
              "#fdca26"
             ],
             [
              1,
              "#f0f921"
             ]
            ],
            "type": "histogram2d"
           }
          ],
          "histogram2dcontour": [
           {
            "colorbar": {
             "outlinewidth": 0,
             "ticks": ""
            },
            "colorscale": [
             [
              0,
              "#0d0887"
             ],
             [
              0.1111111111111111,
              "#46039f"
             ],
             [
              0.2222222222222222,
              "#7201a8"
             ],
             [
              0.3333333333333333,
              "#9c179e"
             ],
             [
              0.4444444444444444,
              "#bd3786"
             ],
             [
              0.5555555555555556,
              "#d8576b"
             ],
             [
              0.6666666666666666,
              "#ed7953"
             ],
             [
              0.7777777777777778,
              "#fb9f3a"
             ],
             [
              0.8888888888888888,
              "#fdca26"
             ],
             [
              1,
              "#f0f921"
             ]
            ],
            "type": "histogram2dcontour"
           }
          ],
          "mesh3d": [
           {
            "colorbar": {
             "outlinewidth": 0,
             "ticks": ""
            },
            "type": "mesh3d"
           }
          ],
          "parcoords": [
           {
            "line": {
             "colorbar": {
              "outlinewidth": 0,
              "ticks": ""
             }
            },
            "type": "parcoords"
           }
          ],
          "pie": [
           {
            "automargin": true,
            "type": "pie"
           }
          ],
          "scatter": [
           {
            "fillpattern": {
             "fillmode": "overlay",
             "size": 10,
             "solidity": 0.2
            },
            "type": "scatter"
           }
          ],
          "scatter3d": [
           {
            "line": {
             "colorbar": {
              "outlinewidth": 0,
              "ticks": ""
             }
            },
            "marker": {
             "colorbar": {
              "outlinewidth": 0,
              "ticks": ""
             }
            },
            "type": "scatter3d"
           }
          ],
          "scattercarpet": [
           {
            "marker": {
             "colorbar": {
              "outlinewidth": 0,
              "ticks": ""
             }
            },
            "type": "scattercarpet"
           }
          ],
          "scattergeo": [
           {
            "marker": {
             "colorbar": {
              "outlinewidth": 0,
              "ticks": ""
             }
            },
            "type": "scattergeo"
           }
          ],
          "scattergl": [
           {
            "marker": {
             "colorbar": {
              "outlinewidth": 0,
              "ticks": ""
             }
            },
            "type": "scattergl"
           }
          ],
          "scattermap": [
           {
            "marker": {
             "colorbar": {
              "outlinewidth": 0,
              "ticks": ""
             }
            },
            "type": "scattermap"
           }
          ],
          "scattermapbox": [
           {
            "marker": {
             "colorbar": {
              "outlinewidth": 0,
              "ticks": ""
             }
            },
            "type": "scattermapbox"
           }
          ],
          "scatterpolar": [
           {
            "marker": {
             "colorbar": {
              "outlinewidth": 0,
              "ticks": ""
             }
            },
            "type": "scatterpolar"
           }
          ],
          "scatterpolargl": [
           {
            "marker": {
             "colorbar": {
              "outlinewidth": 0,
              "ticks": ""
             }
            },
            "type": "scatterpolargl"
           }
          ],
          "scatterternary": [
           {
            "marker": {
             "colorbar": {
              "outlinewidth": 0,
              "ticks": ""
             }
            },
            "type": "scatterternary"
           }
          ],
          "surface": [
           {
            "colorbar": {
             "outlinewidth": 0,
             "ticks": ""
            },
            "colorscale": [
             [
              0,
              "#0d0887"
             ],
             [
              0.1111111111111111,
              "#46039f"
             ],
             [
              0.2222222222222222,
              "#7201a8"
             ],
             [
              0.3333333333333333,
              "#9c179e"
             ],
             [
              0.4444444444444444,
              "#bd3786"
             ],
             [
              0.5555555555555556,
              "#d8576b"
             ],
             [
              0.6666666666666666,
              "#ed7953"
             ],
             [
              0.7777777777777778,
              "#fb9f3a"
             ],
             [
              0.8888888888888888,
              "#fdca26"
             ],
             [
              1,
              "#f0f921"
             ]
            ],
            "type": "surface"
           }
          ],
          "table": [
           {
            "cells": {
             "fill": {
              "color": "#EBF0F8"
             },
             "line": {
              "color": "white"
             }
            },
            "header": {
             "fill": {
              "color": "#C8D4E3"
             },
             "line": {
              "color": "white"
             }
            },
            "type": "table"
           }
          ]
         },
         "layout": {
          "annotationdefaults": {
           "arrowcolor": "#2a3f5f",
           "arrowhead": 0,
           "arrowwidth": 1
          },
          "autotypenumbers": "strict",
          "coloraxis": {
           "colorbar": {
            "outlinewidth": 0,
            "ticks": ""
           }
          },
          "colorscale": {
           "diverging": [
            [
             0,
             "#8e0152"
            ],
            [
             0.1,
             "#c51b7d"
            ],
            [
             0.2,
             "#de77ae"
            ],
            [
             0.3,
             "#f1b6da"
            ],
            [
             0.4,
             "#fde0ef"
            ],
            [
             0.5,
             "#f7f7f7"
            ],
            [
             0.6,
             "#e6f5d0"
            ],
            [
             0.7,
             "#b8e186"
            ],
            [
             0.8,
             "#7fbc41"
            ],
            [
             0.9,
             "#4d9221"
            ],
            [
             1,
             "#276419"
            ]
           ],
           "sequential": [
            [
             0,
             "#0d0887"
            ],
            [
             0.1111111111111111,
             "#46039f"
            ],
            [
             0.2222222222222222,
             "#7201a8"
            ],
            [
             0.3333333333333333,
             "#9c179e"
            ],
            [
             0.4444444444444444,
             "#bd3786"
            ],
            [
             0.5555555555555556,
             "#d8576b"
            ],
            [
             0.6666666666666666,
             "#ed7953"
            ],
            [
             0.7777777777777778,
             "#fb9f3a"
            ],
            [
             0.8888888888888888,
             "#fdca26"
            ],
            [
             1,
             "#f0f921"
            ]
           ],
           "sequentialminus": [
            [
             0,
             "#0d0887"
            ],
            [
             0.1111111111111111,
             "#46039f"
            ],
            [
             0.2222222222222222,
             "#7201a8"
            ],
            [
             0.3333333333333333,
             "#9c179e"
            ],
            [
             0.4444444444444444,
             "#bd3786"
            ],
            [
             0.5555555555555556,
             "#d8576b"
            ],
            [
             0.6666666666666666,
             "#ed7953"
            ],
            [
             0.7777777777777778,
             "#fb9f3a"
            ],
            [
             0.8888888888888888,
             "#fdca26"
            ],
            [
             1,
             "#f0f921"
            ]
           ]
          },
          "colorway": [
           "#636efa",
           "#EF553B",
           "#00cc96",
           "#ab63fa",
           "#FFA15A",
           "#19d3f3",
           "#FF6692",
           "#B6E880",
           "#FF97FF",
           "#FECB52"
          ],
          "font": {
           "color": "#2a3f5f"
          },
          "geo": {
           "bgcolor": "white",
           "lakecolor": "white",
           "landcolor": "#E5ECF6",
           "showlakes": true,
           "showland": true,
           "subunitcolor": "white"
          },
          "hoverlabel": {
           "align": "left"
          },
          "hovermode": "closest",
          "mapbox": {
           "style": "light"
          },
          "paper_bgcolor": "white",
          "plot_bgcolor": "#E5ECF6",
          "polar": {
           "angularaxis": {
            "gridcolor": "white",
            "linecolor": "white",
            "ticks": ""
           },
           "bgcolor": "#E5ECF6",
           "radialaxis": {
            "gridcolor": "white",
            "linecolor": "white",
            "ticks": ""
           }
          },
          "scene": {
           "xaxis": {
            "backgroundcolor": "#E5ECF6",
            "gridcolor": "white",
            "gridwidth": 2,
            "linecolor": "white",
            "showbackground": true,
            "ticks": "",
            "zerolinecolor": "white"
           },
           "yaxis": {
            "backgroundcolor": "#E5ECF6",
            "gridcolor": "white",
            "gridwidth": 2,
            "linecolor": "white",
            "showbackground": true,
            "ticks": "",
            "zerolinecolor": "white"
           },
           "zaxis": {
            "backgroundcolor": "#E5ECF6",
            "gridcolor": "white",
            "gridwidth": 2,
            "linecolor": "white",
            "showbackground": true,
            "ticks": "",
            "zerolinecolor": "white"
           }
          },
          "shapedefaults": {
           "line": {
            "color": "#2a3f5f"
           }
          },
          "ternary": {
           "aaxis": {
            "gridcolor": "white",
            "linecolor": "white",
            "ticks": ""
           },
           "baxis": {
            "gridcolor": "white",
            "linecolor": "white",
            "ticks": ""
           },
           "bgcolor": "#E5ECF6",
           "caxis": {
            "gridcolor": "white",
            "linecolor": "white",
            "ticks": ""
           }
          },
          "title": {
           "x": 0.05
          },
          "xaxis": {
           "automargin": true,
           "gridcolor": "white",
           "linecolor": "white",
           "ticks": "",
           "title": {
            "standoff": 15
           },
           "zerolinecolor": "white",
           "zerolinewidth": 2
          },
          "yaxis": {
           "automargin": true,
           "gridcolor": "white",
           "linecolor": "white",
           "ticks": "",
           "title": {
            "standoff": 15
           },
           "zerolinecolor": "white",
           "zerolinewidth": 2
          }
         }
        },
        "xaxis": {
         "title": {
          "text": "λ"
         }
        },
        "yaxis": {
         "range": [
          -2000,
          100
         ],
         "title": {
          "text": "θ [deg·cm² dmol⁻¹]"
         }
        }
       }
      }
     },
     "metadata": {},
     "output_type": "display_data"
    }
   ],
   "source": [
    "fig = go.Figure()\n",
    "\n",
    "spettri = pd.DataFrame()\n",
    "\n",
    "spettri['λ'] = spettriRAW['λ']\n",
    "\n",
    "for i, conc in enumerate(['C0', 'C1', 'C2', 'C3', 'C4', 'C5']):\n",
    "    λ = spettriRAW['λ']\n",
    "\n",
    "    θ = spettriRAW[conc] * 100 / (concentrazioniBLG[i] * N * l)\n",
    "\n",
    "    # APPAIO DELLE CODE\n",
    "    mean = θ[λ > 250].mean()\n",
    "    θ = θ - mean\n",
    "    spettri[conc] = θ  # aggiorna la colonna\n",
    "\n",
    "    fig.add_trace(go.Scatter(\n",
    "        x=λ,\n",
    "        y=θ,\n",
    "        mode='lines',\n",
    "        name=np.round(concentrazioni[i],2)\n",
    "    ))\n",
    "\n",
    "fig.update_layout(\n",
    "    yaxis=dict(range=[-2000,100]),\n",
    "    xaxis_title='λ',\n",
    "    yaxis_title='θ [deg·cm² dmol⁻¹]',\n",
    "    legend_title='C denaturante [M]',\n",
    "    legend=dict(\n",
    "        x=1,\n",
    "        y=0,\n",
    "        xanchor='right',\n",
    "        yanchor='bottom'\n",
    "    )\n",
    ")\n",
    "fig.show()"
   ]
  },
  {
   "cell_type": "code",
   "execution_count": 27,
   "id": "b6f7f5dd",
   "metadata": {},
   "outputs": [
    {
     "data": {
      "text/html": [
       "<div>\n",
       "<style scoped>\n",
       "    .dataframe tbody tr th:only-of-type {\n",
       "        vertical-align: middle;\n",
       "    }\n",
       "\n",
       "    .dataframe tbody tr th {\n",
       "        vertical-align: top;\n",
       "    }\n",
       "\n",
       "    .dataframe thead th {\n",
       "        text-align: right;\n",
       "    }\n",
       "</style>\n",
       "<table border=\"1\" class=\"dataframe\">\n",
       "  <thead>\n",
       "    <tr style=\"text-align: right;\">\n",
       "      <th></th>\n",
       "      <th>Concentrazione</th>\n",
       "      <th>227</th>\n",
       "      <th>226</th>\n",
       "      <th>225</th>\n",
       "      <th>224</th>\n",
       "      <th>223</th>\n",
       "      <th>222</th>\n",
       "      <th>221</th>\n",
       "      <th>220</th>\n",
       "    </tr>\n",
       "  </thead>\n",
       "  <tbody>\n",
       "    <tr>\n",
       "      <th>0</th>\n",
       "      <td>0.000000</td>\n",
       "      <td>-1102.029113</td>\n",
       "      <td>-1153.781861</td>\n",
       "      <td>-1223.800285</td>\n",
       "      <td>-1293.818710</td>\n",
       "      <td>-1394.279927</td>\n",
       "      <td>-1424.722720</td>\n",
       "      <td>-1610.423759</td>\n",
       "      <td>-1683.486462</td>\n",
       "    </tr>\n",
       "    <tr>\n",
       "      <th>1</th>\n",
       "      <td>1.529499</td>\n",
       "      <td>-1017.316045</td>\n",
       "      <td>-992.768605</td>\n",
       "      <td>-1038.356707</td>\n",
       "      <td>-1094.465141</td>\n",
       "      <td>-1147.066798</td>\n",
       "      <td>-1220.709118</td>\n",
       "      <td>-1360.980203</td>\n",
       "      <td>-1445.142854</td>\n",
       "    </tr>\n",
       "    <tr>\n",
       "      <th>2</th>\n",
       "      <td>3.093301</td>\n",
       "      <td>-879.354767</td>\n",
       "      <td>-913.825749</td>\n",
       "      <td>-965.532223</td>\n",
       "      <td>-1044.815483</td>\n",
       "      <td>-1044.815483</td>\n",
       "      <td>-1124.098743</td>\n",
       "      <td>-1279.218165</td>\n",
       "      <td>-1224.064593</td>\n",
       "    </tr>\n",
       "    <tr>\n",
       "      <th>3</th>\n",
       "      <td>4.668148</td>\n",
       "      <td>-741.542243</td>\n",
       "      <td>-711.053983</td>\n",
       "      <td>-795.743595</td>\n",
       "      <td>-799.131179</td>\n",
       "      <td>-836.394609</td>\n",
       "      <td>-809.293933</td>\n",
       "      <td>-843.169778</td>\n",
       "      <td>-822.844271</td>\n",
       "    </tr>\n",
       "    <tr>\n",
       "      <th>4</th>\n",
       "      <td>6.130150</td>\n",
       "      <td>-568.853863</td>\n",
       "      <td>-599.183749</td>\n",
       "      <td>-552.003926</td>\n",
       "      <td>-592.443774</td>\n",
       "      <td>-504.824103</td>\n",
       "      <td>-605.923723</td>\n",
       "      <td>-737.353229</td>\n",
       "      <td>-666.583495</td>\n",
       "    </tr>\n",
       "    <tr>\n",
       "      <th>5</th>\n",
       "      <td>7.735930</td>\n",
       "      <td>-577.144306</td>\n",
       "      <td>-639.239928</td>\n",
       "      <td>-497.799900</td>\n",
       "      <td>-552.996009</td>\n",
       "      <td>-477.101360</td>\n",
       "      <td>-621.991144</td>\n",
       "      <td>-515.048684</td>\n",
       "      <td>-628.890657</td>\n",
       "    </tr>\n",
       "  </tbody>\n",
       "</table>\n",
       "</div>"
      ],
      "text/plain": [
       "   Concentrazione          227          226          225          224  \\\n",
       "0        0.000000 -1102.029113 -1153.781861 -1223.800285 -1293.818710   \n",
       "1        1.529499 -1017.316045  -992.768605 -1038.356707 -1094.465141   \n",
       "2        3.093301  -879.354767  -913.825749  -965.532223 -1044.815483   \n",
       "3        4.668148  -741.542243  -711.053983  -795.743595  -799.131179   \n",
       "4        6.130150  -568.853863  -599.183749  -552.003926  -592.443774   \n",
       "5        7.735930  -577.144306  -639.239928  -497.799900  -552.996009   \n",
       "\n",
       "           223          222          221          220  \n",
       "0 -1394.279927 -1424.722720 -1610.423759 -1683.486462  \n",
       "1 -1147.066798 -1220.709118 -1360.980203 -1445.142854  \n",
       "2 -1044.815483 -1124.098743 -1279.218165 -1224.064593  \n",
       "3  -836.394609  -809.293933  -843.169778  -822.844271  \n",
       "4  -504.824103  -605.923723  -737.353229  -666.583495  \n",
       "5  -477.101360  -621.991144  -515.048684  -628.890657  "
      ]
     },
     "metadata": {},
     "output_type": "display_data"
    }
   ],
   "source": [
    "λ = spettri['λ']\n",
    "\n",
    "λmin = 220\n",
    "λmax = 227\n",
    "\n",
    "imin,imax = λ[λ == λmin].index[0], λ[λ == λmax].index[0]\n",
    "# print(imin,imax)\n",
    "\n",
    "Λ = np.arange(λmax,λmin-1,-1)\n",
    "\n",
    "# Seleziona solo le colonne delle concentrazioni (senza le colonne λ)\n",
    "spettro_ristretto = spettri.loc[imax:imin, ['C0','C1', 'C2', 'C3', 'C4', 'C5']]\n",
    "spettro_ristretto = spettro_ristretto.T\n",
    "spettro_ristretto.columns = Λ\n",
    "spettro_ristretto.insert(0, 'Concentrazione', spettro_ristretto.index)\n",
    "spettro_ristretto.reset_index(drop=True, inplace=True)\n",
    "spettro_ristretto['Concentrazione'] = concentrazioni\n",
    "display(spettro_ristretto)\n"
   ]
  },
  {
   "cell_type": "code",
   "execution_count": 28,
   "id": "1da9c8d7",
   "metadata": {},
   "outputs": [],
   "source": [
    "# fig = go.Figure()\n",
    "colors = px.colors.sample_colorscale(px.colors.sequential.Plasma, len(Λ))\n",
    "\n",
    "# for idx,i in enumerate(range(λmin,λmax)):\n",
    "#     fig.add_trace(go.Scatter(\n",
    "#         x=spettro_ristretto['Concentrazione'],\n",
    "#         y=spettro_ristretto[i],\n",
    "#         mode='lines+markers',\n",
    "#         name=str(i)+'nm',\n",
    "#         line=dict(color=colors[idx]),\n",
    "#         marker=dict(color=colors[idx])\n",
    "#     ))\n",
    "\n",
    "# fig.update_layout(\n",
    "#     # yaxis_type='log',\n",
    "#     #title='Spettri ristretti (220-230 nm)',\n",
    "#     xaxis_title='Concentrazione [M]',\n",
    "#     yaxis_title='θ',\n",
    "#     legend_title='λ [nm]',\n",
    "#     height=800,\n",
    "#     width=600,\n",
    "#     legend=dict(\n",
    "#         x=1,\n",
    "#         y=0,\n",
    "#         xanchor='right',\n",
    "#         yanchor='bottom'\n",
    "#     )\n",
    "# )\n",
    "# # fig.show()"
   ]
  },
  {
   "cell_type": "code",
   "execution_count": 29,
   "id": "b315f4c1",
   "metadata": {},
   "outputs": [],
   "source": [
    "def sigmoid(x,m,Cmid, yN,yD):\n",
    "    R = 8.314  # J/(mol * K)\n",
    "    T = 300  # K\n",
    "    expo = m * (Cmid-x) / (R*T)\n",
    "    num = yN + yD * np.exp(-expo)\n",
    "    den = 1 + np.exp(-expo)\n",
    "    return num/den\n",
    "\n",
    "\n",
    "# x = np.linspace(0,6,1000)\n",
    "# plt.plot(x,sigmoid(x,-0.005,-0.0001,2,6))\n",
    "\n",
    "# plt.show()"
   ]
  },
  {
   "cell_type": "code",
   "execution_count": 30,
   "id": "0400f6d7",
   "metadata": {},
   "outputs": [
    {
     "data": {
      "text/html": [
       "<div>\n",
       "<style scoped>\n",
       "    .dataframe tbody tr th:only-of-type {\n",
       "        vertical-align: middle;\n",
       "    }\n",
       "\n",
       "    .dataframe tbody tr th {\n",
       "        vertical-align: top;\n",
       "    }\n",
       "\n",
       "    .dataframe thead th {\n",
       "        text-align: right;\n",
       "    }\n",
       "</style>\n",
       "<table border=\"1\" class=\"dataframe\">\n",
       "  <thead>\n",
       "    <tr style=\"text-align: right;\">\n",
       "      <th></th>\n",
       "      <th>λ</th>\n",
       "      <th>m</th>\n",
       "      <th>m_err</th>\n",
       "      <th>Cmid</th>\n",
       "      <th>Cmid_err</th>\n",
       "      <th>Cm covariance</th>\n",
       "    </tr>\n",
       "  </thead>\n",
       "  <tbody>\n",
       "    <tr>\n",
       "      <th>0</th>\n",
       "      <td>227</td>\n",
       "      <td>2364.975140</td>\n",
       "      <td>382.904036</td>\n",
       "      <td>3.486600</td>\n",
       "      <td>0.194614</td>\n",
       "      <td>0.037875</td>\n",
       "    </tr>\n",
       "    <tr>\n",
       "      <th>1</th>\n",
       "      <td>226</td>\n",
       "      <td>2420.204240</td>\n",
       "      <td>605.381878</td>\n",
       "      <td>2.892844</td>\n",
       "      <td>0.290547</td>\n",
       "      <td>0.084417</td>\n",
       "    </tr>\n",
       "    <tr>\n",
       "      <th>2</th>\n",
       "      <td>225</td>\n",
       "      <td>1871.825709</td>\n",
       "      <td>358.966189</td>\n",
       "      <td>3.768440</td>\n",
       "      <td>0.283545</td>\n",
       "      <td>0.080398</td>\n",
       "    </tr>\n",
       "    <tr>\n",
       "      <th>3</th>\n",
       "      <td>224</td>\n",
       "      <td>2009.534318</td>\n",
       "      <td>388.933036</td>\n",
       "      <td>3.626932</td>\n",
       "      <td>0.269675</td>\n",
       "      <td>0.072725</td>\n",
       "    </tr>\n",
       "    <tr>\n",
       "      <th>4</th>\n",
       "      <td>223</td>\n",
       "      <td>1908.256012</td>\n",
       "      <td>410.361814</td>\n",
       "      <td>3.608969</td>\n",
       "      <td>0.313068</td>\n",
       "      <td>0.098012</td>\n",
       "    </tr>\n",
       "    <tr>\n",
       "      <th>5</th>\n",
       "      <td>222</td>\n",
       "      <td>2351.113585</td>\n",
       "      <td>479.661032</td>\n",
       "      <td>3.353461</td>\n",
       "      <td>0.245753</td>\n",
       "      <td>0.060395</td>\n",
       "    </tr>\n",
       "    <tr>\n",
       "      <th>6</th>\n",
       "      <td>221</td>\n",
       "      <td>1886.413799</td>\n",
       "      <td>320.904530</td>\n",
       "      <td>3.837163</td>\n",
       "      <td>0.249756</td>\n",
       "      <td>0.062378</td>\n",
       "    </tr>\n",
       "    <tr>\n",
       "      <th>7</th>\n",
       "      <td>220</td>\n",
       "      <td>2398.440757</td>\n",
       "      <td>277.862163</td>\n",
       "      <td>3.201543</td>\n",
       "      <td>0.136353</td>\n",
       "      <td>0.018592</td>\n",
       "    </tr>\n",
       "  </tbody>\n",
       "</table>\n",
       "</div>"
      ],
      "text/plain": [
       "     λ            m       m_err      Cmid  Cmid_err  Cm covariance\n",
       "0  227  2364.975140  382.904036  3.486600  0.194614       0.037875\n",
       "1  226  2420.204240  605.381878  2.892844  0.290547       0.084417\n",
       "2  225  1871.825709  358.966189  3.768440  0.283545       0.080398\n",
       "3  224  2009.534318  388.933036  3.626932  0.269675       0.072725\n",
       "4  223  1908.256012  410.361814  3.608969  0.313068       0.098012\n",
       "5  222  2351.113585  479.661032  3.353461  0.245753       0.060395\n",
       "6  221  1886.413799  320.904530  3.837163  0.249756       0.062378\n",
       "7  220  2398.440757  277.862163  3.201543  0.136353       0.018592"
      ]
     },
     "metadata": {},
     "output_type": "display_data"
    }
   ],
   "source": [
    "# fit con sigmoide\n",
    "\n",
    "fit_results = []\n",
    "\n",
    "for i in spettro_ristretto.columns[1:]:\n",
    "    C = concentrazioni\n",
    "    θ = spettro_ristretto[i].to_numpy()\n",
    "\n",
    "    # guess\n",
    "    yD = θ[-1]\n",
    "    yN = θ[0] # NON è UN PARAMETRO\n",
    "    m = 2666\n",
    "    Cmid = np.mean(C)\n",
    "\n",
    "    # fit\n",
    "    # print(i)\n",
    "    popt, pcov = curve_fit(lambda x,a,b: sigmoid(x,a,b,yN,yD), C, θ, p0=[m, Cmid]) # ,maxfev=100000,sigma=25)\n",
    "    perr = np.sqrt(np.diag(pcov))\n",
    "    fit_results.append({\n",
    "        'λ': i,\n",
    "        'm': popt[0], 'm_err': perr[0],\n",
    "        'Cmid': popt[1], 'Cmid_err': perr[1],\n",
    "        'Cm covariance': pcov[1, 1],\n",
    "        #'yN': popt[2], 'yN_err': perr[2],\n",
    "        #'yD': popt[3], 'yD_err': perr[3],\n",
    "    })\n",
    "\n",
    "fit_df = pd.DataFrame(fit_results)\n",
    "display(fit_df)"
   ]
  },
  {
   "cell_type": "code",
   "execution_count": 31,
   "id": "c7f7a321",
   "metadata": {},
   "outputs": [
    {
     "data": {
      "application/vnd.plotly.v1+json": {
       "config": {
        "plotlyServerURL": "https://plot.ly"
       },
       "data": [
        {
         "line": {
          "color": "rgb(13, 8, 135)"
         },
         "mode": "lines",
         "name": "Fit 227 nm",
         "type": "scatter",
         "x": {
          "bdata": "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",
          "dtype": "f8"
         },
         "y": {
          "bdata": "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",
          "dtype": "f8"
         }
        },
        {
         "marker": {
          "color": "rgb(13, 8, 135)"
         },
         "mode": "markers",
         "name": "Exp 227 nm",
         "showlegend": false,
         "type": "scatter",
         "x": {
          "bdata": "AAAAAAAAAADhmKdr1Hj4P9jodNcUvwhAoJu+HS+sEkBrMvwKRoUYQNysTaWX8R5A",
          "dtype": "f8"
         },
         "y": {
          "bdata": "MD6zzx04kcBwvGlCh8qPwBBQ44/WeovA+EKeg1Ysh8Dwpui11MaBwPB10oknCYLA",
          "dtype": "f8"
         }
        },
        {
         "line": {
          "color": "rgb(83, 2, 162)"
         },
         "mode": "lines",
         "name": "Fit 226 nm",
         "type": "scatter",
         "x": {
          "bdata": "AAAAAAAARMAzxVsckcdDwGWKtzgij0PAmE8TVbNWQ8DLFG9xRB5DwP3Zyo3V5ULAMJ8mqmatQsBjZILG93RCwJUp3uKIPELAyO45/xkEQsD7s5Ubq8tBwC158Tc8k0HAYD5NVM1aQcCTA6lwXiJBwMXIBI3v6UDA+I1gqYCxQMArU7zFEXlAwF0YGOKiQEDAkN1z/jMIQMCGRZ81ip8/wOvPVm6sLj/AUFoOp869PsC25MXf8Ew+wBtvfRgT3D3AgPk0UTVrPcDmg+yJV/o8wEsOpMJ5iTzAsJhb+5sYPMAWIxM0vqc7wHutymzgNjvA4DeCpQLGOsBGwjneJFU6wKtM8RZH5DnAENeoT2lzOcB2YWCIiwI5wNvrF8GtkTjAQHbP+c8gOMCmAIcy8q83wAuLPmsUPzfAcBX2ozbONsDWn63cWF02wDsqZRV77DXAoLQcTp17NcAGP9SGvwo1wGvJi7/hmTTA0FND+AMpNMA23vowJrgzwJtosmlIRzPAAPNpomrWMsBmfSHbjGUywMsH2ROv9DHAMZKQTNGDMcCWHEiF8xIxwPum/70VojDAYTG39jcxMMCMd91etIAvwFaMTND4ni7AIqG7QT29LcDstSqzgdsswLbKmSTG+SvAgt8IlgoYK8BM9HcHTzYqwBYJ53iTVCnA4h1W6tdyKMCsMsVbHJEnwHZHNM1grybAQlyjPqXNJcAMcRKw6eskwNaFgSEuCiTAoprwknIoI8Bsr18Et0YiwDbEznX7ZCHAAtk95z+DIMCY21mxCEMfwDAFOJSRfx3AwC4Wdxq8G8BYWPRZo/gZwPCB0jwsNRjAgKuwH7VxFsAY1Y4CPq4UwLD+bOXG6hLAQChLyE8nEcCwo1JWsccOwOD2DhzDQAvAAErL4dS5B8AwnYen5jIEwGDwQ234qwDAAIcAZhRK+r9gLXnxNzzzv4Cn4/m2XOi/AOipIfyB1L8A+s3B1tW+P4BySMFz9uE/AJMrVRYJ8D+g7LLJ8hb3P0BGOj7PJP4/ANBg2VWZAkDQfKQTRCAGQKAp6E0ypwlAcNYriCAuDUCowTdhh1oQQBCYWX7+HRJAeG57m3XhE0DoRJ247KQVQFAbv9VjaBdAuPHg8torGUAoyAIQUu8aQJCeJC3JshxA+HRGSkB2HkC0JbSz2xwgQOgQRUKX/iBAHPzV0FLgIUBU52ZfDsIiQIjS9+3JoyNAvL2IfIWFJED0qBkLQWclQCiUqpn8SCZAXH87KLgqJ0CUasy2cwwoQMhVXUUv7ihA/EDu0+rPKUA0LH9iprEqQGgXEPFhkytAnAKhfx11LEDU7TEO2VYtQAjZwpyUOC5APMRTK1AaL0B0r+S5C/wvQFTNOqTjbjBA7kKDa8HfMECKuMsyn1AxQCQuFPp8wTFAvqNcwVoyMkBaGaWIOKMyQPSO7U8WFDNAjgQ2F/SEM0Aqen7e0fUzQMTvxqWvZjRAXmUPbY3XNED62lc0a0g1QJRQoPtIuTVALsbowiYqNkDKOzGKBJs2QGSxeVHiCzdA/ibCGMB8N0CanArgne03QDQSU6d7XjhA0IebblnPOEBo/eM1N0A5QARzLP0UsTlAoOh0xPIhOkA4Xr2L0JI6QNTTBVOuAztAcElOGox0O0AIv5bhaeU7QKQ036hHVjxAQKoncCXHPEDYH3A3Azg9QHSVuP7gqD1AEAsBxr4ZPkCogEmNnIo+QET2kVR6+z5A4GvaG1hsP0B44SLjNd0/QIqrNdUJJ0BAWObZuHhfQEAkIX6c55dAQPJbIoBW0EBAwJbGY8UIQUCM0WpHNEFBQFoMDyujeUFAKEezDhKyQUD0gVfygOpBQMK8+9XvIkJAkPefuV5bQkBcMkSdzZNCQCpt6IA8zEJA+KeMZKsEQ0DE4jBIGj1DQJId1SuJdUNAYFh5D/itQ0Askx3zZuZDQPrNwdbVHkRAyAhmukRXRECUQwqes49EQGJ+roEiyERAMLlSZZEARUD88/ZIADlFQMoumyxvcUVAmGk/EN6pRUBkpOPzTOJFQDLfh9e7GkZAABosuypTRkDMVNCemYtGQJqPdIIIxEZAZsoYZnf8RkA0Bb1J5jRHQAJAYS1VbUdAznoFEcSlR0Cctan0Mt5HQA==",
          "dtype": "f8"
         },
         "y": {
          "bdata": "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",
          "dtype": "f8"
         }
        },
        {
         "marker": {
          "color": "rgb(83, 2, 162)"
         },
         "mode": "markers",
         "name": "Exp 226 nm",
         "showlegend": false,
         "type": "scatter",
         "x": {
          "bdata": "AAAAAAAAAADhmKdr1Hj4P9jodNcUvwhAoJu+HS+sEkBrMvwKRoUYQNysTaWX8R5A",
          "dtype": "f8"
         },
         "y": {
          "bdata": "NBosoCAHksBATD8aJgaPwHB5bCKbjozAAF2Ujm44hsCQPDNReLmCwPiWHV/r+YPA",
          "dtype": "f8"
         }
        },
        {
         "line": {
          "color": "rgb(138, 14, 162)"
         },
         "mode": "lines",
         "name": "Fit 225 nm",
         "type": "scatter",
         "x": {
          "bdata": "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",
          "dtype": "f8"
         },
         "y": {
          "bdata": "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",
          "dtype": "f8"
         }
        },
        {
         "marker": {
          "color": "rgb(138, 14, 162)"
         },
         "mode": "markers",
         "name": "Exp 225 nm",
         "showlegend": false,
         "type": "scatter",
         "x": {
          "bdata": "AAAAAAAAAADhmKdr1Hj4P9jodNcUvwhAoJu+HS+sEkBrMvwKRoUYQNysTaWX8R5A",
          "dtype": "f8"
         },
         "y": {
          "bdata": "bMv8fTMfk8AwxbREbTmQwIA3Ov5BLI7AUL/o4fLdiMBAcE0KCECBwOCzVmTMHH/A",
          "dtype": "f8"
         }
        },
        {
         "line": {
          "color": "rgb(184, 50, 137)"
         },
         "mode": "lines",
         "name": "Fit 224 nm",
         "type": "scatter",
         "x": {
          "bdata": "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",
          "dtype": "f8"
         },
         "y": {
          "bdata": "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",
          "dtype": "f8"
         }
        },
        {
         "marker": {
          "color": "rgb(184, 50, 137)"
         },
         "mode": "markers",
         "name": "Exp 224 nm",
         "showlegend": false,
         "type": "scatter",
         "x": {
          "bdata": "AAAAAAAAAADhmKdr1Hj4P9jodNcUvwhAoJu+HS+sEkBrMvwKRoUYQNysTaWX8R5A",
          "dtype": "f8"
         },
         "y": {
          "bdata": "pHzNW0Y3lMCw1wlO3BmRwOikBw5DU5DAMGfNpwz5iMAgjVvZjIOCwDCwUdP3R4HA",
          "dtype": "f8"
         }
        },
        {
         "line": {
          "color": "rgb(219, 92, 104)"
         },
         "mode": "lines",
         "name": "Fit 223 nm",
         "type": "scatter",
         "x": {
          "bdata": "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",
          "dtype": "f8"
         },
         "y": {
          "bdata": "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",
          "dtype": "f8"
         }
        },
        {
         "marker": {
          "color": "rgb(219, 92, 104)"
         },
         "mode": "markers",
         "name": "Exp 223 nm",
         "showlegend": false,
         "type": "scatter",
         "x": {
          "bdata": "AAAAAAAAAADhmKdr1Hj4P9jodNcUvwhAoJu+HS+sEkBrMvwKRoUYQNysTaWX8R5A",
          "dtype": "f8"
         },
         "y": {
          "bdata": "KJEwpR7JlcAImclmROyRwOikBw5DU5DAsJygKCgjisDgR8+GL41/wDDzeSuf0X3A",
          "dtype": "f8"
         }
        },
        {
         "line": {
          "color": "rgb(243, 137, 72)"
         },
         "mode": "lines",
         "name": "Fit 222 nm",
         "type": "scatter",
         "x": {
          "bdata": "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",
          "dtype": "f8"
         },
         "y": {
          "bdata": "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",
          "dtype": "f8"
         }
        },
        {
         "marker": {
          "color": "rgb(243, 137, 72)"
         },
         "mode": "markers",
         "name": "Exp 222 nm",
         "showlegend": false,
         "type": "scatter",
         "x": {
          "bdata": "AAAAAAAAAADhmKdr1Hj4P9jodNcUvwhAoJu+HS+sEkBrMvwKRoUYQNysTaWX8R5A",
          "dtype": "f8"
         },
         "y": {
          "bdata": "fPTCEORClsBgQQkj1hKTwBgu8hxlkJHAgF57+VlKicAQ7ArJY++CwACcwdztb4PA",
          "dtype": "f8"
         }
        },
        {
         "line": {
          "color": "rgb(252, 190, 44)"
         },
         "mode": "lines",
         "name": "Fit 221 nm",
         "type": "scatter",
         "x": {
          "bdata": "AAAAAAAARMAzxVsckcdDwGWKtzgij0PAmE8TVbNWQ8DLFG9xRB5DwP3Zyo3V5ULAMJ8mqmatQsBjZILG93RCwJUp3uKIPELAyO45/xkEQsD7s5Ubq8tBwC158Tc8k0HAYD5NVM1aQcCTA6lwXiJBwMXIBI3v6UDA+I1gqYCxQMArU7zFEXlAwF0YGOKiQEDAkN1z/jMIQMCGRZ81ip8/wOvPVm6sLj/AUFoOp869PsC25MXf8Ew+wBtvfRgT3D3AgPk0UTVrPcDmg+yJV/o8wEsOpMJ5iTzAsJhb+5sYPMAWIxM0vqc7wHutymzgNjvA4DeCpQLGOsBGwjneJFU6wKtM8RZH5DnAENeoT2lzOcB2YWCIiwI5wNvrF8GtkTjAQHbP+c8gOMCmAIcy8q83wAuLPmsUPzfAcBX2ozbONsDWn63cWF02wDsqZRV77DXAoLQcTp17NcAGP9SGvwo1wGvJi7/hmTTA0FND+AMpNMA23vowJrgzwJtosmlIRzPAAPNpomrWMsBmfSHbjGUywMsH2ROv9DHAMZKQTNGDMcCWHEiF8xIxwPum/70VojDAYTG39jcxMMCMd91etIAvwFaMTND4ni7AIqG7QT29LcDstSqzgdsswLbKmSTG+SvAgt8IlgoYK8BM9HcHTzYqwBYJ53iTVCnA4h1W6tdyKMCsMsVbHJEnwHZHNM1grybAQlyjPqXNJcAMcRKw6eskwNaFgSEuCiTAoprwknIoI8Bsr18Et0YiwDbEznX7ZCHAAtk95z+DIMCY21mxCEMfwDAFOJSRfx3AwC4Wdxq8G8BYWPRZo/gZwPCB0jwsNRjAgKuwH7VxFsAY1Y4CPq4UwLD+bOXG6hLAQChLyE8nEcCwo1JWsccOwOD2DhzDQAvAAErL4dS5B8AwnYen5jIEwGDwQ234qwDAAIcAZhRK+r9gLXnxNzzzv4Cn4/m2XOi/AOipIfyB1L8A+s3B1tW+P4BySMFz9uE/AJMrVRYJ8D+g7LLJ8hb3P0BGOj7PJP4/ANBg2VWZAkDQfKQTRCAGQKAp6E0ypwlAcNYriCAuDUCowTdhh1oQQBCYWX7+HRJAeG57m3XhE0DoRJ247KQVQFAbv9VjaBdAuPHg8torGUAoyAIQUu8aQJCeJC3JshxA+HRGSkB2HkC0JbSz2xwgQOgQRUKX/iBAHPzV0FLgIUBU52ZfDsIiQIjS9+3JoyNAvL2IfIWFJED0qBkLQWclQCiUqpn8SCZAXH87KLgqJ0CUasy2cwwoQMhVXUUv7ihA/EDu0+rPKUA0LH9iprEqQGgXEPFhkytAnAKhfx11LEDU7TEO2VYtQAjZwpyUOC5APMRTK1AaL0B0r+S5C/wvQFTNOqTjbjBA7kKDa8HfMECKuMsyn1AxQCQuFPp8wTFAvqNcwVoyMkBaGaWIOKMyQPSO7U8WFDNAjgQ2F/SEM0Aqen7e0fUzQMTvxqWvZjRAXmUPbY3XNED62lc0a0g1QJRQoPtIuTVALsbowiYqNkDKOzGKBJs2QGSxeVHiCzdA/ibCGMB8N0CanArgne03QDQSU6d7XjhA0IebblnPOEBo/eM1N0A5QARzLP0UsTlAoOh0xPIhOkA4Xr2L0JI6QNTTBVOuAztAcElOGox0O0AIv5bhaeU7QKQ036hHVjxAQKoncCXHPEDYH3A3Azg9QHSVuP7gqD1AEAsBxr4ZPkCogEmNnIo+QET2kVR6+z5A4GvaG1hsP0B44SLjNd0/QIqrNdUJJ0BAWObZuHhfQEAkIX6c55dAQPJbIoBW0EBAwJbGY8UIQUCM0WpHNEFBQFoMDyujeUFAKEezDhKyQUD0gVfygOpBQMK8+9XvIkJAkPefuV5bQkBcMkSdzZNCQCpt6IA8zEJA+KeMZKsEQ0DE4jBIGj1DQJId1SuJdUNAYFh5D/itQ0Askx3zZuZDQPrNwdbVHkRAyAhmukRXRECUQwqes49EQGJ+roEiyERAMLlSZZEARUD88/ZIADlFQMoumyxvcUVAmGk/EN6pRUBkpOPzTOJFQDLfh9e7GkZAABosuypTRkDMVNCemYtGQJqPdIIIxEZAZsoYZnf8RkA0Bb1J5jRHQAJAYS1VbUdAznoFEcSlR0Cctan0Mt5HQA==",
          "dtype": "f8"
         },
         "y": {
          "bdata": "yeu/7bEpmcDC67/tsSmZwLfrv+2xKZnAqOu/7bEpmcCT67/tsSmZwHfrv+2xKZnATuu/7bEpmcAW67/tsSmZwMfqv+2xKZnAWuq/7bEpmcDB6b/tsSmZwOvov+2xKZnAwOe/7bEpmcAi5r/tsSmZwN3jv+2xKZnAsuC/7bEpmcBH3L/tsSmZwBzWv+2xKZnAgM2/7bEpmcB9wb/tsSmZwLmwv+2xKZnAUJm/7bEpmcCkeL/tsSmZwAxLv+2xKZnAZgu/7bEpmcCPsr7tsSmZwJA2vu2xKZnAfYm97bEpmcDtl7ztsSmZwMBGu+2xKZnAIXC57bEpmcA/37btsSmZwGZKs+2xKZnArEqu7bEpmcB3UKftsSmZwFOTne2xKZnAd/uP7bEpmcBcAn3tsSmZwPOGYu2xKZnAZpA97bEpmcDT+AntsSmZwAf2weyxKZnANXNd7LEpmcDJKNHrsSmZwFdYDeuxKZnAVAj86bEpmcDFjH7osSmZwAYWauaxKZnA+OKC47EpmcA2jHXfsSmZwA+ozdmxKZnAEbro0bEpmcD49uPGsSmZwCrRgrexKZnAdXILorEpmcCWJhWEsSmZwA4mQ1qxKZnA//zjH7EpmcADt2rOsCmZwLyuslywKZnA3uL4va8pmcBKV23grimZwN5eM6utKZnAnGOX+6spmcBwCyqhqSmZwK3kUFimKZnAHIqwwqEpmcALeJZcmymZwNK2Mm6SKZnAa3H59oUpmcCKMN2QdCmZwMA3KUhcKZnAgbh+YzopmcB3rLMVCymZwLpA3hDJKJnAus5w7mwomcB7cJVb7CeZwJYue/I4J5nA4KBgoD4mmcBiRwps4SSZwO4zAWD6IpnAsgRURlMgmcB/n5THoByZwO5/71t6F5nAh7eTVE8QmcAaPgIaWAaZwCkS1J2C+JjApFa9B1nlmMAjrssM4sqYwEnMfoh7ppjA0kOcfLJ0mMBBWA51IDGYwMUsBF5e1pfAlc/VNihel8Ck+/fc2MGWwMco4mlo+5XAwMVrBgEHlcAAzgaR+uSTwIKzxVCgm5LAFaAJzsg3kcDj4JCQ2ZaPwMenqQiW1IzAdS2AAZ5LisCKuOfg2xOIwAJTNM4WOIbAZjJ61JW3hMC28Fuk1YmDwMthyIlwooLAzrA4kh/0gcAPIIGPjnKBwMlni741E4HALxrXR4/NgMCqwbs09JqAwIZdUjlUdoDAVe10wOVbgMCF6Px/3EiAwLCCju0rO4DAAiRqTlYxgMBE1+QRRyqAwO65eHs2JYDAx3TtnpQhgMDqhtLy+R6AwDnXiREcHYDAjbwmkcUbgMCuITwe0BqAwD6E0jsgGoDAH75kNKIZgMDRyhfnRxmAwJ1omjMHGYDAGawi2NgYgMBt2WihtxiAwIJGftWfGIDAaEXfyI4YgMCnmM6RghiAwFUEaNF5GIDAh8tDjHMYgMBOQEIObxiAwDgcVtZrGIDAt4sJiGkYgMBOLx7hZxiAwEYlHrJmGIDAs58I2WUYgMBRDoE9ZRiAwJNBE85kGIDAzv49fmQYgMCCwQtFZBiAwJtZERxkGIDApIS1/mMYgMB/0KzpYxiAwCT0mtpjGIDAJv/Oz2MYgMDVwxLIYxiAwCIIiMJjGIDARpWPvmMYgMC0Wbe7YxiAwAicrbljGIDAKs83uGMYgMAxACy3YxiAwEEhbLZjGIDAFaritWMYgMBwLYC1YxiAwOKdObVjGIDASRAHtWMYgMBO2OK0YxiAwGrlyLRjGIDAIE62tGMYgMBY/Ki0YxiAwGlxn7RjGIDALZuYtGMYgMA5tZO0YxiAwNUykLRjGIDAL6+NtGMYgMAK4ou0YxiAwKeXirRjGIDA86qJtGMYgMBeAYm0YxiAwN6HiLRjGIDA0jCItGMYgMB08oe0YxiAwMbFh7RjGIDAwqWHtGMYgMDTjoe0YxiAwGV+h7RjGIDAnnKHtGMYgMAvaoe0YxiAwCVkh7RjGIDA0F+HtGMYgMC3XIe0YxiAwH5ah7RjGIDA5ViHtGMYgMDBV4e0YxiAwPBWh7RjGIDAW1aHtGMYgMDwVYe0YxiAwKNVh7RjGIDAbFWHtGMYgMBDVYe0YxiAwCdVh7RjGIDAE1WHtGMYgMAFVYe0YxiAwA==",
          "dtype": "f8"
         }
        },
        {
         "marker": {
          "color": "rgb(252, 190, 44)"
         },
         "mode": "markers",
         "name": "Exp 221 nm",
         "showlegend": false,
         "type": "scatter",
         "x": {
          "bdata": "AAAAAAAAAADhmKdr1Hj4P9jodNcUvwhAoJu+HS+sEkBrMvwKRoUYQNysTaWX8R5A",
          "dtype": "f8"
         },
         "y": {
          "bdata": "3Ou/7bEpmcCo712660OVwCjLpmbf/JPAQOxptFtZisDgyfhp0wqHwOBUh7RjGIDA",
          "dtype": "f8"
         }
        },
        {
         "line": {
          "color": "rgb(240, 249, 33)"
         },
         "mode": "lines",
         "name": "Fit 220 nm",
         "type": "scatter",
         "x": {
          "bdata": "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",
          "dtype": "f8"
         },
         "y": {
          "bdata": "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",
          "dtype": "f8"
         }
        },
        {
         "marker": {
          "color": "rgb(240, 249, 33)"
         },
         "mode": "markers",
         "name": "Exp 220 nm",
         "showlegend": false,
         "type": "scatter",
         "x": {
          "bdata": "AAAAAAAAAADhmKdr1Hj4P9jodNcUvwhAoJu+HS+sEkBrMvwKRoUYQNysTaWX8R5A",
          "dtype": "f8"
         },
         "y": {
          "bdata": "nEAfI/JNmsBwi11IkpSWwOB2nyRCIJPAkP0NEcG2icBgF6D/qtSEwNBm5hAgp4PA",
          "dtype": "f8"
         }
        }
       ],
       "layout": {
        "height": 600,
        "legend": {
         "title": {
          "text": "λ [nm]"
         },
         "x": 1,
         "xanchor": "right",
         "y": 0,
         "yanchor": "bottom"
        },
        "template": {
         "data": {
          "bar": [
           {
            "error_x": {
             "color": "#2a3f5f"
            },
            "error_y": {
             "color": "#2a3f5f"
            },
            "marker": {
             "line": {
              "color": "#E5ECF6",
              "width": 0.5
             },
             "pattern": {
              "fillmode": "overlay",
              "size": 10,
              "solidity": 0.2
             }
            },
            "type": "bar"
           }
          ],
          "barpolar": [
           {
            "marker": {
             "line": {
              "color": "#E5ECF6",
              "width": 0.5
             },
             "pattern": {
              "fillmode": "overlay",
              "size": 10,
              "solidity": 0.2
             }
            },
            "type": "barpolar"
           }
          ],
          "carpet": [
           {
            "aaxis": {
             "endlinecolor": "#2a3f5f",
             "gridcolor": "white",
             "linecolor": "white",
             "minorgridcolor": "white",
             "startlinecolor": "#2a3f5f"
            },
            "baxis": {
             "endlinecolor": "#2a3f5f",
             "gridcolor": "white",
             "linecolor": "white",
             "minorgridcolor": "white",
             "startlinecolor": "#2a3f5f"
            },
            "type": "carpet"
           }
          ],
          "choropleth": [
           {
            "colorbar": {
             "outlinewidth": 0,
             "ticks": ""
            },
            "type": "choropleth"
           }
          ],
          "contour": [
           {
            "colorbar": {
             "outlinewidth": 0,
             "ticks": ""
            },
            "colorscale": [
             [
              0,
              "#0d0887"
             ],
             [
              0.1111111111111111,
              "#46039f"
             ],
             [
              0.2222222222222222,
              "#7201a8"
             ],
             [
              0.3333333333333333,
              "#9c179e"
             ],
             [
              0.4444444444444444,
              "#bd3786"
             ],
             [
              0.5555555555555556,
              "#d8576b"
             ],
             [
              0.6666666666666666,
              "#ed7953"
             ],
             [
              0.7777777777777778,
              "#fb9f3a"
             ],
             [
              0.8888888888888888,
              "#fdca26"
             ],
             [
              1,
              "#f0f921"
             ]
            ],
            "type": "contour"
           }
          ],
          "contourcarpet": [
           {
            "colorbar": {
             "outlinewidth": 0,
             "ticks": ""
            },
            "type": "contourcarpet"
           }
          ],
          "heatmap": [
           {
            "colorbar": {
             "outlinewidth": 0,
             "ticks": ""
            },
            "colorscale": [
             [
              0,
              "#0d0887"
             ],
             [
              0.1111111111111111,
              "#46039f"
             ],
             [
              0.2222222222222222,
              "#7201a8"
             ],
             [
              0.3333333333333333,
              "#9c179e"
             ],
             [
              0.4444444444444444,
              "#bd3786"
             ],
             [
              0.5555555555555556,
              "#d8576b"
             ],
             [
              0.6666666666666666,
              "#ed7953"
             ],
             [
              0.7777777777777778,
              "#fb9f3a"
             ],
             [
              0.8888888888888888,
              "#fdca26"
             ],
             [
              1,
              "#f0f921"
             ]
            ],
            "type": "heatmap"
           }
          ],
          "histogram": [
           {
            "marker": {
             "pattern": {
              "fillmode": "overlay",
              "size": 10,
              "solidity": 0.2
             }
            },
            "type": "histogram"
           }
          ],
          "histogram2d": [
           {
            "colorbar": {
             "outlinewidth": 0,
             "ticks": ""
            },
            "colorscale": [
             [
              0,
              "#0d0887"
             ],
             [
              0.1111111111111111,
              "#46039f"
             ],
             [
              0.2222222222222222,
              "#7201a8"
             ],
             [
              0.3333333333333333,
              "#9c179e"
             ],
             [
              0.4444444444444444,
              "#bd3786"
             ],
             [
              0.5555555555555556,
              "#d8576b"
             ],
             [
              0.6666666666666666,
              "#ed7953"
             ],
             [
              0.7777777777777778,
              "#fb9f3a"
             ],
             [
              0.8888888888888888,
              "#fdca26"
             ],
             [
              1,
              "#f0f921"
             ]
            ],
            "type": "histogram2d"
           }
          ],
          "histogram2dcontour": [
           {
            "colorbar": {
             "outlinewidth": 0,
             "ticks": ""
            },
            "colorscale": [
             [
              0,
              "#0d0887"
             ],
             [
              0.1111111111111111,
              "#46039f"
             ],
             [
              0.2222222222222222,
              "#7201a8"
             ],
             [
              0.3333333333333333,
              "#9c179e"
             ],
             [
              0.4444444444444444,
              "#bd3786"
             ],
             [
              0.5555555555555556,
              "#d8576b"
             ],
             [
              0.6666666666666666,
              "#ed7953"
             ],
             [
              0.7777777777777778,
              "#fb9f3a"
             ],
             [
              0.8888888888888888,
              "#fdca26"
             ],
             [
              1,
              "#f0f921"
             ]
            ],
            "type": "histogram2dcontour"
           }
          ],
          "mesh3d": [
           {
            "colorbar": {
             "outlinewidth": 0,
             "ticks": ""
            },
            "type": "mesh3d"
           }
          ],
          "parcoords": [
           {
            "line": {
             "colorbar": {
              "outlinewidth": 0,
              "ticks": ""
             }
            },
            "type": "parcoords"
           }
          ],
          "pie": [
           {
            "automargin": true,
            "type": "pie"
           }
          ],
          "scatter": [
           {
            "fillpattern": {
             "fillmode": "overlay",
             "size": 10,
             "solidity": 0.2
            },
            "type": "scatter"
           }
          ],
          "scatter3d": [
           {
            "line": {
             "colorbar": {
              "outlinewidth": 0,
              "ticks": ""
             }
            },
            "marker": {
             "colorbar": {
              "outlinewidth": 0,
              "ticks": ""
             }
            },
            "type": "scatter3d"
           }
          ],
          "scattercarpet": [
           {
            "marker": {
             "colorbar": {
              "outlinewidth": 0,
              "ticks": ""
             }
            },
            "type": "scattercarpet"
           }
          ],
          "scattergeo": [
           {
            "marker": {
             "colorbar": {
              "outlinewidth": 0,
              "ticks": ""
             }
            },
            "type": "scattergeo"
           }
          ],
          "scattergl": [
           {
            "marker": {
             "colorbar": {
              "outlinewidth": 0,
              "ticks": ""
             }
            },
            "type": "scattergl"
           }
          ],
          "scattermap": [
           {
            "marker": {
             "colorbar": {
              "outlinewidth": 0,
              "ticks": ""
             }
            },
            "type": "scattermap"
           }
          ],
          "scattermapbox": [
           {
            "marker": {
             "colorbar": {
              "outlinewidth": 0,
              "ticks": ""
             }
            },
            "type": "scattermapbox"
           }
          ],
          "scatterpolar": [
           {
            "marker": {
             "colorbar": {
              "outlinewidth": 0,
              "ticks": ""
             }
            },
            "type": "scatterpolar"
           }
          ],
          "scatterpolargl": [
           {
            "marker": {
             "colorbar": {
              "outlinewidth": 0,
              "ticks": ""
             }
            },
            "type": "scatterpolargl"
           }
          ],
          "scatterternary": [
           {
            "marker": {
             "colorbar": {
              "outlinewidth": 0,
              "ticks": ""
             }
            },
            "type": "scatterternary"
           }
          ],
          "surface": [
           {
            "colorbar": {
             "outlinewidth": 0,
             "ticks": ""
            },
            "colorscale": [
             [
              0,
              "#0d0887"
             ],
             [
              0.1111111111111111,
              "#46039f"
             ],
             [
              0.2222222222222222,
              "#7201a8"
             ],
             [
              0.3333333333333333,
              "#9c179e"
             ],
             [
              0.4444444444444444,
              "#bd3786"
             ],
             [
              0.5555555555555556,
              "#d8576b"
             ],
             [
              0.6666666666666666,
              "#ed7953"
             ],
             [
              0.7777777777777778,
              "#fb9f3a"
             ],
             [
              0.8888888888888888,
              "#fdca26"
             ],
             [
              1,
              "#f0f921"
             ]
            ],
            "type": "surface"
           }
          ],
          "table": [
           {
            "cells": {
             "fill": {
              "color": "#EBF0F8"
             },
             "line": {
              "color": "white"
             }
            },
            "header": {
             "fill": {
              "color": "#C8D4E3"
             },
             "line": {
              "color": "white"
             }
            },
            "type": "table"
           }
          ]
         },
         "layout": {
          "annotationdefaults": {
           "arrowcolor": "#2a3f5f",
           "arrowhead": 0,
           "arrowwidth": 1
          },
          "autotypenumbers": "strict",
          "coloraxis": {
           "colorbar": {
            "outlinewidth": 0,
            "ticks": ""
           }
          },
          "colorscale": {
           "diverging": [
            [
             0,
             "#8e0152"
            ],
            [
             0.1,
             "#c51b7d"
            ],
            [
             0.2,
             "#de77ae"
            ],
            [
             0.3,
             "#f1b6da"
            ],
            [
             0.4,
             "#fde0ef"
            ],
            [
             0.5,
             "#f7f7f7"
            ],
            [
             0.6,
             "#e6f5d0"
            ],
            [
             0.7,
             "#b8e186"
            ],
            [
             0.8,
             "#7fbc41"
            ],
            [
             0.9,
             "#4d9221"
            ],
            [
             1,
             "#276419"
            ]
           ],
           "sequential": [
            [
             0,
             "#0d0887"
            ],
            [
             0.1111111111111111,
             "#46039f"
            ],
            [
             0.2222222222222222,
             "#7201a8"
            ],
            [
             0.3333333333333333,
             "#9c179e"
            ],
            [
             0.4444444444444444,
             "#bd3786"
            ],
            [
             0.5555555555555556,
             "#d8576b"
            ],
            [
             0.6666666666666666,
             "#ed7953"
            ],
            [
             0.7777777777777778,
             "#fb9f3a"
            ],
            [
             0.8888888888888888,
             "#fdca26"
            ],
            [
             1,
             "#f0f921"
            ]
           ],
           "sequentialminus": [
            [
             0,
             "#0d0887"
            ],
            [
             0.1111111111111111,
             "#46039f"
            ],
            [
             0.2222222222222222,
             "#7201a8"
            ],
            [
             0.3333333333333333,
             "#9c179e"
            ],
            [
             0.4444444444444444,
             "#bd3786"
            ],
            [
             0.5555555555555556,
             "#d8576b"
            ],
            [
             0.6666666666666666,
             "#ed7953"
            ],
            [
             0.7777777777777778,
             "#fb9f3a"
            ],
            [
             0.8888888888888888,
             "#fdca26"
            ],
            [
             1,
             "#f0f921"
            ]
           ]
          },
          "colorway": [
           "#636efa",
           "#EF553B",
           "#00cc96",
           "#ab63fa",
           "#FFA15A",
           "#19d3f3",
           "#FF6692",
           "#B6E880",
           "#FF97FF",
           "#FECB52"
          ],
          "font": {
           "color": "#2a3f5f"
          },
          "geo": {
           "bgcolor": "white",
           "lakecolor": "white",
           "landcolor": "#E5ECF6",
           "showlakes": true,
           "showland": true,
           "subunitcolor": "white"
          },
          "hoverlabel": {
           "align": "left"
          },
          "hovermode": "closest",
          "mapbox": {
           "style": "light"
          },
          "paper_bgcolor": "white",
          "plot_bgcolor": "#E5ECF6",
          "polar": {
           "angularaxis": {
            "gridcolor": "white",
            "linecolor": "white",
            "ticks": ""
           },
           "bgcolor": "#E5ECF6",
           "radialaxis": {
            "gridcolor": "white",
            "linecolor": "white",
            "ticks": ""
           }
          },
          "scene": {
           "xaxis": {
            "backgroundcolor": "#E5ECF6",
            "gridcolor": "white",
            "gridwidth": 2,
            "linecolor": "white",
            "showbackground": true,
            "ticks": "",
            "zerolinecolor": "white"
           },
           "yaxis": {
            "backgroundcolor": "#E5ECF6",
            "gridcolor": "white",
            "gridwidth": 2,
            "linecolor": "white",
            "showbackground": true,
            "ticks": "",
            "zerolinecolor": "white"
           },
           "zaxis": {
            "backgroundcolor": "#E5ECF6",
            "gridcolor": "white",
            "gridwidth": 2,
            "linecolor": "white",
            "showbackground": true,
            "ticks": "",
            "zerolinecolor": "white"
           }
          },
          "shapedefaults": {
           "line": {
            "color": "#2a3f5f"
           }
          },
          "ternary": {
           "aaxis": {
            "gridcolor": "white",
            "linecolor": "white",
            "ticks": ""
           },
           "baxis": {
            "gridcolor": "white",
            "linecolor": "white",
            "ticks": ""
           },
           "bgcolor": "#E5ECF6",
           "caxis": {
            "gridcolor": "white",
            "linecolor": "white",
            "ticks": ""
           }
          },
          "title": {
           "x": 0.05
          },
          "xaxis": {
           "automargin": true,
           "gridcolor": "white",
           "linecolor": "white",
           "ticks": "",
           "title": {
            "standoff": 15
           },
           "zerolinecolor": "white",
           "zerolinewidth": 2
          },
          "yaxis": {
           "automargin": true,
           "gridcolor": "white",
           "linecolor": "white",
           "ticks": "",
           "title": {
            "standoff": 15
           },
           "zerolinecolor": "white",
           "zerolinewidth": 2
          }
         }
        },
        "width": 800,
        "xaxis": {
         "title": {
          "text": "Concentrazione [μM]"
         }
        },
        "yaxis": {
         "title": {
          "text": "θ (fit)"
         }
        }
       }
      }
     },
     "metadata": {},
     "output_type": "display_data"
    }
   ],
   "source": [
    "fig = go.Figure()\n",
    "\n",
    "C_plot = np.linspace(concentrazioni.min()-40, concentrazioni.max()+40, 200)\n",
    "\n",
    "for idx, row in fit_df.iterrows():\n",
    "    #yN = row['yN']#spettro_ristretto.loc[0, row['λ']]\n",
    "    #yD = row['yD'] #spettro_ristretto.loc[5, row['λ']]\n",
    "    # print(yN, yD)\n",
    "\n",
    "    yN = spettro_ristretto.loc[0, row['λ']]\n",
    "    yD = spettro_ristretto.loc[5, row['λ']]\n",
    "\n",
    "    m = row['m']\n",
    "    Cmid = row['Cmid']\n",
    "    θ_fit = sigmoid(C_plot, m, Cmid, yN, yD)\n",
    "    # Fit line\n",
    "    fig.add_trace(go.Scatter(\n",
    "        x=C_plot,\n",
    "        y=θ_fit,\n",
    "        mode='lines',\n",
    "        line=dict(color=colors[idx]),\n",
    "        name=f\"Fit {int(row['λ'])} nm\"\n",
    "    ))\n",
    "    # Experimental points\n",
    "    fig.add_trace(go.Scatter(\n",
    "        x=spettro_ristretto['Concentrazione'],\n",
    "        y=spettro_ristretto[row['λ']],\n",
    "        mode='markers',\n",
    "        marker=dict(color=colors[idx]),\n",
    "        name=f\"Exp {int(row['λ'])} nm\",\n",
    "        showlegend=False\n",
    "    ))\n",
    "\n",
    "fig.update_layout(\n",
    "    xaxis_title='Concentrazione [μM]',\n",
    "    yaxis_title='θ (fit)',\n",
    "    legend_title='λ [nm]',\n",
    "    height=600,\n",
    "    width=800,\n",
    "    legend=dict(\n",
    "        x=1,\n",
    "        y=0,\n",
    "        xanchor='right',\n",
    "        yanchor='bottom'\n",
    "    )\n",
    ")\n",
    "\n",
    "fig.show()"
   ]
  },
  {
   "cell_type": "code",
   "execution_count": 32,
   "id": "2b6fc423",
   "metadata": {},
   "outputs": [
    {
     "data": {
      "application/vnd.plotly.v1+json": {
       "config": {
        "plotlyServerURL": "https://plot.ly"
       },
       "data": [
        {
         "error_y": {
          "array": {
           "bdata": "Z+wzlRzpyD/U1TrlUZjSP9D0JMGbJdI/wCUCf1pC0T9mnLPhTQnUP49LYTbZdM8/K3ceqf73zz+GWwN2AHTBPw==",
           "dtype": "f8"
          },
          "type": "data",
          "visible": true
         },
         "mode": "markers",
         "name": "Cmid",
         "type": "scatter",
         "x": {
          "bdata": "4wDiAOEA4ADfAN4A3QDcAA==",
          "dtype": "i2"
         },
         "y": {
          "bdata": "qVkHTY7kC0C5jN8miyQHQNsiGiHEJQ5A246eBPUDDUCmO/8aK98MQElfFIrj0wpARRXHpYKyDkCW199qwpwJQA==",
          "dtype": "f8"
         }
        },
        {
         "line": {
          "color": "red",
          "dash": "dash"
         },
         "mode": "lines",
         "name": "Mean Cmid",
         "type": "scatter",
         "x": {
          "bdata": "2wDjAOIA4QDgAN8A3gDdANwA5wA=",
          "dtype": "i2"
         },
         "y": [
          3.410417574784302,
          3.410417574784302,
          3.410417574784302,
          3.410417574784302,
          3.410417574784302,
          3.410417574784302,
          3.410417574784302,
          3.410417574784302,
          3.410417574784302,
          3.410417574784302
         ]
        },
        {
         "line": {
          "color": "red",
          "width": 0
         },
         "mode": "lines",
         "showlegend": false,
         "type": "scatter",
         "x": {
          "bdata": "2wDjAOIA4QDgAN8A3gDdANwA5wA=",
          "dtype": "i2"
         },
         "y": [
          3.1456496841702815,
          3.1456496841702815,
          3.1456496841702815,
          3.1456496841702815,
          3.1456496841702815,
          3.1456496841702815,
          3.1456496841702815,
          3.1456496841702815,
          3.1456496841702815,
          3.1456496841702815
         ]
        },
        {
         "fill": "tonexty",
         "fillcolor": "rgba(255,0,0,0.2)",
         "line": {
          "color": "red",
          "width": 0
         },
         "mode": "lines",
         "name": "Mean ± SEM",
         "type": "scatter",
         "x": {
          "bdata": "2wDjAOIA4QDgAN8A3gDdANwA5wA=",
          "dtype": "i2"
         },
         "y": [
          3.675185465398323,
          3.675185465398323,
          3.675185465398323,
          3.675185465398323,
          3.675185465398323,
          3.675185465398323,
          3.675185465398323,
          3.675185465398323,
          3.675185465398323,
          3.675185465398323
         ]
        }
       ],
       "layout": {
        "legend": {
         "title": {
          "text": "Legend"
         },
         "x": 1,
         "xanchor": "right",
         "y": 1,
         "yanchor": "top"
        },
        "template": {
         "data": {
          "bar": [
           {
            "error_x": {
             "color": "#2a3f5f"
            },
            "error_y": {
             "color": "#2a3f5f"
            },
            "marker": {
             "line": {
              "color": "#E5ECF6",
              "width": 0.5
             },
             "pattern": {
              "fillmode": "overlay",
              "size": 10,
              "solidity": 0.2
             }
            },
            "type": "bar"
           }
          ],
          "barpolar": [
           {
            "marker": {
             "line": {
              "color": "#E5ECF6",
              "width": 0.5
             },
             "pattern": {
              "fillmode": "overlay",
              "size": 10,
              "solidity": 0.2
             }
            },
            "type": "barpolar"
           }
          ],
          "carpet": [
           {
            "aaxis": {
             "endlinecolor": "#2a3f5f",
             "gridcolor": "white",
             "linecolor": "white",
             "minorgridcolor": "white",
             "startlinecolor": "#2a3f5f"
            },
            "baxis": {
             "endlinecolor": "#2a3f5f",
             "gridcolor": "white",
             "linecolor": "white",
             "minorgridcolor": "white",
             "startlinecolor": "#2a3f5f"
            },
            "type": "carpet"
           }
          ],
          "choropleth": [
           {
            "colorbar": {
             "outlinewidth": 0,
             "ticks": ""
            },
            "type": "choropleth"
           }
          ],
          "contour": [
           {
            "colorbar": {
             "outlinewidth": 0,
             "ticks": ""
            },
            "colorscale": [
             [
              0,
              "#0d0887"
             ],
             [
              0.1111111111111111,
              "#46039f"
             ],
             [
              0.2222222222222222,
              "#7201a8"
             ],
             [
              0.3333333333333333,
              "#9c179e"
             ],
             [
              0.4444444444444444,
              "#bd3786"
             ],
             [
              0.5555555555555556,
              "#d8576b"
             ],
             [
              0.6666666666666666,
              "#ed7953"
             ],
             [
              0.7777777777777778,
              "#fb9f3a"
             ],
             [
              0.8888888888888888,
              "#fdca26"
             ],
             [
              1,
              "#f0f921"
             ]
            ],
            "type": "contour"
           }
          ],
          "contourcarpet": [
           {
            "colorbar": {
             "outlinewidth": 0,
             "ticks": ""
            },
            "type": "contourcarpet"
           }
          ],
          "heatmap": [
           {
            "colorbar": {
             "outlinewidth": 0,
             "ticks": ""
            },
            "colorscale": [
             [
              0,
              "#0d0887"
             ],
             [
              0.1111111111111111,
              "#46039f"
             ],
             [
              0.2222222222222222,
              "#7201a8"
             ],
             [
              0.3333333333333333,
              "#9c179e"
             ],
             [
              0.4444444444444444,
              "#bd3786"
             ],
             [
              0.5555555555555556,
              "#d8576b"
             ],
             [
              0.6666666666666666,
              "#ed7953"
             ],
             [
              0.7777777777777778,
              "#fb9f3a"
             ],
             [
              0.8888888888888888,
              "#fdca26"
             ],
             [
              1,
              "#f0f921"
             ]
            ],
            "type": "heatmap"
           }
          ],
          "histogram": [
           {
            "marker": {
             "pattern": {
              "fillmode": "overlay",
              "size": 10,
              "solidity": 0.2
             }
            },
            "type": "histogram"
           }
          ],
          "histogram2d": [
           {
            "colorbar": {
             "outlinewidth": 0,
             "ticks": ""
            },
            "colorscale": [
             [
              0,
              "#0d0887"
             ],
             [
              0.1111111111111111,
              "#46039f"
             ],
             [
              0.2222222222222222,
              "#7201a8"
             ],
             [
              0.3333333333333333,
              "#9c179e"
             ],
             [
              0.4444444444444444,
              "#bd3786"
             ],
             [
              0.5555555555555556,
              "#d8576b"
             ],
             [
              0.6666666666666666,
              "#ed7953"
             ],
             [
              0.7777777777777778,
              "#fb9f3a"
             ],
             [
              0.8888888888888888,
              "#fdca26"
             ],
             [
              1,
              "#f0f921"
             ]
            ],
            "type": "histogram2d"
           }
          ],
          "histogram2dcontour": [
           {
            "colorbar": {
             "outlinewidth": 0,
             "ticks": ""
            },
            "colorscale": [
             [
              0,
              "#0d0887"
             ],
             [
              0.1111111111111111,
              "#46039f"
             ],
             [
              0.2222222222222222,
              "#7201a8"
             ],
             [
              0.3333333333333333,
              "#9c179e"
             ],
             [
              0.4444444444444444,
              "#bd3786"
             ],
             [
              0.5555555555555556,
              "#d8576b"
             ],
             [
              0.6666666666666666,
              "#ed7953"
             ],
             [
              0.7777777777777778,
              "#fb9f3a"
             ],
             [
              0.8888888888888888,
              "#fdca26"
             ],
             [
              1,
              "#f0f921"
             ]
            ],
            "type": "histogram2dcontour"
           }
          ],
          "mesh3d": [
           {
            "colorbar": {
             "outlinewidth": 0,
             "ticks": ""
            },
            "type": "mesh3d"
           }
          ],
          "parcoords": [
           {
            "line": {
             "colorbar": {
              "outlinewidth": 0,
              "ticks": ""
             }
            },
            "type": "parcoords"
           }
          ],
          "pie": [
           {
            "automargin": true,
            "type": "pie"
           }
          ],
          "scatter": [
           {
            "fillpattern": {
             "fillmode": "overlay",
             "size": 10,
             "solidity": 0.2
            },
            "type": "scatter"
           }
          ],
          "scatter3d": [
           {
            "line": {
             "colorbar": {
              "outlinewidth": 0,
              "ticks": ""
             }
            },
            "marker": {
             "colorbar": {
              "outlinewidth": 0,
              "ticks": ""
             }
            },
            "type": "scatter3d"
           }
          ],
          "scattercarpet": [
           {
            "marker": {
             "colorbar": {
              "outlinewidth": 0,
              "ticks": ""
             }
            },
            "type": "scattercarpet"
           }
          ],
          "scattergeo": [
           {
            "marker": {
             "colorbar": {
              "outlinewidth": 0,
              "ticks": ""
             }
            },
            "type": "scattergeo"
           }
          ],
          "scattergl": [
           {
            "marker": {
             "colorbar": {
              "outlinewidth": 0,
              "ticks": ""
             }
            },
            "type": "scattergl"
           }
          ],
          "scattermap": [
           {
            "marker": {
             "colorbar": {
              "outlinewidth": 0,
              "ticks": ""
             }
            },
            "type": "scattermap"
           }
          ],
          "scattermapbox": [
           {
            "marker": {
             "colorbar": {
              "outlinewidth": 0,
              "ticks": ""
             }
            },
            "type": "scattermapbox"
           }
          ],
          "scatterpolar": [
           {
            "marker": {
             "colorbar": {
              "outlinewidth": 0,
              "ticks": ""
             }
            },
            "type": "scatterpolar"
           }
          ],
          "scatterpolargl": [
           {
            "marker": {
             "colorbar": {
              "outlinewidth": 0,
              "ticks": ""
             }
            },
            "type": "scatterpolargl"
           }
          ],
          "scatterternary": [
           {
            "marker": {
             "colorbar": {
              "outlinewidth": 0,
              "ticks": ""
             }
            },
            "type": "scatterternary"
           }
          ],
          "surface": [
           {
            "colorbar": {
             "outlinewidth": 0,
             "ticks": ""
            },
            "colorscale": [
             [
              0,
              "#0d0887"
             ],
             [
              0.1111111111111111,
              "#46039f"
             ],
             [
              0.2222222222222222,
              "#7201a8"
             ],
             [
              0.3333333333333333,
              "#9c179e"
             ],
             [
              0.4444444444444444,
              "#bd3786"
             ],
             [
              0.5555555555555556,
              "#d8576b"
             ],
             [
              0.6666666666666666,
              "#ed7953"
             ],
             [
              0.7777777777777778,
              "#fb9f3a"
             ],
             [
              0.8888888888888888,
              "#fdca26"
             ],
             [
              1,
              "#f0f921"
             ]
            ],
            "type": "surface"
           }
          ],
          "table": [
           {
            "cells": {
             "fill": {
              "color": "#EBF0F8"
             },
             "line": {
              "color": "white"
             }
            },
            "header": {
             "fill": {
              "color": "#C8D4E3"
             },
             "line": {
              "color": "white"
             }
            },
            "type": "table"
           }
          ]
         },
         "layout": {
          "annotationdefaults": {
           "arrowcolor": "#2a3f5f",
           "arrowhead": 0,
           "arrowwidth": 1
          },
          "autotypenumbers": "strict",
          "coloraxis": {
           "colorbar": {
            "outlinewidth": 0,
            "ticks": ""
           }
          },
          "colorscale": {
           "diverging": [
            [
             0,
             "#8e0152"
            ],
            [
             0.1,
             "#c51b7d"
            ],
            [
             0.2,
             "#de77ae"
            ],
            [
             0.3,
             "#f1b6da"
            ],
            [
             0.4,
             "#fde0ef"
            ],
            [
             0.5,
             "#f7f7f7"
            ],
            [
             0.6,
             "#e6f5d0"
            ],
            [
             0.7,
             "#b8e186"
            ],
            [
             0.8,
             "#7fbc41"
            ],
            [
             0.9,
             "#4d9221"
            ],
            [
             1,
             "#276419"
            ]
           ],
           "sequential": [
            [
             0,
             "#0d0887"
            ],
            [
             0.1111111111111111,
             "#46039f"
            ],
            [
             0.2222222222222222,
             "#7201a8"
            ],
            [
             0.3333333333333333,
             "#9c179e"
            ],
            [
             0.4444444444444444,
             "#bd3786"
            ],
            [
             0.5555555555555556,
             "#d8576b"
            ],
            [
             0.6666666666666666,
             "#ed7953"
            ],
            [
             0.7777777777777778,
             "#fb9f3a"
            ],
            [
             0.8888888888888888,
             "#fdca26"
            ],
            [
             1,
             "#f0f921"
            ]
           ],
           "sequentialminus": [
            [
             0,
             "#0d0887"
            ],
            [
             0.1111111111111111,
             "#46039f"
            ],
            [
             0.2222222222222222,
             "#7201a8"
            ],
            [
             0.3333333333333333,
             "#9c179e"
            ],
            [
             0.4444444444444444,
             "#bd3786"
            ],
            [
             0.5555555555555556,
             "#d8576b"
            ],
            [
             0.6666666666666666,
             "#ed7953"
            ],
            [
             0.7777777777777778,
             "#fb9f3a"
            ],
            [
             0.8888888888888888,
             "#fdca26"
            ],
            [
             1,
             "#f0f921"
            ]
           ]
          },
          "colorway": [
           "#636efa",
           "#EF553B",
           "#00cc96",
           "#ab63fa",
           "#FFA15A",
           "#19d3f3",
           "#FF6692",
           "#B6E880",
           "#FF97FF",
           "#FECB52"
          ],
          "font": {
           "color": "#2a3f5f"
          },
          "geo": {
           "bgcolor": "white",
           "lakecolor": "white",
           "landcolor": "#E5ECF6",
           "showlakes": true,
           "showland": true,
           "subunitcolor": "white"
          },
          "hoverlabel": {
           "align": "left"
          },
          "hovermode": "closest",
          "mapbox": {
           "style": "light"
          },
          "paper_bgcolor": "white",
          "plot_bgcolor": "#E5ECF6",
          "polar": {
           "angularaxis": {
            "gridcolor": "white",
            "linecolor": "white",
            "ticks": ""
           },
           "bgcolor": "#E5ECF6",
           "radialaxis": {
            "gridcolor": "white",
            "linecolor": "white",
            "ticks": ""
           }
          },
          "scene": {
           "xaxis": {
            "backgroundcolor": "#E5ECF6",
            "gridcolor": "white",
            "gridwidth": 2,
            "linecolor": "white",
            "showbackground": true,
            "ticks": "",
            "zerolinecolor": "white"
           },
           "yaxis": {
            "backgroundcolor": "#E5ECF6",
            "gridcolor": "white",
            "gridwidth": 2,
            "linecolor": "white",
            "showbackground": true,
            "ticks": "",
            "zerolinecolor": "white"
           },
           "zaxis": {
            "backgroundcolor": "#E5ECF6",
            "gridcolor": "white",
            "gridwidth": 2,
            "linecolor": "white",
            "showbackground": true,
            "ticks": "",
            "zerolinecolor": "white"
           }
          },
          "shapedefaults": {
           "line": {
            "color": "#2a3f5f"
           }
          },
          "ternary": {
           "aaxis": {
            "gridcolor": "white",
            "linecolor": "white",
            "ticks": ""
           },
           "baxis": {
            "gridcolor": "white",
            "linecolor": "white",
            "ticks": ""
           },
           "bgcolor": "#E5ECF6",
           "caxis": {
            "gridcolor": "white",
            "linecolor": "white",
            "ticks": ""
           }
          },
          "title": {
           "x": 0.05
          },
          "xaxis": {
           "automargin": true,
           "gridcolor": "white",
           "linecolor": "white",
           "ticks": "",
           "title": {
            "standoff": 15
           },
           "zerolinecolor": "white",
           "zerolinewidth": 2
          },
          "yaxis": {
           "automargin": true,
           "gridcolor": "white",
           "linecolor": "white",
           "ticks": "",
           "title": {
            "standoff": 15
           },
           "zerolinecolor": "white",
           "zerolinewidth": 2
          }
         }
        },
        "xaxis": {
         "title": {
          "text": "λ [nm]"
         }
        },
        "yaxis": {
         "range": [
          0,
          2
         ],
         "title": {
          "text": "Cmid"
         }
        }
       }
      }
     },
     "metadata": {},
     "output_type": "display_data"
    }
   ],
   "source": [
    "# Extract Cmid and its error\n",
    "Cmid_values = fit_df['Cmid']\n",
    "Cmid_errors = fit_df['Cmid_err']\n",
    "\n",
    "# Compute mean and standard error of the mean\n",
    "weights = 1/Cmid_errors**2\n",
    "mean_Cmid = np.average(Cmid_values, weights=weights)\n",
    "mean_Cmid_err = np.sqrt(np.sum(weights*((Cmid_values-mean_Cmid)**2))/np.sum(weights))\n",
    "\n",
    "\n",
    "\n",
    "fig = go.Figure()\n",
    "\n",
    "# markers\n",
    "fig.add_trace(go.Scatter(\n",
    "    x=fit_df['λ'],\n",
    "    y=Cmid_values,\n",
    "    error_y=dict(type='data', array=Cmid_errors, visible=True),\n",
    "    mode='markers',\n",
    "    name='Cmid'\n",
    "))\n",
    "\n",
    "mean_line_points = np.concatenate([[219],fit_df['λ'],[231]])\n",
    "# mean dashed line\n",
    "fig.add_trace(go.Scatter(\n",
    "    x= mean_line_points,\n",
    "    y=[mean_Cmid]*len(mean_line_points),\n",
    "    mode='lines',\n",
    "    line=dict(color='red', dash='dash'),\n",
    "    name='Mean Cmid'\n",
    "))\n",
    "\n",
    "# bottom\n",
    "fig.add_trace(go.Scatter(\n",
    "    x=mean_line_points,\n",
    "    y=[mean_Cmid - mean_Cmid_err]*len(mean_line_points),\n",
    "    mode='lines',\n",
    "    line=dict(color='red', width=0),\n",
    "    showlegend=False\n",
    "))\n",
    "#top\n",
    "fig.add_trace(go.Scatter(\n",
    "    x=mean_line_points,\n",
    "    y=[mean_Cmid + mean_Cmid_err]*len(mean_line_points),\n",
    "    mode='lines',\n",
    "    fill='tonexty',\n",
    "    fillcolor='rgba(255,0,0,0.2)',\n",
    "    line=dict(color='red', width=0),\n",
    "    name='Mean ± SEM'\n",
    "))\n",
    "\n",
    "fig.update_layout(\n",
    "    xaxis_title='λ [nm]',\n",
    "    yaxis_title='Cmid',\n",
    "    # title='Cmid vs λ with Mean and SEM',\n",
    "    legend_title='Legend',\n",
    "    yaxis=dict(range=[0, 2]),\n",
    "    legend=dict(\n",
    "        x=1,\n",
    "        y=1,\n",
    "        xanchor='right',\n",
    "        yanchor='top'\n",
    "    )\n",
    ")\n",
    "\n",
    "fig.show()"
   ]
  },
  {
   "cell_type": "code",
   "execution_count": 33,
   "id": "7fe6c783",
   "metadata": {},
   "outputs": [
    {
     "data": {
      "application/vnd.plotly.v1+json": {
       "config": {
        "plotlyServerURL": "https://plot.ly"
       },
       "data": [
        {
         "error_y": {
          "array": {
           "bdata": "3p9U7nbud0BQQCoWDuuCQBeXjIJ1b3ZAgSHctu1OeEDMRc/9yaV5QAlKKpaT+n1AM7Ej9HgOdECL0Clry11xQA==",
           "dtype": "f8"
          },
          "type": "data",
          "visible": true
         },
         "mode": "markers",
         "name": "m",
         "type": "scatter",
         "x": {
          "bdata": "4wDiAOEA4ADfAN4A3QDcAA==",
          "dtype": "i2"
         },
         "y": {
          "bdata": "StaYRfN5okDSYDOSaOiiQDGNnYZNP51AS41DJCNmn0CM8yIoBtGdQIbhwic6XqJAvPD5uqd5nUCgQ+eq4byiQA==",
          "dtype": "f8"
         }
        },
        {
         "line": {
          "color": "red",
          "dash": "dash"
         },
         "mode": "lines",
         "name": "Mean m",
         "type": "scatter",
         "x": {
          "bdata": "2wDjAOIA4QDgAN8A3gDdANwA5AA=",
          "dtype": "i2"
         },
         "y": [
          2136.160364937522,
          2136.160364937522,
          2136.160364937522,
          2136.160364937522,
          2136.160364937522,
          2136.160364937522,
          2136.160364937522,
          2136.160364937522,
          2136.160364937522,
          2136.160364937522
         ]
        },
        {
         "line": {
          "color": "red",
          "width": 0
         },
         "mode": "lines",
         "showlegend": false,
         "type": "scatter",
         "x": {
          "bdata": "2wDjAOIA4QDgAN8A3gDdANwA5AA=",
          "dtype": "i2"
         },
         "y": [
          1897.7836780111716,
          1897.7836780111716,
          1897.7836780111716,
          1897.7836780111716,
          1897.7836780111716,
          1897.7836780111716,
          1897.7836780111716,
          1897.7836780111716,
          1897.7836780111716,
          1897.7836780111716
         ]
        },
        {
         "fill": "tonexty",
         "fillcolor": "rgba(255,0,0,0.2)",
         "line": {
          "color": "red",
          "width": 0
         },
         "mode": "lines",
         "name": "Mean ± SEM",
         "type": "scatter",
         "x": {
          "bdata": "2wDjAOIA4QDgAN8A3gDdANwA5AA=",
          "dtype": "i2"
         },
         "y": [
          2374.5370518638724,
          2374.5370518638724,
          2374.5370518638724,
          2374.5370518638724,
          2374.5370518638724,
          2374.5370518638724,
          2374.5370518638724,
          2374.5370518638724,
          2374.5370518638724,
          2374.5370518638724
         ]
        }
       ],
       "layout": {
        "legend": {
         "title": {
          "text": "Legend"
         },
         "x": 1,
         "xanchor": "right",
         "y": 1,
         "yanchor": "top"
        },
        "template": {
         "data": {
          "bar": [
           {
            "error_x": {
             "color": "#2a3f5f"
            },
            "error_y": {
             "color": "#2a3f5f"
            },
            "marker": {
             "line": {
              "color": "#E5ECF6",
              "width": 0.5
             },
             "pattern": {
              "fillmode": "overlay",
              "size": 10,
              "solidity": 0.2
             }
            },
            "type": "bar"
           }
          ],
          "barpolar": [
           {
            "marker": {
             "line": {
              "color": "#E5ECF6",
              "width": 0.5
             },
             "pattern": {
              "fillmode": "overlay",
              "size": 10,
              "solidity": 0.2
             }
            },
            "type": "barpolar"
           }
          ],
          "carpet": [
           {
            "aaxis": {
             "endlinecolor": "#2a3f5f",
             "gridcolor": "white",
             "linecolor": "white",
             "minorgridcolor": "white",
             "startlinecolor": "#2a3f5f"
            },
            "baxis": {
             "endlinecolor": "#2a3f5f",
             "gridcolor": "white",
             "linecolor": "white",
             "minorgridcolor": "white",
             "startlinecolor": "#2a3f5f"
            },
            "type": "carpet"
           }
          ],
          "choropleth": [
           {
            "colorbar": {
             "outlinewidth": 0,
             "ticks": ""
            },
            "type": "choropleth"
           }
          ],
          "contour": [
           {
            "colorbar": {
             "outlinewidth": 0,
             "ticks": ""
            },
            "colorscale": [
             [
              0,
              "#0d0887"
             ],
             [
              0.1111111111111111,
              "#46039f"
             ],
             [
              0.2222222222222222,
              "#7201a8"
             ],
             [
              0.3333333333333333,
              "#9c179e"
             ],
             [
              0.4444444444444444,
              "#bd3786"
             ],
             [
              0.5555555555555556,
              "#d8576b"
             ],
             [
              0.6666666666666666,
              "#ed7953"
             ],
             [
              0.7777777777777778,
              "#fb9f3a"
             ],
             [
              0.8888888888888888,
              "#fdca26"
             ],
             [
              1,
              "#f0f921"
             ]
            ],
            "type": "contour"
           }
          ],
          "contourcarpet": [
           {
            "colorbar": {
             "outlinewidth": 0,
             "ticks": ""
            },
            "type": "contourcarpet"
           }
          ],
          "heatmap": [
           {
            "colorbar": {
             "outlinewidth": 0,
             "ticks": ""
            },
            "colorscale": [
             [
              0,
              "#0d0887"
             ],
             [
              0.1111111111111111,
              "#46039f"
             ],
             [
              0.2222222222222222,
              "#7201a8"
             ],
             [
              0.3333333333333333,
              "#9c179e"
             ],
             [
              0.4444444444444444,
              "#bd3786"
             ],
             [
              0.5555555555555556,
              "#d8576b"
             ],
             [
              0.6666666666666666,
              "#ed7953"
             ],
             [
              0.7777777777777778,
              "#fb9f3a"
             ],
             [
              0.8888888888888888,
              "#fdca26"
             ],
             [
              1,
              "#f0f921"
             ]
            ],
            "type": "heatmap"
           }
          ],
          "histogram": [
           {
            "marker": {
             "pattern": {
              "fillmode": "overlay",
              "size": 10,
              "solidity": 0.2
             }
            },
            "type": "histogram"
           }
          ],
          "histogram2d": [
           {
            "colorbar": {
             "outlinewidth": 0,
             "ticks": ""
            },
            "colorscale": [
             [
              0,
              "#0d0887"
             ],
             [
              0.1111111111111111,
              "#46039f"
             ],
             [
              0.2222222222222222,
              "#7201a8"
             ],
             [
              0.3333333333333333,
              "#9c179e"
             ],
             [
              0.4444444444444444,
              "#bd3786"
             ],
             [
              0.5555555555555556,
              "#d8576b"
             ],
             [
              0.6666666666666666,
              "#ed7953"
             ],
             [
              0.7777777777777778,
              "#fb9f3a"
             ],
             [
              0.8888888888888888,
              "#fdca26"
             ],
             [
              1,
              "#f0f921"
             ]
            ],
            "type": "histogram2d"
           }
          ],
          "histogram2dcontour": [
           {
            "colorbar": {
             "outlinewidth": 0,
             "ticks": ""
            },
            "colorscale": [
             [
              0,
              "#0d0887"
             ],
             [
              0.1111111111111111,
              "#46039f"
             ],
             [
              0.2222222222222222,
              "#7201a8"
             ],
             [
              0.3333333333333333,
              "#9c179e"
             ],
             [
              0.4444444444444444,
              "#bd3786"
             ],
             [
              0.5555555555555556,
              "#d8576b"
             ],
             [
              0.6666666666666666,
              "#ed7953"
             ],
             [
              0.7777777777777778,
              "#fb9f3a"
             ],
             [
              0.8888888888888888,
              "#fdca26"
             ],
             [
              1,
              "#f0f921"
             ]
            ],
            "type": "histogram2dcontour"
           }
          ],
          "mesh3d": [
           {
            "colorbar": {
             "outlinewidth": 0,
             "ticks": ""
            },
            "type": "mesh3d"
           }
          ],
          "parcoords": [
           {
            "line": {
             "colorbar": {
              "outlinewidth": 0,
              "ticks": ""
             }
            },
            "type": "parcoords"
           }
          ],
          "pie": [
           {
            "automargin": true,
            "type": "pie"
           }
          ],
          "scatter": [
           {
            "fillpattern": {
             "fillmode": "overlay",
             "size": 10,
             "solidity": 0.2
            },
            "type": "scatter"
           }
          ],
          "scatter3d": [
           {
            "line": {
             "colorbar": {
              "outlinewidth": 0,
              "ticks": ""
             }
            },
            "marker": {
             "colorbar": {
              "outlinewidth": 0,
              "ticks": ""
             }
            },
            "type": "scatter3d"
           }
          ],
          "scattercarpet": [
           {
            "marker": {
             "colorbar": {
              "outlinewidth": 0,
              "ticks": ""
             }
            },
            "type": "scattercarpet"
           }
          ],
          "scattergeo": [
           {
            "marker": {
             "colorbar": {
              "outlinewidth": 0,
              "ticks": ""
             }
            },
            "type": "scattergeo"
           }
          ],
          "scattergl": [
           {
            "marker": {
             "colorbar": {
              "outlinewidth": 0,
              "ticks": ""
             }
            },
            "type": "scattergl"
           }
          ],
          "scattermap": [
           {
            "marker": {
             "colorbar": {
              "outlinewidth": 0,
              "ticks": ""
             }
            },
            "type": "scattermap"
           }
          ],
          "scattermapbox": [
           {
            "marker": {
             "colorbar": {
              "outlinewidth": 0,
              "ticks": ""
             }
            },
            "type": "scattermapbox"
           }
          ],
          "scatterpolar": [
           {
            "marker": {
             "colorbar": {
              "outlinewidth": 0,
              "ticks": ""
             }
            },
            "type": "scatterpolar"
           }
          ],
          "scatterpolargl": [
           {
            "marker": {
             "colorbar": {
              "outlinewidth": 0,
              "ticks": ""
             }
            },
            "type": "scatterpolargl"
           }
          ],
          "scatterternary": [
           {
            "marker": {
             "colorbar": {
              "outlinewidth": 0,
              "ticks": ""
             }
            },
            "type": "scatterternary"
           }
          ],
          "surface": [
           {
            "colorbar": {
             "outlinewidth": 0,
             "ticks": ""
            },
            "colorscale": [
             [
              0,
              "#0d0887"
             ],
             [
              0.1111111111111111,
              "#46039f"
             ],
             [
              0.2222222222222222,
              "#7201a8"
             ],
             [
              0.3333333333333333,
              "#9c179e"
             ],
             [
              0.4444444444444444,
              "#bd3786"
             ],
             [
              0.5555555555555556,
              "#d8576b"
             ],
             [
              0.6666666666666666,
              "#ed7953"
             ],
             [
              0.7777777777777778,
              "#fb9f3a"
             ],
             [
              0.8888888888888888,
              "#fdca26"
             ],
             [
              1,
              "#f0f921"
             ]
            ],
            "type": "surface"
           }
          ],
          "table": [
           {
            "cells": {
             "fill": {
              "color": "#EBF0F8"
             },
             "line": {
              "color": "white"
             }
            },
            "header": {
             "fill": {
              "color": "#C8D4E3"
             },
             "line": {
              "color": "white"
             }
            },
            "type": "table"
           }
          ]
         },
         "layout": {
          "annotationdefaults": {
           "arrowcolor": "#2a3f5f",
           "arrowhead": 0,
           "arrowwidth": 1
          },
          "autotypenumbers": "strict",
          "coloraxis": {
           "colorbar": {
            "outlinewidth": 0,
            "ticks": ""
           }
          },
          "colorscale": {
           "diverging": [
            [
             0,
             "#8e0152"
            ],
            [
             0.1,
             "#c51b7d"
            ],
            [
             0.2,
             "#de77ae"
            ],
            [
             0.3,
             "#f1b6da"
            ],
            [
             0.4,
             "#fde0ef"
            ],
            [
             0.5,
             "#f7f7f7"
            ],
            [
             0.6,
             "#e6f5d0"
            ],
            [
             0.7,
             "#b8e186"
            ],
            [
             0.8,
             "#7fbc41"
            ],
            [
             0.9,
             "#4d9221"
            ],
            [
             1,
             "#276419"
            ]
           ],
           "sequential": [
            [
             0,
             "#0d0887"
            ],
            [
             0.1111111111111111,
             "#46039f"
            ],
            [
             0.2222222222222222,
             "#7201a8"
            ],
            [
             0.3333333333333333,
             "#9c179e"
            ],
            [
             0.4444444444444444,
             "#bd3786"
            ],
            [
             0.5555555555555556,
             "#d8576b"
            ],
            [
             0.6666666666666666,
             "#ed7953"
            ],
            [
             0.7777777777777778,
             "#fb9f3a"
            ],
            [
             0.8888888888888888,
             "#fdca26"
            ],
            [
             1,
             "#f0f921"
            ]
           ],
           "sequentialminus": [
            [
             0,
             "#0d0887"
            ],
            [
             0.1111111111111111,
             "#46039f"
            ],
            [
             0.2222222222222222,
             "#7201a8"
            ],
            [
             0.3333333333333333,
             "#9c179e"
            ],
            [
             0.4444444444444444,
             "#bd3786"
            ],
            [
             0.5555555555555556,
             "#d8576b"
            ],
            [
             0.6666666666666666,
             "#ed7953"
            ],
            [
             0.7777777777777778,
             "#fb9f3a"
            ],
            [
             0.8888888888888888,
             "#fdca26"
            ],
            [
             1,
             "#f0f921"
            ]
           ]
          },
          "colorway": [
           "#636efa",
           "#EF553B",
           "#00cc96",
           "#ab63fa",
           "#FFA15A",
           "#19d3f3",
           "#FF6692",
           "#B6E880",
           "#FF97FF",
           "#FECB52"
          ],
          "font": {
           "color": "#2a3f5f"
          },
          "geo": {
           "bgcolor": "white",
           "lakecolor": "white",
           "landcolor": "#E5ECF6",
           "showlakes": true,
           "showland": true,
           "subunitcolor": "white"
          },
          "hoverlabel": {
           "align": "left"
          },
          "hovermode": "closest",
          "mapbox": {
           "style": "light"
          },
          "paper_bgcolor": "white",
          "plot_bgcolor": "#E5ECF6",
          "polar": {
           "angularaxis": {
            "gridcolor": "white",
            "linecolor": "white",
            "ticks": ""
           },
           "bgcolor": "#E5ECF6",
           "radialaxis": {
            "gridcolor": "white",
            "linecolor": "white",
            "ticks": ""
           }
          },
          "scene": {
           "xaxis": {
            "backgroundcolor": "#E5ECF6",
            "gridcolor": "white",
            "gridwidth": 2,
            "linecolor": "white",
            "showbackground": true,
            "ticks": "",
            "zerolinecolor": "white"
           },
           "yaxis": {
            "backgroundcolor": "#E5ECF6",
            "gridcolor": "white",
            "gridwidth": 2,
            "linecolor": "white",
            "showbackground": true,
            "ticks": "",
            "zerolinecolor": "white"
           },
           "zaxis": {
            "backgroundcolor": "#E5ECF6",
            "gridcolor": "white",
            "gridwidth": 2,
            "linecolor": "white",
            "showbackground": true,
            "ticks": "",
            "zerolinecolor": "white"
           }
          },
          "shapedefaults": {
           "line": {
            "color": "#2a3f5f"
           }
          },
          "ternary": {
           "aaxis": {
            "gridcolor": "white",
            "linecolor": "white",
            "ticks": ""
           },
           "baxis": {
            "gridcolor": "white",
            "linecolor": "white",
            "ticks": ""
           },
           "bgcolor": "#E5ECF6",
           "caxis": {
            "gridcolor": "white",
            "linecolor": "white",
            "ticks": ""
           }
          },
          "title": {
           "x": 0.05
          },
          "xaxis": {
           "automargin": true,
           "gridcolor": "white",
           "linecolor": "white",
           "ticks": "",
           "title": {
            "standoff": 15
           },
           "zerolinecolor": "white",
           "zerolinewidth": 2
          },
          "yaxis": {
           "automargin": true,
           "gridcolor": "white",
           "linecolor": "white",
           "ticks": "",
           "title": {
            "standoff": 15
           },
           "zerolinecolor": "white",
           "zerolinewidth": 2
          }
         }
        },
        "xaxis": {
         "title": {
          "text": "λ [nm]"
         }
        },
        "yaxis": {
         "range": [
          0,
          5000
         ],
         "title": {
          "text": "m"
         }
        }
       }
      }
     },
     "metadata": {},
     "output_type": "display_data"
    }
   ],
   "source": [
    "# Extract m and its error\n",
    "m_values = fit_df['m']\n",
    "m_errors = fit_df['m_err']\n",
    "\n",
    "# Compute mean and standard error of the mean\n",
    "weights_m = 1 / m_errors**2\n",
    "mean_m = np.average(m_values, weights=weights_m)\n",
    "mean_m_err = np.sqrt(np.sum(weights_m * ((m_values - mean_m) ** 2)) / np.sum(weights_m))\n",
    "\n",
    "fig = go.Figure()\n",
    "\n",
    "# markers with error bars\n",
    "fig.add_trace(go.Scatter(\n",
    "    x=fit_df['λ'],\n",
    "    y=m_values,\n",
    "    error_y=dict(type='data', array=m_errors, visible=True),\n",
    "    mode='markers',\n",
    "    name='m'\n",
    "))\n",
    "\n",
    "mean_line_points = np.concatenate([[λmin-1], fit_df['λ'], [λmax+1]])\n",
    "# mean dashed line\n",
    "fig.add_trace(go.Scatter(\n",
    "    x=mean_line_points,\n",
    "    y=[mean_m]*len(mean_line_points),\n",
    "    mode='lines',\n",
    "    line=dict(color='red', dash='dash'),\n",
    "    name='Mean m'\n",
    "))\n",
    "\n",
    "# bottom\n",
    "fig.add_trace(go.Scatter(\n",
    "    x=mean_line_points,\n",
    "    y=[mean_m - mean_m_err]*len(mean_line_points),\n",
    "    mode='lines',\n",
    "    line=dict(color='red', width=0),\n",
    "    showlegend=False\n",
    "))\n",
    "# top\n",
    "fig.add_trace(go.Scatter(\n",
    "    x=mean_line_points,\n",
    "    y=[mean_m + mean_m_err]*len(mean_line_points),\n",
    "    mode='lines',\n",
    "    fill='tonexty',\n",
    "    fillcolor='rgba(255,0,0,0.2)',\n",
    "    line=dict(color='red', width=0),\n",
    "    name='Mean ± SEM'\n",
    "))\n",
    "\n",
    "fig.update_layout(\n",
    "    xaxis_title='λ [nm]',\n",
    "    yaxis_title='m',\n",
    "    legend_title='Legend',\n",
    "    yaxis=dict(range=[0, 5000]),\n",
    "    legend=dict(\n",
    "        x=1,\n",
    "        y=1,\n",
    "        xanchor='right',\n",
    "        yanchor='top'\n",
    "    )\n",
    ")\n",
    "\n",
    "fig.show()\n"
   ]
  },
  {
   "cell_type": "code",
   "execution_count": 35,
   "id": "bd2b45ed",
   "metadata": {},
   "outputs": [
    {
     "name": "stdout",
     "output_type": "stream",
     "text": [
      "Cmid:  3.4104 ± 0.2648 M\n",
      "m:  2136.16 ± 238.38 LJ/mol2\n",
      "ΔG:  8180 ± 1112 J/mol\n"
     ]
    }
   ],
   "source": [
    "# stampa medie\n",
    "\n",
    "# print(\"Media pesata di Cmid:\", mean_Cmid)\n",
    "# print(\"Errore sulla media pesata di Cmid:\", mean_Cmid_err)\n",
    "# print(\"Media pesata di m:\", mean_A)\n",
    "# print(\"Errore sulla media pesata di m:\", mean_A_err)\n",
    "\n",
    "print('Cmid: ',final_val(mean_Cmid,mean_Cmid_err,4,udm='M'))\n",
    "print('m: ', final_val(mean_m,mean_m_err, udm='LJ/mol2'))\n",
    "\n",
    "ΔG = m * mean_Cmid\n",
    "sigmaΔG = ΔG*np.sqrt((mean_m_err/mean_m)**2 + (mean_Cmid_err/mean_Cmid)**2)\n",
    "\n",
    "print('ΔG: ',final_val(ΔG,sigmaΔG,decimals=0,udm='J/mol'))"
   ]
  }
 ],
 "metadata": {
  "kernelspec": {
   "display_name": "Python 3",
   "language": "python",
   "name": "python3"
  },
  "language_info": {
   "codemirror_mode": {
    "name": "ipython",
    "version": 3
   },
   "file_extension": ".py",
   "mimetype": "text/x-python",
   "name": "python",
   "nbconvert_exporter": "python",
   "pygments_lexer": "ipython3",
   "version": "3.13.0"
  }
 },
 "nbformat": 4,
 "nbformat_minor": 5
}
