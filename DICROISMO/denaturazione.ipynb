{
 "cells": [
  {
   "cell_type": "code",
   "execution_count": 54,
   "id": "bf6f4978",
   "metadata": {},
   "outputs": [],
   "source": [
    "from matplotlib import pyplot as plt\n",
    "from scipy.optimize import curve_fit\n",
    "import numpy as np\n",
    "import pandas as pd\n",
    "import plotly.express as px\n",
    "import os\n",
    "import sys\n",
    "import plotly.graph_objects as go \n",
    "dir_path = os.path.abspath('')\n",
    "sys.path.append(dir_path + '/../')\n",
    "from labbiofisica import final_val"
   ]
  },
  {
   "cell_type": "code",
   "execution_count": 55,
   "id": "27a06352",
   "metadata": {},
   "outputs": [
    {
     "data": {
      "text/html": [
       "<div>\n",
       "<style scoped>\n",
       "    .dataframe tbody tr th:only-of-type {\n",
       "        vertical-align: middle;\n",
       "    }\n",
       "\n",
       "    .dataframe tbody tr th {\n",
       "        vertical-align: top;\n",
       "    }\n",
       "\n",
       "    .dataframe thead th {\n",
       "        text-align: right;\n",
       "    }\n",
       "</style>\n",
       "<table border=\"1\" class=\"dataframe\">\n",
       "  <thead>\n",
       "    <tr style=\"text-align: right;\">\n",
       "      <th></th>\n",
       "      <th>λ</th>\n",
       "      <th>C0</th>\n",
       "      <th>C1</th>\n",
       "      <th>C2</th>\n",
       "      <th>C3</th>\n",
       "      <th>C4</th>\n",
       "      <th>C5</th>\n",
       "    </tr>\n",
       "  </thead>\n",
       "  <tbody>\n",
       "    <tr>\n",
       "      <th>55</th>\n",
       "      <td>205</td>\n",
       "      <td>-0.02454</td>\n",
       "      <td>-0.02172</td>\n",
       "      <td>-0.02031</td>\n",
       "      <td>-0.02233</td>\n",
       "      <td>-0.01931</td>\n",
       "      <td>-0.01872</td>\n",
       "    </tr>\n",
       "    <tr>\n",
       "      <th>56</th>\n",
       "      <td>204</td>\n",
       "      <td>-0.02265</td>\n",
       "      <td>-0.01981</td>\n",
       "      <td>-0.02289</td>\n",
       "      <td>-0.02221</td>\n",
       "      <td>-0.02085</td>\n",
       "      <td>-0.01986</td>\n",
       "    </tr>\n",
       "    <tr>\n",
       "      <th>57</th>\n",
       "      <td>203</td>\n",
       "      <td>-0.02256</td>\n",
       "      <td>-0.01913</td>\n",
       "      <td>-0.02492</td>\n",
       "      <td>-0.02548</td>\n",
       "      <td>-0.01868</td>\n",
       "      <td>-0.02221</td>\n",
       "    </tr>\n",
       "    <tr>\n",
       "      <th>58</th>\n",
       "      <td>202</td>\n",
       "      <td>-0.02118</td>\n",
       "      <td>-0.02115</td>\n",
       "      <td>-0.02197</td>\n",
       "      <td>-0.02395</td>\n",
       "      <td>-0.02055</td>\n",
       "      <td>-0.02537</td>\n",
       "    </tr>\n",
       "    <tr>\n",
       "      <th>59</th>\n",
       "      <td>201</td>\n",
       "      <td>-0.01932</td>\n",
       "      <td>-0.02146</td>\n",
       "      <td>-0.02278</td>\n",
       "      <td>-0.01982</td>\n",
       "      <td>-0.02226</td>\n",
       "      <td>-0.02139</td>\n",
       "    </tr>\n",
       "  </tbody>\n",
       "</table>\n",
       "</div>"
      ],
      "text/plain": [
       "      λ       C0       C1       C2       C3       C4       C5\n",
       "55  205 -0.02454 -0.02172 -0.02031 -0.02233 -0.01931 -0.01872\n",
       "56  204 -0.02265 -0.01981 -0.02289 -0.02221 -0.02085 -0.01986\n",
       "57  203 -0.02256 -0.01913 -0.02492 -0.02548 -0.01868 -0.02221\n",
       "58  202 -0.02118 -0.02115 -0.02197 -0.02395 -0.02055 -0.02537\n",
       "59  201 -0.01932 -0.02146 -0.02278 -0.01982 -0.02226 -0.02139"
      ]
     },
     "execution_count": 55,
     "metadata": {},
     "output_type": "execute_result"
    }
   ],
   "source": [
    "path = dir_path+'/data/'\n",
    "\n",
    "spettriRAW = pd.DataFrame()\n",
    "for i in ['0','1','2','3','4','5']:\n",
    "    c = 'C' + i\n",
    "    data = pd.read_csv(path + c + '.dat',header = None, skiprows=1,sep='\\t')\n",
    "    \n",
    "    spettriRAW['λ'] = data.iloc[:, 0]\n",
    "    spettriRAW[c] = data.iloc[:,1]\n",
    "\n",
    "spettriRAW.tail()"
   ]
  },
  {
   "cell_type": "code",
   "execution_count": 56,
   "id": "5e426f37",
   "metadata": {},
   "outputs": [],
   "source": [
    "N = 162 #numero residui BLG\n",
    "l = 0.5 # lunghezza cammino ottico in cm\n",
    "R = 8.314 # J/(mol * K)\n",
    "T = 298.15 # K"
   ]
  },
  {
   "cell_type": "code",
   "execution_count": 57,
   "id": "15e0b7a6",
   "metadata": {},
   "outputs": [
    {
     "name": "stdout",
     "output_type": "stream",
     "text": [
      "Concentrazione GuHCl [M]:  [0.         1.52949946 3.09330147 4.66814848 6.13015    7.73593004]\n"
     ]
    }
   ],
   "source": [
    "# import concentrazioni* 1000000 #M\n",
    "\n",
    "concentrazioni = np.array([0,1.529499455,3.093301471,4.668148484,6.130150005,7.735930045]) # M\n",
    "\n",
    "concentrazioniBLG = np.array([4.05537E-06, 3.52052E-06, 3.58147E-06, 3.64439E-06, 3.66342E-06, 3.57871E-06]) # M\n",
    "\n",
    "print('Concentrazione GuHCl [M]: ',concentrazioni)"
   ]
  },
  {
   "cell_type": "code",
   "execution_count": 58,
   "id": "8bf8bad9",
   "metadata": {},
   "outputs": [
    {
     "data": {
      "application/vnd.plotly.v1+json": {
       "config": {
        "plotlyServerURL": "https://plot.ly"
       },
       "data": [
        {
         "mode": "lines",
         "name": "0.0",
         "type": "scatter",
         "x": {
          "bdata": "BAEDAQIBAQEAAf8A/gD9APwA+wD6APkA+AD3APYA9QD0APMA8gDxAPAA7wDuAO0A7ADrAOoA6QDoAOcA5gDlAOQA4wDiAOEA4ADfAN4A3QDcANsA2gDZANgA1wDWANUA1ADTANIA0QDQAM8AzgDNAMwAywDKAMkA",
          "dtype": "i2"
         },
         "y": {
          "bdata": "lPYGX5hMlb9R2ht8YTKVv8Iv9fOmIpW/5L1qZcIvlb9VE0TdByCVv/3ZjxSRYZW/4IRCBBxClb9NofMau0SVv3Noke18P5W//dmPFJFhlb+2hHzQs1mVv9cS8kHPZpW/qdkDrcCQlb/xLhfxnZiVv1oSoKaWrZW/oWez6nO1lb9F9dbAVgmWv4gRwqONI5a/Ykok0csolr/x9EpZhjiWv1Fmg0wycpa/Ap8fRgiPlr/YnlkSoKaWv6pla32R0Ja/8bp+wW7Ylr+7D0BqEyeXv8eA7PXuj5e/YtaLoZxol79JgJpattaXvxPVWwNbJZi/Tn/2I0VkmL9jYvNxbaiYvw9iZwqd15i/v5oDBHP0mL/+fcaFAyGZv8wLsI9OXZm/mpmZmZmZmb+qQ26GG/CZv+5fWWlSCpq/7iWN0Tqqmr8p0CfyJOmav2iz6nO1FZu/FLNeDOVEm799lufB3Vmbv8xdS8gHPZu/xOv6Bbthm78Us14M5USbv8Tr+gW7YZu/s0EmGTkLm7/RlnMpriqbv0YldQKaCJu/QuxMofMam79T0O0ljdGav1t8CoDxDJq/9gt2w7ZFmb/+fcaFAyGZv2+BBMWPMZe/mYHK+PcZl7/HLlG9NbCVv3+HokCfyJO/",
          "dtype": "f8"
         }
        },
        {
         "mode": "lines",
         "name": "1.53",
         "type": "scatter",
         "x": {
          "bdata": "BAEDAQIBAQEAAf8A/gD9APwA+wD6APkA+AD3APYA9QD0APMA8gDxAPAA7wDuAO0A7ADrAOoA6QDoAOcA5gDlAOQA4wDiAOEA4ADfAN4A3QDcANsA2gDZANgA1wDWANUA1ADTANIA0QDQAM8AzgDNAMwAywDKAMkA",
          "dtype": "i2"
         },
         "y": {
          "bdata": "9S1zuiwmlr+pnzcVqTCWvxv1EI3uIJa/QbyuX7Ablr8XvOgrSDOWv2aDTDJyFpa/G/UQje4glr9mg0wychaWv89m1edqK5a/G/UQje4glr+u2F92Tx6Wv9Of/UgRGZa/9S1zuiwmlr+E2JlC5zWWv4CfceFASJa/e2ZJgJpalr/Du1zEd2KWvwoRcAhVapa/c/T4vU1/lr9vu9Bcp5GWv7LXuz/eq5a/jBAebRyxlr+lLEMc6+KWv5mByvj3GZe/3J212y40l79enWNA9nqXvwZkr3d/vJe/KPIk6ZrJl7/6uDZUjPOXvxPVWwNbJZi/PZtVn6utmL9fKcsQx7qYv6JFtvP91Ji/JEVkWMUbmb8ofoy5awmZv7PviuB/K5m/hbacS3FVmb/pYP2fw3yZv921hHzQs5m/6SYxCKwcmr8k0csolluavxgmUwWjkpq/1QloImx4mr90XmOXqN6av/ZdEfxvJZu/dF5jl6jemr+ze/KwUGuav56Y9WIoJ5q/GCZTBaOSmr8DQ1a3ek6av+4ljdE6qpq/OWItPgXAmL9vu9Bcp5GWv8vz4O6s3Za/ObTIdr6far/LLa2GxD2Wv2L4iJgSSZS/Zmt9kdCWk79/2T15WKiVv7ZKsDic+ZW/",
          "dtype": "f8"
         }
        },
        {
         "mode": "lines",
         "name": "3.09",
         "type": "scatter",
         "x": {
          "bdata": "BAEDAQIBAQEAAf8A/gD9APwA+wD6APkA+AD3APYA9QD0APMA8gDxAPAA7wDuAO0A7ADrAOoA6QDoAOcA5gDlAOQA4wDiAOEA4ADfAN4A3QDcANsA2gDZANgA1wDWANUA1ADTANIA0QDQAM8AzgDNAMwAywDKAMkA",
          "dtype": "i2"
         },
         "y": {
          "bdata": "6IL6ljldlr/H9IQlHlCWv8f0hCUeUJa/oS3nUlxVlr8Sg8DKoUWWv+27IvjfSpa/yy2thsQ9lr8OSphp+1eWv+27IvjfSpa/e2ZJgJpalr/tuyL430qWvw5KmGn7V5a/e2ZJgJpalr84Sl6dY0CWvxKDwMqhRZa/UWaDTDJylr+d9L7xtWeWvyyf5Xlwd5a/J2a9GMqJlr8Cnx9GCI+Wv0n0Morllpa/9fOmIhXGlr/xun7BbtiWv5mByvj3GZe/d/NUh9wMl79JumbyzTaXv065wrtcxJe/H4DUJk7ul7/tDb4wmSqYv/q4NlSM85e/Z5sb0xOWmL9jYvNxbaiYvz2bVZ+rrZi/eEXwv5XsmL+7YduizAaZvyAMPPceLpm/7ZklAWpqmb/tmSUBamqZv7snDwu1ppm/6SYxCKwcmr8YYB+duvKZvz0nvW987Zm/ke18PzVemr+eXinLEMeav3SYLy/APpq/opdRLLe0mr9rYKsEi8OZv33Qs1n1uZq/v2A3bFuUmb/u68A5I0qbv07RkVz+Q5q/G/UQje4glr/gvg6cM6KUv5hp+1dWmpS/YviImBJJlL+yhSAHJcyUv6orn+V5cJe/MbYQ5KCEmb9z9Pi9TX+Wv/ryAuyjU5e/",
          "dtype": "f8"
         }
        },
        {
         "mode": "lines",
         "name": "4.67",
         "type": "scatter",
         "x": {
          "bdata": "BAEDAQIBAQEAAf8A/gD9APwA+wD6APkA+AD3APYA9QD0APMA8gDxAPAA7wDuAO0A7ADrAOoA6QDoAOcA5gDlAOQA4wDiAOEA4ADfAN4A3QDcANsA2gDZANgA1wDWANUA1ADTANIA0QDQAM8AzgDNAMwAywDKAMkA",
          "dtype": "i2"
         },
         "y": {
          "bdata": "w7tcxHdilr93LSEf9GyWv8O7XMR3Ypa/x/SEJR5Qlr8KEXAIVWqWv8O7XMR3Ypa/Vp+rrdhflr9RZoNMMnKWvwoRcAhVapa/ChFwCFVqlr8KEXAIVWqWv1afq63YX5a/LJ/leXB3lr8G2EenrnyWvyyf5Xlwd5a/BthHp658lr9NLVvri4SWv3P0+L1Nf5a/2J5ZEqCmlr/5LM+Du7OWv/ksz4O7s5a/y/Pg7qzdlr/L8+DurN2Wv2+BBMWPMZe/LGUZ4lgXl7/1udqK/WWXvxMPKJtyhZe/VisTfqmfl79OucK7XMSXv/q4NlSM85e/5ZttbkxPmL+A8Qwa+ieYv/63kh0bgZi/iSmRRC+jmL+zKVd4l4uYv1rwoq8gzZi/yAxUxr/PmL94RfC/leyYvw9iZwqd15i/Un5S7dPxmL/D0ytlGeKYv+EoeXWOAZm/ngyOklfnmL94CyQofoyZv0rSNZNvtpm/Sphp+1dWmr+JtfgUAOOZv69Cyk+qfZq/s7W+SGjLmb8P7s7abReav79gN2xblJm/YJM16iEajb/9wcBz7+GSv28vaYzWUZW/RbsKKT+plr/L8+DurN2Wv66ek943vpa/D+7O2m0Xmr/Y8PRKWYaYv88UOq+xS5S/",
          "dtype": "f8"
         }
        },
        {
         "mode": "lines",
         "name": "6.13",
         "type": "scatter",
         "x": {
          "bdata": "BAEDAQIBAQEAAf8A/gD9APwA+wD6APkA+AD3APYA9QD0APMA8gDxAPAA7wDuAO0A7ADrAOoA6QDoAOcA5gDlAOQA4wDiAOEA4ADfAN4A3QDcANsA2gDZANgA1wDWANUA1ADTANIA0QDQAM8AzgDNAMwAywDKAMkA",
          "dtype": "i2"
         },
         "y": {
          "bdata": "dy0hH/Rslr/kSdI1k2+Wvyyf5Xlwd5a/LJ/leXB3lr/kSdI1k2+WvwoRcAhVapa/5EnSNZNvlr+d9L7xtWeWv+RJ0jWTb5a/v4I0Y9F0lr+d9L7xtWeWv7+CNGPRdJa/4BCq1OyBlr9z9Pi9TX+Wv5m7lpAPepa/ukkMAiuHlr/c14FzRpSWv0n0Morllpa/thDkoISZlr+y17s/3quWvx/0bFZ9rpa/rp6T3je+lr9e1y/YDduWv6HzGrtE9Za/3J212y40l78CZVOu8C6XvxuBeF2/YJe/hGQBE7h1l7/xgLIpV3iXv5lH/mDguZe/Cp3X2CWql79BDkqYafuXv8dGIF7XL5i/7Q2+MJkqmL/DDfj8MEKYv8x/SL99HZi/6dSVz/I8mL/U8ZiByviXv51GWipvR5i/PZtVn6utmL9KRs7CnnaYv8x/SL99HZi/OWItPgXAmL9KDAIrhxaZv/59xoUDIZm/fH4YITzamL/YtiizQSaZv0oMAiuHFpm/Y2LzcW2omL9Hj9/b9GefvxkcJa/OMaC/NlmjHqLRjb+lFHR7SWOUv1Fmg0wycpa/WmQ730+Nl78Sa/EpAMaTv7aEfNCzWZW/N2xblNkgk7/sL7snDwuVv88sCVBTy5a/",
          "dtype": "f8"
         }
        },
        {
         "mode": "lines",
         "name": "7.74",
         "type": "scatter",
         "x": {
          "bdata": "BAEDAQIBAQEAAf8A/gD9APwA+wD6APkA+AD3APYA9QD0APMA8gDxAPAA7wDuAO0A7ADrAOoA6QDoAOcA5gDlAOQA4wDiAOEA4ADfAN4A3QDcANsA2gDZANgA1wDWANUA1ADTANIA0QDQAM8AzgDNAMwAywDKAMkA",
          "dtype": "i2"
         },
         "y": {
          "bdata": "LJ/leXB3lr8w2A3bFmWWvwoRcAhVapa/MNgN2xZllr93LSEf9GyWv+iC+pY5XZa/mbuWkA96lr8sn+V5cHeWv5m7lpAPepa/UWaDTDJylr9z9Pi9TX+Wv1Fmg0wycpa/TS1b64uElr9z9Pi9TX+Wv+AQqtTsgZa/4BCq1OyBlr8jLZW3I5yWvyMtlbcjnJa/Iy2VtyOclr9BguLHmLuWv7LXuz/eq5a/iNf1C3bDlr8TSfQyiuWWv+2BVmDI6pa/I/PIHww8l7+duvJZngeXvyPzyB8MPJe/6Q5iZwqdl7/l1TkGZK+Xvw/W/znMl5e/+rg2VIzzl7+IY13cRgOYv9gqweJw5pe/E9VbA1slmL+/1M+bilSYv0VHcvkP6Ze/Fw6EZAETmL+3nEtxVdmXv51GWipvR5i/Z9Xnaiv2l794f7xXrUyYv/63kh0bgZi/NSkF3V7SmL9nmxvTE5aYvzG2EOSghJm/PWGJB5RNmb+7Jw8LtaaZv5I/GHjuPZy/+grSjEXTmb+WsgxxrIurvx6KAn0iT6K/ZjGx+bg2lL8012mkpfKWv1OWIY51cZu/MEymCkYllb/s3R/vVSuTv4OG/gkuVpS/rp6T3je+lr9ftTLhl/qZv7qD2JlC55W/",
          "dtype": "f8"
         }
        }
       ],
       "layout": {
        "legend": {
         "title": {
          "text": "C denaturante [M]"
         },
         "x": 1,
         "xanchor": "right",
         "y": 0,
         "yanchor": "bottom"
        },
        "template": {
         "data": {
          "bar": [
           {
            "error_x": {
             "color": "#2a3f5f"
            },
            "error_y": {
             "color": "#2a3f5f"
            },
            "marker": {
             "line": {
              "color": "#E5ECF6",
              "width": 0.5
             },
             "pattern": {
              "fillmode": "overlay",
              "size": 10,
              "solidity": 0.2
             }
            },
            "type": "bar"
           }
          ],
          "barpolar": [
           {
            "marker": {
             "line": {
              "color": "#E5ECF6",
              "width": 0.5
             },
             "pattern": {
              "fillmode": "overlay",
              "size": 10,
              "solidity": 0.2
             }
            },
            "type": "barpolar"
           }
          ],
          "carpet": [
           {
            "aaxis": {
             "endlinecolor": "#2a3f5f",
             "gridcolor": "white",
             "linecolor": "white",
             "minorgridcolor": "white",
             "startlinecolor": "#2a3f5f"
            },
            "baxis": {
             "endlinecolor": "#2a3f5f",
             "gridcolor": "white",
             "linecolor": "white",
             "minorgridcolor": "white",
             "startlinecolor": "#2a3f5f"
            },
            "type": "carpet"
           }
          ],
          "choropleth": [
           {
            "colorbar": {
             "outlinewidth": 0,
             "ticks": ""
            },
            "type": "choropleth"
           }
          ],
          "contour": [
           {
            "colorbar": {
             "outlinewidth": 0,
             "ticks": ""
            },
            "colorscale": [
             [
              0,
              "#0d0887"
             ],
             [
              0.1111111111111111,
              "#46039f"
             ],
             [
              0.2222222222222222,
              "#7201a8"
             ],
             [
              0.3333333333333333,
              "#9c179e"
             ],
             [
              0.4444444444444444,
              "#bd3786"
             ],
             [
              0.5555555555555556,
              "#d8576b"
             ],
             [
              0.6666666666666666,
              "#ed7953"
             ],
             [
              0.7777777777777778,
              "#fb9f3a"
             ],
             [
              0.8888888888888888,
              "#fdca26"
             ],
             [
              1,
              "#f0f921"
             ]
            ],
            "type": "contour"
           }
          ],
          "contourcarpet": [
           {
            "colorbar": {
             "outlinewidth": 0,
             "ticks": ""
            },
            "type": "contourcarpet"
           }
          ],
          "heatmap": [
           {
            "colorbar": {
             "outlinewidth": 0,
             "ticks": ""
            },
            "colorscale": [
             [
              0,
              "#0d0887"
             ],
             [
              0.1111111111111111,
              "#46039f"
             ],
             [
              0.2222222222222222,
              "#7201a8"
             ],
             [
              0.3333333333333333,
              "#9c179e"
             ],
             [
              0.4444444444444444,
              "#bd3786"
             ],
             [
              0.5555555555555556,
              "#d8576b"
             ],
             [
              0.6666666666666666,
              "#ed7953"
             ],
             [
              0.7777777777777778,
              "#fb9f3a"
             ],
             [
              0.8888888888888888,
              "#fdca26"
             ],
             [
              1,
              "#f0f921"
             ]
            ],
            "type": "heatmap"
           }
          ],
          "histogram": [
           {
            "marker": {
             "pattern": {
              "fillmode": "overlay",
              "size": 10,
              "solidity": 0.2
             }
            },
            "type": "histogram"
           }
          ],
          "histogram2d": [
           {
            "colorbar": {
             "outlinewidth": 0,
             "ticks": ""
            },
            "colorscale": [
             [
              0,
              "#0d0887"
             ],
             [
              0.1111111111111111,
              "#46039f"
             ],
             [
              0.2222222222222222,
              "#7201a8"
             ],
             [
              0.3333333333333333,
              "#9c179e"
             ],
             [
              0.4444444444444444,
              "#bd3786"
             ],
             [
              0.5555555555555556,
              "#d8576b"
             ],
             [
              0.6666666666666666,
              "#ed7953"
             ],
             [
              0.7777777777777778,
              "#fb9f3a"
             ],
             [
              0.8888888888888888,
              "#fdca26"
             ],
             [
              1,
              "#f0f921"
             ]
            ],
            "type": "histogram2d"
           }
          ],
          "histogram2dcontour": [
           {
            "colorbar": {
             "outlinewidth": 0,
             "ticks": ""
            },
            "colorscale": [
             [
              0,
              "#0d0887"
             ],
             [
              0.1111111111111111,
              "#46039f"
             ],
             [
              0.2222222222222222,
              "#7201a8"
             ],
             [
              0.3333333333333333,
              "#9c179e"
             ],
             [
              0.4444444444444444,
              "#bd3786"
             ],
             [
              0.5555555555555556,
              "#d8576b"
             ],
             [
              0.6666666666666666,
              "#ed7953"
             ],
             [
              0.7777777777777778,
              "#fb9f3a"
             ],
             [
              0.8888888888888888,
              "#fdca26"
             ],
             [
              1,
              "#f0f921"
             ]
            ],
            "type": "histogram2dcontour"
           }
          ],
          "mesh3d": [
           {
            "colorbar": {
             "outlinewidth": 0,
             "ticks": ""
            },
            "type": "mesh3d"
           }
          ],
          "parcoords": [
           {
            "line": {
             "colorbar": {
              "outlinewidth": 0,
              "ticks": ""
             }
            },
            "type": "parcoords"
           }
          ],
          "pie": [
           {
            "automargin": true,
            "type": "pie"
           }
          ],
          "scatter": [
           {
            "fillpattern": {
             "fillmode": "overlay",
             "size": 10,
             "solidity": 0.2
            },
            "type": "scatter"
           }
          ],
          "scatter3d": [
           {
            "line": {
             "colorbar": {
              "outlinewidth": 0,
              "ticks": ""
             }
            },
            "marker": {
             "colorbar": {
              "outlinewidth": 0,
              "ticks": ""
             }
            },
            "type": "scatter3d"
           }
          ],
          "scattercarpet": [
           {
            "marker": {
             "colorbar": {
              "outlinewidth": 0,
              "ticks": ""
             }
            },
            "type": "scattercarpet"
           }
          ],
          "scattergeo": [
           {
            "marker": {
             "colorbar": {
              "outlinewidth": 0,
              "ticks": ""
             }
            },
            "type": "scattergeo"
           }
          ],
          "scattergl": [
           {
            "marker": {
             "colorbar": {
              "outlinewidth": 0,
              "ticks": ""
             }
            },
            "type": "scattergl"
           }
          ],
          "scattermap": [
           {
            "marker": {
             "colorbar": {
              "outlinewidth": 0,
              "ticks": ""
             }
            },
            "type": "scattermap"
           }
          ],
          "scattermapbox": [
           {
            "marker": {
             "colorbar": {
              "outlinewidth": 0,
              "ticks": ""
             }
            },
            "type": "scattermapbox"
           }
          ],
          "scatterpolar": [
           {
            "marker": {
             "colorbar": {
              "outlinewidth": 0,
              "ticks": ""
             }
            },
            "type": "scatterpolar"
           }
          ],
          "scatterpolargl": [
           {
            "marker": {
             "colorbar": {
              "outlinewidth": 0,
              "ticks": ""
             }
            },
            "type": "scatterpolargl"
           }
          ],
          "scatterternary": [
           {
            "marker": {
             "colorbar": {
              "outlinewidth": 0,
              "ticks": ""
             }
            },
            "type": "scatterternary"
           }
          ],
          "surface": [
           {
            "colorbar": {
             "outlinewidth": 0,
             "ticks": ""
            },
            "colorscale": [
             [
              0,
              "#0d0887"
             ],
             [
              0.1111111111111111,
              "#46039f"
             ],
             [
              0.2222222222222222,
              "#7201a8"
             ],
             [
              0.3333333333333333,
              "#9c179e"
             ],
             [
              0.4444444444444444,
              "#bd3786"
             ],
             [
              0.5555555555555556,
              "#d8576b"
             ],
             [
              0.6666666666666666,
              "#ed7953"
             ],
             [
              0.7777777777777778,
              "#fb9f3a"
             ],
             [
              0.8888888888888888,
              "#fdca26"
             ],
             [
              1,
              "#f0f921"
             ]
            ],
            "type": "surface"
           }
          ],
          "table": [
           {
            "cells": {
             "fill": {
              "color": "#EBF0F8"
             },
             "line": {
              "color": "white"
             }
            },
            "header": {
             "fill": {
              "color": "#C8D4E3"
             },
             "line": {
              "color": "white"
             }
            },
            "type": "table"
           }
          ]
         },
         "layout": {
          "annotationdefaults": {
           "arrowcolor": "#2a3f5f",
           "arrowhead": 0,
           "arrowwidth": 1
          },
          "autotypenumbers": "strict",
          "coloraxis": {
           "colorbar": {
            "outlinewidth": 0,
            "ticks": ""
           }
          },
          "colorscale": {
           "diverging": [
            [
             0,
             "#8e0152"
            ],
            [
             0.1,
             "#c51b7d"
            ],
            [
             0.2,
             "#de77ae"
            ],
            [
             0.3,
             "#f1b6da"
            ],
            [
             0.4,
             "#fde0ef"
            ],
            [
             0.5,
             "#f7f7f7"
            ],
            [
             0.6,
             "#e6f5d0"
            ],
            [
             0.7,
             "#b8e186"
            ],
            [
             0.8,
             "#7fbc41"
            ],
            [
             0.9,
             "#4d9221"
            ],
            [
             1,
             "#276419"
            ]
           ],
           "sequential": [
            [
             0,
             "#0d0887"
            ],
            [
             0.1111111111111111,
             "#46039f"
            ],
            [
             0.2222222222222222,
             "#7201a8"
            ],
            [
             0.3333333333333333,
             "#9c179e"
            ],
            [
             0.4444444444444444,
             "#bd3786"
            ],
            [
             0.5555555555555556,
             "#d8576b"
            ],
            [
             0.6666666666666666,
             "#ed7953"
            ],
            [
             0.7777777777777778,
             "#fb9f3a"
            ],
            [
             0.8888888888888888,
             "#fdca26"
            ],
            [
             1,
             "#f0f921"
            ]
           ],
           "sequentialminus": [
            [
             0,
             "#0d0887"
            ],
            [
             0.1111111111111111,
             "#46039f"
            ],
            [
             0.2222222222222222,
             "#7201a8"
            ],
            [
             0.3333333333333333,
             "#9c179e"
            ],
            [
             0.4444444444444444,
             "#bd3786"
            ],
            [
             0.5555555555555556,
             "#d8576b"
            ],
            [
             0.6666666666666666,
             "#ed7953"
            ],
            [
             0.7777777777777778,
             "#fb9f3a"
            ],
            [
             0.8888888888888888,
             "#fdca26"
            ],
            [
             1,
             "#f0f921"
            ]
           ]
          },
          "colorway": [
           "#636efa",
           "#EF553B",
           "#00cc96",
           "#ab63fa",
           "#FFA15A",
           "#19d3f3",
           "#FF6692",
           "#B6E880",
           "#FF97FF",
           "#FECB52"
          ],
          "font": {
           "color": "#2a3f5f"
          },
          "geo": {
           "bgcolor": "white",
           "lakecolor": "white",
           "landcolor": "#E5ECF6",
           "showlakes": true,
           "showland": true,
           "subunitcolor": "white"
          },
          "hoverlabel": {
           "align": "left"
          },
          "hovermode": "closest",
          "mapbox": {
           "style": "light"
          },
          "paper_bgcolor": "white",
          "plot_bgcolor": "#E5ECF6",
          "polar": {
           "angularaxis": {
            "gridcolor": "white",
            "linecolor": "white",
            "ticks": ""
           },
           "bgcolor": "#E5ECF6",
           "radialaxis": {
            "gridcolor": "white",
            "linecolor": "white",
            "ticks": ""
           }
          },
          "scene": {
           "xaxis": {
            "backgroundcolor": "#E5ECF6",
            "gridcolor": "white",
            "gridwidth": 2,
            "linecolor": "white",
            "showbackground": true,
            "ticks": "",
            "zerolinecolor": "white"
           },
           "yaxis": {
            "backgroundcolor": "#E5ECF6",
            "gridcolor": "white",
            "gridwidth": 2,
            "linecolor": "white",
            "showbackground": true,
            "ticks": "",
            "zerolinecolor": "white"
           },
           "zaxis": {
            "backgroundcolor": "#E5ECF6",
            "gridcolor": "white",
            "gridwidth": 2,
            "linecolor": "white",
            "showbackground": true,
            "ticks": "",
            "zerolinecolor": "white"
           }
          },
          "shapedefaults": {
           "line": {
            "color": "#2a3f5f"
           }
          },
          "ternary": {
           "aaxis": {
            "gridcolor": "white",
            "linecolor": "white",
            "ticks": ""
           },
           "baxis": {
            "gridcolor": "white",
            "linecolor": "white",
            "ticks": ""
           },
           "bgcolor": "#E5ECF6",
           "caxis": {
            "gridcolor": "white",
            "linecolor": "white",
            "ticks": ""
           }
          },
          "title": {
           "x": 0.05
          },
          "xaxis": {
           "automargin": true,
           "gridcolor": "white",
           "linecolor": "white",
           "ticks": "",
           "title": {
            "standoff": 15
           },
           "zerolinecolor": "white",
           "zerolinewidth": 2
          },
          "yaxis": {
           "automargin": true,
           "gridcolor": "white",
           "linecolor": "white",
           "ticks": "",
           "title": {
            "standoff": 15
           },
           "zerolinecolor": "white",
           "zerolinewidth": 2
          }
         }
        },
        "xaxis": {
         "title": {
          "text": "λ [nm]"
         }
        },
        "yaxis": {
         "range": [
          -0.037,
          -0.013
         ],
         "title": {
          "text": "θ [deg]"
         }
        }
       }
      }
     },
     "metadata": {},
     "output_type": "display_data"
    }
   ],
   "source": [
    "import plotly.graph_objects as go\n",
    "\n",
    "fig = go.Figure()\n",
    "for conc,c in zip(['C0', 'C1', 'C2', 'C3', 'C4', 'C5'],concentrazioni):\n",
    "    fig.add_trace(go.Scatter(\n",
    "        x=spettriRAW['λ'],\n",
    "        y=spettriRAW[conc],\n",
    "        mode='lines',\n",
    "        name=np.round(c,2)\n",
    "    ))\n",
    "\n",
    "fig.update_layout(\n",
    "    xaxis_title='λ [nm]',\n",
    "    yaxis_title='θ [deg]',\n",
    "    # title='Dati raccolti',\n",
    "    legend_title='C denaturante [M]',\n",
    "    legend=dict(\n",
    "        x=1,\n",
    "        y=0,\n",
    "        xanchor='right',\n",
    "        yanchor='bottom',\n",
    "        # font=dict(size=10),  # Make legend font smaller\n",
    "    ),\n",
    "    yaxis=dict(range=[-0.037, -0.013])\n",
    ")\n",
    "\n",
    "fig.write_image('./images/spettro_raccolto.png')\n",
    "fig.write_html('./html/spettro_raccolto.html')\n",
    "fig.show()"
   ]
  },
  {
   "cell_type": "markdown",
   "id": "470682bd",
   "metadata": {},
   "source": [
    "### APPAIO LE CODE"
   ]
  },
  {
   "cell_type": "code",
   "execution_count": 59,
   "id": "f022f538",
   "metadata": {},
   "outputs": [
    {
     "data": {
      "application/vnd.plotly.v1+json": {
       "config": {
        "plotlyServerURL": "https://plot.ly"
       },
       "data": [
        {
         "mode": "lines",
         "name": "0.0",
         "type": "scatter",
         "x": {
          "bdata": "BAEDAQIBAQEAAf8A/gD9APwA+wD6APkA+AD3APYA9QD0APMA8gDxAPAA7wDuAO0A7ADrAOoA6QDoAOcA5gDlAOQA4wDiAOEA4ADfAN4A3QDcANsA2gDZANgA1wDWANUA1ADTANIA0QDQAM8AzgDNAMwAywDKAMkA",
          "dtype": "i2"
         },
         "y": {
          "bdata": "ANSY5FpxLsAA1JjkWnEuQIDaIGRYvkBAAEz1VQNEMkAATPVVA0RCQAC9yUeuyUPAABhHHa9aCMAAEEcdr1oYwAAAAAAAAHC9AL3JR67JQ8AA1JjkWnE+wACfcisE1UbAQNdcpNmXV8AAgRsPWuBZwMBEbdYF91/AQPeVIMMfYcAgfzmvGk1twMBM5gWjjXDAEGlbwg3vcMDAvbr3TRNywHD0whDkQnbA8A9HHa9aeMAAD1ZtDxF6wADx/lBlHH3AUJuua4WufcCIoUU747GBwPi72JcOgIXAEJIhVb4ShMCgOu8PnxGIwIiOXZU/7IrAADgcAMA0jcCYbxXJ9a2PwFw3kgwrspDAMD6zzx04kcA0GiygIAeSwGzL/H0zH5PApHzNW0Y3lMAokTClHsmVwHz0whDkQpbA3Ou/7bEpmcCcQB8j8k2awKAcmPP0HJvANJyfGyX4m8BwuBTYj1mcwJSx8xSd05vABKPA3hd+nMA0nJ8bJfibwASjwN4XfpzAgI5dlT/smsDgOA2wX36bwPzqzj0S4JrAtGO1ok81m8DUgBsPWuCZwACYUWgRT5bAqAv5aZuxksA0GiygIAeSwMi9uvdNE4LAOD6zzx04gcCgvqun7VxgwLBjtaJPNXtA",
          "dtype": "f8"
         }
        },
        {
         "mode": "lines",
         "name": "1.53",
         "type": "scatter",
         "x": {
          "bdata": "BAEDAQIBAQEAAf8A/gD9APwA+wD6APkA+AD3APYA9QD0APMA8gDxAPAA7wDuAO0A7ADrAOoA6QDoAOcA5gDlAOQA4wDiAOEA4ADfAN4A3QDcANsA2gDZANgA1wDWANUA1ADTANIA0QDQAM8AzgDNAMwAywDKAMkA",
          "dtype": "i2"
         },
         "y": {
          "bdata": "AGB/SBHcDsAAFWG+cuIxwAA4xQyxPwlAAHSC2NxWJEAAYLXjLmQ1wADP6bbmLjFAADjFDLE/CUAAz+m25i4xQAAEcef0vSXAADjFDLE/CUAAwLMbyaYaQAAKKyNVWitAAGB/SBHcDsAAqgkJ6+U4wIDYKwcIuUjAgG3pRI1/UsBApehg2iBVwADd53wnwlfAAHGQx5/FXsBg+XGEVHRiwOBVG7N/1mbAQGhwvO62Z8AwTIzKhgVwwIDtirvNn3TAwJvfUuPQdsCg2N3R0Lt8wEDGGGZDG4HA0PHty4ingcDgFpjeZmiDwOAiwpRufYXAQBtrUUAwi8DQRkC3hbyLwACe6oIQ1YzAcLxpQofKj8BATD8aJgaPwDDFtERtOZDAsNcJTtwZkcAImclmROyRwGBBCSPWEpPAqO9duutDlcBwi11IkpSWwMAznQQku5fAKAjInt4ul8BQZYdF7VGZwJD0RqWozJrAUGWHRe1RmcBgct3ru+iWwEg0s3wHfJXAwDOdBCS7l8Co9XKVb06WwCgO3XliOZjAcIuVeaH0i8Bg+XGEVHRiwOCFw4ueKm/A8hvaUZkpuUCARIO8j7VBwOjlBgMC04NAWANa0rFGi0AAv9ea+I5kQAB/xCj+4EtA",
          "dtype": "f8"
         }
        },
        {
         "mode": "lines",
         "name": "3.09",
         "type": "scatter",
         "x": {
          "bdata": "BAEDAQIBAQEAAf8A/gD9APwA+wD6APkA+AD3APYA9QD0APMA8gDxAPAA7wDuAO0A7ADrAOoA6QDoAOcA5gDlAOQA4wDiAOEA4ADfAN4A3QDcANsA2gDZANgA1wDWANUA1ADTANIA0QDQAM8AzgDNAMwAywDKAMkA",
          "dtype": "i2"
         },
         "y": {
          "bdata": "ALjID4iUMcAAgIjNuQ/WvwCAiM25D9a/ABTD3aP0HMAARn5yKuMqQAD8EaSsMhpAABWXUfTIN0AALBz/O18lwAD8EaSsMhpAAM5WDyZELMAA/BGkrDIaQAAsHP87XyXAAM5WDyZELMAAxHlJf1Y0QABGfnIq4ypAgKBZKBiURsAA/j0wXF4/wADydjCNBkrAAMduZpMLU8AAcH3qzcRUwMBsk7ClWlfA4KyLKtpuY8AAVKWRAHNmwPB4gCVXnHDAAJ/uJSURb8CwoBSbB/tywMCSd5ZSnX7A6HFKz+MHgcBIhB/tJ4KDwAhHzB8LP4HAUBSF383sh8AQfkt5162IwDBTzcn+5IjAEFDjj9Z6i8BweWwim46MwIA3Ov5BLI7A6KQHDkNTkMDopAcOQ1OQwBgu8hxlkJHAKMumZt/8k8Dgdp8kQiCTwFiMXnyuBJPA4D7SHZVVlcCgkeRCHn2XwLC/TCwfsJTAwFwBdpkcl8AIOFc6ESiSwFBHQh4tOJfAMPkOUOAvkcAQeTuxiS6awDCqjdSyy5TAAMls1f3ZTkD4jlzS1aeBQJhOH8uQ+oFAQLX7KnJRhUDAzJucNt1/QGDwPIZouHfAmDlMVyXdkMAA7KK8PDJPwIDIqBC4WXXA",
          "dtype": "f8"
         }
        },
        {
         "mode": "lines",
         "name": "4.67",
         "type": "scatter",
         "x": {
          "bdata": "BAEDAQIBAQEAAf8A/gD9APwA+wD6APkA+AD3APYA9QD0APMA8gDxAPAA7wDuAO0A7ADrAOoA6QDoAOcA5gDlAOQA4wDiAOEA4ADfAN4A3QDcANsA2gDZANgA1wDWANUA1ADTANIA0QDQAM8AzgDNAMwAywDKAMkA",
          "dtype": "i2"
         },
         "y": {
          "bdata": "AMDr4YzPDUAA1iys4qUjwADA6+GMzw1AAEZQxH5wO0AAzAVm4r4ZwADA6+GMzw1AAMBJY6l0HEAAXEDPYpkwwADMBWbivhnAAMwFZuK+GcAAzAVm4r4ZwADASWOpdBxAAE9qSNRfN8AAQZTBRSY+wABPakjUXzfAAEGUwUUmPsAAlan79ydEwACdFD+/xEDAgPO4YnQWVcCAKnNOe1JZwIAqc057UlnAAIdjIK9vY8AAh2Mgr29jwCC1WwlJfnDAIDP9JovAbMAQ7BX1T7p0wNCmhYK6RHfAQMJi+L1iecAQHGWdj1l8wPhZxriXFIDAKEoJxx3Jg8CAdaMumzKCwNi9AXcHzIXA+EKeg1Ysh8AAXZSObjiGwFC/6OHy3YjAMGfNpwz5iMCwnKAoKCOKwIBee/lZSonAQOxptFtZisCQ/Q0RwbaJwPDaxVf2+4rAIE3XnPTsicCISw4oJkyQwLiJM1f0JJHA4IbxaoZflMDQG0tpTwuSwDhxJLfHKpXA2CjGbluRkcCQqTkkURqTwChH5dDMdJDAFtJK+nRGpECMBy32HimSQNAojOOPQHZAwDHekULvVcAAh2Mgr29jwIAjCAu0tVzAkKk5JFEak8BwDcsCOwKGwAieFz9ZtoVA",
          "dtype": "f8"
         }
        },
        {
         "mode": "lines",
         "name": "6.13",
         "type": "scatter",
         "x": {
          "bdata": "BAEDAQIBAQEAAf8A/gD9APwA+wD6APkA+AD3APYA9QD0APMA8gDxAPAA7wDuAO0A7ADrAOoA6QDoAOcA5gDlAOQA4wDiAOEA4ADfAN4A3QDcANsA2gDZANgA1wDWANUA1ADTANIA0QDQAM8AzgDNAMwAywDKAMkA",
          "dtype": "i2"
         },
         "y": {
          "bdata": "AEBOWgotEEAAIBMjY5HlPwCcsL423yLAAJywvjbfIsAAIBMjY5HlPwAgOlDopx1AACATI2OR5T8A/hIjY5ElQAAgEyNjkeU/AFx1h49DGMAA/hIjY5ElQABcdYePQxjAAC1EVXnqNsAANcnXwYszwACOprmlnCnAABs6UOinPcAAedDhvkBHwAD1jaAa8EjAgHBLX3afSsCA6TxLfDVTwICnmyoqDVTAABvUZj0bWcDgIfP/2i9hwIDXzFxAZmXAYL491WaCb8CAAN/1uKpuwECG8V/WVXPAEAKvHjIFdcCAsYaWHTt1wIDUlkocf3rAkLeIe5c7ecBg96b+GsN/wGBWwC3A/IHA8KbotdTGgcCQPDNReLmCwEBwTQoIQIHAII1b2YyDgsDgR8+GL41/wBDsCslj74LA4Mn4adMKh8BgF6D/qtSEwEBwTQoIQIHACLBrjYvHh8Bof9LGOEGLwEjegbYPrYvAaB2i5CTViMDIjVku++KLwGh/0sY4QYvAYBoh8ufUhsBqXY+s3g6nwCKXq0rolanADEu6uDpbo0BYUAkpXxWFQADwEiNjkQXAUC1EVXnqdsCg4E8092aLQAAy4FBIXnZAFPysObgEkUBQwiZc4K98QIDQrcOiUV3A",
          "dtype": "f8"
         }
        },
        {
         "mode": "lines",
         "name": "7.74",
         "type": "scatter",
         "x": {
          "bdata": "BAEDAQIBAQEAAf8A/gD9APwA+wD6APkA+AD3APYA9QD0APMA8gDxAPAA7wDuAO0A7ADrAOoA6QDoAOcA5gDlAOQA4wDiAOEA4ADfAN4A3QDcANsA2gDZANgA1wDWANUA1ADTANIA0QDQAM8AzgDNAMwAywDKAMkA",
          "dtype": "i2"
         },
         "y": {
          "bdata": "AHJggrXEJsAA/NAdOIcpQACYPClWdRdAAPzQHTiHKUAAyBNAklEDQACFztUFHTdAAMz5BvyqLcAAcmCCtcQmwADM+Qb8qi3AAHxb8lDwEcAAPxaIxLs1wAB8W/JQ8BHAAJevDAuiPMAAPxaIxLs1wADrYsrnLjnAAOtiyucuOcCA07AwJNdNwIDTsDAk103AgNOwMCTXTcDAbz7f+0RZwMBsy/tGGFTAwPD3UFbbW8DgkDh0xIhjwAC8y0SNZWTAIGza8trhcMBAKfW/3SNpwCBs2vLa4XDAMLsrfBzceMCwRi3pe156wLAl4hO4bXjAAN/pNJX5f8DQT+M2YaKAwBDpMTCa5X7A8HXSiScJgsD4lh1f6/mDwOCzVmTMHH/AMLBR0/dHgcAw83krn9F9wACcwdztb4PA4FSHtGMYgMDQZuYQIKeDwJhSVhoWz4XAuJmQQqAmicC4fenq3quGwCzEuZelPZDAKDfxC7w3jsA0VzHBCPGQwDRxSCMwlJ7ABLXNHp7bkcCgte+UJ33FwIsbq7LyqrLASKDFkX9ch0DAfKh9urBlwPT+eirdX5rAQCt3miYae0AUA436vy2RQJjf6FhSEYZAwJrRr8QhWsB0rVdimqqSwAAbqQ9HS2ZA",
          "dtype": "f8"
         }
        }
       ],
       "layout": {
        "legend": {
         "title": {
          "text": "C denaturante [M]"
         },
         "x": 1,
         "xanchor": "right",
         "y": 0,
         "yanchor": "bottom"
        },
        "template": {
         "data": {
          "bar": [
           {
            "error_x": {
             "color": "#2a3f5f"
            },
            "error_y": {
             "color": "#2a3f5f"
            },
            "marker": {
             "line": {
              "color": "#E5ECF6",
              "width": 0.5
             },
             "pattern": {
              "fillmode": "overlay",
              "size": 10,
              "solidity": 0.2
             }
            },
            "type": "bar"
           }
          ],
          "barpolar": [
           {
            "marker": {
             "line": {
              "color": "#E5ECF6",
              "width": 0.5
             },
             "pattern": {
              "fillmode": "overlay",
              "size": 10,
              "solidity": 0.2
             }
            },
            "type": "barpolar"
           }
          ],
          "carpet": [
           {
            "aaxis": {
             "endlinecolor": "#2a3f5f",
             "gridcolor": "white",
             "linecolor": "white",
             "minorgridcolor": "white",
             "startlinecolor": "#2a3f5f"
            },
            "baxis": {
             "endlinecolor": "#2a3f5f",
             "gridcolor": "white",
             "linecolor": "white",
             "minorgridcolor": "white",
             "startlinecolor": "#2a3f5f"
            },
            "type": "carpet"
           }
          ],
          "choropleth": [
           {
            "colorbar": {
             "outlinewidth": 0,
             "ticks": ""
            },
            "type": "choropleth"
           }
          ],
          "contour": [
           {
            "colorbar": {
             "outlinewidth": 0,
             "ticks": ""
            },
            "colorscale": [
             [
              0,
              "#0d0887"
             ],
             [
              0.1111111111111111,
              "#46039f"
             ],
             [
              0.2222222222222222,
              "#7201a8"
             ],
             [
              0.3333333333333333,
              "#9c179e"
             ],
             [
              0.4444444444444444,
              "#bd3786"
             ],
             [
              0.5555555555555556,
              "#d8576b"
             ],
             [
              0.6666666666666666,
              "#ed7953"
             ],
             [
              0.7777777777777778,
              "#fb9f3a"
             ],
             [
              0.8888888888888888,
              "#fdca26"
             ],
             [
              1,
              "#f0f921"
             ]
            ],
            "type": "contour"
           }
          ],
          "contourcarpet": [
           {
            "colorbar": {
             "outlinewidth": 0,
             "ticks": ""
            },
            "type": "contourcarpet"
           }
          ],
          "heatmap": [
           {
            "colorbar": {
             "outlinewidth": 0,
             "ticks": ""
            },
            "colorscale": [
             [
              0,
              "#0d0887"
             ],
             [
              0.1111111111111111,
              "#46039f"
             ],
             [
              0.2222222222222222,
              "#7201a8"
             ],
             [
              0.3333333333333333,
              "#9c179e"
             ],
             [
              0.4444444444444444,
              "#bd3786"
             ],
             [
              0.5555555555555556,
              "#d8576b"
             ],
             [
              0.6666666666666666,
              "#ed7953"
             ],
             [
              0.7777777777777778,
              "#fb9f3a"
             ],
             [
              0.8888888888888888,
              "#fdca26"
             ],
             [
              1,
              "#f0f921"
             ]
            ],
            "type": "heatmap"
           }
          ],
          "histogram": [
           {
            "marker": {
             "pattern": {
              "fillmode": "overlay",
              "size": 10,
              "solidity": 0.2
             }
            },
            "type": "histogram"
           }
          ],
          "histogram2d": [
           {
            "colorbar": {
             "outlinewidth": 0,
             "ticks": ""
            },
            "colorscale": [
             [
              0,
              "#0d0887"
             ],
             [
              0.1111111111111111,
              "#46039f"
             ],
             [
              0.2222222222222222,
              "#7201a8"
             ],
             [
              0.3333333333333333,
              "#9c179e"
             ],
             [
              0.4444444444444444,
              "#bd3786"
             ],
             [
              0.5555555555555556,
              "#d8576b"
             ],
             [
              0.6666666666666666,
              "#ed7953"
             ],
             [
              0.7777777777777778,
              "#fb9f3a"
             ],
             [
              0.8888888888888888,
              "#fdca26"
             ],
             [
              1,
              "#f0f921"
             ]
            ],
            "type": "histogram2d"
           }
          ],
          "histogram2dcontour": [
           {
            "colorbar": {
             "outlinewidth": 0,
             "ticks": ""
            },
            "colorscale": [
             [
              0,
              "#0d0887"
             ],
             [
              0.1111111111111111,
              "#46039f"
             ],
             [
              0.2222222222222222,
              "#7201a8"
             ],
             [
              0.3333333333333333,
              "#9c179e"
             ],
             [
              0.4444444444444444,
              "#bd3786"
             ],
             [
              0.5555555555555556,
              "#d8576b"
             ],
             [
              0.6666666666666666,
              "#ed7953"
             ],
             [
              0.7777777777777778,
              "#fb9f3a"
             ],
             [
              0.8888888888888888,
              "#fdca26"
             ],
             [
              1,
              "#f0f921"
             ]
            ],
            "type": "histogram2dcontour"
           }
          ],
          "mesh3d": [
           {
            "colorbar": {
             "outlinewidth": 0,
             "ticks": ""
            },
            "type": "mesh3d"
           }
          ],
          "parcoords": [
           {
            "line": {
             "colorbar": {
              "outlinewidth": 0,
              "ticks": ""
             }
            },
            "type": "parcoords"
           }
          ],
          "pie": [
           {
            "automargin": true,
            "type": "pie"
           }
          ],
          "scatter": [
           {
            "fillpattern": {
             "fillmode": "overlay",
             "size": 10,
             "solidity": 0.2
            },
            "type": "scatter"
           }
          ],
          "scatter3d": [
           {
            "line": {
             "colorbar": {
              "outlinewidth": 0,
              "ticks": ""
             }
            },
            "marker": {
             "colorbar": {
              "outlinewidth": 0,
              "ticks": ""
             }
            },
            "type": "scatter3d"
           }
          ],
          "scattercarpet": [
           {
            "marker": {
             "colorbar": {
              "outlinewidth": 0,
              "ticks": ""
             }
            },
            "type": "scattercarpet"
           }
          ],
          "scattergeo": [
           {
            "marker": {
             "colorbar": {
              "outlinewidth": 0,
              "ticks": ""
             }
            },
            "type": "scattergeo"
           }
          ],
          "scattergl": [
           {
            "marker": {
             "colorbar": {
              "outlinewidth": 0,
              "ticks": ""
             }
            },
            "type": "scattergl"
           }
          ],
          "scattermap": [
           {
            "marker": {
             "colorbar": {
              "outlinewidth": 0,
              "ticks": ""
             }
            },
            "type": "scattermap"
           }
          ],
          "scattermapbox": [
           {
            "marker": {
             "colorbar": {
              "outlinewidth": 0,
              "ticks": ""
             }
            },
            "type": "scattermapbox"
           }
          ],
          "scatterpolar": [
           {
            "marker": {
             "colorbar": {
              "outlinewidth": 0,
              "ticks": ""
             }
            },
            "type": "scatterpolar"
           }
          ],
          "scatterpolargl": [
           {
            "marker": {
             "colorbar": {
              "outlinewidth": 0,
              "ticks": ""
             }
            },
            "type": "scatterpolargl"
           }
          ],
          "scatterternary": [
           {
            "marker": {
             "colorbar": {
              "outlinewidth": 0,
              "ticks": ""
             }
            },
            "type": "scatterternary"
           }
          ],
          "surface": [
           {
            "colorbar": {
             "outlinewidth": 0,
             "ticks": ""
            },
            "colorscale": [
             [
              0,
              "#0d0887"
             ],
             [
              0.1111111111111111,
              "#46039f"
             ],
             [
              0.2222222222222222,
              "#7201a8"
             ],
             [
              0.3333333333333333,
              "#9c179e"
             ],
             [
              0.4444444444444444,
              "#bd3786"
             ],
             [
              0.5555555555555556,
              "#d8576b"
             ],
             [
              0.6666666666666666,
              "#ed7953"
             ],
             [
              0.7777777777777778,
              "#fb9f3a"
             ],
             [
              0.8888888888888888,
              "#fdca26"
             ],
             [
              1,
              "#f0f921"
             ]
            ],
            "type": "surface"
           }
          ],
          "table": [
           {
            "cells": {
             "fill": {
              "color": "#EBF0F8"
             },
             "line": {
              "color": "white"
             }
            },
            "header": {
             "fill": {
              "color": "#C8D4E3"
             },
             "line": {
              "color": "white"
             }
            },
            "type": "table"
           }
          ]
         },
         "layout": {
          "annotationdefaults": {
           "arrowcolor": "#2a3f5f",
           "arrowhead": 0,
           "arrowwidth": 1
          },
          "autotypenumbers": "strict",
          "coloraxis": {
           "colorbar": {
            "outlinewidth": 0,
            "ticks": ""
           }
          },
          "colorscale": {
           "diverging": [
            [
             0,
             "#8e0152"
            ],
            [
             0.1,
             "#c51b7d"
            ],
            [
             0.2,
             "#de77ae"
            ],
            [
             0.3,
             "#f1b6da"
            ],
            [
             0.4,
             "#fde0ef"
            ],
            [
             0.5,
             "#f7f7f7"
            ],
            [
             0.6,
             "#e6f5d0"
            ],
            [
             0.7,
             "#b8e186"
            ],
            [
             0.8,
             "#7fbc41"
            ],
            [
             0.9,
             "#4d9221"
            ],
            [
             1,
             "#276419"
            ]
           ],
           "sequential": [
            [
             0,
             "#0d0887"
            ],
            [
             0.1111111111111111,
             "#46039f"
            ],
            [
             0.2222222222222222,
             "#7201a8"
            ],
            [
             0.3333333333333333,
             "#9c179e"
            ],
            [
             0.4444444444444444,
             "#bd3786"
            ],
            [
             0.5555555555555556,
             "#d8576b"
            ],
            [
             0.6666666666666666,
             "#ed7953"
            ],
            [
             0.7777777777777778,
             "#fb9f3a"
            ],
            [
             0.8888888888888888,
             "#fdca26"
            ],
            [
             1,
             "#f0f921"
            ]
           ],
           "sequentialminus": [
            [
             0,
             "#0d0887"
            ],
            [
             0.1111111111111111,
             "#46039f"
            ],
            [
             0.2222222222222222,
             "#7201a8"
            ],
            [
             0.3333333333333333,
             "#9c179e"
            ],
            [
             0.4444444444444444,
             "#bd3786"
            ],
            [
             0.5555555555555556,
             "#d8576b"
            ],
            [
             0.6666666666666666,
             "#ed7953"
            ],
            [
             0.7777777777777778,
             "#fb9f3a"
            ],
            [
             0.8888888888888888,
             "#fdca26"
            ],
            [
             1,
             "#f0f921"
            ]
           ]
          },
          "colorway": [
           "#636efa",
           "#EF553B",
           "#00cc96",
           "#ab63fa",
           "#FFA15A",
           "#19d3f3",
           "#FF6692",
           "#B6E880",
           "#FF97FF",
           "#FECB52"
          ],
          "font": {
           "color": "#2a3f5f"
          },
          "geo": {
           "bgcolor": "white",
           "lakecolor": "white",
           "landcolor": "#E5ECF6",
           "showlakes": true,
           "showland": true,
           "subunitcolor": "white"
          },
          "hoverlabel": {
           "align": "left"
          },
          "hovermode": "closest",
          "mapbox": {
           "style": "light"
          },
          "paper_bgcolor": "white",
          "plot_bgcolor": "#E5ECF6",
          "polar": {
           "angularaxis": {
            "gridcolor": "white",
            "linecolor": "white",
            "ticks": ""
           },
           "bgcolor": "#E5ECF6",
           "radialaxis": {
            "gridcolor": "white",
            "linecolor": "white",
            "ticks": ""
           }
          },
          "scene": {
           "xaxis": {
            "backgroundcolor": "#E5ECF6",
            "gridcolor": "white",
            "gridwidth": 2,
            "linecolor": "white",
            "showbackground": true,
            "ticks": "",
            "zerolinecolor": "white"
           },
           "yaxis": {
            "backgroundcolor": "#E5ECF6",
            "gridcolor": "white",
            "gridwidth": 2,
            "linecolor": "white",
            "showbackground": true,
            "ticks": "",
            "zerolinecolor": "white"
           },
           "zaxis": {
            "backgroundcolor": "#E5ECF6",
            "gridcolor": "white",
            "gridwidth": 2,
            "linecolor": "white",
            "showbackground": true,
            "ticks": "",
            "zerolinecolor": "white"
           }
          },
          "shapedefaults": {
           "line": {
            "color": "#2a3f5f"
           }
          },
          "ternary": {
           "aaxis": {
            "gridcolor": "white",
            "linecolor": "white",
            "ticks": ""
           },
           "baxis": {
            "gridcolor": "white",
            "linecolor": "white",
            "ticks": ""
           },
           "bgcolor": "#E5ECF6",
           "caxis": {
            "gridcolor": "white",
            "linecolor": "white",
            "ticks": ""
           }
          },
          "title": {
           "x": 0.05
          },
          "xaxis": {
           "automargin": true,
           "gridcolor": "white",
           "linecolor": "white",
           "ticks": "",
           "title": {
            "standoff": 15
           },
           "zerolinecolor": "white",
           "zerolinewidth": 2
          },
          "yaxis": {
           "automargin": true,
           "gridcolor": "white",
           "linecolor": "white",
           "ticks": "",
           "title": {
            "standoff": 15
           },
           "zerolinecolor": "white",
           "zerolinewidth": 2
          }
         }
        },
        "xaxis": {
         "title": {
          "text": "λ"
         }
        },
        "yaxis": {
         "range": [
          -2000,
          100
         ],
         "title": {
          "text": "θ [deg·cm² dmol⁻¹]"
         }
        }
       }
      }
     },
     "metadata": {},
     "output_type": "display_data"
    }
   ],
   "source": [
    "fig = go.Figure()\n",
    "\n",
    "spettri = pd.DataFrame()\n",
    "\n",
    "spettri['λ'] = spettriRAW['λ']\n",
    "\n",
    "for i, conc in enumerate(['C0', 'C1', 'C2', 'C3', 'C4', 'C5']):\n",
    "    λ = spettriRAW['λ']\n",
    "\n",
    "    θ = spettriRAW[conc] * 100 / (concentrazioniBLG[i] * N * l)\n",
    "\n",
    "    # APPAIO DELLE CODE\n",
    "    mean = θ[λ > 250].mean()\n",
    "    θ = θ - mean\n",
    "    spettri[conc] = θ  # aggiorna la colonna\n",
    "\n",
    "    fig.add_trace(go.Scatter(\n",
    "        x=λ,\n",
    "        y=θ,\n",
    "        mode='lines',\n",
    "        name=np.round(concentrazioni[i],2)\n",
    "    ))\n",
    "\n",
    "fig.update_layout(\n",
    "    yaxis=dict(range=[-2000,100]),\n",
    "    xaxis_title='λ',\n",
    "    yaxis_title='θ [deg·cm² dmol⁻¹]',\n",
    "    legend_title='C denaturante [M]',\n",
    "    legend=dict(\n",
    "        x=1,\n",
    "        y=0,\n",
    "        xanchor='right',\n",
    "        yanchor='bottom'\n",
    "    )\n",
    ")\n",
    "fig.show()"
   ]
  },
  {
   "cell_type": "code",
   "execution_count": 60,
   "id": "b6f7f5dd",
   "metadata": {},
   "outputs": [
    {
     "data": {
      "text/html": [
       "<div>\n",
       "<style scoped>\n",
       "    .dataframe tbody tr th:only-of-type {\n",
       "        vertical-align: middle;\n",
       "    }\n",
       "\n",
       "    .dataframe tbody tr th {\n",
       "        vertical-align: top;\n",
       "    }\n",
       "\n",
       "    .dataframe thead th {\n",
       "        text-align: right;\n",
       "    }\n",
       "</style>\n",
       "<table border=\"1\" class=\"dataframe\">\n",
       "  <thead>\n",
       "    <tr style=\"text-align: right;\">\n",
       "      <th></th>\n",
       "      <th>Concentrazione</th>\n",
       "      <th>227</th>\n",
       "      <th>226</th>\n",
       "      <th>225</th>\n",
       "      <th>224</th>\n",
       "      <th>223</th>\n",
       "      <th>222</th>\n",
       "      <th>221</th>\n",
       "      <th>220</th>\n",
       "    </tr>\n",
       "  </thead>\n",
       "  <tbody>\n",
       "    <tr>\n",
       "      <th>0</th>\n",
       "      <td>0.000000</td>\n",
       "      <td>-1102.029113</td>\n",
       "      <td>-1153.781861</td>\n",
       "      <td>-1223.800285</td>\n",
       "      <td>-1293.818710</td>\n",
       "      <td>-1394.279927</td>\n",
       "      <td>-1424.722720</td>\n",
       "      <td>-1610.423759</td>\n",
       "      <td>-1683.486462</td>\n",
       "    </tr>\n",
       "    <tr>\n",
       "      <th>1</th>\n",
       "      <td>1.529499</td>\n",
       "      <td>-1017.316045</td>\n",
       "      <td>-992.768605</td>\n",
       "      <td>-1038.356707</td>\n",
       "      <td>-1094.465141</td>\n",
       "      <td>-1147.066798</td>\n",
       "      <td>-1220.709118</td>\n",
       "      <td>-1360.980203</td>\n",
       "      <td>-1445.142854</td>\n",
       "    </tr>\n",
       "    <tr>\n",
       "      <th>2</th>\n",
       "      <td>3.093301</td>\n",
       "      <td>-879.354767</td>\n",
       "      <td>-913.825749</td>\n",
       "      <td>-965.532223</td>\n",
       "      <td>-1044.815483</td>\n",
       "      <td>-1044.815483</td>\n",
       "      <td>-1124.098743</td>\n",
       "      <td>-1279.218165</td>\n",
       "      <td>-1224.064593</td>\n",
       "    </tr>\n",
       "    <tr>\n",
       "      <th>3</th>\n",
       "      <td>4.668148</td>\n",
       "      <td>-741.542243</td>\n",
       "      <td>-711.053983</td>\n",
       "      <td>-795.743595</td>\n",
       "      <td>-799.131179</td>\n",
       "      <td>-836.394609</td>\n",
       "      <td>-809.293933</td>\n",
       "      <td>-843.169778</td>\n",
       "      <td>-822.844271</td>\n",
       "    </tr>\n",
       "    <tr>\n",
       "      <th>4</th>\n",
       "      <td>6.130150</td>\n",
       "      <td>-568.853863</td>\n",
       "      <td>-599.183749</td>\n",
       "      <td>-552.003926</td>\n",
       "      <td>-592.443774</td>\n",
       "      <td>-504.824103</td>\n",
       "      <td>-605.923723</td>\n",
       "      <td>-737.353229</td>\n",
       "      <td>-666.583495</td>\n",
       "    </tr>\n",
       "    <tr>\n",
       "      <th>5</th>\n",
       "      <td>7.735930</td>\n",
       "      <td>-577.144306</td>\n",
       "      <td>-639.239928</td>\n",
       "      <td>-497.799900</td>\n",
       "      <td>-552.996009</td>\n",
       "      <td>-477.101360</td>\n",
       "      <td>-621.991144</td>\n",
       "      <td>-515.048684</td>\n",
       "      <td>-628.890657</td>\n",
       "    </tr>\n",
       "  </tbody>\n",
       "</table>\n",
       "</div>"
      ],
      "text/plain": [
       "   Concentrazione          227          226          225          224  \\\n",
       "0        0.000000 -1102.029113 -1153.781861 -1223.800285 -1293.818710   \n",
       "1        1.529499 -1017.316045  -992.768605 -1038.356707 -1094.465141   \n",
       "2        3.093301  -879.354767  -913.825749  -965.532223 -1044.815483   \n",
       "3        4.668148  -741.542243  -711.053983  -795.743595  -799.131179   \n",
       "4        6.130150  -568.853863  -599.183749  -552.003926  -592.443774   \n",
       "5        7.735930  -577.144306  -639.239928  -497.799900  -552.996009   \n",
       "\n",
       "           223          222          221          220  \n",
       "0 -1394.279927 -1424.722720 -1610.423759 -1683.486462  \n",
       "1 -1147.066798 -1220.709118 -1360.980203 -1445.142854  \n",
       "2 -1044.815483 -1124.098743 -1279.218165 -1224.064593  \n",
       "3  -836.394609  -809.293933  -843.169778  -822.844271  \n",
       "4  -504.824103  -605.923723  -737.353229  -666.583495  \n",
       "5  -477.101360  -621.991144  -515.048684  -628.890657  "
      ]
     },
     "metadata": {},
     "output_type": "display_data"
    }
   ],
   "source": [
    "λ = spettri['λ']\n",
    "\n",
    "λmin = 220\n",
    "λmax = 227\n",
    "\n",
    "imin,imax = λ[λ == λmin].index[0], λ[λ == λmax].index[0]\n",
    "# print(imin,imax)\n",
    "\n",
    "Λ = np.arange(λmax,λmin-1,-1)\n",
    "\n",
    "# Seleziona solo le colonne delle concentrazioni (senza le colonne λ)\n",
    "spettro_ristretto = spettri.loc[imax:imin, ['C0','C1', 'C2', 'C3', 'C4', 'C5']]\n",
    "spettro_ristretto = spettro_ristretto.T\n",
    "spettro_ristretto.columns = Λ\n",
    "spettro_ristretto.insert(0, 'Concentrazione', spettro_ristretto.index)\n",
    "spettro_ristretto.reset_index(drop=True, inplace=True)\n",
    "spettro_ristretto['Concentrazione'] = concentrazioni\n",
    "display(spettro_ristretto)\n"
   ]
  },
  {
   "cell_type": "code",
   "execution_count": 61,
   "id": "1da9c8d7",
   "metadata": {},
   "outputs": [],
   "source": [
    "# fig = go.Figure()\n",
    "colors = px.colors.sample_colorscale(px.colors.sequential.Plasma, len(Λ))\n",
    "\n",
    "# for idx,i in enumerate(range(λmin,λmax)):\n",
    "#     fig.add_trace(go.Scatter(\n",
    "#         x=spettro_ristretto['Concentrazione'],\n",
    "#         y=spettro_ristretto[i],\n",
    "#         mode='lines+markers',\n",
    "#         name=str(i)+'nm',\n",
    "#         line=dict(color=colors[idx]),\n",
    "#         marker=dict(color=colors[idx])\n",
    "#     ))\n",
    "\n",
    "# fig.update_layout(\n",
    "#     # yaxis_type='log',\n",
    "#     #title='Spettri ristretti (220-230 nm)',\n",
    "#     xaxis_title='Concentrazione [M]',\n",
    "#     yaxis_title='θ',\n",
    "#     legend_title='λ [nm]',\n",
    "#     height=800,\n",
    "#     width=600,\n",
    "#     legend=dict(\n",
    "#         x=1,\n",
    "#         y=0,\n",
    "#         xanchor='right',\n",
    "#         yanchor='bottom'\n",
    "#     )\n",
    "# )\n",
    "# # fig.show()"
   ]
  },
  {
   "cell_type": "code",
   "execution_count": 62,
   "id": "b315f4c1",
   "metadata": {},
   "outputs": [],
   "source": [
    "def sigmoid(x,m,Cmid, yN,yD):\n",
    "    R = 8.314  # J/(mol * K)\n",
    "    T = 300  # K\n",
    "    expo = m * (Cmid-x) / (R*T)\n",
    "    num = yN + yD * np.exp(-expo)\n",
    "    den = 1 + np.exp(-expo)\n",
    "    return num/den\n",
    "\n",
    "\n",
    "# x = np.linspace(0,6,1000)\n",
    "# plt.plot(x,sigmoid(x,-0.005,-0.0001,2,6))\n",
    "\n",
    "# plt.show()"
   ]
  },
  {
   "cell_type": "code",
   "execution_count": 63,
   "id": "0400f6d7",
   "metadata": {},
   "outputs": [
    {
     "name": "stdout",
     "output_type": "stream",
     "text": [
      "227\n",
      "226\n",
      "225\n",
      "224\n",
      "223\n",
      "222\n",
      "221\n",
      "220\n"
     ]
    },
    {
     "data": {
      "text/html": [
       "<div>\n",
       "<style scoped>\n",
       "    .dataframe tbody tr th:only-of-type {\n",
       "        vertical-align: middle;\n",
       "    }\n",
       "\n",
       "    .dataframe tbody tr th {\n",
       "        vertical-align: top;\n",
       "    }\n",
       "\n",
       "    .dataframe thead th {\n",
       "        text-align: right;\n",
       "    }\n",
       "</style>\n",
       "<table border=\"1\" class=\"dataframe\">\n",
       "  <thead>\n",
       "    <tr style=\"text-align: right;\">\n",
       "      <th></th>\n",
       "      <th>λ</th>\n",
       "      <th>m</th>\n",
       "      <th>m_err</th>\n",
       "      <th>Cmid</th>\n",
       "      <th>Cmid_err</th>\n",
       "      <th>Cm covariance</th>\n",
       "      <th>yN</th>\n",
       "      <th>yN_err</th>\n",
       "      <th>yD</th>\n",
       "      <th>yD_err</th>\n",
       "    </tr>\n",
       "  </thead>\n",
       "  <tbody>\n",
       "    <tr>\n",
       "      <th>0</th>\n",
       "      <td>227</td>\n",
       "      <td>1852.922807</td>\n",
       "      <td>748.047370</td>\n",
       "      <td>3.546255</td>\n",
       "      <td>0.479887</td>\n",
       "      <td>0.230291</td>\n",
       "      <td>-1136.272827</td>\n",
       "      <td>78.762399</td>\n",
       "      <td>-531.365154</td>\n",
       "      <td>63.054650</td>\n",
       "    </tr>\n",
       "    <tr>\n",
       "      <th>1</th>\n",
       "      <td>226</td>\n",
       "      <td>1840.821985</td>\n",
       "      <td>1222.769991</td>\n",
       "      <td>2.886944</td>\n",
       "      <td>0.898735</td>\n",
       "      <td>0.807725</td>\n",
       "      <td>-1199.934654</td>\n",
       "      <td>167.400637</td>\n",
       "      <td>-590.009050</td>\n",
       "      <td>82.856803</td>\n",
       "    </tr>\n",
       "    <tr>\n",
       "      <th>2</th>\n",
       "      <td>225</td>\n",
       "      <td>1085.182543</td>\n",
       "      <td>1079.351890</td>\n",
       "      <td>4.114205</td>\n",
       "      <td>1.337248</td>\n",
       "      <td>1.788233</td>\n",
       "      <td>-1350.519860</td>\n",
       "      <td>369.781602</td>\n",
       "      <td>-296.196178</td>\n",
       "      <td>432.663479</td>\n",
       "    </tr>\n",
       "    <tr>\n",
       "      <th>3</th>\n",
       "      <td>224</td>\n",
       "      <td>1483.173787</td>\n",
       "      <td>1054.770389</td>\n",
       "      <td>3.858965</td>\n",
       "      <td>0.887477</td>\n",
       "      <td>0.787615</td>\n",
       "      <td>-1342.982450</td>\n",
       "      <td>208.868803</td>\n",
       "      <td>-449.993434</td>\n",
       "      <td>206.765546</td>\n",
       "    </tr>\n",
       "    <tr>\n",
       "      <th>4</th>\n",
       "      <td>223</td>\n",
       "      <td>1142.695742</td>\n",
       "      <td>1208.568273</td>\n",
       "      <td>3.798712</td>\n",
       "      <td>1.384868</td>\n",
       "      <td>1.917859</td>\n",
       "      <td>-1556.200717</td>\n",
       "      <td>525.745224</td>\n",
       "      <td>-258.928047</td>\n",
       "      <td>498.418828</td>\n",
       "    </tr>\n",
       "    <tr>\n",
       "      <th>5</th>\n",
       "      <td>222</td>\n",
       "      <td>2050.141305</td>\n",
       "      <td>1071.858298</td>\n",
       "      <td>3.555508</td>\n",
       "      <td>0.592639</td>\n",
       "      <td>0.351221</td>\n",
       "      <td>-1430.704565</td>\n",
       "      <td>136.951268</td>\n",
       "      <td>-560.419810</td>\n",
       "      <td>111.814806</td>\n",
       "    </tr>\n",
       "    <tr>\n",
       "      <th>6</th>\n",
       "      <td>221</td>\n",
       "      <td>1142.294819</td>\n",
       "      <td>1080.685470</td>\n",
       "      <td>3.874345</td>\n",
       "      <td>1.234064</td>\n",
       "      <td>1.522914</td>\n",
       "      <td>-1808.228021</td>\n",
       "      <td>531.653245</td>\n",
       "      <td>-303.594345</td>\n",
       "      <td>530.548438</td>\n",
       "    </tr>\n",
       "    <tr>\n",
       "      <th>7</th>\n",
       "      <td>220</td>\n",
       "      <td>1977.923403</td>\n",
       "      <td>601.172642</td>\n",
       "      <td>3.137134</td>\n",
       "      <td>0.368412</td>\n",
       "      <td>0.135728</td>\n",
       "      <td>-1750.480425</td>\n",
       "      <td>127.052278</td>\n",
       "      <td>-580.755845</td>\n",
       "      <td>76.812745</td>\n",
       "    </tr>\n",
       "  </tbody>\n",
       "</table>\n",
       "</div>"
      ],
      "text/plain": [
       "     λ            m        m_err      Cmid  Cmid_err  Cm covariance  \\\n",
       "0  227  1852.922807   748.047370  3.546255  0.479887       0.230291   \n",
       "1  226  1840.821985  1222.769991  2.886944  0.898735       0.807725   \n",
       "2  225  1085.182543  1079.351890  4.114205  1.337248       1.788233   \n",
       "3  224  1483.173787  1054.770389  3.858965  0.887477       0.787615   \n",
       "4  223  1142.695742  1208.568273  3.798712  1.384868       1.917859   \n",
       "5  222  2050.141305  1071.858298  3.555508  0.592639       0.351221   \n",
       "6  221  1142.294819  1080.685470  3.874345  1.234064       1.522914   \n",
       "7  220  1977.923403   601.172642  3.137134  0.368412       0.135728   \n",
       "\n",
       "            yN      yN_err          yD      yD_err  \n",
       "0 -1136.272827   78.762399 -531.365154   63.054650  \n",
       "1 -1199.934654  167.400637 -590.009050   82.856803  \n",
       "2 -1350.519860  369.781602 -296.196178  432.663479  \n",
       "3 -1342.982450  208.868803 -449.993434  206.765546  \n",
       "4 -1556.200717  525.745224 -258.928047  498.418828  \n",
       "5 -1430.704565  136.951268 -560.419810  111.814806  \n",
       "6 -1808.228021  531.653245 -303.594345  530.548438  \n",
       "7 -1750.480425  127.052278 -580.755845   76.812745  "
      ]
     },
     "metadata": {},
     "output_type": "display_data"
    }
   ],
   "source": [
    "# fit con sigmoide\n",
    "\n",
    "fit_results = []\n",
    "\n",
    "for i in spettro_ristretto.columns[1:]:\n",
    "    C = concentrazioni\n",
    "    θ = spettro_ristretto[i].to_numpy()\n",
    "\n",
    "    # guess\n",
    "    yD = θ[-1]\n",
    "    yN = θ[0] # NON è UN PARAMETRO\n",
    "    m = 2666\n",
    "    Cmid = np.mean(C)\n",
    "\n",
    "    # fit\n",
    "    print(i)\n",
    "    popt, pcov = curve_fit(sigmoid, C, θ, p0=[m, Cmid, yN, yD],maxfev=100000,sigma=25)\n",
    "    perr = np.sqrt(np.diag(pcov))\n",
    "    fit_results.append({\n",
    "        'λ': i,\n",
    "        'm': popt[0], 'm_err': perr[0],\n",
    "        'Cmid': popt[1], 'Cmid_err': perr[1],\n",
    "        'Cm covariance': pcov[1, 1],\n",
    "        'yN': popt[2], 'yN_err': perr[2],\n",
    "        'yD': popt[3], 'yD_err': perr[3],\n",
    "    })\n",
    "\n",
    "fit_df = pd.DataFrame(fit_results)\n",
    "display(fit_df)"
   ]
  },
  {
   "cell_type": "code",
   "execution_count": 64,
   "id": "c7f7a321",
   "metadata": {},
   "outputs": [
    {
     "data": {
      "application/vnd.plotly.v1+json": {
       "config": {
        "plotlyServerURL": "https://plot.ly"
       },
       "data": [
        {
         "line": {
          "color": "rgb(13, 8, 135)"
         },
         "mode": "lines",
         "name": "Fit 227 nm",
         "type": "scatter",
         "x": {
          "bdata": "AAAAAAAAAABHEe+rS+ejP0cR76tL57M/6pnmgfHavT9HEe+rS+fDP5nV6pYe4cg/6pnmgfHazT8eL3E2YmrRP0cR76tL59M/cPNsITVk1j+Z1eqWHuHYP8K3aAwIXts/6pnmgfHa3T8KPrJ77SvgPx4vcTZiauE/MyAw8dao4j9HEe+rS+fjP1sCrmbAJeU/cPNsITVk5j+E5CvcqaLnP5nV6pYe4eg/rcapUZMf6j/Ct2gMCF7rP9aoJ8d8nOw/6pnmgfHa7T//iqU8ZhnvPwo+snvtK/A/lLYR2SfL8D8eL3E2YmrxP6in0JOcCfI/MyAw8dao8j+9mI9OEUjzP0cR76tL5/M/0YlOCYaG9D9bAq5mwCX1P+Z6DcT6xPU/cPNsITVk9j/6a8x+bwP3P4TkK9ypovc/D12LOeRB+D+Z1eqWHuH4PyNOSvRYgPk/rcapUZMf+j83Pwmvzb76P8K3aAwIXvs/TDDIaUL9+z/WqCfHfJz8P2AhhyS3O/0/6pnmgfHa/T91EkbfK3r+P/+KpTxmGf8/iQMFmqC4/z8KPrJ77SsAQE/6YaqKewBAlLYR2SfLAEDZcsEHxRoBQB4vcTZiagFAY+sgZf+5AUCop9CTnAkCQO1jgMI5WQJAMyAw8daoAkB43N8fdPgCQL2Yj04RSANAAlU/fa6XA0BHEe+rS+cDQIzNntroNgRA0YlOCYaGBEAWRv43I9YEQFsCrmbAJQVAob5dlV11BUDmeg3E+sQFQCs3vfKXFAZAcPNsITVkBkC1rxxQ0rMGQPprzH5vAwdAPyh8rQxTB0CE5CvcqaIHQMmg2wpH8gdAD12LOeRBCEBUGTtogZEIQJnV6pYe4QhA3pGaxbswCUAjTkr0WIAJQGgK+iL2zwlArcapUZMfCkDyglmAMG8KQDc/Ca/NvgpAffu43WoOC0DCt2gMCF4LQAd0GDulrQtATDDIaUL9C0CR7HeY30wMQNaoJ8d8nAxAG2XX9RnsDEBgIYcktzsNQKXdNlNUiw1A6pnmgfHaDUAwVpawjioOQHUSRt8reg5Aus71DcnJDkD/iqU8ZhkPQERHVWsDaQ9AiQMFmqC4D0DnX1rkHgQQQAo+snvtKxBALBwKE7xTEEBP+mGqinsQQHHYuUFZoxBAlLYR2SfLEEC2lGlw9vIQQNlywQfFGhFA/FAZn5NCEUAeL3E2YmoRQEENyc0wkhFAY+sgZf+5EUCGyXj8zeERQKin0JOcCRJAy4UoK2sxEkDtY4DCOVkSQBBC2FkIgRJAMyAw8daoEkBV/oeIpdASQHjc3x90+BJAmro3t0IgE0C9mI9OEUgTQN925+XfbxNAAlU/fa6XE0AkM5cUfb8TQEcR76tL5xNAau9GQxoPFECMzZ7a6DYUQK+r9nG3XhRA0YlOCYaGFED0Z6agVK4UQBZG/jcj1hRAOSRWz/H9FEBbAq5mwCUVQH7gBf6OTRVAob5dlV11FUDDnLUsLJ0VQOZ6DcT6xBVACFllW8nsFUArN73ylxQWQE0VFYpmPBZAcPNsITVkFkCS0cS4A4wWQLWvHFDSsxZA2I1056DbFkD6a8x+bwMXQB1KJBY+KxdAPyh8rQxTF0BiBtRE23oXQITkK9ypohdAp8KDc3jKF0DJoNsKR/IXQOx+M6IVGhhAD12LOeRBGEAxO+PQsmkYQFQZO2iBkRhAdveS/0+5GECZ1eqWHuEYQLuzQi7tCBlA3pGaxbswGUAAcPJcilgZQCNOSvRYgBlARiyiiyeoGUBoCvoi9s8ZQIvoUbrE9xlArcapUZMfGkDQpAHpYUcaQPKCWYAwbxpAFWGxF/+WGkA3Pwmvzb4aQFodYUac5hpAffu43WoOG0Cf2RB1OTYbQMK3aAwIXhtA5JXAo9aFG0AHdBg7pa0bQClScNJz1RtATDDIaUL9G0BuDiABESUcQJHsd5jfTBxAtMrPL650HEDWqCfHfJwcQPmGf15LxBxAG2XX9RnsHEA+Qy+N6BMdQGAhhyS3Ox1Ag//eu4VjHUCl3TZTVIsdQMi7juoisx1A6pnmgfHaHUANeD4ZwAIeQDBWlrCOKh5AUjTuR11SHkB1EkbfK3oeQJfwnXb6oR5Aus71DcnJHkDcrE2ll/EeQA==",
          "dtype": "f8"
         },
         "y": {
          "bdata": "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",
          "dtype": "f8"
         }
        },
        {
         "marker": {
          "color": "rgb(13, 8, 135)"
         },
         "mode": "markers",
         "name": "Exp 227 nm",
         "showlegend": false,
         "type": "scatter",
         "x": {
          "bdata": "AAAAAAAAAADhmKdr1Hj4P9jodNcUvwhAoJu+HS+sEkBrMvwKRoUYQNysTaWX8R5A",
          "dtype": "f8"
         },
         "y": {
          "bdata": "MD6zzx04kcBwvGlCh8qPwBBQ44/WeovA+EKeg1Ysh8Dwpui11MaBwPB10oknCYLA",
          "dtype": "f8"
         }
        },
        {
         "line": {
          "color": "rgb(83, 2, 162)"
         },
         "mode": "lines",
         "name": "Fit 226 nm",
         "type": "scatter",
         "x": {
          "bdata": "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",
          "dtype": "f8"
         },
         "y": {
          "bdata": "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",
          "dtype": "f8"
         }
        },
        {
         "marker": {
          "color": "rgb(83, 2, 162)"
         },
         "mode": "markers",
         "name": "Exp 226 nm",
         "showlegend": false,
         "type": "scatter",
         "x": {
          "bdata": "AAAAAAAAAADhmKdr1Hj4P9jodNcUvwhAoJu+HS+sEkBrMvwKRoUYQNysTaWX8R5A",
          "dtype": "f8"
         },
         "y": {
          "bdata": "NBosoCAHksBATD8aJgaPwHB5bCKbjozAAF2Ujm44hsCQPDNReLmCwPiWHV/r+YPA",
          "dtype": "f8"
         }
        },
        {
         "line": {
          "color": "rgb(138, 14, 162)"
         },
         "mode": "lines",
         "name": "Fit 225 nm",
         "type": "scatter",
         "x": {
          "bdata": "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",
          "dtype": "f8"
         },
         "y": {
          "bdata": "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",
          "dtype": "f8"
         }
        },
        {
         "marker": {
          "color": "rgb(138, 14, 162)"
         },
         "mode": "markers",
         "name": "Exp 225 nm",
         "showlegend": false,
         "type": "scatter",
         "x": {
          "bdata": "AAAAAAAAAADhmKdr1Hj4P9jodNcUvwhAoJu+HS+sEkBrMvwKRoUYQNysTaWX8R5A",
          "dtype": "f8"
         },
         "y": {
          "bdata": "bMv8fTMfk8AwxbREbTmQwIA3Ov5BLI7AUL/o4fLdiMBAcE0KCECBwOCzVmTMHH/A",
          "dtype": "f8"
         }
        },
        {
         "line": {
          "color": "rgb(184, 50, 137)"
         },
         "mode": "lines",
         "name": "Fit 224 nm",
         "type": "scatter",
         "x": {
          "bdata": "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",
          "dtype": "f8"
         },
         "y": {
          "bdata": "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",
          "dtype": "f8"
         }
        },
        {
         "marker": {
          "color": "rgb(184, 50, 137)"
         },
         "mode": "markers",
         "name": "Exp 224 nm",
         "showlegend": false,
         "type": "scatter",
         "x": {
          "bdata": "AAAAAAAAAADhmKdr1Hj4P9jodNcUvwhAoJu+HS+sEkBrMvwKRoUYQNysTaWX8R5A",
          "dtype": "f8"
         },
         "y": {
          "bdata": "pHzNW0Y3lMCw1wlO3BmRwOikBw5DU5DAMGfNpwz5iMAgjVvZjIOCwDCwUdP3R4HA",
          "dtype": "f8"
         }
        },
        {
         "line": {
          "color": "rgb(219, 92, 104)"
         },
         "mode": "lines",
         "name": "Fit 223 nm",
         "type": "scatter",
         "x": {
          "bdata": "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",
          "dtype": "f8"
         },
         "y": {
          "bdata": "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",
          "dtype": "f8"
         }
        },
        {
         "marker": {
          "color": "rgb(219, 92, 104)"
         },
         "mode": "markers",
         "name": "Exp 223 nm",
         "showlegend": false,
         "type": "scatter",
         "x": {
          "bdata": "AAAAAAAAAADhmKdr1Hj4P9jodNcUvwhAoJu+HS+sEkBrMvwKRoUYQNysTaWX8R5A",
          "dtype": "f8"
         },
         "y": {
          "bdata": "KJEwpR7JlcAImclmROyRwOikBw5DU5DAsJygKCgjisDgR8+GL41/wDDzeSuf0X3A",
          "dtype": "f8"
         }
        },
        {
         "line": {
          "color": "rgb(243, 137, 72)"
         },
         "mode": "lines",
         "name": "Fit 222 nm",
         "type": "scatter",
         "x": {
          "bdata": "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",
          "dtype": "f8"
         },
         "y": {
          "bdata": "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",
          "dtype": "f8"
         }
        },
        {
         "marker": {
          "color": "rgb(243, 137, 72)"
         },
         "mode": "markers",
         "name": "Exp 222 nm",
         "showlegend": false,
         "type": "scatter",
         "x": {
          "bdata": "AAAAAAAAAADhmKdr1Hj4P9jodNcUvwhAoJu+HS+sEkBrMvwKRoUYQNysTaWX8R5A",
          "dtype": "f8"
         },
         "y": {
          "bdata": "fPTCEORClsBgQQkj1hKTwBgu8hxlkJHAgF57+VlKicAQ7ArJY++CwACcwdztb4PA",
          "dtype": "f8"
         }
        },
        {
         "line": {
          "color": "rgb(252, 190, 44)"
         },
         "mode": "lines",
         "name": "Fit 221 nm",
         "type": "scatter",
         "x": {
          "bdata": "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",
          "dtype": "f8"
         },
         "y": {
          "bdata": "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",
          "dtype": "f8"
         }
        },
        {
         "marker": {
          "color": "rgb(252, 190, 44)"
         },
         "mode": "markers",
         "name": "Exp 221 nm",
         "showlegend": false,
         "type": "scatter",
         "x": {
          "bdata": "AAAAAAAAAADhmKdr1Hj4P9jodNcUvwhAoJu+HS+sEkBrMvwKRoUYQNysTaWX8R5A",
          "dtype": "f8"
         },
         "y": {
          "bdata": "3Ou/7bEpmcCo712660OVwCjLpmbf/JPAQOxptFtZisDgyfhp0wqHwOBUh7RjGIDA",
          "dtype": "f8"
         }
        },
        {
         "line": {
          "color": "rgb(240, 249, 33)"
         },
         "mode": "lines",
         "name": "Fit 220 nm",
         "type": "scatter",
         "x": {
          "bdata": "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",
          "dtype": "f8"
         },
         "y": {
          "bdata": "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",
          "dtype": "f8"
         }
        },
        {
         "marker": {
          "color": "rgb(240, 249, 33)"
         },
         "mode": "markers",
         "name": "Exp 220 nm",
         "showlegend": false,
         "type": "scatter",
         "x": {
          "bdata": "AAAAAAAAAADhmKdr1Hj4P9jodNcUvwhAoJu+HS+sEkBrMvwKRoUYQNysTaWX8R5A",
          "dtype": "f8"
         },
         "y": {
          "bdata": "nEAfI/JNmsBwi11IkpSWwOB2nyRCIJPAkP0NEcG2icBgF6D/qtSEwNBm5hAgp4PA",
          "dtype": "f8"
         }
        }
       ],
       "layout": {
        "height": 600,
        "legend": {
         "title": {
          "text": "λ [nm]"
         },
         "x": 1,
         "xanchor": "right",
         "y": 0,
         "yanchor": "bottom"
        },
        "template": {
         "data": {
          "bar": [
           {
            "error_x": {
             "color": "#2a3f5f"
            },
            "error_y": {
             "color": "#2a3f5f"
            },
            "marker": {
             "line": {
              "color": "#E5ECF6",
              "width": 0.5
             },
             "pattern": {
              "fillmode": "overlay",
              "size": 10,
              "solidity": 0.2
             }
            },
            "type": "bar"
           }
          ],
          "barpolar": [
           {
            "marker": {
             "line": {
              "color": "#E5ECF6",
              "width": 0.5
             },
             "pattern": {
              "fillmode": "overlay",
              "size": 10,
              "solidity": 0.2
             }
            },
            "type": "barpolar"
           }
          ],
          "carpet": [
           {
            "aaxis": {
             "endlinecolor": "#2a3f5f",
             "gridcolor": "white",
             "linecolor": "white",
             "minorgridcolor": "white",
             "startlinecolor": "#2a3f5f"
            },
            "baxis": {
             "endlinecolor": "#2a3f5f",
             "gridcolor": "white",
             "linecolor": "white",
             "minorgridcolor": "white",
             "startlinecolor": "#2a3f5f"
            },
            "type": "carpet"
           }
          ],
          "choropleth": [
           {
            "colorbar": {
             "outlinewidth": 0,
             "ticks": ""
            },
            "type": "choropleth"
           }
          ],
          "contour": [
           {
            "colorbar": {
             "outlinewidth": 0,
             "ticks": ""
            },
            "colorscale": [
             [
              0,
              "#0d0887"
             ],
             [
              0.1111111111111111,
              "#46039f"
             ],
             [
              0.2222222222222222,
              "#7201a8"
             ],
             [
              0.3333333333333333,
              "#9c179e"
             ],
             [
              0.4444444444444444,
              "#bd3786"
             ],
             [
              0.5555555555555556,
              "#d8576b"
             ],
             [
              0.6666666666666666,
              "#ed7953"
             ],
             [
              0.7777777777777778,
              "#fb9f3a"
             ],
             [
              0.8888888888888888,
              "#fdca26"
             ],
             [
              1,
              "#f0f921"
             ]
            ],
            "type": "contour"
           }
          ],
          "contourcarpet": [
           {
            "colorbar": {
             "outlinewidth": 0,
             "ticks": ""
            },
            "type": "contourcarpet"
           }
          ],
          "heatmap": [
           {
            "colorbar": {
             "outlinewidth": 0,
             "ticks": ""
            },
            "colorscale": [
             [
              0,
              "#0d0887"
             ],
             [
              0.1111111111111111,
              "#46039f"
             ],
             [
              0.2222222222222222,
              "#7201a8"
             ],
             [
              0.3333333333333333,
              "#9c179e"
             ],
             [
              0.4444444444444444,
              "#bd3786"
             ],
             [
              0.5555555555555556,
              "#d8576b"
             ],
             [
              0.6666666666666666,
              "#ed7953"
             ],
             [
              0.7777777777777778,
              "#fb9f3a"
             ],
             [
              0.8888888888888888,
              "#fdca26"
             ],
             [
              1,
              "#f0f921"
             ]
            ],
            "type": "heatmap"
           }
          ],
          "histogram": [
           {
            "marker": {
             "pattern": {
              "fillmode": "overlay",
              "size": 10,
              "solidity": 0.2
             }
            },
            "type": "histogram"
           }
          ],
          "histogram2d": [
           {
            "colorbar": {
             "outlinewidth": 0,
             "ticks": ""
            },
            "colorscale": [
             [
              0,
              "#0d0887"
             ],
             [
              0.1111111111111111,
              "#46039f"
             ],
             [
              0.2222222222222222,
              "#7201a8"
             ],
             [
              0.3333333333333333,
              "#9c179e"
             ],
             [
              0.4444444444444444,
              "#bd3786"
             ],
             [
              0.5555555555555556,
              "#d8576b"
             ],
             [
              0.6666666666666666,
              "#ed7953"
             ],
             [
              0.7777777777777778,
              "#fb9f3a"
             ],
             [
              0.8888888888888888,
              "#fdca26"
             ],
             [
              1,
              "#f0f921"
             ]
            ],
            "type": "histogram2d"
           }
          ],
          "histogram2dcontour": [
           {
            "colorbar": {
             "outlinewidth": 0,
             "ticks": ""
            },
            "colorscale": [
             [
              0,
              "#0d0887"
             ],
             [
              0.1111111111111111,
              "#46039f"
             ],
             [
              0.2222222222222222,
              "#7201a8"
             ],
             [
              0.3333333333333333,
              "#9c179e"
             ],
             [
              0.4444444444444444,
              "#bd3786"
             ],
             [
              0.5555555555555556,
              "#d8576b"
             ],
             [
              0.6666666666666666,
              "#ed7953"
             ],
             [
              0.7777777777777778,
              "#fb9f3a"
             ],
             [
              0.8888888888888888,
              "#fdca26"
             ],
             [
              1,
              "#f0f921"
             ]
            ],
            "type": "histogram2dcontour"
           }
          ],
          "mesh3d": [
           {
            "colorbar": {
             "outlinewidth": 0,
             "ticks": ""
            },
            "type": "mesh3d"
           }
          ],
          "parcoords": [
           {
            "line": {
             "colorbar": {
              "outlinewidth": 0,
              "ticks": ""
             }
            },
            "type": "parcoords"
           }
          ],
          "pie": [
           {
            "automargin": true,
            "type": "pie"
           }
          ],
          "scatter": [
           {
            "fillpattern": {
             "fillmode": "overlay",
             "size": 10,
             "solidity": 0.2
            },
            "type": "scatter"
           }
          ],
          "scatter3d": [
           {
            "line": {
             "colorbar": {
              "outlinewidth": 0,
              "ticks": ""
             }
            },
            "marker": {
             "colorbar": {
              "outlinewidth": 0,
              "ticks": ""
             }
            },
            "type": "scatter3d"
           }
          ],
          "scattercarpet": [
           {
            "marker": {
             "colorbar": {
              "outlinewidth": 0,
              "ticks": ""
             }
            },
            "type": "scattercarpet"
           }
          ],
          "scattergeo": [
           {
            "marker": {
             "colorbar": {
              "outlinewidth": 0,
              "ticks": ""
             }
            },
            "type": "scattergeo"
           }
          ],
          "scattergl": [
           {
            "marker": {
             "colorbar": {
              "outlinewidth": 0,
              "ticks": ""
             }
            },
            "type": "scattergl"
           }
          ],
          "scattermap": [
           {
            "marker": {
             "colorbar": {
              "outlinewidth": 0,
              "ticks": ""
             }
            },
            "type": "scattermap"
           }
          ],
          "scattermapbox": [
           {
            "marker": {
             "colorbar": {
              "outlinewidth": 0,
              "ticks": ""
             }
            },
            "type": "scattermapbox"
           }
          ],
          "scatterpolar": [
           {
            "marker": {
             "colorbar": {
              "outlinewidth": 0,
              "ticks": ""
             }
            },
            "type": "scatterpolar"
           }
          ],
          "scatterpolargl": [
           {
            "marker": {
             "colorbar": {
              "outlinewidth": 0,
              "ticks": ""
             }
            },
            "type": "scatterpolargl"
           }
          ],
          "scatterternary": [
           {
            "marker": {
             "colorbar": {
              "outlinewidth": 0,
              "ticks": ""
             }
            },
            "type": "scatterternary"
           }
          ],
          "surface": [
           {
            "colorbar": {
             "outlinewidth": 0,
             "ticks": ""
            },
            "colorscale": [
             [
              0,
              "#0d0887"
             ],
             [
              0.1111111111111111,
              "#46039f"
             ],
             [
              0.2222222222222222,
              "#7201a8"
             ],
             [
              0.3333333333333333,
              "#9c179e"
             ],
             [
              0.4444444444444444,
              "#bd3786"
             ],
             [
              0.5555555555555556,
              "#d8576b"
             ],
             [
              0.6666666666666666,
              "#ed7953"
             ],
             [
              0.7777777777777778,
              "#fb9f3a"
             ],
             [
              0.8888888888888888,
              "#fdca26"
             ],
             [
              1,
              "#f0f921"
             ]
            ],
            "type": "surface"
           }
          ],
          "table": [
           {
            "cells": {
             "fill": {
              "color": "#EBF0F8"
             },
             "line": {
              "color": "white"
             }
            },
            "header": {
             "fill": {
              "color": "#C8D4E3"
             },
             "line": {
              "color": "white"
             }
            },
            "type": "table"
           }
          ]
         },
         "layout": {
          "annotationdefaults": {
           "arrowcolor": "#2a3f5f",
           "arrowhead": 0,
           "arrowwidth": 1
          },
          "autotypenumbers": "strict",
          "coloraxis": {
           "colorbar": {
            "outlinewidth": 0,
            "ticks": ""
           }
          },
          "colorscale": {
           "diverging": [
            [
             0,
             "#8e0152"
            ],
            [
             0.1,
             "#c51b7d"
            ],
            [
             0.2,
             "#de77ae"
            ],
            [
             0.3,
             "#f1b6da"
            ],
            [
             0.4,
             "#fde0ef"
            ],
            [
             0.5,
             "#f7f7f7"
            ],
            [
             0.6,
             "#e6f5d0"
            ],
            [
             0.7,
             "#b8e186"
            ],
            [
             0.8,
             "#7fbc41"
            ],
            [
             0.9,
             "#4d9221"
            ],
            [
             1,
             "#276419"
            ]
           ],
           "sequential": [
            [
             0,
             "#0d0887"
            ],
            [
             0.1111111111111111,
             "#46039f"
            ],
            [
             0.2222222222222222,
             "#7201a8"
            ],
            [
             0.3333333333333333,
             "#9c179e"
            ],
            [
             0.4444444444444444,
             "#bd3786"
            ],
            [
             0.5555555555555556,
             "#d8576b"
            ],
            [
             0.6666666666666666,
             "#ed7953"
            ],
            [
             0.7777777777777778,
             "#fb9f3a"
            ],
            [
             0.8888888888888888,
             "#fdca26"
            ],
            [
             1,
             "#f0f921"
            ]
           ],
           "sequentialminus": [
            [
             0,
             "#0d0887"
            ],
            [
             0.1111111111111111,
             "#46039f"
            ],
            [
             0.2222222222222222,
             "#7201a8"
            ],
            [
             0.3333333333333333,
             "#9c179e"
            ],
            [
             0.4444444444444444,
             "#bd3786"
            ],
            [
             0.5555555555555556,
             "#d8576b"
            ],
            [
             0.6666666666666666,
             "#ed7953"
            ],
            [
             0.7777777777777778,
             "#fb9f3a"
            ],
            [
             0.8888888888888888,
             "#fdca26"
            ],
            [
             1,
             "#f0f921"
            ]
           ]
          },
          "colorway": [
           "#636efa",
           "#EF553B",
           "#00cc96",
           "#ab63fa",
           "#FFA15A",
           "#19d3f3",
           "#FF6692",
           "#B6E880",
           "#FF97FF",
           "#FECB52"
          ],
          "font": {
           "color": "#2a3f5f"
          },
          "geo": {
           "bgcolor": "white",
           "lakecolor": "white",
           "landcolor": "#E5ECF6",
           "showlakes": true,
           "showland": true,
           "subunitcolor": "white"
          },
          "hoverlabel": {
           "align": "left"
          },
          "hovermode": "closest",
          "mapbox": {
           "style": "light"
          },
          "paper_bgcolor": "white",
          "plot_bgcolor": "#E5ECF6",
          "polar": {
           "angularaxis": {
            "gridcolor": "white",
            "linecolor": "white",
            "ticks": ""
           },
           "bgcolor": "#E5ECF6",
           "radialaxis": {
            "gridcolor": "white",
            "linecolor": "white",
            "ticks": ""
           }
          },
          "scene": {
           "xaxis": {
            "backgroundcolor": "#E5ECF6",
            "gridcolor": "white",
            "gridwidth": 2,
            "linecolor": "white",
            "showbackground": true,
            "ticks": "",
            "zerolinecolor": "white"
           },
           "yaxis": {
            "backgroundcolor": "#E5ECF6",
            "gridcolor": "white",
            "gridwidth": 2,
            "linecolor": "white",
            "showbackground": true,
            "ticks": "",
            "zerolinecolor": "white"
           },
           "zaxis": {
            "backgroundcolor": "#E5ECF6",
            "gridcolor": "white",
            "gridwidth": 2,
            "linecolor": "white",
            "showbackground": true,
            "ticks": "",
            "zerolinecolor": "white"
           }
          },
          "shapedefaults": {
           "line": {
            "color": "#2a3f5f"
           }
          },
          "ternary": {
           "aaxis": {
            "gridcolor": "white",
            "linecolor": "white",
            "ticks": ""
           },
           "baxis": {
            "gridcolor": "white",
            "linecolor": "white",
            "ticks": ""
           },
           "bgcolor": "#E5ECF6",
           "caxis": {
            "gridcolor": "white",
            "linecolor": "white",
            "ticks": ""
           }
          },
          "title": {
           "x": 0.05
          },
          "xaxis": {
           "automargin": true,
           "gridcolor": "white",
           "linecolor": "white",
           "ticks": "",
           "title": {
            "standoff": 15
           },
           "zerolinecolor": "white",
           "zerolinewidth": 2
          },
          "yaxis": {
           "automargin": true,
           "gridcolor": "white",
           "linecolor": "white",
           "ticks": "",
           "title": {
            "standoff": 15
           },
           "zerolinecolor": "white",
           "zerolinewidth": 2
          }
         }
        },
        "width": 800,
        "xaxis": {
         "title": {
          "text": "Concentrazione [μM]"
         }
        },
        "yaxis": {
         "title": {
          "text": "θ (fit)"
         }
        }
       }
      }
     },
     "metadata": {},
     "output_type": "display_data"
    }
   ],
   "source": [
    "fig = go.Figure()\n",
    "\n",
    "C_plot = np.linspace(concentrazioni.min(), concentrazioni.max(), 200)\n",
    "\n",
    "for idx, row in fit_df.iterrows():\n",
    "    yN = row['yN']#spettro_ristretto.loc[0, row['λ']]\n",
    "    yD = row['yD'] #spettro_ristretto.loc[5, row['λ']]\n",
    "    # print(yN, yD)\n",
    "\n",
    "    m = row['m']\n",
    "    Cmid = row['Cmid']\n",
    "    θ_fit = sigmoid(C_plot, m, Cmid, yN, yD)\n",
    "    # Fit line\n",
    "    fig.add_trace(go.Scatter(\n",
    "        x=C_plot,\n",
    "        y=θ_fit,\n",
    "        mode='lines',\n",
    "        line=dict(color=colors[idx]),\n",
    "        name=f\"Fit {int(row['λ'])} nm\"\n",
    "    ))\n",
    "    # Experimental points\n",
    "    fig.add_trace(go.Scatter(\n",
    "        x=spettro_ristretto['Concentrazione'],\n",
    "        y=spettro_ristretto[row['λ']],\n",
    "        mode='markers',\n",
    "        marker=dict(color=colors[idx]),\n",
    "        name=f\"Exp {int(row['λ'])} nm\",\n",
    "        showlegend=False\n",
    "    ))\n",
    "\n",
    "fig.update_layout(\n",
    "    xaxis_title='Concentrazione [μM]',\n",
    "    yaxis_title='θ (fit)',\n",
    "    legend_title='λ [nm]',\n",
    "    height=600,\n",
    "    width=800,\n",
    "    legend=dict(\n",
    "        x=1,\n",
    "        y=0,\n",
    "        xanchor='right',\n",
    "        yanchor='bottom'\n",
    "    )\n",
    ")\n",
    "\n",
    "fig.show()"
   ]
  },
  {
   "cell_type": "code",
   "execution_count": 65,
   "id": "2b6fc423",
   "metadata": {},
   "outputs": [
    {
     "data": {
      "application/vnd.plotly.v1+json": {
       "config": {
        "plotlyServerURL": "https://plot.ly"
       },
       "data": [
        {
         "error_y": {
          "array": {
           "bdata": "THGmhXe23j9ytsrqb8LsP0LI05BeZfU/ih5iLzZm7D/0fqxRayj2P3POU6Pl9uI/HXTUvLm+8z9+YKH/EJTXPw==",
           "dtype": "f8"
          },
          "type": "data",
          "visible": true
         },
         "mode": "markers",
         "name": "Cmid",
         "type": "scatter",
         "x": {
          "bdata": "4wDiAOEA4ADfAN4A3QDcAA==",
          "dtype": "i2"
         },
         "y": {
          "bdata": "+iLgCbteDEDY+jkhdhgHQBh+KiTydBBAXEhgyCjfDkBPOsgNw2MOQISxrweucQxA0hha16j+DkB3jd2P2RgJQA==",
          "dtype": "f8"
         }
        },
        {
         "line": {
          "color": "red",
          "dash": "dash"
         },
         "mode": "lines",
         "name": "Mean Cmid",
         "type": "scatter",
         "x": {
          "bdata": "2wDjAOIA4QDgAN8A3gDdANwA5wA=",
          "dtype": "i2"
         },
         "y": [
          3.400395122841164,
          3.400395122841164,
          3.400395122841164,
          3.400395122841164,
          3.400395122841164,
          3.400395122841164,
          3.400395122841164,
          3.400395122841164,
          3.400395122841164,
          3.400395122841164
         ]
        },
        {
         "line": {
          "color": "red",
          "width": 0
         },
         "mode": "lines",
         "showlegend": false,
         "type": "scatter",
         "x": {
          "bdata": "2wDjAOIA4QDgAN8A3gDdANwA5wA=",
          "dtype": "i2"
         },
         "y": [
          3.0927059753738844,
          3.0927059753738844,
          3.0927059753738844,
          3.0927059753738844,
          3.0927059753738844,
          3.0927059753738844,
          3.0927059753738844,
          3.0927059753738844,
          3.0927059753738844,
          3.0927059753738844
         ]
        },
        {
         "fill": "tonexty",
         "fillcolor": "rgba(255,0,0,0.2)",
         "line": {
          "color": "red",
          "width": 0
         },
         "mode": "lines",
         "name": "Mean ± SEM",
         "type": "scatter",
         "x": {
          "bdata": "2wDjAOIA4QDgAN8A3gDdANwA5wA=",
          "dtype": "i2"
         },
         "y": [
          3.7080842703084436,
          3.7080842703084436,
          3.7080842703084436,
          3.7080842703084436,
          3.7080842703084436,
          3.7080842703084436,
          3.7080842703084436,
          3.7080842703084436,
          3.7080842703084436,
          3.7080842703084436
         ]
        }
       ],
       "layout": {
        "legend": {
         "title": {
          "text": "Legend"
         },
         "x": 1,
         "xanchor": "right",
         "y": 1,
         "yanchor": "top"
        },
        "template": {
         "data": {
          "bar": [
           {
            "error_x": {
             "color": "#2a3f5f"
            },
            "error_y": {
             "color": "#2a3f5f"
            },
            "marker": {
             "line": {
              "color": "#E5ECF6",
              "width": 0.5
             },
             "pattern": {
              "fillmode": "overlay",
              "size": 10,
              "solidity": 0.2
             }
            },
            "type": "bar"
           }
          ],
          "barpolar": [
           {
            "marker": {
             "line": {
              "color": "#E5ECF6",
              "width": 0.5
             },
             "pattern": {
              "fillmode": "overlay",
              "size": 10,
              "solidity": 0.2
             }
            },
            "type": "barpolar"
           }
          ],
          "carpet": [
           {
            "aaxis": {
             "endlinecolor": "#2a3f5f",
             "gridcolor": "white",
             "linecolor": "white",
             "minorgridcolor": "white",
             "startlinecolor": "#2a3f5f"
            },
            "baxis": {
             "endlinecolor": "#2a3f5f",
             "gridcolor": "white",
             "linecolor": "white",
             "minorgridcolor": "white",
             "startlinecolor": "#2a3f5f"
            },
            "type": "carpet"
           }
          ],
          "choropleth": [
           {
            "colorbar": {
             "outlinewidth": 0,
             "ticks": ""
            },
            "type": "choropleth"
           }
          ],
          "contour": [
           {
            "colorbar": {
             "outlinewidth": 0,
             "ticks": ""
            },
            "colorscale": [
             [
              0,
              "#0d0887"
             ],
             [
              0.1111111111111111,
              "#46039f"
             ],
             [
              0.2222222222222222,
              "#7201a8"
             ],
             [
              0.3333333333333333,
              "#9c179e"
             ],
             [
              0.4444444444444444,
              "#bd3786"
             ],
             [
              0.5555555555555556,
              "#d8576b"
             ],
             [
              0.6666666666666666,
              "#ed7953"
             ],
             [
              0.7777777777777778,
              "#fb9f3a"
             ],
             [
              0.8888888888888888,
              "#fdca26"
             ],
             [
              1,
              "#f0f921"
             ]
            ],
            "type": "contour"
           }
          ],
          "contourcarpet": [
           {
            "colorbar": {
             "outlinewidth": 0,
             "ticks": ""
            },
            "type": "contourcarpet"
           }
          ],
          "heatmap": [
           {
            "colorbar": {
             "outlinewidth": 0,
             "ticks": ""
            },
            "colorscale": [
             [
              0,
              "#0d0887"
             ],
             [
              0.1111111111111111,
              "#46039f"
             ],
             [
              0.2222222222222222,
              "#7201a8"
             ],
             [
              0.3333333333333333,
              "#9c179e"
             ],
             [
              0.4444444444444444,
              "#bd3786"
             ],
             [
              0.5555555555555556,
              "#d8576b"
             ],
             [
              0.6666666666666666,
              "#ed7953"
             ],
             [
              0.7777777777777778,
              "#fb9f3a"
             ],
             [
              0.8888888888888888,
              "#fdca26"
             ],
             [
              1,
              "#f0f921"
             ]
            ],
            "type": "heatmap"
           }
          ],
          "histogram": [
           {
            "marker": {
             "pattern": {
              "fillmode": "overlay",
              "size": 10,
              "solidity": 0.2
             }
            },
            "type": "histogram"
           }
          ],
          "histogram2d": [
           {
            "colorbar": {
             "outlinewidth": 0,
             "ticks": ""
            },
            "colorscale": [
             [
              0,
              "#0d0887"
             ],
             [
              0.1111111111111111,
              "#46039f"
             ],
             [
              0.2222222222222222,
              "#7201a8"
             ],
             [
              0.3333333333333333,
              "#9c179e"
             ],
             [
              0.4444444444444444,
              "#bd3786"
             ],
             [
              0.5555555555555556,
              "#d8576b"
             ],
             [
              0.6666666666666666,
              "#ed7953"
             ],
             [
              0.7777777777777778,
              "#fb9f3a"
             ],
             [
              0.8888888888888888,
              "#fdca26"
             ],
             [
              1,
              "#f0f921"
             ]
            ],
            "type": "histogram2d"
           }
          ],
          "histogram2dcontour": [
           {
            "colorbar": {
             "outlinewidth": 0,
             "ticks": ""
            },
            "colorscale": [
             [
              0,
              "#0d0887"
             ],
             [
              0.1111111111111111,
              "#46039f"
             ],
             [
              0.2222222222222222,
              "#7201a8"
             ],
             [
              0.3333333333333333,
              "#9c179e"
             ],
             [
              0.4444444444444444,
              "#bd3786"
             ],
             [
              0.5555555555555556,
              "#d8576b"
             ],
             [
              0.6666666666666666,
              "#ed7953"
             ],
             [
              0.7777777777777778,
              "#fb9f3a"
             ],
             [
              0.8888888888888888,
              "#fdca26"
             ],
             [
              1,
              "#f0f921"
             ]
            ],
            "type": "histogram2dcontour"
           }
          ],
          "mesh3d": [
           {
            "colorbar": {
             "outlinewidth": 0,
             "ticks": ""
            },
            "type": "mesh3d"
           }
          ],
          "parcoords": [
           {
            "line": {
             "colorbar": {
              "outlinewidth": 0,
              "ticks": ""
             }
            },
            "type": "parcoords"
           }
          ],
          "pie": [
           {
            "automargin": true,
            "type": "pie"
           }
          ],
          "scatter": [
           {
            "fillpattern": {
             "fillmode": "overlay",
             "size": 10,
             "solidity": 0.2
            },
            "type": "scatter"
           }
          ],
          "scatter3d": [
           {
            "line": {
             "colorbar": {
              "outlinewidth": 0,
              "ticks": ""
             }
            },
            "marker": {
             "colorbar": {
              "outlinewidth": 0,
              "ticks": ""
             }
            },
            "type": "scatter3d"
           }
          ],
          "scattercarpet": [
           {
            "marker": {
             "colorbar": {
              "outlinewidth": 0,
              "ticks": ""
             }
            },
            "type": "scattercarpet"
           }
          ],
          "scattergeo": [
           {
            "marker": {
             "colorbar": {
              "outlinewidth": 0,
              "ticks": ""
             }
            },
            "type": "scattergeo"
           }
          ],
          "scattergl": [
           {
            "marker": {
             "colorbar": {
              "outlinewidth": 0,
              "ticks": ""
             }
            },
            "type": "scattergl"
           }
          ],
          "scattermap": [
           {
            "marker": {
             "colorbar": {
              "outlinewidth": 0,
              "ticks": ""
             }
            },
            "type": "scattermap"
           }
          ],
          "scattermapbox": [
           {
            "marker": {
             "colorbar": {
              "outlinewidth": 0,
              "ticks": ""
             }
            },
            "type": "scattermapbox"
           }
          ],
          "scatterpolar": [
           {
            "marker": {
             "colorbar": {
              "outlinewidth": 0,
              "ticks": ""
             }
            },
            "type": "scatterpolar"
           }
          ],
          "scatterpolargl": [
           {
            "marker": {
             "colorbar": {
              "outlinewidth": 0,
              "ticks": ""
             }
            },
            "type": "scatterpolargl"
           }
          ],
          "scatterternary": [
           {
            "marker": {
             "colorbar": {
              "outlinewidth": 0,
              "ticks": ""
             }
            },
            "type": "scatterternary"
           }
          ],
          "surface": [
           {
            "colorbar": {
             "outlinewidth": 0,
             "ticks": ""
            },
            "colorscale": [
             [
              0,
              "#0d0887"
             ],
             [
              0.1111111111111111,
              "#46039f"
             ],
             [
              0.2222222222222222,
              "#7201a8"
             ],
             [
              0.3333333333333333,
              "#9c179e"
             ],
             [
              0.4444444444444444,
              "#bd3786"
             ],
             [
              0.5555555555555556,
              "#d8576b"
             ],
             [
              0.6666666666666666,
              "#ed7953"
             ],
             [
              0.7777777777777778,
              "#fb9f3a"
             ],
             [
              0.8888888888888888,
              "#fdca26"
             ],
             [
              1,
              "#f0f921"
             ]
            ],
            "type": "surface"
           }
          ],
          "table": [
           {
            "cells": {
             "fill": {
              "color": "#EBF0F8"
             },
             "line": {
              "color": "white"
             }
            },
            "header": {
             "fill": {
              "color": "#C8D4E3"
             },
             "line": {
              "color": "white"
             }
            },
            "type": "table"
           }
          ]
         },
         "layout": {
          "annotationdefaults": {
           "arrowcolor": "#2a3f5f",
           "arrowhead": 0,
           "arrowwidth": 1
          },
          "autotypenumbers": "strict",
          "coloraxis": {
           "colorbar": {
            "outlinewidth": 0,
            "ticks": ""
           }
          },
          "colorscale": {
           "diverging": [
            [
             0,
             "#8e0152"
            ],
            [
             0.1,
             "#c51b7d"
            ],
            [
             0.2,
             "#de77ae"
            ],
            [
             0.3,
             "#f1b6da"
            ],
            [
             0.4,
             "#fde0ef"
            ],
            [
             0.5,
             "#f7f7f7"
            ],
            [
             0.6,
             "#e6f5d0"
            ],
            [
             0.7,
             "#b8e186"
            ],
            [
             0.8,
             "#7fbc41"
            ],
            [
             0.9,
             "#4d9221"
            ],
            [
             1,
             "#276419"
            ]
           ],
           "sequential": [
            [
             0,
             "#0d0887"
            ],
            [
             0.1111111111111111,
             "#46039f"
            ],
            [
             0.2222222222222222,
             "#7201a8"
            ],
            [
             0.3333333333333333,
             "#9c179e"
            ],
            [
             0.4444444444444444,
             "#bd3786"
            ],
            [
             0.5555555555555556,
             "#d8576b"
            ],
            [
             0.6666666666666666,
             "#ed7953"
            ],
            [
             0.7777777777777778,
             "#fb9f3a"
            ],
            [
             0.8888888888888888,
             "#fdca26"
            ],
            [
             1,
             "#f0f921"
            ]
           ],
           "sequentialminus": [
            [
             0,
             "#0d0887"
            ],
            [
             0.1111111111111111,
             "#46039f"
            ],
            [
             0.2222222222222222,
             "#7201a8"
            ],
            [
             0.3333333333333333,
             "#9c179e"
            ],
            [
             0.4444444444444444,
             "#bd3786"
            ],
            [
             0.5555555555555556,
             "#d8576b"
            ],
            [
             0.6666666666666666,
             "#ed7953"
            ],
            [
             0.7777777777777778,
             "#fb9f3a"
            ],
            [
             0.8888888888888888,
             "#fdca26"
            ],
            [
             1,
             "#f0f921"
            ]
           ]
          },
          "colorway": [
           "#636efa",
           "#EF553B",
           "#00cc96",
           "#ab63fa",
           "#FFA15A",
           "#19d3f3",
           "#FF6692",
           "#B6E880",
           "#FF97FF",
           "#FECB52"
          ],
          "font": {
           "color": "#2a3f5f"
          },
          "geo": {
           "bgcolor": "white",
           "lakecolor": "white",
           "landcolor": "#E5ECF6",
           "showlakes": true,
           "showland": true,
           "subunitcolor": "white"
          },
          "hoverlabel": {
           "align": "left"
          },
          "hovermode": "closest",
          "mapbox": {
           "style": "light"
          },
          "paper_bgcolor": "white",
          "plot_bgcolor": "#E5ECF6",
          "polar": {
           "angularaxis": {
            "gridcolor": "white",
            "linecolor": "white",
            "ticks": ""
           },
           "bgcolor": "#E5ECF6",
           "radialaxis": {
            "gridcolor": "white",
            "linecolor": "white",
            "ticks": ""
           }
          },
          "scene": {
           "xaxis": {
            "backgroundcolor": "#E5ECF6",
            "gridcolor": "white",
            "gridwidth": 2,
            "linecolor": "white",
            "showbackground": true,
            "ticks": "",
            "zerolinecolor": "white"
           },
           "yaxis": {
            "backgroundcolor": "#E5ECF6",
            "gridcolor": "white",
            "gridwidth": 2,
            "linecolor": "white",
            "showbackground": true,
            "ticks": "",
            "zerolinecolor": "white"
           },
           "zaxis": {
            "backgroundcolor": "#E5ECF6",
            "gridcolor": "white",
            "gridwidth": 2,
            "linecolor": "white",
            "showbackground": true,
            "ticks": "",
            "zerolinecolor": "white"
           }
          },
          "shapedefaults": {
           "line": {
            "color": "#2a3f5f"
           }
          },
          "ternary": {
           "aaxis": {
            "gridcolor": "white",
            "linecolor": "white",
            "ticks": ""
           },
           "baxis": {
            "gridcolor": "white",
            "linecolor": "white",
            "ticks": ""
           },
           "bgcolor": "#E5ECF6",
           "caxis": {
            "gridcolor": "white",
            "linecolor": "white",
            "ticks": ""
           }
          },
          "title": {
           "x": 0.05
          },
          "xaxis": {
           "automargin": true,
           "gridcolor": "white",
           "linecolor": "white",
           "ticks": "",
           "title": {
            "standoff": 15
           },
           "zerolinecolor": "white",
           "zerolinewidth": 2
          },
          "yaxis": {
           "automargin": true,
           "gridcolor": "white",
           "linecolor": "white",
           "ticks": "",
           "title": {
            "standoff": 15
           },
           "zerolinecolor": "white",
           "zerolinewidth": 2
          }
         }
        },
        "xaxis": {
         "title": {
          "text": "λ [nm]"
         }
        },
        "yaxis": {
         "range": [
          0,
          2
         ],
         "title": {
          "text": "Cmid"
         }
        }
       }
      }
     },
     "metadata": {},
     "output_type": "display_data"
    }
   ],
   "source": [
    "# Extract Cmid and its error\n",
    "Cmid_values = fit_df['Cmid']\n",
    "Cmid_errors = fit_df['Cmid_err']\n",
    "\n",
    "# Compute mean and standard error of the mean\n",
    "weights = 1/Cmid_errors**2\n",
    "mean_Cmid = np.average(Cmid_values, weights=weights)\n",
    "mean_Cmid_err = np.sqrt(np.sum(weights*((Cmid_values-mean_Cmid)**2))/np.sum(weights))\n",
    "\n",
    "\n",
    "\n",
    "fig = go.Figure()\n",
    "\n",
    "# markers\n",
    "fig.add_trace(go.Scatter(\n",
    "    x=fit_df['λ'],\n",
    "    y=Cmid_values,\n",
    "    error_y=dict(type='data', array=Cmid_errors, visible=True),\n",
    "    mode='markers',\n",
    "    name='Cmid'\n",
    "))\n",
    "\n",
    "mean_line_points = np.concatenate([[219],fit_df['λ'],[231]])\n",
    "# mean dashed line\n",
    "fig.add_trace(go.Scatter(\n",
    "    x= mean_line_points,\n",
    "    y=[mean_Cmid]*len(mean_line_points),\n",
    "    mode='lines',\n",
    "    line=dict(color='red', dash='dash'),\n",
    "    name='Mean Cmid'\n",
    "))\n",
    "\n",
    "# bottom\n",
    "fig.add_trace(go.Scatter(\n",
    "    x=mean_line_points,\n",
    "    y=[mean_Cmid - mean_Cmid_err]*len(mean_line_points),\n",
    "    mode='lines',\n",
    "    line=dict(color='red', width=0),\n",
    "    showlegend=False\n",
    "))\n",
    "#top\n",
    "fig.add_trace(go.Scatter(\n",
    "    x=mean_line_points,\n",
    "    y=[mean_Cmid + mean_Cmid_err]*len(mean_line_points),\n",
    "    mode='lines',\n",
    "    fill='tonexty',\n",
    "    fillcolor='rgba(255,0,0,0.2)',\n",
    "    line=dict(color='red', width=0),\n",
    "    name='Mean ± SEM'\n",
    "))\n",
    "\n",
    "fig.update_layout(\n",
    "    xaxis_title='λ [nm]',\n",
    "    yaxis_title='Cmid',\n",
    "    # title='Cmid vs λ with Mean and SEM',\n",
    "    legend_title='Legend',\n",
    "    yaxis=dict(range=[0, 2]),\n",
    "    legend=dict(\n",
    "        x=1,\n",
    "        y=1,\n",
    "        xanchor='right',\n",
    "        yanchor='top'\n",
    "    )\n",
    ")\n",
    "\n",
    "fig.show()"
   ]
  },
  {
   "cell_type": "code",
   "execution_count": 66,
   "id": "7fe6c783",
   "metadata": {},
   "outputs": [
    {
     "data": {
      "application/vnd.plotly.v1+json": {
       "config": {
        "plotlyServerURL": "https://plot.ly"
       },
       "data": [
        {
         "error_y": {
          "array": {
           "bdata": "2XtTA2Fgh0DZJWl4FBuTQDic1lVo3ZBAiTXN4BR7kEBg5HzpReKSQAbiu+Vuv5BA8yfq673ikEBfwxSSYcmCQA==",
           "dtype": "f8"
          },
          "type": "data",
          "visible": true
         },
         "mode": "markers",
         "name": "m",
         "type": "scatter",
         "x": {
          "bdata": "4wDiAOEA4ADfAN4A3QDcAA==",
          "dtype": "i2"
         },
         "y": {
          "bdata": "Uzlj9LDznEC64ni2ScOcQMM6muy69JBADgg19bEsl0BqjbdwyNqRQCwvJllIBKBACGYl5S3ZkUBFmJKQseeeQA==",
          "dtype": "f8"
         }
        },
        {
         "line": {
          "color": "red",
          "dash": "dash"
         },
         "mode": "lines",
         "name": "Mean m",
         "type": "scatter",
         "x": {
          "bdata": "2wDjAOIA4QDgAN8A3gDdANwA5AA=",
          "dtype": "i2"
         },
         "y": [
          1685.0414817577182,
          1685.0414817577182,
          1685.0414817577182,
          1685.0414817577182,
          1685.0414817577182,
          1685.0414817577182,
          1685.0414817577182,
          1685.0414817577182,
          1685.0414817577182,
          1685.0414817577182
         ]
        },
        {
         "line": {
          "color": "red",
          "width": 0
         },
         "mode": "lines",
         "showlegend": false,
         "type": "scatter",
         "x": {
          "bdata": "2wDjAOIA4QDgAN8A3gDdANwA5AA=",
          "dtype": "i2"
         },
         "y": [
          1324.7527072844566,
          1324.7527072844566,
          1324.7527072844566,
          1324.7527072844566,
          1324.7527072844566,
          1324.7527072844566,
          1324.7527072844566,
          1324.7527072844566,
          1324.7527072844566,
          1324.7527072844566
         ]
        },
        {
         "fill": "tonexty",
         "fillcolor": "rgba(255,0,0,0.2)",
         "line": {
          "color": "red",
          "width": 0
         },
         "mode": "lines",
         "name": "Mean ± SEM",
         "type": "scatter",
         "x": {
          "bdata": "2wDjAOIA4QDgAN8A3gDdANwA5AA=",
          "dtype": "i2"
         },
         "y": [
          2045.3302562309798,
          2045.3302562309798,
          2045.3302562309798,
          2045.3302562309798,
          2045.3302562309798,
          2045.3302562309798,
          2045.3302562309798,
          2045.3302562309798,
          2045.3302562309798,
          2045.3302562309798
         ]
        }
       ],
       "layout": {
        "legend": {
         "title": {
          "text": "Legend"
         },
         "x": 1,
         "xanchor": "right",
         "y": 1,
         "yanchor": "top"
        },
        "template": {
         "data": {
          "bar": [
           {
            "error_x": {
             "color": "#2a3f5f"
            },
            "error_y": {
             "color": "#2a3f5f"
            },
            "marker": {
             "line": {
              "color": "#E5ECF6",
              "width": 0.5
             },
             "pattern": {
              "fillmode": "overlay",
              "size": 10,
              "solidity": 0.2
             }
            },
            "type": "bar"
           }
          ],
          "barpolar": [
           {
            "marker": {
             "line": {
              "color": "#E5ECF6",
              "width": 0.5
             },
             "pattern": {
              "fillmode": "overlay",
              "size": 10,
              "solidity": 0.2
             }
            },
            "type": "barpolar"
           }
          ],
          "carpet": [
           {
            "aaxis": {
             "endlinecolor": "#2a3f5f",
             "gridcolor": "white",
             "linecolor": "white",
             "minorgridcolor": "white",
             "startlinecolor": "#2a3f5f"
            },
            "baxis": {
             "endlinecolor": "#2a3f5f",
             "gridcolor": "white",
             "linecolor": "white",
             "minorgridcolor": "white",
             "startlinecolor": "#2a3f5f"
            },
            "type": "carpet"
           }
          ],
          "choropleth": [
           {
            "colorbar": {
             "outlinewidth": 0,
             "ticks": ""
            },
            "type": "choropleth"
           }
          ],
          "contour": [
           {
            "colorbar": {
             "outlinewidth": 0,
             "ticks": ""
            },
            "colorscale": [
             [
              0,
              "#0d0887"
             ],
             [
              0.1111111111111111,
              "#46039f"
             ],
             [
              0.2222222222222222,
              "#7201a8"
             ],
             [
              0.3333333333333333,
              "#9c179e"
             ],
             [
              0.4444444444444444,
              "#bd3786"
             ],
             [
              0.5555555555555556,
              "#d8576b"
             ],
             [
              0.6666666666666666,
              "#ed7953"
             ],
             [
              0.7777777777777778,
              "#fb9f3a"
             ],
             [
              0.8888888888888888,
              "#fdca26"
             ],
             [
              1,
              "#f0f921"
             ]
            ],
            "type": "contour"
           }
          ],
          "contourcarpet": [
           {
            "colorbar": {
             "outlinewidth": 0,
             "ticks": ""
            },
            "type": "contourcarpet"
           }
          ],
          "heatmap": [
           {
            "colorbar": {
             "outlinewidth": 0,
             "ticks": ""
            },
            "colorscale": [
             [
              0,
              "#0d0887"
             ],
             [
              0.1111111111111111,
              "#46039f"
             ],
             [
              0.2222222222222222,
              "#7201a8"
             ],
             [
              0.3333333333333333,
              "#9c179e"
             ],
             [
              0.4444444444444444,
              "#bd3786"
             ],
             [
              0.5555555555555556,
              "#d8576b"
             ],
             [
              0.6666666666666666,
              "#ed7953"
             ],
             [
              0.7777777777777778,
              "#fb9f3a"
             ],
             [
              0.8888888888888888,
              "#fdca26"
             ],
             [
              1,
              "#f0f921"
             ]
            ],
            "type": "heatmap"
           }
          ],
          "histogram": [
           {
            "marker": {
             "pattern": {
              "fillmode": "overlay",
              "size": 10,
              "solidity": 0.2
             }
            },
            "type": "histogram"
           }
          ],
          "histogram2d": [
           {
            "colorbar": {
             "outlinewidth": 0,
             "ticks": ""
            },
            "colorscale": [
             [
              0,
              "#0d0887"
             ],
             [
              0.1111111111111111,
              "#46039f"
             ],
             [
              0.2222222222222222,
              "#7201a8"
             ],
             [
              0.3333333333333333,
              "#9c179e"
             ],
             [
              0.4444444444444444,
              "#bd3786"
             ],
             [
              0.5555555555555556,
              "#d8576b"
             ],
             [
              0.6666666666666666,
              "#ed7953"
             ],
             [
              0.7777777777777778,
              "#fb9f3a"
             ],
             [
              0.8888888888888888,
              "#fdca26"
             ],
             [
              1,
              "#f0f921"
             ]
            ],
            "type": "histogram2d"
           }
          ],
          "histogram2dcontour": [
           {
            "colorbar": {
             "outlinewidth": 0,
             "ticks": ""
            },
            "colorscale": [
             [
              0,
              "#0d0887"
             ],
             [
              0.1111111111111111,
              "#46039f"
             ],
             [
              0.2222222222222222,
              "#7201a8"
             ],
             [
              0.3333333333333333,
              "#9c179e"
             ],
             [
              0.4444444444444444,
              "#bd3786"
             ],
             [
              0.5555555555555556,
              "#d8576b"
             ],
             [
              0.6666666666666666,
              "#ed7953"
             ],
             [
              0.7777777777777778,
              "#fb9f3a"
             ],
             [
              0.8888888888888888,
              "#fdca26"
             ],
             [
              1,
              "#f0f921"
             ]
            ],
            "type": "histogram2dcontour"
           }
          ],
          "mesh3d": [
           {
            "colorbar": {
             "outlinewidth": 0,
             "ticks": ""
            },
            "type": "mesh3d"
           }
          ],
          "parcoords": [
           {
            "line": {
             "colorbar": {
              "outlinewidth": 0,
              "ticks": ""
             }
            },
            "type": "parcoords"
           }
          ],
          "pie": [
           {
            "automargin": true,
            "type": "pie"
           }
          ],
          "scatter": [
           {
            "fillpattern": {
             "fillmode": "overlay",
             "size": 10,
             "solidity": 0.2
            },
            "type": "scatter"
           }
          ],
          "scatter3d": [
           {
            "line": {
             "colorbar": {
              "outlinewidth": 0,
              "ticks": ""
             }
            },
            "marker": {
             "colorbar": {
              "outlinewidth": 0,
              "ticks": ""
             }
            },
            "type": "scatter3d"
           }
          ],
          "scattercarpet": [
           {
            "marker": {
             "colorbar": {
              "outlinewidth": 0,
              "ticks": ""
             }
            },
            "type": "scattercarpet"
           }
          ],
          "scattergeo": [
           {
            "marker": {
             "colorbar": {
              "outlinewidth": 0,
              "ticks": ""
             }
            },
            "type": "scattergeo"
           }
          ],
          "scattergl": [
           {
            "marker": {
             "colorbar": {
              "outlinewidth": 0,
              "ticks": ""
             }
            },
            "type": "scattergl"
           }
          ],
          "scattermap": [
           {
            "marker": {
             "colorbar": {
              "outlinewidth": 0,
              "ticks": ""
             }
            },
            "type": "scattermap"
           }
          ],
          "scattermapbox": [
           {
            "marker": {
             "colorbar": {
              "outlinewidth": 0,
              "ticks": ""
             }
            },
            "type": "scattermapbox"
           }
          ],
          "scatterpolar": [
           {
            "marker": {
             "colorbar": {
              "outlinewidth": 0,
              "ticks": ""
             }
            },
            "type": "scatterpolar"
           }
          ],
          "scatterpolargl": [
           {
            "marker": {
             "colorbar": {
              "outlinewidth": 0,
              "ticks": ""
             }
            },
            "type": "scatterpolargl"
           }
          ],
          "scatterternary": [
           {
            "marker": {
             "colorbar": {
              "outlinewidth": 0,
              "ticks": ""
             }
            },
            "type": "scatterternary"
           }
          ],
          "surface": [
           {
            "colorbar": {
             "outlinewidth": 0,
             "ticks": ""
            },
            "colorscale": [
             [
              0,
              "#0d0887"
             ],
             [
              0.1111111111111111,
              "#46039f"
             ],
             [
              0.2222222222222222,
              "#7201a8"
             ],
             [
              0.3333333333333333,
              "#9c179e"
             ],
             [
              0.4444444444444444,
              "#bd3786"
             ],
             [
              0.5555555555555556,
              "#d8576b"
             ],
             [
              0.6666666666666666,
              "#ed7953"
             ],
             [
              0.7777777777777778,
              "#fb9f3a"
             ],
             [
              0.8888888888888888,
              "#fdca26"
             ],
             [
              1,
              "#f0f921"
             ]
            ],
            "type": "surface"
           }
          ],
          "table": [
           {
            "cells": {
             "fill": {
              "color": "#EBF0F8"
             },
             "line": {
              "color": "white"
             }
            },
            "header": {
             "fill": {
              "color": "#C8D4E3"
             },
             "line": {
              "color": "white"
             }
            },
            "type": "table"
           }
          ]
         },
         "layout": {
          "annotationdefaults": {
           "arrowcolor": "#2a3f5f",
           "arrowhead": 0,
           "arrowwidth": 1
          },
          "autotypenumbers": "strict",
          "coloraxis": {
           "colorbar": {
            "outlinewidth": 0,
            "ticks": ""
           }
          },
          "colorscale": {
           "diverging": [
            [
             0,
             "#8e0152"
            ],
            [
             0.1,
             "#c51b7d"
            ],
            [
             0.2,
             "#de77ae"
            ],
            [
             0.3,
             "#f1b6da"
            ],
            [
             0.4,
             "#fde0ef"
            ],
            [
             0.5,
             "#f7f7f7"
            ],
            [
             0.6,
             "#e6f5d0"
            ],
            [
             0.7,
             "#b8e186"
            ],
            [
             0.8,
             "#7fbc41"
            ],
            [
             0.9,
             "#4d9221"
            ],
            [
             1,
             "#276419"
            ]
           ],
           "sequential": [
            [
             0,
             "#0d0887"
            ],
            [
             0.1111111111111111,
             "#46039f"
            ],
            [
             0.2222222222222222,
             "#7201a8"
            ],
            [
             0.3333333333333333,
             "#9c179e"
            ],
            [
             0.4444444444444444,
             "#bd3786"
            ],
            [
             0.5555555555555556,
             "#d8576b"
            ],
            [
             0.6666666666666666,
             "#ed7953"
            ],
            [
             0.7777777777777778,
             "#fb9f3a"
            ],
            [
             0.8888888888888888,
             "#fdca26"
            ],
            [
             1,
             "#f0f921"
            ]
           ],
           "sequentialminus": [
            [
             0,
             "#0d0887"
            ],
            [
             0.1111111111111111,
             "#46039f"
            ],
            [
             0.2222222222222222,
             "#7201a8"
            ],
            [
             0.3333333333333333,
             "#9c179e"
            ],
            [
             0.4444444444444444,
             "#bd3786"
            ],
            [
             0.5555555555555556,
             "#d8576b"
            ],
            [
             0.6666666666666666,
             "#ed7953"
            ],
            [
             0.7777777777777778,
             "#fb9f3a"
            ],
            [
             0.8888888888888888,
             "#fdca26"
            ],
            [
             1,
             "#f0f921"
            ]
           ]
          },
          "colorway": [
           "#636efa",
           "#EF553B",
           "#00cc96",
           "#ab63fa",
           "#FFA15A",
           "#19d3f3",
           "#FF6692",
           "#B6E880",
           "#FF97FF",
           "#FECB52"
          ],
          "font": {
           "color": "#2a3f5f"
          },
          "geo": {
           "bgcolor": "white",
           "lakecolor": "white",
           "landcolor": "#E5ECF6",
           "showlakes": true,
           "showland": true,
           "subunitcolor": "white"
          },
          "hoverlabel": {
           "align": "left"
          },
          "hovermode": "closest",
          "mapbox": {
           "style": "light"
          },
          "paper_bgcolor": "white",
          "plot_bgcolor": "#E5ECF6",
          "polar": {
           "angularaxis": {
            "gridcolor": "white",
            "linecolor": "white",
            "ticks": ""
           },
           "bgcolor": "#E5ECF6",
           "radialaxis": {
            "gridcolor": "white",
            "linecolor": "white",
            "ticks": ""
           }
          },
          "scene": {
           "xaxis": {
            "backgroundcolor": "#E5ECF6",
            "gridcolor": "white",
            "gridwidth": 2,
            "linecolor": "white",
            "showbackground": true,
            "ticks": "",
            "zerolinecolor": "white"
           },
           "yaxis": {
            "backgroundcolor": "#E5ECF6",
            "gridcolor": "white",
            "gridwidth": 2,
            "linecolor": "white",
            "showbackground": true,
            "ticks": "",
            "zerolinecolor": "white"
           },
           "zaxis": {
            "backgroundcolor": "#E5ECF6",
            "gridcolor": "white",
            "gridwidth": 2,
            "linecolor": "white",
            "showbackground": true,
            "ticks": "",
            "zerolinecolor": "white"
           }
          },
          "shapedefaults": {
           "line": {
            "color": "#2a3f5f"
           }
          },
          "ternary": {
           "aaxis": {
            "gridcolor": "white",
            "linecolor": "white",
            "ticks": ""
           },
           "baxis": {
            "gridcolor": "white",
            "linecolor": "white",
            "ticks": ""
           },
           "bgcolor": "#E5ECF6",
           "caxis": {
            "gridcolor": "white",
            "linecolor": "white",
            "ticks": ""
           }
          },
          "title": {
           "x": 0.05
          },
          "xaxis": {
           "automargin": true,
           "gridcolor": "white",
           "linecolor": "white",
           "ticks": "",
           "title": {
            "standoff": 15
           },
           "zerolinecolor": "white",
           "zerolinewidth": 2
          },
          "yaxis": {
           "automargin": true,
           "gridcolor": "white",
           "linecolor": "white",
           "ticks": "",
           "title": {
            "standoff": 15
           },
           "zerolinecolor": "white",
           "zerolinewidth": 2
          }
         }
        },
        "xaxis": {
         "title": {
          "text": "λ [nm]"
         }
        },
        "yaxis": {
         "range": [
          0,
          5000
         ],
         "title": {
          "text": "m"
         }
        }
       }
      }
     },
     "metadata": {},
     "output_type": "display_data"
    }
   ],
   "source": [
    "# Extract m and its error\n",
    "m_values = fit_df['m']\n",
    "m_errors = fit_df['m_err']\n",
    "\n",
    "# Compute mean and standard error of the mean\n",
    "weights_m = 1 / m_errors**2\n",
    "mean_m = np.average(m_values, weights=weights_m)\n",
    "mean_m_err = np.sqrt(np.sum(weights_m * ((m_values - mean_m) ** 2)) / np.sum(weights_m))\n",
    "\n",
    "fig = go.Figure()\n",
    "\n",
    "# markers with error bars\n",
    "fig.add_trace(go.Scatter(\n",
    "    x=fit_df['λ'],\n",
    "    y=m_values,\n",
    "    error_y=dict(type='data', array=m_errors, visible=True),\n",
    "    mode='markers',\n",
    "    name='m'\n",
    "))\n",
    "\n",
    "mean_line_points = np.concatenate([[λmin-1], fit_df['λ'], [λmax+1]])\n",
    "# mean dashed line\n",
    "fig.add_trace(go.Scatter(\n",
    "    x=mean_line_points,\n",
    "    y=[mean_m]*len(mean_line_points),\n",
    "    mode='lines',\n",
    "    line=dict(color='red', dash='dash'),\n",
    "    name='Mean m'\n",
    "))\n",
    "\n",
    "# bottom\n",
    "fig.add_trace(go.Scatter(\n",
    "    x=mean_line_points,\n",
    "    y=[mean_m - mean_m_err]*len(mean_line_points),\n",
    "    mode='lines',\n",
    "    line=dict(color='red', width=0),\n",
    "    showlegend=False\n",
    "))\n",
    "# top\n",
    "fig.add_trace(go.Scatter(\n",
    "    x=mean_line_points,\n",
    "    y=[mean_m + mean_m_err]*len(mean_line_points),\n",
    "    mode='lines',\n",
    "    fill='tonexty',\n",
    "    fillcolor='rgba(255,0,0,0.2)',\n",
    "    line=dict(color='red', width=0),\n",
    "    name='Mean ± SEM'\n",
    "))\n",
    "\n",
    "fig.update_layout(\n",
    "    xaxis_title='λ [nm]',\n",
    "    yaxis_title='m',\n",
    "    legend_title='Legend',\n",
    "    yaxis=dict(range=[0, 5000]),\n",
    "    legend=dict(\n",
    "        x=1,\n",
    "        y=1,\n",
    "        xanchor='right',\n",
    "        yanchor='top'\n",
    "    )\n",
    ")\n",
    "\n",
    "fig.show()\n"
   ]
  },
  {
   "cell_type": "code",
   "execution_count": 67,
   "id": "bd2b45ed",
   "metadata": {},
   "outputs": [
    {
     "name": "stdout",
     "output_type": "stream",
     "text": [
      "Cmid:  3.4004 ± 0.3077 M\n",
      "m:  1685.04 ± 360.29 LJ/mol2\n",
      "6725.721093129976 1561.5414905662954\n"
     ]
    }
   ],
   "source": [
    "# stampa medie\n",
    "\n",
    "# print(\"Media pesata di Cmid:\", mean_Cmid)\n",
    "# print(\"Errore sulla media pesata di Cmid:\", mean_Cmid_err)\n",
    "# print(\"Media pesata di m:\", mean_A)\n",
    "# print(\"Errore sulla media pesata di m:\", mean_A_err)\n",
    "\n",
    "print('Cmid: ',final_val(mean_Cmid,mean_Cmid_err,4,udm='M'))\n",
    "print('m: ', final_val(mean_m,mean_m_err, udm='LJ/mol2'))\n",
    "\n",
    "ΔG = m * mean_Cmid\n",
    "sigmaΔG = ΔG*np.sqrt((mean_m_err/mean_m)**2 + (mean_Cmid_err/mean_Cmid)**2)\n",
    "\n",
    "print(ΔG,sigmaΔG)"
   ]
  }
 ],
 "metadata": {
  "kernelspec": {
   "display_name": "Python 3",
   "language": "python",
   "name": "python3"
  },
  "language_info": {
   "codemirror_mode": {
    "name": "ipython",
    "version": 3
   },
   "file_extension": ".py",
   "mimetype": "text/x-python",
   "name": "python",
   "nbconvert_exporter": "python",
   "pygments_lexer": "ipython3",
   "version": "3.13.0"
  }
 },
 "nbformat": 4,
 "nbformat_minor": 5
}
