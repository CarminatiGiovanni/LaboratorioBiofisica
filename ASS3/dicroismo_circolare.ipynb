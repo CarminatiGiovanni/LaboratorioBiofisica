{
 "cells": [
  {
   "cell_type": "code",
   "execution_count": 1,
   "id": "971be5e5",
   "metadata": {},
   "outputs": [],
   "source": [
    "from matplotlib import pyplot as plt\n",
    "import numpy as np\n",
    "import pandas as pd\n",
    "import plotly.express as px\n",
    "import os\n",
    "import sys\n",
    "import plotly.graph_objects as go \n",
    "dir_path = os.path.abspath('')\n",
    "sys.path.append(dir_path + '/../')\n",
    "from labbiofisica import Interpolazione, final_val"
   ]
  },
  {
   "cell_type": "code",
   "execution_count": 13,
   "id": "2db55056",
   "metadata": {},
   "outputs": [
    {
     "data": {
      "application/vnd.plotly.v1+json": {
       "config": {
        "plotlyServerURL": "https://plot.ly"
       },
       "data": [
        {
         "line": {
          "color": "#f3c63a"
         },
         "mode": "lines",
         "name": "C0",
         "type": "scatter",
         "x": {
          "bdata": "AAAAAABAcEAAAAAAADBwQAAAAAAAIHBAAAAAAAAQcEAAAAAAAABwQAAAAAAA4G9AAAAAAADAb0AAAAAAAKBvQAAAAAAAgG9AAAAAAABgb0AAAAAAAEBvQAAAAAAAIG9AAAAAAAAAb0AAAAAAAOBuQAAAAAAAwG5AAAAAAACgbkAAAAAAAIBuQAAAAAAAYG5AAAAAAABAbkAAAAAAACBuQAAAAAAAAG5AAAAAAADgbUAAAAAAAMBtQAAAAAAAoG1AAAAAAACAbUAAAAAAAGBtQAAAAAAAQG1AAAAAAAAgbUAAAAAAAABtQAAAAAAA4GxAAAAAAADAbEAAAAAAAKBsQAAAAAAAgGxAAAAAAABgbEAAAAAAAEBsQAAAAAAAIGxAAAAAAAAAbEAAAAAAAOBrQAAAAAAAwGtAAAAAAACga0AAAAAAAIBrQAAAAAAAYGtAAAAAAABAa0AAAAAAACBrQAAAAAAAAGtAAAAAAADgakAAAAAAAMBqQAAAAAAAoGpAAAAAAACAakAAAAAAAGBqQAAAAAAAQGpAAAAAAAAgakAAAAAAAABqQAAAAAAA4GlAAAAAAADAaUAAAAAAAKBpQAAAAAAAgGlAAAAAAABgaUAAAAAAAEBpQAAAAAAAIGlA",
          "dtype": "f8"
         },
         "y": {
          "bdata": "lPYGX5hMlb9R2ht8YTKVv8Iv9fOmIpW/5L1qZcIvlb9VE0TdByCVv/3ZjxSRYZW/4IRCBBxClb9NofMau0SVv3Noke18P5W//dmPFJFhlb+2hHzQs1mVv9cS8kHPZpW/qdkDrcCQlb/xLhfxnZiVv1oSoKaWrZW/oWez6nO1lb9F9dbAVgmWv4gRwqONI5a/Ykok0csolr/x9EpZhjiWv1Fmg0wycpa/Ap8fRgiPlr/YnlkSoKaWv6pla32R0Ja/8bp+wW7Ylr+7D0BqEyeXv8eA7PXuj5e/YtaLoZxol79JgJpattaXvxPVWwNbJZi/Tn/2I0VkmL9jYvNxbaiYvw9iZwqd15i/v5oDBHP0mL/+fcaFAyGZv8wLsI9OXZm/mpmZmZmZmb+qQ26GG/CZv+5fWWlSCpq/7iWN0Tqqmr8p0CfyJOmav2iz6nO1FZu/FLNeDOVEm799lufB3Vmbv8xdS8gHPZu/xOv6Bbthm78Us14M5USbv8Tr+gW7YZu/s0EmGTkLm7/RlnMpriqbv0YldQKaCJu/QuxMofMam79T0O0ljdGav1t8CoDxDJq/9gt2w7ZFmb/+fcaFAyGZv2+BBMWPMZe/mYHK+PcZl7/HLlG9NbCVv3+HokCfyJO/",
          "dtype": "f8"
         }
        },
        {
         "line": {
          "color": "#fe9b2d"
         },
         "mode": "lines",
         "name": "C1",
         "type": "scatter",
         "x": {
          "bdata": "AAAAAABAcEAAAAAAADBwQAAAAAAAIHBAAAAAAAAQcEAAAAAAAABwQAAAAAAA4G9AAAAAAADAb0AAAAAAAKBvQAAAAAAAgG9AAAAAAABgb0AAAAAAAEBvQAAAAAAAIG9AAAAAAAAAb0AAAAAAAOBuQAAAAAAAwG5AAAAAAACgbkAAAAAAAIBuQAAAAAAAYG5AAAAAAABAbkAAAAAAACBuQAAAAAAAAG5AAAAAAADgbUAAAAAAAMBtQAAAAAAAoG1AAAAAAACAbUAAAAAAAGBtQAAAAAAAQG1AAAAAAAAgbUAAAAAAAABtQAAAAAAA4GxAAAAAAADAbEAAAAAAAKBsQAAAAAAAgGxAAAAAAABgbEAAAAAAAEBsQAAAAAAAIGxAAAAAAAAAbEAAAAAAAOBrQAAAAAAAwGtAAAAAAACga0AAAAAAAIBrQAAAAAAAYGtAAAAAAABAa0AAAAAAACBrQAAAAAAAAGtAAAAAAADgakAAAAAAAMBqQAAAAAAAoGpAAAAAAACAakAAAAAAAGBqQAAAAAAAQGpAAAAAAAAgakAAAAAAAABqQAAAAAAA4GlAAAAAAADAaUAAAAAAAKBpQAAAAAAAgGlAAAAAAABgaUAAAAAAAEBpQAAAAAAAIGlA",
          "dtype": "f8"
         },
         "y": {
          "bdata": "9S1zuiwmlr+pnzcVqTCWvxv1EI3uIJa/QbyuX7Ablr8XvOgrSDOWv2aDTDJyFpa/G/UQje4glr9mg0wychaWv89m1edqK5a/G/UQje4glr+u2F92Tx6Wv9Of/UgRGZa/9S1zuiwmlr+E2JlC5zWWv4CfceFASJa/e2ZJgJpalr/Du1zEd2KWvwoRcAhVapa/c/T4vU1/lr9vu9Bcp5GWv7LXuz/eq5a/jBAebRyxlr+lLEMc6+KWv5mByvj3GZe/3J212y40l79enWNA9nqXvwZkr3d/vJe/KPIk6ZrJl7/6uDZUjPOXvxPVWwNbJZi/PZtVn6utmL9fKcsQx7qYv6JFtvP91Ji/JEVkWMUbmb8ofoy5awmZv7PviuB/K5m/hbacS3FVmb/pYP2fw3yZv921hHzQs5m/6SYxCKwcmr8k0csolluavxgmUwWjkpq/1QloImx4mr90XmOXqN6av/ZdEfxvJZu/dF5jl6jemr+ze/KwUGuav56Y9WIoJ5q/GCZTBaOSmr8DQ1a3ek6av+4ljdE6qpq/OWItPgXAmL9vu9Bcp5GWv8vz4O6s3Za/ObTIdr6far/LLa2GxD2Wv2L4iJgSSZS/Zmt9kdCWk79/2T15WKiVv7ZKsDic+ZW/",
          "dtype": "f8"
         }
        },
        {
         "line": {
          "color": "#f36315"
         },
         "mode": "lines",
         "name": "C2",
         "type": "scatter",
         "x": {
          "bdata": "AAAAAABAcEAAAAAAADBwQAAAAAAAIHBAAAAAAAAQcEAAAAAAAABwQAAAAAAA4G9AAAAAAADAb0AAAAAAAKBvQAAAAAAAgG9AAAAAAABgb0AAAAAAAEBvQAAAAAAAIG9AAAAAAAAAb0AAAAAAAOBuQAAAAAAAwG5AAAAAAACgbkAAAAAAAIBuQAAAAAAAYG5AAAAAAABAbkAAAAAAACBuQAAAAAAAAG5AAAAAAADgbUAAAAAAAMBtQAAAAAAAoG1AAAAAAACAbUAAAAAAAGBtQAAAAAAAQG1AAAAAAAAgbUAAAAAAAABtQAAAAAAA4GxAAAAAAADAbEAAAAAAAKBsQAAAAAAAgGxAAAAAAABgbEAAAAAAAEBsQAAAAAAAIGxAAAAAAAAAbEAAAAAAAOBrQAAAAAAAwGtAAAAAAACga0AAAAAAAIBrQAAAAAAAYGtAAAAAAABAa0AAAAAAACBrQAAAAAAAAGtAAAAAAADgakAAAAAAAMBqQAAAAAAAoGpAAAAAAACAakAAAAAAAGBqQAAAAAAAQGpAAAAAAAAgakAAAAAAAABqQAAAAAAA4GlAAAAAAADAaUAAAAAAAKBpQAAAAAAAgGlAAAAAAABgaUAAAAAAAEBpQAAAAAAAIGlA",
          "dtype": "f8"
         },
         "y": {
          "bdata": "6IL6ljldlr/H9IQlHlCWv8f0hCUeUJa/oS3nUlxVlr8Sg8DKoUWWv+27IvjfSpa/yy2thsQ9lr8OSphp+1eWv+27IvjfSpa/e2ZJgJpalr/tuyL430qWvw5KmGn7V5a/e2ZJgJpalr84Sl6dY0CWvxKDwMqhRZa/UWaDTDJylr+d9L7xtWeWvyyf5Xlwd5a/J2a9GMqJlr8Cnx9GCI+Wv0n0Morllpa/9fOmIhXGlr/xun7BbtiWv5mByvj3GZe/d/NUh9wMl79JumbyzTaXv065wrtcxJe/H4DUJk7ul7/tDb4wmSqYv/q4NlSM85e/Z5sb0xOWmL9jYvNxbaiYvz2bVZ+rrZi/eEXwv5XsmL+7YduizAaZvyAMPPceLpm/7ZklAWpqmb/tmSUBamqZv7snDwu1ppm/6SYxCKwcmr8YYB+duvKZvz0nvW987Zm/ke18PzVemr+eXinLEMeav3SYLy/APpq/opdRLLe0mr9rYKsEi8OZv33Qs1n1uZq/v2A3bFuUmb/u68A5I0qbv07RkVz+Q5q/G/UQje4glr/gvg6cM6KUv5hp+1dWmpS/YviImBJJlL+yhSAHJcyUv6orn+V5cJe/MbYQ5KCEmb9z9Pi9TX+Wv/ryAuyjU5e/",
          "dtype": "f8"
         }
        },
        {
         "line": {
          "color": "#d93806"
         },
         "mode": "lines",
         "name": "C3",
         "type": "scatter",
         "x": {
          "bdata": "AAAAAABAcEAAAAAAADBwQAAAAAAAIHBAAAAAAAAQcEAAAAAAAABwQAAAAAAA4G9AAAAAAADAb0AAAAAAAKBvQAAAAAAAgG9AAAAAAABgb0AAAAAAAEBvQAAAAAAAIG9AAAAAAAAAb0AAAAAAAOBuQAAAAAAAwG5AAAAAAACgbkAAAAAAAIBuQAAAAAAAYG5AAAAAAABAbkAAAAAAACBuQAAAAAAAAG5AAAAAAADgbUAAAAAAAMBtQAAAAAAAoG1AAAAAAACAbUAAAAAAAGBtQAAAAAAAQG1AAAAAAAAgbUAAAAAAAABtQAAAAAAA4GxAAAAAAADAbEAAAAAAAKBsQAAAAAAAgGxAAAAAAABgbEAAAAAAAEBsQAAAAAAAIGxAAAAAAAAAbEAAAAAAAOBrQAAAAAAAwGtAAAAAAACga0AAAAAAAIBrQAAAAAAAYGtAAAAAAABAa0AAAAAAACBrQAAAAAAAAGtAAAAAAADgakAAAAAAAMBqQAAAAAAAoGpAAAAAAACAakAAAAAAAGBqQAAAAAAAQGpAAAAAAAAgakAAAAAAAABqQAAAAAAA4GlAAAAAAADAaUAAAAAAAKBpQAAAAAAAgGlAAAAAAABgaUAAAAAAAEBpQAAAAAAAIGlA",
          "dtype": "f8"
         },
         "y": {
          "bdata": "w7tcxHdilr93LSEf9GyWv8O7XMR3Ypa/x/SEJR5Qlr8KEXAIVWqWv8O7XMR3Ypa/Vp+rrdhflr9RZoNMMnKWvwoRcAhVapa/ChFwCFVqlr8KEXAIVWqWv1afq63YX5a/LJ/leXB3lr8G2EenrnyWvyyf5Xlwd5a/BthHp658lr9NLVvri4SWv3P0+L1Nf5a/2J5ZEqCmlr/5LM+Du7OWv/ksz4O7s5a/y/Pg7qzdlr/L8+DurN2Wv2+BBMWPMZe/LGUZ4lgXl7/1udqK/WWXvxMPKJtyhZe/VisTfqmfl79OucK7XMSXv/q4NlSM85e/5ZttbkxPmL+A8Qwa+ieYv/63kh0bgZi/iSmRRC+jmL+zKVd4l4uYv1rwoq8gzZi/yAxUxr/PmL94RfC/leyYvw9iZwqd15i/Un5S7dPxmL/D0ytlGeKYv+EoeXWOAZm/ngyOklfnmL94CyQofoyZv0rSNZNvtpm/Sphp+1dWmr+JtfgUAOOZv69Cyk+qfZq/s7W+SGjLmb8P7s7abReav79gN2xblJm/YJM16iEajb/9wcBz7+GSv28vaYzWUZW/RbsKKT+plr/L8+DurN2Wv66ek943vpa/D+7O2m0Xmr/Y8PRKWYaYv88UOq+xS5S/",
          "dtype": "f8"
         }
        },
        {
         "line": {
          "color": "#b11901"
         },
         "mode": "lines",
         "name": "C4",
         "type": "scatter",
         "x": {
          "bdata": "AAAAAABAcEAAAAAAADBwQAAAAAAAIHBAAAAAAAAQcEAAAAAAAABwQAAAAAAA4G9AAAAAAADAb0AAAAAAAKBvQAAAAAAAgG9AAAAAAABgb0AAAAAAAEBvQAAAAAAAIG9AAAAAAAAAb0AAAAAAAOBuQAAAAAAAwG5AAAAAAACgbkAAAAAAAIBuQAAAAAAAYG5AAAAAAABAbkAAAAAAACBuQAAAAAAAAG5AAAAAAADgbUAAAAAAAMBtQAAAAAAAoG1AAAAAAACAbUAAAAAAAGBtQAAAAAAAQG1AAAAAAAAgbUAAAAAAAABtQAAAAAAA4GxAAAAAAADAbEAAAAAAAKBsQAAAAAAAgGxAAAAAAABgbEAAAAAAAEBsQAAAAAAAIGxAAAAAAAAAbEAAAAAAAOBrQAAAAAAAwGtAAAAAAACga0AAAAAAAIBrQAAAAAAAYGtAAAAAAABAa0AAAAAAACBrQAAAAAAAAGtAAAAAAADgakAAAAAAAMBqQAAAAAAAoGpAAAAAAACAakAAAAAAAGBqQAAAAAAAQGpAAAAAAAAgakAAAAAAAABqQAAAAAAA4GlAAAAAAADAaUAAAAAAAKBpQAAAAAAAgGlAAAAAAABgaUAAAAAAAEBpQAAAAAAAIGlA",
          "dtype": "f8"
         },
         "y": {
          "bdata": "dy0hH/Rslr/kSdI1k2+Wvyyf5Xlwd5a/LJ/leXB3lr/kSdI1k2+WvwoRcAhVapa/5EnSNZNvlr+d9L7xtWeWv+RJ0jWTb5a/v4I0Y9F0lr+d9L7xtWeWv7+CNGPRdJa/4BCq1OyBlr9z9Pi9TX+Wv5m7lpAPepa/ukkMAiuHlr/c14FzRpSWv0n0Morllpa/thDkoISZlr+y17s/3quWvx/0bFZ9rpa/rp6T3je+lr9e1y/YDduWv6HzGrtE9Za/3J212y40l78CZVOu8C6XvxuBeF2/YJe/hGQBE7h1l7/xgLIpV3iXv5lH/mDguZe/Cp3X2CWql79BDkqYafuXv8dGIF7XL5i/7Q2+MJkqmL/DDfj8MEKYv8x/SL99HZi/6dSVz/I8mL/U8ZiByviXv51GWipvR5i/PZtVn6utmL9KRs7CnnaYv8x/SL99HZi/OWItPgXAmL9KDAIrhxaZv/59xoUDIZm/fH4YITzamL/YtiizQSaZv0oMAiuHFpm/Y2LzcW2omL9Hj9/b9GefvxkcJa/OMaC/NlmjHqLRjb+lFHR7SWOUv1Fmg0wycpa/WmQ730+Nl78Sa/EpAMaTv7aEfNCzWZW/N2xblNkgk7/sL7snDwuVv88sCVBTy5a/",
          "dtype": "f8"
         }
        },
        {
         "line": {
          "color": "#7a0402"
         },
         "mode": "lines",
         "name": "C5",
         "type": "scatter",
         "x": {
          "bdata": "AAAAAABAcEAAAAAAADBwQAAAAAAAIHBAAAAAAAAQcEAAAAAAAABwQAAAAAAA4G9AAAAAAADAb0AAAAAAAKBvQAAAAAAAgG9AAAAAAABgb0AAAAAAAEBvQAAAAAAAIG9AAAAAAAAAb0AAAAAAAOBuQAAAAAAAwG5AAAAAAACgbkAAAAAAAIBuQAAAAAAAYG5AAAAAAABAbkAAAAAAACBuQAAAAAAAAG5AAAAAAADgbUAAAAAAAMBtQAAAAAAAoG1AAAAAAACAbUAAAAAAAGBtQAAAAAAAQG1AAAAAAAAgbUAAAAAAAABtQAAAAAAA4GxAAAAAAADAbEAAAAAAAKBsQAAAAAAAgGxAAAAAAABgbEAAAAAAAEBsQAAAAAAAIGxAAAAAAAAAbEAAAAAAAOBrQAAAAAAAwGtAAAAAAACga0AAAAAAAIBrQAAAAAAAYGtAAAAAAABAa0AAAAAAACBrQAAAAAAAAGtAAAAAAADgakAAAAAAAMBqQAAAAAAAoGpAAAAAAACAakAAAAAAAGBqQAAAAAAAQGpAAAAAAAAgakAAAAAAAABqQAAAAAAA4GlAAAAAAADAaUAAAAAAAKBpQAAAAAAAgGlAAAAAAABgaUAAAAAAAEBpQAAAAAAAIGlA",
          "dtype": "f8"
         },
         "y": {
          "bdata": "LJ/leXB3lr8w2A3bFmWWvwoRcAhVapa/MNgN2xZllr93LSEf9GyWv+iC+pY5XZa/mbuWkA96lr8sn+V5cHeWv5m7lpAPepa/UWaDTDJylr9z9Pi9TX+Wv1Fmg0wycpa/TS1b64uElr9z9Pi9TX+Wv+AQqtTsgZa/4BCq1OyBlr8jLZW3I5yWvyMtlbcjnJa/Iy2VtyOclr9BguLHmLuWv7LXuz/eq5a/iNf1C3bDlr8TSfQyiuWWv+2BVmDI6pa/I/PIHww8l7+duvJZngeXvyPzyB8MPJe/6Q5iZwqdl7/l1TkGZK+Xvw/W/znMl5e/+rg2VIzzl7+IY13cRgOYv9gqweJw5pe/E9VbA1slmL+/1M+bilSYv0VHcvkP6Ze/Fw6EZAETmL+3nEtxVdmXv51GWipvR5i/Z9Xnaiv2l794f7xXrUyYv/63kh0bgZi/NSkF3V7SmL9nmxvTE5aYvzG2EOSghJm/PWGJB5RNmb+7Jw8LtaaZv5I/GHjuPZy/+grSjEXTmb+WsgxxrIurvx6KAn0iT6K/ZjGx+bg2lL8012mkpfKWv1OWIY51cZu/MEymCkYllb/s3R/vVSuTv4OG/gkuVpS/rp6T3je+lr9ftTLhl/qZv7qD2JlC55W/",
          "dtype": "f8"
         }
        }
       ],
       "layout": {
        "height": 600,
        "legend": {
         "title": {
          "text": "Dataset"
         }
        },
        "template": {
         "data": {
          "bar": [
           {
            "error_x": {
             "color": "#2a3f5f"
            },
            "error_y": {
             "color": "#2a3f5f"
            },
            "marker": {
             "line": {
              "color": "#E5ECF6",
              "width": 0.5
             },
             "pattern": {
              "fillmode": "overlay",
              "size": 10,
              "solidity": 0.2
             }
            },
            "type": "bar"
           }
          ],
          "barpolar": [
           {
            "marker": {
             "line": {
              "color": "#E5ECF6",
              "width": 0.5
             },
             "pattern": {
              "fillmode": "overlay",
              "size": 10,
              "solidity": 0.2
             }
            },
            "type": "barpolar"
           }
          ],
          "carpet": [
           {
            "aaxis": {
             "endlinecolor": "#2a3f5f",
             "gridcolor": "white",
             "linecolor": "white",
             "minorgridcolor": "white",
             "startlinecolor": "#2a3f5f"
            },
            "baxis": {
             "endlinecolor": "#2a3f5f",
             "gridcolor": "white",
             "linecolor": "white",
             "minorgridcolor": "white",
             "startlinecolor": "#2a3f5f"
            },
            "type": "carpet"
           }
          ],
          "choropleth": [
           {
            "colorbar": {
             "outlinewidth": 0,
             "ticks": ""
            },
            "type": "choropleth"
           }
          ],
          "contour": [
           {
            "colorbar": {
             "outlinewidth": 0,
             "ticks": ""
            },
            "colorscale": [
             [
              0,
              "#0d0887"
             ],
             [
              0.1111111111111111,
              "#46039f"
             ],
             [
              0.2222222222222222,
              "#7201a8"
             ],
             [
              0.3333333333333333,
              "#9c179e"
             ],
             [
              0.4444444444444444,
              "#bd3786"
             ],
             [
              0.5555555555555556,
              "#d8576b"
             ],
             [
              0.6666666666666666,
              "#ed7953"
             ],
             [
              0.7777777777777778,
              "#fb9f3a"
             ],
             [
              0.8888888888888888,
              "#fdca26"
             ],
             [
              1,
              "#f0f921"
             ]
            ],
            "type": "contour"
           }
          ],
          "contourcarpet": [
           {
            "colorbar": {
             "outlinewidth": 0,
             "ticks": ""
            },
            "type": "contourcarpet"
           }
          ],
          "heatmap": [
           {
            "colorbar": {
             "outlinewidth": 0,
             "ticks": ""
            },
            "colorscale": [
             [
              0,
              "#0d0887"
             ],
             [
              0.1111111111111111,
              "#46039f"
             ],
             [
              0.2222222222222222,
              "#7201a8"
             ],
             [
              0.3333333333333333,
              "#9c179e"
             ],
             [
              0.4444444444444444,
              "#bd3786"
             ],
             [
              0.5555555555555556,
              "#d8576b"
             ],
             [
              0.6666666666666666,
              "#ed7953"
             ],
             [
              0.7777777777777778,
              "#fb9f3a"
             ],
             [
              0.8888888888888888,
              "#fdca26"
             ],
             [
              1,
              "#f0f921"
             ]
            ],
            "type": "heatmap"
           }
          ],
          "histogram": [
           {
            "marker": {
             "pattern": {
              "fillmode": "overlay",
              "size": 10,
              "solidity": 0.2
             }
            },
            "type": "histogram"
           }
          ],
          "histogram2d": [
           {
            "colorbar": {
             "outlinewidth": 0,
             "ticks": ""
            },
            "colorscale": [
             [
              0,
              "#0d0887"
             ],
             [
              0.1111111111111111,
              "#46039f"
             ],
             [
              0.2222222222222222,
              "#7201a8"
             ],
             [
              0.3333333333333333,
              "#9c179e"
             ],
             [
              0.4444444444444444,
              "#bd3786"
             ],
             [
              0.5555555555555556,
              "#d8576b"
             ],
             [
              0.6666666666666666,
              "#ed7953"
             ],
             [
              0.7777777777777778,
              "#fb9f3a"
             ],
             [
              0.8888888888888888,
              "#fdca26"
             ],
             [
              1,
              "#f0f921"
             ]
            ],
            "type": "histogram2d"
           }
          ],
          "histogram2dcontour": [
           {
            "colorbar": {
             "outlinewidth": 0,
             "ticks": ""
            },
            "colorscale": [
             [
              0,
              "#0d0887"
             ],
             [
              0.1111111111111111,
              "#46039f"
             ],
             [
              0.2222222222222222,
              "#7201a8"
             ],
             [
              0.3333333333333333,
              "#9c179e"
             ],
             [
              0.4444444444444444,
              "#bd3786"
             ],
             [
              0.5555555555555556,
              "#d8576b"
             ],
             [
              0.6666666666666666,
              "#ed7953"
             ],
             [
              0.7777777777777778,
              "#fb9f3a"
             ],
             [
              0.8888888888888888,
              "#fdca26"
             ],
             [
              1,
              "#f0f921"
             ]
            ],
            "type": "histogram2dcontour"
           }
          ],
          "mesh3d": [
           {
            "colorbar": {
             "outlinewidth": 0,
             "ticks": ""
            },
            "type": "mesh3d"
           }
          ],
          "parcoords": [
           {
            "line": {
             "colorbar": {
              "outlinewidth": 0,
              "ticks": ""
             }
            },
            "type": "parcoords"
           }
          ],
          "pie": [
           {
            "automargin": true,
            "type": "pie"
           }
          ],
          "scatter": [
           {
            "fillpattern": {
             "fillmode": "overlay",
             "size": 10,
             "solidity": 0.2
            },
            "type": "scatter"
           }
          ],
          "scatter3d": [
           {
            "line": {
             "colorbar": {
              "outlinewidth": 0,
              "ticks": ""
             }
            },
            "marker": {
             "colorbar": {
              "outlinewidth": 0,
              "ticks": ""
             }
            },
            "type": "scatter3d"
           }
          ],
          "scattercarpet": [
           {
            "marker": {
             "colorbar": {
              "outlinewidth": 0,
              "ticks": ""
             }
            },
            "type": "scattercarpet"
           }
          ],
          "scattergeo": [
           {
            "marker": {
             "colorbar": {
              "outlinewidth": 0,
              "ticks": ""
             }
            },
            "type": "scattergeo"
           }
          ],
          "scattergl": [
           {
            "marker": {
             "colorbar": {
              "outlinewidth": 0,
              "ticks": ""
             }
            },
            "type": "scattergl"
           }
          ],
          "scattermap": [
           {
            "marker": {
             "colorbar": {
              "outlinewidth": 0,
              "ticks": ""
             }
            },
            "type": "scattermap"
           }
          ],
          "scattermapbox": [
           {
            "marker": {
             "colorbar": {
              "outlinewidth": 0,
              "ticks": ""
             }
            },
            "type": "scattermapbox"
           }
          ],
          "scatterpolar": [
           {
            "marker": {
             "colorbar": {
              "outlinewidth": 0,
              "ticks": ""
             }
            },
            "type": "scatterpolar"
           }
          ],
          "scatterpolargl": [
           {
            "marker": {
             "colorbar": {
              "outlinewidth": 0,
              "ticks": ""
             }
            },
            "type": "scatterpolargl"
           }
          ],
          "scatterternary": [
           {
            "marker": {
             "colorbar": {
              "outlinewidth": 0,
              "ticks": ""
             }
            },
            "type": "scatterternary"
           }
          ],
          "surface": [
           {
            "colorbar": {
             "outlinewidth": 0,
             "ticks": ""
            },
            "colorscale": [
             [
              0,
              "#0d0887"
             ],
             [
              0.1111111111111111,
              "#46039f"
             ],
             [
              0.2222222222222222,
              "#7201a8"
             ],
             [
              0.3333333333333333,
              "#9c179e"
             ],
             [
              0.4444444444444444,
              "#bd3786"
             ],
             [
              0.5555555555555556,
              "#d8576b"
             ],
             [
              0.6666666666666666,
              "#ed7953"
             ],
             [
              0.7777777777777778,
              "#fb9f3a"
             ],
             [
              0.8888888888888888,
              "#fdca26"
             ],
             [
              1,
              "#f0f921"
             ]
            ],
            "type": "surface"
           }
          ],
          "table": [
           {
            "cells": {
             "fill": {
              "color": "#EBF0F8"
             },
             "line": {
              "color": "white"
             }
            },
            "header": {
             "fill": {
              "color": "#C8D4E3"
             },
             "line": {
              "color": "white"
             }
            },
            "type": "table"
           }
          ]
         },
         "layout": {
          "annotationdefaults": {
           "arrowcolor": "#2a3f5f",
           "arrowhead": 0,
           "arrowwidth": 1
          },
          "autotypenumbers": "strict",
          "coloraxis": {
           "colorbar": {
            "outlinewidth": 0,
            "ticks": ""
           }
          },
          "colorscale": {
           "diverging": [
            [
             0,
             "#8e0152"
            ],
            [
             0.1,
             "#c51b7d"
            ],
            [
             0.2,
             "#de77ae"
            ],
            [
             0.3,
             "#f1b6da"
            ],
            [
             0.4,
             "#fde0ef"
            ],
            [
             0.5,
             "#f7f7f7"
            ],
            [
             0.6,
             "#e6f5d0"
            ],
            [
             0.7,
             "#b8e186"
            ],
            [
             0.8,
             "#7fbc41"
            ],
            [
             0.9,
             "#4d9221"
            ],
            [
             1,
             "#276419"
            ]
           ],
           "sequential": [
            [
             0,
             "#0d0887"
            ],
            [
             0.1111111111111111,
             "#46039f"
            ],
            [
             0.2222222222222222,
             "#7201a8"
            ],
            [
             0.3333333333333333,
             "#9c179e"
            ],
            [
             0.4444444444444444,
             "#bd3786"
            ],
            [
             0.5555555555555556,
             "#d8576b"
            ],
            [
             0.6666666666666666,
             "#ed7953"
            ],
            [
             0.7777777777777778,
             "#fb9f3a"
            ],
            [
             0.8888888888888888,
             "#fdca26"
            ],
            [
             1,
             "#f0f921"
            ]
           ],
           "sequentialminus": [
            [
             0,
             "#0d0887"
            ],
            [
             0.1111111111111111,
             "#46039f"
            ],
            [
             0.2222222222222222,
             "#7201a8"
            ],
            [
             0.3333333333333333,
             "#9c179e"
            ],
            [
             0.4444444444444444,
             "#bd3786"
            ],
            [
             0.5555555555555556,
             "#d8576b"
            ],
            [
             0.6666666666666666,
             "#ed7953"
            ],
            [
             0.7777777777777778,
             "#fb9f3a"
            ],
            [
             0.8888888888888888,
             "#fdca26"
            ],
            [
             1,
             "#f0f921"
            ]
           ]
          },
          "colorway": [
           "#636efa",
           "#EF553B",
           "#00cc96",
           "#ab63fa",
           "#FFA15A",
           "#19d3f3",
           "#FF6692",
           "#B6E880",
           "#FF97FF",
           "#FECB52"
          ],
          "font": {
           "color": "#2a3f5f"
          },
          "geo": {
           "bgcolor": "white",
           "lakecolor": "white",
           "landcolor": "#E5ECF6",
           "showlakes": true,
           "showland": true,
           "subunitcolor": "white"
          },
          "hoverlabel": {
           "align": "left"
          },
          "hovermode": "closest",
          "mapbox": {
           "style": "light"
          },
          "paper_bgcolor": "white",
          "plot_bgcolor": "#E5ECF6",
          "polar": {
           "angularaxis": {
            "gridcolor": "white",
            "linecolor": "white",
            "ticks": ""
           },
           "bgcolor": "#E5ECF6",
           "radialaxis": {
            "gridcolor": "white",
            "linecolor": "white",
            "ticks": ""
           }
          },
          "scene": {
           "xaxis": {
            "backgroundcolor": "#E5ECF6",
            "gridcolor": "white",
            "gridwidth": 2,
            "linecolor": "white",
            "showbackground": true,
            "ticks": "",
            "zerolinecolor": "white"
           },
           "yaxis": {
            "backgroundcolor": "#E5ECF6",
            "gridcolor": "white",
            "gridwidth": 2,
            "linecolor": "white",
            "showbackground": true,
            "ticks": "",
            "zerolinecolor": "white"
           },
           "zaxis": {
            "backgroundcolor": "#E5ECF6",
            "gridcolor": "white",
            "gridwidth": 2,
            "linecolor": "white",
            "showbackground": true,
            "ticks": "",
            "zerolinecolor": "white"
           }
          },
          "shapedefaults": {
           "line": {
            "color": "#2a3f5f"
           }
          },
          "ternary": {
           "aaxis": {
            "gridcolor": "white",
            "linecolor": "white",
            "ticks": ""
           },
           "baxis": {
            "gridcolor": "white",
            "linecolor": "white",
            "ticks": ""
           },
           "bgcolor": "#E5ECF6",
           "caxis": {
            "gridcolor": "white",
            "linecolor": "white",
            "ticks": ""
           }
          },
          "title": {
           "x": 0.05
          },
          "xaxis": {
           "automargin": true,
           "gridcolor": "white",
           "linecolor": "white",
           "ticks": "",
           "title": {
            "standoff": 15
           },
           "zerolinecolor": "white",
           "zerolinewidth": 2
          },
          "yaxis": {
           "automargin": true,
           "gridcolor": "white",
           "linecolor": "white",
           "ticks": "",
           "title": {
            "standoff": 15
           },
           "zerolinecolor": "white",
           "zerolinewidth": 2
          }
         }
        },
        "title": {
         "text": "Plot of λ vs θ"
        },
        "width": 800,
        "xaxis": {
         "title": {
          "text": "λ"
         }
        },
        "yaxis": {
         "title": {
          "text": "θ"
         }
        }
       }
      }
     },
     "metadata": {},
     "output_type": "display_data"
    }
   ],
   "source": [
    "fig = go.Figure()\n",
    "colors = px.colors.sequential.Turbo\n",
    "\n",
    "for i in range(6):\n",
    "    filename = f'./data/C{i}.dat'\n",
    "    data = pd.read_csv(filename, sep='\\t', header=None, skiprows=1)\n",
    "    data.columns = ['λ', 'θ']\n",
    "    data['λ'] = data['λ'].astype(float)\n",
    "    data['θ'] = data['θ'].astype(float)\n",
    "    fig.add_trace(go.Scatter(x=data['λ'], y=data['θ'], mode='lines',line_color=colors[i+9], name=f'C{i}'))\n",
    "\n",
    "fig.update_layout(title='Plot of λ vs θ',\n",
    "                  width=800,\n",
    "                    height=600,\n",
    "                  xaxis_title='λ',\n",
    "                  yaxis_title='θ',\n",
    "                  legend_title='Dataset')\n",
    "fig.show()\n"
   ]
  }
 ],
 "metadata": {
  "kernelspec": {
   "display_name": "Python 3",
   "language": "python",
   "name": "python3"
  },
  "language_info": {
   "codemirror_mode": {
    "name": "ipython",
    "version": 3
   },
   "file_extension": ".py",
   "mimetype": "text/x-python",
   "name": "python",
   "nbconvert_exporter": "python",
   "pygments_lexer": "ipython3",
   "version": "3.13.0"
  }
 },
 "nbformat": 4,
 "nbformat_minor": 5
}
